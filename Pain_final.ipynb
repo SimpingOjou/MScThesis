{
 "cells": [
  {
   "cell_type": "code",
   "execution_count": 1,
   "id": "ef0a7c6a",
   "metadata": {},
   "outputs": [],
   "source": [
    "import os\n",
    "import pandas as pd\n",
    "import numpy as np\n",
    "import plotly.express as px\n",
    "import pingouin as pg\n",
    "import scikit_posthocs as sp\n",
    "\n",
    "from plotly import graph_objects as go\n",
    "from plotly.subplots import make_subplots\n",
    "from itertools import combinations\n",
    "from scipy.stats import f_oneway, kruskal, ttest_ind, shapiro, mannwhitneyu, levene\n",
    "from matplotlib_venn import venn2,venn2_circles\n",
    "from matplotlib import pyplot as plt\n",
    "\n",
    "## Directories and constants\n",
    "FIGURES_DIR = './figures/Pain'\n",
    "MODELS_DIR = './src/models'\n",
    "DATA_DIR = '/home/filthyweeb/Documents/SeriousStuff/Work/MScThesis/csv/Pain_Plot_Features'\n",
    "MEAN_FEATURES_FILE = './csv/Pain_hindlimb_mouse_features_2025-06-22_21-53-52.csv' # updated means and circular means\n",
    "FORELIMB_MEANS_FILE = './csv/Pain_forelimb_mouse_features_2025-06-22_21-53-53.csv' # updated means and circular means\n",
    "# MEAN_FEATURES_FILE = './csv/SCI_pre_acute_hindlimb_mouse_features_2025-06-06_15-11-59.csv'\n",
    "# MEAN_FEATURES_FILE = './csv/sideview_hindlimb_mouse_features_new_H.csv'\n",
    "HEALTHY_KEY = 'pre'\n",
    "SICK_KEY = 'post'\n",
    "CONTROL_KEY = 'C_'\n",
    "SECONDARY_CONTROL_KEY = 'A_'\n",
    "VIRUS_CONTROL_KEY = 'B_'\n",
    "TREATMENT_CONTROL_KEY = 'E_'\n",
    "SECONDARY_TREATMENT_KEY = 'D_'\n",
    "SIDE_KEY = ('left','right')\n",
    "\n",
    "## Treatments: E-D\n",
    "## Controls: B-C\n",
    "\n",
    "## C-B to check if virus is doing something or is it the lesion\n",
    "## A should be similar to C\n",
    "\n",
    "### Functions for statistical testing\n",
    "def is_circular_feature(name):\n",
    "    name = name.lower()\n",
    "    return (('angle' in name or 'phase' in name) and 'excursion' not in name and 'std' not in name)\n",
    "\n",
    "def circular_surrogate_test(values1, values2):\n",
    "    \"\"\"Approximate test for circular data by comparing cosine and sine projections. Input in radiants\"\"\"\n",
    "    cos1, sin1 = np.cos(values1), np.sin(values1)\n",
    "    cos2, sin2 = np.cos(values2), np.sin(values2)\n",
    "\n",
    "    _, p_cos = ttest_ind(cos1, cos2, equal_var=False)\n",
    "    _, p_sin = ttest_ind(sin1, sin2, equal_var=False)\n",
    "\n",
    "    min_p = min(p_cos, p_sin)\n",
    "    axis = 'cos' if p_cos < p_sin else 'sin'\n",
    "\n",
    "    return min_p, axis\n",
    "\n",
    "def significance_stars(p):\n",
    "    if p < 0.001:\n",
    "        return '***'\n",
    "    elif p < 0.01:\n",
    "        return '**'\n",
    "    elif p < 0.05:\n",
    "        return '*'\n",
    "    else:\n",
    "        return 'n.s.'\n",
    "\n",
    "def bonferroni_correct(p, n=3):\n",
    "    return min(p * n, 1.0)\n",
    "\n",
    "def compare_feature_sets(group1, group2, group1_name='group1', group2_name='group2'):\n",
    "    results = []\n",
    "    common_features = set(group1.columns).intersection(set(group2.columns))\n",
    "    common_features = [f for f in common_features if f != 'Dataset' and f != 'Mouse']\n",
    "\n",
    "    for feature in sorted(common_features):\n",
    "        test = ''\n",
    "        g1 = group1[feature].dropna()\n",
    "        g2 = group2[feature].dropna()\n",
    "\n",
    "        n1 = len(g1)\n",
    "        n2 = len(g2)\n",
    "\n",
    "        if n1 < 3 or n2 < 3:\n",
    "            continue  # skip features with too few samples\n",
    "\n",
    "        circular = is_circular_feature(feature)\n",
    "\n",
    "        # Compute basic stats\n",
    "        mean1 = np.mean(g1)\n",
    "        std1 = np.std(g1, ddof=1)\n",
    "        mean2 = np.mean(g2)\n",
    "        std2 = np.std(g2, ddof=1)\n",
    "\n",
    "        # Statistical testing\n",
    "        if circular:\n",
    "            test = 'Circular'\n",
    "            try:\n",
    "                # pycircstat expects radians\n",
    "                if '°' in feature: \n",
    "                    g1 = np.deg2rad(g1)\n",
    "                    g2 = np.deg2rad(g2)\n",
    "                pval, _ = circular_surrogate_test(g1, g2)\n",
    "            except Exception:\n",
    "                pval = np.nan\n",
    "        elif 'std' in feature.lower():\n",
    "            test = 'Levene'\n",
    "            stat, pval = levene(g1, g2)\n",
    "        else:\n",
    "            # Normality check\n",
    "            norm1 = shapiro(g1).pvalue > 0.05\n",
    "            norm2 = shapiro(g2).pvalue > 0.05\n",
    "\n",
    "            if norm1 and norm2:\n",
    "                test = 'T-test'\n",
    "                _, pval = ttest_ind(g1, g2, equal_var=False)\n",
    "            else:\n",
    "                test = 'Mann-Whitney U'\n",
    "                _, pval = mannwhitneyu(g1, g2, alternative='two-sided')\n",
    "\n",
    "        sig = significance_stars(pval)\n",
    "\n",
    "        results.append({\n",
    "            'Feature': feature,\n",
    "            f'Mean {group1_name}': mean1,\n",
    "            f'SD {group1_name}': std1,\n",
    "            f'Mean {group2_name}': mean2,\n",
    "            f'SD {group2_name}': std2,\n",
    "            f'Number of samples in {group1_name}': n1,\n",
    "            f'Number of samples in {group2_name}': n2,\n",
    "            f'p-value {group1_name} vs {group2_name}': pval,\n",
    "            'Significance': sig,\n",
    "            'Statistical Test': test\n",
    "        })\n",
    "\n",
    "    return pd.DataFrame(results)\n",
    "\n",
    "def compare_multiple_groups(group_dict):\n",
    "    \"\"\"\n",
    "    group_dict: dict with keys as group names (e.g., 'H', 'S', 'T')\n",
    "                and values as DataFrames with same features\n",
    "    \"\"\"\n",
    "    group_nbr = len(group_dict)\n",
    "    results = []\n",
    "    feature_set = set.intersection(*(set(df.columns) for df in group_dict.values()))\n",
    "    feature_set = [f for f in feature_set if f != 'Dataset' and f != 'Mouse']\n",
    "    group_names = list(group_dict.keys())\n",
    "\n",
    "    for feature in sorted(feature_set):\n",
    "        group_data = {g: df[feature].dropna() for g, df in group_dict.items()}\n",
    "        sample_sizes = {g: len(vals) for g, vals in group_data.items()}\n",
    "\n",
    "        if any(n < 3 for n in sample_sizes.values()):\n",
    "            continue  # skip if any group has <3 samples\n",
    "\n",
    "        circular = is_circular_feature(feature)\n",
    "        summary_stats = {\n",
    "            f\"Mean {g}\": np.mean(vals)\n",
    "            for g, vals in group_data.items()\n",
    "        }\n",
    "        summary_stats.update({\n",
    "            f\"SD {g}\": np.std(vals, ddof=1)\n",
    "            for g, vals in group_data.items()\n",
    "        })\n",
    "        summary_stats.update({\n",
    "            f\"Number of samples in {g}\": len(vals)\n",
    "            for g, vals in group_data.items()\n",
    "        })\n",
    "\n",
    "        # Global test\n",
    "        pval_global = np.nan\n",
    "        posthoc_matrix = {}\n",
    "\n",
    "        all_vals = []\n",
    "        labels = []\n",
    "        for g in group_names:\n",
    "            v = group_data[g]\n",
    "            v = np.deg2rad(v) if '°' in feature else v\n",
    "            labels.extend([g]*len(v))\n",
    "            all_vals.extend(v)\n",
    "        all_df = pd.DataFrame({'value': all_vals, 'group': labels})\n",
    "\n",
    "        if circular:\n",
    "            ## Global p-value circular\n",
    "            cos_groups = [np.cos(np.deg2rad(group_data[g])) for g in group_names]\n",
    "            sin_groups = [np.sin(np.deg2rad(group_data[g])) for g in group_names]\n",
    "            f_cos, p_cos = f_oneway(*cos_groups)\n",
    "            f_sin, p_sin = f_oneway(*sin_groups)\n",
    "            pval_global = min(p_cos, p_sin)\n",
    "            test_used = \"Circular\"\n",
    "\n",
    "            for g1, g2 in combinations(group_names, 2):\n",
    "                p, _ = circular_surrogate_test(group_data[g1], group_data[g2])\n",
    "                posthoc_matrix[(g1, g2)] = bonferroni_correct(p, group_nbr)\n",
    "        elif 'std' in feature.lower():\n",
    "            stat, pval_global = levene(*(group_data[g] for g in group_names))\n",
    "            test_used = \"Levene\"\n",
    "            for g1, g2 in combinations(group_names, 2):\n",
    "                stat, p = levene(group_data[g1], group_data[g2])\n",
    "                posthoc_matrix[(g1, g2)] = bonferroni_correct(p, group_nbr)\n",
    "        else:\n",
    "            # Check normality\n",
    "            normal_flags = {\n",
    "                g: shapiro(group_data[g]).pvalue > 0.05\n",
    "                for g in group_names\n",
    "            }\n",
    "\n",
    "            if all(normal_flags.values()):\n",
    "                pval_global = f_oneway(*group_data.values()).pvalue\n",
    "                test_used = \"ANOVA\"\n",
    "\n",
    "                posthoc = pg.pairwise_tests(\n",
    "                    data=all_df,\n",
    "                    dv='value',\n",
    "                    between='group',\n",
    "                    padjust='bonf',   # Bonferroni correction\n",
    "                    alpha=0.05\n",
    "                )\n",
    "\n",
    "                # Pairwise t-tests\n",
    "                for g1, g2 in combinations(group_names, 2):\n",
    "                    match = posthoc[\n",
    "                        ((posthoc['A'] == g1) & (posthoc['B'] == g2)) |\n",
    "                        ((posthoc['A'] == g2) & (posthoc['B'] == g1))\n",
    "                    ]\n",
    "                    if not match.empty:\n",
    "                        p = match.iloc[0]['p-corr']\n",
    "                        posthoc_matrix[(g1, g2)] = p\n",
    "\n",
    "            else:\n",
    "                pval_global = kruskal(*group_data.values()).pvalue\n",
    "                test_used = \"Kruskal-Wallis\"\n",
    "                # scikit-posthocs needs long-format DataFrame\n",
    "                posthoc = sp.posthoc_dunn(all_df, val_col='value', group_col='group', p_adjust='bonferroni')\n",
    "                for g1, g2 in combinations(group_names, 2):\n",
    "                    p = posthoc.loc[g1, g2]\n",
    "                    posthoc_matrix[(g1, g2)] = p\n",
    "\n",
    "        # Store pairwise comparisons\n",
    "        row = {\n",
    "            'Feature': feature,\n",
    "            'Statistical Test': test_used,\n",
    "            'Global p-value': pval_global,\n",
    "            'Global significance': significance_stars(pval_global)\n",
    "        }\n",
    "\n",
    "        # Add group-wise stats\n",
    "        for g in group_names:\n",
    "            row[f'Mean {g}'] = summary_stats[f'Mean {g}']\n",
    "            row[f'SD {g}'] = summary_stats[f'SD {g}']\n",
    "            row[f'Number of samples in {g}'] = summary_stats[f'Number of samples in {g}']\n",
    "\n",
    "        # Add pairwise p-values\n",
    "        for g1, g2 in combinations(group_names, 2):\n",
    "            p = posthoc_matrix.get((g1, g2), np.nan)\n",
    "            row[f'p-value {g1} vs {g2}'] = p\n",
    "            row[f'Significance {g1} vs {g2}'] = significance_stars(p)\n",
    "\n",
    "        results.append(row)\n",
    "\n",
    "    return pd.DataFrame(results)"
   ]
  },
  {
   "cell_type": "code",
   "execution_count": 2,
   "id": "ffbda0b5",
   "metadata": {},
   "outputs": [
    {
     "name": "stdout",
     "output_type": "stream",
     "text": [
      "Number of hindlimb features: 2679\n",
      "Number of forelimb features: 2679\n"
     ]
    },
    {
     "name": "stderr",
     "output_type": "stream",
     "text": [
      "/tmp/ipykernel_114291/41367219.py:18: UserWarning: This pattern is interpreted as a regular expression, and has match groups. To actually get the groups, use str.extract.\n",
      "  hindlimb_features_df = hindlimb_features_df[hindlimb_features_df.columns[~hindlimb_features_df.columns.str.contains('(#)|steps std')]]\n",
      "/tmp/ipykernel_114291/41367219.py:19: UserWarning: This pattern is interpreted as a regular expression, and has match groups. To actually get the groups, use str.extract.\n",
      "  forelimb_features_df = forelimb_features_df[forelimb_features_df.columns[~forelimb_features_df.columns.str.contains('(#)|steps std')]]\n",
      "/tmp/ipykernel_114291/41367219.py:22: UserWarning: This pattern is interpreted as a regular expression, and has match groups. To actually get the groups, use str.extract.\n",
      "  angular_during_cols = hindlimb_features_df.columns[hindlimb_features_df.columns.str.contains('(°)')]\n"
     ]
    }
   ],
   "source": [
    "# Example inputs: update as needed\n",
    "experimental_groups = ['A', 'B', 'C', 'D', 'E']\n",
    "sides = {'left': SIDE_KEY[0].lower(), 'right': SIDE_KEY[1].lower()}\n",
    "health_statuses = {'healthy': HEALTHY_KEY.lower(), 'sick': SICK_KEY.lower()}\n",
    "run_types = {\n",
    "    'A': SECONDARY_CONTROL_KEY.lower(),\n",
    "    'B': VIRUS_CONTROL_KEY.lower(),\n",
    "    'C': CONTROL_KEY.lower(),\n",
    "    'D': SECONDARY_TREATMENT_KEY.lower(),\n",
    "    'E': TREATMENT_CONTROL_KEY.lower()\n",
    "}\n",
    "\n",
    "# Load data\n",
    "hindlimb_features_df = pd.read_csv(MEAN_FEATURES_FILE)\n",
    "forelimb_features_df = pd.read_csv(FORELIMB_MEANS_FILE) \n",
    "\n",
    "# filter number of runs and number of steps\n",
    "hindlimb_features_df = hindlimb_features_df[hindlimb_features_df.columns[~hindlimb_features_df.columns.str.contains('(#)|steps std')]]\n",
    "forelimb_features_df = forelimb_features_df[forelimb_features_df.columns[~forelimb_features_df.columns.str.contains('(#)|steps std')]]\n",
    "\n",
    "# Angular during columns should be set to degrees from radiants\n",
    "angular_during_cols = hindlimb_features_df.columns[hindlimb_features_df.columns.str.contains('(°)')]\n",
    "angular_during_cols = angular_during_cols[angular_during_cols.str.contains('during')]\n",
    "hindlimb_features_df[angular_during_cols] = hindlimb_features_df[angular_during_cols].apply(np.degrees)\n",
    "\n",
    "# Container for all feature subsets\n",
    "feature_subsets = {\n",
    "    'hindlimb': {},\n",
    "    'forelimb': {}\n",
    "}\n",
    "\n",
    "# General function for filtering\n",
    "def filter_features(df, health_key, run_key, side_key):\n",
    "    return df[\n",
    "        df['Dataset'].str.lower().str.contains(health_key) &\n",
    "        df['Dataset'].str.lower().str.contains(run_key) &\n",
    "        df['Mouse'].str.lower().str.contains(side_key)\n",
    "    ]\n",
    "\n",
    "# Generate subsets\n",
    "for run_code in experimental_groups:\n",
    "    run_key = run_types.get(run_code)\n",
    "    if not run_key:\n",
    "        continue  # skip undefined keys\n",
    "\n",
    "    for health_label, health_key in health_statuses.items():\n",
    "        for side_label, side_key in sides.items():\n",
    "            name = f\"{health_label}_{side_label}_{run_code}_run\"\n",
    "\n",
    "            feature_subsets['hindlimb'][name] = filter_features(hindlimb_features_df, health_key, run_key, side_key)\n",
    "            feature_subsets['forelimb'][name] = filter_features(forelimb_features_df, health_key, run_key, side_key)\n",
    "\n",
    "# Example usage\n",
    "print(f\"Number of hindlimb features: {hindlimb_features_df.shape[1]-3}\")\n",
    "print(f\"Number of forelimb features: {forelimb_features_df.shape[1]-3}\")\n",
    "\n",
    "# Access a subset:\n",
    "# feature_subsets['hindlimb']['healthy_left_c_run']\n",
    "# print(hindlimb_features_df['Dataset'].unique(), hindlimb_features_df['Mouse'].unique())"
   ]
  },
  {
   "cell_type": "code",
   "execution_count": 3,
   "id": "ea83de48",
   "metadata": {},
   "outputs": [
    {
     "name": "stdout",
     "output_type": "stream",
     "text": [
      "[DEBUG] Dataset Label Map: {0: 'A_postDLC', 1: 'A_preDLC', 2: 'B_postDLC', 3: 'B_preDLC', 4: 'C_postDLC', 5: 'C_preDLC', 6: 'D_postDLC', 7: 'D_preDLC', 8: 'E_postDLC', 9: 'E_preDLC'}\n",
      "[DEBUG] Mouse Label Map: {10: 'mouse1_left', 21: 'mouse2_left', 32: 'mouse3_left', 43: 'mouse4_left', 45: 'mouse5_left', 46: 'mouse6_left', 47: 'mouse7_left', 48: 'mouse8_left', 49: 'mouse9_left', 0: 'mouse10_left', 1: 'mouse11_left', 2: 'mouse12_left', 3: 'mouse13_left', 4: 'mouse14_left', 5: 'mouse15_left', 6: 'mouse16_left', 7: 'mouse17_left', 8: 'mouse18_left', 9: 'mouse19_left', 11: 'mouse20_left', 12: 'mouse21_left', 13: 'mouse22_left', 14: 'mouse23_left', 15: 'mouse24_left', 16: 'mouse25_left', 17: 'mouse26_left', 18: 'mouse27_left', 19: 'mouse28_left', 20: 'mouse29_left', 22: 'mouse30_left', 23: 'mouse31_left', 24: 'mouse32_left', 25: 'mouse33_left', 26: 'mouse34_left', 27: 'mouse35_left', 28: 'mouse36_left', 29: 'mouse37_left', 30: 'mouse38_left', 31: 'mouse39_left', 33: 'mouse40_left', 35: 'mouse42_left', 44: 'mouse50_left', 34: 'mouse41_left', 36: 'mouse43_left', 37: 'mouse44_left', 38: 'mouse45_left', 39: 'mouse46_left', 40: 'mouse47_left', 41: 'mouse48_left', 42: 'mouse49_left'}\n"
     ]
    },
    {
     "name": "stderr",
     "output_type": "stream",
     "text": [
      "/home/filthyweeb/Documents/SeriousStuff/Work/KU/MScThesis/.venv/lib64/python3.13/site-packages/sklearn/utils/deprecation.py:151: FutureWarning: 'force_all_finite' was renamed to 'ensure_all_finite' in 1.6 and will be removed in 1.8.\n",
      "  warnings.warn(\n",
      "/home/filthyweeb/Documents/SeriousStuff/Work/KU/MScThesis/.venv/lib64/python3.13/site-packages/umap/umap_.py:1952: UserWarning: n_jobs value 1 overridden to 1 by setting random_state. Use no seed for parallelism.\n",
      "  warn(\n",
      "/home/filthyweeb/Documents/SeriousStuff/Work/KU/MScThesis/.venv/lib64/python3.13/site-packages/sklearn/utils/deprecation.py:151: FutureWarning: 'force_all_finite' was renamed to 'ensure_all_finite' in 1.6 and will be removed in 1.8.\n",
      "  warnings.warn(\n"
     ]
    }
   ],
   "source": [
    "### UMAP\n",
    "from sklearn.preprocessing import LabelEncoder\n",
    "from sklearn.preprocessing import StandardScaler\n",
    "\n",
    "from src.pain_analysis import perform_dimensionality_reduction, aggregate_features\n",
    "\n",
    "def preprocess_data(df: pd.DataFrame):\n",
    "    data = df.copy()\n",
    "\n",
    "    label_encoder_dataset = LabelEncoder()\n",
    "    label_encoder_mouse = LabelEncoder()\n",
    "\n",
    "    data[\"Dataset_Encoded\"] = label_encoder_dataset.fit_transform(data[\"Dataset\"])\n",
    "    data[\"Mouse_Encoded\"] = label_encoder_mouse.fit_transform(data[\"Mouse\"])\n",
    "\n",
    "    dataset_label_map = dict(zip(data[\"Dataset_Encoded\"], data[\"Dataset\"]))\n",
    "    mouse_label_map = dict(zip(data[\"Mouse_Encoded\"], data[\"Mouse\"]))\n",
    "    label_cols = [\"Dataset_Encoded\", \"Mouse_Encoded\"]\n",
    "\n",
    "    data = data.drop(columns=[\"Dataset\", \"Mouse\"])\n",
    "    features = [col for col in data.columns if col not in label_cols]\n",
    "\n",
    "    ## Convert angle features to radians if they contain '°'\n",
    "    angular_features = [f for f in features if ('angle' in f.lower() or 'phase' in f.lower())\n",
    "                        and 'excursion' not in f.lower()\n",
    "                        and not f.lower().endswith('_sin')\n",
    "                        and not f.lower().endswith('_cos')]\n",
    "    for feature in angular_features:\n",
    "        if '°' in feature:\n",
    "            data[feature] = np.deg2rad(data[feature])\n",
    "\n",
    "    ## Linearize angular features\n",
    "    trig_features = {\n",
    "        f\"{feature}_cos\": np.cos(data[feature]) for feature in angular_features\n",
    "    }\n",
    "    trig_features.update({\n",
    "        f\"{feature}_sin\": np.sin(data[feature]) for feature in angular_features\n",
    "    })\n",
    "    trig_df = pd.DataFrame(trig_features, index=data.index)    \n",
    "    data = pd.concat([data.drop(columns=angular_features), trig_df], axis=1)\n",
    "    features = [col for col in data.columns if col not in label_cols]   \n",
    "\n",
    "    ## Scale features\n",
    "    scaler = StandardScaler()#RobustScaler()\n",
    "    X_scaled = scaler.fit_transform(data[features])\n",
    "    y = data[label_cols].values\n",
    "\n",
    "    df_preprocessed = pd.DataFrame(X_scaled, columns=features)\n",
    "    df_preprocessed[label_cols] = y\n",
    "\n",
    "    print(\"[DEBUG] Dataset Label Map:\", dataset_label_map)\n",
    "    print(\"[DEBUG] Mouse Label Map:\", mouse_label_map)\n",
    "\n",
    "    return df_preprocessed, dataset_label_map, mouse_label_map, label_cols\n",
    "\n",
    "features_df = hindlimb_features_df[hindlimb_features_df['Mouse'].str.lower().str.contains('left')]\n",
    "preprocessed_data, dataset_label_map, mouse_label_map, label_cols = preprocess_data(features_df)\n",
    "\n",
    "X_agg, y_mouse, y_dataset = aggregate_features(preprocessed_data, label_cols, method=\"median\")\n",
    "\n",
    "umap_reducer, umap_plot_df = perform_dimensionality_reduction(\n",
    "        X_agg, y_mouse, y_dataset,\n",
    "        dataset_label_map, mouse_label_map,\n",
    "        method=\"UMAP\", n_components=3,\n",
    "        target_metric='categorical',\n",
    "        target_weight=0,\n",
    "        n_neighbors=15,\n",
    "        min_dist=0.05,\n",
    "        plot=False, save=False\n",
    "    )"
   ]
  },
  {
   "cell_type": "code",
   "execution_count": 4,
   "id": "5b474c91",
   "metadata": {},
   "outputs": [
    {
     "data": {
      "application/vnd.plotly.v1+json": {
       "config": {
        "plotlyServerURL": "https://plot.ly"
       },
       "data": [
        {
         "customdata": {
          "bdata": "AAAACgAVACAAKwAtAC4ALwAwADE=",
          "dtype": "i1",
          "shape": "10, 2"
         },
         "hovertemplate": "<b>%{hovertext}</b><br><br>DatasetName=A_postDLC<br>UMAP1=%{x}<br>UMAP2=%{y}<br>UMAP3=%{z}<br>Dataset=%{customdata[0]}<br>Mouse=%{customdata[1]}<extra></extra>",
         "hovertext": [
          "mouse10_left",
          "mouse1_left",
          "mouse2_left",
          "mouse3_left",
          "mouse4_left",
          "mouse5_left",
          "mouse6_left",
          "mouse7_left",
          "mouse8_left",
          "mouse9_left"
         ],
         "legendgroup": "A_postDLC",
         "marker": {
          "color": "#636EFA",
          "line": {
           "color": "black",
           "width": 0.3
          },
          "size": 4,
          "symbol": "circle"
         },
         "mode": "markers",
         "name": "A_postDLC",
         "scene": "scene",
         "showlegend": true,
         "type": "scatter3d",
         "x": {
          "bdata": "Qjs4QPg+NkDfA50/OoQbQGT1wz892wlAhwAUQH2yvz/1wiFAZv8IQA==",
          "dtype": "f4"
         },
         "y": {
          "bdata": "y0uWQFfCoEB6XY5ADQKZQOpYlEAyd6ZA6mOcQFj3kkBBzZFAHKaVQA==",
          "dtype": "f4"
         },
         "z": {
          "bdata": "7nZIQXhwRUHnfUNBWQxCQYOFQUHW90VBa7VCQd+YQEHPMUdBYwU/QQ==",
          "dtype": "f4"
         }
        },
        {
         "customdata": {
          "bdata": "AQABCgEVASABKwEtAS4BLwEwATE=",
          "dtype": "i1",
          "shape": "10, 2"
         },
         "hovertemplate": "<b>%{hovertext}</b><br><br>DatasetName=A_preDLC<br>UMAP1=%{x}<br>UMAP2=%{y}<br>UMAP3=%{z}<br>Dataset=%{customdata[0]}<br>Mouse=%{customdata[1]}<extra></extra>",
         "hovertext": [
          "mouse10_left",
          "mouse1_left",
          "mouse2_left",
          "mouse3_left",
          "mouse4_left",
          "mouse5_left",
          "mouse6_left",
          "mouse7_left",
          "mouse8_left",
          "mouse9_left"
         ],
         "legendgroup": "A_preDLC",
         "marker": {
          "color": "#FF6692",
          "line": {
           "color": "black",
           "width": 0.3
          },
          "size": 4,
          "symbol": "circle"
         },
         "mode": "markers",
         "name": "A_preDLC",
         "scene": "scene",
         "showlegend": true,
         "type": "scatter3d",
         "x": {
          "bdata": "89N1P3rYHUDn3zE/oWRpPzcPMj+EKQ8/+49IP8FUKT/K9iJAB5oQPw==",
          "dtype": "f4"
         },
         "y": {
          "bdata": "+v2IQAPyikDan4RAGOh8QCsVeUCAq2ZATT5rQBlCYEDCbIdASAlcQA==",
          "dtype": "f4"
         },
         "z": {
          "bdata": "G/NHQch3XEFTR0lBybhQQfNVTUEwM1BB7YdRQRT9TkGoOFNBOcZRQQ==",
          "dtype": "f4"
         }
        },
        {
         "customdata": {
          "bdata": "AgECAgIDAgQCBQIGAgcCCAIJAgs=",
          "dtype": "i1",
          "shape": "10, 2"
         },
         "hovertemplate": "<b>%{hovertext}</b><br><br>DatasetName=B_postDLC<br>UMAP1=%{x}<br>UMAP2=%{y}<br>UMAP3=%{z}<br>Dataset=%{customdata[0]}<br>Mouse=%{customdata[1]}<extra></extra>",
         "hovertext": [
          "mouse11_left",
          "mouse12_left",
          "mouse13_left",
          "mouse14_left",
          "mouse15_left",
          "mouse16_left",
          "mouse17_left",
          "mouse18_left",
          "mouse19_left",
          "mouse20_left"
         ],
         "legendgroup": "B_postDLC",
         "marker": {
          "color": "#EF553B",
          "line": {
           "color": "black",
           "width": 0.3
          },
          "size": 4,
          "symbol": "circle"
         },
         "mode": "markers",
         "name": "B_postDLC",
         "scene": "scene",
         "showlegend": true,
         "type": "scatter3d",
         "x": {
          "bdata": "DgQhQIcVEEBZwTBA2WzVP//avj+x6QVAKsbEP5VsFECTcsk/9KvmPw==",
          "dtype": "f4"
         },
         "y": {
          "bdata": "nYGaQJ1VoEB4QLVA87yjQGQwnEDHMKdAVeGfQAPOoUB9+aBATjWqQA==",
          "dtype": "f4"
         },
         "z": {
          "bdata": "bsAvQUsRL0EpLUFBgaQrQSPUJkGGZzJB5VMoQYMoMkFoJilB4GsyQQ==",
          "dtype": "f4"
         }
        },
        {
         "customdata": {
          "bdata": "AwEDAgMDAwQDBQMGAwcDCAMJAws=",
          "dtype": "i1",
          "shape": "10, 2"
         },
         "hovertemplate": "<b>%{hovertext}</b><br><br>DatasetName=B_preDLC<br>UMAP1=%{x}<br>UMAP2=%{y}<br>UMAP3=%{z}<br>Dataset=%{customdata[0]}<br>Mouse=%{customdata[1]}<extra></extra>",
         "hovertext": [
          "mouse11_left",
          "mouse12_left",
          "mouse13_left",
          "mouse14_left",
          "mouse15_left",
          "mouse16_left",
          "mouse17_left",
          "mouse18_left",
          "mouse19_left",
          "mouse20_left"
         ],
         "legendgroup": "B_preDLC",
         "marker": {
          "color": "#B6E880",
          "line": {
           "color": "black",
           "width": 0.3
          },
          "size": 4,
          "symbol": "circle"
         },
         "mode": "markers",
         "name": "B_preDLC",
         "scene": "scene",
         "showlegend": true,
         "type": "scatter3d",
         "x": {
          "bdata": "gwDwP7vl7T9lrOo/nLzaP7quCUBsv+0/5EgIQOoH3z+RLQtAgfDCPw==",
          "dtype": "f4"
         },
         "y": {
          "bdata": "61CLQGLAcUD+RY5AEVqGQCzTo0AqNoNAw3tyQKPLaUAhBIhAhS1kQA==",
          "dtype": "f4"
         },
         "z": {
          "bdata": "MGFcQafcV0GyJ1tBov1PQWydXEGSuldBrEBTQXMWV0GMkF5BKkJUQQ==",
          "dtype": "f4"
         }
        },
        {
         "customdata": {
          "bdata": "BAwEDQQOBA8EEAQRBBIEEwQUBBY=",
          "dtype": "i1",
          "shape": "10, 2"
         },
         "hovertemplate": "<b>%{hovertext}</b><br><br>DatasetName=C_postDLC<br>UMAP1=%{x}<br>UMAP2=%{y}<br>UMAP3=%{z}<br>Dataset=%{customdata[0]}<br>Mouse=%{customdata[1]}<extra></extra>",
         "hovertext": [
          "mouse21_left",
          "mouse22_left",
          "mouse23_left",
          "mouse24_left",
          "mouse25_left",
          "mouse26_left",
          "mouse27_left",
          "mouse28_left",
          "mouse29_left",
          "mouse30_left"
         ],
         "legendgroup": "C_postDLC",
         "marker": {
          "color": "#00CC96",
          "line": {
           "color": "black",
           "width": 0.3
          },
          "size": 4,
          "symbol": "circle"
         },
         "mode": "markers",
         "name": "C_postDLC",
         "scene": "scene",
         "showlegend": true,
         "type": "scatter3d",
         "x": {
          "bdata": "nVwFQE33GUA8avk/tFsPQANzA0BrAhNAJ80JQNXUIkDYP/o/xWtDQA==",
          "dtype": "f4"
         },
         "y": {
          "bdata": "+ejIQJZ1vUAwDM1Ax5LAQOfhy0D3dsJAVIW6QHJGskCuScZAvWKTQA==",
          "dtype": "f4"
         },
         "z": {
          "bdata": "tjo7QYsSPEEXTUFBKFRAQZO+RUH4OjdB4bxAQb7uOkENuTlBhqhJQQ==",
          "dtype": "f4"
         }
        },
        {
         "customdata": {
          "bdata": "BQwFDQUOBQ8FEAURBRIFEwUUBRY=",
          "dtype": "i1",
          "shape": "10, 2"
         },
         "hovertemplate": "<b>%{hovertext}</b><br><br>DatasetName=C_preDLC<br>UMAP1=%{x}<br>UMAP2=%{y}<br>UMAP3=%{z}<br>Dataset=%{customdata[0]}<br>Mouse=%{customdata[1]}<extra></extra>",
         "hovertext": [
          "mouse21_left",
          "mouse22_left",
          "mouse23_left",
          "mouse24_left",
          "mouse25_left",
          "mouse26_left",
          "mouse27_left",
          "mouse28_left",
          "mouse29_left",
          "mouse30_left"
         ],
         "legendgroup": "C_preDLC",
         "marker": {
          "color": "#FF97FF",
          "line": {
           "color": "black",
           "width": 0.3
          },
          "size": 4,
          "symbol": "circle"
         },
         "mode": "markers",
         "name": "C_preDLC",
         "scene": "scene",
         "showlegend": true,
         "type": "scatter3d",
         "x": {
          "bdata": "nMI5QNR+I0BZhjNAmw0uQNvVNkBDDhVASSI1QHcHI0DbUCtAxzE7QA==",
          "dtype": "f4"
         },
         "y": {
          "bdata": "MyKEQHutlkAaAohAh3eSQC1Cb0ApC5dAU/WMQEdvm0BKmJBAflZ4QA==",
          "dtype": "f4"
         },
         "z": {
          "bdata": "gplZQQiVZEFtf1ZBLuVhQWSiV0Gb00xB5RdlQYzVYkHKQ2dBOqdYQQ==",
          "dtype": "f4"
         }
        },
        {
         "customdata": {
          "bdata": "BhcGGAYZBhoGGwYcBh0GHgYfBiE=",
          "dtype": "i1",
          "shape": "10, 2"
         },
         "hovertemplate": "<b>%{hovertext}</b><br><br>DatasetName=D_postDLC<br>UMAP1=%{x}<br>UMAP2=%{y}<br>UMAP3=%{z}<br>Dataset=%{customdata[0]}<br>Mouse=%{customdata[1]}<extra></extra>",
         "hovertext": [
          "mouse31_left",
          "mouse32_left",
          "mouse33_left",
          "mouse34_left",
          "mouse35_left",
          "mouse36_left",
          "mouse37_left",
          "mouse38_left",
          "mouse39_left",
          "mouse40_left"
         ],
         "legendgroup": "D_postDLC",
         "marker": {
          "color": "#AB63FA",
          "line": {
           "color": "black",
           "width": 0.3
          },
          "size": 4,
          "symbol": "circle"
         },
         "mode": "markers",
         "name": "D_postDLC",
         "scene": "scene",
         "showlegend": true,
         "type": "scatter3d",
         "x": {
          "bdata": "mIilP3yPej/W4q0/i6agPyx5oz+h7pQ/tWqfP4l4xD/AWGo/JRmFPw==",
          "dtype": "f4"
         },
         "y": {
          "bdata": "Nu+xQNaXuEC7bbJAdAm2QAS+t0DL47FA3jyxQEOSrUAnW7lAC4C6QA==",
          "dtype": "f4"
         },
         "z": {
          "bdata": "UIZRQcOuRkFlbDlBT1BPQZkuPUHW7kdBfMk2QWE3PUGaxkNBI7M/QQ==",
          "dtype": "f4"
         }
        },
        {
         "customdata": {
          "bdata": "BxcHGAcZBxoHGwccBx0HHgcfByEHIwcs",
          "dtype": "i1",
          "shape": "12, 2"
         },
         "hovertemplate": "<b>%{hovertext}</b><br><br>DatasetName=D_preDLC<br>UMAP1=%{x}<br>UMAP2=%{y}<br>UMAP3=%{z}<br>Dataset=%{customdata[0]}<br>Mouse=%{customdata[1]}<extra></extra>",
         "hovertext": [
          "mouse31_left",
          "mouse32_left",
          "mouse33_left",
          "mouse34_left",
          "mouse35_left",
          "mouse36_left",
          "mouse37_left",
          "mouse38_left",
          "mouse39_left",
          "mouse40_left",
          "mouse42_left",
          "mouse50_left"
         ],
         "legendgroup": "D_preDLC",
         "marker": {
          "color": "#FECB52",
          "line": {
           "color": "black",
           "width": 0.3
          },
          "size": 4,
          "symbol": "circle"
         },
         "mode": "markers",
         "name": "D_preDLC",
         "scene": "scene",
         "showlegend": true,
         "type": "scatter3d",
         "x": {
          "bdata": "orIkQCXFyD/Ni3I/DTokQDM2iT8ZPNY/OLVTP33VRT9ZcX0/8bUoQGHstz9i/dc/",
          "dtype": "f4"
         },
         "y": {
          "bdata": "SMdNQDq3kEC5f61A1+BQQAuhsUDInbBA5yivQBeGsUCskrJABOdOQAoYqECrz5xA",
          "dtype": "f4"
         },
         "z": {
          "bdata": "JchnQZzKVEGp22RBX9JmQYfRY0Eg91xBusdlQcs0Z0EBul9BFpNmQavgX0FCRVtB",
          "dtype": "f4"
         }
        },
        {
         "customdata": {
          "bdata": "CCIIIwgkCCUIJggnCCgIKQgqCCw=",
          "dtype": "i1",
          "shape": "10, 2"
         },
         "hovertemplate": "<b>%{hovertext}</b><br><br>DatasetName=E_postDLC<br>UMAP1=%{x}<br>UMAP2=%{y}<br>UMAP3=%{z}<br>Dataset=%{customdata[0]}<br>Mouse=%{customdata[1]}<extra></extra>",
         "hovertext": [
          "mouse41_left",
          "mouse42_left",
          "mouse43_left",
          "mouse44_left",
          "mouse45_left",
          "mouse46_left",
          "mouse47_left",
          "mouse48_left",
          "mouse49_left",
          "mouse50_left"
         ],
         "legendgroup": "E_postDLC",
         "marker": {
          "color": "#FFA15A",
          "line": {
           "color": "black",
           "width": 0.3
          },
          "size": 4,
          "symbol": "circle"
         },
         "mode": "markers",
         "name": "E_postDLC",
         "scene": "scene",
         "showlegend": true,
         "type": "scatter3d",
         "x": {
          "bdata": "okwFQE4rGECHHC1APSMPQOIXKUAVPARAkdr0P1jZJ0AXW/o/5rQoQA==",
          "dtype": "f4"
         },
         "y": {
          "bdata": "Rw+5QMRkw0Dv2cxAz0rGQLBawkCegsBArg2xQItQzUDr2b9AWh7RQA==",
          "dtype": "f4"
         },
         "z": {
          "bdata": "GnxPQRJ/VEFrOU1BVelXQTItUEHPvVZBAChOQT/UTUHuNVVBCGZMQQ==",
          "dtype": "f4"
         }
        },
        {
         "customdata": {
          "bdata": "CSIJJAklCSYJJwkoCSkJKg==",
          "dtype": "i1",
          "shape": "8, 2"
         },
         "hovertemplate": "<b>%{hovertext}</b><br><br>DatasetName=E_preDLC<br>UMAP1=%{x}<br>UMAP2=%{y}<br>UMAP3=%{z}<br>Dataset=%{customdata[0]}<br>Mouse=%{customdata[1]}<extra></extra>",
         "hovertext": [
          "mouse41_left",
          "mouse43_left",
          "mouse44_left",
          "mouse45_left",
          "mouse46_left",
          "mouse47_left",
          "mouse48_left",
          "mouse49_left"
         ],
         "legendgroup": "E_preDLC",
         "marker": {
          "color": "#636efa",
          "line": {
           "color": "black",
           "width": 0.3
          },
          "size": 4,
          "symbol": "circle"
         },
         "mode": "markers",
         "name": "E_preDLC",
         "scene": "scene",
         "showlegend": true,
         "type": "scatter3d",
         "x": {
          "bdata": "To/LPyL36T+Oe/A/dpXVP7kCJUB8sYY/OKkIQMBsuT8=",
          "dtype": "f4"
         },
         "y": {
          "bdata": "SCK4QOHDukC+VahAKz+4QDLyhkCB0o5AQZC6QPt2x0A=",
          "dtype": "f4"
         },
         "z": {
          "bdata": "3DxtQeP1aEHYollBNFtsQU54UUGlp0hBAWpfQZ6fS0E=",
          "dtype": "f4"
         }
        },
        {
         "customdata": {
          "bdata": "AAAACgAVACAAKwAtAC4ALwAwADE=",
          "dtype": "i1",
          "shape": "10, 2"
         },
         "hovertemplate": "<b>%{hovertext}</b><br><br>DatasetName=A_postDLC<br>UMAP1=%{x}<br>UMAP2=%{y}<br>UMAP3=%{z}<br>Dataset=%{customdata[0]}<br>Mouse=%{customdata[1]}<extra></extra>",
         "hovertext": [
          "mouse10_left",
          "mouse1_left",
          "mouse2_left",
          "mouse3_left",
          "mouse4_left",
          "mouse5_left",
          "mouse6_left",
          "mouse7_left",
          "mouse8_left",
          "mouse9_left"
         ],
         "legendgroup": "A_postDLC",
         "marker": {
          "color": "#636EFA",
          "line": {
           "color": "black",
           "width": 0.3
          },
          "size": 4,
          "symbol": "circle"
         },
         "mode": "markers",
         "name": "A_postDLC",
         "scene": "scene2",
         "showlegend": true,
         "type": "scatter3d",
         "x": {
          "bdata": "Qjs4QPg+NkDfA50/OoQbQGT1wz892wlAhwAUQH2yvz/1wiFAZv8IQA==",
          "dtype": "f4"
         },
         "y": {
          "bdata": "y0uWQFfCoEB6XY5ADQKZQOpYlEAyd6ZA6mOcQFj3kkBBzZFAHKaVQA==",
          "dtype": "f4"
         },
         "z": {
          "bdata": "7nZIQXhwRUHnfUNBWQxCQYOFQUHW90VBa7VCQd+YQEHPMUdBYwU/QQ==",
          "dtype": "f4"
         }
        },
        {
         "customdata": {
          "bdata": "AQABCgEVASABKwEtAS4BLwEwATE=",
          "dtype": "i1",
          "shape": "10, 2"
         },
         "hovertemplate": "<b>%{hovertext}</b><br><br>DatasetName=A_preDLC<br>UMAP1=%{x}<br>UMAP2=%{y}<br>UMAP3=%{z}<br>Dataset=%{customdata[0]}<br>Mouse=%{customdata[1]}<extra></extra>",
         "hovertext": [
          "mouse10_left",
          "mouse1_left",
          "mouse2_left",
          "mouse3_left",
          "mouse4_left",
          "mouse5_left",
          "mouse6_left",
          "mouse7_left",
          "mouse8_left",
          "mouse9_left"
         ],
         "legendgroup": "A_preDLC",
         "marker": {
          "color": "rgb(208, 211, 253)",
          "line": {
           "color": "black",
           "width": 0.3
          },
          "size": 4,
          "symbol": "circle"
         },
         "mode": "markers",
         "name": "A_preDLC",
         "scene": "scene2",
         "showlegend": true,
         "type": "scatter3d",
         "x": {
          "bdata": "89N1P3rYHUDn3zE/oWRpPzcPMj+EKQ8/+49IP8FUKT/K9iJAB5oQPw==",
          "dtype": "f4"
         },
         "y": {
          "bdata": "+v2IQAPyikDan4RAGOh8QCsVeUCAq2ZATT5rQBlCYEDCbIdASAlcQA==",
          "dtype": "f4"
         },
         "z": {
          "bdata": "G/NHQch3XEFTR0lBybhQQfNVTUEwM1BB7YdRQRT9TkGoOFNBOcZRQQ==",
          "dtype": "f4"
         }
        },
        {
         "customdata": {
          "bdata": "AgECAgIDAgQCBQIGAgcCCAIJAgs=",
          "dtype": "i1",
          "shape": "10, 2"
         },
         "hovertemplate": "<b>%{hovertext}</b><br><br>DatasetName=B_postDLC<br>UMAP1=%{x}<br>UMAP2=%{y}<br>UMAP3=%{z}<br>Dataset=%{customdata[0]}<br>Mouse=%{customdata[1]}<extra></extra>",
         "hovertext": [
          "mouse11_left",
          "mouse12_left",
          "mouse13_left",
          "mouse14_left",
          "mouse15_left",
          "mouse16_left",
          "mouse17_left",
          "mouse18_left",
          "mouse19_left",
          "mouse20_left"
         ],
         "legendgroup": "B_postDLC",
         "marker": {
          "color": "#EF553B",
          "line": {
           "color": "black",
           "width": 0.3
          },
          "size": 4,
          "symbol": "circle"
         },
         "mode": "markers",
         "name": "B_postDLC",
         "scene": "scene2",
         "showlegend": true,
         "type": "scatter3d",
         "x": {
          "bdata": "DgQhQIcVEEBZwTBA2WzVP//avj+x6QVAKsbEP5VsFECTcsk/9KvmPw==",
          "dtype": "f4"
         },
         "y": {
          "bdata": "nYGaQJ1VoEB4QLVA87yjQGQwnEDHMKdAVeGfQAPOoUB9+aBATjWqQA==",
          "dtype": "f4"
         },
         "z": {
          "bdata": "bsAvQUsRL0EpLUFBgaQrQSPUJkGGZzJB5VMoQYMoMkFoJilB4GsyQQ==",
          "dtype": "f4"
         }
        },
        {
         "customdata": {
          "bdata": "AwEDAgMDAwQDBQMGAwcDCAMJAws=",
          "dtype": "i1",
          "shape": "10, 2"
         },
         "hovertemplate": "<b>%{hovertext}</b><br><br>DatasetName=B_preDLC<br>UMAP1=%{x}<br>UMAP2=%{y}<br>UMAP3=%{z}<br>Dataset=%{customdata[0]}<br>Mouse=%{customdata[1]}<extra></extra>",
         "hovertext": [
          "mouse11_left",
          "mouse12_left",
          "mouse13_left",
          "mouse14_left",
          "mouse15_left",
          "mouse16_left",
          "mouse17_left",
          "mouse18_left",
          "mouse19_left",
          "mouse20_left"
         ],
         "legendgroup": "B_preDLC",
         "marker": {
          "color": "rgb(250, 204, 196)",
          "line": {
           "color": "black",
           "width": 0.3
          },
          "size": 4,
          "symbol": "circle"
         },
         "mode": "markers",
         "name": "B_preDLC",
         "scene": "scene2",
         "showlegend": true,
         "type": "scatter3d",
         "x": {
          "bdata": "gwDwP7vl7T9lrOo/nLzaP7quCUBsv+0/5EgIQOoH3z+RLQtAgfDCPw==",
          "dtype": "f4"
         },
         "y": {
          "bdata": "61CLQGLAcUD+RY5AEVqGQCzTo0AqNoNAw3tyQKPLaUAhBIhAhS1kQA==",
          "dtype": "f4"
         },
         "z": {
          "bdata": "MGFcQafcV0GyJ1tBov1PQWydXEGSuldBrEBTQXMWV0GMkF5BKkJUQQ==",
          "dtype": "f4"
         }
        },
        {
         "customdata": {
          "bdata": "BAwEDQQOBA8EEAQRBBIEEwQUBBY=",
          "dtype": "i1",
          "shape": "10, 2"
         },
         "hovertemplate": "<b>%{hovertext}</b><br><br>DatasetName=C_postDLC<br>UMAP1=%{x}<br>UMAP2=%{y}<br>UMAP3=%{z}<br>Dataset=%{customdata[0]}<br>Mouse=%{customdata[1]}<extra></extra>",
         "hovertext": [
          "mouse21_left",
          "mouse22_left",
          "mouse23_left",
          "mouse24_left",
          "mouse25_left",
          "mouse26_left",
          "mouse27_left",
          "mouse28_left",
          "mouse29_left",
          "mouse30_left"
         ],
         "legendgroup": "C_postDLC",
         "marker": {
          "color": "#00CC96",
          "line": {
           "color": "black",
           "width": 0.3
          },
          "size": 4,
          "symbol": "circle"
         },
         "mode": "markers",
         "name": "C_postDLC",
         "scene": "scene2",
         "showlegend": true,
         "type": "scatter3d",
         "x": {
          "bdata": "nVwFQE33GUA8avk/tFsPQANzA0BrAhNAJ80JQNXUIkDYP/o/xWtDQA==",
          "dtype": "f4"
         },
         "y": {
          "bdata": "+ejIQJZ1vUAwDM1Ax5LAQOfhy0D3dsJAVIW6QHJGskCuScZAvWKTQA==",
          "dtype": "f4"
         },
         "z": {
          "bdata": "tjo7QYsSPEEXTUFBKFRAQZO+RUH4OjdB4bxAQb7uOkENuTlBhqhJQQ==",
          "dtype": "f4"
         }
        },
        {
         "customdata": {
          "bdata": "BQwFDQUOBQ8FEAURBRIFEwUUBRY=",
          "dtype": "i1",
          "shape": "10, 2"
         },
         "hovertemplate": "<b>%{hovertext}</b><br><br>DatasetName=C_preDLC<br>UMAP1=%{x}<br>UMAP2=%{y}<br>UMAP3=%{z}<br>Dataset=%{customdata[0]}<br>Mouse=%{customdata[1]}<extra></extra>",
         "hovertext": [
          "mouse21_left",
          "mouse22_left",
          "mouse23_left",
          "mouse24_left",
          "mouse25_left",
          "mouse26_left",
          "mouse27_left",
          "mouse28_left",
          "mouse29_left",
          "mouse30_left"
         ],
         "legendgroup": "C_preDLC",
         "marker": {
          "color": "rgb(178, 239, 223)",
          "line": {
           "color": "black",
           "width": 0.3
          },
          "size": 4,
          "symbol": "circle"
         },
         "mode": "markers",
         "name": "C_preDLC",
         "scene": "scene2",
         "showlegend": true,
         "type": "scatter3d",
         "x": {
          "bdata": "nMI5QNR+I0BZhjNAmw0uQNvVNkBDDhVASSI1QHcHI0DbUCtAxzE7QA==",
          "dtype": "f4"
         },
         "y": {
          "bdata": "MyKEQHutlkAaAohAh3eSQC1Cb0ApC5dAU/WMQEdvm0BKmJBAflZ4QA==",
          "dtype": "f4"
         },
         "z": {
          "bdata": "gplZQQiVZEFtf1ZBLuVhQWSiV0Gb00xB5RdlQYzVYkHKQ2dBOqdYQQ==",
          "dtype": "f4"
         }
        },
        {
         "customdata": {
          "bdata": "BhcGGAYZBhoGGwYcBh0GHgYfBiE=",
          "dtype": "i1",
          "shape": "10, 2"
         },
         "hovertemplate": "<b>%{hovertext}</b><br><br>DatasetName=D_postDLC<br>UMAP1=%{x}<br>UMAP2=%{y}<br>UMAP3=%{z}<br>Dataset=%{customdata[0]}<br>Mouse=%{customdata[1]}<extra></extra>",
         "hovertext": [
          "mouse31_left",
          "mouse32_left",
          "mouse33_left",
          "mouse34_left",
          "mouse35_left",
          "mouse36_left",
          "mouse37_left",
          "mouse38_left",
          "mouse39_left",
          "mouse40_left"
         ],
         "legendgroup": "D_postDLC",
         "marker": {
          "color": "#AB63FA",
          "line": {
           "color": "black",
           "width": 0.3
          },
          "size": 4,
          "symbol": "circle"
         },
         "mode": "markers",
         "name": "D_postDLC",
         "scene": "scene2",
         "showlegend": true,
         "type": "scatter3d",
         "x": {
          "bdata": "mIilP3yPej/W4q0/i6agPyx5oz+h7pQ/tWqfP4l4xD/AWGo/JRmFPw==",
          "dtype": "f4"
         },
         "y": {
          "bdata": "Nu+xQNaXuEC7bbJAdAm2QAS+t0DL47FA3jyxQEOSrUAnW7lAC4C6QA==",
          "dtype": "f4"
         },
         "z": {
          "bdata": "UIZRQcOuRkFlbDlBT1BPQZkuPUHW7kdBfMk2QWE3PUGaxkNBI7M/QQ==",
          "dtype": "f4"
         }
        },
        {
         "customdata": {
          "bdata": "BxcHGAcZBxoHGwccBx0HHgcfByEHIwcs",
          "dtype": "i1",
          "shape": "12, 2"
         },
         "hovertemplate": "<b>%{hovertext}</b><br><br>DatasetName=D_preDLC<br>UMAP1=%{x}<br>UMAP2=%{y}<br>UMAP3=%{z}<br>Dataset=%{customdata[0]}<br>Mouse=%{customdata[1]}<extra></extra>",
         "hovertext": [
          "mouse31_left",
          "mouse32_left",
          "mouse33_left",
          "mouse34_left",
          "mouse35_left",
          "mouse36_left",
          "mouse37_left",
          "mouse38_left",
          "mouse39_left",
          "mouse40_left",
          "mouse42_left",
          "mouse50_left"
         ],
         "legendgroup": "D_preDLC",
         "marker": {
          "color": "rgb(229, 208, 253)",
          "line": {
           "color": "black",
           "width": 0.3
          },
          "size": 4,
          "symbol": "circle"
         },
         "mode": "markers",
         "name": "D_preDLC",
         "scene": "scene2",
         "showlegend": true,
         "type": "scatter3d",
         "x": {
          "bdata": "orIkQCXFyD/Ni3I/DTokQDM2iT8ZPNY/OLVTP33VRT9ZcX0/8bUoQGHstz9i/dc/",
          "dtype": "f4"
         },
         "y": {
          "bdata": "SMdNQDq3kEC5f61A1+BQQAuhsUDInbBA5yivQBeGsUCskrJABOdOQAoYqECrz5xA",
          "dtype": "f4"
         },
         "z": {
          "bdata": "JchnQZzKVEGp22RBX9JmQYfRY0Eg91xBusdlQcs0Z0EBul9BFpNmQavgX0FCRVtB",
          "dtype": "f4"
         }
        },
        {
         "customdata": {
          "bdata": "CCIIIwgkCCUIJggnCCgIKQgqCCw=",
          "dtype": "i1",
          "shape": "10, 2"
         },
         "hovertemplate": "<b>%{hovertext}</b><br><br>DatasetName=E_postDLC<br>UMAP1=%{x}<br>UMAP2=%{y}<br>UMAP3=%{z}<br>Dataset=%{customdata[0]}<br>Mouse=%{customdata[1]}<extra></extra>",
         "hovertext": [
          "mouse41_left",
          "mouse42_left",
          "mouse43_left",
          "mouse44_left",
          "mouse45_left",
          "mouse46_left",
          "mouse47_left",
          "mouse48_left",
          "mouse49_left",
          "mouse50_left"
         ],
         "legendgroup": "E_postDLC",
         "marker": {
          "color": "#FFA15A",
          "line": {
           "color": "black",
           "width": 0.3
          },
          "size": 4,
          "symbol": "circle"
         },
         "mode": "markers",
         "name": "E_postDLC",
         "scene": "scene2",
         "showlegend": true,
         "type": "scatter3d",
         "x": {
          "bdata": "okwFQE4rGECHHC1APSMPQOIXKUAVPARAkdr0P1jZJ0AXW/o/5rQoQA==",
          "dtype": "f4"
         },
         "y": {
          "bdata": "Rw+5QMRkw0Dv2cxAz0rGQLBawkCegsBArg2xQItQzUDr2b9AWh7RQA==",
          "dtype": "f4"
         },
         "z": {
          "bdata": "GnxPQRJ/VEFrOU1BVelXQTItUEHPvVZBAChOQT/UTUHuNVVBCGZMQQ==",
          "dtype": "f4"
         }
        },
        {
         "customdata": {
          "bdata": "CSIJJAklCSYJJwkoCSkJKg==",
          "dtype": "i1",
          "shape": "8, 2"
         },
         "hovertemplate": "<b>%{hovertext}</b><br><br>DatasetName=E_preDLC<br>UMAP1=%{x}<br>UMAP2=%{y}<br>UMAP3=%{z}<br>Dataset=%{customdata[0]}<br>Mouse=%{customdata[1]}<extra></extra>",
         "hovertext": [
          "mouse41_left",
          "mouse43_left",
          "mouse44_left",
          "mouse45_left",
          "mouse46_left",
          "mouse47_left",
          "mouse48_left",
          "mouse49_left"
         ],
         "legendgroup": "E_preDLC",
         "marker": {
          "color": "rgb(255, 226, 205)",
          "line": {
           "color": "black",
           "width": 0.3
          },
          "size": 4,
          "symbol": "circle"
         },
         "mode": "markers",
         "name": "E_preDLC",
         "scene": "scene2",
         "showlegend": true,
         "type": "scatter3d",
         "x": {
          "bdata": "To/LPyL36T+Oe/A/dpXVP7kCJUB8sYY/OKkIQMBsuT8=",
          "dtype": "f4"
         },
         "y": {
          "bdata": "SCK4QOHDukC+VahAKz+4QDLyhkCB0o5AQZC6QPt2x0A=",
          "dtype": "f4"
         },
         "z": {
          "bdata": "3DxtQeP1aEHYollBNFtsQU54UUGlp0hBAWpfQZ6fS0E=",
          "dtype": "f4"
         }
        }
       ],
       "layout": {
        "annotations": [
         {
          "font": {
           "size": 16
          },
          "showarrow": false,
          "text": "UMAP 3D — Pre vs Others",
          "x": 0.225,
          "xanchor": "center",
          "xref": "paper",
          "y": 1,
          "yanchor": "bottom",
          "yref": "paper"
         },
         {
          "font": {
           "size": 16
          },
          "showarrow": false,
          "text": "UMAP 3D — Each Dataset",
          "x": 0.775,
          "xanchor": "center",
          "xref": "paper",
          "y": 1,
          "yanchor": "bottom",
          "yref": "paper"
         }
        ],
        "height": 800,
        "legend": {
         "orientation": "v",
         "title": {
          "text": "Dataset"
         }
        },
        "margin": {
         "b": 0,
         "l": 0,
         "r": 0,
         "t": 60
        },
        "scene": {
         "aspectmode": "data",
         "domain": {
          "x": [
           0,
           0.45
          ],
          "y": [
           0,
           1
          ]
         }
        },
        "scene2": {
         "aspectmode": "data",
         "domain": {
          "x": [
           0.55,
           1
          ],
          "y": [
           0,
           1
          ]
         }
        },
        "showlegend": true,
        "template": {
         "data": {
          "bar": [
           {
            "error_x": {
             "color": "#2a3f5f"
            },
            "error_y": {
             "color": "#2a3f5f"
            },
            "marker": {
             "line": {
              "color": "#E5ECF6",
              "width": 0.5
             },
             "pattern": {
              "fillmode": "overlay",
              "size": 10,
              "solidity": 0.2
             }
            },
            "type": "bar"
           }
          ],
          "barpolar": [
           {
            "marker": {
             "line": {
              "color": "#E5ECF6",
              "width": 0.5
             },
             "pattern": {
              "fillmode": "overlay",
              "size": 10,
              "solidity": 0.2
             }
            },
            "type": "barpolar"
           }
          ],
          "carpet": [
           {
            "aaxis": {
             "endlinecolor": "#2a3f5f",
             "gridcolor": "white",
             "linecolor": "white",
             "minorgridcolor": "white",
             "startlinecolor": "#2a3f5f"
            },
            "baxis": {
             "endlinecolor": "#2a3f5f",
             "gridcolor": "white",
             "linecolor": "white",
             "minorgridcolor": "white",
             "startlinecolor": "#2a3f5f"
            },
            "type": "carpet"
           }
          ],
          "choropleth": [
           {
            "colorbar": {
             "outlinewidth": 0,
             "ticks": ""
            },
            "type": "choropleth"
           }
          ],
          "contour": [
           {
            "colorbar": {
             "outlinewidth": 0,
             "ticks": ""
            },
            "colorscale": [
             [
              0,
              "#0d0887"
             ],
             [
              0.1111111111111111,
              "#46039f"
             ],
             [
              0.2222222222222222,
              "#7201a8"
             ],
             [
              0.3333333333333333,
              "#9c179e"
             ],
             [
              0.4444444444444444,
              "#bd3786"
             ],
             [
              0.5555555555555556,
              "#d8576b"
             ],
             [
              0.6666666666666666,
              "#ed7953"
             ],
             [
              0.7777777777777778,
              "#fb9f3a"
             ],
             [
              0.8888888888888888,
              "#fdca26"
             ],
             [
              1,
              "#f0f921"
             ]
            ],
            "type": "contour"
           }
          ],
          "contourcarpet": [
           {
            "colorbar": {
             "outlinewidth": 0,
             "ticks": ""
            },
            "type": "contourcarpet"
           }
          ],
          "heatmap": [
           {
            "colorbar": {
             "outlinewidth": 0,
             "ticks": ""
            },
            "colorscale": [
             [
              0,
              "#0d0887"
             ],
             [
              0.1111111111111111,
              "#46039f"
             ],
             [
              0.2222222222222222,
              "#7201a8"
             ],
             [
              0.3333333333333333,
              "#9c179e"
             ],
             [
              0.4444444444444444,
              "#bd3786"
             ],
             [
              0.5555555555555556,
              "#d8576b"
             ],
             [
              0.6666666666666666,
              "#ed7953"
             ],
             [
              0.7777777777777778,
              "#fb9f3a"
             ],
             [
              0.8888888888888888,
              "#fdca26"
             ],
             [
              1,
              "#f0f921"
             ]
            ],
            "type": "heatmap"
           }
          ],
          "histogram": [
           {
            "marker": {
             "pattern": {
              "fillmode": "overlay",
              "size": 10,
              "solidity": 0.2
             }
            },
            "type": "histogram"
           }
          ],
          "histogram2d": [
           {
            "colorbar": {
             "outlinewidth": 0,
             "ticks": ""
            },
            "colorscale": [
             [
              0,
              "#0d0887"
             ],
             [
              0.1111111111111111,
              "#46039f"
             ],
             [
              0.2222222222222222,
              "#7201a8"
             ],
             [
              0.3333333333333333,
              "#9c179e"
             ],
             [
              0.4444444444444444,
              "#bd3786"
             ],
             [
              0.5555555555555556,
              "#d8576b"
             ],
             [
              0.6666666666666666,
              "#ed7953"
             ],
             [
              0.7777777777777778,
              "#fb9f3a"
             ],
             [
              0.8888888888888888,
              "#fdca26"
             ],
             [
              1,
              "#f0f921"
             ]
            ],
            "type": "histogram2d"
           }
          ],
          "histogram2dcontour": [
           {
            "colorbar": {
             "outlinewidth": 0,
             "ticks": ""
            },
            "colorscale": [
             [
              0,
              "#0d0887"
             ],
             [
              0.1111111111111111,
              "#46039f"
             ],
             [
              0.2222222222222222,
              "#7201a8"
             ],
             [
              0.3333333333333333,
              "#9c179e"
             ],
             [
              0.4444444444444444,
              "#bd3786"
             ],
             [
              0.5555555555555556,
              "#d8576b"
             ],
             [
              0.6666666666666666,
              "#ed7953"
             ],
             [
              0.7777777777777778,
              "#fb9f3a"
             ],
             [
              0.8888888888888888,
              "#fdca26"
             ],
             [
              1,
              "#f0f921"
             ]
            ],
            "type": "histogram2dcontour"
           }
          ],
          "mesh3d": [
           {
            "colorbar": {
             "outlinewidth": 0,
             "ticks": ""
            },
            "type": "mesh3d"
           }
          ],
          "parcoords": [
           {
            "line": {
             "colorbar": {
              "outlinewidth": 0,
              "ticks": ""
             }
            },
            "type": "parcoords"
           }
          ],
          "pie": [
           {
            "automargin": true,
            "type": "pie"
           }
          ],
          "scatter": [
           {
            "fillpattern": {
             "fillmode": "overlay",
             "size": 10,
             "solidity": 0.2
            },
            "type": "scatter"
           }
          ],
          "scatter3d": [
           {
            "line": {
             "colorbar": {
              "outlinewidth": 0,
              "ticks": ""
             }
            },
            "marker": {
             "colorbar": {
              "outlinewidth": 0,
              "ticks": ""
             }
            },
            "type": "scatter3d"
           }
          ],
          "scattercarpet": [
           {
            "marker": {
             "colorbar": {
              "outlinewidth": 0,
              "ticks": ""
             }
            },
            "type": "scattercarpet"
           }
          ],
          "scattergeo": [
           {
            "marker": {
             "colorbar": {
              "outlinewidth": 0,
              "ticks": ""
             }
            },
            "type": "scattergeo"
           }
          ],
          "scattergl": [
           {
            "marker": {
             "colorbar": {
              "outlinewidth": 0,
              "ticks": ""
             }
            },
            "type": "scattergl"
           }
          ],
          "scattermap": [
           {
            "marker": {
             "colorbar": {
              "outlinewidth": 0,
              "ticks": ""
             }
            },
            "type": "scattermap"
           }
          ],
          "scattermapbox": [
           {
            "marker": {
             "colorbar": {
              "outlinewidth": 0,
              "ticks": ""
             }
            },
            "type": "scattermapbox"
           }
          ],
          "scatterpolar": [
           {
            "marker": {
             "colorbar": {
              "outlinewidth": 0,
              "ticks": ""
             }
            },
            "type": "scatterpolar"
           }
          ],
          "scatterpolargl": [
           {
            "marker": {
             "colorbar": {
              "outlinewidth": 0,
              "ticks": ""
             }
            },
            "type": "scatterpolargl"
           }
          ],
          "scatterternary": [
           {
            "marker": {
             "colorbar": {
              "outlinewidth": 0,
              "ticks": ""
             }
            },
            "type": "scatterternary"
           }
          ],
          "surface": [
           {
            "colorbar": {
             "outlinewidth": 0,
             "ticks": ""
            },
            "colorscale": [
             [
              0,
              "#0d0887"
             ],
             [
              0.1111111111111111,
              "#46039f"
             ],
             [
              0.2222222222222222,
              "#7201a8"
             ],
             [
              0.3333333333333333,
              "#9c179e"
             ],
             [
              0.4444444444444444,
              "#bd3786"
             ],
             [
              0.5555555555555556,
              "#d8576b"
             ],
             [
              0.6666666666666666,
              "#ed7953"
             ],
             [
              0.7777777777777778,
              "#fb9f3a"
             ],
             [
              0.8888888888888888,
              "#fdca26"
             ],
             [
              1,
              "#f0f921"
             ]
            ],
            "type": "surface"
           }
          ],
          "table": [
           {
            "cells": {
             "fill": {
              "color": "#EBF0F8"
             },
             "line": {
              "color": "white"
             }
            },
            "header": {
             "fill": {
              "color": "#C8D4E3"
             },
             "line": {
              "color": "white"
             }
            },
            "type": "table"
           }
          ]
         },
         "layout": {
          "annotationdefaults": {
           "arrowcolor": "#2a3f5f",
           "arrowhead": 0,
           "arrowwidth": 1
          },
          "autotypenumbers": "strict",
          "coloraxis": {
           "colorbar": {
            "outlinewidth": 0,
            "ticks": ""
           }
          },
          "colorscale": {
           "diverging": [
            [
             0,
             "#8e0152"
            ],
            [
             0.1,
             "#c51b7d"
            ],
            [
             0.2,
             "#de77ae"
            ],
            [
             0.3,
             "#f1b6da"
            ],
            [
             0.4,
             "#fde0ef"
            ],
            [
             0.5,
             "#f7f7f7"
            ],
            [
             0.6,
             "#e6f5d0"
            ],
            [
             0.7,
             "#b8e186"
            ],
            [
             0.8,
             "#7fbc41"
            ],
            [
             0.9,
             "#4d9221"
            ],
            [
             1,
             "#276419"
            ]
           ],
           "sequential": [
            [
             0,
             "#0d0887"
            ],
            [
             0.1111111111111111,
             "#46039f"
            ],
            [
             0.2222222222222222,
             "#7201a8"
            ],
            [
             0.3333333333333333,
             "#9c179e"
            ],
            [
             0.4444444444444444,
             "#bd3786"
            ],
            [
             0.5555555555555556,
             "#d8576b"
            ],
            [
             0.6666666666666666,
             "#ed7953"
            ],
            [
             0.7777777777777778,
             "#fb9f3a"
            ],
            [
             0.8888888888888888,
             "#fdca26"
            ],
            [
             1,
             "#f0f921"
            ]
           ],
           "sequentialminus": [
            [
             0,
             "#0d0887"
            ],
            [
             0.1111111111111111,
             "#46039f"
            ],
            [
             0.2222222222222222,
             "#7201a8"
            ],
            [
             0.3333333333333333,
             "#9c179e"
            ],
            [
             0.4444444444444444,
             "#bd3786"
            ],
            [
             0.5555555555555556,
             "#d8576b"
            ],
            [
             0.6666666666666666,
             "#ed7953"
            ],
            [
             0.7777777777777778,
             "#fb9f3a"
            ],
            [
             0.8888888888888888,
             "#fdca26"
            ],
            [
             1,
             "#f0f921"
            ]
           ]
          },
          "colorway": [
           "#636efa",
           "#EF553B",
           "#00cc96",
           "#ab63fa",
           "#FFA15A",
           "#19d3f3",
           "#FF6692",
           "#B6E880",
           "#FF97FF",
           "#FECB52"
          ],
          "font": {
           "color": "#2a3f5f"
          },
          "geo": {
           "bgcolor": "white",
           "lakecolor": "white",
           "landcolor": "#E5ECF6",
           "showlakes": true,
           "showland": true,
           "subunitcolor": "white"
          },
          "hoverlabel": {
           "align": "left"
          },
          "hovermode": "closest",
          "mapbox": {
           "style": "light"
          },
          "paper_bgcolor": "white",
          "plot_bgcolor": "#E5ECF6",
          "polar": {
           "angularaxis": {
            "gridcolor": "white",
            "linecolor": "white",
            "ticks": ""
           },
           "bgcolor": "#E5ECF6",
           "radialaxis": {
            "gridcolor": "white",
            "linecolor": "white",
            "ticks": ""
           }
          },
          "scene": {
           "xaxis": {
            "backgroundcolor": "#E5ECF6",
            "gridcolor": "white",
            "gridwidth": 2,
            "linecolor": "white",
            "showbackground": true,
            "ticks": "",
            "zerolinecolor": "white"
           },
           "yaxis": {
            "backgroundcolor": "#E5ECF6",
            "gridcolor": "white",
            "gridwidth": 2,
            "linecolor": "white",
            "showbackground": true,
            "ticks": "",
            "zerolinecolor": "white"
           },
           "zaxis": {
            "backgroundcolor": "#E5ECF6",
            "gridcolor": "white",
            "gridwidth": 2,
            "linecolor": "white",
            "showbackground": true,
            "ticks": "",
            "zerolinecolor": "white"
           }
          },
          "shapedefaults": {
           "line": {
            "color": "#2a3f5f"
           }
          },
          "ternary": {
           "aaxis": {
            "gridcolor": "white",
            "linecolor": "white",
            "ticks": ""
           },
           "baxis": {
            "gridcolor": "white",
            "linecolor": "white",
            "ticks": ""
           },
           "bgcolor": "#E5ECF6",
           "caxis": {
            "gridcolor": "white",
            "linecolor": "white",
            "ticks": ""
           }
          },
          "title": {
           "x": 0.05
          },
          "xaxis": {
           "automargin": true,
           "gridcolor": "white",
           "linecolor": "white",
           "ticks": "",
           "title": {
            "standoff": 15
           },
           "zerolinecolor": "white",
           "zerolinewidth": 2
          },
          "yaxis": {
           "automargin": true,
           "gridcolor": "white",
           "linecolor": "white",
           "ticks": "",
           "title": {
            "standoff": 15
           },
           "zerolinecolor": "white",
           "zerolinewidth": 2
          }
         }
        },
        "width": 1600
       }
      }
     },
     "metadata": {},
     "output_type": "display_data"
    }
   ],
   "source": [
    "### UMAP PLOT\n",
    "import plotly.colors as pc\n",
    "umap_plot_df[\"DatasetName\"] = umap_plot_df[\"Dataset\"].map(dataset_label_map)\n",
    "umap_plot_df[\"MouseName\"]   = umap_plot_df[\"Mouse\"].map(mouse_label_map)\n",
    "\n",
    "# 1. Define your base groups (e.g., B, C, E, etc.)\n",
    "base_groups = []\n",
    "for name in umap_plot_df[\"DatasetName\"].unique():\n",
    "    # Extract base group (e.g., \"B\" from \"B_pre\" or \"B_post\")\n",
    "    base = name.split()[0] if \" \" in name else name.split(\"_\")[0]\n",
    "    if base not in base_groups:\n",
    "        base_groups.append(base)\n",
    "\n",
    "# 2. Assign a color to each base group\n",
    "palette = px.colors.qualitative.Plotly\n",
    "base_color_map = {base: palette[i % len(palette)] for i, base in enumerate(base_groups)}\n",
    "\n",
    "# 3. Build a color map with lighter shade for \"pre\", normal for \"post\"\n",
    "def lighten_color(hex_color, factor=0.5):\n",
    "    rgb = pc.hex_to_rgb(hex_color)\n",
    "    light_rgb = tuple(int(255 - (255 - c) * factor) for c in rgb)\n",
    "    return pc.label_rgb(light_rgb)\n",
    "\n",
    "color_map = {}\n",
    "for name in umap_plot_df[\"DatasetName\"].unique():\n",
    "    base = name.split()[0] if \" \" in name else name.split(\"_\")[0]\n",
    "    base_color = base_color_map[base]\n",
    "    if \"pre\" in name.lower():\n",
    "        color_map[name] = lighten_color(base_color, 0.3)  # lighter shade\n",
    "    else:\n",
    "        color_map[name] = base_color  # normal shade\n",
    "\n",
    "fixed_grey = \"#7f7f7f\"\n",
    "color_map_left = color_map.copy()\n",
    "for k in color_map_left:\n",
    "    if \"pre\" in k.lower():\n",
    "        color_map_left[k] = fixed_grey\n",
    "\n",
    "# --- Build the two px figures using the SAME color map ---\n",
    "fig_left = px.scatter_3d(\n",
    "    umap_plot_df,\n",
    "    x=\"UMAP1\", y=\"UMAP2\", z=\"UMAP3\",\n",
    "    color=\"DatasetName\",\n",
    "    hover_name=\"MouseName\",\n",
    "    hover_data={\"Dataset\": True, \"Mouse\": True},\n",
    "    title=\"UMAP 3D — Pre vs Others\",\n",
    "    color_discrete_map={\"Pre\": fixed_grey, **{k: v for k, v in color_map.items() if \"pre\" not in k.lower()}}\n",
    ")\n",
    "fig_left.update_traces(marker=dict(size=4, line=dict(width=0.3, color='black')),\n",
    "                       selector=dict(mode='markers'))\n",
    "\n",
    "fig_right = px.scatter_3d(\n",
    "    umap_plot_df,\n",
    "    x=\"UMAP1\", y=\"UMAP2\", z=\"UMAP3\",\n",
    "    color=\"DatasetName\",\n",
    "    hover_name=\"MouseName\",\n",
    "    hover_data={\"Dataset\": True, \"Mouse\": True},\n",
    "    title=\"UMAP 3D — Each Dataset\",\n",
    "    color_discrete_map=color_map\n",
    ")\n",
    "fig_right.update_traces(marker=dict(size=4, line=dict(width=0.3, color='black')),\n",
    "                        selector=dict(mode='markers'))\n",
    "\n",
    "# --- Put them side by side with shared legend ---\n",
    "combo = make_subplots(rows=1, cols=2,\n",
    "                      specs=[[{\"type\": \"scene\"}, {\"type\": \"scene\"}]],\n",
    "                      subplot_titles=(fig_left.layout.title.text, fig_right.layout.title.text))\n",
    "\n",
    "for tr in fig_left.data:\n",
    "    combo.add_trace(tr, row=1, col=1)\n",
    "for tr in fig_right.data:\n",
    "    combo.add_trace(tr, row=1, col=2)\n",
    "\n",
    "# Layout tweaks: one legend, equal aspect, tidy margins\n",
    "combo.update_layout(\n",
    "    showlegend=True,\n",
    "    legend=dict(title=\"Dataset\", orientation=\"v\"),\n",
    "    scene=dict(aspectmode=\"data\"),\n",
    "    scene2=dict(aspectmode=\"data\"),\n",
    "    margin=dict(l=0, r=0, t=60, b=0),\n",
    "    height=800, width=1600\n",
    ")\n",
    "\n",
    "combo.show()\n",
    "# combo.write_html(\"umap_plot_full_features.html\")"
   ]
  },
  {
   "cell_type": "code",
   "execution_count": 5,
   "id": "e3842734",
   "metadata": {},
   "outputs": [],
   "source": [
    "df_b_healthy = feature_subsets['hindlimb'].get('healthy_left_B_run')\n",
    "df_a_healthy = feature_subsets['hindlimb'].get('healthy_left_A_run')\n",
    "df_c_healthy = feature_subsets['hindlimb'].get('healthy_left_C_run')\n",
    "df_d_healthy = feature_subsets['hindlimb'].get('healthy_left_D_run')\n",
    "df_e_healthy = feature_subsets['hindlimb'].get('healthy_left_E_run')\n",
    "df_b_sick = feature_subsets['hindlimb'].get('sick_left_B_run')\n",
    "df_c_sick = feature_subsets['hindlimb'].get('sick_left_C_run')\n",
    "df_e_sick = feature_subsets['hindlimb'].get('sick_left_E_run')\n",
    "\n",
    "# 1. Compare B left healthy vs C left sick\n",
    "if df_b_healthy is not None and not df_b_healthy.empty and df_c_sick is not None and not df_c_sick.empty:\n",
    "    label1 = 'Healthy Left B'\n",
    "    label2 = 'Sick Left C'\n",
    "    b_c_result = compare_feature_sets(df_b_healthy, df_c_sick, group1_name=label1, group2_name=label2)\n",
    "\n",
    "# 2. Compare C left healthy vs E left sick\n",
    "if df_c_healthy is not None and not df_c_healthy.empty and df_e_sick is not None and not df_e_sick.empty:\n",
    "    label1 = 'Healthy Left C'\n",
    "    label2 = 'Sick Left E'\n",
    "    c_e_result = compare_feature_sets(df_c_healthy, df_e_sick, group1_name=label1, group2_name=label2)"
   ]
  },
  {
   "cell_type": "code",
   "execution_count": 6,
   "id": "615c1a53",
   "metadata": {},
   "outputs": [],
   "source": [
    "# 3. Compare B, C, E with a one-way ANOVA\n",
    "if df_b_healthy is not None and not df_b_healthy.empty and df_c_sick is not None and not df_c_sick.empty and df_e_sick is not None and not df_e_sick.empty:\n",
    "    label1 = 'Healthy Left B'\n",
    "    label2 = 'Sick Left C'\n",
    "    label3 = 'Sick Left E'\n",
    "    b_c_e_anova_result = compare_multiple_groups({\n",
    "        label1: df_b_healthy,\n",
    "        label2: df_c_sick,\n",
    "        label3: df_e_sick\n",
    "    })"
   ]
  },
  {
   "cell_type": "code",
   "execution_count": 7,
   "id": "e44a739c",
   "metadata": {},
   "outputs": [],
   "source": [
    "# 4. Compare All healthy groups\n",
    "all_healthy_anova_result = compare_multiple_groups({\n",
    "    'Healthy Left A': df_a_healthy,\n",
    "    'Healthy Left B': df_b_healthy,\n",
    "    'Healthy Left C': df_c_healthy,\n",
    "    'Healthy Left D': df_d_healthy,\n",
    "    'Healthy Left E': df_e_healthy\n",
    "})"
   ]
  },
  {
   "cell_type": "code",
   "execution_count": 8,
   "id": "acda3124",
   "metadata": {},
   "outputs": [],
   "source": [
    "# 5. Compare All Healthy vs B,C as sick, and E as treatment\n",
    "df1 = pd.concat([df_a_healthy, df_b_healthy, df_c_healthy, df_d_healthy, df_e_healthy])\n",
    "df2 = pd.concat([df_b_sick, df_c_sick])\n",
    "df3 = df_e_sick\n",
    "all_healthy_bc_sick_e_treat_anova_result = compare_multiple_groups({\n",
    "    'All Healthy': df1,\n",
    "    'B Sick & C Sick': df2,\n",
    "    'E Treatment': df3\n",
    "})"
   ]
  },
  {
   "cell_type": "code",
   "execution_count": 9,
   "id": "670826b2",
   "metadata": {},
   "outputs": [],
   "source": [
    "def calculate_feature_changes(healthy:pd.DataFrame, sick:pd.DataFrame, treatment:pd.DataFrame, features:list):\n",
    "    \"\"\"\n",
    "        Calculate changes in feature means and effect sizes between healthy, sick, and treatment groups. The distance is measured as the absolute difference in means compared to the healthy group and the effect is normalized against the pooled std. \n",
    "    \"\"\"\n",
    "    rows = []\n",
    "    for f in features:\n",
    "        h = healthy[f].dropna()\n",
    "        s = sick[f].dropna()\n",
    "        t = treatment[f].dropna()\n",
    "\n",
    "        d_sick = abs(s.mean() - h.mean())\n",
    "        d_treat = abs(t.mean() - h.mean())\n",
    "\n",
    "        # Pooled std for Healthy vs Sick\n",
    "        pooled_std = np.sqrt(((len(h)-1)*h.var() + (len(s)-1)*s.var()) / (len(h) + len(s) - 2))\n",
    "\n",
    "        if pooled_std == 0:\n",
    "            change_effect_size = np.nan\n",
    "        else:\n",
    "            change_effect_size = (d_sick - d_treat) / pooled_std\n",
    "\n",
    "        rows.append((f, d_sick - d_treat, change_effect_size))\n",
    "\n",
    "    res_df = pd.DataFrame(rows, columns=[\"feature\", \"change value\", \"change_effect_size\"])\n",
    "    res_df[\"direction\"] = res_df[\"change_effect_size\"].apply(lambda x: \"towards_healthy\" if x > 0 else \"away_from_healthy\" if x < 0 else \"no_change\")\n",
    "\n",
    "    return res_df\n",
    "\n",
    "### Calculate improving and worsening features\n",
    "healthy_features = hindlimb_features_df[hindlimb_features_df['Dataset'].str.contains('B_pre') & hindlimb_features_df['Mouse'].str.contains('left')]\n",
    "sick_features = hindlimb_features_df[hindlimb_features_df['Dataset'].str.contains('C_post') & hindlimb_features_df['Mouse'].str.contains('left')]\n",
    "treatment_features = hindlimb_features_df[hindlimb_features_df['Dataset'].str.contains('E_post') & hindlimb_features_df['Mouse'].str.contains('left')]\n",
    "value_features = hindlimb_features_df[hindlimb_features_df.columns[~hindlimb_features_df.columns.str.contains('Dataset|Mouse')]].columns\n",
    "\n",
    "feature_change_df = calculate_feature_changes(healthy_features, sick_features, treatment_features, value_features)"
   ]
  },
  {
   "cell_type": "code",
   "execution_count": 10,
   "id": "5445e916",
   "metadata": {},
   "outputs": [
    {
     "name": "stdout",
     "output_type": "stream",
     "text": [
      "(2680, 19) (2680, 23) (2680, 4) (2680, 14) (2680, 10) (2680, 14) (2680, 10)\n"
     ]
    }
   ],
   "source": [
    "treatment_effect_df = b_c_e_anova_result.merge(\n",
    "    feature_change_df,\n",
    "    left_on='Feature',\n",
    "    right_on='feature',\n",
    "    how='inner'\n",
    ")\n",
    "\n",
    "treatment_effect_df_expanded = all_healthy_bc_sick_e_treat_anova_result.merge(\n",
    "    feature_change_df,\n",
    "    left_on='Feature',\n",
    "    right_on='feature',\n",
    "    how='inner'\n",
    ")\n",
    "\n",
    "treatment_on_lesion_df = b_c_result.merge(\n",
    "    feature_change_df,\n",
    "    left_on='Feature',\n",
    "    right_on='feature',\n",
    "    how='inner'\n",
    ")\n",
    "\n",
    "treatment_on_healthy_df = c_e_result.merge(\n",
    "    feature_change_df,\n",
    "    left_on='Feature',\n",
    "    right_on='feature',\n",
    "    how='inner'\n",
    ")\n",
    "\n",
    "print(b_c_e_anova_result.shape, treatment_effect_df.shape, feature_change_df.shape, treatment_on_lesion_df.shape, b_c_result.shape, treatment_on_healthy_df.shape, c_e_result.shape)"
   ]
  },
  {
   "cell_type": "code",
   "execution_count": 11,
   "id": "f0eb8a15",
   "metadata": {},
   "outputs": [],
   "source": [
    "## Save to csv the files\n",
    "treatment_effect_df.to_csv('./treatment_effect_features.csv', index=False)\n",
    "treatment_on_lesion_df.to_csv('./lesion_features.csv', index=False)\n",
    "treatment_on_healthy_df.to_csv('./non_pathological_features.csv', index=False)"
   ]
  },
  {
   "cell_type": "code",
   "execution_count": 12,
   "id": "f964b63c",
   "metadata": {},
   "outputs": [],
   "source": [
    "def plot_features_list_across_groups(feature_list, feature_subsets, limb='hindlimb', \n",
    "                                     max_cols=4, groups=['A_', 'B_', 'C_', 'D_', 'E_'], \n",
    "                                     states=['healthy', 'sick'], sides=['left', 'right']):\n",
    "    \"\"\"\n",
    "    Plot a given list of exact feature names across all groups for a given limb.\n",
    "    \"\"\"\n",
    "    data_subsets = feature_subsets[limb]\n",
    "    matched_features = [f for f in feature_list if any(f in df.columns for df in data_subsets.values())]\n",
    "\n",
    "    if not matched_features:\n",
    "        print(\"No matching features found in the data.\")\n",
    "        return\n",
    "    \n",
    "    if 'ALL_' in groups:\n",
    "        # Merge the relevant sick groups (excluding D and E)\n",
    "        all_sick = pd.concat([\n",
    "            feature_subsets[limb]['sick_left_B_run'],\n",
    "            feature_subsets[limb]['sick_left_C_run']\n",
    "        ], ignore_index=True)\n",
    "        all_healthy = pd.concat([\n",
    "            feature_subsets[limb]['healthy_left_B_run'],\n",
    "            feature_subsets[limb]['healthy_left_C_run']\n",
    "        ], ignore_index=True)\n",
    "        feature_subsets[limb]['sick_left_ALL_run'] = all_sick\n",
    "        feature_subsets[limb]['healthy_left_ALL_run'] = all_healthy\n",
    "\n",
    "    num_features = len(matched_features)\n",
    "    rows = (num_features + max_cols - 1) // max_cols\n",
    "    cols = min(num_features, max_cols)\n",
    "\n",
    "    palette = px.colors.qualitative.Plotly\n",
    "    subplot_titles = [\n",
    "        f.replace('Mean', '').replace('- rhindlimb - ', '').strip()\n",
    "        for f in matched_features\n",
    "    ]\n",
    "\n",
    "    fig = make_subplots(rows=rows, cols=cols, subplot_titles=subplot_titles)\n",
    "\n",
    "    for idx, feature in enumerate(matched_features):\n",
    "        row = idx // max_cols + 1\n",
    "        col = idx % max_cols + 1\n",
    "\n",
    "        group_means, group_stds, group_names, group_points = [], [], [], []\n",
    "\n",
    "        for name, df in data_subsets.items():\n",
    "            if feature not in df.columns:\n",
    "                continue\n",
    "            if not any(side in name.lower() for side in sides):\n",
    "                continue\n",
    "            if not (any(g in name for g in groups) and any(s in name for s in states)):\n",
    "                continue\n",
    "\n",
    "            values = df[feature].dropna()\n",
    "            if len(values) == 0:\n",
    "                continue\n",
    "\n",
    "            group_means.append(values.mean())\n",
    "            group_stds.append(values.std())\n",
    "            group_names.append(name)\n",
    "            group_points.append(values)\n",
    "\n",
    "        if not group_names:\n",
    "            continue\n",
    "\n",
    "        bar_colors = [palette[i % len(palette)] for i in range(len(group_names))]\n",
    "\n",
    "        # Bar with error bars\n",
    "        fig.add_trace(\n",
    "            go.Bar(\n",
    "                x=group_names,\n",
    "                y=group_means,\n",
    "                error_y=dict(type='data', array=group_stds, visible=True),\n",
    "                name=feature,\n",
    "                marker=dict(\n",
    "                    color=bar_colors,\n",
    "                    line=dict(color='black', width=1)\n",
    "                )\n",
    "            ),\n",
    "            row=row, col=col\n",
    "        )\n",
    "\n",
    "        # Scatter points\n",
    "        for i, (group, values) in enumerate(zip(group_names, group_points)):\n",
    "            fig.add_trace(\n",
    "                go.Scatter(\n",
    "                    x=[group] * len(values),\n",
    "                    y=values,\n",
    "                    mode='markers',\n",
    "                    marker=dict(size=6, opacity=0.5, color='black'),\n",
    "                    showlegend=False\n",
    "                ),\n",
    "                row=row, col=col\n",
    "            )\n",
    "\n",
    "    fig.update_layout(\n",
    "        title=\"Selected Features Across Groups\",\n",
    "        showlegend=False,\n",
    "        height=500 * rows,\n",
    "        width=400 * cols,\n",
    "        plot_bgcolor='rgba(0,0,0,0)'\n",
    "    )\n",
    "    return fig"
   ]
  },
  {
   "cell_type": "code",
   "execution_count": 13,
   "id": "3b5c8736",
   "metadata": {},
   "outputs": [
    {
     "name": "stdout",
     "output_type": "stream",
     "text": [
      "34\n"
     ]
    }
   ],
   "source": [
    "c_e_healthy_sig = set(all_healthy_anova_result[all_healthy_anova_result['Significance Healthy Left C vs Healthy Left E'] != 'n.s.']['Feature'])\n",
    "print(len(c_e_healthy_sig))"
   ]
  },
  {
   "cell_type": "code",
   "execution_count": 14,
   "id": "88ea9e4c",
   "metadata": {},
   "outputs": [
    {
     "name": "stdout",
     "output_type": "stream",
     "text": [
      "Number of features that differ between all healthy groups (ABCDE): 244/2680\n"
     ]
    },
    {
     "data": {
      "application/vnd.plotly.v1+json": {
       "config": {
        "plotlyServerURL": "https://plot.ly"
       },
       "data": [
        {
         "labels": [
          "Different Features",
          "Non Different Features"
         ],
         "marker": {
          "colors": [
           "red",
           "green"
          ],
          "line": {
           "color": "black",
           "width": 1
          }
         },
         "pull": [
          0,
          0.2
         ],
         "type": "pie",
         "values": [
          244,
          2436
         ]
        }
       ],
       "layout": {
        "height": 400,
        "legend": {
         "title": {
          "font": {
           "size": 18
          },
          "text": "Feature Types"
         }
        },
        "template": {
         "data": {
          "bar": [
           {
            "error_x": {
             "color": "#2a3f5f"
            },
            "error_y": {
             "color": "#2a3f5f"
            },
            "marker": {
             "line": {
              "color": "#E5ECF6",
              "width": 0.5
             },
             "pattern": {
              "fillmode": "overlay",
              "size": 10,
              "solidity": 0.2
             }
            },
            "type": "bar"
           }
          ],
          "barpolar": [
           {
            "marker": {
             "line": {
              "color": "#E5ECF6",
              "width": 0.5
             },
             "pattern": {
              "fillmode": "overlay",
              "size": 10,
              "solidity": 0.2
             }
            },
            "type": "barpolar"
           }
          ],
          "carpet": [
           {
            "aaxis": {
             "endlinecolor": "#2a3f5f",
             "gridcolor": "white",
             "linecolor": "white",
             "minorgridcolor": "white",
             "startlinecolor": "#2a3f5f"
            },
            "baxis": {
             "endlinecolor": "#2a3f5f",
             "gridcolor": "white",
             "linecolor": "white",
             "minorgridcolor": "white",
             "startlinecolor": "#2a3f5f"
            },
            "type": "carpet"
           }
          ],
          "choropleth": [
           {
            "colorbar": {
             "outlinewidth": 0,
             "ticks": ""
            },
            "type": "choropleth"
           }
          ],
          "contour": [
           {
            "colorbar": {
             "outlinewidth": 0,
             "ticks": ""
            },
            "colorscale": [
             [
              0,
              "#0d0887"
             ],
             [
              0.1111111111111111,
              "#46039f"
             ],
             [
              0.2222222222222222,
              "#7201a8"
             ],
             [
              0.3333333333333333,
              "#9c179e"
             ],
             [
              0.4444444444444444,
              "#bd3786"
             ],
             [
              0.5555555555555556,
              "#d8576b"
             ],
             [
              0.6666666666666666,
              "#ed7953"
             ],
             [
              0.7777777777777778,
              "#fb9f3a"
             ],
             [
              0.8888888888888888,
              "#fdca26"
             ],
             [
              1,
              "#f0f921"
             ]
            ],
            "type": "contour"
           }
          ],
          "contourcarpet": [
           {
            "colorbar": {
             "outlinewidth": 0,
             "ticks": ""
            },
            "type": "contourcarpet"
           }
          ],
          "heatmap": [
           {
            "colorbar": {
             "outlinewidth": 0,
             "ticks": ""
            },
            "colorscale": [
             [
              0,
              "#0d0887"
             ],
             [
              0.1111111111111111,
              "#46039f"
             ],
             [
              0.2222222222222222,
              "#7201a8"
             ],
             [
              0.3333333333333333,
              "#9c179e"
             ],
             [
              0.4444444444444444,
              "#bd3786"
             ],
             [
              0.5555555555555556,
              "#d8576b"
             ],
             [
              0.6666666666666666,
              "#ed7953"
             ],
             [
              0.7777777777777778,
              "#fb9f3a"
             ],
             [
              0.8888888888888888,
              "#fdca26"
             ],
             [
              1,
              "#f0f921"
             ]
            ],
            "type": "heatmap"
           }
          ],
          "histogram": [
           {
            "marker": {
             "pattern": {
              "fillmode": "overlay",
              "size": 10,
              "solidity": 0.2
             }
            },
            "type": "histogram"
           }
          ],
          "histogram2d": [
           {
            "colorbar": {
             "outlinewidth": 0,
             "ticks": ""
            },
            "colorscale": [
             [
              0,
              "#0d0887"
             ],
             [
              0.1111111111111111,
              "#46039f"
             ],
             [
              0.2222222222222222,
              "#7201a8"
             ],
             [
              0.3333333333333333,
              "#9c179e"
             ],
             [
              0.4444444444444444,
              "#bd3786"
             ],
             [
              0.5555555555555556,
              "#d8576b"
             ],
             [
              0.6666666666666666,
              "#ed7953"
             ],
             [
              0.7777777777777778,
              "#fb9f3a"
             ],
             [
              0.8888888888888888,
              "#fdca26"
             ],
             [
              1,
              "#f0f921"
             ]
            ],
            "type": "histogram2d"
           }
          ],
          "histogram2dcontour": [
           {
            "colorbar": {
             "outlinewidth": 0,
             "ticks": ""
            },
            "colorscale": [
             [
              0,
              "#0d0887"
             ],
             [
              0.1111111111111111,
              "#46039f"
             ],
             [
              0.2222222222222222,
              "#7201a8"
             ],
             [
              0.3333333333333333,
              "#9c179e"
             ],
             [
              0.4444444444444444,
              "#bd3786"
             ],
             [
              0.5555555555555556,
              "#d8576b"
             ],
             [
              0.6666666666666666,
              "#ed7953"
             ],
             [
              0.7777777777777778,
              "#fb9f3a"
             ],
             [
              0.8888888888888888,
              "#fdca26"
             ],
             [
              1,
              "#f0f921"
             ]
            ],
            "type": "histogram2dcontour"
           }
          ],
          "mesh3d": [
           {
            "colorbar": {
             "outlinewidth": 0,
             "ticks": ""
            },
            "type": "mesh3d"
           }
          ],
          "parcoords": [
           {
            "line": {
             "colorbar": {
              "outlinewidth": 0,
              "ticks": ""
             }
            },
            "type": "parcoords"
           }
          ],
          "pie": [
           {
            "automargin": true,
            "type": "pie"
           }
          ],
          "scatter": [
           {
            "fillpattern": {
             "fillmode": "overlay",
             "size": 10,
             "solidity": 0.2
            },
            "type": "scatter"
           }
          ],
          "scatter3d": [
           {
            "line": {
             "colorbar": {
              "outlinewidth": 0,
              "ticks": ""
             }
            },
            "marker": {
             "colorbar": {
              "outlinewidth": 0,
              "ticks": ""
             }
            },
            "type": "scatter3d"
           }
          ],
          "scattercarpet": [
           {
            "marker": {
             "colorbar": {
              "outlinewidth": 0,
              "ticks": ""
             }
            },
            "type": "scattercarpet"
           }
          ],
          "scattergeo": [
           {
            "marker": {
             "colorbar": {
              "outlinewidth": 0,
              "ticks": ""
             }
            },
            "type": "scattergeo"
           }
          ],
          "scattergl": [
           {
            "marker": {
             "colorbar": {
              "outlinewidth": 0,
              "ticks": ""
             }
            },
            "type": "scattergl"
           }
          ],
          "scattermap": [
           {
            "marker": {
             "colorbar": {
              "outlinewidth": 0,
              "ticks": ""
             }
            },
            "type": "scattermap"
           }
          ],
          "scattermapbox": [
           {
            "marker": {
             "colorbar": {
              "outlinewidth": 0,
              "ticks": ""
             }
            },
            "type": "scattermapbox"
           }
          ],
          "scatterpolar": [
           {
            "marker": {
             "colorbar": {
              "outlinewidth": 0,
              "ticks": ""
             }
            },
            "type": "scatterpolar"
           }
          ],
          "scatterpolargl": [
           {
            "marker": {
             "colorbar": {
              "outlinewidth": 0,
              "ticks": ""
             }
            },
            "type": "scatterpolargl"
           }
          ],
          "scatterternary": [
           {
            "marker": {
             "colorbar": {
              "outlinewidth": 0,
              "ticks": ""
             }
            },
            "type": "scatterternary"
           }
          ],
          "surface": [
           {
            "colorbar": {
             "outlinewidth": 0,
             "ticks": ""
            },
            "colorscale": [
             [
              0,
              "#0d0887"
             ],
             [
              0.1111111111111111,
              "#46039f"
             ],
             [
              0.2222222222222222,
              "#7201a8"
             ],
             [
              0.3333333333333333,
              "#9c179e"
             ],
             [
              0.4444444444444444,
              "#bd3786"
             ],
             [
              0.5555555555555556,
              "#d8576b"
             ],
             [
              0.6666666666666666,
              "#ed7953"
             ],
             [
              0.7777777777777778,
              "#fb9f3a"
             ],
             [
              0.8888888888888888,
              "#fdca26"
             ],
             [
              1,
              "#f0f921"
             ]
            ],
            "type": "surface"
           }
          ],
          "table": [
           {
            "cells": {
             "fill": {
              "color": "#EBF0F8"
             },
             "line": {
              "color": "white"
             }
            },
            "header": {
             "fill": {
              "color": "#C8D4E3"
             },
             "line": {
              "color": "white"
             }
            },
            "type": "table"
           }
          ]
         },
         "layout": {
          "annotationdefaults": {
           "arrowcolor": "#2a3f5f",
           "arrowhead": 0,
           "arrowwidth": 1
          },
          "autotypenumbers": "strict",
          "coloraxis": {
           "colorbar": {
            "outlinewidth": 0,
            "ticks": ""
           }
          },
          "colorscale": {
           "diverging": [
            [
             0,
             "#8e0152"
            ],
            [
             0.1,
             "#c51b7d"
            ],
            [
             0.2,
             "#de77ae"
            ],
            [
             0.3,
             "#f1b6da"
            ],
            [
             0.4,
             "#fde0ef"
            ],
            [
             0.5,
             "#f7f7f7"
            ],
            [
             0.6,
             "#e6f5d0"
            ],
            [
             0.7,
             "#b8e186"
            ],
            [
             0.8,
             "#7fbc41"
            ],
            [
             0.9,
             "#4d9221"
            ],
            [
             1,
             "#276419"
            ]
           ],
           "sequential": [
            [
             0,
             "#0d0887"
            ],
            [
             0.1111111111111111,
             "#46039f"
            ],
            [
             0.2222222222222222,
             "#7201a8"
            ],
            [
             0.3333333333333333,
             "#9c179e"
            ],
            [
             0.4444444444444444,
             "#bd3786"
            ],
            [
             0.5555555555555556,
             "#d8576b"
            ],
            [
             0.6666666666666666,
             "#ed7953"
            ],
            [
             0.7777777777777778,
             "#fb9f3a"
            ],
            [
             0.8888888888888888,
             "#fdca26"
            ],
            [
             1,
             "#f0f921"
            ]
           ],
           "sequentialminus": [
            [
             0,
             "#0d0887"
            ],
            [
             0.1111111111111111,
             "#46039f"
            ],
            [
             0.2222222222222222,
             "#7201a8"
            ],
            [
             0.3333333333333333,
             "#9c179e"
            ],
            [
             0.4444444444444444,
             "#bd3786"
            ],
            [
             0.5555555555555556,
             "#d8576b"
            ],
            [
             0.6666666666666666,
             "#ed7953"
            ],
            [
             0.7777777777777778,
             "#fb9f3a"
            ],
            [
             0.8888888888888888,
             "#fdca26"
            ],
            [
             1,
             "#f0f921"
            ]
           ]
          },
          "colorway": [
           "#636efa",
           "#EF553B",
           "#00cc96",
           "#ab63fa",
           "#FFA15A",
           "#19d3f3",
           "#FF6692",
           "#B6E880",
           "#FF97FF",
           "#FECB52"
          ],
          "font": {
           "color": "#2a3f5f"
          },
          "geo": {
           "bgcolor": "white",
           "lakecolor": "white",
           "landcolor": "#E5ECF6",
           "showlakes": true,
           "showland": true,
           "subunitcolor": "white"
          },
          "hoverlabel": {
           "align": "left"
          },
          "hovermode": "closest",
          "mapbox": {
           "style": "light"
          },
          "paper_bgcolor": "white",
          "plot_bgcolor": "#E5ECF6",
          "polar": {
           "angularaxis": {
            "gridcolor": "white",
            "linecolor": "white",
            "ticks": ""
           },
           "bgcolor": "#E5ECF6",
           "radialaxis": {
            "gridcolor": "white",
            "linecolor": "white",
            "ticks": ""
           }
          },
          "scene": {
           "xaxis": {
            "backgroundcolor": "#E5ECF6",
            "gridcolor": "white",
            "gridwidth": 2,
            "linecolor": "white",
            "showbackground": true,
            "ticks": "",
            "zerolinecolor": "white"
           },
           "yaxis": {
            "backgroundcolor": "#E5ECF6",
            "gridcolor": "white",
            "gridwidth": 2,
            "linecolor": "white",
            "showbackground": true,
            "ticks": "",
            "zerolinecolor": "white"
           },
           "zaxis": {
            "backgroundcolor": "#E5ECF6",
            "gridcolor": "white",
            "gridwidth": 2,
            "linecolor": "white",
            "showbackground": true,
            "ticks": "",
            "zerolinecolor": "white"
           }
          },
          "shapedefaults": {
           "line": {
            "color": "#2a3f5f"
           }
          },
          "ternary": {
           "aaxis": {
            "gridcolor": "white",
            "linecolor": "white",
            "ticks": ""
           },
           "baxis": {
            "gridcolor": "white",
            "linecolor": "white",
            "ticks": ""
           },
           "bgcolor": "#E5ECF6",
           "caxis": {
            "gridcolor": "white",
            "linecolor": "white",
            "ticks": ""
           }
          },
          "title": {
           "x": 0.05
          },
          "xaxis": {
           "automargin": true,
           "gridcolor": "white",
           "linecolor": "white",
           "ticks": "",
           "title": {
            "standoff": 15
           },
           "zerolinecolor": "white",
           "zerolinewidth": 2
          },
          "yaxis": {
           "automargin": true,
           "gridcolor": "white",
           "linecolor": "white",
           "ticks": "",
           "title": {
            "standoff": 15
           },
           "zerolinecolor": "white",
           "zerolinewidth": 2
          }
         }
        },
        "title": {
         "font": {
          "size": 24
         },
         "text": "Differences Between Healthy Groups"
        },
        "width": 600
       }
      }
     },
     "metadata": {},
     "output_type": "display_data"
    }
   ],
   "source": [
    "print(f\"Number of features that differ between all healthy groups (ABCDE): {len(all_healthy_anova_result[all_healthy_anova_result['Global significance'] != 'n.s.'])}/{len(all_healthy_anova_result)}\")\n",
    "\n",
    "labels = (\"Different Features\", \"Non Different Features\")\n",
    "sized = (\n",
    "    len(all_healthy_anova_result[all_healthy_anova_result['Global significance'] != 'n.s.']),\n",
    "    len(all_healthy_anova_result[all_healthy_anova_result['Global significance'] == 'n.s.'])\n",
    ")\n",
    "different_healthy_features_fig = go.Figure(\n",
    "    data=[go.Pie(\n",
    "        labels=labels, \n",
    "        values=sized, \n",
    "        pull=[0, 0.2],\n",
    "        marker=dict(colors=['red', 'green'], line=dict(color='black', width=1))\n",
    "        )]\n",
    ")\n",
    "different_healthy_features_fig.update_layout(\n",
    "    title_text=\"Differences Between Healthy Groups\",\n",
    "    title_font_size=24,\n",
    "    legend_title_text=\"Feature Types\",\n",
    "    legend_title_font_size=18,\n",
    "    height=400,\n",
    "    width=600,\n",
    ")\n",
    "different_healthy_features_fig.write_image(\"healthy_mice_differences.svg\")\n",
    "different_healthy_features_fig.show()"
   ]
  },
  {
   "cell_type": "code",
   "execution_count": 15,
   "id": "904e95fb",
   "metadata": {},
   "outputs": [
    {
     "name": "stdout",
     "output_type": "stream",
     "text": [
      "Number of significant features that describe the lesion (B pre vs C post): 229\n",
      "Number of improving lesion features after treatment: 124. Mean effect size: 0.46\n",
      "Number of worsening lesion features after treatment: 105. Mean effect size: -0.32\n"
     ]
    },
    {
     "data": {
      "application/vnd.plotly.v1+json": {
       "config": {
        "plotlyServerURL": "https://plot.ly"
       },
       "data": [
        {
         "labels": [
          "Improving Lesion Features",
          "Worsening Lesion Features",
          "Non-Lesion Features"
         ],
         "marker": {
          "colors": [
           "green",
           "red",
           "grey"
          ],
          "line": {
           "color": "black",
           "width": 1
          }
         },
         "pull": [
          0,
          0,
          0.2
         ],
         "type": "pie",
         "values": [
          124,
          105,
          2680
         ]
        }
       ],
       "layout": {
        "height": 400,
        "legend": {
         "title": {
          "font": {
           "size": 18
          },
          "text": "Feature Types"
         }
        },
        "template": {
         "data": {
          "bar": [
           {
            "error_x": {
             "color": "#2a3f5f"
            },
            "error_y": {
             "color": "#2a3f5f"
            },
            "marker": {
             "line": {
              "color": "#E5ECF6",
              "width": 0.5
             },
             "pattern": {
              "fillmode": "overlay",
              "size": 10,
              "solidity": 0.2
             }
            },
            "type": "bar"
           }
          ],
          "barpolar": [
           {
            "marker": {
             "line": {
              "color": "#E5ECF6",
              "width": 0.5
             },
             "pattern": {
              "fillmode": "overlay",
              "size": 10,
              "solidity": 0.2
             }
            },
            "type": "barpolar"
           }
          ],
          "carpet": [
           {
            "aaxis": {
             "endlinecolor": "#2a3f5f",
             "gridcolor": "white",
             "linecolor": "white",
             "minorgridcolor": "white",
             "startlinecolor": "#2a3f5f"
            },
            "baxis": {
             "endlinecolor": "#2a3f5f",
             "gridcolor": "white",
             "linecolor": "white",
             "minorgridcolor": "white",
             "startlinecolor": "#2a3f5f"
            },
            "type": "carpet"
           }
          ],
          "choropleth": [
           {
            "colorbar": {
             "outlinewidth": 0,
             "ticks": ""
            },
            "type": "choropleth"
           }
          ],
          "contour": [
           {
            "colorbar": {
             "outlinewidth": 0,
             "ticks": ""
            },
            "colorscale": [
             [
              0,
              "#0d0887"
             ],
             [
              0.1111111111111111,
              "#46039f"
             ],
             [
              0.2222222222222222,
              "#7201a8"
             ],
             [
              0.3333333333333333,
              "#9c179e"
             ],
             [
              0.4444444444444444,
              "#bd3786"
             ],
             [
              0.5555555555555556,
              "#d8576b"
             ],
             [
              0.6666666666666666,
              "#ed7953"
             ],
             [
              0.7777777777777778,
              "#fb9f3a"
             ],
             [
              0.8888888888888888,
              "#fdca26"
             ],
             [
              1,
              "#f0f921"
             ]
            ],
            "type": "contour"
           }
          ],
          "contourcarpet": [
           {
            "colorbar": {
             "outlinewidth": 0,
             "ticks": ""
            },
            "type": "contourcarpet"
           }
          ],
          "heatmap": [
           {
            "colorbar": {
             "outlinewidth": 0,
             "ticks": ""
            },
            "colorscale": [
             [
              0,
              "#0d0887"
             ],
             [
              0.1111111111111111,
              "#46039f"
             ],
             [
              0.2222222222222222,
              "#7201a8"
             ],
             [
              0.3333333333333333,
              "#9c179e"
             ],
             [
              0.4444444444444444,
              "#bd3786"
             ],
             [
              0.5555555555555556,
              "#d8576b"
             ],
             [
              0.6666666666666666,
              "#ed7953"
             ],
             [
              0.7777777777777778,
              "#fb9f3a"
             ],
             [
              0.8888888888888888,
              "#fdca26"
             ],
             [
              1,
              "#f0f921"
             ]
            ],
            "type": "heatmap"
           }
          ],
          "histogram": [
           {
            "marker": {
             "pattern": {
              "fillmode": "overlay",
              "size": 10,
              "solidity": 0.2
             }
            },
            "type": "histogram"
           }
          ],
          "histogram2d": [
           {
            "colorbar": {
             "outlinewidth": 0,
             "ticks": ""
            },
            "colorscale": [
             [
              0,
              "#0d0887"
             ],
             [
              0.1111111111111111,
              "#46039f"
             ],
             [
              0.2222222222222222,
              "#7201a8"
             ],
             [
              0.3333333333333333,
              "#9c179e"
             ],
             [
              0.4444444444444444,
              "#bd3786"
             ],
             [
              0.5555555555555556,
              "#d8576b"
             ],
             [
              0.6666666666666666,
              "#ed7953"
             ],
             [
              0.7777777777777778,
              "#fb9f3a"
             ],
             [
              0.8888888888888888,
              "#fdca26"
             ],
             [
              1,
              "#f0f921"
             ]
            ],
            "type": "histogram2d"
           }
          ],
          "histogram2dcontour": [
           {
            "colorbar": {
             "outlinewidth": 0,
             "ticks": ""
            },
            "colorscale": [
             [
              0,
              "#0d0887"
             ],
             [
              0.1111111111111111,
              "#46039f"
             ],
             [
              0.2222222222222222,
              "#7201a8"
             ],
             [
              0.3333333333333333,
              "#9c179e"
             ],
             [
              0.4444444444444444,
              "#bd3786"
             ],
             [
              0.5555555555555556,
              "#d8576b"
             ],
             [
              0.6666666666666666,
              "#ed7953"
             ],
             [
              0.7777777777777778,
              "#fb9f3a"
             ],
             [
              0.8888888888888888,
              "#fdca26"
             ],
             [
              1,
              "#f0f921"
             ]
            ],
            "type": "histogram2dcontour"
           }
          ],
          "mesh3d": [
           {
            "colorbar": {
             "outlinewidth": 0,
             "ticks": ""
            },
            "type": "mesh3d"
           }
          ],
          "parcoords": [
           {
            "line": {
             "colorbar": {
              "outlinewidth": 0,
              "ticks": ""
             }
            },
            "type": "parcoords"
           }
          ],
          "pie": [
           {
            "automargin": true,
            "type": "pie"
           }
          ],
          "scatter": [
           {
            "fillpattern": {
             "fillmode": "overlay",
             "size": 10,
             "solidity": 0.2
            },
            "type": "scatter"
           }
          ],
          "scatter3d": [
           {
            "line": {
             "colorbar": {
              "outlinewidth": 0,
              "ticks": ""
             }
            },
            "marker": {
             "colorbar": {
              "outlinewidth": 0,
              "ticks": ""
             }
            },
            "type": "scatter3d"
           }
          ],
          "scattercarpet": [
           {
            "marker": {
             "colorbar": {
              "outlinewidth": 0,
              "ticks": ""
             }
            },
            "type": "scattercarpet"
           }
          ],
          "scattergeo": [
           {
            "marker": {
             "colorbar": {
              "outlinewidth": 0,
              "ticks": ""
             }
            },
            "type": "scattergeo"
           }
          ],
          "scattergl": [
           {
            "marker": {
             "colorbar": {
              "outlinewidth": 0,
              "ticks": ""
             }
            },
            "type": "scattergl"
           }
          ],
          "scattermap": [
           {
            "marker": {
             "colorbar": {
              "outlinewidth": 0,
              "ticks": ""
             }
            },
            "type": "scattermap"
           }
          ],
          "scattermapbox": [
           {
            "marker": {
             "colorbar": {
              "outlinewidth": 0,
              "ticks": ""
             }
            },
            "type": "scattermapbox"
           }
          ],
          "scatterpolar": [
           {
            "marker": {
             "colorbar": {
              "outlinewidth": 0,
              "ticks": ""
             }
            },
            "type": "scatterpolar"
           }
          ],
          "scatterpolargl": [
           {
            "marker": {
             "colorbar": {
              "outlinewidth": 0,
              "ticks": ""
             }
            },
            "type": "scatterpolargl"
           }
          ],
          "scatterternary": [
           {
            "marker": {
             "colorbar": {
              "outlinewidth": 0,
              "ticks": ""
             }
            },
            "type": "scatterternary"
           }
          ],
          "surface": [
           {
            "colorbar": {
             "outlinewidth": 0,
             "ticks": ""
            },
            "colorscale": [
             [
              0,
              "#0d0887"
             ],
             [
              0.1111111111111111,
              "#46039f"
             ],
             [
              0.2222222222222222,
              "#7201a8"
             ],
             [
              0.3333333333333333,
              "#9c179e"
             ],
             [
              0.4444444444444444,
              "#bd3786"
             ],
             [
              0.5555555555555556,
              "#d8576b"
             ],
             [
              0.6666666666666666,
              "#ed7953"
             ],
             [
              0.7777777777777778,
              "#fb9f3a"
             ],
             [
              0.8888888888888888,
              "#fdca26"
             ],
             [
              1,
              "#f0f921"
             ]
            ],
            "type": "surface"
           }
          ],
          "table": [
           {
            "cells": {
             "fill": {
              "color": "#EBF0F8"
             },
             "line": {
              "color": "white"
             }
            },
            "header": {
             "fill": {
              "color": "#C8D4E3"
             },
             "line": {
              "color": "white"
             }
            },
            "type": "table"
           }
          ]
         },
         "layout": {
          "annotationdefaults": {
           "arrowcolor": "#2a3f5f",
           "arrowhead": 0,
           "arrowwidth": 1
          },
          "autotypenumbers": "strict",
          "coloraxis": {
           "colorbar": {
            "outlinewidth": 0,
            "ticks": ""
           }
          },
          "colorscale": {
           "diverging": [
            [
             0,
             "#8e0152"
            ],
            [
             0.1,
             "#c51b7d"
            ],
            [
             0.2,
             "#de77ae"
            ],
            [
             0.3,
             "#f1b6da"
            ],
            [
             0.4,
             "#fde0ef"
            ],
            [
             0.5,
             "#f7f7f7"
            ],
            [
             0.6,
             "#e6f5d0"
            ],
            [
             0.7,
             "#b8e186"
            ],
            [
             0.8,
             "#7fbc41"
            ],
            [
             0.9,
             "#4d9221"
            ],
            [
             1,
             "#276419"
            ]
           ],
           "sequential": [
            [
             0,
             "#0d0887"
            ],
            [
             0.1111111111111111,
             "#46039f"
            ],
            [
             0.2222222222222222,
             "#7201a8"
            ],
            [
             0.3333333333333333,
             "#9c179e"
            ],
            [
             0.4444444444444444,
             "#bd3786"
            ],
            [
             0.5555555555555556,
             "#d8576b"
            ],
            [
             0.6666666666666666,
             "#ed7953"
            ],
            [
             0.7777777777777778,
             "#fb9f3a"
            ],
            [
             0.8888888888888888,
             "#fdca26"
            ],
            [
             1,
             "#f0f921"
            ]
           ],
           "sequentialminus": [
            [
             0,
             "#0d0887"
            ],
            [
             0.1111111111111111,
             "#46039f"
            ],
            [
             0.2222222222222222,
             "#7201a8"
            ],
            [
             0.3333333333333333,
             "#9c179e"
            ],
            [
             0.4444444444444444,
             "#bd3786"
            ],
            [
             0.5555555555555556,
             "#d8576b"
            ],
            [
             0.6666666666666666,
             "#ed7953"
            ],
            [
             0.7777777777777778,
             "#fb9f3a"
            ],
            [
             0.8888888888888888,
             "#fdca26"
            ],
            [
             1,
             "#f0f921"
            ]
           ]
          },
          "colorway": [
           "#636efa",
           "#EF553B",
           "#00cc96",
           "#ab63fa",
           "#FFA15A",
           "#19d3f3",
           "#FF6692",
           "#B6E880",
           "#FF97FF",
           "#FECB52"
          ],
          "font": {
           "color": "#2a3f5f"
          },
          "geo": {
           "bgcolor": "white",
           "lakecolor": "white",
           "landcolor": "#E5ECF6",
           "showlakes": true,
           "showland": true,
           "subunitcolor": "white"
          },
          "hoverlabel": {
           "align": "left"
          },
          "hovermode": "closest",
          "mapbox": {
           "style": "light"
          },
          "paper_bgcolor": "white",
          "plot_bgcolor": "#E5ECF6",
          "polar": {
           "angularaxis": {
            "gridcolor": "white",
            "linecolor": "white",
            "ticks": ""
           },
           "bgcolor": "#E5ECF6",
           "radialaxis": {
            "gridcolor": "white",
            "linecolor": "white",
            "ticks": ""
           }
          },
          "scene": {
           "xaxis": {
            "backgroundcolor": "#E5ECF6",
            "gridcolor": "white",
            "gridwidth": 2,
            "linecolor": "white",
            "showbackground": true,
            "ticks": "",
            "zerolinecolor": "white"
           },
           "yaxis": {
            "backgroundcolor": "#E5ECF6",
            "gridcolor": "white",
            "gridwidth": 2,
            "linecolor": "white",
            "showbackground": true,
            "ticks": "",
            "zerolinecolor": "white"
           },
           "zaxis": {
            "backgroundcolor": "#E5ECF6",
            "gridcolor": "white",
            "gridwidth": 2,
            "linecolor": "white",
            "showbackground": true,
            "ticks": "",
            "zerolinecolor": "white"
           }
          },
          "shapedefaults": {
           "line": {
            "color": "#2a3f5f"
           }
          },
          "ternary": {
           "aaxis": {
            "gridcolor": "white",
            "linecolor": "white",
            "ticks": ""
           },
           "baxis": {
            "gridcolor": "white",
            "linecolor": "white",
            "ticks": ""
           },
           "bgcolor": "#E5ECF6",
           "caxis": {
            "gridcolor": "white",
            "linecolor": "white",
            "ticks": ""
           }
          },
          "title": {
           "x": 0.05
          },
          "xaxis": {
           "automargin": true,
           "gridcolor": "white",
           "linecolor": "white",
           "ticks": "",
           "title": {
            "standoff": 15
           },
           "zerolinecolor": "white",
           "zerolinewidth": 2
          },
          "yaxis": {
           "automargin": true,
           "gridcolor": "white",
           "linecolor": "white",
           "ticks": "",
           "title": {
            "standoff": 15
           },
           "zerolinecolor": "white",
           "zerolinewidth": 2
          }
         }
        },
        "title": {
         "font": {
          "size": 24
         },
         "text": "Lesion Feature Distribution"
        },
        "width": 600
       }
      }
     },
     "metadata": {},
     "output_type": "display_data"
    }
   ],
   "source": [
    "### lesion effect (B pre vs C post)\n",
    "lesion_effect_df = treatment_on_lesion_df[treatment_on_lesion_df['Significance'] != 'n.s.']\n",
    "print(f\"Number of significant features that describe the lesion (B pre vs C post): {lesion_effect_df.shape[0]}\")\n",
    "improving_lesion_features = lesion_effect_df[lesion_effect_df['direction'] == 'towards_healthy']\n",
    "avg_improving_effect_size = improving_lesion_features['change_effect_size'].mean()\n",
    "print(f\"Number of improving lesion features after treatment: {improving_lesion_features.shape[0]}. Mean effect size: {avg_improving_effect_size:.2f}\")\n",
    "worsening_lesion_features = lesion_effect_df[lesion_effect_df['direction'] == 'away_from_healthy']\n",
    "avg_worsening_effect_size = worsening_lesion_features['change_effect_size'].mean()\n",
    "print(f\"Number of worsening lesion features after treatment: {worsening_lesion_features.shape[0]}. Mean effect size: {avg_worsening_effect_size:.2f}\")\n",
    "\n",
    "labels = (\"Improving Lesion Features\", \"Worsening Lesion Features\", \"Non-Lesion Features\")\n",
    "sizes = (\n",
    "    improving_lesion_features.shape[0],\n",
    "    worsening_lesion_features.shape[0],\n",
    "    treatment_on_lesion_df.shape[0]\n",
    ")\n",
    "lesion_fig = go.Figure(\n",
    "    data=[go.Pie(\n",
    "        labels=labels, \n",
    "        values=sizes, \n",
    "        pull=[0, 0, 0.2],\n",
    "        marker=dict(colors=['green', 'red', 'grey'], line=dict(color='black', width=1))\n",
    "        )]\n",
    ")\n",
    "lesion_fig.update_layout(\n",
    "    title_text=\"Lesion Feature Distribution\",\n",
    "    title_font_size=24,\n",
    "    legend_title_text=\"Feature Types\",\n",
    "    legend_title_font_size=18,\n",
    "    height=400,\n",
    "    width=600,\n",
    ")\n",
    "\n",
    "lesion_fig.write_image(os.path.join('./', 'lesion_feature_distribution.svg'))\n",
    "lesion_fig.show()"
   ]
  },
  {
   "cell_type": "code",
   "execution_count": 16,
   "id": "fa3f2d0c",
   "metadata": {},
   "outputs": [
    {
     "name": "stdout",
     "output_type": "stream",
     "text": [
      "Number of features affected by the treatment (C pre vs E post): 336\n",
      "Number of non-pathological features affected by the treatment: 261\n",
      "Number of improving treatment features: 56. Average effect size: 0.20\n",
      "Number of worsening treatment features: 205. Average effect size: -0.44\n"
     ]
    },
    {
     "data": {
      "application/vnd.plotly.v1+json": {
       "config": {
        "plotlyServerURL": "https://plot.ly"
       },
       "data": [
        {
         "labels": [
          "Improving Treatment Features",
          "Worsening Treatment Features",
          "Non-Lesion Features"
         ],
         "marker": {
          "colors": [
           "green",
           "red",
           "grey"
          ],
          "line": {
           "color": "black",
           "width": 1
          }
         },
         "pull": [
          0,
          0,
          0.2
         ],
         "type": "pie",
         "values": [
          56,
          205,
          2680
         ]
        }
       ],
       "layout": {
        "height": 400,
        "legend": {
         "title": {
          "font": {
           "size": 18
          },
          "text": "Feature Types"
         }
        },
        "template": {
         "data": {
          "bar": [
           {
            "error_x": {
             "color": "#2a3f5f"
            },
            "error_y": {
             "color": "#2a3f5f"
            },
            "marker": {
             "line": {
              "color": "#E5ECF6",
              "width": 0.5
             },
             "pattern": {
              "fillmode": "overlay",
              "size": 10,
              "solidity": 0.2
             }
            },
            "type": "bar"
           }
          ],
          "barpolar": [
           {
            "marker": {
             "line": {
              "color": "#E5ECF6",
              "width": 0.5
             },
             "pattern": {
              "fillmode": "overlay",
              "size": 10,
              "solidity": 0.2
             }
            },
            "type": "barpolar"
           }
          ],
          "carpet": [
           {
            "aaxis": {
             "endlinecolor": "#2a3f5f",
             "gridcolor": "white",
             "linecolor": "white",
             "minorgridcolor": "white",
             "startlinecolor": "#2a3f5f"
            },
            "baxis": {
             "endlinecolor": "#2a3f5f",
             "gridcolor": "white",
             "linecolor": "white",
             "minorgridcolor": "white",
             "startlinecolor": "#2a3f5f"
            },
            "type": "carpet"
           }
          ],
          "choropleth": [
           {
            "colorbar": {
             "outlinewidth": 0,
             "ticks": ""
            },
            "type": "choropleth"
           }
          ],
          "contour": [
           {
            "colorbar": {
             "outlinewidth": 0,
             "ticks": ""
            },
            "colorscale": [
             [
              0,
              "#0d0887"
             ],
             [
              0.1111111111111111,
              "#46039f"
             ],
             [
              0.2222222222222222,
              "#7201a8"
             ],
             [
              0.3333333333333333,
              "#9c179e"
             ],
             [
              0.4444444444444444,
              "#bd3786"
             ],
             [
              0.5555555555555556,
              "#d8576b"
             ],
             [
              0.6666666666666666,
              "#ed7953"
             ],
             [
              0.7777777777777778,
              "#fb9f3a"
             ],
             [
              0.8888888888888888,
              "#fdca26"
             ],
             [
              1,
              "#f0f921"
             ]
            ],
            "type": "contour"
           }
          ],
          "contourcarpet": [
           {
            "colorbar": {
             "outlinewidth": 0,
             "ticks": ""
            },
            "type": "contourcarpet"
           }
          ],
          "heatmap": [
           {
            "colorbar": {
             "outlinewidth": 0,
             "ticks": ""
            },
            "colorscale": [
             [
              0,
              "#0d0887"
             ],
             [
              0.1111111111111111,
              "#46039f"
             ],
             [
              0.2222222222222222,
              "#7201a8"
             ],
             [
              0.3333333333333333,
              "#9c179e"
             ],
             [
              0.4444444444444444,
              "#bd3786"
             ],
             [
              0.5555555555555556,
              "#d8576b"
             ],
             [
              0.6666666666666666,
              "#ed7953"
             ],
             [
              0.7777777777777778,
              "#fb9f3a"
             ],
             [
              0.8888888888888888,
              "#fdca26"
             ],
             [
              1,
              "#f0f921"
             ]
            ],
            "type": "heatmap"
           }
          ],
          "histogram": [
           {
            "marker": {
             "pattern": {
              "fillmode": "overlay",
              "size": 10,
              "solidity": 0.2
             }
            },
            "type": "histogram"
           }
          ],
          "histogram2d": [
           {
            "colorbar": {
             "outlinewidth": 0,
             "ticks": ""
            },
            "colorscale": [
             [
              0,
              "#0d0887"
             ],
             [
              0.1111111111111111,
              "#46039f"
             ],
             [
              0.2222222222222222,
              "#7201a8"
             ],
             [
              0.3333333333333333,
              "#9c179e"
             ],
             [
              0.4444444444444444,
              "#bd3786"
             ],
             [
              0.5555555555555556,
              "#d8576b"
             ],
             [
              0.6666666666666666,
              "#ed7953"
             ],
             [
              0.7777777777777778,
              "#fb9f3a"
             ],
             [
              0.8888888888888888,
              "#fdca26"
             ],
             [
              1,
              "#f0f921"
             ]
            ],
            "type": "histogram2d"
           }
          ],
          "histogram2dcontour": [
           {
            "colorbar": {
             "outlinewidth": 0,
             "ticks": ""
            },
            "colorscale": [
             [
              0,
              "#0d0887"
             ],
             [
              0.1111111111111111,
              "#46039f"
             ],
             [
              0.2222222222222222,
              "#7201a8"
             ],
             [
              0.3333333333333333,
              "#9c179e"
             ],
             [
              0.4444444444444444,
              "#bd3786"
             ],
             [
              0.5555555555555556,
              "#d8576b"
             ],
             [
              0.6666666666666666,
              "#ed7953"
             ],
             [
              0.7777777777777778,
              "#fb9f3a"
             ],
             [
              0.8888888888888888,
              "#fdca26"
             ],
             [
              1,
              "#f0f921"
             ]
            ],
            "type": "histogram2dcontour"
           }
          ],
          "mesh3d": [
           {
            "colorbar": {
             "outlinewidth": 0,
             "ticks": ""
            },
            "type": "mesh3d"
           }
          ],
          "parcoords": [
           {
            "line": {
             "colorbar": {
              "outlinewidth": 0,
              "ticks": ""
             }
            },
            "type": "parcoords"
           }
          ],
          "pie": [
           {
            "automargin": true,
            "type": "pie"
           }
          ],
          "scatter": [
           {
            "fillpattern": {
             "fillmode": "overlay",
             "size": 10,
             "solidity": 0.2
            },
            "type": "scatter"
           }
          ],
          "scatter3d": [
           {
            "line": {
             "colorbar": {
              "outlinewidth": 0,
              "ticks": ""
             }
            },
            "marker": {
             "colorbar": {
              "outlinewidth": 0,
              "ticks": ""
             }
            },
            "type": "scatter3d"
           }
          ],
          "scattercarpet": [
           {
            "marker": {
             "colorbar": {
              "outlinewidth": 0,
              "ticks": ""
             }
            },
            "type": "scattercarpet"
           }
          ],
          "scattergeo": [
           {
            "marker": {
             "colorbar": {
              "outlinewidth": 0,
              "ticks": ""
             }
            },
            "type": "scattergeo"
           }
          ],
          "scattergl": [
           {
            "marker": {
             "colorbar": {
              "outlinewidth": 0,
              "ticks": ""
             }
            },
            "type": "scattergl"
           }
          ],
          "scattermap": [
           {
            "marker": {
             "colorbar": {
              "outlinewidth": 0,
              "ticks": ""
             }
            },
            "type": "scattermap"
           }
          ],
          "scattermapbox": [
           {
            "marker": {
             "colorbar": {
              "outlinewidth": 0,
              "ticks": ""
             }
            },
            "type": "scattermapbox"
           }
          ],
          "scatterpolar": [
           {
            "marker": {
             "colorbar": {
              "outlinewidth": 0,
              "ticks": ""
             }
            },
            "type": "scatterpolar"
           }
          ],
          "scatterpolargl": [
           {
            "marker": {
             "colorbar": {
              "outlinewidth": 0,
              "ticks": ""
             }
            },
            "type": "scatterpolargl"
           }
          ],
          "scatterternary": [
           {
            "marker": {
             "colorbar": {
              "outlinewidth": 0,
              "ticks": ""
             }
            },
            "type": "scatterternary"
           }
          ],
          "surface": [
           {
            "colorbar": {
             "outlinewidth": 0,
             "ticks": ""
            },
            "colorscale": [
             [
              0,
              "#0d0887"
             ],
             [
              0.1111111111111111,
              "#46039f"
             ],
             [
              0.2222222222222222,
              "#7201a8"
             ],
             [
              0.3333333333333333,
              "#9c179e"
             ],
             [
              0.4444444444444444,
              "#bd3786"
             ],
             [
              0.5555555555555556,
              "#d8576b"
             ],
             [
              0.6666666666666666,
              "#ed7953"
             ],
             [
              0.7777777777777778,
              "#fb9f3a"
             ],
             [
              0.8888888888888888,
              "#fdca26"
             ],
             [
              1,
              "#f0f921"
             ]
            ],
            "type": "surface"
           }
          ],
          "table": [
           {
            "cells": {
             "fill": {
              "color": "#EBF0F8"
             },
             "line": {
              "color": "white"
             }
            },
            "header": {
             "fill": {
              "color": "#C8D4E3"
             },
             "line": {
              "color": "white"
             }
            },
            "type": "table"
           }
          ]
         },
         "layout": {
          "annotationdefaults": {
           "arrowcolor": "#2a3f5f",
           "arrowhead": 0,
           "arrowwidth": 1
          },
          "autotypenumbers": "strict",
          "coloraxis": {
           "colorbar": {
            "outlinewidth": 0,
            "ticks": ""
           }
          },
          "colorscale": {
           "diverging": [
            [
             0,
             "#8e0152"
            ],
            [
             0.1,
             "#c51b7d"
            ],
            [
             0.2,
             "#de77ae"
            ],
            [
             0.3,
             "#f1b6da"
            ],
            [
             0.4,
             "#fde0ef"
            ],
            [
             0.5,
             "#f7f7f7"
            ],
            [
             0.6,
             "#e6f5d0"
            ],
            [
             0.7,
             "#b8e186"
            ],
            [
             0.8,
             "#7fbc41"
            ],
            [
             0.9,
             "#4d9221"
            ],
            [
             1,
             "#276419"
            ]
           ],
           "sequential": [
            [
             0,
             "#0d0887"
            ],
            [
             0.1111111111111111,
             "#46039f"
            ],
            [
             0.2222222222222222,
             "#7201a8"
            ],
            [
             0.3333333333333333,
             "#9c179e"
            ],
            [
             0.4444444444444444,
             "#bd3786"
            ],
            [
             0.5555555555555556,
             "#d8576b"
            ],
            [
             0.6666666666666666,
             "#ed7953"
            ],
            [
             0.7777777777777778,
             "#fb9f3a"
            ],
            [
             0.8888888888888888,
             "#fdca26"
            ],
            [
             1,
             "#f0f921"
            ]
           ],
           "sequentialminus": [
            [
             0,
             "#0d0887"
            ],
            [
             0.1111111111111111,
             "#46039f"
            ],
            [
             0.2222222222222222,
             "#7201a8"
            ],
            [
             0.3333333333333333,
             "#9c179e"
            ],
            [
             0.4444444444444444,
             "#bd3786"
            ],
            [
             0.5555555555555556,
             "#d8576b"
            ],
            [
             0.6666666666666666,
             "#ed7953"
            ],
            [
             0.7777777777777778,
             "#fb9f3a"
            ],
            [
             0.8888888888888888,
             "#fdca26"
            ],
            [
             1,
             "#f0f921"
            ]
           ]
          },
          "colorway": [
           "#636efa",
           "#EF553B",
           "#00cc96",
           "#ab63fa",
           "#FFA15A",
           "#19d3f3",
           "#FF6692",
           "#B6E880",
           "#FF97FF",
           "#FECB52"
          ],
          "font": {
           "color": "#2a3f5f"
          },
          "geo": {
           "bgcolor": "white",
           "lakecolor": "white",
           "landcolor": "#E5ECF6",
           "showlakes": true,
           "showland": true,
           "subunitcolor": "white"
          },
          "hoverlabel": {
           "align": "left"
          },
          "hovermode": "closest",
          "mapbox": {
           "style": "light"
          },
          "paper_bgcolor": "white",
          "plot_bgcolor": "#E5ECF6",
          "polar": {
           "angularaxis": {
            "gridcolor": "white",
            "linecolor": "white",
            "ticks": ""
           },
           "bgcolor": "#E5ECF6",
           "radialaxis": {
            "gridcolor": "white",
            "linecolor": "white",
            "ticks": ""
           }
          },
          "scene": {
           "xaxis": {
            "backgroundcolor": "#E5ECF6",
            "gridcolor": "white",
            "gridwidth": 2,
            "linecolor": "white",
            "showbackground": true,
            "ticks": "",
            "zerolinecolor": "white"
           },
           "yaxis": {
            "backgroundcolor": "#E5ECF6",
            "gridcolor": "white",
            "gridwidth": 2,
            "linecolor": "white",
            "showbackground": true,
            "ticks": "",
            "zerolinecolor": "white"
           },
           "zaxis": {
            "backgroundcolor": "#E5ECF6",
            "gridcolor": "white",
            "gridwidth": 2,
            "linecolor": "white",
            "showbackground": true,
            "ticks": "",
            "zerolinecolor": "white"
           }
          },
          "shapedefaults": {
           "line": {
            "color": "#2a3f5f"
           }
          },
          "ternary": {
           "aaxis": {
            "gridcolor": "white",
            "linecolor": "white",
            "ticks": ""
           },
           "baxis": {
            "gridcolor": "white",
            "linecolor": "white",
            "ticks": ""
           },
           "bgcolor": "#E5ECF6",
           "caxis": {
            "gridcolor": "white",
            "linecolor": "white",
            "ticks": ""
           }
          },
          "title": {
           "x": 0.05
          },
          "xaxis": {
           "automargin": true,
           "gridcolor": "white",
           "linecolor": "white",
           "ticks": "",
           "title": {
            "standoff": 15
           },
           "zerolinecolor": "white",
           "zerolinewidth": 2
          },
          "yaxis": {
           "automargin": true,
           "gridcolor": "white",
           "linecolor": "white",
           "ticks": "",
           "title": {
            "standoff": 15
           },
           "zerolinecolor": "white",
           "zerolinewidth": 2
          }
         }
        },
        "title": {
         "font": {
          "size": 24
         },
         "text": "Treatment Feature Distribution"
        },
        "width": 600
       }
      }
     },
     "metadata": {},
     "output_type": "display_data"
    }
   ],
   "source": [
    "### Treatment effect that's not pathological (C pre vs E post)\n",
    "treatment_non_pathological_df = treatment_on_healthy_df[treatment_on_healthy_df['Significance'] != 'n.s.']\n",
    "print(f\"Number of features affected by the treatment (C pre vs E post): {treatment_non_pathological_df.shape[0]}\")\n",
    "\n",
    "lesion_treatment_intersection = treatment_non_pathological_df[treatment_non_pathological_df['Feature'].isin(lesion_effect_df['Feature'])]\n",
    "\n",
    "treatment_non_pathological_df = treatment_non_pathological_df[~treatment_non_pathological_df['Feature'].isin(lesion_treatment_intersection['Feature'])]\n",
    "print(f\"Number of non-pathological features affected by the treatment: {treatment_non_pathological_df.shape[0]}\")\n",
    "improving_treatment_features = treatment_non_pathological_df[treatment_non_pathological_df['direction'] == 'towards_healthy']\n",
    "avg_improving_effect_size = improving_treatment_features['change_effect_size'].mean()\n",
    "print(f\"Number of improving treatment features: {improving_treatment_features.shape[0]}. Average effect size: {avg_improving_effect_size:.2f}\")\n",
    "worsening_treatment_features = treatment_non_pathological_df[treatment_non_pathological_df['direction'] == 'away_from_healthy']\n",
    "avg_worsening_effect_size = worsening_treatment_features['change_effect_size'].mean()\n",
    "print(f\"Number of worsening treatment features: {worsening_treatment_features.shape[0]}. Average effect size: {avg_worsening_effect_size:.2f}\")\n",
    "\n",
    "labels = (\"Improving Treatment Features\", \"Worsening Treatment Features\", \"Non-Lesion Features\")\n",
    "sizes = (\n",
    "    improving_treatment_features.shape[0],\n",
    "    worsening_treatment_features.shape[0],\n",
    "    treatment_on_healthy_df.shape[0]\n",
    ")\n",
    "treatment_fig = go.Figure(\n",
    "    data=[go.Pie(\n",
    "        labels=labels, \n",
    "        values=sizes, \n",
    "        pull=[0, 0, 0.2],\n",
    "        marker=dict(colors=['green', 'red', 'grey'], line=dict(color='black', width=1))\n",
    "        )]\n",
    ")\n",
    "treatment_fig.update_layout(\n",
    "    title_text=\"Treatment Feature Distribution\",\n",
    "    title_font_size=24,\n",
    "    legend_title_text=\"Feature Types\",\n",
    "    legend_title_font_size=18,\n",
    "    height=400,\n",
    "    width=600,\n",
    ")\n",
    "\n",
    "treatment_fig.write_image(os.path.join('./', 'treatment_feature_distribution.svg'))\n",
    "treatment_fig.show()"
   ]
  },
  {
   "cell_type": "code",
   "execution_count": 17,
   "id": "95145fcb",
   "metadata": {},
   "outputs": [
    {
     "name": "stdout",
     "output_type": "stream",
     "text": [
      "Number of significant features that describe the lesion (B pre vs C post): 93\n",
      "Number of significant lesion features that improve: 48. Average effect size: 0.41\n",
      "Number of significant lesion features that worsen: 45. Average effect size: -0.31\n",
      "----------------------------------------\n",
      "Number of significant features that describe the treatment effect (C post vs E post): 42\n",
      "Number of significant treatment features that improve: 25. Average effect size: 0.49\n",
      "Number of significant treatment features that worsen: 17. Average effect size: -0.46\n",
      "----------------------------------------\n",
      "----------------------------------------\n",
      "Number of intersecting features between the two comparisons: 6\n",
      "Number of intersecting features that improve: 3\n",
      "Number of intersecting features that worsen: 3\n"
     ]
    },
    {
     "data": {
      "image/png": "[encoded data removed]",
      "text/plain": [
       "<Figure size 640x480 with 1 Axes>"
      ]
     },
     "metadata": {},
     "output_type": "display_data"
    },
    {
     "data": {
      "application/vnd.plotly.v1+json": {
       "config": {
        "plotlyServerURL": "https://plot.ly"
       },
       "data": [
        {
         "labels": [
          "Improving Lesion Features",
          "Worsening Lesion Features",
          "Non-Lesion Features"
         ],
         "marker": {
          "colors": [
           "green",
           "red",
           "grey"
          ],
          "line": {
           "color": "black",
           "width": 1
          }
         },
         "pull": [
          0,
          0,
          0.2
         ],
         "type": "pie",
         "values": [
          48,
          45,
          2587
         ]
        }
       ],
       "layout": {
        "height": 400,
        "legend": {
         "title": {
          "font": {
           "size": 18
          },
          "text": "Feature Types"
         }
        },
        "template": {
         "data": {
          "bar": [
           {
            "error_x": {
             "color": "#2a3f5f"
            },
            "error_y": {
             "color": "#2a3f5f"
            },
            "marker": {
             "line": {
              "color": "#E5ECF6",
              "width": 0.5
             },
             "pattern": {
              "fillmode": "overlay",
              "size": 10,
              "solidity": 0.2
             }
            },
            "type": "bar"
           }
          ],
          "barpolar": [
           {
            "marker": {
             "line": {
              "color": "#E5ECF6",
              "width": 0.5
             },
             "pattern": {
              "fillmode": "overlay",
              "size": 10,
              "solidity": 0.2
             }
            },
            "type": "barpolar"
           }
          ],
          "carpet": [
           {
            "aaxis": {
             "endlinecolor": "#2a3f5f",
             "gridcolor": "white",
             "linecolor": "white",
             "minorgridcolor": "white",
             "startlinecolor": "#2a3f5f"
            },
            "baxis": {
             "endlinecolor": "#2a3f5f",
             "gridcolor": "white",
             "linecolor": "white",
             "minorgridcolor": "white",
             "startlinecolor": "#2a3f5f"
            },
            "type": "carpet"
           }
          ],
          "choropleth": [
           {
            "colorbar": {
             "outlinewidth": 0,
             "ticks": ""
            },
            "type": "choropleth"
           }
          ],
          "contour": [
           {
            "colorbar": {
             "outlinewidth": 0,
             "ticks": ""
            },
            "colorscale": [
             [
              0,
              "#0d0887"
             ],
             [
              0.1111111111111111,
              "#46039f"
             ],
             [
              0.2222222222222222,
              "#7201a8"
             ],
             [
              0.3333333333333333,
              "#9c179e"
             ],
             [
              0.4444444444444444,
              "#bd3786"
             ],
             [
              0.5555555555555556,
              "#d8576b"
             ],
             [
              0.6666666666666666,
              "#ed7953"
             ],
             [
              0.7777777777777778,
              "#fb9f3a"
             ],
             [
              0.8888888888888888,
              "#fdca26"
             ],
             [
              1,
              "#f0f921"
             ]
            ],
            "type": "contour"
           }
          ],
          "contourcarpet": [
           {
            "colorbar": {
             "outlinewidth": 0,
             "ticks": ""
            },
            "type": "contourcarpet"
           }
          ],
          "heatmap": [
           {
            "colorbar": {
             "outlinewidth": 0,
             "ticks": ""
            },
            "colorscale": [
             [
              0,
              "#0d0887"
             ],
             [
              0.1111111111111111,
              "#46039f"
             ],
             [
              0.2222222222222222,
              "#7201a8"
             ],
             [
              0.3333333333333333,
              "#9c179e"
             ],
             [
              0.4444444444444444,
              "#bd3786"
             ],
             [
              0.5555555555555556,
              "#d8576b"
             ],
             [
              0.6666666666666666,
              "#ed7953"
             ],
             [
              0.7777777777777778,
              "#fb9f3a"
             ],
             [
              0.8888888888888888,
              "#fdca26"
             ],
             [
              1,
              "#f0f921"
             ]
            ],
            "type": "heatmap"
           }
          ],
          "histogram": [
           {
            "marker": {
             "pattern": {
              "fillmode": "overlay",
              "size": 10,
              "solidity": 0.2
             }
            },
            "type": "histogram"
           }
          ],
          "histogram2d": [
           {
            "colorbar": {
             "outlinewidth": 0,
             "ticks": ""
            },
            "colorscale": [
             [
              0,
              "#0d0887"
             ],
             [
              0.1111111111111111,
              "#46039f"
             ],
             [
              0.2222222222222222,
              "#7201a8"
             ],
             [
              0.3333333333333333,
              "#9c179e"
             ],
             [
              0.4444444444444444,
              "#bd3786"
             ],
             [
              0.5555555555555556,
              "#d8576b"
             ],
             [
              0.6666666666666666,
              "#ed7953"
             ],
             [
              0.7777777777777778,
              "#fb9f3a"
             ],
             [
              0.8888888888888888,
              "#fdca26"
             ],
             [
              1,
              "#f0f921"
             ]
            ],
            "type": "histogram2d"
           }
          ],
          "histogram2dcontour": [
           {
            "colorbar": {
             "outlinewidth": 0,
             "ticks": ""
            },
            "colorscale": [
             [
              0,
              "#0d0887"
             ],
             [
              0.1111111111111111,
              "#46039f"
             ],
             [
              0.2222222222222222,
              "#7201a8"
             ],
             [
              0.3333333333333333,
              "#9c179e"
             ],
             [
              0.4444444444444444,
              "#bd3786"
             ],
             [
              0.5555555555555556,
              "#d8576b"
             ],
             [
              0.6666666666666666,
              "#ed7953"
             ],
             [
              0.7777777777777778,
              "#fb9f3a"
             ],
             [
              0.8888888888888888,
              "#fdca26"
             ],
             [
              1,
              "#f0f921"
             ]
            ],
            "type": "histogram2dcontour"
           }
          ],
          "mesh3d": [
           {
            "colorbar": {
             "outlinewidth": 0,
             "ticks": ""
            },
            "type": "mesh3d"
           }
          ],
          "parcoords": [
           {
            "line": {
             "colorbar": {
              "outlinewidth": 0,
              "ticks": ""
             }
            },
            "type": "parcoords"
           }
          ],
          "pie": [
           {
            "automargin": true,
            "type": "pie"
           }
          ],
          "scatter": [
           {
            "fillpattern": {
             "fillmode": "overlay",
             "size": 10,
             "solidity": 0.2
            },
            "type": "scatter"
           }
          ],
          "scatter3d": [
           {
            "line": {
             "colorbar": {
              "outlinewidth": 0,
              "ticks": ""
             }
            },
            "marker": {
             "colorbar": {
              "outlinewidth": 0,
              "ticks": ""
             }
            },
            "type": "scatter3d"
           }
          ],
          "scattercarpet": [
           {
            "marker": {
             "colorbar": {
              "outlinewidth": 0,
              "ticks": ""
             }
            },
            "type": "scattercarpet"
           }
          ],
          "scattergeo": [
           {
            "marker": {
             "colorbar": {
              "outlinewidth": 0,
              "ticks": ""
             }
            },
            "type": "scattergeo"
           }
          ],
          "scattergl": [
           {
            "marker": {
             "colorbar": {
              "outlinewidth": 0,
              "ticks": ""
             }
            },
            "type": "scattergl"
           }
          ],
          "scattermap": [
           {
            "marker": {
             "colorbar": {
              "outlinewidth": 0,
              "ticks": ""
             }
            },
            "type": "scattermap"
           }
          ],
          "scattermapbox": [
           {
            "marker": {
             "colorbar": {
              "outlinewidth": 0,
              "ticks": ""
             }
            },
            "type": "scattermapbox"
           }
          ],
          "scatterpolar": [
           {
            "marker": {
             "colorbar": {
              "outlinewidth": 0,
              "ticks": ""
             }
            },
            "type": "scatterpolar"
           }
          ],
          "scatterpolargl": [
           {
            "marker": {
             "colorbar": {
              "outlinewidth": 0,
              "ticks": ""
             }
            },
            "type": "scatterpolargl"
           }
          ],
          "scatterternary": [
           {
            "marker": {
             "colorbar": {
              "outlinewidth": 0,
              "ticks": ""
             }
            },
            "type": "scatterternary"
           }
          ],
          "surface": [
           {
            "colorbar": {
             "outlinewidth": 0,
             "ticks": ""
            },
            "colorscale": [
             [
              0,
              "#0d0887"
             ],
             [
              0.1111111111111111,
              "#46039f"
             ],
             [
              0.2222222222222222,
              "#7201a8"
             ],
             [
              0.3333333333333333,
              "#9c179e"
             ],
             [
              0.4444444444444444,
              "#bd3786"
             ],
             [
              0.5555555555555556,
              "#d8576b"
             ],
             [
              0.6666666666666666,
              "#ed7953"
             ],
             [
              0.7777777777777778,
              "#fb9f3a"
             ],
             [
              0.8888888888888888,
              "#fdca26"
             ],
             [
              1,
              "#f0f921"
             ]
            ],
            "type": "surface"
           }
          ],
          "table": [
           {
            "cells": {
             "fill": {
              "color": "#EBF0F8"
             },
             "line": {
              "color": "white"
             }
            },
            "header": {
             "fill": {
              "color": "#C8D4E3"
             },
             "line": {
              "color": "white"
             }
            },
            "type": "table"
           }
          ]
         },
         "layout": {
          "annotationdefaults": {
           "arrowcolor": "#2a3f5f",
           "arrowhead": 0,
           "arrowwidth": 1
          },
          "autotypenumbers": "strict",
          "coloraxis": {
           "colorbar": {
            "outlinewidth": 0,
            "ticks": ""
           }
          },
          "colorscale": {
           "diverging": [
            [
             0,
             "#8e0152"
            ],
            [
             0.1,
             "#c51b7d"
            ],
            [
             0.2,
             "#de77ae"
            ],
            [
             0.3,
             "#f1b6da"
            ],
            [
             0.4,
             "#fde0ef"
            ],
            [
             0.5,
             "#f7f7f7"
            ],
            [
             0.6,
             "#e6f5d0"
            ],
            [
             0.7,
             "#b8e186"
            ],
            [
             0.8,
             "#7fbc41"
            ],
            [
             0.9,
             "#4d9221"
            ],
            [
             1,
             "#276419"
            ]
           ],
           "sequential": [
            [
             0,
             "#0d0887"
            ],
            [
             0.1111111111111111,
             "#46039f"
            ],
            [
             0.2222222222222222,
             "#7201a8"
            ],
            [
             0.3333333333333333,
             "#9c179e"
            ],
            [
             0.4444444444444444,
             "#bd3786"
            ],
            [
             0.5555555555555556,
             "#d8576b"
            ],
            [
             0.6666666666666666,
             "#ed7953"
            ],
            [
             0.7777777777777778,
             "#fb9f3a"
            ],
            [
             0.8888888888888888,
             "#fdca26"
            ],
            [
             1,
             "#f0f921"
            ]
           ],
           "sequentialminus": [
            [
             0,
             "#0d0887"
            ],
            [
             0.1111111111111111,
             "#46039f"
            ],
            [
             0.2222222222222222,
             "#7201a8"
            ],
            [
             0.3333333333333333,
             "#9c179e"
            ],
            [
             0.4444444444444444,
             "#bd3786"
            ],
            [
             0.5555555555555556,
             "#d8576b"
            ],
            [
             0.6666666666666666,
             "#ed7953"
            ],
            [
             0.7777777777777778,
             "#fb9f3a"
            ],
            [
             0.8888888888888888,
             "#fdca26"
            ],
            [
             1,
             "#f0f921"
            ]
           ]
          },
          "colorway": [
           "#636efa",
           "#EF553B",
           "#00cc96",
           "#ab63fa",
           "#FFA15A",
           "#19d3f3",
           "#FF6692",
           "#B6E880",
           "#FF97FF",
           "#FECB52"
          ],
          "font": {
           "color": "#2a3f5f"
          },
          "geo": {
           "bgcolor": "white",
           "lakecolor": "white",
           "landcolor": "#E5ECF6",
           "showlakes": true,
           "showland": true,
           "subunitcolor": "white"
          },
          "hoverlabel": {
           "align": "left"
          },
          "hovermode": "closest",
          "mapbox": {
           "style": "light"
          },
          "paper_bgcolor": "white",
          "plot_bgcolor": "#E5ECF6",
          "polar": {
           "angularaxis": {
            "gridcolor": "white",
            "linecolor": "white",
            "ticks": ""
           },
           "bgcolor": "#E5ECF6",
           "radialaxis": {
            "gridcolor": "white",
            "linecolor": "white",
            "ticks": ""
           }
          },
          "scene": {
           "xaxis": {
            "backgroundcolor": "#E5ECF6",
            "gridcolor": "white",
            "gridwidth": 2,
            "linecolor": "white",
            "showbackground": true,
            "ticks": "",
            "zerolinecolor": "white"
           },
           "yaxis": {
            "backgroundcolor": "#E5ECF6",
            "gridcolor": "white",
            "gridwidth": 2,
            "linecolor": "white",
            "showbackground": true,
            "ticks": "",
            "zerolinecolor": "white"
           },
           "zaxis": {
            "backgroundcolor": "#E5ECF6",
            "gridcolor": "white",
            "gridwidth": 2,
            "linecolor": "white",
            "showbackground": true,
            "ticks": "",
            "zerolinecolor": "white"
           }
          },
          "shapedefaults": {
           "line": {
            "color": "#2a3f5f"
           }
          },
          "ternary": {
           "aaxis": {
            "gridcolor": "white",
            "linecolor": "white",
            "ticks": ""
           },
           "baxis": {
            "gridcolor": "white",
            "linecolor": "white",
            "ticks": ""
           },
           "bgcolor": "#E5ECF6",
           "caxis": {
            "gridcolor": "white",
            "linecolor": "white",
            "ticks": ""
           }
          },
          "title": {
           "x": 0.05
          },
          "xaxis": {
           "automargin": true,
           "gridcolor": "white",
           "linecolor": "white",
           "ticks": "",
           "title": {
            "standoff": 15
           },
           "zerolinecolor": "white",
           "zerolinewidth": 2
          },
          "yaxis": {
           "automargin": true,
           "gridcolor": "white",
           "linecolor": "white",
           "ticks": "",
           "title": {
            "standoff": 15
           },
           "zerolinecolor": "white",
           "zerolinewidth": 2
          }
         }
        },
        "title": {
         "font": {
          "size": 24
         },
         "text": "Lesion Feature Distribution (ANOVA)"
        },
        "width": 600
       }
      }
     },
     "metadata": {},
     "output_type": "display_data"
    },
    {
     "data": {
      "application/vnd.plotly.v1+json": {
       "config": {
        "plotlyServerURL": "https://plot.ly"
       },
       "data": [
        {
         "labels": [
          "Improving Treatment Features",
          "Worsening Treatment Features",
          "Non-Lesion Features"
         ],
         "marker": {
          "colors": [
           "green",
           "red",
           "grey"
          ],
          "line": {
           "color": "black",
           "width": 1
          }
         },
         "pull": [
          0,
          0,
          0.2
         ],
         "type": "pie",
         "values": [
          25,
          17,
          2587
         ]
        }
       ],
       "layout": {
        "height": 400,
        "legend": {
         "title": {
          "font": {
           "size": 18
          },
          "text": "Feature Types"
         }
        },
        "template": {
         "data": {
          "bar": [
           {
            "error_x": {
             "color": "#2a3f5f"
            },
            "error_y": {
             "color": "#2a3f5f"
            },
            "marker": {
             "line": {
              "color": "#E5ECF6",
              "width": 0.5
             },
             "pattern": {
              "fillmode": "overlay",
              "size": 10,
              "solidity": 0.2
             }
            },
            "type": "bar"
           }
          ],
          "barpolar": [
           {
            "marker": {
             "line": {
              "color": "#E5ECF6",
              "width": 0.5
             },
             "pattern": {
              "fillmode": "overlay",
              "size": 10,
              "solidity": 0.2
             }
            },
            "type": "barpolar"
           }
          ],
          "carpet": [
           {
            "aaxis": {
             "endlinecolor": "#2a3f5f",
             "gridcolor": "white",
             "linecolor": "white",
             "minorgridcolor": "white",
             "startlinecolor": "#2a3f5f"
            },
            "baxis": {
             "endlinecolor": "#2a3f5f",
             "gridcolor": "white",
             "linecolor": "white",
             "minorgridcolor": "white",
             "startlinecolor": "#2a3f5f"
            },
            "type": "carpet"
           }
          ],
          "choropleth": [
           {
            "colorbar": {
             "outlinewidth": 0,
             "ticks": ""
            },
            "type": "choropleth"
           }
          ],
          "contour": [
           {
            "colorbar": {
             "outlinewidth": 0,
             "ticks": ""
            },
            "colorscale": [
             [
              0,
              "#0d0887"
             ],
             [
              0.1111111111111111,
              "#46039f"
             ],
             [
              0.2222222222222222,
              "#7201a8"
             ],
             [
              0.3333333333333333,
              "#9c179e"
             ],
             [
              0.4444444444444444,
              "#bd3786"
             ],
             [
              0.5555555555555556,
              "#d8576b"
             ],
             [
              0.6666666666666666,
              "#ed7953"
             ],
             [
              0.7777777777777778,
              "#fb9f3a"
             ],
             [
              0.8888888888888888,
              "#fdca26"
             ],
             [
              1,
              "#f0f921"
             ]
            ],
            "type": "contour"
           }
          ],
          "contourcarpet": [
           {
            "colorbar": {
             "outlinewidth": 0,
             "ticks": ""
            },
            "type": "contourcarpet"
           }
          ],
          "heatmap": [
           {
            "colorbar": {
             "outlinewidth": 0,
             "ticks": ""
            },
            "colorscale": [
             [
              0,
              "#0d0887"
             ],
             [
              0.1111111111111111,
              "#46039f"
             ],
             [
              0.2222222222222222,
              "#7201a8"
             ],
             [
              0.3333333333333333,
              "#9c179e"
             ],
             [
              0.4444444444444444,
              "#bd3786"
             ],
             [
              0.5555555555555556,
              "#d8576b"
             ],
             [
              0.6666666666666666,
              "#ed7953"
             ],
             [
              0.7777777777777778,
              "#fb9f3a"
             ],
             [
              0.8888888888888888,
              "#fdca26"
             ],
             [
              1,
              "#f0f921"
             ]
            ],
            "type": "heatmap"
           }
          ],
          "histogram": [
           {
            "marker": {
             "pattern": {
              "fillmode": "overlay",
              "size": 10,
              "solidity": 0.2
             }
            },
            "type": "histogram"
           }
          ],
          "histogram2d": [
           {
            "colorbar": {
             "outlinewidth": 0,
             "ticks": ""
            },
            "colorscale": [
             [
              0,
              "#0d0887"
             ],
             [
              0.1111111111111111,
              "#46039f"
             ],
             [
              0.2222222222222222,
              "#7201a8"
             ],
             [
              0.3333333333333333,
              "#9c179e"
             ],
             [
              0.4444444444444444,
              "#bd3786"
             ],
             [
              0.5555555555555556,
              "#d8576b"
             ],
             [
              0.6666666666666666,
              "#ed7953"
             ],
             [
              0.7777777777777778,
              "#fb9f3a"
             ],
             [
              0.8888888888888888,
              "#fdca26"
             ],
             [
              1,
              "#f0f921"
             ]
            ],
            "type": "histogram2d"
           }
          ],
          "histogram2dcontour": [
           {
            "colorbar": {
             "outlinewidth": 0,
             "ticks": ""
            },
            "colorscale": [
             [
              0,
              "#0d0887"
             ],
             [
              0.1111111111111111,
              "#46039f"
             ],
             [
              0.2222222222222222,
              "#7201a8"
             ],
             [
              0.3333333333333333,
              "#9c179e"
             ],
             [
              0.4444444444444444,
              "#bd3786"
             ],
             [
              0.5555555555555556,
              "#d8576b"
             ],
             [
              0.6666666666666666,
              "#ed7953"
             ],
             [
              0.7777777777777778,
              "#fb9f3a"
             ],
             [
              0.8888888888888888,
              "#fdca26"
             ],
             [
              1,
              "#f0f921"
             ]
            ],
            "type": "histogram2dcontour"
           }
          ],
          "mesh3d": [
           {
            "colorbar": {
             "outlinewidth": 0,
             "ticks": ""
            },
            "type": "mesh3d"
           }
          ],
          "parcoords": [
           {
            "line": {
             "colorbar": {
              "outlinewidth": 0,
              "ticks": ""
             }
            },
            "type": "parcoords"
           }
          ],
          "pie": [
           {
            "automargin": true,
            "type": "pie"
           }
          ],
          "scatter": [
           {
            "fillpattern": {
             "fillmode": "overlay",
             "size": 10,
             "solidity": 0.2
            },
            "type": "scatter"
           }
          ],
          "scatter3d": [
           {
            "line": {
             "colorbar": {
              "outlinewidth": 0,
              "ticks": ""
             }
            },
            "marker": {
             "colorbar": {
              "outlinewidth": 0,
              "ticks": ""
             }
            },
            "type": "scatter3d"
           }
          ],
          "scattercarpet": [
           {
            "marker": {
             "colorbar": {
              "outlinewidth": 0,
              "ticks": ""
             }
            },
            "type": "scattercarpet"
           }
          ],
          "scattergeo": [
           {
            "marker": {
             "colorbar": {
              "outlinewidth": 0,
              "ticks": ""
             }
            },
            "type": "scattergeo"
           }
          ],
          "scattergl": [
           {
            "marker": {
             "colorbar": {
              "outlinewidth": 0,
              "ticks": ""
             }
            },
            "type": "scattergl"
           }
          ],
          "scattermap": [
           {
            "marker": {
             "colorbar": {
              "outlinewidth": 0,
              "ticks": ""
             }
            },
            "type": "scattermap"
           }
          ],
          "scattermapbox": [
           {
            "marker": {
             "colorbar": {
              "outlinewidth": 0,
              "ticks": ""
             }
            },
            "type": "scattermapbox"
           }
          ],
          "scatterpolar": [
           {
            "marker": {
             "colorbar": {
              "outlinewidth": 0,
              "ticks": ""
             }
            },
            "type": "scatterpolar"
           }
          ],
          "scatterpolargl": [
           {
            "marker": {
             "colorbar": {
              "outlinewidth": 0,
              "ticks": ""
             }
            },
            "type": "scatterpolargl"
           }
          ],
          "scatterternary": [
           {
            "marker": {
             "colorbar": {
              "outlinewidth": 0,
              "ticks": ""
             }
            },
            "type": "scatterternary"
           }
          ],
          "surface": [
           {
            "colorbar": {
             "outlinewidth": 0,
             "ticks": ""
            },
            "colorscale": [
             [
              0,
              "#0d0887"
             ],
             [
              0.1111111111111111,
              "#46039f"
             ],
             [
              0.2222222222222222,
              "#7201a8"
             ],
             [
              0.3333333333333333,
              "#9c179e"
             ],
             [
              0.4444444444444444,
              "#bd3786"
             ],
             [
              0.5555555555555556,
              "#d8576b"
             ],
             [
              0.6666666666666666,
              "#ed7953"
             ],
             [
              0.7777777777777778,
              "#fb9f3a"
             ],
             [
              0.8888888888888888,
              "#fdca26"
             ],
             [
              1,
              "#f0f921"
             ]
            ],
            "type": "surface"
           }
          ],
          "table": [
           {
            "cells": {
             "fill": {
              "color": "#EBF0F8"
             },
             "line": {
              "color": "white"
             }
            },
            "header": {
             "fill": {
              "color": "#C8D4E3"
             },
             "line": {
              "color": "white"
             }
            },
            "type": "table"
           }
          ]
         },
         "layout": {
          "annotationdefaults": {
           "arrowcolor": "#2a3f5f",
           "arrowhead": 0,
           "arrowwidth": 1
          },
          "autotypenumbers": "strict",
          "coloraxis": {
           "colorbar": {
            "outlinewidth": 0,
            "ticks": ""
           }
          },
          "colorscale": {
           "diverging": [
            [
             0,
             "#8e0152"
            ],
            [
             0.1,
             "#c51b7d"
            ],
            [
             0.2,
             "#de77ae"
            ],
            [
             0.3,
             "#f1b6da"
            ],
            [
             0.4,
             "#fde0ef"
            ],
            [
             0.5,
             "#f7f7f7"
            ],
            [
             0.6,
             "#e6f5d0"
            ],
            [
             0.7,
             "#b8e186"
            ],
            [
             0.8,
             "#7fbc41"
            ],
            [
             0.9,
             "#4d9221"
            ],
            [
             1,
             "#276419"
            ]
           ],
           "sequential": [
            [
             0,
             "#0d0887"
            ],
            [
             0.1111111111111111,
             "#46039f"
            ],
            [
             0.2222222222222222,
             "#7201a8"
            ],
            [
             0.3333333333333333,
             "#9c179e"
            ],
            [
             0.4444444444444444,
             "#bd3786"
            ],
            [
             0.5555555555555556,
             "#d8576b"
            ],
            [
             0.6666666666666666,
             "#ed7953"
            ],
            [
             0.7777777777777778,
             "#fb9f3a"
            ],
            [
             0.8888888888888888,
             "#fdca26"
            ],
            [
             1,
             "#f0f921"
            ]
           ],
           "sequentialminus": [
            [
             0,
             "#0d0887"
            ],
            [
             0.1111111111111111,
             "#46039f"
            ],
            [
             0.2222222222222222,
             "#7201a8"
            ],
            [
             0.3333333333333333,
             "#9c179e"
            ],
            [
             0.4444444444444444,
             "#bd3786"
            ],
            [
             0.5555555555555556,
             "#d8576b"
            ],
            [
             0.6666666666666666,
             "#ed7953"
            ],
            [
             0.7777777777777778,
             "#fb9f3a"
            ],
            [
             0.8888888888888888,
             "#fdca26"
            ],
            [
             1,
             "#f0f921"
            ]
           ]
          },
          "colorway": [
           "#636efa",
           "#EF553B",
           "#00cc96",
           "#ab63fa",
           "#FFA15A",
           "#19d3f3",
           "#FF6692",
           "#B6E880",
           "#FF97FF",
           "#FECB52"
          ],
          "font": {
           "color": "#2a3f5f"
          },
          "geo": {
           "bgcolor": "white",
           "lakecolor": "white",
           "landcolor": "#E5ECF6",
           "showlakes": true,
           "showland": true,
           "subunitcolor": "white"
          },
          "hoverlabel": {
           "align": "left"
          },
          "hovermode": "closest",
          "mapbox": {
           "style": "light"
          },
          "paper_bgcolor": "white",
          "plot_bgcolor": "#E5ECF6",
          "polar": {
           "angularaxis": {
            "gridcolor": "white",
            "linecolor": "white",
            "ticks": ""
           },
           "bgcolor": "#E5ECF6",
           "radialaxis": {
            "gridcolor": "white",
            "linecolor": "white",
            "ticks": ""
           }
          },
          "scene": {
           "xaxis": {
            "backgroundcolor": "#E5ECF6",
            "gridcolor": "white",
            "gridwidth": 2,
            "linecolor": "white",
            "showbackground": true,
            "ticks": "",
            "zerolinecolor": "white"
           },
           "yaxis": {
            "backgroundcolor": "#E5ECF6",
            "gridcolor": "white",
            "gridwidth": 2,
            "linecolor": "white",
            "showbackground": true,
            "ticks": "",
            "zerolinecolor": "white"
           },
           "zaxis": {
            "backgroundcolor": "#E5ECF6",
            "gridcolor": "white",
            "gridwidth": 2,
            "linecolor": "white",
            "showbackground": true,
            "ticks": "",
            "zerolinecolor": "white"
           }
          },
          "shapedefaults": {
           "line": {
            "color": "#2a3f5f"
           }
          },
          "ternary": {
           "aaxis": {
            "gridcolor": "white",
            "linecolor": "white",
            "ticks": ""
           },
           "baxis": {
            "gridcolor": "white",
            "linecolor": "white",
            "ticks": ""
           },
           "bgcolor": "#E5ECF6",
           "caxis": {
            "gridcolor": "white",
            "linecolor": "white",
            "ticks": ""
           }
          },
          "title": {
           "x": 0.05
          },
          "xaxis": {
           "automargin": true,
           "gridcolor": "white",
           "linecolor": "white",
           "ticks": "",
           "title": {
            "standoff": 15
           },
           "zerolinecolor": "white",
           "zerolinewidth": 2
          },
          "yaxis": {
           "automargin": true,
           "gridcolor": "white",
           "linecolor": "white",
           "ticks": "",
           "title": {
            "standoff": 15
           },
           "zerolinecolor": "white",
           "zerolinewidth": 2
          }
         }
        },
        "title": {
         "font": {
          "size": 24
         },
         "text": "Treatment Feature Distribution (ANOVA)"
        },
        "width": 600
       }
      }
     },
     "metadata": {},
     "output_type": "display_data"
    }
   ],
   "source": [
    "### USING ANOVA PAIRWISE TEST \n",
    "lesion_anova_df = treatment_effect_df[treatment_effect_df['Significance Healthy Left B vs Sick Left C'] != 'n.s.']\n",
    "print(f\"Number of significant features that describe the lesion (B pre vs C post): {lesion_anova_df.shape[0]}\")\n",
    "\n",
    "improving_lesion_anova_df = lesion_anova_df[lesion_anova_df['direction'] == 'towards_healthy']\n",
    "avg_improving_effect_size = improving_lesion_anova_df['change_effect_size'].mean()\n",
    "print(f\"Number of significant lesion features that improve: {improving_lesion_anova_df.shape[0]}. Average effect size: {avg_improving_effect_size:.2f}\")\n",
    "\n",
    "worsening_lesion_anova_df = lesion_anova_df[lesion_anova_df['direction'] == 'away_from_healthy']\n",
    "avg_worsening_effect_size = worsening_lesion_anova_df['change_effect_size'].mean()\n",
    "print(f\"Number of significant lesion features that worsen: {worsening_lesion_anova_df.shape[0]}. Average effect size: {avg_worsening_effect_size:.2f}\")\n",
    "\n",
    "\n",
    "print('-'*40)\n",
    "treatment_anova_df = treatment_effect_df[treatment_effect_df['Significance Sick Left C vs Sick Left E'] != 'n.s.']\n",
    "print(f\"Number of significant features that describe the treatment effect (C post vs E post): {treatment_anova_df.shape[0]}\")\n",
    "\n",
    "improving_treatment_anova_df = treatment_anova_df[treatment_anova_df['direction'] == 'towards_healthy']\n",
    "avg_improving_effect_size = improving_treatment_anova_df['change_effect_size'].mean()\n",
    "print(f\"Number of significant treatment features that improve: {improving_treatment_anova_df.shape[0]}. Average effect size: {avg_improving_effect_size:.2f}\")\n",
    "\n",
    "worsening_treatment_anova_df = treatment_anova_df[treatment_anova_df['direction'] == 'away_from_healthy']\n",
    "avg_worsening_effect_size = worsening_treatment_anova_df['change_effect_size'].mean()\n",
    "print(f\"Number of significant treatment features that worsen: {worsening_treatment_anova_df.shape[0]}. Average effect size: {avg_worsening_effect_size:.2f}\")\n",
    "\n",
    "print('-'*40)\n",
    "\n",
    "intersecting_features = set(treatment_anova_df['Feature']).intersection(set(lesion_anova_df['Feature']))\n",
    "\n",
    "print('-'*40)\n",
    "print(f\"Number of intersecting features between the two comparisons: {len(intersecting_features)}\")\n",
    "print(f\"Number of intersecting features that improve: {len(intersecting_features & set(improving_treatment_anova_df['Feature']))}\")\n",
    "print(f\"Number of intersecting features that worsen: {len(intersecting_features & set(worsening_treatment_anova_df['Feature']))}\")\n",
    "\n",
    "## Use a venn diagram to display the features\n",
    "venn2(subsets = (len(treatment_effect_df[treatment_effect_df['Significance Healthy Left B vs Sick Left C'] != 'n.s.']), len(treatment_effect_df[treatment_effect_df['Significance Sick Left C vs Sick Left E'] != 'n.s.']), len(intersecting_features)),\n",
    "      set_labels = ('Lesion', \n",
    "                    'Treatment'),\n",
    "      set_colors=(\"red\",\n",
    "                  \"green\"),alpha=0.7)\n",
    "\n",
    "# add outline\n",
    "venn2_circles(subsets=(len(treatment_effect_df[treatment_effect_df['Significance Healthy Left B vs Sick Left C'] != 'n.s.']), len(treatment_effect_df[treatment_effect_df['Significance Sick Left C vs Sick Left E'] != 'n.s.']), len(intersecting_features)))\n",
    "\n",
    "plt.title(\"Venn Diagram of Lesion and Treatment Features (ANOVA)\", fontsize=16)\n",
    "# plt.savefig(os.path.join('./', 'venn_diagram_lesion_treatment.svg'), dpi=300, bbox_inches='tight')\n",
    "plt.show()\n",
    "\n",
    "## Lesion Feature Distribution pie\n",
    "labels = (\"Improving Lesion Features\", \"Worsening Lesion Features\", \"Non-Lesion Features\")\n",
    "sizes = (\n",
    "    improving_lesion_anova_df.shape[0],\n",
    "    worsening_lesion_anova_df.shape[0],\n",
    "    treatment_effect_df[treatment_effect_df['Significance Healthy Left B vs Sick Left C'] == 'n.s.'].shape[0]\n",
    ")\n",
    "lesion_fig = go.Figure(\n",
    "    data=[go.Pie(\n",
    "        labels=labels, \n",
    "        values=sizes, \n",
    "        pull=[0, 0, 0.2],\n",
    "        marker=dict(colors=['green', 'red', 'grey'], line=dict(color='black', width=1))\n",
    "        )]\n",
    ")\n",
    "lesion_fig.update_layout(\n",
    "    title_text=\"Lesion Feature Distribution (ANOVA)\",\n",
    "    title_font_size=24,\n",
    "    legend_title_text=\"Feature Types\",\n",
    "    legend_title_font_size=18,\n",
    "    height=400,\n",
    "    width=600,\n",
    ")\n",
    "\n",
    "lesion_fig.write_image(os.path.join('./', 'lesion_feature_distribution_multitest.svg'))\n",
    "lesion_fig.show()\n",
    "\n",
    "## Treatment Feature Distribution pie\n",
    "labels = (\"Improving Treatment Features\", \"Worsening Treatment Features\", \"Non-Lesion Features\")\n",
    "sizes = (\n",
    "    improving_treatment_anova_df.shape[0],\n",
    "    worsening_treatment_anova_df.shape[0],\n",
    "    treatment_effect_df[treatment_effect_df['Significance Healthy Left B vs Sick Left C'] == 'n.s.'].shape[0]\n",
    ")\n",
    "treatment_fig = go.Figure(\n",
    "    data=[go.Pie(\n",
    "        labels=labels,\n",
    "        values=sizes,\n",
    "        pull=[0, 0, 0.2],\n",
    "        marker=dict(colors=['green', 'red', 'grey'], line=dict(color='black', width=1))\n",
    "    )]\n",
    ")\n",
    "treatment_fig.update_layout(\n",
    "    title_text=\"Treatment Feature Distribution (ANOVA)\",\n",
    "    title_font_size=24,\n",
    "    legend_title_text=\"Feature Types\",\n",
    "    legend_title_font_size=18,\n",
    "    height=400,\n",
    "    width=600,\n",
    ")\n",
    "\n",
    "treatment_fig.write_image(os.path.join('./', 'treatment_feature_distribution_multitest.svg'))\n",
    "treatment_fig.show()"
   ]
  },
  {
   "cell_type": "code",
   "execution_count": 18,
   "id": "5447b0a7",
   "metadata": {},
   "outputs": [
    {
     "name": "stdout",
     "output_type": "stream",
     "text": [
      "93 42\n",
      "6\n"
     ]
    }
   ],
   "source": [
    "# 1. Get features significant in both comparisons\n",
    "sig_b_c = set(treatment_effect_df[treatment_effect_df['Significance Healthy Left B vs Sick Left C'] != 'n.s.']['Feature'])\n",
    "sig_c_e = set(treatment_effect_df[treatment_effect_df['Significance Sick Left C vs Sick Left E'] != 'n.s.']['Feature'])\n",
    "print(len(sig_b_c), len(sig_c_e))\n",
    "sig_both = sig_b_c & sig_c_e\n",
    "print(len(sig_both))\n",
    "# 2. Filter for features that are 'towards healthy' in both transitions\n",
    "improving_both = treatment_effect_df[\n",
    "    (treatment_effect_df['Feature'].isin(sig_both)) &\n",
    "    (treatment_effect_df['direction'] == 'towards_healthy')\n",
    "]\n",
    "worsening_both = treatment_effect_df[\n",
    "    (treatment_effect_df['Feature'].isin(sig_both)) &\n",
    "    (treatment_effect_df['direction'] == 'away_from_healthy')\n",
    "]"
   ]
  },
  {
   "cell_type": "code",
   "execution_count": 19,
   "id": "3df9fea9",
   "metadata": {},
   "outputs": [
    {
     "name": "stdout",
     "output_type": "stream",
     "text": [
      "31 50 34\n",
      "0\n"
     ]
    }
   ],
   "source": [
    "# ! Get features that are significant for all groups\n",
    "h_sig_a_b = set(all_healthy_anova_result[all_healthy_anova_result['Significance Healthy Left A vs Healthy Left B'] != 'n.s.']['Feature'])\n",
    "h_sig_a_c = set(all_healthy_anova_result[all_healthy_anova_result['Significance Healthy Left A vs Healthy Left C'] != 'n.s.']['Feature'])\n",
    "h_sig_a_d = set(all_healthy_anova_result[all_healthy_anova_result['Significance Healthy Left A vs Healthy Left D'] != 'n.s.']['Feature'])\n",
    "h_sig_a_e = set(all_healthy_anova_result[all_healthy_anova_result['Significance Healthy Left A vs Healthy Left E'] != 'n.s.']['Feature'])\n",
    "h_sig_b_c = set(all_healthy_anova_result[all_healthy_anova_result['Significance Healthy Left B vs Healthy Left C'] != 'n.s.']['Feature'])\n",
    "h_sig_b_d = set(all_healthy_anova_result[all_healthy_anova_result['Significance Healthy Left B vs Healthy Left D'] != 'n.s.']['Feature'])\n",
    "h_sig_b_e = set(all_healthy_anova_result[all_healthy_anova_result['Significance Healthy Left B vs Healthy Left E'] != 'n.s.']['Feature'])\n",
    "h_sig_c_d = set(all_healthy_anova_result[all_healthy_anova_result['Significance Healthy Left C vs Healthy Left D'] != 'n.s.']['Feature'])\n",
    "h_sig_c_e = set(all_healthy_anova_result[all_healthy_anova_result['Significance Healthy Left C vs Healthy Left E'] != 'n.s.']['Feature'])\n",
    "h_sig_d_e = set(all_healthy_anova_result[all_healthy_anova_result['Significance Healthy Left D vs Healthy Left E'] != 'n.s.']['Feature'])\n",
    "\n",
    "print(len(h_sig_b_c), len(h_sig_b_e), len(h_sig_c_e))\n",
    "h_sig_all = h_sig_b_c & h_sig_c_e & h_sig_b_e\n",
    "print(len(h_sig_all))\n",
    "## Due to this result, best way to show it is with a UMAP plot"
   ]
  },
  {
   "cell_type": "code",
   "execution_count": 20,
   "id": "36ee1f42",
   "metadata": {},
   "outputs": [
    {
     "data": {
      "application/vnd.plotly.v1+json": {
       "config": {
        "plotlyServerURL": "https://plot.ly"
       },
       "data": [
        {
         "error_y": {
          "array": [
           1.006401466968385,
           1.2986490060346436,
           1.3022445809811423
          ],
          "type": "data",
          "visible": true
         },
         "marker": {
          "color": [
           "#636EFA",
           "#EF553B",
           "#00CC96"
          ],
          "line": {
           "color": "black",
           "width": 1
          }
         },
         "name": "Mean angle at stance - rhindlimb - lHindfingers (°)",
         "type": "bar",
         "x": [
          "healthy_left_B_run",
          "sick_left_C_run",
          "sick_left_E_run"
         ],
         "xaxis": "x",
         "y": [
          176.57425654828202,
          174.0593899740756,
          174.3750873933841
         ],
         "yaxis": "y"
        },
        {
         "marker": {
          "color": "black",
          "opacity": 0.5,
          "size": 6
         },
         "mode": "markers",
         "showlegend": false,
         "type": "scatter",
         "x": [
          "healthy_left_B_run",
          "healthy_left_B_run",
          "healthy_left_B_run",
          "healthy_left_B_run",
          "healthy_left_B_run",
          "healthy_left_B_run",
          "healthy_left_B_run",
          "healthy_left_B_run",
          "healthy_left_B_run",
          "healthy_left_B_run"
         ],
         "xaxis": "x",
         "y": {
          "bdata": "78Abi63QZUBQL/HwKShmQLcX4AIWJmZA55om7MbpZUCb1cW4Uh9mQBVD5iYR+GVAYhwg0W8dZkD1Ehmp8CRmQN3lLHSqKWZAdyqK358rZkA=",
          "dtype": "f8"
         },
         "yaxis": "y"
        },
        {
         "marker": {
          "color": "black",
          "opacity": 0.5,
          "size": 6
         },
         "mode": "markers",
         "showlegend": false,
         "type": "scatter",
         "x": [
          "sick_left_C_run",
          "sick_left_C_run",
          "sick_left_C_run",
          "sick_left_C_run",
          "sick_left_C_run",
          "sick_left_C_run",
          "sick_left_C_run",
          "sick_left_C_run",
          "sick_left_C_run",
          "sick_left_C_run"
         ],
         "xaxis": "x",
         "y": {
          "bdata": "za1kJXS9ZUBdK7CZfn5lQOVLuA6VnWVA2P6wGSjuZUCSOXSHLfhlQI4A7mZis2VAopYq96/cZUCEnPgr3Y5lQD3bkdUJ1WVAWQhyayrfZUA=",
          "dtype": "f8"
         },
         "yaxis": "y"
        },
        {
         "marker": {
          "color": "black",
          "opacity": 0.5,
          "size": 6
         },
         "mode": "markers",
         "showlegend": false,
         "type": "scatter",
         "x": [
          "sick_left_E_run",
          "sick_left_E_run",
          "sick_left_E_run",
          "sick_left_E_run",
          "sick_left_E_run",
          "sick_left_E_run",
          "sick_left_E_run",
          "sick_left_E_run",
          "sick_left_E_run",
          "sick_left_E_run"
         ],
         "xaxis": "x",
         "y": {
          "bdata": "u0mN1wrHZUCfocvXldhlQF0ZSBep1mVAcqQ9LwWWZUAplB2WRvdlQNrS84+c4WVAqmhhyZwMZkDypGmRd5xlQENIQCXC2GVAdULKjP6QZUA=",
          "dtype": "f8"
         },
         "yaxis": "y"
        },
        {
         "error_y": {
          "array": [
           1.2692027277388938,
           1.248243395116599,
           1.1614787271958207
          ],
          "type": "data",
          "visible": true
         },
         "marker": {
          "color": [
           "#636EFA",
           "#EF553B",
           "#00CC96"
          ],
          "line": {
           "color": "black",
           "width": 1
          }
         },
         "name": "Mean angle at touchdown - rhindlimb - lHindfingers (°)",
         "type": "bar",
         "x": [
          "healthy_left_B_run",
          "sick_left_C_run",
          "sick_left_E_run"
         ],
         "xaxis": "x2",
         "y": [
          175.20827210072346,
          173.4891527063267,
          174.12217851239166
         ],
         "yaxis": "y2"
        },
        {
         "marker": {
          "color": "black",
          "opacity": 0.5,
          "size": 6
         },
         "mode": "markers",
         "showlegend": false,
         "type": "scatter",
         "x": [
          "healthy_left_B_run",
          "healthy_left_B_run",
          "healthy_left_B_run",
          "healthy_left_B_run",
          "healthy_left_B_run",
          "healthy_left_B_run",
          "healthy_left_B_run",
          "healthy_left_B_run",
          "healthy_left_B_run",
          "healthy_left_B_run"
         ],
         "xaxis": "x2",
         "y": {
          "bdata": "us5S5WCzZUD0mz3VYQdmQNjw3nP5+2VAC/KcQWwFZkCdsMTpIhtmQLN3WKA+o2VAIjROGnXFZUCYJQuPkPllQLx9h+yl+mVAKkt8FnDOZUA=",
          "dtype": "f8"
         },
         "yaxis": "y2"
        },
        {
         "marker": {
          "color": "black",
          "opacity": 0.5,
          "size": 6
         },
         "mode": "markers",
         "showlegend": false,
         "type": "scatter",
         "x": [
          "sick_left_C_run",
          "sick_left_C_run",
          "sick_left_C_run",
          "sick_left_C_run",
          "sick_left_C_run",
          "sick_left_C_run",
          "sick_left_C_run",
          "sick_left_C_run",
          "sick_left_C_run",
          "sick_left_C_run"
         ],
         "xaxis": "x2",
         "y": {
          "bdata": "fDC5jc6tZUBxK4cCbrRlQPCy/F1ammVAuWJOnJSQZUCE5YXYtr9lQKIZgyRPxWVAFWUe2kMHZkAC5X20y2xlQMvnHeuzq2VAxOR0YpKqZUA=",
          "dtype": "f8"
         },
         "yaxis": "y2"
        },
        {
         "marker": {
          "color": "black",
          "opacity": 0.5,
          "size": 6
         },
         "mode": "markers",
         "showlegend": false,
         "type": "scatter",
         "x": [
          "sick_left_E_run",
          "sick_left_E_run",
          "sick_left_E_run",
          "sick_left_E_run",
          "sick_left_E_run",
          "sick_left_E_run",
          "sick_left_E_run",
          "sick_left_E_run",
          "sick_left_E_run",
          "sick_left_E_run"
         ],
         "xaxis": "x2",
         "y": {
          "bdata": "lQUTPXjZZUBLBtuZM9RlQE2oLv8zkWVAzhA41WqZZUDA9hbzHtJlQIjepPdzr2VAvoTadRTpZUCfKeyxt5tlQOwalfWuAGZALVuxKcDHZUA=",
          "dtype": "f8"
         },
         "yaxis": "y2"
        },
        {
         "error_y": {
          "array": [
           0.7243695829918582,
           2.609964196668283,
           1.8804402590728364
          ],
          "type": "data",
          "visible": true
         },
         "marker": {
          "color": [
           "#636EFA",
           "#EF553B",
           "#00CC96"
          ],
          "line": {
           "color": "black",
           "width": 1
          }
         },
         "name": "Mean angle during stance - rhindlimb - knee (°)",
         "type": "bar",
         "x": [
          "healthy_left_B_run",
          "sick_left_C_run",
          "sick_left_E_run"
         ],
         "xaxis": "x3",
         "y": [
          92.42683106643275,
          94.40249245531085,
          92.4157156264392
         ],
         "yaxis": "y3"
        },
        {
         "marker": {
          "color": "black",
          "opacity": 0.5,
          "size": 6
         },
         "mode": "markers",
         "showlegend": false,
         "type": "scatter",
         "x": [
          "healthy_left_B_run",
          "healthy_left_B_run",
          "healthy_left_B_run",
          "healthy_left_B_run",
          "healthy_left_B_run",
          "healthy_left_B_run",
          "healthy_left_B_run",
          "healthy_left_B_run",
          "healthy_left_B_run",
          "healthy_left_B_run"
         ],
         "xaxis": "x3",
         "y": {
          "bdata": "S5GUHSnWVkCnkgSFBCpXQI6YxEmIU1dA7Y0u4FEXV0ANRiu1EShXQDemEGIY3VZAmYj4ZujsVkBMbigdAhpXQC5YCxo/UVdAUpeJftBIV0A=",
          "dtype": "f8"
         },
         "yaxis": "y3"
        },
        {
         "marker": {
          "color": "black",
          "opacity": 0.5,
          "size": 6
         },
         "mode": "markers",
         "showlegend": false,
         "type": "scatter",
         "x": [
          "sick_left_C_run",
          "sick_left_C_run",
          "sick_left_C_run",
          "sick_left_C_run",
          "sick_left_C_run",
          "sick_left_C_run",
          "sick_left_C_run",
          "sick_left_C_run",
          "sick_left_C_run",
          "sick_left_C_run"
         ],
         "xaxis": "x3",
         "y": {
          "bdata": "DmNmaC62V0Cc+vOjHd5XQJeF0apsz1dAW2vCQLURWEAw0K9Ja4VWQGfG56x23ldAeeVdKqQNV0AdEppLjN1XQLStnPWLllhAdpMMA4ymVkA=",
          "dtype": "f8"
         },
         "yaxis": "y3"
        },
        {
         "marker": {
          "color": "black",
          "opacity": 0.5,
          "size": 6
         },
         "mode": "markers",
         "showlegend": false,
         "type": "scatter",
         "x": [
          "sick_left_E_run",
          "sick_left_E_run",
          "sick_left_E_run",
          "sick_left_E_run",
          "sick_left_E_run",
          "sick_left_E_run",
          "sick_left_E_run",
          "sick_left_E_run",
          "sick_left_E_run",
          "sick_left_E_run"
         ],
         "xaxis": "x3",
         "y": {
          "bdata": "9NyNfsljV0BYRDkWzydXQMPxezp7xFdAr09ceumFVkBcqurYEetWQIqEqW/PPVdA4xyWMyA+V0CsxS5zd5VXQPKTSfRLBFdACfPjq0wzVkA=",
          "dtype": "f8"
         },
         "yaxis": "y3"
        },
        {
         "error_y": {
          "array": [
           0.043027674153916264,
           0.013267227376182703,
           0.02035945080127717
          ],
          "type": "data",
          "visible": true
         },
         "marker": {
          "color": [
           "#636EFA",
           "#EF553B",
           "#00CC96"
          ],
          "line": {
           "color": "black",
           "width": 1
          }
         },
         "name": "Mean angle during stance - rhindlimb - lHindfingers std",
         "type": "bar",
         "x": [
          "healthy_left_B_run",
          "sick_left_C_run",
          "sick_left_E_run"
         ],
         "xaxis": "x4",
         "y": [
          0.05452483132469168,
          0.031595189038934386,
          0.036690624936348636
         ],
         "yaxis": "y4"
        },
        {
         "marker": {
          "color": "black",
          "opacity": 0.5,
          "size": 6
         },
         "mode": "markers",
         "showlegend": false,
         "type": "scatter",
         "x": [
          "healthy_left_B_run",
          "healthy_left_B_run",
          "healthy_left_B_run",
          "healthy_left_B_run",
          "healthy_left_B_run",
          "healthy_left_B_run",
          "healthy_left_B_run",
          "healthy_left_B_run",
          "healthy_left_B_run",
          "healthy_left_B_run"
         ],
         "xaxis": "x4",
         "y": {
          "bdata": "nsBTOw5EsD+4ysS5pAKEPyOyPMRuMJo/3G7eBpjhwT8foLfYBaN1P3z0902wIKw/mYWR7Nb0lT9XqrIkz4WnP5vqr52Xubo/vcKKuHgdsz8=",
          "dtype": "f8"
         },
         "yaxis": "y4"
        },
        {
         "marker": {
          "color": "black",
          "opacity": 0.5,
          "size": 6
         },
         "mode": "markers",
         "showlegend": false,
         "type": "scatter",
         "x": [
          "sick_left_C_run",
          "sick_left_C_run",
          "sick_left_C_run",
          "sick_left_C_run",
          "sick_left_C_run",
          "sick_left_C_run",
          "sick_left_C_run",
          "sick_left_C_run",
          "sick_left_C_run",
          "sick_left_C_run"
         ],
         "xaxis": "x4",
         "y": {
          "bdata": "CBAfxyy7oD/4fyQJWz6vP8ZEAvIc1JY/ivLOMRnZpj/0ncAgCkGgP810FCZuUpQ/WPRpKdTGnT9KC46OvQmgP6mqRKH/F54/+8GXV2iRjD8=",
          "dtype": "f8"
         },
         "yaxis": "y4"
        },
        {
         "marker": {
          "color": "black",
          "opacity": 0.5,
          "size": 6
         },
         "mode": "markers",
         "showlegend": false,
         "type": "scatter",
         "x": [
          "sick_left_E_run",
          "sick_left_E_run",
          "sick_left_E_run",
          "sick_left_E_run",
          "sick_left_E_run",
          "sick_left_E_run",
          "sick_left_E_run",
          "sick_left_E_run",
          "sick_left_E_run",
          "sick_left_E_run"
         ],
         "xaxis": "x4",
         "y": {
          "bdata": "eoBmYaw1mj/+SLKZqTGqP2Nb/pTfHak/6359IvnrpD8Uq9boNIWiP9bcmEMcfpw/V9kpcVx9qD8qtkCtKGB/P6PKMRJj6X4/PoLoqvy8sj8=",
          "dtype": "f8"
         },
         "yaxis": "y4"
        },
        {
         "error_y": {
          "array": [
           0.9969047201666582,
           0.37631992856091045,
           1.1302152793576221
          ],
          "type": "data",
          "visible": true
         },
         "marker": {
          "color": [
           "#636EFA",
           "#EF553B",
           "#00CC96"
          ],
          "line": {
           "color": "black",
           "width": 1
          }
         },
         "name": "Mean angle velocity at stance - rhindlimb - knee std",
         "type": "bar",
         "x": [
          "healthy_left_B_run",
          "sick_left_C_run",
          "sick_left_E_run"
         ],
         "xaxis": "x5",
         "y": [
          2.2592853107525466,
          1.3730600865098612,
          1.9073940898479094
         ],
         "yaxis": "y5"
        },
        {
         "marker": {
          "color": "black",
          "opacity": 0.5,
          "size": 6
         },
         "mode": "markers",
         "showlegend": false,
         "type": "scatter",
         "x": [
          "healthy_left_B_run",
          "healthy_left_B_run",
          "healthy_left_B_run",
          "healthy_left_B_run",
          "healthy_left_B_run",
          "healthy_left_B_run",
          "healthy_left_B_run",
          "healthy_left_B_run",
          "healthy_left_B_run",
          "healthy_left_B_run"
         ],
         "xaxis": "x5",
         "y": {
          "bdata": "6pLD8xgOB0C5a7pjnGsOQD0anHoU9PE/9xatOG/OAUCtlv40xDsLQCImqbvSk/Q/Eu0VZt5y+z9tDlxhxBwJQOm5n7JvwvA/UBk87sN9/z8=",
          "dtype": "f8"
         },
         "yaxis": "y5"
        },
        {
         "marker": {
          "color": "black",
          "opacity": 0.5,
          "size": 6
         },
         "mode": "markers",
         "showlegend": false,
         "type": "scatter",
         "x": [
          "sick_left_C_run",
          "sick_left_C_run",
          "sick_left_C_run",
          "sick_left_C_run",
          "sick_left_C_run",
          "sick_left_C_run",
          "sick_left_C_run",
          "sick_left_C_run",
          "sick_left_C_run",
          "sick_left_C_run"
         ],
         "xaxis": "x5",
         "y": {
          "bdata": "jJUmyH+n7j81v40Wk8LxP4M/rYMMBvg/yCrj1sPA9j/vIBCnSRj2P9lcbCQuNPs/bzVXWSpz/z+mqTf6syLnP1jkxZPKevs/a5F5faAH9D8=",
          "dtype": "f8"
         },
         "yaxis": "y5"
        },
        {
         "marker": {
          "color": "black",
          "opacity": 0.5,
          "size": 6
         },
         "mode": "markers",
         "showlegend": false,
         "type": "scatter",
         "x": [
          "sick_left_E_run",
          "sick_left_E_run",
          "sick_left_E_run",
          "sick_left_E_run",
          "sick_left_E_run",
          "sick_left_E_run",
          "sick_left_E_run",
          "sick_left_E_run",
          "sick_left_E_run",
          "sick_left_E_run"
         ],
         "xaxis": "x5",
         "y": {
          "bdata": "cI/dyKoG9j+1Cftucfb6P5hYzpnU0Po/Wwt29BTyC0DgKongeWsLQI9svNfUleY/Toow8RbGAkCtSFM2oyXfP8rIWGC5VOk/73+TL3itCEA=",
          "dtype": "f8"
         },
         "yaxis": "y5"
        },
        {
         "error_y": {
          "array": [
           2.2399696497284416,
           0.7051300712083881,
           1.1772022664142825
          ],
          "type": "data",
          "visible": true
         },
         "marker": {
          "color": [
           "#636EFA",
           "#EF553B",
           "#00CC96"
          ],
          "line": {
           "color": "black",
           "width": 1
          }
         },
         "name": "Mean phase at swing - rhindlimb - knee std",
         "type": "bar",
         "x": [
          "healthy_left_B_run",
          "sick_left_C_run",
          "sick_left_E_run"
         ],
         "xaxis": "x6",
         "y": [
          3.6525070971029407,
          1.4868155212924965,
          2.0331713004697596
         ],
         "yaxis": "y6"
        },
        {
         "marker": {
          "color": "black",
          "opacity": 0.5,
          "size": 6
         },
         "mode": "markers",
         "showlegend": false,
         "type": "scatter",
         "x": [
          "healthy_left_B_run",
          "healthy_left_B_run",
          "healthy_left_B_run",
          "healthy_left_B_run",
          "healthy_left_B_run",
          "healthy_left_B_run",
          "healthy_left_B_run",
          "healthy_left_B_run",
          "healthy_left_B_run",
          "healthy_left_B_run"
         ],
         "xaxis": "x6",
         "y": {
          "bdata": "M73eb9xpEkAg0sm5Yjj6P3d9M4wVEfM/8YgEct7HGkCFN9LR6/LzP77W0LH1wfM/jzX+wNELCEBhK+e6pOQUQLBujk1R2xlAboci93viFEA=",
          "dtype": "f8"
         },
         "yaxis": "y6"
        },
        {
         "marker": {
          "color": "black",
          "opacity": 0.5,
          "size": 6
         },
         "mode": "markers",
         "showlegend": false,
         "type": "scatter",
         "x": [
          "sick_left_C_run",
          "sick_left_C_run",
          "sick_left_C_run",
          "sick_left_C_run",
          "sick_left_C_run",
          "sick_left_C_run",
          "sick_left_C_run",
          "sick_left_C_run",
          "sick_left_C_run",
          "sick_left_C_run"
         ],
         "xaxis": "x6",
         "y": {
          "bdata": "XOQWZM2r9D+ifi9vQKbsPyKnGspiKvI/ZY5LC+bg8z+98bh5uJAGQB62TJPXD/Y/d0XDs+p75D9LF0uFx9QDQLZ9xXYCI/8/uBNl5fCd8D8=",
          "dtype": "f8"
         },
         "yaxis": "y6"
        },
        {
         "marker": {
          "color": "black",
          "opacity": 0.5,
          "size": 6
         },
         "mode": "markers",
         "showlegend": false,
         "type": "scatter",
         "x": [
          "sick_left_E_run",
          "sick_left_E_run",
          "sick_left_E_run",
          "sick_left_E_run",
          "sick_left_E_run",
          "sick_left_E_run",
          "sick_left_E_run",
          "sick_left_E_run",
          "sick_left_E_run",
          "sick_left_E_run"
         ],
         "xaxis": "x6",
         "y": {
          "bdata": "BUOJi6K1A0BKdpwOgWTrPyIz1vQPoxFADr4fuj3CAUC+sJvBjW32P+0pQkoJIglAIkm7KUex3D9S3epkLO3wP5m2o1AQL/8/2HHLRyETA0A=",
          "dtype": "f8"
         },
         "yaxis": "y6"
        },
        {
         "error_y": {
          "array": [
           1.5423484646846448,
           0.9093147216853972,
           1.3841598620096052
          ],
          "type": "data",
          "visible": true
         },
         "marker": {
          "color": [
           "#636EFA",
           "#EF553B",
           "#00CC96"
          ],
          "line": {
           "color": "black",
           "width": 1
          }
         },
         "name": "Mean phase velocity at swing - rhindlimb - knee (rad/s)",
         "type": "bar",
         "x": [
          "healthy_left_B_run",
          "sick_left_C_run",
          "sick_left_E_run"
         ],
         "xaxis": "x7",
         "y": [
          -0.5037800509985363,
          -4.289711941431038,
          -4.269408954114239
         ],
         "yaxis": "y7"
        },
        {
         "marker": {
          "color": "black",
          "opacity": 0.5,
          "size": 6
         },
         "mode": "markers",
         "showlegend": false,
         "type": "scatter",
         "x": [
          "healthy_left_B_run",
          "healthy_left_B_run",
          "healthy_left_B_run",
          "healthy_left_B_run",
          "healthy_left_B_run",
          "healthy_left_B_run",
          "healthy_left_B_run",
          "healthy_left_B_run",
          "healthy_left_B_run",
          "healthy_left_B_run"
         ],
         "xaxis": "x7",
         "y": {
          "bdata": "Vx/k1L+O8L8Y/SuAJoEHwL6EPJuyrOc/6tFFoEKV579K68Wjh9rwv1nqp9DlagNAIvTh/hpnAsBEhsBmEZPcP8Wx+rXHO+m/1E8rIY20yT8=",
          "dtype": "f8"
         },
         "yaxis": "y7"
        },
        {
         "marker": {
          "color": "black",
          "opacity": 0.5,
          "size": 6
         },
         "mode": "markers",
         "showlegend": false,
         "type": "scatter",
         "x": [
          "sick_left_C_run",
          "sick_left_C_run",
          "sick_left_C_run",
          "sick_left_C_run",
          "sick_left_C_run",
          "sick_left_C_run",
          "sick_left_C_run",
          "sick_left_C_run",
          "sick_left_C_run",
          "sick_left_C_run"
         ],
         "xaxis": "x7",
         "y": {
          "bdata": "bTciti1cGMDDKKW49/MUwPXSkKrHmxHA1RGYScDbB8BZkPHI80gQwM2T70wwnA/AUEJSIwpJEcDpxMaO42IOwPSsKCB49BLAyb6wgLJtCsA=",
          "dtype": "f8"
         },
         "yaxis": "y7"
        },
        {
         "marker": {
          "color": "black",
          "opacity": 0.5,
          "size": 6
         },
         "mode": "markers",
         "showlegend": false,
         "type": "scatter",
         "x": [
          "sick_left_E_run",
          "sick_left_E_run",
          "sick_left_E_run",
          "sick_left_E_run",
          "sick_left_E_run",
          "sick_left_E_run",
          "sick_left_E_run",
          "sick_left_E_run",
          "sick_left_E_run",
          "sick_left_E_run"
         ],
         "xaxis": "x7",
         "y": {
          "bdata": "IRfvaS2WF8DU2u35LkEQwBrsfybIaBrA8NqjaUeCAMBwesZyas0HwIFiUiPoEBTA+L6lBqeQCMCtUs9swYITwPDMWEN0jA7AK8vruoo8EcA=",
          "dtype": "f8"
         },
         "yaxis": "y7"
        },
        {
         "error_y": {
          "array": [
           5.9082724893771825,
           8.29313771820782,
           3.7926252698230756
          ],
          "type": "data",
          "visible": true
         },
         "marker": {
          "color": [
           "#636EFA",
           "#EF553B",
           "#00CC96"
          ],
          "line": {
           "color": "black",
           "width": 1
          }
         },
         "name": "Mean step acceleration X at peak - lHindfingers (m/s^2)",
         "type": "bar",
         "x": [
          "healthy_left_B_run",
          "sick_left_C_run",
          "sick_left_E_run"
         ],
         "xaxis": "x8",
         "y": [
          10.638294875810193,
          -4.386687018091069,
          -2.4311020806341253
         ],
         "yaxis": "y8"
        },
        {
         "marker": {
          "color": "black",
          "opacity": 0.5,
          "size": 6
         },
         "mode": "markers",
         "showlegend": false,
         "type": "scatter",
         "x": [
          "healthy_left_B_run",
          "healthy_left_B_run",
          "healthy_left_B_run",
          "healthy_left_B_run",
          "healthy_left_B_run",
          "healthy_left_B_run",
          "healthy_left_B_run",
          "healthy_left_B_run",
          "healthy_left_B_run",
          "healthy_left_B_run"
         ],
         "xaxis": "x8",
         "y": {
          "bdata": "ZESGe8VOMUCTO7ETCy4aQFBCGqQh+B1AUMu3fEuoL0ByZJAGacnYv/NO7MQi5CJAh+zETmzUIkC1wiu89oUsQB2QBmlYJh5AZCwdKN/vMkA=",
          "dtype": "f8"
         },
         "yaxis": "y8"
        },
        {
         "marker": {
          "color": "black",
          "opacity": 0.5,
          "size": 6
         },
         "mode": "markers",
         "showlegend": false,
         "type": "scatter",
         "x": [
          "sick_left_C_run",
          "sick_left_C_run",
          "sick_left_C_run",
          "sick_left_C_run",
          "sick_left_C_run",
          "sick_left_C_run",
          "sick_left_C_run",
          "sick_left_C_run",
          "sick_left_C_run",
          "sick_left_C_run"
         ],
         "xaxis": "x8",
         "y": {
          "bdata": "JC7f8uHXIcCvy9iJnViBP95d4RWefxlA+cu3fMsiFkA5T+zEZmnyv1eKU8Tzcvs/20+GApE9LcDBlEIpNBMPwAM7sRMDmzDAeyAN0kyiKMA=",
          "dtype": "f8"
         },
         "yaxis": "y8"
        },
        {
         "marker": {
          "color": "black",
          "opacity": 0.5,
          "size": 6
         },
         "mode": "markers",
         "showlegend": false,
         "type": "scatter",
         "x": [
          "sick_left_E_run",
          "sick_left_E_run",
          "sick_left_E_run",
          "sick_left_E_run",
          "sick_left_E_run",
          "sick_left_E_run",
          "sick_left_E_run",
          "sick_left_E_run",
          "sick_left_E_run",
          "sick_left_E_run"
         ],
         "xaxis": "x8",
         "y": {
          "bdata": "/kQh2vA9x7/qu7iLOzsdwCGvp2Ndiw7A80eDNPhsEcCgJliC5Q/3v2fP/dzP6AJABYM0SKu+CUB2aLUQdF0YwBM1TYVoE74/N3iAB0hBG8A=",
          "dtype": "f8"
         },
         "yaxis": "y8"
        },
        {
         "error_y": {
          "array": [
           0.5787686371968761,
           0.2972035035418705,
           0.3689063150551566
          ],
          "type": "data",
          "visible": true
         },
         "marker": {
          "color": [
           "#636EFA",
           "#EF553B",
           "#00CC96"
          ],
          "line": {
           "color": "black",
           "width": 1
          }
         },
         "name": "Mean step acceleration X during stance - lHindfingers (m/s^2)",
         "type": "bar",
         "x": [
          "healthy_left_B_run",
          "sick_left_C_run",
          "sick_left_E_run"
         ],
         "xaxis": "x9",
         "y": [
          -0.007442642018171101,
          0.5546392792918341,
          0.4884091035741906
         ],
         "yaxis": "y9"
        },
        {
         "marker": {
          "color": "black",
          "opacity": 0.5,
          "size": 6
         },
         "mode": "markers",
         "showlegend": false,
         "type": "scatter",
         "x": [
          "healthy_left_B_run",
          "healthy_left_B_run",
          "healthy_left_B_run",
          "healthy_left_B_run",
          "healthy_left_B_run",
          "healthy_left_B_run",
          "healthy_left_B_run",
          "healthy_left_B_run",
          "healthy_left_B_run",
          "healthy_left_B_run"
         ],
         "xaxis": "x9",
         "y": {
          "bdata": "uy5r4sC5nr8nK953npXlP/xR2YS6S7a/UGOOOeZQzr9Y/dVfv+j2v4TZHiWq0d0/4LeXxeYRs79fxAkwNu3cP6tQmvMs4rc/nce2y5WhuT8=",
          "dtype": "f8"
         },
         "yaxis": "y9"
        },
        {
         "marker": {
          "color": "black",
          "opacity": 0.5,
          "size": 6
         },
         "mode": "markers",
         "showlegend": false,
         "type": "scatter",
         "x": [
          "sick_left_C_run",
          "sick_left_C_run",
          "sick_left_C_run",
          "sick_left_C_run",
          "sick_left_C_run",
          "sick_left_C_run",
          "sick_left_C_run",
          "sick_left_C_run",
          "sick_left_C_run",
          "sick_left_C_run"
         ],
         "xaxis": "x9",
         "y": {
          "bdata": "SP2mBh/L1T/CguGmwVHvP0g1wxsgWdI/Hg8Iv+jwxz94ZQMwl1TtP92wLgDA8u0/8Us62A4R5T+rZNb7lZDgP9T0p3YR8dY/ues3K9l01z8=",
          "dtype": "f8"
         },
         "yaxis": "y9"
        },
        {
         "marker": {
          "color": "black",
          "opacity": 0.5,
          "size": 6
         },
         "mode": "markers",
         "showlegend": false,
         "type": "scatter",
         "x": [
          "sick_left_E_run",
          "sick_left_E_run",
          "sick_left_E_run",
          "sick_left_E_run",
          "sick_left_E_run",
          "sick_left_E_run",
          "sick_left_E_run",
          "sick_left_E_run",
          "sick_left_E_run",
          "sick_left_E_run"
         ],
         "xaxis": "x9",
         "y": {
          "bdata": "++znQeGswj+EX/+NiTvdPxQyqTOOn+U/BdrQTZ0i6D/r1Lv8JxTiP4RqEbgRqdw/6m7YkyFFzb8pGcTZfr3xP/GgkxAKzNA/vi8SgOVG5j8=",
          "dtype": "f8"
         },
         "yaxis": "y9"
        },
        {
         "error_y": {
          "array": [
           0.6494535921036384,
           0.2974904788180556,
           0.3539620672295868
          ],
          "type": "data",
          "visible": true
         },
         "marker": {
          "color": [
           "#636EFA",
           "#EF553B",
           "#00CC96"
          ],
          "line": {
           "color": "black",
           "width": 1
          }
         },
         "name": "Mean step acceleration X during stance - lHindpaw (m/s^2)",
         "type": "bar",
         "x": [
          "healthy_left_B_run",
          "sick_left_C_run",
          "sick_left_E_run"
         ],
         "xaxis": "x10",
         "y": [
          0.17717132106297706,
          0.8899979639866865,
          0.6847516172690986
         ],
         "yaxis": "y10"
        },
        {
         "marker": {
          "color": "black",
          "opacity": 0.5,
          "size": 6
         },
         "mode": "markers",
         "showlegend": false,
         "type": "scatter",
         "x": [
          "healthy_left_B_run",
          "healthy_left_B_run",
          "healthy_left_B_run",
          "healthy_left_B_run",
          "healthy_left_B_run",
          "healthy_left_B_run",
          "healthy_left_B_run",
          "healthy_left_B_run",
          "healthy_left_B_run",
          "healthy_left_B_run"
         ],
         "xaxis": "x10",
         "y": {
          "bdata": "pmR7pNt0zT9k8MpVqiPtP4HrXFyAIsI/jyljS5nM1r8CvdALteH0vwIRYIUjQec/TNUKEilzwT9lJEBqv5voP5UsfQPq2p4/kF6JlCFD3z8=",
          "dtype": "f8"
         },
         "yaxis": "y10"
        },
        {
         "marker": {
          "color": "black",
          "opacity": 0.5,
          "size": 6
         },
         "mode": "markers",
         "showlegend": false,
         "type": "scatter",
         "x": [
          "sick_left_C_run",
          "sick_left_C_run",
          "sick_left_C_run",
          "sick_left_C_run",
          "sick_left_C_run",
          "sick_left_C_run",
          "sick_left_C_run",
          "sick_left_C_run",
          "sick_left_C_run",
          "sick_left_C_run"
         ],
         "xaxis": "x10",
         "y": {
          "bdata": "YKWTm4gK6D/d7+0CIQXwPzR3TcH6o+o/AoTeVIDF0j/x1d7Dwtv0P9Xzkm/QmPM/z2H+4A1v6z/PPYN/HkPmP/Ltldh2h/I/cBtMFNwG6T8=",
          "dtype": "f8"
         },
         "yaxis": "y10"
        },
        {
         "marker": {
          "color": "black",
          "opacity": 0.5,
          "size": 6
         },
         "mode": "markers",
         "showlegend": false,
         "type": "scatter",
         "x": [
          "sick_left_E_run",
          "sick_left_E_run",
          "sick_left_E_run",
          "sick_left_E_run",
          "sick_left_E_run",
          "sick_left_E_run",
          "sick_left_E_run",
          "sick_left_E_run",
          "sick_left_E_run",
          "sick_left_E_run"
         ],
         "xaxis": "x10",
         "y": {
          "bdata": "lOrpBJC45D/gX2bIKPHqPzCdZ5dB0us/kvYdNj7S6T+RIRlJVTXiP+1xHcGL8eM/azAxYuXevb/IJyd1ZyrwP24xMDG+7ds/QkVyoPeM8j8=",
          "dtype": "f8"
         },
         "yaxis": "y10"
        },
        {
         "error_y": {
          "array": [
           1.158423684487351,
           0.3534042022084483,
           0.6326521859691348
          ],
          "type": "data",
          "visible": true
         },
         "marker": {
          "color": [
           "#636EFA",
           "#EF553B",
           "#00CC96"
          ],
          "line": {
           "color": "black",
           "width": 1
          }
         },
         "name": "Mean step acceleration X during swing - lHindpaw (m/s^2)",
         "type": "bar",
         "x": [
          "healthy_left_B_run",
          "sick_left_C_run",
          "sick_left_E_run"
         ],
         "xaxis": "x11",
         "y": [
          0.3872768578348935,
          -0.46893457833656366,
          -0.2378268391380693
         ],
         "yaxis": "y11"
        },
        {
         "marker": {
          "color": "black",
          "opacity": 0.5,
          "size": 6
         },
         "mode": "markers",
         "showlegend": false,
         "type": "scatter",
         "x": [
          "healthy_left_B_run",
          "healthy_left_B_run",
          "healthy_left_B_run",
          "healthy_left_B_run",
          "healthy_left_B_run",
          "healthy_left_B_run",
          "healthy_left_B_run",
          "healthy_left_B_run",
          "healthy_left_B_run",
          "healthy_left_B_run"
         ],
         "xaxis": "x11",
         "y": {
          "bdata": "CH2pjIdszj+4CpwsxmO4v+3ut6DJfbk/8YhzxIkS5z/tQ4S+Y2sLQOTUv1uwUuu/TDeGDRcSwj9Iezu9v7vavxV9sflmweE/GJF5uwyerT8=",
          "dtype": "f8"
         },
         "yaxis": "y11"
        },
        {
         "marker": {
          "color": "black",
          "opacity": 0.5,
          "size": 6
         },
         "mode": "markers",
         "showlegend": false,
         "type": "scatter",
         "x": [
          "sick_left_C_run",
          "sick_left_C_run",
          "sick_left_C_run",
          "sick_left_C_run",
          "sick_left_C_run",
          "sick_left_C_run",
          "sick_left_C_run",
          "sick_left_C_run",
          "sick_left_C_run",
          "sick_left_C_run"
         ],
         "xaxis": "x11",
         "y": {
          "bdata": "Y1Cvwuh60b+tEJknt3vpv+aXqig6zNG/+pMWTdIOhT8AzhJ1rdbrv6ZZVb2Yneu/yrK5bSk40b+x73lP1lhsPyCbMWLOjeq/LU8tGkHC4L8=",
          "dtype": "f8"
         },
         "yaxis": "y11"
        },
        {
         "marker": {
          "color": "black",
          "opacity": 0.5,
          "size": 6
         },
         "mode": "markers",
         "showlegend": false,
         "type": "scatter",
         "x": [
          "sick_left_E_run",
          "sick_left_E_run",
          "sick_left_E_run",
          "sick_left_E_run",
          "sick_left_E_run",
          "sick_left_E_run",
          "sick_left_E_run",
          "sick_left_E_run",
          "sick_left_E_run",
          "sick_left_E_run"
         ],
         "xaxis": "x11",
         "y": {
          "bdata": "lhGRy49n3b/u98vZRZjev9l9Nzs13+a/aL945pMG27849NNXQiKvv5AhZJ+QedK/X23ehFGB9T+bGFT0jonmv5e/35fUOsg/6eVRFTkR6b8=",
          "dtype": "f8"
         },
         "yaxis": "y11"
        },
        {
         "error_y": {
          "array": [
           0.7831711754748264,
           0.6777213016255241,
           0.8987656244384103
          ],
          "type": "data",
          "visible": true
         },
         "marker": {
          "color": [
           "#636EFA",
           "#EF553B",
           "#00CC96"
          ],
          "line": {
           "color": "black",
           "width": 1
          }
         },
         "name": "Mean step acceleration Y at peak - hip (m/s^2)",
         "type": "bar",
         "x": [
          "healthy_left_B_run",
          "sick_left_C_run",
          "sick_left_E_run"
         ],
         "xaxis": "x12",
         "y": [
          -0.4582043481533731,
          0.6350680025049308,
          0.4042681689283385
         ],
         "yaxis": "y12"
        },
        {
         "marker": {
          "color": "black",
          "opacity": 0.5,
          "size": 6
         },
         "mode": "markers",
         "showlegend": false,
         "type": "scatter",
         "x": [
          "healthy_left_B_run",
          "healthy_left_B_run",
          "healthy_left_B_run",
          "healthy_left_B_run",
          "healthy_left_B_run",
          "healthy_left_B_run",
          "healthy_left_B_run",
          "healthy_left_B_run",
          "healthy_left_B_run",
          "healthy_left_B_run"
         ],
         "xaxis": "x12",
         "y": {
          "bdata": "46KwOEWQ0T8Fb/mWb4HkvyBjJ3ZiD+c/KYmd2InN5b9kunzLt4S8P5y95Vsemu6/NnViJ3aCxr9WXL7lW6fRv3ikQRok3eu/CZYOlGuzAMA=",
          "dtype": "f8"
         },
         "yaxis": "y12"
        },
        {
         "marker": {
          "color": "black",
          "opacity": 0.5,
          "size": 6
         },
         "mode": "markers",
         "showlegend": false,
         "type": "scatter",
         "x": [
          "sick_left_C_run",
          "sick_left_C_run",
          "sick_left_C_run",
          "sick_left_C_run",
          "sick_left_C_run",
          "sick_left_C_run",
          "sick_left_C_run",
          "sick_left_C_run",
          "sick_left_C_run",
          "sick_left_C_run"
         ],
         "xaxis": "x12",
         "y": {
          "bdata": "MfMt3/KL9z8c2Ymd2D/5P4SeOe9IIvA/Oq7xd/PW6D8aNEiDlJrnPyDdPEL16ee/wGjD549F2j+PoCM6oqHXP8WPBmmQMuY/vwhGYATuqj8=",
          "dtype": "f8"
         },
         "yaxis": "y12"
        },
        {
         "marker": {
          "color": "black",
          "opacity": 0.5,
          "size": 6
         },
         "mode": "markers",
         "showlegend": false,
         "type": "scatter",
         "x": [
          "sick_left_E_run",
          "sick_left_E_run",
          "sick_left_E_run",
          "sick_left_E_run",
          "sick_left_E_run",
          "sick_left_E_run",
          "sick_left_E_run",
          "sick_left_E_run",
          "sick_left_E_run",
          "sick_left_E_run"
         ],
         "xaxis": "x12",
         "y": {
          "bdata": "qjrk9GGQ/T9HYAmWYCvlv+HQaiHov/c/+S790i816T+/7wAP8KDSP7cCIzACPum/myd2YqeV4z8kHDUjeRHQv/+mdZUIAdK/ybIxGzMK8D8=",
          "dtype": "f8"
         },
         "yaxis": "y12"
        },
        {
         "error_y": {
          "array": [
           1.495344967558262,
           0.6707094825705155,
           0.5442612109038244
          ],
          "type": "data",
          "visible": true
         },
         "marker": {
          "color": [
           "#636EFA",
           "#EF553B",
           "#00CC96"
          ],
          "line": {
           "color": "black",
           "width": 1
          }
         },
         "name": "Mean step acceleration Y at peak - lForepaw std",
         "type": "bar",
         "x": [
          "healthy_left_B_run",
          "sick_left_C_run",
          "sick_left_E_run"
         ],
         "xaxis": "x13",
         "y": [
          2.2109987904535098,
          0.6420844281275895,
          0.716841747899988
         ],
         "yaxis": "y13"
        },
        {
         "marker": {
          "color": "black",
          "opacity": 0.5,
          "size": 6
         },
         "mode": "markers",
         "showlegend": false,
         "type": "scatter",
         "x": [
          "healthy_left_B_run",
          "healthy_left_B_run",
          "healthy_left_B_run",
          "healthy_left_B_run",
          "healthy_left_B_run",
          "healthy_left_B_run",
          "healthy_left_B_run",
          "healthy_left_B_run",
          "healthy_left_B_run",
          "healthy_left_B_run"
         ],
         "xaxis": "x13",
         "y": {
          "bdata": "rsGozxyQC0D7Jw/tavoDQCSBIEYcM/E/wkipeH2S5T9EjAb3HsLqP9DnhR4d9xBAVA2SBTI09j/xXHWB6q0SQIOYhTkU/Og/pGLSCdcEBEA=",
          "dtype": "f8"
         },
         "yaxis": "y13"
        },
        {
         "marker": {
          "color": "black",
          "opacity": 0.5,
          "size": 6
         },
         "mode": "markers",
         "showlegend": false,
         "type": "scatter",
         "x": [
          "sick_left_C_run",
          "sick_left_C_run",
          "sick_left_C_run",
          "sick_left_C_run",
          "sick_left_C_run",
          "sick_left_C_run",
          "sick_left_C_run",
          "sick_left_C_run",
          "sick_left_C_run",
          "sick_left_C_run"
         ],
         "xaxis": "x13",
         "y": {
          "bdata": "ha5doKMo2z9gmH7Zj6HbPxD6BZVa8ANAFIP0FBOY0z/qIKKRvFrZPy1k+Sjti+g/wX+dVpIn1D8UmWN1yLTHP1F3Gvp4KOQ/qbkYOoJE3j8=",
          "dtype": "f8"
         },
         "yaxis": "y13"
        },
        {
         "marker": {
          "color": "black",
          "opacity": 0.5,
          "size": 6
         },
         "mode": "markers",
         "showlegend": false,
         "type": "scatter",
         "x": [
          "sick_left_E_run",
          "sick_left_E_run",
          "sick_left_E_run",
          "sick_left_E_run",
          "sick_left_E_run",
          "sick_left_E_run",
          "sick_left_E_run",
          "sick_left_E_run",
          "sick_left_E_run",
          "sick_left_E_run"
         ],
         "xaxis": "x13",
         "y": {
          "bdata": "TchQNLNQ2j9taMT+qpXlPxvtYqHAWe0/Qmdu7J1c1j+L6p59p/DjPw2PvSTg+NA/lG6bvvZ/2T/n6FIVcjkBQAPKy7YN++g/kl6i4a8P4z8=",
          "dtype": "f8"
         },
         "yaxis": "y13"
        },
        {
         "error_y": {
          "array": [
           1.7441879856529334,
           1.7033370017354417,
           1.7022358879507986
          ],
          "type": "data",
          "visible": true
         },
         "marker": {
          "color": [
           "#636EFA",
           "#EF553B",
           "#00CC96"
          ],
          "line": {
           "color": "black",
           "width": 1
          }
         },
         "name": "Mean step acceleration Y at swing - ankle (m/s^2)",
         "type": "bar",
         "x": [
          "healthy_left_B_run",
          "sick_left_C_run",
          "sick_left_E_run"
         ],
         "xaxis": "x14",
         "y": [
          0.6633486996966643,
          3.1457082012656756,
          2.677742303402548
         ],
         "yaxis": "y14"
        },
        {
         "marker": {
          "color": "black",
          "opacity": 0.5,
          "size": 6
         },
         "mode": "markers",
         "showlegend": false,
         "type": "scatter",
         "x": [
          "healthy_left_B_run",
          "healthy_left_B_run",
          "healthy_left_B_run",
          "healthy_left_B_run",
          "healthy_left_B_run",
          "healthy_left_B_run",
          "healthy_left_B_run",
          "healthy_left_B_run",
          "healthy_left_B_run",
          "healthy_left_B_run"
         ],
         "xaxis": "x14",
         "y": {
          "bdata": "cRQWp4jI+D9lntiJnTTDPyPYiZ1Ygfs/lyXlgMgO679hXL7lW8z+Py+rqqrqb9C/ptiJnRiEB8C7NkiDNEDNPw4AAAAA5AFAYJOK/r3wBkA=",
          "dtype": "f8"
         },
         "yaxis": "y14"
        },
        {
         "marker": {
          "color": "black",
          "opacity": 0.5,
          "size": 6
         },
         "mode": "markers",
         "showlegend": false,
         "type": "scatter",
         "x": [
          "sick_left_C_run",
          "sick_left_C_run",
          "sick_left_C_run",
          "sick_left_C_run",
          "sick_left_C_run",
          "sick_left_C_run",
          "sick_left_C_run",
          "sick_left_C_run",
          "sick_left_C_run",
          "sick_left_C_run"
         ],
         "xaxis": "x14",
         "y": {
          "bdata": "o7VZm5UyEkC8xE7sxGsTQB6sbHUBkwBAhEk5IDKU/z/10SANko8CQA90flyZy7g/Z/6Yo7QyEkDTQAu0YOcTQOKWb/kWUhFA28ZxHAfA+z8=",
          "dtype": "f8"
         },
         "yaxis": "y14"
        },
        {
         "marker": {
          "color": "black",
          "opacity": 0.5,
          "size": 6
         },
         "mode": "markers",
         "showlegend": false,
         "type": "scatter",
         "x": [
          "sick_left_E_run",
          "sick_left_E_run",
          "sick_left_E_run",
          "sick_left_E_run",
          "sick_left_E_run",
          "sick_left_E_run",
          "sick_left_E_run",
          "sick_left_E_run",
          "sick_left_E_run",
          "sick_left_E_run"
         ],
         "xaxis": "x14",
         "y": {
          "bdata": "y2j2yLaw8j96pl/6paz4PxcmCotTTOg/DmZjNuaHDUB2+qVfOn8KQACkQRr0cBdA5yAN0hzQEEB0qqqqKtQBQEZIgzRIIgtAOcQ//MPa4z8=",
          "dtype": "f8"
         },
         "yaxis": "y14"
        },
        {
         "error_y": {
          "array": [
           1.8863334526884918,
           1.341928638769611,
           1.530353922397454
          ],
          "type": "data",
          "visible": true
         },
         "marker": {
          "color": [
           "#636EFA",
           "#EF553B",
           "#00CC96"
          ],
          "line": {
           "color": "black",
           "width": 1
          }
         },
         "name": "Mean step acceleration Y at touchdown - ankle (m/s^2)",
         "type": "bar",
         "x": [
          "healthy_left_B_run",
          "sick_left_C_run",
          "sick_left_E_run"
         ],
         "xaxis": "x15",
         "y": [
          4.427953129758253,
          6.369636067263793,
          4.428876528786397
         ],
         "yaxis": "y15"
        },
        {
         "marker": {
          "color": "black",
          "opacity": 0.5,
          "size": 6
         },
         "mode": "markers",
         "showlegend": false,
         "type": "scatter",
         "x": [
          "healthy_left_B_run",
          "healthy_left_B_run",
          "healthy_left_B_run",
          "healthy_left_B_run",
          "healthy_left_B_run",
          "healthy_left_B_run",
          "healthy_left_B_run",
          "healthy_left_B_run",
          "healthy_left_B_run",
          "healthy_left_B_run"
         ],
         "xaxis": "x15",
         "y": {
          "bdata": "XRqkQRpI+z/q8i3f8ssRQG/SIA1SFQFAxwscNWPlFUDho0EaJCkHQCwapEFCUgtAp53YiR1RFUCZhVd49W8TQFE91EM95xlAGZ+aVDQqHkA=",
          "dtype": "f8"
         },
         "yaxis": "y15"
        },
        {
         "marker": {
          "color": "black",
          "opacity": 0.5,
          "size": 6
         },
         "mode": "markers",
         "showlegend": false,
         "type": "scatter",
         "x": [
          "sick_left_C_run",
          "sick_left_C_run",
          "sick_left_C_run",
          "sick_left_C_run",
          "sick_left_C_run",
          "sick_left_C_run",
          "sick_left_C_run",
          "sick_left_C_run",
          "sick_left_C_run",
          "sick_left_C_run"
         ],
         "xaxis": "x15",
         "y": {
          "bdata": "z5RMyURqHkARRmAExpEUQA6O4ziOCx1A3ZZv+ZbpFECiQRqkDVwZQMldT8e6cB9Alnn9/qWXGECbYzZmA/IbQAqkQRrEzR1ArlmbtVlnDUA=",
          "dtype": "f8"
         },
         "yaxis": "y15"
        },
        {
         "marker": {
          "color": "black",
          "opacity": 0.5,
          "size": 6
         },
         "mode": "markers",
         "showlegend": false,
         "type": "scatter",
         "x": [
          "sick_left_E_run",
          "sick_left_E_run",
          "sick_left_E_run",
          "sick_left_E_run",
          "sick_left_E_run",
          "sick_left_E_run",
          "sick_left_E_run",
          "sick_left_E_run",
          "sick_left_E_run",
          "sick_left_E_run"
         ],
         "xaxis": "x15",
         "y": {
          "bdata": "1KLavVipFEAVwzAMY54RQCaV3he4LhlA+V3cxR2ME0AKLMESLCMaQLge6qHe+QtAREiDNEiMFUBka/zdvCIOQGCO0u0rVgJACBEO4ZB4AEA=",
          "dtype": "f8"
         },
         "yaxis": "y15"
        },
        {
         "error_y": {
          "array": [
           2.662421605361868,
           2.466982067623886,
           1.5739604105441058
          ],
          "type": "data",
          "visible": true
         },
         "marker": {
          "color": [
           "#636EFA",
           "#EF553B",
           "#00CC96"
          ],
          "line": {
           "color": "black",
           "width": 1
          }
         },
         "name": "Mean step acceleration Y at touchdown - lHindfingers (m/s^2)",
         "type": "bar",
         "x": [
          "healthy_left_B_run",
          "sick_left_C_run",
          "sick_left_E_run"
         ],
         "xaxis": "x16",
         "y": [
          4.13534973508118,
          8.543653477557104,
          6.452764150491069
         ],
         "yaxis": "y16"
        },
        {
         "marker": {
          "color": "black",
          "opacity": 0.5,
          "size": 6
         },
         "mode": "markers",
         "showlegend": false,
         "type": "scatter",
         "x": [
          "healthy_left_B_run",
          "healthy_left_B_run",
          "healthy_left_B_run",
          "healthy_left_B_run",
          "healthy_left_B_run",
          "healthy_left_B_run",
          "healthy_left_B_run",
          "healthy_left_B_run",
          "healthy_left_B_run",
          "healthy_left_B_run"
         ],
         "xaxis": "x16",
         "y": {
          "bdata": "GcYE2O5BE0CgiZ3YSYMbQNFw+ZbvWPI/yUOGe9WIF0DXqqqqqsz0v1TSIA2S5AJAmBM7sVPmGUA/gzRI83UQQIg/93OP8xlAzlFwWrz2EUA=",
          "dtype": "f8"
         },
         "yaxis": "y16"
        },
        {
         "marker": {
          "color": "black",
          "opacity": 0.5,
          "size": 6
         },
         "mode": "markers",
         "showlegend": false,
         "type": "scatter",
         "x": [
          "sick_left_C_run",
          "sick_left_C_run",
          "sick_left_C_run",
          "sick_left_C_run",
          "sick_left_C_run",
          "sick_left_C_run",
          "sick_left_C_run",
          "sick_left_C_run",
          "sick_left_C_run",
          "sick_left_C_run"
         ],
         "xaxis": "x16",
         "y": {
          "bdata": "aqiHejjOJED9i8AIzA0hQCdgBEbgAB5ABqg+01ZTDkC92ImdoK8jQPLpWHd42ChAbPdi9JS3IUBw7MROPHokQHAndmLHLCBA1dqszQoPF0A=",
          "dtype": "f8"
         },
         "yaxis": "y16"
        },
        {
         "marker": {
          "color": "black",
          "opacity": 0.5,
          "size": 6
         },
         "mode": "markers",
         "showlegend": false,
         "type": "scatter",
         "x": [
          "sick_left_E_run",
          "sick_left_E_run",
          "sick_left_E_run",
          "sick_left_E_run",
          "sick_left_E_run",
          "sick_left_E_run",
          "sick_left_E_run",
          "sick_left_E_run",
          "sick_left_E_run",
          "sick_left_E_run"
         ],
         "xaxis": "x16",
         "y": {
          "bdata": "DcVO7MRBDkDeAR7gwbQYQP8Y7lVwwBlACLRAC/TWIkB/+qVfWuweQNJO7MQeohxA9lu+5QOrGkDzNf5uHgkbQMcqETqXKRJAqX7plx5sF0A=",
          "dtype": "f8"
         },
         "yaxis": "y16"
        },
        {
         "error_y": {
          "array": [
           0.23879882299155797,
           0.3555175472637415,
           0.20565747599268078
          ],
          "type": "data",
          "visible": true
         },
         "marker": {
          "color": [
           "#636EFA",
           "#EF553B",
           "#00CC96"
          ],
          "line": {
           "color": "black",
           "width": 1
          }
         },
         "name": "Mean step acceleration Y during stance - ankle (m/s^2)",
         "type": "bar",
         "x": [
          "healthy_left_B_run",
          "sick_left_C_run",
          "sick_left_E_run"
         ],
         "xaxis": "x17",
         "y": [
          0.623707977306551,
          1.0185063720185759,
          0.8440406810001313
         ],
         "yaxis": "y17"
        },
        {
         "marker": {
          "color": "black",
          "opacity": 0.5,
          "size": 6
         },
         "mode": "markers",
         "showlegend": false,
         "type": "scatter",
         "x": [
          "healthy_left_B_run",
          "healthy_left_B_run",
          "healthy_left_B_run",
          "healthy_left_B_run",
          "healthy_left_B_run",
          "healthy_left_B_run",
          "healthy_left_B_run",
          "healthy_left_B_run",
          "healthy_left_B_run",
          "healthy_left_B_run"
         ],
         "xaxis": "x17",
         "y": {
          "bdata": "MIuYGaSR3j995nUq3ZzmPw7PLOg3eNQ/wj4dmnq+4T8hJ6WFjUfmP2s/SPu1Q9I/M5kLLAwp8T9/8ygmZSXhP/2hkgqUw+g/rJ9pgGgR6j8=",
          "dtype": "f8"
         },
         "yaxis": "y17"
        },
        {
         "marker": {
          "color": "black",
          "opacity": 0.5,
          "size": 6
         },
         "mode": "markers",
         "showlegend": false,
         "type": "scatter",
         "x": [
          "sick_left_C_run",
          "sick_left_C_run",
          "sick_left_C_run",
          "sick_left_C_run",
          "sick_left_C_run",
          "sick_left_C_run",
          "sick_left_C_run",
          "sick_left_C_run",
          "sick_left_C_run",
          "sick_left_C_run"
         ],
         "xaxis": "x17",
         "y": {
          "bdata": "W9XQzxvj9D8X6nKzY4jrP8Q+DhdsUPg/zoDWjgjz3T9D/RiQyufvP4dz9GQ6y/c/LBcljs1Q5T8W/kMGOKbwP08cqWglg/I/R3SeMUvh5T8=",
          "dtype": "f8"
         },
         "yaxis": "y17"
        },
        {
         "marker": {
          "color": "black",
          "opacity": 0.5,
          "size": 6
         },
         "mode": "markers",
         "showlegend": false,
         "type": "scatter",
         "x": [
          "sick_left_E_run",
          "sick_left_E_run",
          "sick_left_E_run",
          "sick_left_E_run",
          "sick_left_E_run",
          "sick_left_E_run",
          "sick_left_E_run",
          "sick_left_E_run",
          "sick_left_E_run",
          "sick_left_E_run"
         ],
         "xaxis": "x17",
         "y": {
          "bdata": "sw2yd2jS8D/uSmQ4XlHyP6PRKjWtMOo/Uh3ZKKPT5z+RfbU0qCXjP0NHV4Kl+fA/Segaeg/e5z/MFSdT7BnwP885CsTXBeY/x4u0KT+b4j8=",
          "dtype": "f8"
         },
         "yaxis": "y17"
        },
        {
         "error_y": {
          "array": [
           0.15078274612609008,
           0.03145405242773627,
           0.12952022136349592
          ],
          "type": "data",
          "visible": true
         },
         "marker": {
          "color": [
           "#636EFA",
           "#EF553B",
           "#00CC96"
          ],
          "line": {
           "color": "black",
           "width": 1
          }
         },
         "name": "Mean step acceleration Y during stance - spine 1 std",
         "type": "bar",
         "x": [
          "healthy_left_B_run",
          "sick_left_C_run",
          "sick_left_E_run"
         ],
         "xaxis": "x18",
         "y": [
          0.21873297913065856,
          0.1331206616316574,
          0.1447043913430693
         ],
         "yaxis": "y18"
        },
        {
         "marker": {
          "color": "black",
          "opacity": 0.5,
          "size": 6
         },
         "mode": "markers",
         "showlegend": false,
         "type": "scatter",
         "x": [
          "healthy_left_B_run",
          "healthy_left_B_run",
          "healthy_left_B_run",
          "healthy_left_B_run",
          "healthy_left_B_run",
          "healthy_left_B_run",
          "healthy_left_B_run",
          "healthy_left_B_run",
          "healthy_left_B_run",
          "healthy_left_B_run"
         ],
         "xaxis": "x18",
         "y": {
          "bdata": "yiGmy4cG0z/Xlk6Crd66P/y4Wm/ehak/YkBCqRO5vD+asQUvBIvZP9vnFmbJ7tA/yPllFgERwD9w3Sa0n7DgP5Zc+gNjcr4/ewp607e/yD8=",
          "dtype": "f8"
         },
         "yaxis": "y18"
        },
        {
         "marker": {
          "color": "black",
          "opacity": 0.5,
          "size": 6
         },
         "mode": "markers",
         "showlegend": false,
         "type": "scatter",
         "x": [
          "sick_left_C_run",
          "sick_left_C_run",
          "sick_left_C_run",
          "sick_left_C_run",
          "sick_left_C_run",
          "sick_left_C_run",
          "sick_left_C_run",
          "sick_left_C_run",
          "sick_left_C_run",
          "sick_left_C_run"
         ],
         "xaxis": "x18",
         "y": {
          "bdata": "Fc26HlaHvz+MP5qZyDS9P/kqd2HCi7E/2G6Om5tDwj8FdcUzykvDP9ZAPDD7M8Q/UhYPscnDvT/G57cCnj/GP7D1lzIkQ8U/kxixvAMyvj8=",
          "dtype": "f8"
         },
         "yaxis": "y18"
        },
        {
         "marker": {
          "color": "black",
          "opacity": 0.5,
          "size": 6
         },
         "mode": "markers",
         "showlegend": false,
         "type": "scatter",
         "x": [
          "sick_left_E_run",
          "sick_left_E_run",
          "sick_left_E_run",
          "sick_left_E_run",
          "sick_left_E_run",
          "sick_left_E_run",
          "sick_left_E_run",
          "sick_left_E_run",
          "sick_left_E_run",
          "sick_left_E_run"
         ],
         "xaxis": "x18",
         "y": {
          "bdata": "AQiGGHS/3j/C1c2Qm2mQP2ik8c3eKLc/1dKS2CD3sj8k+ckYL5TFPwE8v3JjMKY/jOpYVDwcwz8d4cvIWhe5P4Y7qfJVZ8Q/TN+9DhltxT8=",
          "dtype": "f8"
         },
         "yaxis": "y18"
        },
        {
         "error_y": {
          "array": [
           0.10085230315871824,
           0.04354007063314377,
           0.08932259101530658
          ],
          "type": "data",
          "visible": true
         },
         "marker": {
          "color": [
           "#636EFA",
           "#EF553B",
           "#00CC96"
          ],
          "line": {
           "color": "black",
           "width": 1
          }
         },
         "name": "Mean step acceleration Y during swing - hip std",
         "type": "bar",
         "x": [
          "healthy_left_B_run",
          "sick_left_C_run",
          "sick_left_E_run"
         ],
         "xaxis": "x19",
         "y": [
          0.19591253672432973,
          0.12370054162328639,
          0.1755196199478223
         ],
         "yaxis": "y19"
        },
        {
         "marker": {
          "color": "black",
          "opacity": 0.5,
          "size": 6
         },
         "mode": "markers",
         "showlegend": false,
         "type": "scatter",
         "x": [
          "healthy_left_B_run",
          "healthy_left_B_run",
          "healthy_left_B_run",
          "healthy_left_B_run",
          "healthy_left_B_run",
          "healthy_left_B_run",
          "healthy_left_B_run",
          "healthy_left_B_run",
          "healthy_left_B_run",
          "healthy_left_B_run"
         ],
         "xaxis": "x19",
         "y": {
          "bdata": "hAylJOzLwD/BXFiIx7bRP0QMv8STfbY/fqGO7GV+pz+yAhk5tbjTP4c1JNkK3bo/4cKxuetryj8wzEEdChPSP8MFM7GwtMc/yADC0Q8j1T8=",
          "dtype": "f8"
         },
         "yaxis": "y19"
        },
        {
         "marker": {
          "color": "black",
          "opacity": 0.5,
          "size": 6
         },
         "mode": "markers",
         "showlegend": false,
         "type": "scatter",
         "x": [
          "sick_left_C_run",
          "sick_left_C_run",
          "sick_left_C_run",
          "sick_left_C_run",
          "sick_left_C_run",
          "sick_left_C_run",
          "sick_left_C_run",
          "sick_left_C_run",
          "sick_left_C_run",
          "sick_left_C_run"
         ],
         "xaxis": "x19",
         "y": {
          "bdata": "xid5ecmwuD/JJ4cssd6zP/RopRM6PLg/PStIAxu8tD8xwVHpGBW9P9byMZUNpMI/ywrW7SOwxT9xGR3/ZtPLP5roaoc5H8A/aUhSVtaBvT8=",
          "dtype": "f8"
         },
         "yaxis": "y19"
        },
        {
         "marker": {
          "color": "black",
          "opacity": 0.5,
          "size": 6
         },
         "mode": "markers",
         "showlegend": false,
         "type": "scatter",
         "x": [
          "sick_left_E_run",
          "sick_left_E_run",
          "sick_left_E_run",
          "sick_left_E_run",
          "sick_left_E_run",
          "sick_left_E_run",
          "sick_left_E_run",
          "sick_left_E_run",
          "sick_left_E_run",
          "sick_left_E_run"
         ],
         "xaxis": "x19",
         "y": {
          "bdata": "wvL5WcpExT83SeuUrXjRP3U0SjawQ74/LY1l4o/o1j+q/KtiUKTFP2n8gcTYe7E/i4KbdvK/yj+qGF35/GW2P8KIAiKYY7s/gz5wtC16yT8=",
          "dtype": "f8"
         },
         "yaxis": "y19"
        },
        {
         "error_y": {
          "array": [
           0.1388868116657816,
           0.07100532241528408,
           0.10510973488756928
          ],
          "type": "data",
          "visible": true
         },
         "marker": {
          "color": [
           "#636EFA",
           "#EF553B",
           "#00CC96"
          ],
          "line": {
           "color": "black",
           "width": 1
          }
         },
         "name": "Mean step acceleration Y during swing - spine 4 std",
         "type": "bar",
         "x": [
          "healthy_left_B_run",
          "sick_left_C_run",
          "sick_left_E_run"
         ],
         "xaxis": "x20",
         "y": [
          0.18700162037329807,
          0.15246525792949356,
          0.21768078182513145
         ],
         "yaxis": "y20"
        },
        {
         "marker": {
          "color": "black",
          "opacity": 0.5,
          "size": 6
         },
         "mode": "markers",
         "showlegend": false,
         "type": "scatter",
         "x": [
          "healthy_left_B_run",
          "healthy_left_B_run",
          "healthy_left_B_run",
          "healthy_left_B_run",
          "healthy_left_B_run",
          "healthy_left_B_run",
          "healthy_left_B_run",
          "healthy_left_B_run",
          "healthy_left_B_run",
          "healthy_left_B_run"
         ],
         "xaxis": "x20",
         "y": {
          "bdata": "oCyZwJ9Iwj8wl8bNQ3zTPwxfwCC9X7c/qPCZOJ92lj9BQv6W5ZbWP2mf7B6CsKg/2h4EmM0h2D+xr8TnfKjTP5zo3uqgUaA/0CxoH+6ZyD8=",
          "dtype": "f8"
         },
         "yaxis": "y20"
        },
        {
         "marker": {
          "color": "black",
          "opacity": 0.5,
          "size": 6
         },
         "mode": "markers",
         "showlegend": false,
         "type": "scatter",
         "x": [
          "sick_left_C_run",
          "sick_left_C_run",
          "sick_left_C_run",
          "sick_left_C_run",
          "sick_left_C_run",
          "sick_left_C_run",
          "sick_left_C_run",
          "sick_left_C_run",
          "sick_left_C_run",
          "sick_left_C_run"
         ],
         "xaxis": "x20",
         "y": {
          "bdata": "tszEE8j4zT+810p/20u1P3ndnr4Y0b4/LsCotKxHxj/UIh6YFSbLPwRj7MmOHqY/qBAG5Vkw0D+6H7vIJSrJP5XyVKbt/rw/zbj6dbBBuD8=",
          "dtype": "f8"
         },
         "yaxis": "y20"
        },
        {
         "marker": {
          "color": "black",
          "opacity": 0.5,
          "size": 6
         },
         "mode": "markers",
         "showlegend": false,
         "type": "scatter",
         "x": [
          "sick_left_E_run",
          "sick_left_E_run",
          "sick_left_E_run",
          "sick_left_E_run",
          "sick_left_E_run",
          "sick_left_E_run",
          "sick_left_E_run",
          "sick_left_E_run",
          "sick_left_E_run",
          "sick_left_E_run"
         ],
         "xaxis": "x20",
         "y": {
          "bdata": "RTNwbdZMyj+ATt4+kxfaPymUskhKH8Q//dy4kkAN1D9LlSSFGZjSP62MtkB25rQ/RGyV9MX9xz+mrD9YKfrQP8zLWmLtw7A/iMhQoF30yT8=",
          "dtype": "f8"
         },
         "yaxis": "y20"
        },
        {
         "error_y": {
          "array": [
           236.9489386106366,
           314.68745112846256,
           234.51044340655946
          ],
          "type": "data",
          "visible": true
         },
         "marker": {
          "color": [
           "#636EFA",
           "#EF553B",
           "#00CC96"
          ],
          "line": {
           "color": "black",
           "width": 1
          }
         },
         "name": "Mean step jerk X at swing - ankle (m/s^3)",
         "type": "bar",
         "x": [
          "healthy_left_B_run",
          "sick_left_C_run",
          "sick_left_E_run"
         ],
         "xaxis": "x21",
         "y": [
          525.9229432298456,
          131.84732905172368,
          190.14389498779525
         ],
         "yaxis": "y21"
        },
        {
         "marker": {
          "color": "black",
          "opacity": 0.5,
          "size": 6
         },
         "mode": "markers",
         "showlegend": false,
         "type": "scatter",
         "x": [
          "healthy_left_B_run",
          "healthy_left_B_run",
          "healthy_left_B_run",
          "healthy_left_B_run",
          "healthy_left_B_run",
          "healthy_left_B_run",
          "healthy_left_B_run",
          "healthy_left_B_run",
          "healthy_left_B_run",
          "healthy_left_B_run"
         ],
         "xaxis": "x21",
         "y": {
          "bdata": "2gdEhplqekA6aZAGTqB3QIV2YiegVXBARZ6zfxC9g0BDVVXV0v6KQK63fCt2wX5A4rATO19JekCk7uf+1RSOQD9RD/WmzoFAQvFrFI4JcEA=",
          "dtype": "f8"
         },
         "yaxis": "y21"
        },
        {
         "marker": {
          "color": "black",
          "opacity": 0.5,
          "size": 6
         },
         "mode": "markers",
         "showlegend": false,
         "type": "scatter",
         "x": [
          "sick_left_C_run",
          "sick_left_C_run",
          "sick_left_C_run",
          "sick_left_C_run",
          "sick_left_C_run",
          "sick_left_C_run",
          "sick_left_C_run",
          "sick_left_C_run",
          "sick_left_C_run",
          "sick_left_C_run"
         ],
         "xaxis": "x21",
         "y": {
          "bdata": "o2ZtVgSye0BRRGAERjBKQAYjUzKtim7AFclLpRffYMCE8S1ff21QQODVjOQltVnAjx6nDzMrPMAaGsIheM9VQHYTO7EdWHlAQzRIg4Q2iEA=",
          "dtype": "f8"
         },
         "yaxis": "y21"
        },
        {
         "marker": {
          "color": "black",
          "opacity": 0.5,
          "size": 6
         },
         "mode": "markers",
         "showlegend": false,
         "type": "scatter",
         "x": [
          "sick_left_E_run",
          "sick_left_E_run",
          "sick_left_E_run",
          "sick_left_E_run",
          "sick_left_E_run",
          "sick_left_E_run",
          "sick_left_E_run",
          "sick_left_E_run",
          "sick_left_E_run",
          "sick_left_E_run"
         ],
         "xaxis": "x21",
         "y": {
          "bdata": "udzxk42BakCJh0M4jDRHwDCisDi9GGFA/473eGEFeUDlK8ESEjN6QChXeAXsrnlAGi3f8rorUkCXdNFF6cJ+QO7c8ZMddmjAt3kXd3Ft478=",
          "dtype": "f8"
         },
         "yaxis": "y21"
        },
        {
         "error_y": {
          "array": [
           415.06455867576335,
           217.1359860174089,
           158.15072628822188
          ],
          "type": "data",
          "visible": true
         },
         "marker": {
          "color": [
           "#636EFA",
           "#EF553B",
           "#00CC96"
          ],
          "line": {
           "color": "black",
           "width": 1
          }
         },
         "name": "Mean step jerk Y at stance - lHindfingers (m/s^3)",
         "type": "bar",
         "x": [
          "healthy_left_B_run",
          "sick_left_C_run",
          "sick_left_E_run"
         ],
         "xaxis": "x22",
         "y": [
          362.69703669178693,
          -330.57622782576067,
          -231.04495055501258
         ],
         "yaxis": "y22"
        },
        {
         "marker": {
          "color": "black",
          "opacity": 0.5,
          "size": 6
         },
         "mode": "markers",
         "showlegend": false,
         "type": "scatter",
         "x": [
          "healthy_left_B_run",
          "healthy_left_B_run",
          "healthy_left_B_run",
          "healthy_left_B_run",
          "healthy_left_B_run",
          "healthy_left_B_run",
          "healthy_left_B_run",
          "healthy_left_B_run",
          "healthy_left_B_run",
          "healthy_left_B_run"
         ],
         "xaxis": "x22",
         "y": {
          "bdata": "fxdddKkIZ8AWip3YaVJVQOb///9XXnJA4mFMgLW7cUBgYif2imSRQNjYiZ1Mo25AbezETlnoikD47ud+fjlcQJATXuG9y0NANGgvoWtEiEA=",
          "dtype": "f8"
         },
         "yaxis": "y22"
        },
        {
         "marker": {
          "color": "black",
          "opacity": 0.5,
          "size": 6
         },
         "mode": "markers",
         "showlegend": false,
         "type": "scatter",
         "x": [
          "sick_left_C_run",
          "sick_left_C_run",
          "sick_left_C_run",
          "sick_left_C_run",
          "sick_left_C_run",
          "sick_left_C_run",
          "sick_left_C_run",
          "sick_left_C_run",
          "sick_left_C_run",
          "sick_left_C_run"
         ],
         "xaxis": "x22",
         "y": {
          "bdata": "PWmzNrMQScBr+7mfvx1/wNpPro/ZjnPAusgE2G4iPMBYVVW16SuAwPR0rDs89IDAVh+mdclVdMAR1D7tKhGEwF6xEzs//3DAOW7WZsVOXcA=",
          "dtype": "f8"
         },
         "yaxis": "y22"
        },
        {
         "marker": {
          "color": "black",
          "opacity": 0.5,
          "size": 6
         },
         "mode": "markers",
         "showlegend": false,
         "type": "scatter",
         "x": [
          "sick_left_E_run",
          "sick_left_E_run",
          "sick_left_E_run",
          "sick_left_E_run",
          "sick_left_E_run",
          "sick_left_E_run",
          "sick_left_E_run",
          "sick_left_E_run",
          "sick_left_E_run",
          "sick_left_E_run"
         ],
         "xaxis": "x22",
         "y": {
          "bdata": "FHnRU+5KHsD7/NIvLeRpwFLX07FmcHjAwFqv9VoGfsAw6Zd+x5F6wN37uZ/TGHDA2AzSoIEoYsDcc/ZPonhrwB8rETonwFjApa8TO9lnU8A=",
          "dtype": "f8"
         },
         "yaxis": "y22"
        },
        {
         "error_y": {
          "array": [
           0.01208277020430677,
           0.004759610750077914,
           0.013626371428732294
          ],
          "type": "data",
          "visible": true
         },
         "marker": {
          "color": [
           "#636EFA",
           "#EF553B",
           "#00CC96"
          ],
          "line": {
           "color": "black",
           "width": 1
          }
         },
         "name": "Mean step velocity X at peak - lForepaw std",
         "type": "bar",
         "x": [
          "healthy_left_B_run",
          "sick_left_C_run",
          "sick_left_E_run"
         ],
         "xaxis": "x23",
         "y": [
          0.01859158187289043,
          0.01255059098213108,
          0.018100369939030934
         ],
         "yaxis": "y23"
        },
        {
         "marker": {
          "color": "black",
          "opacity": 0.5,
          "size": 6
         },
         "mode": "markers",
         "showlegend": false,
         "type": "scatter",
         "x": [
          "healthy_left_B_run",
          "healthy_left_B_run",
          "healthy_left_B_run",
          "healthy_left_B_run",
          "healthy_left_B_run",
          "healthy_left_B_run",
          "healthy_left_B_run",
          "healthy_left_B_run",
          "healthy_left_B_run",
          "healthy_left_B_run"
         ],
         "xaxis": "x23",
         "y": {
          "bdata": "uiOD0PCBlT+oYFKBJPOiP6J6zP6yU4c/PKFAki97eT8fxPa6rtF+PzIqZBZPnJk/f9BhqZbocT9MWP63tLOhP+mDPFW0hoY/9ybMIzR6nD8=",
          "dtype": "f8"
         },
         "yaxis": "y23"
        },
        {
         "marker": {
          "color": "black",
          "opacity": 0.5,
          "size": 6
         },
         "mode": "markers",
         "showlegend": false,
         "type": "scatter",
         "x": [
          "sick_left_C_run",
          "sick_left_C_run",
          "sick_left_C_run",
          "sick_left_C_run",
          "sick_left_C_run",
          "sick_left_C_run",
          "sick_left_C_run",
          "sick_left_C_run",
          "sick_left_C_run",
          "sick_left_C_run"
         ],
         "xaxis": "x23",
         "y": {
          "bdata": "i/Pydeofkz97oUXsJjqDP23TggokgpI/VJWqtK46kD/PTSyNgLKLP+CuHZcZWHo/kyyMeGREkj/8V/zfXTuDPz8+HHrQHIA/fqqmFhhWgT8=",
          "dtype": "f8"
         },
         "yaxis": "y23"
        },
        {
         "marker": {
          "color": "black",
          "opacity": 0.5,
          "size": 6
         },
         "mode": "markers",
         "showlegend": false,
         "type": "scatter",
         "x": [
          "sick_left_E_run",
          "sick_left_E_run",
          "sick_left_E_run",
          "sick_left_E_run",
          "sick_left_E_run",
          "sick_left_E_run",
          "sick_left_E_run",
          "sick_left_E_run",
          "sick_left_E_run",
          "sick_left_E_run"
         ],
         "xaxis": "x23",
         "y": {
          "bdata": "/sXNA6VPlD9sQbMNX7iNP0xwM6/9nIk/p8b3/Eduiz9tVWoj6imCP+j9gJxhypQ/p7DP+2Sbgj8fk8yPlMqrP1Mntgq2X34/XcQ2dnFNlT8=",
          "dtype": "f8"
         },
         "yaxis": "y23"
        },
        {
         "error_y": {
          "array": [
           0.08748166087096429,
           0.03887382229302217,
           0.05489072540737891
          ],
          "type": "data",
          "visible": true
         },
         "marker": {
          "color": [
           "#636EFA",
           "#EF553B",
           "#00CC96"
          ],
          "line": {
           "color": "black",
           "width": 1
          }
         },
         "name": "Mean step velocity X at touchdown - lHindpaw (m/s)",
         "type": "bar",
         "x": [
          "healthy_left_B_run",
          "sick_left_C_run",
          "sick_left_E_run"
         ],
         "xaxis": "x24",
         "y": [
          0.15126273990721,
          0.06892408425317507,
          0.08318859859424746
         ],
         "yaxis": "y24"
        },
        {
         "marker": {
          "color": "black",
          "opacity": 0.5,
          "size": 6
         },
         "mode": "markers",
         "showlegend": false,
         "type": "scatter",
         "x": [
          "healthy_left_B_run",
          "healthy_left_B_run",
          "healthy_left_B_run",
          "healthy_left_B_run",
          "healthy_left_B_run",
          "healthy_left_B_run",
          "healthy_left_B_run",
          "healthy_left_B_run",
          "healthy_left_B_run",
          "healthy_left_B_run"
         ],
         "xaxis": "x24",
         "y": {
          "bdata": "iV2R/ouftj8gyV65YgDEP8GpZjdD7rU/fuJWKG7NwT8127M9WyLWP52N3MiNRqM/6bBCXhcPzz/NcA7ncG6+PwwRERERncE/Tqja/1KPxD8=",
          "dtype": "f8"
         },
         "yaxis": "y24"
        },
        {
         "marker": {
          "color": "black",
          "opacity": 0.5,
          "size": 6
         },
         "mode": "markers",
         "showlegend": false,
         "type": "scatter",
         "x": [
          "sick_left_C_run",
          "sick_left_C_run",
          "sick_left_C_run",
          "sick_left_C_run",
          "sick_left_C_run",
          "sick_left_C_run",
          "sick_left_C_run",
          "sick_left_C_run",
          "sick_left_C_run",
          "sick_left_C_run"
         ],
         "xaxis": "x24",
         "y": {
          "bdata": "KxqkQRpAsj8T5SM+4iNWv4AJmqAJurg/D0fNSF7Ovz+FkRu5EcioP5ZuvzzjiKA/E7UpJfCGvz/Cf/7nf46wP2ortVIrO7I/DRzAARwSrj8=",
          "dtype": "f8"
         },
         "yaxis": "y24"
        },
        {
         "marker": {
          "color": "black",
          "opacity": 0.5,
          "size": 6
         },
         "mode": "markers",
         "showlegend": false,
         "type": "scatter",
         "x": [
          "sick_left_E_run",
          "sick_left_E_run",
          "sick_left_E_run",
          "sick_left_E_run",
          "sick_left_E_run",
          "sick_left_E_run",
          "sick_left_E_run",
          "sick_left_E_run",
          "sick_left_E_run",
          "sick_left_E_run"
         ],
         "xaxis": "x24",
         "y": {
          "bdata": "p6/+6q9+uz/eoi/6oumwP4Xb0GohSKE/5FRP9VRHsj9rZ3iGZ3KxP0WjMzqjibA/jnM4h3OAzD80JO1dDTCfP5DxxoJnsbo/l2VapmUosD8=",
          "dtype": "f8"
         },
         "yaxis": "y24"
        },
        {
         "error_y": {
          "array": [
           0.010408919775450965,
           0.006676885592443129,
           0.00454664783736125
          ],
          "type": "data",
          "visible": true
         },
         "marker": {
          "color": [
           "#636EFA",
           "#EF553B",
           "#00CC96"
          ],
          "line": {
           "color": "black",
           "width": 1
          }
         },
         "name": "Mean step velocity X during stance - lHindfingers (m/s)",
         "type": "bar",
         "x": [
          "healthy_left_B_run",
          "sick_left_C_run",
          "sick_left_E_run"
         ],
         "xaxis": "x25",
         "y": [
          0.02925645003002588,
          0.009761771212497442,
          0.010607236987342181
         ],
         "yaxis": "y25"
        },
        {
         "marker": {
          "color": "black",
          "opacity": 0.5,
          "size": 6
         },
         "mode": "markers",
         "showlegend": false,
         "type": "scatter",
         "x": [
          "healthy_left_B_run",
          "healthy_left_B_run",
          "healthy_left_B_run",
          "healthy_left_B_run",
          "healthy_left_B_run",
          "healthy_left_B_run",
          "healthy_left_B_run",
          "healthy_left_B_run",
          "healthy_left_B_run",
          "healthy_left_B_run"
         ],
         "xaxis": "x25",
         "y": {
          "bdata": "UmvGOUbekD9kEwbAZz+jPxAz3omTspM/XIxe8JSUnT+Xbn3vKw+hP7gf8Jx/ZZA/YIxwi9NKpz/fthjI4wGfP4UaNdo/Mpg/1ZvwbBNSpT8=",
          "dtype": "f8"
         },
         "yaxis": "y25"
        },
        {
         "marker": {
          "color": "black",
          "opacity": 0.5,
          "size": 6
         },
         "mode": "markers",
         "showlegend": false,
         "type": "scatter",
         "x": [
          "sick_left_C_run",
          "sick_left_C_run",
          "sick_left_C_run",
          "sick_left_C_run",
          "sick_left_C_run",
          "sick_left_C_run",
          "sick_left_C_run",
          "sick_left_C_run",
          "sick_left_C_run",
          "sick_left_C_run"
         ],
         "xaxis": "x25",
         "y": {
          "bdata": "QsJJt1cHWT/UDrRcIgd5PxtPJ1++fo0/YrW9bjkFdj/EAt90KdB9P9xYJRkkBoQ/llq+XLAJlT9lG98eiN5TP1qJ5WEQuZI/f3Yw+GjWij8=",
          "dtype": "f8"
         },
         "yaxis": "y25"
        },
        {
         "marker": {
          "color": "black",
          "opacity": 0.5,
          "size": 6
         },
         "mode": "markers",
         "showlegend": false,
         "type": "scatter",
         "x": [
          "sick_left_E_run",
          "sick_left_E_run",
          "sick_left_E_run",
          "sick_left_E_run",
          "sick_left_E_run",
          "sick_left_E_run",
          "sick_left_E_run",
          "sick_left_E_run",
          "sick_left_E_run",
          "sick_left_E_run"
         ],
         "xaxis": "x25",
         "y": {
          "bdata": "+iC4uXjxiz9DGgJNxfKEP5TbjC4jA4Y/R5wGNZLJiT+mJrCzLAN+P5HN4fX5Rns/Wx1c95IAiz92zFHGIQNyP1zkB4HjjH0/eoRmEe6OlD8=",
          "dtype": "f8"
         },
         "yaxis": "y25"
        },
        {
         "error_y": {
          "array": [
           0.02719649803475782,
           0.025904225213221107,
           0.014621513265948629
          ],
          "type": "data",
          "visible": true
         },
         "marker": {
          "color": [
           "#636EFA",
           "#EF553B",
           "#00CC96"
          ],
          "line": {
           "color": "black",
           "width": 1
          }
         },
         "name": "Mean step velocity Y at peak - lHindfingers (m/s)",
         "type": "bar",
         "x": [
          "healthy_left_B_run",
          "sick_left_C_run",
          "sick_left_E_run"
         ],
         "xaxis": "x26",
         "y": [
          0.07941241252734167,
          -0.0030904798221141104,
          -0.00236895554516633
         ],
         "yaxis": "y26"
        },
        {
         "marker": {
          "color": "black",
          "opacity": 0.5,
          "size": 6
         },
         "mode": "markers",
         "showlegend": false,
         "type": "scatter",
         "x": [
          "healthy_left_B_run",
          "healthy_left_B_run",
          "healthy_left_B_run",
          "healthy_left_B_run",
          "healthy_left_B_run",
          "healthy_left_B_run",
          "healthy_left_B_run",
          "healthy_left_B_run",
          "healthy_left_B_run",
          "healthy_left_B_run"
         ],
         "xaxis": "x26",
         "y": {
          "bdata": "ZYY53vrCpz/Ol+KPZN26PwQJwlNvVLA/1A9bJSf4sT/0kjAJk4S2P5xaqZVadrA/zKNwPQoLwT9OjMd4jJ2rPwi90Au9c7o/2WT3ILrssD8=",
          "dtype": "f8"
         },
         "yaxis": "y26"
        },
        {
         "marker": {
          "color": "black",
          "opacity": 0.5,
          "size": 6
         },
         "mode": "markers",
         "showlegend": false,
         "type": "scatter",
         "x": [
          "sick_left_C_run",
          "sick_left_C_run",
          "sick_left_C_run",
          "sick_left_C_run",
          "sick_left_C_run",
          "sick_left_C_run",
          "sick_left_C_run",
          "sick_left_C_run",
          "sick_left_C_run",
          "sick_left_C_run"
         ],
         "xaxis": "x26",
         "y": {
          "bdata": "JSVTMiU/nb/H93qv9xKkvzLJzMzMzEy/BlOnRrALkL9Ka7qma6Z2v/FMW+Pvjq0/NyAhiORvaj+qJ6MyKqNCPzNwbC092YS/trNLu7Qbfz8=",
          "dtype": "f8"
         },
         "yaxis": "y26"
        },
        {
         "marker": {
          "color": "black",
          "opacity": 0.5,
          "size": 6
         },
         "mode": "markers",
         "showlegend": false,
         "type": "scatter",
         "x": [
          "sick_left_E_run",
          "sick_left_E_run",
          "sick_left_E_run",
          "sick_left_E_run",
          "sick_left_E_run",
          "sick_left_E_run",
          "sick_left_E_run",
          "sick_left_E_run",
          "sick_left_E_run",
          "sick_left_E_run"
         ],
         "xaxis": "x26",
         "y": {
          "bdata": "fQQ1FaLNlb/IGZiBGbh/v/8pvS9wVHG/l2qu5mqugT/OIRzCIbx5PxkGYiAGwnm/AY7cyI2ynz/uEjuxEzt7v7WgnGdScI6/L1VVVVVlgb8=",
          "dtype": "f8"
         },
         "yaxis": "y26"
        },
        {
         "error_y": {
          "array": [
           0.02308192039309846,
           0.02638246101644288,
           0.017939478881270655
          ],
          "type": "data",
          "visible": true
         },
         "marker": {
          "color": [
           "#636EFA",
           "#EF553B",
           "#00CC96"
          ],
          "line": {
           "color": "black",
           "width": 1
          }
         },
         "name": "Mean step velocity Y at peak - lHindpaw (m/s)",
         "type": "bar",
         "x": [
          "healthy_left_B_run",
          "sick_left_C_run",
          "sick_left_E_run"
         ],
         "xaxis": "x27",
         "y": [
          0.04181615314221812,
          -0.023963926855557722,
          -0.021173708848034645
         ],
         "yaxis": "y27"
        },
        {
         "marker": {
          "color": "black",
          "opacity": 0.5,
          "size": 6
         },
         "mode": "markers",
         "showlegend": false,
         "type": "scatter",
         "x": [
          "healthy_left_B_run",
          "healthy_left_B_run",
          "healthy_left_B_run",
          "healthy_left_B_run",
          "healthy_left_B_run",
          "healthy_left_B_run",
          "healthy_left_B_run",
          "healthy_left_B_run",
          "healthy_left_B_run",
          "healthy_left_B_run"
         ],
         "xaxis": "x27",
         "y": {
          "bdata": "2wokEmhYoz+i6FY7gnyoP752BOGpt5g/0hCyrPkUnj+1pLSwcbGJP108xmO81aE/WqsdQXjAtD+t+Z3f+eWUP7/lW77lu7M/juHC2DYwqz8=",
          "dtype": "f8"
         },
         "yaxis": "y27"
        },
        {
         "marker": {
          "color": "black",
          "opacity": 0.5,
          "size": 6
         },
         "mode": "markers",
         "showlegend": false,
         "type": "scatter",
         "x": [
          "sick_left_C_run",
          "sick_left_C_run",
          "sick_left_C_run",
          "sick_left_C_run",
          "sick_left_C_run",
          "sick_left_C_run",
          "sick_left_C_run",
          "sick_left_C_run",
          "sick_left_C_run",
          "sick_left_C_run"
         ],
         "xaxis": "x27",
         "y": {
          "bdata": "F/ADP/Apqr/zPANno6GovzubtVmbxZq//N40ZbCqmr/Mpmu6JlWivx8y3KtgNqM/hlWnYd/kjb+iKIuyKCuTvyACiObOIKm/jSZv8ib/fr8=",
          "dtype": "f8"
         },
         "yaxis": "y27"
        },
        {
         "marker": {
          "color": "black",
          "opacity": 0.5,
          "size": 6
         },
         "mode": "markers",
         "showlegend": false,
         "type": "scatter",
         "x": [
          "sick_left_E_run",
          "sick_left_E_run",
          "sick_left_E_run",
          "sick_left_E_run",
          "sick_left_E_run",
          "sick_left_E_run",
          "sick_left_E_run",
          "sick_left_E_run",
          "sick_left_E_run",
          "sick_left_E_run"
         ],
         "xaxis": "x27",
         "y": {
          "bdata": "i/pZs3Bcor81vdM7vV+kvz+R/otLh5S/14qpmIoRlr9RRVM0RRN0vzOd0RmdRZ2/3aIsyqJ4kj/oQycX/k+Sv/MdkSWUy6W/ZHd3d3cHk78=",
          "dtype": "f8"
         },
         "yaxis": "y27"
        },
        {
         "error_y": {
          "array": [
           0.015573567622230569,
           0.02383512506547842,
           0.01958668265538783
          ],
          "type": "data",
          "visible": true
         },
         "marker": {
          "color": [
           "#636EFA",
           "#EF553B",
           "#00CC96"
          ],
          "line": {
           "color": "black",
           "width": 1
          }
         },
         "name": "Mean step velocity Y at swing - ankle (m/s)",
         "type": "bar",
         "x": [
          "healthy_left_B_run",
          "sick_left_C_run",
          "sick_left_E_run"
         ],
         "xaxis": "x28",
         "y": [
          0.04512536025917981,
          0.10646052165064965,
          0.10024490956155059
         ],
         "yaxis": "y28"
        },
        {
         "marker": {
          "color": "black",
          "opacity": 0.5,
          "size": 6
         },
         "mode": "markers",
         "showlegend": false,
         "type": "scatter",
         "x": [
          "healthy_left_B_run",
          "healthy_left_B_run",
          "healthy_left_B_run",
          "healthy_left_B_run",
          "healthy_left_B_run",
          "healthy_left_B_run",
          "healthy_left_B_run",
          "healthy_left_B_run",
          "healthy_left_B_run",
          "healthy_left_B_run"
         ],
         "xaxis": "x28",
         "y": {
          "bdata": "lKya8CB0rT+Gtmd7toOrP1jkpLSwYY4/iIeQZc3fpT/qeF2kErepPxr4gR/4Q5Q/BUo6Pn1Vqz/Hgi3YguOmP+frvd7rHa4/l6qqqqpqrD8=",
          "dtype": "f8"
         },
         "yaxis": "y28"
        },
        {
         "marker": {
          "color": "black",
          "opacity": 0.5,
          "size": 6
         },
         "mode": "markers",
         "showlegend": false,
         "type": "scatter",
         "x": [
          "sick_left_C_run",
          "sick_left_C_run",
          "sick_left_C_run",
          "sick_left_C_run",
          "sick_left_C_run",
          "sick_left_C_run",
          "sick_left_C_run",
          "sick_left_C_run",
          "sick_left_C_run",
          "sick_left_C_run"
         ],
         "xaxis": "x28",
         "y": {
          "bdata": "GauxGisDwj/Lr2OhfLC9P2Kkmw9PVMA/65i+oyQdrz8QUAEVkDe8P1m8lrEwOsA/AHsST2eztj+QG7mRG6m5Pz1YUNLxKbw/Po7jOI5ptT8=",
          "dtype": "f8"
         },
         "yaxis": "y28"
        },
        {
         "marker": {
          "color": "black",
          "opacity": 0.5,
          "size": 6
         },
         "mode": "markers",
         "showlegend": false,
         "type": "scatter",
         "x": [
          "sick_left_E_run",
          "sick_left_E_run",
          "sick_left_E_run",
          "sick_left_E_run",
          "sick_left_E_run",
          "sick_left_E_run",
          "sick_left_E_run",
          "sick_left_E_run",
          "sick_left_E_run",
          "sick_left_E_run"
         ],
         "xaxis": "x28",
         "y": {
          "bdata": "Wf/g1Jy5vz/TfuzHfoy/P2R8roo2D7s/p67pmq5Ftj/xYA/2YHO1P6axGquxW70/EWVRFmUysz89p0awG/S9P/52015jdLk/iomXeImbsj8=",
          "dtype": "f8"
         },
         "yaxis": "y28"
        },
        {
         "error_y": {
          "array": [
           0.006970948032156343,
           0.002797528276457533,
           0.006966082246640063
          ],
          "type": "data",
          "visible": true
         },
         "marker": {
          "color": [
           "#636EFA",
           "#EF553B",
           "#00CC96"
          ],
          "line": {
           "color": "black",
           "width": 1
          }
         },
         "name": "Mean step velocity Y at swing - knee std",
         "type": "bar",
         "x": [
          "healthy_left_B_run",
          "sick_left_C_run",
          "sick_left_E_run"
         ],
         "xaxis": "x29",
         "y": [
          0.019767809518816144,
          0.01254879564352413,
          0.013633705880778568
         ],
         "yaxis": "y29"
        },
        {
         "marker": {
          "color": "black",
          "opacity": 0.5,
          "size": 6
         },
         "mode": "markers",
         "showlegend": false,
         "type": "scatter",
         "x": [
          "healthy_left_B_run",
          "healthy_left_B_run",
          "healthy_left_B_run",
          "healthy_left_B_run",
          "healthy_left_B_run",
          "healthy_left_B_run",
          "healthy_left_B_run",
          "healthy_left_B_run",
          "healthy_left_B_run",
          "healthy_left_B_run"
         ],
         "xaxis": "x29",
         "y": {
          "bdata": "8FT9sUM2lD/R4/8uOsGRP8chLOf6ZZk/PneprHgghT8ate/XEdKeP7CChwPgv5o/+Qh0rWJ2jj9yfC2Nd4ybPxm+/GMSU4U/XMwEWEd7kT8=",
          "dtype": "f8"
         },
         "yaxis": "y29"
        },
        {
         "marker": {
          "color": "black",
          "opacity": 0.5,
          "size": 6
         },
         "mode": "markers",
         "showlegend": false,
         "type": "scatter",
         "x": [
          "sick_left_C_run",
          "sick_left_C_run",
          "sick_left_C_run",
          "sick_left_C_run",
          "sick_left_C_run",
          "sick_left_C_run",
          "sick_left_C_run",
          "sick_left_C_run",
          "sick_left_C_run",
          "sick_left_C_run"
         ],
         "xaxis": "x29",
         "y": {
          "bdata": "qMkVdX+Mhj+d3FSRreSJPwVhtb1EgJE/8C6rONfdjj+RXlkaQleDP1JKsL2ANJA/I97ORbtbij9TBLBTN1uGP7dofh8xLYk/QlU7Xt8LgT8=",
          "dtype": "f8"
         },
         "yaxis": "y29"
        },
        {
         "marker": {
          "color": "black",
          "opacity": 0.5,
          "size": 6
         },
         "mode": "markers",
         "showlegend": false,
         "type": "scatter",
         "x": [
          "sick_left_E_run",
          "sick_left_E_run",
          "sick_left_E_run",
          "sick_left_E_run",
          "sick_left_E_run",
          "sick_left_E_run",
          "sick_left_E_run",
          "sick_left_E_run",
          "sick_left_E_run",
          "sick_left_E_run"
         ],
         "xaxis": "x29",
         "y": {
          "bdata": "UzdFFLXTmD8RbnxxlxqXP0rm0ha7iJQ/w213rbLYjD+sOZYnUYKEP8ScY5FT2ow/mqMFDO3+gT/IuZ+X/56KPy57F23yqns/BkDQMleEZj8=",
          "dtype": "f8"
         },
         "yaxis": "y29"
        },
        {
         "error_y": {
          "array": [
           0.011312598685598509,
           0.004764322604009622,
           0.007338400580468097
          ],
          "type": "data",
          "visible": true
         },
         "marker": {
          "color": [
           "#636EFA",
           "#EF553B",
           "#00CC96"
          ],
          "line": {
           "color": "black",
           "width": 1
          }
         },
         "name": "Mean step velocity Y at touchdown - spine 2 std",
         "type": "bar",
         "x": [
          "healthy_left_B_run",
          "sick_left_C_run",
          "sick_left_E_run"
         ],
         "xaxis": "x30",
         "y": [
          0.02204694432388134,
          0.01192834133824017,
          0.018657455692122772
         ],
         "yaxis": "y30"
        },
        {
         "marker": {
          "color": "black",
          "opacity": 0.5,
          "size": 6
         },
         "mode": "markers",
         "showlegend": false,
         "type": "scatter",
         "x": [
          "healthy_left_B_run",
          "healthy_left_B_run",
          "healthy_left_B_run",
          "healthy_left_B_run",
          "healthy_left_B_run",
          "healthy_left_B_run",
          "healthy_left_B_run",
          "healthy_left_B_run",
          "healthy_left_B_run",
          "healthy_left_B_run"
         ],
         "xaxis": "x30",
         "y": {
          "bdata": "CwRCmZK/oj8SWE7BNVSUP5zLfKN7IoE/YdgYADVHnT+Qae5XiW6iP+aCRZk7DJ4/39IG4wbrdT9N/CRYKfKbP1N6K3wf5YQ/pB4hBCdOkz8=",
          "dtype": "f8"
         },
         "yaxis": "y30"
        },
        {
         "marker": {
          "color": "black",
          "opacity": 0.5,
          "size": 6
         },
         "mode": "markers",
         "showlegend": false,
         "type": "scatter",
         "x": [
          "sick_left_C_run",
          "sick_left_C_run",
          "sick_left_C_run",
          "sick_left_C_run",
          "sick_left_C_run",
          "sick_left_C_run",
          "sick_left_C_run",
          "sick_left_C_run",
          "sick_left_C_run",
          "sick_left_C_run"
         ],
         "xaxis": "x30",
         "y": {
          "bdata": "yVc0UR66gj8/0RW/2HiCP6J5ypQhY44/89GleK1JkD8yCtFXasB5Pw5sA2xtqIA/EGQXtQ8Alj9TamPbMJWCPygxH6ZODYQ/P314oSf2jz8=",
          "dtype": "f8"
         },
         "yaxis": "y30"
        },
        {
         "marker": {
          "color": "black",
          "opacity": 0.5,
          "size": 6
         },
         "mode": "markers",
         "showlegend": false,
         "type": "scatter",
         "x": [
          "sick_left_E_run",
          "sick_left_E_run",
          "sick_left_E_run",
          "sick_left_E_run",
          "sick_left_E_run",
          "sick_left_E_run",
          "sick_left_E_run",
          "sick_left_E_run",
          "sick_left_E_run",
          "sick_left_E_run"
         ],
         "xaxis": "x30",
         "y": {
          "bdata": "2Jm8Q12UlD8tRN+WPG6YP5qCwmvt+pc/5eU+Ya0Qlj+1Kk9NTCWGP1mM8J5TZo4/j3yCgMBHgz97OCvAbuSgP71cSb1zroY/eK7+U2r1kj8=",
          "dtype": "f8"
         },
         "yaxis": "y30"
        }
       ],
       "layout": {
        "annotations": [
         {
          "font": {
           "size": 16
          },
          "showarrow": false,
          "text": "angle at stance lHindfingers (°)",
          "x": 0.10625,
          "xanchor": "center",
          "xref": "paper",
          "y": 1,
          "yanchor": "bottom",
          "yref": "paper"
         },
         {
          "font": {
           "size": 16
          },
          "showarrow": false,
          "text": "angle at touchdown lHindfingers (°)",
          "x": 0.36875,
          "xanchor": "center",
          "xref": "paper",
          "y": 1,
          "yanchor": "bottom",
          "yref": "paper"
         },
         {
          "font": {
           "size": 16
          },
          "showarrow": false,
          "text": "angle during stance knee (°)",
          "x": 0.6312500000000001,
          "xanchor": "center",
          "xref": "paper",
          "y": 1,
          "yanchor": "bottom",
          "yref": "paper"
         },
         {
          "font": {
           "size": 16
          },
          "showarrow": false,
          "text": "angle during stance lHindfingers std",
          "x": 0.89375,
          "xanchor": "center",
          "xref": "paper",
          "y": 1,
          "yanchor": "bottom",
          "yref": "paper"
         },
         {
          "font": {
           "size": 16
          },
          "showarrow": false,
          "text": "angle velocity at stance knee std",
          "x": 0.10625,
          "xanchor": "center",
          "xref": "paper",
          "y": 0.8671875,
          "yanchor": "bottom",
          "yref": "paper"
         },
         {
          "font": {
           "size": 16
          },
          "showarrow": false,
          "text": "phase at swing knee std",
          "x": 0.36875,
          "xanchor": "center",
          "xref": "paper",
          "y": 0.8671875,
          "yanchor": "bottom",
          "yref": "paper"
         },
         {
          "font": {
           "size": 16
          },
          "showarrow": false,
          "text": "phase velocity at swing knee (rad/s)",
          "x": 0.6312500000000001,
          "xanchor": "center",
          "xref": "paper",
          "y": 0.8671875,
          "yanchor": "bottom",
          "yref": "paper"
         },
         {
          "font": {
           "size": 16
          },
          "showarrow": false,
          "text": "step acceleration X at peak - lHindfingers (m/s^2)",
          "x": 0.89375,
          "xanchor": "center",
          "xref": "paper",
          "y": 0.8671875,
          "yanchor": "bottom",
          "yref": "paper"
         },
         {
          "font": {
           "size": 16
          },
          "showarrow": false,
          "text": "step acceleration X during stance - lHindfingers (m/s^2)",
          "x": 0.10625,
          "xanchor": "center",
          "xref": "paper",
          "y": 0.734375,
          "yanchor": "bottom",
          "yref": "paper"
         },
         {
          "font": {
           "size": 16
          },
          "showarrow": false,
          "text": "step acceleration X during stance - lHindpaw (m/s^2)",
          "x": 0.36875,
          "xanchor": "center",
          "xref": "paper",
          "y": 0.734375,
          "yanchor": "bottom",
          "yref": "paper"
         },
         {
          "font": {
           "size": 16
          },
          "showarrow": false,
          "text": "step acceleration X during swing - lHindpaw (m/s^2)",
          "x": 0.6312500000000001,
          "xanchor": "center",
          "xref": "paper",
          "y": 0.734375,
          "yanchor": "bottom",
          "yref": "paper"
         },
         {
          "font": {
           "size": 16
          },
          "showarrow": false,
          "text": "step acceleration Y at peak - hip (m/s^2)",
          "x": 0.89375,
          "xanchor": "center",
          "xref": "paper",
          "y": 0.734375,
          "yanchor": "bottom",
          "yref": "paper"
         },
         {
          "font": {
           "size": 16
          },
          "showarrow": false,
          "text": "step acceleration Y at peak - lForepaw std",
          "x": 0.10625,
          "xanchor": "center",
          "xref": "paper",
          "y": 0.6015625,
          "yanchor": "bottom",
          "yref": "paper"
         },
         {
          "font": {
           "size": 16
          },
          "showarrow": false,
          "text": "step acceleration Y at swing - ankle (m/s^2)",
          "x": 0.36875,
          "xanchor": "center",
          "xref": "paper",
          "y": 0.6015625,
          "yanchor": "bottom",
          "yref": "paper"
         },
         {
          "font": {
           "size": 16
          },
          "showarrow": false,
          "text": "step acceleration Y at touchdown - ankle (m/s^2)",
          "x": 0.6312500000000001,
          "xanchor": "center",
          "xref": "paper",
          "y": 0.6015625,
          "yanchor": "bottom",
          "yref": "paper"
         },
         {
          "font": {
           "size": 16
          },
          "showarrow": false,
          "text": "step acceleration Y at touchdown - lHindfingers (m/s^2)",
          "x": 0.89375,
          "xanchor": "center",
          "xref": "paper",
          "y": 0.6015625,
          "yanchor": "bottom",
          "yref": "paper"
         },
         {
          "font": {
           "size": 16
          },
          "showarrow": false,
          "text": "step acceleration Y during stance - ankle (m/s^2)",
          "x": 0.10625,
          "xanchor": "center",
          "xref": "paper",
          "y": 0.46875,
          "yanchor": "bottom",
          "yref": "paper"
         },
         {
          "font": {
           "size": 16
          },
          "showarrow": false,
          "text": "step acceleration Y during stance - spine 1 std",
          "x": 0.36875,
          "xanchor": "center",
          "xref": "paper",
          "y": 0.46875,
          "yanchor": "bottom",
          "yref": "paper"
         },
         {
          "font": {
           "size": 16
          },
          "showarrow": false,
          "text": "step acceleration Y during swing - hip std",
          "x": 0.6312500000000001,
          "xanchor": "center",
          "xref": "paper",
          "y": 0.46875,
          "yanchor": "bottom",
          "yref": "paper"
         },
         {
          "font": {
           "size": 16
          },
          "showarrow": false,
          "text": "step acceleration Y during swing - spine 4 std",
          "x": 0.89375,
          "xanchor": "center",
          "xref": "paper",
          "y": 0.46875,
          "yanchor": "bottom",
          "yref": "paper"
         },
         {
          "font": {
           "size": 16
          },
          "showarrow": false,
          "text": "step jerk X at swing - ankle (m/s^3)",
          "x": 0.10625,
          "xanchor": "center",
          "xref": "paper",
          "y": 0.3359375,
          "yanchor": "bottom",
          "yref": "paper"
         },
         {
          "font": {
           "size": 16
          },
          "showarrow": false,
          "text": "step jerk Y at stance - lHindfingers (m/s^3)",
          "x": 0.36875,
          "xanchor": "center",
          "xref": "paper",
          "y": 0.3359375,
          "yanchor": "bottom",
          "yref": "paper"
         },
         {
          "font": {
           "size": 16
          },
          "showarrow": false,
          "text": "step velocity X at peak - lForepaw std",
          "x": 0.6312500000000001,
          "xanchor": "center",
          "xref": "paper",
          "y": 0.3359375,
          "yanchor": "bottom",
          "yref": "paper"
         },
         {
          "font": {
           "size": 16
          },
          "showarrow": false,
          "text": "step velocity X at touchdown - lHindpaw (m/s)",
          "x": 0.89375,
          "xanchor": "center",
          "xref": "paper",
          "y": 0.3359375,
          "yanchor": "bottom",
          "yref": "paper"
         },
         {
          "font": {
           "size": 16
          },
          "showarrow": false,
          "text": "step velocity X during stance - lHindfingers (m/s)",
          "x": 0.10625,
          "xanchor": "center",
          "xref": "paper",
          "y": 0.203125,
          "yanchor": "bottom",
          "yref": "paper"
         },
         {
          "font": {
           "size": 16
          },
          "showarrow": false,
          "text": "step velocity Y at peak - lHindfingers (m/s)",
          "x": 0.36875,
          "xanchor": "center",
          "xref": "paper",
          "y": 0.203125,
          "yanchor": "bottom",
          "yref": "paper"
         },
         {
          "font": {
           "size": 16
          },
          "showarrow": false,
          "text": "step velocity Y at peak - lHindpaw (m/s)",
          "x": 0.6312500000000001,
          "xanchor": "center",
          "xref": "paper",
          "y": 0.203125,
          "yanchor": "bottom",
          "yref": "paper"
         },
         {
          "font": {
           "size": 16
          },
          "showarrow": false,
          "text": "step velocity Y at swing - ankle (m/s)",
          "x": 0.89375,
          "xanchor": "center",
          "xref": "paper",
          "y": 0.203125,
          "yanchor": "bottom",
          "yref": "paper"
         },
         {
          "font": {
           "size": 16
          },
          "showarrow": false,
          "text": "step velocity Y at swing - knee std",
          "x": 0.10625,
          "xanchor": "center",
          "xref": "paper",
          "y": 0.0703125,
          "yanchor": "bottom",
          "yref": "paper"
         },
         {
          "font": {
           "size": 16
          },
          "showarrow": false,
          "text": "step velocity Y at touchdown - spine 2 std",
          "x": 0.36875,
          "xanchor": "center",
          "xref": "paper",
          "y": 0.0703125,
          "yanchor": "bottom",
          "yref": "paper"
         }
        ],
        "height": 4000,
        "plot_bgcolor": "rgba(0,0,0,0)",
        "showlegend": false,
        "template": {
         "data": {
          "bar": [
           {
            "error_x": {
             "color": "#2a3f5f"
            },
            "error_y": {
             "color": "#2a3f5f"
            },
            "marker": {
             "line": {
              "color": "#E5ECF6",
              "width": 0.5
             },
             "pattern": {
              "fillmode": "overlay",
              "size": 10,
              "solidity": 0.2
             }
            },
            "type": "bar"
           }
          ],
          "barpolar": [
           {
            "marker": {
             "line": {
              "color": "#E5ECF6",
              "width": 0.5
             },
             "pattern": {
              "fillmode": "overlay",
              "size": 10,
              "solidity": 0.2
             }
            },
            "type": "barpolar"
           }
          ],
          "carpet": [
           {
            "aaxis": {
             "endlinecolor": "#2a3f5f",
             "gridcolor": "white",
             "linecolor": "white",
             "minorgridcolor": "white",
             "startlinecolor": "#2a3f5f"
            },
            "baxis": {
             "endlinecolor": "#2a3f5f",
             "gridcolor": "white",
             "linecolor": "white",
             "minorgridcolor": "white",
             "startlinecolor": "#2a3f5f"
            },
            "type": "carpet"
           }
          ],
          "choropleth": [
           {
            "colorbar": {
             "outlinewidth": 0,
             "ticks": ""
            },
            "type": "choropleth"
           }
          ],
          "contour": [
           {
            "colorbar": {
             "outlinewidth": 0,
             "ticks": ""
            },
            "colorscale": [
             [
              0,
              "#0d0887"
             ],
             [
              0.1111111111111111,
              "#46039f"
             ],
             [
              0.2222222222222222,
              "#7201a8"
             ],
             [
              0.3333333333333333,
              "#9c179e"
             ],
             [
              0.4444444444444444,
              "#bd3786"
             ],
             [
              0.5555555555555556,
              "#d8576b"
             ],
             [
              0.6666666666666666,
              "#ed7953"
             ],
             [
              0.7777777777777778,
              "#fb9f3a"
             ],
             [
              0.8888888888888888,
              "#fdca26"
             ],
             [
              1,
              "#f0f921"
             ]
            ],
            "type": "contour"
           }
          ],
          "contourcarpet": [
           {
            "colorbar": {
             "outlinewidth": 0,
             "ticks": ""
            },
            "type": "contourcarpet"
           }
          ],
          "heatmap": [
           {
            "colorbar": {
             "outlinewidth": 0,
             "ticks": ""
            },
            "colorscale": [
             [
              0,
              "#0d0887"
             ],
             [
              0.1111111111111111,
              "#46039f"
             ],
             [
              0.2222222222222222,
              "#7201a8"
             ],
             [
              0.3333333333333333,
              "#9c179e"
             ],
             [
              0.4444444444444444,
              "#bd3786"
             ],
             [
              0.5555555555555556,
              "#d8576b"
             ],
             [
              0.6666666666666666,
              "#ed7953"
             ],
             [
              0.7777777777777778,
              "#fb9f3a"
             ],
             [
              0.8888888888888888,
              "#fdca26"
             ],
             [
              1,
              "#f0f921"
             ]
            ],
            "type": "heatmap"
           }
          ],
          "histogram": [
           {
            "marker": {
             "pattern": {
              "fillmode": "overlay",
              "size": 10,
              "solidity": 0.2
             }
            },
            "type": "histogram"
           }
          ],
          "histogram2d": [
           {
            "colorbar": {
             "outlinewidth": 0,
             "ticks": ""
            },
            "colorscale": [
             [
              0,
              "#0d0887"
             ],
             [
              0.1111111111111111,
              "#46039f"
             ],
             [
              0.2222222222222222,
              "#7201a8"
             ],
             [
              0.3333333333333333,
              "#9c179e"
             ],
             [
              0.4444444444444444,
              "#bd3786"
             ],
             [
              0.5555555555555556,
              "#d8576b"
             ],
             [
              0.6666666666666666,
              "#ed7953"
             ],
             [
              0.7777777777777778,
              "#fb9f3a"
             ],
             [
              0.8888888888888888,
              "#fdca26"
             ],
             [
              1,
              "#f0f921"
             ]
            ],
            "type": "histogram2d"
           }
          ],
          "histogram2dcontour": [
           {
            "colorbar": {
             "outlinewidth": 0,
             "ticks": ""
            },
            "colorscale": [
             [
              0,
              "#0d0887"
             ],
             [
              0.1111111111111111,
              "#46039f"
             ],
             [
              0.2222222222222222,
              "#7201a8"
             ],
             [
              0.3333333333333333,
              "#9c179e"
             ],
             [
              0.4444444444444444,
              "#bd3786"
             ],
             [
              0.5555555555555556,
              "#d8576b"
             ],
             [
              0.6666666666666666,
              "#ed7953"
             ],
             [
              0.7777777777777778,
              "#fb9f3a"
             ],
             [
              0.8888888888888888,
              "#fdca26"
             ],
             [
              1,
              "#f0f921"
             ]
            ],
            "type": "histogram2dcontour"
           }
          ],
          "mesh3d": [
           {
            "colorbar": {
             "outlinewidth": 0,
             "ticks": ""
            },
            "type": "mesh3d"
           }
          ],
          "parcoords": [
           {
            "line": {
             "colorbar": {
              "outlinewidth": 0,
              "ticks": ""
             }
            },
            "type": "parcoords"
           }
          ],
          "pie": [
           {
            "automargin": true,
            "type": "pie"
           }
          ],
          "scatter": [
           {
            "fillpattern": {
             "fillmode": "overlay",
             "size": 10,
             "solidity": 0.2
            },
            "type": "scatter"
           }
          ],
          "scatter3d": [
           {
            "line": {
             "colorbar": {
              "outlinewidth": 0,
              "ticks": ""
             }
            },
            "marker": {
             "colorbar": {
              "outlinewidth": 0,
              "ticks": ""
             }
            },
            "type": "scatter3d"
           }
          ],
          "scattercarpet": [
           {
            "marker": {
             "colorbar": {
              "outlinewidth": 0,
              "ticks": ""
             }
            },
            "type": "scattercarpet"
           }
          ],
          "scattergeo": [
           {
            "marker": {
             "colorbar": {
              "outlinewidth": 0,
              "ticks": ""
             }
            },
            "type": "scattergeo"
           }
          ],
          "scattergl": [
           {
            "marker": {
             "colorbar": {
              "outlinewidth": 0,
              "ticks": ""
             }
            },
            "type": "scattergl"
           }
          ],
          "scattermap": [
           {
            "marker": {
             "colorbar": {
              "outlinewidth": 0,
              "ticks": ""
             }
            },
            "type": "scattermap"
           }
          ],
          "scattermapbox": [
           {
            "marker": {
             "colorbar": {
              "outlinewidth": 0,
              "ticks": ""
             }
            },
            "type": "scattermapbox"
           }
          ],
          "scatterpolar": [
           {
            "marker": {
             "colorbar": {
              "outlinewidth": 0,
              "ticks": ""
             }
            },
            "type": "scatterpolar"
           }
          ],
          "scatterpolargl": [
           {
            "marker": {
             "colorbar": {
              "outlinewidth": 0,
              "ticks": ""
             }
            },
            "type": "scatterpolargl"
           }
          ],
          "scatterternary": [
           {
            "marker": {
             "colorbar": {
              "outlinewidth": 0,
              "ticks": ""
             }
            },
            "type": "scatterternary"
           }
          ],
          "surface": [
           {
            "colorbar": {
             "outlinewidth": 0,
             "ticks": ""
            },
            "colorscale": [
             [
              0,
              "#0d0887"
             ],
             [
              0.1111111111111111,
              "#46039f"
             ],
             [
              0.2222222222222222,
              "#7201a8"
             ],
             [
              0.3333333333333333,
              "#9c179e"
             ],
             [
              0.4444444444444444,
              "#bd3786"
             ],
             [
              0.5555555555555556,
              "#d8576b"
             ],
             [
              0.6666666666666666,
              "#ed7953"
             ],
             [
              0.7777777777777778,
              "#fb9f3a"
             ],
             [
              0.8888888888888888,
              "#fdca26"
             ],
             [
              1,
              "#f0f921"
             ]
            ],
            "type": "surface"
           }
          ],
          "table": [
           {
            "cells": {
             "fill": {
              "color": "#EBF0F8"
             },
             "line": {
              "color": "white"
             }
            },
            "header": {
             "fill": {
              "color": "#C8D4E3"
             },
             "line": {
              "color": "white"
             }
            },
            "type": "table"
           }
          ]
         },
         "layout": {
          "annotationdefaults": {
           "arrowcolor": "#2a3f5f",
           "arrowhead": 0,
           "arrowwidth": 1
          },
          "autotypenumbers": "strict",
          "coloraxis": {
           "colorbar": {
            "outlinewidth": 0,
            "ticks": ""
           }
          },
          "colorscale": {
           "diverging": [
            [
             0,
             "#8e0152"
            ],
            [
             0.1,
             "#c51b7d"
            ],
            [
             0.2,
             "#de77ae"
            ],
            [
             0.3,
             "#f1b6da"
            ],
            [
             0.4,
             "#fde0ef"
            ],
            [
             0.5,
             "#f7f7f7"
            ],
            [
             0.6,
             "#e6f5d0"
            ],
            [
             0.7,
             "#b8e186"
            ],
            [
             0.8,
             "#7fbc41"
            ],
            [
             0.9,
             "#4d9221"
            ],
            [
             1,
             "#276419"
            ]
           ],
           "sequential": [
            [
             0,
             "#0d0887"
            ],
            [
             0.1111111111111111,
             "#46039f"
            ],
            [
             0.2222222222222222,
             "#7201a8"
            ],
            [
             0.3333333333333333,
             "#9c179e"
            ],
            [
             0.4444444444444444,
             "#bd3786"
            ],
            [
             0.5555555555555556,
             "#d8576b"
            ],
            [
             0.6666666666666666,
             "#ed7953"
            ],
            [
             0.7777777777777778,
             "#fb9f3a"
            ],
            [
             0.8888888888888888,
             "#fdca26"
            ],
            [
             1,
             "#f0f921"
            ]
           ],
           "sequentialminus": [
            [
             0,
             "#0d0887"
            ],
            [
             0.1111111111111111,
             "#46039f"
            ],
            [
             0.2222222222222222,
             "#7201a8"
            ],
            [
             0.3333333333333333,
             "#9c179e"
            ],
            [
             0.4444444444444444,
             "#bd3786"
            ],
            [
             0.5555555555555556,
             "#d8576b"
            ],
            [
             0.6666666666666666,
             "#ed7953"
            ],
            [
             0.7777777777777778,
             "#fb9f3a"
            ],
            [
             0.8888888888888888,
             "#fdca26"
            ],
            [
             1,
             "#f0f921"
            ]
           ]
          },
          "colorway": [
           "#636efa",
           "#EF553B",
           "#00cc96",
           "#ab63fa",
           "#FFA15A",
           "#19d3f3",
           "#FF6692",
           "#B6E880",
           "#FF97FF",
           "#FECB52"
          ],
          "font": {
           "color": "#2a3f5f"
          },
          "geo": {
           "bgcolor": "white",
           "lakecolor": "white",
           "landcolor": "#E5ECF6",
           "showlakes": true,
           "showland": true,
           "subunitcolor": "white"
          },
          "hoverlabel": {
           "align": "left"
          },
          "hovermode": "closest",
          "mapbox": {
           "style": "light"
          },
          "paper_bgcolor": "white",
          "plot_bgcolor": "#E5ECF6",
          "polar": {
           "angularaxis": {
            "gridcolor": "white",
            "linecolor": "white",
            "ticks": ""
           },
           "bgcolor": "#E5ECF6",
           "radialaxis": {
            "gridcolor": "white",
            "linecolor": "white",
            "ticks": ""
           }
          },
          "scene": {
           "xaxis": {
            "backgroundcolor": "#E5ECF6",
            "gridcolor": "white",
            "gridwidth": 2,
            "linecolor": "white",
            "showbackground": true,
            "ticks": "",
            "zerolinecolor": "white"
           },
           "yaxis": {
            "backgroundcolor": "#E5ECF6",
            "gridcolor": "white",
            "gridwidth": 2,
            "linecolor": "white",
            "showbackground": true,
            "ticks": "",
            "zerolinecolor": "white"
           },
           "zaxis": {
            "backgroundcolor": "#E5ECF6",
            "gridcolor": "white",
            "gridwidth": 2,
            "linecolor": "white",
            "showbackground": true,
            "ticks": "",
            "zerolinecolor": "white"
           }
          },
          "shapedefaults": {
           "line": {
            "color": "#2a3f5f"
           }
          },
          "ternary": {
           "aaxis": {
            "gridcolor": "white",
            "linecolor": "white",
            "ticks": ""
           },
           "baxis": {
            "gridcolor": "white",
            "linecolor": "white",
            "ticks": ""
           },
           "bgcolor": "#E5ECF6",
           "caxis": {
            "gridcolor": "white",
            "linecolor": "white",
            "ticks": ""
           }
          },
          "title": {
           "x": 0.05
          },
          "xaxis": {
           "automargin": true,
           "gridcolor": "white",
           "linecolor": "white",
           "ticks": "",
           "title": {
            "standoff": 15
           },
           "zerolinecolor": "white",
           "zerolinewidth": 2
          },
          "yaxis": {
           "automargin": true,
           "gridcolor": "white",
           "linecolor": "white",
           "ticks": "",
           "title": {
            "standoff": 15
           },
           "zerolinecolor": "white",
           "zerolinewidth": 2
          }
         }
        },
        "title": {
         "text": "Selected Features Across Groups"
        },
        "width": 1600,
        "xaxis": {
         "anchor": "y",
         "domain": [
          0,
          0.2125
         ]
        },
        "xaxis10": {
         "anchor": "y10",
         "domain": [
          0.2625,
          0.475
         ]
        },
        "xaxis11": {
         "anchor": "y11",
         "domain": [
          0.525,
          0.7375
         ]
        },
        "xaxis12": {
         "anchor": "y12",
         "domain": [
          0.7875,
          1
         ]
        },
        "xaxis13": {
         "anchor": "y13",
         "domain": [
          0,
          0.2125
         ]
        },
        "xaxis14": {
         "anchor": "y14",
         "domain": [
          0.2625,
          0.475
         ]
        },
        "xaxis15": {
         "anchor": "y15",
         "domain": [
          0.525,
          0.7375
         ]
        },
        "xaxis16": {
         "anchor": "y16",
         "domain": [
          0.7875,
          1
         ]
        },
        "xaxis17": {
         "anchor": "y17",
         "domain": [
          0,
          0.2125
         ]
        },
        "xaxis18": {
         "anchor": "y18",
         "domain": [
          0.2625,
          0.475
         ]
        },
        "xaxis19": {
         "anchor": "y19",
         "domain": [
          0.525,
          0.7375
         ]
        },
        "xaxis2": {
         "anchor": "y2",
         "domain": [
          0.2625,
          0.475
         ]
        },
        "xaxis20": {
         "anchor": "y20",
         "domain": [
          0.7875,
          1
         ]
        },
        "xaxis21": {
         "anchor": "y21",
         "domain": [
          0,
          0.2125
         ]
        },
        "xaxis22": {
         "anchor": "y22",
         "domain": [
          0.2625,
          0.475
         ]
        },
        "xaxis23": {
         "anchor": "y23",
         "domain": [
          0.525,
          0.7375
         ]
        },
        "xaxis24": {
         "anchor": "y24",
         "domain": [
          0.7875,
          1
         ]
        },
        "xaxis25": {
         "anchor": "y25",
         "domain": [
          0,
          0.2125
         ]
        },
        "xaxis26": {
         "anchor": "y26",
         "domain": [
          0.2625,
          0.475
         ]
        },
        "xaxis27": {
         "anchor": "y27",
         "domain": [
          0.525,
          0.7375
         ]
        },
        "xaxis28": {
         "anchor": "y28",
         "domain": [
          0.7875,
          1
         ]
        },
        "xaxis29": {
         "anchor": "y29",
         "domain": [
          0,
          0.2125
         ]
        },
        "xaxis3": {
         "anchor": "y3",
         "domain": [
          0.525,
          0.7375
         ]
        },
        "xaxis30": {
         "anchor": "y30",
         "domain": [
          0.2625,
          0.475
         ]
        },
        "xaxis31": {
         "anchor": "y31",
         "domain": [
          0.525,
          0.7375
         ]
        },
        "xaxis32": {
         "anchor": "y32",
         "domain": [
          0.7875,
          1
         ]
        },
        "xaxis4": {
         "anchor": "y4",
         "domain": [
          0.7875,
          1
         ]
        },
        "xaxis5": {
         "anchor": "y5",
         "domain": [
          0,
          0.2125
         ]
        },
        "xaxis6": {
         "anchor": "y6",
         "domain": [
          0.2625,
          0.475
         ]
        },
        "xaxis7": {
         "anchor": "y7",
         "domain": [
          0.525,
          0.7375
         ]
        },
        "xaxis8": {
         "anchor": "y8",
         "domain": [
          0.7875,
          1
         ]
        },
        "xaxis9": {
         "anchor": "y9",
         "domain": [
          0,
          0.2125
         ]
        },
        "yaxis": {
         "anchor": "x",
         "domain": [
          0.9296875,
          1
         ]
        },
        "yaxis10": {
         "anchor": "x10",
         "domain": [
          0.6640625,
          0.734375
         ]
        },
        "yaxis11": {
         "anchor": "x11",
         "domain": [
          0.6640625,
          0.734375
         ]
        },
        "yaxis12": {
         "anchor": "x12",
         "domain": [
          0.6640625,
          0.734375
         ]
        },
        "yaxis13": {
         "anchor": "x13",
         "domain": [
          0.53125,
          0.6015625
         ]
        },
        "yaxis14": {
         "anchor": "x14",
         "domain": [
          0.53125,
          0.6015625
         ]
        },
        "yaxis15": {
         "anchor": "x15",
         "domain": [
          0.53125,
          0.6015625
         ]
        },
        "yaxis16": {
         "anchor": "x16",
         "domain": [
          0.53125,
          0.6015625
         ]
        },
        "yaxis17": {
         "anchor": "x17",
         "domain": [
          0.3984375,
          0.46875
         ]
        },
        "yaxis18": {
         "anchor": "x18",
         "domain": [
          0.3984375,
          0.46875
         ]
        },
        "yaxis19": {
         "anchor": "x19",
         "domain": [
          0.3984375,
          0.46875
         ]
        },
        "yaxis2": {
         "anchor": "x2",
         "domain": [
          0.9296875,
          1
         ]
        },
        "yaxis20": {
         "anchor": "x20",
         "domain": [
          0.3984375,
          0.46875
         ]
        },
        "yaxis21": {
         "anchor": "x21",
         "domain": [
          0.265625,
          0.3359375
         ]
        },
        "yaxis22": {
         "anchor": "x22",
         "domain": [
          0.265625,
          0.3359375
         ]
        },
        "yaxis23": {
         "anchor": "x23",
         "domain": [
          0.265625,
          0.3359375
         ]
        },
        "yaxis24": {
         "anchor": "x24",
         "domain": [
          0.265625,
          0.3359375
         ]
        },
        "yaxis25": {
         "anchor": "x25",
         "domain": [
          0.1328125,
          0.203125
         ]
        },
        "yaxis26": {
         "anchor": "x26",
         "domain": [
          0.1328125,
          0.203125
         ]
        },
        "yaxis27": {
         "anchor": "x27",
         "domain": [
          0.1328125,
          0.203125
         ]
        },
        "yaxis28": {
         "anchor": "x28",
         "domain": [
          0.1328125,
          0.203125
         ]
        },
        "yaxis29": {
         "anchor": "x29",
         "domain": [
          0,
          0.0703125
         ]
        },
        "yaxis3": {
         "anchor": "x3",
         "domain": [
          0.9296875,
          1
         ]
        },
        "yaxis30": {
         "anchor": "x30",
         "domain": [
          0,
          0.0703125
         ]
        },
        "yaxis31": {
         "anchor": "x31",
         "domain": [
          0,
          0.0703125
         ]
        },
        "yaxis32": {
         "anchor": "x32",
         "domain": [
          0,
          0.0703125
         ]
        },
        "yaxis4": {
         "anchor": "x4",
         "domain": [
          0.9296875,
          1
         ]
        },
        "yaxis5": {
         "anchor": "x5",
         "domain": [
          0.796875,
          0.8671875
         ]
        },
        "yaxis6": {
         "anchor": "x6",
         "domain": [
          0.796875,
          0.8671875
         ]
        },
        "yaxis7": {
         "anchor": "x7",
         "domain": [
          0.796875,
          0.8671875
         ]
        },
        "yaxis8": {
         "anchor": "x8",
         "domain": [
          0.796875,
          0.8671875
         ]
        },
        "yaxis9": {
         "anchor": "x9",
         "domain": [
          0.6640625,
          0.734375
         ]
        }
       }
      }
     },
     "metadata": {},
     "output_type": "display_data"
    },
    {
     "data": {
      "application/vnd.plotly.v1+json": {
       "config": {
        "plotlyServerURL": "https://plot.ly"
       },
       "data": [
        {
         "error_y": {
          "array": [
           0.753999749991993,
           1.9572851553554493,
           1.4054498991545583
          ],
          "type": "data",
          "visible": true
         },
         "marker": {
          "color": [
           "#636EFA",
           "#EF553B",
           "#00CC96"
          ],
          "line": {
           "color": "black",
           "width": 1
          }
         },
         "name": "Mean angle during swing - rhindlimb - knee (°)",
         "type": "bar",
         "x": [
          "healthy_left_B_run",
          "sick_left_C_run",
          "sick_left_E_run"
         ],
         "xaxis": "x",
         "y": [
          91.08441413021873,
          90.03959197242433,
          88.75045285569547
         ],
         "yaxis": "y"
        },
        {
         "marker": {
          "color": "black",
          "opacity": 0.5,
          "size": 6
         },
         "mode": "markers",
         "showlegend": false,
         "type": "scatter",
         "x": [
          "healthy_left_B_run",
          "healthy_left_B_run",
          "healthy_left_B_run",
          "healthy_left_B_run",
          "healthy_left_B_run",
          "healthy_left_B_run",
          "healthy_left_B_run",
          "healthy_left_B_run",
          "healthy_left_B_run",
          "healthy_left_B_run"
         ],
         "xaxis": "x",
         "y": {
          "bdata": "oolt/obBVkAH3V0RkxZXQGu5j8qLwlZAIefP4XJ/VkCWd882z9VWQAgqCBwYn1ZAhWFHFq/CVkDjxvj+N/VWQNJfkNHA6VZAMVVqc16FVkA=",
          "dtype": "f8"
         },
         "yaxis": "y"
        },
        {
         "marker": {
          "color": "black",
          "opacity": 0.5,
          "size": 6
         },
         "mode": "markers",
         "showlegend": false,
         "type": "scatter",
         "x": [
          "sick_left_C_run",
          "sick_left_C_run",
          "sick_left_C_run",
          "sick_left_C_run",
          "sick_left_C_run",
          "sick_left_C_run",
          "sick_left_C_run",
          "sick_left_C_run",
          "sick_left_C_run",
          "sick_left_C_run"
         ],
         "xaxis": "x",
         "y": {
          "bdata": "onQFvndPVkCJI12l9q5WQGsUsxgP3FZA8diE4aqIVkBmsZuVc61VQDGO8tnLjFZA0W65T80iVkDIXTVjqB5XQEposMtXOFdA2OPmcyECVkA=",
          "dtype": "f8"
         },
         "yaxis": "y"
        },
        {
         "marker": {
          "color": "black",
          "opacity": 0.5,
          "size": 6
         },
         "mode": "markers",
         "showlegend": false,
         "type": "scatter",
         "x": [
          "sick_left_E_run",
          "sick_left_E_run",
          "sick_left_E_run",
          "sick_left_E_run",
          "sick_left_E_run",
          "sick_left_E_run",
          "sick_left_E_run",
          "sick_left_E_run",
          "sick_left_E_run",
          "sick_left_E_run"
         ],
         "xaxis": "x",
         "y": {
          "bdata": "8A/DnVF9VkBGT4ip/SlWQPZ1nBIehFZAMSEiu1wqVkDVXDUKABdWQLTg58YPBFZAiIQPpzSNVkC14HsHXTlWQHnyTCIgUlZAl3Ule75WVUA=",
          "dtype": "f8"
         },
         "yaxis": "y"
        },
        {
         "error_y": {
          "array": [
           6.277953695356657,
           8.462546459432629,
           7.146419700458841
          ],
          "type": "data",
          "visible": true
         },
         "marker": {
          "color": [
           "#636EFA",
           "#EF553B",
           "#00CC96"
          ],
          "line": {
           "color": "black",
           "width": 1
          }
         },
         "name": "Mean angle excursion - rhindlimb - ankle (°)",
         "type": "bar",
         "x": [
          "healthy_left_B_run",
          "sick_left_C_run",
          "sick_left_E_run"
         ],
         "xaxis": "x2",
         "y": [
          89.75242292232248,
          67.16117215641357,
          60.667455371813375
         ],
         "yaxis": "y2"
        },
        {
         "marker": {
          "color": "black",
          "opacity": 0.5,
          "size": 6
         },
         "mode": "markers",
         "showlegend": false,
         "type": "scatter",
         "x": [
          "healthy_left_B_run",
          "healthy_left_B_run",
          "healthy_left_B_run",
          "healthy_left_B_run",
          "healthy_left_B_run",
          "healthy_left_B_run",
          "healthy_left_B_run",
          "healthy_left_B_run",
          "healthy_left_B_run",
          "healthy_left_B_run"
         ],
         "xaxis": "x2",
         "y": {
          "bdata": "DQ+osOlrV0AF0P9YpZ5VQB3kpldwNVdA2H3cgzzVWECRxfW5vA5UQAEZCw3XSFRA2lpe+PgfVkBfsvevE4RWQHnKXbkIVVhAnl/a6qf7VUA=",
          "dtype": "f8"
         },
         "yaxis": "y2"
        },
        {
         "marker": {
          "color": "black",
          "opacity": 0.5,
          "size": 6
         },
         "mode": "markers",
         "showlegend": false,
         "type": "scatter",
         "x": [
          "sick_left_C_run",
          "sick_left_C_run",
          "sick_left_C_run",
          "sick_left_C_run",
          "sick_left_C_run",
          "sick_left_C_run",
          "sick_left_C_run",
          "sick_left_C_run",
          "sick_left_C_run",
          "sick_left_C_run"
         ],
         "xaxis": "x2",
         "y": {
          "bdata": "RHtPbeztUEAL6cvhLclPQPuH9LaGSE1A4hV35MzMVUDHMoAOo0VOQJjdsqL3UlBAup7DO71TUkCDOyyXaHxNQOUXFrg71VBAHHmqapxGUUA=",
          "dtype": "f8"
         },
         "yaxis": "y2"
        },
        {
         "marker": {
          "color": "black",
          "opacity": 0.5,
          "size": 6
         },
         "mode": "markers",
         "showlegend": false,
         "type": "scatter",
         "x": [
          "sick_left_E_run",
          "sick_left_E_run",
          "sick_left_E_run",
          "sick_left_E_run",
          "sick_left_E_run",
          "sick_left_E_run",
          "sick_left_E_run",
          "sick_left_E_run",
          "sick_left_E_run",
          "sick_left_E_run"
         ],
         "xaxis": "x2",
         "y": {
          "bdata": "tWWALVQ4TkCd+qCQclBPQCsLTwyMF0pAQrTQJZyFUkD8UllAMcBKQE8khdV5j1FAGEO7CmaLT0B05Za0TCRLQL2bw7PptUxA6i8sUgtmTUA=",
          "dtype": "f8"
         },
         "yaxis": "y2"
        },
        {
         "error_y": {
          "array": [
           0.5444742601275224,
           2.262036894290908,
           1.5233799379420432
          ],
          "type": "data",
          "visible": true
         },
         "marker": {
          "color": [
           "#636EFA",
           "#EF553B",
           "#00CC96"
          ],
          "line": {
           "color": "black",
           "width": 1
          }
         },
         "name": "Mean angle value - rhindlimb - knee (°)",
         "type": "bar",
         "x": [
          "healthy_left_B_run",
          "sick_left_C_run",
          "sick_left_E_run"
         ],
         "xaxis": "x3",
         "y": [
          91.79139135127069,
          92.04278340823399,
          90.25835217811263
         ],
         "yaxis": "y3"
        },
        {
         "marker": {
          "color": "black",
          "opacity": 0.5,
          "size": 6
         },
         "mode": "markers",
         "showlegend": false,
         "type": "scatter",
         "x": [
          "healthy_left_B_run",
          "healthy_left_B_run",
          "healthy_left_B_run",
          "healthy_left_B_run",
          "healthy_left_B_run",
          "healthy_left_B_run",
          "healthy_left_B_run",
          "healthy_left_B_run",
          "healthy_left_B_run",
          "healthy_left_B_run"
         ],
         "xaxis": "x3",
         "y": {
          "bdata": "frxhVoXIVkAUEtjGgg1XQDbO2drhFVdAU9WIbpDnVkDyjd+Uvd9WQF72uSEKxVZAJ7dUqRniVkBzgIGzXCBXQGwm2m/WHldARcgzpe7gVkA=",
          "dtype": "f8"
         },
         "yaxis": "y3"
        },
        {
         "marker": {
          "color": "black",
          "opacity": 0.5,
          "size": 6
         },
         "mode": "markers",
         "showlegend": false,
         "type": "scatter",
         "x": [
          "sick_left_C_run",
          "sick_left_C_run",
          "sick_left_C_run",
          "sick_left_C_run",
          "sick_left_C_run",
          "sick_left_C_run",
          "sick_left_C_run",
          "sick_left_C_run",
          "sick_left_C_run",
          "sick_left_C_run"
         ],
         "xaxis": "x3",
         "y": {
          "bdata": "Oia9mMLiVkAYI/KG30hXQDZDnvvgJVdAylQfa0JZV0A2eDWKUARWQM308H9jIVdAe0p0Um6EVkA9iGVdgXJXQBsu7vHm7VdAv6HYbxFmVkA=",
          "dtype": "f8"
         },
         "yaxis": "y3"
        },
        {
         "marker": {
          "color": "black",
          "opacity": 0.5,
          "size": 6
         },
         "mode": "markers",
         "showlegend": false,
         "type": "scatter",
         "x": [
          "sick_left_E_run",
          "sick_left_E_run",
          "sick_left_E_run",
          "sick_left_E_run",
          "sick_left_E_run",
          "sick_left_E_run",
          "sick_left_E_run",
          "sick_left_E_run",
          "sick_left_E_run",
          "sick_left_E_run"
         ],
         "xaxis": "x3",
         "y": {
          "bdata": "JZojOHC3VkAIKduzSqZWQNNa9LsYDVdAOuAe4bRPVkDWzDWiqo5WQCttIJ9RpVZA1icgmcfeVkCsdyAtxZlWQBxFfQybnFZAZ3+XzquhVUA=",
          "dtype": "f8"
         },
         "yaxis": "y3"
        },
        {
         "error_y": {
          "array": [
           159.12242705980182,
           42.22627899861999,
           92.3346273518297
          ],
          "type": "data",
          "visible": true
         },
         "marker": {
          "color": [
           "#636EFA",
           "#EF553B",
           "#00CC96"
          ],
          "line": {
           "color": "black",
           "width": 1
          }
         },
         "name": "Mean phase acceleration at stance - rhindlimb - knee std",
         "type": "bar",
         "x": [
          "healthy_left_B_run",
          "sick_left_C_run",
          "sick_left_E_run"
         ],
         "xaxis": "x4",
         "y": [
          310.15011871575496,
          126.96773503393945,
          126.6216061770347
         ],
         "yaxis": "y4"
        },
        {
         "marker": {
          "color": "black",
          "opacity": 0.5,
          "size": 6
         },
         "mode": "markers",
         "showlegend": false,
         "type": "scatter",
         "x": [
          "healthy_left_B_run",
          "healthy_left_B_run",
          "healthy_left_B_run",
          "healthy_left_B_run",
          "healthy_left_B_run",
          "healthy_left_B_run",
          "healthy_left_B_run",
          "healthy_left_B_run",
          "healthy_left_B_run",
          "healthy_left_B_run"
         ],
         "xaxis": "x4",
         "y": {
          "bdata": "VqFFv9byZkCNxYw77DRrQHfG8dw2W2NAY88YNNgrYkBvXP859cBpQLd0yHSTHHpAwGldghF+g0AXel+Mdi1+QOe1EMQFRXRAzIjxb+6UdUA=",
          "dtype": "f8"
         },
         "yaxis": "y4"
        },
        {
         "marker": {
          "color": "black",
          "opacity": 0.5,
          "size": 6
         },
         "mode": "markers",
         "showlegend": false,
         "type": "scatter",
         "x": [
          "sick_left_C_run",
          "sick_left_C_run",
          "sick_left_C_run",
          "sick_left_C_run",
          "sick_left_C_run",
          "sick_left_C_run",
          "sick_left_C_run",
          "sick_left_C_run",
          "sick_left_C_run",
          "sick_left_C_run"
         ],
         "xaxis": "x4",
         "y": {
          "bdata": "FqqHQ3jjWUDGQdVGsWxKQI1i9vq4BlZAjx7cEI3PZ0Cj58RePXhjQEq39h1iQWJAkFDqfJhOYUB6+Xg5rSNlQGDVKrkDt1ZAU6sZyXPOYEA=",
          "dtype": "f8"
         },
         "yaxis": "y4"
        },
        {
         "marker": {
          "color": "black",
          "opacity": 0.5,
          "size": 6
         },
         "mode": "markers",
         "showlegend": false,
         "type": "scatter",
         "x": [
          "sick_left_E_run",
          "sick_left_E_run",
          "sick_left_E_run",
          "sick_left_E_run",
          "sick_left_E_run",
          "sick_left_E_run",
          "sick_left_E_run",
          "sick_left_E_run",
          "sick_left_E_run",
          "sick_left_E_run"
         ],
         "xaxis": "x4",
         "y": {
          "bdata": "j8nErnGoYEAulLF9w1JkQBXNyYkgaDRAArH/vbwFOEBs7Vmmdb1QQF6xdLCGaUdAWfcMjytCckCVkF7y44pdQNXd6smfxWJAd+xxxHN1b0A=",
          "dtype": "f8"
         },
         "yaxis": "y4"
        },
        {
         "error_y": {
          "array": [
           7.696954467710428,
           8.153817089158382,
           6.188490783042609
          ],
          "type": "data",
          "visible": true
         },
         "marker": {
          "color": [
           "#636EFA",
           "#EF553B",
           "#00CC96"
          ],
          "line": {
           "color": "black",
           "width": 1
          }
         },
         "name": "Mean phase excursion - rhindlimb - ankle (°)",
         "type": "bar",
         "x": [
          "healthy_left_B_run",
          "sick_left_C_run",
          "sick_left_E_run"
         ],
         "xaxis": "x5",
         "y": [
          117.42972838144082,
          102.84154582103035,
          98.16500094311988
         ],
         "yaxis": "y5"
        },
        {
         "marker": {
          "color": "black",
          "opacity": 0.5,
          "size": 6
         },
         "mode": "markers",
         "showlegend": false,
         "type": "scatter",
         "x": [
          "healthy_left_B_run",
          "healthy_left_B_run",
          "healthy_left_B_run",
          "healthy_left_B_run",
          "healthy_left_B_run",
          "healthy_left_B_run",
          "healthy_left_B_run",
          "healthy_left_B_run",
          "healthy_left_B_run",
          "healthy_left_B_run"
         ],
         "xaxis": "x5",
         "y": {
          "bdata": "g84NU4ZkX0DkOCuYTrpcQEkUpx80x11AC8eLKz8zYEDN1NQoNTZZQD9U1Mc5bVxA4FbvT8crXUAsM35sIZ1cQEVHJxQCGl5AuXx7jyXAXUA=",
          "dtype": "f8"
         },
         "yaxis": "y5"
        },
        {
         "marker": {
          "color": "black",
          "opacity": 0.5,
          "size": 6
         },
         "mode": "markers",
         "showlegend": false,
         "type": "scatter",
         "x": [
          "sick_left_C_run",
          "sick_left_C_run",
          "sick_left_C_run",
          "sick_left_C_run",
          "sick_left_C_run",
          "sick_left_C_run",
          "sick_left_C_run",
          "sick_left_C_run",
          "sick_left_C_run",
          "sick_left_C_run"
         ],
         "xaxis": "x5",
         "y": {
          "bdata": "/gEcMgzPWUCYKcVsU+1YQMdHTDNJFFhATUTk8KtqXUAin5M4ia9XQCeYmzlSw1tAtYCwdJIGW0CItL5wrKVWQCT5vPylNFlAnGmbxoGLWkA=",
          "dtype": "f8"
         },
         "yaxis": "y5"
        },
        {
         "marker": {
          "color": "black",
          "opacity": 0.5,
          "size": 6
         },
         "mode": "markers",
         "showlegend": false,
         "type": "scatter",
         "x": [
          "sick_left_E_run",
          "sick_left_E_run",
          "sick_left_E_run",
          "sick_left_E_run",
          "sick_left_E_run",
          "sick_left_E_run",
          "sick_left_E_run",
          "sick_left_E_run",
          "sick_left_E_run",
          "sick_left_E_run"
         ],
         "xaxis": "x5",
         "y": {
          "bdata": "nc35Jgc5WUCobkOpE21YQGqYc+gJh1ZAGJeIIt1VW0BIqAhhyQZYQOsZdgmmKVpA7lDGsNOaWUCtg3BYQ/1WQOkHbFS2NFhASDvNHVvpVkA=",
          "dtype": "f8"
         },
         "yaxis": "y5"
        },
        {
         "error_y": {
          "array": [
           1.8700956306264773,
           0.8475713911724847,
           1.2138725455592962
          ],
          "type": "data",
          "visible": true
         },
         "marker": {
          "color": [
           "#636EFA",
           "#EF553B",
           "#00CC96"
          ],
          "line": {
           "color": "black",
           "width": 1
          }
         },
         "name": "Mean phase value - rhindlimb - ankle std",
         "type": "bar",
         "x": [
          "healthy_left_B_run",
          "sick_left_C_run",
          "sick_left_E_run"
         ],
         "xaxis": "x6",
         "y": [
          4.170525527026706,
          3.6686270229346634,
          3.1175872584147775
         ],
         "yaxis": "y6"
        },
        {
         "marker": {
          "color": "black",
          "opacity": 0.5,
          "size": 6
         },
         "mode": "markers",
         "showlegend": false,
         "type": "scatter",
         "x": [
          "healthy_left_B_run",
          "healthy_left_B_run",
          "healthy_left_B_run",
          "healthy_left_B_run",
          "healthy_left_B_run",
          "healthy_left_B_run",
          "healthy_left_B_run",
          "healthy_left_B_run",
          "healthy_left_B_run",
          "healthy_left_B_run"
         ],
         "xaxis": "x6",
         "y": {
          "bdata": "q+3RnyTPBkCI9o7hss/0P64z2/dXexBAujuXaAsKFkCD9O+UPgz9P/ljo6KGWRhAg/qhSDMYFkBjBk67Z10bQKH291aiNghAjAL6j8mDEkA=",
          "dtype": "f8"
         },
         "yaxis": "y6"
        },
        {
         "marker": {
          "color": "black",
          "opacity": 0.5,
          "size": 6
         },
         "mode": "markers",
         "showlegend": false,
         "type": "scatter",
         "x": [
          "sick_left_C_run",
          "sick_left_C_run",
          "sick_left_C_run",
          "sick_left_C_run",
          "sick_left_C_run",
          "sick_left_C_run",
          "sick_left_C_run",
          "sick_left_C_run",
          "sick_left_C_run",
          "sick_left_C_run"
         ],
         "xaxis": "x6",
         "y": {
          "bdata": "8CPmT3cFDkBOqA1mETkMQJXeAPR4BAlACaNnuOftDECoR6WrsvcDQAVaOOkIQRNASZxF/BGYFUBbCGyqcyIJQEXzMvLFgAxAR5tdyW//CUA=",
          "dtype": "f8"
         },
         "yaxis": "y6"
        },
        {
         "marker": {
          "color": "black",
          "opacity": 0.5,
          "size": 6
         },
         "mode": "markers",
         "showlegend": false,
         "type": "scatter",
         "x": [
          "sick_left_E_run",
          "sick_left_E_run",
          "sick_left_E_run",
          "sick_left_E_run",
          "sick_left_E_run",
          "sick_left_E_run",
          "sick_left_E_run",
          "sick_left_E_run",
          "sick_left_E_run",
          "sick_left_E_run"
         ],
         "xaxis": "x6",
         "y": {
          "bdata": "PcLe/I2BAUDHeMM9PTMSQF14Nm2btRBAX2ddLMgLCUA2S9/8lggJQOOduJ+fLf0/hmeWXdGGE0BCVewdy9AFQB4egyVNTPE/hBLjKi3lC0A=",
          "dtype": "f8"
         },
         "yaxis": "y6"
        },
        {
         "error_y": {
          "array": [
           0.28954081227636275,
           0.10927040678937587,
           0.0979520660797888
          ],
          "type": "data",
          "visible": true
         },
         "marker": {
          "color": [
           "#636EFA",
           "#EF553B",
           "#00CC96"
          ],
          "line": {
           "color": "black",
           "width": 1
          }
         },
         "name": "Mean step acceleration X during swing - knee std",
         "type": "bar",
         "x": [
          "healthy_left_B_run",
          "sick_left_C_run",
          "sick_left_E_run"
         ],
         "xaxis": "x7",
         "y": [
          0.5079986491584684,
          0.3263734885447239,
          0.27481805314228464
         ],
         "yaxis": "y7"
        },
        {
         "marker": {
          "color": "black",
          "opacity": 0.5,
          "size": 6
         },
         "mode": "markers",
         "showlegend": false,
         "type": "scatter",
         "x": [
          "healthy_left_B_run",
          "healthy_left_B_run",
          "healthy_left_B_run",
          "healthy_left_B_run",
          "healthy_left_B_run",
          "healthy_left_B_run",
          "healthy_left_B_run",
          "healthy_left_B_run",
          "healthy_left_B_run",
          "healthy_left_B_run"
         ],
         "xaxis": "x7",
         "y": {
          "bdata": "dw+rXVfSwz/sieyds8i7P1qNfj9D1eM/QXFyJCLG5j/Foegur33vP02M5zeFEtY/6OgTsBVc5D98rGPkaGPZP0PPZCxuutM/WmlBIjsU6j8=",
          "dtype": "f8"
         },
         "yaxis": "y7"
        },
        {
         "marker": {
          "color": "black",
          "opacity": 0.5,
          "size": 6
         },
         "mode": "markers",
         "showlegend": false,
         "type": "scatter",
         "x": [
          "sick_left_C_run",
          "sick_left_C_run",
          "sick_left_C_run",
          "sick_left_C_run",
          "sick_left_C_run",
          "sick_left_C_run",
          "sick_left_C_run",
          "sick_left_C_run",
          "sick_left_C_run",
          "sick_left_C_run"
         ],
         "xaxis": "x7",
         "y": {
          "bdata": "/00DZzNU1z/LJ627Pk3LP0WnFdX39NQ/4JX6S2M44j+8Tf60tqbWP0MaYujjbtM/no37d+lMxz89VBilfI3UP45DabspAtk/mL1euoJpzj8=",
          "dtype": "f8"
         },
         "yaxis": "y7"
        },
        {
         "marker": {
          "color": "black",
          "opacity": 0.5,
          "size": 6
         },
         "mode": "markers",
         "showlegend": false,
         "type": "scatter",
         "x": [
          "sick_left_E_run",
          "sick_left_E_run",
          "sick_left_E_run",
          "sick_left_E_run",
          "sick_left_E_run",
          "sick_left_E_run",
          "sick_left_E_run",
          "sick_left_E_run",
          "sick_left_E_run",
          "sick_left_E_run"
         ],
         "xaxis": "x7",
         "y": {
          "bdata": "5M1qItMhzj8On2VoLvXUP2+dyMtQW80/6J3NsBIaxD99+uWeAdrQP6ElLm7PaMw/fQmZCl4Q3z9Tn3NSiBLFP/KPYJlN2tU/5yhnvQ2f1D8=",
          "dtype": "f8"
         },
         "yaxis": "y7"
        },
        {
         "error_y": {
          "array": [
           1.3374056170100652,
           2.187880094901284,
           1.407196472555466
          ],
          "type": "data",
          "visible": true
         },
         "marker": {
          "color": [
           "#636EFA",
           "#EF553B",
           "#00CC96"
          ],
          "line": {
           "color": "black",
           "width": 1
          }
         },
         "name": "Mean step acceleration Y at swing - lHindpaw (m/s^2)",
         "type": "bar",
         "x": [
          "healthy_left_B_run",
          "sick_left_C_run",
          "sick_left_E_run"
         ],
         "xaxis": "x8",
         "y": [
          3.4840044137697297,
          5.819945533338765,
          5.9214278505912725
         ],
         "yaxis": "y8"
        },
        {
         "marker": {
          "color": "black",
          "opacity": 0.5,
          "size": 6
         },
         "mode": "markers",
         "showlegend": false,
         "type": "scatter",
         "x": [
          "healthy_left_B_run",
          "healthy_left_B_run",
          "healthy_left_B_run",
          "healthy_left_B_run",
          "healthy_left_B_run",
          "healthy_left_B_run",
          "healthy_left_B_run",
          "healthy_left_B_run",
          "healthy_left_B_run",
          "healthy_left_B_run"
         ],
         "xaxis": "x8",
         "y": {
          "bdata": "kcLiFPFDC0BqTuzEjmUPQEeQBmlQbAFA0SNUn2m59j8gpEEapN0LQHixEzsZ+ABAIxqkQfrcF0BUPdRDPQcTQOkt3/INFxBAcMYQt5t5DEA=",
          "dtype": "f8"
         },
         "yaxis": "y8"
        },
        {
         "marker": {
          "color": "black",
          "opacity": 0.5,
          "size": 6
         },
         "mode": "markers",
         "showlegend": false,
         "type": "scatter",
         "x": [
          "sick_left_C_run",
          "sick_left_C_run",
          "sick_left_C_run",
          "sick_left_C_run",
          "sick_left_C_run",
          "sick_left_C_run",
          "sick_left_C_run",
          "sick_left_C_run",
          "sick_left_C_run",
          "sick_left_C_run"
         ],
         "xaxis": "x8",
         "y": {
          "bdata": "VaZkSnYnH0BIMiVTsjQZQMSvUXB6RCBAE0fNSB7XEUDvxE7sHNAZQGAoB0SGE+8/G50La8SIG0B+v/RLf0UbQIqQBmmwEhtAkSAN0gD5DEA=",
          "dtype": "f8"
         },
         "yaxis": "y8"
        },
        {
         "marker": {
          "color": "black",
          "opacity": 0.5,
          "size": 6
         },
         "mode": "markers",
         "showlegend": false,
         "type": "scatter",
         "x": [
          "sick_left_E_run",
          "sick_left_E_run",
          "sick_left_E_run",
          "sick_left_E_run",
          "sick_left_E_run",
          "sick_left_E_run",
          "sick_left_E_run",
          "sick_left_E_run",
          "sick_left_E_run",
          "sick_left_E_run"
         ],
         "xaxis": "x8",
         "y": {
          "bdata": "IDGtq0R7E0BGsARLUAIcQNXlW75ldw1AcFIohZLXHkAVlVEZlYMVQCU91EOdhhpAJy7f8sFUHkCypBwQ2SsRQMeyepd8GBtAbQd4gEcnFUA=",
          "dtype": "f8"
         },
         "yaxis": "y8"
        },
        {
         "error_y": {
          "array": [
           0.13829038762696225,
           0.055468073392555134,
           0.1046776559604696
          ],
          "type": "data",
          "visible": true
         },
         "marker": {
          "color": [
           "#636EFA",
           "#EF553B",
           "#00CC96"
          ],
          "line": {
           "color": "black",
           "width": 1
          }
         },
         "name": "Mean step acceleration Y during swing - spine 3 std",
         "type": "bar",
         "x": [
          "healthy_left_B_run",
          "sick_left_C_run",
          "sick_left_E_run"
         ],
         "xaxis": "x9",
         "y": [
          0.2837832485648659,
          0.22839981137800444,
          0.206129655607849
         ],
         "yaxis": "y9"
        },
        {
         "marker": {
          "color": "black",
          "opacity": 0.5,
          "size": 6
         },
         "mode": "markers",
         "showlegend": false,
         "type": "scatter",
         "x": [
          "healthy_left_B_run",
          "healthy_left_B_run",
          "healthy_left_B_run",
          "healthy_left_B_run",
          "healthy_left_B_run",
          "healthy_left_B_run",
          "healthy_left_B_run",
          "healthy_left_B_run",
          "healthy_left_B_run",
          "healthy_left_B_run"
         ],
         "xaxis": "x9",
         "y": {
          "bdata": "Mq7tnUxzuj/FrPa+S6XYP13FkWe4YNA/WDVuch1yxT8xK1Cxu9HdP8pioerAq8M/yaV8Ihuiwz9ssilDGYbeP3EPoJTPh9I/KeF0jpO82D8=",
          "dtype": "f8"
         },
         "yaxis": "y9"
        },
        {
         "marker": {
          "color": "black",
          "opacity": 0.5,
          "size": 6
         },
         "mode": "markers",
         "showlegend": false,
         "type": "scatter",
         "x": [
          "sick_left_C_run",
          "sick_left_C_run",
          "sick_left_C_run",
          "sick_left_C_run",
          "sick_left_C_run",
          "sick_left_C_run",
          "sick_left_C_run",
          "sick_left_C_run",
          "sick_left_C_run",
          "sick_left_C_run"
         ],
         "xaxis": "x9",
         "y": {
          "bdata": "Cd72Q0560D8VWxoyrM7BP+fHMwLWhs0/G+50kSJAyz8v55Ok8TjQP+xAHqVOEtI/9KbLAxqfwj+QyAAFb7vQP+nxIEGklNM/5JRDaAr6yD8=",
          "dtype": "f8"
         },
         "yaxis": "y9"
        },
        {
         "marker": {
          "color": "black",
          "opacity": 0.5,
          "size": 6
         },
         "mode": "markers",
         "showlegend": false,
         "type": "scatter",
         "x": [
          "sick_left_E_run",
          "sick_left_E_run",
          "sick_left_E_run",
          "sick_left_E_run",
          "sick_left_E_run",
          "sick_left_E_run",
          "sick_left_E_run",
          "sick_left_E_run",
          "sick_left_E_run",
          "sick_left_E_run"
         ],
         "xaxis": "x9",
         "y": {
          "bdata": "mMXTB3MowT/aWPnUdKrQP25rLlRl0rk/TSRMgp5S1T/f7qLGj9OzP3cQpFtN3r8/BGLOXISR0j+F1FhTdozUP7u3QDzISbw//5vpK37J0z8=",
          "dtype": "f8"
         },
         "yaxis": "y9"
        },
        {
         "error_y": {
          "array": [
           204.96057231194078,
           115.1550028682845,
           67.17499815251665
          ],
          "type": "data",
          "visible": true
         },
         "marker": {
          "color": [
           "#636EFA",
           "#EF553B",
           "#00CC96"
          ],
          "line": {
           "color": "black",
           "width": 1
          }
         },
         "name": "Mean step jerk X at peak - wrist std",
         "type": "bar",
         "x": [
          "healthy_left_B_run",
          "sick_left_C_run",
          "sick_left_E_run"
         ],
         "xaxis": "x10",
         "y": [
          303.57487801007875,
          185.2359204864816,
          159.50162251204998
         ],
         "yaxis": "y10"
        },
        {
         "marker": {
          "color": "black",
          "opacity": 0.5,
          "size": 6
         },
         "mode": "markers",
         "showlegend": false,
         "type": "scatter",
         "x": [
          "healthy_left_B_run",
          "healthy_left_B_run",
          "healthy_left_B_run",
          "healthy_left_B_run",
          "healthy_left_B_run",
          "healthy_left_B_run",
          "healthy_left_B_run",
          "healthy_left_B_run",
          "healthy_left_B_run",
          "healthy_left_B_run"
         ],
         "xaxis": "x10",
         "y": {
          "bdata": "Z4aknkQHe0CIXMzhuNmCQMulfBhdhFlAHqgP/B16U0DsHRgMCXJlQK/0sB8Nk3lAbC4NV1IjaEB1QXn9raSBQDkbF5AGak9AXHg+O04tekA=",
          "dtype": "f8"
         },
         "yaxis": "y10"
        },
        {
         "marker": {
          "color": "black",
          "opacity": 0.5,
          "size": 6
         },
         "mode": "markers",
         "showlegend": false,
         "type": "scatter",
         "x": [
          "sick_left_C_run",
          "sick_left_C_run",
          "sick_left_C_run",
          "sick_left_C_run",
          "sick_left_C_run",
          "sick_left_C_run",
          "sick_left_C_run",
          "sick_left_C_run",
          "sick_left_C_run",
          "sick_left_C_run"
         ],
         "xaxis": "x10",
         "y": {
          "bdata": "Aj5eRQwKbEDclPY+hrlnQEBXg+WSIGRAm6eZUCObOUB6dN1H9CxKQJTOX+fqs3FAKdUb0VcbV0B9/J6soAJiQEp8YoPFsnFAsZJPJYXFeEA=",
          "dtype": "f8"
         },
         "yaxis": "y10"
        },
        {
         "marker": {
          "color": "black",
          "opacity": 0.5,
          "size": 6
         },
         "mode": "markers",
         "showlegend": false,
         "type": "scatter",
         "x": [
          "sick_left_E_run",
          "sick_left_E_run",
          "sick_left_E_run",
          "sick_left_E_run",
          "sick_left_E_run",
          "sick_left_E_run",
          "sick_left_E_run",
          "sick_left_E_run",
          "sick_left_E_run",
          "sick_left_E_run"
         ],
         "xaxis": "x10",
         "y": {
          "bdata": "oR6C6QPGXUDrrpGVf3heQAUWJv2SFGpAen2GOV+xVkDjdua3cXxwQA486YD4PWZA0A8Jmp3uUkBpS5Gm+LlZQKTF9DMn3GZA0eQfTLJsb0A=",
          "dtype": "f8"
         },
         "yaxis": "y10"
        },
        {
         "error_y": {
          "array": [
           796.9145656444929,
           380.47135570547863,
           642.592314835449
          ],
          "type": "data",
          "visible": true
         },
         "marker": {
          "color": [
           "#636EFA",
           "#EF553B",
           "#00CC96"
          ],
          "line": {
           "color": "black",
           "width": 1
          }
         },
         "name": "Mean step jerk X at stance - lHindpaw (m/s^3)",
         "type": "bar",
         "x": [
          "healthy_left_B_run",
          "sick_left_C_run",
          "sick_left_E_run"
         ],
         "xaxis": "x11",
         "y": [
          2322.521547437548,
          1568.6340420611025,
          1460.9765687592985
         ],
         "yaxis": "y11"
        },
        {
         "marker": {
          "color": "black",
          "opacity": 0.5,
          "size": 6
         },
         "mode": "markers",
         "showlegend": false,
         "type": "scatter",
         "x": [
          "healthy_left_B_run",
          "healthy_left_B_run",
          "healthy_left_B_run",
          "healthy_left_B_run",
          "healthy_left_B_run",
          "healthy_left_B_run",
          "healthy_left_B_run",
          "healthy_left_B_run",
          "healthy_left_B_run",
          "healthy_left_B_run"
         ],
         "xaxis": "x11",
         "y": {
          "bdata": "wm4eoW5UlUBs+ZbvszugQG+d2InyHphAlDrWXfD/mkDC5VuujcmnQMq3fFdBaaFAz/ItH8a6oUCbwAhsLoydQLfYiWVO3qlAcOEV3hZrrUA=",
          "dtype": "f8"
         },
         "yaxis": "y11"
        },
        {
         "marker": {
          "color": "black",
          "opacity": 0.5,
          "size": 6
         },
         "mode": "markers",
         "showlegend": false,
         "type": "scatter",
         "x": [
          "sick_left_C_run",
          "sick_left_C_run",
          "sick_left_C_run",
          "sick_left_C_run",
          "sick_left_C_run",
          "sick_left_C_run",
          "sick_left_C_run",
          "sick_left_C_run",
          "sick_left_C_run",
          "sick_left_C_run"
         ],
         "xaxis": "x11",
         "y": {
          "bdata": "bNZmDVh1oEDiFV7h3gqTQNCy1QV9WZxAp32Bo+rmjkBl+ZZneEaZQLREYXH1PpJAK9uKtwlnnkDt5EyOeGyaQHcndiLqGp1A6yIwAgHjk0A=",
          "dtype": "f8"
         },
         "yaxis": "y11"
        },
        {
         "marker": {
          "color": "black",
          "opacity": 0.5,
          "size": 6
         },
         "mode": "markers",
         "showlegend": false,
         "type": "scatter",
         "x": [
          "sick_left_E_run",
          "sick_left_E_run",
          "sick_left_E_run",
          "sick_left_E_run",
          "sick_left_E_run",
          "sick_left_E_run",
          "sick_left_E_run",
          "sick_left_E_run",
          "sick_left_E_run",
          "sick_left_E_run"
         ],
         "xaxis": "x11",
         "y": {
          "bdata": "Vhs+/73DpkClFEphuUyYQJQp4jm6y4dAyE7shEuFkEBeF3cxUlORQI+f+5lMppRA6Fu+D0IVoUDU0GohbtWSQNhRur27WZdAFZZgicpoj0A=",
          "dtype": "f8"
         },
         "yaxis": "y11"
        },
        {
         "error_y": {
          "array": [
           386.82726086568226,
           233.98807787524532,
           250.37493456985115
          ],
          "type": "data",
          "visible": true
         },
         "marker": {
          "color": [
           "#636EFA",
           "#EF553B",
           "#00CC96"
          ],
          "line": {
           "color": "black",
           "width": 1
          }
         },
         "name": "Mean step jerk X at swing - knee (m/s^3)",
         "type": "bar",
         "x": [
          "healthy_left_B_run",
          "sick_left_C_run",
          "sick_left_E_run"
         ],
         "xaxis": "x12",
         "y": [
          482.24255915288416,
          89.32245857705774,
          69.43126922330967
         ],
         "yaxis": "y12"
        },
        {
         "marker": {
          "color": "black",
          "opacity": 0.5,
          "size": 6
         },
         "mode": "markers",
         "showlegend": false,
         "type": "scatter",
         "x": [
          "healthy_left_B_run",
          "healthy_left_B_run",
          "healthy_left_B_run",
          "healthy_left_B_run",
          "healthy_left_B_run",
          "healthy_left_B_run",
          "healthy_left_B_run",
          "healthy_left_B_run",
          "healthy_left_B_run",
          "healthy_left_B_run"
         ],
         "xaxis": "x12",
         "y": {
          "bdata": "LdyrYDxRgEAyxU7sw4mDQENpkAYBqXBAjRc4arP6iEB6+ZZv9WiHQMAGabBuRnlA5wzSIBvhd0BDvMIrp4ORQI0yJVOfxHBAD+h+7km6c8A=",
          "dtype": "f8"
         },
         "yaxis": "y12"
        },
        {
         "marker": {
          "color": "black",
          "opacity": 0.5,
          "size": 6
         },
         "mode": "markers",
         "showlegend": false,
         "type": "scatter",
         "x": [
          "sick_left_C_run",
          "sick_left_C_run",
          "sick_left_C_run",
          "sick_left_C_run",
          "sick_left_C_run",
          "sick_left_C_run",
          "sick_left_C_run",
          "sick_left_C_run",
          "sick_left_C_run",
          "sick_left_C_run"
         ],
         "xaxis": "x12",
         "y": {
          "bdata": "idVDPUywU0DzDnZip+IWwFs1Ck4LfnBA74N+XKl7UkAGvOVb7YNAQLKi1UJydXXALmSO0hdWfkDJT/u0Z+1jwHY7sRMl7WhAHlq+5Re1cEA=",
          "dtype": "f8"
         },
         "yaxis": "y12"
        },
        {
         "marker": {
          "color": "black",
          "opacity": 0.5,
          "size": 6
         },
         "mode": "markers",
         "showlegend": false,
         "type": "scatter",
         "x": [
          "sick_left_E_run",
          "sick_left_E_run",
          "sick_left_E_run",
          "sick_left_E_run",
          "sick_left_E_run",
          "sick_left_E_run",
          "sick_left_E_run",
          "sick_left_E_run",
          "sick_left_E_run",
          "sick_left_E_run"
         ],
         "xaxis": "x12",
         "y": {
          "bdata": "sALPUlReOcD+Z3Im5qdwwGmQBmlIsm9Ac3dxFyhPekAxwAM8HjBowBfdz/3oBlPAEnzLd54Db0B4xgTYXgd6QDtR7V7M/ElA8SErsvzoYMA=",
          "dtype": "f8"
         },
         "yaxis": "y12"
        },
        {
         "error_y": {
          "array": [
           108.1155969587652,
           52.574220817402804,
           43.29096347403899
          ],
          "type": "data",
          "visible": true
         },
         "marker": {
          "color": [
           "#636EFA",
           "#EF553B",
           "#00CC96"
          ],
          "line": {
           "color": "black",
           "width": 1
          }
         },
         "name": "Mean step jerk X during stance - lForepaw std",
         "type": "bar",
         "x": [
          "healthy_left_B_run",
          "sick_left_C_run",
          "sick_left_E_run"
         ],
         "xaxis": "x13",
         "y": [
          217.18563399155977,
          111.28927574207971,
          82.25123379567017
         ],
         "yaxis": "y13"
        },
        {
         "marker": {
          "color": "black",
          "opacity": 0.5,
          "size": 6
         },
         "mode": "markers",
         "showlegend": false,
         "type": "scatter",
         "x": [
          "healthy_left_B_run",
          "healthy_left_B_run",
          "healthy_left_B_run",
          "healthy_left_B_run",
          "healthy_left_B_run",
          "healthy_left_B_run",
          "healthy_left_B_run",
          "healthy_left_B_run",
          "healthy_left_B_run",
          "healthy_left_B_run"
         ],
         "xaxis": "x13",
         "y": {
          "bdata": "ueybeOWgY0CZ3l55gpt0QLh1DUIzSVVA1DOvgpjqXEDvOrfgjF5rQHQJmztBa3JAQmwaQThPYkCxrX/Z6rZ1QI1JjerJ0VtAjd/4SUrXdkA=",
          "dtype": "f8"
         },
         "yaxis": "y13"
        },
        {
         "marker": {
          "color": "black",
          "opacity": 0.5,
          "size": 6
         },
         "mode": "markers",
         "showlegend": false,
         "type": "scatter",
         "x": [
          "sick_left_C_run",
          "sick_left_C_run",
          "sick_left_C_run",
          "sick_left_C_run",
          "sick_left_C_run",
          "sick_left_C_run",
          "sick_left_C_run",
          "sick_left_C_run",
          "sick_left_C_run",
          "sick_left_C_run"
         ],
         "xaxis": "x13",
         "y": {
          "bdata": "0D0VMN7WZ0DOa+mTQKxjQLiFN4S0MGJArOy2/hE1NkBrMBUEKBljQFG8FIVzXVdAbFq01aLkUkC9Xp/NxeZOQMF/N5gezGBAJyW5ZTHEU0A=",
          "dtype": "f8"
         },
         "yaxis": "y13"
        },
        {
         "marker": {
          "color": "black",
          "opacity": 0.5,
          "size": 6
         },
         "mode": "markers",
         "showlegend": false,
         "type": "scatter",
         "x": [
          "sick_left_E_run",
          "sick_left_E_run",
          "sick_left_E_run",
          "sick_left_E_run",
          "sick_left_E_run",
          "sick_left_E_run",
          "sick_left_E_run",
          "sick_left_E_run",
          "sick_left_E_run",
          "sick_left_E_run"
         ],
         "xaxis": "x13",
         "y": {
          "bdata": "vILUOSWyZkDvgDm1B+hTQNh+jQDK/FRAq4C2bN9qR0AMvux5MtZYQAFfYtD37kxA3KZLQbFGXkBLLowYljNHQMYkWeYr+kNAo558ov12UEA=",
          "dtype": "f8"
         },
         "yaxis": "y13"
        },
        {
         "error_y": {
          "array": [
           68.94472723921001,
           27.44825343514754,
           56.403647423898015
          ],
          "type": "data",
          "visible": true
         },
         "marker": {
          "color": [
           "#636EFA",
           "#EF553B",
           "#00CC96"
          ],
          "line": {
           "color": "black",
           "width": 1
          }
         },
         "name": "Mean step jerk X during stance - lHindpaw std",
         "type": "bar",
         "x": [
          "healthy_left_B_run",
          "sick_left_C_run",
          "sick_left_E_run"
         ],
         "xaxis": "x14",
         "y": [
          133.17284907036628,
          69.57823985248186,
          61.68715845159626
         ],
         "yaxis": "y14"
        },
        {
         "marker": {
          "color": "black",
          "opacity": 0.5,
          "size": 6
         },
         "mode": "markers",
         "showlegend": false,
         "type": "scatter",
         "x": [
          "healthy_left_B_run",
          "healthy_left_B_run",
          "healthy_left_B_run",
          "healthy_left_B_run",
          "healthy_left_B_run",
          "healthy_left_B_run",
          "healthy_left_B_run",
          "healthy_left_B_run",
          "healthy_left_B_run",
          "healthy_left_B_run"
         ],
         "xaxis": "x14",
         "y": {
          "bdata": "w32Bljh7YUAmH4s6tr1WQIhYJnluL1JAIPCsv96HWUDI1l5UbeIxQGCNdy3r8GZATL99k8B1WEDx2MVhwwBtQFhx1sQsjmVArDEtM4zKa0A=",
          "dtype": "f8"
         },
         "yaxis": "y14"
        },
        {
         "marker": {
          "color": "black",
          "opacity": 0.5,
          "size": 6
         },
         "mode": "markers",
         "showlegend": false,
         "type": "scatter",
         "x": [
          "sick_left_C_run",
          "sick_left_C_run",
          "sick_left_C_run",
          "sick_left_C_run",
          "sick_left_C_run",
          "sick_left_C_run",
          "sick_left_C_run",
          "sick_left_C_run",
          "sick_left_C_run",
          "sick_left_C_run"
         ],
         "xaxis": "x14",
         "y": {
          "bdata": "MRA6IZlnUkAe7N55sFM9QBIcMBhF8FFAz1g37GNsSUAOi6TkSg9PQE4C/eGy6E1A+Cz51mLES0D+bLwqmoFOQD31coXsYltAmQWnmSyNXkA=",
          "dtype": "f8"
         },
         "yaxis": "y14"
        },
        {
         "marker": {
          "color": "black",
          "opacity": 0.5,
          "size": 6
         },
         "mode": "markers",
         "showlegend": false,
         "type": "scatter",
         "x": [
          "sick_left_E_run",
          "sick_left_E_run",
          "sick_left_E_run",
          "sick_left_E_run",
          "sick_left_E_run",
          "sick_left_E_run",
          "sick_left_E_run",
          "sick_left_E_run",
          "sick_left_E_run",
          "sick_left_E_run"
         ],
         "xaxis": "x14",
         "y": {
          "bdata": "a07zMJv3YkCr0EIeQxVZQEB7pCimeCZANOrQUUohNUC60pOPuiglQJYLZKoqzjZAC2UrvWcWZEDN75TSokZKQDM9jeAhiEFAmbaMwCZeSUA=",
          "dtype": "f8"
         },
         "yaxis": "y14"
        },
        {
         "error_y": {
          "array": [
           87.38921633775985,
           37.4742407100688,
           52.94383942183205
          ],
          "type": "data",
          "visible": true
         },
         "marker": {
          "color": [
           "#636EFA",
           "#EF553B",
           "#00CC96"
          ],
          "line": {
           "color": "black",
           "width": 1
          }
         },
         "name": "Mean step jerk X during stance - wrist std",
         "type": "bar",
         "x": [
          "healthy_left_B_run",
          "sick_left_C_run",
          "sick_left_E_run"
         ],
         "xaxis": "x15",
         "y": [
          168.15775422613575,
          82.66718801599802,
          70.0844172079353
         ],
         "yaxis": "y15"
        },
        {
         "marker": {
          "color": "black",
          "opacity": 0.5,
          "size": 6
         },
         "mode": "markers",
         "showlegend": false,
         "type": "scatter",
         "x": [
          "healthy_left_B_run",
          "healthy_left_B_run",
          "healthy_left_B_run",
          "healthy_left_B_run",
          "healthy_left_B_run",
          "healthy_left_B_run",
          "healthy_left_B_run",
          "healthy_left_B_run",
          "healthy_left_B_run",
          "healthy_left_B_run"
         ],
         "xaxis": "x15",
         "y": {
          "bdata": "y3U59b74VkCfMNTfAe1uQJDUsrPZ50NAFl9NsyoCWEC0L3DPEvFrQFJYy5DKwGxAW1FU5zCdXUAn08nyrmxwQEy+g00MFVhAOoZUHNo0cUA=",
          "dtype": "f8"
         },
         "yaxis": "y15"
        },
        {
         "marker": {
          "color": "black",
          "opacity": 0.5,
          "size": 6
         },
         "mode": "markers",
         "showlegend": false,
         "type": "scatter",
         "x": [
          "sick_left_C_run",
          "sick_left_C_run",
          "sick_left_C_run",
          "sick_left_C_run",
          "sick_left_C_run",
          "sick_left_C_run",
          "sick_left_C_run",
          "sick_left_C_run",
          "sick_left_C_run",
          "sick_left_C_run"
         ],
         "xaxis": "x15",
         "y": {
          "bdata": "V87g5jE9W0CiOyi0M0FaQBFjt6PWkl9AIm+lci+IMEAlMProMfpaQDzGi0ie0ltA9iMtkGnGSUDi6GSttVxSQDAlQajpXFdApDrwVSccQEA=",
          "dtype": "f8"
         },
         "yaxis": "y15"
        },
        {
         "marker": {
          "color": "black",
          "opacity": 0.5,
          "size": 6
         },
         "mode": "markers",
         "showlegend": false,
         "type": "scatter",
         "x": [
          "sick_left_E_run",
          "sick_left_E_run",
          "sick_left_E_run",
          "sick_left_E_run",
          "sick_left_E_run",
          "sick_left_E_run",
          "sick_left_E_run",
          "sick_left_E_run",
          "sick_left_E_run",
          "sick_left_E_run"
         ],
         "xaxis": "x15",
         "y": {
          "bdata": "EssJdYIfZ0A4YXpHnTpVQOuyehBMn1pAhqYBezciNkAewnxSLT5UQH4ZDIuYEkBAhFDnW0UCWUCdT95ip+cjQDJl6FbIXzxAHFUWp8lrSUA=",
          "dtype": "f8"
         },
         "yaxis": "y15"
        },
        {
         "error_y": {
          "array": [
           42.799242878664806,
           17.514570094033694,
           24.69106276060614
          ],
          "type": "data",
          "visible": true
         },
         "marker": {
          "color": [
           "#636EFA",
           "#EF553B",
           "#00CC96"
          ],
          "line": {
           "color": "black",
           "width": 1
          }
         },
         "name": "Mean step jerk X during swing - knee std",
         "type": "bar",
         "x": [
          "healthy_left_B_run",
          "sick_left_C_run",
          "sick_left_E_run"
         ],
         "xaxis": "x16",
         "y": [
          68.22654235186745,
          53.5054158666084,
          40.876421339518934
         ],
         "yaxis": "y16"
        },
        {
         "marker": {
          "color": "black",
          "opacity": 0.5,
          "size": 6
         },
         "mode": "markers",
         "showlegend": false,
         "type": "scatter",
         "x": [
          "healthy_left_B_run",
          "healthy_left_B_run",
          "healthy_left_B_run",
          "healthy_left_B_run",
          "healthy_left_B_run",
          "healthy_left_B_run",
          "healthy_left_B_run",
          "healthy_left_B_run",
          "healthy_left_B_run",
          "healthy_left_B_run"
         ],
         "xaxis": "x16",
         "y": {
          "bdata": "X3CIsh1OUECcDV0TzFdfQPQu6LdvBClASVxsNJFTLkB06VEL/jJbQP1KlFMz8FRAXtAQGxENSUAx0YrWyUhbQHHTJQ3E4VdAZAl3/SuvMEA=",
          "dtype": "f8"
         },
         "yaxis": "y16"
        },
        {
         "marker": {
          "color": "black",
          "opacity": 0.5,
          "size": 6
         },
         "mode": "markers",
         "showlegend": false,
         "type": "scatter",
         "x": [
          "sick_left_C_run",
          "sick_left_C_run",
          "sick_left_C_run",
          "sick_left_C_run",
          "sick_left_C_run",
          "sick_left_C_run",
          "sick_left_C_run",
          "sick_left_C_run",
          "sick_left_C_run",
          "sick_left_C_run"
         ],
         "xaxis": "x16",
         "y": {
          "bdata": "hu7wqLFQS0D+TSzJW7U0QKNA8M4x2U1AXWzzYu61SECcN8y8GdtRQMXVvwYvPkdAZzeLz0J0TkAAPBRGs3BMQAya3rcwrUBAmV1Iz/JiVEA=",
          "dtype": "f8"
         },
         "yaxis": "y16"
        },
        {
         "marker": {
          "color": "black",
          "opacity": 0.5,
          "size": 6
         },
         "mode": "markers",
         "showlegend": false,
         "type": "scatter",
         "x": [
          "sick_left_E_run",
          "sick_left_E_run",
          "sick_left_E_run",
          "sick_left_E_run",
          "sick_left_E_run",
          "sick_left_E_run",
          "sick_left_E_run",
          "sick_left_E_run",
          "sick_left_E_run",
          "sick_left_E_run"
         ],
         "xaxis": "x16",
         "y": {
          "bdata": "HyAHDp4hNUBQIsWQlHlJQG2CFoVVXTxA0rntgXTaMEA1b+jBC6c3QLryS39bGT1ASjBOZUCMV0CxKNkKsehLQDQYFelMKTlAmKm0OH3FT0A=",
          "dtype": "f8"
         },
         "yaxis": "y16"
        },
        {
         "error_y": {
          "array": [
           451.1919611826502,
           500.67829892350744,
           208.1632535080864
          ],
          "type": "data",
          "visible": true
         },
         "marker": {
          "color": [
           "#636EFA",
           "#EF553B",
           "#00CC96"
          ],
          "line": {
           "color": "black",
           "width": 1
          }
         },
         "name": "Mean step jerk Y at peak - lHindfingers (m/s^3)",
         "type": "bar",
         "x": [
          "healthy_left_B_run",
          "sick_left_C_run",
          "sick_left_E_run"
         ],
         "xaxis": "x17",
         "y": [
          -971.5182671772939,
          211.17646510515905,
          329.5154492612022
         ],
         "yaxis": "y17"
        },
        {
         "marker": {
          "color": "black",
          "opacity": 0.5,
          "size": 6
         },
         "mode": "markers",
         "showlegend": false,
         "type": "scatter",
         "x": [
          "healthy_left_B_run",
          "healthy_left_B_run",
          "healthy_left_B_run",
          "healthy_left_B_run",
          "healthy_left_B_run",
          "healthy_left_B_run",
          "healthy_left_B_run",
          "healthy_left_B_run",
          "healthy_left_B_run",
          "healthy_left_B_run"
         ],
         "xaxis": "x17",
         "y": {
          "bdata": "MGv83VQBZsDoiZ3YvSWWwLU0SIPmfoPAxpgA25kdicDClm/5CqyPwIViJ5Zo3YrAnkEapF9jmsA9qIf6R9uDwLmf+3ljIZbAjHqoh3HhkMA=",
          "dtype": "f8"
         },
         "yaxis": "y17"
        },
        {
         "marker": {
          "color": "black",
          "opacity": 0.5,
          "size": 6
         },
         "mode": "markers",
         "showlegend": false,
         "type": "scatter",
         "x": [
          "sick_left_C_run",
          "sick_left_C_run",
          "sick_left_C_run",
          "sick_left_C_run",
          "sick_left_C_run",
          "sick_left_C_run",
          "sick_left_C_run",
          "sick_left_C_run",
          "sick_left_C_run",
          "sick_left_C_run"
         ],
         "xaxis": "x17",
         "y": {
          "bdata": "Dly+ZVXKgEDt8Aqvqm2KQMBSMiXrsHxAGg6tFr4ucUCQ+ZZv7vNwQHAVzJICOpDAKV9ZvTMpd0B3KZRCCWljQEkndmJxHHNAjwvSIO1lUcA=",
          "dtype": "f8"
         },
         "yaxis": "y17"
        },
        {
         "marker": {
          "color": "black",
          "opacity": 0.5,
          "size": 6
         },
         "mode": "markers",
         "showlegend": false,
         "type": "scatter",
         "x": [
          "sick_left_E_run",
          "sick_left_E_run",
          "sick_left_E_run",
          "sick_left_E_run",
          "sick_left_E_run",
          "sick_left_E_run",
          "sick_left_E_run",
          "sick_left_E_run",
          "sick_left_E_run",
          "sick_left_E_run"
         ],
         "xaxis": "x17",
         "y": {
          "bdata": "0CAN0izogEDPYRiG7Vh9QPBJFBZP8WtAjrqpm3zodkBC8QAPCLZcQGO6n/uRVGVA4DlIg1AVOMCJqBnJc1NzQGQyFAikkINAl5u6qdscf0A=",
          "dtype": "f8"
         },
         "yaxis": "y17"
        },
        {
         "error_y": {
          "array": [
           315.78157484138325,
           526.772870069082,
           282.31100159690556
          ],
          "type": "data",
          "visible": true
         },
         "marker": {
          "color": [
           "#636EFA",
           "#EF553B",
           "#00CC96"
          ],
          "line": {
           "color": "black",
           "width": 1
          }
         },
         "name": "Mean step jerk Y at peak - lHindpaw (m/s^3)",
         "type": "bar",
         "x": [
          "healthy_left_B_run",
          "sick_left_C_run",
          "sick_left_E_run"
         ],
         "xaxis": "x18",
         "y": [
          -552.5541841536091,
          152.30021923029406,
          152.63487955760496
         ],
         "yaxis": "y18"
        },
        {
         "marker": {
          "color": "black",
          "opacity": 0.5,
          "size": 6
         },
         "mode": "markers",
         "showlegend": false,
         "type": "scatter",
         "x": [
          "healthy_left_B_run",
          "healthy_left_B_run",
          "healthy_left_B_run",
          "healthy_left_B_run",
          "healthy_left_B_run",
          "healthy_left_B_run",
          "healthy_left_B_run",
          "healthy_left_B_run",
          "healthy_left_B_run",
          "healthy_left_B_run"
         ],
         "xaxis": "x18",
         "y": {
          "bdata": "zfy4MufLesCBVVVVAGiDwINbvuU7DmbA7qwWguKge8CzSoM0iIMlwHWd2EmmwIHATid24kUWkMCr/dzPZSqBwAXdz/3eGY7A0lOTitwCh8A=",
          "dtype": "f8"
         },
         "yaxis": "y18"
        },
        {
         "marker": {
          "color": "black",
          "opacity": 0.5,
          "size": 6
         },
         "mode": "markers",
         "showlegend": false,
         "type": "scatter",
         "x": [
          "sick_left_C_run",
          "sick_left_C_run",
          "sick_left_C_run",
          "sick_left_C_run",
          "sick_left_C_run",
          "sick_left_C_run",
          "sick_left_C_run",
          "sick_left_C_run",
          "sick_left_C_run",
          "sick_left_C_run"
         ],
         "xaxis": "x18",
         "y": {
          "bdata": "ObzCK/DNhEBjmZIpMSxuQBnRv6dKQ31A/3Gvgg37dEDn2ImdCHN6QOwLHDXC1ZHAEmf2yGbqXkCSG7MxG2sEQMtO7MR8wYJAOfAKr2KFaMA=",
          "dtype": "f8"
         },
         "yaxis": "y18"
        },
        {
         "marker": {
          "color": "black",
          "opacity": 0.5,
          "size": 6
         },
         "mode": "markers",
         "showlegend": false,
         "type": "scatter",
         "x": [
          "sick_left_E_run",
          "sick_left_E_run",
          "sick_left_E_run",
          "sick_left_E_run",
          "sick_left_E_run",
          "sick_left_E_run",
          "sick_left_E_run",
          "sick_left_E_run",
          "sick_left_E_run",
          "sick_left_E_run"
         ],
         "xaxis": "x18",
         "y": {
          "bdata": "WIKaCt1FcUBIdVM3ve11QP9+N49QQTTAoed5nt9TgEBSj/d4bS1ywH2xEzuLYmZAj2IndmXxb8A8o4suAs5uQKJ5/f6VM35A53zap51EQUA=",
          "dtype": "f8"
         },
         "yaxis": "y18"
        },
        {
         "error_y": {
          "array": [
           143.99158884213142,
           254.5892511555405,
           236.26361676472882
          ],
          "type": "data",
          "visible": true
         },
         "marker": {
          "color": [
           "#636EFA",
           "#EF553B",
           "#00CC96"
          ],
          "line": {
           "color": "black",
           "width": 1
          }
         },
         "name": "Mean step jerk Y at swing - ankle (m/s^3)",
         "type": "bar",
         "x": [
          "healthy_left_B_run",
          "sick_left_C_run",
          "sick_left_E_run"
         ],
         "xaxis": "x19",
         "y": [
          92.88777349156305,
          -241.30142296948162,
          -324.90361973898996
         ],
         "yaxis": "y19"
        },
        {
         "marker": {
          "color": "black",
          "opacity": 0.5,
          "size": 6
         },
         "mode": "markers",
         "showlegend": false,
         "type": "scatter",
         "x": [
          "healthy_left_B_run",
          "healthy_left_B_run",
          "healthy_left_B_run",
          "healthy_left_B_run",
          "healthy_left_B_run",
          "healthy_left_B_run",
          "healthy_left_B_run",
          "healthy_left_B_run",
          "healthy_left_B_run",
          "healthy_left_B_run"
         ],
         "xaxis": "x19",
         "y": {
          "bdata": "ajK3oT1YYUD2R4M04E5aQCD5lm990nFAdt1hTJBmYUCzf8u37J9MQLxUVVW70EJABZdv+Z4YZcDAaW3WBmMlwKANO7Gz/C9A00M91NuRdEA=",
          "dtype": "f8"
         },
         "yaxis": "y19"
        },
        {
         "marker": {
          "color": "black",
          "opacity": 0.5,
          "size": 6
         },
         "mode": "markers",
         "showlegend": false,
         "type": "scatter",
         "x": [
          "sick_left_C_run",
          "sick_left_C_run",
          "sick_left_C_run",
          "sick_left_C_run",
          "sick_left_C_run",
          "sick_left_C_run",
          "sick_left_C_run",
          "sick_left_C_run",
          "sick_left_C_run",
          "sick_left_C_run"
         ],
         "xaxis": "x19",
         "y": {
          "bdata": "1Ld8ywSqe8CRLAIjcB0/wLbzjkS6cnrAbPmWb9mycUAcDdLg3dl5wNkapEFWynHAAYjpw7TG8j+aUPu0q5powPi3fMtBN4DATHIcxzYneMA=",
          "dtype": "f8"
         },
         "yaxis": "y19"
        },
        {
         "marker": {
          "color": "black",
          "opacity": 0.5,
          "size": 6
         },
         "mode": "markers",
         "showlegend": false,
         "type": "scatter",
         "x": [
          "sick_left_E_run",
          "sick_left_E_run",
          "sick_left_E_run",
          "sick_left_E_run",
          "sick_left_E_run",
          "sick_left_E_run",
          "sick_left_E_run",
          "sick_left_E_run",
          "sick_left_E_run",
          "sick_left_E_run"
         ],
         "xaxis": "x19",
         "y": {
          "bdata": "+yUPBhyPgsBCmH7pP0p+wCDFTuz4DIXAcK/1WvfCacCS0uRMTo4aQCSv8AoDeWXAALhO7CQpHUDj3GFM7N99wEoGaZC2P3bAYSqjMmivcsA=",
          "dtype": "f8"
         },
         "yaxis": "y19"
        },
        {
         "error_y": {
          "array": [
           0.06224739360278528,
           0.026939574433800986,
           0.026816922898645835
          ],
          "type": "data",
          "visible": true
         },
         "marker": {
          "color": [
           "#636EFA",
           "#EF553B",
           "#00CC96"
          ],
          "line": {
           "color": "black",
           "width": 1
          }
         },
         "name": "Mean step velocity X at stance - lHindpaw (m/s)",
         "type": "bar",
         "x": [
          "healthy_left_B_run",
          "sick_left_C_run",
          "sick_left_E_run"
         ],
         "xaxis": "x20",
         "y": [
          0.09406504733251858,
          0.03399004023646139,
          0.033894050868033376
         ],
         "yaxis": "y20"
        },
        {
         "marker": {
          "color": "black",
          "opacity": 0.5,
          "size": 6
         },
         "mode": "markers",
         "showlegend": false,
         "type": "scatter",
         "x": [
          "healthy_left_B_run",
          "healthy_left_B_run",
          "healthy_left_B_run",
          "healthy_left_B_run",
          "healthy_left_B_run",
          "healthy_left_B_run",
          "healthy_left_B_run",
          "healthy_left_B_run",
          "healthy_left_B_run",
          "healthy_left_B_run"
         ],
         "xaxis": "x20",
         "y": {
          "bdata": "zrEwaPe7pj+iNtBpAy6xPxvJjdzInaI/cEG7Pyp0vD9O9w6JatjLP50P/MCPrKE/MWfZ/DM8xz8m1EM91C+xP5bbuq3b1LE/KuCtiDV7vD8=",
          "dtype": "f8"
         },
         "yaxis": "y20"
        },
        {
         "marker": {
          "color": "black",
          "opacity": 0.5,
          "size": 6
         },
         "mode": "markers",
         "showlegend": false,
         "type": "scatter",
         "x": [
          "sick_left_C_run",
          "sick_left_C_run",
          "sick_left_C_run",
          "sick_left_C_run",
          "sick_left_C_run",
          "sick_left_C_run",
          "sick_left_C_run",
          "sick_left_C_run",
          "sick_left_C_run",
          "sick_left_C_run"
         ],
         "xaxis": "x20",
         "y": {
          "bdata": "B9/yLV9TpD/rNjUg0JaBvwUf8REfCbA/HDTM8dZ9sj9zSIM0SPeMP44siGtbApA/wjo2AewBrz8W1mu91htxPyciIiIilKU/DE3QBE0Toz8=",
          "dtype": "f8"
         },
         "yaxis": "y20"
        },
        {
         "marker": {
          "color": "black",
          "opacity": 0.5,
          "size": 6
         },
         "mode": "markers",
         "showlegend": false,
         "type": "scatter",
         "x": [
          "sick_left_E_run",
          "sick_left_E_run",
          "sick_left_E_run",
          "sick_left_E_run",
          "sick_left_E_run",
          "sick_left_E_run",
          "sick_left_E_run",
          "sick_left_E_run",
          "sick_left_E_run",
          "sick_left_E_run"
         ],
         "xaxis": "x20",
         "y": {
          "bdata": "W6y1H0qkpz8HXdM1XUOdP8hP5OcJtZc/pRmbsRkrmj/4cA7ncA6XP1pVVVVV05E/JKRBGqT5uj+SQycX/n+GPzmL2y5QVqE/Iy3WYi3ymT8=",
          "dtype": "f8"
         },
         "yaxis": "y20"
        },
        {
         "error_y": {
          "array": [
           0.045120888905691096,
           0.01571799525799468,
           0.018347296113761343
          ],
          "type": "data",
          "visible": true
         },
         "marker": {
          "color": [
           "#636EFA",
           "#EF553B",
           "#00CC96"
          ],
          "line": {
           "color": "black",
           "width": 1
          }
         },
         "name": "Mean step velocity X at swing - hip std",
         "type": "bar",
         "x": [
          "healthy_left_B_run",
          "sick_left_C_run",
          "sick_left_E_run"
         ],
         "xaxis": "x21",
         "y": [
          0.07352854389723969,
          0.03419386000560202,
          0.030162762779923368
         ],
         "yaxis": "y21"
        },
        {
         "marker": {
          "color": "black",
          "opacity": 0.5,
          "size": 6
         },
         "mode": "markers",
         "showlegend": false,
         "type": "scatter",
         "x": [
          "healthy_left_B_run",
          "healthy_left_B_run",
          "healthy_left_B_run",
          "healthy_left_B_run",
          "healthy_left_B_run",
          "healthy_left_B_run",
          "healthy_left_B_run",
          "healthy_left_B_run",
          "healthy_left_B_run",
          "healthy_left_B_run"
         ],
         "xaxis": "x21",
         "y": {
          "bdata": "RhGHcZZwrz/7rzmUpZC/Pw48XFpVhXY/PshFI1DYtT8baL975Pt9PzfIMIZuabs/NGLzFcxcpz8FwSTl0RbBP7CSttJf6q8/E4goz62Xuj8=",
          "dtype": "f8"
         },
         "yaxis": "y21"
        },
        {
         "marker": {
          "color": "black",
          "opacity": 0.5,
          "size": 6
         },
         "mode": "markers",
         "showlegend": false,
         "type": "scatter",
         "x": [
          "sick_left_C_run",
          "sick_left_C_run",
          "sick_left_C_run",
          "sick_left_C_run",
          "sick_left_C_run",
          "sick_left_C_run",
          "sick_left_C_run",
          "sick_left_C_run",
          "sick_left_C_run",
          "sick_left_C_run"
         ],
         "xaxis": "x21",
         "y": {
          "bdata": "0SMjZuwepD+vU50zemKoP+YQRRDeUKA/No9tTk5ckj8IbYvHZvmnP4Txzd+WNZ4/gufCJtB2kj8nnVsqRL+XP8KWGL/0BJY/2ugVeDjwsD8=",
          "dtype": "f8"
         },
         "yaxis": "y21"
        },
        {
         "marker": {
          "color": "black",
          "opacity": 0.5,
          "size": 6
         },
         "mode": "markers",
         "showlegend": false,
         "type": "scatter",
         "x": [
          "sick_left_E_run",
          "sick_left_E_run",
          "sick_left_E_run",
          "sick_left_E_run",
          "sick_left_E_run",
          "sick_left_E_run",
          "sick_left_E_run",
          "sick_left_E_run",
          "sick_left_E_run",
          "sick_left_E_run"
         ],
         "xaxis": "x21",
         "y": {
          "bdata": "BbKe+IwYhT/khJsXNZ2uP03a10k1DpA/VW8XWle7mT8eq7/i6wWkP1pcs5dfa40/NwLiGaG6rz/bS2b/3yqbP523nf5hs5E/FCOkMEscoD8=",
          "dtype": "f8"
         },
         "yaxis": "y21"
        },
        {
         "error_y": {
          "array": [
           0.01535346665958418,
           0.008055118342744074,
           0.005282149300399375
          ],
          "type": "data",
          "visible": true
         },
         "marker": {
          "color": [
           "#636EFA",
           "#EF553B",
           "#00CC96"
          ],
          "line": {
           "color": "black",
           "width": 1
          }
         },
         "name": "Mean step velocity X during stance - lHindpaw (m/s)",
         "type": "bar",
         "x": [
          "healthy_left_B_run",
          "sick_left_C_run",
          "sick_left_E_run"
         ],
         "xaxis": "x22",
         "y": [
          0.05181245925603308,
          0.03041741850414652,
          0.02716688690746185
         ],
         "yaxis": "y22"
        },
        {
         "marker": {
          "color": "black",
          "opacity": 0.5,
          "size": 6
         },
         "mode": "markers",
         "showlegend": false,
         "type": "scatter",
         "x": [
          "healthy_left_B_run",
          "healthy_left_B_run",
          "healthy_left_B_run",
          "healthy_left_B_run",
          "healthy_left_B_run",
          "healthy_left_B_run",
          "healthy_left_B_run",
          "healthy_left_B_run",
          "healthy_left_B_run",
          "healthy_left_B_run"
         ],
         "xaxis": "x22",
         "y": {
          "bdata": "mDw1MnEJoT+IHVEPoMOvP+lMSdDtkqI/Dj0HVsASqj9ON20nepWpPyc98fdsnKI/Db6O03x3sT/OTiPZcIyuP3cMSRlNgKU/UDHtI6FTtD8=",
          "dtype": "f8"
         },
         "yaxis": "y22"
        },
        {
         "marker": {
          "color": "black",
          "opacity": 0.5,
          "size": 6
         },
         "mode": "markers",
         "showlegend": false,
         "type": "scatter",
         "x": [
          "sick_left_C_run",
          "sick_left_C_run",
          "sick_left_C_run",
          "sick_left_C_run",
          "sick_left_C_run",
          "sick_left_C_run",
          "sick_left_C_run",
          "sick_left_C_run",
          "sick_left_C_run",
          "sick_left_C_run"
         ],
         "xaxis": "x22",
         "y": {
          "bdata": "rJwoCipKlj8P1+V6/vaWP0D4yqA0DqQ/0kn6GGGqmz91ZjxvxImXP5SLSE0rCJ8/IdLZ29HjpD/20++rmFaYP96WoIJmm6U/Wp+Q/0FFoT8=",
          "dtype": "f8"
         },
         "yaxis": "y22"
        },
        {
         "marker": {
          "color": "black",
          "opacity": 0.5,
          "size": 6
         },
         "mode": "markers",
         "showlegend": false,
         "type": "scatter",
         "x": [
          "sick_left_E_run",
          "sick_left_E_run",
          "sick_left_E_run",
          "sick_left_E_run",
          "sick_left_E_run",
          "sick_left_E_run",
          "sick_left_E_run",
          "sick_left_E_run",
          "sick_left_E_run",
          "sick_left_E_run"
         ],
         "xaxis": "x22",
         "y": {
          "bdata": "M0s7/Um0oT+0611aGXObP4NsM3nIRZw/F1x64+lBnD8hcpNFPR+WP2P4vge9NZg/gVVGkQFhoD8Q8tvw1z+VP1myr6R8l5Y/rRaSvFXvoT8=",
          "dtype": "f8"
         },
         "yaxis": "y22"
        },
        {
         "error_y": {
          "array": [
           0.03417861781119188,
           0.022409119578989656,
           0.02795726461108341
          ],
          "type": "data",
          "visible": true
         },
         "marker": {
          "color": [
           "#636EFA",
           "#EF553B",
           "#00CC96"
          ],
          "line": {
           "color": "black",
           "width": 1
          }
         },
         "name": "Mean step velocity Y at peak - ankle (m/s)",
         "type": "bar",
         "x": [
          "healthy_left_B_run",
          "sick_left_C_run",
          "sick_left_E_run"
         ],
         "xaxis": "x23",
         "y": [
          -0.061799074826540644,
          -0.1118386405452491,
          -0.11205466038055997
         ],
         "yaxis": "y23"
        },
        {
         "marker": {
          "color": "black",
          "opacity": 0.5,
          "size": 6
         },
         "mode": "markers",
         "showlegend": false,
         "type": "scatter",
         "x": [
          "healthy_left_B_run",
          "healthy_left_B_run",
          "healthy_left_B_run",
          "healthy_left_B_run",
          "healthy_left_B_run",
          "healthy_left_B_run",
          "healthy_left_B_run",
          "healthy_left_B_run",
          "healthy_left_B_run",
          "healthy_left_B_run"
         ],
         "xaxis": "x23",
         "y": {
          "bdata": "ViXlgMi4o7+T8lwCWZW2vwCHolvtUrW/nskmm2wiqr8gDdIgDey9v+HIjdzI9aO/WO0IwlP5ub8R4Q7u4K6Yvx190id9tq6/ozqcwzm8j78=",
          "dtype": "f8"
         },
         "yaxis": "y23"
        },
        {
         "marker": {
          "color": "black",
          "opacity": 0.5,
          "size": 6
         },
         "mode": "markers",
         "showlegend": false,
         "type": "scatter",
         "x": [
          "sick_left_C_run",
          "sick_left_C_run",
          "sick_left_C_run",
          "sick_left_C_run",
          "sick_left_C_run",
          "sick_left_C_run",
          "sick_left_C_run",
          "sick_left_C_run",
          "sick_left_C_run",
          "sick_left_C_run"
         ],
         "xaxis": "x23",
         "y": {
          "bdata": "fVAIhVBdwb+odgThqWPAvxchZ8fL1bu/DLBdT8dqvL9jz/Zsz163v3oqHJSH9LS/nzlzvXTcvr+flVqpleC7v1DnQeuAJsO/DadyKqcutb8=",
          "dtype": "f8"
         },
         "yaxis": "y23"
        },
        {
         "marker": {
          "color": "black",
          "opacity": 0.5,
          "size": 6
         },
         "mode": "markers",
         "showlegend": false,
         "type": "scatter",
         "x": [
          "sick_left_E_run",
          "sick_left_E_run",
          "sick_left_E_run",
          "sick_left_E_run",
          "sick_left_E_run",
          "sick_left_E_run",
          "sick_left_E_run",
          "sick_left_E_run",
          "sick_left_E_run",
          "sick_left_E_run"
         ],
         "xaxis": "x23",
         "y": {
          "bdata": "4ni1zT2+wr/BJEzCJL3Cv0QnF/4PZru/sRM7sRNPvr/neq3Xegezv3xmZmZmp7u/JgmTMAlmsr/ESF4qvQe4v5lmuHLwx8K/ILMxG7ODu78=",
          "dtype": "f8"
         },
         "yaxis": "y23"
        },
        {
         "error_y": {
          "array": [
           0.02873441822630655,
           0.017701108074176505,
           0.015301146365936246
          ],
          "type": "data",
          "visible": true
         },
         "marker": {
          "color": [
           "#636EFA",
           "#EF553B",
           "#00CC96"
          ],
          "line": {
           "color": "black",
           "width": 1
          }
         },
         "name": "Mean step velocity Y at stance - lHindfingers (m/s)",
         "type": "bar",
         "x": [
          "healthy_left_B_run",
          "sick_left_C_run",
          "sick_left_E_run"
         ],
         "xaxis": "x24",
         "y": [
          -0.09544268576328811,
          -0.06679620821309705,
          -0.0560591697316668
         ],
         "yaxis": "y24"
        },
        {
         "marker": {
          "color": "black",
          "opacity": 0.5,
          "size": 6
         },
         "mode": "markers",
         "showlegend": false,
         "type": "scatter",
         "x": [
          "healthy_left_B_run",
          "healthy_left_B_run",
          "healthy_left_B_run",
          "healthy_left_B_run",
          "healthy_left_B_run",
          "healthy_left_B_run",
          "healthy_left_B_run",
          "healthy_left_B_run",
          "healthy_left_B_run",
          "healthy_left_B_run"
         ],
         "xaxis": "x24",
         "y": {
          "bdata": "+cyKlfvEqb8VS36x5Ae6v4Hw1BuKprG/t/UVSCQIur9aJ3ZiJ2K8v2ASJmFSELO/V1DS8elYw7/HsAzLsK61v3bgB37gzra/XQxxu2Eav78=",
          "dtype": "f8"
         },
         "yaxis": "y24"
        },
        {
         "marker": {
          "color": "black",
          "opacity": 0.5,
          "size": 6
         },
         "mode": "markers",
         "showlegend": false,
         "type": "scatter",
         "x": [
          "sick_left_C_run",
          "sick_left_C_run",
          "sick_left_C_run",
          "sick_left_C_run",
          "sick_left_C_run",
          "sick_left_C_run",
          "sick_left_C_run",
          "sick_left_C_run",
          "sick_left_C_run",
          "sick_left_C_run"
         ],
         "xaxis": "x24",
         "y": {
          "bdata": "HlqiJVqRuL8YmqAJmkCsv9ShcW9MnKy/KDsQeFL9rb9Q13RN1/qkv4mltc683re/ZCBpuQyOsb8MkAAJkBisv+ml+CPZ9bC/E8MyLMMUtL8=",
          "dtype": "f8"
         },
         "yaxis": "y24"
        },
        {
         "marker": {
          "color": "black",
          "opacity": 0.5,
          "size": 6
         },
         "mode": "markers",
         "showlegend": false,
         "type": "scatter",
         "x": [
          "sick_left_E_run",
          "sick_left_E_run",
          "sick_left_E_run",
          "sick_left_E_run",
          "sick_left_E_run",
          "sick_left_E_run",
          "sick_left_E_run",
          "sick_left_E_run",
          "sick_left_E_run",
          "sick_left_E_run"
         ],
         "xaxis": "x24",
         "y": {
          "bdata": "y5pc3RB/p79qgzd4g++mvxw0K1buE6y/qd7pnd5tpr/eaI3WaCWnvybbsz3bX7K/KGESJuFXsr8MMI0B0yi1v2ZSsKID9KK/xXmbt3kdsL8=",
          "dtype": "f8"
         },
         "yaxis": "y24"
        },
        {
         "error_y": {
          "array": [
           0.002063409811351911,
           0.0009942850672231343,
           0.0007623266238437521
          ],
          "type": "data",
          "visible": true
         },
         "marker": {
          "color": [
           "#636EFA",
           "#EF553B",
           "#00CC96"
          ],
          "line": {
           "color": "black",
           "width": 1
          }
         },
         "name": "Mean step velocity Y during stance - lHindfingers std",
         "type": "bar",
         "x": [
          "healthy_left_B_run",
          "sick_left_C_run",
          "sick_left_E_run"
         ],
         "xaxis": "x25",
         "y": [
          0.00309489088655763,
          0.0017945335237573498,
          0.0017234566509864598
         ],
         "yaxis": "y25"
        },
        {
         "marker": {
          "color": "black",
          "opacity": 0.5,
          "size": 6
         },
         "mode": "markers",
         "showlegend": false,
         "type": "scatter",
         "x": [
          "healthy_left_B_run",
          "healthy_left_B_run",
          "healthy_left_B_run",
          "healthy_left_B_run",
          "healthy_left_B_run",
          "healthy_left_B_run",
          "healthy_left_B_run",
          "healthy_left_B_run",
          "healthy_left_B_run",
          "healthy_left_B_run"
         ],
         "xaxis": "x25",
         "y": {
          "bdata": "QNszHO+XcT87IJKpo51aP29hyYviK3A/xakOS9HMPz/oo41OxqBYP8Ig5CcLSFo/gd2jAEiYdj/gmaUwGPxUP1bqIRWJxHA/CpYsUDUGez8=",
          "dtype": "f8"
         },
         "yaxis": "y25"
        },
        {
         "marker": {
          "color": "black",
          "opacity": 0.5,
          "size": 6
         },
         "mode": "markers",
         "showlegend": false,
         "type": "scatter",
         "x": [
          "sick_left_C_run",
          "sick_left_C_run",
          "sick_left_C_run",
          "sick_left_C_run",
          "sick_left_C_run",
          "sick_left_C_run",
          "sick_left_C_run",
          "sick_left_C_run",
          "sick_left_C_run",
          "sick_left_C_run"
         ],
         "xaxis": "x25",
         "y": {
          "bdata": "/JWjPf69cD/HZKUFTOBRP/pCE5LY4lc/4+UTGZ+/Zj+MHVCwLrlMP/Pfs5/ALEo/iuXgtKFyYD811hGfC29WP8DfOdAMr1w/Vu8EvIFTXD8=",
          "dtype": "f8"
         },
         "yaxis": "y25"
        },
        {
         "marker": {
          "color": "black",
          "opacity": 0.5,
          "size": 6
         },
         "mode": "markers",
         "showlegend": false,
         "type": "scatter",
         "x": [
          "sick_left_E_run",
          "sick_left_E_run",
          "sick_left_E_run",
          "sick_left_E_run",
          "sick_left_E_run",
          "sick_left_E_run",
          "sick_left_E_run",
          "sick_left_E_run",
          "sick_left_E_run",
          "sick_left_E_run"
         ],
         "xaxis": "x25",
         "y": {
          "bdata": "/uEZjjd5Vj+tLoUDhPNjP5znyruksVo/c+V+xceOVj+Or3X9EfJYPzJbDyb/YmA/9gU7JTi2YD9cyDbJ/B9PP7dXYs10ZEQ/VUXGtc7raj8=",
          "dtype": "f8"
         },
         "yaxis": "y25"
        }
       ],
       "layout": {
        "annotations": [
         {
          "font": {
           "size": 16
          },
          "showarrow": false,
          "text": "angle during swing knee (°)",
          "x": 0.10625,
          "xanchor": "center",
          "xref": "paper",
          "y": 0.9999999999999999,
          "yanchor": "bottom",
          "yref": "paper"
         },
         {
          "font": {
           "size": 16
          },
          "showarrow": false,
          "text": "angle excursion ankle (°)",
          "x": 0.36875,
          "xanchor": "center",
          "xref": "paper",
          "y": 0.9999999999999999,
          "yanchor": "bottom",
          "yref": "paper"
         },
         {
          "font": {
           "size": 16
          },
          "showarrow": false,
          "text": "angle value knee (°)",
          "x": 0.6312500000000001,
          "xanchor": "center",
          "xref": "paper",
          "y": 0.9999999999999999,
          "yanchor": "bottom",
          "yref": "paper"
         },
         {
          "font": {
           "size": 16
          },
          "showarrow": false,
          "text": "phase acceleration at stance knee std",
          "x": 0.89375,
          "xanchor": "center",
          "xref": "paper",
          "y": 0.9999999999999999,
          "yanchor": "bottom",
          "yref": "paper"
         },
         {
          "font": {
           "size": 16
          },
          "showarrow": false,
          "text": "phase excursion ankle (°)",
          "x": 0.10625,
          "xanchor": "center",
          "xref": "paper",
          "y": 0.8469387755102039,
          "yanchor": "bottom",
          "yref": "paper"
         },
         {
          "font": {
           "size": 16
          },
          "showarrow": false,
          "text": "phase value ankle std",
          "x": 0.36875,
          "xanchor": "center",
          "xref": "paper",
          "y": 0.8469387755102039,
          "yanchor": "bottom",
          "yref": "paper"
         },
         {
          "font": {
           "size": 16
          },
          "showarrow": false,
          "text": "step acceleration X during swing - knee std",
          "x": 0.6312500000000001,
          "xanchor": "center",
          "xref": "paper",
          "y": 0.8469387755102039,
          "yanchor": "bottom",
          "yref": "paper"
         },
         {
          "font": {
           "size": 16
          },
          "showarrow": false,
          "text": "step acceleration Y at swing - lHindpaw (m/s^2)",
          "x": 0.89375,
          "xanchor": "center",
          "xref": "paper",
          "y": 0.8469387755102039,
          "yanchor": "bottom",
          "yref": "paper"
         },
         {
          "font": {
           "size": 16
          },
          "showarrow": false,
          "text": "step acceleration Y during swing - spine 3 std",
          "x": 0.10625,
          "xanchor": "center",
          "xref": "paper",
          "y": 0.6938775510204082,
          "yanchor": "bottom",
          "yref": "paper"
         },
         {
          "font": {
           "size": 16
          },
          "showarrow": false,
          "text": "step jerk X at peak - wrist std",
          "x": 0.36875,
          "xanchor": "center",
          "xref": "paper",
          "y": 0.6938775510204082,
          "yanchor": "bottom",
          "yref": "paper"
         },
         {
          "font": {
           "size": 16
          },
          "showarrow": false,
          "text": "step jerk X at stance - lHindpaw (m/s^3)",
          "x": 0.6312500000000001,
          "xanchor": "center",
          "xref": "paper",
          "y": 0.6938775510204082,
          "yanchor": "bottom",
          "yref": "paper"
         },
         {
          "font": {
           "size": 16
          },
          "showarrow": false,
          "text": "step jerk X at swing - knee (m/s^3)",
          "x": 0.89375,
          "xanchor": "center",
          "xref": "paper",
          "y": 0.6938775510204082,
          "yanchor": "bottom",
          "yref": "paper"
         },
         {
          "font": {
           "size": 16
          },
          "showarrow": false,
          "text": "step jerk X during stance - lForepaw std",
          "x": 0.10625,
          "xanchor": "center",
          "xref": "paper",
          "y": 0.5408163265306122,
          "yanchor": "bottom",
          "yref": "paper"
         },
         {
          "font": {
           "size": 16
          },
          "showarrow": false,
          "text": "step jerk X during stance - lHindpaw std",
          "x": 0.36875,
          "xanchor": "center",
          "xref": "paper",
          "y": 0.5408163265306122,
          "yanchor": "bottom",
          "yref": "paper"
         },
         {
          "font": {
           "size": 16
          },
          "showarrow": false,
          "text": "step jerk X during stance - wrist std",
          "x": 0.6312500000000001,
          "xanchor": "center",
          "xref": "paper",
          "y": 0.5408163265306122,
          "yanchor": "bottom",
          "yref": "paper"
         },
         {
          "font": {
           "size": 16
          },
          "showarrow": false,
          "text": "step jerk X during swing - knee std",
          "x": 0.89375,
          "xanchor": "center",
          "xref": "paper",
          "y": 0.5408163265306122,
          "yanchor": "bottom",
          "yref": "paper"
         },
         {
          "font": {
           "size": 16
          },
          "showarrow": false,
          "text": "step jerk Y at peak - lHindfingers (m/s^3)",
          "x": 0.10625,
          "xanchor": "center",
          "xref": "paper",
          "y": 0.3877551020408163,
          "yanchor": "bottom",
          "yref": "paper"
         },
         {
          "font": {
           "size": 16
          },
          "showarrow": false,
          "text": "step jerk Y at peak - lHindpaw (m/s^3)",
          "x": 0.36875,
          "xanchor": "center",
          "xref": "paper",
          "y": 0.3877551020408163,
          "yanchor": "bottom",
          "yref": "paper"
         },
         {
          "font": {
           "size": 16
          },
          "showarrow": false,
          "text": "step jerk Y at swing - ankle (m/s^3)",
          "x": 0.6312500000000001,
          "xanchor": "center",
          "xref": "paper",
          "y": 0.3877551020408163,
          "yanchor": "bottom",
          "yref": "paper"
         },
         {
          "font": {
           "size": 16
          },
          "showarrow": false,
          "text": "step velocity X at stance - lHindpaw (m/s)",
          "x": 0.89375,
          "xanchor": "center",
          "xref": "paper",
          "y": 0.3877551020408163,
          "yanchor": "bottom",
          "yref": "paper"
         },
         {
          "font": {
           "size": 16
          },
          "showarrow": false,
          "text": "step velocity X at swing - hip std",
          "x": 0.10625,
          "xanchor": "center",
          "xref": "paper",
          "y": 0.2346938775510204,
          "yanchor": "bottom",
          "yref": "paper"
         },
         {
          "font": {
           "size": 16
          },
          "showarrow": false,
          "text": "step velocity X during stance - lHindpaw (m/s)",
          "x": 0.36875,
          "xanchor": "center",
          "xref": "paper",
          "y": 0.2346938775510204,
          "yanchor": "bottom",
          "yref": "paper"
         },
         {
          "font": {
           "size": 16
          },
          "showarrow": false,
          "text": "step velocity Y at peak - ankle (m/s)",
          "x": 0.6312500000000001,
          "xanchor": "center",
          "xref": "paper",
          "y": 0.2346938775510204,
          "yanchor": "bottom",
          "yref": "paper"
         },
         {
          "font": {
           "size": 16
          },
          "showarrow": false,
          "text": "step velocity Y at stance - lHindfingers (m/s)",
          "x": 0.89375,
          "xanchor": "center",
          "xref": "paper",
          "y": 0.2346938775510204,
          "yanchor": "bottom",
          "yref": "paper"
         },
         {
          "font": {
           "size": 16
          },
          "showarrow": false,
          "text": "step velocity Y during stance - lHindfingers std",
          "x": 0.10625,
          "xanchor": "center",
          "xref": "paper",
          "y": 0.08163265306122448,
          "yanchor": "bottom",
          "yref": "paper"
         }
        ],
        "height": 3500,
        "plot_bgcolor": "rgba(0,0,0,0)",
        "showlegend": false,
        "template": {
         "data": {
          "bar": [
           {
            "error_x": {
             "color": "#2a3f5f"
            },
            "error_y": {
             "color": "#2a3f5f"
            },
            "marker": {
             "line": {
              "color": "#E5ECF6",
              "width": 0.5
             },
             "pattern": {
              "fillmode": "overlay",
              "size": 10,
              "solidity": 0.2
             }
            },
            "type": "bar"
           }
          ],
          "barpolar": [
           {
            "marker": {
             "line": {
              "color": "#E5ECF6",
              "width": 0.5
             },
             "pattern": {
              "fillmode": "overlay",
              "size": 10,
              "solidity": 0.2
             }
            },
            "type": "barpolar"
           }
          ],
          "carpet": [
           {
            "aaxis": {
             "endlinecolor": "#2a3f5f",
             "gridcolor": "white",
             "linecolor": "white",
             "minorgridcolor": "white",
             "startlinecolor": "#2a3f5f"
            },
            "baxis": {
             "endlinecolor": "#2a3f5f",
             "gridcolor": "white",
             "linecolor": "white",
             "minorgridcolor": "white",
             "startlinecolor": "#2a3f5f"
            },
            "type": "carpet"
           }
          ],
          "choropleth": [
           {
            "colorbar": {
             "outlinewidth": 0,
             "ticks": ""
            },
            "type": "choropleth"
           }
          ],
          "contour": [
           {
            "colorbar": {
             "outlinewidth": 0,
             "ticks": ""
            },
            "colorscale": [
             [
              0,
              "#0d0887"
             ],
             [
              0.1111111111111111,
              "#46039f"
             ],
             [
              0.2222222222222222,
              "#7201a8"
             ],
             [
              0.3333333333333333,
              "#9c179e"
             ],
             [
              0.4444444444444444,
              "#bd3786"
             ],
             [
              0.5555555555555556,
              "#d8576b"
             ],
             [
              0.6666666666666666,
              "#ed7953"
             ],
             [
              0.7777777777777778,
              "#fb9f3a"
             ],
             [
              0.8888888888888888,
              "#fdca26"
             ],
             [
              1,
              "#f0f921"
             ]
            ],
            "type": "contour"
           }
          ],
          "contourcarpet": [
           {
            "colorbar": {
             "outlinewidth": 0,
             "ticks": ""
            },
            "type": "contourcarpet"
           }
          ],
          "heatmap": [
           {
            "colorbar": {
             "outlinewidth": 0,
             "ticks": ""
            },
            "colorscale": [
             [
              0,
              "#0d0887"
             ],
             [
              0.1111111111111111,
              "#46039f"
             ],
             [
              0.2222222222222222,
              "#7201a8"
             ],
             [
              0.3333333333333333,
              "#9c179e"
             ],
             [
              0.4444444444444444,
              "#bd3786"
             ],
             [
              0.5555555555555556,
              "#d8576b"
             ],
             [
              0.6666666666666666,
              "#ed7953"
             ],
             [
              0.7777777777777778,
              "#fb9f3a"
             ],
             [
              0.8888888888888888,
              "#fdca26"
             ],
             [
              1,
              "#f0f921"
             ]
            ],
            "type": "heatmap"
           }
          ],
          "histogram": [
           {
            "marker": {
             "pattern": {
              "fillmode": "overlay",
              "size": 10,
              "solidity": 0.2
             }
            },
            "type": "histogram"
           }
          ],
          "histogram2d": [
           {
            "colorbar": {
             "outlinewidth": 0,
             "ticks": ""
            },
            "colorscale": [
             [
              0,
              "#0d0887"
             ],
             [
              0.1111111111111111,
              "#46039f"
             ],
             [
              0.2222222222222222,
              "#7201a8"
             ],
             [
              0.3333333333333333,
              "#9c179e"
             ],
             [
              0.4444444444444444,
              "#bd3786"
             ],
             [
              0.5555555555555556,
              "#d8576b"
             ],
             [
              0.6666666666666666,
              "#ed7953"
             ],
             [
              0.7777777777777778,
              "#fb9f3a"
             ],
             [
              0.8888888888888888,
              "#fdca26"
             ],
             [
              1,
              "#f0f921"
             ]
            ],
            "type": "histogram2d"
           }
          ],
          "histogram2dcontour": [
           {
            "colorbar": {
             "outlinewidth": 0,
             "ticks": ""
            },
            "colorscale": [
             [
              0,
              "#0d0887"
             ],
             [
              0.1111111111111111,
              "#46039f"
             ],
             [
              0.2222222222222222,
              "#7201a8"
             ],
             [
              0.3333333333333333,
              "#9c179e"
             ],
             [
              0.4444444444444444,
              "#bd3786"
             ],
             [
              0.5555555555555556,
              "#d8576b"
             ],
             [
              0.6666666666666666,
              "#ed7953"
             ],
             [
              0.7777777777777778,
              "#fb9f3a"
             ],
             [
              0.8888888888888888,
              "#fdca26"
             ],
             [
              1,
              "#f0f921"
             ]
            ],
            "type": "histogram2dcontour"
           }
          ],
          "mesh3d": [
           {
            "colorbar": {
             "outlinewidth": 0,
             "ticks": ""
            },
            "type": "mesh3d"
           }
          ],
          "parcoords": [
           {
            "line": {
             "colorbar": {
              "outlinewidth": 0,
              "ticks": ""
             }
            },
            "type": "parcoords"
           }
          ],
          "pie": [
           {
            "automargin": true,
            "type": "pie"
           }
          ],
          "scatter": [
           {
            "fillpattern": {
             "fillmode": "overlay",
             "size": 10,
             "solidity": 0.2
            },
            "type": "scatter"
           }
          ],
          "scatter3d": [
           {
            "line": {
             "colorbar": {
              "outlinewidth": 0,
              "ticks": ""
             }
            },
            "marker": {
             "colorbar": {
              "outlinewidth": 0,
              "ticks": ""
             }
            },
            "type": "scatter3d"
           }
          ],
          "scattercarpet": [
           {
            "marker": {
             "colorbar": {
              "outlinewidth": 0,
              "ticks": ""
             }
            },
            "type": "scattercarpet"
           }
          ],
          "scattergeo": [
           {
            "marker": {
             "colorbar": {
              "outlinewidth": 0,
              "ticks": ""
             }
            },
            "type": "scattergeo"
           }
          ],
          "scattergl": [
           {
            "marker": {
             "colorbar": {
              "outlinewidth": 0,
              "ticks": ""
             }
            },
            "type": "scattergl"
           }
          ],
          "scattermap": [
           {
            "marker": {
             "colorbar": {
              "outlinewidth": 0,
              "ticks": ""
             }
            },
            "type": "scattermap"
           }
          ],
          "scattermapbox": [
           {
            "marker": {
             "colorbar": {
              "outlinewidth": 0,
              "ticks": ""
             }
            },
            "type": "scattermapbox"
           }
          ],
          "scatterpolar": [
           {
            "marker": {
             "colorbar": {
              "outlinewidth": 0,
              "ticks": ""
             }
            },
            "type": "scatterpolar"
           }
          ],
          "scatterpolargl": [
           {
            "marker": {
             "colorbar": {
              "outlinewidth": 0,
              "ticks": ""
             }
            },
            "type": "scatterpolargl"
           }
          ],
          "scatterternary": [
           {
            "marker": {
             "colorbar": {
              "outlinewidth": 0,
              "ticks": ""
             }
            },
            "type": "scatterternary"
           }
          ],
          "surface": [
           {
            "colorbar": {
             "outlinewidth": 0,
             "ticks": ""
            },
            "colorscale": [
             [
              0,
              "#0d0887"
             ],
             [
              0.1111111111111111,
              "#46039f"
             ],
             [
              0.2222222222222222,
              "#7201a8"
             ],
             [
              0.3333333333333333,
              "#9c179e"
             ],
             [
              0.4444444444444444,
              "#bd3786"
             ],
             [
              0.5555555555555556,
              "#d8576b"
             ],
             [
              0.6666666666666666,
              "#ed7953"
             ],
             [
              0.7777777777777778,
              "#fb9f3a"
             ],
             [
              0.8888888888888888,
              "#fdca26"
             ],
             [
              1,
              "#f0f921"
             ]
            ],
            "type": "surface"
           }
          ],
          "table": [
           {
            "cells": {
             "fill": {
              "color": "#EBF0F8"
             },
             "line": {
              "color": "white"
             }
            },
            "header": {
             "fill": {
              "color": "#C8D4E3"
             },
             "line": {
              "color": "white"
             }
            },
            "type": "table"
           }
          ]
         },
         "layout": {
          "annotationdefaults": {
           "arrowcolor": "#2a3f5f",
           "arrowhead": 0,
           "arrowwidth": 1
          },
          "autotypenumbers": "strict",
          "coloraxis": {
           "colorbar": {
            "outlinewidth": 0,
            "ticks": ""
           }
          },
          "colorscale": {
           "diverging": [
            [
             0,
             "#8e0152"
            ],
            [
             0.1,
             "#c51b7d"
            ],
            [
             0.2,
             "#de77ae"
            ],
            [
             0.3,
             "#f1b6da"
            ],
            [
             0.4,
             "#fde0ef"
            ],
            [
             0.5,
             "#f7f7f7"
            ],
            [
             0.6,
             "#e6f5d0"
            ],
            [
             0.7,
             "#b8e186"
            ],
            [
             0.8,
             "#7fbc41"
            ],
            [
             0.9,
             "#4d9221"
            ],
            [
             1,
             "#276419"
            ]
           ],
           "sequential": [
            [
             0,
             "#0d0887"
            ],
            [
             0.1111111111111111,
             "#46039f"
            ],
            [
             0.2222222222222222,
             "#7201a8"
            ],
            [
             0.3333333333333333,
             "#9c179e"
            ],
            [
             0.4444444444444444,
             "#bd3786"
            ],
            [
             0.5555555555555556,
             "#d8576b"
            ],
            [
             0.6666666666666666,
             "#ed7953"
            ],
            [
             0.7777777777777778,
             "#fb9f3a"
            ],
            [
             0.8888888888888888,
             "#fdca26"
            ],
            [
             1,
             "#f0f921"
            ]
           ],
           "sequentialminus": [
            [
             0,
             "#0d0887"
            ],
            [
             0.1111111111111111,
             "#46039f"
            ],
            [
             0.2222222222222222,
             "#7201a8"
            ],
            [
             0.3333333333333333,
             "#9c179e"
            ],
            [
             0.4444444444444444,
             "#bd3786"
            ],
            [
             0.5555555555555556,
             "#d8576b"
            ],
            [
             0.6666666666666666,
             "#ed7953"
            ],
            [
             0.7777777777777778,
             "#fb9f3a"
            ],
            [
             0.8888888888888888,
             "#fdca26"
            ],
            [
             1,
             "#f0f921"
            ]
           ]
          },
          "colorway": [
           "#636efa",
           "#EF553B",
           "#00cc96",
           "#ab63fa",
           "#FFA15A",
           "#19d3f3",
           "#FF6692",
           "#B6E880",
           "#FF97FF",
           "#FECB52"
          ],
          "font": {
           "color": "#2a3f5f"
          },
          "geo": {
           "bgcolor": "white",
           "lakecolor": "white",
           "landcolor": "#E5ECF6",
           "showlakes": true,
           "showland": true,
           "subunitcolor": "white"
          },
          "hoverlabel": {
           "align": "left"
          },
          "hovermode": "closest",
          "mapbox": {
           "style": "light"
          },
          "paper_bgcolor": "white",
          "plot_bgcolor": "#E5ECF6",
          "polar": {
           "angularaxis": {
            "gridcolor": "white",
            "linecolor": "white",
            "ticks": ""
           },
           "bgcolor": "#E5ECF6",
           "radialaxis": {
            "gridcolor": "white",
            "linecolor": "white",
            "ticks": ""
           }
          },
          "scene": {
           "xaxis": {
            "backgroundcolor": "#E5ECF6",
            "gridcolor": "white",
            "gridwidth": 2,
            "linecolor": "white",
            "showbackground": true,
            "ticks": "",
            "zerolinecolor": "white"
           },
           "yaxis": {
            "backgroundcolor": "#E5ECF6",
            "gridcolor": "white",
            "gridwidth": 2,
            "linecolor": "white",
            "showbackground": true,
            "ticks": "",
            "zerolinecolor": "white"
           },
           "zaxis": {
            "backgroundcolor": "#E5ECF6",
            "gridcolor": "white",
            "gridwidth": 2,
            "linecolor": "white",
            "showbackground": true,
            "ticks": "",
            "zerolinecolor": "white"
           }
          },
          "shapedefaults": {
           "line": {
            "color": "#2a3f5f"
           }
          },
          "ternary": {
           "aaxis": {
            "gridcolor": "white",
            "linecolor": "white",
            "ticks": ""
           },
           "baxis": {
            "gridcolor": "white",
            "linecolor": "white",
            "ticks": ""
           },
           "bgcolor": "#E5ECF6",
           "caxis": {
            "gridcolor": "white",
            "linecolor": "white",
            "ticks": ""
           }
          },
          "title": {
           "x": 0.05
          },
          "xaxis": {
           "automargin": true,
           "gridcolor": "white",
           "linecolor": "white",
           "ticks": "",
           "title": {
            "standoff": 15
           },
           "zerolinecolor": "white",
           "zerolinewidth": 2
          },
          "yaxis": {
           "automargin": true,
           "gridcolor": "white",
           "linecolor": "white",
           "ticks": "",
           "title": {
            "standoff": 15
           },
           "zerolinecolor": "white",
           "zerolinewidth": 2
          }
         }
        },
        "title": {
         "text": "Selected Features Across Groups"
        },
        "width": 1600,
        "xaxis": {
         "anchor": "y",
         "domain": [
          0,
          0.2125
         ]
        },
        "xaxis10": {
         "anchor": "y10",
         "domain": [
          0.2625,
          0.475
         ]
        },
        "xaxis11": {
         "anchor": "y11",
         "domain": [
          0.525,
          0.7375
         ]
        },
        "xaxis12": {
         "anchor": "y12",
         "domain": [
          0.7875,
          1
         ]
        },
        "xaxis13": {
         "anchor": "y13",
         "domain": [
          0,
          0.2125
         ]
        },
        "xaxis14": {
         "anchor": "y14",
         "domain": [
          0.2625,
          0.475
         ]
        },
        "xaxis15": {
         "anchor": "y15",
         "domain": [
          0.525,
          0.7375
         ]
        },
        "xaxis16": {
         "anchor": "y16",
         "domain": [
          0.7875,
          1
         ]
        },
        "xaxis17": {
         "anchor": "y17",
         "domain": [
          0,
          0.2125
         ]
        },
        "xaxis18": {
         "anchor": "y18",
         "domain": [
          0.2625,
          0.475
         ]
        },
        "xaxis19": {
         "anchor": "y19",
         "domain": [
          0.525,
          0.7375
         ]
        },
        "xaxis2": {
         "anchor": "y2",
         "domain": [
          0.2625,
          0.475
         ]
        },
        "xaxis20": {
         "anchor": "y20",
         "domain": [
          0.7875,
          1
         ]
        },
        "xaxis21": {
         "anchor": "y21",
         "domain": [
          0,
          0.2125
         ]
        },
        "xaxis22": {
         "anchor": "y22",
         "domain": [
          0.2625,
          0.475
         ]
        },
        "xaxis23": {
         "anchor": "y23",
         "domain": [
          0.525,
          0.7375
         ]
        },
        "xaxis24": {
         "anchor": "y24",
         "domain": [
          0.7875,
          1
         ]
        },
        "xaxis25": {
         "anchor": "y25",
         "domain": [
          0,
          0.2125
         ]
        },
        "xaxis26": {
         "anchor": "y26",
         "domain": [
          0.2625,
          0.475
         ]
        },
        "xaxis27": {
         "anchor": "y27",
         "domain": [
          0.525,
          0.7375
         ]
        },
        "xaxis28": {
         "anchor": "y28",
         "domain": [
          0.7875,
          1
         ]
        },
        "xaxis3": {
         "anchor": "y3",
         "domain": [
          0.525,
          0.7375
         ]
        },
        "xaxis4": {
         "anchor": "y4",
         "domain": [
          0.7875,
          1
         ]
        },
        "xaxis5": {
         "anchor": "y5",
         "domain": [
          0,
          0.2125
         ]
        },
        "xaxis6": {
         "anchor": "y6",
         "domain": [
          0.2625,
          0.475
         ]
        },
        "xaxis7": {
         "anchor": "y7",
         "domain": [
          0.525,
          0.7375
         ]
        },
        "xaxis8": {
         "anchor": "y8",
         "domain": [
          0.7875,
          1
         ]
        },
        "xaxis9": {
         "anchor": "y9",
         "domain": [
          0,
          0.2125
         ]
        },
        "yaxis": {
         "anchor": "x",
         "domain": [
          0.9183673469387754,
          0.9999999999999999
         ]
        },
        "yaxis10": {
         "anchor": "x10",
         "domain": [
          0.6122448979591837,
          0.6938775510204082
         ]
        },
        "yaxis11": {
         "anchor": "x11",
         "domain": [
          0.6122448979591837,
          0.6938775510204082
         ]
        },
        "yaxis12": {
         "anchor": "x12",
         "domain": [
          0.6122448979591837,
          0.6938775510204082
         ]
        },
        "yaxis13": {
         "anchor": "x13",
         "domain": [
          0.4591836734693877,
          0.5408163265306122
         ]
        },
        "yaxis14": {
         "anchor": "x14",
         "domain": [
          0.4591836734693877,
          0.5408163265306122
         ]
        },
        "yaxis15": {
         "anchor": "x15",
         "domain": [
          0.4591836734693877,
          0.5408163265306122
         ]
        },
        "yaxis16": {
         "anchor": "x16",
         "domain": [
          0.4591836734693877,
          0.5408163265306122
         ]
        },
        "yaxis17": {
         "anchor": "x17",
         "domain": [
          0.30612244897959184,
          0.3877551020408163
         ]
        },
        "yaxis18": {
         "anchor": "x18",
         "domain": [
          0.30612244897959184,
          0.3877551020408163
         ]
        },
        "yaxis19": {
         "anchor": "x19",
         "domain": [
          0.30612244897959184,
          0.3877551020408163
         ]
        },
        "yaxis2": {
         "anchor": "x2",
         "domain": [
          0.9183673469387754,
          0.9999999999999999
         ]
        },
        "yaxis20": {
         "anchor": "x20",
         "domain": [
          0.30612244897959184,
          0.3877551020408163
         ]
        },
        "yaxis21": {
         "anchor": "x21",
         "domain": [
          0.15306122448979592,
          0.2346938775510204
         ]
        },
        "yaxis22": {
         "anchor": "x22",
         "domain": [
          0.15306122448979592,
          0.2346938775510204
         ]
        },
        "yaxis23": {
         "anchor": "x23",
         "domain": [
          0.15306122448979592,
          0.2346938775510204
         ]
        },
        "yaxis24": {
         "anchor": "x24",
         "domain": [
          0.15306122448979592,
          0.2346938775510204
         ]
        },
        "yaxis25": {
         "anchor": "x25",
         "domain": [
          0,
          0.08163265306122448
         ]
        },
        "yaxis26": {
         "anchor": "x26",
         "domain": [
          0,
          0.08163265306122448
         ]
        },
        "yaxis27": {
         "anchor": "x27",
         "domain": [
          0,
          0.08163265306122448
         ]
        },
        "yaxis28": {
         "anchor": "x28",
         "domain": [
          0,
          0.08163265306122448
         ]
        },
        "yaxis3": {
         "anchor": "x3",
         "domain": [
          0.9183673469387754,
          0.9999999999999999
         ]
        },
        "yaxis4": {
         "anchor": "x4",
         "domain": [
          0.9183673469387754,
          0.9999999999999999
         ]
        },
        "yaxis5": {
         "anchor": "x5",
         "domain": [
          0.7653061224489794,
          0.8469387755102039
         ]
        },
        "yaxis6": {
         "anchor": "x6",
         "domain": [
          0.7653061224489794,
          0.8469387755102039
         ]
        },
        "yaxis7": {
         "anchor": "x7",
         "domain": [
          0.7653061224489794,
          0.8469387755102039
         ]
        },
        "yaxis8": {
         "anchor": "x8",
         "domain": [
          0.7653061224489794,
          0.8469387755102039
         ]
        },
        "yaxis9": {
         "anchor": "x9",
         "domain": [
          0.6122448979591837,
          0.6938775510204082
         ]
        }
       }
      }
     },
     "metadata": {},
     "output_type": "display_data"
    },
    {
     "data": {
      "application/vnd.plotly.v1+json": {
       "config": {
        "plotlyServerURL": "https://plot.ly"
       },
       "data": [
        {
         "error_y": {
          "array": [
           2.806743911160562,
           1.920855722057684,
           1.7460534532231646
          ],
          "type": "data",
          "visible": true
         },
         "marker": {
          "color": [
           "#636EFA",
           "#EF553B",
           "#00CC96"
          ],
          "line": {
           "color": "black",
           "width": 1
          }
         },
         "name": "Mean angle value - rhindlimb - lHindpaw (°)",
         "type": "bar",
         "x": [
          "healthy_left_B_run",
          "sick_left_C_run",
          "sick_left_E_run"
         ],
         "xaxis": "x",
         "y": [
          152.19867181373425,
          146.86973261899647,
          149.39208615139648
         ],
         "yaxis": "y"
        },
        {
         "marker": {
          "color": "black",
          "opacity": 0.5,
          "size": 6
         },
         "mode": "markers",
         "showlegend": false,
         "type": "scatter",
         "x": [
          "healthy_left_B_run",
          "healthy_left_B_run",
          "healthy_left_B_run",
          "healthy_left_B_run",
          "healthy_left_B_run",
          "healthy_left_B_run",
          "healthy_left_B_run",
          "healthy_left_B_run",
          "healthy_left_B_run",
          "healthy_left_B_run"
         ],
         "xaxis": "x",
         "y": {
          "bdata": "xX68CK/yYkBHHxsHSlBiQPa+UhtYVWNA5Mga4Sc0Y0DV5DsvRGFjQBPGVqDXRGNArsw2Y+oCY0B8Pv3MQVRjQPc//z1S0mJAQCzf53+jYkA=",
          "dtype": "f8"
         },
         "yaxis": "y"
        },
        {
         "marker": {
          "color": "black",
          "opacity": 0.5,
          "size": 6
         },
         "mode": "markers",
         "showlegend": false,
         "type": "scatter",
         "x": [
          "sick_left_C_run",
          "sick_left_C_run",
          "sick_left_C_run",
          "sick_left_C_run",
          "sick_left_C_run",
          "sick_left_C_run",
          "sick_left_C_run",
          "sick_left_C_run",
          "sick_left_C_run",
          "sick_left_C_run"
         ],
         "xaxis": "x",
         "y": {
          "bdata": "vs0J0ix+YkDmC49MlhpiQOAC35W0NWJA7h9RH3BaYkC4QfLUXeJiQKCeSgDllWJAqIGR+OBPYkAjaN/vCz5iQHrp6cBhGWJAVeGiLNdNYkA=",
          "dtype": "f8"
         },
         "yaxis": "y"
        },
        {
         "marker": {
          "color": "black",
          "opacity": 0.5,
          "size": 6
         },
         "mode": "markers",
         "showlegend": false,
         "type": "scatter",
         "x": [
          "sick_left_E_run",
          "sick_left_E_run",
          "sick_left_E_run",
          "sick_left_E_run",
          "sick_left_E_run",
          "sick_left_E_run",
          "sick_left_E_run",
          "sick_left_E_run",
          "sick_left_E_run",
          "sick_left_E_run"
         ],
         "xaxis": "x",
         "y": {
          "bdata": "0AKESqCRYkDWuDkUtL5iQGui2gOFyWJAdN+n1erQYkBC9Ey//NxiQMeXoziJ0WJA0MOibr6XYkCoY/VjFc9iQO23IVjMIWJAAyumV42bYkA=",
          "dtype": "f8"
         },
         "yaxis": "y"
        },
        {
         "error_y": {
          "array": [
           0.9969047201666582,
           0.37631992856091045,
           1.1302152793576221
          ],
          "type": "data",
          "visible": true
         },
         "marker": {
          "color": [
           "#636EFA",
           "#EF553B",
           "#00CC96"
          ],
          "line": {
           "color": "black",
           "width": 1
          }
         },
         "name": "Mean angle velocity at stance - rhindlimb - knee std",
         "type": "bar",
         "x": [
          "healthy_left_B_run",
          "sick_left_C_run",
          "sick_left_E_run"
         ],
         "xaxis": "x2",
         "y": [
          2.2592853107525466,
          1.3730600865098612,
          1.9073940898479094
         ],
         "yaxis": "y2"
        },
        {
         "marker": {
          "color": "black",
          "opacity": 0.5,
          "size": 6
         },
         "mode": "markers",
         "showlegend": false,
         "type": "scatter",
         "x": [
          "healthy_left_B_run",
          "healthy_left_B_run",
          "healthy_left_B_run",
          "healthy_left_B_run",
          "healthy_left_B_run",
          "healthy_left_B_run",
          "healthy_left_B_run",
          "healthy_left_B_run",
          "healthy_left_B_run",
          "healthy_left_B_run"
         ],
         "xaxis": "x2",
         "y": {
          "bdata": "6pLD8xgOB0C5a7pjnGsOQD0anHoU9PE/9xatOG/OAUCtlv40xDsLQCImqbvSk/Q/Eu0VZt5y+z9tDlxhxBwJQOm5n7JvwvA/UBk87sN9/z8=",
          "dtype": "f8"
         },
         "yaxis": "y2"
        },
        {
         "marker": {
          "color": "black",
          "opacity": 0.5,
          "size": 6
         },
         "mode": "markers",
         "showlegend": false,
         "type": "scatter",
         "x": [
          "sick_left_C_run",
          "sick_left_C_run",
          "sick_left_C_run",
          "sick_left_C_run",
          "sick_left_C_run",
          "sick_left_C_run",
          "sick_left_C_run",
          "sick_left_C_run",
          "sick_left_C_run",
          "sick_left_C_run"
         ],
         "xaxis": "x2",
         "y": {
          "bdata": "jJUmyH+n7j81v40Wk8LxP4M/rYMMBvg/yCrj1sPA9j/vIBCnSRj2P9lcbCQuNPs/bzVXWSpz/z+mqTf6syLnP1jkxZPKevs/a5F5faAH9D8=",
          "dtype": "f8"
         },
         "yaxis": "y2"
        },
        {
         "marker": {
          "color": "black",
          "opacity": 0.5,
          "size": 6
         },
         "mode": "markers",
         "showlegend": false,
         "type": "scatter",
         "x": [
          "sick_left_E_run",
          "sick_left_E_run",
          "sick_left_E_run",
          "sick_left_E_run",
          "sick_left_E_run",
          "sick_left_E_run",
          "sick_left_E_run",
          "sick_left_E_run",
          "sick_left_E_run",
          "sick_left_E_run"
         ],
         "xaxis": "x2",
         "y": {
          "bdata": "cI/dyKoG9j+1Cftucfb6P5hYzpnU0Po/Wwt29BTyC0DgKongeWsLQI9svNfUleY/Toow8RbGAkCtSFM2oyXfP8rIWGC5VOk/73+TL3itCEA=",
          "dtype": "f8"
         },
         "yaxis": "y2"
        },
        {
         "error_y": {
          "array": [
           0.7922563574547561,
           0.4597445062160905,
           0.8978275846427021
          ],
          "type": "data",
          "visible": true
         },
         "marker": {
          "color": [
           "#636EFA",
           "#EF553B",
           "#00CC96"
          ],
          "line": {
           "color": "black",
           "width": 1
          }
         },
         "name": "Mean angle velocity at touchdown - rhindlimb - knee std",
         "type": "bar",
         "x": [
          "healthy_left_B_run",
          "sick_left_C_run",
          "sick_left_E_run"
         ],
         "xaxis": "x3",
         "y": [
          1.917905751552757,
          1.0750489191001773,
          1.4619111168748817
         ],
         "yaxis": "y3"
        },
        {
         "marker": {
          "color": "black",
          "opacity": 0.5,
          "size": 6
         },
         "mode": "markers",
         "showlegend": false,
         "type": "scatter",
         "x": [
          "healthy_left_B_run",
          "healthy_left_B_run",
          "healthy_left_B_run",
          "healthy_left_B_run",
          "healthy_left_B_run",
          "healthy_left_B_run",
          "healthy_left_B_run",
          "healthy_left_B_run",
          "healthy_left_B_run",
          "healthy_left_B_run"
         ],
         "xaxis": "x3",
         "y": {
          "bdata": "OwJiKtYe7j82zB0GC5j4P1+LKY9ZcQFAXAjUxgF2AEDN5qzi2fwFQCh1o1PIpuw/p0It/YuoAkB4DfQ1XscKQCoY6cOtP/M/e34ziaT6/j8=",
          "dtype": "f8"
         },
         "yaxis": "y3"
        },
        {
         "marker": {
          "color": "black",
          "opacity": 0.5,
          "size": 6
         },
         "mode": "markers",
         "showlegend": false,
         "type": "scatter",
         "x": [
          "sick_left_C_run",
          "sick_left_C_run",
          "sick_left_C_run",
          "sick_left_C_run",
          "sick_left_C_run",
          "sick_left_C_run",
          "sick_left_C_run",
          "sick_left_C_run",
          "sick_left_C_run",
          "sick_left_C_run"
         ],
         "xaxis": "x3",
         "y": {
          "bdata": "l/k6F+MG7D9Dfrz7JSjyP+o4AGjVLfo/03F6i+qf4T9GhkXI83H7P9n91sC8e/I/GPMwVuCI5D92h6E74MP3P4hai5aF1/I/rXfx4mAs2D8=",
          "dtype": "f8"
         },
         "yaxis": "y3"
        },
        {
         "marker": {
          "color": "black",
          "opacity": 0.5,
          "size": 6
         },
         "mode": "markers",
         "showlegend": false,
         "type": "scatter",
         "x": [
          "sick_left_E_run",
          "sick_left_E_run",
          "sick_left_E_run",
          "sick_left_E_run",
          "sick_left_E_run",
          "sick_left_E_run",
          "sick_left_E_run",
          "sick_left_E_run",
          "sick_left_E_run",
          "sick_left_E_run"
         ],
         "xaxis": "x3",
         "y": {
          "bdata": "/IUDop4B3T9JXnO0ZgDYP9Fg+1+whuQ/TnYg42SSBUBOA/oHsCkAQAzsDrBYPwBA7idbxVke/z/wZsjCCH7zP6G8sZ9OtgRAUjDhMlnI5D8=",
          "dtype": "f8"
         },
         "yaxis": "y3"
        },
        {
         "error_y": {
          "array": [
           3.943589783075853,
           3.560674427462831,
           1.7547205918754922
          ],
          "type": "data",
          "visible": true
         },
         "marker": {
          "color": [
           "#636EFA",
           "#EF553B",
           "#00CC96"
          ],
          "line": {
           "color": "black",
           "width": 1
          }
         },
         "name": "Mean phase at touchdown - rhindlimb - ankle (°)",
         "type": "bar",
         "x": [
          "healthy_left_B_run",
          "sick_left_C_run",
          "sick_left_E_run"
         ],
         "xaxis": "x4",
         "y": [
          -24.573336915424594,
          -28.32402903756141,
          -24.47462023911216
         ],
         "yaxis": "y4"
        },
        {
         "marker": {
          "color": "black",
          "opacity": 0.5,
          "size": 6
         },
         "mode": "markers",
         "showlegend": false,
         "type": "scatter",
         "x": [
          "healthy_left_B_run",
          "healthy_left_B_run",
          "healthy_left_B_run",
          "healthy_left_B_run",
          "healthy_left_B_run",
          "healthy_left_B_run",
          "healthy_left_B_run",
          "healthy_left_B_run",
          "healthy_left_B_run",
          "healthy_left_B_run"
         ],
         "xaxis": "x4",
         "y": {
          "bdata": "7MQuQBAZNsDLPrP4/qU8wNEi+ORD9DXAmXYcZ2vxMcC2tJpAkWAzwE0DO8WvnjnAGNp+oCQxO8B8wzqECCM6wF9qMyRsbTzAjgT8QCVWPMA=",
          "dtype": "f8"
         },
         "yaxis": "y4"
        },
        {
         "marker": {
          "color": "black",
          "opacity": 0.5,
          "size": 6
         },
         "mode": "markers",
         "showlegend": false,
         "type": "scatter",
         "x": [
          "sick_left_C_run",
          "sick_left_C_run",
          "sick_left_C_run",
          "sick_left_C_run",
          "sick_left_C_run",
          "sick_left_C_run",
          "sick_left_C_run",
          "sick_left_C_run",
          "sick_left_C_run",
          "sick_left_C_run"
         ],
         "xaxis": "x4",
         "y": {
          "bdata": "jsTqLG31OsDkec9mFW4/wNtVDc7A3TvAgXeIGykcNcD2bnKWucw8wBFxlFDkQjzAFRcRwuL+OcClc095r41AwClYsQUU7jrA/EVoxhFkQMA=",
          "dtype": "f8"
         },
         "yaxis": "y4"
        },
        {
         "marker": {
          "color": "black",
          "opacity": 0.5,
          "size": 6
         },
         "mode": "markers",
         "showlegend": false,
         "type": "scatter",
         "x": [
          "sick_left_E_run",
          "sick_left_E_run",
          "sick_left_E_run",
          "sick_left_E_run",
          "sick_left_E_run",
          "sick_left_E_run",
          "sick_left_E_run",
          "sick_left_E_run",
          "sick_left_E_run",
          "sick_left_E_run"
         ],
         "xaxis": "x4",
         "y": {
          "bdata": "rzWFGlCsNsCjyXi7eH04wECDWOciFzjA6O5aw92NOMDoP7bvKFs3wAdgsXm+3jXANa+16Dq9OMCmBaFLtVw7wA7S+m2nVTjAInhHkr5GO8A=",
          "dtype": "f8"
         },
         "yaxis": "y4"
        },
        {
         "error_y": {
          "array": [
           1.0467169014905915,
           0.9717671082779469,
           0.42387789195029874
          ],
          "type": "data",
          "visible": true
         },
         "marker": {
          "color": [
           "#636EFA",
           "#EF553B",
           "#00CC96"
          ],
          "line": {
           "color": "black",
           "width": 1
          }
         },
         "name": "Mean step acceleration X at swing - hip std",
         "type": "bar",
         "x": [
          "healthy_left_B_run",
          "sick_left_C_run",
          "sick_left_E_run"
         ],
         "xaxis": "x5",
         "y": [
          1.7110576327119689,
          2.251985183782038,
          1.4216231565405968
         ],
         "yaxis": "y5"
        },
        {
         "marker": {
          "color": "black",
          "opacity": 0.5,
          "size": 6
         },
         "mode": "markers",
         "showlegend": false,
         "type": "scatter",
         "x": [
          "healthy_left_B_run",
          "healthy_left_B_run",
          "healthy_left_B_run",
          "healthy_left_B_run",
          "healthy_left_B_run",
          "healthy_left_B_run",
          "healthy_left_B_run",
          "healthy_left_B_run",
          "healthy_left_B_run",
          "healthy_left_B_run"
         ],
         "xaxis": "x5",
         "y": {
          "bdata": "f6eSRM8hAkA/5+HMXdDpPyfILEpQLAJAi49a/criA0D7rWZ7zX30P4i6Y80sFuk/Bwl+kn+9/j9Dvt0TRQL3Pxo64e90270/yNpZ7EPqDUA=",
          "dtype": "f8"
         },
         "yaxis": "y5"
        },
        {
         "marker": {
          "color": "black",
          "opacity": 0.5,
          "size": 6
         },
         "mode": "markers",
         "showlegend": false,
         "type": "scatter",
         "x": [
          "sick_left_C_run",
          "sick_left_C_run",
          "sick_left_C_run",
          "sick_left_C_run",
          "sick_left_C_run",
          "sick_left_C_run",
          "sick_left_C_run",
          "sick_left_C_run",
          "sick_left_C_run",
          "sick_left_C_run"
         ],
         "xaxis": "x5",
         "y": {
          "bdata": "py0R127ZCUC1BaQn2+T3P8y4WWEcIQZA6TyIOQqRA0AhLprF1mr7P9iTL6OSx/4/q9BXYTNL9D8Udl7r5dLoPz9HLLvFZQ5AiM23c1fRCEA=",
          "dtype": "f8"
         },
         "yaxis": "y5"
        },
        {
         "marker": {
          "color": "black",
          "opacity": 0.5,
          "size": 6
         },
         "mode": "markers",
         "showlegend": false,
         "type": "scatter",
         "x": [
          "sick_left_E_run",
          "sick_left_E_run",
          "sick_left_E_run",
          "sick_left_E_run",
          "sick_left_E_run",
          "sick_left_E_run",
          "sick_left_E_run",
          "sick_left_E_run",
          "sick_left_E_run",
          "sick_left_E_run"
         ],
         "xaxis": "x5",
         "y": {
          "bdata": "ABRWdEe79z8BaTWt2QbyP8T6y+tgovE/MedGS1eM/j+trie3hRvpP3v0Zb1Fgvs/PEim7SnB9j/Eucr8SfDsP8uYKFigLv4/bRgQBd4M/j8=",
          "dtype": "f8"
         },
         "yaxis": "y5"
        },
        {
         "error_y": {
          "array": [
           3.194238234716147,
           2.436456395264468,
           2.005427558136813
          ],
          "type": "data",
          "visible": true
         },
         "marker": {
          "color": [
           "#636EFA",
           "#EF553B",
           "#00CC96"
          ],
          "line": {
           "color": "black",
           "width": 1
          }
         },
         "name": "Mean step acceleration Y at stance - lHindpaw (m/s^2)",
         "type": "bar",
         "x": [
          "healthy_left_B_run",
          "sick_left_C_run",
          "sick_left_E_run"
         ],
         "xaxis": "x6",
         "y": [
          8.432133853401549,
          10.002064612365931,
          7.302596244048843
         ],
         "yaxis": "y6"
        },
        {
         "marker": {
          "color": "black",
          "opacity": 0.5,
          "size": 6
         },
         "mode": "markers",
         "showlegend": false,
         "type": "scatter",
         "x": [
          "healthy_left_B_run",
          "healthy_left_B_run",
          "healthy_left_B_run",
          "healthy_left_B_run",
          "healthy_left_B_run",
          "healthy_left_B_run",
          "healthy_left_B_run",
          "healthy_left_B_run",
          "healthy_left_B_run",
          "healthy_left_B_run"
         ],
         "xaxis": "x6",
         "y": {
          "bdata": "pk022eSkG0C6fMu3rMQhQKrYiZ14cxBAHZ6zf3JHI0C7TuzEjiwEQPr///+nYB9Axk7sxF6DKEB14ziO+1siQKBkSqY0YSdAiTxz3jGQJkA=",
          "dtype": "f8"
         },
         "yaxis": "y6"
        },
        {
         "marker": {
          "color": "black",
          "opacity": 0.5,
          "size": 6
         },
         "mode": "markers",
         "showlegend": false,
         "type": "scatter",
         "x": [
          "sick_left_C_run",
          "sick_left_C_run",
          "sick_left_C_run",
          "sick_left_C_run",
          "sick_left_C_run",
          "sick_left_C_run",
          "sick_left_C_run",
          "sick_left_C_run",
          "sick_left_C_run",
          "sick_left_C_run"
         ],
         "xaxis": "x6",
         "y": {
          "bdata": "caiHeqgnKUBPsRM7UTAjQBnK9bG02hxAyRc4aoY1IEAfsRM7oUggQNHZP4lihC5AtD/mKF23IEDp0z7tA/8lQNvyLd8ytiRA4ud+7h/WIkA=",
          "dtype": "f8"
         },
         "yaxis": "y6"
        },
        {
         "marker": {
          "color": "black",
          "opacity": 0.5,
          "size": 6
         },
         "mode": "markers",
         "showlegend": false,
         "type": "scatter",
         "x": [
          "sick_left_E_run",
          "sick_left_E_run",
          "sick_left_E_run",
          "sick_left_E_run",
          "sick_left_E_run",
          "sick_left_E_run",
          "sick_left_E_run",
          "sick_left_E_run",
          "sick_left_E_run",
          "sick_left_E_run"
         ],
         "xaxis": "x6",
         "y": {
          "bdata": "rOHzxxwGF0Cff/iHX9URQIjC4hSxIyJAh5zJmcwFIkBTfumXXtwbQMvyLd+a8SNABtIgDVyzIECmjnWHcVkeQC9j9JQ79Q9ATmIndsJxH0A=",
          "dtype": "f8"
         },
         "yaxis": "y6"
        },
        {
         "error_y": {
          "array": [
           1.8863334526884918,
           1.341928638769611,
           1.530353922397454
          ],
          "type": "data",
          "visible": true
         },
         "marker": {
          "color": [
           "#636EFA",
           "#EF553B",
           "#00CC96"
          ],
          "line": {
           "color": "black",
           "width": 1
          }
         },
         "name": "Mean step acceleration Y at touchdown - ankle (m/s^2)",
         "type": "bar",
         "x": [
          "healthy_left_B_run",
          "sick_left_C_run",
          "sick_left_E_run"
         ],
         "xaxis": "x7",
         "y": [
          4.427953129758253,
          6.369636067263793,
          4.428876528786397
         ],
         "yaxis": "y7"
        },
        {
         "marker": {
          "color": "black",
          "opacity": 0.5,
          "size": 6
         },
         "mode": "markers",
         "showlegend": false,
         "type": "scatter",
         "x": [
          "healthy_left_B_run",
          "healthy_left_B_run",
          "healthy_left_B_run",
          "healthy_left_B_run",
          "healthy_left_B_run",
          "healthy_left_B_run",
          "healthy_left_B_run",
          "healthy_left_B_run",
          "healthy_left_B_run",
          "healthy_left_B_run"
         ],
         "xaxis": "x7",
         "y": {
          "bdata": "XRqkQRpI+z/q8i3f8ssRQG/SIA1SFQFAxwscNWPlFUDho0EaJCkHQCwapEFCUgtAp53YiR1RFUCZhVd49W8TQFE91EM95xlAGZ+aVDQqHkA=",
          "dtype": "f8"
         },
         "yaxis": "y7"
        },
        {
         "marker": {
          "color": "black",
          "opacity": 0.5,
          "size": 6
         },
         "mode": "markers",
         "showlegend": false,
         "type": "scatter",
         "x": [
          "sick_left_C_run",
          "sick_left_C_run",
          "sick_left_C_run",
          "sick_left_C_run",
          "sick_left_C_run",
          "sick_left_C_run",
          "sick_left_C_run",
          "sick_left_C_run",
          "sick_left_C_run",
          "sick_left_C_run"
         ],
         "xaxis": "x7",
         "y": {
          "bdata": "z5RMyURqHkARRmAExpEUQA6O4ziOCx1A3ZZv+ZbpFECiQRqkDVwZQMldT8e6cB9Alnn9/qWXGECbYzZmA/IbQAqkQRrEzR1ArlmbtVlnDUA=",
          "dtype": "f8"
         },
         "yaxis": "y7"
        },
        {
         "marker": {
          "color": "black",
          "opacity": 0.5,
          "size": 6
         },
         "mode": "markers",
         "showlegend": false,
         "type": "scatter",
         "x": [
          "sick_left_E_run",
          "sick_left_E_run",
          "sick_left_E_run",
          "sick_left_E_run",
          "sick_left_E_run",
          "sick_left_E_run",
          "sick_left_E_run",
          "sick_left_E_run",
          "sick_left_E_run",
          "sick_left_E_run"
         ],
         "xaxis": "x7",
         "y": {
          "bdata": "1KLavVipFEAVwzAMY54RQCaV3he4LhlA+V3cxR2ME0AKLMESLCMaQLge6qHe+QtAREiDNEiMFUBka/zdvCIOQGCO0u0rVgJACBEO4ZB4AEA=",
          "dtype": "f8"
         },
         "yaxis": "y7"
        },
        {
         "error_y": {
          "array": [
           3.0335399791152247,
           3.061547176910934,
           2.0657814323130776
          ],
          "type": "data",
          "visible": true
         },
         "marker": {
          "color": [
           "#636EFA",
           "#EF553B",
           "#00CC96"
          ],
          "line": {
           "color": "black",
           "width": 1
          }
         },
         "name": "Mean step acceleration Y at touchdown - lHindpaw (m/s^2)",
         "type": "bar",
         "x": [
          "healthy_left_B_run",
          "sick_left_C_run",
          "sick_left_E_run"
         ],
         "xaxis": "x8",
         "y": [
          6.811278644394801,
          10.10979365691607,
          6.958309057140246
         ],
         "yaxis": "y8"
        },
        {
         "marker": {
          "color": "black",
          "opacity": 0.5,
          "size": 6
         },
         "mode": "markers",
         "showlegend": false,
         "type": "scatter",
         "x": [
          "healthy_left_B_run",
          "healthy_left_B_run",
          "healthy_left_B_run",
          "healthy_left_B_run",
          "healthy_left_B_run",
          "healthy_left_B_run",
          "healthy_left_B_run",
          "healthy_left_B_run",
          "healthy_left_B_run",
          "healthy_left_B_run"
         ],
         "xaxis": "x8",
         "y": {
          "bdata": "cCd2YqfJG0CBqqqqag8YQCbmW77lBBVAQ4cxATbTG0AjH6RBGlTJvxPSIA2GhxdAEg3SIM3GIkBbSIM0uD8fQAVRD/UQuyVAN2YMcftgIkA=",
          "dtype": "f8"
         },
         "yaxis": "y8"
        },
        {
         "marker": {
          "color": "black",
          "opacity": 0.5,
          "size": 6
         },
         "mode": "markers",
         "showlegend": false,
         "type": "scatter",
         "x": [
          "sick_left_C_run",
          "sick_left_C_run",
          "sick_left_C_run",
          "sick_left_C_run",
          "sick_left_C_run",
          "sick_left_C_run",
          "sick_left_C_run",
          "sick_left_C_run",
          "sick_left_C_run",
          "sick_left_C_run"
         ],
         "xaxis": "x8",
         "y": {
          "bdata": "dTRIg+x9KEAsYARGwAokQBZTMiWz9CBAy6gZyQt/E0A2dmInRmIiQHoeofqMNi9AV2cpqh1HHUAihVIo5cIqQLzlW77lgiRA+dEgDRJzI0A=",
          "dtype": "f8"
         },
         "yaxis": "y8"
        },
        {
         "marker": {
          "color": "black",
          "opacity": 0.5,
          "size": 6
         },
         "mode": "markers",
         "showlegend": false,
         "type": "scatter",
         "x": [
          "sick_left_E_run",
          "sick_left_E_run",
          "sick_left_E_run",
          "sick_left_E_run",
          "sick_left_E_run",
          "sick_left_E_run",
          "sick_left_E_run",
          "sick_left_E_run",
          "sick_left_E_run",
          "sick_left_E_run"
         ],
         "xaxis": "x8",
         "y": {
          "bdata": "BShDgYA5FkBFzuRMjjIdQH17FcwSCiNAaxmVUWlDI0COFVmR1c4gQOXP/dw/ERtAFQAAAKipEkB5STkgUskgQA6W1bvkCAxAIKVQCmVeF0A=",
          "dtype": "f8"
         },
         "yaxis": "y8"
        },
        {
         "error_y": {
          "array": [
           148.6663004518209,
           29.810030065748936,
           97.0398831556394
          ],
          "type": "data",
          "visible": true
         },
         "marker": {
          "color": [
           "#636EFA",
           "#EF553B",
           "#00CC96"
          ],
          "line": {
           "color": "black",
           "width": 1
          }
         },
         "name": "Mean step jerk Y at peak - lForepaw std",
         "type": "bar",
         "x": [
          "healthy_left_B_run",
          "sick_left_C_run",
          "sick_left_E_run"
         ],
         "xaxis": "x9",
         "y": [
          151.53732848979922,
          77.37312000818955,
          149.90164693364426
         ],
         "yaxis": "y9"
        },
        {
         "marker": {
          "color": "black",
          "opacity": 0.5,
          "size": 6
         },
         "mode": "markers",
         "showlegend": false,
         "type": "scatter",
         "x": [
          "healthy_left_B_run",
          "healthy_left_B_run",
          "healthy_left_B_run",
          "healthy_left_B_run",
          "healthy_left_B_run",
          "healthy_left_B_run",
          "healthy_left_B_run",
          "healthy_left_B_run",
          "healthy_left_B_run",
          "healthy_left_B_run"
         ],
         "xaxis": "x9",
         "y": {
          "bdata": "fRtN+rq7ZUAs7YiLyyU5QJMOo9hBqkNAm7zVfdP3U0DKY3BX3qhbQGpqtixYQGhACFGx4B+ZNUC37cu5HqhqQOkb77Phd2BA8nwG5EVvgEA=",
          "dtype": "f8"
         },
         "yaxis": "y9"
        },
        {
         "marker": {
          "color": "black",
          "opacity": 0.5,
          "size": 6
         },
         "mode": "markers",
         "showlegend": false,
         "type": "scatter",
         "x": [
          "sick_left_C_run",
          "sick_left_C_run",
          "sick_left_C_run",
          "sick_left_C_run",
          "sick_left_C_run",
          "sick_left_C_run",
          "sick_left_C_run",
          "sick_left_C_run",
          "sick_left_C_run",
          "sick_left_C_run"
         ],
         "xaxis": "x9",
         "y": {
          "bdata": "Co4mfAMLU0DD7OvK9yRSQFYtQ1n2oVtAmRCQ5h4ETECd2KLiw1BUQIegagTwbVtAFQsc1nodV0C6HyicqC1AQH2p1vjEjltAS213xwUyQEA=",
          "dtype": "f8"
         },
         "yaxis": "y9"
        },
        {
         "marker": {
          "color": "black",
          "opacity": 0.5,
          "size": 6
         },
         "mode": "markers",
         "showlegend": false,
         "type": "scatter",
         "x": [
          "sick_left_E_run",
          "sick_left_E_run",
          "sick_left_E_run",
          "sick_left_E_run",
          "sick_left_E_run",
          "sick_left_E_run",
          "sick_left_E_run",
          "sick_left_E_run",
          "sick_left_E_run",
          "sick_left_E_run"
         ],
         "xaxis": "x9",
         "y": {
          "bdata": "RIOwc7ycY0Ac4ojNcoBvQI/7uJh+jmhA67PllyTmUEAucP8cIglVQO+Wz3YmT1tArF/h97JzU0BzmLIzDv9oQCpWSz/AHzNAyB2tYWH8dEA=",
          "dtype": "f8"
         },
         "yaxis": "y9"
        },
        {
         "error_y": {
          "array": [
           187.4072818097153,
           53.626194975291156,
           136.45546907981628
          ],
          "type": "data",
          "visible": true
         },
         "marker": {
          "color": [
           "#636EFA",
           "#EF553B",
           "#00CC96"
          ],
          "line": {
           "color": "black",
           "width": 1
          }
         },
         "name": "Mean step jerk Y at peak - wrist std",
         "type": "bar",
         "x": [
          "healthy_left_B_run",
          "sick_left_C_run",
          "sick_left_E_run"
         ],
         "xaxis": "x10",
         "y": [
          186.71289663966886,
          107.05205946539245,
          185.86645178936294
         ],
         "yaxis": "y10"
        },
        {
         "marker": {
          "color": "black",
          "opacity": 0.5,
          "size": 6
         },
         "mode": "markers",
         "showlegend": false,
         "type": "scatter",
         "x": [
          "healthy_left_B_run",
          "healthy_left_B_run",
          "healthy_left_B_run",
          "healthy_left_B_run",
          "healthy_left_B_run",
          "healthy_left_B_run",
          "healthy_left_B_run",
          "healthy_left_B_run",
          "healthy_left_B_run",
          "healthy_left_B_run"
         ],
         "xaxis": "x10",
         "y": {
          "bdata": "eovU8k7VaEDjknflFtRKQJs7op5RLjdARRH0sozdVED7f39Eeh9hQNi3oz+c/WhAOkbkFhyaYECtStlqC+VpQJYbynpEt2FAV9f9MG6MhUA=",
          "dtype": "f8"
         },
         "yaxis": "y10"
        },
        {
         "marker": {
          "color": "black",
          "opacity": 0.5,
          "size": 6
         },
         "mode": "markers",
         "showlegend": false,
         "type": "scatter",
         "x": [
          "sick_left_C_run",
          "sick_left_C_run",
          "sick_left_C_run",
          "sick_left_C_run",
          "sick_left_C_run",
          "sick_left_C_run",
          "sick_left_C_run",
          "sick_left_C_run",
          "sick_left_C_run",
          "sick_left_C_run"
         ],
         "xaxis": "x10",
         "y": {
          "bdata": "KAy+teunYUDtZ8cpf+tEQPITTqQPd2ZAwaCt8/EeSEDkG6KRh2RbQNwR13cwA2ZA32ZGZcdVRkDRmWycHCNaQJohAL9r32JAbDAK22FmUkA=",
          "dtype": "f8"
         },
         "yaxis": "y10"
        },
        {
         "marker": {
          "color": "black",
          "opacity": 0.5,
          "size": 6
         },
         "mode": "markers",
         "showlegend": false,
         "type": "scatter",
         "x": [
          "sick_left_E_run",
          "sick_left_E_run",
          "sick_left_E_run",
          "sick_left_E_run",
          "sick_left_E_run",
          "sick_left_E_run",
          "sick_left_E_run",
          "sick_left_E_run",
          "sick_left_E_run",
          "sick_left_E_run"
         ],
         "xaxis": "x10",
         "y": {
          "bdata": "tBuJfmEDcECx6DSmh5N6QNK9NnYIK21ARKKyffkVQEB1+qopB9VNQMdwVD3AaVpA3ZqlmMf5UkAjWt3lMUZzQOh5eBAUVk1AwMhTC/72ckA=",
          "dtype": "f8"
         },
         "yaxis": "y10"
        }
       ],
       "layout": {
        "annotations": [
         {
          "font": {
           "size": 16
          },
          "showarrow": false,
          "text": "angle value lHindpaw (°)",
          "x": 0.10625,
          "xanchor": "center",
          "xref": "paper",
          "y": 1,
          "yanchor": "bottom",
          "yref": "paper"
         },
         {
          "font": {
           "size": 16
          },
          "showarrow": false,
          "text": "angle velocity at stance knee std",
          "x": 0.36875,
          "xanchor": "center",
          "xref": "paper",
          "y": 1,
          "yanchor": "bottom",
          "yref": "paper"
         },
         {
          "font": {
           "size": 16
          },
          "showarrow": false,
          "text": "angle velocity at touchdown knee std",
          "x": 0.6312500000000001,
          "xanchor": "center",
          "xref": "paper",
          "y": 1,
          "yanchor": "bottom",
          "yref": "paper"
         },
         {
          "font": {
           "size": 16
          },
          "showarrow": false,
          "text": "phase at touchdown ankle (°)",
          "x": 0.89375,
          "xanchor": "center",
          "xref": "paper",
          "y": 1,
          "yanchor": "bottom",
          "yref": "paper"
         },
         {
          "font": {
           "size": 16
          },
          "showarrow": false,
          "text": "step acceleration X at swing - hip std",
          "x": 0.10625,
          "xanchor": "center",
          "xref": "paper",
          "y": 0.6111111111111112,
          "yanchor": "bottom",
          "yref": "paper"
         },
         {
          "font": {
           "size": 16
          },
          "showarrow": false,
          "text": "step acceleration Y at stance - lHindpaw (m/s^2)",
          "x": 0.36875,
          "xanchor": "center",
          "xref": "paper",
          "y": 0.6111111111111112,
          "yanchor": "bottom",
          "yref": "paper"
         },
         {
          "font": {
           "size": 16
          },
          "showarrow": false,
          "text": "step acceleration Y at touchdown - ankle (m/s^2)",
          "x": 0.6312500000000001,
          "xanchor": "center",
          "xref": "paper",
          "y": 0.6111111111111112,
          "yanchor": "bottom",
          "yref": "paper"
         },
         {
          "font": {
           "size": 16
          },
          "showarrow": false,
          "text": "step acceleration Y at touchdown - lHindpaw (m/s^2)",
          "x": 0.89375,
          "xanchor": "center",
          "xref": "paper",
          "y": 0.6111111111111112,
          "yanchor": "bottom",
          "yref": "paper"
         },
         {
          "font": {
           "size": 16
          },
          "showarrow": false,
          "text": "step jerk Y at peak - lForepaw std",
          "x": 0.10625,
          "xanchor": "center",
          "xref": "paper",
          "y": 0.22222222222222224,
          "yanchor": "bottom",
          "yref": "paper"
         },
         {
          "font": {
           "size": 16
          },
          "showarrow": false,
          "text": "step jerk Y at peak - wrist std",
          "x": 0.36875,
          "xanchor": "center",
          "xref": "paper",
          "y": 0.22222222222222224,
          "yanchor": "bottom",
          "yref": "paper"
         }
        ],
        "height": 1500,
        "plot_bgcolor": "rgba(0,0,0,0)",
        "showlegend": false,
        "template": {
         "data": {
          "bar": [
           {
            "error_x": {
             "color": "#2a3f5f"
            },
            "error_y": {
             "color": "#2a3f5f"
            },
            "marker": {
             "line": {
              "color": "#E5ECF6",
              "width": 0.5
             },
             "pattern": {
              "fillmode": "overlay",
              "size": 10,
              "solidity": 0.2
             }
            },
            "type": "bar"
           }
          ],
          "barpolar": [
           {
            "marker": {
             "line": {
              "color": "#E5ECF6",
              "width": 0.5
             },
             "pattern": {
              "fillmode": "overlay",
              "size": 10,
              "solidity": 0.2
             }
            },
            "type": "barpolar"
           }
          ],
          "carpet": [
           {
            "aaxis": {
             "endlinecolor": "#2a3f5f",
             "gridcolor": "white",
             "linecolor": "white",
             "minorgridcolor": "white",
             "startlinecolor": "#2a3f5f"
            },
            "baxis": {
             "endlinecolor": "#2a3f5f",
             "gridcolor": "white",
             "linecolor": "white",
             "minorgridcolor": "white",
             "startlinecolor": "#2a3f5f"
            },
            "type": "carpet"
           }
          ],
          "choropleth": [
           {
            "colorbar": {
             "outlinewidth": 0,
             "ticks": ""
            },
            "type": "choropleth"
           }
          ],
          "contour": [
           {
            "colorbar": {
             "outlinewidth": 0,
             "ticks": ""
            },
            "colorscale": [
             [
              0,
              "#0d0887"
             ],
             [
              0.1111111111111111,
              "#46039f"
             ],
             [
              0.2222222222222222,
              "#7201a8"
             ],
             [
              0.3333333333333333,
              "#9c179e"
             ],
             [
              0.4444444444444444,
              "#bd3786"
             ],
             [
              0.5555555555555556,
              "#d8576b"
             ],
             [
              0.6666666666666666,
              "#ed7953"
             ],
             [
              0.7777777777777778,
              "#fb9f3a"
             ],
             [
              0.8888888888888888,
              "#fdca26"
             ],
             [
              1,
              "#f0f921"
             ]
            ],
            "type": "contour"
           }
          ],
          "contourcarpet": [
           {
            "colorbar": {
             "outlinewidth": 0,
             "ticks": ""
            },
            "type": "contourcarpet"
           }
          ],
          "heatmap": [
           {
            "colorbar": {
             "outlinewidth": 0,
             "ticks": ""
            },
            "colorscale": [
             [
              0,
              "#0d0887"
             ],
             [
              0.1111111111111111,
              "#46039f"
             ],
             [
              0.2222222222222222,
              "#7201a8"
             ],
             [
              0.3333333333333333,
              "#9c179e"
             ],
             [
              0.4444444444444444,
              "#bd3786"
             ],
             [
              0.5555555555555556,
              "#d8576b"
             ],
             [
              0.6666666666666666,
              "#ed7953"
             ],
             [
              0.7777777777777778,
              "#fb9f3a"
             ],
             [
              0.8888888888888888,
              "#fdca26"
             ],
             [
              1,
              "#f0f921"
             ]
            ],
            "type": "heatmap"
           }
          ],
          "histogram": [
           {
            "marker": {
             "pattern": {
              "fillmode": "overlay",
              "size": 10,
              "solidity": 0.2
             }
            },
            "type": "histogram"
           }
          ],
          "histogram2d": [
           {
            "colorbar": {
             "outlinewidth": 0,
             "ticks": ""
            },
            "colorscale": [
             [
              0,
              "#0d0887"
             ],
             [
              0.1111111111111111,
              "#46039f"
             ],
             [
              0.2222222222222222,
              "#7201a8"
             ],
             [
              0.3333333333333333,
              "#9c179e"
             ],
             [
              0.4444444444444444,
              "#bd3786"
             ],
             [
              0.5555555555555556,
              "#d8576b"
             ],
             [
              0.6666666666666666,
              "#ed7953"
             ],
             [
              0.7777777777777778,
              "#fb9f3a"
             ],
             [
              0.8888888888888888,
              "#fdca26"
             ],
             [
              1,
              "#f0f921"
             ]
            ],
            "type": "histogram2d"
           }
          ],
          "histogram2dcontour": [
           {
            "colorbar": {
             "outlinewidth": 0,
             "ticks": ""
            },
            "colorscale": [
             [
              0,
              "#0d0887"
             ],
             [
              0.1111111111111111,
              "#46039f"
             ],
             [
              0.2222222222222222,
              "#7201a8"
             ],
             [
              0.3333333333333333,
              "#9c179e"
             ],
             [
              0.4444444444444444,
              "#bd3786"
             ],
             [
              0.5555555555555556,
              "#d8576b"
             ],
             [
              0.6666666666666666,
              "#ed7953"
             ],
             [
              0.7777777777777778,
              "#fb9f3a"
             ],
             [
              0.8888888888888888,
              "#fdca26"
             ],
             [
              1,
              "#f0f921"
             ]
            ],
            "type": "histogram2dcontour"
           }
          ],
          "mesh3d": [
           {
            "colorbar": {
             "outlinewidth": 0,
             "ticks": ""
            },
            "type": "mesh3d"
           }
          ],
          "parcoords": [
           {
            "line": {
             "colorbar": {
              "outlinewidth": 0,
              "ticks": ""
             }
            },
            "type": "parcoords"
           }
          ],
          "pie": [
           {
            "automargin": true,
            "type": "pie"
           }
          ],
          "scatter": [
           {
            "fillpattern": {
             "fillmode": "overlay",
             "size": 10,
             "solidity": 0.2
            },
            "type": "scatter"
           }
          ],
          "scatter3d": [
           {
            "line": {
             "colorbar": {
              "outlinewidth": 0,
              "ticks": ""
             }
            },
            "marker": {
             "colorbar": {
              "outlinewidth": 0,
              "ticks": ""
             }
            },
            "type": "scatter3d"
           }
          ],
          "scattercarpet": [
           {
            "marker": {
             "colorbar": {
              "outlinewidth": 0,
              "ticks": ""
             }
            },
            "type": "scattercarpet"
           }
          ],
          "scattergeo": [
           {
            "marker": {
             "colorbar": {
              "outlinewidth": 0,
              "ticks": ""
             }
            },
            "type": "scattergeo"
           }
          ],
          "scattergl": [
           {
            "marker": {
             "colorbar": {
              "outlinewidth": 0,
              "ticks": ""
             }
            },
            "type": "scattergl"
           }
          ],
          "scattermap": [
           {
            "marker": {
             "colorbar": {
              "outlinewidth": 0,
              "ticks": ""
             }
            },
            "type": "scattermap"
           }
          ],
          "scattermapbox": [
           {
            "marker": {
             "colorbar": {
              "outlinewidth": 0,
              "ticks": ""
             }
            },
            "type": "scattermapbox"
           }
          ],
          "scatterpolar": [
           {
            "marker": {
             "colorbar": {
              "outlinewidth": 0,
              "ticks": ""
             }
            },
            "type": "scatterpolar"
           }
          ],
          "scatterpolargl": [
           {
            "marker": {
             "colorbar": {
              "outlinewidth": 0,
              "ticks": ""
             }
            },
            "type": "scatterpolargl"
           }
          ],
          "scatterternary": [
           {
            "marker": {
             "colorbar": {
              "outlinewidth": 0,
              "ticks": ""
             }
            },
            "type": "scatterternary"
           }
          ],
          "surface": [
           {
            "colorbar": {
             "outlinewidth": 0,
             "ticks": ""
            },
            "colorscale": [
             [
              0,
              "#0d0887"
             ],
             [
              0.1111111111111111,
              "#46039f"
             ],
             [
              0.2222222222222222,
              "#7201a8"
             ],
             [
              0.3333333333333333,
              "#9c179e"
             ],
             [
              0.4444444444444444,
              "#bd3786"
             ],
             [
              0.5555555555555556,
              "#d8576b"
             ],
             [
              0.6666666666666666,
              "#ed7953"
             ],
             [
              0.7777777777777778,
              "#fb9f3a"
             ],
             [
              0.8888888888888888,
              "#fdca26"
             ],
             [
              1,
              "#f0f921"
             ]
            ],
            "type": "surface"
           }
          ],
          "table": [
           {
            "cells": {
             "fill": {
              "color": "#EBF0F8"
             },
             "line": {
              "color": "white"
             }
            },
            "header": {
             "fill": {
              "color": "#C8D4E3"
             },
             "line": {
              "color": "white"
             }
            },
            "type": "table"
           }
          ]
         },
         "layout": {
          "annotationdefaults": {
           "arrowcolor": "#2a3f5f",
           "arrowhead": 0,
           "arrowwidth": 1
          },
          "autotypenumbers": "strict",
          "coloraxis": {
           "colorbar": {
            "outlinewidth": 0,
            "ticks": ""
           }
          },
          "colorscale": {
           "diverging": [
            [
             0,
             "#8e0152"
            ],
            [
             0.1,
             "#c51b7d"
            ],
            [
             0.2,
             "#de77ae"
            ],
            [
             0.3,
             "#f1b6da"
            ],
            [
             0.4,
             "#fde0ef"
            ],
            [
             0.5,
             "#f7f7f7"
            ],
            [
             0.6,
             "#e6f5d0"
            ],
            [
             0.7,
             "#b8e186"
            ],
            [
             0.8,
             "#7fbc41"
            ],
            [
             0.9,
             "#4d9221"
            ],
            [
             1,
             "#276419"
            ]
           ],
           "sequential": [
            [
             0,
             "#0d0887"
            ],
            [
             0.1111111111111111,
             "#46039f"
            ],
            [
             0.2222222222222222,
             "#7201a8"
            ],
            [
             0.3333333333333333,
             "#9c179e"
            ],
            [
             0.4444444444444444,
             "#bd3786"
            ],
            [
             0.5555555555555556,
             "#d8576b"
            ],
            [
             0.6666666666666666,
             "#ed7953"
            ],
            [
             0.7777777777777778,
             "#fb9f3a"
            ],
            [
             0.8888888888888888,
             "#fdca26"
            ],
            [
             1,
             "#f0f921"
            ]
           ],
           "sequentialminus": [
            [
             0,
             "#0d0887"
            ],
            [
             0.1111111111111111,
             "#46039f"
            ],
            [
             0.2222222222222222,
             "#7201a8"
            ],
            [
             0.3333333333333333,
             "#9c179e"
            ],
            [
             0.4444444444444444,
             "#bd3786"
            ],
            [
             0.5555555555555556,
             "#d8576b"
            ],
            [
             0.6666666666666666,
             "#ed7953"
            ],
            [
             0.7777777777777778,
             "#fb9f3a"
            ],
            [
             0.8888888888888888,
             "#fdca26"
            ],
            [
             1,
             "#f0f921"
            ]
           ]
          },
          "colorway": [
           "#636efa",
           "#EF553B",
           "#00cc96",
           "#ab63fa",
           "#FFA15A",
           "#19d3f3",
           "#FF6692",
           "#B6E880",
           "#FF97FF",
           "#FECB52"
          ],
          "font": {
           "color": "#2a3f5f"
          },
          "geo": {
           "bgcolor": "white",
           "lakecolor": "white",
           "landcolor": "#E5ECF6",
           "showlakes": true,
           "showland": true,
           "subunitcolor": "white"
          },
          "hoverlabel": {
           "align": "left"
          },
          "hovermode": "closest",
          "mapbox": {
           "style": "light"
          },
          "paper_bgcolor": "white",
          "plot_bgcolor": "#E5ECF6",
          "polar": {
           "angularaxis": {
            "gridcolor": "white",
            "linecolor": "white",
            "ticks": ""
           },
           "bgcolor": "#E5ECF6",
           "radialaxis": {
            "gridcolor": "white",
            "linecolor": "white",
            "ticks": ""
           }
          },
          "scene": {
           "xaxis": {
            "backgroundcolor": "#E5ECF6",
            "gridcolor": "white",
            "gridwidth": 2,
            "linecolor": "white",
            "showbackground": true,
            "ticks": "",
            "zerolinecolor": "white"
           },
           "yaxis": {
            "backgroundcolor": "#E5ECF6",
            "gridcolor": "white",
            "gridwidth": 2,
            "linecolor": "white",
            "showbackground": true,
            "ticks": "",
            "zerolinecolor": "white"
           },
           "zaxis": {
            "backgroundcolor": "#E5ECF6",
            "gridcolor": "white",
            "gridwidth": 2,
            "linecolor": "white",
            "showbackground": true,
            "ticks": "",
            "zerolinecolor": "white"
           }
          },
          "shapedefaults": {
           "line": {
            "color": "#2a3f5f"
           }
          },
          "ternary": {
           "aaxis": {
            "gridcolor": "white",
            "linecolor": "white",
            "ticks": ""
           },
           "baxis": {
            "gridcolor": "white",
            "linecolor": "white",
            "ticks": ""
           },
           "bgcolor": "#E5ECF6",
           "caxis": {
            "gridcolor": "white",
            "linecolor": "white",
            "ticks": ""
           }
          },
          "title": {
           "x": 0.05
          },
          "xaxis": {
           "automargin": true,
           "gridcolor": "white",
           "linecolor": "white",
           "ticks": "",
           "title": {
            "standoff": 15
           },
           "zerolinecolor": "white",
           "zerolinewidth": 2
          },
          "yaxis": {
           "automargin": true,
           "gridcolor": "white",
           "linecolor": "white",
           "ticks": "",
           "title": {
            "standoff": 15
           },
           "zerolinecolor": "white",
           "zerolinewidth": 2
          }
         }
        },
        "title": {
         "text": "Selected Features Across Groups"
        },
        "width": 1600,
        "xaxis": {
         "anchor": "y",
         "domain": [
          0,
          0.2125
         ]
        },
        "xaxis10": {
         "anchor": "y10",
         "domain": [
          0.2625,
          0.475
         ]
        },
        "xaxis11": {
         "anchor": "y11",
         "domain": [
          0.525,
          0.7375
         ]
        },
        "xaxis12": {
         "anchor": "y12",
         "domain": [
          0.7875,
          1
         ]
        },
        "xaxis2": {
         "anchor": "y2",
         "domain": [
          0.2625,
          0.475
         ]
        },
        "xaxis3": {
         "anchor": "y3",
         "domain": [
          0.525,
          0.7375
         ]
        },
        "xaxis4": {
         "anchor": "y4",
         "domain": [
          0.7875,
          1
         ]
        },
        "xaxis5": {
         "anchor": "y5",
         "domain": [
          0,
          0.2125
         ]
        },
        "xaxis6": {
         "anchor": "y6",
         "domain": [
          0.2625,
          0.475
         ]
        },
        "xaxis7": {
         "anchor": "y7",
         "domain": [
          0.525,
          0.7375
         ]
        },
        "xaxis8": {
         "anchor": "y8",
         "domain": [
          0.7875,
          1
         ]
        },
        "xaxis9": {
         "anchor": "y9",
         "domain": [
          0,
          0.2125
         ]
        },
        "yaxis": {
         "anchor": "x",
         "domain": [
          0.7777777777777778,
          1
         ]
        },
        "yaxis10": {
         "anchor": "x10",
         "domain": [
          0,
          0.22222222222222224
         ]
        },
        "yaxis11": {
         "anchor": "x11",
         "domain": [
          0,
          0.22222222222222224
         ]
        },
        "yaxis12": {
         "anchor": "x12",
         "domain": [
          0,
          0.22222222222222224
         ]
        },
        "yaxis2": {
         "anchor": "x2",
         "domain": [
          0.7777777777777778,
          1
         ]
        },
        "yaxis3": {
         "anchor": "x3",
         "domain": [
          0.7777777777777778,
          1
         ]
        },
        "yaxis4": {
         "anchor": "x4",
         "domain": [
          0.7777777777777778,
          1
         ]
        },
        "yaxis5": {
         "anchor": "x5",
         "domain": [
          0.3888888888888889,
          0.6111111111111112
         ]
        },
        "yaxis6": {
         "anchor": "x6",
         "domain": [
          0.3888888888888889,
          0.6111111111111112
         ]
        },
        "yaxis7": {
         "anchor": "x7",
         "domain": [
          0.3888888888888889,
          0.6111111111111112
         ]
        },
        "yaxis8": {
         "anchor": "x8",
         "domain": [
          0.3888888888888889,
          0.6111111111111112
         ]
        },
        "yaxis9": {
         "anchor": "x9",
         "domain": [
          0,
          0.22222222222222224
         ]
        }
       }
      }
     },
     "metadata": {},
     "output_type": "display_data"
    },
    {
     "data": {
      "application/vnd.plotly.v1+json": {
       "config": {
        "plotlyServerURL": "https://plot.ly"
       },
       "data": [
        {
         "error_y": {
          "array": [
           0.5444742601275224,
           2.262036894290908,
           1.5233799379420432
          ],
          "type": "data",
          "visible": true
         },
         "marker": {
          "color": [
           "#636EFA",
           "#EF553B",
           "#00CC96"
          ],
          "line": {
           "color": "black",
           "width": 1
          }
         },
         "name": "Mean angle value - rhindlimb - knee (°)",
         "type": "bar",
         "x": [
          "healthy_left_B_run",
          "sick_left_C_run",
          "sick_left_E_run"
         ],
         "xaxis": "x",
         "y": [
          91.79139135127069,
          92.04278340823399,
          90.25835217811263
         ],
         "yaxis": "y"
        },
        {
         "marker": {
          "color": "black",
          "opacity": 0.5,
          "size": 6
         },
         "mode": "markers",
         "showlegend": false,
         "type": "scatter",
         "x": [
          "healthy_left_B_run",
          "healthy_left_B_run",
          "healthy_left_B_run",
          "healthy_left_B_run",
          "healthy_left_B_run",
          "healthy_left_B_run",
          "healthy_left_B_run",
          "healthy_left_B_run",
          "healthy_left_B_run",
          "healthy_left_B_run"
         ],
         "xaxis": "x",
         "y": {
          "bdata": "frxhVoXIVkAUEtjGgg1XQDbO2drhFVdAU9WIbpDnVkDyjd+Uvd9WQF72uSEKxVZAJ7dUqRniVkBzgIGzXCBXQGwm2m/WHldARcgzpe7gVkA=",
          "dtype": "f8"
         },
         "yaxis": "y"
        },
        {
         "marker": {
          "color": "black",
          "opacity": 0.5,
          "size": 6
         },
         "mode": "markers",
         "showlegend": false,
         "type": "scatter",
         "x": [
          "sick_left_C_run",
          "sick_left_C_run",
          "sick_left_C_run",
          "sick_left_C_run",
          "sick_left_C_run",
          "sick_left_C_run",
          "sick_left_C_run",
          "sick_left_C_run",
          "sick_left_C_run",
          "sick_left_C_run"
         ],
         "xaxis": "x",
         "y": {
          "bdata": "Oia9mMLiVkAYI/KG30hXQDZDnvvgJVdAylQfa0JZV0A2eDWKUARWQM308H9jIVdAe0p0Um6EVkA9iGVdgXJXQBsu7vHm7VdAv6HYbxFmVkA=",
          "dtype": "f8"
         },
         "yaxis": "y"
        },
        {
         "marker": {
          "color": "black",
          "opacity": 0.5,
          "size": 6
         },
         "mode": "markers",
         "showlegend": false,
         "type": "scatter",
         "x": [
          "sick_left_E_run",
          "sick_left_E_run",
          "sick_left_E_run",
          "sick_left_E_run",
          "sick_left_E_run",
          "sick_left_E_run",
          "sick_left_E_run",
          "sick_left_E_run",
          "sick_left_E_run",
          "sick_left_E_run"
         ],
         "xaxis": "x",
         "y": {
          "bdata": "JZojOHC3VkAIKduzSqZWQNNa9LsYDVdAOuAe4bRPVkDWzDWiqo5WQCttIJ9RpVZA1icgmcfeVkCsdyAtxZlWQBxFfQybnFZAZ3+XzquhVUA=",
          "dtype": "f8"
         },
         "yaxis": "y"
        },
        {
         "error_y": {
          "array": [
           3.9157969015916274,
           2.3604841661717257,
           2.1850217837915586
          ],
          "type": "data",
          "visible": true
         },
         "marker": {
          "color": [
           "#636EFA",
           "#EF553B",
           "#00CC96"
          ],
          "line": {
           "color": "black",
           "width": 1
          }
         },
         "name": "Mean angle velocity at stance - rhindlimb - ankle (rad/s)",
         "type": "bar",
         "x": [
          "healthy_left_B_run",
          "sick_left_C_run",
          "sick_left_E_run"
         ],
         "xaxis": "x2",
         "y": [
          3.5543808837866293,
          2.201248853744157,
          0.6812141878585101
         ],
         "yaxis": "y2"
        },
        {
         "marker": {
          "color": "black",
          "opacity": 0.5,
          "size": 6
         },
         "mode": "markers",
         "showlegend": false,
         "type": "scatter",
         "x": [
          "healthy_left_B_run",
          "healthy_left_B_run",
          "healthy_left_B_run",
          "healthy_left_B_run",
          "healthy_left_B_run",
          "healthy_left_B_run",
          "healthy_left_B_run",
          "healthy_left_B_run",
          "healthy_left_B_run",
          "healthy_left_B_run"
         ],
         "xaxis": "x2",
         "y": {
          "bdata": "WoeBz6ES0L+gam9BBZ/7PyKQPHt/eem/r+iHJpvGD0CG/Fe+BuYlQLS81kXxt+k/Rct82VQaIEAZ/JAVGr39P2IIQ3qpJgBAfFYtx9bXHEA=",
          "dtype": "f8"
         },
         "yaxis": "y2"
        },
        {
         "marker": {
          "color": "black",
          "opacity": 0.5,
          "size": 6
         },
         "mode": "markers",
         "showlegend": false,
         "type": "scatter",
         "x": [
          "sick_left_C_run",
          "sick_left_C_run",
          "sick_left_C_run",
          "sick_left_C_run",
          "sick_left_C_run",
          "sick_left_C_run",
          "sick_left_C_run",
          "sick_left_C_run",
          "sick_left_C_run",
          "sick_left_C_run"
         ],
         "xaxis": "x2",
         "y": {
          "bdata": "22odELftHUD5A+q2ALH4P5RFRfBqpABA2jWWm6m5DEC+Cb/7xtH+v7cJenVcbOM/LUtlxSTMBEBo4VNvZp4AQJRy3HSwr/0/1mDtgPnSAEA=",
          "dtype": "f8"
         },
         "yaxis": "y2"
        },
        {
         "marker": {
          "color": "black",
          "opacity": 0.5,
          "size": 6
         },
         "mode": "markers",
         "showlegend": false,
         "type": "scatter",
         "x": [
          "sick_left_E_run",
          "sick_left_E_run",
          "sick_left_E_run",
          "sick_left_E_run",
          "sick_left_E_run",
          "sick_left_E_run",
          "sick_left_E_run",
          "sick_left_E_run",
          "sick_left_E_run",
          "sick_left_E_run"
         ],
         "xaxis": "x2",
         "y": {
          "bdata": "vjG20a8i0b9ln/UHE4z1v8vqzfdOv9i/Qsbvg/Aq8D//OnkjBpP1v/gsYocHg+U/cB44cUMjF0BZ8ioon1fyvxzpuYXhbQFAxW2JaXuY+j8=",
          "dtype": "f8"
         },
         "yaxis": "y2"
        },
        {
         "error_y": {
          "array": [
           0.13829038762696225,
           0.055468073392555134,
           0.1046776559604696
          ],
          "type": "data",
          "visible": true
         },
         "marker": {
          "color": [
           "#636EFA",
           "#EF553B",
           "#00CC96"
          ],
          "line": {
           "color": "black",
           "width": 1
          }
         },
         "name": "Mean step acceleration Y during swing - spine 3 std",
         "type": "bar",
         "x": [
          "healthy_left_B_run",
          "sick_left_C_run",
          "sick_left_E_run"
         ],
         "xaxis": "x3",
         "y": [
          0.2837832485648659,
          0.22839981137800444,
          0.206129655607849
         ],
         "yaxis": "y3"
        },
        {
         "marker": {
          "color": "black",
          "opacity": 0.5,
          "size": 6
         },
         "mode": "markers",
         "showlegend": false,
         "type": "scatter",
         "x": [
          "healthy_left_B_run",
          "healthy_left_B_run",
          "healthy_left_B_run",
          "healthy_left_B_run",
          "healthy_left_B_run",
          "healthy_left_B_run",
          "healthy_left_B_run",
          "healthy_left_B_run",
          "healthy_left_B_run",
          "healthy_left_B_run"
         ],
         "xaxis": "x3",
         "y": {
          "bdata": "Mq7tnUxzuj/FrPa+S6XYP13FkWe4YNA/WDVuch1yxT8xK1Cxu9HdP8pioerAq8M/yaV8Ihuiwz9ssilDGYbeP3EPoJTPh9I/KeF0jpO82D8=",
          "dtype": "f8"
         },
         "yaxis": "y3"
        },
        {
         "marker": {
          "color": "black",
          "opacity": 0.5,
          "size": 6
         },
         "mode": "markers",
         "showlegend": false,
         "type": "scatter",
         "x": [
          "sick_left_C_run",
          "sick_left_C_run",
          "sick_left_C_run",
          "sick_left_C_run",
          "sick_left_C_run",
          "sick_left_C_run",
          "sick_left_C_run",
          "sick_left_C_run",
          "sick_left_C_run",
          "sick_left_C_run"
         ],
         "xaxis": "x3",
         "y": {
          "bdata": "Cd72Q0560D8VWxoyrM7BP+fHMwLWhs0/G+50kSJAyz8v55Ok8TjQP+xAHqVOEtI/9KbLAxqfwj+QyAAFb7vQP+nxIEGklNM/5JRDaAr6yD8=",
          "dtype": "f8"
         },
         "yaxis": "y3"
        },
        {
         "marker": {
          "color": "black",
          "opacity": 0.5,
          "size": 6
         },
         "mode": "markers",
         "showlegend": false,
         "type": "scatter",
         "x": [
          "sick_left_E_run",
          "sick_left_E_run",
          "sick_left_E_run",
          "sick_left_E_run",
          "sick_left_E_run",
          "sick_left_E_run",
          "sick_left_E_run",
          "sick_left_E_run",
          "sick_left_E_run",
          "sick_left_E_run"
         ],
         "xaxis": "x3",
         "y": {
          "bdata": "mMXTB3MowT/aWPnUdKrQP25rLlRl0rk/TSRMgp5S1T/f7qLGj9OzP3cQpFtN3r8/BGLOXISR0j+F1FhTdozUP7u3QDzISbw//5vpK37J0z8=",
          "dtype": "f8"
         },
         "yaxis": "y3"
        },
        {
         "error_y": {
          "array": [
           15.769752111552624,
           12.336717315866498,
           3.806777424456815
          ],
          "type": "data",
          "visible": true
         },
         "marker": {
          "color": [
           "#636EFA",
           "#EF553B",
           "#00CC96"
          ],
          "line": {
           "color": "black",
           "width": 1
          }
         },
         "name": "Mean step jerk Y during swing - base std",
         "type": "bar",
         "x": [
          "healthy_left_B_run",
          "sick_left_C_run",
          "sick_left_E_run"
         ],
         "xaxis": "x4",
         "y": [
          25.327387622961492,
          19.49519871831678,
          14.109063780694308
         ],
         "yaxis": "y4"
        },
        {
         "marker": {
          "color": "black",
          "opacity": 0.5,
          "size": 6
         },
         "mode": "markers",
         "showlegend": false,
         "type": "scatter",
         "x": [
          "healthy_left_B_run",
          "healthy_left_B_run",
          "healthy_left_B_run",
          "healthy_left_B_run",
          "healthy_left_B_run",
          "healthy_left_B_run",
          "healthy_left_B_run",
          "healthy_left_B_run",
          "healthy_left_B_run",
          "healthy_left_B_run"
         ],
         "xaxis": "x4",
         "y": {
          "bdata": "FW2RdDB3MUC0QUrFmOM4QO4/8yrOhi9A2R/DxA+MIEB0F00cP1NLQDOURcSbO0RASYin3uJaHECXIZlHgvMzQJWO1hGhTzVAbMhZXim1RUA=",
          "dtype": "f8"
         },
         "yaxis": "y4"
        },
        {
         "marker": {
          "color": "black",
          "opacity": 0.5,
          "size": 6
         },
         "mode": "markers",
         "showlegend": false,
         "type": "scatter",
         "x": [
          "sick_left_C_run",
          "sick_left_C_run",
          "sick_left_C_run",
          "sick_left_C_run",
          "sick_left_C_run",
          "sick_left_C_run",
          "sick_left_C_run",
          "sick_left_C_run",
          "sick_left_C_run",
          "sick_left_C_run"
         ],
         "xaxis": "x4",
         "y": {
          "bdata": "c6OwkK7mFUCwcH/V9IIyQLMiDQaZUURAC9rkAbhECkAk67F/1J5AQEDOYtmhdjJAfhzs1gXyJ0AUq/I7Ilg+QNNWO5x0WSRANGdKmiHZNkA=",
          "dtype": "f8"
         },
         "yaxis": "y4"
        },
        {
         "marker": {
          "color": "black",
          "opacity": 0.5,
          "size": 6
         },
         "mode": "markers",
         "showlegend": false,
         "type": "scatter",
         "x": [
          "sick_left_E_run",
          "sick_left_E_run",
          "sick_left_E_run",
          "sick_left_E_run",
          "sick_left_E_run",
          "sick_left_E_run",
          "sick_left_E_run",
          "sick_left_E_run",
          "sick_left_E_run",
          "sick_left_E_run"
         ],
         "xaxis": "x4",
         "y": {
          "bdata": "oZffoIT7KUBdMB+yXrktQLA+e1nlejJAmLBBJzgIMkAFGraUpc0jQI/Eu9F2ei9Ai5GkCc8/JUDzJaG+u+ctQO1UGc9CGjJAE5t85TmeHUA=",
          "dtype": "f8"
         },
         "yaxis": "y4"
        }
       ],
       "layout": {
        "annotations": [
         {
          "font": {
           "size": 16
          },
          "showarrow": false,
          "text": "angle value knee (°)",
          "x": 0.10625,
          "xanchor": "center",
          "xref": "paper",
          "y": 1,
          "yanchor": "bottom",
          "yref": "paper"
         },
         {
          "font": {
           "size": 16
          },
          "showarrow": false,
          "text": "angle velocity at stance ankle (rad/s)",
          "x": 0.36875,
          "xanchor": "center",
          "xref": "paper",
          "y": 1,
          "yanchor": "bottom",
          "yref": "paper"
         },
         {
          "font": {
           "size": 16
          },
          "showarrow": false,
          "text": "step acceleration Y during swing - spine 3 std",
          "x": 0.6312500000000001,
          "xanchor": "center",
          "xref": "paper",
          "y": 1,
          "yanchor": "bottom",
          "yref": "paper"
         },
         {
          "font": {
           "size": 16
          },
          "showarrow": false,
          "text": "step jerk Y during swing - base std",
          "x": 0.89375,
          "xanchor": "center",
          "xref": "paper",
          "y": 1,
          "yanchor": "bottom",
          "yref": "paper"
         }
        ],
        "height": 500,
        "plot_bgcolor": "rgba(0,0,0,0)",
        "showlegend": false,
        "template": {
         "data": {
          "bar": [
           {
            "error_x": {
             "color": "#2a3f5f"
            },
            "error_y": {
             "color": "#2a3f5f"
            },
            "marker": {
             "line": {
              "color": "#E5ECF6",
              "width": 0.5
             },
             "pattern": {
              "fillmode": "overlay",
              "size": 10,
              "solidity": 0.2
             }
            },
            "type": "bar"
           }
          ],
          "barpolar": [
           {
            "marker": {
             "line": {
              "color": "#E5ECF6",
              "width": 0.5
             },
             "pattern": {
              "fillmode": "overlay",
              "size": 10,
              "solidity": 0.2
             }
            },
            "type": "barpolar"
           }
          ],
          "carpet": [
           {
            "aaxis": {
             "endlinecolor": "#2a3f5f",
             "gridcolor": "white",
             "linecolor": "white",
             "minorgridcolor": "white",
             "startlinecolor": "#2a3f5f"
            },
            "baxis": {
             "endlinecolor": "#2a3f5f",
             "gridcolor": "white",
             "linecolor": "white",
             "minorgridcolor": "white",
             "startlinecolor": "#2a3f5f"
            },
            "type": "carpet"
           }
          ],
          "choropleth": [
           {
            "colorbar": {
             "outlinewidth": 0,
             "ticks": ""
            },
            "type": "choropleth"
           }
          ],
          "contour": [
           {
            "colorbar": {
             "outlinewidth": 0,
             "ticks": ""
            },
            "colorscale": [
             [
              0,
              "#0d0887"
             ],
             [
              0.1111111111111111,
              "#46039f"
             ],
             [
              0.2222222222222222,
              "#7201a8"
             ],
             [
              0.3333333333333333,
              "#9c179e"
             ],
             [
              0.4444444444444444,
              "#bd3786"
             ],
             [
              0.5555555555555556,
              "#d8576b"
             ],
             [
              0.6666666666666666,
              "#ed7953"
             ],
             [
              0.7777777777777778,
              "#fb9f3a"
             ],
             [
              0.8888888888888888,
              "#fdca26"
             ],
             [
              1,
              "#f0f921"
             ]
            ],
            "type": "contour"
           }
          ],
          "contourcarpet": [
           {
            "colorbar": {
             "outlinewidth": 0,
             "ticks": ""
            },
            "type": "contourcarpet"
           }
          ],
          "heatmap": [
           {
            "colorbar": {
             "outlinewidth": 0,
             "ticks": ""
            },
            "colorscale": [
             [
              0,
              "#0d0887"
             ],
             [
              0.1111111111111111,
              "#46039f"
             ],
             [
              0.2222222222222222,
              "#7201a8"
             ],
             [
              0.3333333333333333,
              "#9c179e"
             ],
             [
              0.4444444444444444,
              "#bd3786"
             ],
             [
              0.5555555555555556,
              "#d8576b"
             ],
             [
              0.6666666666666666,
              "#ed7953"
             ],
             [
              0.7777777777777778,
              "#fb9f3a"
             ],
             [
              0.8888888888888888,
              "#fdca26"
             ],
             [
              1,
              "#f0f921"
             ]
            ],
            "type": "heatmap"
           }
          ],
          "histogram": [
           {
            "marker": {
             "pattern": {
              "fillmode": "overlay",
              "size": 10,
              "solidity": 0.2
             }
            },
            "type": "histogram"
           }
          ],
          "histogram2d": [
           {
            "colorbar": {
             "outlinewidth": 0,
             "ticks": ""
            },
            "colorscale": [
             [
              0,
              "#0d0887"
             ],
             [
              0.1111111111111111,
              "#46039f"
             ],
             [
              0.2222222222222222,
              "#7201a8"
             ],
             [
              0.3333333333333333,
              "#9c179e"
             ],
             [
              0.4444444444444444,
              "#bd3786"
             ],
             [
              0.5555555555555556,
              "#d8576b"
             ],
             [
              0.6666666666666666,
              "#ed7953"
             ],
             [
              0.7777777777777778,
              "#fb9f3a"
             ],
             [
              0.8888888888888888,
              "#fdca26"
             ],
             [
              1,
              "#f0f921"
             ]
            ],
            "type": "histogram2d"
           }
          ],
          "histogram2dcontour": [
           {
            "colorbar": {
             "outlinewidth": 0,
             "ticks": ""
            },
            "colorscale": [
             [
              0,
              "#0d0887"
             ],
             [
              0.1111111111111111,
              "#46039f"
             ],
             [
              0.2222222222222222,
              "#7201a8"
             ],
             [
              0.3333333333333333,
              "#9c179e"
             ],
             [
              0.4444444444444444,
              "#bd3786"
             ],
             [
              0.5555555555555556,
              "#d8576b"
             ],
             [
              0.6666666666666666,
              "#ed7953"
             ],
             [
              0.7777777777777778,
              "#fb9f3a"
             ],
             [
              0.8888888888888888,
              "#fdca26"
             ],
             [
              1,
              "#f0f921"
             ]
            ],
            "type": "histogram2dcontour"
           }
          ],
          "mesh3d": [
           {
            "colorbar": {
             "outlinewidth": 0,
             "ticks": ""
            },
            "type": "mesh3d"
           }
          ],
          "parcoords": [
           {
            "line": {
             "colorbar": {
              "outlinewidth": 0,
              "ticks": ""
             }
            },
            "type": "parcoords"
           }
          ],
          "pie": [
           {
            "automargin": true,
            "type": "pie"
           }
          ],
          "scatter": [
           {
            "fillpattern": {
             "fillmode": "overlay",
             "size": 10,
             "solidity": 0.2
            },
            "type": "scatter"
           }
          ],
          "scatter3d": [
           {
            "line": {
             "colorbar": {
              "outlinewidth": 0,
              "ticks": ""
             }
            },
            "marker": {
             "colorbar": {
              "outlinewidth": 0,
              "ticks": ""
             }
            },
            "type": "scatter3d"
           }
          ],
          "scattercarpet": [
           {
            "marker": {
             "colorbar": {
              "outlinewidth": 0,
              "ticks": ""
             }
            },
            "type": "scattercarpet"
           }
          ],
          "scattergeo": [
           {
            "marker": {
             "colorbar": {
              "outlinewidth": 0,
              "ticks": ""
             }
            },
            "type": "scattergeo"
           }
          ],
          "scattergl": [
           {
            "marker": {
             "colorbar": {
              "outlinewidth": 0,
              "ticks": ""
             }
            },
            "type": "scattergl"
           }
          ],
          "scattermap": [
           {
            "marker": {
             "colorbar": {
              "outlinewidth": 0,
              "ticks": ""
             }
            },
            "type": "scattermap"
           }
          ],
          "scattermapbox": [
           {
            "marker": {
             "colorbar": {
              "outlinewidth": 0,
              "ticks": ""
             }
            },
            "type": "scattermapbox"
           }
          ],
          "scatterpolar": [
           {
            "marker": {
             "colorbar": {
              "outlinewidth": 0,
              "ticks": ""
             }
            },
            "type": "scatterpolar"
           }
          ],
          "scatterpolargl": [
           {
            "marker": {
             "colorbar": {
              "outlinewidth": 0,
              "ticks": ""
             }
            },
            "type": "scatterpolargl"
           }
          ],
          "scatterternary": [
           {
            "marker": {
             "colorbar": {
              "outlinewidth": 0,
              "ticks": ""
             }
            },
            "type": "scatterternary"
           }
          ],
          "surface": [
           {
            "colorbar": {
             "outlinewidth": 0,
             "ticks": ""
            },
            "colorscale": [
             [
              0,
              "#0d0887"
             ],
             [
              0.1111111111111111,
              "#46039f"
             ],
             [
              0.2222222222222222,
              "#7201a8"
             ],
             [
              0.3333333333333333,
              "#9c179e"
             ],
             [
              0.4444444444444444,
              "#bd3786"
             ],
             [
              0.5555555555555556,
              "#d8576b"
             ],
             [
              0.6666666666666666,
              "#ed7953"
             ],
             [
              0.7777777777777778,
              "#fb9f3a"
             ],
             [
              0.8888888888888888,
              "#fdca26"
             ],
             [
              1,
              "#f0f921"
             ]
            ],
            "type": "surface"
           }
          ],
          "table": [
           {
            "cells": {
             "fill": {
              "color": "#EBF0F8"
             },
             "line": {
              "color": "white"
             }
            },
            "header": {
             "fill": {
              "color": "#C8D4E3"
             },
             "line": {
              "color": "white"
             }
            },
            "type": "table"
           }
          ]
         },
         "layout": {
          "annotationdefaults": {
           "arrowcolor": "#2a3f5f",
           "arrowhead": 0,
           "arrowwidth": 1
          },
          "autotypenumbers": "strict",
          "coloraxis": {
           "colorbar": {
            "outlinewidth": 0,
            "ticks": ""
           }
          },
          "colorscale": {
           "diverging": [
            [
             0,
             "#8e0152"
            ],
            [
             0.1,
             "#c51b7d"
            ],
            [
             0.2,
             "#de77ae"
            ],
            [
             0.3,
             "#f1b6da"
            ],
            [
             0.4,
             "#fde0ef"
            ],
            [
             0.5,
             "#f7f7f7"
            ],
            [
             0.6,
             "#e6f5d0"
            ],
            [
             0.7,
             "#b8e186"
            ],
            [
             0.8,
             "#7fbc41"
            ],
            [
             0.9,
             "#4d9221"
            ],
            [
             1,
             "#276419"
            ]
           ],
           "sequential": [
            [
             0,
             "#0d0887"
            ],
            [
             0.1111111111111111,
             "#46039f"
            ],
            [
             0.2222222222222222,
             "#7201a8"
            ],
            [
             0.3333333333333333,
             "#9c179e"
            ],
            [
             0.4444444444444444,
             "#bd3786"
            ],
            [
             0.5555555555555556,
             "#d8576b"
            ],
            [
             0.6666666666666666,
             "#ed7953"
            ],
            [
             0.7777777777777778,
             "#fb9f3a"
            ],
            [
             0.8888888888888888,
             "#fdca26"
            ],
            [
             1,
             "#f0f921"
            ]
           ],
           "sequentialminus": [
            [
             0,
             "#0d0887"
            ],
            [
             0.1111111111111111,
             "#46039f"
            ],
            [
             0.2222222222222222,
             "#7201a8"
            ],
            [
             0.3333333333333333,
             "#9c179e"
            ],
            [
             0.4444444444444444,
             "#bd3786"
            ],
            [
             0.5555555555555556,
             "#d8576b"
            ],
            [
             0.6666666666666666,
             "#ed7953"
            ],
            [
             0.7777777777777778,
             "#fb9f3a"
            ],
            [
             0.8888888888888888,
             "#fdca26"
            ],
            [
             1,
             "#f0f921"
            ]
           ]
          },
          "colorway": [
           "#636efa",
           "#EF553B",
           "#00cc96",
           "#ab63fa",
           "#FFA15A",
           "#19d3f3",
           "#FF6692",
           "#B6E880",
           "#FF97FF",
           "#FECB52"
          ],
          "font": {
           "color": "#2a3f5f"
          },
          "geo": {
           "bgcolor": "white",
           "lakecolor": "white",
           "landcolor": "#E5ECF6",
           "showlakes": true,
           "showland": true,
           "subunitcolor": "white"
          },
          "hoverlabel": {
           "align": "left"
          },
          "hovermode": "closest",
          "mapbox": {
           "style": "light"
          },
          "paper_bgcolor": "white",
          "plot_bgcolor": "#E5ECF6",
          "polar": {
           "angularaxis": {
            "gridcolor": "white",
            "linecolor": "white",
            "ticks": ""
           },
           "bgcolor": "#E5ECF6",
           "radialaxis": {
            "gridcolor": "white",
            "linecolor": "white",
            "ticks": ""
           }
          },
          "scene": {
           "xaxis": {
            "backgroundcolor": "#E5ECF6",
            "gridcolor": "white",
            "gridwidth": 2,
            "linecolor": "white",
            "showbackground": true,
            "ticks": "",
            "zerolinecolor": "white"
           },
           "yaxis": {
            "backgroundcolor": "#E5ECF6",
            "gridcolor": "white",
            "gridwidth": 2,
            "linecolor": "white",
            "showbackground": true,
            "ticks": "",
            "zerolinecolor": "white"
           },
           "zaxis": {
            "backgroundcolor": "#E5ECF6",
            "gridcolor": "white",
            "gridwidth": 2,
            "linecolor": "white",
            "showbackground": true,
            "ticks": "",
            "zerolinecolor": "white"
           }
          },
          "shapedefaults": {
           "line": {
            "color": "#2a3f5f"
           }
          },
          "ternary": {
           "aaxis": {
            "gridcolor": "white",
            "linecolor": "white",
            "ticks": ""
           },
           "baxis": {
            "gridcolor": "white",
            "linecolor": "white",
            "ticks": ""
           },
           "bgcolor": "#E5ECF6",
           "caxis": {
            "gridcolor": "white",
            "linecolor": "white",
            "ticks": ""
           }
          },
          "title": {
           "x": 0.05
          },
          "xaxis": {
           "automargin": true,
           "gridcolor": "white",
           "linecolor": "white",
           "ticks": "",
           "title": {
            "standoff": 15
           },
           "zerolinecolor": "white",
           "zerolinewidth": 2
          },
          "yaxis": {
           "automargin": true,
           "gridcolor": "white",
           "linecolor": "white",
           "ticks": "",
           "title": {
            "standoff": 15
           },
           "zerolinecolor": "white",
           "zerolinewidth": 2
          }
         }
        },
        "title": {
         "text": "Selected Features Across Groups"
        },
        "width": 1600,
        "xaxis": {
         "anchor": "y",
         "domain": [
          0,
          0.2125
         ]
        },
        "xaxis2": {
         "anchor": "y2",
         "domain": [
          0.2625,
          0.475
         ]
        },
        "xaxis3": {
         "anchor": "y3",
         "domain": [
          0.525,
          0.7375
         ]
        },
        "xaxis4": {
         "anchor": "y4",
         "domain": [
          0.7875,
          1
         ]
        },
        "yaxis": {
         "anchor": "x",
         "domain": [
          0,
          1
         ]
        },
        "yaxis2": {
         "anchor": "x2",
         "domain": [
          0,
          1
         ]
        },
        "yaxis3": {
         "anchor": "x3",
         "domain": [
          0,
          1
         ]
        },
        "yaxis4": {
         "anchor": "x4",
         "domain": [
          0,
          1
         ]
        }
       }
      }
     },
     "metadata": {},
     "output_type": "display_data"
    },
    {
     "data": {
      "application/vnd.plotly.v1+json": {
       "config": {
        "plotlyServerURL": "https://plot.ly"
       },
       "data": [
        {
         "error_y": {
          "array": [
           0.9969047201666582,
           0.37631992856091045,
           1.1302152793576221
          ],
          "type": "data",
          "visible": true
         },
         "marker": {
          "color": [
           "#636EFA",
           "#EF553B",
           "#00CC96"
          ],
          "line": {
           "color": "black",
           "width": 1
          }
         },
         "name": "Mean angle velocity at stance - rhindlimb - knee std",
         "type": "bar",
         "x": [
          "healthy_left_B_run",
          "sick_left_C_run",
          "sick_left_E_run"
         ],
         "xaxis": "x",
         "y": [
          2.2592853107525466,
          1.3730600865098612,
          1.9073940898479094
         ],
         "yaxis": "y"
        },
        {
         "marker": {
          "color": "black",
          "opacity": 0.5,
          "size": 6
         },
         "mode": "markers",
         "showlegend": false,
         "type": "scatter",
         "x": [
          "healthy_left_B_run",
          "healthy_left_B_run",
          "healthy_left_B_run",
          "healthy_left_B_run",
          "healthy_left_B_run",
          "healthy_left_B_run",
          "healthy_left_B_run",
          "healthy_left_B_run",
          "healthy_left_B_run",
          "healthy_left_B_run"
         ],
         "xaxis": "x",
         "y": {
          "bdata": "6pLD8xgOB0C5a7pjnGsOQD0anHoU9PE/9xatOG/OAUCtlv40xDsLQCImqbvSk/Q/Eu0VZt5y+z9tDlxhxBwJQOm5n7JvwvA/UBk87sN9/z8=",
          "dtype": "f8"
         },
         "yaxis": "y"
        },
        {
         "marker": {
          "color": "black",
          "opacity": 0.5,
          "size": 6
         },
         "mode": "markers",
         "showlegend": false,
         "type": "scatter",
         "x": [
          "sick_left_C_run",
          "sick_left_C_run",
          "sick_left_C_run",
          "sick_left_C_run",
          "sick_left_C_run",
          "sick_left_C_run",
          "sick_left_C_run",
          "sick_left_C_run",
          "sick_left_C_run",
          "sick_left_C_run"
         ],
         "xaxis": "x",
         "y": {
          "bdata": "jJUmyH+n7j81v40Wk8LxP4M/rYMMBvg/yCrj1sPA9j/vIBCnSRj2P9lcbCQuNPs/bzVXWSpz/z+mqTf6syLnP1jkxZPKevs/a5F5faAH9D8=",
          "dtype": "f8"
         },
         "yaxis": "y"
        },
        {
         "marker": {
          "color": "black",
          "opacity": 0.5,
          "size": 6
         },
         "mode": "markers",
         "showlegend": false,
         "type": "scatter",
         "x": [
          "sick_left_E_run",
          "sick_left_E_run",
          "sick_left_E_run",
          "sick_left_E_run",
          "sick_left_E_run",
          "sick_left_E_run",
          "sick_left_E_run",
          "sick_left_E_run",
          "sick_left_E_run",
          "sick_left_E_run"
         ],
         "xaxis": "x",
         "y": {
          "bdata": "cI/dyKoG9j+1Cftucfb6P5hYzpnU0Po/Wwt29BTyC0DgKongeWsLQI9svNfUleY/Toow8RbGAkCtSFM2oyXfP8rIWGC5VOk/73+TL3itCEA=",
          "dtype": "f8"
         },
         "yaxis": "y"
        },
        {
         "error_y": {
          "array": [
           1.8863334526884918,
           1.341928638769611,
           1.530353922397454
          ],
          "type": "data",
          "visible": true
         },
         "marker": {
          "color": [
           "#636EFA",
           "#EF553B",
           "#00CC96"
          ],
          "line": {
           "color": "black",
           "width": 1
          }
         },
         "name": "Mean step acceleration Y at touchdown - ankle (m/s^2)",
         "type": "bar",
         "x": [
          "healthy_left_B_run",
          "sick_left_C_run",
          "sick_left_E_run"
         ],
         "xaxis": "x2",
         "y": [
          4.427953129758253,
          6.369636067263793,
          4.428876528786397
         ],
         "yaxis": "y2"
        },
        {
         "marker": {
          "color": "black",
          "opacity": 0.5,
          "size": 6
         },
         "mode": "markers",
         "showlegend": false,
         "type": "scatter",
         "x": [
          "healthy_left_B_run",
          "healthy_left_B_run",
          "healthy_left_B_run",
          "healthy_left_B_run",
          "healthy_left_B_run",
          "healthy_left_B_run",
          "healthy_left_B_run",
          "healthy_left_B_run",
          "healthy_left_B_run",
          "healthy_left_B_run"
         ],
         "xaxis": "x2",
         "y": {
          "bdata": "XRqkQRpI+z/q8i3f8ssRQG/SIA1SFQFAxwscNWPlFUDho0EaJCkHQCwapEFCUgtAp53YiR1RFUCZhVd49W8TQFE91EM95xlAGZ+aVDQqHkA=",
          "dtype": "f8"
         },
         "yaxis": "y2"
        },
        {
         "marker": {
          "color": "black",
          "opacity": 0.5,
          "size": 6
         },
         "mode": "markers",
         "showlegend": false,
         "type": "scatter",
         "x": [
          "sick_left_C_run",
          "sick_left_C_run",
          "sick_left_C_run",
          "sick_left_C_run",
          "sick_left_C_run",
          "sick_left_C_run",
          "sick_left_C_run",
          "sick_left_C_run",
          "sick_left_C_run",
          "sick_left_C_run"
         ],
         "xaxis": "x2",
         "y": {
          "bdata": "z5RMyURqHkARRmAExpEUQA6O4ziOCx1A3ZZv+ZbpFECiQRqkDVwZQMldT8e6cB9Alnn9/qWXGECbYzZmA/IbQAqkQRrEzR1ArlmbtVlnDUA=",
          "dtype": "f8"
         },
         "yaxis": "y2"
        },
        {
         "marker": {
          "color": "black",
          "opacity": 0.5,
          "size": 6
         },
         "mode": "markers",
         "showlegend": false,
         "type": "scatter",
         "x": [
          "sick_left_E_run",
          "sick_left_E_run",
          "sick_left_E_run",
          "sick_left_E_run",
          "sick_left_E_run",
          "sick_left_E_run",
          "sick_left_E_run",
          "sick_left_E_run",
          "sick_left_E_run",
          "sick_left_E_run"
         ],
         "xaxis": "x2",
         "y": {
          "bdata": "1KLavVipFEAVwzAMY54RQCaV3he4LhlA+V3cxR2ME0AKLMESLCMaQLge6qHe+QtAREiDNEiMFUBka/zdvCIOQGCO0u0rVgJACBEO4ZB4AEA=",
          "dtype": "f8"
         },
         "yaxis": "y2"
        }
       ],
       "layout": {
        "annotations": [
         {
          "font": {
           "size": 16
          },
          "showarrow": false,
          "text": "angle velocity at stance knee std",
          "x": 0.225,
          "xanchor": "center",
          "xref": "paper",
          "y": 1,
          "yanchor": "bottom",
          "yref": "paper"
         },
         {
          "font": {
           "size": 16
          },
          "showarrow": false,
          "text": "step acceleration Y at touchdown - ankle (m/s^2)",
          "x": 0.775,
          "xanchor": "center",
          "xref": "paper",
          "y": 1,
          "yanchor": "bottom",
          "yref": "paper"
         }
        ],
        "height": 500,
        "plot_bgcolor": "rgba(0,0,0,0)",
        "showlegend": false,
        "template": {
         "data": {
          "bar": [
           {
            "error_x": {
             "color": "#2a3f5f"
            },
            "error_y": {
             "color": "#2a3f5f"
            },
            "marker": {
             "line": {
              "color": "#E5ECF6",
              "width": 0.5
             },
             "pattern": {
              "fillmode": "overlay",
              "size": 10,
              "solidity": 0.2
             }
            },
            "type": "bar"
           }
          ],
          "barpolar": [
           {
            "marker": {
             "line": {
              "color": "#E5ECF6",
              "width": 0.5
             },
             "pattern": {
              "fillmode": "overlay",
              "size": 10,
              "solidity": 0.2
             }
            },
            "type": "barpolar"
           }
          ],
          "carpet": [
           {
            "aaxis": {
             "endlinecolor": "#2a3f5f",
             "gridcolor": "white",
             "linecolor": "white",
             "minorgridcolor": "white",
             "startlinecolor": "#2a3f5f"
            },
            "baxis": {
             "endlinecolor": "#2a3f5f",
             "gridcolor": "white",
             "linecolor": "white",
             "minorgridcolor": "white",
             "startlinecolor": "#2a3f5f"
            },
            "type": "carpet"
           }
          ],
          "choropleth": [
           {
            "colorbar": {
             "outlinewidth": 0,
             "ticks": ""
            },
            "type": "choropleth"
           }
          ],
          "contour": [
           {
            "colorbar": {
             "outlinewidth": 0,
             "ticks": ""
            },
            "colorscale": [
             [
              0,
              "#0d0887"
             ],
             [
              0.1111111111111111,
              "#46039f"
             ],
             [
              0.2222222222222222,
              "#7201a8"
             ],
             [
              0.3333333333333333,
              "#9c179e"
             ],
             [
              0.4444444444444444,
              "#bd3786"
             ],
             [
              0.5555555555555556,
              "#d8576b"
             ],
             [
              0.6666666666666666,
              "#ed7953"
             ],
             [
              0.7777777777777778,
              "#fb9f3a"
             ],
             [
              0.8888888888888888,
              "#fdca26"
             ],
             [
              1,
              "#f0f921"
             ]
            ],
            "type": "contour"
           }
          ],
          "contourcarpet": [
           {
            "colorbar": {
             "outlinewidth": 0,
             "ticks": ""
            },
            "type": "contourcarpet"
           }
          ],
          "heatmap": [
           {
            "colorbar": {
             "outlinewidth": 0,
             "ticks": ""
            },
            "colorscale": [
             [
              0,
              "#0d0887"
             ],
             [
              0.1111111111111111,
              "#46039f"
             ],
             [
              0.2222222222222222,
              "#7201a8"
             ],
             [
              0.3333333333333333,
              "#9c179e"
             ],
             [
              0.4444444444444444,
              "#bd3786"
             ],
             [
              0.5555555555555556,
              "#d8576b"
             ],
             [
              0.6666666666666666,
              "#ed7953"
             ],
             [
              0.7777777777777778,
              "#fb9f3a"
             ],
             [
              0.8888888888888888,
              "#fdca26"
             ],
             [
              1,
              "#f0f921"
             ]
            ],
            "type": "heatmap"
           }
          ],
          "histogram": [
           {
            "marker": {
             "pattern": {
              "fillmode": "overlay",
              "size": 10,
              "solidity": 0.2
             }
            },
            "type": "histogram"
           }
          ],
          "histogram2d": [
           {
            "colorbar": {
             "outlinewidth": 0,
             "ticks": ""
            },
            "colorscale": [
             [
              0,
              "#0d0887"
             ],
             [
              0.1111111111111111,
              "#46039f"
             ],
             [
              0.2222222222222222,
              "#7201a8"
             ],
             [
              0.3333333333333333,
              "#9c179e"
             ],
             [
              0.4444444444444444,
              "#bd3786"
             ],
             [
              0.5555555555555556,
              "#d8576b"
             ],
             [
              0.6666666666666666,
              "#ed7953"
             ],
             [
              0.7777777777777778,
              "#fb9f3a"
             ],
             [
              0.8888888888888888,
              "#fdca26"
             ],
             [
              1,
              "#f0f921"
             ]
            ],
            "type": "histogram2d"
           }
          ],
          "histogram2dcontour": [
           {
            "colorbar": {
             "outlinewidth": 0,
             "ticks": ""
            },
            "colorscale": [
             [
              0,
              "#0d0887"
             ],
             [
              0.1111111111111111,
              "#46039f"
             ],
             [
              0.2222222222222222,
              "#7201a8"
             ],
             [
              0.3333333333333333,
              "#9c179e"
             ],
             [
              0.4444444444444444,
              "#bd3786"
             ],
             [
              0.5555555555555556,
              "#d8576b"
             ],
             [
              0.6666666666666666,
              "#ed7953"
             ],
             [
              0.7777777777777778,
              "#fb9f3a"
             ],
             [
              0.8888888888888888,
              "#fdca26"
             ],
             [
              1,
              "#f0f921"
             ]
            ],
            "type": "histogram2dcontour"
           }
          ],
          "mesh3d": [
           {
            "colorbar": {
             "outlinewidth": 0,
             "ticks": ""
            },
            "type": "mesh3d"
           }
          ],
          "parcoords": [
           {
            "line": {
             "colorbar": {
              "outlinewidth": 0,
              "ticks": ""
             }
            },
            "type": "parcoords"
           }
          ],
          "pie": [
           {
            "automargin": true,
            "type": "pie"
           }
          ],
          "scatter": [
           {
            "fillpattern": {
             "fillmode": "overlay",
             "size": 10,
             "solidity": 0.2
            },
            "type": "scatter"
           }
          ],
          "scatter3d": [
           {
            "line": {
             "colorbar": {
              "outlinewidth": 0,
              "ticks": ""
             }
            },
            "marker": {
             "colorbar": {
              "outlinewidth": 0,
              "ticks": ""
             }
            },
            "type": "scatter3d"
           }
          ],
          "scattercarpet": [
           {
            "marker": {
             "colorbar": {
              "outlinewidth": 0,
              "ticks": ""
             }
            },
            "type": "scattercarpet"
           }
          ],
          "scattergeo": [
           {
            "marker": {
             "colorbar": {
              "outlinewidth": 0,
              "ticks": ""
             }
            },
            "type": "scattergeo"
           }
          ],
          "scattergl": [
           {
            "marker": {
             "colorbar": {
              "outlinewidth": 0,
              "ticks": ""
             }
            },
            "type": "scattergl"
           }
          ],
          "scattermap": [
           {
            "marker": {
             "colorbar": {
              "outlinewidth": 0,
              "ticks": ""
             }
            },
            "type": "scattermap"
           }
          ],
          "scattermapbox": [
           {
            "marker": {
             "colorbar": {
              "outlinewidth": 0,
              "ticks": ""
             }
            },
            "type": "scattermapbox"
           }
          ],
          "scatterpolar": [
           {
            "marker": {
             "colorbar": {
              "outlinewidth": 0,
              "ticks": ""
             }
            },
            "type": "scatterpolar"
           }
          ],
          "scatterpolargl": [
           {
            "marker": {
             "colorbar": {
              "outlinewidth": 0,
              "ticks": ""
             }
            },
            "type": "scatterpolargl"
           }
          ],
          "scatterternary": [
           {
            "marker": {
             "colorbar": {
              "outlinewidth": 0,
              "ticks": ""
             }
            },
            "type": "scatterternary"
           }
          ],
          "surface": [
           {
            "colorbar": {
             "outlinewidth": 0,
             "ticks": ""
            },
            "colorscale": [
             [
              0,
              "#0d0887"
             ],
             [
              0.1111111111111111,
              "#46039f"
             ],
             [
              0.2222222222222222,
              "#7201a8"
             ],
             [
              0.3333333333333333,
              "#9c179e"
             ],
             [
              0.4444444444444444,
              "#bd3786"
             ],
             [
              0.5555555555555556,
              "#d8576b"
             ],
             [
              0.6666666666666666,
              "#ed7953"
             ],
             [
              0.7777777777777778,
              "#fb9f3a"
             ],
             [
              0.8888888888888888,
              "#fdca26"
             ],
             [
              1,
              "#f0f921"
             ]
            ],
            "type": "surface"
           }
          ],
          "table": [
           {
            "cells": {
             "fill": {
              "color": "#EBF0F8"
             },
             "line": {
              "color": "white"
             }
            },
            "header": {
             "fill": {
              "color": "#C8D4E3"
             },
             "line": {
              "color": "white"
             }
            },
            "type": "table"
           }
          ]
         },
         "layout": {
          "annotationdefaults": {
           "arrowcolor": "#2a3f5f",
           "arrowhead": 0,
           "arrowwidth": 1
          },
          "autotypenumbers": "strict",
          "coloraxis": {
           "colorbar": {
            "outlinewidth": 0,
            "ticks": ""
           }
          },
          "colorscale": {
           "diverging": [
            [
             0,
             "#8e0152"
            ],
            [
             0.1,
             "#c51b7d"
            ],
            [
             0.2,
             "#de77ae"
            ],
            [
             0.3,
             "#f1b6da"
            ],
            [
             0.4,
             "#fde0ef"
            ],
            [
             0.5,
             "#f7f7f7"
            ],
            [
             0.6,
             "#e6f5d0"
            ],
            [
             0.7,
             "#b8e186"
            ],
            [
             0.8,
             "#7fbc41"
            ],
            [
             0.9,
             "#4d9221"
            ],
            [
             1,
             "#276419"
            ]
           ],
           "sequential": [
            [
             0,
             "#0d0887"
            ],
            [
             0.1111111111111111,
             "#46039f"
            ],
            [
             0.2222222222222222,
             "#7201a8"
            ],
            [
             0.3333333333333333,
             "#9c179e"
            ],
            [
             0.4444444444444444,
             "#bd3786"
            ],
            [
             0.5555555555555556,
             "#d8576b"
            ],
            [
             0.6666666666666666,
             "#ed7953"
            ],
            [
             0.7777777777777778,
             "#fb9f3a"
            ],
            [
             0.8888888888888888,
             "#fdca26"
            ],
            [
             1,
             "#f0f921"
            ]
           ],
           "sequentialminus": [
            [
             0,
             "#0d0887"
            ],
            [
             0.1111111111111111,
             "#46039f"
            ],
            [
             0.2222222222222222,
             "#7201a8"
            ],
            [
             0.3333333333333333,
             "#9c179e"
            ],
            [
             0.4444444444444444,
             "#bd3786"
            ],
            [
             0.5555555555555556,
             "#d8576b"
            ],
            [
             0.6666666666666666,
             "#ed7953"
            ],
            [
             0.7777777777777778,
             "#fb9f3a"
            ],
            [
             0.8888888888888888,
             "#fdca26"
            ],
            [
             1,
             "#f0f921"
            ]
           ]
          },
          "colorway": [
           "#636efa",
           "#EF553B",
           "#00cc96",
           "#ab63fa",
           "#FFA15A",
           "#19d3f3",
           "#FF6692",
           "#B6E880",
           "#FF97FF",
           "#FECB52"
          ],
          "font": {
           "color": "#2a3f5f"
          },
          "geo": {
           "bgcolor": "white",
           "lakecolor": "white",
           "landcolor": "#E5ECF6",
           "showlakes": true,
           "showland": true,
           "subunitcolor": "white"
          },
          "hoverlabel": {
           "align": "left"
          },
          "hovermode": "closest",
          "mapbox": {
           "style": "light"
          },
          "paper_bgcolor": "white",
          "plot_bgcolor": "#E5ECF6",
          "polar": {
           "angularaxis": {
            "gridcolor": "white",
            "linecolor": "white",
            "ticks": ""
           },
           "bgcolor": "#E5ECF6",
           "radialaxis": {
            "gridcolor": "white",
            "linecolor": "white",
            "ticks": ""
           }
          },
          "scene": {
           "xaxis": {
            "backgroundcolor": "#E5ECF6",
            "gridcolor": "white",
            "gridwidth": 2,
            "linecolor": "white",
            "showbackground": true,
            "ticks": "",
            "zerolinecolor": "white"
           },
           "yaxis": {
            "backgroundcolor": "#E5ECF6",
            "gridcolor": "white",
            "gridwidth": 2,
            "linecolor": "white",
            "showbackground": true,
            "ticks": "",
            "zerolinecolor": "white"
           },
           "zaxis": {
            "backgroundcolor": "#E5ECF6",
            "gridcolor": "white",
            "gridwidth": 2,
            "linecolor": "white",
            "showbackground": true,
            "ticks": "",
            "zerolinecolor": "white"
           }
          },
          "shapedefaults": {
           "line": {
            "color": "#2a3f5f"
           }
          },
          "ternary": {
           "aaxis": {
            "gridcolor": "white",
            "linecolor": "white",
            "ticks": ""
           },
           "baxis": {
            "gridcolor": "white",
            "linecolor": "white",
            "ticks": ""
           },
           "bgcolor": "#E5ECF6",
           "caxis": {
            "gridcolor": "white",
            "linecolor": "white",
            "ticks": ""
           }
          },
          "title": {
           "x": 0.05
          },
          "xaxis": {
           "automargin": true,
           "gridcolor": "white",
           "linecolor": "white",
           "ticks": "",
           "title": {
            "standoff": 15
           },
           "zerolinecolor": "white",
           "zerolinewidth": 2
          },
          "yaxis": {
           "automargin": true,
           "gridcolor": "white",
           "linecolor": "white",
           "ticks": "",
           "title": {
            "standoff": 15
           },
           "zerolinecolor": "white",
           "zerolinewidth": 2
          }
         }
        },
        "title": {
         "text": "Selected Features Across Groups"
        },
        "width": 800,
        "xaxis": {
         "anchor": "y",
         "domain": [
          0,
          0.45
         ]
        },
        "xaxis2": {
         "anchor": "y2",
         "domain": [
          0.55,
          1
         ]
        },
        "yaxis": {
         "anchor": "x",
         "domain": [
          0,
          1
         ]
        },
        "yaxis2": {
         "anchor": "x2",
         "domain": [
          0,
          1
         ]
        }
       }
      }
     },
     "metadata": {},
     "output_type": "display_data"
    },
    {
     "data": {
      "application/vnd.plotly.v1+json": {
       "config": {
        "plotlyServerURL": "https://plot.ly"
       },
       "data": [
        {
         "error_y": {
          "array": [
           0.5444742601275224,
           2.262036894290908,
           1.5233799379420432
          ],
          "type": "data",
          "visible": true
         },
         "marker": {
          "color": [
           "#636EFA",
           "#EF553B",
           "#00CC96"
          ],
          "line": {
           "color": "black",
           "width": 1
          }
         },
         "name": "Mean angle value - rhindlimb - knee (°)",
         "type": "bar",
         "x": [
          "healthy_left_B_run",
          "sick_left_C_run",
          "sick_left_E_run"
         ],
         "xaxis": "x",
         "y": [
          91.79139135127069,
          92.04278340823399,
          90.25835217811263
         ],
         "yaxis": "y"
        },
        {
         "marker": {
          "color": "black",
          "opacity": 0.5,
          "size": 6
         },
         "mode": "markers",
         "showlegend": false,
         "type": "scatter",
         "x": [
          "healthy_left_B_run",
          "healthy_left_B_run",
          "healthy_left_B_run",
          "healthy_left_B_run",
          "healthy_left_B_run",
          "healthy_left_B_run",
          "healthy_left_B_run",
          "healthy_left_B_run",
          "healthy_left_B_run",
          "healthy_left_B_run"
         ],
         "xaxis": "x",
         "y": {
          "bdata": "frxhVoXIVkAUEtjGgg1XQDbO2drhFVdAU9WIbpDnVkDyjd+Uvd9WQF72uSEKxVZAJ7dUqRniVkBzgIGzXCBXQGwm2m/WHldARcgzpe7gVkA=",
          "dtype": "f8"
         },
         "yaxis": "y"
        },
        {
         "marker": {
          "color": "black",
          "opacity": 0.5,
          "size": 6
         },
         "mode": "markers",
         "showlegend": false,
         "type": "scatter",
         "x": [
          "sick_left_C_run",
          "sick_left_C_run",
          "sick_left_C_run",
          "sick_left_C_run",
          "sick_left_C_run",
          "sick_left_C_run",
          "sick_left_C_run",
          "sick_left_C_run",
          "sick_left_C_run",
          "sick_left_C_run"
         ],
         "xaxis": "x",
         "y": {
          "bdata": "Oia9mMLiVkAYI/KG30hXQDZDnvvgJVdAylQfa0JZV0A2eDWKUARWQM308H9jIVdAe0p0Um6EVkA9iGVdgXJXQBsu7vHm7VdAv6HYbxFmVkA=",
          "dtype": "f8"
         },
         "yaxis": "y"
        },
        {
         "marker": {
          "color": "black",
          "opacity": 0.5,
          "size": 6
         },
         "mode": "markers",
         "showlegend": false,
         "type": "scatter",
         "x": [
          "sick_left_E_run",
          "sick_left_E_run",
          "sick_left_E_run",
          "sick_left_E_run",
          "sick_left_E_run",
          "sick_left_E_run",
          "sick_left_E_run",
          "sick_left_E_run",
          "sick_left_E_run",
          "sick_left_E_run"
         ],
         "xaxis": "x",
         "y": {
          "bdata": "JZojOHC3VkAIKduzSqZWQNNa9LsYDVdAOuAe4bRPVkDWzDWiqo5WQCttIJ9RpVZA1icgmcfeVkCsdyAtxZlWQBxFfQybnFZAZ3+XzquhVUA=",
          "dtype": "f8"
         },
         "yaxis": "y"
        },
        {
         "error_y": {
          "array": [
           0.13829038762696225,
           0.055468073392555134,
           0.1046776559604696
          ],
          "type": "data",
          "visible": true
         },
         "marker": {
          "color": [
           "#636EFA",
           "#EF553B",
           "#00CC96"
          ],
          "line": {
           "color": "black",
           "width": 1
          }
         },
         "name": "Mean step acceleration Y during swing - spine 3 std",
         "type": "bar",
         "x": [
          "healthy_left_B_run",
          "sick_left_C_run",
          "sick_left_E_run"
         ],
         "xaxis": "x2",
         "y": [
          0.2837832485648659,
          0.22839981137800444,
          0.206129655607849
         ],
         "yaxis": "y2"
        },
        {
         "marker": {
          "color": "black",
          "opacity": 0.5,
          "size": 6
         },
         "mode": "markers",
         "showlegend": false,
         "type": "scatter",
         "x": [
          "healthy_left_B_run",
          "healthy_left_B_run",
          "healthy_left_B_run",
          "healthy_left_B_run",
          "healthy_left_B_run",
          "healthy_left_B_run",
          "healthy_left_B_run",
          "healthy_left_B_run",
          "healthy_left_B_run",
          "healthy_left_B_run"
         ],
         "xaxis": "x2",
         "y": {
          "bdata": "Mq7tnUxzuj/FrPa+S6XYP13FkWe4YNA/WDVuch1yxT8xK1Cxu9HdP8pioerAq8M/yaV8Ihuiwz9ssilDGYbeP3EPoJTPh9I/KeF0jpO82D8=",
          "dtype": "f8"
         },
         "yaxis": "y2"
        },
        {
         "marker": {
          "color": "black",
          "opacity": 0.5,
          "size": 6
         },
         "mode": "markers",
         "showlegend": false,
         "type": "scatter",
         "x": [
          "sick_left_C_run",
          "sick_left_C_run",
          "sick_left_C_run",
          "sick_left_C_run",
          "sick_left_C_run",
          "sick_left_C_run",
          "sick_left_C_run",
          "sick_left_C_run",
          "sick_left_C_run",
          "sick_left_C_run"
         ],
         "xaxis": "x2",
         "y": {
          "bdata": "Cd72Q0560D8VWxoyrM7BP+fHMwLWhs0/G+50kSJAyz8v55Ok8TjQP+xAHqVOEtI/9KbLAxqfwj+QyAAFb7vQP+nxIEGklNM/5JRDaAr6yD8=",
          "dtype": "f8"
         },
         "yaxis": "y2"
        },
        {
         "marker": {
          "color": "black",
          "opacity": 0.5,
          "size": 6
         },
         "mode": "markers",
         "showlegend": false,
         "type": "scatter",
         "x": [
          "sick_left_E_run",
          "sick_left_E_run",
          "sick_left_E_run",
          "sick_left_E_run",
          "sick_left_E_run",
          "sick_left_E_run",
          "sick_left_E_run",
          "sick_left_E_run",
          "sick_left_E_run",
          "sick_left_E_run"
         ],
         "xaxis": "x2",
         "y": {
          "bdata": "mMXTB3MowT/aWPnUdKrQP25rLlRl0rk/TSRMgp5S1T/f7qLGj9OzP3cQpFtN3r8/BGLOXISR0j+F1FhTdozUP7u3QDzISbw//5vpK37J0z8=",
          "dtype": "f8"
         },
         "yaxis": "y2"
        }
       ],
       "layout": {
        "annotations": [
         {
          "font": {
           "size": 16
          },
          "showarrow": false,
          "text": "angle value knee (°)",
          "x": 0.225,
          "xanchor": "center",
          "xref": "paper",
          "y": 1,
          "yanchor": "bottom",
          "yref": "paper"
         },
         {
          "font": {
           "size": 16
          },
          "showarrow": false,
          "text": "step acceleration Y during swing - spine 3 std",
          "x": 0.775,
          "xanchor": "center",
          "xref": "paper",
          "y": 1,
          "yanchor": "bottom",
          "yref": "paper"
         }
        ],
        "height": 500,
        "plot_bgcolor": "rgba(0,0,0,0)",
        "showlegend": false,
        "template": {
         "data": {
          "bar": [
           {
            "error_x": {
             "color": "#2a3f5f"
            },
            "error_y": {
             "color": "#2a3f5f"
            },
            "marker": {
             "line": {
              "color": "#E5ECF6",
              "width": 0.5
             },
             "pattern": {
              "fillmode": "overlay",
              "size": 10,
              "solidity": 0.2
             }
            },
            "type": "bar"
           }
          ],
          "barpolar": [
           {
            "marker": {
             "line": {
              "color": "#E5ECF6",
              "width": 0.5
             },
             "pattern": {
              "fillmode": "overlay",
              "size": 10,
              "solidity": 0.2
             }
            },
            "type": "barpolar"
           }
          ],
          "carpet": [
           {
            "aaxis": {
             "endlinecolor": "#2a3f5f",
             "gridcolor": "white",
             "linecolor": "white",
             "minorgridcolor": "white",
             "startlinecolor": "#2a3f5f"
            },
            "baxis": {
             "endlinecolor": "#2a3f5f",
             "gridcolor": "white",
             "linecolor": "white",
             "minorgridcolor": "white",
             "startlinecolor": "#2a3f5f"
            },
            "type": "carpet"
           }
          ],
          "choropleth": [
           {
            "colorbar": {
             "outlinewidth": 0,
             "ticks": ""
            },
            "type": "choropleth"
           }
          ],
          "contour": [
           {
            "colorbar": {
             "outlinewidth": 0,
             "ticks": ""
            },
            "colorscale": [
             [
              0,
              "#0d0887"
             ],
             [
              0.1111111111111111,
              "#46039f"
             ],
             [
              0.2222222222222222,
              "#7201a8"
             ],
             [
              0.3333333333333333,
              "#9c179e"
             ],
             [
              0.4444444444444444,
              "#bd3786"
             ],
             [
              0.5555555555555556,
              "#d8576b"
             ],
             [
              0.6666666666666666,
              "#ed7953"
             ],
             [
              0.7777777777777778,
              "#fb9f3a"
             ],
             [
              0.8888888888888888,
              "#fdca26"
             ],
             [
              1,
              "#f0f921"
             ]
            ],
            "type": "contour"
           }
          ],
          "contourcarpet": [
           {
            "colorbar": {
             "outlinewidth": 0,
             "ticks": ""
            },
            "type": "contourcarpet"
           }
          ],
          "heatmap": [
           {
            "colorbar": {
             "outlinewidth": 0,
             "ticks": ""
            },
            "colorscale": [
             [
              0,
              "#0d0887"
             ],
             [
              0.1111111111111111,
              "#46039f"
             ],
             [
              0.2222222222222222,
              "#7201a8"
             ],
             [
              0.3333333333333333,
              "#9c179e"
             ],
             [
              0.4444444444444444,
              "#bd3786"
             ],
             [
              0.5555555555555556,
              "#d8576b"
             ],
             [
              0.6666666666666666,
              "#ed7953"
             ],
             [
              0.7777777777777778,
              "#fb9f3a"
             ],
             [
              0.8888888888888888,
              "#fdca26"
             ],
             [
              1,
              "#f0f921"
             ]
            ],
            "type": "heatmap"
           }
          ],
          "histogram": [
           {
            "marker": {
             "pattern": {
              "fillmode": "overlay",
              "size": 10,
              "solidity": 0.2
             }
            },
            "type": "histogram"
           }
          ],
          "histogram2d": [
           {
            "colorbar": {
             "outlinewidth": 0,
             "ticks": ""
            },
            "colorscale": [
             [
              0,
              "#0d0887"
             ],
             [
              0.1111111111111111,
              "#46039f"
             ],
             [
              0.2222222222222222,
              "#7201a8"
             ],
             [
              0.3333333333333333,
              "#9c179e"
             ],
             [
              0.4444444444444444,
              "#bd3786"
             ],
             [
              0.5555555555555556,
              "#d8576b"
             ],
             [
              0.6666666666666666,
              "#ed7953"
             ],
             [
              0.7777777777777778,
              "#fb9f3a"
             ],
             [
              0.8888888888888888,
              "#fdca26"
             ],
             [
              1,
              "#f0f921"
             ]
            ],
            "type": "histogram2d"
           }
          ],
          "histogram2dcontour": [
           {
            "colorbar": {
             "outlinewidth": 0,
             "ticks": ""
            },
            "colorscale": [
             [
              0,
              "#0d0887"
             ],
             [
              0.1111111111111111,
              "#46039f"
             ],
             [
              0.2222222222222222,
              "#7201a8"
             ],
             [
              0.3333333333333333,
              "#9c179e"
             ],
             [
              0.4444444444444444,
              "#bd3786"
             ],
             [
              0.5555555555555556,
              "#d8576b"
             ],
             [
              0.6666666666666666,
              "#ed7953"
             ],
             [
              0.7777777777777778,
              "#fb9f3a"
             ],
             [
              0.8888888888888888,
              "#fdca26"
             ],
             [
              1,
              "#f0f921"
             ]
            ],
            "type": "histogram2dcontour"
           }
          ],
          "mesh3d": [
           {
            "colorbar": {
             "outlinewidth": 0,
             "ticks": ""
            },
            "type": "mesh3d"
           }
          ],
          "parcoords": [
           {
            "line": {
             "colorbar": {
              "outlinewidth": 0,
              "ticks": ""
             }
            },
            "type": "parcoords"
           }
          ],
          "pie": [
           {
            "automargin": true,
            "type": "pie"
           }
          ],
          "scatter": [
           {
            "fillpattern": {
             "fillmode": "overlay",
             "size": 10,
             "solidity": 0.2
            },
            "type": "scatter"
           }
          ],
          "scatter3d": [
           {
            "line": {
             "colorbar": {
              "outlinewidth": 0,
              "ticks": ""
             }
            },
            "marker": {
             "colorbar": {
              "outlinewidth": 0,
              "ticks": ""
             }
            },
            "type": "scatter3d"
           }
          ],
          "scattercarpet": [
           {
            "marker": {
             "colorbar": {
              "outlinewidth": 0,
              "ticks": ""
             }
            },
            "type": "scattercarpet"
           }
          ],
          "scattergeo": [
           {
            "marker": {
             "colorbar": {
              "outlinewidth": 0,
              "ticks": ""
             }
            },
            "type": "scattergeo"
           }
          ],
          "scattergl": [
           {
            "marker": {
             "colorbar": {
              "outlinewidth": 0,
              "ticks": ""
             }
            },
            "type": "scattergl"
           }
          ],
          "scattermap": [
           {
            "marker": {
             "colorbar": {
              "outlinewidth": 0,
              "ticks": ""
             }
            },
            "type": "scattermap"
           }
          ],
          "scattermapbox": [
           {
            "marker": {
             "colorbar": {
              "outlinewidth": 0,
              "ticks": ""
             }
            },
            "type": "scattermapbox"
           }
          ],
          "scatterpolar": [
           {
            "marker": {
             "colorbar": {
              "outlinewidth": 0,
              "ticks": ""
             }
            },
            "type": "scatterpolar"
           }
          ],
          "scatterpolargl": [
           {
            "marker": {
             "colorbar": {
              "outlinewidth": 0,
              "ticks": ""
             }
            },
            "type": "scatterpolargl"
           }
          ],
          "scatterternary": [
           {
            "marker": {
             "colorbar": {
              "outlinewidth": 0,
              "ticks": ""
             }
            },
            "type": "scatterternary"
           }
          ],
          "surface": [
           {
            "colorbar": {
             "outlinewidth": 0,
             "ticks": ""
            },
            "colorscale": [
             [
              0,
              "#0d0887"
             ],
             [
              0.1111111111111111,
              "#46039f"
             ],
             [
              0.2222222222222222,
              "#7201a8"
             ],
             [
              0.3333333333333333,
              "#9c179e"
             ],
             [
              0.4444444444444444,
              "#bd3786"
             ],
             [
              0.5555555555555556,
              "#d8576b"
             ],
             [
              0.6666666666666666,
              "#ed7953"
             ],
             [
              0.7777777777777778,
              "#fb9f3a"
             ],
             [
              0.8888888888888888,
              "#fdca26"
             ],
             [
              1,
              "#f0f921"
             ]
            ],
            "type": "surface"
           }
          ],
          "table": [
           {
            "cells": {
             "fill": {
              "color": "#EBF0F8"
             },
             "line": {
              "color": "white"
             }
            },
            "header": {
             "fill": {
              "color": "#C8D4E3"
             },
             "line": {
              "color": "white"
             }
            },
            "type": "table"
           }
          ]
         },
         "layout": {
          "annotationdefaults": {
           "arrowcolor": "#2a3f5f",
           "arrowhead": 0,
           "arrowwidth": 1
          },
          "autotypenumbers": "strict",
          "coloraxis": {
           "colorbar": {
            "outlinewidth": 0,
            "ticks": ""
           }
          },
          "colorscale": {
           "diverging": [
            [
             0,
             "#8e0152"
            ],
            [
             0.1,
             "#c51b7d"
            ],
            [
             0.2,
             "#de77ae"
            ],
            [
             0.3,
             "#f1b6da"
            ],
            [
             0.4,
             "#fde0ef"
            ],
            [
             0.5,
             "#f7f7f7"
            ],
            [
             0.6,
             "#e6f5d0"
            ],
            [
             0.7,
             "#b8e186"
            ],
            [
             0.8,
             "#7fbc41"
            ],
            [
             0.9,
             "#4d9221"
            ],
            [
             1,
             "#276419"
            ]
           ],
           "sequential": [
            [
             0,
             "#0d0887"
            ],
            [
             0.1111111111111111,
             "#46039f"
            ],
            [
             0.2222222222222222,
             "#7201a8"
            ],
            [
             0.3333333333333333,
             "#9c179e"
            ],
            [
             0.4444444444444444,
             "#bd3786"
            ],
            [
             0.5555555555555556,
             "#d8576b"
            ],
            [
             0.6666666666666666,
             "#ed7953"
            ],
            [
             0.7777777777777778,
             "#fb9f3a"
            ],
            [
             0.8888888888888888,
             "#fdca26"
            ],
            [
             1,
             "#f0f921"
            ]
           ],
           "sequentialminus": [
            [
             0,
             "#0d0887"
            ],
            [
             0.1111111111111111,
             "#46039f"
            ],
            [
             0.2222222222222222,
             "#7201a8"
            ],
            [
             0.3333333333333333,
             "#9c179e"
            ],
            [
             0.4444444444444444,
             "#bd3786"
            ],
            [
             0.5555555555555556,
             "#d8576b"
            ],
            [
             0.6666666666666666,
             "#ed7953"
            ],
            [
             0.7777777777777778,
             "#fb9f3a"
            ],
            [
             0.8888888888888888,
             "#fdca26"
            ],
            [
             1,
             "#f0f921"
            ]
           ]
          },
          "colorway": [
           "#636efa",
           "#EF553B",
           "#00cc96",
           "#ab63fa",
           "#FFA15A",
           "#19d3f3",
           "#FF6692",
           "#B6E880",
           "#FF97FF",
           "#FECB52"
          ],
          "font": {
           "color": "#2a3f5f"
          },
          "geo": {
           "bgcolor": "white",
           "lakecolor": "white",
           "landcolor": "#E5ECF6",
           "showlakes": true,
           "showland": true,
           "subunitcolor": "white"
          },
          "hoverlabel": {
           "align": "left"
          },
          "hovermode": "closest",
          "mapbox": {
           "style": "light"
          },
          "paper_bgcolor": "white",
          "plot_bgcolor": "#E5ECF6",
          "polar": {
           "angularaxis": {
            "gridcolor": "white",
            "linecolor": "white",
            "ticks": ""
           },
           "bgcolor": "#E5ECF6",
           "radialaxis": {
            "gridcolor": "white",
            "linecolor": "white",
            "ticks": ""
           }
          },
          "scene": {
           "xaxis": {
            "backgroundcolor": "#E5ECF6",
            "gridcolor": "white",
            "gridwidth": 2,
            "linecolor": "white",
            "showbackground": true,
            "ticks": "",
            "zerolinecolor": "white"
           },
           "yaxis": {
            "backgroundcolor": "#E5ECF6",
            "gridcolor": "white",
            "gridwidth": 2,
            "linecolor": "white",
            "showbackground": true,
            "ticks": "",
            "zerolinecolor": "white"
           },
           "zaxis": {
            "backgroundcolor": "#E5ECF6",
            "gridcolor": "white",
            "gridwidth": 2,
            "linecolor": "white",
            "showbackground": true,
            "ticks": "",
            "zerolinecolor": "white"
           }
          },
          "shapedefaults": {
           "line": {
            "color": "#2a3f5f"
           }
          },
          "ternary": {
           "aaxis": {
            "gridcolor": "white",
            "linecolor": "white",
            "ticks": ""
           },
           "baxis": {
            "gridcolor": "white",
            "linecolor": "white",
            "ticks": ""
           },
           "bgcolor": "#E5ECF6",
           "caxis": {
            "gridcolor": "white",
            "linecolor": "white",
            "ticks": ""
           }
          },
          "title": {
           "x": 0.05
          },
          "xaxis": {
           "automargin": true,
           "gridcolor": "white",
           "linecolor": "white",
           "ticks": "",
           "title": {
            "standoff": 15
           },
           "zerolinecolor": "white",
           "zerolinewidth": 2
          },
          "yaxis": {
           "automargin": true,
           "gridcolor": "white",
           "linecolor": "white",
           "ticks": "",
           "title": {
            "standoff": 15
           },
           "zerolinecolor": "white",
           "zerolinewidth": 2
          }
         }
        },
        "title": {
         "text": "Selected Features Across Groups"
        },
        "width": 800,
        "xaxis": {
         "anchor": "y",
         "domain": [
          0,
          0.45
         ]
        },
        "xaxis2": {
         "anchor": "y2",
         "domain": [
          0.55,
          1
         ]
        },
        "yaxis": {
         "anchor": "x",
         "domain": [
          0,
          1
         ]
        },
        "yaxis2": {
         "anchor": "x2",
         "domain": [
          0,
          1
         ]
        }
       }
      }
     },
     "metadata": {},
     "output_type": "display_data"
    }
   ],
   "source": [
    "lesion_improved_feature_list = improving_lesion_anova_df\n",
    "lesion_worsened_feature_list = worsening_lesion_anova_df\n",
    "treatment_improved_feature_list = improving_treatment_anova_df\n",
    "treatment_worsened_feature_list = worsening_treatment_anova_df\n",
    "improving_both_feature_list = improving_both\n",
    "worsening_both_feature_list = worsening_both\n",
    "\n",
    "to_plot = (lesion_improved_feature_list, lesion_worsened_feature_list, treatment_improved_feature_list, treatment_worsened_feature_list, improving_both_feature_list, worsening_both_feature_list)\n",
    "# to_plot = (improving_both_feature_list, worsening_both_feature_list)\n",
    "\n",
    "## look only at cherry picked features\n",
    "hindlimb_features = {\n",
    "    'lesion_improved': [],\n",
    "    'lesion_worsened': [],\n",
    "    'treatment_improved': [],\n",
    "    'treatment_worsened': [],\n",
    "    'improving_both': [],\n",
    "    'worsening_both': []\n",
    "}\n",
    "for i, f_list in enumerate(to_plot):\n",
    "    cols = f_list['Feature'].str.lower()\n",
    "    hindlimb_mask = cols.str.lower().str.contains('hindlimb', case=False)\n",
    "    step_mask = cols.str.lower().str.contains('step', case=False) & ~cols.str.contains('/s', case=False)\n",
    "    limb_mask = cols.str.lower().str.contains('hindpaw|hindfinger|knee|ankle|hip', case=False)\n",
    "    meta_mask = cols.str.lower().str.contains('dataset|mouse', case=False)\n",
    "    final_mask = hindlimb_mask | step_mask | meta_mask | limb_mask\n",
    "\n",
    "    f_list = f_list.loc[final_mask, :]\n",
    "    # hindlimb_features[list(hindlimb_features.keys())[i]].extend(f_list['Feature'].tolist())\n",
    "\n",
    "    fig = plot_features_list_across_groups(f_list['Feature'].tolist(), feature_subsets, limb='hindlimb',\n",
    "                                     groups=['healthy_left_B_', 'sick_left_C_', 'sick_left_E_'])\n",
    "    fig.write_image(os.path.join('./', f'features_{list(hindlimb_features.keys())[i]}.svg'))\n",
    "    fig.show()\n"
   ]
  },
  {
   "cell_type": "code",
   "execution_count": 21,
   "id": "4606314e",
   "metadata": {},
   "outputs": [
    {
     "name": "stdout",
     "output_type": "stream",
     "text": [
      "Number of significant features that describe the lesion (ALL pre vs B & C post): 242\n",
      "Number of significant lesion features that improve: 135. Average effect size: 0.36\n",
      "Number of significant lesion features that worsen: 107. Average effect size: -0.33\n",
      "----------------------------------------\n",
      "Number of significant features that describe the treatment effect (B & C post vs E post): 154\n",
      "Number of significant treatment features that improve: 43. Average effect size: 0.34\n",
      "Number of significant treatment features that worsen: 111. Average effect size: -0.50\n",
      "----------------------------------------\n",
      "----------------------------------------\n",
      "Number of intersecting features between the two comparisons: 28\n",
      "Number of intersecting features that improve: 12\n",
      "Number of intersecting features that worsen: 16\n"
     ]
    },
    {
     "data": {
      "image/png": "[encoded data removed]",
      "text/plain": [
       "<Figure size 640x480 with 1 Axes>"
      ]
     },
     "metadata": {},
     "output_type": "display_data"
    },
    {
     "data": {
      "application/vnd.plotly.v1+json": {
       "config": {
        "plotlyServerURL": "https://plot.ly"
       },
       "data": [
        {
         "labels": [
          "Improving Lesion Features",
          "Worsening Lesion Features",
          "Non-Lesion Features"
         ],
         "marker": {
          "colors": [
           "green",
           "red",
           "grey"
          ],
          "line": {
           "color": "black",
           "width": 1
          }
         },
         "pull": [
          0,
          0,
          0.2
         ],
         "type": "pie",
         "values": [
          135,
          107,
          2438
         ]
        }
       ],
       "layout": {
        "height": 400,
        "legend": {
         "title": {
          "font": {
           "size": 18
          },
          "text": "Feature Types"
         }
        },
        "template": {
         "data": {
          "bar": [
           {
            "error_x": {
             "color": "#2a3f5f"
            },
            "error_y": {
             "color": "#2a3f5f"
            },
            "marker": {
             "line": {
              "color": "#E5ECF6",
              "width": 0.5
             },
             "pattern": {
              "fillmode": "overlay",
              "size": 10,
              "solidity": 0.2
             }
            },
            "type": "bar"
           }
          ],
          "barpolar": [
           {
            "marker": {
             "line": {
              "color": "#E5ECF6",
              "width": 0.5
             },
             "pattern": {
              "fillmode": "overlay",
              "size": 10,
              "solidity": 0.2
             }
            },
            "type": "barpolar"
           }
          ],
          "carpet": [
           {
            "aaxis": {
             "endlinecolor": "#2a3f5f",
             "gridcolor": "white",
             "linecolor": "white",
             "minorgridcolor": "white",
             "startlinecolor": "#2a3f5f"
            },
            "baxis": {
             "endlinecolor": "#2a3f5f",
             "gridcolor": "white",
             "linecolor": "white",
             "minorgridcolor": "white",
             "startlinecolor": "#2a3f5f"
            },
            "type": "carpet"
           }
          ],
          "choropleth": [
           {
            "colorbar": {
             "outlinewidth": 0,
             "ticks": ""
            },
            "type": "choropleth"
           }
          ],
          "contour": [
           {
            "colorbar": {
             "outlinewidth": 0,
             "ticks": ""
            },
            "colorscale": [
             [
              0,
              "#0d0887"
             ],
             [
              0.1111111111111111,
              "#46039f"
             ],
             [
              0.2222222222222222,
              "#7201a8"
             ],
             [
              0.3333333333333333,
              "#9c179e"
             ],
             [
              0.4444444444444444,
              "#bd3786"
             ],
             [
              0.5555555555555556,
              "#d8576b"
             ],
             [
              0.6666666666666666,
              "#ed7953"
             ],
             [
              0.7777777777777778,
              "#fb9f3a"
             ],
             [
              0.8888888888888888,
              "#fdca26"
             ],
             [
              1,
              "#f0f921"
             ]
            ],
            "type": "contour"
           }
          ],
          "contourcarpet": [
           {
            "colorbar": {
             "outlinewidth": 0,
             "ticks": ""
            },
            "type": "contourcarpet"
           }
          ],
          "heatmap": [
           {
            "colorbar": {
             "outlinewidth": 0,
             "ticks": ""
            },
            "colorscale": [
             [
              0,
              "#0d0887"
             ],
             [
              0.1111111111111111,
              "#46039f"
             ],
             [
              0.2222222222222222,
              "#7201a8"
             ],
             [
              0.3333333333333333,
              "#9c179e"
             ],
             [
              0.4444444444444444,
              "#bd3786"
             ],
             [
              0.5555555555555556,
              "#d8576b"
             ],
             [
              0.6666666666666666,
              "#ed7953"
             ],
             [
              0.7777777777777778,
              "#fb9f3a"
             ],
             [
              0.8888888888888888,
              "#fdca26"
             ],
             [
              1,
              "#f0f921"
             ]
            ],
            "type": "heatmap"
           }
          ],
          "histogram": [
           {
            "marker": {
             "pattern": {
              "fillmode": "overlay",
              "size": 10,
              "solidity": 0.2
             }
            },
            "type": "histogram"
           }
          ],
          "histogram2d": [
           {
            "colorbar": {
             "outlinewidth": 0,
             "ticks": ""
            },
            "colorscale": [
             [
              0,
              "#0d0887"
             ],
             [
              0.1111111111111111,
              "#46039f"
             ],
             [
              0.2222222222222222,
              "#7201a8"
             ],
             [
              0.3333333333333333,
              "#9c179e"
             ],
             [
              0.4444444444444444,
              "#bd3786"
             ],
             [
              0.5555555555555556,
              "#d8576b"
             ],
             [
              0.6666666666666666,
              "#ed7953"
             ],
             [
              0.7777777777777778,
              "#fb9f3a"
             ],
             [
              0.8888888888888888,
              "#fdca26"
             ],
             [
              1,
              "#f0f921"
             ]
            ],
            "type": "histogram2d"
           }
          ],
          "histogram2dcontour": [
           {
            "colorbar": {
             "outlinewidth": 0,
             "ticks": ""
            },
            "colorscale": [
             [
              0,
              "#0d0887"
             ],
             [
              0.1111111111111111,
              "#46039f"
             ],
             [
              0.2222222222222222,
              "#7201a8"
             ],
             [
              0.3333333333333333,
              "#9c179e"
             ],
             [
              0.4444444444444444,
              "#bd3786"
             ],
             [
              0.5555555555555556,
              "#d8576b"
             ],
             [
              0.6666666666666666,
              "#ed7953"
             ],
             [
              0.7777777777777778,
              "#fb9f3a"
             ],
             [
              0.8888888888888888,
              "#fdca26"
             ],
             [
              1,
              "#f0f921"
             ]
            ],
            "type": "histogram2dcontour"
           }
          ],
          "mesh3d": [
           {
            "colorbar": {
             "outlinewidth": 0,
             "ticks": ""
            },
            "type": "mesh3d"
           }
          ],
          "parcoords": [
           {
            "line": {
             "colorbar": {
              "outlinewidth": 0,
              "ticks": ""
             }
            },
            "type": "parcoords"
           }
          ],
          "pie": [
           {
            "automargin": true,
            "type": "pie"
           }
          ],
          "scatter": [
           {
            "fillpattern": {
             "fillmode": "overlay",
             "size": 10,
             "solidity": 0.2
            },
            "type": "scatter"
           }
          ],
          "scatter3d": [
           {
            "line": {
             "colorbar": {
              "outlinewidth": 0,
              "ticks": ""
             }
            },
            "marker": {
             "colorbar": {
              "outlinewidth": 0,
              "ticks": ""
             }
            },
            "type": "scatter3d"
           }
          ],
          "scattercarpet": [
           {
            "marker": {
             "colorbar": {
              "outlinewidth": 0,
              "ticks": ""
             }
            },
            "type": "scattercarpet"
           }
          ],
          "scattergeo": [
           {
            "marker": {
             "colorbar": {
              "outlinewidth": 0,
              "ticks": ""
             }
            },
            "type": "scattergeo"
           }
          ],
          "scattergl": [
           {
            "marker": {
             "colorbar": {
              "outlinewidth": 0,
              "ticks": ""
             }
            },
            "type": "scattergl"
           }
          ],
          "scattermap": [
           {
            "marker": {
             "colorbar": {
              "outlinewidth": 0,
              "ticks": ""
             }
            },
            "type": "scattermap"
           }
          ],
          "scattermapbox": [
           {
            "marker": {
             "colorbar": {
              "outlinewidth": 0,
              "ticks": ""
             }
            },
            "type": "scattermapbox"
           }
          ],
          "scatterpolar": [
           {
            "marker": {
             "colorbar": {
              "outlinewidth": 0,
              "ticks": ""
             }
            },
            "type": "scatterpolar"
           }
          ],
          "scatterpolargl": [
           {
            "marker": {
             "colorbar": {
              "outlinewidth": 0,
              "ticks": ""
             }
            },
            "type": "scatterpolargl"
           }
          ],
          "scatterternary": [
           {
            "marker": {
             "colorbar": {
              "outlinewidth": 0,
              "ticks": ""
             }
            },
            "type": "scatterternary"
           }
          ],
          "surface": [
           {
            "colorbar": {
             "outlinewidth": 0,
             "ticks": ""
            },
            "colorscale": [
             [
              0,
              "#0d0887"
             ],
             [
              0.1111111111111111,
              "#46039f"
             ],
             [
              0.2222222222222222,
              "#7201a8"
             ],
             [
              0.3333333333333333,
              "#9c179e"
             ],
             [
              0.4444444444444444,
              "#bd3786"
             ],
             [
              0.5555555555555556,
              "#d8576b"
             ],
             [
              0.6666666666666666,
              "#ed7953"
             ],
             [
              0.7777777777777778,
              "#fb9f3a"
             ],
             [
              0.8888888888888888,
              "#fdca26"
             ],
             [
              1,
              "#f0f921"
             ]
            ],
            "type": "surface"
           }
          ],
          "table": [
           {
            "cells": {
             "fill": {
              "color": "#EBF0F8"
             },
             "line": {
              "color": "white"
             }
            },
            "header": {
             "fill": {
              "color": "#C8D4E3"
             },
             "line": {
              "color": "white"
             }
            },
            "type": "table"
           }
          ]
         },
         "layout": {
          "annotationdefaults": {
           "arrowcolor": "#2a3f5f",
           "arrowhead": 0,
           "arrowwidth": 1
          },
          "autotypenumbers": "strict",
          "coloraxis": {
           "colorbar": {
            "outlinewidth": 0,
            "ticks": ""
           }
          },
          "colorscale": {
           "diverging": [
            [
             0,
             "#8e0152"
            ],
            [
             0.1,
             "#c51b7d"
            ],
            [
             0.2,
             "#de77ae"
            ],
            [
             0.3,
             "#f1b6da"
            ],
            [
             0.4,
             "#fde0ef"
            ],
            [
             0.5,
             "#f7f7f7"
            ],
            [
             0.6,
             "#e6f5d0"
            ],
            [
             0.7,
             "#b8e186"
            ],
            [
             0.8,
             "#7fbc41"
            ],
            [
             0.9,
             "#4d9221"
            ],
            [
             1,
             "#276419"
            ]
           ],
           "sequential": [
            [
             0,
             "#0d0887"
            ],
            [
             0.1111111111111111,
             "#46039f"
            ],
            [
             0.2222222222222222,
             "#7201a8"
            ],
            [
             0.3333333333333333,
             "#9c179e"
            ],
            [
             0.4444444444444444,
             "#bd3786"
            ],
            [
             0.5555555555555556,
             "#d8576b"
            ],
            [
             0.6666666666666666,
             "#ed7953"
            ],
            [
             0.7777777777777778,
             "#fb9f3a"
            ],
            [
             0.8888888888888888,
             "#fdca26"
            ],
            [
             1,
             "#f0f921"
            ]
           ],
           "sequentialminus": [
            [
             0,
             "#0d0887"
            ],
            [
             0.1111111111111111,
             "#46039f"
            ],
            [
             0.2222222222222222,
             "#7201a8"
            ],
            [
             0.3333333333333333,
             "#9c179e"
            ],
            [
             0.4444444444444444,
             "#bd3786"
            ],
            [
             0.5555555555555556,
             "#d8576b"
            ],
            [
             0.6666666666666666,
             "#ed7953"
            ],
            [
             0.7777777777777778,
             "#fb9f3a"
            ],
            [
             0.8888888888888888,
             "#fdca26"
            ],
            [
             1,
             "#f0f921"
            ]
           ]
          },
          "colorway": [
           "#636efa",
           "#EF553B",
           "#00cc96",
           "#ab63fa",
           "#FFA15A",
           "#19d3f3",
           "#FF6692",
           "#B6E880",
           "#FF97FF",
           "#FECB52"
          ],
          "font": {
           "color": "#2a3f5f"
          },
          "geo": {
           "bgcolor": "white",
           "lakecolor": "white",
           "landcolor": "#E5ECF6",
           "showlakes": true,
           "showland": true,
           "subunitcolor": "white"
          },
          "hoverlabel": {
           "align": "left"
          },
          "hovermode": "closest",
          "mapbox": {
           "style": "light"
          },
          "paper_bgcolor": "white",
          "plot_bgcolor": "#E5ECF6",
          "polar": {
           "angularaxis": {
            "gridcolor": "white",
            "linecolor": "white",
            "ticks": ""
           },
           "bgcolor": "#E5ECF6",
           "radialaxis": {
            "gridcolor": "white",
            "linecolor": "white",
            "ticks": ""
           }
          },
          "scene": {
           "xaxis": {
            "backgroundcolor": "#E5ECF6",
            "gridcolor": "white",
            "gridwidth": 2,
            "linecolor": "white",
            "showbackground": true,
            "ticks": "",
            "zerolinecolor": "white"
           },
           "yaxis": {
            "backgroundcolor": "#E5ECF6",
            "gridcolor": "white",
            "gridwidth": 2,
            "linecolor": "white",
            "showbackground": true,
            "ticks": "",
            "zerolinecolor": "white"
           },
           "zaxis": {
            "backgroundcolor": "#E5ECF6",
            "gridcolor": "white",
            "gridwidth": 2,
            "linecolor": "white",
            "showbackground": true,
            "ticks": "",
            "zerolinecolor": "white"
           }
          },
          "shapedefaults": {
           "line": {
            "color": "#2a3f5f"
           }
          },
          "ternary": {
           "aaxis": {
            "gridcolor": "white",
            "linecolor": "white",
            "ticks": ""
           },
           "baxis": {
            "gridcolor": "white",
            "linecolor": "white",
            "ticks": ""
           },
           "bgcolor": "#E5ECF6",
           "caxis": {
            "gridcolor": "white",
            "linecolor": "white",
            "ticks": ""
           }
          },
          "title": {
           "x": 0.05
          },
          "xaxis": {
           "automargin": true,
           "gridcolor": "white",
           "linecolor": "white",
           "ticks": "",
           "title": {
            "standoff": 15
           },
           "zerolinecolor": "white",
           "zerolinewidth": 2
          },
          "yaxis": {
           "automargin": true,
           "gridcolor": "white",
           "linecolor": "white",
           "ticks": "",
           "title": {
            "standoff": 15
           },
           "zerolinecolor": "white",
           "zerolinewidth": 2
          }
         }
        },
        "title": {
         "font": {
          "size": 24
         },
         "text": "Lesion Feature Distribution (ANOVA)"
        },
        "width": 600
       }
      }
     },
     "metadata": {},
     "output_type": "display_data"
    },
    {
     "data": {
      "application/vnd.plotly.v1+json": {
       "config": {
        "plotlyServerURL": "https://plot.ly"
       },
       "data": [
        {
         "labels": [
          "Improving Treatment Features",
          "Worsening Treatment Features",
          "Non-Lesion Features"
         ],
         "marker": {
          "colors": [
           "green",
           "red",
           "grey"
          ],
          "line": {
           "color": "black",
           "width": 1
          }
         },
         "pull": [
          0,
          0,
          0.2
         ],
         "type": "pie",
         "values": [
          43,
          111,
          2438
         ]
        }
       ],
       "layout": {
        "height": 400,
        "legend": {
         "title": {
          "font": {
           "size": 18
          },
          "text": "Feature Types"
         }
        },
        "template": {
         "data": {
          "bar": [
           {
            "error_x": {
             "color": "#2a3f5f"
            },
            "error_y": {
             "color": "#2a3f5f"
            },
            "marker": {
             "line": {
              "color": "#E5ECF6",
              "width": 0.5
             },
             "pattern": {
              "fillmode": "overlay",
              "size": 10,
              "solidity": 0.2
             }
            },
            "type": "bar"
           }
          ],
          "barpolar": [
           {
            "marker": {
             "line": {
              "color": "#E5ECF6",
              "width": 0.5
             },
             "pattern": {
              "fillmode": "overlay",
              "size": 10,
              "solidity": 0.2
             }
            },
            "type": "barpolar"
           }
          ],
          "carpet": [
           {
            "aaxis": {
             "endlinecolor": "#2a3f5f",
             "gridcolor": "white",
             "linecolor": "white",
             "minorgridcolor": "white",
             "startlinecolor": "#2a3f5f"
            },
            "baxis": {
             "endlinecolor": "#2a3f5f",
             "gridcolor": "white",
             "linecolor": "white",
             "minorgridcolor": "white",
             "startlinecolor": "#2a3f5f"
            },
            "type": "carpet"
           }
          ],
          "choropleth": [
           {
            "colorbar": {
             "outlinewidth": 0,
             "ticks": ""
            },
            "type": "choropleth"
           }
          ],
          "contour": [
           {
            "colorbar": {
             "outlinewidth": 0,
             "ticks": ""
            },
            "colorscale": [
             [
              0,
              "#0d0887"
             ],
             [
              0.1111111111111111,
              "#46039f"
             ],
             [
              0.2222222222222222,
              "#7201a8"
             ],
             [
              0.3333333333333333,
              "#9c179e"
             ],
             [
              0.4444444444444444,
              "#bd3786"
             ],
             [
              0.5555555555555556,
              "#d8576b"
             ],
             [
              0.6666666666666666,
              "#ed7953"
             ],
             [
              0.7777777777777778,
              "#fb9f3a"
             ],
             [
              0.8888888888888888,
              "#fdca26"
             ],
             [
              1,
              "#f0f921"
             ]
            ],
            "type": "contour"
           }
          ],
          "contourcarpet": [
           {
            "colorbar": {
             "outlinewidth": 0,
             "ticks": ""
            },
            "type": "contourcarpet"
           }
          ],
          "heatmap": [
           {
            "colorbar": {
             "outlinewidth": 0,
             "ticks": ""
            },
            "colorscale": [
             [
              0,
              "#0d0887"
             ],
             [
              0.1111111111111111,
              "#46039f"
             ],
             [
              0.2222222222222222,
              "#7201a8"
             ],
             [
              0.3333333333333333,
              "#9c179e"
             ],
             [
              0.4444444444444444,
              "#bd3786"
             ],
             [
              0.5555555555555556,
              "#d8576b"
             ],
             [
              0.6666666666666666,
              "#ed7953"
             ],
             [
              0.7777777777777778,
              "#fb9f3a"
             ],
             [
              0.8888888888888888,
              "#fdca26"
             ],
             [
              1,
              "#f0f921"
             ]
            ],
            "type": "heatmap"
           }
          ],
          "histogram": [
           {
            "marker": {
             "pattern": {
              "fillmode": "overlay",
              "size": 10,
              "solidity": 0.2
             }
            },
            "type": "histogram"
           }
          ],
          "histogram2d": [
           {
            "colorbar": {
             "outlinewidth": 0,
             "ticks": ""
            },
            "colorscale": [
             [
              0,
              "#0d0887"
             ],
             [
              0.1111111111111111,
              "#46039f"
             ],
             [
              0.2222222222222222,
              "#7201a8"
             ],
             [
              0.3333333333333333,
              "#9c179e"
             ],
             [
              0.4444444444444444,
              "#bd3786"
             ],
             [
              0.5555555555555556,
              "#d8576b"
             ],
             [
              0.6666666666666666,
              "#ed7953"
             ],
             [
              0.7777777777777778,
              "#fb9f3a"
             ],
             [
              0.8888888888888888,
              "#fdca26"
             ],
             [
              1,
              "#f0f921"
             ]
            ],
            "type": "histogram2d"
           }
          ],
          "histogram2dcontour": [
           {
            "colorbar": {
             "outlinewidth": 0,
             "ticks": ""
            },
            "colorscale": [
             [
              0,
              "#0d0887"
             ],
             [
              0.1111111111111111,
              "#46039f"
             ],
             [
              0.2222222222222222,
              "#7201a8"
             ],
             [
              0.3333333333333333,
              "#9c179e"
             ],
             [
              0.4444444444444444,
              "#bd3786"
             ],
             [
              0.5555555555555556,
              "#d8576b"
             ],
             [
              0.6666666666666666,
              "#ed7953"
             ],
             [
              0.7777777777777778,
              "#fb9f3a"
             ],
             [
              0.8888888888888888,
              "#fdca26"
             ],
             [
              1,
              "#f0f921"
             ]
            ],
            "type": "histogram2dcontour"
           }
          ],
          "mesh3d": [
           {
            "colorbar": {
             "outlinewidth": 0,
             "ticks": ""
            },
            "type": "mesh3d"
           }
          ],
          "parcoords": [
           {
            "line": {
             "colorbar": {
              "outlinewidth": 0,
              "ticks": ""
             }
            },
            "type": "parcoords"
           }
          ],
          "pie": [
           {
            "automargin": true,
            "type": "pie"
           }
          ],
          "scatter": [
           {
            "fillpattern": {
             "fillmode": "overlay",
             "size": 10,
             "solidity": 0.2
            },
            "type": "scatter"
           }
          ],
          "scatter3d": [
           {
            "line": {
             "colorbar": {
              "outlinewidth": 0,
              "ticks": ""
             }
            },
            "marker": {
             "colorbar": {
              "outlinewidth": 0,
              "ticks": ""
             }
            },
            "type": "scatter3d"
           }
          ],
          "scattercarpet": [
           {
            "marker": {
             "colorbar": {
              "outlinewidth": 0,
              "ticks": ""
             }
            },
            "type": "scattercarpet"
           }
          ],
          "scattergeo": [
           {
            "marker": {
             "colorbar": {
              "outlinewidth": 0,
              "ticks": ""
             }
            },
            "type": "scattergeo"
           }
          ],
          "scattergl": [
           {
            "marker": {
             "colorbar": {
              "outlinewidth": 0,
              "ticks": ""
             }
            },
            "type": "scattergl"
           }
          ],
          "scattermap": [
           {
            "marker": {
             "colorbar": {
              "outlinewidth": 0,
              "ticks": ""
             }
            },
            "type": "scattermap"
           }
          ],
          "scattermapbox": [
           {
            "marker": {
             "colorbar": {
              "outlinewidth": 0,
              "ticks": ""
             }
            },
            "type": "scattermapbox"
           }
          ],
          "scatterpolar": [
           {
            "marker": {
             "colorbar": {
              "outlinewidth": 0,
              "ticks": ""
             }
            },
            "type": "scatterpolar"
           }
          ],
          "scatterpolargl": [
           {
            "marker": {
             "colorbar": {
              "outlinewidth": 0,
              "ticks": ""
             }
            },
            "type": "scatterpolargl"
           }
          ],
          "scatterternary": [
           {
            "marker": {
             "colorbar": {
              "outlinewidth": 0,
              "ticks": ""
             }
            },
            "type": "scatterternary"
           }
          ],
          "surface": [
           {
            "colorbar": {
             "outlinewidth": 0,
             "ticks": ""
            },
            "colorscale": [
             [
              0,
              "#0d0887"
             ],
             [
              0.1111111111111111,
              "#46039f"
             ],
             [
              0.2222222222222222,
              "#7201a8"
             ],
             [
              0.3333333333333333,
              "#9c179e"
             ],
             [
              0.4444444444444444,
              "#bd3786"
             ],
             [
              0.5555555555555556,
              "#d8576b"
             ],
             [
              0.6666666666666666,
              "#ed7953"
             ],
             [
              0.7777777777777778,
              "#fb9f3a"
             ],
             [
              0.8888888888888888,
              "#fdca26"
             ],
             [
              1,
              "#f0f921"
             ]
            ],
            "type": "surface"
           }
          ],
          "table": [
           {
            "cells": {
             "fill": {
              "color": "#EBF0F8"
             },
             "line": {
              "color": "white"
             }
            },
            "header": {
             "fill": {
              "color": "#C8D4E3"
             },
             "line": {
              "color": "white"
             }
            },
            "type": "table"
           }
          ]
         },
         "layout": {
          "annotationdefaults": {
           "arrowcolor": "#2a3f5f",
           "arrowhead": 0,
           "arrowwidth": 1
          },
          "autotypenumbers": "strict",
          "coloraxis": {
           "colorbar": {
            "outlinewidth": 0,
            "ticks": ""
           }
          },
          "colorscale": {
           "diverging": [
            [
             0,
             "#8e0152"
            ],
            [
             0.1,
             "#c51b7d"
            ],
            [
             0.2,
             "#de77ae"
            ],
            [
             0.3,
             "#f1b6da"
            ],
            [
             0.4,
             "#fde0ef"
            ],
            [
             0.5,
             "#f7f7f7"
            ],
            [
             0.6,
             "#e6f5d0"
            ],
            [
             0.7,
             "#b8e186"
            ],
            [
             0.8,
             "#7fbc41"
            ],
            [
             0.9,
             "#4d9221"
            ],
            [
             1,
             "#276419"
            ]
           ],
           "sequential": [
            [
             0,
             "#0d0887"
            ],
            [
             0.1111111111111111,
             "#46039f"
            ],
            [
             0.2222222222222222,
             "#7201a8"
            ],
            [
             0.3333333333333333,
             "#9c179e"
            ],
            [
             0.4444444444444444,
             "#bd3786"
            ],
            [
             0.5555555555555556,
             "#d8576b"
            ],
            [
             0.6666666666666666,
             "#ed7953"
            ],
            [
             0.7777777777777778,
             "#fb9f3a"
            ],
            [
             0.8888888888888888,
             "#fdca26"
            ],
            [
             1,
             "#f0f921"
            ]
           ],
           "sequentialminus": [
            [
             0,
             "#0d0887"
            ],
            [
             0.1111111111111111,
             "#46039f"
            ],
            [
             0.2222222222222222,
             "#7201a8"
            ],
            [
             0.3333333333333333,
             "#9c179e"
            ],
            [
             0.4444444444444444,
             "#bd3786"
            ],
            [
             0.5555555555555556,
             "#d8576b"
            ],
            [
             0.6666666666666666,
             "#ed7953"
            ],
            [
             0.7777777777777778,
             "#fb9f3a"
            ],
            [
             0.8888888888888888,
             "#fdca26"
            ],
            [
             1,
             "#f0f921"
            ]
           ]
          },
          "colorway": [
           "#636efa",
           "#EF553B",
           "#00cc96",
           "#ab63fa",
           "#FFA15A",
           "#19d3f3",
           "#FF6692",
           "#B6E880",
           "#FF97FF",
           "#FECB52"
          ],
          "font": {
           "color": "#2a3f5f"
          },
          "geo": {
           "bgcolor": "white",
           "lakecolor": "white",
           "landcolor": "#E5ECF6",
           "showlakes": true,
           "showland": true,
           "subunitcolor": "white"
          },
          "hoverlabel": {
           "align": "left"
          },
          "hovermode": "closest",
          "mapbox": {
           "style": "light"
          },
          "paper_bgcolor": "white",
          "plot_bgcolor": "#E5ECF6",
          "polar": {
           "angularaxis": {
            "gridcolor": "white",
            "linecolor": "white",
            "ticks": ""
           },
           "bgcolor": "#E5ECF6",
           "radialaxis": {
            "gridcolor": "white",
            "linecolor": "white",
            "ticks": ""
           }
          },
          "scene": {
           "xaxis": {
            "backgroundcolor": "#E5ECF6",
            "gridcolor": "white",
            "gridwidth": 2,
            "linecolor": "white",
            "showbackground": true,
            "ticks": "",
            "zerolinecolor": "white"
           },
           "yaxis": {
            "backgroundcolor": "#E5ECF6",
            "gridcolor": "white",
            "gridwidth": 2,
            "linecolor": "white",
            "showbackground": true,
            "ticks": "",
            "zerolinecolor": "white"
           },
           "zaxis": {
            "backgroundcolor": "#E5ECF6",
            "gridcolor": "white",
            "gridwidth": 2,
            "linecolor": "white",
            "showbackground": true,
            "ticks": "",
            "zerolinecolor": "white"
           }
          },
          "shapedefaults": {
           "line": {
            "color": "#2a3f5f"
           }
          },
          "ternary": {
           "aaxis": {
            "gridcolor": "white",
            "linecolor": "white",
            "ticks": ""
           },
           "baxis": {
            "gridcolor": "white",
            "linecolor": "white",
            "ticks": ""
           },
           "bgcolor": "#E5ECF6",
           "caxis": {
            "gridcolor": "white",
            "linecolor": "white",
            "ticks": ""
           }
          },
          "title": {
           "x": 0.05
          },
          "xaxis": {
           "automargin": true,
           "gridcolor": "white",
           "linecolor": "white",
           "ticks": "",
           "title": {
            "standoff": 15
           },
           "zerolinecolor": "white",
           "zerolinewidth": 2
          },
          "yaxis": {
           "automargin": true,
           "gridcolor": "white",
           "linecolor": "white",
           "ticks": "",
           "title": {
            "standoff": 15
           },
           "zerolinecolor": "white",
           "zerolinewidth": 2
          }
         }
        },
        "title": {
         "font": {
          "size": 24
         },
         "text": "Treatment Feature Distribution (ANOVA)"
        },
        "width": 600
       }
      }
     },
     "metadata": {},
     "output_type": "display_data"
    }
   ],
   "source": [
    "### USING ANOVA PAIRWISE TEST (USING ALL HEALTHY, BC AS POST, AND E AS TREATMENT)\n",
    "lesion_anova_df = treatment_effect_df_expanded[treatment_effect_df_expanded['Significance All Healthy vs B Sick & C Sick'] != 'n.s.']\n",
    "print(f\"Number of significant features that describe the lesion (ALL pre vs B & C post): {lesion_anova_df.shape[0]}\")\n",
    "\n",
    "improving_lesion_anova_df = lesion_anova_df[lesion_anova_df['direction'] == 'towards_healthy']\n",
    "avg_improving_effect_size = improving_lesion_anova_df['change_effect_size'].mean()\n",
    "print(f\"Number of significant lesion features that improve: {improving_lesion_anova_df.shape[0]}. Average effect size: {avg_improving_effect_size:.2f}\")\n",
    "\n",
    "worsening_lesion_anova_df = lesion_anova_df[lesion_anova_df['direction'] == 'away_from_healthy']\n",
    "avg_worsening_effect_size = worsening_lesion_anova_df['change_effect_size'].mean()\n",
    "print(f\"Number of significant lesion features that worsen: {worsening_lesion_anova_df.shape[0]}. Average effect size: {avg_worsening_effect_size:.2f}\")\n",
    "\n",
    "\n",
    "print('-'*40)\n",
    "treatment_anova_df = treatment_effect_df_expanded[treatment_effect_df_expanded['Significance B Sick & C Sick vs E Treatment'] != 'n.s.']\n",
    "print(f\"Number of significant features that describe the treatment effect (B & C post vs E post): {treatment_anova_df.shape[0]}\")\n",
    "\n",
    "improving_treatment_anova_df = treatment_anova_df[treatment_anova_df['direction'] == 'towards_healthy']\n",
    "avg_improving_effect_size = improving_treatment_anova_df['change_effect_size'].mean()\n",
    "print(f\"Number of significant treatment features that improve: {improving_treatment_anova_df.shape[0]}. Average effect size: {avg_improving_effect_size:.2f}\")\n",
    "\n",
    "worsening_treatment_anova_df = treatment_anova_df[treatment_anova_df['direction'] == 'away_from_healthy']\n",
    "avg_worsening_effect_size = worsening_treatment_anova_df['change_effect_size'].mean()\n",
    "print(f\"Number of significant treatment features that worsen: {worsening_treatment_anova_df.shape[0]}. Average effect size: {avg_worsening_effect_size:.2f}\")\n",
    "\n",
    "print('-'*40)\n",
    "\n",
    "intersecting_features = set(treatment_anova_df['Feature']).intersection(set(lesion_anova_df['Feature']))\n",
    "\n",
    "print('-'*40)\n",
    "print(f\"Number of intersecting features between the two comparisons: {len(intersecting_features)}\")\n",
    "print(f\"Number of intersecting features that improve: {len(intersecting_features & set(improving_treatment_anova_df['Feature']))}\")\n",
    "print(f\"Number of intersecting features that worsen: {len(intersecting_features & set(worsening_treatment_anova_df['Feature']))}\")\n",
    "\n",
    "## Use a venn diagram to display the features\n",
    "venn2(subsets = (len(treatment_effect_df_expanded[treatment_effect_df_expanded['Significance All Healthy vs B Sick & C Sick'] != 'n.s.']), len(treatment_effect_df_expanded[treatment_effect_df_expanded['Significance B Sick & C Sick vs E Treatment'] != 'n.s.']), len(intersecting_features)),\n",
    "      set_labels = ('Lesion', \n",
    "                    'Treatment'),\n",
    "      set_colors=(\"red\",\n",
    "                  \"green\"),alpha=0.7)\n",
    "\n",
    "# add outline\n",
    "venn2_circles(subsets=(len(treatment_effect_df_expanded[treatment_effect_df_expanded['Significance All Healthy vs B Sick & C Sick'] != 'n.s.']), len(treatment_effect_df_expanded[treatment_effect_df_expanded['Significance B Sick & C Sick vs E Treatment'] != 'n.s.']), len(intersecting_features)))\n",
    "\n",
    "plt.title(\"Venn Diagram of Lesion and Treatment Features (ANOVA)\", fontsize=16)\n",
    "# plt.savefig(os.path.join('./', 'venn_diagram_lesion_treatment.svg'), dpi=300, bbox_inches='tight')\n",
    "plt.show()\n",
    "\n",
    "## Lesion Feature Distribution pie\n",
    "labels = (\"Improving Lesion Features\", \"Worsening Lesion Features\", \"Non-Lesion Features\")\n",
    "sizes = (\n",
    "    improving_lesion_anova_df.shape[0],\n",
    "    worsening_lesion_anova_df.shape[0],\n",
    "    treatment_effect_df_expanded[treatment_effect_df_expanded['Significance All Healthy vs B Sick & C Sick'] == 'n.s.'].shape[0]\n",
    ")\n",
    "lesion_fig = go.Figure(\n",
    "    data=[go.Pie(\n",
    "        labels=labels, \n",
    "        values=sizes, \n",
    "        pull=[0, 0, 0.2],\n",
    "        marker=dict(colors=['green', 'red', 'grey'], line=dict(color='black', width=1))\n",
    "        )]\n",
    ")\n",
    "lesion_fig.update_layout(\n",
    "    title_text=\"Lesion Feature Distribution (ANOVA)\",\n",
    "    title_font_size=24,\n",
    "    legend_title_text=\"Feature Types\",\n",
    "    legend_title_font_size=18,\n",
    "    height=400,\n",
    "    width=600,\n",
    ")\n",
    "\n",
    "# lesion_fig.write_image(os.path.join('./', 'lesion_feature_distribution.svg'))\n",
    "lesion_fig.show()\n",
    "\n",
    "## Treatment Feature Distribution pie\n",
    "labels = (\"Improving Treatment Features\", \"Worsening Treatment Features\", \"Non-Lesion Features\")\n",
    "sizes = (\n",
    "    improving_treatment_anova_df.shape[0],\n",
    "    worsening_treatment_anova_df.shape[0],\n",
    "    treatment_effect_df_expanded[treatment_effect_df_expanded['Significance All Healthy vs B Sick & C Sick'] == 'n.s.'].shape[0]\n",
    ")\n",
    "treatment_fig = go.Figure(\n",
    "    data=[go.Pie(\n",
    "        labels=labels,\n",
    "        values=sizes,\n",
    "        pull=[0, 0, 0.2],\n",
    "        marker=dict(colors=['green', 'red', 'grey'], line=dict(color='black', width=1))\n",
    "    )]\n",
    ")\n",
    "treatment_fig.update_layout(\n",
    "    title_text=\"Treatment Feature Distribution (ANOVA)\",\n",
    "    title_font_size=24,\n",
    "    legend_title_text=\"Feature Types\",\n",
    "    legend_title_font_size=18,\n",
    "    height=400,\n",
    "    width=600,\n",
    ")\n",
    "\n",
    "# treatment_fig.write_image(os.path.join('./', 'treatment_feature_distribution.svg'))\n",
    "treatment_fig.show()"
   ]
  }
 ],
 "metadata": {
  "kernelspec": {
   "display_name": ".venv",
   "language": "python",
   "name": "python3"
  },
  "language_info": {
   "codemirror_mode": {
    "name": "ipython",
    "version": 3
   },
   "file_extension": ".py",
   "mimetype": "text/x-python",
   "name": "python",
   "nbconvert_exporter": "python",
   "pygments_lexer": "ipython3",
   "version": "3.13.5"
  }
 },
 "nbformat": 4,
 "nbformat_minor": 5
}
