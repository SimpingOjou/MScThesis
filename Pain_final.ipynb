{
 "cells": [
  {
   "cell_type": "code",
   "execution_count": null,
   "id": "ef0a7c6a",
   "metadata": {},
   "outputs": [
    {
     "name": "stdout",
     "output_type": "stream",
     "text": [
      "Collecting matplotlib_venn\n",
      "  Using cached matplotlib_venn-1.1.2-py3-none-any.whl\n",
      "Requirement already satisfied: matplotlib in ./.venv/lib64/python3.13/site-packages (from matplotlib_venn) (3.10.1)\n",
      "Requirement already satisfied: numpy in ./.venv/lib64/python3.13/site-packages (from matplotlib_venn) (2.1.3)\n",
      "Requirement already satisfied: scipy in ./.venv/lib64/python3.13/site-packages (from matplotlib_venn) (1.15.2)\n",
      "Requirement already satisfied: contourpy>=1.0.1 in ./.venv/lib64/python3.13/site-packages (from matplotlib->matplotlib_venn) (1.3.1)\n",
      "Requirement already satisfied: cycler>=0.10 in ./.venv/lib64/python3.13/site-packages (from matplotlib->matplotlib_venn) (0.12.1)\n",
      "Requirement already satisfied: fonttools>=4.22.0 in ./.venv/lib64/python3.13/site-packages (from matplotlib->matplotlib_venn) (4.56.0)\n",
      "Requirement already satisfied: kiwisolver>=1.3.1 in ./.venv/lib64/python3.13/site-packages (from matplotlib->matplotlib_venn) (1.4.8)\n",
      "Requirement already satisfied: packaging>=20.0 in ./.venv/lib64/python3.13/site-packages (from matplotlib->matplotlib_venn) (24.2)\n",
      "Requirement already satisfied: pillow>=8 in ./.venv/lib64/python3.13/site-packages (from matplotlib->matplotlib_venn) (11.1.0)\n",
      "Requirement already satisfied: pyparsing>=2.3.1 in ./.venv/lib64/python3.13/site-packages (from matplotlib->matplotlib_venn) (3.2.1)\n",
      "Requirement already satisfied: python-dateutil>=2.7 in ./.venv/lib64/python3.13/site-packages (from matplotlib->matplotlib_venn) (2.9.0.post0)\n",
      "Requirement already satisfied: six>=1.5 in ./.venv/lib64/python3.13/site-packages (from python-dateutil>=2.7->matplotlib->matplotlib_venn) (1.17.0)\n",
      "Installing collected packages: matplotlib_venn\n",
      "Successfully installed matplotlib_venn-1.1.2\n",
      "\n",
      "\u001b[1m[\u001b[0m\u001b[34;49mnotice\u001b[0m\u001b[1;39;49m]\u001b[0m\u001b[39;49m A new release of pip is available: \u001b[0m\u001b[31;49m25.1.1\u001b[0m\u001b[39;49m -> \u001b[0m\u001b[32;49m25.2\u001b[0m\n",
      "\u001b[1m[\u001b[0m\u001b[34;49mnotice\u001b[0m\u001b[1;39;49m]\u001b[0m\u001b[39;49m To update, run: \u001b[0m\u001b[32;49mpip install --upgrade pip\u001b[0m\n",
      "Note: you may need to restart the kernel to use updated packages.\n"
     ]
    }
   ],
   "source": [
    "import os\n",
    "import pandas as pd\n",
    "import numpy as np\n",
    "import plotly.express as px\n",
    "import pingouin as pg\n",
    "import scikit_posthocs as sp\n",
    "\n",
    "from plotly import graph_objects as go\n",
    "from plotly.subplots import make_subplots\n",
    "from itertools import combinations\n",
    "from scipy.stats import f_oneway, kruskal, ttest_ind, shapiro, mannwhitneyu, levene\n",
    "from matplotlib_venn import venn2,venn2_circles\n",
    "from matplotlib import pyplot as plt\n",
    "\n",
    "## Directories and constants\n",
    "FIGURES_DIR = './figures/Pain'\n",
    "MODELS_DIR = './src/models'\n",
    "DATA_DIR = '/home/filthyweeb/Documents/SeriousStuff/Work/MScThesis/csv/Pain_Plot_Features'\n",
    "MEAN_FEATURES_FILE = './csv/Pain_hindlimb_mouse_features_2025-06-22_21-53-52.csv' # updated means and circular means\n",
    "FORELIMB_MEANS_FILE = './csv/Pain_forelimb_mouse_features_2025-06-22_21-53-53.csv' # updated means and circular means\n",
    "# MEAN_FEATURES_FILE = './csv/SCI_pre_acute_hindlimb_mouse_features_2025-06-06_15-11-59.csv'\n",
    "# MEAN_FEATURES_FILE = './csv/sideview_hindlimb_mouse_features_new_H.csv'\n",
    "HEALTHY_KEY = 'pre'\n",
    "SICK_KEY = 'post'\n",
    "CONTROL_KEY = 'C_'\n",
    "SECONDARY_CONTROL_KEY = 'A_'\n",
    "VIRUS_CONTROL_KEY = 'B_'\n",
    "TREATMENT_CONTROL_KEY = 'E_'\n",
    "SECONDARY_TREATMENT_KEY = 'D_'\n",
    "SIDE_KEY = ('left','right')\n",
    "\n",
    "## Treatments: E-D\n",
    "## Controls: B-C\n",
    "\n",
    "## C-B to check if virus is doing something or is it the lesion\n",
    "## A should be similar to C\n",
    "\n",
    "### Functions for statistical testing\n",
    "def is_circular_feature(name):\n",
    "    name = name.lower()\n",
    "    return (('angle' in name or 'phase' in name) and 'excursion' not in name and 'std' not in name)\n",
    "\n",
    "def circular_surrogate_test(values1, values2):\n",
    "    \"\"\"Approximate test for circular data by comparing cosine and sine projections. Input in radiants\"\"\"\n",
    "    cos1, sin1 = np.cos(values1), np.sin(values1)\n",
    "    cos2, sin2 = np.cos(values2), np.sin(values2)\n",
    "\n",
    "    _, p_cos = ttest_ind(cos1, cos2, equal_var=False)\n",
    "    _, p_sin = ttest_ind(sin1, sin2, equal_var=False)\n",
    "\n",
    "    min_p = min(p_cos, p_sin)\n",
    "    axis = 'cos' if p_cos < p_sin else 'sin'\n",
    "\n",
    "    return min_p, axis\n",
    "\n",
    "def significance_stars(p):\n",
    "    if p < 0.001:\n",
    "        return '***'\n",
    "    elif p < 0.01:\n",
    "        return '**'\n",
    "    elif p < 0.05:\n",
    "        return '*'\n",
    "    else:\n",
    "        return 'n.s.'\n",
    "\n",
    "def bonferroni_correct(p, n=3):\n",
    "    return min(p * n, 1.0)\n",
    "\n",
    "def compare_feature_sets(group1, group2, group1_name='group1', group2_name='group2'):\n",
    "    results = []\n",
    "    common_features = set(group1.columns).intersection(set(group2.columns))\n",
    "    common_features = [f for f in common_features if f != 'Dataset' and f != 'Mouse']\n",
    "\n",
    "    for feature in sorted(common_features):\n",
    "        test = ''\n",
    "        g1 = group1[feature].dropna()\n",
    "        g2 = group2[feature].dropna()\n",
    "\n",
    "        n1 = len(g1)\n",
    "        n2 = len(g2)\n",
    "\n",
    "        if n1 < 3 or n2 < 3:\n",
    "            continue  # skip features with too few samples\n",
    "\n",
    "        circular = is_circular_feature(feature)\n",
    "\n",
    "        # Compute basic stats\n",
    "        mean1 = np.mean(g1)\n",
    "        std1 = np.std(g1, ddof=1)\n",
    "        mean2 = np.mean(g2)\n",
    "        std2 = np.std(g2, ddof=1)\n",
    "\n",
    "        # Statistical testing\n",
    "        if circular:\n",
    "            test = 'Circular'\n",
    "            try:\n",
    "                # pycircstat expects radians\n",
    "                if '°' in feature: \n",
    "                    g1 = np.deg2rad(g1)\n",
    "                    g2 = np.deg2rad(g2)\n",
    "                pval, _ = circular_surrogate_test(g1, g2)\n",
    "            except Exception:\n",
    "                pval = np.nan\n",
    "        elif 'std' in feature.lower():\n",
    "            test = 'Levene'\n",
    "            stat, pval = levene(g1, g2)\n",
    "        else:\n",
    "            # Normality check\n",
    "            norm1 = shapiro(g1).pvalue > 0.05\n",
    "            norm2 = shapiro(g2).pvalue > 0.05\n",
    "\n",
    "            if norm1 and norm2:\n",
    "                test = 'T-test'\n",
    "                _, pval = ttest_ind(g1, g2, equal_var=False)\n",
    "            else:\n",
    "                test = 'Mann-Whitney U'\n",
    "                _, pval = mannwhitneyu(g1, g2, alternative='two-sided')\n",
    "\n",
    "        sig = significance_stars(pval)\n",
    "\n",
    "        results.append({\n",
    "            'Feature': feature,\n",
    "            f'Mean {group1_name}': mean1,\n",
    "            f'SD {group1_name}': std1,\n",
    "            f'Mean {group2_name}': mean2,\n",
    "            f'SD {group2_name}': std2,\n",
    "            f'Number of samples in {group1_name}': n1,\n",
    "            f'Number of samples in {group2_name}': n2,\n",
    "            f'p-value {group1_name} vs {group2_name}': pval,\n",
    "            'Significance': sig,\n",
    "            'Statistical Test': test\n",
    "        })\n",
    "\n",
    "    return pd.DataFrame(results)\n",
    "\n",
    "def compare_multiple_groups(group_dict):\n",
    "    \"\"\"\n",
    "    group_dict: dict with keys as group names (e.g., 'H', 'S', 'T')\n",
    "                and values as DataFrames with same features\n",
    "    \"\"\"\n",
    "    group_nbr = len(group_dict)\n",
    "    results = []\n",
    "    feature_set = set.intersection(*(set(df.columns) for df in group_dict.values()))\n",
    "    feature_set = [f for f in feature_set if f != 'Dataset' and f != 'Mouse']\n",
    "    group_names = list(group_dict.keys())\n",
    "\n",
    "    for feature in sorted(feature_set):\n",
    "        group_data = {g: df[feature].dropna() for g, df in group_dict.items()}\n",
    "        sample_sizes = {g: len(vals) for g, vals in group_data.items()}\n",
    "\n",
    "        if any(n < 3 for n in sample_sizes.values()):\n",
    "            continue  # skip if any group has <3 samples\n",
    "\n",
    "        circular = is_circular_feature(feature)\n",
    "        summary_stats = {\n",
    "            f\"Mean {g}\": np.mean(vals)\n",
    "            for g, vals in group_data.items()\n",
    "        }\n",
    "        summary_stats.update({\n",
    "            f\"SD {g}\": np.std(vals, ddof=1)\n",
    "            for g, vals in group_data.items()\n",
    "        })\n",
    "        summary_stats.update({\n",
    "            f\"Number of samples in {g}\": len(vals)\n",
    "            for g, vals in group_data.items()\n",
    "        })\n",
    "\n",
    "        # Global test\n",
    "        pval_global = np.nan\n",
    "        posthoc_matrix = {}\n",
    "\n",
    "        all_vals = []\n",
    "        labels = []\n",
    "        for g in group_names:\n",
    "            v = group_data[g]\n",
    "            v = np.deg2rad(v) if '°' in feature else v\n",
    "            labels.extend([g]*len(v))\n",
    "            all_vals.extend(v)\n",
    "        all_df = pd.DataFrame({'value': all_vals, 'group': labels})\n",
    "\n",
    "        if circular:\n",
    "            ## Global p-value circular\n",
    "            cos_groups = [np.cos(np.deg2rad(group_data[g])) for g in group_names]\n",
    "            sin_groups = [np.sin(np.deg2rad(group_data[g])) for g in group_names]\n",
    "            f_cos, p_cos = f_oneway(*cos_groups)\n",
    "            f_sin, p_sin = f_oneway(*sin_groups)\n",
    "            pval_global = min(p_cos, p_sin)\n",
    "            test_used = \"Circular\"\n",
    "\n",
    "            for g1, g2 in combinations(group_names, 2):\n",
    "                p, _ = circular_surrogate_test(group_data[g1], group_data[g2])\n",
    "                posthoc_matrix[(g1, g2)] = bonferroni_correct(p, group_nbr)\n",
    "        elif 'std' in feature.lower():\n",
    "            stat, pval_global = levene(*(group_data[g] for g in group_names))\n",
    "            test_used = \"Levene\"\n",
    "            for g1, g2 in combinations(group_names, 2):\n",
    "                stat, p = levene(group_data[g1], group_data[g2])\n",
    "                posthoc_matrix[(g1, g2)] = bonferroni_correct(p, group_nbr)\n",
    "        else:\n",
    "            # Check normality\n",
    "            normal_flags = {\n",
    "                g: shapiro(group_data[g]).pvalue > 0.05\n",
    "                for g in group_names\n",
    "            }\n",
    "\n",
    "            if all(normal_flags.values()):\n",
    "                pval_global = f_oneway(*group_data.values()).pvalue\n",
    "                test_used = \"ANOVA\"\n",
    "\n",
    "                posthoc = pg.pairwise_tests(\n",
    "                    data=all_df,\n",
    "                    dv='value',\n",
    "                    between='group',\n",
    "                    padjust='bonf',   # Bonferroni correction\n",
    "                    alpha=0.05\n",
    "                )\n",
    "\n",
    "                # Pairwise t-tests\n",
    "                for g1, g2 in combinations(group_names, 2):\n",
    "                    match = posthoc[\n",
    "                        ((posthoc['A'] == g1) & (posthoc['B'] == g2)) |\n",
    "                        ((posthoc['A'] == g2) & (posthoc['B'] == g1))\n",
    "                    ]\n",
    "                    if not match.empty:\n",
    "                        p = match.iloc[0]['p-corr']\n",
    "                        posthoc_matrix[(g1, g2)] = p\n",
    "\n",
    "            else:\n",
    "                pval_global = kruskal(*group_data.values()).pvalue\n",
    "                test_used = \"Kruskal-Wallis\"\n",
    "                # scikit-posthocs needs long-format DataFrame\n",
    "                posthoc = sp.posthoc_dunn(all_df, val_col='value', group_col='group', p_adjust='bonferroni')\n",
    "                for g1, g2 in combinations(group_names, 2):\n",
    "                    p = posthoc.loc[g1, g2]\n",
    "                    posthoc_matrix[(g1, g2)] = p\n",
    "\n",
    "        # Store pairwise comparisons\n",
    "        row = {\n",
    "            'Feature': feature,\n",
    "            'Statistical Test': test_used,\n",
    "            'Global p-value': pval_global,\n",
    "            'Global significance': significance_stars(pval_global)\n",
    "        }\n",
    "\n",
    "        # Add group-wise stats\n",
    "        for g in group_names:\n",
    "            row[f'Mean {g}'] = summary_stats[f'Mean {g}']\n",
    "            row[f'SD {g}'] = summary_stats[f'SD {g}']\n",
    "            row[f'Number of samples in {g}'] = summary_stats[f'Number of samples in {g}']\n",
    "\n",
    "        # Add pairwise p-values\n",
    "        for g1, g2 in combinations(group_names, 2):\n",
    "            p = posthoc_matrix.get((g1, g2), np.nan)\n",
    "            row[f'p-value {g1} vs {g2}'] = p\n",
    "            row[f'Significance {g1} vs {g2}'] = significance_stars(p)\n",
    "\n",
    "        results.append(row)\n",
    "\n",
    "    return pd.DataFrame(results)"
   ]
  },
  {
   "cell_type": "code",
   "execution_count": null,
   "id": "ffbda0b5",
   "metadata": {},
   "outputs": [
    {
     "name": "stdout",
     "output_type": "stream",
     "text": [
      "Number of hindlimb features: 2679\n",
      "Number of forelimb features: 2679\n"
     ]
    },
    {
     "name": "stderr",
     "output_type": "stream",
     "text": [
      "C:\\Users\\Simone\\AppData\\Local\\Temp\\ipykernel_19124\\279459541.py:18: UserWarning:\n",
      "\n",
      "This pattern is interpreted as a regular expression, and has match groups. To actually get the groups, use str.extract.\n",
      "\n",
      "C:\\Users\\Simone\\AppData\\Local\\Temp\\ipykernel_19124\\279459541.py:19: UserWarning:\n",
      "\n",
      "This pattern is interpreted as a regular expression, and has match groups. To actually get the groups, use str.extract.\n",
      "\n"
     ]
    }
   ],
   "source": [
    "# Example inputs: update as needed\n",
    "experimental_groups = ['A', 'B', 'C', 'D', 'E']\n",
    "sides = {'left': SIDE_KEY[0].lower(), 'right': SIDE_KEY[1].lower()}\n",
    "health_statuses = {'healthy': HEALTHY_KEY.lower(), 'sick': SICK_KEY.lower()}\n",
    "run_types = {\n",
    "    'A': SECONDARY_CONTROL_KEY.lower(),\n",
    "    'B': VIRUS_CONTROL_KEY.lower(),\n",
    "    'C': CONTROL_KEY.lower(),\n",
    "    'D': SECONDARY_TREATMENT_KEY.lower(),\n",
    "    'E': TREATMENT_CONTROL_KEY.lower()\n",
    "}\n",
    "\n",
    "# Load data\n",
    "hindlimb_features_df = pd.read_csv(MEAN_FEATURES_FILE)\n",
    "forelimb_features_df = pd.read_csv(FORELIMB_MEANS_FILE) \n",
    "\n",
    "# filter number of runs and number of steps\n",
    "hindlimb_features_df = hindlimb_features_df[hindlimb_features_df.columns[~hindlimb_features_df.columns.str.contains('(#)|steps std')]]\n",
    "forelimb_features_df = forelimb_features_df[forelimb_features_df.columns[~forelimb_features_df.columns.str.contains('(#)|steps std')]]\n",
    "\n",
    "# Container for all feature subsets\n",
    "feature_subsets = {\n",
    "    'hindlimb': {},\n",
    "    'forelimb': {}\n",
    "}\n",
    "\n",
    "# General function for filtering\n",
    "def filter_features(df, health_key, run_key, side_key):\n",
    "    return df[\n",
    "        df['Dataset'].str.lower().str.contains(health_key) &\n",
    "        df['Dataset'].str.lower().str.contains(run_key) &\n",
    "        df['Mouse'].str.lower().str.contains(side_key)\n",
    "    ]\n",
    "\n",
    "# Generate subsets\n",
    "for run_code in experimental_groups:\n",
    "    run_key = run_types.get(run_code)\n",
    "    if not run_key:\n",
    "        continue  # skip undefined keys\n",
    "\n",
    "    for health_label, health_key in health_statuses.items():\n",
    "        for side_label, side_key in sides.items():\n",
    "            name = f\"{health_label}_{side_label}_{run_code}_run\"\n",
    "\n",
    "            feature_subsets['hindlimb'][name] = filter_features(hindlimb_features_df, health_key, run_key, side_key)\n",
    "            feature_subsets['forelimb'][name] = filter_features(forelimb_features_df, health_key, run_key, side_key)\n",
    "\n",
    "# Example usage\n",
    "print(f\"Number of hindlimb features: {hindlimb_features_df.shape[1]-3}\")\n",
    "print(f\"Number of forelimb features: {forelimb_features_df.shape[1]-3}\")\n",
    "\n",
    "# Access a subset:\n",
    "# feature_subsets['hindlimb']['healthy_left_c_run']\n",
    "# print(hindlimb_features_df['Dataset'].unique(), hindlimb_features_df['Mouse'].unique())"
   ]
  },
  {
   "cell_type": "code",
   "execution_count": null,
   "id": "e3842734",
   "metadata": {},
   "outputs": [],
   "source": [
    "df_b_healthy = feature_subsets['hindlimb'].get('healthy_left_B_run')\n",
    "df_a_healthy = feature_subsets['hindlimb'].get('healthy_left_A_run')\n",
    "df_c_healthy = feature_subsets['hindlimb'].get('healthy_left_C_run')\n",
    "df_d_healthy = feature_subsets['hindlimb'].get('healthy_left_D_run')\n",
    "df_e_healthy = feature_subsets['hindlimb'].get('healthy_left_E_run')\n",
    "df_b_sick = feature_subsets['hindlimb'].get('sick_left_B_run')\n",
    "df_c_sick = feature_subsets['hindlimb'].get('sick_left_C_run')\n",
    "df_e_sick = feature_subsets['hindlimb'].get('sick_left_E_run')\n",
    "\n",
    "# 1. Compare B left healthy vs C left sick\n",
    "if df_b_healthy is not None and not df_b_healthy.empty and df_c_sick is not None and not df_c_sick.empty:\n",
    "    label1 = 'Healthy Left B'\n",
    "    label2 = 'Sick Left C'\n",
    "    b_c_result = compare_feature_sets(df_b_healthy, df_c_sick, group1_name=label1, group2_name=label2)\n",
    "\n",
    "# 2. Compare C left healthy vs E left sick\n",
    "if df_c_healthy is not None and not df_c_healthy.empty and df_e_sick is not None and not df_e_sick.empty:\n",
    "    label1 = 'Healthy Left C'\n",
    "    label2 = 'Sick Left E'\n",
    "    c_e_result = compare_feature_sets(df_c_healthy, df_e_sick, group1_name=label1, group2_name=label2)"
   ]
  },
  {
   "cell_type": "code",
   "execution_count": null,
   "id": "615c1a53",
   "metadata": {},
   "outputs": [],
   "source": [
    "# 3. Compare B, C, E with a one-way ANOVA\n",
    "if df_b_healthy is not None and not df_b_healthy.empty and df_c_sick is not None and not df_c_sick.empty and df_e_sick is not None and not df_e_sick.empty:\n",
    "    label1 = 'Healthy Left B'\n",
    "    label2 = 'Sick Left C'\n",
    "    label3 = 'Sick Left E'\n",
    "    b_c_e_anova_result = compare_multiple_groups({\n",
    "        label1: df_b_healthy,\n",
    "        label2: df_c_sick,\n",
    "        label3: df_e_sick\n",
    "    })"
   ]
  },
  {
   "cell_type": "code",
   "execution_count": null,
   "id": "e44a739c",
   "metadata": {},
   "outputs": [],
   "source": [
    "# 4. Compare All healthy groups\n",
    "all_healthy_anova_result = compare_multiple_groups({\n",
    "    'Healthy Left A': df_a_healthy,\n",
    "    'Healthy Left B': df_b_healthy,\n",
    "    'Healthy Left C': df_c_healthy,\n",
    "    'Healthy Left D': df_d_healthy,\n",
    "    'Healthy Left E': df_e_healthy\n",
    "})"
   ]
  },
  {
   "cell_type": "code",
   "execution_count": null,
   "id": "acda3124",
   "metadata": {},
   "outputs": [],
   "source": [
    "# 5. Compare All Healthy vs B,C as sick, and E as treatment\n",
    "df1 = pd.concat([df_a_healthy, df_b_healthy, df_c_healthy, df_d_healthy, df_e_healthy])\n",
    "df2 = pd.concat([df_b_sick, df_c_sick])\n",
    "df3 = df_e_sick\n",
    "all_healthy_bc_sick_e_treat_anova_result = compare_multiple_groups({\n",
    "    'All Healthy': df1,\n",
    "    'B Sick & C Sick': df2,\n",
    "    'E Treatment': df3\n",
    "})"
   ]
  },
  {
   "cell_type": "code",
   "execution_count": null,
   "id": "670826b2",
   "metadata": {},
   "outputs": [],
   "source": [
    "def calculate_feature_changes(healthy:pd.DataFrame, sick:pd.DataFrame, treatment:pd.DataFrame, features:list):\n",
    "    \"\"\"\n",
    "        Calculate changes in feature means and effect sizes between healthy, sick, and treatment groups. The distance is measured as the absolute difference in means compared to the healthy group and the effect is normalized against the pooled std. \n",
    "    \"\"\"\n",
    "    rows = []\n",
    "    for f in features:\n",
    "        h = healthy[f].dropna()\n",
    "        s = sick[f].dropna()\n",
    "        t = treatment[f].dropna()\n",
    "\n",
    "        d_sick = abs(s.mean() - h.mean())\n",
    "        d_treat = abs(t.mean() - h.mean())\n",
    "\n",
    "        # Pooled std for Healthy vs Sick\n",
    "        pooled_std = np.sqrt(((len(h)-1)*h.var() + (len(s)-1)*s.var()) / (len(h) + len(s) - 2))\n",
    "\n",
    "        if pooled_std == 0:\n",
    "            change_effect_size = np.nan\n",
    "        else:\n",
    "            change_effect_size = (d_sick - d_treat) / pooled_std\n",
    "\n",
    "        rows.append((f, d_sick - d_treat, change_effect_size))\n",
    "\n",
    "    res_df = pd.DataFrame(rows, columns=[\"feature\", \"change value\", \"change_effect_size\"])\n",
    "    res_df[\"direction\"] = res_df[\"change_effect_size\"].apply(lambda x: \"towards_healthy\" if x > 0 else \"away_from_healthy\" if x < 0 else \"no_change\")\n",
    "\n",
    "    return res_df\n",
    "\n",
    "### Calculate improving and worsening features\n",
    "healthy_features = hindlimb_features_df[hindlimb_features_df['Dataset'].str.contains('B_pre') & hindlimb_features_df['Mouse'].str.contains('left')]\n",
    "sick_features = hindlimb_features_df[hindlimb_features_df['Dataset'].str.contains('C_post') & hindlimb_features_df['Mouse'].str.contains('left')]\n",
    "treatment_features = hindlimb_features_df[hindlimb_features_df['Dataset'].str.contains('E_post') & hindlimb_features_df['Mouse'].str.contains('left')]\n",
    "value_features = hindlimb_features_df[hindlimb_features_df.columns[~hindlimb_features_df.columns.str.contains('Dataset|Mouse')]].columns\n",
    "\n",
    "feature_change_df = calculate_feature_changes(healthy_features, sick_features, treatment_features, value_features)"
   ]
  },
  {
   "cell_type": "code",
   "execution_count": null,
   "id": "5445e916",
   "metadata": {},
   "outputs": [
    {
     "name": "stdout",
     "output_type": "stream",
     "text": [
      "(2680, 19) (2680, 23) (2680, 4) (2680, 14) (2680, 10) (2680, 14) (2680, 10)\n"
     ]
    }
   ],
   "source": [
    "treatment_effect_df = b_c_e_anova_result.merge(\n",
    "    feature_change_df,\n",
    "    left_on='Feature',\n",
    "    right_on='feature',\n",
    "    how='inner'\n",
    ")\n",
    "\n",
    "treatment_effect_df_expanded = all_healthy_bc_sick_e_treat_anova_result.merge(\n",
    "    feature_change_df,\n",
    "    left_on='Feature',\n",
    "    right_on='feature',\n",
    "    how='inner'\n",
    ")\n",
    "\n",
    "treatment_on_lesion_df = b_c_result.merge(\n",
    "    feature_change_df,\n",
    "    left_on='Feature',\n",
    "    right_on='feature',\n",
    "    how='inner'\n",
    ")\n",
    "\n",
    "treatment_on_healthy_df = c_e_result.merge(\n",
    "    feature_change_df,\n",
    "    left_on='Feature',\n",
    "    right_on='feature',\n",
    "    how='inner'\n",
    ")\n",
    "\n",
    "print(b_c_e_anova_result.shape, treatment_effect_df.shape, feature_change_df.shape, treatment_on_lesion_df.shape, b_c_result.shape, treatment_on_healthy_df.shape, c_e_result.shape)"
   ]
  },
  {
   "cell_type": "code",
   "execution_count": null,
   "id": "f0eb8a15",
   "metadata": {},
   "outputs": [],
   "source": [
    "## Save to csv the files\n",
    "treatment_effect_df.to_csv('./treatment_effect_features.csv', index=False)\n",
    "treatment_on_lesion_df.to_csv('./lesion_features.csv', index=False)\n",
    "treatment_on_healthy_df.to_csv('./non_pathological_features.csv', index=False)"
   ]
  },
  {
   "cell_type": "code",
   "execution_count": null,
   "id": "f964b63c",
   "metadata": {},
   "outputs": [],
   "source": [
    "def plot_features_list_across_groups(feature_list, feature_subsets, limb='hindlimb', \n",
    "                                     max_cols=4, groups=['A_', 'B_', 'C_', 'D_', 'E_'], \n",
    "                                     states=['healthy', 'sick'], sides=['left', 'right']):\n",
    "    \"\"\"\n",
    "    Plot a given list of exact feature names across all groups for a given limb.\n",
    "    \"\"\"\n",
    "    data_subsets = feature_subsets[limb]\n",
    "    matched_features = [f for f in feature_list if any(f in df.columns for df in data_subsets.values())]\n",
    "\n",
    "    if not matched_features:\n",
    "        print(\"No matching features found in the data.\")\n",
    "        return\n",
    "    \n",
    "    if 'ALL_' in groups:\n",
    "        # Merge the relevant sick groups (excluding D and E)\n",
    "        all_sick = pd.concat([\n",
    "            feature_subsets[limb]['sick_left_B_run'],\n",
    "            feature_subsets[limb]['sick_left_C_run']\n",
    "        ], ignore_index=True)\n",
    "        all_healthy = pd.concat([\n",
    "            feature_subsets[limb]['healthy_left_B_run'],\n",
    "            feature_subsets[limb]['healthy_left_C_run']\n",
    "        ], ignore_index=True)\n",
    "        feature_subsets[limb]['sick_left_ALL_run'] = all_sick\n",
    "        feature_subsets[limb]['healthy_left_ALL_run'] = all_healthy\n",
    "\n",
    "    num_features = len(matched_features)\n",
    "    rows = (num_features + max_cols - 1) // max_cols\n",
    "    cols = min(num_features, max_cols)\n",
    "\n",
    "    palette = px.colors.qualitative.Plotly\n",
    "    subplot_titles = [\n",
    "        f.replace('Mean', '').replace('- rhindlimb - ', '').strip()\n",
    "        for f in matched_features\n",
    "    ]\n",
    "\n",
    "    fig = make_subplots(rows=rows, cols=cols, subplot_titles=subplot_titles)\n",
    "\n",
    "    for idx, feature in enumerate(matched_features):\n",
    "        row = idx // max_cols + 1\n",
    "        col = idx % max_cols + 1\n",
    "\n",
    "        group_means, group_stds, group_names, group_points = [], [], [], []\n",
    "\n",
    "        for name, df in data_subsets.items():\n",
    "            if feature not in df.columns:\n",
    "                continue\n",
    "            if not any(side in name.lower() for side in sides):\n",
    "                continue\n",
    "            if not (any(g in name for g in groups) and any(s in name for s in states)):\n",
    "                continue\n",
    "\n",
    "            values = df[feature].dropna()\n",
    "            if len(values) == 0:\n",
    "                continue\n",
    "\n",
    "            group_means.append(values.mean())\n",
    "            group_stds.append(values.std())\n",
    "            group_names.append(name)\n",
    "            group_points.append(values)\n",
    "\n",
    "        if not group_names:\n",
    "            continue\n",
    "\n",
    "        bar_colors = [palette[i % len(palette)] for i in range(len(group_names))]\n",
    "\n",
    "        # Bar with error bars\n",
    "        fig.add_trace(\n",
    "            go.Bar(\n",
    "                x=group_names,\n",
    "                y=group_means,\n",
    "                error_y=dict(type='data', array=group_stds, visible=True),\n",
    "                name=feature,\n",
    "                marker=dict(\n",
    "                    color=bar_colors,\n",
    "                    line=dict(color='black', width=1)\n",
    "                )\n",
    "            ),\n",
    "            row=row, col=col\n",
    "        )\n",
    "\n",
    "        # Scatter points\n",
    "        for i, (group, values) in enumerate(zip(group_names, group_points)):\n",
    "            fig.add_trace(\n",
    "                go.Scatter(\n",
    "                    x=[group] * len(values),\n",
    "                    y=values,\n",
    "                    mode='markers',\n",
    "                    marker=dict(size=6, opacity=0.5, color='black'),\n",
    "                    showlegend=False\n",
    "                ),\n",
    "                row=row, col=col\n",
    "            )\n",
    "\n",
    "    fig.update_layout(\n",
    "        title=\"Selected Features Across Groups\",\n",
    "        showlegend=False,\n",
    "        height=500 * rows,\n",
    "        width=400 * cols,\n",
    "        plot_bgcolor='rgba(0,0,0,0)'\n",
    "    )\n",
    "    return fig"
   ]
  },
  {
   "cell_type": "code",
   "execution_count": 197,
   "id": "3b5c8736",
   "metadata": {},
   "outputs": [
    {
     "name": "stdout",
     "output_type": "stream",
     "text": [
      "36\n"
     ]
    }
   ],
   "source": [
    "c_e_healthy_sig = set(all_healthy_anova_result[all_healthy_anova_result['Significance Healthy Left C vs Healthy Left E'] != 'n.s.']['Feature'])\n",
    "print(len(c_e_healthy_sig))"
   ]
  },
  {
   "cell_type": "code",
   "execution_count": null,
   "id": "88ea9e4c",
   "metadata": {},
   "outputs": [
    {
     "name": "stdout",
     "output_type": "stream",
     "text": [
      "Number of features that differ between all healthy groups (ABCDE): 243/2680\n"
     ]
    },
    {
     "data": {
      "application/vnd.plotly.v1+json": {
       "config": {
        "plotlyServerURL": "https://plot.ly"
       },
       "data": [
        {
         "labels": [
          "Different Features",
          "Non Different Features"
         ],
         "marker": {
          "colors": [
           "red",
           "green"
          ],
          "line": {
           "color": "black",
           "width": 1
          }
         },
         "pull": [
          0,
          0.2
         ],
         "type": "pie",
         "values": [
          243,
          2437
         ]
        }
       ],
       "layout": {
        "height": 400,
        "legend": {
         "title": {
          "font": {
           "size": 18
          },
          "text": "Feature Types"
         }
        },
        "template": {
         "data": {
          "bar": [
           {
            "error_x": {
             "color": "#2a3f5f"
            },
            "error_y": {
             "color": "#2a3f5f"
            },
            "marker": {
             "line": {
              "color": "#E5ECF6",
              "width": 0.5
             },
             "pattern": {
              "fillmode": "overlay",
              "size": 10,
              "solidity": 0.2
             }
            },
            "type": "bar"
           }
          ],
          "barpolar": [
           {
            "marker": {
             "line": {
              "color": "#E5ECF6",
              "width": 0.5
             },
             "pattern": {
              "fillmode": "overlay",
              "size": 10,
              "solidity": 0.2
             }
            },
            "type": "barpolar"
           }
          ],
          "carpet": [
           {
            "aaxis": {
             "endlinecolor": "#2a3f5f",
             "gridcolor": "white",
             "linecolor": "white",
             "minorgridcolor": "white",
             "startlinecolor": "#2a3f5f"
            },
            "baxis": {
             "endlinecolor": "#2a3f5f",
             "gridcolor": "white",
             "linecolor": "white",
             "minorgridcolor": "white",
             "startlinecolor": "#2a3f5f"
            },
            "type": "carpet"
           }
          ],
          "choropleth": [
           {
            "colorbar": {
             "outlinewidth": 0,
             "ticks": ""
            },
            "type": "choropleth"
           }
          ],
          "contour": [
           {
            "colorbar": {
             "outlinewidth": 0,
             "ticks": ""
            },
            "colorscale": [
             [
              0,
              "#0d0887"
             ],
             [
              0.1111111111111111,
              "#46039f"
             ],
             [
              0.2222222222222222,
              "#7201a8"
             ],
             [
              0.3333333333333333,
              "#9c179e"
             ],
             [
              0.4444444444444444,
              "#bd3786"
             ],
             [
              0.5555555555555556,
              "#d8576b"
             ],
             [
              0.6666666666666666,
              "#ed7953"
             ],
             [
              0.7777777777777778,
              "#fb9f3a"
             ],
             [
              0.8888888888888888,
              "#fdca26"
             ],
             [
              1,
              "#f0f921"
             ]
            ],
            "type": "contour"
           }
          ],
          "contourcarpet": [
           {
            "colorbar": {
             "outlinewidth": 0,
             "ticks": ""
            },
            "type": "contourcarpet"
           }
          ],
          "heatmap": [
           {
            "colorbar": {
             "outlinewidth": 0,
             "ticks": ""
            },
            "colorscale": [
             [
              0,
              "#0d0887"
             ],
             [
              0.1111111111111111,
              "#46039f"
             ],
             [
              0.2222222222222222,
              "#7201a8"
             ],
             [
              0.3333333333333333,
              "#9c179e"
             ],
             [
              0.4444444444444444,
              "#bd3786"
             ],
             [
              0.5555555555555556,
              "#d8576b"
             ],
             [
              0.6666666666666666,
              "#ed7953"
             ],
             [
              0.7777777777777778,
              "#fb9f3a"
             ],
             [
              0.8888888888888888,
              "#fdca26"
             ],
             [
              1,
              "#f0f921"
             ]
            ],
            "type": "heatmap"
           }
          ],
          "histogram": [
           {
            "marker": {
             "pattern": {
              "fillmode": "overlay",
              "size": 10,
              "solidity": 0.2
             }
            },
            "type": "histogram"
           }
          ],
          "histogram2d": [
           {
            "colorbar": {
             "outlinewidth": 0,
             "ticks": ""
            },
            "colorscale": [
             [
              0,
              "#0d0887"
             ],
             [
              0.1111111111111111,
              "#46039f"
             ],
             [
              0.2222222222222222,
              "#7201a8"
             ],
             [
              0.3333333333333333,
              "#9c179e"
             ],
             [
              0.4444444444444444,
              "#bd3786"
             ],
             [
              0.5555555555555556,
              "#d8576b"
             ],
             [
              0.6666666666666666,
              "#ed7953"
             ],
             [
              0.7777777777777778,
              "#fb9f3a"
             ],
             [
              0.8888888888888888,
              "#fdca26"
             ],
             [
              1,
              "#f0f921"
             ]
            ],
            "type": "histogram2d"
           }
          ],
          "histogram2dcontour": [
           {
            "colorbar": {
             "outlinewidth": 0,
             "ticks": ""
            },
            "colorscale": [
             [
              0,
              "#0d0887"
             ],
             [
              0.1111111111111111,
              "#46039f"
             ],
             [
              0.2222222222222222,
              "#7201a8"
             ],
             [
              0.3333333333333333,
              "#9c179e"
             ],
             [
              0.4444444444444444,
              "#bd3786"
             ],
             [
              0.5555555555555556,
              "#d8576b"
             ],
             [
              0.6666666666666666,
              "#ed7953"
             ],
             [
              0.7777777777777778,
              "#fb9f3a"
             ],
             [
              0.8888888888888888,
              "#fdca26"
             ],
             [
              1,
              "#f0f921"
             ]
            ],
            "type": "histogram2dcontour"
           }
          ],
          "mesh3d": [
           {
            "colorbar": {
             "outlinewidth": 0,
             "ticks": ""
            },
            "type": "mesh3d"
           }
          ],
          "parcoords": [
           {
            "line": {
             "colorbar": {
              "outlinewidth": 0,
              "ticks": ""
             }
            },
            "type": "parcoords"
           }
          ],
          "pie": [
           {
            "automargin": true,
            "type": "pie"
           }
          ],
          "scatter": [
           {
            "fillpattern": {
             "fillmode": "overlay",
             "size": 10,
             "solidity": 0.2
            },
            "type": "scatter"
           }
          ],
          "scatter3d": [
           {
            "line": {
             "colorbar": {
              "outlinewidth": 0,
              "ticks": ""
             }
            },
            "marker": {
             "colorbar": {
              "outlinewidth": 0,
              "ticks": ""
             }
            },
            "type": "scatter3d"
           }
          ],
          "scattercarpet": [
           {
            "marker": {
             "colorbar": {
              "outlinewidth": 0,
              "ticks": ""
             }
            },
            "type": "scattercarpet"
           }
          ],
          "scattergeo": [
           {
            "marker": {
             "colorbar": {
              "outlinewidth": 0,
              "ticks": ""
             }
            },
            "type": "scattergeo"
           }
          ],
          "scattergl": [
           {
            "marker": {
             "colorbar": {
              "outlinewidth": 0,
              "ticks": ""
             }
            },
            "type": "scattergl"
           }
          ],
          "scattermap": [
           {
            "marker": {
             "colorbar": {
              "outlinewidth": 0,
              "ticks": ""
             }
            },
            "type": "scattermap"
           }
          ],
          "scattermapbox": [
           {
            "marker": {
             "colorbar": {
              "outlinewidth": 0,
              "ticks": ""
             }
            },
            "type": "scattermapbox"
           }
          ],
          "scatterpolar": [
           {
            "marker": {
             "colorbar": {
              "outlinewidth": 0,
              "ticks": ""
             }
            },
            "type": "scatterpolar"
           }
          ],
          "scatterpolargl": [
           {
            "marker": {
             "colorbar": {
              "outlinewidth": 0,
              "ticks": ""
             }
            },
            "type": "scatterpolargl"
           }
          ],
          "scatterternary": [
           {
            "marker": {
             "colorbar": {
              "outlinewidth": 0,
              "ticks": ""
             }
            },
            "type": "scatterternary"
           }
          ],
          "surface": [
           {
            "colorbar": {
             "outlinewidth": 0,
             "ticks": ""
            },
            "colorscale": [
             [
              0,
              "#0d0887"
             ],
             [
              0.1111111111111111,
              "#46039f"
             ],
             [
              0.2222222222222222,
              "#7201a8"
             ],
             [
              0.3333333333333333,
              "#9c179e"
             ],
             [
              0.4444444444444444,
              "#bd3786"
             ],
             [
              0.5555555555555556,
              "#d8576b"
             ],
             [
              0.6666666666666666,
              "#ed7953"
             ],
             [
              0.7777777777777778,
              "#fb9f3a"
             ],
             [
              0.8888888888888888,
              "#fdca26"
             ],
             [
              1,
              "#f0f921"
             ]
            ],
            "type": "surface"
           }
          ],
          "table": [
           {
            "cells": {
             "fill": {
              "color": "#EBF0F8"
             },
             "line": {
              "color": "white"
             }
            },
            "header": {
             "fill": {
              "color": "#C8D4E3"
             },
             "line": {
              "color": "white"
             }
            },
            "type": "table"
           }
          ]
         },
         "layout": {
          "annotationdefaults": {
           "arrowcolor": "#2a3f5f",
           "arrowhead": 0,
           "arrowwidth": 1
          },
          "autotypenumbers": "strict",
          "coloraxis": {
           "colorbar": {
            "outlinewidth": 0,
            "ticks": ""
           }
          },
          "colorscale": {
           "diverging": [
            [
             0,
             "#8e0152"
            ],
            [
             0.1,
             "#c51b7d"
            ],
            [
             0.2,
             "#de77ae"
            ],
            [
             0.3,
             "#f1b6da"
            ],
            [
             0.4,
             "#fde0ef"
            ],
            [
             0.5,
             "#f7f7f7"
            ],
            [
             0.6,
             "#e6f5d0"
            ],
            [
             0.7,
             "#b8e186"
            ],
            [
             0.8,
             "#7fbc41"
            ],
            [
             0.9,
             "#4d9221"
            ],
            [
             1,
             "#276419"
            ]
           ],
           "sequential": [
            [
             0,
             "#0d0887"
            ],
            [
             0.1111111111111111,
             "#46039f"
            ],
            [
             0.2222222222222222,
             "#7201a8"
            ],
            [
             0.3333333333333333,
             "#9c179e"
            ],
            [
             0.4444444444444444,
             "#bd3786"
            ],
            [
             0.5555555555555556,
             "#d8576b"
            ],
            [
             0.6666666666666666,
             "#ed7953"
            ],
            [
             0.7777777777777778,
             "#fb9f3a"
            ],
            [
             0.8888888888888888,
             "#fdca26"
            ],
            [
             1,
             "#f0f921"
            ]
           ],
           "sequentialminus": [
            [
             0,
             "#0d0887"
            ],
            [
             0.1111111111111111,
             "#46039f"
            ],
            [
             0.2222222222222222,
             "#7201a8"
            ],
            [
             0.3333333333333333,
             "#9c179e"
            ],
            [
             0.4444444444444444,
             "#bd3786"
            ],
            [
             0.5555555555555556,
             "#d8576b"
            ],
            [
             0.6666666666666666,
             "#ed7953"
            ],
            [
             0.7777777777777778,
             "#fb9f3a"
            ],
            [
             0.8888888888888888,
             "#fdca26"
            ],
            [
             1,
             "#f0f921"
            ]
           ]
          },
          "colorway": [
           "#636efa",
           "#EF553B",
           "#00cc96",
           "#ab63fa",
           "#FFA15A",
           "#19d3f3",
           "#FF6692",
           "#B6E880",
           "#FF97FF",
           "#FECB52"
          ],
          "font": {
           "color": "#2a3f5f"
          },
          "geo": {
           "bgcolor": "white",
           "lakecolor": "white",
           "landcolor": "#E5ECF6",
           "showlakes": true,
           "showland": true,
           "subunitcolor": "white"
          },
          "hoverlabel": {
           "align": "left"
          },
          "hovermode": "closest",
          "mapbox": {
           "style": "light"
          },
          "paper_bgcolor": "white",
          "plot_bgcolor": "#E5ECF6",
          "polar": {
           "angularaxis": {
            "gridcolor": "white",
            "linecolor": "white",
            "ticks": ""
           },
           "bgcolor": "#E5ECF6",
           "radialaxis": {
            "gridcolor": "white",
            "linecolor": "white",
            "ticks": ""
           }
          },
          "scene": {
           "xaxis": {
            "backgroundcolor": "#E5ECF6",
            "gridcolor": "white",
            "gridwidth": 2,
            "linecolor": "white",
            "showbackground": true,
            "ticks": "",
            "zerolinecolor": "white"
           },
           "yaxis": {
            "backgroundcolor": "#E5ECF6",
            "gridcolor": "white",
            "gridwidth": 2,
            "linecolor": "white",
            "showbackground": true,
            "ticks": "",
            "zerolinecolor": "white"
           },
           "zaxis": {
            "backgroundcolor": "#E5ECF6",
            "gridcolor": "white",
            "gridwidth": 2,
            "linecolor": "white",
            "showbackground": true,
            "ticks": "",
            "zerolinecolor": "white"
           }
          },
          "shapedefaults": {
           "line": {
            "color": "#2a3f5f"
           }
          },
          "ternary": {
           "aaxis": {
            "gridcolor": "white",
            "linecolor": "white",
            "ticks": ""
           },
           "baxis": {
            "gridcolor": "white",
            "linecolor": "white",
            "ticks": ""
           },
           "bgcolor": "#E5ECF6",
           "caxis": {
            "gridcolor": "white",
            "linecolor": "white",
            "ticks": ""
           }
          },
          "title": {
           "x": 0.05
          },
          "xaxis": {
           "automargin": true,
           "gridcolor": "white",
           "linecolor": "white",
           "ticks": "",
           "title": {
            "standoff": 15
           },
           "zerolinecolor": "white",
           "zerolinewidth": 2
          },
          "yaxis": {
           "automargin": true,
           "gridcolor": "white",
           "linecolor": "white",
           "ticks": "",
           "title": {
            "standoff": 15
           },
           "zerolinecolor": "white",
           "zerolinewidth": 2
          }
         }
        },
        "title": {
         "font": {
          "size": 24
         },
         "text": "Differences Between Healthy Groups"
        },
        "width": 600
       }
      }
     },
     "metadata": {},
     "output_type": "display_data"
    }
   ],
   "source": [
    "print(f\"Number of features that differ between all healthy groups (ABCDE): {len(all_healthy_anova_result[all_healthy_anova_result['Global significance'] != 'n.s.'])}/{len(all_healthy_anova_result)}\")\n",
    "\n",
    "labels = (\"Different Features\", \"Non Different Features\")\n",
    "sized = (\n",
    "    len(all_healthy_anova_result[all_healthy_anova_result['Global significance'] != 'n.s.']),\n",
    "    len(all_healthy_anova_result[all_healthy_anova_result['Global significance'] == 'n.s.'])\n",
    ")\n",
    "different_healthy_features_fig = go.Figure(\n",
    "    data=[go.Pie(\n",
    "        labels=labels, \n",
    "        values=sized, \n",
    "        pull=[0, 0.2],\n",
    "        marker=dict(colors=['red', 'green'], line=dict(color='black', width=1))\n",
    "        )]\n",
    ")\n",
    "different_healthy_features_fig.update_layout(\n",
    "    title_text=\"Differences Between Healthy Groups\",\n",
    "    title_font_size=24,\n",
    "    legend_title_text=\"Feature Types\",\n",
    "    legend_title_font_size=18,\n",
    "    height=400,\n",
    "    width=600,\n",
    ")\n",
    "different_healthy_features_fig.write_image(\"healthy_mice_differences.svg\")\n",
    "different_healthy_features_fig.show()"
   ]
  },
  {
   "cell_type": "code",
   "execution_count": null,
   "id": "904e95fb",
   "metadata": {},
   "outputs": [
    {
     "name": "stdout",
     "output_type": "stream",
     "text": [
      "Number of significant features that describe the lesion (B pre vs C post): 229\n",
      "Number of improving lesion features after treatment: 124. Mean effect size: 0.46\n",
      "Number of worsening lesion features after treatment: 105. Mean effect size: -0.32\n"
     ]
    },
    {
     "data": {
      "application/vnd.plotly.v1+json": {
       "config": {
        "plotlyServerURL": "https://plot.ly"
       },
       "data": [
        {
         "labels": [
          "Improving Lesion Features",
          "Worsening Lesion Features",
          "Non-Lesion Features"
         ],
         "marker": {
          "colors": [
           "green",
           "red",
           "grey"
          ],
          "line": {
           "color": "black",
           "width": 1
          }
         },
         "pull": [
          0,
          0,
          0.2
         ],
         "type": "pie",
         "values": [
          124,
          105,
          2680
         ]
        }
       ],
       "layout": {
        "height": 400,
        "legend": {
         "title": {
          "font": {
           "size": 18
          },
          "text": "Feature Types"
         }
        },
        "template": {
         "data": {
          "bar": [
           {
            "error_x": {
             "color": "#2a3f5f"
            },
            "error_y": {
             "color": "#2a3f5f"
            },
            "marker": {
             "line": {
              "color": "#E5ECF6",
              "width": 0.5
             },
             "pattern": {
              "fillmode": "overlay",
              "size": 10,
              "solidity": 0.2
             }
            },
            "type": "bar"
           }
          ],
          "barpolar": [
           {
            "marker": {
             "line": {
              "color": "#E5ECF6",
              "width": 0.5
             },
             "pattern": {
              "fillmode": "overlay",
              "size": 10,
              "solidity": 0.2
             }
            },
            "type": "barpolar"
           }
          ],
          "carpet": [
           {
            "aaxis": {
             "endlinecolor": "#2a3f5f",
             "gridcolor": "white",
             "linecolor": "white",
             "minorgridcolor": "white",
             "startlinecolor": "#2a3f5f"
            },
            "baxis": {
             "endlinecolor": "#2a3f5f",
             "gridcolor": "white",
             "linecolor": "white",
             "minorgridcolor": "white",
             "startlinecolor": "#2a3f5f"
            },
            "type": "carpet"
           }
          ],
          "choropleth": [
           {
            "colorbar": {
             "outlinewidth": 0,
             "ticks": ""
            },
            "type": "choropleth"
           }
          ],
          "contour": [
           {
            "colorbar": {
             "outlinewidth": 0,
             "ticks": ""
            },
            "colorscale": [
             [
              0,
              "#0d0887"
             ],
             [
              0.1111111111111111,
              "#46039f"
             ],
             [
              0.2222222222222222,
              "#7201a8"
             ],
             [
              0.3333333333333333,
              "#9c179e"
             ],
             [
              0.4444444444444444,
              "#bd3786"
             ],
             [
              0.5555555555555556,
              "#d8576b"
             ],
             [
              0.6666666666666666,
              "#ed7953"
             ],
             [
              0.7777777777777778,
              "#fb9f3a"
             ],
             [
              0.8888888888888888,
              "#fdca26"
             ],
             [
              1,
              "#f0f921"
             ]
            ],
            "type": "contour"
           }
          ],
          "contourcarpet": [
           {
            "colorbar": {
             "outlinewidth": 0,
             "ticks": ""
            },
            "type": "contourcarpet"
           }
          ],
          "heatmap": [
           {
            "colorbar": {
             "outlinewidth": 0,
             "ticks": ""
            },
            "colorscale": [
             [
              0,
              "#0d0887"
             ],
             [
              0.1111111111111111,
              "#46039f"
             ],
             [
              0.2222222222222222,
              "#7201a8"
             ],
             [
              0.3333333333333333,
              "#9c179e"
             ],
             [
              0.4444444444444444,
              "#bd3786"
             ],
             [
              0.5555555555555556,
              "#d8576b"
             ],
             [
              0.6666666666666666,
              "#ed7953"
             ],
             [
              0.7777777777777778,
              "#fb9f3a"
             ],
             [
              0.8888888888888888,
              "#fdca26"
             ],
             [
              1,
              "#f0f921"
             ]
            ],
            "type": "heatmap"
           }
          ],
          "histogram": [
           {
            "marker": {
             "pattern": {
              "fillmode": "overlay",
              "size": 10,
              "solidity": 0.2
             }
            },
            "type": "histogram"
           }
          ],
          "histogram2d": [
           {
            "colorbar": {
             "outlinewidth": 0,
             "ticks": ""
            },
            "colorscale": [
             [
              0,
              "#0d0887"
             ],
             [
              0.1111111111111111,
              "#46039f"
             ],
             [
              0.2222222222222222,
              "#7201a8"
             ],
             [
              0.3333333333333333,
              "#9c179e"
             ],
             [
              0.4444444444444444,
              "#bd3786"
             ],
             [
              0.5555555555555556,
              "#d8576b"
             ],
             [
              0.6666666666666666,
              "#ed7953"
             ],
             [
              0.7777777777777778,
              "#fb9f3a"
             ],
             [
              0.8888888888888888,
              "#fdca26"
             ],
             [
              1,
              "#f0f921"
             ]
            ],
            "type": "histogram2d"
           }
          ],
          "histogram2dcontour": [
           {
            "colorbar": {
             "outlinewidth": 0,
             "ticks": ""
            },
            "colorscale": [
             [
              0,
              "#0d0887"
             ],
             [
              0.1111111111111111,
              "#46039f"
             ],
             [
              0.2222222222222222,
              "#7201a8"
             ],
             [
              0.3333333333333333,
              "#9c179e"
             ],
             [
              0.4444444444444444,
              "#bd3786"
             ],
             [
              0.5555555555555556,
              "#d8576b"
             ],
             [
              0.6666666666666666,
              "#ed7953"
             ],
             [
              0.7777777777777778,
              "#fb9f3a"
             ],
             [
              0.8888888888888888,
              "#fdca26"
             ],
             [
              1,
              "#f0f921"
             ]
            ],
            "type": "histogram2dcontour"
           }
          ],
          "mesh3d": [
           {
            "colorbar": {
             "outlinewidth": 0,
             "ticks": ""
            },
            "type": "mesh3d"
           }
          ],
          "parcoords": [
           {
            "line": {
             "colorbar": {
              "outlinewidth": 0,
              "ticks": ""
             }
            },
            "type": "parcoords"
           }
          ],
          "pie": [
           {
            "automargin": true,
            "type": "pie"
           }
          ],
          "scatter": [
           {
            "fillpattern": {
             "fillmode": "overlay",
             "size": 10,
             "solidity": 0.2
            },
            "type": "scatter"
           }
          ],
          "scatter3d": [
           {
            "line": {
             "colorbar": {
              "outlinewidth": 0,
              "ticks": ""
             }
            },
            "marker": {
             "colorbar": {
              "outlinewidth": 0,
              "ticks": ""
             }
            },
            "type": "scatter3d"
           }
          ],
          "scattercarpet": [
           {
            "marker": {
             "colorbar": {
              "outlinewidth": 0,
              "ticks": ""
             }
            },
            "type": "scattercarpet"
           }
          ],
          "scattergeo": [
           {
            "marker": {
             "colorbar": {
              "outlinewidth": 0,
              "ticks": ""
             }
            },
            "type": "scattergeo"
           }
          ],
          "scattergl": [
           {
            "marker": {
             "colorbar": {
              "outlinewidth": 0,
              "ticks": ""
             }
            },
            "type": "scattergl"
           }
          ],
          "scattermap": [
           {
            "marker": {
             "colorbar": {
              "outlinewidth": 0,
              "ticks": ""
             }
            },
            "type": "scattermap"
           }
          ],
          "scattermapbox": [
           {
            "marker": {
             "colorbar": {
              "outlinewidth": 0,
              "ticks": ""
             }
            },
            "type": "scattermapbox"
           }
          ],
          "scatterpolar": [
           {
            "marker": {
             "colorbar": {
              "outlinewidth": 0,
              "ticks": ""
             }
            },
            "type": "scatterpolar"
           }
          ],
          "scatterpolargl": [
           {
            "marker": {
             "colorbar": {
              "outlinewidth": 0,
              "ticks": ""
             }
            },
            "type": "scatterpolargl"
           }
          ],
          "scatterternary": [
           {
            "marker": {
             "colorbar": {
              "outlinewidth": 0,
              "ticks": ""
             }
            },
            "type": "scatterternary"
           }
          ],
          "surface": [
           {
            "colorbar": {
             "outlinewidth": 0,
             "ticks": ""
            },
            "colorscale": [
             [
              0,
              "#0d0887"
             ],
             [
              0.1111111111111111,
              "#46039f"
             ],
             [
              0.2222222222222222,
              "#7201a8"
             ],
             [
              0.3333333333333333,
              "#9c179e"
             ],
             [
              0.4444444444444444,
              "#bd3786"
             ],
             [
              0.5555555555555556,
              "#d8576b"
             ],
             [
              0.6666666666666666,
              "#ed7953"
             ],
             [
              0.7777777777777778,
              "#fb9f3a"
             ],
             [
              0.8888888888888888,
              "#fdca26"
             ],
             [
              1,
              "#f0f921"
             ]
            ],
            "type": "surface"
           }
          ],
          "table": [
           {
            "cells": {
             "fill": {
              "color": "#EBF0F8"
             },
             "line": {
              "color": "white"
             }
            },
            "header": {
             "fill": {
              "color": "#C8D4E3"
             },
             "line": {
              "color": "white"
             }
            },
            "type": "table"
           }
          ]
         },
         "layout": {
          "annotationdefaults": {
           "arrowcolor": "#2a3f5f",
           "arrowhead": 0,
           "arrowwidth": 1
          },
          "autotypenumbers": "strict",
          "coloraxis": {
           "colorbar": {
            "outlinewidth": 0,
            "ticks": ""
           }
          },
          "colorscale": {
           "diverging": [
            [
             0,
             "#8e0152"
            ],
            [
             0.1,
             "#c51b7d"
            ],
            [
             0.2,
             "#de77ae"
            ],
            [
             0.3,
             "#f1b6da"
            ],
            [
             0.4,
             "#fde0ef"
            ],
            [
             0.5,
             "#f7f7f7"
            ],
            [
             0.6,
             "#e6f5d0"
            ],
            [
             0.7,
             "#b8e186"
            ],
            [
             0.8,
             "#7fbc41"
            ],
            [
             0.9,
             "#4d9221"
            ],
            [
             1,
             "#276419"
            ]
           ],
           "sequential": [
            [
             0,
             "#0d0887"
            ],
            [
             0.1111111111111111,
             "#46039f"
            ],
            [
             0.2222222222222222,
             "#7201a8"
            ],
            [
             0.3333333333333333,
             "#9c179e"
            ],
            [
             0.4444444444444444,
             "#bd3786"
            ],
            [
             0.5555555555555556,
             "#d8576b"
            ],
            [
             0.6666666666666666,
             "#ed7953"
            ],
            [
             0.7777777777777778,
             "#fb9f3a"
            ],
            [
             0.8888888888888888,
             "#fdca26"
            ],
            [
             1,
             "#f0f921"
            ]
           ],
           "sequentialminus": [
            [
             0,
             "#0d0887"
            ],
            [
             0.1111111111111111,
             "#46039f"
            ],
            [
             0.2222222222222222,
             "#7201a8"
            ],
            [
             0.3333333333333333,
             "#9c179e"
            ],
            [
             0.4444444444444444,
             "#bd3786"
            ],
            [
             0.5555555555555556,
             "#d8576b"
            ],
            [
             0.6666666666666666,
             "#ed7953"
            ],
            [
             0.7777777777777778,
             "#fb9f3a"
            ],
            [
             0.8888888888888888,
             "#fdca26"
            ],
            [
             1,
             "#f0f921"
            ]
           ]
          },
          "colorway": [
           "#636efa",
           "#EF553B",
           "#00cc96",
           "#ab63fa",
           "#FFA15A",
           "#19d3f3",
           "#FF6692",
           "#B6E880",
           "#FF97FF",
           "#FECB52"
          ],
          "font": {
           "color": "#2a3f5f"
          },
          "geo": {
           "bgcolor": "white",
           "lakecolor": "white",
           "landcolor": "#E5ECF6",
           "showlakes": true,
           "showland": true,
           "subunitcolor": "white"
          },
          "hoverlabel": {
           "align": "left"
          },
          "hovermode": "closest",
          "mapbox": {
           "style": "light"
          },
          "paper_bgcolor": "white",
          "plot_bgcolor": "#E5ECF6",
          "polar": {
           "angularaxis": {
            "gridcolor": "white",
            "linecolor": "white",
            "ticks": ""
           },
           "bgcolor": "#E5ECF6",
           "radialaxis": {
            "gridcolor": "white",
            "linecolor": "white",
            "ticks": ""
           }
          },
          "scene": {
           "xaxis": {
            "backgroundcolor": "#E5ECF6",
            "gridcolor": "white",
            "gridwidth": 2,
            "linecolor": "white",
            "showbackground": true,
            "ticks": "",
            "zerolinecolor": "white"
           },
           "yaxis": {
            "backgroundcolor": "#E5ECF6",
            "gridcolor": "white",
            "gridwidth": 2,
            "linecolor": "white",
            "showbackground": true,
            "ticks": "",
            "zerolinecolor": "white"
           },
           "zaxis": {
            "backgroundcolor": "#E5ECF6",
            "gridcolor": "white",
            "gridwidth": 2,
            "linecolor": "white",
            "showbackground": true,
            "ticks": "",
            "zerolinecolor": "white"
           }
          },
          "shapedefaults": {
           "line": {
            "color": "#2a3f5f"
           }
          },
          "ternary": {
           "aaxis": {
            "gridcolor": "white",
            "linecolor": "white",
            "ticks": ""
           },
           "baxis": {
            "gridcolor": "white",
            "linecolor": "white",
            "ticks": ""
           },
           "bgcolor": "#E5ECF6",
           "caxis": {
            "gridcolor": "white",
            "linecolor": "white",
            "ticks": ""
           }
          },
          "title": {
           "x": 0.05
          },
          "xaxis": {
           "automargin": true,
           "gridcolor": "white",
           "linecolor": "white",
           "ticks": "",
           "title": {
            "standoff": 15
           },
           "zerolinecolor": "white",
           "zerolinewidth": 2
          },
          "yaxis": {
           "automargin": true,
           "gridcolor": "white",
           "linecolor": "white",
           "ticks": "",
           "title": {
            "standoff": 15
           },
           "zerolinecolor": "white",
           "zerolinewidth": 2
          }
         }
        },
        "title": {
         "font": {
          "size": 24
         },
         "text": "Lesion Feature Distribution"
        },
        "width": 600
       }
      }
     },
     "metadata": {},
     "output_type": "display_data"
    }
   ],
   "source": [
    "### lesion effect (B pre vs C post)\n",
    "lesion_effect_df = treatment_on_lesion_df[treatment_on_lesion_df['Significance'] != 'n.s.']\n",
    "print(f\"Number of significant features that describe the lesion (B pre vs C post): {lesion_effect_df.shape[0]}\")\n",
    "improving_lesion_features = lesion_effect_df[lesion_effect_df['direction'] == 'towards_healthy']\n",
    "avg_improving_effect_size = improving_lesion_features['change_effect_size'].mean()\n",
    "print(f\"Number of improving lesion features after treatment: {improving_lesion_features.shape[0]}. Mean effect size: {avg_improving_effect_size:.2f}\")\n",
    "worsening_lesion_features = lesion_effect_df[lesion_effect_df['direction'] == 'away_from_healthy']\n",
    "avg_worsening_effect_size = worsening_lesion_features['change_effect_size'].mean()\n",
    "print(f\"Number of worsening lesion features after treatment: {worsening_lesion_features.shape[0]}. Mean effect size: {avg_worsening_effect_size:.2f}\")\n",
    "\n",
    "labels = (\"Improving Lesion Features\", \"Worsening Lesion Features\", \"Non-Lesion Features\")\n",
    "sizes = (\n",
    "    improving_lesion_features.shape[0],\n",
    "    worsening_lesion_features.shape[0],\n",
    "    treatment_on_lesion_df.shape[0]\n",
    ")\n",
    "lesion_fig = go.Figure(\n",
    "    data=[go.Pie(\n",
    "        labels=labels, \n",
    "        values=sizes, \n",
    "        pull=[0, 0, 0.2],\n",
    "        marker=dict(colors=['green', 'red', 'grey'], line=dict(color='black', width=1))\n",
    "        )]\n",
    ")\n",
    "lesion_fig.update_layout(\n",
    "    title_text=\"Lesion Feature Distribution\",\n",
    "    title_font_size=24,\n",
    "    legend_title_text=\"Feature Types\",\n",
    "    legend_title_font_size=18,\n",
    "    height=400,\n",
    "    width=600,\n",
    ")\n",
    "\n",
    "lesion_fig.write_image(os.path.join('./', 'lesion_feature_distribution.svg'))\n",
    "lesion_fig.show()"
   ]
  },
  {
   "cell_type": "code",
   "execution_count": null,
   "id": "fa3f2d0c",
   "metadata": {},
   "outputs": [
    {
     "name": "stdout",
     "output_type": "stream",
     "text": [
      "Number of features affected by the treatment (C pre vs E post): 335\n",
      "Number of non-pathological features affected by the treatment: 260\n",
      "Number of improving treatment features: 56. Average effect size: 0.20\n",
      "Number of worsening treatment features: 204. Average effect size: -0.43\n"
     ]
    },
    {
     "data": {
      "application/vnd.plotly.v1+json": {
       "config": {
        "plotlyServerURL": "https://plot.ly"
       },
       "data": [
        {
         "labels": [
          "Improving Treatment Features",
          "Worsening Treatment Features",
          "Non-Lesion Features"
         ],
         "marker": {
          "colors": [
           "green",
           "red",
           "grey"
          ],
          "line": {
           "color": "black",
           "width": 1
          }
         },
         "pull": [
          0,
          0,
          0.2
         ],
         "type": "pie",
         "values": [
          56,
          204,
          2680
         ]
        }
       ],
       "layout": {
        "height": 400,
        "legend": {
         "title": {
          "font": {
           "size": 18
          },
          "text": "Feature Types"
         }
        },
        "template": {
         "data": {
          "bar": [
           {
            "error_x": {
             "color": "#2a3f5f"
            },
            "error_y": {
             "color": "#2a3f5f"
            },
            "marker": {
             "line": {
              "color": "#E5ECF6",
              "width": 0.5
             },
             "pattern": {
              "fillmode": "overlay",
              "size": 10,
              "solidity": 0.2
             }
            },
            "type": "bar"
           }
          ],
          "barpolar": [
           {
            "marker": {
             "line": {
              "color": "#E5ECF6",
              "width": 0.5
             },
             "pattern": {
              "fillmode": "overlay",
              "size": 10,
              "solidity": 0.2
             }
            },
            "type": "barpolar"
           }
          ],
          "carpet": [
           {
            "aaxis": {
             "endlinecolor": "#2a3f5f",
             "gridcolor": "white",
             "linecolor": "white",
             "minorgridcolor": "white",
             "startlinecolor": "#2a3f5f"
            },
            "baxis": {
             "endlinecolor": "#2a3f5f",
             "gridcolor": "white",
             "linecolor": "white",
             "minorgridcolor": "white",
             "startlinecolor": "#2a3f5f"
            },
            "type": "carpet"
           }
          ],
          "choropleth": [
           {
            "colorbar": {
             "outlinewidth": 0,
             "ticks": ""
            },
            "type": "choropleth"
           }
          ],
          "contour": [
           {
            "colorbar": {
             "outlinewidth": 0,
             "ticks": ""
            },
            "colorscale": [
             [
              0,
              "#0d0887"
             ],
             [
              0.1111111111111111,
              "#46039f"
             ],
             [
              0.2222222222222222,
              "#7201a8"
             ],
             [
              0.3333333333333333,
              "#9c179e"
             ],
             [
              0.4444444444444444,
              "#bd3786"
             ],
             [
              0.5555555555555556,
              "#d8576b"
             ],
             [
              0.6666666666666666,
              "#ed7953"
             ],
             [
              0.7777777777777778,
              "#fb9f3a"
             ],
             [
              0.8888888888888888,
              "#fdca26"
             ],
             [
              1,
              "#f0f921"
             ]
            ],
            "type": "contour"
           }
          ],
          "contourcarpet": [
           {
            "colorbar": {
             "outlinewidth": 0,
             "ticks": ""
            },
            "type": "contourcarpet"
           }
          ],
          "heatmap": [
           {
            "colorbar": {
             "outlinewidth": 0,
             "ticks": ""
            },
            "colorscale": [
             [
              0,
              "#0d0887"
             ],
             [
              0.1111111111111111,
              "#46039f"
             ],
             [
              0.2222222222222222,
              "#7201a8"
             ],
             [
              0.3333333333333333,
              "#9c179e"
             ],
             [
              0.4444444444444444,
              "#bd3786"
             ],
             [
              0.5555555555555556,
              "#d8576b"
             ],
             [
              0.6666666666666666,
              "#ed7953"
             ],
             [
              0.7777777777777778,
              "#fb9f3a"
             ],
             [
              0.8888888888888888,
              "#fdca26"
             ],
             [
              1,
              "#f0f921"
             ]
            ],
            "type": "heatmap"
           }
          ],
          "histogram": [
           {
            "marker": {
             "pattern": {
              "fillmode": "overlay",
              "size": 10,
              "solidity": 0.2
             }
            },
            "type": "histogram"
           }
          ],
          "histogram2d": [
           {
            "colorbar": {
             "outlinewidth": 0,
             "ticks": ""
            },
            "colorscale": [
             [
              0,
              "#0d0887"
             ],
             [
              0.1111111111111111,
              "#46039f"
             ],
             [
              0.2222222222222222,
              "#7201a8"
             ],
             [
              0.3333333333333333,
              "#9c179e"
             ],
             [
              0.4444444444444444,
              "#bd3786"
             ],
             [
              0.5555555555555556,
              "#d8576b"
             ],
             [
              0.6666666666666666,
              "#ed7953"
             ],
             [
              0.7777777777777778,
              "#fb9f3a"
             ],
             [
              0.8888888888888888,
              "#fdca26"
             ],
             [
              1,
              "#f0f921"
             ]
            ],
            "type": "histogram2d"
           }
          ],
          "histogram2dcontour": [
           {
            "colorbar": {
             "outlinewidth": 0,
             "ticks": ""
            },
            "colorscale": [
             [
              0,
              "#0d0887"
             ],
             [
              0.1111111111111111,
              "#46039f"
             ],
             [
              0.2222222222222222,
              "#7201a8"
             ],
             [
              0.3333333333333333,
              "#9c179e"
             ],
             [
              0.4444444444444444,
              "#bd3786"
             ],
             [
              0.5555555555555556,
              "#d8576b"
             ],
             [
              0.6666666666666666,
              "#ed7953"
             ],
             [
              0.7777777777777778,
              "#fb9f3a"
             ],
             [
              0.8888888888888888,
              "#fdca26"
             ],
             [
              1,
              "#f0f921"
             ]
            ],
            "type": "histogram2dcontour"
           }
          ],
          "mesh3d": [
           {
            "colorbar": {
             "outlinewidth": 0,
             "ticks": ""
            },
            "type": "mesh3d"
           }
          ],
          "parcoords": [
           {
            "line": {
             "colorbar": {
              "outlinewidth": 0,
              "ticks": ""
             }
            },
            "type": "parcoords"
           }
          ],
          "pie": [
           {
            "automargin": true,
            "type": "pie"
           }
          ],
          "scatter": [
           {
            "fillpattern": {
             "fillmode": "overlay",
             "size": 10,
             "solidity": 0.2
            },
            "type": "scatter"
           }
          ],
          "scatter3d": [
           {
            "line": {
             "colorbar": {
              "outlinewidth": 0,
              "ticks": ""
             }
            },
            "marker": {
             "colorbar": {
              "outlinewidth": 0,
              "ticks": ""
             }
            },
            "type": "scatter3d"
           }
          ],
          "scattercarpet": [
           {
            "marker": {
             "colorbar": {
              "outlinewidth": 0,
              "ticks": ""
             }
            },
            "type": "scattercarpet"
           }
          ],
          "scattergeo": [
           {
            "marker": {
             "colorbar": {
              "outlinewidth": 0,
              "ticks": ""
             }
            },
            "type": "scattergeo"
           }
          ],
          "scattergl": [
           {
            "marker": {
             "colorbar": {
              "outlinewidth": 0,
              "ticks": ""
             }
            },
            "type": "scattergl"
           }
          ],
          "scattermap": [
           {
            "marker": {
             "colorbar": {
              "outlinewidth": 0,
              "ticks": ""
             }
            },
            "type": "scattermap"
           }
          ],
          "scattermapbox": [
           {
            "marker": {
             "colorbar": {
              "outlinewidth": 0,
              "ticks": ""
             }
            },
            "type": "scattermapbox"
           }
          ],
          "scatterpolar": [
           {
            "marker": {
             "colorbar": {
              "outlinewidth": 0,
              "ticks": ""
             }
            },
            "type": "scatterpolar"
           }
          ],
          "scatterpolargl": [
           {
            "marker": {
             "colorbar": {
              "outlinewidth": 0,
              "ticks": ""
             }
            },
            "type": "scatterpolargl"
           }
          ],
          "scatterternary": [
           {
            "marker": {
             "colorbar": {
              "outlinewidth": 0,
              "ticks": ""
             }
            },
            "type": "scatterternary"
           }
          ],
          "surface": [
           {
            "colorbar": {
             "outlinewidth": 0,
             "ticks": ""
            },
            "colorscale": [
             [
              0,
              "#0d0887"
             ],
             [
              0.1111111111111111,
              "#46039f"
             ],
             [
              0.2222222222222222,
              "#7201a8"
             ],
             [
              0.3333333333333333,
              "#9c179e"
             ],
             [
              0.4444444444444444,
              "#bd3786"
             ],
             [
              0.5555555555555556,
              "#d8576b"
             ],
             [
              0.6666666666666666,
              "#ed7953"
             ],
             [
              0.7777777777777778,
              "#fb9f3a"
             ],
             [
              0.8888888888888888,
              "#fdca26"
             ],
             [
              1,
              "#f0f921"
             ]
            ],
            "type": "surface"
           }
          ],
          "table": [
           {
            "cells": {
             "fill": {
              "color": "#EBF0F8"
             },
             "line": {
              "color": "white"
             }
            },
            "header": {
             "fill": {
              "color": "#C8D4E3"
             },
             "line": {
              "color": "white"
             }
            },
            "type": "table"
           }
          ]
         },
         "layout": {
          "annotationdefaults": {
           "arrowcolor": "#2a3f5f",
           "arrowhead": 0,
           "arrowwidth": 1
          },
          "autotypenumbers": "strict",
          "coloraxis": {
           "colorbar": {
            "outlinewidth": 0,
            "ticks": ""
           }
          },
          "colorscale": {
           "diverging": [
            [
             0,
             "#8e0152"
            ],
            [
             0.1,
             "#c51b7d"
            ],
            [
             0.2,
             "#de77ae"
            ],
            [
             0.3,
             "#f1b6da"
            ],
            [
             0.4,
             "#fde0ef"
            ],
            [
             0.5,
             "#f7f7f7"
            ],
            [
             0.6,
             "#e6f5d0"
            ],
            [
             0.7,
             "#b8e186"
            ],
            [
             0.8,
             "#7fbc41"
            ],
            [
             0.9,
             "#4d9221"
            ],
            [
             1,
             "#276419"
            ]
           ],
           "sequential": [
            [
             0,
             "#0d0887"
            ],
            [
             0.1111111111111111,
             "#46039f"
            ],
            [
             0.2222222222222222,
             "#7201a8"
            ],
            [
             0.3333333333333333,
             "#9c179e"
            ],
            [
             0.4444444444444444,
             "#bd3786"
            ],
            [
             0.5555555555555556,
             "#d8576b"
            ],
            [
             0.6666666666666666,
             "#ed7953"
            ],
            [
             0.7777777777777778,
             "#fb9f3a"
            ],
            [
             0.8888888888888888,
             "#fdca26"
            ],
            [
             1,
             "#f0f921"
            ]
           ],
           "sequentialminus": [
            [
             0,
             "#0d0887"
            ],
            [
             0.1111111111111111,
             "#46039f"
            ],
            [
             0.2222222222222222,
             "#7201a8"
            ],
            [
             0.3333333333333333,
             "#9c179e"
            ],
            [
             0.4444444444444444,
             "#bd3786"
            ],
            [
             0.5555555555555556,
             "#d8576b"
            ],
            [
             0.6666666666666666,
             "#ed7953"
            ],
            [
             0.7777777777777778,
             "#fb9f3a"
            ],
            [
             0.8888888888888888,
             "#fdca26"
            ],
            [
             1,
             "#f0f921"
            ]
           ]
          },
          "colorway": [
           "#636efa",
           "#EF553B",
           "#00cc96",
           "#ab63fa",
           "#FFA15A",
           "#19d3f3",
           "#FF6692",
           "#B6E880",
           "#FF97FF",
           "#FECB52"
          ],
          "font": {
           "color": "#2a3f5f"
          },
          "geo": {
           "bgcolor": "white",
           "lakecolor": "white",
           "landcolor": "#E5ECF6",
           "showlakes": true,
           "showland": true,
           "subunitcolor": "white"
          },
          "hoverlabel": {
           "align": "left"
          },
          "hovermode": "closest",
          "mapbox": {
           "style": "light"
          },
          "paper_bgcolor": "white",
          "plot_bgcolor": "#E5ECF6",
          "polar": {
           "angularaxis": {
            "gridcolor": "white",
            "linecolor": "white",
            "ticks": ""
           },
           "bgcolor": "#E5ECF6",
           "radialaxis": {
            "gridcolor": "white",
            "linecolor": "white",
            "ticks": ""
           }
          },
          "scene": {
           "xaxis": {
            "backgroundcolor": "#E5ECF6",
            "gridcolor": "white",
            "gridwidth": 2,
            "linecolor": "white",
            "showbackground": true,
            "ticks": "",
            "zerolinecolor": "white"
           },
           "yaxis": {
            "backgroundcolor": "#E5ECF6",
            "gridcolor": "white",
            "gridwidth": 2,
            "linecolor": "white",
            "showbackground": true,
            "ticks": "",
            "zerolinecolor": "white"
           },
           "zaxis": {
            "backgroundcolor": "#E5ECF6",
            "gridcolor": "white",
            "gridwidth": 2,
            "linecolor": "white",
            "showbackground": true,
            "ticks": "",
            "zerolinecolor": "white"
           }
          },
          "shapedefaults": {
           "line": {
            "color": "#2a3f5f"
           }
          },
          "ternary": {
           "aaxis": {
            "gridcolor": "white",
            "linecolor": "white",
            "ticks": ""
           },
           "baxis": {
            "gridcolor": "white",
            "linecolor": "white",
            "ticks": ""
           },
           "bgcolor": "#E5ECF6",
           "caxis": {
            "gridcolor": "white",
            "linecolor": "white",
            "ticks": ""
           }
          },
          "title": {
           "x": 0.05
          },
          "xaxis": {
           "automargin": true,
           "gridcolor": "white",
           "linecolor": "white",
           "ticks": "",
           "title": {
            "standoff": 15
           },
           "zerolinecolor": "white",
           "zerolinewidth": 2
          },
          "yaxis": {
           "automargin": true,
           "gridcolor": "white",
           "linecolor": "white",
           "ticks": "",
           "title": {
            "standoff": 15
           },
           "zerolinecolor": "white",
           "zerolinewidth": 2
          }
         }
        },
        "title": {
         "font": {
          "size": 24
         },
         "text": "Treatment Feature Distribution"
        },
        "width": 600
       }
      }
     },
     "metadata": {},
     "output_type": "display_data"
    }
   ],
   "source": [
    "### Treatment effect that's not pathological (C pre vs E post)\n",
    "treatment_non_pathological_df = treatment_on_healthy_df[treatment_on_healthy_df['Significance'] != 'n.s.']\n",
    "print(f\"Number of features affected by the treatment (C pre vs E post): {treatment_non_pathological_df.shape[0]}\")\n",
    "\n",
    "lesion_treatment_intersection = treatment_non_pathological_df[treatment_non_pathological_df['Feature'].isin(lesion_effect_df['Feature'])]\n",
    "\n",
    "treatment_non_pathological_df = treatment_non_pathological_df[~treatment_non_pathological_df['Feature'].isin(lesion_treatment_intersection['Feature'])]\n",
    "print(f\"Number of non-pathological features affected by the treatment: {treatment_non_pathological_df.shape[0]}\")\n",
    "improving_treatment_features = treatment_non_pathological_df[treatment_non_pathological_df['direction'] == 'towards_healthy']\n",
    "avg_improving_effect_size = improving_treatment_features['change_effect_size'].mean()\n",
    "print(f\"Number of improving treatment features: {improving_treatment_features.shape[0]}. Average effect size: {avg_improving_effect_size:.2f}\")\n",
    "worsening_treatment_features = treatment_non_pathological_df[treatment_non_pathological_df['direction'] == 'away_from_healthy']\n",
    "avg_worsening_effect_size = worsening_treatment_features['change_effect_size'].mean()\n",
    "print(f\"Number of worsening treatment features: {worsening_treatment_features.shape[0]}. Average effect size: {avg_worsening_effect_size:.2f}\")\n",
    "\n",
    "labels = (\"Improving Treatment Features\", \"Worsening Treatment Features\", \"Non-Lesion Features\")\n",
    "sizes = (\n",
    "    improving_treatment_features.shape[0],\n",
    "    worsening_treatment_features.shape[0],\n",
    "    treatment_on_healthy_df.shape[0]\n",
    ")\n",
    "treatment_fig = go.Figure(\n",
    "    data=[go.Pie(\n",
    "        labels=labels, \n",
    "        values=sizes, \n",
    "        pull=[0, 0, 0.2],\n",
    "        marker=dict(colors=['green', 'red', 'grey'], line=dict(color='black', width=1))\n",
    "        )]\n",
    ")\n",
    "treatment_fig.update_layout(\n",
    "    title_text=\"Treatment Feature Distribution\",\n",
    "    title_font_size=24,\n",
    "    legend_title_text=\"Feature Types\",\n",
    "    legend_title_font_size=18,\n",
    "    height=400,\n",
    "    width=600,\n",
    ")\n",
    "\n",
    "treatment_fig.write_image(os.path.join('./', 'treatment_feature_distribution.svg'))\n",
    "treatment_fig.show()"
   ]
  },
  {
   "cell_type": "code",
   "execution_count": null,
   "id": "95145fcb",
   "metadata": {},
   "outputs": [
    {
     "name": "stdout",
     "output_type": "stream",
     "text": [
      "Number of significant features that describe the lesion (B pre vs C post): 93\n",
      "Number of significant lesion features that improve: 47. Average effect size: 0.40\n",
      "Number of significant lesion features that worsen: 46. Average effect size: -0.31\n",
      "----------------------------------------\n",
      "Number of significant features that describe the treatment effect (C post vs E post): 45\n",
      "Number of significant treatment features that improve: 23. Average effect size: 0.52\n",
      "Number of significant treatment features that worsen: 22. Average effect size: -0.60\n",
      "----------------------------------------\n",
      "----------------------------------------\n",
      "Number of intersecting features between the two comparisons: 7\n",
      "Number of intersecting features that improve: 4\n",
      "Number of intersecting features that worsen: 3\n"
     ]
    },
    {
     "data": {
      "image/png": "[encoded data removed]",
      "text/plain": [
       "<Figure size 640x480 with 1 Axes>"
      ]
     },
     "metadata": {},
     "output_type": "display_data"
    },
    {
     "data": {
      "application/vnd.plotly.v1+json": {
       "config": {
        "plotlyServerURL": "https://plot.ly"
       },
       "data": [
        {
         "labels": [
          "Improving Lesion Features",
          "Worsening Lesion Features",
          "Non-Lesion Features"
         ],
         "marker": {
          "colors": [
           "green",
           "red",
           "grey"
          ],
          "line": {
           "color": "black",
           "width": 1
          }
         },
         "pull": [
          0,
          0,
          0.2
         ],
         "type": "pie",
         "values": [
          47,
          46,
          2587
         ]
        }
       ],
       "layout": {
        "height": 400,
        "legend": {
         "title": {
          "font": {
           "size": 18
          },
          "text": "Feature Types"
         }
        },
        "template": {
         "data": {
          "bar": [
           {
            "error_x": {
             "color": "#2a3f5f"
            },
            "error_y": {
             "color": "#2a3f5f"
            },
            "marker": {
             "line": {
              "color": "#E5ECF6",
              "width": 0.5
             },
             "pattern": {
              "fillmode": "overlay",
              "size": 10,
              "solidity": 0.2
             }
            },
            "type": "bar"
           }
          ],
          "barpolar": [
           {
            "marker": {
             "line": {
              "color": "#E5ECF6",
              "width": 0.5
             },
             "pattern": {
              "fillmode": "overlay",
              "size": 10,
              "solidity": 0.2
             }
            },
            "type": "barpolar"
           }
          ],
          "carpet": [
           {
            "aaxis": {
             "endlinecolor": "#2a3f5f",
             "gridcolor": "white",
             "linecolor": "white",
             "minorgridcolor": "white",
             "startlinecolor": "#2a3f5f"
            },
            "baxis": {
             "endlinecolor": "#2a3f5f",
             "gridcolor": "white",
             "linecolor": "white",
             "minorgridcolor": "white",
             "startlinecolor": "#2a3f5f"
            },
            "type": "carpet"
           }
          ],
          "choropleth": [
           {
            "colorbar": {
             "outlinewidth": 0,
             "ticks": ""
            },
            "type": "choropleth"
           }
          ],
          "contour": [
           {
            "colorbar": {
             "outlinewidth": 0,
             "ticks": ""
            },
            "colorscale": [
             [
              0,
              "#0d0887"
             ],
             [
              0.1111111111111111,
              "#46039f"
             ],
             [
              0.2222222222222222,
              "#7201a8"
             ],
             [
              0.3333333333333333,
              "#9c179e"
             ],
             [
              0.4444444444444444,
              "#bd3786"
             ],
             [
              0.5555555555555556,
              "#d8576b"
             ],
             [
              0.6666666666666666,
              "#ed7953"
             ],
             [
              0.7777777777777778,
              "#fb9f3a"
             ],
             [
              0.8888888888888888,
              "#fdca26"
             ],
             [
              1,
              "#f0f921"
             ]
            ],
            "type": "contour"
           }
          ],
          "contourcarpet": [
           {
            "colorbar": {
             "outlinewidth": 0,
             "ticks": ""
            },
            "type": "contourcarpet"
           }
          ],
          "heatmap": [
           {
            "colorbar": {
             "outlinewidth": 0,
             "ticks": ""
            },
            "colorscale": [
             [
              0,
              "#0d0887"
             ],
             [
              0.1111111111111111,
              "#46039f"
             ],
             [
              0.2222222222222222,
              "#7201a8"
             ],
             [
              0.3333333333333333,
              "#9c179e"
             ],
             [
              0.4444444444444444,
              "#bd3786"
             ],
             [
              0.5555555555555556,
              "#d8576b"
             ],
             [
              0.6666666666666666,
              "#ed7953"
             ],
             [
              0.7777777777777778,
              "#fb9f3a"
             ],
             [
              0.8888888888888888,
              "#fdca26"
             ],
             [
              1,
              "#f0f921"
             ]
            ],
            "type": "heatmap"
           }
          ],
          "histogram": [
           {
            "marker": {
             "pattern": {
              "fillmode": "overlay",
              "size": 10,
              "solidity": 0.2
             }
            },
            "type": "histogram"
           }
          ],
          "histogram2d": [
           {
            "colorbar": {
             "outlinewidth": 0,
             "ticks": ""
            },
            "colorscale": [
             [
              0,
              "#0d0887"
             ],
             [
              0.1111111111111111,
              "#46039f"
             ],
             [
              0.2222222222222222,
              "#7201a8"
             ],
             [
              0.3333333333333333,
              "#9c179e"
             ],
             [
              0.4444444444444444,
              "#bd3786"
             ],
             [
              0.5555555555555556,
              "#d8576b"
             ],
             [
              0.6666666666666666,
              "#ed7953"
             ],
             [
              0.7777777777777778,
              "#fb9f3a"
             ],
             [
              0.8888888888888888,
              "#fdca26"
             ],
             [
              1,
              "#f0f921"
             ]
            ],
            "type": "histogram2d"
           }
          ],
          "histogram2dcontour": [
           {
            "colorbar": {
             "outlinewidth": 0,
             "ticks": ""
            },
            "colorscale": [
             [
              0,
              "#0d0887"
             ],
             [
              0.1111111111111111,
              "#46039f"
             ],
             [
              0.2222222222222222,
              "#7201a8"
             ],
             [
              0.3333333333333333,
              "#9c179e"
             ],
             [
              0.4444444444444444,
              "#bd3786"
             ],
             [
              0.5555555555555556,
              "#d8576b"
             ],
             [
              0.6666666666666666,
              "#ed7953"
             ],
             [
              0.7777777777777778,
              "#fb9f3a"
             ],
             [
              0.8888888888888888,
              "#fdca26"
             ],
             [
              1,
              "#f0f921"
             ]
            ],
            "type": "histogram2dcontour"
           }
          ],
          "mesh3d": [
           {
            "colorbar": {
             "outlinewidth": 0,
             "ticks": ""
            },
            "type": "mesh3d"
           }
          ],
          "parcoords": [
           {
            "line": {
             "colorbar": {
              "outlinewidth": 0,
              "ticks": ""
             }
            },
            "type": "parcoords"
           }
          ],
          "pie": [
           {
            "automargin": true,
            "type": "pie"
           }
          ],
          "scatter": [
           {
            "fillpattern": {
             "fillmode": "overlay",
             "size": 10,
             "solidity": 0.2
            },
            "type": "scatter"
           }
          ],
          "scatter3d": [
           {
            "line": {
             "colorbar": {
              "outlinewidth": 0,
              "ticks": ""
             }
            },
            "marker": {
             "colorbar": {
              "outlinewidth": 0,
              "ticks": ""
             }
            },
            "type": "scatter3d"
           }
          ],
          "scattercarpet": [
           {
            "marker": {
             "colorbar": {
              "outlinewidth": 0,
              "ticks": ""
             }
            },
            "type": "scattercarpet"
           }
          ],
          "scattergeo": [
           {
            "marker": {
             "colorbar": {
              "outlinewidth": 0,
              "ticks": ""
             }
            },
            "type": "scattergeo"
           }
          ],
          "scattergl": [
           {
            "marker": {
             "colorbar": {
              "outlinewidth": 0,
              "ticks": ""
             }
            },
            "type": "scattergl"
           }
          ],
          "scattermap": [
           {
            "marker": {
             "colorbar": {
              "outlinewidth": 0,
              "ticks": ""
             }
            },
            "type": "scattermap"
           }
          ],
          "scattermapbox": [
           {
            "marker": {
             "colorbar": {
              "outlinewidth": 0,
              "ticks": ""
             }
            },
            "type": "scattermapbox"
           }
          ],
          "scatterpolar": [
           {
            "marker": {
             "colorbar": {
              "outlinewidth": 0,
              "ticks": ""
             }
            },
            "type": "scatterpolar"
           }
          ],
          "scatterpolargl": [
           {
            "marker": {
             "colorbar": {
              "outlinewidth": 0,
              "ticks": ""
             }
            },
            "type": "scatterpolargl"
           }
          ],
          "scatterternary": [
           {
            "marker": {
             "colorbar": {
              "outlinewidth": 0,
              "ticks": ""
             }
            },
            "type": "scatterternary"
           }
          ],
          "surface": [
           {
            "colorbar": {
             "outlinewidth": 0,
             "ticks": ""
            },
            "colorscale": [
             [
              0,
              "#0d0887"
             ],
             [
              0.1111111111111111,
              "#46039f"
             ],
             [
              0.2222222222222222,
              "#7201a8"
             ],
             [
              0.3333333333333333,
              "#9c179e"
             ],
             [
              0.4444444444444444,
              "#bd3786"
             ],
             [
              0.5555555555555556,
              "#d8576b"
             ],
             [
              0.6666666666666666,
              "#ed7953"
             ],
             [
              0.7777777777777778,
              "#fb9f3a"
             ],
             [
              0.8888888888888888,
              "#fdca26"
             ],
             [
              1,
              "#f0f921"
             ]
            ],
            "type": "surface"
           }
          ],
          "table": [
           {
            "cells": {
             "fill": {
              "color": "#EBF0F8"
             },
             "line": {
              "color": "white"
             }
            },
            "header": {
             "fill": {
              "color": "#C8D4E3"
             },
             "line": {
              "color": "white"
             }
            },
            "type": "table"
           }
          ]
         },
         "layout": {
          "annotationdefaults": {
           "arrowcolor": "#2a3f5f",
           "arrowhead": 0,
           "arrowwidth": 1
          },
          "autotypenumbers": "strict",
          "coloraxis": {
           "colorbar": {
            "outlinewidth": 0,
            "ticks": ""
           }
          },
          "colorscale": {
           "diverging": [
            [
             0,
             "#8e0152"
            ],
            [
             0.1,
             "#c51b7d"
            ],
            [
             0.2,
             "#de77ae"
            ],
            [
             0.3,
             "#f1b6da"
            ],
            [
             0.4,
             "#fde0ef"
            ],
            [
             0.5,
             "#f7f7f7"
            ],
            [
             0.6,
             "#e6f5d0"
            ],
            [
             0.7,
             "#b8e186"
            ],
            [
             0.8,
             "#7fbc41"
            ],
            [
             0.9,
             "#4d9221"
            ],
            [
             1,
             "#276419"
            ]
           ],
           "sequential": [
            [
             0,
             "#0d0887"
            ],
            [
             0.1111111111111111,
             "#46039f"
            ],
            [
             0.2222222222222222,
             "#7201a8"
            ],
            [
             0.3333333333333333,
             "#9c179e"
            ],
            [
             0.4444444444444444,
             "#bd3786"
            ],
            [
             0.5555555555555556,
             "#d8576b"
            ],
            [
             0.6666666666666666,
             "#ed7953"
            ],
            [
             0.7777777777777778,
             "#fb9f3a"
            ],
            [
             0.8888888888888888,
             "#fdca26"
            ],
            [
             1,
             "#f0f921"
            ]
           ],
           "sequentialminus": [
            [
             0,
             "#0d0887"
            ],
            [
             0.1111111111111111,
             "#46039f"
            ],
            [
             0.2222222222222222,
             "#7201a8"
            ],
            [
             0.3333333333333333,
             "#9c179e"
            ],
            [
             0.4444444444444444,
             "#bd3786"
            ],
            [
             0.5555555555555556,
             "#d8576b"
            ],
            [
             0.6666666666666666,
             "#ed7953"
            ],
            [
             0.7777777777777778,
             "#fb9f3a"
            ],
            [
             0.8888888888888888,
             "#fdca26"
            ],
            [
             1,
             "#f0f921"
            ]
           ]
          },
          "colorway": [
           "#636efa",
           "#EF553B",
           "#00cc96",
           "#ab63fa",
           "#FFA15A",
           "#19d3f3",
           "#FF6692",
           "#B6E880",
           "#FF97FF",
           "#FECB52"
          ],
          "font": {
           "color": "#2a3f5f"
          },
          "geo": {
           "bgcolor": "white",
           "lakecolor": "white",
           "landcolor": "#E5ECF6",
           "showlakes": true,
           "showland": true,
           "subunitcolor": "white"
          },
          "hoverlabel": {
           "align": "left"
          },
          "hovermode": "closest",
          "mapbox": {
           "style": "light"
          },
          "paper_bgcolor": "white",
          "plot_bgcolor": "#E5ECF6",
          "polar": {
           "angularaxis": {
            "gridcolor": "white",
            "linecolor": "white",
            "ticks": ""
           },
           "bgcolor": "#E5ECF6",
           "radialaxis": {
            "gridcolor": "white",
            "linecolor": "white",
            "ticks": ""
           }
          },
          "scene": {
           "xaxis": {
            "backgroundcolor": "#E5ECF6",
            "gridcolor": "white",
            "gridwidth": 2,
            "linecolor": "white",
            "showbackground": true,
            "ticks": "",
            "zerolinecolor": "white"
           },
           "yaxis": {
            "backgroundcolor": "#E5ECF6",
            "gridcolor": "white",
            "gridwidth": 2,
            "linecolor": "white",
            "showbackground": true,
            "ticks": "",
            "zerolinecolor": "white"
           },
           "zaxis": {
            "backgroundcolor": "#E5ECF6",
            "gridcolor": "white",
            "gridwidth": 2,
            "linecolor": "white",
            "showbackground": true,
            "ticks": "",
            "zerolinecolor": "white"
           }
          },
          "shapedefaults": {
           "line": {
            "color": "#2a3f5f"
           }
          },
          "ternary": {
           "aaxis": {
            "gridcolor": "white",
            "linecolor": "white",
            "ticks": ""
           },
           "baxis": {
            "gridcolor": "white",
            "linecolor": "white",
            "ticks": ""
           },
           "bgcolor": "#E5ECF6",
           "caxis": {
            "gridcolor": "white",
            "linecolor": "white",
            "ticks": ""
           }
          },
          "title": {
           "x": 0.05
          },
          "xaxis": {
           "automargin": true,
           "gridcolor": "white",
           "linecolor": "white",
           "ticks": "",
           "title": {
            "standoff": 15
           },
           "zerolinecolor": "white",
           "zerolinewidth": 2
          },
          "yaxis": {
           "automargin": true,
           "gridcolor": "white",
           "linecolor": "white",
           "ticks": "",
           "title": {
            "standoff": 15
           },
           "zerolinecolor": "white",
           "zerolinewidth": 2
          }
         }
        },
        "title": {
         "font": {
          "size": 24
         },
         "text": "Lesion Feature Distribution (ANOVA)"
        },
        "width": 600
       }
      }
     },
     "metadata": {},
     "output_type": "display_data"
    },
    {
     "data": {
      "application/vnd.plotly.v1+json": {
       "config": {
        "plotlyServerURL": "https://plot.ly"
       },
       "data": [
        {
         "labels": [
          "Improving Treatment Features",
          "Worsening Treatment Features",
          "Non-Lesion Features"
         ],
         "marker": {
          "colors": [
           "green",
           "red",
           "grey"
          ],
          "line": {
           "color": "black",
           "width": 1
          }
         },
         "pull": [
          0,
          0,
          0.2
         ],
         "type": "pie",
         "values": [
          23,
          22,
          2587
         ]
        }
       ],
       "layout": {
        "height": 400,
        "legend": {
         "title": {
          "font": {
           "size": 18
          },
          "text": "Feature Types"
         }
        },
        "template": {
         "data": {
          "bar": [
           {
            "error_x": {
             "color": "#2a3f5f"
            },
            "error_y": {
             "color": "#2a3f5f"
            },
            "marker": {
             "line": {
              "color": "#E5ECF6",
              "width": 0.5
             },
             "pattern": {
              "fillmode": "overlay",
              "size": 10,
              "solidity": 0.2
             }
            },
            "type": "bar"
           }
          ],
          "barpolar": [
           {
            "marker": {
             "line": {
              "color": "#E5ECF6",
              "width": 0.5
             },
             "pattern": {
              "fillmode": "overlay",
              "size": 10,
              "solidity": 0.2
             }
            },
            "type": "barpolar"
           }
          ],
          "carpet": [
           {
            "aaxis": {
             "endlinecolor": "#2a3f5f",
             "gridcolor": "white",
             "linecolor": "white",
             "minorgridcolor": "white",
             "startlinecolor": "#2a3f5f"
            },
            "baxis": {
             "endlinecolor": "#2a3f5f",
             "gridcolor": "white",
             "linecolor": "white",
             "minorgridcolor": "white",
             "startlinecolor": "#2a3f5f"
            },
            "type": "carpet"
           }
          ],
          "choropleth": [
           {
            "colorbar": {
             "outlinewidth": 0,
             "ticks": ""
            },
            "type": "choropleth"
           }
          ],
          "contour": [
           {
            "colorbar": {
             "outlinewidth": 0,
             "ticks": ""
            },
            "colorscale": [
             [
              0,
              "#0d0887"
             ],
             [
              0.1111111111111111,
              "#46039f"
             ],
             [
              0.2222222222222222,
              "#7201a8"
             ],
             [
              0.3333333333333333,
              "#9c179e"
             ],
             [
              0.4444444444444444,
              "#bd3786"
             ],
             [
              0.5555555555555556,
              "#d8576b"
             ],
             [
              0.6666666666666666,
              "#ed7953"
             ],
             [
              0.7777777777777778,
              "#fb9f3a"
             ],
             [
              0.8888888888888888,
              "#fdca26"
             ],
             [
              1,
              "#f0f921"
             ]
            ],
            "type": "contour"
           }
          ],
          "contourcarpet": [
           {
            "colorbar": {
             "outlinewidth": 0,
             "ticks": ""
            },
            "type": "contourcarpet"
           }
          ],
          "heatmap": [
           {
            "colorbar": {
             "outlinewidth": 0,
             "ticks": ""
            },
            "colorscale": [
             [
              0,
              "#0d0887"
             ],
             [
              0.1111111111111111,
              "#46039f"
             ],
             [
              0.2222222222222222,
              "#7201a8"
             ],
             [
              0.3333333333333333,
              "#9c179e"
             ],
             [
              0.4444444444444444,
              "#bd3786"
             ],
             [
              0.5555555555555556,
              "#d8576b"
             ],
             [
              0.6666666666666666,
              "#ed7953"
             ],
             [
              0.7777777777777778,
              "#fb9f3a"
             ],
             [
              0.8888888888888888,
              "#fdca26"
             ],
             [
              1,
              "#f0f921"
             ]
            ],
            "type": "heatmap"
           }
          ],
          "histogram": [
           {
            "marker": {
             "pattern": {
              "fillmode": "overlay",
              "size": 10,
              "solidity": 0.2
             }
            },
            "type": "histogram"
           }
          ],
          "histogram2d": [
           {
            "colorbar": {
             "outlinewidth": 0,
             "ticks": ""
            },
            "colorscale": [
             [
              0,
              "#0d0887"
             ],
             [
              0.1111111111111111,
              "#46039f"
             ],
             [
              0.2222222222222222,
              "#7201a8"
             ],
             [
              0.3333333333333333,
              "#9c179e"
             ],
             [
              0.4444444444444444,
              "#bd3786"
             ],
             [
              0.5555555555555556,
              "#d8576b"
             ],
             [
              0.6666666666666666,
              "#ed7953"
             ],
             [
              0.7777777777777778,
              "#fb9f3a"
             ],
             [
              0.8888888888888888,
              "#fdca26"
             ],
             [
              1,
              "#f0f921"
             ]
            ],
            "type": "histogram2d"
           }
          ],
          "histogram2dcontour": [
           {
            "colorbar": {
             "outlinewidth": 0,
             "ticks": ""
            },
            "colorscale": [
             [
              0,
              "#0d0887"
             ],
             [
              0.1111111111111111,
              "#46039f"
             ],
             [
              0.2222222222222222,
              "#7201a8"
             ],
             [
              0.3333333333333333,
              "#9c179e"
             ],
             [
              0.4444444444444444,
              "#bd3786"
             ],
             [
              0.5555555555555556,
              "#d8576b"
             ],
             [
              0.6666666666666666,
              "#ed7953"
             ],
             [
              0.7777777777777778,
              "#fb9f3a"
             ],
             [
              0.8888888888888888,
              "#fdca26"
             ],
             [
              1,
              "#f0f921"
             ]
            ],
            "type": "histogram2dcontour"
           }
          ],
          "mesh3d": [
           {
            "colorbar": {
             "outlinewidth": 0,
             "ticks": ""
            },
            "type": "mesh3d"
           }
          ],
          "parcoords": [
           {
            "line": {
             "colorbar": {
              "outlinewidth": 0,
              "ticks": ""
             }
            },
            "type": "parcoords"
           }
          ],
          "pie": [
           {
            "automargin": true,
            "type": "pie"
           }
          ],
          "scatter": [
           {
            "fillpattern": {
             "fillmode": "overlay",
             "size": 10,
             "solidity": 0.2
            },
            "type": "scatter"
           }
          ],
          "scatter3d": [
           {
            "line": {
             "colorbar": {
              "outlinewidth": 0,
              "ticks": ""
             }
            },
            "marker": {
             "colorbar": {
              "outlinewidth": 0,
              "ticks": ""
             }
            },
            "type": "scatter3d"
           }
          ],
          "scattercarpet": [
           {
            "marker": {
             "colorbar": {
              "outlinewidth": 0,
              "ticks": ""
             }
            },
            "type": "scattercarpet"
           }
          ],
          "scattergeo": [
           {
            "marker": {
             "colorbar": {
              "outlinewidth": 0,
              "ticks": ""
             }
            },
            "type": "scattergeo"
           }
          ],
          "scattergl": [
           {
            "marker": {
             "colorbar": {
              "outlinewidth": 0,
              "ticks": ""
             }
            },
            "type": "scattergl"
           }
          ],
          "scattermap": [
           {
            "marker": {
             "colorbar": {
              "outlinewidth": 0,
              "ticks": ""
             }
            },
            "type": "scattermap"
           }
          ],
          "scattermapbox": [
           {
            "marker": {
             "colorbar": {
              "outlinewidth": 0,
              "ticks": ""
             }
            },
            "type": "scattermapbox"
           }
          ],
          "scatterpolar": [
           {
            "marker": {
             "colorbar": {
              "outlinewidth": 0,
              "ticks": ""
             }
            },
            "type": "scatterpolar"
           }
          ],
          "scatterpolargl": [
           {
            "marker": {
             "colorbar": {
              "outlinewidth": 0,
              "ticks": ""
             }
            },
            "type": "scatterpolargl"
           }
          ],
          "scatterternary": [
           {
            "marker": {
             "colorbar": {
              "outlinewidth": 0,
              "ticks": ""
             }
            },
            "type": "scatterternary"
           }
          ],
          "surface": [
           {
            "colorbar": {
             "outlinewidth": 0,
             "ticks": ""
            },
            "colorscale": [
             [
              0,
              "#0d0887"
             ],
             [
              0.1111111111111111,
              "#46039f"
             ],
             [
              0.2222222222222222,
              "#7201a8"
             ],
             [
              0.3333333333333333,
              "#9c179e"
             ],
             [
              0.4444444444444444,
              "#bd3786"
             ],
             [
              0.5555555555555556,
              "#d8576b"
             ],
             [
              0.6666666666666666,
              "#ed7953"
             ],
             [
              0.7777777777777778,
              "#fb9f3a"
             ],
             [
              0.8888888888888888,
              "#fdca26"
             ],
             [
              1,
              "#f0f921"
             ]
            ],
            "type": "surface"
           }
          ],
          "table": [
           {
            "cells": {
             "fill": {
              "color": "#EBF0F8"
             },
             "line": {
              "color": "white"
             }
            },
            "header": {
             "fill": {
              "color": "#C8D4E3"
             },
             "line": {
              "color": "white"
             }
            },
            "type": "table"
           }
          ]
         },
         "layout": {
          "annotationdefaults": {
           "arrowcolor": "#2a3f5f",
           "arrowhead": 0,
           "arrowwidth": 1
          },
          "autotypenumbers": "strict",
          "coloraxis": {
           "colorbar": {
            "outlinewidth": 0,
            "ticks": ""
           }
          },
          "colorscale": {
           "diverging": [
            [
             0,
             "#8e0152"
            ],
            [
             0.1,
             "#c51b7d"
            ],
            [
             0.2,
             "#de77ae"
            ],
            [
             0.3,
             "#f1b6da"
            ],
            [
             0.4,
             "#fde0ef"
            ],
            [
             0.5,
             "#f7f7f7"
            ],
            [
             0.6,
             "#e6f5d0"
            ],
            [
             0.7,
             "#b8e186"
            ],
            [
             0.8,
             "#7fbc41"
            ],
            [
             0.9,
             "#4d9221"
            ],
            [
             1,
             "#276419"
            ]
           ],
           "sequential": [
            [
             0,
             "#0d0887"
            ],
            [
             0.1111111111111111,
             "#46039f"
            ],
            [
             0.2222222222222222,
             "#7201a8"
            ],
            [
             0.3333333333333333,
             "#9c179e"
            ],
            [
             0.4444444444444444,
             "#bd3786"
            ],
            [
             0.5555555555555556,
             "#d8576b"
            ],
            [
             0.6666666666666666,
             "#ed7953"
            ],
            [
             0.7777777777777778,
             "#fb9f3a"
            ],
            [
             0.8888888888888888,
             "#fdca26"
            ],
            [
             1,
             "#f0f921"
            ]
           ],
           "sequentialminus": [
            [
             0,
             "#0d0887"
            ],
            [
             0.1111111111111111,
             "#46039f"
            ],
            [
             0.2222222222222222,
             "#7201a8"
            ],
            [
             0.3333333333333333,
             "#9c179e"
            ],
            [
             0.4444444444444444,
             "#bd3786"
            ],
            [
             0.5555555555555556,
             "#d8576b"
            ],
            [
             0.6666666666666666,
             "#ed7953"
            ],
            [
             0.7777777777777778,
             "#fb9f3a"
            ],
            [
             0.8888888888888888,
             "#fdca26"
            ],
            [
             1,
             "#f0f921"
            ]
           ]
          },
          "colorway": [
           "#636efa",
           "#EF553B",
           "#00cc96",
           "#ab63fa",
           "#FFA15A",
           "#19d3f3",
           "#FF6692",
           "#B6E880",
           "#FF97FF",
           "#FECB52"
          ],
          "font": {
           "color": "#2a3f5f"
          },
          "geo": {
           "bgcolor": "white",
           "lakecolor": "white",
           "landcolor": "#E5ECF6",
           "showlakes": true,
           "showland": true,
           "subunitcolor": "white"
          },
          "hoverlabel": {
           "align": "left"
          },
          "hovermode": "closest",
          "mapbox": {
           "style": "light"
          },
          "paper_bgcolor": "white",
          "plot_bgcolor": "#E5ECF6",
          "polar": {
           "angularaxis": {
            "gridcolor": "white",
            "linecolor": "white",
            "ticks": ""
           },
           "bgcolor": "#E5ECF6",
           "radialaxis": {
            "gridcolor": "white",
            "linecolor": "white",
            "ticks": ""
           }
          },
          "scene": {
           "xaxis": {
            "backgroundcolor": "#E5ECF6",
            "gridcolor": "white",
            "gridwidth": 2,
            "linecolor": "white",
            "showbackground": true,
            "ticks": "",
            "zerolinecolor": "white"
           },
           "yaxis": {
            "backgroundcolor": "#E5ECF6",
            "gridcolor": "white",
            "gridwidth": 2,
            "linecolor": "white",
            "showbackground": true,
            "ticks": "",
            "zerolinecolor": "white"
           },
           "zaxis": {
            "backgroundcolor": "#E5ECF6",
            "gridcolor": "white",
            "gridwidth": 2,
            "linecolor": "white",
            "showbackground": true,
            "ticks": "",
            "zerolinecolor": "white"
           }
          },
          "shapedefaults": {
           "line": {
            "color": "#2a3f5f"
           }
          },
          "ternary": {
           "aaxis": {
            "gridcolor": "white",
            "linecolor": "white",
            "ticks": ""
           },
           "baxis": {
            "gridcolor": "white",
            "linecolor": "white",
            "ticks": ""
           },
           "bgcolor": "#E5ECF6",
           "caxis": {
            "gridcolor": "white",
            "linecolor": "white",
            "ticks": ""
           }
          },
          "title": {
           "x": 0.05
          },
          "xaxis": {
           "automargin": true,
           "gridcolor": "white",
           "linecolor": "white",
           "ticks": "",
           "title": {
            "standoff": 15
           },
           "zerolinecolor": "white",
           "zerolinewidth": 2
          },
          "yaxis": {
           "automargin": true,
           "gridcolor": "white",
           "linecolor": "white",
           "ticks": "",
           "title": {
            "standoff": 15
           },
           "zerolinecolor": "white",
           "zerolinewidth": 2
          }
         }
        },
        "title": {
         "font": {
          "size": 24
         },
         "text": "Treatment Feature Distribution (ANOVA)"
        },
        "width": 600
       }
      }
     },
     "metadata": {},
     "output_type": "display_data"
    }
   ],
   "source": [
    "### USING ANOVA PAIRWISE TEST \n",
    "lesion_anova_df = treatment_effect_df[treatment_effect_df['Significance Healthy Left B vs Sick Left C'] != 'n.s.']\n",
    "print(f\"Number of significant features that describe the lesion (B pre vs C post): {lesion_anova_df.shape[0]}\")\n",
    "\n",
    "improving_lesion_anova_df = lesion_anova_df[lesion_anova_df['direction'] == 'towards_healthy']\n",
    "avg_improving_effect_size = improving_lesion_anova_df['change_effect_size'].mean()\n",
    "print(f\"Number of significant lesion features that improve: {improving_lesion_anova_df.shape[0]}. Average effect size: {avg_improving_effect_size:.2f}\")\n",
    "\n",
    "worsening_lesion_anova_df = lesion_anova_df[lesion_anova_df['direction'] == 'away_from_healthy']\n",
    "avg_worsening_effect_size = worsening_lesion_anova_df['change_effect_size'].mean()\n",
    "print(f\"Number of significant lesion features that worsen: {worsening_lesion_anova_df.shape[0]}. Average effect size: {avg_worsening_effect_size:.2f}\")\n",
    "\n",
    "\n",
    "print('-'*40)\n",
    "treatment_anova_df = treatment_effect_df[treatment_effect_df['Significance Sick Left C vs Sick Left E'] != 'n.s.']\n",
    "print(f\"Number of significant features that describe the treatment effect (C post vs E post): {treatment_anova_df.shape[0]}\")\n",
    "\n",
    "improving_treatment_anova_df = treatment_anova_df[treatment_anova_df['direction'] == 'towards_healthy']\n",
    "avg_improving_effect_size = improving_treatment_anova_df['change_effect_size'].mean()\n",
    "print(f\"Number of significant treatment features that improve: {improving_treatment_anova_df.shape[0]}. Average effect size: {avg_improving_effect_size:.2f}\")\n",
    "\n",
    "worsening_treatment_anova_df = treatment_anova_df[treatment_anova_df['direction'] == 'away_from_healthy']\n",
    "avg_worsening_effect_size = worsening_treatment_anova_df['change_effect_size'].mean()\n",
    "print(f\"Number of significant treatment features that worsen: {worsening_treatment_anova_df.shape[0]}. Average effect size: {avg_worsening_effect_size:.2f}\")\n",
    "\n",
    "print('-'*40)\n",
    "\n",
    "intersecting_features = set(treatment_anova_df['Feature']).intersection(set(lesion_anova_df['Feature']))\n",
    "\n",
    "print('-'*40)\n",
    "print(f\"Number of intersecting features between the two comparisons: {len(intersecting_features)}\")\n",
    "print(f\"Number of intersecting features that improve: {len(intersecting_features & set(improving_treatment_anova_df['Feature']))}\")\n",
    "print(f\"Number of intersecting features that worsen: {len(intersecting_features & set(worsening_treatment_anova_df['Feature']))}\")\n",
    "\n",
    "## Use a venn diagram to display the features\n",
    "venn2(subsets = (len(treatment_effect_df[treatment_effect_df['Significance Healthy Left B vs Sick Left C'] != 'n.s.']), len(treatment_effect_df[treatment_effect_df['Significance Sick Left C vs Sick Left E'] != 'n.s.']), len(intersecting_features)),\n",
    "      set_labels = ('Lesion', \n",
    "                    'Treatment'),\n",
    "      set_colors=(\"red\",\n",
    "                  \"green\"),alpha=0.7)\n",
    "\n",
    "# add outline\n",
    "venn2_circles(subsets=(len(treatment_effect_df[treatment_effect_df['Significance Healthy Left B vs Sick Left C'] != 'n.s.']), len(treatment_effect_df[treatment_effect_df['Significance Sick Left C vs Sick Left E'] != 'n.s.']), len(intersecting_features)))\n",
    "\n",
    "plt.title(\"Venn Diagram of Lesion and Treatment Features (ANOVA)\", fontsize=16)\n",
    "# plt.savefig(os.path.join('./', 'venn_diagram_lesion_treatment.svg'), dpi=300, bbox_inches='tight')\n",
    "plt.show()\n",
    "\n",
    "## Lesion Feature Distribution pie\n",
    "labels = (\"Improving Lesion Features\", \"Worsening Lesion Features\", \"Non-Lesion Features\")\n",
    "sizes = (\n",
    "    improving_lesion_anova_df.shape[0],\n",
    "    worsening_lesion_anova_df.shape[0],\n",
    "    treatment_effect_df[treatment_effect_df['Significance Healthy Left B vs Sick Left C'] == 'n.s.'].shape[0]\n",
    ")\n",
    "lesion_fig = go.Figure(\n",
    "    data=[go.Pie(\n",
    "        labels=labels, \n",
    "        values=sizes, \n",
    "        pull=[0, 0, 0.2],\n",
    "        marker=dict(colors=['green', 'red', 'grey'], line=dict(color='black', width=1))\n",
    "        )]\n",
    ")\n",
    "lesion_fig.update_layout(\n",
    "    title_text=\"Lesion Feature Distribution (ANOVA)\",\n",
    "    title_font_size=24,\n",
    "    legend_title_text=\"Feature Types\",\n",
    "    legend_title_font_size=18,\n",
    "    height=400,\n",
    "    width=600,\n",
    ")\n",
    "\n",
    "# lesion_fig.write_image(os.path.join('./', 'lesion_feature_distribution.svg'))\n",
    "lesion_fig.show()\n",
    "\n",
    "## Treatment Feature Distribution pie\n",
    "labels = (\"Improving Treatment Features\", \"Worsening Treatment Features\", \"Non-Lesion Features\")\n",
    "sizes = (\n",
    "    improving_treatment_anova_df.shape[0],\n",
    "    worsening_treatment_anova_df.shape[0],\n",
    "    treatment_effect_df[treatment_effect_df['Significance Healthy Left B vs Sick Left C'] == 'n.s.'].shape[0]\n",
    ")\n",
    "treatment_fig = go.Figure(\n",
    "    data=[go.Pie(\n",
    "        labels=labels,\n",
    "        values=sizes,\n",
    "        pull=[0, 0, 0.2],\n",
    "        marker=dict(colors=['green', 'red', 'grey'], line=dict(color='black', width=1))\n",
    "    )]\n",
    ")\n",
    "treatment_fig.update_layout(\n",
    "    title_text=\"Treatment Feature Distribution (ANOVA)\",\n",
    "    title_font_size=24,\n",
    "    legend_title_text=\"Feature Types\",\n",
    "    legend_title_font_size=18,\n",
    "    height=400,\n",
    "    width=600,\n",
    ")\n",
    "\n",
    "# treatment_fig.write_image(os.path.join('./', 'treatment_feature_distribution.svg'))\n",
    "treatment_fig.show()"
   ]
  },
  {
   "cell_type": "code",
   "execution_count": 195,
   "id": "5447b0a7",
   "metadata": {},
   "outputs": [
    {
     "name": "stdout",
     "output_type": "stream",
     "text": [
      "93 45\n"
     ]
    }
   ],
   "source": [
    "# 1. Get features significant in both comparisons\n",
    "sig_b_c = set(treatment_effect_df[treatment_effect_df['Significance Healthy Left B vs Sick Left C'] != 'n.s.']['Feature'])\n",
    "sig_c_e = set(treatment_effect_df[treatment_effect_df['Significance Sick Left C vs Sick Left E'] != 'n.s.']['Feature'])\n",
    "print(len(sig_b_c), len(sig_c_e))\n",
    "sig_both = sig_b_c & sig_c_e\n",
    "\n",
    "# 2. Filter for features that are 'towards healthy' in both transitions\n",
    "improving_both = treatment_effect_df[\n",
    "    (treatment_effect_df['Feature'].isin(sig_both)) &\n",
    "    (treatment_effect_df['direction'] == 'towards_healthy')\n",
    "]\n",
    "worsening_both = treatment_effect_df[\n",
    "    (treatment_effect_df['Feature'].isin(sig_both)) &\n",
    "    (treatment_effect_df['direction'] == 'away_from_healthy')\n",
    "]"
   ]
  },
  {
   "cell_type": "code",
   "execution_count": 194,
   "id": "36ee1f42",
   "metadata": {},
   "outputs": [
    {
     "data": {
      "application/vnd.plotly.v1+json": {
       "config": {
        "plotlyServerURL": "https://plot.ly"
       },
       "data": [
        {
         "error_y": {
          "array": [
           0.07513431761428088,
           0.045405102881956046,
           0.04535706375236639
          ],
          "type": "data",
          "visible": true
         },
         "marker": {
          "color": [
           "#636EFA",
           "#EF553B",
           "#00CC96"
          ],
          "line": {
           "color": "black",
           "width": 1
          }
         },
         "name": "Mean angle during stance - rhindlimb - lHindpaw (°)",
         "type": "bar",
         "x": [
          "healthy_left_B_run",
          "sick_left_C_run",
          "sick_left_E_run"
         ],
         "xaxis": "x",
         "y": [
          2.546207878261983,
          2.4300733782976494,
          2.4887139846068944
         ],
         "yaxis": "y"
        },
        {
         "marker": {
          "color": "black",
          "opacity": 0.5,
          "size": 6
         },
         "mode": "markers",
         "showlegend": false,
         "type": "scatter",
         "x": [
          "healthy_left_B_run",
          "healthy_left_B_run",
          "healthy_left_B_run",
          "healthy_left_B_run",
          "healthy_left_B_run",
          "healthy_left_B_run",
          "healthy_left_B_run",
          "healthy_left_B_run",
          "healthy_left_B_run",
          "healthy_left_B_run"
         ],
         "xaxis": "x",
         "y": {
          "bdata": "oXR3OlU3BEDDJYTR9TADQCdH5LJ51wRAUdptznHSBEBeBXbxczUFQHA/qCDSmgRAcAfbvQgjBEDpScATI6YEQNgnmBewYARA07680/2lA0A=",
          "dtype": "f8"
         },
         "yaxis": "y"
        },
        {
         "marker": {
          "color": "black",
          "opacity": 0.5,
          "size": 6
         },
         "mode": "markers",
         "showlegend": false,
         "type": "scatter",
         "x": [
          "sick_left_C_run",
          "sick_left_C_run",
          "sick_left_C_run",
          "sick_left_C_run",
          "sick_left_C_run",
          "sick_left_C_run",
          "sick_left_C_run",
          "sick_left_C_run",
          "sick_left_C_run",
          "sick_left_C_run"
         ],
         "xaxis": "x",
         "y": {
          "bdata": "OiYwbqZgA0D1op3j8AkDQFKT3HGpSANA0M814phRA0D7VpEDbykEQNMwtjPcpgNAfPHfWaeqA0AEOtnTbsEDQAA91uIYGQNAH2FeL5MNA0A=",
          "dtype": "f8"
         },
         "yaxis": "y"
        },
        {
         "marker": {
          "color": "black",
          "opacity": 0.5,
          "size": 6
         },
         "mode": "markers",
         "showlegend": false,
         "type": "scatter",
         "x": [
          "sick_left_E_run",
          "sick_left_E_run",
          "sick_left_E_run",
          "sick_left_E_run",
          "sick_left_E_run",
          "sick_left_E_run",
          "sick_left_E_run",
          "sick_left_E_run",
          "sick_left_E_run",
          "sick_left_E_run"
         ],
         "xaxis": "x",
         "y": {
          "bdata": "TUzUcFeRA0AQ8MOPXAwEQJ6rktoQ/wNAzOPuOaRtBEAkeSphXF4EQE3EmKhE7ANApsjr/lnRA0BMFCY+mB8EQBX2nWu9VQNAe+UB/yJ9A0A=",
          "dtype": "f8"
         },
         "yaxis": "y"
        },
        {
         "error_y": {
          "array": [
           0.9969047201666582,
           0.37631992856091045,
           1.1302152793576221
          ],
          "type": "data",
          "visible": true
         },
         "marker": {
          "color": [
           "#636EFA",
           "#EF553B",
           "#00CC96"
          ],
          "line": {
           "color": "black",
           "width": 1
          }
         },
         "name": "Mean angle velocity at stance - rhindlimb - knee std",
         "type": "bar",
         "x": [
          "healthy_left_B_run",
          "sick_left_C_run",
          "sick_left_E_run"
         ],
         "xaxis": "x2",
         "y": [
          2.2592853107525466,
          1.3730600865098612,
          1.9073940898479094
         ],
         "yaxis": "y2"
        },
        {
         "marker": {
          "color": "black",
          "opacity": 0.5,
          "size": 6
         },
         "mode": "markers",
         "showlegend": false,
         "type": "scatter",
         "x": [
          "healthy_left_B_run",
          "healthy_left_B_run",
          "healthy_left_B_run",
          "healthy_left_B_run",
          "healthy_left_B_run",
          "healthy_left_B_run",
          "healthy_left_B_run",
          "healthy_left_B_run",
          "healthy_left_B_run",
          "healthy_left_B_run"
         ],
         "xaxis": "x2",
         "y": {
          "bdata": "6pLD8xgOB0C5a7pjnGsOQD0anHoU9PE/9xatOG/OAUCtlv40xDsLQCImqbvSk/Q/Eu0VZt5y+z9tDlxhxBwJQOm5n7JvwvA/UBk87sN9/z8=",
          "dtype": "f8"
         },
         "yaxis": "y2"
        },
        {
         "marker": {
          "color": "black",
          "opacity": 0.5,
          "size": 6
         },
         "mode": "markers",
         "showlegend": false,
         "type": "scatter",
         "x": [
          "sick_left_C_run",
          "sick_left_C_run",
          "sick_left_C_run",
          "sick_left_C_run",
          "sick_left_C_run",
          "sick_left_C_run",
          "sick_left_C_run",
          "sick_left_C_run",
          "sick_left_C_run",
          "sick_left_C_run"
         ],
         "xaxis": "x2",
         "y": {
          "bdata": "jJUmyH+n7j81v40Wk8LxP4M/rYMMBvg/yCrj1sPA9j/vIBCnSRj2P9lcbCQuNPs/bzVXWSpz/z+mqTf6syLnP1jkxZPKevs/a5F5faAH9D8=",
          "dtype": "f8"
         },
         "yaxis": "y2"
        },
        {
         "marker": {
          "color": "black",
          "opacity": 0.5,
          "size": 6
         },
         "mode": "markers",
         "showlegend": false,
         "type": "scatter",
         "x": [
          "sick_left_E_run",
          "sick_left_E_run",
          "sick_left_E_run",
          "sick_left_E_run",
          "sick_left_E_run",
          "sick_left_E_run",
          "sick_left_E_run",
          "sick_left_E_run",
          "sick_left_E_run",
          "sick_left_E_run"
         ],
         "xaxis": "x2",
         "y": {
          "bdata": "cI/dyKoG9j+1Cftucfb6P5hYzpnU0Po/Wwt29BTyC0DgKongeWsLQI9svNfUleY/Toow8RbGAkCtSFM2oyXfP8rIWGC5VOk/73+TL3itCEA=",
          "dtype": "f8"
         },
         "yaxis": "y2"
        },
        {
         "error_y": {
          "array": [
           1.8863334526884918,
           1.341928638769611,
           1.530353922397454
          ],
          "type": "data",
          "visible": true
         },
         "marker": {
          "color": [
           "#636EFA",
           "#EF553B",
           "#00CC96"
          ],
          "line": {
           "color": "black",
           "width": 1
          }
         },
         "name": "Mean step acceleration Y at touchdown - ankle (m/s^2)",
         "type": "bar",
         "x": [
          "healthy_left_B_run",
          "sick_left_C_run",
          "sick_left_E_run"
         ],
         "xaxis": "x3",
         "y": [
          4.427953129758253,
          6.369636067263793,
          4.428876528786397
         ],
         "yaxis": "y3"
        },
        {
         "marker": {
          "color": "black",
          "opacity": 0.5,
          "size": 6
         },
         "mode": "markers",
         "showlegend": false,
         "type": "scatter",
         "x": [
          "healthy_left_B_run",
          "healthy_left_B_run",
          "healthy_left_B_run",
          "healthy_left_B_run",
          "healthy_left_B_run",
          "healthy_left_B_run",
          "healthy_left_B_run",
          "healthy_left_B_run",
          "healthy_left_B_run",
          "healthy_left_B_run"
         ],
         "xaxis": "x3",
         "y": {
          "bdata": "XRqkQRpI+z/q8i3f8ssRQG/SIA1SFQFAxwscNWPlFUDho0EaJCkHQCwapEFCUgtAp53YiR1RFUCZhVd49W8TQFE91EM95xlAGZ+aVDQqHkA=",
          "dtype": "f8"
         },
         "yaxis": "y3"
        },
        {
         "marker": {
          "color": "black",
          "opacity": 0.5,
          "size": 6
         },
         "mode": "markers",
         "showlegend": false,
         "type": "scatter",
         "x": [
          "sick_left_C_run",
          "sick_left_C_run",
          "sick_left_C_run",
          "sick_left_C_run",
          "sick_left_C_run",
          "sick_left_C_run",
          "sick_left_C_run",
          "sick_left_C_run",
          "sick_left_C_run",
          "sick_left_C_run"
         ],
         "xaxis": "x3",
         "y": {
          "bdata": "z5RMyURqHkARRmAExpEUQA6O4ziOCx1A3ZZv+ZbpFECiQRqkDVwZQMldT8e6cB9Alnn9/qWXGECbYzZmA/IbQAqkQRrEzR1ArlmbtVlnDUA=",
          "dtype": "f8"
         },
         "yaxis": "y3"
        },
        {
         "marker": {
          "color": "black",
          "opacity": 0.5,
          "size": 6
         },
         "mode": "markers",
         "showlegend": false,
         "type": "scatter",
         "x": [
          "sick_left_E_run",
          "sick_left_E_run",
          "sick_left_E_run",
          "sick_left_E_run",
          "sick_left_E_run",
          "sick_left_E_run",
          "sick_left_E_run",
          "sick_left_E_run",
          "sick_left_E_run",
          "sick_left_E_run"
         ],
         "xaxis": "x3",
         "y": {
          "bdata": "1KLavVipFEAVwzAMY54RQCaV3he4LhlA+V3cxR2ME0AKLMESLCMaQLge6qHe+QtAREiDNEiMFUBka/zdvCIOQGCO0u0rVgJACBEO4ZB4AEA=",
          "dtype": "f8"
         },
         "yaxis": "y3"
        }
       ],
       "layout": {
        "annotations": [
         {
          "font": {
           "size": 16
          },
          "showarrow": false,
          "text": "angle during stance lHindpaw (°)",
          "x": 0.14444444444444446,
          "xanchor": "center",
          "xref": "paper",
          "y": 1,
          "yanchor": "bottom",
          "yref": "paper"
         },
         {
          "font": {
           "size": 16
          },
          "showarrow": false,
          "text": "angle velocity at stance knee std",
          "x": 0.5,
          "xanchor": "center",
          "xref": "paper",
          "y": 1,
          "yanchor": "bottom",
          "yref": "paper"
         },
         {
          "font": {
           "size": 16
          },
          "showarrow": false,
          "text": "step acceleration Y at touchdown - ankle (m/s^2)",
          "x": 0.8555555555555556,
          "xanchor": "center",
          "xref": "paper",
          "y": 1,
          "yanchor": "bottom",
          "yref": "paper"
         }
        ],
        "height": 500,
        "plot_bgcolor": "rgba(0,0,0,0)",
        "showlegend": false,
        "template": {
         "data": {
          "bar": [
           {
            "error_x": {
             "color": "#2a3f5f"
            },
            "error_y": {
             "color": "#2a3f5f"
            },
            "marker": {
             "line": {
              "color": "#E5ECF6",
              "width": 0.5
             },
             "pattern": {
              "fillmode": "overlay",
              "size": 10,
              "solidity": 0.2
             }
            },
            "type": "bar"
           }
          ],
          "barpolar": [
           {
            "marker": {
             "line": {
              "color": "#E5ECF6",
              "width": 0.5
             },
             "pattern": {
              "fillmode": "overlay",
              "size": 10,
              "solidity": 0.2
             }
            },
            "type": "barpolar"
           }
          ],
          "carpet": [
           {
            "aaxis": {
             "endlinecolor": "#2a3f5f",
             "gridcolor": "white",
             "linecolor": "white",
             "minorgridcolor": "white",
             "startlinecolor": "#2a3f5f"
            },
            "baxis": {
             "endlinecolor": "#2a3f5f",
             "gridcolor": "white",
             "linecolor": "white",
             "minorgridcolor": "white",
             "startlinecolor": "#2a3f5f"
            },
            "type": "carpet"
           }
          ],
          "choropleth": [
           {
            "colorbar": {
             "outlinewidth": 0,
             "ticks": ""
            },
            "type": "choropleth"
           }
          ],
          "contour": [
           {
            "colorbar": {
             "outlinewidth": 0,
             "ticks": ""
            },
            "colorscale": [
             [
              0,
              "#0d0887"
             ],
             [
              0.1111111111111111,
              "#46039f"
             ],
             [
              0.2222222222222222,
              "#7201a8"
             ],
             [
              0.3333333333333333,
              "#9c179e"
             ],
             [
              0.4444444444444444,
              "#bd3786"
             ],
             [
              0.5555555555555556,
              "#d8576b"
             ],
             [
              0.6666666666666666,
              "#ed7953"
             ],
             [
              0.7777777777777778,
              "#fb9f3a"
             ],
             [
              0.8888888888888888,
              "#fdca26"
             ],
             [
              1,
              "#f0f921"
             ]
            ],
            "type": "contour"
           }
          ],
          "contourcarpet": [
           {
            "colorbar": {
             "outlinewidth": 0,
             "ticks": ""
            },
            "type": "contourcarpet"
           }
          ],
          "heatmap": [
           {
            "colorbar": {
             "outlinewidth": 0,
             "ticks": ""
            },
            "colorscale": [
             [
              0,
              "#0d0887"
             ],
             [
              0.1111111111111111,
              "#46039f"
             ],
             [
              0.2222222222222222,
              "#7201a8"
             ],
             [
              0.3333333333333333,
              "#9c179e"
             ],
             [
              0.4444444444444444,
              "#bd3786"
             ],
             [
              0.5555555555555556,
              "#d8576b"
             ],
             [
              0.6666666666666666,
              "#ed7953"
             ],
             [
              0.7777777777777778,
              "#fb9f3a"
             ],
             [
              0.8888888888888888,
              "#fdca26"
             ],
             [
              1,
              "#f0f921"
             ]
            ],
            "type": "heatmap"
           }
          ],
          "histogram": [
           {
            "marker": {
             "pattern": {
              "fillmode": "overlay",
              "size": 10,
              "solidity": 0.2
             }
            },
            "type": "histogram"
           }
          ],
          "histogram2d": [
           {
            "colorbar": {
             "outlinewidth": 0,
             "ticks": ""
            },
            "colorscale": [
             [
              0,
              "#0d0887"
             ],
             [
              0.1111111111111111,
              "#46039f"
             ],
             [
              0.2222222222222222,
              "#7201a8"
             ],
             [
              0.3333333333333333,
              "#9c179e"
             ],
             [
              0.4444444444444444,
              "#bd3786"
             ],
             [
              0.5555555555555556,
              "#d8576b"
             ],
             [
              0.6666666666666666,
              "#ed7953"
             ],
             [
              0.7777777777777778,
              "#fb9f3a"
             ],
             [
              0.8888888888888888,
              "#fdca26"
             ],
             [
              1,
              "#f0f921"
             ]
            ],
            "type": "histogram2d"
           }
          ],
          "histogram2dcontour": [
           {
            "colorbar": {
             "outlinewidth": 0,
             "ticks": ""
            },
            "colorscale": [
             [
              0,
              "#0d0887"
             ],
             [
              0.1111111111111111,
              "#46039f"
             ],
             [
              0.2222222222222222,
              "#7201a8"
             ],
             [
              0.3333333333333333,
              "#9c179e"
             ],
             [
              0.4444444444444444,
              "#bd3786"
             ],
             [
              0.5555555555555556,
              "#d8576b"
             ],
             [
              0.6666666666666666,
              "#ed7953"
             ],
             [
              0.7777777777777778,
              "#fb9f3a"
             ],
             [
              0.8888888888888888,
              "#fdca26"
             ],
             [
              1,
              "#f0f921"
             ]
            ],
            "type": "histogram2dcontour"
           }
          ],
          "mesh3d": [
           {
            "colorbar": {
             "outlinewidth": 0,
             "ticks": ""
            },
            "type": "mesh3d"
           }
          ],
          "parcoords": [
           {
            "line": {
             "colorbar": {
              "outlinewidth": 0,
              "ticks": ""
             }
            },
            "type": "parcoords"
           }
          ],
          "pie": [
           {
            "automargin": true,
            "type": "pie"
           }
          ],
          "scatter": [
           {
            "fillpattern": {
             "fillmode": "overlay",
             "size": 10,
             "solidity": 0.2
            },
            "type": "scatter"
           }
          ],
          "scatter3d": [
           {
            "line": {
             "colorbar": {
              "outlinewidth": 0,
              "ticks": ""
             }
            },
            "marker": {
             "colorbar": {
              "outlinewidth": 0,
              "ticks": ""
             }
            },
            "type": "scatter3d"
           }
          ],
          "scattercarpet": [
           {
            "marker": {
             "colorbar": {
              "outlinewidth": 0,
              "ticks": ""
             }
            },
            "type": "scattercarpet"
           }
          ],
          "scattergeo": [
           {
            "marker": {
             "colorbar": {
              "outlinewidth": 0,
              "ticks": ""
             }
            },
            "type": "scattergeo"
           }
          ],
          "scattergl": [
           {
            "marker": {
             "colorbar": {
              "outlinewidth": 0,
              "ticks": ""
             }
            },
            "type": "scattergl"
           }
          ],
          "scattermap": [
           {
            "marker": {
             "colorbar": {
              "outlinewidth": 0,
              "ticks": ""
             }
            },
            "type": "scattermap"
           }
          ],
          "scattermapbox": [
           {
            "marker": {
             "colorbar": {
              "outlinewidth": 0,
              "ticks": ""
             }
            },
            "type": "scattermapbox"
           }
          ],
          "scatterpolar": [
           {
            "marker": {
             "colorbar": {
              "outlinewidth": 0,
              "ticks": ""
             }
            },
            "type": "scatterpolar"
           }
          ],
          "scatterpolargl": [
           {
            "marker": {
             "colorbar": {
              "outlinewidth": 0,
              "ticks": ""
             }
            },
            "type": "scatterpolargl"
           }
          ],
          "scatterternary": [
           {
            "marker": {
             "colorbar": {
              "outlinewidth": 0,
              "ticks": ""
             }
            },
            "type": "scatterternary"
           }
          ],
          "surface": [
           {
            "colorbar": {
             "outlinewidth": 0,
             "ticks": ""
            },
            "colorscale": [
             [
              0,
              "#0d0887"
             ],
             [
              0.1111111111111111,
              "#46039f"
             ],
             [
              0.2222222222222222,
              "#7201a8"
             ],
             [
              0.3333333333333333,
              "#9c179e"
             ],
             [
              0.4444444444444444,
              "#bd3786"
             ],
             [
              0.5555555555555556,
              "#d8576b"
             ],
             [
              0.6666666666666666,
              "#ed7953"
             ],
             [
              0.7777777777777778,
              "#fb9f3a"
             ],
             [
              0.8888888888888888,
              "#fdca26"
             ],
             [
              1,
              "#f0f921"
             ]
            ],
            "type": "surface"
           }
          ],
          "table": [
           {
            "cells": {
             "fill": {
              "color": "#EBF0F8"
             },
             "line": {
              "color": "white"
             }
            },
            "header": {
             "fill": {
              "color": "#C8D4E3"
             },
             "line": {
              "color": "white"
             }
            },
            "type": "table"
           }
          ]
         },
         "layout": {
          "annotationdefaults": {
           "arrowcolor": "#2a3f5f",
           "arrowhead": 0,
           "arrowwidth": 1
          },
          "autotypenumbers": "strict",
          "coloraxis": {
           "colorbar": {
            "outlinewidth": 0,
            "ticks": ""
           }
          },
          "colorscale": {
           "diverging": [
            [
             0,
             "#8e0152"
            ],
            [
             0.1,
             "#c51b7d"
            ],
            [
             0.2,
             "#de77ae"
            ],
            [
             0.3,
             "#f1b6da"
            ],
            [
             0.4,
             "#fde0ef"
            ],
            [
             0.5,
             "#f7f7f7"
            ],
            [
             0.6,
             "#e6f5d0"
            ],
            [
             0.7,
             "#b8e186"
            ],
            [
             0.8,
             "#7fbc41"
            ],
            [
             0.9,
             "#4d9221"
            ],
            [
             1,
             "#276419"
            ]
           ],
           "sequential": [
            [
             0,
             "#0d0887"
            ],
            [
             0.1111111111111111,
             "#46039f"
            ],
            [
             0.2222222222222222,
             "#7201a8"
            ],
            [
             0.3333333333333333,
             "#9c179e"
            ],
            [
             0.4444444444444444,
             "#bd3786"
            ],
            [
             0.5555555555555556,
             "#d8576b"
            ],
            [
             0.6666666666666666,
             "#ed7953"
            ],
            [
             0.7777777777777778,
             "#fb9f3a"
            ],
            [
             0.8888888888888888,
             "#fdca26"
            ],
            [
             1,
             "#f0f921"
            ]
           ],
           "sequentialminus": [
            [
             0,
             "#0d0887"
            ],
            [
             0.1111111111111111,
             "#46039f"
            ],
            [
             0.2222222222222222,
             "#7201a8"
            ],
            [
             0.3333333333333333,
             "#9c179e"
            ],
            [
             0.4444444444444444,
             "#bd3786"
            ],
            [
             0.5555555555555556,
             "#d8576b"
            ],
            [
             0.6666666666666666,
             "#ed7953"
            ],
            [
             0.7777777777777778,
             "#fb9f3a"
            ],
            [
             0.8888888888888888,
             "#fdca26"
            ],
            [
             1,
             "#f0f921"
            ]
           ]
          },
          "colorway": [
           "#636efa",
           "#EF553B",
           "#00cc96",
           "#ab63fa",
           "#FFA15A",
           "#19d3f3",
           "#FF6692",
           "#B6E880",
           "#FF97FF",
           "#FECB52"
          ],
          "font": {
           "color": "#2a3f5f"
          },
          "geo": {
           "bgcolor": "white",
           "lakecolor": "white",
           "landcolor": "#E5ECF6",
           "showlakes": true,
           "showland": true,
           "subunitcolor": "white"
          },
          "hoverlabel": {
           "align": "left"
          },
          "hovermode": "closest",
          "mapbox": {
           "style": "light"
          },
          "paper_bgcolor": "white",
          "plot_bgcolor": "#E5ECF6",
          "polar": {
           "angularaxis": {
            "gridcolor": "white",
            "linecolor": "white",
            "ticks": ""
           },
           "bgcolor": "#E5ECF6",
           "radialaxis": {
            "gridcolor": "white",
            "linecolor": "white",
            "ticks": ""
           }
          },
          "scene": {
           "xaxis": {
            "backgroundcolor": "#E5ECF6",
            "gridcolor": "white",
            "gridwidth": 2,
            "linecolor": "white",
            "showbackground": true,
            "ticks": "",
            "zerolinecolor": "white"
           },
           "yaxis": {
            "backgroundcolor": "#E5ECF6",
            "gridcolor": "white",
            "gridwidth": 2,
            "linecolor": "white",
            "showbackground": true,
            "ticks": "",
            "zerolinecolor": "white"
           },
           "zaxis": {
            "backgroundcolor": "#E5ECF6",
            "gridcolor": "white",
            "gridwidth": 2,
            "linecolor": "white",
            "showbackground": true,
            "ticks": "",
            "zerolinecolor": "white"
           }
          },
          "shapedefaults": {
           "line": {
            "color": "#2a3f5f"
           }
          },
          "ternary": {
           "aaxis": {
            "gridcolor": "white",
            "linecolor": "white",
            "ticks": ""
           },
           "baxis": {
            "gridcolor": "white",
            "linecolor": "white",
            "ticks": ""
           },
           "bgcolor": "#E5ECF6",
           "caxis": {
            "gridcolor": "white",
            "linecolor": "white",
            "ticks": ""
           }
          },
          "title": {
           "x": 0.05
          },
          "xaxis": {
           "automargin": true,
           "gridcolor": "white",
           "linecolor": "white",
           "ticks": "",
           "title": {
            "standoff": 15
           },
           "zerolinecolor": "white",
           "zerolinewidth": 2
          },
          "yaxis": {
           "automargin": true,
           "gridcolor": "white",
           "linecolor": "white",
           "ticks": "",
           "title": {
            "standoff": 15
           },
           "zerolinecolor": "white",
           "zerolinewidth": 2
          }
         }
        },
        "title": {
         "text": "Selected Features Across Groups"
        },
        "width": 1200,
        "xaxis": {
         "anchor": "y",
         "domain": [
          0,
          0.2888888888888889
         ]
        },
        "xaxis2": {
         "anchor": "y2",
         "domain": [
          0.35555555555555557,
          0.6444444444444445
         ]
        },
        "xaxis3": {
         "anchor": "y3",
         "domain": [
          0.7111111111111111,
          1
         ]
        },
        "yaxis": {
         "anchor": "x",
         "domain": [
          0,
          1
         ]
        },
        "yaxis2": {
         "anchor": "x2",
         "domain": [
          0,
          1
         ]
        },
        "yaxis3": {
         "anchor": "x3",
         "domain": [
          0,
          1
         ]
        }
       }
      }
     },
     "metadata": {},
     "output_type": "display_data"
    },
    {
     "data": {
      "application/vnd.plotly.v1+json": {
       "config": {
        "plotlyServerURL": "https://plot.ly"
       },
       "data": [
        {
         "error_y": {
          "array": [
           0.5444742601275224,
           2.262036894290908,
           1.5233799379420432
          ],
          "type": "data",
          "visible": true
         },
         "marker": {
          "color": [
           "#636EFA",
           "#EF553B",
           "#00CC96"
          ],
          "line": {
           "color": "black",
           "width": 1
          }
         },
         "name": "Mean angle value - rhindlimb - knee (°)",
         "type": "bar",
         "x": [
          "healthy_left_B_run",
          "sick_left_C_run",
          "sick_left_E_run"
         ],
         "xaxis": "x",
         "y": [
          91.79139135127069,
          92.04278340823399,
          90.25835217811263
         ],
         "yaxis": "y"
        },
        {
         "marker": {
          "color": "black",
          "opacity": 0.5,
          "size": 6
         },
         "mode": "markers",
         "showlegend": false,
         "type": "scatter",
         "x": [
          "healthy_left_B_run",
          "healthy_left_B_run",
          "healthy_left_B_run",
          "healthy_left_B_run",
          "healthy_left_B_run",
          "healthy_left_B_run",
          "healthy_left_B_run",
          "healthy_left_B_run",
          "healthy_left_B_run",
          "healthy_left_B_run"
         ],
         "xaxis": "x",
         "y": {
          "bdata": "frxhVoXIVkAUEtjGgg1XQDbO2drhFVdAU9WIbpDnVkDyjd+Uvd9WQF72uSEKxVZAJ7dUqRniVkBzgIGzXCBXQGwm2m/WHldARcgzpe7gVkA=",
          "dtype": "f8"
         },
         "yaxis": "y"
        },
        {
         "marker": {
          "color": "black",
          "opacity": 0.5,
          "size": 6
         },
         "mode": "markers",
         "showlegend": false,
         "type": "scatter",
         "x": [
          "sick_left_C_run",
          "sick_left_C_run",
          "sick_left_C_run",
          "sick_left_C_run",
          "sick_left_C_run",
          "sick_left_C_run",
          "sick_left_C_run",
          "sick_left_C_run",
          "sick_left_C_run",
          "sick_left_C_run"
         ],
         "xaxis": "x",
         "y": {
          "bdata": "Oia9mMLiVkAYI/KG30hXQDZDnvvgJVdAylQfa0JZV0A2eDWKUARWQM308H9jIVdAe0p0Um6EVkA9iGVdgXJXQBsu7vHm7VdAv6HYbxFmVkA=",
          "dtype": "f8"
         },
         "yaxis": "y"
        },
        {
         "marker": {
          "color": "black",
          "opacity": 0.5,
          "size": 6
         },
         "mode": "markers",
         "showlegend": false,
         "type": "scatter",
         "x": [
          "sick_left_E_run",
          "sick_left_E_run",
          "sick_left_E_run",
          "sick_left_E_run",
          "sick_left_E_run",
          "sick_left_E_run",
          "sick_left_E_run",
          "sick_left_E_run",
          "sick_left_E_run",
          "sick_left_E_run"
         ],
         "xaxis": "x",
         "y": {
          "bdata": "JZojOHC3VkAIKduzSqZWQNNa9LsYDVdAOuAe4bRPVkDWzDWiqo5WQCttIJ9RpVZA1icgmcfeVkCsdyAtxZlWQBxFfQybnFZAZ3+XzquhVUA=",
          "dtype": "f8"
         },
         "yaxis": "y"
        },
        {
         "error_y": {
          "array": [
           0.13829038762696225,
           0.055468073392555134,
           0.1046776559604696
          ],
          "type": "data",
          "visible": true
         },
         "marker": {
          "color": [
           "#636EFA",
           "#EF553B",
           "#00CC96"
          ],
          "line": {
           "color": "black",
           "width": 1
          }
         },
         "name": "Mean step acceleration Y during swing - spine 3 std",
         "type": "bar",
         "x": [
          "healthy_left_B_run",
          "sick_left_C_run",
          "sick_left_E_run"
         ],
         "xaxis": "x2",
         "y": [
          0.2837832485648659,
          0.22839981137800444,
          0.206129655607849
         ],
         "yaxis": "y2"
        },
        {
         "marker": {
          "color": "black",
          "opacity": 0.5,
          "size": 6
         },
         "mode": "markers",
         "showlegend": false,
         "type": "scatter",
         "x": [
          "healthy_left_B_run",
          "healthy_left_B_run",
          "healthy_left_B_run",
          "healthy_left_B_run",
          "healthy_left_B_run",
          "healthy_left_B_run",
          "healthy_left_B_run",
          "healthy_left_B_run",
          "healthy_left_B_run",
          "healthy_left_B_run"
         ],
         "xaxis": "x2",
         "y": {
          "bdata": "Mq7tnUxzuj/FrPa+S6XYP13FkWe4YNA/WDVuch1yxT8xK1Cxu9HdP8pioerAq8M/yaV8Ihuiwz9ssilDGYbeP3EPoJTPh9I/KeF0jpO82D8=",
          "dtype": "f8"
         },
         "yaxis": "y2"
        },
        {
         "marker": {
          "color": "black",
          "opacity": 0.5,
          "size": 6
         },
         "mode": "markers",
         "showlegend": false,
         "type": "scatter",
         "x": [
          "sick_left_C_run",
          "sick_left_C_run",
          "sick_left_C_run",
          "sick_left_C_run",
          "sick_left_C_run",
          "sick_left_C_run",
          "sick_left_C_run",
          "sick_left_C_run",
          "sick_left_C_run",
          "sick_left_C_run"
         ],
         "xaxis": "x2",
         "y": {
          "bdata": "Cd72Q0560D8VWxoyrM7BP+fHMwLWhs0/G+50kSJAyz8v55Ok8TjQP+xAHqVOEtI/9KbLAxqfwj+QyAAFb7vQP+nxIEGklNM/5JRDaAr6yD8=",
          "dtype": "f8"
         },
         "yaxis": "y2"
        },
        {
         "marker": {
          "color": "black",
          "opacity": 0.5,
          "size": 6
         },
         "mode": "markers",
         "showlegend": false,
         "type": "scatter",
         "x": [
          "sick_left_E_run",
          "sick_left_E_run",
          "sick_left_E_run",
          "sick_left_E_run",
          "sick_left_E_run",
          "sick_left_E_run",
          "sick_left_E_run",
          "sick_left_E_run",
          "sick_left_E_run",
          "sick_left_E_run"
         ],
         "xaxis": "x2",
         "y": {
          "bdata": "mMXTB3MowT/aWPnUdKrQP25rLlRl0rk/TSRMgp5S1T/f7qLGj9OzP3cQpFtN3r8/BGLOXISR0j+F1FhTdozUP7u3QDzISbw//5vpK37J0z8=",
          "dtype": "f8"
         },
         "yaxis": "y2"
        }
       ],
       "layout": {
        "annotations": [
         {
          "font": {
           "size": 16
          },
          "showarrow": false,
          "text": "angle value knee (°)",
          "x": 0.225,
          "xanchor": "center",
          "xref": "paper",
          "y": 1,
          "yanchor": "bottom",
          "yref": "paper"
         },
         {
          "font": {
           "size": 16
          },
          "showarrow": false,
          "text": "step acceleration Y during swing - spine 3 std",
          "x": 0.775,
          "xanchor": "center",
          "xref": "paper",
          "y": 1,
          "yanchor": "bottom",
          "yref": "paper"
         }
        ],
        "height": 500,
        "plot_bgcolor": "rgba(0,0,0,0)",
        "showlegend": false,
        "template": {
         "data": {
          "bar": [
           {
            "error_x": {
             "color": "#2a3f5f"
            },
            "error_y": {
             "color": "#2a3f5f"
            },
            "marker": {
             "line": {
              "color": "#E5ECF6",
              "width": 0.5
             },
             "pattern": {
              "fillmode": "overlay",
              "size": 10,
              "solidity": 0.2
             }
            },
            "type": "bar"
           }
          ],
          "barpolar": [
           {
            "marker": {
             "line": {
              "color": "#E5ECF6",
              "width": 0.5
             },
             "pattern": {
              "fillmode": "overlay",
              "size": 10,
              "solidity": 0.2
             }
            },
            "type": "barpolar"
           }
          ],
          "carpet": [
           {
            "aaxis": {
             "endlinecolor": "#2a3f5f",
             "gridcolor": "white",
             "linecolor": "white",
             "minorgridcolor": "white",
             "startlinecolor": "#2a3f5f"
            },
            "baxis": {
             "endlinecolor": "#2a3f5f",
             "gridcolor": "white",
             "linecolor": "white",
             "minorgridcolor": "white",
             "startlinecolor": "#2a3f5f"
            },
            "type": "carpet"
           }
          ],
          "choropleth": [
           {
            "colorbar": {
             "outlinewidth": 0,
             "ticks": ""
            },
            "type": "choropleth"
           }
          ],
          "contour": [
           {
            "colorbar": {
             "outlinewidth": 0,
             "ticks": ""
            },
            "colorscale": [
             [
              0,
              "#0d0887"
             ],
             [
              0.1111111111111111,
              "#46039f"
             ],
             [
              0.2222222222222222,
              "#7201a8"
             ],
             [
              0.3333333333333333,
              "#9c179e"
             ],
             [
              0.4444444444444444,
              "#bd3786"
             ],
             [
              0.5555555555555556,
              "#d8576b"
             ],
             [
              0.6666666666666666,
              "#ed7953"
             ],
             [
              0.7777777777777778,
              "#fb9f3a"
             ],
             [
              0.8888888888888888,
              "#fdca26"
             ],
             [
              1,
              "#f0f921"
             ]
            ],
            "type": "contour"
           }
          ],
          "contourcarpet": [
           {
            "colorbar": {
             "outlinewidth": 0,
             "ticks": ""
            },
            "type": "contourcarpet"
           }
          ],
          "heatmap": [
           {
            "colorbar": {
             "outlinewidth": 0,
             "ticks": ""
            },
            "colorscale": [
             [
              0,
              "#0d0887"
             ],
             [
              0.1111111111111111,
              "#46039f"
             ],
             [
              0.2222222222222222,
              "#7201a8"
             ],
             [
              0.3333333333333333,
              "#9c179e"
             ],
             [
              0.4444444444444444,
              "#bd3786"
             ],
             [
              0.5555555555555556,
              "#d8576b"
             ],
             [
              0.6666666666666666,
              "#ed7953"
             ],
             [
              0.7777777777777778,
              "#fb9f3a"
             ],
             [
              0.8888888888888888,
              "#fdca26"
             ],
             [
              1,
              "#f0f921"
             ]
            ],
            "type": "heatmap"
           }
          ],
          "histogram": [
           {
            "marker": {
             "pattern": {
              "fillmode": "overlay",
              "size": 10,
              "solidity": 0.2
             }
            },
            "type": "histogram"
           }
          ],
          "histogram2d": [
           {
            "colorbar": {
             "outlinewidth": 0,
             "ticks": ""
            },
            "colorscale": [
             [
              0,
              "#0d0887"
             ],
             [
              0.1111111111111111,
              "#46039f"
             ],
             [
              0.2222222222222222,
              "#7201a8"
             ],
             [
              0.3333333333333333,
              "#9c179e"
             ],
             [
              0.4444444444444444,
              "#bd3786"
             ],
             [
              0.5555555555555556,
              "#d8576b"
             ],
             [
              0.6666666666666666,
              "#ed7953"
             ],
             [
              0.7777777777777778,
              "#fb9f3a"
             ],
             [
              0.8888888888888888,
              "#fdca26"
             ],
             [
              1,
              "#f0f921"
             ]
            ],
            "type": "histogram2d"
           }
          ],
          "histogram2dcontour": [
           {
            "colorbar": {
             "outlinewidth": 0,
             "ticks": ""
            },
            "colorscale": [
             [
              0,
              "#0d0887"
             ],
             [
              0.1111111111111111,
              "#46039f"
             ],
             [
              0.2222222222222222,
              "#7201a8"
             ],
             [
              0.3333333333333333,
              "#9c179e"
             ],
             [
              0.4444444444444444,
              "#bd3786"
             ],
             [
              0.5555555555555556,
              "#d8576b"
             ],
             [
              0.6666666666666666,
              "#ed7953"
             ],
             [
              0.7777777777777778,
              "#fb9f3a"
             ],
             [
              0.8888888888888888,
              "#fdca26"
             ],
             [
              1,
              "#f0f921"
             ]
            ],
            "type": "histogram2dcontour"
           }
          ],
          "mesh3d": [
           {
            "colorbar": {
             "outlinewidth": 0,
             "ticks": ""
            },
            "type": "mesh3d"
           }
          ],
          "parcoords": [
           {
            "line": {
             "colorbar": {
              "outlinewidth": 0,
              "ticks": ""
             }
            },
            "type": "parcoords"
           }
          ],
          "pie": [
           {
            "automargin": true,
            "type": "pie"
           }
          ],
          "scatter": [
           {
            "fillpattern": {
             "fillmode": "overlay",
             "size": 10,
             "solidity": 0.2
            },
            "type": "scatter"
           }
          ],
          "scatter3d": [
           {
            "line": {
             "colorbar": {
              "outlinewidth": 0,
              "ticks": ""
             }
            },
            "marker": {
             "colorbar": {
              "outlinewidth": 0,
              "ticks": ""
             }
            },
            "type": "scatter3d"
           }
          ],
          "scattercarpet": [
           {
            "marker": {
             "colorbar": {
              "outlinewidth": 0,
              "ticks": ""
             }
            },
            "type": "scattercarpet"
           }
          ],
          "scattergeo": [
           {
            "marker": {
             "colorbar": {
              "outlinewidth": 0,
              "ticks": ""
             }
            },
            "type": "scattergeo"
           }
          ],
          "scattergl": [
           {
            "marker": {
             "colorbar": {
              "outlinewidth": 0,
              "ticks": ""
             }
            },
            "type": "scattergl"
           }
          ],
          "scattermap": [
           {
            "marker": {
             "colorbar": {
              "outlinewidth": 0,
              "ticks": ""
             }
            },
            "type": "scattermap"
           }
          ],
          "scattermapbox": [
           {
            "marker": {
             "colorbar": {
              "outlinewidth": 0,
              "ticks": ""
             }
            },
            "type": "scattermapbox"
           }
          ],
          "scatterpolar": [
           {
            "marker": {
             "colorbar": {
              "outlinewidth": 0,
              "ticks": ""
             }
            },
            "type": "scatterpolar"
           }
          ],
          "scatterpolargl": [
           {
            "marker": {
             "colorbar": {
              "outlinewidth": 0,
              "ticks": ""
             }
            },
            "type": "scatterpolargl"
           }
          ],
          "scatterternary": [
           {
            "marker": {
             "colorbar": {
              "outlinewidth": 0,
              "ticks": ""
             }
            },
            "type": "scatterternary"
           }
          ],
          "surface": [
           {
            "colorbar": {
             "outlinewidth": 0,
             "ticks": ""
            },
            "colorscale": [
             [
              0,
              "#0d0887"
             ],
             [
              0.1111111111111111,
              "#46039f"
             ],
             [
              0.2222222222222222,
              "#7201a8"
             ],
             [
              0.3333333333333333,
              "#9c179e"
             ],
             [
              0.4444444444444444,
              "#bd3786"
             ],
             [
              0.5555555555555556,
              "#d8576b"
             ],
             [
              0.6666666666666666,
              "#ed7953"
             ],
             [
              0.7777777777777778,
              "#fb9f3a"
             ],
             [
              0.8888888888888888,
              "#fdca26"
             ],
             [
              1,
              "#f0f921"
             ]
            ],
            "type": "surface"
           }
          ],
          "table": [
           {
            "cells": {
             "fill": {
              "color": "#EBF0F8"
             },
             "line": {
              "color": "white"
             }
            },
            "header": {
             "fill": {
              "color": "#C8D4E3"
             },
             "line": {
              "color": "white"
             }
            },
            "type": "table"
           }
          ]
         },
         "layout": {
          "annotationdefaults": {
           "arrowcolor": "#2a3f5f",
           "arrowhead": 0,
           "arrowwidth": 1
          },
          "autotypenumbers": "strict",
          "coloraxis": {
           "colorbar": {
            "outlinewidth": 0,
            "ticks": ""
           }
          },
          "colorscale": {
           "diverging": [
            [
             0,
             "#8e0152"
            ],
            [
             0.1,
             "#c51b7d"
            ],
            [
             0.2,
             "#de77ae"
            ],
            [
             0.3,
             "#f1b6da"
            ],
            [
             0.4,
             "#fde0ef"
            ],
            [
             0.5,
             "#f7f7f7"
            ],
            [
             0.6,
             "#e6f5d0"
            ],
            [
             0.7,
             "#b8e186"
            ],
            [
             0.8,
             "#7fbc41"
            ],
            [
             0.9,
             "#4d9221"
            ],
            [
             1,
             "#276419"
            ]
           ],
           "sequential": [
            [
             0,
             "#0d0887"
            ],
            [
             0.1111111111111111,
             "#46039f"
            ],
            [
             0.2222222222222222,
             "#7201a8"
            ],
            [
             0.3333333333333333,
             "#9c179e"
            ],
            [
             0.4444444444444444,
             "#bd3786"
            ],
            [
             0.5555555555555556,
             "#d8576b"
            ],
            [
             0.6666666666666666,
             "#ed7953"
            ],
            [
             0.7777777777777778,
             "#fb9f3a"
            ],
            [
             0.8888888888888888,
             "#fdca26"
            ],
            [
             1,
             "#f0f921"
            ]
           ],
           "sequentialminus": [
            [
             0,
             "#0d0887"
            ],
            [
             0.1111111111111111,
             "#46039f"
            ],
            [
             0.2222222222222222,
             "#7201a8"
            ],
            [
             0.3333333333333333,
             "#9c179e"
            ],
            [
             0.4444444444444444,
             "#bd3786"
            ],
            [
             0.5555555555555556,
             "#d8576b"
            ],
            [
             0.6666666666666666,
             "#ed7953"
            ],
            [
             0.7777777777777778,
             "#fb9f3a"
            ],
            [
             0.8888888888888888,
             "#fdca26"
            ],
            [
             1,
             "#f0f921"
            ]
           ]
          },
          "colorway": [
           "#636efa",
           "#EF553B",
           "#00cc96",
           "#ab63fa",
           "#FFA15A",
           "#19d3f3",
           "#FF6692",
           "#B6E880",
           "#FF97FF",
           "#FECB52"
          ],
          "font": {
           "color": "#2a3f5f"
          },
          "geo": {
           "bgcolor": "white",
           "lakecolor": "white",
           "landcolor": "#E5ECF6",
           "showlakes": true,
           "showland": true,
           "subunitcolor": "white"
          },
          "hoverlabel": {
           "align": "left"
          },
          "hovermode": "closest",
          "mapbox": {
           "style": "light"
          },
          "paper_bgcolor": "white",
          "plot_bgcolor": "#E5ECF6",
          "polar": {
           "angularaxis": {
            "gridcolor": "white",
            "linecolor": "white",
            "ticks": ""
           },
           "bgcolor": "#E5ECF6",
           "radialaxis": {
            "gridcolor": "white",
            "linecolor": "white",
            "ticks": ""
           }
          },
          "scene": {
           "xaxis": {
            "backgroundcolor": "#E5ECF6",
            "gridcolor": "white",
            "gridwidth": 2,
            "linecolor": "white",
            "showbackground": true,
            "ticks": "",
            "zerolinecolor": "white"
           },
           "yaxis": {
            "backgroundcolor": "#E5ECF6",
            "gridcolor": "white",
            "gridwidth": 2,
            "linecolor": "white",
            "showbackground": true,
            "ticks": "",
            "zerolinecolor": "white"
           },
           "zaxis": {
            "backgroundcolor": "#E5ECF6",
            "gridcolor": "white",
            "gridwidth": 2,
            "linecolor": "white",
            "showbackground": true,
            "ticks": "",
            "zerolinecolor": "white"
           }
          },
          "shapedefaults": {
           "line": {
            "color": "#2a3f5f"
           }
          },
          "ternary": {
           "aaxis": {
            "gridcolor": "white",
            "linecolor": "white",
            "ticks": ""
           },
           "baxis": {
            "gridcolor": "white",
            "linecolor": "white",
            "ticks": ""
           },
           "bgcolor": "#E5ECF6",
           "caxis": {
            "gridcolor": "white",
            "linecolor": "white",
            "ticks": ""
           }
          },
          "title": {
           "x": 0.05
          },
          "xaxis": {
           "automargin": true,
           "gridcolor": "white",
           "linecolor": "white",
           "ticks": "",
           "title": {
            "standoff": 15
           },
           "zerolinecolor": "white",
           "zerolinewidth": 2
          },
          "yaxis": {
           "automargin": true,
           "gridcolor": "white",
           "linecolor": "white",
           "ticks": "",
           "title": {
            "standoff": 15
           },
           "zerolinecolor": "white",
           "zerolinewidth": 2
          }
         }
        },
        "title": {
         "text": "Selected Features Across Groups"
        },
        "width": 800,
        "xaxis": {
         "anchor": "y",
         "domain": [
          0,
          0.45
         ]
        },
        "xaxis2": {
         "anchor": "y2",
         "domain": [
          0.55,
          1
         ]
        },
        "yaxis": {
         "anchor": "x",
         "domain": [
          0,
          1
         ]
        },
        "yaxis2": {
         "anchor": "x2",
         "domain": [
          0,
          1
         ]
        }
       }
      }
     },
     "metadata": {},
     "output_type": "display_data"
    }
   ],
   "source": [
    "lesion_improved_feature_list = improving_lesion_anova_df\n",
    "lesion_worsened_feature_list = worsening_lesion_anova_df\n",
    "treatment_improved_feature_list = improving_treatment_anova_df\n",
    "treatment_worsened_feature_list = worsening_treatment_anova_df\n",
    "improving_both_feature_list = improving_both\n",
    "worsening_both_feature_list = worsening_both\n",
    "\n",
    "# to_plot = (lesion_improved_feature_list, lesion_worsened_feature_list, treatment_improved_feature_list, treatment_worsened_feature_list, improving_both_feature_list, worsening_both_feature_list)\n",
    "to_plot = (improving_both_feature_list, worsening_both_feature_list)\n",
    "\n",
    "## look only at cherry picked features\n",
    "hindlimb_features = {\n",
    "    'lesion_improved': [],\n",
    "    'lesion_worsened': [],\n",
    "    'treatment_improved': [],\n",
    "    'treatment_worsened': []\n",
    "}\n",
    "for i, f_list in enumerate(to_plot):\n",
    "    cols = f_list['Feature'].str.lower()\n",
    "    hindlimb_mask = cols.str.lower().str.contains('hindlimb', case=False)\n",
    "    step_mask = cols.str.lower().str.contains('step', case=False) & ~cols.str.contains('/s', case=False)\n",
    "    limb_mask = cols.str.lower().str.contains('hindpaw|hindfinger|knee|ankle|hip', case=False)\n",
    "    meta_mask = cols.str.lower().str.contains('dataset|mouse', case=False)\n",
    "    final_mask = hindlimb_mask | step_mask | meta_mask | limb_mask\n",
    "\n",
    "    f_list = f_list.loc[final_mask, :]\n",
    "    hindlimb_features[list(hindlimb_features.keys())[i]].extend(f_list['Feature'].tolist())\n",
    "\n",
    "    fig = plot_features_list_across_groups(f_list['Feature'].tolist(), feature_subsets, limb='hindlimb',\n",
    "                                     groups=['healthy_left_B_', 'sick_left_C_', 'sick_left_E_'])\n",
    "    # fig.write_image(os.path.join('./', f'features_{list(hindlimb_features.keys())[i]}.svg'))\n",
    "    fig.show()\n"
   ]
  },
  {
   "cell_type": "code",
   "execution_count": null,
   "id": "4606314e",
   "metadata": {},
   "outputs": [
    {
     "name": "stdout",
     "output_type": "stream",
     "text": [
      "Number of significant features that describe the lesion (ALL pre vs B & C post): 256\n",
      "Number of significant lesion features that improve: 144. Average effect size: 0.36\n",
      "Number of significant lesion features that worsen: 112. Average effect size: -0.35\n",
      "----------------------------------------\n",
      "Number of significant features that describe the treatment effect (B & C post vs E post): 158\n",
      "Number of significant treatment features that improve: 42. Average effect size: 0.35\n",
      "Number of significant treatment features that worsen: 116. Average effect size: -0.52\n",
      "----------------------------------------\n",
      "----------------------------------------\n",
      "Number of intersecting features between the two comparisons: 30\n",
      "Number of intersecting features that improve: 13\n",
      "Number of intersecting features that worsen: 17\n"
     ]
    },
    {
     "data": {
      "image/png": "[encoded data removed]",
      "text/plain": [
       "<Figure size 640x480 with 1 Axes>"
      ]
     },
     "metadata": {},
     "output_type": "display_data"
    },
    {
     "data": {
      "application/vnd.plotly.v1+json": {
       "config": {
        "plotlyServerURL": "https://plot.ly"
       },
       "data": [
        {
         "labels": [
          "Improving Lesion Features",
          "Worsening Lesion Features",
          "Non-Lesion Features"
         ],
         "marker": {
          "colors": [
           "green",
           "red",
           "grey"
          ],
          "line": {
           "color": "black",
           "width": 1
          }
         },
         "pull": [
          0,
          0,
          0.2
         ],
         "type": "pie",
         "values": [
          144,
          112,
          2424
         ]
        }
       ],
       "layout": {
        "height": 400,
        "legend": {
         "title": {
          "font": {
           "size": 18
          },
          "text": "Feature Types"
         }
        },
        "template": {
         "data": {
          "bar": [
           {
            "error_x": {
             "color": "#2a3f5f"
            },
            "error_y": {
             "color": "#2a3f5f"
            },
            "marker": {
             "line": {
              "color": "#E5ECF6",
              "width": 0.5
             },
             "pattern": {
              "fillmode": "overlay",
              "size": 10,
              "solidity": 0.2
             }
            },
            "type": "bar"
           }
          ],
          "barpolar": [
           {
            "marker": {
             "line": {
              "color": "#E5ECF6",
              "width": 0.5
             },
             "pattern": {
              "fillmode": "overlay",
              "size": 10,
              "solidity": 0.2
             }
            },
            "type": "barpolar"
           }
          ],
          "carpet": [
           {
            "aaxis": {
             "endlinecolor": "#2a3f5f",
             "gridcolor": "white",
             "linecolor": "white",
             "minorgridcolor": "white",
             "startlinecolor": "#2a3f5f"
            },
            "baxis": {
             "endlinecolor": "#2a3f5f",
             "gridcolor": "white",
             "linecolor": "white",
             "minorgridcolor": "white",
             "startlinecolor": "#2a3f5f"
            },
            "type": "carpet"
           }
          ],
          "choropleth": [
           {
            "colorbar": {
             "outlinewidth": 0,
             "ticks": ""
            },
            "type": "choropleth"
           }
          ],
          "contour": [
           {
            "colorbar": {
             "outlinewidth": 0,
             "ticks": ""
            },
            "colorscale": [
             [
              0,
              "#0d0887"
             ],
             [
              0.1111111111111111,
              "#46039f"
             ],
             [
              0.2222222222222222,
              "#7201a8"
             ],
             [
              0.3333333333333333,
              "#9c179e"
             ],
             [
              0.4444444444444444,
              "#bd3786"
             ],
             [
              0.5555555555555556,
              "#d8576b"
             ],
             [
              0.6666666666666666,
              "#ed7953"
             ],
             [
              0.7777777777777778,
              "#fb9f3a"
             ],
             [
              0.8888888888888888,
              "#fdca26"
             ],
             [
              1,
              "#f0f921"
             ]
            ],
            "type": "contour"
           }
          ],
          "contourcarpet": [
           {
            "colorbar": {
             "outlinewidth": 0,
             "ticks": ""
            },
            "type": "contourcarpet"
           }
          ],
          "heatmap": [
           {
            "colorbar": {
             "outlinewidth": 0,
             "ticks": ""
            },
            "colorscale": [
             [
              0,
              "#0d0887"
             ],
             [
              0.1111111111111111,
              "#46039f"
             ],
             [
              0.2222222222222222,
              "#7201a8"
             ],
             [
              0.3333333333333333,
              "#9c179e"
             ],
             [
              0.4444444444444444,
              "#bd3786"
             ],
             [
              0.5555555555555556,
              "#d8576b"
             ],
             [
              0.6666666666666666,
              "#ed7953"
             ],
             [
              0.7777777777777778,
              "#fb9f3a"
             ],
             [
              0.8888888888888888,
              "#fdca26"
             ],
             [
              1,
              "#f0f921"
             ]
            ],
            "type": "heatmap"
           }
          ],
          "histogram": [
           {
            "marker": {
             "pattern": {
              "fillmode": "overlay",
              "size": 10,
              "solidity": 0.2
             }
            },
            "type": "histogram"
           }
          ],
          "histogram2d": [
           {
            "colorbar": {
             "outlinewidth": 0,
             "ticks": ""
            },
            "colorscale": [
             [
              0,
              "#0d0887"
             ],
             [
              0.1111111111111111,
              "#46039f"
             ],
             [
              0.2222222222222222,
              "#7201a8"
             ],
             [
              0.3333333333333333,
              "#9c179e"
             ],
             [
              0.4444444444444444,
              "#bd3786"
             ],
             [
              0.5555555555555556,
              "#d8576b"
             ],
             [
              0.6666666666666666,
              "#ed7953"
             ],
             [
              0.7777777777777778,
              "#fb9f3a"
             ],
             [
              0.8888888888888888,
              "#fdca26"
             ],
             [
              1,
              "#f0f921"
             ]
            ],
            "type": "histogram2d"
           }
          ],
          "histogram2dcontour": [
           {
            "colorbar": {
             "outlinewidth": 0,
             "ticks": ""
            },
            "colorscale": [
             [
              0,
              "#0d0887"
             ],
             [
              0.1111111111111111,
              "#46039f"
             ],
             [
              0.2222222222222222,
              "#7201a8"
             ],
             [
              0.3333333333333333,
              "#9c179e"
             ],
             [
              0.4444444444444444,
              "#bd3786"
             ],
             [
              0.5555555555555556,
              "#d8576b"
             ],
             [
              0.6666666666666666,
              "#ed7953"
             ],
             [
              0.7777777777777778,
              "#fb9f3a"
             ],
             [
              0.8888888888888888,
              "#fdca26"
             ],
             [
              1,
              "#f0f921"
             ]
            ],
            "type": "histogram2dcontour"
           }
          ],
          "mesh3d": [
           {
            "colorbar": {
             "outlinewidth": 0,
             "ticks": ""
            },
            "type": "mesh3d"
           }
          ],
          "parcoords": [
           {
            "line": {
             "colorbar": {
              "outlinewidth": 0,
              "ticks": ""
             }
            },
            "type": "parcoords"
           }
          ],
          "pie": [
           {
            "automargin": true,
            "type": "pie"
           }
          ],
          "scatter": [
           {
            "fillpattern": {
             "fillmode": "overlay",
             "size": 10,
             "solidity": 0.2
            },
            "type": "scatter"
           }
          ],
          "scatter3d": [
           {
            "line": {
             "colorbar": {
              "outlinewidth": 0,
              "ticks": ""
             }
            },
            "marker": {
             "colorbar": {
              "outlinewidth": 0,
              "ticks": ""
             }
            },
            "type": "scatter3d"
           }
          ],
          "scattercarpet": [
           {
            "marker": {
             "colorbar": {
              "outlinewidth": 0,
              "ticks": ""
             }
            },
            "type": "scattercarpet"
           }
          ],
          "scattergeo": [
           {
            "marker": {
             "colorbar": {
              "outlinewidth": 0,
              "ticks": ""
             }
            },
            "type": "scattergeo"
           }
          ],
          "scattergl": [
           {
            "marker": {
             "colorbar": {
              "outlinewidth": 0,
              "ticks": ""
             }
            },
            "type": "scattergl"
           }
          ],
          "scattermap": [
           {
            "marker": {
             "colorbar": {
              "outlinewidth": 0,
              "ticks": ""
             }
            },
            "type": "scattermap"
           }
          ],
          "scattermapbox": [
           {
            "marker": {
             "colorbar": {
              "outlinewidth": 0,
              "ticks": ""
             }
            },
            "type": "scattermapbox"
           }
          ],
          "scatterpolar": [
           {
            "marker": {
             "colorbar": {
              "outlinewidth": 0,
              "ticks": ""
             }
            },
            "type": "scatterpolar"
           }
          ],
          "scatterpolargl": [
           {
            "marker": {
             "colorbar": {
              "outlinewidth": 0,
              "ticks": ""
             }
            },
            "type": "scatterpolargl"
           }
          ],
          "scatterternary": [
           {
            "marker": {
             "colorbar": {
              "outlinewidth": 0,
              "ticks": ""
             }
            },
            "type": "scatterternary"
           }
          ],
          "surface": [
           {
            "colorbar": {
             "outlinewidth": 0,
             "ticks": ""
            },
            "colorscale": [
             [
              0,
              "#0d0887"
             ],
             [
              0.1111111111111111,
              "#46039f"
             ],
             [
              0.2222222222222222,
              "#7201a8"
             ],
             [
              0.3333333333333333,
              "#9c179e"
             ],
             [
              0.4444444444444444,
              "#bd3786"
             ],
             [
              0.5555555555555556,
              "#d8576b"
             ],
             [
              0.6666666666666666,
              "#ed7953"
             ],
             [
              0.7777777777777778,
              "#fb9f3a"
             ],
             [
              0.8888888888888888,
              "#fdca26"
             ],
             [
              1,
              "#f0f921"
             ]
            ],
            "type": "surface"
           }
          ],
          "table": [
           {
            "cells": {
             "fill": {
              "color": "#EBF0F8"
             },
             "line": {
              "color": "white"
             }
            },
            "header": {
             "fill": {
              "color": "#C8D4E3"
             },
             "line": {
              "color": "white"
             }
            },
            "type": "table"
           }
          ]
         },
         "layout": {
          "annotationdefaults": {
           "arrowcolor": "#2a3f5f",
           "arrowhead": 0,
           "arrowwidth": 1
          },
          "autotypenumbers": "strict",
          "coloraxis": {
           "colorbar": {
            "outlinewidth": 0,
            "ticks": ""
           }
          },
          "colorscale": {
           "diverging": [
            [
             0,
             "#8e0152"
            ],
            [
             0.1,
             "#c51b7d"
            ],
            [
             0.2,
             "#de77ae"
            ],
            [
             0.3,
             "#f1b6da"
            ],
            [
             0.4,
             "#fde0ef"
            ],
            [
             0.5,
             "#f7f7f7"
            ],
            [
             0.6,
             "#e6f5d0"
            ],
            [
             0.7,
             "#b8e186"
            ],
            [
             0.8,
             "#7fbc41"
            ],
            [
             0.9,
             "#4d9221"
            ],
            [
             1,
             "#276419"
            ]
           ],
           "sequential": [
            [
             0,
             "#0d0887"
            ],
            [
             0.1111111111111111,
             "#46039f"
            ],
            [
             0.2222222222222222,
             "#7201a8"
            ],
            [
             0.3333333333333333,
             "#9c179e"
            ],
            [
             0.4444444444444444,
             "#bd3786"
            ],
            [
             0.5555555555555556,
             "#d8576b"
            ],
            [
             0.6666666666666666,
             "#ed7953"
            ],
            [
             0.7777777777777778,
             "#fb9f3a"
            ],
            [
             0.8888888888888888,
             "#fdca26"
            ],
            [
             1,
             "#f0f921"
            ]
           ],
           "sequentialminus": [
            [
             0,
             "#0d0887"
            ],
            [
             0.1111111111111111,
             "#46039f"
            ],
            [
             0.2222222222222222,
             "#7201a8"
            ],
            [
             0.3333333333333333,
             "#9c179e"
            ],
            [
             0.4444444444444444,
             "#bd3786"
            ],
            [
             0.5555555555555556,
             "#d8576b"
            ],
            [
             0.6666666666666666,
             "#ed7953"
            ],
            [
             0.7777777777777778,
             "#fb9f3a"
            ],
            [
             0.8888888888888888,
             "#fdca26"
            ],
            [
             1,
             "#f0f921"
            ]
           ]
          },
          "colorway": [
           "#636efa",
           "#EF553B",
           "#00cc96",
           "#ab63fa",
           "#FFA15A",
           "#19d3f3",
           "#FF6692",
           "#B6E880",
           "#FF97FF",
           "#FECB52"
          ],
          "font": {
           "color": "#2a3f5f"
          },
          "geo": {
           "bgcolor": "white",
           "lakecolor": "white",
           "landcolor": "#E5ECF6",
           "showlakes": true,
           "showland": true,
           "subunitcolor": "white"
          },
          "hoverlabel": {
           "align": "left"
          },
          "hovermode": "closest",
          "mapbox": {
           "style": "light"
          },
          "paper_bgcolor": "white",
          "plot_bgcolor": "#E5ECF6",
          "polar": {
           "angularaxis": {
            "gridcolor": "white",
            "linecolor": "white",
            "ticks": ""
           },
           "bgcolor": "#E5ECF6",
           "radialaxis": {
            "gridcolor": "white",
            "linecolor": "white",
            "ticks": ""
           }
          },
          "scene": {
           "xaxis": {
            "backgroundcolor": "#E5ECF6",
            "gridcolor": "white",
            "gridwidth": 2,
            "linecolor": "white",
            "showbackground": true,
            "ticks": "",
            "zerolinecolor": "white"
           },
           "yaxis": {
            "backgroundcolor": "#E5ECF6",
            "gridcolor": "white",
            "gridwidth": 2,
            "linecolor": "white",
            "showbackground": true,
            "ticks": "",
            "zerolinecolor": "white"
           },
           "zaxis": {
            "backgroundcolor": "#E5ECF6",
            "gridcolor": "white",
            "gridwidth": 2,
            "linecolor": "white",
            "showbackground": true,
            "ticks": "",
            "zerolinecolor": "white"
           }
          },
          "shapedefaults": {
           "line": {
            "color": "#2a3f5f"
           }
          },
          "ternary": {
           "aaxis": {
            "gridcolor": "white",
            "linecolor": "white",
            "ticks": ""
           },
           "baxis": {
            "gridcolor": "white",
            "linecolor": "white",
            "ticks": ""
           },
           "bgcolor": "#E5ECF6",
           "caxis": {
            "gridcolor": "white",
            "linecolor": "white",
            "ticks": ""
           }
          },
          "title": {
           "x": 0.05
          },
          "xaxis": {
           "automargin": true,
           "gridcolor": "white",
           "linecolor": "white",
           "ticks": "",
           "title": {
            "standoff": 15
           },
           "zerolinecolor": "white",
           "zerolinewidth": 2
          },
          "yaxis": {
           "automargin": true,
           "gridcolor": "white",
           "linecolor": "white",
           "ticks": "",
           "title": {
            "standoff": 15
           },
           "zerolinecolor": "white",
           "zerolinewidth": 2
          }
         }
        },
        "title": {
         "font": {
          "size": 24
         },
         "text": "Lesion Feature Distribution (ANOVA)"
        },
        "width": 600
       }
      }
     },
     "metadata": {},
     "output_type": "display_data"
    },
    {
     "data": {
      "application/vnd.plotly.v1+json": {
       "config": {
        "plotlyServerURL": "https://plot.ly"
       },
       "data": [
        {
         "labels": [
          "Improving Treatment Features",
          "Worsening Treatment Features",
          "Non-Lesion Features"
         ],
         "marker": {
          "colors": [
           "green",
           "red",
           "grey"
          ],
          "line": {
           "color": "black",
           "width": 1
          }
         },
         "pull": [
          0,
          0,
          0.2
         ],
         "type": "pie",
         "values": [
          42,
          116,
          2424
         ]
        }
       ],
       "layout": {
        "height": 400,
        "legend": {
         "title": {
          "font": {
           "size": 18
          },
          "text": "Feature Types"
         }
        },
        "template": {
         "data": {
          "bar": [
           {
            "error_x": {
             "color": "#2a3f5f"
            },
            "error_y": {
             "color": "#2a3f5f"
            },
            "marker": {
             "line": {
              "color": "#E5ECF6",
              "width": 0.5
             },
             "pattern": {
              "fillmode": "overlay",
              "size": 10,
              "solidity": 0.2
             }
            },
            "type": "bar"
           }
          ],
          "barpolar": [
           {
            "marker": {
             "line": {
              "color": "#E5ECF6",
              "width": 0.5
             },
             "pattern": {
              "fillmode": "overlay",
              "size": 10,
              "solidity": 0.2
             }
            },
            "type": "barpolar"
           }
          ],
          "carpet": [
           {
            "aaxis": {
             "endlinecolor": "#2a3f5f",
             "gridcolor": "white",
             "linecolor": "white",
             "minorgridcolor": "white",
             "startlinecolor": "#2a3f5f"
            },
            "baxis": {
             "endlinecolor": "#2a3f5f",
             "gridcolor": "white",
             "linecolor": "white",
             "minorgridcolor": "white",
             "startlinecolor": "#2a3f5f"
            },
            "type": "carpet"
           }
          ],
          "choropleth": [
           {
            "colorbar": {
             "outlinewidth": 0,
             "ticks": ""
            },
            "type": "choropleth"
           }
          ],
          "contour": [
           {
            "colorbar": {
             "outlinewidth": 0,
             "ticks": ""
            },
            "colorscale": [
             [
              0,
              "#0d0887"
             ],
             [
              0.1111111111111111,
              "#46039f"
             ],
             [
              0.2222222222222222,
              "#7201a8"
             ],
             [
              0.3333333333333333,
              "#9c179e"
             ],
             [
              0.4444444444444444,
              "#bd3786"
             ],
             [
              0.5555555555555556,
              "#d8576b"
             ],
             [
              0.6666666666666666,
              "#ed7953"
             ],
             [
              0.7777777777777778,
              "#fb9f3a"
             ],
             [
              0.8888888888888888,
              "#fdca26"
             ],
             [
              1,
              "#f0f921"
             ]
            ],
            "type": "contour"
           }
          ],
          "contourcarpet": [
           {
            "colorbar": {
             "outlinewidth": 0,
             "ticks": ""
            },
            "type": "contourcarpet"
           }
          ],
          "heatmap": [
           {
            "colorbar": {
             "outlinewidth": 0,
             "ticks": ""
            },
            "colorscale": [
             [
              0,
              "#0d0887"
             ],
             [
              0.1111111111111111,
              "#46039f"
             ],
             [
              0.2222222222222222,
              "#7201a8"
             ],
             [
              0.3333333333333333,
              "#9c179e"
             ],
             [
              0.4444444444444444,
              "#bd3786"
             ],
             [
              0.5555555555555556,
              "#d8576b"
             ],
             [
              0.6666666666666666,
              "#ed7953"
             ],
             [
              0.7777777777777778,
              "#fb9f3a"
             ],
             [
              0.8888888888888888,
              "#fdca26"
             ],
             [
              1,
              "#f0f921"
             ]
            ],
            "type": "heatmap"
           }
          ],
          "histogram": [
           {
            "marker": {
             "pattern": {
              "fillmode": "overlay",
              "size": 10,
              "solidity": 0.2
             }
            },
            "type": "histogram"
           }
          ],
          "histogram2d": [
           {
            "colorbar": {
             "outlinewidth": 0,
             "ticks": ""
            },
            "colorscale": [
             [
              0,
              "#0d0887"
             ],
             [
              0.1111111111111111,
              "#46039f"
             ],
             [
              0.2222222222222222,
              "#7201a8"
             ],
             [
              0.3333333333333333,
              "#9c179e"
             ],
             [
              0.4444444444444444,
              "#bd3786"
             ],
             [
              0.5555555555555556,
              "#d8576b"
             ],
             [
              0.6666666666666666,
              "#ed7953"
             ],
             [
              0.7777777777777778,
              "#fb9f3a"
             ],
             [
              0.8888888888888888,
              "#fdca26"
             ],
             [
              1,
              "#f0f921"
             ]
            ],
            "type": "histogram2d"
           }
          ],
          "histogram2dcontour": [
           {
            "colorbar": {
             "outlinewidth": 0,
             "ticks": ""
            },
            "colorscale": [
             [
              0,
              "#0d0887"
             ],
             [
              0.1111111111111111,
              "#46039f"
             ],
             [
              0.2222222222222222,
              "#7201a8"
             ],
             [
              0.3333333333333333,
              "#9c179e"
             ],
             [
              0.4444444444444444,
              "#bd3786"
             ],
             [
              0.5555555555555556,
              "#d8576b"
             ],
             [
              0.6666666666666666,
              "#ed7953"
             ],
             [
              0.7777777777777778,
              "#fb9f3a"
             ],
             [
              0.8888888888888888,
              "#fdca26"
             ],
             [
              1,
              "#f0f921"
             ]
            ],
            "type": "histogram2dcontour"
           }
          ],
          "mesh3d": [
           {
            "colorbar": {
             "outlinewidth": 0,
             "ticks": ""
            },
            "type": "mesh3d"
           }
          ],
          "parcoords": [
           {
            "line": {
             "colorbar": {
              "outlinewidth": 0,
              "ticks": ""
             }
            },
            "type": "parcoords"
           }
          ],
          "pie": [
           {
            "automargin": true,
            "type": "pie"
           }
          ],
          "scatter": [
           {
            "fillpattern": {
             "fillmode": "overlay",
             "size": 10,
             "solidity": 0.2
            },
            "type": "scatter"
           }
          ],
          "scatter3d": [
           {
            "line": {
             "colorbar": {
              "outlinewidth": 0,
              "ticks": ""
             }
            },
            "marker": {
             "colorbar": {
              "outlinewidth": 0,
              "ticks": ""
             }
            },
            "type": "scatter3d"
           }
          ],
          "scattercarpet": [
           {
            "marker": {
             "colorbar": {
              "outlinewidth": 0,
              "ticks": ""
             }
            },
            "type": "scattercarpet"
           }
          ],
          "scattergeo": [
           {
            "marker": {
             "colorbar": {
              "outlinewidth": 0,
              "ticks": ""
             }
            },
            "type": "scattergeo"
           }
          ],
          "scattergl": [
           {
            "marker": {
             "colorbar": {
              "outlinewidth": 0,
              "ticks": ""
             }
            },
            "type": "scattergl"
           }
          ],
          "scattermap": [
           {
            "marker": {
             "colorbar": {
              "outlinewidth": 0,
              "ticks": ""
             }
            },
            "type": "scattermap"
           }
          ],
          "scattermapbox": [
           {
            "marker": {
             "colorbar": {
              "outlinewidth": 0,
              "ticks": ""
             }
            },
            "type": "scattermapbox"
           }
          ],
          "scatterpolar": [
           {
            "marker": {
             "colorbar": {
              "outlinewidth": 0,
              "ticks": ""
             }
            },
            "type": "scatterpolar"
           }
          ],
          "scatterpolargl": [
           {
            "marker": {
             "colorbar": {
              "outlinewidth": 0,
              "ticks": ""
             }
            },
            "type": "scatterpolargl"
           }
          ],
          "scatterternary": [
           {
            "marker": {
             "colorbar": {
              "outlinewidth": 0,
              "ticks": ""
             }
            },
            "type": "scatterternary"
           }
          ],
          "surface": [
           {
            "colorbar": {
             "outlinewidth": 0,
             "ticks": ""
            },
            "colorscale": [
             [
              0,
              "#0d0887"
             ],
             [
              0.1111111111111111,
              "#46039f"
             ],
             [
              0.2222222222222222,
              "#7201a8"
             ],
             [
              0.3333333333333333,
              "#9c179e"
             ],
             [
              0.4444444444444444,
              "#bd3786"
             ],
             [
              0.5555555555555556,
              "#d8576b"
             ],
             [
              0.6666666666666666,
              "#ed7953"
             ],
             [
              0.7777777777777778,
              "#fb9f3a"
             ],
             [
              0.8888888888888888,
              "#fdca26"
             ],
             [
              1,
              "#f0f921"
             ]
            ],
            "type": "surface"
           }
          ],
          "table": [
           {
            "cells": {
             "fill": {
              "color": "#EBF0F8"
             },
             "line": {
              "color": "white"
             }
            },
            "header": {
             "fill": {
              "color": "#C8D4E3"
             },
             "line": {
              "color": "white"
             }
            },
            "type": "table"
           }
          ]
         },
         "layout": {
          "annotationdefaults": {
           "arrowcolor": "#2a3f5f",
           "arrowhead": 0,
           "arrowwidth": 1
          },
          "autotypenumbers": "strict",
          "coloraxis": {
           "colorbar": {
            "outlinewidth": 0,
            "ticks": ""
           }
          },
          "colorscale": {
           "diverging": [
            [
             0,
             "#8e0152"
            ],
            [
             0.1,
             "#c51b7d"
            ],
            [
             0.2,
             "#de77ae"
            ],
            [
             0.3,
             "#f1b6da"
            ],
            [
             0.4,
             "#fde0ef"
            ],
            [
             0.5,
             "#f7f7f7"
            ],
            [
             0.6,
             "#e6f5d0"
            ],
            [
             0.7,
             "#b8e186"
            ],
            [
             0.8,
             "#7fbc41"
            ],
            [
             0.9,
             "#4d9221"
            ],
            [
             1,
             "#276419"
            ]
           ],
           "sequential": [
            [
             0,
             "#0d0887"
            ],
            [
             0.1111111111111111,
             "#46039f"
            ],
            [
             0.2222222222222222,
             "#7201a8"
            ],
            [
             0.3333333333333333,
             "#9c179e"
            ],
            [
             0.4444444444444444,
             "#bd3786"
            ],
            [
             0.5555555555555556,
             "#d8576b"
            ],
            [
             0.6666666666666666,
             "#ed7953"
            ],
            [
             0.7777777777777778,
             "#fb9f3a"
            ],
            [
             0.8888888888888888,
             "#fdca26"
            ],
            [
             1,
             "#f0f921"
            ]
           ],
           "sequentialminus": [
            [
             0,
             "#0d0887"
            ],
            [
             0.1111111111111111,
             "#46039f"
            ],
            [
             0.2222222222222222,
             "#7201a8"
            ],
            [
             0.3333333333333333,
             "#9c179e"
            ],
            [
             0.4444444444444444,
             "#bd3786"
            ],
            [
             0.5555555555555556,
             "#d8576b"
            ],
            [
             0.6666666666666666,
             "#ed7953"
            ],
            [
             0.7777777777777778,
             "#fb9f3a"
            ],
            [
             0.8888888888888888,
             "#fdca26"
            ],
            [
             1,
             "#f0f921"
            ]
           ]
          },
          "colorway": [
           "#636efa",
           "#EF553B",
           "#00cc96",
           "#ab63fa",
           "#FFA15A",
           "#19d3f3",
           "#FF6692",
           "#B6E880",
           "#FF97FF",
           "#FECB52"
          ],
          "font": {
           "color": "#2a3f5f"
          },
          "geo": {
           "bgcolor": "white",
           "lakecolor": "white",
           "landcolor": "#E5ECF6",
           "showlakes": true,
           "showland": true,
           "subunitcolor": "white"
          },
          "hoverlabel": {
           "align": "left"
          },
          "hovermode": "closest",
          "mapbox": {
           "style": "light"
          },
          "paper_bgcolor": "white",
          "plot_bgcolor": "#E5ECF6",
          "polar": {
           "angularaxis": {
            "gridcolor": "white",
            "linecolor": "white",
            "ticks": ""
           },
           "bgcolor": "#E5ECF6",
           "radialaxis": {
            "gridcolor": "white",
            "linecolor": "white",
            "ticks": ""
           }
          },
          "scene": {
           "xaxis": {
            "backgroundcolor": "#E5ECF6",
            "gridcolor": "white",
            "gridwidth": 2,
            "linecolor": "white",
            "showbackground": true,
            "ticks": "",
            "zerolinecolor": "white"
           },
           "yaxis": {
            "backgroundcolor": "#E5ECF6",
            "gridcolor": "white",
            "gridwidth": 2,
            "linecolor": "white",
            "showbackground": true,
            "ticks": "",
            "zerolinecolor": "white"
           },
           "zaxis": {
            "backgroundcolor": "#E5ECF6",
            "gridcolor": "white",
            "gridwidth": 2,
            "linecolor": "white",
            "showbackground": true,
            "ticks": "",
            "zerolinecolor": "white"
           }
          },
          "shapedefaults": {
           "line": {
            "color": "#2a3f5f"
           }
          },
          "ternary": {
           "aaxis": {
            "gridcolor": "white",
            "linecolor": "white",
            "ticks": ""
           },
           "baxis": {
            "gridcolor": "white",
            "linecolor": "white",
            "ticks": ""
           },
           "bgcolor": "#E5ECF6",
           "caxis": {
            "gridcolor": "white",
            "linecolor": "white",
            "ticks": ""
           }
          },
          "title": {
           "x": 0.05
          },
          "xaxis": {
           "automargin": true,
           "gridcolor": "white",
           "linecolor": "white",
           "ticks": "",
           "title": {
            "standoff": 15
           },
           "zerolinecolor": "white",
           "zerolinewidth": 2
          },
          "yaxis": {
           "automargin": true,
           "gridcolor": "white",
           "linecolor": "white",
           "ticks": "",
           "title": {
            "standoff": 15
           },
           "zerolinecolor": "white",
           "zerolinewidth": 2
          }
         }
        },
        "title": {
         "font": {
          "size": 24
         },
         "text": "Treatment Feature Distribution (ANOVA)"
        },
        "width": 600
       }
      }
     },
     "metadata": {},
     "output_type": "display_data"
    }
   ],
   "source": [
    "### USING ANOVA PAIRWISE TEST \n",
    "lesion_anova_df = treatment_effect_df_expanded[treatment_effect_df_expanded['Significance All Healthy vs B Sick & C Sick'] != 'n.s.']\n",
    "print(f\"Number of significant features that describe the lesion (ALL pre vs B & C post): {lesion_anova_df.shape[0]}\")\n",
    "\n",
    "improving_lesion_anova_df = lesion_anova_df[lesion_anova_df['direction'] == 'towards_healthy']\n",
    "avg_improving_effect_size = improving_lesion_anova_df['change_effect_size'].mean()\n",
    "print(f\"Number of significant lesion features that improve: {improving_lesion_anova_df.shape[0]}. Average effect size: {avg_improving_effect_size:.2f}\")\n",
    "\n",
    "worsening_lesion_anova_df = lesion_anova_df[lesion_anova_df['direction'] == 'away_from_healthy']\n",
    "avg_worsening_effect_size = worsening_lesion_anova_df['change_effect_size'].mean()\n",
    "print(f\"Number of significant lesion features that worsen: {worsening_lesion_anova_df.shape[0]}. Average effect size: {avg_worsening_effect_size:.2f}\")\n",
    "\n",
    "\n",
    "print('-'*40)\n",
    "treatment_anova_df = treatment_effect_df_expanded[treatment_effect_df_expanded['Significance B Sick & C Sick vs E Treatment'] != 'n.s.']\n",
    "print(f\"Number of significant features that describe the treatment effect (B & C post vs E post): {treatment_anova_df.shape[0]}\")\n",
    "\n",
    "improving_treatment_anova_df = treatment_anova_df[treatment_anova_df['direction'] == 'towards_healthy']\n",
    "avg_improving_effect_size = improving_treatment_anova_df['change_effect_size'].mean()\n",
    "print(f\"Number of significant treatment features that improve: {improving_treatment_anova_df.shape[0]}. Average effect size: {avg_improving_effect_size:.2f}\")\n",
    "\n",
    "worsening_treatment_anova_df = treatment_anova_df[treatment_anova_df['direction'] == 'away_from_healthy']\n",
    "avg_worsening_effect_size = worsening_treatment_anova_df['change_effect_size'].mean()\n",
    "print(f\"Number of significant treatment features that worsen: {worsening_treatment_anova_df.shape[0]}. Average effect size: {avg_worsening_effect_size:.2f}\")\n",
    "\n",
    "print('-'*40)\n",
    "\n",
    "intersecting_features = set(treatment_anova_df['Feature']).intersection(set(lesion_anova_df['Feature']))\n",
    "\n",
    "print('-'*40)\n",
    "print(f\"Number of intersecting features between the two comparisons: {len(intersecting_features)}\")\n",
    "print(f\"Number of intersecting features that improve: {len(intersecting_features & set(improving_treatment_anova_df['Feature']))}\")\n",
    "print(f\"Number of intersecting features that worsen: {len(intersecting_features & set(worsening_treatment_anova_df['Feature']))}\")\n",
    "\n",
    "## Use a venn diagram to display the features\n",
    "venn2(subsets = (len(treatment_effect_df_expanded[treatment_effect_df_expanded['Significance All Healthy vs B Sick & C Sick'] != 'n.s.']), len(treatment_effect_df_expanded[treatment_effect_df_expanded['Significance B Sick & C Sick vs E Treatment'] != 'n.s.']), len(intersecting_features)),\n",
    "      set_labels = ('Lesion', \n",
    "                    'Treatment'),\n",
    "      set_colors=(\"red\",\n",
    "                  \"green\"),alpha=0.7)\n",
    "\n",
    "# add outline\n",
    "venn2_circles(subsets=(len(treatment_effect_df_expanded[treatment_effect_df_expanded['Significance All Healthy vs B Sick & C Sick'] != 'n.s.']), len(treatment_effect_df_expanded[treatment_effect_df_expanded['Significance B Sick & C Sick vs E Treatment'] != 'n.s.']), len(intersecting_features)))\n",
    "\n",
    "plt.title(\"Venn Diagram of Lesion and Treatment Features (ANOVA)\", fontsize=16)\n",
    "# plt.savefig(os.path.join('./', 'venn_diagram_lesion_treatment.svg'), dpi=300, bbox_inches='tight')\n",
    "plt.show()\n",
    "\n",
    "## Lesion Feature Distribution pie\n",
    "labels = (\"Improving Lesion Features\", \"Worsening Lesion Features\", \"Non-Lesion Features\")\n",
    "sizes = (\n",
    "    improving_lesion_anova_df.shape[0],\n",
    "    worsening_lesion_anova_df.shape[0],\n",
    "    treatment_effect_df_expanded[treatment_effect_df_expanded['Significance All Healthy vs B Sick & C Sick'] == 'n.s.'].shape[0]\n",
    ")\n",
    "lesion_fig = go.Figure(\n",
    "    data=[go.Pie(\n",
    "        labels=labels, \n",
    "        values=sizes, \n",
    "        pull=[0, 0, 0.2],\n",
    "        marker=dict(colors=['green', 'red', 'grey'], line=dict(color='black', width=1))\n",
    "        )]\n",
    ")\n",
    "lesion_fig.update_layout(\n",
    "    title_text=\"Lesion Feature Distribution (ANOVA)\",\n",
    "    title_font_size=24,\n",
    "    legend_title_text=\"Feature Types\",\n",
    "    legend_title_font_size=18,\n",
    "    height=400,\n",
    "    width=600,\n",
    ")\n",
    "\n",
    "# lesion_fig.write_image(os.path.join('./', 'lesion_feature_distribution.svg'))\n",
    "lesion_fig.show()\n",
    "\n",
    "## Treatment Feature Distribution pie\n",
    "labels = (\"Improving Treatment Features\", \"Worsening Treatment Features\", \"Non-Lesion Features\")\n",
    "sizes = (\n",
    "    improving_treatment_anova_df.shape[0],\n",
    "    worsening_treatment_anova_df.shape[0],\n",
    "    treatment_effect_df_expanded[treatment_effect_df_expanded['Significance All Healthy vs B Sick & C Sick'] == 'n.s.'].shape[0]\n",
    ")\n",
    "treatment_fig = go.Figure(\n",
    "    data=[go.Pie(\n",
    "        labels=labels,\n",
    "        values=sizes,\n",
    "        pull=[0, 0, 0.2],\n",
    "        marker=dict(colors=['green', 'red', 'grey'], line=dict(color='black', width=1))\n",
    "    )]\n",
    ")\n",
    "treatment_fig.update_layout(\n",
    "    title_text=\"Treatment Feature Distribution (ANOVA)\",\n",
    "    title_font_size=24,\n",
    "    legend_title_text=\"Feature Types\",\n",
    "    legend_title_font_size=18,\n",
    "    height=400,\n",
    "    width=600,\n",
    ")\n",
    "\n",
    "# treatment_fig.write_image(os.path.join('./', 'treatment_feature_distribution.svg'))\n",
    "treatment_fig.show()"
   ]
  }
 ],
 "metadata": {
  "kernelspec": {
   "display_name": ".venv",
   "language": "python",
   "name": "python3"
  },
  "language_info": {
   "codemirror_mode": {
    "name": "ipython",
    "version": 3
   },
   "file_extension": ".py",
   "mimetype": "text/x-python",
   "name": "python",
   "nbconvert_exporter": "python",
   "pygments_lexer": "ipython3",
   "version": "3.13.5"
  }
 },
 "nbformat": 4,
 "nbformat_minor": 5
}
