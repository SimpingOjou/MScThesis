{
 "cells": [
  {
   "cell_type": "markdown",
   "id": "785d16a0",
   "metadata": {},
   "source": [
    "# Analyzing time-dependent data"
   ]
  },
  {
   "cell_type": "code",
   "execution_count": null,
   "id": "5fcdeba5",
   "metadata": {},
   "outputs": [],
   "source": [
    "import os\n",
    "import pandas as pd\n",
    "import numpy as np\n",
    "import torch\n",
    "import plotly.express as px\n",
    "import plotly.graph_objs as go\n",
    "import plotly.colors\n",
    "from collections import defaultdict\n",
    "\n",
    "from sklearn.preprocessing import StandardScaler\n",
    "from umap import UMAP\n",
    "\n",
    "from src.ModelUtils import (load_model,\n",
    "                            train_model,\n",
    "                            save_model_losses,\n",
    "                            load_and_plot_losses)\n",
    "from src.DataUtils import (load_data_from_directory,\n",
    "                           segment_all_steps,\n",
    "                           steps_to_tensor,\n",
    "                           reshape_data)\n",
    "from src.Plot import (plot_step_trajectory, plot_trajectory,\n",
    "                      plot_animated_trajectory, plot_trajectory_with_joint_traces,\n",
    "                      compare_step_features_in_batches, plot_umap_from_step,\n",
    "                      plot_umap_all_steps, plot_mean_spatial_trajectory,\n",
    "                      compare_phase_aligned_average_single, compare_phase_aligned_average_xy,\n",
    "                      plot_phase_aligned_average_single, plot_phase_aligned_average_xy,\n",
    "                      plot_trajectory_with_joint_trace,\n",
    "                      compare_spatial_progression_over_time, compare_spatial_progression_xy_over_time,\n",
    "                      compare_spatial_angle_progression_over_time)"
   ]
  },
  {
   "cell_type": "code",
   "execution_count": null,
   "id": "d16e18c5",
   "metadata": {},
   "outputs": [],
   "source": [
    "## Directories and constants\n",
    "FIGURES_DIR = './figures/Pain'\n",
    "MODELS_DIR = './src/models'\n",
    "DATA_DIR = './csv/Pain_Plot_Features'\n",
    "DATASETS = ['A_', 'B_', 'C_', 'D_', 'E_']\n",
    "HEALTHY_KEY = 'pre'\n",
    "SICK_KEY = 'post'\n",
    "SIDE_KEY = ('left','right')\n",
    "\n",
    "## Hyperparameters and early stopping\n",
    "INPUT_DIM = None\n",
    "HIDDEN_DIM = 64\n",
    "LATENT_DIM = 16\n",
    "BATCH_SIZE = 32\n",
    "NUM_EPOCHS = 500\n",
    "LR = 1e-3\n",
    "PATIENCE = 50 # number of epochs to wait for improvement before stopping\n",
    "MIN_DELTA = 1e-4 # minimum change to qualify as an improvement\n",
    "BEST_MODEL_PATH = None#os.path.join(MODELS_DIR, 'lstm_VAE_no_first_last_20250609_121841.pt')\n",
    "\n",
    "## Plot constants\n",
    "SCATTER_SIZE = 6\n",
    "SCATTER_LINE_WIDTH = 1\n",
    "SCATTER_SYMBOL = 'circle'\n",
    "LEGEND_FONT_SIZE = 18\n",
    "TITLE_FONT_SIZE = 24\n",
    "AXIS_FONT_SIZE = 16\n",
    "AXIS_TITLE_FONT_SIZE = 20\n",
    "\n",
    "# Load the data\n",
    "data = load_data_from_directory(DATA_DIR)\n",
    "\n",
    "# Print the data structure\n",
    "for datagroup, mice in data.items():\n",
    "    print(f\"Group: {datagroup}\")\n",
    "    for mouse_direction, runs in mice.items():\n",
    "        print(f\"\\t{mouse_direction}: {len(runs)} runs with shapes: {[df.shape for df in runs.values()]}\")"
   ]
  },
  {
   "cell_type": "code",
   "execution_count": null,
   "id": "356a5e38",
   "metadata": {},
   "outputs": [],
   "source": [
    "# Print the features count\n",
    "for datagroup, mice in data.items():\n",
    "    for mouse_direction, runs in mice.items():\n",
    "        for run, df in runs.items():\n",
    "            print(f\"Number of features: {df.shape[1] + 1 - 4}\") # +1 bc of index, -4 to exclude frame, forestep, hindstep, and time\n",
    "            break\n",
    "        break\n",
    "    break"
   ]
  },
  {
   "cell_type": "code",
   "execution_count": null,
   "id": "246cc00d",
   "metadata": {},
   "outputs": [],
   "source": [
    "## Segment all steps in the data\n",
    "# This will create two dictionaries: segmented_hindsteps and segmented_foresteps\n",
    "# Each dictionary will contain segmented steps for each mouse direction and run\n",
    "    # \"step\": step_df,\n",
    "    # \"group\": group,\n",
    "    # \"mouse\": mouse,\n",
    "    # \"run\": run\n",
    "segmented_hindsteps, segmented_foresteps = segment_all_steps(data)\n",
    "\n",
    "reshaped_data = reshape_data(data) # reshape the data to have a single DataFrame for each mouse direction and run and access to the hindsteps and foresteps\n",
    "\n",
    "## Flatten all steps into a single array to compute global mean/std and get the scaler\n",
    "all_healthy_arrays = [step_dict[\"step\"].values for step_dict in segmented_hindsteps if HEALTHY_KEY in step_dict[\"group\"] and SIDE_KEY[0] in step_dict[\"mouse\"]]\n",
    "flat_data = np.vstack(all_healthy_arrays)\n",
    "\n",
    "scaler = StandardScaler()\n",
    "scaler = scaler.fit(flat_data)\n",
    "\n",
    "## Prepare the data for training\n",
    "healthy_steps = [s for s in segmented_hindsteps if HEALTHY_KEY in s[\"group\"] and SIDE_KEY[0] in s[\"mouse\"]]\n",
    "unhealthy_steps = [s for s in segmented_hindsteps if SICK_KEY in s[\"group\"] and SIDE_KEY[0] in s[\"mouse\"] and (DATASETS[2] in s[\"group\"])]\n",
    "step_tensor, lengths = steps_to_tensor(healthy_steps, scaler)\n",
    "if INPUT_DIM is None:\n",
    "    INPUT_DIM = step_tensor.shape[2]"
   ]
  },
  {
   "cell_type": "code",
   "execution_count": null,
   "id": "d85a4fd2",
   "metadata": {},
   "outputs": [],
   "source": [
    "print(f'Segmented dataframe shape: {segmented_hindsteps[0][\"step\"].shape}')\n",
    "#print(f'Averaged dataframe shhape: {averaged_hindsteps[0][\"step\"].shape}')\n",
    "print(f\"Step tensor shape: {step_tensor.shape}, \\nLengths shape: {lengths.shape}\")"
   ]
  },
  {
   "cell_type": "code",
   "execution_count": null,
   "id": "c4ccc747",
   "metadata": {},
   "outputs": [],
   "source": [
    "### Plot XY pose data\n",
    "HINDLIMB_KEY = 'hindlimb'\n",
    "FORELIMB_KEY = 'forelimb'\n",
    "SPINE_KEY = 'spine'\n",
    "TAIL_KEY = 'tail'\n",
    "POSE_KEY = 'pose'\n",
    "ANGLE_KEY = 'Angle'\n",
    "ALL_LIMBS = [HINDLIMB_KEY, FORELIMB_KEY, SPINE_KEY, TAIL_KEY]\n",
    "first_df = next(iter(segmented_hindsteps))[\"step\"]"
   ]
  },
  {
   "cell_type": "code",
   "execution_count": null,
   "id": "bf6d64f2",
   "metadata": {},
   "outputs": [],
   "source": [
    "## Extract poses for each limb\n",
    "hindlimb_keys = [key for key in first_df.columns if HINDLIMB_KEY in key and POSE_KEY in key]\n",
    "forelimb_keys = [key for key in first_df.columns if FORELIMB_KEY in key and POSE_KEY in key]\n",
    "spine_keys = [key for key in first_df.columns if SPINE_KEY in key and POSE_KEY in key]\n",
    "tail_keys = [key for key in first_df.columns if TAIL_KEY in key and POSE_KEY in key]\n",
    "\n",
    "all_limbs_keys = [hindlimb_keys, forelimb_keys, spine_keys, tail_keys]\n",
    "for limb in all_limbs_keys:\n",
    "    print(f\"Limbs poses: {limb}\")"
   ]
  },
  {
   "cell_type": "code",
   "execution_count": null,
   "id": "7e690396",
   "metadata": {},
   "outputs": [],
   "source": [
    "## Extract angles for each limb\n",
    "hindlimb_angles = [key for key in first_df.columns if ANGLE_KEY in key and HINDLIMB_KEY in key]\n",
    "forelimb_angles = [key for key in first_df.columns if ANGLE_KEY in key and FORELIMB_KEY in key]\n",
    "spine_angles = [key for key in first_df.columns if ANGLE_KEY in key and SPINE_KEY in key]\n",
    "tail_angles = [key for key in first_df.columns if ANGLE_KEY in key and TAIL_KEY in key]\n",
    "\n",
    "all_limbs_angles = [hindlimb_angles, forelimb_angles, spine_angles, tail_angles]\n",
    "for limb in all_limbs_angles:\n",
    "    print(f\"Limbs angles: {limb}\")"
   ]
  },
  {
   "cell_type": "code",
   "execution_count": null,
   "id": "658cc2d0",
   "metadata": {},
   "outputs": [],
   "source": [
    "## Extract CoM features\n",
    "CoM_features = [key for key in first_df.columns if 'CoM' in key in key]\n",
    "print(f\"CoM features: {CoM_features}\")"
   ]
  },
  {
   "cell_type": "code",
   "execution_count": null,
   "id": "3edf498e",
   "metadata": {},
   "outputs": [],
   "source": [
    "## Extract relevant single point features\n",
    "hindfinger_features = [key for key in first_df.columns if 'hindfingers' in key.lower() and 'Angle' not in key]\n",
    "knee_features = [key for key in first_df.columns if 'knee' in key.lower() and 'Angle' not in key]\n",
    "ankle_features = [key for key in first_df.columns if 'ankle' in key.lower() and 'Angle' not in key]\n",
    "hip_features = [key for key in first_df.columns if 'hip' in key.lower() and 'Angle' not in key]\n",
    "shoulder_features = [key for key in first_df.columns if 'shoulder' in key.lower() and 'Angle' not in key]\n",
    "hindpaw_features = [key for key in first_df.columns if 'hindpaw' in key.lower() and 'Angle' not in key]\n",
    "forepaw_features = [key for key in first_df.columns if 'forepaw' in key.lower() and 'Angle' not in key]\n",
    "head_features = [key for key in first_df.columns if 'head' in key.lower() and 'Angle' not in key]\n",
    "\n",
    "single_point_features = (hindfinger_features, knee_features, ankle_features, hip_features, hindpaw_features, forepaw_features, hip_features, head_features)\n",
    "single_point_feature_names = ('hindfingers', 'knee', 'ankle', 'hip', 'hindpaw', 'forepaw', 'shoulder', 'head')\n",
    "for features in single_point_features:\n",
    "    print(f\"Single point features: {features}\")"
   ]
  },
  {
   "cell_type": "code",
   "execution_count": null,
   "id": "443674ff",
   "metadata": {},
   "outputs": [],
   "source": [
    "## Save all angle plots\n",
    "savedir = os.path.join(FIGURES_DIR, 'Angles')\n",
    "for limb, angles in zip(ALL_LIMBS, all_limbs_angles):\n",
    "    plot_phase_aligned_average_single(healthy_steps, feature_keys=angles, figure_path=os.path.join(savedir, f'Angles_healthy_time_locked_{limb}.svg')) # Plot phase locked for one state\n",
    "    compare_phase_aligned_average_single(healthy_steps, unhealthy_steps, feature_keys=angles, figure_path=os.path.join(savedir, f'Angles_healthy_vs_SCI_time_locked_{limb}.svg')) # Plot phase locked for two states\n",
    "    compare_spatial_angle_progression_over_time(healthy_steps, unhealthy_steps, feature_keys=angles, figure_path=os.path.join(savedir, f'Angles_healthy_vs_SCI_space_locked_{limb}.svg')) # Plot space locked for two states"
   ]
  },
  {
   "cell_type": "code",
   "execution_count": null,
   "id": "17954b26",
   "metadata": {},
   "outputs": [],
   "source": [
    "## Save all CoM plots\n",
    "savedir = os.path.join(FIGURES_DIR, 'CoM')\n",
    "\n",
    "plot_phase_aligned_average_xy(healthy_steps, feature_keys=CoM_features, figure_path=os.path.join(savedir, 'CoM_healthy_time_locked.svg')) # Plot phase locked for one state\n",
    "compare_phase_aligned_average_xy(healthy_steps, unhealthy_steps, feature_keys=CoM_features, figure_path=os.path.join(savedir, 'CoM_healthy_vs_SCI_time_locked.svg')) # Plot phase locked for two states\n",
    "compare_spatial_progression_xy_over_time(healthy_steps, unhealthy_steps, feature_keys=CoM_features, length_key='rhindlimb lHindfingers - X pose (m)', height_key='rhindlimb lHindfingers - Y pose (m)', figure_path=os.path.join(savedir, 'CoM_healthy_vs_SCI_space_locked.svg')) # Plot space locked for two states"
   ]
  },
  {
   "cell_type": "code",
   "execution_count": null,
   "id": "811a0b32",
   "metadata": {},
   "outputs": [],
   "source": [
    "## Save all XY pose plots\n",
    "savedir = os.path.join(FIGURES_DIR, 'Kinematics')\n",
    "\n",
    "for name, feature in zip(single_point_feature_names, single_point_features):\n",
    "    plot_phase_aligned_average_xy(healthy_steps, feature_keys=feature, figure_path=os.path.join(savedir, f'{name}_healthy_time_locked.svg')) # Plot phase locked for one state\n",
    "    compare_phase_aligned_average_xy(healthy_steps, unhealthy_steps, feature_keys=feature, figure_path=os.path.join(savedir, f'{name}_healthy_vs_SCI_time_locked.svg')) # Plot phase locked for two states\n",
    "    compare_spatial_progression_xy_over_time(healthy_steps, unhealthy_steps, feature_keys=feature, length_key='rhindlimb lHindfingers - X pose (m)', height_key='rhindlimb lHindfingers - Y pose (m)', figure_path=os.path.join(savedir, f'{name}_healthy_vs_SCI_space_locked.svg')) # Plot space locked for two states"
   ]
  }
 ],
 "metadata": {
  "kernelspec": {
   "display_name": ".venv",
   "language": "python",
   "name": "python3"
  },
  "language_info": {
   "codemirror_mode": {
    "name": "ipython",
    "version": 3
   },
   "file_extension": ".py",
   "mimetype": "text/x-python",
   "name": "python",
   "nbconvert_exporter": "python",
   "pygments_lexer": "ipython3",
   "version": "3.13.3"
  }
 },
 "nbformat": 4,
 "nbformat_minor": 5
}
