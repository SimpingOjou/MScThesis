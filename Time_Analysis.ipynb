{
 "cells": [
  {
   "cell_type": "markdown",
   "id": "785d16a0",
   "metadata": {},
   "source": [
    "# Analyzing time-dependent data"
   ]
  },
  {
   "cell_type": "code",
   "execution_count": 20,
   "id": "5fcdeba5",
   "metadata": {},
   "outputs": [],
   "source": [
    "import os\n",
    "import pandas as pd\n",
    "import numpy as np\n",
    "import plotly.express as px\n",
    "import torch\n",
    "import timeit\n",
    "\n",
    "from sklearn.preprocessing import StandardScaler\n",
    "from sklearn.model_selection import train_test_split\n",
    "from torch.utils.data import TensorDataset, DataLoader\n",
    "from datetime import datetime\n",
    "from umap import UMAP\n",
    "\n",
    "from src.LSTM import LSTMAutoencoder"
   ]
  },
  {
   "cell_type": "code",
   "execution_count": 2,
   "id": "d16e18c5",
   "metadata": {},
   "outputs": [],
   "source": [
    "FIGURES_DIR = './figures/'\n",
    "MODELS_DIR = './src/models'\n",
    "DATA_DIR = './csv/Pain_Plot_Features'\n",
    "DATASETS = ['A', 'B', 'C', 'D', 'E']\n",
    "GROUPS = ['pre', 'post']\n",
    "DIRECTION = ['left', 'right']\n",
    "\n",
    "# Load the data\n",
    "data = {}\n",
    "directory = os.listdir(DATA_DIR)\n",
    "for file in directory:\n",
    "    if file.endswith('.csv'):\n",
    "        components = file.split('_')\n",
    "\n",
    "        ## Assuming the file naming convention is:\n",
    "        # dataset_group_mouse_direction_run.csv\n",
    "        dataset = components[0]\n",
    "        group = components[1]\n",
    "        mouse = components[2]\n",
    "        direction = components[3]\n",
    "        run = components[4]\n",
    "\n",
    "        datagroup = dataset + '_' + group\n",
    "        if datagroup not in data:\n",
    "            data[datagroup] = {}\n",
    "\n",
    "        mouse_direction = mouse + '_' + direction\n",
    "        if mouse_direction not in data[datagroup]:\n",
    "            data[datagroup][mouse_direction] = {}\n",
    "\n",
    "        data[datagroup][mouse_direction][run] = pd.read_csv(\n",
    "            os.path.join(DATA_DIR, file), index_col=0)"
   ]
  },
  {
   "cell_type": "code",
   "execution_count": 3,
   "id": "356a5e38",
   "metadata": {},
   "outputs": [
    {
     "name": "stdout",
     "output_type": "stream",
     "text": [
      "Group: A_postDLC\n",
      "\tmouse1_left: 3 runs with shapes: [(310, 199), (313, 199), (297, 199)]\n",
      "\tmouse1_right: 4 runs with shapes: [(259, 199), (251, 199), (233, 199), (351, 199)]\n",
      "\tmouse2_left: 4 runs with shapes: [(209, 199), (216, 199), (124, 199), (155, 199)]\n",
      "\tmouse2_right: 3 runs with shapes: [(223, 199), (193, 199), (211, 199)]\n",
      "\tmouse3_left: 5 runs with shapes: [(249, 199), (231, 199), (241, 199), (318, 199), (244, 199)]\n",
      "\tmouse3_right: 4 runs with shapes: [(297, 199), (230, 199), (154, 199), (224, 199)]\n",
      "\tmouse4_left: 3 runs with shapes: [(269, 199), (188, 199), (221, 199)]\n",
      "\tmouse4_right: 3 runs with shapes: [(283, 199), (213, 199), (195, 199)]\n",
      "\tmouse5_left: 3 runs with shapes: [(301, 199), (210, 199), (321, 199)]\n",
      "\tmouse5_right: 3 runs with shapes: [(341, 199), (212, 199), (191, 199)]\n",
      "\tmouse6_left: 4 runs with shapes: [(302, 199), (157, 199), (297, 199), (201, 199)]\n",
      "\tmouse6_right: 4 runs with shapes: [(271, 199), (235, 199), (163, 199), (141, 199)]\n",
      "\tmouse7_left: 3 runs with shapes: [(172, 199), (171, 199), (224, 199)]\n",
      "\tmouse7_right: 3 runs with shapes: [(175, 199), (152, 199), (197, 199)]\n",
      "\tmouse8_left: 4 runs with shapes: [(364, 199), (189, 199), (228, 199), (221, 199)]\n",
      "\tmouse8_right: 3 runs with shapes: [(276, 199), (178, 199), (166, 199)]\n",
      "\tmouse9_left: 5 runs with shapes: [(251, 199), (205, 199), (173, 199), (251, 199), (191, 199)]\n",
      "\tmouse9_right: 3 runs with shapes: [(211, 199), (160, 199), (165, 199)]\n",
      "\tmouse10_left: 4 runs with shapes: [(418, 199), (303, 199), (331, 199), (237, 199)]\n",
      "\tmouse10_right: 3 runs with shapes: [(376, 199), (278, 199), (348, 199)]\n",
      "Group: A_preDLC\n",
      "\tmouse1_left: 3 runs with shapes: [(275, 199), (181, 199), (193, 199)]\n",
      "\tmouse1_right: 3 runs with shapes: [(271, 199), (251, 199), (190, 199)]\n",
      "\tmouse2_left: 3 runs with shapes: [(127, 199), (244, 199), (181, 199)]\n",
      "\tmouse2_right: 4 runs with shapes: [(416, 199), (219, 199), (185, 199), (398, 199)]\n",
      "\tmouse3_left: 3 runs with shapes: [(189, 199), (321, 199), (251, 199)]\n",
      "\tmouse3_right: 3 runs with shapes: [(231, 199), (301, 199), (221, 199)]\n",
      "\tmouse4_left: 3 runs with shapes: [(262, 199), (220, 199), (191, 199)]\n",
      "\tmouse4_right: 3 runs with shapes: [(173, 199), (229, 199), (218, 199)]\n",
      "\tmouse5_left: 3 runs with shapes: [(476, 199), (168, 199), (221, 199)]\n",
      "\tmouse5_right: 5 runs with shapes: [(381, 199), (113, 199), (331, 199), (111, 199), (131, 199)]\n",
      "\tmouse6_left: 3 runs with shapes: [(348, 199), (151, 199), (175, 199)]\n",
      "\tmouse6_right: 3 runs with shapes: [(174, 199), (194, 199), (241, 199)]\n",
      "\tmouse7_left: 4 runs with shapes: [(391, 199), (399, 199), (186, 199), (159, 199)]\n",
      "\tmouse7_right: 3 runs with shapes: [(127, 199), (144, 199), (163, 199)]\n",
      "\tmouse8_left: 3 runs with shapes: [(476, 199), (225, 199), (268, 199)]\n",
      "\tmouse8_right: 3 runs with shapes: [(454, 199), (311, 199), (190, 199)]\n",
      "\tmouse9_left: 3 runs with shapes: [(419, 199), (194, 199), (145, 199)]\n",
      "\tmouse9_right: 3 runs with shapes: [(166, 199), (327, 199), (253, 199)]\n",
      "\tmouse10_left: 3 runs with shapes: [(279, 199), (178, 199), (165, 199)]\n",
      "\tmouse10_right: 3 runs with shapes: [(233, 199), (238, 199), (198, 199)]\n",
      "Group: B_postDLC\n",
      "\tmouse11_left: 3 runs with shapes: [(271, 199), (220, 199), (216, 199)]\n",
      "\tmouse11_right: 2 runs with shapes: [(401, 199), (241, 199)]\n",
      "\tmouse12_left: 3 runs with shapes: [(261, 199), (179, 199), (176, 199)]\n",
      "\tmouse12_right: 3 runs with shapes: [(200, 199), (151, 199), (261, 199)]\n",
      "\tmouse13_left: 3 runs with shapes: [(351, 199), (295, 199), (191, 199)]\n",
      "\tmouse13_right: 3 runs with shapes: [(421, 199), (291, 199), (201, 199)]\n",
      "\tmouse14_left: 3 runs with shapes: [(203, 199), (186, 199), (261, 199)]\n",
      "\tmouse14_right: 3 runs with shapes: [(216, 199), (221, 199), (160, 199)]\n",
      "\tmouse15_left: 3 runs with shapes: [(181, 199), (151, 199), (141, 199)]\n",
      "\tmouse15_right: 3 runs with shapes: [(187, 199), (191, 199), (221, 199)]\n",
      "\tmouse16_left: 4 runs with shapes: [(331, 199), (261, 199), (281, 199), (211, 199)]\n",
      "\tmouse16_right: 4 runs with shapes: [(271, 199), (131, 199), (184, 199), (299, 199)]\n",
      "\tmouse17_left: 4 runs with shapes: [(161, 199), (231, 199), (141, 199), (141, 199)]\n",
      "\tmouse17_right: 4 runs with shapes: [(201, 199), (137, 199), (155, 199), (141, 199)]\n",
      "\tmouse18_left: 3 runs with shapes: [(277, 199), (207, 199), (243, 199)]\n",
      "\tmouse18_right: 3 runs with shapes: [(211, 199), (201, 199), (191, 199)]\n",
      "\tmouse19_left: 3 runs with shapes: [(241, 199), (191, 199), (158, 199)]\n",
      "\tmouse19_right: 3 runs with shapes: [(224, 199), (159, 199), (142, 199)]\n",
      "\tmouse20_left: 3 runs with shapes: [(284, 199), (198, 199), (291, 199)]\n",
      "\tmouse20_right: 3 runs with shapes: [(267, 199), (221, 199), (221, 199)]\n",
      "Group: B_preDLC\n",
      "\tmouse11_left: 3 runs with shapes: [(435, 199), (212, 199), (319, 199)]\n",
      "\tmouse11_right: 3 runs with shapes: [(200, 199), (269, 199), (441, 199)]\n",
      "\tmouse12_left: 3 runs with shapes: [(201, 199), (290, 199), (154, 199)]\n",
      "\tmouse12_right: 3 runs with shapes: [(501, 199), (172, 199), (182, 199)]\n",
      "\tmouse13_left: 3 runs with shapes: [(436, 199), (231, 199), (246, 199)]\n",
      "\tmouse13_right: 3 runs with shapes: [(232, 199), (273, 199), (244, 199)]\n",
      "\tmouse14_left: 3 runs with shapes: [(361, 199), (221, 199), (253, 199)]\n",
      "\tmouse14_right: 3 runs with shapes: [(418, 199), (282, 199), (193, 199)]\n",
      "\tmouse15_left: 3 runs with shapes: [(125, 199), (214, 199), (331, 199)]\n",
      "\tmouse15_right: 3 runs with shapes: [(200, 199), (225, 199), (195, 199)]\n",
      "\tmouse16_left: 4 runs with shapes: [(321, 199), (404, 199), (185, 199), (239, 199)]\n",
      "\tmouse16_right: 3 runs with shapes: [(199, 199), (212, 199), (401, 199)]\n",
      "\tmouse17_left: 3 runs with shapes: [(164, 199), (170, 199), (232, 199)]\n",
      "\tmouse17_right: 4 runs with shapes: [(394, 199), (235, 199), (100, 199), (221, 199)]\n",
      "\tmouse18_left: 4 runs with shapes: [(331, 199), (158, 199), (173, 199), (134, 199)]\n",
      "\tmouse18_right: 3 runs with shapes: [(158, 199), (391, 199), (140, 199)]\n",
      "\tmouse19_left: 3 runs with shapes: [(440, 199), (208, 199), (240, 199)]\n",
      "\tmouse19_right: 3 runs with shapes: [(146, 199), (152, 199), (186, 199)]\n",
      "\tmouse20_left: 3 runs with shapes: [(231, 199), (141, 199), (152, 199)]\n",
      "\tmouse20_right: 3 runs with shapes: [(321, 199), (241, 199), (327, 199)]\n",
      "Group: C_postDLC\n",
      "\tmouse21_left: 3 runs with shapes: [(305, 199), (240, 199), (223, 199)]\n",
      "\tmouse21_right: 3 runs with shapes: [(369, 199), (251, 199), (231, 199)]\n",
      "\tmouse22_left: 3 runs with shapes: [(351, 199), (261, 199), (301, 199)]\n",
      "\tmouse22_right: 3 runs with shapes: [(291, 199), (341, 199), (331, 199)]\n",
      "\tmouse23_left: 3 runs with shapes: [(172, 199), (291, 199), (147, 199)]\n",
      "\tmouse23_right: 3 runs with shapes: [(281, 199), (213, 199), (281, 199)]\n",
      "\tmouse24_left: 3 runs with shapes: [(335, 199), (351, 199), (261, 199)]\n",
      "\tmouse24_right: 4 runs with shapes: [(211, 199), (187, 199), (131, 199), (109, 199)]\n",
      "\tmouse25_left: 3 runs with shapes: [(214, 199), (345, 199), (331, 199)]\n",
      "\tmouse25_right: 4 runs with shapes: [(261, 199), (391, 199), (271, 199), (208, 199)]\n",
      "\tmouse26_left: 3 runs with shapes: [(295, 199), (225, 199), (223, 199)]\n",
      "\tmouse26_right: 3 runs with shapes: [(261, 199), (203, 199), (199, 199)]\n",
      "\tmouse27_left: 3 runs with shapes: [(241, 199), (251, 199), (301, 199)]\n",
      "\tmouse27_right: 3 runs with shapes: [(301, 199), (321, 199), (211, 199)]\n",
      "\tmouse28_left: 3 runs with shapes: [(331, 199), (248, 199), (271, 199)]\n",
      "\tmouse28_right: 3 runs with shapes: [(311, 199), (286, 199), (181, 199)]\n",
      "\tmouse29_left: 3 runs with shapes: [(259, 199), (190, 199), (218, 199)]\n",
      "\tmouse29_right: 3 runs with shapes: [(211, 199), (166, 199), (211, 199)]\n",
      "\tmouse30_left: 3 runs with shapes: [(231, 199), (201, 199), (493, 199)]\n",
      "\tmouse30_right: 4 runs with shapes: [(177, 199), (168, 199), (95, 199), (121, 199)]\n",
      "Group: C_preDLC\n",
      "\tmouse21_left: 3 runs with shapes: [(352, 199), (251, 199), (228, 199)]\n",
      "\tmouse21_right: 2 runs with shapes: [(321, 199), (121, 199)]\n",
      "\tmouse22_left: 3 runs with shapes: [(411, 199), (351, 199), (258, 199)]\n",
      "\tmouse22_right: 3 runs with shapes: [(421, 199), (231, 199), (331, 199)]\n",
      "\tmouse23_left: 4 runs with shapes: [(374, 199), (191, 199), (221, 199), (253, 199)]\n",
      "\tmouse23_right: 3 runs with shapes: [(271, 199), (461, 199), (229, 199)]\n",
      "\tmouse24_left: 4 runs with shapes: [(399, 199), (221, 199), (280, 199), (299, 199)]\n",
      "\tmouse24_right: 3 runs with shapes: [(371, 199), (281, 199), (249, 199)]\n",
      "\tmouse25_left: 3 runs with shapes: [(293, 199), (283, 199), (144, 199)]\n",
      "\tmouse25_right: 3 runs with shapes: [(357, 199), (227, 199), (324, 199)]\n",
      "\tmouse26_left: 3 runs with shapes: [(301, 199), (213, 199), (233, 199)]\n",
      "\tmouse26_right: 3 runs with shapes: [(331, 199), (218, 199), (489, 199)]\n",
      "\tmouse27_left: 4 runs with shapes: [(293, 199), (371, 199), (166, 199), (83, 199)]\n",
      "\tmouse27_right: 3 runs with shapes: [(192, 199), (351, 199), (178, 199)]\n",
      "\tmouse28_left: 2 runs with shapes: [(451, 199), (391, 199)]\n",
      "\tmouse28_right: 3 runs with shapes: [(581, 199), (421, 199), (167, 199)]\n",
      "\tmouse29_left: 3 runs with shapes: [(461, 199), (156, 199), (331, 199)]\n",
      "\tmouse29_right: 3 runs with shapes: [(221, 199), (151, 199), (184, 199)]\n",
      "\tmouse30_left: 4 runs with shapes: [(401, 199), (355, 199), (171, 199), (210, 199)]\n",
      "\tmouse30_right: 3 runs with shapes: [(161, 199), (289, 199), (268, 199)]\n",
      "Group: D_postDLC\n",
      "\tmouse31_left: 3 runs with shapes: [(274, 199), (311, 199), (416, 199)]\n",
      "\tmouse31_right: 3 runs with shapes: [(343, 199), (201, 199), (129, 199)]\n",
      "\tmouse32_left: 3 runs with shapes: [(270, 199), (281, 199), (271, 199)]\n",
      "\tmouse32_right: 3 runs with shapes: [(261, 199), (251, 199), (283, 199)]\n",
      "\tmouse33_left: 3 runs with shapes: [(306, 199), (241, 199), (290, 199)]\n",
      "\tmouse33_right: 3 runs with shapes: [(261, 199), (271, 199), (301, 199)]\n",
      "\tmouse34_left: 3 runs with shapes: [(281, 199), (291, 199), (391, 199)]\n",
      "\tmouse34_right: 3 runs with shapes: [(441, 199), (273, 199), (184, 199)]\n",
      "\tmouse35_left: 3 runs with shapes: [(257, 199), (261, 199), (247, 199)]\n",
      "\tmouse35_right: 3 runs with shapes: [(221, 199), (291, 199), (121, 199)]\n",
      "\tmouse36_left: 3 runs with shapes: [(323, 199), (306, 199), (251, 199)]\n",
      "\tmouse36_right: 3 runs with shapes: [(294, 199), (131, 199), (197, 199)]\n",
      "\tmouse37_left: 3 runs with shapes: [(248, 199), (216, 199), (201, 199)]\n",
      "\tmouse37_right: 3 runs with shapes: [(252, 199), (206, 199), (141, 199)]\n",
      "\tmouse38_left: 3 runs with shapes: [(231, 199), (221, 199), (118, 199)]\n",
      "\tmouse38_right: 4 runs with shapes: [(231, 199), (321, 199), (341, 199), (188, 199)]\n",
      "\tmouse39_left: 4 runs with shapes: [(318, 199), (291, 199), (251, 199), (281, 199)]\n",
      "\tmouse39_right: 3 runs with shapes: [(261, 199), (353, 199), (236, 199)]\n",
      "\tmouse40_left: 3 runs with shapes: [(251, 199), (216, 199), (256, 199)]\n",
      "\tmouse40_right: 3 runs with shapes: [(251, 199), (222, 199), (238, 199)]\n",
      "Group: D_preDLC\n",
      "\tmouse31_left: 4 runs with shapes: [(331, 199), (354, 199), (176, 199), (111, 199)]\n",
      "\tmouse31_right: 3 runs with shapes: [(223, 199), (211, 199), (201, 199)]\n",
      "\tmouse32_left: 3 runs with shapes: [(259, 199), (159, 199), (176, 199)]\n",
      "\tmouse32_right: 3 runs with shapes: [(341, 199), (251, 199), (201, 199)]\n",
      "\tmouse33_left: 2 runs with shapes: [(320, 199), (241, 199)]\n",
      "\tmouse33_right: 3 runs with shapes: [(347, 199), (291, 199), (264, 199)]\n",
      "\tmouse34_left: 3 runs with shapes: [(184, 199), (234, 199), (101, 199)]\n",
      "\tmouse34_right: 3 runs with shapes: [(541, 199), (107, 199), (203, 199)]\n",
      "\tmouse35_left: 2 runs with shapes: [(331, 199), (271, 199)]\n",
      "\tmouse35_right: 4 runs with shapes: [(351, 199), (261, 199), (391, 199), (231, 199)]\n",
      "\tmouse36_left: 3 runs with shapes: [(331, 199), (305, 199), (401, 199)]\n",
      "\tmouse36_right: 4 runs with shapes: [(361, 199), (301, 199), (217, 199), (302, 199)]\n",
      "\tmouse37_left: 3 runs with shapes: [(181, 199), (171, 199), (152, 199)]\n",
      "\tmouse37_right: 3 runs with shapes: [(330, 199), (221, 199), (181, 199)]\n",
      "\tmouse38_left: 2 runs with shapes: [(331, 199), (147, 199)]\n",
      "\tmouse38_right: 3 runs with shapes: [(431, 199), (141, 199), (244, 199)]\n",
      "\tmouse39_left: 3 runs with shapes: [(331, 199), (174, 199), (241, 199)]\n",
      "\tmouse39_right: 3 runs with shapes: [(189, 199), (311, 199), (126, 199)]\n",
      "\tmouse40_left: 3 runs with shapes: [(441, 199), (311, 199), (111, 199)]\n",
      "\tmouse40_right: 3 runs with shapes: [(188, 199), (251, 199), (213, 199)]\n",
      "\tmouse42_left: 3 runs with shapes: [(345, 199), (291, 199), (290, 199)]\n",
      "\tmouse42_right: 3 runs with shapes: [(281, 199), (213, 199), (283, 199)]\n",
      "\tmouse50_left: 3 runs with shapes: [(329, 199), (311, 199), (281, 199)]\n",
      "\tmouse50_right: 4 runs with shapes: [(341, 199), (231, 199), (181, 199), (157, 199)]\n",
      "Group: E_postDLC\n",
      "\tmouse41_left: 3 runs with shapes: [(251, 199), (291, 199), (251, 199)]\n",
      "\tmouse41_right: 3 runs with shapes: [(161, 199), (310, 199), (100, 199)]\n",
      "\tmouse42_left: 3 runs with shapes: [(341, 199), (251, 199), (221, 199)]\n",
      "\tmouse42_right: 3 runs with shapes: [(311, 199), (123, 199), (251, 199)]\n",
      "\tmouse43_left: 3 runs with shapes: [(271, 199), (270, 199), (221, 199)]\n",
      "\tmouse43_right: 4 runs with shapes: [(291, 199), (251, 199), (407, 199), (198, 199)]\n",
      "\tmouse44_left: 3 runs with shapes: [(311, 199), (318, 199), (361, 199)]\n",
      "\tmouse44_right: 4 runs with shapes: [(311, 199), (301, 199), (181, 199), (139, 199)]\n",
      "\tmouse45_left: 3 runs with shapes: [(361, 199), (311, 199), (291, 199)]\n",
      "\tmouse45_right: 4 runs with shapes: [(321, 199), (181, 199), (141, 199), (304, 199)]\n",
      "\tmouse46_left: 3 runs with shapes: [(341, 199), (311, 199), (331, 199)]\n",
      "\tmouse46_right: 3 runs with shapes: [(341, 199), (241, 199), (201, 199)]\n",
      "\tmouse47_left: 4 runs with shapes: [(311, 199), (291, 199), (258, 199), (191, 199)]\n",
      "\tmouse47_right: 3 runs with shapes: [(305, 199), (249, 199), (173, 199)]\n",
      "\tmouse48_left: 3 runs with shapes: [(241, 199), (291, 199), (288, 199)]\n",
      "\tmouse48_right: 4 runs with shapes: [(441, 199), (161, 199), (181, 199), (371, 199)]\n",
      "\tmouse49_left: 3 runs with shapes: [(341, 199), (321, 199), (301, 199)]\n",
      "\tmouse49_right: 3 runs with shapes: [(264, 199), (211, 199), (330, 199)]\n",
      "\tmouse50_left: 4 runs with shapes: [(361, 199), (237, 199), (211, 199), (231, 199)]\n",
      "\tmouse50_right: 4 runs with shapes: [(422, 199), (196, 199), (126, 199), (201, 199)]\n",
      "Group: E_preDLC\n",
      "\tmouse41_left: 2 runs with shapes: [(347, 199), (212, 199)]\n",
      "\tmouse41_right: 3 runs with shapes: [(270, 199), (231, 199), (367, 199)]\n",
      "\tmouse43_left: 2 runs with shapes: [(381, 199), (210, 199)]\n",
      "\tmouse43_right: 2 runs with shapes: [(301, 199), (295, 199)]\n",
      "\tmouse44_left: 3 runs with shapes: [(480, 199), (351, 199), (351, 199)]\n",
      "\tmouse44_right: 3 runs with shapes: [(331, 199), (291, 199), (281, 199)]\n",
      "\tmouse45_left: 2 runs with shapes: [(141, 199), (270, 199)]\n",
      "\tmouse45_right: 4 runs with shapes: [(346, 199), (341, 199), (325, 199), (82, 199)]\n",
      "\tmouse46_left: 3 runs with shapes: [(342, 199), (251, 199), (195, 199)]\n",
      "\tmouse46_right: 3 runs with shapes: [(341, 199), (299, 199), (350, 199)]\n",
      "\tmouse47_left: 3 runs with shapes: [(249, 199), (201, 199), (174, 199)]\n",
      "\tmouse47_right: 3 runs with shapes: [(267, 199), (310, 199), (316, 199)]\n",
      "\tmouse48_left: 3 runs with shapes: [(339, 199), (361, 199), (316, 199)]\n",
      "\tmouse48_right: 3 runs with shapes: [(331, 199), (321, 199), (191, 199)]\n",
      "\tmouse49_left: 3 runs with shapes: [(221, 199), (215, 199), (301, 199)]\n",
      "\tmouse49_right: 3 runs with shapes: [(361, 199), (437, 199), (225, 199)]\n"
     ]
    }
   ],
   "source": [
    "## Print the data structure\n",
    "for datagroup, mice in data.items():\n",
    "    print(f\"Group: {datagroup}\")\n",
    "    for mouse_direction, runs in mice.items():\n",
    "        print(f\"\\t{mouse_direction}: {len(runs)} runs with shapes: {[df.shape for df in runs.values()]}\")"
   ]
  },
  {
   "cell_type": "code",
   "execution_count": 4,
   "id": "0541e595",
   "metadata": {},
   "outputs": [
    {
     "name": "stdout",
     "output_type": "stream",
     "text": [
      "Number of features: 196\n"
     ]
    }
   ],
   "source": [
    "# Print the features count\n",
    "for datagroup, mice in data.items():\n",
    "    for mouse_direction, runs in mice.items():\n",
    "        for run, df in runs.items():\n",
    "            print(f\"Number of features: {df.shape[1] + 1 - 4}\") # +1 bc of index, -4 to exclude frame, forestep, hindstep, and time\n",
    "            break\n",
    "        break\n",
    "    break"
   ]
  },
  {
   "cell_type": "code",
   "execution_count": 5,
   "id": "246cc00d",
   "metadata": {},
   "outputs": [],
   "source": [
    "def segment_steps_by_phase(df, phase_col=\"phase\"):\n",
    "    phases = df[phase_col]\n",
    "\n",
    "    # 1. Find where phase changes\n",
    "    changes = phases != phases.shift()\n",
    "    change_points = df.index[changes]\n",
    "\n",
    "    # 2. Get the phases at these change points\n",
    "    change_phases = phases.loc[change_points].reset_index(drop=True)\n",
    "\n",
    "    # 3. Identify \"stance\" → ... → \"swing\" → \"stance\" sequences\n",
    "    segments = []\n",
    "    i = 0\n",
    "    while i < len(change_phases) - 2:\n",
    "        if change_phases[i] == \"stance\":\n",
    "            swing_found = False\n",
    "            for j in range(i+1, len(change_phases)):\n",
    "                if change_phases[j] == \"swing\":\n",
    "                    swing_found = True\n",
    "                elif swing_found and change_phases[j] == \"stance\":\n",
    "                    start_idx = change_points[i]\n",
    "                    end_idx = change_points[j] - 1\n",
    "                    segment = df.loc[start_idx:end_idx].drop(columns=[\"Step Phase Forelimb\", \"Step Phase Hindlimb\"], errors='ignore')\n",
    "                    segments.append(segment)\n",
    "                    i = j - 1  # skip ahead\n",
    "                    break\n",
    "            else:\n",
    "                # no closing stance; go to end\n",
    "                start_idx = change_points[i]\n",
    "                segment = df.loc[start_idx:].drop(columns=[\"Step Phase Forelimb\", \"Step Phase Hindlimb\"], errors='ignore')\n",
    "                segments.append(segment)\n",
    "                break\n",
    "        i += 1\n",
    "\n",
    "    return segments\n",
    "\n",
    "segmented_hindsteps = []\n",
    "segmented_foresteps = []\n",
    "for group in data:\n",
    "    for mouse in data[group]:\n",
    "        for run in data[group][mouse]:\n",
    "            df = data[group][mouse][run]\n",
    "            to_drop = ['Frame', \"Time (s)\"]\n",
    "            df = df.drop(columns=to_drop, errors='ignore')\n",
    "            hindsteps = segment_steps_by_phase(df, phase_col=\"Step Phase Hindlimb\")  # or the correct column name\n",
    "            for step_df in hindsteps:\n",
    "                segmented_hindsteps.append({\n",
    "                    \"step\": step_df,\n",
    "                    \"group\": group,\n",
    "                    \"mouse\": mouse,\n",
    "                    \"run\": run\n",
    "                })\n",
    "            foresteps = segment_steps_by_phase(df, phase_col=\"Step Phase Forelimb\")  # or the correct column name\n",
    "            for step_df in foresteps:\n",
    "                segmented_foresteps.append({\n",
    "                    \"step\": step_df,\n",
    "                    \"group\": group,\n",
    "                    \"mouse\": mouse,\n",
    "                    \"run\": run\n",
    "                })"
   ]
  },
  {
   "cell_type": "code",
   "execution_count": 6,
   "id": "e39781d1",
   "metadata": {},
   "outputs": [],
   "source": [
    "# Flatten all steps into a single array to compute global mean/std\n",
    "all_healthy_arrays = [step_dict[\"step\"].values for step_dict in segmented_hindsteps if \"pre\" in step_dict[\"group\"] and \"left\" in step_dict[\"mouse\"]]\n",
    "flat_data = np.vstack(all_healthy_arrays)\n",
    "\n",
    "scaler = StandardScaler()\n",
    "scaler = scaler.fit(flat_data)"
   ]
  },
  {
   "cell_type": "code",
   "execution_count": 7,
   "id": "a52bbf9d",
   "metadata": {},
   "outputs": [
    {
     "name": "stdout",
     "output_type": "stream",
     "text": [
      "Step tensor shape: torch.Size([560, 189, 196]), \n",
      "Lengths shape: torch.Size([560])\n"
     ]
    }
   ],
   "source": [
    "def steps_to_tensor(step_dicts, scaler):\n",
    "    \"\"\"\n",
    "        Convert a list of step dictionaries to a padded tensor of shape (num_steps, max_length, num_features).\n",
    "\n",
    "        Returns:\n",
    "            - A tensor of shape (num_steps, max_length, num_features) containing the scaled step data (B, T, F).\n",
    "            - A tensor of lengths for each step indicating the actual length of each step (B).\n",
    "    \"\"\"\n",
    "    step_arrays = [scaler.transform(sd[\"step\"].values) for sd in step_dicts]\n",
    "    lengths = [len(step) for step in step_arrays]\n",
    "    max_len = max(lengths)\n",
    "    dim = step_arrays[0].shape[1]\n",
    "\n",
    "    padded = np.zeros((len(step_arrays), max_len, dim), dtype=np.float32)\n",
    "    for i, arr in enumerate(step_arrays):\n",
    "        padded[i, :len(arr)] = arr\n",
    "\n",
    "    return torch.tensor(padded), torch.tensor(lengths)\n",
    "\n",
    "healthy_steps = [s for s in segmented_hindsteps if \"pre\" in s[\"group\"] and \"left\" in s[\"mouse\"]]\n",
    "step_tensor, lengths = steps_to_tensor(healthy_steps, scaler)\n",
    "\n",
    "print(f\"Step tensor shape: {step_tensor.shape}, \\nLengths shape: {lengths.shape}\")"
   ]
  },
  {
   "cell_type": "code",
   "execution_count": 21,
   "id": "84415529",
   "metadata": {},
   "outputs": [
    {
     "name": "stdout",
     "output_type": "stream",
     "text": [
      "Epoch 1, Train: 1.0072 - Val: 0.8566 - Time: 5.03s\n",
      "Epoch 2, Train: 0.9664 - Val: 0.8274 - Time: 4.42s\n",
      "Epoch 3, Train: 0.9419 - Val: 0.8054 - Time: 3.60s\n",
      "Epoch 4, Train: 0.9233 - Val: 0.7907 - Time: 4.13s\n"
     ]
    },
    {
     "ename": "KeyboardInterrupt",
     "evalue": "",
     "output_type": "error",
     "traceback": [
      "\u001b[31m---------------------------------------------------------------------------\u001b[39m",
      "\u001b[31mKeyboardInterrupt\u001b[39m                         Traceback (most recent call last)",
      "\u001b[36mCell\u001b[39m\u001b[36m \u001b[39m\u001b[32mIn[21]\u001b[39m\u001b[32m, line 64\u001b[39m\n\u001b[32m     62\u001b[39m pred, _ = model(batch_x, batch_lens)\n\u001b[32m     63\u001b[39m loss = masked_mse_loss(pred, batch_x, batch_lens)\n\u001b[32m---> \u001b[39m\u001b[32m64\u001b[39m \u001b[43mloss\u001b[49m\u001b[43m.\u001b[49m\u001b[43mbackward\u001b[49m\u001b[43m(\u001b[49m\u001b[43m)\u001b[49m\n\u001b[32m     65\u001b[39m optimizer.step()\n\u001b[32m     66\u001b[39m train_loss += loss.item()\n",
      "\u001b[36mFile \u001b[39m\u001b[32m~/Documents/SeriousStuff/Work/MScThesis/.venv/lib64/python3.13/site-packages/torch/_tensor.py:648\u001b[39m, in \u001b[36mTensor.backward\u001b[39m\u001b[34m(self, gradient, retain_graph, create_graph, inputs)\u001b[39m\n\u001b[32m    638\u001b[39m \u001b[38;5;28;01mif\u001b[39;00m has_torch_function_unary(\u001b[38;5;28mself\u001b[39m):\n\u001b[32m    639\u001b[39m     \u001b[38;5;28;01mreturn\u001b[39;00m handle_torch_function(\n\u001b[32m    640\u001b[39m         Tensor.backward,\n\u001b[32m    641\u001b[39m         (\u001b[38;5;28mself\u001b[39m,),\n\u001b[32m   (...)\u001b[39m\u001b[32m    646\u001b[39m         inputs=inputs,\n\u001b[32m    647\u001b[39m     )\n\u001b[32m--> \u001b[39m\u001b[32m648\u001b[39m \u001b[43mtorch\u001b[49m\u001b[43m.\u001b[49m\u001b[43mautograd\u001b[49m\u001b[43m.\u001b[49m\u001b[43mbackward\u001b[49m\u001b[43m(\u001b[49m\n\u001b[32m    649\u001b[39m \u001b[43m    \u001b[49m\u001b[38;5;28;43mself\u001b[39;49m\u001b[43m,\u001b[49m\u001b[43m \u001b[49m\u001b[43mgradient\u001b[49m\u001b[43m,\u001b[49m\u001b[43m \u001b[49m\u001b[43mretain_graph\u001b[49m\u001b[43m,\u001b[49m\u001b[43m \u001b[49m\u001b[43mcreate_graph\u001b[49m\u001b[43m,\u001b[49m\u001b[43m \u001b[49m\u001b[43minputs\u001b[49m\u001b[43m=\u001b[49m\u001b[43minputs\u001b[49m\n\u001b[32m    650\u001b[39m \u001b[43m\u001b[49m\u001b[43m)\u001b[49m\n",
      "\u001b[36mFile \u001b[39m\u001b[32m~/Documents/SeriousStuff/Work/MScThesis/.venv/lib64/python3.13/site-packages/torch/autograd/__init__.py:353\u001b[39m, in \u001b[36mbackward\u001b[39m\u001b[34m(tensors, grad_tensors, retain_graph, create_graph, grad_variables, inputs)\u001b[39m\n\u001b[32m    348\u001b[39m     retain_graph = create_graph\n\u001b[32m    350\u001b[39m \u001b[38;5;66;03m# The reason we repeat the same comment below is that\u001b[39;00m\n\u001b[32m    351\u001b[39m \u001b[38;5;66;03m# some Python versions print out the first line of a multi-line function\u001b[39;00m\n\u001b[32m    352\u001b[39m \u001b[38;5;66;03m# calls in the traceback and some print out the last line\u001b[39;00m\n\u001b[32m--> \u001b[39m\u001b[32m353\u001b[39m \u001b[43m_engine_run_backward\u001b[49m\u001b[43m(\u001b[49m\n\u001b[32m    354\u001b[39m \u001b[43m    \u001b[49m\u001b[43mtensors\u001b[49m\u001b[43m,\u001b[49m\n\u001b[32m    355\u001b[39m \u001b[43m    \u001b[49m\u001b[43mgrad_tensors_\u001b[49m\u001b[43m,\u001b[49m\n\u001b[32m    356\u001b[39m \u001b[43m    \u001b[49m\u001b[43mretain_graph\u001b[49m\u001b[43m,\u001b[49m\n\u001b[32m    357\u001b[39m \u001b[43m    \u001b[49m\u001b[43mcreate_graph\u001b[49m\u001b[43m,\u001b[49m\n\u001b[32m    358\u001b[39m \u001b[43m    \u001b[49m\u001b[43minputs\u001b[49m\u001b[43m,\u001b[49m\n\u001b[32m    359\u001b[39m \u001b[43m    \u001b[49m\u001b[43mallow_unreachable\u001b[49m\u001b[43m=\u001b[49m\u001b[38;5;28;43;01mTrue\u001b[39;49;00m\u001b[43m,\u001b[49m\n\u001b[32m    360\u001b[39m \u001b[43m    \u001b[49m\u001b[43maccumulate_grad\u001b[49m\u001b[43m=\u001b[49m\u001b[38;5;28;43;01mTrue\u001b[39;49;00m\u001b[43m,\u001b[49m\n\u001b[32m    361\u001b[39m \u001b[43m\u001b[49m\u001b[43m)\u001b[49m\n",
      "\u001b[36mFile \u001b[39m\u001b[32m~/Documents/SeriousStuff/Work/MScThesis/.venv/lib64/python3.13/site-packages/torch/autograd/graph.py:824\u001b[39m, in \u001b[36m_engine_run_backward\u001b[39m\u001b[34m(t_outputs, *args, **kwargs)\u001b[39m\n\u001b[32m    822\u001b[39m     unregister_hooks = _register_logging_hooks_on_whole_graph(t_outputs)\n\u001b[32m    823\u001b[39m \u001b[38;5;28;01mtry\u001b[39;00m:\n\u001b[32m--> \u001b[39m\u001b[32m824\u001b[39m     \u001b[38;5;28;01mreturn\u001b[39;00m \u001b[43mVariable\u001b[49m\u001b[43m.\u001b[49m\u001b[43m_execution_engine\u001b[49m\u001b[43m.\u001b[49m\u001b[43mrun_backward\u001b[49m\u001b[43m(\u001b[49m\u001b[43m  \u001b[49m\u001b[38;5;66;43;03m# Calls into the C++ engine to run the backward pass\u001b[39;49;00m\n\u001b[32m    825\u001b[39m \u001b[43m        \u001b[49m\u001b[43mt_outputs\u001b[49m\u001b[43m,\u001b[49m\u001b[43m \u001b[49m\u001b[43m*\u001b[49m\u001b[43margs\u001b[49m\u001b[43m,\u001b[49m\u001b[43m \u001b[49m\u001b[43m*\u001b[49m\u001b[43m*\u001b[49m\u001b[43mkwargs\u001b[49m\n\u001b[32m    826\u001b[39m \u001b[43m    \u001b[49m\u001b[43m)\u001b[49m  \u001b[38;5;66;03m# Calls into the C++ engine to run the backward pass\u001b[39;00m\n\u001b[32m    827\u001b[39m \u001b[38;5;28;01mfinally\u001b[39;00m:\n\u001b[32m    828\u001b[39m     \u001b[38;5;28;01mif\u001b[39;00m attach_logging_hooks:\n",
      "\u001b[31mKeyboardInterrupt\u001b[39m: "
     ]
    }
   ],
   "source": [
    "def masked_mse_loss(pred, target, lengths):\n",
    "    \"\"\"\n",
    "        Compute the masked mean squared error loss between predicted and target tensors.\n",
    "    \"\"\"\n",
    "    mask = torch.arange(target.size(1))[None, :].to(lengths.device) < lengths[:, None]\n",
    "    mask = mask.unsqueeze(-1).expand_as(target)  # (B, T, F)\n",
    "    mse = (pred - target) ** 2\n",
    "    masked_mse = (mse * mask).sum() / mask.sum()\n",
    "    return masked_mse\n",
    "\n",
    "class EarlyStopping:\n",
    "    def __init__(self, patience=10, min_delta=1e-4):\n",
    "        self.patience = patience\n",
    "        self.min_delta = min_delta\n",
    "        self.best_loss = float('inf')\n",
    "        self.counter = 0\n",
    "        self.should_stop = False\n",
    "\n",
    "    def step(self, val_loss):\n",
    "        if val_loss < self.best_loss - self.min_delta:\n",
    "            self.best_loss = val_loss\n",
    "            self.counter = 0\n",
    "        else:\n",
    "            self.counter += 1\n",
    "            if self.counter >= self.patience:\n",
    "                self.should_stop = True\n",
    "\n",
    "## Hyperparameters and early stopping\n",
    "INPUT_DIM = step_tensor.shape[2]\n",
    "HIDDEN_DIM = 64\n",
    "LATENT_DIM = 16\n",
    "BATCH_SIZE = 32\n",
    "NUM_EPOCHS = 50\n",
    "LR = 1e-3\n",
    "PATIENCE = 10 # number of epochs to wait for improvement before stopping\n",
    "MIN_DELTA = 1e-4 # minimum change to qualify as an improvement\n",
    "\n",
    "# Data loader\n",
    "train_idx, val_idx = train_test_split(np.arange(len(step_tensor)), test_size=0.2, random_state=42)\n",
    "train_data = TensorDataset(step_tensor[train_idx], lengths[train_idx])\n",
    "val_data = TensorDataset(step_tensor[val_idx], lengths[val_idx])\n",
    "train_loader = DataLoader(train_data, batch_size=BATCH_SIZE, shuffle=True)\n",
    "val_loader = DataLoader(val_data, batch_size=BATCH_SIZE)\n",
    "\n",
    "# Model, optimizer\n",
    "model = LSTMAutoencoder(INPUT_DIM, HIDDEN_DIM, LATENT_DIM)\n",
    "optimizer = torch.optim.Adam(model.parameters(), lr=LR)\n",
    "\n",
    "early_stopper = EarlyStopping(patience=PATIENCE, min_delta=MIN_DELTA)\n",
    "best_val_loss = float('inf')\n",
    "now = datetime.now().strftime(\"%Y%m%d_%H%M%S\")\n",
    "model_filname = f'lstm_autoencoder_{now}.pt'\n",
    "best_model_path = os.path.join(MODELS_DIR, f'lstm_autoencoder_{now}.pt')\n",
    "\n",
    "# Training loop\n",
    "for epoch in range(NUM_EPOCHS):\n",
    "    t1 = timeit.default_timer()\n",
    "    model.train()\n",
    "    train_loss = 0\n",
    "    for batch_x, batch_lens in train_loader:\n",
    "        optimizer.zero_grad()\n",
    "        pred, _ = model(batch_x, batch_lens)\n",
    "        loss = masked_mse_loss(pred, batch_x, batch_lens)\n",
    "        loss.backward()\n",
    "        optimizer.step()\n",
    "        train_loss += loss.item()\n",
    "\n",
    "    model.eval()\n",
    "    val_loss = 0\n",
    "    with torch.no_grad():\n",
    "        for batch_x, batch_lens in val_loader:\n",
    "            pred, _ = model(batch_x, batch_lens)\n",
    "            val_loss += masked_mse_loss(pred, batch_x, batch_lens).item()\n",
    "\n",
    "    avg_train = train_loss / len(train_loader)\n",
    "    avg_val = val_loss / len(val_loader)\n",
    "    t2 = timeit.default_timer()\n",
    "    print(f\"Epoch {epoch+1}, Train: {avg_train:.4f} - Val: {avg_val:.4f} - Time: {t2-t1:.2f}s\")\n",
    "\n",
    "    # Save model if validation loss improves\n",
    "    if avg_val < best_val_loss:\n",
    "        best_val_loss = avg_val\n",
    "        best_state = model.state_dict()\n",
    "\n",
    "    early_stopper.step(avg_val)\n",
    "    if early_stopper.should_stop:\n",
    "        print(f\"Early stopping triggered at epoch {epoch+1}\")\n",
    "        break\n",
    "\n",
    "torch.save({'model_state_dict':best_state,\n",
    "            'epoch': epoch,\n",
    "            'val_loss': best_val_loss},\n",
    "            best_model_path)\n",
    "print(f\"Best model saved at: {best_model_path} with val loss: {best_val_loss:.4f}\")"
   ]
  },
  {
   "cell_type": "code",
   "execution_count": 14,
   "id": "8ffef7d6",
   "metadata": {},
   "outputs": [],
   "source": [
    "selected_steps = [\n",
    "    s for s in segmented_hindsteps \n",
    "    if \"left\" in s[\"mouse\"] \n",
    "]\n",
    "\n",
    "step_tensor_all, lengths_all = steps_to_tensor(selected_steps, scaler)\n",
    "\n",
    "## Get all embeddings for selected steps\n",
    "model.eval()\n",
    "with torch.no_grad():\n",
    "    _, embeddings_all = model(step_tensor_all, lengths_all) # Shape: (B, T, F) -> (B, L)"
   ]
  },
  {
   "cell_type": "code",
   "execution_count": 15,
   "id": "2931cc0e",
   "metadata": {},
   "outputs": [
    {
     "name": "stderr",
     "output_type": "stream",
     "text": [
      "/home/filthyweeb/Documents/SeriousStuff/Work/MScThesis/.venv/lib64/python3.13/site-packages/sklearn/utils/deprecation.py:151: FutureWarning: 'force_all_finite' was renamed to 'ensure_all_finite' in 1.6 and will be removed in 1.8.\n",
      "  warnings.warn(\n",
      "/home/filthyweeb/Documents/SeriousStuff/Work/MScThesis/.venv/lib64/python3.13/site-packages/umap/umap_.py:1952: UserWarning: n_jobs value 1 overridden to 1 by setting random_state. Use no seed for parallelism.\n",
      "  warn(\n"
     ]
    }
   ],
   "source": [
    "### Visualization of embeddings\n",
    "umap_coords = UMAP(n_components=3, random_state=42).fit_transform(embeddings_all)\n",
    "\n",
    "umap_df = pd.DataFrame({\n",
    "    \"UMAP1\": umap_coords[:, 0],\n",
    "    \"UMAP2\": umap_coords[:, 1],\n",
    "    \"UMAP3\": umap_coords[:, 2],\n",
    "    \"Group\": [\"healthy\" if \"pre\" in s[\"group\"] else \"unhealthy\" for s in selected_steps],\n",
    "    \"Mouse\": [s[\"mouse\"] for s in selected_steps],\n",
    "    \"Run\": [s[\"run\"] for s in selected_steps],\n",
    "    \"Dataset\": [s[\"group\"] for s in selected_steps],\n",
    "})"
   ]
  },
  {
   "cell_type": "code",
   "execution_count": null,
   "id": "b6441d5c",
   "metadata": {},
   "outputs": [
    {
     "data": {
      "application/vnd.plotly.v1+json": {
       "config": {
        "plotlyServerURL": "https://plot.ly"
       },
       "data": [
        {
         "customdata": [
          [
           "mouse1_left",
           "run1.csv",
           "A_postDLC"
          ],
          [
           "mouse1_left",
           "run1.csv",
           "A_postDLC"
          ],
          [
           "mouse1_left",
           "run1.csv",
           "A_postDLC"
          ],
          [
           "mouse1_left",
           "run1.csv",
           "A_postDLC"
          ],
          [
           "mouse1_left",
           "run3.csv",
           "A_postDLC"
          ],
          [
           "mouse1_left",
           "run3.csv",
           "A_postDLC"
          ],
          [
           "mouse1_left",
           "run3.csv",
           "A_postDLC"
          ],
          [
           "mouse1_left",
           "run3.csv",
           "A_postDLC"
          ],
          [
           "mouse1_left",
           "run4.csv",
           "A_postDLC"
          ],
          [
           "mouse1_left",
           "run4.csv",
           "A_postDLC"
          ],
          [
           "mouse1_left",
           "run4.csv",
           "A_postDLC"
          ],
          [
           "mouse1_left",
           "run4.csv",
           "A_postDLC"
          ],
          [
           "mouse1_left",
           "run4.csv",
           "A_postDLC"
          ],
          [
           "mouse2_left",
           "run1.csv",
           "A_postDLC"
          ],
          [
           "mouse2_left",
           "run1.csv",
           "A_postDLC"
          ],
          [
           "mouse2_left",
           "run1.csv",
           "A_postDLC"
          ],
          [
           "mouse2_left",
           "run1.csv",
           "A_postDLC"
          ],
          [
           "mouse2_left",
           "run3.csv",
           "A_postDLC"
          ],
          [
           "mouse2_left",
           "run3.csv",
           "A_postDLC"
          ],
          [
           "mouse2_left",
           "run3.csv",
           "A_postDLC"
          ],
          [
           "mouse2_left",
           "run3.csv",
           "A_postDLC"
          ],
          [
           "mouse2_left",
           "run5.csv",
           "A_postDLC"
          ],
          [
           "mouse2_left",
           "run5.csv",
           "A_postDLC"
          ],
          [
           "mouse2_left",
           "run6.csv",
           "A_postDLC"
          ],
          [
           "mouse2_left",
           "run6.csv",
           "A_postDLC"
          ],
          [
           "mouse2_left",
           "run6.csv",
           "A_postDLC"
          ],
          [
           "mouse3_left",
           "run3.csv",
           "A_postDLC"
          ],
          [
           "mouse3_left",
           "run3.csv",
           "A_postDLC"
          ],
          [
           "mouse3_left",
           "run3.csv",
           "A_postDLC"
          ],
          [
           "mouse3_left",
           "run4.csv",
           "A_postDLC"
          ],
          [
           "mouse3_left",
           "run4.csv",
           "A_postDLC"
          ],
          [
           "mouse3_left",
           "run4.csv",
           "A_postDLC"
          ],
          [
           "mouse3_left",
           "run6.csv",
           "A_postDLC"
          ],
          [
           "mouse3_left",
           "run6.csv",
           "A_postDLC"
          ],
          [
           "mouse3_left",
           "run7.csv",
           "A_postDLC"
          ],
          [
           "mouse3_left",
           "run7.csv",
           "A_postDLC"
          ],
          [
           "mouse3_left",
           "run7.csv",
           "A_postDLC"
          ],
          [
           "mouse3_left",
           "run7.csv",
           "A_postDLC"
          ],
          [
           "mouse3_left",
           "run9.csv",
           "A_postDLC"
          ],
          [
           "mouse3_left",
           "run9.csv",
           "A_postDLC"
          ],
          [
           "mouse3_left",
           "run9.csv",
           "A_postDLC"
          ],
          [
           "mouse4_left",
           "run1.csv",
           "A_postDLC"
          ],
          [
           "mouse4_left",
           "run1.csv",
           "A_postDLC"
          ],
          [
           "mouse4_left",
           "run1.csv",
           "A_postDLC"
          ],
          [
           "mouse4_left",
           "run1.csv",
           "A_postDLC"
          ],
          [
           "mouse4_left",
           "run1.csv",
           "A_postDLC"
          ],
          [
           "mouse4_left",
           "run3.csv",
           "A_postDLC"
          ],
          [
           "mouse4_left",
           "run3.csv",
           "A_postDLC"
          ],
          [
           "mouse4_left",
           "run3.csv",
           "A_postDLC"
          ],
          [
           "mouse4_left",
           "run3.csv",
           "A_postDLC"
          ],
          [
           "mouse4_left",
           "run5.csv",
           "A_postDLC"
          ],
          [
           "mouse4_left",
           "run5.csv",
           "A_postDLC"
          ],
          [
           "mouse4_left",
           "run5.csv",
           "A_postDLC"
          ],
          [
           "mouse4_left",
           "run5.csv",
           "A_postDLC"
          ],
          [
           "mouse5_left",
           "run1.csv",
           "A_postDLC"
          ],
          [
           "mouse5_left",
           "run1.csv",
           "A_postDLC"
          ],
          [
           "mouse5_left",
           "run1.csv",
           "A_postDLC"
          ],
          [
           "mouse5_left",
           "run1.csv",
           "A_postDLC"
          ],
          [
           "mouse5_left",
           "run1.csv",
           "A_postDLC"
          ],
          [
           "mouse5_left",
           "run2.csv",
           "A_postDLC"
          ],
          [
           "mouse5_left",
           "run2.csv",
           "A_postDLC"
          ],
          [
           "mouse5_left",
           "run2.csv",
           "A_postDLC"
          ],
          [
           "mouse5_left",
           "run2.csv",
           "A_postDLC"
          ],
          [
           "mouse5_left",
           "run3.csv",
           "A_postDLC"
          ],
          [
           "mouse5_left",
           "run3.csv",
           "A_postDLC"
          ],
          [
           "mouse5_left",
           "run3.csv",
           "A_postDLC"
          ],
          [
           "mouse5_left",
           "run3.csv",
           "A_postDLC"
          ],
          [
           "mouse6_left",
           "run1.csv",
           "A_postDLC"
          ],
          [
           "mouse6_left",
           "run1.csv",
           "A_postDLC"
          ],
          [
           "mouse6_left",
           "run1.csv",
           "A_postDLC"
          ],
          [
           "mouse6_left",
           "run1.csv",
           "A_postDLC"
          ],
          [
           "mouse6_left",
           "run2.csv",
           "A_postDLC"
          ],
          [
           "mouse6_left",
           "run2.csv",
           "A_postDLC"
          ],
          [
           "mouse6_left",
           "run5.csv",
           "A_postDLC"
          ],
          [
           "mouse6_left",
           "run5.csv",
           "A_postDLC"
          ],
          [
           "mouse6_left",
           "run5.csv",
           "A_postDLC"
          ],
          [
           "mouse6_left",
           "run5.csv",
           "A_postDLC"
          ],
          [
           "mouse6_left",
           "run5.csv",
           "A_postDLC"
          ],
          [
           "mouse6_left",
           "run8.csv",
           "A_postDLC"
          ],
          [
           "mouse6_left",
           "run8.csv",
           "A_postDLC"
          ],
          [
           "mouse6_left",
           "run8.csv",
           "A_postDLC"
          ],
          [
           "mouse6_left",
           "run8.csv",
           "A_postDLC"
          ],
          [
           "mouse7_left",
           "run2.csv",
           "A_postDLC"
          ],
          [
           "mouse7_left",
           "run2.csv",
           "A_postDLC"
          ],
          [
           "mouse7_left",
           "run2.csv",
           "A_postDLC"
          ],
          [
           "mouse7_left",
           "run4.csv",
           "A_postDLC"
          ],
          [
           "mouse7_left",
           "run4.csv",
           "A_postDLC"
          ],
          [
           "mouse7_left",
           "run4.csv",
           "A_postDLC"
          ],
          [
           "mouse7_left",
           "run6.csv",
           "A_postDLC"
          ],
          [
           "mouse7_left",
           "run6.csv",
           "A_postDLC"
          ],
          [
           "mouse7_left",
           "run6.csv",
           "A_postDLC"
          ],
          [
           "mouse8_left",
           "run1.csv",
           "A_postDLC"
          ],
          [
           "mouse8_left",
           "run1.csv",
           "A_postDLC"
          ],
          [
           "mouse8_left",
           "run1.csv",
           "A_postDLC"
          ],
          [
           "mouse8_left",
           "run1.csv",
           "A_postDLC"
          ],
          [
           "mouse8_left",
           "run1.csv",
           "A_postDLC"
          ],
          [
           "mouse8_left",
           "run3.csv",
           "A_postDLC"
          ],
          [
           "mouse8_left",
           "run3.csv",
           "A_postDLC"
          ],
          [
           "mouse8_left",
           "run3.csv",
           "A_postDLC"
          ],
          [
           "mouse8_left",
           "run5.csv",
           "A_postDLC"
          ],
          [
           "mouse8_left",
           "run5.csv",
           "A_postDLC"
          ],
          [
           "mouse8_left",
           "run5.csv",
           "A_postDLC"
          ],
          [
           "mouse8_left",
           "run5.csv",
           "A_postDLC"
          ],
          [
           "mouse8_left",
           "run6.csv",
           "A_postDLC"
          ],
          [
           "mouse8_left",
           "run6.csv",
           "A_postDLC"
          ],
          [
           "mouse8_left",
           "run6.csv",
           "A_postDLC"
          ],
          [
           "mouse9_left",
           "run1.csv",
           "A_postDLC"
          ],
          [
           "mouse9_left",
           "run1.csv",
           "A_postDLC"
          ],
          [
           "mouse9_left",
           "run1.csv",
           "A_postDLC"
          ],
          [
           "mouse9_left",
           "run1.csv",
           "A_postDLC"
          ],
          [
           "mouse9_left",
           "run3.csv",
           "A_postDLC"
          ],
          [
           "mouse9_left",
           "run3.csv",
           "A_postDLC"
          ],
          [
           "mouse9_left",
           "run3.csv",
           "A_postDLC"
          ],
          [
           "mouse9_left",
           "run3.csv",
           "A_postDLC"
          ],
          [
           "mouse9_left",
           "run4.csv",
           "A_postDLC"
          ],
          [
           "mouse9_left",
           "run4.csv",
           "A_postDLC"
          ],
          [
           "mouse9_left",
           "run4.csv",
           "A_postDLC"
          ],
          [
           "mouse9_left",
           "run5.csv",
           "A_postDLC"
          ],
          [
           "mouse9_left",
           "run5.csv",
           "A_postDLC"
          ],
          [
           "mouse9_left",
           "run5.csv",
           "A_postDLC"
          ],
          [
           "mouse9_left",
           "run5.csv",
           "A_postDLC"
          ],
          [
           "mouse9_left",
           "run7.csv",
           "A_postDLC"
          ],
          [
           "mouse9_left",
           "run7.csv",
           "A_postDLC"
          ],
          [
           "mouse9_left",
           "run7.csv",
           "A_postDLC"
          ],
          [
           "mouse10_left",
           "run1.csv",
           "A_postDLC"
          ],
          [
           "mouse10_left",
           "run1.csv",
           "A_postDLC"
          ],
          [
           "mouse10_left",
           "run1.csv",
           "A_postDLC"
          ],
          [
           "mouse10_left",
           "run1.csv",
           "A_postDLC"
          ],
          [
           "mouse10_left",
           "run1.csv",
           "A_postDLC"
          ],
          [
           "mouse10_left",
           "run1.csv",
           "A_postDLC"
          ],
          [
           "mouse10_left",
           "run3.csv",
           "A_postDLC"
          ],
          [
           "mouse10_left",
           "run3.csv",
           "A_postDLC"
          ],
          [
           "mouse10_left",
           "run3.csv",
           "A_postDLC"
          ],
          [
           "mouse10_left",
           "run3.csv",
           "A_postDLC"
          ],
          [
           "mouse10_left",
           "run5.csv",
           "A_postDLC"
          ],
          [
           "mouse10_left",
           "run5.csv",
           "A_postDLC"
          ],
          [
           "mouse10_left",
           "run5.csv",
           "A_postDLC"
          ],
          [
           "mouse10_left",
           "run5.csv",
           "A_postDLC"
          ],
          [
           "mouse10_left",
           "run6.csv",
           "A_postDLC"
          ],
          [
           "mouse10_left",
           "run6.csv",
           "A_postDLC"
          ],
          [
           "mouse10_left",
           "run6.csv",
           "A_postDLC"
          ],
          [
           "mouse10_left",
           "run6.csv",
           "A_postDLC"
          ],
          [
           "mouse11_left",
           "run3.csv",
           "B_postDLC"
          ],
          [
           "mouse11_left",
           "run3.csv",
           "B_postDLC"
          ],
          [
           "mouse11_left",
           "run3.csv",
           "B_postDLC"
          ],
          [
           "mouse11_left",
           "run3.csv",
           "B_postDLC"
          ],
          [
           "mouse11_left",
           "run3.csv",
           "B_postDLC"
          ],
          [
           "mouse11_left",
           "run5.csv",
           "B_postDLC"
          ],
          [
           "mouse11_left",
           "run5.csv",
           "B_postDLC"
          ],
          [
           "mouse11_left",
           "run5.csv",
           "B_postDLC"
          ],
          [
           "mouse11_left",
           "run5.csv",
           "B_postDLC"
          ],
          [
           "mouse11_left",
           "run6.csv",
           "B_postDLC"
          ],
          [
           "mouse11_left",
           "run6.csv",
           "B_postDLC"
          ],
          [
           "mouse11_left",
           "run6.csv",
           "B_postDLC"
          ],
          [
           "mouse12_left",
           "run1.csv",
           "B_postDLC"
          ],
          [
           "mouse12_left",
           "run1.csv",
           "B_postDLC"
          ],
          [
           "mouse12_left",
           "run1.csv",
           "B_postDLC"
          ],
          [
           "mouse12_left",
           "run1.csv",
           "B_postDLC"
          ],
          [
           "mouse12_left",
           "run2.csv",
           "B_postDLC"
          ],
          [
           "mouse12_left",
           "run2.csv",
           "B_postDLC"
          ],
          [
           "mouse12_left",
           "run2.csv",
           "B_postDLC"
          ],
          [
           "mouse12_left",
           "run4.csv",
           "B_postDLC"
          ],
          [
           "mouse12_left",
           "run4.csv",
           "B_postDLC"
          ],
          [
           "mouse12_left",
           "run4.csv",
           "B_postDLC"
          ],
          [
           "mouse12_left",
           "run4.csv",
           "B_postDLC"
          ],
          [
           "mouse13_left",
           "run1.csv",
           "B_postDLC"
          ],
          [
           "mouse13_left",
           "run1.csv",
           "B_postDLC"
          ],
          [
           "mouse13_left",
           "run1.csv",
           "B_postDLC"
          ],
          [
           "mouse13_left",
           "run3.csv",
           "B_postDLC"
          ],
          [
           "mouse13_left",
           "run3.csv",
           "B_postDLC"
          ],
          [
           "mouse13_left",
           "run3.csv",
           "B_postDLC"
          ],
          [
           "mouse13_left",
           "run3.csv",
           "B_postDLC"
          ],
          [
           "mouse13_left",
           "run5.csv",
           "B_postDLC"
          ],
          [
           "mouse13_left",
           "run5.csv",
           "B_postDLC"
          ],
          [
           "mouse13_left",
           "run5.csv",
           "B_postDLC"
          ],
          [
           "mouse14_left",
           "run1.csv",
           "B_postDLC"
          ],
          [
           "mouse14_left",
           "run1.csv",
           "B_postDLC"
          ],
          [
           "mouse14_left",
           "run1.csv",
           "B_postDLC"
          ],
          [
           "mouse14_left",
           "run3.csv",
           "B_postDLC"
          ],
          [
           "mouse14_left",
           "run3.csv",
           "B_postDLC"
          ],
          [
           "mouse14_left",
           "run3.csv",
           "B_postDLC"
          ],
          [
           "mouse14_left",
           "run4.csv",
           "B_postDLC"
          ],
          [
           "mouse14_left",
           "run4.csv",
           "B_postDLC"
          ],
          [
           "mouse14_left",
           "run4.csv",
           "B_postDLC"
          ],
          [
           "mouse14_left",
           "run4.csv",
           "B_postDLC"
          ],
          [
           "mouse15_left",
           "run1.csv",
           "B_postDLC"
          ],
          [
           "mouse15_left",
           "run1.csv",
           "B_postDLC"
          ],
          [
           "mouse15_left",
           "run1.csv",
           "B_postDLC"
          ],
          [
           "mouse15_left",
           "run1.csv",
           "B_postDLC"
          ],
          [
           "mouse15_left",
           "run3.csv",
           "B_postDLC"
          ],
          [
           "mouse15_left",
           "run3.csv",
           "B_postDLC"
          ],
          [
           "mouse15_left",
           "run3.csv",
           "B_postDLC"
          ],
          [
           "mouse15_left",
           "run3.csv",
           "B_postDLC"
          ],
          [
           "mouse15_left",
           "run5.csv",
           "B_postDLC"
          ],
          [
           "mouse15_left",
           "run5.csv",
           "B_postDLC"
          ],
          [
           "mouse15_left",
           "run5.csv",
           "B_postDLC"
          ],
          [
           "mouse16_left",
           "run1.csv",
           "B_postDLC"
          ],
          [
           "mouse16_left",
           "run1.csv",
           "B_postDLC"
          ],
          [
           "mouse16_left",
           "run1.csv",
           "B_postDLC"
          ],
          [
           "mouse16_left",
           "run1.csv",
           "B_postDLC"
          ],
          [
           "mouse16_left",
           "run3.csv",
           "B_postDLC"
          ],
          [
           "mouse16_left",
           "run3.csv",
           "B_postDLC"
          ],
          [
           "mouse16_left",
           "run3.csv",
           "B_postDLC"
          ],
          [
           "mouse16_left",
           "run3.csv",
           "B_postDLC"
          ],
          [
           "mouse16_left",
           "run6.csv",
           "B_postDLC"
          ],
          [
           "mouse16_left",
           "run6.csv",
           "B_postDLC"
          ],
          [
           "mouse16_left",
           "run6.csv",
           "B_postDLC"
          ],
          [
           "mouse16_left",
           "run6.csv",
           "B_postDLC"
          ],
          [
           "mouse16_left",
           "run6.csv",
           "B_postDLC"
          ],
          [
           "mouse16_left",
           "run7.csv",
           "B_postDLC"
          ],
          [
           "mouse16_left",
           "run7.csv",
           "B_postDLC"
          ],
          [
           "mouse16_left",
           "run7.csv",
           "B_postDLC"
          ],
          [
           "mouse16_left",
           "run7.csv",
           "B_postDLC"
          ],
          [
           "mouse17_left",
           "run3.csv",
           "B_postDLC"
          ],
          [
           "mouse17_left",
           "run3.csv",
           "B_postDLC"
          ],
          [
           "mouse17_left",
           "run3.csv",
           "B_postDLC"
          ],
          [
           "mouse17_left",
           "run4.csv",
           "B_postDLC"
          ],
          [
           "mouse17_left",
           "run4.csv",
           "B_postDLC"
          ],
          [
           "mouse17_left",
           "run4.csv",
           "B_postDLC"
          ],
          [
           "mouse17_left",
           "run4.csv",
           "B_postDLC"
          ],
          [
           "mouse17_left",
           "run6.csv",
           "B_postDLC"
          ],
          [
           "mouse17_left",
           "run6.csv",
           "B_postDLC"
          ],
          [
           "mouse17_left",
           "run6.csv",
           "B_postDLC"
          ],
          [
           "mouse17_left",
           "run8.csv",
           "B_postDLC"
          ],
          [
           "mouse17_left",
           "run8.csv",
           "B_postDLC"
          ],
          [
           "mouse17_left",
           "run8.csv",
           "B_postDLC"
          ],
          [
           "mouse18_left",
           "run1.csv",
           "B_postDLC"
          ],
          [
           "mouse18_left",
           "run1.csv",
           "B_postDLC"
          ],
          [
           "mouse18_left",
           "run1.csv",
           "B_postDLC"
          ],
          [
           "mouse18_left",
           "run1.csv",
           "B_postDLC"
          ],
          [
           "mouse18_left",
           "run3.csv",
           "B_postDLC"
          ],
          [
           "mouse18_left",
           "run3.csv",
           "B_postDLC"
          ],
          [
           "mouse18_left",
           "run3.csv",
           "B_postDLC"
          ],
          [
           "mouse18_left",
           "run3.csv",
           "B_postDLC"
          ],
          [
           "mouse18_left",
           "run5.csv",
           "B_postDLC"
          ],
          [
           "mouse18_left",
           "run5.csv",
           "B_postDLC"
          ],
          [
           "mouse18_left",
           "run5.csv",
           "B_postDLC"
          ],
          [
           "mouse18_left",
           "run5.csv",
           "B_postDLC"
          ],
          [
           "mouse19_left",
           "run2.csv",
           "B_postDLC"
          ],
          [
           "mouse19_left",
           "run2.csv",
           "B_postDLC"
          ],
          [
           "mouse19_left",
           "run2.csv",
           "B_postDLC"
          ],
          [
           "mouse19_left",
           "run2.csv",
           "B_postDLC"
          ],
          [
           "mouse19_left",
           "run4.csv",
           "B_postDLC"
          ],
          [
           "mouse19_left",
           "run4.csv",
           "B_postDLC"
          ],
          [
           "mouse19_left",
           "run4.csv",
           "B_postDLC"
          ],
          [
           "mouse19_left",
           "run4.csv",
           "B_postDLC"
          ],
          [
           "mouse19_left",
           "run6.csv",
           "B_postDLC"
          ],
          [
           "mouse19_left",
           "run6.csv",
           "B_postDLC"
          ],
          [
           "mouse19_left",
           "run6.csv",
           "B_postDLC"
          ],
          [
           "mouse20_left",
           "run1.csv",
           "B_postDLC"
          ],
          [
           "mouse20_left",
           "run1.csv",
           "B_postDLC"
          ],
          [
           "mouse20_left",
           "run1.csv",
           "B_postDLC"
          ],
          [
           "mouse20_left",
           "run1.csv",
           "B_postDLC"
          ],
          [
           "mouse20_left",
           "run2.csv",
           "B_postDLC"
          ],
          [
           "mouse20_left",
           "run2.csv",
           "B_postDLC"
          ],
          [
           "mouse20_left",
           "run2.csv",
           "B_postDLC"
          ],
          [
           "mouse20_left",
           "run2.csv",
           "B_postDLC"
          ],
          [
           "mouse20_left",
           "run5.csv",
           "B_postDLC"
          ],
          [
           "mouse20_left",
           "run5.csv",
           "B_postDLC"
          ],
          [
           "mouse20_left",
           "run5.csv",
           "B_postDLC"
          ],
          [
           "mouse20_left",
           "run5.csv",
           "B_postDLC"
          ],
          [
           "mouse20_left",
           "run5.csv",
           "B_postDLC"
          ],
          [
           "mouse21_left",
           "run1.csv",
           "C_postDLC"
          ],
          [
           "mouse21_left",
           "run1.csv",
           "C_postDLC"
          ],
          [
           "mouse21_left",
           "run1.csv",
           "C_postDLC"
          ],
          [
           "mouse21_left",
           "run1.csv",
           "C_postDLC"
          ],
          [
           "mouse21_left",
           "run3.csv",
           "C_postDLC"
          ],
          [
           "mouse21_left",
           "run3.csv",
           "C_postDLC"
          ],
          [
           "mouse21_left",
           "run3.csv",
           "C_postDLC"
          ],
          [
           "mouse21_left",
           "run3.csv",
           "C_postDLC"
          ],
          [
           "mouse21_left",
           "run5.csv",
           "C_postDLC"
          ],
          [
           "mouse21_left",
           "run5.csv",
           "C_postDLC"
          ],
          [
           "mouse21_left",
           "run5.csv",
           "C_postDLC"
          ],
          [
           "mouse21_left",
           "run5.csv",
           "C_postDLC"
          ],
          [
           "mouse22_left",
           "run1.csv",
           "C_postDLC"
          ],
          [
           "mouse22_left",
           "run1.csv",
           "C_postDLC"
          ],
          [
           "mouse22_left",
           "run1.csv",
           "C_postDLC"
          ],
          [
           "mouse22_left",
           "run1.csv",
           "C_postDLC"
          ],
          [
           "mouse22_left",
           "run1.csv",
           "C_postDLC"
          ],
          [
           "mouse22_left",
           "run3.csv",
           "C_postDLC"
          ],
          [
           "mouse22_left",
           "run3.csv",
           "C_postDLC"
          ],
          [
           "mouse22_left",
           "run3.csv",
           "C_postDLC"
          ],
          [
           "mouse22_left",
           "run3.csv",
           "C_postDLC"
          ],
          [
           "mouse22_left",
           "run5.csv",
           "C_postDLC"
          ],
          [
           "mouse22_left",
           "run5.csv",
           "C_postDLC"
          ],
          [
           "mouse22_left",
           "run5.csv",
           "C_postDLC"
          ],
          [
           "mouse22_left",
           "run5.csv",
           "C_postDLC"
          ],
          [
           "mouse22_left",
           "run5.csv",
           "C_postDLC"
          ],
          [
           "mouse22_left",
           "run5.csv",
           "C_postDLC"
          ],
          [
           "mouse23_left",
           "run1.csv",
           "C_postDLC"
          ],
          [
           "mouse23_left",
           "run1.csv",
           "C_postDLC"
          ],
          [
           "mouse23_left",
           "run3.csv",
           "C_postDLC"
          ],
          [
           "mouse23_left",
           "run3.csv",
           "C_postDLC"
          ],
          [
           "mouse23_left",
           "run3.csv",
           "C_postDLC"
          ],
          [
           "mouse23_left",
           "run3.csv",
           "C_postDLC"
          ],
          [
           "mouse23_left",
           "run5.csv",
           "C_postDLC"
          ],
          [
           "mouse23_left",
           "run5.csv",
           "C_postDLC"
          ],
          [
           "mouse23_left",
           "run5.csv",
           "C_postDLC"
          ],
          [
           "mouse24_left",
           "run1.csv",
           "C_postDLC"
          ],
          [
           "mouse24_left",
           "run1.csv",
           "C_postDLC"
          ],
          [
           "mouse24_left",
           "run1.csv",
           "C_postDLC"
          ],
          [
           "mouse24_left",
           "run2.csv",
           "C_postDLC"
          ],
          [
           "mouse24_left",
           "run2.csv",
           "C_postDLC"
          ],
          [
           "mouse24_left",
           "run2.csv",
           "C_postDLC"
          ],
          [
           "mouse24_left",
           "run2.csv",
           "C_postDLC"
          ],
          [
           "mouse24_left",
           "run5.csv",
           "C_postDLC"
          ],
          [
           "mouse24_left",
           "run5.csv",
           "C_postDLC"
          ],
          [
           "mouse24_left",
           "run5.csv",
           "C_postDLC"
          ],
          [
           "mouse24_left",
           "run5.csv",
           "C_postDLC"
          ],
          [
           "mouse25_left",
           "run1.csv",
           "C_postDLC"
          ],
          [
           "mouse25_left",
           "run1.csv",
           "C_postDLC"
          ],
          [
           "mouse25_left",
           "run1.csv",
           "C_postDLC"
          ],
          [
           "mouse25_left",
           "run1.csv",
           "C_postDLC"
          ],
          [
           "mouse25_left",
           "run6.csv",
           "C_postDLC"
          ],
          [
           "mouse25_left",
           "run6.csv",
           "C_postDLC"
          ],
          [
           "mouse25_left",
           "run6.csv",
           "C_postDLC"
          ],
          [
           "mouse25_left",
           "run6.csv",
           "C_postDLC"
          ],
          [
           "mouse25_left",
           "run6.csv",
           "C_postDLC"
          ],
          [
           "mouse25_left",
           "run6.csv",
           "C_postDLC"
          ],
          [
           "mouse25_left",
           "run7.csv",
           "C_postDLC"
          ],
          [
           "mouse25_left",
           "run7.csv",
           "C_postDLC"
          ],
          [
           "mouse25_left",
           "run7.csv",
           "C_postDLC"
          ],
          [
           "mouse25_left",
           "run7.csv",
           "C_postDLC"
          ],
          [
           "mouse25_left",
           "run7.csv",
           "C_postDLC"
          ],
          [
           "mouse25_left",
           "run7.csv",
           "C_postDLC"
          ],
          [
           "mouse26_left",
           "run1.csv",
           "C_postDLC"
          ],
          [
           "mouse26_left",
           "run1.csv",
           "C_postDLC"
          ],
          [
           "mouse26_left",
           "run1.csv",
           "C_postDLC"
          ],
          [
           "mouse26_left",
           "run3.csv",
           "C_postDLC"
          ],
          [
           "mouse26_left",
           "run3.csv",
           "C_postDLC"
          ],
          [
           "mouse26_left",
           "run3.csv",
           "C_postDLC"
          ],
          [
           "mouse26_left",
           "run3.csv",
           "C_postDLC"
          ],
          [
           "mouse26_left",
           "run5.csv",
           "C_postDLC"
          ],
          [
           "mouse26_left",
           "run5.csv",
           "C_postDLC"
          ],
          [
           "mouse26_left",
           "run5.csv",
           "C_postDLC"
          ],
          [
           "mouse26_left",
           "run5.csv",
           "C_postDLC"
          ],
          [
           "mouse27_left",
           "run1.csv",
           "C_postDLC"
          ],
          [
           "mouse27_left",
           "run1.csv",
           "C_postDLC"
          ],
          [
           "mouse27_left",
           "run1.csv",
           "C_postDLC"
          ],
          [
           "mouse27_left",
           "run3.csv",
           "C_postDLC"
          ],
          [
           "mouse27_left",
           "run3.csv",
           "C_postDLC"
          ],
          [
           "mouse27_left",
           "run3.csv",
           "C_postDLC"
          ],
          [
           "mouse27_left",
           "run3.csv",
           "C_postDLC"
          ],
          [
           "mouse27_left",
           "run3.csv",
           "C_postDLC"
          ],
          [
           "mouse27_left",
           "run4.csv",
           "C_postDLC"
          ],
          [
           "mouse27_left",
           "run4.csv",
           "C_postDLC"
          ],
          [
           "mouse27_left",
           "run4.csv",
           "C_postDLC"
          ],
          [
           "mouse27_left",
           "run4.csv",
           "C_postDLC"
          ],
          [
           "mouse27_left",
           "run4.csv",
           "C_postDLC"
          ],
          [
           "mouse28_left",
           "run1.csv",
           "C_postDLC"
          ],
          [
           "mouse28_left",
           "run1.csv",
           "C_postDLC"
          ],
          [
           "mouse28_left",
           "run1.csv",
           "C_postDLC"
          ],
          [
           "mouse28_left",
           "run1.csv",
           "C_postDLC"
          ],
          [
           "mouse28_left",
           "run2.csv",
           "C_postDLC"
          ],
          [
           "mouse28_left",
           "run2.csv",
           "C_postDLC"
          ],
          [
           "mouse28_left",
           "run2.csv",
           "C_postDLC"
          ],
          [
           "mouse28_left",
           "run2.csv",
           "C_postDLC"
          ],
          [
           "mouse28_left",
           "run2.csv",
           "C_postDLC"
          ],
          [
           "mouse28_left",
           "run4.csv",
           "C_postDLC"
          ],
          [
           "mouse28_left",
           "run4.csv",
           "C_postDLC"
          ],
          [
           "mouse28_left",
           "run4.csv",
           "C_postDLC"
          ],
          [
           "mouse28_left",
           "run4.csv",
           "C_postDLC"
          ],
          [
           "mouse28_left",
           "run4.csv",
           "C_postDLC"
          ],
          [
           "mouse29_left",
           "run1.csv",
           "C_postDLC"
          ],
          [
           "mouse29_left",
           "run1.csv",
           "C_postDLC"
          ],
          [
           "mouse29_left",
           "run1.csv",
           "C_postDLC"
          ],
          [
           "mouse29_left",
           "run2.csv",
           "C_postDLC"
          ],
          [
           "mouse29_left",
           "run2.csv",
           "C_postDLC"
          ],
          [
           "mouse29_left",
           "run2.csv",
           "C_postDLC"
          ],
          [
           "mouse29_left",
           "run5.csv",
           "C_postDLC"
          ],
          [
           "mouse29_left",
           "run5.csv",
           "C_postDLC"
          ],
          [
           "mouse29_left",
           "run5.csv",
           "C_postDLC"
          ],
          [
           "mouse29_left",
           "run5.csv",
           "C_postDLC"
          ],
          [
           "mouse30_left",
           "run1.csv",
           "C_postDLC"
          ],
          [
           "mouse30_left",
           "run1.csv",
           "C_postDLC"
          ],
          [
           "mouse30_left",
           "run1.csv",
           "C_postDLC"
          ],
          [
           "mouse30_left",
           "run3.csv",
           "C_postDLC"
          ],
          [
           "mouse30_left",
           "run3.csv",
           "C_postDLC"
          ],
          [
           "mouse30_left",
           "run3.csv",
           "C_postDLC"
          ],
          [
           "mouse30_left",
           "run3.csv",
           "C_postDLC"
          ],
          [
           "mouse30_left",
           "run6.csv",
           "C_postDLC"
          ],
          [
           "mouse30_left",
           "run6.csv",
           "C_postDLC"
          ],
          [
           "mouse30_left",
           "run6.csv",
           "C_postDLC"
          ],
          [
           "mouse30_left",
           "run6.csv",
           "C_postDLC"
          ],
          [
           "mouse30_left",
           "run6.csv",
           "C_postDLC"
          ],
          [
           "mouse31_left",
           "run1.csv",
           "D_postDLC"
          ],
          [
           "mouse31_left",
           "run1.csv",
           "D_postDLC"
          ],
          [
           "mouse31_left",
           "run1.csv",
           "D_postDLC"
          ],
          [
           "mouse31_left",
           "run1.csv",
           "D_postDLC"
          ],
          [
           "mouse31_left",
           "run3.csv",
           "D_postDLC"
          ],
          [
           "mouse31_left",
           "run3.csv",
           "D_postDLC"
          ],
          [
           "mouse31_left",
           "run3.csv",
           "D_postDLC"
          ],
          [
           "mouse31_left",
           "run3.csv",
           "D_postDLC"
          ],
          [
           "mouse31_left",
           "run4.csv",
           "D_postDLC"
          ],
          [
           "mouse31_left",
           "run4.csv",
           "D_postDLC"
          ],
          [
           "mouse31_left",
           "run4.csv",
           "D_postDLC"
          ],
          [
           "mouse31_left",
           "run4.csv",
           "D_postDLC"
          ],
          [
           "mouse31_left",
           "run4.csv",
           "D_postDLC"
          ],
          [
           "mouse32_left",
           "run1.csv",
           "D_postDLC"
          ],
          [
           "mouse32_left",
           "run1.csv",
           "D_postDLC"
          ],
          [
           "mouse32_left",
           "run1.csv",
           "D_postDLC"
          ],
          [
           "mouse32_left",
           "run3.csv",
           "D_postDLC"
          ],
          [
           "mouse32_left",
           "run3.csv",
           "D_postDLC"
          ],
          [
           "mouse32_left",
           "run3.csv",
           "D_postDLC"
          ],
          [
           "mouse32_left",
           "run3.csv",
           "D_postDLC"
          ],
          [
           "mouse32_left",
           "run4.csv",
           "D_postDLC"
          ],
          [
           "mouse32_left",
           "run4.csv",
           "D_postDLC"
          ],
          [
           "mouse32_left",
           "run4.csv",
           "D_postDLC"
          ],
          [
           "mouse32_left",
           "run4.csv",
           "D_postDLC"
          ],
          [
           "mouse32_left",
           "run4.csv",
           "D_postDLC"
          ],
          [
           "mouse33_left",
           "run1.csv",
           "D_postDLC"
          ],
          [
           "mouse33_left",
           "run1.csv",
           "D_postDLC"
          ],
          [
           "mouse33_left",
           "run1.csv",
           "D_postDLC"
          ],
          [
           "mouse33_left",
           "run3.csv",
           "D_postDLC"
          ],
          [
           "mouse33_left",
           "run3.csv",
           "D_postDLC"
          ],
          [
           "mouse33_left",
           "run3.csv",
           "D_postDLC"
          ],
          [
           "mouse33_left",
           "run3.csv",
           "D_postDLC"
          ],
          [
           "mouse33_left",
           "run5.csv",
           "D_postDLC"
          ],
          [
           "mouse33_left",
           "run5.csv",
           "D_postDLC"
          ],
          [
           "mouse33_left",
           "run5.csv",
           "D_postDLC"
          ],
          [
           "mouse33_left",
           "run5.csv",
           "D_postDLC"
          ],
          [
           "mouse34_left",
           "run1.csv",
           "D_postDLC"
          ],
          [
           "mouse34_left",
           "run1.csv",
           "D_postDLC"
          ],
          [
           "mouse34_left",
           "run1.csv",
           "D_postDLC"
          ],
          [
           "mouse34_left",
           "run1.csv",
           "D_postDLC"
          ],
          [
           "mouse34_left",
           "run3.csv",
           "D_postDLC"
          ],
          [
           "mouse34_left",
           "run3.csv",
           "D_postDLC"
          ],
          [
           "mouse34_left",
           "run3.csv",
           "D_postDLC"
          ],
          [
           "mouse34_left",
           "run3.csv",
           "D_postDLC"
          ],
          [
           "mouse34_left",
           "run5.csv",
           "D_postDLC"
          ],
          [
           "mouse34_left",
           "run5.csv",
           "D_postDLC"
          ],
          [
           "mouse34_left",
           "run5.csv",
           "D_postDLC"
          ],
          [
           "mouse34_left",
           "run5.csv",
           "D_postDLC"
          ],
          [
           "mouse34_left",
           "run5.csv",
           "D_postDLC"
          ],
          [
           "mouse34_left",
           "run5.csv",
           "D_postDLC"
          ],
          [
           "mouse35_left",
           "run1.csv",
           "D_postDLC"
          ],
          [
           "mouse35_left",
           "run1.csv",
           "D_postDLC"
          ],
          [
           "mouse35_left",
           "run1.csv",
           "D_postDLC"
          ],
          [
           "mouse35_left",
           "run1.csv",
           "D_postDLC"
          ],
          [
           "mouse35_left",
           "run3.csv",
           "D_postDLC"
          ],
          [
           "mouse35_left",
           "run3.csv",
           "D_postDLC"
          ],
          [
           "mouse35_left",
           "run3.csv",
           "D_postDLC"
          ],
          [
           "mouse35_left",
           "run3.csv",
           "D_postDLC"
          ],
          [
           "mouse35_left",
           "run3.csv",
           "D_postDLC"
          ],
          [
           "mouse35_left",
           "run6.csv",
           "D_postDLC"
          ],
          [
           "mouse35_left",
           "run6.csv",
           "D_postDLC"
          ],
          [
           "mouse35_left",
           "run6.csv",
           "D_postDLC"
          ],
          [
           "mouse35_left",
           "run6.csv",
           "D_postDLC"
          ],
          [
           "mouse36_left",
           "run1.csv",
           "D_postDLC"
          ],
          [
           "mouse36_left",
           "run1.csv",
           "D_postDLC"
          ],
          [
           "mouse36_left",
           "run1.csv",
           "D_postDLC"
          ],
          [
           "mouse36_left",
           "run1.csv",
           "D_postDLC"
          ],
          [
           "mouse36_left",
           "run3.csv",
           "D_postDLC"
          ],
          [
           "mouse36_left",
           "run3.csv",
           "D_postDLC"
          ],
          [
           "mouse36_left",
           "run3.csv",
           "D_postDLC"
          ],
          [
           "mouse36_left",
           "run3.csv",
           "D_postDLC"
          ],
          [
           "mouse36_left",
           "run4.csv",
           "D_postDLC"
          ],
          [
           "mouse36_left",
           "run4.csv",
           "D_postDLC"
          ],
          [
           "mouse36_left",
           "run4.csv",
           "D_postDLC"
          ],
          [
           "mouse36_left",
           "run4.csv",
           "D_postDLC"
          ],
          [
           "mouse37_left",
           "run1.csv",
           "D_postDLC"
          ],
          [
           "mouse37_left",
           "run1.csv",
           "D_postDLC"
          ],
          [
           "mouse37_left",
           "run1.csv",
           "D_postDLC"
          ],
          [
           "mouse37_left",
           "run1.csv",
           "D_postDLC"
          ],
          [
           "mouse37_left",
           "run3.csv",
           "D_postDLC"
          ],
          [
           "mouse37_left",
           "run3.csv",
           "D_postDLC"
          ],
          [
           "mouse37_left",
           "run3.csv",
           "D_postDLC"
          ],
          [
           "mouse37_left",
           "run5.csv",
           "D_postDLC"
          ],
          [
           "mouse37_left",
           "run5.csv",
           "D_postDLC"
          ],
          [
           "mouse37_left",
           "run5.csv",
           "D_postDLC"
          ],
          [
           "mouse38_left",
           "run1.csv",
           "D_postDLC"
          ],
          [
           "mouse38_left",
           "run1.csv",
           "D_postDLC"
          ],
          [
           "mouse38_left",
           "run1.csv",
           "D_postDLC"
          ],
          [
           "mouse38_left",
           "run1.csv",
           "D_postDLC"
          ],
          [
           "mouse38_left",
           "run3.csv",
           "D_postDLC"
          ],
          [
           "mouse38_left",
           "run3.csv",
           "D_postDLC"
          ],
          [
           "mouse38_left",
           "run3.csv",
           "D_postDLC"
          ],
          [
           "mouse38_left",
           "run7.csv",
           "D_postDLC"
          ],
          [
           "mouse38_left",
           "run7.csv",
           "D_postDLC"
          ],
          [
           "mouse39_left",
           "run1.csv",
           "D_postDLC"
          ],
          [
           "mouse39_left",
           "run1.csv",
           "D_postDLC"
          ],
          [
           "mouse39_left",
           "run1.csv",
           "D_postDLC"
          ],
          [
           "mouse39_left",
           "run1.csv",
           "D_postDLC"
          ],
          [
           "mouse39_left",
           "run2.csv",
           "D_postDLC"
          ],
          [
           "mouse39_left",
           "run2.csv",
           "D_postDLC"
          ],
          [
           "mouse39_left",
           "run2.csv",
           "D_postDLC"
          ],
          [
           "mouse39_left",
           "run2.csv",
           "D_postDLC"
          ],
          [
           "mouse39_left",
           "run4.csv",
           "D_postDLC"
          ],
          [
           "mouse39_left",
           "run4.csv",
           "D_postDLC"
          ],
          [
           "mouse39_left",
           "run4.csv",
           "D_postDLC"
          ],
          [
           "mouse39_left",
           "run4.csv",
           "D_postDLC"
          ],
          [
           "mouse39_left",
           "run6.csv",
           "D_postDLC"
          ],
          [
           "mouse39_left",
           "run6.csv",
           "D_postDLC"
          ],
          [
           "mouse39_left",
           "run6.csv",
           "D_postDLC"
          ],
          [
           "mouse39_left",
           "run6.csv",
           "D_postDLC"
          ],
          [
           "mouse40_left",
           "run1.csv",
           "D_postDLC"
          ],
          [
           "mouse40_left",
           "run1.csv",
           "D_postDLC"
          ],
          [
           "mouse40_left",
           "run1.csv",
           "D_postDLC"
          ],
          [
           "mouse40_left",
           "run3.csv",
           "D_postDLC"
          ],
          [
           "mouse40_left",
           "run3.csv",
           "D_postDLC"
          ],
          [
           "mouse40_left",
           "run3.csv",
           "D_postDLC"
          ],
          [
           "mouse40_left",
           "run3.csv",
           "D_postDLC"
          ],
          [
           "mouse40_left",
           "run5.csv",
           "D_postDLC"
          ],
          [
           "mouse40_left",
           "run5.csv",
           "D_postDLC"
          ],
          [
           "mouse40_left",
           "run5.csv",
           "D_postDLC"
          ],
          [
           "mouse40_left",
           "run5.csv",
           "D_postDLC"
          ],
          [
           "mouse41_left",
           "run1.csv",
           "E_postDLC"
          ],
          [
           "mouse41_left",
           "run1.csv",
           "E_postDLC"
          ],
          [
           "mouse41_left",
           "run1.csv",
           "E_postDLC"
          ],
          [
           "mouse41_left",
           "run1.csv",
           "E_postDLC"
          ],
          [
           "mouse41_left",
           "run4.csv",
           "E_postDLC"
          ],
          [
           "mouse41_left",
           "run4.csv",
           "E_postDLC"
          ],
          [
           "mouse41_left",
           "run4.csv",
           "E_postDLC"
          ],
          [
           "mouse41_left",
           "run4.csv",
           "E_postDLC"
          ],
          [
           "mouse41_left",
           "run4.csv",
           "E_postDLC"
          ],
          [
           "mouse41_left",
           "run6.csv",
           "E_postDLC"
          ],
          [
           "mouse41_left",
           "run6.csv",
           "E_postDLC"
          ],
          [
           "mouse41_left",
           "run6.csv",
           "E_postDLC"
          ],
          [
           "mouse41_left",
           "run6.csv",
           "E_postDLC"
          ],
          [
           "mouse42_left",
           "run1.csv",
           "E_postDLC"
          ],
          [
           "mouse42_left",
           "run1.csv",
           "E_postDLC"
          ],
          [
           "mouse42_left",
           "run1.csv",
           "E_postDLC"
          ],
          [
           "mouse42_left",
           "run1.csv",
           "E_postDLC"
          ],
          [
           "mouse42_left",
           "run1.csv",
           "E_postDLC"
          ],
          [
           "mouse42_left",
           "run4.csv",
           "E_postDLC"
          ],
          [
           "mouse42_left",
           "run4.csv",
           "E_postDLC"
          ],
          [
           "mouse42_left",
           "run4.csv",
           "E_postDLC"
          ],
          [
           "mouse42_left",
           "run4.csv",
           "E_postDLC"
          ],
          [
           "mouse42_left",
           "run4.csv",
           "E_postDLC"
          ],
          [
           "mouse42_left",
           "run7.csv",
           "E_postDLC"
          ],
          [
           "mouse42_left",
           "run7.csv",
           "E_postDLC"
          ],
          [
           "mouse42_left",
           "run7.csv",
           "E_postDLC"
          ],
          [
           "mouse42_left",
           "run7.csv",
           "E_postDLC"
          ],
          [
           "mouse43_left",
           "run1.csv",
           "E_postDLC"
          ],
          [
           "mouse43_left",
           "run1.csv",
           "E_postDLC"
          ],
          [
           "mouse43_left",
           "run1.csv",
           "E_postDLC"
          ],
          [
           "mouse43_left",
           "run1.csv",
           "E_postDLC"
          ],
          [
           "mouse43_left",
           "run4.csv",
           "E_postDLC"
          ],
          [
           "mouse43_left",
           "run4.csv",
           "E_postDLC"
          ],
          [
           "mouse43_left",
           "run4.csv",
           "E_postDLC"
          ],
          [
           "mouse43_left",
           "run4.csv",
           "E_postDLC"
          ],
          [
           "mouse43_left",
           "run5.csv",
           "E_postDLC"
          ],
          [
           "mouse43_left",
           "run5.csv",
           "E_postDLC"
          ],
          [
           "mouse43_left",
           "run5.csv",
           "E_postDLC"
          ],
          [
           "mouse44_left",
           "run1.csv",
           "E_postDLC"
          ],
          [
           "mouse44_left",
           "run1.csv",
           "E_postDLC"
          ],
          [
           "mouse44_left",
           "run1.csv",
           "E_postDLC"
          ],
          [
           "mouse44_left",
           "run1.csv",
           "E_postDLC"
          ],
          [
           "mouse44_left",
           "run3.csv",
           "E_postDLC"
          ],
          [
           "mouse44_left",
           "run3.csv",
           "E_postDLC"
          ],
          [
           "mouse44_left",
           "run3.csv",
           "E_postDLC"
          ],
          [
           "mouse44_left",
           "run3.csv",
           "E_postDLC"
          ],
          [
           "mouse44_left",
           "run3.csv",
           "E_postDLC"
          ],
          [
           "mouse44_left",
           "run7.csv",
           "E_postDLC"
          ],
          [
           "mouse44_left",
           "run7.csv",
           "E_postDLC"
          ],
          [
           "mouse44_left",
           "run7.csv",
           "E_postDLC"
          ],
          [
           "mouse44_left",
           "run7.csv",
           "E_postDLC"
          ],
          [
           "mouse44_left",
           "run7.csv",
           "E_postDLC"
          ],
          [
           "mouse45_left",
           "run1.csv",
           "E_postDLC"
          ],
          [
           "mouse45_left",
           "run1.csv",
           "E_postDLC"
          ],
          [
           "mouse45_left",
           "run1.csv",
           "E_postDLC"
          ],
          [
           "mouse45_left",
           "run1.csv",
           "E_postDLC"
          ],
          [
           "mouse45_left",
           "run2.csv",
           "E_postDLC"
          ],
          [
           "mouse45_left",
           "run2.csv",
           "E_postDLC"
          ],
          [
           "mouse45_left",
           "run2.csv",
           "E_postDLC"
          ],
          [
           "mouse45_left",
           "run2.csv",
           "E_postDLC"
          ],
          [
           "mouse45_left",
           "run2.csv",
           "E_postDLC"
          ],
          [
           "mouse45_left",
           "run2.csv",
           "E_postDLC"
          ],
          [
           "mouse45_left",
           "run5.csv",
           "E_postDLC"
          ],
          [
           "mouse45_left",
           "run5.csv",
           "E_postDLC"
          ],
          [
           "mouse45_left",
           "run5.csv",
           "E_postDLC"
          ],
          [
           "mouse45_left",
           "run5.csv",
           "E_postDLC"
          ],
          [
           "mouse46_left",
           "run1.csv",
           "E_postDLC"
          ],
          [
           "mouse46_left",
           "run1.csv",
           "E_postDLC"
          ],
          [
           "mouse46_left",
           "run1.csv",
           "E_postDLC"
          ],
          [
           "mouse46_left",
           "run1.csv",
           "E_postDLC"
          ],
          [
           "mouse46_left",
           "run3.csv",
           "E_postDLC"
          ],
          [
           "mouse46_left",
           "run3.csv",
           "E_postDLC"
          ],
          [
           "mouse46_left",
           "run3.csv",
           "E_postDLC"
          ],
          [
           "mouse46_left",
           "run3.csv",
           "E_postDLC"
          ],
          [
           "mouse46_left",
           "run5.csv",
           "E_postDLC"
          ],
          [
           "mouse46_left",
           "run5.csv",
           "E_postDLC"
          ],
          [
           "mouse46_left",
           "run5.csv",
           "E_postDLC"
          ],
          [
           "mouse46_left",
           "run5.csv",
           "E_postDLC"
          ],
          [
           "mouse47_left",
           "run1.csv",
           "E_postDLC"
          ],
          [
           "mouse47_left",
           "run1.csv",
           "E_postDLC"
          ],
          [
           "mouse47_left",
           "run1.csv",
           "E_postDLC"
          ],
          [
           "mouse47_left",
           "run3.csv",
           "E_postDLC"
          ],
          [
           "mouse47_left",
           "run3.csv",
           "E_postDLC"
          ],
          [
           "mouse47_left",
           "run3.csv",
           "E_postDLC"
          ],
          [
           "mouse47_left",
           "run3.csv",
           "E_postDLC"
          ],
          [
           "mouse47_left",
           "run3.csv",
           "E_postDLC"
          ],
          [
           "mouse47_left",
           "run5.csv",
           "E_postDLC"
          ],
          [
           "mouse47_left",
           "run5.csv",
           "E_postDLC"
          ],
          [
           "mouse47_left",
           "run5.csv",
           "E_postDLC"
          ],
          [
           "mouse47_left",
           "run5.csv",
           "E_postDLC"
          ],
          [
           "mouse47_left",
           "run7.csv",
           "E_postDLC"
          ],
          [
           "mouse47_left",
           "run7.csv",
           "E_postDLC"
          ],
          [
           "mouse47_left",
           "run7.csv",
           "E_postDLC"
          ],
          [
           "mouse47_left",
           "run7.csv",
           "E_postDLC"
          ],
          [
           "mouse48_left",
           "run1.csv",
           "E_postDLC"
          ],
          [
           "mouse48_left",
           "run1.csv",
           "E_postDLC"
          ],
          [
           "mouse48_left",
           "run1.csv",
           "E_postDLC"
          ],
          [
           "mouse48_left",
           "run1.csv",
           "E_postDLC"
          ],
          [
           "mouse48_left",
           "run3.csv",
           "E_postDLC"
          ],
          [
           "mouse48_left",
           "run3.csv",
           "E_postDLC"
          ],
          [
           "mouse48_left",
           "run3.csv",
           "E_postDLC"
          ],
          [
           "mouse48_left",
           "run3.csv",
           "E_postDLC"
          ],
          [
           "mouse48_left",
           "run6.csv",
           "E_postDLC"
          ],
          [
           "mouse48_left",
           "run6.csv",
           "E_postDLC"
          ],
          [
           "mouse48_left",
           "run6.csv",
           "E_postDLC"
          ],
          [
           "mouse49_left",
           "run1.csv",
           "E_postDLC"
          ],
          [
           "mouse49_left",
           "run1.csv",
           "E_postDLC"
          ],
          [
           "mouse49_left",
           "run1.csv",
           "E_postDLC"
          ],
          [
           "mouse49_left",
           "run1.csv",
           "E_postDLC"
          ],
          [
           "mouse49_left",
           "run1.csv",
           "E_postDLC"
          ],
          [
           "mouse49_left",
           "run2.csv",
           "E_postDLC"
          ],
          [
           "mouse49_left",
           "run2.csv",
           "E_postDLC"
          ],
          [
           "mouse49_left",
           "run2.csv",
           "E_postDLC"
          ],
          [
           "mouse49_left",
           "run2.csv",
           "E_postDLC"
          ],
          [
           "mouse49_left",
           "run4.csv",
           "E_postDLC"
          ],
          [
           "mouse49_left",
           "run4.csv",
           "E_postDLC"
          ],
          [
           "mouse49_left",
           "run4.csv",
           "E_postDLC"
          ],
          [
           "mouse49_left",
           "run4.csv",
           "E_postDLC"
          ],
          [
           "mouse50_left",
           "run1.csv",
           "E_postDLC"
          ],
          [
           "mouse50_left",
           "run1.csv",
           "E_postDLC"
          ],
          [
           "mouse50_left",
           "run1.csv",
           "E_postDLC"
          ],
          [
           "mouse50_left",
           "run1.csv",
           "E_postDLC"
          ],
          [
           "mouse50_left",
           "run1.csv",
           "E_postDLC"
          ],
          [
           "mouse50_left",
           "run3.csv",
           "E_postDLC"
          ],
          [
           "mouse50_left",
           "run3.csv",
           "E_postDLC"
          ],
          [
           "mouse50_left",
           "run3.csv",
           "E_postDLC"
          ],
          [
           "mouse50_left",
           "run5.csv",
           "E_postDLC"
          ],
          [
           "mouse50_left",
           "run5.csv",
           "E_postDLC"
          ],
          [
           "mouse50_left",
           "run5.csv",
           "E_postDLC"
          ],
          [
           "mouse50_left",
           "run6.csv",
           "E_postDLC"
          ],
          [
           "mouse50_left",
           "run6.csv",
           "E_postDLC"
          ],
          [
           "mouse50_left",
           "run6.csv",
           "E_postDLC"
          ]
         ],
         "hovertemplate": "Group=unhealthy<br>UMAP1=%{x}<br>UMAP2=%{y}<br>UMAP3=%{z}<br>Mouse=%{customdata[0]}<br>Run=%{customdata[1]}<br>Dataset=%{customdata[2]}<extra></extra>",
         "legendgroup": "unhealthy",
         "marker": {
          "color": "#636efa",
          "line": {
           "color": "DarkSlateGrey",
           "width": 0.5
          },
          "size": 8,
          "symbol": "circle"
         },
         "mode": "markers",
         "name": "unhealthy",
         "scene": "scene",
         "showlegend": true,
         "type": "scatter3d",
         "x": {
          "bdata": "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",
          "dtype": "f4"
         },
         "y": {
          "bdata": "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",
          "dtype": "f4"
         },
         "z": {
          "bdata": "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",
          "dtype": "f4"
         }
        },
        {
         "customdata": [
          [
           "mouse1_left",
           "run1.csv",
           "A_preDLC"
          ],
          [
           "mouse1_left",
           "run1.csv",
           "A_preDLC"
          ],
          [
           "mouse1_left",
           "run1.csv",
           "A_preDLC"
          ],
          [
           "mouse1_left",
           "run3.csv",
           "A_preDLC"
          ],
          [
           "mouse1_left",
           "run3.csv",
           "A_preDLC"
          ],
          [
           "mouse1_left",
           "run3.csv",
           "A_preDLC"
          ],
          [
           "mouse1_left",
           "run4.csv",
           "A_preDLC"
          ],
          [
           "mouse1_left",
           "run4.csv",
           "A_preDLC"
          ],
          [
           "mouse1_left",
           "run4.csv",
           "A_preDLC"
          ],
          [
           "mouse1_left",
           "run4.csv",
           "A_preDLC"
          ],
          [
           "mouse2_left",
           "run5.csv",
           "A_preDLC"
          ],
          [
           "mouse2_left",
           "run5.csv",
           "A_preDLC"
          ],
          [
           "mouse2_left",
           "run6.csv",
           "A_preDLC"
          ],
          [
           "mouse2_left",
           "run6.csv",
           "A_preDLC"
          ],
          [
           "mouse2_left",
           "run6.csv",
           "A_preDLC"
          ],
          [
           "mouse2_left",
           "run6.csv",
           "A_preDLC"
          ],
          [
           "mouse2_left",
           "run7.csv",
           "A_preDLC"
          ],
          [
           "mouse2_left",
           "run7.csv",
           "A_preDLC"
          ],
          [
           "mouse2_left",
           "run7.csv",
           "A_preDLC"
          ],
          [
           "mouse3_left",
           "run2.csv",
           "A_preDLC"
          ],
          [
           "mouse3_left",
           "run2.csv",
           "A_preDLC"
          ],
          [
           "mouse3_left",
           "run2.csv",
           "A_preDLC"
          ],
          [
           "mouse3_left",
           "run2.csv",
           "A_preDLC"
          ],
          [
           "mouse3_left",
           "run4.csv",
           "A_preDLC"
          ],
          [
           "mouse3_left",
           "run4.csv",
           "A_preDLC"
          ],
          [
           "mouse3_left",
           "run4.csv",
           "A_preDLC"
          ],
          [
           "mouse3_left",
           "run6.csv",
           "A_preDLC"
          ],
          [
           "mouse3_left",
           "run6.csv",
           "A_preDLC"
          ],
          [
           "mouse3_left",
           "run6.csv",
           "A_preDLC"
          ],
          [
           "mouse4_left",
           "run1.csv",
           "A_preDLC"
          ],
          [
           "mouse4_left",
           "run1.csv",
           "A_preDLC"
          ],
          [
           "mouse4_left",
           "run1.csv",
           "A_preDLC"
          ],
          [
           "mouse4_left",
           "run1.csv",
           "A_preDLC"
          ],
          [
           "mouse4_left",
           "run3.csv",
           "A_preDLC"
          ],
          [
           "mouse4_left",
           "run3.csv",
           "A_preDLC"
          ],
          [
           "mouse4_left",
           "run3.csv",
           "A_preDLC"
          ],
          [
           "mouse4_left",
           "run3.csv",
           "A_preDLC"
          ],
          [
           "mouse4_left",
           "run5.csv",
           "A_preDLC"
          ],
          [
           "mouse4_left",
           "run5.csv",
           "A_preDLC"
          ],
          [
           "mouse4_left",
           "run5.csv",
           "A_preDLC"
          ],
          [
           "mouse4_left",
           "run5.csv",
           "A_preDLC"
          ],
          [
           "mouse5_left",
           "run1.csv",
           "A_preDLC"
          ],
          [
           "mouse5_left",
           "run1.csv",
           "A_preDLC"
          ],
          [
           "mouse5_left",
           "run1.csv",
           "A_preDLC"
          ],
          [
           "mouse5_left",
           "run1.csv",
           "A_preDLC"
          ],
          [
           "mouse5_left",
           "run1.csv",
           "A_preDLC"
          ],
          [
           "mouse5_left",
           "run5.csv",
           "A_preDLC"
          ],
          [
           "mouse5_left",
           "run5.csv",
           "A_preDLC"
          ],
          [
           "mouse5_left",
           "run5.csv",
           "A_preDLC"
          ],
          [
           "mouse5_left",
           "run8.csv",
           "A_preDLC"
          ],
          [
           "mouse5_left",
           "run8.csv",
           "A_preDLC"
          ],
          [
           "mouse5_left",
           "run8.csv",
           "A_preDLC"
          ],
          [
           "mouse5_left",
           "run8.csv",
           "A_preDLC"
          ],
          [
           "mouse6_left",
           "run1.csv",
           "A_preDLC"
          ],
          [
           "mouse6_left",
           "run1.csv",
           "A_preDLC"
          ],
          [
           "mouse6_left",
           "run1.csv",
           "A_preDLC"
          ],
          [
           "mouse6_left",
           "run1.csv",
           "A_preDLC"
          ],
          [
           "mouse6_left",
           "run4.csv",
           "A_preDLC"
          ],
          [
           "mouse6_left",
           "run4.csv",
           "A_preDLC"
          ],
          [
           "mouse6_left",
           "run4.csv",
           "A_preDLC"
          ],
          [
           "mouse6_left",
           "run6.csv",
           "A_preDLC"
          ],
          [
           "mouse6_left",
           "run6.csv",
           "A_preDLC"
          ],
          [
           "mouse6_left",
           "run6.csv",
           "A_preDLC"
          ],
          [
           "mouse7_left",
           "run1.csv",
           "A_preDLC"
          ],
          [
           "mouse7_left",
           "run1.csv",
           "A_preDLC"
          ],
          [
           "mouse7_left",
           "run1.csv",
           "A_preDLC"
          ],
          [
           "mouse7_left",
           "run1.csv",
           "A_preDLC"
          ],
          [
           "mouse7_left",
           "run1.csv",
           "A_preDLC"
          ],
          [
           "mouse7_left",
           "run2.csv",
           "A_preDLC"
          ],
          [
           "mouse7_left",
           "run2.csv",
           "A_preDLC"
          ],
          [
           "mouse7_left",
           "run2.csv",
           "A_preDLC"
          ],
          [
           "mouse7_left",
           "run2.csv",
           "A_preDLC"
          ],
          [
           "mouse7_left",
           "run3.csv",
           "A_preDLC"
          ],
          [
           "mouse7_left",
           "run3.csv",
           "A_preDLC"
          ],
          [
           "mouse7_left",
           "run3.csv",
           "A_preDLC"
          ],
          [
           "mouse7_left",
           "run4.csv",
           "A_preDLC"
          ],
          [
           "mouse7_left",
           "run4.csv",
           "A_preDLC"
          ],
          [
           "mouse7_left",
           "run4.csv",
           "A_preDLC"
          ],
          [
           "mouse8_left",
           "run1.csv",
           "A_preDLC"
          ],
          [
           "mouse8_left",
           "run1.csv",
           "A_preDLC"
          ],
          [
           "mouse8_left",
           "run1.csv",
           "A_preDLC"
          ],
          [
           "mouse8_left",
           "run1.csv",
           "A_preDLC"
          ],
          [
           "mouse8_left",
           "run3.csv",
           "A_preDLC"
          ],
          [
           "mouse8_left",
           "run3.csv",
           "A_preDLC"
          ],
          [
           "mouse8_left",
           "run3.csv",
           "A_preDLC"
          ],
          [
           "mouse8_left",
           "run3.csv",
           "A_preDLC"
          ],
          [
           "mouse8_left",
           "run5.csv",
           "A_preDLC"
          ],
          [
           "mouse8_left",
           "run5.csv",
           "A_preDLC"
          ],
          [
           "mouse8_left",
           "run5.csv",
           "A_preDLC"
          ],
          [
           "mouse8_left",
           "run5.csv",
           "A_preDLC"
          ],
          [
           "mouse9_left",
           "run1.csv",
           "A_preDLC"
          ],
          [
           "mouse9_left",
           "run1.csv",
           "A_preDLC"
          ],
          [
           "mouse9_left",
           "run1.csv",
           "A_preDLC"
          ],
          [
           "mouse9_left",
           "run1.csv",
           "A_preDLC"
          ],
          [
           "mouse9_left",
           "run2.csv",
           "A_preDLC"
          ],
          [
           "mouse9_left",
           "run2.csv",
           "A_preDLC"
          ],
          [
           "mouse9_left",
           "run2.csv",
           "A_preDLC"
          ],
          [
           "mouse9_left",
           "run4.csv",
           "A_preDLC"
          ],
          [
           "mouse9_left",
           "run4.csv",
           "A_preDLC"
          ],
          [
           "mouse10_left",
           "run1.csv",
           "A_preDLC"
          ],
          [
           "mouse10_left",
           "run1.csv",
           "A_preDLC"
          ],
          [
           "mouse10_left",
           "run1.csv",
           "A_preDLC"
          ],
          [
           "mouse10_left",
           "run3.csv",
           "A_preDLC"
          ],
          [
           "mouse10_left",
           "run3.csv",
           "A_preDLC"
          ],
          [
           "mouse10_left",
           "run3.csv",
           "A_preDLC"
          ],
          [
           "mouse10_left",
           "run5.csv",
           "A_preDLC"
          ],
          [
           "mouse10_left",
           "run5.csv",
           "A_preDLC"
          ],
          [
           "mouse10_left",
           "run5.csv",
           "A_preDLC"
          ],
          [
           "mouse11_left",
           "run1.csv",
           "B_preDLC"
          ],
          [
           "mouse11_left",
           "run1.csv",
           "B_preDLC"
          ],
          [
           "mouse11_left",
           "run1.csv",
           "B_preDLC"
          ],
          [
           "mouse11_left",
           "run1.csv",
           "B_preDLC"
          ],
          [
           "mouse11_left",
           "run3.csv",
           "B_preDLC"
          ],
          [
           "mouse11_left",
           "run3.csv",
           "B_preDLC"
          ],
          [
           "mouse11_left",
           "run3.csv",
           "B_preDLC"
          ],
          [
           "mouse11_left",
           "run5.csv",
           "B_preDLC"
          ],
          [
           "mouse11_left",
           "run5.csv",
           "B_preDLC"
          ],
          [
           "mouse11_left",
           "run5.csv",
           "B_preDLC"
          ],
          [
           "mouse11_left",
           "run5.csv",
           "B_preDLC"
          ],
          [
           "mouse12_left",
           "run2.csv",
           "B_preDLC"
          ],
          [
           "mouse12_left",
           "run2.csv",
           "B_preDLC"
          ],
          [
           "mouse12_left",
           "run2.csv",
           "B_preDLC"
          ],
          [
           "mouse12_left",
           "run5.csv",
           "B_preDLC"
          ],
          [
           "mouse12_left",
           "run5.csv",
           "B_preDLC"
          ],
          [
           "mouse12_left",
           "run5.csv",
           "B_preDLC"
          ],
          [
           "mouse12_left",
           "run5.csv",
           "B_preDLC"
          ],
          [
           "mouse12_left",
           "run6.csv",
           "B_preDLC"
          ],
          [
           "mouse12_left",
           "run6.csv",
           "B_preDLC"
          ],
          [
           "mouse12_left",
           "run6.csv",
           "B_preDLC"
          ],
          [
           "mouse13_left",
           "run1.csv",
           "B_preDLC"
          ],
          [
           "mouse13_left",
           "run1.csv",
           "B_preDLC"
          ],
          [
           "mouse13_left",
           "run1.csv",
           "B_preDLC"
          ],
          [
           "mouse13_left",
           "run1.csv",
           "B_preDLC"
          ],
          [
           "mouse13_left",
           "run3.csv",
           "B_preDLC"
          ],
          [
           "mouse13_left",
           "run3.csv",
           "B_preDLC"
          ],
          [
           "mouse13_left",
           "run3.csv",
           "B_preDLC"
          ],
          [
           "mouse13_left",
           "run5.csv",
           "B_preDLC"
          ],
          [
           "mouse13_left",
           "run5.csv",
           "B_preDLC"
          ],
          [
           "mouse13_left",
           "run5.csv",
           "B_preDLC"
          ],
          [
           "mouse14_left",
           "run1.csv",
           "B_preDLC"
          ],
          [
           "mouse14_left",
           "run1.csv",
           "B_preDLC"
          ],
          [
           "mouse14_left",
           "run1.csv",
           "B_preDLC"
          ],
          [
           "mouse14_left",
           "run3.csv",
           "B_preDLC"
          ],
          [
           "mouse14_left",
           "run3.csv",
           "B_preDLC"
          ],
          [
           "mouse14_left",
           "run3.csv",
           "B_preDLC"
          ],
          [
           "mouse14_left",
           "run3.csv",
           "B_preDLC"
          ],
          [
           "mouse14_left",
           "run6.csv",
           "B_preDLC"
          ],
          [
           "mouse14_left",
           "run6.csv",
           "B_preDLC"
          ],
          [
           "mouse14_left",
           "run6.csv",
           "B_preDLC"
          ],
          [
           "mouse14_left",
           "run6.csv",
           "B_preDLC"
          ],
          [
           "mouse15_left",
           "run2.csv",
           "B_preDLC"
          ],
          [
           "mouse15_left",
           "run2.csv",
           "B_preDLC"
          ],
          [
           "mouse15_left",
           "run4.csv",
           "B_preDLC"
          ],
          [
           "mouse15_left",
           "run4.csv",
           "B_preDLC"
          ],
          [
           "mouse15_left",
           "run6.csv",
           "B_preDLC"
          ],
          [
           "mouse15_left",
           "run6.csv",
           "B_preDLC"
          ],
          [
           "mouse15_left",
           "run6.csv",
           "B_preDLC"
          ],
          [
           "mouse15_left",
           "run6.csv",
           "B_preDLC"
          ],
          [
           "mouse15_left",
           "run6.csv",
           "B_preDLC"
          ],
          [
           "mouse15_left",
           "run6.csv",
           "B_preDLC"
          ],
          [
           "mouse16_left",
           "run1.csv",
           "B_preDLC"
          ],
          [
           "mouse16_left",
           "run1.csv",
           "B_preDLC"
          ],
          [
           "mouse16_left",
           "run1.csv",
           "B_preDLC"
          ],
          [
           "mouse16_left",
           "run2.csv",
           "B_preDLC"
          ],
          [
           "mouse16_left",
           "run2.csv",
           "B_preDLC"
          ],
          [
           "mouse16_left",
           "run2.csv",
           "B_preDLC"
          ],
          [
           "mouse16_left",
           "run2.csv",
           "B_preDLC"
          ],
          [
           "mouse16_left",
           "run2.csv",
           "B_preDLC"
          ],
          [
           "mouse16_left",
           "run2.csv",
           "B_preDLC"
          ],
          [
           "mouse16_left",
           "run3.csv",
           "B_preDLC"
          ],
          [
           "mouse16_left",
           "run3.csv",
           "B_preDLC"
          ],
          [
           "mouse16_left",
           "run3.csv",
           "B_preDLC"
          ],
          [
           "mouse16_left",
           "run5.csv",
           "B_preDLC"
          ],
          [
           "mouse16_left",
           "run5.csv",
           "B_preDLC"
          ],
          [
           "mouse16_left",
           "run5.csv",
           "B_preDLC"
          ],
          [
           "mouse16_left",
           "run5.csv",
           "B_preDLC"
          ],
          [
           "mouse17_left",
           "run1.csv",
           "B_preDLC"
          ],
          [
           "mouse17_left",
           "run1.csv",
           "B_preDLC"
          ],
          [
           "mouse17_left",
           "run3.csv",
           "B_preDLC"
          ],
          [
           "mouse17_left",
           "run3.csv",
           "B_preDLC"
          ],
          [
           "mouse17_left",
           "run3.csv",
           "B_preDLC"
          ],
          [
           "mouse17_left",
           "run4.csv",
           "B_preDLC"
          ],
          [
           "mouse17_left",
           "run4.csv",
           "B_preDLC"
          ],
          [
           "mouse17_left",
           "run4.csv",
           "B_preDLC"
          ],
          [
           "mouse17_left",
           "run4.csv",
           "B_preDLC"
          ],
          [
           "mouse17_left",
           "run4.csv",
           "B_preDLC"
          ],
          [
           "mouse18_left",
           "run1.csv",
           "B_preDLC"
          ],
          [
           "mouse18_left",
           "run1.csv",
           "B_preDLC"
          ],
          [
           "mouse18_left",
           "run1.csv",
           "B_preDLC"
          ],
          [
           "mouse18_left",
           "run1.csv",
           "B_preDLC"
          ],
          [
           "mouse18_left",
           "run3.csv",
           "B_preDLC"
          ],
          [
           "mouse18_left",
           "run3.csv",
           "B_preDLC"
          ],
          [
           "mouse18_left",
           "run5.csv",
           "B_preDLC"
          ],
          [
           "mouse18_left",
           "run5.csv",
           "B_preDLC"
          ],
          [
           "mouse18_left",
           "run5.csv",
           "B_preDLC"
          ],
          [
           "mouse18_left",
           "run7.csv",
           "B_preDLC"
          ],
          [
           "mouse18_left",
           "run7.csv",
           "B_preDLC"
          ],
          [
           "mouse18_left",
           "run7.csv",
           "B_preDLC"
          ],
          [
           "mouse19_left",
           "run1.csv",
           "B_preDLC"
          ],
          [
           "mouse19_left",
           "run1.csv",
           "B_preDLC"
          ],
          [
           "mouse19_left",
           "run1.csv",
           "B_preDLC"
          ],
          [
           "mouse19_left",
           "run1.csv",
           "B_preDLC"
          ],
          [
           "mouse19_left",
           "run3.csv",
           "B_preDLC"
          ],
          [
           "mouse19_left",
           "run3.csv",
           "B_preDLC"
          ],
          [
           "mouse19_left",
           "run3.csv",
           "B_preDLC"
          ],
          [
           "mouse19_left",
           "run5.csv",
           "B_preDLC"
          ],
          [
           "mouse19_left",
           "run5.csv",
           "B_preDLC"
          ],
          [
           "mouse19_left",
           "run5.csv",
           "B_preDLC"
          ],
          [
           "mouse19_left",
           "run5.csv",
           "B_preDLC"
          ],
          [
           "mouse19_left",
           "run5.csv",
           "B_preDLC"
          ],
          [
           "mouse20_left",
           "run1.csv",
           "B_preDLC"
          ],
          [
           "mouse20_left",
           "run1.csv",
           "B_preDLC"
          ],
          [
           "mouse20_left",
           "run1.csv",
           "B_preDLC"
          ],
          [
           "mouse20_left",
           "run1.csv",
           "B_preDLC"
          ],
          [
           "mouse20_left",
           "run3.csv",
           "B_preDLC"
          ],
          [
           "mouse20_left",
           "run3.csv",
           "B_preDLC"
          ],
          [
           "mouse20_left",
           "run5.csv",
           "B_preDLC"
          ],
          [
           "mouse20_left",
           "run5.csv",
           "B_preDLC"
          ],
          [
           "mouse20_left",
           "run5.csv",
           "B_preDLC"
          ],
          [
           "mouse21_left",
           "run1.csv",
           "C_preDLC"
          ],
          [
           "mouse21_left",
           "run1.csv",
           "C_preDLC"
          ],
          [
           "mouse21_left",
           "run1.csv",
           "C_preDLC"
          ],
          [
           "mouse21_left",
           "run1.csv",
           "C_preDLC"
          ],
          [
           "mouse21_left",
           "run3.csv",
           "C_preDLC"
          ],
          [
           "mouse21_left",
           "run3.csv",
           "C_preDLC"
          ],
          [
           "mouse21_left",
           "run3.csv",
           "C_preDLC"
          ],
          [
           "mouse21_left",
           "run3.csv",
           "C_preDLC"
          ],
          [
           "mouse21_left",
           "run6.csv",
           "C_preDLC"
          ],
          [
           "mouse21_left",
           "run6.csv",
           "C_preDLC"
          ],
          [
           "mouse21_left",
           "run6.csv",
           "C_preDLC"
          ],
          [
           "mouse22_left",
           "run1.csv",
           "C_preDLC"
          ],
          [
           "mouse22_left",
           "run1.csv",
           "C_preDLC"
          ],
          [
           "mouse22_left",
           "run1.csv",
           "C_preDLC"
          ],
          [
           "mouse22_left",
           "run1.csv",
           "C_preDLC"
          ],
          [
           "mouse22_left",
           "run3.csv",
           "C_preDLC"
          ],
          [
           "mouse22_left",
           "run3.csv",
           "C_preDLC"
          ],
          [
           "mouse22_left",
           "run3.csv",
           "C_preDLC"
          ],
          [
           "mouse22_left",
           "run3.csv",
           "C_preDLC"
          ],
          [
           "mouse22_left",
           "run3.csv",
           "C_preDLC"
          ],
          [
           "mouse22_left",
           "run6.csv",
           "C_preDLC"
          ],
          [
           "mouse22_left",
           "run6.csv",
           "C_preDLC"
          ],
          [
           "mouse22_left",
           "run6.csv",
           "C_preDLC"
          ],
          [
           "mouse22_left",
           "run6.csv",
           "C_preDLC"
          ],
          [
           "mouse23_left",
           "run1.csv",
           "C_preDLC"
          ],
          [
           "mouse23_left",
           "run1.csv",
           "C_preDLC"
          ],
          [
           "mouse23_left",
           "run1.csv",
           "C_preDLC"
          ],
          [
           "mouse23_left",
           "run1.csv",
           "C_preDLC"
          ],
          [
           "mouse23_left",
           "run3.csv",
           "C_preDLC"
          ],
          [
           "mouse23_left",
           "run3.csv",
           "C_preDLC"
          ],
          [
           "mouse23_left",
           "run3.csv",
           "C_preDLC"
          ],
          [
           "mouse23_left",
           "run3.csv",
           "C_preDLC"
          ],
          [
           "mouse23_left",
           "run6.csv",
           "C_preDLC"
          ],
          [
           "mouse23_left",
           "run6.csv",
           "C_preDLC"
          ],
          [
           "mouse23_left",
           "run6.csv",
           "C_preDLC"
          ],
          [
           "mouse23_left",
           "run6.csv",
           "C_preDLC"
          ],
          [
           "mouse23_left",
           "run7.csv",
           "C_preDLC"
          ],
          [
           "mouse23_left",
           "run7.csv",
           "C_preDLC"
          ],
          [
           "mouse23_left",
           "run7.csv",
           "C_preDLC"
          ],
          [
           "mouse23_left",
           "run7.csv",
           "C_preDLC"
          ],
          [
           "mouse24_left",
           "run1.csv",
           "C_preDLC"
          ],
          [
           "mouse24_left",
           "run1.csv",
           "C_preDLC"
          ],
          [
           "mouse24_left",
           "run1.csv",
           "C_preDLC"
          ],
          [
           "mouse24_left",
           "run1.csv",
           "C_preDLC"
          ],
          [
           "mouse24_left",
           "run3.csv",
           "C_preDLC"
          ],
          [
           "mouse24_left",
           "run3.csv",
           "C_preDLC"
          ],
          [
           "mouse24_left",
           "run3.csv",
           "C_preDLC"
          ],
          [
           "mouse24_left",
           "run5.csv",
           "C_preDLC"
          ],
          [
           "mouse24_left",
           "run5.csv",
           "C_preDLC"
          ],
          [
           "mouse24_left",
           "run5.csv",
           "C_preDLC"
          ],
          [
           "mouse24_left",
           "run5.csv",
           "C_preDLC"
          ],
          [
           "mouse24_left",
           "run5.csv",
           "C_preDLC"
          ],
          [
           "mouse24_left",
           "run7.csv",
           "C_preDLC"
          ],
          [
           "mouse24_left",
           "run7.csv",
           "C_preDLC"
          ],
          [
           "mouse24_left",
           "run7.csv",
           "C_preDLC"
          ],
          [
           "mouse24_left",
           "run7.csv",
           "C_preDLC"
          ],
          [
           "mouse24_left",
           "run7.csv",
           "C_preDLC"
          ],
          [
           "mouse25_left",
           "run1.csv",
           "C_preDLC"
          ],
          [
           "mouse25_left",
           "run1.csv",
           "C_preDLC"
          ],
          [
           "mouse25_left",
           "run1.csv",
           "C_preDLC"
          ],
          [
           "mouse25_left",
           "run1.csv",
           "C_preDLC"
          ],
          [
           "mouse25_left",
           "run1.csv",
           "C_preDLC"
          ],
          [
           "mouse25_left",
           "run2.csv",
           "C_preDLC"
          ],
          [
           "mouse25_left",
           "run2.csv",
           "C_preDLC"
          ],
          [
           "mouse25_left",
           "run2.csv",
           "C_preDLC"
          ],
          [
           "mouse25_left",
           "run2.csv",
           "C_preDLC"
          ],
          [
           "mouse25_left",
           "run2.csv",
           "C_preDLC"
          ],
          [
           "mouse25_left",
           "run4.csv",
           "C_preDLC"
          ],
          [
           "mouse25_left",
           "run4.csv",
           "C_preDLC"
          ],
          [
           "mouse25_left",
           "run4.csv",
           "C_preDLC"
          ],
          [
           "mouse25_left",
           "run4.csv",
           "C_preDLC"
          ],
          [
           "mouse26_left",
           "run1.csv",
           "C_preDLC"
          ],
          [
           "mouse26_left",
           "run1.csv",
           "C_preDLC"
          ],
          [
           "mouse26_left",
           "run1.csv",
           "C_preDLC"
          ],
          [
           "mouse26_left",
           "run1.csv",
           "C_preDLC"
          ],
          [
           "mouse26_left",
           "run2.csv",
           "C_preDLC"
          ],
          [
           "mouse26_left",
           "run2.csv",
           "C_preDLC"
          ],
          [
           "mouse26_left",
           "run2.csv",
           "C_preDLC"
          ],
          [
           "mouse26_left",
           "run4.csv",
           "C_preDLC"
          ],
          [
           "mouse26_left",
           "run4.csv",
           "C_preDLC"
          ],
          [
           "mouse26_left",
           "run4.csv",
           "C_preDLC"
          ],
          [
           "mouse26_left",
           "run4.csv",
           "C_preDLC"
          ],
          [
           "mouse27_left",
           "run2.csv",
           "C_preDLC"
          ],
          [
           "mouse27_left",
           "run2.csv",
           "C_preDLC"
          ],
          [
           "mouse27_left",
           "run2.csv",
           "C_preDLC"
          ],
          [
           "mouse27_left",
           "run2.csv",
           "C_preDLC"
          ],
          [
           "mouse27_left",
           "run2.csv",
           "C_preDLC"
          ],
          [
           "mouse27_left",
           "run3.csv",
           "C_preDLC"
          ],
          [
           "mouse27_left",
           "run3.csv",
           "C_preDLC"
          ],
          [
           "mouse27_left",
           "run3.csv",
           "C_preDLC"
          ],
          [
           "mouse27_left",
           "run3.csv",
           "C_preDLC"
          ],
          [
           "mouse27_left",
           "run3.csv",
           "C_preDLC"
          ],
          [
           "mouse27_left",
           "run4.csv",
           "C_preDLC"
          ],
          [
           "mouse27_left",
           "run4.csv",
           "C_preDLC"
          ],
          [
           "mouse27_left",
           "run6.csv",
           "C_preDLC"
          ],
          [
           "mouse27_left",
           "run6.csv",
           "C_preDLC"
          ],
          [
           "mouse28_left",
           "run1.csv",
           "C_preDLC"
          ],
          [
           "mouse28_left",
           "run1.csv",
           "C_preDLC"
          ],
          [
           "mouse28_left",
           "run1.csv",
           "C_preDLC"
          ],
          [
           "mouse28_left",
           "run1.csv",
           "C_preDLC"
          ],
          [
           "mouse28_left",
           "run1.csv",
           "C_preDLC"
          ],
          [
           "mouse28_left",
           "run3.csv",
           "C_preDLC"
          ],
          [
           "mouse28_left",
           "run3.csv",
           "C_preDLC"
          ],
          [
           "mouse28_left",
           "run3.csv",
           "C_preDLC"
          ],
          [
           "mouse28_left",
           "run3.csv",
           "C_preDLC"
          ],
          [
           "mouse28_left",
           "run3.csv",
           "C_preDLC"
          ],
          [
           "mouse29_left",
           "run1.csv",
           "C_preDLC"
          ],
          [
           "mouse29_left",
           "run1.csv",
           "C_preDLC"
          ],
          [
           "mouse29_left",
           "run1.csv",
           "C_preDLC"
          ],
          [
           "mouse29_left",
           "run1.csv",
           "C_preDLC"
          ],
          [
           "mouse29_left",
           "run2.csv",
           "C_preDLC"
          ],
          [
           "mouse29_left",
           "run2.csv",
           "C_preDLC"
          ],
          [
           "mouse29_left",
           "run2.csv",
           "C_preDLC"
          ],
          [
           "mouse29_left",
           "run5.csv",
           "C_preDLC"
          ],
          [
           "mouse29_left",
           "run5.csv",
           "C_preDLC"
          ],
          [
           "mouse29_left",
           "run5.csv",
           "C_preDLC"
          ],
          [
           "mouse29_left",
           "run5.csv",
           "C_preDLC"
          ],
          [
           "mouse29_left",
           "run5.csv",
           "C_preDLC"
          ],
          [
           "mouse30_left",
           "run1.csv",
           "C_preDLC"
          ],
          [
           "mouse30_left",
           "run1.csv",
           "C_preDLC"
          ],
          [
           "mouse30_left",
           "run1.csv",
           "C_preDLC"
          ],
          [
           "mouse30_left",
           "run1.csv",
           "C_preDLC"
          ],
          [
           "mouse30_left",
           "run3.csv",
           "C_preDLC"
          ],
          [
           "mouse30_left",
           "run3.csv",
           "C_preDLC"
          ],
          [
           "mouse30_left",
           "run3.csv",
           "C_preDLC"
          ],
          [
           "mouse30_left",
           "run3.csv",
           "C_preDLC"
          ],
          [
           "mouse30_left",
           "run5.csv",
           "C_preDLC"
          ],
          [
           "mouse30_left",
           "run5.csv",
           "C_preDLC"
          ],
          [
           "mouse30_left",
           "run5.csv",
           "C_preDLC"
          ],
          [
           "mouse30_left",
           "run7.csv",
           "C_preDLC"
          ],
          [
           "mouse30_left",
           "run7.csv",
           "C_preDLC"
          ],
          [
           "mouse30_left",
           "run7.csv",
           "C_preDLC"
          ],
          [
           "mouse31_left",
           "run1.csv",
           "D_preDLC"
          ],
          [
           "mouse31_left",
           "run1.csv",
           "D_preDLC"
          ],
          [
           "mouse31_left",
           "run1.csv",
           "D_preDLC"
          ],
          [
           "mouse31_left",
           "run1.csv",
           "D_preDLC"
          ],
          [
           "mouse31_left",
           "run3.csv",
           "D_preDLC"
          ],
          [
           "mouse31_left",
           "run3.csv",
           "D_preDLC"
          ],
          [
           "mouse31_left",
           "run3.csv",
           "D_preDLC"
          ],
          [
           "mouse31_left",
           "run3.csv",
           "D_preDLC"
          ],
          [
           "mouse31_left",
           "run3.csv",
           "D_preDLC"
          ],
          [
           "mouse31_left",
           "run5.csv",
           "D_preDLC"
          ],
          [
           "mouse31_left",
           "run5.csv",
           "D_preDLC"
          ],
          [
           "mouse31_left",
           "run5.csv",
           "D_preDLC"
          ],
          [
           "mouse31_left",
           "run6.csv",
           "D_preDLC"
          ],
          [
           "mouse31_left",
           "run6.csv",
           "D_preDLC"
          ],
          [
           "mouse32_left",
           "run1.csv",
           "D_preDLC"
          ],
          [
           "mouse32_left",
           "run1.csv",
           "D_preDLC"
          ],
          [
           "mouse32_left",
           "run1.csv",
           "D_preDLC"
          ],
          [
           "mouse32_left",
           "run3.csv",
           "D_preDLC"
          ],
          [
           "mouse32_left",
           "run3.csv",
           "D_preDLC"
          ],
          [
           "mouse32_left",
           "run3.csv",
           "D_preDLC"
          ],
          [
           "mouse32_left",
           "run6.csv",
           "D_preDLC"
          ],
          [
           "mouse32_left",
           "run6.csv",
           "D_preDLC"
          ],
          [
           "mouse33_left",
           "run1.csv",
           "D_preDLC"
          ],
          [
           "mouse33_left",
           "run1.csv",
           "D_preDLC"
          ],
          [
           "mouse33_left",
           "run1.csv",
           "D_preDLC"
          ],
          [
           "mouse33_left",
           "run4.csv",
           "D_preDLC"
          ],
          [
           "mouse33_left",
           "run4.csv",
           "D_preDLC"
          ],
          [
           "mouse33_left",
           "run4.csv",
           "D_preDLC"
          ],
          [
           "mouse33_left",
           "run4.csv",
           "D_preDLC"
          ],
          [
           "mouse34_left",
           "run2.csv",
           "D_preDLC"
          ],
          [
           "mouse34_left",
           "run2.csv",
           "D_preDLC"
          ],
          [
           "mouse34_left",
           "run2.csv",
           "D_preDLC"
          ],
          [
           "mouse34_left",
           "run3.csv",
           "D_preDLC"
          ],
          [
           "mouse34_left",
           "run3.csv",
           "D_preDLC"
          ],
          [
           "mouse34_left",
           "run3.csv",
           "D_preDLC"
          ],
          [
           "mouse34_left",
           "run4.csv",
           "D_preDLC"
          ],
          [
           "mouse34_left",
           "run4.csv",
           "D_preDLC"
          ],
          [
           "mouse35_left",
           "run1.csv",
           "D_preDLC"
          ],
          [
           "mouse35_left",
           "run1.csv",
           "D_preDLC"
          ],
          [
           "mouse35_left",
           "run1.csv",
           "D_preDLC"
          ],
          [
           "mouse35_left",
           "run1.csv",
           "D_preDLC"
          ],
          [
           "mouse35_left",
           "run1.csv",
           "D_preDLC"
          ],
          [
           "mouse35_left",
           "run5.csv",
           "D_preDLC"
          ],
          [
           "mouse35_left",
           "run5.csv",
           "D_preDLC"
          ],
          [
           "mouse35_left",
           "run5.csv",
           "D_preDLC"
          ],
          [
           "mouse35_left",
           "run5.csv",
           "D_preDLC"
          ],
          [
           "mouse35_left",
           "run5.csv",
           "D_preDLC"
          ],
          [
           "mouse36_left",
           "run1.csv",
           "D_preDLC"
          ],
          [
           "mouse36_left",
           "run1.csv",
           "D_preDLC"
          ],
          [
           "mouse36_left",
           "run1.csv",
           "D_preDLC"
          ],
          [
           "mouse36_left",
           "run1.csv",
           "D_preDLC"
          ],
          [
           "mouse36_left",
           "run2.csv",
           "D_preDLC"
          ],
          [
           "mouse36_left",
           "run2.csv",
           "D_preDLC"
          ],
          [
           "mouse36_left",
           "run2.csv",
           "D_preDLC"
          ],
          [
           "mouse36_left",
           "run2.csv",
           "D_preDLC"
          ],
          [
           "mouse36_left",
           "run3.csv",
           "D_preDLC"
          ],
          [
           "mouse36_left",
           "run3.csv",
           "D_preDLC"
          ],
          [
           "mouse36_left",
           "run3.csv",
           "D_preDLC"
          ],
          [
           "mouse36_left",
           "run3.csv",
           "D_preDLC"
          ],
          [
           "mouse36_left",
           "run3.csv",
           "D_preDLC"
          ],
          [
           "mouse37_left",
           "run2.csv",
           "D_preDLC"
          ],
          [
           "mouse37_left",
           "run2.csv",
           "D_preDLC"
          ],
          [
           "mouse37_left",
           "run4.csv",
           "D_preDLC"
          ],
          [
           "mouse37_left",
           "run4.csv",
           "D_preDLC"
          ],
          [
           "mouse37_left",
           "run4.csv",
           "D_preDLC"
          ],
          [
           "mouse37_left",
           "run6.csv",
           "D_preDLC"
          ],
          [
           "mouse37_left",
           "run6.csv",
           "D_preDLC"
          ],
          [
           "mouse38_left",
           "run1.csv",
           "D_preDLC"
          ],
          [
           "mouse38_left",
           "run1.csv",
           "D_preDLC"
          ],
          [
           "mouse38_left",
           "run1.csv",
           "D_preDLC"
          ],
          [
           "mouse38_left",
           "run1.csv",
           "D_preDLC"
          ],
          [
           "mouse38_left",
           "run3.csv",
           "D_preDLC"
          ],
          [
           "mouse38_left",
           "run3.csv",
           "D_preDLC"
          ],
          [
           "mouse38_left",
           "run3.csv",
           "D_preDLC"
          ],
          [
           "mouse39_left",
           "run1.csv",
           "D_preDLC"
          ],
          [
           "mouse39_left",
           "run1.csv",
           "D_preDLC"
          ],
          [
           "mouse39_left",
           "run1.csv",
           "D_preDLC"
          ],
          [
           "mouse39_left",
           "run3.csv",
           "D_preDLC"
          ],
          [
           "mouse39_left",
           "run3.csv",
           "D_preDLC"
          ],
          [
           "mouse39_left",
           "run3.csv",
           "D_preDLC"
          ],
          [
           "mouse39_left",
           "run3.csv",
           "D_preDLC"
          ],
          [
           "mouse39_left",
           "run5.csv",
           "D_preDLC"
          ],
          [
           "mouse39_left",
           "run5.csv",
           "D_preDLC"
          ],
          [
           "mouse39_left",
           "run5.csv",
           "D_preDLC"
          ],
          [
           "mouse39_left",
           "run5.csv",
           "D_preDLC"
          ],
          [
           "mouse40_left",
           "run3.csv",
           "D_preDLC"
          ],
          [
           "mouse40_left",
           "run3.csv",
           "D_preDLC"
          ],
          [
           "mouse40_left",
           "run3.csv",
           "D_preDLC"
          ],
          [
           "mouse40_left",
           "run3.csv",
           "D_preDLC"
          ],
          [
           "mouse40_left",
           "run3.csv",
           "D_preDLC"
          ],
          [
           "mouse40_left",
           "run3.csv",
           "D_preDLC"
          ],
          [
           "mouse40_left",
           "run4.csv",
           "D_preDLC"
          ],
          [
           "mouse40_left",
           "run4.csv",
           "D_preDLC"
          ],
          [
           "mouse40_left",
           "run4.csv",
           "D_preDLC"
          ],
          [
           "mouse40_left",
           "run4.csv",
           "D_preDLC"
          ],
          [
           "mouse40_left",
           "run4.csv",
           "D_preDLC"
          ],
          [
           "mouse40_left",
           "run6.csv",
           "D_preDLC"
          ],
          [
           "mouse40_left",
           "run6.csv",
           "D_preDLC"
          ],
          [
           "mouse40_left",
           "run6.csv",
           "D_preDLC"
          ],
          [
           "mouse42_left",
           "run1.csv",
           "D_preDLC"
          ],
          [
           "mouse42_left",
           "run1.csv",
           "D_preDLC"
          ],
          [
           "mouse42_left",
           "run1.csv",
           "D_preDLC"
          ],
          [
           "mouse42_left",
           "run1.csv",
           "D_preDLC"
          ],
          [
           "mouse42_left",
           "run3.csv",
           "D_preDLC"
          ],
          [
           "mouse42_left",
           "run3.csv",
           "D_preDLC"
          ],
          [
           "mouse42_left",
           "run3.csv",
           "D_preDLC"
          ],
          [
           "mouse42_left",
           "run3.csv",
           "D_preDLC"
          ],
          [
           "mouse42_left",
           "run3.csv",
           "D_preDLC"
          ],
          [
           "mouse42_left",
           "run6.csv",
           "D_preDLC"
          ],
          [
           "mouse42_left",
           "run6.csv",
           "D_preDLC"
          ],
          [
           "mouse42_left",
           "run6.csv",
           "D_preDLC"
          ],
          [
           "mouse42_left",
           "run6.csv",
           "D_preDLC"
          ],
          [
           "mouse50_left",
           "run1.csv",
           "D_preDLC"
          ],
          [
           "mouse50_left",
           "run1.csv",
           "D_preDLC"
          ],
          [
           "mouse50_left",
           "run1.csv",
           "D_preDLC"
          ],
          [
           "mouse50_left",
           "run1.csv",
           "D_preDLC"
          ],
          [
           "mouse50_left",
           "run2.csv",
           "D_preDLC"
          ],
          [
           "mouse50_left",
           "run2.csv",
           "D_preDLC"
          ],
          [
           "mouse50_left",
           "run2.csv",
           "D_preDLC"
          ],
          [
           "mouse50_left",
           "run2.csv",
           "D_preDLC"
          ],
          [
           "mouse50_left",
           "run2.csv",
           "D_preDLC"
          ],
          [
           "mouse50_left",
           "run4.csv",
           "D_preDLC"
          ],
          [
           "mouse50_left",
           "run4.csv",
           "D_preDLC"
          ],
          [
           "mouse50_left",
           "run4.csv",
           "D_preDLC"
          ],
          [
           "mouse50_left",
           "run4.csv",
           "D_preDLC"
          ],
          [
           "mouse41_left",
           "run1.csv",
           "E_preDLC"
          ],
          [
           "mouse41_left",
           "run1.csv",
           "E_preDLC"
          ],
          [
           "mouse41_left",
           "run1.csv",
           "E_preDLC"
          ],
          [
           "mouse41_left",
           "run1.csv",
           "E_preDLC"
          ],
          [
           "mouse41_left",
           "run3.csv",
           "E_preDLC"
          ],
          [
           "mouse41_left",
           "run3.csv",
           "E_preDLC"
          ],
          [
           "mouse41_left",
           "run3.csv",
           "E_preDLC"
          ],
          [
           "mouse41_left",
           "run3.csv",
           "E_preDLC"
          ],
          [
           "mouse43_left",
           "run1.csv",
           "E_preDLC"
          ],
          [
           "mouse43_left",
           "run1.csv",
           "E_preDLC"
          ],
          [
           "mouse43_left",
           "run1.csv",
           "E_preDLC"
          ],
          [
           "mouse43_left",
           "run2.csv",
           "E_preDLC"
          ],
          [
           "mouse43_left",
           "run2.csv",
           "E_preDLC"
          ],
          [
           "mouse43_left",
           "run2.csv",
           "E_preDLC"
          ],
          [
           "mouse44_left",
           "run1.csv",
           "E_preDLC"
          ],
          [
           "mouse44_left",
           "run1.csv",
           "E_preDLC"
          ],
          [
           "mouse44_left",
           "run1.csv",
           "E_preDLC"
          ],
          [
           "mouse44_left",
           "run1.csv",
           "E_preDLC"
          ],
          [
           "mouse44_left",
           "run3.csv",
           "E_preDLC"
          ],
          [
           "mouse44_left",
           "run3.csv",
           "E_preDLC"
          ],
          [
           "mouse44_left",
           "run3.csv",
           "E_preDLC"
          ],
          [
           "mouse44_left",
           "run3.csv",
           "E_preDLC"
          ],
          [
           "mouse44_left",
           "run3.csv",
           "E_preDLC"
          ],
          [
           "mouse44_left",
           "run6.csv",
           "E_preDLC"
          ],
          [
           "mouse44_left",
           "run6.csv",
           "E_preDLC"
          ],
          [
           "mouse44_left",
           "run6.csv",
           "E_preDLC"
          ],
          [
           "mouse44_left",
           "run6.csv",
           "E_preDLC"
          ],
          [
           "mouse44_left",
           "run6.csv",
           "E_preDLC"
          ],
          [
           "mouse45_left",
           "run3.csv",
           "E_preDLC"
          ],
          [
           "mouse45_left",
           "run3.csv",
           "E_preDLC"
          ],
          [
           "mouse45_left",
           "run3.csv",
           "E_preDLC"
          ],
          [
           "mouse45_left",
           "run6.csv",
           "E_preDLC"
          ],
          [
           "mouse45_left",
           "run6.csv",
           "E_preDLC"
          ],
          [
           "mouse45_left",
           "run6.csv",
           "E_preDLC"
          ],
          [
           "mouse45_left",
           "run6.csv",
           "E_preDLC"
          ],
          [
           "mouse45_left",
           "run6.csv",
           "E_preDLC"
          ],
          [
           "mouse46_left",
           "run1.csv",
           "E_preDLC"
          ],
          [
           "mouse46_left",
           "run1.csv",
           "E_preDLC"
          ],
          [
           "mouse46_left",
           "run1.csv",
           "E_preDLC"
          ],
          [
           "mouse46_left",
           "run1.csv",
           "E_preDLC"
          ],
          [
           "mouse46_left",
           "run3.csv",
           "E_preDLC"
          ],
          [
           "mouse46_left",
           "run3.csv",
           "E_preDLC"
          ],
          [
           "mouse46_left",
           "run3.csv",
           "E_preDLC"
          ],
          [
           "mouse46_left",
           "run3.csv",
           "E_preDLC"
          ],
          [
           "mouse46_left",
           "run5.csv",
           "E_preDLC"
          ],
          [
           "mouse46_left",
           "run5.csv",
           "E_preDLC"
          ],
          [
           "mouse46_left",
           "run5.csv",
           "E_preDLC"
          ],
          [
           "mouse47_left",
           "run1.csv",
           "E_preDLC"
          ],
          [
           "mouse47_left",
           "run1.csv",
           "E_preDLC"
          ],
          [
           "mouse47_left",
           "run1.csv",
           "E_preDLC"
          ],
          [
           "mouse47_left",
           "run1.csv",
           "E_preDLC"
          ],
          [
           "mouse47_left",
           "run2.csv",
           "E_preDLC"
          ],
          [
           "mouse47_left",
           "run2.csv",
           "E_preDLC"
          ],
          [
           "mouse47_left",
           "run2.csv",
           "E_preDLC"
          ],
          [
           "mouse47_left",
           "run3.csv",
           "E_preDLC"
          ],
          [
           "mouse47_left",
           "run3.csv",
           "E_preDLC"
          ],
          [
           "mouse47_left",
           "run3.csv",
           "E_preDLC"
          ],
          [
           "mouse48_left",
           "run1.csv",
           "E_preDLC"
          ],
          [
           "mouse48_left",
           "run1.csv",
           "E_preDLC"
          ],
          [
           "mouse48_left",
           "run1.csv",
           "E_preDLC"
          ],
          [
           "mouse48_left",
           "run1.csv",
           "E_preDLC"
          ],
          [
           "mouse48_left",
           "run1.csv",
           "E_preDLC"
          ],
          [
           "mouse48_left",
           "run2.csv",
           "E_preDLC"
          ],
          [
           "mouse48_left",
           "run2.csv",
           "E_preDLC"
          ],
          [
           "mouse48_left",
           "run2.csv",
           "E_preDLC"
          ],
          [
           "mouse48_left",
           "run2.csv",
           "E_preDLC"
          ],
          [
           "mouse48_left",
           "run2.csv",
           "E_preDLC"
          ],
          [
           "mouse48_left",
           "run5.csv",
           "E_preDLC"
          ],
          [
           "mouse48_left",
           "run5.csv",
           "E_preDLC"
          ],
          [
           "mouse48_left",
           "run5.csv",
           "E_preDLC"
          ],
          [
           "mouse48_left",
           "run5.csv",
           "E_preDLC"
          ],
          [
           "mouse48_left",
           "run5.csv",
           "E_preDLC"
          ],
          [
           "mouse49_left",
           "run2.csv",
           "E_preDLC"
          ],
          [
           "mouse49_left",
           "run2.csv",
           "E_preDLC"
          ],
          [
           "mouse49_left",
           "run2.csv",
           "E_preDLC"
          ],
          [
           "mouse49_left",
           "run3.csv",
           "E_preDLC"
          ],
          [
           "mouse49_left",
           "run3.csv",
           "E_preDLC"
          ],
          [
           "mouse49_left",
           "run3.csv",
           "E_preDLC"
          ],
          [
           "mouse49_left",
           "run3.csv",
           "E_preDLC"
          ],
          [
           "mouse49_left",
           "run6.csv",
           "E_preDLC"
          ],
          [
           "mouse49_left",
           "run6.csv",
           "E_preDLC"
          ],
          [
           "mouse49_left",
           "run6.csv",
           "E_preDLC"
          ],
          [
           "mouse49_left",
           "run6.csv",
           "E_preDLC"
          ],
          [
           "mouse49_left",
           "run6.csv",
           "E_preDLC"
          ]
         ],
         "hovertemplate": "Group=healthy<br>UMAP1=%{x}<br>UMAP2=%{y}<br>UMAP3=%{z}<br>Mouse=%{customdata[0]}<br>Run=%{customdata[1]}<br>Dataset=%{customdata[2]}<extra></extra>",
         "legendgroup": "healthy",
         "marker": {
          "color": "#EF553B",
          "line": {
           "color": "DarkSlateGrey",
           "width": 0.5
          },
          "size": 8,
          "symbol": "circle"
         },
         "mode": "markers",
         "name": "healthy",
         "scene": "scene",
         "showlegend": true,
         "type": "scatter3d",
         "x": {
          "bdata": "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",
          "dtype": "f4"
         },
         "y": {
          "bdata": "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",
          "dtype": "f4"
         },
         "z": {
          "bdata": "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",
          "dtype": "f4"
         }
        }
       ],
       "layout": {
        "legend": {
         "title": {
          "text": "Group"
         },
         "tracegroupgap": 0
        },
        "scene": {
         "domain": {
          "x": [
           0,
           1
          ],
          "y": [
           0,
           1
          ]
         },
         "xaxis": {
          "title": {
           "text": "UMAP1"
          }
         },
         "yaxis": {
          "title": {
           "text": "UMAP2"
          }
         },
         "zaxis": {
          "title": {
           "text": "UMAP3"
          }
         }
        },
        "template": {
         "data": {
          "bar": [
           {
            "error_x": {
             "color": "#2a3f5f"
            },
            "error_y": {
             "color": "#2a3f5f"
            },
            "marker": {
             "line": {
              "color": "white",
              "width": 0.5
             },
             "pattern": {
              "fillmode": "overlay",
              "size": 10,
              "solidity": 0.2
             }
            },
            "type": "bar"
           }
          ],
          "barpolar": [
           {
            "marker": {
             "line": {
              "color": "white",
              "width": 0.5
             },
             "pattern": {
              "fillmode": "overlay",
              "size": 10,
              "solidity": 0.2
             }
            },
            "type": "barpolar"
           }
          ],
          "carpet": [
           {
            "aaxis": {
             "endlinecolor": "#2a3f5f",
             "gridcolor": "#C8D4E3",
             "linecolor": "#C8D4E3",
             "minorgridcolor": "#C8D4E3",
             "startlinecolor": "#2a3f5f"
            },
            "baxis": {
             "endlinecolor": "#2a3f5f",
             "gridcolor": "#C8D4E3",
             "linecolor": "#C8D4E3",
             "minorgridcolor": "#C8D4E3",
             "startlinecolor": "#2a3f5f"
            },
            "type": "carpet"
           }
          ],
          "choropleth": [
           {
            "colorbar": {
             "outlinewidth": 0,
             "ticks": ""
            },
            "type": "choropleth"
           }
          ],
          "contour": [
           {
            "colorbar": {
             "outlinewidth": 0,
             "ticks": ""
            },
            "colorscale": [
             [
              0,
              "#0d0887"
             ],
             [
              0.1111111111111111,
              "#46039f"
             ],
             [
              0.2222222222222222,
              "#7201a8"
             ],
             [
              0.3333333333333333,
              "#9c179e"
             ],
             [
              0.4444444444444444,
              "#bd3786"
             ],
             [
              0.5555555555555556,
              "#d8576b"
             ],
             [
              0.6666666666666666,
              "#ed7953"
             ],
             [
              0.7777777777777778,
              "#fb9f3a"
             ],
             [
              0.8888888888888888,
              "#fdca26"
             ],
             [
              1,
              "#f0f921"
             ]
            ],
            "type": "contour"
           }
          ],
          "contourcarpet": [
           {
            "colorbar": {
             "outlinewidth": 0,
             "ticks": ""
            },
            "type": "contourcarpet"
           }
          ],
          "heatmap": [
           {
            "colorbar": {
             "outlinewidth": 0,
             "ticks": ""
            },
            "colorscale": [
             [
              0,
              "#0d0887"
             ],
             [
              0.1111111111111111,
              "#46039f"
             ],
             [
              0.2222222222222222,
              "#7201a8"
             ],
             [
              0.3333333333333333,
              "#9c179e"
             ],
             [
              0.4444444444444444,
              "#bd3786"
             ],
             [
              0.5555555555555556,
              "#d8576b"
             ],
             [
              0.6666666666666666,
              "#ed7953"
             ],
             [
              0.7777777777777778,
              "#fb9f3a"
             ],
             [
              0.8888888888888888,
              "#fdca26"
             ],
             [
              1,
              "#f0f921"
             ]
            ],
            "type": "heatmap"
           }
          ],
          "histogram": [
           {
            "marker": {
             "pattern": {
              "fillmode": "overlay",
              "size": 10,
              "solidity": 0.2
             }
            },
            "type": "histogram"
           }
          ],
          "histogram2d": [
           {
            "colorbar": {
             "outlinewidth": 0,
             "ticks": ""
            },
            "colorscale": [
             [
              0,
              "#0d0887"
             ],
             [
              0.1111111111111111,
              "#46039f"
             ],
             [
              0.2222222222222222,
              "#7201a8"
             ],
             [
              0.3333333333333333,
              "#9c179e"
             ],
             [
              0.4444444444444444,
              "#bd3786"
             ],
             [
              0.5555555555555556,
              "#d8576b"
             ],
             [
              0.6666666666666666,
              "#ed7953"
             ],
             [
              0.7777777777777778,
              "#fb9f3a"
             ],
             [
              0.8888888888888888,
              "#fdca26"
             ],
             [
              1,
              "#f0f921"
             ]
            ],
            "type": "histogram2d"
           }
          ],
          "histogram2dcontour": [
           {
            "colorbar": {
             "outlinewidth": 0,
             "ticks": ""
            },
            "colorscale": [
             [
              0,
              "#0d0887"
             ],
             [
              0.1111111111111111,
              "#46039f"
             ],
             [
              0.2222222222222222,
              "#7201a8"
             ],
             [
              0.3333333333333333,
              "#9c179e"
             ],
             [
              0.4444444444444444,
              "#bd3786"
             ],
             [
              0.5555555555555556,
              "#d8576b"
             ],
             [
              0.6666666666666666,
              "#ed7953"
             ],
             [
              0.7777777777777778,
              "#fb9f3a"
             ],
             [
              0.8888888888888888,
              "#fdca26"
             ],
             [
              1,
              "#f0f921"
             ]
            ],
            "type": "histogram2dcontour"
           }
          ],
          "mesh3d": [
           {
            "colorbar": {
             "outlinewidth": 0,
             "ticks": ""
            },
            "type": "mesh3d"
           }
          ],
          "parcoords": [
           {
            "line": {
             "colorbar": {
              "outlinewidth": 0,
              "ticks": ""
             }
            },
            "type": "parcoords"
           }
          ],
          "pie": [
           {
            "automargin": true,
            "type": "pie"
           }
          ],
          "scatter": [
           {
            "fillpattern": {
             "fillmode": "overlay",
             "size": 10,
             "solidity": 0.2
            },
            "type": "scatter"
           }
          ],
          "scatter3d": [
           {
            "line": {
             "colorbar": {
              "outlinewidth": 0,
              "ticks": ""
             }
            },
            "marker": {
             "colorbar": {
              "outlinewidth": 0,
              "ticks": ""
             }
            },
            "type": "scatter3d"
           }
          ],
          "scattercarpet": [
           {
            "marker": {
             "colorbar": {
              "outlinewidth": 0,
              "ticks": ""
             }
            },
            "type": "scattercarpet"
           }
          ],
          "scattergeo": [
           {
            "marker": {
             "colorbar": {
              "outlinewidth": 0,
              "ticks": ""
             }
            },
            "type": "scattergeo"
           }
          ],
          "scattergl": [
           {
            "marker": {
             "colorbar": {
              "outlinewidth": 0,
              "ticks": ""
             }
            },
            "type": "scattergl"
           }
          ],
          "scattermap": [
           {
            "marker": {
             "colorbar": {
              "outlinewidth": 0,
              "ticks": ""
             }
            },
            "type": "scattermap"
           }
          ],
          "scattermapbox": [
           {
            "marker": {
             "colorbar": {
              "outlinewidth": 0,
              "ticks": ""
             }
            },
            "type": "scattermapbox"
           }
          ],
          "scatterpolar": [
           {
            "marker": {
             "colorbar": {
              "outlinewidth": 0,
              "ticks": ""
             }
            },
            "type": "scatterpolar"
           }
          ],
          "scatterpolargl": [
           {
            "marker": {
             "colorbar": {
              "outlinewidth": 0,
              "ticks": ""
             }
            },
            "type": "scatterpolargl"
           }
          ],
          "scatterternary": [
           {
            "marker": {
             "colorbar": {
              "outlinewidth": 0,
              "ticks": ""
             }
            },
            "type": "scatterternary"
           }
          ],
          "surface": [
           {
            "colorbar": {
             "outlinewidth": 0,
             "ticks": ""
            },
            "colorscale": [
             [
              0,
              "#0d0887"
             ],
             [
              0.1111111111111111,
              "#46039f"
             ],
             [
              0.2222222222222222,
              "#7201a8"
             ],
             [
              0.3333333333333333,
              "#9c179e"
             ],
             [
              0.4444444444444444,
              "#bd3786"
             ],
             [
              0.5555555555555556,
              "#d8576b"
             ],
             [
              0.6666666666666666,
              "#ed7953"
             ],
             [
              0.7777777777777778,
              "#fb9f3a"
             ],
             [
              0.8888888888888888,
              "#fdca26"
             ],
             [
              1,
              "#f0f921"
             ]
            ],
            "type": "surface"
           }
          ],
          "table": [
           {
            "cells": {
             "fill": {
              "color": "#EBF0F8"
             },
             "line": {
              "color": "white"
             }
            },
            "header": {
             "fill": {
              "color": "#C8D4E3"
             },
             "line": {
              "color": "white"
             }
            },
            "type": "table"
           }
          ]
         },
         "layout": {
          "annotationdefaults": {
           "arrowcolor": "#2a3f5f",
           "arrowhead": 0,
           "arrowwidth": 1
          },
          "autotypenumbers": "strict",
          "coloraxis": {
           "colorbar": {
            "outlinewidth": 0,
            "ticks": ""
           }
          },
          "colorscale": {
           "diverging": [
            [
             0,
             "#8e0152"
            ],
            [
             0.1,
             "#c51b7d"
            ],
            [
             0.2,
             "#de77ae"
            ],
            [
             0.3,
             "#f1b6da"
            ],
            [
             0.4,
             "#fde0ef"
            ],
            [
             0.5,
             "#f7f7f7"
            ],
            [
             0.6,
             "#e6f5d0"
            ],
            [
             0.7,
             "#b8e186"
            ],
            [
             0.8,
             "#7fbc41"
            ],
            [
             0.9,
             "#4d9221"
            ],
            [
             1,
             "#276419"
            ]
           ],
           "sequential": [
            [
             0,
             "#0d0887"
            ],
            [
             0.1111111111111111,
             "#46039f"
            ],
            [
             0.2222222222222222,
             "#7201a8"
            ],
            [
             0.3333333333333333,
             "#9c179e"
            ],
            [
             0.4444444444444444,
             "#bd3786"
            ],
            [
             0.5555555555555556,
             "#d8576b"
            ],
            [
             0.6666666666666666,
             "#ed7953"
            ],
            [
             0.7777777777777778,
             "#fb9f3a"
            ],
            [
             0.8888888888888888,
             "#fdca26"
            ],
            [
             1,
             "#f0f921"
            ]
           ],
           "sequentialminus": [
            [
             0,
             "#0d0887"
            ],
            [
             0.1111111111111111,
             "#46039f"
            ],
            [
             0.2222222222222222,
             "#7201a8"
            ],
            [
             0.3333333333333333,
             "#9c179e"
            ],
            [
             0.4444444444444444,
             "#bd3786"
            ],
            [
             0.5555555555555556,
             "#d8576b"
            ],
            [
             0.6666666666666666,
             "#ed7953"
            ],
            [
             0.7777777777777778,
             "#fb9f3a"
            ],
            [
             0.8888888888888888,
             "#fdca26"
            ],
            [
             1,
             "#f0f921"
            ]
           ]
          },
          "colorway": [
           "#636efa",
           "#EF553B",
           "#00cc96",
           "#ab63fa",
           "#FFA15A",
           "#19d3f3",
           "#FF6692",
           "#B6E880",
           "#FF97FF",
           "#FECB52"
          ],
          "font": {
           "color": "#2a3f5f"
          },
          "geo": {
           "bgcolor": "white",
           "lakecolor": "white",
           "landcolor": "white",
           "showlakes": true,
           "showland": true,
           "subunitcolor": "#C8D4E3"
          },
          "hoverlabel": {
           "align": "left"
          },
          "hovermode": "closest",
          "mapbox": {
           "style": "light"
          },
          "paper_bgcolor": "white",
          "plot_bgcolor": "white",
          "polar": {
           "angularaxis": {
            "gridcolor": "#EBF0F8",
            "linecolor": "#EBF0F8",
            "ticks": ""
           },
           "bgcolor": "white",
           "radialaxis": {
            "gridcolor": "#EBF0F8",
            "linecolor": "#EBF0F8",
            "ticks": ""
           }
          },
          "scene": {
           "xaxis": {
            "backgroundcolor": "white",
            "gridcolor": "#DFE8F3",
            "gridwidth": 2,
            "linecolor": "#EBF0F8",
            "showbackground": true,
            "ticks": "",
            "zerolinecolor": "#EBF0F8"
           },
           "yaxis": {
            "backgroundcolor": "white",
            "gridcolor": "#DFE8F3",
            "gridwidth": 2,
            "linecolor": "#EBF0F8",
            "showbackground": true,
            "ticks": "",
            "zerolinecolor": "#EBF0F8"
           },
           "zaxis": {
            "backgroundcolor": "white",
            "gridcolor": "#DFE8F3",
            "gridwidth": 2,
            "linecolor": "#EBF0F8",
            "showbackground": true,
            "ticks": "",
            "zerolinecolor": "#EBF0F8"
           }
          },
          "shapedefaults": {
           "line": {
            "color": "#2a3f5f"
           }
          },
          "ternary": {
           "aaxis": {
            "gridcolor": "#DFE8F3",
            "linecolor": "#A2B1C6",
            "ticks": ""
           },
           "baxis": {
            "gridcolor": "#DFE8F3",
            "linecolor": "#A2B1C6",
            "ticks": ""
           },
           "bgcolor": "white",
           "caxis": {
            "gridcolor": "#DFE8F3",
            "linecolor": "#A2B1C6",
            "ticks": ""
           }
          },
          "title": {
           "x": 0.05
          },
          "xaxis": {
           "automargin": true,
           "gridcolor": "#EBF0F8",
           "linecolor": "#EBF0F8",
           "ticks": "",
           "title": {
            "standoff": 15
           },
           "zerolinecolor": "#EBF0F8",
           "zerolinewidth": 2
          },
          "yaxis": {
           "automargin": true,
           "gridcolor": "#EBF0F8",
           "linecolor": "#EBF0F8",
           "ticks": "",
           "title": {
            "standoff": 15
           },
           "zerolinecolor": "#EBF0F8",
           "zerolinewidth": 2
          }
         }
        },
        "title": {
         "text": "3D UMAP Projection of Step Embeddings"
        }
       }
      }
     },
     "metadata": {},
     "output_type": "display_data"
    }
   ],
   "source": [
    "import plotly.express as px\n",
    "\n",
    "fig = px.scatter_3d(\n",
    "    umap_df,\n",
    "    x=\"UMAP1\", y=\"UMAP2\", z=\"UMAP3\",\n",
    "    color=\"Group\",                \n",
    "    hover_data=[\"Mouse\", \"Run\", \"Dataset\"],\n",
    "    title=\"3D UMAP Projection of Step Embeddings\"\n",
    ")\n",
    "\n",
    "fig.update_traces(marker=dict(size=8, line=dict(width=0.5, color='DarkSlateGrey')))\n",
    "fig.update_layout(legend_title=\"Group\", template=\"plotly_white\")\n",
    "fig.show()"
   ]
  }
 ],
 "metadata": {
  "kernelspec": {
   "display_name": ".venv",
   "language": "python",
   "name": "python3"
  },
  "language_info": {
   "codemirror_mode": {
    "name": "ipython",
    "version": 3
   },
   "file_extension": ".py",
   "mimetype": "text/x-python",
   "name": "python",
   "nbconvert_exporter": "python",
   "pygments_lexer": "ipython3",
   "version": "3.13.3"
  }
 },
 "nbformat": 4,
 "nbformat_minor": 5
}
