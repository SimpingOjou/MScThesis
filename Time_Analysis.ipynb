{
 "cells": [
  {
   "cell_type": "markdown",
   "id": "785d16a0",
   "metadata": {},
   "source": [
    "# Analyzing time-dependent data"
   ]
  },
  {
   "cell_type": "code",
   "execution_count": 25,
   "id": "5fcdeba5",
   "metadata": {},
   "outputs": [],
   "source": [
    "import os\n",
    "import pandas as pd\n",
    "import numpy as np\n",
    "import plotly.express as px\n",
    "import torch\n",
    "import timeit\n",
    "\n",
    "from sklearn.preprocessing import StandardScaler\n",
    "from sklearn.model_selection import train_test_split\n",
    "from torch.utils.data import TensorDataset, DataLoader\n",
    "from datetime import datetime\n",
    "from umap import UMAP\n",
    "\n",
    "from tqdm.notebook import tqdm\n",
    "\n",
    "from src.LSTM import LSTMAutoencoder"
   ]
  },
  {
   "cell_type": "code",
   "execution_count": 2,
   "id": "d16e18c5",
   "metadata": {},
   "outputs": [],
   "source": [
    "FIGURES_DIR = './figures/'\n",
    "MODELS_DIR = './src/models'\n",
    "DATA_DIR = './csv/Pain_Plot_Features'\n",
    "DATASETS = ['A', 'B', 'C', 'D', 'E']\n",
    "GROUPS = ['pre', 'post']\n",
    "DIRECTION = ['left', 'right']\n",
    "\n",
    "# Load the data\n",
    "data = {}\n",
    "directory = os.listdir(DATA_DIR)\n",
    "for file in directory:\n",
    "    if file.endswith('.csv'):\n",
    "        components = file.split('_')\n",
    "\n",
    "        ## Assuming the file naming convention is:\n",
    "        # dataset_group_mouse_direction_run.csv\n",
    "        dataset = components[0]\n",
    "        group = components[1]\n",
    "        mouse = components[2]\n",
    "        direction = components[3]\n",
    "        run = components[4]\n",
    "\n",
    "        datagroup = dataset + '_' + group\n",
    "        if datagroup not in data:\n",
    "            data[datagroup] = {}\n",
    "\n",
    "        mouse_direction = mouse + '_' + direction\n",
    "        if mouse_direction not in data[datagroup]:\n",
    "            data[datagroup][mouse_direction] = {}\n",
    "\n",
    "        data[datagroup][mouse_direction][run] = pd.read_csv(\n",
    "            os.path.join(DATA_DIR, file), index_col=0)"
   ]
  },
  {
   "cell_type": "code",
   "execution_count": 3,
   "id": "356a5e38",
   "metadata": {},
   "outputs": [
    {
     "name": "stdout",
     "output_type": "stream",
     "text": [
      "Group: A_postDLC\n",
      "\tmouse10_left: 4 runs with shapes: [(418, 199), (303, 199), (331, 199), (237, 199)]\n",
      "\tmouse10_right: 3 runs with shapes: [(376, 199), (278, 199), (348, 199)]\n",
      "\tmouse1_left: 3 runs with shapes: [(310, 199), (313, 199), (297, 199)]\n",
      "\tmouse1_right: 4 runs with shapes: [(259, 199), (251, 199), (233, 199), (351, 199)]\n",
      "\tmouse2_left: 4 runs with shapes: [(209, 199), (216, 199), (124, 199), (155, 199)]\n",
      "\tmouse2_right: 3 runs with shapes: [(223, 199), (193, 199), (211, 199)]\n",
      "\tmouse3_left: 5 runs with shapes: [(249, 199), (231, 199), (241, 199), (318, 199), (244, 199)]\n",
      "\tmouse3_right: 4 runs with shapes: [(297, 199), (230, 199), (154, 199), (224, 199)]\n",
      "\tmouse4_left: 3 runs with shapes: [(269, 199), (188, 199), (221, 199)]\n",
      "\tmouse4_right: 3 runs with shapes: [(283, 199), (213, 199), (195, 199)]\n",
      "\tmouse5_left: 3 runs with shapes: [(301, 199), (210, 199), (321, 199)]\n",
      "\tmouse5_right: 3 runs with shapes: [(341, 199), (212, 199), (191, 199)]\n",
      "\tmouse6_left: 4 runs with shapes: [(302, 199), (157, 199), (297, 199), (201, 199)]\n",
      "\tmouse6_right: 4 runs with shapes: [(271, 199), (235, 199), (163, 199), (141, 199)]\n",
      "\tmouse7_left: 3 runs with shapes: [(172, 199), (171, 199), (224, 199)]\n",
      "\tmouse7_right: 3 runs with shapes: [(175, 199), (152, 199), (197, 199)]\n",
      "\tmouse8_left: 4 runs with shapes: [(364, 199), (189, 199), (228, 199), (221, 199)]\n",
      "\tmouse8_right: 3 runs with shapes: [(276, 199), (178, 199), (166, 199)]\n",
      "\tmouse9_left: 5 runs with shapes: [(251, 199), (205, 199), (173, 199), (251, 199), (191, 199)]\n",
      "\tmouse9_right: 3 runs with shapes: [(211, 199), (160, 199), (165, 199)]\n",
      "Group: A_preDLC\n",
      "\tmouse10_left: 3 runs with shapes: [(279, 199), (178, 199), (165, 199)]\n",
      "\tmouse10_right: 3 runs with shapes: [(233, 199), (238, 199), (198, 199)]\n",
      "\tmouse1_left: 3 runs with shapes: [(275, 199), (181, 199), (193, 199)]\n",
      "\tmouse1_right: 3 runs with shapes: [(271, 199), (251, 199), (190, 199)]\n",
      "\tmouse2_left: 3 runs with shapes: [(127, 199), (244, 199), (181, 199)]\n",
      "\tmouse2_right: 4 runs with shapes: [(416, 199), (219, 199), (185, 199), (398, 199)]\n",
      "\tmouse3_left: 3 runs with shapes: [(189, 199), (321, 199), (251, 199)]\n",
      "\tmouse3_right: 3 runs with shapes: [(231, 199), (301, 199), (221, 199)]\n",
      "\tmouse4_left: 3 runs with shapes: [(262, 199), (220, 199), (191, 199)]\n",
      "\tmouse4_right: 3 runs with shapes: [(173, 199), (229, 199), (218, 199)]\n",
      "\tmouse5_left: 3 runs with shapes: [(476, 199), (168, 199), (221, 199)]\n",
      "\tmouse5_right: 5 runs with shapes: [(381, 199), (113, 199), (331, 199), (111, 199), (131, 199)]\n",
      "\tmouse6_left: 3 runs with shapes: [(348, 199), (151, 199), (175, 199)]\n",
      "\tmouse6_right: 3 runs with shapes: [(174, 199), (194, 199), (241, 199)]\n",
      "\tmouse7_left: 4 runs with shapes: [(391, 199), (399, 199), (186, 199), (159, 199)]\n",
      "\tmouse7_right: 3 runs with shapes: [(127, 199), (144, 199), (163, 199)]\n",
      "\tmouse8_left: 3 runs with shapes: [(476, 199), (225, 199), (268, 199)]\n",
      "\tmouse8_right: 3 runs with shapes: [(454, 199), (311, 199), (190, 199)]\n",
      "\tmouse9_left: 3 runs with shapes: [(419, 199), (194, 199), (145, 199)]\n",
      "\tmouse9_right: 3 runs with shapes: [(166, 199), (327, 199), (253, 199)]\n",
      "Group: B_postDLC\n",
      "\tmouse11_left: 3 runs with shapes: [(271, 199), (220, 199), (216, 199)]\n",
      "\tmouse11_right: 2 runs with shapes: [(401, 199), (241, 199)]\n",
      "\tmouse12_left: 3 runs with shapes: [(261, 199), (179, 199), (176, 199)]\n",
      "\tmouse12_right: 3 runs with shapes: [(200, 199), (151, 199), (261, 199)]\n",
      "\tmouse13_left: 3 runs with shapes: [(351, 199), (295, 199), (191, 199)]\n",
      "\tmouse13_right: 3 runs with shapes: [(421, 199), (291, 199), (201, 199)]\n",
      "\tmouse14_left: 3 runs with shapes: [(203, 199), (186, 199), (261, 199)]\n",
      "\tmouse14_right: 3 runs with shapes: [(216, 199), (221, 199), (160, 199)]\n",
      "\tmouse15_left: 3 runs with shapes: [(181, 199), (151, 199), (141, 199)]\n",
      "\tmouse15_right: 3 runs with shapes: [(187, 199), (191, 199), (221, 199)]\n",
      "\tmouse16_left: 4 runs with shapes: [(331, 199), (261, 199), (281, 199), (211, 199)]\n",
      "\tmouse16_right: 4 runs with shapes: [(271, 199), (131, 199), (184, 199), (299, 199)]\n",
      "\tmouse17_left: 4 runs with shapes: [(161, 199), (231, 199), (141, 199), (141, 199)]\n",
      "\tmouse17_right: 4 runs with shapes: [(201, 199), (137, 199), (155, 199), (141, 199)]\n",
      "\tmouse18_left: 3 runs with shapes: [(277, 199), (207, 199), (243, 199)]\n",
      "\tmouse18_right: 3 runs with shapes: [(211, 199), (201, 199), (191, 199)]\n",
      "\tmouse19_left: 3 runs with shapes: [(241, 199), (191, 199), (158, 199)]\n",
      "\tmouse19_right: 3 runs with shapes: [(224, 199), (159, 199), (142, 199)]\n",
      "\tmouse20_left: 3 runs with shapes: [(284, 199), (198, 199), (291, 199)]\n",
      "\tmouse20_right: 3 runs with shapes: [(267, 199), (221, 199), (221, 199)]\n",
      "Group: B_preDLC\n",
      "\tmouse11_left: 3 runs with shapes: [(435, 199), (212, 199), (319, 199)]\n",
      "\tmouse11_right: 3 runs with shapes: [(200, 199), (269, 199), (441, 199)]\n",
      "\tmouse12_left: 3 runs with shapes: [(201, 199), (290, 199), (154, 199)]\n",
      "\tmouse12_right: 3 runs with shapes: [(501, 199), (172, 199), (182, 199)]\n",
      "\tmouse13_left: 3 runs with shapes: [(436, 199), (231, 199), (246, 199)]\n",
      "\tmouse13_right: 3 runs with shapes: [(232, 199), (273, 199), (244, 199)]\n",
      "\tmouse14_left: 3 runs with shapes: [(361, 199), (221, 199), (253, 199)]\n",
      "\tmouse14_right: 3 runs with shapes: [(418, 199), (282, 199), (193, 199)]\n",
      "\tmouse15_left: 3 runs with shapes: [(125, 199), (214, 199), (331, 199)]\n",
      "\tmouse15_right: 3 runs with shapes: [(200, 199), (225, 199), (195, 199)]\n",
      "\tmouse16_left: 4 runs with shapes: [(321, 199), (404, 199), (185, 199), (239, 199)]\n",
      "\tmouse16_right: 3 runs with shapes: [(199, 199), (212, 199), (401, 199)]\n",
      "\tmouse17_left: 3 runs with shapes: [(164, 199), (170, 199), (232, 199)]\n",
      "\tmouse17_right: 4 runs with shapes: [(394, 199), (235, 199), (100, 199), (221, 199)]\n",
      "\tmouse18_left: 4 runs with shapes: [(331, 199), (158, 199), (173, 199), (134, 199)]\n",
      "\tmouse18_right: 3 runs with shapes: [(158, 199), (391, 199), (140, 199)]\n",
      "\tmouse19_left: 3 runs with shapes: [(440, 199), (208, 199), (240, 199)]\n",
      "\tmouse19_right: 3 runs with shapes: [(146, 199), (152, 199), (186, 199)]\n",
      "\tmouse20_left: 3 runs with shapes: [(231, 199), (141, 199), (152, 199)]\n",
      "\tmouse20_right: 3 runs with shapes: [(321, 199), (241, 199), (327, 199)]\n",
      "Group: C_postDLC\n",
      "\tmouse21_left: 3 runs with shapes: [(305, 199), (240, 199), (223, 199)]\n",
      "\tmouse21_right: 3 runs with shapes: [(369, 199), (251, 199), (231, 199)]\n",
      "\tmouse22_left: 3 runs with shapes: [(351, 199), (261, 199), (301, 199)]\n",
      "\tmouse22_right: 3 runs with shapes: [(291, 199), (341, 199), (331, 199)]\n",
      "\tmouse23_left: 3 runs with shapes: [(172, 199), (291, 199), (147, 199)]\n",
      "\tmouse23_right: 3 runs with shapes: [(281, 199), (213, 199), (281, 199)]\n",
      "\tmouse24_left: 3 runs with shapes: [(335, 199), (351, 199), (261, 199)]\n",
      "\tmouse24_right: 4 runs with shapes: [(211, 199), (187, 199), (131, 199), (109, 199)]\n",
      "\tmouse25_left: 3 runs with shapes: [(214, 199), (345, 199), (331, 199)]\n",
      "\tmouse25_right: 4 runs with shapes: [(261, 199), (391, 199), (271, 199), (208, 199)]\n",
      "\tmouse26_left: 3 runs with shapes: [(295, 199), (225, 199), (223, 199)]\n",
      "\tmouse26_right: 3 runs with shapes: [(261, 199), (203, 199), (199, 199)]\n",
      "\tmouse27_left: 3 runs with shapes: [(241, 199), (251, 199), (301, 199)]\n",
      "\tmouse27_right: 3 runs with shapes: [(301, 199), (321, 199), (211, 199)]\n",
      "\tmouse28_left: 3 runs with shapes: [(331, 199), (248, 199), (271, 199)]\n",
      "\tmouse28_right: 3 runs with shapes: [(311, 199), (286, 199), (181, 199)]\n",
      "\tmouse29_left: 3 runs with shapes: [(259, 199), (190, 199), (218, 199)]\n",
      "\tmouse29_right: 3 runs with shapes: [(211, 199), (166, 199), (211, 199)]\n",
      "\tmouse30_left: 3 runs with shapes: [(231, 199), (201, 199), (493, 199)]\n",
      "\tmouse30_right: 4 runs with shapes: [(177, 199), (168, 199), (95, 199), (121, 199)]\n",
      "Group: C_preDLC\n",
      "\tmouse21_left: 3 runs with shapes: [(352, 199), (251, 199), (228, 199)]\n",
      "\tmouse21_right: 2 runs with shapes: [(321, 199), (121, 199)]\n",
      "\tmouse22_left: 3 runs with shapes: [(411, 199), (351, 199), (258, 199)]\n",
      "\tmouse22_right: 3 runs with shapes: [(421, 199), (231, 199), (331, 199)]\n",
      "\tmouse23_left: 4 runs with shapes: [(374, 199), (191, 199), (221, 199), (253, 199)]\n",
      "\tmouse23_right: 3 runs with shapes: [(271, 199), (461, 199), (229, 199)]\n",
      "\tmouse24_left: 4 runs with shapes: [(399, 199), (221, 199), (280, 199), (299, 199)]\n",
      "\tmouse24_right: 3 runs with shapes: [(371, 199), (281, 199), (249, 199)]\n",
      "\tmouse25_left: 3 runs with shapes: [(293, 199), (283, 199), (144, 199)]\n",
      "\tmouse25_right: 3 runs with shapes: [(357, 199), (227, 199), (324, 199)]\n",
      "\tmouse26_left: 3 runs with shapes: [(301, 199), (213, 199), (233, 199)]\n",
      "\tmouse26_right: 3 runs with shapes: [(331, 199), (218, 199), (489, 199)]\n",
      "\tmouse27_left: 4 runs with shapes: [(293, 199), (371, 199), (166, 199), (83, 199)]\n",
      "\tmouse27_right: 3 runs with shapes: [(192, 199), (351, 199), (178, 199)]\n",
      "\tmouse28_left: 2 runs with shapes: [(451, 199), (391, 199)]\n",
      "\tmouse28_right: 3 runs with shapes: [(581, 199), (421, 199), (167, 199)]\n",
      "\tmouse29_left: 3 runs with shapes: [(461, 199), (156, 199), (331, 199)]\n",
      "\tmouse29_right: 3 runs with shapes: [(221, 199), (151, 199), (184, 199)]\n",
      "\tmouse30_left: 4 runs with shapes: [(401, 199), (355, 199), (171, 199), (210, 199)]\n",
      "\tmouse30_right: 3 runs with shapes: [(161, 199), (289, 199), (268, 199)]\n",
      "Group: D_postDLC\n",
      "\tmouse31_left: 3 runs with shapes: [(274, 199), (311, 199), (416, 199)]\n",
      "\tmouse31_right: 3 runs with shapes: [(343, 199), (201, 199), (129, 199)]\n",
      "\tmouse32_left: 3 runs with shapes: [(270, 199), (281, 199), (271, 199)]\n",
      "\tmouse32_right: 3 runs with shapes: [(261, 199), (251, 199), (283, 199)]\n",
      "\tmouse33_left: 3 runs with shapes: [(306, 199), (241, 199), (290, 199)]\n",
      "\tmouse33_right: 3 runs with shapes: [(261, 199), (271, 199), (301, 199)]\n",
      "\tmouse34_left: 3 runs with shapes: [(281, 199), (291, 199), (391, 199)]\n",
      "\tmouse34_right: 3 runs with shapes: [(441, 199), (273, 199), (184, 199)]\n",
      "\tmouse35_left: 3 runs with shapes: [(257, 199), (261, 199), (247, 199)]\n",
      "\tmouse35_right: 3 runs with shapes: [(221, 199), (291, 199), (121, 199)]\n",
      "\tmouse36_left: 3 runs with shapes: [(323, 199), (306, 199), (251, 199)]\n",
      "\tmouse36_right: 3 runs with shapes: [(294, 199), (131, 199), (197, 199)]\n",
      "\tmouse37_left: 3 runs with shapes: [(248, 199), (216, 199), (201, 199)]\n",
      "\tmouse37_right: 3 runs with shapes: [(252, 199), (206, 199), (141, 199)]\n",
      "\tmouse38_left: 3 runs with shapes: [(231, 199), (221, 199), (118, 199)]\n",
      "\tmouse38_right: 4 runs with shapes: [(231, 199), (321, 199), (341, 199), (188, 199)]\n",
      "\tmouse39_left: 4 runs with shapes: [(318, 199), (291, 199), (251, 199), (281, 199)]\n",
      "\tmouse39_right: 3 runs with shapes: [(261, 199), (353, 199), (236, 199)]\n",
      "\tmouse40_left: 3 runs with shapes: [(251, 199), (216, 199), (256, 199)]\n",
      "\tmouse40_right: 3 runs with shapes: [(251, 199), (222, 199), (238, 199)]\n",
      "Group: D_preDLC\n",
      "\tmouse31_left: 4 runs with shapes: [(331, 199), (354, 199), (176, 199), (111, 199)]\n",
      "\tmouse31_right: 3 runs with shapes: [(223, 199), (211, 199), (201, 199)]\n",
      "\tmouse32_left: 3 runs with shapes: [(259, 199), (159, 199), (176, 199)]\n",
      "\tmouse32_right: 3 runs with shapes: [(341, 199), (251, 199), (201, 199)]\n",
      "\tmouse33_left: 2 runs with shapes: [(320, 199), (241, 199)]\n",
      "\tmouse33_right: 3 runs with shapes: [(347, 199), (291, 199), (264, 199)]\n",
      "\tmouse34_left: 3 runs with shapes: [(184, 199), (234, 199), (101, 199)]\n",
      "\tmouse34_right: 3 runs with shapes: [(541, 199), (107, 199), (203, 199)]\n",
      "\tmouse35_left: 2 runs with shapes: [(331, 199), (271, 199)]\n",
      "\tmouse35_right: 4 runs with shapes: [(351, 199), (261, 199), (391, 199), (231, 199)]\n",
      "\tmouse36_left: 3 runs with shapes: [(331, 199), (305, 199), (401, 199)]\n",
      "\tmouse36_right: 4 runs with shapes: [(361, 199), (301, 199), (217, 199), (302, 199)]\n",
      "\tmouse37_left: 3 runs with shapes: [(181, 199), (171, 199), (152, 199)]\n",
      "\tmouse37_right: 3 runs with shapes: [(330, 199), (221, 199), (181, 199)]\n",
      "\tmouse38_left: 2 runs with shapes: [(331, 199), (147, 199)]\n",
      "\tmouse38_right: 3 runs with shapes: [(431, 199), (141, 199), (244, 199)]\n",
      "\tmouse39_left: 3 runs with shapes: [(331, 199), (174, 199), (241, 199)]\n",
      "\tmouse39_right: 3 runs with shapes: [(189, 199), (311, 199), (126, 199)]\n",
      "\tmouse40_left: 3 runs with shapes: [(441, 199), (311, 199), (111, 199)]\n",
      "\tmouse40_right: 3 runs with shapes: [(188, 199), (251, 199), (213, 199)]\n",
      "\tmouse42_left: 3 runs with shapes: [(345, 199), (291, 199), (290, 199)]\n",
      "\tmouse42_right: 3 runs with shapes: [(281, 199), (213, 199), (283, 199)]\n",
      "\tmouse50_left: 3 runs with shapes: [(329, 199), (311, 199), (281, 199)]\n",
      "\tmouse50_right: 4 runs with shapes: [(341, 199), (231, 199), (181, 199), (157, 199)]\n",
      "Group: E_postDLC\n",
      "\tmouse41_left: 3 runs with shapes: [(251, 199), (291, 199), (251, 199)]\n",
      "\tmouse41_right: 3 runs with shapes: [(161, 199), (310, 199), (100, 199)]\n",
      "\tmouse42_left: 3 runs with shapes: [(341, 199), (251, 199), (221, 199)]\n",
      "\tmouse42_right: 3 runs with shapes: [(311, 199), (123, 199), (251, 199)]\n",
      "\tmouse43_left: 3 runs with shapes: [(271, 199), (270, 199), (221, 199)]\n",
      "\tmouse43_right: 4 runs with shapes: [(291, 199), (251, 199), (407, 199), (198, 199)]\n",
      "\tmouse44_left: 3 runs with shapes: [(311, 199), (318, 199), (361, 199)]\n",
      "\tmouse44_right: 4 runs with shapes: [(311, 199), (301, 199), (181, 199), (139, 199)]\n",
      "\tmouse45_left: 3 runs with shapes: [(361, 199), (311, 199), (291, 199)]\n",
      "\tmouse45_right: 4 runs with shapes: [(321, 199), (181, 199), (141, 199), (304, 199)]\n",
      "\tmouse46_left: 3 runs with shapes: [(341, 199), (311, 199), (331, 199)]\n",
      "\tmouse46_right: 3 runs with shapes: [(341, 199), (241, 199), (201, 199)]\n",
      "\tmouse47_left: 4 runs with shapes: [(311, 199), (291, 199), (258, 199), (191, 199)]\n",
      "\tmouse47_right: 3 runs with shapes: [(305, 199), (249, 199), (173, 199)]\n",
      "\tmouse48_left: 3 runs with shapes: [(241, 199), (291, 199), (288, 199)]\n",
      "\tmouse48_right: 4 runs with shapes: [(441, 199), (161, 199), (181, 199), (371, 199)]\n",
      "\tmouse49_left: 3 runs with shapes: [(341, 199), (321, 199), (301, 199)]\n",
      "\tmouse49_right: 3 runs with shapes: [(264, 199), (211, 199), (330, 199)]\n",
      "\tmouse50_left: 4 runs with shapes: [(361, 199), (237, 199), (211, 199), (231, 199)]\n",
      "\tmouse50_right: 4 runs with shapes: [(422, 199), (196, 199), (126, 199), (201, 199)]\n",
      "Group: E_preDLC\n",
      "\tmouse41_left: 2 runs with shapes: [(347, 199), (212, 199)]\n",
      "\tmouse41_right: 3 runs with shapes: [(270, 199), (231, 199), (367, 199)]\n",
      "\tmouse43_left: 2 runs with shapes: [(381, 199), (210, 199)]\n",
      "\tmouse43_right: 2 runs with shapes: [(301, 199), (295, 199)]\n",
      "\tmouse44_left: 3 runs with shapes: [(480, 199), (351, 199), (351, 199)]\n",
      "\tmouse44_right: 3 runs with shapes: [(331, 199), (291, 199), (281, 199)]\n",
      "\tmouse45_left: 2 runs with shapes: [(141, 199), (270, 199)]\n",
      "\tmouse45_right: 4 runs with shapes: [(346, 199), (341, 199), (325, 199), (82, 199)]\n",
      "\tmouse46_left: 3 runs with shapes: [(342, 199), (251, 199), (195, 199)]\n",
      "\tmouse46_right: 3 runs with shapes: [(341, 199), (299, 199), (350, 199)]\n",
      "\tmouse47_left: 3 runs with shapes: [(249, 199), (201, 199), (174, 199)]\n",
      "\tmouse47_right: 3 runs with shapes: [(267, 199), (310, 199), (316, 199)]\n",
      "\tmouse48_left: 3 runs with shapes: [(339, 199), (361, 199), (316, 199)]\n",
      "\tmouse48_right: 3 runs with shapes: [(331, 199), (321, 199), (191, 199)]\n",
      "\tmouse49_left: 3 runs with shapes: [(221, 199), (215, 199), (301, 199)]\n",
      "\tmouse49_right: 3 runs with shapes: [(361, 199), (437, 199), (225, 199)]\n"
     ]
    }
   ],
   "source": [
    "## Print the data structure\n",
    "for datagroup, mice in data.items():\n",
    "    print(f\"Group: {datagroup}\")\n",
    "    for mouse_direction, runs in mice.items():\n",
    "        print(f\"\\t{mouse_direction}: {len(runs)} runs with shapes: {[df.shape for df in runs.values()]}\")"
   ]
  },
  {
   "cell_type": "code",
   "execution_count": 4,
   "id": "0541e595",
   "metadata": {},
   "outputs": [
    {
     "name": "stdout",
     "output_type": "stream",
     "text": [
      "Number of features: 196\n"
     ]
    }
   ],
   "source": [
    "# Print the features count\n",
    "for datagroup, mice in data.items():\n",
    "    for mouse_direction, runs in mice.items():\n",
    "        for run, df in runs.items():\n",
    "            print(f\"Number of features: {df.shape[1] + 1 - 4}\") # +1 bc of index, -4 to exclude frame, forestep, hindstep, and time\n",
    "            break\n",
    "        break\n",
    "    break"
   ]
  },
  {
   "cell_type": "code",
   "execution_count": 5,
   "id": "246cc00d",
   "metadata": {},
   "outputs": [],
   "source": [
    "def segment_steps_by_phase(df, phase_col=\"phase\"):\n",
    "    phases = df[phase_col]\n",
    "\n",
    "    # 1. Find where phase changes\n",
    "    changes = phases != phases.shift()\n",
    "    change_points = df.index[changes]\n",
    "\n",
    "    # 2. Get the phases at these change points\n",
    "    change_phases = phases.loc[change_points].reset_index(drop=True)\n",
    "\n",
    "    # 3. Identify \"stance\" → ... → \"swing\" → \"stance\" sequences\n",
    "    segments = []\n",
    "    i = 0\n",
    "    while i < len(change_phases) - 2:\n",
    "        if change_phases[i] == \"stance\":\n",
    "            swing_found = False\n",
    "            for j in range(i+1, len(change_phases)):\n",
    "                if change_phases[j] == \"swing\":\n",
    "                    swing_found = True\n",
    "                elif swing_found and change_phases[j] == \"stance\":\n",
    "                    start_idx = change_points[i]\n",
    "                    end_idx = change_points[j] - 1\n",
    "                    segment = df.loc[start_idx:end_idx].drop(columns=[\"Step Phase Forelimb\", \"Step Phase Hindlimb\"], errors='ignore')\n",
    "                    segments.append(segment)\n",
    "                    i = j - 1  # skip ahead\n",
    "                    break\n",
    "            else:\n",
    "                # no closing stance; go to end\n",
    "                start_idx = change_points[i]\n",
    "                segment = df.loc[start_idx:].drop(columns=[\"Step Phase Forelimb\", \"Step Phase Hindlimb\"], errors='ignore')\n",
    "                segments.append(segment)\n",
    "                break\n",
    "        i += 1\n",
    "\n",
    "    return segments\n",
    "\n",
    "segmented_hindsteps = []\n",
    "segmented_foresteps = []\n",
    "for group in data:\n",
    "    for mouse in data[group]:\n",
    "        for run in data[group][mouse]:\n",
    "            df = data[group][mouse][run]\n",
    "            to_drop = ['Frame', \"Time (s)\"]\n",
    "            df = df.drop(columns=to_drop, errors='ignore')\n",
    "            hindsteps = segment_steps_by_phase(df, phase_col=\"Step Phase Hindlimb\")  # or the correct column name\n",
    "            for step_df in hindsteps:\n",
    "                segmented_hindsteps.append({\n",
    "                    \"step\": step_df,\n",
    "                    \"group\": group,\n",
    "                    \"mouse\": mouse,\n",
    "                    \"run\": run\n",
    "                })\n",
    "            foresteps = segment_steps_by_phase(df, phase_col=\"Step Phase Forelimb\")  # or the correct column name\n",
    "            for step_df in foresteps:\n",
    "                segmented_foresteps.append({\n",
    "                    \"step\": step_df,\n",
    "                    \"group\": group,\n",
    "                    \"mouse\": mouse,\n",
    "                    \"run\": run\n",
    "                })"
   ]
  },
  {
   "cell_type": "code",
   "execution_count": 6,
   "id": "e39781d1",
   "metadata": {},
   "outputs": [],
   "source": [
    "# Flatten all steps into a single array to compute global mean/std\n",
    "all_healthy_arrays = [step_dict[\"step\"].values for step_dict in segmented_hindsteps if \"pre\" in step_dict[\"group\"] and \"left\" in step_dict[\"mouse\"]]\n",
    "flat_data = np.vstack(all_healthy_arrays)\n",
    "\n",
    "scaler = StandardScaler()\n",
    "scaler = scaler.fit(flat_data)"
   ]
  },
  {
   "cell_type": "code",
   "execution_count": 7,
   "id": "a52bbf9d",
   "metadata": {},
   "outputs": [
    {
     "name": "stdout",
     "output_type": "stream",
     "text": [
      "Step tensor shape: torch.Size([560, 189, 196]), \n",
      "Lengths shape: torch.Size([560])\n"
     ]
    }
   ],
   "source": [
    "def steps_to_tensor(step_dicts, scaler):\n",
    "    \"\"\"\n",
    "        Convert a list of step dictionaries to a padded tensor of shape (num_steps, max_length, num_features).\n",
    "\n",
    "        Returns:\n",
    "            - A tensor of shape (num_steps, max_length, num_features) containing the scaled step data (B, T, F).\n",
    "            - A tensor of lengths for each step indicating the actual length of each step (B).\n",
    "    \"\"\"\n",
    "    step_arrays = [scaler.transform(sd[\"step\"].values) for sd in step_dicts]\n",
    "    lengths = [len(step) for step in step_arrays]\n",
    "    max_len = max(lengths)\n",
    "    dim = step_arrays[0].shape[1]\n",
    "\n",
    "    padded = np.zeros((len(step_arrays), max_len, dim), dtype=np.float32)\n",
    "    for i, arr in enumerate(step_arrays):\n",
    "        padded[i, :len(arr)] = arr\n",
    "\n",
    "    return torch.tensor(padded), torch.tensor(lengths)\n",
    "\n",
    "healthy_steps = [s for s in segmented_hindsteps if \"pre\" in s[\"group\"] and \"left\" in s[\"mouse\"]]\n",
    "step_tensor, lengths = steps_to_tensor(healthy_steps, scaler)\n",
    "\n",
    "print(f\"Step tensor shape: {step_tensor.shape}, \\nLengths shape: {lengths.shape}\")"
   ]
  },
  {
   "cell_type": "code",
   "execution_count": 10,
   "id": "84415529",
   "metadata": {},
   "outputs": [
    {
     "name": "stdout",
     "output_type": "stream",
     "text": [
      "Using device: cuda\n",
      "LSTM device: cuda\n"
     ]
    },
    {
     "data": {
      "application/vnd.jupyter.widget-view+json": {
       "model_id": "2bc476123cd74d8fb121c35f624c0103",
       "version_major": 2,
       "version_minor": 0
      },
      "text/plain": [
       "  0%|          | 0/500 [00:00<?, ?it/s]"
      ]
     },
     "metadata": {},
     "output_type": "display_data"
    },
    {
     "name": "stdout",
     "output_type": "stream",
     "text": [
      "Epoch 1, Train: 1.0146 - Val: 0.8357 - Time: 0.50s\n",
      "Epoch 2, Train: 0.9717 - Val: 0.8092 - Time: 0.40s\n",
      "Epoch 3, Train: 0.9432 - Val: 0.7834 - Time: 0.37s\n",
      "Epoch 4, Train: 0.9279 - Val: 0.7687 - Time: 0.39s\n",
      "Epoch 5, Train: 0.9102 - Val: 0.7596 - Time: 0.38s\n",
      "Epoch 6, Train: 0.9025 - Val: 0.7519 - Time: 0.40s\n",
      "Epoch 7, Train: 0.9025 - Val: 0.7482 - Time: 0.36s\n",
      "Epoch 8, Train: 0.8896 - Val: 0.7427 - Time: 0.36s\n",
      "Epoch 9, Train: 0.8821 - Val: 0.7387 - Time: 0.37s\n",
      "Epoch 10, Train: 0.8709 - Val: 0.7363 - Time: 0.37s\n",
      "Epoch 11, Train: 0.8715 - Val: 0.7310 - Time: 0.36s\n",
      "Epoch 12, Train: 0.8699 - Val: 0.7334 - Time: 0.37s\n",
      "Epoch 13, Train: 0.8673 - Val: 0.7325 - Time: 0.37s\n",
      "Epoch 14, Train: 0.8519 - Val: 0.7242 - Time: 0.39s\n",
      "Epoch 15, Train: 0.8520 - Val: 0.7200 - Time: 0.39s\n",
      "Epoch 16, Train: 0.8492 - Val: 0.7207 - Time: 0.41s\n",
      "Epoch 17, Train: 0.8488 - Val: 0.7196 - Time: 0.43s\n",
      "Epoch 18, Train: 0.8383 - Val: 0.7201 - Time: 0.38s\n",
      "Epoch 19, Train: 0.8501 - Val: 0.7391 - Time: 0.37s\n",
      "Epoch 20, Train: 0.8693 - Val: 0.7346 - Time: 0.35s\n",
      "Epoch 21, Train: 0.8650 - Val: 0.7274 - Time: 0.38s\n",
      "Epoch 22, Train: 0.8540 - Val: 0.7264 - Time: 0.36s\n",
      "Epoch 23, Train: 0.8492 - Val: 0.7246 - Time: 0.38s\n",
      "Epoch 24, Train: 0.8462 - Val: 0.7255 - Time: 0.36s\n",
      "Epoch 25, Train: 0.8447 - Val: 0.7225 - Time: 0.36s\n",
      "Epoch 26, Train: 0.8461 - Val: 0.7210 - Time: 0.36s\n",
      "Epoch 27, Train: 0.8474 - Val: 0.7250 - Time: 0.37s\n",
      "Epoch 28, Train: 0.8393 - Val: 0.7175 - Time: 0.39s\n",
      "Epoch 29, Train: 0.8313 - Val: 0.7176 - Time: 0.41s\n",
      "Epoch 30, Train: 0.8291 - Val: 0.7188 - Time: 0.40s\n",
      "Epoch 31, Train: 0.8260 - Val: 0.7162 - Time: 0.40s\n",
      "Epoch 32, Train: 0.8288 - Val: 0.7184 - Time: 0.38s\n",
      "Epoch 33, Train: 0.8166 - Val: 0.7173 - Time: 0.39s\n",
      "Epoch 34, Train: 0.8249 - Val: 0.7239 - Time: 0.40s\n",
      "Epoch 35, Train: 0.8244 - Val: 0.7134 - Time: 0.39s\n",
      "Epoch 36, Train: 0.8279 - Val: 0.7235 - Time: 0.38s\n",
      "Epoch 37, Train: 0.8365 - Val: 0.7224 - Time: 0.36s\n",
      "Epoch 38, Train: 0.8257 - Val: 0.7154 - Time: 0.36s\n",
      "Epoch 39, Train: 0.8211 - Val: 0.7253 - Time: 0.37s\n",
      "Epoch 40, Train: 0.8148 - Val: 0.7267 - Time: 0.38s\n",
      "Epoch 41, Train: 0.8232 - Val: 0.7238 - Time: 0.39s\n",
      "Epoch 42, Train: 0.8183 - Val: 0.7250 - Time: 0.39s\n",
      "Epoch 43, Train: 0.8285 - Val: 0.7320 - Time: 0.36s\n",
      "Epoch 44, Train: 0.8297 - Val: 0.7237 - Time: 0.38s\n",
      "Epoch 45, Train: 0.8243 - Val: 0.7186 - Time: 0.42s\n",
      "Epoch 46, Train: 0.8130 - Val: 0.7220 - Time: 0.37s\n"
     ]
    },
    {
     "ename": "KeyboardInterrupt",
     "evalue": "",
     "output_type": "error",
     "traceback": [
      "\u001b[31m---------------------------------------------------------------------------\u001b[39m",
      "\u001b[31mKeyboardInterrupt\u001b[39m                         Traceback (most recent call last)",
      "\u001b[36mCell\u001b[39m\u001b[36m \u001b[39m\u001b[32mIn[10]\u001b[39m\u001b[32m, line 81\u001b[39m\n\u001b[32m     79\u001b[39m pred, _ = model(batch_x, batch_lens)\n\u001b[32m     80\u001b[39m loss = masked_mse_loss(pred, batch_x, batch_lens)\n\u001b[32m---> \u001b[39m\u001b[32m81\u001b[39m \u001b[43mloss\u001b[49m\u001b[43m.\u001b[49m\u001b[43mbackward\u001b[49m\u001b[43m(\u001b[49m\u001b[43m)\u001b[49m\n\u001b[32m     82\u001b[39m optimizer.step()\n\u001b[32m     83\u001b[39m train_loss += loss.item()\n",
      "\u001b[36mFile \u001b[39m\u001b[32mc:\\Users\\walid\\Desktop\\Work\\DataAnalysis\\MScThesis\\.venv\\Lib\\site-packages\\torch\\_tensor.py:648\u001b[39m, in \u001b[36mTensor.backward\u001b[39m\u001b[34m(self, gradient, retain_graph, create_graph, inputs)\u001b[39m\n\u001b[32m    638\u001b[39m \u001b[38;5;28;01mif\u001b[39;00m has_torch_function_unary(\u001b[38;5;28mself\u001b[39m):\n\u001b[32m    639\u001b[39m     \u001b[38;5;28;01mreturn\u001b[39;00m handle_torch_function(\n\u001b[32m    640\u001b[39m         Tensor.backward,\n\u001b[32m    641\u001b[39m         (\u001b[38;5;28mself\u001b[39m,),\n\u001b[32m   (...)\u001b[39m\u001b[32m    646\u001b[39m         inputs=inputs,\n\u001b[32m    647\u001b[39m     )\n\u001b[32m--> \u001b[39m\u001b[32m648\u001b[39m \u001b[43mtorch\u001b[49m\u001b[43m.\u001b[49m\u001b[43mautograd\u001b[49m\u001b[43m.\u001b[49m\u001b[43mbackward\u001b[49m\u001b[43m(\u001b[49m\n\u001b[32m    649\u001b[39m \u001b[43m    \u001b[49m\u001b[38;5;28;43mself\u001b[39;49m\u001b[43m,\u001b[49m\u001b[43m \u001b[49m\u001b[43mgradient\u001b[49m\u001b[43m,\u001b[49m\u001b[43m \u001b[49m\u001b[43mretain_graph\u001b[49m\u001b[43m,\u001b[49m\u001b[43m \u001b[49m\u001b[43mcreate_graph\u001b[49m\u001b[43m,\u001b[49m\u001b[43m \u001b[49m\u001b[43minputs\u001b[49m\u001b[43m=\u001b[49m\u001b[43minputs\u001b[49m\n\u001b[32m    650\u001b[39m \u001b[43m\u001b[49m\u001b[43m)\u001b[49m\n",
      "\u001b[36mFile \u001b[39m\u001b[32mc:\\Users\\walid\\Desktop\\Work\\DataAnalysis\\MScThesis\\.venv\\Lib\\site-packages\\torch\\autograd\\__init__.py:353\u001b[39m, in \u001b[36mbackward\u001b[39m\u001b[34m(tensors, grad_tensors, retain_graph, create_graph, grad_variables, inputs)\u001b[39m\n\u001b[32m    348\u001b[39m     retain_graph = create_graph\n\u001b[32m    350\u001b[39m \u001b[38;5;66;03m# The reason we repeat the same comment below is that\u001b[39;00m\n\u001b[32m    351\u001b[39m \u001b[38;5;66;03m# some Python versions print out the first line of a multi-line function\u001b[39;00m\n\u001b[32m    352\u001b[39m \u001b[38;5;66;03m# calls in the traceback and some print out the last line\u001b[39;00m\n\u001b[32m--> \u001b[39m\u001b[32m353\u001b[39m \u001b[43m_engine_run_backward\u001b[49m\u001b[43m(\u001b[49m\n\u001b[32m    354\u001b[39m \u001b[43m    \u001b[49m\u001b[43mtensors\u001b[49m\u001b[43m,\u001b[49m\n\u001b[32m    355\u001b[39m \u001b[43m    \u001b[49m\u001b[43mgrad_tensors_\u001b[49m\u001b[43m,\u001b[49m\n\u001b[32m    356\u001b[39m \u001b[43m    \u001b[49m\u001b[43mretain_graph\u001b[49m\u001b[43m,\u001b[49m\n\u001b[32m    357\u001b[39m \u001b[43m    \u001b[49m\u001b[43mcreate_graph\u001b[49m\u001b[43m,\u001b[49m\n\u001b[32m    358\u001b[39m \u001b[43m    \u001b[49m\u001b[43minputs\u001b[49m\u001b[43m,\u001b[49m\n\u001b[32m    359\u001b[39m \u001b[43m    \u001b[49m\u001b[43mallow_unreachable\u001b[49m\u001b[43m=\u001b[49m\u001b[38;5;28;43;01mTrue\u001b[39;49;00m\u001b[43m,\u001b[49m\n\u001b[32m    360\u001b[39m \u001b[43m    \u001b[49m\u001b[43maccumulate_grad\u001b[49m\u001b[43m=\u001b[49m\u001b[38;5;28;43;01mTrue\u001b[39;49;00m\u001b[43m,\u001b[49m\n\u001b[32m    361\u001b[39m \u001b[43m\u001b[49m\u001b[43m)\u001b[49m\n",
      "\u001b[36mFile \u001b[39m\u001b[32mc:\\Users\\walid\\Desktop\\Work\\DataAnalysis\\MScThesis\\.venv\\Lib\\site-packages\\torch\\autograd\\graph.py:824\u001b[39m, in \u001b[36m_engine_run_backward\u001b[39m\u001b[34m(t_outputs, *args, **kwargs)\u001b[39m\n\u001b[32m    822\u001b[39m     unregister_hooks = _register_logging_hooks_on_whole_graph(t_outputs)\n\u001b[32m    823\u001b[39m \u001b[38;5;28;01mtry\u001b[39;00m:\n\u001b[32m--> \u001b[39m\u001b[32m824\u001b[39m     \u001b[38;5;28;01mreturn\u001b[39;00m \u001b[43mVariable\u001b[49m\u001b[43m.\u001b[49m\u001b[43m_execution_engine\u001b[49m\u001b[43m.\u001b[49m\u001b[43mrun_backward\u001b[49m\u001b[43m(\u001b[49m\u001b[43m  \u001b[49m\u001b[38;5;66;43;03m# Calls into the C++ engine to run the backward pass\u001b[39;49;00m\n\u001b[32m    825\u001b[39m \u001b[43m        \u001b[49m\u001b[43mt_outputs\u001b[49m\u001b[43m,\u001b[49m\u001b[43m \u001b[49m\u001b[43m*\u001b[49m\u001b[43margs\u001b[49m\u001b[43m,\u001b[49m\u001b[43m \u001b[49m\u001b[43m*\u001b[49m\u001b[43m*\u001b[49m\u001b[43mkwargs\u001b[49m\n\u001b[32m    826\u001b[39m \u001b[43m    \u001b[49m\u001b[43m)\u001b[49m  \u001b[38;5;66;03m# Calls into the C++ engine to run the backward pass\u001b[39;00m\n\u001b[32m    827\u001b[39m \u001b[38;5;28;01mfinally\u001b[39;00m:\n\u001b[32m    828\u001b[39m     \u001b[38;5;28;01mif\u001b[39;00m attach_logging_hooks:\n",
      "\u001b[31mKeyboardInterrupt\u001b[39m: "
     ]
    }
   ],
   "source": [
    "from src.LSTM import LSTMAutoencoder\n",
    "\n",
    "def masked_mse_loss(pred, target, lengths):\n",
    "    \"\"\"\n",
    "        Compute the masked mean squared error loss between predicted and target tensors.\n",
    "    \"\"\"\n",
    "    mask = torch.arange(target.size(1))[None, :].to(lengths.device) < lengths[:, None]\n",
    "    mask = mask.unsqueeze(-1).expand_as(target)  # (B, T, F)\n",
    "    mse = (pred - target) ** 2\n",
    "    masked_mse = (mse * mask).sum() / mask.sum()\n",
    "    return masked_mse\n",
    "\n",
    "class EarlyStopping:\n",
    "    def __init__(self, patience=10, min_delta=1e-4):\n",
    "        self.patience = patience\n",
    "        self.min_delta = min_delta\n",
    "        self.best_loss = float('inf')\n",
    "        self.counter = 0\n",
    "        self.should_stop = False\n",
    "\n",
    "    def step(self, val_loss):\n",
    "        if val_loss < self.best_loss - self.min_delta:\n",
    "            self.best_loss = val_loss\n",
    "            self.counter = 0\n",
    "        else:\n",
    "            self.counter += 1\n",
    "            if self.counter >= self.patience:\n",
    "                self.should_stop = True\n",
    "\n",
    "## Hyperparameters and early stopping\n",
    "INPUT_DIM = step_tensor.shape[2]\n",
    "HIDDEN_DIM = 64\n",
    "LATENT_DIM = 16\n",
    "BATCH_SIZE = 32\n",
    "NUM_EPOCHS = 500\n",
    "LR = 1e-3\n",
    "PATIENCE = 50 # number of epochs to wait for improvement before stopping\n",
    "MIN_DELTA = 1e-4 # minimum change to qualify as an improvement\n",
    "\n",
    "# Data loader\n",
    "train_idx, val_idx = train_test_split(np.arange(len(step_tensor)), test_size=0.2, random_state=42)\n",
    "train_data = TensorDataset(step_tensor[train_idx], lengths[train_idx])\n",
    "val_data = TensorDataset(step_tensor[val_idx], lengths[val_idx])\n",
    "\n",
    "def collate_fn(batch):\n",
    "    \"\"\"\n",
    "        Custom collate function to handle variable-length sequences.\n",
    "        Returns a padded tensor and lengths.\n",
    "    \"\"\"\n",
    "    x, lengths = zip(*batch)\n",
    "    # print(f\"element shapes: {[xi.shape for xi in x]}, lengths: {lengths}\")\n",
    "    return torch.stack(x).to(device), torch.stack(lengths).to(device)\n",
    "\n",
    "device = 'cuda' if torch.cuda.is_available() else 'cpu'\n",
    "print(f\"Using device: {device}\")\n",
    "train_loader = DataLoader(train_data, batch_size=BATCH_SIZE, shuffle=True, collate_fn=collate_fn)\n",
    "val_loader = DataLoader(val_data, batch_size=BATCH_SIZE, collate_fn=collate_fn)\n",
    "\n",
    "# Model, optimizer\n",
    "model = LSTMAutoencoder(INPUT_DIM, HIDDEN_DIM, LATENT_DIM)\n",
    "optimizer = torch.optim.Adam(model.parameters(), lr=LR)\n",
    "\n",
    "early_stopper = EarlyStopping(patience=PATIENCE, min_delta=MIN_DELTA)\n",
    "best_val_loss = float('inf')\n",
    "now = datetime.now().strftime(\"%Y%m%d_%H%M%S\")\n",
    "model_filname = f'lstm_autoencoder_{now}.pt'\n",
    "best_model_path = os.path.join(MODELS_DIR, f'lstm_autoencoder_{now}.pt')\n",
    "\n",
    "# Training loop\n",
    "for epoch in tqdm(range(NUM_EPOCHS)):\n",
    "    t1 = timeit.default_timer()\n",
    "    model.train()\n",
    "    train_loss = 0\n",
    "    for batch_x, batch_lens in train_loader:\n",
    "        # batch_x, batch_lens = batch_x.to(device), batch_lens.to(device)\n",
    "        # tqdm.write(f\"Batch shape: {batch_x.shape}, Lengths shape: {batch_lens.shape}\")\n",
    "        # tqdm.write(f\"Device of batch_x: {batch_x.device}, batch_lens: {batch_lens.device}\")\n",
    "        optimizer.zero_grad()\n",
    "        pred, _ = model(batch_x, batch_lens)\n",
    "        loss = masked_mse_loss(pred, batch_x, batch_lens)\n",
    "        loss.backward()\n",
    "        optimizer.step()\n",
    "        train_loss += loss.item()\n",
    "\n",
    "    model.eval()\n",
    "    val_loss = 0\n",
    "    with torch.no_grad():\n",
    "        for batch_x, batch_lens in val_loader:\n",
    "            # batch_x, batch_lens = batch_x.to(device), batch_lens.to(device)\n",
    "            pred, _ = model(batch_x, batch_lens)\n",
    "            val_loss += masked_mse_loss(pred, batch_x, batch_lens).item()\n",
    "\n",
    "    avg_train = train_loss / len(train_loader)\n",
    "    avg_val = val_loss / len(val_loader)\n",
    "    t2 = timeit.default_timer()\n",
    "\n",
    "    if epoch % 10 == 0 or epoch == NUM_EPOCHS - 1:\n",
    "        tqdm.write(f\"Epoch {epoch+1}, Train: {avg_train:.4f} - Val: {avg_val:.4f} - Time: {t2-t1:.2f}s\")\n",
    "\n",
    "    # Save model if validation loss improves\n",
    "    if avg_val < best_val_loss:\n",
    "        best_val_loss = avg_val\n",
    "        best_state = model.state_dict()\n",
    "\n",
    "    early_stopper.step(avg_val)\n",
    "    if early_stopper.should_stop:\n",
    "        print(f\"Early stopping triggered at epoch {epoch+1}\")\n",
    "        break\n",
    "\n",
    "torch.save({'model_state_dict':best_state,\n",
    "            'epoch': epoch,\n",
    "            'val_loss': best_val_loss},\n",
    "            best_model_path)\n",
    "print(f\"Best model saved at: {best_model_path} with val loss: {best_val_loss:.4f}\")"
   ]
  },
  {
   "cell_type": "code",
   "execution_count": null,
   "id": "8ffef7d6",
   "metadata": {},
   "outputs": [],
   "source": [
    "selected_steps = [\n",
    "    s for s in segmented_hindsteps \n",
    "    if \"left\" in s[\"mouse\"] \n",
    "]\n",
    "\n",
    "step_tensor_all, lengths_all = steps_to_tensor(selected_steps, scaler)\n",
    "\n",
    "## Get all embeddings for selected steps\n",
    "model.eval()\n",
    "with torch.no_grad():\n",
    "    _, embeddings_all = model(step_tensor_all, lengths_all) # Shape: (B, T, F) -> (B, L)"
   ]
  },
  {
   "cell_type": "code",
   "execution_count": null,
   "id": "2931cc0e",
   "metadata": {},
   "outputs": [
    {
     "name": "stderr",
     "output_type": "stream",
     "text": [
      "/home/filthyweeb/Documents/SeriousStuff/Work/MScThesis/.venv/lib64/python3.13/site-packages/sklearn/utils/deprecation.py:151: FutureWarning: 'force_all_finite' was renamed to 'ensure_all_finite' in 1.6 and will be removed in 1.8.\n",
      "  warnings.warn(\n",
      "/home/filthyweeb/Documents/SeriousStuff/Work/MScThesis/.venv/lib64/python3.13/site-packages/umap/umap_.py:1952: UserWarning: n_jobs value 1 overridden to 1 by setting random_state. Use no seed for parallelism.\n",
      "  warn(\n"
     ]
    }
   ],
   "source": [
    "### Visualization of embeddings\n",
    "umap_coords = UMAP(n_components=3, random_state=42).fit_transform(embeddings_all)\n",
    "\n",
    "umap_df = pd.DataFrame({\n",
    "    \"UMAP1\": umap_coords[:, 0],\n",
    "    \"UMAP2\": umap_coords[:, 1],\n",
    "    \"UMAP3\": umap_coords[:, 2],\n",
    "    \"Group\": [\"healthy\" if \"pre\" in s[\"group\"] else \"unhealthy\" for s in selected_steps],\n",
    "    \"Mouse\": [s[\"mouse\"] for s in selected_steps],\n",
    "    \"Run\": [s[\"run\"] for s in selected_steps],\n",
    "    \"Dataset\": [s[\"group\"] for s in selected_steps],\n",
    "})"
   ]
  },
  {
   "cell_type": "code",
   "execution_count": null,
   "id": "0bd40187",
   "metadata": {},
   "outputs": [
    {
     "name": "stdout",
     "output_type": "stream",
     "text": [
      "Epoch 1, Train: 1.0072 - Val: 0.8566 - Time: 5.03s\n",
      "Epoch 2, Train: 0.9664 - Val: 0.8274 - Time: 4.42s\n",
      "Epoch 3, Train: 0.9419 - Val: 0.8054 - Time: 3.60s\n",
      "Epoch 4, Train: 0.9233 - Val: 0.7907 - Time: 4.13s\n"
     ]
    },
    {
     "ename": "KeyboardInterrupt",
     "evalue": "",
     "output_type": "error",
     "traceback": [
      "\u001b[31m---------------------------------------------------------------------------\u001b[39m\n",
      "\u001b[31mKeyboardInterrupt\u001b[39m                         Traceback (most recent call last)\n",
      "\u001b[36mCell\u001b[39m\u001b[36m \u001b[39m\u001b[32mIn[21]\u001b[39m\u001b[32m, line 64\u001b[39m\n",
      "\u001b[32m     62\u001b[39m pred, _ = model(batch_x, batch_lens)\n",
      "\u001b[32m     63\u001b[39m loss = masked_mse_loss(pred, batch_x, batch_lens)\n",
      "\u001b[32m---> \u001b[39m\u001b[32m64\u001b[39m \u001b[43mloss\u001b[49m\u001b[43m.\u001b[49m\u001b[43mbackward\u001b[49m\u001b[43m(\u001b[49m\u001b[43m)\u001b[49m\n",
      "\u001b[32m     65\u001b[39m optimizer.step()\n",
      "\u001b[32m     66\u001b[39m train_loss += loss.item()\n",
      "\n",
      "\u001b[36mFile \u001b[39m\u001b[32m~/Documents/SeriousStuff/Work/MScThesis/.venv/lib64/python3.13/site-packages/torch/_tensor.py:648\u001b[39m, in \u001b[36mTensor.backward\u001b[39m\u001b[34m(self, gradient, retain_graph, create_graph, inputs)\u001b[39m\n",
      "\u001b[32m    638\u001b[39m \u001b[38;5;28;01mif\u001b[39;00m has_torch_function_unary(\u001b[38;5;28mself\u001b[39m):\n",
      "\u001b[32m    639\u001b[39m     \u001b[38;5;28;01mreturn\u001b[39;00m handle_torch_function(\n",
      "\u001b[32m    640\u001b[39m         Tensor.backward,\n",
      "\u001b[32m    641\u001b[39m         (\u001b[38;5;28mself\u001b[39m,),\n",
      "\u001b[32m   (...)\u001b[39m\u001b[32m    646\u001b[39m         inputs=inputs,\n",
      "\u001b[32m    647\u001b[39m     )\n",
      "\u001b[32m--> \u001b[39m\u001b[32m648\u001b[39m \u001b[43mtorch\u001b[49m\u001b[43m.\u001b[49m\u001b[43mautograd\u001b[49m\u001b[43m.\u001b[49m\u001b[43mbackward\u001b[49m\u001b[43m(\u001b[49m\n",
      "\u001b[32m    649\u001b[39m \u001b[43m    \u001b[49m\u001b[38;5;28;43mself\u001b[39;49m\u001b[43m,\u001b[49m\u001b[43m \u001b[49m\u001b[43mgradient\u001b[49m\u001b[43m,\u001b[49m\u001b[43m \u001b[49m\u001b[43mretain_graph\u001b[49m\u001b[43m,\u001b[49m\u001b[43m \u001b[49m\u001b[43mcreate_graph\u001b[49m\u001b[43m,\u001b[49m\u001b[43m \u001b[49m\u001b[43minputs\u001b[49m\u001b[43m=\u001b[49m\u001b[43minputs\u001b[49m\n",
      "\u001b[32m    650\u001b[39m \u001b[43m\u001b[49m\u001b[43m)\u001b[49m\n",
      "\n",
      "\u001b[36mFile \u001b[39m\u001b[32m~/Documents/SeriousStuff/Work/MScThesis/.venv/lib64/python3.13/site-packages/torch/autograd/__init__.py:353\u001b[39m, in \u001b[36mbackward\u001b[39m\u001b[34m(tensors, grad_tensors, retain_graph, create_graph, grad_variables, inputs)\u001b[39m\n",
      "\u001b[32m    348\u001b[39m     retain_graph = create_graph\n",
      "\u001b[32m    350\u001b[39m \u001b[38;5;66;03m# The reason we repeat the same comment below is that\u001b[39;00m\n",
      "\u001b[32m    351\u001b[39m \u001b[38;5;66;03m# some Python versions print out the first line of a multi-line function\u001b[39;00m\n",
      "\u001b[32m    352\u001b[39m \u001b[38;5;66;03m# calls in the traceback and some print out the last line\u001b[39;00m\n",
      "\u001b[32m--> \u001b[39m\u001b[32m353\u001b[39m \u001b[43m_engine_run_backward\u001b[49m\u001b[43m(\u001b[49m\n",
      "\u001b[32m    354\u001b[39m \u001b[43m    \u001b[49m\u001b[43mtensors\u001b[49m\u001b[43m,\u001b[49m\n",
      "\u001b[32m    355\u001b[39m \u001b[43m    \u001b[49m\u001b[43mgrad_tensors_\u001b[49m\u001b[43m,\u001b[49m\n",
      "\u001b[32m    356\u001b[39m \u001b[43m    \u001b[49m\u001b[43mretain_graph\u001b[49m\u001b[43m,\u001b[49m\n",
      "\u001b[32m    357\u001b[39m \u001b[43m    \u001b[49m\u001b[43mcreate_graph\u001b[49m\u001b[43m,\u001b[49m\n",
      "\u001b[32m    358\u001b[39m \u001b[43m    \u001b[49m\u001b[43minputs\u001b[49m\u001b[43m,\u001b[49m\n",
      "\u001b[32m    359\u001b[39m \u001b[43m    \u001b[49m\u001b[43mallow_unreachable\u001b[49m\u001b[43m=\u001b[49m\u001b[38;5;28;43;01mTrue\u001b[39;49;00m\u001b[43m,\u001b[49m\n",
      "\u001b[32m    360\u001b[39m \u001b[43m    \u001b[49m\u001b[43maccumulate_grad\u001b[49m\u001b[43m=\u001b[49m\u001b[38;5;28;43;01mTrue\u001b[39;49;00m\u001b[43m,\u001b[49m\n",
      "\u001b[32m    361\u001b[39m \u001b[43m\u001b[49m\u001b[43m)\u001b[49m\n",
      "\n",
      "\u001b[36mFile \u001b[39m\u001b[32m~/Documents/SeriousStuff/Work/MScThesis/.venv/lib64/python3.13/site-packages/torch/autograd/graph.py:824\u001b[39m, in \u001b[36m_engine_run_backward\u001b[39m\u001b[34m(t_outputs, *args, **kwargs)\u001b[39m\n",
      "\u001b[32m    822\u001b[39m     unregister_hooks = _register_logging_hooks_on_whole_graph(t_outputs)\n",
      "\u001b[32m    823\u001b[39m \u001b[38;5;28;01mtry\u001b[39;00m:\n",
      "\u001b[32m--> \u001b[39m\u001b[32m824\u001b[39m     \u001b[38;5;28;01mreturn\u001b[39;00m \u001b[43mVariable\u001b[49m\u001b[43m.\u001b[49m\u001b[43m_execution_engine\u001b[49m\u001b[43m.\u001b[49m\u001b[43mrun_backward\u001b[49m\u001b[43m(\u001b[49m\u001b[43m  \u001b[49m\u001b[38;5;66;43;03m# Calls into the C++ engine to run the backward pass\u001b[39;49;00m\n",
      "\u001b[32m    825\u001b[39m \u001b[43m        \u001b[49m\u001b[43mt_outputs\u001b[49m\u001b[43m,\u001b[49m\u001b[43m \u001b[49m\u001b[43m*\u001b[49m\u001b[43margs\u001b[49m\u001b[43m,\u001b[49m\u001b[43m \u001b[49m\u001b[43m*\u001b[49m\u001b[43m*\u001b[49m\u001b[43mkwargs\u001b[49m\n",
      "\u001b[32m    826\u001b[39m \u001b[43m    \u001b[49m\u001b[43m)\u001b[49m  \u001b[38;5;66;03m# Calls into the C++ engine to run the backward pass\u001b[39;00m\n",
      "\u001b[32m    827\u001b[39m \u001b[38;5;28;01mfinally\u001b[39;00m:\n",
      "\u001b[32m    828\u001b[39m     \u001b[38;5;28;01mif\u001b[39;00m attach_logging_hooks:\n",
      "\n",
      "\u001b[31mKeyboardInterrupt\u001b[39m: "
     ]
    }
   ],
   "source": [
    "def masked_mse_loss(pred, target, lengths):\n",
    "    \"\"\"\n",
    "        Compute the masked mean squared error loss between predicted and target tensors.\n",
    "    \"\"\"\n",
    "    mask = torch.arange(target.size(1))[None, :].to(lengths.device) < lengths[:, None]\n",
    "    mask = mask.unsqueeze(-1).expand_as(target)  # (B, T, F)\n",
    "    mse = (pred - target) ** 2\n",
    "    masked_mse = (mse * mask).sum() / mask.sum()\n",
    "    return masked_mse\n",
    "\n",
    "class EarlyStopping:\n",
    "    def __init__(self, patience=10, min_delta=1e-4):\n",
    "        self.patience = patience\n",
    "        self.min_delta = min_delta\n",
    "        self.best_loss = float('inf')\n",
    "        self.counter = 0\n",
    "        self.should_stop = False\n",
    "\n",
    "    def step(self, val_loss):\n",
    "        if val_loss < self.best_loss - self.min_delta:\n",
    "            self.best_loss = val_loss\n",
    "            self.counter = 0\n",
    "        else:\n",
    "            self.counter += 1\n",
    "            if self.counter >= self.patience:\n",
    "                self.should_stop = True\n",
    "\n",
    "## Hyperparameters and early stopping\n",
    "INPUT_DIM = step_tensor.shape[2]\n",
    "HIDDEN_DIM = 64\n",
    "LATENT_DIM = 16\n",
    "BATCH_SIZE = 32\n",
    "NUM_EPOCHS = 50\n",
    "LR = 1e-3\n",
    "PATIENCE = 10 # number of epochs to wait for improvement before stopping\n",
    "MIN_DELTA = 1e-4 # minimum change to qualify as an improvement\n",
    "\n",
    "# Data loader\n",
    "train_idx, val_idx = train_test_split(np.arange(len(step_tensor)), test_size=0.2, random_state=42)\n",
    "train_data = TensorDataset(step_tensor[train_idx], lengths[train_idx])\n",
    "val_data = TensorDataset(step_tensor[val_idx], lengths[val_idx])\n",
    "train_loader = DataLoader(train_data, batch_size=BATCH_SIZE, shuffle=True)\n",
    "val_loader = DataLoader(val_data, batch_size=BATCH_SIZE)\n",
    "\n",
    "# Model, optimizer\n",
    "model = LSTMAutoencoder(INPUT_DIM, HIDDEN_DIM, LATENT_DIM)\n",
    "optimizer = torch.optim.Adam(model.parameters(), lr=LR)\n",
    "\n",
    "early_stopper = EarlyStopping(patience=PATIENCE, min_delta=MIN_DELTA)\n",
    "best_val_loss = float('inf')\n",
    "now = datetime.now().strftime(\"%Y%m%d_%H%M%S\")\n",
    "model_filname = f'lstm_autoencoder_{now}.pt'\n",
    "best_model_path = os.path.join(MODELS_DIR, f'lstm_autoencoder_{now}.pt')\n",
    "\n",
    "# Training loop\n",
    "for epoch in range(NUM_EPOCHS):\n",
    "    t1 = timeit.default_timer()\n",
    "    model.train()\n",
    "    train_loss = 0\n",
    "    for batch_x, batch_lens in train_loader:\n",
    "        optimizer.zero_grad()\n",
    "        pred, _ = model(batch_x, batch_lens)\n",
    "        loss = masked_mse_loss(pred, batch_x, batch_lens)\n",
    "        loss.backward()\n",
    "        optimizer.step()\n",
    "        train_loss += loss.item()\n",
    "\n",
    "    model.eval()\n",
    "    val_loss = 0\n",
    "    with torch.no_grad():\n",
    "        for batch_x, batch_lens in val_loader:\n",
    "            pred, _ = model(batch_x, batch_lens)\n",
    "            val_loss += masked_mse_loss(pred, batch_x, batch_lens).item()\n",
    "\n",
    "    avg_train = train_loss / len(train_loader)\n",
    "    avg_val = val_loss / len(val_loader)\n",
    "    t2 = timeit.default_timer()\n",
    "    print(f\"Epoch {epoch+1}, Train: {avg_train:.4f} - Val: {avg_val:.4f} - Time: {t2-t1:.2f}s\")\n",
    "\n",
    "    # Save model if validation loss improves\n",
    "    if avg_val < best_val_loss:\n",
    "        best_val_loss = avg_val\n",
    "        best_state = model.state_dict()\n",
    "\n",
    "    early_stopper.step(avg_val)\n",
    "    if early_stopper.should_stop:\n",
    "        print(f\"Early stopping triggered at epoch {epoch+1}\")\n",
    "        break\n",
    "\n",
    "torch.save({'model_state_dict':best_state,\n",
    "            'epoch': epoch,\n",
    "            'val_loss': best_val_loss},\n",
    "            best_model_path)\n",
    "print(f\"Best model saved at: {best_model_path} with val loss: {best_val_loss:.4f}\")"
   ]
  },
  {
   "cell_type": "code",
   "execution_count": 23,
   "id": "b6441d5c",
   "metadata": {},
   "outputs": [
    {
     "data": {
      "application/vnd.plotly.v1+json": {
       "config": {
        "plotlyServerURL": "https://plot.ly"
       },
       "data": [
        {
         "customdata": [
          [
           "mouse1_left",
           "run1.csv",
           "A_postDLC"
          ],
          [
           "mouse1_left",
           "run1.csv",
           "A_postDLC"
          ],
          [
           "mouse1_left",
           "run1.csv",
           "A_postDLC"
          ],
          [
           "mouse1_left",
           "run1.csv",
           "A_postDLC"
          ],
          [
           "mouse1_left",
           "run3.csv",
           "A_postDLC"
          ],
          [
           "mouse1_left",
           "run3.csv",
           "A_postDLC"
          ],
          [
           "mouse1_left",
           "run3.csv",
           "A_postDLC"
          ],
          [
           "mouse1_left",
           "run3.csv",
           "A_postDLC"
          ],
          [
           "mouse1_left",
           "run4.csv",
           "A_postDLC"
          ],
          [
           "mouse1_left",
           "run4.csv",
           "A_postDLC"
          ],
          [
           "mouse1_left",
           "run4.csv",
           "A_postDLC"
          ],
          [
           "mouse1_left",
           "run4.csv",
           "A_postDLC"
          ],
          [
           "mouse1_left",
           "run4.csv",
           "A_postDLC"
          ],
          [
           "mouse2_left",
           "run1.csv",
           "A_postDLC"
          ],
          [
           "mouse2_left",
           "run1.csv",
           "A_postDLC"
          ],
          [
           "mouse2_left",
           "run1.csv",
           "A_postDLC"
          ],
          [
           "mouse2_left",
           "run1.csv",
           "A_postDLC"
          ],
          [
           "mouse2_left",
           "run3.csv",
           "A_postDLC"
          ],
          [
           "mouse2_left",
           "run3.csv",
           "A_postDLC"
          ],
          [
           "mouse2_left",
           "run3.csv",
           "A_postDLC"
          ],
          [
           "mouse2_left",
           "run3.csv",
           "A_postDLC"
          ],
          [
           "mouse2_left",
           "run5.csv",
           "A_postDLC"
          ],
          [
           "mouse2_left",
           "run5.csv",
           "A_postDLC"
          ],
          [
           "mouse2_left",
           "run6.csv",
           "A_postDLC"
          ],
          [
           "mouse2_left",
           "run6.csv",
           "A_postDLC"
          ],
          [
           "mouse2_left",
           "run6.csv",
           "A_postDLC"
          ],
          [
           "mouse3_left",
           "run3.csv",
           "A_postDLC"
          ],
          [
           "mouse3_left",
           "run3.csv",
           "A_postDLC"
          ],
          [
           "mouse3_left",
           "run3.csv",
           "A_postDLC"
          ],
          [
           "mouse3_left",
           "run4.csv",
           "A_postDLC"
          ],
          [
           "mouse3_left",
           "run4.csv",
           "A_postDLC"
          ],
          [
           "mouse3_left",
           "run4.csv",
           "A_postDLC"
          ],
          [
           "mouse3_left",
           "run6.csv",
           "A_postDLC"
          ],
          [
           "mouse3_left",
           "run6.csv",
           "A_postDLC"
          ],
          [
           "mouse3_left",
           "run7.csv",
           "A_postDLC"
          ],
          [
           "mouse3_left",
           "run7.csv",
           "A_postDLC"
          ],
          [
           "mouse3_left",
           "run7.csv",
           "A_postDLC"
          ],
          [
           "mouse3_left",
           "run7.csv",
           "A_postDLC"
          ],
          [
           "mouse3_left",
           "run9.csv",
           "A_postDLC"
          ],
          [
           "mouse3_left",
           "run9.csv",
           "A_postDLC"
          ],
          [
           "mouse3_left",
           "run9.csv",
           "A_postDLC"
          ],
          [
           "mouse4_left",
           "run1.csv",
           "A_postDLC"
          ],
          [
           "mouse4_left",
           "run1.csv",
           "A_postDLC"
          ],
          [
           "mouse4_left",
           "run1.csv",
           "A_postDLC"
          ],
          [
           "mouse4_left",
           "run1.csv",
           "A_postDLC"
          ],
          [
           "mouse4_left",
           "run1.csv",
           "A_postDLC"
          ],
          [
           "mouse4_left",
           "run3.csv",
           "A_postDLC"
          ],
          [
           "mouse4_left",
           "run3.csv",
           "A_postDLC"
          ],
          [
           "mouse4_left",
           "run3.csv",
           "A_postDLC"
          ],
          [
           "mouse4_left",
           "run3.csv",
           "A_postDLC"
          ],
          [
           "mouse4_left",
           "run5.csv",
           "A_postDLC"
          ],
          [
           "mouse4_left",
           "run5.csv",
           "A_postDLC"
          ],
          [
           "mouse4_left",
           "run5.csv",
           "A_postDLC"
          ],
          [
           "mouse4_left",
           "run5.csv",
           "A_postDLC"
          ],
          [
           "mouse5_left",
           "run1.csv",
           "A_postDLC"
          ],
          [
           "mouse5_left",
           "run1.csv",
           "A_postDLC"
          ],
          [
           "mouse5_left",
           "run1.csv",
           "A_postDLC"
          ],
          [
           "mouse5_left",
           "run1.csv",
           "A_postDLC"
          ],
          [
           "mouse5_left",
           "run1.csv",
           "A_postDLC"
          ],
          [
           "mouse5_left",
           "run2.csv",
           "A_postDLC"
          ],
          [
           "mouse5_left",
           "run2.csv",
           "A_postDLC"
          ],
          [
           "mouse5_left",
           "run2.csv",
           "A_postDLC"
          ],
          [
           "mouse5_left",
           "run2.csv",
           "A_postDLC"
          ],
          [
           "mouse5_left",
           "run3.csv",
           "A_postDLC"
          ],
          [
           "mouse5_left",
           "run3.csv",
           "A_postDLC"
          ],
          [
           "mouse5_left",
           "run3.csv",
           "A_postDLC"
          ],
          [
           "mouse5_left",
           "run3.csv",
           "A_postDLC"
          ],
          [
           "mouse6_left",
           "run1.csv",
           "A_postDLC"
          ],
          [
           "mouse6_left",
           "run1.csv",
           "A_postDLC"
          ],
          [
           "mouse6_left",
           "run1.csv",
           "A_postDLC"
          ],
          [
           "mouse6_left",
           "run1.csv",
           "A_postDLC"
          ],
          [
           "mouse6_left",
           "run2.csv",
           "A_postDLC"
          ],
          [
           "mouse6_left",
           "run2.csv",
           "A_postDLC"
          ],
          [
           "mouse6_left",
           "run5.csv",
           "A_postDLC"
          ],
          [
           "mouse6_left",
           "run5.csv",
           "A_postDLC"
          ],
          [
           "mouse6_left",
           "run5.csv",
           "A_postDLC"
          ],
          [
           "mouse6_left",
           "run5.csv",
           "A_postDLC"
          ],
          [
           "mouse6_left",
           "run5.csv",
           "A_postDLC"
          ],
          [
           "mouse6_left",
           "run8.csv",
           "A_postDLC"
          ],
          [
           "mouse6_left",
           "run8.csv",
           "A_postDLC"
          ],
          [
           "mouse6_left",
           "run8.csv",
           "A_postDLC"
          ],
          [
           "mouse6_left",
           "run8.csv",
           "A_postDLC"
          ],
          [
           "mouse7_left",
           "run2.csv",
           "A_postDLC"
          ],
          [
           "mouse7_left",
           "run2.csv",
           "A_postDLC"
          ],
          [
           "mouse7_left",
           "run2.csv",
           "A_postDLC"
          ],
          [
           "mouse7_left",
           "run4.csv",
           "A_postDLC"
          ],
          [
           "mouse7_left",
           "run4.csv",
           "A_postDLC"
          ],
          [
           "mouse7_left",
           "run4.csv",
           "A_postDLC"
          ],
          [
           "mouse7_left",
           "run6.csv",
           "A_postDLC"
          ],
          [
           "mouse7_left",
           "run6.csv",
           "A_postDLC"
          ],
          [
           "mouse7_left",
           "run6.csv",
           "A_postDLC"
          ],
          [
           "mouse8_left",
           "run1.csv",
           "A_postDLC"
          ],
          [
           "mouse8_left",
           "run1.csv",
           "A_postDLC"
          ],
          [
           "mouse8_left",
           "run1.csv",
           "A_postDLC"
          ],
          [
           "mouse8_left",
           "run1.csv",
           "A_postDLC"
          ],
          [
           "mouse8_left",
           "run1.csv",
           "A_postDLC"
          ],
          [
           "mouse8_left",
           "run3.csv",
           "A_postDLC"
          ],
          [
           "mouse8_left",
           "run3.csv",
           "A_postDLC"
          ],
          [
           "mouse8_left",
           "run3.csv",
           "A_postDLC"
          ],
          [
           "mouse8_left",
           "run5.csv",
           "A_postDLC"
          ],
          [
           "mouse8_left",
           "run5.csv",
           "A_postDLC"
          ],
          [
           "mouse8_left",
           "run5.csv",
           "A_postDLC"
          ],
          [
           "mouse8_left",
           "run5.csv",
           "A_postDLC"
          ],
          [
           "mouse8_left",
           "run6.csv",
           "A_postDLC"
          ],
          [
           "mouse8_left",
           "run6.csv",
           "A_postDLC"
          ],
          [
           "mouse8_left",
           "run6.csv",
           "A_postDLC"
          ],
          [
           "mouse9_left",
           "run1.csv",
           "A_postDLC"
          ],
          [
           "mouse9_left",
           "run1.csv",
           "A_postDLC"
          ],
          [
           "mouse9_left",
           "run1.csv",
           "A_postDLC"
          ],
          [
           "mouse9_left",
           "run1.csv",
           "A_postDLC"
          ],
          [
           "mouse9_left",
           "run3.csv",
           "A_postDLC"
          ],
          [
           "mouse9_left",
           "run3.csv",
           "A_postDLC"
          ],
          [
           "mouse9_left",
           "run3.csv",
           "A_postDLC"
          ],
          [
           "mouse9_left",
           "run3.csv",
           "A_postDLC"
          ],
          [
           "mouse9_left",
           "run4.csv",
           "A_postDLC"
          ],
          [
           "mouse9_left",
           "run4.csv",
           "A_postDLC"
          ],
          [
           "mouse9_left",
           "run4.csv",
           "A_postDLC"
          ],
          [
           "mouse9_left",
           "run5.csv",
           "A_postDLC"
          ],
          [
           "mouse9_left",
           "run5.csv",
           "A_postDLC"
          ],
          [
           "mouse9_left",
           "run5.csv",
           "A_postDLC"
          ],
          [
           "mouse9_left",
           "run5.csv",
           "A_postDLC"
          ],
          [
           "mouse9_left",
           "run7.csv",
           "A_postDLC"
          ],
          [
           "mouse9_left",
           "run7.csv",
           "A_postDLC"
          ],
          [
           "mouse9_left",
           "run7.csv",
           "A_postDLC"
          ],
          [
           "mouse10_left",
           "run1.csv",
           "A_postDLC"
          ],
          [
           "mouse10_left",
           "run1.csv",
           "A_postDLC"
          ],
          [
           "mouse10_left",
           "run1.csv",
           "A_postDLC"
          ],
          [
           "mouse10_left",
           "run1.csv",
           "A_postDLC"
          ],
          [
           "mouse10_left",
           "run1.csv",
           "A_postDLC"
          ],
          [
           "mouse10_left",
           "run1.csv",
           "A_postDLC"
          ],
          [
           "mouse10_left",
           "run3.csv",
           "A_postDLC"
          ],
          [
           "mouse10_left",
           "run3.csv",
           "A_postDLC"
          ],
          [
           "mouse10_left",
           "run3.csv",
           "A_postDLC"
          ],
          [
           "mouse10_left",
           "run3.csv",
           "A_postDLC"
          ],
          [
           "mouse10_left",
           "run5.csv",
           "A_postDLC"
          ],
          [
           "mouse10_left",
           "run5.csv",
           "A_postDLC"
          ],
          [
           "mouse10_left",
           "run5.csv",
           "A_postDLC"
          ],
          [
           "mouse10_left",
           "run5.csv",
           "A_postDLC"
          ],
          [
           "mouse10_left",
           "run6.csv",
           "A_postDLC"
          ],
          [
           "mouse10_left",
           "run6.csv",
           "A_postDLC"
          ],
          [
           "mouse10_left",
           "run6.csv",
           "A_postDLC"
          ],
          [
           "mouse10_left",
           "run6.csv",
           "A_postDLC"
          ]
         ],
         "hovertemplate": "Dataset=%{customdata[2]}<br>UMAP1=%{x}<br>UMAP2=%{y}<br>UMAP3=%{z}<br>Mouse=%{customdata[0]}<br>Run=%{customdata[1]}<extra></extra>",
         "legendgroup": "A_postDLC",
         "marker": {
          "color": "#636efa",
          "line": {
           "color": "DarkSlateGrey",
           "width": 1
          },
          "size": 6,
          "symbol": "circle"
         },
         "mode": "markers",
         "name": "A_postDLC",
         "scene": "scene",
         "showlegend": true,
         "type": "scatter3d",
         "x": {
          "bdata": "xvRJQVMROkH51RNBGR+LwNjbZUHISDhBlCH9QHli7cCOIWFBbOQQQS1TCEEYx79A2EIGwdpndEEmmUhBdagGQfu0msA8cnRBCR5JQRRG/kA/Nb3AHVNuQUewy8DiWWpBSuYIQfdG3sBblw5BgWTvQFJDysB6DmJB03NQQewO0sBRmvtAgHHDwDVXaEGTHkNBx5T9QK2YyMAo4UxBQKgDQVOm/cC7knNBJyVmQcBdN0Ht3P9ATcqbwJAFcUGgkkpBsvn6QKTSusBSr2xBY1E5Qbld6UBjUQjBuCZhQVpDX0GBphJBMNrWQNztlMCI8lxB2yIsQaKm8kCKTAbBPI9YQaNQHkE+AeFAF1gHwbP7Y0HBaUlBmcwZQbQxqMALavlAefz7wE1yOUE2NzRBCc0xQeKIyEDS6fXAEJNvQU5iSUGdsN1ANQ8GwRccZ0FFdCBB1egDwSJ9N0GISN9AfIDzwP8ZTUF6U1hBS3zLwJ8WVUFGUT5BHpcEQd4r3kBRJIzAoAk3QfGe7UB5CJLA6IJOQYdlEkEp+MpAqhm7wIVnPUEvguRAN4HAwAhLc0F9JmBBixgbQR9pi8BztWhBnlQ6QXwX5ECI/rXAazUVQd7P00CzZQfBI+9pQQ1HEUE9yO9AiAMDwUxTX0GO7wFByFD+wB9NS0EtWzlB++wRQTVGA0ER1gNBQZaMwO2kYkHiaTdB1e8QQWb5p8C3dBlBGBVDQdSGN0H2qM7A6RFhQfw5QkHmQQhBAoqewA==",
          "dtype": "f4"
         },
         "y": {
          "bdata": "c84NQf9kCUEJUg9BnnSZQBKg8UD3eQBBI0QAQb8qgkB3fedAWVjSQO4lCUEw9shAFOmgQEAn3EDDcQtBGhELQWazn0BTn9tA6+gLQRSPBUE35qZA7d6lQBVEjEA62fdASqoCQeIAqEBfP4dA6lX+QG8Bm0DECXZALqmrQAlAi0DibJZAPVScQIiz/kDI7QlB3sEJQexPo0BvjM1AJyPRQLeOeEC6oNxAAUgBQTfKB0GxlQtBo+meQMSp3ECvrwhBinv+QDy9okA1LtdAfPMGQUe+/kC02pFAjdPbQBBV/EAeGRBBQCz8QHEEn0ASPJNATciHQIlYnUAlpI5AzPO+QLoMzUBaNrBAoOGUQJFm9UA2Og1BHL8MQdRQm0CVEvhAMW2RQIcqZkA0U2hAepvJQMz6rUAVfalAVeimQDx500Bt69BAwNGWQJgWAEGwuAZBzh2dQGVGxUAXac1AXqCIQOf8b0BPUJVAnD2MQEwd/ECC5QpBfvcNQTG8AkGdIZpA6OAFQV0BB0HZqJ1AUaKyQE+BD0FSdu9A0N6fQFA94UCgrftADgWgQL0F3EAYggJB2cULQdZwmUB93/1A6/4GQU80+kDnGKBALMSPQNT4oUAx+ptA+t2wQFeMk0DtrPNAWpuXQCB8hkDusqpA56N9QJ0tDEFBxQhBdzcQQVlzCkGm7QxBMKuaQCba9kCeTgJBhuoPQdxKnED00sRA0a/YQORAAUGyTo1AyEv6QC6oBUHkag1BmASeQA==",
          "dtype": "f4"
         },
         "z": {
          "bdata": "G0XRQDf5wUA7ErVAF+rEQFf36UD+gb5AzBamQI+dj0BBYuVA/hSUQHyhrUBmsHNAO0j1QAeE4kCWh8xASpGuQLxVwUAqFOJAlsPMQKqsrUAG8N5AgsXDQPUSvECCedJAuJ6rQNUP60DJcm9AaIqnQHcLsEDNtalAT6m6QIXKu0AhTWFAopzYQJc720DAd8hAWOarQKSd5EApkLlAf0KTQOrbi0CODONAZifdQH4Nv0AP3q1AERDKQND+4EDfbc5A7DyoQFVO3EALsNxA0ca/QOlOqkBahs1AA4bgQHTq5UCFy7RAq0qWQFCpwUDJYbpAkrh/QB9MYUCHOKRANK7GQCqSmEBxOWVAaQbaQKWz50AXAc9AJzG2QJSLuEDFo6NAzIyWQF2phEBYOIJAWDOoQDG5gEADmPtALjXFQHX7uEBY7ZxA4XnKQLOy4EAcbrVAm4vsQP2sqkC96JxADWOTQMPFmkBEYLhA9Bq7QL9R3kBRncVAYLWuQBrxm0D26sNAvum+QKV8o0B/vsJAYo+8QABNtEB105JAxK+yQEedukDQ56NAzpfeQNfp4kA9BONAOLG2QHJdw0A4Wt5A0lTAQEyGqECDNrBAMXKHQL/1d0B/yOxAkMjGQEcFh0Dl3qVAztu/QDAkoUCjk45Afs6KQIdpzkB9aMFAypu0QIiAqUAqd6xAs9DDQCXn6ECjwr1A9byzQFBptkAjHZBAYKO+QPVbvUARc7xAVDroQChayEAJu69ApnXPQA==",
          "dtype": "f4"
         }
        },
        {
         "customdata": [
          [
           "mouse1_left",
           "run1.csv",
           "A_preDLC"
          ],
          [
           "mouse1_left",
           "run1.csv",
           "A_preDLC"
          ],
          [
           "mouse1_left",
           "run1.csv",
           "A_preDLC"
          ],
          [
           "mouse1_left",
           "run3.csv",
           "A_preDLC"
          ],
          [
           "mouse1_left",
           "run3.csv",
           "A_preDLC"
          ],
          [
           "mouse1_left",
           "run3.csv",
           "A_preDLC"
          ],
          [
           "mouse1_left",
           "run4.csv",
           "A_preDLC"
          ],
          [
           "mouse1_left",
           "run4.csv",
           "A_preDLC"
          ],
          [
           "mouse1_left",
           "run4.csv",
           "A_preDLC"
          ],
          [
           "mouse1_left",
           "run4.csv",
           "A_preDLC"
          ],
          [
           "mouse2_left",
           "run5.csv",
           "A_preDLC"
          ],
          [
           "mouse2_left",
           "run5.csv",
           "A_preDLC"
          ],
          [
           "mouse2_left",
           "run6.csv",
           "A_preDLC"
          ],
          [
           "mouse2_left",
           "run6.csv",
           "A_preDLC"
          ],
          [
           "mouse2_left",
           "run6.csv",
           "A_preDLC"
          ],
          [
           "mouse2_left",
           "run6.csv",
           "A_preDLC"
          ],
          [
           "mouse2_left",
           "run7.csv",
           "A_preDLC"
          ],
          [
           "mouse2_left",
           "run7.csv",
           "A_preDLC"
          ],
          [
           "mouse2_left",
           "run7.csv",
           "A_preDLC"
          ],
          [
           "mouse3_left",
           "run2.csv",
           "A_preDLC"
          ],
          [
           "mouse3_left",
           "run2.csv",
           "A_preDLC"
          ],
          [
           "mouse3_left",
           "run2.csv",
           "A_preDLC"
          ],
          [
           "mouse3_left",
           "run2.csv",
           "A_preDLC"
          ],
          [
           "mouse3_left",
           "run4.csv",
           "A_preDLC"
          ],
          [
           "mouse3_left",
           "run4.csv",
           "A_preDLC"
          ],
          [
           "mouse3_left",
           "run4.csv",
           "A_preDLC"
          ],
          [
           "mouse3_left",
           "run6.csv",
           "A_preDLC"
          ],
          [
           "mouse3_left",
           "run6.csv",
           "A_preDLC"
          ],
          [
           "mouse3_left",
           "run6.csv",
           "A_preDLC"
          ],
          [
           "mouse4_left",
           "run1.csv",
           "A_preDLC"
          ],
          [
           "mouse4_left",
           "run1.csv",
           "A_preDLC"
          ],
          [
           "mouse4_left",
           "run1.csv",
           "A_preDLC"
          ],
          [
           "mouse4_left",
           "run1.csv",
           "A_preDLC"
          ],
          [
           "mouse4_left",
           "run3.csv",
           "A_preDLC"
          ],
          [
           "mouse4_left",
           "run3.csv",
           "A_preDLC"
          ],
          [
           "mouse4_left",
           "run3.csv",
           "A_preDLC"
          ],
          [
           "mouse4_left",
           "run3.csv",
           "A_preDLC"
          ],
          [
           "mouse4_left",
           "run5.csv",
           "A_preDLC"
          ],
          [
           "mouse4_left",
           "run5.csv",
           "A_preDLC"
          ],
          [
           "mouse4_left",
           "run5.csv",
           "A_preDLC"
          ],
          [
           "mouse4_left",
           "run5.csv",
           "A_preDLC"
          ],
          [
           "mouse5_left",
           "run1.csv",
           "A_preDLC"
          ],
          [
           "mouse5_left",
           "run1.csv",
           "A_preDLC"
          ],
          [
           "mouse5_left",
           "run1.csv",
           "A_preDLC"
          ],
          [
           "mouse5_left",
           "run1.csv",
           "A_preDLC"
          ],
          [
           "mouse5_left",
           "run1.csv",
           "A_preDLC"
          ],
          [
           "mouse5_left",
           "run5.csv",
           "A_preDLC"
          ],
          [
           "mouse5_left",
           "run5.csv",
           "A_preDLC"
          ],
          [
           "mouse5_left",
           "run5.csv",
           "A_preDLC"
          ],
          [
           "mouse5_left",
           "run8.csv",
           "A_preDLC"
          ],
          [
           "mouse5_left",
           "run8.csv",
           "A_preDLC"
          ],
          [
           "mouse5_left",
           "run8.csv",
           "A_preDLC"
          ],
          [
           "mouse5_left",
           "run8.csv",
           "A_preDLC"
          ],
          [
           "mouse6_left",
           "run1.csv",
           "A_preDLC"
          ],
          [
           "mouse6_left",
           "run1.csv",
           "A_preDLC"
          ],
          [
           "mouse6_left",
           "run1.csv",
           "A_preDLC"
          ],
          [
           "mouse6_left",
           "run1.csv",
           "A_preDLC"
          ],
          [
           "mouse6_left",
           "run4.csv",
           "A_preDLC"
          ],
          [
           "mouse6_left",
           "run4.csv",
           "A_preDLC"
          ],
          [
           "mouse6_left",
           "run4.csv",
           "A_preDLC"
          ],
          [
           "mouse6_left",
           "run6.csv",
           "A_preDLC"
          ],
          [
           "mouse6_left",
           "run6.csv",
           "A_preDLC"
          ],
          [
           "mouse6_left",
           "run6.csv",
           "A_preDLC"
          ],
          [
           "mouse7_left",
           "run1.csv",
           "A_preDLC"
          ],
          [
           "mouse7_left",
           "run1.csv",
           "A_preDLC"
          ],
          [
           "mouse7_left",
           "run1.csv",
           "A_preDLC"
          ],
          [
           "mouse7_left",
           "run1.csv",
           "A_preDLC"
          ],
          [
           "mouse7_left",
           "run1.csv",
           "A_preDLC"
          ],
          [
           "mouse7_left",
           "run2.csv",
           "A_preDLC"
          ],
          [
           "mouse7_left",
           "run2.csv",
           "A_preDLC"
          ],
          [
           "mouse7_left",
           "run2.csv",
           "A_preDLC"
          ],
          [
           "mouse7_left",
           "run2.csv",
           "A_preDLC"
          ],
          [
           "mouse7_left",
           "run3.csv",
           "A_preDLC"
          ],
          [
           "mouse7_left",
           "run3.csv",
           "A_preDLC"
          ],
          [
           "mouse7_left",
           "run3.csv",
           "A_preDLC"
          ],
          [
           "mouse7_left",
           "run4.csv",
           "A_preDLC"
          ],
          [
           "mouse7_left",
           "run4.csv",
           "A_preDLC"
          ],
          [
           "mouse7_left",
           "run4.csv",
           "A_preDLC"
          ],
          [
           "mouse8_left",
           "run1.csv",
           "A_preDLC"
          ],
          [
           "mouse8_left",
           "run1.csv",
           "A_preDLC"
          ],
          [
           "mouse8_left",
           "run1.csv",
           "A_preDLC"
          ],
          [
           "mouse8_left",
           "run1.csv",
           "A_preDLC"
          ],
          [
           "mouse8_left",
           "run3.csv",
           "A_preDLC"
          ],
          [
           "mouse8_left",
           "run3.csv",
           "A_preDLC"
          ],
          [
           "mouse8_left",
           "run3.csv",
           "A_preDLC"
          ],
          [
           "mouse8_left",
           "run3.csv",
           "A_preDLC"
          ],
          [
           "mouse8_left",
           "run5.csv",
           "A_preDLC"
          ],
          [
           "mouse8_left",
           "run5.csv",
           "A_preDLC"
          ],
          [
           "mouse8_left",
           "run5.csv",
           "A_preDLC"
          ],
          [
           "mouse8_left",
           "run5.csv",
           "A_preDLC"
          ],
          [
           "mouse9_left",
           "run1.csv",
           "A_preDLC"
          ],
          [
           "mouse9_left",
           "run1.csv",
           "A_preDLC"
          ],
          [
           "mouse9_left",
           "run1.csv",
           "A_preDLC"
          ],
          [
           "mouse9_left",
           "run1.csv",
           "A_preDLC"
          ],
          [
           "mouse9_left",
           "run2.csv",
           "A_preDLC"
          ],
          [
           "mouse9_left",
           "run2.csv",
           "A_preDLC"
          ],
          [
           "mouse9_left",
           "run2.csv",
           "A_preDLC"
          ],
          [
           "mouse9_left",
           "run4.csv",
           "A_preDLC"
          ],
          [
           "mouse9_left",
           "run4.csv",
           "A_preDLC"
          ],
          [
           "mouse10_left",
           "run1.csv",
           "A_preDLC"
          ],
          [
           "mouse10_left",
           "run1.csv",
           "A_preDLC"
          ],
          [
           "mouse10_left",
           "run1.csv",
           "A_preDLC"
          ],
          [
           "mouse10_left",
           "run3.csv",
           "A_preDLC"
          ],
          [
           "mouse10_left",
           "run3.csv",
           "A_preDLC"
          ],
          [
           "mouse10_left",
           "run3.csv",
           "A_preDLC"
          ],
          [
           "mouse10_left",
           "run5.csv",
           "A_preDLC"
          ],
          [
           "mouse10_left",
           "run5.csv",
           "A_preDLC"
          ],
          [
           "mouse10_left",
           "run5.csv",
           "A_preDLC"
          ]
         ],
         "hovertemplate": "Dataset=%{customdata[2]}<br>UMAP1=%{x}<br>UMAP2=%{y}<br>UMAP3=%{z}<br>Mouse=%{customdata[0]}<br>Run=%{customdata[1]}<extra></extra>",
         "legendgroup": "A_preDLC",
         "marker": {
          "color": "#EF553B",
          "line": {
           "color": "DarkSlateGrey",
           "width": 1
          },
          "size": 6,
          "symbol": "circle"
         },
         "mode": "markers",
         "name": "A_preDLC",
         "scene": "scene",
         "showlegend": true,
         "type": "scatter3d",
         "x": {
          "bdata": "68rgQEy5AUHhdY7AsnJpQateOUHyINbA22leQV8kJkFW/NtAt6EJwRpvUUEE+MXAxU1hQTLpQUGq19tASo8DwYVmTUHfXN5Av463wNMlaUEcX0hB4RPGQM8vAcFdYEFBPhskQTbl7cDZc19BBPX9QJg+BsGiAXBBjalQQUcUFkFRL5PAm4tUQYN7I0HPW8ZAq+UGwXQkVUH6gwxBfv27QApdBsE8Am9B/ixnQTFORUF8RuZAc/S8wCIVUUFL1ANBGUzUwCtxT0FavzpBwDEBQU3UvMBc419BHGVPQdNAFUG+xbjA+psZQbXIzEBqpgTBMepBQcf9BUFP1QLBEYZuQZLEbkHqtiBBOxTUQCXp68BJmRhBRCYJQTCu8kCvBq7AzV9KQfKDJkFAfP/AA/deQWcCKEFMmgTBsX9mQdUGYEFtyjdBDIqywGhBX0Gh0kdB1RTrQCGOA8FtS2NBk+oPQUw5BUF+YvzAcS1XQSLFS0EQzeBADzMCwaCnN0GLzvtAESMIwdq2YUEE09bAj8NdQWZcIkERPN/APrNmQfoDGkEGyuXA8JtnQYTFGUF1MQjB",
          "dtype": "f4"
         },
         "y": {
          "bdata": "jkj+QIx2C0HmZ5tAzBDOQB6GpkBlyYpAwAd1QGLYhUDlwKNAEKGMQD2VwkAoGI1AmNB4QH8Sg0CaqsFApvlzQIeE+UBLiPVA3NKlQEN8kUCvNdJAyzmyQBCTmEBlVmJAz3YGQVsXg0DUD4dAXZrCQMi3jUBe8btAnJP/QHYOC0H5b51AM+u5QPHm3UCR2thAsq+VQE1YhkCX9qNA7tK7QLKQnUAth6xAJGsBQcp1CkGTLvtAqA2dQBoV80BKYAFBMVmmQKU5ukBLtulA/SD9QPH+nUCN6QBBGd4EQTyJC0FAOZ5ABr6RQDu2q0AFAnlASpJiQOz7kUDk3nZAf0GkQM6t6UCYrARBgZHUQCS9n0AJsN5Af7/jQECcBEH6N55ATs9jQJODz0B8AndAFZR2QH2l1UBiKo9AGL3YQCCD/kC5RAhBhhGhQOGIc0C0DYBAQ0KlQM79kUCUV5VA8GeDQGHM50BFyJNAI427QP8hAUFPgfJA+nmVQECVZkBq4qZApa1tQG9vg0DttIlAMSEDQUE2CEG+aZBAHoMBQRFFA0HB3qlAjkH7QH8GCkEMw5pA",
          "dtype": "f4"
         },
         "z": {
          "bdata": "d1mhQLsZrUBep8JAf3XaQJhrm0A2TrhA9xmmQFY5fUD8woJAzmPVQPWow0BYobtA8aumQK7xkUDc+Y9AtdWcQOrPzECUZ5lAPZzXQGrQtkCtUbZAbtmBQPR9uUBDRYhABeG2QOzDj0Ag4p5AGgqWQFkwo0C72M5AzAnXQD3Ns0Cc8MRAag2/QPgzqEDoIIVABazKQDrWqEA7GI9AEalvQCqX8ED3RsVA24naQD83x0B4p6pAWj/MQJeS0UDtTaZAA9jqQLEswECut7pAimuiQDWV00Cy8tBAMuTIQH/Ws0Di49dAvfONQMeqg0AF5JVAVn+IQCdQgUBS6Y5As37CQE2NzkCHvbNABrOTQKt0zUDTSJ9A6k2aQMuRo0CDf9VA40KPQCmFpUBoYYlAy5akQEhtp0B34qVAhIngQMfi5kDbiL9AUoWvQBEjqEC8U5RAnE2IQF4SokBTnrBAUoBrQH2lm0DqOptAR2K/QGXWx0AA+6dAUNGqQJQKhEDFkIxAPXeoQMGOokDOxLZAeD/PQNFJt0DAfKNAVwrbQB+OsEAEdfRAl+XTQBlltEDH7+hA",
          "dtype": "f4"
         }
        },
        {
         "customdata": [
          [
           "mouse11_left",
           "run3.csv",
           "B_postDLC"
          ],
          [
           "mouse11_left",
           "run3.csv",
           "B_postDLC"
          ],
          [
           "mouse11_left",
           "run3.csv",
           "B_postDLC"
          ],
          [
           "mouse11_left",
           "run3.csv",
           "B_postDLC"
          ],
          [
           "mouse11_left",
           "run3.csv",
           "B_postDLC"
          ],
          [
           "mouse11_left",
           "run5.csv",
           "B_postDLC"
          ],
          [
           "mouse11_left",
           "run5.csv",
           "B_postDLC"
          ],
          [
           "mouse11_left",
           "run5.csv",
           "B_postDLC"
          ],
          [
           "mouse11_left",
           "run5.csv",
           "B_postDLC"
          ],
          [
           "mouse11_left",
           "run6.csv",
           "B_postDLC"
          ],
          [
           "mouse11_left",
           "run6.csv",
           "B_postDLC"
          ],
          [
           "mouse11_left",
           "run6.csv",
           "B_postDLC"
          ],
          [
           "mouse12_left",
           "run1.csv",
           "B_postDLC"
          ],
          [
           "mouse12_left",
           "run1.csv",
           "B_postDLC"
          ],
          [
           "mouse12_left",
           "run1.csv",
           "B_postDLC"
          ],
          [
           "mouse12_left",
           "run1.csv",
           "B_postDLC"
          ],
          [
           "mouse12_left",
           "run2.csv",
           "B_postDLC"
          ],
          [
           "mouse12_left",
           "run2.csv",
           "B_postDLC"
          ],
          [
           "mouse12_left",
           "run2.csv",
           "B_postDLC"
          ],
          [
           "mouse12_left",
           "run4.csv",
           "B_postDLC"
          ],
          [
           "mouse12_left",
           "run4.csv",
           "B_postDLC"
          ],
          [
           "mouse12_left",
           "run4.csv",
           "B_postDLC"
          ],
          [
           "mouse12_left",
           "run4.csv",
           "B_postDLC"
          ],
          [
           "mouse13_left",
           "run1.csv",
           "B_postDLC"
          ],
          [
           "mouse13_left",
           "run1.csv",
           "B_postDLC"
          ],
          [
           "mouse13_left",
           "run1.csv",
           "B_postDLC"
          ],
          [
           "mouse13_left",
           "run3.csv",
           "B_postDLC"
          ],
          [
           "mouse13_left",
           "run3.csv",
           "B_postDLC"
          ],
          [
           "mouse13_left",
           "run3.csv",
           "B_postDLC"
          ],
          [
           "mouse13_left",
           "run3.csv",
           "B_postDLC"
          ],
          [
           "mouse13_left",
           "run5.csv",
           "B_postDLC"
          ],
          [
           "mouse13_left",
           "run5.csv",
           "B_postDLC"
          ],
          [
           "mouse13_left",
           "run5.csv",
           "B_postDLC"
          ],
          [
           "mouse14_left",
           "run1.csv",
           "B_postDLC"
          ],
          [
           "mouse14_left",
           "run1.csv",
           "B_postDLC"
          ],
          [
           "mouse14_left",
           "run1.csv",
           "B_postDLC"
          ],
          [
           "mouse14_left",
           "run3.csv",
           "B_postDLC"
          ],
          [
           "mouse14_left",
           "run3.csv",
           "B_postDLC"
          ],
          [
           "mouse14_left",
           "run3.csv",
           "B_postDLC"
          ],
          [
           "mouse14_left",
           "run4.csv",
           "B_postDLC"
          ],
          [
           "mouse14_left",
           "run4.csv",
           "B_postDLC"
          ],
          [
           "mouse14_left",
           "run4.csv",
           "B_postDLC"
          ],
          [
           "mouse14_left",
           "run4.csv",
           "B_postDLC"
          ],
          [
           "mouse15_left",
           "run1.csv",
           "B_postDLC"
          ],
          [
           "mouse15_left",
           "run1.csv",
           "B_postDLC"
          ],
          [
           "mouse15_left",
           "run1.csv",
           "B_postDLC"
          ],
          [
           "mouse15_left",
           "run1.csv",
           "B_postDLC"
          ],
          [
           "mouse15_left",
           "run3.csv",
           "B_postDLC"
          ],
          [
           "mouse15_left",
           "run3.csv",
           "B_postDLC"
          ],
          [
           "mouse15_left",
           "run3.csv",
           "B_postDLC"
          ],
          [
           "mouse15_left",
           "run3.csv",
           "B_postDLC"
          ],
          [
           "mouse15_left",
           "run5.csv",
           "B_postDLC"
          ],
          [
           "mouse15_left",
           "run5.csv",
           "B_postDLC"
          ],
          [
           "mouse15_left",
           "run5.csv",
           "B_postDLC"
          ],
          [
           "mouse16_left",
           "run1.csv",
           "B_postDLC"
          ],
          [
           "mouse16_left",
           "run1.csv",
           "B_postDLC"
          ],
          [
           "mouse16_left",
           "run1.csv",
           "B_postDLC"
          ],
          [
           "mouse16_left",
           "run1.csv",
           "B_postDLC"
          ],
          [
           "mouse16_left",
           "run3.csv",
           "B_postDLC"
          ],
          [
           "mouse16_left",
           "run3.csv",
           "B_postDLC"
          ],
          [
           "mouse16_left",
           "run3.csv",
           "B_postDLC"
          ],
          [
           "mouse16_left",
           "run3.csv",
           "B_postDLC"
          ],
          [
           "mouse16_left",
           "run6.csv",
           "B_postDLC"
          ],
          [
           "mouse16_left",
           "run6.csv",
           "B_postDLC"
          ],
          [
           "mouse16_left",
           "run6.csv",
           "B_postDLC"
          ],
          [
           "mouse16_left",
           "run6.csv",
           "B_postDLC"
          ],
          [
           "mouse16_left",
           "run6.csv",
           "B_postDLC"
          ],
          [
           "mouse16_left",
           "run7.csv",
           "B_postDLC"
          ],
          [
           "mouse16_left",
           "run7.csv",
           "B_postDLC"
          ],
          [
           "mouse16_left",
           "run7.csv",
           "B_postDLC"
          ],
          [
           "mouse16_left",
           "run7.csv",
           "B_postDLC"
          ],
          [
           "mouse17_left",
           "run3.csv",
           "B_postDLC"
          ],
          [
           "mouse17_left",
           "run3.csv",
           "B_postDLC"
          ],
          [
           "mouse17_left",
           "run3.csv",
           "B_postDLC"
          ],
          [
           "mouse17_left",
           "run4.csv",
           "B_postDLC"
          ],
          [
           "mouse17_left",
           "run4.csv",
           "B_postDLC"
          ],
          [
           "mouse17_left",
           "run4.csv",
           "B_postDLC"
          ],
          [
           "mouse17_left",
           "run4.csv",
           "B_postDLC"
          ],
          [
           "mouse17_left",
           "run6.csv",
           "B_postDLC"
          ],
          [
           "mouse17_left",
           "run6.csv",
           "B_postDLC"
          ],
          [
           "mouse17_left",
           "run6.csv",
           "B_postDLC"
          ],
          [
           "mouse17_left",
           "run8.csv",
           "B_postDLC"
          ],
          [
           "mouse17_left",
           "run8.csv",
           "B_postDLC"
          ],
          [
           "mouse17_left",
           "run8.csv",
           "B_postDLC"
          ],
          [
           "mouse18_left",
           "run1.csv",
           "B_postDLC"
          ],
          [
           "mouse18_left",
           "run1.csv",
           "B_postDLC"
          ],
          [
           "mouse18_left",
           "run1.csv",
           "B_postDLC"
          ],
          [
           "mouse18_left",
           "run1.csv",
           "B_postDLC"
          ],
          [
           "mouse18_left",
           "run3.csv",
           "B_postDLC"
          ],
          [
           "mouse18_left",
           "run3.csv",
           "B_postDLC"
          ],
          [
           "mouse18_left",
           "run3.csv",
           "B_postDLC"
          ],
          [
           "mouse18_left",
           "run3.csv",
           "B_postDLC"
          ],
          [
           "mouse18_left",
           "run5.csv",
           "B_postDLC"
          ],
          [
           "mouse18_left",
           "run5.csv",
           "B_postDLC"
          ],
          [
           "mouse18_left",
           "run5.csv",
           "B_postDLC"
          ],
          [
           "mouse18_left",
           "run5.csv",
           "B_postDLC"
          ],
          [
           "mouse19_left",
           "run2.csv",
           "B_postDLC"
          ],
          [
           "mouse19_left",
           "run2.csv",
           "B_postDLC"
          ],
          [
           "mouse19_left",
           "run2.csv",
           "B_postDLC"
          ],
          [
           "mouse19_left",
           "run2.csv",
           "B_postDLC"
          ],
          [
           "mouse19_left",
           "run4.csv",
           "B_postDLC"
          ],
          [
           "mouse19_left",
           "run4.csv",
           "B_postDLC"
          ],
          [
           "mouse19_left",
           "run4.csv",
           "B_postDLC"
          ],
          [
           "mouse19_left",
           "run4.csv",
           "B_postDLC"
          ],
          [
           "mouse19_left",
           "run6.csv",
           "B_postDLC"
          ],
          [
           "mouse19_left",
           "run6.csv",
           "B_postDLC"
          ],
          [
           "mouse19_left",
           "run6.csv",
           "B_postDLC"
          ],
          [
           "mouse20_left",
           "run1.csv",
           "B_postDLC"
          ],
          [
           "mouse20_left",
           "run1.csv",
           "B_postDLC"
          ],
          [
           "mouse20_left",
           "run1.csv",
           "B_postDLC"
          ],
          [
           "mouse20_left",
           "run1.csv",
           "B_postDLC"
          ],
          [
           "mouse20_left",
           "run2.csv",
           "B_postDLC"
          ],
          [
           "mouse20_left",
           "run2.csv",
           "B_postDLC"
          ],
          [
           "mouse20_left",
           "run2.csv",
           "B_postDLC"
          ],
          [
           "mouse20_left",
           "run2.csv",
           "B_postDLC"
          ],
          [
           "mouse20_left",
           "run5.csv",
           "B_postDLC"
          ],
          [
           "mouse20_left",
           "run5.csv",
           "B_postDLC"
          ],
          [
           "mouse20_left",
           "run5.csv",
           "B_postDLC"
          ],
          [
           "mouse20_left",
           "run5.csv",
           "B_postDLC"
          ],
          [
           "mouse20_left",
           "run5.csv",
           "B_postDLC"
          ]
         ],
         "hovertemplate": "Dataset=%{customdata[2]}<br>UMAP1=%{x}<br>UMAP2=%{y}<br>UMAP3=%{z}<br>Mouse=%{customdata[0]}<br>Run=%{customdata[1]}<extra></extra>",
         "legendgroup": "B_postDLC",
         "marker": {
          "color": "#00cc96",
          "line": {
           "color": "DarkSlateGrey",
           "width": 1
          },
          "size": 6,
          "symbol": "circle"
         },
         "mode": "markers",
         "name": "B_postDLC",
         "scene": "scene",
         "showlegend": true,
         "type": "scatter3d",
         "x": {
          "bdata": "HAxWQTcjSkEVAOBAi3vMQDwRCcEuz2BBVXMGQb6sy0CAZP3AgOBQQb1eA0GYCMXAEghxQQfgUkE2t91AD/S8wPVHIEGYmNhA0HjwwLQXWEFuojVBw23CQMwSCMHoRGBBMwo9QZsrq8C4LXBBD8lMQfu5FEEEn53AekQzQVOK1ECPBgfB1/JhQbP+GEH+ybfAFHVpQVzHKEEGrQrB9E9yQSiwO0HFwM1AdgQLwYGSbUGtskhB/w8AQf9UCMGop3FBW7BIQaEO8UBUNNbAn11OQVLk4EAFy9DAQiRSQVFA9UB2lNRA/QEDwSEAMkHB5DpBhtHGQMjuAMGZQURBr/VaQT+FF0GSutJAkB4CwXT/U0HTJvtABLrEQOfpCMGuc2tBSGMaQQubB8HtDmJB3ss2QXZK2UDTSKTAoodNQbWx4kC0guzAX/VqQbvL+kD0TAnBCWdkQQTuPEFRTQhBzczhwBSSW0FRZjhBX/vdQIPx3MBi4E9B3MMVQYg13UCA9rvAPwJoQf3ON0FFpuhA/8GywABzbUG2jD1B7XboQHCiCcFWzWNBMrwZQdDB68AA/m9BjOVsQbDqIUGipL/AkP5vQebSW0GS4BZBkB3jwHjib0EJ6DxBaW02QXnC2kBr8gjB",
          "dtype": "f4"
         },
         "y": {
          "bdata": "9nWQQP2FA0F+b/FAv2ryQNEglUDbYeZAGW/qQOGz4EDmVqVAgeQAQdlj9UDX5J1AQ1q9QN/D9kBGX/NADhOiQA4uiUB3IKZApLyqQMFliUB5QKpACbeoQJsakUB5/vZA2aAKQTScl0DkLdxAVe//QGlHCkHmc51A3azCQBPkx0CxrZpAfW0AQcxEDkGIu51Aug+nQB882kDR3nFAy93LQGYr40CHN51AzgpxQFU+pEAkieNAkELqQD4wmkDYCs9AcBbuQDPiAUGOkZdAIXv3QNW6/UBEsaVAMRTwQIJl2EBs8/ZAGrCmQOttaUCGZtFAsVuhQBwcrUAaM21Au5N3QN/gkkCYLM1AGGutQIeVxkADxKNAAPaoQEjUgUCzbdBAQiTTQPfBb0DUbuRAU40CQUZO/kA+pJpAmQ3RQFaB7kDGTIJAJ0/gQCp+00BjcIhAslXiQEcfCkFfaw5BT6unQBhYmUDBQulAk4DuQJhiqUC26aRAFdbLQEqC7EAg7p9AMurwQDEoAUHIIvZAnB+jQO07skBrxdZAIIn7QDwii0DkUf9ArCgKQfjzgUC3XbFAZpHsQEnyBEEeT55A+7+5QNetA0G5bAlBRD6oQIAHt0CJW41ArhK4QOXlzkCPloxA",
          "dtype": "f4"
         },
         "z": {
          "bdata": "FrCzQJeV0UByEZdAmRmTQANj3UAtv+RAvq6cQEhIh0BBbPhAUq3ZQKUqoEDQW61AhkLQQGYe2EAfDJ9A9xjeQJRngUDvn4JAaej6QDQes0AisZtAML5dQJks1kCmF+hAlhvEQOOCuECReuNAuenTQNN3skBkUM5AWO+lQLVbkEAU2etAXpXlQGEUtUBEa9dAGqC+QJGYqUBiw6pA/53XQH/ZuUA5AFJA4YaxQBjBwkDoLcdAYSSfQC2d6kAJytZAy3jGQIjgo0C3oKlAh/bRQOHKoEDOjOlAgETRQK99kkCHPZNA/+b9QODsgEAzrbFAh7xTQKr7AkH17I5AEIupQARUjkB7IpJAWs8CQTK9v0AVSIlAADtcQNjUp0BP79hA1FCaQOixrkDG4+BA0Xa9QOedm0CnjLhA+9e8QPL1o0BxXJBAwKHaQAGImUAUls1Axp3lQGV9xEAy5q1ABrnrQLldvEAYyrhAkWybQGIG8EBuA7dAnWWSQA+VkEChybBAbrHoQHmPvUDtXqdAksTCQGsey0ANeLRAnMumQDLI0UDGMNdAI5G0QPTaj0CaEclAEBrVQIgstUA9e69ARODMQOWuzkCjxLJAxILtQLDxy0D585NAYj6iQOQSmUCWmdBA",
          "dtype": "f4"
         }
        },
        {
         "customdata": [
          [
           "mouse11_left",
           "run1.csv",
           "B_preDLC"
          ],
          [
           "mouse11_left",
           "run1.csv",
           "B_preDLC"
          ],
          [
           "mouse11_left",
           "run1.csv",
           "B_preDLC"
          ],
          [
           "mouse11_left",
           "run1.csv",
           "B_preDLC"
          ],
          [
           "mouse11_left",
           "run3.csv",
           "B_preDLC"
          ],
          [
           "mouse11_left",
           "run3.csv",
           "B_preDLC"
          ],
          [
           "mouse11_left",
           "run3.csv",
           "B_preDLC"
          ],
          [
           "mouse11_left",
           "run5.csv",
           "B_preDLC"
          ],
          [
           "mouse11_left",
           "run5.csv",
           "B_preDLC"
          ],
          [
           "mouse11_left",
           "run5.csv",
           "B_preDLC"
          ],
          [
           "mouse11_left",
           "run5.csv",
           "B_preDLC"
          ],
          [
           "mouse12_left",
           "run2.csv",
           "B_preDLC"
          ],
          [
           "mouse12_left",
           "run2.csv",
           "B_preDLC"
          ],
          [
           "mouse12_left",
           "run2.csv",
           "B_preDLC"
          ],
          [
           "mouse12_left",
           "run5.csv",
           "B_preDLC"
          ],
          [
           "mouse12_left",
           "run5.csv",
           "B_preDLC"
          ],
          [
           "mouse12_left",
           "run5.csv",
           "B_preDLC"
          ],
          [
           "mouse12_left",
           "run5.csv",
           "B_preDLC"
          ],
          [
           "mouse12_left",
           "run6.csv",
           "B_preDLC"
          ],
          [
           "mouse12_left",
           "run6.csv",
           "B_preDLC"
          ],
          [
           "mouse12_left",
           "run6.csv",
           "B_preDLC"
          ],
          [
           "mouse13_left",
           "run1.csv",
           "B_preDLC"
          ],
          [
           "mouse13_left",
           "run1.csv",
           "B_preDLC"
          ],
          [
           "mouse13_left",
           "run1.csv",
           "B_preDLC"
          ],
          [
           "mouse13_left",
           "run1.csv",
           "B_preDLC"
          ],
          [
           "mouse13_left",
           "run3.csv",
           "B_preDLC"
          ],
          [
           "mouse13_left",
           "run3.csv",
           "B_preDLC"
          ],
          [
           "mouse13_left",
           "run3.csv",
           "B_preDLC"
          ],
          [
           "mouse13_left",
           "run5.csv",
           "B_preDLC"
          ],
          [
           "mouse13_left",
           "run5.csv",
           "B_preDLC"
          ],
          [
           "mouse13_left",
           "run5.csv",
           "B_preDLC"
          ],
          [
           "mouse14_left",
           "run1.csv",
           "B_preDLC"
          ],
          [
           "mouse14_left",
           "run1.csv",
           "B_preDLC"
          ],
          [
           "mouse14_left",
           "run1.csv",
           "B_preDLC"
          ],
          [
           "mouse14_left",
           "run3.csv",
           "B_preDLC"
          ],
          [
           "mouse14_left",
           "run3.csv",
           "B_preDLC"
          ],
          [
           "mouse14_left",
           "run3.csv",
           "B_preDLC"
          ],
          [
           "mouse14_left",
           "run3.csv",
           "B_preDLC"
          ],
          [
           "mouse14_left",
           "run6.csv",
           "B_preDLC"
          ],
          [
           "mouse14_left",
           "run6.csv",
           "B_preDLC"
          ],
          [
           "mouse14_left",
           "run6.csv",
           "B_preDLC"
          ],
          [
           "mouse14_left",
           "run6.csv",
           "B_preDLC"
          ],
          [
           "mouse15_left",
           "run2.csv",
           "B_preDLC"
          ],
          [
           "mouse15_left",
           "run2.csv",
           "B_preDLC"
          ],
          [
           "mouse15_left",
           "run4.csv",
           "B_preDLC"
          ],
          [
           "mouse15_left",
           "run4.csv",
           "B_preDLC"
          ],
          [
           "mouse15_left",
           "run6.csv",
           "B_preDLC"
          ],
          [
           "mouse15_left",
           "run6.csv",
           "B_preDLC"
          ],
          [
           "mouse15_left",
           "run6.csv",
           "B_preDLC"
          ],
          [
           "mouse15_left",
           "run6.csv",
           "B_preDLC"
          ],
          [
           "mouse15_left",
           "run6.csv",
           "B_preDLC"
          ],
          [
           "mouse15_left",
           "run6.csv",
           "B_preDLC"
          ],
          [
           "mouse16_left",
           "run1.csv",
           "B_preDLC"
          ],
          [
           "mouse16_left",
           "run1.csv",
           "B_preDLC"
          ],
          [
           "mouse16_left",
           "run1.csv",
           "B_preDLC"
          ],
          [
           "mouse16_left",
           "run2.csv",
           "B_preDLC"
          ],
          [
           "mouse16_left",
           "run2.csv",
           "B_preDLC"
          ],
          [
           "mouse16_left",
           "run2.csv",
           "B_preDLC"
          ],
          [
           "mouse16_left",
           "run2.csv",
           "B_preDLC"
          ],
          [
           "mouse16_left",
           "run2.csv",
           "B_preDLC"
          ],
          [
           "mouse16_left",
           "run2.csv",
           "B_preDLC"
          ],
          [
           "mouse16_left",
           "run3.csv",
           "B_preDLC"
          ],
          [
           "mouse16_left",
           "run3.csv",
           "B_preDLC"
          ],
          [
           "mouse16_left",
           "run3.csv",
           "B_preDLC"
          ],
          [
           "mouse16_left",
           "run5.csv",
           "B_preDLC"
          ],
          [
           "mouse16_left",
           "run5.csv",
           "B_preDLC"
          ],
          [
           "mouse16_left",
           "run5.csv",
           "B_preDLC"
          ],
          [
           "mouse16_left",
           "run5.csv",
           "B_preDLC"
          ],
          [
           "mouse17_left",
           "run1.csv",
           "B_preDLC"
          ],
          [
           "mouse17_left",
           "run1.csv",
           "B_preDLC"
          ],
          [
           "mouse17_left",
           "run3.csv",
           "B_preDLC"
          ],
          [
           "mouse17_left",
           "run3.csv",
           "B_preDLC"
          ],
          [
           "mouse17_left",
           "run3.csv",
           "B_preDLC"
          ],
          [
           "mouse17_left",
           "run4.csv",
           "B_preDLC"
          ],
          [
           "mouse17_left",
           "run4.csv",
           "B_preDLC"
          ],
          [
           "mouse17_left",
           "run4.csv",
           "B_preDLC"
          ],
          [
           "mouse17_left",
           "run4.csv",
           "B_preDLC"
          ],
          [
           "mouse17_left",
           "run4.csv",
           "B_preDLC"
          ],
          [
           "mouse18_left",
           "run1.csv",
           "B_preDLC"
          ],
          [
           "mouse18_left",
           "run1.csv",
           "B_preDLC"
          ],
          [
           "mouse18_left",
           "run1.csv",
           "B_preDLC"
          ],
          [
           "mouse18_left",
           "run1.csv",
           "B_preDLC"
          ],
          [
           "mouse18_left",
           "run3.csv",
           "B_preDLC"
          ],
          [
           "mouse18_left",
           "run3.csv",
           "B_preDLC"
          ],
          [
           "mouse18_left",
           "run5.csv",
           "B_preDLC"
          ],
          [
           "mouse18_left",
           "run5.csv",
           "B_preDLC"
          ],
          [
           "mouse18_left",
           "run5.csv",
           "B_preDLC"
          ],
          [
           "mouse18_left",
           "run7.csv",
           "B_preDLC"
          ],
          [
           "mouse18_left",
           "run7.csv",
           "B_preDLC"
          ],
          [
           "mouse18_left",
           "run7.csv",
           "B_preDLC"
          ],
          [
           "mouse19_left",
           "run1.csv",
           "B_preDLC"
          ],
          [
           "mouse19_left",
           "run1.csv",
           "B_preDLC"
          ],
          [
           "mouse19_left",
           "run1.csv",
           "B_preDLC"
          ],
          [
           "mouse19_left",
           "run1.csv",
           "B_preDLC"
          ],
          [
           "mouse19_left",
           "run3.csv",
           "B_preDLC"
          ],
          [
           "mouse19_left",
           "run3.csv",
           "B_preDLC"
          ],
          [
           "mouse19_left",
           "run3.csv",
           "B_preDLC"
          ],
          [
           "mouse19_left",
           "run5.csv",
           "B_preDLC"
          ],
          [
           "mouse19_left",
           "run5.csv",
           "B_preDLC"
          ],
          [
           "mouse19_left",
           "run5.csv",
           "B_preDLC"
          ],
          [
           "mouse19_left",
           "run5.csv",
           "B_preDLC"
          ],
          [
           "mouse19_left",
           "run5.csv",
           "B_preDLC"
          ],
          [
           "mouse20_left",
           "run1.csv",
           "B_preDLC"
          ],
          [
           "mouse20_left",
           "run1.csv",
           "B_preDLC"
          ],
          [
           "mouse20_left",
           "run1.csv",
           "B_preDLC"
          ],
          [
           "mouse20_left",
           "run1.csv",
           "B_preDLC"
          ],
          [
           "mouse20_left",
           "run3.csv",
           "B_preDLC"
          ],
          [
           "mouse20_left",
           "run3.csv",
           "B_preDLC"
          ],
          [
           "mouse20_left",
           "run5.csv",
           "B_preDLC"
          ],
          [
           "mouse20_left",
           "run5.csv",
           "B_preDLC"
          ],
          [
           "mouse20_left",
           "run5.csv",
           "B_preDLC"
          ]
         ],
         "hovertemplate": "Dataset=%{customdata[2]}<br>UMAP1=%{x}<br>UMAP2=%{y}<br>UMAP3=%{z}<br>Mouse=%{customdata[0]}<br>Run=%{customdata[1]}<extra></extra>",
         "legendgroup": "B_preDLC",
         "marker": {
          "color": "#ab63fa",
          "line": {
           "color": "DarkSlateGrey",
           "width": 1
          },
          "size": 6,
          "symbol": "circle"
         },
         "mode": "markers",
         "name": "B_preDLC",
         "scene": "scene",
         "showlegend": true,
         "type": "scatter3d",
         "x": {
          "bdata": "7g1JQQsvBEFwwtpAK7ybwNNQcEGbbTVBUcMJwVIsVUHPFgxB6urNQJvsAcHYZ2JBLp5fQXVDx8Bo1VtBAuEcQVSm2kC3kwDBqRhCQS86GUGVSfPAlVlkQfi6SkEYw9RA3R7owOzbVkGV5NdAv/MFwfzQDkEPisNAIrXcwEWDUkEh/i9Bjqe6wJhQcUEB805BE//2QNly3sBbNWJBvGIDQelTvkD5TPzAQyXBQBrsCcHCzENBiJMHwXxyVkHlfEFBjhcfQXKD6kDRkb5AaOj1wPQBC0Eead1AAVOnwAGRVkGwX1tBn/YBQT2R6kCnf9RAnFeYwCnSZ0H9nN9A5e4AwUHfVkHkCylBwvLgQLZwA8HehR9BHXewwGR/cEG/zi1BNFj+wK9CYEHI7xpBzQHjQD4gvEBbJgTBoW1jQXEIRUERURdBAz+lwKmWGEGhIgXBahxoQYmQPUFg1NjAHBZsQRpwKUHhAP3A+2pwQUFfSUHkEAVBDqyywNq4N0HeDfVAm9r1wNPCO0GkbUFBLtgBQZhP2EBRCP/AyU5nQbRCSkG9bBtBJT3DwGBHU0GLWu7Av4BhQdrEJ0HqmQjB",
          "dtype": "f4"
         },
         "y": {
          "bdata": "CQQNQdakC0HTAwFB/7WfQNv/rUCBWfhAFW5yQJkNn0B8ToZA+y+vQPcCrkBadYBALkGIQHugjEB1/n1AFluLQGhTvEAdoZVAS0ODQKnb10AW9KdAMuWJQBA+90A0+/JAEbeqQCbGhEAAIrlA18mNQAR8mkANl81A/pOoQAwSAEGeFQdBAQ2QQJ4ex0Anr/ZAapoBQYfAqECf9H1AnLKfQCuNsUBYwZlACvPAQLP0l0BUHHZA2ypsQAxvd0A5Q31ANQ2KQKBTqEAvMcRA9fWmQOEcC0E3gAJBqEqgQD05c0AmRpRAv4aWQBkUn0CheflAxn6fQBkN3kBTPc9Accp9QGH8pUD8K4hAJve2QCzzk0CLqQdB+e6gQEdB3EAaMuNAsK+YQPfzeUCZl4ZAzra0QJaowEAUYpBAIcbjQFr3A0HKgg1BlhidQF4+4ECH/IlAWgGdQI451kAKl4tAV1DEQJAU0UAhAHlA1QjgQD/nB0ElWQtBbi+hQFCxqUBreMJA7nGuQKk7akDyrHtAhT6NQP7Gm0Dnvq9ARqQAQW2iDEHpfwxB/0yjQGk0B0EUTYJAWGWKQGr610DaHIdA",
          "dtype": "f4"
         },
         "z": {
          "bdata": "LP3OQDSdq0AtO5dAg+S+QFJzyUDVj7lAVGWuQGr1uUAj8mdAnfteQD49A0HmG6ZAELSeQPTFu0CMFZtAPzCGQA16iUAQU59A0p6TQPOUnEAGkvZAVkWwQEMnz0AGbJpAke72QB9VlECMSoxAgNufQJMMi0APnXZANLvsQB0I20BhErxANIK6QIGj1EC+08xASlCkQFIy70CyrKpANCKKQKALakAsjK5AyOp+QMyq50BZkpBAKU2vQCU2qkBLwo9A5LeEQA1IaUDaQXdA5+T1QIpqsECs5JlAt1O8QAuYp0B4OrhAc09lQONOWkDMgZRARLzDQJpg3UDSZp1A566JQMR1vkCvu31AME9tQFisqUB6PLVAXW2/QAHUz0D9WK9ACKS+QBfppUCbSINAC7JtQGtvcUDwL6VAqdLlQCqZzEDF4LRAgBi5QNYHokCsJ5tAcHO6QPJHtkBDr7dAWKnTQJx0pkDFiItAlt/kQKs2zUBvTqtAGUuvQGIznED0OJRATDoBQcN4h0Como9AYYhxQFcwTEBTgANB7WvZQGwSzkCX7rVATxLiQLs6zUD4FZBAHmilQDqyp0B7Ua9A",
          "dtype": "f4"
         }
        },
        {
         "customdata": [
          [
           "mouse21_left",
           "run1.csv",
           "C_postDLC"
          ],
          [
           "mouse21_left",
           "run1.csv",
           "C_postDLC"
          ],
          [
           "mouse21_left",
           "run1.csv",
           "C_postDLC"
          ],
          [
           "mouse21_left",
           "run1.csv",
           "C_postDLC"
          ],
          [
           "mouse21_left",
           "run3.csv",
           "C_postDLC"
          ],
          [
           "mouse21_left",
           "run3.csv",
           "C_postDLC"
          ],
          [
           "mouse21_left",
           "run3.csv",
           "C_postDLC"
          ],
          [
           "mouse21_left",
           "run3.csv",
           "C_postDLC"
          ],
          [
           "mouse21_left",
           "run5.csv",
           "C_postDLC"
          ],
          [
           "mouse21_left",
           "run5.csv",
           "C_postDLC"
          ],
          [
           "mouse21_left",
           "run5.csv",
           "C_postDLC"
          ],
          [
           "mouse21_left",
           "run5.csv",
           "C_postDLC"
          ],
          [
           "mouse22_left",
           "run1.csv",
           "C_postDLC"
          ],
          [
           "mouse22_left",
           "run1.csv",
           "C_postDLC"
          ],
          [
           "mouse22_left",
           "run1.csv",
           "C_postDLC"
          ],
          [
           "mouse22_left",
           "run1.csv",
           "C_postDLC"
          ],
          [
           "mouse22_left",
           "run1.csv",
           "C_postDLC"
          ],
          [
           "mouse22_left",
           "run3.csv",
           "C_postDLC"
          ],
          [
           "mouse22_left",
           "run3.csv",
           "C_postDLC"
          ],
          [
           "mouse22_left",
           "run3.csv",
           "C_postDLC"
          ],
          [
           "mouse22_left",
           "run3.csv",
           "C_postDLC"
          ],
          [
           "mouse22_left",
           "run5.csv",
           "C_postDLC"
          ],
          [
           "mouse22_left",
           "run5.csv",
           "C_postDLC"
          ],
          [
           "mouse22_left",
           "run5.csv",
           "C_postDLC"
          ],
          [
           "mouse22_left",
           "run5.csv",
           "C_postDLC"
          ],
          [
           "mouse22_left",
           "run5.csv",
           "C_postDLC"
          ],
          [
           "mouse22_left",
           "run5.csv",
           "C_postDLC"
          ],
          [
           "mouse23_left",
           "run1.csv",
           "C_postDLC"
          ],
          [
           "mouse23_left",
           "run1.csv",
           "C_postDLC"
          ],
          [
           "mouse23_left",
           "run3.csv",
           "C_postDLC"
          ],
          [
           "mouse23_left",
           "run3.csv",
           "C_postDLC"
          ],
          [
           "mouse23_left",
           "run3.csv",
           "C_postDLC"
          ],
          [
           "mouse23_left",
           "run3.csv",
           "C_postDLC"
          ],
          [
           "mouse23_left",
           "run5.csv",
           "C_postDLC"
          ],
          [
           "mouse23_left",
           "run5.csv",
           "C_postDLC"
          ],
          [
           "mouse23_left",
           "run5.csv",
           "C_postDLC"
          ],
          [
           "mouse24_left",
           "run1.csv",
           "C_postDLC"
          ],
          [
           "mouse24_left",
           "run1.csv",
           "C_postDLC"
          ],
          [
           "mouse24_left",
           "run1.csv",
           "C_postDLC"
          ],
          [
           "mouse24_left",
           "run2.csv",
           "C_postDLC"
          ],
          [
           "mouse24_left",
           "run2.csv",
           "C_postDLC"
          ],
          [
           "mouse24_left",
           "run2.csv",
           "C_postDLC"
          ],
          [
           "mouse24_left",
           "run2.csv",
           "C_postDLC"
          ],
          [
           "mouse24_left",
           "run5.csv",
           "C_postDLC"
          ],
          [
           "mouse24_left",
           "run5.csv",
           "C_postDLC"
          ],
          [
           "mouse24_left",
           "run5.csv",
           "C_postDLC"
          ],
          [
           "mouse24_left",
           "run5.csv",
           "C_postDLC"
          ],
          [
           "mouse25_left",
           "run1.csv",
           "C_postDLC"
          ],
          [
           "mouse25_left",
           "run1.csv",
           "C_postDLC"
          ],
          [
           "mouse25_left",
           "run1.csv",
           "C_postDLC"
          ],
          [
           "mouse25_left",
           "run1.csv",
           "C_postDLC"
          ],
          [
           "mouse25_left",
           "run6.csv",
           "C_postDLC"
          ],
          [
           "mouse25_left",
           "run6.csv",
           "C_postDLC"
          ],
          [
           "mouse25_left",
           "run6.csv",
           "C_postDLC"
          ],
          [
           "mouse25_left",
           "run6.csv",
           "C_postDLC"
          ],
          [
           "mouse25_left",
           "run6.csv",
           "C_postDLC"
          ],
          [
           "mouse25_left",
           "run6.csv",
           "C_postDLC"
          ],
          [
           "mouse25_left",
           "run7.csv",
           "C_postDLC"
          ],
          [
           "mouse25_left",
           "run7.csv",
           "C_postDLC"
          ],
          [
           "mouse25_left",
           "run7.csv",
           "C_postDLC"
          ],
          [
           "mouse25_left",
           "run7.csv",
           "C_postDLC"
          ],
          [
           "mouse25_left",
           "run7.csv",
           "C_postDLC"
          ],
          [
           "mouse25_left",
           "run7.csv",
           "C_postDLC"
          ],
          [
           "mouse26_left",
           "run1.csv",
           "C_postDLC"
          ],
          [
           "mouse26_left",
           "run1.csv",
           "C_postDLC"
          ],
          [
           "mouse26_left",
           "run1.csv",
           "C_postDLC"
          ],
          [
           "mouse26_left",
           "run3.csv",
           "C_postDLC"
          ],
          [
           "mouse26_left",
           "run3.csv",
           "C_postDLC"
          ],
          [
           "mouse26_left",
           "run3.csv",
           "C_postDLC"
          ],
          [
           "mouse26_left",
           "run3.csv",
           "C_postDLC"
          ],
          [
           "mouse26_left",
           "run5.csv",
           "C_postDLC"
          ],
          [
           "mouse26_left",
           "run5.csv",
           "C_postDLC"
          ],
          [
           "mouse26_left",
           "run5.csv",
           "C_postDLC"
          ],
          [
           "mouse26_left",
           "run5.csv",
           "C_postDLC"
          ],
          [
           "mouse27_left",
           "run1.csv",
           "C_postDLC"
          ],
          [
           "mouse27_left",
           "run1.csv",
           "C_postDLC"
          ],
          [
           "mouse27_left",
           "run1.csv",
           "C_postDLC"
          ],
          [
           "mouse27_left",
           "run3.csv",
           "C_postDLC"
          ],
          [
           "mouse27_left",
           "run3.csv",
           "C_postDLC"
          ],
          [
           "mouse27_left",
           "run3.csv",
           "C_postDLC"
          ],
          [
           "mouse27_left",
           "run3.csv",
           "C_postDLC"
          ],
          [
           "mouse27_left",
           "run3.csv",
           "C_postDLC"
          ],
          [
           "mouse27_left",
           "run4.csv",
           "C_postDLC"
          ],
          [
           "mouse27_left",
           "run4.csv",
           "C_postDLC"
          ],
          [
           "mouse27_left",
           "run4.csv",
           "C_postDLC"
          ],
          [
           "mouse27_left",
           "run4.csv",
           "C_postDLC"
          ],
          [
           "mouse27_left",
           "run4.csv",
           "C_postDLC"
          ],
          [
           "mouse28_left",
           "run1.csv",
           "C_postDLC"
          ],
          [
           "mouse28_left",
           "run1.csv",
           "C_postDLC"
          ],
          [
           "mouse28_left",
           "run1.csv",
           "C_postDLC"
          ],
          [
           "mouse28_left",
           "run1.csv",
           "C_postDLC"
          ],
          [
           "mouse28_left",
           "run2.csv",
           "C_postDLC"
          ],
          [
           "mouse28_left",
           "run2.csv",
           "C_postDLC"
          ],
          [
           "mouse28_left",
           "run2.csv",
           "C_postDLC"
          ],
          [
           "mouse28_left",
           "run2.csv",
           "C_postDLC"
          ],
          [
           "mouse28_left",
           "run2.csv",
           "C_postDLC"
          ],
          [
           "mouse28_left",
           "run4.csv",
           "C_postDLC"
          ],
          [
           "mouse28_left",
           "run4.csv",
           "C_postDLC"
          ],
          [
           "mouse28_left",
           "run4.csv",
           "C_postDLC"
          ],
          [
           "mouse28_left",
           "run4.csv",
           "C_postDLC"
          ],
          [
           "mouse28_left",
           "run4.csv",
           "C_postDLC"
          ],
          [
           "mouse29_left",
           "run1.csv",
           "C_postDLC"
          ],
          [
           "mouse29_left",
           "run1.csv",
           "C_postDLC"
          ],
          [
           "mouse29_left",
           "run1.csv",
           "C_postDLC"
          ],
          [
           "mouse29_left",
           "run2.csv",
           "C_postDLC"
          ],
          [
           "mouse29_left",
           "run2.csv",
           "C_postDLC"
          ],
          [
           "mouse29_left",
           "run2.csv",
           "C_postDLC"
          ],
          [
           "mouse29_left",
           "run5.csv",
           "C_postDLC"
          ],
          [
           "mouse29_left",
           "run5.csv",
           "C_postDLC"
          ],
          [
           "mouse29_left",
           "run5.csv",
           "C_postDLC"
          ],
          [
           "mouse29_left",
           "run5.csv",
           "C_postDLC"
          ],
          [
           "mouse30_left",
           "run1.csv",
           "C_postDLC"
          ],
          [
           "mouse30_left",
           "run1.csv",
           "C_postDLC"
          ],
          [
           "mouse30_left",
           "run1.csv",
           "C_postDLC"
          ],
          [
           "mouse30_left",
           "run3.csv",
           "C_postDLC"
          ],
          [
           "mouse30_left",
           "run3.csv",
           "C_postDLC"
          ],
          [
           "mouse30_left",
           "run3.csv",
           "C_postDLC"
          ],
          [
           "mouse30_left",
           "run3.csv",
           "C_postDLC"
          ],
          [
           "mouse30_left",
           "run6.csv",
           "C_postDLC"
          ],
          [
           "mouse30_left",
           "run6.csv",
           "C_postDLC"
          ],
          [
           "mouse30_left",
           "run6.csv",
           "C_postDLC"
          ],
          [
           "mouse30_left",
           "run6.csv",
           "C_postDLC"
          ],
          [
           "mouse30_left",
           "run6.csv",
           "C_postDLC"
          ]
         ],
         "hovertemplate": "Dataset=%{customdata[2]}<br>UMAP1=%{x}<br>UMAP2=%{y}<br>UMAP3=%{z}<br>Mouse=%{customdata[0]}<br>Run=%{customdata[1]}<extra></extra>",
         "legendgroup": "C_postDLC",
         "marker": {
          "color": "#FFA15A",
          "line": {
           "color": "DarkSlateGrey",
           "width": 1
          },
          "size": 6,
          "symbol": "circle"
         },
         "mode": "markers",
         "name": "C_postDLC",
         "scene": "scene",
         "showlegend": true,
         "type": "scatter3d",
         "x": {
          "bdata": "wpVwQU4FTkEmPwBBcfXzwFHlbkHdHU1BK2TeQJ/gAMHqcm1Bf9FhQfrC+kDR0AjBs89tQcidbEE9QBRBD2zfQKVq/8DFUl9BRE5FQU1C4UBi3QDBnrthQeumTkGEjwNBR6AIQQ0/xkBRjQHBufDaQI5EB8FgjkxBJlADQYDn0UDBngrB9N4dQf3SzEDCDAnBZzBfQegZNkEjcKHA6kxzQUKzUEFgzBZB23cEwQB7U0HYowdBJbDAQKwjCsFJrWZBzxpLQdTi+UAuzZXAbMJqQbV6MEEY6x5B+cbjQLk470CMGgLBdakvQfWtJ0FA7ihBS0j/QC72vEDFrvrAdK1lQQYiOkGU8+7ACtBtQcI5WkHT9gJB3TX/wH3ca0G+okZB43r+QKU+/8CRIWVBTjc5QaaQzsA9K2ZBvYIrQfgzGUGQQMNArSgCwUUMa0Edpg5Bt+47QZLkxEAccgbB7I9uQYkxREFseNZAgfeXwEB2Y0FlLFhBCBsCQUjm4EDz0QfBialhQfGM9EDvsDxBR1bEQIY+CMEuIGVBXec7QReJ+sDbpE9BFUzmQB4nAMEFaU9BltNYQXGGBEEYrgDBWOpkQXZdG0Fw76bA8IBXQX5/KkGnOM5AbvHewIwTb0H1AglBo2TlQOz61ECY6L7A",
          "dtype": "f4"
         },
         "y": {
          "bdata": "IvHcQNkkCEF7kgtBTG+pQHNL1UDIn/ZARqPvQGJep0BcaZ5A9wLmQFhal0COQHFASo6jQD4c80CCUPdA26TrQG3RjUBERYFAF57UQFco0kCP2YBA6GF4QJFms0CMZYxAQoUGQcn22kCe/IZALxXHQMLxkUBcuodALmaNQHbZn0DupXJAkQ6IQMp0rEA6I5RAxgrnQFu0BkEr9JlAAWTRQAX+9UC54w1BQRSXQNMJqEBU9dhA8tC9QH1vfkD7I+1AjWQDQdANB0HEgJ5A8pWTQBBObUAefItAK5DgQB3e3EBvSJJANQpyQHiaiEC2L4lAQsORQAGEuUDnHq5AUrgAQQDuCEG4eIdA5/2bQHfam0DP+exAWVaXQH3DsECiw7tApDkAQU6FjkA0MAFBJkcIQYnoj0DRb4pAc4iJQH3D0UBHntRAzrisQCrjlkDQq4RAgDD3QMjzqUByNpNALL7sQOf96EDLKMtAke+eQP2FekAipoRAA263QGZD8UBpvpJAe0d2QOcCrkDl5ehAuguzQOxznkCATtZAC9wCQXfLmkAx/NFA533EQFsapUBpA4FARm2XQK7lqUCHcXtAgGv2QKVDDUEQtp1A7OuEQH60ykCv/MtAcSynQG//30A68elA9TbgQPXE/EB2qadA",
          "dtype": "f4"
         },
         "z": {
          "bdata": "xpTgQOG2yEDe+61ATQL6QHj83UALydFAK3eYQG9+/UCc08BAHX7kQBVxYUAO2apAojvCQNM00EDYe6lAqvKjQNwylECyb6RAVSK/QHKLnkCny4lAiVGsQAWMuUC9UWtAOc6rQAr/ikBnPJFAHjaSQJ10sEC1EpdAUYZtQL5mbkChDq9AMCOEQLV+gkAHEdpA2hLiQP1IvkDkyrhASc3aQAti0kC8GrVAp5nEQALOvECWmJNAlUN0QHOivEACfulABYbSQGHOp0B9CcNA0A26QFUigUBxT4NAkUeMQIWujUCZF55Ag0OAQDvre0AxbHxAQ0lkQCM0ZkBpMgJBl3ndQN+YwEBOdZNAMAvAQJGpvECsdJ5ApqSeQHkyyECqQbZAZg6mQB+BlEBisN9AAmW/QLGRt0BLWrRAj2SBQNkAmkCmrIBApIQCQQ7evUDMlWpASm6+QMBLYkAocLVAVCPRQJRau0Cq1pRANarCQFLdqkAa4ZZAi/6TQO6Rp0CH8tBAFE6qQDLAbECUA7xAOVaAQA1w7kCPVd9AuivBQHjiu0DMBr5AeQKSQEjs+EDwOplAKwK5QKOPj0AkuolAQl/oQDyitkCpddNAcFWbQDcwpEBPh45Avd/sQHYP40BDZJ1ANcKMQJ4klkA6EOBA",
          "dtype": "f4"
         }
        },
        {
         "customdata": [
          [
           "mouse21_left",
           "run1.csv",
           "C_preDLC"
          ],
          [
           "mouse21_left",
           "run1.csv",
           "C_preDLC"
          ],
          [
           "mouse21_left",
           "run1.csv",
           "C_preDLC"
          ],
          [
           "mouse21_left",
           "run1.csv",
           "C_preDLC"
          ],
          [
           "mouse21_left",
           "run3.csv",
           "C_preDLC"
          ],
          [
           "mouse21_left",
           "run3.csv",
           "C_preDLC"
          ],
          [
           "mouse21_left",
           "run3.csv",
           "C_preDLC"
          ],
          [
           "mouse21_left",
           "run3.csv",
           "C_preDLC"
          ],
          [
           "mouse21_left",
           "run6.csv",
           "C_preDLC"
          ],
          [
           "mouse21_left",
           "run6.csv",
           "C_preDLC"
          ],
          [
           "mouse21_left",
           "run6.csv",
           "C_preDLC"
          ],
          [
           "mouse22_left",
           "run1.csv",
           "C_preDLC"
          ],
          [
           "mouse22_left",
           "run1.csv",
           "C_preDLC"
          ],
          [
           "mouse22_left",
           "run1.csv",
           "C_preDLC"
          ],
          [
           "mouse22_left",
           "run1.csv",
           "C_preDLC"
          ],
          [
           "mouse22_left",
           "run3.csv",
           "C_preDLC"
          ],
          [
           "mouse22_left",
           "run3.csv",
           "C_preDLC"
          ],
          [
           "mouse22_left",
           "run3.csv",
           "C_preDLC"
          ],
          [
           "mouse22_left",
           "run3.csv",
           "C_preDLC"
          ],
          [
           "mouse22_left",
           "run3.csv",
           "C_preDLC"
          ],
          [
           "mouse22_left",
           "run6.csv",
           "C_preDLC"
          ],
          [
           "mouse22_left",
           "run6.csv",
           "C_preDLC"
          ],
          [
           "mouse22_left",
           "run6.csv",
           "C_preDLC"
          ],
          [
           "mouse22_left",
           "run6.csv",
           "C_preDLC"
          ],
          [
           "mouse23_left",
           "run1.csv",
           "C_preDLC"
          ],
          [
           "mouse23_left",
           "run1.csv",
           "C_preDLC"
          ],
          [
           "mouse23_left",
           "run1.csv",
           "C_preDLC"
          ],
          [
           "mouse23_left",
           "run1.csv",
           "C_preDLC"
          ],
          [
           "mouse23_left",
           "run3.csv",
           "C_preDLC"
          ],
          [
           "mouse23_left",
           "run3.csv",
           "C_preDLC"
          ],
          [
           "mouse23_left",
           "run3.csv",
           "C_preDLC"
          ],
          [
           "mouse23_left",
           "run3.csv",
           "C_preDLC"
          ],
          [
           "mouse23_left",
           "run6.csv",
           "C_preDLC"
          ],
          [
           "mouse23_left",
           "run6.csv",
           "C_preDLC"
          ],
          [
           "mouse23_left",
           "run6.csv",
           "C_preDLC"
          ],
          [
           "mouse23_left",
           "run6.csv",
           "C_preDLC"
          ],
          [
           "mouse23_left",
           "run7.csv",
           "C_preDLC"
          ],
          [
           "mouse23_left",
           "run7.csv",
           "C_preDLC"
          ],
          [
           "mouse23_left",
           "run7.csv",
           "C_preDLC"
          ],
          [
           "mouse23_left",
           "run7.csv",
           "C_preDLC"
          ],
          [
           "mouse24_left",
           "run1.csv",
           "C_preDLC"
          ],
          [
           "mouse24_left",
           "run1.csv",
           "C_preDLC"
          ],
          [
           "mouse24_left",
           "run1.csv",
           "C_preDLC"
          ],
          [
           "mouse24_left",
           "run1.csv",
           "C_preDLC"
          ],
          [
           "mouse24_left",
           "run3.csv",
           "C_preDLC"
          ],
          [
           "mouse24_left",
           "run3.csv",
           "C_preDLC"
          ],
          [
           "mouse24_left",
           "run3.csv",
           "C_preDLC"
          ],
          [
           "mouse24_left",
           "run5.csv",
           "C_preDLC"
          ],
          [
           "mouse24_left",
           "run5.csv",
           "C_preDLC"
          ],
          [
           "mouse24_left",
           "run5.csv",
           "C_preDLC"
          ],
          [
           "mouse24_left",
           "run5.csv",
           "C_preDLC"
          ],
          [
           "mouse24_left",
           "run5.csv",
           "C_preDLC"
          ],
          [
           "mouse24_left",
           "run7.csv",
           "C_preDLC"
          ],
          [
           "mouse24_left",
           "run7.csv",
           "C_preDLC"
          ],
          [
           "mouse24_left",
           "run7.csv",
           "C_preDLC"
          ],
          [
           "mouse24_left",
           "run7.csv",
           "C_preDLC"
          ],
          [
           "mouse24_left",
           "run7.csv",
           "C_preDLC"
          ],
          [
           "mouse25_left",
           "run1.csv",
           "C_preDLC"
          ],
          [
           "mouse25_left",
           "run1.csv",
           "C_preDLC"
          ],
          [
           "mouse25_left",
           "run1.csv",
           "C_preDLC"
          ],
          [
           "mouse25_left",
           "run1.csv",
           "C_preDLC"
          ],
          [
           "mouse25_left",
           "run1.csv",
           "C_preDLC"
          ],
          [
           "mouse25_left",
           "run2.csv",
           "C_preDLC"
          ],
          [
           "mouse25_left",
           "run2.csv",
           "C_preDLC"
          ],
          [
           "mouse25_left",
           "run2.csv",
           "C_preDLC"
          ],
          [
           "mouse25_left",
           "run2.csv",
           "C_preDLC"
          ],
          [
           "mouse25_left",
           "run2.csv",
           "C_preDLC"
          ],
          [
           "mouse25_left",
           "run4.csv",
           "C_preDLC"
          ],
          [
           "mouse25_left",
           "run4.csv",
           "C_preDLC"
          ],
          [
           "mouse25_left",
           "run4.csv",
           "C_preDLC"
          ],
          [
           "mouse25_left",
           "run4.csv",
           "C_preDLC"
          ],
          [
           "mouse26_left",
           "run1.csv",
           "C_preDLC"
          ],
          [
           "mouse26_left",
           "run1.csv",
           "C_preDLC"
          ],
          [
           "mouse26_left",
           "run1.csv",
           "C_preDLC"
          ],
          [
           "mouse26_left",
           "run1.csv",
           "C_preDLC"
          ],
          [
           "mouse26_left",
           "run2.csv",
           "C_preDLC"
          ],
          [
           "mouse26_left",
           "run2.csv",
           "C_preDLC"
          ],
          [
           "mouse26_left",
           "run2.csv",
           "C_preDLC"
          ],
          [
           "mouse26_left",
           "run4.csv",
           "C_preDLC"
          ],
          [
           "mouse26_left",
           "run4.csv",
           "C_preDLC"
          ],
          [
           "mouse26_left",
           "run4.csv",
           "C_preDLC"
          ],
          [
           "mouse26_left",
           "run4.csv",
           "C_preDLC"
          ],
          [
           "mouse27_left",
           "run2.csv",
           "C_preDLC"
          ],
          [
           "mouse27_left",
           "run2.csv",
           "C_preDLC"
          ],
          [
           "mouse27_left",
           "run2.csv",
           "C_preDLC"
          ],
          [
           "mouse27_left",
           "run2.csv",
           "C_preDLC"
          ],
          [
           "mouse27_left",
           "run2.csv",
           "C_preDLC"
          ],
          [
           "mouse27_left",
           "run3.csv",
           "C_preDLC"
          ],
          [
           "mouse27_left",
           "run3.csv",
           "C_preDLC"
          ],
          [
           "mouse27_left",
           "run3.csv",
           "C_preDLC"
          ],
          [
           "mouse27_left",
           "run3.csv",
           "C_preDLC"
          ],
          [
           "mouse27_left",
           "run3.csv",
           "C_preDLC"
          ],
          [
           "mouse27_left",
           "run4.csv",
           "C_preDLC"
          ],
          [
           "mouse27_left",
           "run4.csv",
           "C_preDLC"
          ],
          [
           "mouse27_left",
           "run6.csv",
           "C_preDLC"
          ],
          [
           "mouse27_left",
           "run6.csv",
           "C_preDLC"
          ],
          [
           "mouse28_left",
           "run1.csv",
           "C_preDLC"
          ],
          [
           "mouse28_left",
           "run1.csv",
           "C_preDLC"
          ],
          [
           "mouse28_left",
           "run1.csv",
           "C_preDLC"
          ],
          [
           "mouse28_left",
           "run1.csv",
           "C_preDLC"
          ],
          [
           "mouse28_left",
           "run1.csv",
           "C_preDLC"
          ],
          [
           "mouse28_left",
           "run3.csv",
           "C_preDLC"
          ],
          [
           "mouse28_left",
           "run3.csv",
           "C_preDLC"
          ],
          [
           "mouse28_left",
           "run3.csv",
           "C_preDLC"
          ],
          [
           "mouse28_left",
           "run3.csv",
           "C_preDLC"
          ],
          [
           "mouse28_left",
           "run3.csv",
           "C_preDLC"
          ],
          [
           "mouse29_left",
           "run1.csv",
           "C_preDLC"
          ],
          [
           "mouse29_left",
           "run1.csv",
           "C_preDLC"
          ],
          [
           "mouse29_left",
           "run1.csv",
           "C_preDLC"
          ],
          [
           "mouse29_left",
           "run1.csv",
           "C_preDLC"
          ],
          [
           "mouse29_left",
           "run2.csv",
           "C_preDLC"
          ],
          [
           "mouse29_left",
           "run2.csv",
           "C_preDLC"
          ],
          [
           "mouse29_left",
           "run2.csv",
           "C_preDLC"
          ],
          [
           "mouse29_left",
           "run5.csv",
           "C_preDLC"
          ],
          [
           "mouse29_left",
           "run5.csv",
           "C_preDLC"
          ],
          [
           "mouse29_left",
           "run5.csv",
           "C_preDLC"
          ],
          [
           "mouse29_left",
           "run5.csv",
           "C_preDLC"
          ],
          [
           "mouse29_left",
           "run5.csv",
           "C_preDLC"
          ],
          [
           "mouse30_left",
           "run1.csv",
           "C_preDLC"
          ],
          [
           "mouse30_left",
           "run1.csv",
           "C_preDLC"
          ],
          [
           "mouse30_left",
           "run1.csv",
           "C_preDLC"
          ],
          [
           "mouse30_left",
           "run1.csv",
           "C_preDLC"
          ],
          [
           "mouse30_left",
           "run3.csv",
           "C_preDLC"
          ],
          [
           "mouse30_left",
           "run3.csv",
           "C_preDLC"
          ],
          [
           "mouse30_left",
           "run3.csv",
           "C_preDLC"
          ],
          [
           "mouse30_left",
           "run3.csv",
           "C_preDLC"
          ],
          [
           "mouse30_left",
           "run5.csv",
           "C_preDLC"
          ],
          [
           "mouse30_left",
           "run5.csv",
           "C_preDLC"
          ],
          [
           "mouse30_left",
           "run5.csv",
           "C_preDLC"
          ],
          [
           "mouse30_left",
           "run7.csv",
           "C_preDLC"
          ],
          [
           "mouse30_left",
           "run7.csv",
           "C_preDLC"
          ],
          [
           "mouse30_left",
           "run7.csv",
           "C_preDLC"
          ]
         ],
         "hovertemplate": "Dataset=%{customdata[2]}<br>UMAP1=%{x}<br>UMAP2=%{y}<br>UMAP3=%{z}<br>Mouse=%{customdata[0]}<br>Run=%{customdata[1]}<extra></extra>",
         "legendgroup": "C_preDLC",
         "marker": {
          "color": "#19d3f3",
          "line": {
           "color": "DarkSlateGrey",
           "width": 1
          },
          "size": 6,
          "symbol": "circle"
         },
         "mode": "markers",
         "name": "C_preDLC",
         "scene": "scene",
         "showlegend": true,
         "type": "scatter3d",
         "x": {
          "bdata": "uh9xQYsWVUGpqBBBMMauwCrYI0GD/edAnqe8QO9c7MA4emNBm11MQb8WyMDZC2hBgmQ3QW4N+kDUoanAXCItQQE7JkEfTvJAlFfNQCZZCMGEfSxBpOcQQS75zkCiifvAuRNgQaAWQ0HX8AFBaHPswPuccEFXTj9BxdDCQHkP58BlNXFBGzlVQUxR1ED71gbBX+4kQeO/6kCyI71ApnwIwWJwZkHO/kFBYPP1QL9gpsB12TZBKfTWQEU8AsGeA1RBztAoQckGBkFoIshAt6YEwWEsREHfxQ9BIzsZQYq940DcGPbAWkZtQZtJVEFIJARBzFjIQEZv/8AmJFZBoTwsQb97GUHeJONA8Gj3wDFmW0FbKjVBzjjEQAe0B8H9clNB3LERQbAA30CRTq3AOH1CQeiw/UAzbwDB3KpxQTBmaEGObt1AVHEDwQQuXEEy6hlBkYjwQKC4u0DdGfrAszsuQcoCAkGzvNxAr/e/QKlgCcGTWlxBFOcFwfvGAkHjMMXAHb5sQduGb0G4K05BZSMJQTUF9MCF0k9B5YUOQXRe+kB5gdZA+ZcKwW0ZY0EWUhlBsL3UQDjGC8HahWpBt0kZQQVgAsFY2EFBg7MQQVUt0ECUpL1AdaQLwV3rWUHLVkBBqEwDQc89v8BZyh9B1UoDQRG6yEBrbgPBdkBpQVk1REHkH8XAJSFjQUNUTEGlev7A",
          "dtype": "f4"
         },
         "y": {
          "bdata": "sTvcQCCFAUG1NxBBx+OfQMLgi0CMMp9AyUi3QO9Wm0DhJotAX2KCQOrki0AcmqxAoOgBQdPpCEHV7p1AcvZ5QHFye0CtdZxAfh+dQBhlnEChz4RAVzSEQIqLoECzwIlArbfZQIXCB0GKegtBNjioQGmg00B+oOJAcpHSQPEwqUA4QrJAj6PAQBOoqECepYVAAMOKQHEBn0DKJ7lAcDyQQDXF5kD+pwFBvskFQaSzmkC9Z6NAjEKiQE99qUCXWXNAjp9xQFqLiUD4PqpAcmamQGkAbUAm04JA1b3FQMkutEAsqK5AQCCnQKt0vECYHgBBSUXpQDANmUDXHntA0K90QBPGxECl665AwaesQFYel0B9vMVALq67QHubcEAHAvdAUJUPQUSQA0E4Op9AbQbaQPsA/kCbsKNAgIvXQAAg50CLj+xAiyuNQA8Al0BgqsVAvw+dQAULvUBnG7BA5eyIQMunlEBATKhAzf+uQB9id0Cr8odASXxvQOFOtkDoAZ9A63OkQIvv5kAJKwdBTEEIQelijECudKlAwm2DQByX2UBtGJ1AwSZuQC6Ii0CtApRAmsC/QHX+cEAvIZlAYZ+SQLBtd0BYw2ZAFkqSQNj0m0DWwLtAqIFuQKB490AhEQtBY2EMQVcWp0D96ohAF77pQPiW60AuI5dAMTjWQJDkB0GTXJ1Acu6BQDfWtEAurIxA",
          "dtype": "f4"
         },
         "z": {
          "bdata": "bAzjQHes3UDL57NA/rmwQPPgfEAA+FpAxYhlQL72vkBph7RAqRKcQAJTvED3EcNAyLC9QJhtqECtotRA569+QN2ofUA21VxAxL5OQOJt7kAb339ASPpsQKF3XkAhCZFA0d/dQD9gykBeg6tAU8HzQHJb2kBWH71AsoqAQKvO8kDy3MtArqu9QLrVhEDFfZ9AnJaBQHOsW0ARrmdAS2XTQNg66ED70chASzWkQI+Gt0Cz2ZhAs1R6QNuQAEFcc6VABCOAQDGMakCdx2FAFGb+QOOFjkDIuWlABpaQQIapakBu5wBBHYXEQNLBwEAifaZAALaPQHNgpkArbqtA1c5+QKcrkEB/72dALiwAQclkukCMB6lAGsqDQF/VpUCZGdpAQx60QJ/om0D9XLJA+b29QJUTpUDY1vZAk6bgQJOA1UCpUqBAR5ucQMZyu0AK8JBA19tcQLvecECMCgNB5mGCQN7UYkAPDVpA3tldQGNBq0AsDZxAqfyyQNM7lUDaKN5AjEzCQFwJ1ECsI8lA8OWuQLoFlkBgQrlAJrlnQLWfjkCiiUxAt/iuQAlep0CXS49AhTSOQMzfsECdEbpAyzaNQFVEjUBIn4lAcVqIQB4KSUD6u3FA9bqxQD3q4ED9h8dAzeStQOCG4EBzwXxAJLebQFCUj0B5lbpAei3eQHPoyUDPZa5A5bKuQNLvuEATs5ZA",
          "dtype": "f4"
         }
        },
        {
         "customdata": [
          [
           "mouse31_left",
           "run1.csv",
           "D_postDLC"
          ],
          [
           "mouse31_left",
           "run1.csv",
           "D_postDLC"
          ],
          [
           "mouse31_left",
           "run1.csv",
           "D_postDLC"
          ],
          [
           "mouse31_left",
           "run1.csv",
           "D_postDLC"
          ],
          [
           "mouse31_left",
           "run3.csv",
           "D_postDLC"
          ],
          [
           "mouse31_left",
           "run3.csv",
           "D_postDLC"
          ],
          [
           "mouse31_left",
           "run3.csv",
           "D_postDLC"
          ],
          [
           "mouse31_left",
           "run3.csv",
           "D_postDLC"
          ],
          [
           "mouse31_left",
           "run4.csv",
           "D_postDLC"
          ],
          [
           "mouse31_left",
           "run4.csv",
           "D_postDLC"
          ],
          [
           "mouse31_left",
           "run4.csv",
           "D_postDLC"
          ],
          [
           "mouse31_left",
           "run4.csv",
           "D_postDLC"
          ],
          [
           "mouse31_left",
           "run4.csv",
           "D_postDLC"
          ],
          [
           "mouse32_left",
           "run1.csv",
           "D_postDLC"
          ],
          [
           "mouse32_left",
           "run1.csv",
           "D_postDLC"
          ],
          [
           "mouse32_left",
           "run1.csv",
           "D_postDLC"
          ],
          [
           "mouse32_left",
           "run3.csv",
           "D_postDLC"
          ],
          [
           "mouse32_left",
           "run3.csv",
           "D_postDLC"
          ],
          [
           "mouse32_left",
           "run3.csv",
           "D_postDLC"
          ],
          [
           "mouse32_left",
           "run3.csv",
           "D_postDLC"
          ],
          [
           "mouse32_left",
           "run4.csv",
           "D_postDLC"
          ],
          [
           "mouse32_left",
           "run4.csv",
           "D_postDLC"
          ],
          [
           "mouse32_left",
           "run4.csv",
           "D_postDLC"
          ],
          [
           "mouse32_left",
           "run4.csv",
           "D_postDLC"
          ],
          [
           "mouse32_left",
           "run4.csv",
           "D_postDLC"
          ],
          [
           "mouse33_left",
           "run1.csv",
           "D_postDLC"
          ],
          [
           "mouse33_left",
           "run1.csv",
           "D_postDLC"
          ],
          [
           "mouse33_left",
           "run1.csv",
           "D_postDLC"
          ],
          [
           "mouse33_left",
           "run3.csv",
           "D_postDLC"
          ],
          [
           "mouse33_left",
           "run3.csv",
           "D_postDLC"
          ],
          [
           "mouse33_left",
           "run3.csv",
           "D_postDLC"
          ],
          [
           "mouse33_left",
           "run3.csv",
           "D_postDLC"
          ],
          [
           "mouse33_left",
           "run5.csv",
           "D_postDLC"
          ],
          [
           "mouse33_left",
           "run5.csv",
           "D_postDLC"
          ],
          [
           "mouse33_left",
           "run5.csv",
           "D_postDLC"
          ],
          [
           "mouse33_left",
           "run5.csv",
           "D_postDLC"
          ],
          [
           "mouse34_left",
           "run1.csv",
           "D_postDLC"
          ],
          [
           "mouse34_left",
           "run1.csv",
           "D_postDLC"
          ],
          [
           "mouse34_left",
           "run1.csv",
           "D_postDLC"
          ],
          [
           "mouse34_left",
           "run1.csv",
           "D_postDLC"
          ],
          [
           "mouse34_left",
           "run3.csv",
           "D_postDLC"
          ],
          [
           "mouse34_left",
           "run3.csv",
           "D_postDLC"
          ],
          [
           "mouse34_left",
           "run3.csv",
           "D_postDLC"
          ],
          [
           "mouse34_left",
           "run3.csv",
           "D_postDLC"
          ],
          [
           "mouse34_left",
           "run5.csv",
           "D_postDLC"
          ],
          [
           "mouse34_left",
           "run5.csv",
           "D_postDLC"
          ],
          [
           "mouse34_left",
           "run5.csv",
           "D_postDLC"
          ],
          [
           "mouse34_left",
           "run5.csv",
           "D_postDLC"
          ],
          [
           "mouse34_left",
           "run5.csv",
           "D_postDLC"
          ],
          [
           "mouse34_left",
           "run5.csv",
           "D_postDLC"
          ],
          [
           "mouse35_left",
           "run1.csv",
           "D_postDLC"
          ],
          [
           "mouse35_left",
           "run1.csv",
           "D_postDLC"
          ],
          [
           "mouse35_left",
           "run1.csv",
           "D_postDLC"
          ],
          [
           "mouse35_left",
           "run1.csv",
           "D_postDLC"
          ],
          [
           "mouse35_left",
           "run3.csv",
           "D_postDLC"
          ],
          [
           "mouse35_left",
           "run3.csv",
           "D_postDLC"
          ],
          [
           "mouse35_left",
           "run3.csv",
           "D_postDLC"
          ],
          [
           "mouse35_left",
           "run3.csv",
           "D_postDLC"
          ],
          [
           "mouse35_left",
           "run3.csv",
           "D_postDLC"
          ],
          [
           "mouse35_left",
           "run6.csv",
           "D_postDLC"
          ],
          [
           "mouse35_left",
           "run6.csv",
           "D_postDLC"
          ],
          [
           "mouse35_left",
           "run6.csv",
           "D_postDLC"
          ],
          [
           "mouse35_left",
           "run6.csv",
           "D_postDLC"
          ],
          [
           "mouse36_left",
           "run1.csv",
           "D_postDLC"
          ],
          [
           "mouse36_left",
           "run1.csv",
           "D_postDLC"
          ],
          [
           "mouse36_left",
           "run1.csv",
           "D_postDLC"
          ],
          [
           "mouse36_left",
           "run1.csv",
           "D_postDLC"
          ],
          [
           "mouse36_left",
           "run3.csv",
           "D_postDLC"
          ],
          [
           "mouse36_left",
           "run3.csv",
           "D_postDLC"
          ],
          [
           "mouse36_left",
           "run3.csv",
           "D_postDLC"
          ],
          [
           "mouse36_left",
           "run3.csv",
           "D_postDLC"
          ],
          [
           "mouse36_left",
           "run4.csv",
           "D_postDLC"
          ],
          [
           "mouse36_left",
           "run4.csv",
           "D_postDLC"
          ],
          [
           "mouse36_left",
           "run4.csv",
           "D_postDLC"
          ],
          [
           "mouse36_left",
           "run4.csv",
           "D_postDLC"
          ],
          [
           "mouse37_left",
           "run1.csv",
           "D_postDLC"
          ],
          [
           "mouse37_left",
           "run1.csv",
           "D_postDLC"
          ],
          [
           "mouse37_left",
           "run1.csv",
           "D_postDLC"
          ],
          [
           "mouse37_left",
           "run1.csv",
           "D_postDLC"
          ],
          [
           "mouse37_left",
           "run3.csv",
           "D_postDLC"
          ],
          [
           "mouse37_left",
           "run3.csv",
           "D_postDLC"
          ],
          [
           "mouse37_left",
           "run3.csv",
           "D_postDLC"
          ],
          [
           "mouse37_left",
           "run5.csv",
           "D_postDLC"
          ],
          [
           "mouse37_left",
           "run5.csv",
           "D_postDLC"
          ],
          [
           "mouse37_left",
           "run5.csv",
           "D_postDLC"
          ],
          [
           "mouse38_left",
           "run1.csv",
           "D_postDLC"
          ],
          [
           "mouse38_left",
           "run1.csv",
           "D_postDLC"
          ],
          [
           "mouse38_left",
           "run1.csv",
           "D_postDLC"
          ],
          [
           "mouse38_left",
           "run1.csv",
           "D_postDLC"
          ],
          [
           "mouse38_left",
           "run3.csv",
           "D_postDLC"
          ],
          [
           "mouse38_left",
           "run3.csv",
           "D_postDLC"
          ],
          [
           "mouse38_left",
           "run3.csv",
           "D_postDLC"
          ],
          [
           "mouse38_left",
           "run7.csv",
           "D_postDLC"
          ],
          [
           "mouse38_left",
           "run7.csv",
           "D_postDLC"
          ],
          [
           "mouse39_left",
           "run1.csv",
           "D_postDLC"
          ],
          [
           "mouse39_left",
           "run1.csv",
           "D_postDLC"
          ],
          [
           "mouse39_left",
           "run1.csv",
           "D_postDLC"
          ],
          [
           "mouse39_left",
           "run1.csv",
           "D_postDLC"
          ],
          [
           "mouse39_left",
           "run2.csv",
           "D_postDLC"
          ],
          [
           "mouse39_left",
           "run2.csv",
           "D_postDLC"
          ],
          [
           "mouse39_left",
           "run2.csv",
           "D_postDLC"
          ],
          [
           "mouse39_left",
           "run2.csv",
           "D_postDLC"
          ],
          [
           "mouse39_left",
           "run4.csv",
           "D_postDLC"
          ],
          [
           "mouse39_left",
           "run4.csv",
           "D_postDLC"
          ],
          [
           "mouse39_left",
           "run4.csv",
           "D_postDLC"
          ],
          [
           "mouse39_left",
           "run4.csv",
           "D_postDLC"
          ],
          [
           "mouse39_left",
           "run6.csv",
           "D_postDLC"
          ],
          [
           "mouse39_left",
           "run6.csv",
           "D_postDLC"
          ],
          [
           "mouse39_left",
           "run6.csv",
           "D_postDLC"
          ],
          [
           "mouse39_left",
           "run6.csv",
           "D_postDLC"
          ],
          [
           "mouse40_left",
           "run1.csv",
           "D_postDLC"
          ],
          [
           "mouse40_left",
           "run1.csv",
           "D_postDLC"
          ],
          [
           "mouse40_left",
           "run1.csv",
           "D_postDLC"
          ],
          [
           "mouse40_left",
           "run3.csv",
           "D_postDLC"
          ],
          [
           "mouse40_left",
           "run3.csv",
           "D_postDLC"
          ],
          [
           "mouse40_left",
           "run3.csv",
           "D_postDLC"
          ],
          [
           "mouse40_left",
           "run3.csv",
           "D_postDLC"
          ],
          [
           "mouse40_left",
           "run5.csv",
           "D_postDLC"
          ],
          [
           "mouse40_left",
           "run5.csv",
           "D_postDLC"
          ],
          [
           "mouse40_left",
           "run5.csv",
           "D_postDLC"
          ],
          [
           "mouse40_left",
           "run5.csv",
           "D_postDLC"
          ]
         ],
         "hovertemplate": "Dataset=%{customdata[2]}<br>UMAP1=%{x}<br>UMAP2=%{y}<br>UMAP3=%{z}<br>Mouse=%{customdata[0]}<br>Run=%{customdata[1]}<extra></extra>",
         "legendgroup": "D_postDLC",
         "marker": {
          "color": "#FF6692",
          "line": {
           "color": "DarkSlateGrey",
           "width": 1
          },
          "size": 6,
          "symbol": "circle"
         },
         "mode": "markers",
         "name": "D_postDLC",
         "scene": "scene",
         "showlegend": true,
         "type": "scatter3d",
         "x": {
          "bdata": "eAtwQZ8uOkEwdORAyfC+wMM0NEGt1kRBBO/UQLTpCcF1ZCtBIUUiQecd9UCevcdAsqkEwd3eYkHXIDNBm5OzwI1gYUH0GkdBHAIYQSlc/MBpc2dBluNjQcFNO0G+6P5AIzzDwKhvYUHZZiNB3Za7wErIVkHwRzdBt57RQO1198D2rmlBG2gpQXL720DtFAfBS99pQX8CIkFUUtZAF6DLwAo4aUFG7SVBKsQFQUqWCMEL6S9Bg6FIQWHoKEFAIBFB0wHgQEYeA8GlOmdBg6oeQZsW2UDf1/zA8O5tQee5WEFQ7ARB333lQOB2tMBVWEBBoJXeQPr6x0Dz/bzA+7dmQWz7SEEPCwxByUubwGFdaEGUE1FBkOXPQP7j/8DZU2lBHMowQUGxv0C5xAnB37dvQTlMTEErTBlBpC3AwPHcYEHIPuNAirMHwWrgVUFkPe1ARQPTwM4sb0G0tlBBGxcGQdyDxcCiGGZBwslDQWfq8MB3INZAdZkIwfmzaEHFFiRBPxrOQLuj+8B9/lZBjjIkQTjpyUBNA+nAekxfQdkiNEGpw8tA0LUBwU0iNEG4YUlB+3b8QG4RAcEvC1FBmFTqQFbDBsFE+FVBMkYYQXEa30CqAAnBm6VBQcFLDkGnCNFA7OwIwQ==",
          "dtype": "f4"
         },
         "y": {
          "bdata": "rPXKQLRABkEZ7/lAbrqnQHipZ0BJl9VA6U+kQCbSckBz4INAVUyMQNnsnEBuYNZAANejQLRvAUG/zAdBLfugQIBoiUA98dtAGlgMQXJ3jEC4DNRA0GfeQMYu9UCrkAhBJfuoQLwxAEHoMAhBGTGfQN7sukByNuNASP7vQIVHpkA7cbFARJ6NQA4gwEBWwJBAO4j4QNFoBUHaQvRABlqbQOSTp0DRd4dAhgi7QA5lm0CGom9ArXGBQKHubUAyN5JAGVWvQAutdkCk+P9AMcAIQWwa9kCw3ZlA7VadQOPyv0DGgJFA1zTzQGc2n0DG79VA0zq2QNPN2ED2wp1Ae8D/QO/fDUG9ZQtB/5ygQFOyqkAYMtVA3lfUQK0wkEAxsKxACpvHQLExtECNSoRAc0bfQObVCkHP1ApBTZWlQGvLAUEQftJA5N6dQPorg0B5v8hAztylQNjy50A8lwdBjmYEQc6ApECtZ45AdpLfQCDHhkBoYcZAUM6YQPLC+0D+ZgdB3ffoQOMnmkCAYb5AxCbdQId2skB7qKpAW6yLQIbYsEA8E51AmoCQQFxEaUA+bIJARwa6QKFqlkBuYfZAGE/6QLFVlUD0zIVA182TQPGgzUB0FpVAg21mQKVJkUBGuZpAIfF+QA==",
          "dtype": "f4"
         },
         "z": {
          "bdata": "V3HWQCYrwEDFzKlAmpPeQEn8gUCA0b9A7oWAQASAr0ChYH1AZS16QAYdX0Cqr4BA1OT5QL1v40Cjg71AtZKvQOY/rUBc+cNAqyK0QMAbkkD2U95AryXjQL3FvUAQDKhAgJHjQAzD5ECyjrdAm/qxQDobwECUE7ZA4FmZQMBi9kCeecZARluEQLC6fUB4u6tAaN7WQCJOtUABkZ9A6s6yQP6WwUCMRXtAQ0eSQPZO7UCD7YBAEM6VQIT3gEBCEoVAw4NlQCkhj0BxRtpAXLm1QJuEoUBv/7VAxZC/QHXKxEA6Z4BAHwaqQEQT2ECwe7pAy/5wQLo1gkBAHs9AQcbeQNK1zkAA9bBA7DPAQE+2wkARkcFApXyDQHoQlkCAGMRANIGmQHNTZUAub8VASh7lQDhE0UAo57RAJ3TfQP7F4UDW659A3bXvQCgZk0D+c5tAW+fpQAuA0UAVFspAZfuuQBmY4kD9l7JAipm3QKEmk0AE6ZFAFFzpQKCU1UBHFLhA7nOVQIuNsEALY8JAIvKoQGMEhUAl//ZAnIWzQHLgnUDkX05ArT6YQOsygkBELJhACNiUQCEXoUBZLdRAHCenQNyOyED4ha9AOruPQBEMnUChYdxAXcqJQK6FhECtuEtAOJimQA==",
          "dtype": "f4"
         }
        },
        {
         "customdata": [
          [
           "mouse31_left",
           "run1.csv",
           "D_preDLC"
          ],
          [
           "mouse31_left",
           "run1.csv",
           "D_preDLC"
          ],
          [
           "mouse31_left",
           "run1.csv",
           "D_preDLC"
          ],
          [
           "mouse31_left",
           "run1.csv",
           "D_preDLC"
          ],
          [
           "mouse31_left",
           "run3.csv",
           "D_preDLC"
          ],
          [
           "mouse31_left",
           "run3.csv",
           "D_preDLC"
          ],
          [
           "mouse31_left",
           "run3.csv",
           "D_preDLC"
          ],
          [
           "mouse31_left",
           "run3.csv",
           "D_preDLC"
          ],
          [
           "mouse31_left",
           "run3.csv",
           "D_preDLC"
          ],
          [
           "mouse31_left",
           "run5.csv",
           "D_preDLC"
          ],
          [
           "mouse31_left",
           "run5.csv",
           "D_preDLC"
          ],
          [
           "mouse31_left",
           "run5.csv",
           "D_preDLC"
          ],
          [
           "mouse31_left",
           "run6.csv",
           "D_preDLC"
          ],
          [
           "mouse31_left",
           "run6.csv",
           "D_preDLC"
          ],
          [
           "mouse32_left",
           "run1.csv",
           "D_preDLC"
          ],
          [
           "mouse32_left",
           "run1.csv",
           "D_preDLC"
          ],
          [
           "mouse32_left",
           "run1.csv",
           "D_preDLC"
          ],
          [
           "mouse32_left",
           "run3.csv",
           "D_preDLC"
          ],
          [
           "mouse32_left",
           "run3.csv",
           "D_preDLC"
          ],
          [
           "mouse32_left",
           "run3.csv",
           "D_preDLC"
          ],
          [
           "mouse32_left",
           "run6.csv",
           "D_preDLC"
          ],
          [
           "mouse32_left",
           "run6.csv",
           "D_preDLC"
          ],
          [
           "mouse33_left",
           "run1.csv",
           "D_preDLC"
          ],
          [
           "mouse33_left",
           "run1.csv",
           "D_preDLC"
          ],
          [
           "mouse33_left",
           "run1.csv",
           "D_preDLC"
          ],
          [
           "mouse33_left",
           "run4.csv",
           "D_preDLC"
          ],
          [
           "mouse33_left",
           "run4.csv",
           "D_preDLC"
          ],
          [
           "mouse33_left",
           "run4.csv",
           "D_preDLC"
          ],
          [
           "mouse33_left",
           "run4.csv",
           "D_preDLC"
          ],
          [
           "mouse34_left",
           "run2.csv",
           "D_preDLC"
          ],
          [
           "mouse34_left",
           "run2.csv",
           "D_preDLC"
          ],
          [
           "mouse34_left",
           "run2.csv",
           "D_preDLC"
          ],
          [
           "mouse34_left",
           "run3.csv",
           "D_preDLC"
          ],
          [
           "mouse34_left",
           "run3.csv",
           "D_preDLC"
          ],
          [
           "mouse34_left",
           "run3.csv",
           "D_preDLC"
          ],
          [
           "mouse34_left",
           "run4.csv",
           "D_preDLC"
          ],
          [
           "mouse34_left",
           "run4.csv",
           "D_preDLC"
          ],
          [
           "mouse35_left",
           "run1.csv",
           "D_preDLC"
          ],
          [
           "mouse35_left",
           "run1.csv",
           "D_preDLC"
          ],
          [
           "mouse35_left",
           "run1.csv",
           "D_preDLC"
          ],
          [
           "mouse35_left",
           "run1.csv",
           "D_preDLC"
          ],
          [
           "mouse35_left",
           "run1.csv",
           "D_preDLC"
          ],
          [
           "mouse35_left",
           "run5.csv",
           "D_preDLC"
          ],
          [
           "mouse35_left",
           "run5.csv",
           "D_preDLC"
          ],
          [
           "mouse35_left",
           "run5.csv",
           "D_preDLC"
          ],
          [
           "mouse35_left",
           "run5.csv",
           "D_preDLC"
          ],
          [
           "mouse35_left",
           "run5.csv",
           "D_preDLC"
          ],
          [
           "mouse36_left",
           "run1.csv",
           "D_preDLC"
          ],
          [
           "mouse36_left",
           "run1.csv",
           "D_preDLC"
          ],
          [
           "mouse36_left",
           "run1.csv",
           "D_preDLC"
          ],
          [
           "mouse36_left",
           "run1.csv",
           "D_preDLC"
          ],
          [
           "mouse36_left",
           "run2.csv",
           "D_preDLC"
          ],
          [
           "mouse36_left",
           "run2.csv",
           "D_preDLC"
          ],
          [
           "mouse36_left",
           "run2.csv",
           "D_preDLC"
          ],
          [
           "mouse36_left",
           "run2.csv",
           "D_preDLC"
          ],
          [
           "mouse36_left",
           "run3.csv",
           "D_preDLC"
          ],
          [
           "mouse36_left",
           "run3.csv",
           "D_preDLC"
          ],
          [
           "mouse36_left",
           "run3.csv",
           "D_preDLC"
          ],
          [
           "mouse36_left",
           "run3.csv",
           "D_preDLC"
          ],
          [
           "mouse36_left",
           "run3.csv",
           "D_preDLC"
          ],
          [
           "mouse37_left",
           "run2.csv",
           "D_preDLC"
          ],
          [
           "mouse37_left",
           "run2.csv",
           "D_preDLC"
          ],
          [
           "mouse37_left",
           "run4.csv",
           "D_preDLC"
          ],
          [
           "mouse37_left",
           "run4.csv",
           "D_preDLC"
          ],
          [
           "mouse37_left",
           "run4.csv",
           "D_preDLC"
          ],
          [
           "mouse37_left",
           "run6.csv",
           "D_preDLC"
          ],
          [
           "mouse37_left",
           "run6.csv",
           "D_preDLC"
          ],
          [
           "mouse38_left",
           "run1.csv",
           "D_preDLC"
          ],
          [
           "mouse38_left",
           "run1.csv",
           "D_preDLC"
          ],
          [
           "mouse38_left",
           "run1.csv",
           "D_preDLC"
          ],
          [
           "mouse38_left",
           "run1.csv",
           "D_preDLC"
          ],
          [
           "mouse38_left",
           "run3.csv",
           "D_preDLC"
          ],
          [
           "mouse38_left",
           "run3.csv",
           "D_preDLC"
          ],
          [
           "mouse38_left",
           "run3.csv",
           "D_preDLC"
          ],
          [
           "mouse39_left",
           "run1.csv",
           "D_preDLC"
          ],
          [
           "mouse39_left",
           "run1.csv",
           "D_preDLC"
          ],
          [
           "mouse39_left",
           "run1.csv",
           "D_preDLC"
          ],
          [
           "mouse39_left",
           "run3.csv",
           "D_preDLC"
          ],
          [
           "mouse39_left",
           "run3.csv",
           "D_preDLC"
          ],
          [
           "mouse39_left",
           "run3.csv",
           "D_preDLC"
          ],
          [
           "mouse39_left",
           "run3.csv",
           "D_preDLC"
          ],
          [
           "mouse39_left",
           "run5.csv",
           "D_preDLC"
          ],
          [
           "mouse39_left",
           "run5.csv",
           "D_preDLC"
          ],
          [
           "mouse39_left",
           "run5.csv",
           "D_preDLC"
          ],
          [
           "mouse39_left",
           "run5.csv",
           "D_preDLC"
          ],
          [
           "mouse40_left",
           "run3.csv",
           "D_preDLC"
          ],
          [
           "mouse40_left",
           "run3.csv",
           "D_preDLC"
          ],
          [
           "mouse40_left",
           "run3.csv",
           "D_preDLC"
          ],
          [
           "mouse40_left",
           "run3.csv",
           "D_preDLC"
          ],
          [
           "mouse40_left",
           "run3.csv",
           "D_preDLC"
          ],
          [
           "mouse40_left",
           "run3.csv",
           "D_preDLC"
          ],
          [
           "mouse40_left",
           "run4.csv",
           "D_preDLC"
          ],
          [
           "mouse40_left",
           "run4.csv",
           "D_preDLC"
          ],
          [
           "mouse40_left",
           "run4.csv",
           "D_preDLC"
          ],
          [
           "mouse40_left",
           "run4.csv",
           "D_preDLC"
          ],
          [
           "mouse40_left",
           "run4.csv",
           "D_preDLC"
          ],
          [
           "mouse40_left",
           "run6.csv",
           "D_preDLC"
          ],
          [
           "mouse40_left",
           "run6.csv",
           "D_preDLC"
          ],
          [
           "mouse40_left",
           "run6.csv",
           "D_preDLC"
          ],
          [
           "mouse42_left",
           "run1.csv",
           "D_preDLC"
          ],
          [
           "mouse42_left",
           "run1.csv",
           "D_preDLC"
          ],
          [
           "mouse42_left",
           "run1.csv",
           "D_preDLC"
          ],
          [
           "mouse42_left",
           "run1.csv",
           "D_preDLC"
          ],
          [
           "mouse42_left",
           "run3.csv",
           "D_preDLC"
          ],
          [
           "mouse42_left",
           "run3.csv",
           "D_preDLC"
          ],
          [
           "mouse42_left",
           "run3.csv",
           "D_preDLC"
          ],
          [
           "mouse42_left",
           "run3.csv",
           "D_preDLC"
          ],
          [
           "mouse42_left",
           "run3.csv",
           "D_preDLC"
          ],
          [
           "mouse42_left",
           "run6.csv",
           "D_preDLC"
          ],
          [
           "mouse42_left",
           "run6.csv",
           "D_preDLC"
          ],
          [
           "mouse42_left",
           "run6.csv",
           "D_preDLC"
          ],
          [
           "mouse42_left",
           "run6.csv",
           "D_preDLC"
          ],
          [
           "mouse50_left",
           "run1.csv",
           "D_preDLC"
          ],
          [
           "mouse50_left",
           "run1.csv",
           "D_preDLC"
          ],
          [
           "mouse50_left",
           "run1.csv",
           "D_preDLC"
          ],
          [
           "mouse50_left",
           "run1.csv",
           "D_preDLC"
          ],
          [
           "mouse50_left",
           "run2.csv",
           "D_preDLC"
          ],
          [
           "mouse50_left",
           "run2.csv",
           "D_preDLC"
          ],
          [
           "mouse50_left",
           "run2.csv",
           "D_preDLC"
          ],
          [
           "mouse50_left",
           "run2.csv",
           "D_preDLC"
          ],
          [
           "mouse50_left",
           "run2.csv",
           "D_preDLC"
          ],
          [
           "mouse50_left",
           "run4.csv",
           "D_preDLC"
          ],
          [
           "mouse50_left",
           "run4.csv",
           "D_preDLC"
          ],
          [
           "mouse50_left",
           "run4.csv",
           "D_preDLC"
          ],
          [
           "mouse50_left",
           "run4.csv",
           "D_preDLC"
          ]
         ],
         "hovertemplate": "Dataset=%{customdata[2]}<br>UMAP1=%{x}<br>UMAP2=%{y}<br>UMAP3=%{z}<br>Mouse=%{customdata[0]}<br>Run=%{customdata[1]}<extra></extra>",
         "legendgroup": "D_preDLC",
         "marker": {
          "color": "#B6E880",
          "line": {
           "color": "DarkSlateGrey",
           "width": 1
          },
          "size": 6,
          "symbol": "circle"
         },
         "mode": "markers",
         "name": "D_preDLC",
         "scene": "scene",
         "showlegend": true,
         "type": "scatter3d",
         "x": {
          "bdata": "EydwQcZ3XEGGKeFA+hoHwXj+VkEiXyRBj9IVQUI84UA9PwXBZ9ZfQQd24ECD7QnBc7wCQUUG+8AyhGBB3fcVQbIwuMDh2FdBMqAnQdVm/cBDcd9AubgJwb5FbEFz2MxAnBivwNOpUkGWTQpBbRDPQMRSCsHxBFRBvJ31QFriCMHqGtJAVrLUQCub6EBrgt1AUVcIwclZVkEgZyxB4xQSQZSO0UDkpAHBAJZXQQQyV0EjwQZBSyLUQE3gAsGAZXNBQoNMQTm7/0ASEZrAjJFhQfRCBUGxV9ZAhrYAwaLuaEGlIClBIzzfQF9Iw0DPuQHB2bcpQbCC/sAygV5Bcp0YQW2pB8EVOBdBBCUAwZVIcEEe90tBBRvlQCx1tsB84HNBLhxNQV6H78C1AG5BDCYgQb+qzsDnPkdBQ1cRQWhSvUA4GgrBRgBjQSE3PEH3P9dAmpvgwHNrX0GML1FBT5kZQZdMKUFg09VANR4HwRpGQkG4MSlBRcgGQTlQxEBe7eDAYrBWQezdKEGTxK3Ali9tQWFSJEEIQOFAHkbywKT1SEEK7jdBc5EVQci8w0CVGAnBDrxVQSuiQEFVowRBbc4AweJqZ0GFA0VBzOT8QF3Fj8C9+UBBEWRMQZyF30DVb8dAB+EJwZlnVUH5WgpB480BQQGjAcE=",
          "dtype": "f4"
         },
         "y": {
          "bdata": "mDa6QI5NAkE+afBAPcSRQGX6fkAjP4tAsTPBQExZpEAxrpZAJjsCQYKLzkAYP5dANirmQPYor0AwXAJBtdkKQcUNokDPPIJA3oTbQKIFq0CKy6JAD4yGQLlg6EAxOfBA6LigQJcAaUDnQZJAlMuaQMzgbkBQ4sVA597FQCDWm0DO7aJAWn2iQEh90kBOyaRAdHCUQNLYdUAtb4hA9d6WQIHrn0Ajs4tA9HJtQLqtfEB3gZNARoClQG3IlEB5ANxAISYDQbRCCkED551AXIV/QBKmikDMZdRAIG5+QEnQo0AbjcRAsMPcQJFT0UDUYatA0PnnQPaqlUCdf5xAf47ZQME/lEAJhppAIqyYQHwN5kDTygVB1MP4QFq9pUBBo9dA5gQJQesihEDslutAwd0HQasemkAvEmFAxmyWQNyCvEDJqWtAhtd4QOMJtkAIc9BA2EmmQGV/c0A2y61AfUbZQG4t3UAxIfFAiO6SQEeIekAibHFASwTUQOQkpEDtV6pAqbO6QD473UAQqJ1AtDXuQFKS4ED1DgFBDj+HQHtoYkBRA2ZApbKVQHLzpkB3ZYVA/WB9QKRPiUDXWJBATjJ9QISO80DLbwtBc54JQXWvnUBG325AEk2xQO0/oUDb2OZAqSCCQJ3hhkCHW4dADjfVQB/whUA=",
          "dtype": "f4"
         },
         "z": {
          "bdata": "ijPLQKq5zkBw46ZAH4uuQCDcrEApmHhASLeMQBVnWEBI/cVALyDQQIcqnkCRPOVAYv6cQCOYAkGfJ+RANGizQOO42kD7ZZVAYaapQKIoAEHcMoNAhpbKQETL00BSQpRA4HmwQOuil0AWy4RAvktLQI9SrUA2pr9ADuGXQM9O7ECYDoBA/xJ/QIy1n0CN34VAfQHRQAEyqkDLN4BAJyOLQABaZECZGpRAsZqjQPO7lEASgYNAL+qCQKu3o0AO3uJA4a/SQI6fqkAcpMtAM2ioQJthbECzFYxAzkiJQMRXwEDsaZ9A+QaLQPi3e0CU0wFBiXyuQKQcnEA5zr1AtqijQLyb3EDurI9Ao6ShQMol0EBam8dA07urQCwu00CNBN5AZOHGQCUWkUBOUdBA1jq1QCB8rUAL4YtALQeKQMSFcUAwMbBAAjGqQAZSo0C6rZVAXdrjQP5OrECz/LxAbi2dQDPQqkDzAZJAoL2wQB32kEDoyX9AOcaRQOeAV0AM//JA6MC+QDK3qkDzwtVAUEXOQJhDqkDZ35tAcFeTQKodjkCZ4INAFwiQQCRYXEBJsrFAqq2rQCXKk0A4JHxAM1mJQAVI6EBaqMlA0lytQF2owUAZhIxAEF+3QE1OfEA+9o1AGZvBQMOMrUCpjGdADzGQQIdvjkA=",
          "dtype": "f4"
         }
        },
        {
         "customdata": [
          [
           "mouse41_left",
           "run1.csv",
           "E_postDLC"
          ],
          [
           "mouse41_left",
           "run1.csv",
           "E_postDLC"
          ],
          [
           "mouse41_left",
           "run1.csv",
           "E_postDLC"
          ],
          [
           "mouse41_left",
           "run1.csv",
           "E_postDLC"
          ],
          [
           "mouse41_left",
           "run4.csv",
           "E_postDLC"
          ],
          [
           "mouse41_left",
           "run4.csv",
           "E_postDLC"
          ],
          [
           "mouse41_left",
           "run4.csv",
           "E_postDLC"
          ],
          [
           "mouse41_left",
           "run4.csv",
           "E_postDLC"
          ],
          [
           "mouse41_left",
           "run4.csv",
           "E_postDLC"
          ],
          [
           "mouse41_left",
           "run6.csv",
           "E_postDLC"
          ],
          [
           "mouse41_left",
           "run6.csv",
           "E_postDLC"
          ],
          [
           "mouse41_left",
           "run6.csv",
           "E_postDLC"
          ],
          [
           "mouse41_left",
           "run6.csv",
           "E_postDLC"
          ],
          [
           "mouse42_left",
           "run1.csv",
           "E_postDLC"
          ],
          [
           "mouse42_left",
           "run1.csv",
           "E_postDLC"
          ],
          [
           "mouse42_left",
           "run1.csv",
           "E_postDLC"
          ],
          [
           "mouse42_left",
           "run1.csv",
           "E_postDLC"
          ],
          [
           "mouse42_left",
           "run1.csv",
           "E_postDLC"
          ],
          [
           "mouse42_left",
           "run4.csv",
           "E_postDLC"
          ],
          [
           "mouse42_left",
           "run4.csv",
           "E_postDLC"
          ],
          [
           "mouse42_left",
           "run4.csv",
           "E_postDLC"
          ],
          [
           "mouse42_left",
           "run4.csv",
           "E_postDLC"
          ],
          [
           "mouse42_left",
           "run4.csv",
           "E_postDLC"
          ],
          [
           "mouse42_left",
           "run7.csv",
           "E_postDLC"
          ],
          [
           "mouse42_left",
           "run7.csv",
           "E_postDLC"
          ],
          [
           "mouse42_left",
           "run7.csv",
           "E_postDLC"
          ],
          [
           "mouse42_left",
           "run7.csv",
           "E_postDLC"
          ],
          [
           "mouse43_left",
           "run1.csv",
           "E_postDLC"
          ],
          [
           "mouse43_left",
           "run1.csv",
           "E_postDLC"
          ],
          [
           "mouse43_left",
           "run1.csv",
           "E_postDLC"
          ],
          [
           "mouse43_left",
           "run1.csv",
           "E_postDLC"
          ],
          [
           "mouse43_left",
           "run4.csv",
           "E_postDLC"
          ],
          [
           "mouse43_left",
           "run4.csv",
           "E_postDLC"
          ],
          [
           "mouse43_left",
           "run4.csv",
           "E_postDLC"
          ],
          [
           "mouse43_left",
           "run4.csv",
           "E_postDLC"
          ],
          [
           "mouse43_left",
           "run5.csv",
           "E_postDLC"
          ],
          [
           "mouse43_left",
           "run5.csv",
           "E_postDLC"
          ],
          [
           "mouse43_left",
           "run5.csv",
           "E_postDLC"
          ],
          [
           "mouse44_left",
           "run1.csv",
           "E_postDLC"
          ],
          [
           "mouse44_left",
           "run1.csv",
           "E_postDLC"
          ],
          [
           "mouse44_left",
           "run1.csv",
           "E_postDLC"
          ],
          [
           "mouse44_left",
           "run1.csv",
           "E_postDLC"
          ],
          [
           "mouse44_left",
           "run3.csv",
           "E_postDLC"
          ],
          [
           "mouse44_left",
           "run3.csv",
           "E_postDLC"
          ],
          [
           "mouse44_left",
           "run3.csv",
           "E_postDLC"
          ],
          [
           "mouse44_left",
           "run3.csv",
           "E_postDLC"
          ],
          [
           "mouse44_left",
           "run3.csv",
           "E_postDLC"
          ],
          [
           "mouse44_left",
           "run7.csv",
           "E_postDLC"
          ],
          [
           "mouse44_left",
           "run7.csv",
           "E_postDLC"
          ],
          [
           "mouse44_left",
           "run7.csv",
           "E_postDLC"
          ],
          [
           "mouse44_left",
           "run7.csv",
           "E_postDLC"
          ],
          [
           "mouse44_left",
           "run7.csv",
           "E_postDLC"
          ],
          [
           "mouse45_left",
           "run1.csv",
           "E_postDLC"
          ],
          [
           "mouse45_left",
           "run1.csv",
           "E_postDLC"
          ],
          [
           "mouse45_left",
           "run1.csv",
           "E_postDLC"
          ],
          [
           "mouse45_left",
           "run1.csv",
           "E_postDLC"
          ],
          [
           "mouse45_left",
           "run2.csv",
           "E_postDLC"
          ],
          [
           "mouse45_left",
           "run2.csv",
           "E_postDLC"
          ],
          [
           "mouse45_left",
           "run2.csv",
           "E_postDLC"
          ],
          [
           "mouse45_left",
           "run2.csv",
           "E_postDLC"
          ],
          [
           "mouse45_left",
           "run2.csv",
           "E_postDLC"
          ],
          [
           "mouse45_left",
           "run2.csv",
           "E_postDLC"
          ],
          [
           "mouse45_left",
           "run5.csv",
           "E_postDLC"
          ],
          [
           "mouse45_left",
           "run5.csv",
           "E_postDLC"
          ],
          [
           "mouse45_left",
           "run5.csv",
           "E_postDLC"
          ],
          [
           "mouse45_left",
           "run5.csv",
           "E_postDLC"
          ],
          [
           "mouse46_left",
           "run1.csv",
           "E_postDLC"
          ],
          [
           "mouse46_left",
           "run1.csv",
           "E_postDLC"
          ],
          [
           "mouse46_left",
           "run1.csv",
           "E_postDLC"
          ],
          [
           "mouse46_left",
           "run1.csv",
           "E_postDLC"
          ],
          [
           "mouse46_left",
           "run3.csv",
           "E_postDLC"
          ],
          [
           "mouse46_left",
           "run3.csv",
           "E_postDLC"
          ],
          [
           "mouse46_left",
           "run3.csv",
           "E_postDLC"
          ],
          [
           "mouse46_left",
           "run3.csv",
           "E_postDLC"
          ],
          [
           "mouse46_left",
           "run5.csv",
           "E_postDLC"
          ],
          [
           "mouse46_left",
           "run5.csv",
           "E_postDLC"
          ],
          [
           "mouse46_left",
           "run5.csv",
           "E_postDLC"
          ],
          [
           "mouse46_left",
           "run5.csv",
           "E_postDLC"
          ],
          [
           "mouse47_left",
           "run1.csv",
           "E_postDLC"
          ],
          [
           "mouse47_left",
           "run1.csv",
           "E_postDLC"
          ],
          [
           "mouse47_left",
           "run1.csv",
           "E_postDLC"
          ],
          [
           "mouse47_left",
           "run3.csv",
           "E_postDLC"
          ],
          [
           "mouse47_left",
           "run3.csv",
           "E_postDLC"
          ],
          [
           "mouse47_left",
           "run3.csv",
           "E_postDLC"
          ],
          [
           "mouse47_left",
           "run3.csv",
           "E_postDLC"
          ],
          [
           "mouse47_left",
           "run3.csv",
           "E_postDLC"
          ],
          [
           "mouse47_left",
           "run5.csv",
           "E_postDLC"
          ],
          [
           "mouse47_left",
           "run5.csv",
           "E_postDLC"
          ],
          [
           "mouse47_left",
           "run5.csv",
           "E_postDLC"
          ],
          [
           "mouse47_left",
           "run5.csv",
           "E_postDLC"
          ],
          [
           "mouse47_left",
           "run7.csv",
           "E_postDLC"
          ],
          [
           "mouse47_left",
           "run7.csv",
           "E_postDLC"
          ],
          [
           "mouse47_left",
           "run7.csv",
           "E_postDLC"
          ],
          [
           "mouse47_left",
           "run7.csv",
           "E_postDLC"
          ],
          [
           "mouse48_left",
           "run1.csv",
           "E_postDLC"
          ],
          [
           "mouse48_left",
           "run1.csv",
           "E_postDLC"
          ],
          [
           "mouse48_left",
           "run1.csv",
           "E_postDLC"
          ],
          [
           "mouse48_left",
           "run1.csv",
           "E_postDLC"
          ],
          [
           "mouse48_left",
           "run3.csv",
           "E_postDLC"
          ],
          [
           "mouse48_left",
           "run3.csv",
           "E_postDLC"
          ],
          [
           "mouse48_left",
           "run3.csv",
           "E_postDLC"
          ],
          [
           "mouse48_left",
           "run3.csv",
           "E_postDLC"
          ],
          [
           "mouse48_left",
           "run6.csv",
           "E_postDLC"
          ],
          [
           "mouse48_left",
           "run6.csv",
           "E_postDLC"
          ],
          [
           "mouse48_left",
           "run6.csv",
           "E_postDLC"
          ],
          [
           "mouse49_left",
           "run1.csv",
           "E_postDLC"
          ],
          [
           "mouse49_left",
           "run1.csv",
           "E_postDLC"
          ],
          [
           "mouse49_left",
           "run1.csv",
           "E_postDLC"
          ],
          [
           "mouse49_left",
           "run1.csv",
           "E_postDLC"
          ],
          [
           "mouse49_left",
           "run1.csv",
           "E_postDLC"
          ],
          [
           "mouse49_left",
           "run2.csv",
           "E_postDLC"
          ],
          [
           "mouse49_left",
           "run2.csv",
           "E_postDLC"
          ],
          [
           "mouse49_left",
           "run2.csv",
           "E_postDLC"
          ],
          [
           "mouse49_left",
           "run2.csv",
           "E_postDLC"
          ],
          [
           "mouse49_left",
           "run4.csv",
           "E_postDLC"
          ],
          [
           "mouse49_left",
           "run4.csv",
           "E_postDLC"
          ],
          [
           "mouse49_left",
           "run4.csv",
           "E_postDLC"
          ],
          [
           "mouse49_left",
           "run4.csv",
           "E_postDLC"
          ],
          [
           "mouse50_left",
           "run1.csv",
           "E_postDLC"
          ],
          [
           "mouse50_left",
           "run1.csv",
           "E_postDLC"
          ],
          [
           "mouse50_left",
           "run1.csv",
           "E_postDLC"
          ],
          [
           "mouse50_left",
           "run1.csv",
           "E_postDLC"
          ],
          [
           "mouse50_left",
           "run1.csv",
           "E_postDLC"
          ],
          [
           "mouse50_left",
           "run3.csv",
           "E_postDLC"
          ],
          [
           "mouse50_left",
           "run3.csv",
           "E_postDLC"
          ],
          [
           "mouse50_left",
           "run3.csv",
           "E_postDLC"
          ],
          [
           "mouse50_left",
           "run5.csv",
           "E_postDLC"
          ],
          [
           "mouse50_left",
           "run5.csv",
           "E_postDLC"
          ],
          [
           "mouse50_left",
           "run5.csv",
           "E_postDLC"
          ],
          [
           "mouse50_left",
           "run6.csv",
           "E_postDLC"
          ],
          [
           "mouse50_left",
           "run6.csv",
           "E_postDLC"
          ],
          [
           "mouse50_left",
           "run6.csv",
           "E_postDLC"
          ]
         ],
         "hovertemplate": "Dataset=%{customdata[2]}<br>UMAP1=%{x}<br>UMAP2=%{y}<br>UMAP3=%{z}<br>Mouse=%{customdata[0]}<br>Run=%{customdata[1]}<extra></extra>",
         "legendgroup": "E_postDLC",
         "marker": {
          "color": "#FF97FF",
          "line": {
           "color": "DarkSlateGrey",
           "width": 1
          },
          "size": 6,
          "symbol": "circle"
         },
         "mode": "markers",
         "name": "E_postDLC",
         "scene": "scene",
         "showlegend": true,
         "type": "scatter3d",
         "x": {
          "bdata": "1WxsQW8IWUFa9ttABZ7HwMtHYkH3TxhBHvFBQaM0zUAbUuzAawRnQXThPkHSWNdAzt3HwCLbLEEi7B1BdBzSQPvhvUBCFvjAUWNxQZXCVkGQZRlBM+q+QKlAAsHptFxBU5ElQaaZvkCs7QLBoEZyQX6DVEFWkwxBkMPAwLiPVkFXCytByZ8VQamrB8FBJhBBn4LIQGAICcEf3W1B4SlbQT72AkF0iwLB6gtiQQkXCUHRg0VB/y4CQcn0BsExR25BlFwPQcEbP0FKSAJBJKQJwcxIZkE1fERBNz4MQc2Op8ASA2FBmydZQX1nTEGXB/RAhYHFQKPr48CR0ENB2cFFQaeP3kDJXOLA0IRnQYK1VkHjIwpBQd+xwParYEHHJ0RBLI72QCp9jMB5gWhBgAYcQVqc5ECRg7PAM6dfQXalTUEVrczA2qVoQah5b0GqUk9BmkHVQHNzx8DOa2VBf85DQWUlIEFNJvHA5uFgQfpMIUH1gdtA02PGwEwxaEFSEkBBl3zeQCH+BcHwclZBn/JZQe0NAEHSJ+TAsTBBQQ7o00DHOvnAKs5nQabKVEGHazdBzeoAQZJfmMAtgW9B5Xo3QWvG7ECoNKPA8gRsQY2FNkFJPBdBZHoIwffWQUEXVjBB5IINQZ0W1kD1ZwnBN7VDQWOIGUGO/cXAiVBRQQi4OkGSVt3Ah4ZYQfPdIUEvqdPA",
          "dtype": "f4"
         },
         "y": {
          "bdata": "1NaiQGEkBEGpUvVARfOiQKEPkkD2ZcJAEL3OQO7FtUDLsIFAWnKiQKTEzECUKrVA/qucQDAud0DrDYdAaruZQGIfrUAQmYhALFjAQPIdv0CdvtxA+JfFQJY0rECpepVAGpjEQBsftkD8d6dAXnfUQJU8AEEZqAtBfY6eQMd3ekCJUoZA3zSTQM2Ca0BKXIpA54WkQOckm0Aa+rtAMSr7QN7k4kBg0ZVAFX+IQFK0h0AoANRA9Br5QIg2lkC/1tpA1ReEQAbv80Cm0eVAOqmWQNiuAUF7wQxBmlYKQb/2n0CZh5FANuSyQKHV7ECpldZAo2TjQN30p0DtwYFASAfUQLz9vUCzqaZAoPXsQLb4AUFAVApBpDGfQFqF10C9hwNB394GQVNsmkBPV6dAwceNQJWN+ECYGaFAUSv9QF1zB0FlV45AmwCRQOKa30D+7/NAhlXVQMl3o0CM741A9CKEQAlTBkEHZ4ZAjzD/QAl6BEEhKvRAR9CiQALH7kCH3AZBtqb1QH1moUCMCYJAqEuWQMDbo0B4nJJA4KGGQPojn0Bno6VAnrHMQCI3+kBfaQJBBNALQRd5n0DLabJA2FWrQA8EBEFksp5AmqulQFZbZUDKUg1Bl76EQCyYb0AhFGxAbpiHQJko1UBx0YNAGNKDQFisw0C81JVAE1mEQOAkzEA/U4xASKWDQKBSjkCmJotA",
          "dtype": "f4"
         },
         "z": {
          "bdata": "aqfAQCchzkCxTKNAwTzkQOPGukChII5A9ye5QLz1YkCYTpFACE/BQGc+tUAsyWVACUitQPTHfkCq3IRA0XhKQMZuZkBKW5JANwDSQAeWwUBLW6FAXfN4QIHwAUE4X7tALWadQNRjaEBe0f5AlzTcQGy+3kCJBrFAgQ/bQC+Jq0DeRoBACFKKQH/CtEDYOHVAW4daQGJ/7EAPrM5A2ALiQMckmEAIPqxATPKzQGOoZ0Ar6cBAaYOiQDnRyUDLieFAJTNpQBm6wUCMZZpAVZzhQG0d3EC8h8pAznWwQKBpvEDj2blAqkPDQMTlzEBeiYtATBCLQCP960B9yJJA7FnAQMd4dUDYE+VA7YjpQL/t3kBsqa9Am93WQEVF3UCAjctAuGujQId3xEAUg8FAfiN7QDjwpkAAQq9ARgjjQBztykAo5LxAPp+4QHJ/4kA1lNFA5vCNQHY65ECv67FAM/6TQLQJtUBPEJJAUhflQJE0tEBeQ6RAFL7jQJso6kAs/sVAJxKlQNY69kCa+61ACka6QJzEikBQRbtAkkeTQLTgakAkNvZAI2/aQIeX3EDnVr5AETesQEPdwEArGMhAJPqcQMm2okDhZLpAYanDQKgLg0BjW7RAqgSnQHqijUAr74BAniFpQK1KiUBlqrVAmfaTQCyQj0Aw5ctAW+KiQBlWsEB8A7xADmyUQIaZfEDN+blA",
          "dtype": "f4"
         }
        },
        {
         "customdata": [
          [
           "mouse41_left",
           "run1.csv",
           "E_preDLC"
          ],
          [
           "mouse41_left",
           "run1.csv",
           "E_preDLC"
          ],
          [
           "mouse41_left",
           "run1.csv",
           "E_preDLC"
          ],
          [
           "mouse41_left",
           "run1.csv",
           "E_preDLC"
          ],
          [
           "mouse41_left",
           "run3.csv",
           "E_preDLC"
          ],
          [
           "mouse41_left",
           "run3.csv",
           "E_preDLC"
          ],
          [
           "mouse41_left",
           "run3.csv",
           "E_preDLC"
          ],
          [
           "mouse41_left",
           "run3.csv",
           "E_preDLC"
          ],
          [
           "mouse43_left",
           "run1.csv",
           "E_preDLC"
          ],
          [
           "mouse43_left",
           "run1.csv",
           "E_preDLC"
          ],
          [
           "mouse43_left",
           "run1.csv",
           "E_preDLC"
          ],
          [
           "mouse43_left",
           "run2.csv",
           "E_preDLC"
          ],
          [
           "mouse43_left",
           "run2.csv",
           "E_preDLC"
          ],
          [
           "mouse43_left",
           "run2.csv",
           "E_preDLC"
          ],
          [
           "mouse44_left",
           "run1.csv",
           "E_preDLC"
          ],
          [
           "mouse44_left",
           "run1.csv",
           "E_preDLC"
          ],
          [
           "mouse44_left",
           "run1.csv",
           "E_preDLC"
          ],
          [
           "mouse44_left",
           "run1.csv",
           "E_preDLC"
          ],
          [
           "mouse44_left",
           "run3.csv",
           "E_preDLC"
          ],
          [
           "mouse44_left",
           "run3.csv",
           "E_preDLC"
          ],
          [
           "mouse44_left",
           "run3.csv",
           "E_preDLC"
          ],
          [
           "mouse44_left",
           "run3.csv",
           "E_preDLC"
          ],
          [
           "mouse44_left",
           "run3.csv",
           "E_preDLC"
          ],
          [
           "mouse44_left",
           "run6.csv",
           "E_preDLC"
          ],
          [
           "mouse44_left",
           "run6.csv",
           "E_preDLC"
          ],
          [
           "mouse44_left",
           "run6.csv",
           "E_preDLC"
          ],
          [
           "mouse44_left",
           "run6.csv",
           "E_preDLC"
          ],
          [
           "mouse44_left",
           "run6.csv",
           "E_preDLC"
          ],
          [
           "mouse45_left",
           "run3.csv",
           "E_preDLC"
          ],
          [
           "mouse45_left",
           "run3.csv",
           "E_preDLC"
          ],
          [
           "mouse45_left",
           "run3.csv",
           "E_preDLC"
          ],
          [
           "mouse45_left",
           "run6.csv",
           "E_preDLC"
          ],
          [
           "mouse45_left",
           "run6.csv",
           "E_preDLC"
          ],
          [
           "mouse45_left",
           "run6.csv",
           "E_preDLC"
          ],
          [
           "mouse45_left",
           "run6.csv",
           "E_preDLC"
          ],
          [
           "mouse45_left",
           "run6.csv",
           "E_preDLC"
          ],
          [
           "mouse46_left",
           "run1.csv",
           "E_preDLC"
          ],
          [
           "mouse46_left",
           "run1.csv",
           "E_preDLC"
          ],
          [
           "mouse46_left",
           "run1.csv",
           "E_preDLC"
          ],
          [
           "mouse46_left",
           "run1.csv",
           "E_preDLC"
          ],
          [
           "mouse46_left",
           "run3.csv",
           "E_preDLC"
          ],
          [
           "mouse46_left",
           "run3.csv",
           "E_preDLC"
          ],
          [
           "mouse46_left",
           "run3.csv",
           "E_preDLC"
          ],
          [
           "mouse46_left",
           "run3.csv",
           "E_preDLC"
          ],
          [
           "mouse46_left",
           "run5.csv",
           "E_preDLC"
          ],
          [
           "mouse46_left",
           "run5.csv",
           "E_preDLC"
          ],
          [
           "mouse46_left",
           "run5.csv",
           "E_preDLC"
          ],
          [
           "mouse47_left",
           "run1.csv",
           "E_preDLC"
          ],
          [
           "mouse47_left",
           "run1.csv",
           "E_preDLC"
          ],
          [
           "mouse47_left",
           "run1.csv",
           "E_preDLC"
          ],
          [
           "mouse47_left",
           "run1.csv",
           "E_preDLC"
          ],
          [
           "mouse47_left",
           "run2.csv",
           "E_preDLC"
          ],
          [
           "mouse47_left",
           "run2.csv",
           "E_preDLC"
          ],
          [
           "mouse47_left",
           "run2.csv",
           "E_preDLC"
          ],
          [
           "mouse47_left",
           "run3.csv",
           "E_preDLC"
          ],
          [
           "mouse47_left",
           "run3.csv",
           "E_preDLC"
          ],
          [
           "mouse47_left",
           "run3.csv",
           "E_preDLC"
          ],
          [
           "mouse48_left",
           "run1.csv",
           "E_preDLC"
          ],
          [
           "mouse48_left",
           "run1.csv",
           "E_preDLC"
          ],
          [
           "mouse48_left",
           "run1.csv",
           "E_preDLC"
          ],
          [
           "mouse48_left",
           "run1.csv",
           "E_preDLC"
          ],
          [
           "mouse48_left",
           "run1.csv",
           "E_preDLC"
          ],
          [
           "mouse48_left",
           "run2.csv",
           "E_preDLC"
          ],
          [
           "mouse48_left",
           "run2.csv",
           "E_preDLC"
          ],
          [
           "mouse48_left",
           "run2.csv",
           "E_preDLC"
          ],
          [
           "mouse48_left",
           "run2.csv",
           "E_preDLC"
          ],
          [
           "mouse48_left",
           "run2.csv",
           "E_preDLC"
          ],
          [
           "mouse48_left",
           "run5.csv",
           "E_preDLC"
          ],
          [
           "mouse48_left",
           "run5.csv",
           "E_preDLC"
          ],
          [
           "mouse48_left",
           "run5.csv",
           "E_preDLC"
          ],
          [
           "mouse48_left",
           "run5.csv",
           "E_preDLC"
          ],
          [
           "mouse48_left",
           "run5.csv",
           "E_preDLC"
          ],
          [
           "mouse49_left",
           "run2.csv",
           "E_preDLC"
          ],
          [
           "mouse49_left",
           "run2.csv",
           "E_preDLC"
          ],
          [
           "mouse49_left",
           "run2.csv",
           "E_preDLC"
          ],
          [
           "mouse49_left",
           "run3.csv",
           "E_preDLC"
          ],
          [
           "mouse49_left",
           "run3.csv",
           "E_preDLC"
          ],
          [
           "mouse49_left",
           "run3.csv",
           "E_preDLC"
          ],
          [
           "mouse49_left",
           "run3.csv",
           "E_preDLC"
          ],
          [
           "mouse49_left",
           "run6.csv",
           "E_preDLC"
          ],
          [
           "mouse49_left",
           "run6.csv",
           "E_preDLC"
          ],
          [
           "mouse49_left",
           "run6.csv",
           "E_preDLC"
          ],
          [
           "mouse49_left",
           "run6.csv",
           "E_preDLC"
          ],
          [
           "mouse49_left",
           "run6.csv",
           "E_preDLC"
          ]
         ],
         "hovertemplate": "Dataset=%{customdata[2]}<br>UMAP1=%{x}<br>UMAP2=%{y}<br>UMAP3=%{z}<br>Mouse=%{customdata[0]}<br>Run=%{customdata[1]}<extra></extra>",
         "legendgroup": "E_preDLC",
         "marker": {
          "color": "#FECB52",
          "line": {
           "color": "DarkSlateGrey",
           "width": 1
          },
          "size": 6,
          "symbol": "circle"
         },
         "mode": "markers",
         "name": "E_preDLC",
         "scene": "scene",
         "showlegend": true,
         "type": "scatter3d",
         "x": {
          "bdata": "YuxFQeT1B0FBTcFAHJf6wIu4YUFXBz1BTiK/QEbxCMEYJFpBtR8IQfuM+cCoEmNBBSMpQfP6BcGIcWBBC/M8QU0qBEHVqo3ArldYQR9tQ0HgQN1A68vaQDMx1sAbm2NBmF0oQd58G0G0wctAc0/qwNjcS0HztfdAVFPAwEm0REHlND9B9cYJQahe0kA75AHBnK5dQRZjTEHtHhlBMPqMwAkscUF4f2FBXYgbQeJPp8BRPV5Bf1QXQY5q/cDiAWJB2sJEQY2Y9EC1wo/Afe1rQcEOSEF0jtHApuNSQXmB8UClC8nA9XdWQaRsPkG3HOFAXa3DQMpz4MBWNVlB/n1FQWmG8kBHV9lAOxkAwSNrWEFLBB5BWmQDQY/iz0A7nv3A+9wZQWwN2UCa/QjBA4BcQf6nFEFWzM9AOhcHwfevMUEyUj5BHS0CQd7VvUBXownB",
          "dtype": "f4"
         },
         "y": {
          "bdata": "el1lQEtFlEBe67BAudqlQBp6eEBQ/tZAvfPCQMapmEDzr+dATzf6QLYEmkCr34ZAOW3RQJ8ziUDFteNAMMsJQYQsDEF2CJtAHVlwQElohkDqF6VAOeWqQIYiqEBUzZJANmOHQOOAyEAEv9ZAnYSpQKR+B0Hzd/5ANHaoQG5Jc0ADS21A4rqIQL7fmED2pnlAgXH2QAwsC0HHWw5BU1qZQD3kvUA4sAFBe1YLQZvQm0CciAFBx0wMQZQVpkAUPAFBdx0LQVQfB0FtKJ1AyhjgQJHKCkGDOZhArszOQDJqxUC2jpRAyoWeQC0i0UAlFp1AppfZQEnZp0DckIxAeiDTQPFJnUBYl/xA6oOoQN/6l0AcwddAyEzaQFKhtUAoVK9AqkaRQKx6yEAgDptA/CN0QLsqnkB8GaNAmPyeQE51aUDVtmFAhkuMQPJjvkDs0YZA",
          "dtype": "f4"
         },
         "z": {
          "bdata": "Oy+LQJfIhEDaH3RAzzb4QO3TpUDGF7BALF16QEO350CpbN1AZWukQFcIsEDQNaxAze+lQAYJm0CzXOJAuVnEQHa2q0AKzMRAHuulQHUhlUDd23pAdM9ZQBYb7ECsIrtAbXt5QP0xlEBMsINAom72QAhG0kAT/6NALB/hQPURkUAbXIpAZHNmQImWR0DKtIdAzIfkQH8U0UBvVrdA/ZnDQBca0EA/ZeVATl+2QM5Wt0Ar5uRAzlS0QJeu+UD7XOVAakrKQJqqpEAhZ8JA1pbbQLMxy0AIsKtAt3S/QKJ7l0CwC8pAGuW7QGoptkCY/FBAjoiDQJh/6kAO77RADZa/QOHqXkCrLpZAKvP9QLIwukBn+Z1AWXKSQAdtYUC5VgNBZC2OQNcelUCJ2epAv4KgQFdDj0BjnW9A4A/zQHGWgEBLjIVAwM1xQNX/bEBJ78tA",
          "dtype": "f4"
         }
        }
       ],
       "layout": {
        "height": 700,
        "legend": {
         "font": {
          "size": 18
         },
         "title": {
          "text": "Group"
         },
         "tracegroupgap": 0
        },
        "scene": {
         "domain": {
          "x": [
           0,
           1
          ],
          "y": [
           0,
           1
          ]
         },
         "xaxis": {
          "tickfont": {
           "size": 16
          },
          "title": {
           "font": {
            "size": 20
           },
           "text": "UMAP1"
          }
         },
         "yaxis": {
          "tickfont": {
           "size": 16
          },
          "title": {
           "font": {
            "size": 20
           },
           "text": "UMAP2"
          }
         },
         "zaxis": {
          "tickfont": {
           "size": 16
          },
          "title": {
           "font": {
            "size": 20
           },
           "text": "UMAP3"
          }
         }
        },
        "template": {
         "data": {
          "bar": [
           {
            "error_x": {
             "color": "#2a3f5f"
            },
            "error_y": {
             "color": "#2a3f5f"
            },
            "marker": {
             "line": {
              "color": "white",
              "width": 0.5
             },
             "pattern": {
              "fillmode": "overlay",
              "size": 10,
              "solidity": 0.2
             }
            },
            "type": "bar"
           }
          ],
          "barpolar": [
           {
            "marker": {
             "line": {
              "color": "white",
              "width": 0.5
             },
             "pattern": {
              "fillmode": "overlay",
              "size": 10,
              "solidity": 0.2
             }
            },
            "type": "barpolar"
           }
          ],
          "carpet": [
           {
            "aaxis": {
             "endlinecolor": "#2a3f5f",
             "gridcolor": "#C8D4E3",
             "linecolor": "#C8D4E3",
             "minorgridcolor": "#C8D4E3",
             "startlinecolor": "#2a3f5f"
            },
            "baxis": {
             "endlinecolor": "#2a3f5f",
             "gridcolor": "#C8D4E3",
             "linecolor": "#C8D4E3",
             "minorgridcolor": "#C8D4E3",
             "startlinecolor": "#2a3f5f"
            },
            "type": "carpet"
           }
          ],
          "choropleth": [
           {
            "colorbar": {
             "outlinewidth": 0,
             "ticks": ""
            },
            "type": "choropleth"
           }
          ],
          "contour": [
           {
            "colorbar": {
             "outlinewidth": 0,
             "ticks": ""
            },
            "colorscale": [
             [
              0,
              "#0d0887"
             ],
             [
              0.1111111111111111,
              "#46039f"
             ],
             [
              0.2222222222222222,
              "#7201a8"
             ],
             [
              0.3333333333333333,
              "#9c179e"
             ],
             [
              0.4444444444444444,
              "#bd3786"
             ],
             [
              0.5555555555555556,
              "#d8576b"
             ],
             [
              0.6666666666666666,
              "#ed7953"
             ],
             [
              0.7777777777777778,
              "#fb9f3a"
             ],
             [
              0.8888888888888888,
              "#fdca26"
             ],
             [
              1,
              "#f0f921"
             ]
            ],
            "type": "contour"
           }
          ],
          "contourcarpet": [
           {
            "colorbar": {
             "outlinewidth": 0,
             "ticks": ""
            },
            "type": "contourcarpet"
           }
          ],
          "heatmap": [
           {
            "colorbar": {
             "outlinewidth": 0,
             "ticks": ""
            },
            "colorscale": [
             [
              0,
              "#0d0887"
             ],
             [
              0.1111111111111111,
              "#46039f"
             ],
             [
              0.2222222222222222,
              "#7201a8"
             ],
             [
              0.3333333333333333,
              "#9c179e"
             ],
             [
              0.4444444444444444,
              "#bd3786"
             ],
             [
              0.5555555555555556,
              "#d8576b"
             ],
             [
              0.6666666666666666,
              "#ed7953"
             ],
             [
              0.7777777777777778,
              "#fb9f3a"
             ],
             [
              0.8888888888888888,
              "#fdca26"
             ],
             [
              1,
              "#f0f921"
             ]
            ],
            "type": "heatmap"
           }
          ],
          "histogram": [
           {
            "marker": {
             "pattern": {
              "fillmode": "overlay",
              "size": 10,
              "solidity": 0.2
             }
            },
            "type": "histogram"
           }
          ],
          "histogram2d": [
           {
            "colorbar": {
             "outlinewidth": 0,
             "ticks": ""
            },
            "colorscale": [
             [
              0,
              "#0d0887"
             ],
             [
              0.1111111111111111,
              "#46039f"
             ],
             [
              0.2222222222222222,
              "#7201a8"
             ],
             [
              0.3333333333333333,
              "#9c179e"
             ],
             [
              0.4444444444444444,
              "#bd3786"
             ],
             [
              0.5555555555555556,
              "#d8576b"
             ],
             [
              0.6666666666666666,
              "#ed7953"
             ],
             [
              0.7777777777777778,
              "#fb9f3a"
             ],
             [
              0.8888888888888888,
              "#fdca26"
             ],
             [
              1,
              "#f0f921"
             ]
            ],
            "type": "histogram2d"
           }
          ],
          "histogram2dcontour": [
           {
            "colorbar": {
             "outlinewidth": 0,
             "ticks": ""
            },
            "colorscale": [
             [
              0,
              "#0d0887"
             ],
             [
              0.1111111111111111,
              "#46039f"
             ],
             [
              0.2222222222222222,
              "#7201a8"
             ],
             [
              0.3333333333333333,
              "#9c179e"
             ],
             [
              0.4444444444444444,
              "#bd3786"
             ],
             [
              0.5555555555555556,
              "#d8576b"
             ],
             [
              0.6666666666666666,
              "#ed7953"
             ],
             [
              0.7777777777777778,
              "#fb9f3a"
             ],
             [
              0.8888888888888888,
              "#fdca26"
             ],
             [
              1,
              "#f0f921"
             ]
            ],
            "type": "histogram2dcontour"
           }
          ],
          "mesh3d": [
           {
            "colorbar": {
             "outlinewidth": 0,
             "ticks": ""
            },
            "type": "mesh3d"
           }
          ],
          "parcoords": [
           {
            "line": {
             "colorbar": {
              "outlinewidth": 0,
              "ticks": ""
             }
            },
            "type": "parcoords"
           }
          ],
          "pie": [
           {
            "automargin": true,
            "type": "pie"
           }
          ],
          "scatter": [
           {
            "fillpattern": {
             "fillmode": "overlay",
             "size": 10,
             "solidity": 0.2
            },
            "type": "scatter"
           }
          ],
          "scatter3d": [
           {
            "line": {
             "colorbar": {
              "outlinewidth": 0,
              "ticks": ""
             }
            },
            "marker": {
             "colorbar": {
              "outlinewidth": 0,
              "ticks": ""
             }
            },
            "type": "scatter3d"
           }
          ],
          "scattercarpet": [
           {
            "marker": {
             "colorbar": {
              "outlinewidth": 0,
              "ticks": ""
             }
            },
            "type": "scattercarpet"
           }
          ],
          "scattergeo": [
           {
            "marker": {
             "colorbar": {
              "outlinewidth": 0,
              "ticks": ""
             }
            },
            "type": "scattergeo"
           }
          ],
          "scattergl": [
           {
            "marker": {
             "colorbar": {
              "outlinewidth": 0,
              "ticks": ""
             }
            },
            "type": "scattergl"
           }
          ],
          "scattermap": [
           {
            "marker": {
             "colorbar": {
              "outlinewidth": 0,
              "ticks": ""
             }
            },
            "type": "scattermap"
           }
          ],
          "scattermapbox": [
           {
            "marker": {
             "colorbar": {
              "outlinewidth": 0,
              "ticks": ""
             }
            },
            "type": "scattermapbox"
           }
          ],
          "scatterpolar": [
           {
            "marker": {
             "colorbar": {
              "outlinewidth": 0,
              "ticks": ""
             }
            },
            "type": "scatterpolar"
           }
          ],
          "scatterpolargl": [
           {
            "marker": {
             "colorbar": {
              "outlinewidth": 0,
              "ticks": ""
             }
            },
            "type": "scatterpolargl"
           }
          ],
          "scatterternary": [
           {
            "marker": {
             "colorbar": {
              "outlinewidth": 0,
              "ticks": ""
             }
            },
            "type": "scatterternary"
           }
          ],
          "surface": [
           {
            "colorbar": {
             "outlinewidth": 0,
             "ticks": ""
            },
            "colorscale": [
             [
              0,
              "#0d0887"
             ],
             [
              0.1111111111111111,
              "#46039f"
             ],
             [
              0.2222222222222222,
              "#7201a8"
             ],
             [
              0.3333333333333333,
              "#9c179e"
             ],
             [
              0.4444444444444444,
              "#bd3786"
             ],
             [
              0.5555555555555556,
              "#d8576b"
             ],
             [
              0.6666666666666666,
              "#ed7953"
             ],
             [
              0.7777777777777778,
              "#fb9f3a"
             ],
             [
              0.8888888888888888,
              "#fdca26"
             ],
             [
              1,
              "#f0f921"
             ]
            ],
            "type": "surface"
           }
          ],
          "table": [
           {
            "cells": {
             "fill": {
              "color": "#EBF0F8"
             },
             "line": {
              "color": "white"
             }
            },
            "header": {
             "fill": {
              "color": "#C8D4E3"
             },
             "line": {
              "color": "white"
             }
            },
            "type": "table"
           }
          ]
         },
         "layout": {
          "annotationdefaults": {
           "arrowcolor": "#2a3f5f",
           "arrowhead": 0,
           "arrowwidth": 1
          },
          "autotypenumbers": "strict",
          "coloraxis": {
           "colorbar": {
            "outlinewidth": 0,
            "ticks": ""
           }
          },
          "colorscale": {
           "diverging": [
            [
             0,
             "#8e0152"
            ],
            [
             0.1,
             "#c51b7d"
            ],
            [
             0.2,
             "#de77ae"
            ],
            [
             0.3,
             "#f1b6da"
            ],
            [
             0.4,
             "#fde0ef"
            ],
            [
             0.5,
             "#f7f7f7"
            ],
            [
             0.6,
             "#e6f5d0"
            ],
            [
             0.7,
             "#b8e186"
            ],
            [
             0.8,
             "#7fbc41"
            ],
            [
             0.9,
             "#4d9221"
            ],
            [
             1,
             "#276419"
            ]
           ],
           "sequential": [
            [
             0,
             "#0d0887"
            ],
            [
             0.1111111111111111,
             "#46039f"
            ],
            [
             0.2222222222222222,
             "#7201a8"
            ],
            [
             0.3333333333333333,
             "#9c179e"
            ],
            [
             0.4444444444444444,
             "#bd3786"
            ],
            [
             0.5555555555555556,
             "#d8576b"
            ],
            [
             0.6666666666666666,
             "#ed7953"
            ],
            [
             0.7777777777777778,
             "#fb9f3a"
            ],
            [
             0.8888888888888888,
             "#fdca26"
            ],
            [
             1,
             "#f0f921"
            ]
           ],
           "sequentialminus": [
            [
             0,
             "#0d0887"
            ],
            [
             0.1111111111111111,
             "#46039f"
            ],
            [
             0.2222222222222222,
             "#7201a8"
            ],
            [
             0.3333333333333333,
             "#9c179e"
            ],
            [
             0.4444444444444444,
             "#bd3786"
            ],
            [
             0.5555555555555556,
             "#d8576b"
            ],
            [
             0.6666666666666666,
             "#ed7953"
            ],
            [
             0.7777777777777778,
             "#fb9f3a"
            ],
            [
             0.8888888888888888,
             "#fdca26"
            ],
            [
             1,
             "#f0f921"
            ]
           ]
          },
          "colorway": [
           "#636efa",
           "#EF553B",
           "#00cc96",
           "#ab63fa",
           "#FFA15A",
           "#19d3f3",
           "#FF6692",
           "#B6E880",
           "#FF97FF",
           "#FECB52"
          ],
          "font": {
           "color": "#2a3f5f"
          },
          "geo": {
           "bgcolor": "white",
           "lakecolor": "white",
           "landcolor": "white",
           "showlakes": true,
           "showland": true,
           "subunitcolor": "#C8D4E3"
          },
          "hoverlabel": {
           "align": "left"
          },
          "hovermode": "closest",
          "mapbox": {
           "style": "light"
          },
          "paper_bgcolor": "white",
          "plot_bgcolor": "white",
          "polar": {
           "angularaxis": {
            "gridcolor": "#EBF0F8",
            "linecolor": "#EBF0F8",
            "ticks": ""
           },
           "bgcolor": "white",
           "radialaxis": {
            "gridcolor": "#EBF0F8",
            "linecolor": "#EBF0F8",
            "ticks": ""
           }
          },
          "scene": {
           "xaxis": {
            "backgroundcolor": "white",
            "gridcolor": "#DFE8F3",
            "gridwidth": 2,
            "linecolor": "#EBF0F8",
            "showbackground": true,
            "ticks": "",
            "zerolinecolor": "#EBF0F8"
           },
           "yaxis": {
            "backgroundcolor": "white",
            "gridcolor": "#DFE8F3",
            "gridwidth": 2,
            "linecolor": "#EBF0F8",
            "showbackground": true,
            "ticks": "",
            "zerolinecolor": "#EBF0F8"
           },
           "zaxis": {
            "backgroundcolor": "white",
            "gridcolor": "#DFE8F3",
            "gridwidth": 2,
            "linecolor": "#EBF0F8",
            "showbackground": true,
            "ticks": "",
            "zerolinecolor": "#EBF0F8"
           }
          },
          "shapedefaults": {
           "line": {
            "color": "#2a3f5f"
           }
          },
          "ternary": {
           "aaxis": {
            "gridcolor": "#DFE8F3",
            "linecolor": "#A2B1C6",
            "ticks": ""
           },
           "baxis": {
            "gridcolor": "#DFE8F3",
            "linecolor": "#A2B1C6",
            "ticks": ""
           },
           "bgcolor": "white",
           "caxis": {
            "gridcolor": "#DFE8F3",
            "linecolor": "#A2B1C6",
            "ticks": ""
           }
          },
          "title": {
           "x": 0.05
          },
          "xaxis": {
           "automargin": true,
           "gridcolor": "#EBF0F8",
           "linecolor": "#EBF0F8",
           "ticks": "",
           "title": {
            "standoff": 15
           },
           "zerolinecolor": "#EBF0F8",
           "zerolinewidth": 2
          },
          "yaxis": {
           "automargin": true,
           "gridcolor": "#EBF0F8",
           "linecolor": "#EBF0F8",
           "ticks": "",
           "title": {
            "standoff": 15
           },
           "zerolinecolor": "#EBF0F8",
           "zerolinewidth": 2
          }
         }
        },
        "title": {
         "font": {
          "size": 24
         },
         "text": "3D UMAP Projection of Step Embeddings"
        },
        "width": 900
       }
      }
     },
     "metadata": {},
     "output_type": "display_data"
    }
   ],
   "source": [
    "SCATTER_SIZE = 6\n",
    "SCATTER_LINE_WIDTH = 1\n",
    "SCATTER_SYMBOL = 'circle'\n",
    "LEGEND_FONT_SIZE = 18\n",
    "TITLE_FONT_SIZE = 24\n",
    "AXIS_FONT_SIZE = 16\n",
    "AXIS_TITLE_FONT_SIZE = 20\n",
    "\n",
    "fig = px.scatter_3d(\n",
    "    umap_df,\n",
    "    x=\"UMAP1\", y=\"UMAP2\", z=\"UMAP3\",\n",
    "    color=\"Dataset\",#\"Group\",                \n",
    "    hover_data=[\"Mouse\", \"Run\", \"Dataset\"],\n",
    "    title=\"3D UMAP Projection of Step Embeddings\"\n",
    ")\n",
    "\n",
    "fig.update_traces(marker=dict(size=SCATTER_SIZE, line=dict(width=SCATTER_LINE_WIDTH, color='DarkSlateGrey')))\n",
    "fig.update_layout(\n",
    "    legend=dict(title=\"Group\", font=dict(size=LEGEND_FONT_SIZE)), template=\"plotly_white\",\n",
    "    width=900,\n",
    "    height=700,\n",
    "    scene=dict(\n",
    "            xaxis=dict(title_font=dict(size=AXIS_TITLE_FONT_SIZE), tickfont=dict(size=AXIS_FONT_SIZE)),\n",
    "            yaxis=dict(title_font=dict(size=AXIS_TITLE_FONT_SIZE), tickfont=dict(size=AXIS_FONT_SIZE)),\n",
    "            zaxis=dict(title_font=dict(size=AXIS_TITLE_FONT_SIZE), tickfont=dict(size=AXIS_FONT_SIZE)),\n",
    "        ),\n",
    "    title=dict(font=dict(size=TITLE_FONT_SIZE))\n",
    "    )\n",
    "fig.show()"
   ]
  }
 ],
 "metadata": {
  "kernelspec": {
   "display_name": ".venv",
   "language": "python",
   "name": "python3"
  },
  "language_info": {
   "codemirror_mode": {
    "name": "ipython",
    "version": 3
   },
   "file_extension": ".py",
   "mimetype": "text/x-python",
   "name": "python",
   "nbconvert_exporter": "python",
   "pygments_lexer": "ipython3",
   "version": "3.12.3"
  }
 },
 "nbformat": 4,
 "nbformat_minor": 5
}
