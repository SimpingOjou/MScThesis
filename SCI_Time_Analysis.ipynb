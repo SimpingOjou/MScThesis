{
 "cells": [
  {
   "cell_type": "code",
   "execution_count": 1,
   "id": "b527e6fb",
   "metadata": {},
   "outputs": [],
   "source": [
    "import os\n",
    "import pandas as pd\n",
    "import numpy as np\n",
    "import torch\n",
    "import plotly.express as px\n",
    "import plotly.graph_objs as go\n",
    "import plotly.colors\n",
    "from collections import defaultdict\n",
    "\n",
    "from sklearn.preprocessing import StandardScaler\n",
    "from umap import UMAP\n",
    "\n",
    "from src.ModelUtils import (load_model,\n",
    "                            train_model,\n",
    "                            save_model_losses,\n",
    "                            load_and_plot_losses)\n",
    "from src.DataUtils import (load_data_from_directory,\n",
    "                           segment_all_steps,\n",
    "                           steps_to_tensor,\n",
    "                           reshape_data)\n",
    "from src.Plot import (plot_step_trajectory, plot_trajectory,\n",
    "                      plot_animated_trajectory, plot_trajectory_with_joint_traces,\n",
    "                      compare_step_features_in_batches, plot_umap_from_step,\n",
    "                      plot_umap_all_steps, plot_mean_spatial_trajectory,\n",
    "                      compare_phase_aligned_average_single, compare_phase_aligned_average_xy,\n",
    "                      plot_phase_aligned_average_single, plot_phase_aligned_average_xy,\n",
    "                      plot_trajectory_with_joint_trace,\n",
    "                      compare_spatial_progression_over_time, compare_spatial_progression_xy_over_time,\n",
    "                      compare_spatial_angle_progression_over_time)"
   ]
  },
  {
   "cell_type": "code",
   "execution_count": 2,
   "id": "974c894b",
   "metadata": {},
   "outputs": [
    {
     "name": "stdout",
     "output_type": "stream",
     "text": [
      "Group: PostSCI_Corridor\n",
      "\tRight_Mouse74: 4 runs with shapes: [(248, 247), (177, 247), (226, 247), (111, 247)]\n",
      "\tRight_Mouse132: 3 runs with shapes: [(301, 247), (251, 247), (272, 247)]\n",
      "\tRight_Mouse116: 3 runs with shapes: [(351, 247), (291, 247), (351, 247)]\n",
      "\tRight_Mouse22: 3 runs with shapes: [(171, 247), (101, 247), (95, 247)]\n",
      "\tRight_Mouse128: 3 runs with shapes: [(401, 247), (561, 247), (401, 247)]\n",
      "\tRight_Mouse24: 4 runs with shapes: [(305, 247), (307, 247), (289, 247), (201, 247)]\n",
      "\tRight_Mouse100: 2 runs with shapes: [(201, 247), (231, 247)]\n",
      "\tRight_Mouse30: 4 runs with shapes: [(142, 247), (123, 247), (120, 247), (137, 247)]\n",
      "\tRight_Mouse60: 3 runs with shapes: [(486, 247), (201, 247), (401, 247)]\n",
      "\tRight_Mouse138: 3 runs with shapes: [(351, 247), (172, 247), (293, 247)]\n",
      "\tRight_Mouse70: 4 runs with shapes: [(458, 247), (359, 247), (298, 247), (463, 247)]\n",
      "\tRight_Mouse86: 4 runs with shapes: [(201, 247), (190, 247), (282, 247), (188, 247)]\n",
      "\tRight_Mouse186: 3 runs with shapes: [(180, 247), (221, 247), (145, 247)]\n",
      "\tRight_Mouse72: 4 runs with shapes: [(367, 247), (334, 247), (217, 247), (236, 247)]\n",
      "\tRight_Mouse104: 3 runs with shapes: [(241, 247), (206, 247), (231, 247)]\n",
      "\tRight_Mouse42: 4 runs with shapes: [(185, 247), (194, 247), (192, 247), (207, 247)]\n",
      "\tRight_Mouse64: 5 runs with shapes: [(357, 247), (291, 247), (269, 247), (220, 247), (358, 247)]\n",
      "\tRight_Mouse84: 4 runs with shapes: [(356, 247), (235, 247), (334, 247), (176, 247)]\n",
      "\tRight_Mouse62: 4 runs with shapes: [(168, 247), (191, 247), (187, 247), (182, 247)]\n",
      "\tRight_Mouse160: 3 runs with shapes: [(361, 247), (311, 247), (411, 247)]\n",
      "\tRight_Mouse38: 4 runs with shapes: [(292, 247), (216, 247), (201, 247), (174, 247)]\n",
      "\tRight_Mouse28: 4 runs with shapes: [(123, 247), (118, 247), (99, 247), (108, 247)]\n",
      "\tRight_Mouse82: 4 runs with shapes: [(158, 247), (177, 247), (188, 247), (239, 247)]\n",
      "\tRight_Mouse16: 3 runs with shapes: [(239, 247), (232, 247), (301, 247)]\n",
      "\tRight_Mouse14: 3 runs with shapes: [(289, 247), (197, 247), (166, 247)]\n",
      "\tRight_Mouse102: 3 runs with shapes: [(449, 247), (601, 247), (531, 247)]\n",
      "\tRight_Mouse78: 5 runs with shapes: [(148, 247), (109, 247), (148, 247), (89, 247), (117, 247)]\n",
      "\tRight_Mouse154: 3 runs with shapes: [(121, 247), (124, 247), (103, 247)]\n",
      "\tRight_Mouse52: 4 runs with shapes: [(214, 247), (268, 247), (401, 247), (419, 247)]\n",
      "\tRight_Mouse54: 4 runs with shapes: [(301, 247), (201, 247), (182, 247), (301, 247)]\n",
      "\tRight_Mouse170: 3 runs with shapes: [(551, 247), (421, 247), (331, 247)]\n",
      "\tRight_Mouse66: 3 runs with shapes: [(301, 247), (307, 247), (363, 247)]\n",
      "\tRight_Mouse108: 3 runs with shapes: [(401, 247), (361, 247), (211, 247)]\n",
      "\tRight_Mouse162: 3 runs with shapes: [(501, 247), (601, 247), (451, 247)]\n",
      "\tRight_Mouse56: 3 runs with shapes: [(501, 247), (290, 247), (390, 247)]\n",
      "\tRight_Mouse134: 3 runs with shapes: [(231, 247), (221, 247), (213, 247)]\n",
      "\tRight_Mouse118: 3 runs with shapes: [(203, 247), (213, 247), (261, 247)]\n",
      "\tRight_Mouse18: 4 runs with shapes: [(420, 247), (308, 247), (171, 247), (258, 247)]\n",
      "\tRight_Mouse156: 3 runs with shapes: [(281, 247), (571, 247), (529, 247)]\n",
      "\tRight_Mouse48: 4 runs with shapes: [(701, 247), (479, 247), (501, 247), (382, 247)]\n",
      "\tRight_Mouse158: 3 runs with shapes: [(171, 247), (161, 247), (186, 247)]\n",
      "\tRight_Mouse76: 3 runs with shapes: [(269, 247), (251, 247), (392, 247)]\n",
      "\tRight_Mouse142: 3 runs with shapes: [(251, 247), (227, 247), (161, 247)]\n",
      "\tRight_Mouse188: 3 runs with shapes: [(501, 247), (314, 247), (331, 247)]\n",
      "\tRight_Mouse6: 4 runs with shapes: [(147, 247), (184, 247), (151, 247), (107, 247)]\n",
      "\tRight_Mouse144: 3 runs with shapes: [(391, 247), (391, 247), (461, 247)]\n",
      "\tRight_Mouse164: 3 runs with shapes: [(163, 247), (121, 247), (211, 247)]\n",
      "\tRight_Mouse124: 3 runs with shapes: [(623, 247), (444, 247), (224, 247)]\n",
      "\tRight_Mouse46: 4 runs with shapes: [(106, 247), (109, 247), (107, 247), (137, 247)]\n",
      "\tRight_Mouse184: 3 runs with shapes: [(601, 247), (361, 247), (751, 247)]\n",
      "\tRight_Mouse176: 3 runs with shapes: [(601, 247), (531, 247), (351, 247)]\n",
      "\tRight_Mouse44: 4 runs with shapes: [(187, 247), (238, 247), (171, 247), (132, 247)]\n",
      "\tRight_Mouse140: 3 runs with shapes: [(501, 247), (941, 247), (601, 247)]\n",
      "\tRight_Mouse110: 3 runs with shapes: [(281, 247), (271, 247), (201, 247)]\n",
      "\tRight_Mouse80: 3 runs with shapes: [(601, 247), (411, 247), (501, 247)]\n",
      "\tRight_Mouse198: 2 runs with shapes: [(701, 247), (401, 247)]\n",
      "\tRight_Mouse8: 3 runs with shapes: [(553, 247), (751, 247), (570, 247)]\n",
      "\tRight_Mouse106: 3 runs with shapes: [(721, 247), (711, 247), (941, 247)]\n",
      "\tRight_Mouse32: 4 runs with shapes: [(175, 247), (222, 247), (220, 247), (84, 247)]\n",
      "\tRight_Mouse26: 2 runs with shapes: [(331, 247), (131, 247)]\n",
      "\tRight_Mouse10: 4 runs with shapes: [(501, 247), (373, 247), (301, 247), (319, 247)]\n",
      "\tRight_Mouse68: 3 runs with shapes: [(401, 247), (498, 247), (274, 247)]\n",
      "\tRight_Mouse194: 3 runs with shapes: [(601, 247), (451, 247), (1000, 247)]\n",
      "\tRight_Mouse36: 4 runs with shapes: [(169, 247), (144, 247), (152, 247), (272, 247)]\n",
      "\tRight_Mouse40: 3 runs with shapes: [(410, 247), (415, 247), (539, 247)]\n",
      "\tRight_Mouse136: 3 runs with shapes: [(801, 247), (454, 247), (211, 247)]\n",
      "\tRight_Mouse182: 3 runs with shapes: [(466, 247), (511, 247), (711, 247)]\n",
      "\tRight_Mouse196: 3 runs with shapes: [(661, 247), (471, 247), (371, 247)]\n",
      "\tRight_Mouse4: 4 runs with shapes: [(144, 247), (151, 247), (213, 247), (326, 247)]\n",
      "\tRight_Mouse50: 4 runs with shapes: [(801, 247), (1001, 247), (524, 247), (1001, 247)]\n",
      "\tLeft_Mouse84: 1 runs with shapes: [(420, 247)]\n",
      "\tLeft_Mouse32: 5 runs with shapes: [(109, 247), (140, 247), (87, 247), (173, 247), (201, 247)]\n",
      "\tLeft_Mouse148: 1 runs with shapes: [(901, 247)]\n",
      "\tLeft_Mouse30: 4 runs with shapes: [(211, 247), (133, 247), (111, 247), (112, 247)]\n",
      "\tLeft_Mouse56: 1 runs with shapes: [(366, 247)]\n",
      "\tLeft_Mouse180: 1 runs with shapes: [(601, 247)]\n",
      "\tLeft_Mouse134: 3 runs with shapes: [(271, 247), (261, 247), (181, 247)]\n",
      "\tLeft_Mouse118: 3 runs with shapes: [(299, 247), (175, 247), (196, 247)]\n",
      "\tLeft_Mouse154: 3 runs with shapes: [(281, 247), (161, 247), (181, 247)]\n",
      "\tLeft_Mouse18: 5 runs with shapes: [(313, 247), (155, 247), (173, 247), (174, 247), (135, 247)]\n",
      "\tLeft_Mouse156: 3 runs with shapes: [(211, 247), (231, 247), (351, 247)]\n",
      "\tLeft_Mouse46: 4 runs with shapes: [(201, 247), (135, 247), (101, 247), (120, 247)]\n",
      "\tLeft_Mouse72: 4 runs with shapes: [(275, 247), (321, 247), (301, 247), (246, 247)]\n",
      "\tLeft_Mouse104: 3 runs with shapes: [(211, 247), (201, 247), (315, 247)]\n",
      "\tLeft_Mouse42: 4 runs with shapes: [(301, 247), (304, 247), (459, 247), (220, 247)]\n",
      "\tLeft_Mouse64: 4 runs with shapes: [(312, 247), (444, 247), (212, 247), (196, 247)]\n",
      "\tLeft_Mouse4: 4 runs with shapes: [(149, 247), (117, 247), (171, 247), (231, 247)]\n",
      "\tLeft_Mouse50: 3 runs with shapes: [(374, 247), (711, 247), (701, 247)]\n",
      "\tLeft_Mouse158: 3 runs with shapes: [(206, 247), (144, 247), (135, 247)]\n",
      "\tLeft_Mouse74: 4 runs with shapes: [(301, 247), (201, 247), (122, 247), (301, 247)]\n",
      "\tLeft_Mouse76: 4 runs with shapes: [(278, 247), (241, 247), (256, 247), (315, 247)]\n",
      "\tLeft_Mouse142: 3 runs with shapes: [(261, 247), (163, 247), (171, 247)]\n",
      "\tLeft_Mouse6: 4 runs with shapes: [(233, 247), (124, 247), (122, 247), (180, 247)]\n",
      "\tLeft_Mouse60: 4 runs with shapes: [(101, 247), (245, 247), (226, 247), (106, 247)]\n",
      "\tLeft_Mouse78: 4 runs with shapes: [(215, 247), (84, 247), (85, 247), (135, 247)]\n",
      "\tLeft_Mouse110: 3 runs with shapes: [(341, 247), (251, 247), (237, 247)]\n",
      "\tLeft_Mouse36: 4 runs with shapes: [(226, 247), (171, 247), (96, 247), (125, 247)]\n",
      "\tLeft_Mouse40: 4 runs with shapes: [(353, 247), (531, 247), (314, 247), (255, 247)]\n",
      "\tLeft_Mouse132: 3 runs with shapes: [(401, 247), (331, 247), (231, 247)]\n",
      "\tLeft_Mouse22: 4 runs with shapes: [(191, 247), (180, 247), (88, 247), (129, 247)]\n",
      "\tLeft_Mouse52: 4 runs with shapes: [(238, 247), (207, 247), (619, 247), (204, 247)]\n",
      "\tLeft_Mouse164: 3 runs with shapes: [(244, 247), (124, 247), (136, 247)]\n",
      "\tLeft_Mouse90: 3 runs with shapes: [(391, 247), (377, 247), (421, 247)]\n",
      "\tLeft_Mouse178: 3 runs with shapes: [(579, 247), (701, 247), (631, 247)]\n",
      "\tLeft_Mouse24: 4 runs with shapes: [(279, 247), (292, 247), (257, 247), (227, 247)]\n",
      "\tLeft_Mouse54: 4 runs with shapes: [(298, 247), (213, 247), (247, 247), (170, 247)]\n",
      "\tLeft_Mouse38: 4 runs with shapes: [(357, 247), (277, 247), (501, 247), (158, 247)]\n",
      "\tLeft_Mouse28: 5 runs with shapes: [(211, 247), (255, 247), (145, 247), (104, 247), (97, 247)]\n",
      "\tLeft_Mouse100: 4 runs with shapes: [(141, 247), (161, 247), (241, 247), (201, 247)]\n",
      "\tLeft_Mouse8: 2 runs with shapes: [(543, 247), (586, 247)]\n",
      "\tLeft_Mouse62: 4 runs with shapes: [(211, 247), (152, 247), (167, 247), (215, 247)]\n",
      "\tLeft_Mouse150: 3 runs with shapes: [(401, 247), (541, 247), (531, 247)]\n",
      "\tLeft_Mouse174: 3 runs with shapes: [(671, 247), (561, 247), (531, 247)]\n",
      "\tLeft_Mouse122: 1 runs with shapes: [(421, 247)]\n",
      "\tLeft_Mouse186: 3 runs with shapes: [(231, 247), (249, 247), (161, 247)]\n",
      "\tLeft_Mouse70: 4 runs with shapes: [(324, 247), (363, 247), (335, 247), (671, 247)]\n",
      "\tLeft_Mouse86: 4 runs with shapes: [(149, 247), (201, 247), (251, 247), (149, 247)]\n",
      "\tLeft_Mouse82: 4 runs with shapes: [(260, 247), (167, 247), (201, 247), (253, 247)]\n",
      "\tLeft_Mouse16: 4 runs with shapes: [(303, 247), (186, 247), (213, 247), (175, 247)]\n",
      "\tLeft_Mouse14: 6 runs with shapes: [(244, 247), (161, 247), (201, 247), (201, 247), (105, 247), (106, 247)]\n",
      "\tLeft_Mouse102: 1 runs with shapes: [(381, 247)]\n",
      "\tLeft_Mouse44: 4 runs with shapes: [(176, 247), (171, 247), (134, 247), (161, 247)]\n",
      "\tLeft_Mouse138: 3 runs with shapes: [(491, 247), (374, 247), (471, 247)]\n",
      "Group: PreSCI_Corridor\n",
      "\tLeft_Mouse106: 3 runs with shapes: [(311, 247), (331, 247), (149, 247)]\n",
      "\tLeft_Mouse32: 5 runs with shapes: [(283, 247), (208, 247), (293, 247), (152, 247), (71, 247)]\n",
      "\tLeft_Mouse26: 4 runs with shapes: [(142, 247), (167, 247), (115, 247), (142, 247)]\n",
      "\tLeft_Mouse10: 4 runs with shapes: [(285, 247), (250, 247), (199, 247), (267, 247)]\n",
      "\tLeft_Mouse68: 5 runs with shapes: [(261, 247), (368, 247), (121, 247), (131, 247), (90, 247)]\n",
      "\tLeft_Mouse194: 4 runs with shapes: [(341, 247), (191, 247), (183, 247), (171, 247)]\n",
      "\tLeft_Mouse168: 3 runs with shapes: [(435, 247), (236, 247), (195, 247)]\n",
      "\tLeft_Mouse14: 5 runs with shapes: [(201, 247), (248, 247), (142, 247), (149, 247), (181, 247)]\n",
      "\tLeft_Mouse102: 3 runs with shapes: [(296, 247), (195, 247), (218, 247)]\n",
      "\tLeft_Mouse58: 4 runs with shapes: [(274, 247), (221, 247), (241, 247), (234, 247)]\n",
      "\tLeft_Mouse78: 4 runs with shapes: [(332, 247), (111, 247), (137, 247), (113, 247)]\n",
      "\tLeft_Mouse148: 3 runs with shapes: [(326, 247), (164, 247), (214, 247)]\n",
      "\tLeft_Mouse52: 4 runs with shapes: [(187, 247), (175, 247), (152, 247), (301, 247)]\n",
      "\tLeft_Mouse130: 3 runs with shapes: [(271, 247), (163, 247), (173, 247)]\n",
      "\tLeft_Mouse54: 4 runs with shapes: [(291, 247), (227, 247), (177, 247), (181, 247)]\n",
      "\tLeft_Mouse170: 3 runs with shapes: [(311, 247), (219, 247), (281, 247)]\n",
      "\tLeft_Mouse152: 2 runs with shapes: [(211, 247), (231, 247)]\n",
      "\tLeft_Mouse38: 4 runs with shapes: [(201, 247), (277, 247), (201, 247), (168, 247)]\n",
      "\tLeft_Mouse28: 3 runs with shapes: [(131, 247), (211, 247), (131, 247)]\n",
      "\tLeft_Mouse12: 5 runs with shapes: [(139, 247), (141, 247), (61, 247), (164, 247), (112, 247)]\n",
      "\tLeft_Mouse82: 5 runs with shapes: [(126, 247), (134, 247), (191, 247), (201, 247), (183, 247)]\n",
      "\tLeft_Mouse16: 4 runs with shapes: [(217, 247), (90, 247), (101, 247), (141, 247)]\n",
      "\tLeft_Mouse124: 3 runs with shapes: [(320, 247), (215, 247), (188, 247)]\n",
      "\tLeft_Mouse46: 4 runs with shapes: [(211, 247), (138, 247), (294, 247), (241, 247)]\n",
      "\tLeft_Mouse166: 3 runs with shapes: [(268, 247), (111, 247), (281, 247)]\n",
      "\tLeft_Mouse184: 3 runs with shapes: [(351, 247), (229, 247), (221, 247)]\n",
      "\tLeft_Mouse176: 3 runs with shapes: [(216, 247), (175, 247), (151, 247)]\n",
      "\tLeft_Mouse66: 4 runs with shapes: [(285, 247), (168, 247), (187, 247), (181, 247)]\n",
      "\tLeft_Mouse108: 3 runs with shapes: [(231, 247), (131, 247), (181, 247)]\n",
      "\tLeft_Mouse90: 5 runs with shapes: [(281, 247), (199, 247), (150, 247), (115, 247), (111, 247)]\n",
      "\tLeft_Mouse178: 3 runs with shapes: [(366, 247), (251, 247), (304, 247)]\n",
      "\tLeft_Mouse162: 3 runs with shapes: [(421, 247), (356, 247), (161, 247)]\n",
      "\tLeft_Mouse126: 3 runs with shapes: [(401, 247), (261, 247), (241, 247)]\n",
      "\tLeft_Mouse110: 3 runs with shapes: [(311, 247), (205, 247), (183, 247)]\n",
      "\tLeft_Mouse80: 7 runs with shapes: [(201, 247), (201, 247), (162, 247), (131, 247), (101, 247), (85, 247), (109, 247)]\n",
      "\tLeft_Mouse198: 3 runs with shapes: [(211, 247), (201, 247), (111, 247)]\n",
      "\tLeft_Mouse8: 4 runs with shapes: [(235, 247), (226, 247), (181, 247), (225, 247)]\n",
      "\tLeft_Mouse114: 3 runs with shapes: [(264, 247), (202, 247), (186, 247)]\n",
      "\tLeft_Mouse112: 3 runs with shapes: [(271, 247), (251, 247), (209, 247)]\n",
      "\tLeft_Mouse62: 4 runs with shapes: [(288, 247), (230, 247), (229, 247), (222, 247)]\n",
      "\tLeft_Mouse160: 3 runs with shapes: [(424, 247), (301, 247), (231, 247)]\n",
      "\tLeft_Mouse44: 4 runs with shapes: [(309, 247), (195, 247), (251, 247), (129, 247)]\n",
      "\tLeft_Mouse140: 3 runs with shapes: [(262, 247), (283, 247), (301, 247)]\n",
      "\tLeft_Mouse88: 4 runs with shapes: [(159, 247), (261, 247), (171, 247), (171, 247)]\n",
      "\tLeft_Mouse172: 3 runs with shapes: [(453, 247), (301, 247), (116, 247)]\n",
      "\tLeft_Mouse64: 5 runs with shapes: [(347, 247), (174, 247), (221, 247), (126, 247), (192, 247)]\n",
      "\tLeft_Mouse84: 5 runs with shapes: [(331, 247), (117, 247), (71, 247), (158, 247), (114, 247)]\n",
      "\tLeft_Mouse128: 3 runs with shapes: [(272, 247), (141, 247), (111, 247)]\n",
      "\tLeft_Mouse24: 6 runs with shapes: [(301, 247), (217, 247), (167, 247), (234, 247), (174, 247), (159, 247)]\n",
      "\tLeft_Mouse192: 2 runs with shapes: [(331, 247), (161, 247)]\n",
      "\tLeft_Mouse146: 3 runs with shapes: [(273, 247), (210, 247), (253, 247)]\n",
      "\tLeft_Mouse36: 3 runs with shapes: [(242, 247), (201, 247), (108, 247)]\n",
      "\tLeft_Mouse40: 3 runs with shapes: [(216, 247), (193, 247), (215, 247)]\n",
      "\tLeft_Mouse120: 3 runs with shapes: [(221, 247), (153, 247), (149, 247)]\n",
      "\tLeft_Mouse136: 3 runs with shapes: [(471, 247), (355, 247), (287, 247)]\n",
      "\tLeft_Mouse182: 3 runs with shapes: [(511, 247), (241, 247), (431, 247)]\n",
      "\tLeft_Mouse196: 3 runs with shapes: [(355, 247), (214, 247), (161, 247)]\n",
      "\tLeft_Mouse4: 3 runs with shapes: [(234, 247), (242, 247), (231, 247)]\n",
      "\tLeft_Mouse34: 4 runs with shapes: [(454, 247), (201, 247), (201, 247), (217, 247)]\n",
      "\tLeft_Mouse132: 3 runs with shapes: [(305, 247), (261, 247), (171, 247)]\n",
      "\tLeft_Mouse116: 3 runs with shapes: [(344, 247), (201, 247), (211, 247)]\n",
      "\tLeft_Mouse22: 4 runs with shapes: [(164, 247), (437, 247), (131, 247), (201, 247)]\n",
      "\tLeft_Mouse122: 3 runs with shapes: [(381, 247), (291, 247), (171, 247)]\n",
      "\tLeft_Mouse138: 3 runs with shapes: [(261, 247), (264, 247), (391, 247)]\n",
      "\tLeft_Mouse20: 5 runs with shapes: [(383, 247), (186, 247), (93, 247), (86, 247), (145, 247)]\n",
      "\tLeft_Mouse50: 4 runs with shapes: [(276, 247), (211, 247), (191, 247), (201, 247)]\n",
      "\tLeft_Mouse158: 3 runs with shapes: [(371, 247), (301, 247), (191, 247)]\n",
      "\tLeft_Mouse76: 3 runs with shapes: [(297, 247), (150, 247), (101, 247)]\n",
      "\tLeft_Mouse190: 3 runs with shapes: [(301, 247), (232, 247), (151, 247)]\n",
      "\tLeft_Mouse186: 3 runs with shapes: [(221, 247), (211, 247), (291, 247)]\n",
      "\tLeft_Mouse86: 3 runs with shapes: [(243, 247), (171, 247), (129, 247)]\n",
      "\tLeft_Mouse70: 4 runs with shapes: [(301, 247), (187, 247), (201, 247), (288, 247)]\n",
      "\tLeft_Mouse72: 4 runs with shapes: [(127, 247), (134, 247), (104, 247), (66, 247)]\n",
      "\tLeft_Mouse104: 3 runs with shapes: [(187, 247), (241, 247), (301, 247)]\n",
      "\tLeft_Mouse42: 4 runs with shapes: [(190, 247), (168, 247), (135, 247), (244, 247)]\n",
      "\tLeft_Mouse100: 3 runs with shapes: [(261, 247), (191, 247), (131, 247)]\n",
      "\tLeft_Mouse30: 5 runs with shapes: [(183, 247), (171, 247), (206, 247), (126, 247), (155, 247)]\n",
      "\tLeft_Mouse56: 4 runs with shapes: [(465, 247), (181, 247), (191, 247), (212, 247)]\n",
      "\tLeft_Mouse180: 3 runs with shapes: [(201, 247), (191, 247), (276, 247)]\n",
      "\tLeft_Mouse134: 3 runs with shapes: [(351, 247), (221, 247), (181, 247)]\n",
      "\tLeft_Mouse118: 3 runs with shapes: [(271, 247), (271, 247), (171, 247)]\n",
      "\tLeft_Mouse154: 3 runs with shapes: [(268, 247), (312, 247), (84, 247)]\n",
      "\tLeft_Mouse18: 4 runs with shapes: [(330, 247), (177, 247), (154, 247), (244, 247)]\n",
      "\tLeft_Mouse156: 3 runs with shapes: [(201, 247), (201, 247), (184, 247)]\n",
      "\tLeft_Mouse48: 3 runs with shapes: [(318, 247), (251, 247), (191, 247)]\n",
      "\tLeft_Mouse142: 3 runs with shapes: [(251, 247), (167, 247), (141, 247)]\n",
      "\tLeft_Mouse188: 3 runs with shapes: [(461, 247), (342, 247), (231, 247)]\n",
      "\tLeft_Mouse6: 4 runs with shapes: [(240, 247), (198, 247), (201, 247), (196, 247)]\n",
      "\tLeft_Mouse144: 3 runs with shapes: [(276, 247), (187, 247), (116, 247)]\n",
      "\tLeft_Mouse60: 4 runs with shapes: [(312, 247), (195, 247), (181, 247), (151, 247)]\n",
      "\tLeft_Mouse164: 3 runs with shapes: [(461, 247), (211, 247), (213, 247)]\n",
      "\tLeft_Mouse2: 5 runs with shapes: [(414, 247), (368, 247), (181, 247), (151, 247), (200, 247)]\n",
      "\tLeft_Mouse150: 3 runs with shapes: [(230, 247), (235, 247), (529, 247)]\n",
      "\tLeft_Mouse174: 3 runs with shapes: [(692, 247), (241, 247), (274, 247)]\n",
      "\tLeft_Mouse74: 7 runs with shapes: [(301, 247), (169, 247), (146, 247), (133, 247), (84, 247), (125, 247), (101, 247)]\n",
      "\tRight_Mouse112: 3 runs with shapes: [(362, 247), (231, 247), (150, 247)]\n",
      "\tRight_Mouse62: 4 runs with shapes: [(259, 247), (261, 247), (194, 247), (245, 247)]\n",
      "\tRight_Mouse2: 4 runs with shapes: [(278, 247), (382, 247), (271, 247), (170, 247)]\n",
      "\tRight_Mouse34: 4 runs with shapes: [(330, 247), (216, 247), (183, 247), (271, 247)]\n",
      "\tRight_Mouse72: 4 runs with shapes: [(201, 247), (131, 247), (81, 247), (107, 247)]\n",
      "\tRight_Mouse66: 4 runs with shapes: [(205, 247), (185, 247), (149, 247), (213, 247)]\n",
      "\tRight_Mouse64: 4 runs with shapes: [(159, 247), (241, 247), (156, 247), (86, 247)]\n",
      "\tRight_Mouse108: 3 runs with shapes: [(197, 247), (171, 247), (158, 247)]\n",
      "\tRight_Mouse20: 5 runs with shapes: [(301, 247), (124, 247), (101, 247), (221, 247), (179, 247)]\n",
      "\tRight_Mouse50: 3 runs with shapes: [(401, 247), (211, 247), (197, 247)]\n",
      "\tRight_Mouse74: 4 runs with shapes: [(111, 247), (115, 247), (127, 247), (105, 247)]\n",
      "\tRight_Mouse76: 5 runs with shapes: [(181, 247), (101, 247), (223, 247), (88, 247), (121, 247)]\n",
      "\tRight_Mouse116: 3 runs with shapes: [(301, 247), (207, 247), (291, 247)]\n",
      "\tRight_Mouse60: 4 runs with shapes: [(242, 247), (213, 247), (137, 247), (141, 247)]\n",
      "\tRight_Mouse138: 3 runs with shapes: [(241, 247), (291, 247), (168, 247)]\n",
      "\tRight_Mouse70: 4 runs with shapes: [(212, 247), (179, 247), (126, 247), (287, 247)]\n",
      "\tRight_Mouse102: 3 runs with shapes: [(255, 247), (207, 247), (231, 247)]\n",
      "\tRight_Mouse126: 3 runs with shapes: [(284, 247), (244, 247), (171, 247)]\n",
      "\tRight_Mouse78: 4 runs with shapes: [(139, 247), (121, 247), (114, 247), (107, 247)]\n",
      "\tRight_Mouse110: 3 runs with shapes: [(252, 247), (201, 247), (291, 247)]\n",
      "\tRight_Mouse40: 3 runs with shapes: [(301, 247), (148, 247), (168, 247)]\n",
      "\tRight_Mouse114: 3 runs with shapes: [(190, 247), (155, 247), (147, 247)]\n",
      "\tRight_Mouse136: 3 runs with shapes: [(414, 247), (131, 247), (141, 247)]\n",
      "\tRight_Mouse52: 4 runs with shapes: [(125, 247), (161, 247), (101, 247), (101, 247)]\n",
      "\tRight_Mouse86: 3 runs with shapes: [(281, 247), (228, 247), (241, 247)]\n",
      "\tRight_Mouse130: 3 runs with shapes: [(211, 247), (371, 247), (221, 247)]\n",
      "\tRight_Mouse104: 3 runs with shapes: [(210, 247), (205, 247), (153, 247)]\n",
      "\tRight_Mouse54: 4 runs with shapes: [(235, 247), (121, 247), (132, 247), (231, 247)]\n",
      "\tRight_Mouse42: 4 runs with shapes: [(290, 247), (237, 247), (177, 247), (241, 247)]\n",
      "\tRight_Mouse128: 3 runs with shapes: [(251, 247), (201, 247), (151, 247)]\n",
      "\tRight_Mouse82: 4 runs with shapes: [(113, 247), (136, 247), (189, 247), (258, 247)]\n",
      "\tRight_Mouse22: 4 runs with shapes: [(201, 247), (125, 247), (114, 247), (145, 247)]\n",
      "\tRight_Mouse106: 3 runs with shapes: [(331, 247), (221, 247), (109, 247)]\n",
      "\tRight_Mouse32: 5 runs with shapes: [(319, 247), (174, 247), (251, 247), (101, 247), (201, 247)]\n",
      "\tRight_Mouse122: 3 runs with shapes: [(361, 247), (197, 247), (201, 247)]\n",
      "\tRight_Mouse10: 4 runs with shapes: [(272, 247), (173, 247), (236, 247), (301, 247)]\n",
      "\tRight_Mouse68: 4 runs with shapes: [(261, 247), (284, 247), (214, 247), (214, 247)]\n",
      "\tRight_Mouse44: 4 runs with shapes: [(240, 247), (251, 247), (270, 247), (130, 247)]\n",
      "\tRight_Mouse38: 2 runs with shapes: [(145, 247), (145, 247)]\n",
      "\tRight_Mouse28: 7 runs with shapes: [(201, 247), (130, 247), (201, 247), (91, 247), (104, 247), (121, 247), (115, 247)]\n",
      "\tRight_Mouse88: 4 runs with shapes: [(181, 247), (160, 247), (151, 247), (151, 247)]\n",
      "\tRight_Mouse84: 5 runs with shapes: [(151, 247), (96, 247), (86, 247), (131, 247), (97, 247)]\n",
      "\tRight_Mouse24: 3 runs with shapes: [(231, 247), (213, 247), (291, 247)]\n",
      "\tRight_Mouse80: 5 runs with shapes: [(158, 247), (119, 247), (301, 247), (251, 247), (127, 247)]\n",
      "\tRight_Mouse36: 4 runs with shapes: [(240, 247), (401, 247), (301, 247), (189, 247)]\n",
      "\tRight_Mouse120: 3 runs with shapes: [(189, 247), (121, 247), (161, 247)]\n",
      "\tRight_Mouse4: 5 runs with shapes: [(295, 247), (209, 247), (171, 247), (159, 247), (139, 247)]\n",
      "\tRight_Mouse100: 3 runs with shapes: [(87, 247), (84, 247), (98, 247)]\n",
      "\tRight_Mouse8: 3 runs with shapes: [(327, 247), (201, 247), (192, 247)]\n",
      "\tRight_Mouse30: 4 runs with shapes: [(301, 247), (217, 247), (158, 247), (201, 247)]\n",
      "\tRight_Mouse118: 3 runs with shapes: [(301, 247), (135, 247), (131, 247)]\n",
      "\tRight_Mouse18: 5 runs with shapes: [(118, 247), (274, 247), (313, 247), (201, 247), (195, 247)]\n",
      "\tRight_Mouse26: 5 runs with shapes: [(311, 247), (241, 247), (129, 247), (117, 247), (120, 247)]\n",
      "\tRight_Mouse6: 3 runs with shapes: [(218, 247), (256, 247), (96, 247)]\n",
      "\tRight_Mouse12: 4 runs with shapes: [(129, 247), (331, 247), (75, 247), (89, 247)]\n",
      "\tRight_Mouse16: 5 runs with shapes: [(261, 247), (224, 247), (202, 247), (205, 247), (155, 247)]\n",
      "\tRight_Mouse90: 4 runs with shapes: [(190, 247), (229, 247), (110, 247), (124, 247)]\n",
      "\tRight_Mouse48: 6 runs with shapes: [(331, 247), (201, 247), (144, 247), (138, 247), (96, 247), (106, 247)]\n",
      "\tRight_Mouse124: 3 runs with shapes: [(222, 247), (203, 247), (254, 247)]\n",
      "\tRight_Mouse46: 4 runs with shapes: [(171, 247), (257, 247), (139, 247), (129, 247)]\n",
      "\tRight_Mouse132: 3 runs with shapes: [(311, 247), (201, 247), (151, 247)]\n",
      "\tRight_Mouse14: 4 runs with shapes: [(251, 247), (151, 247), (101, 247), (106, 247)]\n",
      "\tRight_Mouse58: 4 runs with shapes: [(301, 247), (343, 247), (240, 247), (166, 247)]\n",
      "\tRight_Mouse56: 4 runs with shapes: [(323, 247), (278, 247), (131, 247), (132, 247)]\n",
      "\tRight_Mouse134: 3 runs with shapes: [(261, 247), (180, 247), (193, 247)]\n",
      "\tRight_Mouse182: 3 runs with shapes: [(391, 247), (251, 247), (201, 247)]\n",
      "\tRight_Mouse150: 3 runs with shapes: [(327, 247), (372, 247), (221, 247)]\n",
      "\tRight_Mouse172: 3 runs with shapes: [(341, 247), (325, 247), (224, 247)]\n",
      "\tRight_Mouse142: 3 runs with shapes: [(227, 247), (154, 247), (150, 247)]\n",
      "\tRight_Mouse188: 3 runs with shapes: [(341, 247), (141, 247), (169, 247)]\n",
      "\tRight_Mouse186: 3 runs with shapes: [(281, 247), (127, 247), (98, 247)]\n",
      "\tRight_Mouse190: 3 runs with shapes: [(311, 247), (161, 247), (154, 247)]\n",
      "\tRight_Mouse162: 3 runs with shapes: [(369, 247), (329, 247), (199, 247)]\n",
      "\tRight_Mouse194: 3 runs with shapes: [(271, 247), (221, 247), (117, 247)]\n",
      "\tRight_Mouse148: 3 runs with shapes: [(276, 247), (381, 247), (146, 247)]\n",
      "\tRight_Mouse152: 3 runs with shapes: [(281, 247), (231, 247), (192, 247)]\n",
      "\tRight_Mouse184: 3 runs with shapes: [(178, 247), (191, 247), (321, 247)]\n",
      "\tRight_Mouse176: 3 runs with shapes: [(191, 247), (161, 247), (203, 247)]\n",
      "\tRight_Mouse164: 3 runs with shapes: [(321, 247), (168, 247), (181, 247)]\n",
      "\tRight_Mouse140: 3 runs with shapes: [(222, 247), (211, 247), (206, 247)]\n",
      "\tRight_Mouse170: 3 runs with shapes: [(251, 247), (171, 247), (221, 247)]\n",
      "\tRight_Mouse178: 3 runs with shapes: [(321, 247), (121, 247), (211, 247)]\n",
      "\tRight_Mouse198: 3 runs with shapes: [(331, 247), (137, 247), (188, 247)]\n",
      "\tRight_Mouse196: 3 runs with shapes: [(299, 247), (230, 247), (301, 247)]\n",
      "\tRight_Mouse192: 3 runs with shapes: [(301, 247), (291, 247), (161, 247)]\n",
      "\tRight_Mouse146: 3 runs with shapes: [(217, 247), (287, 247), (277, 247)]\n",
      "\tRight_Mouse180: 3 runs with shapes: [(323, 247), (267, 247), (145, 247)]\n",
      "\tRight_Mouse160: 3 runs with shapes: [(371, 247), (239, 247), (192, 247)]\n",
      "\tRight_Mouse156: 3 runs with shapes: [(261, 247), (211, 247), (261, 247)]\n",
      "\tRight_Mouse158: 3 runs with shapes: [(340, 247), (221, 247), (189, 247)]\n",
      "\tRight_Mouse174: 3 runs with shapes: [(351, 247), (231, 247), (286, 247)]\n",
      "\tRight_Mouse144: 3 runs with shapes: [(221, 247), (201, 247), (181, 247)]\n",
      "\tRight_Mouse168: 3 runs with shapes: [(175, 247), (110, 247), (121, 247)]\n",
      "\tRight_Mouse166: 3 runs with shapes: [(400, 247), (191, 247), (271, 247)]\n",
      "\tRight_Mouse154: 3 runs with shapes: [(266, 247), (176, 247), (164, 247)]\n"
     ]
    }
   ],
   "source": [
    "## Directories and constants\n",
    "FIGURES_DIR = './figures/SCI'\n",
    "MODELS_DIR = './src/models'\n",
    "DATA_DIR = './csv/SCI_full_w_phase'\n",
    "MEAN_FEATURES_FILE = './csv/SCI_pre_acute_hindlimb_mouse_features_2025-06-06_15-11-59.csv'\n",
    "HEALTHY_KEY = 'Pre'\n",
    "SICK_KEY = 'Post'\n",
    "SIDE_KEY = ('Left','Right')\n",
    "\n",
    "## Hyperparameters and early stopping\n",
    "INPUT_DIM = None\n",
    "HIDDEN_DIM = 64\n",
    "LATENT_DIM = 16\n",
    "BATCH_SIZE = 32\n",
    "NUM_EPOCHS = 5000\n",
    "LR = 1e-3\n",
    "PATIENCE = 100 # number of epochs to wait for improvement before stopping\n",
    "MIN_DELTA = 1e-4 # minimum change to qualify as an improvement\n",
    "BEST_MODEL_PATH = os.path.join(MODELS_DIR, 'lstm_VAE_t_SCI_20250609_200452.pt')\n",
    "BEST_LOSS_PATH = os.path.join(FIGURES_DIR, 'SCI_losses.csv')\n",
    "\n",
    "## Plot constants\n",
    "SCATTER_SIZE = 6\n",
    "SCATTER_LINE_WIDTH = 1\n",
    "SCATTER_SYMBOL = 'circle'\n",
    "LEGEND_FONT_SIZE = 18\n",
    "TITLE_FONT_SIZE = 24\n",
    "AXIS_FONT_SIZE = 16\n",
    "AXIS_TITLE_FONT_SIZE = 20\n",
    "\n",
    "# Load the data\n",
    "data = load_data_from_directory(DATA_DIR)\n",
    "\n",
    "# Print the data structure\n",
    "for datagroup, mice in data.items():\n",
    "    print(f\"Group: {datagroup}\")\n",
    "    for mouse_direction, runs in mice.items():\n",
    "        print(f\"\\t{mouse_direction}: {len(runs)} runs with shapes: {[df.shape for df in runs.values()]}\")"
   ]
  },
  {
   "cell_type": "code",
   "execution_count": 3,
   "id": "59a4889c",
   "metadata": {},
   "outputs": [
    {
     "name": "stdout",
     "output_type": "stream",
     "text": [
      "Number of features: 244\n"
     ]
    }
   ],
   "source": [
    "# Print the features count\n",
    "for datagroup, mice in data.items():\n",
    "    for mouse_direction, runs in mice.items():\n",
    "        for run, df in runs.items():\n",
    "            print(f\"Number of features: {df.shape[1] + 1 - 4}\") # +1 bc of index, -4 to exclude frame, forestep, hindstep, and time\n",
    "            break\n",
    "        break\n",
    "    break"
   ]
  },
  {
   "cell_type": "code",
   "execution_count": 4,
   "id": "2b8c7ae8",
   "metadata": {},
   "outputs": [],
   "source": [
    "## Segment all steps in the data\n",
    "# This will create two dictionaries: segmented_hindsteps and segmented_foresteps\n",
    "# Each dictionary will contain segmented steps for each mouse direction and run\n",
    "    # \"step\": step_df,\n",
    "    # \"group\": group,\n",
    "    # \"mouse\": mouse,\n",
    "    # \"run\": run\n",
    "segmented_hindsteps, segmented_foresteps = segment_all_steps(data)\n",
    "\n",
    "reshaped_data = reshape_data(data) # reshape the data to have a single DataFrame for each mouse direction and run and access to the hindsteps and foresteps\n",
    "\n",
    "## Flatten all steps into a single array to compute global mean/std and get the scaler\n",
    "all_healthy_arrays = [step_dict[\"step\"].values for step_dict in segmented_hindsteps if HEALTHY_KEY in step_dict[\"group\"] and SIDE_KEY[0] in step_dict[\"mouse\"]]\n",
    "flat_data = np.vstack(all_healthy_arrays)\n",
    "\n",
    "scaler = StandardScaler()\n",
    "scaler = scaler.fit(flat_data)\n",
    "\n",
    "## Prepare the data for training\n",
    "healthy_steps = [s for s in segmented_hindsteps if HEALTHY_KEY in s[\"group\"] and SIDE_KEY[0] in s[\"mouse\"]]\n",
    "unhealthy_steps = [s for s in segmented_hindsteps if SICK_KEY in s[\"group\"] and SIDE_KEY[0] in s[\"mouse\"]]\n",
    "step_tensor, lengths = steps_to_tensor(healthy_steps, scaler)\n",
    "if INPUT_DIM is None:\n",
    "    INPUT_DIM = step_tensor.shape[2]"
   ]
  },
  {
   "cell_type": "code",
   "execution_count": 5,
   "id": "477a3976",
   "metadata": {},
   "outputs": [
    {
     "name": "stdout",
     "output_type": "stream",
     "text": [
      "Segmented dataframe shape: (42, 244)\n",
      "Step tensor shape: torch.Size([1244, 159, 244]), \n",
      "Lengths shape: torch.Size([1244])\n"
     ]
    }
   ],
   "source": [
    "print(f'Segmented dataframe shape: {segmented_hindsteps[0][\"step\"].shape}')\n",
    "#print(f'Averaged dataframe shhape: {averaged_hindsteps[0][\"step\"].shape}')\n",
    "print(f\"Step tensor shape: {step_tensor.shape}, \\nLengths shape: {lengths.shape}\")"
   ]
  },
  {
   "cell_type": "code",
   "execution_count": 6,
   "id": "2eef846a",
   "metadata": {},
   "outputs": [],
   "source": [
    "### Plot XY pose data\n",
    "HINDLIMB_KEY = 'hindlimb'\n",
    "FORELIMB_KEY = 'forelimb'\n",
    "SPINE_KEY = 'spine'\n",
    "TAIL_KEY = 'tail'\n",
    "POSE_KEY = 'pose'\n",
    "ANGLE_KEY = 'Angle'\n",
    "PHASE_KEY = 'Phase'\n",
    "ALL_LIMBS = [HINDLIMB_KEY, FORELIMB_KEY, SPINE_KEY, TAIL_KEY]\n",
    "first_df = next(iter(segmented_hindsteps))[\"step\"]"
   ]
  },
  {
   "cell_type": "code",
   "execution_count": 7,
   "id": "a4d8c411",
   "metadata": {},
   "outputs": [
    {
     "name": "stdout",
     "output_type": "stream",
     "text": [
      "Limbs poses: ['rhindlimb hip - X pose (m)', 'rhindlimb hip - Y pose (m)', 'rhindlimb knee - X pose (m)', 'rhindlimb knee - Y pose (m)', 'rhindlimb ankle - X pose (m)', 'rhindlimb ankle - Y pose (m)', 'rhindlimb lHindpaw - X pose (m)', 'rhindlimb lHindpaw - Y pose (m)', 'rhindlimb lHindfingers - X pose (m)', 'rhindlimb lHindfingers - Y pose (m)']\n",
      "Limbs poses: ['rforelimb shoulder - X pose (m)', 'rforelimb shoulder - Y pose (m)', 'rforelimb elbow - X pose (m)', 'rforelimb elbow - Y pose (m)', 'rforelimb wrist - X pose (m)', 'rforelimb wrist - Y pose (m)', 'rforelimb lForepaw - X pose (m)', 'rforelimb lForepaw - Y pose (m)']\n",
      "Limbs poses: ['spine head - X pose (m)', 'spine head - Y pose (m)', 'spine spine 1 - X pose (m)', 'spine spine 1 - Y pose (m)', 'spine spine 2 - X pose (m)', 'spine spine 2 - Y pose (m)', 'spine spine 3 - X pose (m)', 'spine spine 3 - Y pose (m)', 'spine spine 4 - X pose (m)', 'spine spine 4 - Y pose (m)', 'spine base - X pose (m)', 'spine base - Y pose (m)']\n",
      "Limbs poses: ['tail base - X pose (m)', 'tail base - Y pose (m)']\n"
     ]
    }
   ],
   "source": [
    "## Extract poses for each limb\n",
    "hindlimb_keys = [key for key in first_df.columns if HINDLIMB_KEY in key and POSE_KEY in key]\n",
    "forelimb_keys = [key for key in first_df.columns if FORELIMB_KEY in key and POSE_KEY in key]\n",
    "spine_keys = [key for key in first_df.columns if SPINE_KEY in key and POSE_KEY in key]\n",
    "tail_keys = [key for key in first_df.columns if TAIL_KEY in key and POSE_KEY in key]\n",
    "\n",
    "all_limbs_keys = [hindlimb_keys, forelimb_keys, spine_keys, tail_keys]\n",
    "for limb in all_limbs_keys:\n",
    "    print(f\"Limbs poses: {limb}\")"
   ]
  },
  {
   "cell_type": "code",
   "execution_count": 8,
   "id": "c172207d",
   "metadata": {},
   "outputs": [
    {
     "name": "stdout",
     "output_type": "stream",
     "text": [
      "Limbs angles: ['Angle - rhindlimb - hip (°)', 'Angle - rhindlimb - knee (°)', 'Angle - rhindlimb - ankle (°)', 'Angle - rhindlimb - lHindpaw (°)', 'Angle - rhindlimb - lHindfingers (°)', 'Angle velocity - rhindlimb - hip (rad/s)', 'Angle velocity - rhindlimb - knee (rad/s)', 'Angle velocity - rhindlimb - ankle (rad/s)', 'Angle velocity - rhindlimb - lHindpaw (rad/s)', 'Angle velocity - rhindlimb - lHindfingers (rad/s)', 'Angle acceleration - rhindlimb - hip (rad/s^2)', 'Angle acceleration - rhindlimb - knee (rad/s^2)', 'Angle acceleration - rhindlimb - ankle (rad/s^2)', 'Angle acceleration - rhindlimb - lHindpaw (rad/s^2)', 'Angle acceleration - rhindlimb - lHindfingers (rad/s^2)']\n",
      "Limbs angles: ['Angle - rforelimb - shoulder (°)', 'Angle - rforelimb - elbow (°)', 'Angle - rforelimb - wrist (°)', 'Angle - rforelimb - lForepaw (°)', 'Angle velocity - rforelimb - shoulder (rad/s)', 'Angle velocity - rforelimb - elbow (rad/s)', 'Angle velocity - rforelimb - wrist (rad/s)', 'Angle velocity - rforelimb - lForepaw (rad/s)', 'Angle acceleration - rforelimb - shoulder (rad/s^2)', 'Angle acceleration - rforelimb - elbow (rad/s^2)', 'Angle acceleration - rforelimb - wrist (rad/s^2)', 'Angle acceleration - rforelimb - lForepaw (rad/s^2)']\n",
      "Limbs angles: ['Angle - spine - head (°)', 'Angle - spine - spine 1 (°)', 'Angle - spine - spine 2 (°)', 'Angle - spine - spine 3 (°)', 'Angle - spine - spine 4 (°)', 'Angle - spine - base (°)', 'Angle velocity - spine - head (rad/s)', 'Angle velocity - spine - spine 1 (rad/s)', 'Angle velocity - spine - spine 2 (rad/s)', 'Angle velocity - spine - spine 3 (rad/s)', 'Angle velocity - spine - spine 4 (rad/s)', 'Angle velocity - spine - base (rad/s)', 'Angle acceleration - spine - head (rad/s^2)', 'Angle acceleration - spine - spine 1 (rad/s^2)', 'Angle acceleration - spine - spine 2 (rad/s^2)', 'Angle acceleration - spine - spine 3 (rad/s^2)', 'Angle acceleration - spine - spine 4 (rad/s^2)', 'Angle acceleration - spine - base (rad/s^2)']\n",
      "Limbs angles: ['Angle - tail - base (°)', 'Angle - tail - tail 1 (°)', 'Angle - tail - tail 2 (°)', 'Angle - tail - tail 3 (°)', 'Angle - tail - tail 4 (°)', 'Angle velocity - tail - base (rad/s)', 'Angle velocity - tail - tail 1 (rad/s)', 'Angle velocity - tail - tail 2 (rad/s)', 'Angle velocity - tail - tail 3 (rad/s)', 'Angle velocity - tail - tail 4 (rad/s)', 'Angle acceleration - tail - base (rad/s^2)', 'Angle acceleration - tail - tail 1 (rad/s^2)', 'Angle acceleration - tail - tail 2 (rad/s^2)', 'Angle acceleration - tail - tail 3 (rad/s^2)', 'Angle acceleration - tail - tail 4 (rad/s^2)']\n"
     ]
    }
   ],
   "source": [
    "## Extract angles for each limb\n",
    "hindlimb_angles = [key for key in first_df.columns if ANGLE_KEY in key and HINDLIMB_KEY in key]\n",
    "forelimb_angles = [key for key in first_df.columns if ANGLE_KEY in key and FORELIMB_KEY in key]\n",
    "spine_angles = [key for key in first_df.columns if ANGLE_KEY in key and SPINE_KEY in key]\n",
    "tail_angles = [key for key in first_df.columns if ANGLE_KEY in key and TAIL_KEY in key]\n",
    "\n",
    "all_limbs_angles = [hindlimb_angles, forelimb_angles, spine_angles, tail_angles]\n",
    "for limb in all_limbs_angles:\n",
    "    print(f\"Limbs angles: {limb}\")"
   ]
  },
  {
   "cell_type": "code",
   "execution_count": 9,
   "id": "52f69e70",
   "metadata": {},
   "outputs": [
    {
     "name": "stdout",
     "output_type": "stream",
     "text": [
      "Limbs phases: ['Phase - rhindlimb - hip (°)', 'Phase - rhindlimb - knee (°)', 'Phase - rhindlimb - ankle (°)', 'Phase - rhindlimb - lHindpaw (°)', 'Phase velocity - rhindlimb - hip (rad/s)', 'Phase velocity - rhindlimb - knee (rad/s)', 'Phase velocity - rhindlimb - ankle (rad/s)', 'Phase velocity - rhindlimb - lHindpaw (rad/s)', 'Phase acceleration - rhindlimb - hip (rad/s^2)', 'Phase acceleration - rhindlimb - knee (rad/s^2)', 'Phase acceleration - rhindlimb - ankle (rad/s^2)', 'Phase acceleration - rhindlimb - lHindpaw (rad/s^2)']\n",
      "Limbs phases: ['Phase - rforelimb - shoulder (°)', 'Phase - rforelimb - elbow (°)', 'Phase - rforelimb - wrist (°)', 'Phase velocity - rforelimb - shoulder (rad/s)', 'Phase velocity - rforelimb - elbow (rad/s)', 'Phase velocity - rforelimb - wrist (rad/s)', 'Phase acceleration - rforelimb - shoulder (rad/s^2)', 'Phase acceleration - rforelimb - elbow (rad/s^2)', 'Phase acceleration - rforelimb - wrist (rad/s^2)']\n",
      "Limbs phases: ['Phase - spine - head (°)', 'Phase - spine - spine 1 (°)', 'Phase - spine - spine 2 (°)', 'Phase - spine - spine 3 (°)', 'Phase - spine - spine 4 (°)', 'Phase velocity - spine - head (rad/s)', 'Phase velocity - spine - spine 1 (rad/s)', 'Phase velocity - spine - spine 2 (rad/s)', 'Phase velocity - spine - spine 3 (rad/s)', 'Phase velocity - spine - spine 4 (rad/s)', 'Phase acceleration - spine - head (rad/s^2)', 'Phase acceleration - spine - spine 1 (rad/s^2)', 'Phase acceleration - spine - spine 2 (rad/s^2)', 'Phase acceleration - spine - spine 3 (rad/s^2)', 'Phase acceleration - spine - spine 4 (rad/s^2)']\n",
      "Limbs phases: ['Phase - tail - base (°)', 'Phase - tail - tail 1 (°)', 'Phase - tail - tail 2 (°)', 'Phase - tail - tail 3 (°)', 'Phase velocity - tail - base (rad/s)', 'Phase velocity - tail - tail 1 (rad/s)', 'Phase velocity - tail - tail 2 (rad/s)', 'Phase velocity - tail - tail 3 (rad/s)', 'Phase acceleration - tail - base (rad/s^2)', 'Phase acceleration - tail - tail 1 (rad/s^2)', 'Phase acceleration - tail - tail 2 (rad/s^2)', 'Phase acceleration - tail - tail 3 (rad/s^2)']\n"
     ]
    }
   ],
   "source": [
    "## Extract phases for each limb\n",
    "hindlimb_phase = [key for key in first_df.columns if PHASE_KEY in key and HINDLIMB_KEY in key]\n",
    "forelimb_phase = [key for key in first_df.columns if PHASE_KEY in key and FORELIMB_KEY in key]\n",
    "spine_phase = [key for key in first_df.columns if PHASE_KEY in key and SPINE_KEY in key]\n",
    "tail_phase = [key for key in first_df.columns if PHASE_KEY in key and TAIL_KEY in key]\n",
    "\n",
    "all_limbs_phase = [hindlimb_phase, forelimb_phase, spine_phase, tail_phase]\n",
    "for limb in all_limbs_phase:\n",
    "    print(f\"Limbs phases: {limb}\")"
   ]
  },
  {
   "cell_type": "code",
   "execution_count": 10,
   "id": "16fa24ed",
   "metadata": {},
   "outputs": [
    {
     "name": "stdout",
     "output_type": "stream",
     "text": [
      "CoM features: ['rforelimb - CoM X (m)', 'rforelimb - CoM Y (m)', 'rhindlimb - CoM X (m)', 'rhindlimb - CoM Y (m)', 'spine - CoM X (m)', 'spine - CoM Y (m)', 'tail - CoM X (m)', 'tail - CoM Y (m)']\n"
     ]
    }
   ],
   "source": [
    "## Extract CoM features\n",
    "CoM_features = [key for key in first_df.columns if 'CoM' in key in key]\n",
    "print(f\"CoM features: {CoM_features}\")"
   ]
  },
  {
   "cell_type": "code",
   "execution_count": 11,
   "id": "ec1d09f2",
   "metadata": {},
   "outputs": [
    {
     "name": "stdout",
     "output_type": "stream",
     "text": [
      "Single point features: ['rhindlimb lHindfingers - X pose (m)', 'rhindlimb lHindfingers - X velocity (m/s)', 'rhindlimb lHindfingers - X acceleration (m/s^2)', 'rhindlimb lHindfingers - X jerk (m/s^3)', 'rhindlimb lHindfingers - Y pose (m)', 'rhindlimb lHindfingers - Y velocity (m/s)', 'rhindlimb lHindfingers - Y acceleration (m/s^2)', 'rhindlimb lHindfingers - Y jerk (m/s^3)']\n",
      "Single point features: ['rhindlimb lHindpaw - X pose (m)', 'rhindlimb lHindpaw - X velocity (m/s)', 'rhindlimb lHindpaw - X acceleration (m/s^2)', 'rhindlimb lHindpaw - X jerk (m/s^3)', 'rhindlimb lHindpaw - Y pose (m)', 'rhindlimb lHindpaw - Y velocity (m/s)', 'rhindlimb lHindpaw - Y acceleration (m/s^2)', 'rhindlimb lHindpaw - Y jerk (m/s^3)', 'Phase - rhindlimb - lHindpaw (°)', 'Phase velocity - rhindlimb - lHindpaw (rad/s)', 'Phase acceleration - rhindlimb - lHindpaw (rad/s^2)']\n",
      "Single point features: ['rforelimb lForepaw - X pose (m)', 'rforelimb lForepaw - X velocity (m/s)', 'rforelimb lForepaw - X acceleration (m/s^2)', 'rforelimb lForepaw - X jerk (m/s^3)', 'rforelimb lForepaw - Y pose (m)', 'rforelimb lForepaw - Y velocity (m/s)', 'rforelimb lForepaw - Y acceleration (m/s^2)', 'rforelimb lForepaw - Y jerk (m/s^3)']\n",
      "Single point features: ['spine head - X pose (m)', 'spine head - X velocity (m/s)', 'spine head - X acceleration (m/s^2)', 'spine head - X jerk (m/s^3)', 'spine head - Y pose (m)', 'spine head - Y velocity (m/s)', 'spine head - Y acceleration (m/s^2)', 'spine head - Y jerk (m/s^3)', 'Phase - spine - head (°)', 'Phase velocity - spine - head (rad/s)', 'Phase acceleration - spine - head (rad/s^2)']\n"
     ]
    }
   ],
   "source": [
    "## Extract relevant single point features\n",
    "hindfinger_features = [key for key in first_df.columns if 'hindfingers' in key.lower() and 'Angle' not in key]\n",
    "hindpaw_features = [key for key in first_df.columns if 'hindpaw' in key.lower() and 'Angle' not in key]\n",
    "forepaw_features = [key for key in first_df.columns if 'forepaw' in key.lower() and 'Angle' not in key]\n",
    "head_features = [key for key in first_df.columns if 'head' in key.lower() and 'Angle' not in key]\n",
    "\n",
    "single_point_features = [hindfinger_features, hindpaw_features, forepaw_features, head_features]\n",
    "single_point_feature_names = ['hindfingers', 'hindpaw', 'forepaw', 'head']\n",
    "for features in single_point_features:\n",
    "    print(f\"Single point features: {features}\")"
   ]
  },
  {
   "cell_type": "code",
   "execution_count": 12,
   "id": "907eab6a",
   "metadata": {},
   "outputs": [],
   "source": [
    "## Save all angle plots\n",
    "savedir = os.path.join(FIGURES_DIR, 'Angles')\n",
    "for limb, angles in zip(ALL_LIMBS, all_limbs_angles):\n",
    "    plot_phase_aligned_average_single(healthy_steps, feature_keys=angles, figure_path=os.path.join(savedir, f'Angles_healthy_time_locked_{limb}.svg')) # Plot phase locked for one state\n",
    "    compare_phase_aligned_average_single(healthy_steps, unhealthy_steps, feature_keys=angles, figure_path=os.path.join(savedir, f'Angles_healthy_vs_SCI_time_locked_{limb}.svg')) # Plot phase locked for two states\n",
    "    compare_spatial_angle_progression_over_time(healthy_steps, unhealthy_steps, feature_keys=angles, figure_path=os.path.join(savedir, f'Angles_healthy_vs_SCI_space_locked_{limb}.svg')) # Plot space locked for two states"
   ]
  },
  {
   "cell_type": "code",
   "execution_count": 14,
   "id": "5d33255d",
   "metadata": {},
   "outputs": [],
   "source": [
    "## Save all phase plots\n",
    "savedir = os.path.join(FIGURES_DIR, 'Phases')\n",
    "for limb, phases in zip(ALL_LIMBS, all_limbs_phase):\n",
    "    plot_phase_aligned_average_single(healthy_steps, feature_keys=phases, figure_path=os.path.join(savedir, f'Phases_healthy_time_locked_{limb}.svg')) # Plot phase locked for one state\n",
    "    compare_phase_aligned_average_single(healthy_steps, unhealthy_steps, feature_keys=phases, figure_path=os.path.join(savedir, f'Phases_healthy_vs_SCI_time_locked_{limb}.svg')) # Plot phase locked for two states\n",
    "    compare_spatial_angle_progression_over_time(healthy_steps, unhealthy_steps, feature_keys=angles, figure_path=os.path.join(savedir, f'Phases_healthy_vs_SCI_space_locked_{limb}.svg')) # Plot space locked for two states"
   ]
  },
  {
   "cell_type": "code",
   "execution_count": 15,
   "id": "38a11b54",
   "metadata": {},
   "outputs": [],
   "source": [
    "## Save all CoM plots\n",
    "savedir = os.path.join(FIGURES_DIR, 'CoM')\n",
    "\n",
    "plot_phase_aligned_average_xy(healthy_steps, feature_keys=CoM_features, figure_path=os.path.join(savedir, 'CoM_healthy_time_locked.svg')) # Plot phase locked for one state\n",
    "compare_phase_aligned_average_xy(healthy_steps, unhealthy_steps, feature_keys=CoM_features, figure_path=os.path.join(savedir, 'CoM_healthy_vs_SCI_time_locked.svg')) # Plot phase locked for two states\n",
    "compare_spatial_progression_xy_over_time(healthy_steps, unhealthy_steps, feature_keys=CoM_features, length_key='rhindlimb lHindfingers - X pose (m)', height_key='rhindlimb lHindfingers - Y pose (m)', figure_path=os.path.join(savedir, 'CoM_healthy_vs_SCI_space_locked.svg')) # Plot space locked for two states"
   ]
  },
  {
   "cell_type": "code",
   "execution_count": 16,
   "id": "39eeacd5",
   "metadata": {},
   "outputs": [],
   "source": [
    "## Save all XY pose plots\n",
    "savedir = os.path.join(FIGURES_DIR, 'Kinematics')\n",
    "\n",
    "for name, feature in zip(single_point_feature_names, single_point_features):\n",
    "    plot_phase_aligned_average_xy(healthy_steps, feature_keys=feature, figure_path=os.path.join(savedir, f'{name}_healthy_time_locked.svg')) # Plot phase locked for one state\n",
    "    compare_phase_aligned_average_xy(healthy_steps, unhealthy_steps, feature_keys=feature, figure_path=os.path.join(savedir, f'{name}_healthy_vs_SCI_time_locked.svg')) # Plot phase locked for two states\n",
    "    compare_spatial_progression_xy_over_time(healthy_steps, unhealthy_steps, feature_keys=feature, length_key='rhindlimb lHindfingers - X pose (m)', height_key='rhindlimb lHindfingers - Y pose (m)', figure_path=os.path.join(savedir, f'{name}_healthy_vs_SCI_space_locked.svg')) # Plot space locked for two states"
   ]
  },
  {
   "cell_type": "code",
   "execution_count": null,
   "id": "0108b4fb",
   "metadata": {},
   "outputs": [],
   "source": [
    "forelimb_keys = [key for key in first_df.columns if 'forelimb' in key.lower() and POSE_KEY in key]\n",
    "# Plot stick figure forelimb (bottom) and hindlimb (upper) trajectories\n",
    "savedir = os.path.join(FIGURES_DIR, 'Trajectories/Full')\n",
    "plot_trajectory_with_joint_traces(reshaped_data, forelimb_keys, hindlimb_keys, figure_path=savedir)"
   ]
  },
  {
   "cell_type": "code",
   "execution_count": 17,
   "id": "7ad123fc",
   "metadata": {},
   "outputs": [
    {
     "data": {
      "application/vnd.plotly.v1+json": {
       "config": {
        "plotlyServerURL": "https://plot.ly"
       },
       "data": [
        {
         "line": {
          "color": "rgba(189,147,249,1)"
         },
         "marker": {
          "color": "rgba(189,147,249,1)",
          "size": 5
         },
         "mode": "lines+markers",
         "name": "stance",
         "showlegend": false,
         "type": "scatter",
         "x": [
          0.20807878684863218,
          0.20811648990612183,
          0.208150962727004,
          0.20817509064975642,
          0.2081842400306922,
          0.20819455792091224,
          0.20819682870462514,
          0.20819403036577536,
          0.2082012349723914,
          0.20820843452322357,
          0.20821655177623832,
          0.20822780213362257,
          0.20824684488418768,
          0.20826920402170868,
          0.20829845958392426,
          0.20833391303716667,
          0.20837185423929486,
          0.20839837713102857,
          0.20842599634813513,
          0.20845632765172967,
          0.2084823054246673,
          0.2085054075712024,
          0.20853301716136885,
          0.20856539029026458,
          0.20860052368650978,
          0.20863514284161014,
          0.2086705282849976,
          0.20869896531596122,
          0.2087391228825746,
          0.20879180489285076,
          0.20884795793129798,
          0.20891761157810748,
          0.20899356938698263,
          0.20908503359356684,
          0.20919145552940194,
          0.20930441690381688,
          0.20942985799259026,
          0.20956514663881462,
          0.20972231212534345,
          0.20990142358495853,
          0.21009959378509682,
          0.21032302157514873,
          0.21056631193795616,
          0.21083332089610163,
          0.21113356718099208,
          0.21146410389580314,
          0.2118355749078238
         ],
         "y": [
          0.00158064228824736,
          0.001532707190986982,
          0.0014860036529783746,
          0.0014482572349418317,
          0.0014184891172574466,
          0.0013930126403127311,
          0.0013722374608040188,
          0.0013569681681374578,
          0.0013436013650723734,
          0.00133283900113489,
          0.0013249058902915104,
          0.0013180538149993376,
          0.001312670271943755,
          0.0013097810491495242,
          0.0013077717344075837,
          0.0013056830070377265,
          0.0013058280268345112,
          0.001307922214953425,
          0.001312076937429812,
          0.0013171966552758007,
          0.0013251781241592248,
          0.0013347957305071554,
          0.0013473620316348488,
          0.0013622554614444978,
          0.0013790054589950306,
          0.0013992699330075506,
          0.0014211581087598272,
          0.0014453064472423958,
          0.001474299503965463,
          0.0015063148357678778,
          0.0015411121125698591,
          0.001578809979467674,
          0.001619336501709976,
          0.0016637608538360815,
          0.0017119636947501501,
          0.001762116976725045,
          0.001815424410659015,
          0.0018721634782657513,
          0.0019317089119107152,
          0.001993435589247726,
          0.002058059034846132,
          0.0021255123955981883,
          0.0021946648101454826,
          0.0022673197995209853,
          0.0023430225846518458,
          0.0024215990941211527,
          0.0025015899439148415
         ]
        },
        {
         "line": {
          "color": "rgba(139,233,253,1)"
         },
         "marker": {
          "color": "rgba(139,233,253,1)",
          "size": 5
         },
         "mode": "lines+markers",
         "name": "swing",
         "showlegend": false,
         "type": "scatter",
         "x": [
          0.2122374242387121,
          0.21267189827246952,
          0.21314656095107887,
          0.21366425363277838,
          0.21422941375030427,
          0.214849860382002,
          0.21551426390656217,
          0.21622980180200566,
          0.21699413594444922,
          0.21782248812478452,
          0.2187083260182814,
          0.21964090532383423,
          0.22062110349570757,
          0.22165975511431105,
          0.22274624808982943,
          0.22388651394608725,
          0.22506114722876552,
          0.2262535232237121,
          0.227445410235234,
          0.22864573212071934,
          0.2298565022895323,
          0.23107970963661909,
          0.23228202881180418,
          0.23346460648521963,
          0.2346429710974742,
          0.23582266731675516,
          0.2369987304358251,
          0.23818334952530912,
          0.2393805657556512,
          0.24056413303116891,
          0.2417600286212964,
          0.24298237507829684,
          0.2442085383317071,
          0.24543115102737395,
          0.24665791780999272,
          0.2478994360621215,
          0.2491390714843407,
          0.2503435319321857,
          0.2514966708629935,
          0.2526120930755023,
          0.25368626668486466,
          0.2547337721685756,
          0.2557338290671025,
          0.2566485416803759,
          0.2574807790464786,
          0.2582404863834859,
          0.25894703541309905,
          0.2595801406717778,
          0.26013906810203874,
          0.26064321773995164,
          0.261053357436557,
          0.261389870890018,
          0.26171063211645346
         ],
         "y": [
          0.002584306908894409,
          0.0026685190177399023,
          0.002755885532141802,
          0.0028463909065576743,
          0.002938365166504754,
          0.003031875241944296,
          0.0031289016355804016,
          0.0032255408199237516,
          0.0033186978077797075,
          0.0034094594442322687,
          0.0034956990775693014,
          0.0035749633472240147,
          0.003647974974545634,
          0.003714139646331863,
          0.003776980234652666,
          0.0038347293701930687,
          0.0038884388659779336,
          0.003936388228057602,
          0.003977828562743909,
          0.0040153354822191015,
          0.004048322597202205,
          0.004076609541572456,
          0.004101174679907438,
          0.004127631205380599,
          0.004157715255082732,
          0.004186712535806569,
          0.004214033785864734,
          0.004242746838891788,
          0.004274223115222071,
          0.004307602084335646,
          0.004340851084013115,
          0.004373033971351602,
          0.0044028159500727315,
          0.00442754566952433,
          0.004444934158580781,
          0.004449514480806647,
          0.00443872510027529,
          0.004413390892055953,
          0.00437488379248222,
          0.004321064034641359,
          0.0042469236020221835,
          0.0041528830514950136,
          0.004044272750691149,
          0.003921159992177673,
          0.0037820825202818822,
          0.0036298264116641187,
          0.0034647802443865377,
          0.003291533238677305,
          0.0031115903544978946,
          0.002923979854620548,
          0.002727654223690522,
          0.0025287988603696567,
          0.002334149939846482
         ]
        }
       ],
       "layout": {
        "height": 600,
        "template": {
         "data": {
          "bar": [
           {
            "error_x": {
             "color": "#2a3f5f"
            },
            "error_y": {
             "color": "#2a3f5f"
            },
            "marker": {
             "line": {
              "color": "white",
              "width": 0.5
             },
             "pattern": {
              "fillmode": "overlay",
              "size": 10,
              "solidity": 0.2
             }
            },
            "type": "bar"
           }
          ],
          "barpolar": [
           {
            "marker": {
             "line": {
              "color": "white",
              "width": 0.5
             },
             "pattern": {
              "fillmode": "overlay",
              "size": 10,
              "solidity": 0.2
             }
            },
            "type": "barpolar"
           }
          ],
          "carpet": [
           {
            "aaxis": {
             "endlinecolor": "#2a3f5f",
             "gridcolor": "#C8D4E3",
             "linecolor": "#C8D4E3",
             "minorgridcolor": "#C8D4E3",
             "startlinecolor": "#2a3f5f"
            },
            "baxis": {
             "endlinecolor": "#2a3f5f",
             "gridcolor": "#C8D4E3",
             "linecolor": "#C8D4E3",
             "minorgridcolor": "#C8D4E3",
             "startlinecolor": "#2a3f5f"
            },
            "type": "carpet"
           }
          ],
          "choropleth": [
           {
            "colorbar": {
             "outlinewidth": 0,
             "ticks": ""
            },
            "type": "choropleth"
           }
          ],
          "contour": [
           {
            "colorbar": {
             "outlinewidth": 0,
             "ticks": ""
            },
            "colorscale": [
             [
              0,
              "#0d0887"
             ],
             [
              0.1111111111111111,
              "#46039f"
             ],
             [
              0.2222222222222222,
              "#7201a8"
             ],
             [
              0.3333333333333333,
              "#9c179e"
             ],
             [
              0.4444444444444444,
              "#bd3786"
             ],
             [
              0.5555555555555556,
              "#d8576b"
             ],
             [
              0.6666666666666666,
              "#ed7953"
             ],
             [
              0.7777777777777778,
              "#fb9f3a"
             ],
             [
              0.8888888888888888,
              "#fdca26"
             ],
             [
              1,
              "#f0f921"
             ]
            ],
            "type": "contour"
           }
          ],
          "contourcarpet": [
           {
            "colorbar": {
             "outlinewidth": 0,
             "ticks": ""
            },
            "type": "contourcarpet"
           }
          ],
          "heatmap": [
           {
            "colorbar": {
             "outlinewidth": 0,
             "ticks": ""
            },
            "colorscale": [
             [
              0,
              "#0d0887"
             ],
             [
              0.1111111111111111,
              "#46039f"
             ],
             [
              0.2222222222222222,
              "#7201a8"
             ],
             [
              0.3333333333333333,
              "#9c179e"
             ],
             [
              0.4444444444444444,
              "#bd3786"
             ],
             [
              0.5555555555555556,
              "#d8576b"
             ],
             [
              0.6666666666666666,
              "#ed7953"
             ],
             [
              0.7777777777777778,
              "#fb9f3a"
             ],
             [
              0.8888888888888888,
              "#fdca26"
             ],
             [
              1,
              "#f0f921"
             ]
            ],
            "type": "heatmap"
           }
          ],
          "histogram": [
           {
            "marker": {
             "pattern": {
              "fillmode": "overlay",
              "size": 10,
              "solidity": 0.2
             }
            },
            "type": "histogram"
           }
          ],
          "histogram2d": [
           {
            "colorbar": {
             "outlinewidth": 0,
             "ticks": ""
            },
            "colorscale": [
             [
              0,
              "#0d0887"
             ],
             [
              0.1111111111111111,
              "#46039f"
             ],
             [
              0.2222222222222222,
              "#7201a8"
             ],
             [
              0.3333333333333333,
              "#9c179e"
             ],
             [
              0.4444444444444444,
              "#bd3786"
             ],
             [
              0.5555555555555556,
              "#d8576b"
             ],
             [
              0.6666666666666666,
              "#ed7953"
             ],
             [
              0.7777777777777778,
              "#fb9f3a"
             ],
             [
              0.8888888888888888,
              "#fdca26"
             ],
             [
              1,
              "#f0f921"
             ]
            ],
            "type": "histogram2d"
           }
          ],
          "histogram2dcontour": [
           {
            "colorbar": {
             "outlinewidth": 0,
             "ticks": ""
            },
            "colorscale": [
             [
              0,
              "#0d0887"
             ],
             [
              0.1111111111111111,
              "#46039f"
             ],
             [
              0.2222222222222222,
              "#7201a8"
             ],
             [
              0.3333333333333333,
              "#9c179e"
             ],
             [
              0.4444444444444444,
              "#bd3786"
             ],
             [
              0.5555555555555556,
              "#d8576b"
             ],
             [
              0.6666666666666666,
              "#ed7953"
             ],
             [
              0.7777777777777778,
              "#fb9f3a"
             ],
             [
              0.8888888888888888,
              "#fdca26"
             ],
             [
              1,
              "#f0f921"
             ]
            ],
            "type": "histogram2dcontour"
           }
          ],
          "mesh3d": [
           {
            "colorbar": {
             "outlinewidth": 0,
             "ticks": ""
            },
            "type": "mesh3d"
           }
          ],
          "parcoords": [
           {
            "line": {
             "colorbar": {
              "outlinewidth": 0,
              "ticks": ""
             }
            },
            "type": "parcoords"
           }
          ],
          "pie": [
           {
            "automargin": true,
            "type": "pie"
           }
          ],
          "scatter": [
           {
            "fillpattern": {
             "fillmode": "overlay",
             "size": 10,
             "solidity": 0.2
            },
            "type": "scatter"
           }
          ],
          "scatter3d": [
           {
            "line": {
             "colorbar": {
              "outlinewidth": 0,
              "ticks": ""
             }
            },
            "marker": {
             "colorbar": {
              "outlinewidth": 0,
              "ticks": ""
             }
            },
            "type": "scatter3d"
           }
          ],
          "scattercarpet": [
           {
            "marker": {
             "colorbar": {
              "outlinewidth": 0,
              "ticks": ""
             }
            },
            "type": "scattercarpet"
           }
          ],
          "scattergeo": [
           {
            "marker": {
             "colorbar": {
              "outlinewidth": 0,
              "ticks": ""
             }
            },
            "type": "scattergeo"
           }
          ],
          "scattergl": [
           {
            "marker": {
             "colorbar": {
              "outlinewidth": 0,
              "ticks": ""
             }
            },
            "type": "scattergl"
           }
          ],
          "scattermap": [
           {
            "marker": {
             "colorbar": {
              "outlinewidth": 0,
              "ticks": ""
             }
            },
            "type": "scattermap"
           }
          ],
          "scattermapbox": [
           {
            "marker": {
             "colorbar": {
              "outlinewidth": 0,
              "ticks": ""
             }
            },
            "type": "scattermapbox"
           }
          ],
          "scatterpolar": [
           {
            "marker": {
             "colorbar": {
              "outlinewidth": 0,
              "ticks": ""
             }
            },
            "type": "scatterpolar"
           }
          ],
          "scatterpolargl": [
           {
            "marker": {
             "colorbar": {
              "outlinewidth": 0,
              "ticks": ""
             }
            },
            "type": "scatterpolargl"
           }
          ],
          "scatterternary": [
           {
            "marker": {
             "colorbar": {
              "outlinewidth": 0,
              "ticks": ""
             }
            },
            "type": "scatterternary"
           }
          ],
          "surface": [
           {
            "colorbar": {
             "outlinewidth": 0,
             "ticks": ""
            },
            "colorscale": [
             [
              0,
              "#0d0887"
             ],
             [
              0.1111111111111111,
              "#46039f"
             ],
             [
              0.2222222222222222,
              "#7201a8"
             ],
             [
              0.3333333333333333,
              "#9c179e"
             ],
             [
              0.4444444444444444,
              "#bd3786"
             ],
             [
              0.5555555555555556,
              "#d8576b"
             ],
             [
              0.6666666666666666,
              "#ed7953"
             ],
             [
              0.7777777777777778,
              "#fb9f3a"
             ],
             [
              0.8888888888888888,
              "#fdca26"
             ],
             [
              1,
              "#f0f921"
             ]
            ],
            "type": "surface"
           }
          ],
          "table": [
           {
            "cells": {
             "fill": {
              "color": "#EBF0F8"
             },
             "line": {
              "color": "white"
             }
            },
            "header": {
             "fill": {
              "color": "#C8D4E3"
             },
             "line": {
              "color": "white"
             }
            },
            "type": "table"
           }
          ]
         },
         "layout": {
          "annotationdefaults": {
           "arrowcolor": "#2a3f5f",
           "arrowhead": 0,
           "arrowwidth": 1
          },
          "autotypenumbers": "strict",
          "coloraxis": {
           "colorbar": {
            "outlinewidth": 0,
            "ticks": ""
           }
          },
          "colorscale": {
           "diverging": [
            [
             0,
             "#8e0152"
            ],
            [
             0.1,
             "#c51b7d"
            ],
            [
             0.2,
             "#de77ae"
            ],
            [
             0.3,
             "#f1b6da"
            ],
            [
             0.4,
             "#fde0ef"
            ],
            [
             0.5,
             "#f7f7f7"
            ],
            [
             0.6,
             "#e6f5d0"
            ],
            [
             0.7,
             "#b8e186"
            ],
            [
             0.8,
             "#7fbc41"
            ],
            [
             0.9,
             "#4d9221"
            ],
            [
             1,
             "#276419"
            ]
           ],
           "sequential": [
            [
             0,
             "#0d0887"
            ],
            [
             0.1111111111111111,
             "#46039f"
            ],
            [
             0.2222222222222222,
             "#7201a8"
            ],
            [
             0.3333333333333333,
             "#9c179e"
            ],
            [
             0.4444444444444444,
             "#bd3786"
            ],
            [
             0.5555555555555556,
             "#d8576b"
            ],
            [
             0.6666666666666666,
             "#ed7953"
            ],
            [
             0.7777777777777778,
             "#fb9f3a"
            ],
            [
             0.8888888888888888,
             "#fdca26"
            ],
            [
             1,
             "#f0f921"
            ]
           ],
           "sequentialminus": [
            [
             0,
             "#0d0887"
            ],
            [
             0.1111111111111111,
             "#46039f"
            ],
            [
             0.2222222222222222,
             "#7201a8"
            ],
            [
             0.3333333333333333,
             "#9c179e"
            ],
            [
             0.4444444444444444,
             "#bd3786"
            ],
            [
             0.5555555555555556,
             "#d8576b"
            ],
            [
             0.6666666666666666,
             "#ed7953"
            ],
            [
             0.7777777777777778,
             "#fb9f3a"
            ],
            [
             0.8888888888888888,
             "#fdca26"
            ],
            [
             1,
             "#f0f921"
            ]
           ]
          },
          "colorway": [
           "#636efa",
           "#EF553B",
           "#00cc96",
           "#ab63fa",
           "#FFA15A",
           "#19d3f3",
           "#FF6692",
           "#B6E880",
           "#FF97FF",
           "#FECB52"
          ],
          "font": {
           "color": "#2a3f5f"
          },
          "geo": {
           "bgcolor": "white",
           "lakecolor": "white",
           "landcolor": "white",
           "showlakes": true,
           "showland": true,
           "subunitcolor": "#C8D4E3"
          },
          "hoverlabel": {
           "align": "left"
          },
          "hovermode": "closest",
          "mapbox": {
           "style": "light"
          },
          "paper_bgcolor": "white",
          "plot_bgcolor": "white",
          "polar": {
           "angularaxis": {
            "gridcolor": "#EBF0F8",
            "linecolor": "#EBF0F8",
            "ticks": ""
           },
           "bgcolor": "white",
           "radialaxis": {
            "gridcolor": "#EBF0F8",
            "linecolor": "#EBF0F8",
            "ticks": ""
           }
          },
          "scene": {
           "xaxis": {
            "backgroundcolor": "white",
            "gridcolor": "#DFE8F3",
            "gridwidth": 2,
            "linecolor": "#EBF0F8",
            "showbackground": true,
            "ticks": "",
            "zerolinecolor": "#EBF0F8"
           },
           "yaxis": {
            "backgroundcolor": "white",
            "gridcolor": "#DFE8F3",
            "gridwidth": 2,
            "linecolor": "#EBF0F8",
            "showbackground": true,
            "ticks": "",
            "zerolinecolor": "#EBF0F8"
           },
           "zaxis": {
            "backgroundcolor": "white",
            "gridcolor": "#DFE8F3",
            "gridwidth": 2,
            "linecolor": "#EBF0F8",
            "showbackground": true,
            "ticks": "",
            "zerolinecolor": "#EBF0F8"
           }
          },
          "shapedefaults": {
           "line": {
            "color": "#2a3f5f"
           }
          },
          "ternary": {
           "aaxis": {
            "gridcolor": "#DFE8F3",
            "linecolor": "#A2B1C6",
            "ticks": ""
           },
           "baxis": {
            "gridcolor": "#DFE8F3",
            "linecolor": "#A2B1C6",
            "ticks": ""
           },
           "bgcolor": "white",
           "caxis": {
            "gridcolor": "#DFE8F3",
            "linecolor": "#A2B1C6",
            "ticks": ""
           }
          },
          "title": {
           "x": 0.05
          },
          "xaxis": {
           "automargin": true,
           "gridcolor": "#EBF0F8",
           "linecolor": "#EBF0F8",
           "ticks": "",
           "title": {
            "standoff": 15
           },
           "zerolinecolor": "#EBF0F8",
           "zerolinewidth": 2
          },
          "yaxis": {
           "automargin": true,
           "gridcolor": "#EBF0F8",
           "linecolor": "#EBF0F8",
           "ticks": "",
           "title": {
            "standoff": 15
           },
           "zerolinecolor": "#EBF0F8",
           "zerolinewidth": 2
          }
         }
        },
        "title": {
         "text": "Mean Spatial Trajectory (Y vs X) with Phase Coloring"
        },
        "width": 800,
        "xaxis": {
         "title": {
          "text": "X Position (m)"
         }
        },
        "yaxis": {
         "title": {
          "text": "Y Position (m)"
         }
        }
       }
      }
     },
     "metadata": {},
     "output_type": "display_data"
    }
   ],
   "source": [
    "# time is nornmalized by step\n",
    "fig = plot_mean_spatial_trajectory(segmented_hindsteps) \n",
    "\n",
    "fig.write_image(os.path.join('/home/filthyweeb/Downloads', 'xy'), format='svg')"
   ]
  },
  {
   "cell_type": "code",
   "execution_count": null,
   "id": "ae4a3c67",
   "metadata": {},
   "outputs": [],
   "source": [
    "plot_umap_from_step(segmented_hindsteps[0])"
   ]
  },
  {
   "cell_type": "code",
   "execution_count": null,
   "id": "0e8f6282",
   "metadata": {},
   "outputs": [],
   "source": [
    "plot_umap_all_steps(healthy_steps)"
   ]
  },
  {
   "cell_type": "code",
   "execution_count": null,
   "id": "d319963b",
   "metadata": {},
   "outputs": [],
   "source": [
    "plot_umap_all_steps(unhealthy_steps)"
   ]
  },
  {
   "cell_type": "code",
   "execution_count": null,
   "id": "462cf743",
   "metadata": {},
   "outputs": [],
   "source": [
    "compare_step_features_in_batches(segmented_hindsteps[0])"
   ]
  },
  {
   "cell_type": "code",
   "execution_count": null,
   "id": "b013bae6",
   "metadata": {},
   "outputs": [],
   "source": [
    "plot_step_trajectory(segmented_hindsteps, hindlimb_keys)"
   ]
  },
  {
   "cell_type": "code",
   "execution_count": null,
   "id": "6aef44b3",
   "metadata": {},
   "outputs": [],
   "source": [
    "plot_trajectory_with_joint_trace(reshaped_data, hindlimb_keys)"
   ]
  },
  {
   "cell_type": "code",
   "execution_count": null,
   "id": "56472b2f",
   "metadata": {},
   "outputs": [],
   "source": [
    "com_keys = [key for key in first_df.columns if 'CoM' in key]\n",
    "print(f\"CoM keys: {com_keys}\")\n",
    "plot_trajectory_with_joint_trace(reshaped_data, com_keys)"
   ]
  },
  {
   "cell_type": "code",
   "execution_count": null,
   "id": "ec552796",
   "metadata": {},
   "outputs": [],
   "source": [
    "plot_animated_trajectory(reshaped_data, hindlimb_keys)"
   ]
  },
  {
   "cell_type": "code",
   "execution_count": null,
   "id": "7b634832",
   "metadata": {},
   "outputs": [],
   "source": [
    "plot_trajectory(reshaped_data, hindlimb_keys)"
   ]
  },
  {
   "cell_type": "code",
   "execution_count": null,
   "id": "ab0c3e71",
   "metadata": {},
   "outputs": [],
   "source": [
    "## Plt one step for xy pose\n",
    "compare_spatial_progression_over_time(healthy_steps, unhealthy_steps, finger_pose_key='rhindlimb lHindfingers - X pose (m)')"
   ]
  },
  {
   "cell_type": "code",
   "execution_count": null,
   "id": "17f1d358",
   "metadata": {},
   "outputs": [
    {
     "name": "stdout",
     "output_type": "stream",
     "text": [
      "Healthy mean features shape: (190, 2684)\n",
      "Sick mean features shape: (123, 2684)\n",
      "Healthy mean stance duration ratio: 0.49, mean swing duration: 0.51, mean step duration: 0.22 ± 0.00\n",
      "Sick mean stance duration ratio: 0.53, mean swing duration: 0.47, mean step duration: 0.28\n"
     ]
    }
   ],
   "source": [
    "## Check step features vs velocity \n",
    "features_to_check = ('Mean step height (m)', 'Mean step length (m)', 'Mean step duration (s)', 'Mean swing duration (s)', 'Mean stance duration (s)', 'Mean step frequency (Hz)')\n",
    "features_to_check_against = ('Mean step velocity X at stance - lHindpaw (m/s)', 'Mean step velocity Y at stance - lHindpaw (m/s)', 'Mean step velocity X at swing - lHindpaw (m/s)', 'Mean step velocity Y at swing - lHindpaw (m/s)')\n",
    "# features_to_check_against = ('Mean step velocity X at stance - lHindfingers (m/s)', 'Mean step velocity Y at stance - lHindfingers (m/s)', 'Mean step velocity X at swing - lHindfingers (m/s)', 'Mean step velocity Y at swing - lHindfingers (m/s)')\n",
    "\n",
    "## Load the mean features\n",
    "mean_features_df = pd.read_csv(MEAN_FEATURES_FILE)\n",
    "healthy_mean_features = mean_features_df[mean_features_df['Dataset'].str.lower().str.contains(HEALTHY_KEY.lower())]\n",
    "sick_mean_features = mean_features_df[mean_features_df['Dataset'].str.lower().str.contains(SICK_KEY.lower())]\n",
    "print(f\"Healthy mean features shape: {healthy_mean_features.shape}\\nSick mean features shape: {sick_mean_features.shape}\")"
   ]
  },
  {
   "cell_type": "code",
   "execution_count": null,
   "id": "9cd2fd80",
   "metadata": {},
   "outputs": [
    {
     "name": "stdout",
     "output_type": "stream",
     "text": [
      "Healthy mean features shape: (190, 2684)\n",
      "Sick mean features shape: (123, 2684)\n",
      "Healthy mean stance duration ratio: 0.49, mean swing duration: 0.51, mean step duration: 0.22 ± 0.00\n",
      "Sick mean stance duration ratio: 0.53, mean swing duration: 0.47, mean step duration: 0.28\n",
      "Healthy linear regression for Mean step height (m) vs Mean step velocity X at swing - lHindpaw (m/s): y = 0.45x + 0.00\n",
      "Healthy linear regression for Mean step length (m) vs Mean step velocity X at swing - lHindpaw (m/s): y = 4.45x + 0.05\n",
      "Healthy linear regression for Mean step duration (s) vs Mean step velocity X at swing - lHindpaw (m/s): y = -24.44x + 0.26\n",
      "Healthy linear regression for Mean swing duration (s) vs Mean step velocity X at swing - lHindpaw (m/s): y = -12.43x + 0.13\n",
      "Healthy linear regression for Mean stance duration (s) vs Mean step velocity X at swing - lHindpaw (m/s): y = -12.01x + 0.13\n",
      "Healthy linear regression for Mean step frequency (Hz) vs Mean step velocity X at swing - lHindpaw (m/s): y = 5.82x + 3.94\n",
      "Number of mice: 95\n"
     ]
    },
    {
     "data": {
      "application/vnd.plotly.v1+json": {
       "config": {
        "plotlyServerURL": "https://plot.ly"
       },
       "data": [
        {
         "marker": {
          "color": "green",
          "line": {
           "color": "black",
           "width": 1
          },
          "opacity": 1,
          "size": 6
         },
         "mode": "markers",
         "name": "Mean step height (m) vs Mean step velocity X at stance - lHindpaw (m/s)",
         "showlegend": false,
         "type": "scatter",
         "x": {
          "bdata": "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",
          "dtype": "f8"
         },
         "xaxis": "x",
         "y": {
          "bdata": "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",
          "dtype": "f8"
         },
         "yaxis": "y"
        },
        {
         "line": {
          "color": "red",
          "dash": "dash",
          "width": 2
         },
         "mode": "lines",
         "showlegend": false,
         "type": "scatter",
         "x": {
          "bdata": "p1ZqpZY/tb+X+M/+AeKyv4eaNVhthLC/7Xg2Y7FNrL/NvAEWiJKnv60Azche16K/GIkw92o4nL/YEMdcGMKSvzAxu4SLl4K/ANTvBWxGJT/Qr+rkvkGDPyjQ3gwyF5M/bEhIp4SNnD9W4Nig6wGjP3acDe4Uvac/llhCOz54rD9bijvEs5mwP2vo1WpI97I/e0ZwEd1UtT+LpAq4cbK3P5sCpV4GELo/q2A/BZttvD+7vtmrL8u+P2YOOililMA/bj2HfCzDwT92bNTP9vHCP36bISPBIMQ/hspudotPxT+O+bvJVX7GP5YoCR0grcc/nldWcOrbyD+mhqPDtArKP6618BZ/Ocs/tuQ9aklozD++E4u9E5fNP8ZC2BDexc4/znElZKj0zz9rULlbuZHQP+/nX4UeKdE/c38Gr4PA0T/3Fq3Y6FfSP3uuUwJO79I//0X6K7OG0z+D3aBVGB7UPwd1R399tdQ/iwzuqOJM1T8PpJTSR+TVP5M7O/yse9Y/GNPhJRIT1z+caohPd6rXPyACL3ncQdg/pJnVokHZ2D8oMXzMpnDZP6zIIvYLCNo/MGDJH3Gf2j+0929J1jbbPziPFnM7zts/vCa9nKBl3D9AvmPGBf3cP8RVCvBqlN0/SO2wGdAr3j/MhFdDNcPeP1Ac/myaWt8/1LOklv/x3z+spSVgskTgP27x+PRkkOA/MD3MiRfc4D/yiJ8eyifhP7TUcrN8c+E/diBGSC+/4T84bBnd4QriP/q37HGUVuI/vAPABkei4j9+T5Ob+e3iP0CbZjCsOeM/Auc5xV6F4z/EMg1aEdHjP4Z+4O7DHOQ/SMqzg3Zo5D8KFocYKbTkP8xhWq3b/+Q/jq0tQo5L5T9Q+QDXQJflPxJF1Gvz4uU/1JCnAKYu5j+W3HqVWHrmP1goTioLxuY/GnQhv70R5z/cv/RTcF3nP54LyOgiqec/YFebfdX05z8io24SiEDoP+TuQac6jOg/pjoVPO3X6D9ohujQnyPpPyrSu2VSb+k/7R2P+gS76T+vaWKPtwbqP3G1NSRqUuo/MwEJuRye6j8=",
          "dtype": "f8"
         },
         "xaxis": "x",
         "y": {
          "bdata": "907cN/J2bj/CO1s/1VduP40o2ka4OG4/WBVZTpsZbj8jAthVfvptP+7uVl1h220/uNvVZES8bT+DyFRsJ51tP06103MKfm0/GaJSe+1ebT/kjtGC0D9tP697UIqzIG0/emjPkZYBbT9FVU6ZeeJsPxBCzaBcw2w/2y5MqD+kbD+mG8uvIoVsP3EISrcFZmw/PPXIvuhGbD8H4kfGyydsP9LOxs2uCGw/nbtF1ZHpaz9oqMTcdMprPzKVQ+RXq2s//YHC6zqMaz/IbkHzHW1rP5NbwPoATms/Xkg/AuQuaz8pNb4Jxw9rP/QhPRGq8Go/vw68GI3Raj+K+zogcLJqP1XouSdTk2o/INU4LzZ0aj/rwbc2GVVqP7auNj78NWo/gZu1Rd8Waj9MiDRNwvdpPxZ1s1Sl2Gk/4mEyXIi5aT+sTrFja5ppP3c7MGtOe2k/QiivcjFcaT8NFS56FD1pP9gBrYH3HWk/o+4ridr+aD9u26qQvd9oPznIKZigwGg/BLWon4OhaD/PoSenZoJoP5qOpq5JY2g/ZHsltixEaD8waKS9DyVoP/pUI8XyBWg/xkGizNXmZz+QLiHUuMdnP1sboNubqGc/Jggf436JZz/x9J3qYWpnP7zhHPJES2c/h86b+ScsZz9SuxoBCw1nPx2omQju7WY/6JQYENHOZj+zgZcXtK9mP35uFh+XkGY/SVuVJnpxZj8USBQuXVJmP940kzVAM2Y/qiESPSMUZj90DpFEBvVlP0D7D0zp1WU/CuiOU8y2ZT/V1A1br5dlP6DBjGKSeGU/a64LanVZZT82m4pxWDplPwGICXk7G2U/zHSIgB78ZD+XYQeIAd1kP2JOho/kvWQ/LTsFl8eeZD/4J4Seqn9kP8IUA6aNYGQ/jgGCrXBBZD9Y7gC1UyJkPyTbf7w2A2Q/7sf+wxnkYz+6tH3L/MRjP4Sh/NLfpWM/UI572sKGYz8ae/rhpWdjP+VneemISGM/sFT48GspYz97QXf4TgpjP0Yu9v8x62I/EBt1BxXMYj/cB/QO+KxiP6b0chbbjWI/cuHxHb5uYj8=",
          "dtype": "f8"
         },
         "yaxis": "y"
        },
        {
         "marker": {
          "color": "green",
          "line": {
           "color": "black",
           "width": 1
          },
          "opacity": 1,
          "size": 6
         },
         "mode": "markers",
         "name": "Mean step height (m) vs Mean step velocity Y at stance - lHindpaw (m/s)",
         "showlegend": false,
         "type": "scatter",
         "x": {
          "bdata": "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",
          "dtype": "f8"
         },
         "xaxis": "x2",
         "y": {
          "bdata": "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",
          "dtype": "f8"
         },
         "yaxis": "y2"
        },
        {
         "line": {
          "color": "red",
          "dash": "dash",
          "width": 2
         },
         "mode": "lines",
         "showlegend": false,
         "type": "scatter",
         "x": {
          "bdata": "hZKOT0/zwL/AcgiJ+sbAv/pSgsKlmsC/NTP8+1BuwL9vE3Y1/EHAv6rz726nFcC/yKfTUKXSv78+aMfD+3m/v7MouzZSIb+/KOmuqajIvr+dqaIc/2++vxJqlo9VF76/hyqKAqy+vb/86n11Ama9v3GrcehYDb2/5mtlW6+0vL9bLFnOBVy8v9DsTEFcA7y/Rq1AtLKqu7+6bTQnCVK7vzAuKJpf+bq/pe4bDbagur8arw+ADEi6v49vA/Ni77m/BDD3ZbmWub958OrYDz65v+6w3ktm5bi/Y3HSvryMuL/YMcYxEzS4v07yuaRp27e/wrKtF8CCt784c6GKFiq3v6wzlf1s0ba/IvSIcMN4tr+WtHzjGSC2vwx1cFZwx7W/gTVkycZutb/29Vc8HRa1v2u2S69zvbS/4HY/IspktL9VNzOVIAy0v8r3Jgh3s7O/QLgae81as7+0eA7uIwKzvyo5AmF6qbK/nvn109BQsr8UuulGJ/ixv4l63bl9n7G//jrRLNRGsb9z+8SfKu6wv+i7uBKBlbC/XXyshdc8sL+keUDxW8ivv476J9cIF6+/eHsPvbVlrr9i/PaiYrStv0x93ogPA62/Nv7FbrxRrL8if61UaaCrvwwAlToW76q/9oB8IMM9qr/gAWQGcIypv8qCS+wc26i/tAMz0skpqL+ehBq4dninv4gFAp4jx6a/cobpg9AVpr9cB9FpfWSlv0aIuE8qs6S/MAmgNdcBpL8aiocbhFCjvwYLbwExn6K/8ItW593tob/aDD7Nijyhv8SNJbM3i6C/XB0aMsmzn78wH+n9IlGevwQhuMl87py/2CKHldaLm7+sJFZhMCmav4AmJS2Kxpi/VCj0+ONjl78oKsPEPQGWv/wrkpCXnpS/1C1hXPE7k7+oLzAoS9mRv3wx//OkdpC/oGacf/0njr9IajoXsWKLv/Bt2K5knYi/mHF2RhjYhb9AdRTeyxKDv+h4snV/TYC/IPmgGmYQe7+AAN1JzYV1v4APMvJo9m+/QB6qUDfhZL+AWUReC5hTvwBIXCa/kiQ/ImzbJ7u8WD8=",
          "dtype": "f8"
         },
         "xaxis": "x2",
         "y": {
          "bdata": "1WP6uKU2bz/8+xhrBSxvPyKUNx1lIW8/SSxWz8QWbz9wxHSBJAxvP5dckzOEAW8/vfSx5eP2bj/kjNCXQ+xuPwsl70mj4W4/Mb0N/ALXbj9YVSyuYsxuP3/tSmDCwW4/poVpEiK3bj/MHYjEgaxuP/O1pnbhoW4/Gk7FKEGXbj9A5uPaoIxuP2d+Ao0Agm4/jhYhP2B3bj+0rj/xv2xuP9tGXqMfYm4/At98VX9Xbj8od5sH30xuP08Purk+Qm4/dqfYa543bj+cP/cd/ixuP8PXFdBdIm4/6m80gr0Xbj8RCFM0HQ1uPzegceZ8Am4/XjiQmNz3bT+F0K5KPO1tP6tozfyb4m0/0gDsrvvXbT/5mAphW81tPyAxKRO7wm0/RslHxRq4bT9tYWZ3eq1tP5T5hCnaom0/upGj2zmYbT/hKcKNmY1tPwjC4D/5gm0/Llr/8Vh4bT9V8h2kuG1tP3yKPFYYY20/oiJbCHhYbT/Junm6101tP/BSmGw3Q20/F+u2Hpc4bT89g9XQ9i1tP2Qb9IJWI20/i7MSNbYYbT+xSzHnFQ5tP9jjT5l1A20//3tuS9X4bD8lFI39NO5sP0ysq6+U42w/c0TKYfTYbD+a3OgTVM5sP8B0B8azw2w/5wwmeBO5bD8OpUQqc65sPzQ9Y9zSo2w/W9WBjjKZbD+CbaBAko5sP6gFv/Lxg2w/z53dpFF5bD/2NfxWsW5sPxzOGgkRZGw/Q2Y5u3BZbD9q/ldt0E5sP5GWdh8wRGw/ty6V0Y85bD/exrOD7y5sPwVf0jVPJGw/K/fw564ZbD9Sjw+aDg9sP3knLkxuBGw/oL9M/s35az/GV2uwLe9rP+3viWKN5Gs/FIioFO3Zaz86IMfGTM9rP2G45XisxGs/iFAEKwy6az+u6CLda69rP9WAQY/LpGs//BhgQSuaaz8isX7zio9rP0lJnaXqhGs/cOG7V0p6az+XedoJqm9rP70R+bsJZWs/5KkXbmlaaz8LQjYgyU9rPzHaVNIoRWs/WHJzhIg6az9/CpI26C9rP6aisOhHJWs/zDrPmqcaaz8=",
          "dtype": "f8"
         },
         "yaxis": "y2"
        },
        {
         "marker": {
          "color": "green",
          "line": {
           "color": "black",
           "width": 1
          },
          "opacity": 1,
          "size": 6
         },
         "mode": "markers",
         "name": "Mean step height (m) vs Mean step velocity X at swing - lHindpaw (m/s)",
         "showlegend": false,
         "type": "scatter",
         "x": {
          "bdata": "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",
          "dtype": "f8"
         },
         "xaxis": "x3",
         "y": {
          "bdata": "18E8Uf/ycD96tjABPCxwP6mvLQ4Wam8/SRyJh6GKdD+VXaMr40ZvP1yiRM/ffnA/2I2xuvB5bT+WAFx4pOBwP2ugTID4wnI/8Tk+fW3BcD/kn3ujXvNwP4gY5eDQg3E/R1mrY4Incj/QZkUjAUdrP9o3WTfmGHA/zCsDvkxbcz+mt1egC4RwPxbk6CcY5Gs/Ga3raNbxbT80n9xEYiJqP4ks+N5+6XM/LTgT9lZubD8LElCIm65zP9QF3vT7lnA/a4r5UC4xdD9o5ynmQ4ZyP4Wh6FY753M/IWaUorhybz9e7JonY05xP/wCtTsNUHE/Bi4SK11ecz/XbUq3zGRsPz+neOAVHHM/nfDn7k12bj/LizzdgU5xP780ddhyr24/rywnAuUxcD9vdzE26E5wPwFyvcYTf2s/lUTchmPFcT82em34NgZzP7e7GBt0h3A/gUMWCPIBcj8DuInxJo1xP4ZaqZVaRXA/OnCSEnu5aj9KA15lQThrP10Pj7MuhGY/P9zEeBOuaT+KMYvwEnZmPzF3OKbo9WQ/OJUrhi81ZT9nuJICzTBsPwxxcBWEg2k/7gyrVLuCZT+zpYsW+MNjP9OfCztGF2U/FLEqWdq2ZD+C11M39L1jP2TPzrlpOGo/S8L/85MSbT/0yzggHMZmPxYPfZHiSmk/z2weSaL8Zj+Lbimh6d1rP2TkXKX5Omg/OuAm8x2RZz/ko6AaAotrP94mHRg4hWk/gZmRQoVTaT9XeXCrJ8hsP+Olm8QgUGs/a/+ioEdkaz9UgT9U069yP35mMkcjJ2g/jLutrjjtZD+FBnAAB6BsP54KDQpVWWU/ilzFKNpEZz8wDDBn2fxpP+EFx9bSU2k/7+dHdG3zZj+XwVyAzh5jP5iJMMuoBWY/t//n+sJNZT8zm8QgsEJrP+0WbXuoimo/Hz+p25vYaT8fcwpLITJnP2rDpcKQ0mU/GH7IAkEedD9+KxKy4xBmP6+ZDRd7eGw/xCZAz8BJZD9XoUW28+1kP+krbiqId3A//oxxXFKybT+8D/AnsMppP2O7Rz7a0HA/uIUBic1PcD+k4gPikGRwP+lfQjDbR3A/rff2g+2PcD9vUDNma3ZxP8cgmTnxvW4/cv8uI2ZRcD/NEqmlCG5wPzBcbqwSmm0/KsGMCaP3bD9OLQ4WlCRxPxju6tklFG8/uZBLwwupcD9e6Jx8EYtuP8wdKXOtE2g/cny0mVN4az9MuWL4UrhxPytAM5CSO20/Wnz5884vbz/14A0HzS9vPzwQnZMvwm0/3WovC2GSdj9XgSDflbRrP8OMckNm5XI/z3Nhx+jAcj9uSmeTuyhsP3GN3MiNonI/QFYkZMd7bj9XpzuwLNtwP6R9n8LLCW8/vs3YCyjVaz+dKocW2fxtP9ui/L8oGG4/96tgA2hqcT8jC6ay4tlpP47DgiZWDm0/ZzrgNqGlcD9iz71Rr11vP+9gN1EN/HI/bvSep5hpaz91EJ2TL/psP0n8YskvVmo/476t+i9LZD8Xgat6oNBlP8qQyQsl4m8/2/vAD/xgbD8mzpvbPhlnP8KaWPri2WQ/G+MKUpHibj9o+wcLHdhlP/DtoT1f32g/68sqE5mHZz9xjzZzChtsP7bY6hFaEGs/3p/jtGKJaT+0/KY8lzBoP7zL5NEJr2k/8/1RB3H6aD9zD82dqfZuP9ejuueFhWg/k+ANNE8gZT8nvsbmgKxpP+ZlfYSPqW4/zdlXxTbHaD93k3BnMZBpPxvfvJp4FmU/LH5yE4k5ZT/the5/bVpkP5weH05x92A/ilcdmsLpaj/iSHhVeoBnP/GuwedIS2Y/Tx+3PG2JZz8BkGsfXWhlP7xiL6D03GY/rZX18sgYbT89xtbSkyNqP+oc7G9GSGM/2lTX37kyaz/F6gxeo6tqP0LO0IeRVms/m9u0yupRZz855C2vFTZlP38cbIaHqGs/dEd8xEccaj96VC9wF6VjPxAPSlmzem8/1T1iDf3hZD/YzOtBCmZlP/ukxtK9OmU/MfWm0Sq1Zj8=",
          "dtype": "f8"
         },
         "yaxis": "y3"
        },
        {
         "line": {
          "color": "red",
          "dash": "dash",
          "width": 2
         },
         "mode": "lines",
         "showlegend": false,
         "type": "scatter",
         "x": {
          "bdata": "eC79gFcNpT+M0N12GgWnP6Fyvmzd/Kg/tRSfYqD0qj/Ktn9YY+ysP95YYE4m5K4/eX0govRtsD+DzhAd1mmxP44fAZi3ZbI/mHDxEplhsz+iweGNel20P6wS0ghcWbU/tmPCgz1Vtj/AtLL+HlG3P8oFo3kATbg/1VaT9OFIuT/fp4Nvw0S6P+n4c+qkQLs/80lkZYY8vD/+mlTgZzi9PwjsRFtJNL4/Ej011iowvz8Ox5IoBhbAP5PvCub2k8A/GBiDo+cRwT+eQPtg2I/BPyJpcx7JDcI/qJHr27mLwj8sumOZqgnDP7Li21abh8M/NwtUFIwFxD+8M8zRfIPEP0FcRI9tAcU/xoS8TF5/xT9LrTQKT/3FP9DVrMc/e8Y/Vf4khTD5xj/aJp1CIXfHP2BPFQAS9cc/5XeNvQJzyD9qoAV78/DIP+/IfTjkbsk/dPH19dTsyT/5GW6zxWrKP35C5nC26Mo/A2teLqdmyz+Ik9brl+TLPw28TqmIYsw/kuTGZnngzD8YDT8kal7NP501t+Fa3M0/Il4vn0tazj+nhqdcPNjOPyyvHxotVs8/sdeX1x3Uzz8bAIhKBynQP14URKn/Z9A/oCgACPim0D/iPLxm8OXQPyZReMXoJNE/aGU0JOFj0T+qefCC2aLRP+2NrOHR4dE/MKJoQMog0j9ytiSfwl/SP7TK4P26ntI/996cXLPd0j8681i7qxzTP3wHFRqkW9M/vxvReJya0z8BMI3XlNnTP0RESTaNGNQ/hlgFlYVX1D/JbMHzfZbUPwuBfVJ21dQ/TpU5sW4U1T+RqfUPZ1PVP9O9sW5fktU/FtJtzVfR1T9Y5iksUBDWP5v65YpIT9Y/3Q6i6UCO1j8gI15IOc3WP2I3GqcxDNc/pUvWBSpL1z/nX5JkIorXPyp0TsMaydc/bYgKIhMI2D+vnMaAC0fYP/Kwgt8Dhtg/NMU+PvzE2D932fqc9APZP7nttvvsQtk//AFzWuWB2T8+Fi+53cDZP4Eq6xfW/9k/wz6nds4+2j8GU2PVxn3aP0lnHzS/vNo/i3vbkrf72j8=",
          "dtype": "f8"
         },
         "xaxis": "x3",
         "y": {
          "bdata": "T85/AL+cZz+tge2TusBnPww1Wye25Gc/aujIurEIaD/JmzZOrSxoPydPpOGoUGg/hgISdaR0aD/ktX8IoJhoP0Np7ZubvGg/oRxbL5fgaD8A0MjCkgRpP16DNlaOKGk/vTak6YlMaT8b6hF9hXBpP3qdfxCBlGk/2FDto3y4aT83BFs3eNxpP5W3yMpzAGo/9Go2Xm8kaj9SHqTxakhqP7HREYVmbGo/D4V/GGKQaj9uOO2rXbRqP8zrWj9Z2Go/K5/I0lT8aj+KUjZmUCBrP+gFpPlLRGs/RrkRjUdoaz+kbH8gQ4xrPwMg7bM+sGs/YtNaRzrUaz/AhsjaNfhrPx86Nm4xHGw/fe2jAS1AbD/coBGVKGRsPzpUfygkiGw/mQftux+sbD/3ulpPG9BsP1ZuyOIW9Gw/tCE2dhIYbT8T1aMJDjxtP3GIEZ0JYG0/0Dt/MAWEbT8u7+zDAKhtP42iWlf8y20/61XI6vfvbT9KCTZ+8xNuP6i8oxHvN24/BnARpepbbj9mI3845n9uP8TW7Mvho24/IopaX93Hbj+BPcjy2OtuP+DwNYbUD28/PqSjGdAzbz+cVxGty1dvP/sKf0DHe28/Wb7s08Kfbz+4cVpnvsNvPxYlyPq5528/Ouwax9oFcD/qxdGQ2BdwP5mfiFrWKXA/SHk/JNQ7cD/4Uvbt0U1wP6YsrbfPX3A/VgZkgc1xcD8F4BpLy4NwP7S50RTJlXA/ZJOI3sancD8TbT+oxLlwP8JG9nHCy3A/cSCtO8DdcD8h+mMFvu9wP9DTGs+7AXE/f63RmLkTcT8uh4hityVxP95gPyy1N3E/jTr29bJJcT88FK2/sFtxP+ztY4mubXE/mscaU6x/cT9KodEcqpFxP/l6iOano3E/qFQ/sKW1cT9YLvZ5o8dxPwcIrUOh2XE/tuFjDZ/rcT9luxrXnP1xPxWV0aCaD3I/xG6Iapghcj9zSD80ljNyPyIi9v2TRXI/0vusx5FXcj+B1WORj2lyPzCvGluNe3I/34jRJIuNcj+PYojuiJ9yPz48P7iGsXI/7RX2gYTDcj8=",
          "dtype": "f8"
         },
         "yaxis": "y3"
        },
        {
         "marker": {
          "color": "green",
          "line": {
           "color": "black",
           "width": 1
          },
          "opacity": 1,
          "size": 6
         },
         "mode": "markers",
         "name": "Mean step height (m) vs Mean step velocity Y at swing - lHindpaw (m/s)",
         "showlegend": false,
         "type": "scatter",
         "x": {
          "bdata": "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",
          "dtype": "f8"
         },
         "xaxis": "x4",
         "y": {
          "bdata": "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",
          "dtype": "f8"
         },
         "yaxis": "y4"
        },
        {
         "line": {
          "color": "red",
          "dash": "dash",
          "width": 2
         },
         "mode": "lines",
         "showlegend": false,
         "type": "scatter",
         "x": {
          "bdata": "kVr9tuqPkT9dIheHk5GTPyrqMFc8k5U/9rFKJ+WUlz/CeWT3jZaZP45Bfsc2mJs/WgmYl9+ZnT8n0bFniJufP3rM5ZuYzqA/YLDyA23PoT9GlP9rQdCiPyx4DNQV0aM/ElwZPOrRpD/4PyakvtKlP94jMwyT06Y/xAdAdGfUpz+q60zcO9WoP5DPWUQQ1qk/drNmrOTWqj9cl3MUuderP0J7gHyN2Kw/Kl+N5GHZrT8QQ5pMNtquP/Ymp7QK268/bgVaju9tsD9hd2DCWe6wP1TpZvbDbrE/R1ttKi7vsT86zXNemG+yPy0/epIC8LI/ILGAxmxwsz8TI4f61vCzPwaVjS5BcbQ/+QaUYqvxtD/seJqWFXK1P9/qoMp/8rU/0lyn/ulytj/Fzq0yVPO2P7hAtGa+c7c/q7K6mij0tz+eJMHOknS4P5KWxwL99Lg/hQjONmd1uT94etRq0fW5P2vs2p47dro/Xl7h0qX2uj9R0OcGEHe7P0RC7jp697s/N7T0buR3vD8qJvuiTvi8Px2YAde4eL0/EAoICyP5vT8DfA4/jXm+P/btFHP3+b4/6V8bp2F6vz/c0SHby/q/P+ghlAebPcA/4lqXIdB9wD/bk5o7Bb7AP9XMnVU6/sA/zgWhb28+wT/IPqSJpH7BP8F3p6PZvsE/u7CqvQ7/wT+06a3XQz/CP64isfF4f8I/p1u0C66/wj+hlLcl4//CP5rNuj8YQMM/lAa+WU2Awz+NP8FzgsDDP4d4xI23AMQ/gLHHp+xAxD966srBIYHEP3MjzttWwcQ/bVzR9YsBxT9mldQPwUHFP2DO1yn2gcU/WQfbQyvCxT9TQN5dYALGP0x54XeVQsY/RrLkkcqCxj9A6+er/8LGPzkk68U0A8c/M13u32lDxz8slvH5noPHPybP9BPUw8c/Hwj4LQkEyD8ZQftHPkTIPxJ6/mFzhMg/DLMBfKjEyD8F7ASW3QTJP/8kCLASRck/+F0LykeFyT/ylg7kfMXJP+vPEf6xBco/5QgVGOdFyj/fQRgyHIbKP9h6G0xRxso/0rMeZoYGyz8=",
          "dtype": "f8"
         },
         "xaxis": "x4",
         "y": {
          "bdata": "7s6qFXrKZj9mHvqzfPRmP91tSVJ/Hmc/VL2Y8IFIZz/LDOiOhHJnP0JcNy2HnGc/uauGy4nGZz8w+9VpjPBnP6hKJQiPGmg/H5p0ppFEaD+W6cNElG5oPw05E+OWmGg/hIhigZnCaD/817EfnOxoP3MnAb6eFmk/6nZQXKFAaT9hxp/6o2ppP9gV75imlGk/T2U+N6m+aT/GtI3Vq+hpPz4E3XOuEmo/tVMsErE8aj8so3uws2ZqP6Pyyk62kGo/GkIa7bi6aj+SkWmLu+RqPwjhuCm+Dms/gDAIyMA4az/3f1dmw2JrP27PpgTGjGs/5R72osi2az9cbkVBy+BrP9S9lN/NCmw/Sg3kfdA0bD/CXDMc015sPzmsgrrViGw/sPvRWNiybD8nSyH32txsP56acJXdBm0/Feq/M+AwbT+MOQ/S4lptPwSJXnDlhG0/e9itDuiubT/yJ/2s6thtP2p3TEvtAm4/4Mab6e8sbj9YFuuH8lZuP89lOib1gG4/RrWJxPeqbj+9BNli+tRuPzRUKAH9/m4/rKN3n/8obz8i88Y9AlNvP5pCFtwEfW8/EJJlegenbz+I4bQYCtFvPwAxBLcM+28/PMCpqocScD/3Z9H5iCdwP7IP+UiKPHA/brcgmItRcD8qX0jnjGZwP+UGcDaOe3A/oa6XhY+QcD9cVr/UkKVwPxj+5iOSunA/06UOc5PPcD+PTTbClORwP0r1XRGW+XA/Bp2FYJcOcT/CRK2vmCNxP33s1P6ZOHE/OZT8TZtNcT/0OySdnGJxP7DjS+ydd3E/bItzO5+McT8nM5uKoKFxP+PawtmhtnE/noLqKKPLcT9aKhJ4pOBxPxXSOcel9XE/0XlhFqcKcj+NIYllqB9yP0jJsLSpNHI/BHHYA6tJcj+/GABTrF5yP3vAJ6Ktc3I/NmhP8a6Icj/yD3dAsJ1yP663no+xsnI/al/G3rLHcj8kB+4ttNxyP+CuFX218XI/nFY9zLYGcz9Y/mQbuBtzPxOmjGq5MHM/zk20ubpFcz+K9dsIvFpzP0adA1i9b3M/AkUrp76Ecz8=",
          "dtype": "f8"
         },
         "yaxis": "y4"
        },
        {
         "marker": {
          "color": "green",
          "line": {
           "color": "black",
           "width": 1
          },
          "opacity": 1,
          "size": 6
         },
         "mode": "markers",
         "name": "Mean step length (m) vs Mean step velocity X at stance - lHindpaw (m/s)",
         "showlegend": false,
         "type": "scatter",
         "x": {
          "bdata": "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",
          "dtype": "f8"
         },
         "xaxis": "x5",
         "y": {
          "bdata": "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",
          "dtype": "f8"
         },
         "yaxis": "y5"
        },
        {
         "line": {
          "color": "red",
          "dash": "dash",
          "width": 2
         },
         "mode": "lines",
         "showlegend": false,
         "type": "scatter",
         "x": {
          "bdata": "p1ZqpZY/tb+X+M/+AeKyv4eaNVhthLC/7Xg2Y7FNrL/NvAEWiJKnv60Azche16K/GIkw92o4nL/YEMdcGMKSvzAxu4SLl4K/ANTvBWxGJT/Qr+rkvkGDPyjQ3gwyF5M/bEhIp4SNnD9W4Nig6wGjP3acDe4Uvac/llhCOz54rD9bijvEs5mwP2vo1WpI97I/e0ZwEd1UtT+LpAq4cbK3P5sCpV4GELo/q2A/BZttvD+7vtmrL8u+P2YOOililMA/bj2HfCzDwT92bNTP9vHCP36bISPBIMQ/hspudotPxT+O+bvJVX7GP5YoCR0grcc/nldWcOrbyD+mhqPDtArKP6618BZ/Ocs/tuQ9aklozD++E4u9E5fNP8ZC2BDexc4/znElZKj0zz9rULlbuZHQP+/nX4UeKdE/c38Gr4PA0T/3Fq3Y6FfSP3uuUwJO79I//0X6K7OG0z+D3aBVGB7UPwd1R399tdQ/iwzuqOJM1T8PpJTSR+TVP5M7O/yse9Y/GNPhJRIT1z+caohPd6rXPyACL3ncQdg/pJnVokHZ2D8oMXzMpnDZP6zIIvYLCNo/MGDJH3Gf2j+0929J1jbbPziPFnM7zts/vCa9nKBl3D9AvmPGBf3cP8RVCvBqlN0/SO2wGdAr3j/MhFdDNcPeP1Ac/myaWt8/1LOklv/x3z+spSVgskTgP27x+PRkkOA/MD3MiRfc4D/yiJ8eyifhP7TUcrN8c+E/diBGSC+/4T84bBnd4QriP/q37HGUVuI/vAPABkei4j9+T5Ob+e3iP0CbZjCsOeM/Auc5xV6F4z/EMg1aEdHjP4Z+4O7DHOQ/SMqzg3Zo5D8KFocYKbTkP8xhWq3b/+Q/jq0tQo5L5T9Q+QDXQJflPxJF1Gvz4uU/1JCnAKYu5j+W3HqVWHrmP1goTioLxuY/GnQhv70R5z/cv/RTcF3nP54LyOgiqec/YFebfdX05z8io24SiEDoP+TuQac6jOg/pjoVPO3X6D9ohujQnyPpPyrSu2VSb+k/7R2P+gS76T+vaWKPtwbqP3G1NSRqUuo/MwEJuRye6j8=",
          "dtype": "f8"
         },
         "xaxis": "x5",
         "y": {
          "bdata": "niBsOZT9qz+C+pvVwAysP2bUy3HtG6w/Sq77DRorrD8uiCuqRjqsPxNiW0ZzSaw/9zuL4p9YrD/bFbt+zGesP7/v6hr5dqw/o8katyWGrD+Ho0pTUpWsP2x9eu9+pKw/UFeqi6uzrD80Mdon2MKsPxgLCsQE0qw//OQ5YDHhrD/gvmn8XfCsP8WYmZiK/6w/qXLJNLcOrT+NTPnQ4x2tP3EmKW0QLa0/VQBZCT08rT852oilaUutPx60uEGWWq0/Ao7o3cJprT/mZxh673itP8pBSBYciK0/rht4skiXrT+S9adOdaatP3bP1+qhta0/W6kHh87ErT8/gzcj+9OtPyNdZ78n460/BzeXW1TyrT/rEMf3gAGuP8/q9pOtEK4/tMQmMNofrj+YnlbMBi+uP3x4hmgzPq4/YFK2BGBNrj9ELOagjFyuPygGFj25a64/DOBF2eV6rj/xuXV1EoquP9WTpRE/ma4/uW3VrWuorj+dRwVKmLeuP4EhNebExq4/ZvtkgvHVrj9K1ZQeHuWuPy6vxLpK9K4/Eon0VncDrz/2YiTzoxKvP9o8VI/QIa8/vhaEK/0wrz+j8LPHKUCvP4fK42NWT68/a6QTAINerz9PfkOcr22vPzNYczjcfK8/GDKj1AiMrz/8C9NwNZuvP+DlAg1iqq8/xL8yqY65rz+omWJFu8ivP4xzkuHn168/cE3CfRTnrz9VJ/IZQfavP5wAEdu2ArA/ju0oKU0KsD+B2kB34xGwP3PHWMV5GbA/ZbRwExAhsD9XoYhhpiiwP0mOoK88MLA/O3u4/dI3sD8taNBLaT+wPx9V6Jn/RrA/EUIA6JVOsD8DLxg2LFawP/UbMITCXbA/5whI0lhlsD/a9V8g72ywP8zid26FdLA/vs+PvBt8sD+wvKcKsoOwP6Kpv1hIi7A/lJbXpt6SsD+Gg+/0dJqwP3hwB0MLorA/al0fkaGpsD9cSjffN7GwP043Ty3OuLA/QCRne2TAsD8yEX/J+sewPyT+lheRz7A/F+uuZSfXsD8J2Mazvd6wP/vE3gFU5rA/7bH2T+rtsD8=",
          "dtype": "f8"
         },
         "yaxis": "y5"
        },
        {
         "marker": {
          "color": "green",
          "line": {
           "color": "black",
           "width": 1
          },
          "opacity": 1,
          "size": 6
         },
         "mode": "markers",
         "name": "Mean step length (m) vs Mean step velocity Y at stance - lHindpaw (m/s)",
         "showlegend": false,
         "type": "scatter",
         "x": {
          "bdata": "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",
          "dtype": "f8"
         },
         "xaxis": "x6",
         "y": {
          "bdata": "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",
          "dtype": "f8"
         },
         "yaxis": "y6"
        },
        {
         "line": {
          "color": "red",
          "dash": "dash",
          "width": 2
         },
         "mode": "lines",
         "showlegend": false,
         "type": "scatter",
         "x": {
          "bdata": "hZKOT0/zwL/AcgiJ+sbAv/pSgsKlmsC/NTP8+1BuwL9vE3Y1/EHAv6rz726nFcC/yKfTUKXSv78+aMfD+3m/v7MouzZSIb+/KOmuqajIvr+dqaIc/2++vxJqlo9VF76/hyqKAqy+vb/86n11Ama9v3GrcehYDb2/5mtlW6+0vL9bLFnOBVy8v9DsTEFcA7y/Rq1AtLKqu7+6bTQnCVK7vzAuKJpf+bq/pe4bDbagur8arw+ADEi6v49vA/Ni77m/BDD3ZbmWub958OrYDz65v+6w3ktm5bi/Y3HSvryMuL/YMcYxEzS4v07yuaRp27e/wrKtF8CCt784c6GKFiq3v6wzlf1s0ba/IvSIcMN4tr+WtHzjGSC2vwx1cFZwx7W/gTVkycZutb/29Vc8HRa1v2u2S69zvbS/4HY/IspktL9VNzOVIAy0v8r3Jgh3s7O/QLgae81as7+0eA7uIwKzvyo5AmF6qbK/nvn109BQsr8UuulGJ/ixv4l63bl9n7G//jrRLNRGsb9z+8SfKu6wv+i7uBKBlbC/XXyshdc8sL+keUDxW8ivv476J9cIF6+/eHsPvbVlrr9i/PaiYrStv0x93ogPA62/Nv7FbrxRrL8if61UaaCrvwwAlToW76q/9oB8IMM9qr/gAWQGcIypv8qCS+wc26i/tAMz0skpqL+ehBq4dninv4gFAp4jx6a/cobpg9AVpr9cB9FpfWSlv0aIuE8qs6S/MAmgNdcBpL8aiocbhFCjvwYLbwExn6K/8ItW593tob/aDD7Nijyhv8SNJbM3i6C/XB0aMsmzn78wH+n9IlGevwQhuMl87py/2CKHldaLm7+sJFZhMCmav4AmJS2Kxpi/VCj0+ONjl78oKsPEPQGWv/wrkpCXnpS/1C1hXPE7k7+oLzAoS9mRv3wx//OkdpC/oGacf/0njr9IajoXsWKLv/Bt2K5knYi/mHF2RhjYhb9AdRTeyxKDv+h4snV/TYC/IPmgGmYQe7+AAN1JzYV1v4APMvJo9m+/QB6qUDfhZL+AWUReC5hTvwBIXCa/kiQ/ImzbJ7u8WD8=",
          "dtype": "f8"
         },
         "xaxis": "x6",
         "y": {
          "bdata": "IPqfBLudsj+p7pMlz42yPzHjh0bjfbI/utd7Z/dtsj9DzG+IC16yP8zAY6kfTrI/VLVXyjM+sj/dqUvrRy6yP2aePwxcHrI/7pIzLXAOsj93hydOhP6xPwB8G2+Y7rE/iHAPkKzesT8RZQOxwM6xP5pZ99HUvrE/Ik7r8uiusT+rQt8T/Z6xPzQ30zQRj7E/vSvHVSV/sT9FILt2OW+xP84Ur5dNX7E/VwmjuGFPsT/g/ZbZdT+xP2jyivqJL7E/8eZ+G54fsT9623I8sg+xPwLQZl3G/7A/i8RaftrvsD8UuU6f7t+wP52tQsAC0LA/JaI24RbAsD+ulioCK7CwPzaLHiM/oLA/wH8SRFOQsD9IdAZlZ4CwP9Fo+oV7cLA/Wl3upo9gsD/iUeLHo1CwP2tG1ui3QLA/9DrKCcwwsD98L74q4CCwPwUkskv0ELA/jhimbAgBsD8tGjQbOeKvPz4DHF1hwq8/UOwDn4mirz9i1evgsYKvP3O+0yLaYq8/hKe7ZAJDrz+WkKOmKiOvP6d5i+hSA68/uGJzKnvjrj/KS1tso8OuP9s0Q67Lo64/7B0r8PODrj/+BhMyHGSuPw/w+nNERK4/IdnitWwkrj8ywsr3lASuP0Srsjm95K0/VZSae+XErT9nfYK9DaWtP3hmav81ha0/ik9SQV5lrT+bODqDhkWtP6whIsWuJa0/vgoKB9cFrT/P8/FI/+WsP+Dc2Yonxqw/8sXBzE+mrD8Dr6kOeIasPxWYkVCgZqw/JoF5kshGrD84amHU8CasP0lTSRYZB6w/WjwxWEHnqz9sJRmaacerP30OAdyRp6s/j/foHbqHqz+g4NBf4merP7LJuKEKSKs/w7Kg4zIoqz/Um4glWwirP+aEcGeD6Ko/921YqavIqj8JV0Dr06iqPxpAKC38iKo/LCkQbyRpqj89EviwTEmqP0773/J0Kao/YOTHNJ0Jqj9xza92xempP4O2l7jtyak/lJ9/+hWqqT+miGc8PoqpP7dxT35maqk/yVo3wI5KqT/aQx8CtyqpP+ssB0TfCqk//BXvhQfrqD8=",
          "dtype": "f8"
         },
         "yaxis": "y6"
        },
        {
         "marker": {
          "color": "green",
          "line": {
           "color": "black",
           "width": 1
          },
          "opacity": 1,
          "size": 6
         },
         "mode": "markers",
         "name": "Mean step length (m) vs Mean step velocity X at swing - lHindpaw (m/s)",
         "showlegend": false,
         "type": "scatter",
         "x": {
          "bdata": "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",
          "dtype": "f8"
         },
         "xaxis": "x7",
         "y": {
          "bdata": "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",
          "dtype": "f8"
         },
         "yaxis": "y7"
        },
        {
         "line": {
          "color": "red",
          "dash": "dash",
          "width": 2
         },
         "mode": "lines",
         "showlegend": false,
         "type": "scatter",
         "x": {
          "bdata": "eC79gFcNpT+M0N12GgWnP6Fyvmzd/Kg/tRSfYqD0qj/Ktn9YY+ysP95YYE4m5K4/eX0govRtsD+DzhAd1mmxP44fAZi3ZbI/mHDxEplhsz+iweGNel20P6wS0ghcWbU/tmPCgz1Vtj/AtLL+HlG3P8oFo3kATbg/1VaT9OFIuT/fp4Nvw0S6P+n4c+qkQLs/80lkZYY8vD/+mlTgZzi9PwjsRFtJNL4/Ej011iowvz8Ox5IoBhbAP5PvCub2k8A/GBiDo+cRwT+eQPtg2I/BPyJpcx7JDcI/qJHr27mLwj8sumOZqgnDP7Li21abh8M/NwtUFIwFxD+8M8zRfIPEP0FcRI9tAcU/xoS8TF5/xT9LrTQKT/3FP9DVrMc/e8Y/Vf4khTD5xj/aJp1CIXfHP2BPFQAS9cc/5XeNvQJzyD9qoAV78/DIP+/IfTjkbsk/dPH19dTsyT/5GW6zxWrKP35C5nC26Mo/A2teLqdmyz+Ik9brl+TLPw28TqmIYsw/kuTGZnngzD8YDT8kal7NP501t+Fa3M0/Il4vn0tazj+nhqdcPNjOPyyvHxotVs8/sdeX1x3Uzz8bAIhKBynQP14URKn/Z9A/oCgACPim0D/iPLxm8OXQPyZReMXoJNE/aGU0JOFj0T+qefCC2aLRP+2NrOHR4dE/MKJoQMog0j9ytiSfwl/SP7TK4P26ntI/996cXLPd0j8681i7qxzTP3wHFRqkW9M/vxvReJya0z8BMI3XlNnTP0RESTaNGNQ/hlgFlYVX1D/JbMHzfZbUPwuBfVJ21dQ/TpU5sW4U1T+RqfUPZ1PVP9O9sW5fktU/FtJtzVfR1T9Y5iksUBDWP5v65YpIT9Y/3Q6i6UCO1j8gI15IOc3WP2I3GqcxDNc/pUvWBSpL1z/nX5JkIorXPyp0TsMaydc/bYgKIhMI2D+vnMaAC0fYP/Kwgt8Dhtg/NMU+PvzE2D932fqc9APZP7nttvvsQtk//AFzWuWB2T8+Fi+53cDZP4Eq6xfW/9k/wz6nds4+2j8GU2PVxn3aP0lnHzS/vNo/i3vbkrf72j8=",
          "dtype": "f8"
         },
         "xaxis": "x7",
         "y": {
          "bdata": "rFIDQ6vzqT8CcVnRFgqqP1iPr1+CIKo/r60F7u02qj8FzFt8WU2qP1vqsQrFY6o/sQgImTB6qj8IJ14nnJCqP15FtLUHp6o/tGMKRHO9qj8LgmDS3tOqP2GgtmBK6qo/t74M77UAqz8O3WJ9IRerP2T7uAuNLas/uhkPmvhDqz8QOGUoZFqrP2dWu7bPcKs/vXQRRTuHqz8Tk2fTpp2rP2qxvWEStKs/wM8T8H3Kqz8W7ml+6eCrP2wMwAxV96s/wyoWm8ANrD8ZSWwpLCSsP29nwreXOqw/xoUYRgNRrD8cpG7UbmesP3LCxGLafaw/yOAa8UWUrD8f/3B/saqsP3Udxw0dwaw/yzsdnIjXrD8iWnMq9O2sP3h4ybhfBK0/zpYfR8sarT8ktXXVNjGtP3vTy2OiR60/0fEh8g1erT8nEHiAeXStP34uzg7liq0/1EwknVChrT8qa3orvLetP4CJ0Lknzq0/16cmSJPkrT8txnzW/vqtP4Pk0mRqEa4/2gIp89Unrj8wIX+BQT6uP4Y/1Q+tVK4/3F0rnhhrrj8zfIEshIGuP4ma17rvl64/37gtSVuurj8214PXxsSuP4z12WUy264/4hMw9J3xrj84MoaCCQivP49Q3BB1Hq8/5W4yn+A0rz87jYgtTEuvP5Kr3ru3Ya8/6Mk0SiN4rz8+6IrYjo6vP5QG4Wb6pK8/6yQ39WW7rz9BQ42D0dGvP5dh4xE96K8/7n85oKj+rz8iz0cXigqwP03ect6/FbA/eO2dpfUgsD+j/MhsKyywP84L9DNhN7A/+hof+5ZCsD8lKkrCzE2wP1A5dYkCWbA/e0igUDhksD+mV8sXbm+wP9Jm9t6jerA//HUhptmFsD8ohUxtD5GwP1OUdzRFnLA/fqOi+3qnsD+pss3CsLKwP9TB+InmvbA/ANEjURzJsD8q4E4YUtSwP1bved+H37A/gf6kpr3qsD+sDdBt8/WwP9cc+zQpAbE/Aiwm/F4MsT8uO1HDlBexP1hKfIrKIrE/hFmnUQAusT+vaNIYNjmxP9p3/d9rRLE/BYcop6FPsT8=",
          "dtype": "f8"
         },
         "yaxis": "y7"
        },
        {
         "marker": {
          "color": "green",
          "line": {
           "color": "black",
           "width": 1
          },
          "opacity": 1,
          "size": 6
         },
         "mode": "markers",
         "name": "Mean step length (m) vs Mean step velocity Y at swing - lHindpaw (m/s)",
         "showlegend": false,
         "type": "scatter",
         "x": {
          "bdata": "cLBgIj1Utj9lM9hW9Kq8PyhGtQxqU78/DycKPLoOwj+VqzRfsQS2P/v5dhNoY8c/nsB2UzMIwD+pdwpqhtm+P7qz3SCIi8U/gadXynIcxD9elYnMaxTCPy/bRj8w3r8/0rMeZoYGyz/HZ0K5A5rBP5PARnZbAcA//Ho+zGZDwj8oCnpEaPHBP31/7QAL18M/NiOkf9R9wD9IoooQr2+6PwDjOXWXKME/rB2e1+oluj+FlbwE5x7BPwZQ1JIvPbU/7+lri8O0vD+gAFx4PFC7PwFHw+wy878/yRJoYL5Fvj845D1dopXBP2u+G+8kE70/ZlJo5fuxvD8Gv7SO+FW8P45gxxW/g7s/uuAuOJ48wD8PL4Z7fHi3P/0dUD+PO8k/hSGyu/QBwT8UmPFWGd3CPyAbd5KXjbs/UYKLHs8ewj/7DVYfpYXDP7nk+zAIMMY/WZlR1VD8vj/VonscWLm7P6zTcaZoVbY/xTvmv41YrD+32JhkbcqnP+vw1p4DSKM/gOSTLkrfpz9jQkzmhj60P2eZIrKqFqo/UTluh2fYpD/GyEUYQMeiP4DRYwKAWKY/6yBd7T3Gpj/a4IrC1uunP/H4Us+PUaA/yjmnhNt1oT+5WTEDsBqiP2q5shPwvbM/Xb1qffIFtD848ChqnMKpPxisy3VfPK8/7MAzbdsApD9x0CPCDZihP3r55cEuH54/tZ8Ap6Z8qT9ind5O4pqwP58e9g188q4/hawd9klOqD/2AT5lP5utP62GM9rooaI/RMUa3NecrT+arVePY0axP3w81SpRea4/lqF8MG40qT+d25Phic6sP8m0HJjOCak/9zD4DMogrD+RWv226o+RPyjGyPKSkaQ/NjJaLIeZpj+jtreHfVShP01A3ofu3ag/vDmxXmlcnj+khHzQMwKtP8hJ80LchqU/+vKKPqtepj8q6uJjnP6nP5nHC6xod5Y/6pE6Ls/ArD+KtZ/cxHCqP8IFDRgiV6c/ptoU7jRmpD8l90KZFzuzP9OncUMzkrk/AdBBfVmQvD8ExDE2WcK3P3ATxzMykrg/bME14W6ctD+CsBx5oZnCP3yl0j6T6cI/HttvnfHftz8NuULJI2O2PxzPK08+h7w/vkz/J9MxwD9eBpBcOGy5P7wHg9wkD78/KEiXInFjwT/L8F+3dMiwP1t4pMx1XMA/2FisSuYOvz9+lzAoAHW3P+iWtTp2RMk/mdlipIR4wD/DveZCOh2zPyhUVyO9iLU/jfa6Zyq8vz/YtLpLd6jBP/Znw3qw9Lk/OJfjdigctD/52FIjJtS3P2ajPEuRXbk/GXf66H/qvz8ifrk7+CTDP8ERoMFs2r0/kxGUVY/hwj+Ni5ojlmy/P5r3hWHjerc/8MxqccNTwT9o7zNJZgjDP1JjNVZzTcQ/7Nwz6OOoyT+Ga+FyXf+8P0WWMGd+8bk/UukuiFgUwD+2XLtdArrGPwQUTdOfhrU/Y65WqIdUvD+z3ca/vI++P6XmaZ7mnbU/4tctNIoloz9GoaP8vzyzP81cw6Vgdq4/+DjMzTOztT9iWuX82w6nPwGPJSl8a6o/KEkApaN5sj9mwSSIGraoP/TOPxhs8K4/kHAm7C2ZrD/yOel0SYSkP8KWTG+QXaM/UWNZuKfooj8CIr1rVTmkP9e88uqHc68/VD9kgSB/sD9rHcqQe4OvP/xRAZCU/rM/X2XI7n0ElT9niqk1EcKoP/xGqWR0XLE/oKiemJFPtj+Shri/hGKqP2CXEbNKHKI/eMsfjs/7pD/9N2qfICupP3cd6RSPtag/oXGML4puqT/1T3j8Po+qP4uPtzQH1KE/2PVunZ6Yrj97yqIsSlyrPzCIx1kX/KE/a1XMPAT8sj+qz5G2AiKlP4DZ4qvvsaE/afeeIBJVoz8cq2vZmzmoP8qylLF/Zq4/fpTf2V/Upj+kADc+oi6jP1NL8I0geaI/EiqGevPrrT/bTi+c0GWtP7Uf//GfRq4/sGit+Kx3pD8mNQ6fLEirP9hy/5hV96g/eW8G6uAJqz8=",
          "dtype": "f8"
         },
         "xaxis": "x8",
         "y": {
          "bdata": "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",
          "dtype": "f8"
         },
         "yaxis": "y8"
        },
        {
         "line": {
          "color": "red",
          "dash": "dash",
          "width": 2
         },
         "mode": "lines",
         "showlegend": false,
         "type": "scatter",
         "x": {
          "bdata": "kVr9tuqPkT9dIheHk5GTPyrqMFc8k5U/9rFKJ+WUlz/CeWT3jZaZP45Bfsc2mJs/WgmYl9+ZnT8n0bFniJufP3rM5ZuYzqA/YLDyA23PoT9GlP9rQdCiPyx4DNQV0aM/ElwZPOrRpD/4PyakvtKlP94jMwyT06Y/xAdAdGfUpz+q60zcO9WoP5DPWUQQ1qk/drNmrOTWqj9cl3MUuderP0J7gHyN2Kw/Kl+N5GHZrT8QQ5pMNtquP/Ymp7QK268/bgVaju9tsD9hd2DCWe6wP1TpZvbDbrE/R1ttKi7vsT86zXNemG+yPy0/epIC8LI/ILGAxmxwsz8TI4f61vCzPwaVjS5BcbQ/+QaUYqvxtD/seJqWFXK1P9/qoMp/8rU/0lyn/ulytj/Fzq0yVPO2P7hAtGa+c7c/q7K6mij0tz+eJMHOknS4P5KWxwL99Lg/hQjONmd1uT94etRq0fW5P2vs2p47dro/Xl7h0qX2uj9R0OcGEHe7P0RC7jp697s/N7T0buR3vD8qJvuiTvi8Px2YAde4eL0/EAoICyP5vT8DfA4/jXm+P/btFHP3+b4/6V8bp2F6vz/c0SHby/q/P+ghlAebPcA/4lqXIdB9wD/bk5o7Bb7AP9XMnVU6/sA/zgWhb28+wT/IPqSJpH7BP8F3p6PZvsE/u7CqvQ7/wT+06a3XQz/CP64isfF4f8I/p1u0C66/wj+hlLcl4//CP5rNuj8YQMM/lAa+WU2Awz+NP8FzgsDDP4d4xI23AMQ/gLHHp+xAxD966srBIYHEP3MjzttWwcQ/bVzR9YsBxT9mldQPwUHFP2DO1yn2gcU/WQfbQyvCxT9TQN5dYALGP0x54XeVQsY/RrLkkcqCxj9A6+er/8LGPzkk68U0A8c/M13u32lDxz8slvH5noPHPybP9BPUw8c/Hwj4LQkEyD8ZQftHPkTIPxJ6/mFzhMg/DLMBfKjEyD8F7ASW3QTJP/8kCLASRck/+F0LykeFyT/ylg7kfMXJP+vPEf6xBco/5QgVGOdFyj/fQRgyHIbKP9h6G0xRxso/0rMeZoYGyz8=",
          "dtype": "f8"
         },
         "xaxis": "x8",
         "y": {
          "bdata": "F0DYfb/PqT9iRnxXK+epP6xMIDGX/qk/91LECgMWqj9BWWjkbi2qP4xfDL7aRKo/1mWwl0Zcqj8hbFRxsnOqP2xy+Eoei6o/tnicJIqiqj8Bf0D+9bmqP0uF5Ndh0ao/louIsc3oqj/gkSyLOQCrPyuY0GSlF6s/dZ50PhEvqz/ApBgYfUarPwqrvPHoXas/VbFgy1R1qz+gtwSlwIyrP+q9qH4spKs/NcRMWJi7qz9/yvAxBNOrP8rQlAtw6qs/FNc45dsBrD9f3dy+RxmsP6rjgJizMKw/9Okkch9IrD8/8MhLi1+sP4n2bCX3dqw/1PwQ/2KOrD8eA7XYzqWsP2kJWbI6vaw/sw/9i6bUrD/+FaFlEuysP0gcRT9+A60/kyLpGOoarT/eKI3yVTKtPygvMczBSa0/cjXVpS1hrT+9O3l/mXitPwhCHVkFkK0/UkjBMnGnrT+dTmUM3b6tP+hUCeZI1q0/Mlutv7TtrT98YVGZIAWuP8dn9XKMHK4/Em6ZTPgzrj9cdD0mZEuuP6d64f/PYq4/8YCF2Tt6rj88hymzp5GuP4aNzYwTqa4/0ZNxZn/Arj8cmhVA69euP2aguRlX764/saZd88IGrz/7rAHNLh6vP0azpaaaNa8/kLlJgAZNrz/bv+1ZcmSvPybGkTPee68/cMw1DUqTrz+60tnmtaqvPwXZfcAhwq8/UN8hmo3Zrz+a5cVz+fCvP/L1tKYyBLA/GPmGk+gPsD89/FiAnhuwP2L/Km1UJ7A/iAL9WQozsD+tBc9GwD6wP9IIoTN2SrA/9wtzICxWsD8cD0UN4mGwP0ISF/qXbbA/ZxXp5k15sD+MGLvTA4WwP7IbjcC5kLA/1x5frW+csD/8ITGaJaiwPyIlA4fbs7A/RyjVc5G/sD9sK6dgR8uwP5IueU391rA/tzFLOrPisD/cNB0nae6wPwE47xMf+rA/JjvBANUFsT9MPpPtihGxP3FBZdpAHbE/lkQ3x/YosT+8Rwm0rDSxP+FK26BiQLE/Bk6tjRhMsT8sUX96zlexP1FUUWeEY7E/dlcjVDpvsT8=",
          "dtype": "f8"
         },
         "yaxis": "y8"
        },
        {
         "marker": {
          "color": "green",
          "line": {
           "color": "black",
           "width": 1
          },
          "opacity": 1,
          "size": 6
         },
         "mode": "markers",
         "name": "Mean step duration (s) vs Mean step velocity X at stance - lHindpaw (m/s)",
         "showlegend": false,
         "type": "scatter",
         "x": {
          "bdata": "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",
          "dtype": "f8"
         },
         "xaxis": "x9",
         "y": {
          "bdata": "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",
          "dtype": "f8"
         },
         "yaxis": "y9"
        },
        {
         "line": {
          "color": "red",
          "dash": "dash",
          "width": 2
         },
         "mode": "lines",
         "showlegend": false,
         "type": "scatter",
         "x": {
          "bdata": "p1ZqpZY/tb+X+M/+AeKyv4eaNVhthLC/7Xg2Y7FNrL/NvAEWiJKnv60Azche16K/GIkw92o4nL/YEMdcGMKSvzAxu4SLl4K/ANTvBWxGJT/Qr+rkvkGDPyjQ3gwyF5M/bEhIp4SNnD9W4Nig6wGjP3acDe4Uvac/llhCOz54rD9bijvEs5mwP2vo1WpI97I/e0ZwEd1UtT+LpAq4cbK3P5sCpV4GELo/q2A/BZttvD+7vtmrL8u+P2YOOililMA/bj2HfCzDwT92bNTP9vHCP36bISPBIMQ/hspudotPxT+O+bvJVX7GP5YoCR0grcc/nldWcOrbyD+mhqPDtArKP6618BZ/Ocs/tuQ9aklozD++E4u9E5fNP8ZC2BDexc4/znElZKj0zz9rULlbuZHQP+/nX4UeKdE/c38Gr4PA0T/3Fq3Y6FfSP3uuUwJO79I//0X6K7OG0z+D3aBVGB7UPwd1R399tdQ/iwzuqOJM1T8PpJTSR+TVP5M7O/yse9Y/GNPhJRIT1z+caohPd6rXPyACL3ncQdg/pJnVokHZ2D8oMXzMpnDZP6zIIvYLCNo/MGDJH3Gf2j+0929J1jbbPziPFnM7zts/vCa9nKBl3D9AvmPGBf3cP8RVCvBqlN0/SO2wGdAr3j/MhFdDNcPeP1Ac/myaWt8/1LOklv/x3z+spSVgskTgP27x+PRkkOA/MD3MiRfc4D/yiJ8eyifhP7TUcrN8c+E/diBGSC+/4T84bBnd4QriP/q37HGUVuI/vAPABkei4j9+T5Ob+e3iP0CbZjCsOeM/Auc5xV6F4z/EMg1aEdHjP4Z+4O7DHOQ/SMqzg3Zo5D8KFocYKbTkP8xhWq3b/+Q/jq0tQo5L5T9Q+QDXQJflPxJF1Gvz4uU/1JCnAKYu5j+W3HqVWHrmP1goTioLxuY/GnQhv70R5z/cv/RTcF3nP54LyOgiqec/YFebfdX05z8io24SiEDoP+TuQac6jOg/pjoVPO3X6D9ohujQnyPpPyrSu2VSb+k/7R2P+gS76T+vaWKPtwbqP3G1NSRqUuo/MwEJuRye6j8=",
          "dtype": "f8"
         },
         "xaxis": "x9",
         "y": {
          "bdata": "JbHWpcGZzT/m4MIcg3/NP6cQr5NEZc0/aECbCgZLzT8pcIeBxzDNP+qfc/iIFs0/q89fb0r8zD9s/0vmC+LMPy0vOF3Nx8w/7l4k1I6tzD+vjhBLUJPMP3C+/MERecw/Me7oONNezD/yHdWvlETMP7NNwSZWKsw/dH2tnRcQzD81rZkU2fXLP/bchYua28s/twxyAlzByz94PF55HafLPzlsSvDejMs/+ps2Z6Byyz+7yyLeYVjLP3z7DlUjPss/PSv7y+Qjyz/+WudCpgnLP7+K07ln78o/gLq/MCnVyj9B6qun6rrKPwIamB6soMo/w0mElW2Gyj+EeXAML2zKP0WpXIPwUco/BtlI+rE3yj/HCDVxcx3KP4g4Ieg0A8o/SWgNX/boyT8KmPnVt87JP8vH5Ux5tMk/jPfRwzqayT9NJ746/H/JPw5XqrG9Zck/z4aWKH9LyT+QtoKfQDHJP1HmbhYCF8k/EhZbjcP8yD/TRUcEheLIP5R1M3tGyMg/VaUf8geuyD8W1QtpyZPIP9cE+N+Kecg/mDTkVkxfyD9ZZNDNDUXIPxqUvETPKsg/28Oou5AQyD+c85QyUvbHP10jgakT3Mc/HlNtINXBxz/fglmXlqfHP6CyRQ5Yjcc/YeIxhRlzxz8iEh782ljHP+NBCnOcPsc/pHH26V0kxz9loeJgHwrHPybRztfg78Y/5wC7TqLVxj+oMKfFY7vGP2lgkzwlocY/KpB/s+aGxj/rv2sqqGzGP6zvV6FpUsY/bR9EGCs4xj8uTzCP7B3GP+9+HAauA8Y/sK4IfW/pxT9x3vTzMM/FPzIO4WrytMU/8z3N4bOaxT+0bblYdYDFP3Wdpc82ZsU/Ns2RRvhLxT/3/H29uTHFP7gsajR7F8U/eVxWqzz9xD86jEIi/uLEP/u7Lpm/yMQ/vOsaEIGuxD99GweHQpTEPz5L8/0DesQ//3rfdMVfxD/AqsvrhkXEP4Hat2JIK8Q/Qgqk2QkRxD8EOpBQy/bDP8RpfMeM3MM/hZloPk7Cwz9GyVS1D6jDPwf5QCzRjcM/yCgto5Jzwz8=",
          "dtype": "f8"
         },
         "yaxis": "y9"
        },
        {
         "marker": {
          "color": "green",
          "line": {
           "color": "black",
           "width": 1
          },
          "opacity": 1,
          "size": 6
         },
         "mode": "markers",
         "name": "Mean step duration (s) vs Mean step velocity Y at stance - lHindpaw (m/s)",
         "showlegend": false,
         "type": "scatter",
         "x": {
          "bdata": "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",
          "dtype": "f8"
         },
         "xaxis": "x10",
         "y": {
          "bdata": "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",
          "dtype": "f8"
         },
         "yaxis": "y10"
        },
        {
         "line": {
          "color": "red",
          "dash": "dash",
          "width": 2
         },
         "mode": "lines",
         "showlegend": false,
         "type": "scatter",
         "x": {
          "bdata": "hZKOT0/zwL/AcgiJ+sbAv/pSgsKlmsC/NTP8+1BuwL9vE3Y1/EHAv6rz726nFcC/yKfTUKXSv78+aMfD+3m/v7MouzZSIb+/KOmuqajIvr+dqaIc/2++vxJqlo9VF76/hyqKAqy+vb/86n11Ama9v3GrcehYDb2/5mtlW6+0vL9bLFnOBVy8v9DsTEFcA7y/Rq1AtLKqu7+6bTQnCVK7vzAuKJpf+bq/pe4bDbagur8arw+ADEi6v49vA/Ni77m/BDD3ZbmWub958OrYDz65v+6w3ktm5bi/Y3HSvryMuL/YMcYxEzS4v07yuaRp27e/wrKtF8CCt784c6GKFiq3v6wzlf1s0ba/IvSIcMN4tr+WtHzjGSC2vwx1cFZwx7W/gTVkycZutb/29Vc8HRa1v2u2S69zvbS/4HY/IspktL9VNzOVIAy0v8r3Jgh3s7O/QLgae81as7+0eA7uIwKzvyo5AmF6qbK/nvn109BQsr8UuulGJ/ixv4l63bl9n7G//jrRLNRGsb9z+8SfKu6wv+i7uBKBlbC/XXyshdc8sL+keUDxW8ivv476J9cIF6+/eHsPvbVlrr9i/PaiYrStv0x93ogPA62/Nv7FbrxRrL8if61UaaCrvwwAlToW76q/9oB8IMM9qr/gAWQGcIypv8qCS+wc26i/tAMz0skpqL+ehBq4dninv4gFAp4jx6a/cobpg9AVpr9cB9FpfWSlv0aIuE8qs6S/MAmgNdcBpL8aiocbhFCjvwYLbwExn6K/8ItW593tob/aDD7Nijyhv8SNJbM3i6C/XB0aMsmzn78wH+n9IlGevwQhuMl87py/2CKHldaLm7+sJFZhMCmav4AmJS2Kxpi/VCj0+ONjl78oKsPEPQGWv/wrkpCXnpS/1C1hXPE7k7+oLzAoS9mRv3wx//OkdpC/oGacf/0njr9IajoXsWKLv/Bt2K5knYi/mHF2RhjYhb9AdRTeyxKDv+h4snV/TYC/IPmgGmYQe7+AAN1JzYV1v4APMvJo9m+/QB6qUDfhZL+AWUReC5hTvwBIXCa/kiQ/ImzbJ7u8WD8=",
          "dtype": "f8"
         },
         "xaxis": "x10",
         "y": {
          "bdata": "Qp8X70gCwT/6ZIXTSCzBP7Iq87dIVsE/avBgnEiAwT8jts6ASKrBP9p7PGVI1ME/lEGqSUj+wT9MBxguSCjCPwTNhRJIUsI/vJLz9kd8wj90WGHbR6bCPywez79H0MI/5OM8pEf6wj+dqaqIRyTDP1VvGG1HTsM/DjWGUUd4wz/G+vM1R6LDP37AYRpHzMM/NobP/kb2wz/uSz3jRiDEP6YRq8dGSsQ/XtcYrEZ0xD8XnYaQRp7EP89i9HRGyMQ/iChiWUbyxD9A7s89RhzFP/izPSJGRsU/sHmrBkZwxT9oPxnrRZrFPyAFh89FxMU/2cr0s0XuxT+RkGKYRRjGP0pW0HxFQsY/Ahw+YUVsxj+64atFRZbGP3KnGSpFwMY/Km2HDkXqxj/iMvXyRBTHP5v4YtdEPsc/U77Qu0Roxz8MhD6gRJLHP8RJrIREvMc/fA8aaUTmxz801YdNRBDIP+ya9TFEOsg/pWBjFkRkyD9cJtH6Q47IPxXsPt9DuMg/zbGsw0PiyD+GdxqoQwzJPz49iIxDNsk/9gL2cENgyT+uyGNVQ4rJP2aO0TlDtMk/H1Q/HkPeyT/XGa0CQwjKP5DfGudCMso/SKWIy0Jcyj8Aa/avQobKP7gwZJRCsMo/cPbReELayj8ovD9dQgTLP+GBrUFCLss/mUcbJkJYyz9RDYkKQoLLPwrT9u5BrMs/wphk00HWyz96XtK3QQDMPzIkQJxBKsw/6umtgEFUzD+jrxtlQX7MP1t1iUlBqMw/Ezv3LUHSzD/LAGUSQfzMP4TG0vZAJs0/PIxA20BQzT/0Ua6/QHrNP6wXHKRApM0/Zd2JiEDOzT8do/dsQPjNP9VoZVFAIs4/ji7TNUBMzj9G9EAaQHbOP/65rv4/oM4/tn8c4z/Kzj9uRYrHP/TOPyYL+Ks/Hs8/39BlkD9Izz+XltN0P3LPP09cQVk/nM8/CCKvPT/Gzz/A5xwiP/DPP7xWRYMfDdA/mDl8dR8i0D90HLNnHzfQP1D/6VkfTNA/LOIgTB9h0D8JxVc+H3bQP+WnjjAfi9A/wYrFIh+g0D8=",
          "dtype": "f8"
         },
         "yaxis": "y10"
        },
        {
         "marker": {
          "color": "green",
          "line": {
           "color": "black",
           "width": 1
          },
          "opacity": 1,
          "size": 6
         },
         "mode": "markers",
         "name": "Mean step duration (s) vs Mean step velocity X at swing - lHindpaw (m/s)",
         "showlegend": false,
         "type": "scatter",
         "x": {
          "bdata": "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",
          "dtype": "f8"
         },
         "xaxis": "x11",
         "y": {
          "bdata": "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",
          "dtype": "f8"
         },
         "yaxis": "y11"
        },
        {
         "line": {
          "color": "red",
          "dash": "dash",
          "width": 2
         },
         "mode": "lines",
         "showlegend": false,
         "type": "scatter",
         "x": {
          "bdata": "eC79gFcNpT+M0N12GgWnP6Fyvmzd/Kg/tRSfYqD0qj/Ktn9YY+ysP95YYE4m5K4/eX0govRtsD+DzhAd1mmxP44fAZi3ZbI/mHDxEplhsz+iweGNel20P6wS0ghcWbU/tmPCgz1Vtj/AtLL+HlG3P8oFo3kATbg/1VaT9OFIuT/fp4Nvw0S6P+n4c+qkQLs/80lkZYY8vD/+mlTgZzi9PwjsRFtJNL4/Ej011iowvz8Ox5IoBhbAP5PvCub2k8A/GBiDo+cRwT+eQPtg2I/BPyJpcx7JDcI/qJHr27mLwj8sumOZqgnDP7Li21abh8M/NwtUFIwFxD+8M8zRfIPEP0FcRI9tAcU/xoS8TF5/xT9LrTQKT/3FP9DVrMc/e8Y/Vf4khTD5xj/aJp1CIXfHP2BPFQAS9cc/5XeNvQJzyD9qoAV78/DIP+/IfTjkbsk/dPH19dTsyT/5GW6zxWrKP35C5nC26Mo/A2teLqdmyz+Ik9brl+TLPw28TqmIYsw/kuTGZnngzD8YDT8kal7NP501t+Fa3M0/Il4vn0tazj+nhqdcPNjOPyyvHxotVs8/sdeX1x3Uzz8bAIhKBynQP14URKn/Z9A/oCgACPim0D/iPLxm8OXQPyZReMXoJNE/aGU0JOFj0T+qefCC2aLRP+2NrOHR4dE/MKJoQMog0j9ytiSfwl/SP7TK4P26ntI/996cXLPd0j8681i7qxzTP3wHFRqkW9M/vxvReJya0z8BMI3XlNnTP0RESTaNGNQ/hlgFlYVX1D/JbMHzfZbUPwuBfVJ21dQ/TpU5sW4U1T+RqfUPZ1PVP9O9sW5fktU/FtJtzVfR1T9Y5iksUBDWP5v65YpIT9Y/3Q6i6UCO1j8gI15IOc3WP2I3GqcxDNc/pUvWBSpL1z/nX5JkIorXPyp0TsMaydc/bYgKIhMI2D+vnMaAC0fYP/Kwgt8Dhtg/NMU+PvzE2D932fqc9APZP7nttvvsQtk//AFzWuWB2T8+Fi+53cDZP4Eq6xfW/9k/wz6nds4+2j8GU2PVxn3aP0lnHzS/vNo/i3vbkrf72j8=",
          "dtype": "f8"
         },
         "xaxis": "x11",
         "y": {
          "bdata": "b8pSK4UG0D9HrmguQe7PP7HHKwZ4z88/HOHu3a6wzz+G+rG15ZHPP/ATdY0cc88/Wi04ZVNUzz/ERvs8ijXPPy5gvhTBFs8/mHmB7Pf3zj8Ck0TELtnOP22sB5xlus4/18XKc5ybzj9B341L03zOP6v4UCMKXs4/FRIU+0A/zj+AK9fSdyDOP+pEmqquAc4/VF5dguXizT++dyBaHMTNPyiR4zFTpc0/kqqmCYqGzT/8w2nhwGfNP2bdLLn3SM0/0fbvkC4qzT87ELNoZQvNP6UpdkCc7Mw/D0M5GNPNzD96XPzvCa/MP+N1v8dAkMw/To+Cn3dxzD+4qEV3rlLMPyLCCE/lM8w/jNvLJhwVzD/29I7+UvbLP2AOUtaJ18s/yicVrsC4yz81QdiF95nLP59am10ue8s/CXReNWVcyz9zjSENnD3LP92m5OTSHss/R8CnvAkAyz+y2WqUQOHKPxzzLWx3wso/hgzxQ66jyj/wJbQb5YTKP1o/d/MbZso/xFg6y1JHyj8ucv2iiSjKP5iLwHrACco/A6WDUvfqyT9tvkYqLszJP9fXCQJlrck/QfHM2ZuOyT+rCpCx0m/JPxYkU4kJUck/gD0WYUAyyT/qVtk4dxPJP1RwnBCu9Mg/volf6OTVyD8ooyLAG7fIP5K85ZdSmMg//NWob4l5yD9m72tHwFrIP9EILx/3O8g/OyLy9i0dyD+lO7XOZP7HPxBVeKab38c/em47ftLAxz/kh/5VCaLHP06hwS1Ag8c/uLqEBXdkxz8i1EfdrUXHP4ztCrXkJsc/9gbOjBsIxz9gIJFkUunGP8o5VDyJysY/NFMXFMCrxj+fbNrr9ozGPwmGncMtbsY/dJ9gm2RPxj/euCNzmzDGP0jS5krSEcY/suupIgnzxT8cBW36P9TFP4YeMNJ2tcU/8Dfzqa2WxT9aUbaB5HfFP8RqeVkbWcU/LoQ8MVI6xT+Ynf8IiRvFPwO3wuC//MQ/bdCFuPbdxD/Y6UiQLb/EP0IDDGhkoMQ/rBzPP5uBxD8WNpIX0mLEP4BPVe8IRMQ/6mgYxz8lxD8=",
          "dtype": "f8"
         },
         "yaxis": "y11"
        },
        {
         "marker": {
          "color": "green",
          "line": {
           "color": "black",
           "width": 1
          },
          "opacity": 1,
          "size": 6
         },
         "mode": "markers",
         "name": "Mean step duration (s) vs Mean step velocity Y at swing - lHindpaw (m/s)",
         "showlegend": false,
         "type": "scatter",
         "x": {
          "bdata": "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",
          "dtype": "f8"
         },
         "xaxis": "x12",
         "y": {
          "bdata": "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",
          "dtype": "f8"
         },
         "yaxis": "y12"
        },
        {
         "line": {
          "color": "red",
          "dash": "dash",
          "width": 2
         },
         "mode": "lines",
         "showlegend": false,
         "type": "scatter",
         "x": {
          "bdata": "kVr9tuqPkT9dIheHk5GTPyrqMFc8k5U/9rFKJ+WUlz/CeWT3jZaZP45Bfsc2mJs/WgmYl9+ZnT8n0bFniJufP3rM5ZuYzqA/YLDyA23PoT9GlP9rQdCiPyx4DNQV0aM/ElwZPOrRpD/4PyakvtKlP94jMwyT06Y/xAdAdGfUpz+q60zcO9WoP5DPWUQQ1qk/drNmrOTWqj9cl3MUuderP0J7gHyN2Kw/Kl+N5GHZrT8QQ5pMNtquP/Ymp7QK268/bgVaju9tsD9hd2DCWe6wP1TpZvbDbrE/R1ttKi7vsT86zXNemG+yPy0/epIC8LI/ILGAxmxwsz8TI4f61vCzPwaVjS5BcbQ/+QaUYqvxtD/seJqWFXK1P9/qoMp/8rU/0lyn/ulytj/Fzq0yVPO2P7hAtGa+c7c/q7K6mij0tz+eJMHOknS4P5KWxwL99Lg/hQjONmd1uT94etRq0fW5P2vs2p47dro/Xl7h0qX2uj9R0OcGEHe7P0RC7jp697s/N7T0buR3vD8qJvuiTvi8Px2YAde4eL0/EAoICyP5vT8DfA4/jXm+P/btFHP3+b4/6V8bp2F6vz/c0SHby/q/P+ghlAebPcA/4lqXIdB9wD/bk5o7Bb7AP9XMnVU6/sA/zgWhb28+wT/IPqSJpH7BP8F3p6PZvsE/u7CqvQ7/wT+06a3XQz/CP64isfF4f8I/p1u0C66/wj+hlLcl4//CP5rNuj8YQMM/lAa+WU2Awz+NP8FzgsDDP4d4xI23AMQ/gLHHp+xAxD966srBIYHEP3MjzttWwcQ/bVzR9YsBxT9mldQPwUHFP2DO1yn2gcU/WQfbQyvCxT9TQN5dYALGP0x54XeVQsY/RrLkkcqCxj9A6+er/8LGPzkk68U0A8c/M13u32lDxz8slvH5noPHPybP9BPUw8c/Hwj4LQkEyD8ZQftHPkTIPxJ6/mFzhMg/DLMBfKjEyD8F7ASW3QTJP/8kCLASRck/+F0LykeFyT/ylg7kfMXJP+vPEf6xBco/5QgVGOdFyj/fQRgyHIbKP9h6G0xRxso/0rMeZoYGyz8=",
          "dtype": "f8"
         },
         "xaxis": "x12",
         "y": {
          "bdata": "SyauWjfEzz+gPvwImKfPP/VWSrf4is8/Sm+YZVluzz+fh+YTulHPP/SfNMIaNc8/SbiCcHsYzz+e0NAe3PvOP/PoHs08384/SAFte53Czj+cGbsp/qXOP/IxCdheic4/RkpXhr9szj+bYqU0IFDOP/B68+KAM84/RZNBkeEWzj+aq48/QvrNP+/D3e2i3c0/RNwrnAPBzT+Z9HlKZKTNP+4MyPjEh80/QyUWpyVrzT+YPWRVhk7NP+1VsgPnMc0/Qm4AskcVzT+Whk5gqPjMP+yenA4J3Mw/QLfqvGm/zD+WzzhryqLMP+rnhhkrhsw/PwDVx4tpzD+UGCN27EzMP+kwcSRNMMw/Pkm/0q0TzD+TYQ2BDvfLP+h5Wy9v2ss/PZKp3c+9yz+SqveLMKHLP+fCRTqRhMs/PNuT6PFnyz+R8+GWUkvLP+YLMEWzLss/OiR+8xMSyz+QPMyhdPXKP+RUGlDV2Mo/OW1o/jW8yj+Ohbaslp/KP+OdBFv3gso/OLZSCVhmyj+NzqC3uEnKP+Lm7mUZLco/N/88FHoQyj+MF4vC2vPJP+Ev2XA718k/NkgnH5y6yT+LYHXN/J3JP+B4w3tdgck/NJERKr5kyT+KqV/YHkjJP97BrYZ/K8k/M9r7NOAOyT+I8knjQPLIP90KmJGh1cg/MiPmPwK5yD+HOzTuYpzIP9xTgpzDf8g/MWzQSiRjyD+GhB75hEbIP9ucbKflKcg/MLW6VUYNyD+FzQgEp/DHP9rlVrIH1Mc/Lv6kYGi3xz+EFvMOyZrHP9guQb0pfsc/LkePa4phxz+CX90Z60THP9d3K8hLKMc/LJB5dqwLxz+BqMckDe/GP9bAFdNt0sY/K9ljgc61xj+A8bEvL5nGP9UJAN6PfMY/KiJOjPBfxj9/Opw6UUPGP9RS6uixJsY/KGs4lxIKxj9+g4ZFc+3FP9Kb1PPT0MU/KLQiojS0xT98zHBQlZfFP9Hkvv71esU/Jv0MrVZexT97FVtbt0HFP9AtqQkYJcU/JUb3t3gIxT96XkVm2evEP892kxQ6z8Q/JI/hwpqyxD8=",
          "dtype": "f8"
         },
         "yaxis": "y12"
        },
        {
         "marker": {
          "color": "green",
          "line": {
           "color": "black",
           "width": 1
          },
          "opacity": 1,
          "size": 6
         },
         "mode": "markers",
         "name": "Mean swing duration (s) vs Mean step velocity X at stance - lHindpaw (m/s)",
         "showlegend": false,
         "type": "scatter",
         "x": {
          "bdata": "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",
          "dtype": "f8"
         },
         "xaxis": "x13",
         "y": {
          "bdata": "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",
          "dtype": "f8"
         },
         "yaxis": "y13"
        },
        {
         "line": {
          "color": "red",
          "dash": "dash",
          "width": 2
         },
         "mode": "lines",
         "showlegend": false,
         "type": "scatter",
         "x": {
          "bdata": "p1ZqpZY/tb+X+M/+AeKyv4eaNVhthLC/7Xg2Y7FNrL/NvAEWiJKnv60Azche16K/GIkw92o4nL/YEMdcGMKSvzAxu4SLl4K/ANTvBWxGJT/Qr+rkvkGDPyjQ3gwyF5M/bEhIp4SNnD9W4Nig6wGjP3acDe4Uvac/llhCOz54rD9bijvEs5mwP2vo1WpI97I/e0ZwEd1UtT+LpAq4cbK3P5sCpV4GELo/q2A/BZttvD+7vtmrL8u+P2YOOililMA/bj2HfCzDwT92bNTP9vHCP36bISPBIMQ/hspudotPxT+O+bvJVX7GP5YoCR0grcc/nldWcOrbyD+mhqPDtArKP6618BZ/Ocs/tuQ9aklozD++E4u9E5fNP8ZC2BDexc4/znElZKj0zz9rULlbuZHQP+/nX4UeKdE/c38Gr4PA0T/3Fq3Y6FfSP3uuUwJO79I//0X6K7OG0z+D3aBVGB7UPwd1R399tdQ/iwzuqOJM1T8PpJTSR+TVP5M7O/yse9Y/GNPhJRIT1z+caohPd6rXPyACL3ncQdg/pJnVokHZ2D8oMXzMpnDZP6zIIvYLCNo/MGDJH3Gf2j+0929J1jbbPziPFnM7zts/vCa9nKBl3D9AvmPGBf3cP8RVCvBqlN0/SO2wGdAr3j/MhFdDNcPeP1Ac/myaWt8/1LOklv/x3z+spSVgskTgP27x+PRkkOA/MD3MiRfc4D/yiJ8eyifhP7TUcrN8c+E/diBGSC+/4T84bBnd4QriP/q37HGUVuI/vAPABkei4j9+T5Ob+e3iP0CbZjCsOeM/Auc5xV6F4z/EMg1aEdHjP4Z+4O7DHOQ/SMqzg3Zo5D8KFocYKbTkP8xhWq3b/+Q/jq0tQo5L5T9Q+QDXQJflPxJF1Gvz4uU/1JCnAKYu5j+W3HqVWHrmP1goTioLxuY/GnQhv70R5z/cv/RTcF3nP54LyOgiqec/YFebfdX05z8io24SiEDoP+TuQac6jOg/pjoVPO3X6D9ohujQnyPpPyrSu2VSb+k/7R2P+gS76T+vaWKPtwbqP3G1NSRqUuo/MwEJuRye6j8=",
          "dtype": "f8"
         },
         "xaxis": "x13",
         "y": {
          "bdata": "f/xBmQqXvT8T+yYoSoi9P6b5C7eJeb0/OvjwRclqvT/O9tXUCFy9P2L1umNITb0/9vOf8oc+vT+K8oSBxy+9Px3xaRAHIb0/se9On0YSvT9F7jMuhgO9P9nsGL3F9Lw/bev9SwXmvD8A6uLaRNe8P5Tox2mEyLw/KOes+MO5vD+85ZGHA6u8P1DkdhZDnLw/5OJbpYKNvD934UA0wn68PwvgJcMBcLw/n94KUkFhvD8z3e/ggFK8P8fb1G/AQ7w/Wtq5/v80vD/u2J6NPya8P4LXgxx/F7w/FtZoq74IvD+q1E06/vm7Pz7TMsk967s/0dEXWH3cuz9l0PzmvM27P/nO4XX8vrs/jc3GBDywuz8hzKuTe6G7P7TKkCK7krs/SMl1sfqDuz/cx1pAOnW7P3DGP895Zrs/BMUkXrlXuz+Ywwnt+Ei7PyvC7ns4Ors/v8DTCngruz9Tv7iZtxy7P+e9nSj3Dbs/e7yCtzb/uj8Ou2dGdvC6P6K5TNW14bo/NrgxZPXSuj/KthbzNMS6P161+4F0tbo/8bPgELSmuj+FssWf85e6Pxmxqi4zibo/ra+PvXJ6uj9BrnRMsmu6P9SsWdvxXLo/aKs+ajFOuj/8qSP5cD+6P5CoCIiwMLo/JKftFvAhuj+4pdKlLxO6P0uktzRvBLo/36Kcw671uT9zoYFS7ua5PwegZuEt2Lk/m55LcG3JuT8unTD/rLq5P8KbFY7sq7k/Vpr6HCyduT/qmN+ra465P36XxDqrf7k/EpapyepwuT+llI5YKmK5PzmTc+dpU7k/zZFYdqlEuT9hkD0F6TW5P/WOIpQoJ7k/iI0HI2gYuT8cjOyxpwm5P7CK0UDn+rg/RIm2zybsuD/Yh5teZt24P2yGgO2lzrg/AIVlfOW/uD+Tg0oLJbG4PyeCL5pkorg/u4AUKaSTuD9Pf/m344S4P+J93kYjdrg/dnzD1WJnuD8Ke6hkoli4P555jfPhSbg/MnhygiE7uD/GdlcRYSy4P1p1PKCgHbg/7XMhL+AOuD+Bcga+HwC4PxVx60xf8bc/qG/Q257itz8=",
          "dtype": "f8"
         },
         "yaxis": "y13"
        },
        {
         "marker": {
          "color": "green",
          "line": {
           "color": "black",
           "width": 1
          },
          "opacity": 1,
          "size": 6
         },
         "mode": "markers",
         "name": "Mean swing duration (s) vs Mean step velocity Y at stance - lHindpaw (m/s)",
         "showlegend": false,
         "type": "scatter",
         "x": {
          "bdata": "FvQ64Xlbo7/fLLr0A7qivyQSVYRoXam/ij6rqTuBsL9kPa13+9Ojv7clyGnYxKu/unrvgpuKsb8JiWgspzWsv4z1xUZIC6m/q+WF5S6atr/fzwOTfkOnv/NUrp/EgKe/6tqkdkb2sL/1DFFfkJmtv2pAcMB7rKy/nehVb/yDqL88Kmzjpj2bv3Gex/Qgb7C/s6gabSfmrb/1t5PpoP+lvzPQaQPFDLC/enFqX/W1lr8IydF8Uraiv6mVtK2WeJa/F+8cK8HamL9vQNYwusmYv9M1Pl4YRpS/5wBliQrnor8qXEmBxhGSv/4Btwk14Yy/sQcmfSx5nb/jdRjRHQGmvx6Vb1OrgaC/giVzYTSdsb+EXX1G9f+hv4WSjk9P88C/HkZsm3rTsb9BAULSgeWkv6zLkwtRSrK/zj73SlMprb8yEsamImyiv8bHc5Bqia2/n3hoZRQDsL/XnzFNxgKTvw7h9S7Scqy//jZJ1GsZq7/PX07YEPSTvwwDjYin2pa/X9dEYQlUpL/FqoFb39qov4m7TCvhIKK/aNH6J5Tbp79GATmyRSCrv5ZcnbHMV5C/EiGBTwLjpr/koXZcU9Glv1sPLj+tuqK/m4GCK9WOrb8X4DXntFSbvyu/OX1Oo7G/GdwzGMRGq78TmV1QxJ2gv0Xgqg9Sg5G/iFzwNncLmb/NuN7MSE2Pv5P3JMA/XpS/q9sIRn8BnL9IZoxp0Oukv7mnEkM1lp2/Rdb33HswrL98pQ4JFoeVvyQSdbNHSKm/E/xcQEMunb/mHn2UfZezv57uv/gKQoa/12seo6aUlb/aP25bLsmdvyQGZMGrU5e/PcHEzSqior8ibNsnu7xYP8cG0lucD6C/qKRRjHT3nL+wyawkBMmgvyRqTeS4BKe/lJp+Kk8+hL/IOGCnZqSiv0tVqLxTDZm/CjpG1IF3kL+is1M/y3ChvxkPNdwvg5a/9ABOmKO2dL8WYlaZCDWvv/G+E5gQdqC/zAmP3+fcqb8zFA4RZySyv1b2Rur46Za/0j9VjekhsL/MEIgH1rytv/L7qfFS5KS/rviXVs0Nm7+W158uorm2v1fwvf3wYLW/pn/8xz8hqL+i8Z8Vc8Cpv5J5dXOzzK+/nUIBuDCEqb/n2tUcpoKgvz6PrjI30qO/X7EWazGRpb+1kn6h1qumvwd0U7plqay/jmba47dKqr+0oxPegfmkv1v9Mr+Veba/ZuWkaYInqL9R38MKeQGZv2DsIa4EjKO/emB4wwECqb8Ah+BFiO2tvy861NmZPZC/kfQTDI4Fmb//YV7wrDmsv9F9U8stMK2/Z2LVyEW2oL8tgtFfXuOnvxi/iyq7RZi/PM+hZDsMtb8kNUecwJKfv3ypyJKYg5O/f5ZoiXYCrr83DYzf5Rm9v+yu+GEThLe/HELzxfvttb/gSWEK71e0v4eIIg/QIqO/9TV08Y6xrr/NKGTm1iC2vzKgibBhjJ6/n2i/KR8yp7/2GpsDgmCzvwh8lgsqGrC/e4Kkv/EFrL/xnoDMPQCpv4asgrvsCo+/AKXi7MPRqr8jdRZdeputv2eFr+o22KG/LsSnRYqDsL8L0h5sLJGdv975osyACrK/qwruwZnfnb8/L9JjZAikv6cw9onQyJ2/k9CAIcYJqL9YDu/Hogmjv2xjZvzCnZ2/gzVw3BV8qb/Uo6HjaZ6wv8CzHfN8D6K/RkqoBfCZpr93AwLtnNSWv3eXgEOlMam/tbdV/+W0qr9VAfLF+oWev8gnwxN3CLC/8UeDJXIQh79e4ef0DAWHv5vZs5dfRaW/twrdWd92nL8L0FOfBTCmv2gZf0Pwraq/5TE+EgHFlb9U05K8i8qUv1xpNGHCn6G/Cm+DlpQEnb82+7FI54+fv7NEZ790r4y/cQkJT5ANnL8vCTbRUFmMvxig8xddv3a/Ms0uGYxYnr/8cMfcuaiwv2UlPogfjZ6/6NuiqB7Qor/CmlGKYv2nv1d0lP8XV4K/8700zB+DoL++2iO1yRCmv8fL+XuP2KO/GnStvuZBpr8=",
          "dtype": "f8"
         },
         "xaxis": "x14",
         "y": {
          "bdata": "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",
          "dtype": "f8"
         },
         "yaxis": "y14"
        },
        {
         "line": {
          "color": "red",
          "dash": "dash",
          "width": 2
         },
         "mode": "lines",
         "showlegend": false,
         "type": "scatter",
         "x": {
          "bdata": "hZKOT0/zwL/AcgiJ+sbAv/pSgsKlmsC/NTP8+1BuwL9vE3Y1/EHAv6rz726nFcC/yKfTUKXSv78+aMfD+3m/v7MouzZSIb+/KOmuqajIvr+dqaIc/2++vxJqlo9VF76/hyqKAqy+vb/86n11Ama9v3GrcehYDb2/5mtlW6+0vL9bLFnOBVy8v9DsTEFcA7y/Rq1AtLKqu7+6bTQnCVK7vzAuKJpf+bq/pe4bDbagur8arw+ADEi6v49vA/Ni77m/BDD3ZbmWub958OrYDz65v+6w3ktm5bi/Y3HSvryMuL/YMcYxEzS4v07yuaRp27e/wrKtF8CCt784c6GKFiq3v6wzlf1s0ba/IvSIcMN4tr+WtHzjGSC2vwx1cFZwx7W/gTVkycZutb/29Vc8HRa1v2u2S69zvbS/4HY/IspktL9VNzOVIAy0v8r3Jgh3s7O/QLgae81as7+0eA7uIwKzvyo5AmF6qbK/nvn109BQsr8UuulGJ/ixv4l63bl9n7G//jrRLNRGsb9z+8SfKu6wv+i7uBKBlbC/XXyshdc8sL+keUDxW8ivv476J9cIF6+/eHsPvbVlrr9i/PaiYrStv0x93ogPA62/Nv7FbrxRrL8if61UaaCrvwwAlToW76q/9oB8IMM9qr/gAWQGcIypv8qCS+wc26i/tAMz0skpqL+ehBq4dninv4gFAp4jx6a/cobpg9AVpr9cB9FpfWSlv0aIuE8qs6S/MAmgNdcBpL8aiocbhFCjvwYLbwExn6K/8ItW593tob/aDD7Nijyhv8SNJbM3i6C/XB0aMsmzn78wH+n9IlGevwQhuMl87py/2CKHldaLm7+sJFZhMCmav4AmJS2Kxpi/VCj0+ONjl78oKsPEPQGWv/wrkpCXnpS/1C1hXPE7k7+oLzAoS9mRv3wx//OkdpC/oGacf/0njr9IajoXsWKLv/Bt2K5knYi/mHF2RhjYhb9AdRTeyxKDv+h4snV/TYC/IPmgGmYQe7+AAN1JzYV1v4APMvJo9m+/QB6qUDfhZL+AWUReC5hTvwBIXCa/kiQ/ImzbJ7u8WD8=",
          "dtype": "f8"
         },
         "xaxis": "x14",
         "y": {
          "bdata": "gPfDEfyPsz9uXg8N9rKzP1zFWgjw1bM/SiymA+r4sz84k/H+4xu0Pyb6PPrdPrQ/FGGI9ddhtD8CyNPw0YS0P/AuH+zLp7Q/3pVq58XKtD/M/LXiv+20P7tjAd65ELU/qcpM2bMztT+XMZjUrVa1P4WY48+nebU/c/8uy6GctT9iZnrGm7+1P1DNxcGV4rU/PTQRvY8Ftj8sm1y4iSi2PxoCqLODS7Y/CGnzrn1utj/2zz6qd5G2P+Q2iqVxtLY/0p3VoGvXtj/ABCGcZfq2P65rbJdfHbc/nNK3kllAtz+KOQOOU2O3P3igTolNhrc/ZgeahEeptz9UbuV/Qcy3P0LVMHs777c/MDx8djUSuD8fo8dxLzW4PwwKE20pWLg/+3BeaCN7uD/p16ljHZ64P9c+9V4Xwbg/xaVAWhHkuD+zDIxVCwe5P6Fz11AFKrk/j9oiTP9MuT9+QW5H+W+5P2uouULzkrk/Wg8FPu21uT9IdlA559i5PzbdmzTh+7k/JETnL9seuj8SqzIr1UG6PwASfibPZLo/7njJIcmHuj/c3xQdw6q6P8pGYBi9zbo/uK2rE7fwuj+mFPcOsRO7P5R7QgqrNrs/g+KNBaVZuz9wSdkAn3y7P16wJPyYn7s/TRdw95LCuz87frvyjOW7PynlBu6GCLw/F0xS6YArvD8Fs53kek68P/MZ6d90cbw/4YA0226UvD/Q53/WaLe8P75Oy9Fi2rw/rLUWzVz9vD+aHGLIViC9P4iDrcNQQ70/dur4vkpmvT9kUUS6RIm9P1K4j7U+rL0/QB/bsDjPvT8uhiasMvK9PxztcacsFb4/ClS9oiY4vj/4ugieIFu+P+YhVJkafr4/1YiflBShvj/D7+qPDsS+P7FWNosI574/nr2BhgIKvz+NJM2B/Cy/P3uLGH32T78/afJjePByvz9XWa9z6pW/P0XA+m7kuL8/MydGat7bvz8hjpFl2P6/P4h6bjDpEMA//y0ULmYiwD924bkr4zPAP+2UXylgRcA/ZEgFJ91WwD/b+6okWmjAP1KvUCLXecA/yWL2H1SLwD8=",
          "dtype": "f8"
         },
         "yaxis": "y14"
        },
        {
         "marker": {
          "color": "green",
          "line": {
           "color": "black",
           "width": 1
          },
          "opacity": 1,
          "size": 6
         },
         "mode": "markers",
         "name": "Mean swing duration (s) vs Mean step velocity X at swing - lHindpaw (m/s)",
         "showlegend": false,
         "type": "scatter",
         "x": {
          "bdata": "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",
          "dtype": "f8"
         },
         "xaxis": "x15",
         "y": {
          "bdata": "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",
          "dtype": "f8"
         },
         "yaxis": "y15"
        },
        {
         "line": {
          "color": "red",
          "dash": "dash",
          "width": 2
         },
         "mode": "lines",
         "showlegend": false,
         "type": "scatter",
         "x": {
          "bdata": "eC79gFcNpT+M0N12GgWnP6Fyvmzd/Kg/tRSfYqD0qj/Ktn9YY+ysP95YYE4m5K4/eX0govRtsD+DzhAd1mmxP44fAZi3ZbI/mHDxEplhsz+iweGNel20P6wS0ghcWbU/tmPCgz1Vtj/AtLL+HlG3P8oFo3kATbg/1VaT9OFIuT/fp4Nvw0S6P+n4c+qkQLs/80lkZYY8vD/+mlTgZzi9PwjsRFtJNL4/Ej011iowvz8Ox5IoBhbAP5PvCub2k8A/GBiDo+cRwT+eQPtg2I/BPyJpcx7JDcI/qJHr27mLwj8sumOZqgnDP7Li21abh8M/NwtUFIwFxD+8M8zRfIPEP0FcRI9tAcU/xoS8TF5/xT9LrTQKT/3FP9DVrMc/e8Y/Vf4khTD5xj/aJp1CIXfHP2BPFQAS9cc/5XeNvQJzyD9qoAV78/DIP+/IfTjkbsk/dPH19dTsyT/5GW6zxWrKP35C5nC26Mo/A2teLqdmyz+Ik9brl+TLPw28TqmIYsw/kuTGZnngzD8YDT8kal7NP501t+Fa3M0/Il4vn0tazj+nhqdcPNjOPyyvHxotVs8/sdeX1x3Uzz8bAIhKBynQP14URKn/Z9A/oCgACPim0D/iPLxm8OXQPyZReMXoJNE/aGU0JOFj0T+qefCC2aLRP+2NrOHR4dE/MKJoQMog0j9ytiSfwl/SP7TK4P26ntI/996cXLPd0j8681i7qxzTP3wHFRqkW9M/vxvReJya0z8BMI3XlNnTP0RESTaNGNQ/hlgFlYVX1D/JbMHzfZbUPwuBfVJ21dQ/TpU5sW4U1T+RqfUPZ1PVP9O9sW5fktU/FtJtzVfR1T9Y5iksUBDWP5v65YpIT9Y/3Q6i6UCO1j8gI15IOc3WP2I3GqcxDNc/pUvWBSpL1z/nX5JkIorXPyp0TsMaydc/bYgKIhMI2D+vnMaAC0fYP/Kwgt8Dhtg/NMU+PvzE2D932fqc9APZP7nttvvsQtk//AFzWuWB2T8+Fi+53cDZP4Eq6xfW/9k/wz6nds4+2j8GU2PVxn3aP0lnHzS/vNo/i3vbkrf72j8=",
          "dtype": "f8"
         },
         "xaxis": "x15",
         "y": {
          "bdata": "I/xtH0FtwD9kP4WtmF3AP6aCnDvwTcA/58WzyUc+wD8oCctXny7AP2pM4uX2HsA/q4/5c04PwD/ZpSEETP+/P1ssUCD7378/3rJ+PKrAvz9hOa1YWaG/P+S/23QIgr8/ZkYKkbdivz/pzDitZkO/P2xTZ8kVJL8/7tmV5cQEvz9xYMQBdOW+P/Tm8h0jxr4/dm0hOtKmvj/5809WgYe+P3x6fnIwaL4//gCtjt9Ivj+Bh9uqjim+PwQOCsc9Cr4/h5Q44+zqvT8JG2f/m8u9P4yhlRtLrL0/DijEN/qMvT+SrvJTqW29PxQ1IXBYTr0/l7tPjAcvvT8aQn6otg+9P5zIrMRl8Lw/H0/b4BTRvD+i1Qn9w7G8PyRcOBlzkrw/p+JmNSJzvD8qaZVR0VO8P6zvw22ANLw/L3byiS8VvD+y/CCm3vW7PzSDT8KN1rs/twl+3jy3uz86kKz665e7P70W2xabeLs/QJ0JM0pZuz/CIzhP+Tm7P0WqZmuoGrs/yDCVh1f7uj9Kt8OjBty6P8098r+1vLo/UMQg3GSduj/SSk/4E366P1XRfRTDXro/2FesMHI/uj9a3tpMISC6P91kCWnQALo/YOs3hX/huT/jcWahLsK5P2X4lL3dork/6H7D2YyDuT9qBfL1O2S5P+2LIBLrRLk/cBJPLpoluT/ymH1KSQa5P3YfrGb45rg/+KXagqfHuD96LAmfVqi4P/6yN7sFibg/gDlm17RpuD8DwJTzY0q4P4ZGww8TK7g/CM3xK8ILuD+LUyBIcey3Pw7aTmQgzbc/kGB9gM+ttz8T56ucfo63P5Zt2rgtb7c/GPQI1dxPtz+cejfxizC3Px4BZg07Ebc/oYeUKerxtj8jDsNFmdK2P6aU8WFIs7Y/KBsgfveTtj+soU6apnS2Py4ofbZVVbY/sK6r0gQ2tj80Ndrusxa2P7a7CAtj97U/OUI3JxLYtT+8yGVDwbi1Pz5PlF9wmbU/wdXCex96tT9EXPGXzlq1P8biH7R9O7U/SmlO0CwctT/M73zs2/y0P052qwiL3bQ/0vzZJDq+tD8=",
          "dtype": "f8"
         },
         "yaxis": "y15"
        },
        {
         "marker": {
          "color": "green",
          "line": {
           "color": "black",
           "width": 1
          },
          "opacity": 1,
          "size": 6
         },
         "mode": "markers",
         "name": "Mean swing duration (s) vs Mean step velocity Y at swing - lHindpaw (m/s)",
         "showlegend": false,
         "type": "scatter",
         "x": {
          "bdata": "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",
          "dtype": "f8"
         },
         "xaxis": "x16",
         "y": {
          "bdata": "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",
          "dtype": "f8"
         },
         "yaxis": "y16"
        },
        {
         "line": {
          "color": "red",
          "dash": "dash",
          "width": 2
         },
         "mode": "lines",
         "showlegend": false,
         "type": "scatter",
         "x": {
          "bdata": "kVr9tuqPkT9dIheHk5GTPyrqMFc8k5U/9rFKJ+WUlz/CeWT3jZaZP45Bfsc2mJs/WgmYl9+ZnT8n0bFniJufP3rM5ZuYzqA/YLDyA23PoT9GlP9rQdCiPyx4DNQV0aM/ElwZPOrRpD/4PyakvtKlP94jMwyT06Y/xAdAdGfUpz+q60zcO9WoP5DPWUQQ1qk/drNmrOTWqj9cl3MUuderP0J7gHyN2Kw/Kl+N5GHZrT8QQ5pMNtquP/Ymp7QK268/bgVaju9tsD9hd2DCWe6wP1TpZvbDbrE/R1ttKi7vsT86zXNemG+yPy0/epIC8LI/ILGAxmxwsz8TI4f61vCzPwaVjS5BcbQ/+QaUYqvxtD/seJqWFXK1P9/qoMp/8rU/0lyn/ulytj/Fzq0yVPO2P7hAtGa+c7c/q7K6mij0tz+eJMHOknS4P5KWxwL99Lg/hQjONmd1uT94etRq0fW5P2vs2p47dro/Xl7h0qX2uj9R0OcGEHe7P0RC7jp697s/N7T0buR3vD8qJvuiTvi8Px2YAde4eL0/EAoICyP5vT8DfA4/jXm+P/btFHP3+b4/6V8bp2F6vz/c0SHby/q/P+ghlAebPcA/4lqXIdB9wD/bk5o7Bb7AP9XMnVU6/sA/zgWhb28+wT/IPqSJpH7BP8F3p6PZvsE/u7CqvQ7/wT+06a3XQz/CP64isfF4f8I/p1u0C66/wj+hlLcl4//CP5rNuj8YQMM/lAa+WU2Awz+NP8FzgsDDP4d4xI23AMQ/gLHHp+xAxD966srBIYHEP3MjzttWwcQ/bVzR9YsBxT9mldQPwUHFP2DO1yn2gcU/WQfbQyvCxT9TQN5dYALGP0x54XeVQsY/RrLkkcqCxj9A6+er/8LGPzkk68U0A8c/M13u32lDxz8slvH5noPHPybP9BPUw8c/Hwj4LQkEyD8ZQftHPkTIPxJ6/mFzhMg/DLMBfKjEyD8F7ASW3QTJP/8kCLASRck/+F0LykeFyT/ylg7kfMXJP+vPEf6xBco/5QgVGOdFyj/fQRgyHIbKP9h6G0xRxso/0rMeZoYGyz8=",
          "dtype": "f8"
         },
         "xaxis": "x16",
         "y": {
          "bdata": "irWCLBOivz+Sgrch3Yu/P5lP7Bandb8/oRwhDHFfvz+o6VUBO0m/P7C2ivYEM78/t4O/684cvz+/UPTgmAa/P8YdKdZi8L4/zupdyyzavj/Vt5LA9sO+P9yEx7XArb4/5FH8qoqXvj/sHjGgVIG+P/PrZZUea74/+riaiuhUvj8Chs9/sj6+PwpTBHV8KL4/ESA5akYSvj8Y7W1fEPy9PyC6olTa5b0/J4fXSaTPvT8vVAw/brm9PzYhQTQ4o70/Pu51KQKNvT9Fu6oezHa9P02I3xOWYL0/VFUUCWBKvT9cIkn+KTS9P2PvffPzHb0/a7yy6L0HvT9yiefdh/G8P3pWHNNR27w/gSNRyBvFvD+J8IW95a68P5C9urKvmLw/mIrvp3mCvD+fVySdQ2y8P6ckWZINVrw/rvGNh9c/vD+2vsJ8oSm8P72L93FrE7w/xFgsZzX9uz/MJWFc/+a7P9TylVHJ0Ls/27/KRpO6uz/ijP87XaS7P+pZNDEnjrs/8iZpJvF3uz/5850bu2G7PwDB0hCFS7s/CI4HBk81uz8PWzz7GB+7PxcocfDiCLs/HvWl5azyuj8mwtradty6Py2PD9BAxro/NFxExQqwuj88KXm61Jm6P0T2ra+eg7o/S8PipGhtuj9SkBeaMle6P1pdTI/8QLo/YiqBhMYquj9p97V5kBS6P3DE6m5a/rk/eJEfZCTouT+AXlRZ7tG5P4criU64u7k/jvi9Q4KluT+WxfI4TI+5P56SJy4Webk/pV9cI+BiuT+sLJEYqky5P7T5xQ10Nrk/u8b6Aj4guT/Dky/4Bwq5P8pgZO3R87g/0i2Z4pvduD/Z+s3XZce4P+HHAs0vsbg/6JQ3wvmauD/wYWy3w4S4P/cuoayNbrg//vvVoVdYuD8GyQqXIUK4Pw6WP4zrK7g/FmN0gbUVuD8cMKl2f/+3PyT93WtJ6bc/LMoSYRPTtz8zl0dW3by3PzpkfEunprc/QjGxQHGQtz9K/uU1O3q3P1HLGisFZLc/WJhPIM9Ntz9gZYQVmTe3P2gyuQpjIbc/b//t/ywLtz8=",
          "dtype": "f8"
         },
         "yaxis": "y16"
        },
        {
         "marker": {
          "color": "green",
          "line": {
           "color": "black",
           "width": 1
          },
          "opacity": 1,
          "size": 6
         },
         "mode": "markers",
         "name": "Mean stance duration (s) vs Mean step velocity X at stance - lHindpaw (m/s)",
         "showlegend": false,
         "type": "scatter",
         "x": {
          "bdata": "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",
          "dtype": "f8"
         },
         "xaxis": "x17",
         "y": {
          "bdata": "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",
          "dtype": "f8"
         },
         "yaxis": "y17"
        },
        {
         "line": {
          "color": "red",
          "dash": "dash",
          "width": 2
         },
         "mode": "lines",
         "showlegend": false,
         "type": "scatter",
         "x": {
          "bdata": "p1ZqpZY/tb+X+M/+AeKyv4eaNVhthLC/7Xg2Y7FNrL/NvAEWiJKnv60Azche16K/GIkw92o4nL/YEMdcGMKSvzAxu4SLl4K/ANTvBWxGJT/Qr+rkvkGDPyjQ3gwyF5M/bEhIp4SNnD9W4Nig6wGjP3acDe4Uvac/llhCOz54rD9bijvEs5mwP2vo1WpI97I/e0ZwEd1UtT+LpAq4cbK3P5sCpV4GELo/q2A/BZttvD+7vtmrL8u+P2YOOililMA/bj2HfCzDwT92bNTP9vHCP36bISPBIMQ/hspudotPxT+O+bvJVX7GP5YoCR0grcc/nldWcOrbyD+mhqPDtArKP6618BZ/Ocs/tuQ9aklozD++E4u9E5fNP8ZC2BDexc4/znElZKj0zz9rULlbuZHQP+/nX4UeKdE/c38Gr4PA0T/3Fq3Y6FfSP3uuUwJO79I//0X6K7OG0z+D3aBVGB7UPwd1R399tdQ/iwzuqOJM1T8PpJTSR+TVP5M7O/yse9Y/GNPhJRIT1z+caohPd6rXPyACL3ncQdg/pJnVokHZ2D8oMXzMpnDZP6zIIvYLCNo/MGDJH3Gf2j+0929J1jbbPziPFnM7zts/vCa9nKBl3D9AvmPGBf3cP8RVCvBqlN0/SO2wGdAr3j/MhFdDNcPeP1Ac/myaWt8/1LOklv/x3z+spSVgskTgP27x+PRkkOA/MD3MiRfc4D/yiJ8eyifhP7TUcrN8c+E/diBGSC+/4T84bBnd4QriP/q37HGUVuI/vAPABkei4j9+T5Ob+e3iP0CbZjCsOeM/Auc5xV6F4z/EMg1aEdHjP4Z+4O7DHOQ/SMqzg3Zo5D8KFocYKbTkP8xhWq3b/+Q/jq0tQo5L5T9Q+QDXQJflPxJF1Gvz4uU/1JCnAKYu5j+W3HqVWHrmP1goTioLxuY/GnQhv70R5z/cv/RTcF3nP54LyOgiqec/YFebfdX05z8io24SiEDoP+TuQac6jOg/pjoVPO3X6D9ohujQnyPpPyrSu2VSb+k/7R2P+gS76T+vaWKPtwbqP3G1NSRqUuo/MwEJuRye6j8=",
          "dtype": "f8"
         },
         "xaxis": "x17",
         "y": {
          "bdata": "xmVrsnicvT+1xl4RvHa9P6MnUnD/UL0/kYhFz0IrvT+A6TguhgW9P25KLI3J37w/XKsf7Ay6vD9LDBNLUJS8PzltBqqTbrw/J875CNdIvD8VL+1nGiO8PwSQ4MZd/bs/8vDTJaHXuz/gUceE5LG7P8+yuuMnjLs/vROuQmtmuz+rdKGhrkC7P5rVlADyGrs/iDaIXzX1uj92l3u+eM+6P2T4bh28qbo/U1lifP+Duj9BulXbQl66Py8bSTqGOLo/Hnw8mckSuj8M3S/4DO25P/o9I1dQx7k/6J4WtpOhuT/X/wkV13u5P8Vg/XMaVrk/s8Hw0l0wuT+iIuQxoQq5P5CD15Dk5Lg/fuTK7ye/uD9sRb5Oa5m4P1umsa2uc7g/SQelDPJNuD84aJhrNSi4PybJi8p4Arg/FCp/Kbzctz8Ci3KI/7a3P/HrZedCkbc/30xZRoZrtz/NrUylyUW3P7wOQAQNILc/qm8zY1D6tj+Y0CbCk9S2P4YxGiHXrrY/dJINgBqJtj9j8wDfXWO2P1FU9D2hPbY/QLXnnOQXtj8uFtv7J/K1Pxx3zlprzLU/CtjBua6mtT/4OLUY8oC1P+eZqHc1W7U/1fqb1ng1tT/EW481vA+1P7K8gpT/6bQ/oB1280LEtD+OfmlShp60P33fXLHJeLQ/a0BQEA1TtD9aoUNvUC20P0gCN86TB7Q/NmMqLdfhsz8kxB2MGryzPxIlEetdlrM/AYYESqFwsz/v5veo5EqzP95H6wcoJbM/zKjeZmv/sj+6CdLFrtmyP6hqxSTys7I/lsu4gzWOsj+FLKzieGiyP3ONn0G8QrI/Yu6SoP8csj9QT4b/QvexPz6weV6G0bE/LBFtvcmrsT8acmAcDYaxPwnTU3tQYLE/+DNH2pM6sT/mlDo51xSxP9T1LZga77A/wlYh913JsD+wtxRWoaOwP58YCLXkfbA/jXn7EyhYsD982u5yazKwP2o74tGuDLA/sDirYeTNrz+N+pEfa4KvP2m8eN3xNq8/RX5fm3jrrj8iQEZZ/5+uP/4BLReGVK4/28MT1QwJrj8=",
          "dtype": "f8"
         },
         "yaxis": "y17"
        },
        {
         "marker": {
          "color": "green",
          "line": {
           "color": "black",
           "width": 1
          },
          "opacity": 1,
          "size": 6
         },
         "mode": "markers",
         "name": "Mean stance duration (s) vs Mean step velocity Y at stance - lHindpaw (m/s)",
         "showlegend": false,
         "type": "scatter",
         "x": {
          "bdata": "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",
          "dtype": "f8"
         },
         "xaxis": "x18",
         "y": {
          "bdata": "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",
          "dtype": "f8"
         },
         "yaxis": "y18"
        },
        {
         "line": {
          "color": "red",
          "dash": "dash",
          "width": 2
         },
         "mode": "lines",
         "showlegend": false,
         "type": "scatter",
         "x": {
          "bdata": "hZKOT0/zwL/AcgiJ+sbAv/pSgsKlmsC/NTP8+1BuwL9vE3Y1/EHAv6rz726nFcC/yKfTUKXSv78+aMfD+3m/v7MouzZSIb+/KOmuqajIvr+dqaIc/2++vxJqlo9VF76/hyqKAqy+vb/86n11Ama9v3GrcehYDb2/5mtlW6+0vL9bLFnOBVy8v9DsTEFcA7y/Rq1AtLKqu7+6bTQnCVK7vzAuKJpf+bq/pe4bDbagur8arw+ADEi6v49vA/Ni77m/BDD3ZbmWub958OrYDz65v+6w3ktm5bi/Y3HSvryMuL/YMcYxEzS4v07yuaRp27e/wrKtF8CCt784c6GKFiq3v6wzlf1s0ba/IvSIcMN4tr+WtHzjGSC2vwx1cFZwx7W/gTVkycZutb/29Vc8HRa1v2u2S69zvbS/4HY/IspktL9VNzOVIAy0v8r3Jgh3s7O/QLgae81as7+0eA7uIwKzvyo5AmF6qbK/nvn109BQsr8UuulGJ/ixv4l63bl9n7G//jrRLNRGsb9z+8SfKu6wv+i7uBKBlbC/XXyshdc8sL+keUDxW8ivv476J9cIF6+/eHsPvbVlrr9i/PaiYrStv0x93ogPA62/Nv7FbrxRrL8if61UaaCrvwwAlToW76q/9oB8IMM9qr/gAWQGcIypv8qCS+wc26i/tAMz0skpqL+ehBq4dninv4gFAp4jx6a/cobpg9AVpr9cB9FpfWSlv0aIuE8qs6S/MAmgNdcBpL8aiocbhFCjvwYLbwExn6K/8ItW593tob/aDD7Nijyhv8SNJbM3i6C/XB0aMsmzn78wH+n9IlGevwQhuMl87py/2CKHldaLm7+sJFZhMCmav4AmJS2Kxpi/VCj0+ONjl78oKsPEPQGWv/wrkpCXnpS/1C1hXPE7k7+oLzAoS9mRv3wx//OkdpC/oGacf/0njr9IajoXsWKLv/Bt2K5knYi/mHF2RhjYhb9AdRTeyxKDv+h4snV/TYC/IPmgGmYQe7+AAN1JzYV1v4APMvJo9m+/QB6qUDfhZL+AWUReC5hTvwBIXCa/kiQ/ImzbJ7u8WD8=",
          "dtype": "f8"
         },
         "xaxis": "x18",
         "y": {
          "bdata": "9I3WmCvprD/41vYzN0utP/4fF89Cra0/Amk3ak4Prj8IslcFWnGuPwz7d6Bl064/EkSYO3E1rz8WjbjWfJevPxrW2HGI+a8/kI98BsotsD8StAzUz16wP5XYnKHVj7A/F/0sb9vAsD+aIb084fGwPxxGTQrnIrE/n2rd1+xTsT8ij22l8oSxP6Sz/XL4tbE/JtiNQP7msT+p/B0OBBiyPyohrtsJSbI/rUU+qQ96sj8was52FauyP7KOXkQb3LI/NbPuESENsz+4137fJj6zPzr8Dq0sb7M/vCCfejKgsz8/RS9IONGzP8BpvxU+ArQ/RI5P40MztD/Gst+wSWS0P0nXb35PlbQ/y/v/S1XGtD9OIJAZW/e0P9BEIOdgKLU/UmmwtGZZtT/VjUCCbIq1P1iy0E9yu7U/2tZgHXjstT9c+/DqfR22P98fgbiDTrY/YEQRhol/tj/kaKFTj7C2P2aNMSGV4bY/6bHB7poStz9r1lG8oEO3P+764YmmdLc/cB9yV6yltz/yQwIlsta3P3VokvK3B7g/+IwiwL04uD96sbKNw2m4P/zVQlvJmrg/f/rSKM/LuD8CH2P21Py4P4RD88PaLbk/BmiDkeBeuT+IjBNf5o+5PwuxoyzswLk/jdUz+vHxuT8Q+sPH9yK6P5IeVJX9U7o/FUPkYgOFuj+XZ3QwCba6PxqMBP4O57o/nLCUyxQYuz8f1SSZGkm7P6H5tGYgers/JB5FNCaruz+mQtUBLNy7PyhnZc8xDbw/q4v1nDc+vD8tsIVqPW+8P7DUFThDoLw/MvmlBUnRvD+1HTbTTgK9PzdCxqBUM70/umZWblpkvT88i+Y7YJW9P7+vdglmxr0/QdQG12v3vT/E+JakcSi+P0YdJ3J3Wb4/yEG3P32Kvj9LZkcNg7u+P82K19qI7L4/UK9nqI4dvz/S0/d1lE6/P1X4h0Oaf78/1xwYEaCwvz9aQajepeG/P+4yHNZVCcA/L0XkvNghwD9wV6yjWzrAP7JpdIreUsA/83s8cWFrwD80jgRY5IPAP3WgzD5nnMA/t7KUJeq0wD8=",
          "dtype": "f8"
         },
         "yaxis": "y18"
        },
        {
         "marker": {
          "color": "green",
          "line": {
           "color": "black",
           "width": 1
          },
          "opacity": 1,
          "size": 6
         },
         "mode": "markers",
         "name": "Mean stance duration (s) vs Mean step velocity X at swing - lHindpaw (m/s)",
         "showlegend": false,
         "type": "scatter",
         "x": {
          "bdata": "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",
          "dtype": "f8"
         },
         "xaxis": "x19",
         "y": {
          "bdata": "2mgbyl00vz9MHtTMmTTAP3tgo3dF5rs/g5Ydz6mkwD91ReZLE4fBPySTbF77RbA/uvy1xjtvtz/BiL0uR/KvP8vyCawaIb4/ZdwGMFAxuT+81njn7Rq2P04f2/3wlsA/7Ye3BCHnsT8QisZtAAO1P+3fhQ/TK7k/XtUIcUo8uT9I1aE5YG7BP0YDF6Fn1bU/EpYauhafuT9uFZYauha/P82gZcdzKrk/pJICEn5ywT86CKDG1De9P82DZ6E2S7s/li9NHMZquz8Z2OhdkfmyPzBxGKutv70/+7vwYXolwz+UOIzV1t++P4nAQ9r3xsA/2frbAxu9uz+8P2w9j2W7P9E9Fwmm8Lo/BOjIuywQtT8nrVXxMv68P6rgJAIPaa8/g5XNDDUqtT+81njn7Rq2PxtLdJR1nbQ/0P+QGwrZsz+nCKPbZz20P/AAbWEQ2bU/L2O2/OheuD9NCxyRxCy2Pw3WQCycq7c/UmXFZch6uz+7GK27IezEP0kPa+19cbo/DLl1nruHvD+SJAABBzG3P1ht/e2Bjb4/K0oHM2XEvj//+dXZ9LG9PwjTXjHzP7k/Mm8KSf/6vD8JXYvPrLmzP9/mHJfuUsE/Zb87om8Nvj/srfTjbjvDP9PGbw5lw7c/KoXXF9opuD9gCq8vtFPAP9Gy4zmVFMA/zncTVSCvxj8CCT+5EHXDPx6yq35DpcE/+ellyYGMtz+LHQJCATy3P1bOCrJER7k/BScReEj7vj+LGwrZE9S+P9QdBFBj6rs/ZdwGMFAxuT8AD2nfG8O1Pw2bcEcnRr4/y2u/CAoTwj//AAcxV2LAPwYqJgtOIsA/unFPX87XuT91V2S+NHG4PzvFZMFJBL4/QGFCaoEjwj+RYAqvL7TDP4CAg5grMbg/7o3hKiw1xD9uUGb/Lny4Py6xPh0zzMs/z8qL0sFMuT8ksGqEOCW+P8kot5vbmsU/PJgpI/a6rD/nWnxmzZ3AP/SlicNYbb0/yIi9Lkfyvz96cBOIuAuyP2sGLTueU8E/dH2hnYLFuT8b5XZzW7O6PzV6V2S+NME/qKSAhJ9cwD/zGyqNQjiwP8Fq628PbLQ/yzxDcKtJvT+gxtQ37eK6P1EOMSTKU7c/pptBy47ntD+lkfvgJhDBP+iMDZIxjrY/MAI0tYbTsT/uq7PpY7u/P8/Ki9LBTLk/bgMYqJgswD+dUDRuAxjAP90MWnY8p7I/fhtaEAzuuz9fnU0f2/3APygatwEMVLw/vkkEHtK+tz9k1twJReO2P/v98Z1RO78/AUj4yYWoqz+Iz6y5E4q2P/Y8Ed9/5bw/rimKLaXqwD9zPKeSAhK+P6TQ54n4/rs/bR7V08qLsj+FrsVn1ty5P+1bUP/HRL4/+qZdXFMUuz+9NHEYq62vPy2YKSP2uqw/EuIP6noKsT8qJgtOIvCwP+IXS36x5Lc/fXtgo3dFtj+NevNBZ2ywP9CdUDRuA7g/nXEbwEDFtD9YfGbNnVC0P7DMmC0/uqc/MtxrWdhQvD+Q86ieVl60P+HcoxQqwLo/pptBy47ntD+lq7HbAQ27P6GKyonEX74/s+1/f3xntD8QT/aIi527P6/xm0PZ8LU/bR7V08qLsj9Ybf3tgY2+P/eMdMkbXL4/cRq5D24CwT/V98ZwFZa6P16/O6JvDb4/xA8I0lcAvD+4BSgYqZ+9P4nW3RB2Ork/PnnqAq5buz8yZ9LARei5P3ZPLDZ7XrU/EIrGbQADtT+z9bcHNnq3P51F51JE3sM/B241qdP8vD8fXfIGl4e7P0rpLQ4wHbk/1mQoge7ruT/hb0IEUWq7Py9VVE4k/sI/RYhT4skewT/5zJo7oWi8P4ugMCG1wME/djJhqJo6qj+SLDiJwEO6P2XKiL0uR8I/Gvj7FtT/wT8AD2nfG8O1PzmUDV+ZMbs/p9UKf6zqvT9YeEoJQcfCP+UTWDVCnLI/MozV1t8euD9SQMJPLkS9P2fMlh/dC7M/ddRod92nwD9Yish7YrG5P0jyn1+dTb8/rmdvpR93uz8=",
          "dtype": "f8"
         },
         "yaxis": "y19"
        },
        {
         "line": {
          "color": "red",
          "dash": "dash",
          "width": 2
         },
         "mode": "lines",
         "showlegend": false,
         "type": "scatter",
         "x": {
          "bdata": "eC79gFcNpT+M0N12GgWnP6Fyvmzd/Kg/tRSfYqD0qj/Ktn9YY+ysP95YYE4m5K4/eX0govRtsD+DzhAd1mmxP44fAZi3ZbI/mHDxEplhsz+iweGNel20P6wS0ghcWbU/tmPCgz1Vtj/AtLL+HlG3P8oFo3kATbg/1VaT9OFIuT/fp4Nvw0S6P+n4c+qkQLs/80lkZYY8vD/+mlTgZzi9PwjsRFtJNL4/Ej011iowvz8Ox5IoBhbAP5PvCub2k8A/GBiDo+cRwT+eQPtg2I/BPyJpcx7JDcI/qJHr27mLwj8sumOZqgnDP7Li21abh8M/NwtUFIwFxD+8M8zRfIPEP0FcRI9tAcU/xoS8TF5/xT9LrTQKT/3FP9DVrMc/e8Y/Vf4khTD5xj/aJp1CIXfHP2BPFQAS9cc/5XeNvQJzyD9qoAV78/DIP+/IfTjkbsk/dPH19dTsyT/5GW6zxWrKP35C5nC26Mo/A2teLqdmyz+Ik9brl+TLPw28TqmIYsw/kuTGZnngzD8YDT8kal7NP501t+Fa3M0/Il4vn0tazj+nhqdcPNjOPyyvHxotVs8/sdeX1x3Uzz8bAIhKBynQP14URKn/Z9A/oCgACPim0D/iPLxm8OXQPyZReMXoJNE/aGU0JOFj0T+qefCC2aLRP+2NrOHR4dE/MKJoQMog0j9ytiSfwl/SP7TK4P26ntI/996cXLPd0j8681i7qxzTP3wHFRqkW9M/vxvReJya0z8BMI3XlNnTP0RESTaNGNQ/hlgFlYVX1D/JbMHzfZbUPwuBfVJ21dQ/TpU5sW4U1T+RqfUPZ1PVP9O9sW5fktU/FtJtzVfR1T9Y5iksUBDWP5v65YpIT9Y/3Q6i6UCO1j8gI15IOc3WP2I3GqcxDNc/pUvWBSpL1z/nX5JkIorXPyp0TsMaydc/bYgKIhMI2D+vnMaAC0fYP/Kwgt8Dhtg/NMU+PvzE2D932fqc9APZP7nttvvsQtk//AFzWuWB2T8+Fi+53cDZP4Eq6xfW/9k/wz6nds4+2j8GU2PVxn3aP0lnHzS/vNo/i3vbkrf72j8=",
          "dtype": "f8"
         },
         "xaxis": "x19",
         "y": {
          "bdata": "aTFvbpI/vz+73cYBUSG/Pw2KHpUPA78/XjZ2KM7kvj+w4s27jMa+PwKPJU9LqL4/Uzt94gmKvj+l59R1yGu+P/aTLAmHTb4/SECEnEUvvj+a7NsvBBG+P+yYM8PC8r0/PUWLVoHUvT+P8eLpP7a9P+GdOn3+l70/MkqSEL15vT+E9umje1u9P9aiQTc6Pb0/J0+ZyvgevT95+/BdtwC9P8unSPF14rw/HFSghDTEvD9uAPgX86W8P8CsT6uxh7w/ElmnPnBpvD9jBf/RLku8P7WxVmXtLLw/Bl6u+KsOvD9YCgaMavC7P6q2XR8p0rs//GK1suezuz9NDw1GppW7P5+7ZNlkd7s/8Ge8bCNZuz9CFBQA4jq7P5TAa5OgHLs/5mzDJl/+uj83GRu6HeC6P4nFck3cwbo/2nHK4Jqjuj8sHiJ0WYW6P37KeQcYZ7o/0HbRmtZIuj8hIykulSq6P3PPgMFTDLo/xXvYVBLuuT8WKDDo0M+5P2jUh3uPsbk/uoDfDk6TuT8LLTeiDHW5P13ZjjXLVrk/roXmyIk4uT8AMj5cSBq5P1Lele8G/Lg/pIrtgsXduD/2NkUWhL+4P0fjnKlCobg/mY/0PAGDuD/qO0zQv2S4Pzzoo2N+Rrg/jpT79jwouD/gQFOK+wm4PzHtqh2667c/gpkCsXjNtz/URVpEN6+3Pybysdf1kLc/eJ4Ja7Rytz/KSmH+clS3Pxv3uJExNrc/bKMQJfAXtz++T2i4rvm2PxD8v0tt27Y/YqgX3yu9tj+0VG9y6p62PwYBxwWpgLY/V60emWditj+oWXYsJkS2P/oFzr/kJbY/TLIlU6MHtj+eXn3mYem1P+8K1Xkgy7U/QbcsDd+stT+SY4SgnY61P+QP3DNccLU/NrwzxxpStT+IaIta2TO1P9oU4+2XFbU/K8E6gVb3tD98bZIUFdm0P84Z6qfTurQ/IMZBO5KctD9ycpnOUH60P8Qe8WEPYLQ/FctI9c1BtD9nd6CIjCO0P7gj+BtLBbQ/CtBPrwnnsz9cfKdCyMizP60o/9WGqrM//9RWaUWMsz8=",
          "dtype": "f8"
         },
         "yaxis": "y19"
        },
        {
         "marker": {
          "color": "green",
          "line": {
           "color": "black",
           "width": 1
          },
          "opacity": 1,
          "size": 6
         },
         "mode": "markers",
         "name": "Mean stance duration (s) vs Mean step velocity Y at swing - lHindpaw (m/s)",
         "showlegend": false,
         "type": "scatter",
         "x": {
          "bdata": "cLBgIj1Utj9lM9hW9Kq8PyhGtQxqU78/DycKPLoOwj+VqzRfsQS2P/v5dhNoY8c/nsB2UzMIwD+pdwpqhtm+P7qz3SCIi8U/gadXynIcxD9elYnMaxTCPy/bRj8w3r8/0rMeZoYGyz/HZ0K5A5rBP5PARnZbAcA//Ho+zGZDwj8oCnpEaPHBP31/7QAL18M/NiOkf9R9wD9IoooQr2+6PwDjOXWXKME/rB2e1+oluj+FlbwE5x7BPwZQ1JIvPbU/7+lri8O0vD+gAFx4PFC7PwFHw+wy878/yRJoYL5Fvj845D1dopXBP2u+G+8kE70/ZlJo5fuxvD8Gv7SO+FW8P45gxxW/g7s/uuAuOJ48wD8PL4Z7fHi3P/0dUD+PO8k/hSGyu/QBwT8UmPFWGd3CPyAbd5KXjbs/UYKLHs8ewj/7DVYfpYXDP7nk+zAIMMY/WZlR1VD8vj/VonscWLm7P6zTcaZoVbY/xTvmv41YrD+32JhkbcqnP+vw1p4DSKM/gOSTLkrfpz9jQkzmhj60P2eZIrKqFqo/UTluh2fYpD/GyEUYQMeiP4DRYwKAWKY/6yBd7T3Gpj/a4IrC1uunP/H4Us+PUaA/yjmnhNt1oT+5WTEDsBqiP2q5shPwvbM/Xb1qffIFtD848ChqnMKpPxisy3VfPK8/7MAzbdsApD9x0CPCDZihP3r55cEuH54/tZ8Ap6Z8qT9ind5O4pqwP58e9g188q4/hawd9klOqD/2AT5lP5utP62GM9rooaI/RMUa3NecrT+arVePY0axP3w81SpRea4/lqF8MG40qT+d25Phic6sP8m0HJjOCak/9zD4DMogrD+RWv226o+RPyjGyPKSkaQ/NjJaLIeZpj+jtreHfVShP01A3ofu3ag/vDmxXmlcnj+khHzQMwKtP8hJ80LchqU/+vKKPqtepj8q6uJjnP6nP5nHC6xod5Y/6pE6Ls/ArD+KtZ/cxHCqP8IFDRgiV6c/ptoU7jRmpD8l90KZFzuzP9OncUMzkrk/AdBBfVmQvD8ExDE2WcK3P3ATxzMykrg/bME14W6ctD+CsBx5oZnCP3yl0j6T6cI/HttvnfHftz8NuULJI2O2PxzPK08+h7w/vkz/J9MxwD9eBpBcOGy5P7wHg9wkD78/KEiXInFjwT/L8F+3dMiwP1t4pMx1XMA/2FisSuYOvz9+lzAoAHW3P+iWtTp2RMk/mdlipIR4wD/DveZCOh2zPyhUVyO9iLU/jfa6Zyq8vz/YtLpLd6jBP/Znw3qw9Lk/OJfjdigctD/52FIjJtS3P2ajPEuRXbk/GXf66H/qvz8ifrk7+CTDP8ERoMFs2r0/kxGUVY/hwj+Ni5ojlmy/P5r3hWHjerc/8MxqccNTwT9o7zNJZgjDP1JjNVZzTcQ/7Nwz6OOoyT+Ga+FyXf+8P0WWMGd+8bk/UukuiFgUwD+2XLtdArrGPwQUTdOfhrU/Y65WqIdUvD+z3ca/vI++P6XmaZ7mnbU/4tctNIoloz9GoaP8vzyzP81cw6Vgdq4/+DjMzTOztT9iWuX82w6nPwGPJSl8a6o/KEkApaN5sj9mwSSIGraoP/TOPxhs8K4/kHAm7C2ZrD/yOel0SYSkP8KWTG+QXaM/UWNZuKfooj8CIr1rVTmkP9e88uqHc68/VD9kgSB/sD9rHcqQe4OvP/xRAZCU/rM/X2XI7n0ElT9niqk1EcKoP/xGqWR0XLE/oKiemJFPtj+Shri/hGKqP2CXEbNKHKI/eMsfjs/7pD/9N2qfICupP3cd6RSPtag/oXGML4puqT/1T3j8Po+qP4uPtzQH1KE/2PVunZ6Yrj97yqIsSlyrPzCIx1kX/KE/a1XMPAT8sj+qz5G2AiKlP4DZ4qvvsaE/afeeIBJVoz8cq2vZmzmoP8qylLF/Zq4/fpTf2V/Upj+kADc+oi6jP1NL8I0geaI/EiqGevPrrT/bTi+c0GWtP7Uf//GfRq4/sGit+Kx3pD8mNQ6fLEirP9hy/5hV96g/eW8G6uAJqz8=",
          "dtype": "f8"
         },
         "xaxis": "x20",
         "y": {
          "bdata": "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",
          "dtype": "f8"
         },
         "yaxis": "y20"
        },
        {
         "line": {
          "color": "red",
          "dash": "dash",
          "width": 2
         },
         "mode": "lines",
         "showlegend": false,
         "type": "scatter",
         "x": {
          "bdata": "kVr9tuqPkT9dIheHk5GTPyrqMFc8k5U/9rFKJ+WUlz/CeWT3jZaZP45Bfsc2mJs/WgmYl9+ZnT8n0bFniJufP3rM5ZuYzqA/YLDyA23PoT9GlP9rQdCiPyx4DNQV0aM/ElwZPOrRpD/4PyakvtKlP94jMwyT06Y/xAdAdGfUpz+q60zcO9WoP5DPWUQQ1qk/drNmrOTWqj9cl3MUuderP0J7gHyN2Kw/Kl+N5GHZrT8QQ5pMNtquP/Ymp7QK268/bgVaju9tsD9hd2DCWe6wP1TpZvbDbrE/R1ttKi7vsT86zXNemG+yPy0/epIC8LI/ILGAxmxwsz8TI4f61vCzPwaVjS5BcbQ/+QaUYqvxtD/seJqWFXK1P9/qoMp/8rU/0lyn/ulytj/Fzq0yVPO2P7hAtGa+c7c/q7K6mij0tz+eJMHOknS4P5KWxwL99Lg/hQjONmd1uT94etRq0fW5P2vs2p47dro/Xl7h0qX2uj9R0OcGEHe7P0RC7jp697s/N7T0buR3vD8qJvuiTvi8Px2YAde4eL0/EAoICyP5vT8DfA4/jXm+P/btFHP3+b4/6V8bp2F6vz/c0SHby/q/P+ghlAebPcA/4lqXIdB9wD/bk5o7Bb7AP9XMnVU6/sA/zgWhb28+wT/IPqSJpH7BP8F3p6PZvsE/u7CqvQ7/wT+06a3XQz/CP64isfF4f8I/p1u0C66/wj+hlLcl4//CP5rNuj8YQMM/lAa+WU2Awz+NP8FzgsDDP4d4xI23AMQ/gLHHp+xAxD966srBIYHEP3MjzttWwcQ/bVzR9YsBxT9mldQPwUHFP2DO1yn2gcU/WQfbQyvCxT9TQN5dYALGP0x54XeVQsY/RrLkkcqCxj9A6+er/8LGPzkk68U0A8c/M13u32lDxz8slvH5noPHPybP9BPUw8c/Hwj4LQkEyD8ZQftHPkTIPxJ6/mFzhMg/DLMBfKjEyD8F7ASW3QTJP/8kCLASRck/+F0LykeFyT/ylg7kfMXJP+vPEf6xBco/5QgVGOdFyj/fQRgyHIbKP9h6G0xRxso/0rMeZoYGyz8=",
          "dtype": "f8"
         },
         "xaxis": "x20",
         "y": {
          "bdata": "CJfZiFvmvz+q+kDwUsO/P0xeqFdKoL8/78EPv0F9vz+RJXcmOVq/PzOJ3o0wN78/1uxF9ScUvz94UK1cH/G+Pxq0FMQWzr4/vBd8Kw6rvj9fe+OSBYi+PwHfSvr8ZL4/o0KyYfRBvj9GphnJ6x6+P+gJgTDj+70/im3ol9rYvT8t0U//0bW9P880t2bJkr0/cZgezsBvvT8U/IU1uEy9P7Zf7ZyvKb0/WMNUBKcGvT/6JrxrnuO8P52KI9OVwLw/P+6KOo2dvD/hUfKhhHq8P4S1WQl8V7w/JhnBcHM0vD/IfCjYahG8P2vgjz9i7rs/DUT3plnLuz+vp14OUai7P1ILxnVIhbs/9G4t3T9iuz+W0pRENz+7Pzk2/KsuHLs/25ljEyb5uj99/cp6Hda6PyBhMuIUs7o/wsSZSQyQuj9kKAGxA226PwaMaBj7Sbo/qe/Pf/Imuj9LUzfn6QO6P+22nk7h4Lk/kBoGtti9uT8yfm0d0Jq5P9Th1ITHd7k/d0U87L5UuT8ZqaNTtjG5P7wMC7utDrk/XnByIqXruD8A1NmJnMi4P6I3QfGTpbg/RJuoWIuCuD/n/g/Agl+4P4lidyd6PLg/K8bejnEZuD/OKUb2aPa3P3CNrV1g07c/EvEUxVewtz+0VHwsT423P1e445NGarc/+RtL+z1Htz+cf7JiNSS3Pz7jGcosAbc/4EaBMSTetj+CquiYG7u2PyUOUAATmLY/x3G3Zwp1tj9q1R7PAVK2Pww5hjb5LrY/rpztnfALtj9QAFUF6Oi1P/NjvGzfxbU/lccj1NaitT84K4s7zn+1P9qO8qLFXLU/fPJZCr05tT8eVsFxtBa1P8G5KNmr87Q/Yx2QQKPQtD8Fgfenmq20P6jkXg+SirQ/SkjGdolntD/sqy3egES0P44PlUV4IbQ/MXP8rG/+sz/T1mMUZ9uzP3Y6y3teuLM/GJ4y41WVsz+6AZpKTXKzP1xlAbJET7M//8hoGTwssz+hLNCAMwmzP0SQN+gq5rI/5vOeTyLDsj+IVwa3GaCyPyq7bR4RfbI/zB7VhQhasj8=",
          "dtype": "f8"
         },
         "yaxis": "y20"
        },
        {
         "marker": {
          "color": "green",
          "line": {
           "color": "black",
           "width": 1
          },
          "opacity": 1,
          "size": 6
         },
         "mode": "markers",
         "name": "Mean step frequency (Hz) vs Mean step velocity X at stance - lHindpaw (m/s)",
         "showlegend": false,
         "type": "scatter",
         "x": {
          "bdata": "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",
          "dtype": "f8"
         },
         "xaxis": "x21",
         "y": {
          "bdata": "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",
          "dtype": "f8"
         },
         "yaxis": "y21"
        },
        {
         "line": {
          "color": "red",
          "dash": "dash",
          "width": 2
         },
         "mode": "lines",
         "showlegend": false,
         "type": "scatter",
         "x": {
          "bdata": "p1ZqpZY/tb+X+M/+AeKyv4eaNVhthLC/7Xg2Y7FNrL/NvAEWiJKnv60Azche16K/GIkw92o4nL/YEMdcGMKSvzAxu4SLl4K/ANTvBWxGJT/Qr+rkvkGDPyjQ3gwyF5M/bEhIp4SNnD9W4Nig6wGjP3acDe4Uvac/llhCOz54rD9bijvEs5mwP2vo1WpI97I/e0ZwEd1UtT+LpAq4cbK3P5sCpV4GELo/q2A/BZttvD+7vtmrL8u+P2YOOililMA/bj2HfCzDwT92bNTP9vHCP36bISPBIMQ/hspudotPxT+O+bvJVX7GP5YoCR0grcc/nldWcOrbyD+mhqPDtArKP6618BZ/Ocs/tuQ9aklozD++E4u9E5fNP8ZC2BDexc4/znElZKj0zz9rULlbuZHQP+/nX4UeKdE/c38Gr4PA0T/3Fq3Y6FfSP3uuUwJO79I//0X6K7OG0z+D3aBVGB7UPwd1R399tdQ/iwzuqOJM1T8PpJTSR+TVP5M7O/yse9Y/GNPhJRIT1z+caohPd6rXPyACL3ncQdg/pJnVokHZ2D8oMXzMpnDZP6zIIvYLCNo/MGDJH3Gf2j+0929J1jbbPziPFnM7zts/vCa9nKBl3D9AvmPGBf3cP8RVCvBqlN0/SO2wGdAr3j/MhFdDNcPeP1Ac/myaWt8/1LOklv/x3z+spSVgskTgP27x+PRkkOA/MD3MiRfc4D/yiJ8eyifhP7TUcrN8c+E/diBGSC+/4T84bBnd4QriP/q37HGUVuI/vAPABkei4j9+T5Ob+e3iP0CbZjCsOeM/Auc5xV6F4z/EMg1aEdHjP4Z+4O7DHOQ/SMqzg3Zo5D8KFocYKbTkP8xhWq3b/+Q/jq0tQo5L5T9Q+QDXQJflPxJF1Gvz4uU/1JCnAKYu5j+W3HqVWHrmP1goTioLxuY/GnQhv70R5z/cv/RTcF3nP54LyOgiqec/YFebfdX05z8io24SiEDoP+TuQac6jOg/pjoVPO3X6D9ohujQnyPpPyrSu2VSb+k/7R2P+gS76T+vaWKPtwbqP3G1NSRqUuo/MwEJuRye6j8=",
          "dtype": "f8"
         },
         "xaxis": "x21",
         "y": {
          "bdata": "0pXWnspAEkA4RQsql1gSQJ/0P7VjcBJABqR0QDCIEkBsU6nL/J8SQNMC3lbJtxJAOrIS4pXPEkCgYUdtYucSQAcRfPgu/xJAbsCwg/sWE0DUb+UOyC4TQDsfGpqURhNAos5OJWFeE0AIfoOwLXYTQG8tuDv6jRNA1tzsxsalE0A8jCFSk70TQKM7Vt1f1RNACuuKaCztE0Bwmr/z+AQUQNdJ9H7FHBRAPvkoCpI0FECkqF2VXkwUQAtYkiArZBRAcgfHq/d7FEDZtvs2xJMUQD9mMMKQqxRAphVlTV3DFEANxZnYKdsUQHN0zmP28hRA2iMD78IKFUBB0zd6jyIVQKeCbAVcOhVADjKhkChSFUB14dUb9WkVQNuQCqfBgRVAQkA/Mo6ZFUCp73O9WrEVQA+fqEgnyRVAdk7d0/PgFUDd/RFfwPgVQEOtRuqMEBZAqlx7dVkoFkARDLAAJkAWQHe75IvyVxZA3moZF79vFkBFGk6ii4cWQKvJgi1YnxZAEnm3uCS3FkB5KOxD8c4WQODXIM+95hZARodVWor+FkCtNorlVhYXQBTmvnAjLhdAepXz++9FF0DhRCiHvF0XQEj0XBKJdRdArqORnVWNF0AVU8YoIqUXQHwC+7PuvBdA4rEvP7vUF0BJYWTKh+wXQLAQmVVUBBhAFsDN4CAcGEB9bwJs7TMYQOQeN/e5SxhASs5rgoZjGECxfaANU3sYQBgt1ZgfkxhAftwJJOyqGEDliz6vuMIYQEw7czqF2hhAsuqnxVHyGEAZmtxQHgoZQIBJEdzqIRlA5vhFZ7c5GUBNqHryg1EZQLRXr31QaRlAGgfkCB2BGUCBthiU6ZgZQOhlTR+2sBlAThWCqoLIGUC1xLY1T+AZQBx068Ab+BlAgiMgTOgPGkDp0lTXtCcaQFCCiWKBPxpAtzG+7U1XGkAd4fJ4Gm8aQISQJwTnhhpA6z9cj7OeGkBR75AagLYaQLiexaVMzhpAH076MBnmGkCG/S685f0aQOysY0eyFRtAU1yY0n4tG0C6C81dS0UbQCC7AekXXRtAh2o2dOR0G0A=",
          "dtype": "f8"
         },
         "yaxis": "y21"
        },
        {
         "marker": {
          "color": "green",
          "line": {
           "color": "black",
           "width": 1
          },
          "opacity": 1,
          "size": 6
         },
         "mode": "markers",
         "name": "Mean step frequency (Hz) vs Mean step velocity Y at stance - lHindpaw (m/s)",
         "showlegend": false,
         "type": "scatter",
         "x": {
          "bdata": "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",
          "dtype": "f8"
         },
         "xaxis": "x22",
         "y": {
          "bdata": "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",
          "dtype": "f8"
         },
         "yaxis": "y22"
        },
        {
         "line": {
          "color": "red",
          "dash": "dash",
          "width": 2
         },
         "mode": "lines",
         "showlegend": false,
         "type": "scatter",
         "x": {
          "bdata": "hZKOT0/zwL/AcgiJ+sbAv/pSgsKlmsC/NTP8+1BuwL9vE3Y1/EHAv6rz726nFcC/yKfTUKXSv78+aMfD+3m/v7MouzZSIb+/KOmuqajIvr+dqaIc/2++vxJqlo9VF76/hyqKAqy+vb/86n11Ama9v3GrcehYDb2/5mtlW6+0vL9bLFnOBVy8v9DsTEFcA7y/Rq1AtLKqu7+6bTQnCVK7vzAuKJpf+bq/pe4bDbagur8arw+ADEi6v49vA/Ni77m/BDD3ZbmWub958OrYDz65v+6w3ktm5bi/Y3HSvryMuL/YMcYxEzS4v07yuaRp27e/wrKtF8CCt784c6GKFiq3v6wzlf1s0ba/IvSIcMN4tr+WtHzjGSC2vwx1cFZwx7W/gTVkycZutb/29Vc8HRa1v2u2S69zvbS/4HY/IspktL9VNzOVIAy0v8r3Jgh3s7O/QLgae81as7+0eA7uIwKzvyo5AmF6qbK/nvn109BQsr8UuulGJ/ixv4l63bl9n7G//jrRLNRGsb9z+8SfKu6wv+i7uBKBlbC/XXyshdc8sL+keUDxW8ivv476J9cIF6+/eHsPvbVlrr9i/PaiYrStv0x93ogPA62/Nv7FbrxRrL8if61UaaCrvwwAlToW76q/9oB8IMM9qr/gAWQGcIypv8qCS+wc26i/tAMz0skpqL+ehBq4dninv4gFAp4jx6a/cobpg9AVpr9cB9FpfWSlv0aIuE8qs6S/MAmgNdcBpL8aiocbhFCjvwYLbwExn6K/8ItW593tob/aDD7Nijyhv8SNJbM3i6C/XB0aMsmzn78wH+n9IlGevwQhuMl87py/2CKHldaLm7+sJFZhMCmav4AmJS2Kxpi/VCj0+ONjl78oKsPEPQGWv/wrkpCXnpS/1C1hXPE7k7+oLzAoS9mRv3wx//OkdpC/oGacf/0njr9IajoXsWKLv/Bt2K5knYi/mHF2RhjYhb9AdRTeyxKDv+h4snV/TYC/IPmgGmYQe7+AAN1JzYV1v4APMvJo9m+/QB6qUDfhZL+AWUReC5hTvwBIXCa/kiQ/ImzbJ7u8WD8=",
          "dtype": "f8"
         },
         "xaxis": "x22",
         "y": {
          "bdata": "i9doRiGTHECAMFNYRXEcQHSJPWppTxxAaeInfI0tHEBdOxKOsQscQFKU/J/V6RtARu3msfnHG0A8RtHDHaYbQDCfu9VBhBtAJPil52ViG0AZUZD5iUAbQA6qeguuHhtAAgNlHdL8GkD3W08v9toaQOy0OUEauRpA4A0kUz6XGkDUZg5lYnUaQMm/+HaGUxpAvhjjiKoxGkCycc2azg8aQKfKt6zy7RlAnCOivhbMGUCQfIzQOqoZQIXVduJeiBlAei5h9IJmGUBuh0sGp0QZQGLgNRjLIhlAVzkgKu8AGUBMkgo8E98YQEDr9E03vRhANUTfX1ubGEAqnclxf3kYQB72s4OjVxhAE0+elcc1GEAHqIin6xMYQPwAc7kP8hdA8VldyzPQF0DmskfdV64XQNoLMu97jBdAzmQcAaBqF0DDvQYTxEgXQLgW8SToJhdArG/bNgwFF0ChyMVIMOMWQJYhsFpUwRZAinqabHifFkB/04R+nH0WQHQsb5DAWxZAaIVZouQ5FkBd3kO0CBgWQFE3LsYs9hVARpAY2FDUFUA66QLqdLIVQC9C7fuYkBVAJJvXDb1uFUAY9MEf4UwVQA1NrDEFKxVAAaaWQykJFUD2/oBVTecUQOtXa2dxxRRA37BVeZWjFEDUCUCLuYEUQMhiKp3dXxRAvbsUrwE+FECyFP/AJRwUQKZt6dJJ+hNAm8bT5G3YE0CPH772kbYTQIR4qAi2lBNAeNGSGtpyE0BtKn0s/lATQGKDZz4iLxNAV9xRUEYNE0BLNTxiausSQECOJnSOyRJANOcQhrKnEkApQPuX1oUSQB6Z5an6YxJAEvLPux5CEkAHS7rNQiASQPujpN9m/hFA8PyO8YrcEUDkVXkDr7oRQNmuYxXTmBFAzgdOJ/d2EUDCYDg5G1URQLe5Iks/MxFArBINXWMREUCga/duh+8QQJXE4YCrzRBAiR3Mks+rEEB+drak84kQQHLPoLYXaBBAZyiLyDtGEEBcgXXaXyQQQFDaX+yDAhBAimaU/E/BD0BzGGkgmH0PQF3KPUTgOQ9ARXwSaCj2DkA=",
          "dtype": "f8"
         },
         "yaxis": "y22"
        },
        {
         "marker": {
          "color": "green",
          "line": {
           "color": "black",
           "width": 1
          },
          "opacity": 1,
          "size": 6
         },
         "mode": "markers",
         "name": "Mean step frequency (Hz) vs Mean step velocity X at swing - lHindpaw (m/s)",
         "showlegend": false,
         "type": "scatter",
         "x": {
          "bdata": "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",
          "dtype": "f8"
         },
         "xaxis": "x23",
         "y": {
          "bdata": "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",
          "dtype": "f8"
         },
         "yaxis": "y23"
        },
        {
         "line": {
          "color": "red",
          "dash": "dash",
          "width": 2
         },
         "mode": "lines",
         "showlegend": false,
         "type": "scatter",
         "x": {
          "bdata": "eC79gFcNpT+M0N12GgWnP6Fyvmzd/Kg/tRSfYqD0qj/Ktn9YY+ysP95YYE4m5K4/eX0govRtsD+DzhAd1mmxP44fAZi3ZbI/mHDxEplhsz+iweGNel20P6wS0ghcWbU/tmPCgz1Vtj/AtLL+HlG3P8oFo3kATbg/1VaT9OFIuT/fp4Nvw0S6P+n4c+qkQLs/80lkZYY8vD/+mlTgZzi9PwjsRFtJNL4/Ej011iowvz8Ox5IoBhbAP5PvCub2k8A/GBiDo+cRwT+eQPtg2I/BPyJpcx7JDcI/qJHr27mLwj8sumOZqgnDP7Li21abh8M/NwtUFIwFxD+8M8zRfIPEP0FcRI9tAcU/xoS8TF5/xT9LrTQKT/3FP9DVrMc/e8Y/Vf4khTD5xj/aJp1CIXfHP2BPFQAS9cc/5XeNvQJzyD9qoAV78/DIP+/IfTjkbsk/dPH19dTsyT/5GW6zxWrKP35C5nC26Mo/A2teLqdmyz+Ik9brl+TLPw28TqmIYsw/kuTGZnngzD8YDT8kal7NP501t+Fa3M0/Il4vn0tazj+nhqdcPNjOPyyvHxotVs8/sdeX1x3Uzz8bAIhKBynQP14URKn/Z9A/oCgACPim0D/iPLxm8OXQPyZReMXoJNE/aGU0JOFj0T+qefCC2aLRP+2NrOHR4dE/MKJoQMog0j9ytiSfwl/SP7TK4P26ntI/996cXLPd0j8681i7qxzTP3wHFRqkW9M/vxvReJya0z8BMI3XlNnTP0RESTaNGNQ/hlgFlYVX1D/JbMHzfZbUPwuBfVJ21dQ/TpU5sW4U1T+RqfUPZ1PVP9O9sW5fktU/FtJtzVfR1T9Y5iksUBDWP5v65YpIT9Y/3Q6i6UCO1j8gI15IOc3WP2I3GqcxDNc/pUvWBSpL1z/nX5JkIorXPyp0TsMaydc/bYgKIhMI2D+vnMaAC0fYP/Kwgt8Dhtg/NMU+PvzE2D932fqc9APZP7nttvvsQtk//AFzWuWB2T8+Fi+53cDZP4Eq6xfW/9k/wz6nds4+2j8GU2PVxn3aP0lnHzS/vNo/i3vbkrf72j8=",
          "dtype": "f8"
         },
         "xaxis": "x23",
         "y": {
          "bdata": "DpTdob60EEDPzg3upcsQQJAJPjqN4hBAUURuhnT5EEASf57SWxARQNK5zh5DJxFAk/T+aio+EUBULy+3EVURQBVqXwP5axFA1qSPT+CCEUCW37+bx5kRQFca8OeusBFAGFUgNJbHEUDZj1CAfd4RQJrKgMxk9RFAWgWxGEwMEkAbQOFkMyMSQNx6EbEaOhJAnbVB/QFREkBe8HFJ6WcSQB4ropXQfhJA32XS4beVEkCgoAIun6wSQGHbMnqGwxJAIhZjxm3aEkDiUJMSVfESQKOLw148CBNAZMbzqiMfE0AlAST3CjYTQOY7VEPyTBNApnaEj9ljE0BnsbTbwHoTQCjs5CeokRNA6SYVdI+oE0CqYUXAdr8TQGqcdQxe1hNAK9elWEXtE0DsEdakLAQUQK1MBvETGxRAboc2PfsxFEAuwmaJ4kgUQO/8ltXJXxRAsDfHIbF2FEBxcvdtmI0UQDKtJ7p/pBRA8udXBme7FECzIohSTtIUQHRduJ416RRANZjo6hwAFUD20hg3BBcVQLYNSYPrLRVAd0h5z9JEFUA4g6kbulsVQPm92WehchVAuvgJtIiJFUB6MzoAcKAVQDxuakxXtxVA/KiamD7OFUC948rkJeUVQH4e+zAN/BVAP1krffQSFkD/k1vJ2ykWQMDOixXDQBZAgQm8YapXFkBCROytkW4WQAJ/HPp4hRZAxLlMRmCcFkCE9HySR7MWQEUvrd4uyhZABmrdKhbhFkDGpA13/fcWQIjfPcPkDhdASBpuD8wlF0AJVZ5bszwXQMqPzqeaUxdAi8r+84FqF0BMBS9AaYEXQAxAX4xQmBdAzXqP2DevF0COtb8kH8YXQE/w73AG3RdAECsgve3zF0DQZVAJ1QoYQJGggFW8IRhAUtuwoaM4GEASFuHtik8YQNRQETpyZhhAlItBhll9GEBVxnHSQJQYQBYBoh4oqxhA1jvSag/CGECYdgK39tgYQFixMgPe7xhAGexiT8UGGUDaJpObrB0ZQJthw+eTNBlAXJzzM3tLGUAc1yOAYmIZQN4RVMxJeRlAnkyEGDGQGUA=",
          "dtype": "f8"
         },
         "yaxis": "y23"
        },
        {
         "marker": {
          "color": "green",
          "line": {
           "color": "black",
           "width": 1
          },
          "opacity": 1,
          "size": 6
         },
         "mode": "markers",
         "name": "Mean step frequency (Hz) vs Mean step velocity Y at swing - lHindpaw (m/s)",
         "showlegend": false,
         "type": "scatter",
         "x": {
          "bdata": "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",
          "dtype": "f8"
         },
         "xaxis": "x24",
         "y": {
          "bdata": "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",
          "dtype": "f8"
         },
         "yaxis": "y24"
        },
        {
         "line": {
          "color": "red",
          "dash": "dash",
          "width": 2
         },
         "mode": "lines",
         "showlegend": false,
         "type": "scatter",
         "x": {
          "bdata": "kVr9tuqPkT9dIheHk5GTPyrqMFc8k5U/9rFKJ+WUlz/CeWT3jZaZP45Bfsc2mJs/WgmYl9+ZnT8n0bFniJufP3rM5ZuYzqA/YLDyA23PoT9GlP9rQdCiPyx4DNQV0aM/ElwZPOrRpD/4PyakvtKlP94jMwyT06Y/xAdAdGfUpz+q60zcO9WoP5DPWUQQ1qk/drNmrOTWqj9cl3MUuderP0J7gHyN2Kw/Kl+N5GHZrT8QQ5pMNtquP/Ymp7QK268/bgVaju9tsD9hd2DCWe6wP1TpZvbDbrE/R1ttKi7vsT86zXNemG+yPy0/epIC8LI/ILGAxmxwsz8TI4f61vCzPwaVjS5BcbQ/+QaUYqvxtD/seJqWFXK1P9/qoMp/8rU/0lyn/ulytj/Fzq0yVPO2P7hAtGa+c7c/q7K6mij0tz+eJMHOknS4P5KWxwL99Lg/hQjONmd1uT94etRq0fW5P2vs2p47dro/Xl7h0qX2uj9R0OcGEHe7P0RC7jp697s/N7T0buR3vD8qJvuiTvi8Px2YAde4eL0/EAoICyP5vT8DfA4/jXm+P/btFHP3+b4/6V8bp2F6vz/c0SHby/q/P+ghlAebPcA/4lqXIdB9wD/bk5o7Bb7AP9XMnVU6/sA/zgWhb28+wT/IPqSJpH7BP8F3p6PZvsE/u7CqvQ7/wT+06a3XQz/CP64isfF4f8I/p1u0C66/wj+hlLcl4//CP5rNuj8YQMM/lAa+WU2Awz+NP8FzgsDDP4d4xI23AMQ/gLHHp+xAxD966srBIYHEP3MjzttWwcQ/bVzR9YsBxT9mldQPwUHFP2DO1yn2gcU/WQfbQyvCxT9TQN5dYALGP0x54XeVQsY/RrLkkcqCxj9A6+er/8LGPzkk68U0A8c/M13u32lDxz8slvH5noPHPybP9BPUw8c/Hwj4LQkEyD8ZQftHPkTIPxJ6/mFzhMg/DLMBfKjEyD8F7ASW3QTJP/8kCLASRck/+F0LykeFyT/ylg7kfMXJP+vPEf6xBco/5QgVGOdFyj/fQRgyHIbKP9h6G0xRxso/0rMeZoYGyz8=",
          "dtype": "f8"
         },
         "xaxis": "x24",
         "y": {
          "bdata": "PlX1K3jKEEA+fWMWtOAQQD6l0QDw9hBAPs0/6ysNEUA+9a3VZyMRQD4dHMCjORFAPkWKqt9PEUA+bfiUG2YRQD6VZn9XfBFAPr3UaZOSEUA+5UJUz6gRQD4NsT4LvxFAPjUfKUfVEUA+XY0Tg+sRQD6F+/2+ARJAPq1p6PoXEkA+1dfSNi4SQD39Rb1yRBJAPSW0p65aEkA9TSKS6nASQD11kHwmhxJAPZ3+ZmKdEkA9xWxRnrMSQD3t2jvayRJAPRVJJhbgEkA9PbcQUvYSQD1lJfuNDBNAPY2T5ckiE0A9tQHQBTkTQD3db7pBTxNAPQXepH1lE0A9LUyPuXsTQD1Vunn1kRNAPX0oZDGoE0A9pZZObb4TQDzNBDmp1BNAPPVyI+XqE0A8HeENIQEUQDxFT/hcFxRAPG294pgtFEA8lSvN1EMUQDy9mbcQWhRAPOUHokxwFEA8DXaMiIYUQDw15HbEnBRAPF1SYQCzFEA8hcBLPMkUQDytLjZ43xRAPNWcILT1FEA8/QoL8AsVQDwlefUrIhVAPE3n32c4FUA8dVXKo04VQDydw7TfZBVAPMUxnxt7FUA87Z+JV5EVQDwVDnSTpxVAPD18Xs+9FUA8ZepIC9QVQDyNWDNH6hVAPLXGHYMAFkA83TQIvxYWQDsFo/L6LBZAPC0R3TZDFkA7VX/HclkWQDt97bGubxZAO6VbnOqFFkA7zcmGJpwWQDv1N3FishZAOx2mW57IFkA7RRRG2t4WQDttgjAW9RZAO5XwGlILF0A7vV4FjiEXQDrlzO/JNxdAOw072gVOF0A6NanEQWQXQDpdF699ehdAOoWFmbmQF0A6rfOD9aYXQDrVYW4xvRdAOv3PWG3TF0A6JT5DqekXQDpNrC3l/xdAOnUaGCEWGEA6nYgCXSwYQDrF9uyYQhhAOu1k19RYGEA6FdPBEG8YQDo9QaxMhRhAOmWvloibGEA6jR2BxLEYQDq1i2sAyBhAOt35VTzeGEA6BWhAePQYQDot1iq0ChlAOlVEFfAgGUA6fbL/KzcZQDqlIOpnTRlAOs2O1KNjGUA=",
          "dtype": "f8"
         },
         "yaxis": "y24"
        }
       ],
       "layout": {
        "height": 1800,
        "template": {
         "data": {
          "bar": [
           {
            "error_x": {
             "color": "#2a3f5f"
            },
            "error_y": {
             "color": "#2a3f5f"
            },
            "marker": {
             "line": {
              "color": "white",
              "width": 0.5
             },
             "pattern": {
              "fillmode": "overlay",
              "size": 10,
              "solidity": 0.2
             }
            },
            "type": "bar"
           }
          ],
          "barpolar": [
           {
            "marker": {
             "line": {
              "color": "white",
              "width": 0.5
             },
             "pattern": {
              "fillmode": "overlay",
              "size": 10,
              "solidity": 0.2
             }
            },
            "type": "barpolar"
           }
          ],
          "carpet": [
           {
            "aaxis": {
             "endlinecolor": "#2a3f5f",
             "gridcolor": "#C8D4E3",
             "linecolor": "#C8D4E3",
             "minorgridcolor": "#C8D4E3",
             "startlinecolor": "#2a3f5f"
            },
            "baxis": {
             "endlinecolor": "#2a3f5f",
             "gridcolor": "#C8D4E3",
             "linecolor": "#C8D4E3",
             "minorgridcolor": "#C8D4E3",
             "startlinecolor": "#2a3f5f"
            },
            "type": "carpet"
           }
          ],
          "choropleth": [
           {
            "colorbar": {
             "outlinewidth": 0,
             "ticks": ""
            },
            "type": "choropleth"
           }
          ],
          "contour": [
           {
            "colorbar": {
             "outlinewidth": 0,
             "ticks": ""
            },
            "colorscale": [
             [
              0,
              "#0d0887"
             ],
             [
              0.1111111111111111,
              "#46039f"
             ],
             [
              0.2222222222222222,
              "#7201a8"
             ],
             [
              0.3333333333333333,
              "#9c179e"
             ],
             [
              0.4444444444444444,
              "#bd3786"
             ],
             [
              0.5555555555555556,
              "#d8576b"
             ],
             [
              0.6666666666666666,
              "#ed7953"
             ],
             [
              0.7777777777777778,
              "#fb9f3a"
             ],
             [
              0.8888888888888888,
              "#fdca26"
             ],
             [
              1,
              "#f0f921"
             ]
            ],
            "type": "contour"
           }
          ],
          "contourcarpet": [
           {
            "colorbar": {
             "outlinewidth": 0,
             "ticks": ""
            },
            "type": "contourcarpet"
           }
          ],
          "heatmap": [
           {
            "colorbar": {
             "outlinewidth": 0,
             "ticks": ""
            },
            "colorscale": [
             [
              0,
              "#0d0887"
             ],
             [
              0.1111111111111111,
              "#46039f"
             ],
             [
              0.2222222222222222,
              "#7201a8"
             ],
             [
              0.3333333333333333,
              "#9c179e"
             ],
             [
              0.4444444444444444,
              "#bd3786"
             ],
             [
              0.5555555555555556,
              "#d8576b"
             ],
             [
              0.6666666666666666,
              "#ed7953"
             ],
             [
              0.7777777777777778,
              "#fb9f3a"
             ],
             [
              0.8888888888888888,
              "#fdca26"
             ],
             [
              1,
              "#f0f921"
             ]
            ],
            "type": "heatmap"
           }
          ],
          "histogram": [
           {
            "marker": {
             "pattern": {
              "fillmode": "overlay",
              "size": 10,
              "solidity": 0.2
             }
            },
            "type": "histogram"
           }
          ],
          "histogram2d": [
           {
            "colorbar": {
             "outlinewidth": 0,
             "ticks": ""
            },
            "colorscale": [
             [
              0,
              "#0d0887"
             ],
             [
              0.1111111111111111,
              "#46039f"
             ],
             [
              0.2222222222222222,
              "#7201a8"
             ],
             [
              0.3333333333333333,
              "#9c179e"
             ],
             [
              0.4444444444444444,
              "#bd3786"
             ],
             [
              0.5555555555555556,
              "#d8576b"
             ],
             [
              0.6666666666666666,
              "#ed7953"
             ],
             [
              0.7777777777777778,
              "#fb9f3a"
             ],
             [
              0.8888888888888888,
              "#fdca26"
             ],
             [
              1,
              "#f0f921"
             ]
            ],
            "type": "histogram2d"
           }
          ],
          "histogram2dcontour": [
           {
            "colorbar": {
             "outlinewidth": 0,
             "ticks": ""
            },
            "colorscale": [
             [
              0,
              "#0d0887"
             ],
             [
              0.1111111111111111,
              "#46039f"
             ],
             [
              0.2222222222222222,
              "#7201a8"
             ],
             [
              0.3333333333333333,
              "#9c179e"
             ],
             [
              0.4444444444444444,
              "#bd3786"
             ],
             [
              0.5555555555555556,
              "#d8576b"
             ],
             [
              0.6666666666666666,
              "#ed7953"
             ],
             [
              0.7777777777777778,
              "#fb9f3a"
             ],
             [
              0.8888888888888888,
              "#fdca26"
             ],
             [
              1,
              "#f0f921"
             ]
            ],
            "type": "histogram2dcontour"
           }
          ],
          "mesh3d": [
           {
            "colorbar": {
             "outlinewidth": 0,
             "ticks": ""
            },
            "type": "mesh3d"
           }
          ],
          "parcoords": [
           {
            "line": {
             "colorbar": {
              "outlinewidth": 0,
              "ticks": ""
             }
            },
            "type": "parcoords"
           }
          ],
          "pie": [
           {
            "automargin": true,
            "type": "pie"
           }
          ],
          "scatter": [
           {
            "fillpattern": {
             "fillmode": "overlay",
             "size": 10,
             "solidity": 0.2
            },
            "type": "scatter"
           }
          ],
          "scatter3d": [
           {
            "line": {
             "colorbar": {
              "outlinewidth": 0,
              "ticks": ""
             }
            },
            "marker": {
             "colorbar": {
              "outlinewidth": 0,
              "ticks": ""
             }
            },
            "type": "scatter3d"
           }
          ],
          "scattercarpet": [
           {
            "marker": {
             "colorbar": {
              "outlinewidth": 0,
              "ticks": ""
             }
            },
            "type": "scattercarpet"
           }
          ],
          "scattergeo": [
           {
            "marker": {
             "colorbar": {
              "outlinewidth": 0,
              "ticks": ""
             }
            },
            "type": "scattergeo"
           }
          ],
          "scattergl": [
           {
            "marker": {
             "colorbar": {
              "outlinewidth": 0,
              "ticks": ""
             }
            },
            "type": "scattergl"
           }
          ],
          "scattermap": [
           {
            "marker": {
             "colorbar": {
              "outlinewidth": 0,
              "ticks": ""
             }
            },
            "type": "scattermap"
           }
          ],
          "scattermapbox": [
           {
            "marker": {
             "colorbar": {
              "outlinewidth": 0,
              "ticks": ""
             }
            },
            "type": "scattermapbox"
           }
          ],
          "scatterpolar": [
           {
            "marker": {
             "colorbar": {
              "outlinewidth": 0,
              "ticks": ""
             }
            },
            "type": "scatterpolar"
           }
          ],
          "scatterpolargl": [
           {
            "marker": {
             "colorbar": {
              "outlinewidth": 0,
              "ticks": ""
             }
            },
            "type": "scatterpolargl"
           }
          ],
          "scatterternary": [
           {
            "marker": {
             "colorbar": {
              "outlinewidth": 0,
              "ticks": ""
             }
            },
            "type": "scatterternary"
           }
          ],
          "surface": [
           {
            "colorbar": {
             "outlinewidth": 0,
             "ticks": ""
            },
            "colorscale": [
             [
              0,
              "#0d0887"
             ],
             [
              0.1111111111111111,
              "#46039f"
             ],
             [
              0.2222222222222222,
              "#7201a8"
             ],
             [
              0.3333333333333333,
              "#9c179e"
             ],
             [
              0.4444444444444444,
              "#bd3786"
             ],
             [
              0.5555555555555556,
              "#d8576b"
             ],
             [
              0.6666666666666666,
              "#ed7953"
             ],
             [
              0.7777777777777778,
              "#fb9f3a"
             ],
             [
              0.8888888888888888,
              "#fdca26"
             ],
             [
              1,
              "#f0f921"
             ]
            ],
            "type": "surface"
           }
          ],
          "table": [
           {
            "cells": {
             "fill": {
              "color": "#EBF0F8"
             },
             "line": {
              "color": "white"
             }
            },
            "header": {
             "fill": {
              "color": "#C8D4E3"
             },
             "line": {
              "color": "white"
             }
            },
            "type": "table"
           }
          ]
         },
         "layout": {
          "annotationdefaults": {
           "arrowcolor": "#2a3f5f",
           "arrowhead": 0,
           "arrowwidth": 1
          },
          "autotypenumbers": "strict",
          "coloraxis": {
           "colorbar": {
            "outlinewidth": 0,
            "ticks": ""
           }
          },
          "colorscale": {
           "diverging": [
            [
             0,
             "#8e0152"
            ],
            [
             0.1,
             "#c51b7d"
            ],
            [
             0.2,
             "#de77ae"
            ],
            [
             0.3,
             "#f1b6da"
            ],
            [
             0.4,
             "#fde0ef"
            ],
            [
             0.5,
             "#f7f7f7"
            ],
            [
             0.6,
             "#e6f5d0"
            ],
            [
             0.7,
             "#b8e186"
            ],
            [
             0.8,
             "#7fbc41"
            ],
            [
             0.9,
             "#4d9221"
            ],
            [
             1,
             "#276419"
            ]
           ],
           "sequential": [
            [
             0,
             "#0d0887"
            ],
            [
             0.1111111111111111,
             "#46039f"
            ],
            [
             0.2222222222222222,
             "#7201a8"
            ],
            [
             0.3333333333333333,
             "#9c179e"
            ],
            [
             0.4444444444444444,
             "#bd3786"
            ],
            [
             0.5555555555555556,
             "#d8576b"
            ],
            [
             0.6666666666666666,
             "#ed7953"
            ],
            [
             0.7777777777777778,
             "#fb9f3a"
            ],
            [
             0.8888888888888888,
             "#fdca26"
            ],
            [
             1,
             "#f0f921"
            ]
           ],
           "sequentialminus": [
            [
             0,
             "#0d0887"
            ],
            [
             0.1111111111111111,
             "#46039f"
            ],
            [
             0.2222222222222222,
             "#7201a8"
            ],
            [
             0.3333333333333333,
             "#9c179e"
            ],
            [
             0.4444444444444444,
             "#bd3786"
            ],
            [
             0.5555555555555556,
             "#d8576b"
            ],
            [
             0.6666666666666666,
             "#ed7953"
            ],
            [
             0.7777777777777778,
             "#fb9f3a"
            ],
            [
             0.8888888888888888,
             "#fdca26"
            ],
            [
             1,
             "#f0f921"
            ]
           ]
          },
          "colorway": [
           "#636efa",
           "#EF553B",
           "#00cc96",
           "#ab63fa",
           "#FFA15A",
           "#19d3f3",
           "#FF6692",
           "#B6E880",
           "#FF97FF",
           "#FECB52"
          ],
          "font": {
           "color": "#2a3f5f"
          },
          "geo": {
           "bgcolor": "white",
           "lakecolor": "white",
           "landcolor": "white",
           "showlakes": true,
           "showland": true,
           "subunitcolor": "#C8D4E3"
          },
          "hoverlabel": {
           "align": "left"
          },
          "hovermode": "closest",
          "mapbox": {
           "style": "light"
          },
          "paper_bgcolor": "white",
          "plot_bgcolor": "white",
          "polar": {
           "angularaxis": {
            "gridcolor": "#EBF0F8",
            "linecolor": "#EBF0F8",
            "ticks": ""
           },
           "bgcolor": "white",
           "radialaxis": {
            "gridcolor": "#EBF0F8",
            "linecolor": "#EBF0F8",
            "ticks": ""
           }
          },
          "scene": {
           "xaxis": {
            "backgroundcolor": "white",
            "gridcolor": "#DFE8F3",
            "gridwidth": 2,
            "linecolor": "#EBF0F8",
            "showbackground": true,
            "ticks": "",
            "zerolinecolor": "#EBF0F8"
           },
           "yaxis": {
            "backgroundcolor": "white",
            "gridcolor": "#DFE8F3",
            "gridwidth": 2,
            "linecolor": "#EBF0F8",
            "showbackground": true,
            "ticks": "",
            "zerolinecolor": "#EBF0F8"
           },
           "zaxis": {
            "backgroundcolor": "white",
            "gridcolor": "#DFE8F3",
            "gridwidth": 2,
            "linecolor": "#EBF0F8",
            "showbackground": true,
            "ticks": "",
            "zerolinecolor": "#EBF0F8"
           }
          },
          "shapedefaults": {
           "line": {
            "color": "#2a3f5f"
           }
          },
          "ternary": {
           "aaxis": {
            "gridcolor": "#DFE8F3",
            "linecolor": "#A2B1C6",
            "ticks": ""
           },
           "baxis": {
            "gridcolor": "#DFE8F3",
            "linecolor": "#A2B1C6",
            "ticks": ""
           },
           "bgcolor": "white",
           "caxis": {
            "gridcolor": "#DFE8F3",
            "linecolor": "#A2B1C6",
            "ticks": ""
           }
          },
          "title": {
           "x": 0.05
          },
          "xaxis": {
           "automargin": true,
           "gridcolor": "#EBF0F8",
           "linecolor": "#EBF0F8",
           "ticks": "",
           "title": {
            "standoff": 15
           },
           "zerolinecolor": "#EBF0F8",
           "zerolinewidth": 2
          },
          "yaxis": {
           "automargin": true,
           "gridcolor": "#EBF0F8",
           "linecolor": "#EBF0F8",
           "ticks": "",
           "title": {
            "standoff": 15
           },
           "zerolinecolor": "#EBF0F8",
           "zerolinewidth": 2
          }
         }
        },
        "title": {
         "text": "Healthy Mean Features: Step Features vs Velocity Features"
        },
        "width": 1400,
        "xaxis": {
         "anchor": "y",
         "domain": [
          0,
          0.2125
         ],
         "title": {
          "text": "Mean step velocity X at stance - lHindpaw (m/s)"
         }
        },
        "xaxis10": {
         "anchor": "y10",
         "domain": [
          0.2625,
          0.475
         ],
         "title": {
          "text": "Mean step velocity Y at stance - lHindpaw (m/s)"
         }
        },
        "xaxis11": {
         "anchor": "y11",
         "domain": [
          0.525,
          0.7375
         ],
         "title": {
          "text": "Mean step velocity X at swing - lHindpaw (m/s)"
         }
        },
        "xaxis12": {
         "anchor": "y12",
         "domain": [
          0.7875,
          1
         ],
         "title": {
          "text": "Mean step velocity Y at swing - lHindpaw (m/s)"
         }
        },
        "xaxis13": {
         "anchor": "y13",
         "domain": [
          0,
          0.2125
         ],
         "title": {
          "text": "Mean step velocity X at stance - lHindpaw (m/s)"
         }
        },
        "xaxis14": {
         "anchor": "y14",
         "domain": [
          0.2625,
          0.475
         ],
         "title": {
          "text": "Mean step velocity Y at stance - lHindpaw (m/s)"
         }
        },
        "xaxis15": {
         "anchor": "y15",
         "domain": [
          0.525,
          0.7375
         ],
         "title": {
          "text": "Mean step velocity X at swing - lHindpaw (m/s)"
         }
        },
        "xaxis16": {
         "anchor": "y16",
         "domain": [
          0.7875,
          1
         ],
         "title": {
          "text": "Mean step velocity Y at swing - lHindpaw (m/s)"
         }
        },
        "xaxis17": {
         "anchor": "y17",
         "domain": [
          0,
          0.2125
         ],
         "title": {
          "text": "Mean step velocity X at stance - lHindpaw (m/s)"
         }
        },
        "xaxis18": {
         "anchor": "y18",
         "domain": [
          0.2625,
          0.475
         ],
         "title": {
          "text": "Mean step velocity Y at stance - lHindpaw (m/s)"
         }
        },
        "xaxis19": {
         "anchor": "y19",
         "domain": [
          0.525,
          0.7375
         ],
         "title": {
          "text": "Mean step velocity X at swing - lHindpaw (m/s)"
         }
        },
        "xaxis2": {
         "anchor": "y2",
         "domain": [
          0.2625,
          0.475
         ],
         "title": {
          "text": "Mean step velocity Y at stance - lHindpaw (m/s)"
         }
        },
        "xaxis20": {
         "anchor": "y20",
         "domain": [
          0.7875,
          1
         ],
         "title": {
          "text": "Mean step velocity Y at swing - lHindpaw (m/s)"
         }
        },
        "xaxis21": {
         "anchor": "y21",
         "domain": [
          0,
          0.2125
         ],
         "title": {
          "text": "Mean step velocity X at stance - lHindpaw (m/s)"
         }
        },
        "xaxis22": {
         "anchor": "y22",
         "domain": [
          0.2625,
          0.475
         ],
         "title": {
          "text": "Mean step velocity Y at stance - lHindpaw (m/s)"
         }
        },
        "xaxis23": {
         "anchor": "y23",
         "domain": [
          0.525,
          0.7375
         ],
         "title": {
          "text": "Mean step velocity X at swing - lHindpaw (m/s)"
         }
        },
        "xaxis24": {
         "anchor": "y24",
         "domain": [
          0.7875,
          1
         ],
         "title": {
          "text": "Mean step velocity Y at swing - lHindpaw (m/s)"
         }
        },
        "xaxis3": {
         "anchor": "y3",
         "domain": [
          0.525,
          0.7375
         ],
         "title": {
          "text": "Mean step velocity X at swing - lHindpaw (m/s)"
         }
        },
        "xaxis4": {
         "anchor": "y4",
         "domain": [
          0.7875,
          1
         ],
         "title": {
          "text": "Mean step velocity Y at swing - lHindpaw (m/s)"
         }
        },
        "xaxis5": {
         "anchor": "y5",
         "domain": [
          0,
          0.2125
         ],
         "title": {
          "text": "Mean step velocity X at stance - lHindpaw (m/s)"
         }
        },
        "xaxis6": {
         "anchor": "y6",
         "domain": [
          0.2625,
          0.475
         ],
         "title": {
          "text": "Mean step velocity Y at stance - lHindpaw (m/s)"
         }
        },
        "xaxis7": {
         "anchor": "y7",
         "domain": [
          0.525,
          0.7375
         ],
         "title": {
          "text": "Mean step velocity X at swing - lHindpaw (m/s)"
         }
        },
        "xaxis8": {
         "anchor": "y8",
         "domain": [
          0.7875,
          1
         ],
         "title": {
          "text": "Mean step velocity Y at swing - lHindpaw (m/s)"
         }
        },
        "xaxis9": {
         "anchor": "y9",
         "domain": [
          0,
          0.2125
         ],
         "title": {
          "text": "Mean step velocity X at stance - lHindpaw (m/s)"
         }
        },
        "yaxis": {
         "anchor": "x",
         "domain": [
          0.8999999999999999,
          0.9999999999999999
         ],
         "title": {
          "text": "Mean step height (m)"
         }
        },
        "yaxis10": {
         "anchor": "x10",
         "domain": [
          0.54,
          0.64
         ],
         "title": {
          "text": "Mean step duration (s)"
         }
        },
        "yaxis11": {
         "anchor": "x11",
         "domain": [
          0.54,
          0.64
         ],
         "title": {
          "text": "Mean step duration (s)"
         }
        },
        "yaxis12": {
         "anchor": "x12",
         "domain": [
          0.54,
          0.64
         ],
         "title": {
          "text": "Mean step duration (s)"
         }
        },
        "yaxis13": {
         "anchor": "x13",
         "domain": [
          0.36,
          0.45999999999999996
         ],
         "title": {
          "text": "Mean swing duration (s)"
         }
        },
        "yaxis14": {
         "anchor": "x14",
         "domain": [
          0.36,
          0.45999999999999996
         ],
         "title": {
          "text": "Mean swing duration (s)"
         }
        },
        "yaxis15": {
         "anchor": "x15",
         "domain": [
          0.36,
          0.45999999999999996
         ],
         "title": {
          "text": "Mean swing duration (s)"
         }
        },
        "yaxis16": {
         "anchor": "x16",
         "domain": [
          0.36,
          0.45999999999999996
         ],
         "title": {
          "text": "Mean swing duration (s)"
         }
        },
        "yaxis17": {
         "anchor": "x17",
         "domain": [
          0.18,
          0.27999999999999997
         ],
         "title": {
          "text": "Mean stance duration (s)"
         }
        },
        "yaxis18": {
         "anchor": "x18",
         "domain": [
          0.18,
          0.27999999999999997
         ],
         "title": {
          "text": "Mean stance duration (s)"
         }
        },
        "yaxis19": {
         "anchor": "x19",
         "domain": [
          0.18,
          0.27999999999999997
         ],
         "title": {
          "text": "Mean stance duration (s)"
         }
        },
        "yaxis2": {
         "anchor": "x2",
         "domain": [
          0.8999999999999999,
          0.9999999999999999
         ],
         "title": {
          "text": "Mean step height (m)"
         }
        },
        "yaxis20": {
         "anchor": "x20",
         "domain": [
          0.18,
          0.27999999999999997
         ],
         "title": {
          "text": "Mean stance duration (s)"
         }
        },
        "yaxis21": {
         "anchor": "x21",
         "domain": [
          0,
          0.09999999999999999
         ],
         "title": {
          "text": "Mean step frequency (Hz)"
         }
        },
        "yaxis22": {
         "anchor": "x22",
         "domain": [
          0,
          0.09999999999999999
         ],
         "title": {
          "text": "Mean step frequency (Hz)"
         }
        },
        "yaxis23": {
         "anchor": "x23",
         "domain": [
          0,
          0.09999999999999999
         ],
         "title": {
          "text": "Mean step frequency (Hz)"
         }
        },
        "yaxis24": {
         "anchor": "x24",
         "domain": [
          0,
          0.09999999999999999
         ],
         "title": {
          "text": "Mean step frequency (Hz)"
         }
        },
        "yaxis3": {
         "anchor": "x3",
         "domain": [
          0.8999999999999999,
          0.9999999999999999
         ],
         "title": {
          "text": "Mean step height (m)"
         }
        },
        "yaxis4": {
         "anchor": "x4",
         "domain": [
          0.8999999999999999,
          0.9999999999999999
         ],
         "title": {
          "text": "Mean step height (m)"
         }
        },
        "yaxis5": {
         "anchor": "x5",
         "domain": [
          0.72,
          0.82
         ],
         "title": {
          "text": "Mean step length (m)"
         }
        },
        "yaxis6": {
         "anchor": "x6",
         "domain": [
          0.72,
          0.82
         ],
         "title": {
          "text": "Mean step length (m)"
         }
        },
        "yaxis7": {
         "anchor": "x7",
         "domain": [
          0.72,
          0.82
         ],
         "title": {
          "text": "Mean step length (m)"
         }
        },
        "yaxis8": {
         "anchor": "x8",
         "domain": [
          0.72,
          0.82
         ],
         "title": {
          "text": "Mean step length (m)"
         }
        },
        "yaxis9": {
         "anchor": "x9",
         "domain": [
          0.54,
          0.64
         ],
         "title": {
          "text": "Mean step duration (s)"
         }
        }
       }
      }
     },
     "metadata": {},
     "output_type": "display_data"
    }
   ],
   "source": [
    "## Plot features against velocity\n",
    "from plotly.subplots import make_subplots\n",
    "\n",
    "# Prepare subplots: rows = len(features_to_check), cols = len(features_to_check_against)\n",
    "fig = make_subplots(\n",
    "    rows=len(features_to_check), \n",
    "    cols=len(features_to_check_against),\n",
    "    # subplot_titles=[\n",
    "    #     f\"{y} vs {x}\" for y in features_to_check for x in features_to_check_against\n",
    "    # ],\n",
    "    horizontal_spacing=0.05,\n",
    "    vertical_spacing=0.08,\n",
    "    print_grid=False\n",
    ")\n",
    "\n",
    "for i, y_feat in enumerate(features_to_check):\n",
    "    for j, x_feat in enumerate(features_to_check_against):\n",
    "        if x_feat in healthy_mean_features.columns and y_feat in healthy_mean_features.columns:\n",
    "            fig.add_trace(\n",
    "                go.Scatter(\n",
    "                    x=healthy_mean_features[x_feat],\n",
    "                    y=healthy_mean_features[y_feat],\n",
    "                    mode='markers',\n",
    "                    marker=dict(size=SCATTER_SIZE, color='green', opacity=1, line=dict(width=SCATTER_LINE_WIDTH, color='black')),\n",
    "                    name=f\"{y_feat} vs {x_feat}\",\n",
    "                    showlegend=False\n",
    "                ),\n",
    "                row=i+1, col=j+1\n",
    "            )\n",
    "            # Linear regression for healthy group\n",
    "            x = healthy_mean_features[x_feat].values\n",
    "            y = healthy_mean_features[y_feat].values\n",
    "            if len(x) > 1 and len(y) > 1:\n",
    "                # Remove NaNs\n",
    "                mask = ~np.isnan(x) & ~np.isnan(y)\n",
    "                if mask.sum() > 1:\n",
    "                    x_clean = x[mask]\n",
    "                    y_clean = y[mask]\n",
    "                    # Fit linear regression\n",
    "                    coef = np.polyfit(x_clean, y_clean, 1)\n",
    "                    x_line = np.linspace(x_clean.min(), x_clean.max(), 100)\n",
    "                    y_line = np.polyval(coef, x_line)\n",
    "                    fig.add_trace(\n",
    "                        go.Scatter(\n",
    "                            x=x_line,\n",
    "                            y=y_line,\n",
    "                            mode='lines',\n",
    "                            line=dict(color='red', width=2, dash='dash'),\n",
    "                            showlegend=False\n",
    "                        ),\n",
    "                        row=i+1, col=j+1\n",
    "                    )\n",
    "                    if j + 1 == 3:\n",
    "                        m = coef[0] * 100 if i + 1 != 6 else coef[0]\n",
    "                        print(f\"Healthy linear regression for {y_feat} vs {x_feat}: y = {m:.2f}x + {coef[1]:.2f}\")\n",
    "        #     fig.add_trace(\n",
    "        #         go.Scatter(\n",
    "        #             x=sick_mean_features[x_feat],\n",
    "        #             y=sick_mean_features[y_feat],\n",
    "        #             mode='markers',\n",
    "        #             marker=dict(size=SCATTER_SIZE, color='yellow', opacity=1, line=dict(width=SCATTER_LINE_WIDTH, color='black')),\n",
    "        #             name=f\"{y_feat} vs {x_feat}\",\n",
    "        #             showlegend=False\n",
    "        #         ),\n",
    "        #         row=i+1, col=j+1\n",
    "        #     )\n",
    "        #     # Linear regression for healthy group\n",
    "        #     x = sick_mean_features[x_feat].values\n",
    "        #     y = sick_mean_features[y_feat].values\n",
    "        #     if len(x) > 1 and len(y) > 1:\n",
    "        #         # Remove NaNs\n",
    "        #         mask = ~np.isnan(x) & ~np.isnan(y)\n",
    "        #         if mask.sum() > 1:\n",
    "        #             x_clean = x[mask]\n",
    "        #             y_clean = y[mask]\n",
    "        #             # Fit linear regression\n",
    "        #             coef = np.polyfit(x_clean, y_clean, 1)\n",
    "        #             x_line = np.linspace(x_clean.min(), x_clean.max(), 100)\n",
    "        #             y_line = np.polyval(coef, x_line)\n",
    "        #             fig.add_trace(\n",
    "        #                 go.Scatter(\n",
    "        #                     x=x_line,\n",
    "        #                     y=y_line,\n",
    "        #                     mode='lines',\n",
    "        #                     line=dict(color='blue', width=2, dash='dash'),\n",
    "        #                     showlegend=False\n",
    "        #                 ),\n",
    "        #                 row=i+1, col=j+1\n",
    "        #             )\n",
    "        #             if j + 1 == 3:\n",
    "        #                 print(f\"Sick linear regression for {y_feat} vs {x_feat}: y = {coef[0]:.2f}x + {coef[1]:.2f}\")\n",
    "        fig.update_xaxes(title_text=x_feat, row=i+1, col=j+1)\n",
    "        fig.update_yaxes(title_text=y_feat, row=i+1, col=j+1)\n",
    "\n",
    "fig.update_layout(\n",
    "    height=300*len(features_to_check), \n",
    "    width=350*len(features_to_check_against),\n",
    "    title_text=\"Healthy Mean Features: Step Features vs Velocity Features\",\n",
    "    template=\"plotly_white\"\n",
    ")\n",
    "print(f\"Number of mice: {len(healthy_mean_features['Mouse'].unique())}\")\n",
    "fig.show()\n",
    "# fig.write_image(os.path.join(os.path.join(FIGURES_DIR, 'Validation'), 'Healthy_Mean_Features_Step_vs_Velocity.svg'), format='svg')"
   ]
  },
  {
   "cell_type": "code",
   "execution_count": null,
   "id": "a7184000",
   "metadata": {},
   "outputs": [
    {
     "name": "stdout",
     "output_type": "stream",
     "text": [
      "Healthy mean stance duration ratio: 0.49, mean swing duration: 0.51, mean step duration: 0.22 ± 0.00\n",
      "Sick mean stance duration ratio: 0.53, mean swing duration: 0.47, mean step duration: 0.28\n"
     ]
    }
   ],
   "source": [
    "## Print the ratio between stance and swing durations \n",
    "healthy_stance_ratio = healthy_mean_features['Mean stance duration (s)'].mean() / healthy_mean_features['Mean step duration (s)'].mean()\n",
    "healthy_swing_ratio = healthy_mean_features['Mean swing duration (s)'].mean() / healthy_mean_features['Mean step duration (s)'].mean()\n",
    "healthy_step_duration = healthy_mean_features['Mean step duration (s)'].mean()\n",
    "healthy_step_duration_std = healthy_mean_features['Mean step duration (s)'].std()\n",
    "\n",
    "sick_stance_ratio = sick_mean_features['Mean stance duration (s)'].mean() / sick_mean_features['Mean step duration (s)'].mean()\n",
    "sick_swing_ratio = sick_mean_features['Mean swing duration (s)'].mean() / sick_mean_features['Mean step duration (s)'].mean()\n",
    "sick_step_duration = sick_mean_features['Mean step duration (s)'].mean()\n",
    "\n",
    "print(f\"Healthy mean stance duration ratio: {healthy_stance_ratio:.2f}, mean swing duration: {healthy_swing_ratio:.2f}, mean step duration: {healthy_step_duration:.2f} ± {healthy_step_duration_std:.2f}\")\n",
    "print(f\"Sick mean stance duration ratio: {sick_stance_ratio:.2f}, mean swing duration: {sick_swing_ratio:.2f}, mean step duration: {sick_step_duration:.2f}\")"
   ]
  },
  {
   "cell_type": "code",
   "execution_count": 43,
   "id": "1252f9d2",
   "metadata": {},
   "outputs": [
    {
     "name": "stdout",
     "output_type": "stream",
     "text": [
      "number of steps: 3932\n",
      "---------\n",
      "hip phase excursion: Healthy mean = [62.68777983] ± [9.55570075] sem = [0.69324339] \n",
      "Sick mean = [62.77306709] ± [17.49230662] sem = [1.57722817]\n",
      "---------\n",
      "knee phase excursion: Healthy mean = [75.19756741] ± [4.02287821] sem = [0.29185026] \n",
      "Sick mean = [59.9261642] ± [15.87615601] sem = [1.43150478]\n",
      "---------\n",
      "paw phase excursion: Healthy mean = [121.09001636] ± [13.85861924] sem = [1.00540991] \n",
      "Sick mean = [169.17308424] ± [59.39864139] sem = [5.35579513]\n"
     ]
    }
   ],
   "source": [
    "## Pint the average phase excursions and angle excursions\n",
    "phase_excursion_cols = [col for col in healthy_mean_features.columns if 'phase excursion' in col.lower() and 'std' not in col.lower()]\n",
    "angle_excursion_cols = [col for col in healthy_mean_features.columns if 'angle excursion' in col.lower() and 'std' not in col.lower()]\n",
    "\n",
    "# for col in phase_excursion_cols:\n",
    "#     healthy_mean = healthy_mean_features[col].mean()\n",
    "#     healthy_std = healthy_mean_features[col].std() / np.sqrt(len(healthy_mean_features))\n",
    "#     healthy_sem = healthy_mean_features[col].std() / np.sqrt(len(healthy_mean_features))\n",
    "    \n",
    "#     print(f\"{col}: Healthy mean = {healthy_mean:.2f} ± {healthy_sem:.2f}, std = {healthy_std:.2f}\")\n",
    "\n",
    "# for col in angle_excursion_cols:\n",
    "#     healthy_mean = healthy_mean_features[col].mean()\n",
    "#     healthy_sem = healthy_mean_features[col].std() / np.sqrt(len(healthy_mean_features))\n",
    "#     sick_mean = sick_mean_features[col].mean()\n",
    "#     sick_sem = sick_mean_features[col].std() / np.sqrt(len(sick_mean_features))\n",
    "    \n",
    "#     print(f\"{col}: Healthy mean = {healthy_mean:.2f} ± {healthy_sem:.2f}, Sick mean = {sick_mean:.2f} ± {sick_sem:.2f}\")\n",
    "\n",
    "hip_col = [col for col in phase_excursion_cols if 'hip' in col.lower()]\n",
    "knee_col = [col for col in phase_excursion_cols if 'knee' in col.lower()]\n",
    "finger_col = [col for col in phase_excursion_cols if 'paw' in col.lower()]\n",
    "cols_list = [hip_col, knee_col, finger_col]\n",
    "cols = ('hip', 'knee', 'paw')\n",
    "\n",
    "print('number of steps:', len(segmented_hindsteps))\n",
    "for bp, col in zip(cols, cols_list):\n",
    "    healthy_mean = healthy_mean_features[col].mean()\n",
    "    healthy_std = healthy_mean_features[col].std()\n",
    "    healthy_sem = healthy_std / np.sqrt(len(healthy_mean_features))\n",
    "    sick_mean = sick_mean_features[col].mean()\n",
    "    sick_std = sick_mean_features[col].std()\n",
    "    sick_sem = sick_std / np.sqrt(len(sick_mean_features))\n",
    "    \n",
    "    print(\"---------\")\n",
    "    print(f\"{bp} phase excursion: Healthy mean = {healthy_mean.values} ± {healthy_std.values} sem = {healthy_sem.values} \\n\"\n",
    "          f\"Sick mean = {sick_mean.values} ± {sick_std.values} sem = {sick_sem.values}\")\n"
   ]
  },
  {
   "cell_type": "code",
   "execution_count": 47,
   "id": "d73c750d",
   "metadata": {},
   "outputs": [
    {
     "name": "stdout",
     "output_type": "stream",
     "text": [
      "Hip t-test: t = 0.228, p = 8.200e-01\n",
      "Hip phase excursion is not significantly different from Bellardita's values.\n",
      "Knee t-test: t = -3.774, p = 1.633e-04\n",
      "Knee phase excursion is significantly different from Bellardita's values. with a confidence level of 1.00\n",
      "Paw t-test: t = 6.637, p = 3.647e-11\n",
      "Paw phase excursion is significantly different from Bellardita's values. with a confidence level of 1.00\n"
     ]
    }
   ],
   "source": [
    "from scipy.stats import ttest_ind_from_stats\n",
    "\n",
    "# Bellardita values (mean ± SD, n = 10 steps, for trot gait)\n",
    "bellardita_hip_mean = 62\n",
    "bellardita_hip_sd = 2\n",
    "bellardita_knee_mean = 80\n",
    "bellardita_knee_sd = 2\n",
    "bellardita_paw_mean = 92\n",
    "bellardita_paw_sd = 3\n",
    "n_bellardita = 10\n",
    "\n",
    "# Your values (mean ± SD, n = 3932)\n",
    "your_hip_mean = 62.68777983\n",
    "your_hip_sd = 9.55570075\n",
    "your_knee_mean = 75.19756741\n",
    "your_knee_sd = 4.02287821\n",
    "your_paw_mean = 121.09001636\n",
    "your_paw_sd = 13.85861924\n",
    "n_your = 3932\n",
    "\n",
    "# Perform t-tests\n",
    "t_hip, p_hip = ttest_ind_from_stats(your_hip_mean, your_hip_sd, n_your,\n",
    "                                    bellardita_hip_mean, bellardita_hip_sd, n_bellardita)\n",
    "\n",
    "t_knee, p_knee = ttest_ind_from_stats(your_knee_mean, your_knee_sd, n_your,\n",
    "                                      bellardita_knee_mean, bellardita_knee_sd, n_bellardita)\n",
    "\n",
    "t_paw, p_paw = ttest_ind_from_stats(your_paw_mean, your_paw_sd, n_your,\n",
    "                                    bellardita_paw_mean, bellardita_paw_sd, n_bellardita)\n",
    "\n",
    "# Print results\n",
    "print(\"Hip t-test: t = {:.3f}, p = {:.3e}\".format(t_hip, p_hip))\n",
    "if p_hip < 0.05:\n",
    "    print(f\"Hip phase excursion is significantly different from Bellardita's values. with a confidence level of {1 - p_hip:.2f}\")\n",
    "else:\n",
    "    print(\"Hip phase excursion is not significantly different from Bellardita's values.\")\n",
    "print(\"Knee t-test: t = {:.3f}, p = {:.3e}\".format(t_knee, p_knee))\n",
    "if p_knee < 0.05:\n",
    "    print(f\"Knee phase excursion is significantly different from Bellardita's values. with a confidence level of {1 - p_knee:.2f}\")\n",
    "else:\n",
    "    print(\"Knee phase excursion is not significantly different from Bellardita's values.\")\n",
    "print(\"Paw t-test: t = {:.3f}, p = {:.3e}\".format(t_paw, p_paw))\n",
    "if p_paw < 0.05:\n",
    "    print(f\"Paw phase excursion is significantly different from Bellardita's values. with a confidence level of {1 - p_paw:.2f}\")\n",
    "else:\n",
    "    print(\"Paw phase excursion is not significantly different from Bellardita's values.\")"
   ]
  },
  {
   "cell_type": "code",
   "execution_count": null,
   "id": "864c1d2c",
   "metadata": {},
   "outputs": [
    {
     "data": {
      "application/vnd.plotly.v1+json": {
       "config": {
        "plotlyServerURL": "https://plot.ly"
       },
       "data": [
        {
         "hovertemplate": "<b>%{hovertext}</b><br><br>Mouse=Mouse2<br>Average Stance Duration (s)=%{x}<br>Average Swing Duration (s)=%{y}<br>Average Step Velocity X at Stance (m/s)=%{z}<extra></extra>",
         "hovertext": [
          "Mouse2",
          "Mouse2"
         ],
         "legendgroup": "Mouse2",
         "marker": {
          "color": "blue",
          "line": {
           "color": "black",
           "width": 1
          },
          "size": 3,
          "symbol": "circle"
         },
         "mode": "markers",
         "name": "Mouse2",
         "scene": "scene",
         "showlegend": true,
         "type": "scatter3d",
         "x": {
          "bdata": "2mgbyl00vz9rBi07nlPBPw==",
          "dtype": "f8"
         },
         "y": {
          "bdata": "M1EF8mq5vj/sbw9s9K7APw==",
          "dtype": "f8"
         },
         "z": {
          "bdata": "yjEuf6YbgD/vsjg527F7vw==",
          "dtype": "f8"
         }
        },
        {
         "hovertemplate": "<b>%{hovertext}</b><br><br>Mouse=Mouse4<br>Average Stance Duration (s)=%{x}<br>Average Swing Duration (s)=%{y}<br>Average Step Velocity X at Stance (m/s)=%{z}<extra></extra>",
         "hovertext": [
          "Mouse4",
          "Mouse4"
         ],
         "legendgroup": "Mouse4",
         "marker": {
          "color": "blue",
          "line": {
           "color": "black",
           "width": 1
          },
          "size": 3,
          "symbol": "circle"
         },
         "mode": "markers",
         "name": "Mouse4",
         "scene": "scene",
         "showlegend": true,
         "type": "scatter3d",
         "x": {
          "bdata": "TB7UzJk0wD90faGdgsW5Pw==",
          "dtype": "f8"
         },
         "y": {
          "bdata": "O70sOZDxuj/N8MixD6G6Pw==",
          "dtype": "f8"
         },
         "z": {
          "bdata": "oUA4fZmQiL/gipVUM3OvPw==",
          "dtype": "f8"
         }
        },
        {
         "hovertemplate": "<b>%{hovertext}</b><br><br>Mouse=Mouse6<br>Average Stance Duration (s)=%{x}<br>Average Swing Duration (s)=%{y}<br>Average Step Velocity X at Stance (m/s)=%{z}<extra></extra>",
         "hovertext": [
          "Mouse6",
          "Mouse6"
         ],
         "legendgroup": "Mouse6",
         "marker": {
          "color": "blue",
          "line": {
           "color": "black",
           "width": 1
          },
          "size": 3,
          "symbol": "circle"
         },
         "mode": "markers",
         "name": "Mouse6",
         "scene": "scene",
         "showlegend": true,
         "type": "scatter3d",
         "x": {
          "bdata": "e2Cjd0Xmuz8b5XZzW7O6Pw==",
          "dtype": "f8"
         },
         "y": {
          "bdata": "LmvuhKJxuz947h5yuKS6Pw==",
          "dtype": "f8"
         },
         "z": {
          "bdata": "V3I8QjguYT/faxB4BxTlPw==",
          "dtype": "f8"
         }
        },
        {
         "hovertemplate": "<b>%{hovertext}</b><br><br>Mouse=Mouse8<br>Average Stance Duration (s)=%{x}<br>Average Swing Duration (s)=%{y}<br>Average Step Velocity X at Stance (m/s)=%{z}<extra></extra>",
         "hovertext": [
          "Mouse8",
          "Mouse8"
         ],
         "legendgroup": "Mouse8",
         "marker": {
          "color": "blue",
          "line": {
           "color": "black",
           "width": 1
          },
          "size": 3,
          "symbol": "circle"
         },
         "mode": "markers",
         "name": "Mouse8",
         "scene": "scene",
         "showlegend": true,
         "type": "scatter3d",
         "x": {
          "bdata": "g5Ydz6mkwD81eldkvjTBPw==",
          "dtype": "f8"
         },
         "y": {
          "bdata": "jxF7XY7kvz/IiL0uR/K/Pw==",
          "dtype": "f8"
         },
         "z": {
          "bdata": "05zCUug2kz+fCMqqAyGRPw==",
          "dtype": "f8"
         }
        },
        {
         "hovertemplate": "<b>%{hovertext}</b><br><br>Mouse=Mouse10<br>Average Stance Duration (s)=%{x}<br>Average Swing Duration (s)=%{y}<br>Average Step Velocity X at Stance (m/s)=%{z}<extra></extra>",
         "hovertext": [
          "Mouse10",
          "Mouse10"
         ],
         "legendgroup": "Mouse10",
         "marker": {
          "color": "blue",
          "line": {
           "color": "black",
           "width": 1
          },
          "size": 3,
          "symbol": "circle"
         },
         "mode": "markers",
         "name": "Mouse10",
         "scene": "scene",
         "showlegend": true,
         "type": "scatter3d",
         "x": {
          "bdata": "dUXmSxOHwT+opICEn1zAPw==",
          "dtype": "f8"
         },
         "y": {
          "bdata": "KzueU0kBwT+dUDRuAxjAPw==",
          "dtype": "f8"
         },
         "z": {
          "bdata": "7lVpvkJ7Ur+LToRZRm1gPw==",
          "dtype": "f8"
         }
        },
        {
         "hovertemplate": "<b>%{hovertext}</b><br><br>Mouse=Mouse12<br>Average Stance Duration (s)=%{x}<br>Average Swing Duration (s)=%{y}<br>Average Step Velocity X at Stance (m/s)=%{z}<extra></extra>",
         "hovertext": [
          "Mouse12",
          "Mouse12"
         ],
         "legendgroup": "Mouse12",
         "marker": {
          "color": "blue",
          "line": {
           "color": "black",
           "width": 1
          },
          "size": 3,
          "symbol": "circle"
         },
         "mode": "markers",
         "name": "Mouse12",
         "scene": "scene",
         "showlegend": true,
         "type": "scatter3d",
         "x": {
          "bdata": "JJNsXvtFsD/zGyqNQjiwPw==",
          "dtype": "f8"
         },
         "y": {
          "bdata": "jP/86mz6uD+6/LXGO2+3Pw==",
          "dtype": "f8"
         },
         "z": {
          "bdata": "lOWh//RYmj/mqI7q6JHFPw==",
          "dtype": "f8"
         }
        },
        {
         "hovertemplate": "<b>%{hovertext}</b><br><br>Mouse=Mouse14<br>Average Stance Duration (s)=%{x}<br>Average Swing Duration (s)=%{y}<br>Average Step Velocity X at Stance (m/s)=%{z}<extra></extra>",
         "hovertext": [
          "Mouse14",
          "Mouse14"
         ],
         "legendgroup": "Mouse14",
         "marker": {
          "color": "blue",
          "line": {
           "color": "black",
           "width": 1
          },
          "size": 3,
          "symbol": "circle"
         },
         "mode": "markers",
         "name": "Mouse14",
         "scene": "scene",
         "showlegend": true,
         "type": "scatter3d",
         "x": {
          "bdata": "uvy1xjtvtz/BautvD2y0Pw==",
          "dtype": "f8"
         },
         "y": {
          "bdata": "G3fbmc4/uD8oPrPmTii6Pw==",
          "dtype": "f8"
         },
         "z": {
          "bdata": "XlSNtoOLvj+O41cDIYimPw==",
          "dtype": "f8"
         }
        },
        {
         "hovertemplate": "<b>%{hovertext}</b><br><br>Mouse=Mouse16<br>Average Stance Duration (s)=%{x}<br>Average Swing Duration (s)=%{y}<br>Average Step Velocity X at Stance (m/s)=%{z}<extra></extra>",
         "hovertext": [
          "Mouse16",
          "Mouse16"
         ],
         "legendgroup": "Mouse16",
         "marker": {
          "color": "blue",
          "line": {
           "color": "black",
           "width": 1
          },
          "size": 3,
          "symbol": "circle"
         },
         "mode": "markers",
         "name": "Mouse16",
         "scene": "scene",
         "showlegend": true,
         "type": "scatter3d",
         "x": {
          "bdata": "wYi9Lkfyrz/LPENwq0m9Pw==",
          "dtype": "f8"
         },
         "y": {
          "bdata": "mSw4icBDuj/uGBX6PBG/Pw==",
          "dtype": "f8"
         },
         "z": {
          "bdata": "o2f/4ZEGnT8o6wMge7mGPw==",
          "dtype": "f8"
         }
        },
        {
         "hovertemplate": "<b>%{hovertext}</b><br><br>Mouse=Mouse18<br>Average Stance Duration (s)=%{x}<br>Average Swing Duration (s)=%{y}<br>Average Step Velocity X at Stance (m/s)=%{z}<extra></extra>",
         "hovertext": [
          "Mouse18",
          "Mouse18"
         ],
         "legendgroup": "Mouse18",
         "marker": {
          "color": "blue",
          "line": {
           "color": "black",
           "width": 1
          },
          "size": 3,
          "symbol": "circle"
         },
         "mode": "markers",
         "name": "Mouse18",
         "scene": "scene",
         "showlegend": true,
         "type": "scatter3d",
         "x": {
          "bdata": "y/IJrBohvj+gxtQ37eK6Pw==",
          "dtype": "f8"
         },
         "y": {
          "bdata": "G1rdc5Fguj8st2hDPhq+Pw==",
          "dtype": "f8"
         },
         "z": {
          "bdata": "YEGkhXoklj/Z9w2iFj+VPw==",
          "dtype": "f8"
         }
        },
        {
         "hovertemplate": "<b>%{hovertext}</b><br><br>Mouse=Mouse20<br>Average Stance Duration (s)=%{x}<br>Average Swing Duration (s)=%{y}<br>Average Step Velocity X at Stance (m/s)=%{z}<extra></extra>",
         "hovertext": [
          "Mouse20",
          "Mouse20"
         ],
         "legendgroup": "Mouse20",
         "marker": {
          "color": "blue",
          "line": {
           "color": "black",
           "width": 1
          },
          "size": 3,
          "symbol": "circle"
         },
         "mode": "markers",
         "name": "Mouse20",
         "scene": "scene",
         "showlegend": true,
         "type": "scatter3d",
         "x": {
          "bdata": "ZdwGMFAxuT9RDjEkylO3Pw==",
          "dtype": "f8"
         },
         "y": {
          "bdata": "P0yvZFoSuj/tO8LUvHu6Pw==",
          "dtype": "f8"
         },
         "z": {
          "bdata": "kWBXrd7ipT+/4vJ51rO1Pw==",
          "dtype": "f8"
         }
        },
        {
         "hovertemplate": "<b>%{hovertext}</b><br><br>Mouse=Mouse22<br>Average Stance Duration (s)=%{x}<br>Average Swing Duration (s)=%{y}<br>Average Step Velocity X at Stance (m/s)=%{z}<extra></extra>",
         "hovertext": [
          "Mouse22",
          "Mouse22"
         ],
         "legendgroup": "Mouse22",
         "marker": {
          "color": "blue",
          "line": {
           "color": "black",
           "width": 1
          },
          "size": 3,
          "symbol": "circle"
         },
         "mode": "markers",
         "name": "Mouse22",
         "scene": "scene",
         "showlegend": true,
         "type": "scatter3d",
         "x": {
          "bdata": "vNZ45+0atj+mm0HLjue0Pw==",
          "dtype": "f8"
         },
         "y": {
          "bdata": "4ysAzm7Uuz8oPrPmTii6Pw==",
          "dtype": "f8"
         },
         "z": {
          "bdata": "1tuBCzXwX783WG9Hj1SwPw==",
          "dtype": "f8"
         }
        },
        {
         "hovertemplate": "<b>%{hovertext}</b><br><br>Mouse=Mouse24<br>Average Stance Duration (s)=%{x}<br>Average Swing Duration (s)=%{y}<br>Average Step Velocity X at Stance (m/s)=%{z}<extra></extra>",
         "hovertext": [
          "Mouse24",
          "Mouse24"
         ],
         "legendgroup": "Mouse24",
         "marker": {
          "color": "blue",
          "line": {
           "color": "black",
           "width": 1
          },
          "size": 3,
          "symbol": "circle"
         },
         "mode": "markers",
         "name": "Mouse24",
         "scene": "scene",
         "showlegend": true,
         "type": "scatter3d",
         "x": {
          "bdata": "Th/b/fCWwD+lkfvgJhDBPw==",
          "dtype": "f8"
         },
         "y": {
          "bdata": "K/mcF3LrvD+rvjZ/elnCPw==",
          "dtype": "f8"
         },
         "z": {
          "bdata": "JzG6BKMwej/fibX8Oy1nvw==",
          "dtype": "f8"
         }
        },
        {
         "hovertemplate": "<b>%{hovertext}</b><br><br>Mouse=Mouse26<br>Average Stance Duration (s)=%{x}<br>Average Swing Duration (s)=%{y}<br>Average Step Velocity X at Stance (m/s)=%{z}<extra></extra>",
         "hovertext": [
          "Mouse26",
          "Mouse26"
         ],
         "legendgroup": "Mouse26",
         "marker": {
          "color": "blue",
          "line": {
           "color": "black",
           "width": 1
          },
          "size": 3,
          "symbol": "circle"
         },
         "mode": "markers",
         "name": "Mouse26",
         "scene": "scene",
         "showlegend": true,
         "type": "scatter3d",
         "x": {
          "bdata": "7Ye3BCHnsT/ojA2SMY62Pw==",
          "dtype": "f8"
         },
         "y": {
          "bdata": "uSLzpYnDuD+rs+ljux++Pw==",
          "dtype": "f8"
         },
         "z": {
          "bdata": "XFugVzL/nD9tMm7v+COLPw==",
          "dtype": "f8"
         }
        },
        {
         "hovertemplate": "<b>%{hovertext}</b><br><br>Mouse=Mouse28<br>Average Stance Duration (s)=%{x}<br>Average Swing Duration (s)=%{y}<br>Average Step Velocity X at Stance (m/s)=%{z}<extra></extra>",
         "hovertext": [
          "Mouse28",
          "Mouse28"
         ],
         "legendgroup": "Mouse28",
         "marker": {
          "color": "blue",
          "line": {
           "color": "black",
           "width": 1
          },
          "size": 3,
          "symbol": "circle"
         },
         "mode": "markers",
         "name": "Mouse28",
         "scene": "scene",
         "showlegend": true,
         "type": "scatter3d",
         "x": {
          "bdata": "EIrGbQADtT8wAjS1htOxPw==",
          "dtype": "f8"
         },
         "y": {
          "bdata": "T1lxGbLetj+WbZEeH2y5Pw==",
          "dtype": "f8"
         },
         "z": {
          "bdata": "yH4qT4CXnD8zAQm5HJ7qPw==",
          "dtype": "f8"
         }
        },
        {
         "hovertemplate": "<b>%{hovertext}</b><br><br>Mouse=Mouse30<br>Average Stance Duration (s)=%{x}<br>Average Swing Duration (s)=%{y}<br>Average Step Velocity X at Stance (m/s)=%{z}<extra></extra>",
         "hovertext": [
          "Mouse30",
          "Mouse30"
         ],
         "legendgroup": "Mouse30",
         "marker": {
          "color": "blue",
          "line": {
           "color": "black",
           "width": 1
          },
          "size": 3,
          "symbol": "circle"
         },
         "mode": "markers",
         "name": "Mouse30",
         "scene": "scene",
         "showlegend": true,
         "type": "scatter3d",
         "x": {
          "bdata": "7d+FD9MruT/uq7PpY7u/Pw==",
          "dtype": "f8"
         },
         "y": {
          "bdata": "OEyvZFoSuj99ismCkwi8Pw==",
          "dtype": "f8"
         },
         "z": {
          "bdata": "fufnuX2vgL96aEusbd+hPw==",
          "dtype": "f8"
         }
        },
        {
         "hovertemplate": "<b>%{hovertext}</b><br><br>Mouse=Mouse32<br>Average Stance Duration (s)=%{x}<br>Average Swing Duration (s)=%{y}<br>Average Step Velocity X at Stance (m/s)=%{z}<extra></extra>",
         "hovertext": [
          "Mouse32",
          "Mouse32"
         ],
         "legendgroup": "Mouse32",
         "marker": {
          "color": "blue",
          "line": {
           "color": "black",
           "width": 1
          },
          "size": 3,
          "symbol": "circle"
         },
         "mode": "markers",
         "name": "Mouse32",
         "scene": "scene",
         "showlegend": true,
         "type": "scatter3d",
         "x": {
          "bdata": "XtUIcUo8uT/PyovSwUy5Pw==",
          "dtype": "f8"
         },
         "y": {
          "bdata": "wNprMF1juz8WfDEn3+a8Pw==",
          "dtype": "f8"
         },
         "z": {
          "bdata": "e7naiv3uhD8eMdB3ENCdPw==",
          "dtype": "f8"
         }
        },
        {
         "hovertemplate": "<b>%{hovertext}</b><br><br>Mouse=Mouse34<br>Average Stance Duration (s)=%{x}<br>Average Swing Duration (s)=%{y}<br>Average Step Velocity X at Stance (m/s)=%{z}<extra></extra>",
         "hovertext": [
          "Mouse34",
          "Mouse34"
         ],
         "legendgroup": "Mouse34",
         "marker": {
          "color": "blue",
          "line": {
           "color": "black",
           "width": 1
          },
          "size": 3,
          "symbol": "circle"
         },
         "mode": "markers",
         "name": "Mouse34",
         "scene": "scene",
         "showlegend": true,
         "type": "scatter3d",
         "x": {
          "bdata": "SNWhOWBuwT9uAxiomCzAPw==",
          "dtype": "f8"
         },
         "y": {
          "bdata": "qLb+9sBGvz/Nr86mj+2+Pw==",
          "dtype": "f8"
         },
         "z": {
          "bdata": "B5lBNr4rRz/yKwpbT9+LPw==",
          "dtype": "f8"
         }
        },
        {
         "hovertemplate": "<b>%{hovertext}</b><br><br>Mouse=Mouse36<br>Average Stance Duration (s)=%{x}<br>Average Swing Duration (s)=%{y}<br>Average Step Velocity X at Stance (m/s)=%{z}<extra></extra>",
         "hovertext": [
          "Mouse36",
          "Mouse36"
         ],
         "legendgroup": "Mouse36",
         "marker": {
          "color": "blue",
          "line": {
           "color": "black",
           "width": 1
          },
          "size": 3,
          "symbol": "circle"
         },
         "mode": "markers",
         "name": "Mouse36",
         "scene": "scene",
         "showlegend": true,
         "type": "scatter3d",
         "x": {
          "bdata": "RgMXoWfVtT+dUDRuAxjAPw==",
          "dtype": "f8"
         },
         "y": {
          "bdata": "Fb85lA1fuT+1AQxUTBa8Pw==",
          "dtype": "f8"
         },
         "z": {
          "bdata": "vXJ6wr+Qzz/D1fLvNEuHPw==",
          "dtype": "f8"
         }
        },
        {
         "hovertemplate": "<b>%{hovertext}</b><br><br>Mouse=Mouse38<br>Average Stance Duration (s)=%{x}<br>Average Swing Duration (s)=%{y}<br>Average Step Velocity X at Stance (m/s)=%{z}<extra></extra>",
         "hovertext": [
          "Mouse38",
          "Mouse38"
         ],
         "legendgroup": "Mouse38",
         "marker": {
          "color": "blue",
          "line": {
           "color": "black",
           "width": 1
          },
          "size": 3,
          "symbol": "circle"
         },
         "mode": "markers",
         "name": "Mouse38",
         "scene": "scene",
         "showlegend": true,
         "type": "scatter3d",
         "x": {
          "bdata": "EpYauhafuT/dDFp2PKeyPw==",
          "dtype": "f8"
         },
         "y": {
          "bdata": "lSkj9rocuT+z9bcHNnq3Pw==",
          "dtype": "f8"
         },
         "z": {
          "bdata": "Pel0yd9JxT84tMh26iLbPw==",
          "dtype": "f8"
         }
        },
        {
         "hovertemplate": "<b>%{hovertext}</b><br><br>Mouse=Mouse40<br>Average Stance Duration (s)=%{x}<br>Average Swing Duration (s)=%{y}<br>Average Step Velocity X at Stance (m/s)=%{z}<extra></extra>",
         "hovertext": [
          "Mouse40",
          "Mouse40"
         ],
         "legendgroup": "Mouse40",
         "marker": {
          "color": "blue",
          "line": {
           "color": "black",
           "width": 1
          },
          "size": 3,
          "symbol": "circle"
         },
         "mode": "markers",
         "name": "Mouse40",
         "scene": "scene",
         "showlegend": true,
         "type": "scatter3d",
         "x": {
          "bdata": "bhWWGroWvz9+G1oQDO67Pw==",
          "dtype": "f8"
         },
         "y": {
          "bdata": "HL85lA1fuT+mGBPs2mK6Pw==",
          "dtype": "f8"
         },
         "z": {
          "bdata": "Gqp3gRHsoz+a5Z3b1V+4Pw==",
          "dtype": "f8"
         }
        },
        {
         "hovertemplate": "<b>%{hovertext}</b><br><br>Mouse=Mouse42<br>Average Stance Duration (s)=%{x}<br>Average Swing Duration (s)=%{y}<br>Average Step Velocity X at Stance (m/s)=%{z}<extra></extra>",
         "hovertext": [
          "Mouse42",
          "Mouse42"
         ],
         "legendgroup": "Mouse42",
         "marker": {
          "color": "blue",
          "line": {
           "color": "black",
           "width": 1
          },
          "size": 3,
          "symbol": "circle"
         },
         "mode": "markers",
         "name": "Mouse42",
         "scene": "scene",
         "showlegend": true,
         "type": "scatter3d",
         "x": {
          "bdata": "zaBlx3MquT9fnU0f2/3APw==",
          "dtype": "f8"
         },
         "y": {
          "bdata": "RROHsdr6uz9PQ9fiM2u+Pw==",
          "dtype": "f8"
         },
         "z": {
          "bdata": "BzNxHe4elz9XOJ6RwTecPw==",
          "dtype": "f8"
         }
        },
        {
         "hovertemplate": "<b>%{hovertext}</b><br><br>Mouse=Mouse44<br>Average Stance Duration (s)=%{x}<br>Average Swing Duration (s)=%{y}<br>Average Step Velocity X at Stance (m/s)=%{z}<extra></extra>",
         "hovertext": [
          "Mouse44",
          "Mouse44"
         ],
         "legendgroup": "Mouse44",
         "marker": {
          "color": "blue",
          "line": {
           "color": "black",
           "width": 1
          },
          "size": 3,
          "symbol": "circle"
         },
         "mode": "markers",
         "name": "Mouse44",
         "scene": "scene",
         "showlegend": true,
         "type": "scatter3d",
         "x": {
          "bdata": "pJICEn5ywT8oGrcBDFS8Pw==",
          "dtype": "f8"
         },
         "y": {
          "bdata": "Ahu9KzJfuj+w2vrbAxu9Pw==",
          "dtype": "f8"
         },
         "z": {
          "bdata": "hml4AexJhr8zUJf6lClNvw==",
          "dtype": "f8"
         }
        },
        {
         "hovertemplate": "<b>%{hovertext}</b><br><br>Mouse=Mouse46<br>Average Stance Duration (s)=%{x}<br>Average Swing Duration (s)=%{y}<br>Average Step Velocity X at Stance (m/s)=%{z}<extra></extra>",
         "hovertext": [
          "Mouse46",
          "Mouse46"
         ],
         "legendgroup": "Mouse46",
         "marker": {
          "color": "blue",
          "line": {
           "color": "black",
           "width": 1
          },
          "size": 3,
          "symbol": "circle"
         },
         "mode": "markers",
         "name": "Mouse46",
         "scene": "scene",
         "showlegend": true,
         "type": "scatter3d",
         "x": {
          "bdata": "OgigxtQ3vT++SQQe0r63Pw==",
          "dtype": "f8"
         },
         "y": {
          "bdata": "DEzh9YV2uj+r0bsi86W5Pw==",
          "dtype": "f8"
         },
         "z": {
          "bdata": "NBhWMP2oXz/upi3Qy2SXPw==",
          "dtype": "f8"
         }
        },
        {
         "hovertemplate": "<b>%{hovertext}</b><br><br>Mouse=Mouse48<br>Average Stance Duration (s)=%{x}<br>Average Swing Duration (s)=%{y}<br>Average Step Velocity X at Stance (m/s)=%{z}<extra></extra>",
         "hovertext": [
          "Mouse48",
          "Mouse48"
         ],
         "legendgroup": "Mouse48",
         "marker": {
          "color": "blue",
          "line": {
           "color": "black",
           "width": 1
          },
          "size": 3,
          "symbol": "circle"
         },
         "mode": "markers",
         "name": "Mouse48",
         "scene": "scene",
         "showlegend": true,
         "type": "scatter3d",
         "x": {
          "bdata": "zYNnoTZLuz9k1twJReO2Pw==",
          "dtype": "f8"
         },
         "y": {
          "bdata": "I0MJdF/Pvj8PbfvfH9+5Pw==",
          "dtype": "f8"
         },
         "z": {
          "bdata": "B3r4wMPKgL+1YEmgG/ioPw==",
          "dtype": "f8"
         }
        },
        {
         "hovertemplate": "<b>%{hovertext}</b><br><br>Mouse=Mouse50<br>Average Stance Duration (s)=%{x}<br>Average Swing Duration (s)=%{y}<br>Average Step Velocity X at Stance (m/s)=%{z}<extra></extra>",
         "hovertext": [
          "Mouse50",
          "Mouse50"
         ],
         "legendgroup": "Mouse50",
         "marker": {
          "color": "blue",
          "line": {
           "color": "black",
           "width": 1
          },
          "size": 3,
          "symbol": "circle"
         },
         "mode": "markers",
         "name": "Mouse50",
         "scene": "scene",
         "showlegend": true,
         "type": "scatter3d",
         "x": {
          "bdata": "li9NHMZquz/7/fGdUTu/Pw==",
          "dtype": "f8"
         },
         "y": {
          "bdata": "7XhOJQUkvD/V2vviNHK/Pw==",
          "dtype": "f8"
         },
         "z": {
          "bdata": "FEW32pGzdT/Mf/8xDUyXvw==",
          "dtype": "f8"
         }
        },
        {
         "hovertemplate": "<b>%{hovertext}</b><br><br>Mouse=Mouse52<br>Average Stance Duration (s)=%{x}<br>Average Swing Duration (s)=%{y}<br>Average Step Velocity X at Stance (m/s)=%{z}<extra></extra>",
         "hovertext": [
          "Mouse52",
          "Mouse52"
         ],
         "legendgroup": "Mouse52",
         "marker": {
          "color": "blue",
          "line": {
           "color": "black",
           "width": 1
          },
          "size": 3,
          "symbol": "circle"
         },
         "mode": "markers",
         "name": "Mouse52",
         "scene": "scene",
         "showlegend": true,
         "type": "scatter3d",
         "x": {
          "bdata": "GdjoXZH5sj8BSPjJhairPw==",
          "dtype": "f8"
         },
         "y": {
          "bdata": "pICEn1yIwj95aeIwVlu/Pw==",
          "dtype": "f8"
         },
         "z": {
          "bdata": "U8emyFmgnz+HtGsXhmSJPw==",
          "dtype": "f8"
         }
        },
        {
         "hovertemplate": "<b>%{hovertext}</b><br><br>Mouse=Mouse54<br>Average Stance Duration (s)=%{x}<br>Average Swing Duration (s)=%{y}<br>Average Step Velocity X at Stance (m/s)=%{z}<extra></extra>",
         "hovertext": [
          "Mouse54",
          "Mouse54"
         ],
         "legendgroup": "Mouse54",
         "marker": {
          "color": "blue",
          "line": {
           "color": "black",
           "width": 1
          },
          "size": 3,
          "symbol": "circle"
         },
         "mode": "markers",
         "name": "Mouse54",
         "scene": "scene",
         "showlegend": true,
         "type": "scatter3d",
         "x": {
          "bdata": "MHEYq62/vT+Iz6y5E4q2Pw==",
          "dtype": "f8"
         },
         "y": {
          "bdata": "qq2/PbDRuz8BJPzkQtS9Pw==",
          "dtype": "f8"
         },
         "z": {
          "bdata": "OctLVv5wWr9XAg/mifZyPw==",
          "dtype": "f8"
         }
        },
        {
         "hovertemplate": "<b>%{hovertext}</b><br><br>Mouse=Mouse56<br>Average Stance Duration (s)=%{x}<br>Average Swing Duration (s)=%{y}<br>Average Step Velocity X at Stance (m/s)=%{z}<extra></extra>",
         "hovertext": [
          "Mouse56",
          "Mouse56"
         ],
         "legendgroup": "Mouse56",
         "marker": {
          "color": "blue",
          "line": {
           "color": "black",
           "width": 1
          },
          "size": 3,
          "symbol": "circle"
         },
         "mode": "markers",
         "name": "Mouse56",
         "scene": "scene",
         "showlegend": true,
         "type": "scatter3d",
         "x": {
          "bdata": "+7vwYXolwz/2PBHff+W8Pw==",
          "dtype": "f8"
         },
         "y": {
          "bdata": "+fCWIOQ8uj/RaX4O/5K+Pw==",
          "dtype": "f8"
         },
         "z": {
          "bdata": "h8FzyzGutj/zr43IZdeQPw==",
          "dtype": "f8"
         }
        },
        {
         "hovertemplate": "<b>%{hovertext}</b><br><br>Mouse=Mouse58<br>Average Stance Duration (s)=%{x}<br>Average Swing Duration (s)=%{y}<br>Average Step Velocity X at Stance (m/s)=%{z}<extra></extra>",
         "hovertext": [
          "Mouse58",
          "Mouse58"
         ],
         "legendgroup": "Mouse58",
         "marker": {
          "color": "blue",
          "line": {
           "color": "black",
           "width": 1
          },
          "size": 3,
          "symbol": "circle"
         },
         "mode": "markers",
         "name": "Mouse58",
         "scene": "scene",
         "showlegend": true,
         "type": "scatter3d",
         "x": {
          "bdata": "lDiM1dbfvj+uKYotperAPw==",
          "dtype": "f8"
         },
         "y": {
          "bdata": "0/kHayAWvj8CRyQxiwG+Pw==",
          "dtype": "f8"
         },
         "z": {
          "bdata": "IlU6ImMag7/DSfn46qOWPw==",
          "dtype": "f8"
         }
        },
        {
         "hovertemplate": "<b>%{hovertext}</b><br><br>Mouse=Mouse60<br>Average Stance Duration (s)=%{x}<br>Average Swing Duration (s)=%{y}<br>Average Step Velocity X at Stance (m/s)=%{z}<extra></extra>",
         "hovertext": [
          "Mouse60",
          "Mouse60"
         ],
         "legendgroup": "Mouse60",
         "marker": {
          "color": "blue",
          "line": {
           "color": "black",
           "width": 1
          },
          "size": 3,
          "symbol": "circle"
         },
         "mode": "markers",
         "name": "Mouse60",
         "scene": "scene",
         "showlegend": true,
         "type": "scatter3d",
         "x": {
          "bdata": "icBD2vfGwD9zPKeSAhK+Pw==",
          "dtype": "f8"
         },
         "y": {
          "bdata": "fpDzqJ5Wvj8Slhq6Fp+5Pw==",
          "dtype": "f8"
         },
         "z": {
          "bdata": "p1ZqpZY/tb8kA+N3L9mhPw==",
          "dtype": "f8"
         }
        },
        {
         "hovertemplate": "<b>%{hovertext}</b><br><br>Mouse=Mouse62<br>Average Stance Duration (s)=%{x}<br>Average Swing Duration (s)=%{y}<br>Average Step Velocity X at Stance (m/s)=%{z}<extra></extra>",
         "hovertext": [
          "Mouse62",
          "Mouse62"
         ],
         "legendgroup": "Mouse62",
         "marker": {
          "color": "blue",
          "line": {
           "color": "black",
           "width": 1
          },
          "size": 3,
          "symbol": "circle"
         },
         "mode": "markers",
         "name": "Mouse62",
         "scene": "scene",
         "showlegend": true,
         "type": "scatter3d",
         "x": {
          "bdata": "2frbAxu9uz+k0OeJ+P67Pw==",
          "dtype": "f8"
         },
         "y": {
          "bdata": "ilGhzxPxvT/sVSbZvPa7Pw==",
          "dtype": "f8"
         },
         "z": {
          "bdata": "RS7Q/tY5ib+pJKUMFDdpvw==",
          "dtype": "f8"
         }
        },
        {
         "hovertemplate": "<b>%{hovertext}</b><br><br>Mouse=Mouse64<br>Average Stance Duration (s)=%{x}<br>Average Swing Duration (s)=%{y}<br>Average Step Velocity X at Stance (m/s)=%{z}<extra></extra>",
         "hovertext": [
          "Mouse64",
          "Mouse64"
         ],
         "legendgroup": "Mouse64",
         "marker": {
          "color": "blue",
          "line": {
           "color": "black",
           "width": 1
          },
          "size": 3,
          "symbol": "circle"
         },
         "mode": "markers",
         "name": "Mouse64",
         "scene": "scene",
         "showlegend": true,
         "type": "scatter3d",
         "x": {
          "bdata": "vD9sPY9luz9tHtXTyouyPw==",
          "dtype": "f8"
         },
         "y": {
          "bdata": "yD2mtEyovD9qAxiomCy4Pw==",
          "dtype": "f8"
         },
         "z": {
          "bdata": "2IREnKf1er8IjJk8eq6sPw==",
          "dtype": "f8"
         }
        },
        {
         "hovertemplate": "<b>%{hovertext}</b><br><br>Mouse=Mouse66<br>Average Stance Duration (s)=%{x}<br>Average Swing Duration (s)=%{y}<br>Average Step Velocity X at Stance (m/s)=%{z}<extra></extra>",
         "hovertext": [
          "Mouse66",
          "Mouse66"
         ],
         "legendgroup": "Mouse66",
         "marker": {
          "color": "blue",
          "line": {
           "color": "black",
           "width": 1
          },
          "size": 3,
          "symbol": "circle"
         },
         "mode": "markers",
         "name": "Mouse66",
         "scene": "scene",
         "showlegend": true,
         "type": "scatter3d",
         "x": {
          "bdata": "0T0XCabwuj+FrsVn1ty5Pw==",
          "dtype": "f8"
         },
         "y": {
          "bdata": "wZZSdWgOuD8FGKiYLDi5Pw==",
          "dtype": "f8"
         },
         "z": {
          "bdata": "P8gPlM8KqT8AumERX2STPw==",
          "dtype": "f8"
         }
        },
        {
         "hovertemplate": "<b>%{hovertext}</b><br><br>Mouse=Mouse68<br>Average Stance Duration (s)=%{x}<br>Average Swing Duration (s)=%{y}<br>Average Step Velocity X at Stance (m/s)=%{z}<extra></extra>",
         "hovertext": [
          "Mouse68",
          "Mouse68"
         ],
         "legendgroup": "Mouse68",
         "marker": {
          "color": "blue",
          "line": {
           "color": "black",
           "width": 1
          },
          "size": 3,
          "symbol": "circle"
         },
         "mode": "markers",
         "name": "Mouse68",
         "scene": "scene",
         "showlegend": true,
         "type": "scatter3d",
         "x": {
          "bdata": "BOjIuywQtT/tW1D/x0S+Pw==",
          "dtype": "f8"
         },
         "y": {
          "bdata": "Idt4Yl/juD+YhdosbS+/Pw==",
          "dtype": "f8"
         },
         "z": {
          "bdata": "JCuVGlItwj88zRCaOMxIPw==",
          "dtype": "f8"
         }
        },
        {
         "hovertemplate": "<b>%{hovertext}</b><br><br>Mouse=Mouse70<br>Average Stance Duration (s)=%{x}<br>Average Swing Duration (s)=%{y}<br>Average Step Velocity X at Stance (m/s)=%{z}<extra></extra>",
         "hovertext": [
          "Mouse70",
          "Mouse70"
         ],
         "legendgroup": "Mouse70",
         "marker": {
          "color": "blue",
          "line": {
           "color": "black",
           "width": 1
          },
          "size": 3,
          "symbol": "circle"
         },
         "mode": "markers",
         "name": "Mouse70",
         "scene": "scene",
         "showlegend": true,
         "type": "scatter3d",
         "x": {
          "bdata": "J61V8TL+vD/6pl1cUxS7Pw==",
          "dtype": "f8"
         },
         "y": {
          "bdata": "b4L3KpNsvj9umcsqxf25Pw==",
          "dtype": "f8"
         },
         "z": {
          "bdata": "K8L24m21dz9e4C8xhhiEvw==",
          "dtype": "f8"
         }
        },
        {
         "hovertemplate": "<b>%{hovertext}</b><br><br>Mouse=Mouse72<br>Average Stance Duration (s)=%{x}<br>Average Swing Duration (s)=%{y}<br>Average Step Velocity X at Stance (m/s)=%{z}<extra></extra>",
         "hovertext": [
          "Mouse72",
          "Mouse72"
         ],
         "legendgroup": "Mouse72",
         "marker": {
          "color": "blue",
          "line": {
           "color": "black",
           "width": 1
          },
          "size": 3,
          "symbol": "circle"
         },
         "mode": "markers",
         "name": "Mouse72",
         "scene": "scene",
         "showlegend": true,
         "type": "scatter3d",
         "x": {
          "bdata": "quAkAg9prz+9NHEYq62vPw==",
          "dtype": "f8"
         },
         "y": {
          "bdata": "af3tgY3etT8f4ScXom62Pw==",
          "dtype": "f8"
         },
         "z": {
          "bdata": "Qg2rVBNlxz/a6lKfypW+Pw==",
          "dtype": "f8"
         }
        },
        {
         "hovertemplate": "<b>%{hovertext}</b><br><br>Mouse=Mouse74<br>Average Stance Duration (s)=%{x}<br>Average Swing Duration (s)=%{y}<br>Average Step Velocity X at Stance (m/s)=%{z}<extra></extra>",
         "hovertext": [
          "Mouse74",
          "Mouse74"
         ],
         "legendgroup": "Mouse74",
         "marker": {
          "color": "blue",
          "line": {
           "color": "black",
           "width": 1
          },
          "size": 3,
          "symbol": "circle"
         },
         "mode": "markers",
         "name": "Mouse74",
         "scene": "scene",
         "showlegend": true,
         "type": "scatter3d",
         "x": {
          "bdata": "g5XNDDUqtT8tmCkj9rqsPw==",
          "dtype": "f8"
         },
         "y": {
          "bdata": "c+nPioL/tz8AD2nfG8O1Pw==",
          "dtype": "f8"
         },
         "z": {
          "bdata": "bEl370t2sD8DH7MnNGHBPw==",
          "dtype": "f8"
         }
        },
        {
         "hovertemplate": "<b>%{hovertext}</b><br><br>Mouse=Mouse76<br>Average Stance Duration (s)=%{x}<br>Average Swing Duration (s)=%{y}<br>Average Step Velocity X at Stance (m/s)=%{z}<extra></extra>",
         "hovertext": [
          "Mouse76",
          "Mouse76"
         ],
         "legendgroup": "Mouse76",
         "marker": {
          "color": "blue",
          "line": {
           "color": "black",
           "width": 1
          },
          "size": 3,
          "symbol": "circle"
         },
         "mode": "markers",
         "name": "Mouse76",
         "scene": "scene",
         "showlegend": true,
         "type": "scatter3d",
         "x": {
          "bdata": "vNZ45+0atj8S4g/qegqxPw==",
          "dtype": "f8"
         },
         "y": {
          "bdata": "x8ONE7xXuT/jKHDJoOq1Pw==",
          "dtype": "f8"
         },
         "z": {
          "bdata": "ZVGU2uz7oT8ACFCJ5wGnPw==",
          "dtype": "f8"
         }
        },
        {
         "hovertemplate": "<b>%{hovertext}</b><br><br>Mouse=Mouse78<br>Average Stance Duration (s)=%{x}<br>Average Swing Duration (s)=%{y}<br>Average Step Velocity X at Stance (m/s)=%{z}<extra></extra>",
         "hovertext": [
          "Mouse78",
          "Mouse78"
         ],
         "legendgroup": "Mouse78",
         "marker": {
          "color": "blue",
          "line": {
           "color": "black",
           "width": 1
          },
          "size": 3,
          "symbol": "circle"
         },
         "mode": "markers",
         "name": "Mouse78",
         "scene": "scene",
         "showlegend": true,
         "type": "scatter3d",
         "x": {
          "bdata": "G0t0lHWdtD8qJgtOIvCwPw==",
          "dtype": "f8"
         },
         "y": {
          "bdata": "uU5aq+JlvD8Slhq6Fp+5Pw==",
          "dtype": "f8"
         },
         "z": {
          "bdata": "luX1TYfzuD95HrQO2IOzPw==",
          "dtype": "f8"
         }
        },
        {
         "hovertemplate": "<b>%{hovertext}</b><br><br>Mouse=Mouse80<br>Average Stance Duration (s)=%{x}<br>Average Swing Duration (s)=%{y}<br>Average Step Velocity X at Stance (m/s)=%{z}<extra></extra>",
         "hovertext": [
          "Mouse80",
          "Mouse80"
         ],
         "legendgroup": "Mouse80",
         "marker": {
          "color": "blue",
          "line": {
           "color": "black",
           "width": 1
          },
          "size": 3,
          "symbol": "circle"
         },
         "mode": "markers",
         "name": "Mouse80",
         "scene": "scene",
         "showlegend": true,
         "type": "scatter3d",
         "x": {
          "bdata": "0P+QGwrZsz/iF0t+seS3Pw==",
          "dtype": "f8"
         },
         "y": {
          "bdata": "Mt3nDc+EuD9PFpIncae2Pw==",
          "dtype": "f8"
         },
         "z": {
          "bdata": "9ZVgCRZhpj9i9kvmlYqEPw==",
          "dtype": "f8"
         }
        },
        {
         "hovertemplate": "<b>%{hovertext}</b><br><br>Mouse=Mouse82<br>Average Stance Duration (s)=%{x}<br>Average Swing Duration (s)=%{y}<br>Average Step Velocity X at Stance (m/s)=%{z}<extra></extra>",
         "hovertext": [
          "Mouse82",
          "Mouse82"
         ],
         "legendgroup": "Mouse82",
         "marker": {
          "color": "blue",
          "line": {
           "color": "black",
           "width": 1
          },
          "size": 3,
          "symbol": "circle"
         },
         "mode": "markers",
         "name": "Mouse82",
         "scene": "scene",
         "showlegend": true,
         "type": "scatter3d",
         "x": {
          "bdata": "pwij22c9tD99e2Cjd0W2Pw==",
          "dtype": "f8"
         },
         "y": {
          "bdata": "PuZLE4exuj+qrb89sNG7Pw==",
          "dtype": "f8"
         },
         "z": {
          "bdata": "U2yS84Wikj/hJ/mmLV6tPw==",
          "dtype": "f8"
         }
        },
        {
         "hovertemplate": "<b>%{hovertext}</b><br><br>Mouse=Mouse84<br>Average Stance Duration (s)=%{x}<br>Average Swing Duration (s)=%{y}<br>Average Step Velocity X at Stance (m/s)=%{z}<extra></extra>",
         "hovertext": [
          "Mouse84",
          "Mouse84"
         ],
         "legendgroup": "Mouse84",
         "marker": {
          "color": "blue",
          "line": {
           "color": "black",
           "width": 1
          },
          "size": 3,
          "symbol": "circle"
         },
         "mode": "markers",
         "name": "Mouse84",
         "scene": "scene",
         "showlegend": true,
         "type": "scatter3d",
         "x": {
          "bdata": "8ABtYRDZtT+NevNBZ2ywPw==",
          "dtype": "f8"
         },
         "y": {
          "bdata": "kpmZmZmZuT8tzPtIZSu2Pw==",
          "dtype": "f8"
         },
         "z": {
          "bdata": "tvGlyyEMqD+m2oei7ny1Pw==",
          "dtype": "f8"
         }
        },
        {
         "hovertemplate": "<b>%{hovertext}</b><br><br>Mouse=Mouse86<br>Average Stance Duration (s)=%{x}<br>Average Swing Duration (s)=%{y}<br>Average Step Velocity X at Stance (m/s)=%{z}<extra></extra>",
         "hovertext": [
          "Mouse86",
          "Mouse86"
         ],
         "legendgroup": "Mouse86",
         "marker": {
          "color": "blue",
          "line": {
           "color": "black",
           "width": 1
          },
          "size": 3,
          "symbol": "circle"
         },
         "mode": "markers",
         "name": "Mouse86",
         "scene": "scene",
         "showlegend": true,
         "type": "scatter3d",
         "x": {
          "bdata": "L2O2/OheuD/QnVA0bgO4Pw==",
          "dtype": "f8"
         },
         "y": {
          "bdata": "r/nTy5IDuT+ciO+/clbAPw==",
          "dtype": "f8"
         },
         "z": {
          "bdata": "qopP9bcVjz/+uBe75gV7Pw==",
          "dtype": "f8"
         }
        },
        {
         "hovertemplate": "<b>%{hovertext}</b><br><br>Mouse=Mouse88<br>Average Stance Duration (s)=%{x}<br>Average Swing Duration (s)=%{y}<br>Average Step Velocity X at Stance (m/s)=%{z}<extra></extra>",
         "hovertext": [
          "Mouse88",
          "Mouse88"
         ],
         "legendgroup": "Mouse88",
         "marker": {
          "color": "blue",
          "line": {
           "color": "black",
           "width": 1
          },
          "size": 3,
          "symbol": "circle"
         },
         "mode": "markers",
         "name": "Mouse88",
         "scene": "scene",
         "showlegend": true,
         "type": "scatter3d",
         "x": {
          "bdata": "TQsckcQstj+dcRvAQMW0Pw==",
          "dtype": "f8"
         },
         "y": {
          "bdata": "UhRbStWhuT8rO55TSQG5Pw==",
          "dtype": "f8"
         },
         "z": {
          "bdata": "Bxpo+KTNnj91y/VmtnqnPw==",
          "dtype": "f8"
         }
        },
        {
         "hovertemplate": "<b>%{hovertext}</b><br><br>Mouse=Mouse90<br>Average Stance Duration (s)=%{x}<br>Average Swing Duration (s)=%{y}<br>Average Step Velocity X at Stance (m/s)=%{z}<extra></extra>",
         "hovertext": [
          "Mouse90",
          "Mouse90"
         ],
         "legendgroup": "Mouse90",
         "marker": {
          "color": "blue",
          "line": {
           "color": "black",
           "width": 1
          },
          "size": 3,
          "symbol": "circle"
         },
         "mode": "markers",
         "name": "Mouse90",
         "scene": "scene",
         "showlegend": true,
         "type": "scatter3d",
         "x": {
          "bdata": "DdZALJyrtz9YfGbNnVC0Pw==",
          "dtype": "f8"
         },
         "y": {
          "bdata": "7HIk//nVuT/unEoKSPi5Pw==",
          "dtype": "f8"
         },
         "z": {
          "bdata": "Ogra/idVmT+kjsszMcSlPw==",
          "dtype": "f8"
         }
        },
        {
         "hovertemplate": "<b>%{hovertext}</b><br><br>Mouse=Mouse100<br>Average Stance Duration (s)=%{x}<br>Average Swing Duration (s)=%{y}<br>Average Step Velocity X at Stance (m/s)=%{z}<extra></extra>",
         "hovertext": [
          "Mouse100",
          "Mouse100"
         ],
         "legendgroup": "Mouse100",
         "marker": {
          "color": "blue",
          "line": {
           "color": "black",
           "width": 1
          },
          "size": 3,
          "symbol": "circle"
         },
         "mode": "markers",
         "name": "Mouse100",
         "scene": "scene",
         "showlegend": true,
         "type": "scatter3d",
         "x": {
          "bdata": "UmXFZch6uz+wzJgtP7qnPw==",
          "dtype": "f8"
         },
         "y": {
          "bdata": "W5YcyHhNvj/QuhvCTiezPw==",
          "dtype": "f8"
         },
         "z": {
          "bdata": "k4CO03qAwj/XcL7LU6vLPw==",
          "dtype": "f8"
         }
        },
        {
         "hovertemplate": "<b>%{hovertext}</b><br><br>Mouse=Mouse102<br>Average Stance Duration (s)=%{x}<br>Average Swing Duration (s)=%{y}<br>Average Step Velocity X at Stance (m/s)=%{z}<extra></extra>",
         "hovertext": [
          "Mouse102",
          "Mouse102"
         ],
         "legendgroup": "Mouse102",
         "marker": {
          "color": "blue",
          "line": {
           "color": "black",
           "width": 1
          },
          "size": 3,
          "symbol": "circle"
         },
         "mode": "markers",
         "name": "Mouse102",
         "scene": "scene",
         "showlegend": true,
         "type": "scatter3d",
         "x": {
          "bdata": "uxituyHsxD8y3GtZ2FC8Pw==",
          "dtype": "f8"
         },
         "y": {
          "bdata": "73ZAw1Zfuz8/zJUYrLTAPw==",
          "dtype": "f8"
         },
         "z": {
          "bdata": "rv13GTFMtT+3o8VUZBu5Pw==",
          "dtype": "f8"
         }
        },
        {
         "hovertemplate": "<b>%{hovertext}</b><br><br>Mouse=Mouse104<br>Average Stance Duration (s)=%{x}<br>Average Swing Duration (s)=%{y}<br>Average Step Velocity X at Stance (m/s)=%{z}<extra></extra>",
         "hovertext": [
          "Mouse104",
          "Mouse104"
         ],
         "legendgroup": "Mouse104",
         "marker": {
          "color": "blue",
          "line": {
           "color": "black",
           "width": 1
          },
          "size": 3,
          "symbol": "circle"
         },
         "mode": "markers",
         "name": "Mouse104",
         "scene": "scene",
         "showlegend": true,
         "type": "scatter3d",
         "x": {
          "bdata": "SQ9r7X1xuj+Q86ieVl60Pw==",
          "dtype": "f8"
         },
         "y": {
          "bdata": "lTBUTR3Nuz9iux/eEoS8Pw==",
          "dtype": "f8"
         },
         "z": {
          "bdata": "1L6/K1LJmT9rfG5YRH6aPw==",
          "dtype": "f8"
         }
        },
        {
         "hovertemplate": "<b>%{hovertext}</b><br><br>Mouse=Mouse106<br>Average Stance Duration (s)=%{x}<br>Average Swing Duration (s)=%{y}<br>Average Step Velocity X at Stance (m/s)=%{z}<extra></extra>",
         "hovertext": [
          "Mouse106",
          "Mouse106"
         ],
         "legendgroup": "Mouse106",
         "marker": {
          "color": "blue",
          "line": {
           "color": "black",
           "width": 1
          },
          "size": 3,
          "symbol": "circle"
         },
         "mode": "markers",
         "name": "Mouse106",
         "scene": "scene",
         "showlegend": true,
         "type": "scatter3d",
         "x": {
          "bdata": "DLl1nruHvD/h3KMUKsC6Pw==",
          "dtype": "f8"
         },
         "y": {
          "bdata": "bHaj3nzQuT8OJZ3l4L+4Pw==",
          "dtype": "f8"
         },
         "z": {
          "bdata": "RhnCC5zOmD+Oha4S2W2xPw==",
          "dtype": "f8"
         }
        },
        {
         "hovertemplate": "<b>%{hovertext}</b><br><br>Mouse=Mouse108<br>Average Stance Duration (s)=%{x}<br>Average Swing Duration (s)=%{y}<br>Average Step Velocity X at Stance (m/s)=%{z}<extra></extra>",
         "hovertext": [
          "Mouse108",
          "Mouse108"
         ],
         "legendgroup": "Mouse108",
         "marker": {
          "color": "blue",
          "line": {
           "color": "black",
           "width": 1
          },
          "size": 3,
          "symbol": "circle"
         },
         "mode": "markers",
         "name": "Mouse108",
         "scene": "scene",
         "showlegend": true,
         "type": "scatter3d",
         "x": {
          "bdata": "kiQAAQcxtz+mm0HLjue0Pw==",
          "dtype": "f8"
         },
         "y": {
          "bdata": "eVuAgpH6uT/FfGniMFa7Pw==",
          "dtype": "f8"
         },
         "z": {
          "bdata": "+cn1sTT7vz+piIAxNDmxPw==",
          "dtype": "f8"
         }
        },
        {
         "hovertemplate": "<b>%{hovertext}</b><br><br>Mouse=Mouse110<br>Average Stance Duration (s)=%{x}<br>Average Swing Duration (s)=%{y}<br>Average Step Velocity X at Stance (m/s)=%{z}<extra></extra>",
         "hovertext": [
          "Mouse110",
          "Mouse110"
         ],
         "legendgroup": "Mouse110",
         "marker": {
          "color": "blue",
          "line": {
           "color": "black",
           "width": 1
          },
          "size": 3,
          "symbol": "circle"
         },
         "mode": "markers",
         "name": "Mouse110",
         "scene": "scene",
         "showlegend": true,
         "type": "scatter3d",
         "x": {
          "bdata": "WG397YGNvj+lq7HbAQ27Pw==",
          "dtype": "f8"
         },
         "y": {
          "bdata": "tQlE3AUpvz/LsdwIPrK/Pw==",
          "dtype": "f8"
         },
         "z": {
          "bdata": "UVPx0IoHpz8wsl8FrY6rPw==",
          "dtype": "f8"
         }
        },
        {
         "hovertemplate": "<b>%{hovertext}</b><br><br>Mouse=Mouse112<br>Average Stance Duration (s)=%{x}<br>Average Swing Duration (s)=%{y}<br>Average Step Velocity X at Stance (m/s)=%{z}<extra></extra>",
         "hovertext": [
          "Mouse112",
          "Mouse112"
         ],
         "legendgroup": "Mouse112",
         "marker": {
          "color": "blue",
          "line": {
           "color": "black",
           "width": 1
          },
          "size": 3,
          "symbol": "circle"
         },
         "mode": "markers",
         "name": "Mouse112",
         "scene": "scene",
         "showlegend": true,
         "type": "scatter3d",
         "x": {
          "bdata": "K0oHM2XEvj+hisqJxF++Pw==",
          "dtype": "f8"
         },
         "y": {
          "bdata": "hL0uR/Kfvz/c//74zqi9Pw==",
          "dtype": "f8"
         },
         "z": {
          "bdata": "9U6W1VZXpT+d6jGnW+2yPw==",
          "dtype": "f8"
         }
        },
        {
         "hovertemplate": "<b>%{hovertext}</b><br><br>Mouse=Mouse114<br>Average Stance Duration (s)=%{x}<br>Average Swing Duration (s)=%{y}<br>Average Step Velocity X at Stance (m/s)=%{z}<extra></extra>",
         "hovertext": [
          "Mouse114",
          "Mouse114"
         ],
         "legendgroup": "Mouse114",
         "marker": {
          "color": "blue",
          "line": {
           "color": "black",
           "width": 1
          },
          "size": 3,
          "symbol": "circle"
         },
         "mode": "markers",
         "name": "Mouse114",
         "scene": "scene",
         "showlegend": true,
         "type": "scatter3d",
         "x": {
          "bdata": "//nV2fSxvT+z7X9/fGe0Pw==",
          "dtype": "f8"
         },
         "y": {
          "bdata": "L0brbgg7vT/iSQUlAxa6Pw==",
          "dtype": "f8"
         },
         "z": {
          "bdata": "L7HilNE2pD83kdtLHTCnPw==",
          "dtype": "f8"
         }
        },
        {
         "hovertemplate": "<b>%{hovertext}</b><br><br>Mouse=Mouse116<br>Average Stance Duration (s)=%{x}<br>Average Swing Duration (s)=%{y}<br>Average Step Velocity X at Stance (m/s)=%{z}<extra></extra>",
         "hovertext": [
          "Mouse116",
          "Mouse116"
         ],
         "legendgroup": "Mouse116",
         "marker": {
          "color": "blue",
          "line": {
           "color": "black",
           "width": 1
          },
          "size": 3,
          "symbol": "circle"
         },
         "mode": "markers",
         "name": "Mouse116",
         "scene": "scene",
         "showlegend": true,
         "type": "scatter3d",
         "x": {
          "bdata": "CNNeMfM/uT8QT/aIi527Pw==",
          "dtype": "f8"
         },
         "y": {
          "bdata": "9hsqjUI4wD/s572XjD68Pw==",
          "dtype": "f8"
         },
         "z": {
          "bdata": "UghuFDPohz/vEiPoHhPSPw==",
          "dtype": "f8"
         }
        },
        {
         "hovertemplate": "<b>%{hovertext}</b><br><br>Mouse=Mouse118<br>Average Stance Duration (s)=%{x}<br>Average Swing Duration (s)=%{y}<br>Average Step Velocity X at Stance (m/s)=%{z}<extra></extra>",
         "hovertext": [
          "Mouse118",
          "Mouse118"
         ],
         "legendgroup": "Mouse118",
         "marker": {
          "color": "blue",
          "line": {
           "color": "black",
           "width": 1
          },
          "size": 3,
          "symbol": "circle"
         },
         "mode": "markers",
         "name": "Mouse118",
         "scene": "scene",
         "showlegend": true,
         "type": "scatter3d",
         "x": {
          "bdata": "Mm8KSf/6vD+v8ZtD2fC1Pw==",
          "dtype": "f8"
         },
         "y": {
          "bdata": "9Ky6GrsdwD8ua+6EonG7Pw==",
          "dtype": "f8"
         },
         "z": {
          "bdata": "ewpqlo9lnT8YTRPcjva5Pw==",
          "dtype": "f8"
         }
        },
        {
         "hovertemplate": "<b>%{hovertext}</b><br><br>Mouse=Mouse120<br>Average Stance Duration (s)=%{x}<br>Average Swing Duration (s)=%{y}<br>Average Step Velocity X at Stance (m/s)=%{z}<extra></extra>",
         "hovertext": [
          "Mouse120",
          "Mouse120"
         ],
         "legendgroup": "Mouse120",
         "marker": {
          "color": "blue",
          "line": {
           "color": "black",
           "width": 1
          },
          "size": 3,
          "symbol": "circle"
         },
         "mode": "markers",
         "name": "Mouse120",
         "scene": "scene",
         "showlegend": true,
         "type": "scatter3d",
         "x": {
          "bdata": "CV2Lz6y5sz9tHtXTyouyPw==",
          "dtype": "f8"
         },
         "y": {
          "bdata": "Tzymi9G6uz/fRelgpoy4Pw==",
          "dtype": "f8"
         },
         "z": {
          "bdata": "MhXRwhEQyD83Pj+DRvvDPw==",
          "dtype": "f8"
         }
        },
        {
         "hovertemplate": "<b>%{hovertext}</b><br><br>Mouse=Mouse122<br>Average Stance Duration (s)=%{x}<br>Average Swing Duration (s)=%{y}<br>Average Step Velocity X at Stance (m/s)=%{z}<extra></extra>",
         "hovertext": [
          "Mouse122",
          "Mouse122"
         ],
         "legendgroup": "Mouse122",
         "marker": {
          "color": "blue",
          "line": {
           "color": "black",
           "width": 1
          },
          "size": 3,
          "symbol": "circle"
         },
         "mode": "markers",
         "name": "Mouse122",
         "scene": "scene",
         "showlegend": true,
         "type": "scatter3d",
         "x": {
          "bdata": "3+Ycl+5SwT9Ybf3tgY2+Pw==",
          "dtype": "f8"
         },
         "y": {
          "bdata": "WAOxcK5ewD+ClyQAAQfBPw==",
          "dtype": "f8"
         },
         "z": {
          "bdata": "Pg4L4ugPtD+40OxHE9K2Pw==",
          "dtype": "f8"
         }
        },
        {
         "hovertemplate": "<b>%{hovertext}</b><br><br>Mouse=Mouse124<br>Average Stance Duration (s)=%{x}<br>Average Swing Duration (s)=%{y}<br>Average Step Velocity X at Stance (m/s)=%{z}<extra></extra>",
         "hovertext": [
          "Mouse124",
          "Mouse124"
         ],
         "legendgroup": "Mouse124",
         "marker": {
          "color": "blue",
          "line": {
           "color": "black",
           "width": 1
          },
          "size": 3,
          "symbol": "circle"
         },
         "mode": "markers",
         "name": "Mouse124",
         "scene": "scene",
         "showlegend": true,
         "type": "scatter3d",
         "x": {
          "bdata": "Zb87om8Nvj/3jHTJG1y+Pw==",
          "dtype": "f8"
         },
         "y": {
          "bdata": "KCHoWG4Evz8QT/aIi527Pw==",
          "dtype": "f8"
         },
         "z": {
          "bdata": "pJjrgl69sD+bgnW6tzesPw==",
          "dtype": "f8"
         }
        },
        {
         "hovertemplate": "<b>%{hovertext}</b><br><br>Mouse=Mouse126<br>Average Stance Duration (s)=%{x}<br>Average Swing Duration (s)=%{y}<br>Average Step Velocity X at Stance (m/s)=%{z}<extra></extra>",
         "hovertext": [
          "Mouse126",
          "Mouse126"
         ],
         "legendgroup": "Mouse126",
         "marker": {
          "color": "blue",
          "line": {
           "color": "black",
           "width": 1
          },
          "size": 3,
          "symbol": "circle"
         },
         "mode": "markers",
         "name": "Mouse126",
         "scene": "scene",
         "showlegend": true,
         "type": "scatter3d",
         "x": {
          "bdata": "7K304247wz9xGrkPbgLBPw==",
          "dtype": "f8"
         },
         "y": {
          "bdata": "KiYLTiLwwD8PdTNo2fG8Pw==",
          "dtype": "f8"
         },
         "z": {
          "bdata": "NXuLhqBUqz+KntHOLoKwPw==",
          "dtype": "f8"
         }
        },
        {
         "hovertemplate": "<b>%{hovertext}</b><br><br>Mouse=Mouse128<br>Average Stance Duration (s)=%{x}<br>Average Swing Duration (s)=%{y}<br>Average Step Velocity X at Stance (m/s)=%{z}<extra></extra>",
         "hovertext": [
          "Mouse128",
          "Mouse128"
         ],
         "legendgroup": "Mouse128",
         "marker": {
          "color": "blue",
          "line": {
           "color": "black",
           "width": 1
          },
          "size": 3,
          "symbol": "circle"
         },
         "mode": "markers",
         "name": "Mouse128",
         "scene": "scene",
         "showlegend": true,
         "type": "scatter3d",
         "x": {
          "bdata": "08ZvDmXDtz/V98ZwFZa6Pw==",
          "dtype": "f8"
         },
         "y": {
          "bdata": "fISfXIi6uT8Mad8bw1W4Pw==",
          "dtype": "f8"
         },
         "z": {
          "bdata": "8eKR50ievD9ZCKwc2h6ePw==",
          "dtype": "f8"
         }
        },
        {
         "hovertemplate": "<b>%{hovertext}</b><br><br>Mouse=Mouse130<br>Average Stance Duration (s)=%{x}<br>Average Swing Duration (s)=%{y}<br>Average Step Velocity X at Stance (m/s)=%{z}<extra></extra>",
         "hovertext": [
          "Mouse130",
          "Mouse130"
         ],
         "legendgroup": "Mouse130",
         "marker": {
          "color": "blue",
          "line": {
           "color": "black",
           "width": 1
          },
          "size": 3,
          "symbol": "circle"
         },
         "mode": "markers",
         "name": "Mouse130",
         "scene": "scene",
         "showlegend": true,
         "type": "scatter3d",
         "x": {
          "bdata": "KoXXF9opuD9evzuibw2+Pw==",
          "dtype": "f8"
         },
         "y": {
          "bdata": "c37bZjbjvD8+5ksTh7G6Pw==",
          "dtype": "f8"
         },
         "z": {
          "bdata": "Nb4cx6K7oT+Pwnbq+NaxPw==",
          "dtype": "f8"
         }
        },
        {
         "hovertemplate": "<b>%{hovertext}</b><br><br>Mouse=Mouse132<br>Average Stance Duration (s)=%{x}<br>Average Swing Duration (s)=%{y}<br>Average Step Velocity X at Stance (m/s)=%{z}<extra></extra>",
         "hovertext": [
          "Mouse132",
          "Mouse132"
         ],
         "legendgroup": "Mouse132",
         "marker": {
          "color": "blue",
          "line": {
           "color": "black",
           "width": 1
          },
          "size": 3,
          "symbol": "circle"
         },
         "mode": "markers",
         "name": "Mouse132",
         "scene": "scene",
         "showlegend": true,
         "type": "scatter3d",
         "x": {
          "bdata": "YAqvL7RTwD/EDwjSVwC8Pw==",
          "dtype": "f8"
         },
         "y": {
          "bdata": "8wzBrSZ1uj+SLDiJwEO6Pw==",
          "dtype": "f8"
         },
         "z": {
          "bdata": "PwNno0lxsz+NEpre8y6jPw==",
          "dtype": "f8"
         }
        },
        {
         "hovertemplate": "<b>%{hovertext}</b><br><br>Mouse=Mouse134<br>Average Stance Duration (s)=%{x}<br>Average Swing Duration (s)=%{y}<br>Average Step Velocity X at Stance (m/s)=%{z}<extra></extra>",
         "hovertext": [
          "Mouse134",
          "Mouse134"
         ],
         "legendgroup": "Mouse134",
         "marker": {
          "color": "blue",
          "line": {
           "color": "black",
           "width": 1
          },
          "size": 3,
          "symbol": "circle"
         },
         "mode": "markers",
         "name": "Mouse134",
         "scene": "scene",
         "showlegend": true,
         "type": "scatter3d",
         "x": {
          "bdata": "0bLjOZUUwD+4BSgYqZ+9Pw==",
          "dtype": "f8"
         },
         "y": {
          "bdata": "wzVFsaVUvT+YWXMnFI27Pw==",
          "dtype": "f8"
         },
         "z": {
          "bdata": "EBf3es3ijz+rS+xaq4uoPw==",
          "dtype": "f8"
         }
        },
        {
         "hovertemplate": "<b>%{hovertext}</b><br><br>Mouse=Mouse136<br>Average Stance Duration (s)=%{x}<br>Average Swing Duration (s)=%{y}<br>Average Step Velocity X at Stance (m/s)=%{z}<extra></extra>",
         "hovertext": [
          "Mouse136",
          "Mouse136"
         ],
         "legendgroup": "Mouse136",
         "marker": {
          "color": "blue",
          "line": {
           "color": "black",
           "width": 1
          },
          "size": 3,
          "symbol": "circle"
         },
         "mode": "markers",
         "name": "Mouse136",
         "scene": "scene",
         "showlegend": true,
         "type": "scatter3d",
         "x": {
          "bdata": "zncTVSCvxj+J1t0Qdjq5Pw==",
          "dtype": "f8"
         },
         "y": {
          "bdata": "PnnqAq5buz+F0sFMGbG3Pw==",
          "dtype": "f8"
         },
         "z": {
          "bdata": "mU5LxawRmj+moHcaWz20Pw==",
          "dtype": "f8"
         }
        },
        {
         "hovertemplate": "<b>%{hovertext}</b><br><br>Mouse=Mouse138<br>Average Stance Duration (s)=%{x}<br>Average Swing Duration (s)=%{y}<br>Average Step Velocity X at Stance (m/s)=%{z}<extra></extra>",
         "hovertext": [
          "Mouse138",
          "Mouse138"
         ],
         "legendgroup": "Mouse138",
         "marker": {
          "color": "blue",
          "line": {
           "color": "black",
           "width": 1
          },
          "size": 3,
          "symbol": "circle"
         },
         "mode": "markers",
         "name": "Mouse138",
         "scene": "scene",
         "showlegend": true,
         "type": "scatter3d",
         "x": {
          "bdata": "Agk/uRB1wz8+eeoCrlu7Pw==",
          "dtype": "f8"
         },
         "y": {
          "bdata": "UEkBCT+5wD8uifPbNrO5Pw==",
          "dtype": "f8"
         },
         "z": {
          "bdata": "X4oodJSIlD83TE6YFJWlPw==",
          "dtype": "f8"
         }
        },
        {
         "hovertemplate": "<b>%{hovertext}</b><br><br>Mouse=Mouse140<br>Average Stance Duration (s)=%{x}<br>Average Swing Duration (s)=%{y}<br>Average Step Velocity X at Stance (m/s)=%{z}<extra></extra>",
         "hovertext": [
          "Mouse140",
          "Mouse140"
         ],
         "legendgroup": "Mouse140",
         "marker": {
          "color": "blue",
          "line": {
           "color": "black",
           "width": 1
          },
          "size": 3,
          "symbol": "circle"
         },
         "mode": "markers",
         "name": "Mouse140",
         "scene": "scene",
         "showlegend": true,
         "type": "scatter3d",
         "x": {
          "bdata": "HrKrfkOlwT8yZ9LARei5Pw==",
          "dtype": "f8"
         },
         "y": {
          "bdata": "ulSE0e2zvj/R1t8e2Oi9Pw==",
          "dtype": "f8"
         },
         "z": {
          "bdata": "9lfjl47VfD9YuiqXBJO9Pw==",
          "dtype": "f8"
         }
        },
        {
         "hovertemplate": "<b>%{hovertext}</b><br><br>Mouse=Mouse142<br>Average Stance Duration (s)=%{x}<br>Average Swing Duration (s)=%{y}<br>Average Step Velocity X at Stance (m/s)=%{z}<extra></extra>",
         "hovertext": [
          "Mouse142",
          "Mouse142"
         ],
         "legendgroup": "Mouse142",
         "marker": {
          "color": "blue",
          "line": {
           "color": "black",
           "width": 1
          },
          "size": 3,
          "symbol": "circle"
         },
         "mode": "markers",
         "name": "Mouse142",
         "scene": "scene",
         "showlegend": true,
         "type": "scatter3d",
         "x": {
          "bdata": "+ellyYGMtz92Tyw2e161Pw==",
          "dtype": "f8"
         },
         "y": {
          "bdata": "SPKfX51Nvz8sQs+qq7G7Pw==",
          "dtype": "f8"
         },
         "z": {
          "bdata": "gSXCwv9dvj/P5P3Ch7i6Pw==",
          "dtype": "f8"
         }
        },
        {
         "hovertemplate": "<b>%{hovertext}</b><br><br>Mouse=Mouse144<br>Average Stance Duration (s)=%{x}<br>Average Swing Duration (s)=%{y}<br>Average Step Velocity X at Stance (m/s)=%{z}<extra></extra>",
         "hovertext": [
          "Mouse144",
          "Mouse144"
         ],
         "legendgroup": "Mouse144",
         "marker": {
          "color": "blue",
          "line": {
           "color": "black",
           "width": 1
          },
          "size": 3,
          "symbol": "circle"
         },
         "mode": "markers",
         "name": "Mouse144",
         "scene": "scene",
         "showlegend": true,
         "type": "scatter3d",
         "x": {
          "bdata": "ix0CQgE8tz8QisZtAAO1Pw==",
          "dtype": "f8"
         },
         "y": {
          "bdata": "VkOkStevuz9ME4ex2vq7Pw==",
          "dtype": "f8"
         },
         "z": {
          "bdata": "Xroql0RFuj+oxpF4mASpPw==",
          "dtype": "f8"
         }
        },
        {
         "hovertemplate": "<b>%{hovertext}</b><br><br>Mouse=Mouse146<br>Average Stance Duration (s)=%{x}<br>Average Swing Duration (s)=%{y}<br>Average Step Velocity X at Stance (m/s)=%{z}<extra></extra>",
         "hovertext": [
          "Mouse146",
          "Mouse146"
         ],
         "legendgroup": "Mouse146",
         "marker": {
          "color": "blue",
          "line": {
           "color": "black",
           "width": 1
          },
          "size": 3,
          "symbol": "circle"
         },
         "mode": "markers",
         "name": "Mouse146",
         "scene": "scene",
         "showlegend": true,
         "type": "scatter3d",
         "x": {
          "bdata": "Vs4KskRHuT+z9bcHNnq3Pw==",
          "dtype": "f8"
         },
         "y": {
          "bdata": "ZkloQCmHuD9HWqviZfy5Pw==",
          "dtype": "f8"
         },
         "z": {
          "bdata": "J1QTg9MBoz8IUuj7XPC9Pw==",
          "dtype": "f8"
         }
        },
        {
         "hovertemplate": "<b>%{hovertext}</b><br><br>Mouse=Mouse148<br>Average Stance Duration (s)=%{x}<br>Average Swing Duration (s)=%{y}<br>Average Step Velocity X at Stance (m/s)=%{z}<extra></extra>",
         "hovertext": [
          "Mouse148",
          "Mouse148"
         ],
         "legendgroup": "Mouse148",
         "marker": {
          "color": "blue",
          "line": {
           "color": "black",
           "width": 1
          },
          "size": 3,
          "symbol": "circle"
         },
         "mode": "markers",
         "name": "Mouse148",
         "scene": "scene",
         "showlegend": true,
         "type": "scatter3d",
         "x": {
          "bdata": "BScReEj7vj+dRedSRN7DPw==",
          "dtype": "f8"
         },
         "y": {
          "bdata": "ZeQ+uAlEvD9kyHpbgILBPw==",
          "dtype": "f8"
         },
         "z": {
          "bdata": "H09Y6+vAxD8dghehnbzFPw==",
          "dtype": "f8"
         }
        },
        {
         "hovertemplate": "<b>%{hovertext}</b><br><br>Mouse=Mouse150<br>Average Stance Duration (s)=%{x}<br>Average Swing Duration (s)=%{y}<br>Average Step Velocity X at Stance (m/s)=%{z}<extra></extra>",
         "hovertext": [
          "Mouse150",
          "Mouse150"
         ],
         "legendgroup": "Mouse150",
         "marker": {
          "color": "blue",
          "line": {
           "color": "black",
           "width": 1
          },
          "size": 3,
          "symbol": "circle"
         },
         "mode": "markers",
         "name": "Mouse150",
         "scene": "scene",
         "showlegend": true,
         "type": "scatter3d",
         "x": {
          "bdata": "ixsK2RPUvj8HbjWp0/y8Pw==",
          "dtype": "f8"
         },
         "y": {
          "bdata": "GJK1ZJz9vD9jCnyXV5i9Pw==",
          "dtype": "f8"
         },
         "z": {
          "bdata": "/DD/RIikmT8IrnhpLkOGvw==",
          "dtype": "f8"
         }
        },
        {
         "hovertemplate": "<b>%{hovertext}</b><br><br>Mouse=Mouse152<br>Average Stance Duration (s)=%{x}<br>Average Swing Duration (s)=%{y}<br>Average Step Velocity X at Stance (m/s)=%{z}<extra></extra>",
         "hovertext": [
          "Mouse152",
          "Mouse152"
         ],
         "legendgroup": "Mouse152",
         "marker": {
          "color": "blue",
          "line": {
           "color": "black",
           "width": 1
          },
          "size": 3,
          "symbol": "circle"
         },
         "mode": "markers",
         "name": "Mouse152",
         "scene": "scene",
         "showlegend": true,
         "type": "scatter3d",
         "x": {
          "bdata": "1B0EUGPquz8fXfIGl4e7Pw==",
          "dtype": "f8"
         },
         "y": {
          "bdata": "ZkloQCmHuD8Yw1VYaui6Pw==",
          "dtype": "f8"
         },
         "z": {
          "bdata": "DJcbq4TOoj/tCup/TmSnPw==",
          "dtype": "f8"
         }
        },
        {
         "hovertemplate": "<b>%{hovertext}</b><br><br>Mouse=Mouse154<br>Average Stance Duration (s)=%{x}<br>Average Swing Duration (s)=%{y}<br>Average Step Velocity X at Stance (m/s)=%{z}<extra></extra>",
         "hovertext": [
          "Mouse154",
          "Mouse154"
         ],
         "legendgroup": "Mouse154",
         "marker": {
          "color": "blue",
          "line": {
           "color": "black",
           "width": 1
          },
          "size": 3,
          "symbol": "circle"
         },
         "mode": "markers",
         "name": "Mouse154",
         "scene": "scene",
         "showlegend": true,
         "type": "scatter3d",
         "x": {
          "bdata": "ZdwGMFAxuT9K6S0OMB25Pw==",
          "dtype": "f8"
         },
         "y": {
          "bdata": "iN4VmS9NvD+ZodEhU6y8Pw==",
          "dtype": "f8"
         },
         "z": {
          "bdata": "URLodtcKvD/WrZSwFlLBPw==",
          "dtype": "f8"
         }
        },
        {
         "hovertemplate": "<b>%{hovertext}</b><br><br>Mouse=Mouse156<br>Average Stance Duration (s)=%{x}<br>Average Swing Duration (s)=%{y}<br>Average Step Velocity X at Stance (m/s)=%{z}<extra></extra>",
         "hovertext": [
          "Mouse156",
          "Mouse156"
         ],
         "legendgroup": "Mouse156",
         "marker": {
          "color": "blue",
          "line": {
           "color": "black",
           "width": 1
          },
          "size": 3,
          "symbol": "circle"
         },
         "mode": "markers",
         "name": "Mouse156",
         "scene": "scene",
         "showlegend": true,
         "type": "scatter3d",
         "x": {
          "bdata": "AA9p3xvDtT/WZCiB7uu5Pw==",
          "dtype": "f8"
         },
         "y": {
          "bdata": "jwMZr8mDuj9ME4ex2vq7Pw==",
          "dtype": "f8"
         },
         "z": {
          "bdata": "7J0qKDQSuj9iWFnjX93UPw==",
          "dtype": "f8"
         }
        },
        {
         "hovertemplate": "<b>%{hovertext}</b><br><br>Mouse=Mouse158<br>Average Stance Duration (s)=%{x}<br>Average Swing Duration (s)=%{y}<br>Average Step Velocity X at Stance (m/s)=%{z}<extra></extra>",
         "hovertext": [
          "Mouse158",
          "Mouse158"
         ],
         "legendgroup": "Mouse158",
         "marker": {
          "color": "blue",
          "line": {
           "color": "black",
           "width": 1
          },
          "size": 3,
          "symbol": "circle"
         },
         "mode": "markers",
         "name": "Mouse158",
         "scene": "scene",
         "showlegend": true,
         "type": "scatter3d",
         "x": {
          "bdata": "DZtwRydGvj/hb0IEUWq7Pw==",
          "dtype": "f8"
         },
         "y": {
          "bdata": "7354SxByvj9WS9zSkMK+Pw==",
          "dtype": "f8"
         },
         "z": {
          "bdata": "0YQYAfv2cT9YAUiIsCG8Pw==",
          "dtype": "f8"
         }
        },
        {
         "hovertemplate": "<b>%{hovertext}</b><br><br>Mouse=Mouse160<br>Average Stance Duration (s)=%{x}<br>Average Swing Duration (s)=%{y}<br>Average Step Velocity X at Stance (m/s)=%{z}<extra></extra>",
         "hovertext": [
          "Mouse160",
          "Mouse160"
         ],
         "legendgroup": "Mouse160",
         "marker": {
          "color": "blue",
          "line": {
           "color": "black",
           "width": 1
          },
          "size": 3,
          "symbol": "circle"
         },
         "mode": "markers",
         "name": "Mouse160",
         "scene": "scene",
         "showlegend": true,
         "type": "scatter3d",
         "x": {
          "bdata": "y2u/CAoTwj8vVVROJP7CPw==",
          "dtype": "f8"
         },
         "y": {
          "bdata": "cviX9Hw3wT/tg5tAxF3APw==",
          "dtype": "f8"
         },
         "z": {
          "bdata": "AloH3CZvnz8inhWNhHWqPw==",
          "dtype": "f8"
         }
        },
        {
         "hovertemplate": "<b>%{hovertext}</b><br><br>Mouse=Mouse162<br>Average Stance Duration (s)=%{x}<br>Average Swing Duration (s)=%{y}<br>Average Step Velocity X at Stance (m/s)=%{z}<extra></extra>",
         "hovertext": [
          "Mouse162",
          "Mouse162"
         ],
         "legendgroup": "Mouse162",
         "marker": {
          "color": "blue",
          "line": {
           "color": "black",
           "width": 1
          },
          "size": 3,
          "symbol": "circle"
         },
         "mode": "markers",
         "name": "Mouse162",
         "scene": "scene",
         "showlegend": true,
         "type": "scatter3d",
         "x": {
          "bdata": "/wAHMVdiwD9FiFPiyR7BPw==",
          "dtype": "f8"
         },
         "y": {
          "bdata": "9Ky6GrsdwD+sIEt0lHW9Pw==",
          "dtype": "f8"
         },
         "z": {
          "bdata": "sxNifQXLuj+tnI8aOZe8Pw==",
          "dtype": "f8"
         }
        },
        {
         "hovertemplate": "<b>%{hovertext}</b><br><br>Mouse=Mouse164<br>Average Stance Duration (s)=%{x}<br>Average Swing Duration (s)=%{y}<br>Average Step Velocity X at Stance (m/s)=%{z}<extra></extra>",
         "hovertext": [
          "Mouse164",
          "Mouse164"
         ],
         "legendgroup": "Mouse164",
         "marker": {
          "color": "blue",
          "line": {
           "color": "black",
           "width": 1
          },
          "size": 3,
          "symbol": "circle"
         },
         "mode": "markers",
         "name": "Mouse164",
         "scene": "scene",
         "showlegend": true,
         "type": "scatter3d",
         "x": {
          "bdata": "BiomC04iwD/5zJo7oWi8Pw==",
          "dtype": "f8"
         },
         "y": {
          "bdata": "nKXt5a81vj9IF6N1N4S9Pw==",
          "dtype": "f8"
         },
         "z": {
          "bdata": "IXtyxxGNmT+rQjdLV8ylPw==",
          "dtype": "f8"
         }
        },
        {
         "hovertemplate": "<b>%{hovertext}</b><br><br>Mouse=Mouse166<br>Average Stance Duration (s)=%{x}<br>Average Swing Duration (s)=%{y}<br>Average Step Velocity X at Stance (m/s)=%{z}<extra></extra>",
         "hovertext": [
          "Mouse166",
          "Mouse166"
         ],
         "legendgroup": "Mouse166",
         "marker": {
          "color": "blue",
          "line": {
           "color": "black",
           "width": 1
          },
          "size": 3,
          "symbol": "circle"
         },
         "mode": "markers",
         "name": "Mouse166",
         "scene": "scene",
         "showlegend": true,
         "type": "scatter3d",
         "x": {
          "bdata": "unFPX87XuT+LoDAhtcDBPw==",
          "dtype": "f8"
         },
         "y": {
          "bdata": "16yGey0Luz9jKIHu69m7Pw==",
          "dtype": "f8"
         },
         "z": {
          "bdata": "J4+55AKuvz+bzUUZaSu1Pw==",
          "dtype": "f8"
         }
        },
        {
         "hovertemplate": "<b>%{hovertext}</b><br><br>Mouse=Mouse168<br>Average Stance Duration (s)=%{x}<br>Average Swing Duration (s)=%{y}<br>Average Step Velocity X at Stance (m/s)=%{z}<extra></extra>",
         "hovertext": [
          "Mouse168",
          "Mouse168"
         ],
         "legendgroup": "Mouse168",
         "marker": {
          "color": "blue",
          "line": {
           "color": "black",
           "width": 1
          },
          "size": 3,
          "symbol": "circle"
         },
         "mode": "markers",
         "name": "Mouse168",
         "scene": "scene",
         "showlegend": true,
         "type": "scatter3d",
         "x": {
          "bdata": "dVdkvjRxuD92MmGomjqqPw==",
          "dtype": "f8"
         },
         "y": {
          "bdata": "KTJfmjiMxT+y/e+P74y6Pw==",
          "dtype": "f8"
         },
         "z": {
          "bdata": "04CLHk8shz8XJ4YQYKfXPw==",
          "dtype": "f8"
         }
        },
        {
         "hovertemplate": "<b>%{hovertext}</b><br><br>Mouse=Mouse170<br>Average Stance Duration (s)=%{x}<br>Average Swing Duration (s)=%{y}<br>Average Step Velocity X at Stance (m/s)=%{z}<extra></extra>",
         "hovertext": [
          "Mouse170",
          "Mouse170"
         ],
         "legendgroup": "Mouse170",
         "marker": {
          "color": "blue",
          "line": {
           "color": "black",
           "width": 1
          },
          "size": 3,
          "symbol": "circle"
         },
         "mode": "markers",
         "name": "Mouse170",
         "scene": "scene",
         "showlegend": true,
         "type": "scatter3d",
         "x": {
          "bdata": "O8VkwUkEvj+SLDiJwEO6Pw==",
          "dtype": "f8"
         },
         "y": {
          "bdata": "D6CTPNsxwD8iEXhI+964Pw==",
          "dtype": "f8"
         },
         "z": {
          "bdata": "rTzBZ1/gmz8zwAEcgGChPw==",
          "dtype": "f8"
         }
        },
        {
         "hovertemplate": "<b>%{hovertext}</b><br><br>Mouse=Mouse172<br>Average Stance Duration (s)=%{x}<br>Average Swing Duration (s)=%{y}<br>Average Step Velocity X at Stance (m/s)=%{z}<extra></extra>",
         "hovertext": [
          "Mouse172",
          "Mouse172"
         ],
         "legendgroup": "Mouse172",
         "marker": {
          "color": "blue",
          "line": {
           "color": "black",
           "width": 1
          },
          "size": 3,
          "symbol": "circle"
         },
         "mode": "markers",
         "name": "Mouse172",
         "scene": "scene",
         "showlegend": true,
         "type": "scatter3d",
         "x": {
          "bdata": "QGFCaoEjwj9lyoi9LkfCPw==",
          "dtype": "f8"
         },
         "y": {
          "bdata": "yBpV7RY6wD/iL08qKBnAPw==",
          "dtype": "f8"
         },
         "z": {
          "bdata": "8ysYWfwVrz/CpwKz+EWtPw==",
          "dtype": "f8"
         }
        },
        {
         "hovertemplate": "<b>%{hovertext}</b><br><br>Mouse=Mouse174<br>Average Stance Duration (s)=%{x}<br>Average Swing Duration (s)=%{y}<br>Average Step Velocity X at Stance (m/s)=%{z}<extra></extra>",
         "hovertext": [
          "Mouse174",
          "Mouse174"
         ],
         "legendgroup": "Mouse174",
         "marker": {
          "color": "blue",
          "line": {
           "color": "black",
           "width": 1
          },
          "size": 3,
          "symbol": "circle"
         },
         "mode": "markers",
         "name": "Mouse174",
         "scene": "scene",
         "showlegend": true,
         "type": "scatter3d",
         "x": {
          "bdata": "kWAKry+0wz8a+PsW1P/BPw==",
          "dtype": "f8"
         },
         "y": {
          "bdata": "YuqbdnFNwT+66jdUGoXAPw==",
          "dtype": "f8"
         },
         "z": {
          "bdata": "Iaj83p3AoD+7uCrxCGSjPw==",
          "dtype": "f8"
         }
        },
        {
         "hovertemplate": "<b>%{hovertext}</b><br><br>Mouse=Mouse176<br>Average Stance Duration (s)=%{x}<br>Average Swing Duration (s)=%{y}<br>Average Step Velocity X at Stance (m/s)=%{z}<extra></extra>",
         "hovertext": [
          "Mouse176",
          "Mouse176"
         ],
         "legendgroup": "Mouse176",
         "marker": {
          "color": "blue",
          "line": {
           "color": "black",
           "width": 1
          },
          "size": 3,
          "symbol": "circle"
         },
         "mode": "markers",
         "name": "Mouse176",
         "scene": "scene",
         "showlegend": true,
         "type": "scatter3d",
         "x": {
          "bdata": "gICDmCsxuD8AD2nfG8O1Pw==",
          "dtype": "f8"
         },
         "y": {
          "bdata": "O70sOZDxuj/87YGN3hW5Pw==",
          "dtype": "f8"
         },
         "z": {
          "bdata": "EYs2VNXCrD/Z4GTdmGiLPw==",
          "dtype": "f8"
         }
        },
        {
         "hovertemplate": "<b>%{hovertext}</b><br><br>Mouse=Mouse178<br>Average Stance Duration (s)=%{x}<br>Average Swing Duration (s)=%{y}<br>Average Step Velocity X at Stance (m/s)=%{z}<extra></extra>",
         "hovertext": [
          "Mouse178",
          "Mouse178"
         ],
         "legendgroup": "Mouse178",
         "marker": {
          "color": "blue",
          "line": {
           "color": "black",
           "width": 1
          },
          "size": 3,
          "symbol": "circle"
         },
         "mode": "markers",
         "name": "Mouse178",
         "scene": "scene",
         "showlegend": true,
         "type": "scatter3d",
         "x": {
          "bdata": "7o3hKiw1xD85lA1fmTG7Pw==",
          "dtype": "f8"
         },
         "y": {
          "bdata": "vkHMlRisxD8+yYCFpo2/Pw==",
          "dtype": "f8"
         },
         "z": {
          "bdata": "x6tpC/TpkT/0Ruq4zB/bPw==",
          "dtype": "f8"
         }
        },
        {
         "hovertemplate": "<b>%{hovertext}</b><br><br>Mouse=Mouse180<br>Average Stance Duration (s)=%{x}<br>Average Swing Duration (s)=%{y}<br>Average Step Velocity X at Stance (m/s)=%{z}<extra></extra>",
         "hovertext": [
          "Mouse180",
          "Mouse180"
         ],
         "legendgroup": "Mouse180",
         "marker": {
          "color": "blue",
          "line": {
           "color": "black",
           "width": 1
          },
          "size": 3,
          "symbol": "circle"
         },
         "mode": "markers",
         "name": "Mouse180",
         "scene": "scene",
         "showlegend": true,
         "type": "scatter3d",
         "x": {
          "bdata": "blBm/y58uD+n1Qp/rOq9Pw==",
          "dtype": "f8"
         },
         "y": {
          "bdata": "VIfmgLlFuz8MLg83TvC+Pw==",
          "dtype": "f8"
         },
         "z": {
          "bdata": "mvobKJOwnz+pG4PvXvKzPw==",
          "dtype": "f8"
         }
        },
        {
         "hovertemplate": "<b>%{hovertext}</b><br><br>Mouse=Mouse182<br>Average Stance Duration (s)=%{x}<br>Average Swing Duration (s)=%{y}<br>Average Step Velocity X at Stance (m/s)=%{z}<extra></extra>",
         "hovertext": [
          "Mouse182",
          "Mouse182"
         ],
         "legendgroup": "Mouse182",
         "marker": {
          "color": "blue",
          "line": {
           "color": "black",
           "width": 1
          },
          "size": 3,
          "symbol": "circle"
         },
         "mode": "markers",
         "name": "Mouse182",
         "scene": "scene",
         "showlegend": true,
         "type": "scatter3d",
         "x": {
          "bdata": "LrE+HTPMyz9YeEoJQcfCPw==",
          "dtype": "f8"
         },
         "y": {
          "bdata": "J9m89ougwD950BkbJGO8Pw==",
          "dtype": "f8"
         },
         "z": {
          "bdata": "XktX5ZIcrT/+xJ4HsoTEPw==",
          "dtype": "f8"
         }
        },
        {
         "hovertemplate": "<b>%{hovertext}</b><br><br>Mouse=Mouse184<br>Average Stance Duration (s)=%{x}<br>Average Swing Duration (s)=%{y}<br>Average Step Velocity X at Stance (m/s)=%{z}<extra></extra>",
         "hovertext": [
          "Mouse184",
          "Mouse184"
         ],
         "legendgroup": "Mouse184",
         "marker": {
          "color": "blue",
          "line": {
           "color": "black",
           "width": 1
          },
          "size": 3,
          "symbol": "circle"
         },
         "mode": "markers",
         "name": "Mouse184",
         "scene": "scene",
         "showlegend": true,
         "type": "scatter3d",
         "x": {
          "bdata": "z8qL0sFMuT/lE1g1QpyyPw==",
          "dtype": "f8"
         },
         "y": {
          "bdata": "SQczZcRexz8TisZtAAPFPw==",
          "dtype": "f8"
         },
         "z": {
          "bdata": "KTJMH4Thwj9egt3LO8G4Pw==",
          "dtype": "f8"
         }
        },
        {
         "hovertemplate": "<b>%{hovertext}</b><br><br>Mouse=Mouse186<br>Average Stance Duration (s)=%{x}<br>Average Swing Duration (s)=%{y}<br>Average Step Velocity X at Stance (m/s)=%{z}<extra></extra>",
         "hovertext": [
          "Mouse186",
          "Mouse186"
         ],
         "legendgroup": "Mouse186",
         "marker": {
          "color": "blue",
          "line": {
           "color": "black",
           "width": 1
          },
          "size": 3,
          "symbol": "circle"
         },
         "mode": "markers",
         "name": "Mouse186",
         "scene": "scene",
         "showlegend": true,
         "type": "scatter3d",
         "x": {
          "bdata": "JLBqhDglvj8yjNXW3x64Pw==",
          "dtype": "f8"
         },
         "y": {
          "bdata": "H/CQ9r0xvD8Slhq6Fp+5Pw==",
          "dtype": "f8"
         },
         "z": {
          "bdata": "c49M1yH+qz+zGr3izPnKPw==",
          "dtype": "f8"
         }
        },
        {
         "hovertemplate": "<b>%{hovertext}</b><br><br>Mouse=Mouse188<br>Average Stance Duration (s)=%{x}<br>Average Swing Duration (s)=%{y}<br>Average Step Velocity X at Stance (m/s)=%{z}<extra></extra>",
         "hovertext": [
          "Mouse188",
          "Mouse188"
         ],
         "legendgroup": "Mouse188",
         "marker": {
          "color": "blue",
          "line": {
           "color": "black",
           "width": 1
          },
          "size": 3,
          "symbol": "circle"
         },
         "mode": "markers",
         "name": "Mouse188",
         "scene": "scene",
         "showlegend": true,
         "type": "scatter3d",
         "x": {
          "bdata": "ySi3m9uaxT9SQMJPLkS9Pw==",
          "dtype": "f8"
         },
         "y": {
          "bdata": "7YObQMRdwD9vDV6SAAS8Pw==",
          "dtype": "f8"
         },
         "z": {
          "bdata": "UB5vpWYFoz/S1vb15w6/Pw==",
          "dtype": "f8"
         }
        },
        {
         "hovertemplate": "<b>%{hovertext}</b><br><br>Mouse=Mouse190<br>Average Stance Duration (s)=%{x}<br>Average Swing Duration (s)=%{y}<br>Average Step Velocity X at Stance (m/s)=%{z}<extra></extra>",
         "hovertext": [
          "Mouse190",
          "Mouse190"
         ],
         "legendgroup": "Mouse190",
         "marker": {
          "color": "blue",
          "line": {
           "color": "black",
           "width": 1
          },
          "size": 3,
          "symbol": "circle"
         },
         "mode": "markers",
         "name": "Mouse190",
         "scene": "scene",
         "showlegend": true,
         "type": "scatter3d",
         "x": {
          "bdata": "PJgpI/a6rD9nzJYf3QuzPw==",
          "dtype": "f8"
         },
         "y": {
          "bdata": "8JMLUTeDxj93R/StwUvCPw==",
          "dtype": "f8"
         },
         "z": {
          "bdata": "NORl4yH0rj/7cQI/+1GrPw==",
          "dtype": "f8"
         }
        },
        {
         "hovertemplate": "<b>%{hovertext}</b><br><br>Mouse=Mouse192<br>Average Stance Duration (s)=%{x}<br>Average Swing Duration (s)=%{y}<br>Average Step Velocity X at Stance (m/s)=%{z}<extra></extra>",
         "hovertext": [
          "Mouse192",
          "Mouse192"
         ],
         "legendgroup": "Mouse192",
         "marker": {
          "color": "blue",
          "line": {
           "color": "black",
           "width": 1
          },
          "size": 3,
          "symbol": "circle"
         },
         "mode": "markers",
         "name": "Mouse192",
         "scene": "scene",
         "showlegend": true,
         "type": "scatter3d",
         "x": {
          "bdata": "51p8Zs2dwD911Gh33afAPw==",
          "dtype": "f8"
         },
         "y": {
          "bdata": "V5o4jNXWvz8fe/ddK8m5Pw==",
          "dtype": "f8"
         },
         "z": {
          "bdata": "t7J9ky7vwz/OmPsSe1+wPw==",
          "dtype": "f8"
         }
        },
        {
         "hovertemplate": "<b>%{hovertext}</b><br><br>Mouse=Mouse194<br>Average Stance Duration (s)=%{x}<br>Average Swing Duration (s)=%{y}<br>Average Step Velocity X at Stance (m/s)=%{z}<extra></extra>",
         "hovertext": [
          "Mouse194",
          "Mouse194"
         ],
         "legendgroup": "Mouse194",
         "marker": {
          "color": "blue",
          "line": {
           "color": "black",
           "width": 1
          },
          "size": 3,
          "symbol": "circle"
         },
         "mode": "markers",
         "name": "Mouse194",
         "scene": "scene",
         "showlegend": true,
         "type": "scatter3d",
         "x": {
          "bdata": "9KWJw1htvT9Yish7YrG5Pw==",
          "dtype": "f8"
         },
         "y": {
          "bdata": "P7b74S1BwD/LqaSAhJ+8Pw==",
          "dtype": "f8"
         },
         "z": {
          "bdata": "494C3FdhoT+TGOXgUKi2Pw==",
          "dtype": "f8"
         }
        },
        {
         "hovertemplate": "<b>%{hovertext}</b><br><br>Mouse=Mouse196<br>Average Stance Duration (s)=%{x}<br>Average Swing Duration (s)=%{y}<br>Average Step Velocity X at Stance (m/s)=%{z}<extra></extra>",
         "hovertext": [
          "Mouse196",
          "Mouse196"
         ],
         "legendgroup": "Mouse196",
         "marker": {
          "color": "blue",
          "line": {
           "color": "black",
           "width": 1
          },
          "size": 3,
          "symbol": "circle"
         },
         "mode": "markers",
         "name": "Mouse196",
         "scene": "scene",
         "showlegend": true,
         "type": "scatter3d",
         "x": {
          "bdata": "yIi9Lkfyvz9I8p9fnU2/Pw==",
          "dtype": "f8"
         },
         "y": {
          "bdata": "SBejdTeEvT+RJTrKuk66Pw==",
          "dtype": "f8"
         },
         "z": {
          "bdata": "qYuxQReztj/5Itb9oeaqPw==",
          "dtype": "f8"
         }
        },
        {
         "hovertemplate": "<b>%{hovertext}</b><br><br>Mouse=Mouse198<br>Average Stance Duration (s)=%{x}<br>Average Swing Duration (s)=%{y}<br>Average Step Velocity X at Stance (m/s)=%{z}<extra></extra>",
         "hovertext": [
          "Mouse198",
          "Mouse198"
         ],
         "legendgroup": "Mouse198",
         "marker": {
          "color": "blue",
          "line": {
           "color": "black",
           "width": 1
          },
          "size": 3,
          "symbol": "circle"
         },
         "mode": "markers",
         "name": "Mouse198",
         "scene": "scene",
         "showlegend": true,
         "type": "scatter3d",
         "x": {
          "bdata": "enATiLgLsj+uZ2+lH3e7Pw==",
          "dtype": "f8"
         },
         "y": {
          "bdata": "C3EXpHxouz/EDwjSVwC8Pw==",
          "dtype": "f8"
         },
         "z": {
          "bdata": "3niwKZ1zvT+drrwYbr2nPw==",
          "dtype": "f8"
         }
        }
       ],
       "layout": {
        "legend": {
         "font": {
          "size": 18
         },
         "title": {
          "text": "Mouse"
         },
         "tracegroupgap": 0
        },
        "scene": {
         "domain": {
          "x": [
           0,
           1
          ],
          "y": [
           0,
           1
          ]
         },
         "xaxis": {
          "tickfont": {
           "size": 16
          },
          "title": {
           "text": "Average Stance Duration (s)"
          }
         },
         "yaxis": {
          "tickfont": {
           "size": 16
          },
          "title": {
           "text": "Average Swing Duration (s)"
          }
         },
         "zaxis": {
          "tickfont": {
           "size": 16
          },
          "title": {
           "text": "Average Step Velocity X at Stance (m/s)"
          }
         }
        },
        "template": {
         "data": {
          "bar": [
           {
            "error_x": {
             "color": "#2a3f5f"
            },
            "error_y": {
             "color": "#2a3f5f"
            },
            "marker": {
             "line": {
              "color": "white",
              "width": 0.5
             },
             "pattern": {
              "fillmode": "overlay",
              "size": 10,
              "solidity": 0.2
             }
            },
            "type": "bar"
           }
          ],
          "barpolar": [
           {
            "marker": {
             "line": {
              "color": "white",
              "width": 0.5
             },
             "pattern": {
              "fillmode": "overlay",
              "size": 10,
              "solidity": 0.2
             }
            },
            "type": "barpolar"
           }
          ],
          "carpet": [
           {
            "aaxis": {
             "endlinecolor": "#2a3f5f",
             "gridcolor": "#C8D4E3",
             "linecolor": "#C8D4E3",
             "minorgridcolor": "#C8D4E3",
             "startlinecolor": "#2a3f5f"
            },
            "baxis": {
             "endlinecolor": "#2a3f5f",
             "gridcolor": "#C8D4E3",
             "linecolor": "#C8D4E3",
             "minorgridcolor": "#C8D4E3",
             "startlinecolor": "#2a3f5f"
            },
            "type": "carpet"
           }
          ],
          "choropleth": [
           {
            "colorbar": {
             "outlinewidth": 0,
             "ticks": ""
            },
            "type": "choropleth"
           }
          ],
          "contour": [
           {
            "colorbar": {
             "outlinewidth": 0,
             "ticks": ""
            },
            "colorscale": [
             [
              0,
              "#0d0887"
             ],
             [
              0.1111111111111111,
              "#46039f"
             ],
             [
              0.2222222222222222,
              "#7201a8"
             ],
             [
              0.3333333333333333,
              "#9c179e"
             ],
             [
              0.4444444444444444,
              "#bd3786"
             ],
             [
              0.5555555555555556,
              "#d8576b"
             ],
             [
              0.6666666666666666,
              "#ed7953"
             ],
             [
              0.7777777777777778,
              "#fb9f3a"
             ],
             [
              0.8888888888888888,
              "#fdca26"
             ],
             [
              1,
              "#f0f921"
             ]
            ],
            "type": "contour"
           }
          ],
          "contourcarpet": [
           {
            "colorbar": {
             "outlinewidth": 0,
             "ticks": ""
            },
            "type": "contourcarpet"
           }
          ],
          "heatmap": [
           {
            "colorbar": {
             "outlinewidth": 0,
             "ticks": ""
            },
            "colorscale": [
             [
              0,
              "#0d0887"
             ],
             [
              0.1111111111111111,
              "#46039f"
             ],
             [
              0.2222222222222222,
              "#7201a8"
             ],
             [
              0.3333333333333333,
              "#9c179e"
             ],
             [
              0.4444444444444444,
              "#bd3786"
             ],
             [
              0.5555555555555556,
              "#d8576b"
             ],
             [
              0.6666666666666666,
              "#ed7953"
             ],
             [
              0.7777777777777778,
              "#fb9f3a"
             ],
             [
              0.8888888888888888,
              "#fdca26"
             ],
             [
              1,
              "#f0f921"
             ]
            ],
            "type": "heatmap"
           }
          ],
          "histogram": [
           {
            "marker": {
             "pattern": {
              "fillmode": "overlay",
              "size": 10,
              "solidity": 0.2
             }
            },
            "type": "histogram"
           }
          ],
          "histogram2d": [
           {
            "colorbar": {
             "outlinewidth": 0,
             "ticks": ""
            },
            "colorscale": [
             [
              0,
              "#0d0887"
             ],
             [
              0.1111111111111111,
              "#46039f"
             ],
             [
              0.2222222222222222,
              "#7201a8"
             ],
             [
              0.3333333333333333,
              "#9c179e"
             ],
             [
              0.4444444444444444,
              "#bd3786"
             ],
             [
              0.5555555555555556,
              "#d8576b"
             ],
             [
              0.6666666666666666,
              "#ed7953"
             ],
             [
              0.7777777777777778,
              "#fb9f3a"
             ],
             [
              0.8888888888888888,
              "#fdca26"
             ],
             [
              1,
              "#f0f921"
             ]
            ],
            "type": "histogram2d"
           }
          ],
          "histogram2dcontour": [
           {
            "colorbar": {
             "outlinewidth": 0,
             "ticks": ""
            },
            "colorscale": [
             [
              0,
              "#0d0887"
             ],
             [
              0.1111111111111111,
              "#46039f"
             ],
             [
              0.2222222222222222,
              "#7201a8"
             ],
             [
              0.3333333333333333,
              "#9c179e"
             ],
             [
              0.4444444444444444,
              "#bd3786"
             ],
             [
              0.5555555555555556,
              "#d8576b"
             ],
             [
              0.6666666666666666,
              "#ed7953"
             ],
             [
              0.7777777777777778,
              "#fb9f3a"
             ],
             [
              0.8888888888888888,
              "#fdca26"
             ],
             [
              1,
              "#f0f921"
             ]
            ],
            "type": "histogram2dcontour"
           }
          ],
          "mesh3d": [
           {
            "colorbar": {
             "outlinewidth": 0,
             "ticks": ""
            },
            "type": "mesh3d"
           }
          ],
          "parcoords": [
           {
            "line": {
             "colorbar": {
              "outlinewidth": 0,
              "ticks": ""
             }
            },
            "type": "parcoords"
           }
          ],
          "pie": [
           {
            "automargin": true,
            "type": "pie"
           }
          ],
          "scatter": [
           {
            "fillpattern": {
             "fillmode": "overlay",
             "size": 10,
             "solidity": 0.2
            },
            "type": "scatter"
           }
          ],
          "scatter3d": [
           {
            "line": {
             "colorbar": {
              "outlinewidth": 0,
              "ticks": ""
             }
            },
            "marker": {
             "colorbar": {
              "outlinewidth": 0,
              "ticks": ""
             }
            },
            "type": "scatter3d"
           }
          ],
          "scattercarpet": [
           {
            "marker": {
             "colorbar": {
              "outlinewidth": 0,
              "ticks": ""
             }
            },
            "type": "scattercarpet"
           }
          ],
          "scattergeo": [
           {
            "marker": {
             "colorbar": {
              "outlinewidth": 0,
              "ticks": ""
             }
            },
            "type": "scattergeo"
           }
          ],
          "scattergl": [
           {
            "marker": {
             "colorbar": {
              "outlinewidth": 0,
              "ticks": ""
             }
            },
            "type": "scattergl"
           }
          ],
          "scattermap": [
           {
            "marker": {
             "colorbar": {
              "outlinewidth": 0,
              "ticks": ""
             }
            },
            "type": "scattermap"
           }
          ],
          "scattermapbox": [
           {
            "marker": {
             "colorbar": {
              "outlinewidth": 0,
              "ticks": ""
             }
            },
            "type": "scattermapbox"
           }
          ],
          "scatterpolar": [
           {
            "marker": {
             "colorbar": {
              "outlinewidth": 0,
              "ticks": ""
             }
            },
            "type": "scatterpolar"
           }
          ],
          "scatterpolargl": [
           {
            "marker": {
             "colorbar": {
              "outlinewidth": 0,
              "ticks": ""
             }
            },
            "type": "scatterpolargl"
           }
          ],
          "scatterternary": [
           {
            "marker": {
             "colorbar": {
              "outlinewidth": 0,
              "ticks": ""
             }
            },
            "type": "scatterternary"
           }
          ],
          "surface": [
           {
            "colorbar": {
             "outlinewidth": 0,
             "ticks": ""
            },
            "colorscale": [
             [
              0,
              "#0d0887"
             ],
             [
              0.1111111111111111,
              "#46039f"
             ],
             [
              0.2222222222222222,
              "#7201a8"
             ],
             [
              0.3333333333333333,
              "#9c179e"
             ],
             [
              0.4444444444444444,
              "#bd3786"
             ],
             [
              0.5555555555555556,
              "#d8576b"
             ],
             [
              0.6666666666666666,
              "#ed7953"
             ],
             [
              0.7777777777777778,
              "#fb9f3a"
             ],
             [
              0.8888888888888888,
              "#fdca26"
             ],
             [
              1,
              "#f0f921"
             ]
            ],
            "type": "surface"
           }
          ],
          "table": [
           {
            "cells": {
             "fill": {
              "color": "#EBF0F8"
             },
             "line": {
              "color": "white"
             }
            },
            "header": {
             "fill": {
              "color": "#C8D4E3"
             },
             "line": {
              "color": "white"
             }
            },
            "type": "table"
           }
          ]
         },
         "layout": {
          "annotationdefaults": {
           "arrowcolor": "#2a3f5f",
           "arrowhead": 0,
           "arrowwidth": 1
          },
          "autotypenumbers": "strict",
          "coloraxis": {
           "colorbar": {
            "outlinewidth": 0,
            "ticks": ""
           }
          },
          "colorscale": {
           "diverging": [
            [
             0,
             "#8e0152"
            ],
            [
             0.1,
             "#c51b7d"
            ],
            [
             0.2,
             "#de77ae"
            ],
            [
             0.3,
             "#f1b6da"
            ],
            [
             0.4,
             "#fde0ef"
            ],
            [
             0.5,
             "#f7f7f7"
            ],
            [
             0.6,
             "#e6f5d0"
            ],
            [
             0.7,
             "#b8e186"
            ],
            [
             0.8,
             "#7fbc41"
            ],
            [
             0.9,
             "#4d9221"
            ],
            [
             1,
             "#276419"
            ]
           ],
           "sequential": [
            [
             0,
             "#0d0887"
            ],
            [
             0.1111111111111111,
             "#46039f"
            ],
            [
             0.2222222222222222,
             "#7201a8"
            ],
            [
             0.3333333333333333,
             "#9c179e"
            ],
            [
             0.4444444444444444,
             "#bd3786"
            ],
            [
             0.5555555555555556,
             "#d8576b"
            ],
            [
             0.6666666666666666,
             "#ed7953"
            ],
            [
             0.7777777777777778,
             "#fb9f3a"
            ],
            [
             0.8888888888888888,
             "#fdca26"
            ],
            [
             1,
             "#f0f921"
            ]
           ],
           "sequentialminus": [
            [
             0,
             "#0d0887"
            ],
            [
             0.1111111111111111,
             "#46039f"
            ],
            [
             0.2222222222222222,
             "#7201a8"
            ],
            [
             0.3333333333333333,
             "#9c179e"
            ],
            [
             0.4444444444444444,
             "#bd3786"
            ],
            [
             0.5555555555555556,
             "#d8576b"
            ],
            [
             0.6666666666666666,
             "#ed7953"
            ],
            [
             0.7777777777777778,
             "#fb9f3a"
            ],
            [
             0.8888888888888888,
             "#fdca26"
            ],
            [
             1,
             "#f0f921"
            ]
           ]
          },
          "colorway": [
           "#636efa",
           "#EF553B",
           "#00cc96",
           "#ab63fa",
           "#FFA15A",
           "#19d3f3",
           "#FF6692",
           "#B6E880",
           "#FF97FF",
           "#FECB52"
          ],
          "font": {
           "color": "#2a3f5f"
          },
          "geo": {
           "bgcolor": "white",
           "lakecolor": "white",
           "landcolor": "white",
           "showlakes": true,
           "showland": true,
           "subunitcolor": "#C8D4E3"
          },
          "hoverlabel": {
           "align": "left"
          },
          "hovermode": "closest",
          "mapbox": {
           "style": "light"
          },
          "paper_bgcolor": "white",
          "plot_bgcolor": "white",
          "polar": {
           "angularaxis": {
            "gridcolor": "#EBF0F8",
            "linecolor": "#EBF0F8",
            "ticks": ""
           },
           "bgcolor": "white",
           "radialaxis": {
            "gridcolor": "#EBF0F8",
            "linecolor": "#EBF0F8",
            "ticks": ""
           }
          },
          "scene": {
           "xaxis": {
            "backgroundcolor": "white",
            "gridcolor": "#DFE8F3",
            "gridwidth": 2,
            "linecolor": "#EBF0F8",
            "showbackground": true,
            "ticks": "",
            "zerolinecolor": "#EBF0F8"
           },
           "yaxis": {
            "backgroundcolor": "white",
            "gridcolor": "#DFE8F3",
            "gridwidth": 2,
            "linecolor": "#EBF0F8",
            "showbackground": true,
            "ticks": "",
            "zerolinecolor": "#EBF0F8"
           },
           "zaxis": {
            "backgroundcolor": "white",
            "gridcolor": "#DFE8F3",
            "gridwidth": 2,
            "linecolor": "#EBF0F8",
            "showbackground": true,
            "ticks": "",
            "zerolinecolor": "#EBF0F8"
           }
          },
          "shapedefaults": {
           "line": {
            "color": "#2a3f5f"
           }
          },
          "ternary": {
           "aaxis": {
            "gridcolor": "#DFE8F3",
            "linecolor": "#A2B1C6",
            "ticks": ""
           },
           "baxis": {
            "gridcolor": "#DFE8F3",
            "linecolor": "#A2B1C6",
            "ticks": ""
           },
           "bgcolor": "white",
           "caxis": {
            "gridcolor": "#DFE8F3",
            "linecolor": "#A2B1C6",
            "ticks": ""
           }
          },
          "title": {
           "x": 0.05
          },
          "xaxis": {
           "automargin": true,
           "gridcolor": "#EBF0F8",
           "linecolor": "#EBF0F8",
           "ticks": "",
           "title": {
            "standoff": 15
           },
           "zerolinecolor": "#EBF0F8",
           "zerolinewidth": 2
          },
          "yaxis": {
           "automargin": true,
           "gridcolor": "#EBF0F8",
           "linecolor": "#EBF0F8",
           "ticks": "",
           "title": {
            "standoff": 15
           },
           "zerolinecolor": "#EBF0F8",
           "zerolinewidth": 2
          }
         }
        },
        "title": {
         "font": {
          "size": 24
         },
         "text": "Healthy Mean Features: Stance Duration vs Swing Duration vs Velocity"
        }
       }
      }
     },
     "metadata": {},
     "output_type": "display_data"
    }
   ],
   "source": [
    "fig = px.scatter_3d(\n",
    "    healthy_mean_features,\n",
    "    x='Mean stance duration (s)',\n",
    "    y='Mean swing duration (s)',\n",
    "    z='Mean step velocity X at stance - lHindpaw (m/s)',\n",
    "    color='Mouse',\n",
    "    hover_name='Mouse',\n",
    "    title=\"Healthy Mean Features: Stance Duration vs Swing Duration vs Velocity\",\n",
    "    labels={\n",
    "        'Mean stance duration (s)': 'Average Stance Duration (s)',\n",
    "        'Mean swing duration (s)': 'Average Swing Duration (s)',\n",
    "        'Mean step velocity X at stance - lHindpaw (m/s)': 'Average Step Velocity X at Stance (m/s)'\n",
    "    },\n",
    "    template=\"plotly_white\"\n",
    ")\n",
    "fig.update_traces(marker=dict(size=3, line=dict(width=SCATTER_LINE_WIDTH, color='black'), color = 'blue'))\n",
    "fig.update_layout(\n",
    "    legend=dict(font=dict(size=LEGEND_FONT_SIZE)),\n",
    "    title=dict(font=dict(size=TITLE_FONT_SIZE)),\n",
    "    scene=dict(\n",
    "        xaxis_title='Average Stance Duration (s)',\n",
    "        yaxis_title='Average Swing Duration (s)',\n",
    "        zaxis_title='Average Step Velocity X at Stance (m/s)',\n",
    "        xaxis=dict(tickfont=dict(size=AXIS_FONT_SIZE)),\n",
    "        yaxis=dict(tickfont=dict(size=AXIS_FONT_SIZE)),\n",
    "        zaxis=dict(tickfont=dict(size=AXIS_FONT_SIZE)),\n",
    "    )\n",
    ")\n",
    "fig.show()"
   ]
  },
  {
   "cell_type": "code",
   "execution_count": null,
   "id": "6900d4d2",
   "metadata": {},
   "outputs": [],
   "source": [
    "# Linear regression for healthy group with intercept fixed at 0\n",
    "x = healthy_mean_features[x_feat].values\n",
    "y = healthy_mean_features[y_feat].values\n",
    "if len(x) > 1 and len(y) > 1:\n",
    "    # Remove NaNs\n",
    "    mask = ~np.isnan(x) & ~np.isnan(y)\n",
    "    if mask.sum() > 1:\n",
    "        x_clean = x[mask]\n",
    "        y_clean = y[mask]\n",
    "        \n",
    "        # Fit linear regression with intercept=0\n",
    "        # Use np.linalg.lstsq for regression through origin\n",
    "        slope = np.sum(x_clean * y_clean) / np.sum(x_clean * x_clean)\n",
    "        \n",
    "        # Alternative using sklearn:\n",
    "        # from sklearn.linear_model import LinearRegression\n",
    "        # model = LinearRegression(fit_intercept=False)\n",
    "        # model.fit(x_clean.reshape(-1, 1), y_clean)\n",
    "        # slope = model.coef_[0]\n",
    "        \n",
    "        x_line = np.linspace(x_clean.min(), x_clean.max(), 100)\n",
    "        y_line = slope * x_line  # No intercept term\n",
    "        \n",
    "        fig.add_trace(\n",
    "            go.Scatter(\n",
    "                x=x_line,\n",
    "                y=y_line,\n",
    "                mode='lines',\n",
    "                line=dict(color='red', width=2, dash='dash'),\n",
    "                showlegend=False\n",
    "            ),\n",
    "            row=i+1, col=j+1\n",
    "        )\n",
    "        if j + 1 == 3:\n",
    "            print(f\"Healthy linear regression for {y_feat} vs {x_feat}: y = {slope:.2f}x\")"
   ]
  },
  {
   "cell_type": "code",
   "execution_count": null,
   "id": "279ef278",
   "metadata": {},
   "outputs": [],
   "source": [
    "### Training block\n",
    "model = None\n",
    "if BEST_MODEL_PATH:\n",
    "    model = load_model(model_path=BEST_MODEL_PATH, input_dim=INPUT_DIM, hidden_dim=HIDDEN_DIM, latent_dim=LATENT_DIM)\n",
    "    load_and_plot_losses(losses_file=BEST_LOSS_PATH,\n",
    "                        title_font_size=TITLE_FONT_SIZE,\n",
    "                        axis_title_font_size=AXIS_TITLE_FONT_SIZE,\n",
    "                        legend_font_size=LEGEND_FONT_SIZE)\n",
    "else:\n",
    "    model, train_losses, val_losses = train_model(\n",
    "        step_tensor=step_tensor,\n",
    "        lengths=lengths,\n",
    "        input_dim=INPUT_DIM,\n",
    "        hidden_dim=HIDDEN_DIM,\n",
    "        latent_dim=LATENT_DIM,\n",
    "        batch_size=BATCH_SIZE,\n",
    "        num_epochs=NUM_EPOCHS,\n",
    "        lr=LR,\n",
    "        patience=PATIENCE,\n",
    "        min_delta=MIN_DELTA,\n",
    "        models_dir=MODELS_DIR\n",
    "    )\n",
    "    save_model_losses(train_losses, val_losses, figures_dir=FIGURES_DIR,\n",
    "                        title_font_size=TITLE_FONT_SIZE,\n",
    "                        axis_title_font_size=AXIS_FONT_SIZE,\n",
    "                        legend_font_size=LEGEND_FONT_SIZE)\n",
    "\n",
    "assert model is not None, \"Model training failed or no model was loaded.\""
   ]
  },
  {
   "cell_type": "code",
   "execution_count": null,
   "id": "5c794d2b",
   "metadata": {},
   "outputs": [],
   "source": [
    "### Evaluate the model on pathological steps\n",
    "selected_steps = [\n",
    "    s for s in segmented_hindsteps \n",
    "    if SIDE_KEY[0] in s[\"mouse\"] \n",
    "]\n",
    "\n",
    "step_tensor_all, lengths_all = steps_to_tensor(selected_steps, scaler)\n",
    "\n",
    "## Get all embeddings for selected steps\n",
    "model.eval()\n",
    "with torch.no_grad():\n",
    "    x_hat, mu_t, logvar_t  = model(step_tensor_all, lengths_all)  # (B, T, F), (B, T, L), (B, T, L)\n",
    "    z_summary = mu_t.mean(dim=1)  # → shape: (B, L)\n",
    "\n",
    "reducer = UMAP(random_state=42, n_components=3)\n",
    "embedding = reducer.fit_transform(z_summary.cpu().numpy())  # shape: (B, 3)\n",
    "\n",
    "# Convert each step’s latent sequence to list of (T_i, L)\n",
    "# mu_t_masked = [\n",
    "#     mu_t[i, :lengths_all[i]].cpu().numpy()  # shape: (T_i, L)\n",
    "#     for i in range(mu_t.shape[0])\n",
    "# ]\n",
    "\n",
    "# Stack all latent vectors across all steps\n",
    "# all_latents = np.concatenate(mu_t_masked, axis=0)  # shape: (sum of T_i, L)\n",
    "\n",
    "# # Fit UMAP\n",
    "# umap_coords = UMAP(n_components=3, random_state=42).fit_transform(all_latents)\n",
    "\n",
    "# ## Now split the coordinates back by original steps\n",
    "# # for each step, have all the umap coordinates\n",
    "# umap_split = []\n",
    "# idx = 0\n",
    "# for i in range(len(mu_t_masked)):\n",
    "#     length = mu_t_masked[i].shape[0]\n",
    "#     umap_split.append(umap_coords[idx:idx + length])  # shape: (T_i, 3)\n",
    "#     idx += length"
   ]
  },
  {
   "cell_type": "code",
   "execution_count": null,
   "id": "fb707f8c",
   "metadata": {},
   "outputs": [],
   "source": [
    "datasets = sorted(set(s[\"group\"] for s in selected_steps))\n",
    "color_map = {ds: color for ds, color in zip(datasets, plotly.colors.qualitative.Plotly)}\n",
    "# if pre is in group, use the first color, otherwise use the second color\n",
    "for i, ds in enumerate(datasets):\n",
    "    if HEALTHY_KEY in ds:\n",
    "        color_map[ds] = plotly.colors.qualitative.Plotly[0]\n",
    "    else:\n",
    "        color_map[ds] = plotly.colors.qualitative.Plotly[1]\n",
    "\n",
    "fig = go.Figure()\n",
    "legend_shown = defaultdict(bool)\n",
    "\n",
    "for i, (x, y, z) in enumerate(embedding):\n",
    "    step_meta = selected_steps[i]\n",
    "    dataset = step_meta[\"group\"]\n",
    "    mouse = step_meta[\"mouse\"]\n",
    "    run = step_meta[\"run\"]\n",
    "    color = color_map.get(dataset, \"gray\")\n",
    "    show_legend = not legend_shown[dataset]\n",
    "    legend_shown[dataset] = True\n",
    "\n",
    "    fig.add_trace(go.Scatter3d(\n",
    "        x=[x], y=[y], z=[z],\n",
    "        mode='markers',\n",
    "        name=dataset if show_legend else None,\n",
    "        legendgroup=dataset,\n",
    "        showlegend=show_legend,\n",
    "        marker=dict(size=SCATTER_SIZE, color=color, line=dict(width=SCATTER_LINE_WIDTH, color='black')),\n",
    "        hoverinfo='text',\n",
    "        text=[f\"{dataset} | {mouse} | run={run}\"]\n",
    "    ))\n",
    "\n",
    "fig.update_layout(\n",
    "    title=\"Latent Trajectories Over Time by Dataset\",\n",
    "    scene=dict(\n",
    "        xaxis_title='UMAP1',\n",
    "        yaxis_title='UMAP2',\n",
    "        zaxis_title='UMAP3'\n",
    "    ),\n",
    "    legend=dict(title=\"Dataset\"),\n",
    "    width=900,\n",
    "    height=700,\n",
    "    template='plotly_white'\n",
    ")\n",
    "\n",
    "fig.show()"
   ]
  },
  {
   "cell_type": "code",
   "execution_count": null,
   "id": "5999adf2",
   "metadata": {},
   "outputs": [],
   "source": [
    "## TODO: make the 3D plot with trajectories for both pre and post sci\n",
    "sample_idx = torch.randperm(mu_t.shape[0])[:100]\n",
    "mu_t_sample = mu_t[sample_idx]\n",
    "lengths_sample = lengths_all[sample_idx]\n",
    "selected_sample = [selected_steps[i] for i in sample_idx.tolist()]\n",
    "\n",
    "mu_t = mu_t_sample\n",
    "\n",
    "B, T, L = mu_t.shape\n",
    "\n",
    "# Flatten all time steps for UMAP\n",
    "mu_t_flat = mu_t.reshape(-1, L).cpu().numpy()  # (B*T, L)\n",
    "\n",
    "# Reduce L → 3 using UMAP\n",
    "embedding_flat = reducer.fit_transform(mu_t_flat)  # (B*T, 3)\n",
    "\n",
    "# Reshape embedding back to (B, T, 3)\n",
    "embedding_3d = embedding_flat.reshape(B, T, 3)\n",
    "\n",
    "print(\"Moving to 3D plotting...\")\n",
    "\n",
    "# Plot each step as a 3D trajectory\n",
    "fig = go.Figure()\n",
    "legend_shown = defaultdict(bool)\n",
    "\n",
    "for i in range(B):\n",
    "    emb = embedding_3d[i, :lengths_all[i]]  # shape: T × 3\n",
    "    meta = selected_steps[i]\n",
    "    dataset = meta[\"group\"]\n",
    "    mouse = meta[\"mouse\"]\n",
    "    run = meta[\"run\"]\n",
    "    color = color_map.get(dataset, \"gray\")\n",
    "    show_legend = not legend_shown[dataset]\n",
    "    legend_shown[dataset] = True\n",
    "\n",
    "    fig.add_trace(go.Scatter3d(\n",
    "        x=emb[:, 0],\n",
    "        y=emb[:, 1],\n",
    "        z=emb[:, 2],\n",
    "        mode='lines+markers',\n",
    "        name=dataset if show_legend else None,\n",
    "        legendgroup=dataset,\n",
    "        showlegend=show_legend,\n",
    "        marker=dict(size=SCATTER_SIZE, color=color, line=dict(width=SCATTER_LINE_WIDTH, color='black')),\n",
    "        hoverinfo='text',\n",
    "        text=[f\"{dataset} | {mouse} | run={run} | t={t}\" for t in range(len(emb))]\n",
    "    ))\n",
    "\n",
    "fig.update_layout(\n",
    "    title=\"Latent Trajectories Over Time (per Step)\",\n",
    "    scene=dict(\n",
    "        xaxis_title='UMAP1',\n",
    "        yaxis_title='UMAP2',\n",
    "        zaxis_title='UMAP3'\n",
    "    ),\n",
    "    legend=dict(title=\"Dataset\"),\n",
    "    width=900,\n",
    "    height=700,\n",
    "    template='plotly_white'\n",
    ")\n",
    "\n",
    "fig.show()"
   ]
  },
  {
   "cell_type": "code",
   "execution_count": null,
   "id": "df418629",
   "metadata": {},
   "outputs": [],
   "source": [
    "def plot_timewise_umap_trajectories(segmented_hindsteps, scaler):\n",
    "    \"\"\"\n",
    "    Plot UMAP projection of all timepoints in each step.\n",
    "    Each step becomes a trajectory (line) in 3D UMAP space.\n",
    "    Mice from the same dataset (e.g., 'pre', 'post') share color and legend.\n",
    "    \"\"\"\n",
    "    from collections import defaultdict\n",
    "\n",
    "    filtered_steps = [s for s in segmented_hindsteps if SIDE_KEY[0] in s[\"mouse\"]]\n",
    "\n",
    "    step_id = 0\n",
    "    timepoints = []\n",
    "    metadata = []\n",
    "\n",
    "    for s in filtered_steps:\n",
    "        arr = scaler.transform(s[\"step\"].values)  # (T, D)\n",
    "        for t in range(arr.shape[0]):\n",
    "            timepoints.append(arr[t])\n",
    "            metadata.append({\n",
    "                \"step_id\": step_id,\n",
    "                \"t\": t,\n",
    "                \"mouse\": s[\"mouse\"],\n",
    "                \"group\": s[\"group\"],\n",
    "                \"run\": s[\"run\"]\n",
    "            })\n",
    "        step_id += 1\n",
    "\n",
    "    X = np.stack(timepoints)\n",
    "    umap_coords = UMAP(n_components=3, random_state=42).fit_transform(X)\n",
    "\n",
    "    umap_df = pd.DataFrame(umap_coords, columns=[\"UMAP1\", \"UMAP2\", \"UMAP3\"])\n",
    "    umap_df = pd.concat([umap_df, pd.DataFrame(metadata)], axis=1)\n",
    "\n",
    "    datasets = sorted(umap_df[\"group\"].unique())\n",
    "    color_map = {ds: color for ds, color in zip(datasets, plotly.colors.qualitative.Plotly)}\n",
    "\n",
    "    fig = go.Figure()\n",
    "    legend_shown = defaultdict(bool)\n",
    "\n",
    "    for step_id, group in umap_df.groupby(\"step_id\"):\n",
    "        dataset = group[\"group\"].iloc[0]\n",
    "        color = color_map[dataset]\n",
    "        show_legend = not legend_shown[dataset]\n",
    "        legend_shown[dataset] = True\n",
    "\n",
    "        fig.add_trace(go.Scatter3d(\n",
    "            x=group[\"UMAP1\"],\n",
    "            y=group[\"UMAP2\"],\n",
    "            z=group[\"UMAP3\"],\n",
    "            mode=\"lines+markers\",\n",
    "            line=dict(color=color, width=2),\n",
    "            marker=dict(size=3, color=color),\n",
    "            name=dataset,\n",
    "            legendgroup=dataset,\n",
    "            showlegend=show_legend,\n",
    "            text=[f\"{group['mouse'].iloc[0]} | run={r} | t={t}\" for r, t in zip(group[\"run\"], group[\"t\"])]\n",
    "        ))\n",
    "\n",
    "    fig.update_layout(\n",
    "        title=\"Time-Resolved UMAP of Step Dynamics by Dataset\",\n",
    "        scene=dict(\n",
    "            xaxis_title=\"UMAP1\",\n",
    "            yaxis_title=\"UMAP2\",\n",
    "            zaxis_title=\"UMAP3\"\n",
    "        ),\n",
    "        legend=dict(title=\"Dataset\", font=dict(size=12)),\n",
    "        width=900,\n",
    "        height=700,\n",
    "        template=\"plotly_white\"\n",
    "    )\n",
    "\n",
    "    fig.show()\n",
    "\n",
    "# Usage:\n",
    "plot_timewise_umap_trajectories(segmented_hindsteps, scaler)"
   ]
  }
 ],
 "metadata": {
  "kernelspec": {
   "display_name": ".venv",
   "language": "python",
   "name": "python3"
  },
  "language_info": {
   "codemirror_mode": {
    "name": "ipython",
    "version": 3
   },
   "file_extension": ".py",
   "mimetype": "text/x-python",
   "name": "python",
   "nbconvert_exporter": "python",
   "pygments_lexer": "ipython3",
   "version": "3.13.3"
  }
 },
 "nbformat": 4,
 "nbformat_minor": 5
}
