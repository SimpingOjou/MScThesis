{
 "cells": [
  {
   "cell_type": "code",
   "execution_count": 1,
   "id": "b527e6fb",
   "metadata": {},
   "outputs": [],
   "source": [
    "import os\n",
    "import pandas as pd\n",
    "import numpy as np\n",
    "import torch\n",
    "import plotly.express as px\n",
    "import plotly.graph_objs as go\n",
    "import plotly.colors\n",
    "from collections import defaultdict\n",
    "\n",
    "from sklearn.preprocessing import StandardScaler\n",
    "from umap import UMAP\n",
    "\n",
    "from src.ModelUtils import (load_model,\n",
    "                            train_model,\n",
    "                            save_model_losses,\n",
    "                            load_and_plot_losses)\n",
    "from src.DataUtils import (load_data_from_directory,\n",
    "                           segment_all_steps,\n",
    "                           steps_to_tensor,\n",
    "                           reshape_data)\n",
    "from src.Plot import (plot_step_trajectory, plot_trajectory,\n",
    "                      plot_animated_trajectory, plot_trajectory_with_joint_traces,\n",
    "                      compare_step_features_in_batches, plot_umap_from_step,\n",
    "                      plot_umap_all_steps, plot_mean_spatial_trajectory,\n",
    "                      compare_phase_aligned_average_single, compare_phase_aligned_average_xy,\n",
    "                      plot_phase_aligned_average_single, plot_phase_aligned_average_xy,\n",
    "                      plot_trajectory_with_joint_trace,\n",
    "                      compare_spatial_progression_over_time, compare_spatial_progression_xy_over_time,\n",
    "                      compare_spatial_angle_progression_over_time)"
   ]
  },
  {
   "cell_type": "code",
   "execution_count": 2,
   "id": "974c894b",
   "metadata": {},
   "outputs": [
    {
     "name": "stdout",
     "output_type": "stream",
     "text": [
      "Group: SCI_PostSCI\n",
      "\tLeft_Mouse164: 3 runs with shapes: [(244, 199), (124, 199), (136, 199)]\n",
      "\tLeft_Mouse174: 3 runs with shapes: [(671, 199), (561, 199), (531, 199)]\n",
      "\tLeft_Mouse178: 3 runs with shapes: [(579, 199), (701, 199), (631, 199)]\n",
      "\tLeft_Mouse180: 1 runs with shapes: [(601, 199)]\n",
      "\tLeft_Mouse42: 4 runs with shapes: [(301, 199), (304, 199), (459, 199), (220, 199)]\n",
      "\tLeft_Mouse44: 4 runs with shapes: [(176, 199), (171, 199), (134, 199), (161, 199)]\n",
      "\tLeft_Mouse46: 4 runs with shapes: [(201, 199), (135, 199), (101, 199), (120, 199)]\n",
      "\tLeft_Mouse50: 3 runs with shapes: [(374, 199), (711, 199), (701, 199)]\n",
      "\tLeft_Mouse82: 4 runs with shapes: [(260, 199), (167, 199), (201, 199), (253, 199)]\n",
      "\tLeft_Mouse84: 1 runs with shapes: [(420, 199)]\n",
      "\tLeft_Mouse86: 4 runs with shapes: [(149, 199), (201, 199), (251, 199), (149, 199)]\n",
      "\tLeft_Mouse90: 3 runs with shapes: [(391, 199), (377, 199), (421, 199)]\n",
      "Group: SCI_PreSCI\n",
      "\tLeft_Mouse160: 3 runs with shapes: [(424, 199), (301, 199), (231, 199)]\n",
      "\tLeft_Mouse162: 3 runs with shapes: [(421, 199), (356, 199), (161, 199)]\n",
      "\tLeft_Mouse164: 3 runs with shapes: [(461, 199), (211, 199), (213, 199)]\n",
      "\tLeft_Mouse166: 3 runs with shapes: [(268, 199), (111, 199), (281, 199)]\n",
      "\tLeft_Mouse168: 3 runs with shapes: [(435, 199), (236, 199), (195, 199)]\n",
      "\tLeft_Mouse170: 3 runs with shapes: [(311, 199), (219, 199), (281, 199)]\n",
      "\tLeft_Mouse172: 3 runs with shapes: [(453, 199), (301, 199), (116, 199)]\n",
      "\tLeft_Mouse174: 3 runs with shapes: [(692, 199), (241, 199), (274, 199)]\n",
      "\tLeft_Mouse176: 3 runs with shapes: [(216, 199), (175, 199), (151, 199)]\n",
      "\tLeft_Mouse178: 3 runs with shapes: [(366, 199), (251, 199), (304, 199)]\n",
      "\tLeft_Mouse180: 3 runs with shapes: [(201, 199), (191, 199), (276, 199)]\n",
      "\tLeft_Mouse182: 3 runs with shapes: [(511, 199), (241, 199), (431, 199)]\n",
      "\tLeft_Mouse42: 4 runs with shapes: [(190, 199), (168, 199), (135, 199), (244, 199)]\n",
      "\tLeft_Mouse44: 4 runs with shapes: [(309, 199), (195, 199), (251, 199), (129, 199)]\n",
      "\tLeft_Mouse46: 4 runs with shapes: [(211, 199), (138, 199), (294, 199), (241, 199)]\n",
      "\tLeft_Mouse48: 3 runs with shapes: [(318, 199), (251, 199), (191, 199)]\n",
      "\tLeft_Mouse50: 4 runs with shapes: [(276, 199), (211, 199), (191, 199), (201, 199)]\n",
      "\tLeft_Mouse80: 7 runs with shapes: [(201, 199), (201, 199), (162, 199), (131, 199), (101, 199), (85, 199), (109, 199)]\n",
      "\tLeft_Mouse82: 5 runs with shapes: [(126, 199), (134, 199), (191, 199), (201, 199), (183, 199)]\n",
      "\tLeft_Mouse84: 5 runs with shapes: [(331, 199), (117, 199), (71, 199), (158, 199), (114, 199)]\n",
      "\tLeft_Mouse86: 3 runs with shapes: [(243, 199), (171, 199), (129, 199)]\n",
      "\tLeft_Mouse88: 4 runs with shapes: [(159, 199), (261, 199), (171, 199), (171, 199)]\n",
      "\tLeft_Mouse90: 5 runs with shapes: [(281, 199), (199, 199), (150, 199), (115, 199), (111, 199)]\n"
     ]
    }
   ],
   "source": [
    "## Directories and constants\n",
    "FIGURES_DIR = './figures/SCI'\n",
    "MODELS_DIR = './src/models'\n",
    "DATA_DIR = './csv/SCI_nimo_placebo'\n",
    "HEALTHY_KEY = 'Pre'\n",
    "SICK_KEY = 'Post'\n",
    "SIDE_KEY = ('Left','Right')\n",
    "\n",
    "## Hyperparameters and early stopping\n",
    "INPUT_DIM = None\n",
    "HIDDEN_DIM = 64\n",
    "LATENT_DIM = 16\n",
    "BATCH_SIZE = 32\n",
    "NUM_EPOCHS = 5000\n",
    "LR = 1e-3\n",
    "PATIENCE = 100 # number of epochs to wait for improvement before stopping\n",
    "MIN_DELTA = 1e-4 # minimum change to qualify as an improvement\n",
    "BEST_MODEL_PATH = os.path.join(MODELS_DIR, 'lstm_VAE_t_SCI_20250609_200452.pt')\n",
    "BEST_LOSS_PATH = os.path.join(FIGURES_DIR, 'SCI_losses.csv')\n",
    "\n",
    "## Plot constants\n",
    "SCATTER_SIZE = 6\n",
    "SCATTER_LINE_WIDTH = 1\n",
    "SCATTER_SYMBOL = 'circle'\n",
    "LEGEND_FONT_SIZE = 18\n",
    "TITLE_FONT_SIZE = 24\n",
    "AXIS_FONT_SIZE = 16\n",
    "AXIS_TITLE_FONT_SIZE = 20\n",
    "\n",
    "# Load the data\n",
    "data = load_data_from_directory(DATA_DIR)\n",
    "\n",
    "# Print the data structure\n",
    "for datagroup, mice in data.items():\n",
    "    print(f\"Group: {datagroup}\")\n",
    "    for mouse_direction, runs in mice.items():\n",
    "        print(f\"\\t{mouse_direction}: {len(runs)} runs with shapes: {[df.shape for df in runs.values()]}\")"
   ]
  },
  {
   "cell_type": "code",
   "execution_count": 3,
   "id": "59a4889c",
   "metadata": {},
   "outputs": [
    {
     "name": "stdout",
     "output_type": "stream",
     "text": [
      "Number of features: 196\n"
     ]
    }
   ],
   "source": [
    "# Print the features count\n",
    "for datagroup, mice in data.items():\n",
    "    for mouse_direction, runs in mice.items():\n",
    "        for run, df in runs.items():\n",
    "            print(f\"Number of features: {df.shape[1] + 1 - 4}\") # +1 bc of index, -4 to exclude frame, forestep, hindstep, and time\n",
    "            break\n",
    "        break\n",
    "    break"
   ]
  },
  {
   "cell_type": "code",
   "execution_count": 4,
   "id": "2b8c7ae8",
   "metadata": {},
   "outputs": [],
   "source": [
    "## Segment all steps in the data\n",
    "# This will create two dictionaries: segmented_hindsteps and segmented_foresteps\n",
    "# Each dictionary will contain segmented steps for each mouse direction and run\n",
    "    # \"step\": step_df,\n",
    "    # \"group\": group,\n",
    "    # \"mouse\": mouse,\n",
    "    # \"run\": run\n",
    "segmented_hindsteps, segmented_foresteps = segment_all_steps(data)\n",
    "\n",
    "reshaped_data = reshape_data(data) # reshape the data to have a single DataFrame for each mouse direction and run and access to the hindsteps and foresteps\n",
    "\n",
    "## Flatten all steps into a single array to compute global mean/std and get the scaler\n",
    "all_healthy_arrays = [step_dict[\"step\"].values for step_dict in segmented_hindsteps if HEALTHY_KEY in step_dict[\"group\"] and SIDE_KEY[0] in step_dict[\"mouse\"]]\n",
    "flat_data = np.vstack(all_healthy_arrays)\n",
    "\n",
    "scaler = StandardScaler()\n",
    "scaler = scaler.fit(flat_data)\n",
    "\n",
    "## Prepare the data for training\n",
    "healthy_steps = [s for s in segmented_hindsteps if HEALTHY_KEY in s[\"group\"] and SIDE_KEY[0] in s[\"mouse\"]]\n",
    "unhealthy_steps = [s for s in segmented_hindsteps if SICK_KEY in s[\"group\"] and SIDE_KEY[0] in s[\"mouse\"]]\n",
    "step_tensor, lengths = steps_to_tensor(healthy_steps, scaler)\n",
    "if INPUT_DIM is None:\n",
    "    INPUT_DIM = step_tensor.shape[2]"
   ]
  },
  {
   "cell_type": "code",
   "execution_count": 5,
   "id": "477a3976",
   "metadata": {},
   "outputs": [
    {
     "name": "stdout",
     "output_type": "stream",
     "text": [
      "Segmented dataframe shhape: (56, 196)\n",
      "Step tensor shape: torch.Size([308, 134, 196]), \n",
      "Lengths shape: torch.Size([308])\n"
     ]
    }
   ],
   "source": [
    "print(f'Segmented dataframe shhape: {segmented_hindsteps[0][\"step\"].shape}')\n",
    "#print(f'Averaged dataframe shhape: {averaged_hindsteps[0][\"step\"].shape}')\n",
    "print(f\"Step tensor shape: {step_tensor.shape}, \\nLengths shape: {lengths.shape}\")"
   ]
  },
  {
   "cell_type": "code",
   "execution_count": 6,
   "id": "2eef846a",
   "metadata": {},
   "outputs": [],
   "source": [
    "### Plot XY pose data\n",
    "HINDLIMB_KEY = 'hindlimb'\n",
    "FORELIMB_KEY = 'forelimb'\n",
    "SPINE_KEY = 'spine'\n",
    "TAIL_KEY = 'tail'\n",
    "POSE_KEY = 'pose'\n",
    "ANGLE_KEY = 'Angle'\n",
    "ALL_LIMBS = [HINDLIMB_KEY, FORELIMB_KEY, SPINE_KEY, TAIL_KEY]\n",
    "first_df = next(iter(segmented_hindsteps))[\"step\"]"
   ]
  },
  {
   "cell_type": "code",
   "execution_count": 7,
   "id": "a4d8c411",
   "metadata": {},
   "outputs": [
    {
     "name": "stdout",
     "output_type": "stream",
     "text": [
      "Limbs poses: ['rhindlimb hip - X pose (m)', 'rhindlimb hip - Y pose (m)', 'rhindlimb knee - X pose (m)', 'rhindlimb knee - Y pose (m)', 'rhindlimb ankle - X pose (m)', 'rhindlimb ankle - Y pose (m)', 'rhindlimb lHindpaw - X pose (m)', 'rhindlimb lHindpaw - Y pose (m)', 'rhindlimb lHindfingers - X pose (m)', 'rhindlimb lHindfingers - Y pose (m)']\n",
      "Limbs poses: ['rforelimb shoulder - X pose (m)', 'rforelimb shoulder - Y pose (m)', 'rforelimb elbow - X pose (m)', 'rforelimb elbow - Y pose (m)', 'rforelimb wrist - X pose (m)', 'rforelimb wrist - Y pose (m)', 'rforelimb lForepaw - X pose (m)', 'rforelimb lForepaw - Y pose (m)']\n",
      "Limbs poses: ['spine head - X pose (m)', 'spine head - Y pose (m)', 'spine spine 1 - X pose (m)', 'spine spine 1 - Y pose (m)', 'spine spine 2 - X pose (m)', 'spine spine 2 - Y pose (m)', 'spine spine 3 - X pose (m)', 'spine spine 3 - Y pose (m)', 'spine spine 4 - X pose (m)', 'spine spine 4 - Y pose (m)', 'spine base - X pose (m)', 'spine base - Y pose (m)']\n",
      "Limbs poses: ['tail base - X pose (m)', 'tail base - Y pose (m)']\n"
     ]
    }
   ],
   "source": [
    "## Extract poses for each limb\n",
    "hindlimb_keys = [key for key in first_df.columns if HINDLIMB_KEY in key and POSE_KEY in key]\n",
    "forelimb_keys = [key for key in first_df.columns if FORELIMB_KEY in key and POSE_KEY in key]\n",
    "spine_keys = [key for key in first_df.columns if SPINE_KEY in key and POSE_KEY in key]\n",
    "tail_keys = [key for key in first_df.columns if TAIL_KEY in key and POSE_KEY in key]\n",
    "\n",
    "all_limbs_keys = [hindlimb_keys, forelimb_keys, spine_keys, tail_keys]\n",
    "for limb in all_limbs_keys:\n",
    "    print(f\"Limbs poses: {limb}\")"
   ]
  },
  {
   "cell_type": "code",
   "execution_count": 8,
   "id": "c172207d",
   "metadata": {},
   "outputs": [
    {
     "name": "stdout",
     "output_type": "stream",
     "text": [
      "Limbs angles: ['Angle - rhindlimb - hip (°)', 'Angle - rhindlimb - knee (°)', 'Angle - rhindlimb - ankle (°)', 'Angle - rhindlimb - lHindpaw (°)', 'Angle - rhindlimb - lHindfingers (°)', 'Angle velocity - rhindlimb - hip (rad/s)', 'Angle velocity - rhindlimb - knee (rad/s)', 'Angle velocity - rhindlimb - ankle (rad/s)', 'Angle velocity - rhindlimb - lHindpaw (rad/s)', 'Angle velocity - rhindlimb - lHindfingers (rad/s)', 'Angle acceleration - rhindlimb - hip (rad/s^2)', 'Angle acceleration - rhindlimb - knee (rad/s^2)', 'Angle acceleration - rhindlimb - ankle (rad/s^2)', 'Angle acceleration - rhindlimb - lHindpaw (rad/s^2)', 'Angle acceleration - rhindlimb - lHindfingers (rad/s^2)']\n",
      "Limbs angles: ['Angle - rforelimb - shoulder (°)', 'Angle - rforelimb - elbow (°)', 'Angle - rforelimb - wrist (°)', 'Angle - rforelimb - lForepaw (°)', 'Angle velocity - rforelimb - shoulder (rad/s)', 'Angle velocity - rforelimb - elbow (rad/s)', 'Angle velocity - rforelimb - wrist (rad/s)', 'Angle velocity - rforelimb - lForepaw (rad/s)', 'Angle acceleration - rforelimb - shoulder (rad/s^2)', 'Angle acceleration - rforelimb - elbow (rad/s^2)', 'Angle acceleration - rforelimb - wrist (rad/s^2)', 'Angle acceleration - rforelimb - lForepaw (rad/s^2)']\n",
      "Limbs angles: ['Angle - spine - head (°)', 'Angle - spine - spine 1 (°)', 'Angle - spine - spine 2 (°)', 'Angle - spine - spine 3 (°)', 'Angle - spine - spine 4 (°)', 'Angle - spine - base (°)', 'Angle velocity - spine - head (rad/s)', 'Angle velocity - spine - spine 1 (rad/s)', 'Angle velocity - spine - spine 2 (rad/s)', 'Angle velocity - spine - spine 3 (rad/s)', 'Angle velocity - spine - spine 4 (rad/s)', 'Angle velocity - spine - base (rad/s)', 'Angle acceleration - spine - head (rad/s^2)', 'Angle acceleration - spine - spine 1 (rad/s^2)', 'Angle acceleration - spine - spine 2 (rad/s^2)', 'Angle acceleration - spine - spine 3 (rad/s^2)', 'Angle acceleration - spine - spine 4 (rad/s^2)', 'Angle acceleration - spine - base (rad/s^2)']\n",
      "Limbs angles: ['Angle - tail - base (°)', 'Angle - tail - tail 1 (°)', 'Angle - tail - tail 2 (°)', 'Angle - tail - tail 3 (°)', 'Angle - tail - tail 4 (°)', 'Angle velocity - tail - base (rad/s)', 'Angle velocity - tail - tail 1 (rad/s)', 'Angle velocity - tail - tail 2 (rad/s)', 'Angle velocity - tail - tail 3 (rad/s)', 'Angle velocity - tail - tail 4 (rad/s)', 'Angle acceleration - tail - base (rad/s^2)', 'Angle acceleration - tail - tail 1 (rad/s^2)', 'Angle acceleration - tail - tail 2 (rad/s^2)', 'Angle acceleration - tail - tail 3 (rad/s^2)', 'Angle acceleration - tail - tail 4 (rad/s^2)']\n"
     ]
    }
   ],
   "source": [
    "## Extract angles for each limb\n",
    "hindlimb_angles = [key for key in first_df.columns if ANGLE_KEY in key and HINDLIMB_KEY in key]\n",
    "forelimb_angles = [key for key in first_df.columns if ANGLE_KEY in key and FORELIMB_KEY in key]\n",
    "spine_angles = [key for key in first_df.columns if ANGLE_KEY in key and SPINE_KEY in key]\n",
    "tail_angles = [key for key in first_df.columns if ANGLE_KEY in key and TAIL_KEY in key]\n",
    "\n",
    "all_limbs_angles = [hindlimb_angles, forelimb_angles, spine_angles, tail_angles]\n",
    "for limb in all_limbs_angles:\n",
    "    print(f\"Limbs angles: {limb}\")"
   ]
  },
  {
   "cell_type": "code",
   "execution_count": 9,
   "id": "16fa24ed",
   "metadata": {},
   "outputs": [
    {
     "name": "stdout",
     "output_type": "stream",
     "text": [
      "CoM features: ['rforelimb - CoM X (m)', 'rforelimb - CoM Y (m)', 'rhindlimb - CoM X (m)', 'rhindlimb - CoM Y (m)', 'spine - CoM X (m)', 'spine - CoM Y (m)', 'tail - CoM X (m)', 'tail - CoM Y (m)']\n"
     ]
    }
   ],
   "source": [
    "## Extract CoM features\n",
    "CoM_features = [key for key in first_df.columns if 'CoM' in key in key]\n",
    "print(f\"CoM features: {CoM_features}\")"
   ]
  },
  {
   "cell_type": "code",
   "execution_count": 10,
   "id": "ec1d09f2",
   "metadata": {},
   "outputs": [
    {
     "name": "stdout",
     "output_type": "stream",
     "text": [
      "Single point features: ['rhindlimb lHindfingers - X pose (m)', 'rhindlimb lHindfingers - X velocity (m/s)', 'rhindlimb lHindfingers - X acceleration (m/s^2)', 'rhindlimb lHindfingers - X jerk (m/s^3)', 'rhindlimb lHindfingers - Y pose (m)', 'rhindlimb lHindfingers - Y velocity (m/s)', 'rhindlimb lHindfingers - Y acceleration (m/s^2)', 'rhindlimb lHindfingers - Y jerk (m/s^3)']\n",
      "Single point features: ['rhindlimb lHindpaw - X pose (m)', 'rhindlimb lHindpaw - X velocity (m/s)', 'rhindlimb lHindpaw - X acceleration (m/s^2)', 'rhindlimb lHindpaw - X jerk (m/s^3)', 'rhindlimb lHindpaw - Y pose (m)', 'rhindlimb lHindpaw - Y velocity (m/s)', 'rhindlimb lHindpaw - Y acceleration (m/s^2)', 'rhindlimb lHindpaw - Y jerk (m/s^3)']\n",
      "Single point features: ['rforelimb lForepaw - X pose (m)', 'rforelimb lForepaw - X velocity (m/s)', 'rforelimb lForepaw - X acceleration (m/s^2)', 'rforelimb lForepaw - X jerk (m/s^3)', 'rforelimb lForepaw - Y pose (m)', 'rforelimb lForepaw - Y velocity (m/s)', 'rforelimb lForepaw - Y acceleration (m/s^2)', 'rforelimb lForepaw - Y jerk (m/s^3)']\n",
      "Single point features: ['spine head - X pose (m)', 'spine head - X velocity (m/s)', 'spine head - X acceleration (m/s^2)', 'spine head - X jerk (m/s^3)', 'spine head - Y pose (m)', 'spine head - Y velocity (m/s)', 'spine head - Y acceleration (m/s^2)', 'spine head - Y jerk (m/s^3)']\n"
     ]
    }
   ],
   "source": [
    "## Extract relevant single point features\n",
    "hindfinger_features = [key for key in first_df.columns if 'hindfingers' in key.lower() and 'Angle' not in key]\n",
    "hindpaw_features = [key for key in first_df.columns if 'hindpaw' in key.lower() and 'Angle' not in key]\n",
    "forepaw_features = [key for key in first_df.columns if 'forepaw' in key.lower() and 'Angle' not in key]\n",
    "head_features = [key for key in first_df.columns if 'head' in key.lower() and 'Angle' not in key]\n",
    "\n",
    "single_point_features = [hindfinger_features, hindpaw_features, forepaw_features, head_features]\n",
    "single_point_feature_names = ['hindfingers', 'hindpaw', 'forepaw', 'head']\n",
    "for features in single_point_features:\n",
    "    print(f\"Single point features: {features}\")"
   ]
  },
  {
   "cell_type": "code",
   "execution_count": null,
   "id": "907eab6a",
   "metadata": {},
   "outputs": [],
   "source": [
    "## Save all angle plots\n",
    "savedir = os.path.join(FIGURES_DIR, 'Angles')\n",
    "for limb, angles in zip(ALL_LIMBS, all_limbs_angles):\n",
    "    plot_phase_aligned_average_single(healthy_steps, feature_keys=angles, figure_path=os.path.join(savedir, f'Angles_healthy_time_locked_{limb}.svg')) # Plot phase locked for one state\n",
    "    compare_phase_aligned_average_single(healthy_steps, unhealthy_steps, feature_keys=angles, figure_path=os.path.join(savedir, f'Angles_healthy_vs_SCI_time_locked_{limb}.svg')) # Plot phase locked for two states\n",
    "    compare_spatial_angle_progression_over_time(healthy_steps, unhealthy_steps, feature_keys=angles, figure_path=os.path.join(savedir, f'Angles_healthy_vs_SCI_space_locked_{limb}.svg')) # Plot space locked for two states"
   ]
  },
  {
   "cell_type": "code",
   "execution_count": null,
   "id": "38a11b54",
   "metadata": {},
   "outputs": [],
   "source": [
    "## Save all CoM plots\n",
    "savedir = os.path.join(FIGURES_DIR, 'CoM')\n",
    "\n",
    "plot_phase_aligned_average_xy(healthy_steps, feature_keys=CoM_features, figure_path=os.path.join(savedir, 'CoM_healthy_time_locked.svg')) # Plot phase locked for one state\n",
    "compare_phase_aligned_average_xy(healthy_steps, unhealthy_steps, feature_keys=CoM_features, figure_path=os.path.join(savedir, 'CoM_healthy_vs_SCI_time_locked.svg')) # Plot phase locked for two states\n",
    "compare_spatial_progression_xy_over_time(healthy_steps, unhealthy_steps, feature_keys=CoM_features, length_key='rhindlimb lHindfingers - X pose (m)', height_key='rhindlimb lHindfingers - Y pose (m)', figure_path=os.path.join(savedir, 'CoM_healthy_vs_SCI_space_locked.svg')) # Plot space locked for two states"
   ]
  },
  {
   "cell_type": "code",
   "execution_count": null,
   "id": "39eeacd5",
   "metadata": {},
   "outputs": [],
   "source": [
    "## Save all XY pose plots\n",
    "savedir = os.path.join(FIGURES_DIR, 'Kinematics')\n",
    "\n",
    "for name, feature in zip(single_point_feature_names, single_point_features):\n",
    "    plot_phase_aligned_average_xy(healthy_steps, feature_keys=feature, figure_path=os.path.join(savedir, f'{name}_healthy_time_locked.svg')) # Plot phase locked for one state\n",
    "    compare_phase_aligned_average_xy(healthy_steps, unhealthy_steps, feature_keys=feature, figure_path=os.path.join(savedir, f'{name}_healthy_vs_SCI_time_locked.svg')) # Plot phase locked for two states\n",
    "    compare_spatial_progression_xy_over_time(healthy_steps, unhealthy_steps, feature_keys=feature, length_key='rhindlimb lHindfingers - X pose (m)', height_key='rhindlimb lHindfingers - Y pose (m)', figure_path=os.path.join(savedir, f'{name}_healthy_vs_SCI_space_locked.svg')) # Plot space locked for two states"
   ]
  },
  {
   "cell_type": "code",
   "execution_count": null,
   "id": "0108b4fb",
   "metadata": {},
   "outputs": [],
   "source": [
    "forelimb_keys = [key for key in first_df.columns if 'forelimb' in key.lower() and POSE_KEY in key]\n",
    "# Plot stick figure forelimb (bottom) and hindlimb (upper) trajectories\n",
    "savedir = os.path.join(FIGURES_DIR, 'Trajectories/Full')\n",
    "plot_trajectory_with_joint_traces(reshaped_data, forelimb_keys, hindlimb_keys, figure_path=savedir)"
   ]
  },
  {
   "cell_type": "code",
   "execution_count": null,
   "id": "7ad123fc",
   "metadata": {},
   "outputs": [],
   "source": [
    "# time is nornmalized by step\n",
    "plot_mean_spatial_trajectory(segmented_hindsteps) "
   ]
  },
  {
   "cell_type": "code",
   "execution_count": null,
   "id": "ae4a3c67",
   "metadata": {},
   "outputs": [],
   "source": [
    "plot_umap_from_step(segmented_hindsteps[0])"
   ]
  },
  {
   "cell_type": "code",
   "execution_count": null,
   "id": "0e8f6282",
   "metadata": {},
   "outputs": [],
   "source": [
    "plot_umap_all_steps(healthy_steps)"
   ]
  },
  {
   "cell_type": "code",
   "execution_count": null,
   "id": "d319963b",
   "metadata": {},
   "outputs": [],
   "source": [
    "plot_umap_all_steps(unhealthy_steps)"
   ]
  },
  {
   "cell_type": "code",
   "execution_count": null,
   "id": "462cf743",
   "metadata": {},
   "outputs": [],
   "source": [
    "compare_step_features_in_batches(segmented_hindsteps[0])"
   ]
  },
  {
   "cell_type": "code",
   "execution_count": null,
   "id": "b013bae6",
   "metadata": {},
   "outputs": [],
   "source": [
    "plot_step_trajectory(segmented_hindsteps, hindlimb_keys)"
   ]
  },
  {
   "cell_type": "code",
   "execution_count": null,
   "id": "6aef44b3",
   "metadata": {},
   "outputs": [],
   "source": [
    "plot_trajectory_with_joint_trace(reshaped_data, hindlimb_keys)"
   ]
  },
  {
   "cell_type": "code",
   "execution_count": null,
   "id": "56472b2f",
   "metadata": {},
   "outputs": [],
   "source": [
    "com_keys = [key for key in first_df.columns if 'CoM' in key]\n",
    "print(f\"CoM keys: {com_keys}\")\n",
    "plot_trajectory_with_joint_trace(reshaped_data, com_keys)"
   ]
  },
  {
   "cell_type": "code",
   "execution_count": null,
   "id": "ec552796",
   "metadata": {},
   "outputs": [],
   "source": [
    "plot_animated_trajectory(reshaped_data, hindlimb_keys)"
   ]
  },
  {
   "cell_type": "code",
   "execution_count": null,
   "id": "7b634832",
   "metadata": {},
   "outputs": [],
   "source": [
    "plot_trajectory(reshaped_data, hindlimb_keys)"
   ]
  },
  {
   "cell_type": "code",
   "execution_count": null,
   "id": "ab0c3e71",
   "metadata": {},
   "outputs": [],
   "source": [
    "## Plt one step for xy pose\n",
    "compare_spatial_progression_over_time(healthy_steps, unhealthy_steps, finger_pose_key='rhindlimb lHindfingers - X pose (m)')"
   ]
  },
  {
   "cell_type": "code",
   "execution_count": null,
   "id": "279ef278",
   "metadata": {},
   "outputs": [],
   "source": [
    "### Training block\n",
    "model = None\n",
    "if BEST_MODEL_PATH:\n",
    "    model = load_model(model_path=BEST_MODEL_PATH, input_dim=INPUT_DIM, hidden_dim=HIDDEN_DIM, latent_dim=LATENT_DIM)\n",
    "    load_and_plot_losses(losses_file=BEST_LOSS_PATH,\n",
    "                        title_font_size=TITLE_FONT_SIZE,\n",
    "                        axis_title_font_size=AXIS_TITLE_FONT_SIZE,\n",
    "                        legend_font_size=LEGEND_FONT_SIZE)\n",
    "else:\n",
    "    model, train_losses, val_losses = train_model(\n",
    "        step_tensor=step_tensor,\n",
    "        lengths=lengths,\n",
    "        input_dim=INPUT_DIM,\n",
    "        hidden_dim=HIDDEN_DIM,\n",
    "        latent_dim=LATENT_DIM,\n",
    "        batch_size=BATCH_SIZE,\n",
    "        num_epochs=NUM_EPOCHS,\n",
    "        lr=LR,\n",
    "        patience=PATIENCE,\n",
    "        min_delta=MIN_DELTA,\n",
    "        models_dir=MODELS_DIR\n",
    "    )\n",
    "    save_model_losses(train_losses, val_losses, figures_dir=FIGURES_DIR,\n",
    "                        title_font_size=TITLE_FONT_SIZE,\n",
    "                        axis_title_font_size=AXIS_FONT_SIZE,\n",
    "                        legend_font_size=LEGEND_FONT_SIZE)\n",
    "\n",
    "assert model is not None, \"Model training failed or no model was loaded.\""
   ]
  },
  {
   "cell_type": "code",
   "execution_count": null,
   "id": "5c794d2b",
   "metadata": {},
   "outputs": [],
   "source": [
    "### Evaluate the model on pathological steps\n",
    "selected_steps = [\n",
    "    s for s in segmented_hindsteps \n",
    "    if SIDE_KEY[0] in s[\"mouse\"] \n",
    "]\n",
    "\n",
    "step_tensor_all, lengths_all = steps_to_tensor(selected_steps, scaler)\n",
    "\n",
    "## Get all embeddings for selected steps\n",
    "model.eval()\n",
    "with torch.no_grad():\n",
    "    x_hat, mu_t, logvar_t  = model(step_tensor_all, lengths_all)  # (B, T, F), (B, T, L), (B, T, L)\n",
    "    z_summary = mu_t.mean(dim=1)  # → shape: (B, L)\n",
    "\n",
    "reducer = UMAP(random_state=42, n_components=3)\n",
    "embedding = reducer.fit_transform(z_summary.cpu().numpy())  # shape: (B, 3)\n",
    "\n",
    "# Convert each step’s latent sequence to list of (T_i, L)\n",
    "# mu_t_masked = [\n",
    "#     mu_t[i, :lengths_all[i]].cpu().numpy()  # shape: (T_i, L)\n",
    "#     for i in range(mu_t.shape[0])\n",
    "# ]\n",
    "\n",
    "# Stack all latent vectors across all steps\n",
    "# all_latents = np.concatenate(mu_t_masked, axis=0)  # shape: (sum of T_i, L)\n",
    "\n",
    "# # Fit UMAP\n",
    "# umap_coords = UMAP(n_components=3, random_state=42).fit_transform(all_latents)\n",
    "\n",
    "# ## Now split the coordinates back by original steps\n",
    "# # for each step, have all the umap coordinates\n",
    "# umap_split = []\n",
    "# idx = 0\n",
    "# for i in range(len(mu_t_masked)):\n",
    "#     length = mu_t_masked[i].shape[0]\n",
    "#     umap_split.append(umap_coords[idx:idx + length])  # shape: (T_i, 3)\n",
    "#     idx += length"
   ]
  },
  {
   "cell_type": "code",
   "execution_count": null,
   "id": "fb707f8c",
   "metadata": {},
   "outputs": [],
   "source": [
    "datasets = sorted(set(s[\"group\"] for s in selected_steps))\n",
    "color_map = {ds: color for ds, color in zip(datasets, plotly.colors.qualitative.Plotly)}\n",
    "# if pre is in group, use the first color, otherwise use the second color\n",
    "for i, ds in enumerate(datasets):\n",
    "    if HEALTHY_KEY in ds:\n",
    "        color_map[ds] = plotly.colors.qualitative.Plotly[0]\n",
    "    else:\n",
    "        color_map[ds] = plotly.colors.qualitative.Plotly[1]\n",
    "\n",
    "fig = go.Figure()\n",
    "legend_shown = defaultdict(bool)\n",
    "\n",
    "for i, (x, y, z) in enumerate(embedding):\n",
    "    step_meta = selected_steps[i]\n",
    "    dataset = step_meta[\"group\"]\n",
    "    mouse = step_meta[\"mouse\"]\n",
    "    run = step_meta[\"run\"]\n",
    "    color = color_map.get(dataset, \"gray\")\n",
    "    show_legend = not legend_shown[dataset]\n",
    "    legend_shown[dataset] = True\n",
    "\n",
    "    fig.add_trace(go.Scatter3d(\n",
    "        x=[x], y=[y], z=[z],\n",
    "        mode='markers',\n",
    "        name=dataset if show_legend else None,\n",
    "        legendgroup=dataset,\n",
    "        showlegend=show_legend,\n",
    "        marker=dict(size=SCATTER_SIZE, color=color, line=dict(width=SCATTER_LINE_WIDTH, color='black')),\n",
    "        hoverinfo='text',\n",
    "        text=[f\"{dataset} | {mouse} | run={run}\"]\n",
    "    ))\n",
    "\n",
    "fig.update_layout(\n",
    "    title=\"Latent Trajectories Over Time by Dataset\",\n",
    "    scene=dict(\n",
    "        xaxis_title='UMAP1',\n",
    "        yaxis_title='UMAP2',\n",
    "        zaxis_title='UMAP3'\n",
    "    ),\n",
    "    legend=dict(title=\"Dataset\"),\n",
    "    width=900,\n",
    "    height=700,\n",
    "    template='plotly_white'\n",
    ")\n",
    "\n",
    "fig.show()"
   ]
  },
  {
   "cell_type": "code",
   "execution_count": null,
   "id": "5999adf2",
   "metadata": {},
   "outputs": [],
   "source": [
    "## TODO: make the 3D plot with trajectories for both pre and post sci\n",
    "sample_idx = torch.randperm(mu_t.shape[0])[:100]\n",
    "mu_t_sample = mu_t[sample_idx]\n",
    "lengths_sample = lengths_all[sample_idx]\n",
    "selected_sample = [selected_steps[i] for i in sample_idx.tolist()]\n",
    "\n",
    "mu_t = mu_t_sample\n",
    "\n",
    "B, T, L = mu_t.shape\n",
    "\n",
    "# Flatten all time steps for UMAP\n",
    "mu_t_flat = mu_t.reshape(-1, L).cpu().numpy()  # (B*T, L)\n",
    "\n",
    "# Reduce L → 3 using UMAP\n",
    "embedding_flat = reducer.fit_transform(mu_t_flat)  # (B*T, 3)\n",
    "\n",
    "# Reshape embedding back to (B, T, 3)\n",
    "embedding_3d = embedding_flat.reshape(B, T, 3)\n",
    "\n",
    "print(\"Moving to 3D plotting...\")\n",
    "\n",
    "# Plot each step as a 3D trajectory\n",
    "fig = go.Figure()\n",
    "legend_shown = defaultdict(bool)\n",
    "\n",
    "for i in range(B):\n",
    "    emb = embedding_3d[i, :lengths_all[i]]  # shape: T × 3\n",
    "    meta = selected_steps[i]\n",
    "    dataset = meta[\"group\"]\n",
    "    mouse = meta[\"mouse\"]\n",
    "    run = meta[\"run\"]\n",
    "    color = color_map.get(dataset, \"gray\")\n",
    "    show_legend = not legend_shown[dataset]\n",
    "    legend_shown[dataset] = True\n",
    "\n",
    "    fig.add_trace(go.Scatter3d(\n",
    "        x=emb[:, 0],\n",
    "        y=emb[:, 1],\n",
    "        z=emb[:, 2],\n",
    "        mode='lines+markers',\n",
    "        name=dataset if show_legend else None,\n",
    "        legendgroup=dataset,\n",
    "        showlegend=show_legend,\n",
    "        marker=dict(size=SCATTER_SIZE, color=color, line=dict(width=SCATTER_LINE_WIDTH, color='black')),\n",
    "        hoverinfo='text',\n",
    "        text=[f\"{dataset} | {mouse} | run={run} | t={t}\" for t in range(len(emb))]\n",
    "    ))\n",
    "\n",
    "fig.update_layout(\n",
    "    title=\"Latent Trajectories Over Time (per Step)\",\n",
    "    scene=dict(\n",
    "        xaxis_title='UMAP1',\n",
    "        yaxis_title='UMAP2',\n",
    "        zaxis_title='UMAP3'\n",
    "    ),\n",
    "    legend=dict(title=\"Dataset\"),\n",
    "    width=900,\n",
    "    height=700,\n",
    "    template='plotly_white'\n",
    ")\n",
    "\n",
    "fig.show()"
   ]
  },
  {
   "cell_type": "code",
   "execution_count": null,
   "id": "df418629",
   "metadata": {},
   "outputs": [],
   "source": [
    "def plot_timewise_umap_trajectories(segmented_hindsteps, scaler):\n",
    "    \"\"\"\n",
    "    Plot UMAP projection of all timepoints in each step.\n",
    "    Each step becomes a trajectory (line) in 3D UMAP space.\n",
    "    Mice from the same dataset (e.g., 'pre', 'post') share color and legend.\n",
    "    \"\"\"\n",
    "    from collections import defaultdict\n",
    "\n",
    "    filtered_steps = [s for s in segmented_hindsteps if SIDE_KEY[0] in s[\"mouse\"]]\n",
    "\n",
    "    step_id = 0\n",
    "    timepoints = []\n",
    "    metadata = []\n",
    "\n",
    "    for s in filtered_steps:\n",
    "        arr = scaler.transform(s[\"step\"].values)  # (T, D)\n",
    "        for t in range(arr.shape[0]):\n",
    "            timepoints.append(arr[t])\n",
    "            metadata.append({\n",
    "                \"step_id\": step_id,\n",
    "                \"t\": t,\n",
    "                \"mouse\": s[\"mouse\"],\n",
    "                \"group\": s[\"group\"],\n",
    "                \"run\": s[\"run\"]\n",
    "            })\n",
    "        step_id += 1\n",
    "\n",
    "    X = np.stack(timepoints)\n",
    "    umap_coords = UMAP(n_components=3, random_state=42).fit_transform(X)\n",
    "\n",
    "    umap_df = pd.DataFrame(umap_coords, columns=[\"UMAP1\", \"UMAP2\", \"UMAP3\"])\n",
    "    umap_df = pd.concat([umap_df, pd.DataFrame(metadata)], axis=1)\n",
    "\n",
    "    datasets = sorted(umap_df[\"group\"].unique())\n",
    "    color_map = {ds: color for ds, color in zip(datasets, plotly.colors.qualitative.Plotly)}\n",
    "\n",
    "    fig = go.Figure()\n",
    "    legend_shown = defaultdict(bool)\n",
    "\n",
    "    for step_id, group in umap_df.groupby(\"step_id\"):\n",
    "        dataset = group[\"group\"].iloc[0]\n",
    "        color = color_map[dataset]\n",
    "        show_legend = not legend_shown[dataset]\n",
    "        legend_shown[dataset] = True\n",
    "\n",
    "        fig.add_trace(go.Scatter3d(\n",
    "            x=group[\"UMAP1\"],\n",
    "            y=group[\"UMAP2\"],\n",
    "            z=group[\"UMAP3\"],\n",
    "            mode=\"lines+markers\",\n",
    "            line=dict(color=color, width=2),\n",
    "            marker=dict(size=3, color=color),\n",
    "            name=dataset,\n",
    "            legendgroup=dataset,\n",
    "            showlegend=show_legend,\n",
    "            text=[f\"{group['mouse'].iloc[0]} | run={r} | t={t}\" for r, t in zip(group[\"run\"], group[\"t\"])]\n",
    "        ))\n",
    "\n",
    "    fig.update_layout(\n",
    "        title=\"Time-Resolved UMAP of Step Dynamics by Dataset\",\n",
    "        scene=dict(\n",
    "            xaxis_title=\"UMAP1\",\n",
    "            yaxis_title=\"UMAP2\",\n",
    "            zaxis_title=\"UMAP3\"\n",
    "        ),\n",
    "        legend=dict(title=\"Dataset\", font=dict(size=12)),\n",
    "        width=900,\n",
    "        height=700,\n",
    "        template=\"plotly_white\"\n",
    "    )\n",
    "\n",
    "    fig.show()\n",
    "\n",
    "# Usage:\n",
    "plot_timewise_umap_trajectories(segmented_hindsteps, scaler)"
   ]
  }
 ],
 "metadata": {
  "kernelspec": {
   "display_name": ".venv",
   "language": "python",
   "name": "python3"
  },
  "language_info": {
   "codemirror_mode": {
    "name": "ipython",
    "version": 3
   },
   "file_extension": ".py",
   "mimetype": "text/x-python",
   "name": "python",
   "nbconvert_exporter": "python",
   "pygments_lexer": "ipython3",
   "version": "3.13.3"
  }
 },
 "nbformat": 4,
 "nbformat_minor": 5
}
