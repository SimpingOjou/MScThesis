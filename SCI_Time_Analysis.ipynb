{
 "cells": [
  {
   "cell_type": "code",
   "execution_count": 13,
   "id": "b527e6fb",
   "metadata": {},
   "outputs": [],
   "source": [
    "import os\n",
    "import pandas as pd\n",
    "import numpy as np\n",
    "import torch\n",
    "import plotly.express as px\n",
    "import plotly.graph_objs as go\n",
    "import plotly.colors\n",
    "from collections import defaultdict\n",
    "\n",
    "from sklearn.preprocessing import StandardScaler\n",
    "from umap import UMAP\n",
    "\n",
    "from src.ModelUtils import (load_model,\n",
    "                            train_model,\n",
    "                            save_model_losses,\n",
    "                            load_and_plot_losses)\n",
    "from src.DataUtils import (load_data_from_directory,\n",
    "                           segment_all_steps,\n",
    "                           steps_to_tensor,\n",
    "                           reshape_data)\n",
    "from src.Plot import (plot_step_trajectory, plot_trajectory,\n",
    "                      plot_animated_trajectory, plot_trajectory_with_joint_traces,\n",
    "                      compare_step_features_in_batches, plot_umap_from_step,\n",
    "                      plot_umap_all_steps, plot_mean_spatial_trajectory,\n",
    "                      compare_phase_aligned_average_single, compare_phase_aligned_average_xy,\n",
    "                      plot_phase_aligned_average_single, plot_phase_aligned_average_xy,\n",
    "                      plot_trajectory_with_joint_trace,\n",
    "                      compare_spatial_progression_over_time, compare_spatial_progression_xy_over_time,\n",
    "                      compare_spatial_angle_progression_over_time)"
   ]
  },
  {
   "cell_type": "code",
   "execution_count": 14,
   "id": "974c894b",
   "metadata": {},
   "outputs": [
    {
     "name": "stdout",
     "output_type": "stream",
     "text": [
      "Group: SCI_PostSCI\n",
      "\tLeft_Mouse164: 3 runs with shapes: [(244, 199), (124, 199), (136, 199)]\n",
      "\tLeft_Mouse174: 3 runs with shapes: [(671, 199), (561, 199), (531, 199)]\n",
      "\tLeft_Mouse178: 3 runs with shapes: [(579, 199), (701, 199), (631, 199)]\n",
      "\tLeft_Mouse180: 1 runs with shapes: [(601, 199)]\n",
      "\tLeft_Mouse42: 4 runs with shapes: [(301, 199), (304, 199), (459, 199), (220, 199)]\n",
      "\tLeft_Mouse44: 4 runs with shapes: [(176, 199), (171, 199), (134, 199), (161, 199)]\n",
      "\tLeft_Mouse46: 4 runs with shapes: [(201, 199), (135, 199), (101, 199), (120, 199)]\n",
      "\tLeft_Mouse50: 3 runs with shapes: [(374, 199), (711, 199), (701, 199)]\n",
      "\tLeft_Mouse82: 4 runs with shapes: [(260, 199), (167, 199), (201, 199), (253, 199)]\n",
      "\tLeft_Mouse84: 1 runs with shapes: [(420, 199)]\n",
      "\tLeft_Mouse86: 4 runs with shapes: [(149, 199), (201, 199), (251, 199), (149, 199)]\n",
      "\tLeft_Mouse90: 3 runs with shapes: [(391, 199), (377, 199), (421, 199)]\n",
      "Group: SCI_PreSCI\n",
      "\tLeft_Mouse160: 3 runs with shapes: [(424, 199), (301, 199), (231, 199)]\n",
      "\tLeft_Mouse162: 3 runs with shapes: [(421, 199), (356, 199), (161, 199)]\n",
      "\tLeft_Mouse164: 3 runs with shapes: [(461, 199), (211, 199), (213, 199)]\n",
      "\tLeft_Mouse166: 3 runs with shapes: [(268, 199), (111, 199), (281, 199)]\n",
      "\tLeft_Mouse168: 3 runs with shapes: [(435, 199), (236, 199), (195, 199)]\n",
      "\tLeft_Mouse170: 3 runs with shapes: [(311, 199), (219, 199), (281, 199)]\n",
      "\tLeft_Mouse172: 3 runs with shapes: [(453, 199), (301, 199), (116, 199)]\n",
      "\tLeft_Mouse174: 3 runs with shapes: [(692, 199), (241, 199), (274, 199)]\n",
      "\tLeft_Mouse176: 3 runs with shapes: [(216, 199), (175, 199), (151, 199)]\n",
      "\tLeft_Mouse178: 3 runs with shapes: [(366, 199), (251, 199), (304, 199)]\n",
      "\tLeft_Mouse180: 3 runs with shapes: [(201, 199), (191, 199), (276, 199)]\n",
      "\tLeft_Mouse182: 3 runs with shapes: [(511, 199), (241, 199), (431, 199)]\n",
      "\tLeft_Mouse42: 4 runs with shapes: [(190, 199), (168, 199), (135, 199), (244, 199)]\n",
      "\tLeft_Mouse44: 4 runs with shapes: [(309, 199), (195, 199), (251, 199), (129, 199)]\n",
      "\tLeft_Mouse46: 4 runs with shapes: [(211, 199), (138, 199), (294, 199), (241, 199)]\n",
      "\tLeft_Mouse48: 3 runs with shapes: [(318, 199), (251, 199), (191, 199)]\n",
      "\tLeft_Mouse50: 4 runs with shapes: [(276, 199), (211, 199), (191, 199), (201, 199)]\n",
      "\tLeft_Mouse80: 7 runs with shapes: [(201, 199), (201, 199), (162, 199), (131, 199), (101, 199), (85, 199), (109, 199)]\n",
      "\tLeft_Mouse82: 5 runs with shapes: [(126, 199), (134, 199), (191, 199), (201, 199), (183, 199)]\n",
      "\tLeft_Mouse84: 5 runs with shapes: [(331, 199), (117, 199), (71, 199), (158, 199), (114, 199)]\n",
      "\tLeft_Mouse86: 3 runs with shapes: [(243, 199), (171, 199), (129, 199)]\n",
      "\tLeft_Mouse88: 4 runs with shapes: [(159, 199), (261, 199), (171, 199), (171, 199)]\n",
      "\tLeft_Mouse90: 5 runs with shapes: [(281, 199), (199, 199), (150, 199), (115, 199), (111, 199)]\n"
     ]
    }
   ],
   "source": [
    "## Directories and constants\n",
    "FIGURES_DIR = './figures/SCI'\n",
    "MODELS_DIR = './src/models'\n",
    "DATA_DIR = './csv/SCI_nimo_placebo'\n",
    "MEAN_FEATURES_FILE = './csv/SCI_pre_acute_hindlimb_mouse_features_2025-06-06_15-11-59.csv'\n",
    "HEALTHY_KEY = 'Pre'\n",
    "SICK_KEY = 'Post'\n",
    "SIDE_KEY = ('Left','Right')\n",
    "\n",
    "## Hyperparameters and early stopping\n",
    "INPUT_DIM = None\n",
    "HIDDEN_DIM = 64\n",
    "LATENT_DIM = 16\n",
    "BATCH_SIZE = 32\n",
    "NUM_EPOCHS = 5000\n",
    "LR = 1e-3\n",
    "PATIENCE = 100 # number of epochs to wait for improvement before stopping\n",
    "MIN_DELTA = 1e-4 # minimum change to qualify as an improvement\n",
    "BEST_MODEL_PATH = os.path.join(MODELS_DIR, 'lstm_VAE_t_SCI_20250609_200452.pt')\n",
    "BEST_LOSS_PATH = os.path.join(FIGURES_DIR, 'SCI_losses.csv')\n",
    "\n",
    "## Plot constants\n",
    "SCATTER_SIZE = 6\n",
    "SCATTER_LINE_WIDTH = 1\n",
    "SCATTER_SYMBOL = 'circle'\n",
    "LEGEND_FONT_SIZE = 18\n",
    "TITLE_FONT_SIZE = 24\n",
    "AXIS_FONT_SIZE = 16\n",
    "AXIS_TITLE_FONT_SIZE = 20\n",
    "\n",
    "# Load the data\n",
    "data = load_data_from_directory(DATA_DIR)\n",
    "\n",
    "# Print the data structure\n",
    "for datagroup, mice in data.items():\n",
    "    print(f\"Group: {datagroup}\")\n",
    "    for mouse_direction, runs in mice.items():\n",
    "        print(f\"\\t{mouse_direction}: {len(runs)} runs with shapes: {[df.shape for df in runs.values()]}\")"
   ]
  },
  {
   "cell_type": "code",
   "execution_count": 15,
   "id": "59a4889c",
   "metadata": {},
   "outputs": [
    {
     "name": "stdout",
     "output_type": "stream",
     "text": [
      "Number of features: 196\n"
     ]
    }
   ],
   "source": [
    "# Print the features count\n",
    "for datagroup, mice in data.items():\n",
    "    for mouse_direction, runs in mice.items():\n",
    "        for run, df in runs.items():\n",
    "            print(f\"Number of features: {df.shape[1] + 1 - 4}\") # +1 bc of index, -4 to exclude frame, forestep, hindstep, and time\n",
    "            break\n",
    "        break\n",
    "    break"
   ]
  },
  {
   "cell_type": "code",
   "execution_count": 16,
   "id": "2b8c7ae8",
   "metadata": {},
   "outputs": [],
   "source": [
    "## Segment all steps in the data\n",
    "# This will create two dictionaries: segmented_hindsteps and segmented_foresteps\n",
    "# Each dictionary will contain segmented steps for each mouse direction and run\n",
    "    # \"step\": step_df,\n",
    "    # \"group\": group,\n",
    "    # \"mouse\": mouse,\n",
    "    # \"run\": run\n",
    "segmented_hindsteps, segmented_foresteps = segment_all_steps(data)\n",
    "\n",
    "reshaped_data = reshape_data(data) # reshape the data to have a single DataFrame for each mouse direction and run and access to the hindsteps and foresteps\n",
    "\n",
    "## Flatten all steps into a single array to compute global mean/std and get the scaler\n",
    "all_healthy_arrays = [step_dict[\"step\"].values for step_dict in segmented_hindsteps if HEALTHY_KEY in step_dict[\"group\"] and SIDE_KEY[0] in step_dict[\"mouse\"]]\n",
    "flat_data = np.vstack(all_healthy_arrays)\n",
    "\n",
    "scaler = StandardScaler()\n",
    "scaler = scaler.fit(flat_data)\n",
    "\n",
    "## Prepare the data for training\n",
    "healthy_steps = [s for s in segmented_hindsteps if HEALTHY_KEY in s[\"group\"] and SIDE_KEY[0] in s[\"mouse\"]]\n",
    "unhealthy_steps = [s for s in segmented_hindsteps if SICK_KEY in s[\"group\"] and SIDE_KEY[0] in s[\"mouse\"]]\n",
    "step_tensor, lengths = steps_to_tensor(healthy_steps, scaler)\n",
    "if INPUT_DIM is None:\n",
    "    INPUT_DIM = step_tensor.shape[2]"
   ]
  },
  {
   "cell_type": "code",
   "execution_count": 17,
   "id": "477a3976",
   "metadata": {},
   "outputs": [
    {
     "name": "stdout",
     "output_type": "stream",
     "text": [
      "Segmented dataframe shhape: (56, 196)\n",
      "Step tensor shape: torch.Size([308, 134, 196]), \n",
      "Lengths shape: torch.Size([308])\n"
     ]
    }
   ],
   "source": [
    "print(f'Segmented dataframe shhape: {segmented_hindsteps[0][\"step\"].shape}')\n",
    "#print(f'Averaged dataframe shhape: {averaged_hindsteps[0][\"step\"].shape}')\n",
    "print(f\"Step tensor shape: {step_tensor.shape}, \\nLengths shape: {lengths.shape}\")"
   ]
  },
  {
   "cell_type": "code",
   "execution_count": 18,
   "id": "2eef846a",
   "metadata": {},
   "outputs": [],
   "source": [
    "### Plot XY pose data\n",
    "HINDLIMB_KEY = 'hindlimb'\n",
    "FORELIMB_KEY = 'forelimb'\n",
    "SPINE_KEY = 'spine'\n",
    "TAIL_KEY = 'tail'\n",
    "POSE_KEY = 'pose'\n",
    "ANGLE_KEY = 'Angle'\n",
    "ALL_LIMBS = [HINDLIMB_KEY, FORELIMB_KEY, SPINE_KEY, TAIL_KEY]\n",
    "first_df = next(iter(segmented_hindsteps))[\"step\"]"
   ]
  },
  {
   "cell_type": "code",
   "execution_count": 19,
   "id": "a4d8c411",
   "metadata": {},
   "outputs": [
    {
     "name": "stdout",
     "output_type": "stream",
     "text": [
      "Limbs poses: ['rhindlimb hip - X pose (m)', 'rhindlimb hip - Y pose (m)', 'rhindlimb knee - X pose (m)', 'rhindlimb knee - Y pose (m)', 'rhindlimb ankle - X pose (m)', 'rhindlimb ankle - Y pose (m)', 'rhindlimb lHindpaw - X pose (m)', 'rhindlimb lHindpaw - Y pose (m)', 'rhindlimb lHindfingers - X pose (m)', 'rhindlimb lHindfingers - Y pose (m)']\n",
      "Limbs poses: ['rforelimb shoulder - X pose (m)', 'rforelimb shoulder - Y pose (m)', 'rforelimb elbow - X pose (m)', 'rforelimb elbow - Y pose (m)', 'rforelimb wrist - X pose (m)', 'rforelimb wrist - Y pose (m)', 'rforelimb lForepaw - X pose (m)', 'rforelimb lForepaw - Y pose (m)']\n",
      "Limbs poses: ['spine head - X pose (m)', 'spine head - Y pose (m)', 'spine spine 1 - X pose (m)', 'spine spine 1 - Y pose (m)', 'spine spine 2 - X pose (m)', 'spine spine 2 - Y pose (m)', 'spine spine 3 - X pose (m)', 'spine spine 3 - Y pose (m)', 'spine spine 4 - X pose (m)', 'spine spine 4 - Y pose (m)', 'spine base - X pose (m)', 'spine base - Y pose (m)']\n",
      "Limbs poses: ['tail base - X pose (m)', 'tail base - Y pose (m)']\n"
     ]
    }
   ],
   "source": [
    "## Extract poses for each limb\n",
    "hindlimb_keys = [key for key in first_df.columns if HINDLIMB_KEY in key and POSE_KEY in key]\n",
    "forelimb_keys = [key for key in first_df.columns if FORELIMB_KEY in key and POSE_KEY in key]\n",
    "spine_keys = [key for key in first_df.columns if SPINE_KEY in key and POSE_KEY in key]\n",
    "tail_keys = [key for key in first_df.columns if TAIL_KEY in key and POSE_KEY in key]\n",
    "\n",
    "all_limbs_keys = [hindlimb_keys, forelimb_keys, spine_keys, tail_keys]\n",
    "for limb in all_limbs_keys:\n",
    "    print(f\"Limbs poses: {limb}\")"
   ]
  },
  {
   "cell_type": "code",
   "execution_count": 20,
   "id": "c172207d",
   "metadata": {},
   "outputs": [
    {
     "name": "stdout",
     "output_type": "stream",
     "text": [
      "Limbs angles: ['Angle - rhindlimb - hip (°)', 'Angle - rhindlimb - knee (°)', 'Angle - rhindlimb - ankle (°)', 'Angle - rhindlimb - lHindpaw (°)', 'Angle - rhindlimb - lHindfingers (°)', 'Angle velocity - rhindlimb - hip (rad/s)', 'Angle velocity - rhindlimb - knee (rad/s)', 'Angle velocity - rhindlimb - ankle (rad/s)', 'Angle velocity - rhindlimb - lHindpaw (rad/s)', 'Angle velocity - rhindlimb - lHindfingers (rad/s)', 'Angle acceleration - rhindlimb - hip (rad/s^2)', 'Angle acceleration - rhindlimb - knee (rad/s^2)', 'Angle acceleration - rhindlimb - ankle (rad/s^2)', 'Angle acceleration - rhindlimb - lHindpaw (rad/s^2)', 'Angle acceleration - rhindlimb - lHindfingers (rad/s^2)']\n",
      "Limbs angles: ['Angle - rforelimb - shoulder (°)', 'Angle - rforelimb - elbow (°)', 'Angle - rforelimb - wrist (°)', 'Angle - rforelimb - lForepaw (°)', 'Angle velocity - rforelimb - shoulder (rad/s)', 'Angle velocity - rforelimb - elbow (rad/s)', 'Angle velocity - rforelimb - wrist (rad/s)', 'Angle velocity - rforelimb - lForepaw (rad/s)', 'Angle acceleration - rforelimb - shoulder (rad/s^2)', 'Angle acceleration - rforelimb - elbow (rad/s^2)', 'Angle acceleration - rforelimb - wrist (rad/s^2)', 'Angle acceleration - rforelimb - lForepaw (rad/s^2)']\n",
      "Limbs angles: ['Angle - spine - head (°)', 'Angle - spine - spine 1 (°)', 'Angle - spine - spine 2 (°)', 'Angle - spine - spine 3 (°)', 'Angle - spine - spine 4 (°)', 'Angle - spine - base (°)', 'Angle velocity - spine - head (rad/s)', 'Angle velocity - spine - spine 1 (rad/s)', 'Angle velocity - spine - spine 2 (rad/s)', 'Angle velocity - spine - spine 3 (rad/s)', 'Angle velocity - spine - spine 4 (rad/s)', 'Angle velocity - spine - base (rad/s)', 'Angle acceleration - spine - head (rad/s^2)', 'Angle acceleration - spine - spine 1 (rad/s^2)', 'Angle acceleration - spine - spine 2 (rad/s^2)', 'Angle acceleration - spine - spine 3 (rad/s^2)', 'Angle acceleration - spine - spine 4 (rad/s^2)', 'Angle acceleration - spine - base (rad/s^2)']\n",
      "Limbs angles: ['Angle - tail - base (°)', 'Angle - tail - tail 1 (°)', 'Angle - tail - tail 2 (°)', 'Angle - tail - tail 3 (°)', 'Angle - tail - tail 4 (°)', 'Angle velocity - tail - base (rad/s)', 'Angle velocity - tail - tail 1 (rad/s)', 'Angle velocity - tail - tail 2 (rad/s)', 'Angle velocity - tail - tail 3 (rad/s)', 'Angle velocity - tail - tail 4 (rad/s)', 'Angle acceleration - tail - base (rad/s^2)', 'Angle acceleration - tail - tail 1 (rad/s^2)', 'Angle acceleration - tail - tail 2 (rad/s^2)', 'Angle acceleration - tail - tail 3 (rad/s^2)', 'Angle acceleration - tail - tail 4 (rad/s^2)']\n"
     ]
    }
   ],
   "source": [
    "## Extract angles for each limb\n",
    "hindlimb_angles = [key for key in first_df.columns if ANGLE_KEY in key and HINDLIMB_KEY in key]\n",
    "forelimb_angles = [key for key in first_df.columns if ANGLE_KEY in key and FORELIMB_KEY in key]\n",
    "spine_angles = [key for key in first_df.columns if ANGLE_KEY in key and SPINE_KEY in key]\n",
    "tail_angles = [key for key in first_df.columns if ANGLE_KEY in key and TAIL_KEY in key]\n",
    "\n",
    "all_limbs_angles = [hindlimb_angles, forelimb_angles, spine_angles, tail_angles]\n",
    "for limb in all_limbs_angles:\n",
    "    print(f\"Limbs angles: {limb}\")"
   ]
  },
  {
   "cell_type": "code",
   "execution_count": 21,
   "id": "16fa24ed",
   "metadata": {},
   "outputs": [
    {
     "name": "stdout",
     "output_type": "stream",
     "text": [
      "CoM features: ['rforelimb - CoM X (m)', 'rforelimb - CoM Y (m)', 'rhindlimb - CoM X (m)', 'rhindlimb - CoM Y (m)', 'spine - CoM X (m)', 'spine - CoM Y (m)', 'tail - CoM X (m)', 'tail - CoM Y (m)']\n"
     ]
    }
   ],
   "source": [
    "## Extract CoM features\n",
    "CoM_features = [key for key in first_df.columns if 'CoM' in key in key]\n",
    "print(f\"CoM features: {CoM_features}\")"
   ]
  },
  {
   "cell_type": "code",
   "execution_count": null,
   "id": "ec1d09f2",
   "metadata": {},
   "outputs": [],
   "source": [
    "## Extract relevant single point features\n",
    "hindfinger_features = [key for key in first_df.columns if 'hindfingers' in key.lower() and 'Angle' not in key]\n",
    "hindpaw_features = [key for key in first_df.columns if 'hindpaw' in key.lower() and 'Angle' not in key]\n",
    "forepaw_features = [key for key in first_df.columns if 'forepaw' in key.lower() and 'Angle' not in key]\n",
    "head_features = [key for key in first_df.columns if 'head' in key.lower() and 'Angle' not in key]\n",
    "\n",
    "single_point_features = [hindfinger_features, hindpaw_features, forepaw_features, head_features]\n",
    "single_point_feature_names = ['hindfingers', 'hindpaw', 'forepaw', 'head']\n",
    "for features in single_point_features:\n",
    "    print(f\"Single point features: {features}\")"
   ]
  },
  {
   "cell_type": "code",
   "execution_count": null,
   "id": "907eab6a",
   "metadata": {},
   "outputs": [],
   "source": [
    "## Save all angle plots\n",
    "savedir = os.path.join(FIGURES_DIR, 'Angles')\n",
    "for limb, angles in zip(ALL_LIMBS, all_limbs_angles):\n",
    "    plot_phase_aligned_average_single(healthy_steps, feature_keys=angles, figure_path=os.path.join(savedir, f'Angles_healthy_time_locked_{limb}.svg')) # Plot phase locked for one state\n",
    "    compare_phase_aligned_average_single(healthy_steps, unhealthy_steps, feature_keys=angles, figure_path=os.path.join(savedir, f'Angles_healthy_vs_SCI_time_locked_{limb}.svg')) # Plot phase locked for two states\n",
    "    compare_spatial_angle_progression_over_time(healthy_steps, unhealthy_steps, feature_keys=angles, figure_path=os.path.join(savedir, f'Angles_healthy_vs_SCI_space_locked_{limb}.svg')) # Plot space locked for two states"
   ]
  },
  {
   "cell_type": "code",
   "execution_count": null,
   "id": "38a11b54",
   "metadata": {},
   "outputs": [],
   "source": [
    "## Save all CoM plots\n",
    "savedir = os.path.join(FIGURES_DIR, 'CoM')\n",
    "\n",
    "plot_phase_aligned_average_xy(healthy_steps, feature_keys=CoM_features, figure_path=os.path.join(savedir, 'CoM_healthy_time_locked.svg')) # Plot phase locked for one state\n",
    "compare_phase_aligned_average_xy(healthy_steps, unhealthy_steps, feature_keys=CoM_features, figure_path=os.path.join(savedir, 'CoM_healthy_vs_SCI_time_locked.svg')) # Plot phase locked for two states\n",
    "compare_spatial_progression_xy_over_time(healthy_steps, unhealthy_steps, feature_keys=CoM_features, length_key='rhindlimb lHindfingers - X pose (m)', height_key='rhindlimb lHindfingers - Y pose (m)', figure_path=os.path.join(savedir, 'CoM_healthy_vs_SCI_space_locked.svg')) # Plot space locked for two states"
   ]
  },
  {
   "cell_type": "code",
   "execution_count": null,
   "id": "39eeacd5",
   "metadata": {},
   "outputs": [],
   "source": [
    "## Save all XY pose plots\n",
    "savedir = os.path.join(FIGURES_DIR, 'Kinematics')\n",
    "\n",
    "for name, feature in zip(single_point_feature_names, single_point_features):\n",
    "    plot_phase_aligned_average_xy(healthy_steps, feature_keys=feature, figure_path=os.path.join(savedir, f'{name}_healthy_time_locked.svg')) # Plot phase locked for one state\n",
    "    compare_phase_aligned_average_xy(healthy_steps, unhealthy_steps, feature_keys=feature, figure_path=os.path.join(savedir, f'{name}_healthy_vs_SCI_time_locked.svg')) # Plot phase locked for two states\n",
    "    compare_spatial_progression_xy_over_time(healthy_steps, unhealthy_steps, feature_keys=feature, length_key='rhindlimb lHindfingers - X pose (m)', height_key='rhindlimb lHindfingers - Y pose (m)', figure_path=os.path.join(savedir, f'{name}_healthy_vs_SCI_space_locked.svg')) # Plot space locked for two states"
   ]
  },
  {
   "cell_type": "code",
   "execution_count": null,
   "id": "0108b4fb",
   "metadata": {},
   "outputs": [],
   "source": [
    "forelimb_keys = [key for key in first_df.columns if 'forelimb' in key.lower() and POSE_KEY in key]\n",
    "# Plot stick figure forelimb (bottom) and hindlimb (upper) trajectories\n",
    "savedir = os.path.join(FIGURES_DIR, 'Trajectories/Full')\n",
    "plot_trajectory_with_joint_traces(reshaped_data, forelimb_keys, hindlimb_keys, figure_path=savedir)"
   ]
  },
  {
   "cell_type": "code",
   "execution_count": null,
   "id": "7ad123fc",
   "metadata": {},
   "outputs": [],
   "source": [
    "# time is nornmalized by step\n",
    "plot_mean_spatial_trajectory(segmented_hindsteps) "
   ]
  },
  {
   "cell_type": "code",
   "execution_count": null,
   "id": "ae4a3c67",
   "metadata": {},
   "outputs": [],
   "source": [
    "plot_umap_from_step(segmented_hindsteps[0])"
   ]
  },
  {
   "cell_type": "code",
   "execution_count": null,
   "id": "0e8f6282",
   "metadata": {},
   "outputs": [],
   "source": [
    "plot_umap_all_steps(healthy_steps)"
   ]
  },
  {
   "cell_type": "code",
   "execution_count": null,
   "id": "d319963b",
   "metadata": {},
   "outputs": [],
   "source": [
    "plot_umap_all_steps(unhealthy_steps)"
   ]
  },
  {
   "cell_type": "code",
   "execution_count": null,
   "id": "462cf743",
   "metadata": {},
   "outputs": [],
   "source": [
    "compare_step_features_in_batches(segmented_hindsteps[0])"
   ]
  },
  {
   "cell_type": "code",
   "execution_count": null,
   "id": "b013bae6",
   "metadata": {},
   "outputs": [],
   "source": [
    "plot_step_trajectory(segmented_hindsteps, hindlimb_keys)"
   ]
  },
  {
   "cell_type": "code",
   "execution_count": null,
   "id": "6aef44b3",
   "metadata": {},
   "outputs": [],
   "source": [
    "plot_trajectory_with_joint_trace(reshaped_data, hindlimb_keys)"
   ]
  },
  {
   "cell_type": "code",
   "execution_count": null,
   "id": "56472b2f",
   "metadata": {},
   "outputs": [],
   "source": [
    "com_keys = [key for key in first_df.columns if 'CoM' in key]\n",
    "print(f\"CoM keys: {com_keys}\")\n",
    "plot_trajectory_with_joint_trace(reshaped_data, com_keys)"
   ]
  },
  {
   "cell_type": "code",
   "execution_count": null,
   "id": "ec552796",
   "metadata": {},
   "outputs": [],
   "source": [
    "plot_animated_trajectory(reshaped_data, hindlimb_keys)"
   ]
  },
  {
   "cell_type": "code",
   "execution_count": null,
   "id": "7b634832",
   "metadata": {},
   "outputs": [],
   "source": [
    "plot_trajectory(reshaped_data, hindlimb_keys)"
   ]
  },
  {
   "cell_type": "code",
   "execution_count": null,
   "id": "ab0c3e71",
   "metadata": {},
   "outputs": [],
   "source": [
    "## Plt one step for xy pose\n",
    "compare_spatial_progression_over_time(healthy_steps, unhealthy_steps, finger_pose_key='rhindlimb lHindfingers - X pose (m)')"
   ]
  },
  {
   "cell_type": "code",
   "execution_count": null,
   "id": "9cd2fd80",
   "metadata": {},
   "outputs": [
    {
     "name": "stdout",
     "output_type": "stream",
     "text": [
      "Healthy mean features shape: (190, 2684)\n",
      "Sick mean features shape: (123, 2684)\n"
     ]
    },
    {
     "data": {
      "application/vnd.plotly.v1+json": {
       "config": {
        "plotlyServerURL": "https://plot.ly"
       },
       "data": [
        {
         "marker": {
          "color": "green",
          "line": {
           "color": "black",
           "width": 1
          },
          "opacity": 0.8,
          "size": 6
         },
         "mode": "markers",
         "name": "Mean step height (m) vs Mean step velocity X at stance - lHindpaw (m/s)",
         "showlegend": false,
         "type": "scatter",
         "x": {
          "bdata": "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",
          "dtype": "f8"
         },
         "xaxis": "x",
         "y": {
          "bdata": "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",
          "dtype": "f8"
         },
         "yaxis": "y"
        },
        {
         "marker": {
          "color": "yellow",
          "line": {
           "color": "black",
           "width": 1
          },
          "opacity": 0.7,
          "size": 6
         },
         "mode": "markers",
         "name": "Mean step height (m) vs Mean step velocity X at stance - lHindpaw (m/s)",
         "showlegend": false,
         "type": "scatter",
         "x": {
          "bdata": "OKnKBjxZiL89AlYOLSRzP94hUUUI4ro/pMAV0Btanj94wzIswzlrP1ZS0PY//KM//OvETmwdoD/LGy0PLejAP5xEs8UICrQ/1whGf3nQiD/GyHx0jqStPw9qtQSjSrE//7gVR/+1zD/AZE0ByOvEP7T2yS6fLKE/PHNnqpmWgj/N7UaszmGbP1Qi1VJmkqk/izMHa2xqpz9Joyvjkl/EP6Omii8kIc4/uX2L/7murT99nZj+HMmSP5OsI8oU4c0/eRin9kkdxD8+OQgX8e23P2L1V3+1ZYQ/6p3nUAxeyT8hdZqIhN6gP9EsH6tUvMw/6ea+poo4tz+183mp7lSHP44ozAax8bo/YVpUjfoC0T+vvEZXxtefPxcU0CasL5I/dQQU05C4lT87FrjWgBqgPzHsZ++zqbc/TV8gjWimoz8gnK+FgDWTP1Q+N7QxgVM/2e4P56UIkj+SV3/1V7+Iv5vylf+MRbA/1YaqsmFutD/s09cWRy3fP8WHkcawcq4/GHFRvvIIrT9rtPaykKOoP0dBIvtV7p4/vr3mQtLXuT/dndeiiXmrP+EIt86l4Hg/xPbgTNhpcT/cp+nz6Y2iv2f2sOhZGGw/uSEy0Erecb9d13zd6C5KP/6++5LzY5E/lhstD/1TpT+mf+JOv5ScP78vOZ2i8NQ/OnXnOZQgeD+CYrpoAeeTP3l/j7oewHA/n9Eh9EXukz9CffnzjouZP2Qj8EmAMX2/EsI8Ub++mT9Swjtq65Z2Pz1C+kfwuJQ/ivmspq7KmT8JPsL0TgWRPzvgsnUMAac/I8WTRoBAlD/WZGxmOklnP8Bvt3l/v5U/rl5vDACMkj9Mye5QqoO3P2USUjgXhmU/qmgxJDdxyD/9a5SUO6nUPwOrQpmmBoc/Bh5nXUjdkj9I7U4Do0/GP5gkctRkfKg/4EPypa3Yrj8Q0dyZ6s2hP7MH6JJB8ao/IqFrm7HWgD90TxkabYmjP0rvWGVAQYy/10+ZitIIZz8hozM6o+GTP1HGhDT9BZ+/y5l0X5espD8aLeNSJf6Cv4NowpMcYqc/oCXgblX/sb//sJklDVKOP5bDd4a+wZk/X7ZVShQvkT/cE0WLoZm+PyvpmsyVApU/E10NkpXsTb/4BMFNpvykPybVxZoeJcO/Cn4MwRZXvT/Br7rJIEaaP3zqTf1ZdI0/tewxL0vyjT9Dd3RJwgt0P0TS7PxkS7Q/fMCtoKuskD9Y5M6fYRmaP1dYXRYNl6Y/83tymg/RcT9WTxoBoYKZPwG+uon5OZA/MhpRgmIGY7/Eed+CmsyiPw2TpIb01bQ/",
          "dtype": "f8"
         },
         "xaxis": "x",
         "y": {
          "bdata": "fI2Wh/5xcD/DVQ4tsqZyP58bn762+Fk/4LmPTZFrcj/q3qzsT5p5P9m3FI0xhmg/JjiHczjRdT9GJJIDtBZiPzfoIwNTMHQ/dtuyVsfGdD+vczOLlnJ2P21GtCXWYnA/acPabuOzXz8FJrOSEJ5UP3Hkh7OWI2Y/g67pmq4ZcT9o7ZNdXsV2P8lwi0h24V8/i6mUc5VxcD+bNYlBYOFeP4dZB9wmNGw/89ctJTSycj+5OJSZp2F1P5RIsImGimE/kPEAirQ2Zz8RCpZevrJnPxTMh3JRcnM/c/6MaTIgZj/WXHbWpMlyPxeCZFL9AmM/BxVPGgEhYT9bj6rw659zPwjpVVRuKWE/nxxxgmTSYD+OkhgEVm5RP3AXPLecx3E/0Esn2xi8cz+yo38EH4RqPwE2yoYSRFM/9ipK5u9idT9WPOuO6B9zP6O35Ny7+mI/ZD/IUNk5cz+TsEF3A7pWP6e93QSqz2s/ARncoqhOdD8Hnr+dTOdgP1Iebs0oRXI/c7ixdwo6cz+IStO5iN1dP1qF6YOQgFs/tiaNgFDpSj/T1tKTo890P8yPEGFKMnM/mD5laDTSdD++Yb3wOhRiP5IyJg3E9HA/G/aMK0hldz8WDmucGI5zPwIrhxbZ/nQ//IOIaRNjdz9Akif47ONjPwZKIGsYzU0/9I6UudbXdT869m22CrZ1P0jlof90b3M/F38ffwgidj8DspwIlGFhPx8UUegod24/si/EOLVUdT9V2Ob8kDpxP9JiJo9OqHg/OoUmtHnSbD8hVorUJUJiP4PPsCtApG4/GHxuWMSlZz+pIBRCIYReP0DkfqLwKHU/Uol9qbqPcz/GkH77OrhoP3fvPqGx2V0/H4/JZSljYT94KmfnCT9kP38IW/z8sm4/eo6svhOFcD/kPkQlz8ZrPzCJi7Y9VHY/gRjzwNExXz/9zmvRxBJ1PyKqvbMKoWA/4u0H2z9Gcj/oYFhn8NpzP/GBzR2TRWU/4X8DOICDaz8lQLlcQlR1P7pKrdRK/Wo/djTEVyo9dD9FT4Bx/5JvPw3KRc0Rh28/HAD5Nfu3XD/khW5pLKpjP/8EJR2fDmk/yQfLkZetbj90dvkuXnVTP4OTj9xuSWA/6aq9hogiZz+pLGXsX7huP2Xxs9gk/2Y/3teS2wA/dD87gPa5V7p1P7b6k7q9EXQ/plzGD+7LeT8nZJdX9FlgP+O9DCgQFXE/sFdVzs6Ddj+Vh1pMNhJiP8rzp+XAhHA/+EkQF/Shdz/qs+9CEN90P18Vs+m5g14/lFUsku8VZD/7rE4q2mB5P+UDsobRXmQ/",
          "dtype": "f8"
         },
         "yaxis": "y"
        },
        {
         "marker": {
          "color": "green",
          "line": {
           "color": "black",
           "width": 1
          },
          "opacity": 0.8,
          "size": 6
         },
         "mode": "markers",
         "name": "Mean step height (m) vs Mean step velocity Y at stance - lHindpaw (m/s)",
         "showlegend": false,
         "type": "scatter",
         "x": {
          "bdata": "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",
          "dtype": "f8"
         },
         "xaxis": "x2",
         "y": {
          "bdata": "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",
          "dtype": "f8"
         },
         "yaxis": "y2"
        },
        {
         "marker": {
          "color": "yellow",
          "line": {
           "color": "black",
           "width": 1
          },
          "opacity": 0.7,
          "size": 6
         },
         "mode": "markers",
         "name": "Mean step height (m) vs Mean step velocity Y at stance - lHindpaw (m/s)",
         "showlegend": false,
         "type": "scatter",
         "x": {
          "bdata": "J8uYBw7Rhr+3JUr0fM6PvwEMAxKbS5a/vUlXMEEXkL+wbtOxsZZ3v+UaAxX2WYC/qM9ik5yWj79ZNTB+90VsP2gDugpotIi/5brE+aMolb8O4ig6f8egv3O8m18q35K/C71zrORWkL8eDLhNqNFZPwhhDhEYtHa/J1sVvGfHjL/wlrrc/mhnvw52+hVybnW/FDd/SaaQZr8euzEHBQSDv54RXPR46n0/qQQAHzXEhb9+Nxw0H7OSv9OTPumT2n8/Etmf1C1Oj7+d3Fw6Del5v8KgILhpkJ6/rlvdWpkSfj8XDlR+jx6kv8f91HgpcZG/LA7fGfr0jT/WbnZS+XiKvz36bAj0QDm/cpAP5aJ2QD9UPP+MaXp3PwoqcNk67ms/0AoQVrbkjT887KJvoTuSP31K0v/2do+/VGYiEnQxZr9mYQarrQSNP5q7JIdReHs/FAEoaDf0cj+NQ5wgmaxzP+14YLatvDY/IWMR9B49ZL+Z7hu7FBVNv3v0OtjfKJ2/qnOt62h+er/AZfPPmGZbv/s7rO02fk8/CydddtZcgD/6Gy72EIOHP58IEOwSSqC/TI32m/KpYL/FOiFtfahwP0abzV5YhHC//8HSrSvWhL+BkAP/ghCPv9rjpLQwk3A/9hQkSLyMk7/XetNo1ZGFP+HVGbxGg4+/8j6LTfJ2mr/AnmSIkN8YvzFFeAkDz3g/YuBTdR56kL9SEKiff+lHPxm6d0hUF3W/5KqXR0ZEY78JLegw1pSAv6myKIuykIq/lEQRDJXddb832zJtCAF4v9RZDzP7soW/dufLn/docT/yASblPdRqPwdangE7LJm/+JoqvrAHmL+6LaBOIUpxP/i91fjD/2o/ZliiJVpCZ78uViBP/vplvy4K0Nlru1a/bNndvmjffr86hCymQHB3P/4ImCzmVoy/wKnU4AmBbD+fo+34E1V0v4eGREIjNHw/cepqpM/Clb+a9hBXUnhyv5pyup1aFCO/HKQtZoh+kD+HEQBPUhV6v7e/ojkOgJY/O1feyDM0gL+HENKKsHGTP2DljQArAnM/bOf8kAVefj8GpuAtcliHP3wXqN1pToE/DoR3ajPMbr9mtez2vbMvPxhiXE83yZM/K+3njPuqYj/lQipSalZwP2D/BO2Gd5o/hR548mTVgL8Yhra9ML+bv60CQ6vIkHU/Vb0UICQdBr9EVl8gjRhSPweC7zg2TY+/A9YYLzdBZr+i7AqQe9OHP0NLqYMpo3W/p86Il08FaD+Vps7teReTv9NmehqCDIQ/uJb/5KFGcz9JgeE28wyAvxJTydI2CoM/",
          "dtype": "f8"
         },
         "xaxis": "x2",
         "y": {
          "bdata": "fI2Wh/5xcD/DVQ4tsqZyP58bn762+Fk/4LmPTZFrcj/q3qzsT5p5P9m3FI0xhmg/JjiHczjRdT9GJJIDtBZiPzfoIwNTMHQ/dtuyVsfGdD+vczOLlnJ2P21GtCXWYnA/acPabuOzXz8FJrOSEJ5UP3Hkh7OWI2Y/g67pmq4ZcT9o7ZNdXsV2P8lwi0h24V8/i6mUc5VxcD+bNYlBYOFeP4dZB9wmNGw/89ctJTSycj+5OJSZp2F1P5RIsImGimE/kPEAirQ2Zz8RCpZevrJnPxTMh3JRcnM/c/6MaTIgZj/WXHbWpMlyPxeCZFL9AmM/BxVPGgEhYT9bj6rw659zPwjpVVRuKWE/nxxxgmTSYD+OkhgEVm5RP3AXPLecx3E/0Esn2xi8cz+yo38EH4RqPwE2yoYSRFM/9ipK5u9idT9WPOuO6B9zP6O35Ny7+mI/ZD/IUNk5cz+TsEF3A7pWP6e93QSqz2s/ARncoqhOdD8Hnr+dTOdgP1Iebs0oRXI/c7ixdwo6cz+IStO5iN1dP1qF6YOQgFs/tiaNgFDpSj/T1tKTo890P8yPEGFKMnM/mD5laDTSdD++Yb3wOhRiP5IyJg3E9HA/G/aMK0hldz8WDmucGI5zPwIrhxbZ/nQ//IOIaRNjdz9Akif47ONjPwZKIGsYzU0/9I6UudbXdT869m22CrZ1P0jlof90b3M/F38ffwgidj8DspwIlGFhPx8UUegod24/si/EOLVUdT9V2Ob8kDpxP9JiJo9OqHg/OoUmtHnSbD8hVorUJUJiP4PPsCtApG4/GHxuWMSlZz+pIBRCIYReP0DkfqLwKHU/Uol9qbqPcz/GkH77OrhoP3fvPqGx2V0/H4/JZSljYT94KmfnCT9kP38IW/z8sm4/eo6svhOFcD/kPkQlz8ZrPzCJi7Y9VHY/gRjzwNExXz/9zmvRxBJ1PyKqvbMKoWA/4u0H2z9Gcj/oYFhn8NpzP/GBzR2TRWU/4X8DOICDaz8lQLlcQlR1P7pKrdRK/Wo/djTEVyo9dD9FT4Bx/5JvPw3KRc0Rh28/HAD5Nfu3XD/khW5pLKpjP/8EJR2fDmk/yQfLkZetbj90dvkuXnVTP4OTj9xuSWA/6aq9hogiZz+pLGXsX7huP2Xxs9gk/2Y/3teS2wA/dD87gPa5V7p1P7b6k7q9EXQ/plzGD+7LeT8nZJdX9FlgP+O9DCgQFXE/sFdVzs6Ddj+Vh1pMNhJiP8rzp+XAhHA/+EkQF/Shdz/qs+9CEN90P18Vs+m5g14/lFUsku8VZD/7rE4q2mB5P+UDsobRXmQ/",
          "dtype": "f8"
         },
         "yaxis": "y2"
        },
        {
         "marker": {
          "color": "green",
          "line": {
           "color": "black",
           "width": 1
          },
          "opacity": 0.8,
          "size": 6
         },
         "mode": "markers",
         "name": "Mean step height (m) vs Mean step velocity X at swing - lHindpaw (m/s)",
         "showlegend": false,
         "type": "scatter",
         "x": {
          "bdata": "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",
          "dtype": "f8"
         },
         "xaxis": "x3",
         "y": {
          "bdata": "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",
          "dtype": "f8"
         },
         "yaxis": "y3"
        },
        {
         "marker": {
          "color": "yellow",
          "line": {
           "color": "black",
           "width": 1
          },
          "opacity": 0.7,
          "size": 6
         },
         "mode": "markers",
         "name": "Mean step height (m) vs Mean step velocity X at swing - lHindpaw (m/s)",
         "showlegend": false,
         "type": "scatter",
         "x": {
          "bdata": "lEDWMKZWwj88qfoQVl7APwcJfBLwIcI/r6zVMbFL2T8WFY7rD4vFP6/5G1WVb+I/SMIkTK503T846I21sJ3QP5G0fTmyLtQ/qbmQNL0J1D/VAheXon/PP3QTiUmL2dE/2blpaL1u1T+7bg2HF+fJP2dwXiCcldQ/iFEODokS1z8cYpzah0/UP7cEbEWix80/yK6Yp9uf2T/dr6GLbWTUP33HGy1PY8I/Q5DvSqdj3D/UYOGOaxXVP+egnIx3bt0/987v/I7Y2j+pbIWgxorePw66G9BbBNA/8NdMml+K1T/538IjqRHPP3j/PtG01d4/7BfHUqdDzD+eMxPXGV/KP2w66/eS480/lJm4DjujyT80jFP7WoPPP8APc6j2idM/de0xEc+fyz9X4UEXOkrWP5qO1uWcz8c/R47Keedo0D8zEdC8+FbMP3brXTPyOMs/O0Su5wfc1z9loBhhFUDcP8b5IQs0R9Q/ub5w99gEzz/PfC0E/IHdPxB3zWYvybQ/3+xZxJz/5D/hD3A+8Ve7P0fLqLW2x9Y/g0oiOcALuz8ox4g6cMWyPyfkg56tEsc/BNLiIqvPxT/r9d0eEzvHP8b8bjWl68s/ZM0J0HOVwD8Zhoc3UeiyP1i9/kfn6Mk/0G80Fx0G3j/nDVPEgOzkP1Os7TaWydY/EOaJ+tuA1j/kQ5ozNIXWP1lsipwlbMg/Fz8g4YoAxT/np8ZL84TNP1NOxt/A8tI/8U4D47eizz+6LQa/NwvOP9Fr8DlyR9c/Co7BaGBT1T94RS6z1l7AP2YvC2HATdE/MGpQThrOxj8Zur5wZ/zCP/2iZ0ogL8g/r33O5dU+0T8qWC4Cnbu+Pzw4m0VAzcU/gIBdLcvO0j+zihPKzv7LP3K5V0bFctE/No7jODJ+wj8QM2dDoOjUP8UOB6CFkdA/NNckMjoU3j9UWnMCHEzAP9BT6/yNmdM/+QkGxzblwD9UHbbc3zLOPyGviotafsY/rkz6Ony70j88U/KZcl65P4EgGJPiicE/5XzCl7Bkwz9TO3JRguXGP2ONnFu5csg/8jt5sryq1j/IMm7RbJbLP9+9YhcQ9dE/2QgaxmC50T+g64JevlvXPxeoC7XID9U/rvWshxnBwD9zv1p1fSnUP6lEH/uLwNw/uzM/kBrK2D8HKo9EARCrP8P9f3C1ocg/TUonNT3/0D8Dt1iHH/fOP7V02VkTbLk/wFWovCMJwT+XVA54IHTMP/t6RVSnM78/474ZTudT0j9lZZna7SXKP31aKNSVbt8/y7cV9Xpd0D9GUUeot/WzP/eDYoSFSt0/",
          "dtype": "f8"
         },
         "xaxis": "x3",
         "y": {
          "bdata": "fI2Wh/5xcD/DVQ4tsqZyP58bn762+Fk/4LmPTZFrcj/q3qzsT5p5P9m3FI0xhmg/JjiHczjRdT9GJJIDtBZiPzfoIwNTMHQ/dtuyVsfGdD+vczOLlnJ2P21GtCXWYnA/acPabuOzXz8FJrOSEJ5UP3Hkh7OWI2Y/g67pmq4ZcT9o7ZNdXsV2P8lwi0h24V8/i6mUc5VxcD+bNYlBYOFeP4dZB9wmNGw/89ctJTSycj+5OJSZp2F1P5RIsImGimE/kPEAirQ2Zz8RCpZevrJnPxTMh3JRcnM/c/6MaTIgZj/WXHbWpMlyPxeCZFL9AmM/BxVPGgEhYT9bj6rw659zPwjpVVRuKWE/nxxxgmTSYD+OkhgEVm5RP3AXPLecx3E/0Esn2xi8cz+yo38EH4RqPwE2yoYSRFM/9ipK5u9idT9WPOuO6B9zP6O35Ny7+mI/ZD/IUNk5cz+TsEF3A7pWP6e93QSqz2s/ARncoqhOdD8Hnr+dTOdgP1Iebs0oRXI/c7ixdwo6cz+IStO5iN1dP1qF6YOQgFs/tiaNgFDpSj/T1tKTo890P8yPEGFKMnM/mD5laDTSdD++Yb3wOhRiP5IyJg3E9HA/G/aMK0hldz8WDmucGI5zPwIrhxbZ/nQ//IOIaRNjdz9Akif47ONjPwZKIGsYzU0/9I6UudbXdT869m22CrZ1P0jlof90b3M/F38ffwgidj8DspwIlGFhPx8UUegod24/si/EOLVUdT9V2Ob8kDpxP9JiJo9OqHg/OoUmtHnSbD8hVorUJUJiP4PPsCtApG4/GHxuWMSlZz+pIBRCIYReP0DkfqLwKHU/Uol9qbqPcz/GkH77OrhoP3fvPqGx2V0/H4/JZSljYT94KmfnCT9kP38IW/z8sm4/eo6svhOFcD/kPkQlz8ZrPzCJi7Y9VHY/gRjzwNExXz/9zmvRxBJ1PyKqvbMKoWA/4u0H2z9Gcj/oYFhn8NpzP/GBzR2TRWU/4X8DOICDaz8lQLlcQlR1P7pKrdRK/Wo/djTEVyo9dD9FT4Bx/5JvPw3KRc0Rh28/HAD5Nfu3XD/khW5pLKpjP/8EJR2fDmk/yQfLkZetbj90dvkuXnVTP4OTj9xuSWA/6aq9hogiZz+pLGXsX7huP2Xxs9gk/2Y/3teS2wA/dD87gPa5V7p1P7b6k7q9EXQ/plzGD+7LeT8nZJdX9FlgP+O9DCgQFXE/sFdVzs6Ddj+Vh1pMNhJiP8rzp+XAhHA/+EkQF/Shdz/qs+9CEN90P18Vs+m5g14/lFUsku8VZD/7rE4q2mB5P+UDsobRXmQ/",
          "dtype": "f8"
         },
         "yaxis": "y3"
        },
        {
         "marker": {
          "color": "green",
          "line": {
           "color": "black",
           "width": 1
          },
          "opacity": 0.8,
          "size": 6
         },
         "mode": "markers",
         "name": "Mean step height (m) vs Mean step velocity Y at swing - lHindpaw (m/s)",
         "showlegend": false,
         "type": "scatter",
         "x": {
          "bdata": "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",
          "dtype": "f8"
         },
         "xaxis": "x4",
         "y": {
          "bdata": "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",
          "dtype": "f8"
         },
         "yaxis": "y4"
        },
        {
         "marker": {
          "color": "yellow",
          "line": {
           "color": "black",
           "width": 1
          },
          "opacity": 0.7,
          "size": 6
         },
         "mode": "markers",
         "name": "Mean step height (m) vs Mean step velocity Y at swing - lHindpaw (m/s)",
         "showlegend": false,
         "type": "scatter",
         "x": {
          "bdata": "Nioz9RBPsT8o6t8Inbe6P7UMdqhoWYA/S4o/kr00vD/Gj4t7XjqgP+BaE0gEMX0/3C8xRsaQxT/hAsxZNoV7PxegWdNJ1cM/tDDixkY8xT+OY7fgx027P7m5r6lKJsE/oK5WqA+5iz89PrClIAyHPxCvBS4u7Vo/4NWlPoVnuz8phSk88xrHP/wpnnBarJI/rxOmHY+6oj+SfyOUUZRxP8+ap3maD5I/k4bZ1a+gwT+Ms7WaFLvCP6SUsX9hzJY/GcDT322Zbr/ppZbII8GUP/54H7qvu7c/4+YbBsN/nD9SGTkCYQbBP6rJPl1xPpY/JnXYcn+Diz8Oe4grZbPBP165WB5FQ4o/+jAveI6ioT99S7y61It1v4sl22MiSJM/9HSK2tvlnj8BycxiKRWOP48jGnEJa1E/rr1qbtzfmz/XhoIdyHWrP/CWdOadjoQ/tdo4UDk0uD+RDaTkul2WvwHdbbEd8aA/B80uGYzmrz8QlRPMIFekPzxT5IyvV6k/tMwgd3U0U78DHfTGWj50P5MkJA+/PY4/07nYQ1zVl7+NKR2+M56jP3eRK2fafrA/jUGez+OhvD94qDdfC7SJvz62tRM63J4/6eGQS8Njrz98yZ4mV3WhP3BgWU6UIqc/JiyxAeoKyD8cJoY9EiOFv0/I6juBOoM/nxgjy9MkyD+IzaQZh0bHP9S32SpIVbo/9XvRmj3QrD9uoI3FapuSP+oo8Gj1VoG/Hen49AXirz9yNEiDVO60P9giOFl368k/FJtgUfeniT8IpT95/itcvyA7JZEcBJo/mXdXG2bCiz9pVE7lVHqGP5ckh1HoXKs/dbus9EYswz+fTzowcDOVP4hFLBKFRYc/a9sKyXjLiD/9mUBPqoqWPwZ/jIy5m6g/YcpUlFbTtj//tZM0D0aKP64pB1rcscA/ydvL9+l1hr9Itm/Syv+RP7UL5VZvq4A/0Cd90k/csz+DStz3sKq1P/aXlphmzos/h5A5kunRqD+csHTctMCQPzaMg7r2lIc/cgr4mycCpT8qlPzMbCNhPwB09zLrnao/YqIZG0eZfT/NMtnyWXCIP/k6n5fqKnw/OW6hbywxsT+uGtxmUP+UP55HYOaZGpY/JjKaIAJPdz/vUm6MVH2jPzEWZVEW3pI/8suXIPr2tj/CP8u65nScP21GUFbdSrI/6EwaW6U2kz9GCp610rSCP9QsWKjEILc/bJc3mAgemT858m2XlaqDP9WP9R6CM5E/7ZP8j0vggT9P+Ley3p+yP9Kre4dEaXc/lQaa/Fgggj+T0I2do0iaP1IRb1fdDJY/",
          "dtype": "f8"
         },
         "xaxis": "x4",
         "y": {
          "bdata": "fI2Wh/5xcD/DVQ4tsqZyP58bn762+Fk/4LmPTZFrcj/q3qzsT5p5P9m3FI0xhmg/JjiHczjRdT9GJJIDtBZiPzfoIwNTMHQ/dtuyVsfGdD+vczOLlnJ2P21GtCXWYnA/acPabuOzXz8FJrOSEJ5UP3Hkh7OWI2Y/g67pmq4ZcT9o7ZNdXsV2P8lwi0h24V8/i6mUc5VxcD+bNYlBYOFeP4dZB9wmNGw/89ctJTSycj+5OJSZp2F1P5RIsImGimE/kPEAirQ2Zz8RCpZevrJnPxTMh3JRcnM/c/6MaTIgZj/WXHbWpMlyPxeCZFL9AmM/BxVPGgEhYT9bj6rw659zPwjpVVRuKWE/nxxxgmTSYD+OkhgEVm5RP3AXPLecx3E/0Esn2xi8cz+yo38EH4RqPwE2yoYSRFM/9ipK5u9idT9WPOuO6B9zP6O35Ny7+mI/ZD/IUNk5cz+TsEF3A7pWP6e93QSqz2s/ARncoqhOdD8Hnr+dTOdgP1Iebs0oRXI/c7ixdwo6cz+IStO5iN1dP1qF6YOQgFs/tiaNgFDpSj/T1tKTo890P8yPEGFKMnM/mD5laDTSdD++Yb3wOhRiP5IyJg3E9HA/G/aMK0hldz8WDmucGI5zPwIrhxbZ/nQ//IOIaRNjdz9Akif47ONjPwZKIGsYzU0/9I6UudbXdT869m22CrZ1P0jlof90b3M/F38ffwgidj8DspwIlGFhPx8UUegod24/si/EOLVUdT9V2Ob8kDpxP9JiJo9OqHg/OoUmtHnSbD8hVorUJUJiP4PPsCtApG4/GHxuWMSlZz+pIBRCIYReP0DkfqLwKHU/Uol9qbqPcz/GkH77OrhoP3fvPqGx2V0/H4/JZSljYT94KmfnCT9kP38IW/z8sm4/eo6svhOFcD/kPkQlz8ZrPzCJi7Y9VHY/gRjzwNExXz/9zmvRxBJ1PyKqvbMKoWA/4u0H2z9Gcj/oYFhn8NpzP/GBzR2TRWU/4X8DOICDaz8lQLlcQlR1P7pKrdRK/Wo/djTEVyo9dD9FT4Bx/5JvPw3KRc0Rh28/HAD5Nfu3XD/khW5pLKpjP/8EJR2fDmk/yQfLkZetbj90dvkuXnVTP4OTj9xuSWA/6aq9hogiZz+pLGXsX7huP2Xxs9gk/2Y/3teS2wA/dD87gPa5V7p1P7b6k7q9EXQ/plzGD+7LeT8nZJdX9FlgP+O9DCgQFXE/sFdVzs6Ddj+Vh1pMNhJiP8rzp+XAhHA/+EkQF/Shdz/qs+9CEN90P18Vs+m5g14/lFUsku8VZD/7rE4q2mB5P+UDsobRXmQ/",
          "dtype": "f8"
         },
         "yaxis": "y4"
        },
        {
         "marker": {
          "color": "green",
          "line": {
           "color": "black",
           "width": 1
          },
          "opacity": 0.8,
          "size": 6
         },
         "mode": "markers",
         "name": "Mean step length (m) vs Mean step velocity X at stance - lHindpaw (m/s)",
         "showlegend": false,
         "type": "scatter",
         "x": {
          "bdata": "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",
          "dtype": "f8"
         },
         "xaxis": "x5",
         "y": {
          "bdata": "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",
          "dtype": "f8"
         },
         "yaxis": "y5"
        },
        {
         "marker": {
          "color": "yellow",
          "line": {
           "color": "black",
           "width": 1
          },
          "opacity": 0.7,
          "size": 6
         },
         "mode": "markers",
         "name": "Mean step length (m) vs Mean step velocity X at stance - lHindpaw (m/s)",
         "showlegend": false,
         "type": "scatter",
         "x": {
          "bdata": "OKnKBjxZiL89AlYOLSRzP94hUUUI4ro/pMAV0Btanj94wzIswzlrP1ZS0PY//KM//OvETmwdoD/LGy0PLejAP5xEs8UICrQ/1whGf3nQiD/GyHx0jqStPw9qtQSjSrE//7gVR/+1zD/AZE0ByOvEP7T2yS6fLKE/PHNnqpmWgj/N7UaszmGbP1Qi1VJmkqk/izMHa2xqpz9Joyvjkl/EP6Omii8kIc4/uX2L/7murT99nZj+HMmSP5OsI8oU4c0/eRin9kkdxD8+OQgX8e23P2L1V3+1ZYQ/6p3nUAxeyT8hdZqIhN6gP9EsH6tUvMw/6ea+poo4tz+183mp7lSHP44ozAax8bo/YVpUjfoC0T+vvEZXxtefPxcU0CasL5I/dQQU05C4lT87FrjWgBqgPzHsZ++zqbc/TV8gjWimoz8gnK+FgDWTP1Q+N7QxgVM/2e4P56UIkj+SV3/1V7+Iv5vylf+MRbA/1YaqsmFutD/s09cWRy3fP8WHkcawcq4/GHFRvvIIrT9rtPaykKOoP0dBIvtV7p4/vr3mQtLXuT/dndeiiXmrP+EIt86l4Hg/xPbgTNhpcT/cp+nz6Y2iv2f2sOhZGGw/uSEy0Erecb9d13zd6C5KP/6++5LzY5E/lhstD/1TpT+mf+JOv5ScP78vOZ2i8NQ/OnXnOZQgeD+CYrpoAeeTP3l/j7oewHA/n9Eh9EXukz9CffnzjouZP2Qj8EmAMX2/EsI8Ub++mT9Swjtq65Z2Pz1C+kfwuJQ/ivmspq7KmT8JPsL0TgWRPzvgsnUMAac/I8WTRoBAlD/WZGxmOklnP8Bvt3l/v5U/rl5vDACMkj9Mye5QqoO3P2USUjgXhmU/qmgxJDdxyD/9a5SUO6nUPwOrQpmmBoc/Bh5nXUjdkj9I7U4Do0/GP5gkctRkfKg/4EPypa3Yrj8Q0dyZ6s2hP7MH6JJB8ao/IqFrm7HWgD90TxkabYmjP0rvWGVAQYy/10+ZitIIZz8hozM6o+GTP1HGhDT9BZ+/y5l0X5espD8aLeNSJf6Cv4NowpMcYqc/oCXgblX/sb//sJklDVKOP5bDd4a+wZk/X7ZVShQvkT/cE0WLoZm+PyvpmsyVApU/E10NkpXsTb/4BMFNpvykPybVxZoeJcO/Cn4MwRZXvT/Br7rJIEaaP3zqTf1ZdI0/tewxL0vyjT9Dd3RJwgt0P0TS7PxkS7Q/fMCtoKuskD9Y5M6fYRmaP1dYXRYNl6Y/83tymg/RcT9WTxoBoYKZPwG+uon5OZA/MhpRgmIGY7/Eed+CmsyiPw2TpIb01bQ/",
          "dtype": "f8"
         },
         "xaxis": "x5",
         "y": {
          "bdata": "vYsOoa8Lrz9vZPWdYKqwPw/qgqmsZqA/z/T7BpHWrz/5wfYPMKesP21ye5pNuq0/MtmItmR8sj/pYJ6o3yGrP9YRhKfeRbA/jay+E5iZsT8zQbkvAC2xPx7aEmvb17A/Mk0GmDP6pj/MGrFnqb+gP6Faf24x5qg/ulunx7KWsD+Mrow79lGwPz4dl2eiY6E/ak7aooLbrj82ByJoA8+pP83m/JAFaq0/oq8tDhZusT+gMN9rZ4CsP0tQdZIxv6U/0YtrAGgLqD9WQd5aTOSkP08Q+9n7Uqw//hNp7QUApz9vB5bl5PKxP1zWR/j4TKk/pb0shGE7qj/8IIFPAoisP68B/UpEKag/R667XjztqT8r4NlBjimnP4uDQw+YdKw/7BbgPnjGrD8t1vLvdACuPxHd48DOiqc/W3grU/cmpz/98r12Wv2rP668os9qMaU/An+opu+trz/gARRp7RmxPx9CvF11lak/WKbgHhwLsD9nt/EvreCoPzOhRp0H07I/82GkMWzmsD+8AkG+K9GiP56gR4Sb9Lg/iUIBuPColT8GRp7uwCSvP+4w/5p2Nq0/alb2JzUGsD9ZJzh4rGumP4PcTxTe8aY/ZBgMrSIlrT9g9Jc3GDuqP7J0kxiEJ6o/5hSWQqTbsj+TzN/V7JypPwJN73mKaaA/jfPmts+1sz+XBsbvfoixP4cUC6eZb6w/Xwvj4ivprD/TaHnov4usP2XXLgzIJqs/5b/LiDnNqz8eZa51/cSvP9Wxb7MV+rA/C0ENfnKaqj/GzMzMrI2lP04BFVAhdaw/rgC519zTqj/WKo9tbSKkP+G33IWnSqs/7BMMji1oqz8qGXzoODWqP+LSW28TgqM/pDVGtQxopT/khxD23QaiPw34q0ZBsac/6tFmTgFMrj8//+nIagOxP1A+Nyxi4bA/SrJ2I1ZAsT+9/4uCfg2sP5Lf6DWluag/Ac1ASm55qz8B6Fci1k+qPxU7Ko35/aM/BK7qgUJurD8d9zL6RM+iPw7i7ar7oKk/N/XxDpfdqz9pUb+7B8OjP/j++XYTXaw/mTwex5eDqz/808+/8kOjP/QGUYvJt6g/1Ny437MRqz+gOpyWt8OnP7Nr3Hbgpas/2xZF9cSsoz8YxJ1r/HCuP3aGXQHyLqM/5iVK9PwXtD/deCcRrJCkP1D1QGHMsK8/MTI+EoHupz9nrKf1brmkP9ITM1r/JLA/jjWM9hv6pj+2B2fCXvOmP6fpezmsmqU/gEZcwvoPpT/cBMmk+rOuPzzquDyT6qo/+oqHHLkKpj/TUk6VR6yjPzdS5lrXcbE/",
          "dtype": "f8"
         },
         "yaxis": "y5"
        },
        {
         "marker": {
          "color": "green",
          "line": {
           "color": "black",
           "width": 1
          },
          "opacity": 0.8,
          "size": 6
         },
         "mode": "markers",
         "name": "Mean step length (m) vs Mean step velocity Y at stance - lHindpaw (m/s)",
         "showlegend": false,
         "type": "scatter",
         "x": {
          "bdata": "FvQ64Xlbo7/fLLr0A7qivyQSVYRoXam/ij6rqTuBsL9kPa13+9Ojv7clyGnYxKu/unrvgpuKsb8JiWgspzWsv4z1xUZIC6m/q+WF5S6atr/fzwOTfkOnv/NUrp/EgKe/6tqkdkb2sL/1DFFfkJmtv2pAcMB7rKy/nehVb/yDqL88Kmzjpj2bv3Gex/Qgb7C/s6gabSfmrb/1t5PpoP+lvzPQaQPFDLC/enFqX/W1lr8IydF8Uraiv6mVtK2WeJa/F+8cK8HamL9vQNYwusmYv9M1Pl4YRpS/5wBliQrnor8qXEmBxhGSv/4Btwk14Yy/sQcmfSx5nb/jdRjRHQGmvx6Vb1OrgaC/giVzYTSdsb+EXX1G9f+hv4WSjk9P88C/HkZsm3rTsb9BAULSgeWkv6zLkwtRSrK/zj73SlMprb8yEsamImyiv8bHc5Bqia2/n3hoZRQDsL/XnzFNxgKTvw7h9S7Scqy//jZJ1GsZq7/PX07YEPSTvwwDjYin2pa/X9dEYQlUpL/FqoFb39qov4m7TCvhIKK/aNH6J5Tbp79GATmyRSCrv5ZcnbHMV5C/EiGBTwLjpr/koXZcU9Glv1sPLj+tuqK/m4GCK9WOrb8X4DXntFSbvyu/OX1Oo7G/GdwzGMRGq78TmV1QxJ2gv0Xgqg9Sg5G/iFzwNncLmb/NuN7MSE2Pv5P3JMA/XpS/q9sIRn8BnL9IZoxp0Oukv7mnEkM1lp2/Rdb33HswrL98pQ4JFoeVvyQSdbNHSKm/E/xcQEMunb/mHn2UfZezv57uv/gKQoa/12seo6aUlb/aP25bLsmdvyQGZMGrU5e/PcHEzSqior8ibNsnu7xYP8cG0lucD6C/qKRRjHT3nL+wyawkBMmgvyRqTeS4BKe/lJp+Kk8+hL/IOGCnZqSiv0tVqLxTDZm/CjpG1IF3kL+is1M/y3ChvxkPNdwvg5a/9ABOmKO2dL8WYlaZCDWvv/G+E5gQdqC/zAmP3+fcqb8zFA4RZySyv1b2Rur46Za/0j9VjekhsL/MEIgH1rytv/L7qfFS5KS/rviXVs0Nm7+W158uorm2v1fwvf3wYLW/pn/8xz8hqL+i8Z8Vc8Cpv5J5dXOzzK+/nUIBuDCEqb/n2tUcpoKgvz6PrjI30qO/X7EWazGRpb+1kn6h1qumvwd0U7plqay/jmba47dKqr+0oxPegfmkv1v9Mr+Veba/ZuWkaYInqL9R38MKeQGZv2DsIa4EjKO/emB4wwECqb8Ah+BFiO2tvy861NmZPZC/kfQTDI4Fmb//YV7wrDmsv9F9U8stMK2/Z2LVyEW2oL8tgtFfXuOnvxi/iyq7RZi/PM+hZDsMtb8kNUecwJKfv3ypyJKYg5O/f5ZoiXYCrr83DYzf5Rm9v+yu+GEThLe/HELzxfvttb/gSWEK71e0v4eIIg/QIqO/9TV08Y6xrr/NKGTm1iC2vzKgibBhjJ6/n2i/KR8yp7/2GpsDgmCzvwh8lgsqGrC/e4Kkv/EFrL/xnoDMPQCpv4asgrvsCo+/AKXi7MPRqr8jdRZdeputv2eFr+o22KG/LsSnRYqDsL8L0h5sLJGdv975osyACrK/qwruwZnfnb8/L9JjZAikv6cw9onQyJ2/k9CAIcYJqL9YDu/Hogmjv2xjZvzCnZ2/gzVw3BV8qb/Uo6HjaZ6wv8CzHfN8D6K/RkqoBfCZpr93AwLtnNSWv3eXgEOlMam/tbdV/+W0qr9VAfLF+oWev8gnwxN3CLC/8UeDJXIQh79e4ef0DAWHv5vZs5dfRaW/twrdWd92nL8L0FOfBTCmv2gZf0Pwraq/5TE+EgHFlb9U05K8i8qUv1xpNGHCn6G/Cm+DlpQEnb82+7FI54+fv7NEZ790r4y/cQkJT5ANnL8vCTbRUFmMvxig8xddv3a/Ms0uGYxYnr/8cMfcuaiwv2UlPogfjZ6/6NuiqB7Qor/CmlGKYv2nv1d0lP8XV4K/8700zB+DoL++2iO1yRCmv8fL+XuP2KO/GnStvuZBpr8=",
          "dtype": "f8"
         },
         "xaxis": "x6",
         "y": {
          "bdata": "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",
          "dtype": "f8"
         },
         "yaxis": "y6"
        },
        {
         "marker": {
          "color": "yellow",
          "line": {
           "color": "black",
           "width": 1
          },
          "opacity": 0.7,
          "size": 6
         },
         "mode": "markers",
         "name": "Mean step length (m) vs Mean step velocity Y at stance - lHindpaw (m/s)",
         "showlegend": false,
         "type": "scatter",
         "x": {
          "bdata": "J8uYBw7Rhr+3JUr0fM6PvwEMAxKbS5a/vUlXMEEXkL+wbtOxsZZ3v+UaAxX2WYC/qM9ik5yWj79ZNTB+90VsP2gDugpotIi/5brE+aMolb8O4ig6f8egv3O8m18q35K/C71zrORWkL8eDLhNqNFZPwhhDhEYtHa/J1sVvGfHjL/wlrrc/mhnvw52+hVybnW/FDd/SaaQZr8euzEHBQSDv54RXPR46n0/qQQAHzXEhb9+Nxw0H7OSv9OTPumT2n8/Etmf1C1Oj7+d3Fw6Del5v8KgILhpkJ6/rlvdWpkSfj8XDlR+jx6kv8f91HgpcZG/LA7fGfr0jT/WbnZS+XiKvz36bAj0QDm/cpAP5aJ2QD9UPP+MaXp3PwoqcNk67ms/0AoQVrbkjT887KJvoTuSP31K0v/2do+/VGYiEnQxZr9mYQarrQSNP5q7JIdReHs/FAEoaDf0cj+NQ5wgmaxzP+14YLatvDY/IWMR9B49ZL+Z7hu7FBVNv3v0OtjfKJ2/qnOt62h+er/AZfPPmGZbv/s7rO02fk8/CydddtZcgD/6Gy72EIOHP58IEOwSSqC/TI32m/KpYL/FOiFtfahwP0abzV5YhHC//8HSrSvWhL+BkAP/ghCPv9rjpLQwk3A/9hQkSLyMk7/XetNo1ZGFP+HVGbxGg4+/8j6LTfJ2mr/AnmSIkN8YvzFFeAkDz3g/YuBTdR56kL9SEKiff+lHPxm6d0hUF3W/5KqXR0ZEY78JLegw1pSAv6myKIuykIq/lEQRDJXddb832zJtCAF4v9RZDzP7soW/dufLn/docT/yASblPdRqPwdangE7LJm/+JoqvrAHmL+6LaBOIUpxP/i91fjD/2o/ZliiJVpCZ78uViBP/vplvy4K0Nlru1a/bNndvmjffr86hCymQHB3P/4ImCzmVoy/wKnU4AmBbD+fo+34E1V0v4eGREIjNHw/cepqpM/Clb+a9hBXUnhyv5pyup1aFCO/HKQtZoh+kD+HEQBPUhV6v7e/ojkOgJY/O1feyDM0gL+HENKKsHGTP2DljQArAnM/bOf8kAVefj8GpuAtcliHP3wXqN1pToE/DoR3ajPMbr9mtez2vbMvPxhiXE83yZM/K+3njPuqYj/lQipSalZwP2D/BO2Gd5o/hR548mTVgL8Yhra9ML+bv60CQ6vIkHU/Vb0UICQdBr9EVl8gjRhSPweC7zg2TY+/A9YYLzdBZr+i7AqQe9OHP0NLqYMpo3W/p86Il08FaD+Vps7teReTv9NmehqCDIQ/uJb/5KFGcz9JgeE28wyAvxJTydI2CoM/",
          "dtype": "f8"
         },
         "xaxis": "x6",
         "y": {
          "bdata": "vYsOoa8Lrz9vZPWdYKqwPw/qgqmsZqA/z/T7BpHWrz/5wfYPMKesP21ye5pNuq0/MtmItmR8sj/pYJ6o3yGrP9YRhKfeRbA/jay+E5iZsT8zQbkvAC2xPx7aEmvb17A/Mk0GmDP6pj/MGrFnqb+gP6Faf24x5qg/ulunx7KWsD+Mrow79lGwPz4dl2eiY6E/ak7aooLbrj82ByJoA8+pP83m/JAFaq0/oq8tDhZusT+gMN9rZ4CsP0tQdZIxv6U/0YtrAGgLqD9WQd5aTOSkP08Q+9n7Uqw//hNp7QUApz9vB5bl5PKxP1zWR/j4TKk/pb0shGE7qj/8IIFPAoisP68B/UpEKag/R667XjztqT8r4NlBjimnP4uDQw+YdKw/7BbgPnjGrD8t1vLvdACuPxHd48DOiqc/W3grU/cmpz/98r12Wv2rP668os9qMaU/An+opu+trz/gARRp7RmxPx9CvF11lak/WKbgHhwLsD9nt/EvreCoPzOhRp0H07I/82GkMWzmsD+8AkG+K9GiP56gR4Sb9Lg/iUIBuPColT8GRp7uwCSvP+4w/5p2Nq0/alb2JzUGsD9ZJzh4rGumP4PcTxTe8aY/ZBgMrSIlrT9g9Jc3GDuqP7J0kxiEJ6o/5hSWQqTbsj+TzN/V7JypPwJN73mKaaA/jfPmts+1sz+XBsbvfoixP4cUC6eZb6w/Xwvj4ivprD/TaHnov4usP2XXLgzIJqs/5b/LiDnNqz8eZa51/cSvP9Wxb7MV+rA/C0ENfnKaqj/GzMzMrI2lP04BFVAhdaw/rgC519zTqj/WKo9tbSKkP+G33IWnSqs/7BMMji1oqz8qGXzoODWqP+LSW28TgqM/pDVGtQxopT/khxD23QaiPw34q0ZBsac/6tFmTgFMrj8//+nIagOxP1A+Nyxi4bA/SrJ2I1ZAsT+9/4uCfg2sP5Lf6DWluag/Ac1ASm55qz8B6Fci1k+qPxU7Ko35/aM/BK7qgUJurD8d9zL6RM+iPw7i7ar7oKk/N/XxDpfdqz9pUb+7B8OjP/j++XYTXaw/mTwex5eDqz/808+/8kOjP/QGUYvJt6g/1Ny437MRqz+gOpyWt8OnP7Nr3Hbgpas/2xZF9cSsoz8YxJ1r/HCuP3aGXQHyLqM/5iVK9PwXtD/deCcRrJCkP1D1QGHMsK8/MTI+EoHupz9nrKf1brmkP9ITM1r/JLA/jjWM9hv6pj+2B2fCXvOmP6fpezmsmqU/gEZcwvoPpT/cBMmk+rOuPzzquDyT6qo/+oqHHLkKpj/TUk6VR6yjPzdS5lrXcbE/",
          "dtype": "f8"
         },
         "yaxis": "y6"
        },
        {
         "marker": {
          "color": "green",
          "line": {
           "color": "black",
           "width": 1
          },
          "opacity": 0.8,
          "size": 6
         },
         "mode": "markers",
         "name": "Mean step length (m) vs Mean step velocity X at swing - lHindpaw (m/s)",
         "showlegend": false,
         "type": "scatter",
         "x": {
          "bdata": "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",
          "dtype": "f8"
         },
         "xaxis": "x7",
         "y": {
          "bdata": "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",
          "dtype": "f8"
         },
         "yaxis": "y7"
        },
        {
         "marker": {
          "color": "yellow",
          "line": {
           "color": "black",
           "width": 1
          },
          "opacity": 0.7,
          "size": 6
         },
         "mode": "markers",
         "name": "Mean step length (m) vs Mean step velocity X at swing - lHindpaw (m/s)",
         "showlegend": false,
         "type": "scatter",
         "x": {
          "bdata": "lEDWMKZWwj88qfoQVl7APwcJfBLwIcI/r6zVMbFL2T8WFY7rD4vFP6/5G1WVb+I/SMIkTK503T846I21sJ3QP5G0fTmyLtQ/qbmQNL0J1D/VAheXon/PP3QTiUmL2dE/2blpaL1u1T+7bg2HF+fJP2dwXiCcldQ/iFEODokS1z8cYpzah0/UP7cEbEWix80/yK6Yp9uf2T/dr6GLbWTUP33HGy1PY8I/Q5DvSqdj3D/UYOGOaxXVP+egnIx3bt0/987v/I7Y2j+pbIWgxorePw66G9BbBNA/8NdMml+K1T/538IjqRHPP3j/PtG01d4/7BfHUqdDzD+eMxPXGV/KP2w66/eS480/lJm4DjujyT80jFP7WoPPP8APc6j2idM/de0xEc+fyz9X4UEXOkrWP5qO1uWcz8c/R47Keedo0D8zEdC8+FbMP3brXTPyOMs/O0Su5wfc1z9loBhhFUDcP8b5IQs0R9Q/ub5w99gEzz/PfC0E/IHdPxB3zWYvybQ/3+xZxJz/5D/hD3A+8Ve7P0fLqLW2x9Y/g0oiOcALuz8ox4g6cMWyPyfkg56tEsc/BNLiIqvPxT/r9d0eEzvHP8b8bjWl68s/ZM0J0HOVwD8Zhoc3UeiyP1i9/kfn6Mk/0G80Fx0G3j/nDVPEgOzkP1Os7TaWydY/EOaJ+tuA1j/kQ5ozNIXWP1lsipwlbMg/Fz8g4YoAxT/np8ZL84TNP1NOxt/A8tI/8U4D47eizz+6LQa/NwvOP9Fr8DlyR9c/Co7BaGBT1T94RS6z1l7AP2YvC2HATdE/MGpQThrOxj8Zur5wZ/zCP/2iZ0ogL8g/r33O5dU+0T8qWC4Cnbu+Pzw4m0VAzcU/gIBdLcvO0j+zihPKzv7LP3K5V0bFctE/No7jODJ+wj8QM2dDoOjUP8UOB6CFkdA/NNckMjoU3j9UWnMCHEzAP9BT6/yNmdM/+QkGxzblwD9UHbbc3zLOPyGviotafsY/rkz6Ony70j88U/KZcl65P4EgGJPiicE/5XzCl7Bkwz9TO3JRguXGP2ONnFu5csg/8jt5sryq1j/IMm7RbJbLP9+9YhcQ9dE/2QgaxmC50T+g64JevlvXPxeoC7XID9U/rvWshxnBwD9zv1p1fSnUP6lEH/uLwNw/uzM/kBrK2D8HKo9EARCrP8P9f3C1ocg/TUonNT3/0D8Dt1iHH/fOP7V02VkTbLk/wFWovCMJwT+XVA54IHTMP/t6RVSnM78/474ZTudT0j9lZZna7SXKP31aKNSVbt8/y7cV9Xpd0D9GUUeot/WzP/eDYoSFSt0/",
          "dtype": "f8"
         },
         "xaxis": "x7",
         "y": {
          "bdata": "vYsOoa8Lrz9vZPWdYKqwPw/qgqmsZqA/z/T7BpHWrz/5wfYPMKesP21ye5pNuq0/MtmItmR8sj/pYJ6o3yGrP9YRhKfeRbA/jay+E5iZsT8zQbkvAC2xPx7aEmvb17A/Mk0GmDP6pj/MGrFnqb+gP6Faf24x5qg/ulunx7KWsD+Mrow79lGwPz4dl2eiY6E/ak7aooLbrj82ByJoA8+pP83m/JAFaq0/oq8tDhZusT+gMN9rZ4CsP0tQdZIxv6U/0YtrAGgLqD9WQd5aTOSkP08Q+9n7Uqw//hNp7QUApz9vB5bl5PKxP1zWR/j4TKk/pb0shGE7qj/8IIFPAoisP68B/UpEKag/R667XjztqT8r4NlBjimnP4uDQw+YdKw/7BbgPnjGrD8t1vLvdACuPxHd48DOiqc/W3grU/cmpz/98r12Wv2rP668os9qMaU/An+opu+trz/gARRp7RmxPx9CvF11lak/WKbgHhwLsD9nt/EvreCoPzOhRp0H07I/82GkMWzmsD+8AkG+K9GiP56gR4Sb9Lg/iUIBuPColT8GRp7uwCSvP+4w/5p2Nq0/alb2JzUGsD9ZJzh4rGumP4PcTxTe8aY/ZBgMrSIlrT9g9Jc3GDuqP7J0kxiEJ6o/5hSWQqTbsj+TzN/V7JypPwJN73mKaaA/jfPmts+1sz+XBsbvfoixP4cUC6eZb6w/Xwvj4ivprD/TaHnov4usP2XXLgzIJqs/5b/LiDnNqz8eZa51/cSvP9Wxb7MV+rA/C0ENfnKaqj/GzMzMrI2lP04BFVAhdaw/rgC519zTqj/WKo9tbSKkP+G33IWnSqs/7BMMji1oqz8qGXzoODWqP+LSW28TgqM/pDVGtQxopT/khxD23QaiPw34q0ZBsac/6tFmTgFMrj8//+nIagOxP1A+Nyxi4bA/SrJ2I1ZAsT+9/4uCfg2sP5Lf6DWluag/Ac1ASm55qz8B6Fci1k+qPxU7Ko35/aM/BK7qgUJurD8d9zL6RM+iPw7i7ar7oKk/N/XxDpfdqz9pUb+7B8OjP/j++XYTXaw/mTwex5eDqz/808+/8kOjP/QGUYvJt6g/1Ny437MRqz+gOpyWt8OnP7Nr3Hbgpas/2xZF9cSsoz8YxJ1r/HCuP3aGXQHyLqM/5iVK9PwXtD/deCcRrJCkP1D1QGHMsK8/MTI+EoHupz9nrKf1brmkP9ITM1r/JLA/jjWM9hv6pj+2B2fCXvOmP6fpezmsmqU/gEZcwvoPpT/cBMmk+rOuPzzquDyT6qo/+oqHHLkKpj/TUk6VR6yjPzdS5lrXcbE/",
          "dtype": "f8"
         },
         "yaxis": "y7"
        },
        {
         "marker": {
          "color": "green",
          "line": {
           "color": "black",
           "width": 1
          },
          "opacity": 0.8,
          "size": 6
         },
         "mode": "markers",
         "name": "Mean step length (m) vs Mean step velocity Y at swing - lHindpaw (m/s)",
         "showlegend": false,
         "type": "scatter",
         "x": {
          "bdata": "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",
          "dtype": "f8"
         },
         "xaxis": "x8",
         "y": {
          "bdata": "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",
          "dtype": "f8"
         },
         "yaxis": "y8"
        },
        {
         "marker": {
          "color": "yellow",
          "line": {
           "color": "black",
           "width": 1
          },
          "opacity": 0.7,
          "size": 6
         },
         "mode": "markers",
         "name": "Mean step length (m) vs Mean step velocity Y at swing - lHindpaw (m/s)",
         "showlegend": false,
         "type": "scatter",
         "x": {
          "bdata": "Nioz9RBPsT8o6t8Inbe6P7UMdqhoWYA/S4o/kr00vD/Gj4t7XjqgP+BaE0gEMX0/3C8xRsaQxT/hAsxZNoV7PxegWdNJ1cM/tDDixkY8xT+OY7fgx027P7m5r6lKJsE/oK5WqA+5iz89PrClIAyHPxCvBS4u7Vo/4NWlPoVnuz8phSk88xrHP/wpnnBarJI/rxOmHY+6oj+SfyOUUZRxP8+ap3maD5I/k4bZ1a+gwT+Ms7WaFLvCP6SUsX9hzJY/GcDT322Zbr/ppZbII8GUP/54H7qvu7c/4+YbBsN/nD9SGTkCYQbBP6rJPl1xPpY/JnXYcn+Diz8Oe4grZbPBP165WB5FQ4o/+jAveI6ioT99S7y61It1v4sl22MiSJM/9HSK2tvlnj8BycxiKRWOP48jGnEJa1E/rr1qbtzfmz/XhoIdyHWrP/CWdOadjoQ/tdo4UDk0uD+RDaTkul2WvwHdbbEd8aA/B80uGYzmrz8QlRPMIFekPzxT5IyvV6k/tMwgd3U0U78DHfTGWj50P5MkJA+/PY4/07nYQ1zVl7+NKR2+M56jP3eRK2fafrA/jUGez+OhvD94qDdfC7SJvz62tRM63J4/6eGQS8Njrz98yZ4mV3WhP3BgWU6UIqc/JiyxAeoKyD8cJoY9EiOFv0/I6juBOoM/nxgjy9MkyD+IzaQZh0bHP9S32SpIVbo/9XvRmj3QrD9uoI3FapuSP+oo8Gj1VoG/Hen49AXirz9yNEiDVO60P9giOFl368k/FJtgUfeniT8IpT95/itcvyA7JZEcBJo/mXdXG2bCiz9pVE7lVHqGP5ckh1HoXKs/dbus9EYswz+fTzowcDOVP4hFLBKFRYc/a9sKyXjLiD/9mUBPqoqWPwZ/jIy5m6g/YcpUlFbTtj//tZM0D0aKP64pB1rcscA/ydvL9+l1hr9Itm/Syv+RP7UL5VZvq4A/0Cd90k/csz+DStz3sKq1P/aXlphmzos/h5A5kunRqD+csHTctMCQPzaMg7r2lIc/cgr4mycCpT8qlPzMbCNhPwB09zLrnao/YqIZG0eZfT/NMtnyWXCIP/k6n5fqKnw/OW6hbywxsT+uGtxmUP+UP55HYOaZGpY/JjKaIAJPdz/vUm6MVH2jPzEWZVEW3pI/8suXIPr2tj/CP8u65nScP21GUFbdSrI/6EwaW6U2kz9GCp610rSCP9QsWKjEILc/bJc3mAgemT858m2XlaqDP9WP9R6CM5E/7ZP8j0vggT9P+Ley3p+yP9Kre4dEaXc/lQaa/Fgggj+T0I2do0iaP1IRb1fdDJY/",
          "dtype": "f8"
         },
         "xaxis": "x8",
         "y": {
          "bdata": "vYsOoa8Lrz9vZPWdYKqwPw/qgqmsZqA/z/T7BpHWrz/5wfYPMKesP21ye5pNuq0/MtmItmR8sj/pYJ6o3yGrP9YRhKfeRbA/jay+E5iZsT8zQbkvAC2xPx7aEmvb17A/Mk0GmDP6pj/MGrFnqb+gP6Faf24x5qg/ulunx7KWsD+Mrow79lGwPz4dl2eiY6E/ak7aooLbrj82ByJoA8+pP83m/JAFaq0/oq8tDhZusT+gMN9rZ4CsP0tQdZIxv6U/0YtrAGgLqD9WQd5aTOSkP08Q+9n7Uqw//hNp7QUApz9vB5bl5PKxP1zWR/j4TKk/pb0shGE7qj/8IIFPAoisP68B/UpEKag/R667XjztqT8r4NlBjimnP4uDQw+YdKw/7BbgPnjGrD8t1vLvdACuPxHd48DOiqc/W3grU/cmpz/98r12Wv2rP668os9qMaU/An+opu+trz/gARRp7RmxPx9CvF11lak/WKbgHhwLsD9nt/EvreCoPzOhRp0H07I/82GkMWzmsD+8AkG+K9GiP56gR4Sb9Lg/iUIBuPColT8GRp7uwCSvP+4w/5p2Nq0/alb2JzUGsD9ZJzh4rGumP4PcTxTe8aY/ZBgMrSIlrT9g9Jc3GDuqP7J0kxiEJ6o/5hSWQqTbsj+TzN/V7JypPwJN73mKaaA/jfPmts+1sz+XBsbvfoixP4cUC6eZb6w/Xwvj4ivprD/TaHnov4usP2XXLgzIJqs/5b/LiDnNqz8eZa51/cSvP9Wxb7MV+rA/C0ENfnKaqj/GzMzMrI2lP04BFVAhdaw/rgC519zTqj/WKo9tbSKkP+G33IWnSqs/7BMMji1oqz8qGXzoODWqP+LSW28TgqM/pDVGtQxopT/khxD23QaiPw34q0ZBsac/6tFmTgFMrj8//+nIagOxP1A+Nyxi4bA/SrJ2I1ZAsT+9/4uCfg2sP5Lf6DWluag/Ac1ASm55qz8B6Fci1k+qPxU7Ko35/aM/BK7qgUJurD8d9zL6RM+iPw7i7ar7oKk/N/XxDpfdqz9pUb+7B8OjP/j++XYTXaw/mTwex5eDqz/808+/8kOjP/QGUYvJt6g/1Ny437MRqz+gOpyWt8OnP7Nr3Hbgpas/2xZF9cSsoz8YxJ1r/HCuP3aGXQHyLqM/5iVK9PwXtD/deCcRrJCkP1D1QGHMsK8/MTI+EoHupz9nrKf1brmkP9ITM1r/JLA/jjWM9hv6pj+2B2fCXvOmP6fpezmsmqU/gEZcwvoPpT/cBMmk+rOuPzzquDyT6qo/+oqHHLkKpj/TUk6VR6yjPzdS5lrXcbE/",
          "dtype": "f8"
         },
         "yaxis": "y8"
        },
        {
         "marker": {
          "color": "green",
          "line": {
           "color": "black",
           "width": 1
          },
          "opacity": 0.8,
          "size": 6
         },
         "mode": "markers",
         "name": "Mean step duration (s) vs Mean step velocity X at stance - lHindpaw (m/s)",
         "showlegend": false,
         "type": "scatter",
         "x": {
          "bdata": "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",
          "dtype": "f8"
         },
         "xaxis": "x9",
         "y": {
          "bdata": "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",
          "dtype": "f8"
         },
         "yaxis": "y9"
        },
        {
         "marker": {
          "color": "yellow",
          "line": {
           "color": "black",
           "width": 1
          },
          "opacity": 0.7,
          "size": 6
         },
         "mode": "markers",
         "name": "Mean step duration (s) vs Mean step velocity X at stance - lHindpaw (m/s)",
         "showlegend": false,
         "type": "scatter",
         "x": {
          "bdata": "OKnKBjxZiL89AlYOLSRzP94hUUUI4ro/pMAV0Btanj94wzIswzlrP1ZS0PY//KM//OvETmwdoD/LGy0PLejAP5xEs8UICrQ/1whGf3nQiD/GyHx0jqStPw9qtQSjSrE//7gVR/+1zD/AZE0ByOvEP7T2yS6fLKE/PHNnqpmWgj/N7UaszmGbP1Qi1VJmkqk/izMHa2xqpz9Joyvjkl/EP6Omii8kIc4/uX2L/7murT99nZj+HMmSP5OsI8oU4c0/eRin9kkdxD8+OQgX8e23P2L1V3+1ZYQ/6p3nUAxeyT8hdZqIhN6gP9EsH6tUvMw/6ea+poo4tz+183mp7lSHP44ozAax8bo/YVpUjfoC0T+vvEZXxtefPxcU0CasL5I/dQQU05C4lT87FrjWgBqgPzHsZ++zqbc/TV8gjWimoz8gnK+FgDWTP1Q+N7QxgVM/2e4P56UIkj+SV3/1V7+Iv5vylf+MRbA/1YaqsmFutD/s09cWRy3fP8WHkcawcq4/GHFRvvIIrT9rtPaykKOoP0dBIvtV7p4/vr3mQtLXuT/dndeiiXmrP+EIt86l4Hg/xPbgTNhpcT/cp+nz6Y2iv2f2sOhZGGw/uSEy0Erecb9d13zd6C5KP/6++5LzY5E/lhstD/1TpT+mf+JOv5ScP78vOZ2i8NQ/OnXnOZQgeD+CYrpoAeeTP3l/j7oewHA/n9Eh9EXukz9CffnzjouZP2Qj8EmAMX2/EsI8Ub++mT9Swjtq65Z2Pz1C+kfwuJQ/ivmspq7KmT8JPsL0TgWRPzvgsnUMAac/I8WTRoBAlD/WZGxmOklnP8Bvt3l/v5U/rl5vDACMkj9Mye5QqoO3P2USUjgXhmU/qmgxJDdxyD/9a5SUO6nUPwOrQpmmBoc/Bh5nXUjdkj9I7U4Do0/GP5gkctRkfKg/4EPypa3Yrj8Q0dyZ6s2hP7MH6JJB8ao/IqFrm7HWgD90TxkabYmjP0rvWGVAQYy/10+ZitIIZz8hozM6o+GTP1HGhDT9BZ+/y5l0X5espD8aLeNSJf6Cv4NowpMcYqc/oCXgblX/sb//sJklDVKOP5bDd4a+wZk/X7ZVShQvkT/cE0WLoZm+PyvpmsyVApU/E10NkpXsTb/4BMFNpvykPybVxZoeJcO/Cn4MwRZXvT/Br7rJIEaaP3zqTf1ZdI0/tewxL0vyjT9Dd3RJwgt0P0TS7PxkS7Q/fMCtoKuskD9Y5M6fYRmaP1dYXRYNl6Y/83tymg/RcT9WTxoBoYKZPwG+uon5OZA/MhpRgmIGY7/Eed+CmsyiPw2TpIb01bQ/",
          "dtype": "f8"
         },
         "xaxis": "x9",
         "y": {
          "bdata": "uBB1M2jZyT/DYay2/vbIP4nDWG397dE/40j+86uzyT8AAAAAAADQP+D+xC8bi8o/H+EnF6Juxj8lBST85ELQP080bgMYqMg/7G8PbPSuyD9d7/EDgvTFPwY/uRB1M8g/+eEtQch5zD9aStWhOWDOP9FR1nXSWtE/pZUXpYOZyj/AQ9r3xnDFPyPHPoRqttk/6zpprYqX0T8xVlt/e2DLP6/U0LX4zNo/2OVI/vOryz+eGHkclNnHP0jyn1+dTc8/q6qqqqqq0j/f6TEq9HnKP6BciLoZtMw/+NsDG70ryj/vkPa9MVzFP51QNG4DGMg/VEkBCT+50D8bwEDFZMHJP7TwlBKCjtU/YKBisuAkwj+5GbTseE7VP51bgYnCUcw/xWKz51VZ0T86mjeFpH/NP2bQsuM5ldQ/YlTo80R8zz+QvPR9PoLMPxT1GRwrlNM/TBOHsdr6yz8aom4GLTvuPxrBR/a7I9o/Z94Ukv71yT+DpYauxWfGPzJr7oSiccs/Ahu9KzJfyj/2vCorLkPWP5w+tvvhLfE/eVdkvjRxyD9uFZYauhbPP4txtIhW98w/q7DU0LX4xD9YaNr4zaHcP+H7r5wVZNU/juZNIelfzz+EnEf1tPLSPzeDlh3PqdA/Y6uvzZ9exj/y2i+CwoTQPyxfmjiM1bY/iMyXJg5jxT/65ELUzaDFP/fDW4KQ88g/g5Ydz6mkyD9cjuQ/vzrLP/OidDBTRtw/P7kQdTNoyT9C1M2gZcfLPx3Y6F2R+cI/FS/jz0iX3D+waoQ4JZ7iP0oBCT+5ENE/chWWGroWzz8Zq62/PbDRP1AuRN0MWtY/2pOkGU21xj+i2FKqDs3RPzAo5hd0+c4/+NC2//3xzT87cuxDqGbTP+1J0oymWs8/hbHa+tsDyz9I+94YrsLSP/u78GF6JcM/SP3selyH4z/oXZH50sTJP2GmjNjrcsw/cSHqZtCyyz8xaNnxnErKP/IEiSVtYtc/7XhOJQUkzD9T25jHDgHhP8VkwUkEHtI/GO+8XcOKzj+oPlDLKLfLP/jQtv/98c0/ENMrmZaE1j/Hq+V6jx/QPwUnEXhI+84/R+hZdTV2yz/Q5HRl+QTWP2XDV2bMls8/fDM1QZXh1z8i7HQyYajKP9j//vjOqM0/NoSdTiYMxT9TYwCVN87VPzeS//zqbMo/6zpprYqX0T9Bk9OV5RPYP4aponIi8cc/Lqj/YyJX2D/Z747oW4PXP4WqqaN5U9g/GAy7gwBq3D9/hJ9ciLrJP0oGLDRt/NY/3EqeeJWo4D+wSE0kc3bUPzmVFJDwk9s/",
          "dtype": "f8"
         },
         "yaxis": "y9"
        },
        {
         "marker": {
          "color": "green",
          "line": {
           "color": "black",
           "width": 1
          },
          "opacity": 0.8,
          "size": 6
         },
         "mode": "markers",
         "name": "Mean step duration (s) vs Mean step velocity Y at stance - lHindpaw (m/s)",
         "showlegend": false,
         "type": "scatter",
         "x": {
          "bdata": "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",
          "dtype": "f8"
         },
         "xaxis": "x10",
         "y": {
          "bdata": "Bl0QXuT2zj/tfGrpYa3NP9jlSP7zq8s/p4/tfnhL0D9SQMJPLkTRP1vJtCQ0oMQ/7rlIMIXXxz+AeEsQch7FP3Om8w/WQMw/UhRbStWhyT9TgbxarvfIP+SbqQmqDM8/U1VVVVVVxT+z8ZtD2fDFPxaWGroWn8k/D1i60NNPyj9QmJBa4IjQPzFhqJo6msc/098e2OhdyT9F6mfX4zrMPwxadjynkso/JSDhJxeizj8mqkBeLdfLP3xjuApLDc0/QtTNoGXHyz+07HhOJQXMP20PbPSuyMw/PxoeOfYh0D80GUqg+3rOP8uIvS5H8s8/Naa+aRfXzD/CPgn57QbMP03qND+Hf8k/luEgD8b5xj/LlyYOY7XNP+M2gIGKycI/fr/Oy9uUxj9FTYP9VLnHP+pM5x+sgcg/gW68lOwuxj92d3d3d3fHP0VNg/1Uucc/ci5F5D2xyD/Tj7vtTOfHP3ykshXLwMg/1v3wliDkzD8YqqaO5k3RP/KfX51NH8s/vJeMPhwsyz8JQMBBzJXIP4a7IOVD284/2wMbvSsyzz8XoGCkfnbNP3uF2SU82Mw/jeQ/vzqbzj+wzJgtP7rHPxv15oPO2NA/R/CR/e6Izj8L6v+YyBXSP6ulh7X2vsg/z4FZP4iGyj/ZkI+GR47NP7JNhhLovs4/OFpEq3su0j8pKSDhJxfSPz/utjOdf9A/Ie6ClA9tyz90MFNG7HXJP96LOfk258g/uAUoGKmfzT/V1t8e2OjNP6AzNkjGOMo/el2O5D+/yj9LCUHHciPIP/6MdMkbXM4/ILKrfkOl0T/51uAlCUDQP9T8HP4lPc8/SQ9r7X1xyj/0rsh8aeLQP60CRh0ANM8/BL7LK8wu0T96JdOS0IDSP94e2Ohdkck/2OdWYKJw1D/layZA9ODJPyrF/YlfNtY/WnY8p5IC0j8l0H09eyvNP11WKe5P/NI///nV2fSxzT8LVEwWnETQPzmJwEPa984/C1AwUj+7zj/GcBWWGrrGPy07nlNJAdE/JDe1J0kzyj/J6cryCazKP04f2/3wltA/pHpaeVE60D9aDPApv9PDP3hUTysvSsc/4CosNXQtzj/mvp69lX7MPx+leXzD58g/62z62O6Hxz8oKBmw0LTRP0qg+3r2Vso/5rfi6dKfxT85mz62++HNP3aj3nzQGcs/WFt/e2Cjzz94UTqYKSPOP0gBCT+5EMU/FZo2fnMoyz+Fn1yIuhnQP2z62O6Ht8w/uA1goGKyyD+6Iex0MmHIP2vsdkDDVs8/wUbvisyXxj/IeVRPKy/KP2fTx3Y/vM0/L00cxmrrzz9D6WCmjNjLP0wTh7Ha+ss/75D2vTFcxT9F4zaAgYrJP8ZwFZYaus4/NKCUQwyJyj+/PbDRuyLDP4/tfnhLEMI/fgXA2Y16wz8e3hKEnEfFPxyX7lIRRsc/lBSQ8JMLyT9go3dF5kvDP4TXF9opWMw/aNbcCUXjxj+jjNjrciTHPygh6FhuBL8/XLpLRRjdzj95V2S+NHHIP/uAIH0FwMk/OYzV1t8eyD+7Lkfyn1/NP0LFZMFJBM4/y5tC0r8+xz9+G1oQDO7LP3IuReQ9scg/KTJfmjiMxT8Zp5H74CbQPwduNanT/Mw/+NTSw1p7zz90MFNG7HXJP9LSw1p7X8w/Lx6gLQwiyz+or82fXpbMP4vUz67Hdcg/OQFvb3KHyj8CH9nvjujLP9TIfXATiMg/rs6mj+1+yD8AqDH1TbvIPwAHMVdisNI/NbxYoJVKzT8fEKSvADjLP3HF/5fB5Mo/FLxXmWTzyj+fXY/rcBbNP47sd0f0rdE/mxh5HJTZzz8g8p5YbPbMP700cRirrc8/dksQch7Vwz/eHtjoXZHJPyT963MrMNE/bPGZNXdC0T9+fnU2fWzHP7suR/KfX80/2gENW31tzj9MsGuLaXzQPwKUcoghUc4/JhF4SPveyD/gJhBxF6TMP6qtvz2w0cs/BJJkJnOMzT8VmjZ+cyjLP+kL7RQszsw/ubu7u7u7yz8=",
          "dtype": "f8"
         },
         "yaxis": "y10"
        },
        {
         "marker": {
          "color": "yellow",
          "line": {
           "color": "black",
           "width": 1
          },
          "opacity": 0.7,
          "size": 6
         },
         "mode": "markers",
         "name": "Mean step duration (s) vs Mean step velocity Y at stance - lHindpaw (m/s)",
         "showlegend": false,
         "type": "scatter",
         "x": {
          "bdata": "J8uYBw7Rhr+3JUr0fM6PvwEMAxKbS5a/vUlXMEEXkL+wbtOxsZZ3v+UaAxX2WYC/qM9ik5yWj79ZNTB+90VsP2gDugpotIi/5brE+aMolb8O4ig6f8egv3O8m18q35K/C71zrORWkL8eDLhNqNFZPwhhDhEYtHa/J1sVvGfHjL/wlrrc/mhnvw52+hVybnW/FDd/SaaQZr8euzEHBQSDv54RXPR46n0/qQQAHzXEhb9+Nxw0H7OSv9OTPumT2n8/Etmf1C1Oj7+d3Fw6Del5v8KgILhpkJ6/rlvdWpkSfj8XDlR+jx6kv8f91HgpcZG/LA7fGfr0jT/WbnZS+XiKvz36bAj0QDm/cpAP5aJ2QD9UPP+MaXp3PwoqcNk67ms/0AoQVrbkjT887KJvoTuSP31K0v/2do+/VGYiEnQxZr9mYQarrQSNP5q7JIdReHs/FAEoaDf0cj+NQ5wgmaxzP+14YLatvDY/IWMR9B49ZL+Z7hu7FBVNv3v0OtjfKJ2/qnOt62h+er/AZfPPmGZbv/s7rO02fk8/CydddtZcgD/6Gy72EIOHP58IEOwSSqC/TI32m/KpYL/FOiFtfahwP0abzV5YhHC//8HSrSvWhL+BkAP/ghCPv9rjpLQwk3A/9hQkSLyMk7/XetNo1ZGFP+HVGbxGg4+/8j6LTfJ2mr/AnmSIkN8YvzFFeAkDz3g/YuBTdR56kL9SEKiff+lHPxm6d0hUF3W/5KqXR0ZEY78JLegw1pSAv6myKIuykIq/lEQRDJXddb832zJtCAF4v9RZDzP7soW/dufLn/docT/yASblPdRqPwdangE7LJm/+JoqvrAHmL+6LaBOIUpxP/i91fjD/2o/ZliiJVpCZ78uViBP/vplvy4K0Nlru1a/bNndvmjffr86hCymQHB3P/4ImCzmVoy/wKnU4AmBbD+fo+34E1V0v4eGREIjNHw/cepqpM/Clb+a9hBXUnhyv5pyup1aFCO/HKQtZoh+kD+HEQBPUhV6v7e/ojkOgJY/O1feyDM0gL+HENKKsHGTP2DljQArAnM/bOf8kAVefj8GpuAtcliHP3wXqN1pToE/DoR3ajPMbr9mtez2vbMvPxhiXE83yZM/K+3njPuqYj/lQipSalZwP2D/BO2Gd5o/hR548mTVgL8Yhra9ML+bv60CQ6vIkHU/Vb0UICQdBr9EVl8gjRhSPweC7zg2TY+/A9YYLzdBZr+i7AqQe9OHP0NLqYMpo3W/p86Il08FaD+Vps7teReTv9NmehqCDIQ/uJb/5KFGcz9JgeE28wyAvxJTydI2CoM/",
          "dtype": "f8"
         },
         "xaxis": "x10",
         "y": {
          "bdata": "uBB1M2jZyT/DYay2/vbIP4nDWG397dE/40j+86uzyT8AAAAAAADQP+D+xC8bi8o/H+EnF6Juxj8lBST85ELQP080bgMYqMg/7G8PbPSuyD9d7/EDgvTFPwY/uRB1M8g/+eEtQch5zD9aStWhOWDOP9FR1nXSWtE/pZUXpYOZyj/AQ9r3xnDFPyPHPoRqttk/6zpprYqX0T8xVlt/e2DLP6/U0LX4zNo/2OVI/vOryz+eGHkclNnHP0jyn1+dTc8/q6qqqqqq0j/f6TEq9HnKP6BciLoZtMw/+NsDG70ryj/vkPa9MVzFP51QNG4DGMg/VEkBCT+50D8bwEDFZMHJP7TwlBKCjtU/YKBisuAkwj+5GbTseE7VP51bgYnCUcw/xWKz51VZ0T86mjeFpH/NP2bQsuM5ldQ/YlTo80R8zz+QvPR9PoLMPxT1GRwrlNM/TBOHsdr6yz8aom4GLTvuPxrBR/a7I9o/Z94Ukv71yT+DpYauxWfGPzJr7oSiccs/Ahu9KzJfyj/2vCorLkPWP5w+tvvhLfE/eVdkvjRxyD9uFZYauhbPP4txtIhW98w/q7DU0LX4xD9YaNr4zaHcP+H7r5wVZNU/juZNIelfzz+EnEf1tPLSPzeDlh3PqdA/Y6uvzZ9exj/y2i+CwoTQPyxfmjiM1bY/iMyXJg5jxT/65ELUzaDFP/fDW4KQ88g/g5Ydz6mkyD9cjuQ/vzrLP/OidDBTRtw/P7kQdTNoyT9C1M2gZcfLPx3Y6F2R+cI/FS/jz0iX3D+waoQ4JZ7iP0oBCT+5ENE/chWWGroWzz8Zq62/PbDRP1AuRN0MWtY/2pOkGU21xj+i2FKqDs3RPzAo5hd0+c4/+NC2//3xzT87cuxDqGbTP+1J0oymWs8/hbHa+tsDyz9I+94YrsLSP/u78GF6JcM/SP3selyH4z/oXZH50sTJP2GmjNjrcsw/cSHqZtCyyz8xaNnxnErKP/IEiSVtYtc/7XhOJQUkzD9T25jHDgHhP8VkwUkEHtI/GO+8XcOKzj+oPlDLKLfLP/jQtv/98c0/ENMrmZaE1j/Hq+V6jx/QPwUnEXhI+84/R+hZdTV2yz/Q5HRl+QTWP2XDV2bMls8/fDM1QZXh1z8i7HQyYajKP9j//vjOqM0/NoSdTiYMxT9TYwCVN87VPzeS//zqbMo/6zpprYqX0T9Bk9OV5RPYP4aponIi8cc/Lqj/YyJX2D/Z747oW4PXP4WqqaN5U9g/GAy7gwBq3D9/hJ9ciLrJP0oGLDRt/NY/3EqeeJWo4D+wSE0kc3bUPzmVFJDwk9s/",
          "dtype": "f8"
         },
         "yaxis": "y10"
        },
        {
         "marker": {
          "color": "green",
          "line": {
           "color": "black",
           "width": 1
          },
          "opacity": 0.8,
          "size": 6
         },
         "mode": "markers",
         "name": "Mean step duration (s) vs Mean step velocity X at swing - lHindpaw (m/s)",
         "showlegend": false,
         "type": "scatter",
         "x": {
          "bdata": "l70KtFSdzj/zV88QJYDMPyyvyT43itI/LQRWDmnwzT+JAP8YiN/AP4t725K3+9o/wdbxCHkm0T/EzMzM+ETNP9o33wOAzdc/13m0ILp40T+q/uqvznDRPy9mxJ0Emcg/4oyvc5eD1T8sWx+WBV7QP06Hh/tY7dI/hch2xzkT0T9J57pkj+DOP74u6OVnE8s/s1Bdjdi30T+7yCuQCZPRP2ZoPOUsWco//O3BmfiHxz+H6ZGdT+DOP1MtOt7iLMU/+PEAikjRxj+fCr+eD1LLP0t0CH0VJMc/dDGsBqJhzD9ek0Irb9nJP5QwhWc2FMw/hItL0bQDyj9L+de9dXPHP8z5LxgjGco/RmKBgw0oyz+xFLdYY0zHP0/8FRiExdY/naWChldbzD9ZXYJCMs3KP1CMZGP1zMo/pjXVZ5vTzj+ZqxXq0xfLP+uUF/DPJ9M/zt1UxWwvwz87lWSh94jKPxldVAbg5Mc/RgGZe/s1wj+TyRr7fDjIPzM1a/5EccM/S8CC3bySxj+c+jTYy9q9P81xtxDlu7s/9ew/PC7Fsz+RHFCKTf24Pyqf71zYOrQ/91jd8HWhuD9c5Vk7bCDDP2dQ7gvgzsE/hptDX5M+tz8nq+8E5mS8P1BdrGkjn9g/GRUduo/uyz/ivBPyZDDMPxUg3EnNJs4/ewtzerPVvz9BLksZ++PAP9tXy+y107g/EEmZa/0vtT/bx6X/cRC+P8VWGbKrqcE/Pzo5kEbYuj9nXBcuYLmzP5/CvfRf1dE/LFtqxCugwj93HBKg0tXPP4za6f1DybE/6opSbtvBrj9HI0cgbL25PwBz/t6jArE/49ta5JVdwz8TWI68bOmtP832D3A+gL0/kDD+4GQEvD+2Xm1rupGwP5rFGfXzrMQ/yYoaSSUqsT/YXuyahzu9PxW9h2+2lrQ/eC79gFcNpT/5JSMoC4u8P//soZejhK8/qUejkBljtD/dDF6jm922PyWOKXota7g/k+67xVX5sz8Icq+5YKDAP87WTmgVP8w/Rvunff9Oyj8UF3xRk8DIPwRpkAZpScs/vKSdkhyqwD+rFUfDzC3PP80ySzh4etA/h2Nr6blCyD+lvQq0bGjFP/6x+lc6/cY/B+O1SRUT0D9Xpc1RZJTDPyvvzdjbxsI/jwUbpoqfzz8AFnX/0mTFP2BaYpr5ucg/QYexImqkzj9Nhy3383PMP1jfCUw8BtQ/8Lo74ZJczj8Dl8xYKzvCP3zDYGjfgMU/d4grKWgL0z+HFOwxoEPQP1/8GgV3ocs/PsJqjemHwD9NKQagoh7BP7wQTkGuCMQ/aU8sI5XUxT/p83FSflfQPwSVaZ1g6ss/W/vownEQyz9hqM27c5HJP3CBIzq5XsM/qUUhYH230T/veKPlwf7QPzxcaPYLls0/5j/r47mV1j/rER/xIRLKP3Oxh7iCQ80/ACqBjbCxyT/qB2LG4ezIPwBlNfwekL0/scQBOykzzD9z+rtt29vIP85wn1b2ldE/OxMdI4o2sD/+8sgoxs+2P2EG7PJIcsk/jlllIpPquz+1FKEDBrq5P42JUCf6aLw/81khZD0TxT9W9n4eRX2rP0L9n8xWXr0/zvM7v1O5xT91WQPW0yfIP4dgIRqIQMY/iDY1IBBCxz/GXZRkri7UP5YNgR4c/sk/opKAQoyVzD+BjwXNimzJP3ewnMcsT8c/88DfHtmv0D8UDVs53tC4P9+V22pShbk/UW/qz7okwj+bzUK+McK0P3I5Qs4uhLI/AUQYmkHAvz/kargyaCK3P0hXAz9OYLU/z+CgJo7jtT+kYZf8pkG3P+j/cfoH5bU/Nlgmq4gduT/axC93x7K6P+aHAulaKsc/8o//+I+bwz8Ws8pEJqC8P0OnLOkXlbk/5U2Yo/5RuT97gfkSRAu9P9zb0ct05sI/G2gGUnICsT8b3xxVmMnBP3kWQeD7lLQ/n2QMvPkCyT/WfzqySnXAP7OTPGba37s/bF4dX9MowT9qfaMEh4DCP8NETg+8Ib4/z6Su+vIVwj8=",
          "dtype": "f8"
         },
         "xaxis": "x11",
         "y": {
          "bdata": "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",
          "dtype": "f8"
         },
         "yaxis": "y11"
        },
        {
         "marker": {
          "color": "yellow",
          "line": {
           "color": "black",
           "width": 1
          },
          "opacity": 0.7,
          "size": 6
         },
         "mode": "markers",
         "name": "Mean step duration (s) vs Mean step velocity X at swing - lHindpaw (m/s)",
         "showlegend": false,
         "type": "scatter",
         "x": {
          "bdata": "lEDWMKZWwj88qfoQVl7APwcJfBLwIcI/r6zVMbFL2T8WFY7rD4vFP6/5G1WVb+I/SMIkTK503T846I21sJ3QP5G0fTmyLtQ/qbmQNL0J1D/VAheXon/PP3QTiUmL2dE/2blpaL1u1T+7bg2HF+fJP2dwXiCcldQ/iFEODokS1z8cYpzah0/UP7cEbEWix80/yK6Yp9uf2T/dr6GLbWTUP33HGy1PY8I/Q5DvSqdj3D/UYOGOaxXVP+egnIx3bt0/987v/I7Y2j+pbIWgxorePw66G9BbBNA/8NdMml+K1T/538IjqRHPP3j/PtG01d4/7BfHUqdDzD+eMxPXGV/KP2w66/eS480/lJm4DjujyT80jFP7WoPPP8APc6j2idM/de0xEc+fyz9X4UEXOkrWP5qO1uWcz8c/R47Keedo0D8zEdC8+FbMP3brXTPyOMs/O0Su5wfc1z9loBhhFUDcP8b5IQs0R9Q/ub5w99gEzz/PfC0E/IHdPxB3zWYvybQ/3+xZxJz/5D/hD3A+8Ve7P0fLqLW2x9Y/g0oiOcALuz8ox4g6cMWyPyfkg56tEsc/BNLiIqvPxT/r9d0eEzvHP8b8bjWl68s/ZM0J0HOVwD8Zhoc3UeiyP1i9/kfn6Mk/0G80Fx0G3j/nDVPEgOzkP1Os7TaWydY/EOaJ+tuA1j/kQ5ozNIXWP1lsipwlbMg/Fz8g4YoAxT/np8ZL84TNP1NOxt/A8tI/8U4D47eizz+6LQa/NwvOP9Fr8DlyR9c/Co7BaGBT1T94RS6z1l7AP2YvC2HATdE/MGpQThrOxj8Zur5wZ/zCP/2iZ0ogL8g/r33O5dU+0T8qWC4Cnbu+Pzw4m0VAzcU/gIBdLcvO0j+zihPKzv7LP3K5V0bFctE/No7jODJ+wj8QM2dDoOjUP8UOB6CFkdA/NNckMjoU3j9UWnMCHEzAP9BT6/yNmdM/+QkGxzblwD9UHbbc3zLOPyGviotafsY/rkz6Ony70j88U/KZcl65P4EgGJPiicE/5XzCl7Bkwz9TO3JRguXGP2ONnFu5csg/8jt5sryq1j/IMm7RbJbLP9+9YhcQ9dE/2QgaxmC50T+g64JevlvXPxeoC7XID9U/rvWshxnBwD9zv1p1fSnUP6lEH/uLwNw/uzM/kBrK2D8HKo9EARCrP8P9f3C1ocg/TUonNT3/0D8Dt1iHH/fOP7V02VkTbLk/wFWovCMJwT+XVA54IHTMP/t6RVSnM78/474ZTudT0j9lZZna7SXKP31aKNSVbt8/y7cV9Xpd0D9GUUeot/WzP/eDYoSFSt0/",
          "dtype": "f8"
         },
         "xaxis": "x11",
         "y": {
          "bdata": "uBB1M2jZyT/DYay2/vbIP4nDWG397dE/40j+86uzyT8AAAAAAADQP+D+xC8bi8o/H+EnF6Juxj8lBST85ELQP080bgMYqMg/7G8PbPSuyD9d7/EDgvTFPwY/uRB1M8g/+eEtQch5zD9aStWhOWDOP9FR1nXSWtE/pZUXpYOZyj/AQ9r3xnDFPyPHPoRqttk/6zpprYqX0T8xVlt/e2DLP6/U0LX4zNo/2OVI/vOryz+eGHkclNnHP0jyn1+dTc8/q6qqqqqq0j/f6TEq9HnKP6BciLoZtMw/+NsDG70ryj/vkPa9MVzFP51QNG4DGMg/VEkBCT+50D8bwEDFZMHJP7TwlBKCjtU/YKBisuAkwj+5GbTseE7VP51bgYnCUcw/xWKz51VZ0T86mjeFpH/NP2bQsuM5ldQ/YlTo80R8zz+QvPR9PoLMPxT1GRwrlNM/TBOHsdr6yz8aom4GLTvuPxrBR/a7I9o/Z94Ukv71yT+DpYauxWfGPzJr7oSiccs/Ahu9KzJfyj/2vCorLkPWP5w+tvvhLfE/eVdkvjRxyD9uFZYauhbPP4txtIhW98w/q7DU0LX4xD9YaNr4zaHcP+H7r5wVZNU/juZNIelfzz+EnEf1tPLSPzeDlh3PqdA/Y6uvzZ9exj/y2i+CwoTQPyxfmjiM1bY/iMyXJg5jxT/65ELUzaDFP/fDW4KQ88g/g5Ydz6mkyD9cjuQ/vzrLP/OidDBTRtw/P7kQdTNoyT9C1M2gZcfLPx3Y6F2R+cI/FS/jz0iX3D+waoQ4JZ7iP0oBCT+5ENE/chWWGroWzz8Zq62/PbDRP1AuRN0MWtY/2pOkGU21xj+i2FKqDs3RPzAo5hd0+c4/+NC2//3xzT87cuxDqGbTP+1J0oymWs8/hbHa+tsDyz9I+94YrsLSP/u78GF6JcM/SP3selyH4z/oXZH50sTJP2GmjNjrcsw/cSHqZtCyyz8xaNnxnErKP/IEiSVtYtc/7XhOJQUkzD9T25jHDgHhP8VkwUkEHtI/GO+8XcOKzj+oPlDLKLfLP/jQtv/98c0/ENMrmZaE1j/Hq+V6jx/QPwUnEXhI+84/R+hZdTV2yz/Q5HRl+QTWP2XDV2bMls8/fDM1QZXh1z8i7HQyYajKP9j//vjOqM0/NoSdTiYMxT9TYwCVN87VPzeS//zqbMo/6zpprYqX0T9Bk9OV5RPYP4aponIi8cc/Lqj/YyJX2D/Z747oW4PXP4WqqaN5U9g/GAy7gwBq3D9/hJ9ciLrJP0oGLDRt/NY/3EqeeJWo4D+wSE0kc3bUPzmVFJDwk9s/",
          "dtype": "f8"
         },
         "yaxis": "y11"
        },
        {
         "marker": {
          "color": "green",
          "line": {
           "color": "black",
           "width": 1
          },
          "opacity": 0.8,
          "size": 6
         },
         "mode": "markers",
         "name": "Mean step duration (s) vs Mean step velocity Y at swing - lHindpaw (m/s)",
         "showlegend": false,
         "type": "scatter",
         "x": {
          "bdata": "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",
          "dtype": "f8"
         },
         "xaxis": "x12",
         "y": {
          "bdata": "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",
          "dtype": "f8"
         },
         "yaxis": "y12"
        },
        {
         "marker": {
          "color": "yellow",
          "line": {
           "color": "black",
           "width": 1
          },
          "opacity": 0.7,
          "size": 6
         },
         "mode": "markers",
         "name": "Mean step duration (s) vs Mean step velocity Y at swing - lHindpaw (m/s)",
         "showlegend": false,
         "type": "scatter",
         "x": {
          "bdata": "Nioz9RBPsT8o6t8Inbe6P7UMdqhoWYA/S4o/kr00vD/Gj4t7XjqgP+BaE0gEMX0/3C8xRsaQxT/hAsxZNoV7PxegWdNJ1cM/tDDixkY8xT+OY7fgx027P7m5r6lKJsE/oK5WqA+5iz89PrClIAyHPxCvBS4u7Vo/4NWlPoVnuz8phSk88xrHP/wpnnBarJI/rxOmHY+6oj+SfyOUUZRxP8+ap3maD5I/k4bZ1a+gwT+Ms7WaFLvCP6SUsX9hzJY/GcDT322Zbr/ppZbII8GUP/54H7qvu7c/4+YbBsN/nD9SGTkCYQbBP6rJPl1xPpY/JnXYcn+Diz8Oe4grZbPBP165WB5FQ4o/+jAveI6ioT99S7y61It1v4sl22MiSJM/9HSK2tvlnj8BycxiKRWOP48jGnEJa1E/rr1qbtzfmz/XhoIdyHWrP/CWdOadjoQ/tdo4UDk0uD+RDaTkul2WvwHdbbEd8aA/B80uGYzmrz8QlRPMIFekPzxT5IyvV6k/tMwgd3U0U78DHfTGWj50P5MkJA+/PY4/07nYQ1zVl7+NKR2+M56jP3eRK2fafrA/jUGez+OhvD94qDdfC7SJvz62tRM63J4/6eGQS8Njrz98yZ4mV3WhP3BgWU6UIqc/JiyxAeoKyD8cJoY9EiOFv0/I6juBOoM/nxgjy9MkyD+IzaQZh0bHP9S32SpIVbo/9XvRmj3QrD9uoI3FapuSP+oo8Gj1VoG/Hen49AXirz9yNEiDVO60P9giOFl368k/FJtgUfeniT8IpT95/itcvyA7JZEcBJo/mXdXG2bCiz9pVE7lVHqGP5ckh1HoXKs/dbus9EYswz+fTzowcDOVP4hFLBKFRYc/a9sKyXjLiD/9mUBPqoqWPwZ/jIy5m6g/YcpUlFbTtj//tZM0D0aKP64pB1rcscA/ydvL9+l1hr9Itm/Syv+RP7UL5VZvq4A/0Cd90k/csz+DStz3sKq1P/aXlphmzos/h5A5kunRqD+csHTctMCQPzaMg7r2lIc/cgr4mycCpT8qlPzMbCNhPwB09zLrnao/YqIZG0eZfT/NMtnyWXCIP/k6n5fqKnw/OW6hbywxsT+uGtxmUP+UP55HYOaZGpY/JjKaIAJPdz/vUm6MVH2jPzEWZVEW3pI/8suXIPr2tj/CP8u65nScP21GUFbdSrI/6EwaW6U2kz9GCp610rSCP9QsWKjEILc/bJc3mAgemT858m2XlaqDP9WP9R6CM5E/7ZP8j0vggT9P+Ley3p+yP9Kre4dEaXc/lQaa/Fgggj+T0I2do0iaP1IRb1fdDJY/",
          "dtype": "f8"
         },
         "xaxis": "x12",
         "y": {
          "bdata": "uBB1M2jZyT/DYay2/vbIP4nDWG397dE/40j+86uzyT8AAAAAAADQP+D+xC8bi8o/H+EnF6Juxj8lBST85ELQP080bgMYqMg/7G8PbPSuyD9d7/EDgvTFPwY/uRB1M8g/+eEtQch5zD9aStWhOWDOP9FR1nXSWtE/pZUXpYOZyj/AQ9r3xnDFPyPHPoRqttk/6zpprYqX0T8xVlt/e2DLP6/U0LX4zNo/2OVI/vOryz+eGHkclNnHP0jyn1+dTc8/q6qqqqqq0j/f6TEq9HnKP6BciLoZtMw/+NsDG70ryj/vkPa9MVzFP51QNG4DGMg/VEkBCT+50D8bwEDFZMHJP7TwlBKCjtU/YKBisuAkwj+5GbTseE7VP51bgYnCUcw/xWKz51VZ0T86mjeFpH/NP2bQsuM5ldQ/YlTo80R8zz+QvPR9PoLMPxT1GRwrlNM/TBOHsdr6yz8aom4GLTvuPxrBR/a7I9o/Z94Ukv71yT+DpYauxWfGPzJr7oSiccs/Ahu9KzJfyj/2vCorLkPWP5w+tvvhLfE/eVdkvjRxyD9uFZYauhbPP4txtIhW98w/q7DU0LX4xD9YaNr4zaHcP+H7r5wVZNU/juZNIelfzz+EnEf1tPLSPzeDlh3PqdA/Y6uvzZ9exj/y2i+CwoTQPyxfmjiM1bY/iMyXJg5jxT/65ELUzaDFP/fDW4KQ88g/g5Ydz6mkyD9cjuQ/vzrLP/OidDBTRtw/P7kQdTNoyT9C1M2gZcfLPx3Y6F2R+cI/FS/jz0iX3D+waoQ4JZ7iP0oBCT+5ENE/chWWGroWzz8Zq62/PbDRP1AuRN0MWtY/2pOkGU21xj+i2FKqDs3RPzAo5hd0+c4/+NC2//3xzT87cuxDqGbTP+1J0oymWs8/hbHa+tsDyz9I+94YrsLSP/u78GF6JcM/SP3selyH4z/oXZH50sTJP2GmjNjrcsw/cSHqZtCyyz8xaNnxnErKP/IEiSVtYtc/7XhOJQUkzD9T25jHDgHhP8VkwUkEHtI/GO+8XcOKzj+oPlDLKLfLP/jQtv/98c0/ENMrmZaE1j/Hq+V6jx/QPwUnEXhI+84/R+hZdTV2yz/Q5HRl+QTWP2XDV2bMls8/fDM1QZXh1z8i7HQyYajKP9j//vjOqM0/NoSdTiYMxT9TYwCVN87VPzeS//zqbMo/6zpprYqX0T9Bk9OV5RPYP4aponIi8cc/Lqj/YyJX2D/Z747oW4PXP4WqqaN5U9g/GAy7gwBq3D9/hJ9ciLrJP0oGLDRt/NY/3EqeeJWo4D+wSE0kc3bUPzmVFJDwk9s/",
          "dtype": "f8"
         },
         "yaxis": "y12"
        },
        {
         "marker": {
          "color": "green",
          "line": {
           "color": "black",
           "width": 1
          },
          "opacity": 0.8,
          "size": 6
         },
         "mode": "markers",
         "name": "Mean swing duration (s) vs Mean step velocity X at stance - lHindpaw (m/s)",
         "showlegend": false,
         "type": "scatter",
         "x": {
          "bdata": "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",
          "dtype": "f8"
         },
         "xaxis": "x13",
         "y": {
          "bdata": "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",
          "dtype": "f8"
         },
         "yaxis": "y13"
        },
        {
         "marker": {
          "color": "yellow",
          "line": {
           "color": "black",
           "width": 1
          },
          "opacity": 0.7,
          "size": 6
         },
         "mode": "markers",
         "name": "Mean swing duration (s) vs Mean step velocity X at stance - lHindpaw (m/s)",
         "showlegend": false,
         "type": "scatter",
         "x": {
          "bdata": "OKnKBjxZiL89AlYOLSRzP94hUUUI4ro/pMAV0Btanj94wzIswzlrP1ZS0PY//KM//OvETmwdoD/LGy0PLejAP5xEs8UICrQ/1whGf3nQiD/GyHx0jqStPw9qtQSjSrE//7gVR/+1zD/AZE0ByOvEP7T2yS6fLKE/PHNnqpmWgj/N7UaszmGbP1Qi1VJmkqk/izMHa2xqpz9Joyvjkl/EP6Omii8kIc4/uX2L/7murT99nZj+HMmSP5OsI8oU4c0/eRin9kkdxD8+OQgX8e23P2L1V3+1ZYQ/6p3nUAxeyT8hdZqIhN6gP9EsH6tUvMw/6ea+poo4tz+183mp7lSHP44ozAax8bo/YVpUjfoC0T+vvEZXxtefPxcU0CasL5I/dQQU05C4lT87FrjWgBqgPzHsZ++zqbc/TV8gjWimoz8gnK+FgDWTP1Q+N7QxgVM/2e4P56UIkj+SV3/1V7+Iv5vylf+MRbA/1YaqsmFutD/s09cWRy3fP8WHkcawcq4/GHFRvvIIrT9rtPaykKOoP0dBIvtV7p4/vr3mQtLXuT/dndeiiXmrP+EIt86l4Hg/xPbgTNhpcT/cp+nz6Y2iv2f2sOhZGGw/uSEy0Erecb9d13zd6C5KP/6++5LzY5E/lhstD/1TpT+mf+JOv5ScP78vOZ2i8NQ/OnXnOZQgeD+CYrpoAeeTP3l/j7oewHA/n9Eh9EXukz9CffnzjouZP2Qj8EmAMX2/EsI8Ub++mT9Swjtq65Z2Pz1C+kfwuJQ/ivmspq7KmT8JPsL0TgWRPzvgsnUMAac/I8WTRoBAlD/WZGxmOklnP8Bvt3l/v5U/rl5vDACMkj9Mye5QqoO3P2USUjgXhmU/qmgxJDdxyD/9a5SUO6nUPwOrQpmmBoc/Bh5nXUjdkj9I7U4Do0/GP5gkctRkfKg/4EPypa3Yrj8Q0dyZ6s2hP7MH6JJB8ao/IqFrm7HWgD90TxkabYmjP0rvWGVAQYy/10+ZitIIZz8hozM6o+GTP1HGhDT9BZ+/y5l0X5espD8aLeNSJf6Cv4NowpMcYqc/oCXgblX/sb//sJklDVKOP5bDd4a+wZk/X7ZVShQvkT/cE0WLoZm+PyvpmsyVApU/E10NkpXsTb/4BMFNpvykPybVxZoeJcO/Cn4MwRZXvT/Br7rJIEaaP3zqTf1ZdI0/tewxL0vyjT9Dd3RJwgt0P0TS7PxkS7Q/fMCtoKuskD9Y5M6fYRmaP1dYXRYNl6Y/83tymg/RcT9WTxoBoYKZPwG+uon5OZA/MhpRgmIGY7/Eed+CmsyiPw2TpIb01bQ/",
          "dtype": "f8"
         },
         "xaxis": "x13",
         "y": {
          "bdata": "AhiomCw4wT/ZCUXjNoDBP6qtvz2w0cs/OJxF51JEvj9htfW3BzbCP2K7H94ShLw/n1lzJxSNuz94VE8rL0q3P9JDQS+xPr0/WG397YGNvj/wWDtswh29P3lp4jBWW78/MmvuhKJxwz9Us02GEui+Py7+jHTJG7w/Xpo4jNXWvz+1AQxUTBa8PxL1GRwrlMM/dqPefNAZwz+Huhm07Hi+P1+O5D+/Oss/X740cRirvT91rzLJ5rW/P0DOo3paecE/AQYqJgtOwj/R1t8e2Oi9P1VelA5mysA/nFyIuhm0vD/CW4KQ86i+PwtF4zaAgbo/hJkyYq/LwT/Sx3Y/vCXAPzNbfnQvTMU/NYnAQ9r3tj+OC1E3g5a9P82y4zmVFMA/WHhKCUHHwj+/MmO2/Oi+P8kkm9d+EcQ/X0JqgSOSuD8uvIs48gXAP4xPk21lLL0/yIi9Lkfyvz8MwUbvisy3P+FRPa28KL0/qrgMWW8LwD9iux/eEoS8Pz2tvCgdzMQ/idbdEHY6uT+TGKy08JTCP2ncBjBQMck/XaN3ReZLsz8AD2nfG8PFPzOAgYrJgsM/1tn0sd0Pvz9nbZe9yBbJPwuSMY4W0cI/isZtAAMVwz/OvCkk/evDP16aOIzV1r8/AiP1s+txvT8JQI2pb9q1P/XtgY3eFak/2yQCD2nfuz9A7HU5kv+8P/fDW4KQ88A//VrjnbdrwD8qRN0MWna8P7LjOZUUkMA/LmvuhKJxuz9KCkj4yYXAP+xyJP/51bk/LUTdDFp2xD/Cxc4Nx9fEPz/IeVRPK78/eELRuA1gwD/IpYi8Jxa7P34J3J3qA8U/h7oZtOx4vj8FvcT6dMzAP+aktSpexr8/rtwIPrLfvT+ZANGDZ6HGP4ADf9+C+r8/RuZLE4exwj9chqy3BSi4P57sERc7N7w/KiYLTiLwwD81mCkj9rq8P+vLxqKmwb4/VU8rL0oHwz/87YGN3hW5P1pgb9i308Y/64KUD237vz88QFsYRHbFP2zzp5clB8I/SyLwkPa9wT9Uh+aAuUW7P4OdTiYMVcM/VZx5huBWsz9y3q5hRX+0P9CdUDRuA7g/vzV4SQIQwD+kVB2aA+a2P4HP31FwRbk/e7hxgvcqwz+nj+1+eEvAP0LiL08qKLk/SBejdTeEvT9DI4nkiFDIP0f73hiuwsI/vXVrIythuz/1+xbU/zHBP+dafGbNncA/2ko/7rYzvT/V98ZwFZa6P5xRO59aesg/QkEvsT4dwz+tvCgdzJTBP28NXpIABLw/bmVYjzQCxD9MHVgYowDEP6BuBi07nsM/",
          "dtype": "f8"
         },
         "yaxis": "y13"
        },
        {
         "marker": {
          "color": "green",
          "line": {
           "color": "black",
           "width": 1
          },
          "opacity": 0.8,
          "size": 6
         },
         "mode": "markers",
         "name": "Mean swing duration (s) vs Mean step velocity Y at stance - lHindpaw (m/s)",
         "showlegend": false,
         "type": "scatter",
         "x": {
          "bdata": "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",
          "dtype": "f8"
         },
         "xaxis": "x14",
         "y": {
          "bdata": "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",
          "dtype": "f8"
         },
         "yaxis": "y14"
        },
        {
         "marker": {
          "color": "yellow",
          "line": {
           "color": "black",
           "width": 1
          },
          "opacity": 0.7,
          "size": 6
         },
         "mode": "markers",
         "name": "Mean swing duration (s) vs Mean step velocity Y at stance - lHindpaw (m/s)",
         "showlegend": false,
         "type": "scatter",
         "x": {
          "bdata": "J8uYBw7Rhr+3JUr0fM6PvwEMAxKbS5a/vUlXMEEXkL+wbtOxsZZ3v+UaAxX2WYC/qM9ik5yWj79ZNTB+90VsP2gDugpotIi/5brE+aMolb8O4ig6f8egv3O8m18q35K/C71zrORWkL8eDLhNqNFZPwhhDhEYtHa/J1sVvGfHjL/wlrrc/mhnvw52+hVybnW/FDd/SaaQZr8euzEHBQSDv54RXPR46n0/qQQAHzXEhb9+Nxw0H7OSv9OTPumT2n8/Etmf1C1Oj7+d3Fw6Del5v8KgILhpkJ6/rlvdWpkSfj8XDlR+jx6kv8f91HgpcZG/LA7fGfr0jT/WbnZS+XiKvz36bAj0QDm/cpAP5aJ2QD9UPP+MaXp3PwoqcNk67ms/0AoQVrbkjT887KJvoTuSP31K0v/2do+/VGYiEnQxZr9mYQarrQSNP5q7JIdReHs/FAEoaDf0cj+NQ5wgmaxzP+14YLatvDY/IWMR9B49ZL+Z7hu7FBVNv3v0OtjfKJ2/qnOt62h+er/AZfPPmGZbv/s7rO02fk8/CydddtZcgD/6Gy72EIOHP58IEOwSSqC/TI32m/KpYL/FOiFtfahwP0abzV5YhHC//8HSrSvWhL+BkAP/ghCPv9rjpLQwk3A/9hQkSLyMk7/XetNo1ZGFP+HVGbxGg4+/8j6LTfJ2mr/AnmSIkN8YvzFFeAkDz3g/YuBTdR56kL9SEKiff+lHPxm6d0hUF3W/5KqXR0ZEY78JLegw1pSAv6myKIuykIq/lEQRDJXddb832zJtCAF4v9RZDzP7soW/dufLn/docT/yASblPdRqPwdangE7LJm/+JoqvrAHmL+6LaBOIUpxP/i91fjD/2o/ZliiJVpCZ78uViBP/vplvy4K0Nlru1a/bNndvmjffr86hCymQHB3P/4ImCzmVoy/wKnU4AmBbD+fo+34E1V0v4eGREIjNHw/cepqpM/Clb+a9hBXUnhyv5pyup1aFCO/HKQtZoh+kD+HEQBPUhV6v7e/ojkOgJY/O1feyDM0gL+HENKKsHGTP2DljQArAnM/bOf8kAVefj8GpuAtcliHP3wXqN1pToE/DoR3ajPMbr9mtez2vbMvPxhiXE83yZM/K+3njPuqYj/lQipSalZwP2D/BO2Gd5o/hR548mTVgL8Yhra9ML+bv60CQ6vIkHU/Vb0UICQdBr9EVl8gjRhSPweC7zg2TY+/A9YYLzdBZr+i7AqQe9OHP0NLqYMpo3W/p86Il08FaD+Vps7teReTv9NmehqCDIQ/uJb/5KFGcz9JgeE28wyAvxJTydI2CoM/",
          "dtype": "f8"
         },
         "xaxis": "x14",
         "y": {
          "bdata": "AhiomCw4wT/ZCUXjNoDBP6qtvz2w0cs/OJxF51JEvj9htfW3BzbCP2K7H94ShLw/n1lzJxSNuz94VE8rL0q3P9JDQS+xPr0/WG397YGNvj/wWDtswh29P3lp4jBWW78/MmvuhKJxwz9Us02GEui+Py7+jHTJG7w/Xpo4jNXWvz+1AQxUTBa8PxL1GRwrlMM/dqPefNAZwz+Huhm07Hi+P1+O5D+/Oss/X740cRirvT91rzLJ5rW/P0DOo3paecE/AQYqJgtOwj/R1t8e2Oi9P1VelA5mysA/nFyIuhm0vD/CW4KQ86i+PwtF4zaAgbo/hJkyYq/LwT/Sx3Y/vCXAPzNbfnQvTMU/NYnAQ9r3tj+OC1E3g5a9P82y4zmVFMA/WHhKCUHHwj+/MmO2/Oi+P8kkm9d+EcQ/X0JqgSOSuD8uvIs48gXAP4xPk21lLL0/yIi9Lkfyvz8MwUbvisy3P+FRPa28KL0/qrgMWW8LwD9iux/eEoS8Pz2tvCgdzMQ/idbdEHY6uT+TGKy08JTCP2ncBjBQMck/XaN3ReZLsz8AD2nfG8PFPzOAgYrJgsM/1tn0sd0Pvz9nbZe9yBbJPwuSMY4W0cI/isZtAAMVwz/OvCkk/evDP16aOIzV1r8/AiP1s+txvT8JQI2pb9q1P/XtgY3eFak/2yQCD2nfuz9A7HU5kv+8P/fDW4KQ88A//VrjnbdrwD8qRN0MWna8P7LjOZUUkMA/LmvuhKJxuz9KCkj4yYXAP+xyJP/51bk/LUTdDFp2xD/Cxc4Nx9fEPz/IeVRPK78/eELRuA1gwD/IpYi8Jxa7P34J3J3qA8U/h7oZtOx4vj8FvcT6dMzAP+aktSpexr8/rtwIPrLfvT+ZANGDZ6HGP4ADf9+C+r8/RuZLE4exwj9chqy3BSi4P57sERc7N7w/KiYLTiLwwD81mCkj9rq8P+vLxqKmwb4/VU8rL0oHwz/87YGN3hW5P1pgb9i308Y/64KUD237vz88QFsYRHbFP2zzp5clB8I/SyLwkPa9wT9Uh+aAuUW7P4OdTiYMVcM/VZx5huBWsz9y3q5hRX+0P9CdUDRuA7g/vzV4SQIQwD+kVB2aA+a2P4HP31FwRbk/e7hxgvcqwz+nj+1+eEvAP0LiL08qKLk/SBejdTeEvT9DI4nkiFDIP0f73hiuwsI/vXVrIythuz/1+xbU/zHBP+dafGbNncA/2ko/7rYzvT/V98ZwFZa6P5xRO59aesg/QkEvsT4dwz+tvCgdzJTBP28NXpIABLw/bmVYjzQCxD9MHVgYowDEP6BuBi07nsM/",
          "dtype": "f8"
         },
         "yaxis": "y14"
        },
        {
         "marker": {
          "color": "green",
          "line": {
           "color": "black",
           "width": 1
          },
          "opacity": 0.8,
          "size": 6
         },
         "mode": "markers",
         "name": "Mean swing duration (s) vs Mean step velocity X at swing - lHindpaw (m/s)",
         "showlegend": false,
         "type": "scatter",
         "x": {
          "bdata": "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",
          "dtype": "f8"
         },
         "xaxis": "x15",
         "y": {
          "bdata": "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",
          "dtype": "f8"
         },
         "yaxis": "y15"
        },
        {
         "marker": {
          "color": "yellow",
          "line": {
           "color": "black",
           "width": 1
          },
          "opacity": 0.7,
          "size": 6
         },
         "mode": "markers",
         "name": "Mean swing duration (s) vs Mean step velocity X at swing - lHindpaw (m/s)",
         "showlegend": false,
         "type": "scatter",
         "x": {
          "bdata": "lEDWMKZWwj88qfoQVl7APwcJfBLwIcI/r6zVMbFL2T8WFY7rD4vFP6/5G1WVb+I/SMIkTK503T846I21sJ3QP5G0fTmyLtQ/qbmQNL0J1D/VAheXon/PP3QTiUmL2dE/2blpaL1u1T+7bg2HF+fJP2dwXiCcldQ/iFEODokS1z8cYpzah0/UP7cEbEWix80/yK6Yp9uf2T/dr6GLbWTUP33HGy1PY8I/Q5DvSqdj3D/UYOGOaxXVP+egnIx3bt0/987v/I7Y2j+pbIWgxorePw66G9BbBNA/8NdMml+K1T/538IjqRHPP3j/PtG01d4/7BfHUqdDzD+eMxPXGV/KP2w66/eS480/lJm4DjujyT80jFP7WoPPP8APc6j2idM/de0xEc+fyz9X4UEXOkrWP5qO1uWcz8c/R47Keedo0D8zEdC8+FbMP3brXTPyOMs/O0Su5wfc1z9loBhhFUDcP8b5IQs0R9Q/ub5w99gEzz/PfC0E/IHdPxB3zWYvybQ/3+xZxJz/5D/hD3A+8Ve7P0fLqLW2x9Y/g0oiOcALuz8ox4g6cMWyPyfkg56tEsc/BNLiIqvPxT/r9d0eEzvHP8b8bjWl68s/ZM0J0HOVwD8Zhoc3UeiyP1i9/kfn6Mk/0G80Fx0G3j/nDVPEgOzkP1Os7TaWydY/EOaJ+tuA1j/kQ5ozNIXWP1lsipwlbMg/Fz8g4YoAxT/np8ZL84TNP1NOxt/A8tI/8U4D47eizz+6LQa/NwvOP9Fr8DlyR9c/Co7BaGBT1T94RS6z1l7AP2YvC2HATdE/MGpQThrOxj8Zur5wZ/zCP/2iZ0ogL8g/r33O5dU+0T8qWC4Cnbu+Pzw4m0VAzcU/gIBdLcvO0j+zihPKzv7LP3K5V0bFctE/No7jODJ+wj8QM2dDoOjUP8UOB6CFkdA/NNckMjoU3j9UWnMCHEzAP9BT6/yNmdM/+QkGxzblwD9UHbbc3zLOPyGviotafsY/rkz6Ony70j88U/KZcl65P4EgGJPiicE/5XzCl7Bkwz9TO3JRguXGP2ONnFu5csg/8jt5sryq1j/IMm7RbJbLP9+9YhcQ9dE/2QgaxmC50T+g64JevlvXPxeoC7XID9U/rvWshxnBwD9zv1p1fSnUP6lEH/uLwNw/uzM/kBrK2D8HKo9EARCrP8P9f3C1ocg/TUonNT3/0D8Dt1iHH/fOP7V02VkTbLk/wFWovCMJwT+XVA54IHTMP/t6RVSnM78/474ZTudT0j9lZZna7SXKP31aKNSVbt8/y7cV9Xpd0D9GUUeot/WzP/eDYoSFSt0/",
          "dtype": "f8"
         },
         "xaxis": "x15",
         "y": {
          "bdata": "AhiomCw4wT/ZCUXjNoDBP6qtvz2w0cs/OJxF51JEvj9htfW3BzbCP2K7H94ShLw/n1lzJxSNuz94VE8rL0q3P9JDQS+xPr0/WG397YGNvj/wWDtswh29P3lp4jBWW78/MmvuhKJxwz9Us02GEui+Py7+jHTJG7w/Xpo4jNXWvz+1AQxUTBa8PxL1GRwrlMM/dqPefNAZwz+Huhm07Hi+P1+O5D+/Oss/X740cRirvT91rzLJ5rW/P0DOo3paecE/AQYqJgtOwj/R1t8e2Oi9P1VelA5mysA/nFyIuhm0vD/CW4KQ86i+PwtF4zaAgbo/hJkyYq/LwT/Sx3Y/vCXAPzNbfnQvTMU/NYnAQ9r3tj+OC1E3g5a9P82y4zmVFMA/WHhKCUHHwj+/MmO2/Oi+P8kkm9d+EcQ/X0JqgSOSuD8uvIs48gXAP4xPk21lLL0/yIi9Lkfyvz8MwUbvisy3P+FRPa28KL0/qrgMWW8LwD9iux/eEoS8Pz2tvCgdzMQ/idbdEHY6uT+TGKy08JTCP2ncBjBQMck/XaN3ReZLsz8AD2nfG8PFPzOAgYrJgsM/1tn0sd0Pvz9nbZe9yBbJPwuSMY4W0cI/isZtAAMVwz/OvCkk/evDP16aOIzV1r8/AiP1s+txvT8JQI2pb9q1P/XtgY3eFak/2yQCD2nfuz9A7HU5kv+8P/fDW4KQ88A//VrjnbdrwD8qRN0MWna8P7LjOZUUkMA/LmvuhKJxuz9KCkj4yYXAP+xyJP/51bk/LUTdDFp2xD/Cxc4Nx9fEPz/IeVRPK78/eELRuA1gwD/IpYi8Jxa7P34J3J3qA8U/h7oZtOx4vj8FvcT6dMzAP+aktSpexr8/rtwIPrLfvT+ZANGDZ6HGP4ADf9+C+r8/RuZLE4exwj9chqy3BSi4P57sERc7N7w/KiYLTiLwwD81mCkj9rq8P+vLxqKmwb4/VU8rL0oHwz/87YGN3hW5P1pgb9i308Y/64KUD237vz88QFsYRHbFP2zzp5clB8I/SyLwkPa9wT9Uh+aAuUW7P4OdTiYMVcM/VZx5huBWsz9y3q5hRX+0P9CdUDRuA7g/vzV4SQIQwD+kVB2aA+a2P4HP31FwRbk/e7hxgvcqwz+nj+1+eEvAP0LiL08qKLk/SBejdTeEvT9DI4nkiFDIP0f73hiuwsI/vXVrIythuz/1+xbU/zHBP+dafGbNncA/2ko/7rYzvT/V98ZwFZa6P5xRO59aesg/QkEvsT4dwz+tvCgdzJTBP28NXpIABLw/bmVYjzQCxD9MHVgYowDEP6BuBi07nsM/",
          "dtype": "f8"
         },
         "yaxis": "y15"
        },
        {
         "marker": {
          "color": "green",
          "line": {
           "color": "black",
           "width": 1
          },
          "opacity": 0.8,
          "size": 6
         },
         "mode": "markers",
         "name": "Mean swing duration (s) vs Mean step velocity Y at swing - lHindpaw (m/s)",
         "showlegend": false,
         "type": "scatter",
         "x": {
          "bdata": "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",
          "dtype": "f8"
         },
         "xaxis": "x16",
         "y": {
          "bdata": "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",
          "dtype": "f8"
         },
         "yaxis": "y16"
        },
        {
         "marker": {
          "color": "yellow",
          "line": {
           "color": "black",
           "width": 1
          },
          "opacity": 0.7,
          "size": 6
         },
         "mode": "markers",
         "name": "Mean swing duration (s) vs Mean step velocity Y at swing - lHindpaw (m/s)",
         "showlegend": false,
         "type": "scatter",
         "x": {
          "bdata": "Nioz9RBPsT8o6t8Inbe6P7UMdqhoWYA/S4o/kr00vD/Gj4t7XjqgP+BaE0gEMX0/3C8xRsaQxT/hAsxZNoV7PxegWdNJ1cM/tDDixkY8xT+OY7fgx027P7m5r6lKJsE/oK5WqA+5iz89PrClIAyHPxCvBS4u7Vo/4NWlPoVnuz8phSk88xrHP/wpnnBarJI/rxOmHY+6oj+SfyOUUZRxP8+ap3maD5I/k4bZ1a+gwT+Ms7WaFLvCP6SUsX9hzJY/GcDT322Zbr/ppZbII8GUP/54H7qvu7c/4+YbBsN/nD9SGTkCYQbBP6rJPl1xPpY/JnXYcn+Diz8Oe4grZbPBP165WB5FQ4o/+jAveI6ioT99S7y61It1v4sl22MiSJM/9HSK2tvlnj8BycxiKRWOP48jGnEJa1E/rr1qbtzfmz/XhoIdyHWrP/CWdOadjoQ/tdo4UDk0uD+RDaTkul2WvwHdbbEd8aA/B80uGYzmrz8QlRPMIFekPzxT5IyvV6k/tMwgd3U0U78DHfTGWj50P5MkJA+/PY4/07nYQ1zVl7+NKR2+M56jP3eRK2fafrA/jUGez+OhvD94qDdfC7SJvz62tRM63J4/6eGQS8Njrz98yZ4mV3WhP3BgWU6UIqc/JiyxAeoKyD8cJoY9EiOFv0/I6juBOoM/nxgjy9MkyD+IzaQZh0bHP9S32SpIVbo/9XvRmj3QrD9uoI3FapuSP+oo8Gj1VoG/Hen49AXirz9yNEiDVO60P9giOFl368k/FJtgUfeniT8IpT95/itcvyA7JZEcBJo/mXdXG2bCiz9pVE7lVHqGP5ckh1HoXKs/dbus9EYswz+fTzowcDOVP4hFLBKFRYc/a9sKyXjLiD/9mUBPqoqWPwZ/jIy5m6g/YcpUlFbTtj//tZM0D0aKP64pB1rcscA/ydvL9+l1hr9Itm/Syv+RP7UL5VZvq4A/0Cd90k/csz+DStz3sKq1P/aXlphmzos/h5A5kunRqD+csHTctMCQPzaMg7r2lIc/cgr4mycCpT8qlPzMbCNhPwB09zLrnao/YqIZG0eZfT/NMtnyWXCIP/k6n5fqKnw/OW6hbywxsT+uGtxmUP+UP55HYOaZGpY/JjKaIAJPdz/vUm6MVH2jPzEWZVEW3pI/8suXIPr2tj/CP8u65nScP21GUFbdSrI/6EwaW6U2kz9GCp610rSCP9QsWKjEILc/bJc3mAgemT858m2XlaqDP9WP9R6CM5E/7ZP8j0vggT9P+Ley3p+yP9Kre4dEaXc/lQaa/Fgggj+T0I2do0iaP1IRb1fdDJY/",
          "dtype": "f8"
         },
         "xaxis": "x16",
         "y": {
          "bdata": "AhiomCw4wT/ZCUXjNoDBP6qtvz2w0cs/OJxF51JEvj9htfW3BzbCP2K7H94ShLw/n1lzJxSNuz94VE8rL0q3P9JDQS+xPr0/WG397YGNvj/wWDtswh29P3lp4jBWW78/MmvuhKJxwz9Us02GEui+Py7+jHTJG7w/Xpo4jNXWvz+1AQxUTBa8PxL1GRwrlMM/dqPefNAZwz+Huhm07Hi+P1+O5D+/Oss/X740cRirvT91rzLJ5rW/P0DOo3paecE/AQYqJgtOwj/R1t8e2Oi9P1VelA5mysA/nFyIuhm0vD/CW4KQ86i+PwtF4zaAgbo/hJkyYq/LwT/Sx3Y/vCXAPzNbfnQvTMU/NYnAQ9r3tj+OC1E3g5a9P82y4zmVFMA/WHhKCUHHwj+/MmO2/Oi+P8kkm9d+EcQ/X0JqgSOSuD8uvIs48gXAP4xPk21lLL0/yIi9Lkfyvz8MwUbvisy3P+FRPa28KL0/qrgMWW8LwD9iux/eEoS8Pz2tvCgdzMQ/idbdEHY6uT+TGKy08JTCP2ncBjBQMck/XaN3ReZLsz8AD2nfG8PFPzOAgYrJgsM/1tn0sd0Pvz9nbZe9yBbJPwuSMY4W0cI/isZtAAMVwz/OvCkk/evDP16aOIzV1r8/AiP1s+txvT8JQI2pb9q1P/XtgY3eFak/2yQCD2nfuz9A7HU5kv+8P/fDW4KQ88A//VrjnbdrwD8qRN0MWna8P7LjOZUUkMA/LmvuhKJxuz9KCkj4yYXAP+xyJP/51bk/LUTdDFp2xD/Cxc4Nx9fEPz/IeVRPK78/eELRuA1gwD/IpYi8Jxa7P34J3J3qA8U/h7oZtOx4vj8FvcT6dMzAP+aktSpexr8/rtwIPrLfvT+ZANGDZ6HGP4ADf9+C+r8/RuZLE4exwj9chqy3BSi4P57sERc7N7w/KiYLTiLwwD81mCkj9rq8P+vLxqKmwb4/VU8rL0oHwz/87YGN3hW5P1pgb9i308Y/64KUD237vz88QFsYRHbFP2zzp5clB8I/SyLwkPa9wT9Uh+aAuUW7P4OdTiYMVcM/VZx5huBWsz9y3q5hRX+0P9CdUDRuA7g/vzV4SQIQwD+kVB2aA+a2P4HP31FwRbk/e7hxgvcqwz+nj+1+eEvAP0LiL08qKLk/SBejdTeEvT9DI4nkiFDIP0f73hiuwsI/vXVrIythuz/1+xbU/zHBP+dafGbNncA/2ko/7rYzvT/V98ZwFZa6P5xRO59aesg/QkEvsT4dwz+tvCgdzJTBP28NXpIABLw/bmVYjzQCxD9MHVgYowDEP6BuBi07nsM/",
          "dtype": "f8"
         },
         "yaxis": "y16"
        },
        {
         "marker": {
          "color": "green",
          "line": {
           "color": "black",
           "width": 1
          },
          "opacity": 0.8,
          "size": 6
         },
         "mode": "markers",
         "name": "Mean stance duration (s) vs Mean step velocity X at stance - lHindpaw (m/s)",
         "showlegend": false,
         "type": "scatter",
         "x": {
          "bdata": "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",
          "dtype": "f8"
         },
         "xaxis": "x17",
         "y": {
          "bdata": "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",
          "dtype": "f8"
         },
         "yaxis": "y17"
        },
        {
         "marker": {
          "color": "yellow",
          "line": {
           "color": "black",
           "width": 1
          },
          "opacity": 0.7,
          "size": 6
         },
         "mode": "markers",
         "name": "Mean stance duration (s) vs Mean step velocity X at stance - lHindpaw (m/s)",
         "showlegend": false,
         "type": "scatter",
         "x": {
          "bdata": "OKnKBjxZiL89AlYOLSRzP94hUUUI4ro/pMAV0Btanj94wzIswzlrP1ZS0PY//KM//OvETmwdoD/LGy0PLejAP5xEs8UICrQ/1whGf3nQiD/GyHx0jqStPw9qtQSjSrE//7gVR/+1zD/AZE0ByOvEP7T2yS6fLKE/PHNnqpmWgj/N7UaszmGbP1Qi1VJmkqk/izMHa2xqpz9Joyvjkl/EP6Omii8kIc4/uX2L/7murT99nZj+HMmSP5OsI8oU4c0/eRin9kkdxD8+OQgX8e23P2L1V3+1ZYQ/6p3nUAxeyT8hdZqIhN6gP9EsH6tUvMw/6ea+poo4tz+183mp7lSHP44ozAax8bo/YVpUjfoC0T+vvEZXxtefPxcU0CasL5I/dQQU05C4lT87FrjWgBqgPzHsZ++zqbc/TV8gjWimoz8gnK+FgDWTP1Q+N7QxgVM/2e4P56UIkj+SV3/1V7+Iv5vylf+MRbA/1YaqsmFutD/s09cWRy3fP8WHkcawcq4/GHFRvvIIrT9rtPaykKOoP0dBIvtV7p4/vr3mQtLXuT/dndeiiXmrP+EIt86l4Hg/xPbgTNhpcT/cp+nz6Y2iv2f2sOhZGGw/uSEy0Erecb9d13zd6C5KP/6++5LzY5E/lhstD/1TpT+mf+JOv5ScP78vOZ2i8NQ/OnXnOZQgeD+CYrpoAeeTP3l/j7oewHA/n9Eh9EXukz9CffnzjouZP2Qj8EmAMX2/EsI8Ub++mT9Swjtq65Z2Pz1C+kfwuJQ/ivmspq7KmT8JPsL0TgWRPzvgsnUMAac/I8WTRoBAlD/WZGxmOklnP8Bvt3l/v5U/rl5vDACMkj9Mye5QqoO3P2USUjgXhmU/qmgxJDdxyD/9a5SUO6nUPwOrQpmmBoc/Bh5nXUjdkj9I7U4Do0/GP5gkctRkfKg/4EPypa3Yrj8Q0dyZ6s2hP7MH6JJB8ao/IqFrm7HWgD90TxkabYmjP0rvWGVAQYy/10+ZitIIZz8hozM6o+GTP1HGhDT9BZ+/y5l0X5espD8aLeNSJf6Cv4NowpMcYqc/oCXgblX/sb//sJklDVKOP5bDd4a+wZk/X7ZVShQvkT/cE0WLoZm+PyvpmsyVApU/E10NkpXsTb/4BMFNpvykPybVxZoeJcO/Cn4MwRZXvT/Br7rJIEaaP3zqTf1ZdI0/tewxL0vyjT9Dd3RJwgt0P0TS7PxkS7Q/fMCtoKuskD9Y5M6fYRmaP1dYXRYNl6Y/83tymg/RcT9WTxoBoYKZPwG+uon5OZA/MhpRgmIGY7/Eed+CmsyiPw2TpIb01bQ/",
          "dtype": "f8"
         },
         "xaxis": "x17",
         "y": {
          "bdata": "ZvGZNXdCsT+ZX51NH9utP8qy4zmVFLA/jvW2AAUjtT84lRSQ8JO7P19CaoEjkrg/n2jcBjBQsT8OYKBisuDEP8Ukm9d+EbQ/eHIh6mbQsj+VC1E3g5atP5QUkPCTC7E/iO1+eEsQsj9Z4Vy9YNi9P4ckZjHAp8Q/65D2vTFctT+HC1E3g5atPzSZY+yp2M8/XdLz3UQVwD/U8ZxKCki4PwIbvSsyX8o/Sg1di8+suT+AA3/fgvqvPwhI+MmFqLs/VU8rL0oHwz/m/IM1EAu3P47851dn07c/VFt/e2Cjtz8rjNXW3x6oPy9chaWGrrU/QfKfX51Nvz+M8JMLUTezPzSGq7DU0MU/Bm8JQs6jqj+qrb89sNHLP5lRO59aerg/Xpo4jNXWvz+1AQxUTBa8PwR8yu/0GMU/MzMzMzMzwz+9ANKKmPi4P19CaoEjksg/yZ1QNG4DuD/4yYWom0HrP6Js+MqM2dI/c0sQch7Vsz+kj+1+eEuwP9X3xnAVlqo/dV+cRu6Duz9WYamha/HJPxzGautvD+w/lQtRN4OWvT/dDFp2PKeyP6jiZfwZ6bI/AA9p3xvDpT+ksQ6aaRbQP7RlLqsU98c/AkDAQcyVuD83fGXGbPnBPz+5EHUzaME/e2fUzqeWrj/fFZkvTRzGP2PQsuM5laQ/aOhafGbNrT9bux/eEoSsPwAAAAAAALA/BXd0YuRxsD+O2OtyJP+5Pxix1+VI/tM/SQczZcRetz/wkwtRN4O2P5t6WnlROqg//ox0yRtc0j99ciHqZtDaP3Ae1dPKi8I/7KWJw1htvT9KAxehZ9XFPx5TrBwvsMc/Wdpe/lrjrT8/9OBZqM3CP3KrFgWKLL4/QsVkwUkEvj/e4wcE6SvAP1KQJTrKur4/f5Ydz6mksD9fs+dVWXHJP68Wn1lzJ6Q/e2fUzqeW3j+TI/nPr862P9CAUg4xJLo/N6R9bwxXsT9n4jBWW3+7P4KponIi8cc/6W4IO51MuD+HFgSD+0bXPxvW2vviNMI/mpmZmZmZuT/79bkVmCi8P+pm0LLjObU/+WuNd96u0T9S6PNEfP/FPx3Y6F2R+cI/CWXDV2bMtj+nj+1+eEvQP6HbZz0U9MI/fa74/zKYzD/vuA5n0bm0P7cOZ9G5FME/O+IvTyooqT9go3dF5kvDP8JbgpDzqK4/9bocyX9+xT+FKpBXy/XOP246mTBUTa0/dtVvqDQK0T/iMV2M1t3QP24DGKiYLMg/dWsjK2Hb0j+kj+1+eEuwP9kFKR/a9s8//2KQqRBQ1z8RdEIwQ+zEP+ldkfnSxNE/",
          "dtype": "f8"
         },
         "yaxis": "y17"
        },
        {
         "marker": {
          "color": "green",
          "line": {
           "color": "black",
           "width": 1
          },
          "opacity": 0.8,
          "size": 6
         },
         "mode": "markers",
         "name": "Mean stance duration (s) vs Mean step velocity Y at stance - lHindpaw (m/s)",
         "showlegend": false,
         "type": "scatter",
         "x": {
          "bdata": "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",
          "dtype": "f8"
         },
         "xaxis": "x18",
         "y": {
          "bdata": "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",
          "dtype": "f8"
         },
         "yaxis": "y18"
        },
        {
         "marker": {
          "color": "yellow",
          "line": {
           "color": "black",
           "width": 1
          },
          "opacity": 0.7,
          "size": 6
         },
         "mode": "markers",
         "name": "Mean stance duration (s) vs Mean step velocity Y at stance - lHindpaw (m/s)",
         "showlegend": false,
         "type": "scatter",
         "x": {
          "bdata": "J8uYBw7Rhr+3JUr0fM6PvwEMAxKbS5a/vUlXMEEXkL+wbtOxsZZ3v+UaAxX2WYC/qM9ik5yWj79ZNTB+90VsP2gDugpotIi/5brE+aMolb8O4ig6f8egv3O8m18q35K/C71zrORWkL8eDLhNqNFZPwhhDhEYtHa/J1sVvGfHjL/wlrrc/mhnvw52+hVybnW/FDd/SaaQZr8euzEHBQSDv54RXPR46n0/qQQAHzXEhb9+Nxw0H7OSv9OTPumT2n8/Etmf1C1Oj7+d3Fw6Del5v8KgILhpkJ6/rlvdWpkSfj8XDlR+jx6kv8f91HgpcZG/LA7fGfr0jT/WbnZS+XiKvz36bAj0QDm/cpAP5aJ2QD9UPP+MaXp3PwoqcNk67ms/0AoQVrbkjT887KJvoTuSP31K0v/2do+/VGYiEnQxZr9mYQarrQSNP5q7JIdReHs/FAEoaDf0cj+NQ5wgmaxzP+14YLatvDY/IWMR9B49ZL+Z7hu7FBVNv3v0OtjfKJ2/qnOt62h+er/AZfPPmGZbv/s7rO02fk8/CydddtZcgD/6Gy72EIOHP58IEOwSSqC/TI32m/KpYL/FOiFtfahwP0abzV5YhHC//8HSrSvWhL+BkAP/ghCPv9rjpLQwk3A/9hQkSLyMk7/XetNo1ZGFP+HVGbxGg4+/8j6LTfJ2mr/AnmSIkN8YvzFFeAkDz3g/YuBTdR56kL9SEKiff+lHPxm6d0hUF3W/5KqXR0ZEY78JLegw1pSAv6myKIuykIq/lEQRDJXddb832zJtCAF4v9RZDzP7soW/dufLn/docT/yASblPdRqPwdangE7LJm/+JoqvrAHmL+6LaBOIUpxP/i91fjD/2o/ZliiJVpCZ78uViBP/vplvy4K0Nlru1a/bNndvmjffr86hCymQHB3P/4ImCzmVoy/wKnU4AmBbD+fo+34E1V0v4eGREIjNHw/cepqpM/Clb+a9hBXUnhyv5pyup1aFCO/HKQtZoh+kD+HEQBPUhV6v7e/ojkOgJY/O1feyDM0gL+HENKKsHGTP2DljQArAnM/bOf8kAVefj8GpuAtcliHP3wXqN1pToE/DoR3ajPMbr9mtez2vbMvPxhiXE83yZM/K+3njPuqYj/lQipSalZwP2D/BO2Gd5o/hR548mTVgL8Yhra9ML+bv60CQ6vIkHU/Vb0UICQdBr9EVl8gjRhSPweC7zg2TY+/A9YYLzdBZr+i7AqQe9OHP0NLqYMpo3W/p86Il08FaD+Vps7teReTv9NmehqCDIQ/uJb/5KFGcz9JgeE28wyAvxJTydI2CoM/",
          "dtype": "f8"
         },
         "xaxis": "x18",
         "y": {
          "bdata": "ZvGZNXdCsT+ZX51NH9utP8qy4zmVFLA/jvW2AAUjtT84lRSQ8JO7P19CaoEjkrg/n2jcBjBQsT8OYKBisuDEP8Ukm9d+EbQ/eHIh6mbQsj+VC1E3g5atP5QUkPCTC7E/iO1+eEsQsj9Z4Vy9YNi9P4ckZjHAp8Q/65D2vTFctT+HC1E3g5atPzSZY+yp2M8/XdLz3UQVwD/U8ZxKCki4PwIbvSsyX8o/Sg1di8+suT+AA3/fgvqvPwhI+MmFqLs/VU8rL0oHwz/m/IM1EAu3P47851dn07c/VFt/e2Cjtz8rjNXW3x6oPy9chaWGrrU/QfKfX51Nvz+M8JMLUTezPzSGq7DU0MU/Bm8JQs6jqj+qrb89sNHLP5lRO59aerg/Xpo4jNXWvz+1AQxUTBa8PwR8yu/0GMU/MzMzMzMzwz+9ANKKmPi4P19CaoEjksg/yZ1QNG4DuD/4yYWom0HrP6Js+MqM2dI/c0sQch7Vsz+kj+1+eEuwP9X3xnAVlqo/dV+cRu6Duz9WYamha/HJPxzGautvD+w/lQtRN4OWvT/dDFp2PKeyP6jiZfwZ6bI/AA9p3xvDpT+ksQ6aaRbQP7RlLqsU98c/AkDAQcyVuD83fGXGbPnBPz+5EHUzaME/e2fUzqeWrj/fFZkvTRzGP2PQsuM5laQ/aOhafGbNrT9bux/eEoSsPwAAAAAAALA/BXd0YuRxsD+O2OtyJP+5Pxix1+VI/tM/SQczZcRetz/wkwtRN4O2P5t6WnlROqg//ox0yRtc0j99ciHqZtDaP3Ae1dPKi8I/7KWJw1htvT9KAxehZ9XFPx5TrBwvsMc/Wdpe/lrjrT8/9OBZqM3CP3KrFgWKLL4/QsVkwUkEvj/e4wcE6SvAP1KQJTrKur4/f5Ydz6mksD9fs+dVWXHJP68Wn1lzJ6Q/e2fUzqeW3j+TI/nPr862P9CAUg4xJLo/N6R9bwxXsT9n4jBWW3+7P4KponIi8cc/6W4IO51MuD+HFgSD+0bXPxvW2vviNMI/mpmZmZmZuT/79bkVmCi8P+pm0LLjObU/+WuNd96u0T9S6PNEfP/FPx3Y6F2R+cI/CWXDV2bMtj+nj+1+eEvQP6HbZz0U9MI/fa74/zKYzD/vuA5n0bm0P7cOZ9G5FME/O+IvTyooqT9go3dF5kvDP8JbgpDzqK4/9bocyX9+xT+FKpBXy/XOP246mTBUTa0/dtVvqDQK0T/iMV2M1t3QP24DGKiYLMg/dWsjK2Hb0j+kj+1+eEuwP9kFKR/a9s8//2KQqRBQ1z8RdEIwQ+zEP+ldkfnSxNE/",
          "dtype": "f8"
         },
         "yaxis": "y18"
        },
        {
         "marker": {
          "color": "green",
          "line": {
           "color": "black",
           "width": 1
          },
          "opacity": 0.8,
          "size": 6
         },
         "mode": "markers",
         "name": "Mean stance duration (s) vs Mean step velocity X at swing - lHindpaw (m/s)",
         "showlegend": false,
         "type": "scatter",
         "x": {
          "bdata": "l70KtFSdzj/zV88QJYDMPyyvyT43itI/LQRWDmnwzT+JAP8YiN/AP4t725K3+9o/wdbxCHkm0T/EzMzM+ETNP9o33wOAzdc/13m0ILp40T+q/uqvznDRPy9mxJ0Emcg/4oyvc5eD1T8sWx+WBV7QP06Hh/tY7dI/hch2xzkT0T9J57pkj+DOP74u6OVnE8s/s1Bdjdi30T+7yCuQCZPRP2ZoPOUsWco//O3BmfiHxz+H6ZGdT+DOP1MtOt7iLMU/+PEAikjRxj+fCr+eD1LLP0t0CH0VJMc/dDGsBqJhzD9ek0Irb9nJP5QwhWc2FMw/hItL0bQDyj9L+de9dXPHP8z5LxgjGco/RmKBgw0oyz+xFLdYY0zHP0/8FRiExdY/naWChldbzD9ZXYJCMs3KP1CMZGP1zMo/pjXVZ5vTzj+ZqxXq0xfLP+uUF/DPJ9M/zt1UxWwvwz87lWSh94jKPxldVAbg5Mc/RgGZe/s1wj+TyRr7fDjIPzM1a/5EccM/S8CC3bySxj+c+jTYy9q9P81xtxDlu7s/9ew/PC7Fsz+RHFCKTf24Pyqf71zYOrQ/91jd8HWhuD9c5Vk7bCDDP2dQ7gvgzsE/hptDX5M+tz8nq+8E5mS8P1BdrGkjn9g/GRUduo/uyz/ivBPyZDDMPxUg3EnNJs4/ewtzerPVvz9BLksZ++PAP9tXy+y107g/EEmZa/0vtT/bx6X/cRC+P8VWGbKrqcE/Pzo5kEbYuj9nXBcuYLmzP5/CvfRf1dE/LFtqxCugwj93HBKg0tXPP4za6f1DybE/6opSbtvBrj9HI0cgbL25PwBz/t6jArE/49ta5JVdwz8TWI68bOmtP832D3A+gL0/kDD+4GQEvD+2Xm1rupGwP5rFGfXzrMQ/yYoaSSUqsT/YXuyahzu9PxW9h2+2lrQ/eC79gFcNpT/5JSMoC4u8P//soZejhK8/qUejkBljtD/dDF6jm922PyWOKXota7g/k+67xVX5sz8Icq+5YKDAP87WTmgVP8w/Rvunff9Oyj8UF3xRk8DIPwRpkAZpScs/vKSdkhyqwD+rFUfDzC3PP80ySzh4etA/h2Nr6blCyD+lvQq0bGjFP/6x+lc6/cY/B+O1SRUT0D9Xpc1RZJTDPyvvzdjbxsI/jwUbpoqfzz8AFnX/0mTFP2BaYpr5ucg/QYexImqkzj9Nhy3383PMP1jfCUw8BtQ/8Lo74ZJczj8Dl8xYKzvCP3zDYGjfgMU/d4grKWgL0z+HFOwxoEPQP1/8GgV3ocs/PsJqjemHwD9NKQagoh7BP7wQTkGuCMQ/aU8sI5XUxT/p83FSflfQPwSVaZ1g6ss/W/vownEQyz9hqM27c5HJP3CBIzq5XsM/qUUhYH230T/veKPlwf7QPzxcaPYLls0/5j/r47mV1j/rER/xIRLKP3Oxh7iCQ80/ACqBjbCxyT/qB2LG4ezIPwBlNfwekL0/scQBOykzzD9z+rtt29vIP85wn1b2ldE/OxMdI4o2sD/+8sgoxs+2P2EG7PJIcsk/jlllIpPquz+1FKEDBrq5P42JUCf6aLw/81khZD0TxT9W9n4eRX2rP0L9n8xWXr0/zvM7v1O5xT91WQPW0yfIP4dgIRqIQMY/iDY1IBBCxz/GXZRkri7UP5YNgR4c/sk/opKAQoyVzD+BjwXNimzJP3ewnMcsT8c/88DfHtmv0D8UDVs53tC4P9+V22pShbk/UW/qz7okwj+bzUK+McK0P3I5Qs4uhLI/AUQYmkHAvz/kargyaCK3P0hXAz9OYLU/z+CgJo7jtT+kYZf8pkG3P+j/cfoH5bU/Nlgmq4gduT/axC93x7K6P+aHAulaKsc/8o//+I+bwz8Ws8pEJqC8P0OnLOkXlbk/5U2Yo/5RuT97gfkSRAu9P9zb0ct05sI/G2gGUnICsT8b3xxVmMnBP3kWQeD7lLQ/n2QMvPkCyT/WfzqySnXAP7OTPGba37s/bF4dX9MowT9qfaMEh4DCP8NETg+8Ib4/z6Su+vIVwj8=",
          "dtype": "f8"
         },
         "xaxis": "x19",
         "y": {
          "bdata": "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",
          "dtype": "f8"
         },
         "yaxis": "y19"
        },
        {
         "marker": {
          "color": "yellow",
          "line": {
           "color": "black",
           "width": 1
          },
          "opacity": 0.7,
          "size": 6
         },
         "mode": "markers",
         "name": "Mean stance duration (s) vs Mean step velocity X at swing - lHindpaw (m/s)",
         "showlegend": false,
         "type": "scatter",
         "x": {
          "bdata": "lEDWMKZWwj88qfoQVl7APwcJfBLwIcI/r6zVMbFL2T8WFY7rD4vFP6/5G1WVb+I/SMIkTK503T846I21sJ3QP5G0fTmyLtQ/qbmQNL0J1D/VAheXon/PP3QTiUmL2dE/2blpaL1u1T+7bg2HF+fJP2dwXiCcldQ/iFEODokS1z8cYpzah0/UP7cEbEWix80/yK6Yp9uf2T/dr6GLbWTUP33HGy1PY8I/Q5DvSqdj3D/UYOGOaxXVP+egnIx3bt0/987v/I7Y2j+pbIWgxorePw66G9BbBNA/8NdMml+K1T/538IjqRHPP3j/PtG01d4/7BfHUqdDzD+eMxPXGV/KP2w66/eS480/lJm4DjujyT80jFP7WoPPP8APc6j2idM/de0xEc+fyz9X4UEXOkrWP5qO1uWcz8c/R47Keedo0D8zEdC8+FbMP3brXTPyOMs/O0Su5wfc1z9loBhhFUDcP8b5IQs0R9Q/ub5w99gEzz/PfC0E/IHdPxB3zWYvybQ/3+xZxJz/5D/hD3A+8Ve7P0fLqLW2x9Y/g0oiOcALuz8ox4g6cMWyPyfkg56tEsc/BNLiIqvPxT/r9d0eEzvHP8b8bjWl68s/ZM0J0HOVwD8Zhoc3UeiyP1i9/kfn6Mk/0G80Fx0G3j/nDVPEgOzkP1Os7TaWydY/EOaJ+tuA1j/kQ5ozNIXWP1lsipwlbMg/Fz8g4YoAxT/np8ZL84TNP1NOxt/A8tI/8U4D47eizz+6LQa/NwvOP9Fr8DlyR9c/Co7BaGBT1T94RS6z1l7AP2YvC2HATdE/MGpQThrOxj8Zur5wZ/zCP/2iZ0ogL8g/r33O5dU+0T8qWC4Cnbu+Pzw4m0VAzcU/gIBdLcvO0j+zihPKzv7LP3K5V0bFctE/No7jODJ+wj8QM2dDoOjUP8UOB6CFkdA/NNckMjoU3j9UWnMCHEzAP9BT6/yNmdM/+QkGxzblwD9UHbbc3zLOPyGviotafsY/rkz6Ony70j88U/KZcl65P4EgGJPiicE/5XzCl7Bkwz9TO3JRguXGP2ONnFu5csg/8jt5sryq1j/IMm7RbJbLP9+9YhcQ9dE/2QgaxmC50T+g64JevlvXPxeoC7XID9U/rvWshxnBwD9zv1p1fSnUP6lEH/uLwNw/uzM/kBrK2D8HKo9EARCrP8P9f3C1ocg/TUonNT3/0D8Dt1iHH/fOP7V02VkTbLk/wFWovCMJwT+XVA54IHTMP/t6RVSnM78/474ZTudT0j9lZZna7SXKP31aKNSVbt8/y7cV9Xpd0D9GUUeot/WzP/eDYoSFSt0/",
          "dtype": "f8"
         },
         "xaxis": "x19",
         "y": {
          "bdata": "ZvGZNXdCsT+ZX51NH9utP8qy4zmVFLA/jvW2AAUjtT84lRSQ8JO7P19CaoEjkrg/n2jcBjBQsT8OYKBisuDEP8Ukm9d+EbQ/eHIh6mbQsj+VC1E3g5atP5QUkPCTC7E/iO1+eEsQsj9Z4Vy9YNi9P4ckZjHAp8Q/65D2vTFctT+HC1E3g5atPzSZY+yp2M8/XdLz3UQVwD/U8ZxKCki4PwIbvSsyX8o/Sg1di8+suT+AA3/fgvqvPwhI+MmFqLs/VU8rL0oHwz/m/IM1EAu3P47851dn07c/VFt/e2Cjtz8rjNXW3x6oPy9chaWGrrU/QfKfX51Nvz+M8JMLUTezPzSGq7DU0MU/Bm8JQs6jqj+qrb89sNHLP5lRO59aerg/Xpo4jNXWvz+1AQxUTBa8PwR8yu/0GMU/MzMzMzMzwz+9ANKKmPi4P19CaoEjksg/yZ1QNG4DuD/4yYWom0HrP6Js+MqM2dI/c0sQch7Vsz+kj+1+eEuwP9X3xnAVlqo/dV+cRu6Duz9WYamha/HJPxzGautvD+w/lQtRN4OWvT/dDFp2PKeyP6jiZfwZ6bI/AA9p3xvDpT+ksQ6aaRbQP7RlLqsU98c/AkDAQcyVuD83fGXGbPnBPz+5EHUzaME/e2fUzqeWrj/fFZkvTRzGP2PQsuM5laQ/aOhafGbNrT9bux/eEoSsPwAAAAAAALA/BXd0YuRxsD+O2OtyJP+5Pxix1+VI/tM/SQczZcRetz/wkwtRN4O2P5t6WnlROqg//ox0yRtc0j99ciHqZtDaP3Ae1dPKi8I/7KWJw1htvT9KAxehZ9XFPx5TrBwvsMc/Wdpe/lrjrT8/9OBZqM3CP3KrFgWKLL4/QsVkwUkEvj/e4wcE6SvAP1KQJTrKur4/f5Ydz6mksD9fs+dVWXHJP68Wn1lzJ6Q/e2fUzqeW3j+TI/nPr862P9CAUg4xJLo/N6R9bwxXsT9n4jBWW3+7P4KponIi8cc/6W4IO51MuD+HFgSD+0bXPxvW2vviNMI/mpmZmZmZuT/79bkVmCi8P+pm0LLjObU/+WuNd96u0T9S6PNEfP/FPx3Y6F2R+cI/CWXDV2bMtj+nj+1+eEvQP6HbZz0U9MI/fa74/zKYzD/vuA5n0bm0P7cOZ9G5FME/O+IvTyooqT9go3dF5kvDP8JbgpDzqK4/9bocyX9+xT+FKpBXy/XOP246mTBUTa0/dtVvqDQK0T/iMV2M1t3QP24DGKiYLMg/dWsjK2Hb0j+kj+1+eEuwP9kFKR/a9s8//2KQqRBQ1z8RdEIwQ+zEP+ldkfnSxNE/",
          "dtype": "f8"
         },
         "yaxis": "y19"
        },
        {
         "marker": {
          "color": "green",
          "line": {
           "color": "black",
           "width": 1
          },
          "opacity": 0.8,
          "size": 6
         },
         "mode": "markers",
         "name": "Mean stance duration (s) vs Mean step velocity Y at swing - lHindpaw (m/s)",
         "showlegend": false,
         "type": "scatter",
         "x": {
          "bdata": "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",
          "dtype": "f8"
         },
         "xaxis": "x20",
         "y": {
          "bdata": "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",
          "dtype": "f8"
         },
         "yaxis": "y20"
        },
        {
         "marker": {
          "color": "yellow",
          "line": {
           "color": "black",
           "width": 1
          },
          "opacity": 0.7,
          "size": 6
         },
         "mode": "markers",
         "name": "Mean stance duration (s) vs Mean step velocity Y at swing - lHindpaw (m/s)",
         "showlegend": false,
         "type": "scatter",
         "x": {
          "bdata": "Nioz9RBPsT8o6t8Inbe6P7UMdqhoWYA/S4o/kr00vD/Gj4t7XjqgP+BaE0gEMX0/3C8xRsaQxT/hAsxZNoV7PxegWdNJ1cM/tDDixkY8xT+OY7fgx027P7m5r6lKJsE/oK5WqA+5iz89PrClIAyHPxCvBS4u7Vo/4NWlPoVnuz8phSk88xrHP/wpnnBarJI/rxOmHY+6oj+SfyOUUZRxP8+ap3maD5I/k4bZ1a+gwT+Ms7WaFLvCP6SUsX9hzJY/GcDT322Zbr/ppZbII8GUP/54H7qvu7c/4+YbBsN/nD9SGTkCYQbBP6rJPl1xPpY/JnXYcn+Diz8Oe4grZbPBP165WB5FQ4o/+jAveI6ioT99S7y61It1v4sl22MiSJM/9HSK2tvlnj8BycxiKRWOP48jGnEJa1E/rr1qbtzfmz/XhoIdyHWrP/CWdOadjoQ/tdo4UDk0uD+RDaTkul2WvwHdbbEd8aA/B80uGYzmrz8QlRPMIFekPzxT5IyvV6k/tMwgd3U0U78DHfTGWj50P5MkJA+/PY4/07nYQ1zVl7+NKR2+M56jP3eRK2fafrA/jUGez+OhvD94qDdfC7SJvz62tRM63J4/6eGQS8Njrz98yZ4mV3WhP3BgWU6UIqc/JiyxAeoKyD8cJoY9EiOFv0/I6juBOoM/nxgjy9MkyD+IzaQZh0bHP9S32SpIVbo/9XvRmj3QrD9uoI3FapuSP+oo8Gj1VoG/Hen49AXirz9yNEiDVO60P9giOFl368k/FJtgUfeniT8IpT95/itcvyA7JZEcBJo/mXdXG2bCiz9pVE7lVHqGP5ckh1HoXKs/dbus9EYswz+fTzowcDOVP4hFLBKFRYc/a9sKyXjLiD/9mUBPqoqWPwZ/jIy5m6g/YcpUlFbTtj//tZM0D0aKP64pB1rcscA/ydvL9+l1hr9Itm/Syv+RP7UL5VZvq4A/0Cd90k/csz+DStz3sKq1P/aXlphmzos/h5A5kunRqD+csHTctMCQPzaMg7r2lIc/cgr4mycCpT8qlPzMbCNhPwB09zLrnao/YqIZG0eZfT/NMtnyWXCIP/k6n5fqKnw/OW6hbywxsT+uGtxmUP+UP55HYOaZGpY/JjKaIAJPdz/vUm6MVH2jPzEWZVEW3pI/8suXIPr2tj/CP8u65nScP21GUFbdSrI/6EwaW6U2kz9GCp610rSCP9QsWKjEILc/bJc3mAgemT858m2XlaqDP9WP9R6CM5E/7ZP8j0vggT9P+Ley3p+yP9Kre4dEaXc/lQaa/Fgggj+T0I2do0iaP1IRb1fdDJY/",
          "dtype": "f8"
         },
         "xaxis": "x20",
         "y": {
          "bdata": "ZvGZNXdCsT+ZX51NH9utP8qy4zmVFLA/jvW2AAUjtT84lRSQ8JO7P19CaoEjkrg/n2jcBjBQsT8OYKBisuDEP8Ukm9d+EbQ/eHIh6mbQsj+VC1E3g5atP5QUkPCTC7E/iO1+eEsQsj9Z4Vy9YNi9P4ckZjHAp8Q/65D2vTFctT+HC1E3g5atPzSZY+yp2M8/XdLz3UQVwD/U8ZxKCki4PwIbvSsyX8o/Sg1di8+suT+AA3/fgvqvPwhI+MmFqLs/VU8rL0oHwz/m/IM1EAu3P47851dn07c/VFt/e2Cjtz8rjNXW3x6oPy9chaWGrrU/QfKfX51Nvz+M8JMLUTezPzSGq7DU0MU/Bm8JQs6jqj+qrb89sNHLP5lRO59aerg/Xpo4jNXWvz+1AQxUTBa8PwR8yu/0GMU/MzMzMzMzwz+9ANKKmPi4P19CaoEjksg/yZ1QNG4DuD/4yYWom0HrP6Js+MqM2dI/c0sQch7Vsz+kj+1+eEuwP9X3xnAVlqo/dV+cRu6Duz9WYamha/HJPxzGautvD+w/lQtRN4OWvT/dDFp2PKeyP6jiZfwZ6bI/AA9p3xvDpT+ksQ6aaRbQP7RlLqsU98c/AkDAQcyVuD83fGXGbPnBPz+5EHUzaME/e2fUzqeWrj/fFZkvTRzGP2PQsuM5laQ/aOhafGbNrT9bux/eEoSsPwAAAAAAALA/BXd0YuRxsD+O2OtyJP+5Pxix1+VI/tM/SQczZcRetz/wkwtRN4O2P5t6WnlROqg//ox0yRtc0j99ciHqZtDaP3Ae1dPKi8I/7KWJw1htvT9KAxehZ9XFPx5TrBwvsMc/Wdpe/lrjrT8/9OBZqM3CP3KrFgWKLL4/QsVkwUkEvj/e4wcE6SvAP1KQJTrKur4/f5Ydz6mksD9fs+dVWXHJP68Wn1lzJ6Q/e2fUzqeW3j+TI/nPr862P9CAUg4xJLo/N6R9bwxXsT9n4jBWW3+7P4KponIi8cc/6W4IO51MuD+HFgSD+0bXPxvW2vviNMI/mpmZmZmZuT/79bkVmCi8P+pm0LLjObU/+WuNd96u0T9S6PNEfP/FPx3Y6F2R+cI/CWXDV2bMtj+nj+1+eEvQP6HbZz0U9MI/fa74/zKYzD/vuA5n0bm0P7cOZ9G5FME/O+IvTyooqT9go3dF5kvDP8JbgpDzqK4/9bocyX9+xT+FKpBXy/XOP246mTBUTa0/dtVvqDQK0T/iMV2M1t3QP24DGKiYLMg/dWsjK2Hb0j+kj+1+eEuwP9kFKR/a9s8//2KQqRBQ1z8RdEIwQ+zEP+ldkfnSxNE/",
          "dtype": "f8"
         },
         "yaxis": "y20"
        },
        {
         "marker": {
          "color": "green",
          "line": {
           "color": "black",
           "width": 1
          },
          "opacity": 0.8,
          "size": 6
         },
         "mode": "markers",
         "name": "Mean step frequency (Hz) vs Mean step velocity X at stance - lHindpaw (m/s)",
         "showlegend": false,
         "type": "scatter",
         "x": {
          "bdata": "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",
          "dtype": "f8"
         },
         "xaxis": "x21",
         "y": {
          "bdata": "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",
          "dtype": "f8"
         },
         "yaxis": "y21"
        },
        {
         "marker": {
          "color": "yellow",
          "line": {
           "color": "black",
           "width": 1
          },
          "opacity": 0.7,
          "size": 6
         },
         "mode": "markers",
         "name": "Mean step frequency (Hz) vs Mean step velocity X at stance - lHindpaw (m/s)",
         "showlegend": false,
         "type": "scatter",
         "x": {
          "bdata": "OKnKBjxZiL89AlYOLSRzP94hUUUI4ro/pMAV0Btanj94wzIswzlrP1ZS0PY//KM//OvETmwdoD/LGy0PLejAP5xEs8UICrQ/1whGf3nQiD/GyHx0jqStPw9qtQSjSrE//7gVR/+1zD/AZE0ByOvEP7T2yS6fLKE/PHNnqpmWgj/N7UaszmGbP1Qi1VJmkqk/izMHa2xqpz9Joyvjkl/EP6Omii8kIc4/uX2L/7murT99nZj+HMmSP5OsI8oU4c0/eRin9kkdxD8+OQgX8e23P2L1V3+1ZYQ/6p3nUAxeyT8hdZqIhN6gP9EsH6tUvMw/6ea+poo4tz+183mp7lSHP44ozAax8bo/YVpUjfoC0T+vvEZXxtefPxcU0CasL5I/dQQU05C4lT87FrjWgBqgPzHsZ++zqbc/TV8gjWimoz8gnK+FgDWTP1Q+N7QxgVM/2e4P56UIkj+SV3/1V7+Iv5vylf+MRbA/1YaqsmFutD/s09cWRy3fP8WHkcawcq4/GHFRvvIIrT9rtPaykKOoP0dBIvtV7p4/vr3mQtLXuT/dndeiiXmrP+EIt86l4Hg/xPbgTNhpcT/cp+nz6Y2iv2f2sOhZGGw/uSEy0Erecb9d13zd6C5KP/6++5LzY5E/lhstD/1TpT+mf+JOv5ScP78vOZ2i8NQ/OnXnOZQgeD+CYrpoAeeTP3l/j7oewHA/n9Eh9EXukz9CffnzjouZP2Qj8EmAMX2/EsI8Ub++mT9Swjtq65Z2Pz1C+kfwuJQ/ivmspq7KmT8JPsL0TgWRPzvgsnUMAac/I8WTRoBAlD/WZGxmOklnP8Bvt3l/v5U/rl5vDACMkj9Mye5QqoO3P2USUjgXhmU/qmgxJDdxyD/9a5SUO6nUPwOrQpmmBoc/Bh5nXUjdkj9I7U4Do0/GP5gkctRkfKg/4EPypa3Yrj8Q0dyZ6s2hP7MH6JJB8ao/IqFrm7HWgD90TxkabYmjP0rvWGVAQYy/10+ZitIIZz8hozM6o+GTP1HGhDT9BZ+/y5l0X5espD8aLeNSJf6Cv4NowpMcYqc/oCXgblX/sb//sJklDVKOP5bDd4a+wZk/X7ZVShQvkT/cE0WLoZm+PyvpmsyVApU/E10NkpXsTb/4BMFNpvykPybVxZoeJcO/Cn4MwRZXvT/Br7rJIEaaP3zqTf1ZdI0/tewxL0vyjT9Dd3RJwgt0P0TS7PxkS7Q/fMCtoKuskD9Y5M6fYRmaP1dYXRYNl6Y/83tymg/RcT9WTxoBoYKZPwG+uon5OZA/MhpRgmIGY7/Eed+CmsyiPw2TpIb01bQ/",
          "dtype": "f8"
         },
         "xaxis": "x21",
         "y": {
          "bdata": "FM6cui65FECidGAYv14VQOPwSY90hRRA5PBZcN5ZFkDL8bjdWpgQQIjJ0cx3yBRAjxLtPQ3kGEAmykj+DLISQGy7I0wmYxZAAikqt4pvFkCi/BYEG/UXQN+ozSByjhZAp6pU7mfJEkAmUoDS60YWQHJwH8+Y9RFAuCJIaSb4E0CrUSl2oagZQL4s++DqNw5A57nX5dFVEUB8Hl9XkNQWQD6DbqN/FAVA8x+EOyYeFUBRQFnyz7MVQJxbRXNBEBZAHJeR3lBqEUATrZpJ44cWQB2xgs+ExxJAIKfYu+uTFUBji7uamOwYQCQvr0bdjBdAy2KYsJ/SEkB0RObNgsUUQLczoh+JsgpAgjlixYsNHkDJnlqru4MIQLDMV/WxRhJAvf/X323LDkC5q9GwpicSQJA9/GJWAwtAhDjlHbsyEUAZZp9R8UoSQHXEcsnwUQtA6HbEuFjkEkA7bRvUtkH9P5fqITja8wpA00lvJ4uPFEBLh9ne3A4ZQJAubiIhSBNA8Q94gJmlFEAzbjbEcfMNQNudSHXixe8/J6+hvIbyFEAEtWc9Q8sQQBu0wFe9gBJAW3/XrBgvGUChC8TIPqwEQMrbjBNs3gtAtfhKMVTJEEB0XglbGIsOQCFYlk0HVhFAuIVWQFGvF0DJPEmJseMQQGmU+BklDilAXu+7kxUXGECcdImfuBQYQHKg1UJA+RZAgtS0OPVzFUADo+Vaie4UQOUbWa00XwNALqYDgDRzFEAI+4L+YxsTQKkG89fXRBtAh99hCiYnCECqbYBiqzMEQK/mMV6krRBA0mJsGZIBEUCpzF4ENnITQG9Dr/5SQAlACHiiUfviFkBpvr3MU/ARQBmGlHOU2BJAtTeGRiE9FEBBCq8rmQERQC4exoh0+BBAXI8dHHL/E0CtZ9IVXy8RQHtEUlp1aRtAtVKtUAnKCED9nY3u3RIVQCo4WXtKARdA2W69C/5AE0BmS5XQ+NoUQNvpZ6/JSQdA/fJP3u6eEkCENIoxj/cEQKuEORBSPw1AcAzuTzVkEUCGlCABdgUTQGcmJrjMVBFA5gEHaafCDkBUE1yFyssQQBzC3RkazBBAMT1NDjIoE0DTkbJ41W8TQLsM7fnmoxZA/p4FFG4zCkBZGdA+NQcUQK8cn1XcPxNAD3HBJZ2XGEDbFN960mYJQFdu8yYvihNAST0dLsdTEUDc0+VyZFMMQL++hU6aGhZAY0GuPaLPCUAjg2Rr48kOQP1uMi6/9gdA7Yd7l7EjC0BLHtcCRC8UQA2zLo+cPA1A4V3Ij9sjAkAzo1/E3ScLQIcD34g4+QtA",
          "dtype": "f8"
         },
         "yaxis": "y21"
        },
        {
         "marker": {
          "color": "green",
          "line": {
           "color": "black",
           "width": 1
          },
          "opacity": 0.8,
          "size": 6
         },
         "mode": "markers",
         "name": "Mean step frequency (Hz) vs Mean step velocity Y at stance - lHindpaw (m/s)",
         "showlegend": false,
         "type": "scatter",
         "x": {
          "bdata": "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",
          "dtype": "f8"
         },
         "xaxis": "x22",
         "y": {
          "bdata": "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",
          "dtype": "f8"
         },
         "yaxis": "y22"
        },
        {
         "marker": {
          "color": "yellow",
          "line": {
           "color": "black",
           "width": 1
          },
          "opacity": 0.7,
          "size": 6
         },
         "mode": "markers",
         "name": "Mean step frequency (Hz) vs Mean step velocity Y at stance - lHindpaw (m/s)",
         "showlegend": false,
         "type": "scatter",
         "x": {
          "bdata": "J8uYBw7Rhr+3JUr0fM6PvwEMAxKbS5a/vUlXMEEXkL+wbtOxsZZ3v+UaAxX2WYC/qM9ik5yWj79ZNTB+90VsP2gDugpotIi/5brE+aMolb8O4ig6f8egv3O8m18q35K/C71zrORWkL8eDLhNqNFZPwhhDhEYtHa/J1sVvGfHjL/wlrrc/mhnvw52+hVybnW/FDd/SaaQZr8euzEHBQSDv54RXPR46n0/qQQAHzXEhb9+Nxw0H7OSv9OTPumT2n8/Etmf1C1Oj7+d3Fw6Del5v8KgILhpkJ6/rlvdWpkSfj8XDlR+jx6kv8f91HgpcZG/LA7fGfr0jT/WbnZS+XiKvz36bAj0QDm/cpAP5aJ2QD9UPP+MaXp3PwoqcNk67ms/0AoQVrbkjT887KJvoTuSP31K0v/2do+/VGYiEnQxZr9mYQarrQSNP5q7JIdReHs/FAEoaDf0cj+NQ5wgmaxzP+14YLatvDY/IWMR9B49ZL+Z7hu7FBVNv3v0OtjfKJ2/qnOt62h+er/AZfPPmGZbv/s7rO02fk8/CydddtZcgD/6Gy72EIOHP58IEOwSSqC/TI32m/KpYL/FOiFtfahwP0abzV5YhHC//8HSrSvWhL+BkAP/ghCPv9rjpLQwk3A/9hQkSLyMk7/XetNo1ZGFP+HVGbxGg4+/8j6LTfJ2mr/AnmSIkN8YvzFFeAkDz3g/YuBTdR56kL9SEKiff+lHPxm6d0hUF3W/5KqXR0ZEY78JLegw1pSAv6myKIuykIq/lEQRDJXddb832zJtCAF4v9RZDzP7soW/dufLn/docT/yASblPdRqPwdangE7LJm/+JoqvrAHmL+6LaBOIUpxP/i91fjD/2o/ZliiJVpCZ78uViBP/vplvy4K0Nlru1a/bNndvmjffr86hCymQHB3P/4ImCzmVoy/wKnU4AmBbD+fo+34E1V0v4eGREIjNHw/cepqpM/Clb+a9hBXUnhyv5pyup1aFCO/HKQtZoh+kD+HEQBPUhV6v7e/ojkOgJY/O1feyDM0gL+HENKKsHGTP2DljQArAnM/bOf8kAVefj8GpuAtcliHP3wXqN1pToE/DoR3ajPMbr9mtez2vbMvPxhiXE83yZM/K+3njPuqYj/lQipSalZwP2D/BO2Gd5o/hR548mTVgL8Yhra9ML+bv60CQ6vIkHU/Vb0UICQdBr9EVl8gjRhSPweC7zg2TY+/A9YYLzdBZr+i7AqQe9OHP0NLqYMpo3W/p86Il08FaD+Vps7teReTv9NmehqCDIQ/uJb/5KFGcz9JgeE28wyAvxJTydI2CoM/",
          "dtype": "f8"
         },
         "xaxis": "x22",
         "y": {
          "bdata": "FM6cui65FECidGAYv14VQOPwSY90hRRA5PBZcN5ZFkDL8bjdWpgQQIjJ0cx3yBRAjxLtPQ3kGEAmykj+DLISQGy7I0wmYxZAAikqt4pvFkCi/BYEG/UXQN+ozSByjhZAp6pU7mfJEkAmUoDS60YWQHJwH8+Y9RFAuCJIaSb4E0CrUSl2oagZQL4s++DqNw5A57nX5dFVEUB8Hl9XkNQWQD6DbqN/FAVA8x+EOyYeFUBRQFnyz7MVQJxbRXNBEBZAHJeR3lBqEUATrZpJ44cWQB2xgs+ExxJAIKfYu+uTFUBji7uamOwYQCQvr0bdjBdAy2KYsJ/SEkB0RObNgsUUQLczoh+JsgpAgjlixYsNHkDJnlqru4MIQLDMV/WxRhJAvf/X323LDkC5q9GwpicSQJA9/GJWAwtAhDjlHbsyEUAZZp9R8UoSQHXEcsnwUQtA6HbEuFjkEkA7bRvUtkH9P5fqITja8wpA00lvJ4uPFEBLh9ne3A4ZQJAubiIhSBNA8Q94gJmlFEAzbjbEcfMNQNudSHXixe8/J6+hvIbyFEAEtWc9Q8sQQBu0wFe9gBJAW3/XrBgvGUChC8TIPqwEQMrbjBNs3gtAtfhKMVTJEEB0XglbGIsOQCFYlk0HVhFAuIVWQFGvF0DJPEmJseMQQGmU+BklDilAXu+7kxUXGECcdImfuBQYQHKg1UJA+RZAgtS0OPVzFUADo+Vaie4UQOUbWa00XwNALqYDgDRzFEAI+4L+YxsTQKkG89fXRBtAh99hCiYnCECqbYBiqzMEQK/mMV6krRBA0mJsGZIBEUCpzF4ENnITQG9Dr/5SQAlACHiiUfviFkBpvr3MU/ARQBmGlHOU2BJAtTeGRiE9FEBBCq8rmQERQC4exoh0+BBAXI8dHHL/E0CtZ9IVXy8RQHtEUlp1aRtAtVKtUAnKCED9nY3u3RIVQCo4WXtKARdA2W69C/5AE0BmS5XQ+NoUQNvpZ6/JSQdA/fJP3u6eEkCENIoxj/cEQKuEORBSPw1AcAzuTzVkEUCGlCABdgUTQGcmJrjMVBFA5gEHaafCDkBUE1yFyssQQBzC3RkazBBAMT1NDjIoE0DTkbJ41W8TQLsM7fnmoxZA/p4FFG4zCkBZGdA+NQcUQK8cn1XcPxNAD3HBJZ2XGEDbFN960mYJQFdu8yYvihNAST0dLsdTEUDc0+VyZFMMQL++hU6aGhZAY0GuPaLPCUAjg2Rr48kOQP1uMi6/9gdA7Yd7l7EjC0BLHtcCRC8UQA2zLo+cPA1A4V3Ij9sjAkAzo1/E3ScLQIcD34g4+QtA",
          "dtype": "f8"
         },
         "yaxis": "y22"
        },
        {
         "marker": {
          "color": "green",
          "line": {
           "color": "black",
           "width": 1
          },
          "opacity": 0.8,
          "size": 6
         },
         "mode": "markers",
         "name": "Mean step frequency (Hz) vs Mean step velocity X at swing - lHindpaw (m/s)",
         "showlegend": false,
         "type": "scatter",
         "x": {
          "bdata": "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",
          "dtype": "f8"
         },
         "xaxis": "x23",
         "y": {
          "bdata": "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",
          "dtype": "f8"
         },
         "yaxis": "y23"
        },
        {
         "marker": {
          "color": "yellow",
          "line": {
           "color": "black",
           "width": 1
          },
          "opacity": 0.7,
          "size": 6
         },
         "mode": "markers",
         "name": "Mean step frequency (Hz) vs Mean step velocity X at swing - lHindpaw (m/s)",
         "showlegend": false,
         "type": "scatter",
         "x": {
          "bdata": "lEDWMKZWwj88qfoQVl7APwcJfBLwIcI/r6zVMbFL2T8WFY7rD4vFP6/5G1WVb+I/SMIkTK503T846I21sJ3QP5G0fTmyLtQ/qbmQNL0J1D/VAheXon/PP3QTiUmL2dE/2blpaL1u1T+7bg2HF+fJP2dwXiCcldQ/iFEODokS1z8cYpzah0/UP7cEbEWix80/yK6Yp9uf2T/dr6GLbWTUP33HGy1PY8I/Q5DvSqdj3D/UYOGOaxXVP+egnIx3bt0/987v/I7Y2j+pbIWgxorePw66G9BbBNA/8NdMml+K1T/538IjqRHPP3j/PtG01d4/7BfHUqdDzD+eMxPXGV/KP2w66/eS480/lJm4DjujyT80jFP7WoPPP8APc6j2idM/de0xEc+fyz9X4UEXOkrWP5qO1uWcz8c/R47Keedo0D8zEdC8+FbMP3brXTPyOMs/O0Su5wfc1z9loBhhFUDcP8b5IQs0R9Q/ub5w99gEzz/PfC0E/IHdPxB3zWYvybQ/3+xZxJz/5D/hD3A+8Ve7P0fLqLW2x9Y/g0oiOcALuz8ox4g6cMWyPyfkg56tEsc/BNLiIqvPxT/r9d0eEzvHP8b8bjWl68s/ZM0J0HOVwD8Zhoc3UeiyP1i9/kfn6Mk/0G80Fx0G3j/nDVPEgOzkP1Os7TaWydY/EOaJ+tuA1j/kQ5ozNIXWP1lsipwlbMg/Fz8g4YoAxT/np8ZL84TNP1NOxt/A8tI/8U4D47eizz+6LQa/NwvOP9Fr8DlyR9c/Co7BaGBT1T94RS6z1l7AP2YvC2HATdE/MGpQThrOxj8Zur5wZ/zCP/2iZ0ogL8g/r33O5dU+0T8qWC4Cnbu+Pzw4m0VAzcU/gIBdLcvO0j+zihPKzv7LP3K5V0bFctE/No7jODJ+wj8QM2dDoOjUP8UOB6CFkdA/NNckMjoU3j9UWnMCHEzAP9BT6/yNmdM/+QkGxzblwD9UHbbc3zLOPyGviotafsY/rkz6Ony70j88U/KZcl65P4EgGJPiicE/5XzCl7Bkwz9TO3JRguXGP2ONnFu5csg/8jt5sryq1j/IMm7RbJbLP9+9YhcQ9dE/2QgaxmC50T+g64JevlvXPxeoC7XID9U/rvWshxnBwD9zv1p1fSnUP6lEH/uLwNw/uzM/kBrK2D8HKo9EARCrP8P9f3C1ocg/TUonNT3/0D8Dt1iHH/fOP7V02VkTbLk/wFWovCMJwT+XVA54IHTMP/t6RVSnM78/474ZTudT0j9lZZna7SXKP31aKNSVbt8/y7cV9Xpd0D9GUUeot/WzP/eDYoSFSt0/",
          "dtype": "f8"
         },
         "xaxis": "x23",
         "y": {
          "bdata": "FM6cui65FECidGAYv14VQOPwSY90hRRA5PBZcN5ZFkDL8bjdWpgQQIjJ0cx3yBRAjxLtPQ3kGEAmykj+DLISQGy7I0wmYxZAAikqt4pvFkCi/BYEG/UXQN+ozSByjhZAp6pU7mfJEkAmUoDS60YWQHJwH8+Y9RFAuCJIaSb4E0CrUSl2oagZQL4s++DqNw5A57nX5dFVEUB8Hl9XkNQWQD6DbqN/FAVA8x+EOyYeFUBRQFnyz7MVQJxbRXNBEBZAHJeR3lBqEUATrZpJ44cWQB2xgs+ExxJAIKfYu+uTFUBji7uamOwYQCQvr0bdjBdAy2KYsJ/SEkB0RObNgsUUQLczoh+JsgpAgjlixYsNHkDJnlqru4MIQLDMV/WxRhJAvf/X323LDkC5q9GwpicSQJA9/GJWAwtAhDjlHbsyEUAZZp9R8UoSQHXEcsnwUQtA6HbEuFjkEkA7bRvUtkH9P5fqITja8wpA00lvJ4uPFEBLh9ne3A4ZQJAubiIhSBNA8Q94gJmlFEAzbjbEcfMNQNudSHXixe8/J6+hvIbyFEAEtWc9Q8sQQBu0wFe9gBJAW3/XrBgvGUChC8TIPqwEQMrbjBNs3gtAtfhKMVTJEEB0XglbGIsOQCFYlk0HVhFAuIVWQFGvF0DJPEmJseMQQGmU+BklDilAXu+7kxUXGECcdImfuBQYQHKg1UJA+RZAgtS0OPVzFUADo+Vaie4UQOUbWa00XwNALqYDgDRzFEAI+4L+YxsTQKkG89fXRBtAh99hCiYnCECqbYBiqzMEQK/mMV6krRBA0mJsGZIBEUCpzF4ENnITQG9Dr/5SQAlACHiiUfviFkBpvr3MU/ARQBmGlHOU2BJAtTeGRiE9FEBBCq8rmQERQC4exoh0+BBAXI8dHHL/E0CtZ9IVXy8RQHtEUlp1aRtAtVKtUAnKCED9nY3u3RIVQCo4WXtKARdA2W69C/5AE0BmS5XQ+NoUQNvpZ6/JSQdA/fJP3u6eEkCENIoxj/cEQKuEORBSPw1AcAzuTzVkEUCGlCABdgUTQGcmJrjMVBFA5gEHaafCDkBUE1yFyssQQBzC3RkazBBAMT1NDjIoE0DTkbJ41W8TQLsM7fnmoxZA/p4FFG4zCkBZGdA+NQcUQK8cn1XcPxNAD3HBJZ2XGEDbFN960mYJQFdu8yYvihNAST0dLsdTEUDc0+VyZFMMQL++hU6aGhZAY0GuPaLPCUAjg2Rr48kOQP1uMi6/9gdA7Yd7l7EjC0BLHtcCRC8UQA2zLo+cPA1A4V3Ij9sjAkAzo1/E3ScLQIcD34g4+QtA",
          "dtype": "f8"
         },
         "yaxis": "y23"
        },
        {
         "marker": {
          "color": "green",
          "line": {
           "color": "black",
           "width": 1
          },
          "opacity": 0.8,
          "size": 6
         },
         "mode": "markers",
         "name": "Mean step frequency (Hz) vs Mean step velocity Y at swing - lHindpaw (m/s)",
         "showlegend": false,
         "type": "scatter",
         "x": {
          "bdata": "cLBgIj1Utj9lM9hW9Kq8PyhGtQxqU78/DycKPLoOwj+VqzRfsQS2P/v5dhNoY8c/nsB2UzMIwD+pdwpqhtm+P7qz3SCIi8U/gadXynIcxD9elYnMaxTCPy/bRj8w3r8/0rMeZoYGyz/HZ0K5A5rBP5PARnZbAcA//Ho+zGZDwj8oCnpEaPHBP31/7QAL18M/NiOkf9R9wD9IoooQr2+6PwDjOXWXKME/rB2e1+oluj+FlbwE5x7BPwZQ1JIvPbU/7+lri8O0vD+gAFx4PFC7PwFHw+wy878/yRJoYL5Fvj845D1dopXBP2u+G+8kE70/ZlJo5fuxvD8Gv7SO+FW8P45gxxW/g7s/uuAuOJ48wD8PL4Z7fHi3P/0dUD+PO8k/hSGyu/QBwT8UmPFWGd3CPyAbd5KXjbs/UYKLHs8ewj/7DVYfpYXDP7nk+zAIMMY/WZlR1VD8vj/VonscWLm7P6zTcaZoVbY/xTvmv41YrD+32JhkbcqnP+vw1p4DSKM/gOSTLkrfpz9jQkzmhj60P2eZIrKqFqo/UTluh2fYpD/GyEUYQMeiP4DRYwKAWKY/6yBd7T3Gpj/a4IrC1uunP/H4Us+PUaA/yjmnhNt1oT+5WTEDsBqiP2q5shPwvbM/Xb1qffIFtD848ChqnMKpPxisy3VfPK8/7MAzbdsApD9x0CPCDZihP3r55cEuH54/tZ8Ap6Z8qT9ind5O4pqwP58e9g188q4/hawd9klOqD/2AT5lP5utP62GM9rooaI/RMUa3NecrT+arVePY0axP3w81SpRea4/lqF8MG40qT+d25Phic6sP8m0HJjOCak/9zD4DMogrD+RWv226o+RPyjGyPKSkaQ/NjJaLIeZpj+jtreHfVShP01A3ofu3ag/vDmxXmlcnj+khHzQMwKtP8hJ80LchqU/+vKKPqtepj8q6uJjnP6nP5nHC6xod5Y/6pE6Ls/ArD+KtZ/cxHCqP8IFDRgiV6c/ptoU7jRmpD8l90KZFzuzP9OncUMzkrk/AdBBfVmQvD8ExDE2WcK3P3ATxzMykrg/bME14W6ctD+CsBx5oZnCP3yl0j6T6cI/HttvnfHftz8NuULJI2O2PxzPK08+h7w/vkz/J9MxwD9eBpBcOGy5P7wHg9wkD78/KEiXInFjwT/L8F+3dMiwP1t4pMx1XMA/2FisSuYOvz9+lzAoAHW3P+iWtTp2RMk/mdlipIR4wD/DveZCOh2zPyhUVyO9iLU/jfa6Zyq8vz/YtLpLd6jBP/Znw3qw9Lk/OJfjdigctD/52FIjJtS3P2ajPEuRXbk/GXf66H/qvz8ifrk7+CTDP8ERoMFs2r0/kxGUVY/hwj+Ni5ojlmy/P5r3hWHjerc/8MxqccNTwT9o7zNJZgjDP1JjNVZzTcQ/7Nwz6OOoyT+Ga+FyXf+8P0WWMGd+8bk/UukuiFgUwD+2XLtdArrGPwQUTdOfhrU/Y65WqIdUvD+z3ca/vI++P6XmaZ7mnbU/4tctNIoloz9GoaP8vzyzP81cw6Vgdq4/+DjMzTOztT9iWuX82w6nPwGPJSl8a6o/KEkApaN5sj9mwSSIGraoP/TOPxhs8K4/kHAm7C2ZrD/yOel0SYSkP8KWTG+QXaM/UWNZuKfooj8CIr1rVTmkP9e88uqHc68/VD9kgSB/sD9rHcqQe4OvP/xRAZCU/rM/X2XI7n0ElT9niqk1EcKoP/xGqWR0XLE/oKiemJFPtj+Shri/hGKqP2CXEbNKHKI/eMsfjs/7pD/9N2qfICupP3cd6RSPtag/oXGML4puqT/1T3j8Po+qP4uPtzQH1KE/2PVunZ6Yrj97yqIsSlyrPzCIx1kX/KE/a1XMPAT8sj+qz5G2AiKlP4DZ4qvvsaE/afeeIBJVoz8cq2vZmzmoP8qylLF/Zq4/fpTf2V/Upj+kADc+oi6jP1NL8I0geaI/EiqGevPrrT/bTi+c0GWtP7Uf//GfRq4/sGit+Kx3pD8mNQ6fLEirP9hy/5hV96g/eW8G6uAJqz8=",
          "dtype": "f8"
         },
         "xaxis": "x24",
         "y": {
          "bdata": "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",
          "dtype": "f8"
         },
         "yaxis": "y24"
        },
        {
         "marker": {
          "color": "yellow",
          "line": {
           "color": "black",
           "width": 1
          },
          "opacity": 0.7,
          "size": 6
         },
         "mode": "markers",
         "name": "Mean step frequency (Hz) vs Mean step velocity Y at swing - lHindpaw (m/s)",
         "showlegend": false,
         "type": "scatter",
         "x": {
          "bdata": "Nioz9RBPsT8o6t8Inbe6P7UMdqhoWYA/S4o/kr00vD/Gj4t7XjqgP+BaE0gEMX0/3C8xRsaQxT/hAsxZNoV7PxegWdNJ1cM/tDDixkY8xT+OY7fgx027P7m5r6lKJsE/oK5WqA+5iz89PrClIAyHPxCvBS4u7Vo/4NWlPoVnuz8phSk88xrHP/wpnnBarJI/rxOmHY+6oj+SfyOUUZRxP8+ap3maD5I/k4bZ1a+gwT+Ms7WaFLvCP6SUsX9hzJY/GcDT322Zbr/ppZbII8GUP/54H7qvu7c/4+YbBsN/nD9SGTkCYQbBP6rJPl1xPpY/JnXYcn+Diz8Oe4grZbPBP165WB5FQ4o/+jAveI6ioT99S7y61It1v4sl22MiSJM/9HSK2tvlnj8BycxiKRWOP48jGnEJa1E/rr1qbtzfmz/XhoIdyHWrP/CWdOadjoQ/tdo4UDk0uD+RDaTkul2WvwHdbbEd8aA/B80uGYzmrz8QlRPMIFekPzxT5IyvV6k/tMwgd3U0U78DHfTGWj50P5MkJA+/PY4/07nYQ1zVl7+NKR2+M56jP3eRK2fafrA/jUGez+OhvD94qDdfC7SJvz62tRM63J4/6eGQS8Njrz98yZ4mV3WhP3BgWU6UIqc/JiyxAeoKyD8cJoY9EiOFv0/I6juBOoM/nxgjy9MkyD+IzaQZh0bHP9S32SpIVbo/9XvRmj3QrD9uoI3FapuSP+oo8Gj1VoG/Hen49AXirz9yNEiDVO60P9giOFl368k/FJtgUfeniT8IpT95/itcvyA7JZEcBJo/mXdXG2bCiz9pVE7lVHqGP5ckh1HoXKs/dbus9EYswz+fTzowcDOVP4hFLBKFRYc/a9sKyXjLiD/9mUBPqoqWPwZ/jIy5m6g/YcpUlFbTtj//tZM0D0aKP64pB1rcscA/ydvL9+l1hr9Itm/Syv+RP7UL5VZvq4A/0Cd90k/csz+DStz3sKq1P/aXlphmzos/h5A5kunRqD+csHTctMCQPzaMg7r2lIc/cgr4mycCpT8qlPzMbCNhPwB09zLrnao/YqIZG0eZfT/NMtnyWXCIP/k6n5fqKnw/OW6hbywxsT+uGtxmUP+UP55HYOaZGpY/JjKaIAJPdz/vUm6MVH2jPzEWZVEW3pI/8suXIPr2tj/CP8u65nScP21GUFbdSrI/6EwaW6U2kz9GCp610rSCP9QsWKjEILc/bJc3mAgemT858m2XlaqDP9WP9R6CM5E/7ZP8j0vggT9P+Ley3p+yP9Kre4dEaXc/lQaa/Fgggj+T0I2do0iaP1IRb1fdDJY/",
          "dtype": "f8"
         },
         "xaxis": "x24",
         "y": {
          "bdata": "FM6cui65FECidGAYv14VQOPwSY90hRRA5PBZcN5ZFkDL8bjdWpgQQIjJ0cx3yBRAjxLtPQ3kGEAmykj+DLISQGy7I0wmYxZAAikqt4pvFkCi/BYEG/UXQN+ozSByjhZAp6pU7mfJEkAmUoDS60YWQHJwH8+Y9RFAuCJIaSb4E0CrUSl2oagZQL4s++DqNw5A57nX5dFVEUB8Hl9XkNQWQD6DbqN/FAVA8x+EOyYeFUBRQFnyz7MVQJxbRXNBEBZAHJeR3lBqEUATrZpJ44cWQB2xgs+ExxJAIKfYu+uTFUBji7uamOwYQCQvr0bdjBdAy2KYsJ/SEkB0RObNgsUUQLczoh+JsgpAgjlixYsNHkDJnlqru4MIQLDMV/WxRhJAvf/X323LDkC5q9GwpicSQJA9/GJWAwtAhDjlHbsyEUAZZp9R8UoSQHXEcsnwUQtA6HbEuFjkEkA7bRvUtkH9P5fqITja8wpA00lvJ4uPFEBLh9ne3A4ZQJAubiIhSBNA8Q94gJmlFEAzbjbEcfMNQNudSHXixe8/J6+hvIbyFEAEtWc9Q8sQQBu0wFe9gBJAW3/XrBgvGUChC8TIPqwEQMrbjBNs3gtAtfhKMVTJEEB0XglbGIsOQCFYlk0HVhFAuIVWQFGvF0DJPEmJseMQQGmU+BklDilAXu+7kxUXGECcdImfuBQYQHKg1UJA+RZAgtS0OPVzFUADo+Vaie4UQOUbWa00XwNALqYDgDRzFEAI+4L+YxsTQKkG89fXRBtAh99hCiYnCECqbYBiqzMEQK/mMV6krRBA0mJsGZIBEUCpzF4ENnITQG9Dr/5SQAlACHiiUfviFkBpvr3MU/ARQBmGlHOU2BJAtTeGRiE9FEBBCq8rmQERQC4exoh0+BBAXI8dHHL/E0CtZ9IVXy8RQHtEUlp1aRtAtVKtUAnKCED9nY3u3RIVQCo4WXtKARdA2W69C/5AE0BmS5XQ+NoUQNvpZ6/JSQdA/fJP3u6eEkCENIoxj/cEQKuEORBSPw1AcAzuTzVkEUCGlCABdgUTQGcmJrjMVBFA5gEHaafCDkBUE1yFyssQQBzC3RkazBBAMT1NDjIoE0DTkbJ41W8TQLsM7fnmoxZA/p4FFG4zCkBZGdA+NQcUQK8cn1XcPxNAD3HBJZ2XGEDbFN960mYJQFdu8yYvihNAST0dLsdTEUDc0+VyZFMMQL++hU6aGhZAY0GuPaLPCUAjg2Rr48kOQP1uMi6/9gdA7Yd7l7EjC0BLHtcCRC8UQA2zLo+cPA1A4V3Ij9sjAkAzo1/E3ScLQIcD34g4+QtA",
          "dtype": "f8"
         },
         "yaxis": "y24"
        }
       ],
       "layout": {
        "height": 1800,
        "template": {
         "data": {
          "bar": [
           {
            "error_x": {
             "color": "#2a3f5f"
            },
            "error_y": {
             "color": "#2a3f5f"
            },
            "marker": {
             "line": {
              "color": "white",
              "width": 0.5
             },
             "pattern": {
              "fillmode": "overlay",
              "size": 10,
              "solidity": 0.2
             }
            },
            "type": "bar"
           }
          ],
          "barpolar": [
           {
            "marker": {
             "line": {
              "color": "white",
              "width": 0.5
             },
             "pattern": {
              "fillmode": "overlay",
              "size": 10,
              "solidity": 0.2
             }
            },
            "type": "barpolar"
           }
          ],
          "carpet": [
           {
            "aaxis": {
             "endlinecolor": "#2a3f5f",
             "gridcolor": "#C8D4E3",
             "linecolor": "#C8D4E3",
             "minorgridcolor": "#C8D4E3",
             "startlinecolor": "#2a3f5f"
            },
            "baxis": {
             "endlinecolor": "#2a3f5f",
             "gridcolor": "#C8D4E3",
             "linecolor": "#C8D4E3",
             "minorgridcolor": "#C8D4E3",
             "startlinecolor": "#2a3f5f"
            },
            "type": "carpet"
           }
          ],
          "choropleth": [
           {
            "colorbar": {
             "outlinewidth": 0,
             "ticks": ""
            },
            "type": "choropleth"
           }
          ],
          "contour": [
           {
            "colorbar": {
             "outlinewidth": 0,
             "ticks": ""
            },
            "colorscale": [
             [
              0,
              "#0d0887"
             ],
             [
              0.1111111111111111,
              "#46039f"
             ],
             [
              0.2222222222222222,
              "#7201a8"
             ],
             [
              0.3333333333333333,
              "#9c179e"
             ],
             [
              0.4444444444444444,
              "#bd3786"
             ],
             [
              0.5555555555555556,
              "#d8576b"
             ],
             [
              0.6666666666666666,
              "#ed7953"
             ],
             [
              0.7777777777777778,
              "#fb9f3a"
             ],
             [
              0.8888888888888888,
              "#fdca26"
             ],
             [
              1,
              "#f0f921"
             ]
            ],
            "type": "contour"
           }
          ],
          "contourcarpet": [
           {
            "colorbar": {
             "outlinewidth": 0,
             "ticks": ""
            },
            "type": "contourcarpet"
           }
          ],
          "heatmap": [
           {
            "colorbar": {
             "outlinewidth": 0,
             "ticks": ""
            },
            "colorscale": [
             [
              0,
              "#0d0887"
             ],
             [
              0.1111111111111111,
              "#46039f"
             ],
             [
              0.2222222222222222,
              "#7201a8"
             ],
             [
              0.3333333333333333,
              "#9c179e"
             ],
             [
              0.4444444444444444,
              "#bd3786"
             ],
             [
              0.5555555555555556,
              "#d8576b"
             ],
             [
              0.6666666666666666,
              "#ed7953"
             ],
             [
              0.7777777777777778,
              "#fb9f3a"
             ],
             [
              0.8888888888888888,
              "#fdca26"
             ],
             [
              1,
              "#f0f921"
             ]
            ],
            "type": "heatmap"
           }
          ],
          "histogram": [
           {
            "marker": {
             "pattern": {
              "fillmode": "overlay",
              "size": 10,
              "solidity": 0.2
             }
            },
            "type": "histogram"
           }
          ],
          "histogram2d": [
           {
            "colorbar": {
             "outlinewidth": 0,
             "ticks": ""
            },
            "colorscale": [
             [
              0,
              "#0d0887"
             ],
             [
              0.1111111111111111,
              "#46039f"
             ],
             [
              0.2222222222222222,
              "#7201a8"
             ],
             [
              0.3333333333333333,
              "#9c179e"
             ],
             [
              0.4444444444444444,
              "#bd3786"
             ],
             [
              0.5555555555555556,
              "#d8576b"
             ],
             [
              0.6666666666666666,
              "#ed7953"
             ],
             [
              0.7777777777777778,
              "#fb9f3a"
             ],
             [
              0.8888888888888888,
              "#fdca26"
             ],
             [
              1,
              "#f0f921"
             ]
            ],
            "type": "histogram2d"
           }
          ],
          "histogram2dcontour": [
           {
            "colorbar": {
             "outlinewidth": 0,
             "ticks": ""
            },
            "colorscale": [
             [
              0,
              "#0d0887"
             ],
             [
              0.1111111111111111,
              "#46039f"
             ],
             [
              0.2222222222222222,
              "#7201a8"
             ],
             [
              0.3333333333333333,
              "#9c179e"
             ],
             [
              0.4444444444444444,
              "#bd3786"
             ],
             [
              0.5555555555555556,
              "#d8576b"
             ],
             [
              0.6666666666666666,
              "#ed7953"
             ],
             [
              0.7777777777777778,
              "#fb9f3a"
             ],
             [
              0.8888888888888888,
              "#fdca26"
             ],
             [
              1,
              "#f0f921"
             ]
            ],
            "type": "histogram2dcontour"
           }
          ],
          "mesh3d": [
           {
            "colorbar": {
             "outlinewidth": 0,
             "ticks": ""
            },
            "type": "mesh3d"
           }
          ],
          "parcoords": [
           {
            "line": {
             "colorbar": {
              "outlinewidth": 0,
              "ticks": ""
             }
            },
            "type": "parcoords"
           }
          ],
          "pie": [
           {
            "automargin": true,
            "type": "pie"
           }
          ],
          "scatter": [
           {
            "fillpattern": {
             "fillmode": "overlay",
             "size": 10,
             "solidity": 0.2
            },
            "type": "scatter"
           }
          ],
          "scatter3d": [
           {
            "line": {
             "colorbar": {
              "outlinewidth": 0,
              "ticks": ""
             }
            },
            "marker": {
             "colorbar": {
              "outlinewidth": 0,
              "ticks": ""
             }
            },
            "type": "scatter3d"
           }
          ],
          "scattercarpet": [
           {
            "marker": {
             "colorbar": {
              "outlinewidth": 0,
              "ticks": ""
             }
            },
            "type": "scattercarpet"
           }
          ],
          "scattergeo": [
           {
            "marker": {
             "colorbar": {
              "outlinewidth": 0,
              "ticks": ""
             }
            },
            "type": "scattergeo"
           }
          ],
          "scattergl": [
           {
            "marker": {
             "colorbar": {
              "outlinewidth": 0,
              "ticks": ""
             }
            },
            "type": "scattergl"
           }
          ],
          "scattermap": [
           {
            "marker": {
             "colorbar": {
              "outlinewidth": 0,
              "ticks": ""
             }
            },
            "type": "scattermap"
           }
          ],
          "scattermapbox": [
           {
            "marker": {
             "colorbar": {
              "outlinewidth": 0,
              "ticks": ""
             }
            },
            "type": "scattermapbox"
           }
          ],
          "scatterpolar": [
           {
            "marker": {
             "colorbar": {
              "outlinewidth": 0,
              "ticks": ""
             }
            },
            "type": "scatterpolar"
           }
          ],
          "scatterpolargl": [
           {
            "marker": {
             "colorbar": {
              "outlinewidth": 0,
              "ticks": ""
             }
            },
            "type": "scatterpolargl"
           }
          ],
          "scatterternary": [
           {
            "marker": {
             "colorbar": {
              "outlinewidth": 0,
              "ticks": ""
             }
            },
            "type": "scatterternary"
           }
          ],
          "surface": [
           {
            "colorbar": {
             "outlinewidth": 0,
             "ticks": ""
            },
            "colorscale": [
             [
              0,
              "#0d0887"
             ],
             [
              0.1111111111111111,
              "#46039f"
             ],
             [
              0.2222222222222222,
              "#7201a8"
             ],
             [
              0.3333333333333333,
              "#9c179e"
             ],
             [
              0.4444444444444444,
              "#bd3786"
             ],
             [
              0.5555555555555556,
              "#d8576b"
             ],
             [
              0.6666666666666666,
              "#ed7953"
             ],
             [
              0.7777777777777778,
              "#fb9f3a"
             ],
             [
              0.8888888888888888,
              "#fdca26"
             ],
             [
              1,
              "#f0f921"
             ]
            ],
            "type": "surface"
           }
          ],
          "table": [
           {
            "cells": {
             "fill": {
              "color": "#EBF0F8"
             },
             "line": {
              "color": "white"
             }
            },
            "header": {
             "fill": {
              "color": "#C8D4E3"
             },
             "line": {
              "color": "white"
             }
            },
            "type": "table"
           }
          ]
         },
         "layout": {
          "annotationdefaults": {
           "arrowcolor": "#2a3f5f",
           "arrowhead": 0,
           "arrowwidth": 1
          },
          "autotypenumbers": "strict",
          "coloraxis": {
           "colorbar": {
            "outlinewidth": 0,
            "ticks": ""
           }
          },
          "colorscale": {
           "diverging": [
            [
             0,
             "#8e0152"
            ],
            [
             0.1,
             "#c51b7d"
            ],
            [
             0.2,
             "#de77ae"
            ],
            [
             0.3,
             "#f1b6da"
            ],
            [
             0.4,
             "#fde0ef"
            ],
            [
             0.5,
             "#f7f7f7"
            ],
            [
             0.6,
             "#e6f5d0"
            ],
            [
             0.7,
             "#b8e186"
            ],
            [
             0.8,
             "#7fbc41"
            ],
            [
             0.9,
             "#4d9221"
            ],
            [
             1,
             "#276419"
            ]
           ],
           "sequential": [
            [
             0,
             "#0d0887"
            ],
            [
             0.1111111111111111,
             "#46039f"
            ],
            [
             0.2222222222222222,
             "#7201a8"
            ],
            [
             0.3333333333333333,
             "#9c179e"
            ],
            [
             0.4444444444444444,
             "#bd3786"
            ],
            [
             0.5555555555555556,
             "#d8576b"
            ],
            [
             0.6666666666666666,
             "#ed7953"
            ],
            [
             0.7777777777777778,
             "#fb9f3a"
            ],
            [
             0.8888888888888888,
             "#fdca26"
            ],
            [
             1,
             "#f0f921"
            ]
           ],
           "sequentialminus": [
            [
             0,
             "#0d0887"
            ],
            [
             0.1111111111111111,
             "#46039f"
            ],
            [
             0.2222222222222222,
             "#7201a8"
            ],
            [
             0.3333333333333333,
             "#9c179e"
            ],
            [
             0.4444444444444444,
             "#bd3786"
            ],
            [
             0.5555555555555556,
             "#d8576b"
            ],
            [
             0.6666666666666666,
             "#ed7953"
            ],
            [
             0.7777777777777778,
             "#fb9f3a"
            ],
            [
             0.8888888888888888,
             "#fdca26"
            ],
            [
             1,
             "#f0f921"
            ]
           ]
          },
          "colorway": [
           "#636efa",
           "#EF553B",
           "#00cc96",
           "#ab63fa",
           "#FFA15A",
           "#19d3f3",
           "#FF6692",
           "#B6E880",
           "#FF97FF",
           "#FECB52"
          ],
          "font": {
           "color": "#2a3f5f"
          },
          "geo": {
           "bgcolor": "white",
           "lakecolor": "white",
           "landcolor": "white",
           "showlakes": true,
           "showland": true,
           "subunitcolor": "#C8D4E3"
          },
          "hoverlabel": {
           "align": "left"
          },
          "hovermode": "closest",
          "mapbox": {
           "style": "light"
          },
          "paper_bgcolor": "white",
          "plot_bgcolor": "white",
          "polar": {
           "angularaxis": {
            "gridcolor": "#EBF0F8",
            "linecolor": "#EBF0F8",
            "ticks": ""
           },
           "bgcolor": "white",
           "radialaxis": {
            "gridcolor": "#EBF0F8",
            "linecolor": "#EBF0F8",
            "ticks": ""
           }
          },
          "scene": {
           "xaxis": {
            "backgroundcolor": "white",
            "gridcolor": "#DFE8F3",
            "gridwidth": 2,
            "linecolor": "#EBF0F8",
            "showbackground": true,
            "ticks": "",
            "zerolinecolor": "#EBF0F8"
           },
           "yaxis": {
            "backgroundcolor": "white",
            "gridcolor": "#DFE8F3",
            "gridwidth": 2,
            "linecolor": "#EBF0F8",
            "showbackground": true,
            "ticks": "",
            "zerolinecolor": "#EBF0F8"
           },
           "zaxis": {
            "backgroundcolor": "white",
            "gridcolor": "#DFE8F3",
            "gridwidth": 2,
            "linecolor": "#EBF0F8",
            "showbackground": true,
            "ticks": "",
            "zerolinecolor": "#EBF0F8"
           }
          },
          "shapedefaults": {
           "line": {
            "color": "#2a3f5f"
           }
          },
          "ternary": {
           "aaxis": {
            "gridcolor": "#DFE8F3",
            "linecolor": "#A2B1C6",
            "ticks": ""
           },
           "baxis": {
            "gridcolor": "#DFE8F3",
            "linecolor": "#A2B1C6",
            "ticks": ""
           },
           "bgcolor": "white",
           "caxis": {
            "gridcolor": "#DFE8F3",
            "linecolor": "#A2B1C6",
            "ticks": ""
           }
          },
          "title": {
           "x": 0.05
          },
          "xaxis": {
           "automargin": true,
           "gridcolor": "#EBF0F8",
           "linecolor": "#EBF0F8",
           "ticks": "",
           "title": {
            "standoff": 15
           },
           "zerolinecolor": "#EBF0F8",
           "zerolinewidth": 2
          },
          "yaxis": {
           "automargin": true,
           "gridcolor": "#EBF0F8",
           "linecolor": "#EBF0F8",
           "ticks": "",
           "title": {
            "standoff": 15
           },
           "zerolinecolor": "#EBF0F8",
           "zerolinewidth": 2
          }
         }
        },
        "title": {
         "text": "Healthy Mean Features: Step Features vs Velocity Features"
        },
        "width": 1400,
        "xaxis": {
         "anchor": "y",
         "domain": [
          0,
          0.2125
         ],
         "title": {
          "text": "Mean step velocity X at stance - lHindpaw (m/s)"
         }
        },
        "xaxis10": {
         "anchor": "y10",
         "domain": [
          0.2625,
          0.475
         ],
         "title": {
          "text": "Mean step velocity Y at stance - lHindpaw (m/s)"
         }
        },
        "xaxis11": {
         "anchor": "y11",
         "domain": [
          0.525,
          0.7375
         ],
         "title": {
          "text": "Mean step velocity X at swing - lHindpaw (m/s)"
         }
        },
        "xaxis12": {
         "anchor": "y12",
         "domain": [
          0.7875,
          1
         ],
         "title": {
          "text": "Mean step velocity Y at swing - lHindpaw (m/s)"
         }
        },
        "xaxis13": {
         "anchor": "y13",
         "domain": [
          0,
          0.2125
         ],
         "title": {
          "text": "Mean step velocity X at stance - lHindpaw (m/s)"
         }
        },
        "xaxis14": {
         "anchor": "y14",
         "domain": [
          0.2625,
          0.475
         ],
         "title": {
          "text": "Mean step velocity Y at stance - lHindpaw (m/s)"
         }
        },
        "xaxis15": {
         "anchor": "y15",
         "domain": [
          0.525,
          0.7375
         ],
         "title": {
          "text": "Mean step velocity X at swing - lHindpaw (m/s)"
         }
        },
        "xaxis16": {
         "anchor": "y16",
         "domain": [
          0.7875,
          1
         ],
         "title": {
          "text": "Mean step velocity Y at swing - lHindpaw (m/s)"
         }
        },
        "xaxis17": {
         "anchor": "y17",
         "domain": [
          0,
          0.2125
         ],
         "title": {
          "text": "Mean step velocity X at stance - lHindpaw (m/s)"
         }
        },
        "xaxis18": {
         "anchor": "y18",
         "domain": [
          0.2625,
          0.475
         ],
         "title": {
          "text": "Mean step velocity Y at stance - lHindpaw (m/s)"
         }
        },
        "xaxis19": {
         "anchor": "y19",
         "domain": [
          0.525,
          0.7375
         ],
         "title": {
          "text": "Mean step velocity X at swing - lHindpaw (m/s)"
         }
        },
        "xaxis2": {
         "anchor": "y2",
         "domain": [
          0.2625,
          0.475
         ],
         "title": {
          "text": "Mean step velocity Y at stance - lHindpaw (m/s)"
         }
        },
        "xaxis20": {
         "anchor": "y20",
         "domain": [
          0.7875,
          1
         ],
         "title": {
          "text": "Mean step velocity Y at swing - lHindpaw (m/s)"
         }
        },
        "xaxis21": {
         "anchor": "y21",
         "domain": [
          0,
          0.2125
         ],
         "title": {
          "text": "Mean step velocity X at stance - lHindpaw (m/s)"
         }
        },
        "xaxis22": {
         "anchor": "y22",
         "domain": [
          0.2625,
          0.475
         ],
         "title": {
          "text": "Mean step velocity Y at stance - lHindpaw (m/s)"
         }
        },
        "xaxis23": {
         "anchor": "y23",
         "domain": [
          0.525,
          0.7375
         ],
         "title": {
          "text": "Mean step velocity X at swing - lHindpaw (m/s)"
         }
        },
        "xaxis24": {
         "anchor": "y24",
         "domain": [
          0.7875,
          1
         ],
         "title": {
          "text": "Mean step velocity Y at swing - lHindpaw (m/s)"
         }
        },
        "xaxis3": {
         "anchor": "y3",
         "domain": [
          0.525,
          0.7375
         ],
         "title": {
          "text": "Mean step velocity X at swing - lHindpaw (m/s)"
         }
        },
        "xaxis4": {
         "anchor": "y4",
         "domain": [
          0.7875,
          1
         ],
         "title": {
          "text": "Mean step velocity Y at swing - lHindpaw (m/s)"
         }
        },
        "xaxis5": {
         "anchor": "y5",
         "domain": [
          0,
          0.2125
         ],
         "title": {
          "text": "Mean step velocity X at stance - lHindpaw (m/s)"
         }
        },
        "xaxis6": {
         "anchor": "y6",
         "domain": [
          0.2625,
          0.475
         ],
         "title": {
          "text": "Mean step velocity Y at stance - lHindpaw (m/s)"
         }
        },
        "xaxis7": {
         "anchor": "y7",
         "domain": [
          0.525,
          0.7375
         ],
         "title": {
          "text": "Mean step velocity X at swing - lHindpaw (m/s)"
         }
        },
        "xaxis8": {
         "anchor": "y8",
         "domain": [
          0.7875,
          1
         ],
         "title": {
          "text": "Mean step velocity Y at swing - lHindpaw (m/s)"
         }
        },
        "xaxis9": {
         "anchor": "y9",
         "domain": [
          0,
          0.2125
         ],
         "title": {
          "text": "Mean step velocity X at stance - lHindpaw (m/s)"
         }
        },
        "yaxis": {
         "anchor": "x",
         "domain": [
          0.8999999999999999,
          0.9999999999999999
         ],
         "title": {
          "text": "Mean step height (m)"
         }
        },
        "yaxis10": {
         "anchor": "x10",
         "domain": [
          0.54,
          0.64
         ],
         "title": {
          "text": "Mean step duration (s)"
         }
        },
        "yaxis11": {
         "anchor": "x11",
         "domain": [
          0.54,
          0.64
         ],
         "title": {
          "text": "Mean step duration (s)"
         }
        },
        "yaxis12": {
         "anchor": "x12",
         "domain": [
          0.54,
          0.64
         ],
         "title": {
          "text": "Mean step duration (s)"
         }
        },
        "yaxis13": {
         "anchor": "x13",
         "domain": [
          0.36,
          0.45999999999999996
         ],
         "title": {
          "text": "Mean swing duration (s)"
         }
        },
        "yaxis14": {
         "anchor": "x14",
         "domain": [
          0.36,
          0.45999999999999996
         ],
         "title": {
          "text": "Mean swing duration (s)"
         }
        },
        "yaxis15": {
         "anchor": "x15",
         "domain": [
          0.36,
          0.45999999999999996
         ],
         "title": {
          "text": "Mean swing duration (s)"
         }
        },
        "yaxis16": {
         "anchor": "x16",
         "domain": [
          0.36,
          0.45999999999999996
         ],
         "title": {
          "text": "Mean swing duration (s)"
         }
        },
        "yaxis17": {
         "anchor": "x17",
         "domain": [
          0.18,
          0.27999999999999997
         ],
         "title": {
          "text": "Mean stance duration (s)"
         }
        },
        "yaxis18": {
         "anchor": "x18",
         "domain": [
          0.18,
          0.27999999999999997
         ],
         "title": {
          "text": "Mean stance duration (s)"
         }
        },
        "yaxis19": {
         "anchor": "x19",
         "domain": [
          0.18,
          0.27999999999999997
         ],
         "title": {
          "text": "Mean stance duration (s)"
         }
        },
        "yaxis2": {
         "anchor": "x2",
         "domain": [
          0.8999999999999999,
          0.9999999999999999
         ],
         "title": {
          "text": "Mean step height (m)"
         }
        },
        "yaxis20": {
         "anchor": "x20",
         "domain": [
          0.18,
          0.27999999999999997
         ],
         "title": {
          "text": "Mean stance duration (s)"
         }
        },
        "yaxis21": {
         "anchor": "x21",
         "domain": [
          0,
          0.09999999999999999
         ],
         "title": {
          "text": "Mean step frequency (Hz)"
         }
        },
        "yaxis22": {
         "anchor": "x22",
         "domain": [
          0,
          0.09999999999999999
         ],
         "title": {
          "text": "Mean step frequency (Hz)"
         }
        },
        "yaxis23": {
         "anchor": "x23",
         "domain": [
          0,
          0.09999999999999999
         ],
         "title": {
          "text": "Mean step frequency (Hz)"
         }
        },
        "yaxis24": {
         "anchor": "x24",
         "domain": [
          0,
          0.09999999999999999
         ],
         "title": {
          "text": "Mean step frequency (Hz)"
         }
        },
        "yaxis3": {
         "anchor": "x3",
         "domain": [
          0.8999999999999999,
          0.9999999999999999
         ],
         "title": {
          "text": "Mean step height (m)"
         }
        },
        "yaxis4": {
         "anchor": "x4",
         "domain": [
          0.8999999999999999,
          0.9999999999999999
         ],
         "title": {
          "text": "Mean step height (m)"
         }
        },
        "yaxis5": {
         "anchor": "x5",
         "domain": [
          0.72,
          0.82
         ],
         "title": {
          "text": "Mean step length (m)"
         }
        },
        "yaxis6": {
         "anchor": "x6",
         "domain": [
          0.72,
          0.82
         ],
         "title": {
          "text": "Mean step length (m)"
         }
        },
        "yaxis7": {
         "anchor": "x7",
         "domain": [
          0.72,
          0.82
         ],
         "title": {
          "text": "Mean step length (m)"
         }
        },
        "yaxis8": {
         "anchor": "x8",
         "domain": [
          0.72,
          0.82
         ],
         "title": {
          "text": "Mean step length (m)"
         }
        },
        "yaxis9": {
         "anchor": "x9",
         "domain": [
          0.54,
          0.64
         ],
         "title": {
          "text": "Mean step duration (s)"
         }
        }
       }
      }
     },
     "metadata": {},
     "output_type": "display_data"
    }
   ],
   "source": [
    "## Plot features against velocity\n",
    "from plotly.subplots import make_subplots\n",
    "\n",
    "## Check step features vs velocity \n",
    "features_to_check = ('Mean step height (m)', 'Mean step length (m)', 'Mean step duration (s)', 'Mean swing duration (s)', 'Mean stance duration (s)', 'Mean step frequency (Hz)')\n",
    "features_to_check_against = ('Mean step velocity X at stance - lHindpaw (m/s)', 'Mean step velocity Y at stance - lHindpaw (m/s)', 'Mean step velocity X at swing - lHindpaw (m/s)', 'Mean step velocity Y at swing - lHindpaw (m/s)')\n",
    "\n",
    "## Load the mean features\n",
    "mean_features_df = pd.read_csv(MEAN_FEATURES_FILE)\n",
    "healthy_mean_features = mean_features_df[mean_features_df['Dataset'].str.lower().str.contains(HEALTHY_KEY.lower())]\n",
    "sick_mean_features = mean_features_df[mean_features_df['Dataset'].str.lower().str.contains(SICK_KEY.lower())]\n",
    "print(f\"Healthy mean features shape: {healthy_mean_features.shape}\\nSick mean features shape: {sick_mean_features.shape}\")\n",
    "\n",
    "# Prepare subplots: rows = len(features_to_check), cols = len(features_to_check_against)\n",
    "fig = make_subplots(\n",
    "    rows=len(features_to_check), \n",
    "    cols=len(features_to_check_against),\n",
    "    # subplot_titles=[\n",
    "    #     f\"{y} vs {x}\" for y in features_to_check for x in features_to_check_against\n",
    "    # ],\n",
    "    horizontal_spacing=0.05,\n",
    "    vertical_spacing=0.08,\n",
    "    print_grid=False\n",
    ")\n",
    "\n",
    "for i, y_feat in enumerate(features_to_check):\n",
    "    for j, x_feat in enumerate(features_to_check_against):\n",
    "        if x_feat in healthy_mean_features.columns and y_feat in healthy_mean_features.columns:\n",
    "            fig.add_trace(\n",
    "                go.Scatter(\n",
    "                    x=healthy_mean_features[x_feat],\n",
    "                    y=healthy_mean_features[y_feat],\n",
    "                    mode='markers',\n",
    "                    marker=dict(size=SCATTER_SIZE, color='green', opacity=0.8, line=dict(width=SCATTER_LINE_WIDTH, color='black')),\n",
    "                    name=f\"{y_feat} vs {x_feat}\",\n",
    "                    showlegend=False\n",
    "                ),\n",
    "                row=i+1, col=j+1\n",
    "            )\n",
    "            fig.add_trace(\n",
    "                go.Scatter(\n",
    "                    x=sick_mean_features[x_feat],\n",
    "                    y=sick_mean_features[y_feat],\n",
    "                    mode='markers',\n",
    "                    marker=dict(size=SCATTER_SIZE, color='yellow', opacity=0.7, line=dict(width=SCATTER_LINE_WIDTH, color='black')),\n",
    "                    name=f\"{y_feat} vs {x_feat}\",\n",
    "                    showlegend=False\n",
    "                ),\n",
    "                row=i+1, col=j+1\n",
    "            )\n",
    "        fig.update_xaxes(title_text=x_feat, row=i+1, col=j+1)\n",
    "        fig.update_yaxes(title_text=y_feat, row=i+1, col=j+1)\n",
    "\n",
    "fig.update_layout(\n",
    "    height=300*len(features_to_check), \n",
    "    width=350*len(features_to_check_against),\n",
    "    title_text=\"Healthy Mean Features: Step Features vs Velocity Features\",\n",
    "    template=\"plotly_white\"\n",
    ")\n",
    "fig.show()"
   ]
  },
  {
   "cell_type": "code",
   "execution_count": null,
   "id": "279ef278",
   "metadata": {},
   "outputs": [],
   "source": [
    "### Training block\n",
    "model = None\n",
    "if BEST_MODEL_PATH:\n",
    "    model = load_model(model_path=BEST_MODEL_PATH, input_dim=INPUT_DIM, hidden_dim=HIDDEN_DIM, latent_dim=LATENT_DIM)\n",
    "    load_and_plot_losses(losses_file=BEST_LOSS_PATH,\n",
    "                        title_font_size=TITLE_FONT_SIZE,\n",
    "                        axis_title_font_size=AXIS_TITLE_FONT_SIZE,\n",
    "                        legend_font_size=LEGEND_FONT_SIZE)\n",
    "else:\n",
    "    model, train_losses, val_losses = train_model(\n",
    "        step_tensor=step_tensor,\n",
    "        lengths=lengths,\n",
    "        input_dim=INPUT_DIM,\n",
    "        hidden_dim=HIDDEN_DIM,\n",
    "        latent_dim=LATENT_DIM,\n",
    "        batch_size=BATCH_SIZE,\n",
    "        num_epochs=NUM_EPOCHS,\n",
    "        lr=LR,\n",
    "        patience=PATIENCE,\n",
    "        min_delta=MIN_DELTA,\n",
    "        models_dir=MODELS_DIR\n",
    "    )\n",
    "    save_model_losses(train_losses, val_losses, figures_dir=FIGURES_DIR,\n",
    "                        title_font_size=TITLE_FONT_SIZE,\n",
    "                        axis_title_font_size=AXIS_FONT_SIZE,\n",
    "                        legend_font_size=LEGEND_FONT_SIZE)\n",
    "\n",
    "assert model is not None, \"Model training failed or no model was loaded.\""
   ]
  },
  {
   "cell_type": "code",
   "execution_count": null,
   "id": "5c794d2b",
   "metadata": {},
   "outputs": [],
   "source": [
    "### Evaluate the model on pathological steps\n",
    "selected_steps = [\n",
    "    s for s in segmented_hindsteps \n",
    "    if SIDE_KEY[0] in s[\"mouse\"] \n",
    "]\n",
    "\n",
    "step_tensor_all, lengths_all = steps_to_tensor(selected_steps, scaler)\n",
    "\n",
    "## Get all embeddings for selected steps\n",
    "model.eval()\n",
    "with torch.no_grad():\n",
    "    x_hat, mu_t, logvar_t  = model(step_tensor_all, lengths_all)  # (B, T, F), (B, T, L), (B, T, L)\n",
    "    z_summary = mu_t.mean(dim=1)  # → shape: (B, L)\n",
    "\n",
    "reducer = UMAP(random_state=42, n_components=3)\n",
    "embedding = reducer.fit_transform(z_summary.cpu().numpy())  # shape: (B, 3)\n",
    "\n",
    "# Convert each step’s latent sequence to list of (T_i, L)\n",
    "# mu_t_masked = [\n",
    "#     mu_t[i, :lengths_all[i]].cpu().numpy()  # shape: (T_i, L)\n",
    "#     for i in range(mu_t.shape[0])\n",
    "# ]\n",
    "\n",
    "# Stack all latent vectors across all steps\n",
    "# all_latents = np.concatenate(mu_t_masked, axis=0)  # shape: (sum of T_i, L)\n",
    "\n",
    "# # Fit UMAP\n",
    "# umap_coords = UMAP(n_components=3, random_state=42).fit_transform(all_latents)\n",
    "\n",
    "# ## Now split the coordinates back by original steps\n",
    "# # for each step, have all the umap coordinates\n",
    "# umap_split = []\n",
    "# idx = 0\n",
    "# for i in range(len(mu_t_masked)):\n",
    "#     length = mu_t_masked[i].shape[0]\n",
    "#     umap_split.append(umap_coords[idx:idx + length])  # shape: (T_i, 3)\n",
    "#     idx += length"
   ]
  },
  {
   "cell_type": "code",
   "execution_count": null,
   "id": "fb707f8c",
   "metadata": {},
   "outputs": [],
   "source": [
    "datasets = sorted(set(s[\"group\"] for s in selected_steps))\n",
    "color_map = {ds: color for ds, color in zip(datasets, plotly.colors.qualitative.Plotly)}\n",
    "# if pre is in group, use the first color, otherwise use the second color\n",
    "for i, ds in enumerate(datasets):\n",
    "    if HEALTHY_KEY in ds:\n",
    "        color_map[ds] = plotly.colors.qualitative.Plotly[0]\n",
    "    else:\n",
    "        color_map[ds] = plotly.colors.qualitative.Plotly[1]\n",
    "\n",
    "fig = go.Figure()\n",
    "legend_shown = defaultdict(bool)\n",
    "\n",
    "for i, (x, y, z) in enumerate(embedding):\n",
    "    step_meta = selected_steps[i]\n",
    "    dataset = step_meta[\"group\"]\n",
    "    mouse = step_meta[\"mouse\"]\n",
    "    run = step_meta[\"run\"]\n",
    "    color = color_map.get(dataset, \"gray\")\n",
    "    show_legend = not legend_shown[dataset]\n",
    "    legend_shown[dataset] = True\n",
    "\n",
    "    fig.add_trace(go.Scatter3d(\n",
    "        x=[x], y=[y], z=[z],\n",
    "        mode='markers',\n",
    "        name=dataset if show_legend else None,\n",
    "        legendgroup=dataset,\n",
    "        showlegend=show_legend,\n",
    "        marker=dict(size=SCATTER_SIZE, color=color, line=dict(width=SCATTER_LINE_WIDTH, color='black')),\n",
    "        hoverinfo='text',\n",
    "        text=[f\"{dataset} | {mouse} | run={run}\"]\n",
    "    ))\n",
    "\n",
    "fig.update_layout(\n",
    "    title=\"Latent Trajectories Over Time by Dataset\",\n",
    "    scene=dict(\n",
    "        xaxis_title='UMAP1',\n",
    "        yaxis_title='UMAP2',\n",
    "        zaxis_title='UMAP3'\n",
    "    ),\n",
    "    legend=dict(title=\"Dataset\"),\n",
    "    width=900,\n",
    "    height=700,\n",
    "    template='plotly_white'\n",
    ")\n",
    "\n",
    "fig.show()"
   ]
  },
  {
   "cell_type": "code",
   "execution_count": null,
   "id": "5999adf2",
   "metadata": {},
   "outputs": [],
   "source": [
    "## TODO: make the 3D plot with trajectories for both pre and post sci\n",
    "sample_idx = torch.randperm(mu_t.shape[0])[:100]\n",
    "mu_t_sample = mu_t[sample_idx]\n",
    "lengths_sample = lengths_all[sample_idx]\n",
    "selected_sample = [selected_steps[i] for i in sample_idx.tolist()]\n",
    "\n",
    "mu_t = mu_t_sample\n",
    "\n",
    "B, T, L = mu_t.shape\n",
    "\n",
    "# Flatten all time steps for UMAP\n",
    "mu_t_flat = mu_t.reshape(-1, L).cpu().numpy()  # (B*T, L)\n",
    "\n",
    "# Reduce L → 3 using UMAP\n",
    "embedding_flat = reducer.fit_transform(mu_t_flat)  # (B*T, 3)\n",
    "\n",
    "# Reshape embedding back to (B, T, 3)\n",
    "embedding_3d = embedding_flat.reshape(B, T, 3)\n",
    "\n",
    "print(\"Moving to 3D plotting...\")\n",
    "\n",
    "# Plot each step as a 3D trajectory\n",
    "fig = go.Figure()\n",
    "legend_shown = defaultdict(bool)\n",
    "\n",
    "for i in range(B):\n",
    "    emb = embedding_3d[i, :lengths_all[i]]  # shape: T × 3\n",
    "    meta = selected_steps[i]\n",
    "    dataset = meta[\"group\"]\n",
    "    mouse = meta[\"mouse\"]\n",
    "    run = meta[\"run\"]\n",
    "    color = color_map.get(dataset, \"gray\")\n",
    "    show_legend = not legend_shown[dataset]\n",
    "    legend_shown[dataset] = True\n",
    "\n",
    "    fig.add_trace(go.Scatter3d(\n",
    "        x=emb[:, 0],\n",
    "        y=emb[:, 1],\n",
    "        z=emb[:, 2],\n",
    "        mode='lines+markers',\n",
    "        name=dataset if show_legend else None,\n",
    "        legendgroup=dataset,\n",
    "        showlegend=show_legend,\n",
    "        marker=dict(size=SCATTER_SIZE, color=color, line=dict(width=SCATTER_LINE_WIDTH, color='black')),\n",
    "        hoverinfo='text',\n",
    "        text=[f\"{dataset} | {mouse} | run={run} | t={t}\" for t in range(len(emb))]\n",
    "    ))\n",
    "\n",
    "fig.update_layout(\n",
    "    title=\"Latent Trajectories Over Time (per Step)\",\n",
    "    scene=dict(\n",
    "        xaxis_title='UMAP1',\n",
    "        yaxis_title='UMAP2',\n",
    "        zaxis_title='UMAP3'\n",
    "    ),\n",
    "    legend=dict(title=\"Dataset\"),\n",
    "    width=900,\n",
    "    height=700,\n",
    "    template='plotly_white'\n",
    ")\n",
    "\n",
    "fig.show()"
   ]
  },
  {
   "cell_type": "code",
   "execution_count": null,
   "id": "df418629",
   "metadata": {},
   "outputs": [],
   "source": [
    "def plot_timewise_umap_trajectories(segmented_hindsteps, scaler):\n",
    "    \"\"\"\n",
    "    Plot UMAP projection of all timepoints in each step.\n",
    "    Each step becomes a trajectory (line) in 3D UMAP space.\n",
    "    Mice from the same dataset (e.g., 'pre', 'post') share color and legend.\n",
    "    \"\"\"\n",
    "    from collections import defaultdict\n",
    "\n",
    "    filtered_steps = [s for s in segmented_hindsteps if SIDE_KEY[0] in s[\"mouse\"]]\n",
    "\n",
    "    step_id = 0\n",
    "    timepoints = []\n",
    "    metadata = []\n",
    "\n",
    "    for s in filtered_steps:\n",
    "        arr = scaler.transform(s[\"step\"].values)  # (T, D)\n",
    "        for t in range(arr.shape[0]):\n",
    "            timepoints.append(arr[t])\n",
    "            metadata.append({\n",
    "                \"step_id\": step_id,\n",
    "                \"t\": t,\n",
    "                \"mouse\": s[\"mouse\"],\n",
    "                \"group\": s[\"group\"],\n",
    "                \"run\": s[\"run\"]\n",
    "            })\n",
    "        step_id += 1\n",
    "\n",
    "    X = np.stack(timepoints)\n",
    "    umap_coords = UMAP(n_components=3, random_state=42).fit_transform(X)\n",
    "\n",
    "    umap_df = pd.DataFrame(umap_coords, columns=[\"UMAP1\", \"UMAP2\", \"UMAP3\"])\n",
    "    umap_df = pd.concat([umap_df, pd.DataFrame(metadata)], axis=1)\n",
    "\n",
    "    datasets = sorted(umap_df[\"group\"].unique())\n",
    "    color_map = {ds: color for ds, color in zip(datasets, plotly.colors.qualitative.Plotly)}\n",
    "\n",
    "    fig = go.Figure()\n",
    "    legend_shown = defaultdict(bool)\n",
    "\n",
    "    for step_id, group in umap_df.groupby(\"step_id\"):\n",
    "        dataset = group[\"group\"].iloc[0]\n",
    "        color = color_map[dataset]\n",
    "        show_legend = not legend_shown[dataset]\n",
    "        legend_shown[dataset] = True\n",
    "\n",
    "        fig.add_trace(go.Scatter3d(\n",
    "            x=group[\"UMAP1\"],\n",
    "            y=group[\"UMAP2\"],\n",
    "            z=group[\"UMAP3\"],\n",
    "            mode=\"lines+markers\",\n",
    "            line=dict(color=color, width=2),\n",
    "            marker=dict(size=3, color=color),\n",
    "            name=dataset,\n",
    "            legendgroup=dataset,\n",
    "            showlegend=show_legend,\n",
    "            text=[f\"{group['mouse'].iloc[0]} | run={r} | t={t}\" for r, t in zip(group[\"run\"], group[\"t\"])]\n",
    "        ))\n",
    "\n",
    "    fig.update_layout(\n",
    "        title=\"Time-Resolved UMAP of Step Dynamics by Dataset\",\n",
    "        scene=dict(\n",
    "            xaxis_title=\"UMAP1\",\n",
    "            yaxis_title=\"UMAP2\",\n",
    "            zaxis_title=\"UMAP3\"\n",
    "        ),\n",
    "        legend=dict(title=\"Dataset\", font=dict(size=12)),\n",
    "        width=900,\n",
    "        height=700,\n",
    "        template=\"plotly_white\"\n",
    "    )\n",
    "\n",
    "    fig.show()\n",
    "\n",
    "# Usage:\n",
    "plot_timewise_umap_trajectories(segmented_hindsteps, scaler)"
   ]
  }
 ],
 "metadata": {
  "kernelspec": {
   "display_name": ".venv",
   "language": "python",
   "name": "python3"
  },
  "language_info": {
   "codemirror_mode": {
    "name": "ipython",
    "version": 3
   },
   "file_extension": ".py",
   "mimetype": "text/x-python",
   "name": "python",
   "nbconvert_exporter": "python",
   "pygments_lexer": "ipython3",
   "version": "3.13.3"
  }
 },
 "nbformat": 4,
 "nbformat_minor": 5
}
