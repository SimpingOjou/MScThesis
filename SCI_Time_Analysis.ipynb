{
 "cells": [
  {
   "cell_type": "code",
   "execution_count": 1,
   "id": "b527e6fb",
   "metadata": {},
   "outputs": [],
   "source": [
    "import os\n",
    "import pandas as pd\n",
    "import numpy as np\n",
    "import torch\n",
    "import plotly.express as px\n",
    "import plotly.graph_objs as go\n",
    "import plotly.colors\n",
    "from collections import defaultdict\n",
    "\n",
    "from sklearn.preprocessing import StandardScaler\n",
    "from umap import UMAP\n",
    "\n",
    "from src.ModelUtils import (load_model,\n",
    "                            train_model,\n",
    "                            save_model_losses,\n",
    "                            load_and_plot_losses)\n",
    "from src.DataUtils import (load_data_from_directory,\n",
    "                           segment_all_steps,\n",
    "                           steps_to_tensor)"
   ]
  },
  {
   "cell_type": "code",
   "execution_count": null,
   "id": "974c894b",
   "metadata": {},
   "outputs": [
    {
     "name": "stdout",
     "output_type": "stream",
     "text": [
      "Group: SCI_PostSCI\n",
      "\tLeft_Mouse100: 4 runs with shapes: [(141, 199), (161, 199), (241, 199), (201, 199)]\n",
      "\tLeft_Mouse102: 1 runs with shapes: [(381, 199)]\n",
      "\tLeft_Mouse104: 3 runs with shapes: [(211, 199), (201, 199), (315, 199)]\n",
      "\tLeft_Mouse110: 3 runs with shapes: [(341, 199), (251, 199), (237, 199)]\n",
      "\tLeft_Mouse118: 3 runs with shapes: [(299, 199), (175, 199), (196, 199)]\n",
      "\tLeft_Mouse122: 1 runs with shapes: [(421, 199)]\n",
      "\tLeft_Mouse132: 3 runs with shapes: [(401, 199), (331, 199), (231, 199)]\n",
      "\tLeft_Mouse134: 3 runs with shapes: [(271, 199), (261, 199), (181, 199)]\n",
      "\tLeft_Mouse138: 3 runs with shapes: [(491, 199), (374, 199), (471, 199)]\n",
      "\tLeft_Mouse142: 3 runs with shapes: [(261, 199), (163, 199), (171, 199)]\n",
      "\tLeft_Mouse148: 1 runs with shapes: [(901, 199)]\n",
      "\tLeft_Mouse14: 6 runs with shapes: [(244, 199), (161, 199), (201, 199), (201, 199), (105, 199), (106, 199)]\n",
      "\tLeft_Mouse150: 3 runs with shapes: [(401, 199), (541, 199), (531, 199)]\n",
      "\tLeft_Mouse154: 3 runs with shapes: [(281, 199), (161, 199), (181, 199)]\n",
      "\tLeft_Mouse156: 3 runs with shapes: [(211, 199), (231, 199), (351, 199)]\n",
      "\tLeft_Mouse158: 3 runs with shapes: [(206, 199), (144, 199), (135, 199)]\n",
      "\tLeft_Mouse164: 3 runs with shapes: [(244, 199), (124, 199), (136, 199)]\n",
      "\tLeft_Mouse16: 4 runs with shapes: [(303, 199), (186, 199), (213, 199), (175, 199)]\n",
      "\tLeft_Mouse174: 3 runs with shapes: [(671, 199), (561, 199), (531, 199)]\n",
      "\tLeft_Mouse178: 3 runs with shapes: [(579, 199), (701, 199), (631, 199)]\n",
      "\tLeft_Mouse180: 1 runs with shapes: [(601, 199)]\n",
      "\tLeft_Mouse186: 3 runs with shapes: [(231, 199), (249, 199), (161, 199)]\n",
      "\tLeft_Mouse18: 5 runs with shapes: [(313, 199), (155, 199), (173, 199), (174, 199), (135, 199)]\n",
      "\tLeft_Mouse22: 4 runs with shapes: [(191, 199), (180, 199), (88, 199), (129, 199)]\n",
      "\tLeft_Mouse24: 4 runs with shapes: [(279, 199), (292, 199), (257, 199), (227, 199)]\n",
      "\tLeft_Mouse28: 5 runs with shapes: [(211, 199), (255, 199), (145, 199), (104, 199), (97, 199)]\n",
      "\tLeft_Mouse30: 4 runs with shapes: [(211, 199), (133, 199), (111, 199), (112, 199)]\n",
      "\tLeft_Mouse32: 5 runs with shapes: [(109, 199), (140, 199), (87, 199), (173, 199), (201, 199)]\n",
      "\tLeft_Mouse36: 4 runs with shapes: [(226, 199), (171, 199), (96, 199), (125, 199)]\n",
      "\tLeft_Mouse38: 4 runs with shapes: [(357, 199), (277, 199), (501, 199), (158, 199)]\n",
      "\tLeft_Mouse40: 4 runs with shapes: [(353, 199), (531, 199), (314, 199), (255, 199)]\n",
      "\tLeft_Mouse42: 4 runs with shapes: [(301, 199), (304, 199), (459, 199), (220, 199)]\n",
      "\tLeft_Mouse44: 4 runs with shapes: [(176, 199), (171, 199), (134, 199), (161, 199)]\n",
      "\tLeft_Mouse46: 4 runs with shapes: [(201, 199), (135, 199), (101, 199), (120, 199)]\n",
      "\tLeft_Mouse4: 4 runs with shapes: [(149, 199), (117, 199), (171, 199), (231, 199)]\n",
      "\tLeft_Mouse50: 3 runs with shapes: [(374, 199), (711, 199), (701, 199)]\n",
      "\tLeft_Mouse52: 4 runs with shapes: [(238, 199), (207, 199), (619, 199), (204, 199)]\n",
      "\tLeft_Mouse54: 4 runs with shapes: [(298, 199), (213, 199), (247, 199), (170, 199)]\n",
      "\tLeft_Mouse56: 1 runs with shapes: [(366, 199)]\n",
      "\tLeft_Mouse60: 4 runs with shapes: [(101, 199), (245, 199), (226, 199), (106, 199)]\n",
      "\tLeft_Mouse62: 4 runs with shapes: [(211, 199), (152, 199), (167, 199), (215, 199)]\n",
      "\tLeft_Mouse64: 4 runs with shapes: [(312, 199), (444, 199), (212, 199), (196, 199)]\n",
      "\tLeft_Mouse6: 4 runs with shapes: [(233, 199), (124, 199), (122, 199), (180, 199)]\n",
      "\tLeft_Mouse70: 4 runs with shapes: [(324, 199), (363, 199), (335, 199), (671, 199)]\n",
      "\tLeft_Mouse72: 4 runs with shapes: [(275, 199), (321, 199), (301, 199), (246, 199)]\n",
      "\tLeft_Mouse74: 4 runs with shapes: [(301, 199), (201, 199), (122, 199), (301, 199)]\n",
      "\tLeft_Mouse76: 4 runs with shapes: [(278, 199), (241, 199), (256, 199), (315, 199)]\n",
      "\tLeft_Mouse78: 4 runs with shapes: [(215, 199), (84, 199), (85, 199), (135, 199)]\n",
      "\tLeft_Mouse82: 4 runs with shapes: [(260, 199), (167, 199), (201, 199), (253, 199)]\n",
      "\tLeft_Mouse84: 1 runs with shapes: [(420, 199)]\n",
      "\tLeft_Mouse86: 4 runs with shapes: [(149, 199), (201, 199), (251, 199), (149, 199)]\n",
      "\tLeft_Mouse8: 2 runs with shapes: [(543, 199), (586, 199)]\n",
      "\tLeft_Mouse90: 3 runs with shapes: [(391, 199), (377, 199), (421, 199)]\n",
      "\tRight_Mouse100: 2 runs with shapes: [(201, 199), (231, 199)]\n",
      "\tRight_Mouse102: 3 runs with shapes: [(449, 199), (601, 199), (531, 199)]\n",
      "\tRight_Mouse104: 3 runs with shapes: [(241, 199), (206, 199), (231, 199)]\n",
      "\tRight_Mouse106: 3 runs with shapes: [(721, 199), (711, 199), (941, 199)]\n",
      "\tRight_Mouse108: 3 runs with shapes: [(401, 199), (361, 199), (211, 199)]\n",
      "\tRight_Mouse10: 4 runs with shapes: [(501, 199), (373, 199), (301, 199), (319, 199)]\n",
      "\tRight_Mouse110: 3 runs with shapes: [(281, 199), (271, 199), (201, 199)]\n",
      "\tRight_Mouse116: 3 runs with shapes: [(351, 199), (291, 199), (351, 199)]\n",
      "\tRight_Mouse118: 3 runs with shapes: [(203, 199), (213, 199), (261, 199)]\n",
      "\tRight_Mouse124: 3 runs with shapes: [(623, 199), (444, 199), (224, 199)]\n",
      "\tRight_Mouse128: 3 runs with shapes: [(401, 199), (561, 199), (401, 199)]\n",
      "\tRight_Mouse132: 3 runs with shapes: [(301, 199), (251, 199), (272, 199)]\n",
      "\tRight_Mouse134: 3 runs with shapes: [(231, 199), (221, 199), (213, 199)]\n",
      "\tRight_Mouse136: 3 runs with shapes: [(801, 199), (454, 199), (211, 199)]\n",
      "\tRight_Mouse138: 3 runs with shapes: [(351, 199), (172, 199), (293, 199)]\n",
      "\tRight_Mouse140: 3 runs with shapes: [(501, 199), (941, 199), (601, 199)]\n",
      "\tRight_Mouse142: 3 runs with shapes: [(251, 199), (227, 199), (161, 199)]\n",
      "\tRight_Mouse144: 3 runs with shapes: [(391, 199), (391, 199), (461, 199)]\n",
      "\tRight_Mouse14: 3 runs with shapes: [(289, 199), (197, 199), (166, 199)]\n",
      "\tRight_Mouse154: 3 runs with shapes: [(121, 199), (124, 199), (103, 199)]\n",
      "\tRight_Mouse156: 3 runs with shapes: [(281, 199), (571, 199), (529, 199)]\n",
      "\tRight_Mouse158: 3 runs with shapes: [(171, 199), (161, 199), (186, 199)]\n",
      "\tRight_Mouse160: 3 runs with shapes: [(361, 199), (311, 199), (411, 199)]\n",
      "\tRight_Mouse162: 3 runs with shapes: [(501, 199), (601, 199), (451, 199)]\n",
      "\tRight_Mouse164: 3 runs with shapes: [(163, 199), (121, 199), (211, 199)]\n",
      "\tRight_Mouse16: 3 runs with shapes: [(239, 199), (232, 199), (301, 199)]\n",
      "\tRight_Mouse170: 3 runs with shapes: [(551, 199), (421, 199), (331, 199)]\n",
      "\tRight_Mouse176: 3 runs with shapes: [(601, 199), (531, 199), (351, 199)]\n",
      "\tRight_Mouse182: 3 runs with shapes: [(466, 199), (511, 199), (711, 199)]\n",
      "\tRight_Mouse184: 3 runs with shapes: [(601, 199), (361, 199), (751, 199)]\n",
      "\tRight_Mouse186: 3 runs with shapes: [(180, 199), (221, 199), (145, 199)]\n",
      "\tRight_Mouse188: 3 runs with shapes: [(501, 199), (314, 199), (331, 199)]\n",
      "\tRight_Mouse18: 4 runs with shapes: [(420, 199), (308, 199), (171, 199), (258, 199)]\n",
      "\tRight_Mouse194: 3 runs with shapes: [(601, 199), (451, 199), (1000, 199)]\n",
      "\tRight_Mouse196: 3 runs with shapes: [(661, 199), (471, 199), (371, 199)]\n",
      "\tRight_Mouse198: 2 runs with shapes: [(701, 199), (401, 199)]\n",
      "\tRight_Mouse22: 3 runs with shapes: [(171, 199), (101, 199), (95, 199)]\n",
      "\tRight_Mouse24: 4 runs with shapes: [(305, 199), (307, 199), (289, 199), (201, 199)]\n",
      "\tRight_Mouse26: 2 runs with shapes: [(331, 199), (131, 199)]\n",
      "\tRight_Mouse28: 4 runs with shapes: [(123, 199), (118, 199), (99, 199), (108, 199)]\n",
      "\tRight_Mouse30: 4 runs with shapes: [(142, 199), (123, 199), (120, 199), (137, 199)]\n",
      "\tRight_Mouse32: 4 runs with shapes: [(175, 199), (222, 199), (220, 199), (84, 199)]\n",
      "\tRight_Mouse36: 4 runs with shapes: [(169, 199), (144, 199), (152, 199), (272, 199)]\n",
      "\tRight_Mouse38: 4 runs with shapes: [(292, 199), (216, 199), (201, 199), (174, 199)]\n",
      "\tRight_Mouse40: 3 runs with shapes: [(410, 199), (415, 199), (539, 199)]\n",
      "\tRight_Mouse42: 4 runs with shapes: [(185, 199), (194, 199), (192, 199), (207, 199)]\n",
      "\tRight_Mouse44: 4 runs with shapes: [(187, 199), (238, 199), (171, 199), (132, 199)]\n",
      "\tRight_Mouse46: 4 runs with shapes: [(106, 199), (109, 199), (107, 199), (137, 199)]\n",
      "\tRight_Mouse48: 4 runs with shapes: [(701, 199), (479, 199), (501, 199), (382, 199)]\n",
      "\tRight_Mouse4: 4 runs with shapes: [(144, 199), (151, 199), (213, 199), (326, 199)]\n",
      "\tRight_Mouse50: 4 runs with shapes: [(801, 199), (1001, 199), (524, 199), (1001, 199)]\n",
      "\tRight_Mouse52: 4 runs with shapes: [(214, 199), (268, 199), (401, 199), (419, 199)]\n",
      "\tRight_Mouse54: 4 runs with shapes: [(301, 199), (201, 199), (182, 199), (301, 199)]\n",
      "\tRight_Mouse56: 3 runs with shapes: [(501, 199), (290, 199), (390, 199)]\n",
      "\tRight_Mouse60: 3 runs with shapes: [(486, 199), (201, 199), (401, 199)]\n",
      "\tRight_Mouse62: 4 runs with shapes: [(168, 199), (191, 199), (187, 199), (182, 199)]\n",
      "\tRight_Mouse64: 5 runs with shapes: [(357, 199), (291, 199), (269, 199), (220, 199), (358, 199)]\n",
      "\tRight_Mouse66: 3 runs with shapes: [(301, 199), (307, 199), (363, 199)]\n",
      "\tRight_Mouse68: 3 runs with shapes: [(401, 199), (498, 199), (274, 199)]\n",
      "\tRight_Mouse6: 4 runs with shapes: [(147, 199), (184, 199), (151, 199), (107, 199)]\n",
      "\tRight_Mouse70: 4 runs with shapes: [(458, 199), (359, 199), (298, 199), (463, 199)]\n",
      "\tRight_Mouse72: 4 runs with shapes: [(367, 199), (334, 199), (217, 199), (236, 199)]\n",
      "\tRight_Mouse74: 4 runs with shapes: [(248, 199), (177, 199), (226, 199), (111, 199)]\n",
      "\tRight_Mouse76: 3 runs with shapes: [(269, 199), (251, 199), (392, 199)]\n",
      "\tRight_Mouse78: 5 runs with shapes: [(148, 199), (109, 199), (148, 199), (89, 199), (117, 199)]\n",
      "\tRight_Mouse80: 3 runs with shapes: [(601, 199), (411, 199), (501, 199)]\n",
      "\tRight_Mouse82: 4 runs with shapes: [(158, 199), (177, 199), (188, 199), (239, 199)]\n",
      "\tRight_Mouse84: 4 runs with shapes: [(356, 199), (235, 199), (334, 199), (176, 199)]\n",
      "\tRight_Mouse86: 4 runs with shapes: [(201, 199), (190, 199), (282, 199), (188, 199)]\n",
      "\tRight_Mouse8: 3 runs with shapes: [(553, 199), (751, 199), (570, 199)]\n",
      "Group: SCI_PreSCI\n",
      "\tLeft_Mouse100: 3 runs with shapes: [(261, 199), (191, 199), (131, 199)]\n",
      "\tLeft_Mouse102: 3 runs with shapes: [(296, 199), (195, 199), (218, 199)]\n",
      "\tLeft_Mouse104: 3 runs with shapes: [(187, 199), (241, 199), (301, 199)]\n",
      "\tLeft_Mouse106: 3 runs with shapes: [(311, 199), (331, 199), (149, 199)]\n",
      "\tLeft_Mouse108: 3 runs with shapes: [(231, 199), (131, 199), (181, 199)]\n",
      "\tLeft_Mouse10: 4 runs with shapes: [(285, 199), (250, 199), (199, 199), (267, 199)]\n",
      "\tLeft_Mouse110: 3 runs with shapes: [(311, 199), (205, 199), (183, 199)]\n",
      "\tLeft_Mouse112: 3 runs with shapes: [(271, 199), (251, 199), (209, 199)]\n",
      "\tLeft_Mouse114: 3 runs with shapes: [(264, 199), (202, 199), (186, 199)]\n",
      "\tLeft_Mouse116: 3 runs with shapes: [(344, 199), (201, 199), (211, 199)]\n",
      "\tLeft_Mouse118: 3 runs with shapes: [(271, 199), (271, 199), (171, 199)]\n",
      "\tLeft_Mouse120: 3 runs with shapes: [(221, 199), (153, 199), (149, 199)]\n",
      "\tLeft_Mouse122: 3 runs with shapes: [(381, 199), (291, 199), (171, 199)]\n",
      "\tLeft_Mouse124: 3 runs with shapes: [(320, 199), (215, 199), (188, 199)]\n",
      "\tLeft_Mouse126: 3 runs with shapes: [(401, 199), (261, 199), (241, 199)]\n",
      "\tLeft_Mouse128: 3 runs with shapes: [(272, 199), (141, 199), (111, 199)]\n",
      "\tLeft_Mouse12: 5 runs with shapes: [(139, 199), (141, 199), (61, 199), (164, 199), (112, 199)]\n",
      "\tLeft_Mouse130: 3 runs with shapes: [(271, 199), (163, 199), (173, 199)]\n",
      "\tLeft_Mouse132: 3 runs with shapes: [(305, 199), (261, 199), (171, 199)]\n",
      "\tLeft_Mouse134: 3 runs with shapes: [(351, 199), (221, 199), (181, 199)]\n",
      "\tLeft_Mouse136: 3 runs with shapes: [(471, 199), (355, 199), (287, 199)]\n",
      "\tLeft_Mouse138: 3 runs with shapes: [(261, 199), (264, 199), (391, 199)]\n",
      "\tLeft_Mouse140: 3 runs with shapes: [(262, 199), (283, 199), (301, 199)]\n",
      "\tLeft_Mouse142: 3 runs with shapes: [(251, 199), (167, 199), (141, 199)]\n",
      "\tLeft_Mouse144: 3 runs with shapes: [(276, 199), (187, 199), (116, 199)]\n",
      "\tLeft_Mouse146: 3 runs with shapes: [(273, 199), (210, 199), (253, 199)]\n",
      "\tLeft_Mouse148: 3 runs with shapes: [(326, 199), (164, 199), (214, 199)]\n",
      "\tLeft_Mouse14: 5 runs with shapes: [(201, 199), (248, 199), (142, 199), (149, 199), (181, 199)]\n",
      "\tLeft_Mouse150: 3 runs with shapes: [(230, 199), (235, 199), (529, 199)]\n",
      "\tLeft_Mouse152: 2 runs with shapes: [(211, 199), (231, 199)]\n",
      "\tLeft_Mouse154: 3 runs with shapes: [(268, 199), (312, 199), (84, 199)]\n",
      "\tLeft_Mouse156: 3 runs with shapes: [(201, 199), (201, 199), (184, 199)]\n",
      "\tLeft_Mouse158: 3 runs with shapes: [(371, 199), (301, 199), (191, 199)]\n",
      "\tLeft_Mouse160: 3 runs with shapes: [(424, 199), (301, 199), (231, 199)]\n",
      "\tLeft_Mouse162: 3 runs with shapes: [(421, 199), (356, 199), (161, 199)]\n",
      "\tLeft_Mouse164: 3 runs with shapes: [(461, 199), (211, 199), (213, 199)]\n",
      "\tLeft_Mouse166: 3 runs with shapes: [(268, 199), (111, 199), (281, 199)]\n",
      "\tLeft_Mouse168: 3 runs with shapes: [(435, 199), (236, 199), (195, 199)]\n",
      "\tLeft_Mouse16: 4 runs with shapes: [(217, 199), (90, 199), (101, 199), (141, 199)]\n",
      "\tLeft_Mouse170: 3 runs with shapes: [(311, 199), (219, 199), (281, 199)]\n",
      "\tLeft_Mouse172: 3 runs with shapes: [(453, 199), (301, 199), (116, 199)]\n",
      "\tLeft_Mouse174: 3 runs with shapes: [(692, 199), (241, 199), (274, 199)]\n",
      "\tLeft_Mouse176: 3 runs with shapes: [(216, 199), (175, 199), (151, 199)]\n",
      "\tLeft_Mouse178: 3 runs with shapes: [(366, 199), (251, 199), (304, 199)]\n",
      "\tLeft_Mouse180: 3 runs with shapes: [(201, 199), (191, 199), (276, 199)]\n",
      "\tLeft_Mouse182: 3 runs with shapes: [(511, 199), (241, 199), (431, 199)]\n",
      "\tLeft_Mouse184: 3 runs with shapes: [(351, 199), (229, 199), (221, 199)]\n",
      "\tLeft_Mouse186: 3 runs with shapes: [(221, 199), (211, 199), (291, 199)]\n",
      "\tLeft_Mouse188: 3 runs with shapes: [(461, 199), (342, 199), (231, 199)]\n",
      "\tLeft_Mouse18: 4 runs with shapes: [(330, 199), (177, 199), (154, 199), (244, 199)]\n",
      "\tLeft_Mouse190: 3 runs with shapes: [(301, 199), (232, 199), (151, 199)]\n",
      "\tLeft_Mouse192: 2 runs with shapes: [(331, 199), (161, 199)]\n",
      "\tLeft_Mouse194: 4 runs with shapes: [(341, 199), (191, 199), (183, 199), (171, 199)]\n",
      "\tLeft_Mouse196: 3 runs with shapes: [(355, 199), (214, 199), (161, 199)]\n",
      "\tLeft_Mouse198: 3 runs with shapes: [(211, 199), (201, 199), (111, 199)]\n",
      "\tLeft_Mouse20: 5 runs with shapes: [(383, 199), (186, 199), (93, 199), (86, 199), (145, 199)]\n",
      "\tLeft_Mouse22: 4 runs with shapes: [(164, 199), (437, 199), (131, 199), (201, 199)]\n",
      "\tLeft_Mouse24: 6 runs with shapes: [(301, 199), (217, 199), (167, 199), (234, 199), (174, 199), (159, 199)]\n",
      "\tLeft_Mouse26: 4 runs with shapes: [(142, 199), (167, 199), (115, 199), (142, 199)]\n",
      "\tLeft_Mouse28: 3 runs with shapes: [(131, 199), (211, 199), (131, 199)]\n",
      "\tLeft_Mouse2: 5 runs with shapes: [(414, 199), (368, 199), (181, 199), (151, 199), (200, 199)]\n",
      "\tLeft_Mouse30: 5 runs with shapes: [(183, 199), (171, 199), (206, 199), (126, 199), (155, 199)]\n",
      "\tLeft_Mouse32: 5 runs with shapes: [(283, 199), (208, 199), (293, 199), (152, 199), (71, 199)]\n",
      "\tLeft_Mouse34: 4 runs with shapes: [(454, 199), (201, 199), (201, 199), (217, 199)]\n",
      "\tLeft_Mouse36: 3 runs with shapes: [(242, 199), (201, 199), (108, 199)]\n",
      "\tLeft_Mouse38: 4 runs with shapes: [(201, 199), (277, 199), (201, 199), (168, 199)]\n",
      "\tLeft_Mouse40: 3 runs with shapes: [(216, 199), (193, 199), (215, 199)]\n",
      "\tLeft_Mouse42: 4 runs with shapes: [(190, 199), (168, 199), (135, 199), (244, 199)]\n",
      "\tLeft_Mouse44: 4 runs with shapes: [(309, 199), (195, 199), (251, 199), (129, 199)]\n",
      "\tLeft_Mouse46: 4 runs with shapes: [(211, 199), (138, 199), (294, 199), (241, 199)]\n",
      "\tLeft_Mouse48: 3 runs with shapes: [(318, 199), (251, 199), (191, 199)]\n",
      "\tLeft_Mouse4: 3 runs with shapes: [(234, 199), (242, 199), (231, 199)]\n",
      "\tLeft_Mouse50: 4 runs with shapes: [(276, 199), (211, 199), (191, 199), (201, 199)]\n",
      "\tLeft_Mouse52: 4 runs with shapes: [(187, 199), (175, 199), (152, 199), (301, 199)]\n",
      "\tLeft_Mouse54: 4 runs with shapes: [(291, 199), (227, 199), (177, 199), (181, 199)]\n",
      "\tLeft_Mouse56: 4 runs with shapes: [(465, 199), (181, 199), (191, 199), (212, 199)]\n",
      "\tLeft_Mouse58: 4 runs with shapes: [(274, 199), (221, 199), (241, 199), (234, 199)]\n",
      "\tLeft_Mouse60: 4 runs with shapes: [(312, 199), (195, 199), (181, 199), (151, 199)]\n",
      "\tLeft_Mouse62: 4 runs with shapes: [(288, 199), (230, 199), (229, 199), (222, 199)]\n",
      "\tLeft_Mouse64: 5 runs with shapes: [(347, 199), (174, 199), (221, 199), (126, 199), (192, 199)]\n",
      "\tLeft_Mouse66: 4 runs with shapes: [(285, 199), (168, 199), (187, 199), (181, 199)]\n",
      "\tLeft_Mouse68: 5 runs with shapes: [(261, 199), (368, 199), (121, 199), (131, 199), (90, 199)]\n",
      "\tLeft_Mouse6: 4 runs with shapes: [(240, 199), (198, 199), (201, 199), (196, 199)]\n",
      "\tLeft_Mouse70: 4 runs with shapes: [(301, 199), (187, 199), (201, 199), (288, 199)]\n",
      "\tLeft_Mouse72: 4 runs with shapes: [(127, 199), (134, 199), (104, 199), (66, 199)]\n",
      "\tLeft_Mouse74: 7 runs with shapes: [(301, 199), (169, 199), (146, 199), (133, 199), (84, 199), (125, 199), (101, 199)]\n",
      "\tLeft_Mouse76: 3 runs with shapes: [(297, 199), (150, 199), (101, 199)]\n",
      "\tLeft_Mouse78: 4 runs with shapes: [(332, 199), (111, 199), (137, 199), (113, 199)]\n",
      "\tLeft_Mouse80: 7 runs with shapes: [(201, 199), (201, 199), (162, 199), (131, 199), (101, 199), (85, 199), (109, 199)]\n",
      "\tLeft_Mouse82: 5 runs with shapes: [(126, 199), (134, 199), (191, 199), (201, 199), (183, 199)]\n",
      "\tLeft_Mouse84: 5 runs with shapes: [(331, 199), (117, 199), (71, 199), (158, 199), (114, 199)]\n",
      "\tLeft_Mouse86: 3 runs with shapes: [(243, 199), (171, 199), (129, 199)]\n",
      "\tLeft_Mouse88: 4 runs with shapes: [(159, 199), (261, 199), (171, 199), (171, 199)]\n",
      "\tLeft_Mouse8: 4 runs with shapes: [(235, 199), (226, 199), (181, 199), (225, 199)]\n",
      "\tLeft_Mouse90: 5 runs with shapes: [(281, 199), (199, 199), (150, 199), (115, 199), (111, 199)]\n",
      "\tRight_Mouse100: 3 runs with shapes: [(87, 199), (84, 199), (98, 199)]\n",
      "\tRight_Mouse102: 3 runs with shapes: [(255, 199), (207, 199), (231, 199)]\n",
      "\tRight_Mouse104: 3 runs with shapes: [(210, 199), (205, 199), (153, 199)]\n",
      "\tRight_Mouse106: 3 runs with shapes: [(331, 199), (221, 199), (109, 199)]\n",
      "\tRight_Mouse108: 3 runs with shapes: [(197, 199), (171, 199), (158, 199)]\n",
      "\tRight_Mouse10: 4 runs with shapes: [(272, 199), (173, 199), (236, 199), (301, 199)]\n",
      "\tRight_Mouse110: 3 runs with shapes: [(252, 199), (201, 199), (291, 199)]\n",
      "\tRight_Mouse112: 3 runs with shapes: [(362, 199), (231, 199), (150, 199)]\n",
      "\tRight_Mouse114: 3 runs with shapes: [(190, 199), (155, 199), (147, 199)]\n",
      "\tRight_Mouse116: 3 runs with shapes: [(301, 199), (207, 199), (291, 199)]\n",
      "\tRight_Mouse118: 3 runs with shapes: [(301, 199), (135, 199), (131, 199)]\n",
      "\tRight_Mouse120: 3 runs with shapes: [(189, 199), (121, 199), (161, 199)]\n",
      "\tRight_Mouse122: 3 runs with shapes: [(361, 199), (197, 199), (201, 199)]\n",
      "\tRight_Mouse124: 3 runs with shapes: [(222, 199), (203, 199), (254, 199)]\n",
      "\tRight_Mouse126: 3 runs with shapes: [(284, 199), (244, 199), (171, 199)]\n",
      "\tRight_Mouse128: 3 runs with shapes: [(251, 199), (201, 199), (151, 199)]\n",
      "\tRight_Mouse12: 4 runs with shapes: [(129, 199), (331, 199), (75, 199), (89, 199)]\n",
      "\tRight_Mouse130: 3 runs with shapes: [(211, 199), (371, 199), (221, 199)]\n",
      "\tRight_Mouse132: 3 runs with shapes: [(311, 199), (201, 199), (151, 199)]\n",
      "\tRight_Mouse134: 3 runs with shapes: [(261, 199), (180, 199), (193, 199)]\n",
      "\tRight_Mouse136: 3 runs with shapes: [(414, 199), (131, 199), (141, 199)]\n",
      "\tRight_Mouse138: 3 runs with shapes: [(241, 199), (291, 199), (168, 199)]\n",
      "\tRight_Mouse140: 3 runs with shapes: [(222, 199), (211, 199), (206, 199)]\n",
      "\tRight_Mouse142: 3 runs with shapes: [(227, 199), (154, 199), (150, 199)]\n",
      "\tRight_Mouse144: 3 runs with shapes: [(221, 199), (201, 199), (181, 199)]\n",
      "\tRight_Mouse146: 3 runs with shapes: [(217, 199), (287, 199), (277, 199)]\n",
      "\tRight_Mouse148: 3 runs with shapes: [(276, 199), (381, 199), (146, 199)]\n",
      "\tRight_Mouse14: 4 runs with shapes: [(251, 199), (151, 199), (101, 199), (106, 199)]\n",
      "\tRight_Mouse150: 3 runs with shapes: [(327, 199), (372, 199), (221, 199)]\n",
      "\tRight_Mouse152: 3 runs with shapes: [(281, 199), (231, 199), (192, 199)]\n",
      "\tRight_Mouse154: 3 runs with shapes: [(266, 199), (176, 199), (164, 199)]\n",
      "\tRight_Mouse156: 3 runs with shapes: [(261, 199), (211, 199), (261, 199)]\n",
      "\tRight_Mouse158: 3 runs with shapes: [(340, 199), (221, 199), (189, 199)]\n",
      "\tRight_Mouse160: 3 runs with shapes: [(371, 199), (239, 199), (192, 199)]\n",
      "\tRight_Mouse162: 3 runs with shapes: [(369, 199), (329, 199), (199, 199)]\n",
      "\tRight_Mouse164: 3 runs with shapes: [(321, 199), (168, 199), (181, 199)]\n",
      "\tRight_Mouse166: 3 runs with shapes: [(400, 199), (191, 199), (271, 199)]\n",
      "\tRight_Mouse168: 3 runs with shapes: [(175, 199), (110, 199), (121, 199)]\n",
      "\tRight_Mouse16: 5 runs with shapes: [(261, 199), (224, 199), (202, 199), (205, 199), (155, 199)]\n",
      "\tRight_Mouse170: 3 runs with shapes: [(251, 199), (171, 199), (221, 199)]\n",
      "\tRight_Mouse172: 3 runs with shapes: [(341, 199), (325, 199), (224, 199)]\n",
      "\tRight_Mouse174: 3 runs with shapes: [(351, 199), (231, 199), (286, 199)]\n",
      "\tRight_Mouse176: 3 runs with shapes: [(191, 199), (161, 199), (203, 199)]\n",
      "\tRight_Mouse178: 3 runs with shapes: [(321, 199), (121, 199), (211, 199)]\n",
      "\tRight_Mouse180: 3 runs with shapes: [(323, 199), (267, 199), (145, 199)]\n",
      "\tRight_Mouse182: 3 runs with shapes: [(391, 199), (251, 199), (201, 199)]\n",
      "\tRight_Mouse184: 3 runs with shapes: [(178, 199), (191, 199), (321, 199)]\n",
      "\tRight_Mouse186: 3 runs with shapes: [(281, 199), (127, 199), (98, 199)]\n",
      "\tRight_Mouse188: 3 runs with shapes: [(341, 199), (141, 199), (169, 199)]\n",
      "\tRight_Mouse18: 5 runs with shapes: [(118, 199), (274, 199), (313, 199), (201, 199), (195, 199)]\n",
      "\tRight_Mouse190: 3 runs with shapes: [(311, 199), (161, 199), (154, 199)]\n",
      "\tRight_Mouse192: 3 runs with shapes: [(301, 199), (291, 199), (161, 199)]\n",
      "\tRight_Mouse194: 3 runs with shapes: [(271, 199), (221, 199), (117, 199)]\n",
      "\tRight_Mouse196: 3 runs with shapes: [(299, 199), (230, 199), (301, 199)]\n",
      "\tRight_Mouse198: 3 runs with shapes: [(331, 199), (137, 199), (188, 199)]\n",
      "\tRight_Mouse20: 5 runs with shapes: [(301, 199), (124, 199), (101, 199), (221, 199), (179, 199)]\n",
      "\tRight_Mouse22: 4 runs with shapes: [(201, 199), (125, 199), (114, 199), (145, 199)]\n",
      "\tRight_Mouse24: 3 runs with shapes: [(231, 199), (213, 199), (291, 199)]\n",
      "\tRight_Mouse26: 5 runs with shapes: [(311, 199), (241, 199), (129, 199), (117, 199), (120, 199)]\n",
      "\tRight_Mouse28: 7 runs with shapes: [(201, 199), (130, 199), (201, 199), (91, 199), (104, 199), (121, 199), (115, 199)]\n",
      "\tRight_Mouse2: 4 runs with shapes: [(278, 199), (382, 199), (271, 199), (170, 199)]\n",
      "\tRight_Mouse30: 4 runs with shapes: [(301, 199), (217, 199), (158, 199), (201, 199)]\n",
      "\tRight_Mouse32: 5 runs with shapes: [(319, 199), (174, 199), (251, 199), (101, 199), (201, 199)]\n",
      "\tRight_Mouse34: 4 runs with shapes: [(330, 199), (216, 199), (183, 199), (271, 199)]\n",
      "\tRight_Mouse36: 4 runs with shapes: [(240, 199), (401, 199), (301, 199), (189, 199)]\n",
      "\tRight_Mouse38: 2 runs with shapes: [(145, 199), (145, 199)]\n",
      "\tRight_Mouse40: 3 runs with shapes: [(301, 199), (148, 199), (168, 199)]\n",
      "\tRight_Mouse42: 4 runs with shapes: [(290, 199), (237, 199), (177, 199), (241, 199)]\n",
      "\tRight_Mouse44: 4 runs with shapes: [(240, 199), (251, 199), (270, 199), (130, 199)]\n",
      "\tRight_Mouse46: 4 runs with shapes: [(171, 199), (257, 199), (139, 199), (129, 199)]\n",
      "\tRight_Mouse48: 6 runs with shapes: [(331, 199), (201, 199), (144, 199), (138, 199), (96, 199), (106, 199)]\n",
      "\tRight_Mouse4: 5 runs with shapes: [(295, 199), (209, 199), (171, 199), (159, 199), (139, 199)]\n",
      "\tRight_Mouse50: 3 runs with shapes: [(401, 199), (211, 199), (197, 199)]\n",
      "\tRight_Mouse52: 4 runs with shapes: [(125, 199), (161, 199), (101, 199), (101, 199)]\n",
      "\tRight_Mouse54: 4 runs with shapes: [(235, 199), (121, 199), (132, 199), (231, 199)]\n",
      "\tRight_Mouse56: 4 runs with shapes: [(323, 199), (278, 199), (131, 199), (132, 199)]\n",
      "\tRight_Mouse58: 4 runs with shapes: [(301, 199), (343, 199), (240, 199), (166, 199)]\n",
      "\tRight_Mouse60: 4 runs with shapes: [(242, 199), (213, 199), (137, 199), (141, 199)]\n",
      "\tRight_Mouse62: 4 runs with shapes: [(259, 199), (261, 199), (194, 199), (245, 199)]\n",
      "\tRight_Mouse64: 4 runs with shapes: [(159, 199), (241, 199), (156, 199), (86, 199)]\n",
      "\tRight_Mouse66: 4 runs with shapes: [(205, 199), (185, 199), (149, 199), (213, 199)]\n",
      "\tRight_Mouse68: 4 runs with shapes: [(261, 199), (284, 199), (214, 199), (214, 199)]\n",
      "\tRight_Mouse6: 3 runs with shapes: [(218, 199), (256, 199), (96, 199)]\n",
      "\tRight_Mouse70: 4 runs with shapes: [(212, 199), (179, 199), (126, 199), (287, 199)]\n",
      "\tRight_Mouse72: 4 runs with shapes: [(201, 199), (131, 199), (81, 199), (107, 199)]\n",
      "\tRight_Mouse74: 4 runs with shapes: [(111, 199), (115, 199), (127, 199), (105, 199)]\n",
      "\tRight_Mouse76: 5 runs with shapes: [(181, 199), (101, 199), (223, 199), (88, 199), (121, 199)]\n",
      "\tRight_Mouse78: 4 runs with shapes: [(139, 199), (121, 199), (114, 199), (107, 199)]\n",
      "\tRight_Mouse80: 5 runs with shapes: [(158, 199), (119, 199), (301, 199), (251, 199), (127, 199)]\n",
      "\tRight_Mouse82: 4 runs with shapes: [(113, 199), (136, 199), (189, 199), (258, 199)]\n",
      "\tRight_Mouse84: 5 runs with shapes: [(151, 199), (96, 199), (86, 199), (131, 199), (97, 199)]\n",
      "\tRight_Mouse86: 3 runs with shapes: [(281, 199), (228, 199), (241, 199)]\n",
      "\tRight_Mouse88: 4 runs with shapes: [(181, 199), (160, 199), (151, 199), (151, 199)]\n",
      "\tRight_Mouse8: 3 runs with shapes: [(327, 199), (201, 199), (192, 199)]\n",
      "\tRight_Mouse90: 4 runs with shapes: [(190, 199), (229, 199), (110, 199), (124, 199)]\n"
     ]
    }
   ],
   "source": [
    "## Directories and constants\n",
    "FIGURES_DIR = './figures/SCI'\n",
    "MODELS_DIR = './src/models'\n",
    "DATA_DIR = './csv/SCI_Plot_Features'\n",
    "HEALTHY_KEY = 'Pre'\n",
    "SICK_KEY = 'Post'\n",
    "SIDE_KEY = ('Left','Right')\n",
    "\n",
    "## Hyperparameters and early stopping\n",
    "INPUT_DIM = None\n",
    "HIDDEN_DIM = 128#64\n",
    "LATENT_DIM = 64#16\n",
    "BATCH_SIZE = 32\n",
    "NUM_EPOCHS = 5000\n",
    "LR = 1e-3\n",
    "PATIENCE = 100 # number of epochs to wait for improvement before stopping\n",
    "MIN_DELTA = 1e-4 # minimum change to qualify as an improvement\n",
    "BEST_MODEL_PATH = None#os.path.join(MODELS_DIR, 'lstm_VAE_no_first_last_20250609_121841.pt')\n",
    "BEST_LOSS_PATH = os.path.join(FIGURES_DIR, 'SCI_losses.csv')\n",
    "\n",
    "## Plot constants\n",
    "SCATTER_SIZE = 6\n",
    "SCATTER_LINE_WIDTH = 1\n",
    "SCATTER_SYMBOL = 'circle'\n",
    "LEGEND_FONT_SIZE = 18\n",
    "TITLE_FONT_SIZE = 24\n",
    "AXIS_FONT_SIZE = 16\n",
    "AXIS_TITLE_FONT_SIZE = 20\n",
    "\n",
    "# Load the data\n",
    "data = load_data_from_directory(DATA_DIR)\n",
    "\n",
    "# Print the data structure\n",
    "for datagroup, mice in data.items():\n",
    "    print(f\"Group: {datagroup}\")\n",
    "    for mouse_direction, runs in mice.items():\n",
    "        print(f\"\\t{mouse_direction}: {len(runs)} runs with shapes: {[df.shape for df in runs.values()]}\")"
   ]
  },
  {
   "cell_type": "code",
   "execution_count": 3,
   "id": "59a4889c",
   "metadata": {},
   "outputs": [
    {
     "name": "stdout",
     "output_type": "stream",
     "text": [
      "Number of features: 196\n"
     ]
    }
   ],
   "source": [
    "# Print the features count\n",
    "for datagroup, mice in data.items():\n",
    "    for mouse_direction, runs in mice.items():\n",
    "        for run, df in runs.items():\n",
    "            print(f\"Number of features: {df.shape[1] + 1 - 4}\") # +1 bc of index, -4 to exclude frame, forestep, hindstep, and time\n",
    "            break\n",
    "        break\n",
    "    break"
   ]
  },
  {
   "cell_type": "code",
   "execution_count": 4,
   "id": "2b8c7ae8",
   "metadata": {},
   "outputs": [
    {
     "name": "stdout",
     "output_type": "stream",
     "text": [
      "Step tensor shape: torch.Size([1244, 290, 196]), \n",
      "Lengths shape: torch.Size([1244])\n"
     ]
    }
   ],
   "source": [
    "## Segment all steps in the data\n",
    "# This will create two dictionaries: segmented_hindsteps and segmented_foresteps\n",
    "# Each dictionary will contain segmented steps for each mouse direction and run\n",
    "    # \"step\": step_df,\n",
    "    # \"group\": group,\n",
    "    # \"mouse\": mouse,\n",
    "    # \"run\": run\n",
    "segmented_hindsteps, segmented_foresteps = segment_all_steps(data)\n",
    "\n",
    "## Flatten all steps into a single array to compute global mean/std and get the scaler\n",
    "all_healthy_arrays = [step_dict[\"step\"].values for step_dict in segmented_hindsteps if HEALTHY_KEY in step_dict[\"group\"] and SIDE_KEY[0] in step_dict[\"mouse\"]]\n",
    "flat_data = np.vstack(all_healthy_arrays)\n",
    "\n",
    "scaler = StandardScaler()\n",
    "scaler = scaler.fit(flat_data)\n",
    "\n",
    "## Prepare the data for training\n",
    "healthy_steps = [s for s in segmented_hindsteps if HEALTHY_KEY in s[\"group\"] and SIDE_KEY[0] in s[\"mouse\"]]\n",
    "step_tensor, lengths = steps_to_tensor(healthy_steps, scaler)\n",
    "if INPUT_DIM is None:\n",
    "    INPUT_DIM = step_tensor.shape[2]\n",
    "\n",
    "print(f\"Step tensor shape: {step_tensor.shape}, \\nLengths shape: {lengths.shape}\")"
   ]
  },
  {
   "cell_type": "code",
   "execution_count": 5,
   "id": "279ef278",
   "metadata": {},
   "outputs": [
    {
     "name": "stdout",
     "output_type": "stream",
     "text": [
      "Using device: cuda\n",
      "VAE_t device: cuda\n"
     ]
    },
    {
     "data": {
      "application/vnd.jupyter.widget-view+json": {
       "model_id": "05b3c84975cc4eb282e59f78a5d19c38",
       "version_major": 2,
       "version_minor": 0
      },
      "text/plain": [
       "  0%|          | 0/5000 [00:00<?, ?it/s]"
      ]
     },
     "metadata": {},
     "output_type": "display_data"
    },
    {
     "name": "stdout",
     "output_type": "stream",
     "text": [
      "Epoch 1, Train: 8.9695 - Val: 8.9254 - Time: 0.73s\n",
      "Epoch 2, Train: 8.9134 - Val: 8.8371 - Time: 0.62s\n",
      "Epoch 3, Train: 8.8028 - Val: 8.7440 - Time: 0.62s\n",
      "Epoch 4, Train: 8.7126 - Val: 8.6637 - Time: 0.61s\n",
      "Epoch 5, Train: 8.6549 - Val: 8.6002 - Time: 0.62s\n",
      "Epoch 6, Train: 8.5874 - Val: 8.5472 - Time: 0.62s\n",
      "Epoch 7, Train: 8.5360 - Val: 8.4949 - Time: 0.62s\n",
      "Epoch 8, Train: 8.4841 - Val: 8.4521 - Time: 0.60s\n",
      "Epoch 9, Train: 8.4523 - Val: 8.4151 - Time: 0.60s\n",
      "Epoch 10, Train: 8.4241 - Val: 8.3864 - Time: 0.59s\n",
      "Epoch 11, Train: 8.3949 - Val: 8.3620 - Time: 0.59s\n",
      "Epoch 12, Train: 8.3720 - Val: 8.3398 - Time: 0.59s\n",
      "Epoch 13, Train: 8.3540 - Val: 8.3284 - Time: 0.61s\n",
      "Epoch 14, Train: 8.3391 - Val: 8.3109 - Time: 0.60s\n",
      "Epoch 15, Train: 8.3227 - Val: 8.2970 - Time: 0.60s\n",
      "Epoch 16, Train: 8.3091 - Val: 8.2855 - Time: 0.61s\n",
      "Epoch 17, Train: 8.3045 - Val: 8.2783 - Time: 0.60s\n",
      "Epoch 18, Train: 8.2932 - Val: 8.2699 - Time: 0.59s\n",
      "Epoch 19, Train: 8.2884 - Val: 8.2625 - Time: 0.59s\n",
      "Epoch 21, Train: 8.2783 - Val: 8.2571 - Time: 0.58s\n",
      "Epoch 22, Train: 8.2736 - Val: 8.2507 - Time: 0.60s\n",
      "Epoch 23, Train: 8.2658 - Val: 8.2466 - Time: 0.62s\n",
      "Epoch 24, Train: 8.2625 - Val: 8.2424 - Time: 0.60s\n",
      "Epoch 25, Train: 8.2586 - Val: 8.2409 - Time: 0.60s\n",
      "Epoch 26, Train: 8.2565 - Val: 8.2381 - Time: 0.63s\n",
      "Epoch 27, Train: 8.2590 - Val: 8.2372 - Time: 0.62s\n",
      "Epoch 28, Train: 8.2552 - Val: 8.2366 - Time: 0.63s\n",
      "Epoch 29, Train: 8.2532 - Val: 8.2337 - Time: 0.62s\n",
      "Epoch 30, Train: 8.2508 - Val: 8.2330 - Time: 0.62s\n",
      "Epoch 31, Train: 8.2488 - Val: 8.2317 - Time: 0.63s\n",
      "Epoch 32, Train: 8.2469 - Val: 8.2300 - Time: 0.60s\n",
      "Epoch 33, Train: 8.2457 - Val: 8.2270 - Time: 0.63s\n",
      "Epoch 34, Train: 8.2453 - Val: 8.2264 - Time: 0.62s\n",
      "Epoch 36, Train: 8.2419 - Val: 8.2250 - Time: 0.61s\n",
      "Epoch 37, Train: 8.2411 - Val: 8.2227 - Time: 0.63s\n",
      "Epoch 38, Train: 8.2396 - Val: 8.2223 - Time: 0.64s\n",
      "Epoch 39, Train: 8.2380 - Val: 8.2213 - Time: 0.62s\n",
      "Epoch 40, Train: 8.2351 - Val: 8.2200 - Time: 0.64s\n",
      "Epoch 41, Train: 8.2366 - Val: 8.2180 - Time: 0.63s\n",
      "Epoch 43, Train: 8.2352 - Val: 8.2178 - Time: 0.62s\n",
      "Epoch 44, Train: 8.2356 - Val: 8.2160 - Time: 0.64s\n",
      "Epoch 45, Train: 8.2268 - Val: 8.2150 - Time: 0.62s\n",
      "Epoch 46, Train: 8.2253 - Val: 8.2129 - Time: 0.60s\n",
      "Epoch 47, Train: 8.2256 - Val: 8.2107 - Time: 0.62s\n",
      "Epoch 49, Train: 8.2225 - Val: 8.2081 - Time: 0.63s\n",
      "Epoch 50, Train: 8.2214 - Val: 8.2074 - Time: 0.60s\n",
      "Epoch 51, Train: 8.2223 - Val: 8.2063 - Time: 0.62s\n",
      "Epoch 53, Train: 8.2194 - Val: 8.2040 - Time: 0.62s\n",
      "Epoch 56, Train: 8.2157 - Val: 8.2017 - Time: 0.59s\n",
      "Epoch 57, Train: 8.2158 - Val: 8.2011 - Time: 0.62s\n",
      "Epoch 59, Train: 8.2127 - Val: 8.1998 - Time: 0.63s\n",
      "Epoch 60, Train: 8.2149 - Val: 8.1998 - Time: 0.63s\n",
      "Epoch 62, Train: 8.2119 - Val: 8.1976 - Time: 0.66s\n",
      "Epoch 63, Train: 8.2103 - Val: 8.1974 - Time: 0.63s\n",
      "Epoch 66, Train: 8.2096 - Val: 8.1960 - Time: 0.60s\n",
      "Epoch 67, Train: 8.2079 - Val: 8.1950 - Time: 0.62s\n",
      "Epoch 71, Train: 8.2056 - Val: 8.1938 - Time: 0.61s\n",
      "Epoch 73, Train: 8.2042 - Val: 8.1923 - Time: 0.62s\n",
      "Epoch 74, Train: 8.2028 - Val: 8.1914 - Time: 0.63s\n",
      "Epoch 80, Train: 8.2020 - Val: 8.1892 - Time: 0.60s\n",
      "Epoch 82, Train: 8.1978 - Val: 8.1887 - Time: 0.61s\n",
      "Epoch 83, Train: 8.1977 - Val: 8.1869 - Time: 0.62s\n",
      "Epoch 88, Train: 8.1952 - Val: 8.1831 - Time: 0.61s\n",
      "Epoch 91, Train: 8.1912 - Val: 8.1824 - Time: 0.60s\n",
      "Epoch 92, Train: 8.1915 - Val: 8.1811 - Time: 0.60s\n",
      "Epoch 95, Train: 8.1893 - Val: 8.1796 - Time: 0.63s\n",
      "Epoch 96, Train: 8.1880 - Val: 8.1793 - Time: 0.62s\n",
      "Epoch 99, Train: 8.1891 - Val: 8.1789 - Time: 0.61s\n",
      "Epoch 101, Train: 8.1883 - Val: 8.1783 - Time: 0.59s\n",
      "Epoch 104, Train: 8.1922 - Val: 8.1780 - Time: 0.63s\n",
      "Epoch 105, Train: 8.1860 - Val: 8.1761 - Time: 0.59s\n",
      "Epoch 106, Train: 8.1859 - Val: 8.1743 - Time: 0.60s\n",
      "Epoch 111, Train: 8.1839 - Val: 8.1737 - Time: 0.62s\n",
      "Epoch 121, Train: 8.1821 - Val: 8.1727 - Time: 0.60s\n",
      "Epoch 122, Train: 8.1814 - Val: 8.1716 - Time: 0.62s\n",
      "Epoch 123, Train: 8.1818 - Val: 8.1708 - Time: 0.62s\n",
      "Epoch 125, Train: 8.1798 - Val: 8.1704 - Time: 0.61s\n",
      "Epoch 127, Train: 8.1786 - Val: 8.1689 - Time: 0.62s\n",
      "Epoch 129, Train: 8.1776 - Val: 8.1687 - Time: 0.61s\n",
      "Epoch 130, Train: 8.1780 - Val: 8.1684 - Time: 0.61s\n",
      "Epoch 134, Train: 8.1798 - Val: 8.1683 - Time: 0.60s\n",
      "Epoch 136, Train: 8.1744 - Val: 8.1669 - Time: 0.63s\n",
      "Epoch 142, Train: 8.1736 - Val: 8.1656 - Time: 0.61s\n",
      "Epoch 144, Train: 8.1728 - Val: 8.1649 - Time: 0.62s\n",
      "Epoch 147, Train: 8.1725 - Val: 8.1647 - Time: 0.62s\n",
      "Epoch 149, Train: 8.1716 - Val: 8.1632 - Time: 0.61s\n",
      "Epoch 155, Train: 8.1696 - Val: 8.1623 - Time: 0.61s\n",
      "Epoch 158, Train: 8.1680 - Val: 8.1622 - Time: 0.62s\n",
      "Epoch 159, Train: 8.1672 - Val: 8.1619 - Time: 0.60s\n",
      "Epoch 164, Train: 8.1685 - Val: 8.1597 - Time: 0.61s\n",
      "Epoch 170, Train: 8.1648 - Val: 8.1594 - Time: 0.60s\n",
      "Epoch 173, Train: 8.1682 - Val: 8.1590 - Time: 0.60s\n",
      "Epoch 175, Train: 8.1656 - Val: 8.1579 - Time: 0.59s\n",
      "Epoch 188, Train: 8.1656 - Val: 8.1575 - Time: 0.60s\n",
      "Epoch 189, Train: 8.1626 - Val: 8.1560 - Time: 0.62s\n",
      "Epoch 195, Train: 8.1658 - Val: 8.1559 - Time: 0.62s\n",
      "Epoch 196, Train: 8.1611 - Val: 8.1550 - Time: 0.60s\n",
      "Epoch 199, Train: 8.1611 - Val: 8.1550 - Time: 0.60s\n",
      "Epoch 201, Train: 8.1594 - Val: 8.1532 - Time: 0.61s\n",
      "Epoch 209, Train: 8.1594 - Val: 8.1527 - Time: 0.61s\n",
      "Epoch 211, Train: 8.1638 - Val: 8.1526 - Time: 0.58s\n",
      "Epoch 218, Train: 8.1578 - Val: 8.1513 - Time: 0.59s\n",
      "Epoch 232, Train: 8.1557 - Val: 8.1509 - Time: 0.61s\n",
      "Epoch 235, Train: 8.1581 - Val: 8.1505 - Time: 0.61s\n",
      "Epoch 237, Train: 8.1553 - Val: 8.1501 - Time: 0.61s\n",
      "Epoch 240, Train: 8.1550 - Val: 8.1497 - Time: 0.60s\n",
      "Epoch 244, Train: 8.1549 - Val: 8.1494 - Time: 0.62s\n",
      "Epoch 251, Train: 8.1555 - Val: 8.1488 - Time: 0.62s\n",
      "Epoch 256, Train: 8.1540 - Val: 8.1487 - Time: 0.63s\n",
      "Epoch 259, Train: 8.1545 - Val: 8.1481 - Time: 0.61s\n",
      "Epoch 264, Train: 8.1555 - Val: 8.1478 - Time: 0.60s\n",
      "Epoch 267, Train: 8.1536 - Val: 8.1475 - Time: 0.60s\n",
      "Epoch 271, Train: 8.1516 - Val: 8.1471 - Time: 0.58s\n",
      "Epoch 273, Train: 8.1507 - Val: 8.1464 - Time: 0.62s\n",
      "Epoch 276, Train: 8.1503 - Val: 8.1458 - Time: 0.63s\n",
      "Epoch 287, Train: 8.1501 - Val: 8.1458 - Time: 0.61s\n",
      "Epoch 295, Train: 8.1482 - Val: 8.1457 - Time: 0.63s\n",
      "Epoch 300, Train: 8.1494 - Val: 8.1452 - Time: 0.62s\n",
      "Epoch 303, Train: 8.1484 - Val: 8.1451 - Time: 0.61s\n",
      "Epoch 306, Train: 8.1485 - Val: 8.1451 - Time: 0.59s\n",
      "Epoch 307, Train: 8.1491 - Val: 8.1444 - Time: 0.60s\n",
      "Epoch 308, Train: 8.1475 - Val: 8.1439 - Time: 0.60s\n",
      "Epoch 316, Train: 8.1469 - Val: 8.1430 - Time: 0.60s\n",
      "Epoch 329, Train: 8.1462 - Val: 8.1425 - Time: 0.61s\n",
      "Epoch 330, Train: 8.1459 - Val: 8.1412 - Time: 0.60s\n",
      "Epoch 359, Train: 8.1440 - Val: 8.1405 - Time: 0.61s\n",
      "Epoch 365, Train: 8.1446 - Val: 8.1404 - Time: 0.63s\n",
      "Epoch 367, Train: 8.1428 - Val: 8.1402 - Time: 0.62s\n",
      "Epoch 369, Train: 8.1408 - Val: 8.1398 - Time: 0.67s\n",
      "Epoch 380, Train: 8.1424 - Val: 8.1394 - Time: 0.64s\n",
      "Epoch 383, Train: 8.1421 - Val: 8.1392 - Time: 0.63s\n",
      "Epoch 386, Train: 8.1415 - Val: 8.1381 - Time: 0.69s\n",
      "Epoch 396, Train: 8.1413 - Val: 8.1381 - Time: 0.74s\n",
      "Epoch 400, Train: 8.1404 - Val: 8.1372 - Time: 0.67s\n",
      "Epoch 410, Train: 8.1411 - Val: 8.1371 - Time: 0.61s\n",
      "Epoch 415, Train: 8.1390 - Val: 8.1370 - Time: 0.62s\n",
      "Epoch 420, Train: 8.1392 - Val: 8.1367 - Time: 0.60s\n",
      "Epoch 427, Train: 8.1393 - Val: 8.1362 - Time: 0.63s\n",
      "Epoch 432, Train: 8.1381 - Val: 8.1357 - Time: 0.62s\n",
      "Epoch 445, Train: 8.1379 - Val: 8.1351 - Time: 0.63s\n",
      "Epoch 449, Train: 8.1401 - Val: 8.1346 - Time: 0.63s\n",
      "Epoch 457, Train: 8.1377 - Val: 8.1344 - Time: 0.71s\n",
      "Epoch 469, Train: 8.1360 - Val: 8.1338 - Time: 0.71s\n",
      "Epoch 475, Train: 8.1358 - Val: 8.1334 - Time: 0.81s\n",
      "Epoch 499, Train: 8.1363 - Val: 8.1332 - Time: 1.23s\n",
      "Epoch 500, Train: 8.1349 - Val: 8.1326 - Time: 1.44s\n",
      "Epoch 502, Train: 8.1353 - Val: 8.1325 - Time: 1.38s\n",
      "Epoch 517, Train: 8.1337 - Val: 8.1323 - Time: 0.71s\n",
      "Epoch 532, Train: 8.1336 - Val: 8.1316 - Time: 0.71s\n",
      "Epoch 541, Train: 8.1330 - Val: 8.1310 - Time: 0.62s\n",
      "Epoch 563, Train: 8.1331 - Val: 8.1309 - Time: 0.60s\n",
      "Epoch 573, Train: 8.1324 - Val: 8.1303 - Time: 0.61s\n",
      "Epoch 587, Train: 8.1327 - Val: 8.1300 - Time: 0.62s\n",
      "Epoch 595, Train: 8.1320 - Val: 8.1299 - Time: 0.64s\n",
      "Epoch 596, Train: 8.1307 - Val: 8.1291 - Time: 0.61s\n",
      "Epoch 597, Train: 8.1289 - Val: 8.1289 - Time: 0.60s\n",
      "Epoch 626, Train: 8.1302 - Val: 8.1288 - Time: 0.59s\n",
      "Epoch 628, Train: 8.1296 - Val: 8.1288 - Time: 0.63s\n",
      "Epoch 632, Train: 8.1304 - Val: 8.1287 - Time: 0.60s\n",
      "Epoch 642, Train: 8.1305 - Val: 8.1284 - Time: 0.62s\n",
      "Epoch 651, Train: 8.1306 - Val: 8.1282 - Time: 0.60s\n",
      "Epoch 658, Train: 8.1270 - Val: 8.1276 - Time: 0.62s\n",
      "Epoch 693, Train: 8.1280 - Val: 8.1276 - Time: 0.62s\n",
      "Epoch 701, Train: 8.1286 - Val: 8.1271 - Time: 0.61s\n",
      "Epoch 739, Train: 8.1275 - Val: 8.1258 - Time: 0.61s\n",
      "Epoch 766, Train: 8.1258 - Val: 8.1253 - Time: 0.63s\n",
      "Epoch 809, Train: 8.1266 - Val: 8.1250 - Time: 0.63s\n",
      "Epoch 876, Train: 8.1261 - Val: 8.1249 - Time: 0.60s\n",
      "Epoch 899, Train: 8.1237 - Val: 8.1247 - Time: 0.60s\n",
      "Epoch 916, Train: 8.1241 - Val: 8.1240 - Time: 0.62s\n",
      "Epoch 928, Train: 8.1249 - Val: 8.1237 - Time: 0.62s\n",
      "Epoch 943, Train: 8.1238 - Val: 8.1234 - Time: 0.61s\n",
      "Epoch 946, Train: 8.1243 - Val: 8.1230 - Time: 0.62s\n",
      "Epoch 991, Train: 8.1243 - Val: 8.1227 - Time: 0.60s\n",
      "Epoch 1034, Train: 8.1211 - Val: 8.1222 - Time: 0.60s\n",
      "Epoch 1036, Train: 8.1215 - Val: 8.1216 - Time: 0.63s\n",
      "Epoch 1072, Train: 8.1209 - Val: 8.1215 - Time: 0.61s\n",
      "Epoch 1105, Train: 8.1200 - Val: 8.1204 - Time: 0.61s\n",
      "Epoch 1176, Train: 8.1199 - Val: 8.1200 - Time: 0.60s\n",
      "Epoch 1218, Train: 8.1178 - Val: 8.1200 - Time: 0.65s\n",
      "Epoch 1270, Train: 8.1198 - Val: 8.1194 - Time: 0.63s\n",
      "Epoch 1336, Train: 8.1179 - Val: 8.1192 - Time: 0.63s\n",
      "Epoch 1392, Train: 8.1186 - Val: 8.1192 - Time: 0.63s\n",
      "Epoch 1399, Train: 8.1177 - Val: 8.1190 - Time: 0.63s\n",
      "Epoch 1405, Train: 8.1174 - Val: 8.1188 - Time: 0.61s\n",
      "Epoch 1429, Train: 8.1180 - Val: 8.1184 - Time: 0.62s\n",
      "Early stopping triggered at epoch 1529\n",
      "Best model saved at: ./src/models\\lstm_autoencoder_20250609_203225.pt with val loss: 8.1184\n"
     ]
    },
    {
     "data": {
      "application/vnd.plotly.v1+json": {
       "config": {
        "plotlyServerURL": "https://plot.ly"
       },
       "data": [
        {
         "hovertemplate": "variable=train_loss<br>Epoch=%{x}<br>Loss=%{y}<extra></extra>",
         "legendgroup": "train_loss",
         "line": {
          "color": "#636efa",
          "dash": "solid"
         },
         "marker": {
          "symbol": "circle"
         },
         "mode": "lines",
         "name": "train_loss",
         "showlegend": true,
         "type": "scattergl",
         "x": {
          "bdata": "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",
          "dtype": "i4"
         },
         "xaxis": "x",
         "y": {
          "bdata": "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",
          "dtype": "f8"
         },
         "yaxis": "y"
        },
        {
         "hovertemplate": "variable=val_loss<br>Epoch=%{x}<br>Loss=%{y}<extra></extra>",
         "legendgroup": "val_loss",
         "line": {
          "color": "#EF553B",
          "dash": "solid"
         },
         "marker": {
          "symbol": "circle"
         },
         "mode": "lines",
         "name": "val_loss",
         "showlegend": true,
         "type": "scattergl",
         "x": {
          "bdata": "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",
          "dtype": "i4"
         },
         "xaxis": "x",
         "y": {
          "bdata": "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",
          "dtype": "f8"
         },
         "yaxis": "y"
        }
       ],
       "layout": {
        "legend": {
         "font": {
          "size": 18
         },
         "title": {
          "text": "variable"
         },
         "tracegroupgap": 0
        },
        "template": {
         "data": {
          "bar": [
           {
            "error_x": {
             "color": "#2a3f5f"
            },
            "error_y": {
             "color": "#2a3f5f"
            },
            "marker": {
             "line": {
              "color": "#E5ECF6",
              "width": 0.5
             },
             "pattern": {
              "fillmode": "overlay",
              "size": 10,
              "solidity": 0.2
             }
            },
            "type": "bar"
           }
          ],
          "barpolar": [
           {
            "marker": {
             "line": {
              "color": "#E5ECF6",
              "width": 0.5
             },
             "pattern": {
              "fillmode": "overlay",
              "size": 10,
              "solidity": 0.2
             }
            },
            "type": "barpolar"
           }
          ],
          "carpet": [
           {
            "aaxis": {
             "endlinecolor": "#2a3f5f",
             "gridcolor": "white",
             "linecolor": "white",
             "minorgridcolor": "white",
             "startlinecolor": "#2a3f5f"
            },
            "baxis": {
             "endlinecolor": "#2a3f5f",
             "gridcolor": "white",
             "linecolor": "white",
             "minorgridcolor": "white",
             "startlinecolor": "#2a3f5f"
            },
            "type": "carpet"
           }
          ],
          "choropleth": [
           {
            "colorbar": {
             "outlinewidth": 0,
             "ticks": ""
            },
            "type": "choropleth"
           }
          ],
          "contour": [
           {
            "colorbar": {
             "outlinewidth": 0,
             "ticks": ""
            },
            "colorscale": [
             [
              0,
              "#0d0887"
             ],
             [
              0.1111111111111111,
              "#46039f"
             ],
             [
              0.2222222222222222,
              "#7201a8"
             ],
             [
              0.3333333333333333,
              "#9c179e"
             ],
             [
              0.4444444444444444,
              "#bd3786"
             ],
             [
              0.5555555555555556,
              "#d8576b"
             ],
             [
              0.6666666666666666,
              "#ed7953"
             ],
             [
              0.7777777777777778,
              "#fb9f3a"
             ],
             [
              0.8888888888888888,
              "#fdca26"
             ],
             [
              1,
              "#f0f921"
             ]
            ],
            "type": "contour"
           }
          ],
          "contourcarpet": [
           {
            "colorbar": {
             "outlinewidth": 0,
             "ticks": ""
            },
            "type": "contourcarpet"
           }
          ],
          "heatmap": [
           {
            "colorbar": {
             "outlinewidth": 0,
             "ticks": ""
            },
            "colorscale": [
             [
              0,
              "#0d0887"
             ],
             [
              0.1111111111111111,
              "#46039f"
             ],
             [
              0.2222222222222222,
              "#7201a8"
             ],
             [
              0.3333333333333333,
              "#9c179e"
             ],
             [
              0.4444444444444444,
              "#bd3786"
             ],
             [
              0.5555555555555556,
              "#d8576b"
             ],
             [
              0.6666666666666666,
              "#ed7953"
             ],
             [
              0.7777777777777778,
              "#fb9f3a"
             ],
             [
              0.8888888888888888,
              "#fdca26"
             ],
             [
              1,
              "#f0f921"
             ]
            ],
            "type": "heatmap"
           }
          ],
          "histogram": [
           {
            "marker": {
             "pattern": {
              "fillmode": "overlay",
              "size": 10,
              "solidity": 0.2
             }
            },
            "type": "histogram"
           }
          ],
          "histogram2d": [
           {
            "colorbar": {
             "outlinewidth": 0,
             "ticks": ""
            },
            "colorscale": [
             [
              0,
              "#0d0887"
             ],
             [
              0.1111111111111111,
              "#46039f"
             ],
             [
              0.2222222222222222,
              "#7201a8"
             ],
             [
              0.3333333333333333,
              "#9c179e"
             ],
             [
              0.4444444444444444,
              "#bd3786"
             ],
             [
              0.5555555555555556,
              "#d8576b"
             ],
             [
              0.6666666666666666,
              "#ed7953"
             ],
             [
              0.7777777777777778,
              "#fb9f3a"
             ],
             [
              0.8888888888888888,
              "#fdca26"
             ],
             [
              1,
              "#f0f921"
             ]
            ],
            "type": "histogram2d"
           }
          ],
          "histogram2dcontour": [
           {
            "colorbar": {
             "outlinewidth": 0,
             "ticks": ""
            },
            "colorscale": [
             [
              0,
              "#0d0887"
             ],
             [
              0.1111111111111111,
              "#46039f"
             ],
             [
              0.2222222222222222,
              "#7201a8"
             ],
             [
              0.3333333333333333,
              "#9c179e"
             ],
             [
              0.4444444444444444,
              "#bd3786"
             ],
             [
              0.5555555555555556,
              "#d8576b"
             ],
             [
              0.6666666666666666,
              "#ed7953"
             ],
             [
              0.7777777777777778,
              "#fb9f3a"
             ],
             [
              0.8888888888888888,
              "#fdca26"
             ],
             [
              1,
              "#f0f921"
             ]
            ],
            "type": "histogram2dcontour"
           }
          ],
          "mesh3d": [
           {
            "colorbar": {
             "outlinewidth": 0,
             "ticks": ""
            },
            "type": "mesh3d"
           }
          ],
          "parcoords": [
           {
            "line": {
             "colorbar": {
              "outlinewidth": 0,
              "ticks": ""
             }
            },
            "type": "parcoords"
           }
          ],
          "pie": [
           {
            "automargin": true,
            "type": "pie"
           }
          ],
          "scatter": [
           {
            "fillpattern": {
             "fillmode": "overlay",
             "size": 10,
             "solidity": 0.2
            },
            "type": "scatter"
           }
          ],
          "scatter3d": [
           {
            "line": {
             "colorbar": {
              "outlinewidth": 0,
              "ticks": ""
             }
            },
            "marker": {
             "colorbar": {
              "outlinewidth": 0,
              "ticks": ""
             }
            },
            "type": "scatter3d"
           }
          ],
          "scattercarpet": [
           {
            "marker": {
             "colorbar": {
              "outlinewidth": 0,
              "ticks": ""
             }
            },
            "type": "scattercarpet"
           }
          ],
          "scattergeo": [
           {
            "marker": {
             "colorbar": {
              "outlinewidth": 0,
              "ticks": ""
             }
            },
            "type": "scattergeo"
           }
          ],
          "scattergl": [
           {
            "marker": {
             "colorbar": {
              "outlinewidth": 0,
              "ticks": ""
             }
            },
            "type": "scattergl"
           }
          ],
          "scattermap": [
           {
            "marker": {
             "colorbar": {
              "outlinewidth": 0,
              "ticks": ""
             }
            },
            "type": "scattermap"
           }
          ],
          "scattermapbox": [
           {
            "marker": {
             "colorbar": {
              "outlinewidth": 0,
              "ticks": ""
             }
            },
            "type": "scattermapbox"
           }
          ],
          "scatterpolar": [
           {
            "marker": {
             "colorbar": {
              "outlinewidth": 0,
              "ticks": ""
             }
            },
            "type": "scatterpolar"
           }
          ],
          "scatterpolargl": [
           {
            "marker": {
             "colorbar": {
              "outlinewidth": 0,
              "ticks": ""
             }
            },
            "type": "scatterpolargl"
           }
          ],
          "scatterternary": [
           {
            "marker": {
             "colorbar": {
              "outlinewidth": 0,
              "ticks": ""
             }
            },
            "type": "scatterternary"
           }
          ],
          "surface": [
           {
            "colorbar": {
             "outlinewidth": 0,
             "ticks": ""
            },
            "colorscale": [
             [
              0,
              "#0d0887"
             ],
             [
              0.1111111111111111,
              "#46039f"
             ],
             [
              0.2222222222222222,
              "#7201a8"
             ],
             [
              0.3333333333333333,
              "#9c179e"
             ],
             [
              0.4444444444444444,
              "#bd3786"
             ],
             [
              0.5555555555555556,
              "#d8576b"
             ],
             [
              0.6666666666666666,
              "#ed7953"
             ],
             [
              0.7777777777777778,
              "#fb9f3a"
             ],
             [
              0.8888888888888888,
              "#fdca26"
             ],
             [
              1,
              "#f0f921"
             ]
            ],
            "type": "surface"
           }
          ],
          "table": [
           {
            "cells": {
             "fill": {
              "color": "#EBF0F8"
             },
             "line": {
              "color": "white"
             }
            },
            "header": {
             "fill": {
              "color": "#C8D4E3"
             },
             "line": {
              "color": "white"
             }
            },
            "type": "table"
           }
          ]
         },
         "layout": {
          "annotationdefaults": {
           "arrowcolor": "#2a3f5f",
           "arrowhead": 0,
           "arrowwidth": 1
          },
          "autotypenumbers": "strict",
          "coloraxis": {
           "colorbar": {
            "outlinewidth": 0,
            "ticks": ""
           }
          },
          "colorscale": {
           "diverging": [
            [
             0,
             "#8e0152"
            ],
            [
             0.1,
             "#c51b7d"
            ],
            [
             0.2,
             "#de77ae"
            ],
            [
             0.3,
             "#f1b6da"
            ],
            [
             0.4,
             "#fde0ef"
            ],
            [
             0.5,
             "#f7f7f7"
            ],
            [
             0.6,
             "#e6f5d0"
            ],
            [
             0.7,
             "#b8e186"
            ],
            [
             0.8,
             "#7fbc41"
            ],
            [
             0.9,
             "#4d9221"
            ],
            [
             1,
             "#276419"
            ]
           ],
           "sequential": [
            [
             0,
             "#0d0887"
            ],
            [
             0.1111111111111111,
             "#46039f"
            ],
            [
             0.2222222222222222,
             "#7201a8"
            ],
            [
             0.3333333333333333,
             "#9c179e"
            ],
            [
             0.4444444444444444,
             "#bd3786"
            ],
            [
             0.5555555555555556,
             "#d8576b"
            ],
            [
             0.6666666666666666,
             "#ed7953"
            ],
            [
             0.7777777777777778,
             "#fb9f3a"
            ],
            [
             0.8888888888888888,
             "#fdca26"
            ],
            [
             1,
             "#f0f921"
            ]
           ],
           "sequentialminus": [
            [
             0,
             "#0d0887"
            ],
            [
             0.1111111111111111,
             "#46039f"
            ],
            [
             0.2222222222222222,
             "#7201a8"
            ],
            [
             0.3333333333333333,
             "#9c179e"
            ],
            [
             0.4444444444444444,
             "#bd3786"
            ],
            [
             0.5555555555555556,
             "#d8576b"
            ],
            [
             0.6666666666666666,
             "#ed7953"
            ],
            [
             0.7777777777777778,
             "#fb9f3a"
            ],
            [
             0.8888888888888888,
             "#fdca26"
            ],
            [
             1,
             "#f0f921"
            ]
           ]
          },
          "colorway": [
           "#636efa",
           "#EF553B",
           "#00cc96",
           "#ab63fa",
           "#FFA15A",
           "#19d3f3",
           "#FF6692",
           "#B6E880",
           "#FF97FF",
           "#FECB52"
          ],
          "font": {
           "color": "#2a3f5f"
          },
          "geo": {
           "bgcolor": "white",
           "lakecolor": "white",
           "landcolor": "#E5ECF6",
           "showlakes": true,
           "showland": true,
           "subunitcolor": "white"
          },
          "hoverlabel": {
           "align": "left"
          },
          "hovermode": "closest",
          "mapbox": {
           "style": "light"
          },
          "paper_bgcolor": "white",
          "plot_bgcolor": "#E5ECF6",
          "polar": {
           "angularaxis": {
            "gridcolor": "white",
            "linecolor": "white",
            "ticks": ""
           },
           "bgcolor": "#E5ECF6",
           "radialaxis": {
            "gridcolor": "white",
            "linecolor": "white",
            "ticks": ""
           }
          },
          "scene": {
           "xaxis": {
            "backgroundcolor": "#E5ECF6",
            "gridcolor": "white",
            "gridwidth": 2,
            "linecolor": "white",
            "showbackground": true,
            "ticks": "",
            "zerolinecolor": "white"
           },
           "yaxis": {
            "backgroundcolor": "#E5ECF6",
            "gridcolor": "white",
            "gridwidth": 2,
            "linecolor": "white",
            "showbackground": true,
            "ticks": "",
            "zerolinecolor": "white"
           },
           "zaxis": {
            "backgroundcolor": "#E5ECF6",
            "gridcolor": "white",
            "gridwidth": 2,
            "linecolor": "white",
            "showbackground": true,
            "ticks": "",
            "zerolinecolor": "white"
           }
          },
          "shapedefaults": {
           "line": {
            "color": "#2a3f5f"
           }
          },
          "ternary": {
           "aaxis": {
            "gridcolor": "white",
            "linecolor": "white",
            "ticks": ""
           },
           "baxis": {
            "gridcolor": "white",
            "linecolor": "white",
            "ticks": ""
           },
           "bgcolor": "#E5ECF6",
           "caxis": {
            "gridcolor": "white",
            "linecolor": "white",
            "ticks": ""
           }
          },
          "title": {
           "x": 0.05
          },
          "xaxis": {
           "automargin": true,
           "gridcolor": "white",
           "linecolor": "white",
           "ticks": "",
           "title": {
            "standoff": 15
           },
           "zerolinecolor": "white",
           "zerolinewidth": 2
          },
          "yaxis": {
           "automargin": true,
           "gridcolor": "white",
           "linecolor": "white",
           "ticks": "",
           "title": {
            "standoff": 15
           },
           "zerolinecolor": "white",
           "zerolinewidth": 2
          }
         }
        },
        "title": {
         "font": {
          "size": 24
         },
         "text": "Training and Validation Losses"
        },
        "xaxis": {
         "anchor": "y",
         "domain": [
          0,
          1
         ],
         "title": {
          "font": {
           "size": 16
          },
          "text": "Epoch"
         }
        },
        "yaxis": {
         "anchor": "x",
         "domain": [
          0,
          1
         ],
         "title": {
          "font": {
           "size": 16
          },
          "text": "Loss"
         }
        }
       }
      }
     },
     "metadata": {},
     "output_type": "display_data"
    }
   ],
   "source": [
    "### Training block\n",
    "model = None\n",
    "if BEST_MODEL_PATH:\n",
    "    model = load_model(model_path=BEST_MODEL_PATH, input_dim=INPUT_DIM, hidden_dim=HIDDEN_DIM, latent_dim=LATENT_DIM)\n",
    "    load_and_plot_losses(losses_path=BEST_LOSS_PATH,\n",
    "                        title_font_size=TITLE_FONT_SIZE,\n",
    "                        axis_title_font_size=AXIS_TITLE_FONT_SIZE,\n",
    "                        legend_font_size=LEGEND_FONT_SIZE)\n",
    "else:\n",
    "    model, train_losses, val_losses = train_model(\n",
    "        step_tensor=step_tensor,\n",
    "        lengths=lengths,\n",
    "        input_dim=INPUT_DIM,\n",
    "        hidden_dim=HIDDEN_DIM,\n",
    "        latent_dim=LATENT_DIM,\n",
    "        batch_size=BATCH_SIZE,\n",
    "        num_epochs=NUM_EPOCHS,\n",
    "        lr=LR,\n",
    "        patience=PATIENCE,\n",
    "        min_delta=MIN_DELTA,\n",
    "        models_dir=MODELS_DIR\n",
    "    )\n",
    "    save_model_losses(train_losses, val_losses, figures_dir=FIGURES_DIR,\n",
    "                        title_font_size=TITLE_FONT_SIZE,\n",
    "                        axis_title_font_size=AXIS_FONT_SIZE,\n",
    "                        legend_font_size=LEGEND_FONT_SIZE)\n",
    "\n",
    "assert model is not None, \"Model training failed or no model was loaded.\""
   ]
  },
  {
   "cell_type": "code",
   "execution_count": 6,
   "id": "5c794d2b",
   "metadata": {},
   "outputs": [
    {
     "name": "stderr",
     "output_type": "stream",
     "text": [
      "c:\\Users\\carme\\Documents\\GitHub\\MScThesis\\.venv\\Lib\\site-packages\\umap\\umap_.py:1952: UserWarning:\n",
      "\n",
      "n_jobs value 1 overridden to 1 by setting random_state. Use no seed for parallelism.\n",
      "\n"
     ]
    },
    {
     "ename": "OSError",
     "evalue": "exception: access violation reading 0x00000001BDA838E1",
     "output_type": "error",
     "traceback": [
      "\u001b[31m---------------------------------------------------------------------------\u001b[39m",
      "\u001b[31mOSError\u001b[39m                                   Traceback (most recent call last)",
      "\u001b[36mCell\u001b[39m\u001b[36m \u001b[39m\u001b[32mIn[6]\u001b[39m\u001b[32m, line 24\u001b[39m\n\u001b[32m     21\u001b[39m all_latents = np.concatenate(mu_t_masked, axis=\u001b[32m0\u001b[39m)  \u001b[38;5;66;03m# shape: (total_timepoints, D)\u001b[39;00m\n\u001b[32m     23\u001b[39m \u001b[38;5;66;03m# Fit UMAP\u001b[39;00m\n\u001b[32m---> \u001b[39m\u001b[32m24\u001b[39m umap_coords = \u001b[43mUMAP\u001b[49m\u001b[43m(\u001b[49m\u001b[43mn_components\u001b[49m\u001b[43m=\u001b[49m\u001b[32;43m3\u001b[39;49m\u001b[43m,\u001b[49m\u001b[43m \u001b[49m\u001b[43mrandom_state\u001b[49m\u001b[43m=\u001b[49m\u001b[32;43m42\u001b[39;49m\u001b[43m)\u001b[49m\u001b[43m.\u001b[49m\u001b[43mfit_transform\u001b[49m\u001b[43m(\u001b[49m\u001b[43mall_latents\u001b[49m\u001b[43m)\u001b[49m\n\u001b[32m     26\u001b[39m \u001b[38;5;66;03m# Now split the coordinates back by original steps\u001b[39;00m\n\u001b[32m     27\u001b[39m umap_split = []\n",
      "\u001b[36mFile \u001b[39m\u001b[32mc:\\Users\\carme\\Documents\\GitHub\\MScThesis\\.venv\\Lib\\site-packages\\umap\\umap_.py:2928\u001b[39m, in \u001b[36mUMAP.fit_transform\u001b[39m\u001b[34m(self, X, y, force_all_finite, **kwargs)\u001b[39m\n\u001b[32m   2890\u001b[39m \u001b[38;5;28;01mdef\u001b[39;00m\u001b[38;5;250m \u001b[39m\u001b[34mfit_transform\u001b[39m(\u001b[38;5;28mself\u001b[39m, X, y=\u001b[38;5;28;01mNone\u001b[39;00m, force_all_finite=\u001b[38;5;28;01mTrue\u001b[39;00m, **kwargs):\n\u001b[32m   2891\u001b[39m \u001b[38;5;250m    \u001b[39m\u001b[33;03m\"\"\"Fit X into an embedded space and return that transformed\u001b[39;00m\n\u001b[32m   2892\u001b[39m \u001b[33;03m    output.\u001b[39;00m\n\u001b[32m   2893\u001b[39m \n\u001b[32m   (...)\u001b[39m\u001b[32m   2926\u001b[39m \u001b[33;03m        Local radii of data points in the embedding (log-transformed).\u001b[39;00m\n\u001b[32m   2927\u001b[39m \u001b[33;03m    \"\"\"\u001b[39;00m\n\u001b[32m-> \u001b[39m\u001b[32m2928\u001b[39m     \u001b[38;5;28;43mself\u001b[39;49m\u001b[43m.\u001b[49m\u001b[43mfit\u001b[49m\u001b[43m(\u001b[49m\u001b[43mX\u001b[49m\u001b[43m,\u001b[49m\u001b[43m \u001b[49m\u001b[43my\u001b[49m\u001b[43m,\u001b[49m\u001b[43m \u001b[49m\u001b[43mforce_all_finite\u001b[49m\u001b[43m,\u001b[49m\u001b[43m \u001b[49m\u001b[43m*\u001b[49m\u001b[43m*\u001b[49m\u001b[43mkwargs\u001b[49m\u001b[43m)\u001b[49m\n\u001b[32m   2929\u001b[39m     \u001b[38;5;28;01mif\u001b[39;00m \u001b[38;5;28mself\u001b[39m.transform_mode == \u001b[33m\"\u001b[39m\u001b[33membedding\u001b[39m\u001b[33m\"\u001b[39m:\n\u001b[32m   2930\u001b[39m         \u001b[38;5;28;01mif\u001b[39;00m \u001b[38;5;28mself\u001b[39m.output_dens:\n",
      "\u001b[36mFile \u001b[39m\u001b[32mc:\\Users\\carme\\Documents\\GitHub\\MScThesis\\.venv\\Lib\\site-packages\\umap\\umap_.py:2635\u001b[39m, in \u001b[36mUMAP.fit\u001b[39m\u001b[34m(self, X, y, force_all_finite, **kwargs)\u001b[39m\n\u001b[32m   2629\u001b[39m     nn_metric = \u001b[38;5;28mself\u001b[39m._input_distance_func\n\u001b[32m   2630\u001b[39m \u001b[38;5;28;01mif\u001b[39;00m \u001b[38;5;28mself\u001b[39m.knn_dists \u001b[38;5;129;01mis\u001b[39;00m \u001b[38;5;28;01mNone\u001b[39;00m:\n\u001b[32m   2631\u001b[39m     (\n\u001b[32m   2632\u001b[39m         \u001b[38;5;28mself\u001b[39m._knn_indices,\n\u001b[32m   2633\u001b[39m         \u001b[38;5;28mself\u001b[39m._knn_dists,\n\u001b[32m   2634\u001b[39m         \u001b[38;5;28mself\u001b[39m._knn_search_index,\n\u001b[32m-> \u001b[39m\u001b[32m2635\u001b[39m     ) = \u001b[43mnearest_neighbors\u001b[49m\u001b[43m(\u001b[49m\n\u001b[32m   2636\u001b[39m \u001b[43m        \u001b[49m\u001b[43mX\u001b[49m\u001b[43m[\u001b[49m\u001b[43mindex\u001b[49m\u001b[43m]\u001b[49m\u001b[43m,\u001b[49m\n\u001b[32m   2637\u001b[39m \u001b[43m        \u001b[49m\u001b[38;5;28;43mself\u001b[39;49m\u001b[43m.\u001b[49m\u001b[43m_n_neighbors\u001b[49m\u001b[43m,\u001b[49m\n\u001b[32m   2638\u001b[39m \u001b[43m        \u001b[49m\u001b[43mnn_metric\u001b[49m\u001b[43m,\u001b[49m\n\u001b[32m   2639\u001b[39m \u001b[43m        \u001b[49m\u001b[38;5;28;43mself\u001b[39;49m\u001b[43m.\u001b[49m\u001b[43m_metric_kwds\u001b[49m\u001b[43m,\u001b[49m\n\u001b[32m   2640\u001b[39m \u001b[43m        \u001b[49m\u001b[38;5;28;43mself\u001b[39;49m\u001b[43m.\u001b[49m\u001b[43mangular_rp_forest\u001b[49m\u001b[43m,\u001b[49m\n\u001b[32m   2641\u001b[39m \u001b[43m        \u001b[49m\u001b[43mrandom_state\u001b[49m\u001b[43m,\u001b[49m\n\u001b[32m   2642\u001b[39m \u001b[43m        \u001b[49m\u001b[38;5;28;43mself\u001b[39;49m\u001b[43m.\u001b[49m\u001b[43mlow_memory\u001b[49m\u001b[43m,\u001b[49m\n\u001b[32m   2643\u001b[39m \u001b[43m        \u001b[49m\u001b[43muse_pynndescent\u001b[49m\u001b[43m=\u001b[49m\u001b[38;5;28;43;01mTrue\u001b[39;49;00m\u001b[43m,\u001b[49m\n\u001b[32m   2644\u001b[39m \u001b[43m        \u001b[49m\u001b[43mn_jobs\u001b[49m\u001b[43m=\u001b[49m\u001b[38;5;28;43mself\u001b[39;49m\u001b[43m.\u001b[49m\u001b[43mn_jobs\u001b[49m\u001b[43m,\u001b[49m\n\u001b[32m   2645\u001b[39m \u001b[43m        \u001b[49m\u001b[43mverbose\u001b[49m\u001b[43m=\u001b[49m\u001b[38;5;28;43mself\u001b[39;49m\u001b[43m.\u001b[49m\u001b[43mverbose\u001b[49m\u001b[43m,\u001b[49m\n\u001b[32m   2646\u001b[39m \u001b[43m    \u001b[49m\u001b[43m)\u001b[49m\n\u001b[32m   2647\u001b[39m \u001b[38;5;28;01melse\u001b[39;00m:\n\u001b[32m   2648\u001b[39m     \u001b[38;5;28mself\u001b[39m._knn_indices = \u001b[38;5;28mself\u001b[39m.knn_indices\n",
      "\u001b[36mFile \u001b[39m\u001b[32mc:\\Users\\carme\\Documents\\GitHub\\MScThesis\\.venv\\Lib\\site-packages\\umap\\umap_.py:330\u001b[39m, in \u001b[36mnearest_neighbors\u001b[39m\u001b[34m(X, n_neighbors, metric, metric_kwds, angular, random_state, low_memory, use_pynndescent, n_jobs, verbose)\u001b[39m\n\u001b[32m    327\u001b[39m     n_trees = \u001b[38;5;28mmin\u001b[39m(\u001b[32m64\u001b[39m, \u001b[32m5\u001b[39m + \u001b[38;5;28mint\u001b[39m(\u001b[38;5;28mround\u001b[39m((X.shape[\u001b[32m0\u001b[39m]) ** \u001b[32m0.5\u001b[39m / \u001b[32m20.0\u001b[39m)))\n\u001b[32m    328\u001b[39m     n_iters = \u001b[38;5;28mmax\u001b[39m(\u001b[32m5\u001b[39m, \u001b[38;5;28mint\u001b[39m(\u001b[38;5;28mround\u001b[39m(np.log2(X.shape[\u001b[32m0\u001b[39m]))))\n\u001b[32m--> \u001b[39m\u001b[32m330\u001b[39m     knn_search_index = \u001b[43mNNDescent\u001b[49m\u001b[43m(\u001b[49m\n\u001b[32m    331\u001b[39m \u001b[43m        \u001b[49m\u001b[43mX\u001b[49m\u001b[43m,\u001b[49m\n\u001b[32m    332\u001b[39m \u001b[43m        \u001b[49m\u001b[43mn_neighbors\u001b[49m\u001b[43m=\u001b[49m\u001b[43mn_neighbors\u001b[49m\u001b[43m,\u001b[49m\n\u001b[32m    333\u001b[39m \u001b[43m        \u001b[49m\u001b[43mmetric\u001b[49m\u001b[43m=\u001b[49m\u001b[43mmetric\u001b[49m\u001b[43m,\u001b[49m\n\u001b[32m    334\u001b[39m \u001b[43m        \u001b[49m\u001b[43mmetric_kwds\u001b[49m\u001b[43m=\u001b[49m\u001b[43mmetric_kwds\u001b[49m\u001b[43m,\u001b[49m\n\u001b[32m    335\u001b[39m \u001b[43m        \u001b[49m\u001b[43mrandom_state\u001b[49m\u001b[43m=\u001b[49m\u001b[43mrandom_state\u001b[49m\u001b[43m,\u001b[49m\n\u001b[32m    336\u001b[39m \u001b[43m        \u001b[49m\u001b[43mn_trees\u001b[49m\u001b[43m=\u001b[49m\u001b[43mn_trees\u001b[49m\u001b[43m,\u001b[49m\n\u001b[32m    337\u001b[39m \u001b[43m        \u001b[49m\u001b[43mn_iters\u001b[49m\u001b[43m=\u001b[49m\u001b[43mn_iters\u001b[49m\u001b[43m,\u001b[49m\n\u001b[32m    338\u001b[39m \u001b[43m        \u001b[49m\u001b[43mmax_candidates\u001b[49m\u001b[43m=\u001b[49m\u001b[32;43m60\u001b[39;49m\u001b[43m,\u001b[49m\n\u001b[32m    339\u001b[39m \u001b[43m        \u001b[49m\u001b[43mlow_memory\u001b[49m\u001b[43m=\u001b[49m\u001b[43mlow_memory\u001b[49m\u001b[43m,\u001b[49m\n\u001b[32m    340\u001b[39m \u001b[43m        \u001b[49m\u001b[43mn_jobs\u001b[49m\u001b[43m=\u001b[49m\u001b[43mn_jobs\u001b[49m\u001b[43m,\u001b[49m\n\u001b[32m    341\u001b[39m \u001b[43m        \u001b[49m\u001b[43mverbose\u001b[49m\u001b[43m=\u001b[49m\u001b[43mverbose\u001b[49m\u001b[43m,\u001b[49m\n\u001b[32m    342\u001b[39m \u001b[43m        \u001b[49m\u001b[43mcompressed\u001b[49m\u001b[43m=\u001b[49m\u001b[38;5;28;43;01mFalse\u001b[39;49;00m\u001b[43m,\u001b[49m\n\u001b[32m    343\u001b[39m \u001b[43m    \u001b[49m\u001b[43m)\u001b[49m\n\u001b[32m    344\u001b[39m     knn_indices, knn_dists = knn_search_index.neighbor_graph\n\u001b[32m    346\u001b[39m \u001b[38;5;28;01mif\u001b[39;00m verbose:\n",
      "\u001b[36mFile \u001b[39m\u001b[32mc:\\Users\\carme\\Documents\\GitHub\\MScThesis\\.venv\\Lib\\site-packages\\pynndescent\\pynndescent_.py:923\u001b[39m, in \u001b[36mNNDescent.__init__\u001b[39m\u001b[34m(self, data, metric, metric_kwds, n_neighbors, n_trees, leaf_size, pruning_degree_multiplier, diversify_prob, n_search_trees, tree_init, init_graph, init_dist, random_state, low_memory, max_candidates, max_rptree_depth, n_iters, delta, n_jobs, compressed, parallel_batch_queries, verbose)\u001b[39m\n\u001b[32m    920\u001b[39m     \u001b[38;5;28;01mif\u001b[39;00m verbose:\n\u001b[32m    921\u001b[39m         \u001b[38;5;28mprint\u001b[39m(ts(), \u001b[33m\"\u001b[39m\u001b[33mNN descent for\u001b[39m\u001b[33m\"\u001b[39m, \u001b[38;5;28mstr\u001b[39m(n_iters), \u001b[33m\"\u001b[39m\u001b[33miterations\u001b[39m\u001b[33m\"\u001b[39m)\n\u001b[32m--> \u001b[39m\u001b[32m923\u001b[39m     \u001b[38;5;28mself\u001b[39m._neighbor_graph = \u001b[43mnn_descent\u001b[49m\u001b[43m(\u001b[49m\n\u001b[32m    924\u001b[39m \u001b[43m        \u001b[49m\u001b[38;5;28;43mself\u001b[39;49m\u001b[43m.\u001b[49m\u001b[43m_raw_data\u001b[49m\u001b[43m,\u001b[49m\n\u001b[32m    925\u001b[39m \u001b[43m        \u001b[49m\u001b[38;5;28;43mself\u001b[39;49m\u001b[43m.\u001b[49m\u001b[43mn_neighbors\u001b[49m\u001b[43m,\u001b[49m\n\u001b[32m    926\u001b[39m \u001b[43m        \u001b[49m\u001b[38;5;28;43mself\u001b[39;49m\u001b[43m.\u001b[49m\u001b[43mrng_state\u001b[49m\u001b[43m,\u001b[49m\n\u001b[32m    927\u001b[39m \u001b[43m        \u001b[49m\u001b[43meffective_max_candidates\u001b[49m\u001b[43m,\u001b[49m\n\u001b[32m    928\u001b[39m \u001b[43m        \u001b[49m\u001b[38;5;28;43mself\u001b[39;49m\u001b[43m.\u001b[49m\u001b[43m_distance_func\u001b[49m\u001b[43m,\u001b[49m\n\u001b[32m    929\u001b[39m \u001b[43m        \u001b[49m\u001b[38;5;28;43mself\u001b[39;49m\u001b[43m.\u001b[49m\u001b[43mn_iters\u001b[49m\u001b[43m,\u001b[49m\n\u001b[32m    930\u001b[39m \u001b[43m        \u001b[49m\u001b[38;5;28;43mself\u001b[39;49m\u001b[43m.\u001b[49m\u001b[43mdelta\u001b[49m\u001b[43m,\u001b[49m\n\u001b[32m    931\u001b[39m \u001b[43m        \u001b[49m\u001b[43mlow_memory\u001b[49m\u001b[43m=\u001b[49m\u001b[38;5;28;43mself\u001b[39;49m\u001b[43m.\u001b[49m\u001b[43mlow_memory\u001b[49m\u001b[43m,\u001b[49m\n\u001b[32m    932\u001b[39m \u001b[43m        \u001b[49m\u001b[43mrp_tree_init\u001b[49m\u001b[43m=\u001b[49m\u001b[38;5;28;43;01mTrue\u001b[39;49;00m\u001b[43m,\u001b[49m\n\u001b[32m    933\u001b[39m \u001b[43m        \u001b[49m\u001b[43minit_graph\u001b[49m\u001b[43m=\u001b[49m\u001b[43m_init_graph\u001b[49m\u001b[43m,\u001b[49m\n\u001b[32m    934\u001b[39m \u001b[43m        \u001b[49m\u001b[43mleaf_array\u001b[49m\u001b[43m=\u001b[49m\u001b[43mleaf_array\u001b[49m\u001b[43m,\u001b[49m\n\u001b[32m    935\u001b[39m \u001b[43m        \u001b[49m\u001b[43mverbose\u001b[49m\u001b[43m=\u001b[49m\u001b[43mverbose\u001b[49m\u001b[43m,\u001b[49m\n\u001b[32m    936\u001b[39m \u001b[43m    \u001b[49m\u001b[43m)\u001b[49m\n\u001b[32m    938\u001b[39m \u001b[38;5;28;01mif\u001b[39;00m np.any(\u001b[38;5;28mself\u001b[39m._neighbor_graph[\u001b[32m0\u001b[39m] < \u001b[32m0\u001b[39m):\n\u001b[32m    939\u001b[39m     warn(\n\u001b[32m    940\u001b[39m         \u001b[33m\"\u001b[39m\u001b[33mFailed to correctly find n_neighbors for some samples.\u001b[39m\u001b[33m\"\u001b[39m\n\u001b[32m    941\u001b[39m         \u001b[33m\"\u001b[39m\u001b[33m Results may be less than ideal. Try re-running with\u001b[39m\u001b[33m\"\u001b[39m\n\u001b[32m    942\u001b[39m         \u001b[33m\"\u001b[39m\u001b[33m different parameters.\u001b[39m\u001b[33m\"\u001b[39m\n\u001b[32m    943\u001b[39m     )\n",
      "\u001b[36mFile \u001b[39m\u001b[32mc:\\Users\\carme\\Documents\\GitHub\\MScThesis\\.venv\\Lib\\site-packages\\numba\\core\\dispatcher.py:443\u001b[39m, in \u001b[36m_DispatcherBase._compile_for_args\u001b[39m\u001b[34m(self, *args, **kws)\u001b[39m\n\u001b[32m    441\u001b[39m             e.patch_message(\u001b[33m'\u001b[39m\u001b[38;5;130;01m\\n\u001b[39;00m\u001b[33m'\u001b[39m.join((\u001b[38;5;28mstr\u001b[39m(e).rstrip(), help_msg)))\n\u001b[32m    442\u001b[39m     \u001b[38;5;66;03m# ignore the FULL_TRACEBACKS config, this needs reporting!\u001b[39;00m\n\u001b[32m--> \u001b[39m\u001b[32m443\u001b[39m     \u001b[38;5;28;01mraise\u001b[39;00m e\n\u001b[32m    444\u001b[39m \u001b[38;5;28;01mfinally\u001b[39;00m:\n\u001b[32m    445\u001b[39m     \u001b[38;5;28mself\u001b[39m._types_active_call.clear()\n",
      "\u001b[36mFile \u001b[39m\u001b[32mc:\\Users\\carme\\Documents\\GitHub\\MScThesis\\.venv\\Lib\\site-packages\\numba\\core\\dispatcher.py:376\u001b[39m, in \u001b[36m_DispatcherBase._compile_for_args\u001b[39m\u001b[34m(self, *args, **kws)\u001b[39m\n\u001b[32m    374\u001b[39m return_val = \u001b[38;5;28;01mNone\u001b[39;00m\n\u001b[32m    375\u001b[39m \u001b[38;5;28;01mtry\u001b[39;00m:\n\u001b[32m--> \u001b[39m\u001b[32m376\u001b[39m     return_val = \u001b[38;5;28;43mself\u001b[39;49m\u001b[43m.\u001b[49m\u001b[43mcompile\u001b[49m\u001b[43m(\u001b[49m\u001b[38;5;28;43mtuple\u001b[39;49m\u001b[43m(\u001b[49m\u001b[43margtypes\u001b[49m\u001b[43m)\u001b[49m\u001b[43m)\u001b[49m\n\u001b[32m    377\u001b[39m \u001b[38;5;28;01mexcept\u001b[39;00m errors.ForceLiteralArg \u001b[38;5;28;01mas\u001b[39;00m e:\n\u001b[32m    378\u001b[39m     \u001b[38;5;66;03m# Received request for compiler re-entry with the list of arguments\u001b[39;00m\n\u001b[32m    379\u001b[39m     \u001b[38;5;66;03m# indicated by e.requested_args.\u001b[39;00m\n\u001b[32m    380\u001b[39m     \u001b[38;5;66;03m# First, check if any of these args are already Literal-ized\u001b[39;00m\n\u001b[32m    381\u001b[39m     already_lit_pos = [i \u001b[38;5;28;01mfor\u001b[39;00m i \u001b[38;5;129;01min\u001b[39;00m e.requested_args\n\u001b[32m    382\u001b[39m                        \u001b[38;5;28;01mif\u001b[39;00m \u001b[38;5;28misinstance\u001b[39m(args[i], types.Literal)]\n",
      "\u001b[36mFile \u001b[39m\u001b[32mc:\\Users\\carme\\Documents\\GitHub\\MScThesis\\.venv\\Lib\\site-packages\\numba\\core\\dispatcher.py:904\u001b[39m, in \u001b[36mDispatcher.compile\u001b[39m\u001b[34m(self, sig)\u001b[39m\n\u001b[32m    902\u001b[39m \u001b[38;5;28;01mwith\u001b[39;00m ev.trigger_event(\u001b[33m\"\u001b[39m\u001b[33mnumba:compile\u001b[39m\u001b[33m\"\u001b[39m, data=ev_details):\n\u001b[32m    903\u001b[39m     \u001b[38;5;28;01mtry\u001b[39;00m:\n\u001b[32m--> \u001b[39m\u001b[32m904\u001b[39m         cres = \u001b[38;5;28;43mself\u001b[39;49m\u001b[43m.\u001b[49m\u001b[43m_compiler\u001b[49m\u001b[43m.\u001b[49m\u001b[43mcompile\u001b[49m\u001b[43m(\u001b[49m\u001b[43margs\u001b[49m\u001b[43m,\u001b[49m\u001b[43m \u001b[49m\u001b[43mreturn_type\u001b[49m\u001b[43m)\u001b[49m\n\u001b[32m    905\u001b[39m     \u001b[38;5;28;01mexcept\u001b[39;00m errors.ForceLiteralArg \u001b[38;5;28;01mas\u001b[39;00m e:\n\u001b[32m    906\u001b[39m         \u001b[38;5;28;01mdef\u001b[39;00m\u001b[38;5;250m \u001b[39m\u001b[34mfolded\u001b[39m(args, kws):\n",
      "\u001b[36mFile \u001b[39m\u001b[32mc:\\Users\\carme\\Documents\\GitHub\\MScThesis\\.venv\\Lib\\site-packages\\numba\\core\\dispatcher.py:80\u001b[39m, in \u001b[36m_FunctionCompiler.compile\u001b[39m\u001b[34m(self, args, return_type)\u001b[39m\n\u001b[32m     79\u001b[39m \u001b[38;5;28;01mdef\u001b[39;00m\u001b[38;5;250m \u001b[39m\u001b[34mcompile\u001b[39m(\u001b[38;5;28mself\u001b[39m, args, return_type):\n\u001b[32m---> \u001b[39m\u001b[32m80\u001b[39m     status, retval = \u001b[38;5;28;43mself\u001b[39;49m\u001b[43m.\u001b[49m\u001b[43m_compile_cached\u001b[49m\u001b[43m(\u001b[49m\u001b[43margs\u001b[49m\u001b[43m,\u001b[49m\u001b[43m \u001b[49m\u001b[43mreturn_type\u001b[49m\u001b[43m)\u001b[49m\n\u001b[32m     81\u001b[39m     \u001b[38;5;28;01mif\u001b[39;00m status:\n\u001b[32m     82\u001b[39m         \u001b[38;5;28;01mreturn\u001b[39;00m retval\n",
      "\u001b[36mFile \u001b[39m\u001b[32mc:\\Users\\carme\\Documents\\GitHub\\MScThesis\\.venv\\Lib\\site-packages\\numba\\core\\dispatcher.py:94\u001b[39m, in \u001b[36m_FunctionCompiler._compile_cached\u001b[39m\u001b[34m(self, args, return_type)\u001b[39m\n\u001b[32m     91\u001b[39m     \u001b[38;5;28;01mpass\u001b[39;00m\n\u001b[32m     93\u001b[39m \u001b[38;5;28;01mtry\u001b[39;00m:\n\u001b[32m---> \u001b[39m\u001b[32m94\u001b[39m     retval = \u001b[38;5;28;43mself\u001b[39;49m\u001b[43m.\u001b[49m\u001b[43m_compile_core\u001b[49m\u001b[43m(\u001b[49m\u001b[43margs\u001b[49m\u001b[43m,\u001b[49m\u001b[43m \u001b[49m\u001b[43mreturn_type\u001b[49m\u001b[43m)\u001b[49m\n\u001b[32m     95\u001b[39m \u001b[38;5;28;01mexcept\u001b[39;00m errors.TypingError \u001b[38;5;28;01mas\u001b[39;00m e:\n\u001b[32m     96\u001b[39m     \u001b[38;5;28mself\u001b[39m._failed_cache[key] = e\n",
      "\u001b[36mFile \u001b[39m\u001b[32mc:\\Users\\carme\\Documents\\GitHub\\MScThesis\\.venv\\Lib\\site-packages\\numba\\core\\dispatcher.py:107\u001b[39m, in \u001b[36m_FunctionCompiler._compile_core\u001b[39m\u001b[34m(self, args, return_type)\u001b[39m\n\u001b[32m    104\u001b[39m flags = \u001b[38;5;28mself\u001b[39m._customize_flags(flags)\n\u001b[32m    106\u001b[39m impl = \u001b[38;5;28mself\u001b[39m._get_implementation(args, {})\n\u001b[32m--> \u001b[39m\u001b[32m107\u001b[39m cres = \u001b[43mcompiler\u001b[49m\u001b[43m.\u001b[49m\u001b[43mcompile_extra\u001b[49m\u001b[43m(\u001b[49m\u001b[38;5;28;43mself\u001b[39;49m\u001b[43m.\u001b[49m\u001b[43mtargetdescr\u001b[49m\u001b[43m.\u001b[49m\u001b[43mtyping_context\u001b[49m\u001b[43m,\u001b[49m\n\u001b[32m    108\u001b[39m \u001b[43m                              \u001b[49m\u001b[38;5;28;43mself\u001b[39;49m\u001b[43m.\u001b[49m\u001b[43mtargetdescr\u001b[49m\u001b[43m.\u001b[49m\u001b[43mtarget_context\u001b[49m\u001b[43m,\u001b[49m\n\u001b[32m    109\u001b[39m \u001b[43m                              \u001b[49m\u001b[43mimpl\u001b[49m\u001b[43m,\u001b[49m\n\u001b[32m    110\u001b[39m \u001b[43m                              \u001b[49m\u001b[43margs\u001b[49m\u001b[43m=\u001b[49m\u001b[43margs\u001b[49m\u001b[43m,\u001b[49m\u001b[43m \u001b[49m\u001b[43mreturn_type\u001b[49m\u001b[43m=\u001b[49m\u001b[43mreturn_type\u001b[49m\u001b[43m,\u001b[49m\n\u001b[32m    111\u001b[39m \u001b[43m                              \u001b[49m\u001b[43mflags\u001b[49m\u001b[43m=\u001b[49m\u001b[43mflags\u001b[49m\u001b[43m,\u001b[49m\u001b[43m \u001b[49m\u001b[38;5;28;43mlocals\u001b[39;49m\u001b[43m=\u001b[49m\u001b[38;5;28;43mself\u001b[39;49m\u001b[43m.\u001b[49m\u001b[43mlocals\u001b[49m\u001b[43m,\u001b[49m\n\u001b[32m    112\u001b[39m \u001b[43m                              \u001b[49m\u001b[43mpipeline_class\u001b[49m\u001b[43m=\u001b[49m\u001b[38;5;28;43mself\u001b[39;49m\u001b[43m.\u001b[49m\u001b[43mpipeline_class\u001b[49m\u001b[43m)\u001b[49m\n\u001b[32m    113\u001b[39m \u001b[38;5;66;03m# Check typing error if object mode is used\u001b[39;00m\n\u001b[32m    114\u001b[39m \u001b[38;5;28;01mif\u001b[39;00m cres.typing_error \u001b[38;5;129;01mis\u001b[39;00m \u001b[38;5;129;01mnot\u001b[39;00m \u001b[38;5;28;01mNone\u001b[39;00m \u001b[38;5;129;01mand\u001b[39;00m \u001b[38;5;129;01mnot\u001b[39;00m flags.enable_pyobject:\n",
      "\u001b[36mFile \u001b[39m\u001b[32mc:\\Users\\carme\\Documents\\GitHub\\MScThesis\\.venv\\Lib\\site-packages\\numba\\core\\compiler.py:739\u001b[39m, in \u001b[36mcompile_extra\u001b[39m\u001b[34m(typingctx, targetctx, func, args, return_type, flags, locals, library, pipeline_class)\u001b[39m\n\u001b[32m    715\u001b[39m \u001b[38;5;250m\u001b[39m\u001b[33;03m\"\"\"Compiler entry point\u001b[39;00m\n\u001b[32m    716\u001b[39m \n\u001b[32m    717\u001b[39m \u001b[33;03mParameter\u001b[39;00m\n\u001b[32m   (...)\u001b[39m\u001b[32m    735\u001b[39m \u001b[33;03m    compiler pipeline\u001b[39;00m\n\u001b[32m    736\u001b[39m \u001b[33;03m\"\"\"\u001b[39;00m\n\u001b[32m    737\u001b[39m pipeline = pipeline_class(typingctx, targetctx, library,\n\u001b[32m    738\u001b[39m                           args, return_type, flags, \u001b[38;5;28mlocals\u001b[39m)\n\u001b[32m--> \u001b[39m\u001b[32m739\u001b[39m \u001b[38;5;28;01mreturn\u001b[39;00m \u001b[43mpipeline\u001b[49m\u001b[43m.\u001b[49m\u001b[43mcompile_extra\u001b[49m\u001b[43m(\u001b[49m\u001b[43mfunc\u001b[49m\u001b[43m)\u001b[49m\n",
      "\u001b[36mFile \u001b[39m\u001b[32mc:\\Users\\carme\\Documents\\GitHub\\MScThesis\\.venv\\Lib\\site-packages\\numba\\core\\compiler.py:439\u001b[39m, in \u001b[36mCompilerBase.compile_extra\u001b[39m\u001b[34m(self, func)\u001b[39m\n\u001b[32m    437\u001b[39m \u001b[38;5;28mself\u001b[39m.state.lifted = ()\n\u001b[32m    438\u001b[39m \u001b[38;5;28mself\u001b[39m.state.lifted_from = \u001b[38;5;28;01mNone\u001b[39;00m\n\u001b[32m--> \u001b[39m\u001b[32m439\u001b[39m \u001b[38;5;28;01mreturn\u001b[39;00m \u001b[38;5;28;43mself\u001b[39;49m\u001b[43m.\u001b[49m\u001b[43m_compile_bytecode\u001b[49m\u001b[43m(\u001b[49m\u001b[43m)\u001b[49m\n",
      "\u001b[36mFile \u001b[39m\u001b[32mc:\\Users\\carme\\Documents\\GitHub\\MScThesis\\.venv\\Lib\\site-packages\\numba\\core\\compiler.py:505\u001b[39m, in \u001b[36mCompilerBase._compile_bytecode\u001b[39m\u001b[34m(self)\u001b[39m\n\u001b[32m    501\u001b[39m \u001b[38;5;250m\u001b[39m\u001b[33;03m\"\"\"\u001b[39;00m\n\u001b[32m    502\u001b[39m \u001b[33;03mPopulate and run pipeline for bytecode input\u001b[39;00m\n\u001b[32m    503\u001b[39m \u001b[33;03m\"\"\"\u001b[39;00m\n\u001b[32m    504\u001b[39m \u001b[38;5;28;01massert\u001b[39;00m \u001b[38;5;28mself\u001b[39m.state.func_ir \u001b[38;5;129;01mis\u001b[39;00m \u001b[38;5;28;01mNone\u001b[39;00m\n\u001b[32m--> \u001b[39m\u001b[32m505\u001b[39m \u001b[38;5;28;01mreturn\u001b[39;00m \u001b[38;5;28;43mself\u001b[39;49m\u001b[43m.\u001b[49m\u001b[43m_compile_core\u001b[49m\u001b[43m(\u001b[49m\u001b[43m)\u001b[49m\n",
      "\u001b[36mFile \u001b[39m\u001b[32mc:\\Users\\carme\\Documents\\GitHub\\MScThesis\\.venv\\Lib\\site-packages\\numba\\core\\compiler.py:481\u001b[39m, in \u001b[36mCompilerBase._compile_core\u001b[39m\u001b[34m(self)\u001b[39m\n\u001b[32m    479\u001b[39m \u001b[38;5;28;01mexcept\u001b[39;00m \u001b[38;5;167;01mException\u001b[39;00m \u001b[38;5;28;01mas\u001b[39;00m e:\n\u001b[32m    480\u001b[39m     \u001b[38;5;28;01mif\u001b[39;00m \u001b[38;5;129;01mnot\u001b[39;00m \u001b[38;5;28misinstance\u001b[39m(e, errors.NumbaError):\n\u001b[32m--> \u001b[39m\u001b[32m481\u001b[39m         \u001b[38;5;28;01mraise\u001b[39;00m e\n\u001b[32m    482\u001b[39m     \u001b[38;5;28mself\u001b[39m.state.status.fail_reason = e\n\u001b[32m    483\u001b[39m     \u001b[38;5;28;01mif\u001b[39;00m is_final_pipeline:\n",
      "\u001b[36mFile \u001b[39m\u001b[32mc:\\Users\\carme\\Documents\\GitHub\\MScThesis\\.venv\\Lib\\site-packages\\numba\\core\\compiler.py:473\u001b[39m, in \u001b[36mCompilerBase._compile_core\u001b[39m\u001b[34m(self)\u001b[39m\n\u001b[32m    471\u001b[39m res = \u001b[38;5;28;01mNone\u001b[39;00m\n\u001b[32m    472\u001b[39m \u001b[38;5;28;01mtry\u001b[39;00m:\n\u001b[32m--> \u001b[39m\u001b[32m473\u001b[39m     \u001b[43mpm\u001b[49m\u001b[43m.\u001b[49m\u001b[43mrun\u001b[49m\u001b[43m(\u001b[49m\u001b[38;5;28;43mself\u001b[39;49m\u001b[43m.\u001b[49m\u001b[43mstate\u001b[49m\u001b[43m)\u001b[49m\n\u001b[32m    474\u001b[39m     \u001b[38;5;28;01mif\u001b[39;00m \u001b[38;5;28mself\u001b[39m.state.cr \u001b[38;5;129;01mis\u001b[39;00m \u001b[38;5;129;01mnot\u001b[39;00m \u001b[38;5;28;01mNone\u001b[39;00m:\n\u001b[32m    475\u001b[39m         \u001b[38;5;28;01mbreak\u001b[39;00m\n",
      "\u001b[36mFile \u001b[39m\u001b[32mc:\\Users\\carme\\Documents\\GitHub\\MScThesis\\.venv\\Lib\\site-packages\\numba\\core\\compiler_machinery.py:363\u001b[39m, in \u001b[36mPassManager.run\u001b[39m\u001b[34m(self, state)\u001b[39m\n\u001b[32m    361\u001b[39m \u001b[38;5;28;01mexcept\u001b[39;00m \u001b[38;5;167;01mException\u001b[39;00m \u001b[38;5;28;01mas\u001b[39;00m e:\n\u001b[32m    362\u001b[39m     \u001b[38;5;28;01mif\u001b[39;00m \u001b[38;5;129;01mnot\u001b[39;00m \u001b[38;5;28misinstance\u001b[39m(e, errors.NumbaError):\n\u001b[32m--> \u001b[39m\u001b[32m363\u001b[39m         \u001b[38;5;28;01mraise\u001b[39;00m e\n\u001b[32m    364\u001b[39m     msg = \u001b[33m\"\u001b[39m\u001b[33mFailed in \u001b[39m\u001b[38;5;132;01m%s\u001b[39;00m\u001b[33m mode pipeline (step: \u001b[39m\u001b[38;5;132;01m%s\u001b[39;00m\u001b[33m)\u001b[39m\u001b[33m\"\u001b[39m % \\\n\u001b[32m    365\u001b[39m         (\u001b[38;5;28mself\u001b[39m.pipeline_name, pass_desc)\n\u001b[32m    366\u001b[39m     patched_exception = \u001b[38;5;28mself\u001b[39m._patch_error(msg, e)\n",
      "\u001b[36mFile \u001b[39m\u001b[32mc:\\Users\\carme\\Documents\\GitHub\\MScThesis\\.venv\\Lib\\site-packages\\numba\\core\\compiler_machinery.py:356\u001b[39m, in \u001b[36mPassManager.run\u001b[39m\u001b[34m(self, state)\u001b[39m\n\u001b[32m    354\u001b[39m pass_inst = _pass_registry.get(pss).pass_inst\n\u001b[32m    355\u001b[39m \u001b[38;5;28;01mif\u001b[39;00m \u001b[38;5;28misinstance\u001b[39m(pass_inst, CompilerPass):\n\u001b[32m--> \u001b[39m\u001b[32m356\u001b[39m     \u001b[38;5;28;43mself\u001b[39;49m\u001b[43m.\u001b[49m\u001b[43m_runPass\u001b[49m\u001b[43m(\u001b[49m\u001b[43midx\u001b[49m\u001b[43m,\u001b[49m\u001b[43m \u001b[49m\u001b[43mpass_inst\u001b[49m\u001b[43m,\u001b[49m\u001b[43m \u001b[49m\u001b[43mstate\u001b[49m\u001b[43m)\u001b[49m\n\u001b[32m    357\u001b[39m \u001b[38;5;28;01melse\u001b[39;00m:\n\u001b[32m    358\u001b[39m     \u001b[38;5;28;01mraise\u001b[39;00m \u001b[38;5;167;01mBaseException\u001b[39;00m(\u001b[33m\"\u001b[39m\u001b[33mLegacy pass in use\u001b[39m\u001b[33m\"\u001b[39m)\n",
      "\u001b[36mFile \u001b[39m\u001b[32mc:\\Users\\carme\\Documents\\GitHub\\MScThesis\\.venv\\Lib\\site-packages\\numba\\core\\compiler_lock.py:35\u001b[39m, in \u001b[36m_CompilerLock.__call__.<locals>._acquire_compile_lock\u001b[39m\u001b[34m(*args, **kwargs)\u001b[39m\n\u001b[32m     32\u001b[39m \u001b[38;5;129m@functools\u001b[39m.wraps(func)\n\u001b[32m     33\u001b[39m \u001b[38;5;28;01mdef\u001b[39;00m\u001b[38;5;250m \u001b[39m\u001b[34m_acquire_compile_lock\u001b[39m(*args, **kwargs):\n\u001b[32m     34\u001b[39m     \u001b[38;5;28;01mwith\u001b[39;00m \u001b[38;5;28mself\u001b[39m:\n\u001b[32m---> \u001b[39m\u001b[32m35\u001b[39m         \u001b[38;5;28;01mreturn\u001b[39;00m \u001b[43mfunc\u001b[49m\u001b[43m(\u001b[49m\u001b[43m*\u001b[49m\u001b[43margs\u001b[49m\u001b[43m,\u001b[49m\u001b[43m \u001b[49m\u001b[43m*\u001b[49m\u001b[43m*\u001b[49m\u001b[43mkwargs\u001b[49m\u001b[43m)\u001b[49m\n",
      "\u001b[36mFile \u001b[39m\u001b[32mc:\\Users\\carme\\Documents\\GitHub\\MScThesis\\.venv\\Lib\\site-packages\\numba\\core\\compiler_machinery.py:311\u001b[39m, in \u001b[36mPassManager._runPass\u001b[39m\u001b[34m(self, index, pss, internal_state)\u001b[39m\n\u001b[32m    309\u001b[39m     mutated |= check(pss.run_initialization, internal_state)\n\u001b[32m    310\u001b[39m \u001b[38;5;28;01mwith\u001b[39;00m SimpleTimer() \u001b[38;5;28;01mas\u001b[39;00m pass_time:\n\u001b[32m--> \u001b[39m\u001b[32m311\u001b[39m     mutated |= \u001b[43mcheck\u001b[49m\u001b[43m(\u001b[49m\u001b[43mpss\u001b[49m\u001b[43m.\u001b[49m\u001b[43mrun_pass\u001b[49m\u001b[43m,\u001b[49m\u001b[43m \u001b[49m\u001b[43minternal_state\u001b[49m\u001b[43m)\u001b[49m\n\u001b[32m    312\u001b[39m \u001b[38;5;28;01mwith\u001b[39;00m SimpleTimer() \u001b[38;5;28;01mas\u001b[39;00m finalize_time:\n\u001b[32m    313\u001b[39m     mutated |= check(pss.run_finalizer, internal_state)\n",
      "\u001b[36mFile \u001b[39m\u001b[32mc:\\Users\\carme\\Documents\\GitHub\\MScThesis\\.venv\\Lib\\site-packages\\numba\\core\\compiler_machinery.py:272\u001b[39m, in \u001b[36mPassManager._runPass.<locals>.check\u001b[39m\u001b[34m(func, compiler_state)\u001b[39m\n\u001b[32m    271\u001b[39m \u001b[38;5;28;01mdef\u001b[39;00m\u001b[38;5;250m \u001b[39m\u001b[34mcheck\u001b[39m(func, compiler_state):\n\u001b[32m--> \u001b[39m\u001b[32m272\u001b[39m     mangled = \u001b[43mfunc\u001b[49m\u001b[43m(\u001b[49m\u001b[43mcompiler_state\u001b[49m\u001b[43m)\u001b[49m\n\u001b[32m    273\u001b[39m     \u001b[38;5;28;01mif\u001b[39;00m mangled \u001b[38;5;129;01mnot\u001b[39;00m \u001b[38;5;129;01min\u001b[39;00m (\u001b[38;5;28;01mTrue\u001b[39;00m, \u001b[38;5;28;01mFalse\u001b[39;00m):\n\u001b[32m    274\u001b[39m         msg = (\u001b[33m\"\u001b[39m\u001b[33mCompilerPass implementations should return True/False. \u001b[39m\u001b[33m\"\u001b[39m\n\u001b[32m    275\u001b[39m                \u001b[33m\"\u001b[39m\u001b[33mCompilerPass with name \u001b[39m\u001b[33m'\u001b[39m\u001b[38;5;132;01m%s\u001b[39;00m\u001b[33m'\u001b[39m\u001b[33m did not.\u001b[39m\u001b[33m\"\u001b[39m)\n",
      "\u001b[36mFile \u001b[39m\u001b[32mc:\\Users\\carme\\Documents\\GitHub\\MScThesis\\.venv\\Lib\\site-packages\\numba\\core\\typed_passes.py:112\u001b[39m, in \u001b[36mBaseTypeInference.run_pass\u001b[39m\u001b[34m(self, state)\u001b[39m\n\u001b[32m    106\u001b[39m \u001b[38;5;250m\u001b[39m\u001b[33;03m\"\"\"\u001b[39;00m\n\u001b[32m    107\u001b[39m \u001b[33;03mType inference and legalization\u001b[39;00m\n\u001b[32m    108\u001b[39m \u001b[33;03m\"\"\"\u001b[39;00m\n\u001b[32m    109\u001b[39m \u001b[38;5;28;01mwith\u001b[39;00m fallback_context(state, \u001b[33m'\u001b[39m\u001b[33mFunction \u001b[39m\u001b[33m\"\u001b[39m\u001b[38;5;132;01m%s\u001b[39;00m\u001b[33m\"\u001b[39m\u001b[33m failed type inference\u001b[39m\u001b[33m'\u001b[39m\n\u001b[32m    110\u001b[39m                       % (state.func_id.func_name,)):\n\u001b[32m    111\u001b[39m     \u001b[38;5;66;03m# Type inference\u001b[39;00m\n\u001b[32m--> \u001b[39m\u001b[32m112\u001b[39m     typemap, return_type, calltypes, errs = \u001b[43mtype_inference_stage\u001b[49m\u001b[43m(\u001b[49m\n\u001b[32m    113\u001b[39m \u001b[43m        \u001b[49m\u001b[43mstate\u001b[49m\u001b[43m.\u001b[49m\u001b[43mtypingctx\u001b[49m\u001b[43m,\u001b[49m\n\u001b[32m    114\u001b[39m \u001b[43m        \u001b[49m\u001b[43mstate\u001b[49m\u001b[43m.\u001b[49m\u001b[43mtargetctx\u001b[49m\u001b[43m,\u001b[49m\n\u001b[32m    115\u001b[39m \u001b[43m        \u001b[49m\u001b[43mstate\u001b[49m\u001b[43m.\u001b[49m\u001b[43mfunc_ir\u001b[49m\u001b[43m,\u001b[49m\n\u001b[32m    116\u001b[39m \u001b[43m        \u001b[49m\u001b[43mstate\u001b[49m\u001b[43m.\u001b[49m\u001b[43margs\u001b[49m\u001b[43m,\u001b[49m\n\u001b[32m    117\u001b[39m \u001b[43m        \u001b[49m\u001b[43mstate\u001b[49m\u001b[43m.\u001b[49m\u001b[43mreturn_type\u001b[49m\u001b[43m,\u001b[49m\n\u001b[32m    118\u001b[39m \u001b[43m        \u001b[49m\u001b[43mstate\u001b[49m\u001b[43m.\u001b[49m\u001b[43mlocals\u001b[49m\u001b[43m,\u001b[49m\n\u001b[32m    119\u001b[39m \u001b[43m        \u001b[49m\u001b[43mraise_errors\u001b[49m\u001b[43m=\u001b[49m\u001b[38;5;28;43mself\u001b[39;49m\u001b[43m.\u001b[49m\u001b[43m_raise_errors\u001b[49m\u001b[43m)\u001b[49m\n\u001b[32m    120\u001b[39m     state.typemap = typemap\n\u001b[32m    121\u001b[39m     \u001b[38;5;66;03m# save errors in case of partial typing\u001b[39;00m\n",
      "\u001b[36mFile \u001b[39m\u001b[32mc:\\Users\\carme\\Documents\\GitHub\\MScThesis\\.venv\\Lib\\site-packages\\numba\\core\\typed_passes.py:93\u001b[39m, in \u001b[36mtype_inference_stage\u001b[39m\u001b[34m(typingctx, targetctx, interp, args, return_type, locals, raise_errors)\u001b[39m\n\u001b[32m     91\u001b[39m     infer.build_constraint()\n\u001b[32m     92\u001b[39m     \u001b[38;5;66;03m# return errors in case of partial typing\u001b[39;00m\n\u001b[32m---> \u001b[39m\u001b[32m93\u001b[39m     errs = \u001b[43minfer\u001b[49m\u001b[43m.\u001b[49m\u001b[43mpropagate\u001b[49m\u001b[43m(\u001b[49m\u001b[43mraise_errors\u001b[49m\u001b[43m=\u001b[49m\u001b[43mraise_errors\u001b[49m\u001b[43m)\u001b[49m\n\u001b[32m     94\u001b[39m     typemap, restype, calltypes = infer.unify(raise_errors=raise_errors)\n\u001b[32m     96\u001b[39m \u001b[38;5;28;01mreturn\u001b[39;00m _TypingResults(typemap, restype, calltypes, errs)\n",
      "\u001b[36mFile \u001b[39m\u001b[32mc:\\Users\\carme\\Documents\\GitHub\\MScThesis\\.venv\\Lib\\site-packages\\numba\\core\\typeinfer.py:1066\u001b[39m, in \u001b[36mTypeInferer.propagate\u001b[39m\u001b[34m(self, raise_errors)\u001b[39m\n\u001b[32m   1063\u001b[39m oldtoken = newtoken\n\u001b[32m   1064\u001b[39m \u001b[38;5;66;03m# Errors can appear when the type set is incomplete; only\u001b[39;00m\n\u001b[32m   1065\u001b[39m \u001b[38;5;66;03m# raise them when there is no progress anymore.\u001b[39;00m\n\u001b[32m-> \u001b[39m\u001b[32m1066\u001b[39m errors = \u001b[38;5;28;43mself\u001b[39;49m\u001b[43m.\u001b[49m\u001b[43mconstraints\u001b[49m\u001b[43m.\u001b[49m\u001b[43mpropagate\u001b[49m\u001b[43m(\u001b[49m\u001b[38;5;28;43mself\u001b[39;49m\u001b[43m)\u001b[49m\n\u001b[32m   1067\u001b[39m newtoken = \u001b[38;5;28mself\u001b[39m.get_state_token()\n\u001b[32m   1068\u001b[39m \u001b[38;5;28mself\u001b[39m.debug.propagate_finished()\n",
      "\u001b[36mFile \u001b[39m\u001b[32mc:\\Users\\carme\\Documents\\GitHub\\MScThesis\\.venv\\Lib\\site-packages\\numba\\core\\typeinfer.py:160\u001b[39m, in \u001b[36mConstraintNetwork.propagate\u001b[39m\u001b[34m(self, typeinfer)\u001b[39m\n\u001b[32m    157\u001b[39m \u001b[38;5;28;01mwith\u001b[39;00m typeinfer.warnings.catch_warnings(filename=loc.filename,\n\u001b[32m    158\u001b[39m                                        lineno=loc.line):\n\u001b[32m    159\u001b[39m     \u001b[38;5;28;01mtry\u001b[39;00m:\n\u001b[32m--> \u001b[39m\u001b[32m160\u001b[39m         \u001b[43mconstraint\u001b[49m\u001b[43m(\u001b[49m\u001b[43mtypeinfer\u001b[49m\u001b[43m)\u001b[49m\n\u001b[32m    161\u001b[39m     \u001b[38;5;28;01mexcept\u001b[39;00m ForceLiteralArg \u001b[38;5;28;01mas\u001b[39;00m e:\n\u001b[32m    162\u001b[39m         errors.append(e)\n",
      "\u001b[36mFile \u001b[39m\u001b[32mc:\\Users\\carme\\Documents\\GitHub\\MScThesis\\.venv\\Lib\\site-packages\\numba\\core\\typeinfer.py:566\u001b[39m, in \u001b[36mCallConstraint.__call__\u001b[39m\u001b[34m(self, typeinfer)\u001b[39m\n\u001b[32m    564\u001b[39m     fnty = typevars[\u001b[38;5;28mself\u001b[39m.func].getone()\n\u001b[32m    565\u001b[39m \u001b[38;5;28;01mwith\u001b[39;00m new_error_context(\u001b[33m\"\u001b[39m\u001b[33mresolving callee type: \u001b[39m\u001b[38;5;132;01m{0}\u001b[39;00m\u001b[33m\"\u001b[39m, fnty):\n\u001b[32m--> \u001b[39m\u001b[32m566\u001b[39m     \u001b[38;5;28;43mself\u001b[39;49m\u001b[43m.\u001b[49m\u001b[43mresolve\u001b[49m\u001b[43m(\u001b[49m\u001b[43mtypeinfer\u001b[49m\u001b[43m,\u001b[49m\u001b[43m \u001b[49m\u001b[43mtypevars\u001b[49m\u001b[43m,\u001b[49m\u001b[43m \u001b[49m\u001b[43mfnty\u001b[49m\u001b[43m)\u001b[49m\n",
      "\u001b[36mFile \u001b[39m\u001b[32mc:\\Users\\carme\\Documents\\GitHub\\MScThesis\\.venv\\Lib\\site-packages\\numba\\core\\typeinfer.py:589\u001b[39m, in \u001b[36mCallConstraint.resolve\u001b[39m\u001b[34m(self, typeinfer, typevars, fnty)\u001b[39m\n\u001b[32m    587\u001b[39m     fnty = fnty.instance_type\n\u001b[32m    588\u001b[39m \u001b[38;5;28;01mtry\u001b[39;00m:\n\u001b[32m--> \u001b[39m\u001b[32m589\u001b[39m     sig = \u001b[43mtypeinfer\u001b[49m\u001b[43m.\u001b[49m\u001b[43mresolve_call\u001b[49m\u001b[43m(\u001b[49m\u001b[43mfnty\u001b[49m\u001b[43m,\u001b[49m\u001b[43m \u001b[49m\u001b[43mpos_args\u001b[49m\u001b[43m,\u001b[49m\u001b[43m \u001b[49m\u001b[43mkw_args\u001b[49m\u001b[43m)\u001b[49m\n\u001b[32m    590\u001b[39m \u001b[38;5;28;01mexcept\u001b[39;00m ForceLiteralArg \u001b[38;5;28;01mas\u001b[39;00m e:\n\u001b[32m    591\u001b[39m     \u001b[38;5;66;03m# Adjust for bound methods\u001b[39;00m\n\u001b[32m    592\u001b[39m     folding_args = ((fnty.this,) + \u001b[38;5;28mtuple\u001b[39m(\u001b[38;5;28mself\u001b[39m.args)\n\u001b[32m    593\u001b[39m                     \u001b[38;5;28;01mif\u001b[39;00m \u001b[38;5;28misinstance\u001b[39m(fnty, types.BoundFunction)\n\u001b[32m    594\u001b[39m                     \u001b[38;5;28;01melse\u001b[39;00m \u001b[38;5;28mself\u001b[39m.args)\n",
      "\u001b[36mFile \u001b[39m\u001b[32mc:\\Users\\carme\\Documents\\GitHub\\MScThesis\\.venv\\Lib\\site-packages\\numba\\core\\typeinfer.py:1560\u001b[39m, in \u001b[36mTypeInferer.resolve_call\u001b[39m\u001b[34m(self, fnty, pos_args, kw_args)\u001b[39m\n\u001b[32m   1557\u001b[39m     \u001b[38;5;28;01mreturn\u001b[39;00m sig\n\u001b[32m   1558\u001b[39m \u001b[38;5;28;01melse\u001b[39;00m:\n\u001b[32m   1559\u001b[39m     \u001b[38;5;66;03m# Normal non-recursive call\u001b[39;00m\n\u001b[32m-> \u001b[39m\u001b[32m1560\u001b[39m     \u001b[38;5;28;01mreturn\u001b[39;00m \u001b[38;5;28;43mself\u001b[39;49m\u001b[43m.\u001b[49m\u001b[43mcontext\u001b[49m\u001b[43m.\u001b[49m\u001b[43mresolve_function_type\u001b[49m\u001b[43m(\u001b[49m\u001b[43mfnty\u001b[49m\u001b[43m,\u001b[49m\u001b[43m \u001b[49m\u001b[43mpos_args\u001b[49m\u001b[43m,\u001b[49m\u001b[43m \u001b[49m\u001b[43mkw_args\u001b[49m\u001b[43m)\u001b[49m\n",
      "\u001b[36mFile \u001b[39m\u001b[32mc:\\Users\\carme\\Documents\\GitHub\\MScThesis\\.venv\\Lib\\site-packages\\numba\\core\\typing\\context.py:195\u001b[39m, in \u001b[36mBaseContext.resolve_function_type\u001b[39m\u001b[34m(self, func, args, kws)\u001b[39m\n\u001b[32m    193\u001b[39m \u001b[38;5;66;03m# Prefer user definition first\u001b[39;00m\n\u001b[32m    194\u001b[39m \u001b[38;5;28;01mtry\u001b[39;00m:\n\u001b[32m--> \u001b[39m\u001b[32m195\u001b[39m     res = \u001b[38;5;28;43mself\u001b[39;49m\u001b[43m.\u001b[49m\u001b[43m_resolve_user_function_type\u001b[49m\u001b[43m(\u001b[49m\u001b[43mfunc\u001b[49m\u001b[43m,\u001b[49m\u001b[43m \u001b[49m\u001b[43margs\u001b[49m\u001b[43m,\u001b[49m\u001b[43m \u001b[49m\u001b[43mkws\u001b[49m\u001b[43m)\u001b[49m\n\u001b[32m    196\u001b[39m \u001b[38;5;28;01mexcept\u001b[39;00m errors.TypingError \u001b[38;5;28;01mas\u001b[39;00m e:\n\u001b[32m    197\u001b[39m     \u001b[38;5;66;03m# Capture any typing error\u001b[39;00m\n\u001b[32m    198\u001b[39m     last_exception = e\n",
      "\u001b[36mFile \u001b[39m\u001b[32mc:\\Users\\carme\\Documents\\GitHub\\MScThesis\\.venv\\Lib\\site-packages\\numba\\core\\typing\\context.py:247\u001b[39m, in \u001b[36mBaseContext._resolve_user_function_type\u001b[39m\u001b[34m(self, func, args, kws, literals)\u001b[39m\n\u001b[32m    243\u001b[39m         \u001b[38;5;28;01mreturn\u001b[39;00m \u001b[38;5;28mself\u001b[39m.resolve_function_type(func_type, args, kws)\n\u001b[32m    245\u001b[39m \u001b[38;5;28;01mif\u001b[39;00m \u001b[38;5;28misinstance\u001b[39m(func, types.Callable):\n\u001b[32m    246\u001b[39m     \u001b[38;5;66;03m# XXX fold this into the __call__ attribute logic?\u001b[39;00m\n\u001b[32m--> \u001b[39m\u001b[32m247\u001b[39m     \u001b[38;5;28;01mreturn\u001b[39;00m \u001b[43mfunc\u001b[49m\u001b[43m.\u001b[49m\u001b[43mget_call_type\u001b[49m\u001b[43m(\u001b[49m\u001b[38;5;28;43mself\u001b[39;49m\u001b[43m,\u001b[49m\u001b[43m \u001b[49m\u001b[43margs\u001b[49m\u001b[43m,\u001b[49m\u001b[43m \u001b[49m\u001b[43mkws\u001b[49m\u001b[43m)\u001b[49m\n",
      "\u001b[36mFile \u001b[39m\u001b[32mc:\\Users\\carme\\Documents\\GitHub\\MScThesis\\.venv\\Lib\\site-packages\\numba\\core\\types\\functions.py:538\u001b[39m, in \u001b[36mDispatcher.get_call_type\u001b[39m\u001b[34m(self, context, args, kws)\u001b[39m\n\u001b[32m    531\u001b[39m \u001b[38;5;28;01mdef\u001b[39;00m\u001b[38;5;250m \u001b[39m\u001b[34mget_call_type\u001b[39m(\u001b[38;5;28mself\u001b[39m, context, args, kws):\n\u001b[32m    532\u001b[39m \u001b[38;5;250m    \u001b[39m\u001b[33;03m\"\"\"\u001b[39;00m\n\u001b[32m    533\u001b[39m \u001b[33;03m    Resolve a call to this dispatcher using the given argument types.\u001b[39;00m\n\u001b[32m    534\u001b[39m \u001b[33;03m    A signature returned and it is ensured that a compiled specialization\u001b[39;00m\n\u001b[32m    535\u001b[39m \u001b[33;03m    is available for it.\u001b[39;00m\n\u001b[32m    536\u001b[39m \u001b[33;03m    \"\"\"\u001b[39;00m\n\u001b[32m    537\u001b[39m     template, pysig, args, kws = \\\n\u001b[32m--> \u001b[39m\u001b[32m538\u001b[39m         \u001b[38;5;28;43mself\u001b[39;49m\u001b[43m.\u001b[49m\u001b[43mdispatcher\u001b[49m\u001b[43m.\u001b[49m\u001b[43mget_call_template\u001b[49m\u001b[43m(\u001b[49m\u001b[43margs\u001b[49m\u001b[43m,\u001b[49m\u001b[43m \u001b[49m\u001b[43mkws\u001b[49m\u001b[43m)\u001b[49m\n\u001b[32m    539\u001b[39m     sig = template(context).apply(args, kws)\n\u001b[32m    540\u001b[39m     \u001b[38;5;28;01mif\u001b[39;00m sig:\n",
      "\u001b[36mFile \u001b[39m\u001b[32mc:\\Users\\carme\\Documents\\GitHub\\MScThesis\\.venv\\Lib\\site-packages\\numba\\core\\dispatcher.py:319\u001b[39m, in \u001b[36m_DispatcherBase.get_call_template\u001b[39m\u001b[34m(self, args, kws)\u001b[39m\n\u001b[32m    317\u001b[39m \u001b[38;5;66;03m# Ensure an overload is available\u001b[39;00m\n\u001b[32m    318\u001b[39m \u001b[38;5;28;01mif\u001b[39;00m \u001b[38;5;28mself\u001b[39m._can_compile:\n\u001b[32m--> \u001b[39m\u001b[32m319\u001b[39m     \u001b[38;5;28;43mself\u001b[39;49m\u001b[43m.\u001b[49m\u001b[43mcompile\u001b[49m\u001b[43m(\u001b[49m\u001b[38;5;28;43mtuple\u001b[39;49m\u001b[43m(\u001b[49m\u001b[43margs\u001b[49m\u001b[43m)\u001b[49m\u001b[43m)\u001b[49m\n\u001b[32m    321\u001b[39m \u001b[38;5;66;03m# Create function type for typing\u001b[39;00m\n\u001b[32m    322\u001b[39m func_name = \u001b[38;5;28mself\u001b[39m.py_func.\u001b[34m__name__\u001b[39m\n",
      "\u001b[36mFile \u001b[39m\u001b[32mc:\\Users\\carme\\Documents\\GitHub\\MScThesis\\.venv\\Lib\\site-packages\\numba\\core\\dispatcher.py:904\u001b[39m, in \u001b[36mDispatcher.compile\u001b[39m\u001b[34m(self, sig)\u001b[39m\n\u001b[32m    902\u001b[39m \u001b[38;5;28;01mwith\u001b[39;00m ev.trigger_event(\u001b[33m\"\u001b[39m\u001b[33mnumba:compile\u001b[39m\u001b[33m\"\u001b[39m, data=ev_details):\n\u001b[32m    903\u001b[39m     \u001b[38;5;28;01mtry\u001b[39;00m:\n\u001b[32m--> \u001b[39m\u001b[32m904\u001b[39m         cres = \u001b[38;5;28;43mself\u001b[39;49m\u001b[43m.\u001b[49m\u001b[43m_compiler\u001b[49m\u001b[43m.\u001b[49m\u001b[43mcompile\u001b[49m\u001b[43m(\u001b[49m\u001b[43margs\u001b[49m\u001b[43m,\u001b[49m\u001b[43m \u001b[49m\u001b[43mreturn_type\u001b[49m\u001b[43m)\u001b[49m\n\u001b[32m    905\u001b[39m     \u001b[38;5;28;01mexcept\u001b[39;00m errors.ForceLiteralArg \u001b[38;5;28;01mas\u001b[39;00m e:\n\u001b[32m    906\u001b[39m         \u001b[38;5;28;01mdef\u001b[39;00m\u001b[38;5;250m \u001b[39m\u001b[34mfolded\u001b[39m(args, kws):\n",
      "\u001b[36mFile \u001b[39m\u001b[32mc:\\Users\\carme\\Documents\\GitHub\\MScThesis\\.venv\\Lib\\site-packages\\numba\\core\\dispatcher.py:80\u001b[39m, in \u001b[36m_FunctionCompiler.compile\u001b[39m\u001b[34m(self, args, return_type)\u001b[39m\n\u001b[32m     79\u001b[39m \u001b[38;5;28;01mdef\u001b[39;00m\u001b[38;5;250m \u001b[39m\u001b[34mcompile\u001b[39m(\u001b[38;5;28mself\u001b[39m, args, return_type):\n\u001b[32m---> \u001b[39m\u001b[32m80\u001b[39m     status, retval = \u001b[38;5;28;43mself\u001b[39;49m\u001b[43m.\u001b[49m\u001b[43m_compile_cached\u001b[49m\u001b[43m(\u001b[49m\u001b[43margs\u001b[49m\u001b[43m,\u001b[49m\u001b[43m \u001b[49m\u001b[43mreturn_type\u001b[49m\u001b[43m)\u001b[49m\n\u001b[32m     81\u001b[39m     \u001b[38;5;28;01mif\u001b[39;00m status:\n\u001b[32m     82\u001b[39m         \u001b[38;5;28;01mreturn\u001b[39;00m retval\n",
      "\u001b[36mFile \u001b[39m\u001b[32mc:\\Users\\carme\\Documents\\GitHub\\MScThesis\\.venv\\Lib\\site-packages\\numba\\core\\dispatcher.py:94\u001b[39m, in \u001b[36m_FunctionCompiler._compile_cached\u001b[39m\u001b[34m(self, args, return_type)\u001b[39m\n\u001b[32m     91\u001b[39m     \u001b[38;5;28;01mpass\u001b[39;00m\n\u001b[32m     93\u001b[39m \u001b[38;5;28;01mtry\u001b[39;00m:\n\u001b[32m---> \u001b[39m\u001b[32m94\u001b[39m     retval = \u001b[38;5;28;43mself\u001b[39;49m\u001b[43m.\u001b[49m\u001b[43m_compile_core\u001b[49m\u001b[43m(\u001b[49m\u001b[43margs\u001b[49m\u001b[43m,\u001b[49m\u001b[43m \u001b[49m\u001b[43mreturn_type\u001b[49m\u001b[43m)\u001b[49m\n\u001b[32m     95\u001b[39m \u001b[38;5;28;01mexcept\u001b[39;00m errors.TypingError \u001b[38;5;28;01mas\u001b[39;00m e:\n\u001b[32m     96\u001b[39m     \u001b[38;5;28mself\u001b[39m._failed_cache[key] = e\n",
      "\u001b[36mFile \u001b[39m\u001b[32mc:\\Users\\carme\\Documents\\GitHub\\MScThesis\\.venv\\Lib\\site-packages\\numba\\core\\dispatcher.py:107\u001b[39m, in \u001b[36m_FunctionCompiler._compile_core\u001b[39m\u001b[34m(self, args, return_type)\u001b[39m\n\u001b[32m    104\u001b[39m flags = \u001b[38;5;28mself\u001b[39m._customize_flags(flags)\n\u001b[32m    106\u001b[39m impl = \u001b[38;5;28mself\u001b[39m._get_implementation(args, {})\n\u001b[32m--> \u001b[39m\u001b[32m107\u001b[39m cres = \u001b[43mcompiler\u001b[49m\u001b[43m.\u001b[49m\u001b[43mcompile_extra\u001b[49m\u001b[43m(\u001b[49m\u001b[38;5;28;43mself\u001b[39;49m\u001b[43m.\u001b[49m\u001b[43mtargetdescr\u001b[49m\u001b[43m.\u001b[49m\u001b[43mtyping_context\u001b[49m\u001b[43m,\u001b[49m\n\u001b[32m    108\u001b[39m \u001b[43m                              \u001b[49m\u001b[38;5;28;43mself\u001b[39;49m\u001b[43m.\u001b[49m\u001b[43mtargetdescr\u001b[49m\u001b[43m.\u001b[49m\u001b[43mtarget_context\u001b[49m\u001b[43m,\u001b[49m\n\u001b[32m    109\u001b[39m \u001b[43m                              \u001b[49m\u001b[43mimpl\u001b[49m\u001b[43m,\u001b[49m\n\u001b[32m    110\u001b[39m \u001b[43m                              \u001b[49m\u001b[43margs\u001b[49m\u001b[43m=\u001b[49m\u001b[43margs\u001b[49m\u001b[43m,\u001b[49m\u001b[43m \u001b[49m\u001b[43mreturn_type\u001b[49m\u001b[43m=\u001b[49m\u001b[43mreturn_type\u001b[49m\u001b[43m,\u001b[49m\n\u001b[32m    111\u001b[39m \u001b[43m                              \u001b[49m\u001b[43mflags\u001b[49m\u001b[43m=\u001b[49m\u001b[43mflags\u001b[49m\u001b[43m,\u001b[49m\u001b[43m \u001b[49m\u001b[38;5;28;43mlocals\u001b[39;49m\u001b[43m=\u001b[49m\u001b[38;5;28;43mself\u001b[39;49m\u001b[43m.\u001b[49m\u001b[43mlocals\u001b[49m\u001b[43m,\u001b[49m\n\u001b[32m    112\u001b[39m \u001b[43m                              \u001b[49m\u001b[43mpipeline_class\u001b[49m\u001b[43m=\u001b[49m\u001b[38;5;28;43mself\u001b[39;49m\u001b[43m.\u001b[49m\u001b[43mpipeline_class\u001b[49m\u001b[43m)\u001b[49m\n\u001b[32m    113\u001b[39m \u001b[38;5;66;03m# Check typing error if object mode is used\u001b[39;00m\n\u001b[32m    114\u001b[39m \u001b[38;5;28;01mif\u001b[39;00m cres.typing_error \u001b[38;5;129;01mis\u001b[39;00m \u001b[38;5;129;01mnot\u001b[39;00m \u001b[38;5;28;01mNone\u001b[39;00m \u001b[38;5;129;01mand\u001b[39;00m \u001b[38;5;129;01mnot\u001b[39;00m flags.enable_pyobject:\n",
      "\u001b[36mFile \u001b[39m\u001b[32mc:\\Users\\carme\\Documents\\GitHub\\MScThesis\\.venv\\Lib\\site-packages\\numba\\core\\compiler.py:739\u001b[39m, in \u001b[36mcompile_extra\u001b[39m\u001b[34m(typingctx, targetctx, func, args, return_type, flags, locals, library, pipeline_class)\u001b[39m\n\u001b[32m    715\u001b[39m \u001b[38;5;250m\u001b[39m\u001b[33;03m\"\"\"Compiler entry point\u001b[39;00m\n\u001b[32m    716\u001b[39m \n\u001b[32m    717\u001b[39m \u001b[33;03mParameter\u001b[39;00m\n\u001b[32m   (...)\u001b[39m\u001b[32m    735\u001b[39m \u001b[33;03m    compiler pipeline\u001b[39;00m\n\u001b[32m    736\u001b[39m \u001b[33;03m\"\"\"\u001b[39;00m\n\u001b[32m    737\u001b[39m pipeline = pipeline_class(typingctx, targetctx, library,\n\u001b[32m    738\u001b[39m                           args, return_type, flags, \u001b[38;5;28mlocals\u001b[39m)\n\u001b[32m--> \u001b[39m\u001b[32m739\u001b[39m \u001b[38;5;28;01mreturn\u001b[39;00m \u001b[43mpipeline\u001b[49m\u001b[43m.\u001b[49m\u001b[43mcompile_extra\u001b[49m\u001b[43m(\u001b[49m\u001b[43mfunc\u001b[49m\u001b[43m)\u001b[49m\n",
      "\u001b[36mFile \u001b[39m\u001b[32mc:\\Users\\carme\\Documents\\GitHub\\MScThesis\\.venv\\Lib\\site-packages\\numba\\core\\compiler.py:439\u001b[39m, in \u001b[36mCompilerBase.compile_extra\u001b[39m\u001b[34m(self, func)\u001b[39m\n\u001b[32m    437\u001b[39m \u001b[38;5;28mself\u001b[39m.state.lifted = ()\n\u001b[32m    438\u001b[39m \u001b[38;5;28mself\u001b[39m.state.lifted_from = \u001b[38;5;28;01mNone\u001b[39;00m\n\u001b[32m--> \u001b[39m\u001b[32m439\u001b[39m \u001b[38;5;28;01mreturn\u001b[39;00m \u001b[38;5;28;43mself\u001b[39;49m\u001b[43m.\u001b[49m\u001b[43m_compile_bytecode\u001b[49m\u001b[43m(\u001b[49m\u001b[43m)\u001b[49m\n",
      "\u001b[36mFile \u001b[39m\u001b[32mc:\\Users\\carme\\Documents\\GitHub\\MScThesis\\.venv\\Lib\\site-packages\\numba\\core\\compiler.py:505\u001b[39m, in \u001b[36mCompilerBase._compile_bytecode\u001b[39m\u001b[34m(self)\u001b[39m\n\u001b[32m    501\u001b[39m \u001b[38;5;250m\u001b[39m\u001b[33;03m\"\"\"\u001b[39;00m\n\u001b[32m    502\u001b[39m \u001b[33;03mPopulate and run pipeline for bytecode input\u001b[39;00m\n\u001b[32m    503\u001b[39m \u001b[33;03m\"\"\"\u001b[39;00m\n\u001b[32m    504\u001b[39m \u001b[38;5;28;01massert\u001b[39;00m \u001b[38;5;28mself\u001b[39m.state.func_ir \u001b[38;5;129;01mis\u001b[39;00m \u001b[38;5;28;01mNone\u001b[39;00m\n\u001b[32m--> \u001b[39m\u001b[32m505\u001b[39m \u001b[38;5;28;01mreturn\u001b[39;00m \u001b[38;5;28;43mself\u001b[39;49m\u001b[43m.\u001b[49m\u001b[43m_compile_core\u001b[49m\u001b[43m(\u001b[49m\u001b[43m)\u001b[49m\n",
      "\u001b[36mFile \u001b[39m\u001b[32mc:\\Users\\carme\\Documents\\GitHub\\MScThesis\\.venv\\Lib\\site-packages\\numba\\core\\compiler.py:481\u001b[39m, in \u001b[36mCompilerBase._compile_core\u001b[39m\u001b[34m(self)\u001b[39m\n\u001b[32m    479\u001b[39m \u001b[38;5;28;01mexcept\u001b[39;00m \u001b[38;5;167;01mException\u001b[39;00m \u001b[38;5;28;01mas\u001b[39;00m e:\n\u001b[32m    480\u001b[39m     \u001b[38;5;28;01mif\u001b[39;00m \u001b[38;5;129;01mnot\u001b[39;00m \u001b[38;5;28misinstance\u001b[39m(e, errors.NumbaError):\n\u001b[32m--> \u001b[39m\u001b[32m481\u001b[39m         \u001b[38;5;28;01mraise\u001b[39;00m e\n\u001b[32m    482\u001b[39m     \u001b[38;5;28mself\u001b[39m.state.status.fail_reason = e\n\u001b[32m    483\u001b[39m     \u001b[38;5;28;01mif\u001b[39;00m is_final_pipeline:\n",
      "\u001b[36mFile \u001b[39m\u001b[32mc:\\Users\\carme\\Documents\\GitHub\\MScThesis\\.venv\\Lib\\site-packages\\numba\\core\\compiler.py:473\u001b[39m, in \u001b[36mCompilerBase._compile_core\u001b[39m\u001b[34m(self)\u001b[39m\n\u001b[32m    471\u001b[39m res = \u001b[38;5;28;01mNone\u001b[39;00m\n\u001b[32m    472\u001b[39m \u001b[38;5;28;01mtry\u001b[39;00m:\n\u001b[32m--> \u001b[39m\u001b[32m473\u001b[39m     \u001b[43mpm\u001b[49m\u001b[43m.\u001b[49m\u001b[43mrun\u001b[49m\u001b[43m(\u001b[49m\u001b[38;5;28;43mself\u001b[39;49m\u001b[43m.\u001b[49m\u001b[43mstate\u001b[49m\u001b[43m)\u001b[49m\n\u001b[32m    474\u001b[39m     \u001b[38;5;28;01mif\u001b[39;00m \u001b[38;5;28mself\u001b[39m.state.cr \u001b[38;5;129;01mis\u001b[39;00m \u001b[38;5;129;01mnot\u001b[39;00m \u001b[38;5;28;01mNone\u001b[39;00m:\n\u001b[32m    475\u001b[39m         \u001b[38;5;28;01mbreak\u001b[39;00m\n",
      "\u001b[36mFile \u001b[39m\u001b[32mc:\\Users\\carme\\Documents\\GitHub\\MScThesis\\.venv\\Lib\\site-packages\\numba\\core\\compiler_machinery.py:363\u001b[39m, in \u001b[36mPassManager.run\u001b[39m\u001b[34m(self, state)\u001b[39m\n\u001b[32m    361\u001b[39m \u001b[38;5;28;01mexcept\u001b[39;00m \u001b[38;5;167;01mException\u001b[39;00m \u001b[38;5;28;01mas\u001b[39;00m e:\n\u001b[32m    362\u001b[39m     \u001b[38;5;28;01mif\u001b[39;00m \u001b[38;5;129;01mnot\u001b[39;00m \u001b[38;5;28misinstance\u001b[39m(e, errors.NumbaError):\n\u001b[32m--> \u001b[39m\u001b[32m363\u001b[39m         \u001b[38;5;28;01mraise\u001b[39;00m e\n\u001b[32m    364\u001b[39m     msg = \u001b[33m\"\u001b[39m\u001b[33mFailed in \u001b[39m\u001b[38;5;132;01m%s\u001b[39;00m\u001b[33m mode pipeline (step: \u001b[39m\u001b[38;5;132;01m%s\u001b[39;00m\u001b[33m)\u001b[39m\u001b[33m\"\u001b[39m % \\\n\u001b[32m    365\u001b[39m         (\u001b[38;5;28mself\u001b[39m.pipeline_name, pass_desc)\n\u001b[32m    366\u001b[39m     patched_exception = \u001b[38;5;28mself\u001b[39m._patch_error(msg, e)\n",
      "\u001b[36mFile \u001b[39m\u001b[32mc:\\Users\\carme\\Documents\\GitHub\\MScThesis\\.venv\\Lib\\site-packages\\numba\\core\\compiler_machinery.py:356\u001b[39m, in \u001b[36mPassManager.run\u001b[39m\u001b[34m(self, state)\u001b[39m\n\u001b[32m    354\u001b[39m pass_inst = _pass_registry.get(pss).pass_inst\n\u001b[32m    355\u001b[39m \u001b[38;5;28;01mif\u001b[39;00m \u001b[38;5;28misinstance\u001b[39m(pass_inst, CompilerPass):\n\u001b[32m--> \u001b[39m\u001b[32m356\u001b[39m     \u001b[38;5;28;43mself\u001b[39;49m\u001b[43m.\u001b[49m\u001b[43m_runPass\u001b[49m\u001b[43m(\u001b[49m\u001b[43midx\u001b[49m\u001b[43m,\u001b[49m\u001b[43m \u001b[49m\u001b[43mpass_inst\u001b[49m\u001b[43m,\u001b[49m\u001b[43m \u001b[49m\u001b[43mstate\u001b[49m\u001b[43m)\u001b[49m\n\u001b[32m    357\u001b[39m \u001b[38;5;28;01melse\u001b[39;00m:\n\u001b[32m    358\u001b[39m     \u001b[38;5;28;01mraise\u001b[39;00m \u001b[38;5;167;01mBaseException\u001b[39;00m(\u001b[33m\"\u001b[39m\u001b[33mLegacy pass in use\u001b[39m\u001b[33m\"\u001b[39m)\n",
      "\u001b[36mFile \u001b[39m\u001b[32mc:\\Users\\carme\\Documents\\GitHub\\MScThesis\\.venv\\Lib\\site-packages\\numba\\core\\compiler_lock.py:35\u001b[39m, in \u001b[36m_CompilerLock.__call__.<locals>._acquire_compile_lock\u001b[39m\u001b[34m(*args, **kwargs)\u001b[39m\n\u001b[32m     32\u001b[39m \u001b[38;5;129m@functools\u001b[39m.wraps(func)\n\u001b[32m     33\u001b[39m \u001b[38;5;28;01mdef\u001b[39;00m\u001b[38;5;250m \u001b[39m\u001b[34m_acquire_compile_lock\u001b[39m(*args, **kwargs):\n\u001b[32m     34\u001b[39m     \u001b[38;5;28;01mwith\u001b[39;00m \u001b[38;5;28mself\u001b[39m:\n\u001b[32m---> \u001b[39m\u001b[32m35\u001b[39m         \u001b[38;5;28;01mreturn\u001b[39;00m \u001b[43mfunc\u001b[49m\u001b[43m(\u001b[49m\u001b[43m*\u001b[49m\u001b[43margs\u001b[49m\u001b[43m,\u001b[49m\u001b[43m \u001b[49m\u001b[43m*\u001b[49m\u001b[43m*\u001b[49m\u001b[43mkwargs\u001b[49m\u001b[43m)\u001b[49m\n",
      "\u001b[36mFile \u001b[39m\u001b[32mc:\\Users\\carme\\Documents\\GitHub\\MScThesis\\.venv\\Lib\\site-packages\\numba\\core\\compiler_machinery.py:311\u001b[39m, in \u001b[36mPassManager._runPass\u001b[39m\u001b[34m(self, index, pss, internal_state)\u001b[39m\n\u001b[32m    309\u001b[39m     mutated |= check(pss.run_initialization, internal_state)\n\u001b[32m    310\u001b[39m \u001b[38;5;28;01mwith\u001b[39;00m SimpleTimer() \u001b[38;5;28;01mas\u001b[39;00m pass_time:\n\u001b[32m--> \u001b[39m\u001b[32m311\u001b[39m     mutated |= \u001b[43mcheck\u001b[49m\u001b[43m(\u001b[49m\u001b[43mpss\u001b[49m\u001b[43m.\u001b[49m\u001b[43mrun_pass\u001b[49m\u001b[43m,\u001b[49m\u001b[43m \u001b[49m\u001b[43minternal_state\u001b[49m\u001b[43m)\u001b[49m\n\u001b[32m    312\u001b[39m \u001b[38;5;28;01mwith\u001b[39;00m SimpleTimer() \u001b[38;5;28;01mas\u001b[39;00m finalize_time:\n\u001b[32m    313\u001b[39m     mutated |= check(pss.run_finalizer, internal_state)\n",
      "\u001b[36mFile \u001b[39m\u001b[32mc:\\Users\\carme\\Documents\\GitHub\\MScThesis\\.venv\\Lib\\site-packages\\numba\\core\\compiler_machinery.py:272\u001b[39m, in \u001b[36mPassManager._runPass.<locals>.check\u001b[39m\u001b[34m(func, compiler_state)\u001b[39m\n\u001b[32m    271\u001b[39m \u001b[38;5;28;01mdef\u001b[39;00m\u001b[38;5;250m \u001b[39m\u001b[34mcheck\u001b[39m(func, compiler_state):\n\u001b[32m--> \u001b[39m\u001b[32m272\u001b[39m     mangled = \u001b[43mfunc\u001b[49m\u001b[43m(\u001b[49m\u001b[43mcompiler_state\u001b[49m\u001b[43m)\u001b[49m\n\u001b[32m    273\u001b[39m     \u001b[38;5;28;01mif\u001b[39;00m mangled \u001b[38;5;129;01mnot\u001b[39;00m \u001b[38;5;129;01min\u001b[39;00m (\u001b[38;5;28;01mTrue\u001b[39;00m, \u001b[38;5;28;01mFalse\u001b[39;00m):\n\u001b[32m    274\u001b[39m         msg = (\u001b[33m\"\u001b[39m\u001b[33mCompilerPass implementations should return True/False. \u001b[39m\u001b[33m\"\u001b[39m\n\u001b[32m    275\u001b[39m                \u001b[33m\"\u001b[39m\u001b[33mCompilerPass with name \u001b[39m\u001b[33m'\u001b[39m\u001b[38;5;132;01m%s\u001b[39;00m\u001b[33m'\u001b[39m\u001b[33m did not.\u001b[39m\u001b[33m\"\u001b[39m)\n",
      "\u001b[36mFile \u001b[39m\u001b[32mc:\\Users\\carme\\Documents\\GitHub\\MScThesis\\.venv\\Lib\\site-packages\\numba\\core\\typed_passes.py:112\u001b[39m, in \u001b[36mBaseTypeInference.run_pass\u001b[39m\u001b[34m(self, state)\u001b[39m\n\u001b[32m    106\u001b[39m \u001b[38;5;250m\u001b[39m\u001b[33;03m\"\"\"\u001b[39;00m\n\u001b[32m    107\u001b[39m \u001b[33;03mType inference and legalization\u001b[39;00m\n\u001b[32m    108\u001b[39m \u001b[33;03m\"\"\"\u001b[39;00m\n\u001b[32m    109\u001b[39m \u001b[38;5;28;01mwith\u001b[39;00m fallback_context(state, \u001b[33m'\u001b[39m\u001b[33mFunction \u001b[39m\u001b[33m\"\u001b[39m\u001b[38;5;132;01m%s\u001b[39;00m\u001b[33m\"\u001b[39m\u001b[33m failed type inference\u001b[39m\u001b[33m'\u001b[39m\n\u001b[32m    110\u001b[39m                       % (state.func_id.func_name,)):\n\u001b[32m    111\u001b[39m     \u001b[38;5;66;03m# Type inference\u001b[39;00m\n\u001b[32m--> \u001b[39m\u001b[32m112\u001b[39m     typemap, return_type, calltypes, errs = \u001b[43mtype_inference_stage\u001b[49m\u001b[43m(\u001b[49m\n\u001b[32m    113\u001b[39m \u001b[43m        \u001b[49m\u001b[43mstate\u001b[49m\u001b[43m.\u001b[49m\u001b[43mtypingctx\u001b[49m\u001b[43m,\u001b[49m\n\u001b[32m    114\u001b[39m \u001b[43m        \u001b[49m\u001b[43mstate\u001b[49m\u001b[43m.\u001b[49m\u001b[43mtargetctx\u001b[49m\u001b[43m,\u001b[49m\n\u001b[32m    115\u001b[39m \u001b[43m        \u001b[49m\u001b[43mstate\u001b[49m\u001b[43m.\u001b[49m\u001b[43mfunc_ir\u001b[49m\u001b[43m,\u001b[49m\n\u001b[32m    116\u001b[39m \u001b[43m        \u001b[49m\u001b[43mstate\u001b[49m\u001b[43m.\u001b[49m\u001b[43margs\u001b[49m\u001b[43m,\u001b[49m\n\u001b[32m    117\u001b[39m \u001b[43m        \u001b[49m\u001b[43mstate\u001b[49m\u001b[43m.\u001b[49m\u001b[43mreturn_type\u001b[49m\u001b[43m,\u001b[49m\n\u001b[32m    118\u001b[39m \u001b[43m        \u001b[49m\u001b[43mstate\u001b[49m\u001b[43m.\u001b[49m\u001b[43mlocals\u001b[49m\u001b[43m,\u001b[49m\n\u001b[32m    119\u001b[39m \u001b[43m        \u001b[49m\u001b[43mraise_errors\u001b[49m\u001b[43m=\u001b[49m\u001b[38;5;28;43mself\u001b[39;49m\u001b[43m.\u001b[49m\u001b[43m_raise_errors\u001b[49m\u001b[43m)\u001b[49m\n\u001b[32m    120\u001b[39m     state.typemap = typemap\n\u001b[32m    121\u001b[39m     \u001b[38;5;66;03m# save errors in case of partial typing\u001b[39;00m\n",
      "\u001b[36mFile \u001b[39m\u001b[32mc:\\Users\\carme\\Documents\\GitHub\\MScThesis\\.venv\\Lib\\site-packages\\numba\\core\\typed_passes.py:93\u001b[39m, in \u001b[36mtype_inference_stage\u001b[39m\u001b[34m(typingctx, targetctx, interp, args, return_type, locals, raise_errors)\u001b[39m\n\u001b[32m     91\u001b[39m     infer.build_constraint()\n\u001b[32m     92\u001b[39m     \u001b[38;5;66;03m# return errors in case of partial typing\u001b[39;00m\n\u001b[32m---> \u001b[39m\u001b[32m93\u001b[39m     errs = \u001b[43minfer\u001b[49m\u001b[43m.\u001b[49m\u001b[43mpropagate\u001b[49m\u001b[43m(\u001b[49m\u001b[43mraise_errors\u001b[49m\u001b[43m=\u001b[49m\u001b[43mraise_errors\u001b[49m\u001b[43m)\u001b[49m\n\u001b[32m     94\u001b[39m     typemap, restype, calltypes = infer.unify(raise_errors=raise_errors)\n\u001b[32m     96\u001b[39m \u001b[38;5;28;01mreturn\u001b[39;00m _TypingResults(typemap, restype, calltypes, errs)\n",
      "\u001b[36mFile \u001b[39m\u001b[32mc:\\Users\\carme\\Documents\\GitHub\\MScThesis\\.venv\\Lib\\site-packages\\numba\\core\\typeinfer.py:1066\u001b[39m, in \u001b[36mTypeInferer.propagate\u001b[39m\u001b[34m(self, raise_errors)\u001b[39m\n\u001b[32m   1063\u001b[39m oldtoken = newtoken\n\u001b[32m   1064\u001b[39m \u001b[38;5;66;03m# Errors can appear when the type set is incomplete; only\u001b[39;00m\n\u001b[32m   1065\u001b[39m \u001b[38;5;66;03m# raise them when there is no progress anymore.\u001b[39;00m\n\u001b[32m-> \u001b[39m\u001b[32m1066\u001b[39m errors = \u001b[38;5;28;43mself\u001b[39;49m\u001b[43m.\u001b[49m\u001b[43mconstraints\u001b[49m\u001b[43m.\u001b[49m\u001b[43mpropagate\u001b[49m\u001b[43m(\u001b[49m\u001b[38;5;28;43mself\u001b[39;49m\u001b[43m)\u001b[49m\n\u001b[32m   1067\u001b[39m newtoken = \u001b[38;5;28mself\u001b[39m.get_state_token()\n\u001b[32m   1068\u001b[39m \u001b[38;5;28mself\u001b[39m.debug.propagate_finished()\n",
      "\u001b[36mFile \u001b[39m\u001b[32mc:\\Users\\carme\\Documents\\GitHub\\MScThesis\\.venv\\Lib\\site-packages\\numba\\core\\typeinfer.py:160\u001b[39m, in \u001b[36mConstraintNetwork.propagate\u001b[39m\u001b[34m(self, typeinfer)\u001b[39m\n\u001b[32m    157\u001b[39m \u001b[38;5;28;01mwith\u001b[39;00m typeinfer.warnings.catch_warnings(filename=loc.filename,\n\u001b[32m    158\u001b[39m                                        lineno=loc.line):\n\u001b[32m    159\u001b[39m     \u001b[38;5;28;01mtry\u001b[39;00m:\n\u001b[32m--> \u001b[39m\u001b[32m160\u001b[39m         \u001b[43mconstraint\u001b[49m\u001b[43m(\u001b[49m\u001b[43mtypeinfer\u001b[49m\u001b[43m)\u001b[49m\n\u001b[32m    161\u001b[39m     \u001b[38;5;28;01mexcept\u001b[39;00m ForceLiteralArg \u001b[38;5;28;01mas\u001b[39;00m e:\n\u001b[32m    162\u001b[39m         errors.append(e)\n",
      "\u001b[36mFile \u001b[39m\u001b[32mc:\\Users\\carme\\Documents\\GitHub\\MScThesis\\.venv\\Lib\\site-packages\\numba\\core\\typeinfer.py:566\u001b[39m, in \u001b[36mCallConstraint.__call__\u001b[39m\u001b[34m(self, typeinfer)\u001b[39m\n\u001b[32m    564\u001b[39m     fnty = typevars[\u001b[38;5;28mself\u001b[39m.func].getone()\n\u001b[32m    565\u001b[39m \u001b[38;5;28;01mwith\u001b[39;00m new_error_context(\u001b[33m\"\u001b[39m\u001b[33mresolving callee type: \u001b[39m\u001b[38;5;132;01m{0}\u001b[39;00m\u001b[33m\"\u001b[39m, fnty):\n\u001b[32m--> \u001b[39m\u001b[32m566\u001b[39m     \u001b[38;5;28;43mself\u001b[39;49m\u001b[43m.\u001b[49m\u001b[43mresolve\u001b[49m\u001b[43m(\u001b[49m\u001b[43mtypeinfer\u001b[49m\u001b[43m,\u001b[49m\u001b[43m \u001b[49m\u001b[43mtypevars\u001b[49m\u001b[43m,\u001b[49m\u001b[43m \u001b[49m\u001b[43mfnty\u001b[49m\u001b[43m)\u001b[49m\n",
      "\u001b[36mFile \u001b[39m\u001b[32mc:\\Users\\carme\\Documents\\GitHub\\MScThesis\\.venv\\Lib\\site-packages\\numba\\core\\typeinfer.py:589\u001b[39m, in \u001b[36mCallConstraint.resolve\u001b[39m\u001b[34m(self, typeinfer, typevars, fnty)\u001b[39m\n\u001b[32m    587\u001b[39m     fnty = fnty.instance_type\n\u001b[32m    588\u001b[39m \u001b[38;5;28;01mtry\u001b[39;00m:\n\u001b[32m--> \u001b[39m\u001b[32m589\u001b[39m     sig = \u001b[43mtypeinfer\u001b[49m\u001b[43m.\u001b[49m\u001b[43mresolve_call\u001b[49m\u001b[43m(\u001b[49m\u001b[43mfnty\u001b[49m\u001b[43m,\u001b[49m\u001b[43m \u001b[49m\u001b[43mpos_args\u001b[49m\u001b[43m,\u001b[49m\u001b[43m \u001b[49m\u001b[43mkw_args\u001b[49m\u001b[43m)\u001b[49m\n\u001b[32m    590\u001b[39m \u001b[38;5;28;01mexcept\u001b[39;00m ForceLiteralArg \u001b[38;5;28;01mas\u001b[39;00m e:\n\u001b[32m    591\u001b[39m     \u001b[38;5;66;03m# Adjust for bound methods\u001b[39;00m\n\u001b[32m    592\u001b[39m     folding_args = ((fnty.this,) + \u001b[38;5;28mtuple\u001b[39m(\u001b[38;5;28mself\u001b[39m.args)\n\u001b[32m    593\u001b[39m                     \u001b[38;5;28;01mif\u001b[39;00m \u001b[38;5;28misinstance\u001b[39m(fnty, types.BoundFunction)\n\u001b[32m    594\u001b[39m                     \u001b[38;5;28;01melse\u001b[39;00m \u001b[38;5;28mself\u001b[39m.args)\n",
      "\u001b[36mFile \u001b[39m\u001b[32mc:\\Users\\carme\\Documents\\GitHub\\MScThesis\\.venv\\Lib\\site-packages\\numba\\core\\typeinfer.py:1560\u001b[39m, in \u001b[36mTypeInferer.resolve_call\u001b[39m\u001b[34m(self, fnty, pos_args, kw_args)\u001b[39m\n\u001b[32m   1557\u001b[39m     \u001b[38;5;28;01mreturn\u001b[39;00m sig\n\u001b[32m   1558\u001b[39m \u001b[38;5;28;01melse\u001b[39;00m:\n\u001b[32m   1559\u001b[39m     \u001b[38;5;66;03m# Normal non-recursive call\u001b[39;00m\n\u001b[32m-> \u001b[39m\u001b[32m1560\u001b[39m     \u001b[38;5;28;01mreturn\u001b[39;00m \u001b[38;5;28;43mself\u001b[39;49m\u001b[43m.\u001b[49m\u001b[43mcontext\u001b[49m\u001b[43m.\u001b[49m\u001b[43mresolve_function_type\u001b[49m\u001b[43m(\u001b[49m\u001b[43mfnty\u001b[49m\u001b[43m,\u001b[49m\u001b[43m \u001b[49m\u001b[43mpos_args\u001b[49m\u001b[43m,\u001b[49m\u001b[43m \u001b[49m\u001b[43mkw_args\u001b[49m\u001b[43m)\u001b[49m\n",
      "\u001b[36mFile \u001b[39m\u001b[32mc:\\Users\\carme\\Documents\\GitHub\\MScThesis\\.venv\\Lib\\site-packages\\numba\\core\\typing\\context.py:195\u001b[39m, in \u001b[36mBaseContext.resolve_function_type\u001b[39m\u001b[34m(self, func, args, kws)\u001b[39m\n\u001b[32m    193\u001b[39m \u001b[38;5;66;03m# Prefer user definition first\u001b[39;00m\n\u001b[32m    194\u001b[39m \u001b[38;5;28;01mtry\u001b[39;00m:\n\u001b[32m--> \u001b[39m\u001b[32m195\u001b[39m     res = \u001b[38;5;28;43mself\u001b[39;49m\u001b[43m.\u001b[49m\u001b[43m_resolve_user_function_type\u001b[49m\u001b[43m(\u001b[49m\u001b[43mfunc\u001b[49m\u001b[43m,\u001b[49m\u001b[43m \u001b[49m\u001b[43margs\u001b[49m\u001b[43m,\u001b[49m\u001b[43m \u001b[49m\u001b[43mkws\u001b[49m\u001b[43m)\u001b[49m\n\u001b[32m    196\u001b[39m \u001b[38;5;28;01mexcept\u001b[39;00m errors.TypingError \u001b[38;5;28;01mas\u001b[39;00m e:\n\u001b[32m    197\u001b[39m     \u001b[38;5;66;03m# Capture any typing error\u001b[39;00m\n\u001b[32m    198\u001b[39m     last_exception = e\n",
      "\u001b[36mFile \u001b[39m\u001b[32mc:\\Users\\carme\\Documents\\GitHub\\MScThesis\\.venv\\Lib\\site-packages\\numba\\core\\typing\\context.py:247\u001b[39m, in \u001b[36mBaseContext._resolve_user_function_type\u001b[39m\u001b[34m(self, func, args, kws, literals)\u001b[39m\n\u001b[32m    243\u001b[39m         \u001b[38;5;28;01mreturn\u001b[39;00m \u001b[38;5;28mself\u001b[39m.resolve_function_type(func_type, args, kws)\n\u001b[32m    245\u001b[39m \u001b[38;5;28;01mif\u001b[39;00m \u001b[38;5;28misinstance\u001b[39m(func, types.Callable):\n\u001b[32m    246\u001b[39m     \u001b[38;5;66;03m# XXX fold this into the __call__ attribute logic?\u001b[39;00m\n\u001b[32m--> \u001b[39m\u001b[32m247\u001b[39m     \u001b[38;5;28;01mreturn\u001b[39;00m \u001b[43mfunc\u001b[49m\u001b[43m.\u001b[49m\u001b[43mget_call_type\u001b[49m\u001b[43m(\u001b[49m\u001b[38;5;28;43mself\u001b[39;49m\u001b[43m,\u001b[49m\u001b[43m \u001b[49m\u001b[43margs\u001b[49m\u001b[43m,\u001b[49m\u001b[43m \u001b[49m\u001b[43mkws\u001b[49m\u001b[43m)\u001b[49m\n",
      "\u001b[36mFile \u001b[39m\u001b[32mc:\\Users\\carme\\Documents\\GitHub\\MScThesis\\.venv\\Lib\\site-packages\\numba\\core\\types\\functions.py:538\u001b[39m, in \u001b[36mDispatcher.get_call_type\u001b[39m\u001b[34m(self, context, args, kws)\u001b[39m\n\u001b[32m    531\u001b[39m \u001b[38;5;28;01mdef\u001b[39;00m\u001b[38;5;250m \u001b[39m\u001b[34mget_call_type\u001b[39m(\u001b[38;5;28mself\u001b[39m, context, args, kws):\n\u001b[32m    532\u001b[39m \u001b[38;5;250m    \u001b[39m\u001b[33;03m\"\"\"\u001b[39;00m\n\u001b[32m    533\u001b[39m \u001b[33;03m    Resolve a call to this dispatcher using the given argument types.\u001b[39;00m\n\u001b[32m    534\u001b[39m \u001b[33;03m    A signature returned and it is ensured that a compiled specialization\u001b[39;00m\n\u001b[32m    535\u001b[39m \u001b[33;03m    is available for it.\u001b[39;00m\n\u001b[32m    536\u001b[39m \u001b[33;03m    \"\"\"\u001b[39;00m\n\u001b[32m    537\u001b[39m     template, pysig, args, kws = \\\n\u001b[32m--> \u001b[39m\u001b[32m538\u001b[39m         \u001b[38;5;28;43mself\u001b[39;49m\u001b[43m.\u001b[49m\u001b[43mdispatcher\u001b[49m\u001b[43m.\u001b[49m\u001b[43mget_call_template\u001b[49m\u001b[43m(\u001b[49m\u001b[43margs\u001b[49m\u001b[43m,\u001b[49m\u001b[43m \u001b[49m\u001b[43mkws\u001b[49m\u001b[43m)\u001b[49m\n\u001b[32m    539\u001b[39m     sig = template(context).apply(args, kws)\n\u001b[32m    540\u001b[39m     \u001b[38;5;28;01mif\u001b[39;00m sig:\n",
      "\u001b[36mFile \u001b[39m\u001b[32mc:\\Users\\carme\\Documents\\GitHub\\MScThesis\\.venv\\Lib\\site-packages\\numba\\core\\dispatcher.py:319\u001b[39m, in \u001b[36m_DispatcherBase.get_call_template\u001b[39m\u001b[34m(self, args, kws)\u001b[39m\n\u001b[32m    317\u001b[39m \u001b[38;5;66;03m# Ensure an overload is available\u001b[39;00m\n\u001b[32m    318\u001b[39m \u001b[38;5;28;01mif\u001b[39;00m \u001b[38;5;28mself\u001b[39m._can_compile:\n\u001b[32m--> \u001b[39m\u001b[32m319\u001b[39m     \u001b[38;5;28;43mself\u001b[39;49m\u001b[43m.\u001b[49m\u001b[43mcompile\u001b[49m\u001b[43m(\u001b[49m\u001b[38;5;28;43mtuple\u001b[39;49m\u001b[43m(\u001b[49m\u001b[43margs\u001b[49m\u001b[43m)\u001b[49m\u001b[43m)\u001b[49m\n\u001b[32m    321\u001b[39m \u001b[38;5;66;03m# Create function type for typing\u001b[39;00m\n\u001b[32m    322\u001b[39m func_name = \u001b[38;5;28mself\u001b[39m.py_func.\u001b[34m__name__\u001b[39m\n",
      "\u001b[36mFile \u001b[39m\u001b[32mc:\\Users\\carme\\Documents\\GitHub\\MScThesis\\.venv\\Lib\\site-packages\\numba\\core\\dispatcher.py:904\u001b[39m, in \u001b[36mDispatcher.compile\u001b[39m\u001b[34m(self, sig)\u001b[39m\n\u001b[32m    902\u001b[39m \u001b[38;5;28;01mwith\u001b[39;00m ev.trigger_event(\u001b[33m\"\u001b[39m\u001b[33mnumba:compile\u001b[39m\u001b[33m\"\u001b[39m, data=ev_details):\n\u001b[32m    903\u001b[39m     \u001b[38;5;28;01mtry\u001b[39;00m:\n\u001b[32m--> \u001b[39m\u001b[32m904\u001b[39m         cres = \u001b[38;5;28;43mself\u001b[39;49m\u001b[43m.\u001b[49m\u001b[43m_compiler\u001b[49m\u001b[43m.\u001b[49m\u001b[43mcompile\u001b[49m\u001b[43m(\u001b[49m\u001b[43margs\u001b[49m\u001b[43m,\u001b[49m\u001b[43m \u001b[49m\u001b[43mreturn_type\u001b[49m\u001b[43m)\u001b[49m\n\u001b[32m    905\u001b[39m     \u001b[38;5;28;01mexcept\u001b[39;00m errors.ForceLiteralArg \u001b[38;5;28;01mas\u001b[39;00m e:\n\u001b[32m    906\u001b[39m         \u001b[38;5;28;01mdef\u001b[39;00m\u001b[38;5;250m \u001b[39m\u001b[34mfolded\u001b[39m(args, kws):\n",
      "\u001b[36mFile \u001b[39m\u001b[32mc:\\Users\\carme\\Documents\\GitHub\\MScThesis\\.venv\\Lib\\site-packages\\numba\\core\\dispatcher.py:80\u001b[39m, in \u001b[36m_FunctionCompiler.compile\u001b[39m\u001b[34m(self, args, return_type)\u001b[39m\n\u001b[32m     79\u001b[39m \u001b[38;5;28;01mdef\u001b[39;00m\u001b[38;5;250m \u001b[39m\u001b[34mcompile\u001b[39m(\u001b[38;5;28mself\u001b[39m, args, return_type):\n\u001b[32m---> \u001b[39m\u001b[32m80\u001b[39m     status, retval = \u001b[38;5;28;43mself\u001b[39;49m\u001b[43m.\u001b[49m\u001b[43m_compile_cached\u001b[49m\u001b[43m(\u001b[49m\u001b[43margs\u001b[49m\u001b[43m,\u001b[49m\u001b[43m \u001b[49m\u001b[43mreturn_type\u001b[49m\u001b[43m)\u001b[49m\n\u001b[32m     81\u001b[39m     \u001b[38;5;28;01mif\u001b[39;00m status:\n\u001b[32m     82\u001b[39m         \u001b[38;5;28;01mreturn\u001b[39;00m retval\n",
      "\u001b[36mFile \u001b[39m\u001b[32mc:\\Users\\carme\\Documents\\GitHub\\MScThesis\\.venv\\Lib\\site-packages\\numba\\core\\dispatcher.py:94\u001b[39m, in \u001b[36m_FunctionCompiler._compile_cached\u001b[39m\u001b[34m(self, args, return_type)\u001b[39m\n\u001b[32m     91\u001b[39m     \u001b[38;5;28;01mpass\u001b[39;00m\n\u001b[32m     93\u001b[39m \u001b[38;5;28;01mtry\u001b[39;00m:\n\u001b[32m---> \u001b[39m\u001b[32m94\u001b[39m     retval = \u001b[38;5;28;43mself\u001b[39;49m\u001b[43m.\u001b[49m\u001b[43m_compile_core\u001b[49m\u001b[43m(\u001b[49m\u001b[43margs\u001b[49m\u001b[43m,\u001b[49m\u001b[43m \u001b[49m\u001b[43mreturn_type\u001b[49m\u001b[43m)\u001b[49m\n\u001b[32m     95\u001b[39m \u001b[38;5;28;01mexcept\u001b[39;00m errors.TypingError \u001b[38;5;28;01mas\u001b[39;00m e:\n\u001b[32m     96\u001b[39m     \u001b[38;5;28mself\u001b[39m._failed_cache[key] = e\n",
      "\u001b[36mFile \u001b[39m\u001b[32mc:\\Users\\carme\\Documents\\GitHub\\MScThesis\\.venv\\Lib\\site-packages\\numba\\core\\dispatcher.py:107\u001b[39m, in \u001b[36m_FunctionCompiler._compile_core\u001b[39m\u001b[34m(self, args, return_type)\u001b[39m\n\u001b[32m    104\u001b[39m flags = \u001b[38;5;28mself\u001b[39m._customize_flags(flags)\n\u001b[32m    106\u001b[39m impl = \u001b[38;5;28mself\u001b[39m._get_implementation(args, {})\n\u001b[32m--> \u001b[39m\u001b[32m107\u001b[39m cres = \u001b[43mcompiler\u001b[49m\u001b[43m.\u001b[49m\u001b[43mcompile_extra\u001b[49m\u001b[43m(\u001b[49m\u001b[38;5;28;43mself\u001b[39;49m\u001b[43m.\u001b[49m\u001b[43mtargetdescr\u001b[49m\u001b[43m.\u001b[49m\u001b[43mtyping_context\u001b[49m\u001b[43m,\u001b[49m\n\u001b[32m    108\u001b[39m \u001b[43m                              \u001b[49m\u001b[38;5;28;43mself\u001b[39;49m\u001b[43m.\u001b[49m\u001b[43mtargetdescr\u001b[49m\u001b[43m.\u001b[49m\u001b[43mtarget_context\u001b[49m\u001b[43m,\u001b[49m\n\u001b[32m    109\u001b[39m \u001b[43m                              \u001b[49m\u001b[43mimpl\u001b[49m\u001b[43m,\u001b[49m\n\u001b[32m    110\u001b[39m \u001b[43m                              \u001b[49m\u001b[43margs\u001b[49m\u001b[43m=\u001b[49m\u001b[43margs\u001b[49m\u001b[43m,\u001b[49m\u001b[43m \u001b[49m\u001b[43mreturn_type\u001b[49m\u001b[43m=\u001b[49m\u001b[43mreturn_type\u001b[49m\u001b[43m,\u001b[49m\n\u001b[32m    111\u001b[39m \u001b[43m                              \u001b[49m\u001b[43mflags\u001b[49m\u001b[43m=\u001b[49m\u001b[43mflags\u001b[49m\u001b[43m,\u001b[49m\u001b[43m \u001b[49m\u001b[38;5;28;43mlocals\u001b[39;49m\u001b[43m=\u001b[49m\u001b[38;5;28;43mself\u001b[39;49m\u001b[43m.\u001b[49m\u001b[43mlocals\u001b[49m\u001b[43m,\u001b[49m\n\u001b[32m    112\u001b[39m \u001b[43m                              \u001b[49m\u001b[43mpipeline_class\u001b[49m\u001b[43m=\u001b[49m\u001b[38;5;28;43mself\u001b[39;49m\u001b[43m.\u001b[49m\u001b[43mpipeline_class\u001b[49m\u001b[43m)\u001b[49m\n\u001b[32m    113\u001b[39m \u001b[38;5;66;03m# Check typing error if object mode is used\u001b[39;00m\n\u001b[32m    114\u001b[39m \u001b[38;5;28;01mif\u001b[39;00m cres.typing_error \u001b[38;5;129;01mis\u001b[39;00m \u001b[38;5;129;01mnot\u001b[39;00m \u001b[38;5;28;01mNone\u001b[39;00m \u001b[38;5;129;01mand\u001b[39;00m \u001b[38;5;129;01mnot\u001b[39;00m flags.enable_pyobject:\n",
      "\u001b[36mFile \u001b[39m\u001b[32mc:\\Users\\carme\\Documents\\GitHub\\MScThesis\\.venv\\Lib\\site-packages\\numba\\core\\compiler.py:739\u001b[39m, in \u001b[36mcompile_extra\u001b[39m\u001b[34m(typingctx, targetctx, func, args, return_type, flags, locals, library, pipeline_class)\u001b[39m\n\u001b[32m    715\u001b[39m \u001b[38;5;250m\u001b[39m\u001b[33;03m\"\"\"Compiler entry point\u001b[39;00m\n\u001b[32m    716\u001b[39m \n\u001b[32m    717\u001b[39m \u001b[33;03mParameter\u001b[39;00m\n\u001b[32m   (...)\u001b[39m\u001b[32m    735\u001b[39m \u001b[33;03m    compiler pipeline\u001b[39;00m\n\u001b[32m    736\u001b[39m \u001b[33;03m\"\"\"\u001b[39;00m\n\u001b[32m    737\u001b[39m pipeline = pipeline_class(typingctx, targetctx, library,\n\u001b[32m    738\u001b[39m                           args, return_type, flags, \u001b[38;5;28mlocals\u001b[39m)\n\u001b[32m--> \u001b[39m\u001b[32m739\u001b[39m \u001b[38;5;28;01mreturn\u001b[39;00m \u001b[43mpipeline\u001b[49m\u001b[43m.\u001b[49m\u001b[43mcompile_extra\u001b[49m\u001b[43m(\u001b[49m\u001b[43mfunc\u001b[49m\u001b[43m)\u001b[49m\n",
      "\u001b[36mFile \u001b[39m\u001b[32mc:\\Users\\carme\\Documents\\GitHub\\MScThesis\\.venv\\Lib\\site-packages\\numba\\core\\compiler.py:439\u001b[39m, in \u001b[36mCompilerBase.compile_extra\u001b[39m\u001b[34m(self, func)\u001b[39m\n\u001b[32m    437\u001b[39m \u001b[38;5;28mself\u001b[39m.state.lifted = ()\n\u001b[32m    438\u001b[39m \u001b[38;5;28mself\u001b[39m.state.lifted_from = \u001b[38;5;28;01mNone\u001b[39;00m\n\u001b[32m--> \u001b[39m\u001b[32m439\u001b[39m \u001b[38;5;28;01mreturn\u001b[39;00m \u001b[38;5;28;43mself\u001b[39;49m\u001b[43m.\u001b[49m\u001b[43m_compile_bytecode\u001b[49m\u001b[43m(\u001b[49m\u001b[43m)\u001b[49m\n",
      "\u001b[36mFile \u001b[39m\u001b[32mc:\\Users\\carme\\Documents\\GitHub\\MScThesis\\.venv\\Lib\\site-packages\\numba\\core\\compiler.py:505\u001b[39m, in \u001b[36mCompilerBase._compile_bytecode\u001b[39m\u001b[34m(self)\u001b[39m\n\u001b[32m    501\u001b[39m \u001b[38;5;250m\u001b[39m\u001b[33;03m\"\"\"\u001b[39;00m\n\u001b[32m    502\u001b[39m \u001b[33;03mPopulate and run pipeline for bytecode input\u001b[39;00m\n\u001b[32m    503\u001b[39m \u001b[33;03m\"\"\"\u001b[39;00m\n\u001b[32m    504\u001b[39m \u001b[38;5;28;01massert\u001b[39;00m \u001b[38;5;28mself\u001b[39m.state.func_ir \u001b[38;5;129;01mis\u001b[39;00m \u001b[38;5;28;01mNone\u001b[39;00m\n\u001b[32m--> \u001b[39m\u001b[32m505\u001b[39m \u001b[38;5;28;01mreturn\u001b[39;00m \u001b[38;5;28;43mself\u001b[39;49m\u001b[43m.\u001b[49m\u001b[43m_compile_core\u001b[49m\u001b[43m(\u001b[49m\u001b[43m)\u001b[49m\n",
      "\u001b[36mFile \u001b[39m\u001b[32mc:\\Users\\carme\\Documents\\GitHub\\MScThesis\\.venv\\Lib\\site-packages\\numba\\core\\compiler.py:481\u001b[39m, in \u001b[36mCompilerBase._compile_core\u001b[39m\u001b[34m(self)\u001b[39m\n\u001b[32m    479\u001b[39m \u001b[38;5;28;01mexcept\u001b[39;00m \u001b[38;5;167;01mException\u001b[39;00m \u001b[38;5;28;01mas\u001b[39;00m e:\n\u001b[32m    480\u001b[39m     \u001b[38;5;28;01mif\u001b[39;00m \u001b[38;5;129;01mnot\u001b[39;00m \u001b[38;5;28misinstance\u001b[39m(e, errors.NumbaError):\n\u001b[32m--> \u001b[39m\u001b[32m481\u001b[39m         \u001b[38;5;28;01mraise\u001b[39;00m e\n\u001b[32m    482\u001b[39m     \u001b[38;5;28mself\u001b[39m.state.status.fail_reason = e\n\u001b[32m    483\u001b[39m     \u001b[38;5;28;01mif\u001b[39;00m is_final_pipeline:\n",
      "\u001b[36mFile \u001b[39m\u001b[32mc:\\Users\\carme\\Documents\\GitHub\\MScThesis\\.venv\\Lib\\site-packages\\numba\\core\\compiler.py:473\u001b[39m, in \u001b[36mCompilerBase._compile_core\u001b[39m\u001b[34m(self)\u001b[39m\n\u001b[32m    471\u001b[39m res = \u001b[38;5;28;01mNone\u001b[39;00m\n\u001b[32m    472\u001b[39m \u001b[38;5;28;01mtry\u001b[39;00m:\n\u001b[32m--> \u001b[39m\u001b[32m473\u001b[39m     \u001b[43mpm\u001b[49m\u001b[43m.\u001b[49m\u001b[43mrun\u001b[49m\u001b[43m(\u001b[49m\u001b[38;5;28;43mself\u001b[39;49m\u001b[43m.\u001b[49m\u001b[43mstate\u001b[49m\u001b[43m)\u001b[49m\n\u001b[32m    474\u001b[39m     \u001b[38;5;28;01mif\u001b[39;00m \u001b[38;5;28mself\u001b[39m.state.cr \u001b[38;5;129;01mis\u001b[39;00m \u001b[38;5;129;01mnot\u001b[39;00m \u001b[38;5;28;01mNone\u001b[39;00m:\n\u001b[32m    475\u001b[39m         \u001b[38;5;28;01mbreak\u001b[39;00m\n",
      "\u001b[36mFile \u001b[39m\u001b[32mc:\\Users\\carme\\Documents\\GitHub\\MScThesis\\.venv\\Lib\\site-packages\\numba\\core\\compiler_machinery.py:363\u001b[39m, in \u001b[36mPassManager.run\u001b[39m\u001b[34m(self, state)\u001b[39m\n\u001b[32m    361\u001b[39m \u001b[38;5;28;01mexcept\u001b[39;00m \u001b[38;5;167;01mException\u001b[39;00m \u001b[38;5;28;01mas\u001b[39;00m e:\n\u001b[32m    362\u001b[39m     \u001b[38;5;28;01mif\u001b[39;00m \u001b[38;5;129;01mnot\u001b[39;00m \u001b[38;5;28misinstance\u001b[39m(e, errors.NumbaError):\n\u001b[32m--> \u001b[39m\u001b[32m363\u001b[39m         \u001b[38;5;28;01mraise\u001b[39;00m e\n\u001b[32m    364\u001b[39m     msg = \u001b[33m\"\u001b[39m\u001b[33mFailed in \u001b[39m\u001b[38;5;132;01m%s\u001b[39;00m\u001b[33m mode pipeline (step: \u001b[39m\u001b[38;5;132;01m%s\u001b[39;00m\u001b[33m)\u001b[39m\u001b[33m\"\u001b[39m % \\\n\u001b[32m    365\u001b[39m         (\u001b[38;5;28mself\u001b[39m.pipeline_name, pass_desc)\n\u001b[32m    366\u001b[39m     patched_exception = \u001b[38;5;28mself\u001b[39m._patch_error(msg, e)\n",
      "\u001b[36mFile \u001b[39m\u001b[32mc:\\Users\\carme\\Documents\\GitHub\\MScThesis\\.venv\\Lib\\site-packages\\numba\\core\\compiler_machinery.py:356\u001b[39m, in \u001b[36mPassManager.run\u001b[39m\u001b[34m(self, state)\u001b[39m\n\u001b[32m    354\u001b[39m pass_inst = _pass_registry.get(pss).pass_inst\n\u001b[32m    355\u001b[39m \u001b[38;5;28;01mif\u001b[39;00m \u001b[38;5;28misinstance\u001b[39m(pass_inst, CompilerPass):\n\u001b[32m--> \u001b[39m\u001b[32m356\u001b[39m     \u001b[38;5;28;43mself\u001b[39;49m\u001b[43m.\u001b[49m\u001b[43m_runPass\u001b[49m\u001b[43m(\u001b[49m\u001b[43midx\u001b[49m\u001b[43m,\u001b[49m\u001b[43m \u001b[49m\u001b[43mpass_inst\u001b[49m\u001b[43m,\u001b[49m\u001b[43m \u001b[49m\u001b[43mstate\u001b[49m\u001b[43m)\u001b[49m\n\u001b[32m    357\u001b[39m \u001b[38;5;28;01melse\u001b[39;00m:\n\u001b[32m    358\u001b[39m     \u001b[38;5;28;01mraise\u001b[39;00m \u001b[38;5;167;01mBaseException\u001b[39;00m(\u001b[33m\"\u001b[39m\u001b[33mLegacy pass in use\u001b[39m\u001b[33m\"\u001b[39m)\n",
      "\u001b[36mFile \u001b[39m\u001b[32mc:\\Users\\carme\\Documents\\GitHub\\MScThesis\\.venv\\Lib\\site-packages\\numba\\core\\compiler_lock.py:35\u001b[39m, in \u001b[36m_CompilerLock.__call__.<locals>._acquire_compile_lock\u001b[39m\u001b[34m(*args, **kwargs)\u001b[39m\n\u001b[32m     32\u001b[39m \u001b[38;5;129m@functools\u001b[39m.wraps(func)\n\u001b[32m     33\u001b[39m \u001b[38;5;28;01mdef\u001b[39;00m\u001b[38;5;250m \u001b[39m\u001b[34m_acquire_compile_lock\u001b[39m(*args, **kwargs):\n\u001b[32m     34\u001b[39m     \u001b[38;5;28;01mwith\u001b[39;00m \u001b[38;5;28mself\u001b[39m:\n\u001b[32m---> \u001b[39m\u001b[32m35\u001b[39m         \u001b[38;5;28;01mreturn\u001b[39;00m \u001b[43mfunc\u001b[49m\u001b[43m(\u001b[49m\u001b[43m*\u001b[49m\u001b[43margs\u001b[49m\u001b[43m,\u001b[49m\u001b[43m \u001b[49m\u001b[43m*\u001b[49m\u001b[43m*\u001b[49m\u001b[43mkwargs\u001b[49m\u001b[43m)\u001b[49m\n",
      "\u001b[36mFile \u001b[39m\u001b[32mc:\\Users\\carme\\Documents\\GitHub\\MScThesis\\.venv\\Lib\\site-packages\\numba\\core\\compiler_machinery.py:311\u001b[39m, in \u001b[36mPassManager._runPass\u001b[39m\u001b[34m(self, index, pss, internal_state)\u001b[39m\n\u001b[32m    309\u001b[39m     mutated |= check(pss.run_initialization, internal_state)\n\u001b[32m    310\u001b[39m \u001b[38;5;28;01mwith\u001b[39;00m SimpleTimer() \u001b[38;5;28;01mas\u001b[39;00m pass_time:\n\u001b[32m--> \u001b[39m\u001b[32m311\u001b[39m     mutated |= \u001b[43mcheck\u001b[49m\u001b[43m(\u001b[49m\u001b[43mpss\u001b[49m\u001b[43m.\u001b[49m\u001b[43mrun_pass\u001b[49m\u001b[43m,\u001b[49m\u001b[43m \u001b[49m\u001b[43minternal_state\u001b[49m\u001b[43m)\u001b[49m\n\u001b[32m    312\u001b[39m \u001b[38;5;28;01mwith\u001b[39;00m SimpleTimer() \u001b[38;5;28;01mas\u001b[39;00m finalize_time:\n\u001b[32m    313\u001b[39m     mutated |= check(pss.run_finalizer, internal_state)\n",
      "\u001b[36mFile \u001b[39m\u001b[32mc:\\Users\\carme\\Documents\\GitHub\\MScThesis\\.venv\\Lib\\site-packages\\numba\\core\\compiler_machinery.py:272\u001b[39m, in \u001b[36mPassManager._runPass.<locals>.check\u001b[39m\u001b[34m(func, compiler_state)\u001b[39m\n\u001b[32m    271\u001b[39m \u001b[38;5;28;01mdef\u001b[39;00m\u001b[38;5;250m \u001b[39m\u001b[34mcheck\u001b[39m(func, compiler_state):\n\u001b[32m--> \u001b[39m\u001b[32m272\u001b[39m     mangled = \u001b[43mfunc\u001b[49m\u001b[43m(\u001b[49m\u001b[43mcompiler_state\u001b[49m\u001b[43m)\u001b[49m\n\u001b[32m    273\u001b[39m     \u001b[38;5;28;01mif\u001b[39;00m mangled \u001b[38;5;129;01mnot\u001b[39;00m \u001b[38;5;129;01min\u001b[39;00m (\u001b[38;5;28;01mTrue\u001b[39;00m, \u001b[38;5;28;01mFalse\u001b[39;00m):\n\u001b[32m    274\u001b[39m         msg = (\u001b[33m\"\u001b[39m\u001b[33mCompilerPass implementations should return True/False. \u001b[39m\u001b[33m\"\u001b[39m\n\u001b[32m    275\u001b[39m                \u001b[33m\"\u001b[39m\u001b[33mCompilerPass with name \u001b[39m\u001b[33m'\u001b[39m\u001b[38;5;132;01m%s\u001b[39;00m\u001b[33m'\u001b[39m\u001b[33m did not.\u001b[39m\u001b[33m\"\u001b[39m)\n",
      "\u001b[36mFile \u001b[39m\u001b[32mc:\\Users\\carme\\Documents\\GitHub\\MScThesis\\.venv\\Lib\\site-packages\\numba\\core\\typed_passes.py:468\u001b[39m, in \u001b[36mBaseNativeLowering.run_pass\u001b[39m\u001b[34m(self, state)\u001b[39m\n\u001b[32m    465\u001b[39m \u001b[38;5;28;01mwith\u001b[39;00m targetctx.push_code_library(library):\n\u001b[32m    466\u001b[39m     lower = \u001b[38;5;28mself\u001b[39m.lowering_class(targetctx, library, fndesc, interp,\n\u001b[32m    467\u001b[39m                                 metadata=metadata)\n\u001b[32m--> \u001b[39m\u001b[32m468\u001b[39m     \u001b[43mlower\u001b[49m\u001b[43m.\u001b[49m\u001b[43mlower\u001b[49m\u001b[43m(\u001b[49m\u001b[43m)\u001b[49m\n\u001b[32m    469\u001b[39m     \u001b[38;5;28;01mif\u001b[39;00m \u001b[38;5;129;01mnot\u001b[39;00m flags.no_cpython_wrapper:\n\u001b[32m    470\u001b[39m         lower.create_cpython_wrapper(flags.release_gil)\n",
      "\u001b[36mFile \u001b[39m\u001b[32mc:\\Users\\carme\\Documents\\GitHub\\MScThesis\\.venv\\Lib\\site-packages\\numba\\core\\lowering.py:193\u001b[39m, in \u001b[36mBaseLower.lower\u001b[39m\u001b[34m(self)\u001b[39m\n\u001b[32m    191\u001b[39m \u001b[38;5;28;01mif\u001b[39;00m \u001b[38;5;28mself\u001b[39m.generator_info \u001b[38;5;129;01mis\u001b[39;00m \u001b[38;5;28;01mNone\u001b[39;00m:\n\u001b[32m    192\u001b[39m     \u001b[38;5;28mself\u001b[39m.genlower = \u001b[38;5;28;01mNone\u001b[39;00m\n\u001b[32m--> \u001b[39m\u001b[32m193\u001b[39m     \u001b[38;5;28;43mself\u001b[39;49m\u001b[43m.\u001b[49m\u001b[43mlower_normal_function\u001b[49m\u001b[43m(\u001b[49m\u001b[38;5;28;43mself\u001b[39;49m\u001b[43m.\u001b[49m\u001b[43mfndesc\u001b[49m\u001b[43m)\u001b[49m\n\u001b[32m    194\u001b[39m \u001b[38;5;28;01melse\u001b[39;00m:\n\u001b[32m    195\u001b[39m     \u001b[38;5;28mself\u001b[39m.genlower = \u001b[38;5;28mself\u001b[39m.GeneratorLower(\u001b[38;5;28mself\u001b[39m)\n",
      "\u001b[36mFile \u001b[39m\u001b[32mc:\\Users\\carme\\Documents\\GitHub\\MScThesis\\.venv\\Lib\\site-packages\\numba\\core\\lowering.py:232\u001b[39m, in \u001b[36mBaseLower.lower_normal_function\u001b[39m\u001b[34m(self, fndesc)\u001b[39m\n\u001b[32m    230\u001b[39m \u001b[38;5;66;03m# Init argument values\u001b[39;00m\n\u001b[32m    231\u001b[39m \u001b[38;5;28mself\u001b[39m.extract_function_arguments()\n\u001b[32m--> \u001b[39m\u001b[32m232\u001b[39m entry_block_tail = \u001b[38;5;28;43mself\u001b[39;49m\u001b[43m.\u001b[49m\u001b[43mlower_function_body\u001b[49m\u001b[43m(\u001b[49m\u001b[43m)\u001b[49m\n\u001b[32m    234\u001b[39m \u001b[38;5;66;03m# Close tail of entry block, do not emit debug metadata else the\u001b[39;00m\n\u001b[32m    235\u001b[39m \u001b[38;5;66;03m# unconditional jump gets associated with the metadata from the function\u001b[39;00m\n\u001b[32m    236\u001b[39m \u001b[38;5;66;03m# body end.\u001b[39;00m\n\u001b[32m    237\u001b[39m \u001b[38;5;28;01mwith\u001b[39;00m debuginfo.suspend_emission(\u001b[38;5;28mself\u001b[39m.builder):\n",
      "\u001b[36mFile \u001b[39m\u001b[32mc:\\Users\\carme\\Documents\\GitHub\\MScThesis\\.venv\\Lib\\site-packages\\numba\\core\\lowering.py:262\u001b[39m, in \u001b[36mBaseLower.lower_function_body\u001b[39m\u001b[34m(self)\u001b[39m\n\u001b[32m    260\u001b[39m     \u001b[38;5;28mself\u001b[39m.builder.position_at_end(bb)\n\u001b[32m    261\u001b[39m     \u001b[38;5;28mself\u001b[39m.debug_print(\u001b[33mf\u001b[39m\u001b[33m\"\u001b[39m\u001b[33m# lower block: \u001b[39m\u001b[38;5;132;01m{\u001b[39;00moffset\u001b[38;5;132;01m}\u001b[39;00m\u001b[33m\"\u001b[39m)\n\u001b[32m--> \u001b[39m\u001b[32m262\u001b[39m     \u001b[38;5;28;43mself\u001b[39;49m\u001b[43m.\u001b[49m\u001b[43mlower_block\u001b[49m\u001b[43m(\u001b[49m\u001b[43mblock\u001b[49m\u001b[43m)\u001b[49m\n\u001b[32m    263\u001b[39m \u001b[38;5;28mself\u001b[39m.post_lower()\n\u001b[32m    264\u001b[39m \u001b[38;5;28;01mreturn\u001b[39;00m entry_block_tail\n",
      "\u001b[36mFile \u001b[39m\u001b[32mc:\\Users\\carme\\Documents\\GitHub\\MScThesis\\.venv\\Lib\\site-packages\\numba\\core\\lowering.py:276\u001b[39m, in \u001b[36mBaseLower.lower_block\u001b[39m\u001b[34m(self, block)\u001b[39m\n\u001b[32m    273\u001b[39m     defaulterrcls = partial(LoweringError, loc=\u001b[38;5;28mself\u001b[39m.loc)\n\u001b[32m    274\u001b[39m     \u001b[38;5;28;01mwith\u001b[39;00m new_error_context(\u001b[33m'\u001b[39m\u001b[33mlowering \u001b[39m\u001b[33m\"\u001b[39m\u001b[38;5;132;01m{inst}\u001b[39;00m\u001b[33m\"\u001b[39m\u001b[33m at \u001b[39m\u001b[38;5;132;01m{loc}\u001b[39;00m\u001b[33m'\u001b[39m, inst=inst,\n\u001b[32m    275\u001b[39m                            loc=\u001b[38;5;28mself\u001b[39m.loc, errcls_=defaulterrcls):\n\u001b[32m--> \u001b[39m\u001b[32m276\u001b[39m         \u001b[38;5;28;43mself\u001b[39;49m\u001b[43m.\u001b[49m\u001b[43mlower_inst\u001b[49m\u001b[43m(\u001b[49m\u001b[43minst\u001b[49m\u001b[43m)\u001b[49m\n\u001b[32m    277\u001b[39m \u001b[38;5;28mself\u001b[39m.post_block(block)\n",
      "\u001b[36mFile \u001b[39m\u001b[32mc:\\Users\\carme\\Documents\\GitHub\\MScThesis\\.venv\\Lib\\site-packages\\numba\\parfors\\parfor_lowering.py:52\u001b[39m, in \u001b[36mParforLower.lower_inst\u001b[39m\u001b[34m(self, inst)\u001b[39m\n\u001b[32m     50\u001b[39m \u001b[38;5;28;01mdef\u001b[39;00m\u001b[38;5;250m \u001b[39m\u001b[34mlower_inst\u001b[39m(\u001b[38;5;28mself\u001b[39m, inst):\n\u001b[32m     51\u001b[39m     \u001b[38;5;28;01mif\u001b[39;00m \u001b[38;5;28misinstance\u001b[39m(inst, parfor.Parfor):\n\u001b[32m---> \u001b[39m\u001b[32m52\u001b[39m         \u001b[43m_lower_parfor_parallel\u001b[49m\u001b[43m(\u001b[49m\u001b[38;5;28;43mself\u001b[39;49m\u001b[43m,\u001b[49m\u001b[43m \u001b[49m\u001b[43minst\u001b[49m\u001b[43m)\u001b[49m\n\u001b[32m     53\u001b[39m     \u001b[38;5;28;01melse\u001b[39;00m:\n\u001b[32m     54\u001b[39m         \u001b[38;5;28msuper\u001b[39m().lower_inst(inst)\n",
      "\u001b[36mFile \u001b[39m\u001b[32mc:\\Users\\carme\\Documents\\GitHub\\MScThesis\\.venv\\Lib\\site-packages\\numba\\parfors\\parfor_lowering.py:68\u001b[39m, in \u001b[36m_lower_parfor_parallel\u001b[39m\u001b[34m(lowerer, parfor)\u001b[39m\n\u001b[32m     66\u001b[39m \u001b[38;5;28;01mdef\u001b[39;00m\u001b[38;5;250m \u001b[39m\u001b[34m_lower_parfor_parallel\u001b[39m(lowerer, parfor):\n\u001b[32m     67\u001b[39m     \u001b[38;5;28;01mif\u001b[39;00m parfor.lowerer \u001b[38;5;129;01mis\u001b[39;00m \u001b[38;5;28;01mNone\u001b[39;00m:\n\u001b[32m---> \u001b[39m\u001b[32m68\u001b[39m         \u001b[38;5;28;01mreturn\u001b[39;00m \u001b[43m_lower_parfor_parallel_std\u001b[49m\u001b[43m(\u001b[49m\u001b[43mlowerer\u001b[49m\u001b[43m,\u001b[49m\u001b[43m \u001b[49m\u001b[43mparfor\u001b[49m\u001b[43m)\u001b[49m\n\u001b[32m     69\u001b[39m     \u001b[38;5;28;01melse\u001b[39;00m:\n\u001b[32m     70\u001b[39m         \u001b[38;5;28;01mreturn\u001b[39;00m parfor.lowerer(lowerer, parfor)\n",
      "\u001b[36mFile \u001b[39m\u001b[32mc:\\Users\\carme\\Documents\\GitHub\\MScThesis\\.venv\\Lib\\site-packages\\numba\\parfors\\parfor_lowering.py:382\u001b[39m, in \u001b[36m_lower_parfor_parallel_std\u001b[39m\u001b[34m(lowerer, parfor)\u001b[39m\n\u001b[32m    380\u001b[39m     \u001b[38;5;28mprint\u001b[39m(\u001b[33m\"\u001b[39m\u001b[33mloop_nests = \u001b[39m\u001b[33m\"\u001b[39m, parfor.loop_nests)\n\u001b[32m    381\u001b[39m     \u001b[38;5;28mprint\u001b[39m(\u001b[33m\"\u001b[39m\u001b[33mloop_ranges = \u001b[39m\u001b[33m\"\u001b[39m, loop_ranges)\n\u001b[32m--> \u001b[39m\u001b[32m382\u001b[39m \u001b[43mcall_parallel_gufunc\u001b[49m\u001b[43m(\u001b[49m\n\u001b[32m    383\u001b[39m \u001b[43m    \u001b[49m\u001b[43mlowerer\u001b[49m\u001b[43m,\u001b[49m\n\u001b[32m    384\u001b[39m \u001b[43m    \u001b[49m\u001b[43mfunc\u001b[49m\u001b[43m,\u001b[49m\n\u001b[32m    385\u001b[39m \u001b[43m    \u001b[49m\u001b[43mgu_signature\u001b[49m\u001b[43m,\u001b[49m\n\u001b[32m    386\u001b[39m \u001b[43m    \u001b[49m\u001b[43mfunc_sig\u001b[49m\u001b[43m,\u001b[49m\n\u001b[32m    387\u001b[39m \u001b[43m    \u001b[49m\u001b[43mfunc_args\u001b[49m\u001b[43m,\u001b[49m\n\u001b[32m    388\u001b[39m \u001b[43m    \u001b[49m\u001b[43mfunc_arg_types\u001b[49m\u001b[43m,\u001b[49m\n\u001b[32m    389\u001b[39m \u001b[43m    \u001b[49m\u001b[43mloop_ranges\u001b[49m\u001b[43m,\u001b[49m\n\u001b[32m    390\u001b[39m \u001b[43m    \u001b[49m\u001b[43mparfor_redvars\u001b[49m\u001b[43m,\u001b[49m\n\u001b[32m    391\u001b[39m \u001b[43m    \u001b[49m\u001b[43mparfor_reddict\u001b[49m\u001b[43m,\u001b[49m\n\u001b[32m    392\u001b[39m \u001b[43m    \u001b[49m\u001b[43mredarrs\u001b[49m\u001b[43m,\u001b[49m\n\u001b[32m    393\u001b[39m \u001b[43m    \u001b[49m\u001b[43mparfor\u001b[49m\u001b[43m.\u001b[49m\u001b[43minit_block\u001b[49m\u001b[43m,\u001b[49m\n\u001b[32m    394\u001b[39m \u001b[43m    \u001b[49m\u001b[43mindex_var_typ\u001b[49m\u001b[43m,\u001b[49m\n\u001b[32m    395\u001b[39m \u001b[43m    \u001b[49m\u001b[43mparfor\u001b[49m\u001b[43m.\u001b[49m\u001b[43mraces\u001b[49m\u001b[43m,\u001b[49m\n\u001b[32m    396\u001b[39m \u001b[43m    \u001b[49m\u001b[43mexp_name_to_tuple_var\u001b[49m\u001b[43m)\u001b[49m\n\u001b[32m    398\u001b[39m \u001b[38;5;28;01mif\u001b[39;00m nredvars > \u001b[32m0\u001b[39m:\n\u001b[32m    399\u001b[39m     _parfor_lowering_finalize_reduction(\n\u001b[32m    400\u001b[39m         parfor, redarrs, lowerer, parfor_reddict, num_threads_var,\n\u001b[32m    401\u001b[39m     )\n",
      "\u001b[36mFile \u001b[39m\u001b[32mc:\\Users\\carme\\Documents\\GitHub\\MScThesis\\.venv\\Lib\\site-packages\\numba\\parfors\\parfor_lowering.py:1695\u001b[39m, in \u001b[36mcall_parallel_gufunc\u001b[39m\u001b[34m(lowerer, cres, gu_signature, outer_sig, expr_args, expr_arg_types, loop_ranges, redvars, reddict, redarrdict, init_block, index_var_typ, races, exp_name_to_tuple_var)\u001b[39m\n\u001b[32m   1692\u001b[39m \u001b[38;5;66;03m# These are necessary for build_gufunc_wrapper to find external symbols\u001b[39;00m\n\u001b[32m   1693\u001b[39m _launch_threads()\n\u001b[32m-> \u001b[39m\u001b[32m1695\u001b[39m info = \u001b[43mbuild_gufunc_wrapper\u001b[49m\u001b[43m(\u001b[49m\u001b[43mllvm_func\u001b[49m\u001b[43m,\u001b[49m\u001b[43m \u001b[49m\u001b[43mcres\u001b[49m\u001b[43m,\u001b[49m\u001b[43m \u001b[49m\u001b[43msin\u001b[49m\u001b[43m,\u001b[49m\u001b[43m \u001b[49m\u001b[43msout\u001b[49m\u001b[43m,\u001b[49m\n\u001b[32m   1696\u001b[39m \u001b[43m                            \u001b[49m\u001b[43mcache\u001b[49m\u001b[43m=\u001b[49m\u001b[38;5;28;43;01mFalse\u001b[39;49;00m\u001b[43m,\u001b[49m\u001b[43m \u001b[49m\u001b[43mis_parfors\u001b[49m\u001b[43m=\u001b[49m\u001b[38;5;28;43;01mTrue\u001b[39;49;00m\u001b[43m)\u001b[49m\n\u001b[32m   1697\u001b[39m wrapper_name = info.name\n\u001b[32m   1698\u001b[39m cres.library._ensure_finalized()\n",
      "\u001b[36mFile \u001b[39m\u001b[32mc:\\Users\\carme\\Documents\\GitHub\\MScThesis\\.venv\\Lib\\site-packages\\numba\\np\\ufunc\\parallel.py:271\u001b[39m, in \u001b[36mbuild_gufunc_wrapper\u001b[39m\u001b[34m(py_func, cres, sin, sout, cache, is_parfors)\u001b[39m\n\u001b[32m    268\u001b[39m sym_out = \u001b[38;5;28mset\u001b[39m(sym \u001b[38;5;28;01mfor\u001b[39;00m term \u001b[38;5;129;01min\u001b[39;00m sout \u001b[38;5;28;01mfor\u001b[39;00m sym \u001b[38;5;129;01min\u001b[39;00m term)\n\u001b[32m    269\u001b[39m inner_ndim = \u001b[38;5;28mlen\u001b[39m(sym_in | sym_out)\n\u001b[32m--> \u001b[39m\u001b[32m271\u001b[39m info = \u001b[43mbuild_gufunc_kernel\u001b[49m\u001b[43m(\u001b[49m\n\u001b[32m    272\u001b[39m \u001b[43m    \u001b[49m\u001b[43mlibrary\u001b[49m\u001b[43m,\u001b[49m\u001b[43m \u001b[49m\u001b[43mctx\u001b[49m\u001b[43m,\u001b[49m\u001b[43m \u001b[49m\u001b[43minnerinfo\u001b[49m\u001b[43m,\u001b[49m\u001b[43m \u001b[49m\u001b[43msignature\u001b[49m\u001b[43m,\u001b[49m\u001b[43m \u001b[49m\u001b[43minner_ndim\u001b[49m\u001b[43m,\u001b[49m\n\u001b[32m    273\u001b[39m \u001b[43m\u001b[49m\u001b[43m)\u001b[49m\n\u001b[32m    274\u001b[39m \u001b[38;5;28;01mreturn\u001b[39;00m info\n",
      "\u001b[36mFile \u001b[39m\u001b[32mc:\\Users\\carme\\Documents\\GitHub\\MScThesis\\.venv\\Lib\\site-packages\\numba\\np\\ufunc\\parallel.py:152\u001b[39m, in \u001b[36mbuild_gufunc_kernel\u001b[39m\u001b[34m(library, ctx, info, sig, inner_ndim)\u001b[39m\n\u001b[32m    146\u001b[39m innerfunc_fnty = ir.FunctionType(\n\u001b[32m    147\u001b[39m     ir.VoidType(),\n\u001b[32m    148\u001b[39m     [byte_ptr_ptr_t, intp_ptr_t, intp_ptr_t, byte_ptr_t],\n\u001b[32m    149\u001b[39m )\n\u001b[32m    150\u001b[39m tmp_voidptr = cgutils.get_or_insert_function(mod, innerfunc_fnty,\n\u001b[32m    151\u001b[39m                                              info.name,)\n\u001b[32m--> \u001b[39m\u001b[32m152\u001b[39m \u001b[43mwrapperlib\u001b[49m\u001b[43m.\u001b[49m\u001b[43madd_linking_library\u001b[49m\u001b[43m(\u001b[49m\u001b[43minfo\u001b[49m\u001b[43m.\u001b[49m\u001b[43mlibrary\u001b[49m\u001b[43m)\u001b[49m\n\u001b[32m    154\u001b[39m get_num_threads = cgutils.get_or_insert_function(\n\u001b[32m    155\u001b[39m     builder.module,\n\u001b[32m    156\u001b[39m     ir.FunctionType(ir.IntType(types.intp.bitwidth), []),\n\u001b[32m    157\u001b[39m     \u001b[33m\"\u001b[39m\u001b[33mget_num_threads\u001b[39m\u001b[33m\"\u001b[39m)\n\u001b[32m    159\u001b[39m num_threads = builder.call(get_num_threads, [])\n",
      "\u001b[36mFile \u001b[39m\u001b[32mc:\\Users\\carme\\Documents\\GitHub\\MScThesis\\.venv\\Lib\\site-packages\\numba\\core\\codegen.py:728\u001b[39m, in \u001b[36mCPUCodeLibrary.add_linking_library\u001b[39m\u001b[34m(self, library)\u001b[39m\n\u001b[32m    727\u001b[39m \u001b[38;5;28;01mdef\u001b[39;00m\u001b[38;5;250m \u001b[39m\u001b[34madd_linking_library\u001b[39m(\u001b[38;5;28mself\u001b[39m, library):\n\u001b[32m--> \u001b[39m\u001b[32m728\u001b[39m     \u001b[43mlibrary\u001b[49m\u001b[43m.\u001b[49m\u001b[43m_ensure_finalized\u001b[49m\u001b[43m(\u001b[49m\u001b[43m)\u001b[49m\n\u001b[32m    729\u001b[39m     \u001b[38;5;28mself\u001b[39m._linking_libraries.append(library)\n",
      "\u001b[36mFile \u001b[39m\u001b[32mc:\\Users\\carme\\Documents\\GitHub\\MScThesis\\.venv\\Lib\\site-packages\\numba\\core\\codegen.py:567\u001b[39m, in \u001b[36mCodeLibrary._ensure_finalized\u001b[39m\u001b[34m(self)\u001b[39m\n\u001b[32m    565\u001b[39m \u001b[38;5;28;01mdef\u001b[39;00m\u001b[38;5;250m \u001b[39m\u001b[34m_ensure_finalized\u001b[39m(\u001b[38;5;28mself\u001b[39m):\n\u001b[32m    566\u001b[39m     \u001b[38;5;28;01mif\u001b[39;00m \u001b[38;5;129;01mnot\u001b[39;00m \u001b[38;5;28mself\u001b[39m._finalized:\n\u001b[32m--> \u001b[39m\u001b[32m567\u001b[39m         \u001b[38;5;28;43mself\u001b[39;49m\u001b[43m.\u001b[49m\u001b[43mfinalize\u001b[49m\u001b[43m(\u001b[49m\u001b[43m)\u001b[49m\n",
      "\u001b[36mFile \u001b[39m\u001b[32mc:\\Users\\carme\\Documents\\GitHub\\MScThesis\\.venv\\Lib\\site-packages\\numba\\core\\codegen.py:773\u001b[39m, in \u001b[36mCPUCodeLibrary.finalize\u001b[39m\u001b[34m(self)\u001b[39m\n\u001b[32m    770\u001b[39m \u001b[38;5;28mself\u001b[39m._optimize_final_module()\n\u001b[32m    772\u001b[39m \u001b[38;5;28mself\u001b[39m._final_module.verify()\n\u001b[32m--> \u001b[39m\u001b[32m773\u001b[39m \u001b[38;5;28;43mself\u001b[39;49m\u001b[43m.\u001b[49m\u001b[43m_finalize_final_module\u001b[49m\u001b[43m(\u001b[49m\u001b[43m)\u001b[49m\n",
      "\u001b[36mFile \u001b[39m\u001b[32mc:\\Users\\carme\\Documents\\GitHub\\MScThesis\\.venv\\Lib\\site-packages\\numba\\core\\codegen.py:805\u001b[39m, in \u001b[36mCPUCodeLibrary._finalize_final_module\u001b[39m\u001b[34m(self)\u001b[39m\n\u001b[32m    803\u001b[39m \u001b[38;5;28;01mif\u001b[39;00m cleanup:\n\u001b[32m    804\u001b[39m     weakref.finalize(\u001b[38;5;28mself\u001b[39m, cleanup)\n\u001b[32m--> \u001b[39m\u001b[32m805\u001b[39m \u001b[38;5;28;43mself\u001b[39;49m\u001b[43m.\u001b[49m\u001b[43m_finalize_specific\u001b[49m\u001b[43m(\u001b[49m\u001b[43m)\u001b[49m\n\u001b[32m    807\u001b[39m \u001b[38;5;28mself\u001b[39m._finalized = \u001b[38;5;28;01mTrue\u001b[39;00m\n\u001b[32m    809\u001b[39m \u001b[38;5;28;01mif\u001b[39;00m config.DUMP_OPTIMIZED:\n",
      "\u001b[36mFile \u001b[39m\u001b[32mc:\\Users\\carme\\Documents\\GitHub\\MScThesis\\.venv\\Lib\\site-packages\\numba\\core\\codegen.py:1007\u001b[39m, in \u001b[36mJITCodeLibrary._finalize_specific\u001b[39m\u001b[34m(self)\u001b[39m\n\u001b[32m   1005\u001b[39m \u001b[38;5;28mself\u001b[39m._codegen._scan_and_fix_unresolved_refs(\u001b[38;5;28mself\u001b[39m._final_module)\n\u001b[32m   1006\u001b[39m \u001b[38;5;28;01mwith\u001b[39;00m \u001b[38;5;28mself\u001b[39m._recorded_timings.record(\u001b[33m\"\u001b[39m\u001b[33mFinalize object\u001b[39m\u001b[33m\"\u001b[39m):\n\u001b[32m-> \u001b[39m\u001b[32m1007\u001b[39m     \u001b[38;5;28;43mself\u001b[39;49m\u001b[43m.\u001b[49m\u001b[43m_codegen\u001b[49m\u001b[43m.\u001b[49m\u001b[43m_engine\u001b[49m\u001b[43m.\u001b[49m\u001b[43mfinalize_object\u001b[49m\u001b[43m(\u001b[49m\u001b[43m)\u001b[49m\n",
      "\u001b[36mFile \u001b[39m\u001b[32mc:\\Users\\carme\\Documents\\GitHub\\MScThesis\\.venv\\Lib\\site-packages\\numba\\core\\codegen.py:1068\u001b[39m, in \u001b[36m_proxy.<locals>.wrapper\u001b[39m\u001b[34m(self, *args, **kwargs)\u001b[39m\n\u001b[32m   1066\u001b[39m \u001b[38;5;129m@functools\u001b[39m.wraps(old)\n\u001b[32m   1067\u001b[39m \u001b[38;5;28;01mdef\u001b[39;00m\u001b[38;5;250m \u001b[39m\u001b[34mwrapper\u001b[39m(\u001b[38;5;28mself\u001b[39m, *args, **kwargs):\n\u001b[32m-> \u001b[39m\u001b[32m1068\u001b[39m     \u001b[38;5;28;01mreturn\u001b[39;00m \u001b[43mold\u001b[49m\u001b[43m(\u001b[49m\u001b[38;5;28;43mself\u001b[39;49m\u001b[43m.\u001b[49m\u001b[43m_ee\u001b[49m\u001b[43m,\u001b[49m\u001b[43m \u001b[49m\u001b[43m*\u001b[49m\u001b[43margs\u001b[49m\u001b[43m,\u001b[49m\u001b[43m \u001b[49m\u001b[43m*\u001b[49m\u001b[43m*\u001b[49m\u001b[43mkwargs\u001b[49m\u001b[43m)\u001b[49m\n",
      "\u001b[36mFile \u001b[39m\u001b[32mc:\\Users\\carme\\Documents\\GitHub\\MScThesis\\.venv\\Lib\\site-packages\\llvmlite\\binding\\executionengine.py:99\u001b[39m, in \u001b[36mExecutionEngine.finalize_object\u001b[39m\u001b[34m(self)\u001b[39m\n\u001b[32m     94\u001b[39m \u001b[38;5;28;01mdef\u001b[39;00m\u001b[38;5;250m \u001b[39m\u001b[34mfinalize_object\u001b[39m(\u001b[38;5;28mself\u001b[39m):\n\u001b[32m     95\u001b[39m \u001b[38;5;250m    \u001b[39m\u001b[33;03m\"\"\"\u001b[39;00m\n\u001b[32m     96\u001b[39m \u001b[33;03m    Make sure all modules owned by the execution engine are fully processed\u001b[39;00m\n\u001b[32m     97\u001b[39m \u001b[33;03m    and \"usable\" for execution.\u001b[39;00m\n\u001b[32m     98\u001b[39m \u001b[33;03m    \"\"\"\u001b[39;00m\n\u001b[32m---> \u001b[39m\u001b[32m99\u001b[39m     \u001b[43mffi\u001b[49m\u001b[43m.\u001b[49m\u001b[43mlib\u001b[49m\u001b[43m.\u001b[49m\u001b[43mLLVMPY_FinalizeObject\u001b[49m\u001b[43m(\u001b[49m\u001b[38;5;28;43mself\u001b[39;49m\u001b[43m)\u001b[49m\n",
      "\u001b[36mFile \u001b[39m\u001b[32mc:\\Users\\carme\\Documents\\GitHub\\MScThesis\\.venv\\Lib\\site-packages\\llvmlite\\binding\\ffi.py:197\u001b[39m, in \u001b[36m_lib_fn_wrapper.__call__\u001b[39m\u001b[34m(self, *args, **kwargs)\u001b[39m\n\u001b[32m    195\u001b[39m \u001b[38;5;28;01mdef\u001b[39;00m\u001b[38;5;250m \u001b[39m\u001b[34m__call__\u001b[39m(\u001b[38;5;28mself\u001b[39m, *args, **kwargs):\n\u001b[32m    196\u001b[39m     \u001b[38;5;28;01mwith\u001b[39;00m \u001b[38;5;28mself\u001b[39m._lock:\n\u001b[32m--> \u001b[39m\u001b[32m197\u001b[39m         \u001b[38;5;28;01mreturn\u001b[39;00m \u001b[38;5;28;43mself\u001b[39;49m\u001b[43m.\u001b[49m\u001b[43m_cfn\u001b[49m\u001b[43m(\u001b[49m\u001b[43m*\u001b[49m\u001b[43margs\u001b[49m\u001b[43m,\u001b[49m\u001b[43m \u001b[49m\u001b[43m*\u001b[49m\u001b[43m*\u001b[49m\u001b[43mkwargs\u001b[49m\u001b[43m)\u001b[49m\n",
      "\u001b[31mOSError\u001b[39m: exception: access violation reading 0x00000001BDA838E1"
     ]
    }
   ],
   "source": [
    "### Evaluate the model on pathological steps\n",
    "selected_steps = [\n",
    "    s for s in segmented_hindsteps \n",
    "    if SIDE_KEY[0] in s[\"mouse\"] \n",
    "]\n",
    "\n",
    "step_tensor_all, lengths_all = steps_to_tensor(selected_steps, scaler)\n",
    "\n",
    "## Get all embeddings for selected steps\n",
    "model.eval()\n",
    "with torch.no_grad():\n",
    "    _, mu_t, _ = model(step_tensor_all, lengths_all)  # (B, T, D)\n",
    "\n",
    "# Convert each step’s latent sequence to list of (T_i, D)\n",
    "mu_t_masked = [\n",
    "    mu_t[i, :lengths_all[i]].cpu().numpy()  # shape: (T_i, D)\n",
    "    for i in range(mu_t.shape[0])\n",
    "]\n",
    "\n",
    "# Stack all latent vectors across all steps\n",
    "all_latents = np.concatenate(mu_t_masked, axis=0)  # shape: (total_timepoints, D)\n",
    "\n",
    "# Fit UMAP\n",
    "umap_coords = UMAP(n_components=3, random_state=42).fit_transform(all_latents)\n",
    "\n",
    "# Now split the coordinates back by original steps\n",
    "umap_split = []\n",
    "idx = 0\n",
    "for i in range(len(mu_t_masked)):\n",
    "    length = mu_t_masked[i].shape[0]\n",
    "    umap_split.append(umap_coords[idx:idx + length])  # shape: (T_i, 3)\n",
    "    idx += length"
   ]
  },
  {
   "cell_type": "code",
   "execution_count": null,
   "id": "fb707f8c",
   "metadata": {},
   "outputs": [],
   "source": [
    "datasets = sorted(set(s[\"group\"] for s in selected_steps))\n",
    "color_map = {ds: color for ds, color in zip(datasets, plotly.colors.qualitative.Plotly)}\n",
    "# if pre is in group, use the first color, otherwise use the second color\n",
    "for i, ds in enumerate(datasets):\n",
    "    if \"pre\" in ds:\n",
    "        color_map[ds] = plotly.colors.qualitative.Plotly[0]\n",
    "    else:\n",
    "        color_map[ds] = plotly.colors.qualitative.Plotly[1]\n",
    "\n",
    "fig = go.Figure()\n",
    "legend_shown = defaultdict(bool)\n",
    "\n",
    "for i, umap_seq in enumerate(umap_split):\n",
    "    step_meta = selected_steps[i]\n",
    "    dataset = step_meta[\"group\"]\n",
    "    mouse = step_meta[\"mouse\"]\n",
    "    run = step_meta[\"run\"]\n",
    "    color = color_map.get(dataset, \"gray\")\n",
    "    show_legend = not legend_shown[dataset]\n",
    "    legend_shown[dataset] = True\n",
    "\n",
    "    fig.add_trace(go.Scatter3d(\n",
    "        x=umap_seq[:, 0],\n",
    "        y=umap_seq[:, 1],\n",
    "        z=umap_seq[:, 2],\n",
    "        mode='lines+markers',\n",
    "        name=dataset if show_legend else None,\n",
    "        legendgroup=dataset,\n",
    "        showlegend=show_legend,\n",
    "        line=dict(width=2, color=color),\n",
    "        marker=dict(size=2, color=color),\n",
    "        hoverinfo='text',\n",
    "        text=[f\"{dataset} | {mouse} | run={run} | t={t}\" for t in range(len(umap_seq))]\n",
    "    ))\n",
    "\n",
    "fig.update_layout(\n",
    "    title=\"Latent Trajectories Over Time by Dataset\",\n",
    "    scene=dict(\n",
    "        xaxis_title='UMAP1',\n",
    "        yaxis_title='UMAP2',\n",
    "        zaxis_title='UMAP3'\n",
    "    ),\n",
    "    legend=dict(title=\"Dataset\"),\n",
    "    width=900,\n",
    "    height=700,\n",
    "    template='plotly_white'\n",
    ")\n",
    "\n",
    "fig.show()"
   ]
  },
  {
   "cell_type": "code",
   "execution_count": null,
   "id": "df418629",
   "metadata": {},
   "outputs": [],
   "source": [
    "def plot_timewise_umap_trajectories(segmented_hindsteps, scaler):\n",
    "    \"\"\"\n",
    "    Plot UMAP projection of all timepoints in each step.\n",
    "    Each step becomes a trajectory (line) in 3D UMAP space.\n",
    "    Mice from the same dataset (e.g., 'pre', 'post') share color and legend.\n",
    "    \"\"\"\n",
    "    from collections import defaultdict\n",
    "\n",
    "    filtered_steps = [s for s in segmented_hindsteps if \"left\" in s[\"mouse\"]]\n",
    "\n",
    "    step_id = 0\n",
    "    timepoints = []\n",
    "    metadata = []\n",
    "\n",
    "    for s in filtered_steps:\n",
    "        arr = scaler.transform(s[\"step\"].values)  # (T, D)\n",
    "        for t in range(arr.shape[0]):\n",
    "            timepoints.append(arr[t])\n",
    "            metadata.append({\n",
    "                \"step_id\": step_id,\n",
    "                \"t\": t,\n",
    "                \"mouse\": s[\"mouse\"],\n",
    "                \"group\": s[\"group\"],\n",
    "                \"run\": s[\"run\"]\n",
    "            })\n",
    "        step_id += 1\n",
    "\n",
    "    X = np.stack(timepoints)\n",
    "    umap_coords = UMAP(n_components=3, random_state=42).fit_transform(X)\n",
    "\n",
    "    umap_df = pd.DataFrame(umap_coords, columns=[\"UMAP1\", \"UMAP2\", \"UMAP3\"])\n",
    "    umap_df = pd.concat([umap_df, pd.DataFrame(metadata)], axis=1)\n",
    "\n",
    "    datasets = sorted(umap_df[\"group\"].unique())\n",
    "    color_map = {ds: color for ds, color in zip(datasets, plotly.colors.qualitative.Plotly)}\n",
    "\n",
    "    fig = go.Figure()\n",
    "    legend_shown = defaultdict(bool)\n",
    "\n",
    "    for step_id, group in umap_df.groupby(\"step_id\"):\n",
    "        dataset = group[\"group\"].iloc[0]\n",
    "        color = color_map[dataset]\n",
    "        show_legend = not legend_shown[dataset]\n",
    "        legend_shown[dataset] = True\n",
    "\n",
    "        fig.add_trace(go.Scatter3d(\n",
    "            x=group[\"UMAP1\"],\n",
    "            y=group[\"UMAP2\"],\n",
    "            z=group[\"UMAP3\"],\n",
    "            mode=\"lines+markers\",\n",
    "            line=dict(color=color, width=2),\n",
    "            marker=dict(size=3, color=color),\n",
    "            name=dataset,\n",
    "            legendgroup=dataset,\n",
    "            showlegend=show_legend,\n",
    "            text=[f\"{group['mouse'].iloc[0]} | run={r} | t={t}\" for r, t in zip(group[\"run\"], group[\"t\"])]\n",
    "        ))\n",
    "\n",
    "    fig.update_layout(\n",
    "        title=\"Time-Resolved UMAP of Step Dynamics by Dataset\",\n",
    "        scene=dict(\n",
    "            xaxis_title=\"UMAP1\",\n",
    "            yaxis_title=\"UMAP2\",\n",
    "            zaxis_title=\"UMAP3\"\n",
    "        ),\n",
    "        legend=dict(title=\"Dataset\", font=dict(size=12)),\n",
    "        width=900,\n",
    "        height=700,\n",
    "        template=\"plotly_white\"\n",
    "    )\n",
    "\n",
    "    fig.show()\n",
    "\n",
    "# Usage:\n",
    "plot_timewise_umap_trajectories(segmented_hindsteps, scaler)"
   ]
  }
 ],
 "metadata": {
  "kernelspec": {
   "display_name": ".venv",
   "language": "python",
   "name": "python3"
  },
  "language_info": {
   "codemirror_mode": {
    "name": "ipython",
    "version": 3
   },
   "file_extension": ".py",
   "mimetype": "text/x-python",
   "name": "python",
   "nbconvert_exporter": "python",
   "pygments_lexer": "ipython3",
   "version": "3.12.3"
  }
 },
 "nbformat": 4,
 "nbformat_minor": 5
}
