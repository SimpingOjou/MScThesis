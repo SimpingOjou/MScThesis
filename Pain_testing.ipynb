{
 "cells": [
  {
   "cell_type": "code",
   "execution_count": 133,
   "id": "8731059d",
   "metadata": {},
   "outputs": [],
   "source": [
    "import os\n",
    "import pandas as pd\n",
    "import numpy as np\n",
    "import plotly.express as px\n",
    "from plotly import graph_objects as go\n",
    "from plotly.subplots import make_subplots\n",
    "from itertools import combinations\n",
    "from scipy.stats import ttest_ind_from_stats, ttest_ind, shapiro, mannwhitneyu\n",
    "\n",
    "## get positive and negative features\n",
    "## -Number of features that describe the lesion (healthy vs group C)\n",
    "# -How many of these are not affected, affected positively, and negatively by the treatment (group C vs group E) size effects?\n",
    "# -How many features that treatment affects that are not pathologically related (Healthy vs  group E)\n",
    "# -how many features representing the lesion are also shared in the other control group (C vs  B)   \n",
    "# use CBE dataset as healthy\n",
    "\n",
    "# the groups under evaluation will be B, C and E\n",
    "\n",
    "# the control healthy group will be pre B,C and E\n",
    "\n",
    "# now we need to compare this healthy group against C post (sick)\n",
    "\n",
    "# The resulting features will be compared with the treated group (postE) so we can have the number and the magnitude of the effects of the treatment in the lesion specific features (possible no effect, positive effect and negative effect)\n",
    "\n",
    "# then we compare healthy group vs the treated (postE) and we look at the features that are affected by the treatment but not part of the pathology (out of the resulting features of the previous step). we need to exclude from this the features that characterized the lesion state (healthy vs group C)\n",
    "\n",
    "# csv of the ranking"
   ]
  },
  {
   "cell_type": "code",
   "execution_count": 134,
   "id": "4d16104b",
   "metadata": {},
   "outputs": [],
   "source": [
    "## Directories and constants\n",
    "FIGURES_DIR = './figures/Pain'\n",
    "MODELS_DIR = './src/models'\n",
    "DATA_DIR = '/home/filthyweeb/Documents/SeriousStuff/Work/MScThesis/csv/Pain_Plot_Features'\n",
    "MEAN_FEATURES_FILE = './csv/Pain_hindlimb_mouse_features_2025-06-22_21-53-52.csv' # updated means and circular means\n",
    "FORELIMB_MEANS_FILE = './csv/Pain_forelimb_mouse_features_2025-06-22_21-53-53.csv' # updated means and circular means\n",
    "# MEAN_FEATURES_FILE = './csv/SCI_pre_acute_hindlimb_mouse_features_2025-06-06_15-11-59.csv'\n",
    "# MEAN_FEATURES_FILE = './csv/sideview_hindlimb_mouse_features_new_H.csv'\n",
    "HEALTHY_KEY = 'pre'\n",
    "SICK_KEY = 'post'\n",
    "CONTROL_KEY = 'C_'\n",
    "SECONDARY_CONTROL_KEY = 'A_'\n",
    "VIRUS_CONTROL_KEY = 'B_'\n",
    "TREATMENT_CONTROL_KEY = 'E_'\n",
    "SECONDARY_TREATMENT_KEY = 'D_'\n",
    "SIDE_KEY = ('left','right')"
   ]
  },
  {
   "cell_type": "code",
   "execution_count": 175,
   "id": "69111652",
   "metadata": {},
   "outputs": [],
   "source": [
    "## Treatments: E-D\n",
    "## Controls: B-C\n",
    "\n",
    "## C-B to check if virus is doing something or is it the lesion\n",
    "## A should be similar to C\n",
    "\n",
    "### Functions for statistical testing\n",
    "def is_circular_feature(feature_name):\n",
    "    fname = feature_name.lower()\n",
    "    return (('angle' in fname or 'phase' in fname) and 'excursion' not in fname)\n",
    "\n",
    "def circular_surrogate_test(values1_deg, values2_deg):\n",
    "    \"\"\"Approximate test for circular features using cosine and sine projections.\"\"\"\n",
    "    values1 = np.deg2rad(values1_deg)\n",
    "    values2 = np.deg2rad(values2_deg)\n",
    "\n",
    "    cos1, sin1 = np.cos(values1), np.sin(values1)\n",
    "    cos2, sin2 = np.cos(values2), np.sin(values2)\n",
    "\n",
    "    # Apply Welch's t-test to both projections\n",
    "    _, p_cos = ttest_ind(cos1, cos2, equal_var=False)\n",
    "    _, p_sin = ttest_ind(sin1, sin2, equal_var=False)\n",
    "\n",
    "    return min(p_cos, p_sin)\n",
    "\n",
    "def check_normality(values1, values2, alpha=0.05):\n",
    "    \"\"\"\n",
    "    Returns True if both groups pass the Shapiro-Wilk normality test.\n",
    "    \"\"\"\n",
    "    def is_valid_sample(values):\n",
    "        return len(values) >= 3 and np.std(values) > 0\n",
    "\n",
    "    if not is_valid_sample(values1) or not is_valid_sample(values2):\n",
    "        return False\n",
    "\n",
    "    p1 = shapiro(values1).pvalue\n",
    "    p2 = shapiro(values2).pvalue\n",
    "    return (p1 > alpha) and (p2 > alpha)\n",
    "\n",
    "def nonparametric_test(values1, values2):\n",
    "    \"\"\"\n",
    "    Mann-Whitney U test for two independent samples.\n",
    "    Returns the p-value.\n",
    "    \"\"\"\n",
    "    try:\n",
    "        _, p = mannwhitneyu(values1, values2, alternative='two-sided')\n",
    "        return p\n",
    "    except Exception as e:\n",
    "        print(f\"   Mann-Whitney test failed: {e}\")\n",
    "        return np.nan\n",
    "\n",
    "def compare_feature_distributions(df1, df2, label1='Group1', label2='Group2', alpha=0.05):\n",
    "    \"\"\"\n",
    "    Compare all shared features between two datasets using Welch's t-test.\n",
    "\n",
    "    Parameters:\n",
    "        df1, df2: pandas.DataFrame\n",
    "            DataFrames to compare. Must have 'Dataset', 'Mouse', and feature columns.\n",
    "        label1, label2: str\n",
    "            Labels for the groups being compared (used for output).\n",
    "        alpha: float\n",
    "            Significance level for Bonferroni correction.\n",
    "\n",
    "    Returns:\n",
    "        dict with summary and significant feature list\n",
    "    \"\"\"\n",
    "    # Identify common features (exclude non-feature columns)\n",
    "    non_feature_cols = {'Dataset', 'Mouse', 'Number of runs (#)', 'Number of steps (#)', 'Number of steps std'}\n",
    "    shared_features = set(df1.columns) & set(df2.columns) - non_feature_cols\n",
    "    shared_features = sorted(shared_features)  # for consistent ordering\n",
    "    \n",
    "    # Bonferroni correction\n",
    "    corrected_alpha = alpha #/ len(shared_features)\n",
    "\n",
    "    significant_features = []\n",
    "    means = []\n",
    "    for feature in shared_features:\n",
    "        values1 = df1[feature].dropna().values\n",
    "        values2 = df2[feature].dropna().values\n",
    "        \n",
    "        if len(values1) < 3 or len(values2) < 3:\n",
    "            continue  # skip features with no data\n",
    "\n",
    "        normal_ok = check_normality(values1, values2)\n",
    "\n",
    "        mean1, std1, n1 = np.mean(values1), np.std(values1, ddof=1), len(values1)\n",
    "        mean2, std2, n2 = np.mean(values2), np.std(values2, ddof=1), len(values2)\n",
    "\n",
    "        ## Do circular statistics\n",
    "        if is_circular_feature(feature):\n",
    "            try:\n",
    "                p_value = circular_surrogate_test(values1, values2)\n",
    "            except Exception as e:\n",
    "                print(f\" - {feature}: circular test failed ({e})\")\n",
    "                continue\n",
    "            label_suffix = \" (circular approx)\"\n",
    "        else:\n",
    "            if normal_ok:\n",
    "                _, p_value = ttest_ind_from_stats(mean1=mean1, std1=std1, nobs1=n1,\n",
    "                                            mean2=mean2, std2=std2, nobs2=n2,\n",
    "                                            equal_var=False)\n",
    "                label_suffix = \"\"\n",
    "            else:\n",
    "                p_value = nonparametric_test(values1, values2)\n",
    "                label_suffix = \" (nonparametric)\"\n",
    "        if p_value < corrected_alpha:\n",
    "            if p_value < 0.001:\n",
    "                star = '***'\n",
    "            elif p_value < 0.01:\n",
    "                star = '**'\n",
    "            elif p_value < 0.05:\n",
    "                star = '*'\n",
    "            else:\n",
    "                star = ''\n",
    "            if is_circular_feature(feature):\n",
    "                values1_rad = np.deg2rad(values1)\n",
    "                values2_rad = np.deg2rad(values2)\n",
    "                mean1_val = np.rad2deg(np.angle(np.mean(np.exp(1j * values1_rad))))\n",
    "                mean2_val = np.rad2deg(np.angle(np.mean(np.exp(1j * values2_rad))))\n",
    "                std1_val = np.rad2deg(np.sqrt(-2 * np.log(np.abs(np.mean(np.exp(1j * values1_rad))))))\n",
    "                std2_val = np.rad2deg(np.sqrt(-2 * np.log(np.abs(np.mean(np.exp(1j * values2_rad))))))\n",
    "                summary = f\"{mean1_val:.1f}±{std1_val:.1f} vs {mean2_val:.1f}±{std2_val:.1f}°\"\n",
    "                mean1, mean2 = mean1_val, mean2_val\n",
    "                std1, std2 = std1_val, std2_val\n",
    "            elif normal_ok:\n",
    "                summary = f\"{mean1:.2f}±{std1:.2f} vs {mean2:.2f}±{std2:.2f}\"\n",
    "                mean1, mean2 = mean1, mean2\n",
    "                std1, std2 = std1, std2\n",
    "            else:\n",
    "                med1, med2 = np.median(values1), np.median(values2)\n",
    "                summary = f\"{med1:.2f} (median) vs {med2:.2f} (median)\"\n",
    "                mean1, mean2 = med1, med2\n",
    "                std1, std2 = np.std(values1, ddof=1), np.std(values2, ddof=1)\n",
    "            significant_features.append((feature, star, label_suffix, summary))\n",
    "            means.append((mean1, std1, mean2, std2))\n",
    "            # print(f\" - {feature}: p = {p_value:.4g} {star}\")\n",
    "\n",
    "    # Output summary\n",
    "    # print(f\"Comparison: {label1} vs {label2}\")\n",
    "    # print(f\"{label1} sample size: {df1.shape[0]} mice\")\n",
    "    # print(f\"{label2} sample size: {df2.shape[0]} mice\")\n",
    "    # print(f\"Number of significantly different features: {len(significant_features)}\")\n",
    "    # print(f\"Significant features: {sorted(significant_features)}\")\n",
    "    # print()\n",
    "\n",
    "    return {\n",
    "        'group1_label': label1,\n",
    "        'group2_label': label2,\n",
    "        'group1_n': df1.shape[0],\n",
    "        'group2_n': df2.shape[0],\n",
    "        'significant_features': significant_features,\n",
    "        'n_significant': len(significant_features),\n",
    "        'corrected_alpha': corrected_alpha,\n",
    "        'means': means,\n",
    "    }\n",
    "\n",
    "def plot_significant_features(features_df, title, group1_df, group2_df, names, filename=None):\n",
    "    means = features_df['means']\n",
    "    features = features_df['significant_features']\n",
    "    if not features:\n",
    "        print(\"No significant features to plot.\")\n",
    "        return\n",
    "    \n",
    "    # Create subplot for each significant feature\n",
    "    fig = make_subplots(rows=1, cols=len(features), \n",
    "                        subplot_titles=[f[0] for f in features])\n",
    "    \n",
    "    for i, (feature, star, label_suffix, summary) in enumerate(features):\n",
    "        # Get data for this feature from both groups\n",
    "        values1 = group1_df[feature].dropna()\n",
    "        values2 = group2_df[feature].dropna()\n",
    "        \n",
    "        mean_1 = means[i][0]\n",
    "        std_1 = means[i][1]\n",
    "        mean_2 = means[i][2]\n",
    "        std_2 = means[i][3]\n",
    "\n",
    "        # Create grouped bar chart\n",
    "        fig.add_trace(\n",
    "            go.Bar(\n",
    "                x=names,\n",
    "                y=[mean_1, mean_2],\n",
    "                error_y=dict(\n",
    "                    type='data',\n",
    "                    array=[std_1, std_2],\n",
    "                    visible=True\n",
    "                ),\n",
    "                name=feature,\n",
    "                text=[f\"{mean_1:.2f}±{std_1:.2f}\", \n",
    "                      f\"{mean_2:.2f}±{std_2:.2f}\"],\n",
    "                textposition='auto',\n",
    "                hoverinfo='text',\n",
    "                hovertext=summary + f\" {star}\"\n",
    "            ),\n",
    "            row=1, col=i+1\n",
    "        )\n",
    "    \n",
    "        # Add point distribution (scatter) with jitter\n",
    "        jitter_strength = 0.1\n",
    "        x1 = [0 - jitter_strength + np.random.rand() * 2 * jitter_strength for _ in values1]\n",
    "        x2 = [1 - jitter_strength + np.random.rand() * 2 * jitter_strength for _ in values2]\n",
    "\n",
    "        fig.add_trace(\n",
    "            go.Scatter(\n",
    "                x=[names[0]] * len(values1),\n",
    "                y=values1,\n",
    "                mode='markers',\n",
    "                marker=dict(size=6, opacity=0.5, color='black'),\n",
    "                name='Group 1',\n",
    "                showlegend=False\n",
    "            ),\n",
    "            row=1, col=i+1\n",
    "        )\n",
    "\n",
    "        fig.add_trace(\n",
    "            go.Scatter(\n",
    "                x=[names[1]] * len(values2),\n",
    "                y=values2,\n",
    "                mode='markers',\n",
    "                marker=dict(size=6, opacity=0.5, color='black'),\n",
    "                name='Group 2',\n",
    "                showlegend=False\n",
    "            ),\n",
    "            row=1, col=i+1\n",
    "        )\n",
    "\n",
    "    fig.update_layout(\n",
    "        title=title,\n",
    "        showlegend=False,\n",
    "        height=400,\n",
    "        width=500 * len(features)\n",
    "    )\n",
    "    \n",
    "    if filename:\n",
    "        fig.write_image(os.path.join(FIGURES_DIR, filename))\n",
    "    fig.show()\n",
    "\n",
    "def plot_feature_across_groups(feature_subsets,feature_key, limb='hindlimb', max_cols=4, groups = ['A_', 'B_', 'C_', 'D_', 'E_'], state = ['healthy', 'sick'], sides = ['left', 'right']):\n",
    "    \"\"\"\n",
    "    Plot a feature (or group of features) across all group subsets for a given limb.\n",
    "    \"\"\"\n",
    "    data_subsets = feature_subsets[limb]\n",
    "    matched_features = [col for col in next(iter(data_subsets.values())).columns if feature_key in col.lower() and 'std' not in col.lower()]\n",
    "\n",
    "    if not matched_features:\n",
    "        print(f\"No features matching '{feature_key}' found in {limb} data.\")\n",
    "        return\n",
    "\n",
    "    num_features = len(matched_features)\n",
    "    rows = (num_features + max_cols - 1) // max_cols\n",
    "    cols = min(num_features, max_cols)\n",
    "\n",
    "    # palette\n",
    "    palette = px.colors.qualitative.Plotly  \n",
    "    num_features = len(matched_features)\n",
    "    rows = (num_features + max_cols - 1) // max_cols\n",
    "    cols = min(num_features, max_cols)\n",
    "\n",
    "    subplot_titles = [\n",
    "        col.replace('Mean', '').replace('- rhindlimb - ', '').strip()\n",
    "        for col in matched_features\n",
    "    ]\n",
    "\n",
    "    fig = make_subplots(rows=rows, cols=cols, subplot_titles=subplot_titles)\n",
    "\n",
    "    for idx, feature in enumerate(matched_features):\n",
    "        row = idx // max_cols + 1\n",
    "        col = idx % max_cols + 1\n",
    "\n",
    "        group_means = []\n",
    "        group_stds = []\n",
    "        group_names = []\n",
    "        group_points = []\n",
    "\n",
    "        for name, df in data_subsets.items():\n",
    "            if feature not in df.columns: continue # skip if feature not in df\n",
    "            if not any(side in name.lower() for side in sides): continue  # skip if side not in name\n",
    "\n",
    "            values = df[feature].dropna()\n",
    "            if len(values) == 0:\n",
    "                continue\n",
    "\n",
    "            if any(g in name for g in groups) and any(s in name for s in state):\n",
    "                group_means.append(values.mean())\n",
    "                group_stds.append(values.std())\n",
    "                group_names.append(name)\n",
    "                group_points.append(values)\n",
    "\n",
    "        if not group_names:\n",
    "            continue\n",
    "\n",
    "        # build a color list the same length as group_names\n",
    "        bar_colors = [palette[i % len(palette)] for i in range(len(group_names))]\n",
    "        \n",
    "        # Bar trace with error bars\n",
    "        fig.add_trace(\n",
    "            go.Bar(\n",
    "                x=group_names,\n",
    "                y=group_means,\n",
    "                error_y=dict(type='data', array=group_stds, visible=True),\n",
    "                name=feature,\n",
    "                # text=[f\"{m:.2f}±{s:.2f}\" for m, s in zip(group_means, group_stds)],\n",
    "                textposition='auto',\n",
    "                marker=dict(\n",
    "                    color=bar_colors,            # fill colors per bar\n",
    "                    line=dict(\n",
    "                        color='black',            # uniform border color\n",
    "                        width=1                   # border width in pixels\n",
    "                    )\n",
    "                )\n",
    "            ),\n",
    "            row=row, col=col\n",
    "        )\n",
    "\n",
    "        # Scatter plot for individual points\n",
    "        for i, (group, values) in enumerate(zip(group_names, group_points)):\n",
    "            x_vals = [group] * len(values)\n",
    "            fig.add_trace(\n",
    "                go.Scatter(\n",
    "                    x=x_vals,\n",
    "                    y=values,\n",
    "                    mode='markers',\n",
    "                    marker=dict(size=6, opacity=0.5, color='black'),\n",
    "                    showlegend=False\n",
    "                ),\n",
    "                row=row, col=col\n",
    "            )\n",
    "\n",
    "    fig.update_layout(\n",
    "        title=f\"Feature(s) Matching '{feature_key}' in {limb}\",\n",
    "        showlegend=False,\n",
    "        height=500 * rows,\n",
    "        width=300 * cols,\n",
    "        # remove background color\n",
    "        plot_bgcolor='rgba(0,0,0,0)',\n",
    "    )\n",
    "\n",
    "    return fig"
   ]
  },
  {
   "cell_type": "code",
   "execution_count": 136,
   "id": "846ed1a2",
   "metadata": {},
   "outputs": [
    {
     "name": "stdout",
     "output_type": "stream",
     "text": [
      "Number of hindlimb features: 382\n",
      "Number of forelimb features: 382\n"
     ]
    }
   ],
   "source": [
    "# Example inputs: update as needed\n",
    "experimental_groups = ['A', 'B', 'C', 'D', 'E']\n",
    "sides = {'left': SIDE_KEY[0].lower(), 'right': SIDE_KEY[1].lower()}\n",
    "health_statuses = {'healthy': HEALTHY_KEY.lower(), 'sick': SICK_KEY.lower()}\n",
    "run_types = {\n",
    "    'A': SECONDARY_CONTROL_KEY.lower(),\n",
    "    'B': VIRUS_CONTROL_KEY.lower(),\n",
    "    'C': CONTROL_KEY.lower(),\n",
    "    'D': SECONDARY_TREATMENT_KEY.lower(),\n",
    "    'E': TREATMENT_CONTROL_KEY.lower()\n",
    "}\n",
    "\n",
    "# Load data\n",
    "hindlimb_features_df = pd.read_csv(MEAN_FEATURES_FILE)\n",
    "forelimb_features_df = pd.read_csv(FORELIMB_MEANS_FILE) \n",
    "\n",
    "# filter std columns\n",
    "hindlimb_features_df = hindlimb_features_df.loc[:, ~hindlimb_features_df.columns.str.contains('std')]\n",
    "forelimb_features_df = forelimb_features_df.loc[:, ~forelimb_features_df.columns.str.contains('std')]\n",
    "\n",
    "# filter columns without 'step' or 'hindlimb'\n",
    "cols = hindlimb_features_df.columns\n",
    "hindlimb_mask = cols.str.lower().str.contains('hindlimb', case=False)\n",
    "step_mask = cols.str.lower().str.contains('step', case=False) & ~cols.str.contains('/s', case=False)\n",
    "limb_mask = cols.str.lower().str.contains('hindpaw|hindfinger|knee|ankle|hip', case=False)\n",
    "meta_mask = cols.str.lower().str.contains('dataset|mouse', case=False)\n",
    "final_mask = hindlimb_mask | step_mask | meta_mask | limb_mask\n",
    "\n",
    "hindlimb_features_df = hindlimb_features_df.loc[:, final_mask]\n",
    "forelimb_features_df = forelimb_features_df.loc[:, final_mask]\n",
    "\n",
    "# Container for all feature subsets\n",
    "feature_subsets = {\n",
    "    'hindlimb': {},\n",
    "    'forelimb': {}\n",
    "}\n",
    "\n",
    "# General function for filtering\n",
    "def filter_features(df, health_key, run_key, side_key):\n",
    "    return df[\n",
    "        df['Dataset'].str.lower().str.contains(health_key) &\n",
    "        df['Dataset'].str.lower().str.contains(run_key) &\n",
    "        df['Mouse'].str.lower().str.contains(side_key)\n",
    "    ]\n",
    "\n",
    "# Generate subsets\n",
    "for run_code in experimental_groups:\n",
    "    run_key = run_types.get(run_code)\n",
    "    if not run_key:\n",
    "        continue  # skip undefined keys\n",
    "\n",
    "    for health_label, health_key in health_statuses.items():\n",
    "        for side_label, side_key in sides.items():\n",
    "            name = f\"{health_label}_{side_label}_{run_code}_run\"\n",
    "\n",
    "            feature_subsets['hindlimb'][name] = filter_features(hindlimb_features_df, health_key, run_key, side_key)\n",
    "            feature_subsets['forelimb'][name] = filter_features(forelimb_features_df, health_key, run_key, side_key)\n",
    "\n",
    "# Example usage\n",
    "print(f\"Number of hindlimb features: {hindlimb_features_df.shape[1]-3}\")\n",
    "print(f\"Number of forelimb features: {forelimb_features_df.shape[1]-3}\")\n",
    "\n",
    "# Access a subset:\n",
    "# feature_subsets['hindlimb']['healthy_left_c_run']"
   ]
  },
  {
   "cell_type": "code",
   "execution_count": 137,
   "id": "9fe666c7",
   "metadata": {},
   "outputs": [
    {
     "name": "stdout",
     "output_type": "stream",
     "text": [
      "190 combinations to compare\n",
      "Groups: 20 - group items: [('healthy', 'A', 'left'), ('healthy', 'A', 'right'), ('healthy', 'B', 'left'), ('healthy', 'B', 'right'), ('healthy', 'C', 'left'), ('healthy', 'C', 'right'), ('healthy', 'D', 'left'), ('healthy', 'D', 'right'), ('healthy', 'E', 'left'), ('healthy', 'E', 'right'), ('sick', 'A', 'left'), ('sick', 'A', 'right'), ('sick', 'B', 'left'), ('sick', 'B', 'right'), ('sick', 'C', 'left'), ('sick', 'C', 'right'), ('sick', 'D', 'left'), ('sick', 'D', 'right'), ('sick', 'E', 'left'), ('sick', 'E', 'right')]\n"
     ]
    }
   ],
   "source": [
    "# Create all valid combinations of health status, run, and side\n",
    "group_defs = [\n",
    "    (health_label, run_code, side_label)\n",
    "    for health_label in ['healthy', 'sick']\n",
    "    for run_code in experimental_groups\n",
    "    for side_label in ['left', 'right']\n",
    "]\n",
    "\n",
    "# Store results\n",
    "comparison_results = {\n",
    "    'hindlimb': [],\n",
    "    'forelimb': []\n",
    "}\n",
    "\n",
    "print(len(list(combinations(group_defs, 2))), \"combinations to compare\")\n",
    "print(f\"Groups: {len(group_defs)} - group items: {group_defs}\") # nbr = comb(20, 2) = 190"
   ]
  },
  {
   "cell_type": "code",
   "execution_count": 138,
   "id": "06f494fd",
   "metadata": {},
   "outputs": [],
   "source": [
    "to_compare = [['A_', 'C_', 'B_', 'E_'], ['C_','E_'], ['A_','C_'], ['B_','C_']]\n",
    "bp_list = ['angle value', 'phase value']\n",
    "\n",
    "for groups in to_compare:\n",
    "    for bp in bp_list:\n",
    "        fig = plot_feature_across_groups(feature_subsets=feature_subsets, feature_key=bp, limb='hindlimb', sides=['left'], groups=groups, state=['sick'])\n",
    "        group_name = [f\"{g.replace('_', '')}\" for g in groups]\n",
    "        # fig.write_image(os.path.join('./', f'hind_L_{str(group_name).replace(\"'\", \"\").replace(\", \", \"\").replace(\"[\", \"\").replace(\"]\", \"_\")}{bp}.png'))\n",
    "# color code the plots\n",
    "# plot c and a\n",
    "# ankle good for effect of injury\n",
    "# look for hindpaw features to show (finger, paw, ankle) - > filter to only ankle and paw differences\n",
    "# all left: C vs E, A vs C, B vs C (post) -> one single plot of left limb\n",
    "# try t-test without bonferroni (test)"
   ]
  },
  {
   "cell_type": "code",
   "execution_count": 139,
   "id": "85eae174",
   "metadata": {},
   "outputs": [],
   "source": [
    "# Compare each pair of groups (no repeats)\n",
    "for (health1, run1, side1), (health2, run2, side2) in combinations(group_defs, 2):\n",
    "    if side1 != side2 and run1 != run2:\n",
    "        continue  # Do not compare different sides of different groups\n",
    "\n",
    "    for limb_type in ['hindlimb', 'forelimb']:\n",
    "        key1 = f\"{health1}_{side1}_{run1}_run\"\n",
    "        key2 = f\"{health2}_{side2}_{run2}_run\"\n",
    "\n",
    "        df1 = feature_subsets[limb_type].get(key1)\n",
    "        df2 = feature_subsets[limb_type].get(key2)\n",
    "\n",
    "        if df1 is None or df2 is None or df1.empty or df2.empty:\n",
    "            continue\n",
    "\n",
    "        label1 = f\"{limb_type.title()} {health1.title()} {side1.title()} {run1.upper()}\"\n",
    "        label2 = f\"{limb_type.title()} {health2.title()} {side2.title()} {run2.upper()}\"\n",
    "\n",
    "        result = compare_feature_distributions(df1, df2, label1=label1, label2=label2)\n",
    "        comparison_results[limb_type].append(((key1, key2), result))\n",
    "\n",
    "        title = f\"{label1} vs {label2}\"\n",
    "        # plot_significant_features(result, title=title, group1_df=df1, group2_df=df2, names=[label1, label2])\n",
    "\n",
    "## Add a entry in comparison_results for all sick left (except D and E) vs E sick left\n",
    "key_1 = 'sick_left_ALL_run'\n",
    "key_2 = 'sick_left_E_run'\n",
    "df12 = feature_subsets['hindlimb']['sick_left_B_run']\n",
    "df13 = feature_subsets['hindlimb']['sick_left_C_run']\n",
    "df1 = pd.concat([df12, df13], ignore_index=True)\n",
    "df2 = feature_subsets['hindlimb']['sick_left_E_run']\n",
    "label1 = 'Hindlimb Sick Left B, C'\n",
    "label2 = 'Hindlimb Sick Left E'\n",
    "\n",
    "result = compare_feature_distributions(df1, df2, label1=label1, label2=label2)\n",
    "comparison_results['hindlimb'].append(((key_1, key_2), result))\n",
    "\n",
    "## lesion effect\n",
    "key_1 = 'healthy_left_ALL_run'\n",
    "key_2 = 'sick_left_C_run'\n",
    "df11 = feature_subsets['hindlimb']['healthy_left_C_run']\n",
    "df12 = feature_subsets['hindlimb']['healthy_left_B_run']\n",
    "df13 = feature_subsets['hindlimb']['healthy_left_E_run']\n",
    "df1 = pd.concat([df11, df12, df13], ignore_index=True)\n",
    "df2 = feature_subsets['hindlimb']['sick_left_C_run']\n",
    "label1 = 'Hindlimb Healthy Left B, C, E'\n",
    "label2 = 'Hindlimb Sick Left C'\n",
    "\n",
    "result = compare_feature_distributions(df1, df2, label1=label1, label2=label2)\n",
    "comparison_results['hindlimb'].append(((key_1, key_2), result))\n",
    "\n",
    "## healthy vs E\n",
    "key_1 = 'healthy_left_ALL_run'\n",
    "key_2 = 'sick_left_E_run'\n",
    "df11 = feature_subsets['hindlimb']['healthy_left_C_run']\n",
    "df12 = feature_subsets['hindlimb']['healthy_left_B_run']\n",
    "df13 = feature_subsets['hindlimb']['healthy_left_E_run']\n",
    "df1 = pd.concat([df11, df12, df13], ignore_index=True)\n",
    "df2 = feature_subsets['hindlimb']['sick_left_E_run']\n",
    "label1 = 'Hindlimb Healthy Left B, C, E'\n",
    "label2 = 'Hindlimb Sick Left E'\n",
    "\n",
    "result = compare_feature_distributions(df1, df2, label1=label1, label2=label2)\n",
    "comparison_results['hindlimb'].append(((key_1, key_2), result))"
   ]
  },
  {
   "cell_type": "code",
   "execution_count": 140,
   "id": "cfb96059",
   "metadata": {},
   "outputs": [],
   "source": [
    "def _to_name_set(result):\n",
    "    names = []\n",
    "    for item in result:\n",
    "        # accept 'feature' or ('feature', ...), clean whitespace\n",
    "        name = item[0] if isinstance(item, (list, tuple)) else item\n",
    "        name = ' '.join(str(name).split())  # collapse weird spacing\n",
    "        names.append(name)\n",
    "    return set(names)\n",
    "\n",
    "def intersect_significant_features(*results):\n",
    "    \"\"\"\n",
    "    Each result is a list of strings or tuples; intersect by the feature name (first element).\n",
    "    \"\"\"\n",
    "    sets = [_to_name_set(r) for r in results]\n",
    "    return set.intersection(*sets) if sets else set()\n",
    "\n",
    "def exclude_intersection_features(*results):\n",
    "    \"\"\"\n",
    "    Return features unique to each result (by name only).\n",
    "    \"\"\"\n",
    "    sets = [_to_name_set(r) for r in results]\n",
    "    if not sets:\n",
    "        return []\n",
    "    inter = set.intersection(*sets)\n",
    "    return [s - inter for s in sets]\n",
    "\n",
    "def globally_unique_features(*results):\n",
    "    from collections import Counter\n",
    "    \"\"\"\n",
    "    Return features that appear in exactly one result across all results.\n",
    "    \"\"\"\n",
    "    sets = [_to_name_set(r) for r in results]\n",
    "    all_features = [feat for s in sets for feat in s]\n",
    "    counts = Counter(all_features)\n",
    "    return {feat for feat, count in counts.items() if count == 1}"
   ]
  },
  {
   "cell_type": "code",
   "execution_count": 141,
   "id": "c2f138a0",
   "metadata": {},
   "outputs": [
    {
     "name": "stdout",
     "output_type": "stream",
     "text": [
      "\n",
      "Comparison results for hindlimb:\n",
      "Comparison healthy_left_ALL_run vs sick_left_C_run:\n",
      "\tNumber of significant features: 103\n",
      "\tSignificant features: [('Mean angle acceleration - rhindlimb - ankle (rad/s^2)', '*', ' (circular approx)', '-92.0±22.4 vs -86.6±13.9°'), ('Mean angle acceleration during swing - rhindlimb - hip (rad/s^2)', '*', ' (circular approx)', '0.1±1.1 vs -0.7±0.9°'), ('Mean angle at peak - rhindlimb - ankle (°)', '***', ' (circular approx)', '66.8±11.0 vs 57.6±4.4°'), ('Mean angle at peak - rhindlimb - knee (°)', '**', ' (circular approx)', '89.8±2.6 vs 86.6±2.6°'), ('Mean angle at peak - rhindlimb - lHindfingers (°)', '**', ' (circular approx)', '126.0±17.7 vs 144.3±12.8°'), ('Mean angle at peak - rhindlimb - lHindpaw (°)', '**', ' (circular approx)', '162.3±5.5 vs 156.9±3.6°'), ('Mean angle at stance - rhindlimb - hip (°)', '***', ' (circular approx)', '127.4±2.9 vs 123.8±2.1°'), ('Mean angle at stance - rhindlimb - lHindfingers (°)', '**', ' (circular approx)', '175.8±1.3 vs 174.1±1.2°'), ('Mean angle at stance - rhindlimb - lHindpaw (°)', '**', ' (circular approx)', '151.2±4.4 vs 146.0±3.4°'), ('Mean angle at swing - rhindlimb - ankle (°)', '*', ' (circular approx)', '96.8±5.5 vs 91.3±6.9°'), ('Mean angle at swing - rhindlimb - lHindfingers (°)', '*', ' (circular approx)', '118.4±8.1 vs 127.5±8.6°'), ('Mean angle at touchdown - rhindlimb - hip (°)', '**', ' (circular approx)', '130.3±2.7 vs 127.8±2.0°'), ('Mean angle at touchdown - rhindlimb - lHindfingers (°)', '**', ' (circular approx)', '175.3±1.1 vs 173.5±1.2°'), ('Mean angle at touchdown - rhindlimb - lHindpaw (°)', '*', ' (circular approx)', '153.6±4.2 vs 148.9±4.2°'), ('Mean angle during stance - rhindlimb - knee (°)', '*', ' (circular approx)', '1.6±0.0 vs 1.6±0.0°'), ('Mean angle during stance - rhindlimb - lHindfingers (°)', '**', ' (circular approx)', '2.7±0.1 vs 2.8±0.1°'), ('Mean angle during stance - rhindlimb - lHindpaw (°)', '***', ' (circular approx)', '2.5±0.1 vs 2.4±0.0°'), ('Mean angle during swing - rhindlimb - lHindfingers (°)', '*', ' (circular approx)', '2.5±0.1 vs 2.6±0.1°'), ('Mean angle during swing - rhindlimb - lHindpaw (°)', '***', ' (circular approx)', '2.8±0.0 vs 2.7±0.0°'), ('Mean angle excursion - rhindlimb - ankle (°)', '***', '', '86.98±9.04 vs 67.16±8.46'), ('Mean angle value - rhindlimb - lHindfingers (°)', '**', ' (circular approx)', '152.0±4.3 vs 156.2±3.5°'), ('Mean angle value - rhindlimb - lHindpaw (°)', '***', ' (circular approx)', '152.0±2.8 vs 146.9±1.8°'), ('Mean angle velocity - rhindlimb - ankle (rad/s)', '*', ' (circular approx)', '-0.0±0.1 vs -0.1±0.1°'), ('Mean angle velocity - rhindlimb - knee (rad/s)', '*', ' (circular approx)', '-0.0±0.0 vs -0.1±0.1°'), ('Mean angle velocity at peak - rhindlimb - ankle (rad/s)', '**', ' (circular approx)', '-22.2±8.9 vs -14.4±5.9°'), ('Mean angle velocity at peak - rhindlimb - hip (rad/s)', '*', ' (circular approx)', '11.0±2.6 vs 13.9±2.7°'), ('Mean angle velocity at peak - rhindlimb - lHindpaw (rad/s)', '*', ' (circular approx)', '8.4±4.5 vs 2.0±7.5°'), ('Mean angle velocity at stance - rhindlimb - hip (rad/s)', '***', ' (circular approx)', '-4.4±5.9 vs -9.0±1.5°'), ('Mean angle velocity at stance - rhindlimb - lHindpaw (rad/s)', '**', ' (circular approx)', '-5.5±7.4 vs -11.3±3.0°'), ('Mean angle velocity at swing - rhindlimb - ankle (rad/s)', '**', ' (circular approx)', '2.5±4.9 vs 0.8±2.3°'), ('Mean angle velocity at swing - rhindlimb - knee (rad/s)', '***', ' (circular approx)', '0.7±2.1 vs -2.7±0.9°'), ('Mean angle velocity at touchdown - rhindlimb - hip (rad/s)', '*', ' (circular approx)', '-5.1±2.4 vs -7.0±1.9°'), ('Mean angle velocity at touchdown - rhindlimb - knee (rad/s)', '*', ' (circular approx)', '1.2±1.3 vs 2.5±1.9°'), ('Mean angle velocity during stance - rhindlimb - lHindpaw (rad/s)', '*', ' (circular approx)', '-0.1±1.1 vs 0.7±0.9°'), ('Mean angle velocity during swing - rhindlimb - ankle (rad/s)', '*', ' (circular approx)', '0.3±0.9 vs -0.7±1.0°'), ('Mean angle velocity during swing - rhindlimb - lHindfingers (rad/s)', '*', ' (circular approx)', '0.2±1.0 vs -0.3±0.6°'), ('Mean phase acceleration at swing - rhindlimb - ankle (rad/s^2)', '*', ' (circular approx)', '7.8±101.2 vs -171.8±78.4°'), ('Mean phase acceleration during swing - rhindlimb - hip (rad/s^2)', '*', ' (circular approx)', '0.1±1.1 vs -0.7±0.9°'), ('Mean phase acceleration during swing - rhindlimb - knee (rad/s^2)', '*', ' (circular approx)', '0.0±0.8 vs 0.7±0.7°'), ('Mean phase at peak - rhindlimb - lHindpaw (°)', '**', ' (circular approx)', '-53.9±17.7 vs -35.4±12.9°'), ('Mean phase at stance - rhindlimb - hip (°)', '***', ' (circular approx)', '-52.6±2.9 vs -56.2±2.1°'), ('Mean phase at stance - rhindlimb - lHindpaw (°)', '**', ' (circular approx)', '0.8±1.9 vs 3.2±2.2°'), ('Mean phase at swing - rhindlimb - ankle (°)', '*', ' (circular approx)', '-103.4±5.6 vs -97.2±7.5°'), ('Mean phase at swing - rhindlimb - lHindpaw (°)', '*', ' (circular approx)', '-61.6±8.1 vs -52.5±8.6°'), ('Mean phase at touchdown - rhindlimb - ankle (°)', '*', ' (circular approx)', '-25.2±3.9 vs -28.3±3.4°'), ('Mean phase at touchdown - rhindlimb - hip (°)', '**', ' (circular approx)', '-49.7±2.7 vs -52.2±2.0°'), ('Mean phase at touchdown - rhindlimb - lHindpaw (°)', '*', ' (circular approx)', '1.1±2.0 vs 2.8±3.1°'), ('Mean phase during stance - rhindlimb - knee (°)', '*', ' (circular approx)', '-2.7±0.7 vs -3.0±0.1°'), ('Mean phase during stance - rhindlimb - lHindpaw (°)', '**', ' (circular approx)', '-0.4±0.1 vs -0.3±0.1°'), ('Mean phase during swing - rhindlimb - knee (°)', '*', ' (circular approx)', '-2.8±0.5 vs -3.0±0.0°'), ('Mean phase during swing - rhindlimb - lHindpaw (°)', '**', ' (circular approx)', '-0.6±0.1 vs -0.5±0.1°'), ('Mean phase excursion - rhindlimb - ankle (°)', '***', '', '115.92±8.25 vs 102.84±8.15'), ('Mean phase value - rhindlimb - lHindpaw (°)', '**', ' (circular approx)', '-27.2±4.6 vs -22.1±3.8°'), ('Mean phase velocity at peak - rhindlimb - ankle (rad/s)', '*', ' (circular approx)', '28.5±7.2 vs 24.2±4.8°'), ('Mean phase velocity at peak - rhindlimb - hip (rad/s)', '*', ' (circular approx)', '11.0±2.6 vs 13.9±2.7°'), ('Mean phase velocity at peak - rhindlimb - knee (rad/s)', '**', ' (circular approx)', '6.3±3.9 vs 9.9±2.5°'), ('Mean phase velocity at stance - rhindlimb - ankle (rad/s)', '*', ' (circular approx)', '-2.3±16.2 vs -8.7±2.3°'), ('Mean phase velocity at stance - rhindlimb - hip (rad/s)', '**', ' (circular approx)', '-1.1±14.9 vs -9.0±1.5°'), ('Mean phase velocity at stance - rhindlimb - knee (rad/s)', '*', ' (circular approx)', '-1.5±10.8 vs -6.5±1.8°'), ('Mean phase velocity at swing - rhindlimb - knee (rad/s)', '***', ' (circular approx)', '-0.9±1.7 vs -4.3±0.9°'), ('Mean phase velocity at touchdown - rhindlimb - hip (rad/s)', '*', ' (circular approx)', '-5.1±2.4 vs -7.0±1.9°'), ('Mean phase velocity during stance - rhindlimb - knee (rad/s)', '*', ' (circular approx)', '-0.3±1.0 vs 0.5±0.9°'), ('Mean step acceleration X at peak - lHindfingers (m/s^2)', '**', '', '7.93±9.23 vs -4.39±8.29'), ('Mean step acceleration X at peak - lHindpaw (m/s^2)', '*', '', '1.87±7.71 vs -3.92±6.83'), ('Mean step acceleration X at swing - ankle (m/s^2)', '*', '', '4.51±2.70 vs 6.34±1.89'), ('Mean step acceleration X during stance - ankle (m/s^2)', '***', '', '0.50±0.54 vs 1.10±0.38'), ('Mean step acceleration X during stance - knee (m/s^2)', '**', ' (nonparametric)', '0.18 (median) vs 0.47 (median)'), ('Mean step acceleration X during stance - lHindfingers (m/s^2)', '***', '', '-0.06±0.70 vs 0.55±0.30'), ('Mean step acceleration X during stance - lHindpaw (m/s^2)', '***', '', '0.23±0.65 vs 0.89±0.30'), ('Mean step acceleration X during swing - lHindpaw (m/s^2)', '*', ' (nonparametric)', '-0.03 (median) vs -0.40 (median)'), ('Mean step acceleration Y at peak - hip (m/s^2)', '***', '', '-0.51±0.79 vs 0.64±0.68'), ('Mean step acceleration Y at stance - lHindfingers (m/s^2)', '**', ' (nonparametric)', '5.06 (median) vs 7.33 (median)'), ('Mean step acceleration Y at stance - lHindpaw (m/s^2)', '*', '', '7.80±2.89 vs 10.00±2.44'), ('Mean step acceleration Y at swing - ankle (m/s^2)', '***', '', '0.42±1.56 vs 3.15±1.70'), ('Mean step acceleration Y at swing - hip (m/s^2)', '*', '', '-0.75±0.95 vs -1.96±1.37'), ('Mean step acceleration Y at swing - lHindfingers (m/s^2)', '*', '', '4.85±2.49 vs 6.46±1.92'), ('Mean step acceleration Y at swing - lHindpaw (m/s^2)', '*', ' (nonparametric)', '3.42 (median) vs 6.61 (median)'), ('Mean step acceleration Y at touchdown - ankle (m/s^2)', '***', '', '3.81±1.55 vs 6.37±1.34'), ('Mean step acceleration Y at touchdown - lHindfingers (m/s^2)', '***', '', '4.35±2.25 vs 8.54±2.47'), ('Mean step acceleration Y at touchdown - lHindpaw (m/s^2)', '**', '', '6.52±2.65 vs 10.11±3.06'), ('Mean step acceleration Y during stance - ankle (m/s^2)', '**', '', '0.60±0.28 vs 1.02±0.36'), ('Mean step acceleration Y during swing - ankle (m/s^2)', '**', '', '-0.86±0.34 vs -1.28±0.36'), ('Mean step jerk X at peak - hip (m/s^3)', '*', '', '-106.93±211.53 vs 143.05±317.38'), ('Mean step jerk X at swing - ankle (m/s^3)', '*', '', '453.27±290.11 vs 131.85±314.69'), ('Mean step jerk X at swing - knee (m/s^3)', '**', '', '468.09±430.87 vs 89.32±233.99'), ('Mean step jerk X at touchdown - lHindpaw (m/s^3)', '*', ' (nonparametric)', '1293.16 (median) vs 1812.65 (median)'), ('Mean step jerk Y at peak - ankle (m/s^3)', '**', '', '-165.49±471.60 vs 456.87±494.69'), ('Mean step jerk Y at peak - lHindfingers (m/s^3)', '***', ' (nonparametric)', '-789.95 (median) vs 290.35 (median)'), ('Mean step jerk Y at peak - lHindpaw (m/s^3)', '***', ' (nonparametric)', '-528.46 (median) vs 288.54 (median)'), ('Mean step jerk Y at stance - lHindfingers (m/s^3)', '***', '', '164.95±357.77 vs -330.58±217.14'), ('Mean step jerk Y at swing - ankle (m/s^3)', '*', '', '-14.16±199.71 vs -241.30±254.59'), ('Mean step jerk Y during stance - lHindfingers (m/s^3)', '*', ' (nonparametric)', '0.92 (median) vs -16.05 (median)'), ('Mean step jerk Y during swing - lHindfingers (m/s^3)', '*', '', '-15.22±24.10 vs 7.33±23.35'), ('Mean step velocity X at stance - lHindpaw (m/s)', '*', ' (nonparametric)', '0.07 (median) vs 0.04 (median)'), ('Mean step velocity X during stance - lHindfingers (m/s)', '***', '', '0.03±0.01 vs 0.01±0.01'), ('Mean step velocity X during stance - lHindpaw (m/s)', '***', '', '0.05±0.02 vs 0.03±0.01'), ('Mean step velocity Y at peak - ankle (m/s)', '***', '', '-0.05±0.04 vs -0.11±0.02'), ('Mean step velocity Y at peak - lHindfingers (m/s)', '***', '', '0.07±0.03 vs -0.00±0.03'), ('Mean step velocity Y at peak - lHindpaw (m/s)', '***', '', '0.04±0.02 vs -0.02±0.03'), ('Mean step velocity Y at swing - ankle (m/s)', '***', ' (nonparametric)', '0.05 (median) vs 0.11 (median)'), ('Mean step velocity Y at swing - hip (m/s)', '*', '', '0.01±0.01 vs -0.00±0.01'), ('Mean step velocity Y at swing - lHindpaw (m/s)', '**', '', '0.06±0.02 vs 0.09±0.02'), ('Mean step velocity Y during stance - lHindpaw (m/s)', '*', '', '0.02±0.01 vs 0.02±0.00')]\n",
      "----------------------------------------\n"
     ]
    }
   ],
   "source": [
    "limb = 'hindlimb'  # or 'forelimb'\n",
    "data = comparison_results[limb]\n",
    "\n",
    "print(f\"\\nComparison results for {limb}:\")\n",
    "for (key1, key2), result in data:\n",
    "    if ('ALL' in key1 and 'C_' in key2) and ('healthy' in key1 and 'sick' in key2) and ('left' in key1 and 'left' in key2):\n",
    "        print(f\"Comparison {key1} vs {key2}:\")\n",
    "        print(f\"\\tNumber of significant features: {result['n_significant']}\")\n",
    "        features_ac = [f for f in result['significant_features']]\n",
    "        print(f\"\\tSignificant features: {features_ac}\")\n",
    "        # plot_significant_features(result, title=f\"{key1} vs {key2}\", group1_df=feature_subsets[limb].get(key1), group2_df=feature_subsets[limb].get(key2), names=[key1, key2])\n",
    "        print(\"-\" * 40)\n",
    "\n",
    "rows = []\n",
    "\n",
    "for (key1, key2), result in comparison_results[limb]:\n",
    "    if ('ALL' in key1 and 'C_' in key2) and ('healthy' in key1 and 'sick' in key2) and ('left' in key1 and 'left' in key2):\n",
    "        for feat_tuple in result['significant_features']:\n",
    "            # feat_tuple looks like: (feature_name, '*', '(circular approx)', 'values...')\n",
    "            feature_name = feat_tuple[0]\n",
    "            values_str = feat_tuple[-1]  # last element is the values string\n",
    "\n",
    "            values_split = values_str.split(' vs ')\n",
    "\n",
    "            rows.append((feature_name, values_split[0], values_split[1]))\n",
    "\n",
    "# Create DataFrame\n",
    "all_vs_c_df = pd.DataFrame(rows, columns=[\"feature\", \"value 1\", \"value 2\"])\n",
    "\n",
    "# Save to CSV\n",
    "# all_vs_c_df.to_csv(\"c_healthy_sick.csv\", index=False)"
   ]
  },
  {
   "cell_type": "code",
   "execution_count": 142,
   "id": "8f74791b",
   "metadata": {},
   "outputs": [
    {
     "name": "stdout",
     "output_type": "stream",
     "text": [
      "\n",
      "Comparison results for hindlimb:\n",
      "Comparison healthy_left_ALL_run vs sick_left_E_run:\n",
      "\tNumber of significant features: 129\n",
      "\tSignificant features: [('Mean angle acceleration - rhindlimb - ankle (rad/s^2)', '*', ' (circular approx)', '-92.0±22.4 vs -77.6±10.6°'), ('Mean angle acceleration - rhindlimb - hip (rad/s^2)', '*', ' (circular approx)', '-141.5±30.4 vs -127.9±14.5°'), ('Mean angle acceleration - rhindlimb - knee (rad/s^2)', '**', ' (circular approx)', '-128.2±25.8 vs -112.4±13.0°'), ('Mean angle acceleration - rhindlimb - lHindfingers (rad/s^2)', '**', ' (circular approx)', '147.1±45.7 vs 164.9±18.7°'), ('Mean angle acceleration - rhindlimb - lHindpaw (rad/s^2)', '**', ' (circular approx)', '146.8±42.9 vs 175.2±23.7°'), ('Mean angle acceleration at swing - rhindlimb - ankle (rad/s^2)', '*', ' (circular approx)', '-3.5±111.2 vs -111.0±61.1°'), ('Mean angle acceleration during stance - rhindlimb - knee (rad/s^2)', '*', ' (circular approx)', '0.3±1.2 vs 0.4±0.8°'), ('Mean angle acceleration during stance - rhindlimb - lHindfingers (rad/s^2)', '*', ' (circular approx)', '-0.4±1.0 vs 0.3±0.7°'), ('Mean angle acceleration during swing - rhindlimb - knee (rad/s^2)', '**', ' (circular approx)', '0.1±1.0 vs -0.3±0.4°'), ('Mean angle at peak - rhindlimb - ankle (°)', '***', ' (circular approx)', '66.8±11.0 vs 56.7±4.2°'), ('Mean angle at peak - rhindlimb - knee (°)', '***', ' (circular approx)', '89.8±2.6 vs 85.7±1.5°'), ('Mean angle at peak - rhindlimb - lHindfingers (°)', '***', ' (circular approx)', '126.0±17.7 vs 146.9±11.7°'), ('Mean angle at peak - rhindlimb - lHindpaw (°)', '**', ' (circular approx)', '162.3±5.5 vs 157.7±3.7°'), ('Mean angle at stance - rhindlimb - knee (°)', '*', ' (circular approx)', '91.0±2.2 vs 92.5±1.6°'), ('Mean angle at stance - rhindlimb - lHindfingers (°)', '*', ' (circular approx)', '175.8±1.3 vs 174.4±1.2°'), ('Mean angle at swing - rhindlimb - ankle (°)', '***', ' (circular approx)', '96.8±5.5 vs 86.6±4.8°'), ('Mean angle at swing - rhindlimb - lHindfingers (°)', '***', ' (circular approx)', '118.4±8.1 vs 129.1±4.2°'), ('Mean angle at touchdown - rhindlimb - lHindfingers (°)', '*', ' (circular approx)', '175.3±1.1 vs 174.1±1.1°'), ('Mean angle during stance - rhindlimb - ankle (°)', '*', ' (circular approx)', '1.2±0.1 vs 1.2±0.0°'), ('Mean angle during stance - rhindlimb - lHindfingers (°)', '***', ' (circular approx)', '2.7±0.1 vs 2.8±0.0°'), ('Mean angle during stance - rhindlimb - lHindpaw (°)', '*', ' (circular approx)', '2.5±0.1 vs 2.5±0.0°'), ('Mean angle during swing - rhindlimb - ankle (°)', '***', ' (circular approx)', '1.1±0.1 vs 1.1±0.0°'), ('Mean angle during swing - rhindlimb - hip (°)', '*', ' (circular approx)', '1.8±0.1 vs 1.8±0.1°'), ('Mean angle during swing - rhindlimb - knee (°)', '***', ' (circular approx)', '1.6±0.0 vs 1.5±0.0°'), ('Mean angle during swing - rhindlimb - lHindfingers (°)', '***', ' (circular approx)', '2.5±0.1 vs 2.7±0.1°'), ('Mean angle during swing - rhindlimb - lHindpaw (°)', '***', ' (circular approx)', '2.8±0.0 vs 2.7±0.0°'), ('Mean angle excursion - rhindlimb - ankle (°)', '***', '', '86.98±9.04 vs 60.67±7.15'), ('Mean angle excursion - rhindlimb - lHindfingers (°)', '***', '', '112.99±12.58 vs 95.88±9.07'), ('Mean angle excursion - rhindlimb - lHindpaw (°)', '**', ' (nonparametric)', '61.68 (median) vs 58.67 (median)'), ('Mean angle value - rhindlimb - ankle (°)', '***', ' (circular approx)', '66.6±3.8 vs 62.9±1.6°'), ('Mean angle value - rhindlimb - hip (°)', '*', ' (circular approx)', '99.7±4.1 vs 102.5±2.5°'), ('Mean angle value - rhindlimb - knee (°)', '*', ' (circular approx)', '91.6±1.4 vs 90.3±1.4°'), ('Mean angle value - rhindlimb - lHindfingers (°)', '***', ' (circular approx)', '152.0±4.3 vs 158.9±2.3°'), ('Mean angle value - rhindlimb - lHindpaw (°)', '**', ' (circular approx)', '152.0±2.8 vs 149.4±1.7°'), ('Mean angle velocity - rhindlimb - hip (rad/s)', '*', ' (circular approx)', '0.1±0.1 vs 0.1±0.0°'), ('Mean angle velocity - rhindlimb - knee (rad/s)', '*', ' (circular approx)', '-0.0±0.0 vs -0.1±0.0°'), ('Mean angle velocity at peak - rhindlimb - ankle (rad/s)', '**', ' (circular approx)', '-22.2±8.9 vs -13.6±6.4°'), ('Mean angle velocity at peak - rhindlimb - knee (rad/s)', '**', ' (circular approx)', '-4.7±2.9 vs -2.2±1.9°'), ('Mean angle velocity at peak - rhindlimb - lHindpaw (rad/s)', '***', ' (circular approx)', '8.4±4.5 vs 3.6±3.9°'), ('Mean angle velocity at stance - rhindlimb - ankle (rad/s)', '**', ' (circular approx)', '4.1±4.9 vs 0.7±2.1°'), ('Mean angle velocity at stance - rhindlimb - hip (rad/s)', '**', ' (circular approx)', '-4.4±5.9 vs -8.1±1.5°'), ('Mean angle velocity at swing - rhindlimb - ankle (rad/s)', '**', ' (circular approx)', '2.5±4.9 vs -0.2±2.6°'), ('Mean angle velocity at swing - rhindlimb - hip (rad/s)', '*', ' (circular approx)', '-1.6±2.1 vs -1.4±0.9°'), ('Mean angle velocity at swing - rhindlimb - knee (rad/s)', '***', ' (circular approx)', '0.7±2.1 vs -2.8±1.7°'), ('Mean angle velocity at swing - rhindlimb - lHindfingers (rad/s)', '*', ' (circular approx)', '-15.3±5.0 vs -12.6±3.0°'), ('Mean angle velocity at touchdown - rhindlimb - knee (rad/s)', '*', ' (circular approx)', '1.2±1.3 vs 2.4±1.3°'), ('Mean angle velocity at touchdown - rhindlimb - lHindfingers (rad/s)', '*', ' (circular approx)', '0.2±1.6 vs 1.3±1.1°'), ('Mean angle velocity during swing - rhindlimb - ankle (rad/s)', '*', ' (circular approx)', '0.3±0.9 vs -0.8±1.1°'), ('Mean phase acceleration - rhindlimb - ankle (rad/s^2)', '**', ' (circular approx)', '-51.3±100.3 vs -26.1±42.2°'), ('Mean phase acceleration - rhindlimb - hip (rad/s^2)', '***', ' (circular approx)', '-28.8±89.7 vs 9.4±37.8°'), ('Mean phase acceleration - rhindlimb - knee (rad/s^2)', '*', ' (circular approx)', '90.3±56.3 vs 119.5±26.9°'), ('Mean phase acceleration at stance - rhindlimb - knee (rad/s^2)', '*', ' (circular approx)', '-173.8±107.6 vs -32.3±68.9°'), ('Mean phase acceleration at touchdown - rhindlimb - knee (rad/s^2)', '*', ' (circular approx)', '-103.2±91.7 vs -5.1±68.2°'), ('Mean phase acceleration during swing - rhindlimb - ankle (rad/s^2)', '***', ' (circular approx)', '0.2±0.9 vs -1.1±0.7°'), ('Mean phase at peak - rhindlimb - ankle (°)', '*', ' (circular approx)', '-66.7±16.2 vs -54.7±14.1°'), ('Mean phase at peak - rhindlimb - lHindpaw (°)', '***', ' (circular approx)', '-53.9±17.7 vs -33.0±11.8°'), ('Mean phase at swing - rhindlimb - ankle (°)', '***', ' (circular approx)', '-103.4±5.6 vs -93.0±4.6°'), ('Mean phase at swing - rhindlimb - lHindpaw (°)', '***', ' (circular approx)', '-61.6±8.1 vs -50.9±4.2°'), ('Mean phase during stance - rhindlimb - lHindpaw (°)', '***', ' (circular approx)', '-0.4±0.1 vs -0.3±0.1°'), ('Mean phase during swing - rhindlimb - ankle (°)', '*', ' (circular approx)', '-0.9±0.1 vs -0.8±0.1°'), ('Mean phase during swing - rhindlimb - hip (°)', '*', ' (circular approx)', '-1.4±0.1 vs -1.3±0.1°'), ('Mean phase during swing - rhindlimb - lHindpaw (°)', '***', ' (circular approx)', '-0.6±0.1 vs -0.4±0.1°'), ('Mean phase excursion - rhindlimb - ankle (°)', '***', '', '115.92±8.25 vs 98.17±6.19'), ('Mean phase excursion - rhindlimb - lHindpaw (°)', '***', '', '123.34±12.15 vs 109.63±7.89'), ('Mean phase value - rhindlimb - ankle (°)', '**', ' (circular approx)', '-54.7±5.4 vs -49.8±3.1°'), ('Mean phase value - rhindlimb - hip (°)', '*', ' (circular approx)', '-80.3±4.1 vs -77.5±2.5°'), ('Mean phase value - rhindlimb - lHindpaw (°)', '***', ' (circular approx)', '-27.2±4.6 vs -19.3±2.6°'), ('Mean phase velocity - rhindlimb - hip (rad/s)', '*', ' (circular approx)', '0.1±0.1 vs 0.1±0.0°'), ('Mean phase velocity - rhindlimb - knee (rad/s)', '**', ' (circular approx)', '0.0±0.1 vs 0.0±0.0°'), ('Mean phase velocity - rhindlimb - lHindpaw (rad/s)', '*', ' (circular approx)', '0.0±0.1 vs 0.0±0.1°'), ('Mean phase velocity at peak - rhindlimb - ankle (rad/s)', '*', ' (circular approx)', '28.5±7.2 vs 23.4±6.3°'), ('Mean phase velocity at peak - rhindlimb - knee (rad/s)', '**', ' (circular approx)', '6.3±3.9 vs 9.8±2.0°'), ('Mean phase velocity at stance - rhindlimb - hip (rad/s)', '*', ' (circular approx)', '-1.1±14.9 vs -8.1±1.5°'), ('Mean phase velocity at stance - rhindlimb - knee (rad/s)', '*', ' (circular approx)', '-1.5±10.8 vs -6.0±2.3°'), ('Mean phase velocity at swing - rhindlimb - hip (rad/s)', '*', ' (circular approx)', '-1.6±2.1 vs -1.4±0.9°'), ('Mean phase velocity at swing - rhindlimb - knee (rad/s)', '***', ' (circular approx)', '-0.9±1.7 vs -4.3±1.3°'), ('Mean phase velocity at swing - rhindlimb - lHindpaw (rad/s)', '*', ' (circular approx)', '-15.3±5.0 vs -12.6±3.0°'), ('Mean step acceleration X at peak - hip (m/s^2)', '*', '', '-1.70±1.76 vs -0.62±1.10'), ('Mean step acceleration X at peak - lHindfingers (m/s^2)', '***', '', '7.93±9.23 vs -2.43±3.79'), ('Mean step acceleration X at peak - lHindpaw (m/s^2)', '*', '', '1.87±7.71 vs -2.22±2.50'), ('Mean step acceleration X during stance - ankle (m/s^2)', '**', '', '0.50±0.54 vs 0.90±0.31'), ('Mean step acceleration X during stance - knee (m/s^2)', '*', ' (nonparametric)', '0.18 (median) vs 0.34 (median)'), ('Mean step acceleration X during stance - lHindfingers (m/s^2)', '**', '', '-0.06±0.70 vs 0.49±0.37'), ('Mean step acceleration X during stance - lHindpaw (m/s^2)', '**', '', '0.23±0.65 vs 0.68±0.35'), ('Mean step acceleration Y at peak - hip (m/s^2)', '*', '', '-0.51±0.79 vs 0.40±0.90'), ('Mean step acceleration Y at stance - knee (m/s^2)', '*', ' (nonparametric)', '-3.40 (median) vs -1.29 (median)'), ('Mean step acceleration Y at swing - ankle (m/s^2)', '**', '', '0.42±1.56 vs 2.68±1.70'), ('Mean step acceleration Y at swing - hip (m/s^2)', '*', '', '-0.75±0.95 vs -1.50±0.94'), ('Mean step acceleration Y at swing - lHindfingers (m/s^2)', '**', '', '4.85±2.49 vs 6.65±1.35'), ('Mean step acceleration Y at swing - lHindpaw (m/s^2)', '**', ' (nonparametric)', '3.42 (median) vs 6.00 (median)'), ('Mean step acceleration Y at touchdown - lHindfingers (m/s^2)', '**', '', '4.35±2.25 vs 6.45±1.57'), ('Mean step acceleration Y during stance - ankle (m/s^2)', '**', '', '0.60±0.28 vs 0.84±0.21'), ('Mean step acceleration Y during stance - hip (m/s^2)', '*', ' (nonparametric)', '0.16 (median) vs -0.05 (median)'), ('Mean step acceleration Y during swing - ankle (m/s^2)', '**', '', '-0.86±0.34 vs -1.11±0.18'), ('Mean step acceleration Y during swing - hip (m/s^2)', '***', '', '-0.16±0.19 vs 0.09±0.16'), ('Mean step jerk X at swing - ankle (m/s^3)', '**', '', '453.27±290.11 vs 190.14±234.51'), ('Mean step jerk X at swing - hip (m/s^3)', '*', ' (nonparametric)', '141.20 (median) vs -36.42 (median)'), ('Mean step jerk X at swing - knee (m/s^3)', '**', '', '468.09±430.87 vs 69.43±250.37'), ('Mean step jerk Y at peak - ankle (m/s^3)', '***', '', '-165.49±471.60 vs 609.88±443.05'), ('Mean step jerk Y at peak - knee (m/s^3)', '*', '', '-66.74±234.30 vs 87.24±143.01'), ('Mean step jerk Y at peak - lHindfingers (m/s^3)', '***', '', '-858.31±441.51 vs 329.52±208.16'), ('Mean step jerk Y at peak - lHindpaw (m/s^3)', '***', '', '-521.30±327.08 vs 152.63±282.31'), ('Mean step jerk Y at stance - lHindfingers (m/s^3)', '***', '', '164.95±357.77 vs -231.04±158.15'), ('Mean step jerk Y at stance - lHindpaw (m/s^3)', '*', ' (nonparametric)', '65.22 (median) vs -198.65 (median)'), ('Mean step jerk Y at swing - ankle (m/s^3)', '**', '', '-14.16±199.71 vs -324.90±236.26'), ('Mean step jerk Y during stance - ankle (m/s^3)', '**', '', '-32.28±27.81 vs -13.83±10.93'), ('Mean step jerk Y during stance - lHindpaw (m/s^3)', '*', ' (nonparametric)', '-32.47 (median) vs -12.73 (median)'), ('Mean step jerk Y during swing - ankle (m/s^3)', '**', '', '31.61±20.92 vs 10.05±15.77'), ('Mean step jerk Y during swing - hip (m/s^3)', '**', '', '-18.44±16.22 vs -5.70±7.77'), ('Mean step length (m)', '*', '', '0.06±0.01 vs 0.06±0.00'), ('Mean step velocity X at peak - hip (m/s)', '*', '', '0.26±0.06 vs 0.23±0.02'), ('Mean step velocity X at stance - ankle (m/s)', '**', ' (nonparametric)', '0.10 (median) vs 0.05 (median)'), ('Mean step velocity X at stance - knee (m/s)', '*', ' (nonparametric)', '0.17 (median) vs 0.13 (median)'), ('Mean step velocity X at stance - lHindpaw (m/s)', '**', ' (nonparametric)', '0.07 (median) vs 0.03 (median)'), ('Mean step velocity X during stance - ankle (m/s)', '*', ' (nonparametric)', '0.11 (median) vs 0.08 (median)'), ('Mean step velocity X during stance - hip (m/s)', '*', '', '0.23±0.05 vs 0.20±0.02'), ('Mean step velocity X during stance - knee (m/s)', '**', '', '0.15±0.04 vs 0.12±0.01'), ('Mean step velocity X during stance - lHindfingers (m/s)', '***', '', '0.03±0.01 vs 0.01±0.00'), ('Mean step velocity X during stance - lHindpaw (m/s)', '***', '', '0.05±0.02 vs 0.03±0.01'), ('Mean step velocity X during swing - ankle (m/s)', '*', '', '0.40±0.06 vs 0.37±0.03'), ('Mean step velocity X during swing - lHindfingers (m/s)', '**', '', '0.51±0.08 vs 0.46±0.03'), ('Mean step velocity X during swing - lHindpaw (m/s)', '*', '', '0.49±0.07 vs 0.44±0.03'), ('Mean step velocity Y at peak - ankle (m/s)', '***', '', '-0.05±0.04 vs -0.11±0.03'), ('Mean step velocity Y at peak - lHindfingers (m/s)', '***', '', '0.07±0.03 vs -0.00±0.01'), ('Mean step velocity Y at peak - lHindpaw (m/s)', '***', '', '0.04±0.02 vs -0.02±0.02'), ('Mean step velocity Y at stance - lHindfingers (m/s)', '**', '', '-0.08±0.03 vs -0.06±0.02'), ('Mean step velocity Y at swing - ankle (m/s)', '***', ' (nonparametric)', '0.05 (median) vs 0.10 (median)'), ('Mean step velocity Y at swing - hip (m/s)', '***', '', '0.01±0.01 vs -0.01±0.01'), ('Mean step velocity Y at swing - lHindpaw (m/s)', '***', '', '0.06±0.02 vs 0.09±0.01')]\n",
      "----------------------------------------\n"
     ]
    }
   ],
   "source": [
    "print(f\"\\nComparison results for {limb}:\")\n",
    "for (key1, key2), result in data:\n",
    "    if ('ALL' in key1 and 'E_' in key2) and ('healthy' in key1 and 'sick' in key2) and ('left' in key1 and 'left' in key2):\n",
    "        print(f\"Comparison {key1} vs {key2}:\")\n",
    "        print(f\"\\tNumber of significant features: {result['n_significant']}\")\n",
    "        features_ac = [f for f in result['significant_features']]\n",
    "        print(f\"\\tSignificant features: {features_ac}\")\n",
    "        # plot_significant_features(result, title=f\"{key1} vs {key2}\", group1_df=feature_subsets[limb].get(key1), group2_df=feature_subsets[limb].get(key2), names=[key1, key2])\n",
    "        print(\"-\" * 40)\n",
    "\n",
    "rows = []\n",
    "\n",
    "for (key1, key2), result in comparison_results[limb]:\n",
    "    if ('ALL' in key1 and 'E_' in key2) and ('healthy' in key1 and 'sick' in key2) and ('left' in key1 and 'left' in key2):\n",
    "        for feat_tuple in result['significant_features']:\n",
    "            # feat_tuple looks like: (feature_name, '*', '(circular approx)', 'values...')\n",
    "            feature_name = feat_tuple[0]\n",
    "            values_str = feat_tuple[-1]  # last element is the values string\n",
    "\n",
    "            values_split = values_str.split(' vs ')\n",
    "\n",
    "            rows.append((feature_name, values_split[0], values_split[1]))\n",
    "\n",
    "# Create DataFrame\n",
    "all_vs_e_df = pd.DataFrame(rows, columns=[\"feature\", \"value 1\", \"value 2\"])\n",
    "\n",
    "# Save to CSV\n",
    "all_vs_e_df.to_csv(\"all_healthy_vs_e_sick.csv\", index=False)"
   ]
  },
  {
   "cell_type": "code",
   "execution_count": 143,
   "id": "c958ae60",
   "metadata": {},
   "outputs": [
    {
     "name": "stdout",
     "output_type": "stream",
     "text": [
      "\n",
      "Comparison results for hindlimb:\n",
      "Comparison sick_left_A_run vs sick_left_C_run:\n",
      "\tNumber of significant features: 16\n",
      "\tSignificant features: [('Mean angle acceleration during swing - rhindlimb - hip (rad/s^2)', '*', ' (circular approx)', '0.5±0.9 vs -0.7±0.9°'), ('Mean angle acceleration during swing - rhindlimb - lHindfingers (rad/s^2)', '*', ' (circular approx)', '0.2±0.7 vs 0.1±1.2°'), ('Mean angle during stance - rhindlimb - knee (°)', '*', ' (circular approx)', '1.6±0.1 vs 1.6±0.0°'), ('Mean angle during swing - rhindlimb - ankle (°)', '**', ' (circular approx)', '1.0±0.1 vs 1.1±0.0°'), ('Mean angle excursion - rhindlimb - lHindpaw (°)', '**', '', '57.51±1.89 vs 60.39±2.19'), ('Mean angle value - rhindlimb - lHindpaw (°)', '*', ' (circular approx)', '149.3±2.9 vs 146.9±1.8°'), ('Mean angle velocity - rhindlimb - lHindpaw (rad/s)', '*', ' (circular approx)', '0.0±0.1 vs 0.1±0.1°'), ('Mean angle velocity at peak - rhindlimb - lHindpaw (rad/s)', '*', ' (circular approx)', '2.9±2.9 vs 2.0±7.5°'), ('Mean angle velocity at swing - rhindlimb - ankle (rad/s)', '*', ' (circular approx)', '-0.8±5.3 vs 0.8±2.3°'), ('Mean angle velocity during swing - rhindlimb - ankle (rad/s)', '*', ' (circular approx)', '-0.3±0.6 vs -0.7±1.0°'), ('Mean phase acceleration at peak - rhindlimb - lHindpaw (rad/s^2)', '*', ' (circular approx)', '50.2±93.6 vs -105.0±69.5°'), ('Mean phase acceleration during swing - rhindlimb - hip (rad/s^2)', '*', ' (circular approx)', '0.5±0.9 vs -0.7±0.9°'), ('Mean phase during swing - rhindlimb - ankle (°)', '**', ' (circular approx)', '-0.9±0.0 vs -0.9±0.0°'), ('Mean phase velocity during swing - rhindlimb - knee (rad/s)', '*', ' (circular approx)', '0.8±1.0 vs -0.3±1.1°'), ('Mean step acceleration Y at touchdown - ankle (m/s^2)', '*', '', '5.02±0.78 vs 6.37±1.34'), ('Mean step jerk X during swing - hip (m/s^3)', '*', ' (nonparametric)', '-36.90 (median) vs -19.43 (median)')]\n",
      "----------------------------------------\n"
     ]
    }
   ],
   "source": [
    "limb = 'hindlimb'  # or 'forelimb'\n",
    "data = comparison_results[limb]\n",
    "\n",
    "print(f\"\\nComparison results for {limb}:\")\n",
    "for (key1, key2), result in data:\n",
    "    if ('A_' in key1 and 'C_' in key2) and ('sick' in key1 and 'sick' in key2) and ('left' in key1 and 'left' in key2):\n",
    "        print(f\"Comparison {key1} vs {key2}:\")\n",
    "        print(f\"\\tNumber of significant features: {result['n_significant']}\")\n",
    "        features_ac = [f for f in result['significant_features']]\n",
    "        print(f\"\\tSignificant features: {features_ac}\")\n",
    "        # plot_significant_features(result, title=f\"{key1} vs {key2}\", group1_df=feature_subsets[limb].get(key1), group2_df=feature_subsets[limb].get(key2), names=[key1, key2])\n",
    "        print(\"-\" * 40)"
   ]
  },
  {
   "cell_type": "code",
   "execution_count": 144,
   "id": "ee0d10ce",
   "metadata": {},
   "outputs": [
    {
     "name": "stdout",
     "output_type": "stream",
     "text": [
      "\n",
      "Comparison results for hindlimb:\n",
      "Comparison sick_left_B_run vs sick_left_C_run:\n",
      "\tNumber of significant features: 25\n",
      "\tSignificant features: [('Mean angle acceleration - rhindlimb - ankle (rad/s^2)', '*', ' (circular approx)', '-110.1±22.0 vs -86.6±13.9°'), ('Mean angle acceleration - rhindlimb - knee (rad/s^2)', '*', ' (circular approx)', '-147.0±24.8 vs -124.1±18.9°'), ('Mean angle acceleration at peak - rhindlimb - lHindpaw (rad/s^2)', '*', ' (circular approx)', '-165.5±64.3 vs -11.0±100.5°'), ('Mean angle during stance - rhindlimb - knee (°)', '*', ' (circular approx)', '1.6±0.0 vs 1.6±0.0°'), ('Mean angle velocity at peak - rhindlimb - lHindpaw (rad/s)', '*', ' (circular approx)', '0.8±3.1 vs 2.0±7.5°'), ('Mean angle velocity during swing - rhindlimb - lHindpaw (rad/s)', '*', ' (circular approx)', '0.1±0.5 vs 0.5±1.4°'), ('Mean phase acceleration at swing - rhindlimb - knee (rad/s^2)', '*', ' (circular approx)', '-81.5±64.0 vs 87.2±85.2°'), ('Mean phase velocity at stance - rhindlimb - knee (rad/s)', '*', ' (circular approx)', '-8.7±2.0 vs -6.5±1.8°'), ('Mean phase velocity at stance - rhindlimb - lHindpaw (rad/s)', '*', ' (circular approx)', '-0.4±3.0 vs 2.8±1.5°'), ('Mean step acceleration X at stance - hip (m/s^2)', '*', '', '-3.53±1.05 vs -2.12±1.31'), ('Mean step jerk X at stance - hip (m/s^3)', '*', '', '-14.23±162.83 vs 162.99±176.85'), ('Mean step jerk X during stance - hip (m/s^3)', '*', '', '45.77±19.16 vs 27.31±18.49'), ('Mean step jerk X during swing - ankle (m/s^3)', '*', '', '-316.14±123.01 vs -223.85±52.37'), ('Mean step jerk X during swing - hip (m/s^3)', '*', ' (nonparametric)', '-29.57 (median) vs -19.43 (median)'), ('Mean step jerk X during swing - knee (m/s^3)', '*', '', '-225.73±88.71 vs -152.73±39.71'), ('Mean step jerk Y during stance - ankle (m/s^3)', '**', '', '-50.75±25.75 vs -22.31±15.40'), ('Mean step length (m)', '*', '', '0.06±0.00 vs 0.06±0.00'), ('Mean step velocity X at peak - hip (m/s)', '**', '', '0.31±0.04 vs 0.25±0.04'), ('Mean step velocity X at stance - hip (m/s)', '*', '', '0.31±0.06 vs 0.25±0.03'), ('Mean step velocity X at touchdown - hip (m/s)', '*', '', '0.30±0.05 vs 0.26±0.03'), ('Mean step velocity X during swing - ankle (m/s)', '*', '', '0.46±0.07 vs 0.40±0.04'), ('Mean step velocity X during swing - hip (m/s)', '*', '', '0.31±0.05 vs 0.26±0.03'), ('Mean step velocity X during swing - knee (m/s)', '*', '', '0.42±0.07 vs 0.36±0.03'), ('Mean step velocity X during swing - lHindfingers (m/s)', '*', '', '0.58±0.10 vs 0.50±0.04'), ('Mean step velocity X during swing - lHindpaw (m/s)', '*', '', '0.55±0.09 vs 0.48±0.04')]\n",
      "----------------------------------------\n"
     ]
    }
   ],
   "source": [
    "data = comparison_results[limb]\n",
    "    \n",
    "print(f\"\\nComparison results for {limb}:\")\n",
    "for (key1, key2), result in data:\n",
    "    if ('B_' in key1 and 'C_' in key2) and ('sick' in key1 and 'sick' in key2) and ('left' in key1 and 'left' in key2):\n",
    "        print(f\"Comparison {key1} vs {key2}:\")\n",
    "        print(f\"\\tNumber of significant features: {result['n_significant']}\")\n",
    "        features_bc = [f for f in result['significant_features']]\n",
    "        print(f\"\\tSignificant features: {features_bc}\") # Only print feature names\n",
    "        # plot_significant_features(result, title=f\"{key1} vs {key2}\", group1_df=feature_subsets[limb].get(key1), group2_df=feature_subsets[limb].get(key2), names=[key1, key2])\n",
    "        print(\"-\" * 40)"
   ]
  },
  {
   "cell_type": "code",
   "execution_count": 145,
   "id": "e29b037c",
   "metadata": {},
   "outputs": [
    {
     "name": "stdout",
     "output_type": "stream",
     "text": [
      "\n",
      "Comparison results for hindlimb:\n",
      "Comparison sick_left_C_run vs sick_left_E_run:\n",
      "\tNumber of significant features: 50\n",
      "\tSignificant features: [('Mean angle acceleration at peak - rhindlimb - ankle (rad/s^2)', '*', ' (circular approx)', '-144.9±66.6 vs -20.1±86.3°'), ('Mean angle acceleration at peak - rhindlimb - lHindfingers (rad/s^2)', '*', ' (circular approx)', '-128.9±70.2 vs 65.5±86.2°'), ('Mean angle acceleration during swing - rhindlimb - hip (rad/s^2)', '*', ' (circular approx)', '-0.7±0.9 vs 0.4±1.3°'), ('Mean angle at stance - rhindlimb - lHindpaw (°)', '***', ' (circular approx)', '146.0±3.4 vs 151.3±1.8°'), ('Mean angle at touchdown - rhindlimb - hip (°)', '*', ' (circular approx)', '127.8±2.0 vs 130.3±2.0°'), ('Mean angle at touchdown - rhindlimb - lHindpaw (°)', '**', ' (circular approx)', '148.9±4.2 vs 154.7±2.5°'), ('Mean angle during stance - rhindlimb - ankle (°)', '*', ' (circular approx)', '1.2±0.1 vs 1.2±0.0°'), ('Mean angle during stance - rhindlimb - hip (°)', '*', ' (circular approx)', '1.7±0.1 vs 1.7±0.0°'), ('Mean angle during stance - rhindlimb - lHindpaw (°)', '**', ' (circular approx)', '2.4±0.0 vs 2.5±0.0°'), ('Mean angle during swing - rhindlimb - ankle (°)', '*', ' (circular approx)', '1.1±0.0 vs 1.1±0.0°'), ('Mean angle during swing - rhindlimb - hip (°)', '**', ' (circular approx)', '1.7±0.0 vs 1.8±0.1°'), ('Mean angle during swing - rhindlimb - lHindfingers (°)', '*', ' (circular approx)', '2.6±0.1 vs 2.7±0.1°'), ('Mean angle value - rhindlimb - ankle (°)', '**', ' (circular approx)', '65.9±2.3 vs 62.9±1.6°'), ('Mean angle value - rhindlimb - hip (°)', '**', ' (circular approx)', '98.2±3.1 vs 102.5±2.5°'), ('Mean angle value - rhindlimb - lHindpaw (°)', '**', ' (circular approx)', '146.9±1.8 vs 149.4±1.7°'), ('Mean angle velocity at swing - rhindlimb - lHindfingers (rad/s)', '*', ' (circular approx)', '-15.5±2.8 vs -12.6±3.0°'), ('Mean phase acceleration during swing - rhindlimb - hip (rad/s^2)', '*', ' (circular approx)', '-0.7±0.9 vs 0.4±1.3°'), ('Mean phase at stance - rhindlimb - ankle (°)', '*', ' (circular approx)', '-30.8±3.4 vs -27.3±2.1°'), ('Mean phase at touchdown - rhindlimb - ankle (°)', '**', ' (circular approx)', '-28.3±3.4 vs -24.5±1.7°'), ('Mean phase at touchdown - rhindlimb - hip (°)', '*', ' (circular approx)', '-52.2±2.0 vs -49.7±2.0°'), ('Mean phase at touchdown - rhindlimb - knee (°)', '*', ' (circular approx)', '-141.4±2.3 vs -139.2±1.8°'), ('Mean phase at touchdown - rhindlimb - lHindpaw (°)', '**', ' (circular approx)', '2.8±3.1 vs 0.8±1.9°'), ('Mean phase during stance - rhindlimb - hip (°)', '*', ' (circular approx)', '-1.5±0.1 vs -1.4±0.0°'), ('Mean phase during swing - rhindlimb - ankle (°)', '***', ' (circular approx)', '-0.9±0.0 vs -0.8±0.1°'), ('Mean phase during swing - rhindlimb - hip (°)', '**', ' (circular approx)', '-1.4±0.0 vs -1.3±0.1°'), ('Mean phase during swing - rhindlimb - knee (°)', '*', ' (circular approx)', '-3.0±0.0 vs -2.9±0.1°'), ('Mean phase during swing - rhindlimb - lHindpaw (°)', '*', ' (circular approx)', '-0.5±0.1 vs -0.4±0.1°'), ('Mean phase value - rhindlimb - ankle (°)', '**', ' (circular approx)', '-55.3±3.9 vs -49.8±3.1°'), ('Mean phase value - rhindlimb - hip (°)', '**', ' (circular approx)', '-81.8±3.1 vs -77.5±2.5°'), ('Mean phase velocity - rhindlimb - knee (rad/s)', '*', ' (circular approx)', '0.0±0.1 vs 0.0±0.0°'), ('Mean phase velocity at stance - rhindlimb - ankle (rad/s)', '*', ' (circular approx)', '-8.7±2.3 vs -6.6±1.8°'), ('Mean phase velocity at swing - rhindlimb - lHindpaw (rad/s)', '*', ' (circular approx)', '-15.5±2.8 vs -12.6±3.0°'), ('Mean phase velocity at touchdown - rhindlimb - ankle (rad/s)', '*', ' (circular approx)', '-10.7±2.2 vs -8.4±1.8°'), ('Mean step acceleration Y at stance - lHindpaw (m/s^2)', '*', '', '10.00±2.44 vs 7.30±2.01'), ('Mean step acceleration Y at touchdown - ankle (m/s^2)', '**', '', '6.37±1.34 vs 4.43±1.53'), ('Mean step acceleration Y at touchdown - lHindfingers (m/s^2)', '*', '', '8.54±2.47 vs 6.45±1.57'), ('Mean step acceleration Y at touchdown - lHindpaw (m/s^2)', '*', '', '10.11±3.06 vs 6.96±2.07'), ('Mean step acceleration Y during stance - lHindfingers (m/s^2)', '*', '', '1.23±0.32 vs 0.94±0.23'), ('Mean step acceleration Y during swing - lHindfingers (m/s^2)', '*', '', '-1.61±0.33 vs -1.28±0.26'), ('Mean step jerk X at touchdown - lHindfingers (m/s^3)', '*', ' (nonparametric)', '1706.61 (median) vs 1225.91 (median)'), ('Mean step jerk X at touchdown - lHindpaw (m/s^3)', '*', ' (nonparametric)', '1812.65 (median) vs 1292.31 (median)'), ('Mean step jerk Y during stance - lHindpaw (m/s^3)', '*', ' (nonparametric)', '-32.04 (median) vs -12.73 (median)'), ('Mean step jerk Y during swing - lHindpaw (m/s^3)', '*', '', '19.79±28.35 vs -5.81±19.99'), ('Mean step velocity X at swing - ankle (m/s)', '*', '', '0.25±0.03 vs 0.22±0.03'), ('Mean step velocity X during stance - ankle (m/s)', '*', ' (nonparametric)', '0.10 (median) vs 0.08 (median)'), ('Mean step velocity X during swing - hip (m/s)', '*', '', '0.26±0.03 vs 0.24±0.02'), ('Mean step velocity X during swing - knee (m/s)', '*', '', '0.36±0.03 vs 0.33±0.03'), ('Mean step velocity X during swing - lHindfingers (m/s)', '*', '', '0.50±0.04 vs 0.46±0.03'), ('Mean step velocity X during swing - lHindpaw (m/s)', '*', '', '0.48±0.04 vs 0.44±0.03'), ('Mean step velocity Y during swing - lHindpaw (m/s)', '*', ' (nonparametric)', '-0.02 (median) vs -0.02 (median)')]\n",
      "----------------------------------------\n"
     ]
    }
   ],
   "source": [
    "data = comparison_results[limb]\n",
    "    \n",
    "print(f\"\\nComparison results for {limb}:\")\n",
    "## print the data for C vs E\n",
    "for (key1, key2), result in data:\n",
    "    if 'C_' in key1 and 'E_' in key2 and ('sick' in key1 and 'sick' in key2) and ('left' in key1 and 'left' in key2):\n",
    "        print(f\"Comparison {key1} vs {key2}:\")\n",
    "        print(f\"\\tNumber of significant features: {result['n_significant']}\")\n",
    "        features_ce = [f for f in result['significant_features']]\n",
    "        print(f\"\\tSignificant features: {features_ce}\")  # Only print feature names with 'hindlimb' or 'step' but not 'm/s'\n",
    "        # plot_significant_features(result, title=f\"{key1} vs {key2}\", group1_df=feature_subsets[limb].get(key1), group2_df=feature_subsets[limb].get(key2), names=[key1, key2])\n",
    "        print(\"-\" * 40)"
   ]
  },
  {
   "cell_type": "code",
   "execution_count": 146,
   "id": "86c953b6",
   "metadata": {},
   "outputs": [
    {
     "name": "stdout",
     "output_type": "stream",
     "text": [
      "\n",
      "Intersection of significant features across comparisons:\n",
      "Total features in intersection: 0\n",
      "Features: []\n",
      "----------------------------------------\n",
      "Intersection of significant features for A vs C and C vs E:\n",
      "Total features in intersection: 6\n",
      "Features: ['Mean angle acceleration during swing - rhindlimb - hip (rad/s^2)', 'Mean angle during swing - rhindlimb - ankle (°)', 'Mean angle value - rhindlimb - lHindpaw (°)', 'Mean phase acceleration during swing - rhindlimb - hip (rad/s^2)', 'Mean phase during swing - rhindlimb - ankle (°)', 'Mean step acceleration Y at touchdown - ankle (m/s^2)']\n",
      "----------------------------------------\n",
      "Intersection of significant features for B vs C and C vs E:\n",
      "Total features in intersection: 4\n",
      "Features: ['Mean step velocity X during swing - hip (m/s)', 'Mean step velocity X during swing - knee (m/s)', 'Mean step velocity X during swing - lHindfingers (m/s)', 'Mean step velocity X during swing - lHindpaw (m/s)']\n",
      "----------------------------------------\n",
      "\n",
      "Unique significant features for each comparison:\n",
      "Number of unique features in A vs C: 16\n",
      "A vs C unique features: ['Mean angle acceleration during swing - rhindlimb - hip (rad/s^2)', 'Mean angle acceleration during swing - rhindlimb - lHindfingers (rad/s^2)', 'Mean angle during stance - rhindlimb - knee (°)', 'Mean angle during swing - rhindlimb - ankle (°)', 'Mean angle excursion - rhindlimb - lHindpaw (°)', 'Mean angle value - rhindlimb - lHindpaw (°)', 'Mean angle velocity - rhindlimb - lHindpaw (rad/s)', 'Mean angle velocity at peak - rhindlimb - lHindpaw (rad/s)', 'Mean angle velocity at swing - rhindlimb - ankle (rad/s)', 'Mean angle velocity during swing - rhindlimb - ankle (rad/s)', 'Mean phase acceleration at peak - rhindlimb - lHindpaw (rad/s^2)', 'Mean phase acceleration during swing - rhindlimb - hip (rad/s^2)', 'Mean phase during swing - rhindlimb - ankle (°)', 'Mean phase velocity during swing - rhindlimb - knee (rad/s)', 'Mean step acceleration Y at touchdown - ankle (m/s^2)', 'Mean step jerk X during swing - hip (m/s^3)']\n",
      "----------------------------------------\n",
      "Number of unique features in B vs C: 25\n",
      "B vs C unique features: ['Mean angle acceleration - rhindlimb - ankle (rad/s^2)', 'Mean angle acceleration - rhindlimb - knee (rad/s^2)', 'Mean angle acceleration at peak - rhindlimb - lHindpaw (rad/s^2)', 'Mean angle during stance - rhindlimb - knee (°)', 'Mean angle velocity at peak - rhindlimb - lHindpaw (rad/s)', 'Mean angle velocity during swing - rhindlimb - lHindpaw (rad/s)', 'Mean phase acceleration at swing - rhindlimb - knee (rad/s^2)', 'Mean phase velocity at stance - rhindlimb - knee (rad/s)', 'Mean phase velocity at stance - rhindlimb - lHindpaw (rad/s)', 'Mean step acceleration X at stance - hip (m/s^2)', 'Mean step jerk X at stance - hip (m/s^3)', 'Mean step jerk X during stance - hip (m/s^3)', 'Mean step jerk X during swing - ankle (m/s^3)', 'Mean step jerk X during swing - hip (m/s^3)', 'Mean step jerk X during swing - knee (m/s^3)', 'Mean step jerk Y during stance - ankle (m/s^3)', 'Mean step length (m)', 'Mean step velocity X at peak - hip (m/s)', 'Mean step velocity X at stance - hip (m/s)', 'Mean step velocity X at touchdown - hip (m/s)', 'Mean step velocity X during swing - ankle (m/s)', 'Mean step velocity X during swing - hip (m/s)', 'Mean step velocity X during swing - knee (m/s)', 'Mean step velocity X during swing - lHindfingers (m/s)', 'Mean step velocity X during swing - lHindpaw (m/s)']\n",
      "----------------------------------------\n",
      "Number of unique features in C vs E: 50\n",
      "C vs E unique features: ['Mean angle acceleration at peak - rhindlimb - ankle (rad/s^2)', 'Mean angle acceleration at peak - rhindlimb - lHindfingers (rad/s^2)', 'Mean angle acceleration during swing - rhindlimb - hip (rad/s^2)', 'Mean angle at stance - rhindlimb - lHindpaw (°)', 'Mean angle at touchdown - rhindlimb - hip (°)', 'Mean angle at touchdown - rhindlimb - lHindpaw (°)', 'Mean angle during stance - rhindlimb - ankle (°)', 'Mean angle during stance - rhindlimb - hip (°)', 'Mean angle during stance - rhindlimb - lHindpaw (°)', 'Mean angle during swing - rhindlimb - ankle (°)', 'Mean angle during swing - rhindlimb - hip (°)', 'Mean angle during swing - rhindlimb - lHindfingers (°)', 'Mean angle value - rhindlimb - ankle (°)', 'Mean angle value - rhindlimb - hip (°)', 'Mean angle value - rhindlimb - lHindpaw (°)', 'Mean angle velocity at swing - rhindlimb - lHindfingers (rad/s)', 'Mean phase acceleration during swing - rhindlimb - hip (rad/s^2)', 'Mean phase at stance - rhindlimb - ankle (°)', 'Mean phase at touchdown - rhindlimb - ankle (°)', 'Mean phase at touchdown - rhindlimb - hip (°)', 'Mean phase at touchdown - rhindlimb - knee (°)', 'Mean phase at touchdown - rhindlimb - lHindpaw (°)', 'Mean phase during stance - rhindlimb - hip (°)', 'Mean phase during swing - rhindlimb - ankle (°)', 'Mean phase during swing - rhindlimb - hip (°)', 'Mean phase during swing - rhindlimb - knee (°)', 'Mean phase during swing - rhindlimb - lHindpaw (°)', 'Mean phase value - rhindlimb - ankle (°)', 'Mean phase value - rhindlimb - hip (°)', 'Mean phase velocity - rhindlimb - knee (rad/s)', 'Mean phase velocity at stance - rhindlimb - ankle (rad/s)', 'Mean phase velocity at swing - rhindlimb - lHindpaw (rad/s)', 'Mean phase velocity at touchdown - rhindlimb - ankle (rad/s)', 'Mean step acceleration Y at stance - lHindpaw (m/s^2)', 'Mean step acceleration Y at touchdown - ankle (m/s^2)', 'Mean step acceleration Y at touchdown - lHindfingers (m/s^2)', 'Mean step acceleration Y at touchdown - lHindpaw (m/s^2)', 'Mean step acceleration Y during stance - lHindfingers (m/s^2)', 'Mean step acceleration Y during swing - lHindfingers (m/s^2)', 'Mean step jerk X at touchdown - lHindfingers (m/s^3)', 'Mean step jerk X at touchdown - lHindpaw (m/s^3)', 'Mean step jerk Y during stance - lHindpaw (m/s^3)', 'Mean step jerk Y during swing - lHindpaw (m/s^3)', 'Mean step velocity X at swing - ankle (m/s)', 'Mean step velocity X during stance - ankle (m/s)', 'Mean step velocity X during swing - hip (m/s)', 'Mean step velocity X during swing - knee (m/s)', 'Mean step velocity X during swing - lHindfingers (m/s)', 'Mean step velocity X during swing - lHindpaw (m/s)', 'Mean step velocity Y during swing - lHindpaw (m/s)']\n",
      "----------------------------------------\n",
      "Globally unique features across all comparisons:\n",
      "Total globally unique features: 65\n",
      "Globally unique features: ['Mean angle acceleration - rhindlimb - ankle (rad/s^2)', 'Mean angle acceleration - rhindlimb - knee (rad/s^2)', 'Mean angle acceleration at peak - rhindlimb - ankle (rad/s^2)', 'Mean angle acceleration at peak - rhindlimb - lHindfingers (rad/s^2)', 'Mean angle acceleration at peak - rhindlimb - lHindpaw (rad/s^2)', 'Mean angle acceleration during swing - rhindlimb - lHindfingers (rad/s^2)', 'Mean angle at stance - rhindlimb - lHindpaw (°)', 'Mean angle at touchdown - rhindlimb - hip (°)', 'Mean angle at touchdown - rhindlimb - lHindpaw (°)', 'Mean angle during stance - rhindlimb - ankle (°)', 'Mean angle during stance - rhindlimb - hip (°)', 'Mean angle during stance - rhindlimb - lHindpaw (°)', 'Mean angle during swing - rhindlimb - hip (°)', 'Mean angle during swing - rhindlimb - lHindfingers (°)', 'Mean angle excursion - rhindlimb - lHindpaw (°)', 'Mean angle value - rhindlimb - ankle (°)', 'Mean angle value - rhindlimb - hip (°)', 'Mean angle velocity - rhindlimb - lHindpaw (rad/s)', 'Mean angle velocity at swing - rhindlimb - ankle (rad/s)', 'Mean angle velocity at swing - rhindlimb - lHindfingers (rad/s)', 'Mean angle velocity during swing - rhindlimb - ankle (rad/s)', 'Mean angle velocity during swing - rhindlimb - lHindpaw (rad/s)', 'Mean phase acceleration at peak - rhindlimb - lHindpaw (rad/s^2)', 'Mean phase acceleration at swing - rhindlimb - knee (rad/s^2)', 'Mean phase at stance - rhindlimb - ankle (°)', 'Mean phase at touchdown - rhindlimb - ankle (°)', 'Mean phase at touchdown - rhindlimb - hip (°)', 'Mean phase at touchdown - rhindlimb - knee (°)', 'Mean phase at touchdown - rhindlimb - lHindpaw (°)', 'Mean phase during stance - rhindlimb - hip (°)', 'Mean phase during swing - rhindlimb - hip (°)', 'Mean phase during swing - rhindlimb - knee (°)', 'Mean phase during swing - rhindlimb - lHindpaw (°)', 'Mean phase value - rhindlimb - ankle (°)', 'Mean phase value - rhindlimb - hip (°)', 'Mean phase velocity - rhindlimb - knee (rad/s)', 'Mean phase velocity at stance - rhindlimb - ankle (rad/s)', 'Mean phase velocity at stance - rhindlimb - knee (rad/s)', 'Mean phase velocity at stance - rhindlimb - lHindpaw (rad/s)', 'Mean phase velocity at swing - rhindlimb - lHindpaw (rad/s)', 'Mean phase velocity at touchdown - rhindlimb - ankle (rad/s)', 'Mean phase velocity during swing - rhindlimb - knee (rad/s)', 'Mean step acceleration X at stance - hip (m/s^2)', 'Mean step acceleration Y at stance - lHindpaw (m/s^2)', 'Mean step acceleration Y at touchdown - lHindfingers (m/s^2)', 'Mean step acceleration Y at touchdown - lHindpaw (m/s^2)', 'Mean step acceleration Y during stance - lHindfingers (m/s^2)', 'Mean step acceleration Y during swing - lHindfingers (m/s^2)', 'Mean step jerk X at stance - hip (m/s^3)', 'Mean step jerk X at touchdown - lHindfingers (m/s^3)', 'Mean step jerk X at touchdown - lHindpaw (m/s^3)', 'Mean step jerk X during stance - hip (m/s^3)', 'Mean step jerk X during swing - ankle (m/s^3)', 'Mean step jerk X during swing - knee (m/s^3)', 'Mean step jerk Y during stance - ankle (m/s^3)', 'Mean step jerk Y during stance - lHindpaw (m/s^3)', 'Mean step jerk Y during swing - lHindpaw (m/s^3)', 'Mean step length (m)', 'Mean step velocity X at peak - hip (m/s)', 'Mean step velocity X at stance - hip (m/s)', 'Mean step velocity X at swing - ankle (m/s)', 'Mean step velocity X at touchdown - hip (m/s)', 'Mean step velocity X during stance - ankle (m/s)', 'Mean step velocity X during swing - ankle (m/s)', 'Mean step velocity Y during swing - lHindpaw (m/s)']\n"
     ]
    }
   ],
   "source": [
    "feature_intersections = intersect_significant_features(features_ac, features_bc, features_ce)\n",
    "feature_intersections_ac_ce = intersect_significant_features(features_ac, features_ce)\n",
    "feature_intersections_bc_ce = intersect_significant_features(features_bc, features_ce)\n",
    "feature_exclusions = exclude_intersection_features(features_ac, features_bc, features_ce)\n",
    "global_unique = globally_unique_features(features_ac, features_bc, features_ce)\n",
    "\n",
    "print(\"\\nIntersection of significant features across comparisons:\")\n",
    "print(f\"Total features in intersection: {len(feature_intersections)}\")\n",
    "print(f\"Features: {sorted(feature_intersections)}\")\n",
    "print(\"-\" * 40)\n",
    "\n",
    "print(\"Intersection of significant features for A vs C and C vs E:\")\n",
    "print(f\"Total features in intersection: {len(feature_intersections_ac_ce)}\")\n",
    "print(f\"Features: {sorted(feature_intersections_ac_ce)}\")\n",
    "print(\"-\" * 40)\n",
    "\n",
    "print(\"Intersection of significant features for B vs C and C vs E:\")\n",
    "print(f\"Total features in intersection: {len(feature_intersections_bc_ce)}\")\n",
    "print(f\"Features: {sorted(feature_intersections_bc_ce)}\")\n",
    "print(\"-\" * 40)\n",
    "\n",
    "print(\"\\nUnique significant features for each comparison:\")\n",
    "print(\"Number of unique features in A vs C:\", len(feature_exclusions[0]))\n",
    "print(\"A vs C unique features:\", sorted(feature_exclusions[0]))\n",
    "print(\"-\" *40)\n",
    "print(\"Number of unique features in B vs C:\", len(feature_exclusions[1]))\n",
    "print(\"B vs C unique features:\", sorted(feature_exclusions[1]))\n",
    "print(\"-\" *40)\n",
    "print(\"Number of unique features in C vs E:\", len(feature_exclusions[2]))\n",
    "print(\"C vs E unique features:\", sorted(feature_exclusions[2]))\n",
    "print(\"-\" *40)\n",
    "\n",
    "print(\"Globally unique features across all comparisons:\")\n",
    "print(f\"Total globally unique features: {len(global_unique)}\")\n",
    "print(f\"Globally unique features: {sorted(global_unique)}\")"
   ]
  },
  {
   "cell_type": "code",
   "execution_count": 147,
   "id": "bae5ed46",
   "metadata": {},
   "outputs": [],
   "source": [
    "from sklearn.preprocessing import LabelEncoder\n",
    "from sklearn.preprocessing import RobustScaler, StandardScaler\n",
    "\n",
    "def preprocess_data(df: pd.DataFrame):\n",
    "    data = df.copy()\n",
    "\n",
    "    label_encoder_dataset = LabelEncoder()\n",
    "    label_encoder_mouse = LabelEncoder()\n",
    "\n",
    "    data[\"Dataset_Encoded\"] = label_encoder_dataset.fit_transform(data[\"Dataset\"])\n",
    "    data[\"Mouse_Encoded\"] = label_encoder_mouse.fit_transform(data[\"Mouse\"])\n",
    "\n",
    "    dataset_label_map = dict(zip(data[\"Dataset_Encoded\"], data[\"Dataset\"]))\n",
    "    mouse_label_map = dict(zip(data[\"Mouse_Encoded\"], data[\"Mouse\"]))\n",
    "    label_cols = [\"Dataset_Encoded\", \"Mouse_Encoded\"]\n",
    "\n",
    "    data = data.drop(columns=[\"Dataset\", \"Mouse\"])\n",
    "    features = [col for col in data.columns if col not in label_cols]\n",
    "\n",
    "    ## Convert angle features to radians if they contain '°'\n",
    "    angular_features = [f for f in features if ('angle' in f.lower() or 'phase' in f.lower())\n",
    "                        and 'excursion' not in f.lower()\n",
    "                        and not f.lower().endswith('_sin')\n",
    "                        and not f.lower().endswith('_cos')]\n",
    "    for feature in angular_features:\n",
    "        if '°' in feature:\n",
    "            data[feature] = np.deg2rad(data[feature])\n",
    "\n",
    "    ## Linearize angular features\n",
    "    trig_features = {\n",
    "        f\"{feature}_cos\": np.cos(data[feature]) for feature in angular_features\n",
    "    }\n",
    "    trig_features.update({\n",
    "        f\"{feature}_sin\": np.sin(data[feature]) for feature in angular_features\n",
    "    })\n",
    "    trig_df = pd.DataFrame(trig_features, index=data.index)    \n",
    "    data = pd.concat([data.drop(columns=angular_features), trig_df], axis=1)\n",
    "    features = [col for col in data.columns if col not in label_cols]   \n",
    "\n",
    "    ## Scale features\n",
    "    scaler = StandardScaler()#RobustScaler()\n",
    "    X_scaled = scaler.fit_transform(data[features])\n",
    "    y = data[label_cols].values\n",
    "\n",
    "    df_preprocessed = pd.DataFrame(X_scaled, columns=features)\n",
    "    df_preprocessed[label_cols] = y\n",
    "\n",
    "    print(\"[DEBUG] Dataset Label Map:\", dataset_label_map)\n",
    "    print(\"[DEBUG] Mouse Label Map:\", mouse_label_map)\n",
    "\n",
    "    return df_preprocessed, dataset_label_map, mouse_label_map, label_cols"
   ]
  },
  {
   "cell_type": "code",
   "execution_count": 148,
   "id": "e33f3998",
   "metadata": {},
   "outputs": [
    {
     "name": "stdout",
     "output_type": "stream",
     "text": [
      "[DEBUG] Dataset Label Map: {0: 'A_postDLC', 1: 'A_preDLC', 2: 'B_postDLC', 3: 'B_preDLC', 4: 'C_postDLC', 5: 'C_preDLC', 6: 'D_postDLC', 7: 'D_preDLC', 8: 'E_postDLC', 9: 'E_preDLC'}\n",
      "[DEBUG] Mouse Label Map: {10: 'mouse1_left', 21: 'mouse2_left', 32: 'mouse3_left', 43: 'mouse4_left', 45: 'mouse5_left', 46: 'mouse6_left', 47: 'mouse7_left', 48: 'mouse8_left', 49: 'mouse9_left', 0: 'mouse10_left', 1: 'mouse11_left', 2: 'mouse12_left', 3: 'mouse13_left', 4: 'mouse14_left', 5: 'mouse15_left', 6: 'mouse16_left', 7: 'mouse17_left', 8: 'mouse18_left', 9: 'mouse19_left', 11: 'mouse20_left', 12: 'mouse21_left', 13: 'mouse22_left', 14: 'mouse23_left', 15: 'mouse24_left', 16: 'mouse25_left', 17: 'mouse26_left', 18: 'mouse27_left', 19: 'mouse28_left', 20: 'mouse29_left', 22: 'mouse30_left', 23: 'mouse31_left', 24: 'mouse32_left', 25: 'mouse33_left', 26: 'mouse34_left', 27: 'mouse35_left', 28: 'mouse36_left', 29: 'mouse37_left', 30: 'mouse38_left', 31: 'mouse39_left', 33: 'mouse40_left', 35: 'mouse42_left', 44: 'mouse50_left', 34: 'mouse41_left', 36: 'mouse43_left', 37: 'mouse44_left', 38: 'mouse45_left', 39: 'mouse46_left', 40: 'mouse47_left', 41: 'mouse48_left', 42: 'mouse49_left'}\n"
     ]
    },
    {
     "name": "stderr",
     "output_type": "stream",
     "text": [
      "/home/filthyweeb/Documents/SeriousStuff/Work/KU/MScThesis/.venv/lib64/python3.13/site-packages/sklearn/utils/deprecation.py:151: FutureWarning:\n",
      "\n",
      "'force_all_finite' was renamed to 'ensure_all_finite' in 1.6 and will be removed in 1.8.\n",
      "\n",
      "/home/filthyweeb/Documents/SeriousStuff/Work/KU/MScThesis/.venv/lib64/python3.13/site-packages/umap/umap_.py:1952: UserWarning:\n",
      "\n",
      "n_jobs value 1 overridden to 1 by setting random_state. Use no seed for parallelism.\n",
      "\n",
      "/home/filthyweeb/Documents/SeriousStuff/Work/KU/MScThesis/.venv/lib64/python3.13/site-packages/sklearn/utils/deprecation.py:151: FutureWarning:\n",
      "\n",
      "'force_all_finite' was renamed to 'ensure_all_finite' in 1.6 and will be removed in 1.8.\n",
      "\n"
     ]
    }
   ],
   "source": [
    "from src.pain_analysis import perform_dimensionality_reduction, aggregate_features\n",
    "\n",
    "left_hindlimb_features_df = hindlimb_features_df[hindlimb_features_df['Mouse'].str.lower().str.contains('left')]\n",
    "left_hindlimb_features_df = left_hindlimb_features_df.drop(columns=['Number of steps (#)'])\n",
    "preprocessed_data, dataset_label_map, mouse_label_map, label_cols = preprocess_data(left_hindlimb_features_df)\n",
    "\n",
    "X_agg, y_mouse, y_dataset = aggregate_features(preprocessed_data, label_cols, method=\"median\")\n",
    "\n",
    "umap_reducer, umap_plot_df = perform_dimensionality_reduction(\n",
    "        X_agg, y_mouse, y_dataset,\n",
    "        dataset_label_map, mouse_label_map,\n",
    "        method=\"UMAP\", n_components=3,\n",
    "        target_metric='categorical',\n",
    "        target_weight=0,\n",
    "        n_neighbors=15,\n",
    "        min_dist=0.05,\n",
    "        plot=False, save=False\n",
    "    )"
   ]
  },
  {
   "cell_type": "code",
   "execution_count": 149,
   "id": "1d1e1efb",
   "metadata": {},
   "outputs": [
    {
     "data": {
      "application/vnd.plotly.v1+json": {
       "config": {
        "plotlyServerURL": "https://plot.ly"
       },
       "data": [
        {
         "customdata": {
          "bdata": "AAAACgAVACAAKwAtAC4ALwAwADE=",
          "dtype": "i1",
          "shape": "10, 2"
         },
         "hovertemplate": "<b>%{hovertext}</b><br><br>ColorKey=A_postDLC<br>UMAP1=%{x}<br>UMAP2=%{y}<br>UMAP3=%{z}<br>Dataset=%{customdata[0]}<br>Mouse=%{customdata[1]}<extra></extra>",
         "hovertext": [
          "mouse10_left",
          "mouse1_left",
          "mouse2_left",
          "mouse3_left",
          "mouse4_left",
          "mouse5_left",
          "mouse6_left",
          "mouse7_left",
          "mouse8_left",
          "mouse9_left"
         ],
         "legendgroup": "A_postDLC",
         "marker": {
          "color": "#636EFA",
          "line": {
           "color": "black",
           "width": 0.3
          },
          "size": 4,
          "symbol": "circle"
         },
         "mode": "markers",
         "name": "A_postDLC",
         "scene": "scene",
         "showlegend": true,
         "type": "scatter3d",
         "x": {
          "bdata": "At2UQIwRlUCWurhA/0afQGaIs0BNOqBArWKkQKx9wECGcKNA4GKwQA==",
          "dtype": "f4"
         },
         "y": {
          "bdata": "jxB4QB8kdUC2C0JAwdRoQGvGRUCCT05AAYFPQF3QR0DUoFNAe1Y/QA==",
          "dtype": "f4"
         },
         "z": {
          "bdata": "WwZAQVOpQEE9uS9BANZCQQ/5M0H4yDxBGxE5QRF7L0HsXj9BgncyQQ==",
          "dtype": "f4"
         }
        },
        {
         "customdata": {
          "bdata": "AQADAQMCAwMDBAMFAwYDBwMIAwkBCgMLBQwFDQUOBQ8FEAURBRIFEwUUARUFFgcXBxgHGQcaBxsHHAcdBx4HHwEgByEJIgcjCSQJJQkmCScJKAkpCSoBKwcsAS0BLgEvATABMQ==",
          "dtype": "i1",
          "shape": "50, 2"
         },
         "hovertemplate": "<b>%{hovertext}</b><br><br>ColorKey=Pre<br>UMAP1=%{x}<br>UMAP2=%{y}<br>UMAP3=%{z}<br>Dataset=%{customdata[0]}<br>Mouse=%{customdata[1]}<extra></extra>",
         "hovertext": [
          "mouse10_left",
          "mouse11_left",
          "mouse12_left",
          "mouse13_left",
          "mouse14_left",
          "mouse15_left",
          "mouse16_left",
          "mouse17_left",
          "mouse18_left",
          "mouse19_left",
          "mouse1_left",
          "mouse20_left",
          "mouse21_left",
          "mouse22_left",
          "mouse23_left",
          "mouse24_left",
          "mouse25_left",
          "mouse26_left",
          "mouse27_left",
          "mouse28_left",
          "mouse29_left",
          "mouse2_left",
          "mouse30_left",
          "mouse31_left",
          "mouse32_left",
          "mouse33_left",
          "mouse34_left",
          "mouse35_left",
          "mouse36_left",
          "mouse37_left",
          "mouse38_left",
          "mouse39_left",
          "mouse3_left",
          "mouse40_left",
          "mouse41_left",
          "mouse42_left",
          "mouse43_left",
          "mouse44_left",
          "mouse45_left",
          "mouse46_left",
          "mouse47_left",
          "mouse48_left",
          "mouse49_left",
          "mouse4_left",
          "mouse50_left",
          "mouse5_left",
          "mouse6_left",
          "mouse7_left",
          "mouse8_left",
          "mouse9_left"
         ],
         "legendgroup": "Pre",
         "marker": {
          "color": "#7f7f7f",
          "line": {
           "color": "black",
           "width": 0.3
          },
          "size": 4,
          "symbol": "circle"
         },
         "mode": "markers",
         "name": "Pre",
         "scene": "scene",
         "showlegend": true,
         "type": "scatter3d",
         "x": {
          "bdata": "3Kv0QNIcykAoCMlArtDAQIgUzUC7E9BAwui8QChzxkAwucVA7mvSQOAlrUCOTstAeO6oQOElqkABz6tANcGwQE+ptkAPkqhALZOrQM+NrEDH8ulAqF3kQNCXskB6WNlARyX3QFJ08UDzBOtADej2QGoi2kCAh/1APjEAQfGi3UCQSutAPiXRQCFIAUEDe+lAGCz6QP9l10D3Q/5AyTDWQFIS+kBFSLNA7RvYQK0/50DvsOFAQ//WQK8S7UB6FOJAjO7lQIBr6UA=",
          "dtype": "f4"
         },
         "y": {
          "bdata": "rwCcQDorwkD1E5ZAcybDQEP6vkDBOKBALXi9QF32n0BSA6lAXe65QHwVX0CfF6JAfmDOQHMKzkBKMsZAW/DFQGOwpkCZzspA/Z3EQJS3zUCim6dA2h2WQFlNwEAwt7pA2TOqQG2RskCQsb9A9RCvQMLjtEBAwq5AhEypQGdqqEBROJ9ATo29QEfeu0ARrrJAuM3AQJE+zkDeQMBAOOzLQJeSoEDCnMFApqqdQIC8k0ApKMNAOmGeQI0YmEBVE6JAJTivQAiimkA=",
          "dtype": "f4"
         },
         "z": {
          "bdata": "/REiQXdxGkFtXSFBj9YfQYaXGEHuJiRBVDQcQQW9GUG8bRZBRT4YQU61OkGbAhVBqLknQaNILkHJsC1BCucnQZsOHkFHgixBUMoyQbRuJUGp5S9BkBYmQfNEIkGYqSlB5mIpQcRKMkENSCtBv1Y3QTNRNUG+mzFBitUrQfYvPEFO/x1BqEguQfbJI0FxxTJBx3kgQSgEI0FIQCFBmrEgQYCyJ0GWrStBIeU/QRtAIUE49ihB8KIjQWAMHkFv3iRBgzgjQSrzKEE=",
          "dtype": "f4"
         }
        },
        {
         "customdata": {
          "bdata": "AgECAgIDAgQCBQIGAgcCCAIJAgs=",
          "dtype": "i1",
          "shape": "10, 2"
         },
         "hovertemplate": "<b>%{hovertext}</b><br><br>ColorKey=B_postDLC<br>UMAP1=%{x}<br>UMAP2=%{y}<br>UMAP3=%{z}<br>Dataset=%{customdata[0]}<br>Mouse=%{customdata[1]}<extra></extra>",
         "hovertext": [
          "mouse11_left",
          "mouse12_left",
          "mouse13_left",
          "mouse14_left",
          "mouse15_left",
          "mouse16_left",
          "mouse17_left",
          "mouse18_left",
          "mouse19_left",
          "mouse20_left"
         ],
         "legendgroup": "B_postDLC",
         "marker": {
          "color": "#EF553B",
          "line": {
           "color": "black",
           "width": 0.3
          },
          "size": 4,
          "symbol": "circle"
         },
         "mode": "markers",
         "name": "B_postDLC",
         "scene": "scene",
         "showlegend": true,
         "type": "scatter3d",
         "x": {
          "bdata": "SpeXQDz2oEB5maJA82naQJKh1EA206JAoNzWQBYdnUDuw89ARCmqQA==",
          "dtype": "f4"
         },
         "y": {
          "bdata": "oZCMQE+shkA8X4lAIwtxQOseXkC6m4ZA/sJhQCR+iEC5HWpAfyWGQA==",
          "dtype": "f4"
         },
         "z": {
          "bdata": "Iy85QdK1MEE2BTlBdZ4jQXhTIUE3Vy9BzTchQbBHN0HtSyVBfgcuQQ==",
          "dtype": "f4"
         }
        },
        {
         "customdata": {
          "bdata": "BAwEDQQOBA8EEAQRBBIEEwQUBBY=",
          "dtype": "i1",
          "shape": "10, 2"
         },
         "hovertemplate": "<b>%{hovertext}</b><br><br>ColorKey=C_postDLC<br>UMAP1=%{x}<br>UMAP2=%{y}<br>UMAP3=%{z}<br>Dataset=%{customdata[0]}<br>Mouse=%{customdata[1]}<extra></extra>",
         "hovertext": [
          "mouse21_left",
          "mouse22_left",
          "mouse23_left",
          "mouse24_left",
          "mouse25_left",
          "mouse26_left",
          "mouse27_left",
          "mouse28_left",
          "mouse29_left",
          "mouse30_left"
         ],
         "legendgroup": "C_postDLC",
         "marker": {
          "color": "#00CC96",
          "line": {
           "color": "black",
           "width": 0.3
          },
          "size": 4,
          "symbol": "circle"
         },
         "mode": "markers",
         "name": "C_postDLC",
         "scene": "scene",
         "showlegend": true,
         "type": "scatter3d",
         "x": {
          "bdata": "4O7DQFBzuUAjK8dAKcDsQLtwokA1YblAlcHFQBe1tEB0zrxAmt/DQA==",
          "dtype": "f4"
         },
         "y": {
          "bdata": "2Bp7QC2NhUAd92tAQwi6QPhaiEA5K4BALsNvQAVogUD19nJAHgpxQA==",
          "dtype": "f4"
         },
         "z": {
          "bdata": "fwZAQVB7QEH0c0BB9NchQWC+QUGfdDpBpKQzQb0APkET2TxBWr4zQQ==",
          "dtype": "f4"
         }
        },
        {
         "customdata": {
          "bdata": "BhcGGAYZBhoGGwYcBh0GHgYfBiE=",
          "dtype": "i1",
          "shape": "10, 2"
         },
         "hovertemplate": "<b>%{hovertext}</b><br><br>ColorKey=D_postDLC<br>UMAP1=%{x}<br>UMAP2=%{y}<br>UMAP3=%{z}<br>Dataset=%{customdata[0]}<br>Mouse=%{customdata[1]}<extra></extra>",
         "hovertext": [
          "mouse31_left",
          "mouse32_left",
          "mouse33_left",
          "mouse34_left",
          "mouse35_left",
          "mouse36_left",
          "mouse37_left",
          "mouse38_left",
          "mouse39_left",
          "mouse40_left"
         ],
         "legendgroup": "D_postDLC",
         "marker": {
          "color": "#AB63FA",
          "line": {
           "color": "black",
           "width": 0.3
          },
          "size": 4,
          "symbol": "circle"
         },
         "mode": "markers",
         "name": "D_postDLC",
         "scene": "scene",
         "showlegend": true,
         "type": "scatter3d",
         "x": {
          "bdata": "W227QH6uwkC7175AisaYQOsgq0CmD8FAj/HFQGiYt0BRHMtA3nq8QA==",
          "dtype": "f4"
         },
         "y": {
          "bdata": "d2KjQCTUkUAmrJRAgbSXQAwVdkAJCZJA9oSDQCUYTUDzTnRAvkdXQA==",
          "dtype": "f4"
         },
         "z": {
          "bdata": "ayYxQRJLMEEWbzVBKBJDQeYIREEkOTdBQ9koQa1FPEH0ZzpBUBg/QQ==",
          "dtype": "f4"
         }
        },
        {
         "customdata": {
          "bdata": "CCIIIwgkCCUIJggnCCgIKQgqCCw=",
          "dtype": "i1",
          "shape": "10, 2"
         },
         "hovertemplate": "<b>%{hovertext}</b><br><br>ColorKey=E_postDLC<br>UMAP1=%{x}<br>UMAP2=%{y}<br>UMAP3=%{z}<br>Dataset=%{customdata[0]}<br>Mouse=%{customdata[1]}<extra></extra>",
         "hovertext": [
          "mouse41_left",
          "mouse42_left",
          "mouse43_left",
          "mouse44_left",
          "mouse45_left",
          "mouse46_left",
          "mouse47_left",
          "mouse48_left",
          "mouse49_left",
          "mouse50_left"
         ],
         "legendgroup": "E_postDLC",
         "marker": {
          "color": "#FFA15A",
          "line": {
           "color": "black",
           "width": 0.3
          },
          "size": 4,
          "symbol": "circle"
         },
         "mode": "markers",
         "name": "E_postDLC",
         "scene": "scene",
         "showlegend": true,
         "type": "scatter3d",
         "x": {
          "bdata": "GvC9QCPnnUCgKZBAqQWkQB6VlkCZMppALt3ZQPRclkAxhq1ABtqRQA==",
          "dtype": "f4"
         },
         "y": {
          "bdata": "GUaTQNiBoUAwGZ5A+VmiQJyypEB4W6pA3yWHQG3cm0CLB6JAtNChQA==",
          "dtype": "f4"
         },
         "z": {
          "bdata": "23hBQYCJSEEowkVBQ91EQeAASUHMeENBebksQeRsSEHNyUVBEo9GQQ==",
          "dtype": "f4"
         }
        },
        {
         "customdata": {
          "bdata": "AAAACgAVACAAKwAtAC4ALwAwADE=",
          "dtype": "i1",
          "shape": "10, 2"
         },
         "hovertemplate": "<b>%{hovertext}</b><br><br>DatasetName=A_postDLC<br>UMAP1=%{x}<br>UMAP2=%{y}<br>UMAP3=%{z}<br>Dataset=%{customdata[0]}<br>Mouse=%{customdata[1]}<extra></extra>",
         "hovertext": [
          "mouse10_left",
          "mouse1_left",
          "mouse2_left",
          "mouse3_left",
          "mouse4_left",
          "mouse5_left",
          "mouse6_left",
          "mouse7_left",
          "mouse8_left",
          "mouse9_left"
         ],
         "legendgroup": "A_postDLC",
         "marker": {
          "color": "#636EFA",
          "line": {
           "color": "black",
           "width": 0.3
          },
          "size": 4,
          "symbol": "circle"
         },
         "mode": "markers",
         "name": "A_postDLC",
         "scene": "scene2",
         "showlegend": true,
         "type": "scatter3d",
         "x": {
          "bdata": "At2UQIwRlUCWurhA/0afQGaIs0BNOqBArWKkQKx9wECGcKNA4GKwQA==",
          "dtype": "f4"
         },
         "y": {
          "bdata": "jxB4QB8kdUC2C0JAwdRoQGvGRUCCT05AAYFPQF3QR0DUoFNAe1Y/QA==",
          "dtype": "f4"
         },
         "z": {
          "bdata": "WwZAQVOpQEE9uS9BANZCQQ/5M0H4yDxBGxE5QRF7L0HsXj9BgncyQQ==",
          "dtype": "f4"
         }
        },
        {
         "customdata": {
          "bdata": "AQABCgEVASABKwEtAS4BLwEwATE=",
          "dtype": "i1",
          "shape": "10, 2"
         },
         "hovertemplate": "<b>%{hovertext}</b><br><br>DatasetName=A_preDLC<br>UMAP1=%{x}<br>UMAP2=%{y}<br>UMAP3=%{z}<br>Dataset=%{customdata[0]}<br>Mouse=%{customdata[1]}<extra></extra>",
         "hovertext": [
          "mouse10_left",
          "mouse1_left",
          "mouse2_left",
          "mouse3_left",
          "mouse4_left",
          "mouse5_left",
          "mouse6_left",
          "mouse7_left",
          "mouse8_left",
          "mouse9_left"
         ],
         "legendgroup": "A_preDLC",
         "marker": {
          "color": "#FF6692",
          "line": {
           "color": "black",
           "width": 0.3
          },
          "size": 4,
          "symbol": "circle"
         },
         "mode": "markers",
         "name": "A_preDLC",
         "scene": "scene2",
         "showlegend": true,
         "type": "scatter3d",
         "x": {
          "bdata": "3Kv0QOAlrUCoXeRAkErrQK0/50BD/9ZArxLtQHoU4kCM7uVAgGvpQA==",
          "dtype": "f4"
         },
         "y": {
          "bdata": "rwCcQHwVX0DaHZZAUTifQIC8k0A6YZ5AjRiYQFUTokAlOK9ACKKaQA==",
          "dtype": "f4"
         },
         "z": {
          "bdata": "/REiQU61OkGQFiZBTv8dQRtAIUHwoiNBYAweQW/eJEGDOCNBKvMoQQ==",
          "dtype": "f4"
         }
        },
        {
         "customdata": {
          "bdata": "AgECAgIDAgQCBQIGAgcCCAIJAgs=",
          "dtype": "i1",
          "shape": "10, 2"
         },
         "hovertemplate": "<b>%{hovertext}</b><br><br>DatasetName=B_postDLC<br>UMAP1=%{x}<br>UMAP2=%{y}<br>UMAP3=%{z}<br>Dataset=%{customdata[0]}<br>Mouse=%{customdata[1]}<extra></extra>",
         "hovertext": [
          "mouse11_left",
          "mouse12_left",
          "mouse13_left",
          "mouse14_left",
          "mouse15_left",
          "mouse16_left",
          "mouse17_left",
          "mouse18_left",
          "mouse19_left",
          "mouse20_left"
         ],
         "legendgroup": "B_postDLC",
         "marker": {
          "color": "#EF553B",
          "line": {
           "color": "black",
           "width": 0.3
          },
          "size": 4,
          "symbol": "circle"
         },
         "mode": "markers",
         "name": "B_postDLC",
         "scene": "scene2",
         "showlegend": true,
         "type": "scatter3d",
         "x": {
          "bdata": "SpeXQDz2oEB5maJA82naQJKh1EA206JAoNzWQBYdnUDuw89ARCmqQA==",
          "dtype": "f4"
         },
         "y": {
          "bdata": "oZCMQE+shkA8X4lAIwtxQOseXkC6m4ZA/sJhQCR+iEC5HWpAfyWGQA==",
          "dtype": "f4"
         },
         "z": {
          "bdata": "Iy85QdK1MEE2BTlBdZ4jQXhTIUE3Vy9BzTchQbBHN0HtSyVBfgcuQQ==",
          "dtype": "f4"
         }
        },
        {
         "customdata": {
          "bdata": "AwEDAgMDAwQDBQMGAwcDCAMJAws=",
          "dtype": "i1",
          "shape": "10, 2"
         },
         "hovertemplate": "<b>%{hovertext}</b><br><br>DatasetName=B_preDLC<br>UMAP1=%{x}<br>UMAP2=%{y}<br>UMAP3=%{z}<br>Dataset=%{customdata[0]}<br>Mouse=%{customdata[1]}<extra></extra>",
         "hovertext": [
          "mouse11_left",
          "mouse12_left",
          "mouse13_left",
          "mouse14_left",
          "mouse15_left",
          "mouse16_left",
          "mouse17_left",
          "mouse18_left",
          "mouse19_left",
          "mouse20_left"
         ],
         "legendgroup": "B_preDLC",
         "marker": {
          "color": "#B6E880",
          "line": {
           "color": "black",
           "width": 0.3
          },
          "size": 4,
          "symbol": "circle"
         },
         "mode": "markers",
         "name": "B_preDLC",
         "scene": "scene2",
         "showlegend": true,
         "type": "scatter3d",
         "x": {
          "bdata": "0hzKQCgIyUCu0MBAiBTNQLsT0EDC6LxAKHPGQDC5xUDua9JAjk7LQA==",
          "dtype": "f4"
         },
         "y": {
          "bdata": "OivCQPUTlkBzJsNAQ/q+QME4oEAteL1AXfafQFIDqUBd7rlAnxeiQA==",
          "dtype": "f4"
         },
         "z": {
          "bdata": "d3EaQW1dIUGP1h9BhpcYQe4mJEFUNBxBBb0ZQbxtFkFFPhhBmwIVQQ==",
          "dtype": "f4"
         }
        },
        {
         "customdata": {
          "bdata": "BAwEDQQOBA8EEAQRBBIEEwQUBBY=",
          "dtype": "i1",
          "shape": "10, 2"
         },
         "hovertemplate": "<b>%{hovertext}</b><br><br>DatasetName=C_postDLC<br>UMAP1=%{x}<br>UMAP2=%{y}<br>UMAP3=%{z}<br>Dataset=%{customdata[0]}<br>Mouse=%{customdata[1]}<extra></extra>",
         "hovertext": [
          "mouse21_left",
          "mouse22_left",
          "mouse23_left",
          "mouse24_left",
          "mouse25_left",
          "mouse26_left",
          "mouse27_left",
          "mouse28_left",
          "mouse29_left",
          "mouse30_left"
         ],
         "legendgroup": "C_postDLC",
         "marker": {
          "color": "#00CC96",
          "line": {
           "color": "black",
           "width": 0.3
          },
          "size": 4,
          "symbol": "circle"
         },
         "mode": "markers",
         "name": "C_postDLC",
         "scene": "scene2",
         "showlegend": true,
         "type": "scatter3d",
         "x": {
          "bdata": "4O7DQFBzuUAjK8dAKcDsQLtwokA1YblAlcHFQBe1tEB0zrxAmt/DQA==",
          "dtype": "f4"
         },
         "y": {
          "bdata": "2Bp7QC2NhUAd92tAQwi6QPhaiEA5K4BALsNvQAVogUD19nJAHgpxQA==",
          "dtype": "f4"
         },
         "z": {
          "bdata": "fwZAQVB7QEH0c0BB9NchQWC+QUGfdDpBpKQzQb0APkET2TxBWr4zQQ==",
          "dtype": "f4"
         }
        },
        {
         "customdata": {
          "bdata": "BQwFDQUOBQ8FEAURBRIFEwUUBRY=",
          "dtype": "i1",
          "shape": "10, 2"
         },
         "hovertemplate": "<b>%{hovertext}</b><br><br>DatasetName=C_preDLC<br>UMAP1=%{x}<br>UMAP2=%{y}<br>UMAP3=%{z}<br>Dataset=%{customdata[0]}<br>Mouse=%{customdata[1]}<extra></extra>",
         "hovertext": [
          "mouse21_left",
          "mouse22_left",
          "mouse23_left",
          "mouse24_left",
          "mouse25_left",
          "mouse26_left",
          "mouse27_left",
          "mouse28_left",
          "mouse29_left",
          "mouse30_left"
         ],
         "legendgroup": "C_preDLC",
         "marker": {
          "color": "#FF97FF",
          "line": {
           "color": "black",
           "width": 0.3
          },
          "size": 4,
          "symbol": "circle"
         },
         "mode": "markers",
         "name": "C_preDLC",
         "scene": "scene2",
         "showlegend": true,
         "type": "scatter3d",
         "x": {
          "bdata": "eO6oQOElqkABz6tANcGwQE+ptkAPkqhALZOrQM+NrEDH8ulA0JeyQA==",
          "dtype": "f4"
         },
         "y": {
          "bdata": "fmDOQHMKzkBKMsZAW/DFQGOwpkCZzspA/Z3EQJS3zUCim6dAWU3AQA==",
          "dtype": "f4"
         },
         "z": {
          "bdata": "qLknQaNILkHJsC1BCucnQZsOHkFHgixBUMoyQbRuJUGp5S9B80QiQQ==",
          "dtype": "f4"
         }
        },
        {
         "customdata": {
          "bdata": "BhcGGAYZBhoGGwYcBh0GHgYfBiE=",
          "dtype": "i1",
          "shape": "10, 2"
         },
         "hovertemplate": "<b>%{hovertext}</b><br><br>DatasetName=D_postDLC<br>UMAP1=%{x}<br>UMAP2=%{y}<br>UMAP3=%{z}<br>Dataset=%{customdata[0]}<br>Mouse=%{customdata[1]}<extra></extra>",
         "hovertext": [
          "mouse31_left",
          "mouse32_left",
          "mouse33_left",
          "mouse34_left",
          "mouse35_left",
          "mouse36_left",
          "mouse37_left",
          "mouse38_left",
          "mouse39_left",
          "mouse40_left"
         ],
         "legendgroup": "D_postDLC",
         "marker": {
          "color": "#AB63FA",
          "line": {
           "color": "black",
           "width": 0.3
          },
          "size": 4,
          "symbol": "circle"
         },
         "mode": "markers",
         "name": "D_postDLC",
         "scene": "scene2",
         "showlegend": true,
         "type": "scatter3d",
         "x": {
          "bdata": "W227QH6uwkC7175AisaYQOsgq0CmD8FAj/HFQGiYt0BRHMtA3nq8QA==",
          "dtype": "f4"
         },
         "y": {
          "bdata": "d2KjQCTUkUAmrJRAgbSXQAwVdkAJCZJA9oSDQCUYTUDzTnRAvkdXQA==",
          "dtype": "f4"
         },
         "z": {
          "bdata": "ayYxQRJLMEEWbzVBKBJDQeYIREEkOTdBQ9koQa1FPEH0ZzpBUBg/QQ==",
          "dtype": "f4"
         }
        },
        {
         "customdata": {
          "bdata": "BxcHGAcZBxoHGwccBx0HHgcfByEHIwcs",
          "dtype": "i1",
          "shape": "12, 2"
         },
         "hovertemplate": "<b>%{hovertext}</b><br><br>DatasetName=D_preDLC<br>UMAP1=%{x}<br>UMAP2=%{y}<br>UMAP3=%{z}<br>Dataset=%{customdata[0]}<br>Mouse=%{customdata[1]}<extra></extra>",
         "hovertext": [
          "mouse31_left",
          "mouse32_left",
          "mouse33_left",
          "mouse34_left",
          "mouse35_left",
          "mouse36_left",
          "mouse37_left",
          "mouse38_left",
          "mouse39_left",
          "mouse40_left",
          "mouse42_left",
          "mouse50_left"
         ],
         "legendgroup": "D_preDLC",
         "marker": {
          "color": "#FECB52",
          "line": {
           "color": "black",
           "width": 0.3
          },
          "size": 4,
          "symbol": "circle"
         },
         "mode": "markers",
         "name": "D_preDLC",
         "scene": "scene2",
         "showlegend": true,
         "type": "scatter3d",
         "x": {
          "bdata": "eljZQEcl90BSdPFA8wTrQA3o9kBqItpAgIf9QD4xAEHxot1APiXRQAN76UDvsOFA",
          "dtype": "f4"
         },
         "y": {
          "bdata": "MLe6QNkzqkBtkbJAkLG/QPUQr0DC47RAQMKuQIRMqUBnaqhATo29QBGuskApKMNA",
          "dtype": "f4"
         },
         "z": {
          "bdata": "mKkpQeZiKUHESjJBDUgrQb9WN0EzUTVBvpsxQYrVK0H2LzxBqEguQXHFMkE49ihB",
          "dtype": "f4"
         }
        },
        {
         "customdata": {
          "bdata": "CCIIIwgkCCUIJggnCCgIKQgqCCw=",
          "dtype": "i1",
          "shape": "10, 2"
         },
         "hovertemplate": "<b>%{hovertext}</b><br><br>DatasetName=E_postDLC<br>UMAP1=%{x}<br>UMAP2=%{y}<br>UMAP3=%{z}<br>Dataset=%{customdata[0]}<br>Mouse=%{customdata[1]}<extra></extra>",
         "hovertext": [
          "mouse41_left",
          "mouse42_left",
          "mouse43_left",
          "mouse44_left",
          "mouse45_left",
          "mouse46_left",
          "mouse47_left",
          "mouse48_left",
          "mouse49_left",
          "mouse50_left"
         ],
         "legendgroup": "E_postDLC",
         "marker": {
          "color": "#FFA15A",
          "line": {
           "color": "black",
           "width": 0.3
          },
          "size": 4,
          "symbol": "circle"
         },
         "mode": "markers",
         "name": "E_postDLC",
         "scene": "scene2",
         "showlegend": true,
         "type": "scatter3d",
         "x": {
          "bdata": "GvC9QCPnnUCgKZBAqQWkQB6VlkCZMppALt3ZQPRclkAxhq1ABtqRQA==",
          "dtype": "f4"
         },
         "y": {
          "bdata": "GUaTQNiBoUAwGZ5A+VmiQJyypEB4W6pA3yWHQG3cm0CLB6JAtNChQA==",
          "dtype": "f4"
         },
         "z": {
          "bdata": "23hBQYCJSEEowkVBQ91EQeAASUHMeENBebksQeRsSEHNyUVBEo9GQQ==",
          "dtype": "f4"
         }
        },
        {
         "customdata": {
          "bdata": "CSIJJAklCSYJJwkoCSkJKg==",
          "dtype": "i1",
          "shape": "8, 2"
         },
         "hovertemplate": "<b>%{hovertext}</b><br><br>DatasetName=E_preDLC<br>UMAP1=%{x}<br>UMAP2=%{y}<br>UMAP3=%{z}<br>Dataset=%{customdata[0]}<br>Mouse=%{customdata[1]}<extra></extra>",
         "hovertext": [
          "mouse41_left",
          "mouse43_left",
          "mouse44_left",
          "mouse45_left",
          "mouse46_left",
          "mouse47_left",
          "mouse48_left",
          "mouse49_left"
         ],
         "legendgroup": "E_preDLC",
         "marker": {
          "color": "#636efa",
          "line": {
           "color": "black",
           "width": 0.3
          },
          "size": 4,
          "symbol": "circle"
         },
         "mode": "markers",
         "name": "E_preDLC",
         "scene": "scene2",
         "showlegend": true,
         "type": "scatter3d",
         "x": {
          "bdata": "IUgBQRgs+kD/ZddA90P+QMkw1kBSEvpARUizQO0b2EA=",
          "dtype": "f4"
         },
         "y": {
          "bdata": "R967QLjNwECRPs5A3kDAQDjsy0CXkqBAwpzBQKaqnUA=",
          "dtype": "f4"
         },
         "z": {
          "bdata": "9skjQcd5IEEoBCNBSEAhQZqxIEGAsidBlq0rQSHlP0E=",
          "dtype": "f4"
         }
        }
       ],
       "layout": {
        "annotations": [
         {
          "font": {
           "size": 16
          },
          "showarrow": false,
          "text": "UMAP 3D — Pre vs Others",
          "x": 0.225,
          "xanchor": "center",
          "xref": "paper",
          "y": 1,
          "yanchor": "bottom",
          "yref": "paper"
         },
         {
          "font": {
           "size": 16
          },
          "showarrow": false,
          "text": "UMAP 3D — Each Dataset",
          "x": 0.775,
          "xanchor": "center",
          "xref": "paper",
          "y": 1,
          "yanchor": "bottom",
          "yref": "paper"
         }
        ],
        "height": 600,
        "legend": {
         "orientation": "v",
         "title": {
          "text": "Dataset"
         }
        },
        "margin": {
         "b": 0,
         "l": 0,
         "r": 0,
         "t": 60
        },
        "scene": {
         "aspectmode": "data",
         "domain": {
          "x": [
           0,
           0.45
          ],
          "y": [
           0,
           1
          ]
         }
        },
        "scene2": {
         "aspectmode": "data",
         "domain": {
          "x": [
           0.55,
           1
          ],
          "y": [
           0,
           1
          ]
         }
        },
        "showlegend": true,
        "template": {
         "data": {
          "bar": [
           {
            "error_x": {
             "color": "#2a3f5f"
            },
            "error_y": {
             "color": "#2a3f5f"
            },
            "marker": {
             "line": {
              "color": "#E5ECF6",
              "width": 0.5
             },
             "pattern": {
              "fillmode": "overlay",
              "size": 10,
              "solidity": 0.2
             }
            },
            "type": "bar"
           }
          ],
          "barpolar": [
           {
            "marker": {
             "line": {
              "color": "#E5ECF6",
              "width": 0.5
             },
             "pattern": {
              "fillmode": "overlay",
              "size": 10,
              "solidity": 0.2
             }
            },
            "type": "barpolar"
           }
          ],
          "carpet": [
           {
            "aaxis": {
             "endlinecolor": "#2a3f5f",
             "gridcolor": "white",
             "linecolor": "white",
             "minorgridcolor": "white",
             "startlinecolor": "#2a3f5f"
            },
            "baxis": {
             "endlinecolor": "#2a3f5f",
             "gridcolor": "white",
             "linecolor": "white",
             "minorgridcolor": "white",
             "startlinecolor": "#2a3f5f"
            },
            "type": "carpet"
           }
          ],
          "choropleth": [
           {
            "colorbar": {
             "outlinewidth": 0,
             "ticks": ""
            },
            "type": "choropleth"
           }
          ],
          "contour": [
           {
            "colorbar": {
             "outlinewidth": 0,
             "ticks": ""
            },
            "colorscale": [
             [
              0,
              "#0d0887"
             ],
             [
              0.1111111111111111,
              "#46039f"
             ],
             [
              0.2222222222222222,
              "#7201a8"
             ],
             [
              0.3333333333333333,
              "#9c179e"
             ],
             [
              0.4444444444444444,
              "#bd3786"
             ],
             [
              0.5555555555555556,
              "#d8576b"
             ],
             [
              0.6666666666666666,
              "#ed7953"
             ],
             [
              0.7777777777777778,
              "#fb9f3a"
             ],
             [
              0.8888888888888888,
              "#fdca26"
             ],
             [
              1,
              "#f0f921"
             ]
            ],
            "type": "contour"
           }
          ],
          "contourcarpet": [
           {
            "colorbar": {
             "outlinewidth": 0,
             "ticks": ""
            },
            "type": "contourcarpet"
           }
          ],
          "heatmap": [
           {
            "colorbar": {
             "outlinewidth": 0,
             "ticks": ""
            },
            "colorscale": [
             [
              0,
              "#0d0887"
             ],
             [
              0.1111111111111111,
              "#46039f"
             ],
             [
              0.2222222222222222,
              "#7201a8"
             ],
             [
              0.3333333333333333,
              "#9c179e"
             ],
             [
              0.4444444444444444,
              "#bd3786"
             ],
             [
              0.5555555555555556,
              "#d8576b"
             ],
             [
              0.6666666666666666,
              "#ed7953"
             ],
             [
              0.7777777777777778,
              "#fb9f3a"
             ],
             [
              0.8888888888888888,
              "#fdca26"
             ],
             [
              1,
              "#f0f921"
             ]
            ],
            "type": "heatmap"
           }
          ],
          "histogram": [
           {
            "marker": {
             "pattern": {
              "fillmode": "overlay",
              "size": 10,
              "solidity": 0.2
             }
            },
            "type": "histogram"
           }
          ],
          "histogram2d": [
           {
            "colorbar": {
             "outlinewidth": 0,
             "ticks": ""
            },
            "colorscale": [
             [
              0,
              "#0d0887"
             ],
             [
              0.1111111111111111,
              "#46039f"
             ],
             [
              0.2222222222222222,
              "#7201a8"
             ],
             [
              0.3333333333333333,
              "#9c179e"
             ],
             [
              0.4444444444444444,
              "#bd3786"
             ],
             [
              0.5555555555555556,
              "#d8576b"
             ],
             [
              0.6666666666666666,
              "#ed7953"
             ],
             [
              0.7777777777777778,
              "#fb9f3a"
             ],
             [
              0.8888888888888888,
              "#fdca26"
             ],
             [
              1,
              "#f0f921"
             ]
            ],
            "type": "histogram2d"
           }
          ],
          "histogram2dcontour": [
           {
            "colorbar": {
             "outlinewidth": 0,
             "ticks": ""
            },
            "colorscale": [
             [
              0,
              "#0d0887"
             ],
             [
              0.1111111111111111,
              "#46039f"
             ],
             [
              0.2222222222222222,
              "#7201a8"
             ],
             [
              0.3333333333333333,
              "#9c179e"
             ],
             [
              0.4444444444444444,
              "#bd3786"
             ],
             [
              0.5555555555555556,
              "#d8576b"
             ],
             [
              0.6666666666666666,
              "#ed7953"
             ],
             [
              0.7777777777777778,
              "#fb9f3a"
             ],
             [
              0.8888888888888888,
              "#fdca26"
             ],
             [
              1,
              "#f0f921"
             ]
            ],
            "type": "histogram2dcontour"
           }
          ],
          "mesh3d": [
           {
            "colorbar": {
             "outlinewidth": 0,
             "ticks": ""
            },
            "type": "mesh3d"
           }
          ],
          "parcoords": [
           {
            "line": {
             "colorbar": {
              "outlinewidth": 0,
              "ticks": ""
             }
            },
            "type": "parcoords"
           }
          ],
          "pie": [
           {
            "automargin": true,
            "type": "pie"
           }
          ],
          "scatter": [
           {
            "fillpattern": {
             "fillmode": "overlay",
             "size": 10,
             "solidity": 0.2
            },
            "type": "scatter"
           }
          ],
          "scatter3d": [
           {
            "line": {
             "colorbar": {
              "outlinewidth": 0,
              "ticks": ""
             }
            },
            "marker": {
             "colorbar": {
              "outlinewidth": 0,
              "ticks": ""
             }
            },
            "type": "scatter3d"
           }
          ],
          "scattercarpet": [
           {
            "marker": {
             "colorbar": {
              "outlinewidth": 0,
              "ticks": ""
             }
            },
            "type": "scattercarpet"
           }
          ],
          "scattergeo": [
           {
            "marker": {
             "colorbar": {
              "outlinewidth": 0,
              "ticks": ""
             }
            },
            "type": "scattergeo"
           }
          ],
          "scattergl": [
           {
            "marker": {
             "colorbar": {
              "outlinewidth": 0,
              "ticks": ""
             }
            },
            "type": "scattergl"
           }
          ],
          "scattermap": [
           {
            "marker": {
             "colorbar": {
              "outlinewidth": 0,
              "ticks": ""
             }
            },
            "type": "scattermap"
           }
          ],
          "scattermapbox": [
           {
            "marker": {
             "colorbar": {
              "outlinewidth": 0,
              "ticks": ""
             }
            },
            "type": "scattermapbox"
           }
          ],
          "scatterpolar": [
           {
            "marker": {
             "colorbar": {
              "outlinewidth": 0,
              "ticks": ""
             }
            },
            "type": "scatterpolar"
           }
          ],
          "scatterpolargl": [
           {
            "marker": {
             "colorbar": {
              "outlinewidth": 0,
              "ticks": ""
             }
            },
            "type": "scatterpolargl"
           }
          ],
          "scatterternary": [
           {
            "marker": {
             "colorbar": {
              "outlinewidth": 0,
              "ticks": ""
             }
            },
            "type": "scatterternary"
           }
          ],
          "surface": [
           {
            "colorbar": {
             "outlinewidth": 0,
             "ticks": ""
            },
            "colorscale": [
             [
              0,
              "#0d0887"
             ],
             [
              0.1111111111111111,
              "#46039f"
             ],
             [
              0.2222222222222222,
              "#7201a8"
             ],
             [
              0.3333333333333333,
              "#9c179e"
             ],
             [
              0.4444444444444444,
              "#bd3786"
             ],
             [
              0.5555555555555556,
              "#d8576b"
             ],
             [
              0.6666666666666666,
              "#ed7953"
             ],
             [
              0.7777777777777778,
              "#fb9f3a"
             ],
             [
              0.8888888888888888,
              "#fdca26"
             ],
             [
              1,
              "#f0f921"
             ]
            ],
            "type": "surface"
           }
          ],
          "table": [
           {
            "cells": {
             "fill": {
              "color": "#EBF0F8"
             },
             "line": {
              "color": "white"
             }
            },
            "header": {
             "fill": {
              "color": "#C8D4E3"
             },
             "line": {
              "color": "white"
             }
            },
            "type": "table"
           }
          ]
         },
         "layout": {
          "annotationdefaults": {
           "arrowcolor": "#2a3f5f",
           "arrowhead": 0,
           "arrowwidth": 1
          },
          "autotypenumbers": "strict",
          "coloraxis": {
           "colorbar": {
            "outlinewidth": 0,
            "ticks": ""
           }
          },
          "colorscale": {
           "diverging": [
            [
             0,
             "#8e0152"
            ],
            [
             0.1,
             "#c51b7d"
            ],
            [
             0.2,
             "#de77ae"
            ],
            [
             0.3,
             "#f1b6da"
            ],
            [
             0.4,
             "#fde0ef"
            ],
            [
             0.5,
             "#f7f7f7"
            ],
            [
             0.6,
             "#e6f5d0"
            ],
            [
             0.7,
             "#b8e186"
            ],
            [
             0.8,
             "#7fbc41"
            ],
            [
             0.9,
             "#4d9221"
            ],
            [
             1,
             "#276419"
            ]
           ],
           "sequential": [
            [
             0,
             "#0d0887"
            ],
            [
             0.1111111111111111,
             "#46039f"
            ],
            [
             0.2222222222222222,
             "#7201a8"
            ],
            [
             0.3333333333333333,
             "#9c179e"
            ],
            [
             0.4444444444444444,
             "#bd3786"
            ],
            [
             0.5555555555555556,
             "#d8576b"
            ],
            [
             0.6666666666666666,
             "#ed7953"
            ],
            [
             0.7777777777777778,
             "#fb9f3a"
            ],
            [
             0.8888888888888888,
             "#fdca26"
            ],
            [
             1,
             "#f0f921"
            ]
           ],
           "sequentialminus": [
            [
             0,
             "#0d0887"
            ],
            [
             0.1111111111111111,
             "#46039f"
            ],
            [
             0.2222222222222222,
             "#7201a8"
            ],
            [
             0.3333333333333333,
             "#9c179e"
            ],
            [
             0.4444444444444444,
             "#bd3786"
            ],
            [
             0.5555555555555556,
             "#d8576b"
            ],
            [
             0.6666666666666666,
             "#ed7953"
            ],
            [
             0.7777777777777778,
             "#fb9f3a"
            ],
            [
             0.8888888888888888,
             "#fdca26"
            ],
            [
             1,
             "#f0f921"
            ]
           ]
          },
          "colorway": [
           "#636efa",
           "#EF553B",
           "#00cc96",
           "#ab63fa",
           "#FFA15A",
           "#19d3f3",
           "#FF6692",
           "#B6E880",
           "#FF97FF",
           "#FECB52"
          ],
          "font": {
           "color": "#2a3f5f"
          },
          "geo": {
           "bgcolor": "white",
           "lakecolor": "white",
           "landcolor": "#E5ECF6",
           "showlakes": true,
           "showland": true,
           "subunitcolor": "white"
          },
          "hoverlabel": {
           "align": "left"
          },
          "hovermode": "closest",
          "mapbox": {
           "style": "light"
          },
          "paper_bgcolor": "white",
          "plot_bgcolor": "#E5ECF6",
          "polar": {
           "angularaxis": {
            "gridcolor": "white",
            "linecolor": "white",
            "ticks": ""
           },
           "bgcolor": "#E5ECF6",
           "radialaxis": {
            "gridcolor": "white",
            "linecolor": "white",
            "ticks": ""
           }
          },
          "scene": {
           "xaxis": {
            "backgroundcolor": "#E5ECF6",
            "gridcolor": "white",
            "gridwidth": 2,
            "linecolor": "white",
            "showbackground": true,
            "ticks": "",
            "zerolinecolor": "white"
           },
           "yaxis": {
            "backgroundcolor": "#E5ECF6",
            "gridcolor": "white",
            "gridwidth": 2,
            "linecolor": "white",
            "showbackground": true,
            "ticks": "",
            "zerolinecolor": "white"
           },
           "zaxis": {
            "backgroundcolor": "#E5ECF6",
            "gridcolor": "white",
            "gridwidth": 2,
            "linecolor": "white",
            "showbackground": true,
            "ticks": "",
            "zerolinecolor": "white"
           }
          },
          "shapedefaults": {
           "line": {
            "color": "#2a3f5f"
           }
          },
          "ternary": {
           "aaxis": {
            "gridcolor": "white",
            "linecolor": "white",
            "ticks": ""
           },
           "baxis": {
            "gridcolor": "white",
            "linecolor": "white",
            "ticks": ""
           },
           "bgcolor": "#E5ECF6",
           "caxis": {
            "gridcolor": "white",
            "linecolor": "white",
            "ticks": ""
           }
          },
          "title": {
           "x": 0.05
          },
          "xaxis": {
           "automargin": true,
           "gridcolor": "white",
           "linecolor": "white",
           "ticks": "",
           "title": {
            "standoff": 15
           },
           "zerolinecolor": "white",
           "zerolinewidth": 2
          },
          "yaxis": {
           "automargin": true,
           "gridcolor": "white",
           "linecolor": "white",
           "ticks": "",
           "title": {
            "standoff": 15
           },
           "zerolinecolor": "white",
           "zerolinewidth": 2
          }
         }
        },
        "width": 1100
       }
      }
     },
     "metadata": {},
     "output_type": "display_data"
    }
   ],
   "source": [
    "### Plotting UMAP in 3D -> 573 features total\n",
    "umap_plot_df[\"DatasetName\"] = umap_plot_df[\"Dataset\"].map(dataset_label_map)\n",
    "umap_plot_df[\"MouseName\"]   = umap_plot_df[\"Mouse\"].map(mouse_label_map)\n",
    "\n",
    "# --- Build a consistent color map ---\n",
    "fixed_color = \"#7f7f7f\"  # gray for Pre\n",
    "all_names = sorted(umap_plot_df[\"DatasetName\"].unique())\n",
    "\n",
    "# Non-Pre datasets get distinct colors from a qualitative palette\n",
    "palette = px.colors.qualitative.Plotly  # or px.colors.qualitative.Set3, etc.\n",
    "non_pre = [n for n in all_names if \"pre\" not in n.lower()]\n",
    "\n",
    "color_map = {\"Pre\": fixed_color}\n",
    "color_map.update({name: palette[i % len(palette)] for i, name in enumerate(non_pre)})\n",
    "\n",
    "# Color key: collapse anything containing \"pre\" to \"Pre\", keep others as-is\n",
    "umap_plot_df[\"ColorKey\"] = umap_plot_df[\"DatasetName\"].apply(\n",
    "    lambda x: \"Pre\" if \"pre\" in x.lower() else x\n",
    ")\n",
    "\n",
    "# --- Build the two px figures using the SAME color map ---\n",
    "fig_left = px.scatter_3d(\n",
    "    umap_plot_df,\n",
    "    x=\"UMAP1\", y=\"UMAP2\", z=\"UMAP3\",\n",
    "    color=\"ColorKey\",\n",
    "    hover_name=\"MouseName\",\n",
    "    hover_data={\"Dataset\": True, \"Mouse\": True},\n",
    "    title=\"UMAP 3D — Pre vs Others\",\n",
    "    color_discrete_map=color_map\n",
    ")\n",
    "fig_left.update_traces(marker=dict(size=4, line=dict(width=0.3, color='black')),\n",
    "                       selector=dict(mode='markers'))\n",
    "\n",
    "fig_right = px.scatter_3d(\n",
    "    umap_plot_df,\n",
    "    x=\"UMAP1\", y=\"UMAP2\", z=\"UMAP3\",\n",
    "    color=\"DatasetName\",\n",
    "    hover_name=\"MouseName\",\n",
    "    hover_data={\"Dataset\": True, \"Mouse\": True},\n",
    "    title=\"UMAP 3D — Each Dataset\",\n",
    "    color_discrete_map=color_map\n",
    ")\n",
    "fig_right.update_traces(marker=dict(size=4, line=dict(width=0.3, color='black')),\n",
    "                        selector=dict(mode='markers'))\n",
    "\n",
    "# --- Put them side by side with shared legend ---\n",
    "combo = make_subplots(rows=1, cols=2,\n",
    "                      specs=[[{\"type\": \"scene\"}, {\"type\": \"scene\"}]],\n",
    "                      subplot_titles=(fig_left.layout.title.text, fig_right.layout.title.text))\n",
    "\n",
    "for tr in fig_left.data:\n",
    "    combo.add_trace(tr, row=1, col=1)\n",
    "for tr in fig_right.data:\n",
    "    combo.add_trace(tr, row=1, col=2)\n",
    "\n",
    "# Layout tweaks: one legend, equal aspect, tidy margins\n",
    "combo.update_layout(\n",
    "    showlegend=True,\n",
    "    legend=dict(title=\"Dataset\", orientation=\"v\"),\n",
    "    scene=dict(aspectmode=\"data\"),\n",
    "    scene2=dict(aspectmode=\"data\"),\n",
    "    margin=dict(l=0, r=0, t=60, b=0),\n",
    "    height=600, width=1100\n",
    ")\n",
    "\n",
    "combo.show()\n",
    "\n",
    "# plot on right where A, B and C are of the same color (orange)\n",
    "# green for E post\n",
    "# cyan for Pre healthy\n",
    "# delete D\n",
    "\n",
    "## 1 plot with all, 1 without D, 1 with controls fused by color (post)\n",
    "## Find features that cluster controls post and all pre states\n",
    "## Try to use significant features to plot the UMAP\n",
    "\n",
    "# TODO:\n",
    "# 1 comparison between sicks and treated: how many features are different?\n",
    "# 2 How many of the different ones are going towards the healthy?\n",
    "# 3 How many of the features are moving away from the healthy state?"
   ]
  },
  {
   "cell_type": "code",
   "execution_count": 150,
   "id": "eb032136",
   "metadata": {},
   "outputs": [
    {
     "name": "stderr",
     "output_type": "stream",
     "text": [
      "/home/filthyweeb/Documents/SeriousStuff/Work/KU/MScThesis/src/pain_analysis.py:237: UserWarning:\n",
      "\n",
      "The figure layout has changed to tight\n",
      "\n"
     ]
    },
    {
     "data": {
      "image/png": "[encoded data removed]",
      "text/plain": [
       "<Figure size 1800x600 with 3 Axes>"
      ]
     },
     "metadata": {},
     "output_type": "display_data"
    },
    {
     "name": "stdout",
     "output_type": "stream",
     "text": [
      "--------------------------------------------------\n",
      "Top features for PCA1 (Explained Variance: 9.76%):\n",
      "  • Mean phase value - rhindlimb - ankle (°)_sin, Mean phase during swing - rhindlimb - ankle (°)_sin, Mean phase value - rhindlimb - ankle (°)_cos, Mean phase during swing - rhindlimb - ankle (°)_cos, Mean step velocity X during stance - ankle (m/s), Mean step acceleration Y during stance - lHindfingers (m/s^2), Mean phase during stance - rhindlimb - ankle (°)_sin, Mean phase during stance - rhindlimb - ankle (°)_cos, Mean angle during swing - rhindlimb - lHindfingers (°)_cos, Mean phase during swing - rhindlimb - hip (°)_cos\n",
      "Top features for PCA2 (Explained Variance: 7.81%):\n",
      "  • Mean step velocity X at swing - ankle (m/s), Mean step velocity X during swing - ankle (m/s), Mean step velocity X during swing - knee (m/s), Mean step velocity X during swing - lHindpaw (m/s), Mean step velocity X at swing - hip (m/s), Mean step velocity X at swing - lHindpaw (m/s), Mean step velocity X during swing - hip (m/s), Mean step velocity X at peak - knee (m/s), Mean phase during stance - rhindlimb - lHindpaw (°)_sin, Mean phase during stance - rhindlimb - lHindpaw (°)_cos\n",
      "Top features for PCA3 (Explained Variance: 6.28%):\n",
      "  • Mean step acceleration X during stance - lHindpaw (m/s^2), Mean phase at touchdown - rhindlimb - ankle (°)_sin, Mean step acceleration X during stance - ankle (m/s^2), Mean step velocity Y at stance - knee (m/s), Mean angle at stance - rhindlimb - hip (°)_cos, Mean phase at stance - rhindlimb - hip (°)_cos, Mean step velocity X at stance - lHindpaw (m/s), Mean angle at stance - rhindlimb - hip (°)_sin, Mean phase at stance - rhindlimb - hip (°)_sin, Mean step acceleration X during stance - lHindfingers (m/s^2)\n",
      "--------------------------------------------------\n"
     ]
    }
   ],
   "source": [
    "pca_reducer, pca_plot_df = perform_dimensionality_reduction(\n",
    "    X_agg, y_mouse, y_dataset,\n",
    "    dataset_label_map, mouse_label_map,\n",
    "    method=\"PCA\", n_components=3,\n",
    "    plot=True, save=False\n",
    ")"
   ]
  },
  {
   "cell_type": "code",
   "execution_count": 151,
   "id": "389a40fa",
   "metadata": {},
   "outputs": [
    {
     "name": "stdout",
     "output_type": "stream",
     "text": [
      "['B_preDLC' 'C_preDLC' 'E_preDLC']\n",
      "['B_postDLC' 'C_postDLC']\n",
      "['E_postDLC']\n",
      "Healthy left hindlimb shape: (28, 571)\n",
      "Sick left hindlimb shape: (20, 571)\n",
      "Treatment left hindlimb shape: (10, 571)\n"
     ]
    }
   ],
   "source": [
    "features = left_hindlimb_features_df.columns.tolist()\n",
    "\n",
    "## Convert angle features to radians if they contain '°'\n",
    "angular_features = [f for f in features if ('angle' in f.lower() or 'phase' in f.lower())\n",
    "                    and 'excursion' not in f.lower()\n",
    "                    and not f.lower().endswith('_sin')\n",
    "                    and not f.lower().endswith('_cos')]\n",
    "for feature in angular_features:\n",
    "    if '°' in feature:\n",
    "        left_hindlimb_features_df[feature] = np.deg2rad(left_hindlimb_features_df[feature])\n",
    "\n",
    "## Linearize angular features\n",
    "trig_features = {\n",
    "    f\"{feature}_cos\": np.cos(left_hindlimb_features_df[feature]) for feature in angular_features\n",
    "}\n",
    "trig_features.update({\n",
    "    f\"{feature}_sin\": np.sin(left_hindlimb_features_df[feature]) for feature in angular_features\n",
    "})\n",
    "trig_df = pd.DataFrame(trig_features, index=left_hindlimb_features_df.index)\n",
    "left_hindlimb_features_df = pd.concat([left_hindlimb_features_df.drop(columns=angular_features), trig_df], axis=1)\n",
    "\n",
    "## Create subsets for left hindlimb\n",
    "_left_hindlimb_features_df = left_hindlimb_features_df[~left_hindlimb_features_df['Dataset'].str.lower().str.contains('d_')\n",
    "                                                       & ~left_hindlimb_features_df['Dataset'].str.lower().str.contains('a_')]\n",
    "healthy_left_hindlimb_features_df = _left_hindlimb_features_df[_left_hindlimb_features_df['Dataset'].str.lower().str.contains('pre')]\n",
    "sick_left_hindlimb_features_df = _left_hindlimb_features_df[_left_hindlimb_features_df['Dataset'].str.lower().str.contains('post') &\n",
    "                                                           ~_left_hindlimb_features_df['Dataset'].str.lower().str.contains('e_')]\n",
    "treatment_left_hindlimb_features_df = _left_hindlimb_features_df[_left_hindlimb_features_df['Dataset'].str.lower().str.contains('post') &\n",
    "                                                                _left_hindlimb_features_df['Dataset'].str.lower().str.contains('e_')]\n",
    "\n",
    "print(healthy_left_hindlimb_features_df[\"Dataset\"].unique())\n",
    "print(sick_left_hindlimb_features_df[\"Dataset\"].unique())\n",
    "print(treatment_left_hindlimb_features_df[\"Dataset\"].unique())\n",
    "\n",
    "healthy_left_hindlimb_features_df = healthy_left_hindlimb_features_df.drop(columns=['Dataset', 'Mouse'])\n",
    "sick_left_hindlimb_features_df = sick_left_hindlimb_features_df.drop(columns=['Dataset', 'Mouse'])\n",
    "treatment_left_hindlimb_features_df = treatment_left_hindlimb_features_df.drop(columns=['Dataset', 'Mouse'])\n",
    "\n",
    "print(f\"Healthy left hindlimb shape: {healthy_left_hindlimb_features_df.shape}\")\n",
    "print(f\"Sick left hindlimb shape: {sick_left_hindlimb_features_df.shape}\")\n",
    "print(f\"Treatment left hindlimb shape: {treatment_left_hindlimb_features_df.shape}\")"
   ]
  },
  {
   "cell_type": "code",
   "execution_count": 152,
   "id": "3c98a3a7",
   "metadata": {},
   "outputs": [
    {
     "name": "stdout",
     "output_type": "stream",
     "text": [
      "                                              feature  importance  \\\n",
      "3        Mean angle excursion - rhindlimb - ankle (°)    0.027643   \n",
      "4   Mean angle at touchdown - rhindlimb - lHindfin...    0.026052   \n",
      "6   Mean angle at touchdown - rhindlimb - lHindfin...    0.023473   \n",
      "11  Mean step acceleration Y at touchdown - ankle ...    0.013584   \n",
      "0     Mean step jerk Y at peak - lHindfingers (m/s^3)    0.050711   \n",
      "20  Mean angle at stance - rhindlimb - lHindpaw (°...    0.008778   \n",
      "7     Mean angle value - rhindlimb - lHindpaw (°)_sin    0.017478   \n",
      "10  Mean step acceleration Y at touchdown - lHindf...    0.015475   \n",
      "12       Mean phase excursion - rhindlimb - ankle (°)    0.012921   \n",
      "32  Mean angle at stance - rhindlimb - lHindpaw (°...    0.007106   \n",
      "22  Mean step acceleration Y during stance - knee ...    0.008710   \n",
      "8   Mean angle during swing - rhindlimb - lHindpaw...    0.016859   \n",
      "27  Mean phase at touchdown - rhindlimb - lHindpaw...    0.008113   \n",
      "9   Mean angle during swing - rhindlimb - lHindpaw...    0.015617   \n",
      "28  Mean angle at touchdown - rhindlimb - lHindpaw...    0.008088   \n",
      "24    Mean angle value - rhindlimb - lHindpaw (°)_cos    0.008365   \n",
      "42  Mean step acceleration Y at touchdown - lHindp...    0.005702   \n",
      "23     Mean angle at stance - rhindlimb - hip (°)_cos    0.008391   \n",
      "16  Mean step acceleration X during stance - ankle...    0.010549   \n",
      "25  Mean angle velocity - rhindlimb - knee (rad/s)...    0.008233   \n",
      "\n",
      "    change_score  change_effect_size  combined_rank          direction  \n",
      "3      -7.819830           -0.895282       0.024748  away_from_healthy  \n",
      "4       0.002007            0.906654       0.023620    towards_healthy  \n",
      "6       0.017305            0.829460       0.019470    towards_healthy  \n",
      "11      1.917734            1.350651       0.018348    towards_healthy  \n",
      "0    -140.068448           -0.310561       0.015749  away_from_healthy  \n",
      "20      0.094351            1.460568       0.012821    towards_healthy  \n",
      "7       0.030156            0.726097       0.012691    towards_healthy  \n",
      "10      1.844984            0.785219       0.012151    towards_healthy  \n",
      "12     -6.268268           -0.812637       0.010500  away_from_healthy  \n",
      "32      0.056059            1.352244       0.009609    towards_healthy  \n",
      "22      0.389838            1.020976       0.008893    towards_healthy  \n",
      "8       0.000018            0.481893       0.008124    towards_healthy  \n",
      "27      0.001699            0.998606       0.008102    towards_healthy  \n",
      "9       0.000372            0.491158       0.007670    towards_healthy  \n",
      "28      0.061248            0.876620       0.007090    towards_healthy  \n",
      "24      0.019220            0.786674       0.006581    towards_healthy  \n",
      "42      3.217692            1.150649       0.006561    towards_healthy  \n",
      "23      0.030266            0.723307       0.006069    towards_healthy  \n",
      "16      0.270241            0.570418       0.006017    towards_healthy  \n",
      "25      0.025719            0.656804       0.005408    towards_healthy  \n",
      "\n",
      "Direction counts:\n",
      " direction\n",
      "away_from_healthy    305\n",
      "towards_healthy      266\n",
      "Name: count, dtype: int64\n"
     ]
    }
   ],
   "source": [
    "from sklearn.ensemble import RandomForestClassifier\n",
    "\n",
    "# 1. Train Healthy vs Sick model\n",
    "X = pd.concat([healthy_left_hindlimb_features_df, sick_left_hindlimb_features_df])\n",
    "y = [0] * len(healthy_left_hindlimb_features_df) + [1] * len(sick_left_hindlimb_features_df)  # 0=Healthy, 1=Sick\n",
    "\n",
    "rf = RandomForestClassifier(n_estimators=500, random_state=42)\n",
    "rf.fit(X, y)\n",
    "\n",
    "importances = pd.Series(rf.feature_importances_, index=X.columns).sort_values(ascending=False)\n",
    "\n",
    "# 2. For each top feature, check treatment direction\n",
    "\n",
    "number_features = 50\n",
    "\n",
    "rows = []\n",
    "for col in importances.index:\n",
    "    h = healthy_left_hindlimb_features_df[col].dropna()\n",
    "    s = sick_left_hindlimb_features_df[col].dropna()\n",
    "    t = treatment_left_hindlimb_features_df[col].dropna()\n",
    "\n",
    "    if len(h) < 2 or len(s) < 2 or len(t) == 0:\n",
    "        continue  # skip if no variance or insufficient samples\n",
    "\n",
    "    d_sick = abs(s.mean() - h.mean())\n",
    "    d_treat = abs(t.mean() - h.mean())\n",
    "\n",
    "    # Pooled std for Healthy vs Sick\n",
    "    pooled_std = np.sqrt(((len(h)-1)*h.var() + (len(s)-1)*s.var()) / (len(h) + len(s) - 2))\n",
    "\n",
    "    if pooled_std == 0:\n",
    "        change_effect_size = np.nan\n",
    "    else:\n",
    "        change_effect_size = (d_sick - d_treat) / pooled_std\n",
    "\n",
    "    rows.append((col, importances[col], d_sick - d_treat, change_effect_size))\n",
    "\n",
    "res_df = pd.DataFrame(rows, columns=[\"feature\", \"importance\", \"change_score\", \"change_effect_size\"])\n",
    "\n",
    "# Step 3: Sort by combined score\n",
    "res_df[\"combined_rank\"] = res_df[\"importance\"] * res_df[\"change_effect_size\"].abs()\n",
    "res_df = res_df.sort_values(\"combined_rank\", ascending=False)\n",
    "\n",
    "# Optional: add a label for direction\n",
    "res_df[\"direction\"] = res_df[\"change_effect_size\"].apply(lambda x: \"towards_healthy\" if x > 0 else \"away_from_healthy\" if x < 0 else \"no_change\")\n",
    "\n",
    "print(res_df.head(20))  # top 20 most important + largest shift\n",
    "print(\"\\nDirection counts:\\n\", res_df[\"direction\"].value_counts())\n",
    "\n",
    "## export results to CSV\n",
    "res_df.to_csv(os.path.join('./', 'feature_change_analysis_with_at.csv'), index=False)"
   ]
  },
  {
   "cell_type": "code",
   "execution_count": 153,
   "id": "bdfd310f",
   "metadata": {},
   "outputs": [
    {
     "data": {
      "application/vnd.plotly.v1+json": {
       "config": {
        "plotlyServerURL": "https://plot.ly"
       },
       "data": [
        {
         "customdata": [
          [
           "Mean angle excursion - rhindlimb - ankle (°)",
           0.024748419948416988
          ],
          [
           "Mean step jerk Y at peak - lHindfingers (m/s^3)",
           0.015748778485532196
          ],
          [
           "Mean phase excursion - rhindlimb - ankle (°)",
           0.010499953494370629
          ],
          [
           "Mean step jerk Y at peak - ankle (m/s^3)",
           0.0034235271128068233
          ],
          [
           "Mean angle at swing - rhindlimb - lHindfingers (°)_cos",
           0.0026428389198412537
          ],
          [
           "Mean phase at swing - rhindlimb - lHindpaw (°)_sin",
           0.002243586230801191
          ],
          [
           "Mean step velocity Y at peak - ankle (m/s)",
           0.0019833118789855794
          ],
          [
           "Mean phase during stance - rhindlimb - lHindpaw (°)_sin",
           0.0017429686147597133
          ],
          [
           "Mean angle during swing - rhindlimb - lHindfingers (°)_cos",
           0.001698098130843912
          ],
          [
           "Mean phase value - rhindlimb - lHindpaw (°)_sin",
           0.0014970023224003537
          ],
          [
           "Mean angle at peak - rhindlimb - knee (°)_cos",
           0.0014931994273762114
          ],
          [
           "Mean angle at swing - rhindlimb - lHindfingers (°)_sin",
           0.0014761021381206032
          ],
          [
           "Mean step jerk Y at peak - lHindpaw (m/s^3)",
           0.0013935822925141082
          ],
          [
           "Mean angle during stance - rhindlimb - lHindfingers (°)_sin",
           0.001330465489487944
          ],
          [
           "Mean angle during swing - rhindlimb - lHindfingers (°)_sin",
           0.0013132805614817916
          ],
          [
           "Mean angle during stance - rhindlimb - lHindfingers (°)_cos",
           0.0012860389817955194
          ],
          [
           "Mean angle value - rhindlimb - ankle (°)_sin",
           0.0012714855388500806
          ],
          [
           "Mean angle value - rhindlimb - lHindfingers (°)_cos",
           0.0011564616548192892
          ],
          [
           "Mean phase at swing - rhindlimb - ankle (°)_cos",
           0.0011303601535991366
          ],
          [
           "Mean step velocity X during stance - lHindpaw (m/s)",
           0.0010796359853398798
          ],
          [
           "Mean phase at swing - rhindlimb - ankle (°)_sin",
           0.0009729938002533651
          ],
          [
           "Mean step jerk Y at swing - ankle (m/s^3)",
           0.0009102148189060219
          ],
          [
           "Mean step velocity X during stance - lHindfingers (m/s)",
           0.0009026039151076417
          ],
          [
           "Mean angle at peak - rhindlimb - lHindfingers (°)_sin",
           0.0008809688389172908
          ],
          [
           "Mean angle excursion - rhindlimb - lHindfingers (°)",
           0.0008750088887281811
          ],
          [
           "Mean phase velocity at stance - rhindlimb - knee (rad/s)_cos",
           0.0008638980185337223
          ],
          [
           "Mean angle at peak - rhindlimb - lHindfingers (°)_cos",
           0.0008626045365572789
          ],
          [
           "Mean angle at swing - rhindlimb - ankle (°)_cos",
           0.0008595576105793896
          ],
          [
           "Mean step velocity Y at peak - lHindfingers (m/s)",
           0.0007838502045175513
          ],
          [
           "Mean angle during swing - rhindlimb - ankle (°)_cos",
           0.0007694913972451439
          ],
          [
           "Mean phase at peak - rhindlimb - lHindpaw (°)_sin",
           0.0007688889699457918
          ],
          [
           "Mean phase during swing - rhindlimb - lHindpaw (°)_sin",
           0.0007659662311799774
          ],
          [
           "Mean step velocity Y at swing - ankle (m/s)",
           0.0007651242034691036
          ],
          [
           "Mean step acceleration Y at swing - lHindpaw (m/s^2)",
           0.0007647286468660924
          ],
          [
           "Mean angle at peak - rhindlimb - ankle (°)_cos",
           0.0007534160392773085
          ],
          [
           "Mean angle at peak - rhindlimb - ankle (°)_sin",
           0.0007164946934047721
          ],
          [
           "Mean phase at peak - rhindlimb - hip (°)_cos",
           0.0007068765855574597
          ],
          [
           "Mean phase acceleration during swing - rhindlimb - ankle (rad/s^2)_sin",
           0.000705342728057802
          ],
          [
           "Mean phase acceleration during swing - rhindlimb - hip (rad/s^2)_cos",
           0.0007005015785142376
          ],
          [
           "Mean phase at peak - rhindlimb - lHindpaw (°)_cos",
           0.0006876924584599492
          ],
          [
           "Mean step acceleration X at touchdown - knee (m/s^2)",
           0.000627425079111295
          ],
          [
           "Mean angle acceleration during stance - rhindlimb - knee (rad/s^2)_cos",
           0.000619262786774423
          ],
          [
           "Mean angle value - rhindlimb - lHindfingers (°)_sin",
           0.0006137033842256998
          ],
          [
           "Mean angle during swing - rhindlimb - knee (°)_cos",
           0.0006049231559295575
          ],
          [
           "Mean angle velocity at stance - rhindlimb - hip (rad/s)_sin",
           0.0006022862645534882
          ],
          [
           "Mean phase during swing - rhindlimb - lHindpaw (°)_cos",
           0.0006000673958153965
          ],
          [
           "Mean step jerk Y during swing - knee (m/s^3)",
           0.0005992673730025174
          ],
          [
           "Mean angle value - rhindlimb - knee (°)_cos",
           0.0005988410132474716
          ],
          [
           "Mean angle during swing - rhindlimb - ankle (°)_sin",
           0.0005856552263001412
          ],
          [
           "Mean step acceleration X at peak - lHindfingers (m/s^2)",
           0.0005679750968897
          ],
          [
           "Mean phase velocity during swing - rhindlimb - lHindpaw (rad/s)_cos",
           0.0005628853450971325
          ],
          [
           "Mean angle value - rhindlimb - ankle (°)_cos",
           0.0005186146695712908
          ],
          [
           "Mean angle at peak - rhindlimb - hip (°)_sin",
           0.0005037854278252113
          ],
          [
           "Mean step velocity Y at stance - lHindpaw (m/s)",
           0.0005019666312363942
          ],
          [
           "Mean step jerk Y during swing - ankle (m/s^3)",
           0.0004824233732824863
          ],
          [
           "Mean step velocity X during stance - knee (m/s)",
           0.00047996275024203566
          ],
          [
           "Mean angle acceleration at peak - rhindlimb - ankle (rad/s^2)_cos",
           0.00046891064072780025
          ],
          [
           "Mean angle acceleration at stance - rhindlimb - lHindfingers (rad/s^2)_cos",
           0.0004684774411936462
          ],
          [
           "Mean phase value - rhindlimb - ankle (°)_sin",
           0.0004675745755449348
          ],
          [
           "Mean angle acceleration - rhindlimb - lHindfingers (rad/s^2)_cos",
           0.0004503836081781986
          ],
          [
           "Mean step length (m)",
           0.00042868186268547946
          ],
          [
           "Mean angle at peak - rhindlimb - hip (°)_cos",
           0.00042775656631290884
          ],
          [
           "Mean angle acceleration at peak - rhindlimb - lHindpaw (rad/s^2)_cos",
           0.0004176373532231544
          ],
          [
           "Mean angle acceleration at stance - rhindlimb - lHindfingers (rad/s^2)_sin",
           0.0004148366670448229
          ],
          [
           "Mean step acceleration Y during swing - hip (m/s^2)",
           0.00041434395469535355
          ],
          [
           "Mean angle velocity during swing - rhindlimb - ankle (rad/s)_cos",
           0.00039110200915510755
          ],
          [
           "Mean phase acceleration at swing - rhindlimb - hip (rad/s^2)_cos",
           0.00038258369378744045
          ],
          [
           "Mean step jerk Y during stance - knee (m/s^3)",
           0.0003644611606447653
          ],
          [
           "Mean step jerk Y during stance - ankle (m/s^3)",
           0.00035682615763139305
          ],
          [
           "Mean angle acceleration at touchdown - rhindlimb - ankle (rad/s^2)_sin",
           0.0003534293240759305
          ],
          [
           "Mean phase excursion - rhindlimb - lHindpaw (°)",
           0.0003487948051349729
          ],
          [
           "Mean step velocity X during stance - ankle (m/s)",
           0.00033590311818427874
          ],
          [
           "Mean phase at peak - rhindlimb - ankle (°)_sin",
           0.00033312534632821164
          ],
          [
           "Mean angle acceleration at touchdown - rhindlimb - lHindpaw (rad/s^2)_sin",
           0.0003306331088289456
          ],
          [
           "Mean phase value - rhindlimb - hip (°)_cos",
           0.00032964055006931325
          ],
          [
           "Mean step jerk Y at stance - lHindpaw (m/s^3)",
           0.00032678564897623864
          ],
          [
           "Mean angle acceleration during swing - rhindlimb - hip (rad/s^2)_cos",
           0.00032414786187945566
          ],
          [
           "Mean angle excursion - rhindlimb - hip (°)",
           0.0003227259470833048
          ],
          [
           "Mean angle at swing - rhindlimb - hip (°)_cos",
           0.0003099713089284352
          ],
          [
           "Mean step jerk X at peak - ankle (m/s^3)",
           0.00030345151579504317
          ],
          [
           "Mean step jerk Y during swing - hip (m/s^3)",
           0.0002957258439640265
          ],
          [
           "Mean phase velocity during stance - rhindlimb - knee (rad/s)_cos",
           0.00029107021326065484
          ],
          [
           "Mean angle during swing - rhindlimb - hip (°)_sin",
           0.0002899085619528577
          ],
          [
           "Mean step acceleration X at touchdown - lHindfingers (m/s^2)",
           0.0002800341763292272
          ],
          [
           "Mean phase velocity during swing - rhindlimb - ankle (rad/s)_sin",
           0.00027765869081171823
          ],
          [
           "Mean step acceleration X at touchdown - hip (m/s^2)",
           0.000267960209891052
          ],
          [
           "Mean phase during swing - rhindlimb - ankle (°)_cos",
           0.00026715721954349413
          ],
          [
           "Mean phase at peak - rhindlimb - hip (°)_sin",
           0.000260075406757192
          ],
          [
           "Mean phase acceleration - rhindlimb - knee (rad/s^2)_sin",
           0.0002561700968118338
          ],
          [
           "Mean step velocity X at stance - ankle (m/s)",
           0.0002553945918925962
          ],
          [
           "Mean phase during swing - rhindlimb - knee (°)_cos",
           0.0002542782842776277
          ],
          [
           "Mean step velocity Y at swing - hip (m/s)",
           0.000245537753476065
          ],
          [
           "Mean angle excursion - rhindlimb - lHindpaw (°)",
           0.0002449983392249407
          ],
          [
           "Mean angle value - rhindlimb - hip (°)_cos",
           0.00024212849263140524
          ],
          [
           "Mean angle acceleration at stance - rhindlimb - knee (rad/s^2)_sin",
           0.00023703354676625707
          ],
          [
           "Mean angle during stance - rhindlimb - ankle (°)_cos",
           0.00022881870581093703
          ],
          [
           "Mean step acceleration Y at stance - knee (m/s^2)",
           0.00022584390843830506
          ],
          [
           "Mean step jerk X at swing - knee (m/s^3)",
           0.0002251574143444603
          ],
          [
           "Mean phase excursion - rhindlimb - hip (°)",
           0.00021792922125335362
          ],
          [
           "Mean step acceleration Y at swing - ankle (m/s^2)",
           0.00021626020461034735
          ],
          [
           "Mean step acceleration X at swing - knee (m/s^2)",
           0.0002155515777175237
          ],
          [
           "Mean angle during stance - rhindlimb - ankle (°)_sin",
           0.00020875047190182884
          ],
          [
           "Mean phase acceleration at peak - rhindlimb - lHindpaw (rad/s^2)_sin",
           0.00020728878296112657
          ],
          [
           "Mean step jerk Y during swing - lHindpaw (m/s^3)",
           0.00020623087247735185
          ],
          [
           "Mean phase velocity at peak - rhindlimb - ankle (rad/s)_cos",
           0.0002005922875800589
          ],
          [
           "Mean angle acceleration during swing - rhindlimb - knee (rad/s^2)_sin",
           0.00019805947043558255
          ],
          [
           "Mean step acceleration X at peak - hip (m/s^2)",
           0.00019505426829882107
          ],
          [
           "Mean step velocity X at stance - knee (m/s)",
           0.00019303150207561535
          ],
          [
           "Mean phase velocity during stance - rhindlimb - ankle (rad/s)_sin",
           0.00019216570335219775
          ],
          [
           "Mean phase acceleration at touchdown - rhindlimb - knee (rad/s^2)_cos",
           0.0001890119506450159
          ],
          [
           "Mean angle at swing - rhindlimb - hip (°)_sin",
           0.0001881111604227624
          ],
          [
           "Mean step velocity X at touchdown - ankle (m/s)",
           0.00018525251521187586
          ],
          [
           "Mean step jerk Y at swing - lHindpaw (m/s^3)",
           0.00017922909815995972
          ],
          [
           "Mean angle at swing - rhindlimb - knee (°)_cos",
           0.00017663065164295522
          ],
          [
           "Mean step velocity Y during swing - ankle (m/s)",
           0.0001736555241500739
          ],
          [
           "Mean phase during swing - rhindlimb - knee (°)_sin",
           0.00016734862537069064
          ],
          [
           "Mean angle acceleration at swing - rhindlimb - hip (rad/s^2)_cos",
           0.00016520096728472682
          ],
          [
           "Mean phase during stance - rhindlimb - lHindpaw (°)_cos",
           0.00016301687404774267
          ],
          [
           "Mean angle during swing - rhindlimb - hip (°)_cos",
           0.000162119482215372
          ],
          [
           "Mean phase velocity during swing - rhindlimb - knee (rad/s)_sin",
           0.00015874509461894022
          ],
          [
           "Mean angle acceleration during swing - rhindlimb - ankle (rad/s^2)_sin",
           0.00015584800348144985
          ],
          [
           "Mean phase acceleration during swing - rhindlimb - ankle (rad/s^2)_cos",
           0.00014810832616585505
          ],
          [
           "Mean angle acceleration at swing - rhindlimb - lHindfingers (rad/s^2)_sin",
           0.00014441724083875802
          ],
          [
           "Mean phase at peak - rhindlimb - ankle (°)_cos",
           0.00014380026872772255
          ],
          [
           "Mean angle acceleration at swing - rhindlimb - lHindpaw (rad/s^2)_cos",
           0.00014136290784344405
          ],
          [
           "Mean step acceleration X at stance - lHindpaw (m/s^2)",
           0.0001411150836434335
          ],
          [
           "Mean phase at swing - rhindlimb - lHindpaw (°)_cos",
           0.00014065834347278097
          ],
          [
           "Mean phase acceleration at swing - rhindlimb - lHindpaw (rad/s^2)_sin",
           0.00014011387147790121
          ],
          [
           "Mean angle velocity during stance - rhindlimb - ankle (rad/s)_cos",
           0.0001357485022733368
          ],
          [
           "Mean angle velocity during stance - rhindlimb - knee (rad/s)_sin",
           0.000135010650816729
          ],
          [
           "Mean step jerk Y at touchdown - ankle (m/s^3)",
           0.00013161544564235054
          ],
          [
           "Mean angle velocity during stance - rhindlimb - lHindfingers (rad/s)_sin",
           0.00013011575314230442
          ],
          [
           "Mean phase during swing - rhindlimb - ankle (°)_sin",
           0.00012932371956329315
          ],
          [
           "Mean angle during swing - rhindlimb - knee (°)_sin",
           0.00012857135729228415
          ],
          [
           "Mean phase acceleration at stance - rhindlimb - lHindpaw (rad/s^2)_cos",
           0.0001266649838618034
          ],
          [
           "Mean step velocity Y at peak - knee (m/s)",
           0.00012532327211717799
          ],
          [
           "Mean step velocity Y at swing - lHindpaw (m/s)",
           0.00012345698978749554
          ],
          [
           "Mean phase acceleration at peak - rhindlimb - lHindpaw (rad/s^2)_cos",
           0.00012254425853875219
          ],
          [
           "Mean angle velocity during swing - rhindlimb - ankle (rad/s)_sin",
           0.00012174494313016413
          ],
          [
           "Mean angle velocity at swing - rhindlimb - lHindpaw (rad/s)_sin",
           0.00011696767750741557
          ],
          [
           "Mean step velocity Y at touchdown - hip (m/s)",
           0.00011696383918970263
          ],
          [
           "Mean angle acceleration - rhindlimb - lHindfingers (rad/s^2)_sin",
           0.00011642882275745909
          ],
          [
           "Mean step jerk Y at peak - knee (m/s^3)",
           0.000115373354271871
          ],
          [
           "Mean angle acceleration at peak - rhindlimb - lHindpaw (rad/s^2)_sin",
           0.00011493205575312343
          ],
          [
           "Mean step jerk X at swing - hip (m/s^3)",
           0.00011400386933608486
          ],
          [
           "Mean angle velocity at stance - rhindlimb - lHindfingers (rad/s)_sin",
           0.00011218954222820943
          ],
          [
           "Mean step acceleration X at stance - ankle (m/s^2)",
           0.0001121738926782665
          ],
          [
           "Mean phase value - rhindlimb - hip (°)_sin",
           0.00010120347847899715
          ],
          [
           "Mean step velocity Y during swing - lHindpaw (m/s)",
           0.00010068960220814432
          ],
          [
           "Mean phase acceleration at swing - rhindlimb - ankle (rad/s^2)_cos",
           0.00009994490666108793
          ],
          [
           "Mean angle velocity at swing - rhindlimb - ankle (rad/s)_sin",
           0.00009975113868453405
          ],
          [
           "Mean phase velocity during stance - rhindlimb - lHindpaw (rad/s)_cos",
           0.00009938163293940992
          ],
          [
           "Mean step acceleration X at touchdown - lHindpaw (m/s^2)",
           0.00009857453472704695
          ],
          [
           "Mean angle velocity at peak - rhindlimb - hip (rad/s)_cos",
           0.00009832371878945233
          ],
          [
           "Mean phase velocity at peak - rhindlimb - knee (rad/s)_sin",
           0.00009703494511454649
          ],
          [
           "Mean phase velocity at swing - rhindlimb - ankle (rad/s)_sin",
           0.00009535921199490235
          ],
          [
           "Mean step acceleration Y during stance - hip (m/s^2)",
           0.00009401992821758748
          ],
          [
           "Mean angle velocity at touchdown - rhindlimb - lHindpaw (rad/s)_cos",
           0.00009268776566856497
          ],
          [
           "Mean step jerk Y at stance - hip (m/s^3)",
           0.00009116038232522282
          ],
          [
           "Mean step jerk X during swing - knee (m/s^3)",
           0.00008880376770384597
          ],
          [
           "Mean angle acceleration during stance - rhindlimb - lHindfingers (rad/s^2)_cos",
           0.00008511605686802463
          ],
          [
           "Mean angle acceleration - rhindlimb - knee (rad/s^2)_cos",
           0.00008441359287929045
          ],
          [
           "Mean step jerk X at peak - lHindfingers (m/s^3)",
           0.00008431550885612555
          ],
          [
           "Mean phase at swing - rhindlimb - hip (°)_cos",
           0.00008247313850714166
          ],
          [
           "Mean angle acceleration during swing - rhindlimb - ankle (rad/s^2)_cos",
           0.00007955357192010657
          ],
          [
           "Mean angle at swing - rhindlimb - knee (°)_sin",
           0.0000788680643132211
          ],
          [
           "Mean phase at peak - rhindlimb - knee (°)_sin",
           0.0000781365662042319
          ],
          [
           "Mean angle velocity during stance - rhindlimb - hip (rad/s)_sin",
           0.0000776805144216506
          ],
          [
           "Mean step acceleration Y at touchdown - hip (m/s^2)",
           0.00007573850700351931
          ],
          [
           "Mean phase velocity during swing - rhindlimb - ankle (rad/s)_cos",
           0.00007455963899043502
          ],
          [
           "Mean phase at swing - rhindlimb - hip (°)_sin",
           0.0000741037163259456
          ],
          [
           "Mean phase velocity at touchdown - rhindlimb - ankle (rad/s)_sin",
           0.00007075909031427557
          ],
          [
           "Mean angle velocity at peak - rhindlimb - lHindfingers (rad/s)_cos",
           0.00007010985398259462
          ],
          [
           "Mean phase velocity at peak - rhindlimb - lHindpaw (rad/s)_sin",
           0.00006959007145533585
          ],
          [
           "Mean step velocity X at peak - hip (m/s)",
           0.00006800136754774762
          ],
          [
           "Mean step acceleration X at touchdown - ankle (m/s^2)",
           0.00006318079326237404
          ],
          [
           "Mean step jerk X at stance - hip (m/s^3)",
           0.000060082650047274484
          ],
          [
           "Mean angle velocity at touchdown - rhindlimb - lHindfingers (rad/s)_sin",
           0.000060022146905887034
          ],
          [
           "Mean angle velocity at touchdown - rhindlimb - lHindfingers (rad/s)_cos",
           0.00005884994521583342
          ],
          [
           "Mean phase value - rhindlimb - ankle (°)_cos",
           0.00005871116548820038
          ],
          [
           "Mean phase during swing - rhindlimb - hip (°)_sin",
           0.00005799773197169555
          ],
          [
           "Mean phase velocity at peak - rhindlimb - lHindpaw (rad/s)_cos",
           0.000056355909241018405
          ],
          [
           "Mean step jerk X during swing - hip (m/s^3)",
           0.00005626742141768127
          ],
          [
           "Mean angle acceleration during stance - rhindlimb - lHindpaw (rad/s^2)_sin",
           0.000054396776471719426
          ],
          [
           "Mean angle acceleration at peak - rhindlimb - lHindfingers (rad/s^2)_sin",
           0.000052513179259696886
          ],
          [
           "Mean angle velocity at swing - rhindlimb - hip (rad/s)_sin",
           0.00005169348276755168
          ],
          [
           "Mean phase during stance - rhindlimb - ankle (°)_cos",
           0.000051631424760098785
          ],
          [
           "Mean phase acceleration at stance - rhindlimb - hip (rad/s^2)_cos",
           0.00004997961178593974
          ],
          [
           "Mean step jerk X during swing - lHindfingers (m/s^3)",
           0.000047182393887665875
          ],
          [
           "Mean step jerk Y at swing - knee (m/s^3)",
           0.00004664624484434677
          ],
          [
           "Mean angle velocity during swing - rhindlimb - lHindpaw (rad/s)_cos",
           0.00004628474509343165
          ],
          [
           "Mean phase during swing - rhindlimb - hip (°)_cos",
           0.00004595143972752339
          ],
          [
           "Mean step velocity Y at swing - knee (m/s)",
           0.000044650554888708896
          ],
          [
           "Mean step acceleration X at peak - ankle (m/s^2)",
           0.0000423063453712798
          ],
          [
           "Mean phase velocity during stance - rhindlimb - ankle (rad/s)_cos",
           0.0000414254782240215
          ],
          [
           "Mean step velocity X at touchdown - lHindpaw (m/s)",
           0.000041143433000320185
          ],
          [
           "Mean step jerk Y at swing - lHindfingers (m/s^3)",
           0.00003677618238125949
          ],
          [
           "Mean angle acceleration at peak - rhindlimb - lHindfingers (rad/s^2)_cos",
           0.00003537226786119059
          ],
          [
           "Mean angle acceleration at swing - rhindlimb - knee (rad/s^2)_cos",
           0.00003449026685872915
          ],
          [
           "Mean angle velocity - rhindlimb - lHindfingers (rad/s)_cos",
           0.000033053562509021916
          ],
          [
           "Mean phase acceleration at swing - rhindlimb - knee (rad/s^2)_sin",
           0.00002951430368924527
          ],
          [
           "Mean step velocity X at stance - lHindpaw (m/s)",
           0.000029040764309197522
          ],
          [
           "Mean phase velocity at stance - rhindlimb - lHindpaw (rad/s)_cos",
           0.000028927204022880068
          ],
          [
           "Mean angle acceleration at stance - rhindlimb - hip (rad/s^2)_cos",
           0.000028383483236543983
          ],
          [
           "Mean angle velocity at swing - rhindlimb - lHindfingers (rad/s)_cos",
           0.000025596963402186986
          ],
          [
           "Mean angle velocity at touchdown - rhindlimb - lHindpaw (rad/s)_sin",
           0.000023245140834298056
          ],
          [
           "Mean step velocity X during swing - lHindpaw (m/s)",
           0.000021354301804779074
          ],
          [
           "Mean phase acceleration - rhindlimb - ankle (rad/s^2)_cos",
           0.000019955811074326365
          ],
          [
           "Mean phase acceleration - rhindlimb - hip (rad/s^2)_sin",
           0.000019944285238749894
          ],
          [
           "Mean step velocity Y during swing - knee (m/s)",
           0.000018570271499805656
          ],
          [
           "Mean angle value - rhindlimb - knee (°)_sin",
           0.00001838489383176
          ],
          [
           "Mean angle velocity during stance - rhindlimb - lHindpaw (rad/s)_sin",
           0.00001834005791792622
          ],
          [
           "Mean phase at swing - rhindlimb - knee (°)_cos",
           0.000018317311834756677
          ],
          [
           "Mean step velocity Y during stance - lHindfingers (m/s)",
           0.000018305675350914357
          ],
          [
           "Mean angle acceleration - rhindlimb - ankle (rad/s^2)_sin",
           0.00001786575741204808
          ],
          [
           "Mean angle acceleration at swing - rhindlimb - ankle (rad/s^2)_sin",
           0.000016759588129194217
          ],
          [
           "Mean step velocity X at stance - lHindfingers (m/s)",
           0.00001576922714691647
          ],
          [
           "Mean phase velocity - rhindlimb - knee (rad/s)_cos",
           0.000015561819022194055
          ],
          [
           "Mean step acceleration X during swing - hip (m/s^2)",
           0.000015358925106079897
          ],
          [
           "Mean angle at swing - rhindlimb - ankle (°)_sin",
           0.000015159496918801512
          ],
          [
           "Mean step acceleration X during swing - knee (m/s^2)",
           0.000013482799315767677
          ],
          [
           "Mean step jerk X at touchdown - hip (m/s^3)",
           0.000013326306716993618
          ],
          [
           "Mean angle velocity at touchdown - rhindlimb - knee (rad/s)_cos",
           0.000012687935706144815
          ],
          [
           "Mean phase acceleration - rhindlimb - lHindpaw (rad/s^2)_sin",
           0.000012171327314458504
          ],
          [
           "Mean phase acceleration at touchdown - rhindlimb - ankle (rad/s^2)_sin",
           0.000011983109688760264
          ],
          [
           "Mean angle acceleration at swing - rhindlimb - hip (rad/s^2)_sin",
           0.000010965912109358141
          ],
          [
           "Mean angle acceleration at swing - rhindlimb - lHindfingers (rad/s^2)_cos",
           0.000010266952087675046
          ],
          [
           "Mean phase acceleration during swing - rhindlimb - lHindpaw (rad/s^2)_sin",
           0.000009811163394775538
          ],
          [
           "Mean step acceleration Y at peak - lHindfingers (m/s^2)",
           0.000009751543698114242
          ],
          [
           "Mean angle at stance - rhindlimb - knee (°)_cos",
           0.000008119628613210001
          ],
          [
           "Mean angle velocity at stance - rhindlimb - ankle (rad/s)_sin",
           0.000006614120715927875
          ],
          [
           "Mean phase velocity during stance - rhindlimb - lHindpaw (rad/s)_sin",
           0.0000059030718712058675
          ],
          [
           "Mean angle acceleration at peak - rhindlimb - knee (rad/s^2)_sin",
           0.000005210516553031743
          ],
          [
           "Mean step velocity X during swing - ankle (m/s)",
           0.0000038992556253555425
          ],
          [
           "Mean angle acceleration at touchdown - rhindlimb - knee (rad/s^2)_cos",
           0.0000021607031544653765
          ],
          [
           "Mean phase at swing - rhindlimb - knee (°)_sin",
           0.0000018649305914640966
          ],
          [
           "Mean angle acceleration at stance - rhindlimb - ankle (rad/s^2)_cos",
           0.0000016838396256109498
          ],
          [
           "Mean step jerk X at swing - lHindfingers (m/s^3)",
           0.0000012289900632767069
          ],
          [
           "Mean phase acceleration at swing - rhindlimb - hip (rad/s^2)_sin",
           0.0000011217534693399167
          ],
          [
           "Mean angle velocity at stance - rhindlimb - lHindpaw (rad/s)_sin",
           9.26015836096217e-7
          ],
          [
           "Mean step acceleration X at stance - lHindfingers (m/s^2)",
           0
          ],
          [
           "Mean angle velocity at swing - rhindlimb - lHindpaw (rad/s)_cos",
           0
          ],
          [
           "Mean step velocity X at touchdown - lHindfingers (m/s)",
           0
          ],
          [
           "Mean angle velocity at swing - rhindlimb - hip (rad/s)_cos",
           0
          ],
          [
           "Mean step velocity X at touchdown - knee (m/s)",
           0
          ],
          [
           "Mean angle at touchdown - rhindlimb - knee (°)_sin",
           0
          ],
          [
           "Mean angle acceleration at touchdown - rhindlimb - lHindpaw (rad/s^2)_cos",
           0
          ],
          [
           "Mean angle acceleration during stance - rhindlimb - hip (rad/s^2)_cos",
           0
          ],
          [
           "Mean phase during stance - rhindlimb - ankle (°)_sin",
           0
          ],
          [
           "Mean phase acceleration during stance - rhindlimb - ankle (rad/s^2)_sin",
           0
          ],
          [
           "Mean step velocity X at stance - hip (m/s)",
           0
          ],
          [
           "Mean angle acceleration during stance - rhindlimb - lHindfingers (rad/s^2)_sin",
           0
          ],
          [
           "Mean angle velocity at touchdown - rhindlimb - ankle (rad/s)_cos",
           0
          ],
          [
           "Mean angle velocity during swing - rhindlimb - lHindpaw (rad/s)_sin",
           0
          ],
          [
           "Mean step velocity X at peak - lHindpaw (m/s)",
           0
          ],
          [
           "Mean step velocity X during swing - lHindfingers (m/s)",
           0
          ],
          [
           "Mean step acceleration X during swing - lHindfingers (m/s^2)",
           0
          ],
          [
           "Mean angle acceleration at touchdown - rhindlimb - knee (rad/s^2)_sin",
           0
          ],
          [
           "Mean angle velocity during stance - rhindlimb - lHindfingers (rad/s)_cos",
           0
          ],
          [
           "Mean angle velocity during stance - rhindlimb - knee (rad/s)_cos",
           0
          ],
          [
           "Mean angle velocity during swing - rhindlimb - hip (rad/s)_sin",
           0
          ],
          [
           "Mean step velocity Y during swing - lHindfingers (m/s)",
           0
          ],
          [
           "Mean phase velocity during swing - rhindlimb - hip (rad/s)_sin",
           0
          ],
          [
           "Mean step velocity Y at stance - lHindfingers (m/s)",
           0
          ],
          [
           "Mean phase acceleration during swing - rhindlimb - lHindpaw (rad/s^2)_cos",
           0
          ],
          [
           "Mean step jerk X during swing - lHindpaw (m/s^3)",
           0
          ],
          [
           "Mean step jerk X at touchdown - knee (m/s^3)",
           0
          ],
          [
           "Mean step jerk Y at swing - hip (m/s^3)",
           0
          ],
          [
           "Mean angle acceleration - rhindlimb - hip (rad/s^2)_sin",
           0
          ],
          [
           "Mean phase acceleration at swing - rhindlimb - lHindpaw (rad/s^2)_cos",
           0
          ],
          [
           "Mean phase acceleration during stance - rhindlimb - hip (rad/s^2)_cos",
           0
          ],
          [
           "Mean phase acceleration during stance - rhindlimb - knee (rad/s^2)_cos",
           0
          ],
          [
           "Mean phase acceleration during stance - rhindlimb - ankle (rad/s^2)_cos",
           0
          ],
          [
           "Mean phase velocity at touchdown - rhindlimb - lHindpaw (rad/s)_sin",
           0
          ],
          [
           "Mean phase value - rhindlimb - lHindpaw (°)_cos",
           0
          ],
          [
           "Mean phase velocity at swing - rhindlimb - hip (rad/s)_sin",
           0
          ],
          [
           "Mean phase velocity at stance - rhindlimb - hip (rad/s)_sin",
           0
          ],
          [
           "Mean phase velocity during stance - rhindlimb - hip (rad/s)_sin",
           0
          ],
          [
           "Mean phase velocity at stance - rhindlimb - lHindpaw (rad/s)_sin",
           0
          ],
          [
           "Mean phase acceleration at stance - rhindlimb - ankle (rad/s^2)_sin",
           0
          ],
          [
           "Mean phase acceleration at stance - rhindlimb - lHindpaw (rad/s^2)_sin",
           0
          ],
          [
           "Mean angle value - rhindlimb - hip (°)_sin",
           0
          ],
          [
           "Mean step velocity Y at peak - hip (m/s)",
           0
          ],
          [
           "Mean step velocity X during stance - hip (m/s)",
           0
          ],
          [
           "Mean phase excursion - rhindlimb - knee (°)",
           0
          ],
          [
           "Mean angle excursion - rhindlimb - knee (°)",
           0
          ],
          [
           "Mean phase velocity during swing - rhindlimb - knee (rad/s)_cos",
           0
          ],
          [
           "Mean angle at touchdown - rhindlimb - knee (°)_cos",
           0
          ],
          [
           "Mean step acceleration Y at touchdown - knee (m/s^2)",
           0
          ],
          [
           "Mean phase velocity at swing - rhindlimb - hip (rad/s)_cos",
           0
          ],
          [
           "Mean phase velocity at peak - rhindlimb - hip (rad/s)_cos",
           0
          ],
          [
           "Mean phase velocity at swing - rhindlimb - lHindpaw (rad/s)_cos",
           0
          ],
          [
           "Mean angle velocity during stance - rhindlimb - ankle (rad/s)_sin",
           0
          ],
          [
           "Mean angle velocity at peak - rhindlimb - lHindfingers (rad/s)_sin",
           0
          ],
          [
           "Mean angle velocity at peak - rhindlimb - lHindpaw (rad/s)_sin",
           0
          ],
          [
           "Mean phase acceleration - rhindlimb - knee (rad/s^2)_cos",
           0
          ],
          [
           "Mean angle velocity at peak - rhindlimb - ankle (rad/s)_sin",
           0
          ],
          [
           "Mean angle acceleration - rhindlimb - lHindpaw (rad/s^2)_cos",
           0
          ],
          [
           "Mean angle acceleration - rhindlimb - ankle (rad/s^2)_cos",
           0
          ],
          [
           "Mean angle acceleration - rhindlimb - hip (rad/s^2)_cos",
           0
          ],
          [
           "Mean phase velocity - rhindlimb - lHindpaw (rad/s)_cos",
           0
          ],
          [
           "Mean step jerk Y at touchdown - lHindfingers (m/s^3)",
           0
          ],
          [
           "Mean step velocity Y at touchdown - ankle (m/s)",
           0
          ],
          [
           "Mean angle acceleration during swing - rhindlimb - lHindpaw (rad/s^2)_cos",
           0
          ],
          [
           "Mean angle acceleration during swing - rhindlimb - knee (rad/s^2)_cos",
           0
          ]
         ],
         "hovertemplate": "direction=away_from_healthy<br>importance=%{x}<br>change_effect_size=%{y}<br>combined_rank=%{customdata[1]}<br>feature=%{customdata[0]}<extra></extra>",
         "legendgroup": "away_from_healthy",
         "marker": {
          "color": "red",
          "size": {
           "bdata": "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",
           "dtype": "f8"
          },
          "sizemode": "area",
          "sizeref": 0.00006187104987104247,
          "symbol": "circle"
         },
         "mode": "markers",
         "name": "away_from_healthy",
         "orientation": "v",
         "showlegend": true,
         "type": "scatter",
         "x": {
          "bdata": "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",
          "dtype": "f8"
         },
         "xaxis": "x",
         "y": {
          "bdata": "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",
          "dtype": "f8"
         },
         "yaxis": "y"
        },
        {
         "customdata": [
          [
           "Mean angle at touchdown - rhindlimb - lHindfingers (°)_cos",
           0.02362045997622503
          ],
          [
           "Mean angle at touchdown - rhindlimb - lHindfingers (°)_sin",
           0.019469741353882856
          ],
          [
           "Mean step acceleration Y at touchdown - ankle (m/s^2)",
           0.01834756647156518
          ],
          [
           "Mean angle at stance - rhindlimb - lHindpaw (°)_sin",
           0.012820587777311697
          ],
          [
           "Mean angle value - rhindlimb - lHindpaw (°)_sin",
           0.012690687490330206
          ],
          [
           "Mean step acceleration Y at touchdown - lHindfingers (m/s^2)",
           0.012151038826655549
          ],
          [
           "Mean angle at stance - rhindlimb - lHindpaw (°)_cos",
           0.0096094497153303
          ],
          [
           "Mean step acceleration Y during stance - knee (m/s^2)",
           0.0088931880256643
          ],
          [
           "Mean angle during swing - rhindlimb - lHindpaw (°)_cos",
           0.008124084026439538
          ],
          [
           "Mean phase at touchdown - rhindlimb - lHindpaw (°)_cos",
           0.008101535638257159
          ],
          [
           "Mean angle during swing - rhindlimb - lHindpaw (°)_sin",
           0.007670319651314794
          ],
          [
           "Mean angle at touchdown - rhindlimb - lHindpaw (°)_sin",
           0.007089947535989934
          ],
          [
           "Mean angle value - rhindlimb - lHindpaw (°)_cos",
           0.006580624063910073
          ],
          [
           "Mean step acceleration Y at touchdown - lHindpaw (m/s^2)",
           0.00656076856583127
          ],
          [
           "Mean angle at stance - rhindlimb - hip (°)_cos",
           0.006069340597912113
          ],
          [
           "Mean step acceleration X during stance - ankle (m/s^2)",
           0.006017275590848209
          ],
          [
           "Mean angle velocity - rhindlimb - knee (rad/s)_sin",
           0.005407721494935309
          ],
          [
           "Mean angle during stance - rhindlimb - lHindpaw (°)_cos",
           0.0051279668148091475
          ],
          [
           "Mean angle velocity - rhindlimb - knee (rad/s)_cos",
           0.005026618687034951
          ],
          [
           "Mean angle during stance - rhindlimb - lHindpaw (°)_sin",
           0.004855001304686015
          ],
          [
           "Mean phase at stance - rhindlimb - lHindpaw (°)_cos",
           0.004489826177374311
          ],
          [
           "Mean step acceleration Y at stance - lHindfingers (m/s^2)",
           0.004445220378813798
          ],
          [
           "Mean angle at stance - rhindlimb - lHindfingers (°)_cos",
           0.004377099371859828
          ],
          [
           "Mean phase at stance - rhindlimb - hip (°)_cos",
           0.004351631573319863
          ],
          [
           "Mean step acceleration Y at peak - hip (m/s^2)",
           0.004310857823095658
          ],
          [
           "Mean angle at touchdown - rhindlimb - lHindpaw (°)_cos",
           0.00392105807827004
          ],
          [
           "Mean angle at stance - rhindlimb - hip (°)_sin",
           0.003833308185293895
          ],
          [
           "Mean angle at stance - rhindlimb - lHindfingers (°)_sin",
           0.0036564299547343047
          ],
          [
           "Mean step acceleration X during stance - lHindpaw (m/s^2)",
           0.003349232218606864
          ],
          [
           "Mean step velocity Y during stance - knee (m/s)",
           0.002949361106876474
          ],
          [
           "Mean step velocity Y during stance - lHindpaw (m/s)",
           0.0027011697205223148
          ],
          [
           "Mean step jerk Y during stance - lHindfingers (m/s^3)",
           0.0026229982866767337
          ],
          [
           "Mean step acceleration Y during swing - ankle (m/s^2)",
           0.0024772325299407096
          ],
          [
           "Mean step jerk X at swing - ankle (m/s^3)",
           0.0023948172623530295
          ],
          [
           "Mean phase at stance - rhindlimb - lHindpaw (°)_sin",
           0.0022617286879611075
          ],
          [
           "Mean phase at stance - rhindlimb - hip (°)_sin",
           0.0020269856662103064
          ],
          [
           "Mean step acceleration Y at stance - lHindpaw (m/s^2)",
           0.0019078298089290372
          ],
          [
           "Mean step frequency (Hz)",
           0.0018751805024720947
          ],
          [
           "Mean step acceleration Y at swing - hip (m/s^2)",
           0.001668812883064799
          ],
          [
           "Mean step acceleration Y at stance - ankle (m/s^2)",
           0.0015480175837610838
          ],
          [
           "Mean phase at touchdown - rhindlimb - lHindpaw (°)_sin",
           0.001546109145841711
          ],
          [
           "Mean phase velocity at swing - rhindlimb - ankle (rad/s)_cos",
           0.0014875656514564159
          ],
          [
           "Mean phase at touchdown - rhindlimb - knee (°)_cos",
           0.0013247388038956152
          ],
          [
           "Mean step velocity Y at stance - knee (m/s)",
           0.0012650349206478513
          ],
          [
           "Mean step height (m)",
           0.0012599136926735378
          ],
          [
           "Mean phase at stance - rhindlimb - knee (°)_cos",
           0.0011434929006685212
          ],
          [
           "Mean phase at stance - rhindlimb - knee (°)_sin",
           0.0011135224903587393
          ],
          [
           "Mean step velocity Y at touchdown - lHindpaw (m/s)",
           0.0010826644762039666
          ],
          [
           "Mean step acceleration Y during stance - ankle (m/s^2)",
           0.0010586431844761706
          ],
          [
           "Mean step acceleration X at swing - ankle (m/s^2)",
           0.0010583210445268899
          ],
          [
           "Mean step acceleration Y during swing - lHindpaw (m/s^2)",
           0.0010307437449273338
          ],
          [
           "Mean step acceleration Y during stance - lHindpaw (m/s^2)",
           0.0010246432131828735
          ],
          [
           "Mean step velocity X at swing - knee (m/s)",
           0.001004442970092719
          ],
          [
           "Mean angle velocity - rhindlimb - hip (rad/s)_sin",
           0.0009830686405644274
          ],
          [
           "Mean phase acceleration at peak - rhindlimb - ankle (rad/s^2)_cos",
           0.0009740471725359084
          ],
          [
           "Mean phase at touchdown - rhindlimb - ankle (°)_sin",
           0.0009106396717412341
          ],
          [
           "Mean angle velocity during swing - rhindlimb - knee (rad/s)_cos",
           0.0008018219558278932
          ],
          [
           "Mean phase at stance - rhindlimb - ankle (°)_cos",
           0.0007565522744518123
          ],
          [
           "Mean step acceleration X during stance - knee (m/s^2)",
           0.0007449450617792308
          ],
          [
           "Mean phase velocity - rhindlimb - hip (rad/s)_sin",
           0.000703410609971538
          ],
          [
           "Mean step jerk X at peak - hip (m/s^3)",
           0.000677467210697546
          ],
          [
           "Mean step velocity Y during stance - ankle (m/s)",
           0.0006617779924715974
          ],
          [
           "Mean phase acceleration at swing - rhindlimb - ankle (rad/s^2)_sin",
           0.0006359915099611094
          ],
          [
           "Mean phase velocity during stance - rhindlimb - hip (rad/s)_cos",
           0.0006327928181487635
          ],
          [
           "Mean angle at peak - rhindlimb - lHindpaw (°)_sin",
           0.0006325502350088819
          ],
          [
           "Mean angle at peak - rhindlimb - lHindpaw (°)_cos",
           0.0006285645012416834
          ],
          [
           "Mean phase velocity - rhindlimb - hip (rad/s)_cos",
           0.0006265086634115066
          ],
          [
           "Mean phase at touchdown - rhindlimb - ankle (°)_cos",
           0.0005943086289435554
          ],
          [
           "Mean phase acceleration during swing - rhindlimb - hip (rad/s^2)_sin",
           0.0005755900047286944
          ],
          [
           "Mean angle at touchdown - rhindlimb - hip (°)_sin",
           0.0005529326219607898
          ],
          [
           "Mean angle acceleration at stance - rhindlimb - ankle (rad/s^2)_sin",
           0.0005526154145306775
          ],
          [
           "Mean angle velocity at stance - rhindlimb - knee (rad/s)_sin",
           0.0005513057872770163
          ],
          [
           "Mean angle at touchdown - rhindlimb - ankle (°)_sin",
           0.0005509971563865178
          ],
          [
           "Mean angle during stance - rhindlimb - knee (°)_cos",
           0.0005291393600679118
          ],
          [
           "Mean phase acceleration at touchdown - rhindlimb - knee (rad/s^2)_sin",
           0.0005282847574123946
          ],
          [
           "Mean step velocity X at peak - knee (m/s)",
           0.000512341498908759
          ],
          [
           "Mean phase value - rhindlimb - knee (°)_cos",
           0.00045546590807272227
          ],
          [
           "Mean angle velocity at swing - rhindlimb - knee (rad/s)_cos",
           0.00043753387453482
          ],
          [
           "Mean angle velocity at touchdown - rhindlimb - knee (rad/s)_sin",
           0.00043310576058922575
          ],
          [
           "Mean angle velocity during swing - rhindlimb - lHindfingers (rad/s)_sin",
           0.0004301113971632599
          ],
          [
           "Mean angle at touchdown - rhindlimb - hip (°)_cos",
           0.0004163751388610729
          ],
          [
           "Mean phase at touchdown - rhindlimb - hip (°)_sin",
           0.0003912647824393056
          ],
          [
           "Mean phase at stance - rhindlimb - ankle (°)_sin",
           0.00037858579021979885
          ],
          [
           "Mean step velocity X at swing - lHindfingers (m/s)",
           0.00037139697217931954
          ],
          [
           "Mean step jerk X at stance - ankle (m/s^3)",
           0.00037123515297399077
          ],
          [
           "Mean phase at touchdown - rhindlimb - hip (°)_cos",
           0.00035783231247277073
          ],
          [
           "Mean step acceleration Y during swing - knee (m/s^2)",
           0.00034551949841704236
          ],
          [
           "Mean angle acceleration during swing - rhindlimb - lHindfingers (rad/s^2)_sin",
           0.00032373215071884503
          ],
          [
           "Mean step jerk Y during swing - lHindfingers (m/s^3)",
           0.0003207130952215656
          ],
          [
           "Mean phase acceleration at stance - rhindlimb - ankle (rad/s^2)_cos",
           0.0003185910293337796
          ],
          [
           "Mean phase velocity at peak - rhindlimb - ankle (rad/s)_sin",
           0.00030986401240144795
          ],
          [
           "Mean step jerk Y at peak - hip (m/s^3)",
           0.00030628465252936527
          ],
          [
           "Mean phase during stance - rhindlimb - hip (°)_sin",
           0.00030070641587268224
          ],
          [
           "Mean step velocity Y at peak - lHindpaw (m/s)",
           0.00029763146975776835
          ],
          [
           "Mean step acceleration X at stance - hip (m/s^2)",
           0.00029430503170188533
          ],
          [
           "Mean phase velocity at peak - rhindlimb - hip (rad/s)_sin",
           0.00029134638384797364
          ],
          [
           "Mean phase at touchdown - rhindlimb - knee (°)_sin",
           0.00028631054523466836
          ],
          [
           "Mean step velocity X during swing - hip (m/s)",
           0.00026227108949317915
          ],
          [
           "Mean angle during stance - rhindlimb - hip (°)_sin",
           0.00024981322246401313
          ],
          [
           "Mean angle at swing - rhindlimb - lHindpaw (°)_cos",
           0.0002491923732198971
          ],
          [
           "Mean phase during stance - rhindlimb - knee (°)_cos",
           0.00023913483876464382
          ],
          [
           "Mean step velocity X at peak - lHindfingers (m/s)",
           0.00023680347999310844
          ],
          [
           "Mean phase acceleration during stance - rhindlimb - lHindpaw (rad/s^2)_sin",
           0.0002367603042618137
          ],
          [
           "Mean step velocity Y at touchdown - lHindfingers (m/s)",
           0.00023266485910039517
          ],
          [
           "Mean angle velocity at swing - rhindlimb - ankle (rad/s)_cos",
           0.00021993768352373232
          ],
          [
           "Mean phase acceleration at peak - rhindlimb - hip (rad/s^2)_cos",
           0.00021460240324594964
          ],
          [
           "Mean angle velocity during stance - rhindlimb - hip (rad/s)_cos",
           0.00020638337617116548
          ],
          [
           "Mean phase velocity at swing - rhindlimb - knee (rad/s)_sin",
           0.00019805710211434898
          ],
          [
           "Mean angle during stance - rhindlimb - knee (°)_sin",
           0.0001932122308313684
          ],
          [
           "Mean angle velocity at peak - rhindlimb - hip (rad/s)_sin",
           0.00019132942332749633
          ],
          [
           "Mean angle velocity - rhindlimb - lHindfingers (rad/s)_sin",
           0.00018763580662158234
          ],
          [
           "Mean angle velocity - rhindlimb - hip (rad/s)_cos",
           0.0001843774684526511
          ],
          [
           "Mean step acceleration Y at peak - knee (m/s^2)",
           0.00018299741796472336
          ],
          [
           "Mean phase velocity during swing - rhindlimb - hip (rad/s)_cos",
           0.00017698923449395676
          ],
          [
           "Mean step jerk Y at touchdown - lHindpaw (m/s^3)",
           0.00016808610516660035
          ],
          [
           "Mean angle acceleration during swing - rhindlimb - hip (rad/s^2)_sin",
           0.00015909716152105776
          ],
          [
           "Mean step acceleration X during stance - lHindfingers (m/s^2)",
           0.00015688488014134672
          ],
          [
           "Mean angle at peak - rhindlimb - knee (°)_sin",
           0.0001552034027865764
          ],
          [
           "Mean step jerk Y during stance - lHindpaw (m/s^3)",
           0.0001519986398836741
          ],
          [
           "Mean angle acceleration at peak - rhindlimb - ankle (rad/s^2)_sin",
           0.00015189882751043062
          ],
          [
           "Mean step acceleration X at swing - lHindpaw (m/s^2)",
           0.00014969102303237928
          ],
          [
           "Mean step acceleration Y at swing - lHindfingers (m/s^2)",
           0.00014883345219177864
          ],
          [
           "Mean step acceleration X at swing - lHindfingers (m/s^2)",
           0.0001480029356521694
          ],
          [
           "Mean step acceleration Y at peak - lHindpaw (m/s^2)",
           0.00014227269515793256
          ],
          [
           "Mean phase acceleration - rhindlimb - hip (rad/s^2)_cos",
           0.0001402995278267815
          ],
          [
           "Mean step acceleration Y during stance - lHindfingers (m/s^2)",
           0.00013727657462906143
          ],
          [
           "Mean step jerk X at touchdown - lHindfingers (m/s^3)",
           0.00013623030857714394
          ],
          [
           "Mean step jerk Y during stance - hip (m/s^3)",
           0.0001355969616606719
          ],
          [
           "Mean angle velocity at stance - rhindlimb - lHindpaw (rad/s)_cos",
           0.00013226227606693945
          ],
          [
           "Mean step velocity Y at swing - lHindfingers (m/s)",
           0.00012668625354589949
          ],
          [
           "Mean step velocity X at peak - ankle (m/s)",
           0.00011832699478049597
          ],
          [
           "Mean step jerk Y at stance - lHindfingers (m/s^3)",
           0.0001148929308148092
          ],
          [
           "Mean step acceleration Y at swing - knee (m/s^2)",
           0.00011265429841149336
          ],
          [
           "Mean step jerk X at swing - lHindpaw (m/s^3)",
           0.00011127363736410795
          ],
          [
           "Mean phase velocity at touchdown - rhindlimb - hip (rad/s)_sin",
           0.00010619852441588346
          ],
          [
           "Mean step velocity X at touchdown - hip (m/s)",
           0.00010566274722666698
          ],
          [
           "Mean angle acceleration at touchdown - rhindlimb - hip (rad/s^2)_cos",
           0.00010558193187224837
          ],
          [
           "Mean step jerk X during stance - hip (m/s^3)",
           0.00010257787319204512
          ],
          [
           "Mean angle velocity at touchdown - rhindlimb - hip (rad/s)_sin",
           0.00010167300772350101
          ],
          [
           "Mean step jerk X at touchdown - ankle (m/s^3)",
           0.0000988237767334986
          ],
          [
           "Mean angle acceleration at touchdown - rhindlimb - lHindfingers (rad/s^2)_sin",
           0.00009798840779259772
          ],
          [
           "Mean step acceleration X during swing - lHindpaw (m/s^2)",
           0.00009789337587860989
          ],
          [
           "Mean angle velocity at peak - rhindlimb - knee (rad/s)_sin",
           0.00009779222557373591
          ],
          [
           "Mean step jerk X at touchdown - lHindpaw (m/s^3)",
           0.00009679390723032748
          ],
          [
           "Mean phase velocity at stance - rhindlimb - knee (rad/s)_sin",
           0.00009411909199467038
          ],
          [
           "Mean phase acceleration at swing - rhindlimb - knee (rad/s^2)_cos",
           0.0000925372719449618
          ],
          [
           "Mean phase acceleration - rhindlimb - lHindpaw (rad/s^2)_cos",
           0.00008473534819454657
          ],
          [
           "Mean step velocity X at swing - ankle (m/s)",
           0.00008425139035480213
          ],
          [
           "Mean step velocity X at swing - lHindpaw (m/s)",
           0.00008241873914533935
          ],
          [
           "Mean step velocity Y at stance - ankle (m/s)",
           0.00008122828625507536
          ],
          [
           "Mean angle during stance - rhindlimb - hip (°)_cos",
           0.00007961392882550255
          ],
          [
           "Mean angle velocity at swing - rhindlimb - knee (rad/s)_sin",
           0.0000772257238863352
          ],
          [
           "Mean angle acceleration during swing - rhindlimb - lHindpaw (rad/s^2)_sin",
           0.00007531256150407651
          ],
          [
           "Mean step acceleration Y at peak - ankle (m/s^2)",
           0.00007435933578319983
          ],
          [
           "Mean angle velocity at peak - rhindlimb - ankle (rad/s)_cos",
           0.00007141277709483324
          ],
          [
           "Mean phase acceleration at touchdown - rhindlimb - hip (rad/s^2)_cos",
           0.0000702362190610095
          ],
          [
           "Mean angle acceleration at stance - rhindlimb - lHindpaw (rad/s^2)_sin",
           0.00006759716509350653
          ],
          [
           "Mean angle velocity during stance - rhindlimb - lHindpaw (rad/s)_cos",
           0.00006080145047662438
          ],
          [
           "Mean phase acceleration at touchdown - rhindlimb - hip (rad/s^2)_sin",
           0.00005990682089556986
          ],
          [
           "Mean phase velocity - rhindlimb - ankle (rad/s)_cos",
           0.00005618259930869048
          ],
          [
           "Mean angle at stance - rhindlimb - ankle (°)_sin",
           0.00005583382279617592
          ],
          [
           "Mean phase velocity - rhindlimb - ankle (rad/s)_sin",
           0.000055156974267020675
          ],
          [
           "Mean angle acceleration at touchdown - rhindlimb - lHindfingers (rad/s^2)_cos",
           0.000052859114245895327
          ],
          [
           "Mean angle velocity during swing - rhindlimb - lHindfingers (rad/s)_cos",
           0.00005260614749168096
          ],
          [
           "Mean angle acceleration at touchdown - rhindlimb - ankle (rad/s^2)_cos",
           0.00005258397259707794
          ],
          [
           "Mean step jerk X at stance - knee (m/s^3)",
           0.0000523404652388299
          ],
          [
           "Mean phase value - rhindlimb - knee (°)_sin",
           0.00004919350796171356
          ],
          [
           "Mean angle at swing - rhindlimb - lHindpaw (°)_sin",
           0.00004729474354455501
          ],
          [
           "Mean phase velocity - rhindlimb - lHindpaw (rad/s)_sin",
           0.00004636348163290655
          ],
          [
           "Mean step jerk X during stance - ankle (m/s^3)",
           0.00004599009608315981
          ],
          [
           "Mean step jerk X at stance - lHindfingers (m/s^3)",
           0.000045487856157562855
          ],
          [
           "Mean angle velocity at stance - rhindlimb - ankle (rad/s)_cos",
           0.00004514930393740351
          ],
          [
           "Mean angle velocity - rhindlimb - lHindpaw (rad/s)_sin",
           0.000043926680094540714
          ],
          [
           "Mean angle acceleration at peak - rhindlimb - hip (rad/s^2)_cos",
           0.00004379725465415167
          ],
          [
           "Mean phase acceleration during swing - rhindlimb - knee (rad/s^2)_sin",
           0.00003971458145132964
          ],
          [
           "Mean phase velocity at swing - rhindlimb - lHindpaw (rad/s)_sin",
           0.00003923668804493766
          ],
          [
           "Mean angle acceleration at stance - rhindlimb - knee (rad/s^2)_cos",
           0.000037758218098229174
          ],
          [
           "Mean angle acceleration at touchdown - rhindlimb - hip (rad/s^2)_sin",
           0.00003566199973563973
          ],
          [
           "Mean angle velocity during swing - rhindlimb - hip (rad/s)_cos",
           0.000034815027302895646
          ],
          [
           "Mean step acceleration X at stance - knee (m/s^2)",
           0.00003211139204933529
          ],
          [
           "Mean step jerk Y at stance - knee (m/s^3)",
           0.0000316681485662615
          ],
          [
           "Mean step jerk X during stance - lHindpaw (m/s^3)",
           0.0000315598068829003
          ],
          [
           "Mean step acceleration X at peak - lHindpaw (m/s^2)",
           0.000031401729585204276
          ],
          [
           "Mean angle at stance - rhindlimb - knee (°)_sin",
           0.0000304563982002783
          ],
          [
           "Mean angle velocity - rhindlimb - ankle (rad/s)_sin",
           0.000030077855824542402
          ],
          [
           "Mean step acceleration X at swing - hip (m/s^2)",
           0.00003002718360711013
          ],
          [
           "Mean angle acceleration during swing - rhindlimb - lHindfingers (rad/s^2)_cos",
           0.000029754541304170104
          ],
          [
           "Mean phase velocity at touchdown - rhindlimb - hip (rad/s)_cos",
           0.000029449167724237756
          ],
          [
           "Mean step velocity Y during swing - hip (m/s)",
           0.000028732719681645914
          ],
          [
           "Mean phase acceleration at stance - rhindlimb - hip (rad/s^2)_sin",
           0.000028091857224245813
          ],
          [
           "Mean step acceleration X during swing - ankle (m/s^2)",
           0.00002555629876770477
          ],
          [
           "Mean phase acceleration during swing - rhindlimb - knee (rad/s^2)_cos",
           0.000025200008248225158
          ],
          [
           "Mean angle velocity - rhindlimb - lHindpaw (rad/s)_cos",
           0.000024307697789320597
          ],
          [
           "Mean phase at peak - rhindlimb - knee (°)_cos",
           0.000023495451914265034
          ],
          [
           "Mean angle velocity at swing - rhindlimb - lHindfingers (rad/s)_sin",
           0.00002281142879186275
          ],
          [
           "Mean step acceleration Y at stance - hip (m/s^2)",
           0.000022707140517944683
          ],
          [
           "Mean angle acceleration at peak - rhindlimb - hip (rad/s^2)_sin",
           0.00002252932550491569
          ],
          [
           "Mean phase acceleration at stance - rhindlimb - knee (rad/s^2)_sin",
           0.000022111923903134908
          ],
          [
           "Mean angle acceleration during stance - rhindlimb - knee (rad/s^2)_sin",
           0.000021481659198616313
          ],
          [
           "Mean phase velocity at touchdown - rhindlimb - ankle (rad/s)_cos",
           0.000021213167393163463
          ],
          [
           "Mean step jerk X at stance - lHindpaw (m/s^3)",
           0.000019539070328346493
          ],
          [
           "Mean step velocity X during swing - knee (m/s)",
           0.000017979788782945148
          ],
          [
           "Mean step jerk X during stance - knee (m/s^3)",
           0.00001682596086349901
          ],
          [
           "Mean phase velocity - rhindlimb - knee (rad/s)_sin",
           0.00001369314353204581
          ],
          [
           "Mean phase acceleration at peak - rhindlimb - knee (rad/s^2)_sin",
           0.000012408335465040096
          ],
          [
           "Mean phase during stance - rhindlimb - knee (°)_sin",
           0.000011573014750552865
          ],
          [
           "Mean phase velocity at stance - rhindlimb - ankle (rad/s)_cos",
           0.000011222152854456454
          ],
          [
           "Mean step acceleration X at peak - knee (m/s^2)",
           0.000010337735465216124
          ],
          [
           "Mean phase acceleration at peak - rhindlimb - hip (rad/s^2)_sin",
           0.000008255388560244913
          ],
          [
           "Mean angle velocity at stance - rhindlimb - lHindfingers (rad/s)_cos",
           0.000007487320423732035
          ],
          [
           "Mean angle velocity at touchdown - rhindlimb - hip (rad/s)_cos",
           0.000007087206000649779
          ],
          [
           "Mean angle acceleration - rhindlimb - knee (rad/s^2)_sin",
           0.000005492264284279395
          ],
          [
           "Mean angle velocity at peak - rhindlimb - lHindpaw (rad/s)_cos",
           0.0000032966519216913526
          ],
          [
           "Mean phase acceleration at touchdown - rhindlimb - ankle (rad/s^2)_cos",
           0.0000018715667531771908
          ],
          [
           "Mean angle acceleration at swing - rhindlimb - lHindpaw (rad/s^2)_sin",
           0.0000016794051164661897
          ],
          [
           "Mean angle velocity at peak - rhindlimb - knee (rad/s)_cos",
           0
          ],
          [
           "Mean angle velocity at stance - rhindlimb - knee (rad/s)_cos",
           0
          ],
          [
           "Mean angle acceleration during stance - rhindlimb - lHindpaw (rad/s^2)_cos",
           0
          ],
          [
           "Mean step acceleration X during stance - hip (m/s^2)",
           0
          ],
          [
           "Mean phase during stance - rhindlimb - hip (°)_cos",
           0
          ],
          [
           "Mean phase acceleration during stance - rhindlimb - knee (rad/s^2)_sin",
           0
          ],
          [
           "Mean phase acceleration during stance - rhindlimb - hip (rad/s^2)_sin",
           0
          ],
          [
           "Mean step duration (s)",
           0
          ],
          [
           "Mean step jerk Y at touchdown - knee (m/s^3)",
           0
          ],
          [
           "Mean step jerk Y at touchdown - hip (m/s^3)",
           0
          ],
          [
           "Mean phase velocity at touchdown - rhindlimb - knee (rad/s)_sin",
           0
          ],
          [
           "Mean angle acceleration during stance - rhindlimb - ankle (rad/s^2)_sin",
           0
          ],
          [
           "Mean angle acceleration at swing - rhindlimb - ankle (rad/s^2)_cos",
           0
          ],
          [
           "Mean angle acceleration at swing - rhindlimb - knee (rad/s^2)_sin",
           0
          ],
          [
           "Mean angle acceleration at stance - rhindlimb - hip (rad/s^2)_sin",
           0
          ],
          [
           "Mean angle velocity during swing - rhindlimb - knee (rad/s)_sin",
           0
          ],
          [
           "Mean phase velocity at peak - rhindlimb - knee (rad/s)_cos",
           0
          ],
          [
           "Mean phase velocity at stance - rhindlimb - hip (rad/s)_cos",
           0
          ],
          [
           "Mean phase acceleration - rhindlimb - ankle (rad/s^2)_sin",
           0
          ],
          [
           "Mean angle acceleration during stance - rhindlimb - hip (rad/s^2)_sin",
           0
          ],
          [
           "Mean angle acceleration at stance - rhindlimb - lHindpaw (rad/s^2)_cos",
           0
          ],
          [
           "Mean angle acceleration at peak - rhindlimb - knee (rad/s^2)_cos",
           0
          ],
          [
           "Mean angle at touchdown - rhindlimb - ankle (°)_cos",
           0
          ],
          [
           "Mean step velocity Y during stance - hip (m/s)",
           0
          ],
          [
           "Mean phase acceleration at touchdown - rhindlimb - lHindpaw (rad/s^2)_sin",
           0
          ],
          [
           "Mean step acceleration Y during swing - lHindfingers (m/s^2)",
           0
          ],
          [
           "Mean angle acceleration - rhindlimb - lHindpaw (rad/s^2)_sin",
           0
          ],
          [
           "Mean step jerk X during stance - lHindfingers (m/s^3)",
           0
          ],
          [
           "Mean step jerk X at peak - lHindpaw (m/s^3)",
           0
          ],
          [
           "Mean step jerk Y at stance - ankle (m/s^3)",
           0
          ],
          [
           "Mean step jerk X at peak - knee (m/s^3)",
           0
          ],
          [
           "Mean angle at stance - rhindlimb - ankle (°)_cos",
           0
          ],
          [
           "Mean phase acceleration at peak - rhindlimb - knee (rad/s^2)_cos",
           0
          ],
          [
           "Mean phase acceleration at touchdown - rhindlimb - lHindpaw (rad/s^2)_cos",
           0
          ],
          [
           "Mean phase acceleration during stance - rhindlimb - lHindpaw (rad/s^2)_cos",
           0
          ],
          [
           "Mean phase velocity during stance - rhindlimb - knee (rad/s)_sin",
           0
          ],
          [
           "Mean angle velocity - rhindlimb - ankle (rad/s)_cos",
           0
          ],
          [
           "Mean step velocity X at swing - hip (m/s)",
           0
          ],
          [
           "Mean phase velocity at stance - rhindlimb - ankle (rad/s)_sin",
           0
          ],
          [
           "Mean phase velocity during swing - rhindlimb - lHindpaw (rad/s)_sin",
           0
          ],
          [
           "Mean step velocity Y at stance - hip (m/s)",
           0
          ],
          [
           "Mean phase velocity at touchdown - rhindlimb - knee (rad/s)_cos",
           0
          ],
          [
           "Mean step jerk X during swing - ankle (m/s^3)",
           0
          ],
          [
           "Mean phase velocity at touchdown - rhindlimb - lHindpaw (rad/s)_cos",
           0
          ],
          [
           "Mean phase acceleration at peak - rhindlimb - ankle (rad/s^2)_sin",
           0
          ],
          [
           "Mean phase acceleration at stance - rhindlimb - knee (rad/s^2)_cos",
           0
          ],
          [
           "Mean angle velocity at stance - rhindlimb - hip (rad/s)_cos",
           0
          ],
          [
           "Mean phase velocity at swing - rhindlimb - knee (rad/s)_cos",
           0
          ],
          [
           "Mean angle velocity at touchdown - rhindlimb - ankle (rad/s)_sin",
           0
          ],
          [
           "Mean step velocity Y at touchdown - knee (m/s)",
           0
          ],
          [
           "Mean angle acceleration during stance - rhindlimb - ankle (rad/s^2)_cos",
           0
          ]
         ],
         "hovertemplate": "direction=towards_healthy<br>importance=%{x}<br>change_effect_size=%{y}<br>combined_rank=%{customdata[1]}<br>feature=%{customdata[0]}<extra></extra>",
         "legendgroup": "towards_healthy",
         "marker": {
          "color": "green",
          "size": {
           "bdata": "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",
           "dtype": "f8"
          },
          "sizemode": "area",
          "sizeref": 0.00006187104987104247,
          "symbol": "circle"
         },
         "mode": "markers",
         "name": "towards_healthy",
         "orientation": "v",
         "showlegend": true,
         "type": "scatter",
         "x": {
          "bdata": "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",
          "dtype": "f8"
         },
         "xaxis": "x",
         "y": {
          "bdata": "/ULluU8D7T+ux5FM74rqP3/7AXNEnPU/3dsBDX1e9z/dl2HiLjznP16sfa2CIOk/Hof8Xsqi9T+hMN1y61XwP4jyazZW194/DisvdpX07z+MV5LEI2/fPzyxlW5EDew/xf+s4W8s6T9awDR7DmnyP7vBhLxUJec/39uNXN1A4j8hGs+2iQTlP4ld+u5d/uY/X3gWCrU+6j8Nx2iqg2DnPzYTVsniu+s/sUviqycM6T9tRbUM8ObVP+XBhLxUJec/zvclrgYn1j9qtd6VKAztP8I6phSZhOU/4pwmmrlM1D/h6Md5ISPaP7ZgJIw/xec/O+DSmEAR7j+l7M9oRKLnP/u+EtgS694/9fWvHVwg1z/b0EiG8A7qP+Q6phSZhOU/FPoZOBsV7D/JIgmdErzpP/i3ourRad4/iTFM91Qe5z8gXf2h293gP9QwFewmI+E/NVfxtIvT1D+6bZ0tabPnP/kH4CtVZe0/309RRRLP5z/dBMvpjNroP/Gksr+GgOM/zwe7qChH4T/eThVTG5ntP/uVwWSjeOg/iyNuWOPd6D9MbxC925naP4H1j+GjDd4/CYf+ISyJ0z930wHYw/LoP4EXsT5wado//1R27gf24z/yZvblIKPDP7Xzj+GjDd4/4EknAOJayD9B0hqWrYjjP6YwmFgRE9Y/6tbyiLda0j+RN6GOqIeyPyfl+IfNdbE/KoUNxGaT2j+C8hZxa0vnP8Dql4GD8dQ/tuIZOvm74z+GEoIO9QTYPxaqp1n/BNk/4+YaFWHq4j/IKjZf7XPVPxJoVf0RJs0/sw6JVXRX3z/5ptp/GIPCP6yDB3Vbwec/50t3va3e1z9v6HKKElrQPybfO5WaFeM/QeMZOvm74z+8R3UQ+8HnP79SRdSGN9M/YOoYfGdDxT9G3zuVmhXjP4gQQHIYG88/5joRt6KExD+VPvnPm/vRP3e08g1BLNI/PgL/6khg1D//saANc0zEPwyVarVZ29E/sY4QiJFAfj/nssbs9Ey8P+L6vlMuh9U/yib/+RYo0z9FtRVQrzfZPxeT5g3s2tE/ivUaGfnC2j/S2KEJjtG6P6vR7YYiWsc/yHKhdAEv1j99AjFxxQzgP4RofDEcKsY/+mI/PZOU0T9d1vKIt1rSPwCF5n8nqbw/jZ+Xa7bO1D9I+r5TLofVPy27IukGZrs/D4MNxGaT2j81CyaGab/GP/ZYnDBWhso/Z+Xok0+q2D+D+JmBg/HUP28dME58q74/oNlCVxRjsz9PovelEIu8PwG4/fdBBcU/PXFa0B6i5j8bC7pXXuevP1pY1Ii+WNE/2YzjXyoiwT+euCj+MVHeP7hA5eQCt8s/Q/pC0GztwT9ilh7r3T3HP5DtGYY+QMc/q+MG6t9k2T/oSzrtbg+9P8sgR5UTg5A/GCE48CFt1T9c3lwxIaO/P6d6a08dW7M/3kXi2qG/2D+1FSvHplC0P5mxUA6sJcE/bHlrTx1bsz8fnKbwqwutPx5SFix3xso/quP9Bk10tz+xN+U6VnzKPzCMwGKSm8A/5hQpEPhRqT/oarR35xXQP6PJgXYIJ7E/6+/TyWc45D+UWtGMAx3RP8IeMJngrsY/qsobbhfd0j/E28wW5HXeP3fdHvEUItA/rVr4FWtktz8RTGbbWszRPzryK8emULQ/pC/PcpVEzD+Vmr2LYHDGP5cBNdqiQrI/bah8XfgGoz/yxJiPH07WP0si/tTkv8U/FjEXa3inwD87fNRb37q8P/Ap6LzYSsY/VZ/SJdWYpz/raNK1Lmi7P/rKg+Gg7Ng/HN3H6Ui/uT+91dk8so7SP3/aAOf/prM/lARqnRE+wz8JiIdWGhTEP07nPz2TlNE/meojo6aE1j9LmsiXFzGrP3Y0R5CHUKs/iL812qJCsj8KXJwwVobKP1fiAV7RQLY/JzpAGzZSyD+0M6+yEU24P1GrWLy8RrI/wC5X5PY8zT8uCuCscK2OP5C4okGJo7A/3X2VDy8DyD+vdZdn8kywP0zipK043sY/Q9Rm25IKpj/NBj6ikqDDP8zmQAZmOLc/7awitq8xtD8tTfmMmXCNP36byJcXMas/FylTR3ZSqj8yuRkfK/SpP/8ZvNc89q0/61+WfmoLwj/ILBs1Z0C7P/4KAUPNlbE/pTIPBfz+vz8AAlLakGi/P/TPK+yqS6U/Oo55fBWvsz9TbjAeT6+xP8uKKxGUR7A/aIcfoJN0sD8Y0hwfK/SpP3oERnBgS5Y/B3SXZ/JMsD8Avt18DAZ+P2/CM0iox5M/Z11nikbicz8XpntMo1eHP2zRF7ppnYI/jDI2ltRDnT9Nii9/yBTZP5eYAmOPdK8/QbeawrGd0D86sJ9CxufWPyHWw9SpjJI/FyKUkNYP4T+/t0YipHyWPwuyrYWFTsE/rlNMw14Nmz99SIN3FmrRPwJbnW1nQrQ/sS0KXSJd2T8O6GrbkgqmPyzqoNf/gdo/+ihbF3MBsz/HVd9lqNXAP5R5Nbj5LaU/EBew1KmMkj8KwRCNM27bP8XYCko0ysY/tYfTxDL54j/JSVB0Bq3bP6kiu9F1/6Y/udz4mQCw1j8Tg1Eyf0rCP18Irv1yC6I/JvZYv8Ofej/UH1jn/LC/P6kC7X67CMw/NfA8lRChzz9euzPn2n/kP9lTN39tCa0/paHis2ULmD9LT2+sar/WP6cot++AvrE/3HPTSSiz0j+X/MZEa5a6PyFVbdHtAtk/ni0IxyaOzT9wgGt7Ky7YPx57j45BsKg/S9QqZ9bvpT9MFJHaB3WvP7bCb9qFoHs/ARrKsq+7wD9Ji3ILTmetP4zqsyIBDbE/GWfhZn4Uyz/srI//VKWpPw==",
          "dtype": "f8"
         },
         "yaxis": "y"
        }
       ],
       "layout": {
        "legend": {
         "itemsizing": "constant",
         "title": {
          "text": "direction"
         },
         "tracegroupgap": 0
        },
        "shapes": [
         {
          "line": {
           "color": "black",
           "dash": "dash"
          },
          "type": "line",
          "x0": 0,
          "x1": 1,
          "xref": "x domain",
          "y0": 0,
          "y1": 0,
          "yref": "y"
         }
        ],
        "template": {
         "data": {
          "bar": [
           {
            "error_x": {
             "color": "#2a3f5f"
            },
            "error_y": {
             "color": "#2a3f5f"
            },
            "marker": {
             "line": {
              "color": "#E5ECF6",
              "width": 0.5
             },
             "pattern": {
              "fillmode": "overlay",
              "size": 10,
              "solidity": 0.2
             }
            },
            "type": "bar"
           }
          ],
          "barpolar": [
           {
            "marker": {
             "line": {
              "color": "#E5ECF6",
              "width": 0.5
             },
             "pattern": {
              "fillmode": "overlay",
              "size": 10,
              "solidity": 0.2
             }
            },
            "type": "barpolar"
           }
          ],
          "carpet": [
           {
            "aaxis": {
             "endlinecolor": "#2a3f5f",
             "gridcolor": "white",
             "linecolor": "white",
             "minorgridcolor": "white",
             "startlinecolor": "#2a3f5f"
            },
            "baxis": {
             "endlinecolor": "#2a3f5f",
             "gridcolor": "white",
             "linecolor": "white",
             "minorgridcolor": "white",
             "startlinecolor": "#2a3f5f"
            },
            "type": "carpet"
           }
          ],
          "choropleth": [
           {
            "colorbar": {
             "outlinewidth": 0,
             "ticks": ""
            },
            "type": "choropleth"
           }
          ],
          "contour": [
           {
            "colorbar": {
             "outlinewidth": 0,
             "ticks": ""
            },
            "colorscale": [
             [
              0,
              "#0d0887"
             ],
             [
              0.1111111111111111,
              "#46039f"
             ],
             [
              0.2222222222222222,
              "#7201a8"
             ],
             [
              0.3333333333333333,
              "#9c179e"
             ],
             [
              0.4444444444444444,
              "#bd3786"
             ],
             [
              0.5555555555555556,
              "#d8576b"
             ],
             [
              0.6666666666666666,
              "#ed7953"
             ],
             [
              0.7777777777777778,
              "#fb9f3a"
             ],
             [
              0.8888888888888888,
              "#fdca26"
             ],
             [
              1,
              "#f0f921"
             ]
            ],
            "type": "contour"
           }
          ],
          "contourcarpet": [
           {
            "colorbar": {
             "outlinewidth": 0,
             "ticks": ""
            },
            "type": "contourcarpet"
           }
          ],
          "heatmap": [
           {
            "colorbar": {
             "outlinewidth": 0,
             "ticks": ""
            },
            "colorscale": [
             [
              0,
              "#0d0887"
             ],
             [
              0.1111111111111111,
              "#46039f"
             ],
             [
              0.2222222222222222,
              "#7201a8"
             ],
             [
              0.3333333333333333,
              "#9c179e"
             ],
             [
              0.4444444444444444,
              "#bd3786"
             ],
             [
              0.5555555555555556,
              "#d8576b"
             ],
             [
              0.6666666666666666,
              "#ed7953"
             ],
             [
              0.7777777777777778,
              "#fb9f3a"
             ],
             [
              0.8888888888888888,
              "#fdca26"
             ],
             [
              1,
              "#f0f921"
             ]
            ],
            "type": "heatmap"
           }
          ],
          "histogram": [
           {
            "marker": {
             "pattern": {
              "fillmode": "overlay",
              "size": 10,
              "solidity": 0.2
             }
            },
            "type": "histogram"
           }
          ],
          "histogram2d": [
           {
            "colorbar": {
             "outlinewidth": 0,
             "ticks": ""
            },
            "colorscale": [
             [
              0,
              "#0d0887"
             ],
             [
              0.1111111111111111,
              "#46039f"
             ],
             [
              0.2222222222222222,
              "#7201a8"
             ],
             [
              0.3333333333333333,
              "#9c179e"
             ],
             [
              0.4444444444444444,
              "#bd3786"
             ],
             [
              0.5555555555555556,
              "#d8576b"
             ],
             [
              0.6666666666666666,
              "#ed7953"
             ],
             [
              0.7777777777777778,
              "#fb9f3a"
             ],
             [
              0.8888888888888888,
              "#fdca26"
             ],
             [
              1,
              "#f0f921"
             ]
            ],
            "type": "histogram2d"
           }
          ],
          "histogram2dcontour": [
           {
            "colorbar": {
             "outlinewidth": 0,
             "ticks": ""
            },
            "colorscale": [
             [
              0,
              "#0d0887"
             ],
             [
              0.1111111111111111,
              "#46039f"
             ],
             [
              0.2222222222222222,
              "#7201a8"
             ],
             [
              0.3333333333333333,
              "#9c179e"
             ],
             [
              0.4444444444444444,
              "#bd3786"
             ],
             [
              0.5555555555555556,
              "#d8576b"
             ],
             [
              0.6666666666666666,
              "#ed7953"
             ],
             [
              0.7777777777777778,
              "#fb9f3a"
             ],
             [
              0.8888888888888888,
              "#fdca26"
             ],
             [
              1,
              "#f0f921"
             ]
            ],
            "type": "histogram2dcontour"
           }
          ],
          "mesh3d": [
           {
            "colorbar": {
             "outlinewidth": 0,
             "ticks": ""
            },
            "type": "mesh3d"
           }
          ],
          "parcoords": [
           {
            "line": {
             "colorbar": {
              "outlinewidth": 0,
              "ticks": ""
             }
            },
            "type": "parcoords"
           }
          ],
          "pie": [
           {
            "automargin": true,
            "type": "pie"
           }
          ],
          "scatter": [
           {
            "fillpattern": {
             "fillmode": "overlay",
             "size": 10,
             "solidity": 0.2
            },
            "type": "scatter"
           }
          ],
          "scatter3d": [
           {
            "line": {
             "colorbar": {
              "outlinewidth": 0,
              "ticks": ""
             }
            },
            "marker": {
             "colorbar": {
              "outlinewidth": 0,
              "ticks": ""
             }
            },
            "type": "scatter3d"
           }
          ],
          "scattercarpet": [
           {
            "marker": {
             "colorbar": {
              "outlinewidth": 0,
              "ticks": ""
             }
            },
            "type": "scattercarpet"
           }
          ],
          "scattergeo": [
           {
            "marker": {
             "colorbar": {
              "outlinewidth": 0,
              "ticks": ""
             }
            },
            "type": "scattergeo"
           }
          ],
          "scattergl": [
           {
            "marker": {
             "colorbar": {
              "outlinewidth": 0,
              "ticks": ""
             }
            },
            "type": "scattergl"
           }
          ],
          "scattermap": [
           {
            "marker": {
             "colorbar": {
              "outlinewidth": 0,
              "ticks": ""
             }
            },
            "type": "scattermap"
           }
          ],
          "scattermapbox": [
           {
            "marker": {
             "colorbar": {
              "outlinewidth": 0,
              "ticks": ""
             }
            },
            "type": "scattermapbox"
           }
          ],
          "scatterpolar": [
           {
            "marker": {
             "colorbar": {
              "outlinewidth": 0,
              "ticks": ""
             }
            },
            "type": "scatterpolar"
           }
          ],
          "scatterpolargl": [
           {
            "marker": {
             "colorbar": {
              "outlinewidth": 0,
              "ticks": ""
             }
            },
            "type": "scatterpolargl"
           }
          ],
          "scatterternary": [
           {
            "marker": {
             "colorbar": {
              "outlinewidth": 0,
              "ticks": ""
             }
            },
            "type": "scatterternary"
           }
          ],
          "surface": [
           {
            "colorbar": {
             "outlinewidth": 0,
             "ticks": ""
            },
            "colorscale": [
             [
              0,
              "#0d0887"
             ],
             [
              0.1111111111111111,
              "#46039f"
             ],
             [
              0.2222222222222222,
              "#7201a8"
             ],
             [
              0.3333333333333333,
              "#9c179e"
             ],
             [
              0.4444444444444444,
              "#bd3786"
             ],
             [
              0.5555555555555556,
              "#d8576b"
             ],
             [
              0.6666666666666666,
              "#ed7953"
             ],
             [
              0.7777777777777778,
              "#fb9f3a"
             ],
             [
              0.8888888888888888,
              "#fdca26"
             ],
             [
              1,
              "#f0f921"
             ]
            ],
            "type": "surface"
           }
          ],
          "table": [
           {
            "cells": {
             "fill": {
              "color": "#EBF0F8"
             },
             "line": {
              "color": "white"
             }
            },
            "header": {
             "fill": {
              "color": "#C8D4E3"
             },
             "line": {
              "color": "white"
             }
            },
            "type": "table"
           }
          ]
         },
         "layout": {
          "annotationdefaults": {
           "arrowcolor": "#2a3f5f",
           "arrowhead": 0,
           "arrowwidth": 1
          },
          "autotypenumbers": "strict",
          "coloraxis": {
           "colorbar": {
            "outlinewidth": 0,
            "ticks": ""
           }
          },
          "colorscale": {
           "diverging": [
            [
             0,
             "#8e0152"
            ],
            [
             0.1,
             "#c51b7d"
            ],
            [
             0.2,
             "#de77ae"
            ],
            [
             0.3,
             "#f1b6da"
            ],
            [
             0.4,
             "#fde0ef"
            ],
            [
             0.5,
             "#f7f7f7"
            ],
            [
             0.6,
             "#e6f5d0"
            ],
            [
             0.7,
             "#b8e186"
            ],
            [
             0.8,
             "#7fbc41"
            ],
            [
             0.9,
             "#4d9221"
            ],
            [
             1,
             "#276419"
            ]
           ],
           "sequential": [
            [
             0,
             "#0d0887"
            ],
            [
             0.1111111111111111,
             "#46039f"
            ],
            [
             0.2222222222222222,
             "#7201a8"
            ],
            [
             0.3333333333333333,
             "#9c179e"
            ],
            [
             0.4444444444444444,
             "#bd3786"
            ],
            [
             0.5555555555555556,
             "#d8576b"
            ],
            [
             0.6666666666666666,
             "#ed7953"
            ],
            [
             0.7777777777777778,
             "#fb9f3a"
            ],
            [
             0.8888888888888888,
             "#fdca26"
            ],
            [
             1,
             "#f0f921"
            ]
           ],
           "sequentialminus": [
            [
             0,
             "#0d0887"
            ],
            [
             0.1111111111111111,
             "#46039f"
            ],
            [
             0.2222222222222222,
             "#7201a8"
            ],
            [
             0.3333333333333333,
             "#9c179e"
            ],
            [
             0.4444444444444444,
             "#bd3786"
            ],
            [
             0.5555555555555556,
             "#d8576b"
            ],
            [
             0.6666666666666666,
             "#ed7953"
            ],
            [
             0.7777777777777778,
             "#fb9f3a"
            ],
            [
             0.8888888888888888,
             "#fdca26"
            ],
            [
             1,
             "#f0f921"
            ]
           ]
          },
          "colorway": [
           "#636efa",
           "#EF553B",
           "#00cc96",
           "#ab63fa",
           "#FFA15A",
           "#19d3f3",
           "#FF6692",
           "#B6E880",
           "#FF97FF",
           "#FECB52"
          ],
          "font": {
           "color": "#2a3f5f"
          },
          "geo": {
           "bgcolor": "white",
           "lakecolor": "white",
           "landcolor": "#E5ECF6",
           "showlakes": true,
           "showland": true,
           "subunitcolor": "white"
          },
          "hoverlabel": {
           "align": "left"
          },
          "hovermode": "closest",
          "mapbox": {
           "style": "light"
          },
          "paper_bgcolor": "white",
          "plot_bgcolor": "#E5ECF6",
          "polar": {
           "angularaxis": {
            "gridcolor": "white",
            "linecolor": "white",
            "ticks": ""
           },
           "bgcolor": "#E5ECF6",
           "radialaxis": {
            "gridcolor": "white",
            "linecolor": "white",
            "ticks": ""
           }
          },
          "scene": {
           "xaxis": {
            "backgroundcolor": "#E5ECF6",
            "gridcolor": "white",
            "gridwidth": 2,
            "linecolor": "white",
            "showbackground": true,
            "ticks": "",
            "zerolinecolor": "white"
           },
           "yaxis": {
            "backgroundcolor": "#E5ECF6",
            "gridcolor": "white",
            "gridwidth": 2,
            "linecolor": "white",
            "showbackground": true,
            "ticks": "",
            "zerolinecolor": "white"
           },
           "zaxis": {
            "backgroundcolor": "#E5ECF6",
            "gridcolor": "white",
            "gridwidth": 2,
            "linecolor": "white",
            "showbackground": true,
            "ticks": "",
            "zerolinecolor": "white"
           }
          },
          "shapedefaults": {
           "line": {
            "color": "#2a3f5f"
           }
          },
          "ternary": {
           "aaxis": {
            "gridcolor": "white",
            "linecolor": "white",
            "ticks": ""
           },
           "baxis": {
            "gridcolor": "white",
            "linecolor": "white",
            "ticks": ""
           },
           "bgcolor": "#E5ECF6",
           "caxis": {
            "gridcolor": "white",
            "linecolor": "white",
            "ticks": ""
           }
          },
          "title": {
           "x": 0.05
          },
          "xaxis": {
           "automargin": true,
           "gridcolor": "white",
           "linecolor": "white",
           "ticks": "",
           "title": {
            "standoff": 15
           },
           "zerolinecolor": "white",
           "zerolinewidth": 2
          },
          "yaxis": {
           "automargin": true,
           "gridcolor": "white",
           "linecolor": "white",
           "ticks": "",
           "title": {
            "standoff": 15
           },
           "zerolinecolor": "white",
           "zerolinewidth": 2
          }
         }
        },
        "title": {
         "text": "Feature Importance vs. Treatment Direction"
        },
        "xaxis": {
         "anchor": "y",
         "domain": [
          0,
          1
         ],
         "title": {
          "text": "importance"
         }
        },
        "yaxis": {
         "anchor": "x",
         "domain": [
          0,
          1
         ],
         "title": {
          "text": "change_effect_size"
         }
        }
       }
      }
     },
     "metadata": {},
     "output_type": "display_data"
    }
   ],
   "source": [
    "fig = px.scatter(\n",
    "    res_df,\n",
    "    x=\"importance\",\n",
    "    y=\"change_effect_size\",\n",
    "    size=\"combined_rank\",\n",
    "    color=\"direction\",\n",
    "    hover_data=[\"feature\", \"importance\", \"change_effect_size\", \"combined_rank\"],\n",
    "    color_discrete_map={\n",
    "        \"towards_healthy\": \"green\",\n",
    "        \"away_from_healthy\": \"red\",\n",
    "        \"no_change\": \"gray\"\n",
    "    },\n",
    "    title=\"Feature Importance vs. Treatment Direction\"\n",
    ")\n",
    "\n",
    "fig.add_hline(y=0, line_dash=\"dash\", line_color=\"black\")\n",
    "fig.show()\n",
    "# fig.write_html(os.path.join('./', 'treatment_influence.html'))"
   ]
  },
  {
   "cell_type": "code",
   "execution_count": 154,
   "id": "15108765",
   "metadata": {},
   "outputs": [
    {
     "name": "stdout",
     "output_type": "stream",
     "text": [
      "Elbow-selected feature count (by |change_effect_size|): 233\n",
      "After enforcing |change_effect_size| ≥ 0.20: 233 features kept\n",
      "                                              feature  importance  \\\n",
      "3        Mean angle excursion - rhindlimb - ankle (°)    0.027643   \n",
      "4   Mean angle at touchdown - rhindlimb - lHindfin...    0.026052   \n",
      "6   Mean angle at touchdown - rhindlimb - lHindfin...    0.023473   \n",
      "11  Mean step acceleration Y at touchdown - ankle ...    0.013584   \n",
      "0     Mean step jerk Y at peak - lHindfingers (m/s^3)    0.050711   \n",
      "20  Mean angle at stance - rhindlimb - lHindpaw (°...    0.008778   \n",
      "7     Mean angle value - rhindlimb - lHindpaw (°)_sin    0.017478   \n",
      "10  Mean step acceleration Y at touchdown - lHindf...    0.015475   \n",
      "12       Mean phase excursion - rhindlimb - ankle (°)    0.012921   \n",
      "32  Mean angle at stance - rhindlimb - lHindpaw (°...    0.007106   \n",
      "22  Mean step acceleration Y during stance - knee ...    0.008710   \n",
      "8   Mean angle during swing - rhindlimb - lHindpaw...    0.016859   \n",
      "27  Mean phase at touchdown - rhindlimb - lHindpaw...    0.008113   \n",
      "9   Mean angle during swing - rhindlimb - lHindpaw...    0.015617   \n",
      "28  Mean angle at touchdown - rhindlimb - lHindpaw...    0.008088   \n",
      "24    Mean angle value - rhindlimb - lHindpaw (°)_cos    0.008365   \n",
      "42  Mean step acceleration Y at touchdown - lHindp...    0.005702   \n",
      "23     Mean angle at stance - rhindlimb - hip (°)_cos    0.008391   \n",
      "16  Mean step acceleration X during stance - ankle...    0.010549   \n",
      "25  Mean angle velocity - rhindlimb - knee (rad/s)...    0.008233   \n",
      "\n",
      "    change_score  change_effect_size  combined_rank          direction  \n",
      "3      -7.819830           -0.895282       0.024748  away_from_healthy  \n",
      "4       0.002007            0.906654       0.023620    towards_healthy  \n",
      "6       0.017305            0.829460       0.019470    towards_healthy  \n",
      "11      1.917734            1.350651       0.018348    towards_healthy  \n",
      "0    -140.068448           -0.310561       0.015749  away_from_healthy  \n",
      "20      0.094351            1.460568       0.012821    towards_healthy  \n",
      "7       0.030156            0.726097       0.012691    towards_healthy  \n",
      "10      1.844984            0.785219       0.012151    towards_healthy  \n",
      "12     -6.268268           -0.812637       0.010500  away_from_healthy  \n",
      "32      0.056059            1.352244       0.009609    towards_healthy  \n",
      "22      0.389838            1.020976       0.008893    towards_healthy  \n",
      "8       0.000018            0.481893       0.008124    towards_healthy  \n",
      "27      0.001699            0.998606       0.008102    towards_healthy  \n",
      "9       0.000372            0.491158       0.007670    towards_healthy  \n",
      "28      0.061248            0.876620       0.007090    towards_healthy  \n",
      "24      0.019220            0.786674       0.006581    towards_healthy  \n",
      "42      3.217692            1.150649       0.006561    towards_healthy  \n",
      "23      0.030266            0.723307       0.006069    towards_healthy  \n",
      "16      0.270241            0.570418       0.006017    towards_healthy  \n",
      "25      0.025719            0.656804       0.005408    towards_healthy  \n",
      "\n",
      "Direction counts:\n",
      " direction\n",
      "away_from_healthy    305\n",
      "towards_healthy      266\n",
      "Name: count, dtype: int64\n",
      "Top 233 features selected for further analysis.\n",
      "(100, 233)\n"
     ]
    },
    {
     "data": {
      "application/vnd.plotly.v1+json": {
       "config": {
        "plotlyServerURL": "https://plot.ly"
       },
       "data": [
        {
         "customdata": [
          [
           "Mean angle excursion - rhindlimb - ankle (°)",
           0.024748419948416988
          ],
          [
           "Mean step jerk Y at peak - lHindfingers (m/s^3)",
           0.015748778485532196
          ],
          [
           "Mean phase excursion - rhindlimb - ankle (°)",
           0.010499953494370629
          ],
          [
           "Mean step jerk Y at peak - ankle (m/s^3)",
           0.0034235271128068233
          ],
          [
           "Mean angle at swing - rhindlimb - lHindfingers (°)_cos",
           0.0026428389198412537
          ],
          [
           "Mean phase at swing - rhindlimb - lHindpaw (°)_sin",
           0.002243586230801191
          ],
          [
           "Mean phase during stance - rhindlimb - lHindpaw (°)_sin",
           0.0017429686147597133
          ],
          [
           "Mean angle during swing - rhindlimb - lHindfingers (°)_cos",
           0.001698098130843912
          ],
          [
           "Mean phase value - rhindlimb - lHindpaw (°)_sin",
           0.0014970023224003537
          ],
          [
           "Mean angle at swing - rhindlimb - lHindfingers (°)_sin",
           0.0014761021381206032
          ],
          [
           "Mean angle during stance - rhindlimb - lHindfingers (°)_sin",
           0.001330465489487944
          ],
          [
           "Mean angle during swing - rhindlimb - lHindfingers (°)_sin",
           0.0013132805614817916
          ],
          [
           "Mean angle during stance - rhindlimb - lHindfingers (°)_cos",
           0.0012860389817955194
          ],
          [
           "Mean angle value - rhindlimb - ankle (°)_sin",
           0.0012714855388500806
          ],
          [
           "Mean angle value - rhindlimb - lHindfingers (°)_cos",
           0.0011564616548192892
          ],
          [
           "Mean phase at swing - rhindlimb - ankle (°)_cos",
           0.0011303601535991366
          ],
          [
           "Mean step velocity X during stance - lHindpaw (m/s)",
           0.0010796359853398798
          ],
          [
           "Mean phase at swing - rhindlimb - ankle (°)_sin",
           0.0009729938002533651
          ],
          [
           "Mean step jerk Y at swing - ankle (m/s^3)",
           0.0009102148189060219
          ],
          [
           "Mean angle excursion - rhindlimb - lHindfingers (°)",
           0.0008750088887281811
          ],
          [
           "Mean phase velocity at stance - rhindlimb - knee (rad/s)_cos",
           0.0008638980185337223
          ],
          [
           "Mean angle at swing - rhindlimb - ankle (°)_cos",
           0.0008595576105793896
          ],
          [
           "Mean angle during swing - rhindlimb - ankle (°)_cos",
           0.0007694913972451439
          ],
          [
           "Mean phase during swing - rhindlimb - lHindpaw (°)_sin",
           0.0007659662311799774
          ],
          [
           "Mean phase acceleration during swing - rhindlimb - ankle (rad/s^2)_sin",
           0.000705342728057802
          ],
          [
           "Mean angle acceleration during stance - rhindlimb - knee (rad/s^2)_cos",
           0.000619262786774423
          ],
          [
           "Mean angle value - rhindlimb - lHindfingers (°)_sin",
           0.0006137033842256998
          ],
          [
           "Mean angle during swing - rhindlimb - knee (°)_cos",
           0.0006049231559295575
          ],
          [
           "Mean angle velocity at stance - rhindlimb - hip (rad/s)_sin",
           0.0006022862645534882
          ],
          [
           "Mean phase during swing - rhindlimb - lHindpaw (°)_cos",
           0.0006000673958153965
          ],
          [
           "Mean step jerk Y during swing - knee (m/s^3)",
           0.0005992673730025174
          ],
          [
           "Mean angle value - rhindlimb - knee (°)_cos",
           0.0005988410132474716
          ],
          [
           "Mean angle during swing - rhindlimb - ankle (°)_sin",
           0.0005856552263001412
          ],
          [
           "Mean phase velocity during swing - rhindlimb - lHindpaw (rad/s)_cos",
           0.0005628853450971325
          ],
          [
           "Mean angle value - rhindlimb - ankle (°)_cos",
           0.0005186146695712908
          ],
          [
           "Mean step velocity Y at stance - lHindpaw (m/s)",
           0.0005019666312363942
          ],
          [
           "Mean step jerk Y during swing - ankle (m/s^3)",
           0.0004824233732824863
          ],
          [
           "Mean step velocity X during stance - knee (m/s)",
           0.00047996275024203566
          ],
          [
           "Mean angle acceleration at peak - rhindlimb - ankle (rad/s^2)_cos",
           0.00046891064072780025
          ],
          [
           "Mean angle acceleration at stance - rhindlimb - lHindfingers (rad/s^2)_cos",
           0.0004684774411936462
          ],
          [
           "Mean phase value - rhindlimb - ankle (°)_sin",
           0.0004675745755449348
          ],
          [
           "Mean angle acceleration - rhindlimb - lHindfingers (rad/s^2)_cos",
           0.0004503836081781986
          ],
          [
           "Mean step length (m)",
           0.00042868186268547946
          ],
          [
           "Mean angle acceleration at peak - rhindlimb - lHindpaw (rad/s^2)_cos",
           0.0004176373532231544
          ],
          [
           "Mean step acceleration Y during swing - hip (m/s^2)",
           0.00041434395469535355
          ],
          [
           "Mean angle velocity during swing - rhindlimb - ankle (rad/s)_cos",
           0.00039110200915510755
          ],
          [
           "Mean phase acceleration at swing - rhindlimb - hip (rad/s^2)_cos",
           0.00038258369378744045
          ],
          [
           "Mean step jerk Y during stance - knee (m/s^3)",
           0.0003644611606447653
          ],
          [
           "Mean step jerk Y during stance - ankle (m/s^3)",
           0.00035682615763139305
          ],
          [
           "Mean angle acceleration at touchdown - rhindlimb - ankle (rad/s^2)_sin",
           0.0003534293240759305
          ],
          [
           "Mean phase excursion - rhindlimb - lHindpaw (°)",
           0.0003487948051349729
          ],
          [
           "Mean step velocity X during stance - ankle (m/s)",
           0.00033590311818427874
          ],
          [
           "Mean angle acceleration at touchdown - rhindlimb - lHindpaw (rad/s^2)_sin",
           0.0003306331088289456
          ],
          [
           "Mean phase value - rhindlimb - hip (°)_cos",
           0.00032964055006931325
          ],
          [
           "Mean angle excursion - rhindlimb - hip (°)",
           0.0003227259470833048
          ],
          [
           "Mean step jerk Y during swing - hip (m/s^3)",
           0.0002957258439640265
          ],
          [
           "Mean phase velocity during stance - rhindlimb - knee (rad/s)_cos",
           0.00029107021326065484
          ],
          [
           "Mean angle during swing - rhindlimb - hip (°)_sin",
           0.0002899085619528577
          ],
          [
           "Mean phase velocity during swing - rhindlimb - ankle (rad/s)_sin",
           0.00027765869081171823
          ],
          [
           "Mean phase during swing - rhindlimb - ankle (°)_cos",
           0.00026715721954349413
          ],
          [
           "Mean step velocity X at stance - ankle (m/s)",
           0.0002553945918925962
          ],
          [
           "Mean step velocity Y at swing - hip (m/s)",
           0.000245537753476065
          ],
          [
           "Mean angle value - rhindlimb - hip (°)_cos",
           0.00024212849263140524
          ],
          [
           "Mean angle during stance - rhindlimb - ankle (°)_cos",
           0.00022881870581093703
          ],
          [
           "Mean step acceleration Y at stance - knee (m/s^2)",
           0.00022584390843830506
          ],
          [
           "Mean phase excursion - rhindlimb - hip (°)",
           0.00021792922125335362
          ],
          [
           "Mean angle during stance - rhindlimb - ankle (°)_sin",
           0.00020875047190182884
          ],
          [
           "Mean step jerk Y during swing - lHindpaw (m/s^3)",
           0.00020623087247735185
          ],
          [
           "Mean phase velocity at peak - rhindlimb - ankle (rad/s)_cos",
           0.0002005922875800589
          ],
          [
           "Mean angle acceleration during swing - rhindlimb - knee (rad/s^2)_sin",
           0.00019805947043558255
          ],
          [
           "Mean step velocity X at stance - knee (m/s)",
           0.00019303150207561535
          ],
          [
           "Mean phase velocity during stance - rhindlimb - ankle (rad/s)_sin",
           0.00019216570335219775
          ],
          [
           "Mean angle at swing - rhindlimb - hip (°)_sin",
           0.0001881111604227624
          ],
          [
           "Mean step velocity X at touchdown - ankle (m/s)",
           0.00018525251521187586
          ],
          [
           "Mean step jerk Y at swing - lHindpaw (m/s^3)",
           0.00017922909815995972
          ],
          [
           "Mean angle acceleration at swing - rhindlimb - hip (rad/s^2)_cos",
           0.00016520096728472682
          ],
          [
           "Mean phase during stance - rhindlimb - lHindpaw (°)_cos",
           0.00016301687404774267
          ],
          [
           "Mean angle during swing - rhindlimb - hip (°)_cos",
           0.000162119482215372
          ],
          [
           "Mean phase velocity during swing - rhindlimb - knee (rad/s)_sin",
           0.00015874509461894022
          ],
          [
           "Mean phase at swing - rhindlimb - lHindpaw (°)_cos",
           0.00014065834347278097
          ],
          [
           "Mean phase during swing - rhindlimb - ankle (°)_sin",
           0.00012932371956329315
          ],
          [
           "Mean angle during swing - rhindlimb - knee (°)_sin",
           0.00012857135729228415
          ],
          [
           "Mean step velocity Y at touchdown - hip (m/s)",
           0.00011696383918970263
          ],
          [
           "Mean angle acceleration at peak - rhindlimb - lHindpaw (rad/s^2)_sin",
           0.00011493205575312343
          ],
          [
           "Mean step jerk X at swing - hip (m/s^3)",
           0.00011400386933608486
          ],
          [
           "Mean step velocity Y during swing - lHindpaw (m/s)",
           0.00010068960220814432
          ],
          [
           "Mean angle velocity at swing - rhindlimb - ankle (rad/s)_sin",
           0.00009975113868453405
          ],
          [
           "Mean step acceleration X at touchdown - lHindpaw (m/s^2)",
           0.00009857453472704695
          ],
          [
           "Mean phase velocity at swing - rhindlimb - ankle (rad/s)_sin",
           0.00009535921199490235
          ],
          [
           "Mean step acceleration Y at touchdown - hip (m/s^2)",
           0.00007573850700351931
          ],
          [
           "Mean phase at swing - rhindlimb - hip (°)_sin",
           0.0000741037163259456
          ],
          [
           "Mean phase velocity at peak - rhindlimb - lHindpaw (rad/s)_sin",
           0.00006959007145533585
          ],
          [
           "Mean phase value - rhindlimb - ankle (°)_cos",
           0.00005871116548820038
          ],
          [
           "Mean phase during swing - rhindlimb - hip (°)_sin",
           0.00005799773197169555
          ],
          [
           "Mean phase velocity at peak - rhindlimb - lHindpaw (rad/s)_cos",
           0.000056355909241018405
          ],
          [
           "Mean angle acceleration at peak - rhindlimb - lHindfingers (rad/s^2)_sin",
           0.000052513179259696886
          ],
          [
           "Mean angle velocity at swing - rhindlimb - hip (rad/s)_sin",
           0.00005169348276755168
          ],
          [
           "Mean phase during stance - rhindlimb - ankle (°)_cos",
           0.000051631424760098785
          ],
          [
           "Mean phase acceleration at stance - rhindlimb - hip (rad/s^2)_cos",
           0.00004997961178593974
          ],
          [
           "Mean phase during swing - rhindlimb - hip (°)_cos",
           0.00004595143972752339
          ],
          [
           "Mean phase velocity during stance - rhindlimb - ankle (rad/s)_cos",
           0.0000414254782240215
          ],
          [
           "Mean angle acceleration at stance - rhindlimb - hip (rad/s^2)_cos",
           0.000028383483236543983
          ],
          [
           "Mean angle at touchdown - rhindlimb - knee (°)_sin",
           0
          ],
          [
           "Mean angle acceleration at touchdown - rhindlimb - lHindpaw (rad/s^2)_cos",
           0
          ],
          [
           "Mean phase during stance - rhindlimb - ankle (°)_sin",
           0
          ],
          [
           "Mean step velocity X at stance - hip (m/s)",
           0
          ],
          [
           "Mean angle acceleration during stance - rhindlimb - lHindfingers (rad/s^2)_sin",
           0
          ],
          [
           "Mean step velocity X at peak - lHindpaw (m/s)",
           0
          ],
          [
           "Mean step velocity X during swing - lHindfingers (m/s)",
           0
          ],
          [
           "Mean angle velocity during swing - rhindlimb - hip (rad/s)_sin",
           0
          ],
          [
           "Mean phase velocity during swing - rhindlimb - hip (rad/s)_sin",
           0
          ],
          [
           "Mean step velocity Y at stance - lHindfingers (m/s)",
           0
          ],
          [
           "Mean phase acceleration during swing - rhindlimb - lHindpaw (rad/s^2)_cos",
           0
          ],
          [
           "Mean step jerk Y at swing - hip (m/s^3)",
           0
          ],
          [
           "Mean phase value - rhindlimb - lHindpaw (°)_cos",
           0
          ],
          [
           "Mean phase velocity at swing - rhindlimb - hip (rad/s)_sin",
           0
          ],
          [
           "Mean phase velocity at stance - rhindlimb - hip (rad/s)_sin",
           0
          ],
          [
           "Mean phase acceleration at stance - rhindlimb - ankle (rad/s^2)_sin",
           0
          ],
          [
           "Mean phase excursion - rhindlimb - knee (°)",
           0
          ],
          [
           "Mean angle excursion - rhindlimb - knee (°)",
           0
          ],
          [
           "Mean step acceleration Y at touchdown - knee (m/s^2)",
           0
          ],
          [
           "Mean angle acceleration - rhindlimb - lHindpaw (rad/s^2)_cos",
           0
          ],
          [
           "Mean phase velocity - rhindlimb - lHindpaw (rad/s)_cos",
           0
          ],
          [
           "Mean angle acceleration during swing - rhindlimb - knee (rad/s^2)_cos",
           0
          ]
         ],
         "hovertemplate": "direction=away_from_healthy<br>importance=%{x}<br>change_effect_size=%{y}<br>combined_rank=%{customdata[1]}<br>feature=%{customdata[0]}<extra></extra>",
         "legendgroup": "away_from_healthy",
         "marker": {
          "color": "red",
          "size": {
           "bdata": "03g5WaZXmT/ScTCiciCQP41X8eb/gIU/MzORH6gLbD+hilZXb6ZlP6TjlS8kYWI/QrmxTIqOXD+27P37VtJbPwBcEgHihlg/94IpmjgvWD/W/AJxYMxVP0Bp+ENMhFU/73iQ1wkSVT/K8KAz/9RUP6xBIz+N8lI/HT4d+RKFUj/YYelPUrBRP932kEYQ4k8/HKKUcG/TTT/eMMhHG6xMP6eUS97mTkw/gabJ6X0qTD9CUF8x9jZJPzxE1fRjGUk/2YyI+dccRz+njVq1wEpEP/4We/sdHEQ/HoHtlXbSQz+pK5DnV7xDPzv7kuu6qUM/eKth4gSjQz/em6BIcZ9DPzKnlwXVMEM/Ev4EE9NxQj8bscOFdP5APy9l5iHNckA/K11vnLidPz8BXMpQcHQ/P4I83t0Duz4/BHPxSb+zPj9hAaqCmaQ+P9bRJt4uhD0/DK2jlBYYPD/G/A/Gyl47P2QTFryJJzs/t2y2VpqhOT9RsupzsBI5P4lsAMSk4jc/mgxprYxiNz+sImtjjyk3Pw8q9EfO2zY/4/Q/6IQDNj81Zq9jGqs1P9WlyWFzmjU/lzJnY3EmNT9xgxLUdGEzP2C1+gtZEzM/gObbytv/Mj9YvRn/VjIyP7AWVYUngjE/+v50a8+8MD8fQwGfcBcwP3PSIOp7vC8/IDFit+H9LT+11MdmEJotP923mcF9kCw/u89R5oBcKz9pKZe09QcrP1veRaHCSio/ZVx45cX1KT9FUB76D00pPxtLl9ICMCk/5gVmkPanKD/XtBn9CkgoP6Hk7DrufSc/uBfmgDmnJT+LEBRJ8F0lP7XUkb/TPyU/G5jF+pnOJD8qUmL4tW8iPzxt0Epi8yA/mAGvjCPaID9QpN90T6keP0as0a71IB4/VjLJj6viHT+qK7IxKmUaP9BceIMvJho/tzyKnDnXGT+HpZ3Jcv8YP22pe6S52hM/CxMMJwRtEz/zu/hSHD4SP8mSE0kUyA4/7weA5VJoDj/t/AhM9osNP2cBqRkziAs/5rYQiy4aCz8nGA8/2hELP+Cje2ImNAo/jgFZcn8XCD+FrPKXCLgFP4KTrx0iw/0+AAAAAAAAAAAAAAAAAAAAAAAAAAAAAAAAAAAAAAAAAAAAAAAAAAAAAAAAAAAAAAAAAAAAAAAAAAAAAAAAAAAAAAAAAAAAAAAAAAAAAAAAAAAAAAAAAAAAAAAAAAAAAAAAAAAAAAAAAAAAAAAAAAAAAAAAAAAAAAAAAAAAAAAAAAAAAAAAAAAAAAAAAAAAAAAAAAAAAAAAAAAAAAAAAAAAAAAAAAAAAAAAAAAAAAAAAAA=",
           "dtype": "f8"
          },
          "sizemode": "area",
          "sizeref": 0.00006187104987104247,
          "symbol": "circle"
         },
         "mode": "markers",
         "name": "away_from_healthy",
         "orientation": "v",
         "showlegend": true,
         "type": "scatter",
         "x": {
          "bdata": "z+Vfo31OnD808IzSxPapPx1c4Uo+doo/YJyydYHCez8hXCQqaJB4P6sJNmYeXnI/aIo9gYLSZT8IGhNvtDlaP9lxRNhQmFg/TSboaz4raD/+R0DPlaJfP1e36n8pBVU/J0ebiZIjXj8FxggST8lXP/4JzedDjFU/tdEO3QRVUz/ykLTsii5dPwzX33z4AV0/xxT2t8OFVT/pli4g+BZPP3HBrTtxWFw/pAPOCrj5TT+jnt03rstTPyaQDeifs0o/nlqIYY80UD+P0aIFp4tdP/bADH4dXkM/MMpcFc0VVz99YfArHexWP0oMAiuHFkk//Jgpg+AvTj8omm4kCT9UP2T/7nsCBk4/Uy1Bk+s6VT+4KdDoLhxEPzyFi8Rj1U4/ppLCWsjrPT+PpwR5SpBHPy393gqevlg/yaNUK4HGQT8SRvarUh1HP8Y3Jvg27FM/J4eROHIlRz99MKNWQK1DP6xE7zR3+D8/Qwy3lsTVSz9Whg4aYYlIP3lWPX3sPEY/35CX4E4RRj8xQ4gg+6RJP1b3umVP9Dk/pS884Ne/Oj/133qguNpGP3vOWu03VEs/4zjYSIZNTz9QAcwJoLZNP8UApigEqko/OOm9V57bSj8ZA6Yl34hJP9m7KUGjQEg/iYW4gIP6Qz84/cbi8f0yP3D8Nb/hEkQ/HWzvl4LXPj9u0OWFrf1BPwQ98RlYI0U/0CCfY1zfPD/Lhn8YOfxCP869BrLJKUM/n8YcxsnoPz9wJVIsuSc/P/47wliYCkE/NYGiTTA5Pz+Qy39Iv309P9wOA262lUE/Ws98jaQwNT88EgBRLj0yP22CuVCP2D4/yD+r4Tz6Nj+cywA18+o0P6H0SEKg9jo//dFi1nXTMz93bbVZpM8pP0PjzFTvbSY/Qw83N/9MOD9E61jANN00P+5Eo1uk+TQ/PEDGKIU6Mz8JAKKdwmglP+3y/ExGZiU/yEszI5uZKD9vVQHAqlYlP5GIaOwk1hY/ioCA3kB+JT8Cf+Jxj+4kP6j6fdJzoiU/X6S9J6oKJT/Iuz52EbIkP6nmWID/gyQ/m8kRgqJ/ID8hUnozmWkgPydYp3s7TRc/AAAAAAAAAAAAAAAAAAAAAAAAAAAAAAAAAAAAAAAAAAAAAAAAAAAAAAAAAAAAAAAAAAAAAAAAAAAAAAAAAAAAAAAAAAAAAAAAAAAAAAAAAAAAAAAAAAAAAAAAAAAAAAAAAAAAAAAAAAAAAAAAAAAAAAAAAAAAAAAAAAAAAAAAAAAAAAAAAAAAAAAAAAAAAAAAAAAAAAAAAAAAAAAAAAAAAAAAAAAAAAAAAAAAAAAAAAA=",
          "dtype": "f8"
         },
         "xaxis": "x",
         "y": {
          "bdata": "Oy72lCWm7L+9izIsOeDTv3PBbvMeAeq/pQhqjCkq4L9VWwUcNjTcv23C/gqiAuC/8yTM2Azw5L8W3LFoTvnwv8cCrX5R6e+/WsL+CqIC4L9Ozeamvgzmv+/Ubr/FYPC/haOCMB1f5r8lVMLkhgbsv0mTvqhfI+y/xhQDI8un7r+sxr5Oo2Xjv74igjADluG/VlfdTz0s5r+Ze7qDBIPtvxDrDr869d+/WrTUl3wR7r+F3+9sSGHkv9BOTDZdFO6/JmAtXuHR5r9zHWwNTvrVv78AX+b2nPC/vdKMABR6279NigcoK43bvxTydP2SFOm/CoAF5u7Q5L9ht9akwQPfv/hes75BdOS/eIKJeCjN27/Hce9Wnwrrv7Z9wQIZEuG/aJ+qcgvo8L9E/1mPtFvlvzpOL3Hb3tO/Odu7Irei67+VfzMGEjblv64oE4pltNe/cxE06JJr478xZHcdhEHmvyvjSfjvLeu/UYVNLmt33b9kBee0iVngv2bXbk5sL+G/JPGt2YP04L8lNC7TGefcv6V2HdnkLuy/tYLWvrVV6r/U3Hcc4lbevzW1w6y0S9m/3IdZPgif1b9ZijISRd/Uv+RTemaT5Na/zchuXBOj1r/aY8p5083WvynGxer8Gde/0WtI6gzP2r++cNrP7xzrv+G0w6y0S9m/SL9hAjMe378azMkIdFPav+CHWT4In9W/hPXa5DxT3r85aVDz3MfWv1meWGa689W/nroXPKgI2r+8dos4s/zZv0vM1EX6pde/owPTQPVE2b/mchOX1ljav2nAf0XuX9W//hXntIlZ4L9EIac/db7iv41f8gVaC9a/pgPW9y763L9pWwUcNjTcv/pU3zj1HdS/uj41NjIz278K1hEasgHjv9r16gEHfuW/xPucnlGt079rsmV82j3Uv2I/vvhe8tO/LEz9YH2A1b/csBfpkq7iv0grRrqCsN2/4wLTQPVE2b+VUs2pdFvbvw/OxZsKkeW/GJJs9dKi1r/BuyxVxpXWvxEUOTOLXNS//abWlsSb1L8UFutPje3UvzX08cSkb9S/VGaE/x5d179eCeEuSyzVvwI38sSkb9S/tBPfwnls178Q39ROWW3cvye2oSBgKdW/FcQtrtSL4L+Dt8scgcvZv5qvw2Xvtta/qGtX6T381b+5bYJO1IvWv7Nrgk7Ui9a/t9h6+BIn5b9PEXCvlp/ev1vCzmaS9NS/cJFAFZsz6r+optaWxJvUv7tGHkargNu/XVeZSHki4L80kr2pPjTUvw73VJPQpNq/G+obEA1I4L/lMUxJk0Hiv/dBm3n2XNm/uHqKRvid4L8=",
          "dtype": "f8"
         },
         "yaxis": "y"
        },
        {
         "customdata": [
          [
           "Mean angle at touchdown - rhindlimb - lHindfingers (°)_cos",
           0.02362045997622503
          ],
          [
           "Mean angle at touchdown - rhindlimb - lHindfingers (°)_sin",
           0.019469741353882856
          ],
          [
           "Mean step acceleration Y at touchdown - ankle (m/s^2)",
           0.01834756647156518
          ],
          [
           "Mean angle at stance - rhindlimb - lHindpaw (°)_sin",
           0.012820587777311697
          ],
          [
           "Mean angle value - rhindlimb - lHindpaw (°)_sin",
           0.012690687490330206
          ],
          [
           "Mean step acceleration Y at touchdown - lHindfingers (m/s^2)",
           0.012151038826655549
          ],
          [
           "Mean angle at stance - rhindlimb - lHindpaw (°)_cos",
           0.0096094497153303
          ],
          [
           "Mean step acceleration Y during stance - knee (m/s^2)",
           0.0088931880256643
          ],
          [
           "Mean angle during swing - rhindlimb - lHindpaw (°)_cos",
           0.008124084026439538
          ],
          [
           "Mean phase at touchdown - rhindlimb - lHindpaw (°)_cos",
           0.008101535638257159
          ],
          [
           "Mean angle during swing - rhindlimb - lHindpaw (°)_sin",
           0.007670319651314794
          ],
          [
           "Mean angle at touchdown - rhindlimb - lHindpaw (°)_sin",
           0.007089947535989934
          ],
          [
           "Mean angle value - rhindlimb - lHindpaw (°)_cos",
           0.006580624063910073
          ],
          [
           "Mean step acceleration Y at touchdown - lHindpaw (m/s^2)",
           0.00656076856583127
          ],
          [
           "Mean angle at stance - rhindlimb - hip (°)_cos",
           0.006069340597912113
          ],
          [
           "Mean step acceleration X during stance - ankle (m/s^2)",
           0.006017275590848209
          ],
          [
           "Mean angle velocity - rhindlimb - knee (rad/s)_sin",
           0.005407721494935309
          ],
          [
           "Mean angle during stance - rhindlimb - lHindpaw (°)_cos",
           0.0051279668148091475
          ],
          [
           "Mean angle velocity - rhindlimb - knee (rad/s)_cos",
           0.005026618687034951
          ],
          [
           "Mean angle during stance - rhindlimb - lHindpaw (°)_sin",
           0.004855001304686015
          ],
          [
           "Mean phase at stance - rhindlimb - lHindpaw (°)_cos",
           0.004489826177374311
          ],
          [
           "Mean step acceleration Y at stance - lHindfingers (m/s^2)",
           0.004445220378813798
          ],
          [
           "Mean angle at stance - rhindlimb - lHindfingers (°)_cos",
           0.004377099371859828
          ],
          [
           "Mean phase at stance - rhindlimb - hip (°)_cos",
           0.004351631573319863
          ],
          [
           "Mean step acceleration Y at peak - hip (m/s^2)",
           0.004310857823095658
          ],
          [
           "Mean angle at touchdown - rhindlimb - lHindpaw (°)_cos",
           0.00392105807827004
          ],
          [
           "Mean angle at stance - rhindlimb - hip (°)_sin",
           0.003833308185293895
          ],
          [
           "Mean angle at stance - rhindlimb - lHindfingers (°)_sin",
           0.0036564299547343047
          ],
          [
           "Mean step acceleration X during stance - lHindpaw (m/s^2)",
           0.003349232218606864
          ],
          [
           "Mean step velocity Y during stance - knee (m/s)",
           0.002949361106876474
          ],
          [
           "Mean step velocity Y during stance - lHindpaw (m/s)",
           0.0027011697205223148
          ],
          [
           "Mean step jerk Y during stance - lHindfingers (m/s^3)",
           0.0026229982866767337
          ],
          [
           "Mean step acceleration Y during swing - ankle (m/s^2)",
           0.0024772325299407096
          ],
          [
           "Mean step jerk X at swing - ankle (m/s^3)",
           0.0023948172623530295
          ],
          [
           "Mean phase at stance - rhindlimb - lHindpaw (°)_sin",
           0.0022617286879611075
          ],
          [
           "Mean phase at stance - rhindlimb - hip (°)_sin",
           0.0020269856662103064
          ],
          [
           "Mean step acceleration Y at stance - lHindpaw (m/s^2)",
           0.0019078298089290372
          ],
          [
           "Mean step frequency (Hz)",
           0.0018751805024720947
          ],
          [
           "Mean step acceleration Y at swing - hip (m/s^2)",
           0.001668812883064799
          ],
          [
           "Mean step acceleration Y at stance - ankle (m/s^2)",
           0.0015480175837610838
          ],
          [
           "Mean phase at touchdown - rhindlimb - lHindpaw (°)_sin",
           0.001546109145841711
          ],
          [
           "Mean phase velocity at swing - rhindlimb - ankle (rad/s)_cos",
           0.0014875656514564159
          ],
          [
           "Mean phase at touchdown - rhindlimb - knee (°)_cos",
           0.0013247388038956152
          ],
          [
           "Mean step velocity Y at stance - knee (m/s)",
           0.0012650349206478513
          ],
          [
           "Mean step height (m)",
           0.0012599136926735378
          ],
          [
           "Mean phase at stance - rhindlimb - knee (°)_cos",
           0.0011434929006685212
          ],
          [
           "Mean phase at stance - rhindlimb - knee (°)_sin",
           0.0011135224903587393
          ],
          [
           "Mean step velocity Y at touchdown - lHindpaw (m/s)",
           0.0010826644762039666
          ],
          [
           "Mean step acceleration Y during stance - ankle (m/s^2)",
           0.0010586431844761706
          ],
          [
           "Mean step acceleration X at swing - ankle (m/s^2)",
           0.0010583210445268899
          ],
          [
           "Mean step acceleration Y during swing - lHindpaw (m/s^2)",
           0.0010307437449273338
          ],
          [
           "Mean step acceleration Y during stance - lHindpaw (m/s^2)",
           0.0010246432131828735
          ],
          [
           "Mean step velocity X at swing - knee (m/s)",
           0.001004442970092719
          ],
          [
           "Mean angle velocity - rhindlimb - hip (rad/s)_sin",
           0.0009830686405644274
          ],
          [
           "Mean phase at touchdown - rhindlimb - ankle (°)_sin",
           0.0009106396717412341
          ],
          [
           "Mean angle velocity during swing - rhindlimb - knee (rad/s)_cos",
           0.0008018219558278932
          ],
          [
           "Mean phase at stance - rhindlimb - ankle (°)_cos",
           0.0007565522744518123
          ],
          [
           "Mean phase velocity - rhindlimb - hip (rad/s)_sin",
           0.000703410609971538
          ],
          [
           "Mean step velocity Y during stance - ankle (m/s)",
           0.0006617779924715974
          ],
          [
           "Mean phase acceleration at swing - rhindlimb - ankle (rad/s^2)_sin",
           0.0006359915099611094
          ],
          [
           "Mean phase velocity - rhindlimb - hip (rad/s)_cos",
           0.0006265086634115066
          ],
          [
           "Mean phase at touchdown - rhindlimb - ankle (°)_cos",
           0.0005943086289435554
          ],
          [
           "Mean phase acceleration during swing - rhindlimb - hip (rad/s^2)_sin",
           0.0005755900047286944
          ],
          [
           "Mean angle at touchdown - rhindlimb - hip (°)_sin",
           0.0005529326219607898
          ],
          [
           "Mean angle acceleration at stance - rhindlimb - ankle (rad/s^2)_sin",
           0.0005526154145306775
          ],
          [
           "Mean angle velocity at stance - rhindlimb - knee (rad/s)_sin",
           0.0005513057872770163
          ],
          [
           "Mean angle at touchdown - rhindlimb - ankle (°)_sin",
           0.0005509971563865178
          ],
          [
           "Mean angle during stance - rhindlimb - knee (°)_cos",
           0.0005291393600679118
          ],
          [
           "Mean step velocity X at peak - knee (m/s)",
           0.000512341498908759
          ],
          [
           "Mean angle velocity at swing - rhindlimb - knee (rad/s)_cos",
           0.00043753387453482
          ],
          [
           "Mean angle velocity at touchdown - rhindlimb - knee (rad/s)_sin",
           0.00043310576058922575
          ],
          [
           "Mean angle at touchdown - rhindlimb - hip (°)_cos",
           0.0004163751388610729
          ],
          [
           "Mean phase at touchdown - rhindlimb - hip (°)_sin",
           0.0003912647824393056
          ],
          [
           "Mean phase at stance - rhindlimb - ankle (°)_sin",
           0.00037858579021979885
          ],
          [
           "Mean phase at touchdown - rhindlimb - hip (°)_cos",
           0.00035783231247277073
          ],
          [
           "Mean phase velocity at peak - rhindlimb - ankle (rad/s)_sin",
           0.00030986401240144795
          ],
          [
           "Mean phase velocity at peak - rhindlimb - hip (rad/s)_sin",
           0.00029134638384797364
          ],
          [
           "Mean step velocity X during swing - hip (m/s)",
           0.00026227108949317915
          ],
          [
           "Mean angle at swing - rhindlimb - lHindpaw (°)_cos",
           0.0002491923732198971
          ],
          [
           "Mean phase acceleration during stance - rhindlimb - lHindpaw (rad/s^2)_sin",
           0.0002367603042618137
          ],
          [
           "Mean step velocity Y at touchdown - lHindfingers (m/s)",
           0.00023266485910039517
          ],
          [
           "Mean angle during stance - rhindlimb - knee (°)_sin",
           0.0001932122308313684
          ],
          [
           "Mean angle velocity at peak - rhindlimb - hip (rad/s)_sin",
           0.00019132942332749633
          ],
          [
           "Mean angle velocity - rhindlimb - hip (rad/s)_cos",
           0.0001843774684526511
          ],
          [
           "Mean step jerk Y at touchdown - lHindpaw (m/s^3)",
           0.00016808610516660035
          ],
          [
           "Mean angle acceleration during swing - rhindlimb - hip (rad/s^2)_sin",
           0.00015909716152105776
          ],
          [
           "Mean step acceleration X at swing - lHindpaw (m/s^2)",
           0.00014969102303237928
          ],
          [
           "Mean phase acceleration - rhindlimb - hip (rad/s^2)_cos",
           0.0001402995278267815
          ],
          [
           "Mean step velocity Y at swing - lHindfingers (m/s)",
           0.00012668625354589949
          ],
          [
           "Mean step acceleration Y at swing - knee (m/s^2)",
           0.00011265429841149336
          ],
          [
           "Mean step velocity X at touchdown - hip (m/s)",
           0.00010566274722666698
          ],
          [
           "Mean step velocity X at swing - ankle (m/s)",
           0.00008425139035480213
          ],
          [
           "Mean angle velocity at swing - rhindlimb - knee (rad/s)_sin",
           0.0000772257238863352
          ],
          [
           "Mean angle at stance - rhindlimb - ankle (°)_sin",
           0.00005583382279617592
          ],
          [
           "Mean angle at swing - rhindlimb - lHindpaw (°)_sin",
           0.00004729474354455501
          ],
          [
           "Mean phase acceleration during swing - rhindlimb - knee (rad/s^2)_sin",
           0.00003971458145132964
          ],
          [
           "Mean angle acceleration during stance - rhindlimb - lHindpaw (rad/s^2)_cos",
           0
          ],
          [
           "Mean phase acceleration during stance - rhindlimb - knee (rad/s^2)_sin",
           0
          ],
          [
           "Mean step duration (s)",
           0
          ],
          [
           "Mean angle acceleration at swing - rhindlimb - knee (rad/s^2)_sin",
           0
          ],
          [
           "Mean angle velocity during swing - rhindlimb - knee (rad/s)_sin",
           0
          ],
          [
           "Mean angle acceleration at stance - rhindlimb - lHindpaw (rad/s^2)_cos",
           0
          ],
          [
           "Mean angle at touchdown - rhindlimb - ankle (°)_cos",
           0
          ],
          [
           "Mean step velocity Y during stance - hip (m/s)",
           0
          ],
          [
           "Mean step acceleration Y during swing - lHindfingers (m/s^2)",
           0
          ],
          [
           "Mean phase acceleration at peak - rhindlimb - knee (rad/s^2)_cos",
           0
          ],
          [
           "Mean phase velocity during stance - rhindlimb - knee (rad/s)_sin",
           0
          ],
          [
           "Mean phase velocity during swing - rhindlimb - lHindpaw (rad/s)_sin",
           0
          ],
          [
           "Mean phase velocity at touchdown - rhindlimb - knee (rad/s)_cos",
           0
          ]
         ],
         "hovertemplate": "direction=towards_healthy<br>importance=%{x}<br>change_effect_size=%{y}<br>combined_rank=%{customdata[1]}<br>feature=%{customdata[0]}<extra></extra>",
         "legendgroup": "towards_healthy",
         "marker": {
          "color": "green",
          "size": {
           "bdata": "sRt1PPYvmD+xioE54O+TPxaE01e0yZI/2Z3AKa5Bij9Et+A9k/2JPy65+9Kk4og/h0YUgh6ugz/AutF9lzaCP9rLoBlco4A/3tfotImXgD/mEdbA6Wp/P6JIwkxZCn0/uapE0kj0ej/FddTmdt96P55lBTYq3Hg/k7n6HZKleD8USncvaCZ2P7+2OxwQAXU/LajsrcqWdD826zV91uJzPz91i4nsY3I/joVowiY1cj+Op3SquO1xPwWZqjQE03E/y+ziFUOocT8G42MDhw9wP7eLUqkHZ28/eB9s4hb0bT9EXg9b2W9rP9ir8C9CKWg/h/GJc8MgZj+TzXp703xlPxr+axYiS2Q/EmNLukueYz+cNelXMIdiPyWsqqTlmmA/jAyvqARCXz/7Zqm7E7leP9nGYDCCV1s/kjVWOdtcWT9ie+oN2lRZPw7RtnRNX1g/Ho6pdVu0VT9Q4TLn8LlUPx+uxQZ2pFQ/PR4kJyi8Uj8kIXyrcz5SP9Q9JCEGvVE/ytS/dkVYUT+fJpiR61ZRP9eEM6tA41A/Y9jNRarJUD/vgUNt8HRQP032TOpJG1A/55Tlzf/WTT/bX+uJK0ZKP93bY6Nrykg/LeJhyKIMRz+mSN1qZa9FPzY9L14V10Q/l2MpHImHRD8iagEQbHlDP6Tygx9m3EI/1nycw1UeQj9pfPuQrBtCP8AfySmwEEI/MsQoYhkOQj9I540fvlZBP22fuP3UyUA/wc+YrpmsPD9wGtMTT2I8PxDRsZqdSTs/rs3UcVWkOT9qGnWWnc84P+SXWxRuczc/ASuqzKdOND+cV8Aw+xczP5L4hsAtMDE/LIvoF8FUMD8kNBCHWwgvP/VX6evvfi4/VvLabCBTKT8uV1478xMpP/9b7WSuKig/s04ypggIJj8PvhM2atokP52qyxjMniM/ZB5vxKtjIj/eyLSh4pogP+rrFhwaiB0/dj3LLOiyGz9R1WfdAxYWP6B6gdWHPhQ/m8MZi+NFDT+q660Dy8sIPxOxyKBm0gQ/AAAAAAAAAAAAAAAAAAAAAAAAAAAAAAAAAAAAAAAAAAAAAAAAAAAAAAAAAAAAAAAAAAAAAAAAAAAAAAAAAAAAAAAAAAAAAAAAAAAAAAAAAAAAAAAAAAAAAAAAAAAAAAAAAAAAAAAAAAA=",
           "dtype": "f8"
          },
          "sizemode": "area",
          "sizeref": 0.00006187104987104247,
          "symbol": "circle"
         },
         "mode": "markers",
         "name": "towards_healthy",
         "orientation": "v",
         "showlegend": true,
         "type": "scatter",
         "x": {
          "bdata": "sd08oXatmj+u+u61QAmYP2BhqHMN0os/uLQXRhn6gT/JCosYvuWRP37GlAE2sY8/Wvtc1X4bfT/5F9nfy9aBP3WHtixnQ5E/9IcHJ3edgD+msO+BsvuPP5e85M9ZkIA/dxXzDLshgT8JAjVnxVp3P1k+QDlaL4E/2EiOpaeahT96WlmUqtyAP6LVO+A0O30/sU4BHJUaeT/b4QMorTh7P+4fom4aOHU/3Zjny/ZCdz+11LyMzDGKPwiUcRiMpHg/sg7KIK6BiT+qW6CWcLFxPwsGoVOKWXc/NROwyeabhz857Gu5rMuAP+p18zdRQ3A/M6MKA9+MZz/KYj31DxhtP6oehXrlAHU/2SAcX1klez+j+3J8ssBmPyGQOrGisWg/enF2RCjPYT+ssJGS8xljP6plw9WqxGw/MiGq756NYT+9V9GFpgdoP4e+s6w7wWY/v6bYkLascD90D7cM5PtbP+oQDC+ceFY/3kZ8DDYuWT/1JpOSXX1XP9x1cqwmG10/LtNVx9gPYD/OODshJb9SP8KeQjdVFVY/dvCkIn2aVT9dodlVAcxjP+X+KYdgJmE/o/XfNRcjUz/Bqh8IRdVfP3bu/owK31M/K+GzVNqKWD9YRT5LFsNRP8ubhPPvNV4/vLwvjjW4WD/Fk3I3hMBKP+n9gY9w0Vw/r2drR0RhTT8tS4Nw6h9YP4HkvWn7Glc/OEpBc1iLTj/a/Q4MBt1ZP2R7S2gdJFE/SHIAkSRQQz/bfJYInwZTP4vw7XCc4EY/rW3bAS7KRD8KOELvlrVAP2IyVTAqqUM/GlOTTFDkTz8HnHzMp2FMP6b1vZalz0U/LfEOFRuHQz/lQ89Q5GFGP+5W4cOrZj4/BAaK2jp5Qz+0b1+BaaNCP9xsBK5nGT0/YA08gDaVPD+RFSjrtNw/Pw7vNJN3vSs/8rDYa/toMz8hyonds+w0P/4QD415DTY/tN7MZknoMT8fgr2c7HkhP64dMUZ1RCU/bEaiAon/JD8IUzPT19UfP5OYWvLllh0/AAAAAAAAAAAAAAAAAAAAAAAAAAAAAAAAAAAAAAAAAAAAAAAAAAAAAAAAAAAAAAAAAAAAAAAAAAAAAAAAAAAAAAAAAAAAAAAAAAAAAAAAAAAAAAAAAAAAAAAAAAAAAAAAAAAAAAAAAAA=",
          "dtype": "f8"
         },
         "xaxis": "x",
         "y": {
          "bdata": "/ULluU8D7T+ux5FM74rqP3/7AXNEnPU/3dsBDX1e9z/dl2HiLjznP16sfa2CIOk/Hof8Xsqi9T+hMN1y61XwP4jyazZW194/DisvdpX07z+MV5LEI2/fPzyxlW5EDew/xf+s4W8s6T9awDR7DmnyP7vBhLxUJec/39uNXN1A4j8hGs+2iQTlP4ld+u5d/uY/X3gWCrU+6j8Nx2iqg2DnPzYTVsniu+s/sUviqycM6T9tRbUM8ObVP+XBhLxUJec/zvclrgYn1j9qtd6VKAztP8I6phSZhOU/4pwmmrlM1D/h6Md5ISPaP7ZgJIw/xec/O+DSmEAR7j+l7M9oRKLnP/u+EtgS694/9fWvHVwg1z/b0EiG8A7qP+Q6phSZhOU/FPoZOBsV7D/JIgmdErzpP/i3ourRad4/iTFM91Qe5z8gXf2h293gP9QwFewmI+E/NVfxtIvT1D+6bZ0tabPnP/kH4CtVZe0/309RRRLP5z/dBMvpjNroP/Gksr+GgOM/zwe7qChH4T/eThVTG5ntP/uVwWSjeOg/iyNuWOPd6D9MbxC925naP4H1j+GjDd4/d9MB2MPy6D+BF7E+cGnaP/9Udu4H9uM/tfOP4aMN3j9B0hqWrYjjP6YwmFgRE9Y/KoUNxGaT2j+C8hZxa0vnP8Dql4GD8dQ/tuIZOvm74z+GEoIO9QTYPxaqp1n/BNk/4+YaFWHq4j/IKjZf7XPVP7MOiVV0V98/rIMHdVvB5z/nS3e9rd7XPybfO5WaFeM/QeMZOvm74z+8R3UQ+8HnP0bfO5WaFeM/PgL/6khg1D/i+r5TLofVP0W1FVCvN9k/ivUaGfnC2j/IcqF0AS/WP30CMXHFDOA/jZ+Xa7bO1D9I+r5TLofVPw+DDcRmk9o/Z+Xok0+q2D+D+JmBg/HUPz1xWtAeouY/nrgo/jFR3j+r4wbq32TZPxghOPAhbdU/3kXi2qG/2D/r79PJZzjkP8TbzBbkdd4/8sSYjx9O1j/6yoPhoOzYP5nqI6OmhNY/TYovf8gU2T86sJ9CxufWPxcilJDWD+E/sS0KXSJd2T8s6qDX/4HaPwrBEI0zbts/tYfTxDL54j/JSVB0Bq3bP7nc+JkAsNY/Xrsz59p/5D9LT2+sar/WPyFVbdHtAtk/cIBreysu2D8=",
          "dtype": "f8"
         },
         "yaxis": "y"
        }
       ],
       "layout": {
        "legend": {
         "itemsizing": "constant",
         "title": {
          "text": "direction"
         },
         "tracegroupgap": 0
        },
        "shapes": [
         {
          "line": {
           "color": "black",
           "dash": "dash"
          },
          "type": "line",
          "x0": 0,
          "x1": 1,
          "xref": "x domain",
          "y0": 0,
          "y1": 0,
          "yref": "y"
         }
        ],
        "template": {
         "data": {
          "bar": [
           {
            "error_x": {
             "color": "#2a3f5f"
            },
            "error_y": {
             "color": "#2a3f5f"
            },
            "marker": {
             "line": {
              "color": "#E5ECF6",
              "width": 0.5
             },
             "pattern": {
              "fillmode": "overlay",
              "size": 10,
              "solidity": 0.2
             }
            },
            "type": "bar"
           }
          ],
          "barpolar": [
           {
            "marker": {
             "line": {
              "color": "#E5ECF6",
              "width": 0.5
             },
             "pattern": {
              "fillmode": "overlay",
              "size": 10,
              "solidity": 0.2
             }
            },
            "type": "barpolar"
           }
          ],
          "carpet": [
           {
            "aaxis": {
             "endlinecolor": "#2a3f5f",
             "gridcolor": "white",
             "linecolor": "white",
             "minorgridcolor": "white",
             "startlinecolor": "#2a3f5f"
            },
            "baxis": {
             "endlinecolor": "#2a3f5f",
             "gridcolor": "white",
             "linecolor": "white",
             "minorgridcolor": "white",
             "startlinecolor": "#2a3f5f"
            },
            "type": "carpet"
           }
          ],
          "choropleth": [
           {
            "colorbar": {
             "outlinewidth": 0,
             "ticks": ""
            },
            "type": "choropleth"
           }
          ],
          "contour": [
           {
            "colorbar": {
             "outlinewidth": 0,
             "ticks": ""
            },
            "colorscale": [
             [
              0,
              "#0d0887"
             ],
             [
              0.1111111111111111,
              "#46039f"
             ],
             [
              0.2222222222222222,
              "#7201a8"
             ],
             [
              0.3333333333333333,
              "#9c179e"
             ],
             [
              0.4444444444444444,
              "#bd3786"
             ],
             [
              0.5555555555555556,
              "#d8576b"
             ],
             [
              0.6666666666666666,
              "#ed7953"
             ],
             [
              0.7777777777777778,
              "#fb9f3a"
             ],
             [
              0.8888888888888888,
              "#fdca26"
             ],
             [
              1,
              "#f0f921"
             ]
            ],
            "type": "contour"
           }
          ],
          "contourcarpet": [
           {
            "colorbar": {
             "outlinewidth": 0,
             "ticks": ""
            },
            "type": "contourcarpet"
           }
          ],
          "heatmap": [
           {
            "colorbar": {
             "outlinewidth": 0,
             "ticks": ""
            },
            "colorscale": [
             [
              0,
              "#0d0887"
             ],
             [
              0.1111111111111111,
              "#46039f"
             ],
             [
              0.2222222222222222,
              "#7201a8"
             ],
             [
              0.3333333333333333,
              "#9c179e"
             ],
             [
              0.4444444444444444,
              "#bd3786"
             ],
             [
              0.5555555555555556,
              "#d8576b"
             ],
             [
              0.6666666666666666,
              "#ed7953"
             ],
             [
              0.7777777777777778,
              "#fb9f3a"
             ],
             [
              0.8888888888888888,
              "#fdca26"
             ],
             [
              1,
              "#f0f921"
             ]
            ],
            "type": "heatmap"
           }
          ],
          "histogram": [
           {
            "marker": {
             "pattern": {
              "fillmode": "overlay",
              "size": 10,
              "solidity": 0.2
             }
            },
            "type": "histogram"
           }
          ],
          "histogram2d": [
           {
            "colorbar": {
             "outlinewidth": 0,
             "ticks": ""
            },
            "colorscale": [
             [
              0,
              "#0d0887"
             ],
             [
              0.1111111111111111,
              "#46039f"
             ],
             [
              0.2222222222222222,
              "#7201a8"
             ],
             [
              0.3333333333333333,
              "#9c179e"
             ],
             [
              0.4444444444444444,
              "#bd3786"
             ],
             [
              0.5555555555555556,
              "#d8576b"
             ],
             [
              0.6666666666666666,
              "#ed7953"
             ],
             [
              0.7777777777777778,
              "#fb9f3a"
             ],
             [
              0.8888888888888888,
              "#fdca26"
             ],
             [
              1,
              "#f0f921"
             ]
            ],
            "type": "histogram2d"
           }
          ],
          "histogram2dcontour": [
           {
            "colorbar": {
             "outlinewidth": 0,
             "ticks": ""
            },
            "colorscale": [
             [
              0,
              "#0d0887"
             ],
             [
              0.1111111111111111,
              "#46039f"
             ],
             [
              0.2222222222222222,
              "#7201a8"
             ],
             [
              0.3333333333333333,
              "#9c179e"
             ],
             [
              0.4444444444444444,
              "#bd3786"
             ],
             [
              0.5555555555555556,
              "#d8576b"
             ],
             [
              0.6666666666666666,
              "#ed7953"
             ],
             [
              0.7777777777777778,
              "#fb9f3a"
             ],
             [
              0.8888888888888888,
              "#fdca26"
             ],
             [
              1,
              "#f0f921"
             ]
            ],
            "type": "histogram2dcontour"
           }
          ],
          "mesh3d": [
           {
            "colorbar": {
             "outlinewidth": 0,
             "ticks": ""
            },
            "type": "mesh3d"
           }
          ],
          "parcoords": [
           {
            "line": {
             "colorbar": {
              "outlinewidth": 0,
              "ticks": ""
             }
            },
            "type": "parcoords"
           }
          ],
          "pie": [
           {
            "automargin": true,
            "type": "pie"
           }
          ],
          "scatter": [
           {
            "fillpattern": {
             "fillmode": "overlay",
             "size": 10,
             "solidity": 0.2
            },
            "type": "scatter"
           }
          ],
          "scatter3d": [
           {
            "line": {
             "colorbar": {
              "outlinewidth": 0,
              "ticks": ""
             }
            },
            "marker": {
             "colorbar": {
              "outlinewidth": 0,
              "ticks": ""
             }
            },
            "type": "scatter3d"
           }
          ],
          "scattercarpet": [
           {
            "marker": {
             "colorbar": {
              "outlinewidth": 0,
              "ticks": ""
             }
            },
            "type": "scattercarpet"
           }
          ],
          "scattergeo": [
           {
            "marker": {
             "colorbar": {
              "outlinewidth": 0,
              "ticks": ""
             }
            },
            "type": "scattergeo"
           }
          ],
          "scattergl": [
           {
            "marker": {
             "colorbar": {
              "outlinewidth": 0,
              "ticks": ""
             }
            },
            "type": "scattergl"
           }
          ],
          "scattermap": [
           {
            "marker": {
             "colorbar": {
              "outlinewidth": 0,
              "ticks": ""
             }
            },
            "type": "scattermap"
           }
          ],
          "scattermapbox": [
           {
            "marker": {
             "colorbar": {
              "outlinewidth": 0,
              "ticks": ""
             }
            },
            "type": "scattermapbox"
           }
          ],
          "scatterpolar": [
           {
            "marker": {
             "colorbar": {
              "outlinewidth": 0,
              "ticks": ""
             }
            },
            "type": "scatterpolar"
           }
          ],
          "scatterpolargl": [
           {
            "marker": {
             "colorbar": {
              "outlinewidth": 0,
              "ticks": ""
             }
            },
            "type": "scatterpolargl"
           }
          ],
          "scatterternary": [
           {
            "marker": {
             "colorbar": {
              "outlinewidth": 0,
              "ticks": ""
             }
            },
            "type": "scatterternary"
           }
          ],
          "surface": [
           {
            "colorbar": {
             "outlinewidth": 0,
             "ticks": ""
            },
            "colorscale": [
             [
              0,
              "#0d0887"
             ],
             [
              0.1111111111111111,
              "#46039f"
             ],
             [
              0.2222222222222222,
              "#7201a8"
             ],
             [
              0.3333333333333333,
              "#9c179e"
             ],
             [
              0.4444444444444444,
              "#bd3786"
             ],
             [
              0.5555555555555556,
              "#d8576b"
             ],
             [
              0.6666666666666666,
              "#ed7953"
             ],
             [
              0.7777777777777778,
              "#fb9f3a"
             ],
             [
              0.8888888888888888,
              "#fdca26"
             ],
             [
              1,
              "#f0f921"
             ]
            ],
            "type": "surface"
           }
          ],
          "table": [
           {
            "cells": {
             "fill": {
              "color": "#EBF0F8"
             },
             "line": {
              "color": "white"
             }
            },
            "header": {
             "fill": {
              "color": "#C8D4E3"
             },
             "line": {
              "color": "white"
             }
            },
            "type": "table"
           }
          ]
         },
         "layout": {
          "annotationdefaults": {
           "arrowcolor": "#2a3f5f",
           "arrowhead": 0,
           "arrowwidth": 1
          },
          "autotypenumbers": "strict",
          "coloraxis": {
           "colorbar": {
            "outlinewidth": 0,
            "ticks": ""
           }
          },
          "colorscale": {
           "diverging": [
            [
             0,
             "#8e0152"
            ],
            [
             0.1,
             "#c51b7d"
            ],
            [
             0.2,
             "#de77ae"
            ],
            [
             0.3,
             "#f1b6da"
            ],
            [
             0.4,
             "#fde0ef"
            ],
            [
             0.5,
             "#f7f7f7"
            ],
            [
             0.6,
             "#e6f5d0"
            ],
            [
             0.7,
             "#b8e186"
            ],
            [
             0.8,
             "#7fbc41"
            ],
            [
             0.9,
             "#4d9221"
            ],
            [
             1,
             "#276419"
            ]
           ],
           "sequential": [
            [
             0,
             "#0d0887"
            ],
            [
             0.1111111111111111,
             "#46039f"
            ],
            [
             0.2222222222222222,
             "#7201a8"
            ],
            [
             0.3333333333333333,
             "#9c179e"
            ],
            [
             0.4444444444444444,
             "#bd3786"
            ],
            [
             0.5555555555555556,
             "#d8576b"
            ],
            [
             0.6666666666666666,
             "#ed7953"
            ],
            [
             0.7777777777777778,
             "#fb9f3a"
            ],
            [
             0.8888888888888888,
             "#fdca26"
            ],
            [
             1,
             "#f0f921"
            ]
           ],
           "sequentialminus": [
            [
             0,
             "#0d0887"
            ],
            [
             0.1111111111111111,
             "#46039f"
            ],
            [
             0.2222222222222222,
             "#7201a8"
            ],
            [
             0.3333333333333333,
             "#9c179e"
            ],
            [
             0.4444444444444444,
             "#bd3786"
            ],
            [
             0.5555555555555556,
             "#d8576b"
            ],
            [
             0.6666666666666666,
             "#ed7953"
            ],
            [
             0.7777777777777778,
             "#fb9f3a"
            ],
            [
             0.8888888888888888,
             "#fdca26"
            ],
            [
             1,
             "#f0f921"
            ]
           ]
          },
          "colorway": [
           "#636efa",
           "#EF553B",
           "#00cc96",
           "#ab63fa",
           "#FFA15A",
           "#19d3f3",
           "#FF6692",
           "#B6E880",
           "#FF97FF",
           "#FECB52"
          ],
          "font": {
           "color": "#2a3f5f"
          },
          "geo": {
           "bgcolor": "white",
           "lakecolor": "white",
           "landcolor": "#E5ECF6",
           "showlakes": true,
           "showland": true,
           "subunitcolor": "white"
          },
          "hoverlabel": {
           "align": "left"
          },
          "hovermode": "closest",
          "mapbox": {
           "style": "light"
          },
          "paper_bgcolor": "white",
          "plot_bgcolor": "#E5ECF6",
          "polar": {
           "angularaxis": {
            "gridcolor": "white",
            "linecolor": "white",
            "ticks": ""
           },
           "bgcolor": "#E5ECF6",
           "radialaxis": {
            "gridcolor": "white",
            "linecolor": "white",
            "ticks": ""
           }
          },
          "scene": {
           "xaxis": {
            "backgroundcolor": "#E5ECF6",
            "gridcolor": "white",
            "gridwidth": 2,
            "linecolor": "white",
            "showbackground": true,
            "ticks": "",
            "zerolinecolor": "white"
           },
           "yaxis": {
            "backgroundcolor": "#E5ECF6",
            "gridcolor": "white",
            "gridwidth": 2,
            "linecolor": "white",
            "showbackground": true,
            "ticks": "",
            "zerolinecolor": "white"
           },
           "zaxis": {
            "backgroundcolor": "#E5ECF6",
            "gridcolor": "white",
            "gridwidth": 2,
            "linecolor": "white",
            "showbackground": true,
            "ticks": "",
            "zerolinecolor": "white"
           }
          },
          "shapedefaults": {
           "line": {
            "color": "#2a3f5f"
           }
          },
          "ternary": {
           "aaxis": {
            "gridcolor": "white",
            "linecolor": "white",
            "ticks": ""
           },
           "baxis": {
            "gridcolor": "white",
            "linecolor": "white",
            "ticks": ""
           },
           "bgcolor": "#E5ECF6",
           "caxis": {
            "gridcolor": "white",
            "linecolor": "white",
            "ticks": ""
           }
          },
          "title": {
           "x": 0.05
          },
          "xaxis": {
           "automargin": true,
           "gridcolor": "white",
           "linecolor": "white",
           "ticks": "",
           "title": {
            "standoff": 15
           },
           "zerolinecolor": "white",
           "zerolinewidth": 2
          },
          "yaxis": {
           "automargin": true,
           "gridcolor": "white",
           "linecolor": "white",
           "ticks": "",
           "title": {
            "standoff": 15
           },
           "zerolinecolor": "white",
           "zerolinewidth": 2
          }
         }
        },
        "title": {
         "text": "Feature Importance vs. Treatment Direction"
        },
        "xaxis": {
         "anchor": "y",
         "domain": [
          0,
          1
         ],
         "title": {
          "text": "importance"
         }
        },
        "yaxis": {
         "anchor": "x",
         "domain": [
          0,
          1
         ],
         "title": {
          "text": "change_effect_size"
         }
        }
       }
      }
     },
     "metadata": {},
     "output_type": "display_data"
    }
   ],
   "source": [
    "# 3) Create combined_rank now (so it's available everywhere)\n",
    "res_df[\"combined_rank\"] = res_df[\"importance\"] * res_df[\"change_effect_size\"].abs()\n",
    "\n",
    "# 4) Elbow selection on |change_effect_size| (biologically focused)\n",
    "res_ranked = res_df.copy()\n",
    "res_ranked = res_ranked.dropna(subset=[\"change_effect_size\"])  # exclude no-gap features from elbow\n",
    "res_ranked[\"rank_key\"] = res_ranked[\"change_effect_size\"].abs()\n",
    "res_ranked = res_ranked.sort_values(\"rank_key\", ascending=False).reset_index(drop=True)\n",
    "\n",
    "if res_ranked.empty:\n",
    "    k_opt = 0\n",
    "    selected = res_ranked.copy()\n",
    "else:\n",
    "    vals = res_ranked[\"rank_key\"].to_numpy()\n",
    "    cum = np.cumsum(vals)\n",
    "    cum_norm = cum / cum[-1]\n",
    "    x = np.linspace(0, 1, num=len(cum_norm), endpoint=True)\n",
    "    distances = cum_norm - x\n",
    "    k_opt = int(np.argmax(distances)) + 1\n",
    "    selected = res_ranked.iloc[:k_opt].copy()\n",
    "\n",
    "print(f\"Elbow-selected feature count (by |change_effect_size|): {k_opt}\")\n",
    "# print(selected[[\"feature\", \"importance\", \"change_effect_size\", \"combined_rank\"]].head(10))\n",
    "\n",
    "# 5) Optional biological floor, e.g., at least 20% of gap moved\n",
    "min_effect = 0.20\n",
    "selected = selected[selected[\"change_effect_size\"].abs() >= min_effect]\n",
    "print(f\"After enforcing |change_effect_size| ≥ {min_effect:.2f}: {selected.shape[0]} features kept\")\n",
    "\n",
    "# 6) Direction labels (for downstream plots)\n",
    "res_df[\"direction\"] = np.where(res_df[\"change_effect_size\"] > 0, \"towards_healthy\",\n",
    "                        np.where(res_df[\"change_effect_size\"] < 0, \"away_from_healthy\", \"no_change\"))\n",
    "\n",
    "print(res_df.head(20))\n",
    "print(\"\\nDirection counts:\\n\", res_df[\"direction\"].value_counts())\n",
    "\n",
    "# 7) Reduced dataset with selected features\n",
    "top_feature_list = selected[\"feature\"].tolist()\n",
    "print(f\"Top {len(top_feature_list)} features selected for further analysis.\")\n",
    "_reduced_hindlimb_df = left_hindlimb_features_df[top_feature_list]\n",
    "print(_reduced_hindlimb_df.shape)\n",
    "fig = px.scatter(\n",
    "    res_df[res_df[\"feature\"].isin(top_feature_list)],\n",
    "    x=\"importance\",\n",
    "    y=\"change_effect_size\",\n",
    "    size=\"combined_rank\",\n",
    "    color=\"direction\",\n",
    "    hover_data=[\"feature\", \"importance\", \"change_effect_size\", \"combined_rank\"],\n",
    "    color_discrete_map={\n",
    "        \"towards_healthy\": \"green\",\n",
    "        \"away_from_healthy\": \"red\",\n",
    "        \"no_change\": \"gray\"\n",
    "    },\n",
    "    title=\"Feature Importance vs. Treatment Direction\"\n",
    ")\n",
    "\n",
    "fig.add_hline(y=0, line_dash=\"dash\", line_color=\"black\")\n",
    "fig.show()\n",
    "# fig.write_html(os.path.join('./', 'feature_change_analysis.html'))"
   ]
  },
  {
   "cell_type": "code",
   "execution_count": 155,
   "id": "9f942c56",
   "metadata": {},
   "outputs": [
    {
     "name": "stdout",
     "output_type": "stream",
     "text": [
      "(58, 235)\n",
      "[DEBUG] Dataset Label Map: {0: 'B_postDLC', 1: 'B_preDLC', 2: 'C_postDLC', 3: 'C_preDLC', 4: 'E_postDLC', 5: 'E_preDLC'}\n",
      "[DEBUG] Mouse Label Map: {0: 'mouse11_left', 1: 'mouse12_left', 2: 'mouse13_left', 3: 'mouse14_left', 4: 'mouse15_left', 5: 'mouse16_left', 6: 'mouse17_left', 7: 'mouse18_left', 8: 'mouse19_left', 9: 'mouse20_left', 10: 'mouse21_left', 11: 'mouse22_left', 12: 'mouse23_left', 13: 'mouse24_left', 14: 'mouse25_left', 15: 'mouse26_left', 16: 'mouse27_left', 17: 'mouse28_left', 18: 'mouse29_left', 19: 'mouse30_left', 20: 'mouse41_left', 21: 'mouse42_left', 22: 'mouse43_left', 23: 'mouse44_left', 24: 'mouse45_left', 25: 'mouse46_left', 26: 'mouse47_left', 27: 'mouse48_left', 28: 'mouse49_left', 29: 'mouse50_left'}\n"
     ]
    },
    {
     "name": "stderr",
     "output_type": "stream",
     "text": [
      "/home/filthyweeb/Documents/SeriousStuff/Work/KU/MScThesis/.venv/lib64/python3.13/site-packages/sklearn/utils/deprecation.py:151: FutureWarning:\n",
      "\n",
      "'force_all_finite' was renamed to 'ensure_all_finite' in 1.6 and will be removed in 1.8.\n",
      "\n",
      "/home/filthyweeb/Documents/SeriousStuff/Work/KU/MScThesis/.venv/lib64/python3.13/site-packages/umap/umap_.py:1952: UserWarning:\n",
      "\n",
      "n_jobs value 1 overridden to 1 by setting random_state. Use no seed for parallelism.\n",
      "\n",
      "/home/filthyweeb/Documents/SeriousStuff/Work/KU/MScThesis/.venv/lib64/python3.13/site-packages/sklearn/utils/deprecation.py:151: FutureWarning:\n",
      "\n",
      "'force_all_finite' was renamed to 'ensure_all_finite' in 1.6 and will be removed in 1.8.\n",
      "\n"
     ]
    }
   ],
   "source": [
    "# top_feature_list = res_df[\"feature\"].tolist() \n",
    "top_feature_list.append('Dataset')\n",
    "top_feature_list.append('Mouse') \n",
    "reduced_hindlimb_df = _left_hindlimb_features_df[top_feature_list]\n",
    "print(reduced_hindlimb_df.shape)\n",
    "\n",
    "reduced_features_df = reduced_hindlimb_df[reduced_hindlimb_df['Mouse'].str.lower().str.contains('left')]\n",
    "preprocessed_data, dataset_label_map, mouse_label_map, label_cols = preprocess_data(reduced_features_df)\n",
    "\n",
    "X_agg, y_mouse, y_dataset = aggregate_features(preprocessed_data, label_cols, method=\"median\")\n",
    "\n",
    "umap_reducer, umap_plot_df = perform_dimensionality_reduction(\n",
    "        X_agg, y_mouse, y_dataset,\n",
    "        dataset_label_map, mouse_label_map,\n",
    "        method=\"UMAP\", n_components=3,\n",
    "        target_metric='categorical',\n",
    "        target_weight=0,\n",
    "        n_neighbors=15,\n",
    "        min_dist=0.05,\n",
    "        plot=False, save=False\n",
    "    )"
   ]
  },
  {
   "cell_type": "code",
   "execution_count": 156,
   "id": "eac429c9",
   "metadata": {},
   "outputs": [
    {
     "data": {
      "application/vnd.plotly.v1+json": {
       "config": {
        "plotlyServerURL": "https://plot.ly"
       },
       "data": [
        {
         "customdata": {
          "bdata": "AAAAAQACAAMABAAFAAYABwAIAAk=",
          "dtype": "i1",
          "shape": "10, 2"
         },
         "hovertemplate": "<b>%{hovertext}</b><br><br>ColorKey=B_postDLC<br>UMAP1=%{x}<br>UMAP2=%{y}<br>UMAP3=%{z}<br>Dataset=%{customdata[0]}<br>Mouse=%{customdata[1]}<extra></extra>",
         "hovertext": [
          "mouse11_left",
          "mouse12_left",
          "mouse13_left",
          "mouse14_left",
          "mouse15_left",
          "mouse16_left",
          "mouse17_left",
          "mouse18_left",
          "mouse19_left",
          "mouse20_left"
         ],
         "legendgroup": "B_postDLC",
         "marker": {
          "color": "#636EFA",
          "line": {
           "color": "black",
           "width": 0.3
          },
          "size": 4,
          "symbol": "circle"
         },
         "mode": "markers",
         "name": "B_postDLC",
         "scene": "scene",
         "showlegend": true,
         "type": "scatter3d",
         "x": {
          "bdata": "keMcQZZ88EAEFiRBK4rxQIGE90CcgCJBIIzzQNS2IkERtPRAotMiQQ==",
          "dtype": "f4"
         },
         "y": {
          "bdata": "ATMPQcZV6EAz/AZBZpHjQF0CzkB5CQpBTrTRQAQsC0GxRtBAkg4KQQ==",
          "dtype": "f4"
         },
         "z": {
          "bdata": "wo/gQBsT9kD2/d1A3ij3QKXV70Dc/NNAK6TzQAOo30Ah3PRA35LRQA==",
          "dtype": "f4"
         }
        },
        {
         "customdata": {
          "bdata": "AQABAQECAQMBBAEFAQYBBwEIAQkDCgMLAwwDDQMOAw8DEAMRAxIDEwUUBRYFFwUYBRkFGgUbBRw=",
          "dtype": "i1",
          "shape": "28, 2"
         },
         "hovertemplate": "<b>%{hovertext}</b><br><br>ColorKey=Pre<br>UMAP1=%{x}<br>UMAP2=%{y}<br>UMAP3=%{z}<br>Dataset=%{customdata[0]}<br>Mouse=%{customdata[1]}<extra></extra>",
         "hovertext": [
          "mouse11_left",
          "mouse12_left",
          "mouse13_left",
          "mouse14_left",
          "mouse15_left",
          "mouse16_left",
          "mouse17_left",
          "mouse18_left",
          "mouse19_left",
          "mouse20_left",
          "mouse21_left",
          "mouse22_left",
          "mouse23_left",
          "mouse24_left",
          "mouse25_left",
          "mouse26_left",
          "mouse27_left",
          "mouse28_left",
          "mouse29_left",
          "mouse30_left",
          "mouse41_left",
          "mouse43_left",
          "mouse44_left",
          "mouse45_left",
          "mouse46_left",
          "mouse47_left",
          "mouse48_left",
          "mouse49_left"
         ],
         "legendgroup": "Pre",
         "marker": {
          "color": "#7f7f7f",
          "line": {
           "color": "black",
           "width": 0.3
          },
          "size": 4,
          "symbol": "circle"
         },
         "mode": "markers",
         "name": "Pre",
         "scene": "scene",
         "showlegend": true,
         "type": "scatter3d",
         "x": {
          "bdata": "D9PbQEYW60BYIuxAL8vXQLO+8kAe8edA9SnlQMIC30CRtuNAbMTdQCof90A3bPtAFPL8QJfL80DHFuJAb173QOTh/kC0wu1AJQkFQf8/30DCBrxA93C6QDWuvkCDQrlAnwnAQMSSv0Db2/RAvUAvQQ==",
          "dtype": "f4"
         },
         "y": {
          "bdata": "6BULQfn6AEEPWBZBi7oIQSd0GUGnxw5B3J4FQQ70BUE0LARBeQIEQWKoIUFdCyBBExAdQQVRIkFwHhZB/vggQa+tIUFE/SFB9qwZQdAEHEE+kghB8VULQWYkEkHvnglBfgMSQQfNCkEVAhtBv7sHQQ==",
          "dtype": "f4"
         },
         "z": {
          "bdata": "IurGQCsx0EB14M1AO3TLQF85zEBzV89A9ivPQPda10AyZMZAfXzXQCLM9ECJXt1AsSrtQGG460C4gO9A/8rjQCAs40B5xu9AIMb2QF0w70B4KAhBKlsBQd9m/UAogAdBfr8AQV1LBUEMiNZAxlT6QA==",
          "dtype": "f4"
         }
        },
        {
         "customdata": {
          "bdata": "AgoCCwIMAg0CDgIPAhACEQISAhM=",
          "dtype": "i1",
          "shape": "10, 2"
         },
         "hovertemplate": "<b>%{hovertext}</b><br><br>ColorKey=C_postDLC<br>UMAP1=%{x}<br>UMAP2=%{y}<br>UMAP3=%{z}<br>Dataset=%{customdata[0]}<br>Mouse=%{customdata[1]}<extra></extra>",
         "hovertext": [
          "mouse21_left",
          "mouse22_left",
          "mouse23_left",
          "mouse24_left",
          "mouse25_left",
          "mouse26_left",
          "mouse27_left",
          "mouse28_left",
          "mouse29_left",
          "mouse30_left"
         ],
         "legendgroup": "C_postDLC",
         "marker": {
          "color": "#EF553B",
          "line": {
           "color": "black",
           "width": 0.3
          },
          "size": 4,
          "symbol": "circle"
         },
         "mode": "markers",
         "name": "C_postDLC",
         "scene": "scene",
         "showlegend": true,
         "type": "scatter3d",
         "x": {
          "bdata": "xh8qQaRVL0Eqwy5BF4PHQFwcMkEasChBb8sfQRTeMUEDGytBK1IfQQ==",
          "dtype": "f4"
         },
         "y": {
          "bdata": "UwTyQPU98UAcnfZAWL8KQXoy+0B6luxA91v0QDeM60Ce/+hA3szyQA==",
          "dtype": "f4"
         },
         "z": {
          "bdata": "KdXcQPRv20DbaetA9XHxQMA92EC479xAqPnfQOpX3kA0vuVA0ezgQA==",
          "dtype": "f4"
         }
        },
        {
         "customdata": {
          "bdata": "BBQEFQQWBBcEGAQZBBoEGwQcBB0=",
          "dtype": "i1",
          "shape": "10, 2"
         },
         "hovertemplate": "<b>%{hovertext}</b><br><br>ColorKey=E_postDLC<br>UMAP1=%{x}<br>UMAP2=%{y}<br>UMAP3=%{z}<br>Dataset=%{customdata[0]}<br>Mouse=%{customdata[1]}<extra></extra>",
         "hovertext": [
          "mouse41_left",
          "mouse42_left",
          "mouse43_left",
          "mouse44_left",
          "mouse45_left",
          "mouse46_left",
          "mouse47_left",
          "mouse48_left",
          "mouse49_left",
          "mouse50_left"
         ],
         "legendgroup": "E_postDLC",
         "marker": {
          "color": "#00CC96",
          "line": {
           "color": "black",
           "width": 0.3
          },
          "size": 4,
          "symbol": "circle"
         },
         "mode": "markers",
         "name": "E_postDLC",
         "scene": "scene",
         "showlegend": true,
         "type": "scatter3d",
         "x": {
          "bdata": "eUYvQcOjNEF/IDlB7pw0QZKmNkEbKS9BSXQnQRJLOEGNQzBBVJI6QQ==",
          "dtype": "f4"
         },
         "y": {
          "bdata": "RE8UQYcCD0GaTBFBlZcTQdCWDkEtAxNBLO0TQfPiE0GcDQ9BVc8UQQ==",
          "dtype": "f4"
         },
         "z": {
          "bdata": "2kIDQWifB0HDRAZBYTUKQX7vC0FmPgpBMikDQStxCEFOAQRB5CkJQQ==",
          "dtype": "f4"
         }
        },
        {
         "customdata": {
          "bdata": "AAAAAQACAAMABAAFAAYABwAIAAk=",
          "dtype": "i1",
          "shape": "10, 2"
         },
         "hovertemplate": "<b>%{hovertext}</b><br><br>DatasetName=B_postDLC<br>UMAP1=%{x}<br>UMAP2=%{y}<br>UMAP3=%{z}<br>Dataset=%{customdata[0]}<br>Mouse=%{customdata[1]}<extra></extra>",
         "hovertext": [
          "mouse11_left",
          "mouse12_left",
          "mouse13_left",
          "mouse14_left",
          "mouse15_left",
          "mouse16_left",
          "mouse17_left",
          "mouse18_left",
          "mouse19_left",
          "mouse20_left"
         ],
         "legendgroup": "B_postDLC",
         "marker": {
          "color": "#636EFA",
          "line": {
           "color": "black",
           "width": 0.3
          },
          "size": 4,
          "symbol": "circle"
         },
         "mode": "markers",
         "name": "B_postDLC",
         "scene": "scene2",
         "showlegend": true,
         "type": "scatter3d",
         "x": {
          "bdata": "keMcQZZ88EAEFiRBK4rxQIGE90CcgCJBIIzzQNS2IkERtPRAotMiQQ==",
          "dtype": "f4"
         },
         "y": {
          "bdata": "ATMPQcZV6EAz/AZBZpHjQF0CzkB5CQpBTrTRQAQsC0GxRtBAkg4KQQ==",
          "dtype": "f4"
         },
         "z": {
          "bdata": "wo/gQBsT9kD2/d1A3ij3QKXV70Dc/NNAK6TzQAOo30Ah3PRA35LRQA==",
          "dtype": "f4"
         }
        },
        {
         "customdata": {
          "bdata": "AQABAQECAQMBBAEFAQYBBwEIAQk=",
          "dtype": "i1",
          "shape": "10, 2"
         },
         "hovertemplate": "<b>%{hovertext}</b><br><br>DatasetName=B_preDLC<br>UMAP1=%{x}<br>UMAP2=%{y}<br>UMAP3=%{z}<br>Dataset=%{customdata[0]}<br>Mouse=%{customdata[1]}<extra></extra>",
         "hovertext": [
          "mouse11_left",
          "mouse12_left",
          "mouse13_left",
          "mouse14_left",
          "mouse15_left",
          "mouse16_left",
          "mouse17_left",
          "mouse18_left",
          "mouse19_left",
          "mouse20_left"
         ],
         "legendgroup": "B_preDLC",
         "marker": {
          "color": "#FFA15A",
          "line": {
           "color": "black",
           "width": 0.3
          },
          "size": 4,
          "symbol": "circle"
         },
         "mode": "markers",
         "name": "B_preDLC",
         "scene": "scene2",
         "showlegend": true,
         "type": "scatter3d",
         "x": {
          "bdata": "D9PbQEYW60BYIuxAL8vXQLO+8kAe8edA9SnlQMIC30CRtuNAbMTdQA==",
          "dtype": "f4"
         },
         "y": {
          "bdata": "6BULQfn6AEEPWBZBi7oIQSd0GUGnxw5B3J4FQQ70BUE0LARBeQIEQQ==",
          "dtype": "f4"
         },
         "z": {
          "bdata": "IurGQCsx0EB14M1AO3TLQF85zEBzV89A9ivPQPda10AyZMZAfXzXQA==",
          "dtype": "f4"
         }
        },
        {
         "customdata": {
          "bdata": "AgoCCwIMAg0CDgIPAhACEQISAhM=",
          "dtype": "i1",
          "shape": "10, 2"
         },
         "hovertemplate": "<b>%{hovertext}</b><br><br>DatasetName=C_postDLC<br>UMAP1=%{x}<br>UMAP2=%{y}<br>UMAP3=%{z}<br>Dataset=%{customdata[0]}<br>Mouse=%{customdata[1]}<extra></extra>",
         "hovertext": [
          "mouse21_left",
          "mouse22_left",
          "mouse23_left",
          "mouse24_left",
          "mouse25_left",
          "mouse26_left",
          "mouse27_left",
          "mouse28_left",
          "mouse29_left",
          "mouse30_left"
         ],
         "legendgroup": "C_postDLC",
         "marker": {
          "color": "#EF553B",
          "line": {
           "color": "black",
           "width": 0.3
          },
          "size": 4,
          "symbol": "circle"
         },
         "mode": "markers",
         "name": "C_postDLC",
         "scene": "scene2",
         "showlegend": true,
         "type": "scatter3d",
         "x": {
          "bdata": "xh8qQaRVL0Eqwy5BF4PHQFwcMkEasChBb8sfQRTeMUEDGytBK1IfQQ==",
          "dtype": "f4"
         },
         "y": {
          "bdata": "UwTyQPU98UAcnfZAWL8KQXoy+0B6luxA91v0QDeM60Ce/+hA3szyQA==",
          "dtype": "f4"
         },
         "z": {
          "bdata": "KdXcQPRv20DbaetA9XHxQMA92EC479xAqPnfQOpX3kA0vuVA0ezgQA==",
          "dtype": "f4"
         }
        },
        {
         "customdata": {
          "bdata": "AwoDCwMMAw0DDgMPAxADEQMSAxM=",
          "dtype": "i1",
          "shape": "10, 2"
         },
         "hovertemplate": "<b>%{hovertext}</b><br><br>DatasetName=C_preDLC<br>UMAP1=%{x}<br>UMAP2=%{y}<br>UMAP3=%{z}<br>Dataset=%{customdata[0]}<br>Mouse=%{customdata[1]}<extra></extra>",
         "hovertext": [
          "mouse21_left",
          "mouse22_left",
          "mouse23_left",
          "mouse24_left",
          "mouse25_left",
          "mouse26_left",
          "mouse27_left",
          "mouse28_left",
          "mouse29_left",
          "mouse30_left"
         ],
         "legendgroup": "C_preDLC",
         "marker": {
          "color": "#19d3f3",
          "line": {
           "color": "black",
           "width": 0.3
          },
          "size": 4,
          "symbol": "circle"
         },
         "mode": "markers",
         "name": "C_preDLC",
         "scene": "scene2",
         "showlegend": true,
         "type": "scatter3d",
         "x": {
          "bdata": "Kh/3QDds+0AU8vxAl8vzQMcW4kBvXvdA5OH+QLTC7UAlCQVB/z/fQA==",
          "dtype": "f4"
         },
         "y": {
          "bdata": "YqghQV0LIEETEB1BBVEiQXAeFkH++CBBr60hQUT9IUH2rBlB0AQcQQ==",
          "dtype": "f4"
         },
         "z": {
          "bdata": "Isz0QIle3UCxKu1AYbjrQLiA70D/yuNAICzjQHnG70AgxvZAXTDvQA==",
          "dtype": "f4"
         }
        },
        {
         "customdata": {
          "bdata": "BBQEFQQWBBcEGAQZBBoEGwQcBB0=",
          "dtype": "i1",
          "shape": "10, 2"
         },
         "hovertemplate": "<b>%{hovertext}</b><br><br>DatasetName=E_postDLC<br>UMAP1=%{x}<br>UMAP2=%{y}<br>UMAP3=%{z}<br>Dataset=%{customdata[0]}<br>Mouse=%{customdata[1]}<extra></extra>",
         "hovertext": [
          "mouse41_left",
          "mouse42_left",
          "mouse43_left",
          "mouse44_left",
          "mouse45_left",
          "mouse46_left",
          "mouse47_left",
          "mouse48_left",
          "mouse49_left",
          "mouse50_left"
         ],
         "legendgroup": "E_postDLC",
         "marker": {
          "color": "#00CC96",
          "line": {
           "color": "black",
           "width": 0.3
          },
          "size": 4,
          "symbol": "circle"
         },
         "mode": "markers",
         "name": "E_postDLC",
         "scene": "scene2",
         "showlegend": true,
         "type": "scatter3d",
         "x": {
          "bdata": "eUYvQcOjNEF/IDlB7pw0QZKmNkEbKS9BSXQnQRJLOEGNQzBBVJI6QQ==",
          "dtype": "f4"
         },
         "y": {
          "bdata": "RE8UQYcCD0GaTBFBlZcTQdCWDkEtAxNBLO0TQfPiE0GcDQ9BVc8UQQ==",
          "dtype": "f4"
         },
         "z": {
          "bdata": "2kIDQWifB0HDRAZBYTUKQX7vC0FmPgpBMikDQStxCEFOAQRB5CkJQQ==",
          "dtype": "f4"
         }
        },
        {
         "customdata": {
          "bdata": "BRQFFgUXBRgFGQUaBRsFHA==",
          "dtype": "i1",
          "shape": "8, 2"
         },
         "hovertemplate": "<b>%{hovertext}</b><br><br>DatasetName=E_preDLC<br>UMAP1=%{x}<br>UMAP2=%{y}<br>UMAP3=%{z}<br>Dataset=%{customdata[0]}<br>Mouse=%{customdata[1]}<extra></extra>",
         "hovertext": [
          "mouse41_left",
          "mouse43_left",
          "mouse44_left",
          "mouse45_left",
          "mouse46_left",
          "mouse47_left",
          "mouse48_left",
          "mouse49_left"
         ],
         "legendgroup": "E_preDLC",
         "marker": {
          "color": "#FF6692",
          "line": {
           "color": "black",
           "width": 0.3
          },
          "size": 4,
          "symbol": "circle"
         },
         "mode": "markers",
         "name": "E_preDLC",
         "scene": "scene2",
         "showlegend": true,
         "type": "scatter3d",
         "x": {
          "bdata": "wga8QPdwukA1rr5Ag0K5QJ8JwEDEkr9A29v0QL1AL0E=",
          "dtype": "f4"
         },
         "y": {
          "bdata": "PpIIQfFVC0FmJBJB754JQX4DEkEHzQpBFQIbQb+7B0E=",
          "dtype": "f4"
         },
         "z": {
          "bdata": "eCgIQSpbAUHfZv1AKIAHQX6/AEFdSwVBDIjWQMZU+kA=",
          "dtype": "f4"
         }
        }
       ],
       "layout": {
        "annotations": [
         {
          "font": {
           "size": 16
          },
          "showarrow": false,
          "text": "UMAP 3D — Pre vs Others",
          "x": 0.225,
          "xanchor": "center",
          "xref": "paper",
          "y": 1,
          "yanchor": "bottom",
          "yref": "paper"
         },
         {
          "font": {
           "size": 16
          },
          "showarrow": false,
          "text": "UMAP 3D — Each Dataset",
          "x": 0.775,
          "xanchor": "center",
          "xref": "paper",
          "y": 1,
          "yanchor": "bottom",
          "yref": "paper"
         }
        ],
        "height": 600,
        "legend": {
         "orientation": "v",
         "title": {
          "text": "Dataset"
         }
        },
        "margin": {
         "b": 0,
         "l": 0,
         "r": 0,
         "t": 60
        },
        "scene": {
         "aspectmode": "data",
         "domain": {
          "x": [
           0,
           0.45
          ],
          "y": [
           0,
           1
          ]
         }
        },
        "scene2": {
         "aspectmode": "data",
         "domain": {
          "x": [
           0.55,
           1
          ],
          "y": [
           0,
           1
          ]
         }
        },
        "showlegend": true,
        "template": {
         "data": {
          "bar": [
           {
            "error_x": {
             "color": "#2a3f5f"
            },
            "error_y": {
             "color": "#2a3f5f"
            },
            "marker": {
             "line": {
              "color": "#E5ECF6",
              "width": 0.5
             },
             "pattern": {
              "fillmode": "overlay",
              "size": 10,
              "solidity": 0.2
             }
            },
            "type": "bar"
           }
          ],
          "barpolar": [
           {
            "marker": {
             "line": {
              "color": "#E5ECF6",
              "width": 0.5
             },
             "pattern": {
              "fillmode": "overlay",
              "size": 10,
              "solidity": 0.2
             }
            },
            "type": "barpolar"
           }
          ],
          "carpet": [
           {
            "aaxis": {
             "endlinecolor": "#2a3f5f",
             "gridcolor": "white",
             "linecolor": "white",
             "minorgridcolor": "white",
             "startlinecolor": "#2a3f5f"
            },
            "baxis": {
             "endlinecolor": "#2a3f5f",
             "gridcolor": "white",
             "linecolor": "white",
             "minorgridcolor": "white",
             "startlinecolor": "#2a3f5f"
            },
            "type": "carpet"
           }
          ],
          "choropleth": [
           {
            "colorbar": {
             "outlinewidth": 0,
             "ticks": ""
            },
            "type": "choropleth"
           }
          ],
          "contour": [
           {
            "colorbar": {
             "outlinewidth": 0,
             "ticks": ""
            },
            "colorscale": [
             [
              0,
              "#0d0887"
             ],
             [
              0.1111111111111111,
              "#46039f"
             ],
             [
              0.2222222222222222,
              "#7201a8"
             ],
             [
              0.3333333333333333,
              "#9c179e"
             ],
             [
              0.4444444444444444,
              "#bd3786"
             ],
             [
              0.5555555555555556,
              "#d8576b"
             ],
             [
              0.6666666666666666,
              "#ed7953"
             ],
             [
              0.7777777777777778,
              "#fb9f3a"
             ],
             [
              0.8888888888888888,
              "#fdca26"
             ],
             [
              1,
              "#f0f921"
             ]
            ],
            "type": "contour"
           }
          ],
          "contourcarpet": [
           {
            "colorbar": {
             "outlinewidth": 0,
             "ticks": ""
            },
            "type": "contourcarpet"
           }
          ],
          "heatmap": [
           {
            "colorbar": {
             "outlinewidth": 0,
             "ticks": ""
            },
            "colorscale": [
             [
              0,
              "#0d0887"
             ],
             [
              0.1111111111111111,
              "#46039f"
             ],
             [
              0.2222222222222222,
              "#7201a8"
             ],
             [
              0.3333333333333333,
              "#9c179e"
             ],
             [
              0.4444444444444444,
              "#bd3786"
             ],
             [
              0.5555555555555556,
              "#d8576b"
             ],
             [
              0.6666666666666666,
              "#ed7953"
             ],
             [
              0.7777777777777778,
              "#fb9f3a"
             ],
             [
              0.8888888888888888,
              "#fdca26"
             ],
             [
              1,
              "#f0f921"
             ]
            ],
            "type": "heatmap"
           }
          ],
          "histogram": [
           {
            "marker": {
             "pattern": {
              "fillmode": "overlay",
              "size": 10,
              "solidity": 0.2
             }
            },
            "type": "histogram"
           }
          ],
          "histogram2d": [
           {
            "colorbar": {
             "outlinewidth": 0,
             "ticks": ""
            },
            "colorscale": [
             [
              0,
              "#0d0887"
             ],
             [
              0.1111111111111111,
              "#46039f"
             ],
             [
              0.2222222222222222,
              "#7201a8"
             ],
             [
              0.3333333333333333,
              "#9c179e"
             ],
             [
              0.4444444444444444,
              "#bd3786"
             ],
             [
              0.5555555555555556,
              "#d8576b"
             ],
             [
              0.6666666666666666,
              "#ed7953"
             ],
             [
              0.7777777777777778,
              "#fb9f3a"
             ],
             [
              0.8888888888888888,
              "#fdca26"
             ],
             [
              1,
              "#f0f921"
             ]
            ],
            "type": "histogram2d"
           }
          ],
          "histogram2dcontour": [
           {
            "colorbar": {
             "outlinewidth": 0,
             "ticks": ""
            },
            "colorscale": [
             [
              0,
              "#0d0887"
             ],
             [
              0.1111111111111111,
              "#46039f"
             ],
             [
              0.2222222222222222,
              "#7201a8"
             ],
             [
              0.3333333333333333,
              "#9c179e"
             ],
             [
              0.4444444444444444,
              "#bd3786"
             ],
             [
              0.5555555555555556,
              "#d8576b"
             ],
             [
              0.6666666666666666,
              "#ed7953"
             ],
             [
              0.7777777777777778,
              "#fb9f3a"
             ],
             [
              0.8888888888888888,
              "#fdca26"
             ],
             [
              1,
              "#f0f921"
             ]
            ],
            "type": "histogram2dcontour"
           }
          ],
          "mesh3d": [
           {
            "colorbar": {
             "outlinewidth": 0,
             "ticks": ""
            },
            "type": "mesh3d"
           }
          ],
          "parcoords": [
           {
            "line": {
             "colorbar": {
              "outlinewidth": 0,
              "ticks": ""
             }
            },
            "type": "parcoords"
           }
          ],
          "pie": [
           {
            "automargin": true,
            "type": "pie"
           }
          ],
          "scatter": [
           {
            "fillpattern": {
             "fillmode": "overlay",
             "size": 10,
             "solidity": 0.2
            },
            "type": "scatter"
           }
          ],
          "scatter3d": [
           {
            "line": {
             "colorbar": {
              "outlinewidth": 0,
              "ticks": ""
             }
            },
            "marker": {
             "colorbar": {
              "outlinewidth": 0,
              "ticks": ""
             }
            },
            "type": "scatter3d"
           }
          ],
          "scattercarpet": [
           {
            "marker": {
             "colorbar": {
              "outlinewidth": 0,
              "ticks": ""
             }
            },
            "type": "scattercarpet"
           }
          ],
          "scattergeo": [
           {
            "marker": {
             "colorbar": {
              "outlinewidth": 0,
              "ticks": ""
             }
            },
            "type": "scattergeo"
           }
          ],
          "scattergl": [
           {
            "marker": {
             "colorbar": {
              "outlinewidth": 0,
              "ticks": ""
             }
            },
            "type": "scattergl"
           }
          ],
          "scattermap": [
           {
            "marker": {
             "colorbar": {
              "outlinewidth": 0,
              "ticks": ""
             }
            },
            "type": "scattermap"
           }
          ],
          "scattermapbox": [
           {
            "marker": {
             "colorbar": {
              "outlinewidth": 0,
              "ticks": ""
             }
            },
            "type": "scattermapbox"
           }
          ],
          "scatterpolar": [
           {
            "marker": {
             "colorbar": {
              "outlinewidth": 0,
              "ticks": ""
             }
            },
            "type": "scatterpolar"
           }
          ],
          "scatterpolargl": [
           {
            "marker": {
             "colorbar": {
              "outlinewidth": 0,
              "ticks": ""
             }
            },
            "type": "scatterpolargl"
           }
          ],
          "scatterternary": [
           {
            "marker": {
             "colorbar": {
              "outlinewidth": 0,
              "ticks": ""
             }
            },
            "type": "scatterternary"
           }
          ],
          "surface": [
           {
            "colorbar": {
             "outlinewidth": 0,
             "ticks": ""
            },
            "colorscale": [
             [
              0,
              "#0d0887"
             ],
             [
              0.1111111111111111,
              "#46039f"
             ],
             [
              0.2222222222222222,
              "#7201a8"
             ],
             [
              0.3333333333333333,
              "#9c179e"
             ],
             [
              0.4444444444444444,
              "#bd3786"
             ],
             [
              0.5555555555555556,
              "#d8576b"
             ],
             [
              0.6666666666666666,
              "#ed7953"
             ],
             [
              0.7777777777777778,
              "#fb9f3a"
             ],
             [
              0.8888888888888888,
              "#fdca26"
             ],
             [
              1,
              "#f0f921"
             ]
            ],
            "type": "surface"
           }
          ],
          "table": [
           {
            "cells": {
             "fill": {
              "color": "#EBF0F8"
             },
             "line": {
              "color": "white"
             }
            },
            "header": {
             "fill": {
              "color": "#C8D4E3"
             },
             "line": {
              "color": "white"
             }
            },
            "type": "table"
           }
          ]
         },
         "layout": {
          "annotationdefaults": {
           "arrowcolor": "#2a3f5f",
           "arrowhead": 0,
           "arrowwidth": 1
          },
          "autotypenumbers": "strict",
          "coloraxis": {
           "colorbar": {
            "outlinewidth": 0,
            "ticks": ""
           }
          },
          "colorscale": {
           "diverging": [
            [
             0,
             "#8e0152"
            ],
            [
             0.1,
             "#c51b7d"
            ],
            [
             0.2,
             "#de77ae"
            ],
            [
             0.3,
             "#f1b6da"
            ],
            [
             0.4,
             "#fde0ef"
            ],
            [
             0.5,
             "#f7f7f7"
            ],
            [
             0.6,
             "#e6f5d0"
            ],
            [
             0.7,
             "#b8e186"
            ],
            [
             0.8,
             "#7fbc41"
            ],
            [
             0.9,
             "#4d9221"
            ],
            [
             1,
             "#276419"
            ]
           ],
           "sequential": [
            [
             0,
             "#0d0887"
            ],
            [
             0.1111111111111111,
             "#46039f"
            ],
            [
             0.2222222222222222,
             "#7201a8"
            ],
            [
             0.3333333333333333,
             "#9c179e"
            ],
            [
             0.4444444444444444,
             "#bd3786"
            ],
            [
             0.5555555555555556,
             "#d8576b"
            ],
            [
             0.6666666666666666,
             "#ed7953"
            ],
            [
             0.7777777777777778,
             "#fb9f3a"
            ],
            [
             0.8888888888888888,
             "#fdca26"
            ],
            [
             1,
             "#f0f921"
            ]
           ],
           "sequentialminus": [
            [
             0,
             "#0d0887"
            ],
            [
             0.1111111111111111,
             "#46039f"
            ],
            [
             0.2222222222222222,
             "#7201a8"
            ],
            [
             0.3333333333333333,
             "#9c179e"
            ],
            [
             0.4444444444444444,
             "#bd3786"
            ],
            [
             0.5555555555555556,
             "#d8576b"
            ],
            [
             0.6666666666666666,
             "#ed7953"
            ],
            [
             0.7777777777777778,
             "#fb9f3a"
            ],
            [
             0.8888888888888888,
             "#fdca26"
            ],
            [
             1,
             "#f0f921"
            ]
           ]
          },
          "colorway": [
           "#636efa",
           "#EF553B",
           "#00cc96",
           "#ab63fa",
           "#FFA15A",
           "#19d3f3",
           "#FF6692",
           "#B6E880",
           "#FF97FF",
           "#FECB52"
          ],
          "font": {
           "color": "#2a3f5f"
          },
          "geo": {
           "bgcolor": "white",
           "lakecolor": "white",
           "landcolor": "#E5ECF6",
           "showlakes": true,
           "showland": true,
           "subunitcolor": "white"
          },
          "hoverlabel": {
           "align": "left"
          },
          "hovermode": "closest",
          "mapbox": {
           "style": "light"
          },
          "paper_bgcolor": "white",
          "plot_bgcolor": "#E5ECF6",
          "polar": {
           "angularaxis": {
            "gridcolor": "white",
            "linecolor": "white",
            "ticks": ""
           },
           "bgcolor": "#E5ECF6",
           "radialaxis": {
            "gridcolor": "white",
            "linecolor": "white",
            "ticks": ""
           }
          },
          "scene": {
           "xaxis": {
            "backgroundcolor": "#E5ECF6",
            "gridcolor": "white",
            "gridwidth": 2,
            "linecolor": "white",
            "showbackground": true,
            "ticks": "",
            "zerolinecolor": "white"
           },
           "yaxis": {
            "backgroundcolor": "#E5ECF6",
            "gridcolor": "white",
            "gridwidth": 2,
            "linecolor": "white",
            "showbackground": true,
            "ticks": "",
            "zerolinecolor": "white"
           },
           "zaxis": {
            "backgroundcolor": "#E5ECF6",
            "gridcolor": "white",
            "gridwidth": 2,
            "linecolor": "white",
            "showbackground": true,
            "ticks": "",
            "zerolinecolor": "white"
           }
          },
          "shapedefaults": {
           "line": {
            "color": "#2a3f5f"
           }
          },
          "ternary": {
           "aaxis": {
            "gridcolor": "white",
            "linecolor": "white",
            "ticks": ""
           },
           "baxis": {
            "gridcolor": "white",
            "linecolor": "white",
            "ticks": ""
           },
           "bgcolor": "#E5ECF6",
           "caxis": {
            "gridcolor": "white",
            "linecolor": "white",
            "ticks": ""
           }
          },
          "title": {
           "x": 0.05
          },
          "xaxis": {
           "automargin": true,
           "gridcolor": "white",
           "linecolor": "white",
           "ticks": "",
           "title": {
            "standoff": 15
           },
           "zerolinecolor": "white",
           "zerolinewidth": 2
          },
          "yaxis": {
           "automargin": true,
           "gridcolor": "white",
           "linecolor": "white",
           "ticks": "",
           "title": {
            "standoff": 15
           },
           "zerolinecolor": "white",
           "zerolinewidth": 2
          }
         }
        },
        "width": 1100
       }
      }
     },
     "metadata": {},
     "output_type": "display_data"
    }
   ],
   "source": [
    "### Plotting UMAP in 3D -> 573 features total\n",
    "umap_plot_df[\"DatasetName\"] = umap_plot_df[\"Dataset\"].map(dataset_label_map)\n",
    "umap_plot_df[\"MouseName\"]   = umap_plot_df[\"Mouse\"].map(mouse_label_map)\n",
    "\n",
    "# --- Build a consistent color map ---\n",
    "fixed_color = \"#7f7f7f\"  # gray for Pre\n",
    "all_names = sorted(umap_plot_df[\"DatasetName\"].unique())\n",
    "\n",
    "# Non-Pre datasets get distinct colors from a qualitative palette\n",
    "palette = px.colors.qualitative.Plotly  # or px.colors.qualitative.Set3, etc.\n",
    "non_pre = [n for n in all_names if \"pre\" not in n.lower()]\n",
    "\n",
    "color_map = {\"Pre\": fixed_color}\n",
    "color_map.update({name: palette[i % len(palette)] for i, name in enumerate(non_pre)})\n",
    "\n",
    "# Color key: collapse anything containing \"pre\" to \"Pre\", keep others as-is\n",
    "umap_plot_df[\"ColorKey\"] = umap_plot_df[\"DatasetName\"].apply(\n",
    "    lambda x: \"Pre\" if \"pre\" in x.lower() else x\n",
    ")\n",
    "\n",
    "# --- Build the two px figures using the SAME color map ---\n",
    "fig_left = px.scatter_3d(\n",
    "    umap_plot_df,\n",
    "    x=\"UMAP1\", y=\"UMAP2\", z=\"UMAP3\",\n",
    "    color=\"ColorKey\",\n",
    "    hover_name=\"MouseName\",\n",
    "    hover_data={\"Dataset\": True, \"Mouse\": True},\n",
    "    title=\"UMAP 3D — Pre vs Others\",\n",
    "    color_discrete_map=color_map\n",
    ")\n",
    "fig_left.update_traces(marker=dict(size=4, line=dict(width=0.3, color='black')),\n",
    "                       selector=dict(mode='markers'))\n",
    "\n",
    "fig_right = px.scatter_3d(\n",
    "    umap_plot_df,\n",
    "    x=\"UMAP1\", y=\"UMAP2\", z=\"UMAP3\",\n",
    "    color=\"DatasetName\",\n",
    "    hover_name=\"MouseName\",\n",
    "    hover_data={\"Dataset\": True, \"Mouse\": True},\n",
    "    title=\"UMAP 3D — Each Dataset\",\n",
    "    color_discrete_map=color_map\n",
    ")\n",
    "fig_right.update_traces(marker=dict(size=4, line=dict(width=0.3, color='black')),\n",
    "                        selector=dict(mode='markers'))\n",
    "\n",
    "# --- Put them side by side with shared legend ---\n",
    "combo = make_subplots(rows=1, cols=2,\n",
    "                      specs=[[{\"type\": \"scene\"}, {\"type\": \"scene\"}]],\n",
    "                      subplot_titles=(fig_left.layout.title.text, fig_right.layout.title.text))\n",
    "\n",
    "for tr in fig_left.data:\n",
    "    combo.add_trace(tr, row=1, col=1)\n",
    "for tr in fig_right.data:\n",
    "    combo.add_trace(tr, row=1, col=2)\n",
    "\n",
    "# Layout tweaks: one legend, equal aspect, tidy margins\n",
    "combo.update_layout(\n",
    "    showlegend=True,\n",
    "    legend=dict(title=\"Dataset\", orientation=\"v\"),\n",
    "    scene=dict(aspectmode=\"data\"),\n",
    "    scene2=dict(aspectmode=\"data\"),\n",
    "    margin=dict(l=0, r=0, t=60, b=0),\n",
    "    height=600, width=1100\n",
    ")\n",
    "\n",
    "combo.show()\n",
    "combo.write_html(os.path.join('./', 'umap_reduced_features_with_at.html'))"
   ]
  },
  {
   "cell_type": "code",
   "execution_count": 157,
   "id": "4a248c09",
   "metadata": {},
   "outputs": [
    {
     "name": "stdout",
     "output_type": "stream",
     "text": [
      "Feature number after removing ' at ':  235\n",
      "\n",
      "Direction counts:\n",
      " direction\n",
      "away_from_healthy    137\n",
      "towards_healthy       98\n",
      "Name: count, dtype: int64\n"
     ]
    },
    {
     "data": {
      "application/vnd.plotly.v1+json": {
       "config": {
        "plotlyServerURL": "https://plot.ly"
       },
       "data": [
        {
         "customdata": [
          [
           "Mean angle excursion - rhindlimb - ankle (°)",
           0.05108549298850773
          ],
          [
           "Mean phase excursion - rhindlimb - ankle (°)",
           0.023668437847341055
          ],
          [
           "Mean phase value - rhindlimb - lHindpaw (°)_sin",
           0.006737389869060654
          ],
          [
           "Mean angle value - rhindlimb - lHindfingers (°)_sin",
           0.00616110657945909
          ],
          [
           "Mean step velocity X during stance - lHindpaw (m/s)",
           0.005862342684940135
          ],
          [
           "Mean phase during stance - rhindlimb - lHindpaw (°)_sin",
           0.005505171619347022
          ],
          [
           "Mean phase value - rhindlimb - lHindpaw (°)_cos",
           0.005454012438529278
          ],
          [
           "Mean step velocity X during stance - lHindfingers (m/s)",
           0.005048223521767379
          ],
          [
           "Mean angle during swing - rhindlimb - lHindfingers (°)_sin",
           0.004394885781093381
          ],
          [
           "Mean angle value - rhindlimb - ankle (°)_sin",
           0.00438730743795033
          ],
          [
           "Mean angle during swing - rhindlimb - ankle (°)_cos",
           0.004341769655882089
          ],
          [
           "Mean phase during stance - rhindlimb - lHindpaw (°)_cos",
           0.0037898600079874284
          ],
          [
           "Mean angle value - rhindlimb - knee (°)_cos",
           0.0034727379139656866
          ],
          [
           "Mean angle during stance - rhindlimb - ankle (°)_cos",
           0.0033922427285956297
          ],
          [
           "Mean step velocity X during stance - ankle (m/s)",
           0.0031039867479000873
          ],
          [
           "Mean angle during swing - rhindlimb - lHindfingers (°)_cos",
           0.00300797837762573
          ],
          [
           "Mean phase during swing - rhindlimb - lHindpaw (°)_sin",
           0.0028438761582502553
          ],
          [
           "Mean angle during swing - rhindlimb - ankle (°)_sin",
           0.0026602084889331516
          ],
          [
           "Mean angle value - rhindlimb - ankle (°)_cos",
           0.002638339710931961
          ],
          [
           "Mean phase during swing - rhindlimb - lHindpaw (°)_cos",
           0.002621655193143685
          ],
          [
           "Mean angle value - rhindlimb - lHindfingers (°)_cos",
           0.0025791774242964545
          ],
          [
           "Mean angle during stance - rhindlimb - lHindfingers (°)_cos",
           0.00240364503830681
          ],
          [
           "Mean angle during swing - rhindlimb - knee (°)_sin",
           0.0023916205113019406
          ],
          [
           "Mean phase acceleration during swing - rhindlimb - hip (rad/s^2)_cos",
           0.002222281477777833
          ],
          [
           "Mean step velocity X during stance - knee (m/s)",
           0.002171128863520406
          ],
          [
           "Mean phase acceleration during swing - rhindlimb - ankle (rad/s^2)_sin",
           0.001998871429913908
          ],
          [
           "Mean angle acceleration during swing - rhindlimb - hip (rad/s^2)_cos",
           0.001995404550222225
          ],
          [
           "Mean step acceleration Y during swing - hip (m/s^2)",
           0.0019772963541738043
          ],
          [
           "Mean angle acceleration during swing - rhindlimb - knee (rad/s^2)_cos",
           0.0018290096244307716
          ],
          [
           "Mean angle during swing - rhindlimb - knee (°)_cos",
           0.0017142168336119225
          ],
          [
           "Mean phase during swing - rhindlimb - knee (°)_sin",
           0.0014504529821262127
          ],
          [
           "Mean angle during stance - rhindlimb - lHindfingers (°)_sin",
           0.0012472621119816213
          ],
          [
           "Mean angle acceleration during stance - rhindlimb - knee (rad/s^2)_cos",
           0.0012250449450168228
          ],
          [
           "Mean angle excursion - rhindlimb - lHindfingers (°)",
           0.0011129332522299097
          ],
          [
           "Mean step jerk Y during swing - knee (m/s^3)",
           0.0010739234512243245
          ],
          [
           "Mean phase acceleration - rhindlimb - knee (rad/s^2)_sin",
           0.0010209472059197356
          ],
          [
           "Mean step jerk Y during swing - ankle (m/s^3)",
           0.0010175442033965743
          ],
          [
           "Mean step jerk Y during stance - ankle (m/s^3)",
           0.0010056554260484754
          ],
          [
           "Mean angle excursion - rhindlimb - knee (°)",
           0.000984751524850985
          ],
          [
           "Mean angle during swing - rhindlimb - hip (°)_cos",
           0.0009677840260432112
          ],
          [
           "Mean step jerk Y during swing - hip (m/s^3)",
           0.0009105875113703032
          ],
          [
           "Mean phase velocity during swing - rhindlimb - ankle (rad/s)_sin",
           0.0008991868392772785
          ],
          [
           "Mean phase during swing - rhindlimb - knee (°)_cos",
           0.0008047581219340815
          ],
          [
           "Mean angle during stance - rhindlimb - ankle (°)_sin",
           0.0008044806442911807
          ],
          [
           "Mean phase excursion - rhindlimb - lHindpaw (°)",
           0.0007756928551422319
          ],
          [
           "Mean angle velocity during swing - rhindlimb - ankle (rad/s)_cos",
           0.0007660349254694239
          ],
          [
           "Mean phase excursion - rhindlimb - hip (°)",
           0.0007550424806066915
          ],
          [
           "Mean phase velocity during swing - rhindlimb - knee (rad/s)_sin",
           0.0007331974860165933
          ],
          [
           "Mean angle acceleration - rhindlimb - lHindpaw (rad/s^2)_cos",
           0.0007302099456114117
          ],
          [
           "Mean phase value - rhindlimb - ankle (°)_sin",
           0.0007294089454849174
          ],
          [
           "Mean angle excursion - rhindlimb - lHindpaw (°)",
           0.0007216788298294284
          ],
          [
           "Mean phase acceleration during swing - rhindlimb - ankle (rad/s^2)_cos",
           0.0006757213414377043
          ],
          [
           "Mean step jerk Y during stance - knee (m/s^3)",
           0.0006619859731458543
          ],
          [
           "Mean phase value - rhindlimb - hip (°)_sin",
           0.0006616092139327477
          ],
          [
           "Mean step velocity Y during swing - lHindpaw (m/s)",
           0.0006564481700257001
          ],
          [
           "Mean phase velocity - rhindlimb - lHindpaw (rad/s)_cos",
           0.0006440120021637312
          ],
          [
           "Mean phase during stance - rhindlimb - ankle (°)_sin",
           0.0006418661616006723
          ],
          [
           "Mean angle acceleration - rhindlimb - lHindfingers (rad/s^2)_cos",
           0.0006410773615845235
          ],
          [
           "Mean angle value - rhindlimb - hip (°)_cos",
           0.0006302143910699066
          ],
          [
           "Mean angle acceleration during stance - rhindlimb - lHindfingers (rad/s^2)_sin",
           0.0006183083290646949
          ],
          [
           "Mean step length (m)",
           0.0006158534804243681
          ],
          [
           "Mean angle value - rhindlimb - hip (°)_sin",
           0.0005915811732881026
          ],
          [
           "Mean phase excursion - rhindlimb - knee (°)",
           0.000581368570000696
          ],
          [
           "Mean phase velocity during stance - rhindlimb - knee (rad/s)_cos",
           0.0005679817791764146
          ],
          [
           "Mean phase velocity during swing - rhindlimb - lHindpaw (rad/s)_cos",
           0.0005553437140899034
          ],
          [
           "Mean phase velocity during stance - rhindlimb - ankle (rad/s)_sin",
           0.000547293455137142
          ],
          [
           "Mean step velocity X during swing - lHindfingers (m/s)",
           0.0005299815379258576
          ],
          [
           "Mean phase acceleration during stance - rhindlimb - ankle (rad/s^2)_cos",
           0.0005182719117987774
          ],
          [
           "Mean phase during swing - rhindlimb - ankle (°)_sin",
           0.0005140289117467541
          ],
          [
           "Mean angle during swing - rhindlimb - hip (°)_sin",
           0.0004990799947537401
          ],
          [
           "Mean phase velocity during stance - rhindlimb - ankle (rad/s)_cos",
           0.00048616209667612473
          ],
          [
           "Mean phase during swing - rhindlimb - hip (°)_cos",
           0.0004669479921633431
          ],
          [
           "Mean phase during stance - rhindlimb - ankle (°)_cos",
           0.00045564009633499103
          ],
          [
           "Mean angle excursion - rhindlimb - hip (°)",
           0.0004470301444718269
          ],
          [
           "Mean phase acceleration during swing - rhindlimb - lHindpaw (rad/s^2)_cos",
           0.0004428522938201116
          ],
          [
           "Mean angle velocity during swing - rhindlimb - ankle (rad/s)_sin",
           0.00043877457765363414
          ],
          [
           "Mean angle acceleration during swing - rhindlimb - ankle (rad/s^2)_cos",
           0.0004324459815256874
          ],
          [
           "Mean step acceleration Y during stance - hip (m/s^2)",
           0.00042107188956912346
          ],
          [
           "Mean angle velocity during swing - rhindlimb - lHindpaw (rad/s)_cos",
           0.00039797139348374456
          ],
          [
           "Mean phase value - rhindlimb - ankle (°)_cos",
           0.0003973914938642803
          ],
          [
           "Mean angle acceleration - rhindlimb - ankle (rad/s^2)_cos",
           0.00039412780745786926
          ],
          [
           "Mean angle acceleration during stance - rhindlimb - hip (rad/s^2)_cos",
           0.0003777665605372195
          ],
          [
           "Mean angle velocity during stance - rhindlimb - ankle (rad/s)_cos",
           0.00034710852608679186
          ],
          [
           "Mean phase acceleration - rhindlimb - knee (rad/s^2)_cos",
           0.00034634618642866643
          ],
          [
           "Mean angle acceleration - rhindlimb - knee (rad/s^2)_cos",
           0.0003280189751286518
          ],
          [
           "Mean phase during swing - rhindlimb - ankle (°)_cos",
           0.00030943055504079617
          ],
          [
           "Mean angle acceleration during swing - rhindlimb - lHindpaw (rad/s^2)_cos",
           0.0003053608765070939
          ],
          [
           "Mean phase acceleration - rhindlimb - ankle (rad/s^2)_cos",
           0.0003016144103341661
          ],
          [
           "Mean angle acceleration - rhindlimb - hip (rad/s^2)_sin",
           0.000295408192606462
          ],
          [
           "Mean angle acceleration during swing - rhindlimb - ankle (rad/s^2)_sin",
           0.0002828189549097576
          ],
          [
           "Mean angle acceleration - rhindlimb - lHindfingers (rad/s^2)_sin",
           0.00027126913040864247
          ],
          [
           "Mean step jerk Y during swing - lHindpaw (m/s^3)",
           0.00026443320290008395
          ],
          [
           "Mean phase during swing - rhindlimb - hip (°)_sin",
           0.00025829515907865153
          ],
          [
           "Mean phase acceleration during stance - rhindlimb - knee (rad/s^2)_cos",
           0.00024957515235494884
          ],
          [
           "Mean angle velocity during stance - rhindlimb - knee (rad/s)_cos",
           0.00024544166350640737
          ],
          [
           "Mean angle acceleration during stance - rhindlimb - lHindfingers (rad/s^2)_cos",
           0.000226506165701615
          ],
          [
           "Mean angle velocity during stance - rhindlimb - lHindpaw (rad/s)_sin",
           0.00021602904277689033
          ],
          [
           "Mean phase acceleration during stance - rhindlimb - hip (rad/s^2)_cos",
           0.00020636570033924538
          ],
          [
           "Mean phase velocity during swing - rhindlimb - ankle (rad/s)_cos",
           0.00020170168240242896
          ],
          [
           "Mean phase velocity during stance - rhindlimb - lHindpaw (rad/s)_cos",
           0.00019753881935912285
          ],
          [
           "Mean phase velocity during swing - rhindlimb - hip (rad/s)_sin",
           0.00019700259739510717
          ],
          [
           "Mean step acceleration X during swing - lHindfingers (m/s^2)",
           0.0001925850162022601
          ],
          [
           "Mean angle velocity during swing - rhindlimb - hip (rad/s)_sin",
           0.0001903717174127716
          ],
          [
           "Mean step velocity X during swing - lHindpaw (m/s)",
           0.00017697528387365422
          ],
          [
           "Mean step velocity X during stance - hip (m/s)",
           0.00016195870627651337
          ],
          [
           "Mean phase acceleration - rhindlimb - hip (rad/s^2)_sin",
           0.00015678294377187332
          ],
          [
           "Mean step acceleration X during swing - knee (m/s^2)",
           0.00015152884926094212
          ],
          [
           "Mean step jerk X during swing - knee (m/s^3)",
           0.0001451057128515155
          ],
          [
           "Mean step velocity Y during swing - knee (m/s)",
           0.00013995018559767182
          ],
          [
           "Mean angle acceleration - rhindlimb - ankle (rad/s^2)_sin",
           0.00013062380155855305
          ],
          [
           "Mean angle velocity during stance - rhindlimb - lHindfingers (rad/s)_sin",
           0.0001227512366738435
          ],
          [
           "Mean step jerk X during swing - hip (m/s^3)",
           0.00012011056840928772
          ],
          [
           "Mean phase value - rhindlimb - hip (°)_cos",
           0.00011699446172418948
          ],
          [
           "Mean phase acceleration - rhindlimb - lHindpaw (rad/s^2)_sin",
           0.00011495352828235919
          ],
          [
           "Mean phase velocity - rhindlimb - knee (rad/s)_cos",
           0.00010735714002495488
          ],
          [
           "Mean angle velocity during stance - rhindlimb - hip (rad/s)_sin",
           0.00009666936905932731
          ],
          [
           "Mean phase acceleration during stance - rhindlimb - ankle (rad/s^2)_sin",
           0.0000782230350071134
          ],
          [
           "Mean step velocity X during swing - ankle (m/s)",
           0.00007205983339029156
          ],
          [
           "Mean angle acceleration - rhindlimb - hip (rad/s^2)_cos",
           0.00006416832336862471
          ],
          [
           "Mean phase velocity during stance - rhindlimb - hip (rad/s)_sin",
           0.00006337387310220595
          ],
          [
           "Mean angle acceleration during stance - rhindlimb - lHindpaw (rad/s^2)_sin",
           0.00005954719791438086
          ],
          [
           "Mean angle velocity during stance - rhindlimb - lHindfingers (rad/s)_cos",
           0.00005686192370340088
          ],
          [
           "Mean angle velocity during stance - rhindlimb - ankle (rad/s)_sin",
           0.00005124725688966642
          ],
          [
           "Mean phase velocity during stance - rhindlimb - lHindpaw (rad/s)_sin",
           0.00004888594109752466
          ],
          [
           "Mean angle velocity during swing - rhindlimb - lHindpaw (rad/s)_sin",
           0.00004518999666036591
          ],
          [
           "Mean step jerk X during swing - lHindfingers (m/s^3)",
           0.00004480018481956254
          ],
          [
           "Mean step acceleration X during swing - hip (m/s^2)",
           0.000043918412884657415
          ],
          [
           "Mean angle velocity - rhindlimb - lHindfingers (rad/s)_cos",
           0.00004023566912862935
          ],
          [
           "Mean angle value - rhindlimb - knee (°)_sin",
           0.0000379064016164877
          ],
          [
           "Mean step velocity Y during swing - lHindfingers (m/s)",
           0.00003192658579470433
          ],
          [
           "Mean step velocity Y during swing - ankle (m/s)",
           0.000031741670371374114
          ],
          [
           "Mean angle velocity during stance - rhindlimb - knee (rad/s)_sin",
           0.000020743995092124665
          ],
          [
           "Mean phase acceleration during swing - rhindlimb - lHindpaw (rad/s^2)_sin",
           0.00002038622225082477
          ],
          [
           "Mean step velocity Y during stance - lHindfingers (m/s)",
           0.000017084324988270342
          ],
          [
           "Mean step jerk X during swing - lHindpaw (m/s^3)",
           0.000015577816914768443
          ],
          [
           "Mean phase velocity during swing - rhindlimb - knee (rad/s)_cos",
           0
          ],
          [
           "Mean angle acceleration during swing - rhindlimb - knee (rad/s^2)_sin",
           0
          ]
         ],
         "hovertemplate": "direction=away_from_healthy<br>importance=%{x}<br>change_effect_size=%{y}<br>combined_rank=%{customdata[1]}<br>feature=%{customdata[0]}<extra></extra>",
         "legendgroup": "away_from_healthy",
         "marker": {
          "color": "red",
          "size": {
           "bdata": "MBFfs+Anqj+7xwH6iTyYP1FHXlKqmHs/3lFBdGM8eT+MlsGhHAN4P+H9BUGXjHY/girjUPJWdj+Lutwucq10Pwv0MCtfAHI/6Xhq32z4cT8aR9zqrMhxPw6dTZnpC28/hfaT+NtybD8bi4pyDMprP5XrODKIbWk/fotJGDCkaD9gb/5iCkxnP1h+vI7cymU/7CvG2P+cZT+nLxxqAnplP9GPA1btIGU/+0KVGs+wYz8c7ix8l5djPzVBoEh2NGI/qOfa7i/JYT+d03Pt719gP2nEIqmqWGA/XySf5bAyYD/lDVghbPddP4t7RU/yFVw/JfjYB6TDVz8Sh8B+ZW9UP34HZv41ElQ/bPvw+vo7Uj84mX2GXJhRP0hEELcpulA/SEfaxOOrUD8gfJ5KBnpQP7LNAuZYIlA/mLrnXly2Tz8z/G3Kj9ZNP9gMqgjtdk0/rY1O6MxeSj9OBFwHeVxKPxjk57j7akk/EQfrefcZST+HKXJhwb1IP4NqqpyBBkg/RW716nHtRz+ldHvIueZHP+pndXzhpUc/GAkGiFwkRj9RAXMNJLFFP0aj4ff6rUU/TN78ta+CRT+oNWc+XRpFPyb0ExZdCEU/xN2uJr8BRT+lj3wZn6ZEP6y+rQa/QkQ/D9BdRycuRD+Z3WblimJDP2ygXn/fDEM/D+FIlZOcQj+x7oaLjzJCP41P3b4H70E/FGG6r85dQT+MrK90lPtAP79Cva7810A/Gwi2IJZaQD8ShEdOctw/P7tD81oWmj4/KVUAUF/cPT8uK9DZ60s9P8lGcR7UBT0/20gadmrBPD9EjxJZPVc8Px/7tf5pmDs/JVioHtoUOj8Kdkh4Hws6P8U5IQte1Dk/SkflBd/BOD+RWYjEg782P1rVNou5sjY/kv1IxT5/NT9orEEdYkc0PwUuY/oaAzQ/W2hEB0DEMz93CraGIFwzP1yOeinqiDI/sRckCyTHMT9H01v1c1QxP30jzkJ57TA/66oEHi1bMD9qSvfq0xUwPzhd5yVJsC0/qubwWLtQLD8QvDHeewwrP5lySUL8byo/gh6liU3kKT/8cxNtT9IpP3e0TLEUPik/REHKmdDzKD+pZeUcTjInPwaKirFuOiU/3KFtO8OMJD+wbmnndtwjP0vtEpXwBCM/aYO/8PJXIj8mGlvpAR8hP9ryFxjZFiA/6NRW2nt8Hz8tXjSMXaseP9NWAJRmIh4/vPwgn50kHD+OblIdX1cZP9B0M4J1gRQ/ajnVgtrjEj9g+7ZmQ9IQP6sHftnynBA/1xQRJEo4Dz9XGlHS4M8NP+gHvFZK3go/6jtfJVyhCT+6P0x2TLEHP2/BFaH6fAc/+wUfLaEGBz9PWXcQVxgFPzV8wQq23wM/DR+IIh29AD+cUUR9S6QAP2sR93xswPU+ek6UhmJg9T7/DKPfCerxPtOYVG2jVfA+AAAAAAAAAAAAAAAAAAAAAA==",
           "dtype": "f8"
          },
          "sizemode": "area",
          "sizeref": 0.00012771373247126932,
          "symbol": "circle"
         },
         "mode": "markers",
         "name": "away_from_healthy",
         "orientation": "v",
         "showlegend": true,
         "type": "scatter",
         "x": {
          "bdata": "45giExM3rT+tm07jEdOdP8yxQKxHrHs/tkdcWfRNeD9Cj2yfj86DP211wIJAO4E/+E4E4YxIez8Ai64hTNeTP72bJ8cBlnE/FJ/1iNiEdD+bMqq8dOx7P3XB+OxlgHo/ONmawTtafT9n6Bj+sZN8P7rCeSDg5W4/arI7iUM6Zz8p0N3K0choP6/1EZ7/C3E/hcxcCpGTaT/SmW6y5mZrPwsdvVdGB2g/h1/bI1EqbD9v1h8Oswx3P9rliCj/5oE//5U8UNKlaj8ZITLfTfZmPyrr7CEcE4A/dqJDWiYSYz+tt8Ppi9psP5Vn3G7DWnA/C2V0fxTXfz/5asalH6hdP3daepRTOW0/4uLcqIzFUz/oV8V2aQxbPwNmXcrC2Xg/iUfr7COOTz/spiDT0RhfP0yTJ0irYGM/Gn/pzGIEZz90N/2Lgd9mP9UjndlZrGQ/oJr5TBYSdj9GMfeKMNFbPxKmWLs33Ew/5zBMQ3hCWz+n0HHvEE9iP0qNU0YWiFo/narHZnH4VD+DgrQRdwdSPxulqidCg3w/uw4VgXCEYj9LMF6uJTJUP2B5Yms3U2c/Q+EKscMAYT+6oXxCBaBaP1Jp3pMUzl8/rQNVJqlbXD+qBxUIxB9aP83/QpFvIlk/8WNRnU+gUD9Wb1tlMdtkP71UscstLF4/sS0O8/4DWj8oVmUtGvJUP3QF8PFlRFg/Gj5/ZvJGWT/czXkKWwVfP2ChBsMLy1o/duVwmDceVz+vci/0phNYP8aJK3bz9FQ/JsA4u1bUVj/kt/qCC65VP1o9SPPRU04/IoxCU8/jcj/1nOjXQu9aP933G9zjVHE/i1BwWRBYVj/m/6LoQ1JDP7per0sy51s/fl75y+UyVT84IOlpXP5gP21MP463EVc/IpRx6GOBXD/xmj8JDhdMP7exX9hLtlQ/1HX8c25Sbj8MGGNXJG5aP0SCiKhfq1E/9/WteZmLbT/P30Ap31dIP8ck/f0f7kc/aMQ1ARAOSz8qLhBQ2ttMP0NDHtyGQ2I/e/FWZhYVYD9nFH6OMSlHP0hvApc/z1c/0MCcwSXhbT9dRrX1B1NCP1OxjqsPYlE/lClD6yK1QT8wTBQTUGRSPxGFuVGmzEM/gXYSRIvLYz/BPmM6VcJdP/cuEeEUM2A/y7N0eSgeYD86g6A+Jr9RP9yF+/Ei9EU/ii4mVdnuez9IkVIgIWYzP7RLxbopnlg/TTzc47kdUj9LRZl+QJZPP3cyfeXXKF4/VagMbXMsZT8624K1MjM0P0Dx/dYhtUQ/4K1/8ChLNT8d7NrA1pZQP0VwWkilJUA/GbPUWUk0Tj82OjSUCohkPz7u53+4nEI/LXRSJvemOj/HNDE654soPzFIUyfDOmM/uZHvkyV3KT9Onx8gr1QdP2UrfFW3oSQ/XnIL6AZTUz8A1gXGvnM/P39B2Cbmg0A/AAAAAAAAAAAAAAAAAAAAAA==",
          "dtype": "f8"
         },
         "xaxis": "x",
         "y": {
          "bdata": "Oy72lCWm7L9zwW7zHgHqv8cCrX5R6e+/vwBf5vac8L+sxr5Oo2Xjv/MkzNgM8OS/cJFAFZsz6r8Jx2oXsazQv+/Ubr/FYPC/JVTC5IYG7L+F3+9sSGHkv0Qhpz91vuK/YbfWpMED379Iv2ECMx7fv7WC1r61Veq/FtyxaE758L/QTkw2XRTuv/hes75BdOS/x3HvVp8K678U8nT9khTpv0mTvqhfI+y/haOCMB1f5r+6PjU2MjPbvwMabdY7RdC/RP9Zj7Rb5b8mYC1e4dHmv4W1a9Y7RdC/K+NJ+O8t67+4eopG+J3gv73SjAAUetu/7kn4hi7ix79Ozeamvgzmv3MdbA1O+tW/mXu6gwSD7b8KgAXm7tDkv7zdslgdisW/aJ+qcgvo8L8k8a3Zg/Tgvw73VJPQpNq/jV/yBVoL1r9ZijISRd/Uv9pjynnTzda/yROoxfQdw7+E9drkPFPev6V2HdnkLuy/UYVNLmt33b/gh1k+CJ/Vv6YD1vcu+ty/5TFMSZNB4r+VfzMGEjblv7fVvTROirq/gZkKisYh079m125ObC/hvzuf2ZQZvs2/a7JlfNo91L/3QZt59lzZvye2oSBgKdW/rigTimW017/htMOstEvZv4O3yxyBy9m/cxE06JJr478zn9mUGb7NvzSSvak+NNS/5FN6ZpPk1r94gol4KM3bv0vM1EX6pde/qGtX6T381b+4wF8/zITRv/pU3zj1HdS/zchuXBOj1r9eCeEuSyzVv1RmhP8eXde/FBbrT43t1L/ch1k+CJ/Vv08RcK+Wn96/Uz+EbjlbuL+wkNml1tXQvxaLkiemebm/wncdCiKt0r8PzsWbCpHlvyf/G0w7n82/eRzzxJCv0r/W7iUeBWvFv4K4r747fM+/KIC7techyL8pxsXq/BnXv7HgUdUm686/ai+2DkjctL9xGbaLjXDHvxVH+AycyNC/ZqEhdEJBs785aVDz3MfWvxiSbPXSota/3ITb2oBY079etwW6CtbRvyyWJvA8Arq/MRLJrZorvL8/1ffEkK/Sv9M1DxgUxMG/vzFuAbW6q7+za4JO1IvWv/0spdXvO8e/uW2CTtSL1r8GBIteCC7Ev6oLvTuXJ9G/i+LhySycsL90sN08VFu1vyyjwXz3yLK/jyDXU6A1sr+fnKtHPd++v51bf7iyc8e/iOX9vAkJkr81tcOstEvZv9rrOxDdlbO/nt01DQ7buL97FZzRNay5v7wYNEzNwaW/MNUkgH2MnL9AUv1FzqXKv6kPnNE1rLm/1hmSdGd1x792M3NNz8Csv9ZuzB+mn7q/Gbp+GnUnq7885mgwpnaSv8Rk4TsRMbS/DTBCh2Slu79Dy3n2JIDLv6HlMwQ/iZC/P8lgTbMIxb85pe4L/yfSv9sw2uVX3sC/tFbDTPuykb/jO75w7Dmiv1HRA3ldpp+/f3rY/qx/xb+euhc8qAjavw==",
          "dtype": "f8"
         },
         "yaxis": "y"
        },
        {
         "customdata": [
          [
           "Mean angle during swing - rhindlimb - lHindpaw (°)_sin",
           0.026429435177169093
          ],
          [
           "Mean angle value - rhindlimb - lHindpaw (°)_cos",
           0.024692234132240285
          ],
          [
           "Mean angle during swing - rhindlimb - lHindpaw (°)_cos",
           0.022306747842588615
          ],
          [
           "Mean angle value - rhindlimb - lHindpaw (°)_sin",
           0.020284735547318043
          ],
          [
           "Mean angle during stance - rhindlimb - lHindpaw (°)_sin",
           0.01815139420193276
          ],
          [
           "Mean angle velocity - rhindlimb - knee (rad/s)_cos",
           0.0157797110362799
          ],
          [
           "Mean angle during stance - rhindlimb - lHindpaw (°)_cos",
           0.014713862990612041
          ],
          [
           "Mean step acceleration X during stance - ankle (m/s^2)",
           0.01325996227374808
          ],
          [
           "Mean step acceleration Y during stance - knee (m/s^2)",
           0.01308827372419643
          ],
          [
           "Mean angle velocity - rhindlimb - knee (rad/s)_sin",
           0.012683548675828844
          ],
          [
           "Mean step velocity Y during stance - lHindpaw (m/s)",
           0.009905855329793437
          ],
          [
           "Mean step acceleration X during stance - lHindpaw (m/s^2)",
           0.00844126400288544
          ],
          [
           "Mean step acceleration Y during swing - ankle (m/s^2)",
           0.006260126878672716
          ],
          [
           "Mean step acceleration Y during stance - ankle (m/s^2)",
           0.0053974143458918825
          ],
          [
           "Mean step height (m)",
           0.005065211672637361
          ],
          [
           "Mean step jerk Y during stance - lHindfingers (m/s^3)",
           0.004975049283060925
          ],
          [
           "Mean step frequency (Hz)",
           0.004047756641022031
          ],
          [
           "Mean step acceleration Y during stance - lHindpaw (m/s^2)",
           0.0038738587359086634
          ],
          [
           "Mean step acceleration Y during swing - lHindpaw (m/s^2)",
           0.003233390736126394
          ],
          [
           "Mean step velocity X during swing - hip (m/s)",
           0.002713817979071879
          ],
          [
           "Mean step velocity Y during stance - knee (m/s)",
           0.0026237647997079797
          ],
          [
           "Mean step velocity Y during stance - ankle (m/s)",
           0.0026135100095754666
          ],
          [
           "Mean step acceleration X during stance - knee (m/s^2)",
           0.002473955088215425
          ],
          [
           "Mean angle velocity during swing - rhindlimb - lHindfingers (rad/s)_sin",
           0.002299900407910339
          ],
          [
           "Mean angle velocity during swing - rhindlimb - knee (rad/s)_cos",
           0.002206425185972227
          ],
          [
           "Mean angle velocity - rhindlimb - hip (rad/s)_sin",
           0.0021666137798078467
          ],
          [
           "Mean phase velocity - rhindlimb - hip (rad/s)_cos",
           0.0018382843506303715
          ],
          [
           "Mean angle velocity - rhindlimb - hip (rad/s)_cos",
           0.0018153159142333122
          ],
          [
           "Mean phase velocity - rhindlimb - hip (rad/s)_sin",
           0.0017524583667625133
          ],
          [
           "Mean step duration (s)",
           0.0016151160066868438
          ],
          [
           "Mean phase velocity during swing - rhindlimb - lHindpaw (rad/s)_sin",
           0.0014211290941094946
          ],
          [
           "Mean angle during stance - rhindlimb - knee (°)_cos",
           0.001404284799050576
          ],
          [
           "Mean step acceleration X during stance - lHindfingers (m/s^2)",
           0.0012649142777665587
          ],
          [
           "Mean phase velocity during stance - rhindlimb - knee (rad/s)_sin",
           0.001169007321224438
          ],
          [
           "Mean step jerk Y during swing - lHindfingers (m/s^3)",
           0.0011615677111491923
          ],
          [
           "Mean phase acceleration during swing - rhindlimb - hip (rad/s^2)_sin",
           0.0010140244287358308
          ],
          [
           "Mean angle acceleration during swing - rhindlimb - hip (rad/s^2)_sin",
           0.001010893854405365
          ],
          [
           "Mean angle during stance - rhindlimb - knee (°)_sin",
           0.0009148801696665832
          ],
          [
           "Mean phase during stance - rhindlimb - hip (°)_cos",
           0.0009126866563395729
          ],
          [
           "Mean phase acceleration - rhindlimb - hip (rad/s^2)_cos",
           0.0009022474620959059
          ],
          [
           "Mean angle acceleration during swing - rhindlimb - lHindpaw (rad/s^2)_sin",
           0.0008161681141794181
          ],
          [
           "Mean phase acceleration during swing - rhindlimb - knee (rad/s^2)_sin",
           0.0008072570821792272
          ],
          [
           "Mean step jerk X during stance - hip (m/s^3)",
           0.0007848084875930444
          ],
          [
           "Mean angle velocity during swing - rhindlimb - knee (rad/s)_sin",
           0.0007662341445319718
          ],
          [
           "Mean phase acceleration during stance - rhindlimb - lHindpaw (rad/s^2)_sin",
           0.000766037384117242
          ],
          [
           "Mean angle during stance - rhindlimb - hip (°)_sin",
           0.0007467140601197541
          ],
          [
           "Mean angle acceleration during stance - rhindlimb - knee (rad/s^2)_sin",
           0.0007236331720811022
          ],
          [
           "Mean phase during stance - rhindlimb - hip (°)_sin",
           0.0006885383788212165
          ],
          [
           "Mean step acceleration Y during swing - lHindfingers (m/s^2)",
           0.0006595171226245897
          ],
          [
           "Mean angle acceleration during swing - rhindlimb - lHindfingers (rad/s^2)_sin",
           0.0006157878486612608
          ],
          [
           "Mean phase acceleration during stance - rhindlimb - knee (rad/s^2)_sin",
           0.0005882626309640107
          ],
          [
           "Mean angle during stance - rhindlimb - hip (°)_cos",
           0.000552513610646069
          ],
          [
           "Mean phase velocity during stance - rhindlimb - hip (rad/s)_cos",
           0.0005263671786525983
          ],
          [
           "Mean step velocity Y during stance - hip (m/s)",
           0.0005226478304394208
          ],
          [
           "Mean angle acceleration during stance - rhindlimb - lHindpaw (rad/s^2)_cos",
           0.0004984438506301816
          ],
          [
           "Mean step acceleration Y during swing - knee (m/s^2)",
           0.00047523654534574645
          ],
          [
           "Mean phase during stance - rhindlimb - knee (°)_cos",
           0.0004361530210284589
          ],
          [
           "Mean step jerk Y during stance - lHindpaw (m/s^3)",
           0.00042337572936024075
          ],
          [
           "Mean step velocity X during swing - knee (m/s)",
           0.0003592306821194391
          ],
          [
           "Mean phase during stance - rhindlimb - knee (°)_sin",
           0.0003544823122922468
          ],
          [
           "Mean step jerk X during stance - knee (m/s^3)",
           0.00033441547303638444
          ],
          [
           "Mean phase value - rhindlimb - knee (°)_cos",
           0.00032496751838820856
          ],
          [
           "Mean phase velocity - rhindlimb - ankle (rad/s)_sin",
           0.0003073659784627827
          ],
          [
           "Mean step jerk X during stance - ankle (m/s^3)",
           0.0003029935812060259
          ],
          [
           "Mean angle velocity during stance - rhindlimb - hip (rad/s)_cos",
           0.00027348498720247363
          ],
          [
           "Mean step jerk Y during stance - hip (m/s^3)",
           0.0002730220074199687
          ],
          [
           "Mean angle velocity - rhindlimb - lHindpaw (rad/s)_cos",
           0.0002389055683749974
          ],
          [
           "Mean step acceleration Y during stance - lHindfingers (m/s^2)",
           0.00023227826417939772
          ],
          [
           "Mean angle acceleration during swing - rhindlimb - lHindfingers (rad/s^2)_cos",
           0.00021663702091726406
          ],
          [
           "Mean phase value - rhindlimb - knee (°)_sin",
           0.00020827669542947849
          ],
          [
           "Mean angle velocity during swing - rhindlimb - hip (rad/s)_cos",
           0.0001687136975321893
          ],
          [
           "Mean angle velocity during stance - rhindlimb - lHindpaw (rad/s)_cos",
           0.00015939694588998284
          ],
          [
           "Mean angle acceleration - rhindlimb - lHindpaw (rad/s^2)_sin",
           0.00015888485244473994
          ],
          [
           "Mean phase velocity - rhindlimb - lHindpaw (rad/s)_sin",
           0.00015410648602954175
          ],
          [
           "Mean angle velocity during swing - rhindlimb - lHindfingers (rad/s)_cos",
           0.00013961172959632974
          ],
          [
           "Mean step acceleration X during swing - lHindpaw (m/s^2)",
           0.0001393192611357564
          ],
          [
           "Mean angle velocity - rhindlimb - lHindfingers (rad/s)_sin",
           0.00011981248689431071
          ],
          [
           "Mean angle velocity - rhindlimb - lHindpaw (rad/s)_sin",
           0.00011462419114588546
          ],
          [
           "Mean phase velocity - rhindlimb - ankle (rad/s)_cos",
           0.00011296448719942742
          ],
          [
           "Mean angle acceleration during stance - rhindlimb - ankle (rad/s^2)_sin",
           0.00011187582628190803
          ],
          [
           "Mean step jerk X during swing - ankle (m/s^3)",
           0.00011087678095935144
          ],
          [
           "Mean phase acceleration during swing - rhindlimb - knee (rad/s^2)_cos",
           0.00010167582846089118
          ],
          [
           "Mean step acceleration X during stance - hip (m/s^2)",
           0.00010112223162743202
          ],
          [
           "Mean step acceleration X during swing - ankle (m/s^2)",
           0.00009285342618895327
          ],
          [
           "Mean phase velocity - rhindlimb - knee (rad/s)_sin",
           0.00008347546605912593
          ],
          [
           "Mean step velocity Y during swing - hip (m/s)",
           0.00008228221212569504
          ],
          [
           "Mean phase acceleration - rhindlimb - lHindpaw (rad/s^2)_cos",
           0.00008001971508457369
          ],
          [
           "Mean angle velocity - rhindlimb - ankle (rad/s)_cos",
           0.0000664435857843427
          ],
          [
           "Mean phase velocity during swing - rhindlimb - hip (rad/s)_cos",
           0.00006348520748053657
          ],
          [
           "Mean step jerk X during stance - lHindpaw (m/s^3)",
           0.00006104303998001674
          ],
          [
           "Mean step jerk X during stance - lHindfingers (m/s^3)",
           0.000058617675295329575
          ],
          [
           "Mean angle acceleration during stance - rhindlimb - ankle (rad/s^2)_cos",
           0.00005042606702519423
          ],
          [
           "Mean angle velocity - rhindlimb - ankle (rad/s)_sin",
           0.000018752956227505678
          ],
          [
           "Mean phase acceleration - rhindlimb - ankle (rad/s^2)_sin",
           0.000016472170873925423
          ],
          [
           "Mean phase acceleration during stance - rhindlimb - hip (rad/s^2)_sin",
           0.000014453947135902382
          ],
          [
           "Mean angle acceleration during stance - rhindlimb - hip (rad/s^2)_sin",
           0.000011057573259610017
          ],
          [
           "Mean phase acceleration during stance - rhindlimb - lHindpaw (rad/s^2)_cos",
           0.000010057139666213357
          ],
          [
           "Mean angle acceleration - rhindlimb - knee (rad/s^2)_sin",
           0.0000034080111626079963
          ]
         ],
         "hovertemplate": "direction=towards_healthy<br>importance=%{x}<br>change_effect_size=%{y}<br>combined_rank=%{customdata[1]}<br>feature=%{customdata[0]}<extra></extra>",
         "legendgroup": "towards_healthy",
         "marker": {
          "color": "green",
          "size": {
           "bdata": "2mXzXlEQmz+ZqUDI60iZP20s24GU15Y/powij4XFlD/Xe+VxR5aSPxFXXXuOKJA/dnK9Qk0ijj9Y234CCiiLPwwn2lwGzoo/KksUFtX5iT/iZXFlhUmEP21lokanSYE/eEJnAzikeT/aupNhmRt2P05is2dCv3Q/Cb93n7dgdD9FYVNmYZRwP2XIjxISvG8/FXTwbul8aj/vBvXuSTtmP12BOgBvfmU/RMqagO1oZT+p1EKGQkRkP4IsJ6E912I/zGp5gDUTYj/NjHnqt79hP9JPq8pSHl4/gVPynvy9XT/at9zXV7ZcP/nLY5tJdlo/kNPivqVIVz/n+FBS/wFXP2DUIl1vuVQ/Cw+pDSwnUz9p5DbV9wdTPxKdj3AgnVA/gWzXAv+PUD+k+Eg0kvpNP2WnlKsr6E0/yFjaq5mQTT/dUOGtg75KP370OmLDc0o/5snXZHO3ST/phcFLoxtJPz/yksH8GUk/FN3cO+R3SD8OS3lnRrZHPyGM1+jgj0Y/g4SFPG6cRT8RUexVmi1EPw0sd2G0RkM/HHa08dEaQj81P7TofD9BP8pnZqtJIEE/nNnHBEBVQD8hP41rJSU/P4pEHPZulTw/4IdZ6RC/Oz97UgsI5Io3P7bMNPA5Ozc/bZkchY/qNT9qCh7dDEw1P7J1TdO+JDQ/xHGthWPbMz/Dh3MTUewxP0EIzJeM5DE//8u8NFdQLz89k7AY93EuP6K0AtchZSw/C8XWMJtMKz+GSGegFx0mP+ZD4FZ55CQ/Th57fUrTJD+qQJyi9DIkP5hSIaCXTCI/0BAvV8dCIj824/jZemgfP0YQ9ZtMDB4/MVzOHOucHT/pvXQP3FMdP9EkqZfQEB0/lUOgblmnGj9BCwG2MoIaPzQpGLdJVxg/UJ1DlvHhFT8FIPej3ZEVP3pLvzwI+hQ/oOGkHPRqET+FOESPa6QQPzTkAnGHABA/fa+k/Ie7Dj9SNkx4EnAKPzBK1lb1qfM+LsuR9rZF8T7NkC5e50/uPgk090t9MOc+0FcqwGIX5T6H90/zpZbMPg==",
           "dtype": "f8"
          },
          "sizemode": "area",
          "sizeref": 0.00012771373247126932,
          "symbol": "circle"
         },
         "mode": "markers",
         "name": "towards_healthy",
         "orientation": "v",
         "showlegend": true,
         "type": "scatter",
         "x": {
          "bdata": "EpEwpwmNqz94KQejGhKgP9OBUchMs6c/xP9ilm+bnD+67LipcnGZP1aHGTehs5M/FGbSq/X3lD/QBwmAz82XP3vBW30KQYo/LI1RDUTGkz9Tm/PWVpeFPwRJ3hBcKpU/skJd7uGJij8m8v2u/HiEP17pU1LIlXY/5NNzw2GXez96Cd/Utp10PzmWczZEa3Q/qIyk8Y1RcT9blsJBAzZ8P9Y3r0Vp72w/CWTW/12JcT8gmOlWSYOQP9+AWVB1b4I/agM4vDfmdT8EQHRSCuZyP2mlXZUDInI/74HurQPocT/5FnY5d5JuP50a50uu0Gg/H+ireyPKbT87n0Gy4yhxP8UKZ1iHn4U/k70Q2XXxaj/k+6DvxO5wP2uX+EZ3Ymk/8CK6QmdOaT+GPKuEZQ1nP0Cgj6ZWzGw/vK706rY0Xz+UC8UtBIZqP3/OeUeXy2I//8tcawP/dz/L4EmaY09eP3CMmkTDGmI/CMD0lhHtZT8HEFogdwZ1P6K1MJFGN2Q/SLqWoFB7Xj8I046QQ3hvP3mCPnAK7lo/NS4e2HC2Xj+zNOz7MxJePz+woJxLzVM/vRf3KK3WVD9Zn8R3KwVgP6m4SGiXDXE/lUidnUsbbz+lU+FSo4tnP1wDguekBHU/BQ3DhzpUZj8RFbLgNGhiP7CCNJQUo10/CxoqDtgeUT/6fQ2vhT9PPyW+RQqsolg/HhAHk2/PaD97rRnSgpNRPwt1NgOU61I/nRB6Zs3fXz9IWyYaqK1KP2FjVgloy00/sM+e24c3Uj+Lf1o6vRpZP4YJMzzKYVQ/vE3hKw/qWD/3GBGha1dSPxfUSJXF8Uc/pUvFzsvmaD9J4OluEfI6P3m1ecM01mI/4ndqkqRdUj9bQR+atfdaP8KHS+K010M/wwZpJ+hwYD9wLqyS7C4+P+IdimM4kVM/3eTjKVNpTz/z8Xd72xM0P6lo7G9fEkU/mHNhOAdAWz/zFhN0fH5QP7iyIZf4glQ/Ff5Ss7cYOj9KSYv5XiVKP/YpjMeRAEQ/RunZ3tkRPD8Q8y8dang+Pw==",
          "dtype": "f8"
         },
         "xaxis": "x",
         "y": {
          "bdata": "jFeSxCNv3z/F/6zhbyzpP4jyazZW194/3Zdh4i485z8Nx2iqg2DnP194Fgq1Puo/iV367l3+5j/f241c3UDiP6Ew3XLrVfA/IRrPtokE5T874NKYQBHuP+Hox3khI9o/+74S2BLr3j/PB7uoKEfhP/kH4CtVZe0/pezPaESi5z/JIgmdErzpP4sjbljj3eg/+5XBZKN46D9FtRVQrzfZP7ZgJIw/xec/QdIalq2I4z/yZvblIKPDP2/ocooSWtA/gRexPnBp2j+B9Y/how3ePyqFDcRmk9o/D4MNxGaT2j+184/how3ePxcilJDWD+E/IVVt0e0C2T/IKjZf7XPVP28dME58q74/S09vrGq/1j+VPvnPm/vRP8Dql4GD8dQ/g/iZgYPx1D+Nn5drts7UP0G3msKxndA/nrgo/jFR3j933R7xFCLQP5nqI6OmhNY/mbFQDqwlwT8s6qDX/4HaP8hyoXQBL9Y/F5PmDeza0T/rX5Z+agvCPwyVarVZ29E/udz4mQCw1j/mOhG3ooTEPzqwn0LG59Y/qsobbhfd0j/q1vKIt1rSP8lJUHQGrds/TYovf8gU2T+IEEByGBvPP9LYoQmO0bo/T6L3pRCLvD+lMg8F/P6/P1NuMB5Pr7E/AAJS2pBovz/5ptp/GIPCP0si/tTkv8U/vdXZPLKO0j9d1vKIt1rSP2KWHuvdPcc/7awitq8xtD+4QOXkArfLP919lQ8vA8g/62jStS5ouz8KXJwwVobKP5WavYtgcMY/E4NRMn9Kwj8c3cfpSL+5Pzt81Fvfurw/quP9Bk10tz8tuyLpBma7PwmIh1YaFMQ/bah8XfgGoz99SIN3FmrRPx57j45BsKg/zOZABmY4tz+XmAJjj3SvP80GPqKSoMM/9M8r7KpLpT9M4qStON7GP6PJgXYIJ7E/pyi374C+sT/2WJwwVobKP7Qzr7IRTbg/Xwiu/XILoj/srI//VKWpPy4K4KxwrY4/lHk1uPktpT8h1sPUqYySPxAXsNSpjJI/paHis2ULmD8Avt18DAZ+Pw==",
          "dtype": "f8"
         },
         "yaxis": "y"
        }
       ],
       "layout": {
        "legend": {
         "itemsizing": "constant",
         "title": {
          "text": "direction"
         },
         "tracegroupgap": 0
        },
        "shapes": [
         {
          "line": {
           "color": "black",
           "dash": "dash"
          },
          "type": "line",
          "x0": 0,
          "x1": 1,
          "xref": "x domain",
          "y0": 0,
          "y1": 0,
          "yref": "y"
         }
        ],
        "template": {
         "data": {
          "bar": [
           {
            "error_x": {
             "color": "#2a3f5f"
            },
            "error_y": {
             "color": "#2a3f5f"
            },
            "marker": {
             "line": {
              "color": "#E5ECF6",
              "width": 0.5
             },
             "pattern": {
              "fillmode": "overlay",
              "size": 10,
              "solidity": 0.2
             }
            },
            "type": "bar"
           }
          ],
          "barpolar": [
           {
            "marker": {
             "line": {
              "color": "#E5ECF6",
              "width": 0.5
             },
             "pattern": {
              "fillmode": "overlay",
              "size": 10,
              "solidity": 0.2
             }
            },
            "type": "barpolar"
           }
          ],
          "carpet": [
           {
            "aaxis": {
             "endlinecolor": "#2a3f5f",
             "gridcolor": "white",
             "linecolor": "white",
             "minorgridcolor": "white",
             "startlinecolor": "#2a3f5f"
            },
            "baxis": {
             "endlinecolor": "#2a3f5f",
             "gridcolor": "white",
             "linecolor": "white",
             "minorgridcolor": "white",
             "startlinecolor": "#2a3f5f"
            },
            "type": "carpet"
           }
          ],
          "choropleth": [
           {
            "colorbar": {
             "outlinewidth": 0,
             "ticks": ""
            },
            "type": "choropleth"
           }
          ],
          "contour": [
           {
            "colorbar": {
             "outlinewidth": 0,
             "ticks": ""
            },
            "colorscale": [
             [
              0,
              "#0d0887"
             ],
             [
              0.1111111111111111,
              "#46039f"
             ],
             [
              0.2222222222222222,
              "#7201a8"
             ],
             [
              0.3333333333333333,
              "#9c179e"
             ],
             [
              0.4444444444444444,
              "#bd3786"
             ],
             [
              0.5555555555555556,
              "#d8576b"
             ],
             [
              0.6666666666666666,
              "#ed7953"
             ],
             [
              0.7777777777777778,
              "#fb9f3a"
             ],
             [
              0.8888888888888888,
              "#fdca26"
             ],
             [
              1,
              "#f0f921"
             ]
            ],
            "type": "contour"
           }
          ],
          "contourcarpet": [
           {
            "colorbar": {
             "outlinewidth": 0,
             "ticks": ""
            },
            "type": "contourcarpet"
           }
          ],
          "heatmap": [
           {
            "colorbar": {
             "outlinewidth": 0,
             "ticks": ""
            },
            "colorscale": [
             [
              0,
              "#0d0887"
             ],
             [
              0.1111111111111111,
              "#46039f"
             ],
             [
              0.2222222222222222,
              "#7201a8"
             ],
             [
              0.3333333333333333,
              "#9c179e"
             ],
             [
              0.4444444444444444,
              "#bd3786"
             ],
             [
              0.5555555555555556,
              "#d8576b"
             ],
             [
              0.6666666666666666,
              "#ed7953"
             ],
             [
              0.7777777777777778,
              "#fb9f3a"
             ],
             [
              0.8888888888888888,
              "#fdca26"
             ],
             [
              1,
              "#f0f921"
             ]
            ],
            "type": "heatmap"
           }
          ],
          "histogram": [
           {
            "marker": {
             "pattern": {
              "fillmode": "overlay",
              "size": 10,
              "solidity": 0.2
             }
            },
            "type": "histogram"
           }
          ],
          "histogram2d": [
           {
            "colorbar": {
             "outlinewidth": 0,
             "ticks": ""
            },
            "colorscale": [
             [
              0,
              "#0d0887"
             ],
             [
              0.1111111111111111,
              "#46039f"
             ],
             [
              0.2222222222222222,
              "#7201a8"
             ],
             [
              0.3333333333333333,
              "#9c179e"
             ],
             [
              0.4444444444444444,
              "#bd3786"
             ],
             [
              0.5555555555555556,
              "#d8576b"
             ],
             [
              0.6666666666666666,
              "#ed7953"
             ],
             [
              0.7777777777777778,
              "#fb9f3a"
             ],
             [
              0.8888888888888888,
              "#fdca26"
             ],
             [
              1,
              "#f0f921"
             ]
            ],
            "type": "histogram2d"
           }
          ],
          "histogram2dcontour": [
           {
            "colorbar": {
             "outlinewidth": 0,
             "ticks": ""
            },
            "colorscale": [
             [
              0,
              "#0d0887"
             ],
             [
              0.1111111111111111,
              "#46039f"
             ],
             [
              0.2222222222222222,
              "#7201a8"
             ],
             [
              0.3333333333333333,
              "#9c179e"
             ],
             [
              0.4444444444444444,
              "#bd3786"
             ],
             [
              0.5555555555555556,
              "#d8576b"
             ],
             [
              0.6666666666666666,
              "#ed7953"
             ],
             [
              0.7777777777777778,
              "#fb9f3a"
             ],
             [
              0.8888888888888888,
              "#fdca26"
             ],
             [
              1,
              "#f0f921"
             ]
            ],
            "type": "histogram2dcontour"
           }
          ],
          "mesh3d": [
           {
            "colorbar": {
             "outlinewidth": 0,
             "ticks": ""
            },
            "type": "mesh3d"
           }
          ],
          "parcoords": [
           {
            "line": {
             "colorbar": {
              "outlinewidth": 0,
              "ticks": ""
             }
            },
            "type": "parcoords"
           }
          ],
          "pie": [
           {
            "automargin": true,
            "type": "pie"
           }
          ],
          "scatter": [
           {
            "fillpattern": {
             "fillmode": "overlay",
             "size": 10,
             "solidity": 0.2
            },
            "type": "scatter"
           }
          ],
          "scatter3d": [
           {
            "line": {
             "colorbar": {
              "outlinewidth": 0,
              "ticks": ""
             }
            },
            "marker": {
             "colorbar": {
              "outlinewidth": 0,
              "ticks": ""
             }
            },
            "type": "scatter3d"
           }
          ],
          "scattercarpet": [
           {
            "marker": {
             "colorbar": {
              "outlinewidth": 0,
              "ticks": ""
             }
            },
            "type": "scattercarpet"
           }
          ],
          "scattergeo": [
           {
            "marker": {
             "colorbar": {
              "outlinewidth": 0,
              "ticks": ""
             }
            },
            "type": "scattergeo"
           }
          ],
          "scattergl": [
           {
            "marker": {
             "colorbar": {
              "outlinewidth": 0,
              "ticks": ""
             }
            },
            "type": "scattergl"
           }
          ],
          "scattermap": [
           {
            "marker": {
             "colorbar": {
              "outlinewidth": 0,
              "ticks": ""
             }
            },
            "type": "scattermap"
           }
          ],
          "scattermapbox": [
           {
            "marker": {
             "colorbar": {
              "outlinewidth": 0,
              "ticks": ""
             }
            },
            "type": "scattermapbox"
           }
          ],
          "scatterpolar": [
           {
            "marker": {
             "colorbar": {
              "outlinewidth": 0,
              "ticks": ""
             }
            },
            "type": "scatterpolar"
           }
          ],
          "scatterpolargl": [
           {
            "marker": {
             "colorbar": {
              "outlinewidth": 0,
              "ticks": ""
             }
            },
            "type": "scatterpolargl"
           }
          ],
          "scatterternary": [
           {
            "marker": {
             "colorbar": {
              "outlinewidth": 0,
              "ticks": ""
             }
            },
            "type": "scatterternary"
           }
          ],
          "surface": [
           {
            "colorbar": {
             "outlinewidth": 0,
             "ticks": ""
            },
            "colorscale": [
             [
              0,
              "#0d0887"
             ],
             [
              0.1111111111111111,
              "#46039f"
             ],
             [
              0.2222222222222222,
              "#7201a8"
             ],
             [
              0.3333333333333333,
              "#9c179e"
             ],
             [
              0.4444444444444444,
              "#bd3786"
             ],
             [
              0.5555555555555556,
              "#d8576b"
             ],
             [
              0.6666666666666666,
              "#ed7953"
             ],
             [
              0.7777777777777778,
              "#fb9f3a"
             ],
             [
              0.8888888888888888,
              "#fdca26"
             ],
             [
              1,
              "#f0f921"
             ]
            ],
            "type": "surface"
           }
          ],
          "table": [
           {
            "cells": {
             "fill": {
              "color": "#EBF0F8"
             },
             "line": {
              "color": "white"
             }
            },
            "header": {
             "fill": {
              "color": "#C8D4E3"
             },
             "line": {
              "color": "white"
             }
            },
            "type": "table"
           }
          ]
         },
         "layout": {
          "annotationdefaults": {
           "arrowcolor": "#2a3f5f",
           "arrowhead": 0,
           "arrowwidth": 1
          },
          "autotypenumbers": "strict",
          "coloraxis": {
           "colorbar": {
            "outlinewidth": 0,
            "ticks": ""
           }
          },
          "colorscale": {
           "diverging": [
            [
             0,
             "#8e0152"
            ],
            [
             0.1,
             "#c51b7d"
            ],
            [
             0.2,
             "#de77ae"
            ],
            [
             0.3,
             "#f1b6da"
            ],
            [
             0.4,
             "#fde0ef"
            ],
            [
             0.5,
             "#f7f7f7"
            ],
            [
             0.6,
             "#e6f5d0"
            ],
            [
             0.7,
             "#b8e186"
            ],
            [
             0.8,
             "#7fbc41"
            ],
            [
             0.9,
             "#4d9221"
            ],
            [
             1,
             "#276419"
            ]
           ],
           "sequential": [
            [
             0,
             "#0d0887"
            ],
            [
             0.1111111111111111,
             "#46039f"
            ],
            [
             0.2222222222222222,
             "#7201a8"
            ],
            [
             0.3333333333333333,
             "#9c179e"
            ],
            [
             0.4444444444444444,
             "#bd3786"
            ],
            [
             0.5555555555555556,
             "#d8576b"
            ],
            [
             0.6666666666666666,
             "#ed7953"
            ],
            [
             0.7777777777777778,
             "#fb9f3a"
            ],
            [
             0.8888888888888888,
             "#fdca26"
            ],
            [
             1,
             "#f0f921"
            ]
           ],
           "sequentialminus": [
            [
             0,
             "#0d0887"
            ],
            [
             0.1111111111111111,
             "#46039f"
            ],
            [
             0.2222222222222222,
             "#7201a8"
            ],
            [
             0.3333333333333333,
             "#9c179e"
            ],
            [
             0.4444444444444444,
             "#bd3786"
            ],
            [
             0.5555555555555556,
             "#d8576b"
            ],
            [
             0.6666666666666666,
             "#ed7953"
            ],
            [
             0.7777777777777778,
             "#fb9f3a"
            ],
            [
             0.8888888888888888,
             "#fdca26"
            ],
            [
             1,
             "#f0f921"
            ]
           ]
          },
          "colorway": [
           "#636efa",
           "#EF553B",
           "#00cc96",
           "#ab63fa",
           "#FFA15A",
           "#19d3f3",
           "#FF6692",
           "#B6E880",
           "#FF97FF",
           "#FECB52"
          ],
          "font": {
           "color": "#2a3f5f"
          },
          "geo": {
           "bgcolor": "white",
           "lakecolor": "white",
           "landcolor": "#E5ECF6",
           "showlakes": true,
           "showland": true,
           "subunitcolor": "white"
          },
          "hoverlabel": {
           "align": "left"
          },
          "hovermode": "closest",
          "mapbox": {
           "style": "light"
          },
          "paper_bgcolor": "white",
          "plot_bgcolor": "#E5ECF6",
          "polar": {
           "angularaxis": {
            "gridcolor": "white",
            "linecolor": "white",
            "ticks": ""
           },
           "bgcolor": "#E5ECF6",
           "radialaxis": {
            "gridcolor": "white",
            "linecolor": "white",
            "ticks": ""
           }
          },
          "scene": {
           "xaxis": {
            "backgroundcolor": "#E5ECF6",
            "gridcolor": "white",
            "gridwidth": 2,
            "linecolor": "white",
            "showbackground": true,
            "ticks": "",
            "zerolinecolor": "white"
           },
           "yaxis": {
            "backgroundcolor": "#E5ECF6",
            "gridcolor": "white",
            "gridwidth": 2,
            "linecolor": "white",
            "showbackground": true,
            "ticks": "",
            "zerolinecolor": "white"
           },
           "zaxis": {
            "backgroundcolor": "#E5ECF6",
            "gridcolor": "white",
            "gridwidth": 2,
            "linecolor": "white",
            "showbackground": true,
            "ticks": "",
            "zerolinecolor": "white"
           }
          },
          "shapedefaults": {
           "line": {
            "color": "#2a3f5f"
           }
          },
          "ternary": {
           "aaxis": {
            "gridcolor": "white",
            "linecolor": "white",
            "ticks": ""
           },
           "baxis": {
            "gridcolor": "white",
            "linecolor": "white",
            "ticks": ""
           },
           "bgcolor": "#E5ECF6",
           "caxis": {
            "gridcolor": "white",
            "linecolor": "white",
            "ticks": ""
           }
          },
          "title": {
           "x": 0.05
          },
          "xaxis": {
           "automargin": true,
           "gridcolor": "white",
           "linecolor": "white",
           "ticks": "",
           "title": {
            "standoff": 15
           },
           "zerolinecolor": "white",
           "zerolinewidth": 2
          },
          "yaxis": {
           "automargin": true,
           "gridcolor": "white",
           "linecolor": "white",
           "ticks": "",
           "title": {
            "standoff": 15
           },
           "zerolinecolor": "white",
           "zerolinewidth": 2
          }
         }
        },
        "title": {
         "text": "Feature Importance vs. Treatment Direction"
        },
        "xaxis": {
         "anchor": "y",
         "domain": [
          0,
          1
         ],
         "title": {
          "text": "importance"
         }
        },
        "yaxis": {
         "anchor": "x",
         "domain": [
          0,
          1
         ],
         "title": {
          "text": "change_effect_size"
         }
        }
       }
      }
     },
     "metadata": {},
     "output_type": "display_data"
    },
    {
     "name": "stdout",
     "output_type": "stream",
     "text": [
      "                                              feature  importance  \\\n",
      "0        Mean angle excursion - rhindlimb - ankle (°)    0.057061   \n",
      "1   Mean angle during swing - rhindlimb - lHindpaw...    0.053810   \n",
      "3     Mean angle value - rhindlimb - lHindpaw (°)_cos    0.031388   \n",
      "4        Mean phase excursion - rhindlimb - ankle (°)    0.029125   \n",
      "2   Mean angle during swing - rhindlimb - lHindpaw...    0.046290   \n",
      "5     Mean angle value - rhindlimb - lHindpaw (°)_sin    0.027937   \n",
      "6   Mean angle during stance - rhindlimb - lHindpa...    0.024847   \n",
      "12  Mean angle velocity - rhindlimb - knee (rad/s)...    0.019240   \n",
      "9   Mean angle during stance - rhindlimb - lHindpa...    0.020477   \n",
      "7   Mean step acceleration X during stance - ankle...    0.023246   \n",
      "15  Mean step acceleration Y during stance - knee ...    0.012819   \n",
      "11  Mean angle velocity - rhindlimb - knee (rad/s)...    0.019311   \n",
      "17  Mean step velocity Y during stance - lHindpaw ...    0.010543   \n",
      "8   Mean step acceleration X during stance - lHind...    0.020669   \n",
      "31    Mean phase value - rhindlimb - lHindpaw (°)_sin    0.006756   \n",
      "14  Mean step acceleration Y during swing - ankle ...    0.012958   \n",
      "36  Mean angle value - rhindlimb - lHindfingers (°...    0.005934   \n",
      "19  Mean step velocity X during stance - lHindpaw ...    0.009671   \n",
      "22  Mean phase during stance - rhindlimb - lHindpa...    0.008414   \n",
      "33    Mean phase value - rhindlimb - lHindpaw (°)_cos    0.006661   \n",
      "\n",
      "    change_score  change_effect_size  combined_rank          direction  \n",
      "0      -7.819830           -0.895282       0.051085  away_from_healthy  \n",
      "1       0.000372            0.491158       0.026429    towards_healthy  \n",
      "3       0.019220            0.786674       0.024692    towards_healthy  \n",
      "4      -6.268268           -0.812637       0.023668  away_from_healthy  \n",
      "2       0.000018            0.481893       0.022307    towards_healthy  \n",
      "5       0.030156            0.726097       0.020285    towards_healthy  \n",
      "6       0.000877            0.730532       0.018151    towards_healthy  \n",
      "12      0.002408            0.820155       0.015780    towards_healthy  \n",
      "9       0.000038            0.718551       0.014714    towards_healthy  \n",
      "7       0.270241            0.570418       0.013260    towards_healthy  \n",
      "15      0.389838            1.020976       0.013088    towards_healthy  \n",
      "11      0.025719            0.656804       0.012684    towards_healthy  \n",
      "17      0.005243            0.939606       0.009906    towards_healthy  \n",
      "8       0.231552            0.408394       0.008441    towards_healthy  \n",
      "31     -0.066725           -0.997231       0.006737  away_from_healthy  \n",
      "14      0.174798            0.483098       0.006260    towards_healthy  \n",
      "36     -0.064683           -1.038321       0.006161  away_from_healthy  \n",
      "19     -0.009269           -0.606157       0.005862  away_from_healthy  \n",
      "22     -0.000777           -0.654303       0.005505  away_from_healthy  \n",
      "33     -0.027100           -0.818800       0.005454  away_from_healthy  \n"
     ]
    }
   ],
   "source": [
    "### Test with no \"at\" features\n",
    "# 1. Train Healthy vs Sick model\n",
    "\n",
    "## remove features with ' at ' in the name\n",
    "_healthy_left_hindlimb_features_df = healthy_left_hindlimb_features_df.loc[\n",
    "    :, ~healthy_left_hindlimb_features_df.columns.str.contains(' at ')\n",
    "]\n",
    "_sick_left_hindlimb_features_df = sick_left_hindlimb_features_df.loc[\n",
    "    :, ~sick_left_hindlimb_features_df.columns.str.contains(' at ')\n",
    "]\n",
    "_treatment_left_hindlimb_features_df = treatment_left_hindlimb_features_df.loc[\n",
    "    :, ~treatment_left_hindlimb_features_df.columns.str.contains(' at ')\n",
    "]\n",
    "\n",
    "X = pd.concat([_healthy_left_hindlimb_features_df, _sick_left_hindlimb_features_df])\n",
    "y = [0] * len(_healthy_left_hindlimb_features_df) + [1] * len(_sick_left_hindlimb_features_df)  # 0=Healthy, 1=Sick\n",
    "\n",
    "rf = RandomForestClassifier(n_estimators=500, random_state=42)\n",
    "rf.fit(X, y)\n",
    "\n",
    "importances = pd.Series(rf.feature_importances_, index=X.columns).sort_values(ascending=False)\n",
    "\n",
    "# 2. For each top feature, check treatment direction\n",
    "rows = []\n",
    "for col in importances.index:\n",
    "    h = _healthy_left_hindlimb_features_df[col].dropna()\n",
    "    s = _sick_left_hindlimb_features_df[col].dropna()\n",
    "    t = _treatment_left_hindlimb_features_df[col].dropna()\n",
    "\n",
    "    if len(h) < 2 or len(s) < 2 or len(t) == 0:\n",
    "        continue  # skip if no variance or insufficient samples\n",
    "\n",
    "    d_sick = abs(s.mean() - h.mean())\n",
    "    d_treat = abs(t.mean() - h.mean())\n",
    "\n",
    "    # Pooled std for Healthy vs Sick\n",
    "    pooled_std = np.sqrt(((len(h)-1)*h.var() + (len(s)-1)*s.var()) / (len(h) + len(s) - 2))\n",
    "\n",
    "    if pooled_std == 0:\n",
    "        change_effect_size = np.nan\n",
    "    else:\n",
    "        change_effect_size = (d_sick - d_treat) / pooled_std\n",
    "\n",
    "    rows.append((col, importances[col], d_sick - d_treat, change_effect_size))\n",
    "\n",
    "res_df = pd.DataFrame(rows, columns=[\"feature\", \"importance\", \"change_score\", \"change_effect_size\"])\n",
    "\n",
    "# Step 3: Sort by combined score\n",
    "res_df[\"combined_rank\"] = res_df[\"importance\"] * res_df[\"change_effect_size\"].abs()\n",
    "res_df = res_df.sort_values(\"combined_rank\", ascending=False)\n",
    "\n",
    "# Optional: add a label for direction\n",
    "res_df[\"direction\"] = res_df[\"change_effect_size\"].apply(lambda x: \"towards_healthy\" if x > 0 else \"away_from_healthy\" if x < 0 else \"no_change\")\n",
    "\n",
    "# print(res_df.head(20))  # top 20 most important + largest shift\n",
    "print(\"Feature number after removing ' at ': \", res_df.shape[0])\n",
    "print(\"\\nDirection counts:\\n\", res_df[\"direction\"].value_counts())\n",
    "\n",
    "## export results to CSV\n",
    "res_df.to_csv(os.path.join('./', 'feature_change_analysis_no_at.csv'), index=False)\n",
    "\n",
    "fig = px.scatter(\n",
    "    res_df,\n",
    "    x=\"importance\",\n",
    "    y=\"change_effect_size\",\n",
    "    size=\"combined_rank\",\n",
    "    color=\"direction\",\n",
    "    hover_data=[\"feature\", \"importance\", \"change_effect_size\", \"combined_rank\"],\n",
    "    color_discrete_map={\n",
    "        \"towards_healthy\": \"green\",\n",
    "        \"away_from_healthy\": \"red\",\n",
    "        \"no_change\": \"gray\"\n",
    "    },\n",
    "    title=\"Feature Importance vs. Treatment Direction\"\n",
    ")\n",
    "\n",
    "fig.add_hline(y=0, line_dash=\"dash\", line_color=\"black\")\n",
    "fig.show()\n",
    "# fig.write_html(os.path.join('./', 'treatment_influence.html'))\n",
    "\n",
    "print(res_df.head(20))"
   ]
  },
  {
   "cell_type": "code",
   "execution_count": 158,
   "id": "bfe7d620",
   "metadata": {},
   "outputs": [
    {
     "name": "stdout",
     "output_type": "stream",
     "text": [
      "Elbow-selected feature count (by |change_effect_size|): 97\n",
      "After enforcing |change_effect_size| ≥ 0.20: 97 features kept\n",
      "                                              feature  importance  \\\n",
      "0        Mean angle excursion - rhindlimb - ankle (°)    0.057061   \n",
      "1   Mean angle during swing - rhindlimb - lHindpaw...    0.053810   \n",
      "3     Mean angle value - rhindlimb - lHindpaw (°)_cos    0.031388   \n",
      "4        Mean phase excursion - rhindlimb - ankle (°)    0.029125   \n",
      "2   Mean angle during swing - rhindlimb - lHindpaw...    0.046290   \n",
      "5     Mean angle value - rhindlimb - lHindpaw (°)_sin    0.027937   \n",
      "6   Mean angle during stance - rhindlimb - lHindpa...    0.024847   \n",
      "12  Mean angle velocity - rhindlimb - knee (rad/s)...    0.019240   \n",
      "9   Mean angle during stance - rhindlimb - lHindpa...    0.020477   \n",
      "7   Mean step acceleration X during stance - ankle...    0.023246   \n",
      "15  Mean step acceleration Y during stance - knee ...    0.012819   \n",
      "11  Mean angle velocity - rhindlimb - knee (rad/s)...    0.019311   \n",
      "17  Mean step velocity Y during stance - lHindpaw ...    0.010543   \n",
      "8   Mean step acceleration X during stance - lHind...    0.020669   \n",
      "31    Mean phase value - rhindlimb - lHindpaw (°)_sin    0.006756   \n",
      "14  Mean step acceleration Y during swing - ankle ...    0.012958   \n",
      "36  Mean angle value - rhindlimb - lHindfingers (°...    0.005934   \n",
      "19  Mean step velocity X during stance - lHindpaw ...    0.009671   \n",
      "22  Mean phase during stance - rhindlimb - lHindpa...    0.008414   \n",
      "33    Mean phase value - rhindlimb - lHindpaw (°)_cos    0.006661   \n",
      "\n",
      "    change_score  change_effect_size  combined_rank          direction  \n",
      "0      -7.819830           -0.895282       0.051085  away_from_healthy  \n",
      "1       0.000372            0.491158       0.026429    towards_healthy  \n",
      "3       0.019220            0.786674       0.024692    towards_healthy  \n",
      "4      -6.268268           -0.812637       0.023668  away_from_healthy  \n",
      "2       0.000018            0.481893       0.022307    towards_healthy  \n",
      "5       0.030156            0.726097       0.020285    towards_healthy  \n",
      "6       0.000877            0.730532       0.018151    towards_healthy  \n",
      "12      0.002408            0.820155       0.015780    towards_healthy  \n",
      "9       0.000038            0.718551       0.014714    towards_healthy  \n",
      "7       0.270241            0.570418       0.013260    towards_healthy  \n",
      "15      0.389838            1.020976       0.013088    towards_healthy  \n",
      "11      0.025719            0.656804       0.012684    towards_healthy  \n",
      "17      0.005243            0.939606       0.009906    towards_healthy  \n",
      "8       0.231552            0.408394       0.008441    towards_healthy  \n",
      "31     -0.066725           -0.997231       0.006737  away_from_healthy  \n",
      "14      0.174798            0.483098       0.006260    towards_healthy  \n",
      "36     -0.064683           -1.038321       0.006161  away_from_healthy  \n",
      "19     -0.009269           -0.606157       0.005862  away_from_healthy  \n",
      "22     -0.000777           -0.654303       0.005505  away_from_healthy  \n",
      "33     -0.027100           -0.818800       0.005454  away_from_healthy  \n",
      "\n",
      "Direction counts:\n",
      " direction\n",
      "away_from_healthy    137\n",
      "towards_healthy       98\n",
      "Name: count, dtype: int64\n",
      "Top 97 features selected for further analysis.\n",
      "(100, 97)\n"
     ]
    },
    {
     "data": {
      "application/vnd.plotly.v1+json": {
       "config": {
        "plotlyServerURL": "https://plot.ly"
       },
       "data": [
        {
         "customdata": [
          [
           "Mean angle excursion - rhindlimb - ankle (°)",
           0.05108549298850773
          ],
          [
           "Mean phase excursion - rhindlimb - ankle (°)",
           0.023668437847341055
          ],
          [
           "Mean phase value - rhindlimb - lHindpaw (°)_sin",
           0.006737389869060654
          ],
          [
           "Mean angle value - rhindlimb - lHindfingers (°)_sin",
           0.00616110657945909
          ],
          [
           "Mean step velocity X during stance - lHindpaw (m/s)",
           0.005862342684940135
          ],
          [
           "Mean phase during stance - rhindlimb - lHindpaw (°)_sin",
           0.005505171619347022
          ],
          [
           "Mean phase value - rhindlimb - lHindpaw (°)_cos",
           0.005454012438529278
          ],
          [
           "Mean angle during swing - rhindlimb - lHindfingers (°)_sin",
           0.004394885781093381
          ],
          [
           "Mean angle value - rhindlimb - ankle (°)_sin",
           0.00438730743795033
          ],
          [
           "Mean angle during swing - rhindlimb - ankle (°)_cos",
           0.004341769655882089
          ],
          [
           "Mean phase during stance - rhindlimb - lHindpaw (°)_cos",
           0.0037898600079874284
          ],
          [
           "Mean angle value - rhindlimb - knee (°)_cos",
           0.0034727379139656866
          ],
          [
           "Mean angle during stance - rhindlimb - ankle (°)_cos",
           0.0033922427285956297
          ],
          [
           "Mean step velocity X during stance - ankle (m/s)",
           0.0031039867479000873
          ],
          [
           "Mean angle during swing - rhindlimb - lHindfingers (°)_cos",
           0.00300797837762573
          ],
          [
           "Mean phase during swing - rhindlimb - lHindpaw (°)_sin",
           0.0028438761582502553
          ],
          [
           "Mean angle during swing - rhindlimb - ankle (°)_sin",
           0.0026602084889331516
          ],
          [
           "Mean angle value - rhindlimb - ankle (°)_cos",
           0.002638339710931961
          ],
          [
           "Mean phase during swing - rhindlimb - lHindpaw (°)_cos",
           0.002621655193143685
          ],
          [
           "Mean angle value - rhindlimb - lHindfingers (°)_cos",
           0.0025791774242964545
          ],
          [
           "Mean angle during stance - rhindlimb - lHindfingers (°)_cos",
           0.00240364503830681
          ],
          [
           "Mean angle during swing - rhindlimb - knee (°)_sin",
           0.0023916205113019406
          ],
          [
           "Mean step velocity X during stance - knee (m/s)",
           0.002171128863520406
          ],
          [
           "Mean phase acceleration during swing - rhindlimb - ankle (rad/s^2)_sin",
           0.001998871429913908
          ],
          [
           "Mean step acceleration Y during swing - hip (m/s^2)",
           0.0019772963541738043
          ],
          [
           "Mean angle acceleration during swing - rhindlimb - knee (rad/s^2)_cos",
           0.0018290096244307716
          ],
          [
           "Mean angle during swing - rhindlimb - knee (°)_cos",
           0.0017142168336119225
          ],
          [
           "Mean angle during stance - rhindlimb - lHindfingers (°)_sin",
           0.0012472621119816213
          ],
          [
           "Mean angle excursion - rhindlimb - lHindfingers (°)",
           0.0011129332522299097
          ],
          [
           "Mean step jerk Y during swing - knee (m/s^3)",
           0.0010739234512243245
          ],
          [
           "Mean step jerk Y during swing - ankle (m/s^3)",
           0.0010175442033965743
          ],
          [
           "Mean step jerk Y during stance - ankle (m/s^3)",
           0.0010056554260484754
          ],
          [
           "Mean angle excursion - rhindlimb - knee (°)",
           0.000984751524850985
          ],
          [
           "Mean phase velocity during swing - rhindlimb - ankle (rad/s)_sin",
           0.0008991868392772785
          ],
          [
           "Mean angle during stance - rhindlimb - ankle (°)_sin",
           0.0008044806442911807
          ],
          [
           "Mean phase excursion - rhindlimb - lHindpaw (°)",
           0.0007756928551422319
          ],
          [
           "Mean angle velocity during swing - rhindlimb - ankle (rad/s)_cos",
           0.0007660349254694239
          ],
          [
           "Mean phase velocity during swing - rhindlimb - knee (rad/s)_sin",
           0.0007331974860165933
          ],
          [
           "Mean angle acceleration - rhindlimb - lHindpaw (rad/s^2)_cos",
           0.0007302099456114117
          ],
          [
           "Mean phase value - rhindlimb - ankle (°)_sin",
           0.0007294089454849174
          ],
          [
           "Mean step jerk Y during stance - knee (m/s^3)",
           0.0006619859731458543
          ],
          [
           "Mean phase velocity - rhindlimb - lHindpaw (rad/s)_cos",
           0.0006440120021637312
          ],
          [
           "Mean angle acceleration - rhindlimb - lHindfingers (rad/s^2)_cos",
           0.0006410773615845235
          ],
          [
           "Mean angle value - rhindlimb - hip (°)_cos",
           0.0006302143910699066
          ],
          [
           "Mean angle acceleration during stance - rhindlimb - lHindfingers (rad/s^2)_sin",
           0.0006183083290646949
          ],
          [
           "Mean step length (m)",
           0.0006158534804243681
          ],
          [
           "Mean phase velocity during stance - rhindlimb - knee (rad/s)_cos",
           0.0005679817791764146
          ],
          [
           "Mean phase velocity during swing - rhindlimb - lHindpaw (rad/s)_cos",
           0.0005553437140899034
          ],
          [
           "Mean phase velocity during stance - rhindlimb - ankle (rad/s)_sin",
           0.000547293455137142
          ],
          [
           "Mean angle during swing - rhindlimb - hip (°)_sin",
           0.0004990799947537401
          ],
          [
           "Mean phase during swing - rhindlimb - hip (°)_cos",
           0.0004669479921633431
          ],
          [
           "Mean phase acceleration during swing - rhindlimb - lHindpaw (rad/s^2)_cos",
           0.0004428522938201116
          ],
          [
           "Mean phase value - rhindlimb - ankle (°)_cos",
           0.0003973914938642803
          ],
          [
           "Mean phase during swing - rhindlimb - ankle (°)_cos",
           0.00030943055504079617
          ],
          [
           "Mean step jerk Y during swing - lHindpaw (m/s^3)",
           0.00026443320290008395
          ],
          [
           "Mean phase during swing - rhindlimb - hip (°)_sin",
           0.00025829515907865153
          ],
          [
           "Mean phase velocity during swing - rhindlimb - hip (rad/s)_sin",
           0.00019700259739510717
          ],
          [
           "Mean angle velocity during swing - rhindlimb - hip (rad/s)_sin",
           0.0001903717174127716
          ],
          [
           "Mean phase value - rhindlimb - hip (°)_cos",
           0.00011699446172418948
          ],
          [
           "Mean angle acceleration during swing - rhindlimb - knee (rad/s^2)_sin",
           0
          ]
         ],
         "hovertemplate": "direction=away_from_healthy<br>importance=%{x}<br>change_effect_size=%{y}<br>combined_rank=%{customdata[1]}<br>feature=%{customdata[0]}<extra></extra>",
         "legendgroup": "away_from_healthy",
         "marker": {
          "color": "red",
          "size": {
           "bdata": "MBFfs+Anqj+7xwH6iTyYP1FHXlKqmHs/3lFBdGM8eT+MlsGhHAN4P+H9BUGXjHY/girjUPJWdj8L9DArXwByP+l4at9s+HE/Gkfc6qzIcT8OnU2Z6QtvP4X2k/jbcmw/G4uKcgzKaz+V6zgyiG1pP36LSRgwpGg/YG/+YgpMZz9YfryO3MplP+wrxtj/nGU/py8cagJ6ZT/RjwNW7SBlP/tClRrPsGM/HO4sfJeXYz+o59ruL8lhP53Tc+3vX2A/XySf5bAyYD/lDVghbPddP4t7RU/yFVw/EofAfmVvVD9s+/D6+jtSPziZfYZcmFE/SEfaxOOrUD8gfJ5KBnpQP7LNAuZYIlA/2AyqCO12TT9OBFwHeVxKPxjk57j7akk/EQfrefcZST+DaqqcgQZIP0Vu9epx7Uc/pXR7yLnmRz9RAXMNJLFFP6g1Zz5dGkU/xN2uJr8BRT+lj3wZn6ZEP6y+rQa/QkQ/D9BdRycuRD8P4UiVk5xCP7HuhouPMkI/jU/dvgfvQT8bCLYgllpAP7tD81oWmj4/yUZxHtQFPT8Kdkh4Hws6P2isQR1iRzQ/R9Nb9XNUMT99I85Cee0wP/xzE21P0ik/REHKmdDzKD8tXjSMXasePwAAAAAAAAAA",
           "dtype": "f8"
          },
          "sizemode": "area",
          "sizeref": 0.00012771373247126932,
          "symbol": "circle"
         },
         "mode": "markers",
         "name": "away_from_healthy",
         "orientation": "v",
         "showlegend": true,
         "type": "scatter",
         "x": {
          "bdata": "45giExM3rT+tm07jEdOdP8yxQKxHrHs/tkdcWfRNeD9Cj2yfj86DP211wIJAO4E/+E4E4YxIez+9myfHAZZxPxSf9YjYhHQ/mzKqvHTsez91wfjsZYB6PzjZmsE7Wn0/Z+gY/rGTfD+6wnkg4OVuP2qyO4lDOmc/KdDdytHIaD+v9RGe/wtxP4XMXAqRk2k/0plusuZmaz8LHb1XRgdoP4df2yNRKmw/b9YfDrMMdz//lTxQ0qVqPxkhMt9N9mY/dqJDWiYSYz+tt8Ppi9psP5Vn3G7DWnA/+WrGpR+oXT/i4tyojMVTP+hXxXZpDFs/iUfr7COOTz/spiDT0RhfP0yTJ0irYGM/1SOd2VmsZD9GMfeKMNFbPxKmWLs33Ew/5zBMQ3hCWz9KjVNGFohaP52qx2Zx+FQ/g4K0EXcHUj9LMF6uJTJUP7qhfEIFoFo/rQNVJqlbXD+qBxUIxB9aP83/QpFvIlk/8WNRnU+gUD+xLQ7z/gNaPyhWZS0a8lQ/dAXw8WVEWD925XCYNx5XP8aJK3bz9FQ/Wj1I89FTTj/m/6LoQ1JDP/GaPwkOF0w/z99AKd9XSD/HJP39H+5HP11GtfUHU0I/lClD6yK1QT9IkVIgIWYzPwAAAAAAAAAA",
          "dtype": "f8"
         },
         "xaxis": "x",
         "y": {
          "bdata": "Oy72lCWm7L9zwW7zHgHqv8cCrX5R6e+/vwBf5vac8L+sxr5Oo2Xjv/MkzNgM8OS/cJFAFZsz6r/v1G6/xWDwvyVUwuSGBuy/hd/vbEhh5L9EIac/db7iv2G31qTBA9+/SL9hAjMe37+1gta+tVXqvxbcsWhO+fC/0E5MNl0U7r/4XrO+QXTkv8dx71afCuu/FPJ0/ZIU6b9Jk76oXyPsv4WjgjAdX+a/uj41NjIz279E/1mPtFvlvyZgLV7h0ea/K+NJ+O8t67+4eopG+J3gv73SjAAUetu/Ts3mpr4M5r+Ze7qDBIPtvwqABebu0OS/aJ+qcgvo8L8k8a3Zg/Tgvw73VJPQpNq/2mPKedPN1r+E9drkPFPev6V2HdnkLuy/UYVNLmt33b+mA9b3Lvrcv+UxTEmTQeK/lX8zBhI25b9m125ObC/hv/dBm3n2XNm/rigTimW017/htMOstEvZv4O3yxyBy9m/cxE06JJr47/kU3pmk+TWv3iCiXgozdu/S8zURfql17/NyG5cE6PWv1RmhP8eXde/TxFwr5af3r8PzsWbCpHlvynGxer8Gde/OWlQ89zH1r8Ykmz10qLWv7Nrgk7Ui9a/uW2CTtSL1r81tcOstEvZv566FzyoCNq/",
          "dtype": "f8"
         },
         "yaxis": "y"
        },
        {
         "customdata": [
          [
           "Mean angle during swing - rhindlimb - lHindpaw (°)_sin",
           0.026429435177169093
          ],
          [
           "Mean angle value - rhindlimb - lHindpaw (°)_cos",
           0.024692234132240285
          ],
          [
           "Mean angle during swing - rhindlimb - lHindpaw (°)_cos",
           0.022306747842588615
          ],
          [
           "Mean angle value - rhindlimb - lHindpaw (°)_sin",
           0.020284735547318043
          ],
          [
           "Mean angle during stance - rhindlimb - lHindpaw (°)_sin",
           0.01815139420193276
          ],
          [
           "Mean angle velocity - rhindlimb - knee (rad/s)_cos",
           0.0157797110362799
          ],
          [
           "Mean angle during stance - rhindlimb - lHindpaw (°)_cos",
           0.014713862990612041
          ],
          [
           "Mean step acceleration X during stance - ankle (m/s^2)",
           0.01325996227374808
          ],
          [
           "Mean step acceleration Y during stance - knee (m/s^2)",
           0.01308827372419643
          ],
          [
           "Mean angle velocity - rhindlimb - knee (rad/s)_sin",
           0.012683548675828844
          ],
          [
           "Mean step velocity Y during stance - lHindpaw (m/s)",
           0.009905855329793437
          ],
          [
           "Mean step acceleration X during stance - lHindpaw (m/s^2)",
           0.00844126400288544
          ],
          [
           "Mean step acceleration Y during swing - ankle (m/s^2)",
           0.006260126878672716
          ],
          [
           "Mean step acceleration Y during stance - ankle (m/s^2)",
           0.0053974143458918825
          ],
          [
           "Mean step height (m)",
           0.005065211672637361
          ],
          [
           "Mean step jerk Y during stance - lHindfingers (m/s^3)",
           0.004975049283060925
          ],
          [
           "Mean step frequency (Hz)",
           0.004047756641022031
          ],
          [
           "Mean step acceleration Y during stance - lHindpaw (m/s^2)",
           0.0038738587359086634
          ],
          [
           "Mean step acceleration Y during swing - lHindpaw (m/s^2)",
           0.003233390736126394
          ],
          [
           "Mean step velocity X during swing - hip (m/s)",
           0.002713817979071879
          ],
          [
           "Mean step velocity Y during stance - knee (m/s)",
           0.0026237647997079797
          ],
          [
           "Mean step velocity Y during stance - ankle (m/s)",
           0.0026135100095754666
          ],
          [
           "Mean angle velocity during swing - rhindlimb - knee (rad/s)_cos",
           0.002206425185972227
          ],
          [
           "Mean angle velocity - rhindlimb - hip (rad/s)_sin",
           0.0021666137798078467
          ],
          [
           "Mean phase velocity - rhindlimb - hip (rad/s)_cos",
           0.0018382843506303715
          ],
          [
           "Mean angle velocity - rhindlimb - hip (rad/s)_cos",
           0.0018153159142333122
          ],
          [
           "Mean phase velocity - rhindlimb - hip (rad/s)_sin",
           0.0017524583667625133
          ],
          [
           "Mean step duration (s)",
           0.0016151160066868438
          ],
          [
           "Mean phase velocity during swing - rhindlimb - lHindpaw (rad/s)_sin",
           0.0014211290941094946
          ],
          [
           "Mean phase velocity during stance - rhindlimb - knee (rad/s)_sin",
           0.001169007321224438
          ],
          [
           "Mean phase acceleration - rhindlimb - hip (rad/s^2)_cos",
           0.0009022474620959059
          ],
          [
           "Mean phase acceleration during swing - rhindlimb - knee (rad/s^2)_sin",
           0.0008072570821792272
          ],
          [
           "Mean angle velocity during swing - rhindlimb - knee (rad/s)_sin",
           0.0007662341445319718
          ],
          [
           "Mean step acceleration Y during swing - lHindfingers (m/s^2)",
           0.0006595171226245897
          ],
          [
           "Mean phase acceleration during stance - rhindlimb - knee (rad/s^2)_sin",
           0.0005882626309640107
          ],
          [
           "Mean step velocity Y during stance - hip (m/s)",
           0.0005226478304394208
          ],
          [
           "Mean angle acceleration during stance - rhindlimb - lHindpaw (rad/s^2)_cos",
           0.0004984438506301816
          ]
         ],
         "hovertemplate": "direction=towards_healthy<br>importance=%{x}<br>change_effect_size=%{y}<br>combined_rank=%{customdata[1]}<br>feature=%{customdata[0]}<extra></extra>",
         "legendgroup": "towards_healthy",
         "marker": {
          "color": "green",
          "size": {
           "bdata": "2mXzXlEQmz+ZqUDI60iZP20s24GU15Y/powij4XFlD/Xe+VxR5aSPxFXXXuOKJA/dnK9Qk0ijj9Y234CCiiLPwwn2lwGzoo/KksUFtX5iT/iZXFlhUmEP21lokanSYE/eEJnAzikeT/aupNhmRt2P05is2dCv3Q/Cb93n7dgdD9FYVNmYZRwP2XIjxISvG8/FXTwbul8aj/vBvXuSTtmP12BOgBvfmU/RMqagO1oZT/ManmANRNiP82Meeq3v2E/0k+rylIeXj+BU/Ke/L1dP9q33NdXtlw/+ctjm0l2Wj+Q0+K+pUhXPwsPqQ0sJ1M/yFjaq5mQTT9+9Dpiw3NKP+mFwUujG0k/g4SFPG6cRT8NLHdhtEZDP8pnZqtJIEE/nNnHBEBVQD8=",
           "dtype": "f8"
          },
          "sizemode": "area",
          "sizeref": 0.00012771373247126932,
          "symbol": "circle"
         },
         "mode": "markers",
         "name": "towards_healthy",
         "orientation": "v",
         "showlegend": true,
         "type": "scatter",
         "x": {
          "bdata": "EpEwpwmNqz94KQejGhKgP9OBUchMs6c/xP9ilm+bnD+67LipcnGZP1aHGTehs5M/FGbSq/X3lD/QBwmAz82XP3vBW30KQYo/LI1RDUTGkz9Tm/PWVpeFPwRJ3hBcKpU/skJd7uGJij8m8v2u/HiEP17pU1LIlXY/5NNzw2GXez96Cd/Utp10PzmWczZEa3Q/qIyk8Y1RcT9blsJBAzZ8P9Y3r0Vp72w/CWTW/12JcT9qAzi8N+Z1PwRAdFIK5nI/aaVdlQMicj/vge6tA+hxP/kWdjl3km4/nRrnS67QaD8f6Kt7I8ptP5O9ENl18Wo/vK706rY0Xz9/znlHl8tiP8vgSZpjT14/SLqWoFB7Xj95gj5wCu5aPz+woJxLzVM/vRf3KK3WVD8=",
          "dtype": "f8"
         },
         "xaxis": "x",
         "y": {
          "bdata": "jFeSxCNv3z/F/6zhbyzpP4jyazZW194/3Zdh4i485z8Nx2iqg2DnP194Fgq1Puo/iV367l3+5j/f241c3UDiP6Ew3XLrVfA/IRrPtokE5T874NKYQBHuP+Hox3khI9o/+74S2BLr3j/PB7uoKEfhP/kH4CtVZe0/pezPaESi5z/JIgmdErzpP4sjbljj3eg/+5XBZKN46D9FtRVQrzfZP7ZgJIw/xec/QdIalq2I4z+BF7E+cGnaP4H1j+GjDd4/KoUNxGaT2j8Pgw3EZpPaP7Xzj+GjDd4/FyKUkNYP4T8hVW3R7QLZP0tPb6xqv9Y/nrgo/jFR3j+Z6iOjpoTWPyzqoNf/gdo/udz4mQCw1j86sJ9CxufWP8lJUHQGrds/TYovf8gU2T8=",
          "dtype": "f8"
         },
         "yaxis": "y"
        }
       ],
       "layout": {
        "legend": {
         "itemsizing": "constant",
         "title": {
          "text": "direction"
         },
         "tracegroupgap": 0
        },
        "shapes": [
         {
          "line": {
           "color": "black",
           "dash": "dash"
          },
          "type": "line",
          "x0": 0,
          "x1": 1,
          "xref": "x domain",
          "y0": 0,
          "y1": 0,
          "yref": "y"
         }
        ],
        "template": {
         "data": {
          "bar": [
           {
            "error_x": {
             "color": "#2a3f5f"
            },
            "error_y": {
             "color": "#2a3f5f"
            },
            "marker": {
             "line": {
              "color": "#E5ECF6",
              "width": 0.5
             },
             "pattern": {
              "fillmode": "overlay",
              "size": 10,
              "solidity": 0.2
             }
            },
            "type": "bar"
           }
          ],
          "barpolar": [
           {
            "marker": {
             "line": {
              "color": "#E5ECF6",
              "width": 0.5
             },
             "pattern": {
              "fillmode": "overlay",
              "size": 10,
              "solidity": 0.2
             }
            },
            "type": "barpolar"
           }
          ],
          "carpet": [
           {
            "aaxis": {
             "endlinecolor": "#2a3f5f",
             "gridcolor": "white",
             "linecolor": "white",
             "minorgridcolor": "white",
             "startlinecolor": "#2a3f5f"
            },
            "baxis": {
             "endlinecolor": "#2a3f5f",
             "gridcolor": "white",
             "linecolor": "white",
             "minorgridcolor": "white",
             "startlinecolor": "#2a3f5f"
            },
            "type": "carpet"
           }
          ],
          "choropleth": [
           {
            "colorbar": {
             "outlinewidth": 0,
             "ticks": ""
            },
            "type": "choropleth"
           }
          ],
          "contour": [
           {
            "colorbar": {
             "outlinewidth": 0,
             "ticks": ""
            },
            "colorscale": [
             [
              0,
              "#0d0887"
             ],
             [
              0.1111111111111111,
              "#46039f"
             ],
             [
              0.2222222222222222,
              "#7201a8"
             ],
             [
              0.3333333333333333,
              "#9c179e"
             ],
             [
              0.4444444444444444,
              "#bd3786"
             ],
             [
              0.5555555555555556,
              "#d8576b"
             ],
             [
              0.6666666666666666,
              "#ed7953"
             ],
             [
              0.7777777777777778,
              "#fb9f3a"
             ],
             [
              0.8888888888888888,
              "#fdca26"
             ],
             [
              1,
              "#f0f921"
             ]
            ],
            "type": "contour"
           }
          ],
          "contourcarpet": [
           {
            "colorbar": {
             "outlinewidth": 0,
             "ticks": ""
            },
            "type": "contourcarpet"
           }
          ],
          "heatmap": [
           {
            "colorbar": {
             "outlinewidth": 0,
             "ticks": ""
            },
            "colorscale": [
             [
              0,
              "#0d0887"
             ],
             [
              0.1111111111111111,
              "#46039f"
             ],
             [
              0.2222222222222222,
              "#7201a8"
             ],
             [
              0.3333333333333333,
              "#9c179e"
             ],
             [
              0.4444444444444444,
              "#bd3786"
             ],
             [
              0.5555555555555556,
              "#d8576b"
             ],
             [
              0.6666666666666666,
              "#ed7953"
             ],
             [
              0.7777777777777778,
              "#fb9f3a"
             ],
             [
              0.8888888888888888,
              "#fdca26"
             ],
             [
              1,
              "#f0f921"
             ]
            ],
            "type": "heatmap"
           }
          ],
          "histogram": [
           {
            "marker": {
             "pattern": {
              "fillmode": "overlay",
              "size": 10,
              "solidity": 0.2
             }
            },
            "type": "histogram"
           }
          ],
          "histogram2d": [
           {
            "colorbar": {
             "outlinewidth": 0,
             "ticks": ""
            },
            "colorscale": [
             [
              0,
              "#0d0887"
             ],
             [
              0.1111111111111111,
              "#46039f"
             ],
             [
              0.2222222222222222,
              "#7201a8"
             ],
             [
              0.3333333333333333,
              "#9c179e"
             ],
             [
              0.4444444444444444,
              "#bd3786"
             ],
             [
              0.5555555555555556,
              "#d8576b"
             ],
             [
              0.6666666666666666,
              "#ed7953"
             ],
             [
              0.7777777777777778,
              "#fb9f3a"
             ],
             [
              0.8888888888888888,
              "#fdca26"
             ],
             [
              1,
              "#f0f921"
             ]
            ],
            "type": "histogram2d"
           }
          ],
          "histogram2dcontour": [
           {
            "colorbar": {
             "outlinewidth": 0,
             "ticks": ""
            },
            "colorscale": [
             [
              0,
              "#0d0887"
             ],
             [
              0.1111111111111111,
              "#46039f"
             ],
             [
              0.2222222222222222,
              "#7201a8"
             ],
             [
              0.3333333333333333,
              "#9c179e"
             ],
             [
              0.4444444444444444,
              "#bd3786"
             ],
             [
              0.5555555555555556,
              "#d8576b"
             ],
             [
              0.6666666666666666,
              "#ed7953"
             ],
             [
              0.7777777777777778,
              "#fb9f3a"
             ],
             [
              0.8888888888888888,
              "#fdca26"
             ],
             [
              1,
              "#f0f921"
             ]
            ],
            "type": "histogram2dcontour"
           }
          ],
          "mesh3d": [
           {
            "colorbar": {
             "outlinewidth": 0,
             "ticks": ""
            },
            "type": "mesh3d"
           }
          ],
          "parcoords": [
           {
            "line": {
             "colorbar": {
              "outlinewidth": 0,
              "ticks": ""
             }
            },
            "type": "parcoords"
           }
          ],
          "pie": [
           {
            "automargin": true,
            "type": "pie"
           }
          ],
          "scatter": [
           {
            "fillpattern": {
             "fillmode": "overlay",
             "size": 10,
             "solidity": 0.2
            },
            "type": "scatter"
           }
          ],
          "scatter3d": [
           {
            "line": {
             "colorbar": {
              "outlinewidth": 0,
              "ticks": ""
             }
            },
            "marker": {
             "colorbar": {
              "outlinewidth": 0,
              "ticks": ""
             }
            },
            "type": "scatter3d"
           }
          ],
          "scattercarpet": [
           {
            "marker": {
             "colorbar": {
              "outlinewidth": 0,
              "ticks": ""
             }
            },
            "type": "scattercarpet"
           }
          ],
          "scattergeo": [
           {
            "marker": {
             "colorbar": {
              "outlinewidth": 0,
              "ticks": ""
             }
            },
            "type": "scattergeo"
           }
          ],
          "scattergl": [
           {
            "marker": {
             "colorbar": {
              "outlinewidth": 0,
              "ticks": ""
             }
            },
            "type": "scattergl"
           }
          ],
          "scattermap": [
           {
            "marker": {
             "colorbar": {
              "outlinewidth": 0,
              "ticks": ""
             }
            },
            "type": "scattermap"
           }
          ],
          "scattermapbox": [
           {
            "marker": {
             "colorbar": {
              "outlinewidth": 0,
              "ticks": ""
             }
            },
            "type": "scattermapbox"
           }
          ],
          "scatterpolar": [
           {
            "marker": {
             "colorbar": {
              "outlinewidth": 0,
              "ticks": ""
             }
            },
            "type": "scatterpolar"
           }
          ],
          "scatterpolargl": [
           {
            "marker": {
             "colorbar": {
              "outlinewidth": 0,
              "ticks": ""
             }
            },
            "type": "scatterpolargl"
           }
          ],
          "scatterternary": [
           {
            "marker": {
             "colorbar": {
              "outlinewidth": 0,
              "ticks": ""
             }
            },
            "type": "scatterternary"
           }
          ],
          "surface": [
           {
            "colorbar": {
             "outlinewidth": 0,
             "ticks": ""
            },
            "colorscale": [
             [
              0,
              "#0d0887"
             ],
             [
              0.1111111111111111,
              "#46039f"
             ],
             [
              0.2222222222222222,
              "#7201a8"
             ],
             [
              0.3333333333333333,
              "#9c179e"
             ],
             [
              0.4444444444444444,
              "#bd3786"
             ],
             [
              0.5555555555555556,
              "#d8576b"
             ],
             [
              0.6666666666666666,
              "#ed7953"
             ],
             [
              0.7777777777777778,
              "#fb9f3a"
             ],
             [
              0.8888888888888888,
              "#fdca26"
             ],
             [
              1,
              "#f0f921"
             ]
            ],
            "type": "surface"
           }
          ],
          "table": [
           {
            "cells": {
             "fill": {
              "color": "#EBF0F8"
             },
             "line": {
              "color": "white"
             }
            },
            "header": {
             "fill": {
              "color": "#C8D4E3"
             },
             "line": {
              "color": "white"
             }
            },
            "type": "table"
           }
          ]
         },
         "layout": {
          "annotationdefaults": {
           "arrowcolor": "#2a3f5f",
           "arrowhead": 0,
           "arrowwidth": 1
          },
          "autotypenumbers": "strict",
          "coloraxis": {
           "colorbar": {
            "outlinewidth": 0,
            "ticks": ""
           }
          },
          "colorscale": {
           "diverging": [
            [
             0,
             "#8e0152"
            ],
            [
             0.1,
             "#c51b7d"
            ],
            [
             0.2,
             "#de77ae"
            ],
            [
             0.3,
             "#f1b6da"
            ],
            [
             0.4,
             "#fde0ef"
            ],
            [
             0.5,
             "#f7f7f7"
            ],
            [
             0.6,
             "#e6f5d0"
            ],
            [
             0.7,
             "#b8e186"
            ],
            [
             0.8,
             "#7fbc41"
            ],
            [
             0.9,
             "#4d9221"
            ],
            [
             1,
             "#276419"
            ]
           ],
           "sequential": [
            [
             0,
             "#0d0887"
            ],
            [
             0.1111111111111111,
             "#46039f"
            ],
            [
             0.2222222222222222,
             "#7201a8"
            ],
            [
             0.3333333333333333,
             "#9c179e"
            ],
            [
             0.4444444444444444,
             "#bd3786"
            ],
            [
             0.5555555555555556,
             "#d8576b"
            ],
            [
             0.6666666666666666,
             "#ed7953"
            ],
            [
             0.7777777777777778,
             "#fb9f3a"
            ],
            [
             0.8888888888888888,
             "#fdca26"
            ],
            [
             1,
             "#f0f921"
            ]
           ],
           "sequentialminus": [
            [
             0,
             "#0d0887"
            ],
            [
             0.1111111111111111,
             "#46039f"
            ],
            [
             0.2222222222222222,
             "#7201a8"
            ],
            [
             0.3333333333333333,
             "#9c179e"
            ],
            [
             0.4444444444444444,
             "#bd3786"
            ],
            [
             0.5555555555555556,
             "#d8576b"
            ],
            [
             0.6666666666666666,
             "#ed7953"
            ],
            [
             0.7777777777777778,
             "#fb9f3a"
            ],
            [
             0.8888888888888888,
             "#fdca26"
            ],
            [
             1,
             "#f0f921"
            ]
           ]
          },
          "colorway": [
           "#636efa",
           "#EF553B",
           "#00cc96",
           "#ab63fa",
           "#FFA15A",
           "#19d3f3",
           "#FF6692",
           "#B6E880",
           "#FF97FF",
           "#FECB52"
          ],
          "font": {
           "color": "#2a3f5f"
          },
          "geo": {
           "bgcolor": "white",
           "lakecolor": "white",
           "landcolor": "#E5ECF6",
           "showlakes": true,
           "showland": true,
           "subunitcolor": "white"
          },
          "hoverlabel": {
           "align": "left"
          },
          "hovermode": "closest",
          "mapbox": {
           "style": "light"
          },
          "paper_bgcolor": "white",
          "plot_bgcolor": "#E5ECF6",
          "polar": {
           "angularaxis": {
            "gridcolor": "white",
            "linecolor": "white",
            "ticks": ""
           },
           "bgcolor": "#E5ECF6",
           "radialaxis": {
            "gridcolor": "white",
            "linecolor": "white",
            "ticks": ""
           }
          },
          "scene": {
           "xaxis": {
            "backgroundcolor": "#E5ECF6",
            "gridcolor": "white",
            "gridwidth": 2,
            "linecolor": "white",
            "showbackground": true,
            "ticks": "",
            "zerolinecolor": "white"
           },
           "yaxis": {
            "backgroundcolor": "#E5ECF6",
            "gridcolor": "white",
            "gridwidth": 2,
            "linecolor": "white",
            "showbackground": true,
            "ticks": "",
            "zerolinecolor": "white"
           },
           "zaxis": {
            "backgroundcolor": "#E5ECF6",
            "gridcolor": "white",
            "gridwidth": 2,
            "linecolor": "white",
            "showbackground": true,
            "ticks": "",
            "zerolinecolor": "white"
           }
          },
          "shapedefaults": {
           "line": {
            "color": "#2a3f5f"
           }
          },
          "ternary": {
           "aaxis": {
            "gridcolor": "white",
            "linecolor": "white",
            "ticks": ""
           },
           "baxis": {
            "gridcolor": "white",
            "linecolor": "white",
            "ticks": ""
           },
           "bgcolor": "#E5ECF6",
           "caxis": {
            "gridcolor": "white",
            "linecolor": "white",
            "ticks": ""
           }
          },
          "title": {
           "x": 0.05
          },
          "xaxis": {
           "automargin": true,
           "gridcolor": "white",
           "linecolor": "white",
           "ticks": "",
           "title": {
            "standoff": 15
           },
           "zerolinecolor": "white",
           "zerolinewidth": 2
          },
          "yaxis": {
           "automargin": true,
           "gridcolor": "white",
           "linecolor": "white",
           "ticks": "",
           "title": {
            "standoff": 15
           },
           "zerolinecolor": "white",
           "zerolinewidth": 2
          }
         }
        },
        "title": {
         "text": "Feature Importance vs. Treatment Direction"
        },
        "xaxis": {
         "anchor": "y",
         "domain": [
          0,
          1
         ],
         "title": {
          "text": "importance"
         }
        },
        "yaxis": {
         "anchor": "x",
         "domain": [
          0,
          1
         ],
         "title": {
          "text": "change_effect_size"
         }
        }
       }
      }
     },
     "metadata": {},
     "output_type": "display_data"
    }
   ],
   "source": [
    "# 3) Create combined_rank now (so it's available everywhere)\n",
    "res_df[\"combined_rank\"] = res_df[\"importance\"] * res_df[\"change_effect_size\"].abs()\n",
    "\n",
    "# 4) Elbow selection on |change_effect_size| (biologically focused)\n",
    "res_ranked = res_df.copy()\n",
    "res_ranked = res_ranked.dropna(subset=[\"change_effect_size\"])  # exclude no-gap features from elbow\n",
    "res_ranked[\"rank_key\"] = res_ranked[\"change_effect_size\"].abs()\n",
    "res_ranked = res_ranked.sort_values(\"rank_key\", ascending=False).reset_index(drop=True)\n",
    "\n",
    "if res_ranked.empty:\n",
    "    k_opt = 0\n",
    "    selected = res_ranked.copy()\n",
    "else:\n",
    "    vals = res_ranked[\"rank_key\"].to_numpy()\n",
    "    cum = np.cumsum(vals)\n",
    "    cum_norm = cum / cum[-1]\n",
    "    x = np.linspace(0, 1, num=len(cum_norm), endpoint=True)\n",
    "    distances = cum_norm - x\n",
    "    k_opt = int(np.argmax(distances)) + 1\n",
    "    selected = res_ranked.iloc[:k_opt].copy()\n",
    "\n",
    "print(f\"Elbow-selected feature count (by |change_effect_size|): {k_opt}\")\n",
    "# print(selected[[\"feature\", \"importance\", \"change_effect_size\", \"combined_rank\"]].head(10))\n",
    "\n",
    "# 5) Optional biological floor, e.g., at least 20% of gap moved\n",
    "min_effect = 0.20\n",
    "selected = selected[selected[\"change_effect_size\"].abs() >= min_effect]\n",
    "print(f\"After enforcing |change_effect_size| ≥ {min_effect:.2f}: {selected.shape[0]} features kept\")\n",
    "\n",
    "# 6) Direction labels (for downstream plots)\n",
    "res_df[\"direction\"] = np.where(res_df[\"change_effect_size\"] > 0, \"towards_healthy\",\n",
    "                        np.where(res_df[\"change_effect_size\"] < 0, \"away_from_healthy\", \"no_change\"))\n",
    "\n",
    "print(res_df.head(20))\n",
    "print(\"\\nDirection counts:\\n\", res_df[\"direction\"].value_counts())\n",
    "\n",
    "# 7) Reduced dataset with selected features\n",
    "top_feature_list = selected[\"feature\"].tolist()\n",
    "print(f\"Top {len(top_feature_list)} features selected for further analysis.\")\n",
    "_reduced_hindlimb_df = left_hindlimb_features_df[top_feature_list]\n",
    "print(_reduced_hindlimb_df.shape)\n",
    "fig = px.scatter(\n",
    "    res_df[res_df[\"feature\"].isin(top_feature_list)],\n",
    "    x=\"importance\",\n",
    "    y=\"change_effect_size\",\n",
    "    size=\"combined_rank\",\n",
    "    color=\"direction\",\n",
    "    hover_data=[\"feature\", \"importance\", \"change_effect_size\", \"combined_rank\"],\n",
    "    color_discrete_map={\n",
    "        \"towards_healthy\": \"green\",\n",
    "        \"away_from_healthy\": \"red\",\n",
    "        \"no_change\": \"gray\"\n",
    "    },\n",
    "    title=\"Feature Importance vs. Treatment Direction\"\n",
    ")\n",
    "\n",
    "fig.add_hline(y=0, line_dash=\"dash\", line_color=\"black\")\n",
    "# fig.show()\n",
    "# fig.write_html(os.path.join('./', 'feature_change_analysis.html'))"
   ]
  },
  {
   "cell_type": "code",
   "execution_count": 159,
   "id": "eb86e4a6",
   "metadata": {},
   "outputs": [
    {
     "name": "stdout",
     "output_type": "stream",
     "text": [
      "Comparison sick_left_C_run vs sick_left_E_run:\n",
      "\tNumber of significant features: 50\n",
      "\tNumber of significant features by Treatment effect: 4\n",
      "\tSignificant features by Treatment effect: [('Mean step acceleration Y during swing - lHindfingers (m/s^2)', 'towards_healthy'), ('Mean step jerk Y during swing - lHindpaw (m/s^3)', 'away_from_healthy'), ('Mean step velocity X during stance - ankle (m/s)', 'away_from_healthy'), ('Mean step velocity X during swing - hip (m/s)', 'towards_healthy')]\n",
      "----------------------------------------\n",
      "Comparison sick_left_ALL_run vs sick_left_E_run:\n",
      "\tNumber of significant features: 133\n",
      "\tNumber of significant features by All vs E: 21\n",
      "\tSignificant features by All vs E: [('Mean angle excursion - rhindlimb - ankle (°)', 'away_from_healthy'), ('Mean angle excursion - rhindlimb - lHindfingers (°)', 'away_from_healthy'), ('Mean phase excursion - rhindlimb - ankle (°)', 'away_from_healthy'), ('Mean phase excursion - rhindlimb - lHindpaw (°)', 'away_from_healthy'), ('Mean step acceleration X during stance - ankle (m/s^2)', 'towards_healthy'), ('Mean step acceleration Y during stance - knee (m/s^2)', 'towards_healthy'), ('Mean step acceleration Y during stance - lHindpaw (m/s^2)', 'towards_healthy'), ('Mean step acceleration Y during swing - hip (m/s^2)', 'away_from_healthy'), ('Mean step acceleration Y during swing - lHindfingers (m/s^2)', 'towards_healthy'), ('Mean step acceleration Y during swing - lHindpaw (m/s^2)', 'towards_healthy'), ('Mean step duration (s)', 'towards_healthy'), ('Mean step frequency (Hz)', 'towards_healthy'), ('Mean step height (m)', 'towards_healthy'), ('Mean step jerk Y during stance - ankle (m/s^3)', 'away_from_healthy'), ('Mean step jerk Y during swing - ankle (m/s^3)', 'away_from_healthy'), ('Mean step jerk Y during swing - lHindpaw (m/s^3)', 'away_from_healthy'), ('Mean step length (m)', 'away_from_healthy'), ('Mean step velocity X during stance - ankle (m/s)', 'away_from_healthy'), ('Mean step velocity X during stance - knee (m/s)', 'away_from_healthy'), ('Mean step velocity X during swing - hip (m/s)', 'towards_healthy'), ('Mean step velocity Y during stance - lHindpaw (m/s)', 'towards_healthy')]\n",
      "----------------------------------------\n",
      "Comparison healthy_left_ALL_run vs sick_left_C_run:\n",
      "\tNumber of significant features: 103\n",
      "\tNumber of significant features by Lesion effect: 9\n",
      "\tSignificant features by Lesion effect: [('Mean angle excursion - rhindlimb - ankle (°)', 'away_from_healthy'), ('Mean phase excursion - rhindlimb - ankle (°)', 'away_from_healthy'), ('Mean step acceleration X during stance - ankle (m/s^2)', 'towards_healthy'), ('Mean step acceleration X during stance - lHindpaw (m/s^2)', 'towards_healthy'), ('Mean step acceleration Y during stance - ankle (m/s^2)', 'towards_healthy'), ('Mean step acceleration Y during swing - ankle (m/s^2)', 'towards_healthy'), ('Mean step jerk Y during stance - lHindfingers (m/s^3)', 'towards_healthy'), ('Mean step velocity X during stance - lHindpaw (m/s)', 'away_from_healthy'), ('Mean step velocity Y during stance - lHindpaw (m/s)', 'towards_healthy')]\n",
      "----------------------------------------\n"
     ]
    }
   ],
   "source": [
    "## Check which features in the feature list are significant in the original analysis\n",
    "data = comparison_results[limb]\n",
    "\n",
    "# print(top_feature_list)\n",
    "\n",
    "# print(data[0][1]['significant_features'][0])\n",
    "\n",
    "top_feature_set = set(top_feature_list)  # O(1) lookups\n",
    "\n",
    "def filter_sig(sig_tuples, keep_names):\n",
    "    \"\"\"\n",
    "    sig_tuples: list[tuple[str, str, str]]\n",
    "    keep_names: set[str]\n",
    "    returns:\n",
    "      - filtered tuples whose feature name is in keep_names\n",
    "      - and just the names (if you want names only)\n",
    "    \"\"\"\n",
    "    filtered = [t for t in sig_tuples if t[0] in keep_names]\n",
    "    names = [t[0] for t in filtered]\n",
    "    return filtered, names\n",
    "\n",
    "def process_comparison(key1, key2, result, group_label, match_fn, top_features, res_df):\n",
    "    \"\"\"\n",
    "    key1, key2: str from comparison_results\n",
    "    result: dict containing 'significant_features' and 'n_significant'\n",
    "    group_label: str, label for printing\n",
    "    match_fn: function that takes (k1, k2) and returns True if we should process\n",
    "    top_features: set of feature names to intersect with\n",
    "    \"\"\"\n",
    "    k1, k2 = key1.lower(), key2.lower()\n",
    "    if not match_fn(k1, k2):\n",
    "        return\n",
    "\n",
    "    sig = result.get(\"significant_features\", [])\n",
    "    feats, names = filter_sig(sig, top_features)\n",
    "\n",
    "    dir_map = dict(zip(res_df[\"feature\"], res_df[\"direction\"]))\n",
    "    names_with_dir = [(name, dir_map.get(name, \"unknown\")) for name in names]\n",
    "    \n",
    "    print(f\"Comparison {key1} vs {key2}:\")\n",
    "    print(f\"\\tNumber of significant features: {result.get('n_significant', 0)}\")\n",
    "    print(f\"\\tNumber of significant features by {group_label}: {len(feats)}\")\n",
    "    print(f\"\\tSignificant features by {group_label}: {names_with_dir}\")\n",
    "    print(\"-\" * 40)\n",
    "\n",
    "    return feats, names\n",
    "\n",
    "\n",
    "# --- Conditions as small reusable lambdas ---\n",
    "conditions = [\n",
    "    # (\"A\", lambda k1, k2: \"a_\" in k1 and \"e_\" in k2 and \"sick\" in k1 and \"sick\" in k2 and \"left\" in k1 and \"left\" in k2),\n",
    "    # (\"B\", lambda k1, k2: \"b_\" in k1 and \"e_\" in k2 and \"sick\" in k1 and \"sick\" in k2 and \"left\" in k1 and \"left\" in k2),\n",
    "    # (\"C\", lambda k1, k2: \"c_\" in k1 and \"e_\" in k2 and \"sick\" in k1 and \"sick\" in k2 and \"left\" in k1 and \"left\" in k2),\n",
    "    # (\"All\", lambda k1, k2: \"all_\" in k1 and \"e_\" in k2 and \"sick\" in k1 and \"sick\" in k2 and \"left\" in k1 and \"left\" in k2),\n",
    "    # (\"C (lesion effect)\", lambda k1, k2: \"c_\" in k1 and \"c_\" in k2 and (\n",
    "    #     (\"healthy\" in k1 and \"sick\" in k2) or (\"healthy\" in k2 and \"sick\" in k1)\n",
    "    # ) and \"left\" in k1 and \"left\" in k2),\n",
    "    # (\"Healthy vs C\", lambda k1, k2: \"all_\" in k1 and \"c_\" in k2 and \"sick\" in k2 and \"left\" in k1 and \"left\" in k2),\n",
    "    (\"Lesion effect\", lambda k1, k2: \"all_\" in k1 and \"healthy\" in k1 and \"c_\" in k2 and \"sick\" in k2 and \"left\" in k1 and \"left\" in k2),\n",
    "    (\"Treatment effect\", lambda k1, k2: \"c_\" in k1 and \"e_\" in k2 and \"sick\" in k1 and \"sick\" in k2 and \"left\" in k1 and \"left\" in k2),\n",
    "    (\"All vs E\", lambda k1, k2: \"all_\" in k1 and \"e_\" in k2 and \"sick\" in k1 and \"sick\" in k2 and \"left\" in k1 and \"left\" in k2),\n",
    "    (\"C vs B\", lambda k1, k2: \"c_\" in k1 and \"b_\" in k2 and \"sick\" in k1 and \"sick\" in k2 and \"left\" in k1 and \"left\" in k2)\n",
    "]\n",
    "\n",
    "name_dict = {label: [] for label, _ in conditions}\n",
    "for (key1, key2), result in comparison_results[limb]:\n",
    "    for label, match_fn in conditions:\n",
    "        out = process_comparison(key1, key2, result, label, match_fn, top_feature_set, res_df)\n",
    "        if out is not None:\n",
    "            _, names = out\n",
    "            name_dict[label].extend(names)"
   ]
  },
  {
   "cell_type": "code",
   "execution_count": 160,
   "id": "f9c3251c",
   "metadata": {},
   "outputs": [
    {
     "name": "stdout",
     "output_type": "stream",
     "text": [
      "(58, 99)\n",
      "[DEBUG] Dataset Label Map: {0: 'B_postDLC', 1: 'B_preDLC', 2: 'C_postDLC', 3: 'C_preDLC', 4: 'E_postDLC', 5: 'E_preDLC'}\n",
      "[DEBUG] Mouse Label Map: {0: 'mouse11_left', 1: 'mouse12_left', 2: 'mouse13_left', 3: 'mouse14_left', 4: 'mouse15_left', 5: 'mouse16_left', 6: 'mouse17_left', 7: 'mouse18_left', 8: 'mouse19_left', 9: 'mouse20_left', 10: 'mouse21_left', 11: 'mouse22_left', 12: 'mouse23_left', 13: 'mouse24_left', 14: 'mouse25_left', 15: 'mouse26_left', 16: 'mouse27_left', 17: 'mouse28_left', 18: 'mouse29_left', 19: 'mouse30_left', 20: 'mouse41_left', 21: 'mouse42_left', 22: 'mouse43_left', 23: 'mouse44_left', 24: 'mouse45_left', 25: 'mouse46_left', 26: 'mouse47_left', 27: 'mouse48_left', 28: 'mouse49_left', 29: 'mouse50_left'}\n"
     ]
    },
    {
     "name": "stderr",
     "output_type": "stream",
     "text": [
      "/home/filthyweeb/Documents/SeriousStuff/Work/KU/MScThesis/.venv/lib64/python3.13/site-packages/sklearn/utils/deprecation.py:151: FutureWarning:\n",
      "\n",
      "'force_all_finite' was renamed to 'ensure_all_finite' in 1.6 and will be removed in 1.8.\n",
      "\n",
      "/home/filthyweeb/Documents/SeriousStuff/Work/KU/MScThesis/.venv/lib64/python3.13/site-packages/umap/umap_.py:1952: UserWarning:\n",
      "\n",
      "n_jobs value 1 overridden to 1 by setting random_state. Use no seed for parallelism.\n",
      "\n",
      "/home/filthyweeb/Documents/SeriousStuff/Work/KU/MScThesis/.venv/lib64/python3.13/site-packages/sklearn/utils/deprecation.py:151: FutureWarning:\n",
      "\n",
      "'force_all_finite' was renamed to 'ensure_all_finite' in 1.6 and will be removed in 1.8.\n",
      "\n"
     ]
    }
   ],
   "source": [
    "# top_feature_list = res_df[\"feature\"].tolist() \n",
    "top_feature_list.append('Dataset')\n",
    "top_feature_list.append('Mouse') \n",
    "reduced_hindlimb_df = _left_hindlimb_features_df[top_feature_list]\n",
    "print(reduced_hindlimb_df.shape)\n",
    "\n",
    "reduced_features_df = reduced_hindlimb_df[reduced_hindlimb_df['Mouse'].str.lower().str.contains('left')]\n",
    "preprocessed_data, dataset_label_map, mouse_label_map, label_cols = preprocess_data(reduced_features_df)\n",
    "\n",
    "X_agg, y_mouse, y_dataset = aggregate_features(preprocessed_data, label_cols, method=\"median\")\n",
    "\n",
    "umap_reducer, umap_plot_df = perform_dimensionality_reduction(\n",
    "        X_agg, y_mouse, y_dataset,\n",
    "        dataset_label_map, mouse_label_map,\n",
    "        method=\"UMAP\", n_components=3,\n",
    "        target_metric='categorical',\n",
    "        target_weight=0,\n",
    "        n_neighbors=15,\n",
    "        min_dist=0.05,\n",
    "        plot=False, save=False\n",
    "    )"
   ]
  },
  {
   "cell_type": "code",
   "execution_count": 161,
   "id": "b93efdef",
   "metadata": {},
   "outputs": [
    {
     "data": {
      "application/vnd.plotly.v1+json": {
       "config": {
        "plotlyServerURL": "https://plot.ly"
       },
       "data": [
        {
         "customdata": {
          "bdata": "AAAAAQACAAMABAAFAAYABwAIAAk=",
          "dtype": "i1",
          "shape": "10, 2"
         },
         "hovertemplate": "<b>%{hovertext}</b><br><br>ColorKey=B_postDLC<br>UMAP1=%{x}<br>UMAP2=%{y}<br>UMAP3=%{z}<br>Dataset=%{customdata[0]}<br>Mouse=%{customdata[1]}<extra></extra>",
         "hovertext": [
          "mouse11_left",
          "mouse12_left",
          "mouse13_left",
          "mouse14_left",
          "mouse15_left",
          "mouse16_left",
          "mouse17_left",
          "mouse18_left",
          "mouse19_left",
          "mouse20_left"
         ],
         "legendgroup": "B_postDLC",
         "marker": {
          "color": "#636EFA",
          "line": {
           "color": "black",
           "width": 0.3
          },
          "size": 4,
          "symbol": "circle"
         },
         "mode": "markers",
         "name": "B_postDLC",
         "scene": "scene",
         "showlegend": true,
         "type": "scatter3d",
         "x": {
          "bdata": "Lq4oQUcaHEF1gixB0iAaQfcBF0F7cxdBOQgWQZ2sK0HfWhhBikkVQQ==",
          "dtype": "f4"
         },
         "y": {
          "bdata": "HlniQKr2B0GqwttAd0YNQWeIEkFbXQVB1QoUQcB50UCzTBFBuaYFQQ==",
          "dtype": "f4"
         },
         "z": {
          "bdata": "RfKKQG6kykCLhKpArWTZQPYe2kCuSstAOEvYQJ0so0BTlt1At/bGQA==",
          "dtype": "f4"
         }
        },
        {
         "customdata": {
          "bdata": "AQABAQECAQMBBAEFAQYBBwEIAQkDCgMLAwwDDQMOAw8DEAMRAxIDEwUUBRYFFwUYBRkFGgUbBRw=",
          "dtype": "i1",
          "shape": "28, 2"
         },
         "hovertemplate": "<b>%{hovertext}</b><br><br>ColorKey=Pre<br>UMAP1=%{x}<br>UMAP2=%{y}<br>UMAP3=%{z}<br>Dataset=%{customdata[0]}<br>Mouse=%{customdata[1]}<extra></extra>",
         "hovertext": [
          "mouse11_left",
          "mouse12_left",
          "mouse13_left",
          "mouse14_left",
          "mouse15_left",
          "mouse16_left",
          "mouse17_left",
          "mouse18_left",
          "mouse19_left",
          "mouse20_left",
          "mouse21_left",
          "mouse22_left",
          "mouse23_left",
          "mouse24_left",
          "mouse25_left",
          "mouse26_left",
          "mouse27_left",
          "mouse28_left",
          "mouse29_left",
          "mouse30_left",
          "mouse41_left",
          "mouse43_left",
          "mouse44_left",
          "mouse45_left",
          "mouse46_left",
          "mouse47_left",
          "mouse48_left",
          "mouse49_left"
         ],
         "legendgroup": "Pre",
         "marker": {
          "color": "#7f7f7f",
          "line": {
           "color": "black",
           "width": 0.3
          },
          "size": 4,
          "symbol": "circle"
         },
         "mode": "markers",
         "name": "Pre",
         "scene": "scene",
         "showlegend": true,
         "type": "scatter3d",
         "x": {
          "bdata": "nAcoQZr0IEGbmydBND0mQX3CK0FPRChB9/gkQXs0JkH57SdBQyQnQQciHkGGNB9BrRIaQYRiHEGdxiBBNj4fQafGGUFqQB5BUqcfQTtaIEHojhlB74MgQeCAHkH4SxtB5w0eQQatHUETGiRBV9QrQQ==",
          "dtype": "f4"
         },
         "y": {
          "bdata": "6H0YQagTB0F8xPZAR1UZQZhn90BRMgBBJM0PQavwE0EfCBtBXfIbQbTg90B1dvdAUgf9QCzKAUF9hxpBs5v7QLW49UB9ff5AOe4AQcTLHkGqBiNBg0gqQYIVLUFBiyVBWpUrQeyLKEHgTOxAXPTSQA==",
          "dtype": "f4"
         },
         "z": {
          "bdata": "BHuMQHC6v0AYOGpAc1uPQNfQbkANYIFAxgWpQI89n0CvQZNAzvOiQAx5SUD48WdA9NNTQBuyS0BG7KZAm4E9QNZZYUAlUj9AekLOQAijmUCzSLFA7f+dQPHtn0CPTaxAcMqgQKI+qkBLjnBAKK3RQA==",
          "dtype": "f4"
         }
        },
        {
         "customdata": {
          "bdata": "AgoCCwIMAg0CDgIPAhACEQISAhM=",
          "dtype": "i1",
          "shape": "10, 2"
         },
         "hovertemplate": "<b>%{hovertext}</b><br><br>ColorKey=C_postDLC<br>UMAP1=%{x}<br>UMAP2=%{y}<br>UMAP3=%{z}<br>Dataset=%{customdata[0]}<br>Mouse=%{customdata[1]}<extra></extra>",
         "hovertext": [
          "mouse21_left",
          "mouse22_left",
          "mouse23_left",
          "mouse24_left",
          "mouse25_left",
          "mouse26_left",
          "mouse27_left",
          "mouse28_left",
          "mouse29_left",
          "mouse30_left"
         ],
         "legendgroup": "C_postDLC",
         "marker": {
          "color": "#EF553B",
          "line": {
           "color": "black",
           "width": 0.3
          },
          "size": 4,
          "symbol": "circle"
         },
         "mode": "markers",
         "name": "C_postDLC",
         "scene": "scene",
         "showlegend": true,
         "type": "scatter3d",
         "x": {
          "bdata": "3qIfQeIdJEHqxSdBRW4jQRHNJ0EBsiBBfCQlQXULJUFFYyRBx5UkQQ==",
          "dtype": "f4"
         },
         "y": {
          "bdata": "w1zuQJag5kDmydpANKIBQaKSzEBvXvFAW8r0QHFW3kBy7OVAPfn6QA==",
          "dtype": "f4"
         },
         "z": {
          "bdata": "PergQN0v30Dadd9AjtDbQNFAsUDxLOtALlPqQM3K5kB9+utAfHviQA==",
          "dtype": "f4"
         }
        },
        {
         "customdata": {
          "bdata": "BBQEFQQWBBcEGAQZBBoEGwQcBB0=",
          "dtype": "i1",
          "shape": "10, 2"
         },
         "hovertemplate": "<b>%{hovertext}</b><br><br>ColorKey=E_postDLC<br>UMAP1=%{x}<br>UMAP2=%{y}<br>UMAP3=%{z}<br>Dataset=%{customdata[0]}<br>Mouse=%{customdata[1]}<extra></extra>",
         "hovertext": [
          "mouse41_left",
          "mouse42_left",
          "mouse43_left",
          "mouse44_left",
          "mouse45_left",
          "mouse46_left",
          "mouse47_left",
          "mouse48_left",
          "mouse49_left",
          "mouse50_left"
         ],
         "legendgroup": "E_postDLC",
         "marker": {
          "color": "#00CC96",
          "line": {
           "color": "black",
           "width": 0.3
          },
          "size": 4,
          "symbol": "circle"
         },
         "mode": "markers",
         "name": "E_postDLC",
         "scene": "scene",
         "showlegend": true,
         "type": "scatter3d",
         "x": {
          "bdata": "VIk1Qa31OUEuxzhB8L43QbsyO0FxIzxBwG8wQUrENEHaozpBsRw3QQ==",
          "dtype": "f4"
         },
         "y": {
          "bdata": "KtvOQOjSu0AvIrJAXczBQCKjsUCtcL5ASoTdQAcwu0DiKLRAaKi0QA==",
          "dtype": "f4"
         },
         "z": {
          "bdata": "S6i9QNPit0DfWbdA8ZytQOzbsUDGwa1AQbG8QDDFtEC8bcFAXLanQA==",
          "dtype": "f4"
         }
        },
        {
         "customdata": {
          "bdata": "AAAAAQACAAMABAAFAAYABwAIAAk=",
          "dtype": "i1",
          "shape": "10, 2"
         },
         "hovertemplate": "<b>%{hovertext}</b><br><br>DatasetName=B_postDLC<br>UMAP1=%{x}<br>UMAP2=%{y}<br>UMAP3=%{z}<br>Dataset=%{customdata[0]}<br>Mouse=%{customdata[1]}<extra></extra>",
         "hovertext": [
          "mouse11_left",
          "mouse12_left",
          "mouse13_left",
          "mouse14_left",
          "mouse15_left",
          "mouse16_left",
          "mouse17_left",
          "mouse18_left",
          "mouse19_left",
          "mouse20_left"
         ],
         "legendgroup": "B_postDLC",
         "marker": {
          "color": "#636EFA",
          "line": {
           "color": "black",
           "width": 0.3
          },
          "size": 4,
          "symbol": "circle"
         },
         "mode": "markers",
         "name": "B_postDLC",
         "scene": "scene2",
         "showlegend": true,
         "type": "scatter3d",
         "x": {
          "bdata": "Lq4oQUcaHEF1gixB0iAaQfcBF0F7cxdBOQgWQZ2sK0HfWhhBikkVQQ==",
          "dtype": "f4"
         },
         "y": {
          "bdata": "HlniQKr2B0GqwttAd0YNQWeIEkFbXQVB1QoUQcB50UCzTBFBuaYFQQ==",
          "dtype": "f4"
         },
         "z": {
          "bdata": "RfKKQG6kykCLhKpArWTZQPYe2kCuSstAOEvYQJ0so0BTlt1At/bGQA==",
          "dtype": "f4"
         }
        },
        {
         "customdata": {
          "bdata": "AQABAQECAQMBBAEFAQYBBwEIAQk=",
          "dtype": "i1",
          "shape": "10, 2"
         },
         "hovertemplate": "<b>%{hovertext}</b><br><br>DatasetName=B_preDLC<br>UMAP1=%{x}<br>UMAP2=%{y}<br>UMAP3=%{z}<br>Dataset=%{customdata[0]}<br>Mouse=%{customdata[1]}<extra></extra>",
         "hovertext": [
          "mouse11_left",
          "mouse12_left",
          "mouse13_left",
          "mouse14_left",
          "mouse15_left",
          "mouse16_left",
          "mouse17_left",
          "mouse18_left",
          "mouse19_left",
          "mouse20_left"
         ],
         "legendgroup": "B_preDLC",
         "marker": {
          "color": "#FFA15A",
          "line": {
           "color": "black",
           "width": 0.3
          },
          "size": 4,
          "symbol": "circle"
         },
         "mode": "markers",
         "name": "B_preDLC",
         "scene": "scene2",
         "showlegend": true,
         "type": "scatter3d",
         "x": {
          "bdata": "nAcoQZr0IEGbmydBND0mQX3CK0FPRChB9/gkQXs0JkH57SdBQyQnQQ==",
          "dtype": "f4"
         },
         "y": {
          "bdata": "6H0YQagTB0F8xPZAR1UZQZhn90BRMgBBJM0PQavwE0EfCBtBXfIbQQ==",
          "dtype": "f4"
         },
         "z": {
          "bdata": "BHuMQHC6v0AYOGpAc1uPQNfQbkANYIFAxgWpQI89n0CvQZNAzvOiQA==",
          "dtype": "f4"
         }
        },
        {
         "customdata": {
          "bdata": "AgoCCwIMAg0CDgIPAhACEQISAhM=",
          "dtype": "i1",
          "shape": "10, 2"
         },
         "hovertemplate": "<b>%{hovertext}</b><br><br>DatasetName=C_postDLC<br>UMAP1=%{x}<br>UMAP2=%{y}<br>UMAP3=%{z}<br>Dataset=%{customdata[0]}<br>Mouse=%{customdata[1]}<extra></extra>",
         "hovertext": [
          "mouse21_left",
          "mouse22_left",
          "mouse23_left",
          "mouse24_left",
          "mouse25_left",
          "mouse26_left",
          "mouse27_left",
          "mouse28_left",
          "mouse29_left",
          "mouse30_left"
         ],
         "legendgroup": "C_postDLC",
         "marker": {
          "color": "#EF553B",
          "line": {
           "color": "black",
           "width": 0.3
          },
          "size": 4,
          "symbol": "circle"
         },
         "mode": "markers",
         "name": "C_postDLC",
         "scene": "scene2",
         "showlegend": true,
         "type": "scatter3d",
         "x": {
          "bdata": "3qIfQeIdJEHqxSdBRW4jQRHNJ0EBsiBBfCQlQXULJUFFYyRBx5UkQQ==",
          "dtype": "f4"
         },
         "y": {
          "bdata": "w1zuQJag5kDmydpANKIBQaKSzEBvXvFAW8r0QHFW3kBy7OVAPfn6QA==",
          "dtype": "f4"
         },
         "z": {
          "bdata": "PergQN0v30Dadd9AjtDbQNFAsUDxLOtALlPqQM3K5kB9+utAfHviQA==",
          "dtype": "f4"
         }
        },
        {
         "customdata": {
          "bdata": "AwoDCwMMAw0DDgMPAxADEQMSAxM=",
          "dtype": "i1",
          "shape": "10, 2"
         },
         "hovertemplate": "<b>%{hovertext}</b><br><br>DatasetName=C_preDLC<br>UMAP1=%{x}<br>UMAP2=%{y}<br>UMAP3=%{z}<br>Dataset=%{customdata[0]}<br>Mouse=%{customdata[1]}<extra></extra>",
         "hovertext": [
          "mouse21_left",
          "mouse22_left",
          "mouse23_left",
          "mouse24_left",
          "mouse25_left",
          "mouse26_left",
          "mouse27_left",
          "mouse28_left",
          "mouse29_left",
          "mouse30_left"
         ],
         "legendgroup": "C_preDLC",
         "marker": {
          "color": "#19d3f3",
          "line": {
           "color": "black",
           "width": 0.3
          },
          "size": 4,
          "symbol": "circle"
         },
         "mode": "markers",
         "name": "C_preDLC",
         "scene": "scene2",
         "showlegend": true,
         "type": "scatter3d",
         "x": {
          "bdata": "ByIeQYY0H0GtEhpBhGIcQZ3GIEE2Ph9Bp8YZQWpAHkFSpx9BO1ogQQ==",
          "dtype": "f4"
         },
         "y": {
          "bdata": "tOD3QHV290BSB/1ALMoBQX2HGkGzm/tAtbj1QH19/kA57gBBxMseQQ==",
          "dtype": "f4"
         },
         "z": {
          "bdata": "DHlJQPjxZ0D001NAG7JLQEbspkCbgT1A1llhQCVSP0B6Qs5ACKOZQA==",
          "dtype": "f4"
         }
        },
        {
         "customdata": {
          "bdata": "BBQEFQQWBBcEGAQZBBoEGwQcBB0=",
          "dtype": "i1",
          "shape": "10, 2"
         },
         "hovertemplate": "<b>%{hovertext}</b><br><br>DatasetName=E_postDLC<br>UMAP1=%{x}<br>UMAP2=%{y}<br>UMAP3=%{z}<br>Dataset=%{customdata[0]}<br>Mouse=%{customdata[1]}<extra></extra>",
         "hovertext": [
          "mouse41_left",
          "mouse42_left",
          "mouse43_left",
          "mouse44_left",
          "mouse45_left",
          "mouse46_left",
          "mouse47_left",
          "mouse48_left",
          "mouse49_left",
          "mouse50_left"
         ],
         "legendgroup": "E_postDLC",
         "marker": {
          "color": "#00CC96",
          "line": {
           "color": "black",
           "width": 0.3
          },
          "size": 4,
          "symbol": "circle"
         },
         "mode": "markers",
         "name": "E_postDLC",
         "scene": "scene2",
         "showlegend": true,
         "type": "scatter3d",
         "x": {
          "bdata": "VIk1Qa31OUEuxzhB8L43QbsyO0FxIzxBwG8wQUrENEHaozpBsRw3QQ==",
          "dtype": "f4"
         },
         "y": {
          "bdata": "KtvOQOjSu0AvIrJAXczBQCKjsUCtcL5ASoTdQAcwu0DiKLRAaKi0QA==",
          "dtype": "f4"
         },
         "z": {
          "bdata": "S6i9QNPit0DfWbdA8ZytQOzbsUDGwa1AQbG8QDDFtEC8bcFAXLanQA==",
          "dtype": "f4"
         }
        },
        {
         "customdata": {
          "bdata": "BRQFFgUXBRgFGQUaBRsFHA==",
          "dtype": "i1",
          "shape": "8, 2"
         },
         "hovertemplate": "<b>%{hovertext}</b><br><br>DatasetName=E_preDLC<br>UMAP1=%{x}<br>UMAP2=%{y}<br>UMAP3=%{z}<br>Dataset=%{customdata[0]}<br>Mouse=%{customdata[1]}<extra></extra>",
         "hovertext": [
          "mouse41_left",
          "mouse43_left",
          "mouse44_left",
          "mouse45_left",
          "mouse46_left",
          "mouse47_left",
          "mouse48_left",
          "mouse49_left"
         ],
         "legendgroup": "E_preDLC",
         "marker": {
          "color": "#FF6692",
          "line": {
           "color": "black",
           "width": 0.3
          },
          "size": 4,
          "symbol": "circle"
         },
         "mode": "markers",
         "name": "E_preDLC",
         "scene": "scene2",
         "showlegend": true,
         "type": "scatter3d",
         "x": {
          "bdata": "6I4ZQe+DIEHggB5B+EsbQecNHkEGrR1BExokQVfUK0E=",
          "dtype": "f4"
         },
         "y": {
          "bdata": "qgYjQYNIKkGCFS1BQYslQVqVK0HsiyhB4EzsQFz00kA=",
          "dtype": "f4"
         },
         "z": {
          "bdata": "s0ixQO3/nUDx7Z9Aj02sQHDKoECiPqpAS45wQCit0UA=",
          "dtype": "f4"
         }
        }
       ],
       "layout": {
        "annotations": [
         {
          "font": {
           "size": 16
          },
          "showarrow": false,
          "text": "UMAP 3D — Pre vs Others",
          "x": 0.225,
          "xanchor": "center",
          "xref": "paper",
          "y": 1,
          "yanchor": "bottom",
          "yref": "paper"
         },
         {
          "font": {
           "size": 16
          },
          "showarrow": false,
          "text": "UMAP 3D — Each Dataset",
          "x": 0.775,
          "xanchor": "center",
          "xref": "paper",
          "y": 1,
          "yanchor": "bottom",
          "yref": "paper"
         }
        ],
        "height": 600,
        "legend": {
         "orientation": "v",
         "title": {
          "text": "Dataset"
         }
        },
        "margin": {
         "b": 0,
         "l": 0,
         "r": 0,
         "t": 60
        },
        "scene": {
         "aspectmode": "data",
         "domain": {
          "x": [
           0,
           0.45
          ],
          "y": [
           0,
           1
          ]
         }
        },
        "scene2": {
         "aspectmode": "data",
         "domain": {
          "x": [
           0.55,
           1
          ],
          "y": [
           0,
           1
          ]
         }
        },
        "showlegend": true,
        "template": {
         "data": {
          "bar": [
           {
            "error_x": {
             "color": "#2a3f5f"
            },
            "error_y": {
             "color": "#2a3f5f"
            },
            "marker": {
             "line": {
              "color": "#E5ECF6",
              "width": 0.5
             },
             "pattern": {
              "fillmode": "overlay",
              "size": 10,
              "solidity": 0.2
             }
            },
            "type": "bar"
           }
          ],
          "barpolar": [
           {
            "marker": {
             "line": {
              "color": "#E5ECF6",
              "width": 0.5
             },
             "pattern": {
              "fillmode": "overlay",
              "size": 10,
              "solidity": 0.2
             }
            },
            "type": "barpolar"
           }
          ],
          "carpet": [
           {
            "aaxis": {
             "endlinecolor": "#2a3f5f",
             "gridcolor": "white",
             "linecolor": "white",
             "minorgridcolor": "white",
             "startlinecolor": "#2a3f5f"
            },
            "baxis": {
             "endlinecolor": "#2a3f5f",
             "gridcolor": "white",
             "linecolor": "white",
             "minorgridcolor": "white",
             "startlinecolor": "#2a3f5f"
            },
            "type": "carpet"
           }
          ],
          "choropleth": [
           {
            "colorbar": {
             "outlinewidth": 0,
             "ticks": ""
            },
            "type": "choropleth"
           }
          ],
          "contour": [
           {
            "colorbar": {
             "outlinewidth": 0,
             "ticks": ""
            },
            "colorscale": [
             [
              0,
              "#0d0887"
             ],
             [
              0.1111111111111111,
              "#46039f"
             ],
             [
              0.2222222222222222,
              "#7201a8"
             ],
             [
              0.3333333333333333,
              "#9c179e"
             ],
             [
              0.4444444444444444,
              "#bd3786"
             ],
             [
              0.5555555555555556,
              "#d8576b"
             ],
             [
              0.6666666666666666,
              "#ed7953"
             ],
             [
              0.7777777777777778,
              "#fb9f3a"
             ],
             [
              0.8888888888888888,
              "#fdca26"
             ],
             [
              1,
              "#f0f921"
             ]
            ],
            "type": "contour"
           }
          ],
          "contourcarpet": [
           {
            "colorbar": {
             "outlinewidth": 0,
             "ticks": ""
            },
            "type": "contourcarpet"
           }
          ],
          "heatmap": [
           {
            "colorbar": {
             "outlinewidth": 0,
             "ticks": ""
            },
            "colorscale": [
             [
              0,
              "#0d0887"
             ],
             [
              0.1111111111111111,
              "#46039f"
             ],
             [
              0.2222222222222222,
              "#7201a8"
             ],
             [
              0.3333333333333333,
              "#9c179e"
             ],
             [
              0.4444444444444444,
              "#bd3786"
             ],
             [
              0.5555555555555556,
              "#d8576b"
             ],
             [
              0.6666666666666666,
              "#ed7953"
             ],
             [
              0.7777777777777778,
              "#fb9f3a"
             ],
             [
              0.8888888888888888,
              "#fdca26"
             ],
             [
              1,
              "#f0f921"
             ]
            ],
            "type": "heatmap"
           }
          ],
          "histogram": [
           {
            "marker": {
             "pattern": {
              "fillmode": "overlay",
              "size": 10,
              "solidity": 0.2
             }
            },
            "type": "histogram"
           }
          ],
          "histogram2d": [
           {
            "colorbar": {
             "outlinewidth": 0,
             "ticks": ""
            },
            "colorscale": [
             [
              0,
              "#0d0887"
             ],
             [
              0.1111111111111111,
              "#46039f"
             ],
             [
              0.2222222222222222,
              "#7201a8"
             ],
             [
              0.3333333333333333,
              "#9c179e"
             ],
             [
              0.4444444444444444,
              "#bd3786"
             ],
             [
              0.5555555555555556,
              "#d8576b"
             ],
             [
              0.6666666666666666,
              "#ed7953"
             ],
             [
              0.7777777777777778,
              "#fb9f3a"
             ],
             [
              0.8888888888888888,
              "#fdca26"
             ],
             [
              1,
              "#f0f921"
             ]
            ],
            "type": "histogram2d"
           }
          ],
          "histogram2dcontour": [
           {
            "colorbar": {
             "outlinewidth": 0,
             "ticks": ""
            },
            "colorscale": [
             [
              0,
              "#0d0887"
             ],
             [
              0.1111111111111111,
              "#46039f"
             ],
             [
              0.2222222222222222,
              "#7201a8"
             ],
             [
              0.3333333333333333,
              "#9c179e"
             ],
             [
              0.4444444444444444,
              "#bd3786"
             ],
             [
              0.5555555555555556,
              "#d8576b"
             ],
             [
              0.6666666666666666,
              "#ed7953"
             ],
             [
              0.7777777777777778,
              "#fb9f3a"
             ],
             [
              0.8888888888888888,
              "#fdca26"
             ],
             [
              1,
              "#f0f921"
             ]
            ],
            "type": "histogram2dcontour"
           }
          ],
          "mesh3d": [
           {
            "colorbar": {
             "outlinewidth": 0,
             "ticks": ""
            },
            "type": "mesh3d"
           }
          ],
          "parcoords": [
           {
            "line": {
             "colorbar": {
              "outlinewidth": 0,
              "ticks": ""
             }
            },
            "type": "parcoords"
           }
          ],
          "pie": [
           {
            "automargin": true,
            "type": "pie"
           }
          ],
          "scatter": [
           {
            "fillpattern": {
             "fillmode": "overlay",
             "size": 10,
             "solidity": 0.2
            },
            "type": "scatter"
           }
          ],
          "scatter3d": [
           {
            "line": {
             "colorbar": {
              "outlinewidth": 0,
              "ticks": ""
             }
            },
            "marker": {
             "colorbar": {
              "outlinewidth": 0,
              "ticks": ""
             }
            },
            "type": "scatter3d"
           }
          ],
          "scattercarpet": [
           {
            "marker": {
             "colorbar": {
              "outlinewidth": 0,
              "ticks": ""
             }
            },
            "type": "scattercarpet"
           }
          ],
          "scattergeo": [
           {
            "marker": {
             "colorbar": {
              "outlinewidth": 0,
              "ticks": ""
             }
            },
            "type": "scattergeo"
           }
          ],
          "scattergl": [
           {
            "marker": {
             "colorbar": {
              "outlinewidth": 0,
              "ticks": ""
             }
            },
            "type": "scattergl"
           }
          ],
          "scattermap": [
           {
            "marker": {
             "colorbar": {
              "outlinewidth": 0,
              "ticks": ""
             }
            },
            "type": "scattermap"
           }
          ],
          "scattermapbox": [
           {
            "marker": {
             "colorbar": {
              "outlinewidth": 0,
              "ticks": ""
             }
            },
            "type": "scattermapbox"
           }
          ],
          "scatterpolar": [
           {
            "marker": {
             "colorbar": {
              "outlinewidth": 0,
              "ticks": ""
             }
            },
            "type": "scatterpolar"
           }
          ],
          "scatterpolargl": [
           {
            "marker": {
             "colorbar": {
              "outlinewidth": 0,
              "ticks": ""
             }
            },
            "type": "scatterpolargl"
           }
          ],
          "scatterternary": [
           {
            "marker": {
             "colorbar": {
              "outlinewidth": 0,
              "ticks": ""
             }
            },
            "type": "scatterternary"
           }
          ],
          "surface": [
           {
            "colorbar": {
             "outlinewidth": 0,
             "ticks": ""
            },
            "colorscale": [
             [
              0,
              "#0d0887"
             ],
             [
              0.1111111111111111,
              "#46039f"
             ],
             [
              0.2222222222222222,
              "#7201a8"
             ],
             [
              0.3333333333333333,
              "#9c179e"
             ],
             [
              0.4444444444444444,
              "#bd3786"
             ],
             [
              0.5555555555555556,
              "#d8576b"
             ],
             [
              0.6666666666666666,
              "#ed7953"
             ],
             [
              0.7777777777777778,
              "#fb9f3a"
             ],
             [
              0.8888888888888888,
              "#fdca26"
             ],
             [
              1,
              "#f0f921"
             ]
            ],
            "type": "surface"
           }
          ],
          "table": [
           {
            "cells": {
             "fill": {
              "color": "#EBF0F8"
             },
             "line": {
              "color": "white"
             }
            },
            "header": {
             "fill": {
              "color": "#C8D4E3"
             },
             "line": {
              "color": "white"
             }
            },
            "type": "table"
           }
          ]
         },
         "layout": {
          "annotationdefaults": {
           "arrowcolor": "#2a3f5f",
           "arrowhead": 0,
           "arrowwidth": 1
          },
          "autotypenumbers": "strict",
          "coloraxis": {
           "colorbar": {
            "outlinewidth": 0,
            "ticks": ""
           }
          },
          "colorscale": {
           "diverging": [
            [
             0,
             "#8e0152"
            ],
            [
             0.1,
             "#c51b7d"
            ],
            [
             0.2,
             "#de77ae"
            ],
            [
             0.3,
             "#f1b6da"
            ],
            [
             0.4,
             "#fde0ef"
            ],
            [
             0.5,
             "#f7f7f7"
            ],
            [
             0.6,
             "#e6f5d0"
            ],
            [
             0.7,
             "#b8e186"
            ],
            [
             0.8,
             "#7fbc41"
            ],
            [
             0.9,
             "#4d9221"
            ],
            [
             1,
             "#276419"
            ]
           ],
           "sequential": [
            [
             0,
             "#0d0887"
            ],
            [
             0.1111111111111111,
             "#46039f"
            ],
            [
             0.2222222222222222,
             "#7201a8"
            ],
            [
             0.3333333333333333,
             "#9c179e"
            ],
            [
             0.4444444444444444,
             "#bd3786"
            ],
            [
             0.5555555555555556,
             "#d8576b"
            ],
            [
             0.6666666666666666,
             "#ed7953"
            ],
            [
             0.7777777777777778,
             "#fb9f3a"
            ],
            [
             0.8888888888888888,
             "#fdca26"
            ],
            [
             1,
             "#f0f921"
            ]
           ],
           "sequentialminus": [
            [
             0,
             "#0d0887"
            ],
            [
             0.1111111111111111,
             "#46039f"
            ],
            [
             0.2222222222222222,
             "#7201a8"
            ],
            [
             0.3333333333333333,
             "#9c179e"
            ],
            [
             0.4444444444444444,
             "#bd3786"
            ],
            [
             0.5555555555555556,
             "#d8576b"
            ],
            [
             0.6666666666666666,
             "#ed7953"
            ],
            [
             0.7777777777777778,
             "#fb9f3a"
            ],
            [
             0.8888888888888888,
             "#fdca26"
            ],
            [
             1,
             "#f0f921"
            ]
           ]
          },
          "colorway": [
           "#636efa",
           "#EF553B",
           "#00cc96",
           "#ab63fa",
           "#FFA15A",
           "#19d3f3",
           "#FF6692",
           "#B6E880",
           "#FF97FF",
           "#FECB52"
          ],
          "font": {
           "color": "#2a3f5f"
          },
          "geo": {
           "bgcolor": "white",
           "lakecolor": "white",
           "landcolor": "#E5ECF6",
           "showlakes": true,
           "showland": true,
           "subunitcolor": "white"
          },
          "hoverlabel": {
           "align": "left"
          },
          "hovermode": "closest",
          "mapbox": {
           "style": "light"
          },
          "paper_bgcolor": "white",
          "plot_bgcolor": "#E5ECF6",
          "polar": {
           "angularaxis": {
            "gridcolor": "white",
            "linecolor": "white",
            "ticks": ""
           },
           "bgcolor": "#E5ECF6",
           "radialaxis": {
            "gridcolor": "white",
            "linecolor": "white",
            "ticks": ""
           }
          },
          "scene": {
           "xaxis": {
            "backgroundcolor": "#E5ECF6",
            "gridcolor": "white",
            "gridwidth": 2,
            "linecolor": "white",
            "showbackground": true,
            "ticks": "",
            "zerolinecolor": "white"
           },
           "yaxis": {
            "backgroundcolor": "#E5ECF6",
            "gridcolor": "white",
            "gridwidth": 2,
            "linecolor": "white",
            "showbackground": true,
            "ticks": "",
            "zerolinecolor": "white"
           },
           "zaxis": {
            "backgroundcolor": "#E5ECF6",
            "gridcolor": "white",
            "gridwidth": 2,
            "linecolor": "white",
            "showbackground": true,
            "ticks": "",
            "zerolinecolor": "white"
           }
          },
          "shapedefaults": {
           "line": {
            "color": "#2a3f5f"
           }
          },
          "ternary": {
           "aaxis": {
            "gridcolor": "white",
            "linecolor": "white",
            "ticks": ""
           },
           "baxis": {
            "gridcolor": "white",
            "linecolor": "white",
            "ticks": ""
           },
           "bgcolor": "#E5ECF6",
           "caxis": {
            "gridcolor": "white",
            "linecolor": "white",
            "ticks": ""
           }
          },
          "title": {
           "x": 0.05
          },
          "xaxis": {
           "automargin": true,
           "gridcolor": "white",
           "linecolor": "white",
           "ticks": "",
           "title": {
            "standoff": 15
           },
           "zerolinecolor": "white",
           "zerolinewidth": 2
          },
          "yaxis": {
           "automargin": true,
           "gridcolor": "white",
           "linecolor": "white",
           "ticks": "",
           "title": {
            "standoff": 15
           },
           "zerolinecolor": "white",
           "zerolinewidth": 2
          }
         }
        },
        "width": 1100
       }
      }
     },
     "metadata": {},
     "output_type": "display_data"
    }
   ],
   "source": [
    "### Plotting UMAP in 3D -> 573 features total\n",
    "umap_plot_df[\"DatasetName\"] = umap_plot_df[\"Dataset\"].map(dataset_label_map)\n",
    "umap_plot_df[\"MouseName\"]   = umap_plot_df[\"Mouse\"].map(mouse_label_map)\n",
    "\n",
    "# --- Build a consistent color map ---\n",
    "fixed_color = \"#7f7f7f\"  # gray for Pre\n",
    "all_names = sorted(umap_plot_df[\"DatasetName\"].unique())\n",
    "\n",
    "# Non-Pre datasets get distinct colors from a qualitative palette\n",
    "palette = px.colors.qualitative.Plotly  # or px.colors.qualitative.Set3, etc.\n",
    "non_pre = [n for n in all_names if \"pre\" not in n.lower()]\n",
    "\n",
    "color_map = {\"Pre\": fixed_color}\n",
    "color_map.update({name: palette[i % len(palette)] for i, name in enumerate(non_pre)})\n",
    "\n",
    "# Color key: collapse anything containing \"pre\" to \"Pre\", keep others as-is\n",
    "umap_plot_df[\"ColorKey\"] = umap_plot_df[\"DatasetName\"].apply(\n",
    "    lambda x: \"Pre\" if \"pre\" in x.lower() else x\n",
    ")\n",
    "\n",
    "# --- Build the two px figures using the SAME color map ---\n",
    "fig_left = px.scatter_3d(\n",
    "    umap_plot_df,\n",
    "    x=\"UMAP1\", y=\"UMAP2\", z=\"UMAP3\",\n",
    "    color=\"ColorKey\",\n",
    "    hover_name=\"MouseName\",\n",
    "    hover_data={\"Dataset\": True, \"Mouse\": True},\n",
    "    title=\"UMAP 3D — Pre vs Others\",\n",
    "    color_discrete_map=color_map\n",
    ")\n",
    "fig_left.update_traces(marker=dict(size=4, line=dict(width=0.3, color='black')),\n",
    "                       selector=dict(mode='markers'))\n",
    "\n",
    "fig_right = px.scatter_3d(\n",
    "    umap_plot_df,\n",
    "    x=\"UMAP1\", y=\"UMAP2\", z=\"UMAP3\",\n",
    "    color=\"DatasetName\",\n",
    "    hover_name=\"MouseName\",\n",
    "    hover_data={\"Dataset\": True, \"Mouse\": True},\n",
    "    title=\"UMAP 3D — Each Dataset\",\n",
    "    color_discrete_map=color_map\n",
    ")\n",
    "fig_right.update_traces(marker=dict(size=4, line=dict(width=0.3, color='black')),\n",
    "                        selector=dict(mode='markers'))\n",
    "\n",
    "# --- Put them side by side with shared legend ---\n",
    "combo = make_subplots(rows=1, cols=2,\n",
    "                      specs=[[{\"type\": \"scene\"}, {\"type\": \"scene\"}]],\n",
    "                      subplot_titles=(fig_left.layout.title.text, fig_right.layout.title.text))\n",
    "\n",
    "for tr in fig_left.data:\n",
    "    combo.add_trace(tr, row=1, col=1)\n",
    "for tr in fig_right.data:\n",
    "    combo.add_trace(tr, row=1, col=2)\n",
    "\n",
    "# Layout tweaks: one legend, equal aspect, tidy margins\n",
    "combo.update_layout(\n",
    "    showlegend=True,\n",
    "    legend=dict(title=\"Dataset\", orientation=\"v\"),\n",
    "    scene=dict(aspectmode=\"data\"),\n",
    "    scene2=dict(aspectmode=\"data\"),\n",
    "    margin=dict(l=0, r=0, t=60, b=0),\n",
    "    height=600, width=1100\n",
    ")\n",
    "\n",
    "combo.show()\n",
    "combo.write_html(os.path.join('./', 'umap_reduced_features_no_at.html'))"
   ]
  },
  {
   "cell_type": "code",
   "execution_count": 193,
   "id": "2c284ce3",
   "metadata": {},
   "outputs": [],
   "source": [
    "def plot_features_list_across_groups(feature_list, feature_subsets, limb='hindlimb', \n",
    "                                     max_cols=4, groups=['A_', 'B_', 'C_', 'D_', 'E_'], \n",
    "                                     states=['healthy', 'sick'], sides=['left', 'right']):\n",
    "    \"\"\"\n",
    "    Plot a given list of exact feature names across all groups for a given limb.\n",
    "    \"\"\"\n",
    "    data_subsets = feature_subsets[limb]\n",
    "    matched_features = [f for f in feature_list if any(f in df.columns for df in data_subsets.values())]\n",
    "\n",
    "    if not matched_features:\n",
    "        print(\"No matching features found in the data.\")\n",
    "        return\n",
    "    \n",
    "    if 'ALL_' in groups:\n",
    "        # Merge the relevant sick groups (excluding D and E)\n",
    "        all_sick = pd.concat([\n",
    "            feature_subsets[limb]['sick_left_B_run'],\n",
    "            feature_subsets[limb]['sick_left_C_run']\n",
    "        ], ignore_index=True)\n",
    "        all_healthy = pd.concat([\n",
    "            feature_subsets[limb]['healthy_left_E_run'],\n",
    "            feature_subsets[limb]['healthy_left_B_run'],\n",
    "            feature_subsets[limb]['healthy_left_C_run']\n",
    "        ], ignore_index=True)\n",
    "        feature_subsets[limb]['sick_left_ALL_run'] = all_sick\n",
    "        feature_subsets[limb]['healthy_left_ALL_run'] = all_healthy\n",
    "\n",
    "    num_features = len(matched_features)\n",
    "    rows = (num_features + max_cols - 1) // max_cols\n",
    "    cols = min(num_features, max_cols)\n",
    "\n",
    "    palette = px.colors.qualitative.Plotly\n",
    "    subplot_titles = [\n",
    "        f.replace('Mean', '').replace('- rhindlimb - ', '').strip()\n",
    "        for f in matched_features\n",
    "    ]\n",
    "\n",
    "    fig = make_subplots(rows=rows, cols=cols, subplot_titles=subplot_titles)\n",
    "\n",
    "    for idx, feature in enumerate(matched_features):\n",
    "        row = idx // max_cols + 1\n",
    "        col = idx % max_cols + 1\n",
    "\n",
    "        group_means, group_stds, group_names, group_points = [], [], [], []\n",
    "\n",
    "        for name, df in data_subsets.items():\n",
    "            if feature not in df.columns:\n",
    "                continue\n",
    "            if not any(side in name.lower() for side in sides):\n",
    "                continue\n",
    "            if not (any(g in name for g in groups) and any(s in name for s in states)):\n",
    "                continue\n",
    "\n",
    "            values = df[feature].dropna()\n",
    "            if len(values) == 0:\n",
    "                continue\n",
    "\n",
    "            group_means.append(values.mean())\n",
    "            group_stds.append(values.std())\n",
    "            group_names.append(name)\n",
    "            group_points.append(values)\n",
    "\n",
    "        if not group_names:\n",
    "            continue\n",
    "\n",
    "        bar_colors = [palette[i % len(palette)] for i in range(len(group_names))]\n",
    "\n",
    "        # Bar with error bars\n",
    "        fig.add_trace(\n",
    "            go.Bar(\n",
    "                x=group_names,\n",
    "                y=group_means,\n",
    "                error_y=dict(type='data', array=group_stds, visible=True),\n",
    "                name=feature,\n",
    "                marker=dict(\n",
    "                    color=bar_colors,\n",
    "                    line=dict(color='black', width=1)\n",
    "                )\n",
    "            ),\n",
    "            row=row, col=col\n",
    "        )\n",
    "\n",
    "        # Scatter points\n",
    "        for i, (group, values) in enumerate(zip(group_names, group_points)):\n",
    "            fig.add_trace(\n",
    "                go.Scatter(\n",
    "                    x=[group] * len(values),\n",
    "                    y=values,\n",
    "                    mode='markers',\n",
    "                    marker=dict(size=6, opacity=0.5, color='black'),\n",
    "                    showlegend=False\n",
    "                ),\n",
    "                row=row, col=col\n",
    "            )\n",
    "\n",
    "    fig.update_layout(\n",
    "        title=\"Selected Features Across Groups\",\n",
    "        showlegend=False,\n",
    "        height=500 * rows,\n",
    "        width=400 * cols,\n",
    "        plot_bgcolor='rgba(0,0,0,0)'\n",
    "    )\n",
    "    return fig"
   ]
  },
  {
   "cell_type": "code",
   "execution_count": 204,
   "id": "9f7546e9",
   "metadata": {},
   "outputs": [
    {
     "name": "stdout",
     "output_type": "stream",
     "text": [
      "Number of features: 235\n",
      "Number of significant features that describe the lesion effect: 36\n",
      "Number selected lesion features affected by the treatment: 14\n",
      "Lesion features affected by the treatment:\n",
      "                                              feature  importance  \\\n",
      "0        Mean angle excursion - rhindlimb - ankle (°)    0.057061   \n",
      "4        Mean phase excursion - rhindlimb - ankle (°)    0.029125   \n",
      "7   Mean step acceleration X during stance - ankle...    0.023246   \n",
      "17  Mean step velocity Y during stance - lHindpaw ...    0.010543   \n",
      "8   Mean step acceleration X during stance - lHind...    0.020669   \n",
      "\n",
      "    change_score  change_effect_size  combined_rank          direction  \n",
      "0      -7.819830           -0.895282       0.051085  away_from_healthy  \n",
      "4      -6.268268           -0.812637       0.023668  away_from_healthy  \n",
      "7       0.270241            0.570418       0.013260    towards_healthy  \n",
      "17      0.005243            0.939606       0.009906    towards_healthy  \n",
      "8       0.231552            0.408394       0.008441    towards_healthy  \n",
      "Number of features going towards healthy: 10\n",
      "['Mean step acceleration X during stance - ankle (m/s^2)', 'Mean step velocity Y during stance - lHindpaw (m/s)', 'Mean step acceleration X during stance - lHindpaw (m/s^2)', 'Mean step acceleration Y during swing - ankle (m/s^2)', 'Mean step acceleration Y during stance - ankle (m/s^2)', 'Mean step jerk Y during stance - lHindfingers (m/s^3)', 'Mean step acceleration X during stance - knee (m/s^2)', 'Mean step acceleration X during stance - lHindfingers (m/s^2)', 'Mean step jerk Y during swing - lHindfingers (m/s^3)', 'Mean step acceleration X during swing - lHindpaw (m/s^2)']\n",
      "Number of features worsening: 4\n",
      "['Mean angle excursion - rhindlimb - ankle (°)', 'Mean phase excursion - rhindlimb - ankle (°)', 'Mean step velocity X during stance - lHindpaw (m/s)', 'Mean step velocity X during stance - lHindfingers (m/s)']\n",
      "\n",
      "Number of significant features affected by the treatment: 64\n",
      "Number of selected features that are not pathological: 16\n",
      "Non-pathological features:                                                feature  importance  \\\n",
      "62    Mean step velocity X during stance - ankle (m/s)    0.003772   \n",
      "75     Mean step velocity X during stance - knee (m/s)    0.003253   \n",
      "102  Mean step acceleration Y during swing - hip (m...    0.002328   \n",
      "171  Mean angle excursion - rhindlimb - lHindfinger...    0.001207   \n",
      "190      Mean step jerk Y during swing - ankle (m/s^3)    0.000963   \n",
      "\n",
      "     change_score  change_effect_size  combined_rank          direction  \n",
      "62      -0.025349           -0.822963       0.003104  away_from_healthy  \n",
      "75      -0.024852           -0.667444       0.002171  away_from_healthy  \n",
      "102     -0.177235           -0.849358       0.001977  away_from_healthy  \n",
      "171    -11.444365           -0.922243       0.001113  away_from_healthy  \n",
      "190    -21.311649           -1.056652       0.001018  away_from_healthy  \n",
      "Number of features going towards healthy: 1\n",
      "['Mean step jerk Y during stance - lHindpaw (m/s^3)']\n",
      "Number of features worsening: 15\n",
      "['Mean step velocity X during stance - ankle (m/s)', 'Mean step velocity X during stance - knee (m/s)', 'Mean step acceleration Y during swing - hip (m/s^2)', 'Mean angle excursion - rhindlimb - lHindfingers (°)', 'Mean step jerk Y during swing - ankle (m/s^3)', 'Mean step jerk Y during stance - ankle (m/s^3)', 'Mean step jerk Y during swing - hip (m/s^3)', 'Mean phase excursion - rhindlimb - lHindpaw (°)', 'Mean angle excursion - rhindlimb - lHindpaw (°)', 'Mean step length (m)', 'Mean step velocity X during swing - lHindfingers (m/s)', 'Mean step acceleration Y during stance - hip (m/s^2)', 'Mean step velocity X during swing - lHindpaw (m/s)', 'Mean step velocity X during stance - hip (m/s)', 'Mean step velocity X during swing - ankle (m/s)']\n",
      "dict_keys(['healthy_left_A_run', 'healthy_right_A_run', 'sick_left_A_run', 'sick_right_A_run', 'healthy_left_B_run', 'healthy_right_B_run', 'sick_left_B_run', 'sick_right_B_run', 'healthy_left_C_run', 'healthy_right_C_run', 'sick_left_C_run', 'sick_right_C_run', 'healthy_left_D_run', 'healthy_right_D_run', 'sick_left_D_run', 'sick_right_D_run', 'healthy_left_E_run', 'healthy_right_E_run', 'sick_left_E_run', 'sick_right_E_run', 'sick_left_ALL_run', 'healthy_left_ALL_run'])\n"
     ]
    },
    {
     "data": {
      "application/vnd.plotly.v1+json": {
       "config": {
        "plotlyServerURL": "https://plot.ly"
       },
       "data": [
        {
         "error_y": {
          "array": [
           8.462546459432629,
           9.042078561820315
          ],
          "type": "data",
          "visible": true
         },
         "marker": {
          "color": [
           "#636EFA",
           "#EF553B"
          ],
          "line": {
           "color": "black",
           "width": 1
          }
         },
         "name": "Mean angle excursion - rhindlimb - ankle (°)",
         "type": "bar",
         "x": [
          "sick_left_C_run",
          "healthy_left_ALL_run"
         ],
         "xaxis": "x",
         "y": [
          67.16117215641357,
          86.97533253623452
         ],
         "yaxis": "y"
        },
        {
         "marker": {
          "color": "black",
          "opacity": 0.5,
          "size": 6
         },
         "mode": "markers",
         "showlegend": false,
         "type": "scatter",
         "x": [
          "sick_left_C_run",
          "sick_left_C_run",
          "sick_left_C_run",
          "sick_left_C_run",
          "sick_left_C_run",
          "sick_left_C_run",
          "sick_left_C_run",
          "sick_left_C_run",
          "sick_left_C_run",
          "sick_left_C_run"
         ],
         "xaxis": "x",
         "y": {
          "bdata": "RHtPbeztUEAL6cvhLclPQPuH9LaGSE1A4hV35MzMVUDHMoAOo0VOQJjdsqL3UlBAup7DO71TUkCDOyyXaHxNQOUXFrg71VBAHHmqapxGUUA=",
          "dtype": "f8"
         },
         "yaxis": "y"
        },
        {
         "marker": {
          "color": "black",
          "opacity": 0.5,
          "size": 6
         },
         "mode": "markers",
         "showlegend": false,
         "type": "scatter",
         "x": [
          "healthy_left_ALL_run",
          "healthy_left_ALL_run",
          "healthy_left_ALL_run",
          "healthy_left_ALL_run",
          "healthy_left_ALL_run",
          "healthy_left_ALL_run",
          "healthy_left_ALL_run",
          "healthy_left_ALL_run",
          "healthy_left_ALL_run",
          "healthy_left_ALL_run",
          "healthy_left_ALL_run",
          "healthy_left_ALL_run",
          "healthy_left_ALL_run",
          "healthy_left_ALL_run",
          "healthy_left_ALL_run",
          "healthy_left_ALL_run",
          "healthy_left_ALL_run",
          "healthy_left_ALL_run",
          "healthy_left_ALL_run",
          "healthy_left_ALL_run",
          "healthy_left_ALL_run",
          "healthy_left_ALL_run",
          "healthy_left_ALL_run",
          "healthy_left_ALL_run",
          "healthy_left_ALL_run",
          "healthy_left_ALL_run",
          "healthy_left_ALL_run",
          "healthy_left_ALL_run"
         ],
         "xaxis": "x",
         "y": {
          "bdata": "9GxGg3HXVUDp54yGqBhZQGvDtyt261hA6dkr6PerVEAqrGswEJVYQHchNPttJldAjEHGKEYaVkA0ZMB6oBxTQA0PqLDpa1dABdD/WKWeVUAd5KZXcDVXQNh93IM81VhAkcX1ubwOVEABGQsN10hUQNpaXvj4H1ZAX7L3rxOEVkB5yl25CFVYQJ5f2uqn+1VAHSvtcMVJT0BYrFZ/QgVSQJjV3qW7y1NAFqlBZrGDVEBiGRR3uDJWQDdZ14AOllZALeiKgQNAVEDV0FBaS7dTQJSVO+8yMFRAjrjk03YOWEA=",
          "dtype": "f8"
         },
         "yaxis": "y"
        },
        {
         "error_y": {
          "array": [
           8.153817089158382,
           8.248761386300457
          ],
          "type": "data",
          "visible": true
         },
         "marker": {
          "color": [
           "#636EFA",
           "#EF553B"
          ],
          "line": {
           "color": "black",
           "width": 1
          }
         },
         "name": "Mean phase excursion - rhindlimb - ankle (°)",
         "type": "bar",
         "x": [
          "sick_left_C_run",
          "healthy_left_ALL_run"
         ],
         "xaxis": "x2",
         "y": [
          102.84154582103035,
          115.91906742379281
         ],
         "yaxis": "y2"
        },
        {
         "marker": {
          "color": "black",
          "opacity": 0.5,
          "size": 6
         },
         "mode": "markers",
         "showlegend": false,
         "type": "scatter",
         "x": [
          "sick_left_C_run",
          "sick_left_C_run",
          "sick_left_C_run",
          "sick_left_C_run",
          "sick_left_C_run",
          "sick_left_C_run",
          "sick_left_C_run",
          "sick_left_C_run",
          "sick_left_C_run",
          "sick_left_C_run"
         ],
         "xaxis": "x2",
         "y": {
          "bdata": "/gEcMgzPWUCYKcVsU+1YQMdHTDNJFFhATUTk8KtqXUAin5M4ia9XQCeYmzlSw1tAtYCwdJIGW0CItL5wrKVWQCT5vPylNFlAnGmbxoGLWkA=",
          "dtype": "f8"
         },
         "yaxis": "y2"
        },
        {
         "marker": {
          "color": "black",
          "opacity": 0.5,
          "size": 6
         },
         "mode": "markers",
         "showlegend": false,
         "type": "scatter",
         "x": [
          "healthy_left_ALL_run",
          "healthy_left_ALL_run",
          "healthy_left_ALL_run",
          "healthy_left_ALL_run",
          "healthy_left_ALL_run",
          "healthy_left_ALL_run",
          "healthy_left_ALL_run",
          "healthy_left_ALL_run",
          "healthy_left_ALL_run",
          "healthy_left_ALL_run",
          "healthy_left_ALL_run",
          "healthy_left_ALL_run",
          "healthy_left_ALL_run",
          "healthy_left_ALL_run",
          "healthy_left_ALL_run",
          "healthy_left_ALL_run",
          "healthy_left_ALL_run",
          "healthy_left_ALL_run",
          "healthy_left_ALL_run",
          "healthy_left_ALL_run",
          "healthy_left_ALL_run",
          "healthy_left_ALL_run",
          "healthy_left_ALL_run",
          "healthy_left_ALL_run",
          "healthy_left_ALL_run",
          "healthy_left_ALL_run",
          "healthy_left_ALL_run",
          "healthy_left_ALL_run"
         ],
         "xaxis": "x2",
         "y": {
          "bdata": "nElDJMeBW0AS6VQ+eilgQL2+Q6UJLl5AO8pkuXZ8XkCfiXdrl69eQB1tWbOQU15AJwxpHjPsWkBSN1jwlytYQIPODVOGZF9A5DgrmE66XEBJFKcfNMddQAvHiys/M2BAzdTUKDU2WUA/VNTHOW1cQOBW70/HK11ALDN+bCGdXEBFRycUAhpeQLl8e48lwF1AU24XO/NtWUCK1+dV4KxaQLNRAIuQxFxAkFLdaa5hXEC/SufqHR1dQJxqIsL9zl1AJKQ6t/k4XUCUjwpZAspbQK9pTNqJAlxA0mm/A4cHYEA=",
          "dtype": "f8"
         },
         "yaxis": "y2"
        },
        {
         "error_y": {
          "array": [
           0.3800644863341583,
           0.5352697422628441
          ],
          "type": "data",
          "visible": true
         },
         "marker": {
          "color": [
           "#636EFA",
           "#EF553B"
          ],
          "line": {
           "color": "black",
           "width": 1
          }
         },
         "name": "Mean step acceleration X during stance - ankle (m/s^2)",
         "type": "bar",
         "x": [
          "sick_left_C_run",
          "healthy_left_ALL_run"
         ],
         "xaxis": "x3",
         "y": [
          1.0956321631045398,
          0.49621017300365805
         ],
         "yaxis": "y3"
        },
        {
         "marker": {
          "color": "black",
          "opacity": 0.5,
          "size": 6
         },
         "mode": "markers",
         "showlegend": false,
         "type": "scatter",
         "x": [
          "sick_left_C_run",
          "sick_left_C_run",
          "sick_left_C_run",
          "sick_left_C_run",
          "sick_left_C_run",
          "sick_left_C_run",
          "sick_left_C_run",
          "sick_left_C_run",
          "sick_left_C_run",
          "sick_left_C_run"
         ],
         "xaxis": "x3",
         "y": {
          "bdata": "pEuDUpky5z/cL1zZlLrxPy5YCazpsPU/8/mZgI314j9MuFF4GmD2Pz33ztieGfo/Od1eP1+f8T9S1AkU1VPuP3nj89sgP/g/iXlgB8SW4j8=",
          "dtype": "f8"
         },
         "yaxis": "y3"
        },
        {
         "marker": {
          "color": "black",
          "opacity": 0.5,
          "size": 6
         },
         "mode": "markers",
         "showlegend": false,
         "type": "scatter",
         "x": [
          "healthy_left_ALL_run",
          "healthy_left_ALL_run",
          "healthy_left_ALL_run",
          "healthy_left_ALL_run",
          "healthy_left_ALL_run",
          "healthy_left_ALL_run",
          "healthy_left_ALL_run",
          "healthy_left_ALL_run",
          "healthy_left_ALL_run",
          "healthy_left_ALL_run",
          "healthy_left_ALL_run",
          "healthy_left_ALL_run",
          "healthy_left_ALL_run",
          "healthy_left_ALL_run",
          "healthy_left_ALL_run",
          "healthy_left_ALL_run",
          "healthy_left_ALL_run",
          "healthy_left_ALL_run",
          "healthy_left_ALL_run",
          "healthy_left_ALL_run",
          "healthy_left_ALL_run",
          "healthy_left_ALL_run",
          "healthy_left_ALL_run",
          "healthy_left_ALL_run",
          "healthy_left_ALL_run",
          "healthy_left_ALL_run",
          "healthy_left_ALL_run",
          "healthy_left_ALL_run"
         ],
         "xaxis": "x3",
         "y": {
          "bdata": "lGpRVQgN4b84heOtVyXDP7dD5Iu02q+/w8u0v0n2078l9NH+bsTvP77ttNm7ceA/U/29/BbX7D/1wZfYW17nPyfDNpaOKuQ/ZUGuKPCq9T/BCF9oHP3VP4bdALPEJcw/dwggmpli6L/nNgJkyo/qPyeYz0ZasJ4/VRFAL82J8z8M5wsVeHPYPxSSQF0bavI/qch5H5V/6T8eKVCnum/pP3j1TQG1U/M/oktLEh1/3z+VS4XQ+UXgP15OCBLoese/klWlR16/6j8GRy+yUHPfP7fVlVztV+o/JhoUSNwg1j8=",
          "dtype": "f8"
         },
         "yaxis": "y3"
        },
        {
         "error_y": {
          "array": [
           0.0038498516974238258,
           0.005193353740274021
          ],
          "type": "data",
          "visible": true
         },
         "marker": {
          "color": [
           "#636EFA",
           "#EF553B"
          ],
          "line": {
           "color": "black",
           "width": 1
          }
         },
         "name": "Mean step velocity Y during stance - lHindpaw (m/s)",
         "type": "bar",
         "x": [
          "sick_left_C_run",
          "healthy_left_ALL_run"
         ],
         "xaxis": "x4",
         "y": [
          0.02227544641615619,
          0.018817421271283108
         ],
         "yaxis": "y4"
        },
        {
         "marker": {
          "color": "black",
          "opacity": 0.5,
          "size": 6
         },
         "mode": "markers",
         "showlegend": false,
         "type": "scatter",
         "x": [
          "sick_left_C_run",
          "sick_left_C_run",
          "sick_left_C_run",
          "sick_left_C_run",
          "sick_left_C_run",
          "sick_left_C_run",
          "sick_left_C_run",
          "sick_left_C_run",
          "sick_left_C_run",
          "sick_left_C_run"
         ],
         "xaxis": "x4",
         "y": {
          "bdata": "Aq5MUutgmT/9tXjkldaVP9TqzbWSdJc/nXoSYZCekT9Id4VssvuUP8IeRvUEWZ8/zb1Con+HlT94Mq/vYu2TP402DaDAEZo/3xICKcDzkz8=",
          "dtype": "f8"
         },
         "yaxis": "y4"
        },
        {
         "marker": {
          "color": "black",
          "opacity": 0.5,
          "size": 6
         },
         "mode": "markers",
         "showlegend": false,
         "type": "scatter",
         "x": [
          "healthy_left_ALL_run",
          "healthy_left_ALL_run",
          "healthy_left_ALL_run",
          "healthy_left_ALL_run",
          "healthy_left_ALL_run",
          "healthy_left_ALL_run",
          "healthy_left_ALL_run",
          "healthy_left_ALL_run",
          "healthy_left_ALL_run",
          "healthy_left_ALL_run",
          "healthy_left_ALL_run",
          "healthy_left_ALL_run",
          "healthy_left_ALL_run",
          "healthy_left_ALL_run",
          "healthy_left_ALL_run",
          "healthy_left_ALL_run",
          "healthy_left_ALL_run",
          "healthy_left_ALL_run",
          "healthy_left_ALL_run",
          "healthy_left_ALL_run",
          "healthy_left_ALL_run",
          "healthy_left_ALL_run",
          "healthy_left_ALL_run",
          "healthy_left_ALL_run",
          "healthy_left_ALL_run",
          "healthy_left_ALL_run",
          "healthy_left_ALL_run",
          "healthy_left_ALL_run"
         ],
         "xaxis": "x4",
         "y": {
          "bdata": "aQUMTVbSmj9oNFuO/L6IP0IqAsFPeok/Gbrr4K4BlT9VQRfdKh+SP6l9D5QVuJc/5nDnG5ACjj+rqfNOiqCMP88pDI4DapM/tw+QSvTBlT+r6rgceMqLP+M6F05VT5A/+TmEvnynhD8QrISnhfyTP45xybzWKJU/CkPz7GUUmj9gqyLniPqUP+YD0uTHBqA/cOVw28eekj8GUgr11eiKP9ww3bq8qpg/xEscX1hwkj93MOHaQVSdP5RVIDeNypQ/HSGLDgXRkD8YAXKsVeuNP7bYNSn9B48/CP0WXRjhlD8=",
          "dtype": "f8"
         },
         "yaxis": "y4"
        },
        {
         "error_y": {
          "array": [
           0.2974904788180556,
           0.6509798073920906
          ],
          "type": "data",
          "visible": true
         },
         "marker": {
          "color": [
           "#636EFA",
           "#EF553B"
          ],
          "line": {
           "color": "black",
           "width": 1
          }
         },
         "name": "Mean step acceleration X during stance - lHindpaw (m/s^2)",
         "type": "bar",
         "x": [
          "sick_left_C_run",
          "healthy_left_ALL_run"
         ],
         "xaxis": "x5",
         "y": [
          0.8899979639866865,
          0.22502970673146366
         ],
         "yaxis": "y5"
        },
        {
         "marker": {
          "color": "black",
          "opacity": 0.5,
          "size": 6
         },
         "mode": "markers",
         "showlegend": false,
         "type": "scatter",
         "x": [
          "sick_left_C_run",
          "sick_left_C_run",
          "sick_left_C_run",
          "sick_left_C_run",
          "sick_left_C_run",
          "sick_left_C_run",
          "sick_left_C_run",
          "sick_left_C_run",
          "sick_left_C_run",
          "sick_left_C_run"
         ],
         "xaxis": "x5",
         "y": {
          "bdata": "YKWTm4gK6D/d7+0CIQXwPzR3TcH6o+o/AoTeVIDF0j/x1d7Dwtv0P9Xzkm/QmPM/z2H+4A1v6z/PPYN/HkPmP/Ltldh2h/I/cBtMFNwG6T8=",
          "dtype": "f8"
         },
         "yaxis": "y5"
        },
        {
         "marker": {
          "color": "black",
          "opacity": 0.5,
          "size": 6
         },
         "mode": "markers",
         "showlegend": false,
         "type": "scatter",
         "x": [
          "healthy_left_ALL_run",
          "healthy_left_ALL_run",
          "healthy_left_ALL_run",
          "healthy_left_ALL_run",
          "healthy_left_ALL_run",
          "healthy_left_ALL_run",
          "healthy_left_ALL_run",
          "healthy_left_ALL_run",
          "healthy_left_ALL_run",
          "healthy_left_ALL_run",
          "healthy_left_ALL_run",
          "healthy_left_ALL_run",
          "healthy_left_ALL_run",
          "healthy_left_ALL_run",
          "healthy_left_ALL_run",
          "healthy_left_ALL_run",
          "healthy_left_ALL_run",
          "healthy_left_ALL_run",
          "healthy_left_ALL_run",
          "healthy_left_ALL_run",
          "healthy_left_ALL_run",
          "healthy_left_ALL_run",
          "healthy_left_ALL_run",
          "healthy_left_ALL_run",
          "healthy_left_ALL_run",
          "healthy_left_ALL_run",
          "healthy_left_ALL_run",
          "healthy_left_ALL_run"
         ],
         "xaxis": "x5",
         "y": {
          "bdata": "FkL3kaWI8r8w4s3mLtLUv7Doocv5X8W/O+6034Lb6b/cGYiscpTvP8l1aLvSvc6/qFjHSFpF7j/31Q7ZNaLaP6Zke6TbdM0/ZPDKVaoj7T+B61xcgCLCP48pY0uZzNa/Ar3QC7Xh9L8CEWCFI0HnP0zVChIpc8E/ZSRAar+b6D+VLH0D6tqeP5BeiZQhQ98/JOXmKGKr4z9io4ZW7ZTqP5pLcVtrZvY/TkGUZh4K6D8khdIsSnqxv9xv+kAFjdO/X1f868QX5D/vtUYYf3HhP1upWzoZYdY/SGer0MUWwT8=",
          "dtype": "f8"
         },
         "yaxis": "y5"
        },
        {
         "error_y": {
          "array": [
           0.3554870585114895,
           0.34499428795580733
          ],
          "type": "data",
          "visible": true
         },
         "marker": {
          "color": [
           "#636EFA",
           "#EF553B"
          ],
          "line": {
           "color": "black",
           "width": 1
          }
         },
         "name": "Mean step acceleration Y during swing - ankle (m/s^2)",
         "type": "bar",
         "x": [
          "sick_left_C_run",
          "healthy_left_ALL_run"
         ],
         "xaxis": "x6",
         "y": [
          -1.27848435667555,
          -0.8590894607794558
         ],
         "yaxis": "y6"
        },
        {
         "marker": {
          "color": "black",
          "opacity": 0.5,
          "size": 6
         },
         "mode": "markers",
         "showlegend": false,
         "type": "scatter",
         "x": [
          "sick_left_C_run",
          "sick_left_C_run",
          "sick_left_C_run",
          "sick_left_C_run",
          "sick_left_C_run",
          "sick_left_C_run",
          "sick_left_C_run",
          "sick_left_C_run",
          "sick_left_C_run",
          "sick_left_C_run"
         ],
         "xaxis": "x6",
         "y": {
          "bdata": "5TPlvLd29r9EVtvKsBXxvwmx+cxOmfy/BAddKfQF6L82fpYydG/1v/Pq5yMoWv2/1mOfHRi68b+Zsctw9OT1v1Pkx+b/f/S/VNhB17v66r8=",
          "dtype": "f8"
         },
         "yaxis": "y6"
        },
        {
         "marker": {
          "color": "black",
          "opacity": 0.5,
          "size": 6
         },
         "mode": "markers",
         "showlegend": false,
         "type": "scatter",
         "x": [
          "healthy_left_ALL_run",
          "healthy_left_ALL_run",
          "healthy_left_ALL_run",
          "healthy_left_ALL_run",
          "healthy_left_ALL_run",
          "healthy_left_ALL_run",
          "healthy_left_ALL_run",
          "healthy_left_ALL_run",
          "healthy_left_ALL_run",
          "healthy_left_ALL_run",
          "healthy_left_ALL_run",
          "healthy_left_ALL_run",
          "healthy_left_ALL_run",
          "healthy_left_ALL_run",
          "healthy_left_ALL_run",
          "healthy_left_ALL_run",
          "healthy_left_ALL_run",
          "healthy_left_ALL_run",
          "healthy_left_ALL_run",
          "healthy_left_ALL_run",
          "healthy_left_ALL_run",
          "healthy_left_ALL_run",
          "healthy_left_ALL_run",
          "healthy_left_ALL_run",
          "healthy_left_ALL_run",
          "healthy_left_ALL_run",
          "healthy_left_ALL_run",
          "healthy_left_ALL_run"
         ],
         "xaxis": "x6",
         "y": {
          "bdata": "2NgMofs8878Cd2PPOWzovwEmU49XP9S/JVurfs9u6b/0XPDiIkHmv1odUnBIE+y/3pZK9inl7b+fcKsR1lj4v/EzP3JGHum/Bbyc2yMW7r+2dCu6ZXjPvyZFtEjuMu+/Cq6GkuD1979j+6jQCyLcv7Nx4VHnL/i/fRgrwho85r/Shs6EYhf1v5xsi3YNvO2/mcpx9MLr6r8KYcy7yYLlv09H7qtQ+tK///jVih/j679cSxhxxzLzv0tBcFylBeW/5UnllMn+6L+ePTbydyTivyF56rEin/C/QN5zmA765b8=",
          "dtype": "f8"
         },
         "yaxis": "y6"
        },
        {
         "error_y": {
          "array": [
           0.008055118342744074,
           0.016088371548762307
          ],
          "type": "data",
          "visible": true
         },
         "marker": {
          "color": [
           "#636EFA",
           "#EF553B"
          ],
          "line": {
           "color": "black",
           "width": 1
          }
         },
         "name": "Mean step velocity X during stance - lHindpaw (m/s)",
         "type": "bar",
         "x": [
          "sick_left_C_run",
          "healthy_left_ALL_run"
         ],
         "xaxis": "x7",
         "y": [
          0.03041741850414652,
          0.04870789712348935
         ],
         "yaxis": "y7"
        },
        {
         "marker": {
          "color": "black",
          "opacity": 0.5,
          "size": 6
         },
         "mode": "markers",
         "showlegend": false,
         "type": "scatter",
         "x": [
          "sick_left_C_run",
          "sick_left_C_run",
          "sick_left_C_run",
          "sick_left_C_run",
          "sick_left_C_run",
          "sick_left_C_run",
          "sick_left_C_run",
          "sick_left_C_run",
          "sick_left_C_run",
          "sick_left_C_run"
         ],
         "xaxis": "x7",
         "y": {
          "bdata": "rJwoCipKlj8P1+V6/vaWP0D4yqA0DqQ/0kn6GGGqmz91ZjxvxImXP5SLSE0rCJ8/IdLZ29HjpD/20++rmFaYP96WoIJmm6U/Wp+Q/0FFoT8=",
          "dtype": "f8"
         },
         "yaxis": "y7"
        },
        {
         "marker": {
          "color": "black",
          "opacity": 0.5,
          "size": 6
         },
         "mode": "markers",
         "showlegend": false,
         "type": "scatter",
         "x": [
          "healthy_left_ALL_run",
          "healthy_left_ALL_run",
          "healthy_left_ALL_run",
          "healthy_left_ALL_run",
          "healthy_left_ALL_run",
          "healthy_left_ALL_run",
          "healthy_left_ALL_run",
          "healthy_left_ALL_run",
          "healthy_left_ALL_run",
          "healthy_left_ALL_run",
          "healthy_left_ALL_run",
          "healthy_left_ALL_run",
          "healthy_left_ALL_run",
          "healthy_left_ALL_run",
          "healthy_left_ALL_run",
          "healthy_left_ALL_run",
          "healthy_left_ALL_run",
          "healthy_left_ALL_run",
          "healthy_left_ALL_run",
          "healthy_left_ALL_run",
          "healthy_left_ALL_run",
          "healthy_left_ALL_run",
          "healthy_left_ALL_run",
          "healthy_left_ALL_run",
          "healthy_left_ALL_run",
          "healthy_left_ALL_run",
          "healthy_left_ALL_run",
          "healthy_left_ALL_run"
         ],
         "xaxis": "x7",
         "y": {
          "bdata": "d4PADOaotD96PxLWMy2nP9ErvYtz9Jw/GsbnUqmprj+5VrnZkommP7iVGQS1iKk/n6GhE5HBlj+HMNAo9jqkP5g8NTJxCaE/iB1RD6DDrz/pTEnQ7ZKiPw49B1bAEqo/TjdtJ3qVqT8nPfH3bJyiPw2+jtN8d7E/zk4j2XCMrj93DEkZTYClP1Ax7SOhU7Q/PAoRbXsTnj8x+nww09OgP5biHojKSq8/3yHVOhKWpj/cWDxP1By0P21hMIEA56U/xF29xPerrD+85XxAkyWcP2D6AxfHV6Y/SO5KvJm4rj8=",
          "dtype": "f8"
         },
         "yaxis": "y7"
        },
        {
         "error_y": {
          "array": [
           0.3555175472637415,
           0.2811447099867
          ],
          "type": "data",
          "visible": true
         },
         "marker": {
          "color": [
           "#636EFA",
           "#EF553B"
          ],
          "line": {
           "color": "black",
           "width": 1
          }
         },
         "name": "Mean step acceleration Y during stance - ankle (m/s^2)",
         "type": "bar",
         "x": [
          "sick_left_C_run",
          "healthy_left_ALL_run"
         ],
         "xaxis": "x8",
         "y": [
          1.0185063720185759,
          0.599577375944616
         ],
         "yaxis": "y8"
        },
        {
         "marker": {
          "color": "black",
          "opacity": 0.5,
          "size": 6
         },
         "mode": "markers",
         "showlegend": false,
         "type": "scatter",
         "x": [
          "sick_left_C_run",
          "sick_left_C_run",
          "sick_left_C_run",
          "sick_left_C_run",
          "sick_left_C_run",
          "sick_left_C_run",
          "sick_left_C_run",
          "sick_left_C_run",
          "sick_left_C_run",
          "sick_left_C_run"
         ],
         "xaxis": "x8",
         "y": {
          "bdata": "W9XQzxvj9D8X6nKzY4jrP8Q+DhdsUPg/zoDWjgjz3T9D/RiQyufvP4dz9GQ6y/c/LBcljs1Q5T8W/kMGOKbwP08cqWglg/I/R3SeMUvh5T8=",
          "dtype": "f8"
         },
         "yaxis": "y8"
        },
        {
         "marker": {
          "color": "black",
          "opacity": 0.5,
          "size": 6
         },
         "mode": "markers",
         "showlegend": false,
         "type": "scatter",
         "x": [
          "healthy_left_ALL_run",
          "healthy_left_ALL_run",
          "healthy_left_ALL_run",
          "healthy_left_ALL_run",
          "healthy_left_ALL_run",
          "healthy_left_ALL_run",
          "healthy_left_ALL_run",
          "healthy_left_ALL_run",
          "healthy_left_ALL_run",
          "healthy_left_ALL_run",
          "healthy_left_ALL_run",
          "healthy_left_ALL_run",
          "healthy_left_ALL_run",
          "healthy_left_ALL_run",
          "healthy_left_ALL_run",
          "healthy_left_ALL_run",
          "healthy_left_ALL_run",
          "healthy_left_ALL_run",
          "healthy_left_ALL_run",
          "healthy_left_ALL_run",
          "healthy_left_ALL_run",
          "healthy_left_ALL_run",
          "healthy_left_ALL_run",
          "healthy_left_ALL_run",
          "healthy_left_ALL_run",
          "healthy_left_ALL_run",
          "healthy_left_ALL_run",
          "healthy_left_ALL_run"
         ],
         "xaxis": "x8",
         "y": {
          "bdata": "cemK3OfR5j/nAqFAMLvQP/FU6xGVxLg/JM7GFG0q5T89TcEVg9PnPzpfwGnnIuU/HEaJpts64z/NDCpB3KD3PzCLmBmkkd4/feZ1Kt2c5j8OzyzoN3jUP8I+HZp6vuE/ISelhY1H5j9rP0j7tUPSPzOZCywMKfE/f/MoJmUl4T/9oZIKlMPoP6yfaYBoEeo/9+qTF/Ta5T/xeSw0acPdP8v0QdpL5Mw/xqnwTDA32j/VThMKiLXqPzkvYzktY94/qyV2eS7q3T86R85hSg3SP72gqmZiRek/i/DdCXGD5j8=",
          "dtype": "f8"
         },
         "yaxis": "y8"
        },
        {
         "error_y": {
          "array": [
           0.006676885592443129,
           0.011972793562370599
          ],
          "type": "data",
          "visible": true
         },
         "marker": {
          "color": [
           "#636EFA",
           "#EF553B"
          ],
          "line": {
           "color": "black",
           "width": 1
          }
         },
         "name": "Mean step velocity X during stance - lHindfingers (m/s)",
         "type": "bar",
         "x": [
          "sick_left_C_run",
          "healthy_left_ALL_run"
         ],
         "xaxis": "x9",
         "y": [
          0.009761771212497442,
          0.026008821867151387
         ],
         "yaxis": "y9"
        },
        {
         "marker": {
          "color": "black",
          "opacity": 0.5,
          "size": 6
         },
         "mode": "markers",
         "showlegend": false,
         "type": "scatter",
         "x": [
          "sick_left_C_run",
          "sick_left_C_run",
          "sick_left_C_run",
          "sick_left_C_run",
          "sick_left_C_run",
          "sick_left_C_run",
          "sick_left_C_run",
          "sick_left_C_run",
          "sick_left_C_run",
          "sick_left_C_run"
         ],
         "xaxis": "x9",
         "y": {
          "bdata": "QsJJt1cHWT/UDrRcIgd5PxtPJ1++fo0/YrW9bjkFdj/EAt90KdB9P9xYJRkkBoQ/llq+XLAJlT9lG98eiN5TP1qJ5WEQuZI/f3Yw+GjWij8=",
          "dtype": "f8"
         },
         "yaxis": "y9"
        },
        {
         "marker": {
          "color": "black",
          "opacity": 0.5,
          "size": 6
         },
         "mode": "markers",
         "showlegend": false,
         "type": "scatter",
         "x": [
          "healthy_left_ALL_run",
          "healthy_left_ALL_run",
          "healthy_left_ALL_run",
          "healthy_left_ALL_run",
          "healthy_left_ALL_run",
          "healthy_left_ALL_run",
          "healthy_left_ALL_run",
          "healthy_left_ALL_run",
          "healthy_left_ALL_run",
          "healthy_left_ALL_run",
          "healthy_left_ALL_run",
          "healthy_left_ALL_run",
          "healthy_left_ALL_run",
          "healthy_left_ALL_run",
          "healthy_left_ALL_run",
          "healthy_left_ALL_run",
          "healthy_left_ALL_run",
          "healthy_left_ALL_run",
          "healthy_left_ALL_run",
          "healthy_left_ALL_run",
          "healthy_left_ALL_run",
          "healthy_left_ALL_run",
          "healthy_left_ALL_run",
          "healthy_left_ALL_run",
          "healthy_left_ALL_run",
          "healthy_left_ALL_run",
          "healthy_left_ALL_run",
          "healthy_left_ALL_run"
         ],
         "xaxis": "x9",
         "y": {
          "bdata": "FacFvVY6qj9AqdA19CGWP+Pwz5Gc8YM/502+hVRXoD82vqKJXR6QPwp0INpNd5Q/+9pfi+U+eD+vmPR6TBKTP1JrxjlG3pA/ZBMGwGc/oz8QM96Jk7KTP1yMXvCUlJ0/l2597ysPoT+4H/Ccf2WQP2CMcIvTSqc/37YYyOMBnz+FGjXaPzKYP9Wb8GwTUqU/GEum/2NWjD8QUPonm7aQP3jg2hyQ4qM/il+OWWQPmD+LvDGju4qmP0/6iP/TdZM/AcuMSvCMoT9CCF6RhUWEPwe/ucQW8Jg/AvIghLbfoj8=",
          "dtype": "f8"
         },
         "yaxis": "y9"
        },
        {
         "error_y": {
          "array": [
           25.631634908396258,
           20.685424697965587
          ],
          "type": "data",
          "visible": true
         },
         "marker": {
          "color": [
           "#636EFA",
           "#EF553B"
          ],
          "line": {
           "color": "black",
           "width": 1
          }
         },
         "name": "Mean step jerk Y during stance - lHindfingers (m/s^3)",
         "type": "bar",
         "x": [
          "sick_left_C_run",
          "healthy_left_ALL_run"
         ],
         "xaxis": "x10",
         "y": [
          -20.63404270999218,
          -0.2284812954924535
         ],
         "yaxis": "y10"
        },
        {
         "marker": {
          "color": "black",
          "opacity": 0.5,
          "size": 6
         },
         "mode": "markers",
         "showlegend": false,
         "type": "scatter",
         "x": [
          "sick_left_C_run",
          "sick_left_C_run",
          "sick_left_C_run",
          "sick_left_C_run",
          "sick_left_C_run",
          "sick_left_C_run",
          "sick_left_C_run",
          "sick_left_C_run",
          "sick_left_C_run",
          "sick_left_C_run"
         ],
         "xaxis": "x10",
         "y": {
          "bdata": "8CYE9TY1LsBl1nEhw1Y3wKQPEN+Hvvg/zTVeAiKWH8CeNJCjJ/0wwHFGKZmfgFbAcfEK2qT2LMCT8iASz4UzwMDhKhB2Mv6/8/cDtDioMsA=",
          "dtype": "f8"
         },
         "yaxis": "y10"
        },
        {
         "marker": {
          "color": "black",
          "opacity": 0.5,
          "size": 6
         },
         "mode": "markers",
         "showlegend": false,
         "type": "scatter",
         "x": [
          "healthy_left_ALL_run",
          "healthy_left_ALL_run",
          "healthy_left_ALL_run",
          "healthy_left_ALL_run",
          "healthy_left_ALL_run",
          "healthy_left_ALL_run",
          "healthy_left_ALL_run",
          "healthy_left_ALL_run",
          "healthy_left_ALL_run",
          "healthy_left_ALL_run",
          "healthy_left_ALL_run",
          "healthy_left_ALL_run",
          "healthy_left_ALL_run",
          "healthy_left_ALL_run",
          "healthy_left_ALL_run",
          "healthy_left_ALL_run",
          "healthy_left_ALL_run",
          "healthy_left_ALL_run",
          "healthy_left_ALL_run",
          "healthy_left_ALL_run",
          "healthy_left_ALL_run",
          "healthy_left_ALL_run",
          "healthy_left_ALL_run",
          "healthy_left_ALL_run",
          "healthy_left_ALL_run",
          "healthy_left_ALL_run",
          "healthy_left_ALL_run",
          "healthy_left_ALL_run"
         ],
         "xaxis": "x10",
         "y": {
          "bdata": "od7KoD6wScBKAamoDN0mwH3zgm4AuAfAZuWH8jBr7b+lw6FJlecwwEssOBbeoxrAlHaDAfzqE0CFOXDptXk4QKDE52ZyUDPA7XXWULyIOsDzgHOVmOjWP3tj1LbHfTrAF5dv+YYyREDvTBDxWs/3PyW6/o5FtSlAw3QSTu9SHkBx25lwkUoywNPKMfIAMkBALwvCSs5CDEDsRfycuUQ0QHVR0n8lHCJAw8hkUjVHNEBMyNL+G+8hQGm6oG84PgLAiZ7GWIY2G0DI1baD+q2+P9zggOzkADRAkjI3vpBjQsA=",
          "dtype": "f8"
         },
         "yaxis": "y10"
        },
        {
         "error_y": {
          "array": [
           0.2885314935620354,
           0.603146211758628
          ],
          "type": "data",
          "visible": true
         },
         "marker": {
          "color": [
           "#636EFA",
           "#EF553B"
          ],
          "line": {
           "color": "black",
           "width": 1
          }
         },
         "name": "Mean step acceleration X during stance - knee (m/s^2)",
         "type": "bar",
         "x": [
          "sick_left_C_run",
          "healthy_left_ALL_run"
         ],
         "xaxis": "x11",
         "y": [
          0.45586650280681856,
          -0.06393116145474324
         ],
         "yaxis": "y11"
        },
        {
         "marker": {
          "color": "black",
          "opacity": 0.5,
          "size": 6
         },
         "mode": "markers",
         "showlegend": false,
         "type": "scatter",
         "x": [
          "sick_left_C_run",
          "sick_left_C_run",
          "sick_left_C_run",
          "sick_left_C_run",
          "sick_left_C_run",
          "sick_left_C_run",
          "sick_left_C_run",
          "sick_left_C_run",
          "sick_left_C_run",
          "sick_left_C_run"
         ],
         "xaxis": "x11",
         "y": {
          "bdata": "DfJiEaUlzT91z4zr68jaP0ytzj/51Ow/anIwB3OEvD+K/B5/0zPnP0wcC4aeNOg/7yHE3Iie1T+H7RdckHHgP81NyVLvhOE/M3u6uw/fkz8=",
          "dtype": "f8"
         },
         "yaxis": "y11"
        },
        {
         "marker": {
          "color": "black",
          "opacity": 0.5,
          "size": 6
         },
         "mode": "markers",
         "showlegend": false,
         "type": "scatter",
         "x": [
          "healthy_left_ALL_run",
          "healthy_left_ALL_run",
          "healthy_left_ALL_run",
          "healthy_left_ALL_run",
          "healthy_left_ALL_run",
          "healthy_left_ALL_run",
          "healthy_left_ALL_run",
          "healthy_left_ALL_run",
          "healthy_left_ALL_run",
          "healthy_left_ALL_run",
          "healthy_left_ALL_run",
          "healthy_left_ALL_run",
          "healthy_left_ALL_run",
          "healthy_left_ALL_run",
          "healthy_left_ALL_run",
          "healthy_left_ALL_run",
          "healthy_left_ALL_run",
          "healthy_left_ALL_run",
          "healthy_left_ALL_run",
          "healthy_left_ALL_run",
          "healthy_left_ALL_run",
          "healthy_left_ALL_run",
          "healthy_left_ALL_run",
          "healthy_left_ALL_run",
          "healthy_left_ALL_run",
          "healthy_left_ALL_run",
          "healthy_left_ALL_run",
          "healthy_left_ALL_run"
         ],
         "xaxis": "x11",
         "y": {
          "bdata": "B0DSadw0AMA2X2g/o8rFv0kDcBXVxNW/dSl9Bn5g9b9YEKw0EQaAP7ZbBEptxsK/vQ1dXHEW4D92oqa9flTTP+Yep5gOWtA/L9YoT8wq0T/XvwMA5Wuxv+bFq4JDv6W/dvEYj+eU7L9cX6iy2gbaP26D0GgMAua/8TEjqZTQ2z8+LJ9UajulP7eYgNan0uM/A9+p/VMzxj/WEIpkTlnSPxBq0vTy4Mw/8Yl7jx+Jyz9bQEmwdnzfvzopi+g/IuW/K/Mlg4Q10j/3KYOYrQjfP9qLMPWIidg/WRc9Oi0axz8=",
          "dtype": "f8"
         },
         "yaxis": "y11"
        },
        {
         "error_y": {
          "array": [
           0.2972035035418705,
           0.7036843042997821
          ],
          "type": "data",
          "visible": true
         },
         "marker": {
          "color": [
           "#636EFA",
           "#EF553B"
          ],
          "line": {
           "color": "black",
           "width": 1
          }
         },
         "name": "Mean step acceleration X during stance - lHindfingers (m/s^2)",
         "type": "bar",
         "x": [
          "sick_left_C_run",
          "healthy_left_ALL_run"
         ],
         "xaxis": "x12",
         "y": [
          0.5546392792918341,
          -0.06090666505625335
         ],
         "yaxis": "y12"
        },
        {
         "marker": {
          "color": "black",
          "opacity": 0.5,
          "size": 6
         },
         "mode": "markers",
         "showlegend": false,
         "type": "scatter",
         "x": [
          "sick_left_C_run",
          "sick_left_C_run",
          "sick_left_C_run",
          "sick_left_C_run",
          "sick_left_C_run",
          "sick_left_C_run",
          "sick_left_C_run",
          "sick_left_C_run",
          "sick_left_C_run",
          "sick_left_C_run"
         ],
         "xaxis": "x12",
         "y": {
          "bdata": "SP2mBh/L1T/CguGmwVHvP0g1wxsgWdI/Hg8Iv+jwxz94ZQMwl1TtP92wLgDA8u0/8Us62A4R5T+rZNb7lZDgP9T0p3YR8dY/ues3K9l01z8=",
          "dtype": "f8"
         },
         "yaxis": "y12"
        },
        {
         "marker": {
          "color": "black",
          "opacity": 0.5,
          "size": 6
         },
         "mode": "markers",
         "showlegend": false,
         "type": "scatter",
         "x": [
          "healthy_left_ALL_run",
          "healthy_left_ALL_run",
          "healthy_left_ALL_run",
          "healthy_left_ALL_run",
          "healthy_left_ALL_run",
          "healthy_left_ALL_run",
          "healthy_left_ALL_run",
          "healthy_left_ALL_run",
          "healthy_left_ALL_run",
          "healthy_left_ALL_run",
          "healthy_left_ALL_run",
          "healthy_left_ALL_run",
          "healthy_left_ALL_run",
          "healthy_left_ALL_run",
          "healthy_left_ALL_run",
          "healthy_left_ALL_run",
          "healthy_left_ALL_run",
          "healthy_left_ALL_run",
          "healthy_left_ALL_run",
          "healthy_left_ALL_run",
          "healthy_left_ALL_run",
          "healthy_left_ALL_run",
          "healthy_left_ALL_run",
          "healthy_left_ALL_run",
          "healthy_left_ALL_run",
          "healthy_left_ALL_run",
          "healthy_left_ALL_run",
          "healthy_left_ALL_run"
         ],
         "xaxis": "x12",
         "y": {
          "bdata": "sdpTVw62/L/qO2lIAWndv5BhQtJxg9e/3xR+iqlT9b8JP1kDq+nbP8jWW4k5GOC/p1w6Bc1J5z8SBKW4XtSiv7sua+LAuZ6/Jyved56V5T/8UdmEuku2v1BjjjnmUM6/WP3VX7/o9r+E2R4lqtHdP+C3l8XmEbO/X8QJMDbt3D+rUJrzLOK3P53HtsuVobk/mbuOIRXS1z9HfNXDoAzkP4P0xL69rfE/mkUVsA5s5z9V6bq5wIbvv1BXs4I/neS/d1fzbanS1T8d2Kx7yp3ZP7WoOCeBYcQ/5VxqcDkU2r8=",
          "dtype": "f8"
         },
         "yaxis": "y12"
        },
        {
         "error_y": {
          "array": [
           23.352733562042243,
           24.104316491478073
          ],
          "type": "data",
          "visible": true
         },
         "marker": {
          "color": [
           "#636EFA",
           "#EF553B"
          ],
          "line": {
           "color": "black",
           "width": 1
          }
         },
         "name": "Mean step jerk Y during swing - lHindfingers (m/s^3)",
         "type": "bar",
         "x": [
          "sick_left_C_run",
          "healthy_left_ALL_run"
         ],
         "xaxis": "x13",
         "y": [
          7.328020273056379,
          -15.22473638158117
         ],
         "yaxis": "y13"
        },
        {
         "marker": {
          "color": "black",
          "opacity": 0.5,
          "size": 6
         },
         "mode": "markers",
         "showlegend": false,
         "type": "scatter",
         "x": [
          "sick_left_C_run",
          "sick_left_C_run",
          "sick_left_C_run",
          "sick_left_C_run",
          "sick_left_C_run",
          "sick_left_C_run",
          "sick_left_C_run",
          "sick_left_C_run",
          "sick_left_C_run",
          "sick_left_C_run"
         ],
         "xaxis": "x13",
         "y": {
          "bdata": "I9y+lwxcC8CBqaEHLZA3QLU53AhZHTTAGW7koDIaMcB47Ob/zM0zQFpeTD053UxAzkD0ZrSFIsAL3f+Y6MEyQPDpVZ0NKO2/IaPgfjjyEEA=",
          "dtype": "f8"
         },
         "yaxis": "y13"
        },
        {
         "marker": {
          "color": "black",
          "opacity": 0.5,
          "size": 6
         },
         "mode": "markers",
         "showlegend": false,
         "type": "scatter",
         "x": [
          "healthy_left_ALL_run",
          "healthy_left_ALL_run",
          "healthy_left_ALL_run",
          "healthy_left_ALL_run",
          "healthy_left_ALL_run",
          "healthy_left_ALL_run",
          "healthy_left_ALL_run",
          "healthy_left_ALL_run",
          "healthy_left_ALL_run",
          "healthy_left_ALL_run",
          "healthy_left_ALL_run",
          "healthy_left_ALL_run",
          "healthy_left_ALL_run",
          "healthy_left_ALL_run",
          "healthy_left_ALL_run",
          "healthy_left_ALL_run",
          "healthy_left_ALL_run",
          "healthy_left_ALL_run",
          "healthy_left_ALL_run",
          "healthy_left_ALL_run",
          "healthy_left_ALL_run",
          "healthy_left_ALL_run",
          "healthy_left_ALL_run",
          "healthy_left_ALL_run",
          "healthy_left_ALL_run",
          "healthy_left_ALL_run",
          "healthy_left_ALL_run",
          "healthy_left_ALL_run"
         ],
         "xaxis": "x13",
         "y": {
          "bdata": "MFkcgghmLkAF80P5fAocQBvbvbeoQjBAgPbFKp5CK8BpxDtkim8GQFvdEw+6hT7AwDwN3bPnOMDqsD1ReClAwDmS/BH72SRAhiickdTbKsDSfTgWak0IwJzbPOdEcDNA7hxC9/pET8ByHXLm0hYlwHsZErvpcEvAuVBxTSyFO8B9SDX6lCEswGGLyA4TokrACtCyqDamEcB75cfoOX43wNKpLI01LxzAs2jXqL4NR8BHTtxX2nZGwCYFNZNYbCdAoOFJ2i/ONcDACaN5DJ4hQEyxtVgB1UTA15GJ0+VXKEA=",
          "dtype": "f8"
         },
         "yaxis": "y13"
        },
        {
         "error_y": {
          "array": [
           0.3534042022084483,
           0.9054376816415002
          ],
          "type": "data",
          "visible": true
         },
         "marker": {
          "color": [
           "#636EFA",
           "#EF553B"
          ],
          "line": {
           "color": "black",
           "width": 1
          }
         },
         "name": "Mean step acceleration X during swing - lHindpaw (m/s^2)",
         "type": "bar",
         "x": [
          "sick_left_C_run",
          "healthy_left_ALL_run"
         ],
         "xaxis": "x14",
         "y": [
          -0.46893457833656366,
          0.005810707405506456
         ],
         "yaxis": "y14"
        },
        {
         "marker": {
          "color": "black",
          "opacity": 0.5,
          "size": 6
         },
         "mode": "markers",
         "showlegend": false,
         "type": "scatter",
         "x": [
          "sick_left_C_run",
          "sick_left_C_run",
          "sick_left_C_run",
          "sick_left_C_run",
          "sick_left_C_run",
          "sick_left_C_run",
          "sick_left_C_run",
          "sick_left_C_run",
          "sick_left_C_run",
          "sick_left_C_run"
         ],
         "xaxis": "x14",
         "y": {
          "bdata": "Y1Cvwuh60b+tEJknt3vpv+aXqig6zNG/+pMWTdIOhT8AzhJ1rdbrv6ZZVb2Yneu/yrK5bSk40b+x73lP1lhsPyCbMWLOjeq/LU8tGkHC4L8=",
          "dtype": "f8"
         },
         "yaxis": "y14"
        },
        {
         "marker": {
          "color": "black",
          "opacity": 0.5,
          "size": 6
         },
         "mode": "markers",
         "showlegend": false,
         "type": "scatter",
         "x": [
          "healthy_left_ALL_run",
          "healthy_left_ALL_run",
          "healthy_left_ALL_run",
          "healthy_left_ALL_run",
          "healthy_left_ALL_run",
          "healthy_left_ALL_run",
          "healthy_left_ALL_run",
          "healthy_left_ALL_run",
          "healthy_left_ALL_run",
          "healthy_left_ALL_run",
          "healthy_left_ALL_run",
          "healthy_left_ALL_run",
          "healthy_left_ALL_run",
          "healthy_left_ALL_run",
          "healthy_left_ALL_run",
          "healthy_left_ALL_run",
          "healthy_left_ALL_run",
          "healthy_left_ALL_run",
          "healthy_left_ALL_run",
          "healthy_left_ALL_run",
          "healthy_left_ALL_run",
          "healthy_left_ALL_run",
          "healthy_left_ALL_run",
          "healthy_left_ALL_run",
          "healthy_left_ALL_run",
          "healthy_left_ALL_run",
          "healthy_left_ALL_run",
          "healthy_left_ALL_run"
         ],
         "xaxis": "x14",
         "y": {
          "bdata": "yX64/R9r6T/wCqsJKOblPznip3hkUdU/oaTCS3Ji0z9spRsY7RnVvxM2E3JBLfE/5bko8dWR8L/0YOWwJ9rOvwh9qYyHbM4/uAqcLMZjuL/t7regyX25P/GIc8SJEuc/7UOEvmNrC0Dk1L9bsFLrv0w3hg0XEsI/SHs7vb+72r8VfbH5ZsHhPxiRebsMnq0/jDXGqHNs47+Hqq0OZi/lv1dknYvAc/m//g4oAiK5nD9TcL95cXjIP2aHhaxsr9u/SZ9qKToR6b8ibMb4y+DfvzP5Va304tu/ziPo5CUN4L8=",
          "dtype": "f8"
         },
         "yaxis": "y14"
        }
       ],
       "layout": {
        "annotations": [
         {
          "font": {
           "size": 16
          },
          "showarrow": false,
          "text": "angle excursion ankle (°)",
          "x": 0.10625,
          "xanchor": "center",
          "xref": "paper",
          "y": 1,
          "yanchor": "bottom",
          "yref": "paper"
         },
         {
          "font": {
           "size": 16
          },
          "showarrow": false,
          "text": "phase excursion ankle (°)",
          "x": 0.36875,
          "xanchor": "center",
          "xref": "paper",
          "y": 1,
          "yanchor": "bottom",
          "yref": "paper"
         },
         {
          "font": {
           "size": 16
          },
          "showarrow": false,
          "text": "step acceleration X during stance - ankle (m/s^2)",
          "x": 0.6312500000000001,
          "xanchor": "center",
          "xref": "paper",
          "y": 1,
          "yanchor": "bottom",
          "yref": "paper"
         },
         {
          "font": {
           "size": 16
          },
          "showarrow": false,
          "text": "step velocity Y during stance - lHindpaw (m/s)",
          "x": 0.89375,
          "xanchor": "center",
          "xref": "paper",
          "y": 1,
          "yanchor": "bottom",
          "yref": "paper"
         },
         {
          "font": {
           "size": 16
          },
          "showarrow": false,
          "text": "step acceleration X during stance - lHindpaw (m/s^2)",
          "x": 0.10625,
          "xanchor": "center",
          "xref": "paper",
          "y": 0.71875,
          "yanchor": "bottom",
          "yref": "paper"
         },
         {
          "font": {
           "size": 16
          },
          "showarrow": false,
          "text": "step acceleration Y during swing - ankle (m/s^2)",
          "x": 0.36875,
          "xanchor": "center",
          "xref": "paper",
          "y": 0.71875,
          "yanchor": "bottom",
          "yref": "paper"
         },
         {
          "font": {
           "size": 16
          },
          "showarrow": false,
          "text": "step velocity X during stance - lHindpaw (m/s)",
          "x": 0.6312500000000001,
          "xanchor": "center",
          "xref": "paper",
          "y": 0.71875,
          "yanchor": "bottom",
          "yref": "paper"
         },
         {
          "font": {
           "size": 16
          },
          "showarrow": false,
          "text": "step acceleration Y during stance - ankle (m/s^2)",
          "x": 0.89375,
          "xanchor": "center",
          "xref": "paper",
          "y": 0.71875,
          "yanchor": "bottom",
          "yref": "paper"
         },
         {
          "font": {
           "size": 16
          },
          "showarrow": false,
          "text": "step velocity X during stance - lHindfingers (m/s)",
          "x": 0.10625,
          "xanchor": "center",
          "xref": "paper",
          "y": 0.4375,
          "yanchor": "bottom",
          "yref": "paper"
         },
         {
          "font": {
           "size": 16
          },
          "showarrow": false,
          "text": "step jerk Y during stance - lHindfingers (m/s^3)",
          "x": 0.36875,
          "xanchor": "center",
          "xref": "paper",
          "y": 0.4375,
          "yanchor": "bottom",
          "yref": "paper"
         },
         {
          "font": {
           "size": 16
          },
          "showarrow": false,
          "text": "step acceleration X during stance - knee (m/s^2)",
          "x": 0.6312500000000001,
          "xanchor": "center",
          "xref": "paper",
          "y": 0.4375,
          "yanchor": "bottom",
          "yref": "paper"
         },
         {
          "font": {
           "size": 16
          },
          "showarrow": false,
          "text": "step acceleration X during stance - lHindfingers (m/s^2)",
          "x": 0.89375,
          "xanchor": "center",
          "xref": "paper",
          "y": 0.4375,
          "yanchor": "bottom",
          "yref": "paper"
         },
         {
          "font": {
           "size": 16
          },
          "showarrow": false,
          "text": "step jerk Y during swing - lHindfingers (m/s^3)",
          "x": 0.10625,
          "xanchor": "center",
          "xref": "paper",
          "y": 0.15625,
          "yanchor": "bottom",
          "yref": "paper"
         },
         {
          "font": {
           "size": 16
          },
          "showarrow": false,
          "text": "step acceleration X during swing - lHindpaw (m/s^2)",
          "x": 0.36875,
          "xanchor": "center",
          "xref": "paper",
          "y": 0.15625,
          "yanchor": "bottom",
          "yref": "paper"
         }
        ],
        "height": 2000,
        "plot_bgcolor": "rgba(0,0,0,0)",
        "showlegend": false,
        "template": {
         "data": {
          "bar": [
           {
            "error_x": {
             "color": "#2a3f5f"
            },
            "error_y": {
             "color": "#2a3f5f"
            },
            "marker": {
             "line": {
              "color": "#E5ECF6",
              "width": 0.5
             },
             "pattern": {
              "fillmode": "overlay",
              "size": 10,
              "solidity": 0.2
             }
            },
            "type": "bar"
           }
          ],
          "barpolar": [
           {
            "marker": {
             "line": {
              "color": "#E5ECF6",
              "width": 0.5
             },
             "pattern": {
              "fillmode": "overlay",
              "size": 10,
              "solidity": 0.2
             }
            },
            "type": "barpolar"
           }
          ],
          "carpet": [
           {
            "aaxis": {
             "endlinecolor": "#2a3f5f",
             "gridcolor": "white",
             "linecolor": "white",
             "minorgridcolor": "white",
             "startlinecolor": "#2a3f5f"
            },
            "baxis": {
             "endlinecolor": "#2a3f5f",
             "gridcolor": "white",
             "linecolor": "white",
             "minorgridcolor": "white",
             "startlinecolor": "#2a3f5f"
            },
            "type": "carpet"
           }
          ],
          "choropleth": [
           {
            "colorbar": {
             "outlinewidth": 0,
             "ticks": ""
            },
            "type": "choropleth"
           }
          ],
          "contour": [
           {
            "colorbar": {
             "outlinewidth": 0,
             "ticks": ""
            },
            "colorscale": [
             [
              0,
              "#0d0887"
             ],
             [
              0.1111111111111111,
              "#46039f"
             ],
             [
              0.2222222222222222,
              "#7201a8"
             ],
             [
              0.3333333333333333,
              "#9c179e"
             ],
             [
              0.4444444444444444,
              "#bd3786"
             ],
             [
              0.5555555555555556,
              "#d8576b"
             ],
             [
              0.6666666666666666,
              "#ed7953"
             ],
             [
              0.7777777777777778,
              "#fb9f3a"
             ],
             [
              0.8888888888888888,
              "#fdca26"
             ],
             [
              1,
              "#f0f921"
             ]
            ],
            "type": "contour"
           }
          ],
          "contourcarpet": [
           {
            "colorbar": {
             "outlinewidth": 0,
             "ticks": ""
            },
            "type": "contourcarpet"
           }
          ],
          "heatmap": [
           {
            "colorbar": {
             "outlinewidth": 0,
             "ticks": ""
            },
            "colorscale": [
             [
              0,
              "#0d0887"
             ],
             [
              0.1111111111111111,
              "#46039f"
             ],
             [
              0.2222222222222222,
              "#7201a8"
             ],
             [
              0.3333333333333333,
              "#9c179e"
             ],
             [
              0.4444444444444444,
              "#bd3786"
             ],
             [
              0.5555555555555556,
              "#d8576b"
             ],
             [
              0.6666666666666666,
              "#ed7953"
             ],
             [
              0.7777777777777778,
              "#fb9f3a"
             ],
             [
              0.8888888888888888,
              "#fdca26"
             ],
             [
              1,
              "#f0f921"
             ]
            ],
            "type": "heatmap"
           }
          ],
          "histogram": [
           {
            "marker": {
             "pattern": {
              "fillmode": "overlay",
              "size": 10,
              "solidity": 0.2
             }
            },
            "type": "histogram"
           }
          ],
          "histogram2d": [
           {
            "colorbar": {
             "outlinewidth": 0,
             "ticks": ""
            },
            "colorscale": [
             [
              0,
              "#0d0887"
             ],
             [
              0.1111111111111111,
              "#46039f"
             ],
             [
              0.2222222222222222,
              "#7201a8"
             ],
             [
              0.3333333333333333,
              "#9c179e"
             ],
             [
              0.4444444444444444,
              "#bd3786"
             ],
             [
              0.5555555555555556,
              "#d8576b"
             ],
             [
              0.6666666666666666,
              "#ed7953"
             ],
             [
              0.7777777777777778,
              "#fb9f3a"
             ],
             [
              0.8888888888888888,
              "#fdca26"
             ],
             [
              1,
              "#f0f921"
             ]
            ],
            "type": "histogram2d"
           }
          ],
          "histogram2dcontour": [
           {
            "colorbar": {
             "outlinewidth": 0,
             "ticks": ""
            },
            "colorscale": [
             [
              0,
              "#0d0887"
             ],
             [
              0.1111111111111111,
              "#46039f"
             ],
             [
              0.2222222222222222,
              "#7201a8"
             ],
             [
              0.3333333333333333,
              "#9c179e"
             ],
             [
              0.4444444444444444,
              "#bd3786"
             ],
             [
              0.5555555555555556,
              "#d8576b"
             ],
             [
              0.6666666666666666,
              "#ed7953"
             ],
             [
              0.7777777777777778,
              "#fb9f3a"
             ],
             [
              0.8888888888888888,
              "#fdca26"
             ],
             [
              1,
              "#f0f921"
             ]
            ],
            "type": "histogram2dcontour"
           }
          ],
          "mesh3d": [
           {
            "colorbar": {
             "outlinewidth": 0,
             "ticks": ""
            },
            "type": "mesh3d"
           }
          ],
          "parcoords": [
           {
            "line": {
             "colorbar": {
              "outlinewidth": 0,
              "ticks": ""
             }
            },
            "type": "parcoords"
           }
          ],
          "pie": [
           {
            "automargin": true,
            "type": "pie"
           }
          ],
          "scatter": [
           {
            "fillpattern": {
             "fillmode": "overlay",
             "size": 10,
             "solidity": 0.2
            },
            "type": "scatter"
           }
          ],
          "scatter3d": [
           {
            "line": {
             "colorbar": {
              "outlinewidth": 0,
              "ticks": ""
             }
            },
            "marker": {
             "colorbar": {
              "outlinewidth": 0,
              "ticks": ""
             }
            },
            "type": "scatter3d"
           }
          ],
          "scattercarpet": [
           {
            "marker": {
             "colorbar": {
              "outlinewidth": 0,
              "ticks": ""
             }
            },
            "type": "scattercarpet"
           }
          ],
          "scattergeo": [
           {
            "marker": {
             "colorbar": {
              "outlinewidth": 0,
              "ticks": ""
             }
            },
            "type": "scattergeo"
           }
          ],
          "scattergl": [
           {
            "marker": {
             "colorbar": {
              "outlinewidth": 0,
              "ticks": ""
             }
            },
            "type": "scattergl"
           }
          ],
          "scattermap": [
           {
            "marker": {
             "colorbar": {
              "outlinewidth": 0,
              "ticks": ""
             }
            },
            "type": "scattermap"
           }
          ],
          "scattermapbox": [
           {
            "marker": {
             "colorbar": {
              "outlinewidth": 0,
              "ticks": ""
             }
            },
            "type": "scattermapbox"
           }
          ],
          "scatterpolar": [
           {
            "marker": {
             "colorbar": {
              "outlinewidth": 0,
              "ticks": ""
             }
            },
            "type": "scatterpolar"
           }
          ],
          "scatterpolargl": [
           {
            "marker": {
             "colorbar": {
              "outlinewidth": 0,
              "ticks": ""
             }
            },
            "type": "scatterpolargl"
           }
          ],
          "scatterternary": [
           {
            "marker": {
             "colorbar": {
              "outlinewidth": 0,
              "ticks": ""
             }
            },
            "type": "scatterternary"
           }
          ],
          "surface": [
           {
            "colorbar": {
             "outlinewidth": 0,
             "ticks": ""
            },
            "colorscale": [
             [
              0,
              "#0d0887"
             ],
             [
              0.1111111111111111,
              "#46039f"
             ],
             [
              0.2222222222222222,
              "#7201a8"
             ],
             [
              0.3333333333333333,
              "#9c179e"
             ],
             [
              0.4444444444444444,
              "#bd3786"
             ],
             [
              0.5555555555555556,
              "#d8576b"
             ],
             [
              0.6666666666666666,
              "#ed7953"
             ],
             [
              0.7777777777777778,
              "#fb9f3a"
             ],
             [
              0.8888888888888888,
              "#fdca26"
             ],
             [
              1,
              "#f0f921"
             ]
            ],
            "type": "surface"
           }
          ],
          "table": [
           {
            "cells": {
             "fill": {
              "color": "#EBF0F8"
             },
             "line": {
              "color": "white"
             }
            },
            "header": {
             "fill": {
              "color": "#C8D4E3"
             },
             "line": {
              "color": "white"
             }
            },
            "type": "table"
           }
          ]
         },
         "layout": {
          "annotationdefaults": {
           "arrowcolor": "#2a3f5f",
           "arrowhead": 0,
           "arrowwidth": 1
          },
          "autotypenumbers": "strict",
          "coloraxis": {
           "colorbar": {
            "outlinewidth": 0,
            "ticks": ""
           }
          },
          "colorscale": {
           "diverging": [
            [
             0,
             "#8e0152"
            ],
            [
             0.1,
             "#c51b7d"
            ],
            [
             0.2,
             "#de77ae"
            ],
            [
             0.3,
             "#f1b6da"
            ],
            [
             0.4,
             "#fde0ef"
            ],
            [
             0.5,
             "#f7f7f7"
            ],
            [
             0.6,
             "#e6f5d0"
            ],
            [
             0.7,
             "#b8e186"
            ],
            [
             0.8,
             "#7fbc41"
            ],
            [
             0.9,
             "#4d9221"
            ],
            [
             1,
             "#276419"
            ]
           ],
           "sequential": [
            [
             0,
             "#0d0887"
            ],
            [
             0.1111111111111111,
             "#46039f"
            ],
            [
             0.2222222222222222,
             "#7201a8"
            ],
            [
             0.3333333333333333,
             "#9c179e"
            ],
            [
             0.4444444444444444,
             "#bd3786"
            ],
            [
             0.5555555555555556,
             "#d8576b"
            ],
            [
             0.6666666666666666,
             "#ed7953"
            ],
            [
             0.7777777777777778,
             "#fb9f3a"
            ],
            [
             0.8888888888888888,
             "#fdca26"
            ],
            [
             1,
             "#f0f921"
            ]
           ],
           "sequentialminus": [
            [
             0,
             "#0d0887"
            ],
            [
             0.1111111111111111,
             "#46039f"
            ],
            [
             0.2222222222222222,
             "#7201a8"
            ],
            [
             0.3333333333333333,
             "#9c179e"
            ],
            [
             0.4444444444444444,
             "#bd3786"
            ],
            [
             0.5555555555555556,
             "#d8576b"
            ],
            [
             0.6666666666666666,
             "#ed7953"
            ],
            [
             0.7777777777777778,
             "#fb9f3a"
            ],
            [
             0.8888888888888888,
             "#fdca26"
            ],
            [
             1,
             "#f0f921"
            ]
           ]
          },
          "colorway": [
           "#636efa",
           "#EF553B",
           "#00cc96",
           "#ab63fa",
           "#FFA15A",
           "#19d3f3",
           "#FF6692",
           "#B6E880",
           "#FF97FF",
           "#FECB52"
          ],
          "font": {
           "color": "#2a3f5f"
          },
          "geo": {
           "bgcolor": "white",
           "lakecolor": "white",
           "landcolor": "#E5ECF6",
           "showlakes": true,
           "showland": true,
           "subunitcolor": "white"
          },
          "hoverlabel": {
           "align": "left"
          },
          "hovermode": "closest",
          "mapbox": {
           "style": "light"
          },
          "paper_bgcolor": "white",
          "plot_bgcolor": "#E5ECF6",
          "polar": {
           "angularaxis": {
            "gridcolor": "white",
            "linecolor": "white",
            "ticks": ""
           },
           "bgcolor": "#E5ECF6",
           "radialaxis": {
            "gridcolor": "white",
            "linecolor": "white",
            "ticks": ""
           }
          },
          "scene": {
           "xaxis": {
            "backgroundcolor": "#E5ECF6",
            "gridcolor": "white",
            "gridwidth": 2,
            "linecolor": "white",
            "showbackground": true,
            "ticks": "",
            "zerolinecolor": "white"
           },
           "yaxis": {
            "backgroundcolor": "#E5ECF6",
            "gridcolor": "white",
            "gridwidth": 2,
            "linecolor": "white",
            "showbackground": true,
            "ticks": "",
            "zerolinecolor": "white"
           },
           "zaxis": {
            "backgroundcolor": "#E5ECF6",
            "gridcolor": "white",
            "gridwidth": 2,
            "linecolor": "white",
            "showbackground": true,
            "ticks": "",
            "zerolinecolor": "white"
           }
          },
          "shapedefaults": {
           "line": {
            "color": "#2a3f5f"
           }
          },
          "ternary": {
           "aaxis": {
            "gridcolor": "white",
            "linecolor": "white",
            "ticks": ""
           },
           "baxis": {
            "gridcolor": "white",
            "linecolor": "white",
            "ticks": ""
           },
           "bgcolor": "#E5ECF6",
           "caxis": {
            "gridcolor": "white",
            "linecolor": "white",
            "ticks": ""
           }
          },
          "title": {
           "x": 0.05
          },
          "xaxis": {
           "automargin": true,
           "gridcolor": "white",
           "linecolor": "white",
           "ticks": "",
           "title": {
            "standoff": 15
           },
           "zerolinecolor": "white",
           "zerolinewidth": 2
          },
          "yaxis": {
           "automargin": true,
           "gridcolor": "white",
           "linecolor": "white",
           "ticks": "",
           "title": {
            "standoff": 15
           },
           "zerolinecolor": "white",
           "zerolinewidth": 2
          }
         }
        },
        "title": {
         "text": "Selected Features Across Groups"
        },
        "width": 1600,
        "xaxis": {
         "anchor": "y",
         "domain": [
          0,
          0.2125
         ]
        },
        "xaxis10": {
         "anchor": "y10",
         "domain": [
          0.2625,
          0.475
         ]
        },
        "xaxis11": {
         "anchor": "y11",
         "domain": [
          0.525,
          0.7375
         ]
        },
        "xaxis12": {
         "anchor": "y12",
         "domain": [
          0.7875,
          1
         ]
        },
        "xaxis13": {
         "anchor": "y13",
         "domain": [
          0,
          0.2125
         ]
        },
        "xaxis14": {
         "anchor": "y14",
         "domain": [
          0.2625,
          0.475
         ]
        },
        "xaxis15": {
         "anchor": "y15",
         "domain": [
          0.525,
          0.7375
         ]
        },
        "xaxis16": {
         "anchor": "y16",
         "domain": [
          0.7875,
          1
         ]
        },
        "xaxis2": {
         "anchor": "y2",
         "domain": [
          0.2625,
          0.475
         ]
        },
        "xaxis3": {
         "anchor": "y3",
         "domain": [
          0.525,
          0.7375
         ]
        },
        "xaxis4": {
         "anchor": "y4",
         "domain": [
          0.7875,
          1
         ]
        },
        "xaxis5": {
         "anchor": "y5",
         "domain": [
          0,
          0.2125
         ]
        },
        "xaxis6": {
         "anchor": "y6",
         "domain": [
          0.2625,
          0.475
         ]
        },
        "xaxis7": {
         "anchor": "y7",
         "domain": [
          0.525,
          0.7375
         ]
        },
        "xaxis8": {
         "anchor": "y8",
         "domain": [
          0.7875,
          1
         ]
        },
        "xaxis9": {
         "anchor": "y9",
         "domain": [
          0,
          0.2125
         ]
        },
        "yaxis": {
         "anchor": "x",
         "domain": [
          0.84375,
          1
         ]
        },
        "yaxis10": {
         "anchor": "x10",
         "domain": [
          0.28125,
          0.4375
         ]
        },
        "yaxis11": {
         "anchor": "x11",
         "domain": [
          0.28125,
          0.4375
         ]
        },
        "yaxis12": {
         "anchor": "x12",
         "domain": [
          0.28125,
          0.4375
         ]
        },
        "yaxis13": {
         "anchor": "x13",
         "domain": [
          0,
          0.15625
         ]
        },
        "yaxis14": {
         "anchor": "x14",
         "domain": [
          0,
          0.15625
         ]
        },
        "yaxis15": {
         "anchor": "x15",
         "domain": [
          0,
          0.15625
         ]
        },
        "yaxis16": {
         "anchor": "x16",
         "domain": [
          0,
          0.15625
         ]
        },
        "yaxis2": {
         "anchor": "x2",
         "domain": [
          0.84375,
          1
         ]
        },
        "yaxis3": {
         "anchor": "x3",
         "domain": [
          0.84375,
          1
         ]
        },
        "yaxis4": {
         "anchor": "x4",
         "domain": [
          0.84375,
          1
         ]
        },
        "yaxis5": {
         "anchor": "x5",
         "domain": [
          0.5625,
          0.71875
         ]
        },
        "yaxis6": {
         "anchor": "x6",
         "domain": [
          0.5625,
          0.71875
         ]
        },
        "yaxis7": {
         "anchor": "x7",
         "domain": [
          0.5625,
          0.71875
         ]
        },
        "yaxis8": {
         "anchor": "x8",
         "domain": [
          0.5625,
          0.71875
         ]
        },
        "yaxis9": {
         "anchor": "x9",
         "domain": [
          0.28125,
          0.4375
         ]
        }
       }
      }
     },
     "metadata": {},
     "output_type": "display_data"
    },
    {
     "data": {
      "application/vnd.plotly.v1+json": {
       "config": {
        "plotlyServerURL": "https://plot.ly"
       },
       "data": [
        {
         "error_y": {
          "array": [
           0.01073661607115496,
           0.030710845291412842
          ],
          "type": "data",
          "visible": true
         },
         "marker": {
          "color": [
           "#636EFA",
           "#EF553B"
          ],
          "line": {
           "color": "black",
           "width": 1
          }
         },
         "name": "Mean step velocity X during stance - ankle (m/s)",
         "type": "bar",
         "x": [
          "sick_left_E_run",
          "healthy_left_ALL_run"
         ],
         "xaxis": "x",
         "y": [
          0.08909768379518929,
          0.11454484342957513
         ],
         "yaxis": "y"
        },
        {
         "marker": {
          "color": "black",
          "opacity": 0.5,
          "size": 6
         },
         "mode": "markers",
         "showlegend": false,
         "type": "scatter",
         "x": [
          "sick_left_E_run",
          "sick_left_E_run",
          "sick_left_E_run",
          "sick_left_E_run",
          "sick_left_E_run",
          "sick_left_E_run",
          "sick_left_E_run",
          "sick_left_E_run",
          "sick_left_E_run",
          "sick_left_E_run"
         ],
         "xaxis": "x",
         "y": {
          "bdata": "Zgs4uh32vD9sUkM4pyi3P1Sj8Vj5jLU/Kltk5ASetD99o0ySx5y0P3K2a2DD97Q/OPIMFwemuT+fDmDxeG61P1bTeAHA77Q/iKgPsIA0uD8=",
          "dtype": "f8"
         },
         "yaxis": "y"
        },
        {
         "marker": {
          "color": "black",
          "opacity": 0.5,
          "size": 6
         },
         "mode": "markers",
         "showlegend": false,
         "type": "scatter",
         "x": [
          "healthy_left_ALL_run",
          "healthy_left_ALL_run",
          "healthy_left_ALL_run",
          "healthy_left_ALL_run",
          "healthy_left_ALL_run",
          "healthy_left_ALL_run",
          "healthy_left_ALL_run",
          "healthy_left_ALL_run",
          "healthy_left_ALL_run",
          "healthy_left_ALL_run",
          "healthy_left_ALL_run",
          "healthy_left_ALL_run",
          "healthy_left_ALL_run",
          "healthy_left_ALL_run",
          "healthy_left_ALL_run",
          "healthy_left_ALL_run",
          "healthy_left_ALL_run",
          "healthy_left_ALL_run",
          "healthy_left_ALL_run",
          "healthy_left_ALL_run",
          "healthy_left_ALL_run",
          "healthy_left_ALL_run",
          "healthy_left_ALL_run",
          "healthy_left_ALL_run",
          "healthy_left_ALL_run",
          "healthy_left_ALL_run",
          "healthy_left_ALL_run",
          "healthy_left_ALL_run"
         ],
         "xaxis": "x",
         "y": {
          "bdata": "YcsYcgDOxD8r5pLlAlW5P9QOtf94hbI/q5rmmoxLwT8V439Fz5W7P+HIVbN5WcE/AbW52OxKsT/cilZivb69P/E38zC9XLY/nTLws3rOwj8aOmDecja2PwCrW2eoSr4/q0koHOFauj8peNfiARy4Pzavfv5XLMI/Ra5vkdLYwj+d/xus8226Px4Ams30V8g/4ZUcu2UYtj+CS3ygXb60P6NP30Z60sA/7Z4RX4FKuD99gp3Yb57FP30fVRzp+ro/RSez15AXvz/YNSLwEE2zP/56Kkh1frw/TDaJ67SzvT8=",
          "dtype": "f8"
         },
         "yaxis": "y"
        },
        {
         "error_y": {
          "array": [
           0.012990293096458138,
           0.037021376565610005
          ],
          "type": "data",
          "visible": true
         },
         "marker": {
          "color": [
           "#636EFA",
           "#EF553B"
          ],
          "line": {
           "color": "black",
           "width": 1
          }
         },
         "name": "Mean step velocity X during stance - knee (m/s)",
         "type": "bar",
         "x": [
          "sick_left_E_run",
          "healthy_left_ALL_run"
         ],
         "xaxis": "x2",
         "y": [
          0.12039839851972703,
          0.14677035162650195
         ],
         "yaxis": "y2"
        },
        {
         "marker": {
          "color": "black",
          "opacity": 0.5,
          "size": 6
         },
         "mode": "markers",
         "showlegend": false,
         "type": "scatter",
         "x": [
          "sick_left_E_run",
          "sick_left_E_run",
          "sick_left_E_run",
          "sick_left_E_run",
          "sick_left_E_run",
          "sick_left_E_run",
          "sick_left_E_run",
          "sick_left_E_run",
          "sick_left_E_run",
          "sick_left_E_run"
         ],
         "xaxis": "x2",
         "y": {
          "bdata": "hrt56Uu5wj+MPpSvUg7AP08FSiKAi74/5gZKKCf/uj8HzELZcdW7PyOvEIMW47s/BedVvGzWwD82QomtO/K+P0SPhIIj0rs/trDL71J6wD8=",
          "dtype": "f8"
         },
         "yaxis": "y2"
        },
        {
         "marker": {
          "color": "black",
          "opacity": 0.5,
          "size": 6
         },
         "mode": "markers",
         "showlegend": false,
         "type": "scatter",
         "x": [
          "healthy_left_ALL_run",
          "healthy_left_ALL_run",
          "healthy_left_ALL_run",
          "healthy_left_ALL_run",
          "healthy_left_ALL_run",
          "healthy_left_ALL_run",
          "healthy_left_ALL_run",
          "healthy_left_ALL_run",
          "healthy_left_ALL_run",
          "healthy_left_ALL_run",
          "healthy_left_ALL_run",
          "healthy_left_ALL_run",
          "healthy_left_ALL_run",
          "healthy_left_ALL_run",
          "healthy_left_ALL_run",
          "healthy_left_ALL_run",
          "healthy_left_ALL_run",
          "healthy_left_ALL_run",
          "healthy_left_ALL_run",
          "healthy_left_ALL_run",
          "healthy_left_ALL_run",
          "healthy_left_ALL_run",
          "healthy_left_ALL_run",
          "healthy_left_ALL_run",
          "healthy_left_ALL_run",
          "healthy_left_ALL_run",
          "healthy_left_ALL_run",
          "healthy_left_ALL_run"
         ],
         "xaxis": "x2",
         "y": {
          "bdata": "C4BS/NKyyz+szvIg1vXAP+okr/J13LY/kyA0uBrOxj8O9K5xh6zBP61k7BAVgcY/JN4cNyOAuD8hliFtPQDEP2YFW8Cuirw/4EzhYaFpxz9F0Cx3GMO9P1FLDmhTX8M/IoFPApAFwj/+cbt8qyC+PxzjFrFQw8Y/u3eFIgAIyD9yHBcFsezAP6/d6E30psw/Akhf8lnDvD/+VYWE2rK8PwivehjZwMQ/ZFKUHZZsvz/RfGRCGEPLP9/YUxMZGcA/0MAKNRFmwz9T8LdALh24P7GvX+LN+cE/iTZO5N1Rwz8=",
          "dtype": "f8"
         },
         "yaxis": "y2"
        },
        {
         "error_y": {
          "array": [
           0.1579282565330942,
           0.19379413160868358
          ],
          "type": "data",
          "visible": true
         },
         "marker": {
          "color": [
           "#636EFA",
           "#EF553B"
          ],
          "line": {
           "color": "black",
           "width": 1
          }
         },
         "name": "Mean step acceleration Y during swing - hip (m/s^2)",
         "type": "bar",
         "x": [
          "sick_left_E_run",
          "healthy_left_ALL_run"
         ],
         "xaxis": "x3",
         "y": [
          0.08632206731051344,
          -0.15595744810229709
         ],
         "yaxis": "y3"
        },
        {
         "marker": {
          "color": "black",
          "opacity": 0.5,
          "size": 6
         },
         "mode": "markers",
         "showlegend": false,
         "type": "scatter",
         "x": [
          "sick_left_E_run",
          "sick_left_E_run",
          "sick_left_E_run",
          "sick_left_E_run",
          "sick_left_E_run",
          "sick_left_E_run",
          "sick_left_E_run",
          "sick_left_E_run",
          "sick_left_E_run",
          "sick_left_E_run"
         ],
         "xaxis": "x3",
         "y": {
          "bdata": "zy0N5pmVwj9C3vEC5Qe+v09mpO8qeMs/D5Rldd/8tr9Q6pchba1yP5ouLpT/L3g/JbeJdIhi0z9PguxpJPivv+7LGlkv+MQ/cFuaWD/u0j8=",
          "dtype": "f8"
         },
         "yaxis": "y3"
        },
        {
         "marker": {
          "color": "black",
          "opacity": 0.5,
          "size": 6
         },
         "mode": "markers",
         "showlegend": false,
         "type": "scatter",
         "x": [
          "healthy_left_ALL_run",
          "healthy_left_ALL_run",
          "healthy_left_ALL_run",
          "healthy_left_ALL_run",
          "healthy_left_ALL_run",
          "healthy_left_ALL_run",
          "healthy_left_ALL_run",
          "healthy_left_ALL_run",
          "healthy_left_ALL_run",
          "healthy_left_ALL_run",
          "healthy_left_ALL_run",
          "healthy_left_ALL_run",
          "healthy_left_ALL_run",
          "healthy_left_ALL_run",
          "healthy_left_ALL_run",
          "healthy_left_ALL_run",
          "healthy_left_ALL_run",
          "healthy_left_ALL_run",
          "healthy_left_ALL_run",
          "healthy_left_ALL_run",
          "healthy_left_ALL_run",
          "healthy_left_ALL_run",
          "healthy_left_ALL_run",
          "healthy_left_ALL_run",
          "healthy_left_ALL_run",
          "healthy_left_ALL_run",
          "healthy_left_ALL_run",
          "healthy_left_ALL_run"
         ],
         "xaxis": "x3",
         "y": {
          "bdata": "u5h84gtg1L/ZD9Gv4S2wP8fCnU+zCYs/40cyhEuXxL+xmX/PqOXWv9wlv76eytI/naKRdxjU27/3mQcIYxrQvyK6wIHT1MG/nPw2tiIJ0T+cHLwt4L+SP9E+IXfVkcu/qlap7m91wT+ZfW4w/8HZv4cu9HGQgKS/23WsU0D5yb9A/zWyGGTRv8V6thxKEcm/lS/i7p4q17/SpsP5dheuv+MpIztqB5G/eFrbZErOyr82yTges9HJvxJxAI4zp82/HQeucNkPyr+9GFrvhivJv/CeFOW9vMq/Q3KpTcKL3r8=",
          "dtype": "f8"
         },
         "yaxis": "y3"
        },
        {
         "error_y": {
          "array": [
           9.069284963341902,
           12.580588183405077
          ],
          "type": "data",
          "visible": true
         },
         "marker": {
          "color": [
           "#636EFA",
           "#EF553B"
          ],
          "line": {
           "color": "black",
           "width": 1
          }
         },
         "name": "Mean angle excursion - rhindlimb - lHindfingers (°)",
         "type": "bar",
         "x": [
          "sick_left_E_run",
          "healthy_left_ALL_run"
         ],
         "xaxis": "x4",
         "y": [
          95.87754733035345,
          112.98911728164182
         ],
         "yaxis": "y4"
        },
        {
         "marker": {
          "color": "black",
          "opacity": 0.5,
          "size": 6
         },
         "mode": "markers",
         "showlegend": false,
         "type": "scatter",
         "x": [
          "sick_left_E_run",
          "sick_left_E_run",
          "sick_left_E_run",
          "sick_left_E_run",
          "sick_left_E_run",
          "sick_left_E_run",
          "sick_left_E_run",
          "sick_left_E_run",
          "sick_left_E_run",
          "sick_left_E_run"
         ],
         "xaxis": "x4",
         "y": {
          "bdata": "ZAYGZuuAWEBAXpwdpOBWQMvljrrAhVRAGvcP1wNCWUD/oUgBed5VQG4Io0ZtwFtAU/YZZPD6WkBu3zeCyjFXQARVMa9RZ1hA108XaFpVVkA=",
          "dtype": "f8"
         },
         "yaxis": "y4"
        },
        {
         "marker": {
          "color": "black",
          "opacity": 0.5,
          "size": 6
         },
         "mode": "markers",
         "showlegend": false,
         "type": "scatter",
         "x": [
          "healthy_left_ALL_run",
          "healthy_left_ALL_run",
          "healthy_left_ALL_run",
          "healthy_left_ALL_run",
          "healthy_left_ALL_run",
          "healthy_left_ALL_run",
          "healthy_left_ALL_run",
          "healthy_left_ALL_run",
          "healthy_left_ALL_run",
          "healthy_left_ALL_run",
          "healthy_left_ALL_run",
          "healthy_left_ALL_run",
          "healthy_left_ALL_run",
          "healthy_left_ALL_run",
          "healthy_left_ALL_run",
          "healthy_left_ALL_run",
          "healthy_left_ALL_run",
          "healthy_left_ALL_run",
          "healthy_left_ALL_run",
          "healthy_left_ALL_run",
          "healthy_left_ALL_run",
          "healthy_left_ALL_run",
          "healthy_left_ALL_run",
          "healthy_left_ALL_run",
          "healthy_left_ALL_run",
          "healthy_left_ALL_run",
          "healthy_left_ALL_run",
          "healthy_left_ALL_run"
         ],
         "xaxis": "x4",
         "y": {
          "bdata": "R1x1UbWwWkCAqLkfzwpeQIw5HkfGJ2BATEps7VN5XkBU18w5jUBfQIeEneF0DF5AGJgv2DBeW0AOsoxS8sBYQBt/9dI3AGBA7y6SuD6JWECZUIFdSIRYQJoxEQrPcl5AX5MtCxA/VUCBtJ8nuNJbQNGO0K/EZ1pAfQoYq1joWUDgJyEcr+FbQDcJHSqF4GFAFT4CSBw+W0AoF6AqDo5ZQGpvJUmFGltAXPzF4aYLXEBEXCD95x9eQEtgD3MLZ1pARn3Sa7AeWUBDg7ZcbdheQD1A5eyKQFxALX3Y5s5iYEA=",
          "dtype": "f8"
         },
         "yaxis": "y4"
        },
        {
         "error_y": {
          "array": [
           15.766472341805814,
           20.922331064531768
          ],
          "type": "data",
          "visible": true
         },
         "marker": {
          "color": [
           "#636EFA",
           "#EF553B"
          ],
          "line": {
           "color": "black",
           "width": 1
          }
         },
         "name": "Mean step jerk Y during swing - ankle (m/s^3)",
         "type": "bar",
         "x": [
          "sick_left_E_run",
          "healthy_left_ALL_run"
         ],
         "xaxis": "x5",
         "y": [
          10.051824168390745,
          31.605576358836792
         ],
         "yaxis": "y5"
        },
        {
         "marker": {
          "color": "black",
          "opacity": 0.5,
          "size": 6
         },
         "mode": "markers",
         "showlegend": false,
         "type": "scatter",
         "x": [
          "sick_left_E_run",
          "sick_left_E_run",
          "sick_left_E_run",
          "sick_left_E_run",
          "sick_left_E_run",
          "sick_left_E_run",
          "sick_left_E_run",
          "sick_left_E_run",
          "sick_left_E_run",
          "sick_left_E_run"
         ],
         "xaxis": "x5",
         "y": {
          "bdata": "JSPbdJOTMEAvFl5iE/AwQJyltOIjtzpAkyZJ+850IkD9bbMjnSY9QPgKG/xibzTAvCk5mo5fNUDnU1nMa/0YQHy9wwgEGyTA92RNUl4bE0A=",
          "dtype": "f8"
         },
         "yaxis": "y5"
        },
        {
         "marker": {
          "color": "black",
          "opacity": 0.5,
          "size": 6
         },
         "mode": "markers",
         "showlegend": false,
         "type": "scatter",
         "x": [
          "healthy_left_ALL_run",
          "healthy_left_ALL_run",
          "healthy_left_ALL_run",
          "healthy_left_ALL_run",
          "healthy_left_ALL_run",
          "healthy_left_ALL_run",
          "healthy_left_ALL_run",
          "healthy_left_ALL_run",
          "healthy_left_ALL_run",
          "healthy_left_ALL_run",
          "healthy_left_ALL_run",
          "healthy_left_ALL_run",
          "healthy_left_ALL_run",
          "healthy_left_ALL_run",
          "healthy_left_ALL_run",
          "healthy_left_ALL_run",
          "healthy_left_ALL_run",
          "healthy_left_ALL_run",
          "healthy_left_ALL_run",
          "healthy_left_ALL_run",
          "healthy_left_ALL_run",
          "healthy_left_ALL_run",
          "healthy_left_ALL_run",
          "healthy_left_ALL_run",
          "healthy_left_ALL_run",
          "healthy_left_ALL_run",
          "healthy_left_ALL_run",
          "healthy_left_ALL_run"
         ],
         "xaxis": "x5",
         "y": {
          "bdata": "WbU22VdKUECJ9iZygOw2QCwwI8z4qz5A1BdVB+phSEDmJ/BEQeNHQDw3BwbBCUNAE91C3VLYJEDhixFOp/f2v6AgbIoXewlAQo5GEEEzREBpI0CUIrUoQLMi85NP001AyaqU1+FJQUBHuczdN3c/QBaHfZKTHVFAaURJjwLZQkC1bavdaa9DQJCnvHRotVBA5RdaddlzEUAGG1MA1U4mQE9OTe/9nElAA9fRTI/7M0BByELBS6Y5QMOLUXVybjlAe1JWeJz2SUBTQKzJjQI+QOR7sHEoziVAi7lpKtBfAMA=",
          "dtype": "f8"
         },
         "yaxis": "y5"
        },
        {
         "error_y": {
          "array": [
           10.931508258538367,
           27.807180267750233
          ],
          "type": "data",
          "visible": true
         },
         "marker": {
          "color": [
           "#636EFA",
           "#EF553B"
          ],
          "line": {
           "color": "black",
           "width": 1
          }
         },
         "name": "Mean step jerk Y during stance - ankle (m/s^3)",
         "type": "bar",
         "x": [
          "sick_left_E_run",
          "healthy_left_ALL_run"
         ],
         "xaxis": "x6",
         "y": [
          -13.832930811691702,
          -32.27960552893009
         ],
         "yaxis": "y6"
        },
        {
         "marker": {
          "color": "black",
          "opacity": 0.5,
          "size": 6
         },
         "mode": "markers",
         "showlegend": false,
         "type": "scatter",
         "x": [
          "sick_left_E_run",
          "sick_left_E_run",
          "sick_left_E_run",
          "sick_left_E_run",
          "sick_left_E_run",
          "sick_left_E_run",
          "sick_left_E_run",
          "sick_left_E_run",
          "sick_left_E_run",
          "sick_left_E_run"
         ],
         "xaxis": "x6",
         "y": {
          "bdata": "7EJjBNfkLMBVdohqYaMtwGS4tWyGSDjAd5K7SCDUGcAFTW4qMaU3wMq8aIg0TPW/UkF2Z+i5QMBDfOPzm9ciwH2N5IQeSABAfeuuzyYEKcA=",
          "dtype": "f8"
         },
         "yaxis": "y6"
        },
        {
         "marker": {
          "color": "black",
          "opacity": 0.5,
          "size": 6
         },
         "mode": "markers",
         "showlegend": false,
         "type": "scatter",
         "x": [
          "healthy_left_ALL_run",
          "healthy_left_ALL_run",
          "healthy_left_ALL_run",
          "healthy_left_ALL_run",
          "healthy_left_ALL_run",
          "healthy_left_ALL_run",
          "healthy_left_ALL_run",
          "healthy_left_ALL_run",
          "healthy_left_ALL_run",
          "healthy_left_ALL_run",
          "healthy_left_ALL_run",
          "healthy_left_ALL_run",
          "healthy_left_ALL_run",
          "healthy_left_ALL_run",
          "healthy_left_ALL_run",
          "healthy_left_ALL_run",
          "healthy_left_ALL_run",
          "healthy_left_ALL_run",
          "healthy_left_ALL_run",
          "healthy_left_ALL_run",
          "healthy_left_ALL_run",
          "healthy_left_ALL_run",
          "healthy_left_ALL_run",
          "healthy_left_ALL_run",
          "healthy_left_ALL_run",
          "healthy_left_ALL_run",
          "healthy_left_ALL_run",
          "healthy_left_ALL_run"
         ],
         "xaxis": "x6",
         "y": {
          "bdata": "eTOBTMagVsDbCH/9n/k0wFeiYADkZANA2auBw79WUcDDmi0vGcFPwCWvQhURlEbAFdCGtr0VHMCgCJwm/+H4P3YnX+WVGSjA8B/A4eT1ScBQhkiTTvkgwB/ioRycZUPAOuzETmz4MEC1FhCCMXY/wOGuwfPdd1LAGMC8beHNRcDdeaqQAfRHwKDXCWk6vVHAi7AWsnAxJsCvSrJUV0UpwK7YlAmPm0HANEBGyk3JMMB6nn9J0oZRwGtqcj0BhxdA5RCCT0UXQcD4LoAnPIY0wCkNE2NbgS/ADSY2SiRjQ8A=",
          "dtype": "f8"
         },
         "yaxis": "y6"
        },
        {
         "error_y": {
          "array": [
           7.765519269006402,
           16.215492576720635
          ],
          "type": "data",
          "visible": true
         },
         "marker": {
          "color": [
           "#636EFA",
           "#EF553B"
          ],
          "line": {
           "color": "black",
           "width": 1
          }
         },
         "name": "Mean step jerk Y during swing - hip (m/s^3)",
         "type": "bar",
         "x": [
          "sick_left_E_run",
          "healthy_left_ALL_run"
         ],
         "xaxis": "x7",
         "y": [
          -5.70494431252244,
          -18.444939380193794
         ],
         "yaxis": "y7"
        },
        {
         "marker": {
          "color": "black",
          "opacity": 0.5,
          "size": 6
         },
         "mode": "markers",
         "showlegend": false,
         "type": "scatter",
         "x": [
          "sick_left_E_run",
          "sick_left_E_run",
          "sick_left_E_run",
          "sick_left_E_run",
          "sick_left_E_run",
          "sick_left_E_run",
          "sick_left_E_run",
          "sick_left_E_run",
          "sick_left_E_run",
          "sick_left_E_run"
         ],
         "xaxis": "x7",
         "y": {
          "bdata": "DfFJ02r8/z/ekDush+oSwIlyxtPuQyrAirrzxBk0FsCRGCuwRDAqwMVIaROrTCVAa8xF2txeH8CfRBEhpgwuwBFiAeWQywTAvgyhCxjmHsA=",
          "dtype": "f8"
         },
         "yaxis": "y7"
        },
        {
         "marker": {
          "color": "black",
          "opacity": 0.5,
          "size": 6
         },
         "mode": "markers",
         "showlegend": false,
         "type": "scatter",
         "x": [
          "healthy_left_ALL_run",
          "healthy_left_ALL_run",
          "healthy_left_ALL_run",
          "healthy_left_ALL_run",
          "healthy_left_ALL_run",
          "healthy_left_ALL_run",
          "healthy_left_ALL_run",
          "healthy_left_ALL_run",
          "healthy_left_ALL_run",
          "healthy_left_ALL_run",
          "healthy_left_ALL_run",
          "healthy_left_ALL_run",
          "healthy_left_ALL_run",
          "healthy_left_ALL_run",
          "healthy_left_ALL_run",
          "healthy_left_ALL_run",
          "healthy_left_ALL_run",
          "healthy_left_ALL_run",
          "healthy_left_ALL_run",
          "healthy_left_ALL_run",
          "healthy_left_ALL_run",
          "healthy_left_ALL_run",
          "healthy_left_ALL_run",
          "healthy_left_ALL_run",
          "healthy_left_ALL_run",
          "healthy_left_ALL_run",
          "healthy_left_ALL_run",
          "healthy_left_ALL_run"
         ],
         "xaxis": "x7",
         "y": {
          "bdata": "zOovs89lQcAFJgKOY2bkv+UtBOqAqS3AG8WNDrJTJMBs8PK0Tww6wH6zzsl9fyRAWMgf49iWFsD0drhNKysYwJ2wXMYi9zPAKXEQHntmOsDc6QXZ00UnwIDPuKTQbCnA/tLdfTL8GMDQmTU3LVMowEU0w4j800bA1wbahl9POMCDJ12/24U0wFzJq69pLTXA2gOEF+niQMCGEULWVWoywDda+ibzpjvAhK2A/6QIKMB2rGg1CIZRwFZ8BBNnGRrAQz3Dzs3+McDmZf7RgFYtwI04iWhYhx5ALjGn1kEfQcA=",
          "dtype": "f8"
         },
         "yaxis": "y7"
        },
        {
         "error_y": {
          "array": [
           7.887571744179217,
           12.149047835582206
          ],
          "type": "data",
          "visible": true
         },
         "marker": {
          "color": [
           "#636EFA",
           "#EF553B"
          ],
          "line": {
           "color": "black",
           "width": 1
          }
         },
         "name": "Mean phase excursion - rhindlimb - lHindpaw (°)",
         "type": "bar",
         "x": [
          "sick_left_E_run",
          "healthy_left_ALL_run"
         ],
         "xaxis": "x8",
         "y": [
          109.6304055065599,
          123.34355600644953
         ],
         "yaxis": "y8"
        },
        {
         "marker": {
          "color": "black",
          "opacity": 0.5,
          "size": 6
         },
         "mode": "markers",
         "showlegend": false,
         "type": "scatter",
         "x": [
          "sick_left_E_run",
          "sick_left_E_run",
          "sick_left_E_run",
          "sick_left_E_run",
          "sick_left_E_run",
          "sick_left_E_run",
          "sick_left_E_run",
          "sick_left_E_run",
          "sick_left_E_run",
          "sick_left_E_run"
         ],
         "xaxis": "x8",
         "y": {
          "bdata": "ExAUdaoFW0D5CTIPewhaQHvYI/OQqFlAsqDMBVtgXED4BdulEXJZQGDew1aieV9ARH3mvIqmXUAbuB2bXf1aQATEQVBtzltAnUpFgVqeWUA=",
          "dtype": "f8"
         },
         "yaxis": "y8"
        },
        {
         "marker": {
          "color": "black",
          "opacity": 0.5,
          "size": 6
         },
         "mode": "markers",
         "showlegend": false,
         "type": "scatter",
         "x": [
          "healthy_left_ALL_run",
          "healthy_left_ALL_run",
          "healthy_left_ALL_run",
          "healthy_left_ALL_run",
          "healthy_left_ALL_run",
          "healthy_left_ALL_run",
          "healthy_left_ALL_run",
          "healthy_left_ALL_run",
          "healthy_left_ALL_run",
          "healthy_left_ALL_run",
          "healthy_left_ALL_run",
          "healthy_left_ALL_run",
          "healthy_left_ALL_run",
          "healthy_left_ALL_run",
          "healthy_left_ALL_run",
          "healthy_left_ALL_run",
          "healthy_left_ALL_run",
          "healthy_left_ALL_run",
          "healthy_left_ALL_run",
          "healthy_left_ALL_run",
          "healthy_left_ALL_run",
          "healthy_left_ALL_run",
          "healthy_left_ALL_run",
          "healthy_left_ALL_run",
          "healthy_left_ALL_run",
          "healthy_left_ALL_run",
          "healthy_left_ALL_run",
          "healthy_left_ALL_run"
         ],
         "xaxis": "x8",
         "y": {
          "bdata": "biOBx2UEXUBgCBcQ4RhfQMrEd+DPjWFAzHQvyhtjYEBr5fmdbl5gQEkxqBzNL2BApVIkferxXUDN7SxFlYJcQHTSByZjf2FAZnFZAu9mWkBOzLEnBshaQN9MRzUosWBAYrkIPqYeWEAlwzqKcMteQGypJERpUV5A0BCGz37WW0BLdGobisReQOtb49aK22JA3lq9XrBPXUCnTNLv2bFcQBtxtexbt11AVwxd6gqFXkCKgRei5FtgQFQc6dUzUF1AbVoXoKhsXEBIXNf0C8NgQM36K6IS5l5AUYmt1ZLNYUA=",
          "dtype": "f8"
         },
         "yaxis": "y8"
        },
        {
         "error_y": {
          "array": [
           1.4078689085520508,
           11.434722066254494
          ],
          "type": "data",
          "visible": true
         },
         "marker": {
          "color": [
           "#636EFA",
           "#EF553B"
          ],
          "line": {
           "color": "black",
           "width": 1
          }
         },
         "name": "Mean angle excursion - rhindlimb - lHindpaw (°)",
         "type": "bar",
         "x": [
          "sick_left_E_run",
          "healthy_left_ALL_run"
         ],
         "xaxis": "x9",
         "y": [
          58.78871492493587,
          66.05285797681037
         ],
         "yaxis": "y9"
        },
        {
         "marker": {
          "color": "black",
          "opacity": 0.5,
          "size": 6
         },
         "mode": "markers",
         "showlegend": false,
         "type": "scatter",
         "x": [
          "sick_left_E_run",
          "sick_left_E_run",
          "sick_left_E_run",
          "sick_left_E_run",
          "sick_left_E_run",
          "sick_left_E_run",
          "sick_left_E_run",
          "sick_left_E_run",
          "sick_left_E_run",
          "sick_left_E_run"
         ],
         "xaxis": "x9",
         "y": {
          "bdata": "yUiMYMpwTkByuI+U+LZMQEpG4wOVDE1AicZo9y57TUD1bM39pUhMQCArwkdnJk5A2/WtzaPTTEC9IR1Es7NNQMsA6noXHE5AupadWIsvTUA=",
          "dtype": "f8"
         },
         "yaxis": "y9"
        },
        {
         "marker": {
          "color": "black",
          "opacity": 0.5,
          "size": 6
         },
         "mode": "markers",
         "showlegend": false,
         "type": "scatter",
         "x": [
          "healthy_left_ALL_run",
          "healthy_left_ALL_run",
          "healthy_left_ALL_run",
          "healthy_left_ALL_run",
          "healthy_left_ALL_run",
          "healthy_left_ALL_run",
          "healthy_left_ALL_run",
          "healthy_left_ALL_run",
          "healthy_left_ALL_run",
          "healthy_left_ALL_run",
          "healthy_left_ALL_run",
          "healthy_left_ALL_run",
          "healthy_left_ALL_run",
          "healthy_left_ALL_run",
          "healthy_left_ALL_run",
          "healthy_left_ALL_run",
          "healthy_left_ALL_run",
          "healthy_left_ALL_run",
          "healthy_left_ALL_run",
          "healthy_left_ALL_run",
          "healthy_left_ALL_run",
          "healthy_left_ALL_run",
          "healthy_left_ALL_run",
          "healthy_left_ALL_run",
          "healthy_left_ALL_run",
          "healthy_left_ALL_run",
          "healthy_left_ALL_run",
          "healthy_left_ALL_run"
         ],
         "xaxis": "x9",
         "y": {
          "bdata": "9NMzTJ2uTkCpqCEbEF1PQOH8O3KBXk1AfAn15RuGTkCwgH63sitaQPwKB4dQilBAN0z1EahKTUChoJpn0axQQJw5iGHYclBAT9ztbgdEUEDA4NIQCVJMQKEZDvSczVBAyM5bKYkiTkCV2K2a0bZNQMivYhvzL1RAour+J0eTTUC/1EHuNOhXQCX48l6y+FNAGG/q+hS9TkAMGNU6d9NOQB9jg12L6E5AH9NphPLaTkC0pwKjXDxNQDia4C0MLk5ASPW9LdxRUUBOSXKACqFLQKpMaoujvFFAyISWF/9WTUA=",
          "dtype": "f8"
         },
         "yaxis": "y9"
        },
        {
         "error_y": {
          "array": [
           0.0035816970594442906,
           0.006029373320108433
          ],
          "type": "data",
          "visible": true
         },
         "marker": {
          "color": [
           "#636EFA",
           "#EF553B"
          ],
          "line": {
           "color": "black",
           "width": 1
          }
         },
         "name": "Mean step length (m)",
         "type": "bar",
         "x": [
          "sick_left_E_run",
          "healthy_left_ALL_run"
         ],
         "xaxis": "x10",
         "y": [
          0.05726453975535896,
          0.06080859161697703
         ],
         "yaxis": "y10"
        },
        {
         "marker": {
          "color": "black",
          "opacity": 0.5,
          "size": 6
         },
         "mode": "markers",
         "showlegend": false,
         "type": "scatter",
         "x": [
          "sick_left_E_run",
          "sick_left_E_run",
          "sick_left_E_run",
          "sick_left_E_run",
          "sick_left_E_run",
          "sick_left_E_run",
          "sick_left_E_run",
          "sick_left_E_run",
          "sick_left_E_run",
          "sick_left_E_run"
         ],
         "xaxis": "x10",
         "y": {
          "bdata": "7LRW6XXorj9YDaP9pnysPxo8GaoZJ64/urjykQUwqz9dVgCfiSKqP9ZBjiHjcK8/tpeFMCxKrT/PZCXfcVavPyBwq9leW64/BW56QCHmqz8=",
          "dtype": "f8"
         },
         "yaxis": "y10"
        },
        {
         "marker": {
          "color": "black",
          "opacity": 0.5,
          "size": 6
         },
         "mode": "markers",
         "showlegend": false,
         "type": "scatter",
         "x": [
          "healthy_left_ALL_run",
          "healthy_left_ALL_run",
          "healthy_left_ALL_run",
          "healthy_left_ALL_run",
          "healthy_left_ALL_run",
          "healthy_left_ALL_run",
          "healthy_left_ALL_run",
          "healthy_left_ALL_run",
          "healthy_left_ALL_run",
          "healthy_left_ALL_run",
          "healthy_left_ALL_run",
          "healthy_left_ALL_run",
          "healthy_left_ALL_run",
          "healthy_left_ALL_run",
          "healthy_left_ALL_run",
          "healthy_left_ALL_run",
          "healthy_left_ALL_run",
          "healthy_left_ALL_run",
          "healthy_left_ALL_run",
          "healthy_left_ALL_run",
          "healthy_left_ALL_run",
          "healthy_left_ALL_run",
          "healthy_left_ALL_run",
          "healthy_left_ALL_run",
          "healthy_left_ALL_run",
          "healthy_left_ALL_run",
          "healthy_left_ALL_run",
          "healthy_left_ALL_run"
         ],
         "xaxis": "x10",
         "y": {
          "bdata": "8wxNlB8Gsj9iVbK0rbGwP/DOLNfJ0qw/32xylzSdrz843RP39A2wPxGStGGfz7E/xgX2+Tjbqj+oWXxAXPauP/sl8Z4CBLA/zQn9tTBFrz+dYOnlq1WwP9rKbhgSVLA/XBXNj5zHqT+q1//okZusP7f4cithRbA/EGcfPsNCsD8wjd2voS6vP6gobD1rLrM/5FYESw60rD9PgRBW2vGrP5Vxx76dtK8/M1Ya9kvqrD80gAM4AAawP9y2T3Z5764/i2F/XK47rD+aqxhFW12oPz+t1Eotm68/PxdqygIgsT8=",
          "dtype": "f8"
         },
         "yaxis": "y10"
        },
        {
         "error_y": {
          "array": [
           0.033457303173087316,
           0.07576753314066248
          ],
          "type": "data",
          "visible": true
         },
         "marker": {
          "color": [
           "#636EFA",
           "#EF553B"
          ],
          "line": {
           "color": "black",
           "width": 1
          }
         },
         "name": "Mean step velocity X during swing - lHindfingers (m/s)",
         "type": "bar",
         "x": [
          "sick_left_E_run",
          "healthy_left_ALL_run"
         ],
         "xaxis": "x11",
         "y": [
          0.46323684219237793,
          0.5144555616124303
         ],
         "yaxis": "y11"
        },
        {
         "marker": {
          "color": "black",
          "opacity": 0.5,
          "size": 6
         },
         "mode": "markers",
         "showlegend": false,
         "type": "scatter",
         "x": [
          "sick_left_E_run",
          "sick_left_E_run",
          "sick_left_E_run",
          "sick_left_E_run",
          "sick_left_E_run",
          "sick_left_E_run",
          "sick_left_E_run",
          "sick_left_E_run",
          "sick_left_E_run",
          "sick_left_E_run"
         ],
         "xaxis": "x11",
         "y": {
          "bdata": "/jLc504n4D+kncUcoL7eP0MWPu/Kbt0/W52jrJ1i3T8dhAGcjHLbP4OGpFISnds//BfmLa/P4D8z6X0SlW3ePx2drA3fGNw/SmvPc6Fk2z8=",
          "dtype": "f8"
         },
         "yaxis": "y11"
        },
        {
         "marker": {
          "color": "black",
          "opacity": 0.5,
          "size": 6
         },
         "mode": "markers",
         "showlegend": false,
         "type": "scatter",
         "x": [
          "healthy_left_ALL_run",
          "healthy_left_ALL_run",
          "healthy_left_ALL_run",
          "healthy_left_ALL_run",
          "healthy_left_ALL_run",
          "healthy_left_ALL_run",
          "healthy_left_ALL_run",
          "healthy_left_ALL_run",
          "healthy_left_ALL_run",
          "healthy_left_ALL_run",
          "healthy_left_ALL_run",
          "healthy_left_ALL_run",
          "healthy_left_ALL_run",
          "healthy_left_ALL_run",
          "healthy_left_ALL_run",
          "healthy_left_ALL_run",
          "healthy_left_ALL_run",
          "healthy_left_ALL_run",
          "healthy_left_ALL_run",
          "healthy_left_ALL_run",
          "healthy_left_ALL_run",
          "healthy_left_ALL_run",
          "healthy_left_ALL_run",
          "healthy_left_ALL_run",
          "healthy_left_ALL_run",
          "healthy_left_ALL_run",
          "healthy_left_ALL_run",
          "healthy_left_ALL_run"
         ],
         "xaxis": "x11",
         "y": {
          "bdata": "bfkssxsk4z8Q1y6rMFTeP0KNYZf0mNo/K7FURUnD4D/MyGU1cgDgP6AvUqG1Y+M/HCi0TG5w3j9wtlnTJ//dP9F1Gq08R98//izqXNVB4j9i8IAFR43ZP/TsDhKIYeA/UzN0pF404j/oSEkQzX/dP8LmTc2LzOM/YPdb+cjd4j9KWONs7sbgP2EZhJfoWOY/6/N9oImv2z86/MvF3IvaP3xkoTQuduE/vGreQ6He4D+plZKwocTjP52kqdI7NN8/RDT6NT634D9R/HedtOPXP1vvKSk1ON4/eRP7J1KX4D8=",
          "dtype": "f8"
         },
         "yaxis": "y11"
        },
        {
         "error_y": {
          "array": [
           16.509989994439266,
           26.0281665857205
          ],
          "type": "data",
          "visible": true
         },
         "marker": {
          "color": [
           "#636EFA",
           "#EF553B"
          ],
          "line": {
           "color": "black",
           "width": 1
          }
         },
         "name": "Mean step jerk Y during stance - lHindpaw (m/s^3)",
         "type": "bar",
         "x": [
          "sick_left_E_run",
          "healthy_left_ALL_run"
         ],
         "xaxis": "x12",
         "y": [
          -10.514130485929053,
          -26.58284799219211
         ],
         "yaxis": "y12"
        },
        {
         "marker": {
          "color": "black",
          "opacity": 0.5,
          "size": 6
         },
         "mode": "markers",
         "showlegend": false,
         "type": "scatter",
         "x": [
          "sick_left_E_run",
          "sick_left_E_run",
          "sick_left_E_run",
          "sick_left_E_run",
          "sick_left_E_run",
          "sick_left_E_run",
          "sick_left_E_run",
          "sick_left_E_run",
          "sick_left_E_run",
          "sick_left_E_run"
         ],
         "xaxis": "x12",
         "y": {
          "bdata": "Z6jwyniAJUCJ49TgQXAhQEKcmTsXnUHAxfR8g81OLMBvabZhkuc0wMfdWiWhnDjAcD6yf05oGsDcPhIUZdA3wByQ1Wy8ByhAP2HiTE2gJsA=",
          "dtype": "f8"
         },
         "yaxis": "y12"
        },
        {
         "marker": {
          "color": "black",
          "opacity": 0.5,
          "size": 6
         },
         "mode": "markers",
         "showlegend": false,
         "type": "scatter",
         "x": [
          "healthy_left_ALL_run",
          "healthy_left_ALL_run",
          "healthy_left_ALL_run",
          "healthy_left_ALL_run",
          "healthy_left_ALL_run",
          "healthy_left_ALL_run",
          "healthy_left_ALL_run",
          "healthy_left_ALL_run",
          "healthy_left_ALL_run",
          "healthy_left_ALL_run",
          "healthy_left_ALL_run",
          "healthy_left_ALL_run",
          "healthy_left_ALL_run",
          "healthy_left_ALL_run",
          "healthy_left_ALL_run",
          "healthy_left_ALL_run",
          "healthy_left_ALL_run",
          "healthy_left_ALL_run",
          "healthy_left_ALL_run",
          "healthy_left_ALL_run",
          "healthy_left_ALL_run",
          "healthy_left_ALL_run",
          "healthy_left_ALL_run",
          "healthy_left_ALL_run",
          "healthy_left_ALL_run",
          "healthy_left_ALL_run",
          "healthy_left_ALL_run",
          "healthy_left_ALL_run"
         ],
         "xaxis": "x12",
         "y": {
          "bdata": "79kRFOkSSMDT0lpMHbwqwN7kBPXMTC3AR4LslpzTSMAczt1h3nBMwBudjhk2hkLAvuvVpYGALsCny3Y5FaU8QNFeuPv30j7AQ+oOqHrgSMAEKxuHybQzwCDK0dNBIkHA0Ymd2DD/MUCXmBMvFvNBwLuE1APiDUHALdBolrsDRsB9DRqgAVZOwJzSsmdF3EbAyRym+aEuPMBbzvGVk1YsQJ3zi1HEEkXAV7dbDpo7HEAgxKieKpJOwGnDd8ZJYT7A3mm/9Q0+OsAeXa3UELAgwDows1FKETtA3JF6h1BrSsA=",
          "dtype": "f8"
         },
         "yaxis": "y12"
        },
        {
         "error_y": {
          "array": [
           0.16328173094517962,
           0.24569765504983088
          ],
          "type": "data",
          "visible": true
         },
         "marker": {
          "color": [
           "#636EFA",
           "#EF553B"
          ],
          "line": {
           "color": "black",
           "width": 1
          }
         },
         "name": "Mean step acceleration Y during stance - hip (m/s^2)",
         "type": "bar",
         "x": [
          "sick_left_E_run",
          "healthy_left_ALL_run"
         ],
         "xaxis": "x13",
         "y": [
          -0.046042038126573044,
          0.08780881513859189
         ],
         "yaxis": "y13"
        },
        {
         "marker": {
          "color": "black",
          "opacity": 0.5,
          "size": 6
         },
         "mode": "markers",
         "showlegend": false,
         "type": "scatter",
         "x": [
          "sick_left_E_run",
          "sick_left_E_run",
          "sick_left_E_run",
          "sick_left_E_run",
          "sick_left_E_run",
          "sick_left_E_run",
          "sick_left_E_run",
          "sick_left_E_run",
          "sick_left_E_run",
          "sick_left_E_run"
         ],
         "xaxis": "x13",
         "y": {
          "bdata": "8W8xAfvk0r838gFDXazEP/WIWGgWZ8e/WuvSlnkMwj/tx6bI7SNxv8d9Zt1wHbY/48Cjz5CZx7/OxEubMzK5P3OX2NdNqLi/krCWmdOnx78=",
          "dtype": "f8"
         },
         "yaxis": "y13"
        },
        {
         "marker": {
          "color": "black",
          "opacity": 0.5,
          "size": 6
         },
         "mode": "markers",
         "showlegend": false,
         "type": "scatter",
         "x": [
          "healthy_left_ALL_run",
          "healthy_left_ALL_run",
          "healthy_left_ALL_run",
          "healthy_left_ALL_run",
          "healthy_left_ALL_run",
          "healthy_left_ALL_run",
          "healthy_left_ALL_run",
          "healthy_left_ALL_run",
          "healthy_left_ALL_run",
          "healthy_left_ALL_run",
          "healthy_left_ALL_run",
          "healthy_left_ALL_run",
          "healthy_left_ALL_run",
          "healthy_left_ALL_run",
          "healthy_left_ALL_run",
          "healthy_left_ALL_run",
          "healthy_left_ALL_run",
          "healthy_left_ALL_run",
          "healthy_left_ALL_run",
          "healthy_left_ALL_run",
          "healthy_left_ALL_run",
          "healthy_left_ALL_run",
          "healthy_left_ALL_run",
          "healthy_left_ALL_run",
          "healthy_left_ALL_run",
          "healthy_left_ALL_run",
          "healthy_left_ALL_run",
          "healthy_left_ALL_run"
         ],
         "xaxis": "x13",
         "y": {
          "bdata": "1EOmGauS4r9Qcf7vP67WvyWC82Kd3rS/d6L/AxKS0r9v0VFGKkvaP+NddjolZ8G/Ticpo2HbzD+CJr1RygnUP2FsjszfX8k/j0QkfsLByj/h++4KpHKYP978z//8q88/DWrUeXAx0L9HH3lHgDXSP7JgTwePDrs/WPjFJAdi0j+eRuzdwJ3CP/w/IXPS+9I/CTZeoKOZ2D+tmx92q3DCP33hn7SruLI/UFY7CTauuj8mPR4DoTLFvwoetnLxp7W/BNXuNu0iyz+9BXPUrnzMPxZtjEy4XsU/JW74U75e1j8=",
          "dtype": "f8"
         },
         "yaxis": "y13"
        },
        {
         "error_y": {
          "array": [
           0.0317765650863258,
           0.07270553825746187
          ],
          "type": "data",
          "visible": true
         },
         "marker": {
          "color": [
           "#636EFA",
           "#EF553B"
          ],
          "line": {
           "color": "black",
           "width": 1
          }
         },
         "name": "Mean step velocity X during swing - lHindpaw (m/s)",
         "type": "bar",
         "x": [
          "sick_left_E_run",
          "healthy_left_ALL_run"
         ],
         "xaxis": "x14",
         "y": [
          0.4447008447574413,
          0.4858154450478346
         ],
         "yaxis": "y14"
        },
        {
         "marker": {
          "color": "black",
          "opacity": 0.5,
          "size": 6
         },
         "mode": "markers",
         "showlegend": false,
         "type": "scatter",
         "x": [
          "sick_left_E_run",
          "sick_left_E_run",
          "sick_left_E_run",
          "sick_left_E_run",
          "sick_left_E_run",
          "sick_left_E_run",
          "sick_left_E_run",
          "sick_left_E_run",
          "sick_left_E_run",
          "sick_left_E_run"
         ],
         "xaxis": "x14",
         "y": {
          "bdata": "HyadrcUG3z/s8FCDv8/dP4ZiWTnTMtw/NZN5QwIs3D8HuXSohEvaP1giitymYdo/r28zLpEA4D+JBVOkKVHdP/Fe4fVJ/do/n158KK1p2j8=",
          "dtype": "f8"
         },
         "yaxis": "y14"
        },
        {
         "marker": {
          "color": "black",
          "opacity": 0.5,
          "size": 6
         },
         "mode": "markers",
         "showlegend": false,
         "type": "scatter",
         "x": [
          "healthy_left_ALL_run",
          "healthy_left_ALL_run",
          "healthy_left_ALL_run",
          "healthy_left_ALL_run",
          "healthy_left_ALL_run",
          "healthy_left_ALL_run",
          "healthy_left_ALL_run",
          "healthy_left_ALL_run",
          "healthy_left_ALL_run",
          "healthy_left_ALL_run",
          "healthy_left_ALL_run",
          "healthy_left_ALL_run",
          "healthy_left_ALL_run",
          "healthy_left_ALL_run",
          "healthy_left_ALL_run",
          "healthy_left_ALL_run",
          "healthy_left_ALL_run",
          "healthy_left_ALL_run",
          "healthy_left_ALL_run",
          "healthy_left_ALL_run",
          "healthy_left_ALL_run",
          "healthy_left_ALL_run",
          "healthy_left_ALL_run",
          "healthy_left_ALL_run",
          "healthy_left_ALL_run",
          "healthy_left_ALL_run",
          "healthy_left_ALL_run",
          "healthy_left_ALL_run"
         ],
         "xaxis": "x14",
         "y": {
          "bdata": "Oe1Fwe0w4j8im/kmdN/bP8T/f6KspNg/GnNryBq93z+ZlLdTqx7eP7XBN2kXa+I/BXjVEMrP3D/e2NO1brzcP1Yj61rXyd0/gISahuBA4T/iB4bTPT3YP+BRflgJpt4/rbKThrc34T9tChTTVgHcP6bzX4411eI/b2/x5l3X4T+gdhUDNc/fP4r6URT8IeU/jANZwkp62j/AQC1aKELZP5D5grVuluA/+wrTk2k53z8eF4yf8JriPym5yIzTcN0/d2m6CUuP3z+6rhHCbvrVP90HCtYCv9w/iBqHhX9S3z8=",
          "dtype": "f8"
         },
         "yaxis": "y14"
        },
        {
         "error_y": {
          "array": [
           0.02048613139544349,
           0.05495187323318475
          ],
          "type": "data",
          "visible": true
         },
         "marker": {
          "color": [
           "#636EFA",
           "#EF553B"
          ],
          "line": {
           "color": "black",
           "width": 1
          }
         },
         "name": "Mean step velocity X during stance - hip (m/s)",
         "type": "bar",
         "x": [
          "sick_left_E_run",
          "healthy_left_ALL_run"
         ],
         "xaxis": "x15",
         "y": [
          0.20090701971696112,
          0.22994502441298711
         ],
         "yaxis": "y15"
        },
        {
         "marker": {
          "color": "black",
          "opacity": 0.5,
          "size": 6
         },
         "mode": "markers",
         "showlegend": false,
         "type": "scatter",
         "x": [
          "sick_left_E_run",
          "sick_left_E_run",
          "sick_left_E_run",
          "sick_left_E_run",
          "sick_left_E_run",
          "sick_left_E_run",
          "sick_left_E_run",
          "sick_left_E_run",
          "sick_left_E_run",
          "sick_left_E_run"
         ],
         "xaxis": "x15",
         "y": {
          "bdata": "Gg5Kr4Rtzj/fSp/Z91DLP+D16P2Yysk/SaNrPho+xj9+alVyWnfHP2tcELy57sc/RSuvvktlzD/yFJq0v73KPyF921cqzsY/SaRSlbwKyj8=",
          "dtype": "f8"
         },
         "yaxis": "y15"
        },
        {
         "marker": {
          "color": "black",
          "opacity": 0.5,
          "size": 6
         },
         "mode": "markers",
         "showlegend": false,
         "type": "scatter",
         "x": [
          "healthy_left_ALL_run",
          "healthy_left_ALL_run",
          "healthy_left_ALL_run",
          "healthy_left_ALL_run",
          "healthy_left_ALL_run",
          "healthy_left_ALL_run",
          "healthy_left_ALL_run",
          "healthy_left_ALL_run",
          "healthy_left_ALL_run",
          "healthy_left_ALL_run",
          "healthy_left_ALL_run",
          "healthy_left_ALL_run",
          "healthy_left_ALL_run",
          "healthy_left_ALL_run",
          "healthy_left_ALL_run",
          "healthy_left_ALL_run",
          "healthy_left_ALL_run",
          "healthy_left_ALL_run",
          "healthy_left_ALL_run",
          "healthy_left_ALL_run",
          "healthy_left_ALL_run",
          "healthy_left_ALL_run",
          "healthy_left_ALL_run",
          "healthy_left_ALL_run",
          "healthy_left_ALL_run",
          "healthy_left_ALL_run",
          "healthy_left_ALL_run",
          "healthy_left_ALL_run"
         ],
         "xaxis": "x15",
         "y": {
          "bdata": "OToOpgT61D9Vog9e25HJP2izmSoCtsI/7J+KEzGv0T/hPRH/KHHNPwS4xStdVtI/9+kn2lpGxT/xIcfW92DPPzZFTfxn1MY/jKNA1dPF0T9habz2QJrGP3+0a32S+Mw/WgjDOoOcyz/GbbQl8kXJP2L6i4+T09E/2dMeBWIj0z+5xVNXHUPLP4ZEJrx7kdY/v7y68b0Bxz9109Gf933GP7hhO7o+8c4/KfN9wRr/xz/1XLZMaZ/UPyp4Y1IVY8o/txqpGs9lzT9KN+M17UnDPyxVyE++mc0/Md0IuzE7zD8=",
          "dtype": "f8"
         },
         "yaxis": "y15"
        },
        {
         "error_y": {
          "array": [
           0.0267959806777726,
           0.06359828838845194
          ],
          "type": "data",
          "visible": true
         },
         "marker": {
          "color": [
           "#636EFA",
           "#EF553B"
          ],
          "line": {
           "color": "black",
           "width": 1
          }
         },
         "name": "Mean step velocity X during swing - ankle (m/s)",
         "type": "bar",
         "x": [
          "sick_left_E_run",
          "healthy_left_ALL_run"
         ],
         "xaxis": "x16",
         "y": [
          0.3730202092629926,
          0.40315094548376534
         ],
         "yaxis": "y16"
        },
        {
         "marker": {
          "color": "black",
          "opacity": 0.5,
          "size": 6
         },
         "mode": "markers",
         "showlegend": false,
         "type": "scatter",
         "x": [
          "sick_left_E_run",
          "sick_left_E_run",
          "sick_left_E_run",
          "sick_left_E_run",
          "sick_left_E_run",
          "sick_left_E_run",
          "sick_left_E_run",
          "sick_left_E_run",
          "sick_left_E_run",
          "sick_left_E_run"
         ],
         "xaxis": "x16",
         "y": {
          "bdata": "D5EcvgDn2T/FMZIhKUTZP6AIiQ0kS9g/90d1DZVI1z8wUM+lCvPVP7XzD0I9ENY/sbMCeddQ2j/wCpY7jijZP0oYYeTrW9Y/+Q9OEyUk1j8=",
          "dtype": "f8"
         },
         "yaxis": "y16"
        },
        {
         "marker": {
          "color": "black",
          "opacity": 0.5,
          "size": 6
         },
         "mode": "markers",
         "showlegend": false,
         "type": "scatter",
         "x": [
          "healthy_left_ALL_run",
          "healthy_left_ALL_run",
          "healthy_left_ALL_run",
          "healthy_left_ALL_run",
          "healthy_left_ALL_run",
          "healthy_left_ALL_run",
          "healthy_left_ALL_run",
          "healthy_left_ALL_run",
          "healthy_left_ALL_run",
          "healthy_left_ALL_run",
          "healthy_left_ALL_run",
          "healthy_left_ALL_run",
          "healthy_left_ALL_run",
          "healthy_left_ALL_run",
          "healthy_left_ALL_run",
          "healthy_left_ALL_run",
          "healthy_left_ALL_run",
          "healthy_left_ALL_run",
          "healthy_left_ALL_run",
          "healthy_left_ALL_run",
          "healthy_left_ALL_run",
          "healthy_left_ALL_run",
          "healthy_left_ALL_run",
          "healthy_left_ALL_run",
          "healthy_left_ALL_run",
          "healthy_left_ALL_run",
          "healthy_left_ALL_run",
          "healthy_left_ALL_run"
         ],
         "xaxis": "x16",
         "y": {
          "bdata": "ItCWopBh3z/kcU4XlbLWP7tVQ9AvGdQ/72yPucjf2j8UppoevVPZP/bRttnl2d4/76ijfaRM2D9iLT1HZyDYPx/cClaofNg/YEIYGg103D8inD7FiCXUP06Moke+wNg/xsdo5rs03D8wB/uvCWPXPzR5FgAjft8/8T3vr7Ef3j94wdPQsGPaPyJG1PKqhuE/JqLIpTXr1T+9DMOcIjjVP0QaOGyrjNs/vEZgKeI72T+bmoA/oyjfP5IKvxybkNg/0HnRKXak2T/8cHB5UQzRPzCHqS9oktc/nm9K8Y5k2j8=",
          "dtype": "f8"
         },
         "yaxis": "y16"
        }
       ],
       "layout": {
        "annotations": [
         {
          "font": {
           "size": 16
          },
          "showarrow": false,
          "text": "step velocity X during stance - ankle (m/s)",
          "x": 0.10625,
          "xanchor": "center",
          "xref": "paper",
          "y": 1,
          "yanchor": "bottom",
          "yref": "paper"
         },
         {
          "font": {
           "size": 16
          },
          "showarrow": false,
          "text": "step velocity X during stance - knee (m/s)",
          "x": 0.36875,
          "xanchor": "center",
          "xref": "paper",
          "y": 1,
          "yanchor": "bottom",
          "yref": "paper"
         },
         {
          "font": {
           "size": 16
          },
          "showarrow": false,
          "text": "step acceleration Y during swing - hip (m/s^2)",
          "x": 0.6312500000000001,
          "xanchor": "center",
          "xref": "paper",
          "y": 1,
          "yanchor": "bottom",
          "yref": "paper"
         },
         {
          "font": {
           "size": 16
          },
          "showarrow": false,
          "text": "angle excursion lHindfingers (°)",
          "x": 0.89375,
          "xanchor": "center",
          "xref": "paper",
          "y": 1,
          "yanchor": "bottom",
          "yref": "paper"
         },
         {
          "font": {
           "size": 16
          },
          "showarrow": false,
          "text": "step jerk Y during swing - ankle (m/s^3)",
          "x": 0.10625,
          "xanchor": "center",
          "xref": "paper",
          "y": 0.71875,
          "yanchor": "bottom",
          "yref": "paper"
         },
         {
          "font": {
           "size": 16
          },
          "showarrow": false,
          "text": "step jerk Y during stance - ankle (m/s^3)",
          "x": 0.36875,
          "xanchor": "center",
          "xref": "paper",
          "y": 0.71875,
          "yanchor": "bottom",
          "yref": "paper"
         },
         {
          "font": {
           "size": 16
          },
          "showarrow": false,
          "text": "step jerk Y during swing - hip (m/s^3)",
          "x": 0.6312500000000001,
          "xanchor": "center",
          "xref": "paper",
          "y": 0.71875,
          "yanchor": "bottom",
          "yref": "paper"
         },
         {
          "font": {
           "size": 16
          },
          "showarrow": false,
          "text": "phase excursion lHindpaw (°)",
          "x": 0.89375,
          "xanchor": "center",
          "xref": "paper",
          "y": 0.71875,
          "yanchor": "bottom",
          "yref": "paper"
         },
         {
          "font": {
           "size": 16
          },
          "showarrow": false,
          "text": "angle excursion lHindpaw (°)",
          "x": 0.10625,
          "xanchor": "center",
          "xref": "paper",
          "y": 0.4375,
          "yanchor": "bottom",
          "yref": "paper"
         },
         {
          "font": {
           "size": 16
          },
          "showarrow": false,
          "text": "step length (m)",
          "x": 0.36875,
          "xanchor": "center",
          "xref": "paper",
          "y": 0.4375,
          "yanchor": "bottom",
          "yref": "paper"
         },
         {
          "font": {
           "size": 16
          },
          "showarrow": false,
          "text": "step velocity X during swing - lHindfingers (m/s)",
          "x": 0.6312500000000001,
          "xanchor": "center",
          "xref": "paper",
          "y": 0.4375,
          "yanchor": "bottom",
          "yref": "paper"
         },
         {
          "font": {
           "size": 16
          },
          "showarrow": false,
          "text": "step jerk Y during stance - lHindpaw (m/s^3)",
          "x": 0.89375,
          "xanchor": "center",
          "xref": "paper",
          "y": 0.4375,
          "yanchor": "bottom",
          "yref": "paper"
         },
         {
          "font": {
           "size": 16
          },
          "showarrow": false,
          "text": "step acceleration Y during stance - hip (m/s^2)",
          "x": 0.10625,
          "xanchor": "center",
          "xref": "paper",
          "y": 0.15625,
          "yanchor": "bottom",
          "yref": "paper"
         },
         {
          "font": {
           "size": 16
          },
          "showarrow": false,
          "text": "step velocity X during swing - lHindpaw (m/s)",
          "x": 0.36875,
          "xanchor": "center",
          "xref": "paper",
          "y": 0.15625,
          "yanchor": "bottom",
          "yref": "paper"
         },
         {
          "font": {
           "size": 16
          },
          "showarrow": false,
          "text": "step velocity X during stance - hip (m/s)",
          "x": 0.6312500000000001,
          "xanchor": "center",
          "xref": "paper",
          "y": 0.15625,
          "yanchor": "bottom",
          "yref": "paper"
         },
         {
          "font": {
           "size": 16
          },
          "showarrow": false,
          "text": "step velocity X during swing - ankle (m/s)",
          "x": 0.89375,
          "xanchor": "center",
          "xref": "paper",
          "y": 0.15625,
          "yanchor": "bottom",
          "yref": "paper"
         }
        ],
        "height": 2000,
        "plot_bgcolor": "rgba(0,0,0,0)",
        "showlegend": false,
        "template": {
         "data": {
          "bar": [
           {
            "error_x": {
             "color": "#2a3f5f"
            },
            "error_y": {
             "color": "#2a3f5f"
            },
            "marker": {
             "line": {
              "color": "#E5ECF6",
              "width": 0.5
             },
             "pattern": {
              "fillmode": "overlay",
              "size": 10,
              "solidity": 0.2
             }
            },
            "type": "bar"
           }
          ],
          "barpolar": [
           {
            "marker": {
             "line": {
              "color": "#E5ECF6",
              "width": 0.5
             },
             "pattern": {
              "fillmode": "overlay",
              "size": 10,
              "solidity": 0.2
             }
            },
            "type": "barpolar"
           }
          ],
          "carpet": [
           {
            "aaxis": {
             "endlinecolor": "#2a3f5f",
             "gridcolor": "white",
             "linecolor": "white",
             "minorgridcolor": "white",
             "startlinecolor": "#2a3f5f"
            },
            "baxis": {
             "endlinecolor": "#2a3f5f",
             "gridcolor": "white",
             "linecolor": "white",
             "minorgridcolor": "white",
             "startlinecolor": "#2a3f5f"
            },
            "type": "carpet"
           }
          ],
          "choropleth": [
           {
            "colorbar": {
             "outlinewidth": 0,
             "ticks": ""
            },
            "type": "choropleth"
           }
          ],
          "contour": [
           {
            "colorbar": {
             "outlinewidth": 0,
             "ticks": ""
            },
            "colorscale": [
             [
              0,
              "#0d0887"
             ],
             [
              0.1111111111111111,
              "#46039f"
             ],
             [
              0.2222222222222222,
              "#7201a8"
             ],
             [
              0.3333333333333333,
              "#9c179e"
             ],
             [
              0.4444444444444444,
              "#bd3786"
             ],
             [
              0.5555555555555556,
              "#d8576b"
             ],
             [
              0.6666666666666666,
              "#ed7953"
             ],
             [
              0.7777777777777778,
              "#fb9f3a"
             ],
             [
              0.8888888888888888,
              "#fdca26"
             ],
             [
              1,
              "#f0f921"
             ]
            ],
            "type": "contour"
           }
          ],
          "contourcarpet": [
           {
            "colorbar": {
             "outlinewidth": 0,
             "ticks": ""
            },
            "type": "contourcarpet"
           }
          ],
          "heatmap": [
           {
            "colorbar": {
             "outlinewidth": 0,
             "ticks": ""
            },
            "colorscale": [
             [
              0,
              "#0d0887"
             ],
             [
              0.1111111111111111,
              "#46039f"
             ],
             [
              0.2222222222222222,
              "#7201a8"
             ],
             [
              0.3333333333333333,
              "#9c179e"
             ],
             [
              0.4444444444444444,
              "#bd3786"
             ],
             [
              0.5555555555555556,
              "#d8576b"
             ],
             [
              0.6666666666666666,
              "#ed7953"
             ],
             [
              0.7777777777777778,
              "#fb9f3a"
             ],
             [
              0.8888888888888888,
              "#fdca26"
             ],
             [
              1,
              "#f0f921"
             ]
            ],
            "type": "heatmap"
           }
          ],
          "histogram": [
           {
            "marker": {
             "pattern": {
              "fillmode": "overlay",
              "size": 10,
              "solidity": 0.2
             }
            },
            "type": "histogram"
           }
          ],
          "histogram2d": [
           {
            "colorbar": {
             "outlinewidth": 0,
             "ticks": ""
            },
            "colorscale": [
             [
              0,
              "#0d0887"
             ],
             [
              0.1111111111111111,
              "#46039f"
             ],
             [
              0.2222222222222222,
              "#7201a8"
             ],
             [
              0.3333333333333333,
              "#9c179e"
             ],
             [
              0.4444444444444444,
              "#bd3786"
             ],
             [
              0.5555555555555556,
              "#d8576b"
             ],
             [
              0.6666666666666666,
              "#ed7953"
             ],
             [
              0.7777777777777778,
              "#fb9f3a"
             ],
             [
              0.8888888888888888,
              "#fdca26"
             ],
             [
              1,
              "#f0f921"
             ]
            ],
            "type": "histogram2d"
           }
          ],
          "histogram2dcontour": [
           {
            "colorbar": {
             "outlinewidth": 0,
             "ticks": ""
            },
            "colorscale": [
             [
              0,
              "#0d0887"
             ],
             [
              0.1111111111111111,
              "#46039f"
             ],
             [
              0.2222222222222222,
              "#7201a8"
             ],
             [
              0.3333333333333333,
              "#9c179e"
             ],
             [
              0.4444444444444444,
              "#bd3786"
             ],
             [
              0.5555555555555556,
              "#d8576b"
             ],
             [
              0.6666666666666666,
              "#ed7953"
             ],
             [
              0.7777777777777778,
              "#fb9f3a"
             ],
             [
              0.8888888888888888,
              "#fdca26"
             ],
             [
              1,
              "#f0f921"
             ]
            ],
            "type": "histogram2dcontour"
           }
          ],
          "mesh3d": [
           {
            "colorbar": {
             "outlinewidth": 0,
             "ticks": ""
            },
            "type": "mesh3d"
           }
          ],
          "parcoords": [
           {
            "line": {
             "colorbar": {
              "outlinewidth": 0,
              "ticks": ""
             }
            },
            "type": "parcoords"
           }
          ],
          "pie": [
           {
            "automargin": true,
            "type": "pie"
           }
          ],
          "scatter": [
           {
            "fillpattern": {
             "fillmode": "overlay",
             "size": 10,
             "solidity": 0.2
            },
            "type": "scatter"
           }
          ],
          "scatter3d": [
           {
            "line": {
             "colorbar": {
              "outlinewidth": 0,
              "ticks": ""
             }
            },
            "marker": {
             "colorbar": {
              "outlinewidth": 0,
              "ticks": ""
             }
            },
            "type": "scatter3d"
           }
          ],
          "scattercarpet": [
           {
            "marker": {
             "colorbar": {
              "outlinewidth": 0,
              "ticks": ""
             }
            },
            "type": "scattercarpet"
           }
          ],
          "scattergeo": [
           {
            "marker": {
             "colorbar": {
              "outlinewidth": 0,
              "ticks": ""
             }
            },
            "type": "scattergeo"
           }
          ],
          "scattergl": [
           {
            "marker": {
             "colorbar": {
              "outlinewidth": 0,
              "ticks": ""
             }
            },
            "type": "scattergl"
           }
          ],
          "scattermap": [
           {
            "marker": {
             "colorbar": {
              "outlinewidth": 0,
              "ticks": ""
             }
            },
            "type": "scattermap"
           }
          ],
          "scattermapbox": [
           {
            "marker": {
             "colorbar": {
              "outlinewidth": 0,
              "ticks": ""
             }
            },
            "type": "scattermapbox"
           }
          ],
          "scatterpolar": [
           {
            "marker": {
             "colorbar": {
              "outlinewidth": 0,
              "ticks": ""
             }
            },
            "type": "scatterpolar"
           }
          ],
          "scatterpolargl": [
           {
            "marker": {
             "colorbar": {
              "outlinewidth": 0,
              "ticks": ""
             }
            },
            "type": "scatterpolargl"
           }
          ],
          "scatterternary": [
           {
            "marker": {
             "colorbar": {
              "outlinewidth": 0,
              "ticks": ""
             }
            },
            "type": "scatterternary"
           }
          ],
          "surface": [
           {
            "colorbar": {
             "outlinewidth": 0,
             "ticks": ""
            },
            "colorscale": [
             [
              0,
              "#0d0887"
             ],
             [
              0.1111111111111111,
              "#46039f"
             ],
             [
              0.2222222222222222,
              "#7201a8"
             ],
             [
              0.3333333333333333,
              "#9c179e"
             ],
             [
              0.4444444444444444,
              "#bd3786"
             ],
             [
              0.5555555555555556,
              "#d8576b"
             ],
             [
              0.6666666666666666,
              "#ed7953"
             ],
             [
              0.7777777777777778,
              "#fb9f3a"
             ],
             [
              0.8888888888888888,
              "#fdca26"
             ],
             [
              1,
              "#f0f921"
             ]
            ],
            "type": "surface"
           }
          ],
          "table": [
           {
            "cells": {
             "fill": {
              "color": "#EBF0F8"
             },
             "line": {
              "color": "white"
             }
            },
            "header": {
             "fill": {
              "color": "#C8D4E3"
             },
             "line": {
              "color": "white"
             }
            },
            "type": "table"
           }
          ]
         },
         "layout": {
          "annotationdefaults": {
           "arrowcolor": "#2a3f5f",
           "arrowhead": 0,
           "arrowwidth": 1
          },
          "autotypenumbers": "strict",
          "coloraxis": {
           "colorbar": {
            "outlinewidth": 0,
            "ticks": ""
           }
          },
          "colorscale": {
           "diverging": [
            [
             0,
             "#8e0152"
            ],
            [
             0.1,
             "#c51b7d"
            ],
            [
             0.2,
             "#de77ae"
            ],
            [
             0.3,
             "#f1b6da"
            ],
            [
             0.4,
             "#fde0ef"
            ],
            [
             0.5,
             "#f7f7f7"
            ],
            [
             0.6,
             "#e6f5d0"
            ],
            [
             0.7,
             "#b8e186"
            ],
            [
             0.8,
             "#7fbc41"
            ],
            [
             0.9,
             "#4d9221"
            ],
            [
             1,
             "#276419"
            ]
           ],
           "sequential": [
            [
             0,
             "#0d0887"
            ],
            [
             0.1111111111111111,
             "#46039f"
            ],
            [
             0.2222222222222222,
             "#7201a8"
            ],
            [
             0.3333333333333333,
             "#9c179e"
            ],
            [
             0.4444444444444444,
             "#bd3786"
            ],
            [
             0.5555555555555556,
             "#d8576b"
            ],
            [
             0.6666666666666666,
             "#ed7953"
            ],
            [
             0.7777777777777778,
             "#fb9f3a"
            ],
            [
             0.8888888888888888,
             "#fdca26"
            ],
            [
             1,
             "#f0f921"
            ]
           ],
           "sequentialminus": [
            [
             0,
             "#0d0887"
            ],
            [
             0.1111111111111111,
             "#46039f"
            ],
            [
             0.2222222222222222,
             "#7201a8"
            ],
            [
             0.3333333333333333,
             "#9c179e"
            ],
            [
             0.4444444444444444,
             "#bd3786"
            ],
            [
             0.5555555555555556,
             "#d8576b"
            ],
            [
             0.6666666666666666,
             "#ed7953"
            ],
            [
             0.7777777777777778,
             "#fb9f3a"
            ],
            [
             0.8888888888888888,
             "#fdca26"
            ],
            [
             1,
             "#f0f921"
            ]
           ]
          },
          "colorway": [
           "#636efa",
           "#EF553B",
           "#00cc96",
           "#ab63fa",
           "#FFA15A",
           "#19d3f3",
           "#FF6692",
           "#B6E880",
           "#FF97FF",
           "#FECB52"
          ],
          "font": {
           "color": "#2a3f5f"
          },
          "geo": {
           "bgcolor": "white",
           "lakecolor": "white",
           "landcolor": "#E5ECF6",
           "showlakes": true,
           "showland": true,
           "subunitcolor": "white"
          },
          "hoverlabel": {
           "align": "left"
          },
          "hovermode": "closest",
          "mapbox": {
           "style": "light"
          },
          "paper_bgcolor": "white",
          "plot_bgcolor": "#E5ECF6",
          "polar": {
           "angularaxis": {
            "gridcolor": "white",
            "linecolor": "white",
            "ticks": ""
           },
           "bgcolor": "#E5ECF6",
           "radialaxis": {
            "gridcolor": "white",
            "linecolor": "white",
            "ticks": ""
           }
          },
          "scene": {
           "xaxis": {
            "backgroundcolor": "#E5ECF6",
            "gridcolor": "white",
            "gridwidth": 2,
            "linecolor": "white",
            "showbackground": true,
            "ticks": "",
            "zerolinecolor": "white"
           },
           "yaxis": {
            "backgroundcolor": "#E5ECF6",
            "gridcolor": "white",
            "gridwidth": 2,
            "linecolor": "white",
            "showbackground": true,
            "ticks": "",
            "zerolinecolor": "white"
           },
           "zaxis": {
            "backgroundcolor": "#E5ECF6",
            "gridcolor": "white",
            "gridwidth": 2,
            "linecolor": "white",
            "showbackground": true,
            "ticks": "",
            "zerolinecolor": "white"
           }
          },
          "shapedefaults": {
           "line": {
            "color": "#2a3f5f"
           }
          },
          "ternary": {
           "aaxis": {
            "gridcolor": "white",
            "linecolor": "white",
            "ticks": ""
           },
           "baxis": {
            "gridcolor": "white",
            "linecolor": "white",
            "ticks": ""
           },
           "bgcolor": "#E5ECF6",
           "caxis": {
            "gridcolor": "white",
            "linecolor": "white",
            "ticks": ""
           }
          },
          "title": {
           "x": 0.05
          },
          "xaxis": {
           "automargin": true,
           "gridcolor": "white",
           "linecolor": "white",
           "ticks": "",
           "title": {
            "standoff": 15
           },
           "zerolinecolor": "white",
           "zerolinewidth": 2
          },
          "yaxis": {
           "automargin": true,
           "gridcolor": "white",
           "linecolor": "white",
           "ticks": "",
           "title": {
            "standoff": 15
           },
           "zerolinecolor": "white",
           "zerolinewidth": 2
          }
         }
        },
        "title": {
         "text": "Selected Features Across Groups"
        },
        "width": 1600,
        "xaxis": {
         "anchor": "y",
         "domain": [
          0,
          0.2125
         ]
        },
        "xaxis10": {
         "anchor": "y10",
         "domain": [
          0.2625,
          0.475
         ]
        },
        "xaxis11": {
         "anchor": "y11",
         "domain": [
          0.525,
          0.7375
         ]
        },
        "xaxis12": {
         "anchor": "y12",
         "domain": [
          0.7875,
          1
         ]
        },
        "xaxis13": {
         "anchor": "y13",
         "domain": [
          0,
          0.2125
         ]
        },
        "xaxis14": {
         "anchor": "y14",
         "domain": [
          0.2625,
          0.475
         ]
        },
        "xaxis15": {
         "anchor": "y15",
         "domain": [
          0.525,
          0.7375
         ]
        },
        "xaxis16": {
         "anchor": "y16",
         "domain": [
          0.7875,
          1
         ]
        },
        "xaxis2": {
         "anchor": "y2",
         "domain": [
          0.2625,
          0.475
         ]
        },
        "xaxis3": {
         "anchor": "y3",
         "domain": [
          0.525,
          0.7375
         ]
        },
        "xaxis4": {
         "anchor": "y4",
         "domain": [
          0.7875,
          1
         ]
        },
        "xaxis5": {
         "anchor": "y5",
         "domain": [
          0,
          0.2125
         ]
        },
        "xaxis6": {
         "anchor": "y6",
         "domain": [
          0.2625,
          0.475
         ]
        },
        "xaxis7": {
         "anchor": "y7",
         "domain": [
          0.525,
          0.7375
         ]
        },
        "xaxis8": {
         "anchor": "y8",
         "domain": [
          0.7875,
          1
         ]
        },
        "xaxis9": {
         "anchor": "y9",
         "domain": [
          0,
          0.2125
         ]
        },
        "yaxis": {
         "anchor": "x",
         "domain": [
          0.84375,
          1
         ]
        },
        "yaxis10": {
         "anchor": "x10",
         "domain": [
          0.28125,
          0.4375
         ]
        },
        "yaxis11": {
         "anchor": "x11",
         "domain": [
          0.28125,
          0.4375
         ]
        },
        "yaxis12": {
         "anchor": "x12",
         "domain": [
          0.28125,
          0.4375
         ]
        },
        "yaxis13": {
         "anchor": "x13",
         "domain": [
          0,
          0.15625
         ]
        },
        "yaxis14": {
         "anchor": "x14",
         "domain": [
          0,
          0.15625
         ]
        },
        "yaxis15": {
         "anchor": "x15",
         "domain": [
          0,
          0.15625
         ]
        },
        "yaxis16": {
         "anchor": "x16",
         "domain": [
          0,
          0.15625
         ]
        },
        "yaxis2": {
         "anchor": "x2",
         "domain": [
          0.84375,
          1
         ]
        },
        "yaxis3": {
         "anchor": "x3",
         "domain": [
          0.84375,
          1
         ]
        },
        "yaxis4": {
         "anchor": "x4",
         "domain": [
          0.84375,
          1
         ]
        },
        "yaxis5": {
         "anchor": "x5",
         "domain": [
          0.5625,
          0.71875
         ]
        },
        "yaxis6": {
         "anchor": "x6",
         "domain": [
          0.5625,
          0.71875
         ]
        },
        "yaxis7": {
         "anchor": "x7",
         "domain": [
          0.5625,
          0.71875
         ]
        },
        "yaxis8": {
         "anchor": "x8",
         "domain": [
          0.5625,
          0.71875
         ]
        },
        "yaxis9": {
         "anchor": "x9",
         "domain": [
          0.28125,
          0.4375
         ]
        }
       }
      }
     },
     "metadata": {},
     "output_type": "display_data"
    }
   ],
   "source": [
    "## Compare the statistically significant results against the e_sick group\n",
    "print(f\"Number of features: {len(res_df)}\")\n",
    "\n",
    "## remove all the features in all_vs_c_df that have ' at ' in the name\n",
    "all_vs_c_df = all_vs_c_df[~all_vs_c_df['feature'].str.contains(' at ', case=False)]\n",
    "print(f\"Number of significant features that describe the lesion effect: {len(all_vs_c_df)}\")\n",
    "\n",
    "res_df_lesion = res_df[res_df['feature'].isin(all_vs_c_df['feature'])]\n",
    "\n",
    "print(f\"Number selected lesion features affected by the treatment: {len(res_df_lesion)}\")\n",
    "print(f\"Lesion features affected by the treatment:\\n{res_df_lesion.head()}\")\n",
    "print(f\"Number of features going towards healthy: {len(res_df_lesion[res_df_lesion['direction'] == 'towards_healthy'])}\")\n",
    "print(res_df_lesion['feature'][res_df_lesion['direction'] == 'towards_healthy'].to_list())\n",
    "print(f\"Number of features worsening: {len(res_df_lesion[res_df_lesion['direction'] == 'away_from_healthy'])}\")\n",
    "print(res_df_lesion['feature'][res_df_lesion['direction'] == 'away_from_healthy'].to_list())\n",
    "\n",
    "## Compare all healthy vs treatment to see non-pathology-related features\n",
    "healthy_vs_treatment_df = all_vs_e_df[~all_vs_e_df['feature'].str.contains(' at ', case=False)]\n",
    "print(f\"\\nNumber of significant features affected by the treatment: {len(healthy_vs_treatment_df)}\")\n",
    "## Remove the features that are in the lesion effect\n",
    "healthy_vs_treatment_df = healthy_vs_treatment_df[~healthy_vs_treatment_df['feature'].isin(all_vs_c_df['feature'])]\n",
    "\n",
    "res_df_treatment = res_df[res_df['feature'].isin(healthy_vs_treatment_df['feature'])]\n",
    "print(f\"Number of selected features that are not pathological: {len(res_df_treatment)}\")\n",
    "\n",
    "print(f\"Non-pathological features: {res_df_treatment.head()}\")\n",
    "print(f\"Number of features going towards healthy: {len(res_df_treatment[res_df_treatment['direction'] == 'towards_healthy'])}\")\n",
    "print(res_df_treatment['feature'][res_df_treatment['direction'] == 'towards_healthy'].to_list())\n",
    "print(f\"Number of features worsening: {len(res_df_treatment[res_df_treatment['direction'] == 'away_from_healthy'])}\")\n",
    "print(res_df_treatment['feature'][res_df_treatment['direction'] == 'away_from_healthy'].to_list())\n",
    "\n",
    "### DEBUG\n",
    "# lesion_set = set(all_vs_c_df['feature'])\n",
    "# treat_set = set(healthy_vs_treatment_df['feature'])\n",
    "\n",
    "# overlap = lesion_set & treat_set\n",
    "\n",
    "# print(f\"Lesion features: {len(lesion_set)}\")\n",
    "# print(f\"Treatment features: {len(treat_set)}\")\n",
    "# print(f\"Overlap: {len(overlap)}\")\n",
    "# print(f\"Expected non-pathological: {len(treat_set) - len(overlap)}\")\n",
    "# print(f\"Your non-pathological: {len(healthy_vs_treatment_df[~healthy_vs_treatment_df['feature'].isin(lesion_set)])}\")\n",
    "res_df_lesion.to_csv(os.path.join('./', 'lesion_features_affected_by_treatment.csv'), index=False)\n",
    "res_df_treatment.to_csv(os.path.join('./', 'non_pathological_features_affected_by_treatment.csv'), index=False)\n",
    "\n",
    "print(feature_subsets[limb].keys())\n",
    "fig_lesion = plot_features_list_across_groups(\n",
    "    feature_list=res_df_lesion['feature'].tolist(),\n",
    "    feature_subsets=feature_subsets,\n",
    "    limb='hindlimb',\n",
    "    sides=['left'],  # or ['left', 'right']\n",
    "    groups=['healthy_left_ALL_', 'sick_left_C_']  \n",
    ")\n",
    "fig_lesion.show()\n",
    "\n",
    "fig_non_path = plot_features_list_across_groups(\n",
    "    feature_list=res_df_treatment['feature'].tolist(),\n",
    "    feature_subsets=feature_subsets,\n",
    "    limb='hindlimb',\n",
    "    sides=['left'],\n",
    "    groups=['healthy_left_ALL_', 'sick_left_E_'] \n",
    ")\n",
    "fig_non_path.show()\n",
    "\n",
    "fig_lesion.write_image(\"lesion_features.svg\")\n",
    "fig_non_path.write_image(\"non_pathological_features.svg\")"
   ]
  },
  {
   "cell_type": "code",
   "execution_count": null,
   "id": "1bd6c70f",
   "metadata": {},
   "outputs": [],
   "source": []
  }
 ],
 "metadata": {
  "kernelspec": {
   "display_name": ".venv",
   "language": "python",
   "name": "python3"
  },
  "language_info": {
   "codemirror_mode": {
    "name": "ipython",
    "version": 3
   },
   "file_extension": ".py",
   "mimetype": "text/x-python",
   "name": "python",
   "nbconvert_exporter": "python",
   "pygments_lexer": "ipython3",
   "version": "3.13.5"
  }
 },
 "nbformat": 4,
 "nbformat_minor": 5
}
