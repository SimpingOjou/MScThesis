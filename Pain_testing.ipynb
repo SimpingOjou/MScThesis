{
 "cells": [
  {
   "cell_type": "code",
   "execution_count": 1,
   "id": "8731059d",
   "metadata": {},
   "outputs": [],
   "source": [
    "import os\n",
    "import pandas as pd\n",
    "import numpy as np\n",
    "import plotly.express as px\n",
    "from plotly import graph_objects as go\n",
    "from plotly.subplots import make_subplots\n",
    "from itertools import combinations\n",
    "from scipy.stats import ttest_ind_from_stats, ttest_ind, shapiro, mannwhitneyu"
   ]
  },
  {
   "cell_type": "code",
   "execution_count": 2,
   "id": "4d16104b",
   "metadata": {},
   "outputs": [],
   "source": [
    "## Directories and constants\n",
    "FIGURES_DIR = './figures/Pain'\n",
    "MODELS_DIR = './src/models'\n",
    "DATA_DIR = '/home/filthyweeb/Documents/SeriousStuff/Work/MScThesis/csv/Pain_Plot_Features'\n",
    "MEAN_FEATURES_FILE = './csv/Pain_hindlimb_mouse_features_2025-06-22_21-53-52.csv' # updated means and circular means\n",
    "FORELIMB_MEANS_FILE = './csv/Pain_forelimb_mouse_features_2025-06-22_21-53-53.csv' # updated means and circular means\n",
    "# MEAN_FEATURES_FILE = './csv/SCI_pre_acute_hindlimb_mouse_features_2025-06-06_15-11-59.csv'\n",
    "# MEAN_FEATURES_FILE = './csv/sideview_hindlimb_mouse_features_new_H.csv'\n",
    "HEALTHY_KEY = 'pre'\n",
    "SICK_KEY = 'post'\n",
    "CONTROL_KEY = 'C_'\n",
    "SECONDARY_CONTROL_KEY = 'A_'\n",
    "VIRUS_CONTROL_KEY = 'B_'\n",
    "TREATMENT_CONTROL_KEY = 'E_'\n",
    "SECONDARY_TREATMENT_KEY = 'D_'\n",
    "SIDE_KEY = ('left','right')"
   ]
  },
  {
   "cell_type": "code",
   "execution_count": 3,
   "id": "69111652",
   "metadata": {},
   "outputs": [],
   "source": [
    "## Treatments: E-D\n",
    "## Controls: B-C\n",
    "\n",
    "## C-B to check if virus is doing something or is it the lesion\n",
    "## A should be similar to C\n",
    "\n",
    "### Functions for statistical testing\n",
    "def is_circular_feature(feature_name):\n",
    "    fname = feature_name.lower()\n",
    "    return (('angle' in fname or 'phase' in fname) and 'excursion' not in fname)\n",
    "\n",
    "def circular_surrogate_test(values1_deg, values2_deg):\n",
    "    \"\"\"Approximate test for circular features using cosine and sine projections.\"\"\"\n",
    "    values1 = np.deg2rad(values1_deg)\n",
    "    values2 = np.deg2rad(values2_deg)\n",
    "\n",
    "    cos1, sin1 = np.cos(values1), np.sin(values1)\n",
    "    cos2, sin2 = np.cos(values2), np.sin(values2)\n",
    "\n",
    "    # Apply Welch's t-test to both projections\n",
    "    _, p_cos = ttest_ind(cos1, cos2, equal_var=False)\n",
    "    _, p_sin = ttest_ind(sin1, sin2, equal_var=False)\n",
    "\n",
    "    return min(p_cos, p_sin)\n",
    "\n",
    "def check_normality(values1, values2, alpha=0.05):\n",
    "    \"\"\"\n",
    "    Returns True if both groups pass the Shapiro-Wilk normality test.\n",
    "    \"\"\"\n",
    "    def is_valid_sample(values):\n",
    "        return len(values) >= 3 and np.std(values) > 0\n",
    "\n",
    "    if not is_valid_sample(values1) or not is_valid_sample(values2):\n",
    "        return False\n",
    "\n",
    "    p1 = shapiro(values1).pvalue\n",
    "    p2 = shapiro(values2).pvalue\n",
    "    return (p1 > alpha) and (p2 > alpha)\n",
    "\n",
    "def nonparametric_test(values1, values2):\n",
    "    \"\"\"\n",
    "    Mann-Whitney U test for two independent samples.\n",
    "    Returns the p-value.\n",
    "    \"\"\"\n",
    "    try:\n",
    "        _, p = mannwhitneyu(values1, values2, alternative='two-sided')\n",
    "        return p\n",
    "    except Exception as e:\n",
    "        print(f\"   Mann-Whitney test failed: {e}\")\n",
    "        return np.nan\n",
    "\n",
    "def compare_feature_distributions(df1, df2, label1='Group1', label2='Group2', alpha=0.05):\n",
    "    \"\"\"\n",
    "    Compare all shared features between two datasets using Welch's t-test.\n",
    "\n",
    "    Parameters:\n",
    "        df1, df2: pandas.DataFrame\n",
    "            DataFrames to compare. Must have 'Dataset', 'Mouse', and feature columns.\n",
    "        label1, label2: str\n",
    "            Labels for the groups being compared (used for output).\n",
    "        alpha: float\n",
    "            Significance level for Bonferroni correction.\n",
    "\n",
    "    Returns:\n",
    "        dict with summary and significant feature list\n",
    "    \"\"\"\n",
    "    # Identify common features (exclude non-feature columns)\n",
    "    non_feature_cols = {'Dataset', 'Mouse', 'Number of runs (#)', 'Number of steps (#)', 'Number of steps std'}\n",
    "    shared_features = set(df1.columns) & set(df2.columns) - non_feature_cols\n",
    "    shared_features = sorted(shared_features)  # for consistent ordering\n",
    "    \n",
    "    # Bonferroni correction\n",
    "    corrected_alpha = alpha #/ len(shared_features)\n",
    "\n",
    "    significant_features = []\n",
    "    means = []\n",
    "    for feature in shared_features:\n",
    "        values1 = df1[feature].dropna().values\n",
    "        values2 = df2[feature].dropna().values\n",
    "        \n",
    "        if len(values1) < 3 or len(values2) < 3:\n",
    "            continue  # skip features with no data\n",
    "\n",
    "        normal_ok = check_normality(values1, values2)\n",
    "\n",
    "        mean1, std1, n1 = np.mean(values1), np.std(values1, ddof=1), len(values1)\n",
    "        mean2, std2, n2 = np.mean(values2), np.std(values2, ddof=1), len(values2)\n",
    "\n",
    "        ## Do circular statistics\n",
    "        if is_circular_feature(feature):\n",
    "            try:\n",
    "                p_value = circular_surrogate_test(values1, values2)\n",
    "            except Exception as e:\n",
    "                print(f\" - {feature}: circular test failed ({e})\")\n",
    "                continue\n",
    "            label_suffix = \" (circular approx)\"\n",
    "        else:\n",
    "            if normal_ok:\n",
    "                _, p_value = ttest_ind_from_stats(mean1=mean1, std1=std1, nobs1=n1,\n",
    "                                            mean2=mean2, std2=std2, nobs2=n2,\n",
    "                                            equal_var=False)\n",
    "                label_suffix = \"\"\n",
    "            else:\n",
    "                p_value = nonparametric_test(values1, values2)\n",
    "                label_suffix = \" (nonparametric)\"\n",
    "        if p_value < corrected_alpha:\n",
    "            if p_value < 0.001:\n",
    "                star = '***'\n",
    "            elif p_value < 0.01:\n",
    "                star = '**'\n",
    "            elif p_value < 0.05:\n",
    "                star = '*'\n",
    "            else:\n",
    "                star = ''\n",
    "            if is_circular_feature(feature):\n",
    "                values1_rad = np.deg2rad(values1)\n",
    "                values2_rad = np.deg2rad(values2)\n",
    "                mean1_val = np.rad2deg(np.angle(np.mean(np.exp(1j * values1_rad))))\n",
    "                mean2_val = np.rad2deg(np.angle(np.mean(np.exp(1j * values2_rad))))\n",
    "                std1_val = np.rad2deg(np.sqrt(-2 * np.log(np.abs(np.mean(np.exp(1j * values1_rad))))))\n",
    "                std2_val = np.rad2deg(np.sqrt(-2 * np.log(np.abs(np.mean(np.exp(1j * values2_rad))))))\n",
    "                summary = f\"{mean1_val:.1f}±{std1_val:.1f} vs {mean2_val:.1f}±{std2_val:.1f}°\"\n",
    "                mean1, mean2 = mean1_val, mean2_val\n",
    "                std1, std2 = std1_val, std2_val\n",
    "            elif normal_ok:\n",
    "                summary = f\"{mean1:.2f}±{std1:.2f} vs {mean2:.2f}±{std2:.2f}\"\n",
    "                mean1, mean2 = mean1, mean2\n",
    "                std1, std2 = std1, std2\n",
    "            else:\n",
    "                med1, med2 = np.median(values1), np.median(values2)\n",
    "                summary = f\"{med1:.2f} (median) vs {med2:.2f} (median)\"\n",
    "                mean1, mean2 = med1, med2\n",
    "                std1, std2 = np.std(values1, ddof=1), np.std(values2, ddof=1)\n",
    "            significant_features.append((feature, star, label_suffix, summary))\n",
    "            means.append((mean1, std1, mean2, std2))\n",
    "            # print(f\" - {feature}: p = {p_value:.4g} {star}\")\n",
    "\n",
    "    return {\n",
    "        'group1_label': label1,\n",
    "        'group2_label': label2,\n",
    "        'group1_n': df1.shape[0],\n",
    "        'group2_n': df2.shape[0],\n",
    "        'significant_features': significant_features,\n",
    "        'n_significant': len(significant_features),\n",
    "        'corrected_alpha': corrected_alpha,\n",
    "        'means': means,\n",
    "    }\n",
    "\n",
    "def plot_significant_features(features_df, title, group1_df, group2_df, names, filename=None):\n",
    "    means = features_df['means']\n",
    "    features = features_df['significant_features']\n",
    "    if not features:\n",
    "        print(\"No significant features to plot.\")\n",
    "        return\n",
    "    \n",
    "    # Create subplot for each significant feature\n",
    "    fig = make_subplots(rows=1, cols=len(features), \n",
    "                        subplot_titles=[f[0] for f in features])\n",
    "    \n",
    "    for i, (feature, star, label_suffix, summary) in enumerate(features):\n",
    "        # Get data for this feature from both groups\n",
    "        values1 = group1_df[feature].dropna()\n",
    "        values2 = group2_df[feature].dropna()\n",
    "        \n",
    "        mean_1 = means[i][0]\n",
    "        std_1 = means[i][1]\n",
    "        mean_2 = means[i][2]\n",
    "        std_2 = means[i][3]\n",
    "\n",
    "        # Create grouped bar chart\n",
    "        fig.add_trace(\n",
    "            go.Bar(\n",
    "                x=names,\n",
    "                y=[mean_1, mean_2],\n",
    "                error_y=dict(\n",
    "                    type='data',\n",
    "                    array=[std_1, std_2],\n",
    "                    visible=True\n",
    "                ),\n",
    "                name=feature,\n",
    "                text=[f\"{mean_1:.2f}±{std_1:.2f}\", \n",
    "                      f\"{mean_2:.2f}±{std_2:.2f}\"],\n",
    "                textposition='auto',\n",
    "                hoverinfo='text',\n",
    "                hovertext=summary + f\" {star}\"\n",
    "            ),\n",
    "            row=1, col=i+1\n",
    "        )\n",
    "    \n",
    "        # Add point distribution (scatter) with jitter\n",
    "        jitter_strength = 0.1\n",
    "        x1 = [0 - jitter_strength + np.random.rand() * 2 * jitter_strength for _ in values1]\n",
    "        x2 = [1 - jitter_strength + np.random.rand() * 2 * jitter_strength for _ in values2]\n",
    "\n",
    "        fig.add_trace(\n",
    "            go.Scatter(\n",
    "                x=[names[0]] * len(values1),\n",
    "                y=values1,\n",
    "                mode='markers',\n",
    "                marker=dict(size=6, opacity=0.5, color='black'),\n",
    "                name='Group 1',\n",
    "                showlegend=False\n",
    "            ),\n",
    "            row=1, col=i+1\n",
    "        )\n",
    "\n",
    "        fig.add_trace(\n",
    "            go.Scatter(\n",
    "                x=[names[1]] * len(values2),\n",
    "                y=values2,\n",
    "                mode='markers',\n",
    "                marker=dict(size=6, opacity=0.5, color='black'),\n",
    "                name='Group 2',\n",
    "                showlegend=False\n",
    "            ),\n",
    "            row=1, col=i+1\n",
    "        )\n",
    "\n",
    "    fig.update_layout(\n",
    "        title=title,\n",
    "        showlegend=False,\n",
    "        height=400,\n",
    "        width=500 * len(features)\n",
    "    )\n",
    "    \n",
    "    if filename:\n",
    "        fig.write_image(os.path.join(FIGURES_DIR, filename))\n",
    "    fig.show()\n",
    "\n",
    "def plot_feature_across_groups(feature_subsets,feature_key, limb='hindlimb', max_cols=4, groups = ['A_', 'B_', 'C_', 'D_', 'E_'], state = ['healthy', 'sick'], sides = ['left', 'right']):\n",
    "    \"\"\"\n",
    "    Plot a feature (or group of features) across all group subsets for a given limb.\n",
    "    \"\"\"\n",
    "    data_subsets = feature_subsets[limb]\n",
    "    matched_features = [col for col in next(iter(data_subsets.values())).columns if feature_key in col.lower() and 'std' not in col.lower()]\n",
    "\n",
    "    if not matched_features:\n",
    "        print(f\"No features matching '{feature_key}' found in {limb} data.\")\n",
    "        return\n",
    "\n",
    "    num_features = len(matched_features)\n",
    "    rows = (num_features + max_cols - 1) // max_cols\n",
    "    cols = min(num_features, max_cols)\n",
    "\n",
    "    # palette\n",
    "    palette = px.colors.qualitative.Plotly  \n",
    "    num_features = len(matched_features)\n",
    "    rows = (num_features + max_cols - 1) // max_cols\n",
    "    cols = min(num_features, max_cols)\n",
    "\n",
    "    subplot_titles = [\n",
    "        col.replace('Mean', '').replace('- rhindlimb - ', '').strip()\n",
    "        for col in matched_features\n",
    "    ]\n",
    "\n",
    "    fig = make_subplots(rows=rows, cols=cols, subplot_titles=subplot_titles)\n",
    "\n",
    "    for idx, feature in enumerate(matched_features):\n",
    "        row = idx // max_cols + 1\n",
    "        col = idx % max_cols + 1\n",
    "\n",
    "        group_means = []\n",
    "        group_stds = []\n",
    "        group_names = []\n",
    "        group_points = []\n",
    "\n",
    "        for name, df in data_subsets.items():\n",
    "            if feature not in df.columns: continue # skip if feature not in df\n",
    "            if not any(side in name.lower() for side in sides): continue  # skip if side not in name\n",
    "\n",
    "            values = df[feature].dropna()\n",
    "            if len(values) == 0:\n",
    "                continue\n",
    "\n",
    "            if any(g in name for g in groups) and any(s in name for s in state):\n",
    "                group_means.append(values.mean())\n",
    "                group_stds.append(values.std())\n",
    "                group_names.append(name)\n",
    "                group_points.append(values)\n",
    "\n",
    "        if not group_names:\n",
    "            continue\n",
    "\n",
    "        # build a color list the same length as group_names\n",
    "        bar_colors = [palette[i % len(palette)] for i in range(len(group_names))]\n",
    "        \n",
    "        # Bar trace with error bars\n",
    "        fig.add_trace(\n",
    "            go.Bar(\n",
    "                x=group_names,\n",
    "                y=group_means,\n",
    "                error_y=dict(type='data', array=group_stds, visible=True),\n",
    "                name=feature,\n",
    "                # text=[f\"{m:.2f}±{s:.2f}\" for m, s in zip(group_means, group_stds)],\n",
    "                textposition='auto',\n",
    "                marker=dict(\n",
    "                    color=bar_colors,            # fill colors per bar\n",
    "                    line=dict(\n",
    "                        color='black',            # uniform border color\n",
    "                        width=1                   # border width in pixels\n",
    "                    )\n",
    "                )\n",
    "            ),\n",
    "            row=row, col=col\n",
    "        )\n",
    "\n",
    "        # Scatter plot for individual points\n",
    "        for i, (group, values) in enumerate(zip(group_names, group_points)):\n",
    "            x_vals = [group] * len(values)\n",
    "            fig.add_trace(\n",
    "                go.Scatter(\n",
    "                    x=x_vals,\n",
    "                    y=values,\n",
    "                    mode='markers',\n",
    "                    marker=dict(size=6, opacity=0.5, color='black'),\n",
    "                    showlegend=False\n",
    "                ),\n",
    "                row=row, col=col\n",
    "            )\n",
    "\n",
    "    fig.update_layout(\n",
    "        title=f\"Feature(s) Matching '{feature_key}' in {limb}\",\n",
    "        showlegend=False,\n",
    "        height=500 * rows,\n",
    "        width=300 * cols,\n",
    "        # remove background color\n",
    "        plot_bgcolor='rgba(0,0,0,0)',\n",
    "    )\n",
    "\n",
    "    return fig"
   ]
  },
  {
   "cell_type": "code",
   "execution_count": 4,
   "id": "846ed1a2",
   "metadata": {},
   "outputs": [
    {
     "name": "stdout",
     "output_type": "stream",
     "text": [
      "Number of hindlimb features: 382\n",
      "Number of forelimb features: 382\n"
     ]
    }
   ],
   "source": [
    "# Example inputs: update as needed\n",
    "experimental_groups = ['A', 'B', 'C', 'D', 'E']\n",
    "sides = {'left': SIDE_KEY[0].lower(), 'right': SIDE_KEY[1].lower()}\n",
    "health_statuses = {'healthy': HEALTHY_KEY.lower(), 'sick': SICK_KEY.lower()}\n",
    "run_types = {\n",
    "    'A': SECONDARY_CONTROL_KEY.lower(),\n",
    "    'B': VIRUS_CONTROL_KEY.lower(),\n",
    "    'C': CONTROL_KEY.lower(),\n",
    "    'D': SECONDARY_TREATMENT_KEY.lower(),\n",
    "    'E': TREATMENT_CONTROL_KEY.lower()\n",
    "}\n",
    "\n",
    "# Load data\n",
    "hindlimb_features_df = pd.read_csv(MEAN_FEATURES_FILE)\n",
    "forelimb_features_df = pd.read_csv(FORELIMB_MEANS_FILE) \n",
    "\n",
    "# filter std columns\n",
    "hindlimb_features_df = hindlimb_features_df.loc[:, ~hindlimb_features_df.columns.str.contains('std')]\n",
    "forelimb_features_df = forelimb_features_df.loc[:, ~forelimb_features_df.columns.str.contains('std')]\n",
    "\n",
    "# filter columns without 'step' or 'hindlimb'\n",
    "cols = hindlimb_features_df.columns\n",
    "hindlimb_mask = cols.str.lower().str.contains('hindlimb', case=False)\n",
    "step_mask = cols.str.lower().str.contains('step', case=False) & ~cols.str.contains('/s', case=False)\n",
    "limb_mask = cols.str.lower().str.contains('hindpaw|hindfinger|knee|ankle|hip', case=False)\n",
    "meta_mask = cols.str.lower().str.contains('dataset|mouse', case=False)\n",
    "final_mask = hindlimb_mask | step_mask | meta_mask | limb_mask\n",
    "\n",
    "hindlimb_features_df = hindlimb_features_df.loc[:, final_mask]\n",
    "forelimb_features_df = forelimb_features_df.loc[:, final_mask]\n",
    "\n",
    "# Container for all feature subsets\n",
    "feature_subsets = {\n",
    "    'hindlimb': {},\n",
    "    'forelimb': {}\n",
    "}\n",
    "\n",
    "# General function for filtering\n",
    "def filter_features(df, health_key, run_key, side_key):\n",
    "    return df[\n",
    "        df['Dataset'].str.lower().str.contains(health_key) &\n",
    "        df['Dataset'].str.lower().str.contains(run_key) &\n",
    "        df['Mouse'].str.lower().str.contains(side_key)\n",
    "    ]\n",
    "\n",
    "# Generate subsets\n",
    "for run_code in experimental_groups:\n",
    "    run_key = run_types.get(run_code)\n",
    "    if not run_key:\n",
    "        continue  # skip undefined keys\n",
    "\n",
    "    for health_label, health_key in health_statuses.items():\n",
    "        for side_label, side_key in sides.items():\n",
    "            name = f\"{health_label}_{side_label}_{run_code}_run\"\n",
    "\n",
    "            feature_subsets['hindlimb'][name] = filter_features(hindlimb_features_df, health_key, run_key, side_key)\n",
    "            feature_subsets['forelimb'][name] = filter_features(forelimb_features_df, health_key, run_key, side_key)\n",
    "\n",
    "# Example usage\n",
    "print(f\"Number of hindlimb features: {hindlimb_features_df.shape[1]-3}\")\n",
    "print(f\"Number of forelimb features: {forelimb_features_df.shape[1]-3}\")\n",
    "\n",
    "# Access a subset:\n",
    "# feature_subsets['hindlimb']['healthy_left_c_run']"
   ]
  },
  {
   "cell_type": "code",
   "execution_count": 5,
   "id": "9fe666c7",
   "metadata": {},
   "outputs": [
    {
     "name": "stdout",
     "output_type": "stream",
     "text": [
      "190 combinations to compare\n",
      "Groups: 20 - group items: [('healthy', 'A', 'left'), ('healthy', 'A', 'right'), ('healthy', 'B', 'left'), ('healthy', 'B', 'right'), ('healthy', 'C', 'left'), ('healthy', 'C', 'right'), ('healthy', 'D', 'left'), ('healthy', 'D', 'right'), ('healthy', 'E', 'left'), ('healthy', 'E', 'right'), ('sick', 'A', 'left'), ('sick', 'A', 'right'), ('sick', 'B', 'left'), ('sick', 'B', 'right'), ('sick', 'C', 'left'), ('sick', 'C', 'right'), ('sick', 'D', 'left'), ('sick', 'D', 'right'), ('sick', 'E', 'left'), ('sick', 'E', 'right')]\n"
     ]
    }
   ],
   "source": [
    "# Create all valid combinations of health status, run, and side\n",
    "group_defs = [\n",
    "    (health_label, run_code, side_label)\n",
    "    for health_label in ['healthy', 'sick']\n",
    "    for run_code in experimental_groups\n",
    "    for side_label in ['left', 'right']\n",
    "]\n",
    "\n",
    "# Store results\n",
    "comparison_results = {\n",
    "    'hindlimb': [],\n",
    "    'forelimb': []\n",
    "}\n",
    "\n",
    "print(len(list(combinations(group_defs, 2))), \"combinations to compare\")\n",
    "print(f\"Groups: {len(group_defs)} - group items: {group_defs}\") # nbr = comb(20, 2) = 190"
   ]
  },
  {
   "cell_type": "code",
   "execution_count": 6,
   "id": "06f494fd",
   "metadata": {},
   "outputs": [],
   "source": [
    "to_compare = [['A_', 'C_', 'B_', 'E_'], ['C_','E_'], ['A_','C_'], ['B_','C_']]\n",
    "bp_list = ['angle value', 'phase value']\n",
    "\n",
    "for groups in to_compare:\n",
    "    for bp in bp_list:\n",
    "        fig = plot_feature_across_groups(feature_subsets=feature_subsets, feature_key=bp, limb='hindlimb', sides=['left'], groups=groups, state=['sick'])\n",
    "        group_name = [f\"{g.replace('_', '')}\" for g in groups]\n",
    "        # fig.write_image(os.path.join('./', f'hind_L_{str(group_name).replace(\"'\", \"\").replace(\", \", \"\").replace(\"[\", \"\").replace(\"]\", \"_\")}{bp}.png'))"
   ]
  },
  {
   "cell_type": "code",
   "execution_count": 7,
   "id": "85eae174",
   "metadata": {},
   "outputs": [],
   "source": [
    "# Compare each pair of groups (no repeats)\n",
    "for (health1, run1, side1), (health2, run2, side2) in combinations(group_defs, 2):\n",
    "    if side1 != side2 and run1 != run2:\n",
    "        continue  # Do not compare different sides of different groups\n",
    "\n",
    "    for limb_type in ['hindlimb', 'forelimb']:\n",
    "        key1 = f\"{health1}_{side1}_{run1}_run\"\n",
    "        key2 = f\"{health2}_{side2}_{run2}_run\"\n",
    "\n",
    "        df1 = feature_subsets[limb_type].get(key1)\n",
    "        df2 = feature_subsets[limb_type].get(key2)\n",
    "\n",
    "        if df1 is None or df2 is None or df1.empty or df2.empty:\n",
    "            continue\n",
    "\n",
    "        label1 = f\"{limb_type.title()} {health1.title()} {side1.title()} {run1.upper()}\"\n",
    "        label2 = f\"{limb_type.title()} {health2.title()} {side2.title()} {run2.upper()}\"\n",
    "\n",
    "        result = compare_feature_distributions(df1, df2, label1=label1, label2=label2)\n",
    "        comparison_results[limb_type].append(((key1, key2), result))\n",
    "\n",
    "        title = f\"{label1} vs {label2}\"\n",
    "        # plot_significant_features(result, title=title, group1_df=df1, group2_df=df2, names=[label1, label2])\n",
    "\n",
    "## Add a entry in comparison_results for all sick left (except D and E) vs E sick left\n",
    "key_1 = 'sick_left_ALL_run'\n",
    "key_2 = 'sick_left_E_run'\n",
    "df12 = feature_subsets['hindlimb']['sick_left_B_run']\n",
    "df13 = feature_subsets['hindlimb']['sick_left_C_run']\n",
    "df1 = pd.concat([df12, df13], ignore_index=True)\n",
    "df2 = feature_subsets['hindlimb']['sick_left_E_run']\n",
    "label1 = 'Hindlimb Sick Left B, C'\n",
    "label2 = 'Hindlimb Sick Left E'\n",
    "\n",
    "feature_subsets['hindlimb']['sick_left_ALL_run'] = df1\n",
    "result = compare_feature_distributions(df1, df2, label1=label1, label2=label2)\n",
    "comparison_results['hindlimb'].append(((key_1, key_2), result))\n",
    "\n",
    "## lesion effect\n",
    "key_1 = 'healthy_left_ALL_run'\n",
    "key_2 = 'sick_left_C_run'\n",
    "df11 = feature_subsets['hindlimb']['healthy_left_C_run']\n",
    "df12 = feature_subsets['hindlimb']['healthy_left_B_run']\n",
    "# df13 = feature_subsets['hindlimb']['healthy_left_E_run']\n",
    "# df1 = pd.concat([df11, df12 , df13], ignore_index=True)\n",
    "df1 = pd.concat([df11, df12], ignore_index=True)\n",
    "df2 = feature_subsets['hindlimb']['sick_left_C_run']\n",
    "label1 = 'Hindlimb Healthy Left B, C'\n",
    "label2 = 'Hindlimb Sick Left C'\n",
    "\n",
    "feature_subsets['hindlimb']['healthy_left_ALL_run'] = df1\n",
    "result = compare_feature_distributions(df1, df2, label1=label1, label2=label2)\n",
    "comparison_results['hindlimb'].append(((key_1, key_2), result))\n",
    "\n",
    "## healthy vs E\n",
    "key_1 = 'healthy_left_ALL_run'\n",
    "key_2 = 'sick_left_E_run'\n",
    "df2 = feature_subsets['hindlimb']['sick_left_E_run']\n",
    "label1 = 'Hindlimb Healthy Left B, C'\n",
    "label2 = 'Hindlimb Sick Left E'\n",
    "\n",
    "result = compare_feature_distributions(df1, df2, label1=label1, label2=label2)\n",
    "comparison_results['hindlimb'].append(((key_1, key_2), result))"
   ]
  },
  {
   "cell_type": "code",
   "execution_count": 8,
   "id": "cfb96059",
   "metadata": {},
   "outputs": [],
   "source": [
    "def _to_name_set(result):\n",
    "    names = []\n",
    "    for item in result:\n",
    "        # accept 'feature' or ('feature', ...), clean whitespace\n",
    "        name = item[0] if isinstance(item, (list, tuple)) else item\n",
    "        name = ' '.join(str(name).split())  # collapse weird spacing\n",
    "        names.append(name)\n",
    "    return set(names)\n",
    "\n",
    "def intersect_significant_features(*results):\n",
    "    \"\"\"\n",
    "    Each result is a list of strings or tuples; intersect by the feature name (first element).\n",
    "    \"\"\"\n",
    "    sets = [_to_name_set(r) for r in results]\n",
    "    return set.intersection(*sets) if sets else set()\n",
    "\n",
    "def exclude_intersection_features(*results):\n",
    "    \"\"\"\n",
    "    Return features unique to each result (by name only).\n",
    "    \"\"\"\n",
    "    sets = [_to_name_set(r) for r in results]\n",
    "    if not sets:\n",
    "        return []\n",
    "    inter = set.intersection(*sets)\n",
    "    return [s - inter for s in sets]\n",
    "\n",
    "def globally_unique_features(*results):\n",
    "    from collections import Counter\n",
    "    \"\"\"\n",
    "    Return features that appear in exactly one result across all results.\n",
    "    \"\"\"\n",
    "    sets = [_to_name_set(r) for r in results]\n",
    "    all_features = [feat for s in sets for feat in s]\n",
    "    counts = Counter(all_features)\n",
    "    return {feat for feat, count in counts.items() if count == 1}"
   ]
  },
  {
   "cell_type": "code",
   "execution_count": 9,
   "id": "c2f138a0",
   "metadata": {},
   "outputs": [
    {
     "name": "stdout",
     "output_type": "stream",
     "text": [
      "\n",
      "Comparison results for hindlimb:\n",
      "Comparison healthy_left_ALL_run vs sick_left_C_run:\n",
      "\tNumber of significant features: 101\n",
      "\tSignificant features: [('Mean angle acceleration at peak - rhindlimb - lHindfingers (rad/s^2)', '*', ' (circular approx)', '-7.1±89.5 vs -128.9±70.2°'), ('Mean angle at peak - rhindlimb - ankle (°)', '**', ' (circular approx)', '66.2±9.3 vs 57.6±4.4°'), ('Mean angle at peak - rhindlimb - knee (°)', '**', ' (circular approx)', '89.7±2.4 vs 86.6±2.6°'), ('Mean angle at peak - rhindlimb - lHindfingers (°)', '**', ' (circular approx)', '126.8±16.7 vs 144.3±12.8°'), ('Mean angle at peak - rhindlimb - lHindpaw (°)', '**', ' (circular approx)', '162.0±5.7 vs 156.9±3.6°'), ('Mean angle at stance - rhindlimb - hip (°)', '***', ' (circular approx)', '127.4±2.9 vs 123.8±2.1°'), ('Mean angle at stance - rhindlimb - lHindfingers (°)', '***', ' (circular approx)', '176.2±1.0 vs 174.1±1.2°'), ('Mean angle at stance - rhindlimb - lHindpaw (°)', '***', ' (circular approx)', '151.9±3.4 vs 146.0±3.4°'), ('Mean angle at swing - rhindlimb - lHindfingers (°)', '*', ' (circular approx)', '119.1±6.0 vs 127.5±8.6°'), ('Mean angle at touchdown - rhindlimb - hip (°)', '*', ' (circular approx)', '129.9±2.7 vs 127.8±2.0°'), ('Mean angle at touchdown - rhindlimb - lHindfingers (°)', '**', ' (circular approx)', '175.3±1.0 vs 173.5±1.2°'), ('Mean angle at touchdown - rhindlimb - lHindpaw (°)', '*', ' (circular approx)', '153.6±3.8 vs 148.9±4.2°'), ('Mean angle during stance - rhindlimb - knee (°)', '*', ' (circular approx)', '1.6±0.0 vs 1.6±0.0°'), ('Mean angle during stance - rhindlimb - lHindfingers (°)', '**', ' (circular approx)', '2.7±0.1 vs 2.8±0.1°'), ('Mean angle during stance - rhindlimb - lHindpaw (°)', '***', ' (circular approx)', '2.5±0.1 vs 2.4±0.0°'), ('Mean angle during swing - rhindlimb - hip (°)', '*', ' (circular approx)', '1.8±0.1 vs 1.7±0.0°'), ('Mean angle during swing - rhindlimb - lHindpaw (°)', '***', ' (circular approx)', '2.8±0.0 vs 2.7±0.0°'), ('Mean angle excursion - rhindlimb - ankle (°)', '***', '', '85.47±8.97 vs 67.16±8.46'), ('Mean angle value - rhindlimb - lHindfingers (°)', '*', ' (circular approx)', '152.7±3.5 vs 156.2±3.5°'), ('Mean angle value - rhindlimb - lHindpaw (°)', '***', ' (circular approx)', '152.4±2.4 vs 146.9±1.8°'), ('Mean angle velocity - rhindlimb - ankle (rad/s)', '*', ' (circular approx)', '0.0±0.1 vs -0.1±0.1°'), ('Mean angle velocity - rhindlimb - knee (rad/s)', '*', ' (circular approx)', '-0.0±0.0 vs -0.1±0.1°'), ('Mean angle velocity - rhindlimb - lHindpaw (rad/s)', '*', ' (circular approx)', '0.0±0.1 vs 0.1±0.1°'), ('Mean angle velocity at peak - rhindlimb - ankle (rad/s)', '**', ' (circular approx)', '-21.4±7.8 vs -14.4±5.9°'), ('Mean angle velocity at peak - rhindlimb - hip (rad/s)', '**', ' (circular approx)', '10.7±2.2 vs 13.9±2.7°'), ('Mean angle velocity at peak - rhindlimb - lHindpaw (rad/s)', '*', ' (circular approx)', '9.1±4.1 vs 2.0±7.5°'), ('Mean angle velocity at stance - rhindlimb - hip (rad/s)', '**', ' (circular approx)', '-6.1±2.8 vs -9.0±1.5°'), ('Mean angle velocity at stance - rhindlimb - lHindpaw (rad/s)', '**', ' (circular approx)', '-7.2±4.7 vs -11.3±3.0°'), ('Mean angle velocity at swing - rhindlimb - ankle (rad/s)', '**', ' (circular approx)', '1.8±4.7 vs 0.8±2.3°'), ('Mean angle velocity at swing - rhindlimb - knee (rad/s)', '***', ' (circular approx)', '0.5±2.0 vs -2.7±0.9°'), ('Mean angle velocity at touchdown - rhindlimb - hip (rad/s)', '*', ' (circular approx)', '-5.0±2.8 vs -7.0±1.9°'), ('Mean angle velocity at touchdown - rhindlimb - knee (rad/s)', '*', ' (circular approx)', '1.2±1.2 vs 2.5±1.9°'), ('Mean angle velocity during stance - rhindlimb - lHindpaw (rad/s)', '*', ' (circular approx)', '-0.4±1.2 vs 0.7±0.9°'), ('Mean phase acceleration during swing - rhindlimb - knee (rad/s^2)', '*', ' (circular approx)', '0.0±0.9 vs 0.7±0.7°'), ('Mean phase at peak - rhindlimb - lHindpaw (°)', '**', ' (circular approx)', '-53.1±16.8 vs -35.4±12.9°'), ('Mean phase at stance - rhindlimb - ankle (°)', '*', ' (circular approx)', '-26.9±3.4 vs -30.8±3.4°'), ('Mean phase at stance - rhindlimb - hip (°)', '***', ' (circular approx)', '-52.6±2.9 vs -56.2±2.1°'), ('Mean phase at stance - rhindlimb - knee (°)', '*', ' (circular approx)', '-141.2±2.9 vs -143.4±2.3°'), ('Mean phase at stance - rhindlimb - lHindpaw (°)', '*', ' (circular approx)', '1.2±1.6 vs 3.2±2.2°'), ('Mean phase at swing - rhindlimb - ankle (°)', '*', ' (circular approx)', '-103.9±5.4 vs -97.2±7.5°'), ('Mean phase at swing - rhindlimb - lHindpaw (°)', '*', ' (circular approx)', '-60.9±6.0 vs -52.5±8.6°'), ('Mean phase at touchdown - rhindlimb - ankle (°)', '*', ' (circular approx)', '-24.7±3.4 vs -28.3±3.4°'), ('Mean phase at touchdown - rhindlimb - hip (°)', '*', ' (circular approx)', '-50.1±2.7 vs -52.2±2.0°'), ('Mean phase at touchdown - rhindlimb - lHindpaw (°)', '*', ' (circular approx)', '1.5±1.9 vs 2.8±3.1°'), ('Mean phase during stance - rhindlimb - lHindpaw (°)', '**', ' (circular approx)', '-0.4±0.1 vs -0.3±0.1°'), ('Mean phase during swing - rhindlimb - ankle (°)', '*', ' (circular approx)', '-0.9±0.1 vs -0.9±0.0°'), ('Mean phase during swing - rhindlimb - hip (°)', '*', ' (circular approx)', '-1.4±0.1 vs -1.4±0.0°'), ('Mean phase during swing - rhindlimb - lHindpaw (°)', '*', ' (circular approx)', '-0.6±0.1 vs -0.5±0.1°'), ('Mean phase excursion - rhindlimb - ankle (°)', '***', '', '115.77±7.43 vs 102.84±8.15'), ('Mean phase value - rhindlimb - lHindpaw (°)', '**', ' (circular approx)', '-26.5±3.6 vs -22.1±3.8°'), ('Mean phase velocity at peak - rhindlimb - hip (rad/s)', '**', ' (circular approx)', '10.7±2.2 vs 13.9±2.7°'), ('Mean phase velocity at peak - rhindlimb - knee (rad/s)', '*', ' (circular approx)', '6.9±3.1 vs 9.9±2.5°'), ('Mean phase velocity at stance - rhindlimb - hip (rad/s)', '*', ' (circular approx)', '-5.3±6.2 vs -9.0±1.5°'), ('Mean phase velocity at stance - rhindlimb - lHindpaw (rad/s)', '**', ' (circular approx)', '0.2±2.6 vs 2.8±1.5°'), ('Mean phase velocity at swing - rhindlimb - ankle (rad/s)', '*', ' (circular approx)', '-2.4±4.4 vs -5.1±2.3°'), ('Mean phase velocity at swing - rhindlimb - knee (rad/s)', '***', ' (circular approx)', '-0.6±1.5 vs -4.3±0.9°'), ('Mean phase velocity at touchdown - rhindlimb - hip (rad/s)', '*', ' (circular approx)', '-5.0±2.8 vs -7.0±1.9°'), ('Mean step acceleration X at peak - lHindfingers (m/s^2)', '***', '', '8.83±6.22 vs -4.39±8.29'), ('Mean step acceleration X at peak - lHindpaw (m/s^2)', '*', '', '2.77±6.07 vs -3.92±6.83'), ('Mean step acceleration X at swing - ankle (m/s^2)', '*', '', '4.40±2.85 vs 6.34±1.89'), ('Mean step acceleration X during stance - ankle (m/s^2)', '**', '', '0.58±0.51 vs 1.10±0.38'), ('Mean step acceleration X during stance - knee (m/s^2)', '*', ' (nonparametric)', '0.22 (median) vs 0.47 (median)'), ('Mean step acceleration X during stance - lHindfingers (m/s^2)', '**', '', '0.08±0.61 vs 0.55±0.30'), ('Mean step acceleration X during stance - lHindpaw (m/s^2)', '**', '', '0.33±0.58 vs 0.89±0.30'), ('Mean step acceleration Y at peak - hip (m/s^2)', '***', '', '-0.51±0.80 vs 0.64±0.68'), ('Mean step acceleration Y at stance - lHindfingers (m/s^2)', '**', ' (nonparametric)', '5.06 (median) vs 7.33 (median)'), ('Mean step acceleration Y at stance - lHindpaw (m/s^2)', '*', '', '7.73±3.05 vs 10.00±2.44'), ('Mean step acceleration Y at swing - ankle (m/s^2)', '***', '', '0.40±1.41 vs 3.15±1.70'), ('Mean step acceleration Y at swing - hip (m/s^2)', '*', '', '-0.61±0.90 vs -1.96±1.37'), ('Mean step acceleration Y at swing - lHindpaw (m/s^2)', '*', ' (nonparametric)', '3.52 (median) vs 6.61 (median)'), ('Mean step acceleration Y at touchdown - ankle (m/s^2)', '***', '', '3.62±1.65 vs 6.37±1.34'), ('Mean step acceleration Y at touchdown - lHindfingers (m/s^2)', '***', '', '4.33±2.26 vs 8.54±2.47'), ('Mean step acceleration Y at touchdown - lHindpaw (m/s^2)', '*', '', '6.78±2.80 vs 10.11±3.06'), ('Mean step acceleration Y during stance - ankle (m/s^2)', '**', '', '0.58±0.22 vs 1.02±0.36'), ('Mean step acceleration Y during swing - ankle (m/s^2)', '**', '', '-0.85±0.35 vs -1.28±0.36'), ('Mean step height (m)', '*', '', '0.00±0.00 vs 0.00±0.00'), ('Mean step jerk X at peak - hip (m/s^3)', '*', '', '-104.88±235.54 vs 143.05±317.38'), ('Mean step jerk X at swing - ankle (m/s^3)', '**', '', '475.30±279.60 vs 131.85±314.69'), ('Mean step jerk X at swing - knee (m/s^3)', '**', '', '437.93±359.32 vs 89.32±233.99'), ('Mean step jerk X at touchdown - lHindfingers (m/s^3)', '*', ' (nonparametric)', '1089.34 (median) vs 1706.61 (median)'), ('Mean step jerk X at touchdown - lHindpaw (m/s^3)', '*', ' (nonparametric)', '1181.06 (median) vs 1812.65 (median)'), ('Mean step jerk Y at peak - ankle (m/s^3)', '**', '', '-119.96±454.95 vs 456.87±494.69'), ('Mean step jerk Y at peak - lHindfingers (m/s^3)', '***', ' (nonparametric)', '-823.68 (median) vs 290.35 (median)'), ('Mean step jerk Y at peak - lHindpaw (m/s^3)', '***', ' (nonparametric)', '-558.69 (median) vs 288.54 (median)'), ('Mean step jerk Y at stance - lHindfingers (m/s^3)', '***', ' (nonparametric)', '82.04 (median) vs -319.14 (median)'), ('Mean step jerk Y at swing - ankle (m/s^3)', '*', '', '-28.29±199.36 vs -241.30±254.59'), ('Mean step jerk Y during stance - knee (m/s^3)', '*', '', '39.53±27.51 vs 22.98±15.95'), ('Mean step jerk Y during stance - lHindfingers (m/s^3)', '*', ' (nonparametric)', '5.17 (median) vs -16.05 (median)'), ('Mean step jerk Y during swing - hip (m/s^3)', '*', ' (nonparametric)', '-19.19 (median) vs -8.00 (median)'), ('Mean step jerk Y during swing - lHindfingers (m/s^3)', '*', '', '-18.31±25.28 vs 7.33±23.35'), ('Mean step velocity X at stance - lHindpaw (m/s)', '*', ' (nonparametric)', '0.07 (median) vs 0.04 (median)'), ('Mean step velocity X during stance - lHindfingers (m/s)', '***', '', '0.03±0.01 vs 0.01±0.01'), ('Mean step velocity X during stance - lHindpaw (m/s)', '***', '', '0.05±0.02 vs 0.03±0.01'), ('Mean step velocity Y at peak - ankle (m/s)', '***', '', '-0.06±0.03 vs -0.11±0.02'), ('Mean step velocity Y at peak - lHindfingers (m/s)', '***', ' (nonparametric)', '0.07 (median) vs -0.00 (median)'), ('Mean step velocity Y at peak - lHindpaw (m/s)', '***', '', '0.04±0.02 vs -0.02±0.03'), ('Mean step velocity Y at stance - ankle (m/s)', '*', '', '-0.02±0.02 vs -0.01±0.01'), ('Mean step velocity Y at swing - ankle (m/s)', '***', '', '0.05±0.02 vs 0.11±0.02'), ('Mean step velocity Y at swing - hip (m/s)', '*', '', '0.01±0.01 vs -0.00±0.01'), ('Mean step velocity Y at swing - lHindpaw (m/s)', '**', '', '0.07±0.02 vs 0.09±0.02'), ('Mean step velocity Y during swing - ankle (m/s)', '*', '', '-0.07±0.01 vs -0.06±0.01')]\n",
      "----------------------------------------\n"
     ]
    }
   ],
   "source": [
    "limb = 'hindlimb'  # or 'forelimb'\n",
    "data = comparison_results[limb]\n",
    "\n",
    "print(f\"\\nComparison results for {limb}:\")\n",
    "for (key1, key2), result in data:\n",
    "    if ('ALL' in key1 and 'C_' in key2) and ('healthy' in key1 and 'sick' in key2) and ('left' in key1 and 'left' in key2):\n",
    "        print(f\"Comparison {key1} vs {key2}:\")\n",
    "        print(f\"\\tNumber of significant features: {result['n_significant']}\")\n",
    "        features_ac = [f for f in result['significant_features']]\n",
    "        print(f\"\\tSignificant features: {features_ac}\")\n",
    "        # plot_significant_features(result, title=f\"{key1} vs {key2}\", group1_df=feature_subsets[limb].get(key1), group2_df=feature_subsets[limb].get(key2), names=[key1, key2])\n",
    "        print(\"-\" * 40)\n",
    "\n",
    "rows = []\n",
    "\n",
    "for (key1, key2), result in comparison_results[limb]:\n",
    "    if ('ALL' in key1 and 'C_' in key2) and ('healthy' in key1 and 'sick' in key2) and ('left' in key1 and 'left' in key2):\n",
    "        for feat_tuple in result['significant_features']:\n",
    "            # feat_tuple looks like: (feature_name, '*', '(circular approx)', 'values...')\n",
    "            feature_name = feat_tuple[0]\n",
    "            values_str = feat_tuple[-1]  # last element is the values string\n",
    "\n",
    "            values_split = values_str.split(' vs ')\n",
    "\n",
    "            rows.append((feature_name, values_split[0], values_split[1]))\n",
    "\n",
    "# Create DataFrame\n",
    "all_vs_c_df = pd.DataFrame(rows, columns=[\"feature\", \"value 1\", \"value 2\"])\n",
    "\n",
    "# Save to CSV\n",
    "all_vs_c_df.to_csv(\"all_healthy_vs_c_sick.csv\", index=False)"
   ]
  },
  {
   "cell_type": "code",
   "execution_count": null,
   "id": "cba6735c",
   "metadata": {},
   "outputs": [
    {
     "name": "stdout",
     "output_type": "stream",
     "text": [
      "Comparison healthy_left_C_run vs sick_left_C_run:\n",
      "\tNumber of significant features: 105\n",
      "\tSignificant features: [('Mean angle acceleration at touchdown - rhindlimb - knee (rad/s^2)', '*', ' (circular approx)', '-114.0±79.4 vs 120.0±88.8°'), ('Mean angle at peak - rhindlimb - ankle (°)', '**', ' (circular approx)', '65.9±7.6 vs 57.6±4.4°'), ('Mean angle at peak - rhindlimb - knee (°)', '*', ' (circular approx)', '89.4±2.8 vs 86.6±2.6°'), ('Mean angle at peak - rhindlimb - lHindfingers (°)', '*', ' (circular approx)', '127.8±14.4 vs 144.3±12.8°'), ('Mean angle at peak - rhindlimb - lHindpaw (°)', '**', ' (circular approx)', '162.6±3.1 vs 156.9±3.6°'), ('Mean angle at stance - rhindlimb - hip (°)', '*', ' (circular approx)', '126.9±2.6 vs 123.8±2.1°'), ('Mean angle at stance - rhindlimb - lHindfingers (°)', '**', ' (circular approx)', '175.9±0.9 vs 174.1±1.2°'), ('Mean angle at stance - rhindlimb - lHindpaw (°)', '**', ' (circular approx)', '151.9±3.3 vs 146.0±3.4°'), ('Mean angle at swing - rhindlimb - knee (°)', '*', ' (circular approx)', '94.9±4.3 vs 99.9±5.0°'), ('Mean angle at swing - rhindlimb - lHindfingers (°)', '*', ' (circular approx)', '118.8±5.5 vs 127.5±8.6°'), ('Mean angle at touchdown - rhindlimb - lHindfingers (°)', '***', ' (circular approx)', '175.4±0.8 vs 173.5±1.2°'), ('Mean angle at touchdown - rhindlimb - lHindpaw (°)', '*', ' (circular approx)', '153.9±3.5 vs 148.9±4.2°'), ('Mean angle during stance - rhindlimb - knee (°)', '*', ' (circular approx)', '1.6±0.0 vs 1.6±0.0°'), ('Mean angle during stance - rhindlimb - lHindfingers (°)', '*', ' (circular approx)', '2.7±0.1 vs 2.8±0.1°'), ('Mean angle during stance - rhindlimb - lHindpaw (°)', '***', ' (circular approx)', '2.5±0.0 vs 2.4±0.0°'), ('Mean angle during swing - rhindlimb - hip (°)', '*', ' (circular approx)', '1.8±0.1 vs 1.7±0.0°'), ('Mean angle during swing - rhindlimb - lHindpaw (°)', '***', ' (circular approx)', '2.8±0.0 vs 2.7±0.0°'), ('Mean angle excursion - rhindlimb - ankle (°)', '**', '', '81.19±9.47 vs 67.16±8.46'), ('Mean angle value - rhindlimb - lHindpaw (°)', '***', ' (circular approx)', '152.6±2.1 vs 146.9±1.8°'), ('Mean angle velocity - rhindlimb - ankle (rad/s)', '*', ' (circular approx)', '0.0±0.1 vs -0.1±0.1°'), ('Mean angle velocity - rhindlimb - knee (rad/s)', '**', ' (circular approx)', '-0.0±0.0 vs -0.1±0.1°'), ('Mean angle velocity - rhindlimb - lHindpaw (rad/s)', '*', ' (circular approx)', '-0.0±0.1 vs 0.1±0.1°'), ('Mean angle velocity at peak - rhindlimb - hip (rad/s)', '**', ' (circular approx)', '9.9±2.4 vs 13.9±2.7°'), ('Mean angle velocity at peak - rhindlimb - lHindpaw (rad/s)', '*', ' (circular approx)', '8.9±4.5 vs 2.0±7.5°'), ('Mean angle velocity at stance - rhindlimb - hip (rad/s)', '***', ' (circular approx)', '-5.5±3.1 vs -9.0±1.5°'), ('Mean angle velocity at stance - rhindlimb - lHindpaw (rad/s)', '**', ' (circular approx)', '-5.3±4.2 vs -11.3±3.0°'), ('Mean angle velocity at swing - rhindlimb - knee (rad/s)', '***', ' (circular approx)', '0.1±0.8 vs -2.7±0.9°'), ('Mean angle velocity at touchdown - rhindlimb - ankle (rad/s)', '*', ' (circular approx)', '3.8±2.7 vs 6.2±2.1°'), ('Mean angle velocity at touchdown - rhindlimb - knee (rad/s)', '*', ' (circular approx)', '1.0±1.2 vs 2.5±1.9°'), ('Mean angle velocity at touchdown - rhindlimb - lHindpaw (rad/s)', '**', ' (circular approx)', '-9.4±2.5 vs -13.9±3.8°'), ('Mean angle velocity during stance - rhindlimb - knee (rad/s)', '*', ' (circular approx)', '-0.6±0.5 vs 0.3±0.9°'), ('Mean angle velocity during stance - rhindlimb - lHindpaw (rad/s)', '*', ' (circular approx)', '-0.3±1.0 vs 0.7±0.9°'), ('Mean angle velocity during swing - rhindlimb - ankle (rad/s)', '*', ' (circular approx)', '0.4±0.7 vs -0.7±1.0°'), ('Mean phase acceleration during swing - rhindlimb - knee (rad/s^2)', '*', ' (circular approx)', '-0.2±0.9 vs 0.7±0.7°'), ('Mean phase acceleration during swing - rhindlimb - lHindpaw (rad/s^2)', '*', ' (circular approx)', '-0.2±0.6 vs -0.0±1.1°'), ('Mean phase at peak - rhindlimb - lHindpaw (°)', '*', ' (circular approx)', '-52.0±14.5 vs -35.4±12.9°'), ('Mean phase at stance - rhindlimb - ankle (°)', '*', ' (circular approx)', '-27.0±2.9 vs -30.8±3.4°'), ('Mean phase at stance - rhindlimb - hip (°)', '*', ' (circular approx)', '-53.1±2.6 vs -56.2±2.1°'), ('Mean phase at stance - rhindlimb - lHindpaw (°)', '*', ' (circular approx)', '1.1±1.5 vs 3.2±2.2°'), ('Mean phase at swing - rhindlimb - lHindpaw (°)', '*', ' (circular approx)', '-61.2±5.5 vs -52.5±8.6°'), ('Mean phase at touchdown - rhindlimb - ankle (°)', '*', ' (circular approx)', '-24.9±3.1 vs -28.3±3.4°'), ('Mean phase at touchdown - rhindlimb - lHindpaw (°)', '**', ' (circular approx)', '1.2±1.7 vs 2.8±3.1°'), ('Mean phase during stance - rhindlimb - lHindpaw (°)', '**', ' (circular approx)', '-0.4±0.1 vs -0.3±0.1°'), ('Mean phase during swing - rhindlimb - ankle (°)', '*', ' (circular approx)', '-0.8±0.1 vs -0.9±0.0°'), ('Mean phase during swing - rhindlimb - hip (°)', '*', ' (circular approx)', '-1.3±0.1 vs -1.4±0.0°'), ('Mean phase during swing - rhindlimb - knee (°)', '**', ' (circular approx)', '-2.9±0.1 vs -3.0±0.0°'), ('Mean phase excursion - rhindlimb - ankle (°)', '**', '', '114.10±7.16 vs 102.84±8.15'), ('Mean phase value - rhindlimb - lHindpaw (°)', '*', ' (circular approx)', '-25.9±3.6 vs -22.1±3.8°'), ('Mean phase velocity at peak - rhindlimb - hip (rad/s)', '**', ' (circular approx)', '9.9±2.4 vs 13.9±2.7°'), ('Mean phase velocity at peak - rhindlimb - knee (rad/s)', '*', ' (circular approx)', '6.5±2.5 vs 9.9±2.5°'), ('Mean phase velocity at stance - rhindlimb - lHindpaw (rad/s)', '*', ' (circular approx)', '0.1±2.3 vs 2.8±1.5°'), ('Mean phase velocity at swing - rhindlimb - ankle (rad/s)', '*', ' (circular approx)', '-1.2±4.1 vs -5.1±2.3°'), ('Mean phase velocity at swing - rhindlimb - knee (rad/s)', '***', ' (circular approx)', '-0.8±1.4 vs -4.3±0.9°'), ('Mean phase velocity at touchdown - rhindlimb - ankle (rad/s)', '*', ' (circular approx)', '-8.2±2.4 vs -10.7±2.2°'), ('Mean step acceleration X at peak - lHindfingers (m/s^2)', '**', '', '7.02±6.29 vs -4.39±8.29'), ('Mean step acceleration X at peak - lHindpaw (m/s^2)', '*', '', '2.41±5.66 vs -3.92±6.83'), ('Mean step acceleration X at stance - hip (m/s^2)', '*', ' (nonparametric)', '-0.40 (median) vs -1.82 (median)'), ('Mean step acceleration X at swing - ankle (m/s^2)', '**', '', '3.70±1.73 vs 6.34±1.89'), ('Mean step acceleration X at touchdown - ankle (m/s^2)', '*', ' (nonparametric)', '-11.06 (median) vs -15.89 (median)'), ('Mean step acceleration X during stance - ankle (m/s^2)', '*', '', '0.61±0.37 vs 1.10±0.38'), ('Mean step acceleration X during stance - knee (m/s^2)', '*', ' (nonparametric)', '0.22 (median) vs 0.47 (median)'), ('Mean step acceleration X during stance - lHindpaw (m/s^2)', '*', '', '0.49±0.49 vs 0.89±0.30'), ('Mean step acceleration Y at peak - hip (m/s^2)', '**', '', '-0.56±0.85 vs 0.64±0.68'), ('Mean step acceleration Y at stance - lHindfingers (m/s^2)', '**', ' (nonparametric)', '4.94 (median) vs 7.33 (median)'), ('Mean step acceleration Y at stance - lHindpaw (m/s^2)', '*', '', '7.04±2.89 vs 10.00±2.44'), ('Mean step acceleration Y at swing - ankle (m/s^2)', '***', '', '0.13±1.00 vs 3.15±1.70'), ('Mean step acceleration Y at swing - hip (m/s^2)', '*', '', '-0.43±1.09 vs -1.96±1.37'), ('Mean step acceleration Y at touchdown - ankle (m/s^2)', '***', '', '2.81±0.84 vs 6.37±1.34'), ('Mean step acceleration Y at touchdown - lHindfingers (m/s^2)', '***', '', '4.53±1.90 vs 8.54±2.47'), ('Mean step acceleration Y at touchdown - lHindpaw (m/s^2)', '*', '', '6.74±2.71 vs 10.11±3.06'), ('Mean step acceleration Y during stance - ankle (m/s^2)', '**', '', '0.53±0.21 vs 1.02±0.36'), ('Mean step acceleration Y during stance - lHindpaw (m/s^2)', '*', '', '1.04±0.40 vs 1.49±0.37'), ('Mean step acceleration Y during swing - ankle (m/s^2)', '**', '', '-0.76±0.25 vs -1.28±0.36'), ('Mean step acceleration Y during swing - hip (m/s^2)', '*', '', '-0.22±0.13 vs -0.03±0.21'), ('Mean step acceleration Y during swing - lHindpaw (m/s^2)', '*', '', '-1.53±0.45 vs -1.92±0.38'), ('Mean step jerk X at stance - ankle (m/s^3)', '**', ' (nonparametric)', '658.62 (median) vs 1611.79 (median)'), ('Mean step jerk X at stance - hip (m/s^3)', '*', ' (nonparametric)', '-54.35 (median) vs 124.76 (median)'), ('Mean step jerk X at stance - knee (m/s^3)', '*', ' (nonparametric)', '581.21 (median) vs 1070.17 (median)'), ('Mean step jerk X at stance - lHindfingers (m/s^3)', '**', ' (nonparametric)', '1161.27 (median) vs 1652.85 (median)'), ('Mean step jerk X at stance - lHindpaw (m/s^3)', '*', ' (nonparametric)', '847.49 (median) vs 1654.37 (median)'), ('Mean step jerk X at swing - knee (m/s^3)', '*', '', '393.61±344.34 vs 89.32±233.99'), ('Mean step jerk X at touchdown - ankle (m/s^3)', '*', ' (nonparametric)', '1075.43 (median) vs 1414.62 (median)'), ('Mean step jerk X at touchdown - knee (m/s^3)', '*', ' (nonparametric)', '653.46 (median) vs 987.88 (median)'), ('Mean step jerk X at touchdown - lHindfingers (m/s^3)', '**', ' (nonparametric)', '1050.66 (median) vs 1706.61 (median)'), ('Mean step jerk X at touchdown - lHindpaw (m/s^3)', '**', ' (nonparametric)', '1181.06 (median) vs 1812.65 (median)'), ('Mean step jerk X during stance - ankle (m/s^3)', '*', '', '115.15±58.78 vs 170.10±38.38'), ('Mean step jerk Y at peak - ankle (m/s^3)', '**', '', '-263.44±350.52 vs 456.87±494.69'), ('Mean step jerk Y at peak - lHindfingers (m/s^3)', '**', ' (nonparametric)', '-736.69 (median) vs 290.35 (median)'), ('Mean step jerk Y at peak - lHindpaw (m/s^3)', '**', ' (nonparametric)', '-573.01 (median) vs 288.54 (median)'), ('Mean step jerk Y at stance - ankle (m/s^3)', '*', '', '88.18±220.50 vs -96.29±148.02'), ('Mean step jerk Y at stance - lHindfingers (m/s^3)', '***', '', '26.52±152.30 vs -330.58±217.14'), ('Mean step jerk Y during stance - lHindfingers (m/s^3)', '**', ' (nonparametric)', '7.89 (median) vs -16.05 (median)'), ('Mean step jerk Y during swing - lHindfingers (m/s^3)', '*', '', '-15.68±23.29 vs 7.33±23.35'), ('Mean step velocity X at peak - knee (m/s)', '*', '', '0.36±0.04 vs 0.42±0.06'), ('Mean step velocity X at peak - lHindfingers (m/s)', '*', '', '0.61±0.08 vs 0.70±0.07'), ('Mean step velocity X during stance - lHindfingers (m/s)', '**', '', '0.03±0.01 vs 0.01±0.01'), ('Mean step velocity X during stance - lHindpaw (m/s)', '*', '', '0.05±0.02 vs 0.03±0.01'), ('Mean step velocity Y at peak - ankle (m/s)', '***', '', '-0.05±0.03 vs -0.11±0.02'), ('Mean step velocity Y at peak - lHindfingers (m/s)', '***', ' (nonparametric)', '0.06 (median) vs -0.00 (median)'), ('Mean step velocity Y at peak - lHindpaw (m/s)', '***', '', '0.05±0.02 vs -0.02±0.03'), ('Mean step velocity Y at swing - ankle (m/s)', '***', '', '0.05±0.03 vs 0.11±0.02'), ('Mean step velocity Y at swing - hip (m/s)', '*', '', '0.01±0.01 vs -0.00±0.01'), ('Mean step velocity Y at swing - lHindpaw (m/s)', '*', '', '0.07±0.02 vs 0.09±0.02'), ('Mean step velocity Y at touchdown - lHindfingers (m/s)', '*', ' (nonparametric)', '-0.08 (median) vs -0.10 (median)'), ('Mean step velocity Y at touchdown - lHindpaw (m/s)', '*', '', '-0.09±0.02 vs -0.12±0.03')]\n",
      "----------------------------------------\n"
     ]
    }
   ],
   "source": [
    "for (key1, key2), result in data:\n",
    "    if ('C_' in key1 and 'C_' in key2) and ('healthy' in key1 and 'sick' in key2) and ('left' in key1 and 'left' in key2):\n",
    "        print(f\"Comparison {key1} vs {key2}:\")\n",
    "        print(f\"\\tNumber of significant features: {result['n_significant']}\")\n",
    "        features_ac = [f for f in result['significant_features']]\n",
    "        print(f\"\\tSignificant features: {features_ac}\")\n",
    "        # plot_significant_features(result, title=f\"{key1} vs {key2}\", group1_df=feature_subsets[limb].get(key1), group2_df=feature_subsets[limb].get(key2), names=[key1, key2])\n",
    "        print(\"-\" * 40)"
   ]
  },
  {
   "cell_type": "code",
   "execution_count": 38,
   "id": "5fe8a29a",
   "metadata": {},
   "outputs": [
    {
     "name": "stdout",
     "output_type": "stream",
     "text": [
      "Comparison healthy_left_E_run vs sick_left_E_run:\n",
      "\tNumber of significant features: 80\n",
      "\tSignificant features: [('Mean angle acceleration - rhindlimb - lHindfingers (rad/s^2)', '*', ' (circular approx)', '159.3±47.5 vs 164.9±18.7°'), ('Mean angle acceleration - rhindlimb - lHindpaw (rad/s^2)', '*', ' (circular approx)', '151.9±43.8 vs 175.2±23.7°'), ('Mean angle acceleration at stance - rhindlimb - ankle (rad/s^2)', '*', ' (circular approx)', '10.4±56.5 vs -128.4±119.4°'), ('Mean angle acceleration at swing - rhindlimb - ankle (rad/s^2)', '*', ' (circular approx)', '50.6±87.1 vs -111.0±61.1°'), ('Mean angle acceleration at swing - rhindlimb - lHindpaw (rad/s^2)', '*', ' (circular approx)', '84.2±55.3 vs -160.2±109.8°'), ('Mean angle acceleration at touchdown - rhindlimb - ankle (rad/s^2)', '*', ' (circular approx)', '12.1±54.3 vs 82.1±123.8°'), ('Mean angle acceleration during stance - rhindlimb - lHindfingers (rad/s^2)', '*', ' (circular approx)', '-1.0±0.9 vs 0.3±0.7°'), ('Mean angle at peak - rhindlimb - knee (°)', '**', ' (circular approx)', '90.1±2.9 vs 85.7±1.5°'), ('Mean angle at peak - rhindlimb - lHindfingers (°)', '**', ' (circular approx)', '124.1±19.7 vs 146.9±11.7°'), ('Mean angle at peak - rhindlimb - lHindpaw (°)', '*', ' (circular approx)', '163.1±4.8 vs 157.7±3.7°'), ('Mean angle at stance - rhindlimb - knee (°)', '*', ' (circular approx)', '90.0±2.3 vs 92.5±1.6°'), ('Mean angle at swing - rhindlimb - ankle (°)', '**', ' (circular approx)', '97.7±5.7 vs 86.6±4.8°'), ('Mean angle at swing - rhindlimb - knee (°)', '*', ' (circular approx)', '101.2±3.3 vs 96.0±4.0°'), ('Mean angle at swing - rhindlimb - lHindfingers (°)', '*', ' (circular approx)', '116.6±11.7 vs 129.1±4.2°'), ('Mean angle during stance - rhindlimb - ankle (°)', '*', ' (circular approx)', '1.3±0.1 vs 1.2±0.0°'), ('Mean angle during stance - rhindlimb - lHindfingers (°)', '*', ' (circular approx)', '2.7±0.1 vs 2.8±0.0°'), ('Mean angle during swing - rhindlimb - ankle (°)', '**', ' (circular approx)', '1.2±0.1 vs 1.1±0.0°'), ('Mean angle during swing - rhindlimb - hip (°)', '*', ' (circular approx)', '1.7±0.1 vs 1.8±0.1°'), ('Mean angle during swing - rhindlimb - knee (°)', '**', ' (circular approx)', '1.6±0.0 vs 1.5±0.0°'), ('Mean angle during swing - rhindlimb - lHindfingers (°)', '**', ' (circular approx)', '2.5±0.1 vs 2.7±0.1°'), ('Mean angle during swing - rhindlimb - lHindpaw (°)', '*', ' (circular approx)', '2.8±0.1 vs 2.7±0.0°'), ('Mean angle excursion - rhindlimb - ankle (°)', '***', '', '90.74±8.62 vs 60.67±7.15'), ('Mean angle excursion - rhindlimb - knee (°)', '**', '', '36.88±4.16 vs 31.05±3.66'), ('Mean angle excursion - rhindlimb - lHindfingers (°)', '***', '', '116.47±10.29 vs 95.88±9.07'), ('Mean angle excursion - rhindlimb - lHindpaw (°)', '**', ' (nonparametric)', '62.05 (median) vs 58.67 (median)'), ('Mean angle value - rhindlimb - ankle (°)', '**', ' (circular approx)', '69.5±4.0 vs 62.9±1.6°'), ('Mean angle value - rhindlimb - knee (°)', '**', ' (circular approx)', '92.2±1.2 vs 90.3±1.4°'), ('Mean angle value - rhindlimb - lHindfingers (°)', '**', ' (circular approx)', '150.4±5.6 vs 158.9±2.3°'), ('Mean angle velocity at peak - rhindlimb - ankle (rad/s)', '*', ' (circular approx)', '-24.2±11.1 vs -13.6±6.4°'), ('Mean angle velocity at peak - rhindlimb - knee (rad/s)', '***', ' (circular approx)', '-6.8±2.3 vs -2.2±1.9°'), ('Mean angle velocity at stance - rhindlimb - ankle (rad/s)', '*', ' (circular approx)', '7.6±6.1 vs 0.7±2.1°'), ('Mean angle velocity at swing - rhindlimb - ankle (rad/s)', '*', ' (circular approx)', '4.4±4.7 vs -0.2±2.6°'), ('Mean angle velocity at swing - rhindlimb - hip (rad/s)', '*', ' (circular approx)', '-2.6±2.4 vs -1.4±0.9°'), ('Mean angle velocity at swing - rhindlimb - knee (rad/s)', '**', ' (circular approx)', '1.0±2.4 vs -2.8±1.7°'), ('Mean angle velocity at swing - rhindlimb - lHindfingers (rad/s)', '*', ' (circular approx)', '-17.2±4.1 vs -12.6±3.0°'), ('Mean angle velocity at touchdown - rhindlimb - lHindfingers (rad/s)', '**', ' (circular approx)', '-1.0±1.2 vs 1.3±1.1°'), ('Mean angle velocity during swing - rhindlimb - ankle (rad/s)', '**', ' (circular approx)', '0.6±0.7 vs -0.8±1.1°'), ('Mean phase acceleration - rhindlimb - hip (rad/s^2)', '*', ' (circular approx)', '-35.7±96.6 vs 9.4±37.8°'), ('Mean phase acceleration during swing - rhindlimb - ankle (rad/s^2)', '**', ' (circular approx)', '0.4±0.7 vs -1.1±0.7°'), ('Mean phase at peak - rhindlimb - lHindpaw (°)', '**', ' (circular approx)', '-55.9±19.7 vs -33.0±11.8°'), ('Mean phase at swing - rhindlimb - ankle (°)', '**', ' (circular approx)', '-102.3±6.1 vs -93.0±4.6°'), ('Mean phase at swing - rhindlimb - lHindpaw (°)', '*', ' (circular approx)', '-63.4±11.7 vs -50.9±4.2°'), ('Mean phase during stance - rhindlimb - lHindpaw (°)', '*', ' (circular approx)', '-0.4±0.1 vs -0.3±0.1°'), ('Mean phase during swing - rhindlimb - ankle (°)', '**', ' (circular approx)', '-1.0±0.1 vs -0.8±0.1°'), ('Mean phase during swing - rhindlimb - hip (°)', '*', ' (circular approx)', '-1.4±0.1 vs -1.3±0.1°'), ('Mean phase during swing - rhindlimb - lHindpaw (°)', '**', ' (circular approx)', '-0.7±0.1 vs -0.4±0.1°'), ('Mean phase excursion - rhindlimb - ankle (°)', '**', '', '116.30±10.59 vs 98.17±6.19'), ('Mean phase excursion - rhindlimb - lHindpaw (°)', '**', '', '125.78±8.89 vs 109.63±7.89'), ('Mean phase value - rhindlimb - ankle (°)', '**', ' (circular approx)', '-57.8±5.9 vs -49.8±3.1°'), ('Mean phase value - rhindlimb - lHindpaw (°)', '**', ' (circular approx)', '-28.9±6.0 vs -19.3±2.6°'), ('Mean phase velocity at peak - rhindlimb - knee (rad/s)', '*', ' (circular approx)', '5.0±5.2 vs 9.8±2.0°'), ('Mean phase velocity at swing - rhindlimb - hip (rad/s)', '*', ' (circular approx)', '-2.6±2.4 vs -1.4±0.9°'), ('Mean phase velocity at swing - rhindlimb - knee (rad/s)', '**', ' (circular approx)', '-1.7±1.9 vs -4.3±1.3°'), ('Mean phase velocity at swing - rhindlimb - lHindpaw (rad/s)', '*', ' (circular approx)', '-17.2±4.1 vs -12.6±3.0°'), ('Mean step acceleration X during stance - ankle (m/s^2)', '*', '', '0.30±0.57 vs 0.90±0.31'), ('Mean step acceleration X during stance - knee (m/s^2)', '*', '', '-0.40±0.85 vs 0.35±0.22'), ('Mean step acceleration X during stance - lHindfingers (m/s^2)', '*', '', '-0.42±0.84 vs 0.49±0.37'), ('Mean step acceleration X during stance - lHindpaw (m/s^2)', '*', '', '-0.04±0.78 vs 0.68±0.35'), ('Mean step acceleration Y at peak - hip (m/s^2)', '*', '', '-0.52±0.84 vs 0.40±0.90'), ('Mean step acceleration Y at swing - ankle (m/s^2)', '*', '', '0.46±2.00 vs 2.68±1.70'), ('Mean step acceleration Y at swing - lHindfingers (m/s^2)', '*', '', '3.66±2.81 vs 6.65±1.35'), ('Mean step acceleration Y at swing - lHindpaw (m/s^2)', '**', ' (nonparametric)', '3.23 (median) vs 6.00 (median)'), ('Mean step acceleration Y during swing - hip (m/s^2)', '*', '', '-0.14±0.25 vs 0.09±0.16'), ('Mean step jerk X at swing - hip (m/s^3)', '**', ' (nonparametric)', '298.33 (median) vs -36.42 (median)'), ('Mean step jerk X during swing - hip (m/s^3)', '*', '', '-4.58±16.68 vs -20.79±14.42'), ('Mean step jerk Y at peak - ankle (m/s^3)', '**', '', '-279.30±524.73 vs 609.88±443.05'), ('Mean step jerk Y at peak - lHindfingers (m/s^3)', '***', '', '-664.27±314.12 vs 329.52±208.16'), ('Mean step jerk Y at peak - lHindpaw (m/s^3)', '**', '', '-416.88±403.35 vs 152.63±282.31'), ('Mean step jerk Y at stance - lHindpaw (m/s^3)', '*', '', '198.55±282.73 vs -125.32±308.51'), ('Mean step jerk Y at swing - ankle (m/s^3)', '**', '', '21.19±209.65 vs -324.90±236.26'), ('Mean step jerk Y at swing - lHindpaw (m/s^3)', '*', '', '175.59±147.62 vs -93.33±301.97'), ('Mean step jerk Y during swing - ankle (m/s^3)', '*', '', '32.80±21.81 vs 10.05±15.77'), ('Mean step velocity X at peak - lHindpaw (m/s)', '*', '', '0.65±0.07 vs 0.57±0.07'), ('Mean step velocity X at swing - lHindfingers (m/s)', '**', '', '0.10±0.04 vs 0.16±0.03'), ('Mean step velocity X during stance - lHindpaw (m/s)', '*', '', '0.05±0.02 vs 0.03±0.01'), ('Mean step velocity Y at peak - ankle (m/s)', '**', '', '-0.04±0.05 vs -0.11±0.03'), ('Mean step velocity Y at peak - lHindfingers (m/s)', '***', '', '0.06±0.03 vs -0.00±0.01'), ('Mean step velocity Y at peak - lHindpaw (m/s)', '***', '', '0.04±0.03 vs -0.02±0.02'), ('Mean step velocity Y at swing - hip (m/s)', '**', '', '0.02±0.02 vs -0.01±0.01'), ('Mean step velocity Y at swing - lHindpaw (m/s)', '*', '', '0.06±0.03 vs 0.09±0.01')]\n",
      "----------------------------------------\n"
     ]
    }
   ],
   "source": [
    "for (key1, key2), result in data:\n",
    "    if ('E_' in key1 and 'E_' in key2) and ('healthy' in key1 and 'sick' in key2) and ('left' in key1 and 'left' in key2):\n",
    "        print(f\"Comparison {key1} vs {key2}:\")\n",
    "        print(f\"\\tNumber of significant features: {result['n_significant']}\")\n",
    "        features_ac = [f for f in result['significant_features']]\n",
    "        print(f\"\\tSignificant features: {features_ac}\")\n",
    "        # plot_significant_features(result, title=f\"{key1} vs {key2}\", group1_df=feature_subsets[limb].get(key1), group2_df=feature_subsets[limb].get(key2), names=[key1, key2])\n",
    "        print(\"-\" * 40)"
   ]
  },
  {
   "cell_type": "code",
   "execution_count": 10,
   "id": "8f74791b",
   "metadata": {},
   "outputs": [
    {
     "name": "stdout",
     "output_type": "stream",
     "text": [
      "\n",
      "Comparison results for hindlimb:\n",
      "Comparison healthy_left_ALL_run vs sick_left_E_run:\n",
      "\tNumber of significant features: 107\n",
      "\tSignificant features: [('Mean angle acceleration - rhindlimb - ankle (rad/s^2)', '*', ' (circular approx)', '-90.9±21.9 vs -77.6±10.6°'), ('Mean angle acceleration - rhindlimb - hip (rad/s^2)', '*', ' (circular approx)', '-144.5±28.8 vs -127.9±14.5°'), ('Mean angle acceleration - rhindlimb - knee (rad/s^2)', '*', ' (circular approx)', '-129.1±26.1 vs -112.4±13.0°'), ('Mean angle acceleration - rhindlimb - lHindfingers (rad/s^2)', '**', ' (circular approx)', '142.4±44.1 vs 164.9±18.7°'), ('Mean angle acceleration - rhindlimb - lHindpaw (rad/s^2)', '**', ' (circular approx)', '144.8±42.4 vs 175.2±23.7°'), ('Mean angle acceleration during swing - rhindlimb - knee (rad/s^2)', '**', ' (circular approx)', '0.1±1.1 vs -0.3±0.4°'), ('Mean angle acceleration during swing - rhindlimb - lHindpaw (rad/s^2)', '*', ' (circular approx)', '-0.2±1.0 vs 0.2±0.7°'), ('Mean angle at peak - rhindlimb - ankle (°)', '***', ' (circular approx)', '66.2±9.3 vs 56.7±4.2°'), ('Mean angle at peak - rhindlimb - knee (°)', '***', ' (circular approx)', '89.7±2.4 vs 85.7±1.5°'), ('Mean angle at peak - rhindlimb - lHindfingers (°)', '**', ' (circular approx)', '126.8±16.7 vs 146.9±11.7°'), ('Mean angle at peak - rhindlimb - lHindpaw (°)', '*', ' (circular approx)', '162.0±5.7 vs 157.7±3.7°'), ('Mean angle at stance - rhindlimb - lHindfingers (°)', '**', ' (circular approx)', '176.2±1.0 vs 174.4±1.2°'), ('Mean angle at swing - rhindlimb - ankle (°)', '***', ' (circular approx)', '96.5±5.3 vs 86.6±4.8°'), ('Mean angle at swing - rhindlimb - lHindfingers (°)', '***', ' (circular approx)', '119.1±6.0 vs 129.1±4.2°'), ('Mean angle at touchdown - rhindlimb - lHindfingers (°)', '*', ' (circular approx)', '175.3±1.0 vs 174.1±1.1°'), ('Mean angle during stance - rhindlimb - lHindfingers (°)', '***', ' (circular approx)', '2.7±0.1 vs 2.8±0.0°'), ('Mean angle during stance - rhindlimb - lHindpaw (°)', '**', ' (circular approx)', '2.5±0.1 vs 2.5±0.0°'), ('Mean angle during swing - rhindlimb - ankle (°)', '*', ' (circular approx)', '1.1±0.1 vs 1.1±0.0°'), ('Mean angle during swing - rhindlimb - knee (°)', '**', ' (circular approx)', '1.6±0.0 vs 1.5±0.0°'), ('Mean angle during swing - rhindlimb - lHindfingers (°)', '***', ' (circular approx)', '2.6±0.1 vs 2.7±0.1°'), ('Mean angle during swing - rhindlimb - lHindpaw (°)', '***', ' (circular approx)', '2.8±0.0 vs 2.7±0.0°'), ('Mean angle excursion - rhindlimb - ankle (°)', '***', '', '85.47±8.97 vs 60.67±7.15'), ('Mean angle excursion - rhindlimb - lHindfingers (°)', '***', '', '111.60±13.37 vs 95.88±9.07'), ('Mean angle excursion - rhindlimb - lHindpaw (°)', '**', ' (nonparametric)', '61.68 (median) vs 58.67 (median)'), ('Mean angle value - rhindlimb - ankle (°)', '**', ' (circular approx)', '65.4±3.0 vs 62.9±1.6°'), ('Mean angle value - rhindlimb - hip (°)', '*', ' (circular approx)', '100.0±3.6 vs 102.5±2.5°'), ('Mean angle value - rhindlimb - lHindfingers (°)', '***', ' (circular approx)', '152.7±3.5 vs 158.9±2.3°'), ('Mean angle value - rhindlimb - lHindpaw (°)', '***', ' (circular approx)', '152.4±2.4 vs 149.4±1.7°'), ('Mean angle velocity - rhindlimb - hip (rad/s)', '*', ' (circular approx)', '0.1±0.1 vs 0.1±0.0°'), ('Mean angle velocity - rhindlimb - knee (rad/s)', '*', ' (circular approx)', '-0.0±0.0 vs -0.1±0.0°'), ('Mean angle velocity at peak - rhindlimb - ankle (rad/s)', '**', ' (circular approx)', '-21.4±7.8 vs -13.6±6.4°'), ('Mean angle velocity at peak - rhindlimb - lHindpaw (rad/s)', '***', ' (circular approx)', '9.1±4.1 vs 3.6±3.9°'), ('Mean angle velocity at stance - rhindlimb - hip (rad/s)', '*', ' (circular approx)', '-6.1±2.8 vs -8.1±1.5°'), ('Mean angle velocity at swing - rhindlimb - ankle (rad/s)', '**', ' (circular approx)', '1.8±4.7 vs -0.2±2.6°'), ('Mean angle velocity at swing - rhindlimb - knee (rad/s)', '***', ' (circular approx)', '0.5±2.0 vs -2.8±1.7°'), ('Mean angle velocity at touchdown - rhindlimb - knee (rad/s)', '*', ' (circular approx)', '1.2±1.2 vs 2.4±1.3°'), ('Mean angle velocity during stance - rhindlimb - lHindpaw (rad/s)', '*', ' (circular approx)', '-0.4±1.2 vs 0.5±1.0°'), ('Mean angle velocity during swing - rhindlimb - ankle (rad/s)', '*', ' (circular approx)', '0.1±0.9 vs -0.8±1.1°'), ('Mean phase acceleration - rhindlimb - ankle (rad/s^2)', '**', ' (circular approx)', '-62.7±93.4 vs -26.1±42.2°'), ('Mean phase acceleration - rhindlimb - hip (rad/s^2)', '**', ' (circular approx)', '-26.7±87.0 vs 9.4±37.8°'), ('Mean phase acceleration - rhindlimb - knee (rad/s^2)', '*', ' (circular approx)', '87.8±54.8 vs 119.5±26.9°'), ('Mean phase acceleration at stance - rhindlimb - knee (rad/s^2)', '*', ' (circular approx)', '-159.2±88.1 vs -32.3±68.9°'), ('Mean phase acceleration at touchdown - rhindlimb - knee (rad/s^2)', '*', ' (circular approx)', '-109.5±84.0 vs -5.1±68.2°'), ('Mean phase acceleration during swing - rhindlimb - ankle (rad/s^2)', '***', ' (circular approx)', '0.1±1.0 vs -1.1±0.7°'), ('Mean phase at peak - rhindlimb - lHindpaw (°)', '**', ' (circular approx)', '-53.1±16.8 vs -33.0±11.8°'), ('Mean phase at swing - rhindlimb - ankle (°)', '***', ' (circular approx)', '-103.9±5.4 vs -93.0±4.6°'), ('Mean phase at swing - rhindlimb - lHindpaw (°)', '***', ' (circular approx)', '-60.9±6.0 vs -50.9±4.2°'), ('Mean phase during stance - rhindlimb - lHindpaw (°)', '***', ' (circular approx)', '-0.4±0.1 vs -0.3±0.1°'), ('Mean phase during swing - rhindlimb - lHindpaw (°)', '***', ' (circular approx)', '-0.6±0.1 vs -0.4±0.1°'), ('Mean phase excursion - rhindlimb - ankle (°)', '***', '', '115.77±7.43 vs 98.17±6.19'), ('Mean phase excursion - rhindlimb - lHindpaw (°)', '**', '', '122.37±13.31 vs 109.63±7.89'), ('Mean phase value - rhindlimb - ankle (°)', '*', ' (circular approx)', '-53.4±4.6 vs -49.8±3.1°'), ('Mean phase value - rhindlimb - hip (°)', '*', ' (circular approx)', '-80.0±3.6 vs -77.5±2.5°'), ('Mean phase value - rhindlimb - lHindpaw (°)', '***', ' (circular approx)', '-26.5±3.6 vs -19.3±2.6°'), ('Mean phase velocity - rhindlimb - hip (rad/s)', '*', ' (circular approx)', '0.1±0.1 vs 0.1±0.0°'), ('Mean phase velocity - rhindlimb - knee (rad/s)', '**', ' (circular approx)', '0.1±0.1 vs 0.0±0.0°'), ('Mean phase velocity at peak - rhindlimb - knee (rad/s)', '**', ' (circular approx)', '6.9±3.1 vs 9.8±2.0°'), ('Mean phase velocity at swing - rhindlimb - knee (rad/s)', '***', ' (circular approx)', '-0.6±1.5 vs -4.3±1.3°'), ('Mean step acceleration X at peak - hip (m/s^2)', '*', '', '-1.64±1.41 vs -0.62±1.10'), ('Mean step acceleration X at peak - lHindfingers (m/s^2)', '***', '', '8.83±6.22 vs -2.43±3.79'), ('Mean step acceleration X at peak - lHindpaw (m/s^2)', '**', '', '2.77±6.07 vs -2.22±2.50'), ('Mean step acceleration X during stance - ankle (m/s^2)', '*', '', '0.58±0.51 vs 0.90±0.31'), ('Mean step acceleration X during stance - lHindfingers (m/s^2)', '*', '', '0.08±0.61 vs 0.49±0.37'), ('Mean step acceleration X during stance - lHindpaw (m/s^2)', '*', '', '0.33±0.58 vs 0.68±0.35'), ('Mean step acceleration Y at peak - hip (m/s^2)', '*', '', '-0.51±0.80 vs 0.40±0.90'), ('Mean step acceleration Y at stance - knee (m/s^2)', '**', ' (nonparametric)', '-3.44 (median) vs -1.29 (median)'), ('Mean step acceleration Y at swing - ankle (m/s^2)', '**', '', '0.40±1.41 vs 2.68±1.70'), ('Mean step acceleration Y at swing - hip (m/s^2)', '*', '', '-0.61±0.90 vs -1.50±0.94'), ('Mean step acceleration Y at swing - lHindpaw (m/s^2)', '**', ' (nonparametric)', '3.52 (median) vs 6.00 (median)'), ('Mean step acceleration Y at touchdown - lHindfingers (m/s^2)', '**', '', '4.33±2.26 vs 6.45±1.57'), ('Mean step acceleration Y during stance - ankle (m/s^2)', '**', '', '0.58±0.22 vs 0.84±0.21'), ('Mean step acceleration Y during stance - hip (m/s^2)', '**', '', '0.15±0.17 vs -0.05±0.16'), ('Mean step acceleration Y during swing - ankle (m/s^2)', '*', '', '-0.85±0.35 vs -1.11±0.18'), ('Mean step acceleration Y during swing - hip (m/s^2)', '***', '', '-0.16±0.17 vs 0.09±0.16'), ('Mean step jerk X at swing - ankle (m/s^3)', '**', '', '475.30±279.60 vs 190.14±234.51'), ('Mean step jerk X at swing - knee (m/s^3)', '**', '', '437.93±359.32 vs 69.43±250.37'), ('Mean step jerk Y at peak - ankle (m/s^3)', '***', '', '-119.96±454.95 vs 609.88±443.05'), ('Mean step jerk Y at peak - knee (m/s^3)', '*', '', '-76.98±245.34 vs 87.24±143.01'), ('Mean step jerk Y at peak - lHindfingers (m/s^3)', '***', '', '-935.93±467.40 vs 329.52±208.16'), ('Mean step jerk Y at peak - lHindpaw (m/s^3)', '***', '', '-563.07±292.68 vs 152.63±282.31'), ('Mean step jerk Y at stance - lHindfingers (m/s^3)', '***', ' (nonparametric)', '82.04 (median) vs -213.45 (median)'), ('Mean step jerk Y at swing - ankle (m/s^3)', '**', '', '-28.29±199.36 vs -324.90±236.26'), ('Mean step jerk Y during stance - ankle (m/s^3)', '*', '', '-30.56±24.92 vs -13.83±10.93'), ('Mean step jerk Y during stance - lHindpaw (m/s^3)', '*', '', '-26.90±25.92 vs -10.51±16.51'), ('Mean step jerk Y during swing - ankle (m/s^3)', '**', '', '31.13±21.12 vs 10.05±15.77'), ('Mean step jerk Y during swing - hip (m/s^3)', '**', ' (nonparametric)', '-19.19 (median) vs -6.64 (median)'), ('Mean step jerk Y during swing - knee (m/s^3)', '*', '', '-43.11±29.70 vs -21.55±19.57'), ('Mean step jerk Y during swing - lHindpaw (m/s^3)', '*', '', '13.36±29.46 vs -5.81±19.99'), ('Mean step velocity X at stance - ankle (m/s)', '**', ' (nonparametric)', '0.09 (median) vs 0.05 (median)'), ('Mean step velocity X at stance - knee (m/s)', '*', ' (nonparametric)', '0.16 (median) vs 0.13 (median)'), ('Mean step velocity X at stance - lHindpaw (m/s)', '**', ' (nonparametric)', '0.07 (median) vs 0.03 (median)'), ('Mean step velocity X during stance - ankle (m/s)', '**', ' (nonparametric)', '0.11 (median) vs 0.08 (median)'), ('Mean step velocity X during stance - knee (m/s)', '**', '', '0.15±0.04 vs 0.12±0.01'), ('Mean step velocity X during stance - lHindfingers (m/s)', '***', '', '0.03±0.01 vs 0.01±0.00'), ('Mean step velocity X during stance - lHindpaw (m/s)', '***', '', '0.05±0.02 vs 0.03±0.01'), ('Mean step velocity X during swing - lHindfingers (m/s)', '*', '', '0.52±0.08 vs 0.46±0.03'), ('Mean step velocity X during swing - lHindpaw (m/s)', '*', '', '0.49±0.08 vs 0.44±0.03'), ('Mean step velocity Y at peak - ankle (m/s)', '***', '', '-0.06±0.03 vs -0.11±0.03'), ('Mean step velocity Y at peak - lHindfingers (m/s)', '***', ' (nonparametric)', '0.07 (median) vs -0.01 (median)'), ('Mean step velocity Y at peak - lHindpaw (m/s)', '***', '', '0.04±0.02 vs -0.02±0.02'), ('Mean step velocity Y at stance - lHindfingers (m/s)', '**', '', '-0.08±0.03 vs -0.06±0.02'), ('Mean step velocity Y at swing - ankle (m/s)', '***', '', '0.05±0.02 vs 0.10±0.02'), ('Mean step velocity Y at swing - hip (m/s)', '**', '', '0.01±0.01 vs -0.01±0.01'), ('Mean step velocity Y at swing - lHindpaw (m/s)', '**', '', '0.07±0.02 vs 0.09±0.01'), ('Mean step velocity Y at touchdown - hip (m/s)', '*', '', '-0.02±0.01 vs -0.00±0.02'), ('Mean step velocity Y during swing - ankle (m/s)', '*', '', '-0.07±0.01 vs -0.06±0.01'), ('Mean step velocity Y during swing - lHindpaw (m/s)', '*', ' (nonparametric)', '-0.02 (median) vs -0.02 (median)')]\n",
      "----------------------------------------\n"
     ]
    }
   ],
   "source": [
    "print(f\"\\nComparison results for {limb}:\")\n",
    "for (key1, key2), result in data:\n",
    "    if ('ALL' in key1 and 'E_' in key2) and ('healthy' in key1 and 'sick' in key2) and ('left' in key1 and 'left' in key2):\n",
    "        print(f\"Comparison {key1} vs {key2}:\")\n",
    "        print(f\"\\tNumber of significant features: {result['n_significant']}\")\n",
    "        features_ac = [f for f in result['significant_features']]\n",
    "        print(f\"\\tSignificant features: {features_ac}\")\n",
    "        # plot_significant_features(result, title=f\"{key1} vs {key2}\", group1_df=feature_subsets[limb].get(key1), group2_df=feature_subsets[limb].get(key2), names=[key1, key2])\n",
    "        print(\"-\" * 40)\n",
    "\n",
    "rows = []\n",
    "\n",
    "for (key1, key2), result in comparison_results[limb]:\n",
    "    if ('ALL' in key1 and 'E_' in key2) and ('healthy' in key1 and 'sick' in key2) and ('left' in key1 and 'left' in key2):\n",
    "        for feat_tuple in result['significant_features']:\n",
    "            # feat_tuple looks like: (feature_name, '*', '(circular approx)', 'values...')\n",
    "            feature_name = feat_tuple[0]\n",
    "            values_str = feat_tuple[-1]  # last element is the values string\n",
    "\n",
    "            values_split = values_str.split(' vs ')\n",
    "\n",
    "            rows.append((feature_name, values_split[0], values_split[1]))\n",
    "\n",
    "# Create DataFrame\n",
    "all_vs_e_df = pd.DataFrame(rows, columns=[\"feature\", \"value 1\", \"value 2\"])\n",
    "\n",
    "# Save to CSV\n",
    "all_vs_e_df.to_csv(\"all_healthy_vs_e_sick.csv\", index=False)"
   ]
  },
  {
   "cell_type": "code",
   "execution_count": 11,
   "id": "c958ae60",
   "metadata": {},
   "outputs": [
    {
     "name": "stdout",
     "output_type": "stream",
     "text": [
      "\n",
      "Comparison results for hindlimb:\n",
      "Comparison sick_left_A_run vs sick_left_C_run:\n",
      "\tNumber of significant features: 16\n",
      "\tSignificant features: [('Mean angle acceleration during swing - rhindlimb - hip (rad/s^2)', '*', ' (circular approx)', '0.5±0.9 vs -0.7±0.9°'), ('Mean angle acceleration during swing - rhindlimb - lHindfingers (rad/s^2)', '*', ' (circular approx)', '0.2±0.7 vs 0.1±1.2°'), ('Mean angle during stance - rhindlimb - knee (°)', '*', ' (circular approx)', '1.6±0.1 vs 1.6±0.0°'), ('Mean angle during swing - rhindlimb - ankle (°)', '**', ' (circular approx)', '1.0±0.1 vs 1.1±0.0°'), ('Mean angle excursion - rhindlimb - lHindpaw (°)', '**', '', '57.51±1.89 vs 60.39±2.19'), ('Mean angle value - rhindlimb - lHindpaw (°)', '*', ' (circular approx)', '149.3±2.9 vs 146.9±1.8°'), ('Mean angle velocity - rhindlimb - lHindpaw (rad/s)', '*', ' (circular approx)', '0.0±0.1 vs 0.1±0.1°'), ('Mean angle velocity at peak - rhindlimb - lHindpaw (rad/s)', '*', ' (circular approx)', '2.9±2.9 vs 2.0±7.5°'), ('Mean angle velocity at swing - rhindlimb - ankle (rad/s)', '*', ' (circular approx)', '-0.8±5.3 vs 0.8±2.3°'), ('Mean angle velocity during swing - rhindlimb - ankle (rad/s)', '*', ' (circular approx)', '-0.3±0.6 vs -0.7±1.0°'), ('Mean phase acceleration at peak - rhindlimb - lHindpaw (rad/s^2)', '*', ' (circular approx)', '50.2±93.6 vs -105.0±69.5°'), ('Mean phase acceleration during swing - rhindlimb - hip (rad/s^2)', '*', ' (circular approx)', '0.5±0.9 vs -0.7±0.9°'), ('Mean phase during swing - rhindlimb - ankle (°)', '**', ' (circular approx)', '-0.9±0.0 vs -0.9±0.0°'), ('Mean phase velocity during swing - rhindlimb - knee (rad/s)', '*', ' (circular approx)', '0.8±1.0 vs -0.3±1.1°'), ('Mean step acceleration Y at touchdown - ankle (m/s^2)', '*', '', '5.02±0.78 vs 6.37±1.34'), ('Mean step jerk X during swing - hip (m/s^3)', '*', ' (nonparametric)', '-36.90 (median) vs -19.43 (median)')]\n",
      "----------------------------------------\n"
     ]
    }
   ],
   "source": [
    "limb = 'hindlimb'  # or 'forelimb'\n",
    "data = comparison_results[limb]\n",
    "\n",
    "print(f\"\\nComparison results for {limb}:\")\n",
    "for (key1, key2), result in data:\n",
    "    if ('A_' in key1 and 'C_' in key2) and ('sick' in key1 and 'sick' in key2) and ('left' in key1 and 'left' in key2):\n",
    "        print(f\"Comparison {key1} vs {key2}:\")\n",
    "        print(f\"\\tNumber of significant features: {result['n_significant']}\")\n",
    "        features_ac = [f for f in result['significant_features']]\n",
    "        print(f\"\\tSignificant features: {features_ac}\")\n",
    "        # plot_significant_features(result, title=f\"{key1} vs {key2}\", group1_df=feature_subsets[limb].get(key1), group2_df=feature_subsets[limb].get(key2), names=[key1, key2])\n",
    "        print(\"-\" * 40)"
   ]
  },
  {
   "cell_type": "code",
   "execution_count": 12,
   "id": "ee0d10ce",
   "metadata": {},
   "outputs": [
    {
     "name": "stdout",
     "output_type": "stream",
     "text": [
      "\n",
      "Comparison results for hindlimb:\n",
      "Comparison sick_left_B_run vs sick_left_C_run:\n",
      "\tNumber of significant features: 25\n",
      "\tSignificant features: [('Mean angle acceleration - rhindlimb - ankle (rad/s^2)', '*', ' (circular approx)', '-110.1±22.0 vs -86.6±13.9°'), ('Mean angle acceleration - rhindlimb - knee (rad/s^2)', '*', ' (circular approx)', '-147.0±24.8 vs -124.1±18.9°'), ('Mean angle acceleration at peak - rhindlimb - lHindpaw (rad/s^2)', '*', ' (circular approx)', '-165.5±64.3 vs -11.0±100.5°'), ('Mean angle during stance - rhindlimb - knee (°)', '*', ' (circular approx)', '1.6±0.0 vs 1.6±0.0°'), ('Mean angle velocity at peak - rhindlimb - lHindpaw (rad/s)', '*', ' (circular approx)', '0.8±3.1 vs 2.0±7.5°'), ('Mean angle velocity during swing - rhindlimb - lHindpaw (rad/s)', '*', ' (circular approx)', '0.1±0.5 vs 0.5±1.4°'), ('Mean phase acceleration at swing - rhindlimb - knee (rad/s^2)', '*', ' (circular approx)', '-81.5±64.0 vs 87.2±85.2°'), ('Mean phase velocity at stance - rhindlimb - knee (rad/s)', '*', ' (circular approx)', '-8.7±2.0 vs -6.5±1.8°'), ('Mean phase velocity at stance - rhindlimb - lHindpaw (rad/s)', '*', ' (circular approx)', '-0.4±3.0 vs 2.8±1.5°'), ('Mean step acceleration X at stance - hip (m/s^2)', '*', '', '-3.53±1.05 vs -2.12±1.31'), ('Mean step jerk X at stance - hip (m/s^3)', '*', '', '-14.23±162.83 vs 162.99±176.85'), ('Mean step jerk X during stance - hip (m/s^3)', '*', '', '45.77±19.16 vs 27.31±18.49'), ('Mean step jerk X during swing - ankle (m/s^3)', '*', '', '-316.14±123.01 vs -223.85±52.37'), ('Mean step jerk X during swing - hip (m/s^3)', '*', ' (nonparametric)', '-29.57 (median) vs -19.43 (median)'), ('Mean step jerk X during swing - knee (m/s^3)', '*', '', '-225.73±88.71 vs -152.73±39.71'), ('Mean step jerk Y during stance - ankle (m/s^3)', '**', '', '-50.75±25.75 vs -22.31±15.40'), ('Mean step length (m)', '*', '', '0.06±0.00 vs 0.06±0.00'), ('Mean step velocity X at peak - hip (m/s)', '**', '', '0.31±0.04 vs 0.25±0.04'), ('Mean step velocity X at stance - hip (m/s)', '*', '', '0.31±0.06 vs 0.25±0.03'), ('Mean step velocity X at touchdown - hip (m/s)', '*', '', '0.30±0.05 vs 0.26±0.03'), ('Mean step velocity X during swing - ankle (m/s)', '*', '', '0.46±0.07 vs 0.40±0.04'), ('Mean step velocity X during swing - hip (m/s)', '*', '', '0.31±0.05 vs 0.26±0.03'), ('Mean step velocity X during swing - knee (m/s)', '*', '', '0.42±0.07 vs 0.36±0.03'), ('Mean step velocity X during swing - lHindfingers (m/s)', '*', '', '0.58±0.10 vs 0.50±0.04'), ('Mean step velocity X during swing - lHindpaw (m/s)', '*', '', '0.55±0.09 vs 0.48±0.04')]\n",
      "----------------------------------------\n"
     ]
    }
   ],
   "source": [
    "data = comparison_results[limb]\n",
    "    \n",
    "print(f\"\\nComparison results for {limb}:\")\n",
    "for (key1, key2), result in data:\n",
    "    if ('B_' in key1 and 'C_' in key2) and ('sick' in key1 and 'sick' in key2) and ('left' in key1 and 'left' in key2):\n",
    "        print(f\"Comparison {key1} vs {key2}:\")\n",
    "        print(f\"\\tNumber of significant features: {result['n_significant']}\")\n",
    "        features_bc = [f for f in result['significant_features']]\n",
    "        print(f\"\\tSignificant features: {features_bc}\") # Only print feature names\n",
    "        # plot_significant_features(result, title=f\"{key1} vs {key2}\", group1_df=feature_subsets[limb].get(key1), group2_df=feature_subsets[limb].get(key2), names=[key1, key2])\n",
    "        print(\"-\" * 40)"
   ]
  },
  {
   "cell_type": "code",
   "execution_count": 13,
   "id": "e29b037c",
   "metadata": {},
   "outputs": [
    {
     "name": "stdout",
     "output_type": "stream",
     "text": [
      "\n",
      "Comparison results for hindlimb:\n",
      "Comparison sick_left_C_run vs sick_left_E_run:\n",
      "\tNumber of significant features: 50\n",
      "\tSignificant features: [('Mean angle acceleration at peak - rhindlimb - ankle (rad/s^2)', '*', ' (circular approx)', '-144.9±66.6 vs -20.1±86.3°'), ('Mean angle acceleration at peak - rhindlimb - lHindfingers (rad/s^2)', '*', ' (circular approx)', '-128.9±70.2 vs 65.5±86.2°'), ('Mean angle acceleration during swing - rhindlimb - hip (rad/s^2)', '*', ' (circular approx)', '-0.7±0.9 vs 0.4±1.3°'), ('Mean angle at stance - rhindlimb - lHindpaw (°)', '***', ' (circular approx)', '146.0±3.4 vs 151.3±1.8°'), ('Mean angle at touchdown - rhindlimb - hip (°)', '*', ' (circular approx)', '127.8±2.0 vs 130.3±2.0°'), ('Mean angle at touchdown - rhindlimb - lHindpaw (°)', '**', ' (circular approx)', '148.9±4.2 vs 154.7±2.5°'), ('Mean angle during stance - rhindlimb - ankle (°)', '*', ' (circular approx)', '1.2±0.1 vs 1.2±0.0°'), ('Mean angle during stance - rhindlimb - hip (°)', '*', ' (circular approx)', '1.7±0.1 vs 1.7±0.0°'), ('Mean angle during stance - rhindlimb - lHindpaw (°)', '**', ' (circular approx)', '2.4±0.0 vs 2.5±0.0°'), ('Mean angle during swing - rhindlimb - ankle (°)', '*', ' (circular approx)', '1.1±0.0 vs 1.1±0.0°'), ('Mean angle during swing - rhindlimb - hip (°)', '**', ' (circular approx)', '1.7±0.0 vs 1.8±0.1°'), ('Mean angle during swing - rhindlimb - lHindfingers (°)', '*', ' (circular approx)', '2.6±0.1 vs 2.7±0.1°'), ('Mean angle value - rhindlimb - ankle (°)', '**', ' (circular approx)', '65.9±2.3 vs 62.9±1.6°'), ('Mean angle value - rhindlimb - hip (°)', '**', ' (circular approx)', '98.2±3.1 vs 102.5±2.5°'), ('Mean angle value - rhindlimb - lHindpaw (°)', '**', ' (circular approx)', '146.9±1.8 vs 149.4±1.7°'), ('Mean angle velocity at swing - rhindlimb - lHindfingers (rad/s)', '*', ' (circular approx)', '-15.5±2.8 vs -12.6±3.0°'), ('Mean phase acceleration during swing - rhindlimb - hip (rad/s^2)', '*', ' (circular approx)', '-0.7±0.9 vs 0.4±1.3°'), ('Mean phase at stance - rhindlimb - ankle (°)', '*', ' (circular approx)', '-30.8±3.4 vs -27.3±2.1°'), ('Mean phase at touchdown - rhindlimb - ankle (°)', '**', ' (circular approx)', '-28.3±3.4 vs -24.5±1.7°'), ('Mean phase at touchdown - rhindlimb - hip (°)', '*', ' (circular approx)', '-52.2±2.0 vs -49.7±2.0°'), ('Mean phase at touchdown - rhindlimb - knee (°)', '*', ' (circular approx)', '-141.4±2.3 vs -139.2±1.8°'), ('Mean phase at touchdown - rhindlimb - lHindpaw (°)', '**', ' (circular approx)', '2.8±3.1 vs 0.8±1.9°'), ('Mean phase during stance - rhindlimb - hip (°)', '*', ' (circular approx)', '-1.5±0.1 vs -1.4±0.0°'), ('Mean phase during swing - rhindlimb - ankle (°)', '***', ' (circular approx)', '-0.9±0.0 vs -0.8±0.1°'), ('Mean phase during swing - rhindlimb - hip (°)', '**', ' (circular approx)', '-1.4±0.0 vs -1.3±0.1°'), ('Mean phase during swing - rhindlimb - knee (°)', '*', ' (circular approx)', '-3.0±0.0 vs -2.9±0.1°'), ('Mean phase during swing - rhindlimb - lHindpaw (°)', '*', ' (circular approx)', '-0.5±0.1 vs -0.4±0.1°'), ('Mean phase value - rhindlimb - ankle (°)', '**', ' (circular approx)', '-55.3±3.9 vs -49.8±3.1°'), ('Mean phase value - rhindlimb - hip (°)', '**', ' (circular approx)', '-81.8±3.1 vs -77.5±2.5°'), ('Mean phase velocity - rhindlimb - knee (rad/s)', '*', ' (circular approx)', '0.0±0.1 vs 0.0±0.0°'), ('Mean phase velocity at stance - rhindlimb - ankle (rad/s)', '*', ' (circular approx)', '-8.7±2.3 vs -6.6±1.8°'), ('Mean phase velocity at swing - rhindlimb - lHindpaw (rad/s)', '*', ' (circular approx)', '-15.5±2.8 vs -12.6±3.0°'), ('Mean phase velocity at touchdown - rhindlimb - ankle (rad/s)', '*', ' (circular approx)', '-10.7±2.2 vs -8.4±1.8°'), ('Mean step acceleration Y at stance - lHindpaw (m/s^2)', '*', '', '10.00±2.44 vs 7.30±2.01'), ('Mean step acceleration Y at touchdown - ankle (m/s^2)', '**', '', '6.37±1.34 vs 4.43±1.53'), ('Mean step acceleration Y at touchdown - lHindfingers (m/s^2)', '*', '', '8.54±2.47 vs 6.45±1.57'), ('Mean step acceleration Y at touchdown - lHindpaw (m/s^2)', '*', '', '10.11±3.06 vs 6.96±2.07'), ('Mean step acceleration Y during stance - lHindfingers (m/s^2)', '*', '', '1.23±0.32 vs 0.94±0.23'), ('Mean step acceleration Y during swing - lHindfingers (m/s^2)', '*', '', '-1.61±0.33 vs -1.28±0.26'), ('Mean step jerk X at touchdown - lHindfingers (m/s^3)', '*', ' (nonparametric)', '1706.61 (median) vs 1225.91 (median)'), ('Mean step jerk X at touchdown - lHindpaw (m/s^3)', '*', ' (nonparametric)', '1812.65 (median) vs 1292.31 (median)'), ('Mean step jerk Y during stance - lHindpaw (m/s^3)', '*', ' (nonparametric)', '-32.04 (median) vs -12.73 (median)'), ('Mean step jerk Y during swing - lHindpaw (m/s^3)', '*', '', '19.79±28.35 vs -5.81±19.99'), ('Mean step velocity X at swing - ankle (m/s)', '*', '', '0.25±0.03 vs 0.22±0.03'), ('Mean step velocity X during stance - ankle (m/s)', '*', ' (nonparametric)', '0.10 (median) vs 0.08 (median)'), ('Mean step velocity X during swing - hip (m/s)', '*', '', '0.26±0.03 vs 0.24±0.02'), ('Mean step velocity X during swing - knee (m/s)', '*', '', '0.36±0.03 vs 0.33±0.03'), ('Mean step velocity X during swing - lHindfingers (m/s)', '*', '', '0.50±0.04 vs 0.46±0.03'), ('Mean step velocity X during swing - lHindpaw (m/s)', '*', '', '0.48±0.04 vs 0.44±0.03'), ('Mean step velocity Y during swing - lHindpaw (m/s)', '*', ' (nonparametric)', '-0.02 (median) vs -0.02 (median)')]\n",
      "----------------------------------------\n"
     ]
    }
   ],
   "source": [
    "data = comparison_results[limb]\n",
    "    \n",
    "print(f\"\\nComparison results for {limb}:\")\n",
    "## print the data for C vs E\n",
    "for (key1, key2), result in data:\n",
    "    if 'C_' in key1 and 'E_' in key2 and ('sick' in key1 and 'sick' in key2) and ('left' in key1 and 'left' in key2):\n",
    "        print(f\"Comparison {key1} vs {key2}:\")\n",
    "        print(f\"\\tNumber of significant features: {result['n_significant']}\")\n",
    "        features_ce = [f for f in result['significant_features']]\n",
    "        print(f\"\\tSignificant features: {features_ce}\")  # Only print feature names with 'hindlimb' or 'step' but not 'm/s'\n",
    "        # plot_significant_features(result, title=f\"{key1} vs {key2}\", group1_df=feature_subsets[limb].get(key1), group2_df=feature_subsets[limb].get(key2), names=[key1, key2])\n",
    "        print(\"-\" * 40)"
   ]
  },
  {
   "cell_type": "code",
   "execution_count": 14,
   "id": "86c953b6",
   "metadata": {},
   "outputs": [
    {
     "name": "stdout",
     "output_type": "stream",
     "text": [
      "\n",
      "Intersection of significant features across comparisons:\n",
      "Total features in intersection: 0\n",
      "Features: []\n",
      "----------------------------------------\n",
      "Intersection of significant features for A vs C and C vs E:\n",
      "Total features in intersection: 6\n",
      "Features: ['Mean angle acceleration during swing - rhindlimb - hip (rad/s^2)', 'Mean angle during swing - rhindlimb - ankle (°)', 'Mean angle value - rhindlimb - lHindpaw (°)', 'Mean phase acceleration during swing - rhindlimb - hip (rad/s^2)', 'Mean phase during swing - rhindlimb - ankle (°)', 'Mean step acceleration Y at touchdown - ankle (m/s^2)']\n",
      "----------------------------------------\n",
      "Intersection of significant features for B vs C and C vs E:\n",
      "Total features in intersection: 4\n",
      "Features: ['Mean step velocity X during swing - hip (m/s)', 'Mean step velocity X during swing - knee (m/s)', 'Mean step velocity X during swing - lHindfingers (m/s)', 'Mean step velocity X during swing - lHindpaw (m/s)']\n",
      "----------------------------------------\n",
      "\n",
      "Unique significant features for each comparison:\n",
      "Number of unique features in A vs C: 16\n",
      "A vs C unique features: ['Mean angle acceleration during swing - rhindlimb - hip (rad/s^2)', 'Mean angle acceleration during swing - rhindlimb - lHindfingers (rad/s^2)', 'Mean angle during stance - rhindlimb - knee (°)', 'Mean angle during swing - rhindlimb - ankle (°)', 'Mean angle excursion - rhindlimb - lHindpaw (°)', 'Mean angle value - rhindlimb - lHindpaw (°)', 'Mean angle velocity - rhindlimb - lHindpaw (rad/s)', 'Mean angle velocity at peak - rhindlimb - lHindpaw (rad/s)', 'Mean angle velocity at swing - rhindlimb - ankle (rad/s)', 'Mean angle velocity during swing - rhindlimb - ankle (rad/s)', 'Mean phase acceleration at peak - rhindlimb - lHindpaw (rad/s^2)', 'Mean phase acceleration during swing - rhindlimb - hip (rad/s^2)', 'Mean phase during swing - rhindlimb - ankle (°)', 'Mean phase velocity during swing - rhindlimb - knee (rad/s)', 'Mean step acceleration Y at touchdown - ankle (m/s^2)', 'Mean step jerk X during swing - hip (m/s^3)']\n",
      "----------------------------------------\n",
      "Number of unique features in B vs C: 25\n",
      "B vs C unique features: ['Mean angle acceleration - rhindlimb - ankle (rad/s^2)', 'Mean angle acceleration - rhindlimb - knee (rad/s^2)', 'Mean angle acceleration at peak - rhindlimb - lHindpaw (rad/s^2)', 'Mean angle during stance - rhindlimb - knee (°)', 'Mean angle velocity at peak - rhindlimb - lHindpaw (rad/s)', 'Mean angle velocity during swing - rhindlimb - lHindpaw (rad/s)', 'Mean phase acceleration at swing - rhindlimb - knee (rad/s^2)', 'Mean phase velocity at stance - rhindlimb - knee (rad/s)', 'Mean phase velocity at stance - rhindlimb - lHindpaw (rad/s)', 'Mean step acceleration X at stance - hip (m/s^2)', 'Mean step jerk X at stance - hip (m/s^3)', 'Mean step jerk X during stance - hip (m/s^3)', 'Mean step jerk X during swing - ankle (m/s^3)', 'Mean step jerk X during swing - hip (m/s^3)', 'Mean step jerk X during swing - knee (m/s^3)', 'Mean step jerk Y during stance - ankle (m/s^3)', 'Mean step length (m)', 'Mean step velocity X at peak - hip (m/s)', 'Mean step velocity X at stance - hip (m/s)', 'Mean step velocity X at touchdown - hip (m/s)', 'Mean step velocity X during swing - ankle (m/s)', 'Mean step velocity X during swing - hip (m/s)', 'Mean step velocity X during swing - knee (m/s)', 'Mean step velocity X during swing - lHindfingers (m/s)', 'Mean step velocity X during swing - lHindpaw (m/s)']\n",
      "----------------------------------------\n",
      "Number of unique features in C vs E: 50\n",
      "C vs E unique features: ['Mean angle acceleration at peak - rhindlimb - ankle (rad/s^2)', 'Mean angle acceleration at peak - rhindlimb - lHindfingers (rad/s^2)', 'Mean angle acceleration during swing - rhindlimb - hip (rad/s^2)', 'Mean angle at stance - rhindlimb - lHindpaw (°)', 'Mean angle at touchdown - rhindlimb - hip (°)', 'Mean angle at touchdown - rhindlimb - lHindpaw (°)', 'Mean angle during stance - rhindlimb - ankle (°)', 'Mean angle during stance - rhindlimb - hip (°)', 'Mean angle during stance - rhindlimb - lHindpaw (°)', 'Mean angle during swing - rhindlimb - ankle (°)', 'Mean angle during swing - rhindlimb - hip (°)', 'Mean angle during swing - rhindlimb - lHindfingers (°)', 'Mean angle value - rhindlimb - ankle (°)', 'Mean angle value - rhindlimb - hip (°)', 'Mean angle value - rhindlimb - lHindpaw (°)', 'Mean angle velocity at swing - rhindlimb - lHindfingers (rad/s)', 'Mean phase acceleration during swing - rhindlimb - hip (rad/s^2)', 'Mean phase at stance - rhindlimb - ankle (°)', 'Mean phase at touchdown - rhindlimb - ankle (°)', 'Mean phase at touchdown - rhindlimb - hip (°)', 'Mean phase at touchdown - rhindlimb - knee (°)', 'Mean phase at touchdown - rhindlimb - lHindpaw (°)', 'Mean phase during stance - rhindlimb - hip (°)', 'Mean phase during swing - rhindlimb - ankle (°)', 'Mean phase during swing - rhindlimb - hip (°)', 'Mean phase during swing - rhindlimb - knee (°)', 'Mean phase during swing - rhindlimb - lHindpaw (°)', 'Mean phase value - rhindlimb - ankle (°)', 'Mean phase value - rhindlimb - hip (°)', 'Mean phase velocity - rhindlimb - knee (rad/s)', 'Mean phase velocity at stance - rhindlimb - ankle (rad/s)', 'Mean phase velocity at swing - rhindlimb - lHindpaw (rad/s)', 'Mean phase velocity at touchdown - rhindlimb - ankle (rad/s)', 'Mean step acceleration Y at stance - lHindpaw (m/s^2)', 'Mean step acceleration Y at touchdown - ankle (m/s^2)', 'Mean step acceleration Y at touchdown - lHindfingers (m/s^2)', 'Mean step acceleration Y at touchdown - lHindpaw (m/s^2)', 'Mean step acceleration Y during stance - lHindfingers (m/s^2)', 'Mean step acceleration Y during swing - lHindfingers (m/s^2)', 'Mean step jerk X at touchdown - lHindfingers (m/s^3)', 'Mean step jerk X at touchdown - lHindpaw (m/s^3)', 'Mean step jerk Y during stance - lHindpaw (m/s^3)', 'Mean step jerk Y during swing - lHindpaw (m/s^3)', 'Mean step velocity X at swing - ankle (m/s)', 'Mean step velocity X during stance - ankle (m/s)', 'Mean step velocity X during swing - hip (m/s)', 'Mean step velocity X during swing - knee (m/s)', 'Mean step velocity X during swing - lHindfingers (m/s)', 'Mean step velocity X during swing - lHindpaw (m/s)', 'Mean step velocity Y during swing - lHindpaw (m/s)']\n",
      "----------------------------------------\n",
      "Globally unique features across all comparisons:\n",
      "Total globally unique features: 65\n",
      "Globally unique features: ['Mean angle acceleration - rhindlimb - ankle (rad/s^2)', 'Mean angle acceleration - rhindlimb - knee (rad/s^2)', 'Mean angle acceleration at peak - rhindlimb - ankle (rad/s^2)', 'Mean angle acceleration at peak - rhindlimb - lHindfingers (rad/s^2)', 'Mean angle acceleration at peak - rhindlimb - lHindpaw (rad/s^2)', 'Mean angle acceleration during swing - rhindlimb - lHindfingers (rad/s^2)', 'Mean angle at stance - rhindlimb - lHindpaw (°)', 'Mean angle at touchdown - rhindlimb - hip (°)', 'Mean angle at touchdown - rhindlimb - lHindpaw (°)', 'Mean angle during stance - rhindlimb - ankle (°)', 'Mean angle during stance - rhindlimb - hip (°)', 'Mean angle during stance - rhindlimb - lHindpaw (°)', 'Mean angle during swing - rhindlimb - hip (°)', 'Mean angle during swing - rhindlimb - lHindfingers (°)', 'Mean angle excursion - rhindlimb - lHindpaw (°)', 'Mean angle value - rhindlimb - ankle (°)', 'Mean angle value - rhindlimb - hip (°)', 'Mean angle velocity - rhindlimb - lHindpaw (rad/s)', 'Mean angle velocity at swing - rhindlimb - ankle (rad/s)', 'Mean angle velocity at swing - rhindlimb - lHindfingers (rad/s)', 'Mean angle velocity during swing - rhindlimb - ankle (rad/s)', 'Mean angle velocity during swing - rhindlimb - lHindpaw (rad/s)', 'Mean phase acceleration at peak - rhindlimb - lHindpaw (rad/s^2)', 'Mean phase acceleration at swing - rhindlimb - knee (rad/s^2)', 'Mean phase at stance - rhindlimb - ankle (°)', 'Mean phase at touchdown - rhindlimb - ankle (°)', 'Mean phase at touchdown - rhindlimb - hip (°)', 'Mean phase at touchdown - rhindlimb - knee (°)', 'Mean phase at touchdown - rhindlimb - lHindpaw (°)', 'Mean phase during stance - rhindlimb - hip (°)', 'Mean phase during swing - rhindlimb - hip (°)', 'Mean phase during swing - rhindlimb - knee (°)', 'Mean phase during swing - rhindlimb - lHindpaw (°)', 'Mean phase value - rhindlimb - ankle (°)', 'Mean phase value - rhindlimb - hip (°)', 'Mean phase velocity - rhindlimb - knee (rad/s)', 'Mean phase velocity at stance - rhindlimb - ankle (rad/s)', 'Mean phase velocity at stance - rhindlimb - knee (rad/s)', 'Mean phase velocity at stance - rhindlimb - lHindpaw (rad/s)', 'Mean phase velocity at swing - rhindlimb - lHindpaw (rad/s)', 'Mean phase velocity at touchdown - rhindlimb - ankle (rad/s)', 'Mean phase velocity during swing - rhindlimb - knee (rad/s)', 'Mean step acceleration X at stance - hip (m/s^2)', 'Mean step acceleration Y at stance - lHindpaw (m/s^2)', 'Mean step acceleration Y at touchdown - lHindfingers (m/s^2)', 'Mean step acceleration Y at touchdown - lHindpaw (m/s^2)', 'Mean step acceleration Y during stance - lHindfingers (m/s^2)', 'Mean step acceleration Y during swing - lHindfingers (m/s^2)', 'Mean step jerk X at stance - hip (m/s^3)', 'Mean step jerk X at touchdown - lHindfingers (m/s^3)', 'Mean step jerk X at touchdown - lHindpaw (m/s^3)', 'Mean step jerk X during stance - hip (m/s^3)', 'Mean step jerk X during swing - ankle (m/s^3)', 'Mean step jerk X during swing - knee (m/s^3)', 'Mean step jerk Y during stance - ankle (m/s^3)', 'Mean step jerk Y during stance - lHindpaw (m/s^3)', 'Mean step jerk Y during swing - lHindpaw (m/s^3)', 'Mean step length (m)', 'Mean step velocity X at peak - hip (m/s)', 'Mean step velocity X at stance - hip (m/s)', 'Mean step velocity X at swing - ankle (m/s)', 'Mean step velocity X at touchdown - hip (m/s)', 'Mean step velocity X during stance - ankle (m/s)', 'Mean step velocity X during swing - ankle (m/s)', 'Mean step velocity Y during swing - lHindpaw (m/s)']\n"
     ]
    }
   ],
   "source": [
    "feature_intersections = intersect_significant_features(features_ac, features_bc, features_ce)\n",
    "feature_intersections_ac_ce = intersect_significant_features(features_ac, features_ce)\n",
    "feature_intersections_bc_ce = intersect_significant_features(features_bc, features_ce)\n",
    "feature_exclusions = exclude_intersection_features(features_ac, features_bc, features_ce)\n",
    "global_unique = globally_unique_features(features_ac, features_bc, features_ce)\n",
    "\n",
    "print(\"\\nIntersection of significant features across comparisons:\")\n",
    "print(f\"Total features in intersection: {len(feature_intersections)}\")\n",
    "print(f\"Features: {sorted(feature_intersections)}\")\n",
    "print(\"-\" * 40)\n",
    "\n",
    "print(\"Intersection of significant features for A vs C and C vs E:\")\n",
    "print(f\"Total features in intersection: {len(feature_intersections_ac_ce)}\")\n",
    "print(f\"Features: {sorted(feature_intersections_ac_ce)}\")\n",
    "print(\"-\" * 40)\n",
    "\n",
    "print(\"Intersection of significant features for B vs C and C vs E:\")\n",
    "print(f\"Total features in intersection: {len(feature_intersections_bc_ce)}\")\n",
    "print(f\"Features: {sorted(feature_intersections_bc_ce)}\")\n",
    "print(\"-\" * 40)\n",
    "\n",
    "print(\"\\nUnique significant features for each comparison:\")\n",
    "print(\"Number of unique features in A vs C:\", len(feature_exclusions[0]))\n",
    "print(\"A vs C unique features:\", sorted(feature_exclusions[0]))\n",
    "print(\"-\" *40)\n",
    "print(\"Number of unique features in B vs C:\", len(feature_exclusions[1]))\n",
    "print(\"B vs C unique features:\", sorted(feature_exclusions[1]))\n",
    "print(\"-\" *40)\n",
    "print(\"Number of unique features in C vs E:\", len(feature_exclusions[2]))\n",
    "print(\"C vs E unique features:\", sorted(feature_exclusions[2]))\n",
    "print(\"-\" *40)\n",
    "\n",
    "print(\"Globally unique features across all comparisons:\")\n",
    "print(f\"Total globally unique features: {len(global_unique)}\")\n",
    "print(f\"Globally unique features: {sorted(global_unique)}\")"
   ]
  },
  {
   "cell_type": "code",
   "execution_count": 15,
   "id": "bae5ed46",
   "metadata": {},
   "outputs": [],
   "source": [
    "from sklearn.preprocessing import LabelEncoder\n",
    "from sklearn.preprocessing import RobustScaler, StandardScaler\n",
    "\n",
    "from src.pain_analysis import perform_dimensionality_reduction, aggregate_features\n",
    "\n",
    "def preprocess_data(df: pd.DataFrame):\n",
    "    data = df.copy()\n",
    "\n",
    "    label_encoder_dataset = LabelEncoder()\n",
    "    label_encoder_mouse = LabelEncoder()\n",
    "\n",
    "    data[\"Dataset_Encoded\"] = label_encoder_dataset.fit_transform(data[\"Dataset\"])\n",
    "    data[\"Mouse_Encoded\"] = label_encoder_mouse.fit_transform(data[\"Mouse\"])\n",
    "\n",
    "    dataset_label_map = dict(zip(data[\"Dataset_Encoded\"], data[\"Dataset\"]))\n",
    "    mouse_label_map = dict(zip(data[\"Mouse_Encoded\"], data[\"Mouse\"]))\n",
    "    label_cols = [\"Dataset_Encoded\", \"Mouse_Encoded\"]\n",
    "\n",
    "    data = data.drop(columns=[\"Dataset\", \"Mouse\"])\n",
    "    features = [col for col in data.columns if col not in label_cols]\n",
    "\n",
    "    ## Convert angle features to radians if they contain '°'\n",
    "    angular_features = [f for f in features if ('angle' in f.lower() or 'phase' in f.lower())\n",
    "                        and 'excursion' not in f.lower()\n",
    "                        and not f.lower().endswith('_sin')\n",
    "                        and not f.lower().endswith('_cos')]\n",
    "    for feature in angular_features:\n",
    "        if '°' in feature:\n",
    "            data[feature] = np.deg2rad(data[feature])\n",
    "\n",
    "    ## Linearize angular features\n",
    "    trig_features = {\n",
    "        f\"{feature}_cos\": np.cos(data[feature]) for feature in angular_features\n",
    "    }\n",
    "    trig_features.update({\n",
    "        f\"{feature}_sin\": np.sin(data[feature]) for feature in angular_features\n",
    "    })\n",
    "    trig_df = pd.DataFrame(trig_features, index=data.index)    \n",
    "    data = pd.concat([data.drop(columns=angular_features), trig_df], axis=1)\n",
    "    features = [col for col in data.columns if col not in label_cols]   \n",
    "\n",
    "    ## Scale features\n",
    "    scaler = StandardScaler()#RobustScaler()\n",
    "    X_scaled = scaler.fit_transform(data[features])\n",
    "    y = data[label_cols].values\n",
    "\n",
    "    df_preprocessed = pd.DataFrame(X_scaled, columns=features)\n",
    "    df_preprocessed[label_cols] = y\n",
    "\n",
    "    print(\"[DEBUG] Dataset Label Map:\", dataset_label_map)\n",
    "    print(\"[DEBUG] Mouse Label Map:\", mouse_label_map)\n",
    "\n",
    "    return df_preprocessed, dataset_label_map, mouse_label_map, label_cols"
   ]
  },
  {
   "cell_type": "code",
   "execution_count": 16,
   "id": "e33f3998",
   "metadata": {},
   "outputs": [
    {
     "name": "stdout",
     "output_type": "stream",
     "text": [
      "[DEBUG] Dataset Label Map: {0: 'A_postDLC', 1: 'A_preDLC', 2: 'B_postDLC', 3: 'B_preDLC', 4: 'C_postDLC', 5: 'C_preDLC', 6: 'D_postDLC', 7: 'D_preDLC', 8: 'E_postDLC', 9: 'E_preDLC'}\n",
      "[DEBUG] Mouse Label Map: {10: 'mouse1_left', 21: 'mouse2_left', 32: 'mouse3_left', 43: 'mouse4_left', 45: 'mouse5_left', 46: 'mouse6_left', 47: 'mouse7_left', 48: 'mouse8_left', 49: 'mouse9_left', 0: 'mouse10_left', 1: 'mouse11_left', 2: 'mouse12_left', 3: 'mouse13_left', 4: 'mouse14_left', 5: 'mouse15_left', 6: 'mouse16_left', 7: 'mouse17_left', 8: 'mouse18_left', 9: 'mouse19_left', 11: 'mouse20_left', 12: 'mouse21_left', 13: 'mouse22_left', 14: 'mouse23_left', 15: 'mouse24_left', 16: 'mouse25_left', 17: 'mouse26_left', 18: 'mouse27_left', 19: 'mouse28_left', 20: 'mouse29_left', 22: 'mouse30_left', 23: 'mouse31_left', 24: 'mouse32_left', 25: 'mouse33_left', 26: 'mouse34_left', 27: 'mouse35_left', 28: 'mouse36_left', 29: 'mouse37_left', 30: 'mouse38_left', 31: 'mouse39_left', 33: 'mouse40_left', 35: 'mouse42_left', 44: 'mouse50_left', 34: 'mouse41_left', 36: 'mouse43_left', 37: 'mouse44_left', 38: 'mouse45_left', 39: 'mouse46_left', 40: 'mouse47_left', 41: 'mouse48_left', 42: 'mouse49_left'}\n"
     ]
    },
    {
     "name": "stderr",
     "output_type": "stream",
     "text": [
      "c:\\Users\\Simone\\Documents\\DTU\\MScThesis\\.venv\\Lib\\site-packages\\umap\\umap_.py:1952: UserWarning:\n",
      "\n",
      "n_jobs value 1 overridden to 1 by setting random_state. Use no seed for parallelism.\n",
      "\n"
     ]
    }
   ],
   "source": [
    "left_hindlimb_features_df = hindlimb_features_df[hindlimb_features_df['Mouse'].str.lower().str.contains('left')]\n",
    "left_hindlimb_features_df = left_hindlimb_features_df.drop(columns=['Number of steps (#)'])\n",
    "preprocessed_data, dataset_label_map, mouse_label_map, label_cols = preprocess_data(left_hindlimb_features_df)\n",
    "\n",
    "X_agg, y_mouse, y_dataset = aggregate_features(preprocessed_data, label_cols, method=\"median\")\n",
    "\n",
    "umap_reducer, umap_plot_df = perform_dimensionality_reduction(\n",
    "        X_agg, y_mouse, y_dataset,\n",
    "        dataset_label_map, mouse_label_map,\n",
    "        method=\"UMAP\", n_components=3,\n",
    "        target_metric='categorical',\n",
    "        target_weight=0,\n",
    "        n_neighbors=15,\n",
    "        min_dist=0.05,\n",
    "        plot=False, save=False\n",
    "    )"
   ]
  },
  {
   "cell_type": "code",
   "execution_count": 17,
   "id": "1d1e1efb",
   "metadata": {},
   "outputs": [
    {
     "data": {
      "application/vnd.plotly.v1+json": {
       "config": {
        "plotlyServerURL": "https://plot.ly"
       },
       "data": [
        {
         "customdata": {
          "bdata": "AAAAAAAAAAAAAAAACgAAAAAAAAAVAAAAAAAAACAAAAAAAAAAKwAAAAAAAAAtAAAAAAAAAC4AAAAAAAAALwAAAAAAAAAwAAAAAAAAADEAAAA=",
          "dtype": "i4",
          "shape": "10, 2"
         },
         "hovertemplate": "<b>%{hovertext}</b><br><br>ColorKey=A_postDLC<br>UMAP1=%{x}<br>UMAP2=%{y}<br>UMAP3=%{z}<br>Dataset=%{customdata[0]}<br>Mouse=%{customdata[1]}<extra></extra>",
         "hovertext": [
          "mouse10_left",
          "mouse1_left",
          "mouse2_left",
          "mouse3_left",
          "mouse4_left",
          "mouse5_left",
          "mouse6_left",
          "mouse7_left",
          "mouse8_left",
          "mouse9_left"
         ],
         "legendgroup": "A_postDLC",
         "marker": {
          "color": "#636EFA",
          "line": {
           "color": "black",
           "width": 0.3
          },
          "size": 4,
          "symbol": "circle"
         },
         "mode": "markers",
         "name": "A_postDLC",
         "scene": "scene",
         "showlegend": true,
         "type": "scatter3d",
         "x": {
          "bdata": "At2UQIwRlUCWurhA/0afQGaIs0BNOqBArWKkQKx9wECGcKNA4GKwQA==",
          "dtype": "f4"
         },
         "y": {
          "bdata": "jxB4QB8kdUC2C0JAwdRoQGvGRUCCT05AAYFPQF3QR0DUoFNAe1Y/QA==",
          "dtype": "f4"
         },
         "z": {
          "bdata": "WwZAQVOpQEE9uS9BANZCQQ/5M0H4yDxBGxE5QRF7L0HsXj9BgncyQQ==",
          "dtype": "f4"
         }
        },
        {
         "customdata": {
          "bdata": "AQAAAAAAAAADAAAAAQAAAAMAAAACAAAAAwAAAAMAAAADAAAABAAAAAMAAAAFAAAAAwAAAAYAAAADAAAABwAAAAMAAAAIAAAAAwAAAAkAAAABAAAACgAAAAMAAAALAAAABQAAAAwAAAAFAAAADQAAAAUAAAAOAAAABQAAAA8AAAAFAAAAEAAAAAUAAAARAAAABQAAABIAAAAFAAAAEwAAAAUAAAAUAAAAAQAAABUAAAAFAAAAFgAAAAcAAAAXAAAABwAAABgAAAAHAAAAGQAAAAcAAAAaAAAABwAAABsAAAAHAAAAHAAAAAcAAAAdAAAABwAAAB4AAAAHAAAAHwAAAAEAAAAgAAAABwAAACEAAAAJAAAAIgAAAAcAAAAjAAAACQAAACQAAAAJAAAAJQAAAAkAAAAmAAAACQAAACcAAAAJAAAAKAAAAAkAAAApAAAACQAAACoAAAABAAAAKwAAAAcAAAAsAAAAAQAAAC0AAAABAAAALgAAAAEAAAAvAAAAAQAAADAAAAABAAAAMQAAAA==",
          "dtype": "i4",
          "shape": "50, 2"
         },
         "hovertemplate": "<b>%{hovertext}</b><br><br>ColorKey=Pre<br>UMAP1=%{x}<br>UMAP2=%{y}<br>UMAP3=%{z}<br>Dataset=%{customdata[0]}<br>Mouse=%{customdata[1]}<extra></extra>",
         "hovertext": [
          "mouse10_left",
          "mouse11_left",
          "mouse12_left",
          "mouse13_left",
          "mouse14_left",
          "mouse15_left",
          "mouse16_left",
          "mouse17_left",
          "mouse18_left",
          "mouse19_left",
          "mouse1_left",
          "mouse20_left",
          "mouse21_left",
          "mouse22_left",
          "mouse23_left",
          "mouse24_left",
          "mouse25_left",
          "mouse26_left",
          "mouse27_left",
          "mouse28_left",
          "mouse29_left",
          "mouse2_left",
          "mouse30_left",
          "mouse31_left",
          "mouse32_left",
          "mouse33_left",
          "mouse34_left",
          "mouse35_left",
          "mouse36_left",
          "mouse37_left",
          "mouse38_left",
          "mouse39_left",
          "mouse3_left",
          "mouse40_left",
          "mouse41_left",
          "mouse42_left",
          "mouse43_left",
          "mouse44_left",
          "mouse45_left",
          "mouse46_left",
          "mouse47_left",
          "mouse48_left",
          "mouse49_left",
          "mouse4_left",
          "mouse50_left",
          "mouse5_left",
          "mouse6_left",
          "mouse7_left",
          "mouse8_left",
          "mouse9_left"
         ],
         "legendgroup": "Pre",
         "marker": {
          "color": "#7f7f7f",
          "line": {
           "color": "black",
           "width": 0.3
          },
          "size": 4,
          "symbol": "circle"
         },
         "mode": "markers",
         "name": "Pre",
         "scene": "scene",
         "showlegend": true,
         "type": "scatter3d",
         "x": {
          "bdata": "3Kv0QNIcykAoCMlArtDAQIgUzUC7E9BAwui8QChzxkAwucVA7mvSQOAlrUCOTstAeO6oQOElqkABz6tANcGwQE+ptkAPkqhALZOrQM+NrEDH8ulAqF3kQNCXskB6WNlARyX3QFJ08UDzBOtADej2QGoi2kCAh/1APjEAQfGi3UCQSutAPiXRQCFIAUEDe+lAGCz6QP9l10D3Q/5AyTDWQFIS+kBFSLNA7RvYQK0/50DvsOFAQ//WQK8S7UB6FOJAjO7lQIBr6UA=",
          "dtype": "f4"
         },
         "y": {
          "bdata": "rwCcQDorwkD1E5ZAcybDQEP6vkDBOKBALXi9QF32n0BSA6lAXe65QHwVX0CfF6JAfmDOQHMKzkBKMsZAW/DFQGOwpkCZzspA/Z3EQJS3zUCim6dA2h2WQFlNwEAwt7pA2TOqQG2RskCQsb9A9RCvQMLjtEBAwq5AhEypQGdqqEBROJ9ATo29QEfeu0ARrrJAuM3AQJE+zkDeQMBAOOzLQJeSoEDCnMFApqqdQIC8k0ApKMNAOmGeQI0YmEBVE6JAJTivQAiimkA=",
          "dtype": "f4"
         },
         "z": {
          "bdata": "/REiQXdxGkFtXSFBj9YfQYaXGEHuJiRBVDQcQQW9GUG8bRZBRT4YQU61OkGbAhVBqLknQaNILkHJsC1BCucnQZsOHkFHgixBUMoyQbRuJUGp5S9BkBYmQfNEIkGYqSlB5mIpQcRKMkENSCtBv1Y3QTNRNUG+mzFBitUrQfYvPEFO/x1BqEguQfbJI0FxxTJBx3kgQSgEI0FIQCFBmrEgQYCyJ0GWrStBIeU/QRtAIUE49ihB8KIjQWAMHkFv3iRBgzgjQSrzKEE=",
          "dtype": "f4"
         }
        },
        {
         "customdata": {
          "bdata": "AgAAAAEAAAACAAAAAgAAAAIAAAADAAAAAgAAAAQAAAACAAAABQAAAAIAAAAGAAAAAgAAAAcAAAACAAAACAAAAAIAAAAJAAAAAgAAAAsAAAA=",
          "dtype": "i4",
          "shape": "10, 2"
         },
         "hovertemplate": "<b>%{hovertext}</b><br><br>ColorKey=B_postDLC<br>UMAP1=%{x}<br>UMAP2=%{y}<br>UMAP3=%{z}<br>Dataset=%{customdata[0]}<br>Mouse=%{customdata[1]}<extra></extra>",
         "hovertext": [
          "mouse11_left",
          "mouse12_left",
          "mouse13_left",
          "mouse14_left",
          "mouse15_left",
          "mouse16_left",
          "mouse17_left",
          "mouse18_left",
          "mouse19_left",
          "mouse20_left"
         ],
         "legendgroup": "B_postDLC",
         "marker": {
          "color": "#EF553B",
          "line": {
           "color": "black",
           "width": 0.3
          },
          "size": 4,
          "symbol": "circle"
         },
         "mode": "markers",
         "name": "B_postDLC",
         "scene": "scene",
         "showlegend": true,
         "type": "scatter3d",
         "x": {
          "bdata": "SpeXQDz2oEB5maJA82naQJKh1EA206JAoNzWQBYdnUDuw89ARCmqQA==",
          "dtype": "f4"
         },
         "y": {
          "bdata": "oZCMQE+shkA8X4lAIwtxQOseXkC6m4ZA/sJhQCR+iEC5HWpAfyWGQA==",
          "dtype": "f4"
         },
         "z": {
          "bdata": "Iy85QdK1MEE2BTlBdZ4jQXhTIUE3Vy9BzTchQbBHN0HtSyVBfgcuQQ==",
          "dtype": "f4"
         }
        },
        {
         "customdata": {
          "bdata": "BAAAAAwAAAAEAAAADQAAAAQAAAAOAAAABAAAAA8AAAAEAAAAEAAAAAQAAAARAAAABAAAABIAAAAEAAAAEwAAAAQAAAAUAAAABAAAABYAAAA=",
          "dtype": "i4",
          "shape": "10, 2"
         },
         "hovertemplate": "<b>%{hovertext}</b><br><br>ColorKey=C_postDLC<br>UMAP1=%{x}<br>UMAP2=%{y}<br>UMAP3=%{z}<br>Dataset=%{customdata[0]}<br>Mouse=%{customdata[1]}<extra></extra>",
         "hovertext": [
          "mouse21_left",
          "mouse22_left",
          "mouse23_left",
          "mouse24_left",
          "mouse25_left",
          "mouse26_left",
          "mouse27_left",
          "mouse28_left",
          "mouse29_left",
          "mouse30_left"
         ],
         "legendgroup": "C_postDLC",
         "marker": {
          "color": "#00CC96",
          "line": {
           "color": "black",
           "width": 0.3
          },
          "size": 4,
          "symbol": "circle"
         },
         "mode": "markers",
         "name": "C_postDLC",
         "scene": "scene",
         "showlegend": true,
         "type": "scatter3d",
         "x": {
          "bdata": "4O7DQFBzuUAjK8dAKcDsQLtwokA1YblAlcHFQBe1tEB0zrxAmt/DQA==",
          "dtype": "f4"
         },
         "y": {
          "bdata": "2Bp7QC2NhUAd92tAQwi6QPhaiEA5K4BALsNvQAVogUD19nJAHgpxQA==",
          "dtype": "f4"
         },
         "z": {
          "bdata": "fwZAQVB7QEH0c0BB9NchQWC+QUGfdDpBpKQzQb0APkET2TxBWr4zQQ==",
          "dtype": "f4"
         }
        },
        {
         "customdata": {
          "bdata": "BgAAABcAAAAGAAAAGAAAAAYAAAAZAAAABgAAABoAAAAGAAAAGwAAAAYAAAAcAAAABgAAAB0AAAAGAAAAHgAAAAYAAAAfAAAABgAAACEAAAA=",
          "dtype": "i4",
          "shape": "10, 2"
         },
         "hovertemplate": "<b>%{hovertext}</b><br><br>ColorKey=D_postDLC<br>UMAP1=%{x}<br>UMAP2=%{y}<br>UMAP3=%{z}<br>Dataset=%{customdata[0]}<br>Mouse=%{customdata[1]}<extra></extra>",
         "hovertext": [
          "mouse31_left",
          "mouse32_left",
          "mouse33_left",
          "mouse34_left",
          "mouse35_left",
          "mouse36_left",
          "mouse37_left",
          "mouse38_left",
          "mouse39_left",
          "mouse40_left"
         ],
         "legendgroup": "D_postDLC",
         "marker": {
          "color": "#AB63FA",
          "line": {
           "color": "black",
           "width": 0.3
          },
          "size": 4,
          "symbol": "circle"
         },
         "mode": "markers",
         "name": "D_postDLC",
         "scene": "scene",
         "showlegend": true,
         "type": "scatter3d",
         "x": {
          "bdata": "W227QH6uwkC7175AisaYQOsgq0CmD8FAj/HFQGiYt0BRHMtA3nq8QA==",
          "dtype": "f4"
         },
         "y": {
          "bdata": "d2KjQCTUkUAmrJRAgbSXQAwVdkAJCZJA9oSDQCUYTUDzTnRAvkdXQA==",
          "dtype": "f4"
         },
         "z": {
          "bdata": "ayYxQRJLMEEWbzVBKBJDQeYIREEkOTdBQ9koQa1FPEH0ZzpBUBg/QQ==",
          "dtype": "f4"
         }
        },
        {
         "customdata": {
          "bdata": "CAAAACIAAAAIAAAAIwAAAAgAAAAkAAAACAAAACUAAAAIAAAAJgAAAAgAAAAnAAAACAAAACgAAAAIAAAAKQAAAAgAAAAqAAAACAAAACwAAAA=",
          "dtype": "i4",
          "shape": "10, 2"
         },
         "hovertemplate": "<b>%{hovertext}</b><br><br>ColorKey=E_postDLC<br>UMAP1=%{x}<br>UMAP2=%{y}<br>UMAP3=%{z}<br>Dataset=%{customdata[0]}<br>Mouse=%{customdata[1]}<extra></extra>",
         "hovertext": [
          "mouse41_left",
          "mouse42_left",
          "mouse43_left",
          "mouse44_left",
          "mouse45_left",
          "mouse46_left",
          "mouse47_left",
          "mouse48_left",
          "mouse49_left",
          "mouse50_left"
         ],
         "legendgroup": "E_postDLC",
         "marker": {
          "color": "#FFA15A",
          "line": {
           "color": "black",
           "width": 0.3
          },
          "size": 4,
          "symbol": "circle"
         },
         "mode": "markers",
         "name": "E_postDLC",
         "scene": "scene",
         "showlegend": true,
         "type": "scatter3d",
         "x": {
          "bdata": "GvC9QCPnnUCgKZBAqQWkQB6VlkCZMppALt3ZQPRclkAxhq1ABtqRQA==",
          "dtype": "f4"
         },
         "y": {
          "bdata": "GUaTQNiBoUAwGZ5A+VmiQJyypEB4W6pA3yWHQG3cm0CLB6JAtNChQA==",
          "dtype": "f4"
         },
         "z": {
          "bdata": "23hBQYCJSEEowkVBQ91EQeAASUHMeENBebksQeRsSEHNyUVBEo9GQQ==",
          "dtype": "f4"
         }
        },
        {
         "customdata": {
          "bdata": "AAAAAAAAAAAAAAAACgAAAAAAAAAVAAAAAAAAACAAAAAAAAAAKwAAAAAAAAAtAAAAAAAAAC4AAAAAAAAALwAAAAAAAAAwAAAAAAAAADEAAAA=",
          "dtype": "i4",
          "shape": "10, 2"
         },
         "hovertemplate": "<b>%{hovertext}</b><br><br>DatasetName=A_postDLC<br>UMAP1=%{x}<br>UMAP2=%{y}<br>UMAP3=%{z}<br>Dataset=%{customdata[0]}<br>Mouse=%{customdata[1]}<extra></extra>",
         "hovertext": [
          "mouse10_left",
          "mouse1_left",
          "mouse2_left",
          "mouse3_left",
          "mouse4_left",
          "mouse5_left",
          "mouse6_left",
          "mouse7_left",
          "mouse8_left",
          "mouse9_left"
         ],
         "legendgroup": "A_postDLC",
         "marker": {
          "color": "#636EFA",
          "line": {
           "color": "black",
           "width": 0.3
          },
          "size": 4,
          "symbol": "circle"
         },
         "mode": "markers",
         "name": "A_postDLC",
         "scene": "scene2",
         "showlegend": true,
         "type": "scatter3d",
         "x": {
          "bdata": "At2UQIwRlUCWurhA/0afQGaIs0BNOqBArWKkQKx9wECGcKNA4GKwQA==",
          "dtype": "f4"
         },
         "y": {
          "bdata": "jxB4QB8kdUC2C0JAwdRoQGvGRUCCT05AAYFPQF3QR0DUoFNAe1Y/QA==",
          "dtype": "f4"
         },
         "z": {
          "bdata": "WwZAQVOpQEE9uS9BANZCQQ/5M0H4yDxBGxE5QRF7L0HsXj9BgncyQQ==",
          "dtype": "f4"
         }
        },
        {
         "customdata": {
          "bdata": "AQAAAAAAAAABAAAACgAAAAEAAAAVAAAAAQAAACAAAAABAAAAKwAAAAEAAAAtAAAAAQAAAC4AAAABAAAALwAAAAEAAAAwAAAAAQAAADEAAAA=",
          "dtype": "i4",
          "shape": "10, 2"
         },
         "hovertemplate": "<b>%{hovertext}</b><br><br>DatasetName=A_preDLC<br>UMAP1=%{x}<br>UMAP2=%{y}<br>UMAP3=%{z}<br>Dataset=%{customdata[0]}<br>Mouse=%{customdata[1]}<extra></extra>",
         "hovertext": [
          "mouse10_left",
          "mouse1_left",
          "mouse2_left",
          "mouse3_left",
          "mouse4_left",
          "mouse5_left",
          "mouse6_left",
          "mouse7_left",
          "mouse8_left",
          "mouse9_left"
         ],
         "legendgroup": "A_preDLC",
         "marker": {
          "color": "#FF6692",
          "line": {
           "color": "black",
           "width": 0.3
          },
          "size": 4,
          "symbol": "circle"
         },
         "mode": "markers",
         "name": "A_preDLC",
         "scene": "scene2",
         "showlegend": true,
         "type": "scatter3d",
         "x": {
          "bdata": "3Kv0QOAlrUCoXeRAkErrQK0/50BD/9ZArxLtQHoU4kCM7uVAgGvpQA==",
          "dtype": "f4"
         },
         "y": {
          "bdata": "rwCcQHwVX0DaHZZAUTifQIC8k0A6YZ5AjRiYQFUTokAlOK9ACKKaQA==",
          "dtype": "f4"
         },
         "z": {
          "bdata": "/REiQU61OkGQFiZBTv8dQRtAIUHwoiNBYAweQW/eJEGDOCNBKvMoQQ==",
          "dtype": "f4"
         }
        },
        {
         "customdata": {
          "bdata": "AgAAAAEAAAACAAAAAgAAAAIAAAADAAAAAgAAAAQAAAACAAAABQAAAAIAAAAGAAAAAgAAAAcAAAACAAAACAAAAAIAAAAJAAAAAgAAAAsAAAA=",
          "dtype": "i4",
          "shape": "10, 2"
         },
         "hovertemplate": "<b>%{hovertext}</b><br><br>DatasetName=B_postDLC<br>UMAP1=%{x}<br>UMAP2=%{y}<br>UMAP3=%{z}<br>Dataset=%{customdata[0]}<br>Mouse=%{customdata[1]}<extra></extra>",
         "hovertext": [
          "mouse11_left",
          "mouse12_left",
          "mouse13_left",
          "mouse14_left",
          "mouse15_left",
          "mouse16_left",
          "mouse17_left",
          "mouse18_left",
          "mouse19_left",
          "mouse20_left"
         ],
         "legendgroup": "B_postDLC",
         "marker": {
          "color": "#EF553B",
          "line": {
           "color": "black",
           "width": 0.3
          },
          "size": 4,
          "symbol": "circle"
         },
         "mode": "markers",
         "name": "B_postDLC",
         "scene": "scene2",
         "showlegend": true,
         "type": "scatter3d",
         "x": {
          "bdata": "SpeXQDz2oEB5maJA82naQJKh1EA206JAoNzWQBYdnUDuw89ARCmqQA==",
          "dtype": "f4"
         },
         "y": {
          "bdata": "oZCMQE+shkA8X4lAIwtxQOseXkC6m4ZA/sJhQCR+iEC5HWpAfyWGQA==",
          "dtype": "f4"
         },
         "z": {
          "bdata": "Iy85QdK1MEE2BTlBdZ4jQXhTIUE3Vy9BzTchQbBHN0HtSyVBfgcuQQ==",
          "dtype": "f4"
         }
        },
        {
         "customdata": {
          "bdata": "AwAAAAEAAAADAAAAAgAAAAMAAAADAAAAAwAAAAQAAAADAAAABQAAAAMAAAAGAAAAAwAAAAcAAAADAAAACAAAAAMAAAAJAAAAAwAAAAsAAAA=",
          "dtype": "i4",
          "shape": "10, 2"
         },
         "hovertemplate": "<b>%{hovertext}</b><br><br>DatasetName=B_preDLC<br>UMAP1=%{x}<br>UMAP2=%{y}<br>UMAP3=%{z}<br>Dataset=%{customdata[0]}<br>Mouse=%{customdata[1]}<extra></extra>",
         "hovertext": [
          "mouse11_left",
          "mouse12_left",
          "mouse13_left",
          "mouse14_left",
          "mouse15_left",
          "mouse16_left",
          "mouse17_left",
          "mouse18_left",
          "mouse19_left",
          "mouse20_left"
         ],
         "legendgroup": "B_preDLC",
         "marker": {
          "color": "#B6E880",
          "line": {
           "color": "black",
           "width": 0.3
          },
          "size": 4,
          "symbol": "circle"
         },
         "mode": "markers",
         "name": "B_preDLC",
         "scene": "scene2",
         "showlegend": true,
         "type": "scatter3d",
         "x": {
          "bdata": "0hzKQCgIyUCu0MBAiBTNQLsT0EDC6LxAKHPGQDC5xUDua9JAjk7LQA==",
          "dtype": "f4"
         },
         "y": {
          "bdata": "OivCQPUTlkBzJsNAQ/q+QME4oEAteL1AXfafQFIDqUBd7rlAnxeiQA==",
          "dtype": "f4"
         },
         "z": {
          "bdata": "d3EaQW1dIUGP1h9BhpcYQe4mJEFUNBxBBb0ZQbxtFkFFPhhBmwIVQQ==",
          "dtype": "f4"
         }
        },
        {
         "customdata": {
          "bdata": "BAAAAAwAAAAEAAAADQAAAAQAAAAOAAAABAAAAA8AAAAEAAAAEAAAAAQAAAARAAAABAAAABIAAAAEAAAAEwAAAAQAAAAUAAAABAAAABYAAAA=",
          "dtype": "i4",
          "shape": "10, 2"
         },
         "hovertemplate": "<b>%{hovertext}</b><br><br>DatasetName=C_postDLC<br>UMAP1=%{x}<br>UMAP2=%{y}<br>UMAP3=%{z}<br>Dataset=%{customdata[0]}<br>Mouse=%{customdata[1]}<extra></extra>",
         "hovertext": [
          "mouse21_left",
          "mouse22_left",
          "mouse23_left",
          "mouse24_left",
          "mouse25_left",
          "mouse26_left",
          "mouse27_left",
          "mouse28_left",
          "mouse29_left",
          "mouse30_left"
         ],
         "legendgroup": "C_postDLC",
         "marker": {
          "color": "#00CC96",
          "line": {
           "color": "black",
           "width": 0.3
          },
          "size": 4,
          "symbol": "circle"
         },
         "mode": "markers",
         "name": "C_postDLC",
         "scene": "scene2",
         "showlegend": true,
         "type": "scatter3d",
         "x": {
          "bdata": "4O7DQFBzuUAjK8dAKcDsQLtwokA1YblAlcHFQBe1tEB0zrxAmt/DQA==",
          "dtype": "f4"
         },
         "y": {
          "bdata": "2Bp7QC2NhUAd92tAQwi6QPhaiEA5K4BALsNvQAVogUD19nJAHgpxQA==",
          "dtype": "f4"
         },
         "z": {
          "bdata": "fwZAQVB7QEH0c0BB9NchQWC+QUGfdDpBpKQzQb0APkET2TxBWr4zQQ==",
          "dtype": "f4"
         }
        },
        {
         "customdata": {
          "bdata": "BQAAAAwAAAAFAAAADQAAAAUAAAAOAAAABQAAAA8AAAAFAAAAEAAAAAUAAAARAAAABQAAABIAAAAFAAAAEwAAAAUAAAAUAAAABQAAABYAAAA=",
          "dtype": "i4",
          "shape": "10, 2"
         },
         "hovertemplate": "<b>%{hovertext}</b><br><br>DatasetName=C_preDLC<br>UMAP1=%{x}<br>UMAP2=%{y}<br>UMAP3=%{z}<br>Dataset=%{customdata[0]}<br>Mouse=%{customdata[1]}<extra></extra>",
         "hovertext": [
          "mouse21_left",
          "mouse22_left",
          "mouse23_left",
          "mouse24_left",
          "mouse25_left",
          "mouse26_left",
          "mouse27_left",
          "mouse28_left",
          "mouse29_left",
          "mouse30_left"
         ],
         "legendgroup": "C_preDLC",
         "marker": {
          "color": "#FF97FF",
          "line": {
           "color": "black",
           "width": 0.3
          },
          "size": 4,
          "symbol": "circle"
         },
         "mode": "markers",
         "name": "C_preDLC",
         "scene": "scene2",
         "showlegend": true,
         "type": "scatter3d",
         "x": {
          "bdata": "eO6oQOElqkABz6tANcGwQE+ptkAPkqhALZOrQM+NrEDH8ulA0JeyQA==",
          "dtype": "f4"
         },
         "y": {
          "bdata": "fmDOQHMKzkBKMsZAW/DFQGOwpkCZzspA/Z3EQJS3zUCim6dAWU3AQA==",
          "dtype": "f4"
         },
         "z": {
          "bdata": "qLknQaNILkHJsC1BCucnQZsOHkFHgixBUMoyQbRuJUGp5S9B80QiQQ==",
          "dtype": "f4"
         }
        },
        {
         "customdata": {
          "bdata": "BgAAABcAAAAGAAAAGAAAAAYAAAAZAAAABgAAABoAAAAGAAAAGwAAAAYAAAAcAAAABgAAAB0AAAAGAAAAHgAAAAYAAAAfAAAABgAAACEAAAA=",
          "dtype": "i4",
          "shape": "10, 2"
         },
         "hovertemplate": "<b>%{hovertext}</b><br><br>DatasetName=D_postDLC<br>UMAP1=%{x}<br>UMAP2=%{y}<br>UMAP3=%{z}<br>Dataset=%{customdata[0]}<br>Mouse=%{customdata[1]}<extra></extra>",
         "hovertext": [
          "mouse31_left",
          "mouse32_left",
          "mouse33_left",
          "mouse34_left",
          "mouse35_left",
          "mouse36_left",
          "mouse37_left",
          "mouse38_left",
          "mouse39_left",
          "mouse40_left"
         ],
         "legendgroup": "D_postDLC",
         "marker": {
          "color": "#AB63FA",
          "line": {
           "color": "black",
           "width": 0.3
          },
          "size": 4,
          "symbol": "circle"
         },
         "mode": "markers",
         "name": "D_postDLC",
         "scene": "scene2",
         "showlegend": true,
         "type": "scatter3d",
         "x": {
          "bdata": "W227QH6uwkC7175AisaYQOsgq0CmD8FAj/HFQGiYt0BRHMtA3nq8QA==",
          "dtype": "f4"
         },
         "y": {
          "bdata": "d2KjQCTUkUAmrJRAgbSXQAwVdkAJCZJA9oSDQCUYTUDzTnRAvkdXQA==",
          "dtype": "f4"
         },
         "z": {
          "bdata": "ayYxQRJLMEEWbzVBKBJDQeYIREEkOTdBQ9koQa1FPEH0ZzpBUBg/QQ==",
          "dtype": "f4"
         }
        },
        {
         "customdata": {
          "bdata": "BwAAABcAAAAHAAAAGAAAAAcAAAAZAAAABwAAABoAAAAHAAAAGwAAAAcAAAAcAAAABwAAAB0AAAAHAAAAHgAAAAcAAAAfAAAABwAAACEAAAAHAAAAIwAAAAcAAAAsAAAA",
          "dtype": "i4",
          "shape": "12, 2"
         },
         "hovertemplate": "<b>%{hovertext}</b><br><br>DatasetName=D_preDLC<br>UMAP1=%{x}<br>UMAP2=%{y}<br>UMAP3=%{z}<br>Dataset=%{customdata[0]}<br>Mouse=%{customdata[1]}<extra></extra>",
         "hovertext": [
          "mouse31_left",
          "mouse32_left",
          "mouse33_left",
          "mouse34_left",
          "mouse35_left",
          "mouse36_left",
          "mouse37_left",
          "mouse38_left",
          "mouse39_left",
          "mouse40_left",
          "mouse42_left",
          "mouse50_left"
         ],
         "legendgroup": "D_preDLC",
         "marker": {
          "color": "#FECB52",
          "line": {
           "color": "black",
           "width": 0.3
          },
          "size": 4,
          "symbol": "circle"
         },
         "mode": "markers",
         "name": "D_preDLC",
         "scene": "scene2",
         "showlegend": true,
         "type": "scatter3d",
         "x": {
          "bdata": "eljZQEcl90BSdPFA8wTrQA3o9kBqItpAgIf9QD4xAEHxot1APiXRQAN76UDvsOFA",
          "dtype": "f4"
         },
         "y": {
          "bdata": "MLe6QNkzqkBtkbJAkLG/QPUQr0DC47RAQMKuQIRMqUBnaqhATo29QBGuskApKMNA",
          "dtype": "f4"
         },
         "z": {
          "bdata": "mKkpQeZiKUHESjJBDUgrQb9WN0EzUTVBvpsxQYrVK0H2LzxBqEguQXHFMkE49ihB",
          "dtype": "f4"
         }
        },
        {
         "customdata": {
          "bdata": "CAAAACIAAAAIAAAAIwAAAAgAAAAkAAAACAAAACUAAAAIAAAAJgAAAAgAAAAnAAAACAAAACgAAAAIAAAAKQAAAAgAAAAqAAAACAAAACwAAAA=",
          "dtype": "i4",
          "shape": "10, 2"
         },
         "hovertemplate": "<b>%{hovertext}</b><br><br>DatasetName=E_postDLC<br>UMAP1=%{x}<br>UMAP2=%{y}<br>UMAP3=%{z}<br>Dataset=%{customdata[0]}<br>Mouse=%{customdata[1]}<extra></extra>",
         "hovertext": [
          "mouse41_left",
          "mouse42_left",
          "mouse43_left",
          "mouse44_left",
          "mouse45_left",
          "mouse46_left",
          "mouse47_left",
          "mouse48_left",
          "mouse49_left",
          "mouse50_left"
         ],
         "legendgroup": "E_postDLC",
         "marker": {
          "color": "#FFA15A",
          "line": {
           "color": "black",
           "width": 0.3
          },
          "size": 4,
          "symbol": "circle"
         },
         "mode": "markers",
         "name": "E_postDLC",
         "scene": "scene2",
         "showlegend": true,
         "type": "scatter3d",
         "x": {
          "bdata": "GvC9QCPnnUCgKZBAqQWkQB6VlkCZMppALt3ZQPRclkAxhq1ABtqRQA==",
          "dtype": "f4"
         },
         "y": {
          "bdata": "GUaTQNiBoUAwGZ5A+VmiQJyypEB4W6pA3yWHQG3cm0CLB6JAtNChQA==",
          "dtype": "f4"
         },
         "z": {
          "bdata": "23hBQYCJSEEowkVBQ91EQeAASUHMeENBebksQeRsSEHNyUVBEo9GQQ==",
          "dtype": "f4"
         }
        },
        {
         "customdata": {
          "bdata": "CQAAACIAAAAJAAAAJAAAAAkAAAAlAAAACQAAACYAAAAJAAAAJwAAAAkAAAAoAAAACQAAACkAAAAJAAAAKgAAAA==",
          "dtype": "i4",
          "shape": "8, 2"
         },
         "hovertemplate": "<b>%{hovertext}</b><br><br>DatasetName=E_preDLC<br>UMAP1=%{x}<br>UMAP2=%{y}<br>UMAP3=%{z}<br>Dataset=%{customdata[0]}<br>Mouse=%{customdata[1]}<extra></extra>",
         "hovertext": [
          "mouse41_left",
          "mouse43_left",
          "mouse44_left",
          "mouse45_left",
          "mouse46_left",
          "mouse47_left",
          "mouse48_left",
          "mouse49_left"
         ],
         "legendgroup": "E_preDLC",
         "marker": {
          "color": "#636efa",
          "line": {
           "color": "black",
           "width": 0.3
          },
          "size": 4,
          "symbol": "circle"
         },
         "mode": "markers",
         "name": "E_preDLC",
         "scene": "scene2",
         "showlegend": true,
         "type": "scatter3d",
         "x": {
          "bdata": "IUgBQRgs+kD/ZddA90P+QMkw1kBSEvpARUizQO0b2EA=",
          "dtype": "f4"
         },
         "y": {
          "bdata": "R967QLjNwECRPs5A3kDAQDjsy0CXkqBAwpzBQKaqnUA=",
          "dtype": "f4"
         },
         "z": {
          "bdata": "9skjQcd5IEEoBCNBSEAhQZqxIEGAsidBlq0rQSHlP0E=",
          "dtype": "f4"
         }
        }
       ],
       "layout": {
        "annotations": [
         {
          "font": {
           "size": 16
          },
          "showarrow": false,
          "text": "UMAP 3D — Pre vs Others",
          "x": 0.225,
          "xanchor": "center",
          "xref": "paper",
          "y": 1,
          "yanchor": "bottom",
          "yref": "paper"
         },
         {
          "font": {
           "size": 16
          },
          "showarrow": false,
          "text": "UMAP 3D — Each Dataset",
          "x": 0.775,
          "xanchor": "center",
          "xref": "paper",
          "y": 1,
          "yanchor": "bottom",
          "yref": "paper"
         }
        ],
        "height": 600,
        "legend": {
         "orientation": "v",
         "title": {
          "text": "Dataset"
         }
        },
        "margin": {
         "b": 0,
         "l": 0,
         "r": 0,
         "t": 60
        },
        "scene": {
         "aspectmode": "data",
         "domain": {
          "x": [
           0,
           0.45
          ],
          "y": [
           0,
           1
          ]
         }
        },
        "scene2": {
         "aspectmode": "data",
         "domain": {
          "x": [
           0.55,
           1
          ],
          "y": [
           0,
           1
          ]
         }
        },
        "showlegend": true,
        "template": {
         "data": {
          "bar": [
           {
            "error_x": {
             "color": "#2a3f5f"
            },
            "error_y": {
             "color": "#2a3f5f"
            },
            "marker": {
             "line": {
              "color": "#E5ECF6",
              "width": 0.5
             },
             "pattern": {
              "fillmode": "overlay",
              "size": 10,
              "solidity": 0.2
             }
            },
            "type": "bar"
           }
          ],
          "barpolar": [
           {
            "marker": {
             "line": {
              "color": "#E5ECF6",
              "width": 0.5
             },
             "pattern": {
              "fillmode": "overlay",
              "size": 10,
              "solidity": 0.2
             }
            },
            "type": "barpolar"
           }
          ],
          "carpet": [
           {
            "aaxis": {
             "endlinecolor": "#2a3f5f",
             "gridcolor": "white",
             "linecolor": "white",
             "minorgridcolor": "white",
             "startlinecolor": "#2a3f5f"
            },
            "baxis": {
             "endlinecolor": "#2a3f5f",
             "gridcolor": "white",
             "linecolor": "white",
             "minorgridcolor": "white",
             "startlinecolor": "#2a3f5f"
            },
            "type": "carpet"
           }
          ],
          "choropleth": [
           {
            "colorbar": {
             "outlinewidth": 0,
             "ticks": ""
            },
            "type": "choropleth"
           }
          ],
          "contour": [
           {
            "colorbar": {
             "outlinewidth": 0,
             "ticks": ""
            },
            "colorscale": [
             [
              0,
              "#0d0887"
             ],
             [
              0.1111111111111111,
              "#46039f"
             ],
             [
              0.2222222222222222,
              "#7201a8"
             ],
             [
              0.3333333333333333,
              "#9c179e"
             ],
             [
              0.4444444444444444,
              "#bd3786"
             ],
             [
              0.5555555555555556,
              "#d8576b"
             ],
             [
              0.6666666666666666,
              "#ed7953"
             ],
             [
              0.7777777777777778,
              "#fb9f3a"
             ],
             [
              0.8888888888888888,
              "#fdca26"
             ],
             [
              1,
              "#f0f921"
             ]
            ],
            "type": "contour"
           }
          ],
          "contourcarpet": [
           {
            "colorbar": {
             "outlinewidth": 0,
             "ticks": ""
            },
            "type": "contourcarpet"
           }
          ],
          "heatmap": [
           {
            "colorbar": {
             "outlinewidth": 0,
             "ticks": ""
            },
            "colorscale": [
             [
              0,
              "#0d0887"
             ],
             [
              0.1111111111111111,
              "#46039f"
             ],
             [
              0.2222222222222222,
              "#7201a8"
             ],
             [
              0.3333333333333333,
              "#9c179e"
             ],
             [
              0.4444444444444444,
              "#bd3786"
             ],
             [
              0.5555555555555556,
              "#d8576b"
             ],
             [
              0.6666666666666666,
              "#ed7953"
             ],
             [
              0.7777777777777778,
              "#fb9f3a"
             ],
             [
              0.8888888888888888,
              "#fdca26"
             ],
             [
              1,
              "#f0f921"
             ]
            ],
            "type": "heatmap"
           }
          ],
          "histogram": [
           {
            "marker": {
             "pattern": {
              "fillmode": "overlay",
              "size": 10,
              "solidity": 0.2
             }
            },
            "type": "histogram"
           }
          ],
          "histogram2d": [
           {
            "colorbar": {
             "outlinewidth": 0,
             "ticks": ""
            },
            "colorscale": [
             [
              0,
              "#0d0887"
             ],
             [
              0.1111111111111111,
              "#46039f"
             ],
             [
              0.2222222222222222,
              "#7201a8"
             ],
             [
              0.3333333333333333,
              "#9c179e"
             ],
             [
              0.4444444444444444,
              "#bd3786"
             ],
             [
              0.5555555555555556,
              "#d8576b"
             ],
             [
              0.6666666666666666,
              "#ed7953"
             ],
             [
              0.7777777777777778,
              "#fb9f3a"
             ],
             [
              0.8888888888888888,
              "#fdca26"
             ],
             [
              1,
              "#f0f921"
             ]
            ],
            "type": "histogram2d"
           }
          ],
          "histogram2dcontour": [
           {
            "colorbar": {
             "outlinewidth": 0,
             "ticks": ""
            },
            "colorscale": [
             [
              0,
              "#0d0887"
             ],
             [
              0.1111111111111111,
              "#46039f"
             ],
             [
              0.2222222222222222,
              "#7201a8"
             ],
             [
              0.3333333333333333,
              "#9c179e"
             ],
             [
              0.4444444444444444,
              "#bd3786"
             ],
             [
              0.5555555555555556,
              "#d8576b"
             ],
             [
              0.6666666666666666,
              "#ed7953"
             ],
             [
              0.7777777777777778,
              "#fb9f3a"
             ],
             [
              0.8888888888888888,
              "#fdca26"
             ],
             [
              1,
              "#f0f921"
             ]
            ],
            "type": "histogram2dcontour"
           }
          ],
          "mesh3d": [
           {
            "colorbar": {
             "outlinewidth": 0,
             "ticks": ""
            },
            "type": "mesh3d"
           }
          ],
          "parcoords": [
           {
            "line": {
             "colorbar": {
              "outlinewidth": 0,
              "ticks": ""
             }
            },
            "type": "parcoords"
           }
          ],
          "pie": [
           {
            "automargin": true,
            "type": "pie"
           }
          ],
          "scatter": [
           {
            "fillpattern": {
             "fillmode": "overlay",
             "size": 10,
             "solidity": 0.2
            },
            "type": "scatter"
           }
          ],
          "scatter3d": [
           {
            "line": {
             "colorbar": {
              "outlinewidth": 0,
              "ticks": ""
             }
            },
            "marker": {
             "colorbar": {
              "outlinewidth": 0,
              "ticks": ""
             }
            },
            "type": "scatter3d"
           }
          ],
          "scattercarpet": [
           {
            "marker": {
             "colorbar": {
              "outlinewidth": 0,
              "ticks": ""
             }
            },
            "type": "scattercarpet"
           }
          ],
          "scattergeo": [
           {
            "marker": {
             "colorbar": {
              "outlinewidth": 0,
              "ticks": ""
             }
            },
            "type": "scattergeo"
           }
          ],
          "scattergl": [
           {
            "marker": {
             "colorbar": {
              "outlinewidth": 0,
              "ticks": ""
             }
            },
            "type": "scattergl"
           }
          ],
          "scattermap": [
           {
            "marker": {
             "colorbar": {
              "outlinewidth": 0,
              "ticks": ""
             }
            },
            "type": "scattermap"
           }
          ],
          "scattermapbox": [
           {
            "marker": {
             "colorbar": {
              "outlinewidth": 0,
              "ticks": ""
             }
            },
            "type": "scattermapbox"
           }
          ],
          "scatterpolar": [
           {
            "marker": {
             "colorbar": {
              "outlinewidth": 0,
              "ticks": ""
             }
            },
            "type": "scatterpolar"
           }
          ],
          "scatterpolargl": [
           {
            "marker": {
             "colorbar": {
              "outlinewidth": 0,
              "ticks": ""
             }
            },
            "type": "scatterpolargl"
           }
          ],
          "scatterternary": [
           {
            "marker": {
             "colorbar": {
              "outlinewidth": 0,
              "ticks": ""
             }
            },
            "type": "scatterternary"
           }
          ],
          "surface": [
           {
            "colorbar": {
             "outlinewidth": 0,
             "ticks": ""
            },
            "colorscale": [
             [
              0,
              "#0d0887"
             ],
             [
              0.1111111111111111,
              "#46039f"
             ],
             [
              0.2222222222222222,
              "#7201a8"
             ],
             [
              0.3333333333333333,
              "#9c179e"
             ],
             [
              0.4444444444444444,
              "#bd3786"
             ],
             [
              0.5555555555555556,
              "#d8576b"
             ],
             [
              0.6666666666666666,
              "#ed7953"
             ],
             [
              0.7777777777777778,
              "#fb9f3a"
             ],
             [
              0.8888888888888888,
              "#fdca26"
             ],
             [
              1,
              "#f0f921"
             ]
            ],
            "type": "surface"
           }
          ],
          "table": [
           {
            "cells": {
             "fill": {
              "color": "#EBF0F8"
             },
             "line": {
              "color": "white"
             }
            },
            "header": {
             "fill": {
              "color": "#C8D4E3"
             },
             "line": {
              "color": "white"
             }
            },
            "type": "table"
           }
          ]
         },
         "layout": {
          "annotationdefaults": {
           "arrowcolor": "#2a3f5f",
           "arrowhead": 0,
           "arrowwidth": 1
          },
          "autotypenumbers": "strict",
          "coloraxis": {
           "colorbar": {
            "outlinewidth": 0,
            "ticks": ""
           }
          },
          "colorscale": {
           "diverging": [
            [
             0,
             "#8e0152"
            ],
            [
             0.1,
             "#c51b7d"
            ],
            [
             0.2,
             "#de77ae"
            ],
            [
             0.3,
             "#f1b6da"
            ],
            [
             0.4,
             "#fde0ef"
            ],
            [
             0.5,
             "#f7f7f7"
            ],
            [
             0.6,
             "#e6f5d0"
            ],
            [
             0.7,
             "#b8e186"
            ],
            [
             0.8,
             "#7fbc41"
            ],
            [
             0.9,
             "#4d9221"
            ],
            [
             1,
             "#276419"
            ]
           ],
           "sequential": [
            [
             0,
             "#0d0887"
            ],
            [
             0.1111111111111111,
             "#46039f"
            ],
            [
             0.2222222222222222,
             "#7201a8"
            ],
            [
             0.3333333333333333,
             "#9c179e"
            ],
            [
             0.4444444444444444,
             "#bd3786"
            ],
            [
             0.5555555555555556,
             "#d8576b"
            ],
            [
             0.6666666666666666,
             "#ed7953"
            ],
            [
             0.7777777777777778,
             "#fb9f3a"
            ],
            [
             0.8888888888888888,
             "#fdca26"
            ],
            [
             1,
             "#f0f921"
            ]
           ],
           "sequentialminus": [
            [
             0,
             "#0d0887"
            ],
            [
             0.1111111111111111,
             "#46039f"
            ],
            [
             0.2222222222222222,
             "#7201a8"
            ],
            [
             0.3333333333333333,
             "#9c179e"
            ],
            [
             0.4444444444444444,
             "#bd3786"
            ],
            [
             0.5555555555555556,
             "#d8576b"
            ],
            [
             0.6666666666666666,
             "#ed7953"
            ],
            [
             0.7777777777777778,
             "#fb9f3a"
            ],
            [
             0.8888888888888888,
             "#fdca26"
            ],
            [
             1,
             "#f0f921"
            ]
           ]
          },
          "colorway": [
           "#636efa",
           "#EF553B",
           "#00cc96",
           "#ab63fa",
           "#FFA15A",
           "#19d3f3",
           "#FF6692",
           "#B6E880",
           "#FF97FF",
           "#FECB52"
          ],
          "font": {
           "color": "#2a3f5f"
          },
          "geo": {
           "bgcolor": "white",
           "lakecolor": "white",
           "landcolor": "#E5ECF6",
           "showlakes": true,
           "showland": true,
           "subunitcolor": "white"
          },
          "hoverlabel": {
           "align": "left"
          },
          "hovermode": "closest",
          "mapbox": {
           "style": "light"
          },
          "paper_bgcolor": "white",
          "plot_bgcolor": "#E5ECF6",
          "polar": {
           "angularaxis": {
            "gridcolor": "white",
            "linecolor": "white",
            "ticks": ""
           },
           "bgcolor": "#E5ECF6",
           "radialaxis": {
            "gridcolor": "white",
            "linecolor": "white",
            "ticks": ""
           }
          },
          "scene": {
           "xaxis": {
            "backgroundcolor": "#E5ECF6",
            "gridcolor": "white",
            "gridwidth": 2,
            "linecolor": "white",
            "showbackground": true,
            "ticks": "",
            "zerolinecolor": "white"
           },
           "yaxis": {
            "backgroundcolor": "#E5ECF6",
            "gridcolor": "white",
            "gridwidth": 2,
            "linecolor": "white",
            "showbackground": true,
            "ticks": "",
            "zerolinecolor": "white"
           },
           "zaxis": {
            "backgroundcolor": "#E5ECF6",
            "gridcolor": "white",
            "gridwidth": 2,
            "linecolor": "white",
            "showbackground": true,
            "ticks": "",
            "zerolinecolor": "white"
           }
          },
          "shapedefaults": {
           "line": {
            "color": "#2a3f5f"
           }
          },
          "ternary": {
           "aaxis": {
            "gridcolor": "white",
            "linecolor": "white",
            "ticks": ""
           },
           "baxis": {
            "gridcolor": "white",
            "linecolor": "white",
            "ticks": ""
           },
           "bgcolor": "#E5ECF6",
           "caxis": {
            "gridcolor": "white",
            "linecolor": "white",
            "ticks": ""
           }
          },
          "title": {
           "x": 0.05
          },
          "xaxis": {
           "automargin": true,
           "gridcolor": "white",
           "linecolor": "white",
           "ticks": "",
           "title": {
            "standoff": 15
           },
           "zerolinecolor": "white",
           "zerolinewidth": 2
          },
          "yaxis": {
           "automargin": true,
           "gridcolor": "white",
           "linecolor": "white",
           "ticks": "",
           "title": {
            "standoff": 15
           },
           "zerolinecolor": "white",
           "zerolinewidth": 2
          }
         }
        },
        "width": 1100
       }
      }
     },
     "metadata": {},
     "output_type": "display_data"
    }
   ],
   "source": [
    "### Plotting UMAP in 3D -> 573 features total\n",
    "umap_plot_df[\"DatasetName\"] = umap_plot_df[\"Dataset\"].map(dataset_label_map)\n",
    "umap_plot_df[\"MouseName\"]   = umap_plot_df[\"Mouse\"].map(mouse_label_map)\n",
    "\n",
    "# --- Build a consistent color map ---\n",
    "fixed_color = \"#7f7f7f\"  # gray for Pre\n",
    "all_names = sorted(umap_plot_df[\"DatasetName\"].unique())\n",
    "\n",
    "# Non-Pre datasets get distinct colors from a qualitative palette\n",
    "palette = px.colors.qualitative.Plotly  # or px.colors.qualitative.Set3, etc.\n",
    "non_pre = [n for n in all_names if \"pre\" not in n.lower()]\n",
    "\n",
    "color_map = {\"Pre\": fixed_color}\n",
    "color_map.update({name: palette[i % len(palette)] for i, name in enumerate(non_pre)})\n",
    "\n",
    "# Color key: collapse anything containing \"pre\" to \"Pre\", keep others as-is\n",
    "umap_plot_df[\"ColorKey\"] = umap_plot_df[\"DatasetName\"].apply(\n",
    "    lambda x: \"Pre\" if \"pre\" in x.lower() else x\n",
    ")\n",
    "\n",
    "# --- Build the two px figures using the SAME color map ---\n",
    "fig_left = px.scatter_3d(\n",
    "    umap_plot_df,\n",
    "    x=\"UMAP1\", y=\"UMAP2\", z=\"UMAP3\",\n",
    "    color=\"ColorKey\",\n",
    "    hover_name=\"MouseName\",\n",
    "    hover_data={\"Dataset\": True, \"Mouse\": True},\n",
    "    title=\"UMAP 3D — Pre vs Others\",\n",
    "    color_discrete_map=color_map\n",
    ")\n",
    "fig_left.update_traces(marker=dict(size=4, line=dict(width=0.3, color='black')),\n",
    "                       selector=dict(mode='markers'))\n",
    "\n",
    "fig_right = px.scatter_3d(\n",
    "    umap_plot_df,\n",
    "    x=\"UMAP1\", y=\"UMAP2\", z=\"UMAP3\",\n",
    "    color=\"DatasetName\",\n",
    "    hover_name=\"MouseName\",\n",
    "    hover_data={\"Dataset\": True, \"Mouse\": True},\n",
    "    title=\"UMAP 3D — Each Dataset\",\n",
    "    color_discrete_map=color_map\n",
    ")\n",
    "fig_right.update_traces(marker=dict(size=4, line=dict(width=0.3, color='black')),\n",
    "                        selector=dict(mode='markers'))\n",
    "\n",
    "# --- Put them side by side with shared legend ---\n",
    "combo = make_subplots(rows=1, cols=2,\n",
    "                      specs=[[{\"type\": \"scene\"}, {\"type\": \"scene\"}]],\n",
    "                      subplot_titles=(fig_left.layout.title.text, fig_right.layout.title.text))\n",
    "\n",
    "for tr in fig_left.data:\n",
    "    combo.add_trace(tr, row=1, col=1)\n",
    "for tr in fig_right.data:\n",
    "    combo.add_trace(tr, row=1, col=2)\n",
    "\n",
    "# Layout tweaks: one legend, equal aspect, tidy margins\n",
    "combo.update_layout(\n",
    "    showlegend=True,\n",
    "    legend=dict(title=\"Dataset\", orientation=\"v\"),\n",
    "    scene=dict(aspectmode=\"data\"),\n",
    "    scene2=dict(aspectmode=\"data\"),\n",
    "    margin=dict(l=0, r=0, t=60, b=0),\n",
    "    height=600, width=1100\n",
    ")\n",
    "\n",
    "combo.show()"
   ]
  },
  {
   "cell_type": "code",
   "execution_count": 18,
   "id": "eb032136",
   "metadata": {},
   "outputs": [
    {
     "name": "stderr",
     "output_type": "stream",
     "text": [
      "c:\\Users\\Simone\\Documents\\DTU\\MScThesis\\src\\pain_analysis.py:237: UserWarning:\n",
      "\n",
      "The figure layout has changed to tight\n",
      "\n"
     ]
    },
    {
     "data": {
      "image/png": "[encoded data removed]",
      "text/plain": [
       "<Figure size 1800x600 with 3 Axes>"
      ]
     },
     "metadata": {},
     "output_type": "display_data"
    },
    {
     "name": "stdout",
     "output_type": "stream",
     "text": [
      "--------------------------------------------------\n",
      "Top features for PCA1 (Explained Variance: 9.76%):\n",
      "  • Mean phase value - rhindlimb - ankle (°)_sin, Mean phase during swing - rhindlimb - ankle (°)_sin, Mean phase value - rhindlimb - ankle (°)_cos, Mean phase during swing - rhindlimb - ankle (°)_cos, Mean step velocity X during stance - ankle (m/s), Mean step acceleration Y during stance - lHindfingers (m/s^2), Mean phase during stance - rhindlimb - ankle (°)_sin, Mean phase during stance - rhindlimb - ankle (°)_cos, Mean angle during swing - rhindlimb - lHindfingers (°)_cos, Mean phase during swing - rhindlimb - hip (°)_cos\n",
      "Top features for PCA2 (Explained Variance: 7.81%):\n",
      "  • Mean step velocity X at swing - ankle (m/s), Mean step velocity X during swing - ankle (m/s), Mean step velocity X during swing - knee (m/s), Mean step velocity X during swing - lHindpaw (m/s), Mean step velocity X at swing - hip (m/s), Mean step velocity X at swing - lHindpaw (m/s), Mean step velocity X during swing - hip (m/s), Mean step velocity X at peak - knee (m/s), Mean phase during stance - rhindlimb - lHindpaw (°)_sin, Mean phase during stance - rhindlimb - lHindpaw (°)_cos\n",
      "Top features for PCA3 (Explained Variance: 6.28%):\n",
      "  • Mean step acceleration X during stance - lHindpaw (m/s^2), Mean phase at touchdown - rhindlimb - ankle (°)_sin, Mean step acceleration X during stance - ankle (m/s^2), Mean step velocity Y at stance - knee (m/s), Mean phase at stance - rhindlimb - hip (°)_cos, Mean angle at stance - rhindlimb - hip (°)_cos, Mean step velocity X at stance - lHindpaw (m/s), Mean angle at stance - rhindlimb - hip (°)_sin, Mean phase at stance - rhindlimb - hip (°)_sin, Mean step acceleration X during stance - lHindfingers (m/s^2)\n",
      "--------------------------------------------------\n"
     ]
    }
   ],
   "source": [
    "pca_reducer, pca_plot_df = perform_dimensionality_reduction(\n",
    "    X_agg, y_mouse, y_dataset,\n",
    "    dataset_label_map, mouse_label_map,\n",
    "    method=\"PCA\", n_components=3,\n",
    "    plot=True, save=False\n",
    ")"
   ]
  },
  {
   "cell_type": "code",
   "execution_count": 19,
   "id": "389a40fa",
   "metadata": {},
   "outputs": [
    {
     "name": "stdout",
     "output_type": "stream",
     "text": [
      "['B_preDLC' 'C_preDLC' 'E_preDLC']\n",
      "['B_postDLC' 'C_postDLC']\n",
      "['E_postDLC']\n",
      "Healthy left hindlimb shape: (28, 571)\n",
      "Sick left hindlimb shape: (20, 571)\n",
      "Treatment left hindlimb shape: (10, 571)\n"
     ]
    }
   ],
   "source": [
    "features = left_hindlimb_features_df.columns.tolist()\n",
    "\n",
    "## Convert angle features to radians if they contain '°'\n",
    "angular_features = [f for f in features if ('angle' in f.lower() or 'phase' in f.lower())\n",
    "                    and 'excursion' not in f.lower()\n",
    "                    and not f.lower().endswith('_sin')\n",
    "                    and not f.lower().endswith('_cos')]\n",
    "for feature in angular_features:\n",
    "    if '°' in feature:\n",
    "        left_hindlimb_features_df[feature] = np.deg2rad(left_hindlimb_features_df[feature])\n",
    "\n",
    "## Linearize angular features\n",
    "trig_features = {\n",
    "    f\"{feature}_cos\": np.cos(left_hindlimb_features_df[feature]) for feature in angular_features\n",
    "}\n",
    "trig_features.update({\n",
    "    f\"{feature}_sin\": np.sin(left_hindlimb_features_df[feature]) for feature in angular_features\n",
    "})\n",
    "trig_df = pd.DataFrame(trig_features, index=left_hindlimb_features_df.index)\n",
    "left_hindlimb_features_df = pd.concat([left_hindlimb_features_df.drop(columns=angular_features), trig_df], axis=1)\n",
    "\n",
    "## Create subsets for left hindlimb\n",
    "_left_hindlimb_features_df = left_hindlimb_features_df[~left_hindlimb_features_df['Dataset'].str.lower().str.contains('d_')\n",
    "                                                       & ~left_hindlimb_features_df['Dataset'].str.lower().str.contains('a_')]\n",
    "healthy_left_hindlimb_features_df = _left_hindlimb_features_df[_left_hindlimb_features_df['Dataset'].str.lower().str.contains('pre')]\n",
    "sick_left_hindlimb_features_df = _left_hindlimb_features_df[_left_hindlimb_features_df['Dataset'].str.lower().str.contains('post') &\n",
    "                                                           ~_left_hindlimb_features_df['Dataset'].str.lower().str.contains('e_')]\n",
    "treatment_left_hindlimb_features_df = _left_hindlimb_features_df[_left_hindlimb_features_df['Dataset'].str.lower().str.contains('post') &\n",
    "                                                                _left_hindlimb_features_df['Dataset'].str.lower().str.contains('e_')]\n",
    "\n",
    "print(healthy_left_hindlimb_features_df[\"Dataset\"].unique())\n",
    "print(sick_left_hindlimb_features_df[\"Dataset\"].unique())\n",
    "print(treatment_left_hindlimb_features_df[\"Dataset\"].unique())\n",
    "\n",
    "healthy_left_hindlimb_features_df = healthy_left_hindlimb_features_df.drop(columns=['Dataset', 'Mouse'])\n",
    "sick_left_hindlimb_features_df = sick_left_hindlimb_features_df.drop(columns=['Dataset', 'Mouse'])\n",
    "treatment_left_hindlimb_features_df = treatment_left_hindlimb_features_df.drop(columns=['Dataset', 'Mouse'])\n",
    "\n",
    "print(f\"Healthy left hindlimb shape: {healthy_left_hindlimb_features_df.shape}\")\n",
    "print(f\"Sick left hindlimb shape: {sick_left_hindlimb_features_df.shape}\")\n",
    "print(f\"Treatment left hindlimb shape: {treatment_left_hindlimb_features_df.shape}\")"
   ]
  },
  {
   "cell_type": "code",
   "execution_count": 20,
   "id": "3c98a3a7",
   "metadata": {},
   "outputs": [
    {
     "name": "stdout",
     "output_type": "stream",
     "text": [
      "                                              feature  importance  \\\n",
      "3        Mean angle excursion - rhindlimb - ankle (°)    0.027643   \n",
      "5   Mean angle at touchdown - rhindlimb - lHindfin...    0.026052   \n",
      "6   Mean angle at touchdown - rhindlimb - lHindfin...    0.023473   \n",
      "11  Mean step acceleration Y at touchdown - ankle ...    0.013584   \n",
      "0     Mean step jerk Y at peak - lHindfingers (m/s^3)    0.050711   \n",
      "20  Mean angle at stance - rhindlimb - lHindpaw (°...    0.008778   \n",
      "7     Mean angle value - rhindlimb - lHindpaw (°)_sin    0.017478   \n",
      "10  Mean step acceleration Y at touchdown - lHindf...    0.015475   \n",
      "12       Mean phase excursion - rhindlimb - ankle (°)    0.012921   \n",
      "32  Mean angle at stance - rhindlimb - lHindpaw (°...    0.007106   \n",
      "22  Mean step acceleration Y during stance - knee ...    0.008710   \n",
      "23  Mean phase at touchdown - rhindlimb - lHindpaw...    0.008392   \n",
      "8   Mean angle during swing - rhindlimb - lHindpaw...    0.016365   \n",
      "9   Mean angle during swing - rhindlimb - lHindpaw...    0.015617   \n",
      "28  Mean angle at touchdown - rhindlimb - lHindpaw...    0.008088   \n",
      "25    Mean angle value - rhindlimb - lHindpaw (°)_cos    0.008365   \n",
      "42  Mean step acceleration Y at touchdown - lHindp...    0.005702   \n",
      "24     Mean angle at stance - rhindlimb - hip (°)_cos    0.008391   \n",
      "16  Mean step acceleration X during stance - ankle...    0.010549   \n",
      "26  Mean angle velocity - rhindlimb - knee (rad/s)...    0.008233   \n",
      "\n",
      "    change_score  change_effect_size  combined_rank          direction  \n",
      "3      -7.819830           -0.895282       0.024748  away_from_healthy  \n",
      "5       0.002007            0.906654       0.023620    towards_healthy  \n",
      "6       0.017305            0.829460       0.019470    towards_healthy  \n",
      "11      1.917734            1.350651       0.018348    towards_healthy  \n",
      "0    -140.068448           -0.310561       0.015749  away_from_healthy  \n",
      "20      0.094351            1.460568       0.012821    towards_healthy  \n",
      "7       0.030156            0.726097       0.012691    towards_healthy  \n",
      "10      1.844984            0.785219       0.012151    towards_healthy  \n",
      "12     -6.268268           -0.812637       0.010500  away_from_healthy  \n",
      "32      0.056059            1.352244       0.009609    towards_healthy  \n",
      "22      0.389838            1.020976       0.008893    towards_healthy  \n",
      "23      0.001699            0.998606       0.008380    towards_healthy  \n",
      "8       0.000018            0.481893       0.007886    towards_healthy  \n",
      "9       0.000372            0.491158       0.007670    towards_healthy  \n",
      "28      0.061248            0.876620       0.007090    towards_healthy  \n",
      "25      0.019220            0.786674       0.006581    towards_healthy  \n",
      "42      3.217692            1.150649       0.006561    towards_healthy  \n",
      "24      0.030266            0.723307       0.006069    towards_healthy  \n",
      "16      0.270241            0.570418       0.006017    towards_healthy  \n",
      "26      0.025719            0.656804       0.005408    towards_healthy  \n",
      "\n",
      "Direction counts:\n",
      " direction\n",
      "away_from_healthy    305\n",
      "towards_healthy      266\n",
      "Name: count, dtype: int64\n"
     ]
    }
   ],
   "source": [
    "from sklearn.ensemble import RandomForestClassifier\n",
    "\n",
    "# 1. Train Healthy vs Sick model\n",
    "X = pd.concat([healthy_left_hindlimb_features_df, sick_left_hindlimb_features_df])\n",
    "y = [0] * len(healthy_left_hindlimb_features_df) + [1] * len(sick_left_hindlimb_features_df)  # 0=Healthy, 1=Sick\n",
    "\n",
    "rf = RandomForestClassifier(n_estimators=500, random_state=42)\n",
    "rf.fit(X, y)\n",
    "\n",
    "importances = pd.Series(rf.feature_importances_, index=X.columns).sort_values(ascending=False)\n",
    "\n",
    "# 2. For each top feature, check treatment direction\n",
    "\n",
    "number_features = 50\n",
    "\n",
    "rows = []\n",
    "for col in importances.index:\n",
    "    h = healthy_left_hindlimb_features_df[col].dropna()\n",
    "    s = sick_left_hindlimb_features_df[col].dropna()\n",
    "    t = treatment_left_hindlimb_features_df[col].dropna()\n",
    "\n",
    "    if len(h) < 2 or len(s) < 2 or len(t) == 0:\n",
    "        continue  # skip if no variance or insufficient samples\n",
    "\n",
    "    d_sick = abs(s.mean() - h.mean())\n",
    "    d_treat = abs(t.mean() - h.mean())\n",
    "\n",
    "    # Pooled std for Healthy vs Sick\n",
    "    pooled_std = np.sqrt(((len(h)-1)*h.var() + (len(s)-1)*s.var()) / (len(h) + len(s) - 2))\n",
    "\n",
    "    if pooled_std == 0:\n",
    "        change_effect_size = np.nan\n",
    "    else:\n",
    "        change_effect_size = (d_sick - d_treat) / pooled_std\n",
    "\n",
    "    rows.append((col, importances[col], d_sick - d_treat, change_effect_size))\n",
    "\n",
    "res_df = pd.DataFrame(rows, columns=[\"feature\", \"importance\", \"change_score\", \"change_effect_size\"])\n",
    "\n",
    "# Step 3: Sort by combined score\n",
    "res_df[\"combined_rank\"] = res_df[\"importance\"] * res_df[\"change_effect_size\"].abs()\n",
    "res_df = res_df.sort_values(\"combined_rank\", ascending=False)\n",
    "\n",
    "# Optional: add a label for direction\n",
    "res_df[\"direction\"] = res_df[\"change_effect_size\"].apply(lambda x: \"towards_healthy\" if x > 0 else \"away_from_healthy\" if x < 0 else \"no_change\")\n",
    "\n",
    "print(res_df.head(20))  # top 20 most important + largest shift\n",
    "print(\"\\nDirection counts:\\n\", res_df[\"direction\"].value_counts())\n",
    "\n",
    "## export results to CSV\n",
    "res_df.to_csv(os.path.join('./', 'feature_change_analysis_with_at.csv'), index=False)"
   ]
  },
  {
   "cell_type": "code",
   "execution_count": 21,
   "id": "bdfd310f",
   "metadata": {},
   "outputs": [
    {
     "data": {
      "application/vnd.plotly.v1+json": {
       "config": {
        "plotlyServerURL": "https://plot.ly"
       },
       "data": [
        {
         "customdata": [
          [
           "Mean angle excursion - rhindlimb - ankle (°)",
           0.02474841994841699
          ],
          [
           "Mean step jerk Y at peak - lHindfingers (m/s^3)",
           0.015748778485532196
          ],
          [
           "Mean phase excursion - rhindlimb - ankle (°)",
           0.01049995349437063
          ],
          [
           "Mean step jerk Y at peak - ankle (m/s^3)",
           0.0034235271128068238
          ],
          [
           "Mean angle at swing - rhindlimb - lHindfingers (°)_cos",
           0.002642838919841254
          ],
          [
           "Mean phase at swing - rhindlimb - lHindpaw (°)_sin",
           0.0022435862308011916
          ],
          [
           "Mean step velocity Y at peak - ankle (m/s)",
           0.0019833118789855794
          ],
          [
           "Mean phase during stance - rhindlimb - lHindpaw (°)_sin",
           0.0017429686147597135
          ],
          [
           "Mean angle during swing - rhindlimb - lHindfingers (°)_cos",
           0.0016980981308439122
          ],
          [
           "Mean phase value - rhindlimb - lHindpaw (°)_sin",
           0.0014970023224003541
          ],
          [
           "Mean angle at peak - rhindlimb - knee (°)_cos",
           0.0014931994273762116
          ],
          [
           "Mean angle at swing - rhindlimb - lHindfingers (°)_sin",
           0.0014761021381206035
          ],
          [
           "Mean step jerk Y at peak - lHindpaw (m/s^3)",
           0.001431626571714241
          ],
          [
           "Mean angle during stance - rhindlimb - lHindfingers (°)_sin",
           0.0013304654894879442
          ],
          [
           "Mean angle during swing - rhindlimb - lHindfingers (°)_sin",
           0.0013132805614817918
          ],
          [
           "Mean angle during stance - rhindlimb - lHindfingers (°)_cos",
           0.0012860389817955196
          ],
          [
           "Mean angle value - rhindlimb - ankle (°)_sin",
           0.0012714855388500808
          ],
          [
           "Mean angle at swing - rhindlimb - ankle (°)_cos",
           0.0012172192791888835
          ],
          [
           "Mean angle value - rhindlimb - lHindfingers (°)_cos",
           0.0011564616548192888
          ],
          [
           "Mean phase at swing - rhindlimb - ankle (°)_cos",
           0.0011303601535991368
          ],
          [
           "Mean step velocity X during stance - lHindpaw (m/s)",
           0.0010796359853398798
          ],
          [
           "Mean phase at swing - rhindlimb - ankle (°)_sin",
           0.0009729938002533654
          ],
          [
           "Mean step jerk Y at swing - ankle (m/s^3)",
           0.000910214818906022
          ],
          [
           "Mean step velocity X during stance - lHindfingers (m/s)",
           0.0009026039151076418
          ],
          [
           "Mean angle at peak - rhindlimb - lHindfingers (°)_sin",
           0.0008809688389172911
          ],
          [
           "Mean angle excursion - rhindlimb - lHindfingers (°)",
           0.0008750088887281813
          ],
          [
           "Mean phase velocity at stance - rhindlimb - knee (rad/s)_cos",
           0.0008638980185337224
          ],
          [
           "Mean angle at peak - rhindlimb - lHindfingers (°)_cos",
           0.000862604536557279
          ],
          [
           "Mean step velocity Y at peak - lHindfingers (m/s)",
           0.0007838502045175514
          ],
          [
           "Mean angle during swing - rhindlimb - ankle (°)_cos",
           0.000769491397245144
          ],
          [
           "Mean phase at peak - rhindlimb - lHindpaw (°)_sin",
           0.0007688889699457919
          ],
          [
           "Mean phase during swing - rhindlimb - lHindpaw (°)_sin",
           0.0007659662311799775
          ],
          [
           "Mean step velocity Y at swing - ankle (m/s)",
           0.0007651242034691037
          ],
          [
           "Mean step acceleration Y at swing - lHindpaw (m/s^2)",
           0.0007647286468660925
          ],
          [
           "Mean angle at peak - rhindlimb - ankle (°)_cos",
           0.0007534160392773086
          ],
          [
           "Mean angle at peak - rhindlimb - ankle (°)_sin",
           0.0007164946934047722
          ],
          [
           "Mean phase at peak - rhindlimb - hip (°)_cos",
           0.0007068765855574598
          ],
          [
           "Mean phase acceleration during swing - rhindlimb - ankle (rad/s^2)_sin",
           0.0007053427280578022
          ],
          [
           "Mean phase acceleration during swing - rhindlimb - hip (rad/s^2)_cos",
           0.0007005015785142377
          ],
          [
           "Mean phase at peak - rhindlimb - lHindpaw (°)_cos",
           0.0006876924584599493
          ],
          [
           "Mean step acceleration X at touchdown - knee (m/s^2)",
           0.0006274250791112951
          ],
          [
           "Mean angle acceleration during stance - rhindlimb - knee (rad/s^2)_cos",
           0.000619262786774423
          ],
          [
           "Mean angle value - rhindlimb - lHindfingers (°)_sin",
           0.0006137033842256999
          ],
          [
           "Mean angle during swing - rhindlimb - knee (°)_cos",
           0.0006049231559295576
          ],
          [
           "Mean angle velocity at stance - rhindlimb - hip (rad/s)_sin",
           0.0006022862645534883
          ],
          [
           "Mean phase during swing - rhindlimb - lHindpaw (°)_cos",
           0.0006000673958153967
          ],
          [
           "Mean step jerk Y during swing - knee (m/s^3)",
           0.0005992673730025176
          ],
          [
           "Mean angle value - rhindlimb - knee (°)_cos",
           0.0005988410132474717
          ],
          [
           "Mean angle during swing - rhindlimb - ankle (°)_sin",
           0.0005856552263001412
          ],
          [
           "Mean step acceleration X at peak - lHindfingers (m/s^2)",
           0.0005679750968897
          ],
          [
           "Mean phase velocity during swing - rhindlimb - lHindpaw (rad/s)_cos",
           0.0005628853450971325
          ],
          [
           "Mean angle value - rhindlimb - ankle (°)_cos",
           0.0005186146695712909
          ],
          [
           "Mean angle at peak - rhindlimb - hip (°)_sin",
           0.0005037854278252114
          ],
          [
           "Mean step velocity Y at stance - lHindpaw (m/s)",
           0.0005019666312363942
          ],
          [
           "Mean step jerk Y during swing - ankle (m/s^3)",
           0.00048242337328248635
          ],
          [
           "Mean step velocity X during stance - knee (m/s)",
           0.0004799627502420357
          ],
          [
           "Mean angle acceleration at peak - rhindlimb - ankle (rad/s^2)_cos",
           0.00046891064072780036
          ],
          [
           "Mean angle acceleration at stance - rhindlimb - lHindfingers (rad/s^2)_cos",
           0.00046847744119364615
          ],
          [
           "Mean phase value - rhindlimb - ankle (°)_sin",
           0.0004675745755449349
          ],
          [
           "Mean angle acceleration - rhindlimb - lHindfingers (rad/s^2)_cos",
           0.0004503836081781987
          ],
          [
           "Mean step length (m)",
           0.0004286818626854795
          ],
          [
           "Mean angle at peak - rhindlimb - hip (°)_cos",
           0.0004277565663129089
          ],
          [
           "Mean angle acceleration at peak - rhindlimb - lHindpaw (rad/s^2)_cos",
           0.00041763735322315445
          ],
          [
           "Mean angle acceleration at stance - rhindlimb - lHindfingers (rad/s^2)_sin",
           0.000414836667044823
          ],
          [
           "Mean step acceleration Y during swing - hip (m/s^2)",
           0.0004143439546953536
          ],
          [
           "Mean angle velocity during swing - rhindlimb - ankle (rad/s)_cos",
           0.0003911020091551076
          ],
          [
           "Mean phase acceleration at swing - rhindlimb - hip (rad/s^2)_cos",
           0.00038258369378744056
          ],
          [
           "Mean step jerk Y during stance - knee (m/s^3)",
           0.0003644611606447654
          ],
          [
           "Mean step jerk Y during stance - ankle (m/s^3)",
           0.00035682615763139316
          ],
          [
           "Mean angle acceleration at touchdown - rhindlimb - ankle (rad/s^2)_sin",
           0.0003534293240759306
          ],
          [
           "Mean phase excursion - rhindlimb - lHindpaw (°)",
           0.00034879480513497294
          ],
          [
           "Mean step velocity X during stance - ankle (m/s)",
           0.0003359031181842788
          ],
          [
           "Mean phase at peak - rhindlimb - ankle (°)_sin",
           0.0003331253463282117
          ],
          [
           "Mean angle acceleration at touchdown - rhindlimb - lHindpaw (rad/s^2)_sin",
           0.00033063310882894563
          ],
          [
           "Mean phase value - rhindlimb - hip (°)_cos",
           0.0003296405500693133
          ],
          [
           "Mean step jerk Y at stance - lHindpaw (m/s^3)",
           0.0003267856489762387
          ],
          [
           "Mean angle acceleration during swing - rhindlimb - hip (rad/s^2)_cos",
           0.0003241478618794557
          ],
          [
           "Mean angle excursion - rhindlimb - hip (°)",
           0.0003227259470833048
          ],
          [
           "Mean angle at swing - rhindlimb - hip (°)_cos",
           0.0003099713089284353
          ],
          [
           "Mean step jerk X at peak - ankle (m/s^3)",
           0.0003034515157950432
          ],
          [
           "Mean step jerk Y during swing - hip (m/s^3)",
           0.0002957258439640265
          ],
          [
           "Mean phase velocity during stance - rhindlimb - knee (rad/s)_cos",
           0.0002910702132606549
          ],
          [
           "Mean angle during swing - rhindlimb - hip (°)_sin",
           0.00028990856195285774
          ],
          [
           "Mean step acceleration X at touchdown - lHindfingers (m/s^2)",
           0.00028003417632922723
          ],
          [
           "Mean phase velocity during swing - rhindlimb - ankle (rad/s)_sin",
           0.0002776586908117183
          ],
          [
           "Mean step acceleration X at touchdown - hip (m/s^2)",
           0.00026796020989105205
          ],
          [
           "Mean phase during swing - rhindlimb - ankle (°)_cos",
           0.0002671572195434942
          ],
          [
           "Mean phase at peak - rhindlimb - hip (°)_sin",
           0.0002600754067571921
          ],
          [
           "Mean phase acceleration - rhindlimb - knee (rad/s^2)_sin",
           0.00025617009681183384
          ],
          [
           "Mean step velocity X at stance - ankle (m/s)",
           0.0002553945918925962
          ],
          [
           "Mean phase during swing - rhindlimb - knee (°)_cos",
           0.0002542782842776277
          ],
          [
           "Mean step velocity Y at swing - hip (m/s)",
           0.00024553775347606506
          ],
          [
           "Mean angle excursion - rhindlimb - lHindpaw (°)",
           0.00024499833922494074
          ],
          [
           "Mean angle value - rhindlimb - hip (°)_cos",
           0.0002421284926314053
          ],
          [
           "Mean angle acceleration at stance - rhindlimb - knee (rad/s^2)_sin",
           0.0002370335467662571
          ],
          [
           "Mean angle during stance - rhindlimb - ankle (°)_cos",
           0.00022881870581093706
          ],
          [
           "Mean step acceleration Y at stance - knee (m/s^2)",
           0.0002258439084383051
          ],
          [
           "Mean step jerk X at swing - knee (m/s^3)",
           0.00022515741434446033
          ],
          [
           "Mean phase excursion - rhindlimb - hip (°)",
           0.00021792922125335364
          ],
          [
           "Mean step acceleration Y at swing - ankle (m/s^2)",
           0.00021626020461034738
          ],
          [
           "Mean step acceleration X at swing - knee (m/s^2)",
           0.00021555157771752372
          ],
          [
           "Mean angle during stance - rhindlimb - ankle (°)_sin",
           0.00020875047190182887
          ],
          [
           "Mean phase acceleration at peak - rhindlimb - lHindpaw (rad/s^2)_sin",
           0.00020728878296112662
          ],
          [
           "Mean step jerk Y during swing - lHindpaw (m/s^3)",
           0.0002062308724773519
          ],
          [
           "Mean phase velocity at peak - rhindlimb - ankle (rad/s)_cos",
           0.00020059228758005892
          ],
          [
           "Mean angle acceleration during swing - rhindlimb - knee (rad/s^2)_sin",
           0.00019805947043558257
          ],
          [
           "Mean step acceleration X at peak - hip (m/s^2)",
           0.0001950542682988211
          ],
          [
           "Mean step velocity X at stance - knee (m/s)",
           0.00019303150207561538
          ],
          [
           "Mean phase velocity during stance - rhindlimb - ankle (rad/s)_sin",
           0.0001921657033521978
          ],
          [
           "Mean phase acceleration at touchdown - rhindlimb - knee (rad/s^2)_cos",
           0.00018901195064501596
          ],
          [
           "Mean angle at swing - rhindlimb - hip (°)_sin",
           0.00018811116042276245
          ],
          [
           "Mean step velocity X at touchdown - ankle (m/s)",
           0.00018525251521187588
          ],
          [
           "Mean step jerk Y at swing - lHindpaw (m/s^3)",
           0.00017922909815995975
          ],
          [
           "Mean angle at swing - rhindlimb - knee (°)_cos",
           0.00017663065164295525
          ],
          [
           "Mean step velocity Y during swing - ankle (m/s)",
           0.00017365552415007392
          ],
          [
           "Mean phase during swing - rhindlimb - knee (°)_sin",
           0.00016734862537069064
          ],
          [
           "Mean angle acceleration at swing - rhindlimb - hip (rad/s^2)_cos",
           0.00016520096728472685
          ],
          [
           "Mean phase during stance - rhindlimb - lHindpaw (°)_cos",
           0.0001630168740477427
          ],
          [
           "Mean angle during swing - rhindlimb - hip (°)_cos",
           0.000162119482215372
          ],
          [
           "Mean phase velocity during swing - rhindlimb - knee (rad/s)_sin",
           0.00015874509461894025
          ],
          [
           "Mean angle acceleration during swing - rhindlimb - ankle (rad/s^2)_sin",
           0.00015584800348144987
          ],
          [
           "Mean phase acceleration during swing - rhindlimb - ankle (rad/s^2)_cos",
           0.00014810832616585505
          ],
          [
           "Mean phase at peak - rhindlimb - ankle (°)_cos",
           0.00014380026872772258
          ],
          [
           "Mean angle acceleration at swing - rhindlimb - lHindpaw (rad/s^2)_cos",
           0.00014136290784344405
          ],
          [
           "Mean step acceleration X at stance - lHindpaw (m/s^2)",
           0.0001411150836434335
          ],
          [
           "Mean phase at swing - rhindlimb - lHindpaw (°)_cos",
           0.000140658343472781
          ],
          [
           "Mean phase acceleration at swing - rhindlimb - lHindpaw (rad/s^2)_sin",
           0.00014011387147790124
          ],
          [
           "Mean angle velocity during stance - rhindlimb - ankle (rad/s)_cos",
           0.00013574850227333703
          ],
          [
           "Mean angle velocity during stance - rhindlimb - knee (rad/s)_sin",
           0.00013501065081672904
          ],
          [
           "Mean step jerk Y at touchdown - ankle (m/s^3)",
           0.00013161544564235057
          ],
          [
           "Mean angle velocity during stance - rhindlimb - lHindfingers (rad/s)_sin",
           0.00013011575314230445
          ],
          [
           "Mean phase during swing - rhindlimb - ankle (°)_sin",
           0.00012932371956329315
          ],
          [
           "Mean angle during swing - rhindlimb - knee (°)_sin",
           0.00012857135729228418
          ],
          [
           "Mean phase acceleration at stance - rhindlimb - lHindpaw (rad/s^2)_cos",
           0.0001266649838618034
          ],
          [
           "Mean step velocity Y at peak - knee (m/s)",
           0.00012532327211717799
          ],
          [
           "Mean step velocity Y at swing - lHindpaw (m/s)",
           0.00012345698978749557
          ],
          [
           "Mean phase acceleration at peak - rhindlimb - lHindpaw (rad/s^2)_cos",
           0.00012254425853875213
          ],
          [
           "Mean angle velocity during swing - rhindlimb - ankle (rad/s)_sin",
           0.00012174494313016428
          ],
          [
           "Mean angle velocity at swing - rhindlimb - lHindpaw (rad/s)_sin",
           0.00011696767750741559
          ],
          [
           "Mean step velocity Y at touchdown - hip (m/s)",
           0.00011696383918970264
          ],
          [
           "Mean angle acceleration at swing - rhindlimb - lHindfingers (rad/s^2)_sin",
           0.0001165988667825972
          ],
          [
           "Mean angle acceleration - rhindlimb - lHindfingers (rad/s^2)_sin",
           0.00011642882275745912
          ],
          [
           "Mean step jerk Y at peak - knee (m/s^3)",
           0.00011537335427187102
          ],
          [
           "Mean angle acceleration at peak - rhindlimb - lHindpaw (rad/s^2)_sin",
           0.00011493205575312345
          ],
          [
           "Mean step jerk X at swing - hip (m/s^3)",
           0.00011400386933608489
          ],
          [
           "Mean angle velocity at stance - rhindlimb - lHindfingers (rad/s)_sin",
           0.00011218954222820944
          ],
          [
           "Mean step acceleration X at stance - ankle (m/s^2)",
           0.00011217389267826651
          ],
          [
           "Mean phase value - rhindlimb - hip (°)_sin",
           0.00010120347847899715
          ],
          [
           "Mean step velocity Y during swing - lHindpaw (m/s)",
           0.00010068960220814434
          ],
          [
           "Mean phase acceleration at swing - rhindlimb - ankle (rad/s^2)_cos",
           0.00009994490666108795
          ],
          [
           "Mean angle velocity at swing - rhindlimb - ankle (rad/s)_sin",
           0.00009975113868453406
          ],
          [
           "Mean phase velocity during stance - rhindlimb - lHindpaw (rad/s)_cos",
           0.00009938163293940994
          ],
          [
           "Mean step acceleration X at touchdown - lHindpaw (m/s^2)",
           0.00009857453472704697
          ],
          [
           "Mean angle velocity at peak - rhindlimb - hip (rad/s)_cos",
           0.00009832371878945236
          ],
          [
           "Mean phase velocity at peak - rhindlimb - knee (rad/s)_sin",
           0.0000970349451145465
          ],
          [
           "Mean phase velocity at swing - rhindlimb - ankle (rad/s)_sin",
           0.00009535921199490237
          ],
          [
           "Mean step acceleration Y during stance - hip (m/s^2)",
           0.00009401992821758749
          ],
          [
           "Mean angle velocity at touchdown - rhindlimb - lHindpaw (rad/s)_cos",
           0.00009268776566856498
          ],
          [
           "Mean step jerk Y at stance - hip (m/s^3)",
           0.00009116038232522283
          ],
          [
           "Mean step jerk X during swing - knee (m/s^3)",
           0.00008880376770384598
          ],
          [
           "Mean angle acceleration during stance - rhindlimb - lHindfingers (rad/s^2)_cos",
           0.00008511605686802466
          ],
          [
           "Mean angle acceleration - rhindlimb - knee (rad/s^2)_cos",
           0.00008441359287929051
          ],
          [
           "Mean step jerk X at peak - lHindfingers (m/s^3)",
           0.00008431550885612557
          ],
          [
           "Mean phase at swing - rhindlimb - hip (°)_cos",
           0.00008247313850714168
          ],
          [
           "Mean angle acceleration during swing - rhindlimb - ankle (rad/s^2)_cos",
           0.00007955357192010659
          ],
          [
           "Mean angle at swing - rhindlimb - knee (°)_sin",
           0.00007886806431322111
          ],
          [
           "Mean phase at peak - rhindlimb - knee (°)_sin",
           0.00007813656620423192
          ],
          [
           "Mean angle velocity during stance - rhindlimb - hip (rad/s)_sin",
           0.00007768051442165068
          ],
          [
           "Mean step acceleration Y at touchdown - hip (m/s^2)",
           0.00007573850700351933
          ],
          [
           "Mean phase velocity during swing - rhindlimb - ankle (rad/s)_cos",
           0.00007455963899043504
          ],
          [
           "Mean phase at swing - rhindlimb - hip (°)_sin",
           0.00007410371632594561
          ],
          [
           "Mean phase velocity at touchdown - rhindlimb - ankle (rad/s)_sin",
           0.00007075909031427558
          ],
          [
           "Mean phase velocity at peak - rhindlimb - lHindpaw (rad/s)_sin",
           0.00006959007145533586
          ],
          [
           "Mean step velocity X at peak - hip (m/s)",
           0.00006800136754774764
          ],
          [
           "Mean step acceleration X at touchdown - ankle (m/s^2)",
           0.00006318079326237406
          ],
          [
           "Mean step jerk X at stance - hip (m/s^3)",
           0.00006008265004727449
          ],
          [
           "Mean angle velocity at touchdown - rhindlimb - lHindfingers (rad/s)_sin",
           0.00006002214690588704
          ],
          [
           "Mean angle velocity at touchdown - rhindlimb - lHindfingers (rad/s)_cos",
           0.000058849945215833424
          ],
          [
           "Mean phase value - rhindlimb - ankle (°)_cos",
           0.00005871116548820039
          ],
          [
           "Mean phase during swing - rhindlimb - hip (°)_sin",
           0.00005799773197169556
          ],
          [
           "Mean phase velocity at peak - rhindlimb - lHindpaw (rad/s)_cos",
           0.00005635590924101842
          ],
          [
           "Mean step jerk X during swing - hip (m/s^3)",
           0.000056267421417681284
          ],
          [
           "Mean angle acceleration during stance - rhindlimb - lHindpaw (rad/s^2)_sin",
           0.00005439677647171943
          ],
          [
           "Mean angle acceleration at peak - rhindlimb - lHindfingers (rad/s^2)_sin",
           0.0000525131792596969
          ],
          [
           "Mean angle velocity at swing - rhindlimb - hip (rad/s)_sin",
           0.000051693482767551685
          ],
          [
           "Mean phase during stance - rhindlimb - ankle (°)_cos",
           0.0000516314247600988
          ],
          [
           "Mean phase acceleration at stance - rhindlimb - hip (rad/s^2)_cos",
           0.00004997961178593974
          ],
          [
           "Mean angle velocity at peak - rhindlimb - lHindfingers (rad/s)_cos",
           0.00004753417672900229
          ],
          [
           "Mean step jerk X during swing - lHindfingers (m/s^3)",
           0.00004718239388766588
          ],
          [
           "Mean step jerk Y at swing - knee (m/s^3)",
           0.000046646244844346776
          ],
          [
           "Mean angle velocity during swing - rhindlimb - lHindpaw (rad/s)_cos",
           0.000046284745093431655
          ],
          [
           "Mean phase during swing - rhindlimb - hip (°)_cos",
           0.0000459514397275234
          ],
          [
           "Mean step velocity Y at swing - knee (m/s)",
           0.0000446505548887089
          ],
          [
           "Mean step acceleration X at peak - ankle (m/s^2)",
           0.0000423063453712798
          ],
          [
           "Mean phase velocity during stance - rhindlimb - ankle (rad/s)_cos",
           0.000041425478224021503
          ],
          [
           "Mean step velocity X at touchdown - lHindpaw (m/s)",
           0.00004114343300032019
          ],
          [
           "Mean step jerk Y at swing - lHindfingers (m/s^3)",
           0.0000367761823812595
          ],
          [
           "Mean angle acceleration at peak - rhindlimb - lHindfingers (rad/s^2)_cos",
           0.0000353722678611906
          ],
          [
           "Mean angle acceleration at swing - rhindlimb - knee (rad/s^2)_cos",
           0.000034490266858729155
          ],
          [
           "Mean angle velocity - rhindlimb - lHindfingers (rad/s)_cos",
           0.00003305356250902192
          ],
          [
           "Mean phase acceleration at swing - rhindlimb - knee (rad/s^2)_sin",
           0.00002951430368924528
          ],
          [
           "Mean step velocity X at stance - lHindpaw (m/s)",
           0.000029040764309197525
          ],
          [
           "Mean phase velocity at stance - rhindlimb - lHindpaw (rad/s)_cos",
           0.00002892720402288007
          ],
          [
           "Mean angle acceleration at stance - rhindlimb - hip (rad/s^2)_cos",
           0.00002838348323654399
          ],
          [
           "Mean angle velocity at swing - rhindlimb - lHindfingers (rad/s)_cos",
           0.00002559696340218699
          ],
          [
           "Mean angle velocity at touchdown - rhindlimb - lHindpaw (rad/s)_sin",
           0.000023245140834298073
          ],
          [
           "Mean step velocity X during swing - lHindpaw (m/s)",
           0.000021354301804779077
          ],
          [
           "Mean phase acceleration - rhindlimb - ankle (rad/s^2)_cos",
           0.000019955811074326368
          ],
          [
           "Mean phase acceleration - rhindlimb - hip (rad/s^2)_sin",
           0.000019944285238749867
          ],
          [
           "Mean step velocity Y during swing - knee (m/s)",
           0.00001857027149980566
          ],
          [
           "Mean angle value - rhindlimb - knee (°)_sin",
           0.000018384893831760003
          ],
          [
           "Mean angle velocity during stance - rhindlimb - lHindpaw (rad/s)_sin",
           0.000018340057917926223
          ],
          [
           "Mean phase at swing - rhindlimb - knee (°)_cos",
           0.00001831731183475668
          ],
          [
           "Mean step velocity Y during stance - lHindfingers (m/s)",
           0.00001830567535091436
          ],
          [
           "Mean angle acceleration - rhindlimb - ankle (rad/s^2)_sin",
           0.000017865757412048085
          ],
          [
           "Mean angle acceleration at swing - rhindlimb - ankle (rad/s^2)_sin",
           0.000016759588129194217
          ],
          [
           "Mean step velocity X at stance - lHindfingers (m/s)",
           0.000015769227146916474
          ],
          [
           "Mean phase velocity - rhindlimb - knee (rad/s)_cos",
           0.000015561819022194055
          ],
          [
           "Mean step acceleration X during swing - hip (m/s^2)",
           0.000015358925106079897
          ],
          [
           "Mean angle at swing - rhindlimb - ankle (°)_sin",
           0.000015159496918801514
          ],
          [
           "Mean step acceleration X during swing - knee (m/s^2)",
           0.000013482799315767679
          ],
          [
           "Mean step jerk X at touchdown - hip (m/s^3)",
           0.00001332630671699362
          ],
          [
           "Mean angle velocity at touchdown - rhindlimb - knee (rad/s)_cos",
           0.000012687935706144817
          ],
          [
           "Mean phase acceleration - rhindlimb - lHindpaw (rad/s^2)_sin",
           0.000012171327314458505
          ],
          [
           "Mean phase acceleration at touchdown - rhindlimb - ankle (rad/s^2)_sin",
           0.000011983109688760266
          ],
          [
           "Mean angle acceleration at swing - rhindlimb - hip (rad/s^2)_sin",
           0.000010965912109358141
          ],
          [
           "Mean angle acceleration at swing - rhindlimb - lHindfingers (rad/s^2)_cos",
           0.000010266952087675041
          ],
          [
           "Mean phase acceleration during swing - rhindlimb - lHindpaw (rad/s^2)_sin",
           0.00000981116339477554
          ],
          [
           "Mean step acceleration Y at peak - lHindfingers (m/s^2)",
           0.000009751543698114244
          ],
          [
           "Mean angle at stance - rhindlimb - knee (°)_cos",
           0.000008119628613210003
          ],
          [
           "Mean angle velocity at stance - rhindlimb - ankle (rad/s)_sin",
           0.000006614120715927877
          ],
          [
           "Mean phase velocity during stance - rhindlimb - lHindpaw (rad/s)_sin",
           0.000005903071871205872
          ],
          [
           "Mean angle acceleration at peak - rhindlimb - knee (rad/s^2)_sin",
           0.000005210516553031744
          ],
          [
           "Mean step velocity X during swing - ankle (m/s)",
           0.000003899255625355543
          ],
          [
           "Mean angle acceleration at touchdown - rhindlimb - knee (rad/s^2)_cos",
           0.000002160703154465377
          ],
          [
           "Mean phase at swing - rhindlimb - knee (°)_sin",
           0.0000018649305914640968
          ],
          [
           "Mean angle acceleration at stance - rhindlimb - ankle (rad/s^2)_cos",
           0.00000168383962561095
          ],
          [
           "Mean step jerk X at swing - lHindfingers (m/s^3)",
           0.0000012289900632767069
          ],
          [
           "Mean phase acceleration at swing - rhindlimb - hip (rad/s^2)_sin",
           0.000001121753469339917
          ],
          [
           "Mean angle velocity at stance - rhindlimb - lHindpaw (rad/s)_sin",
           9.260158360962172e-7
          ],
          [
           "Mean angle velocity at peak - rhindlimb - ankle (rad/s)_sin",
           0
          ],
          [
           "Mean angle velocity during swing - rhindlimb - hip (rad/s)_sin",
           0
          ],
          [
           "Mean angle velocity during stance - rhindlimb - ankle (rad/s)_sin",
           0
          ],
          [
           "Mean step jerk X during swing - lHindpaw (m/s^3)",
           0
          ],
          [
           "Mean step jerk X at touchdown - knee (m/s^3)",
           0
          ],
          [
           "Mean angle velocity during swing - rhindlimb - lHindpaw (rad/s)_sin",
           0
          ],
          [
           "Mean step velocity Y at stance - lHindfingers (m/s)",
           0
          ],
          [
           "Mean step velocity Y at peak - hip (m/s)",
           0
          ],
          [
           "Mean step velocity Y at touchdown - ankle (m/s)",
           0
          ],
          [
           "Mean step acceleration X during swing - lHindfingers (m/s^2)",
           0
          ],
          [
           "Mean step velocity Y during swing - lHindfingers (m/s)",
           0
          ],
          [
           "Mean step acceleration Y at touchdown - knee (m/s^2)",
           0
          ],
          [
           "Mean step jerk Y at swing - hip (m/s^3)",
           0
          ],
          [
           "Mean angle acceleration - rhindlimb - hip (rad/s^2)_sin",
           0
          ],
          [
           "Mean phase acceleration - rhindlimb - knee (rad/s^2)_cos",
           0
          ],
          [
           "Mean step velocity X during swing - lHindfingers (m/s)",
           0
          ],
          [
           "Mean angle acceleration at touchdown - rhindlimb - knee (rad/s^2)_sin",
           0
          ],
          [
           "Mean step jerk Y at touchdown - lHindfingers (m/s^3)",
           0
          ],
          [
           "Mean angle value - rhindlimb - hip (°)_sin",
           0
          ],
          [
           "Mean phase acceleration during swing - rhindlimb - lHindpaw (rad/s^2)_cos",
           0
          ],
          [
           "Mean angle acceleration during stance - rhindlimb - lHindfingers (rad/s^2)_sin",
           0
          ],
          [
           "Mean phase acceleration during stance - rhindlimb - ankle (rad/s^2)_cos",
           0
          ],
          [
           "Mean phase acceleration during stance - rhindlimb - knee (rad/s^2)_cos",
           0
          ],
          [
           "Mean phase acceleration during stance - rhindlimb - hip (rad/s^2)_cos",
           0
          ],
          [
           "Mean phase value - rhindlimb - lHindpaw (°)_cos",
           0
          ],
          [
           "Mean phase acceleration at swing - rhindlimb - lHindpaw (rad/s^2)_cos",
           0
          ],
          [
           "Mean phase velocity - rhindlimb - lHindpaw (rad/s)_cos",
           0
          ],
          [
           "Mean angle acceleration - rhindlimb - hip (rad/s^2)_cos",
           0
          ],
          [
           "Mean angle acceleration - rhindlimb - ankle (rad/s^2)_cos",
           0
          ],
          [
           "Mean phase velocity during swing - rhindlimb - knee (rad/s)_cos",
           0
          ],
          [
           "Mean step acceleration X at stance - lHindfingers (m/s^2)",
           0
          ],
          [
           "Mean angle acceleration - rhindlimb - lHindpaw (rad/s^2)_cos",
           0
          ],
          [
           "Mean angle velocity at peak - rhindlimb - lHindpaw (rad/s)_sin",
           0
          ],
          [
           "Mean step velocity X at touchdown - lHindfingers (m/s)",
           0
          ],
          [
           "Mean phase velocity at swing - rhindlimb - hip (rad/s)_sin",
           0
          ],
          [
           "Mean phase velocity at peak - rhindlimb - hip (rad/s)_cos",
           0
          ],
          [
           "Mean phase during stance - rhindlimb - ankle (°)_sin",
           0
          ],
          [
           "Mean phase velocity at swing - rhindlimb - lHindpaw (rad/s)_cos",
           0
          ],
          [
           "Mean step velocity X during stance - hip (m/s)",
           0
          ],
          [
           "Mean phase velocity at stance - rhindlimb - hip (rad/s)_sin",
           0
          ],
          [
           "Mean phase velocity at swing - rhindlimb - hip (rad/s)_cos",
           0
          ],
          [
           "Mean phase velocity at stance - rhindlimb - lHindpaw (rad/s)_sin",
           0
          ],
          [
           "Mean angle velocity at swing - rhindlimb - hip (rad/s)_cos",
           0
          ],
          [
           "Mean angle at touchdown - rhindlimb - knee (°)_cos",
           0
          ],
          [
           "Mean step velocity X at peak - lHindpaw (m/s)",
           0
          ],
          [
           "Mean phase velocity at touchdown - rhindlimb - lHindpaw (rad/s)_sin",
           0
          ],
          [
           "Mean phase velocity during stance - rhindlimb - hip (rad/s)_sin",
           0
          ],
          [
           "Mean step velocity X at touchdown - knee (m/s)",
           0
          ],
          [
           "Mean angle velocity at peak - rhindlimb - lHindfingers (rad/s)_sin",
           0
          ],
          [
           "Mean angle velocity at swing - rhindlimb - lHindpaw (rad/s)_cos",
           0
          ],
          [
           "Mean angle velocity at touchdown - rhindlimb - ankle (rad/s)_cos",
           0
          ],
          [
           "Mean angle acceleration during swing - rhindlimb - lHindpaw (rad/s^2)_cos",
           0
          ],
          [
           "Mean phase acceleration at stance - rhindlimb - ankle (rad/s^2)_sin",
           0
          ],
          [
           "Mean phase acceleration at stance - rhindlimb - lHindpaw (rad/s^2)_sin",
           0
          ],
          [
           "Mean angle acceleration during swing - rhindlimb - knee (rad/s^2)_cos",
           0
          ],
          [
           "Mean angle velocity during stance - rhindlimb - knee (rad/s)_cos",
           0
          ],
          [
           "Mean angle acceleration during stance - rhindlimb - hip (rad/s^2)_cos",
           0
          ],
          [
           "Mean phase velocity during swing - rhindlimb - hip (rad/s)_sin",
           0
          ],
          [
           "Mean angle acceleration at touchdown - rhindlimb - lHindpaw (rad/s^2)_cos",
           0
          ],
          [
           "Mean angle velocity during stance - rhindlimb - lHindfingers (rad/s)_cos",
           0
          ],
          [
           "Mean step velocity X at stance - hip (m/s)",
           0
          ],
          [
           "Mean phase acceleration during stance - rhindlimb - ankle (rad/s^2)_sin",
           0
          ],
          [
           "Mean phase excursion - rhindlimb - knee (°)",
           0
          ],
          [
           "Mean angle excursion - rhindlimb - knee (°)",
           0
          ],
          [
           "Mean angle at touchdown - rhindlimb - knee (°)_sin",
           0
          ]
         ],
         "hovertemplate": "direction=away_from_healthy<br>importance=%{x}<br>change_effect_size=%{y}<br>combined_rank=%{customdata[1]}<br>feature=%{customdata[0]}<extra></extra>",
         "legendgroup": "away_from_healthy",
         "marker": {
          "color": "red",
          "size": {
           "bdata": "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",
           "dtype": "f8"
          },
          "sizemode": "area",
          "sizeref": 0.00006187104987104248,
          "symbol": "circle"
         },
         "mode": "markers",
         "name": "away_from_healthy",
         "orientation": "v",
         "showlegend": true,
         "type": "scatter",
         "x": {
          "bdata": "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",
          "dtype": "f8"
         },
         "xaxis": "x",
         "y": {
          "bdata": "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",
          "dtype": "f8"
         },
         "yaxis": "y"
        },
        {
         "customdata": [
          [
           "Mean angle at touchdown - rhindlimb - lHindfingers (°)_cos",
           0.023620459976225094
          ],
          [
           "Mean angle at touchdown - rhindlimb - lHindfingers (°)_sin",
           0.01946974135388286
          ],
          [
           "Mean step acceleration Y at touchdown - ankle (m/s^2)",
           0.01834756647156518
          ],
          [
           "Mean angle at stance - rhindlimb - lHindpaw (°)_sin",
           0.012820587777311704
          ],
          [
           "Mean angle value - rhindlimb - lHindpaw (°)_sin",
           0.012690687490330208
          ],
          [
           "Mean step acceleration Y at touchdown - lHindfingers (m/s^2)",
           0.01215103882665555
          ],
          [
           "Mean angle at stance - rhindlimb - lHindpaw (°)_cos",
           0.009609449715330301
          ],
          [
           "Mean step acceleration Y during stance - knee (m/s^2)",
           0.008893188025664302
          ],
          [
           "Mean phase at touchdown - rhindlimb - lHindpaw (°)_cos",
           0.0083799130373474
          ],
          [
           "Mean angle during swing - rhindlimb - lHindpaw (°)_cos",
           0.007886121952473553
          ],
          [
           "Mean angle during swing - rhindlimb - lHindpaw (°)_sin",
           0.007670319651314795
          ],
          [
           "Mean angle at touchdown - rhindlimb - lHindpaw (°)_sin",
           0.007089947535989936
          ],
          [
           "Mean angle value - rhindlimb - lHindpaw (°)_cos",
           0.006580624063910073
          ],
          [
           "Mean step acceleration Y at touchdown - lHindpaw (m/s^2)",
           0.006560768565831271
          ],
          [
           "Mean angle at stance - rhindlimb - hip (°)_cos",
           0.006069340597912113
          ],
          [
           "Mean step acceleration X during stance - ankle (m/s^2)",
           0.00601727559084821
          ],
          [
           "Mean angle velocity - rhindlimb - knee (rad/s)_sin",
           0.00540772149493531
          ],
          [
           "Mean angle during stance - rhindlimb - lHindpaw (°)_cos",
           0.005127966814809148
          ],
          [
           "Mean angle velocity - rhindlimb - knee (rad/s)_cos",
           0.0050266186870349516
          ],
          [
           "Mean angle during stance - rhindlimb - lHindpaw (°)_sin",
           0.004855001304686015
          ],
          [
           "Mean phase at stance - rhindlimb - lHindpaw (°)_cos",
           0.004489826177374312
          ],
          [
           "Mean step acceleration Y at stance - lHindfingers (m/s^2)",
           0.004445220378813799
          ],
          [
           "Mean angle at stance - rhindlimb - lHindfingers (°)_cos",
           0.004377099371859829
          ],
          [
           "Mean phase at stance - rhindlimb - hip (°)_cos",
           0.004351631573319865
          ],
          [
           "Mean step acceleration Y at peak - hip (m/s^2)",
           0.004310857823095659
          ],
          [
           "Mean angle at touchdown - rhindlimb - lHindpaw (°)_cos",
           0.00392105807827004
          ],
          [
           "Mean angle at stance - rhindlimb - hip (°)_sin",
           0.003833308185293895
          ],
          [
           "Mean angle at stance - rhindlimb - lHindfingers (°)_sin",
           0.0036564299547343056
          ],
          [
           "Mean step acceleration X during stance - lHindpaw (m/s^2)",
           0.003349232218606865
          ],
          [
           "Mean step velocity Y during stance - knee (m/s)",
           0.002949361106876475
          ],
          [
           "Mean step velocity Y during stance - lHindpaw (m/s)",
           0.002701169720522315
          ],
          [
           "Mean step jerk Y during stance - lHindfingers (m/s^3)",
           0.002622998286676734
          ],
          [
           "Mean step acceleration Y during swing - ankle (m/s^2)",
           0.00247723252994071
          ],
          [
           "Mean step jerk X at swing - ankle (m/s^3)",
           0.00239481726235303
          ],
          [
           "Mean phase at stance - rhindlimb - lHindpaw (°)_sin",
           0.002261728687961108
          ],
          [
           "Mean phase at stance - rhindlimb - hip (°)_sin",
           0.002026985666210307
          ],
          [
           "Mean step acceleration Y at stance - lHindpaw (m/s^2)",
           0.0019078298089290377
          ],
          [
           "Mean step frequency (Hz)",
           0.001875180502472095
          ],
          [
           "Mean step acceleration Y at swing - hip (m/s^2)",
           0.0016688128830647992
          ],
          [
           "Mean step acceleration Y at stance - ankle (m/s^2)",
           0.0015480175837610842
          ],
          [
           "Mean phase at touchdown - rhindlimb - lHindpaw (°)_sin",
           0.0015461091458417115
          ],
          [
           "Mean phase velocity at swing - rhindlimb - ankle (rad/s)_cos",
           0.001487565651456416
          ],
          [
           "Mean phase at touchdown - rhindlimb - knee (°)_cos",
           0.0013247388038956154
          ],
          [
           "Mean step velocity Y at stance - knee (m/s)",
           0.0012650349206478515
          ],
          [
           "Mean step height (m)",
           0.001259913692673538
          ],
          [
           "Mean phase at stance - rhindlimb - knee (°)_cos",
           0.001143492900668521
          ],
          [
           "Mean phase at stance - rhindlimb - knee (°)_sin",
           0.0011135224903587393
          ],
          [
           "Mean step velocity Y at touchdown - lHindpaw (m/s)",
           0.0010826644762039668
          ],
          [
           "Mean step acceleration Y during stance - ankle (m/s^2)",
           0.0010586431844761708
          ],
          [
           "Mean step acceleration X at swing - ankle (m/s^2)",
           0.00105832104452689
          ],
          [
           "Mean step acceleration Y during swing - lHindpaw (m/s^2)",
           0.001030743744927334
          ],
          [
           "Mean step acceleration Y during stance - lHindpaw (m/s^2)",
           0.0010246432131828737
          ],
          [
           "Mean step velocity X at swing - knee (m/s)",
           0.0010044429700927192
          ],
          [
           "Mean angle velocity - rhindlimb - hip (rad/s)_sin",
           0.0009830686405644276
          ],
          [
           "Mean phase acceleration at peak - rhindlimb - ankle (rad/s^2)_cos",
           0.0009740471725359085
          ],
          [
           "Mean phase at touchdown - rhindlimb - ankle (°)_sin",
           0.0009106396717412343
          ],
          [
           "Mean angle velocity during swing - rhindlimb - knee (rad/s)_cos",
           0.0008018219558278933
          ],
          [
           "Mean phase at stance - rhindlimb - ankle (°)_cos",
           0.0007565522744518124
          ],
          [
           "Mean step acceleration X during stance - knee (m/s^2)",
           0.000744945061779231
          ],
          [
           "Mean phase velocity - rhindlimb - hip (rad/s)_sin",
           0.000703410609971538
          ],
          [
           "Mean step jerk X at peak - hip (m/s^3)",
           0.000677467210697546
          ],
          [
           "Mean step velocity Y during stance - ankle (m/s)",
           0.0006617779924715975
          ],
          [
           "Mean phase acceleration at swing - rhindlimb - ankle (rad/s^2)_sin",
           0.0006359915099611095
          ],
          [
           "Mean phase velocity during stance - rhindlimb - hip (rad/s)_cos",
           0.0006327928181487638
          ],
          [
           "Mean angle at peak - rhindlimb - lHindpaw (°)_sin",
           0.000632550235008882
          ],
          [
           "Mean angle at peak - rhindlimb - lHindpaw (°)_cos",
           0.0006285645012416835
          ],
          [
           "Mean phase velocity - rhindlimb - hip (rad/s)_cos",
           0.0006265086634115071
          ],
          [
           "Mean phase at touchdown - rhindlimb - ankle (°)_cos",
           0.0005943086289435525
          ],
          [
           "Mean phase acceleration during swing - rhindlimb - hip (rad/s^2)_sin",
           0.0005755900047286945
          ],
          [
           "Mean angle at touchdown - rhindlimb - hip (°)_sin",
           0.00055293262196079
          ],
          [
           "Mean angle acceleration at stance - rhindlimb - ankle (rad/s^2)_sin",
           0.0005526154145306775
          ],
          [
           "Mean angle velocity at stance - rhindlimb - knee (rad/s)_sin",
           0.0005513057872770167
          ],
          [
           "Mean angle at touchdown - rhindlimb - ankle (°)_sin",
           0.0005509971563865178
          ],
          [
           "Mean angle during stance - rhindlimb - knee (°)_cos",
           0.0005291393600679119
          ],
          [
           "Mean phase acceleration at touchdown - rhindlimb - knee (rad/s^2)_sin",
           0.0005282847574123947
          ],
          [
           "Mean step velocity X at peak - knee (m/s)",
           0.0005123414989087591
          ],
          [
           "Mean phase value - rhindlimb - knee (°)_cos",
           0.0004554659080727223
          ],
          [
           "Mean angle velocity at swing - rhindlimb - knee (rad/s)_cos",
           0.00043753387453482004
          ],
          [
           "Mean angle velocity at touchdown - rhindlimb - knee (rad/s)_sin",
           0.00043310576058922586
          ],
          [
           "Mean angle velocity during swing - rhindlimb - lHindfingers (rad/s)_sin",
           0.0004301113971632598
          ],
          [
           "Mean angle at touchdown - rhindlimb - hip (°)_cos",
           0.000416375138861073
          ],
          [
           "Mean phase at touchdown - rhindlimb - hip (°)_sin",
           0.0003912647824393056
          ],
          [
           "Mean phase at stance - rhindlimb - ankle (°)_sin",
           0.00037858579021979896
          ],
          [
           "Mean step velocity X at swing - lHindfingers (m/s)",
           0.0003713969721793196
          ],
          [
           "Mean step jerk X at stance - ankle (m/s^3)",
           0.0003712351529739908
          ],
          [
           "Mean phase at touchdown - rhindlimb - hip (°)_cos",
           0.0003578323124727708
          ],
          [
           "Mean step acceleration Y during swing - knee (m/s^2)",
           0.0003455194984170424
          ],
          [
           "Mean angle acceleration during swing - rhindlimb - lHindfingers (rad/s^2)_sin",
           0.0003237321507188451
          ],
          [
           "Mean step jerk Y during swing - lHindfingers (m/s^3)",
           0.00032071309522156564
          ],
          [
           "Mean phase acceleration at stance - rhindlimb - ankle (rad/s^2)_cos",
           0.00031859102933377967
          ],
          [
           "Mean phase velocity at peak - rhindlimb - ankle (rad/s)_sin",
           0.000309864012401448
          ],
          [
           "Mean step jerk Y at peak - hip (m/s^3)",
           0.0003062846525293653
          ],
          [
           "Mean phase during stance - rhindlimb - hip (°)_sin",
           0.0003007064158726823
          ],
          [
           "Mean step velocity Y at peak - lHindpaw (m/s)",
           0.0002976314697577684
          ],
          [
           "Mean step acceleration X at stance - hip (m/s^2)",
           0.0002943050317018854
          ],
          [
           "Mean phase velocity at peak - rhindlimb - hip (rad/s)_sin",
           0.0002913463838479737
          ],
          [
           "Mean phase at touchdown - rhindlimb - knee (°)_sin",
           0.00028631054523466846
          ],
          [
           "Mean step velocity X during swing - hip (m/s)",
           0.0002622710894931792
          ],
          [
           "Mean angle during stance - rhindlimb - hip (°)_sin",
           0.00024981322246401313
          ],
          [
           "Mean angle at swing - rhindlimb - lHindpaw (°)_cos",
           0.0002491923732198983
          ],
          [
           "Mean phase during stance - rhindlimb - knee (°)_cos",
           0.00023913483876464384
          ],
          [
           "Mean step velocity X at peak - lHindfingers (m/s)",
           0.0002368034799931085
          ],
          [
           "Mean phase acceleration during stance - rhindlimb - lHindpaw (rad/s^2)_sin",
           0.0002367603042618137
          ],
          [
           "Mean step velocity Y at touchdown - lHindfingers (m/s)",
           0.0002326648591003952
          ],
          [
           "Mean angle velocity at swing - rhindlimb - ankle (rad/s)_cos",
           0.00021993768352373237
          ],
          [
           "Mean phase acceleration at peak - rhindlimb - hip (rad/s^2)_cos",
           0.00021460240324594972
          ],
          [
           "Mean angle velocity during stance - rhindlimb - hip (rad/s)_cos",
           0.0002063833761711655
          ],
          [
           "Mean phase velocity at swing - rhindlimb - knee (rad/s)_sin",
           0.000198057102114349
          ],
          [
           "Mean angle during stance - rhindlimb - knee (°)_sin",
           0.00019321223083136843
          ],
          [
           "Mean angle velocity at peak - rhindlimb - hip (rad/s)_sin",
           0.00019132942332749633
          ],
          [
           "Mean angle velocity - rhindlimb - lHindfingers (rad/s)_sin",
           0.00018763580662158237
          ],
          [
           "Mean angle velocity - rhindlimb - hip (rad/s)_cos",
           0.0001843774684526512
          ],
          [
           "Mean step acceleration Y at peak - knee (m/s^2)",
           0.0001829974179647234
          ],
          [
           "Mean phase velocity during swing - rhindlimb - hip (rad/s)_cos",
           0.00017698923449395679
          ],
          [
           "Mean step jerk Y at touchdown - lHindpaw (m/s^3)",
           0.00016808610516660038
          ],
          [
           "Mean angle acceleration during swing - rhindlimb - hip (rad/s^2)_sin",
           0.00015909716152105778
          ],
          [
           "Mean step acceleration X during stance - lHindfingers (m/s^2)",
           0.00015688488014134675
          ],
          [
           "Mean angle at peak - rhindlimb - knee (°)_sin",
           0.00015520340278657642
          ],
          [
           "Mean step jerk Y during stance - lHindpaw (m/s^3)",
           0.00015199863988367413
          ],
          [
           "Mean angle acceleration at peak - rhindlimb - ankle (rad/s^2)_sin",
           0.00015189882751043062
          ],
          [
           "Mean step acceleration X at swing - lHindpaw (m/s^2)",
           0.00014969102303237928
          ],
          [
           "Mean step acceleration Y at swing - lHindfingers (m/s^2)",
           0.00014883345219177867
          ],
          [
           "Mean step acceleration X at swing - lHindfingers (m/s^2)",
           0.00014800293565216943
          ],
          [
           "Mean step acceleration Y at peak - lHindpaw (m/s^2)",
           0.00014227269515793258
          ],
          [
           "Mean phase acceleration - rhindlimb - hip (rad/s^2)_cos",
           0.00014029952782678153
          ],
          [
           "Mean step acceleration Y during stance - lHindfingers (m/s^2)",
           0.00013727657462906146
          ],
          [
           "Mean step jerk X at touchdown - lHindfingers (m/s^3)",
           0.00013623030857714397
          ],
          [
           "Mean step jerk Y during stance - hip (m/s^3)",
           0.00013559696166067192
          ],
          [
           "Mean angle velocity at stance - rhindlimb - lHindpaw (rad/s)_cos",
           0.00013226227606693948
          ],
          [
           "Mean step velocity Y at swing - lHindfingers (m/s)",
           0.0001266862535458995
          ],
          [
           "Mean step velocity X at peak - ankle (m/s)",
           0.00011832699478049599
          ],
          [
           "Mean step jerk Y at stance - lHindfingers (m/s^3)",
           0.00011489293081480922
          ],
          [
           "Mean step acceleration Y at swing - knee (m/s^2)",
           0.00011265429841149339
          ],
          [
           "Mean step jerk X at swing - lHindpaw (m/s^3)",
           0.00011127363736410796
          ],
          [
           "Mean phase velocity at touchdown - rhindlimb - hip (rad/s)_sin",
           0.00010619852441588347
          ],
          [
           "Mean step velocity X at touchdown - hip (m/s)",
           0.000105662747226667
          ],
          [
           "Mean angle acceleration at touchdown - rhindlimb - hip (rad/s^2)_cos",
           0.00010558193187224838
          ],
          [
           "Mean step jerk X during stance - hip (m/s^3)",
           0.00010257787319204514
          ],
          [
           "Mean angle velocity at touchdown - rhindlimb - hip (rad/s)_sin",
           0.0001016730077235009
          ],
          [
           "Mean step jerk X at touchdown - ankle (m/s^3)",
           0.00009882377673349862
          ],
          [
           "Mean angle acceleration at touchdown - rhindlimb - lHindfingers (rad/s^2)_sin",
           0.00009798840779259777
          ],
          [
           "Mean step acceleration X during swing - lHindpaw (m/s^2)",
           0.0000978933758786099
          ],
          [
           "Mean angle velocity at peak - rhindlimb - knee (rad/s)_sin",
           0.00009779222557373592
          ],
          [
           "Mean step jerk X at touchdown - lHindpaw (m/s^3)",
           0.00009679390723032749
          ],
          [
           "Mean phase velocity at stance - rhindlimb - knee (rad/s)_sin",
           0.0000941190919946704
          ],
          [
           "Mean phase acceleration at swing - rhindlimb - knee (rad/s^2)_cos",
           0.00009253727194496181
          ],
          [
           "Mean phase acceleration - rhindlimb - lHindpaw (rad/s^2)_cos",
           0.00008473534819454653
          ],
          [
           "Mean step velocity X at swing - ankle (m/s)",
           0.00008425139035480216
          ],
          [
           "Mean step velocity X at swing - lHindpaw (m/s)",
           0.00008241873914533936
          ],
          [
           "Mean step velocity Y at stance - ankle (m/s)",
           0.00008122828625507538
          ],
          [
           "Mean angle during stance - rhindlimb - hip (°)_cos",
           0.00007961392882550258
          ],
          [
           "Mean angle velocity at swing - rhindlimb - knee (rad/s)_sin",
           0.00007722572388633521
          ],
          [
           "Mean angle acceleration during swing - rhindlimb - lHindpaw (rad/s^2)_sin",
           0.00007531256150407652
          ],
          [
           "Mean step acceleration Y at peak - ankle (m/s^2)",
           0.00007435933578319983
          ],
          [
           "Mean angle velocity at peak - rhindlimb - ankle (rad/s)_cos",
           0.00007141277709483325
          ],
          [
           "Mean phase acceleration at touchdown - rhindlimb - hip (rad/s^2)_cos",
           0.00007023621906100958
          ],
          [
           "Mean angle acceleration at stance - rhindlimb - lHindpaw (rad/s^2)_sin",
           0.00006759716509350653
          ],
          [
           "Mean angle velocity during stance - rhindlimb - lHindpaw (rad/s)_cos",
           0.00006080145047662439
          ],
          [
           "Mean phase acceleration at touchdown - rhindlimb - hip (rad/s^2)_sin",
           0.00005990682089556987
          ],
          [
           "Mean step acceleration Y during swing - lHindfingers (m/s^2)",
           0.000056971981751417575
          ],
          [
           "Mean phase velocity - rhindlimb - ankle (rad/s)_cos",
           0.00005618259930869049
          ],
          [
           "Mean angle at stance - rhindlimb - ankle (°)_sin",
           0.00005583382279617593
          ],
          [
           "Mean phase velocity - rhindlimb - ankle (rad/s)_sin",
           0.00005515697426702068
          ],
          [
           "Mean angle acceleration at touchdown - rhindlimb - lHindfingers (rad/s^2)_cos",
           0.00005285911424589533
          ],
          [
           "Mean angle velocity during swing - rhindlimb - lHindfingers (rad/s)_cos",
           0.00005260614749168097
          ],
          [
           "Mean angle acceleration at touchdown - rhindlimb - ankle (rad/s^2)_cos",
           0.00005258397259707795
          ],
          [
           "Mean step jerk X at stance - knee (m/s^3)",
           0.00005234046523882991
          ],
          [
           "Mean phase value - rhindlimb - knee (°)_sin",
           0.000049193507961713566
          ],
          [
           "Mean angle at swing - rhindlimb - lHindpaw (°)_sin",
           0.00004729474354455502
          ],
          [
           "Mean phase velocity - rhindlimb - lHindpaw (rad/s)_sin",
           0.000046363481632906554
          ],
          [
           "Mean step jerk X during stance - ankle (m/s^3)",
           0.000045990096083159826
          ],
          [
           "Mean step jerk X at stance - lHindfingers (m/s^3)",
           0.00004548785615756286
          ],
          [
           "Mean angle velocity at stance - rhindlimb - ankle (rad/s)_cos",
           0.0000451493039374035
          ],
          [
           "Mean angle velocity - rhindlimb - lHindpaw (rad/s)_sin",
           0.00004392668009454073
          ],
          [
           "Mean angle acceleration at peak - rhindlimb - hip (rad/s^2)_cos",
           0.000043797254654151676
          ],
          [
           "Mean phase acceleration during swing - rhindlimb - knee (rad/s^2)_sin",
           0.00003971458145132965
          ],
          [
           "Mean angle acceleration at stance - rhindlimb - knee (rad/s^2)_cos",
           0.000037758218098229154
          ],
          [
           "Mean angle acceleration at touchdown - rhindlimb - hip (rad/s^2)_sin",
           0.000035661999735639735
          ],
          [
           "Mean angle velocity during swing - rhindlimb - hip (rad/s)_cos",
           0.00003481502730289565
          ],
          [
           "Mean step acceleration X at stance - knee (m/s^2)",
           0.00003211139204933529
          ],
          [
           "Mean step jerk Y at stance - knee (m/s^3)",
           0.00003166814856626151
          ],
          [
           "Mean step jerk X during stance - lHindpaw (m/s^3)",
           0.000031559806882900305
          ],
          [
           "Mean step acceleration X at peak - lHindpaw (m/s^2)",
           0.000031401729585204276
          ],
          [
           "Mean angle at stance - rhindlimb - knee (°)_sin",
           0.000030456398200278308
          ],
          [
           "Mean angle velocity - rhindlimb - ankle (rad/s)_sin",
           0.00003007785582454241
          ],
          [
           "Mean step acceleration X at swing - hip (m/s^2)",
           0.000030027183607110133
          ],
          [
           "Mean angle acceleration during swing - rhindlimb - lHindfingers (rad/s^2)_cos",
           0.00002975454130417011
          ],
          [
           "Mean phase velocity at touchdown - rhindlimb - hip (rad/s)_cos",
           0.00002944916772423776
          ],
          [
           "Mean step velocity Y during swing - hip (m/s)",
           0.000028732719681645918
          ],
          [
           "Mean phase acceleration at stance - rhindlimb - hip (rad/s^2)_sin",
           0.00002809185722424579
          ],
          [
           "Mean step acceleration X during swing - ankle (m/s^2)",
           0.000025556298767704774
          ],
          [
           "Mean phase acceleration during swing - rhindlimb - knee (rad/s^2)_cos",
           0.000025200008248225165
          ],
          [
           "Mean angle velocity - rhindlimb - lHindpaw (rad/s)_cos",
           0.0000243076977893206
          ],
          [
           "Mean phase at peak - rhindlimb - knee (°)_cos",
           0.000023495451914265037
          ],
          [
           "Mean angle velocity at swing - rhindlimb - lHindfingers (rad/s)_sin",
           0.000022811428791862754
          ],
          [
           "Mean step acceleration Y at stance - hip (m/s^2)",
           0.000022707140517944683
          ],
          [
           "Mean angle acceleration at peak - rhindlimb - hip (rad/s^2)_sin",
           0.000022529325504915692
          ],
          [
           "Mean phase acceleration at stance - rhindlimb - knee (rad/s^2)_sin",
           0.00002211192390313491
          ],
          [
           "Mean angle acceleration during stance - rhindlimb - knee (rad/s^2)_sin",
           0.000021481659198616317
          ],
          [
           "Mean phase velocity at touchdown - rhindlimb - ankle (rad/s)_cos",
           0.000021213167393163484
          ],
          [
           "Mean step jerk X at stance - lHindpaw (m/s^3)",
           0.000019539070328346496
          ],
          [
           "Mean step velocity X during swing - knee (m/s)",
           0.00001797978878294515
          ],
          [
           "Mean step jerk X during stance - knee (m/s^3)",
           0.000016825960863499012
          ],
          [
           "Mean phase velocity - rhindlimb - knee (rad/s)_sin",
           0.000013693143532045813
          ],
          [
           "Mean phase acceleration at peak - rhindlimb - knee (rad/s^2)_sin",
           0.000012408335465040097
          ],
          [
           "Mean phase during stance - rhindlimb - knee (°)_sin",
           0.000011573014750552866
          ],
          [
           "Mean phase velocity at stance - rhindlimb - ankle (rad/s)_cos",
           0.000011222152854456455
          ],
          [
           "Mean step acceleration X at peak - knee (m/s^2)",
           0.000010337735465216126
          ],
          [
           "Mean phase acceleration at peak - rhindlimb - hip (rad/s^2)_sin",
           0.000008255388560244914
          ],
          [
           "Mean angle velocity at stance - rhindlimb - lHindfingers (rad/s)_cos",
           0.000007487320423732037
          ],
          [
           "Mean angle velocity at touchdown - rhindlimb - hip (rad/s)_cos",
           0.0000070872060006497796
          ],
          [
           "Mean angle acceleration - rhindlimb - knee (rad/s^2)_sin",
           0.000005492264284279396
          ],
          [
           "Mean angle velocity at peak - rhindlimb - lHindpaw (rad/s)_cos",
           0.000003296651921691353
          ],
          [
           "Mean phase acceleration at touchdown - rhindlimb - ankle (rad/s^2)_cos",
           0.0000018715667531771912
          ],
          [
           "Mean angle acceleration at swing - rhindlimb - lHindpaw (rad/s^2)_sin",
           0.0000016794051164662036
          ],
          [
           "Mean step jerk X at peak - lHindpaw (m/s^3)",
           0
          ],
          [
           "Mean angle velocity during swing - rhindlimb - knee (rad/s)_sin",
           0
          ],
          [
           "Mean step velocity Y at stance - hip (m/s)",
           0
          ],
          [
           "Mean step jerk X during swing - ankle (m/s^3)",
           0
          ],
          [
           "Mean step jerk X during stance - lHindfingers (m/s^3)",
           0
          ],
          [
           "Mean step jerk X at peak - knee (m/s^3)",
           0
          ],
          [
           "Mean angle velocity at touchdown - rhindlimb - ankle (rad/s)_sin",
           0
          ],
          [
           "Mean angle acceleration at swing - rhindlimb - knee (rad/s^2)_sin",
           0
          ],
          [
           "Mean angle acceleration at stance - rhindlimb - hip (rad/s^2)_sin",
           0
          ],
          [
           "Mean step velocity Y at touchdown - knee (m/s)",
           0
          ],
          [
           "Mean step velocity Y during stance - hip (m/s)",
           0
          ],
          [
           "Mean phase acceleration - rhindlimb - ankle (rad/s^2)_sin",
           0
          ],
          [
           "Mean angle acceleration - rhindlimb - lHindpaw (rad/s^2)_sin",
           0
          ],
          [
           "Mean step jerk Y at stance - ankle (m/s^3)",
           0
          ],
          [
           "Mean angle acceleration during stance - rhindlimb - ankle (rad/s^2)_sin",
           0
          ],
          [
           "Mean step jerk Y at touchdown - hip (m/s^3)",
           0
          ],
          [
           "Mean step jerk Y at touchdown - knee (m/s^3)",
           0
          ],
          [
           "Mean step acceleration X during stance - hip (m/s^2)",
           0
          ],
          [
           "Mean angle acceleration during stance - rhindlimb - hip (rad/s^2)_sin",
           0
          ],
          [
           "Mean phase acceleration during stance - rhindlimb - lHindpaw (rad/s^2)_cos",
           0
          ],
          [
           "Mean phase acceleration at touchdown - rhindlimb - lHindpaw (rad/s^2)_cos",
           0
          ],
          [
           "Mean angle velocity - rhindlimb - ankle (rad/s)_cos",
           0
          ],
          [
           "Mean phase acceleration at peak - rhindlimb - knee (rad/s^2)_cos",
           0
          ],
          [
           "Mean phase acceleration at stance - rhindlimb - knee (rad/s^2)_cos",
           0
          ],
          [
           "Mean phase velocity at touchdown - rhindlimb - knee (rad/s)_cos",
           0
          ],
          [
           "Mean phase velocity at peak - rhindlimb - knee (rad/s)_cos",
           0
          ],
          [
           "Mean angle at stance - rhindlimb - ankle (°)_cos",
           0
          ],
          [
           "Mean phase velocity at swing - rhindlimb - knee (rad/s)_cos",
           0
          ],
          [
           "Mean phase velocity at stance - rhindlimb - ankle (rad/s)_sin",
           0
          ],
          [
           "Mean angle velocity at peak - rhindlimb - knee (rad/s)_cos",
           0
          ],
          [
           "Mean phase velocity at swing - rhindlimb - lHindpaw (rad/s)_sin",
           0
          ],
          [
           "Mean phase velocity at stance - rhindlimb - hip (rad/s)_cos",
           0
          ],
          [
           "Mean angle at touchdown - rhindlimb - ankle (°)_cos",
           0
          ],
          [
           "Mean phase during stance - rhindlimb - hip (°)_cos",
           0
          ],
          [
           "Mean angle velocity at stance - rhindlimb - hip (rad/s)_cos",
           0
          ],
          [
           "Mean phase velocity at touchdown - rhindlimb - knee (rad/s)_sin",
           0
          ],
          [
           "Mean angle velocity at stance - rhindlimb - knee (rad/s)_cos",
           0
          ],
          [
           "Mean phase velocity during stance - rhindlimb - knee (rad/s)_sin",
           0
          ],
          [
           "Mean phase velocity at touchdown - rhindlimb - lHindpaw (rad/s)_cos",
           0
          ],
          [
           "Mean phase acceleration at peak - rhindlimb - ankle (rad/s^2)_sin",
           0
          ],
          [
           "Mean phase velocity during swing - rhindlimb - lHindpaw (rad/s)_sin",
           0
          ],
          [
           "Mean step velocity X at swing - hip (m/s)",
           0
          ],
          [
           "Mean angle acceleration during stance - rhindlimb - lHindpaw (rad/s^2)_cos",
           0
          ],
          [
           "Mean angle acceleration during stance - rhindlimb - ankle (rad/s^2)_cos",
           0
          ],
          [
           "Mean angle acceleration at peak - rhindlimb - knee (rad/s^2)_cos",
           0
          ],
          [
           "Mean angle acceleration at swing - rhindlimb - ankle (rad/s^2)_cos",
           0
          ],
          [
           "Mean phase acceleration at touchdown - rhindlimb - lHindpaw (rad/s^2)_sin",
           0
          ],
          [
           "Mean phase acceleration during stance - rhindlimb - hip (rad/s^2)_sin",
           0
          ],
          [
           "Mean phase acceleration during stance - rhindlimb - knee (rad/s^2)_sin",
           0
          ],
          [
           "Mean angle acceleration at stance - rhindlimb - lHindpaw (rad/s^2)_cos",
           0
          ],
          [
           "Mean step duration (s)",
           0
          ]
         ],
         "hovertemplate": "direction=towards_healthy<br>importance=%{x}<br>change_effect_size=%{y}<br>combined_rank=%{customdata[1]}<br>feature=%{customdata[0]}<extra></extra>",
         "legendgroup": "towards_healthy",
         "marker": {
          "color": "green",
          "size": {
           "bdata": "wxt1PPYvmD+yioE54O+TPxaE01e0yZI/3Z3AKa5Bij9Ft+A9k/2JPy+5+9Kk4og/iEYUgh6ugz/ButF9lzaCP3WFguN8KYE/F28GX5kmgD/nEdbA6Wp/P6RIwkxZCn0/uapE0kj0ej/HddTmdt96P55lBTYq3Hg/lLn6HZKleD8VSncvaCZ2P8C2OxwQAXU/LqjsrcqWdD826zV91uJzP0B1i4nsY3I/j4VowiY1cj+Pp3SquO1xPweZqjQE03E/zOziFUOocT8G42MDhw9wP7eLUqkHZ28/eh9s4hb0bT9GXg9b2W9rP9qr8C9CKWg/iPGJc8MgZj+UzXp703xlPxv+axYiS2Q/E2NLukueYz+dNelXMIdiPyasqqTlmmA/jgyvqARCXz/8Zqm7E7leP9rGYDCCV1s/lDVWOdtcWT9ke+oN2lRZPw/RtnRNX1g/H46pdVu0VT9R4TLn8LlUPyCuxQZ2pFQ/PB4kJyi8Uj8kIXyrcz5SP9U9JCEGvVE/y9S/dkVYUT+gJpiR61ZRP9iEM6tA41A/ZNjNRarJUD/wgUNt8HRQP072TOpJG1A/BlAaYObqTz/plOXN/9ZNP9xf64krRko/3ttjo2vKSD99g71WDWlIPy3iYciiDEc/lKnMwQEzRj+nSN1qZa9FPzc9L14V10Q//YvDOkC8RD/3uEVJN7pEP/ES9vzHmEQ/m2MpHImHRD8HagEQbHlDP6Xygx9m3EI/13ycw1UeQj9pfPuQrBtCP8MfySmwEEI/MsQoYhkOQj9J540fvlZBP8qfxuCST0E/bp+4/dTJQD9uRPstc9k9P8LPmK6ZrDw/chrTE09iPD8qhGtiEjA8PxLRsZqdSTs/rs3UcVWkOT9sGnWWnc84PweVbtkBVzg/6IdV10pUOD/ll1sUbnM3P7oDIvLapDY/1xMAAFM3NT/nSmBBrAQ1PxbzQQ0S4TQ/AiuqzKdOND/TiN2QmhI0PxKCzDgEtTM/Gm3KbW2BMz/4HXh8nkkzP51XwDD7FzM/i/GjbX7DMj+T+IbALTAxP3AS354rXzA/QovoF8FUMD8e+KefCFgvPwEggGfOCS8/JDQQh1sILz/2V+nr734uP8JG11Di0yw/tWhvm9wgLD+hfcKzEw0rP2YIeo2x9Sk/V/LabCBTKT8uV1478xMpP0TKVU4DmCg/A1ztZK4qKD8eds/ZX/wnP1dyovLFMic/tE4ypggIJj8QvhM2atokP0sU4NsukCQ/RogRFMNXJD/8nepfOuwjP7O/L/7g6CM/narLGMyeIz8W5ZKeBYIjPzGbY4knZiM/XUhIJeGlIj9lHm/Eq2MiP3VEDcw8/iE//BKscCHbIT9a8hII4cUhP8FH50z8VSE/38i0oeKaID/+U5BKygQfPw5FhYVVHh4/7OsWHBqIHT8BSpaIcisdP9aqysHc1hs/dz3LLOiyGz+OOhvHe60bP8IJT3Hi4xo/j0zk+CinGj8WFXqO8+cZP8dXBQfkrxk/ozw+ZIOpGT/zZn+kuaIZPy+P/am6Xxk/aekssDmsGD+WTQY6EkIYP2qEfjJ+NhY/U9Vn3QMWFj/50iUoB5sVP0uT91QjSxU/NwLo4czeFD+heoHVhz4UP+eEXfQjvhM/IC9PqSt+Ez8iciYrbrgSP9HEMQ55aRI/v5oZdF64ET8+DkfuoeAPP6geQ7GOaA8/Fx8lY6beDT+Fqb9ps3QNP53DGYvjRQ0/UOt5NAvrDD9vefpVobYLP0R34HatlAs/Ke5wirORCz8T/xCxBHELP9u1HhCkygk/q+utA8vLCD9Fx0YZzU4IPwttP6uvHAg/mook1kbZBz+LQ1JF1qsHP8SyRDy9Bwc/5CQONl72Bj8UscigZtIEP+utvn7SywM/X1sI+3iyAj91G7o6y0ACP/7diQfr1QA/sUOhTG2aAD952xq14osAP4dbfTardgA/ItJhv5Pv/z5Ag3uD9on/Pnf3Z1hcfP8+YQpKgiwz/z6YP3VlM+H+PvqZM3bhIP4+LkKfutl0/T5MNId6N8z6PrZwbGGTbPo+CTjSRQx9+T5F/EUpA6P4PlvSPnNl6/c+4kOH0GbP9z7Q2Lx1q5/3PmiaGtefL/c+PTAqYXCG9j7zMl/DXT72Pj7oWbD6fPQ+bxJPrWna8j40AeM5r6TxPoznGFFzt+w+D0kBpKwF6j5KSSwJN0XoPus/q/HYiOc+FAEqiweu5T5wb9f2E1DhPtxKefdyZ98+Rn/+WdS53T5lZ2AcRgnXPpbLcI+Bp8s+LlNDaFFmvz5xigt0/Sy8PgAAAAAAAAAAAAAAAAAAAAAAAAAAAAAAAAAAAAAAAAAAAAAAAAAAAAAAAAAAAAAAAAAAAAAAAAAAAAAAAAAAAAAAAAAAAAAAAAAAAAAAAAAAAAAAAAAAAAAAAAAAAAAAAAAAAAAAAAAAAAAAAAAAAAAAAAAAAAAAAAAAAAAAAAAAAAAAAAAAAAAAAAAAAAAAAAAAAAAAAAAAAAAAAAAAAAAAAAAAAAAAAAAAAAAAAAAAAAAAAAAAAAAAAAAAAAAAAAAAAAAAAAAAAAAAAAAAAAAAAAAAAAAAAAAAAAAAAAAAAAAAAAAAAAAAAAAAAAAAAAAAAAAAAAAAAAAAAAAAAAAAAAAAAAAAAAAAAAAAAAAAAAAAAAAAAAAAAAAAAAAAAAAAAAAAAAAAAAAAAAAAAAAAAAAAAAAAAAAAAAAAAAAAAAAAAAAAAAAAAAAAAAAAAAAAAAAAAAAAAAAAAAAAAAAAAAAAAAAAAAAAAAAAAAAAAAAAAAAAAAAAAAAAAAAAAAAAAAAAAAAAAAAAAAAAAAAAAAAAAAAAAA==",
           "dtype": "f8"
          },
          "sizemode": "area",
          "sizeref": 0.00006187104987104248,
          "symbol": "circle"
         },
         "mode": "markers",
         "name": "towards_healthy",
         "orientation": "v",
         "showlegend": true,
         "type": "scatter",
         "x": {
          "bdata": "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",
          "dtype": "f8"
         },
         "xaxis": "x",
         "y": {
          "bdata": "EUPluU8D7T+ux5FM74rqP3/7AXNEnPU/39sBDX1e9z/dl2HiLjznP16sfa2CIOk/Hof8Xsqi9T+hMN1y61XwPw4rL3aV9O8/iPJrNlbX3j+MV5LEI2/fPzyxlW5EDew/xP+s4W8s6T9awDR7DmnyP7nBhLxUJec/39uNXN1A4j8hGs+2iQTlP4ld+u5d/uY/X3gWCrU+6j8Nx2iqg2DnPzYTVsniu+s/sUviqycM6T9tRbUM8ObVP+bBhLxUJec/zvclrgYn1j9qtd6VKAztP8E6phSZhOU/4pwmmrlM1D/h6Md5ISPaP7ZgJIw/xec/O+DSmEAR7j+l7M9oRKLnP/u+EtgS694/9fWvHVwg1z/b0EiG8A7qP+Q6phSZhOU/FPoZOBsV7D/JIgmdErzpP/i3ourRad4/iTFM91Qe5z8gXf2h293gP9QwFewmI+E/NVfxtIvT1D+6bZ0tabPnP/kH4CtVZe0/3E9RRRLP5z/cBMvpjNroP/Gksr+GgOM/zwe7qChH4T/eThVTG5ntP/uVwWSjeOg/iyNuWOPd6D9MbxC925naP4H1j+GjDd4/CYf+ISyJ0z930wHYw/LoP4EXsT5wado//1R27gf24z/yZvblIKPDP7Xzj+GjDd4/4EknAOJayD9B0hqWrYjjP6cwmFgRE9Y/6tbyiLda0j+RN6GOqIeyPyfl+IfNdbE/LoUNxGaT2j9g8hZxa0vnP8Dql4GD8dQ/tuIZOvm74z+FEoIO9QTYPxmqp1n/BNk/4+YaFWHq4j/IKjZf7XPVPxNoVf0RJs0/sw6JVXRX3z/5ptp/GIPCP6yDB3Vbwec/50t3va3e1z9t6HKKElrQPybfO5WaFeM/QOMZOvm74z+8R3UQ+8HnP79SRdSGN9M/YOoYfGdDxT9G3zuVmhXjP4gQQHIYG88/5joRt6KExD+VPvnPm/vRP3e08g1BLNI/PgL/6khg1D//saANc0zEPwyVarVZ29E/sY4QiJFAfj/nssbs9Ey8P+L6vlMuh9U/yyb/+RYo0z9FtRVQrzfZPxeT5g3s2tE/rPUaGfnC2j/S2KEJjtG6P6vR7YYiWsc/x3KhdAEv1j99AjFxxQzgP4RofDEcKsY/+2I/PZOU0T9d1vKIt1rSPwCF5n8nqbw/jZ+Xa7bO1D9H+r5TLofVPy27IukGZrs/E4MNxGaT2j81CyaGab/GP/ZYnDBWhso/Z+Xok0+q2D+D+JmBg/HUP28dME58q74/oNlCVxRjsz9PovelEIu8PwC4/fdBBcU/PXFa0B6i5j8bC7pXXuevP1pY1Ii+WNE/2YzjXyoiwT+duCj+MVHeP7hA5eQCt8s/Q/pC0GztwT9ilh7r3T3HP5DtGYY+QMc/q+MG6t9k2T/oSzrtbg+9P8sgR5UTg5A/GCE48CFt1T9c3lwxIaO/P6d6a08dW7M/3kXi2qG/2D+1FSvHplC0P5mxUA6sJcE/ZXlrTx1bsz8fnKbwqwutPyFSFix3xso/quP9Bk10tz+xN+U6VnzKPzCMwGKSm8A/5hQpEPhRqT/oarR35xXQP6DJgXYIJ7E/6+/TyWc45D+UWtGMAx3RP8IeMJngrsY/qsobbhfd0j/E28wW5HXeP3fdHvEUItA/rVr4FWtktz8RTGbbWszRP0DyK8emULQ/pC/PcpVEzD+Vmr2LYHDGP5cBNdqiQrI/udz4mQCw1j9tqHxd+AajP/LEmI8fTtY/SyL+1OS/xT8WMRdreKfAPzt81Fvfurw/8CnovNhKxj9Vn9Il1ZinP+to0rUuaLs/+sqD4aDs2D8c3cfpSL+5P73V2TyyjtI/f9oA5/+msz+SBGqdET7DPwmIh1YaFMQ/Tuc/PZOU0T+Z6iOjpoTWP3E0R5CHUKs/iL812qJCsj8KXJwwVobKP1fiAV7RQLY/JzpAGzZSyD+0M6+yEU24P1GrWLy8RrI/wC5X5PY8zT8uCuCscK2OP5C4okGJo7A/3X2VDy8DyD+vdZdn8kywP0zipK043sY/PdRm25IKpj/NBj6ikqDDP8zmQAZmOLc/7awitq8xtD8tTfmMmXCNP36byJcXMas/FylTR3ZSqj8yuRkfK/SpP/8ZvNc89q0/61+WfmoLwj/OLBs1Z0C7P/4KAUPNlbE/pTIPBfz+vz8AAlLakGi/P/TPK+yqS6U/Oo55fBWvsz9TbjAeT6+xP8uKKxGUR7A/aIcfoJN0sD8Y0hwfK/SpP3oERnBgS5Y/B3SXZ/JMsD8Avt18DAZ+P2/CM0iox5M/Z11nikbicz9NpntMo1eHPyb2WL/Dn3o/LOqg1/+B2j+eLQjHJo7NPx57j45BsKg/Xwiu/XILoj+pAu1+uwjMP43qsyIBDbE/sS0KXSJd2T8O6GrbkgqmPxln4WZ+FMs/yUlQdAat2z+UeTW4+S2lPxODUTJ/SsI/1B9Y5/ywvz98SIN3FmrRPwuyrYWFTsE/v7dGIqR8lj+XmAJjj3SvPwEXsNSpjJI/paHis2ULmD/ZUzd/bQmtP6cot++AvrE/Xrsz59p/5D+2wm/ahaB7P3GAa3srLtg/+ihbF3MBsz818DyVEKHPP0mLcgtOZ60/mfzGRGuWuj9t0Re6aZ2CP0uayJcXMas/x1XfZajVwD+1h9PEMvniP0G3msKxndA/ARrKsq+7wD+uU0zDXg2bP4wyNpbUQ50/S09vrGq/1j9L1Cpn1u+lPzQUkdoHda8/IVVt0e0C2T/cc9NJKLPSP02KL3/IFNk/7KyP/1SlqT/B2ApKNMrGPwJbnW1nQrQ/qSK70XX/pj8Y1sPUqYySPzqwn0LG59Y/CsEQjTNu2z8XIpSQ1g/hPw==",
          "dtype": "f8"
         },
         "yaxis": "y"
        }
       ],
       "layout": {
        "legend": {
         "itemsizing": "constant",
         "title": {
          "text": "direction"
         },
         "tracegroupgap": 0
        },
        "shapes": [
         {
          "line": {
           "color": "black",
           "dash": "dash"
          },
          "type": "line",
          "x0": 0,
          "x1": 1,
          "xref": "x domain",
          "y0": 0,
          "y1": 0,
          "yref": "y"
         }
        ],
        "template": {
         "data": {
          "bar": [
           {
            "error_x": {
             "color": "#2a3f5f"
            },
            "error_y": {
             "color": "#2a3f5f"
            },
            "marker": {
             "line": {
              "color": "#E5ECF6",
              "width": 0.5
             },
             "pattern": {
              "fillmode": "overlay",
              "size": 10,
              "solidity": 0.2
             }
            },
            "type": "bar"
           }
          ],
          "barpolar": [
           {
            "marker": {
             "line": {
              "color": "#E5ECF6",
              "width": 0.5
             },
             "pattern": {
              "fillmode": "overlay",
              "size": 10,
              "solidity": 0.2
             }
            },
            "type": "barpolar"
           }
          ],
          "carpet": [
           {
            "aaxis": {
             "endlinecolor": "#2a3f5f",
             "gridcolor": "white",
             "linecolor": "white",
             "minorgridcolor": "white",
             "startlinecolor": "#2a3f5f"
            },
            "baxis": {
             "endlinecolor": "#2a3f5f",
             "gridcolor": "white",
             "linecolor": "white",
             "minorgridcolor": "white",
             "startlinecolor": "#2a3f5f"
            },
            "type": "carpet"
           }
          ],
          "choropleth": [
           {
            "colorbar": {
             "outlinewidth": 0,
             "ticks": ""
            },
            "type": "choropleth"
           }
          ],
          "contour": [
           {
            "colorbar": {
             "outlinewidth": 0,
             "ticks": ""
            },
            "colorscale": [
             [
              0,
              "#0d0887"
             ],
             [
              0.1111111111111111,
              "#46039f"
             ],
             [
              0.2222222222222222,
              "#7201a8"
             ],
             [
              0.3333333333333333,
              "#9c179e"
             ],
             [
              0.4444444444444444,
              "#bd3786"
             ],
             [
              0.5555555555555556,
              "#d8576b"
             ],
             [
              0.6666666666666666,
              "#ed7953"
             ],
             [
              0.7777777777777778,
              "#fb9f3a"
             ],
             [
              0.8888888888888888,
              "#fdca26"
             ],
             [
              1,
              "#f0f921"
             ]
            ],
            "type": "contour"
           }
          ],
          "contourcarpet": [
           {
            "colorbar": {
             "outlinewidth": 0,
             "ticks": ""
            },
            "type": "contourcarpet"
           }
          ],
          "heatmap": [
           {
            "colorbar": {
             "outlinewidth": 0,
             "ticks": ""
            },
            "colorscale": [
             [
              0,
              "#0d0887"
             ],
             [
              0.1111111111111111,
              "#46039f"
             ],
             [
              0.2222222222222222,
              "#7201a8"
             ],
             [
              0.3333333333333333,
              "#9c179e"
             ],
             [
              0.4444444444444444,
              "#bd3786"
             ],
             [
              0.5555555555555556,
              "#d8576b"
             ],
             [
              0.6666666666666666,
              "#ed7953"
             ],
             [
              0.7777777777777778,
              "#fb9f3a"
             ],
             [
              0.8888888888888888,
              "#fdca26"
             ],
             [
              1,
              "#f0f921"
             ]
            ],
            "type": "heatmap"
           }
          ],
          "histogram": [
           {
            "marker": {
             "pattern": {
              "fillmode": "overlay",
              "size": 10,
              "solidity": 0.2
             }
            },
            "type": "histogram"
           }
          ],
          "histogram2d": [
           {
            "colorbar": {
             "outlinewidth": 0,
             "ticks": ""
            },
            "colorscale": [
             [
              0,
              "#0d0887"
             ],
             [
              0.1111111111111111,
              "#46039f"
             ],
             [
              0.2222222222222222,
              "#7201a8"
             ],
             [
              0.3333333333333333,
              "#9c179e"
             ],
             [
              0.4444444444444444,
              "#bd3786"
             ],
             [
              0.5555555555555556,
              "#d8576b"
             ],
             [
              0.6666666666666666,
              "#ed7953"
             ],
             [
              0.7777777777777778,
              "#fb9f3a"
             ],
             [
              0.8888888888888888,
              "#fdca26"
             ],
             [
              1,
              "#f0f921"
             ]
            ],
            "type": "histogram2d"
           }
          ],
          "histogram2dcontour": [
           {
            "colorbar": {
             "outlinewidth": 0,
             "ticks": ""
            },
            "colorscale": [
             [
              0,
              "#0d0887"
             ],
             [
              0.1111111111111111,
              "#46039f"
             ],
             [
              0.2222222222222222,
              "#7201a8"
             ],
             [
              0.3333333333333333,
              "#9c179e"
             ],
             [
              0.4444444444444444,
              "#bd3786"
             ],
             [
              0.5555555555555556,
              "#d8576b"
             ],
             [
              0.6666666666666666,
              "#ed7953"
             ],
             [
              0.7777777777777778,
              "#fb9f3a"
             ],
             [
              0.8888888888888888,
              "#fdca26"
             ],
             [
              1,
              "#f0f921"
             ]
            ],
            "type": "histogram2dcontour"
           }
          ],
          "mesh3d": [
           {
            "colorbar": {
             "outlinewidth": 0,
             "ticks": ""
            },
            "type": "mesh3d"
           }
          ],
          "parcoords": [
           {
            "line": {
             "colorbar": {
              "outlinewidth": 0,
              "ticks": ""
             }
            },
            "type": "parcoords"
           }
          ],
          "pie": [
           {
            "automargin": true,
            "type": "pie"
           }
          ],
          "scatter": [
           {
            "fillpattern": {
             "fillmode": "overlay",
             "size": 10,
             "solidity": 0.2
            },
            "type": "scatter"
           }
          ],
          "scatter3d": [
           {
            "line": {
             "colorbar": {
              "outlinewidth": 0,
              "ticks": ""
             }
            },
            "marker": {
             "colorbar": {
              "outlinewidth": 0,
              "ticks": ""
             }
            },
            "type": "scatter3d"
           }
          ],
          "scattercarpet": [
           {
            "marker": {
             "colorbar": {
              "outlinewidth": 0,
              "ticks": ""
             }
            },
            "type": "scattercarpet"
           }
          ],
          "scattergeo": [
           {
            "marker": {
             "colorbar": {
              "outlinewidth": 0,
              "ticks": ""
             }
            },
            "type": "scattergeo"
           }
          ],
          "scattergl": [
           {
            "marker": {
             "colorbar": {
              "outlinewidth": 0,
              "ticks": ""
             }
            },
            "type": "scattergl"
           }
          ],
          "scattermap": [
           {
            "marker": {
             "colorbar": {
              "outlinewidth": 0,
              "ticks": ""
             }
            },
            "type": "scattermap"
           }
          ],
          "scattermapbox": [
           {
            "marker": {
             "colorbar": {
              "outlinewidth": 0,
              "ticks": ""
             }
            },
            "type": "scattermapbox"
           }
          ],
          "scatterpolar": [
           {
            "marker": {
             "colorbar": {
              "outlinewidth": 0,
              "ticks": ""
             }
            },
            "type": "scatterpolar"
           }
          ],
          "scatterpolargl": [
           {
            "marker": {
             "colorbar": {
              "outlinewidth": 0,
              "ticks": ""
             }
            },
            "type": "scatterpolargl"
           }
          ],
          "scatterternary": [
           {
            "marker": {
             "colorbar": {
              "outlinewidth": 0,
              "ticks": ""
             }
            },
            "type": "scatterternary"
           }
          ],
          "surface": [
           {
            "colorbar": {
             "outlinewidth": 0,
             "ticks": ""
            },
            "colorscale": [
             [
              0,
              "#0d0887"
             ],
             [
              0.1111111111111111,
              "#46039f"
             ],
             [
              0.2222222222222222,
              "#7201a8"
             ],
             [
              0.3333333333333333,
              "#9c179e"
             ],
             [
              0.4444444444444444,
              "#bd3786"
             ],
             [
              0.5555555555555556,
              "#d8576b"
             ],
             [
              0.6666666666666666,
              "#ed7953"
             ],
             [
              0.7777777777777778,
              "#fb9f3a"
             ],
             [
              0.8888888888888888,
              "#fdca26"
             ],
             [
              1,
              "#f0f921"
             ]
            ],
            "type": "surface"
           }
          ],
          "table": [
           {
            "cells": {
             "fill": {
              "color": "#EBF0F8"
             },
             "line": {
              "color": "white"
             }
            },
            "header": {
             "fill": {
              "color": "#C8D4E3"
             },
             "line": {
              "color": "white"
             }
            },
            "type": "table"
           }
          ]
         },
         "layout": {
          "annotationdefaults": {
           "arrowcolor": "#2a3f5f",
           "arrowhead": 0,
           "arrowwidth": 1
          },
          "autotypenumbers": "strict",
          "coloraxis": {
           "colorbar": {
            "outlinewidth": 0,
            "ticks": ""
           }
          },
          "colorscale": {
           "diverging": [
            [
             0,
             "#8e0152"
            ],
            [
             0.1,
             "#c51b7d"
            ],
            [
             0.2,
             "#de77ae"
            ],
            [
             0.3,
             "#f1b6da"
            ],
            [
             0.4,
             "#fde0ef"
            ],
            [
             0.5,
             "#f7f7f7"
            ],
            [
             0.6,
             "#e6f5d0"
            ],
            [
             0.7,
             "#b8e186"
            ],
            [
             0.8,
             "#7fbc41"
            ],
            [
             0.9,
             "#4d9221"
            ],
            [
             1,
             "#276419"
            ]
           ],
           "sequential": [
            [
             0,
             "#0d0887"
            ],
            [
             0.1111111111111111,
             "#46039f"
            ],
            [
             0.2222222222222222,
             "#7201a8"
            ],
            [
             0.3333333333333333,
             "#9c179e"
            ],
            [
             0.4444444444444444,
             "#bd3786"
            ],
            [
             0.5555555555555556,
             "#d8576b"
            ],
            [
             0.6666666666666666,
             "#ed7953"
            ],
            [
             0.7777777777777778,
             "#fb9f3a"
            ],
            [
             0.8888888888888888,
             "#fdca26"
            ],
            [
             1,
             "#f0f921"
            ]
           ],
           "sequentialminus": [
            [
             0,
             "#0d0887"
            ],
            [
             0.1111111111111111,
             "#46039f"
            ],
            [
             0.2222222222222222,
             "#7201a8"
            ],
            [
             0.3333333333333333,
             "#9c179e"
            ],
            [
             0.4444444444444444,
             "#bd3786"
            ],
            [
             0.5555555555555556,
             "#d8576b"
            ],
            [
             0.6666666666666666,
             "#ed7953"
            ],
            [
             0.7777777777777778,
             "#fb9f3a"
            ],
            [
             0.8888888888888888,
             "#fdca26"
            ],
            [
             1,
             "#f0f921"
            ]
           ]
          },
          "colorway": [
           "#636efa",
           "#EF553B",
           "#00cc96",
           "#ab63fa",
           "#FFA15A",
           "#19d3f3",
           "#FF6692",
           "#B6E880",
           "#FF97FF",
           "#FECB52"
          ],
          "font": {
           "color": "#2a3f5f"
          },
          "geo": {
           "bgcolor": "white",
           "lakecolor": "white",
           "landcolor": "#E5ECF6",
           "showlakes": true,
           "showland": true,
           "subunitcolor": "white"
          },
          "hoverlabel": {
           "align": "left"
          },
          "hovermode": "closest",
          "mapbox": {
           "style": "light"
          },
          "paper_bgcolor": "white",
          "plot_bgcolor": "#E5ECF6",
          "polar": {
           "angularaxis": {
            "gridcolor": "white",
            "linecolor": "white",
            "ticks": ""
           },
           "bgcolor": "#E5ECF6",
           "radialaxis": {
            "gridcolor": "white",
            "linecolor": "white",
            "ticks": ""
           }
          },
          "scene": {
           "xaxis": {
            "backgroundcolor": "#E5ECF6",
            "gridcolor": "white",
            "gridwidth": 2,
            "linecolor": "white",
            "showbackground": true,
            "ticks": "",
            "zerolinecolor": "white"
           },
           "yaxis": {
            "backgroundcolor": "#E5ECF6",
            "gridcolor": "white",
            "gridwidth": 2,
            "linecolor": "white",
            "showbackground": true,
            "ticks": "",
            "zerolinecolor": "white"
           },
           "zaxis": {
            "backgroundcolor": "#E5ECF6",
            "gridcolor": "white",
            "gridwidth": 2,
            "linecolor": "white",
            "showbackground": true,
            "ticks": "",
            "zerolinecolor": "white"
           }
          },
          "shapedefaults": {
           "line": {
            "color": "#2a3f5f"
           }
          },
          "ternary": {
           "aaxis": {
            "gridcolor": "white",
            "linecolor": "white",
            "ticks": ""
           },
           "baxis": {
            "gridcolor": "white",
            "linecolor": "white",
            "ticks": ""
           },
           "bgcolor": "#E5ECF6",
           "caxis": {
            "gridcolor": "white",
            "linecolor": "white",
            "ticks": ""
           }
          },
          "title": {
           "x": 0.05
          },
          "xaxis": {
           "automargin": true,
           "gridcolor": "white",
           "linecolor": "white",
           "ticks": "",
           "title": {
            "standoff": 15
           },
           "zerolinecolor": "white",
           "zerolinewidth": 2
          },
          "yaxis": {
           "automargin": true,
           "gridcolor": "white",
           "linecolor": "white",
           "ticks": "",
           "title": {
            "standoff": 15
           },
           "zerolinecolor": "white",
           "zerolinewidth": 2
          }
         }
        },
        "title": {
         "text": "Feature Importance vs. Treatment Direction"
        },
        "xaxis": {
         "anchor": "y",
         "domain": [
          0,
          1
         ],
         "title": {
          "text": "importance"
         }
        },
        "yaxis": {
         "anchor": "x",
         "domain": [
          0,
          1
         ],
         "title": {
          "text": "change_effect_size"
         }
        }
       }
      }
     },
     "metadata": {},
     "output_type": "display_data"
    }
   ],
   "source": [
    "fig = px.scatter(\n",
    "    res_df,\n",
    "    x=\"importance\",\n",
    "    y=\"change_effect_size\",\n",
    "    size=\"combined_rank\",\n",
    "    color=\"direction\",\n",
    "    hover_data=[\"feature\", \"importance\", \"change_effect_size\", \"combined_rank\"],\n",
    "    color_discrete_map={\n",
    "        \"towards_healthy\": \"green\",\n",
    "        \"away_from_healthy\": \"red\",\n",
    "        \"no_change\": \"gray\"\n",
    "    },\n",
    "    title=\"Feature Importance vs. Treatment Direction\"\n",
    ")\n",
    "\n",
    "fig.add_hline(y=0, line_dash=\"dash\", line_color=\"black\")\n",
    "fig.show()\n",
    "# fig.write_html(os.path.join('./', 'treatment_influence.html'))"
   ]
  },
  {
   "cell_type": "code",
   "execution_count": 22,
   "id": "15108765",
   "metadata": {},
   "outputs": [
    {
     "name": "stdout",
     "output_type": "stream",
     "text": [
      "Elbow-selected feature count (by |change_effect_size|): 233\n",
      "After enforcing |change_effect_size| ≥ 0.20: 233 features kept\n",
      "                                              feature  importance  \\\n",
      "3        Mean angle excursion - rhindlimb - ankle (°)    0.027643   \n",
      "5   Mean angle at touchdown - rhindlimb - lHindfin...    0.026052   \n",
      "6   Mean angle at touchdown - rhindlimb - lHindfin...    0.023473   \n",
      "11  Mean step acceleration Y at touchdown - ankle ...    0.013584   \n",
      "0     Mean step jerk Y at peak - lHindfingers (m/s^3)    0.050711   \n",
      "20  Mean angle at stance - rhindlimb - lHindpaw (°...    0.008778   \n",
      "7     Mean angle value - rhindlimb - lHindpaw (°)_sin    0.017478   \n",
      "10  Mean step acceleration Y at touchdown - lHindf...    0.015475   \n",
      "12       Mean phase excursion - rhindlimb - ankle (°)    0.012921   \n",
      "32  Mean angle at stance - rhindlimb - lHindpaw (°...    0.007106   \n",
      "22  Mean step acceleration Y during stance - knee ...    0.008710   \n",
      "23  Mean phase at touchdown - rhindlimb - lHindpaw...    0.008392   \n",
      "8   Mean angle during swing - rhindlimb - lHindpaw...    0.016365   \n",
      "9   Mean angle during swing - rhindlimb - lHindpaw...    0.015617   \n",
      "28  Mean angle at touchdown - rhindlimb - lHindpaw...    0.008088   \n",
      "25    Mean angle value - rhindlimb - lHindpaw (°)_cos    0.008365   \n",
      "42  Mean step acceleration Y at touchdown - lHindp...    0.005702   \n",
      "24     Mean angle at stance - rhindlimb - hip (°)_cos    0.008391   \n",
      "16  Mean step acceleration X during stance - ankle...    0.010549   \n",
      "26  Mean angle velocity - rhindlimb - knee (rad/s)...    0.008233   \n",
      "\n",
      "    change_score  change_effect_size  combined_rank          direction  \n",
      "3      -7.819830           -0.895282       0.024748  away_from_healthy  \n",
      "5       0.002007            0.906654       0.023620    towards_healthy  \n",
      "6       0.017305            0.829460       0.019470    towards_healthy  \n",
      "11      1.917734            1.350651       0.018348    towards_healthy  \n",
      "0    -140.068448           -0.310561       0.015749  away_from_healthy  \n",
      "20      0.094351            1.460568       0.012821    towards_healthy  \n",
      "7       0.030156            0.726097       0.012691    towards_healthy  \n",
      "10      1.844984            0.785219       0.012151    towards_healthy  \n",
      "12     -6.268268           -0.812637       0.010500  away_from_healthy  \n",
      "32      0.056059            1.352244       0.009609    towards_healthy  \n",
      "22      0.389838            1.020976       0.008893    towards_healthy  \n",
      "23      0.001699            0.998606       0.008380    towards_healthy  \n",
      "8       0.000018            0.481893       0.007886    towards_healthy  \n",
      "9       0.000372            0.491158       0.007670    towards_healthy  \n",
      "28      0.061248            0.876620       0.007090    towards_healthy  \n",
      "25      0.019220            0.786674       0.006581    towards_healthy  \n",
      "42      3.217692            1.150649       0.006561    towards_healthy  \n",
      "24      0.030266            0.723307       0.006069    towards_healthy  \n",
      "16      0.270241            0.570418       0.006017    towards_healthy  \n",
      "26      0.025719            0.656804       0.005408    towards_healthy  \n",
      "\n",
      "Direction counts:\n",
      " direction\n",
      "away_from_healthy    305\n",
      "towards_healthy      266\n",
      "Name: count, dtype: int64\n",
      "Top 233 features selected for further analysis.\n",
      "(100, 233)\n"
     ]
    },
    {
     "data": {
      "application/vnd.plotly.v1+json": {
       "config": {
        "plotlyServerURL": "https://plot.ly"
       },
       "data": [
        {
         "customdata": [
          [
           "Mean angle excursion - rhindlimb - ankle (°)",
           0.02474841994841699
          ],
          [
           "Mean step jerk Y at peak - lHindfingers (m/s^3)",
           0.015748778485532196
          ],
          [
           "Mean phase excursion - rhindlimb - ankle (°)",
           0.01049995349437063
          ],
          [
           "Mean step jerk Y at peak - ankle (m/s^3)",
           0.0034235271128068238
          ],
          [
           "Mean angle at swing - rhindlimb - lHindfingers (°)_cos",
           0.002642838919841254
          ],
          [
           "Mean phase at swing - rhindlimb - lHindpaw (°)_sin",
           0.0022435862308011916
          ],
          [
           "Mean phase during stance - rhindlimb - lHindpaw (°)_sin",
           0.0017429686147597135
          ],
          [
           "Mean angle during swing - rhindlimb - lHindfingers (°)_cos",
           0.0016980981308439122
          ],
          [
           "Mean phase value - rhindlimb - lHindpaw (°)_sin",
           0.0014970023224003541
          ],
          [
           "Mean angle at swing - rhindlimb - lHindfingers (°)_sin",
           0.0014761021381206035
          ],
          [
           "Mean angle during stance - rhindlimb - lHindfingers (°)_sin",
           0.0013304654894879442
          ],
          [
           "Mean angle during swing - rhindlimb - lHindfingers (°)_sin",
           0.0013132805614817918
          ],
          [
           "Mean angle during stance - rhindlimb - lHindfingers (°)_cos",
           0.0012860389817955196
          ],
          [
           "Mean angle value - rhindlimb - ankle (°)_sin",
           0.0012714855388500808
          ],
          [
           "Mean angle at swing - rhindlimb - ankle (°)_cos",
           0.0012172192791888835
          ],
          [
           "Mean angle value - rhindlimb - lHindfingers (°)_cos",
           0.0011564616548192888
          ],
          [
           "Mean phase at swing - rhindlimb - ankle (°)_cos",
           0.0011303601535991368
          ],
          [
           "Mean step velocity X during stance - lHindpaw (m/s)",
           0.0010796359853398798
          ],
          [
           "Mean phase at swing - rhindlimb - ankle (°)_sin",
           0.0009729938002533654
          ],
          [
           "Mean step jerk Y at swing - ankle (m/s^3)",
           0.000910214818906022
          ],
          [
           "Mean angle excursion - rhindlimb - lHindfingers (°)",
           0.0008750088887281813
          ],
          [
           "Mean phase velocity at stance - rhindlimb - knee (rad/s)_cos",
           0.0008638980185337224
          ],
          [
           "Mean angle during swing - rhindlimb - ankle (°)_cos",
           0.000769491397245144
          ],
          [
           "Mean phase during swing - rhindlimb - lHindpaw (°)_sin",
           0.0007659662311799775
          ],
          [
           "Mean phase acceleration during swing - rhindlimb - ankle (rad/s^2)_sin",
           0.0007053427280578022
          ],
          [
           "Mean angle acceleration during stance - rhindlimb - knee (rad/s^2)_cos",
           0.000619262786774423
          ],
          [
           "Mean angle value - rhindlimb - lHindfingers (°)_sin",
           0.0006137033842256999
          ],
          [
           "Mean angle during swing - rhindlimb - knee (°)_cos",
           0.0006049231559295576
          ],
          [
           "Mean angle velocity at stance - rhindlimb - hip (rad/s)_sin",
           0.0006022862645534883
          ],
          [
           "Mean phase during swing - rhindlimb - lHindpaw (°)_cos",
           0.0006000673958153967
          ],
          [
           "Mean step jerk Y during swing - knee (m/s^3)",
           0.0005992673730025176
          ],
          [
           "Mean angle value - rhindlimb - knee (°)_cos",
           0.0005988410132474717
          ],
          [
           "Mean angle during swing - rhindlimb - ankle (°)_sin",
           0.0005856552263001412
          ],
          [
           "Mean phase velocity during swing - rhindlimb - lHindpaw (rad/s)_cos",
           0.0005628853450971325
          ],
          [
           "Mean angle value - rhindlimb - ankle (°)_cos",
           0.0005186146695712909
          ],
          [
           "Mean step velocity Y at stance - lHindpaw (m/s)",
           0.0005019666312363942
          ],
          [
           "Mean step jerk Y during swing - ankle (m/s^3)",
           0.00048242337328248635
          ],
          [
           "Mean step velocity X during stance - knee (m/s)",
           0.0004799627502420357
          ],
          [
           "Mean angle acceleration at peak - rhindlimb - ankle (rad/s^2)_cos",
           0.00046891064072780036
          ],
          [
           "Mean angle acceleration at stance - rhindlimb - lHindfingers (rad/s^2)_cos",
           0.00046847744119364615
          ],
          [
           "Mean phase value - rhindlimb - ankle (°)_sin",
           0.0004675745755449349
          ],
          [
           "Mean angle acceleration - rhindlimb - lHindfingers (rad/s^2)_cos",
           0.0004503836081781987
          ],
          [
           "Mean step length (m)",
           0.0004286818626854795
          ],
          [
           "Mean angle acceleration at peak - rhindlimb - lHindpaw (rad/s^2)_cos",
           0.00041763735322315445
          ],
          [
           "Mean step acceleration Y during swing - hip (m/s^2)",
           0.0004143439546953536
          ],
          [
           "Mean angle velocity during swing - rhindlimb - ankle (rad/s)_cos",
           0.0003911020091551076
          ],
          [
           "Mean phase acceleration at swing - rhindlimb - hip (rad/s^2)_cos",
           0.00038258369378744056
          ],
          [
           "Mean step jerk Y during stance - knee (m/s^3)",
           0.0003644611606447654
          ],
          [
           "Mean step jerk Y during stance - ankle (m/s^3)",
           0.00035682615763139316
          ],
          [
           "Mean angle acceleration at touchdown - rhindlimb - ankle (rad/s^2)_sin",
           0.0003534293240759306
          ],
          [
           "Mean phase excursion - rhindlimb - lHindpaw (°)",
           0.00034879480513497294
          ],
          [
           "Mean step velocity X during stance - ankle (m/s)",
           0.0003359031181842788
          ],
          [
           "Mean angle acceleration at touchdown - rhindlimb - lHindpaw (rad/s^2)_sin",
           0.00033063310882894563
          ],
          [
           "Mean phase value - rhindlimb - hip (°)_cos",
           0.0003296405500693133
          ],
          [
           "Mean angle excursion - rhindlimb - hip (°)",
           0.0003227259470833048
          ],
          [
           "Mean step jerk Y during swing - hip (m/s^3)",
           0.0002957258439640265
          ],
          [
           "Mean phase velocity during stance - rhindlimb - knee (rad/s)_cos",
           0.0002910702132606549
          ],
          [
           "Mean angle during swing - rhindlimb - hip (°)_sin",
           0.00028990856195285774
          ],
          [
           "Mean phase velocity during swing - rhindlimb - ankle (rad/s)_sin",
           0.0002776586908117183
          ],
          [
           "Mean phase during swing - rhindlimb - ankle (°)_cos",
           0.0002671572195434942
          ],
          [
           "Mean step velocity X at stance - ankle (m/s)",
           0.0002553945918925962
          ],
          [
           "Mean step velocity Y at swing - hip (m/s)",
           0.00024553775347606506
          ],
          [
           "Mean angle value - rhindlimb - hip (°)_cos",
           0.0002421284926314053
          ],
          [
           "Mean angle during stance - rhindlimb - ankle (°)_cos",
           0.00022881870581093706
          ],
          [
           "Mean step acceleration Y at stance - knee (m/s^2)",
           0.0002258439084383051
          ],
          [
           "Mean phase excursion - rhindlimb - hip (°)",
           0.00021792922125335364
          ],
          [
           "Mean angle during stance - rhindlimb - ankle (°)_sin",
           0.00020875047190182887
          ],
          [
           "Mean step jerk Y during swing - lHindpaw (m/s^3)",
           0.0002062308724773519
          ],
          [
           "Mean phase velocity at peak - rhindlimb - ankle (rad/s)_cos",
           0.00020059228758005892
          ],
          [
           "Mean angle acceleration during swing - rhindlimb - knee (rad/s^2)_sin",
           0.00019805947043558257
          ],
          [
           "Mean step velocity X at stance - knee (m/s)",
           0.00019303150207561538
          ],
          [
           "Mean phase velocity during stance - rhindlimb - ankle (rad/s)_sin",
           0.0001921657033521978
          ],
          [
           "Mean angle at swing - rhindlimb - hip (°)_sin",
           0.00018811116042276245
          ],
          [
           "Mean step velocity X at touchdown - ankle (m/s)",
           0.00018525251521187588
          ],
          [
           "Mean step jerk Y at swing - lHindpaw (m/s^3)",
           0.00017922909815995975
          ],
          [
           "Mean angle acceleration at swing - rhindlimb - hip (rad/s^2)_cos",
           0.00016520096728472685
          ],
          [
           "Mean phase during stance - rhindlimb - lHindpaw (°)_cos",
           0.0001630168740477427
          ],
          [
           "Mean angle during swing - rhindlimb - hip (°)_cos",
           0.000162119482215372
          ],
          [
           "Mean phase velocity during swing - rhindlimb - knee (rad/s)_sin",
           0.00015874509461894025
          ],
          [
           "Mean phase at swing - rhindlimb - lHindpaw (°)_cos",
           0.000140658343472781
          ],
          [
           "Mean phase during swing - rhindlimb - ankle (°)_sin",
           0.00012932371956329315
          ],
          [
           "Mean angle during swing - rhindlimb - knee (°)_sin",
           0.00012857135729228418
          ],
          [
           "Mean step velocity Y at touchdown - hip (m/s)",
           0.00011696383918970264
          ],
          [
           "Mean angle acceleration at peak - rhindlimb - lHindpaw (rad/s^2)_sin",
           0.00011493205575312345
          ],
          [
           "Mean step jerk X at swing - hip (m/s^3)",
           0.00011400386933608489
          ],
          [
           "Mean step velocity Y during swing - lHindpaw (m/s)",
           0.00010068960220814434
          ],
          [
           "Mean angle velocity at swing - rhindlimb - ankle (rad/s)_sin",
           0.00009975113868453406
          ],
          [
           "Mean step acceleration X at touchdown - lHindpaw (m/s^2)",
           0.00009857453472704697
          ],
          [
           "Mean phase velocity at swing - rhindlimb - ankle (rad/s)_sin",
           0.00009535921199490237
          ],
          [
           "Mean step acceleration Y at touchdown - hip (m/s^2)",
           0.00007573850700351933
          ],
          [
           "Mean phase at swing - rhindlimb - hip (°)_sin",
           0.00007410371632594561
          ],
          [
           "Mean phase velocity at peak - rhindlimb - lHindpaw (rad/s)_sin",
           0.00006959007145533586
          ],
          [
           "Mean phase value - rhindlimb - ankle (°)_cos",
           0.00005871116548820039
          ],
          [
           "Mean phase during swing - rhindlimb - hip (°)_sin",
           0.00005799773197169556
          ],
          [
           "Mean phase velocity at peak - rhindlimb - lHindpaw (rad/s)_cos",
           0.00005635590924101842
          ],
          [
           "Mean angle acceleration at peak - rhindlimb - lHindfingers (rad/s^2)_sin",
           0.0000525131792596969
          ],
          [
           "Mean angle velocity at swing - rhindlimb - hip (rad/s)_sin",
           0.000051693482767551685
          ],
          [
           "Mean phase during stance - rhindlimb - ankle (°)_cos",
           0.0000516314247600988
          ],
          [
           "Mean phase acceleration at stance - rhindlimb - hip (rad/s^2)_cos",
           0.00004997961178593974
          ],
          [
           "Mean phase during swing - rhindlimb - hip (°)_cos",
           0.0000459514397275234
          ],
          [
           "Mean phase velocity during stance - rhindlimb - ankle (rad/s)_cos",
           0.000041425478224021503
          ],
          [
           "Mean angle acceleration at stance - rhindlimb - hip (rad/s^2)_cos",
           0.00002838348323654399
          ],
          [
           "Mean angle velocity during swing - rhindlimb - hip (rad/s)_sin",
           0
          ],
          [
           "Mean step velocity Y at stance - lHindfingers (m/s)",
           0
          ],
          [
           "Mean step acceleration Y at touchdown - knee (m/s^2)",
           0
          ],
          [
           "Mean step jerk Y at swing - hip (m/s^3)",
           0
          ],
          [
           "Mean step velocity X during swing - lHindfingers (m/s)",
           0
          ],
          [
           "Mean phase acceleration during swing - rhindlimb - lHindpaw (rad/s^2)_cos",
           0
          ],
          [
           "Mean angle acceleration during stance - rhindlimb - lHindfingers (rad/s^2)_sin",
           0
          ],
          [
           "Mean phase value - rhindlimb - lHindpaw (°)_cos",
           0
          ],
          [
           "Mean phase velocity - rhindlimb - lHindpaw (rad/s)_cos",
           0
          ],
          [
           "Mean angle acceleration - rhindlimb - lHindpaw (rad/s^2)_cos",
           0
          ],
          [
           "Mean phase velocity at swing - rhindlimb - hip (rad/s)_sin",
           0
          ],
          [
           "Mean phase during stance - rhindlimb - ankle (°)_sin",
           0
          ],
          [
           "Mean phase velocity at stance - rhindlimb - hip (rad/s)_sin",
           0
          ],
          [
           "Mean step velocity X at peak - lHindpaw (m/s)",
           0
          ],
          [
           "Mean phase acceleration at stance - rhindlimb - ankle (rad/s^2)_sin",
           0
          ],
          [
           "Mean angle acceleration during swing - rhindlimb - knee (rad/s^2)_cos",
           0
          ],
          [
           "Mean phase velocity during swing - rhindlimb - hip (rad/s)_sin",
           0
          ],
          [
           "Mean angle acceleration at touchdown - rhindlimb - lHindpaw (rad/s^2)_cos",
           0
          ],
          [
           "Mean step velocity X at stance - hip (m/s)",
           0
          ],
          [
           "Mean phase excursion - rhindlimb - knee (°)",
           0
          ],
          [
           "Mean angle excursion - rhindlimb - knee (°)",
           0
          ],
          [
           "Mean angle at touchdown - rhindlimb - knee (°)_sin",
           0
          ]
         ],
         "hovertemplate": "direction=away_from_healthy<br>importance=%{x}<br>change_effect_size=%{y}<br>combined_rank=%{customdata[1]}<br>feature=%{customdata[0]}<extra></extra>",
         "legendgroup": "away_from_healthy",
         "marker": {
          "color": "red",
          "size": {
           "bdata": "1Hg5WaZXmT/ScTCiciCQP45X8eb/gIU/NDORH6gLbD+iilZXb6ZlP6XjlS8kYWI/Q7mxTIqOXD+37P37VtJbPwJcEgHihlg/+IIpmjgvWD/X/AJxYMxVP0Fp+ENMhFU/8HiQ1wkSVT/L8KAz/9RUP/VcwT9j8VM/qkEjP43yUj8ePh35EoVSP9hh6U9SsFE/4PaQRhDiTz8dopRwb9NNP98wyEcbrEw/qJRL3uZOTD9DUF8x9jZJPz1E1fRjGUk/24yI+dccRz+njVq1wEpEP/8We/sdHEQ/H4HtlXbSQz+qK5DnV7xDPzz7kuu6qUM/eath4gSjQz/fm6BIcZ9DPzKnlwXVMEM/Ev4EE9NxQj8cscOFdP5APy9l5iHNckA/LF1vnLidPz8CXMpQcHQ/P4Q83t0Duz4/A3PxSb+zPj9jAaqCmaQ+P9jRJt4uhD0/Da2jlBYYPD/H/A/Gyl47P2UTFryJJzs/uGy2VpqhOT9TsupzsBI5P4tsAMSk4jc/nAxprYxiNz+tImtjjyk3PxAq9EfO2zY/5PQ/6IQDNj82Zq9jGqs1P9alyWFzmjU/lzJnY3EmNT9xgxLUdGEzP2G1+gtZEzM/gebbytv/Mj9ZvRn/VjIyP7EWVYUngjE/+v50a8+8MD8gQwGfcBcwP3XSIOp7vC8/ITFit+H9LT+21MdmEJotP963mcF9kCw/vM9R5oBcKz9rKZe09QcrP1zeRaHCSio/Zlx45cX1KT9GUB76D00pPx1Ll9ICMCk/6AVmkPanKD/YtBn9CkgoP6Lk7DrufSc/uRfmgDmnJT+MEBRJ8F0lP7XUkb/TPyU/HJjF+pnOJD8rUmL4tW8iPzxt0Epi8yA/mQGvjCPaID9RpN90T6keP0es0a71IB4/WDLJj6viHT+rK7IxKmUaP9FceIMvJho/uDyKnDnXGT+IpZ3Jcv8YP26pe6S52hM/DBMMJwRtEz/0u/hSHD4SP8qSE0kUyA4/8AeA5VJoDj/v/AhM9osNP2kBqRkziAs/57YQiy4aCz8pGA8/2hELP+Cje2ImNAo/jwFZcn8XCD+GrPKXCLgFP4STrx0iw/0+AAAAAAAAAAAAAAAAAAAAAAAAAAAAAAAAAAAAAAAAAAAAAAAAAAAAAAAAAAAAAAAAAAAAAAAAAAAAAAAAAAAAAAAAAAAAAAAAAAAAAAAAAAAAAAAAAAAAAAAAAAAAAAAAAAAAAAAAAAAAAAAAAAAAAAAAAAAAAAAAAAAAAAAAAAAAAAAAAAAAAAAAAAAAAAAAAAAAAAAAAAAAAAAAAAAAAAAAAAAAAAAAAAAAAAAAAAA=",
           "dtype": "f8"
          },
          "sizemode": "area",
          "sizeref": 0.00006187104987104248,
          "symbol": "circle"
         },
         "mode": "markers",
         "name": "away_from_healthy",
         "orientation": "v",
         "showlegend": true,
         "type": "scatter",
         "x": {
          "bdata": "0OVfo31OnD818IzSxPapPx5c4Uo+doo/YZyydYHCez8iXCQqaJB4P6wJNmYeXnI/aYo9gYLSZT8JGhNvtDlaP9pxRNhQmFg/Tiboaz4raD//R0DPlaJfP1i36n8pBVU/KEebiZIjXj8GxggST8lXP2gy5CNgOVU//wnN50OMVT+20Q7dBFVTP/OQtOyKLl0/DdfffPgBXT/IFPa3w4VVP+qWLiD4Fk8/csGtO3FYXD+knt03rstTPyeQDeifs0o/n1qIYY80UD+Q0aIFp4tdP/fADH4dXkM/McpcFc0VVz9+YfArHexWP0sMAiuHFkk//Zgpg+AvTj8pmm4kCT9UP2X/7nsCBk4/VC1Bk+s6VT+5KdDoLhxEPz2Fi8Rj1U4/p5LCWsjrPT+QpwR5SpBHPy793gqevlg/yqNUK4HGQT8TRvarUh1HP8c3Jvg27FM/KIeROHIlRz9+MKNWQK1DP61E7zR3+D8/RAy3lsTVSz9Xhg4aYYlIP3pWPX3sPEY/4JCX4E4RRj8yQ4gg+6RJP1f3umVP9Dk/pi884Ne/Oj/233qguNpGP3zOWu03VEs/5DjYSIZNTz9RAcwJoLZNP8YApigEqko/Oem9V57bSj8aA6Yl34hJP9q7KUGjQEg/ioW4gIP6Qz85/cbi8f0yP3H8Nb/hEkQ/Hmzvl4LXPj9v0OWFrf1BPwU98RlYI0U/0SCfY1zfPD/Mhn8YOfxCP8+9BrLJKUM/oMYcxsnoPz9xJVIsuSc/P/87wliYCkE/NoGiTTA5Pz+Ry39Iv309P90OA262lUE/W898jaQwNT89EgBRLj0yP26CuVCP2D4/yT+r4Tz6Nj+dywA18+o0P6L0SEKg9jo//tFi1nXTMz94bbVZpM8pP0TjzFTvbSY/RA83N/9MOD9F61jANN00P+9Eo1uk+TQ/PUDGKIU6Mz8KAKKdwmglP+7y/ExGZiU/yUszI5uZKD9wVQHAqlYlP5KIaOwk1hY/i4CA3kB+JT8Df+Jxj+4kP6n6fdJzoiU/YKS9J6oKJT/Juz52EbIkP6rmWID/gyQ/nMkRgqJ/ID8iUnozmWkgPyhYp3s7TRc/AAAAAAAAAAAAAAAAAAAAAAAAAAAAAAAAAAAAAAAAAAAAAAAAAAAAAAAAAAAAAAAAAAAAAAAAAAAAAAAAAAAAAAAAAAAAAAAAAAAAAAAAAAAAAAAAAAAAAAAAAAAAAAAAAAAAAAAAAAAAAAAAAAAAAAAAAAAAAAAAAAAAAAAAAAAAAAAAAAAAAAAAAAAAAAAAAAAAAAAAAAAAAAAAAAAAAAAAAAAAAAAAAAAAAAAAAAA=",
          "dtype": "f8"
         },
         "xaxis": "x",
         "y": {
          "bdata": "Oy72lCWm7L+9izIsOeDTv3PBbvMeAeq/pQhqjCkq4L9VWwUcNjTcv23C/gqiAuC/8yTM2Azw5L8W3LFoTvnwv8kCrX5R6e+/WsL+CqIC4L9Ozeamvgzmv+/Ubr/FYPC/haOCMB1f5r8lVMLkhgbsv1q01Jd8Ee6/RpO+qF8j7L/GFAMjy6fuv6zGvk6jZeO/vyKCMAOW4b9WV91PPSzmv5l7uoMEg+2/EOsOvzr137+F3+9sSGHkv9BOTDZdFO6/J2AtXuHR5r9zHWwNTvrVv78AX+b2nPC/vdKMABR6279NigcoK43bvxTydP2SFOm/CoAF5u7Q5L9ht9akwQPfv/hes75BdOS/eIKJeCjN27/Hce9Wnwrrv7Z9wQIZEuG/aJ+qcgvo8L9E/1mPtFvlvzpOL3Hb3tO/N9u7Irei67+VfzMGEjblv64oE4pltNe/cxE06JJr478xZHcdhEHmvyvjSfjvLeu/UYVNLmt33b9lBee0iVngv2bXbk5sL+G/JPGt2YP04L8lNC7TGefcv6V2HdnkLuy/tYLWvrVV6r/U3Hcc4lbevzW1w6y0S9m/3IdZPgif1b9ZijISRd/Uv+RTemaT5Na/zchuXBOj1r/aY8p5083WvynGxer8Gde/0WtI6gzP2r++cNrP7xzrv+G0w6y0S9m/SL9hAjMe378azMkIdFPav+CHWT4In9W/hPXa5DxT3r85aVDz3MfWv1meWGa689W/nroXPKgI2r+8dos4s/zZv0vM1EX6pde/pAPTQPVE2b/mchOX1ljav2nAf0XuX9W//hXntIlZ4L9EIac/db7iv41f8gVaC9a/pgPW9y763L9pWwUcNjTcv/pU3zj1HdS/uj41NjIz278K1hEasgHjv9r16gEHfuW/xPucnlGt079rsmV82j3Uv2I/vvhe8tO/LEz9YH2A1b/csBfpkq7iv0grRrqCsN2/4wLTQPVE2b+VUs2pdFvbvw/OxZsKkeW/GJJs9dKi1r/CuyxVxpXWvxEUOTOLXNS//abWlsSb1L8UFutPje3UvzT08cSkb9S/VGaE/x5d179eCeEuSyzVvwI38sSkb9S/uW2CTtSL1r+32Hr4EiflvxvqGxANSOC/W8LOZpL01L+oa1fpPfzVv08RcK+Wn96/g7fLHIHL2b9ukUAVmzPqv/dBm3n2XNm/5TFMSZNB4r+optaWxJvUvye2oSBgKdW/u0YeRquA27+ar8Nl77bWv11XmUh5IuC/uHqKRvid4L+za4JO1IvWvxDf1E5Zbdy/FcQtrtSL4L80kr2pPjTUvw73VJPQpNq/tBPfwnls178=",
          "dtype": "f8"
         },
         "yaxis": "y"
        },
        {
         "customdata": [
          [
           "Mean angle at touchdown - rhindlimb - lHindfingers (°)_cos",
           0.023620459976225094
          ],
          [
           "Mean angle at touchdown - rhindlimb - lHindfingers (°)_sin",
           0.01946974135388286
          ],
          [
           "Mean step acceleration Y at touchdown - ankle (m/s^2)",
           0.01834756647156518
          ],
          [
           "Mean angle at stance - rhindlimb - lHindpaw (°)_sin",
           0.012820587777311704
          ],
          [
           "Mean angle value - rhindlimb - lHindpaw (°)_sin",
           0.012690687490330208
          ],
          [
           "Mean step acceleration Y at touchdown - lHindfingers (m/s^2)",
           0.01215103882665555
          ],
          [
           "Mean angle at stance - rhindlimb - lHindpaw (°)_cos",
           0.009609449715330301
          ],
          [
           "Mean step acceleration Y during stance - knee (m/s^2)",
           0.008893188025664302
          ],
          [
           "Mean phase at touchdown - rhindlimb - lHindpaw (°)_cos",
           0.0083799130373474
          ],
          [
           "Mean angle during swing - rhindlimb - lHindpaw (°)_cos",
           0.007886121952473553
          ],
          [
           "Mean angle during swing - rhindlimb - lHindpaw (°)_sin",
           0.007670319651314795
          ],
          [
           "Mean angle at touchdown - rhindlimb - lHindpaw (°)_sin",
           0.007089947535989936
          ],
          [
           "Mean angle value - rhindlimb - lHindpaw (°)_cos",
           0.006580624063910073
          ],
          [
           "Mean step acceleration Y at touchdown - lHindpaw (m/s^2)",
           0.006560768565831271
          ],
          [
           "Mean angle at stance - rhindlimb - hip (°)_cos",
           0.006069340597912113
          ],
          [
           "Mean step acceleration X during stance - ankle (m/s^2)",
           0.00601727559084821
          ],
          [
           "Mean angle velocity - rhindlimb - knee (rad/s)_sin",
           0.00540772149493531
          ],
          [
           "Mean angle during stance - rhindlimb - lHindpaw (°)_cos",
           0.005127966814809148
          ],
          [
           "Mean angle velocity - rhindlimb - knee (rad/s)_cos",
           0.0050266186870349516
          ],
          [
           "Mean angle during stance - rhindlimb - lHindpaw (°)_sin",
           0.004855001304686015
          ],
          [
           "Mean phase at stance - rhindlimb - lHindpaw (°)_cos",
           0.004489826177374312
          ],
          [
           "Mean step acceleration Y at stance - lHindfingers (m/s^2)",
           0.004445220378813799
          ],
          [
           "Mean angle at stance - rhindlimb - lHindfingers (°)_cos",
           0.004377099371859829
          ],
          [
           "Mean phase at stance - rhindlimb - hip (°)_cos",
           0.004351631573319865
          ],
          [
           "Mean step acceleration Y at peak - hip (m/s^2)",
           0.004310857823095659
          ],
          [
           "Mean angle at touchdown - rhindlimb - lHindpaw (°)_cos",
           0.00392105807827004
          ],
          [
           "Mean angle at stance - rhindlimb - hip (°)_sin",
           0.003833308185293895
          ],
          [
           "Mean angle at stance - rhindlimb - lHindfingers (°)_sin",
           0.0036564299547343056
          ],
          [
           "Mean step acceleration X during stance - lHindpaw (m/s^2)",
           0.003349232218606865
          ],
          [
           "Mean step velocity Y during stance - knee (m/s)",
           0.002949361106876475
          ],
          [
           "Mean step velocity Y during stance - lHindpaw (m/s)",
           0.002701169720522315
          ],
          [
           "Mean step jerk Y during stance - lHindfingers (m/s^3)",
           0.002622998286676734
          ],
          [
           "Mean step acceleration Y during swing - ankle (m/s^2)",
           0.00247723252994071
          ],
          [
           "Mean step jerk X at swing - ankle (m/s^3)",
           0.00239481726235303
          ],
          [
           "Mean phase at stance - rhindlimb - lHindpaw (°)_sin",
           0.002261728687961108
          ],
          [
           "Mean phase at stance - rhindlimb - hip (°)_sin",
           0.002026985666210307
          ],
          [
           "Mean step acceleration Y at stance - lHindpaw (m/s^2)",
           0.0019078298089290377
          ],
          [
           "Mean step frequency (Hz)",
           0.001875180502472095
          ],
          [
           "Mean step acceleration Y at swing - hip (m/s^2)",
           0.0016688128830647992
          ],
          [
           "Mean step acceleration Y at stance - ankle (m/s^2)",
           0.0015480175837610842
          ],
          [
           "Mean phase at touchdown - rhindlimb - lHindpaw (°)_sin",
           0.0015461091458417115
          ],
          [
           "Mean phase velocity at swing - rhindlimb - ankle (rad/s)_cos",
           0.001487565651456416
          ],
          [
           "Mean phase at touchdown - rhindlimb - knee (°)_cos",
           0.0013247388038956154
          ],
          [
           "Mean step velocity Y at stance - knee (m/s)",
           0.0012650349206478515
          ],
          [
           "Mean step height (m)",
           0.001259913692673538
          ],
          [
           "Mean phase at stance - rhindlimb - knee (°)_cos",
           0.001143492900668521
          ],
          [
           "Mean phase at stance - rhindlimb - knee (°)_sin",
           0.0011135224903587393
          ],
          [
           "Mean step velocity Y at touchdown - lHindpaw (m/s)",
           0.0010826644762039668
          ],
          [
           "Mean step acceleration Y during stance - ankle (m/s^2)",
           0.0010586431844761708
          ],
          [
           "Mean step acceleration X at swing - ankle (m/s^2)",
           0.00105832104452689
          ],
          [
           "Mean step acceleration Y during swing - lHindpaw (m/s^2)",
           0.001030743744927334
          ],
          [
           "Mean step acceleration Y during stance - lHindpaw (m/s^2)",
           0.0010246432131828737
          ],
          [
           "Mean step velocity X at swing - knee (m/s)",
           0.0010044429700927192
          ],
          [
           "Mean angle velocity - rhindlimb - hip (rad/s)_sin",
           0.0009830686405644276
          ],
          [
           "Mean phase at touchdown - rhindlimb - ankle (°)_sin",
           0.0009106396717412343
          ],
          [
           "Mean angle velocity during swing - rhindlimb - knee (rad/s)_cos",
           0.0008018219558278933
          ],
          [
           "Mean phase at stance - rhindlimb - ankle (°)_cos",
           0.0007565522744518124
          ],
          [
           "Mean phase velocity - rhindlimb - hip (rad/s)_sin",
           0.000703410609971538
          ],
          [
           "Mean step velocity Y during stance - ankle (m/s)",
           0.0006617779924715975
          ],
          [
           "Mean phase acceleration at swing - rhindlimb - ankle (rad/s^2)_sin",
           0.0006359915099611095
          ],
          [
           "Mean phase velocity - rhindlimb - hip (rad/s)_cos",
           0.0006265086634115071
          ],
          [
           "Mean phase at touchdown - rhindlimb - ankle (°)_cos",
           0.0005943086289435525
          ],
          [
           "Mean phase acceleration during swing - rhindlimb - hip (rad/s^2)_sin",
           0.0005755900047286945
          ],
          [
           "Mean angle at touchdown - rhindlimb - hip (°)_sin",
           0.00055293262196079
          ],
          [
           "Mean angle acceleration at stance - rhindlimb - ankle (rad/s^2)_sin",
           0.0005526154145306775
          ],
          [
           "Mean angle velocity at stance - rhindlimb - knee (rad/s)_sin",
           0.0005513057872770167
          ],
          [
           "Mean angle at touchdown - rhindlimb - ankle (°)_sin",
           0.0005509971563865178
          ],
          [
           "Mean angle during stance - rhindlimb - knee (°)_cos",
           0.0005291393600679119
          ],
          [
           "Mean step velocity X at peak - knee (m/s)",
           0.0005123414989087591
          ],
          [
           "Mean angle velocity at swing - rhindlimb - knee (rad/s)_cos",
           0.00043753387453482004
          ],
          [
           "Mean angle velocity at touchdown - rhindlimb - knee (rad/s)_sin",
           0.00043310576058922586
          ],
          [
           "Mean angle at touchdown - rhindlimb - hip (°)_cos",
           0.000416375138861073
          ],
          [
           "Mean phase at touchdown - rhindlimb - hip (°)_sin",
           0.0003912647824393056
          ],
          [
           "Mean phase at stance - rhindlimb - ankle (°)_sin",
           0.00037858579021979896
          ],
          [
           "Mean phase at touchdown - rhindlimb - hip (°)_cos",
           0.0003578323124727708
          ],
          [
           "Mean phase velocity at peak - rhindlimb - ankle (rad/s)_sin",
           0.000309864012401448
          ],
          [
           "Mean phase velocity at peak - rhindlimb - hip (rad/s)_sin",
           0.0002913463838479737
          ],
          [
           "Mean step velocity X during swing - hip (m/s)",
           0.0002622710894931792
          ],
          [
           "Mean angle at swing - rhindlimb - lHindpaw (°)_cos",
           0.0002491923732198983
          ],
          [
           "Mean phase acceleration during stance - rhindlimb - lHindpaw (rad/s^2)_sin",
           0.0002367603042618137
          ],
          [
           "Mean step velocity Y at touchdown - lHindfingers (m/s)",
           0.0002326648591003952
          ],
          [
           "Mean angle during stance - rhindlimb - knee (°)_sin",
           0.00019321223083136843
          ],
          [
           "Mean angle velocity at peak - rhindlimb - hip (rad/s)_sin",
           0.00019132942332749633
          ],
          [
           "Mean angle velocity - rhindlimb - hip (rad/s)_cos",
           0.0001843774684526512
          ],
          [
           "Mean step jerk Y at touchdown - lHindpaw (m/s^3)",
           0.00016808610516660038
          ],
          [
           "Mean angle acceleration during swing - rhindlimb - hip (rad/s^2)_sin",
           0.00015909716152105778
          ],
          [
           "Mean step acceleration X at swing - lHindpaw (m/s^2)",
           0.00014969102303237928
          ],
          [
           "Mean phase acceleration - rhindlimb - hip (rad/s^2)_cos",
           0.00014029952782678153
          ],
          [
           "Mean step velocity Y at swing - lHindfingers (m/s)",
           0.0001266862535458995
          ],
          [
           "Mean step acceleration Y at swing - knee (m/s^2)",
           0.00011265429841149339
          ],
          [
           "Mean step velocity X at touchdown - hip (m/s)",
           0.000105662747226667
          ],
          [
           "Mean step velocity X at swing - ankle (m/s)",
           0.00008425139035480216
          ],
          [
           "Mean angle velocity at swing - rhindlimb - knee (rad/s)_sin",
           0.00007722572388633521
          ],
          [
           "Mean step acceleration Y during swing - lHindfingers (m/s^2)",
           0.000056971981751417575
          ],
          [
           "Mean angle at stance - rhindlimb - ankle (°)_sin",
           0.00005583382279617593
          ],
          [
           "Mean angle at swing - rhindlimb - lHindpaw (°)_sin",
           0.00004729474354455502
          ],
          [
           "Mean phase acceleration during swing - rhindlimb - knee (rad/s^2)_sin",
           0.00003971458145132965
          ],
          [
           "Mean angle velocity during swing - rhindlimb - knee (rad/s)_sin",
           0
          ],
          [
           "Mean angle acceleration at swing - rhindlimb - knee (rad/s^2)_sin",
           0
          ],
          [
           "Mean step velocity Y during stance - hip (m/s)",
           0
          ],
          [
           "Mean phase acceleration at peak - rhindlimb - knee (rad/s^2)_cos",
           0
          ],
          [
           "Mean phase velocity at touchdown - rhindlimb - knee (rad/s)_cos",
           0
          ],
          [
           "Mean angle at touchdown - rhindlimb - ankle (°)_cos",
           0
          ],
          [
           "Mean phase velocity during stance - rhindlimb - knee (rad/s)_sin",
           0
          ],
          [
           "Mean phase velocity during swing - rhindlimb - lHindpaw (rad/s)_sin",
           0
          ],
          [
           "Mean angle acceleration during stance - rhindlimb - lHindpaw (rad/s^2)_cos",
           0
          ],
          [
           "Mean phase acceleration during stance - rhindlimb - knee (rad/s^2)_sin",
           0
          ],
          [
           "Mean angle acceleration at stance - rhindlimb - lHindpaw (rad/s^2)_cos",
           0
          ],
          [
           "Mean step duration (s)",
           0
          ]
         ],
         "hovertemplate": "direction=towards_healthy<br>importance=%{x}<br>change_effect_size=%{y}<br>combined_rank=%{customdata[1]}<br>feature=%{customdata[0]}<extra></extra>",
         "legendgroup": "towards_healthy",
         "marker": {
          "color": "green",
          "size": {
           "bdata": "wxt1PPYvmD+yioE54O+TPxaE01e0yZI/3Z3AKa5Bij9Ft+A9k/2JPy+5+9Kk4og/iEYUgh6ugz/ButF9lzaCP3WFguN8KYE/F28GX5kmgD/nEdbA6Wp/P6RIwkxZCn0/uapE0kj0ej/HddTmdt96P55lBTYq3Hg/lLn6HZKleD8VSncvaCZ2P8C2OxwQAXU/LqjsrcqWdD826zV91uJzP0B1i4nsY3I/j4VowiY1cj+Pp3SquO1xPweZqjQE03E/zOziFUOocT8G42MDhw9wP7eLUqkHZ28/eh9s4hb0bT9GXg9b2W9rP9qr8C9CKWg/iPGJc8MgZj+UzXp703xlPxv+axYiS2Q/E2NLukueYz+dNelXMIdiPyasqqTlmmA/jgyvqARCXz/8Zqm7E7leP9rGYDCCV1s/lDVWOdtcWT9ke+oN2lRZPw/RtnRNX1g/H46pdVu0VT9R4TLn8LlUPyCuxQZ2pFQ/PB4kJyi8Uj8kIXyrcz5SP9U9JCEGvVE/y9S/dkVYUT+gJpiR61ZRP9iEM6tA41A/ZNjNRarJUD/wgUNt8HRQP072TOpJG1A/6ZTlzf/WTT/cX+uJK0ZKP97bY6Nrykg/LeJhyKIMRz+nSN1qZa9FPzc9L14V10Q/m2MpHImHRD8HagEQbHlDP6Xygx9m3EI/13ycw1UeQj9pfPuQrBtCP8MfySmwEEI/MsQoYhkOQj9J540fvlZBP26fuP3UyUA/ws+YrpmsPD9yGtMTT2I8PxLRsZqdSTs/rs3UcVWkOT9sGnWWnc84P+WXWxRuczc/AiuqzKdOND+dV8Aw+xczP5P4hsAtMDE/QovoF8FUMD8kNBCHWwgvP/ZX6evvfi4/V/LabCBTKT8uV1478xMpPwNc7WSuKig/tE4ypggIJj8QvhM2atokP52qyxjMniM/ZR5vxKtjIj/fyLSh4pogP+zrFhwaiB0/dz3LLOiyGz9T1WfdAxYWP6F6gdWHPhQ/Fx8lY6beDT+dwxmL40UNP6vrrQPLywg/FLHIoGbSBD8AAAAAAAAAAAAAAAAAAAAAAAAAAAAAAAAAAAAAAAAAAAAAAAAAAAAAAAAAAAAAAAAAAAAAAAAAAAAAAAAAAAAAAAAAAAAAAAAAAAAAAAAAAAAAAAAAAAAAAAAAAAAAAAA=",
           "dtype": "f8"
          },
          "sizemode": "area",
          "sizeref": 0.00006187104987104248,
          "symbol": "circle"
         },
         "mode": "markers",
         "name": "towards_healthy",
         "orientation": "v",
         "showlegend": true,
         "type": "scatter",
         "x": {
          "bdata": "st08oXatmj+v+u61QAmYP2FhqHMN0os/ubQXRhn6gT/KCosYvuWRP3/GlAE2sY8/W/tc1X4bfT/6F9nfy9aBPytYvXmeL4E/T6FHXfTBkD+nsO+BsvuPP5i85M9ZkIA/eBXzDLshgT8KAjVnxVp3P1o+QDlaL4E/2UiOpaeahT97WlmUqtyAP6PVO+A0O30/sk4BHJUaeT/c4QMorTh7P+8fom4aOHU/3pjny/ZCdz+21LyMzDGKPwmUcRiMpHg/sw7KIK6BiT+rW6CWcLFxPwwGoVOKWXc/NhOwyeabhz867Gu5rMuAP+t18zdRQ3A/NKMKA9+MZz/LYj31DxhtP6sehXrlAHU/2iAcX1klez+k+3J8ssBmPyKQOrGisWg/e3F2RCjPYT+tsJGS8xljP6tlw9WqxGw/MyGq756NYT++V9GFpgdoP4i+s6w7wWY/wKbYkLascD91D7cM5PtbP+sQDC+ceFY/30Z8DDYuWT/2JpOSXX1XP911cqwmG10/L9NVx9gPYD/PODshJb9SP8OeQjdVFVY/d/CkIn2aVT9eodlVAcxjP+b+KYdgJmE/pPXfNRcjUz/Cqh8IRdVfP3fu/owK31M/LOGzVNqKWD9ZRT5LFsNRP8ybhPPvNV4/vbwvjjW4WD/Gk3I3hMBKP+r9gY9w0Vw/sGdrR0RhTT8uS4Nw6h9YP4LkvWn7Glc/OUpBc1iLTj/b/Q4MBt1ZP2V7S2gdJFE/SXIAkSRQQz/cfJYInwZTP4zw7XCc4EY/rm3bAS7KRD8LOELvlrVAP2MyVTAqqUM/G1OTTFDkTz8InHzMp2FMP6f1vZalz0U/LvEOFRuHQz/mQ89Q5GFGP+9W4cOrZj4/BQaK2jp5Qz+1b1+BaaNCP91sBK5nGT0/YQ08gDaVPD+SFSjrtNw/Pw/vNJN3vSs/87DYa/toMz8iyonds+w0P/8QD415DTY/td7MZknoMT8ggr2c7HkhP68dMUZ1RCU/IP/IM60QJT9tRqICif8kPwlTM9PX1R8/lJha8uWWHT8AAAAAAAAAAAAAAAAAAAAAAAAAAAAAAAAAAAAAAAAAAAAAAAAAAAAAAAAAAAAAAAAAAAAAAAAAAAAAAAAAAAAAAAAAAAAAAAAAAAAAAAAAAAAAAAAAAAAAAAAAAAAAAAA=",
          "dtype": "f8"
         },
         "xaxis": "x",
         "y": {
          "bdata": "EUPluU8D7T+ux5FM74rqP3/7AXNEnPU/39sBDX1e9z/dl2HiLjznP16sfa2CIOk/Hof8Xsqi9T+hMN1y61XwPw4rL3aV9O8/iPJrNlbX3j+MV5LEI2/fPzyxlW5EDew/xP+s4W8s6T9awDR7DmnyP7nBhLxUJec/39uNXN1A4j8hGs+2iQTlP4ld+u5d/uY/X3gWCrU+6j8Nx2iqg2DnPzYTVsniu+s/sUviqycM6T9tRbUM8ObVP+bBhLxUJec/zvclrgYn1j9qtd6VKAztP8E6phSZhOU/4pwmmrlM1D/h6Md5ISPaP7ZgJIw/xec/O+DSmEAR7j+l7M9oRKLnP/u+EtgS694/9fWvHVwg1z/b0EiG8A7qP+Q6phSZhOU/FPoZOBsV7D/JIgmdErzpP/i3ourRad4/iTFM91Qe5z8gXf2h293gP9QwFewmI+E/NVfxtIvT1D+6bZ0tabPnP/kH4CtVZe0/3E9RRRLP5z/cBMvpjNroP/Gksr+GgOM/zwe7qChH4T/eThVTG5ntP/uVwWSjeOg/iyNuWOPd6D9MbxC925naP4H1j+GjDd4/d9MB2MPy6D+BF7E+cGnaP/9Udu4H9uM/tfOP4aMN3j9B0hqWrYjjP6cwmFgRE9Y/LoUNxGaT2j9g8hZxa0vnP8Dql4GD8dQ/tuIZOvm74z+FEoIO9QTYPxmqp1n/BNk/4+YaFWHq4j/IKjZf7XPVP7MOiVV0V98/rIMHdVvB5z/nS3e9rd7XPybfO5WaFeM/QOMZOvm74z+8R3UQ+8HnP0bfO5WaFeM/PgL/6khg1D/i+r5TLofVP0W1FVCvN9k/rPUaGfnC2j/HcqF0AS/WP30CMXHFDOA/jZ+Xa7bO1D9H+r5TLofVPxODDcRmk9o/Z+Xok0+q2D+D+JmBg/HUPz1xWtAeouY/nbgo/jFR3j+r4wbq32TZPxghOPAhbdU/3kXi2qG/2D/r79PJZzjkP8TbzBbkdd4/udz4mQCw1j/yxJiPH07WP/rKg+Gg7Ng/meojo6aE1j8s6qDX/4HaP7EtCl0iXdk/yUlQdAat2z9euzPn2n/kP3GAa3srLtg/tYfTxDL54j9LT2+sar/WPyFVbdHtAtk/TYovf8gU2T86sJ9CxufWPwrBEI0zbts/FyKUkNYP4T8=",
          "dtype": "f8"
         },
         "yaxis": "y"
        }
       ],
       "layout": {
        "legend": {
         "itemsizing": "constant",
         "title": {
          "text": "direction"
         },
         "tracegroupgap": 0
        },
        "shapes": [
         {
          "line": {
           "color": "black",
           "dash": "dash"
          },
          "type": "line",
          "x0": 0,
          "x1": 1,
          "xref": "x domain",
          "y0": 0,
          "y1": 0,
          "yref": "y"
         }
        ],
        "template": {
         "data": {
          "bar": [
           {
            "error_x": {
             "color": "#2a3f5f"
            },
            "error_y": {
             "color": "#2a3f5f"
            },
            "marker": {
             "line": {
              "color": "#E5ECF6",
              "width": 0.5
             },
             "pattern": {
              "fillmode": "overlay",
              "size": 10,
              "solidity": 0.2
             }
            },
            "type": "bar"
           }
          ],
          "barpolar": [
           {
            "marker": {
             "line": {
              "color": "#E5ECF6",
              "width": 0.5
             },
             "pattern": {
              "fillmode": "overlay",
              "size": 10,
              "solidity": 0.2
             }
            },
            "type": "barpolar"
           }
          ],
          "carpet": [
           {
            "aaxis": {
             "endlinecolor": "#2a3f5f",
             "gridcolor": "white",
             "linecolor": "white",
             "minorgridcolor": "white",
             "startlinecolor": "#2a3f5f"
            },
            "baxis": {
             "endlinecolor": "#2a3f5f",
             "gridcolor": "white",
             "linecolor": "white",
             "minorgridcolor": "white",
             "startlinecolor": "#2a3f5f"
            },
            "type": "carpet"
           }
          ],
          "choropleth": [
           {
            "colorbar": {
             "outlinewidth": 0,
             "ticks": ""
            },
            "type": "choropleth"
           }
          ],
          "contour": [
           {
            "colorbar": {
             "outlinewidth": 0,
             "ticks": ""
            },
            "colorscale": [
             [
              0,
              "#0d0887"
             ],
             [
              0.1111111111111111,
              "#46039f"
             ],
             [
              0.2222222222222222,
              "#7201a8"
             ],
             [
              0.3333333333333333,
              "#9c179e"
             ],
             [
              0.4444444444444444,
              "#bd3786"
             ],
             [
              0.5555555555555556,
              "#d8576b"
             ],
             [
              0.6666666666666666,
              "#ed7953"
             ],
             [
              0.7777777777777778,
              "#fb9f3a"
             ],
             [
              0.8888888888888888,
              "#fdca26"
             ],
             [
              1,
              "#f0f921"
             ]
            ],
            "type": "contour"
           }
          ],
          "contourcarpet": [
           {
            "colorbar": {
             "outlinewidth": 0,
             "ticks": ""
            },
            "type": "contourcarpet"
           }
          ],
          "heatmap": [
           {
            "colorbar": {
             "outlinewidth": 0,
             "ticks": ""
            },
            "colorscale": [
             [
              0,
              "#0d0887"
             ],
             [
              0.1111111111111111,
              "#46039f"
             ],
             [
              0.2222222222222222,
              "#7201a8"
             ],
             [
              0.3333333333333333,
              "#9c179e"
             ],
             [
              0.4444444444444444,
              "#bd3786"
             ],
             [
              0.5555555555555556,
              "#d8576b"
             ],
             [
              0.6666666666666666,
              "#ed7953"
             ],
             [
              0.7777777777777778,
              "#fb9f3a"
             ],
             [
              0.8888888888888888,
              "#fdca26"
             ],
             [
              1,
              "#f0f921"
             ]
            ],
            "type": "heatmap"
           }
          ],
          "histogram": [
           {
            "marker": {
             "pattern": {
              "fillmode": "overlay",
              "size": 10,
              "solidity": 0.2
             }
            },
            "type": "histogram"
           }
          ],
          "histogram2d": [
           {
            "colorbar": {
             "outlinewidth": 0,
             "ticks": ""
            },
            "colorscale": [
             [
              0,
              "#0d0887"
             ],
             [
              0.1111111111111111,
              "#46039f"
             ],
             [
              0.2222222222222222,
              "#7201a8"
             ],
             [
              0.3333333333333333,
              "#9c179e"
             ],
             [
              0.4444444444444444,
              "#bd3786"
             ],
             [
              0.5555555555555556,
              "#d8576b"
             ],
             [
              0.6666666666666666,
              "#ed7953"
             ],
             [
              0.7777777777777778,
              "#fb9f3a"
             ],
             [
              0.8888888888888888,
              "#fdca26"
             ],
             [
              1,
              "#f0f921"
             ]
            ],
            "type": "histogram2d"
           }
          ],
          "histogram2dcontour": [
           {
            "colorbar": {
             "outlinewidth": 0,
             "ticks": ""
            },
            "colorscale": [
             [
              0,
              "#0d0887"
             ],
             [
              0.1111111111111111,
              "#46039f"
             ],
             [
              0.2222222222222222,
              "#7201a8"
             ],
             [
              0.3333333333333333,
              "#9c179e"
             ],
             [
              0.4444444444444444,
              "#bd3786"
             ],
             [
              0.5555555555555556,
              "#d8576b"
             ],
             [
              0.6666666666666666,
              "#ed7953"
             ],
             [
              0.7777777777777778,
              "#fb9f3a"
             ],
             [
              0.8888888888888888,
              "#fdca26"
             ],
             [
              1,
              "#f0f921"
             ]
            ],
            "type": "histogram2dcontour"
           }
          ],
          "mesh3d": [
           {
            "colorbar": {
             "outlinewidth": 0,
             "ticks": ""
            },
            "type": "mesh3d"
           }
          ],
          "parcoords": [
           {
            "line": {
             "colorbar": {
              "outlinewidth": 0,
              "ticks": ""
             }
            },
            "type": "parcoords"
           }
          ],
          "pie": [
           {
            "automargin": true,
            "type": "pie"
           }
          ],
          "scatter": [
           {
            "fillpattern": {
             "fillmode": "overlay",
             "size": 10,
             "solidity": 0.2
            },
            "type": "scatter"
           }
          ],
          "scatter3d": [
           {
            "line": {
             "colorbar": {
              "outlinewidth": 0,
              "ticks": ""
             }
            },
            "marker": {
             "colorbar": {
              "outlinewidth": 0,
              "ticks": ""
             }
            },
            "type": "scatter3d"
           }
          ],
          "scattercarpet": [
           {
            "marker": {
             "colorbar": {
              "outlinewidth": 0,
              "ticks": ""
             }
            },
            "type": "scattercarpet"
           }
          ],
          "scattergeo": [
           {
            "marker": {
             "colorbar": {
              "outlinewidth": 0,
              "ticks": ""
             }
            },
            "type": "scattergeo"
           }
          ],
          "scattergl": [
           {
            "marker": {
             "colorbar": {
              "outlinewidth": 0,
              "ticks": ""
             }
            },
            "type": "scattergl"
           }
          ],
          "scattermap": [
           {
            "marker": {
             "colorbar": {
              "outlinewidth": 0,
              "ticks": ""
             }
            },
            "type": "scattermap"
           }
          ],
          "scattermapbox": [
           {
            "marker": {
             "colorbar": {
              "outlinewidth": 0,
              "ticks": ""
             }
            },
            "type": "scattermapbox"
           }
          ],
          "scatterpolar": [
           {
            "marker": {
             "colorbar": {
              "outlinewidth": 0,
              "ticks": ""
             }
            },
            "type": "scatterpolar"
           }
          ],
          "scatterpolargl": [
           {
            "marker": {
             "colorbar": {
              "outlinewidth": 0,
              "ticks": ""
             }
            },
            "type": "scatterpolargl"
           }
          ],
          "scatterternary": [
           {
            "marker": {
             "colorbar": {
              "outlinewidth": 0,
              "ticks": ""
             }
            },
            "type": "scatterternary"
           }
          ],
          "surface": [
           {
            "colorbar": {
             "outlinewidth": 0,
             "ticks": ""
            },
            "colorscale": [
             [
              0,
              "#0d0887"
             ],
             [
              0.1111111111111111,
              "#46039f"
             ],
             [
              0.2222222222222222,
              "#7201a8"
             ],
             [
              0.3333333333333333,
              "#9c179e"
             ],
             [
              0.4444444444444444,
              "#bd3786"
             ],
             [
              0.5555555555555556,
              "#d8576b"
             ],
             [
              0.6666666666666666,
              "#ed7953"
             ],
             [
              0.7777777777777778,
              "#fb9f3a"
             ],
             [
              0.8888888888888888,
              "#fdca26"
             ],
             [
              1,
              "#f0f921"
             ]
            ],
            "type": "surface"
           }
          ],
          "table": [
           {
            "cells": {
             "fill": {
              "color": "#EBF0F8"
             },
             "line": {
              "color": "white"
             }
            },
            "header": {
             "fill": {
              "color": "#C8D4E3"
             },
             "line": {
              "color": "white"
             }
            },
            "type": "table"
           }
          ]
         },
         "layout": {
          "annotationdefaults": {
           "arrowcolor": "#2a3f5f",
           "arrowhead": 0,
           "arrowwidth": 1
          },
          "autotypenumbers": "strict",
          "coloraxis": {
           "colorbar": {
            "outlinewidth": 0,
            "ticks": ""
           }
          },
          "colorscale": {
           "diverging": [
            [
             0,
             "#8e0152"
            ],
            [
             0.1,
             "#c51b7d"
            ],
            [
             0.2,
             "#de77ae"
            ],
            [
             0.3,
             "#f1b6da"
            ],
            [
             0.4,
             "#fde0ef"
            ],
            [
             0.5,
             "#f7f7f7"
            ],
            [
             0.6,
             "#e6f5d0"
            ],
            [
             0.7,
             "#b8e186"
            ],
            [
             0.8,
             "#7fbc41"
            ],
            [
             0.9,
             "#4d9221"
            ],
            [
             1,
             "#276419"
            ]
           ],
           "sequential": [
            [
             0,
             "#0d0887"
            ],
            [
             0.1111111111111111,
             "#46039f"
            ],
            [
             0.2222222222222222,
             "#7201a8"
            ],
            [
             0.3333333333333333,
             "#9c179e"
            ],
            [
             0.4444444444444444,
             "#bd3786"
            ],
            [
             0.5555555555555556,
             "#d8576b"
            ],
            [
             0.6666666666666666,
             "#ed7953"
            ],
            [
             0.7777777777777778,
             "#fb9f3a"
            ],
            [
             0.8888888888888888,
             "#fdca26"
            ],
            [
             1,
             "#f0f921"
            ]
           ],
           "sequentialminus": [
            [
             0,
             "#0d0887"
            ],
            [
             0.1111111111111111,
             "#46039f"
            ],
            [
             0.2222222222222222,
             "#7201a8"
            ],
            [
             0.3333333333333333,
             "#9c179e"
            ],
            [
             0.4444444444444444,
             "#bd3786"
            ],
            [
             0.5555555555555556,
             "#d8576b"
            ],
            [
             0.6666666666666666,
             "#ed7953"
            ],
            [
             0.7777777777777778,
             "#fb9f3a"
            ],
            [
             0.8888888888888888,
             "#fdca26"
            ],
            [
             1,
             "#f0f921"
            ]
           ]
          },
          "colorway": [
           "#636efa",
           "#EF553B",
           "#00cc96",
           "#ab63fa",
           "#FFA15A",
           "#19d3f3",
           "#FF6692",
           "#B6E880",
           "#FF97FF",
           "#FECB52"
          ],
          "font": {
           "color": "#2a3f5f"
          },
          "geo": {
           "bgcolor": "white",
           "lakecolor": "white",
           "landcolor": "#E5ECF6",
           "showlakes": true,
           "showland": true,
           "subunitcolor": "white"
          },
          "hoverlabel": {
           "align": "left"
          },
          "hovermode": "closest",
          "mapbox": {
           "style": "light"
          },
          "paper_bgcolor": "white",
          "plot_bgcolor": "#E5ECF6",
          "polar": {
           "angularaxis": {
            "gridcolor": "white",
            "linecolor": "white",
            "ticks": ""
           },
           "bgcolor": "#E5ECF6",
           "radialaxis": {
            "gridcolor": "white",
            "linecolor": "white",
            "ticks": ""
           }
          },
          "scene": {
           "xaxis": {
            "backgroundcolor": "#E5ECF6",
            "gridcolor": "white",
            "gridwidth": 2,
            "linecolor": "white",
            "showbackground": true,
            "ticks": "",
            "zerolinecolor": "white"
           },
           "yaxis": {
            "backgroundcolor": "#E5ECF6",
            "gridcolor": "white",
            "gridwidth": 2,
            "linecolor": "white",
            "showbackground": true,
            "ticks": "",
            "zerolinecolor": "white"
           },
           "zaxis": {
            "backgroundcolor": "#E5ECF6",
            "gridcolor": "white",
            "gridwidth": 2,
            "linecolor": "white",
            "showbackground": true,
            "ticks": "",
            "zerolinecolor": "white"
           }
          },
          "shapedefaults": {
           "line": {
            "color": "#2a3f5f"
           }
          },
          "ternary": {
           "aaxis": {
            "gridcolor": "white",
            "linecolor": "white",
            "ticks": ""
           },
           "baxis": {
            "gridcolor": "white",
            "linecolor": "white",
            "ticks": ""
           },
           "bgcolor": "#E5ECF6",
           "caxis": {
            "gridcolor": "white",
            "linecolor": "white",
            "ticks": ""
           }
          },
          "title": {
           "x": 0.05
          },
          "xaxis": {
           "automargin": true,
           "gridcolor": "white",
           "linecolor": "white",
           "ticks": "",
           "title": {
            "standoff": 15
           },
           "zerolinecolor": "white",
           "zerolinewidth": 2
          },
          "yaxis": {
           "automargin": true,
           "gridcolor": "white",
           "linecolor": "white",
           "ticks": "",
           "title": {
            "standoff": 15
           },
           "zerolinecolor": "white",
           "zerolinewidth": 2
          }
         }
        },
        "title": {
         "text": "Feature Importance vs. Treatment Direction"
        },
        "xaxis": {
         "anchor": "y",
         "domain": [
          0,
          1
         ],
         "title": {
          "text": "importance"
         }
        },
        "yaxis": {
         "anchor": "x",
         "domain": [
          0,
          1
         ],
         "title": {
          "text": "change_effect_size"
         }
        }
       }
      }
     },
     "metadata": {},
     "output_type": "display_data"
    }
   ],
   "source": [
    "# 3) Create combined_rank now (so it's available everywhere)\n",
    "res_df[\"combined_rank\"] = res_df[\"importance\"] * res_df[\"change_effect_size\"].abs()\n",
    "\n",
    "# 4) Elbow selection on |change_effect_size| (biologically focused)\n",
    "res_ranked = res_df.copy()\n",
    "res_ranked = res_ranked.dropna(subset=[\"change_effect_size\"])  # exclude no-gap features from elbow\n",
    "res_ranked[\"rank_key\"] = res_ranked[\"change_effect_size\"].abs()\n",
    "res_ranked = res_ranked.sort_values(\"rank_key\", ascending=False).reset_index(drop=True)\n",
    "\n",
    "if res_ranked.empty:\n",
    "    k_opt = 0\n",
    "    selected = res_ranked.copy()\n",
    "else:\n",
    "    vals = res_ranked[\"rank_key\"].to_numpy()\n",
    "    cum = np.cumsum(vals)\n",
    "    cum_norm = cum / cum[-1]\n",
    "    x = np.linspace(0, 1, num=len(cum_norm), endpoint=True)\n",
    "    distances = cum_norm - x\n",
    "    k_opt = int(np.argmax(distances)) + 1\n",
    "    selected = res_ranked.iloc[:k_opt].copy()\n",
    "\n",
    "print(f\"Elbow-selected feature count (by |change_effect_size|): {k_opt}\")\n",
    "# print(selected[[\"feature\", \"importance\", \"change_effect_size\", \"combined_rank\"]].head(10))\n",
    "\n",
    "# 5) Optional biological floor, e.g., at least 20% of gap moved\n",
    "min_effect = 0.20\n",
    "selected = selected[selected[\"change_effect_size\"].abs() >= min_effect]\n",
    "print(f\"After enforcing |change_effect_size| ≥ {min_effect:.2f}: {selected.shape[0]} features kept\")\n",
    "\n",
    "# 6) Direction labels (for downstream plots)\n",
    "res_df[\"direction\"] = np.where(res_df[\"change_effect_size\"] > 0, \"towards_healthy\",\n",
    "                        np.where(res_df[\"change_effect_size\"] < 0, \"away_from_healthy\", \"no_change\"))\n",
    "\n",
    "print(res_df.head(20))\n",
    "print(\"\\nDirection counts:\\n\", res_df[\"direction\"].value_counts())\n",
    "\n",
    "# 7) Reduced dataset with selected features\n",
    "top_feature_list = selected[\"feature\"].tolist()\n",
    "print(f\"Top {len(top_feature_list)} features selected for further analysis.\")\n",
    "_reduced_hindlimb_df = left_hindlimb_features_df[top_feature_list]\n",
    "print(_reduced_hindlimb_df.shape)\n",
    "fig = px.scatter(\n",
    "    res_df[res_df[\"feature\"].isin(top_feature_list)],\n",
    "    x=\"importance\",\n",
    "    y=\"change_effect_size\",\n",
    "    size=\"combined_rank\",\n",
    "    color=\"direction\",\n",
    "    hover_data=[\"feature\", \"importance\", \"change_effect_size\", \"combined_rank\"],\n",
    "    color_discrete_map={\n",
    "        \"towards_healthy\": \"green\",\n",
    "        \"away_from_healthy\": \"red\",\n",
    "        \"no_change\": \"gray\"\n",
    "    },\n",
    "    title=\"Feature Importance vs. Treatment Direction\"\n",
    ")\n",
    "\n",
    "fig.add_hline(y=0, line_dash=\"dash\", line_color=\"black\")\n",
    "fig.show()\n",
    "# fig.write_html(os.path.join('./', 'feature_change_analysis.html'))"
   ]
  },
  {
   "cell_type": "code",
   "execution_count": 23,
   "id": "9f942c56",
   "metadata": {},
   "outputs": [
    {
     "name": "stdout",
     "output_type": "stream",
     "text": [
      "(58, 235)\n",
      "[DEBUG] Dataset Label Map: {0: 'B_postDLC', 1: 'B_preDLC', 2: 'C_postDLC', 3: 'C_preDLC', 4: 'E_postDLC', 5: 'E_preDLC'}\n",
      "[DEBUG] Mouse Label Map: {0: 'mouse11_left', 1: 'mouse12_left', 2: 'mouse13_left', 3: 'mouse14_left', 4: 'mouse15_left', 5: 'mouse16_left', 6: 'mouse17_left', 7: 'mouse18_left', 8: 'mouse19_left', 9: 'mouse20_left', 10: 'mouse21_left', 11: 'mouse22_left', 12: 'mouse23_left', 13: 'mouse24_left', 14: 'mouse25_left', 15: 'mouse26_left', 16: 'mouse27_left', 17: 'mouse28_left', 18: 'mouse29_left', 19: 'mouse30_left', 20: 'mouse41_left', 21: 'mouse42_left', 22: 'mouse43_left', 23: 'mouse44_left', 24: 'mouse45_left', 25: 'mouse46_left', 26: 'mouse47_left', 27: 'mouse48_left', 28: 'mouse49_left', 29: 'mouse50_left'}\n"
     ]
    },
    {
     "name": "stderr",
     "output_type": "stream",
     "text": [
      "c:\\Users\\Simone\\Documents\\DTU\\MScThesis\\.venv\\Lib\\site-packages\\umap\\umap_.py:1952: UserWarning:\n",
      "\n",
      "n_jobs value 1 overridden to 1 by setting random_state. Use no seed for parallelism.\n",
      "\n"
     ]
    }
   ],
   "source": [
    "# top_feature_list = res_df[\"feature\"].tolist() \n",
    "top_feature_list.append('Dataset')\n",
    "top_feature_list.append('Mouse') \n",
    "reduced_hindlimb_df = _left_hindlimb_features_df[top_feature_list]\n",
    "print(reduced_hindlimb_df.shape)\n",
    "\n",
    "reduced_features_df = reduced_hindlimb_df[reduced_hindlimb_df['Mouse'].str.lower().str.contains('left')]\n",
    "preprocessed_data, dataset_label_map, mouse_label_map, label_cols = preprocess_data(reduced_features_df)\n",
    "\n",
    "X_agg, y_mouse, y_dataset = aggregate_features(preprocessed_data, label_cols, method=\"median\")\n",
    "\n",
    "umap_reducer, umap_plot_df = perform_dimensionality_reduction(\n",
    "        X_agg, y_mouse, y_dataset,\n",
    "        dataset_label_map, mouse_label_map,\n",
    "        method=\"UMAP\", n_components=3,\n",
    "        target_metric='categorical',\n",
    "        target_weight=0,\n",
    "        n_neighbors=15,\n",
    "        min_dist=0.05,\n",
    "        plot=False, save=False\n",
    "    )"
   ]
  },
  {
   "cell_type": "code",
   "execution_count": 24,
   "id": "eac429c9",
   "metadata": {},
   "outputs": [
    {
     "data": {
      "application/vnd.plotly.v1+json": {
       "config": {
        "plotlyServerURL": "https://plot.ly"
       },
       "data": [
        {
         "customdata": {
          "bdata": "AAAAAAAAAAAAAAAAAQAAAAAAAAACAAAAAAAAAAMAAAAAAAAABAAAAAAAAAAFAAAAAAAAAAYAAAAAAAAABwAAAAAAAAAIAAAAAAAAAAkAAAA=",
          "dtype": "i4",
          "shape": "10, 2"
         },
         "hovertemplate": "<b>%{hovertext}</b><br><br>ColorKey=B_postDLC<br>UMAP1=%{x}<br>UMAP2=%{y}<br>UMAP3=%{z}<br>Dataset=%{customdata[0]}<br>Mouse=%{customdata[1]}<extra></extra>",
         "hovertext": [
          "mouse11_left",
          "mouse12_left",
          "mouse13_left",
          "mouse14_left",
          "mouse15_left",
          "mouse16_left",
          "mouse17_left",
          "mouse18_left",
          "mouse19_left",
          "mouse20_left"
         ],
         "legendgroup": "B_postDLC",
         "marker": {
          "color": "#636EFA",
          "line": {
           "color": "black",
           "width": 0.3
          },
          "size": 4,
          "symbol": "circle"
         },
         "mode": "markers",
         "name": "B_postDLC",
         "scene": "scene",
         "showlegend": true,
         "type": "scatter3d",
         "x": {
          "bdata": "keMcQZZ88EAEFiRBK4rxQIGE90CcgCJBIIzzQNS2IkERtPRAotMiQQ==",
          "dtype": "f4"
         },
         "y": {
          "bdata": "ATMPQcZV6EAz/AZBZpHjQF0CzkB5CQpBTrTRQAQsC0GxRtBAkg4KQQ==",
          "dtype": "f4"
         },
         "z": {
          "bdata": "wo/gQBsT9kD2/d1A3ij3QKXV70Dc/NNAK6TzQAOo30Ah3PRA35LRQA==",
          "dtype": "f4"
         }
        },
        {
         "customdata": {
          "bdata": "AQAAAAAAAAABAAAAAQAAAAEAAAACAAAAAQAAAAMAAAABAAAABAAAAAEAAAAFAAAAAQAAAAYAAAABAAAABwAAAAEAAAAIAAAAAQAAAAkAAAADAAAACgAAAAMAAAALAAAAAwAAAAwAAAADAAAADQAAAAMAAAAOAAAAAwAAAA8AAAADAAAAEAAAAAMAAAARAAAAAwAAABIAAAADAAAAEwAAAAUAAAAUAAAABQAAABYAAAAFAAAAFwAAAAUAAAAYAAAABQAAABkAAAAFAAAAGgAAAAUAAAAbAAAABQAAABwAAAA=",
          "dtype": "i4",
          "shape": "28, 2"
         },
         "hovertemplate": "<b>%{hovertext}</b><br><br>ColorKey=Pre<br>UMAP1=%{x}<br>UMAP2=%{y}<br>UMAP3=%{z}<br>Dataset=%{customdata[0]}<br>Mouse=%{customdata[1]}<extra></extra>",
         "hovertext": [
          "mouse11_left",
          "mouse12_left",
          "mouse13_left",
          "mouse14_left",
          "mouse15_left",
          "mouse16_left",
          "mouse17_left",
          "mouse18_left",
          "mouse19_left",
          "mouse20_left",
          "mouse21_left",
          "mouse22_left",
          "mouse23_left",
          "mouse24_left",
          "mouse25_left",
          "mouse26_left",
          "mouse27_left",
          "mouse28_left",
          "mouse29_left",
          "mouse30_left",
          "mouse41_left",
          "mouse43_left",
          "mouse44_left",
          "mouse45_left",
          "mouse46_left",
          "mouse47_left",
          "mouse48_left",
          "mouse49_left"
         ],
         "legendgroup": "Pre",
         "marker": {
          "color": "#7f7f7f",
          "line": {
           "color": "black",
           "width": 0.3
          },
          "size": 4,
          "symbol": "circle"
         },
         "mode": "markers",
         "name": "Pre",
         "scene": "scene",
         "showlegend": true,
         "type": "scatter3d",
         "x": {
          "bdata": "D9PbQEYW60BYIuxAL8vXQLO+8kAe8edA9SnlQMIC30CRtuNAbMTdQCof90A3bPtAFPL8QJfL80DHFuJAb173QOTh/kC0wu1AJQkFQf8/30DCBrxA93C6QDWuvkCDQrlAnwnAQMSSv0Db2/RAvUAvQQ==",
          "dtype": "f4"
         },
         "y": {
          "bdata": "6BULQfn6AEEPWBZBi7oIQSd0GUGnxw5B3J4FQQ70BUE0LARBeQIEQWKoIUFdCyBBExAdQQVRIkFwHhZB/vggQa+tIUFE/SFB9qwZQdAEHEE+kghB8VULQWYkEkHvnglBfgMSQQfNCkEVAhtBv7sHQQ==",
          "dtype": "f4"
         },
         "z": {
          "bdata": "IurGQCsx0EB14M1AO3TLQF85zEBzV89A9ivPQPda10AyZMZAfXzXQCLM9ECJXt1AsSrtQGG460C4gO9A/8rjQCAs40B5xu9AIMb2QF0w70B4KAhBKlsBQd9m/UAogAdBfr8AQV1LBUEMiNZAxlT6QA==",
          "dtype": "f4"
         }
        },
        {
         "customdata": {
          "bdata": "AgAAAAoAAAACAAAACwAAAAIAAAAMAAAAAgAAAA0AAAACAAAADgAAAAIAAAAPAAAAAgAAABAAAAACAAAAEQAAAAIAAAASAAAAAgAAABMAAAA=",
          "dtype": "i4",
          "shape": "10, 2"
         },
         "hovertemplate": "<b>%{hovertext}</b><br><br>ColorKey=C_postDLC<br>UMAP1=%{x}<br>UMAP2=%{y}<br>UMAP3=%{z}<br>Dataset=%{customdata[0]}<br>Mouse=%{customdata[1]}<extra></extra>",
         "hovertext": [
          "mouse21_left",
          "mouse22_left",
          "mouse23_left",
          "mouse24_left",
          "mouse25_left",
          "mouse26_left",
          "mouse27_left",
          "mouse28_left",
          "mouse29_left",
          "mouse30_left"
         ],
         "legendgroup": "C_postDLC",
         "marker": {
          "color": "#EF553B",
          "line": {
           "color": "black",
           "width": 0.3
          },
          "size": 4,
          "symbol": "circle"
         },
         "mode": "markers",
         "name": "C_postDLC",
         "scene": "scene",
         "showlegend": true,
         "type": "scatter3d",
         "x": {
          "bdata": "xh8qQaRVL0Eqwy5BF4PHQFwcMkEasChBb8sfQRTeMUEDGytBK1IfQQ==",
          "dtype": "f4"
         },
         "y": {
          "bdata": "UwTyQPU98UAcnfZAWL8KQXoy+0B6luxA91v0QDeM60Ce/+hA3szyQA==",
          "dtype": "f4"
         },
         "z": {
          "bdata": "KdXcQPRv20DbaetA9XHxQMA92EC479xAqPnfQOpX3kA0vuVA0ezgQA==",
          "dtype": "f4"
         }
        },
        {
         "customdata": {
          "bdata": "BAAAABQAAAAEAAAAFQAAAAQAAAAWAAAABAAAABcAAAAEAAAAGAAAAAQAAAAZAAAABAAAABoAAAAEAAAAGwAAAAQAAAAcAAAABAAAAB0AAAA=",
          "dtype": "i4",
          "shape": "10, 2"
         },
         "hovertemplate": "<b>%{hovertext}</b><br><br>ColorKey=E_postDLC<br>UMAP1=%{x}<br>UMAP2=%{y}<br>UMAP3=%{z}<br>Dataset=%{customdata[0]}<br>Mouse=%{customdata[1]}<extra></extra>",
         "hovertext": [
          "mouse41_left",
          "mouse42_left",
          "mouse43_left",
          "mouse44_left",
          "mouse45_left",
          "mouse46_left",
          "mouse47_left",
          "mouse48_left",
          "mouse49_left",
          "mouse50_left"
         ],
         "legendgroup": "E_postDLC",
         "marker": {
          "color": "#00CC96",
          "line": {
           "color": "black",
           "width": 0.3
          },
          "size": 4,
          "symbol": "circle"
         },
         "mode": "markers",
         "name": "E_postDLC",
         "scene": "scene",
         "showlegend": true,
         "type": "scatter3d",
         "x": {
          "bdata": "eUYvQcOjNEF/IDlB7pw0QZKmNkEbKS9BSXQnQRJLOEGNQzBBVJI6QQ==",
          "dtype": "f4"
         },
         "y": {
          "bdata": "RE8UQYcCD0GaTBFBlZcTQdCWDkEtAxNBLO0TQfPiE0GcDQ9BVc8UQQ==",
          "dtype": "f4"
         },
         "z": {
          "bdata": "2kIDQWifB0HDRAZBYTUKQX7vC0FmPgpBMikDQStxCEFOAQRB5CkJQQ==",
          "dtype": "f4"
         }
        },
        {
         "customdata": {
          "bdata": "AAAAAAAAAAAAAAAAAQAAAAAAAAACAAAAAAAAAAMAAAAAAAAABAAAAAAAAAAFAAAAAAAAAAYAAAAAAAAABwAAAAAAAAAIAAAAAAAAAAkAAAA=",
          "dtype": "i4",
          "shape": "10, 2"
         },
         "hovertemplate": "<b>%{hovertext}</b><br><br>DatasetName=B_postDLC<br>UMAP1=%{x}<br>UMAP2=%{y}<br>UMAP3=%{z}<br>Dataset=%{customdata[0]}<br>Mouse=%{customdata[1]}<extra></extra>",
         "hovertext": [
          "mouse11_left",
          "mouse12_left",
          "mouse13_left",
          "mouse14_left",
          "mouse15_left",
          "mouse16_left",
          "mouse17_left",
          "mouse18_left",
          "mouse19_left",
          "mouse20_left"
         ],
         "legendgroup": "B_postDLC",
         "marker": {
          "color": "#636EFA",
          "line": {
           "color": "black",
           "width": 0.3
          },
          "size": 4,
          "symbol": "circle"
         },
         "mode": "markers",
         "name": "B_postDLC",
         "scene": "scene2",
         "showlegend": true,
         "type": "scatter3d",
         "x": {
          "bdata": "keMcQZZ88EAEFiRBK4rxQIGE90CcgCJBIIzzQNS2IkERtPRAotMiQQ==",
          "dtype": "f4"
         },
         "y": {
          "bdata": "ATMPQcZV6EAz/AZBZpHjQF0CzkB5CQpBTrTRQAQsC0GxRtBAkg4KQQ==",
          "dtype": "f4"
         },
         "z": {
          "bdata": "wo/gQBsT9kD2/d1A3ij3QKXV70Dc/NNAK6TzQAOo30Ah3PRA35LRQA==",
          "dtype": "f4"
         }
        },
        {
         "customdata": {
          "bdata": "AQAAAAAAAAABAAAAAQAAAAEAAAACAAAAAQAAAAMAAAABAAAABAAAAAEAAAAFAAAAAQAAAAYAAAABAAAABwAAAAEAAAAIAAAAAQAAAAkAAAA=",
          "dtype": "i4",
          "shape": "10, 2"
         },
         "hovertemplate": "<b>%{hovertext}</b><br><br>DatasetName=B_preDLC<br>UMAP1=%{x}<br>UMAP2=%{y}<br>UMAP3=%{z}<br>Dataset=%{customdata[0]}<br>Mouse=%{customdata[1]}<extra></extra>",
         "hovertext": [
          "mouse11_left",
          "mouse12_left",
          "mouse13_left",
          "mouse14_left",
          "mouse15_left",
          "mouse16_left",
          "mouse17_left",
          "mouse18_left",
          "mouse19_left",
          "mouse20_left"
         ],
         "legendgroup": "B_preDLC",
         "marker": {
          "color": "#FFA15A",
          "line": {
           "color": "black",
           "width": 0.3
          },
          "size": 4,
          "symbol": "circle"
         },
         "mode": "markers",
         "name": "B_preDLC",
         "scene": "scene2",
         "showlegend": true,
         "type": "scatter3d",
         "x": {
          "bdata": "D9PbQEYW60BYIuxAL8vXQLO+8kAe8edA9SnlQMIC30CRtuNAbMTdQA==",
          "dtype": "f4"
         },
         "y": {
          "bdata": "6BULQfn6AEEPWBZBi7oIQSd0GUGnxw5B3J4FQQ70BUE0LARBeQIEQQ==",
          "dtype": "f4"
         },
         "z": {
          "bdata": "IurGQCsx0EB14M1AO3TLQF85zEBzV89A9ivPQPda10AyZMZAfXzXQA==",
          "dtype": "f4"
         }
        },
        {
         "customdata": {
          "bdata": "AgAAAAoAAAACAAAACwAAAAIAAAAMAAAAAgAAAA0AAAACAAAADgAAAAIAAAAPAAAAAgAAABAAAAACAAAAEQAAAAIAAAASAAAAAgAAABMAAAA=",
          "dtype": "i4",
          "shape": "10, 2"
         },
         "hovertemplate": "<b>%{hovertext}</b><br><br>DatasetName=C_postDLC<br>UMAP1=%{x}<br>UMAP2=%{y}<br>UMAP3=%{z}<br>Dataset=%{customdata[0]}<br>Mouse=%{customdata[1]}<extra></extra>",
         "hovertext": [
          "mouse21_left",
          "mouse22_left",
          "mouse23_left",
          "mouse24_left",
          "mouse25_left",
          "mouse26_left",
          "mouse27_left",
          "mouse28_left",
          "mouse29_left",
          "mouse30_left"
         ],
         "legendgroup": "C_postDLC",
         "marker": {
          "color": "#EF553B",
          "line": {
           "color": "black",
           "width": 0.3
          },
          "size": 4,
          "symbol": "circle"
         },
         "mode": "markers",
         "name": "C_postDLC",
         "scene": "scene2",
         "showlegend": true,
         "type": "scatter3d",
         "x": {
          "bdata": "xh8qQaRVL0Eqwy5BF4PHQFwcMkEasChBb8sfQRTeMUEDGytBK1IfQQ==",
          "dtype": "f4"
         },
         "y": {
          "bdata": "UwTyQPU98UAcnfZAWL8KQXoy+0B6luxA91v0QDeM60Ce/+hA3szyQA==",
          "dtype": "f4"
         },
         "z": {
          "bdata": "KdXcQPRv20DbaetA9XHxQMA92EC479xAqPnfQOpX3kA0vuVA0ezgQA==",
          "dtype": "f4"
         }
        },
        {
         "customdata": {
          "bdata": "AwAAAAoAAAADAAAACwAAAAMAAAAMAAAAAwAAAA0AAAADAAAADgAAAAMAAAAPAAAAAwAAABAAAAADAAAAEQAAAAMAAAASAAAAAwAAABMAAAA=",
          "dtype": "i4",
          "shape": "10, 2"
         },
         "hovertemplate": "<b>%{hovertext}</b><br><br>DatasetName=C_preDLC<br>UMAP1=%{x}<br>UMAP2=%{y}<br>UMAP3=%{z}<br>Dataset=%{customdata[0]}<br>Mouse=%{customdata[1]}<extra></extra>",
         "hovertext": [
          "mouse21_left",
          "mouse22_left",
          "mouse23_left",
          "mouse24_left",
          "mouse25_left",
          "mouse26_left",
          "mouse27_left",
          "mouse28_left",
          "mouse29_left",
          "mouse30_left"
         ],
         "legendgroup": "C_preDLC",
         "marker": {
          "color": "#19d3f3",
          "line": {
           "color": "black",
           "width": 0.3
          },
          "size": 4,
          "symbol": "circle"
         },
         "mode": "markers",
         "name": "C_preDLC",
         "scene": "scene2",
         "showlegend": true,
         "type": "scatter3d",
         "x": {
          "bdata": "Kh/3QDds+0AU8vxAl8vzQMcW4kBvXvdA5OH+QLTC7UAlCQVB/z/fQA==",
          "dtype": "f4"
         },
         "y": {
          "bdata": "YqghQV0LIEETEB1BBVEiQXAeFkH++CBBr60hQUT9IUH2rBlB0AQcQQ==",
          "dtype": "f4"
         },
         "z": {
          "bdata": "Isz0QIle3UCxKu1AYbjrQLiA70D/yuNAICzjQHnG70AgxvZAXTDvQA==",
          "dtype": "f4"
         }
        },
        {
         "customdata": {
          "bdata": "BAAAABQAAAAEAAAAFQAAAAQAAAAWAAAABAAAABcAAAAEAAAAGAAAAAQAAAAZAAAABAAAABoAAAAEAAAAGwAAAAQAAAAcAAAABAAAAB0AAAA=",
          "dtype": "i4",
          "shape": "10, 2"
         },
         "hovertemplate": "<b>%{hovertext}</b><br><br>DatasetName=E_postDLC<br>UMAP1=%{x}<br>UMAP2=%{y}<br>UMAP3=%{z}<br>Dataset=%{customdata[0]}<br>Mouse=%{customdata[1]}<extra></extra>",
         "hovertext": [
          "mouse41_left",
          "mouse42_left",
          "mouse43_left",
          "mouse44_left",
          "mouse45_left",
          "mouse46_left",
          "mouse47_left",
          "mouse48_left",
          "mouse49_left",
          "mouse50_left"
         ],
         "legendgroup": "E_postDLC",
         "marker": {
          "color": "#00CC96",
          "line": {
           "color": "black",
           "width": 0.3
          },
          "size": 4,
          "symbol": "circle"
         },
         "mode": "markers",
         "name": "E_postDLC",
         "scene": "scene2",
         "showlegend": true,
         "type": "scatter3d",
         "x": {
          "bdata": "eUYvQcOjNEF/IDlB7pw0QZKmNkEbKS9BSXQnQRJLOEGNQzBBVJI6QQ==",
          "dtype": "f4"
         },
         "y": {
          "bdata": "RE8UQYcCD0GaTBFBlZcTQdCWDkEtAxNBLO0TQfPiE0GcDQ9BVc8UQQ==",
          "dtype": "f4"
         },
         "z": {
          "bdata": "2kIDQWifB0HDRAZBYTUKQX7vC0FmPgpBMikDQStxCEFOAQRB5CkJQQ==",
          "dtype": "f4"
         }
        },
        {
         "customdata": {
          "bdata": "BQAAABQAAAAFAAAAFgAAAAUAAAAXAAAABQAAABgAAAAFAAAAGQAAAAUAAAAaAAAABQAAABsAAAAFAAAAHAAAAA==",
          "dtype": "i4",
          "shape": "8, 2"
         },
         "hovertemplate": "<b>%{hovertext}</b><br><br>DatasetName=E_preDLC<br>UMAP1=%{x}<br>UMAP2=%{y}<br>UMAP3=%{z}<br>Dataset=%{customdata[0]}<br>Mouse=%{customdata[1]}<extra></extra>",
         "hovertext": [
          "mouse41_left",
          "mouse43_left",
          "mouse44_left",
          "mouse45_left",
          "mouse46_left",
          "mouse47_left",
          "mouse48_left",
          "mouse49_left"
         ],
         "legendgroup": "E_preDLC",
         "marker": {
          "color": "#FF6692",
          "line": {
           "color": "black",
           "width": 0.3
          },
          "size": 4,
          "symbol": "circle"
         },
         "mode": "markers",
         "name": "E_preDLC",
         "scene": "scene2",
         "showlegend": true,
         "type": "scatter3d",
         "x": {
          "bdata": "wga8QPdwukA1rr5Ag0K5QJ8JwEDEkr9A29v0QL1AL0E=",
          "dtype": "f4"
         },
         "y": {
          "bdata": "PpIIQfFVC0FmJBJB754JQX4DEkEHzQpBFQIbQb+7B0E=",
          "dtype": "f4"
         },
         "z": {
          "bdata": "eCgIQSpbAUHfZv1AKIAHQX6/AEFdSwVBDIjWQMZU+kA=",
          "dtype": "f4"
         }
        }
       ],
       "layout": {
        "annotations": [
         {
          "font": {
           "size": 16
          },
          "showarrow": false,
          "text": "UMAP 3D — Pre vs Others",
          "x": 0.225,
          "xanchor": "center",
          "xref": "paper",
          "y": 1,
          "yanchor": "bottom",
          "yref": "paper"
         },
         {
          "font": {
           "size": 16
          },
          "showarrow": false,
          "text": "UMAP 3D — Each Dataset",
          "x": 0.775,
          "xanchor": "center",
          "xref": "paper",
          "y": 1,
          "yanchor": "bottom",
          "yref": "paper"
         }
        ],
        "height": 600,
        "legend": {
         "orientation": "v",
         "title": {
          "text": "Dataset"
         }
        },
        "margin": {
         "b": 0,
         "l": 0,
         "r": 0,
         "t": 60
        },
        "scene": {
         "aspectmode": "data",
         "domain": {
          "x": [
           0,
           0.45
          ],
          "y": [
           0,
           1
          ]
         }
        },
        "scene2": {
         "aspectmode": "data",
         "domain": {
          "x": [
           0.55,
           1
          ],
          "y": [
           0,
           1
          ]
         }
        },
        "showlegend": true,
        "template": {
         "data": {
          "bar": [
           {
            "error_x": {
             "color": "#2a3f5f"
            },
            "error_y": {
             "color": "#2a3f5f"
            },
            "marker": {
             "line": {
              "color": "#E5ECF6",
              "width": 0.5
             },
             "pattern": {
              "fillmode": "overlay",
              "size": 10,
              "solidity": 0.2
             }
            },
            "type": "bar"
           }
          ],
          "barpolar": [
           {
            "marker": {
             "line": {
              "color": "#E5ECF6",
              "width": 0.5
             },
             "pattern": {
              "fillmode": "overlay",
              "size": 10,
              "solidity": 0.2
             }
            },
            "type": "barpolar"
           }
          ],
          "carpet": [
           {
            "aaxis": {
             "endlinecolor": "#2a3f5f",
             "gridcolor": "white",
             "linecolor": "white",
             "minorgridcolor": "white",
             "startlinecolor": "#2a3f5f"
            },
            "baxis": {
             "endlinecolor": "#2a3f5f",
             "gridcolor": "white",
             "linecolor": "white",
             "minorgridcolor": "white",
             "startlinecolor": "#2a3f5f"
            },
            "type": "carpet"
           }
          ],
          "choropleth": [
           {
            "colorbar": {
             "outlinewidth": 0,
             "ticks": ""
            },
            "type": "choropleth"
           }
          ],
          "contour": [
           {
            "colorbar": {
             "outlinewidth": 0,
             "ticks": ""
            },
            "colorscale": [
             [
              0,
              "#0d0887"
             ],
             [
              0.1111111111111111,
              "#46039f"
             ],
             [
              0.2222222222222222,
              "#7201a8"
             ],
             [
              0.3333333333333333,
              "#9c179e"
             ],
             [
              0.4444444444444444,
              "#bd3786"
             ],
             [
              0.5555555555555556,
              "#d8576b"
             ],
             [
              0.6666666666666666,
              "#ed7953"
             ],
             [
              0.7777777777777778,
              "#fb9f3a"
             ],
             [
              0.8888888888888888,
              "#fdca26"
             ],
             [
              1,
              "#f0f921"
             ]
            ],
            "type": "contour"
           }
          ],
          "contourcarpet": [
           {
            "colorbar": {
             "outlinewidth": 0,
             "ticks": ""
            },
            "type": "contourcarpet"
           }
          ],
          "heatmap": [
           {
            "colorbar": {
             "outlinewidth": 0,
             "ticks": ""
            },
            "colorscale": [
             [
              0,
              "#0d0887"
             ],
             [
              0.1111111111111111,
              "#46039f"
             ],
             [
              0.2222222222222222,
              "#7201a8"
             ],
             [
              0.3333333333333333,
              "#9c179e"
             ],
             [
              0.4444444444444444,
              "#bd3786"
             ],
             [
              0.5555555555555556,
              "#d8576b"
             ],
             [
              0.6666666666666666,
              "#ed7953"
             ],
             [
              0.7777777777777778,
              "#fb9f3a"
             ],
             [
              0.8888888888888888,
              "#fdca26"
             ],
             [
              1,
              "#f0f921"
             ]
            ],
            "type": "heatmap"
           }
          ],
          "histogram": [
           {
            "marker": {
             "pattern": {
              "fillmode": "overlay",
              "size": 10,
              "solidity": 0.2
             }
            },
            "type": "histogram"
           }
          ],
          "histogram2d": [
           {
            "colorbar": {
             "outlinewidth": 0,
             "ticks": ""
            },
            "colorscale": [
             [
              0,
              "#0d0887"
             ],
             [
              0.1111111111111111,
              "#46039f"
             ],
             [
              0.2222222222222222,
              "#7201a8"
             ],
             [
              0.3333333333333333,
              "#9c179e"
             ],
             [
              0.4444444444444444,
              "#bd3786"
             ],
             [
              0.5555555555555556,
              "#d8576b"
             ],
             [
              0.6666666666666666,
              "#ed7953"
             ],
             [
              0.7777777777777778,
              "#fb9f3a"
             ],
             [
              0.8888888888888888,
              "#fdca26"
             ],
             [
              1,
              "#f0f921"
             ]
            ],
            "type": "histogram2d"
           }
          ],
          "histogram2dcontour": [
           {
            "colorbar": {
             "outlinewidth": 0,
             "ticks": ""
            },
            "colorscale": [
             [
              0,
              "#0d0887"
             ],
             [
              0.1111111111111111,
              "#46039f"
             ],
             [
              0.2222222222222222,
              "#7201a8"
             ],
             [
              0.3333333333333333,
              "#9c179e"
             ],
             [
              0.4444444444444444,
              "#bd3786"
             ],
             [
              0.5555555555555556,
              "#d8576b"
             ],
             [
              0.6666666666666666,
              "#ed7953"
             ],
             [
              0.7777777777777778,
              "#fb9f3a"
             ],
             [
              0.8888888888888888,
              "#fdca26"
             ],
             [
              1,
              "#f0f921"
             ]
            ],
            "type": "histogram2dcontour"
           }
          ],
          "mesh3d": [
           {
            "colorbar": {
             "outlinewidth": 0,
             "ticks": ""
            },
            "type": "mesh3d"
           }
          ],
          "parcoords": [
           {
            "line": {
             "colorbar": {
              "outlinewidth": 0,
              "ticks": ""
             }
            },
            "type": "parcoords"
           }
          ],
          "pie": [
           {
            "automargin": true,
            "type": "pie"
           }
          ],
          "scatter": [
           {
            "fillpattern": {
             "fillmode": "overlay",
             "size": 10,
             "solidity": 0.2
            },
            "type": "scatter"
           }
          ],
          "scatter3d": [
           {
            "line": {
             "colorbar": {
              "outlinewidth": 0,
              "ticks": ""
             }
            },
            "marker": {
             "colorbar": {
              "outlinewidth": 0,
              "ticks": ""
             }
            },
            "type": "scatter3d"
           }
          ],
          "scattercarpet": [
           {
            "marker": {
             "colorbar": {
              "outlinewidth": 0,
              "ticks": ""
             }
            },
            "type": "scattercarpet"
           }
          ],
          "scattergeo": [
           {
            "marker": {
             "colorbar": {
              "outlinewidth": 0,
              "ticks": ""
             }
            },
            "type": "scattergeo"
           }
          ],
          "scattergl": [
           {
            "marker": {
             "colorbar": {
              "outlinewidth": 0,
              "ticks": ""
             }
            },
            "type": "scattergl"
           }
          ],
          "scattermap": [
           {
            "marker": {
             "colorbar": {
              "outlinewidth": 0,
              "ticks": ""
             }
            },
            "type": "scattermap"
           }
          ],
          "scattermapbox": [
           {
            "marker": {
             "colorbar": {
              "outlinewidth": 0,
              "ticks": ""
             }
            },
            "type": "scattermapbox"
           }
          ],
          "scatterpolar": [
           {
            "marker": {
             "colorbar": {
              "outlinewidth": 0,
              "ticks": ""
             }
            },
            "type": "scatterpolar"
           }
          ],
          "scatterpolargl": [
           {
            "marker": {
             "colorbar": {
              "outlinewidth": 0,
              "ticks": ""
             }
            },
            "type": "scatterpolargl"
           }
          ],
          "scatterternary": [
           {
            "marker": {
             "colorbar": {
              "outlinewidth": 0,
              "ticks": ""
             }
            },
            "type": "scatterternary"
           }
          ],
          "surface": [
           {
            "colorbar": {
             "outlinewidth": 0,
             "ticks": ""
            },
            "colorscale": [
             [
              0,
              "#0d0887"
             ],
             [
              0.1111111111111111,
              "#46039f"
             ],
             [
              0.2222222222222222,
              "#7201a8"
             ],
             [
              0.3333333333333333,
              "#9c179e"
             ],
             [
              0.4444444444444444,
              "#bd3786"
             ],
             [
              0.5555555555555556,
              "#d8576b"
             ],
             [
              0.6666666666666666,
              "#ed7953"
             ],
             [
              0.7777777777777778,
              "#fb9f3a"
             ],
             [
              0.8888888888888888,
              "#fdca26"
             ],
             [
              1,
              "#f0f921"
             ]
            ],
            "type": "surface"
           }
          ],
          "table": [
           {
            "cells": {
             "fill": {
              "color": "#EBF0F8"
             },
             "line": {
              "color": "white"
             }
            },
            "header": {
             "fill": {
              "color": "#C8D4E3"
             },
             "line": {
              "color": "white"
             }
            },
            "type": "table"
           }
          ]
         },
         "layout": {
          "annotationdefaults": {
           "arrowcolor": "#2a3f5f",
           "arrowhead": 0,
           "arrowwidth": 1
          },
          "autotypenumbers": "strict",
          "coloraxis": {
           "colorbar": {
            "outlinewidth": 0,
            "ticks": ""
           }
          },
          "colorscale": {
           "diverging": [
            [
             0,
             "#8e0152"
            ],
            [
             0.1,
             "#c51b7d"
            ],
            [
             0.2,
             "#de77ae"
            ],
            [
             0.3,
             "#f1b6da"
            ],
            [
             0.4,
             "#fde0ef"
            ],
            [
             0.5,
             "#f7f7f7"
            ],
            [
             0.6,
             "#e6f5d0"
            ],
            [
             0.7,
             "#b8e186"
            ],
            [
             0.8,
             "#7fbc41"
            ],
            [
             0.9,
             "#4d9221"
            ],
            [
             1,
             "#276419"
            ]
           ],
           "sequential": [
            [
             0,
             "#0d0887"
            ],
            [
             0.1111111111111111,
             "#46039f"
            ],
            [
             0.2222222222222222,
             "#7201a8"
            ],
            [
             0.3333333333333333,
             "#9c179e"
            ],
            [
             0.4444444444444444,
             "#bd3786"
            ],
            [
             0.5555555555555556,
             "#d8576b"
            ],
            [
             0.6666666666666666,
             "#ed7953"
            ],
            [
             0.7777777777777778,
             "#fb9f3a"
            ],
            [
             0.8888888888888888,
             "#fdca26"
            ],
            [
             1,
             "#f0f921"
            ]
           ],
           "sequentialminus": [
            [
             0,
             "#0d0887"
            ],
            [
             0.1111111111111111,
             "#46039f"
            ],
            [
             0.2222222222222222,
             "#7201a8"
            ],
            [
             0.3333333333333333,
             "#9c179e"
            ],
            [
             0.4444444444444444,
             "#bd3786"
            ],
            [
             0.5555555555555556,
             "#d8576b"
            ],
            [
             0.6666666666666666,
             "#ed7953"
            ],
            [
             0.7777777777777778,
             "#fb9f3a"
            ],
            [
             0.8888888888888888,
             "#fdca26"
            ],
            [
             1,
             "#f0f921"
            ]
           ]
          },
          "colorway": [
           "#636efa",
           "#EF553B",
           "#00cc96",
           "#ab63fa",
           "#FFA15A",
           "#19d3f3",
           "#FF6692",
           "#B6E880",
           "#FF97FF",
           "#FECB52"
          ],
          "font": {
           "color": "#2a3f5f"
          },
          "geo": {
           "bgcolor": "white",
           "lakecolor": "white",
           "landcolor": "#E5ECF6",
           "showlakes": true,
           "showland": true,
           "subunitcolor": "white"
          },
          "hoverlabel": {
           "align": "left"
          },
          "hovermode": "closest",
          "mapbox": {
           "style": "light"
          },
          "paper_bgcolor": "white",
          "plot_bgcolor": "#E5ECF6",
          "polar": {
           "angularaxis": {
            "gridcolor": "white",
            "linecolor": "white",
            "ticks": ""
           },
           "bgcolor": "#E5ECF6",
           "radialaxis": {
            "gridcolor": "white",
            "linecolor": "white",
            "ticks": ""
           }
          },
          "scene": {
           "xaxis": {
            "backgroundcolor": "#E5ECF6",
            "gridcolor": "white",
            "gridwidth": 2,
            "linecolor": "white",
            "showbackground": true,
            "ticks": "",
            "zerolinecolor": "white"
           },
           "yaxis": {
            "backgroundcolor": "#E5ECF6",
            "gridcolor": "white",
            "gridwidth": 2,
            "linecolor": "white",
            "showbackground": true,
            "ticks": "",
            "zerolinecolor": "white"
           },
           "zaxis": {
            "backgroundcolor": "#E5ECF6",
            "gridcolor": "white",
            "gridwidth": 2,
            "linecolor": "white",
            "showbackground": true,
            "ticks": "",
            "zerolinecolor": "white"
           }
          },
          "shapedefaults": {
           "line": {
            "color": "#2a3f5f"
           }
          },
          "ternary": {
           "aaxis": {
            "gridcolor": "white",
            "linecolor": "white",
            "ticks": ""
           },
           "baxis": {
            "gridcolor": "white",
            "linecolor": "white",
            "ticks": ""
           },
           "bgcolor": "#E5ECF6",
           "caxis": {
            "gridcolor": "white",
            "linecolor": "white",
            "ticks": ""
           }
          },
          "title": {
           "x": 0.05
          },
          "xaxis": {
           "automargin": true,
           "gridcolor": "white",
           "linecolor": "white",
           "ticks": "",
           "title": {
            "standoff": 15
           },
           "zerolinecolor": "white",
           "zerolinewidth": 2
          },
          "yaxis": {
           "automargin": true,
           "gridcolor": "white",
           "linecolor": "white",
           "ticks": "",
           "title": {
            "standoff": 15
           },
           "zerolinecolor": "white",
           "zerolinewidth": 2
          }
         }
        },
        "width": 1100
       }
      }
     },
     "metadata": {},
     "output_type": "display_data"
    }
   ],
   "source": [
    "### Plotting UMAP in 3D -> 573 features total\n",
    "umap_plot_df[\"DatasetName\"] = umap_plot_df[\"Dataset\"].map(dataset_label_map)\n",
    "umap_plot_df[\"MouseName\"]   = umap_plot_df[\"Mouse\"].map(mouse_label_map)\n",
    "\n",
    "# --- Build a consistent color map ---\n",
    "fixed_color = \"#7f7f7f\"  # gray for Pre\n",
    "all_names = sorted(umap_plot_df[\"DatasetName\"].unique())\n",
    "\n",
    "# Non-Pre datasets get distinct colors from a qualitative palette\n",
    "palette = px.colors.qualitative.Plotly  # or px.colors.qualitative.Set3, etc.\n",
    "non_pre = [n for n in all_names if \"pre\" not in n.lower()]\n",
    "\n",
    "color_map = {\"Pre\": fixed_color}\n",
    "color_map.update({name: palette[i % len(palette)] for i, name in enumerate(non_pre)})\n",
    "\n",
    "# Color key: collapse anything containing \"pre\" to \"Pre\", keep others as-is\n",
    "umap_plot_df[\"ColorKey\"] = umap_plot_df[\"DatasetName\"].apply(\n",
    "    lambda x: \"Pre\" if \"pre\" in x.lower() else x\n",
    ")\n",
    "\n",
    "# --- Build the two px figures using the SAME color map ---\n",
    "fig_left = px.scatter_3d(\n",
    "    umap_plot_df,\n",
    "    x=\"UMAP1\", y=\"UMAP2\", z=\"UMAP3\",\n",
    "    color=\"ColorKey\",\n",
    "    hover_name=\"MouseName\",\n",
    "    hover_data={\"Dataset\": True, \"Mouse\": True},\n",
    "    title=\"UMAP 3D — Pre vs Others\",\n",
    "    color_discrete_map=color_map\n",
    ")\n",
    "fig_left.update_traces(marker=dict(size=4, line=dict(width=0.3, color='black')),\n",
    "                       selector=dict(mode='markers'))\n",
    "\n",
    "fig_right = px.scatter_3d(\n",
    "    umap_plot_df,\n",
    "    x=\"UMAP1\", y=\"UMAP2\", z=\"UMAP3\",\n",
    "    color=\"DatasetName\",\n",
    "    hover_name=\"MouseName\",\n",
    "    hover_data={\"Dataset\": True, \"Mouse\": True},\n",
    "    title=\"UMAP 3D — Each Dataset\",\n",
    "    color_discrete_map=color_map\n",
    ")\n",
    "fig_right.update_traces(marker=dict(size=4, line=dict(width=0.3, color='black')),\n",
    "                        selector=dict(mode='markers'))\n",
    "\n",
    "# --- Put them side by side with shared legend ---\n",
    "combo = make_subplots(rows=1, cols=2,\n",
    "                      specs=[[{\"type\": \"scene\"}, {\"type\": \"scene\"}]],\n",
    "                      subplot_titles=(fig_left.layout.title.text, fig_right.layout.title.text))\n",
    "\n",
    "for tr in fig_left.data:\n",
    "    combo.add_trace(tr, row=1, col=1)\n",
    "for tr in fig_right.data:\n",
    "    combo.add_trace(tr, row=1, col=2)\n",
    "\n",
    "# Layout tweaks: one legend, equal aspect, tidy margins\n",
    "combo.update_layout(\n",
    "    showlegend=True,\n",
    "    legend=dict(title=\"Dataset\", orientation=\"v\"),\n",
    "    scene=dict(aspectmode=\"data\"),\n",
    "    scene2=dict(aspectmode=\"data\"),\n",
    "    margin=dict(l=0, r=0, t=60, b=0),\n",
    "    height=600, width=1100\n",
    ")\n",
    "\n",
    "combo.show()\n",
    "combo.write_html(os.path.join('./', 'umap_reduced_features_with_at.html'))"
   ]
  },
  {
   "cell_type": "code",
   "execution_count": 25,
   "id": "4a248c09",
   "metadata": {},
   "outputs": [
    {
     "name": "stdout",
     "output_type": "stream",
     "text": [
      "Feature number after removing ' at ':  235\n",
      "\n",
      "Direction counts:\n",
      " direction\n",
      "away_from_healthy    137\n",
      "towards_healthy       98\n",
      "Name: count, dtype: int64\n"
     ]
    },
    {
     "data": {
      "application/vnd.plotly.v1+json": {
       "config": {
        "plotlyServerURL": "https://plot.ly"
       },
       "data": [
        {
         "customdata": [
          [
           "Mean angle excursion - rhindlimb - ankle (°)",
           0.05108549298850773
          ],
          [
           "Mean phase excursion - rhindlimb - ankle (°)",
           0.023668437847341055
          ],
          [
           "Mean phase value - rhindlimb - lHindpaw (°)_sin",
           0.006737389869060655
          ],
          [
           "Mean angle value - rhindlimb - lHindfingers (°)_sin",
           0.00616110657945909
          ],
          [
           "Mean step velocity X during stance - lHindpaw (m/s)",
           0.005862342684940135
          ],
          [
           "Mean phase during stance - rhindlimb - lHindpaw (°)_sin",
           0.005505171619347022
          ],
          [
           "Mean phase value - rhindlimb - lHindpaw (°)_cos",
           0.0054540124385292765
          ],
          [
           "Mean step velocity X during stance - lHindfingers (m/s)",
           0.005048223521767379
          ],
          [
           "Mean angle during swing - rhindlimb - lHindfingers (°)_sin",
           0.004394885781093381
          ],
          [
           "Mean angle value - rhindlimb - ankle (°)_sin",
           0.00438730743795033
          ],
          [
           "Mean angle during swing - rhindlimb - ankle (°)_cos",
           0.004341769655882089
          ],
          [
           "Mean phase during stance - rhindlimb - lHindpaw (°)_cos",
           0.0037898600079874284
          ],
          [
           "Mean angle value - rhindlimb - knee (°)_cos",
           0.0034727379139656866
          ],
          [
           "Mean angle during stance - rhindlimb - ankle (°)_cos",
           0.0033922427285956297
          ],
          [
           "Mean step velocity X during stance - ankle (m/s)",
           0.0031039867479000873
          ],
          [
           "Mean angle during swing - rhindlimb - lHindfingers (°)_cos",
           0.00300797837762573
          ],
          [
           "Mean phase during swing - rhindlimb - lHindpaw (°)_sin",
           0.0028438761582502553
          ],
          [
           "Mean angle during swing - rhindlimb - ankle (°)_sin",
           0.0026602084889331516
          ],
          [
           "Mean angle value - rhindlimb - ankle (°)_cos",
           0.002638339710931961
          ],
          [
           "Mean phase during swing - rhindlimb - lHindpaw (°)_cos",
           0.002621655193143685
          ],
          [
           "Mean angle value - rhindlimb - lHindfingers (°)_cos",
           0.0025791774242964536
          ],
          [
           "Mean angle during stance - rhindlimb - lHindfingers (°)_cos",
           0.00240364503830681
          ],
          [
           "Mean angle during swing - rhindlimb - knee (°)_sin",
           0.0023916205113019406
          ],
          [
           "Mean phase acceleration during swing - rhindlimb - hip (rad/s^2)_cos",
           0.002222281477777833
          ],
          [
           "Mean step velocity X during stance - knee (m/s)",
           0.002171128863520406
          ],
          [
           "Mean phase acceleration during swing - rhindlimb - ankle (rad/s^2)_sin",
           0.0019988714299139084
          ],
          [
           "Mean angle acceleration during swing - rhindlimb - hip (rad/s^2)_cos",
           0.001995404550222225
          ],
          [
           "Mean step acceleration Y during swing - hip (m/s^2)",
           0.0019772963541738043
          ],
          [
           "Mean angle acceleration during swing - rhindlimb - knee (rad/s^2)_cos",
           0.0018290096244307716
          ],
          [
           "Mean angle during swing - rhindlimb - knee (°)_cos",
           0.0017851870595173467
          ],
          [
           "Mean phase during swing - rhindlimb - knee (°)_sin",
           0.0014504529821262127
          ],
          [
           "Mean angle during stance - rhindlimb - lHindfingers (°)_sin",
           0.0012472621119816213
          ],
          [
           "Mean angle acceleration during stance - rhindlimb - knee (rad/s^2)_cos",
           0.0012250449450168228
          ],
          [
           "Mean angle excursion - rhindlimb - lHindfingers (°)",
           0.0011129332522299097
          ],
          [
           "Mean step jerk Y during swing - knee (m/s^3)",
           0.0010739234512243245
          ],
          [
           "Mean phase acceleration - rhindlimb - knee (rad/s^2)_sin",
           0.0010209472059197356
          ],
          [
           "Mean step jerk Y during swing - ankle (m/s^3)",
           0.0010175442033965743
          ],
          [
           "Mean step jerk Y during stance - ankle (m/s^3)",
           0.0010056554260484754
          ],
          [
           "Mean angle excursion - rhindlimb - knee (°)",
           0.000984751524850985
          ],
          [
           "Mean angle during swing - rhindlimb - hip (°)_cos",
           0.0009677840260432112
          ],
          [
           "Mean step jerk Y during swing - hip (m/s^3)",
           0.0009105875113703032
          ],
          [
           "Mean phase velocity during swing - rhindlimb - ankle (rad/s)_sin",
           0.0008991868392772785
          ],
          [
           "Mean phase during swing - rhindlimb - knee (°)_cos",
           0.0008047581219340815
          ],
          [
           "Mean angle during stance - rhindlimb - ankle (°)_sin",
           0.0008044806442911807
          ],
          [
           "Mean phase excursion - rhindlimb - lHindpaw (°)",
           0.0007756928551422319
          ],
          [
           "Mean angle velocity during swing - rhindlimb - ankle (rad/s)_cos",
           0.0007660349254694239
          ],
          [
           "Mean phase excursion - rhindlimb - hip (°)",
           0.0007550424806066915
          ],
          [
           "Mean phase velocity during swing - rhindlimb - knee (rad/s)_sin",
           0.0007331974860165933
          ],
          [
           "Mean angle acceleration - rhindlimb - lHindpaw (rad/s^2)_cos",
           0.0007302099456114117
          ],
          [
           "Mean phase value - rhindlimb - ankle (°)_sin",
           0.0007294089454849174
          ],
          [
           "Mean angle excursion - rhindlimb - lHindpaw (°)",
           0.0007216788298294284
          ],
          [
           "Mean phase acceleration during swing - rhindlimb - ankle (rad/s^2)_cos",
           0.0006757213414377042
          ],
          [
           "Mean step jerk Y during stance - knee (m/s^3)",
           0.0006619859731458543
          ],
          [
           "Mean phase value - rhindlimb - hip (°)_sin",
           0.0006616092139327477
          ],
          [
           "Mean step velocity Y during swing - lHindpaw (m/s)",
           0.0006564481700257001
          ],
          [
           "Mean phase velocity - rhindlimb - lHindpaw (rad/s)_cos",
           0.0006440120021637312
          ],
          [
           "Mean phase during stance - rhindlimb - ankle (°)_sin",
           0.0006418661616006723
          ],
          [
           "Mean angle acceleration - rhindlimb - lHindfingers (rad/s^2)_cos",
           0.0006410773615845235
          ],
          [
           "Mean angle value - rhindlimb - hip (°)_cos",
           0.0006302143910699066
          ],
          [
           "Mean step length (m)",
           0.0006158534804243681
          ],
          [
           "Mean angle value - rhindlimb - hip (°)_sin",
           0.0005915811732881026
          ],
          [
           "Mean phase excursion - rhindlimb - knee (°)",
           0.000581368570000696
          ],
          [
           "Mean phase velocity during stance - rhindlimb - knee (rad/s)_cos",
           0.0005679817791764146
          ],
          [
           "Mean angle acceleration during stance - rhindlimb - lHindfingers (rad/s^2)_sin",
           0.000559450829704232
          ],
          [
           "Mean phase velocity during swing - rhindlimb - lHindpaw (rad/s)_cos",
           0.0005553437140899034
          ],
          [
           "Mean phase velocity during stance - rhindlimb - ankle (rad/s)_sin",
           0.000547293455137142
          ],
          [
           "Mean step velocity X during swing - lHindfingers (m/s)",
           0.0005299815379258576
          ],
          [
           "Mean phase acceleration during stance - rhindlimb - ankle (rad/s^2)_cos",
           0.0005182719117987774
          ],
          [
           "Mean phase during swing - rhindlimb - ankle (°)_sin",
           0.0005140289117467541
          ],
          [
           "Mean angle during swing - rhindlimb - hip (°)_sin",
           0.0004990799947537401
          ],
          [
           "Mean phase velocity during stance - rhindlimb - ankle (rad/s)_cos",
           0.00048616209667612473
          ],
          [
           "Mean phase during swing - rhindlimb - hip (°)_cos",
           0.0004669479921633431
          ],
          [
           "Mean phase during stance - rhindlimb - ankle (°)_cos",
           0.00045564009633499103
          ],
          [
           "Mean angle excursion - rhindlimb - hip (°)",
           0.0004470301444718269
          ],
          [
           "Mean phase acceleration during swing - rhindlimb - lHindpaw (rad/s^2)_cos",
           0.0004428522938201116
          ],
          [
           "Mean angle velocity during swing - rhindlimb - ankle (rad/s)_sin",
           0.00043877457765363457
          ],
          [
           "Mean angle acceleration during swing - rhindlimb - ankle (rad/s^2)_cos",
           0.0004324459815256874
          ],
          [
           "Mean step acceleration Y during stance - hip (m/s^2)",
           0.00042107188956912346
          ],
          [
           "Mean angle velocity during swing - rhindlimb - lHindpaw (rad/s)_cos",
           0.00039797139348374456
          ],
          [
           "Mean phase value - rhindlimb - ankle (°)_cos",
           0.0003973914938642803
          ],
          [
           "Mean angle acceleration - rhindlimb - ankle (rad/s^2)_cos",
           0.0003941278074578693
          ],
          [
           "Mean angle acceleration during stance - rhindlimb - hip (rad/s^2)_cos",
           0.0003777665605372195
          ],
          [
           "Mean angle velocity during stance - rhindlimb - ankle (rad/s)_cos",
           0.0003471085260867924
          ],
          [
           "Mean phase acceleration - rhindlimb - knee (rad/s^2)_cos",
           0.00034634618642866643
          ],
          [
           "Mean angle acceleration - rhindlimb - knee (rad/s^2)_cos",
           0.00032801897512865194
          ],
          [
           "Mean phase during swing - rhindlimb - ankle (°)_cos",
           0.00030943055504079617
          ],
          [
           "Mean angle acceleration during swing - rhindlimb - lHindpaw (rad/s^2)_cos",
           0.0003053608765070939
          ],
          [
           "Mean phase acceleration - rhindlimb - ankle (rad/s^2)_cos",
           0.0003016144103341661
          ],
          [
           "Mean angle acceleration - rhindlimb - hip (rad/s^2)_sin",
           0.000295408192606462
          ],
          [
           "Mean angle acceleration during swing - rhindlimb - ankle (rad/s^2)_sin",
           0.0002828189549097576
          ],
          [
           "Mean angle acceleration - rhindlimb - lHindfingers (rad/s^2)_sin",
           0.00027126913040864247
          ],
          [
           "Mean step jerk Y during swing - lHindpaw (m/s^3)",
           0.00026443320290008395
          ],
          [
           "Mean phase during swing - rhindlimb - hip (°)_sin",
           0.00025829515907865153
          ],
          [
           "Mean phase acceleration during stance - rhindlimb - knee (rad/s^2)_cos",
           0.00024957515235494884
          ],
          [
           "Mean angle velocity during stance - rhindlimb - knee (rad/s)_cos",
           0.00024544166350640737
          ],
          [
           "Mean angle acceleration during stance - rhindlimb - lHindfingers (rad/s^2)_cos",
           0.00022650616570161502
          ],
          [
           "Mean angle velocity during stance - rhindlimb - lHindpaw (rad/s)_sin",
           0.00021602904277689033
          ],
          [
           "Mean phase acceleration during stance - rhindlimb - hip (rad/s^2)_cos",
           0.00020636570033924538
          ],
          [
           "Mean phase velocity during swing - rhindlimb - ankle (rad/s)_cos",
           0.00020170168240242896
          ],
          [
           "Mean phase velocity during stance - rhindlimb - lHindpaw (rad/s)_cos",
           0.00019753881935912285
          ],
          [
           "Mean phase velocity during swing - rhindlimb - hip (rad/s)_sin",
           0.00019700259739510717
          ],
          [
           "Mean step acceleration X during swing - lHindfingers (m/s^2)",
           0.0001925850162022601
          ],
          [
           "Mean angle velocity during swing - rhindlimb - hip (rad/s)_sin",
           0.0001903717174127716
          ],
          [
           "Mean step velocity X during swing - lHindpaw (m/s)",
           0.00017697528387365422
          ],
          [
           "Mean step velocity X during stance - hip (m/s)",
           0.00016195870627651337
          ],
          [
           "Mean phase acceleration - rhindlimb - hip (rad/s^2)_sin",
           0.00015678294377187307
          ],
          [
           "Mean step acceleration X during swing - knee (m/s^2)",
           0.00015152884926094212
          ],
          [
           "Mean step jerk X during swing - knee (m/s^3)",
           0.0001451057128515155
          ],
          [
           "Mean step velocity Y during swing - knee (m/s)",
           0.00013995018559767182
          ],
          [
           "Mean angle acceleration - rhindlimb - ankle (rad/s^2)_sin",
           0.00013062380155855305
          ],
          [
           "Mean angle velocity during stance - rhindlimb - hip (rad/s)_sin",
           0.00012614057644271895
          ],
          [
           "Mean angle velocity during stance - rhindlimb - lHindfingers (rad/s)_sin",
           0.0001227512366738435
          ],
          [
           "Mean step jerk X during swing - hip (m/s^3)",
           0.00012011056840928772
          ],
          [
           "Mean phase value - rhindlimb - hip (°)_cos",
           0.00011699446172418948
          ],
          [
           "Mean phase acceleration - rhindlimb - lHindpaw (rad/s^2)_sin",
           0.00011495352828235919
          ],
          [
           "Mean phase velocity - rhindlimb - knee (rad/s)_cos",
           0.00010735714002495488
          ],
          [
           "Mean phase acceleration during stance - rhindlimb - ankle (rad/s^2)_sin",
           0.00007822303500711342
          ],
          [
           "Mean step velocity X during swing - ankle (m/s)",
           0.00007205983339029156
          ],
          [
           "Mean angle acceleration - rhindlimb - hip (rad/s^2)_cos",
           0.00006416832336862471
          ],
          [
           "Mean phase velocity during stance - rhindlimb - hip (rad/s)_sin",
           0.00006337387310220595
          ],
          [
           "Mean angle acceleration during stance - rhindlimb - lHindpaw (rad/s^2)_sin",
           0.00005954719791438086
          ],
          [
           "Mean angle velocity during stance - rhindlimb - lHindfingers (rad/s)_cos",
           0.00005686192370340088
          ],
          [
           "Mean angle velocity during stance - rhindlimb - ankle (rad/s)_sin",
           0.00005124725688966642
          ],
          [
           "Mean phase velocity during stance - rhindlimb - lHindpaw (rad/s)_sin",
           0.000048885941097524695
          ],
          [
           "Mean angle velocity during swing - rhindlimb - lHindpaw (rad/s)_sin",
           0.000045189996660366
          ],
          [
           "Mean step jerk X during swing - lHindfingers (m/s^3)",
           0.00004480018481956254
          ],
          [
           "Mean step acceleration X during swing - hip (m/s^2)",
           0.000043918412884657415
          ],
          [
           "Mean angle velocity - rhindlimb - lHindfingers (rad/s)_cos",
           0.00004023566912862935
          ],
          [
           "Mean angle value - rhindlimb - knee (°)_sin",
           0.0000379064016164877
          ],
          [
           "Mean step velocity Y during swing - lHindfingers (m/s)",
           0.00003192658579470433
          ],
          [
           "Mean step velocity Y during swing - ankle (m/s)",
           0.000031741670371374114
          ],
          [
           "Mean angle velocity during stance - rhindlimb - knee (rad/s)_sin",
           0.000020743995092124665
          ],
          [
           "Mean phase acceleration during swing - rhindlimb - lHindpaw (rad/s^2)_sin",
           0.00002038622225082477
          ],
          [
           "Mean step velocity Y during stance - lHindfingers (m/s)",
           0.000017084324988270342
          ],
          [
           "Mean step jerk X during swing - lHindpaw (m/s^3)",
           0.000015577816914768443
          ],
          [
           "Mean phase velocity during swing - rhindlimb - knee (rad/s)_cos",
           0
          ],
          [
           "Mean angle acceleration during swing - rhindlimb - knee (rad/s^2)_sin",
           0
          ]
         ],
         "hovertemplate": "direction=away_from_healthy<br>importance=%{x}<br>change_effect_size=%{y}<br>combined_rank=%{customdata[1]}<br>feature=%{customdata[0]}<extra></extra>",
         "legendgroup": "away_from_healthy",
         "marker": {
          "color": "red",
          "size": {
           "bdata": "MBFfs+Anqj+7xwH6iTyYP1JHXlKqmHs/3lFBdGM8eT+MlsGhHAN4P+H9BUGXjHY/gCrjUPJWdj+Lutwucq10Pwv0MCtfAHI/6Xhq32z4cT8aR9zqrMhxPw6dTZnpC28/hfaT+NtybD8bi4pyDMprP5XrODKIbWk/fotJGDCkaD9gb/5iCkxnP1h+vI7cymU/7CvG2P+cZT+nLxxqAnplP8+PA1btIGU/+0KVGs+wYz8c7ix8l5djPzVBoEh2NGI/qOfa7i/JYT+e03Pt719gP2nEIqmqWGA/XySf5bAyYD/lDVghbPddP9FzbAKeP10/JfjYB6TDVz8Sh8B+ZW9UP34HZv41ElQ/bPvw+vo7Uj84mX2GXJhRP0hEELcpulA/SEfaxOOrUD8gfJ5KBnpQP7LNAuZYIlA/mLrnXly2Tz8z/G3Kj9ZNP9gMqgjtdk0/rY1O6MxeSj9OBFwHeVxKPxjk57j7akk/EQfrefcZST+HKXJhwb1IP4NqqpyBBkg/RW716nHtRz+ldHvIueZHP+pndXzhpUc/FwkGiFwkRj9RAXMNJLFFP0aj4ff6rUU/TN78ta+CRT+oNWc+XRpFPyb0ExZdCEU/xN2uJr8BRT+lj3wZn6ZEPw/QXUcnLkQ/md1m5YpiQz9soF5/3wxDPw/hSJWTnEI/weA2ggNVQj+x7oaLjzJCP41P3b4H70E/FGG6r85dQT+MrK90lPtAP79Cva7810A/Gwi2IJZaQD8ShEdOctw/P7tD81oWmj4/KVUAUF/cPT8uK9DZ60s9P8lGcR7UBT0/40gadmrBPD9EjxJZPVc8Px/7tf5pmDs/JVioHtoUOj8Kdkh4Hws6P8Y5IQte1Dk/SkflBd/BOD+bWYjEg782P1rVNou5sjY/lf1IxT5/NT9orEEdYkc0PwUuY/oaAzQ/W2hEB0DEMz93CraGIFwzP1yOeinqiDI/sRckCyTHMT9H01v1c1QxP30jzkJ57TA/66oEHi1bMD9qSvfq0xUwPzld5yVJsC0/qubwWLtQLD8QvDHeewwrP5lySUL8byo/gh6liU3kKT/8cxNtT9IpP3e0TLEUPik/REHKmdDzKD+pZeUcTjInPwaKirFuOiU/06FtO8OMJD+wbmnndtwjP0vtEpXwBCM/aYO/8PJXIj8mGlvpAR8hP1H3EE2TiCA/2vIXGNkWID/o1Fbae3wfPy1eNIxdqx4/01YAlGYiHj+8/CCfnSQcP9F0M4J1gRQ/ajnVgtrjEj9g+7ZmQ9IQP6sHftnynBA/1xQRJEo4Dz9XGlHS4M8NP+gHvFZK3go/7ztfJVyhCT/IP0x2TLEHP2/BFaH6fAc/+wUfLaEGBz9PWXcQVxgFPzV8wQq23wM/DR+IIh29AD+cUUR9S6QAP2sR93xswPU+ek6UhmJg9T7/DKPfCerxPtOYVG2jVfA+AAAAAAAAAAAAAAAAAAAAAA==",
           "dtype": "f8"
          },
          "sizemode": "area",
          "sizeref": 0.00012771373247126932,
          "symbol": "circle"
         },
         "mode": "markers",
         "name": "away_from_healthy",
         "orientation": "v",
         "showlegend": true,
         "type": "scatter",
         "x": {
          "bdata": "45giExM3rT+tm07jEdOdP8yxQKxHrHs/tkdcWfRNeD9Cj2yfj86DP211wIJAO4E/+E4E4YxIez8Ai64hTNeTP72bJ8cBlnE/FJ/1iNiEdD+bMqq8dOx7P3XB+OxlgHo/ONmawTtafT9n6Bj+sZN8P7rCeSDg5W4/arI7iUM6Zz8p0N3K0choP6/1EZ7/C3E/hcxcCpGTaT/SmW6y5mZrPwsdvVdGB2g/h1/bI1EqbD9v1h8Oswx3P9rliCj/5oE//5U8UNKlaj8ZITLfTfZmPyrr7CEcE4A/dqJDWiYSYz+tt8Ppi9psP97OGHUZCHE/C2V0fxTXfz/5asalH6hdP3daepRTOW0/4uLcqIzFUz/oV8V2aQxbPwNmXcrC2Xg/iUfr7COOTz/spiDT0RhfP0yTJ0irYGM/Gn/pzGIEZz90N/2Lgd9mP9UjndlZrGQ/oJr5TBYSdj9GMfeKMNFbPxKmWLs33Ew/5zBMQ3hCWz+n0HHvEE9iP0qNU0YWiFo/narHZnH4VD+DgrQRdwdSPxulqidCg3w/uw4VgXCEYj9LMF6uJTJUP2B5Yms3U2c/Q+EKscMAYT+6oXxCBaBaP1Jp3pMUzl8/rQNVJqlbXD+qBxUIxB9aP/FjUZ1PoFA/Vm9bZTHbZD+9VLHLLSxeP7EtDvP+A1o/dqyQLO+9Vj8oVmUtGvJUP3QF8PFlRFg/Gj5/ZvJGWT/czXkKWwVfP2ChBsMLy1o/duVwmDceVz+vci/0phNYP8aJK3bz9FQ/JsA4u1bUVj/kt/qCC65VP1o9SPPRU04/IoxCU8/jcj/1nOjXQu9aP933G9zjVHE/i1BwWRBYVj/m/6LoQ1JDP7per0sy51s/fl75y+UyVT84IOlpXP5gP21MP463EVc/IpRx6GOBXD/xmj8JDhdMP7exX9hLtlQ/1HX8c25Sbj8MGGNXJG5aP0SCiKhfq1E/9/WteZmLbT/P30Ap31dIP8ck/f0f7kc/aMQ1ARAOSz8qLhBQ2ttMP0NDHtyGQ2I/e/FWZhYVYD9nFH6OMSlHP0hvApc/z1c/0MCcwSXhbT9dRrX1B1NCP1OxjqsPYlE/lClD6yK1QT8wTBQTUGRSPxGFuVGmzEM/gXYSRIvLYz/BPmM6VcJdP/cuEeEUM2A/y7N0eSgeYD86g6A+Jr9RP+fya928m1Q/3IX78SL0RT+KLiZV2e57P0iRUiAhZjM/tEvFuimeWD9NPNzjuR1SP3cyfeXXKF4/VagMbXMsZT8624K1MjM0P0Dx/dYhtUQ/4K1/8ChLNT8d7NrA1pZQP0VwWkilJUA/GbPUWUk0Tj82OjSUCohkPz7u53+4nEI/LXRSJvemOj/HNDE654soPzFIUyfDOmM/uZHvkyV3KT9Onx8gr1QdP2UrfFW3oSQ/XnIL6AZTUz8A1gXGvnM/P39B2Cbmg0A/AAAAAAAAAAAAAAAAAAAAAA==",
          "dtype": "f8"
         },
         "xaxis": "x",
         "y": {
          "bdata": "Oy72lCWm7L9zwW7zHgHqv8kCrX5R6e+/vwBf5vac8L+sxr5Oo2Xjv/MkzNgM8OS/bpFAFZsz6r8Jx2oXsazQv+/Ubr/FYPC/JVTC5IYG7L+F3+9sSGHkv0Qhpz91vuK/YbfWpMED379Iv2ECMx7fv7WC1r61Veq/FtyxaE758L/QTkw2XRTuv/hes75BdOS/x3HvVp8K678U8nT9khTpv0aTvqhfI+y/haOCMB1f5r+6PjU2MjPbvwMabdY7RdC/RP9Zj7Rb5b8nYC1e4dHmv4W1a9Y7RdC/K+NJ+O8t67+4eopG+J3gv73SjAAUetu/7kn4hi7ix79Ozeamvgzmv3MdbA1O+tW/mXu6gwSD7b8KgAXm7tDkv7zdslgdisW/aJ+qcgvo8L8k8a3Zg/Tgvw73VJPQpNq/jV/yBVoL1r9ZijISRd/Uv9pjynnTzda/yROoxfQdw7+E9drkPFPev6V2HdnkLuy/UYVNLmt33b/gh1k+CJ/Vv6YD1vcu+ty/5TFMSZNB4r+VfzMGEjblv7fVvTROirq/gJkKisYh079m125ObC/hvzuf2ZQZvs2/a7JlfNo91L/3QZt59lzZvye2oSBgKdW/rigTimW017/htMOstEvZv3MRNOiSa+O/M5/ZlBm+zb80kr2pPjTUv+RTemaT5Na/g7fLHIHL2b94gol4KM3bv0vM1EX6pde/qGtX6T381b+4wF8/zITRv/pU3zj1HdS/zchuXBOj1r9eCeEuSyzVv1RmhP8eXde/FBbrT43t1L/ch1k+CJ/Vv08RcK+Wn96/Wj+EbjlbuL+wkNml1tXQvxaLkiemebm/wncdCiKt0r8PzsWbCpHlvyj/G0w7n82/eRzzxJCv0r/f7iUeBWvFv4K4r747fM+/K4C7techyL8pxsXq/BnXv7HgUdUm686/ai+2DkjctL9xGbaLjXDHvxVH+AycyNC/ZqEhdEJBs785aVDz3MfWvxiSbPXSota/3ITb2oBY079etwW6CtbRvy2WJvA8Arq/MRLJrZorvL8/1ffEkK/Sv9M1DxgUxMG/vzFuAbW6q7+za4JO1IvWv/0spdXvO8e/uW2CTtSL1r8GBIteCC7Ev6oLvTuXJ9G/hOLhySycsL90sN08VFu1vyyjwXz3yLK/jyDXU6A1sr+fnKtHPd++v4EVnNE1rLm/nVt/uLJzx7+I5f28CQmSvzW1w6y0S9m/2us7EN2Vs7+e3TUNDtu4v70YNEzNwaW/MNUkgH2MnL9AUv1FzqXKv6kPnNE1rLm/1hmSdGd1x792M3NNz8Csv9ZuzB+mn7q/Hrp+GnUnq79H5mgwpnaSv8Rk4TsRMbS/DTBCh2Slu79Dy3n2JIDLv6HlMwQ/iZC/P8lgTbMIxb85pe4L/yfSv9sw2uVX3sC/tFbDTPuykb/jO75w7Dmiv1HRA3ldpp+/f3rY/qx/xb+euhc8qAjavw==",
          "dtype": "f8"
         },
         "yaxis": "y"
        },
        {
         "customdata": [
          [
           "Mean angle during swing - rhindlimb - lHindpaw (°)_sin",
           0.026429435177169093
          ],
          [
           "Mean angle value - rhindlimb - lHindpaw (°)_cos",
           0.02469223413224028
          ],
          [
           "Mean angle during swing - rhindlimb - lHindpaw (°)_cos",
           0.022306747842588615
          ],
          [
           "Mean angle value - rhindlimb - lHindpaw (°)_sin",
           0.020284735547318043
          ],
          [
           "Mean angle during stance - rhindlimb - lHindpaw (°)_sin",
           0.01815139420193276
          ],
          [
           "Mean angle velocity - rhindlimb - knee (rad/s)_cos",
           0.0157797110362799
          ],
          [
           "Mean angle during stance - rhindlimb - lHindpaw (°)_cos",
           0.014713862990612041
          ],
          [
           "Mean step acceleration X during stance - ankle (m/s^2)",
           0.01325996227374808
          ],
          [
           "Mean step acceleration Y during stance - knee (m/s^2)",
           0.01308827372419643
          ],
          [
           "Mean angle velocity - rhindlimb - knee (rad/s)_sin",
           0.012683548675828844
          ],
          [
           "Mean step velocity Y during stance - lHindpaw (m/s)",
           0.009905855329793437
          ],
          [
           "Mean step acceleration X during stance - lHindpaw (m/s^2)",
           0.008371253566594156
          ],
          [
           "Mean step acceleration Y during swing - ankle (m/s^2)",
           0.006260126878672716
          ],
          [
           "Mean step acceleration Y during stance - ankle (m/s^2)",
           0.0053974143458918825
          ],
          [
           "Mean step height (m)",
           0.005065211672637361
          ],
          [
           "Mean step jerk Y during stance - lHindfingers (m/s^3)",
           0.004975049283060925
          ],
          [
           "Mean step frequency (Hz)",
           0.004047756641022031
          ],
          [
           "Mean step acceleration Y during stance - lHindpaw (m/s^2)",
           0.0038738587359086634
          ],
          [
           "Mean step acceleration Y during swing - lHindpaw (m/s^2)",
           0.003233390736126394
          ],
          [
           "Mean step velocity X during swing - hip (m/s)",
           0.002713817979071879
          ],
          [
           "Mean step velocity Y during stance - knee (m/s)",
           0.0026237647997079797
          ],
          [
           "Mean step velocity Y during stance - ankle (m/s)",
           0.0026135100095754666
          ],
          [
           "Mean step acceleration X during stance - knee (m/s^2)",
           0.002473955088215425
          ],
          [
           "Mean angle velocity during swing - rhindlimb - lHindfingers (rad/s)_sin",
           0.0022999004079103376
          ],
          [
           "Mean angle velocity during swing - rhindlimb - knee (rad/s)_cos",
           0.002206425185972227
          ],
          [
           "Mean angle velocity - rhindlimb - hip (rad/s)_sin",
           0.0021666137798078467
          ],
          [
           "Mean phase velocity - rhindlimb - hip (rad/s)_cos",
           0.0018382843506303725
          ],
          [
           "Mean angle velocity - rhindlimb - hip (rad/s)_cos",
           0.001815315914233313
          ],
          [
           "Mean phase velocity - rhindlimb - hip (rad/s)_sin",
           0.0017524583667625133
          ],
          [
           "Mean step duration (s)",
           0.0016151160066868438
          ],
          [
           "Mean phase velocity during swing - rhindlimb - lHindpaw (rad/s)_sin",
           0.0014211290941094946
          ],
          [
           "Mean angle during stance - rhindlimb - knee (°)_cos",
           0.001404284799050576
          ],
          [
           "Mean step acceleration X during stance - lHindfingers (m/s^2)",
           0.0012649142777665587
          ],
          [
           "Mean phase velocity during stance - rhindlimb - knee (rad/s)_sin",
           0.001169007321224438
          ],
          [
           "Mean step jerk Y during swing - lHindfingers (m/s^3)",
           0.0011615677111491923
          ],
          [
           "Mean phase acceleration during swing - rhindlimb - hip (rad/s^2)_sin",
           0.0010140244287358308
          ],
          [
           "Mean angle acceleration during swing - rhindlimb - hip (rad/s^2)_sin",
           0.001010893854405365
          ],
          [
           "Mean angle during stance - rhindlimb - knee (°)_sin",
           0.0009148801696665832
          ],
          [
           "Mean phase during stance - rhindlimb - hip (°)_cos",
           0.0009126866563395729
          ],
          [
           "Mean phase acceleration - rhindlimb - hip (rad/s^2)_cos",
           0.0009022474620959058
          ],
          [
           "Mean angle acceleration during swing - rhindlimb - lHindpaw (rad/s^2)_sin",
           0.0008161681141794181
          ],
          [
           "Mean phase acceleration during swing - rhindlimb - knee (rad/s^2)_sin",
           0.0008072570821792272
          ],
          [
           "Mean step jerk X during stance - hip (m/s^3)",
           0.0007848084875930444
          ],
          [
           "Mean angle velocity during swing - rhindlimb - knee (rad/s)_sin",
           0.0007662341445319718
          ],
          [
           "Mean phase acceleration during stance - rhindlimb - lHindpaw (rad/s^2)_sin",
           0.0007660373841172419
          ],
          [
           "Mean angle during stance - rhindlimb - hip (°)_sin",
           0.0007467140601197541
          ],
          [
           "Mean angle acceleration during stance - rhindlimb - knee (rad/s^2)_sin",
           0.0007236331720811022
          ],
          [
           "Mean phase during stance - rhindlimb - hip (°)_sin",
           0.0006885383788212165
          ],
          [
           "Mean step acceleration Y during swing - lHindfingers (m/s^2)",
           0.0006595171226245897
          ],
          [
           "Mean angle acceleration during swing - rhindlimb - lHindfingers (rad/s^2)_sin",
           0.0005930699181815607
          ],
          [
           "Mean phase acceleration during stance - rhindlimb - knee (rad/s^2)_sin",
           0.0005882626309640107
          ],
          [
           "Mean angle during stance - rhindlimb - hip (°)_cos",
           0.000552513610646069
          ],
          [
           "Mean phase velocity during stance - rhindlimb - hip (rad/s)_cos",
           0.0005263671786525983
          ],
          [
           "Mean step velocity Y during stance - hip (m/s)",
           0.0005226478304394208
          ],
          [
           "Mean angle acceleration during stance - rhindlimb - lHindpaw (rad/s^2)_cos",
           0.0004984438506301816
          ],
          [
           "Mean step acceleration Y during swing - knee (m/s^2)",
           0.00047523654534574645
          ],
          [
           "Mean phase during stance - rhindlimb - knee (°)_cos",
           0.0004361530210284589
          ],
          [
           "Mean step jerk Y during stance - lHindpaw (m/s^3)",
           0.00042337572936024075
          ],
          [
           "Mean step velocity X during swing - knee (m/s)",
           0.0003592306821194391
          ],
          [
           "Mean phase during stance - rhindlimb - knee (°)_sin",
           0.0003544823122922468
          ],
          [
           "Mean step jerk X during stance - knee (m/s^3)",
           0.00033441547303638444
          ],
          [
           "Mean phase value - rhindlimb - knee (°)_cos",
           0.00032496751838820856
          ],
          [
           "Mean phase velocity - rhindlimb - ankle (rad/s)_sin",
           0.0003073659784627827
          ],
          [
           "Mean step jerk X during stance - ankle (m/s^3)",
           0.0003029935812060259
          ],
          [
           "Mean angle velocity during stance - rhindlimb - hip (rad/s)_cos",
           0.00027348498720247363
          ],
          [
           "Mean step jerk Y during stance - hip (m/s^3)",
           0.0002730220074199687
          ],
          [
           "Mean angle velocity - rhindlimb - lHindpaw (rad/s)_cos",
           0.0002389055683749974
          ],
          [
           "Mean step acceleration Y during stance - lHindfingers (m/s^2)",
           0.00023227826417939772
          ],
          [
           "Mean angle acceleration during swing - rhindlimb - lHindfingers (rad/s^2)_cos",
           0.00021663702091726406
          ],
          [
           "Mean phase value - rhindlimb - knee (°)_sin",
           0.00020827669542947849
          ],
          [
           "Mean angle velocity during swing - rhindlimb - hip (rad/s)_cos",
           0.0001687136975321893
          ],
          [
           "Mean angle velocity during stance - rhindlimb - lHindpaw (rad/s)_cos",
           0.00015939694588998284
          ],
          [
           "Mean angle acceleration - rhindlimb - lHindpaw (rad/s^2)_sin",
           0.00015888485244473994
          ],
          [
           "Mean phase velocity - rhindlimb - lHindpaw (rad/s)_sin",
           0.00015410648602954175
          ],
          [
           "Mean angle velocity during swing - rhindlimb - lHindfingers (rad/s)_cos",
           0.00013961172959632974
          ],
          [
           "Mean step acceleration X during swing - lHindpaw (m/s^2)",
           0.0001393192611357564
          ],
          [
           "Mean angle velocity - rhindlimb - lHindfingers (rad/s)_sin",
           0.00011981248689431071
          ],
          [
           "Mean angle velocity - rhindlimb - lHindpaw (rad/s)_sin",
           0.00011462419114588546
          ],
          [
           "Mean phase velocity - rhindlimb - ankle (rad/s)_cos",
           0.00011296448719942742
          ],
          [
           "Mean angle acceleration during stance - rhindlimb - ankle (rad/s^2)_sin",
           0.000111875826281908
          ],
          [
           "Mean step jerk X during swing - ankle (m/s^3)",
           0.00011087678095935144
          ],
          [
           "Mean phase acceleration during swing - rhindlimb - knee (rad/s^2)_cos",
           0.00010167582846089118
          ],
          [
           "Mean step acceleration X during stance - hip (m/s^2)",
           0.00010112223162743202
          ],
          [
           "Mean step acceleration X during swing - ankle (m/s^2)",
           0.00009285342618895327
          ],
          [
           "Mean phase velocity - rhindlimb - knee (rad/s)_sin",
           0.00008347546605912593
          ],
          [
           "Mean step velocity Y during swing - hip (m/s)",
           0.00008228221212569504
          ],
          [
           "Mean phase acceleration - rhindlimb - lHindpaw (rad/s^2)_cos",
           0.00008001971508457365
          ],
          [
           "Mean angle velocity - rhindlimb - ankle (rad/s)_cos",
           0.0000664435857843427
          ],
          [
           "Mean phase velocity during swing - rhindlimb - hip (rad/s)_cos",
           0.00006348520748053657
          ],
          [
           "Mean step jerk X during stance - lHindpaw (m/s^3)",
           0.00006104303998001674
          ],
          [
           "Mean step jerk X during stance - lHindfingers (m/s^3)",
           0.000058617675295329575
          ],
          [
           "Mean angle acceleration during stance - rhindlimb - ankle (rad/s^2)_cos",
           0.00005042606702519423
          ],
          [
           "Mean angle velocity - rhindlimb - ankle (rad/s)_sin",
           0.000018752956227505678
          ],
          [
           "Mean phase acceleration - rhindlimb - ankle (rad/s^2)_sin",
           0.000016472170873925423
          ],
          [
           "Mean phase acceleration during stance - rhindlimb - hip (rad/s^2)_sin",
           0.000014453947135902358
          ],
          [
           "Mean angle acceleration during stance - rhindlimb - hip (rad/s^2)_sin",
           0.000011057573259609984
          ],
          [
           "Mean phase acceleration during stance - rhindlimb - lHindpaw (rad/s^2)_cos",
           0.000010057139666213357
          ],
          [
           "Mean angle acceleration - rhindlimb - knee (rad/s^2)_sin",
           0.0000034080111626079963
          ]
         ],
         "hovertemplate": "direction=towards_healthy<br>importance=%{x}<br>change_effect_size=%{y}<br>combined_rank=%{customdata[1]}<br>feature=%{customdata[0]}<extra></extra>",
         "legendgroup": "towards_healthy",
         "marker": {
          "color": "green",
          "size": {
           "bdata": "2mXzXlEQmz+YqUDI60iZP20s24GU15Y/powij4XFlD/Xe+VxR5aSPxFXXXuOKJA/dnK9Qk0ijj9Y234CCiiLPwwn2lwGzoo/KksUFtX5iT/iZXFlhUmEP7BAXKLyJIE/eEJnAzikeT/aupNhmRt2P05is2dCv3Q/Cb93n7dgdD9FYVNmYZRwP2XIjxISvG8/FXTwbul8aj/vBvXuSTtmP12BOgBvfmU/RMqagO1oZT+p1EKGQkRkP38sJ6E912I/zGp5gDUTYj/NjHnqt79hP9dPq8pSHl4/hVPynvy9XT/at9zXV7ZcP/nLY5tJdlo/kNPivqVIVz/n+FBS/wFXP2DUIl1vuVQ/Cw+pDSwnUz9p5DbV9wdTPxKdj3AgnVA/gWzXAv+PUD+k+Eg0kvpNP2WnlKsr6E0/x1jaq5mQTT/dUOGtg75KP370OmLDc0o/5snXZHO3ST/phcFLoxtJPz7yksH8GUk/FN3cO+R3SD8OS3lnRrZHPyGM1+jgj0Y/g4SFPG6cRT8F+Y/zB29DPw0sd2G0RkM/HHa08dEaQj81P7TofD9BP8pnZqtJIEE/nNnHBEBVQD8hP41rJSU/P4pEHPZulTw/4IdZ6RC/Oz97UgsI5Io3P7bMNPA5Ozc/bZkchY/qNT9qCh7dDEw1P7J1TdO+JDQ/xHGthWPbMz/Dh3MTUewxP0EIzJeM5DE//8u8NFdQLz89k7AY93EuP6K0AtchZSw/C8XWMJtMKz+GSGegFx0mP+ZD4FZ55CQ/Th57fUrTJD+qQJyi9DIkP5hSIaCXTCI/0BAvV8dCIj824/jZemgfP0YQ9ZtMDB4/MVzOHOucHT/nvXQP3FMdP9EkqZfQEB0/lUOgblmnGj9BCwG2MoIaPzQpGLdJVxg/UJ1DlvHhFT8FIPej3ZEVP3dLvzwI+hQ/oOGkHPRqET+FOESPa6QQPzTkAnGHABA/fa+k/Ie7Dj9SNkx4EnAKPzBK1lb1qfM+LsuR9rZF8T6/kC5e50/uPvYz90t9MOc+0FcqwGIX5T6H90/zpZbMPg==",
           "dtype": "f8"
          },
          "sizemode": "area",
          "sizeref": 0.00012771373247126932,
          "symbol": "circle"
         },
         "mode": "markers",
         "name": "towards_healthy",
         "orientation": "v",
         "showlegend": true,
         "type": "scatter",
         "x": {
          "bdata": "EpEwpwmNqz94KQejGhKgP9OBUchMs6c/xP9ilm+bnD+67LipcnGZP1aHGTehs5M/FGbSq/X3lD/QBwmAz82XP3vBW30KQYo/LI1RDUTGkz9Tm/PWVpeFP23Pb7Br/ZQ/skJd7uGJij8m8v2u/HiEP17pU1LIlXY/5NNzw2GXez96Cd/Utp10PzmWczZEa3Q/qIyk8Y1RcT9blsJBAzZ8P9Y3r0Vp72w/CWTW/12JcT8gmOlWSYOQP9+AWVB1b4I/agM4vDfmdT8EQHRSCuZyP2mlXZUDInI/74HurQPocT/5FnY5d5JuP50a50uu0Gg/H+ireyPKbT87n0Gy4yhxP8UKZ1iHn4U/k70Q2XXxaj/k+6DvxO5wP2uX+EZ3Ymk/8CK6QmdOaT+GPKuEZQ1nP0Cgj6ZWzGw/vK706rY0Xz+UC8UtBIZqP3/OeUeXy2I//8tcawP/dz/L4EmaY09eP3CMmkTDGmI/CMD0lhHtZT8HEFogdwZ1P6K1MJFGN2Q/SLqWoFB7Xj++UtNqDE9uP3mCPnAK7lo/NS4e2HC2Xj+zNOz7MxJePz+woJxLzVM/vRf3KK3WVD9Zn8R3KwVgP6m4SGiXDXE/lUidnUsbbz+lU+FSo4tnP1wDguekBHU/BQ3DhzpUZj8RFbLgNGhiP7CCNJQUo10/CxoqDtgeUT/6fQ2vhT9PPyW+RQqsolg/HhAHk2/PaD97rRnSgpNRPwt1NgOU61I/nRB6Zs3fXz9IWyYaqK1KP2FjVgloy00/sM+e24c3Uj+Lf1o6vRpZP4YJMzzKYVQ/vE3hKw/qWD/3GBGha1dSPxfUSJXF8Uc/pUvFzsvmaD9J4OluEfI6P3m1ecM01mI/4ndqkqRdUj9bQR+atfdaP8KHS+K010M/wwZpJ+hwYD9wLqyS7C4+P+IdimM4kVM/3eTjKVNpTz/z8Xd72xM0P6lo7G9fEkU/mHNhOAdAWz/zFhN0fH5QP7iyIZf4glQ/Ff5Ss7cYOj9KSYv5XiVKP/YpjMeRAEQ/RunZ3tkRPD8Q8y8dang+Pw==",
          "dtype": "f8"
         },
         "xaxis": "x",
         "y": {
          "bdata": "jFeSxCNv3z/E/6zhbyzpP4jyazZW194/3Zdh4i485z8Nx2iqg2DnP194Fgq1Puo/iV367l3+5j/f241c3UDiP6Ew3XLrVfA/IRrPtokE5T874NKYQBHuP+Hox3khI9o/+74S2BLr3j/PB7uoKEfhP/kH4CtVZe0/pezPaESi5z/JIgmdErzpP4sjbljj3eg/+5XBZKN46D9FtRVQrzfZP7ZgJIw/xec/QdIalq2I4z/yZvblIKPDP23ocooSWtA/gRexPnBp2j+B9Y/how3ePy6FDcRmk9o/E4MNxGaT2j+184/how3ePxcilJDWD+E/IVVt0e0C2T/IKjZf7XPVP28dME58q74/S09vrGq/1j+VPvnPm/vRP8Dql4GD8dQ/g/iZgYPx1D+Nn5drts7UP0G3msKxndA/nbgo/jFR3j933R7xFCLQP5nqI6OmhNY/mbFQDqwlwT8s6qDX/4HaP8dyoXQBL9Y/F5PmDeza0T/rX5Z+agvCPwyVarVZ29E/udz4mQCw1j/mOhG3ooTEPzqwn0LG59Y/qsobbhfd0j/q1vKIt1rSP8lJUHQGrds/TYovf8gU2T+IEEByGBvPP9LYoQmO0bo/T6L3pRCLvD+lMg8F/P6/P1NuMB5Pr7E/AAJS2pBovz/5ptp/GIPCP0si/tTkv8U/vdXZPLKO0j9d1vKIt1rSP2KWHuvdPcc/7awitq8xtD+4QOXkArfLP919lQ8vA8g/62jStS5ouz8KXJwwVobKP5WavYtgcMY/E4NRMn9Kwj8c3cfpSL+5Pzt81Fvfurw/quP9Bk10tz8tuyLpBma7PwmIh1YaFMQ/bah8XfgGoz98SIN3FmrRPx57j45BsKg/zOZABmY4tz+XmAJjj3SvP80GPqKSoMM/9M8r7KpLpT9M4qStON7GP6DJgXYIJ7E/pyi374C+sT/2WJwwVobKP7Qzr7IRTbg/Xwiu/XILoj/srI//VKWpPy4K4KxwrY4/lHk1uPktpT8Y1sPUqYySPwEXsNSpjJI/paHis2ULmD8Avt18DAZ+Pw==",
          "dtype": "f8"
         },
         "yaxis": "y"
        }
       ],
       "layout": {
        "legend": {
         "itemsizing": "constant",
         "title": {
          "text": "direction"
         },
         "tracegroupgap": 0
        },
        "shapes": [
         {
          "line": {
           "color": "black",
           "dash": "dash"
          },
          "type": "line",
          "x0": 0,
          "x1": 1,
          "xref": "x domain",
          "y0": 0,
          "y1": 0,
          "yref": "y"
         }
        ],
        "template": {
         "data": {
          "bar": [
           {
            "error_x": {
             "color": "#2a3f5f"
            },
            "error_y": {
             "color": "#2a3f5f"
            },
            "marker": {
             "line": {
              "color": "#E5ECF6",
              "width": 0.5
             },
             "pattern": {
              "fillmode": "overlay",
              "size": 10,
              "solidity": 0.2
             }
            },
            "type": "bar"
           }
          ],
          "barpolar": [
           {
            "marker": {
             "line": {
              "color": "#E5ECF6",
              "width": 0.5
             },
             "pattern": {
              "fillmode": "overlay",
              "size": 10,
              "solidity": 0.2
             }
            },
            "type": "barpolar"
           }
          ],
          "carpet": [
           {
            "aaxis": {
             "endlinecolor": "#2a3f5f",
             "gridcolor": "white",
             "linecolor": "white",
             "minorgridcolor": "white",
             "startlinecolor": "#2a3f5f"
            },
            "baxis": {
             "endlinecolor": "#2a3f5f",
             "gridcolor": "white",
             "linecolor": "white",
             "minorgridcolor": "white",
             "startlinecolor": "#2a3f5f"
            },
            "type": "carpet"
           }
          ],
          "choropleth": [
           {
            "colorbar": {
             "outlinewidth": 0,
             "ticks": ""
            },
            "type": "choropleth"
           }
          ],
          "contour": [
           {
            "colorbar": {
             "outlinewidth": 0,
             "ticks": ""
            },
            "colorscale": [
             [
              0,
              "#0d0887"
             ],
             [
              0.1111111111111111,
              "#46039f"
             ],
             [
              0.2222222222222222,
              "#7201a8"
             ],
             [
              0.3333333333333333,
              "#9c179e"
             ],
             [
              0.4444444444444444,
              "#bd3786"
             ],
             [
              0.5555555555555556,
              "#d8576b"
             ],
             [
              0.6666666666666666,
              "#ed7953"
             ],
             [
              0.7777777777777778,
              "#fb9f3a"
             ],
             [
              0.8888888888888888,
              "#fdca26"
             ],
             [
              1,
              "#f0f921"
             ]
            ],
            "type": "contour"
           }
          ],
          "contourcarpet": [
           {
            "colorbar": {
             "outlinewidth": 0,
             "ticks": ""
            },
            "type": "contourcarpet"
           }
          ],
          "heatmap": [
           {
            "colorbar": {
             "outlinewidth": 0,
             "ticks": ""
            },
            "colorscale": [
             [
              0,
              "#0d0887"
             ],
             [
              0.1111111111111111,
              "#46039f"
             ],
             [
              0.2222222222222222,
              "#7201a8"
             ],
             [
              0.3333333333333333,
              "#9c179e"
             ],
             [
              0.4444444444444444,
              "#bd3786"
             ],
             [
              0.5555555555555556,
              "#d8576b"
             ],
             [
              0.6666666666666666,
              "#ed7953"
             ],
             [
              0.7777777777777778,
              "#fb9f3a"
             ],
             [
              0.8888888888888888,
              "#fdca26"
             ],
             [
              1,
              "#f0f921"
             ]
            ],
            "type": "heatmap"
           }
          ],
          "histogram": [
           {
            "marker": {
             "pattern": {
              "fillmode": "overlay",
              "size": 10,
              "solidity": 0.2
             }
            },
            "type": "histogram"
           }
          ],
          "histogram2d": [
           {
            "colorbar": {
             "outlinewidth": 0,
             "ticks": ""
            },
            "colorscale": [
             [
              0,
              "#0d0887"
             ],
             [
              0.1111111111111111,
              "#46039f"
             ],
             [
              0.2222222222222222,
              "#7201a8"
             ],
             [
              0.3333333333333333,
              "#9c179e"
             ],
             [
              0.4444444444444444,
              "#bd3786"
             ],
             [
              0.5555555555555556,
              "#d8576b"
             ],
             [
              0.6666666666666666,
              "#ed7953"
             ],
             [
              0.7777777777777778,
              "#fb9f3a"
             ],
             [
              0.8888888888888888,
              "#fdca26"
             ],
             [
              1,
              "#f0f921"
             ]
            ],
            "type": "histogram2d"
           }
          ],
          "histogram2dcontour": [
           {
            "colorbar": {
             "outlinewidth": 0,
             "ticks": ""
            },
            "colorscale": [
             [
              0,
              "#0d0887"
             ],
             [
              0.1111111111111111,
              "#46039f"
             ],
             [
              0.2222222222222222,
              "#7201a8"
             ],
             [
              0.3333333333333333,
              "#9c179e"
             ],
             [
              0.4444444444444444,
              "#bd3786"
             ],
             [
              0.5555555555555556,
              "#d8576b"
             ],
             [
              0.6666666666666666,
              "#ed7953"
             ],
             [
              0.7777777777777778,
              "#fb9f3a"
             ],
             [
              0.8888888888888888,
              "#fdca26"
             ],
             [
              1,
              "#f0f921"
             ]
            ],
            "type": "histogram2dcontour"
           }
          ],
          "mesh3d": [
           {
            "colorbar": {
             "outlinewidth": 0,
             "ticks": ""
            },
            "type": "mesh3d"
           }
          ],
          "parcoords": [
           {
            "line": {
             "colorbar": {
              "outlinewidth": 0,
              "ticks": ""
             }
            },
            "type": "parcoords"
           }
          ],
          "pie": [
           {
            "automargin": true,
            "type": "pie"
           }
          ],
          "scatter": [
           {
            "fillpattern": {
             "fillmode": "overlay",
             "size": 10,
             "solidity": 0.2
            },
            "type": "scatter"
           }
          ],
          "scatter3d": [
           {
            "line": {
             "colorbar": {
              "outlinewidth": 0,
              "ticks": ""
             }
            },
            "marker": {
             "colorbar": {
              "outlinewidth": 0,
              "ticks": ""
             }
            },
            "type": "scatter3d"
           }
          ],
          "scattercarpet": [
           {
            "marker": {
             "colorbar": {
              "outlinewidth": 0,
              "ticks": ""
             }
            },
            "type": "scattercarpet"
           }
          ],
          "scattergeo": [
           {
            "marker": {
             "colorbar": {
              "outlinewidth": 0,
              "ticks": ""
             }
            },
            "type": "scattergeo"
           }
          ],
          "scattergl": [
           {
            "marker": {
             "colorbar": {
              "outlinewidth": 0,
              "ticks": ""
             }
            },
            "type": "scattergl"
           }
          ],
          "scattermap": [
           {
            "marker": {
             "colorbar": {
              "outlinewidth": 0,
              "ticks": ""
             }
            },
            "type": "scattermap"
           }
          ],
          "scattermapbox": [
           {
            "marker": {
             "colorbar": {
              "outlinewidth": 0,
              "ticks": ""
             }
            },
            "type": "scattermapbox"
           }
          ],
          "scatterpolar": [
           {
            "marker": {
             "colorbar": {
              "outlinewidth": 0,
              "ticks": ""
             }
            },
            "type": "scatterpolar"
           }
          ],
          "scatterpolargl": [
           {
            "marker": {
             "colorbar": {
              "outlinewidth": 0,
              "ticks": ""
             }
            },
            "type": "scatterpolargl"
           }
          ],
          "scatterternary": [
           {
            "marker": {
             "colorbar": {
              "outlinewidth": 0,
              "ticks": ""
             }
            },
            "type": "scatterternary"
           }
          ],
          "surface": [
           {
            "colorbar": {
             "outlinewidth": 0,
             "ticks": ""
            },
            "colorscale": [
             [
              0,
              "#0d0887"
             ],
             [
              0.1111111111111111,
              "#46039f"
             ],
             [
              0.2222222222222222,
              "#7201a8"
             ],
             [
              0.3333333333333333,
              "#9c179e"
             ],
             [
              0.4444444444444444,
              "#bd3786"
             ],
             [
              0.5555555555555556,
              "#d8576b"
             ],
             [
              0.6666666666666666,
              "#ed7953"
             ],
             [
              0.7777777777777778,
              "#fb9f3a"
             ],
             [
              0.8888888888888888,
              "#fdca26"
             ],
             [
              1,
              "#f0f921"
             ]
            ],
            "type": "surface"
           }
          ],
          "table": [
           {
            "cells": {
             "fill": {
              "color": "#EBF0F8"
             },
             "line": {
              "color": "white"
             }
            },
            "header": {
             "fill": {
              "color": "#C8D4E3"
             },
             "line": {
              "color": "white"
             }
            },
            "type": "table"
           }
          ]
         },
         "layout": {
          "annotationdefaults": {
           "arrowcolor": "#2a3f5f",
           "arrowhead": 0,
           "arrowwidth": 1
          },
          "autotypenumbers": "strict",
          "coloraxis": {
           "colorbar": {
            "outlinewidth": 0,
            "ticks": ""
           }
          },
          "colorscale": {
           "diverging": [
            [
             0,
             "#8e0152"
            ],
            [
             0.1,
             "#c51b7d"
            ],
            [
             0.2,
             "#de77ae"
            ],
            [
             0.3,
             "#f1b6da"
            ],
            [
             0.4,
             "#fde0ef"
            ],
            [
             0.5,
             "#f7f7f7"
            ],
            [
             0.6,
             "#e6f5d0"
            ],
            [
             0.7,
             "#b8e186"
            ],
            [
             0.8,
             "#7fbc41"
            ],
            [
             0.9,
             "#4d9221"
            ],
            [
             1,
             "#276419"
            ]
           ],
           "sequential": [
            [
             0,
             "#0d0887"
            ],
            [
             0.1111111111111111,
             "#46039f"
            ],
            [
             0.2222222222222222,
             "#7201a8"
            ],
            [
             0.3333333333333333,
             "#9c179e"
            ],
            [
             0.4444444444444444,
             "#bd3786"
            ],
            [
             0.5555555555555556,
             "#d8576b"
            ],
            [
             0.6666666666666666,
             "#ed7953"
            ],
            [
             0.7777777777777778,
             "#fb9f3a"
            ],
            [
             0.8888888888888888,
             "#fdca26"
            ],
            [
             1,
             "#f0f921"
            ]
           ],
           "sequentialminus": [
            [
             0,
             "#0d0887"
            ],
            [
             0.1111111111111111,
             "#46039f"
            ],
            [
             0.2222222222222222,
             "#7201a8"
            ],
            [
             0.3333333333333333,
             "#9c179e"
            ],
            [
             0.4444444444444444,
             "#bd3786"
            ],
            [
             0.5555555555555556,
             "#d8576b"
            ],
            [
             0.6666666666666666,
             "#ed7953"
            ],
            [
             0.7777777777777778,
             "#fb9f3a"
            ],
            [
             0.8888888888888888,
             "#fdca26"
            ],
            [
             1,
             "#f0f921"
            ]
           ]
          },
          "colorway": [
           "#636efa",
           "#EF553B",
           "#00cc96",
           "#ab63fa",
           "#FFA15A",
           "#19d3f3",
           "#FF6692",
           "#B6E880",
           "#FF97FF",
           "#FECB52"
          ],
          "font": {
           "color": "#2a3f5f"
          },
          "geo": {
           "bgcolor": "white",
           "lakecolor": "white",
           "landcolor": "#E5ECF6",
           "showlakes": true,
           "showland": true,
           "subunitcolor": "white"
          },
          "hoverlabel": {
           "align": "left"
          },
          "hovermode": "closest",
          "mapbox": {
           "style": "light"
          },
          "paper_bgcolor": "white",
          "plot_bgcolor": "#E5ECF6",
          "polar": {
           "angularaxis": {
            "gridcolor": "white",
            "linecolor": "white",
            "ticks": ""
           },
           "bgcolor": "#E5ECF6",
           "radialaxis": {
            "gridcolor": "white",
            "linecolor": "white",
            "ticks": ""
           }
          },
          "scene": {
           "xaxis": {
            "backgroundcolor": "#E5ECF6",
            "gridcolor": "white",
            "gridwidth": 2,
            "linecolor": "white",
            "showbackground": true,
            "ticks": "",
            "zerolinecolor": "white"
           },
           "yaxis": {
            "backgroundcolor": "#E5ECF6",
            "gridcolor": "white",
            "gridwidth": 2,
            "linecolor": "white",
            "showbackground": true,
            "ticks": "",
            "zerolinecolor": "white"
           },
           "zaxis": {
            "backgroundcolor": "#E5ECF6",
            "gridcolor": "white",
            "gridwidth": 2,
            "linecolor": "white",
            "showbackground": true,
            "ticks": "",
            "zerolinecolor": "white"
           }
          },
          "shapedefaults": {
           "line": {
            "color": "#2a3f5f"
           }
          },
          "ternary": {
           "aaxis": {
            "gridcolor": "white",
            "linecolor": "white",
            "ticks": ""
           },
           "baxis": {
            "gridcolor": "white",
            "linecolor": "white",
            "ticks": ""
           },
           "bgcolor": "#E5ECF6",
           "caxis": {
            "gridcolor": "white",
            "linecolor": "white",
            "ticks": ""
           }
          },
          "title": {
           "x": 0.05
          },
          "xaxis": {
           "automargin": true,
           "gridcolor": "white",
           "linecolor": "white",
           "ticks": "",
           "title": {
            "standoff": 15
           },
           "zerolinecolor": "white",
           "zerolinewidth": 2
          },
          "yaxis": {
           "automargin": true,
           "gridcolor": "white",
           "linecolor": "white",
           "ticks": "",
           "title": {
            "standoff": 15
           },
           "zerolinecolor": "white",
           "zerolinewidth": 2
          }
         }
        },
        "title": {
         "text": "Feature Importance vs. Treatment Direction"
        },
        "xaxis": {
         "anchor": "y",
         "domain": [
          0,
          1
         ],
         "title": {
          "text": "importance"
         }
        },
        "yaxis": {
         "anchor": "x",
         "domain": [
          0,
          1
         ],
         "title": {
          "text": "change_effect_size"
         }
        }
       }
      }
     },
     "metadata": {},
     "output_type": "display_data"
    },
    {
     "name": "stdout",
     "output_type": "stream",
     "text": [
      "                                              feature  importance  \\\n",
      "0        Mean angle excursion - rhindlimb - ankle (°)    0.057061   \n",
      "1   Mean angle during swing - rhindlimb - lHindpaw...    0.053810   \n",
      "3     Mean angle value - rhindlimb - lHindpaw (°)_cos    0.031388   \n",
      "4        Mean phase excursion - rhindlimb - ankle (°)    0.029125   \n",
      "2   Mean angle during swing - rhindlimb - lHindpaw...    0.046290   \n",
      "5     Mean angle value - rhindlimb - lHindpaw (°)_sin    0.027937   \n",
      "6   Mean angle during stance - rhindlimb - lHindpa...    0.024847   \n",
      "12  Mean angle velocity - rhindlimb - knee (rad/s)...    0.019240   \n",
      "9   Mean angle during stance - rhindlimb - lHindpa...    0.020477   \n",
      "7   Mean step acceleration X during stance - ankle...    0.023246   \n",
      "15  Mean step acceleration Y during stance - knee ...    0.012819   \n",
      "11  Mean angle velocity - rhindlimb - knee (rad/s)...    0.019311   \n",
      "17  Mean step velocity Y during stance - lHindpaw ...    0.010543   \n",
      "8   Mean step acceleration X during stance - lHind...    0.020498   \n",
      "31    Mean phase value - rhindlimb - lHindpaw (°)_sin    0.006756   \n",
      "14  Mean step acceleration Y during swing - ankle ...    0.012958   \n",
      "36  Mean angle value - rhindlimb - lHindfingers (°...    0.005934   \n",
      "19  Mean step velocity X during stance - lHindpaw ...    0.009671   \n",
      "22  Mean phase during stance - rhindlimb - lHindpa...    0.008414   \n",
      "33    Mean phase value - rhindlimb - lHindpaw (°)_cos    0.006661   \n",
      "\n",
      "    change_score  change_effect_size  combined_rank          direction  \n",
      "0      -7.819830           -0.895282       0.051085  away_from_healthy  \n",
      "1       0.000372            0.491158       0.026429    towards_healthy  \n",
      "3       0.019220            0.786674       0.024692    towards_healthy  \n",
      "4      -6.268268           -0.812637       0.023668  away_from_healthy  \n",
      "2       0.000018            0.481893       0.022307    towards_healthy  \n",
      "5       0.030156            0.726097       0.020285    towards_healthy  \n",
      "6       0.000877            0.730532       0.018151    towards_healthy  \n",
      "12      0.002408            0.820155       0.015780    towards_healthy  \n",
      "9       0.000038            0.718551       0.014714    towards_healthy  \n",
      "7       0.270241            0.570418       0.013260    towards_healthy  \n",
      "15      0.389838            1.020976       0.013088    towards_healthy  \n",
      "11      0.025719            0.656804       0.012684    towards_healthy  \n",
      "17      0.005243            0.939606       0.009906    towards_healthy  \n",
      "8       0.231552            0.408394       0.008371    towards_healthy  \n",
      "31     -0.066725           -0.997231       0.006737  away_from_healthy  \n",
      "14      0.174798            0.483098       0.006260    towards_healthy  \n",
      "36     -0.064683           -1.038321       0.006161  away_from_healthy  \n",
      "19     -0.009269           -0.606157       0.005862  away_from_healthy  \n",
      "22     -0.000777           -0.654303       0.005505  away_from_healthy  \n",
      "33     -0.027100           -0.818800       0.005454  away_from_healthy  \n"
     ]
    }
   ],
   "source": [
    "### Test with no \"at\" features\n",
    "# 1. Train Healthy vs Sick model\n",
    "\n",
    "## remove features with ' at ' in the name\n",
    "_healthy_left_hindlimb_features_df = healthy_left_hindlimb_features_df.loc[\n",
    "    :, ~healthy_left_hindlimb_features_df.columns.str.contains(' at ')\n",
    "]\n",
    "_sick_left_hindlimb_features_df = sick_left_hindlimb_features_df.loc[\n",
    "    :, ~sick_left_hindlimb_features_df.columns.str.contains(' at ')\n",
    "]\n",
    "_treatment_left_hindlimb_features_df = treatment_left_hindlimb_features_df.loc[\n",
    "    :, ~treatment_left_hindlimb_features_df.columns.str.contains(' at ')\n",
    "]\n",
    "\n",
    "## standardize the features\n",
    "scaler = StandardScaler()\n",
    "scaled_healthy_features = scaler.fit_transform(_healthy_left_hindlimb_features_df)\n",
    "scaled_sick_features = scaler.transform(_sick_left_hindlimb_features_df)\n",
    "scaled_treatment_features = scaler.transform(_treatment_left_hindlimb_features_df)\n",
    "\n",
    "X = np.concatenate([scaled_healthy_features, scaled_sick_features])\n",
    "y = [0] * len(scaled_healthy_features) + [1] * len(scaled_sick_features)  # 0=Healthy, 1=Sick\n",
    "\n",
    "rf = RandomForestClassifier(n_estimators=500, random_state=42)\n",
    "rf.fit(X, y)\n",
    "\n",
    "importances = pd.Series(rf.feature_importances_, index=_healthy_left_hindlimb_features_df.columns).sort_values(ascending=False)\n",
    "\n",
    "# 2. For each top feature, check treatment direction\n",
    "rows = []\n",
    "for col in importances.index:\n",
    "    h = _healthy_left_hindlimb_features_df[col].dropna()\n",
    "    s = _sick_left_hindlimb_features_df[col].dropna()\n",
    "    t = _treatment_left_hindlimb_features_df[col].dropna()\n",
    "\n",
    "    if len(h) < 2 or len(s) < 2 or len(t) == 0:\n",
    "        continue  # skip if no variance or insufficient samples\n",
    "\n",
    "    d_sick = abs(s.mean() - h.mean())\n",
    "    d_treat = abs(t.mean() - h.mean())\n",
    "\n",
    "    # Pooled std for Healthy vs Sick\n",
    "    pooled_std = np.sqrt(((len(h)-1)*h.var() + (len(s)-1)*s.var()) / (len(h) + len(s) - 2))\n",
    "\n",
    "    if pooled_std == 0:\n",
    "        change_effect_size = np.nan\n",
    "    else:\n",
    "        change_effect_size = (d_sick - d_treat) / pooled_std\n",
    "\n",
    "    rows.append((col, importances[col], d_sick - d_treat, change_effect_size))\n",
    "\n",
    "res_df = pd.DataFrame(rows, columns=[\"feature\", \"importance\", \"change_score\", \"change_effect_size\"])\n",
    "\n",
    "# Step 3: Sort by combined score\n",
    "res_df[\"combined_rank\"] = res_df[\"importance\"] * res_df[\"change_effect_size\"].abs()\n",
    "res_df = res_df.sort_values(\"combined_rank\", ascending=False)\n",
    "\n",
    "# Optional: add a label for direction\n",
    "res_df[\"direction\"] = res_df[\"change_effect_size\"].apply(lambda x: \"towards_healthy\" if x > 0 else \"away_from_healthy\" if x < 0 else \"no_change\")\n",
    "\n",
    "# print(res_df.head(20))  # top 20 most important + largest shift\n",
    "print(\"Feature number after removing ' at ': \", res_df.shape[0])\n",
    "print(\"\\nDirection counts:\\n\", res_df[\"direction\"].value_counts())\n",
    "\n",
    "## export results to CSV\n",
    "res_df.to_csv(os.path.join('./', 'feature_change_analysis_no_at.csv'), index=False)\n",
    "\n",
    "fig = px.scatter(\n",
    "    res_df,\n",
    "    x=\"importance\",\n",
    "    y=\"change_effect_size\",\n",
    "    size=\"combined_rank\",\n",
    "    color=\"direction\",\n",
    "    hover_data=[\"feature\", \"importance\", \"change_effect_size\", \"combined_rank\"],\n",
    "    color_discrete_map={\n",
    "        \"towards_healthy\": \"green\",\n",
    "        \"away_from_healthy\": \"red\",\n",
    "        \"no_change\": \"gray\"\n",
    "    },\n",
    "    title=\"Feature Importance vs. Treatment Direction\"\n",
    ")\n",
    "\n",
    "fig.add_hline(y=0, line_dash=\"dash\", line_color=\"black\")\n",
    "fig.show()\n",
    "# fig.write_html(os.path.join('./', 'treatment_influence.html'))\n",
    "\n",
    "print(res_df.head(20))"
   ]
  },
  {
   "cell_type": "code",
   "execution_count": 26,
   "id": "bfe7d620",
   "metadata": {},
   "outputs": [
    {
     "name": "stdout",
     "output_type": "stream",
     "text": [
      "Elbow-selected feature count (by |change_effect_size|): 97\n",
      "After enforcing |change_effect_size| ≥ 0.20: 97 features kept\n",
      "                                              feature  importance  \\\n",
      "0        Mean angle excursion - rhindlimb - ankle (°)    0.057061   \n",
      "1   Mean angle during swing - rhindlimb - lHindpaw...    0.053810   \n",
      "3     Mean angle value - rhindlimb - lHindpaw (°)_cos    0.031388   \n",
      "4        Mean phase excursion - rhindlimb - ankle (°)    0.029125   \n",
      "2   Mean angle during swing - rhindlimb - lHindpaw...    0.046290   \n",
      "5     Mean angle value - rhindlimb - lHindpaw (°)_sin    0.027937   \n",
      "6   Mean angle during stance - rhindlimb - lHindpa...    0.024847   \n",
      "12  Mean angle velocity - rhindlimb - knee (rad/s)...    0.019240   \n",
      "9   Mean angle during stance - rhindlimb - lHindpa...    0.020477   \n",
      "7   Mean step acceleration X during stance - ankle...    0.023246   \n",
      "15  Mean step acceleration Y during stance - knee ...    0.012819   \n",
      "11  Mean angle velocity - rhindlimb - knee (rad/s)...    0.019311   \n",
      "17  Mean step velocity Y during stance - lHindpaw ...    0.010543   \n",
      "8   Mean step acceleration X during stance - lHind...    0.020498   \n",
      "31    Mean phase value - rhindlimb - lHindpaw (°)_sin    0.006756   \n",
      "14  Mean step acceleration Y during swing - ankle ...    0.012958   \n",
      "36  Mean angle value - rhindlimb - lHindfingers (°...    0.005934   \n",
      "19  Mean step velocity X during stance - lHindpaw ...    0.009671   \n",
      "22  Mean phase during stance - rhindlimb - lHindpa...    0.008414   \n",
      "33    Mean phase value - rhindlimb - lHindpaw (°)_cos    0.006661   \n",
      "\n",
      "    change_score  change_effect_size  combined_rank          direction  \n",
      "0      -7.819830           -0.895282       0.051085  away_from_healthy  \n",
      "1       0.000372            0.491158       0.026429    towards_healthy  \n",
      "3       0.019220            0.786674       0.024692    towards_healthy  \n",
      "4      -6.268268           -0.812637       0.023668  away_from_healthy  \n",
      "2       0.000018            0.481893       0.022307    towards_healthy  \n",
      "5       0.030156            0.726097       0.020285    towards_healthy  \n",
      "6       0.000877            0.730532       0.018151    towards_healthy  \n",
      "12      0.002408            0.820155       0.015780    towards_healthy  \n",
      "9       0.000038            0.718551       0.014714    towards_healthy  \n",
      "7       0.270241            0.570418       0.013260    towards_healthy  \n",
      "15      0.389838            1.020976       0.013088    towards_healthy  \n",
      "11      0.025719            0.656804       0.012684    towards_healthy  \n",
      "17      0.005243            0.939606       0.009906    towards_healthy  \n",
      "8       0.231552            0.408394       0.008371    towards_healthy  \n",
      "31     -0.066725           -0.997231       0.006737  away_from_healthy  \n",
      "14      0.174798            0.483098       0.006260    towards_healthy  \n",
      "36     -0.064683           -1.038321       0.006161  away_from_healthy  \n",
      "19     -0.009269           -0.606157       0.005862  away_from_healthy  \n",
      "22     -0.000777           -0.654303       0.005505  away_from_healthy  \n",
      "33     -0.027100           -0.818800       0.005454  away_from_healthy  \n",
      "\n",
      "Direction counts:\n",
      " direction\n",
      "away_from_healthy    137\n",
      "towards_healthy       98\n",
      "Name: count, dtype: int64\n",
      "Top 97 features selected for further analysis.\n",
      "(100, 97)\n"
     ]
    },
    {
     "data": {
      "application/vnd.plotly.v1+json": {
       "config": {
        "plotlyServerURL": "https://plot.ly"
       },
       "data": [
        {
         "customdata": [
          [
           "Mean angle excursion - rhindlimb - ankle (°)",
           0.05108549298850773
          ],
          [
           "Mean phase excursion - rhindlimb - ankle (°)",
           0.023668437847341055
          ],
          [
           "Mean phase value - rhindlimb - lHindpaw (°)_sin",
           0.006737389869060655
          ],
          [
           "Mean angle value - rhindlimb - lHindfingers (°)_sin",
           0.00616110657945909
          ],
          [
           "Mean step velocity X during stance - lHindpaw (m/s)",
           0.005862342684940135
          ],
          [
           "Mean phase during stance - rhindlimb - lHindpaw (°)_sin",
           0.005505171619347022
          ],
          [
           "Mean phase value - rhindlimb - lHindpaw (°)_cos",
           0.0054540124385292765
          ],
          [
           "Mean angle during swing - rhindlimb - lHindfingers (°)_sin",
           0.004394885781093381
          ],
          [
           "Mean angle value - rhindlimb - ankle (°)_sin",
           0.00438730743795033
          ],
          [
           "Mean angle during swing - rhindlimb - ankle (°)_cos",
           0.004341769655882089
          ],
          [
           "Mean phase during stance - rhindlimb - lHindpaw (°)_cos",
           0.0037898600079874284
          ],
          [
           "Mean angle value - rhindlimb - knee (°)_cos",
           0.0034727379139656866
          ],
          [
           "Mean angle during stance - rhindlimb - ankle (°)_cos",
           0.0033922427285956297
          ],
          [
           "Mean step velocity X during stance - ankle (m/s)",
           0.0031039867479000873
          ],
          [
           "Mean angle during swing - rhindlimb - lHindfingers (°)_cos",
           0.00300797837762573
          ],
          [
           "Mean phase during swing - rhindlimb - lHindpaw (°)_sin",
           0.0028438761582502553
          ],
          [
           "Mean angle during swing - rhindlimb - ankle (°)_sin",
           0.0026602084889331516
          ],
          [
           "Mean angle value - rhindlimb - ankle (°)_cos",
           0.002638339710931961
          ],
          [
           "Mean phase during swing - rhindlimb - lHindpaw (°)_cos",
           0.002621655193143685
          ],
          [
           "Mean angle value - rhindlimb - lHindfingers (°)_cos",
           0.0025791774242964536
          ],
          [
           "Mean angle during stance - rhindlimb - lHindfingers (°)_cos",
           0.00240364503830681
          ],
          [
           "Mean angle during swing - rhindlimb - knee (°)_sin",
           0.0023916205113019406
          ],
          [
           "Mean step velocity X during stance - knee (m/s)",
           0.002171128863520406
          ],
          [
           "Mean phase acceleration during swing - rhindlimb - ankle (rad/s^2)_sin",
           0.0019988714299139084
          ],
          [
           "Mean step acceleration Y during swing - hip (m/s^2)",
           0.0019772963541738043
          ],
          [
           "Mean angle acceleration during swing - rhindlimb - knee (rad/s^2)_cos",
           0.0018290096244307716
          ],
          [
           "Mean angle during swing - rhindlimb - knee (°)_cos",
           0.0017851870595173467
          ],
          [
           "Mean angle during stance - rhindlimb - lHindfingers (°)_sin",
           0.0012472621119816213
          ],
          [
           "Mean angle excursion - rhindlimb - lHindfingers (°)",
           0.0011129332522299097
          ],
          [
           "Mean step jerk Y during swing - knee (m/s^3)",
           0.0010739234512243245
          ],
          [
           "Mean step jerk Y during swing - ankle (m/s^3)",
           0.0010175442033965743
          ],
          [
           "Mean step jerk Y during stance - ankle (m/s^3)",
           0.0010056554260484754
          ],
          [
           "Mean angle excursion - rhindlimb - knee (°)",
           0.000984751524850985
          ],
          [
           "Mean phase velocity during swing - rhindlimb - ankle (rad/s)_sin",
           0.0008991868392772785
          ],
          [
           "Mean angle during stance - rhindlimb - ankle (°)_sin",
           0.0008044806442911807
          ],
          [
           "Mean phase excursion - rhindlimb - lHindpaw (°)",
           0.0007756928551422319
          ],
          [
           "Mean angle velocity during swing - rhindlimb - ankle (rad/s)_cos",
           0.0007660349254694239
          ],
          [
           "Mean phase velocity during swing - rhindlimb - knee (rad/s)_sin",
           0.0007331974860165933
          ],
          [
           "Mean angle acceleration - rhindlimb - lHindpaw (rad/s^2)_cos",
           0.0007302099456114117
          ],
          [
           "Mean phase value - rhindlimb - ankle (°)_sin",
           0.0007294089454849174
          ],
          [
           "Mean step jerk Y during stance - knee (m/s^3)",
           0.0006619859731458543
          ],
          [
           "Mean phase velocity - rhindlimb - lHindpaw (rad/s)_cos",
           0.0006440120021637312
          ],
          [
           "Mean angle acceleration - rhindlimb - lHindfingers (rad/s^2)_cos",
           0.0006410773615845235
          ],
          [
           "Mean angle value - rhindlimb - hip (°)_cos",
           0.0006302143910699066
          ],
          [
           "Mean step length (m)",
           0.0006158534804243681
          ],
          [
           "Mean phase velocity during stance - rhindlimb - knee (rad/s)_cos",
           0.0005679817791764146
          ],
          [
           "Mean angle acceleration during stance - rhindlimb - lHindfingers (rad/s^2)_sin",
           0.000559450829704232
          ],
          [
           "Mean phase velocity during swing - rhindlimb - lHindpaw (rad/s)_cos",
           0.0005553437140899034
          ],
          [
           "Mean phase velocity during stance - rhindlimb - ankle (rad/s)_sin",
           0.000547293455137142
          ],
          [
           "Mean angle during swing - rhindlimb - hip (°)_sin",
           0.0004990799947537401
          ],
          [
           "Mean phase during swing - rhindlimb - hip (°)_cos",
           0.0004669479921633431
          ],
          [
           "Mean phase acceleration during swing - rhindlimb - lHindpaw (rad/s^2)_cos",
           0.0004428522938201116
          ],
          [
           "Mean phase value - rhindlimb - ankle (°)_cos",
           0.0003973914938642803
          ],
          [
           "Mean phase during swing - rhindlimb - ankle (°)_cos",
           0.00030943055504079617
          ],
          [
           "Mean step jerk Y during swing - lHindpaw (m/s^3)",
           0.00026443320290008395
          ],
          [
           "Mean phase during swing - rhindlimb - hip (°)_sin",
           0.00025829515907865153
          ],
          [
           "Mean phase velocity during swing - rhindlimb - hip (rad/s)_sin",
           0.00019700259739510717
          ],
          [
           "Mean angle velocity during swing - rhindlimb - hip (rad/s)_sin",
           0.0001903717174127716
          ],
          [
           "Mean phase value - rhindlimb - hip (°)_cos",
           0.00011699446172418948
          ],
          [
           "Mean angle acceleration during swing - rhindlimb - knee (rad/s^2)_sin",
           0
          ]
         ],
         "hovertemplate": "direction=away_from_healthy<br>importance=%{x}<br>change_effect_size=%{y}<br>combined_rank=%{customdata[1]}<br>feature=%{customdata[0]}<extra></extra>",
         "legendgroup": "away_from_healthy",
         "marker": {
          "color": "red",
          "size": {
           "bdata": "MBFfs+Anqj+7xwH6iTyYP1JHXlKqmHs/3lFBdGM8eT+MlsGhHAN4P+H9BUGXjHY/gCrjUPJWdj8L9DArXwByP+l4at9s+HE/Gkfc6qzIcT8OnU2Z6QtvP4X2k/jbcmw/G4uKcgzKaz+V6zgyiG1pP36LSRgwpGg/YG/+YgpMZz9YfryO3MplP+wrxtj/nGU/py8cagJ6ZT/PjwNW7SBlP/tClRrPsGM/HO4sfJeXYz+o59ruL8lhP57Tc+3vX2A/XySf5bAyYD/lDVghbPddP9FzbAKeP10/EofAfmVvVD9s+/D6+jtSPziZfYZcmFE/SEfaxOOrUD8gfJ5KBnpQP7LNAuZYIlA/2AyqCO12TT9OBFwHeVxKPxjk57j7akk/EQfrefcZST+DaqqcgQZIP0Vu9epx7Uc/pXR7yLnmRz9RAXMNJLFFP6g1Zz5dGkU/xN2uJr8BRT+lj3wZn6ZEPw/QXUcnLkQ/D+FIlZOcQj/B4DaCA1VCP7HuhouPMkI/jU/dvgfvQT8bCLYgllpAP7tD81oWmj4/yUZxHtQFPT8Kdkh4Hws6P2isQR1iRzQ/R9Nb9XNUMT99I85Cee0wP/xzE21P0ik/REHKmdDzKD8tXjSMXasePwAAAAAAAAAA",
           "dtype": "f8"
          },
          "sizemode": "area",
          "sizeref": 0.00012771373247126932,
          "symbol": "circle"
         },
         "mode": "markers",
         "name": "away_from_healthy",
         "orientation": "v",
         "showlegend": true,
         "type": "scatter",
         "x": {
          "bdata": "45giExM3rT+tm07jEdOdP8yxQKxHrHs/tkdcWfRNeD9Cj2yfj86DP211wIJAO4E/+E4E4YxIez+9myfHAZZxPxSf9YjYhHQ/mzKqvHTsez91wfjsZYB6PzjZmsE7Wn0/Z+gY/rGTfD+6wnkg4OVuP2qyO4lDOmc/KdDdytHIaD+v9RGe/wtxP4XMXAqRk2k/0plusuZmaz8LHb1XRgdoP4df2yNRKmw/b9YfDrMMdz//lTxQ0qVqPxkhMt9N9mY/dqJDWiYSYz+tt8Ppi9psP97OGHUZCHE/+WrGpR+oXT/i4tyojMVTP+hXxXZpDFs/iUfr7COOTz/spiDT0RhfP0yTJ0irYGM/1SOd2VmsZD9GMfeKMNFbPxKmWLs33Ew/5zBMQ3hCWz9KjVNGFohaP52qx2Zx+FQ/g4K0EXcHUj9LMF6uJTJUP7qhfEIFoFo/rQNVJqlbXD+qBxUIxB9aP/FjUZ1PoFA/sS0O8/4DWj92rJAs771WPyhWZS0a8lQ/dAXw8WVEWD925XCYNx5XP8aJK3bz9FQ/Wj1I89FTTj/m/6LoQ1JDP/GaPwkOF0w/z99AKd9XSD/HJP39H+5HP11GtfUHU0I/lClD6yK1QT9IkVIgIWYzPwAAAAAAAAAA",
          "dtype": "f8"
         },
         "xaxis": "x",
         "y": {
          "bdata": "Oy72lCWm7L9zwW7zHgHqv8kCrX5R6e+/vwBf5vac8L+sxr5Oo2Xjv/MkzNgM8OS/bpFAFZsz6r/v1G6/xWDwvyVUwuSGBuy/hd/vbEhh5L9EIac/db7iv2G31qTBA9+/SL9hAjMe37+1gta+tVXqvxbcsWhO+fC/0E5MNl0U7r/4XrO+QXTkv8dx71afCuu/FPJ0/ZIU6b9Gk76oXyPsv4WjgjAdX+a/uj41NjIz279E/1mPtFvlvydgLV7h0ea/K+NJ+O8t67+4eopG+J3gv73SjAAUetu/Ts3mpr4M5r+Ze7qDBIPtvwqABebu0OS/aJ+qcgvo8L8k8a3Zg/Tgvw73VJPQpNq/2mPKedPN1r+E9drkPFPev6V2HdnkLuy/UYVNLmt33b+mA9b3Lvrcv+UxTEmTQeK/lX8zBhI25b9m125ObC/hv/dBm3n2XNm/rigTimW017/htMOstEvZv3MRNOiSa+O/5FN6ZpPk1r+Dt8scgcvZv3iCiXgozdu/S8zURfql17/NyG5cE6PWv1RmhP8eXde/TxFwr5af3r8PzsWbCpHlvynGxer8Gde/OWlQ89zH1r8Ykmz10qLWv7Nrgk7Ui9a/uW2CTtSL1r81tcOstEvZv566FzyoCNq/",
          "dtype": "f8"
         },
         "yaxis": "y"
        },
        {
         "customdata": [
          [
           "Mean angle during swing - rhindlimb - lHindpaw (°)_sin",
           0.026429435177169093
          ],
          [
           "Mean angle value - rhindlimb - lHindpaw (°)_cos",
           0.02469223413224028
          ],
          [
           "Mean angle during swing - rhindlimb - lHindpaw (°)_cos",
           0.022306747842588615
          ],
          [
           "Mean angle value - rhindlimb - lHindpaw (°)_sin",
           0.020284735547318043
          ],
          [
           "Mean angle during stance - rhindlimb - lHindpaw (°)_sin",
           0.01815139420193276
          ],
          [
           "Mean angle velocity - rhindlimb - knee (rad/s)_cos",
           0.0157797110362799
          ],
          [
           "Mean angle during stance - rhindlimb - lHindpaw (°)_cos",
           0.014713862990612041
          ],
          [
           "Mean step acceleration X during stance - ankle (m/s^2)",
           0.01325996227374808
          ],
          [
           "Mean step acceleration Y during stance - knee (m/s^2)",
           0.01308827372419643
          ],
          [
           "Mean angle velocity - rhindlimb - knee (rad/s)_sin",
           0.012683548675828844
          ],
          [
           "Mean step velocity Y during stance - lHindpaw (m/s)",
           0.009905855329793437
          ],
          [
           "Mean step acceleration X during stance - lHindpaw (m/s^2)",
           0.008371253566594156
          ],
          [
           "Mean step acceleration Y during swing - ankle (m/s^2)",
           0.006260126878672716
          ],
          [
           "Mean step acceleration Y during stance - ankle (m/s^2)",
           0.0053974143458918825
          ],
          [
           "Mean step height (m)",
           0.005065211672637361
          ],
          [
           "Mean step jerk Y during stance - lHindfingers (m/s^3)",
           0.004975049283060925
          ],
          [
           "Mean step frequency (Hz)",
           0.004047756641022031
          ],
          [
           "Mean step acceleration Y during stance - lHindpaw (m/s^2)",
           0.0038738587359086634
          ],
          [
           "Mean step acceleration Y during swing - lHindpaw (m/s^2)",
           0.003233390736126394
          ],
          [
           "Mean step velocity X during swing - hip (m/s)",
           0.002713817979071879
          ],
          [
           "Mean step velocity Y during stance - knee (m/s)",
           0.0026237647997079797
          ],
          [
           "Mean step velocity Y during stance - ankle (m/s)",
           0.0026135100095754666
          ],
          [
           "Mean angle velocity during swing - rhindlimb - knee (rad/s)_cos",
           0.002206425185972227
          ],
          [
           "Mean angle velocity - rhindlimb - hip (rad/s)_sin",
           0.0021666137798078467
          ],
          [
           "Mean phase velocity - rhindlimb - hip (rad/s)_cos",
           0.0018382843506303725
          ],
          [
           "Mean angle velocity - rhindlimb - hip (rad/s)_cos",
           0.001815315914233313
          ],
          [
           "Mean phase velocity - rhindlimb - hip (rad/s)_sin",
           0.0017524583667625133
          ],
          [
           "Mean step duration (s)",
           0.0016151160066868438
          ],
          [
           "Mean phase velocity during swing - rhindlimb - lHindpaw (rad/s)_sin",
           0.0014211290941094946
          ],
          [
           "Mean phase velocity during stance - rhindlimb - knee (rad/s)_sin",
           0.001169007321224438
          ],
          [
           "Mean phase acceleration - rhindlimb - hip (rad/s^2)_cos",
           0.0009022474620959058
          ],
          [
           "Mean phase acceleration during swing - rhindlimb - knee (rad/s^2)_sin",
           0.0008072570821792272
          ],
          [
           "Mean angle velocity during swing - rhindlimb - knee (rad/s)_sin",
           0.0007662341445319718
          ],
          [
           "Mean step acceleration Y during swing - lHindfingers (m/s^2)",
           0.0006595171226245897
          ],
          [
           "Mean phase acceleration during stance - rhindlimb - knee (rad/s^2)_sin",
           0.0005882626309640107
          ],
          [
           "Mean step velocity Y during stance - hip (m/s)",
           0.0005226478304394208
          ],
          [
           "Mean angle acceleration during stance - rhindlimb - lHindpaw (rad/s^2)_cos",
           0.0004984438506301816
          ]
         ],
         "hovertemplate": "direction=towards_healthy<br>importance=%{x}<br>change_effect_size=%{y}<br>combined_rank=%{customdata[1]}<br>feature=%{customdata[0]}<extra></extra>",
         "legendgroup": "towards_healthy",
         "marker": {
          "color": "green",
          "size": {
           "bdata": "2mXzXlEQmz+YqUDI60iZP20s24GU15Y/powij4XFlD/Xe+VxR5aSPxFXXXuOKJA/dnK9Qk0ijj9Y234CCiiLPwwn2lwGzoo/KksUFtX5iT/iZXFlhUmEP7BAXKLyJIE/eEJnAzikeT/aupNhmRt2P05is2dCv3Q/Cb93n7dgdD9FYVNmYZRwP2XIjxISvG8/FXTwbul8aj/vBvXuSTtmP12BOgBvfmU/RMqagO1oZT/ManmANRNiP82Meeq3v2E/10+rylIeXj+FU/Ke/L1dP9q33NdXtlw/+ctjm0l2Wj+Q0+K+pUhXPwsPqQ0sJ1M/x1jaq5mQTT9+9Dpiw3NKP+mFwUujG0k/g4SFPG6cRT8NLHdhtEZDP8pnZqtJIEE/nNnHBEBVQD8=",
           "dtype": "f8"
          },
          "sizemode": "area",
          "sizeref": 0.00012771373247126932,
          "symbol": "circle"
         },
         "mode": "markers",
         "name": "towards_healthy",
         "orientation": "v",
         "showlegend": true,
         "type": "scatter",
         "x": {
          "bdata": "EpEwpwmNqz94KQejGhKgP9OBUchMs6c/xP9ilm+bnD+67LipcnGZP1aHGTehs5M/FGbSq/X3lD/QBwmAz82XP3vBW30KQYo/LI1RDUTGkz9Tm/PWVpeFP23Pb7Br/ZQ/skJd7uGJij8m8v2u/HiEP17pU1LIlXY/5NNzw2GXez96Cd/Utp10PzmWczZEa3Q/qIyk8Y1RcT9blsJBAzZ8P9Y3r0Vp72w/CWTW/12JcT9qAzi8N+Z1PwRAdFIK5nI/aaVdlQMicj/vge6tA+hxP/kWdjl3km4/nRrnS67QaD8f6Kt7I8ptP5O9ENl18Wo/vK706rY0Xz9/znlHl8tiP8vgSZpjT14/SLqWoFB7Xj95gj5wCu5aPz+woJxLzVM/vRf3KK3WVD8=",
          "dtype": "f8"
         },
         "xaxis": "x",
         "y": {
          "bdata": "jFeSxCNv3z/E/6zhbyzpP4jyazZW194/3Zdh4i485z8Nx2iqg2DnP194Fgq1Puo/iV367l3+5j/f241c3UDiP6Ew3XLrVfA/IRrPtokE5T874NKYQBHuP+Hox3khI9o/+74S2BLr3j/PB7uoKEfhP/kH4CtVZe0/pezPaESi5z/JIgmdErzpP4sjbljj3eg/+5XBZKN46D9FtRVQrzfZP7ZgJIw/xec/QdIalq2I4z+BF7E+cGnaP4H1j+GjDd4/LoUNxGaT2j8Tgw3EZpPaP7Xzj+GjDd4/FyKUkNYP4T8hVW3R7QLZP0tPb6xqv9Y/nbgo/jFR3j+Z6iOjpoTWPyzqoNf/gdo/udz4mQCw1j86sJ9CxufWP8lJUHQGrds/TYovf8gU2T8=",
          "dtype": "f8"
         },
         "yaxis": "y"
        }
       ],
       "layout": {
        "legend": {
         "itemsizing": "constant",
         "title": {
          "text": "direction"
         },
         "tracegroupgap": 0
        },
        "shapes": [
         {
          "line": {
           "color": "black",
           "dash": "dash"
          },
          "type": "line",
          "x0": 0,
          "x1": 1,
          "xref": "x domain",
          "y0": 0,
          "y1": 0,
          "yref": "y"
         }
        ],
        "template": {
         "data": {
          "bar": [
           {
            "error_x": {
             "color": "#2a3f5f"
            },
            "error_y": {
             "color": "#2a3f5f"
            },
            "marker": {
             "line": {
              "color": "#E5ECF6",
              "width": 0.5
             },
             "pattern": {
              "fillmode": "overlay",
              "size": 10,
              "solidity": 0.2
             }
            },
            "type": "bar"
           }
          ],
          "barpolar": [
           {
            "marker": {
             "line": {
              "color": "#E5ECF6",
              "width": 0.5
             },
             "pattern": {
              "fillmode": "overlay",
              "size": 10,
              "solidity": 0.2
             }
            },
            "type": "barpolar"
           }
          ],
          "carpet": [
           {
            "aaxis": {
             "endlinecolor": "#2a3f5f",
             "gridcolor": "white",
             "linecolor": "white",
             "minorgridcolor": "white",
             "startlinecolor": "#2a3f5f"
            },
            "baxis": {
             "endlinecolor": "#2a3f5f",
             "gridcolor": "white",
             "linecolor": "white",
             "minorgridcolor": "white",
             "startlinecolor": "#2a3f5f"
            },
            "type": "carpet"
           }
          ],
          "choropleth": [
           {
            "colorbar": {
             "outlinewidth": 0,
             "ticks": ""
            },
            "type": "choropleth"
           }
          ],
          "contour": [
           {
            "colorbar": {
             "outlinewidth": 0,
             "ticks": ""
            },
            "colorscale": [
             [
              0,
              "#0d0887"
             ],
             [
              0.1111111111111111,
              "#46039f"
             ],
             [
              0.2222222222222222,
              "#7201a8"
             ],
             [
              0.3333333333333333,
              "#9c179e"
             ],
             [
              0.4444444444444444,
              "#bd3786"
             ],
             [
              0.5555555555555556,
              "#d8576b"
             ],
             [
              0.6666666666666666,
              "#ed7953"
             ],
             [
              0.7777777777777778,
              "#fb9f3a"
             ],
             [
              0.8888888888888888,
              "#fdca26"
             ],
             [
              1,
              "#f0f921"
             ]
            ],
            "type": "contour"
           }
          ],
          "contourcarpet": [
           {
            "colorbar": {
             "outlinewidth": 0,
             "ticks": ""
            },
            "type": "contourcarpet"
           }
          ],
          "heatmap": [
           {
            "colorbar": {
             "outlinewidth": 0,
             "ticks": ""
            },
            "colorscale": [
             [
              0,
              "#0d0887"
             ],
             [
              0.1111111111111111,
              "#46039f"
             ],
             [
              0.2222222222222222,
              "#7201a8"
             ],
             [
              0.3333333333333333,
              "#9c179e"
             ],
             [
              0.4444444444444444,
              "#bd3786"
             ],
             [
              0.5555555555555556,
              "#d8576b"
             ],
             [
              0.6666666666666666,
              "#ed7953"
             ],
             [
              0.7777777777777778,
              "#fb9f3a"
             ],
             [
              0.8888888888888888,
              "#fdca26"
             ],
             [
              1,
              "#f0f921"
             ]
            ],
            "type": "heatmap"
           }
          ],
          "histogram": [
           {
            "marker": {
             "pattern": {
              "fillmode": "overlay",
              "size": 10,
              "solidity": 0.2
             }
            },
            "type": "histogram"
           }
          ],
          "histogram2d": [
           {
            "colorbar": {
             "outlinewidth": 0,
             "ticks": ""
            },
            "colorscale": [
             [
              0,
              "#0d0887"
             ],
             [
              0.1111111111111111,
              "#46039f"
             ],
             [
              0.2222222222222222,
              "#7201a8"
             ],
             [
              0.3333333333333333,
              "#9c179e"
             ],
             [
              0.4444444444444444,
              "#bd3786"
             ],
             [
              0.5555555555555556,
              "#d8576b"
             ],
             [
              0.6666666666666666,
              "#ed7953"
             ],
             [
              0.7777777777777778,
              "#fb9f3a"
             ],
             [
              0.8888888888888888,
              "#fdca26"
             ],
             [
              1,
              "#f0f921"
             ]
            ],
            "type": "histogram2d"
           }
          ],
          "histogram2dcontour": [
           {
            "colorbar": {
             "outlinewidth": 0,
             "ticks": ""
            },
            "colorscale": [
             [
              0,
              "#0d0887"
             ],
             [
              0.1111111111111111,
              "#46039f"
             ],
             [
              0.2222222222222222,
              "#7201a8"
             ],
             [
              0.3333333333333333,
              "#9c179e"
             ],
             [
              0.4444444444444444,
              "#bd3786"
             ],
             [
              0.5555555555555556,
              "#d8576b"
             ],
             [
              0.6666666666666666,
              "#ed7953"
             ],
             [
              0.7777777777777778,
              "#fb9f3a"
             ],
             [
              0.8888888888888888,
              "#fdca26"
             ],
             [
              1,
              "#f0f921"
             ]
            ],
            "type": "histogram2dcontour"
           }
          ],
          "mesh3d": [
           {
            "colorbar": {
             "outlinewidth": 0,
             "ticks": ""
            },
            "type": "mesh3d"
           }
          ],
          "parcoords": [
           {
            "line": {
             "colorbar": {
              "outlinewidth": 0,
              "ticks": ""
             }
            },
            "type": "parcoords"
           }
          ],
          "pie": [
           {
            "automargin": true,
            "type": "pie"
           }
          ],
          "scatter": [
           {
            "fillpattern": {
             "fillmode": "overlay",
             "size": 10,
             "solidity": 0.2
            },
            "type": "scatter"
           }
          ],
          "scatter3d": [
           {
            "line": {
             "colorbar": {
              "outlinewidth": 0,
              "ticks": ""
             }
            },
            "marker": {
             "colorbar": {
              "outlinewidth": 0,
              "ticks": ""
             }
            },
            "type": "scatter3d"
           }
          ],
          "scattercarpet": [
           {
            "marker": {
             "colorbar": {
              "outlinewidth": 0,
              "ticks": ""
             }
            },
            "type": "scattercarpet"
           }
          ],
          "scattergeo": [
           {
            "marker": {
             "colorbar": {
              "outlinewidth": 0,
              "ticks": ""
             }
            },
            "type": "scattergeo"
           }
          ],
          "scattergl": [
           {
            "marker": {
             "colorbar": {
              "outlinewidth": 0,
              "ticks": ""
             }
            },
            "type": "scattergl"
           }
          ],
          "scattermap": [
           {
            "marker": {
             "colorbar": {
              "outlinewidth": 0,
              "ticks": ""
             }
            },
            "type": "scattermap"
           }
          ],
          "scattermapbox": [
           {
            "marker": {
             "colorbar": {
              "outlinewidth": 0,
              "ticks": ""
             }
            },
            "type": "scattermapbox"
           }
          ],
          "scatterpolar": [
           {
            "marker": {
             "colorbar": {
              "outlinewidth": 0,
              "ticks": ""
             }
            },
            "type": "scatterpolar"
           }
          ],
          "scatterpolargl": [
           {
            "marker": {
             "colorbar": {
              "outlinewidth": 0,
              "ticks": ""
             }
            },
            "type": "scatterpolargl"
           }
          ],
          "scatterternary": [
           {
            "marker": {
             "colorbar": {
              "outlinewidth": 0,
              "ticks": ""
             }
            },
            "type": "scatterternary"
           }
          ],
          "surface": [
           {
            "colorbar": {
             "outlinewidth": 0,
             "ticks": ""
            },
            "colorscale": [
             [
              0,
              "#0d0887"
             ],
             [
              0.1111111111111111,
              "#46039f"
             ],
             [
              0.2222222222222222,
              "#7201a8"
             ],
             [
              0.3333333333333333,
              "#9c179e"
             ],
             [
              0.4444444444444444,
              "#bd3786"
             ],
             [
              0.5555555555555556,
              "#d8576b"
             ],
             [
              0.6666666666666666,
              "#ed7953"
             ],
             [
              0.7777777777777778,
              "#fb9f3a"
             ],
             [
              0.8888888888888888,
              "#fdca26"
             ],
             [
              1,
              "#f0f921"
             ]
            ],
            "type": "surface"
           }
          ],
          "table": [
           {
            "cells": {
             "fill": {
              "color": "#EBF0F8"
             },
             "line": {
              "color": "white"
             }
            },
            "header": {
             "fill": {
              "color": "#C8D4E3"
             },
             "line": {
              "color": "white"
             }
            },
            "type": "table"
           }
          ]
         },
         "layout": {
          "annotationdefaults": {
           "arrowcolor": "#2a3f5f",
           "arrowhead": 0,
           "arrowwidth": 1
          },
          "autotypenumbers": "strict",
          "coloraxis": {
           "colorbar": {
            "outlinewidth": 0,
            "ticks": ""
           }
          },
          "colorscale": {
           "diverging": [
            [
             0,
             "#8e0152"
            ],
            [
             0.1,
             "#c51b7d"
            ],
            [
             0.2,
             "#de77ae"
            ],
            [
             0.3,
             "#f1b6da"
            ],
            [
             0.4,
             "#fde0ef"
            ],
            [
             0.5,
             "#f7f7f7"
            ],
            [
             0.6,
             "#e6f5d0"
            ],
            [
             0.7,
             "#b8e186"
            ],
            [
             0.8,
             "#7fbc41"
            ],
            [
             0.9,
             "#4d9221"
            ],
            [
             1,
             "#276419"
            ]
           ],
           "sequential": [
            [
             0,
             "#0d0887"
            ],
            [
             0.1111111111111111,
             "#46039f"
            ],
            [
             0.2222222222222222,
             "#7201a8"
            ],
            [
             0.3333333333333333,
             "#9c179e"
            ],
            [
             0.4444444444444444,
             "#bd3786"
            ],
            [
             0.5555555555555556,
             "#d8576b"
            ],
            [
             0.6666666666666666,
             "#ed7953"
            ],
            [
             0.7777777777777778,
             "#fb9f3a"
            ],
            [
             0.8888888888888888,
             "#fdca26"
            ],
            [
             1,
             "#f0f921"
            ]
           ],
           "sequentialminus": [
            [
             0,
             "#0d0887"
            ],
            [
             0.1111111111111111,
             "#46039f"
            ],
            [
             0.2222222222222222,
             "#7201a8"
            ],
            [
             0.3333333333333333,
             "#9c179e"
            ],
            [
             0.4444444444444444,
             "#bd3786"
            ],
            [
             0.5555555555555556,
             "#d8576b"
            ],
            [
             0.6666666666666666,
             "#ed7953"
            ],
            [
             0.7777777777777778,
             "#fb9f3a"
            ],
            [
             0.8888888888888888,
             "#fdca26"
            ],
            [
             1,
             "#f0f921"
            ]
           ]
          },
          "colorway": [
           "#636efa",
           "#EF553B",
           "#00cc96",
           "#ab63fa",
           "#FFA15A",
           "#19d3f3",
           "#FF6692",
           "#B6E880",
           "#FF97FF",
           "#FECB52"
          ],
          "font": {
           "color": "#2a3f5f"
          },
          "geo": {
           "bgcolor": "white",
           "lakecolor": "white",
           "landcolor": "#E5ECF6",
           "showlakes": true,
           "showland": true,
           "subunitcolor": "white"
          },
          "hoverlabel": {
           "align": "left"
          },
          "hovermode": "closest",
          "mapbox": {
           "style": "light"
          },
          "paper_bgcolor": "white",
          "plot_bgcolor": "#E5ECF6",
          "polar": {
           "angularaxis": {
            "gridcolor": "white",
            "linecolor": "white",
            "ticks": ""
           },
           "bgcolor": "#E5ECF6",
           "radialaxis": {
            "gridcolor": "white",
            "linecolor": "white",
            "ticks": ""
           }
          },
          "scene": {
           "xaxis": {
            "backgroundcolor": "#E5ECF6",
            "gridcolor": "white",
            "gridwidth": 2,
            "linecolor": "white",
            "showbackground": true,
            "ticks": "",
            "zerolinecolor": "white"
           },
           "yaxis": {
            "backgroundcolor": "#E5ECF6",
            "gridcolor": "white",
            "gridwidth": 2,
            "linecolor": "white",
            "showbackground": true,
            "ticks": "",
            "zerolinecolor": "white"
           },
           "zaxis": {
            "backgroundcolor": "#E5ECF6",
            "gridcolor": "white",
            "gridwidth": 2,
            "linecolor": "white",
            "showbackground": true,
            "ticks": "",
            "zerolinecolor": "white"
           }
          },
          "shapedefaults": {
           "line": {
            "color": "#2a3f5f"
           }
          },
          "ternary": {
           "aaxis": {
            "gridcolor": "white",
            "linecolor": "white",
            "ticks": ""
           },
           "baxis": {
            "gridcolor": "white",
            "linecolor": "white",
            "ticks": ""
           },
           "bgcolor": "#E5ECF6",
           "caxis": {
            "gridcolor": "white",
            "linecolor": "white",
            "ticks": ""
           }
          },
          "title": {
           "x": 0.05
          },
          "xaxis": {
           "automargin": true,
           "gridcolor": "white",
           "linecolor": "white",
           "ticks": "",
           "title": {
            "standoff": 15
           },
           "zerolinecolor": "white",
           "zerolinewidth": 2
          },
          "yaxis": {
           "automargin": true,
           "gridcolor": "white",
           "linecolor": "white",
           "ticks": "",
           "title": {
            "standoff": 15
           },
           "zerolinecolor": "white",
           "zerolinewidth": 2
          }
         }
        },
        "title": {
         "text": "Feature Importance vs. Treatment Direction"
        },
        "xaxis": {
         "anchor": "y",
         "domain": [
          0,
          1
         ],
         "title": {
          "text": "importance"
         }
        },
        "yaxis": {
         "anchor": "x",
         "domain": [
          0,
          1
         ],
         "title": {
          "text": "change_effect_size"
         }
        }
       }
      }
     },
     "metadata": {},
     "output_type": "display_data"
    }
   ],
   "source": [
    "# 3) Create combined_rank now (so it's available everywhere)\n",
    "res_df[\"combined_rank\"] = res_df[\"importance\"] * res_df[\"change_effect_size\"].abs()\n",
    "\n",
    "# 4) Elbow selection on |change_effect_size| (biologically focused)\n",
    "res_ranked = res_df.copy()\n",
    "res_ranked = res_ranked.dropna(subset=[\"change_effect_size\"])  # exclude no-gap features from elbow\n",
    "res_ranked[\"rank_key\"] = res_ranked[\"change_effect_size\"].abs()\n",
    "res_ranked = res_ranked.sort_values(\"rank_key\", ascending=False).reset_index(drop=True)\n",
    "\n",
    "if res_ranked.empty:\n",
    "    k_opt = 0\n",
    "    selected = res_ranked.copy()\n",
    "else:\n",
    "    vals = res_ranked[\"rank_key\"].to_numpy()\n",
    "    cum = np.cumsum(vals)\n",
    "    cum_norm = cum / cum[-1]\n",
    "    x = np.linspace(0, 1, num=len(cum_norm), endpoint=True)\n",
    "    distances = cum_norm - x\n",
    "    k_opt = int(np.argmax(distances)) + 1\n",
    "    selected = res_ranked.iloc[:k_opt].copy()\n",
    "\n",
    "print(f\"Elbow-selected feature count (by |change_effect_size|): {k_opt}\")\n",
    "# print(selected[[\"feature\", \"importance\", \"change_effect_size\", \"combined_rank\"]].head(10))\n",
    "\n",
    "# 5) Optional biological floor, e.g., at least 20% of gap moved\n",
    "min_effect = 0.20\n",
    "selected = selected[selected[\"change_effect_size\"].abs() >= min_effect]\n",
    "print(f\"After enforcing |change_effect_size| ≥ {min_effect:.2f}: {selected.shape[0]} features kept\")\n",
    "\n",
    "# 6) Direction labels (for downstream plots)\n",
    "res_df[\"direction\"] = np.where(res_df[\"change_effect_size\"] > 0, \"towards_healthy\",\n",
    "                        np.where(res_df[\"change_effect_size\"] < 0, \"away_from_healthy\", \"no_change\"))\n",
    "\n",
    "print(res_df.head(20))\n",
    "print(\"\\nDirection counts:\\n\", res_df[\"direction\"].value_counts())\n",
    "\n",
    "# 7) Reduced dataset with selected features\n",
    "top_feature_list = selected[\"feature\"].tolist()\n",
    "print(f\"Top {len(top_feature_list)} features selected for further analysis.\")\n",
    "_reduced_hindlimb_df = left_hindlimb_features_df[top_feature_list]\n",
    "print(_reduced_hindlimb_df.shape)\n",
    "fig = px.scatter(\n",
    "    res_df[res_df[\"feature\"].isin(top_feature_list)],\n",
    "    x=\"importance\",\n",
    "    y=\"change_effect_size\",\n",
    "    size=\"combined_rank\",\n",
    "    color=\"direction\",\n",
    "    hover_data=[\"feature\", \"importance\", \"change_effect_size\", \"combined_rank\"],\n",
    "    color_discrete_map={\n",
    "        \"towards_healthy\": \"green\",\n",
    "        \"away_from_healthy\": \"red\",\n",
    "        \"no_change\": \"gray\"\n",
    "    },\n",
    "    title=\"Feature Importance vs. Treatment Direction\"\n",
    ")\n",
    "\n",
    "fig.add_hline(y=0, line_dash=\"dash\", line_color=\"black\")\n",
    "# fig.show()\n",
    "# fig.write_html(os.path.join('./', 'feature_change_analysis.html'))"
   ]
  },
  {
   "cell_type": "code",
   "execution_count": 27,
   "id": "eb86e4a6",
   "metadata": {},
   "outputs": [
    {
     "name": "stdout",
     "output_type": "stream",
     "text": [
      "Comparison sick_left_C_run vs sick_left_E_run:\n",
      "\tNumber of significant features: 50\n",
      "\tNumber of significant features by Treatment effect: 4\n",
      "\tSignificant features by Treatment effect: [('Mean step acceleration Y during swing - lHindfingers (m/s^2)', 'towards_healthy'), ('Mean step jerk Y during swing - lHindpaw (m/s^3)', 'away_from_healthy'), ('Mean step velocity X during stance - ankle (m/s)', 'away_from_healthy'), ('Mean step velocity X during swing - hip (m/s)', 'towards_healthy')]\n",
      "----------------------------------------\n",
      "Comparison sick_left_ALL_run vs sick_left_E_run:\n",
      "\tNumber of significant features: 133\n",
      "\tNumber of significant features by All vs E: 21\n",
      "\tSignificant features by All vs E: [('Mean angle excursion - rhindlimb - ankle (°)', 'away_from_healthy'), ('Mean angle excursion - rhindlimb - lHindfingers (°)', 'away_from_healthy'), ('Mean phase excursion - rhindlimb - ankle (°)', 'away_from_healthy'), ('Mean phase excursion - rhindlimb - lHindpaw (°)', 'away_from_healthy'), ('Mean step acceleration X during stance - ankle (m/s^2)', 'towards_healthy'), ('Mean step acceleration Y during stance - knee (m/s^2)', 'towards_healthy'), ('Mean step acceleration Y during stance - lHindpaw (m/s^2)', 'towards_healthy'), ('Mean step acceleration Y during swing - hip (m/s^2)', 'away_from_healthy'), ('Mean step acceleration Y during swing - lHindfingers (m/s^2)', 'towards_healthy'), ('Mean step acceleration Y during swing - lHindpaw (m/s^2)', 'towards_healthy'), ('Mean step duration (s)', 'towards_healthy'), ('Mean step frequency (Hz)', 'towards_healthy'), ('Mean step height (m)', 'towards_healthy'), ('Mean step jerk Y during stance - ankle (m/s^3)', 'away_from_healthy'), ('Mean step jerk Y during swing - ankle (m/s^3)', 'away_from_healthy'), ('Mean step jerk Y during swing - lHindpaw (m/s^3)', 'away_from_healthy'), ('Mean step length (m)', 'away_from_healthy'), ('Mean step velocity X during stance - ankle (m/s)', 'away_from_healthy'), ('Mean step velocity X during stance - knee (m/s)', 'away_from_healthy'), ('Mean step velocity X during swing - hip (m/s)', 'towards_healthy'), ('Mean step velocity Y during stance - lHindpaw (m/s)', 'towards_healthy')]\n",
      "----------------------------------------\n",
      "Comparison healthy_left_ALL_run vs sick_left_C_run:\n",
      "\tNumber of significant features: 101\n",
      "\tNumber of significant features by Lesion effect: 10\n",
      "\tSignificant features by Lesion effect: [('Mean angle excursion - rhindlimb - ankle (°)', 'away_from_healthy'), ('Mean phase excursion - rhindlimb - ankle (°)', 'away_from_healthy'), ('Mean step acceleration X during stance - ankle (m/s^2)', 'towards_healthy'), ('Mean step acceleration X during stance - lHindpaw (m/s^2)', 'towards_healthy'), ('Mean step acceleration Y during stance - ankle (m/s^2)', 'towards_healthy'), ('Mean step acceleration Y during swing - ankle (m/s^2)', 'towards_healthy'), ('Mean step height (m)', 'towards_healthy'), ('Mean step jerk Y during stance - knee (m/s^3)', 'away_from_healthy'), ('Mean step jerk Y during stance - lHindfingers (m/s^3)', 'towards_healthy'), ('Mean step velocity X during stance - lHindpaw (m/s)', 'away_from_healthy')]\n",
      "----------------------------------------\n"
     ]
    }
   ],
   "source": [
    "## Check which features in the feature list are significant in the original analysis\n",
    "data = comparison_results[limb]\n",
    "\n",
    "# print(top_feature_list)\n",
    "\n",
    "# print(data[0][1]['significant_features'][0])\n",
    "\n",
    "top_feature_set = set(top_feature_list)  # O(1) lookups\n",
    "\n",
    "def filter_sig(sig_tuples, keep_names):\n",
    "    \"\"\"\n",
    "    sig_tuples: list[tuple[str, str, str]]\n",
    "    keep_names: set[str]\n",
    "    returns:\n",
    "      - filtered tuples whose feature name is in keep_names\n",
    "      - and just the names (if you want names only)\n",
    "    \"\"\"\n",
    "    filtered = [t for t in sig_tuples if t[0] in keep_names]\n",
    "    names = [t[0] for t in filtered]\n",
    "    return filtered, names\n",
    "\n",
    "def process_comparison(key1, key2, result, group_label, match_fn, top_features, res_df):\n",
    "    \"\"\"\n",
    "    key1, key2: str from comparison_results\n",
    "    result: dict containing 'significant_features' and 'n_significant'\n",
    "    group_label: str, label for printing\n",
    "    match_fn: function that takes (k1, k2) and returns True if we should process\n",
    "    top_features: set of feature names to intersect with\n",
    "    \"\"\"\n",
    "    k1, k2 = key1.lower(), key2.lower()\n",
    "    if not match_fn(k1, k2):\n",
    "        return\n",
    "\n",
    "    sig = result.get(\"significant_features\", [])\n",
    "    feats, names = filter_sig(sig, top_features)\n",
    "\n",
    "    dir_map = dict(zip(res_df[\"feature\"], res_df[\"direction\"]))\n",
    "    names_with_dir = [(name, dir_map.get(name, \"unknown\")) for name in names]\n",
    "    \n",
    "    print(f\"Comparison {key1} vs {key2}:\")\n",
    "    print(f\"\\tNumber of significant features: {result.get('n_significant', 0)}\")\n",
    "    print(f\"\\tNumber of significant features by {group_label}: {len(feats)}\")\n",
    "    print(f\"\\tSignificant features by {group_label}: {names_with_dir}\")\n",
    "    print(\"-\" * 40)\n",
    "\n",
    "    return feats, names\n",
    "\n",
    "\n",
    "# --- Conditions as small reusable lambdas ---\n",
    "conditions = [\n",
    "    # (\"A\", lambda k1, k2: \"a_\" in k1 and \"e_\" in k2 and \"sick\" in k1 and \"sick\" in k2 and \"left\" in k1 and \"left\" in k2),\n",
    "    # (\"B\", lambda k1, k2: \"b_\" in k1 and \"e_\" in k2 and \"sick\" in k1 and \"sick\" in k2 and \"left\" in k1 and \"left\" in k2),\n",
    "    # (\"C\", lambda k1, k2: \"c_\" in k1 and \"e_\" in k2 and \"sick\" in k1 and \"sick\" in k2 and \"left\" in k1 and \"left\" in k2),\n",
    "    # (\"All\", lambda k1, k2: \"all_\" in k1 and \"e_\" in k2 and \"sick\" in k1 and \"sick\" in k2 and \"left\" in k1 and \"left\" in k2),\n",
    "    # (\"C (lesion effect)\", lambda k1, k2: \"c_\" in k1 and \"c_\" in k2 and (\n",
    "    #     (\"healthy\" in k1 and \"sick\" in k2) or (\"healthy\" in k2 and \"sick\" in k1)\n",
    "    # ) and \"left\" in k1 and \"left\" in k2),\n",
    "    # (\"Healthy vs C\", lambda k1, k2: \"all_\" in k1 and \"c_\" in k2 and \"sick\" in k2 and \"left\" in k1 and \"left\" in k2),\n",
    "    (\"Lesion effect\", lambda k1, k2: \"all_\" in k1 and \"healthy\" in k1 and \"c_\" in k2 and \"sick\" in k2 and \"left\" in k1 and \"left\" in k2),\n",
    "    (\"Treatment effect\", lambda k1, k2: \"c_\" in k1 and \"e_\" in k2 and \"sick\" in k1 and \"sick\" in k2 and \"left\" in k1 and \"left\" in k2),\n",
    "    (\"All vs E\", lambda k1, k2: \"all_\" in k1 and \"e_\" in k2 and \"sick\" in k1 and \"sick\" in k2 and \"left\" in k1 and \"left\" in k2),\n",
    "    (\"C vs B\", lambda k1, k2: \"c_\" in k1 and \"b_\" in k2 and \"sick\" in k1 and \"sick\" in k2 and \"left\" in k1 and \"left\" in k2)\n",
    "]\n",
    "\n",
    "name_dict = {label: [] for label, _ in conditions}\n",
    "for (key1, key2), result in comparison_results[limb]:\n",
    "    for label, match_fn in conditions:\n",
    "        out = process_comparison(key1, key2, result, label, match_fn, top_feature_set, res_df)\n",
    "        if out is not None:\n",
    "            _, names = out\n",
    "            name_dict[label].extend(names)"
   ]
  },
  {
   "cell_type": "code",
   "execution_count": 28,
   "id": "f9c3251c",
   "metadata": {},
   "outputs": [
    {
     "name": "stdout",
     "output_type": "stream",
     "text": [
      "(58, 99)\n",
      "[DEBUG] Dataset Label Map: {0: 'B_postDLC', 1: 'B_preDLC', 2: 'C_postDLC', 3: 'C_preDLC', 4: 'E_postDLC', 5: 'E_preDLC'}\n",
      "[DEBUG] Mouse Label Map: {0: 'mouse11_left', 1: 'mouse12_left', 2: 'mouse13_left', 3: 'mouse14_left', 4: 'mouse15_left', 5: 'mouse16_left', 6: 'mouse17_left', 7: 'mouse18_left', 8: 'mouse19_left', 9: 'mouse20_left', 10: 'mouse21_left', 11: 'mouse22_left', 12: 'mouse23_left', 13: 'mouse24_left', 14: 'mouse25_left', 15: 'mouse26_left', 16: 'mouse27_left', 17: 'mouse28_left', 18: 'mouse29_left', 19: 'mouse30_left', 20: 'mouse41_left', 21: 'mouse42_left', 22: 'mouse43_left', 23: 'mouse44_left', 24: 'mouse45_left', 25: 'mouse46_left', 26: 'mouse47_left', 27: 'mouse48_left', 28: 'mouse49_left', 29: 'mouse50_left'}\n"
     ]
    },
    {
     "name": "stderr",
     "output_type": "stream",
     "text": [
      "c:\\Users\\Simone\\Documents\\DTU\\MScThesis\\.venv\\Lib\\site-packages\\umap\\umap_.py:1952: UserWarning:\n",
      "\n",
      "n_jobs value 1 overridden to 1 by setting random_state. Use no seed for parallelism.\n",
      "\n"
     ]
    }
   ],
   "source": [
    "# top_feature_list = res_df[\"feature\"].tolist() \n",
    "top_feature_list.append('Dataset')\n",
    "top_feature_list.append('Mouse') \n",
    "reduced_hindlimb_df = _left_hindlimb_features_df[top_feature_list]\n",
    "print(reduced_hindlimb_df.shape)\n",
    "\n",
    "reduced_features_df = reduced_hindlimb_df[reduced_hindlimb_df['Mouse'].str.lower().str.contains('left')]\n",
    "preprocessed_data, dataset_label_map, mouse_label_map, label_cols = preprocess_data(reduced_features_df)\n",
    "\n",
    "X_agg, y_mouse, y_dataset = aggregate_features(preprocessed_data, label_cols, method=\"median\")\n",
    "\n",
    "umap_reducer, umap_plot_df = perform_dimensionality_reduction(\n",
    "        X_agg, y_mouse, y_dataset,\n",
    "        dataset_label_map, mouse_label_map,\n",
    "        method=\"UMAP\", n_components=3,\n",
    "        target_metric='categorical',\n",
    "        target_weight=0,\n",
    "        n_neighbors=15,\n",
    "        min_dist=0.05,\n",
    "        plot=False, save=False\n",
    "    )"
   ]
  },
  {
   "cell_type": "code",
   "execution_count": 29,
   "id": "b93efdef",
   "metadata": {},
   "outputs": [
    {
     "data": {
      "application/vnd.plotly.v1+json": {
       "config": {
        "plotlyServerURL": "https://plot.ly"
       },
       "data": [
        {
         "customdata": {
          "bdata": "AAAAAAAAAAAAAAAAAQAAAAAAAAACAAAAAAAAAAMAAAAAAAAABAAAAAAAAAAFAAAAAAAAAAYAAAAAAAAABwAAAAAAAAAIAAAAAAAAAAkAAAA=",
          "dtype": "i4",
          "shape": "10, 2"
         },
         "hovertemplate": "<b>%{hovertext}</b><br><br>ColorKey=B_postDLC<br>UMAP1=%{x}<br>UMAP2=%{y}<br>UMAP3=%{z}<br>Dataset=%{customdata[0]}<br>Mouse=%{customdata[1]}<extra></extra>",
         "hovertext": [
          "mouse11_left",
          "mouse12_left",
          "mouse13_left",
          "mouse14_left",
          "mouse15_left",
          "mouse16_left",
          "mouse17_left",
          "mouse18_left",
          "mouse19_left",
          "mouse20_left"
         ],
         "legendgroup": "B_postDLC",
         "marker": {
          "color": "#636EFA",
          "line": {
           "color": "black",
           "width": 0.3
          },
          "size": 4,
          "symbol": "circle"
         },
         "mode": "markers",
         "name": "B_postDLC",
         "scene": "scene",
         "showlegend": true,
         "type": "scatter3d",
         "x": {
          "bdata": "Lq4oQUcaHEF1gixB0iAaQfcBF0F7cxdBOQgWQZ2sK0HfWhhBikkVQQ==",
          "dtype": "f4"
         },
         "y": {
          "bdata": "HlniQKr2B0GqwttAd0YNQWeIEkFbXQVB1QoUQcB50UCzTBFBuaYFQQ==",
          "dtype": "f4"
         },
         "z": {
          "bdata": "RfKKQG6kykCLhKpArWTZQPYe2kCuSstAOEvYQJ0so0BTlt1At/bGQA==",
          "dtype": "f4"
         }
        },
        {
         "customdata": {
          "bdata": "AQAAAAAAAAABAAAAAQAAAAEAAAACAAAAAQAAAAMAAAABAAAABAAAAAEAAAAFAAAAAQAAAAYAAAABAAAABwAAAAEAAAAIAAAAAQAAAAkAAAADAAAACgAAAAMAAAALAAAAAwAAAAwAAAADAAAADQAAAAMAAAAOAAAAAwAAAA8AAAADAAAAEAAAAAMAAAARAAAAAwAAABIAAAADAAAAEwAAAAUAAAAUAAAABQAAABYAAAAFAAAAFwAAAAUAAAAYAAAABQAAABkAAAAFAAAAGgAAAAUAAAAbAAAABQAAABwAAAA=",
          "dtype": "i4",
          "shape": "28, 2"
         },
         "hovertemplate": "<b>%{hovertext}</b><br><br>ColorKey=Pre<br>UMAP1=%{x}<br>UMAP2=%{y}<br>UMAP3=%{z}<br>Dataset=%{customdata[0]}<br>Mouse=%{customdata[1]}<extra></extra>",
         "hovertext": [
          "mouse11_left",
          "mouse12_left",
          "mouse13_left",
          "mouse14_left",
          "mouse15_left",
          "mouse16_left",
          "mouse17_left",
          "mouse18_left",
          "mouse19_left",
          "mouse20_left",
          "mouse21_left",
          "mouse22_left",
          "mouse23_left",
          "mouse24_left",
          "mouse25_left",
          "mouse26_left",
          "mouse27_left",
          "mouse28_left",
          "mouse29_left",
          "mouse30_left",
          "mouse41_left",
          "mouse43_left",
          "mouse44_left",
          "mouse45_left",
          "mouse46_left",
          "mouse47_left",
          "mouse48_left",
          "mouse49_left"
         ],
         "legendgroup": "Pre",
         "marker": {
          "color": "#7f7f7f",
          "line": {
           "color": "black",
           "width": 0.3
          },
          "size": 4,
          "symbol": "circle"
         },
         "mode": "markers",
         "name": "Pre",
         "scene": "scene",
         "showlegend": true,
         "type": "scatter3d",
         "x": {
          "bdata": "nAcoQZr0IEGbmydBND0mQX3CK0FPRChB9/gkQXs0JkH57SdBQyQnQQciHkGGNB9BrRIaQYRiHEGdxiBBNj4fQafGGUFqQB5BUqcfQTtaIEHojhlB74MgQeCAHkH4SxtB5w0eQQatHUETGiRBV9QrQQ==",
          "dtype": "f4"
         },
         "y": {
          "bdata": "6H0YQagTB0F8xPZAR1UZQZhn90BRMgBBJM0PQavwE0EfCBtBXfIbQbTg90B1dvdAUgf9QCzKAUF9hxpBs5v7QLW49UB9ff5AOe4AQcTLHkGqBiNBg0gqQYIVLUFBiyVBWpUrQeyLKEHgTOxAXPTSQA==",
          "dtype": "f4"
         },
         "z": {
          "bdata": "BHuMQHC6v0AYOGpAc1uPQNfQbkANYIFAxgWpQI89n0CvQZNAzvOiQAx5SUD48WdA9NNTQBuyS0BG7KZAm4E9QNZZYUAlUj9AekLOQAijmUCzSLFA7f+dQPHtn0CPTaxAcMqgQKI+qkBLjnBAKK3RQA==",
          "dtype": "f4"
         }
        },
        {
         "customdata": {
          "bdata": "AgAAAAoAAAACAAAACwAAAAIAAAAMAAAAAgAAAA0AAAACAAAADgAAAAIAAAAPAAAAAgAAABAAAAACAAAAEQAAAAIAAAASAAAAAgAAABMAAAA=",
          "dtype": "i4",
          "shape": "10, 2"
         },
         "hovertemplate": "<b>%{hovertext}</b><br><br>ColorKey=C_postDLC<br>UMAP1=%{x}<br>UMAP2=%{y}<br>UMAP3=%{z}<br>Dataset=%{customdata[0]}<br>Mouse=%{customdata[1]}<extra></extra>",
         "hovertext": [
          "mouse21_left",
          "mouse22_left",
          "mouse23_left",
          "mouse24_left",
          "mouse25_left",
          "mouse26_left",
          "mouse27_left",
          "mouse28_left",
          "mouse29_left",
          "mouse30_left"
         ],
         "legendgroup": "C_postDLC",
         "marker": {
          "color": "#EF553B",
          "line": {
           "color": "black",
           "width": 0.3
          },
          "size": 4,
          "symbol": "circle"
         },
         "mode": "markers",
         "name": "C_postDLC",
         "scene": "scene",
         "showlegend": true,
         "type": "scatter3d",
         "x": {
          "bdata": "3qIfQeIdJEHqxSdBRW4jQRHNJ0EBsiBBfCQlQXULJUFFYyRBx5UkQQ==",
          "dtype": "f4"
         },
         "y": {
          "bdata": "w1zuQJag5kDmydpANKIBQaKSzEBvXvFAW8r0QHFW3kBy7OVAPfn6QA==",
          "dtype": "f4"
         },
         "z": {
          "bdata": "PergQN0v30Dadd9AjtDbQNFAsUDxLOtALlPqQM3K5kB9+utAfHviQA==",
          "dtype": "f4"
         }
        },
        {
         "customdata": {
          "bdata": "BAAAABQAAAAEAAAAFQAAAAQAAAAWAAAABAAAABcAAAAEAAAAGAAAAAQAAAAZAAAABAAAABoAAAAEAAAAGwAAAAQAAAAcAAAABAAAAB0AAAA=",
          "dtype": "i4",
          "shape": "10, 2"
         },
         "hovertemplate": "<b>%{hovertext}</b><br><br>ColorKey=E_postDLC<br>UMAP1=%{x}<br>UMAP2=%{y}<br>UMAP3=%{z}<br>Dataset=%{customdata[0]}<br>Mouse=%{customdata[1]}<extra></extra>",
         "hovertext": [
          "mouse41_left",
          "mouse42_left",
          "mouse43_left",
          "mouse44_left",
          "mouse45_left",
          "mouse46_left",
          "mouse47_left",
          "mouse48_left",
          "mouse49_left",
          "mouse50_left"
         ],
         "legendgroup": "E_postDLC",
         "marker": {
          "color": "#00CC96",
          "line": {
           "color": "black",
           "width": 0.3
          },
          "size": 4,
          "symbol": "circle"
         },
         "mode": "markers",
         "name": "E_postDLC",
         "scene": "scene",
         "showlegend": true,
         "type": "scatter3d",
         "x": {
          "bdata": "VIk1Qa31OUEuxzhB8L43QbsyO0FxIzxBwG8wQUrENEHaozpBsRw3QQ==",
          "dtype": "f4"
         },
         "y": {
          "bdata": "KtvOQOjSu0AvIrJAXczBQCKjsUCtcL5ASoTdQAcwu0DiKLRAaKi0QA==",
          "dtype": "f4"
         },
         "z": {
          "bdata": "S6i9QNPit0DfWbdA8ZytQOzbsUDGwa1AQbG8QDDFtEC8bcFAXLanQA==",
          "dtype": "f4"
         }
        },
        {
         "customdata": {
          "bdata": "AAAAAAAAAAAAAAAAAQAAAAAAAAACAAAAAAAAAAMAAAAAAAAABAAAAAAAAAAFAAAAAAAAAAYAAAAAAAAABwAAAAAAAAAIAAAAAAAAAAkAAAA=",
          "dtype": "i4",
          "shape": "10, 2"
         },
         "hovertemplate": "<b>%{hovertext}</b><br><br>DatasetName=B_postDLC<br>UMAP1=%{x}<br>UMAP2=%{y}<br>UMAP3=%{z}<br>Dataset=%{customdata[0]}<br>Mouse=%{customdata[1]}<extra></extra>",
         "hovertext": [
          "mouse11_left",
          "mouse12_left",
          "mouse13_left",
          "mouse14_left",
          "mouse15_left",
          "mouse16_left",
          "mouse17_left",
          "mouse18_left",
          "mouse19_left",
          "mouse20_left"
         ],
         "legendgroup": "B_postDLC",
         "marker": {
          "color": "#636EFA",
          "line": {
           "color": "black",
           "width": 0.3
          },
          "size": 4,
          "symbol": "circle"
         },
         "mode": "markers",
         "name": "B_postDLC",
         "scene": "scene2",
         "showlegend": true,
         "type": "scatter3d",
         "x": {
          "bdata": "Lq4oQUcaHEF1gixB0iAaQfcBF0F7cxdBOQgWQZ2sK0HfWhhBikkVQQ==",
          "dtype": "f4"
         },
         "y": {
          "bdata": "HlniQKr2B0GqwttAd0YNQWeIEkFbXQVB1QoUQcB50UCzTBFBuaYFQQ==",
          "dtype": "f4"
         },
         "z": {
          "bdata": "RfKKQG6kykCLhKpArWTZQPYe2kCuSstAOEvYQJ0so0BTlt1At/bGQA==",
          "dtype": "f4"
         }
        },
        {
         "customdata": {
          "bdata": "AQAAAAAAAAABAAAAAQAAAAEAAAACAAAAAQAAAAMAAAABAAAABAAAAAEAAAAFAAAAAQAAAAYAAAABAAAABwAAAAEAAAAIAAAAAQAAAAkAAAA=",
          "dtype": "i4",
          "shape": "10, 2"
         },
         "hovertemplate": "<b>%{hovertext}</b><br><br>DatasetName=B_preDLC<br>UMAP1=%{x}<br>UMAP2=%{y}<br>UMAP3=%{z}<br>Dataset=%{customdata[0]}<br>Mouse=%{customdata[1]}<extra></extra>",
         "hovertext": [
          "mouse11_left",
          "mouse12_left",
          "mouse13_left",
          "mouse14_left",
          "mouse15_left",
          "mouse16_left",
          "mouse17_left",
          "mouse18_left",
          "mouse19_left",
          "mouse20_left"
         ],
         "legendgroup": "B_preDLC",
         "marker": {
          "color": "#FFA15A",
          "line": {
           "color": "black",
           "width": 0.3
          },
          "size": 4,
          "symbol": "circle"
         },
         "mode": "markers",
         "name": "B_preDLC",
         "scene": "scene2",
         "showlegend": true,
         "type": "scatter3d",
         "x": {
          "bdata": "nAcoQZr0IEGbmydBND0mQX3CK0FPRChB9/gkQXs0JkH57SdBQyQnQQ==",
          "dtype": "f4"
         },
         "y": {
          "bdata": "6H0YQagTB0F8xPZAR1UZQZhn90BRMgBBJM0PQavwE0EfCBtBXfIbQQ==",
          "dtype": "f4"
         },
         "z": {
          "bdata": "BHuMQHC6v0AYOGpAc1uPQNfQbkANYIFAxgWpQI89n0CvQZNAzvOiQA==",
          "dtype": "f4"
         }
        },
        {
         "customdata": {
          "bdata": "AgAAAAoAAAACAAAACwAAAAIAAAAMAAAAAgAAAA0AAAACAAAADgAAAAIAAAAPAAAAAgAAABAAAAACAAAAEQAAAAIAAAASAAAAAgAAABMAAAA=",
          "dtype": "i4",
          "shape": "10, 2"
         },
         "hovertemplate": "<b>%{hovertext}</b><br><br>DatasetName=C_postDLC<br>UMAP1=%{x}<br>UMAP2=%{y}<br>UMAP3=%{z}<br>Dataset=%{customdata[0]}<br>Mouse=%{customdata[1]}<extra></extra>",
         "hovertext": [
          "mouse21_left",
          "mouse22_left",
          "mouse23_left",
          "mouse24_left",
          "mouse25_left",
          "mouse26_left",
          "mouse27_left",
          "mouse28_left",
          "mouse29_left",
          "mouse30_left"
         ],
         "legendgroup": "C_postDLC",
         "marker": {
          "color": "#EF553B",
          "line": {
           "color": "black",
           "width": 0.3
          },
          "size": 4,
          "symbol": "circle"
         },
         "mode": "markers",
         "name": "C_postDLC",
         "scene": "scene2",
         "showlegend": true,
         "type": "scatter3d",
         "x": {
          "bdata": "3qIfQeIdJEHqxSdBRW4jQRHNJ0EBsiBBfCQlQXULJUFFYyRBx5UkQQ==",
          "dtype": "f4"
         },
         "y": {
          "bdata": "w1zuQJag5kDmydpANKIBQaKSzEBvXvFAW8r0QHFW3kBy7OVAPfn6QA==",
          "dtype": "f4"
         },
         "z": {
          "bdata": "PergQN0v30Dadd9AjtDbQNFAsUDxLOtALlPqQM3K5kB9+utAfHviQA==",
          "dtype": "f4"
         }
        },
        {
         "customdata": {
          "bdata": "AwAAAAoAAAADAAAACwAAAAMAAAAMAAAAAwAAAA0AAAADAAAADgAAAAMAAAAPAAAAAwAAABAAAAADAAAAEQAAAAMAAAASAAAAAwAAABMAAAA=",
          "dtype": "i4",
          "shape": "10, 2"
         },
         "hovertemplate": "<b>%{hovertext}</b><br><br>DatasetName=C_preDLC<br>UMAP1=%{x}<br>UMAP2=%{y}<br>UMAP3=%{z}<br>Dataset=%{customdata[0]}<br>Mouse=%{customdata[1]}<extra></extra>",
         "hovertext": [
          "mouse21_left",
          "mouse22_left",
          "mouse23_left",
          "mouse24_left",
          "mouse25_left",
          "mouse26_left",
          "mouse27_left",
          "mouse28_left",
          "mouse29_left",
          "mouse30_left"
         ],
         "legendgroup": "C_preDLC",
         "marker": {
          "color": "#19d3f3",
          "line": {
           "color": "black",
           "width": 0.3
          },
          "size": 4,
          "symbol": "circle"
         },
         "mode": "markers",
         "name": "C_preDLC",
         "scene": "scene2",
         "showlegend": true,
         "type": "scatter3d",
         "x": {
          "bdata": "ByIeQYY0H0GtEhpBhGIcQZ3GIEE2Ph9Bp8YZQWpAHkFSpx9BO1ogQQ==",
          "dtype": "f4"
         },
         "y": {
          "bdata": "tOD3QHV290BSB/1ALMoBQX2HGkGzm/tAtbj1QH19/kA57gBBxMseQQ==",
          "dtype": "f4"
         },
         "z": {
          "bdata": "DHlJQPjxZ0D001NAG7JLQEbspkCbgT1A1llhQCVSP0B6Qs5ACKOZQA==",
          "dtype": "f4"
         }
        },
        {
         "customdata": {
          "bdata": "BAAAABQAAAAEAAAAFQAAAAQAAAAWAAAABAAAABcAAAAEAAAAGAAAAAQAAAAZAAAABAAAABoAAAAEAAAAGwAAAAQAAAAcAAAABAAAAB0AAAA=",
          "dtype": "i4",
          "shape": "10, 2"
         },
         "hovertemplate": "<b>%{hovertext}</b><br><br>DatasetName=E_postDLC<br>UMAP1=%{x}<br>UMAP2=%{y}<br>UMAP3=%{z}<br>Dataset=%{customdata[0]}<br>Mouse=%{customdata[1]}<extra></extra>",
         "hovertext": [
          "mouse41_left",
          "mouse42_left",
          "mouse43_left",
          "mouse44_left",
          "mouse45_left",
          "mouse46_left",
          "mouse47_left",
          "mouse48_left",
          "mouse49_left",
          "mouse50_left"
         ],
         "legendgroup": "E_postDLC",
         "marker": {
          "color": "#00CC96",
          "line": {
           "color": "black",
           "width": 0.3
          },
          "size": 4,
          "symbol": "circle"
         },
         "mode": "markers",
         "name": "E_postDLC",
         "scene": "scene2",
         "showlegend": true,
         "type": "scatter3d",
         "x": {
          "bdata": "VIk1Qa31OUEuxzhB8L43QbsyO0FxIzxBwG8wQUrENEHaozpBsRw3QQ==",
          "dtype": "f4"
         },
         "y": {
          "bdata": "KtvOQOjSu0AvIrJAXczBQCKjsUCtcL5ASoTdQAcwu0DiKLRAaKi0QA==",
          "dtype": "f4"
         },
         "z": {
          "bdata": "S6i9QNPit0DfWbdA8ZytQOzbsUDGwa1AQbG8QDDFtEC8bcFAXLanQA==",
          "dtype": "f4"
         }
        },
        {
         "customdata": {
          "bdata": "BQAAABQAAAAFAAAAFgAAAAUAAAAXAAAABQAAABgAAAAFAAAAGQAAAAUAAAAaAAAABQAAABsAAAAFAAAAHAAAAA==",
          "dtype": "i4",
          "shape": "8, 2"
         },
         "hovertemplate": "<b>%{hovertext}</b><br><br>DatasetName=E_preDLC<br>UMAP1=%{x}<br>UMAP2=%{y}<br>UMAP3=%{z}<br>Dataset=%{customdata[0]}<br>Mouse=%{customdata[1]}<extra></extra>",
         "hovertext": [
          "mouse41_left",
          "mouse43_left",
          "mouse44_left",
          "mouse45_left",
          "mouse46_left",
          "mouse47_left",
          "mouse48_left",
          "mouse49_left"
         ],
         "legendgroup": "E_preDLC",
         "marker": {
          "color": "#FF6692",
          "line": {
           "color": "black",
           "width": 0.3
          },
          "size": 4,
          "symbol": "circle"
         },
         "mode": "markers",
         "name": "E_preDLC",
         "scene": "scene2",
         "showlegend": true,
         "type": "scatter3d",
         "x": {
          "bdata": "6I4ZQe+DIEHggB5B+EsbQecNHkEGrR1BExokQVfUK0E=",
          "dtype": "f4"
         },
         "y": {
          "bdata": "qgYjQYNIKkGCFS1BQYslQVqVK0HsiyhB4EzsQFz00kA=",
          "dtype": "f4"
         },
         "z": {
          "bdata": "s0ixQO3/nUDx7Z9Aj02sQHDKoECiPqpAS45wQCit0UA=",
          "dtype": "f4"
         }
        }
       ],
       "layout": {
        "annotations": [
         {
          "font": {
           "size": 16
          },
          "showarrow": false,
          "text": "UMAP 3D — Pre vs Others",
          "x": 0.225,
          "xanchor": "center",
          "xref": "paper",
          "y": 1,
          "yanchor": "bottom",
          "yref": "paper"
         },
         {
          "font": {
           "size": 16
          },
          "showarrow": false,
          "text": "UMAP 3D — Each Dataset",
          "x": 0.775,
          "xanchor": "center",
          "xref": "paper",
          "y": 1,
          "yanchor": "bottom",
          "yref": "paper"
         }
        ],
        "height": 600,
        "legend": {
         "orientation": "v",
         "title": {
          "text": "Dataset"
         }
        },
        "margin": {
         "b": 0,
         "l": 0,
         "r": 0,
         "t": 60
        },
        "scene": {
         "aspectmode": "data",
         "domain": {
          "x": [
           0,
           0.45
          ],
          "y": [
           0,
           1
          ]
         }
        },
        "scene2": {
         "aspectmode": "data",
         "domain": {
          "x": [
           0.55,
           1
          ],
          "y": [
           0,
           1
          ]
         }
        },
        "showlegend": true,
        "template": {
         "data": {
          "bar": [
           {
            "error_x": {
             "color": "#2a3f5f"
            },
            "error_y": {
             "color": "#2a3f5f"
            },
            "marker": {
             "line": {
              "color": "#E5ECF6",
              "width": 0.5
             },
             "pattern": {
              "fillmode": "overlay",
              "size": 10,
              "solidity": 0.2
             }
            },
            "type": "bar"
           }
          ],
          "barpolar": [
           {
            "marker": {
             "line": {
              "color": "#E5ECF6",
              "width": 0.5
             },
             "pattern": {
              "fillmode": "overlay",
              "size": 10,
              "solidity": 0.2
             }
            },
            "type": "barpolar"
           }
          ],
          "carpet": [
           {
            "aaxis": {
             "endlinecolor": "#2a3f5f",
             "gridcolor": "white",
             "linecolor": "white",
             "minorgridcolor": "white",
             "startlinecolor": "#2a3f5f"
            },
            "baxis": {
             "endlinecolor": "#2a3f5f",
             "gridcolor": "white",
             "linecolor": "white",
             "minorgridcolor": "white",
             "startlinecolor": "#2a3f5f"
            },
            "type": "carpet"
           }
          ],
          "choropleth": [
           {
            "colorbar": {
             "outlinewidth": 0,
             "ticks": ""
            },
            "type": "choropleth"
           }
          ],
          "contour": [
           {
            "colorbar": {
             "outlinewidth": 0,
             "ticks": ""
            },
            "colorscale": [
             [
              0,
              "#0d0887"
             ],
             [
              0.1111111111111111,
              "#46039f"
             ],
             [
              0.2222222222222222,
              "#7201a8"
             ],
             [
              0.3333333333333333,
              "#9c179e"
             ],
             [
              0.4444444444444444,
              "#bd3786"
             ],
             [
              0.5555555555555556,
              "#d8576b"
             ],
             [
              0.6666666666666666,
              "#ed7953"
             ],
             [
              0.7777777777777778,
              "#fb9f3a"
             ],
             [
              0.8888888888888888,
              "#fdca26"
             ],
             [
              1,
              "#f0f921"
             ]
            ],
            "type": "contour"
           }
          ],
          "contourcarpet": [
           {
            "colorbar": {
             "outlinewidth": 0,
             "ticks": ""
            },
            "type": "contourcarpet"
           }
          ],
          "heatmap": [
           {
            "colorbar": {
             "outlinewidth": 0,
             "ticks": ""
            },
            "colorscale": [
             [
              0,
              "#0d0887"
             ],
             [
              0.1111111111111111,
              "#46039f"
             ],
             [
              0.2222222222222222,
              "#7201a8"
             ],
             [
              0.3333333333333333,
              "#9c179e"
             ],
             [
              0.4444444444444444,
              "#bd3786"
             ],
             [
              0.5555555555555556,
              "#d8576b"
             ],
             [
              0.6666666666666666,
              "#ed7953"
             ],
             [
              0.7777777777777778,
              "#fb9f3a"
             ],
             [
              0.8888888888888888,
              "#fdca26"
             ],
             [
              1,
              "#f0f921"
             ]
            ],
            "type": "heatmap"
           }
          ],
          "histogram": [
           {
            "marker": {
             "pattern": {
              "fillmode": "overlay",
              "size": 10,
              "solidity": 0.2
             }
            },
            "type": "histogram"
           }
          ],
          "histogram2d": [
           {
            "colorbar": {
             "outlinewidth": 0,
             "ticks": ""
            },
            "colorscale": [
             [
              0,
              "#0d0887"
             ],
             [
              0.1111111111111111,
              "#46039f"
             ],
             [
              0.2222222222222222,
              "#7201a8"
             ],
             [
              0.3333333333333333,
              "#9c179e"
             ],
             [
              0.4444444444444444,
              "#bd3786"
             ],
             [
              0.5555555555555556,
              "#d8576b"
             ],
             [
              0.6666666666666666,
              "#ed7953"
             ],
             [
              0.7777777777777778,
              "#fb9f3a"
             ],
             [
              0.8888888888888888,
              "#fdca26"
             ],
             [
              1,
              "#f0f921"
             ]
            ],
            "type": "histogram2d"
           }
          ],
          "histogram2dcontour": [
           {
            "colorbar": {
             "outlinewidth": 0,
             "ticks": ""
            },
            "colorscale": [
             [
              0,
              "#0d0887"
             ],
             [
              0.1111111111111111,
              "#46039f"
             ],
             [
              0.2222222222222222,
              "#7201a8"
             ],
             [
              0.3333333333333333,
              "#9c179e"
             ],
             [
              0.4444444444444444,
              "#bd3786"
             ],
             [
              0.5555555555555556,
              "#d8576b"
             ],
             [
              0.6666666666666666,
              "#ed7953"
             ],
             [
              0.7777777777777778,
              "#fb9f3a"
             ],
             [
              0.8888888888888888,
              "#fdca26"
             ],
             [
              1,
              "#f0f921"
             ]
            ],
            "type": "histogram2dcontour"
           }
          ],
          "mesh3d": [
           {
            "colorbar": {
             "outlinewidth": 0,
             "ticks": ""
            },
            "type": "mesh3d"
           }
          ],
          "parcoords": [
           {
            "line": {
             "colorbar": {
              "outlinewidth": 0,
              "ticks": ""
             }
            },
            "type": "parcoords"
           }
          ],
          "pie": [
           {
            "automargin": true,
            "type": "pie"
           }
          ],
          "scatter": [
           {
            "fillpattern": {
             "fillmode": "overlay",
             "size": 10,
             "solidity": 0.2
            },
            "type": "scatter"
           }
          ],
          "scatter3d": [
           {
            "line": {
             "colorbar": {
              "outlinewidth": 0,
              "ticks": ""
             }
            },
            "marker": {
             "colorbar": {
              "outlinewidth": 0,
              "ticks": ""
             }
            },
            "type": "scatter3d"
           }
          ],
          "scattercarpet": [
           {
            "marker": {
             "colorbar": {
              "outlinewidth": 0,
              "ticks": ""
             }
            },
            "type": "scattercarpet"
           }
          ],
          "scattergeo": [
           {
            "marker": {
             "colorbar": {
              "outlinewidth": 0,
              "ticks": ""
             }
            },
            "type": "scattergeo"
           }
          ],
          "scattergl": [
           {
            "marker": {
             "colorbar": {
              "outlinewidth": 0,
              "ticks": ""
             }
            },
            "type": "scattergl"
           }
          ],
          "scattermap": [
           {
            "marker": {
             "colorbar": {
              "outlinewidth": 0,
              "ticks": ""
             }
            },
            "type": "scattermap"
           }
          ],
          "scattermapbox": [
           {
            "marker": {
             "colorbar": {
              "outlinewidth": 0,
              "ticks": ""
             }
            },
            "type": "scattermapbox"
           }
          ],
          "scatterpolar": [
           {
            "marker": {
             "colorbar": {
              "outlinewidth": 0,
              "ticks": ""
             }
            },
            "type": "scatterpolar"
           }
          ],
          "scatterpolargl": [
           {
            "marker": {
             "colorbar": {
              "outlinewidth": 0,
              "ticks": ""
             }
            },
            "type": "scatterpolargl"
           }
          ],
          "scatterternary": [
           {
            "marker": {
             "colorbar": {
              "outlinewidth": 0,
              "ticks": ""
             }
            },
            "type": "scatterternary"
           }
          ],
          "surface": [
           {
            "colorbar": {
             "outlinewidth": 0,
             "ticks": ""
            },
            "colorscale": [
             [
              0,
              "#0d0887"
             ],
             [
              0.1111111111111111,
              "#46039f"
             ],
             [
              0.2222222222222222,
              "#7201a8"
             ],
             [
              0.3333333333333333,
              "#9c179e"
             ],
             [
              0.4444444444444444,
              "#bd3786"
             ],
             [
              0.5555555555555556,
              "#d8576b"
             ],
             [
              0.6666666666666666,
              "#ed7953"
             ],
             [
              0.7777777777777778,
              "#fb9f3a"
             ],
             [
              0.8888888888888888,
              "#fdca26"
             ],
             [
              1,
              "#f0f921"
             ]
            ],
            "type": "surface"
           }
          ],
          "table": [
           {
            "cells": {
             "fill": {
              "color": "#EBF0F8"
             },
             "line": {
              "color": "white"
             }
            },
            "header": {
             "fill": {
              "color": "#C8D4E3"
             },
             "line": {
              "color": "white"
             }
            },
            "type": "table"
           }
          ]
         },
         "layout": {
          "annotationdefaults": {
           "arrowcolor": "#2a3f5f",
           "arrowhead": 0,
           "arrowwidth": 1
          },
          "autotypenumbers": "strict",
          "coloraxis": {
           "colorbar": {
            "outlinewidth": 0,
            "ticks": ""
           }
          },
          "colorscale": {
           "diverging": [
            [
             0,
             "#8e0152"
            ],
            [
             0.1,
             "#c51b7d"
            ],
            [
             0.2,
             "#de77ae"
            ],
            [
             0.3,
             "#f1b6da"
            ],
            [
             0.4,
             "#fde0ef"
            ],
            [
             0.5,
             "#f7f7f7"
            ],
            [
             0.6,
             "#e6f5d0"
            ],
            [
             0.7,
             "#b8e186"
            ],
            [
             0.8,
             "#7fbc41"
            ],
            [
             0.9,
             "#4d9221"
            ],
            [
             1,
             "#276419"
            ]
           ],
           "sequential": [
            [
             0,
             "#0d0887"
            ],
            [
             0.1111111111111111,
             "#46039f"
            ],
            [
             0.2222222222222222,
             "#7201a8"
            ],
            [
             0.3333333333333333,
             "#9c179e"
            ],
            [
             0.4444444444444444,
             "#bd3786"
            ],
            [
             0.5555555555555556,
             "#d8576b"
            ],
            [
             0.6666666666666666,
             "#ed7953"
            ],
            [
             0.7777777777777778,
             "#fb9f3a"
            ],
            [
             0.8888888888888888,
             "#fdca26"
            ],
            [
             1,
             "#f0f921"
            ]
           ],
           "sequentialminus": [
            [
             0,
             "#0d0887"
            ],
            [
             0.1111111111111111,
             "#46039f"
            ],
            [
             0.2222222222222222,
             "#7201a8"
            ],
            [
             0.3333333333333333,
             "#9c179e"
            ],
            [
             0.4444444444444444,
             "#bd3786"
            ],
            [
             0.5555555555555556,
             "#d8576b"
            ],
            [
             0.6666666666666666,
             "#ed7953"
            ],
            [
             0.7777777777777778,
             "#fb9f3a"
            ],
            [
             0.8888888888888888,
             "#fdca26"
            ],
            [
             1,
             "#f0f921"
            ]
           ]
          },
          "colorway": [
           "#636efa",
           "#EF553B",
           "#00cc96",
           "#ab63fa",
           "#FFA15A",
           "#19d3f3",
           "#FF6692",
           "#B6E880",
           "#FF97FF",
           "#FECB52"
          ],
          "font": {
           "color": "#2a3f5f"
          },
          "geo": {
           "bgcolor": "white",
           "lakecolor": "white",
           "landcolor": "#E5ECF6",
           "showlakes": true,
           "showland": true,
           "subunitcolor": "white"
          },
          "hoverlabel": {
           "align": "left"
          },
          "hovermode": "closest",
          "mapbox": {
           "style": "light"
          },
          "paper_bgcolor": "white",
          "plot_bgcolor": "#E5ECF6",
          "polar": {
           "angularaxis": {
            "gridcolor": "white",
            "linecolor": "white",
            "ticks": ""
           },
           "bgcolor": "#E5ECF6",
           "radialaxis": {
            "gridcolor": "white",
            "linecolor": "white",
            "ticks": ""
           }
          },
          "scene": {
           "xaxis": {
            "backgroundcolor": "#E5ECF6",
            "gridcolor": "white",
            "gridwidth": 2,
            "linecolor": "white",
            "showbackground": true,
            "ticks": "",
            "zerolinecolor": "white"
           },
           "yaxis": {
            "backgroundcolor": "#E5ECF6",
            "gridcolor": "white",
            "gridwidth": 2,
            "linecolor": "white",
            "showbackground": true,
            "ticks": "",
            "zerolinecolor": "white"
           },
           "zaxis": {
            "backgroundcolor": "#E5ECF6",
            "gridcolor": "white",
            "gridwidth": 2,
            "linecolor": "white",
            "showbackground": true,
            "ticks": "",
            "zerolinecolor": "white"
           }
          },
          "shapedefaults": {
           "line": {
            "color": "#2a3f5f"
           }
          },
          "ternary": {
           "aaxis": {
            "gridcolor": "white",
            "linecolor": "white",
            "ticks": ""
           },
           "baxis": {
            "gridcolor": "white",
            "linecolor": "white",
            "ticks": ""
           },
           "bgcolor": "#E5ECF6",
           "caxis": {
            "gridcolor": "white",
            "linecolor": "white",
            "ticks": ""
           }
          },
          "title": {
           "x": 0.05
          },
          "xaxis": {
           "automargin": true,
           "gridcolor": "white",
           "linecolor": "white",
           "ticks": "",
           "title": {
            "standoff": 15
           },
           "zerolinecolor": "white",
           "zerolinewidth": 2
          },
          "yaxis": {
           "automargin": true,
           "gridcolor": "white",
           "linecolor": "white",
           "ticks": "",
           "title": {
            "standoff": 15
           },
           "zerolinecolor": "white",
           "zerolinewidth": 2
          }
         }
        },
        "width": 1100
       }
      }
     },
     "metadata": {},
     "output_type": "display_data"
    }
   ],
   "source": [
    "### Plotting UMAP in 3D -> 573 features total\n",
    "umap_plot_df[\"DatasetName\"] = umap_plot_df[\"Dataset\"].map(dataset_label_map)\n",
    "umap_plot_df[\"MouseName\"]   = umap_plot_df[\"Mouse\"].map(mouse_label_map)\n",
    "\n",
    "# --- Build a consistent color map ---\n",
    "fixed_color = \"#7f7f7f\"  # gray for Pre\n",
    "all_names = sorted(umap_plot_df[\"DatasetName\"].unique())\n",
    "\n",
    "# Non-Pre datasets get distinct colors from a qualitative palette\n",
    "palette = px.colors.qualitative.Plotly  # or px.colors.qualitative.Set3, etc.\n",
    "non_pre = [n for n in all_names if \"pre\" not in n.lower()]\n",
    "\n",
    "color_map = {\"Pre\": fixed_color}\n",
    "color_map.update({name: palette[i % len(palette)] for i, name in enumerate(non_pre)})\n",
    "\n",
    "# Color key: collapse anything containing \"pre\" to \"Pre\", keep others as-is\n",
    "umap_plot_df[\"ColorKey\"] = umap_plot_df[\"DatasetName\"].apply(\n",
    "    lambda x: \"Pre\" if \"pre\" in x.lower() else x\n",
    ")\n",
    "\n",
    "# --- Build the two px figures using the SAME color map ---\n",
    "fig_left = px.scatter_3d(\n",
    "    umap_plot_df,\n",
    "    x=\"UMAP1\", y=\"UMAP2\", z=\"UMAP3\",\n",
    "    color=\"ColorKey\",\n",
    "    hover_name=\"MouseName\",\n",
    "    hover_data={\"Dataset\": True, \"Mouse\": True},\n",
    "    title=\"UMAP 3D — Pre vs Others\",\n",
    "    color_discrete_map=color_map\n",
    ")\n",
    "fig_left.update_traces(marker=dict(size=4, line=dict(width=0.3, color='black')),\n",
    "                       selector=dict(mode='markers'))\n",
    "\n",
    "fig_right = px.scatter_3d(\n",
    "    umap_plot_df,\n",
    "    x=\"UMAP1\", y=\"UMAP2\", z=\"UMAP3\",\n",
    "    color=\"DatasetName\",\n",
    "    hover_name=\"MouseName\",\n",
    "    hover_data={\"Dataset\": True, \"Mouse\": True},\n",
    "    title=\"UMAP 3D — Each Dataset\",\n",
    "    color_discrete_map=color_map\n",
    ")\n",
    "fig_right.update_traces(marker=dict(size=4, line=dict(width=0.3, color='black')),\n",
    "                        selector=dict(mode='markers'))\n",
    "\n",
    "# --- Put them side by side with shared legend ---\n",
    "combo = make_subplots(rows=1, cols=2,\n",
    "                      specs=[[{\"type\": \"scene\"}, {\"type\": \"scene\"}]],\n",
    "                      subplot_titles=(fig_left.layout.title.text, fig_right.layout.title.text))\n",
    "\n",
    "for tr in fig_left.data:\n",
    "    combo.add_trace(tr, row=1, col=1)\n",
    "for tr in fig_right.data:\n",
    "    combo.add_trace(tr, row=1, col=2)\n",
    "\n",
    "# Layout tweaks: one legend, equal aspect, tidy margins\n",
    "combo.update_layout(\n",
    "    showlegend=True,\n",
    "    legend=dict(title=\"Dataset\", orientation=\"v\"),\n",
    "    scene=dict(aspectmode=\"data\"),\n",
    "    scene2=dict(aspectmode=\"data\"),\n",
    "    margin=dict(l=0, r=0, t=60, b=0),\n",
    "    height=600, width=1100\n",
    ")\n",
    "\n",
    "combo.show()\n",
    "combo.write_html(os.path.join('./', 'umap_reduced_features_no_at.html'))"
   ]
  },
  {
   "cell_type": "code",
   "execution_count": 30,
   "id": "2c284ce3",
   "metadata": {},
   "outputs": [],
   "source": [
    "def plot_features_list_across_groups(feature_list, feature_subsets, limb='hindlimb', \n",
    "                                     max_cols=4, groups=['A_', 'B_', 'C_', 'D_', 'E_'], \n",
    "                                     states=['healthy', 'sick'], sides=['left', 'right']):\n",
    "    \"\"\"\n",
    "    Plot a given list of exact feature names across all groups for a given limb.\n",
    "    \"\"\"\n",
    "    data_subsets = feature_subsets[limb]\n",
    "    matched_features = [f for f in feature_list if any(f in df.columns for df in data_subsets.values())]\n",
    "\n",
    "    if not matched_features:\n",
    "        print(\"No matching features found in the data.\")\n",
    "        return\n",
    "    \n",
    "    if 'ALL_' in groups:\n",
    "        # Merge the relevant sick groups (excluding D and E)\n",
    "        all_sick = pd.concat([\n",
    "            feature_subsets[limb]['sick_left_B_run'],\n",
    "            feature_subsets[limb]['sick_left_C_run']\n",
    "        ], ignore_index=True)\n",
    "        all_healthy = pd.concat([\n",
    "            feature_subsets[limb]['healthy_left_B_run'],\n",
    "            feature_subsets[limb]['healthy_left_C_run']\n",
    "        ], ignore_index=True)\n",
    "        feature_subsets[limb]['sick_left_ALL_run'] = all_sick\n",
    "        feature_subsets[limb]['healthy_left_ALL_run'] = all_healthy\n",
    "\n",
    "    num_features = len(matched_features)\n",
    "    rows = (num_features + max_cols - 1) // max_cols\n",
    "    cols = min(num_features, max_cols)\n",
    "\n",
    "    palette = px.colors.qualitative.Plotly\n",
    "    subplot_titles = [\n",
    "        f.replace('Mean', '').replace('- rhindlimb - ', '').strip()\n",
    "        for f in matched_features\n",
    "    ]\n",
    "\n",
    "    fig = make_subplots(rows=rows, cols=cols, subplot_titles=subplot_titles)\n",
    "\n",
    "    for idx, feature in enumerate(matched_features):\n",
    "        row = idx // max_cols + 1\n",
    "        col = idx % max_cols + 1\n",
    "\n",
    "        group_means, group_stds, group_names, group_points = [], [], [], []\n",
    "\n",
    "        for name, df in data_subsets.items():\n",
    "            if feature not in df.columns:\n",
    "                continue\n",
    "            if not any(side in name.lower() for side in sides):\n",
    "                continue\n",
    "            if not (any(g in name for g in groups) and any(s in name for s in states)):\n",
    "                continue\n",
    "\n",
    "            values = df[feature].dropna()\n",
    "            if len(values) == 0:\n",
    "                continue\n",
    "\n",
    "            group_means.append(values.mean())\n",
    "            group_stds.append(values.std())\n",
    "            group_names.append(name)\n",
    "            group_points.append(values)\n",
    "\n",
    "        if not group_names:\n",
    "            continue\n",
    "\n",
    "        bar_colors = [palette[i % len(palette)] for i in range(len(group_names))]\n",
    "\n",
    "        # Bar with error bars\n",
    "        fig.add_trace(\n",
    "            go.Bar(\n",
    "                x=group_names,\n",
    "                y=group_means,\n",
    "                error_y=dict(type='data', array=group_stds, visible=True),\n",
    "                name=feature,\n",
    "                marker=dict(\n",
    "                    color=bar_colors,\n",
    "                    line=dict(color='black', width=1)\n",
    "                )\n",
    "            ),\n",
    "            row=row, col=col\n",
    "        )\n",
    "\n",
    "        # Scatter points\n",
    "        for i, (group, values) in enumerate(zip(group_names, group_points)):\n",
    "            fig.add_trace(\n",
    "                go.Scatter(\n",
    "                    x=[group] * len(values),\n",
    "                    y=values,\n",
    "                    mode='markers',\n",
    "                    marker=dict(size=6, opacity=0.5, color='black'),\n",
    "                    showlegend=False\n",
    "                ),\n",
    "                row=row, col=col\n",
    "            )\n",
    "\n",
    "    fig.update_layout(\n",
    "        title=\"Selected Features Across Groups\",\n",
    "        showlegend=False,\n",
    "        height=500 * rows,\n",
    "        width=400 * cols,\n",
    "        plot_bgcolor='rgba(0,0,0,0)'\n",
    "    )\n",
    "    return fig"
   ]
  },
  {
   "cell_type": "code",
   "execution_count": 31,
   "id": "1bd6c70f",
   "metadata": {},
   "outputs": [
    {
     "name": "stdout",
     "output_type": "stream",
     "text": [
      "Number of features: 235\n",
      "Number of significant features that describe the lesion effect: 33\n",
      "Number selected lesion features affected by the treatment: 16\n",
      "Lesion features affected by the treatment:\n",
      "                                              feature  importance  \\\n",
      "0        Mean angle excursion - rhindlimb - ankle (°)    0.057061   \n",
      "4        Mean phase excursion - rhindlimb - ankle (°)    0.029125   \n",
      "7   Mean step acceleration X during stance - ankle...    0.023246   \n",
      "8   Mean step acceleration X during stance - lHind...    0.020498   \n",
      "14  Mean step acceleration Y during swing - ankle ...    0.012958   \n",
      "\n",
      "    change_score  change_effect_size  combined_rank          direction  \n",
      "0      -7.819830           -0.895282       0.051085  away_from_healthy  \n",
      "4      -6.268268           -0.812637       0.023668  away_from_healthy  \n",
      "7       0.270241            0.570418       0.013260    towards_healthy  \n",
      "8       0.231552            0.408394       0.008371    towards_healthy  \n",
      "14      0.174798            0.483098       0.006260    towards_healthy  \n",
      "Number of features going towards healthy: 9\n",
      "['Mean step acceleration X during stance - ankle (m/s^2)', 'Mean step acceleration X during stance - lHindpaw (m/s^2)', 'Mean step acceleration Y during swing - ankle (m/s^2)', 'Mean step acceleration Y during stance - ankle (m/s^2)', 'Mean step height (m)', 'Mean step jerk Y during stance - lHindfingers (m/s^3)', 'Mean step acceleration X during stance - knee (m/s^2)', 'Mean step acceleration X during stance - lHindfingers (m/s^2)', 'Mean step jerk Y during swing - lHindfingers (m/s^3)']\n",
      "Number of features worsening: 7\n",
      "['Mean angle excursion - rhindlimb - ankle (°)', 'Mean phase excursion - rhindlimb - ankle (°)', 'Mean step velocity X during stance - lHindpaw (m/s)', 'Mean step velocity X during stance - lHindfingers (m/s)', 'Mean step jerk Y during swing - hip (m/s^3)', 'Mean step jerk Y during stance - knee (m/s^3)', 'Mean step velocity Y during swing - ankle (m/s)']\n",
      "\n",
      "Number of significant features affected by the treatment: 58\n",
      "Number of selected features that are not pathological: 15\n",
      "Non-pathological features:                                                feature  importance  \\\n",
      "61    Mean step velocity X during stance - ankle (m/s)    0.003772   \n",
      "75     Mean step velocity X during stance - knee (m/s)    0.003253   \n",
      "102  Mean step acceleration Y during swing - hip (m...    0.002328   \n",
      "172  Mean angle excursion - rhindlimb - lHindfinger...    0.001207   \n",
      "137       Mean step jerk Y during swing - knee (m/s^3)    0.001651   \n",
      "\n",
      "     change_score  change_effect_size  combined_rank          direction  \n",
      "61      -0.025349           -0.822963       0.003104  away_from_healthy  \n",
      "75      -0.024852           -0.667444       0.002171  away_from_healthy  \n",
      "102     -0.177235           -0.849358       0.001977  away_from_healthy  \n",
      "172    -11.444365           -0.922243       0.001113  away_from_healthy  \n",
      "137    -17.026877           -0.650505       0.001074  away_from_healthy  \n",
      "Number of features going towards healthy: 1\n",
      "['Mean step jerk Y during stance - lHindpaw (m/s^3)']\n",
      "Number of features worsening: 14\n",
      "['Mean step velocity X during stance - ankle (m/s)', 'Mean step velocity X during stance - knee (m/s)', 'Mean step acceleration Y during swing - hip (m/s^2)', 'Mean angle excursion - rhindlimb - lHindfingers (°)', 'Mean step jerk Y during swing - knee (m/s^3)', 'Mean step jerk Y during swing - ankle (m/s^3)', 'Mean step jerk Y during stance - ankle (m/s^3)', 'Mean phase excursion - rhindlimb - lHindpaw (°)', 'Mean angle excursion - rhindlimb - lHindpaw (°)', 'Mean step velocity Y during swing - lHindpaw (m/s)', 'Mean step velocity X during swing - lHindfingers (m/s)', 'Mean step acceleration Y during stance - hip (m/s^2)', 'Mean step jerk Y during swing - lHindpaw (m/s^3)', 'Mean step velocity X during swing - lHindpaw (m/s)']\n"
     ]
    },
    {
     "data": {
      "application/vnd.plotly.v1+json": {
       "config": {
        "plotlyServerURL": "https://plot.ly"
       },
       "data": [
        {
         "error_y": {
          "array": [
           8.462546459432629,
           7.146419700458841,
           8.970670171129122
          ],
          "type": "data",
          "visible": true
         },
         "marker": {
          "color": [
           "#636EFA",
           "#EF553B",
           "#00CC96"
          ],
          "line": {
           "color": "black",
           "width": 1
          }
         },
         "name": "Mean angle excursion - rhindlimb - ankle (°)",
         "type": "bar",
         "x": [
          "sick_left_C_run",
          "sick_left_E_run",
          "healthy_left_ALL_run"
         ],
         "xaxis": "x",
         "y": [
          67.16117215641357,
          60.667455371813375,
          85.47021126223576
         ],
         "yaxis": "y"
        },
        {
         "marker": {
          "color": "black",
          "opacity": 0.5,
          "size": 6
         },
         "mode": "markers",
         "showlegend": false,
         "type": "scatter",
         "x": [
          "sick_left_C_run",
          "sick_left_C_run",
          "sick_left_C_run",
          "sick_left_C_run",
          "sick_left_C_run",
          "sick_left_C_run",
          "sick_left_C_run",
          "sick_left_C_run",
          "sick_left_C_run",
          "sick_left_C_run"
         ],
         "xaxis": "x",
         "y": {
          "bdata": "RHtPbeztUEAL6cvhLclPQPuH9LaGSE1A4hV35MzMVUDHMoAOo0VOQJjdsqL3UlBAup7DO71TUkCDOyyXaHxNQOUXFrg71VBAHHmqapxGUUA=",
          "dtype": "f8"
         },
         "yaxis": "y"
        },
        {
         "marker": {
          "color": "black",
          "opacity": 0.5,
          "size": 6
         },
         "mode": "markers",
         "showlegend": false,
         "type": "scatter",
         "x": [
          "sick_left_E_run",
          "sick_left_E_run",
          "sick_left_E_run",
          "sick_left_E_run",
          "sick_left_E_run",
          "sick_left_E_run",
          "sick_left_E_run",
          "sick_left_E_run",
          "sick_left_E_run",
          "sick_left_E_run"
         ],
         "xaxis": "x",
         "y": {
          "bdata": "tWWALVQ4TkCd+qCQclBPQCsLTwyMF0pAQrTQJZyFUkD8UllAMcBKQE8khdV5j1FAGEO7CmaLT0B05Za0TCRLQL2bw7PptUxA6i8sUgtmTUA=",
          "dtype": "f8"
         },
         "yaxis": "y"
        },
        {
         "marker": {
          "color": "black",
          "opacity": 0.5,
          "size": 6
         },
         "mode": "markers",
         "showlegend": false,
         "type": "scatter",
         "x": [
          "healthy_left_ALL_run",
          "healthy_left_ALL_run",
          "healthy_left_ALL_run",
          "healthy_left_ALL_run",
          "healthy_left_ALL_run",
          "healthy_left_ALL_run",
          "healthy_left_ALL_run",
          "healthy_left_ALL_run",
          "healthy_left_ALL_run",
          "healthy_left_ALL_run",
          "healthy_left_ALL_run",
          "healthy_left_ALL_run",
          "healthy_left_ALL_run",
          "healthy_left_ALL_run",
          "healthy_left_ALL_run",
          "healthy_left_ALL_run",
          "healthy_left_ALL_run",
          "healthy_left_ALL_run",
          "healthy_left_ALL_run",
          "healthy_left_ALL_run"
         ],
         "xaxis": "x",
         "y": {
          "bdata": "HSvtcMVJT0BYrFZ/QgVSQJjV3qW7y1NAFqlBZrGDVEBiGRR3uDJWQDdZ14AOllZALeiKgQNAVEDV0FBaS7dTQJSVO+8yMFRAjrjk03YOWEAND6iw6WtXQAXQ/1ilnlVAHeSmV3A1V0DYfdyDPNVYQJHF9bm8DlRAARkLDddIVEDaWl74+B9WQF+y968ThFZAecpduQhVWECeX9rqp/tVQA==",
          "dtype": "f8"
         },
         "yaxis": "y"
        },
        {
         "error_y": {
          "array": [
           8.153817089158382,
           6.188490783042609,
           7.434867208472993
          ],
          "type": "data",
          "visible": true
         },
         "marker": {
          "color": [
           "#636EFA",
           "#EF553B",
           "#00CC96"
          ],
          "line": {
           "color": "black",
           "width": 1
          }
         },
         "name": "Mean phase excursion - rhindlimb - ankle (°)",
         "type": "bar",
         "x": [
          "sick_left_C_run",
          "sick_left_E_run",
          "healthy_left_ALL_run"
         ],
         "xaxis": "x2",
         "y": [
          102.84154582103035,
          98.16500094311988,
          115.76623792239431
         ],
         "yaxis": "y2"
        },
        {
         "marker": {
          "color": "black",
          "opacity": 0.5,
          "size": 6
         },
         "mode": "markers",
         "showlegend": false,
         "type": "scatter",
         "x": [
          "sick_left_C_run",
          "sick_left_C_run",
          "sick_left_C_run",
          "sick_left_C_run",
          "sick_left_C_run",
          "sick_left_C_run",
          "sick_left_C_run",
          "sick_left_C_run",
          "sick_left_C_run",
          "sick_left_C_run"
         ],
         "xaxis": "x2",
         "y": {
          "bdata": "/gEcMgzPWUCYKcVsU+1YQMdHTDNJFFhATUTk8KtqXUAin5M4ia9XQCeYmzlSw1tAtYCwdJIGW0CItL5wrKVWQCT5vPylNFlAnGmbxoGLWkA=",
          "dtype": "f8"
         },
         "yaxis": "y2"
        },
        {
         "marker": {
          "color": "black",
          "opacity": 0.5,
          "size": 6
         },
         "mode": "markers",
         "showlegend": false,
         "type": "scatter",
         "x": [
          "sick_left_E_run",
          "sick_left_E_run",
          "sick_left_E_run",
          "sick_left_E_run",
          "sick_left_E_run",
          "sick_left_E_run",
          "sick_left_E_run",
          "sick_left_E_run",
          "sick_left_E_run",
          "sick_left_E_run"
         ],
         "xaxis": "x2",
         "y": {
          "bdata": "nc35Jgc5WUCobkOpE21YQGqYc+gJh1ZAGJeIIt1VW0BIqAhhyQZYQOsZdgmmKVpA7lDGsNOaWUCtg3BYQ/1WQOkHbFS2NFhASDvNHVvpVkA=",
          "dtype": "f8"
         },
         "yaxis": "y2"
        },
        {
         "marker": {
          "color": "black",
          "opacity": 0.5,
          "size": 6
         },
         "mode": "markers",
         "showlegend": false,
         "type": "scatter",
         "x": [
          "healthy_left_ALL_run",
          "healthy_left_ALL_run",
          "healthy_left_ALL_run",
          "healthy_left_ALL_run",
          "healthy_left_ALL_run",
          "healthy_left_ALL_run",
          "healthy_left_ALL_run",
          "healthy_left_ALL_run",
          "healthy_left_ALL_run",
          "healthy_left_ALL_run",
          "healthy_left_ALL_run",
          "healthy_left_ALL_run",
          "healthy_left_ALL_run",
          "healthy_left_ALL_run",
          "healthy_left_ALL_run",
          "healthy_left_ALL_run",
          "healthy_left_ALL_run",
          "healthy_left_ALL_run",
          "healthy_left_ALL_run",
          "healthy_left_ALL_run"
         ],
         "xaxis": "x2",
         "y": {
          "bdata": "U24XO/NtWUCK1+dV4KxaQLNRAIuQxFxAkFLdaa5hXEC/SufqHR1dQJxqIsL9zl1AJKQ6t/k4XUCUjwpZAspbQK9pTNqJAlxA0mm/A4cHYECDzg1ThmRfQOQ4K5hOulxASRSnHzTHXUALx4srPzNgQM3U1Cg1NllAP1TUxzltXEDgVu9PxytdQCwzfmwhnVxARUcnFAIaXkC5fHuPJcBdQA==",
          "dtype": "f8"
         },
         "yaxis": "y2"
        },
        {
         "error_y": {
          "array": [
           0.3800644863341583,
           0.3143274624608336,
           0.5129867527549037
          ],
          "type": "data",
          "visible": true
         },
         "marker": {
          "color": [
           "#636EFA",
           "#EF553B",
           "#00CC96"
          ],
          "line": {
           "color": "black",
           "width": 1
          }
         },
         "name": "Mean step acceleration X during stance - ankle (m/s^2)",
         "type": "bar",
         "x": [
          "sick_left_C_run",
          "sick_left_E_run",
          "healthy_left_ALL_run"
         ],
         "xaxis": "x3",
         "y": [
          1.0956321631045398,
          0.9038828115894674,
          0.5756567306869295
         ],
         "yaxis": "y3"
        },
        {
         "marker": {
          "color": "black",
          "opacity": 0.5,
          "size": 6
         },
         "mode": "markers",
         "showlegend": false,
         "type": "scatter",
         "x": [
          "sick_left_C_run",
          "sick_left_C_run",
          "sick_left_C_run",
          "sick_left_C_run",
          "sick_left_C_run",
          "sick_left_C_run",
          "sick_left_C_run",
          "sick_left_C_run",
          "sick_left_C_run",
          "sick_left_C_run"
         ],
         "xaxis": "x3",
         "y": {
          "bdata": "pEuDUpky5z/cL1zZlLrxPy5YCazpsPU/8/mZgI314j9MuFF4GmD2Pz33ztieGfo/Od1eP1+f8T9S1AkU1VPuP3nj89sgP/g/iXlgB8SW4j8=",
          "dtype": "f8"
         },
         "yaxis": "y3"
        },
        {
         "marker": {
          "color": "black",
          "opacity": 0.5,
          "size": 6
         },
         "mode": "markers",
         "showlegend": false,
         "type": "scatter",
         "x": [
          "sick_left_E_run",
          "sick_left_E_run",
          "sick_left_E_run",
          "sick_left_E_run",
          "sick_left_E_run",
          "sick_left_E_run",
          "sick_left_E_run",
          "sick_left_E_run",
          "sick_left_E_run",
          "sick_left_E_run"
         ],
         "xaxis": "x3",
         "y": {
          "bdata": "Xz4mQy9m8z9/SVBIvGz1P/AVZGGUHe0/5VOt2csM6j8Vi5O39FXoP3MGzPE5geg/KTbyEJ0T0z8kch/SFLH0PxvdHlIHvuY/7PLI+67s7T8=",
          "dtype": "f8"
         },
         "yaxis": "y3"
        },
        {
         "marker": {
          "color": "black",
          "opacity": 0.5,
          "size": 6
         },
         "mode": "markers",
         "showlegend": false,
         "type": "scatter",
         "x": [
          "healthy_left_ALL_run",
          "healthy_left_ALL_run",
          "healthy_left_ALL_run",
          "healthy_left_ALL_run",
          "healthy_left_ALL_run",
          "healthy_left_ALL_run",
          "healthy_left_ALL_run",
          "healthy_left_ALL_run",
          "healthy_left_ALL_run",
          "healthy_left_ALL_run",
          "healthy_left_ALL_run",
          "healthy_left_ALL_run",
          "healthy_left_ALL_run",
          "healthy_left_ALL_run",
          "healthy_left_ALL_run",
          "healthy_left_ALL_run",
          "healthy_left_ALL_run",
          "healthy_left_ALL_run",
          "healthy_left_ALL_run",
          "healthy_left_ALL_run"
         ],
         "xaxis": "x3",
         "y": {
          "bdata": "qch5H5V/6T8eKVCnum/pP3j1TQG1U/M/oktLEh1/3z+VS4XQ+UXgP15OCBLoese/klWlR16/6j8GRy+yUHPfP7fVlVztV+o/JhoUSNwg1j8nwzaWjirkP2VBrijwqvU/wQhfaBz91T+G3QCzxCXMP3cIIJqZYui/5zYCZMqP6j8nmM9GWrCeP1URQC/NifM/DOcLFXhz2D8UkkBdG2ryPw==",
          "dtype": "f8"
         },
         "yaxis": "y3"
        },
        {
         "error_y": {
          "array": [
           0.2974904788180556,
           0.3539620672295868,
           0.5812909385835973
          ],
          "type": "data",
          "visible": true
         },
         "marker": {
          "color": [
           "#636EFA",
           "#EF553B",
           "#00CC96"
          ],
          "line": {
           "color": "black",
           "width": 1
          }
         },
         "name": "Mean step acceleration X during stance - lHindpaw (m/s^2)",
         "type": "bar",
         "x": [
          "sick_left_C_run",
          "sick_left_E_run",
          "healthy_left_ALL_run"
         ],
         "xaxis": "x4",
         "y": [
          0.8899979639866865,
          0.6847516172690986,
          0.3325369525329923
         ],
         "yaxis": "y4"
        },
        {
         "marker": {
          "color": "black",
          "opacity": 0.5,
          "size": 6
         },
         "mode": "markers",
         "showlegend": false,
         "type": "scatter",
         "x": [
          "sick_left_C_run",
          "sick_left_C_run",
          "sick_left_C_run",
          "sick_left_C_run",
          "sick_left_C_run",
          "sick_left_C_run",
          "sick_left_C_run",
          "sick_left_C_run",
          "sick_left_C_run",
          "sick_left_C_run"
         ],
         "xaxis": "x4",
         "y": {
          "bdata": "YKWTm4gK6D/d7+0CIQXwPzR3TcH6o+o/AoTeVIDF0j/x1d7Dwtv0P9Xzkm/QmPM/z2H+4A1v6z/PPYN/HkPmP/Ltldh2h/I/cBtMFNwG6T8=",
          "dtype": "f8"
         },
         "yaxis": "y4"
        },
        {
         "marker": {
          "color": "black",
          "opacity": 0.5,
          "size": 6
         },
         "mode": "markers",
         "showlegend": false,
         "type": "scatter",
         "x": [
          "sick_left_E_run",
          "sick_left_E_run",
          "sick_left_E_run",
          "sick_left_E_run",
          "sick_left_E_run",
          "sick_left_E_run",
          "sick_left_E_run",
          "sick_left_E_run",
          "sick_left_E_run",
          "sick_left_E_run"
         ],
         "xaxis": "x4",
         "y": {
          "bdata": "lOrpBJC45D/gX2bIKPHqPzCdZ5dB0us/kvYdNj7S6T+RIRlJVTXiP+1xHcGL8eM/azAxYuXevb/IJyd1ZyrwP24xMDG+7ds/QkVyoPeM8j8=",
          "dtype": "f8"
         },
         "yaxis": "y4"
        },
        {
         "marker": {
          "color": "black",
          "opacity": 0.5,
          "size": 6
         },
         "mode": "markers",
         "showlegend": false,
         "type": "scatter",
         "x": [
          "healthy_left_ALL_run",
          "healthy_left_ALL_run",
          "healthy_left_ALL_run",
          "healthy_left_ALL_run",
          "healthy_left_ALL_run",
          "healthy_left_ALL_run",
          "healthy_left_ALL_run",
          "healthy_left_ALL_run",
          "healthy_left_ALL_run",
          "healthy_left_ALL_run",
          "healthy_left_ALL_run",
          "healthy_left_ALL_run",
          "healthy_left_ALL_run",
          "healthy_left_ALL_run",
          "healthy_left_ALL_run",
          "healthy_left_ALL_run",
          "healthy_left_ALL_run",
          "healthy_left_ALL_run",
          "healthy_left_ALL_run",
          "healthy_left_ALL_run"
         ],
         "xaxis": "x4",
         "y": {
          "bdata": "JOXmKGKr4z9io4ZW7ZTqP5pLcVtrZvY/TkGUZh4K6D8khdIsSnqxv9xv+kAFjdO/X1f868QX5D/vtUYYf3HhP1upWzoZYdY/SGer0MUWwT+mZHuk23TNP2TwylWqI+0/getcXIAiwj+PKWNLmczWvwK90Au14fS/AhFghSNB5z9M1QoSKXPBP2UkQGq/m+g/lSx9A+ranj+QXomUIUPfPw==",
          "dtype": "f8"
         },
         "yaxis": "y4"
        },
        {
         "error_y": {
          "array": [
           0.3554870585114895,
           0.18047266893108302,
           0.348933312501228
          ],
          "type": "data",
          "visible": true
         },
         "marker": {
          "color": [
           "#636EFA",
           "#EF553B",
           "#00CC96"
          ],
          "line": {
           "color": "black",
           "width": 1
          }
         },
         "name": "Mean step acceleration Y during swing - ankle (m/s^2)",
         "type": "bar",
         "x": [
          "sick_left_C_run",
          "sick_left_E_run",
          "healthy_left_ALL_run"
         ],
         "xaxis": "x5",
         "y": [
          -1.27848435667555,
          -1.1092381269270963,
          -0.8474522422663917
         ],
         "yaxis": "y5"
        },
        {
         "marker": {
          "color": "black",
          "opacity": 0.5,
          "size": 6
         },
         "mode": "markers",
         "showlegend": false,
         "type": "scatter",
         "x": [
          "sick_left_C_run",
          "sick_left_C_run",
          "sick_left_C_run",
          "sick_left_C_run",
          "sick_left_C_run",
          "sick_left_C_run",
          "sick_left_C_run",
          "sick_left_C_run",
          "sick_left_C_run",
          "sick_left_C_run"
         ],
         "xaxis": "x5",
         "y": {
          "bdata": "5TPlvLd29r9EVtvKsBXxvwmx+cxOmfy/BAddKfQF6L82fpYydG/1v/Pq5yMoWv2/1mOfHRi68b+Zsctw9OT1v1Pkx+b/f/S/VNhB17v66r8=",
          "dtype": "f8"
         },
         "yaxis": "y5"
        },
        {
         "marker": {
          "color": "black",
          "opacity": 0.5,
          "size": 6
         },
         "mode": "markers",
         "showlegend": false,
         "type": "scatter",
         "x": [
          "sick_left_E_run",
          "sick_left_E_run",
          "sick_left_E_run",
          "sick_left_E_run",
          "sick_left_E_run",
          "sick_left_E_run",
          "sick_left_E_run",
          "sick_left_E_run",
          "sick_left_E_run",
          "sick_left_E_run"
         ],
         "xaxis": "x5",
         "y": {
          "bdata": "wmQHL09L9L+tT50iU2j1v/eJ/Dyh3/K/EB1Ct+Bq8r8g8qq5xz3vv9sFLK2Rr/O/q/FEdz238r9uYxV/1C3yv5uoRWFlFey/efyEogx86L8=",
          "dtype": "f8"
         },
         "yaxis": "y5"
        },
        {
         "marker": {
          "color": "black",
          "opacity": 0.5,
          "size": 6
         },
         "mode": "markers",
         "showlegend": false,
         "type": "scatter",
         "x": [
          "healthy_left_ALL_run",
          "healthy_left_ALL_run",
          "healthy_left_ALL_run",
          "healthy_left_ALL_run",
          "healthy_left_ALL_run",
          "healthy_left_ALL_run",
          "healthy_left_ALL_run",
          "healthy_left_ALL_run",
          "healthy_left_ALL_run",
          "healthy_left_ALL_run",
          "healthy_left_ALL_run",
          "healthy_left_ALL_run",
          "healthy_left_ALL_run",
          "healthy_left_ALL_run",
          "healthy_left_ALL_run",
          "healthy_left_ALL_run",
          "healthy_left_ALL_run",
          "healthy_left_ALL_run",
          "healthy_left_ALL_run",
          "healthy_left_ALL_run"
         ],
         "xaxis": "x5",
         "y": {
          "bdata": "mcpx9MLr6r8KYcy7yYLlv09H7qtQ+tK///jVih/j679cSxhxxzLzv0tBcFylBeW/5UnllMn+6L+ePTbydyTivyF56rEin/C/QN5zmA765b/xMz9yRh7pvwW8nNsjFu6/tnQrumV4z78mRbRI7jLvvwquhpLg9fe/Y/uo0Asi3L+zceFR5y/4v30YK8IaPOa/0obOhGIX9b+cbIt2Dbztvw==",
          "dtype": "f8"
         },
         "yaxis": "y5"
        },
        {
         "error_y": {
          "array": [
           0.008055118342744074,
           0.005282149300399375,
           0.015528346809879011
          ],
          "type": "data",
          "visible": true
         },
         "marker": {
          "color": [
           "#636EFA",
           "#EF553B",
           "#00CC96"
          ],
          "line": {
           "color": "black",
           "width": 1
          }
         },
         "name": "Mean step velocity X during stance - lHindpaw (m/s)",
         "type": "bar",
         "x": [
          "sick_left_C_run",
          "sick_left_E_run",
          "healthy_left_ALL_run"
         ],
         "xaxis": "x6",
         "y": [
          0.03041741850414652,
          0.02716688690746185,
          0.04970315905827387
         ],
         "yaxis": "y6"
        },
        {
         "marker": {
          "color": "black",
          "opacity": 0.5,
          "size": 6
         },
         "mode": "markers",
         "showlegend": false,
         "type": "scatter",
         "x": [
          "sick_left_C_run",
          "sick_left_C_run",
          "sick_left_C_run",
          "sick_left_C_run",
          "sick_left_C_run",
          "sick_left_C_run",
          "sick_left_C_run",
          "sick_left_C_run",
          "sick_left_C_run",
          "sick_left_C_run"
         ],
         "xaxis": "x6",
         "y": {
          "bdata": "rJwoCipKlj8P1+V6/vaWP0D4yqA0DqQ/0kn6GGGqmz91ZjxvxImXP5SLSE0rCJ8/IdLZ29HjpD/20++rmFaYP96WoIJmm6U/Wp+Q/0FFoT8=",
          "dtype": "f8"
         },
         "yaxis": "y6"
        },
        {
         "marker": {
          "color": "black",
          "opacity": 0.5,
          "size": 6
         },
         "mode": "markers",
         "showlegend": false,
         "type": "scatter",
         "x": [
          "sick_left_E_run",
          "sick_left_E_run",
          "sick_left_E_run",
          "sick_left_E_run",
          "sick_left_E_run",
          "sick_left_E_run",
          "sick_left_E_run",
          "sick_left_E_run",
          "sick_left_E_run",
          "sick_left_E_run"
         ],
         "xaxis": "x6",
         "y": {
          "bdata": "M0s7/Um0oT+0611aGXObP4NsM3nIRZw/F1x64+lBnD8hcpNFPR+WP2P4vge9NZg/gVVGkQFhoD8Q8tvw1z+VP1myr6R8l5Y/rRaSvFXvoT8=",
          "dtype": "f8"
         },
         "yaxis": "y6"
        },
        {
         "marker": {
          "color": "black",
          "opacity": 0.5,
          "size": 6
         },
         "mode": "markers",
         "showlegend": false,
         "type": "scatter",
         "x": [
          "healthy_left_ALL_run",
          "healthy_left_ALL_run",
          "healthy_left_ALL_run",
          "healthy_left_ALL_run",
          "healthy_left_ALL_run",
          "healthy_left_ALL_run",
          "healthy_left_ALL_run",
          "healthy_left_ALL_run",
          "healthy_left_ALL_run",
          "healthy_left_ALL_run",
          "healthy_left_ALL_run",
          "healthy_left_ALL_run",
          "healthy_left_ALL_run",
          "healthy_left_ALL_run",
          "healthy_left_ALL_run",
          "healthy_left_ALL_run",
          "healthy_left_ALL_run",
          "healthy_left_ALL_run",
          "healthy_left_ALL_run",
          "healthy_left_ALL_run"
         ],
         "xaxis": "x6",
         "y": {
          "bdata": "PAoRbXsTnj8x+nww09OgP5biHojKSq8/3yHVOhKWpj/cWDxP1By0P21hMIEA56U/xF29xPerrD+85XxAkyWcP2D6AxfHV6Y/SO5KvJm4rj+YPDUycQmhP4gdUQ+gw68/6UxJ0O2Soj8OPQdWwBKqP043bSd6lak/Jz3x92ycoj8Nvo7TfHexP85OI9lwjK4/dwxJGU2ApT9QMe0joVO0Pw==",
          "dtype": "f8"
         },
         "yaxis": "y6"
        },
        {
         "error_y": {
          "array": [
           0.3555175472637415,
           0.20565747599268078,
           0.2232840932631202
          ],
          "type": "data",
          "visible": true
         },
         "marker": {
          "color": [
           "#636EFA",
           "#EF553B",
           "#00CC96"
          ],
          "line": {
           "color": "black",
           "width": 1
          }
         },
         "name": "Mean step acceleration Y during stance - ankle (m/s^2)",
         "type": "bar",
         "x": [
          "sick_left_C_run",
          "sick_left_E_run",
          "healthy_left_ALL_run"
         ],
         "xaxis": "x7",
         "y": [
          1.0185063720185759,
          0.8440406810001313,
          0.5786326085792679
         ],
         "yaxis": "y7"
        },
        {
         "marker": {
          "color": "black",
          "opacity": 0.5,
          "size": 6
         },
         "mode": "markers",
         "showlegend": false,
         "type": "scatter",
         "x": [
          "sick_left_C_run",
          "sick_left_C_run",
          "sick_left_C_run",
          "sick_left_C_run",
          "sick_left_C_run",
          "sick_left_C_run",
          "sick_left_C_run",
          "sick_left_C_run",
          "sick_left_C_run",
          "sick_left_C_run"
         ],
         "xaxis": "x7",
         "y": {
          "bdata": "W9XQzxvj9D8X6nKzY4jrP8Q+DhdsUPg/zoDWjgjz3T9D/RiQyufvP4dz9GQ6y/c/LBcljs1Q5T8W/kMGOKbwP08cqWglg/I/R3SeMUvh5T8=",
          "dtype": "f8"
         },
         "yaxis": "y7"
        },
        {
         "marker": {
          "color": "black",
          "opacity": 0.5,
          "size": 6
         },
         "mode": "markers",
         "showlegend": false,
         "type": "scatter",
         "x": [
          "sick_left_E_run",
          "sick_left_E_run",
          "sick_left_E_run",
          "sick_left_E_run",
          "sick_left_E_run",
          "sick_left_E_run",
          "sick_left_E_run",
          "sick_left_E_run",
          "sick_left_E_run",
          "sick_left_E_run"
         ],
         "xaxis": "x7",
         "y": {
          "bdata": "sw2yd2jS8D/uSmQ4XlHyP6PRKjWtMOo/Uh3ZKKPT5z+RfbU0qCXjP0NHV4Kl+fA/Segaeg/e5z/MFSdT7BnwP885CsTXBeY/x4u0KT+b4j8=",
          "dtype": "f8"
         },
         "yaxis": "y7"
        },
        {
         "marker": {
          "color": "black",
          "opacity": 0.5,
          "size": 6
         },
         "mode": "markers",
         "showlegend": false,
         "type": "scatter",
         "x": [
          "healthy_left_ALL_run",
          "healthy_left_ALL_run",
          "healthy_left_ALL_run",
          "healthy_left_ALL_run",
          "healthy_left_ALL_run",
          "healthy_left_ALL_run",
          "healthy_left_ALL_run",
          "healthy_left_ALL_run",
          "healthy_left_ALL_run",
          "healthy_left_ALL_run",
          "healthy_left_ALL_run",
          "healthy_left_ALL_run",
          "healthy_left_ALL_run",
          "healthy_left_ALL_run",
          "healthy_left_ALL_run",
          "healthy_left_ALL_run",
          "healthy_left_ALL_run",
          "healthy_left_ALL_run",
          "healthy_left_ALL_run",
          "healthy_left_ALL_run"
         ],
         "xaxis": "x7",
         "y": {
          "bdata": "9+qTF/Ta5T/xeSw0acPdP8v0QdpL5Mw/xqnwTDA32j/VThMKiLXqPzkvYzktY94/qyV2eS7q3T86R85hSg3SP72gqmZiRek/i/DdCXGD5j8wi5gZpJHeP33mdSrdnOY/Ds8s6Dd41D/CPh2aer7hPyEnpYWNR+Y/az9I+7VD0j8zmQssDCnxP3/zKCZlJeE//aGSCpTD6D+sn2mAaBHqPw==",
          "dtype": "f8"
         },
         "yaxis": "y7"
        },
        {
         "error_y": {
          "array": [
           0.0008040333506426895,
           0.00041634248928848814,
           0.0004175223636629036
          ],
          "type": "data",
          "visible": true
         },
         "marker": {
          "color": [
           "#636EFA",
           "#EF553B",
           "#00CC96"
          ],
          "line": {
           "color": "black",
           "width": 1
          }
         },
         "name": "Mean step height (m)",
         "type": "bar",
         "x": [
          "sick_left_C_run",
          "sick_left_E_run",
          "healthy_left_ALL_run"
         ],
         "xaxis": "x8",
         "y": [
          0.004136600726233831,
          0.0035530040269686597,
          0.00351967676863696
         ],
         "yaxis": "y8"
        },
        {
         "marker": {
          "color": "black",
          "opacity": 0.5,
          "size": 6
         },
         "mode": "markers",
         "showlegend": false,
         "type": "scatter",
         "x": [
          "sick_left_C_run",
          "sick_left_C_run",
          "sick_left_C_run",
          "sick_left_C_run",
          "sick_left_C_run",
          "sick_left_C_run",
          "sick_left_C_run",
          "sick_left_C_run",
          "sick_left_C_run",
          "sick_left_C_run"
         ],
         "xaxis": "x8",
         "y": {
          "bdata": "mzxR/0YodT93lBE6UXZ0P9X5VrdWJmw/EXo7vTEFcT9hB1CktRtuPxAJJcJENXY/ereScRQVbT+055PsEJBxP9hCnnVHZGo/qfzsfSZRbD8=",
          "dtype": "f8"
         },
         "yaxis": "y8"
        },
        {
         "marker": {
          "color": "black",
          "opacity": 0.5,
          "size": 6
         },
         "mode": "markers",
         "showlegend": false,
         "type": "scatter",
         "x": [
          "sick_left_E_run",
          "sick_left_E_run",
          "sick_left_E_run",
          "sick_left_E_run",
          "sick_left_E_run",
          "sick_left_E_run",
          "sick_left_E_run",
          "sick_left_E_run",
          "sick_left_E_run",
          "sick_left_E_run"
         ],
         "xaxis": "x8",
         "y": {
          "bdata": "5UJuMR2rZz/KMLwKjdtsPyEnQzUDoGs/ia0E0Os+az8uCwDimtJrP1SFjQvsa3E/sk2QTKpgcT/BQXISKMZtP8+C9COViWs/cBhnFcfubD8=",
          "dtype": "f8"
         },
         "yaxis": "y8"
        },
        {
         "marker": {
          "color": "black",
          "opacity": 0.5,
          "size": 6
         },
         "mode": "markers",
         "showlegend": false,
         "type": "scatter",
         "x": [
          "healthy_left_ALL_run",
          "healthy_left_ALL_run",
          "healthy_left_ALL_run",
          "healthy_left_ALL_run",
          "healthy_left_ALL_run",
          "healthy_left_ALL_run",
          "healthy_left_ALL_run",
          "healthy_left_ALL_run",
          "healthy_left_ALL_run",
          "healthy_left_ALL_run",
          "healthy_left_ALL_run",
          "healthy_left_ALL_run",
          "healthy_left_ALL_run",
          "healthy_left_ALL_run",
          "healthy_left_ALL_run",
          "healthy_left_ALL_run",
          "healthy_left_ALL_run",
          "healthy_left_ALL_run",
          "healthy_left_ALL_run",
          "healthy_left_ALL_run"
         ],
         "xaxis": "x8",
         "y": {
          "bdata": "172C7egIaj89WP3eUztwPwNakncxtmo/9ZP57LyVcj/rCMnDb69qPwDhl0H0m20/Ez2+NRRSaj84PbaIkZlsP7YGgK4v7G0/9Q3Dq9DobT8C9E5NLqVuP6ujBdHObGg/2LEfegwUbj+reIPM6JtqP3CR9abR2mk/BWyioS7QZz8IB/hA2oVvPzZjDooRfmo/7rCfvc94cT9N2+F5LdpsPw==",
          "dtype": "f8"
         },
         "yaxis": "y8"
        },
        {
         "error_y": {
          "array": [
           0.006676885592443129,
           0.00454664783736125,
           0.010906885262435724
          ],
          "type": "data",
          "visible": true
         },
         "marker": {
          "color": [
           "#636EFA",
           "#EF553B",
           "#00CC96"
          ],
          "line": {
           "color": "black",
           "width": 1
          }
         },
         "name": "Mean step velocity X during stance - lHindfingers (m/s)",
         "type": "bar",
         "x": [
          "sick_left_C_run",
          "sick_left_E_run",
          "healthy_left_ALL_run"
         ],
         "xaxis": "x9",
         "y": [
          0.009761771212497442,
          0.010607236987342181,
          0.02767406361759543
         ],
         "yaxis": "y9"
        },
        {
         "marker": {
          "color": "black",
          "opacity": 0.5,
          "size": 6
         },
         "mode": "markers",
         "showlegend": false,
         "type": "scatter",
         "x": [
          "sick_left_C_run",
          "sick_left_C_run",
          "sick_left_C_run",
          "sick_left_C_run",
          "sick_left_C_run",
          "sick_left_C_run",
          "sick_left_C_run",
          "sick_left_C_run",
          "sick_left_C_run",
          "sick_left_C_run"
         ],
         "xaxis": "x9",
         "y": {
          "bdata": "QsJJt1cHWT/UDrRcIgd5PxtPJ1++fo0/YrW9bjkFdj/EAt90KdB9P9xYJRkkBoQ/llq+XLAJlT9lG98eiN5TP1qJ5WEQuZI/f3Yw+GjWij8=",
          "dtype": "f8"
         },
         "yaxis": "y9"
        },
        {
         "marker": {
          "color": "black",
          "opacity": 0.5,
          "size": 6
         },
         "mode": "markers",
         "showlegend": false,
         "type": "scatter",
         "x": [
          "sick_left_E_run",
          "sick_left_E_run",
          "sick_left_E_run",
          "sick_left_E_run",
          "sick_left_E_run",
          "sick_left_E_run",
          "sick_left_E_run",
          "sick_left_E_run",
          "sick_left_E_run",
          "sick_left_E_run"
         ],
         "xaxis": "x9",
         "y": {
          "bdata": "+iC4uXjxiz9DGgJNxfKEP5TbjC4jA4Y/R5wGNZLJiT+mJrCzLAN+P5HN4fX5Rns/Wx1c95IAiz92zFHGIQNyP1zkB4HjjH0/eoRmEe6OlD8=",
          "dtype": "f8"
         },
         "yaxis": "y9"
        },
        {
         "marker": {
          "color": "black",
          "opacity": 0.5,
          "size": 6
         },
         "mode": "markers",
         "showlegend": false,
         "type": "scatter",
         "x": [
          "healthy_left_ALL_run",
          "healthy_left_ALL_run",
          "healthy_left_ALL_run",
          "healthy_left_ALL_run",
          "healthy_left_ALL_run",
          "healthy_left_ALL_run",
          "healthy_left_ALL_run",
          "healthy_left_ALL_run",
          "healthy_left_ALL_run",
          "healthy_left_ALL_run",
          "healthy_left_ALL_run",
          "healthy_left_ALL_run",
          "healthy_left_ALL_run",
          "healthy_left_ALL_run",
          "healthy_left_ALL_run",
          "healthy_left_ALL_run",
          "healthy_left_ALL_run",
          "healthy_left_ALL_run",
          "healthy_left_ALL_run",
          "healthy_left_ALL_run"
         ],
         "xaxis": "x9",
         "y": {
          "bdata": "GEum/2NWjD8QUPonm7aQP3jg2hyQ4qM/il+OWWQPmD+LvDGju4qmP0/6iP/TdZM/AcuMSvCMoT9CCF6RhUWEPwe/ucQW8Jg/AvIghLbfoj9Sa8Y5Rt6QP2QTBsBnP6M/EDPeiZOykz9cjF7wlJSdP5dufe8rD6E/uB/wnH9lkD9gjHCL00qnP9+2GMjjAZ8/hRo12j8ymD/Vm/BsE1KlPw==",
          "dtype": "f8"
         },
         "yaxis": "y9"
        },
        {
         "error_y": {
          "array": [
           25.631634908396258,
           18.089375249825544,
           20.09521834723612
          ],
          "type": "data",
          "visible": true
         },
         "marker": {
          "color": [
           "#636EFA",
           "#EF553B",
           "#00CC96"
          ],
          "line": {
           "color": "black",
           "width": 1
          }
         },
         "name": "Mean step jerk Y during stance - lHindfingers (m/s^3)",
         "type": "bar",
         "x": [
          "sick_left_C_run",
          "sick_left_E_run",
          "healthy_left_ALL_run"
         ],
         "xaxis": "x10",
         "y": [
          -20.63404270999218,
          -2.145068717015621,
          2.7202545624309677
         ],
         "yaxis": "y10"
        },
        {
         "marker": {
          "color": "black",
          "opacity": 0.5,
          "size": 6
         },
         "mode": "markers",
         "showlegend": false,
         "type": "scatter",
         "x": [
          "sick_left_C_run",
          "sick_left_C_run",
          "sick_left_C_run",
          "sick_left_C_run",
          "sick_left_C_run",
          "sick_left_C_run",
          "sick_left_C_run",
          "sick_left_C_run",
          "sick_left_C_run",
          "sick_left_C_run"
         ],
         "xaxis": "x10",
         "y": {
          "bdata": "8CYE9TY1LsBl1nEhw1Y3wKQPEN+Hvvg/zTVeAiKWH8CeNJCjJ/0wwHFGKZmfgFbAcfEK2qT2LMCT8iASz4UzwMDhKhB2Mv6/8/cDtDioMsA=",
          "dtype": "f8"
         },
         "yaxis": "y10"
        },
        {
         "marker": {
          "color": "black",
          "opacity": 0.5,
          "size": 6
         },
         "mode": "markers",
         "showlegend": false,
         "type": "scatter",
         "x": [
          "sick_left_E_run",
          "sick_left_E_run",
          "sick_left_E_run",
          "sick_left_E_run",
          "sick_left_E_run",
          "sick_left_E_run",
          "sick_left_E_run",
          "sick_left_E_run",
          "sick_left_E_run",
          "sick_left_E_run"
         ],
         "xaxis": "x10",
         "y": {
          "bdata": "YKdaHEQzPkCFzBeIe/o4QLQiIqcQtSrAIB+RamtxJMBoMVzyD6olwCy6b1UxtDvAt14jrI8u7j8zYLyW/AH2v3kcSr5QsARA0SS6VAesMMA=",
          "dtype": "f8"
         },
         "yaxis": "y10"
        },
        {
         "marker": {
          "color": "black",
          "opacity": 0.5,
          "size": 6
         },
         "mode": "markers",
         "showlegend": false,
         "type": "scatter",
         "x": [
          "healthy_left_ALL_run",
          "healthy_left_ALL_run",
          "healthy_left_ALL_run",
          "healthy_left_ALL_run",
          "healthy_left_ALL_run",
          "healthy_left_ALL_run",
          "healthy_left_ALL_run",
          "healthy_left_ALL_run",
          "healthy_left_ALL_run",
          "healthy_left_ALL_run",
          "healthy_left_ALL_run",
          "healthy_left_ALL_run",
          "healthy_left_ALL_run",
          "healthy_left_ALL_run",
          "healthy_left_ALL_run",
          "healthy_left_ALL_run",
          "healthy_left_ALL_run",
          "healthy_left_ALL_run",
          "healthy_left_ALL_run",
          "healthy_left_ALL_run"
         ],
         "xaxis": "x10",
         "y": {
          "bdata": "LwvCSs5CDEDsRfycuUQ0QHVR0n8lHCJAw8hkUjVHNEBMyNL+G+8hQGm6oG84PgLAiZ7GWIY2G0DI1baD+q2+P9zggOzkADRAkjI3vpBjQsCgxOdmclAzwO111lC8iDrA84BzlZjo1j97Y9S2x306wBeXb/mGMkRA70wQ8VrP9z8luv6ORbUpQMN0Ek7vUh5AcduZcJFKMsDTyjHyADJAQA==",
          "dtype": "f8"
         },
         "yaxis": "y10"
        },
        {
         "error_y": {
          "array": [
           0.2885314935620354,
           0.2172666268557203,
           0.42532772849047573
          ],
          "type": "data",
          "visible": true
         },
         "marker": {
          "color": [
           "#636EFA",
           "#EF553B",
           "#00CC96"
          ],
          "line": {
           "color": "black",
           "width": 1
          }
         },
         "name": "Mean step acceleration X during stance - knee (m/s^2)",
         "type": "bar",
         "x": [
          "sick_left_C_run",
          "sick_left_E_run",
          "healthy_left_ALL_run"
         ],
         "xaxis": "x11",
         "y": [
          0.45586650280681856,
          0.34923634871185516,
          0.07081330330800532
         ],
         "yaxis": "y11"
        },
        {
         "marker": {
          "color": "black",
          "opacity": 0.5,
          "size": 6
         },
         "mode": "markers",
         "showlegend": false,
         "type": "scatter",
         "x": [
          "sick_left_C_run",
          "sick_left_C_run",
          "sick_left_C_run",
          "sick_left_C_run",
          "sick_left_C_run",
          "sick_left_C_run",
          "sick_left_C_run",
          "sick_left_C_run",
          "sick_left_C_run",
          "sick_left_C_run"
         ],
         "xaxis": "x11",
         "y": {
          "bdata": "DfJiEaUlzT91z4zr68jaP0ytzj/51Ow/anIwB3OEvD+K/B5/0zPnP0wcC4aeNOg/7yHE3Iie1T+H7RdckHHgP81NyVLvhOE/M3u6uw/fkz8=",
          "dtype": "f8"
         },
         "yaxis": "y11"
        },
        {
         "marker": {
          "color": "black",
          "opacity": 0.5,
          "size": 6
         },
         "mode": "markers",
         "showlegend": false,
         "type": "scatter",
         "x": [
          "sick_left_E_run",
          "sick_left_E_run",
          "sick_left_E_run",
          "sick_left_E_run",
          "sick_left_E_run",
          "sick_left_E_run",
          "sick_left_E_run",
          "sick_left_E_run",
          "sick_left_E_run",
          "sick_left_E_run"
         ],
         "xaxis": "x11",
         "y": {
          "bdata": "ZEpiPGBX0j+NjkuLc23nP7asgw8ry8E/YHOLiEAS2j/InhaOoZbXP48Kahozs+A/hdVmWHkJpb+05L6PqMTgP/PNJu6lTs4/FxEFE0hM1D8=",
          "dtype": "f8"
         },
         "yaxis": "y11"
        },
        {
         "marker": {
          "color": "black",
          "opacity": 0.5,
          "size": 6
         },
         "mode": "markers",
         "showlegend": false,
         "type": "scatter",
         "x": [
          "healthy_left_ALL_run",
          "healthy_left_ALL_run",
          "healthy_left_ALL_run",
          "healthy_left_ALL_run",
          "healthy_left_ALL_run",
          "healthy_left_ALL_run",
          "healthy_left_ALL_run",
          "healthy_left_ALL_run",
          "healthy_left_ALL_run",
          "healthy_left_ALL_run",
          "healthy_left_ALL_run",
          "healthy_left_ALL_run",
          "healthy_left_ALL_run",
          "healthy_left_ALL_run",
          "healthy_left_ALL_run",
          "healthy_left_ALL_run",
          "healthy_left_ALL_run",
          "healthy_left_ALL_run",
          "healthy_left_ALL_run",
          "healthy_left_ALL_run"
         ],
         "xaxis": "x11",
         "y": {
          "bdata": "A9+p/VMzxj/WEIpkTlnSPxBq0vTy4Mw/8Yl7jx+Jyz9bQEmwdnzfvzopi+g/IuW/K/Mlg4Q10j/3KYOYrQjfP9qLMPWIidg/WRc9Oi0axz/mHqeYDlrQPy/WKE/MKtE/178DAOVrsb/mxauCQ7+lv3bxGI/nlOy/XF+ostoG2j9ug9BoDALmv/ExI6mU0Ns/PiyfVGo7pT+3mIDWp9LjPw==",
          "dtype": "f8"
         },
         "yaxis": "y11"
        },
        {
         "error_y": {
          "array": [
           0.2972035035418705,
           0.3689063150551566,
           0.6080365569625277
          ],
          "type": "data",
          "visible": true
         },
         "marker": {
          "color": [
           "#636EFA",
           "#EF553B",
           "#00CC96"
          ],
          "line": {
           "color": "black",
           "width": 1
          }
         },
         "name": "Mean step acceleration X during stance - lHindfingers (m/s^2)",
         "type": "bar",
         "x": [
          "sick_left_C_run",
          "sick_left_E_run",
          "healthy_left_ALL_run"
         ],
         "xaxis": "x12",
         "y": [
          0.5546392792918341,
          0.4884091035741906,
          0.0812377758449351
         ],
         "yaxis": "y12"
        },
        {
         "marker": {
          "color": "black",
          "opacity": 0.5,
          "size": 6
         },
         "mode": "markers",
         "showlegend": false,
         "type": "scatter",
         "x": [
          "sick_left_C_run",
          "sick_left_C_run",
          "sick_left_C_run",
          "sick_left_C_run",
          "sick_left_C_run",
          "sick_left_C_run",
          "sick_left_C_run",
          "sick_left_C_run",
          "sick_left_C_run",
          "sick_left_C_run"
         ],
         "xaxis": "x12",
         "y": {
          "bdata": "SP2mBh/L1T/CguGmwVHvP0g1wxsgWdI/Hg8Iv+jwxz94ZQMwl1TtP92wLgDA8u0/8Us62A4R5T+rZNb7lZDgP9T0p3YR8dY/ues3K9l01z8=",
          "dtype": "f8"
         },
         "yaxis": "y12"
        },
        {
         "marker": {
          "color": "black",
          "opacity": 0.5,
          "size": 6
         },
         "mode": "markers",
         "showlegend": false,
         "type": "scatter",
         "x": [
          "sick_left_E_run",
          "sick_left_E_run",
          "sick_left_E_run",
          "sick_left_E_run",
          "sick_left_E_run",
          "sick_left_E_run",
          "sick_left_E_run",
          "sick_left_E_run",
          "sick_left_E_run",
          "sick_left_E_run"
         ],
         "xaxis": "x12",
         "y": {
          "bdata": "++znQeGswj+EX/+NiTvdPxQyqTOOn+U/BdrQTZ0i6D/r1Lv8JxTiP4RqEbgRqdw/6m7YkyFFzb8pGcTZfr3xP/GgkxAKzNA/vi8SgOVG5j8=",
          "dtype": "f8"
         },
         "yaxis": "y12"
        },
        {
         "marker": {
          "color": "black",
          "opacity": 0.5,
          "size": 6
         },
         "mode": "markers",
         "showlegend": false,
         "type": "scatter",
         "x": [
          "healthy_left_ALL_run",
          "healthy_left_ALL_run",
          "healthy_left_ALL_run",
          "healthy_left_ALL_run",
          "healthy_left_ALL_run",
          "healthy_left_ALL_run",
          "healthy_left_ALL_run",
          "healthy_left_ALL_run",
          "healthy_left_ALL_run",
          "healthy_left_ALL_run",
          "healthy_left_ALL_run",
          "healthy_left_ALL_run",
          "healthy_left_ALL_run",
          "healthy_left_ALL_run",
          "healthy_left_ALL_run",
          "healthy_left_ALL_run",
          "healthy_left_ALL_run",
          "healthy_left_ALL_run",
          "healthy_left_ALL_run",
          "healthy_left_ALL_run"
         ],
         "xaxis": "x12",
         "y": {
          "bdata": "mbuOIRXS1z9HfNXDoAzkP4P0xL69rfE/mkUVsA5s5z9V6bq5wIbvv1BXs4I/neS/d1fzbanS1T8d2Kx7yp3ZP7WoOCeBYcQ/5VxqcDkU2r+7LmviwLmevycr3neeleU//FHZhLpLtr9QY4455lDOv1j91V+/6Pa/hNkeJarR3T/gt5fF5hGzv1/ECTA27dw/q1Ca8yzitz+dx7bLlaG5Pw==",
          "dtype": "f8"
         },
         "yaxis": "y12"
        },
        {
         "error_y": {
          "array": [
           23.352733562042243,
           15.441507899041884,
           25.2754994444627
          ],
          "type": "data",
          "visible": true
         },
         "marker": {
          "color": [
           "#636EFA",
           "#EF553B",
           "#00CC96"
          ],
          "line": {
           "color": "black",
           "width": 1
          }
         },
         "name": "Mean step jerk Y during swing - lHindfingers (m/s^3)",
         "type": "bar",
         "x": [
          "sick_left_C_run",
          "sick_left_E_run",
          "healthy_left_ALL_run"
         ],
         "xaxis": "x13",
         "y": [
          7.328020273056379,
          -9.264616026492785,
          -18.309271951068343
         ],
         "yaxis": "y13"
        },
        {
         "marker": {
          "color": "black",
          "opacity": 0.5,
          "size": 6
         },
         "mode": "markers",
         "showlegend": false,
         "type": "scatter",
         "x": [
          "sick_left_C_run",
          "sick_left_C_run",
          "sick_left_C_run",
          "sick_left_C_run",
          "sick_left_C_run",
          "sick_left_C_run",
          "sick_left_C_run",
          "sick_left_C_run",
          "sick_left_C_run",
          "sick_left_C_run"
         ],
         "xaxis": "x13",
         "y": {
          "bdata": "I9y+lwxcC8CBqaEHLZA3QLU53AhZHTTAGW7koDIaMcB47Ob/zM0zQFpeTD053UxAzkD0ZrSFIsAL3f+Y6MEyQPDpVZ0NKO2/IaPgfjjyEEA=",
          "dtype": "f8"
         },
         "yaxis": "y13"
        },
        {
         "marker": {
          "color": "black",
          "opacity": 0.5,
          "size": 6
         },
         "mode": "markers",
         "showlegend": false,
         "type": "scatter",
         "x": [
          "sick_left_E_run",
          "sick_left_E_run",
          "sick_left_E_run",
          "sick_left_E_run",
          "sick_left_E_run",
          "sick_left_E_run",
          "sick_left_E_run",
          "sick_left_E_run",
          "sick_left_E_run",
          "sick_left_E_run"
         ],
         "xaxis": "x13",
         "y": {
          "bdata": "Ja95mZbtOMDllWWCEp4jwAibjvpgTRPAGbR7JGbbDECnSCbTnDI0QEARNjnrgwjAboDk9IqCQcBI2M/ljKsWwIwYDJOhIzTAWEeXRsj+KcA=",
          "dtype": "f8"
         },
         "yaxis": "y13"
        },
        {
         "marker": {
          "color": "black",
          "opacity": 0.5,
          "size": 6
         },
         "mode": "markers",
         "showlegend": false,
         "type": "scatter",
         "x": [
          "healthy_left_ALL_run",
          "healthy_left_ALL_run",
          "healthy_left_ALL_run",
          "healthy_left_ALL_run",
          "healthy_left_ALL_run",
          "healthy_left_ALL_run",
          "healthy_left_ALL_run",
          "healthy_left_ALL_run",
          "healthy_left_ALL_run",
          "healthy_left_ALL_run",
          "healthy_left_ALL_run",
          "healthy_left_ALL_run",
          "healthy_left_ALL_run",
          "healthy_left_ALL_run",
          "healthy_left_ALL_run",
          "healthy_left_ALL_run",
          "healthy_left_ALL_run",
          "healthy_left_ALL_run",
          "healthy_left_ALL_run",
          "healthy_left_ALL_run"
         ],
         "xaxis": "x13",
         "y": {
          "bdata": "CtCyqDamEcB75cfoOX43wNKpLI01LxzAs2jXqL4NR8BHTtxX2nZGwCYFNZNYbCdAoOFJ2i/ONcDACaN5DJ4hQEyxtVgB1UTA15GJ0+VXKEA5kvwR+9kkQIYonJHU2yrA0n04FmpNCMCc2zznRHAzQO4cQvf6RE/Ach1y5tIWJcB7GRK76XBLwLlQcU0shTvAfUg1+pQhLMBhi8gOE6JKwA==",
          "dtype": "f8"
         },
         "yaxis": "y13"
        },
        {
         "error_y": {
          "array": [
           17.206561611971686,
           7.765519269006402,
           16.313907031547345
          ],
          "type": "data",
          "visible": true
         },
         "marker": {
          "color": [
           "#636EFA",
           "#EF553B",
           "#00CC96"
          ],
          "line": {
           "color": "black",
           "width": 1
          }
         },
         "name": "Mean step jerk Y during swing - hip (m/s^3)",
         "type": "bar",
         "x": [
          "sick_left_C_run",
          "sick_left_E_run",
          "healthy_left_ALL_run"
         ],
         "xaxis": "x14",
         "y": [
          -6.540414622284095,
          -5.70494431252244,
          -21.42711598611495
         ],
         "yaxis": "y14"
        },
        {
         "marker": {
          "color": "black",
          "opacity": 0.5,
          "size": 6
         },
         "mode": "markers",
         "showlegend": false,
         "type": "scatter",
         "x": [
          "sick_left_C_run",
          "sick_left_C_run",
          "sick_left_C_run",
          "sick_left_C_run",
          "sick_left_C_run",
          "sick_left_C_run",
          "sick_left_C_run",
          "sick_left_C_run",
          "sick_left_C_run",
          "sick_left_C_run"
         ],
         "xaxis": "x14",
         "y": {
          "bdata": "qI5cN3gbL0B80v/D0m8mwNY7TMy0cDRAf34tH/MmE8BZcXPa5FYswNPvthm0jARAFiIDJvo0NcCt6oT55AJDwH0ClvUDf/K/yt5/OGHPKsA=",
          "dtype": "f8"
         },
         "yaxis": "y14"
        },
        {
         "marker": {
          "color": "black",
          "opacity": 0.5,
          "size": 6
         },
         "mode": "markers",
         "showlegend": false,
         "type": "scatter",
         "x": [
          "sick_left_E_run",
          "sick_left_E_run",
          "sick_left_E_run",
          "sick_left_E_run",
          "sick_left_E_run",
          "sick_left_E_run",
          "sick_left_E_run",
          "sick_left_E_run",
          "sick_left_E_run",
          "sick_left_E_run"
         ],
         "xaxis": "x14",
         "y": {
          "bdata": "DfFJ02r8/z/ekDush+oSwIlyxtPuQyrAirrzxBk0FsCRGCuwRDAqwMVIaROrTCVAa8xF2txeH8CfRBEhpgwuwBFiAeWQywTAvgyhCxjmHsA=",
          "dtype": "f8"
         },
         "yaxis": "y14"
        },
        {
         "marker": {
          "color": "black",
          "opacity": 0.5,
          "size": 6
         },
         "mode": "markers",
         "showlegend": false,
         "type": "scatter",
         "x": [
          "healthy_left_ALL_run",
          "healthy_left_ALL_run",
          "healthy_left_ALL_run",
          "healthy_left_ALL_run",
          "healthy_left_ALL_run",
          "healthy_left_ALL_run",
          "healthy_left_ALL_run",
          "healthy_left_ALL_run",
          "healthy_left_ALL_run",
          "healthy_left_ALL_run",
          "healthy_left_ALL_run",
          "healthy_left_ALL_run",
          "healthy_left_ALL_run",
          "healthy_left_ALL_run",
          "healthy_left_ALL_run",
          "healthy_left_ALL_run",
          "healthy_left_ALL_run",
          "healthy_left_ALL_run",
          "healthy_left_ALL_run",
          "healthy_left_ALL_run"
         ],
         "xaxis": "x14",
         "y": {
          "bdata": "2gOEF+niQMCGEULWVWoywDda+ibzpjvAhK2A/6QIKMB2rGg1CIZRwFZ8BBNnGRrAQz3Dzs3+McDmZf7RgFYtwI04iWhYhx5ALjGn1kEfQcCdsFzGIvczwClxEB57ZjrA3OkF2dNFJ8CAz7ik0GwpwP7S3X0y/BjA0Jk1Ny1TKMBFNMOI/NNGwNcG2oZfTzjAgyddv9uFNMBcyauvaS01wA==",
          "dtype": "f8"
         },
         "yaxis": "y14"
        },
        {
         "error_y": {
          "array": [
           15.95468767853886,
           24.862480028573657,
           27.510128318585306
          ],
          "type": "data",
          "visible": true
         },
         "marker": {
          "color": [
           "#636EFA",
           "#EF553B",
           "#00CC96"
          ],
          "line": {
           "color": "black",
           "width": 1
          }
         },
         "name": "Mean step jerk Y during stance - knee (m/s^3)",
         "type": "bar",
         "x": [
          "sick_left_C_run",
          "sick_left_E_run",
          "healthy_left_ALL_run"
         ],
         "xaxis": "x15",
         "y": [
          22.984629353191558,
          18.97999653463897,
          39.53042861608656
         ],
         "yaxis": "y15"
        },
        {
         "marker": {
          "color": "black",
          "opacity": 0.5,
          "size": 6
         },
         "mode": "markers",
         "showlegend": false,
         "type": "scatter",
         "x": [
          "sick_left_C_run",
          "sick_left_C_run",
          "sick_left_C_run",
          "sick_left_C_run",
          "sick_left_C_run",
          "sick_left_C_run",
          "sick_left_C_run",
          "sick_left_C_run",
          "sick_left_C_run",
          "sick_left_C_run"
         ],
         "xaxis": "x15",
         "y": {
          "bdata": "pXJ32nV6CUBsbLSDNEU1QKSDfJq0yB1ATpB5ak1TJkBeYDRZ1xNJQNBWLWhyrjRAbjEIvStOSUAafayg4V00QF5KLp9/EzdAI98BwnXkNUA=",
          "dtype": "f8"
         },
         "yaxis": "y15"
        },
        {
         "marker": {
          "color": "black",
          "opacity": 0.5,
          "size": 6
         },
         "mode": "markers",
         "showlegend": false,
         "type": "scatter",
         "x": [
          "sick_left_E_run",
          "sick_left_E_run",
          "sick_left_E_run",
          "sick_left_E_run",
          "sick_left_E_run",
          "sick_left_E_run",
          "sick_left_E_run",
          "sick_left_E_run",
          "sick_left_E_run",
          "sick_left_E_run"
         ],
         "xaxis": "x15",
         "y": {
          "bdata": "5uVGOog/U0C/K7tvWUY3QB27jNhBh+0/pQl9Srg57z+y1HFiR5s3QDwE3FXOYx3ATBt82Q2vNUC91aJym3Q/QP53bji8ABjAKXV7Uno8OEA=",
          "dtype": "f8"
         },
         "yaxis": "y15"
        },
        {
         "marker": {
          "color": "black",
          "opacity": 0.5,
          "size": 6
         },
         "mode": "markers",
         "showlegend": false,
         "type": "scatter",
         "x": [
          "healthy_left_ALL_run",
          "healthy_left_ALL_run",
          "healthy_left_ALL_run",
          "healthy_left_ALL_run",
          "healthy_left_ALL_run",
          "healthy_left_ALL_run",
          "healthy_left_ALL_run",
          "healthy_left_ALL_run",
          "healthy_left_ALL_run",
          "healthy_left_ALL_run",
          "healthy_left_ALL_run",
          "healthy_left_ALL_run",
          "healthy_left_ALL_run",
          "healthy_left_ALL_run",
          "healthy_left_ALL_run",
          "healthy_left_ALL_run",
          "healthy_left_ALL_run",
          "healthy_left_ALL_run",
          "healthy_left_ALL_run",
          "healthy_left_ALL_run"
         ],
         "xaxis": "x15",
         "y": {
          "bdata": "vAAGD4xuQEASopnjRN0fQC7kfwAk3UdAo+ucy3tqGUCcFqJHfCpSQOMvPsp9l0pAiXoNc/vEREAFyD699xsTQBW8AznGFi5AL3dHynBtP0BHw6Z4Sr0oQAAdw9x1oEBAPn19x2whIUBk1hqNSF45QBZpkAZa/FpAhn35l/PmTEDwfIpC0NNJQPj2ctN3WlNATC+PQEu0REAF9ygT6KNOQA==",
          "dtype": "f8"
         },
         "yaxis": "y15"
        },
        {
         "error_y": {
          "array": [
           0.008011873809690075,
           0.007805806248642651,
           0.008397206361002593
          ],
          "type": "data",
          "visible": true
         },
         "marker": {
          "color": [
           "#636EFA",
           "#EF553B",
           "#00CC96"
          ],
          "line": {
           "color": "black",
           "width": 1
          }
         },
         "name": "Mean step velocity Y during swing - ankle (m/s)",
         "type": "bar",
         "x": [
          "sick_left_C_run",
          "sick_left_E_run",
          "healthy_left_ALL_run"
         ],
         "xaxis": "x16",
         "y": [
          -0.059601394778297144,
          -0.0590380308089851,
          -0.0664738235448834
         ],
         "yaxis": "y16"
        },
        {
         "marker": {
          "color": "black",
          "opacity": 0.5,
          "size": 6
         },
         "mode": "markers",
         "showlegend": false,
         "type": "scatter",
         "x": [
          "sick_left_C_run",
          "sick_left_C_run",
          "sick_left_C_run",
          "sick_left_C_run",
          "sick_left_C_run",
          "sick_left_C_run",
          "sick_left_C_run",
          "sick_left_C_run",
          "sick_left_C_run",
          "sick_left_C_run"
         ],
         "xaxis": "x16",
         "y": {
          "bdata": "N5nIuOxJrr9zGkt7VzuqvxdQPPQLD7K/LUMPUBt5r7+3OvN/fF+sv4+IjAoKPq6/xlpB/2Wbsr+1gD7pCNOnv3vjspSmPbC/lcQdc53prL8=",
          "dtype": "f8"
         },
         "yaxis": "y16"
        },
        {
         "marker": {
          "color": "black",
          "opacity": 0.5,
          "size": 6
         },
         "mode": "markers",
         "showlegend": false,
         "type": "scatter",
         "x": [
          "sick_left_E_run",
          "sick_left_E_run",
          "sick_left_E_run",
          "sick_left_E_run",
          "sick_left_E_run",
          "sick_left_E_run",
          "sick_left_E_run",
          "sick_left_E_run",
          "sick_left_E_run",
          "sick_left_E_run"
         ],
         "xaxis": "x16",
         "y": {
          "bdata": "STJvritjsb+yTloRT0OuvzxWFLBfMq2/LbREbj8wrb/sg2pDS6yuvzG8krGQdqu/rCSNUMQRs79nk3F5E7Knv1G1KCjDn6u/i/mhItNBr78=",
          "dtype": "f8"
         },
         "yaxis": "y16"
        },
        {
         "marker": {
          "color": "black",
          "opacity": 0.5,
          "size": 6
         },
         "mode": "markers",
         "showlegend": false,
         "type": "scatter",
         "x": [
          "healthy_left_ALL_run",
          "healthy_left_ALL_run",
          "healthy_left_ALL_run",
          "healthy_left_ALL_run",
          "healthy_left_ALL_run",
          "healthy_left_ALL_run",
          "healthy_left_ALL_run",
          "healthy_left_ALL_run",
          "healthy_left_ALL_run",
          "healthy_left_ALL_run",
          "healthy_left_ALL_run",
          "healthy_left_ALL_run",
          "healthy_left_ALL_run",
          "healthy_left_ALL_run",
          "healthy_left_ALL_run",
          "healthy_left_ALL_run",
          "healthy_left_ALL_run",
          "healthy_left_ALL_run",
          "healthy_left_ALL_run",
          "healthy_left_ALL_run"
         ],
         "xaxis": "x16",
         "y": {
          "bdata": "Wtwg6YiJrb+/WY6Z3m2svyS3Eh7i/rG/ybezrrLttL+VvNf9ZZCxvwHQHsT3MbC/sxiT7nQOtL+95rLODISxv07dlvlmCq+/IrWs/1vnrr+r5KH3/Ryxv5D/1CYwRbG/Zeq8hYBgqL9Pns8jgHKxvx6m0Uz3grO/sxKWc3zYrr8dgzjzlxSyv/J41EmMSLG/r4weY9K6r79wTfTm1vOzvw==",
          "dtype": "f8"
         },
         "yaxis": "y16"
        }
       ],
       "layout": {
        "annotations": [
         {
          "font": {
           "size": 16
          },
          "showarrow": false,
          "text": "angle excursion ankle (°)",
          "x": 0.10625,
          "xanchor": "center",
          "xref": "paper",
          "y": 1,
          "yanchor": "bottom",
          "yref": "paper"
         },
         {
          "font": {
           "size": 16
          },
          "showarrow": false,
          "text": "phase excursion ankle (°)",
          "x": 0.36875,
          "xanchor": "center",
          "xref": "paper",
          "y": 1,
          "yanchor": "bottom",
          "yref": "paper"
         },
         {
          "font": {
           "size": 16
          },
          "showarrow": false,
          "text": "step acceleration X during stance - ankle (m/s^2)",
          "x": 0.6312500000000001,
          "xanchor": "center",
          "xref": "paper",
          "y": 1,
          "yanchor": "bottom",
          "yref": "paper"
         },
         {
          "font": {
           "size": 16
          },
          "showarrow": false,
          "text": "step acceleration X during stance - lHindpaw (m/s^2)",
          "x": 0.89375,
          "xanchor": "center",
          "xref": "paper",
          "y": 1,
          "yanchor": "bottom",
          "yref": "paper"
         },
         {
          "font": {
           "size": 16
          },
          "showarrow": false,
          "text": "step acceleration Y during swing - ankle (m/s^2)",
          "x": 0.10625,
          "xanchor": "center",
          "xref": "paper",
          "y": 0.71875,
          "yanchor": "bottom",
          "yref": "paper"
         },
         {
          "font": {
           "size": 16
          },
          "showarrow": false,
          "text": "step velocity X during stance - lHindpaw (m/s)",
          "x": 0.36875,
          "xanchor": "center",
          "xref": "paper",
          "y": 0.71875,
          "yanchor": "bottom",
          "yref": "paper"
         },
         {
          "font": {
           "size": 16
          },
          "showarrow": false,
          "text": "step acceleration Y during stance - ankle (m/s^2)",
          "x": 0.6312500000000001,
          "xanchor": "center",
          "xref": "paper",
          "y": 0.71875,
          "yanchor": "bottom",
          "yref": "paper"
         },
         {
          "font": {
           "size": 16
          },
          "showarrow": false,
          "text": "step height (m)",
          "x": 0.89375,
          "xanchor": "center",
          "xref": "paper",
          "y": 0.71875,
          "yanchor": "bottom",
          "yref": "paper"
         },
         {
          "font": {
           "size": 16
          },
          "showarrow": false,
          "text": "step velocity X during stance - lHindfingers (m/s)",
          "x": 0.10625,
          "xanchor": "center",
          "xref": "paper",
          "y": 0.4375,
          "yanchor": "bottom",
          "yref": "paper"
         },
         {
          "font": {
           "size": 16
          },
          "showarrow": false,
          "text": "step jerk Y during stance - lHindfingers (m/s^3)",
          "x": 0.36875,
          "xanchor": "center",
          "xref": "paper",
          "y": 0.4375,
          "yanchor": "bottom",
          "yref": "paper"
         },
         {
          "font": {
           "size": 16
          },
          "showarrow": false,
          "text": "step acceleration X during stance - knee (m/s^2)",
          "x": 0.6312500000000001,
          "xanchor": "center",
          "xref": "paper",
          "y": 0.4375,
          "yanchor": "bottom",
          "yref": "paper"
         },
         {
          "font": {
           "size": 16
          },
          "showarrow": false,
          "text": "step acceleration X during stance - lHindfingers (m/s^2)",
          "x": 0.89375,
          "xanchor": "center",
          "xref": "paper",
          "y": 0.4375,
          "yanchor": "bottom",
          "yref": "paper"
         },
         {
          "font": {
           "size": 16
          },
          "showarrow": false,
          "text": "step jerk Y during swing - lHindfingers (m/s^3)",
          "x": 0.10625,
          "xanchor": "center",
          "xref": "paper",
          "y": 0.15625,
          "yanchor": "bottom",
          "yref": "paper"
         },
         {
          "font": {
           "size": 16
          },
          "showarrow": false,
          "text": "step jerk Y during swing - hip (m/s^3)",
          "x": 0.36875,
          "xanchor": "center",
          "xref": "paper",
          "y": 0.15625,
          "yanchor": "bottom",
          "yref": "paper"
         },
         {
          "font": {
           "size": 16
          },
          "showarrow": false,
          "text": "step jerk Y during stance - knee (m/s^3)",
          "x": 0.6312500000000001,
          "xanchor": "center",
          "xref": "paper",
          "y": 0.15625,
          "yanchor": "bottom",
          "yref": "paper"
         },
         {
          "font": {
           "size": 16
          },
          "showarrow": false,
          "text": "step velocity Y during swing - ankle (m/s)",
          "x": 0.89375,
          "xanchor": "center",
          "xref": "paper",
          "y": 0.15625,
          "yanchor": "bottom",
          "yref": "paper"
         }
        ],
        "height": 2000,
        "plot_bgcolor": "rgba(0,0,0,0)",
        "showlegend": false,
        "template": {
         "data": {
          "bar": [
           {
            "error_x": {
             "color": "#2a3f5f"
            },
            "error_y": {
             "color": "#2a3f5f"
            },
            "marker": {
             "line": {
              "color": "#E5ECF6",
              "width": 0.5
             },
             "pattern": {
              "fillmode": "overlay",
              "size": 10,
              "solidity": 0.2
             }
            },
            "type": "bar"
           }
          ],
          "barpolar": [
           {
            "marker": {
             "line": {
              "color": "#E5ECF6",
              "width": 0.5
             },
             "pattern": {
              "fillmode": "overlay",
              "size": 10,
              "solidity": 0.2
             }
            },
            "type": "barpolar"
           }
          ],
          "carpet": [
           {
            "aaxis": {
             "endlinecolor": "#2a3f5f",
             "gridcolor": "white",
             "linecolor": "white",
             "minorgridcolor": "white",
             "startlinecolor": "#2a3f5f"
            },
            "baxis": {
             "endlinecolor": "#2a3f5f",
             "gridcolor": "white",
             "linecolor": "white",
             "minorgridcolor": "white",
             "startlinecolor": "#2a3f5f"
            },
            "type": "carpet"
           }
          ],
          "choropleth": [
           {
            "colorbar": {
             "outlinewidth": 0,
             "ticks": ""
            },
            "type": "choropleth"
           }
          ],
          "contour": [
           {
            "colorbar": {
             "outlinewidth": 0,
             "ticks": ""
            },
            "colorscale": [
             [
              0,
              "#0d0887"
             ],
             [
              0.1111111111111111,
              "#46039f"
             ],
             [
              0.2222222222222222,
              "#7201a8"
             ],
             [
              0.3333333333333333,
              "#9c179e"
             ],
             [
              0.4444444444444444,
              "#bd3786"
             ],
             [
              0.5555555555555556,
              "#d8576b"
             ],
             [
              0.6666666666666666,
              "#ed7953"
             ],
             [
              0.7777777777777778,
              "#fb9f3a"
             ],
             [
              0.8888888888888888,
              "#fdca26"
             ],
             [
              1,
              "#f0f921"
             ]
            ],
            "type": "contour"
           }
          ],
          "contourcarpet": [
           {
            "colorbar": {
             "outlinewidth": 0,
             "ticks": ""
            },
            "type": "contourcarpet"
           }
          ],
          "heatmap": [
           {
            "colorbar": {
             "outlinewidth": 0,
             "ticks": ""
            },
            "colorscale": [
             [
              0,
              "#0d0887"
             ],
             [
              0.1111111111111111,
              "#46039f"
             ],
             [
              0.2222222222222222,
              "#7201a8"
             ],
             [
              0.3333333333333333,
              "#9c179e"
             ],
             [
              0.4444444444444444,
              "#bd3786"
             ],
             [
              0.5555555555555556,
              "#d8576b"
             ],
             [
              0.6666666666666666,
              "#ed7953"
             ],
             [
              0.7777777777777778,
              "#fb9f3a"
             ],
             [
              0.8888888888888888,
              "#fdca26"
             ],
             [
              1,
              "#f0f921"
             ]
            ],
            "type": "heatmap"
           }
          ],
          "histogram": [
           {
            "marker": {
             "pattern": {
              "fillmode": "overlay",
              "size": 10,
              "solidity": 0.2
             }
            },
            "type": "histogram"
           }
          ],
          "histogram2d": [
           {
            "colorbar": {
             "outlinewidth": 0,
             "ticks": ""
            },
            "colorscale": [
             [
              0,
              "#0d0887"
             ],
             [
              0.1111111111111111,
              "#46039f"
             ],
             [
              0.2222222222222222,
              "#7201a8"
             ],
             [
              0.3333333333333333,
              "#9c179e"
             ],
             [
              0.4444444444444444,
              "#bd3786"
             ],
             [
              0.5555555555555556,
              "#d8576b"
             ],
             [
              0.6666666666666666,
              "#ed7953"
             ],
             [
              0.7777777777777778,
              "#fb9f3a"
             ],
             [
              0.8888888888888888,
              "#fdca26"
             ],
             [
              1,
              "#f0f921"
             ]
            ],
            "type": "histogram2d"
           }
          ],
          "histogram2dcontour": [
           {
            "colorbar": {
             "outlinewidth": 0,
             "ticks": ""
            },
            "colorscale": [
             [
              0,
              "#0d0887"
             ],
             [
              0.1111111111111111,
              "#46039f"
             ],
             [
              0.2222222222222222,
              "#7201a8"
             ],
             [
              0.3333333333333333,
              "#9c179e"
             ],
             [
              0.4444444444444444,
              "#bd3786"
             ],
             [
              0.5555555555555556,
              "#d8576b"
             ],
             [
              0.6666666666666666,
              "#ed7953"
             ],
             [
              0.7777777777777778,
              "#fb9f3a"
             ],
             [
              0.8888888888888888,
              "#fdca26"
             ],
             [
              1,
              "#f0f921"
             ]
            ],
            "type": "histogram2dcontour"
           }
          ],
          "mesh3d": [
           {
            "colorbar": {
             "outlinewidth": 0,
             "ticks": ""
            },
            "type": "mesh3d"
           }
          ],
          "parcoords": [
           {
            "line": {
             "colorbar": {
              "outlinewidth": 0,
              "ticks": ""
             }
            },
            "type": "parcoords"
           }
          ],
          "pie": [
           {
            "automargin": true,
            "type": "pie"
           }
          ],
          "scatter": [
           {
            "fillpattern": {
             "fillmode": "overlay",
             "size": 10,
             "solidity": 0.2
            },
            "type": "scatter"
           }
          ],
          "scatter3d": [
           {
            "line": {
             "colorbar": {
              "outlinewidth": 0,
              "ticks": ""
             }
            },
            "marker": {
             "colorbar": {
              "outlinewidth": 0,
              "ticks": ""
             }
            },
            "type": "scatter3d"
           }
          ],
          "scattercarpet": [
           {
            "marker": {
             "colorbar": {
              "outlinewidth": 0,
              "ticks": ""
             }
            },
            "type": "scattercarpet"
           }
          ],
          "scattergeo": [
           {
            "marker": {
             "colorbar": {
              "outlinewidth": 0,
              "ticks": ""
             }
            },
            "type": "scattergeo"
           }
          ],
          "scattergl": [
           {
            "marker": {
             "colorbar": {
              "outlinewidth": 0,
              "ticks": ""
             }
            },
            "type": "scattergl"
           }
          ],
          "scattermap": [
           {
            "marker": {
             "colorbar": {
              "outlinewidth": 0,
              "ticks": ""
             }
            },
            "type": "scattermap"
           }
          ],
          "scattermapbox": [
           {
            "marker": {
             "colorbar": {
              "outlinewidth": 0,
              "ticks": ""
             }
            },
            "type": "scattermapbox"
           }
          ],
          "scatterpolar": [
           {
            "marker": {
             "colorbar": {
              "outlinewidth": 0,
              "ticks": ""
             }
            },
            "type": "scatterpolar"
           }
          ],
          "scatterpolargl": [
           {
            "marker": {
             "colorbar": {
              "outlinewidth": 0,
              "ticks": ""
             }
            },
            "type": "scatterpolargl"
           }
          ],
          "scatterternary": [
           {
            "marker": {
             "colorbar": {
              "outlinewidth": 0,
              "ticks": ""
             }
            },
            "type": "scatterternary"
           }
          ],
          "surface": [
           {
            "colorbar": {
             "outlinewidth": 0,
             "ticks": ""
            },
            "colorscale": [
             [
              0,
              "#0d0887"
             ],
             [
              0.1111111111111111,
              "#46039f"
             ],
             [
              0.2222222222222222,
              "#7201a8"
             ],
             [
              0.3333333333333333,
              "#9c179e"
             ],
             [
              0.4444444444444444,
              "#bd3786"
             ],
             [
              0.5555555555555556,
              "#d8576b"
             ],
             [
              0.6666666666666666,
              "#ed7953"
             ],
             [
              0.7777777777777778,
              "#fb9f3a"
             ],
             [
              0.8888888888888888,
              "#fdca26"
             ],
             [
              1,
              "#f0f921"
             ]
            ],
            "type": "surface"
           }
          ],
          "table": [
           {
            "cells": {
             "fill": {
              "color": "#EBF0F8"
             },
             "line": {
              "color": "white"
             }
            },
            "header": {
             "fill": {
              "color": "#C8D4E3"
             },
             "line": {
              "color": "white"
             }
            },
            "type": "table"
           }
          ]
         },
         "layout": {
          "annotationdefaults": {
           "arrowcolor": "#2a3f5f",
           "arrowhead": 0,
           "arrowwidth": 1
          },
          "autotypenumbers": "strict",
          "coloraxis": {
           "colorbar": {
            "outlinewidth": 0,
            "ticks": ""
           }
          },
          "colorscale": {
           "diverging": [
            [
             0,
             "#8e0152"
            ],
            [
             0.1,
             "#c51b7d"
            ],
            [
             0.2,
             "#de77ae"
            ],
            [
             0.3,
             "#f1b6da"
            ],
            [
             0.4,
             "#fde0ef"
            ],
            [
             0.5,
             "#f7f7f7"
            ],
            [
             0.6,
             "#e6f5d0"
            ],
            [
             0.7,
             "#b8e186"
            ],
            [
             0.8,
             "#7fbc41"
            ],
            [
             0.9,
             "#4d9221"
            ],
            [
             1,
             "#276419"
            ]
           ],
           "sequential": [
            [
             0,
             "#0d0887"
            ],
            [
             0.1111111111111111,
             "#46039f"
            ],
            [
             0.2222222222222222,
             "#7201a8"
            ],
            [
             0.3333333333333333,
             "#9c179e"
            ],
            [
             0.4444444444444444,
             "#bd3786"
            ],
            [
             0.5555555555555556,
             "#d8576b"
            ],
            [
             0.6666666666666666,
             "#ed7953"
            ],
            [
             0.7777777777777778,
             "#fb9f3a"
            ],
            [
             0.8888888888888888,
             "#fdca26"
            ],
            [
             1,
             "#f0f921"
            ]
           ],
           "sequentialminus": [
            [
             0,
             "#0d0887"
            ],
            [
             0.1111111111111111,
             "#46039f"
            ],
            [
             0.2222222222222222,
             "#7201a8"
            ],
            [
             0.3333333333333333,
             "#9c179e"
            ],
            [
             0.4444444444444444,
             "#bd3786"
            ],
            [
             0.5555555555555556,
             "#d8576b"
            ],
            [
             0.6666666666666666,
             "#ed7953"
            ],
            [
             0.7777777777777778,
             "#fb9f3a"
            ],
            [
             0.8888888888888888,
             "#fdca26"
            ],
            [
             1,
             "#f0f921"
            ]
           ]
          },
          "colorway": [
           "#636efa",
           "#EF553B",
           "#00cc96",
           "#ab63fa",
           "#FFA15A",
           "#19d3f3",
           "#FF6692",
           "#B6E880",
           "#FF97FF",
           "#FECB52"
          ],
          "font": {
           "color": "#2a3f5f"
          },
          "geo": {
           "bgcolor": "white",
           "lakecolor": "white",
           "landcolor": "#E5ECF6",
           "showlakes": true,
           "showland": true,
           "subunitcolor": "white"
          },
          "hoverlabel": {
           "align": "left"
          },
          "hovermode": "closest",
          "mapbox": {
           "style": "light"
          },
          "paper_bgcolor": "white",
          "plot_bgcolor": "#E5ECF6",
          "polar": {
           "angularaxis": {
            "gridcolor": "white",
            "linecolor": "white",
            "ticks": ""
           },
           "bgcolor": "#E5ECF6",
           "radialaxis": {
            "gridcolor": "white",
            "linecolor": "white",
            "ticks": ""
           }
          },
          "scene": {
           "xaxis": {
            "backgroundcolor": "#E5ECF6",
            "gridcolor": "white",
            "gridwidth": 2,
            "linecolor": "white",
            "showbackground": true,
            "ticks": "",
            "zerolinecolor": "white"
           },
           "yaxis": {
            "backgroundcolor": "#E5ECF6",
            "gridcolor": "white",
            "gridwidth": 2,
            "linecolor": "white",
            "showbackground": true,
            "ticks": "",
            "zerolinecolor": "white"
           },
           "zaxis": {
            "backgroundcolor": "#E5ECF6",
            "gridcolor": "white",
            "gridwidth": 2,
            "linecolor": "white",
            "showbackground": true,
            "ticks": "",
            "zerolinecolor": "white"
           }
          },
          "shapedefaults": {
           "line": {
            "color": "#2a3f5f"
           }
          },
          "ternary": {
           "aaxis": {
            "gridcolor": "white",
            "linecolor": "white",
            "ticks": ""
           },
           "baxis": {
            "gridcolor": "white",
            "linecolor": "white",
            "ticks": ""
           },
           "bgcolor": "#E5ECF6",
           "caxis": {
            "gridcolor": "white",
            "linecolor": "white",
            "ticks": ""
           }
          },
          "title": {
           "x": 0.05
          },
          "xaxis": {
           "automargin": true,
           "gridcolor": "white",
           "linecolor": "white",
           "ticks": "",
           "title": {
            "standoff": 15
           },
           "zerolinecolor": "white",
           "zerolinewidth": 2
          },
          "yaxis": {
           "automargin": true,
           "gridcolor": "white",
           "linecolor": "white",
           "ticks": "",
           "title": {
            "standoff": 15
           },
           "zerolinecolor": "white",
           "zerolinewidth": 2
          }
         }
        },
        "title": {
         "text": "Selected Features Across Groups"
        },
        "width": 1600,
        "xaxis": {
         "anchor": "y",
         "domain": [
          0,
          0.2125
         ]
        },
        "xaxis10": {
         "anchor": "y10",
         "domain": [
          0.2625,
          0.475
         ]
        },
        "xaxis11": {
         "anchor": "y11",
         "domain": [
          0.525,
          0.7375
         ]
        },
        "xaxis12": {
         "anchor": "y12",
         "domain": [
          0.7875,
          1
         ]
        },
        "xaxis13": {
         "anchor": "y13",
         "domain": [
          0,
          0.2125
         ]
        },
        "xaxis14": {
         "anchor": "y14",
         "domain": [
          0.2625,
          0.475
         ]
        },
        "xaxis15": {
         "anchor": "y15",
         "domain": [
          0.525,
          0.7375
         ]
        },
        "xaxis16": {
         "anchor": "y16",
         "domain": [
          0.7875,
          1
         ]
        },
        "xaxis2": {
         "anchor": "y2",
         "domain": [
          0.2625,
          0.475
         ]
        },
        "xaxis3": {
         "anchor": "y3",
         "domain": [
          0.525,
          0.7375
         ]
        },
        "xaxis4": {
         "anchor": "y4",
         "domain": [
          0.7875,
          1
         ]
        },
        "xaxis5": {
         "anchor": "y5",
         "domain": [
          0,
          0.2125
         ]
        },
        "xaxis6": {
         "anchor": "y6",
         "domain": [
          0.2625,
          0.475
         ]
        },
        "xaxis7": {
         "anchor": "y7",
         "domain": [
          0.525,
          0.7375
         ]
        },
        "xaxis8": {
         "anchor": "y8",
         "domain": [
          0.7875,
          1
         ]
        },
        "xaxis9": {
         "anchor": "y9",
         "domain": [
          0,
          0.2125
         ]
        },
        "yaxis": {
         "anchor": "x",
         "domain": [
          0.84375,
          1
         ]
        },
        "yaxis10": {
         "anchor": "x10",
         "domain": [
          0.28125,
          0.4375
         ]
        },
        "yaxis11": {
         "anchor": "x11",
         "domain": [
          0.28125,
          0.4375
         ]
        },
        "yaxis12": {
         "anchor": "x12",
         "domain": [
          0.28125,
          0.4375
         ]
        },
        "yaxis13": {
         "anchor": "x13",
         "domain": [
          0,
          0.15625
         ]
        },
        "yaxis14": {
         "anchor": "x14",
         "domain": [
          0,
          0.15625
         ]
        },
        "yaxis15": {
         "anchor": "x15",
         "domain": [
          0,
          0.15625
         ]
        },
        "yaxis16": {
         "anchor": "x16",
         "domain": [
          0,
          0.15625
         ]
        },
        "yaxis2": {
         "anchor": "x2",
         "domain": [
          0.84375,
          1
         ]
        },
        "yaxis3": {
         "anchor": "x3",
         "domain": [
          0.84375,
          1
         ]
        },
        "yaxis4": {
         "anchor": "x4",
         "domain": [
          0.84375,
          1
         ]
        },
        "yaxis5": {
         "anchor": "x5",
         "domain": [
          0.5625,
          0.71875
         ]
        },
        "yaxis6": {
         "anchor": "x6",
         "domain": [
          0.5625,
          0.71875
         ]
        },
        "yaxis7": {
         "anchor": "x7",
         "domain": [
          0.5625,
          0.71875
         ]
        },
        "yaxis8": {
         "anchor": "x8",
         "domain": [
          0.5625,
          0.71875
         ]
        },
        "yaxis9": {
         "anchor": "x9",
         "domain": [
          0.28125,
          0.4375
         ]
        }
       }
      }
     },
     "metadata": {},
     "output_type": "display_data"
    },
    {
     "data": {
      "application/vnd.plotly.v1+json": {
       "config": {
        "plotlyServerURL": "https://plot.ly"
       },
       "data": [
        {
         "error_y": {
          "array": [
           0.014336145325603419,
           0.01073661607115496,
           0.03077604287267713
          ],
          "type": "data",
          "visible": true
         },
         "marker": {
          "color": [
           "#636EFA",
           "#EF553B",
           "#00CC96"
          ],
          "line": {
           "color": "black",
           "width": 1
          }
         },
         "name": "Mean step velocity X during stance - ankle (m/s)",
         "type": "bar",
         "x": [
          "sick_left_C_run",
          "sick_left_E_run",
          "healthy_left_ALL_run"
         ],
         "xaxis": "x",
         "y": [
          0.10112275542271117,
          0.08909768379518929,
          0.11556296746995567
         ],
         "yaxis": "y"
        },
        {
         "marker": {
          "color": "black",
          "opacity": 0.5,
          "size": 6
         },
         "mode": "markers",
         "showlegend": false,
         "type": "scatter",
         "x": [
          "sick_left_C_run",
          "sick_left_C_run",
          "sick_left_C_run",
          "sick_left_C_run",
          "sick_left_C_run",
          "sick_left_C_run",
          "sick_left_C_run",
          "sick_left_C_run",
          "sick_left_C_run",
          "sick_left_C_run"
         ],
         "xaxis": "x",
         "y": {
          "bdata": "Cmojj99suj8LXfzDawm3P8gOxtTEobw/TC8otpXytz9sYUE9fxK1P9CnIzuqero/V72x26I3vj9yT/S2/De2P8Td8CFdPcA/J1s97aVduD8=",
          "dtype": "f8"
         },
         "yaxis": "y"
        },
        {
         "marker": {
          "color": "black",
          "opacity": 0.5,
          "size": 6
         },
         "mode": "markers",
         "showlegend": false,
         "type": "scatter",
         "x": [
          "sick_left_E_run",
          "sick_left_E_run",
          "sick_left_E_run",
          "sick_left_E_run",
          "sick_left_E_run",
          "sick_left_E_run",
          "sick_left_E_run",
          "sick_left_E_run",
          "sick_left_E_run",
          "sick_left_E_run"
         ],
         "xaxis": "x",
         "y": {
          "bdata": "Zgs4uh32vD9sUkM4pyi3P1Sj8Vj5jLU/Kltk5ASetD99o0ySx5y0P3K2a2DD97Q/OPIMFwemuT+fDmDxeG61P1bTeAHA77Q/iKgPsIA0uD8=",
          "dtype": "f8"
         },
         "yaxis": "y"
        },
        {
         "marker": {
          "color": "black",
          "opacity": 0.5,
          "size": 6
         },
         "mode": "markers",
         "showlegend": false,
         "type": "scatter",
         "x": [
          "healthy_left_ALL_run",
          "healthy_left_ALL_run",
          "healthy_left_ALL_run",
          "healthy_left_ALL_run",
          "healthy_left_ALL_run",
          "healthy_left_ALL_run",
          "healthy_left_ALL_run",
          "healthy_left_ALL_run",
          "healthy_left_ALL_run",
          "healthy_left_ALL_run",
          "healthy_left_ALL_run",
          "healthy_left_ALL_run",
          "healthy_left_ALL_run",
          "healthy_left_ALL_run",
          "healthy_left_ALL_run",
          "healthy_left_ALL_run",
          "healthy_left_ALL_run",
          "healthy_left_ALL_run",
          "healthy_left_ALL_run",
          "healthy_left_ALL_run"
         ],
         "xaxis": "x",
         "y": {
          "bdata": "4ZUcu2UYtj+CS3ygXb60P6NP30Z60sA/7Z4RX4FKuD99gp3Yb57FP30fVRzp+ro/RSez15AXvz/YNSLwEE2zP/56Kkh1frw/TDaJ67SzvT/xN/MwvVy2P50y8LN6zsI/Gjpg3nI2tj8Aq1tnqEq+P6tJKBzhWro/KXjX4gEcuD82r37+VyzCP0Wub5HS2MI/nf8brPNtuj8eAJrN9FfIPw==",
          "dtype": "f8"
         },
         "yaxis": "y"
        },
        {
         "error_y": {
          "array": [
           0.016843149420794207,
           0.012990293096458138,
           0.035575193840557795
          ],
          "type": "data",
          "visible": true
         },
         "marker": {
          "color": [
           "#636EFA",
           "#EF553B",
           "#00CC96"
          ],
          "line": {
           "color": "black",
           "width": 1
          }
         },
         "name": "Mean step velocity X during stance - knee (m/s)",
         "type": "bar",
         "x": [
          "sick_left_C_run",
          "sick_left_E_run",
          "healthy_left_ALL_run"
         ],
         "xaxis": "x2",
         "y": [
          0.1316879823731301,
          0.12039839851972703,
          0.1463675983600461
         ],
         "yaxis": "y2"
        },
        {
         "marker": {
          "color": "black",
          "opacity": 0.5,
          "size": 6
         },
         "mode": "markers",
         "showlegend": false,
         "type": "scatter",
         "x": [
          "sick_left_C_run",
          "sick_left_C_run",
          "sick_left_C_run",
          "sick_left_C_run",
          "sick_left_C_run",
          "sick_left_C_run",
          "sick_left_C_run",
          "sick_left_C_run",
          "sick_left_C_run",
          "sick_left_C_run"
         ],
         "xaxis": "x2",
         "y": {
          "bdata": "dU9J9op0wT8+SnpxwXS+P6FXMOHNLsM/T9SH7lN3vj9FjuFZWwq9P4DO1TerHME/qspgTnj6wj/b8mPS6em8PzJFII2FlcQ/LoLH3aqevz8=",
          "dtype": "f8"
         },
         "yaxis": "y2"
        },
        {
         "marker": {
          "color": "black",
          "opacity": 0.5,
          "size": 6
         },
         "mode": "markers",
         "showlegend": false,
         "type": "scatter",
         "x": [
          "sick_left_E_run",
          "sick_left_E_run",
          "sick_left_E_run",
          "sick_left_E_run",
          "sick_left_E_run",
          "sick_left_E_run",
          "sick_left_E_run",
          "sick_left_E_run",
          "sick_left_E_run",
          "sick_left_E_run"
         ],
         "xaxis": "x2",
         "y": {
          "bdata": "hrt56Uu5wj+MPpSvUg7AP08FSiKAi74/5gZKKCf/uj8HzELZcdW7PyOvEIMW47s/BedVvGzWwD82QomtO/K+P0SPhIIj0rs/trDL71J6wD8=",
          "dtype": "f8"
         },
         "yaxis": "y2"
        },
        {
         "marker": {
          "color": "black",
          "opacity": 0.5,
          "size": 6
         },
         "mode": "markers",
         "showlegend": false,
         "type": "scatter",
         "x": [
          "healthy_left_ALL_run",
          "healthy_left_ALL_run",
          "healthy_left_ALL_run",
          "healthy_left_ALL_run",
          "healthy_left_ALL_run",
          "healthy_left_ALL_run",
          "healthy_left_ALL_run",
          "healthy_left_ALL_run",
          "healthy_left_ALL_run",
          "healthy_left_ALL_run",
          "healthy_left_ALL_run",
          "healthy_left_ALL_run",
          "healthy_left_ALL_run",
          "healthy_left_ALL_run",
          "healthy_left_ALL_run",
          "healthy_left_ALL_run",
          "healthy_left_ALL_run",
          "healthy_left_ALL_run",
          "healthy_left_ALL_run",
          "healthy_left_ALL_run"
         ],
         "xaxis": "x2",
         "y": {
          "bdata": "Akhf8lnDvD/+VYWE2rK8PwivehjZwMQ/ZFKUHZZsvz/RfGRCGEPLP9/YUxMZGcA/0MAKNRFmwz9T8LdALh24P7GvX+LN+cE/iTZO5N1Rwz9mBVvAroq8P+BM4WGhacc/RdAsdxjDvT9RSw5oU1/DPyKBTwKQBcI//nG7fKsgvj8c4xaxUMPGP7t3hSIACMg/chwXBbHswD+v3ehN9KbMPw==",
          "dtype": "f8"
         },
         "yaxis": "y2"
        },
        {
         "error_y": {
          "array": [
           0.20520668923282523,
           0.1579282565330942,
           0.17483368958907006
          ],
          "type": "data",
          "visible": true
         },
         "marker": {
          "color": [
           "#636EFA",
           "#EF553B",
           "#00CC96"
          ],
          "line": {
           "color": "black",
           "width": 1
          }
         },
         "name": "Mean step acceleration Y during swing - hip (m/s^2)",
         "type": "bar",
         "x": [
          "sick_left_C_run",
          "sick_left_E_run",
          "healthy_left_ALL_run"
         ],
         "xaxis": "x3",
         "y": [
          -0.0312430982308472,
          0.08632206731051344,
          -0.16067001073042833
         ],
         "yaxis": "y3"
        },
        {
         "marker": {
          "color": "black",
          "opacity": 0.5,
          "size": 6
         },
         "mode": "markers",
         "showlegend": false,
         "type": "scatter",
         "x": [
          "sick_left_C_run",
          "sick_left_C_run",
          "sick_left_C_run",
          "sick_left_C_run",
          "sick_left_C_run",
          "sick_left_C_run",
          "sick_left_C_run",
          "sick_left_C_run",
          "sick_left_C_run",
          "sick_left_C_run"
         ],
         "xaxis": "x3",
         "y": {
          "bdata": "pjPPwLZgkj8hIKOMRUKRv0c5im4nHqY/OC8OwJlgyT864R9yANTUv4uHcGXf0Ni/3Hv2SqqB0D+KWbmbR3/Bv59ZWPtdTbE/xF3ApFhVn78=",
          "dtype": "f8"
         },
         "yaxis": "y3"
        },
        {
         "marker": {
          "color": "black",
          "opacity": 0.5,
          "size": 6
         },
         "mode": "markers",
         "showlegend": false,
         "type": "scatter",
         "x": [
          "sick_left_E_run",
          "sick_left_E_run",
          "sick_left_E_run",
          "sick_left_E_run",
          "sick_left_E_run",
          "sick_left_E_run",
          "sick_left_E_run",
          "sick_left_E_run",
          "sick_left_E_run",
          "sick_left_E_run"
         ],
         "xaxis": "x3",
         "y": {
          "bdata": "zy0N5pmVwj9C3vEC5Qe+v09mpO8qeMs/D5Rldd/8tr9Q6pchba1yP5ouLpT/L3g/JbeJdIhi0z9PguxpJPivv+7LGlkv+MQ/cFuaWD/u0j8=",
          "dtype": "f8"
         },
         "yaxis": "y3"
        },
        {
         "marker": {
          "color": "black",
          "opacity": 0.5,
          "size": 6
         },
         "mode": "markers",
         "showlegend": false,
         "type": "scatter",
         "x": [
          "healthy_left_ALL_run",
          "healthy_left_ALL_run",
          "healthy_left_ALL_run",
          "healthy_left_ALL_run",
          "healthy_left_ALL_run",
          "healthy_left_ALL_run",
          "healthy_left_ALL_run",
          "healthy_left_ALL_run",
          "healthy_left_ALL_run",
          "healthy_left_ALL_run",
          "healthy_left_ALL_run",
          "healthy_left_ALL_run",
          "healthy_left_ALL_run",
          "healthy_left_ALL_run",
          "healthy_left_ALL_run",
          "healthy_left_ALL_run",
          "healthy_left_ALL_run",
          "healthy_left_ALL_run",
          "healthy_left_ALL_run",
          "healthy_left_ALL_run"
         ],
         "xaxis": "x3",
         "y": {
          "bdata": "lS/i7p4q17/SpsP5dheuv+MpIztqB5G/eFrbZErOyr82yTges9HJvxJxAI4zp82/HQeucNkPyr+9GFrvhivJv/CeFOW9vMq/Q3KpTcKL3r8iusCB09TBv5z8NrYiCdE/nBy8LeC/kj/RPiF31ZHLv6pWqe5vdcE/mX1uMP/B2b+HLvRxkICkv9t1rFNA+cm/QP81shhk0b/FerYcShHJvw==",
          "dtype": "f8"
         },
         "yaxis": "y3"
        },
        {
         "error_y": {
          "array": [
           14.060096029677643,
           9.069284963341902,
           13.370547006985262
          ],
          "type": "data",
          "visible": true
         },
         "marker": {
          "color": [
           "#636EFA",
           "#EF553B",
           "#00CC96"
          ],
          "line": {
           "color": "black",
           "width": 1
          }
         },
         "name": "Mean angle excursion - rhindlimb - lHindfingers (°)",
         "type": "bar",
         "x": [
          "sick_left_C_run",
          "sick_left_E_run",
          "healthy_left_ALL_run"
         ],
         "xaxis": "x4",
         "y": [
          105.82417510367861,
          95.87754733035345,
          111.59684244382723
         ],
         "yaxis": "y4"
        },
        {
         "marker": {
          "color": "black",
          "opacity": 0.5,
          "size": 6
         },
         "mode": "markers",
         "showlegend": false,
         "type": "scatter",
         "x": [
          "sick_left_C_run",
          "sick_left_C_run",
          "sick_left_C_run",
          "sick_left_C_run",
          "sick_left_C_run",
          "sick_left_C_run",
          "sick_left_C_run",
          "sick_left_C_run",
          "sick_left_C_run",
          "sick_left_C_run"
         ],
         "xaxis": "x4",
         "y": {
          "bdata": "38KvrZGpWUAMwH1e4kpZQA2GmXPNg1dAO2aTQEBUX0CvocGgSKxXQFotX90nAV5ALi+h3W+tW0BmHzHkQ+FYQIReE86sJFVAB0b2CiZiX0A=",
          "dtype": "f8"
         },
         "yaxis": "y4"
        },
        {
         "marker": {
          "color": "black",
          "opacity": 0.5,
          "size": 6
         },
         "mode": "markers",
         "showlegend": false,
         "type": "scatter",
         "x": [
          "sick_left_E_run",
          "sick_left_E_run",
          "sick_left_E_run",
          "sick_left_E_run",
          "sick_left_E_run",
          "sick_left_E_run",
          "sick_left_E_run",
          "sick_left_E_run",
          "sick_left_E_run",
          "sick_left_E_run"
         ],
         "xaxis": "x4",
         "y": {
          "bdata": "ZAYGZuuAWEBAXpwdpOBWQMvljrrAhVRAGvcP1wNCWUD/oUgBed5VQG4Io0ZtwFtAU/YZZPD6WkBu3zeCyjFXQARVMa9RZ1hA108XaFpVVkA=",
          "dtype": "f8"
         },
         "yaxis": "y4"
        },
        {
         "marker": {
          "color": "black",
          "opacity": 0.5,
          "size": 6
         },
         "mode": "markers",
         "showlegend": false,
         "type": "scatter",
         "x": [
          "healthy_left_ALL_run",
          "healthy_left_ALL_run",
          "healthy_left_ALL_run",
          "healthy_left_ALL_run",
          "healthy_left_ALL_run",
          "healthy_left_ALL_run",
          "healthy_left_ALL_run",
          "healthy_left_ALL_run",
          "healthy_left_ALL_run",
          "healthy_left_ALL_run",
          "healthy_left_ALL_run",
          "healthy_left_ALL_run",
          "healthy_left_ALL_run",
          "healthy_left_ALL_run",
          "healthy_left_ALL_run",
          "healthy_left_ALL_run",
          "healthy_left_ALL_run",
          "healthy_left_ALL_run",
          "healthy_left_ALL_run",
          "healthy_left_ALL_run"
         ],
         "xaxis": "x4",
         "y": {
          "bdata": "FT4CSBw+W0AoF6AqDo5ZQGpvJUmFGltAXPzF4aYLXEBEXCD95x9eQEtgD3MLZ1pARn3Sa7AeWUBDg7ZcbdheQD1A5eyKQFxALX3Y5s5iYEAbf/XSNwBgQO8ukrg+iVhAmVCBXUiEWECaMREKz3JeQF+TLQsQP1VAgbSfJ7jSW0DRjtCvxGdaQH0KGKtY6FlA4CchHK/hW0A3CR0qheBhQA==",
          "dtype": "f8"
         },
         "yaxis": "y4"
        },
        {
         "error_y": {
          "array": [
           16.648674333373492,
           19.56873558462977,
           29.69716044565309
          ],
          "type": "data",
          "visible": true
         },
         "marker": {
          "color": [
           "#636EFA",
           "#EF553B",
           "#00CC96"
          ],
          "line": {
           "color": "black",
           "width": 1
          }
         },
         "name": "Mean step jerk Y during swing - knee (m/s^3)",
         "type": "bar",
         "x": [
          "sick_left_C_run",
          "sick_left_E_run",
          "healthy_left_ALL_run"
         ],
         "xaxis": "x5",
         "y": [
          -28.499510236971986,
          -21.55265299361553,
          -43.11112288867566
         ],
         "yaxis": "y5"
        },
        {
         "marker": {
          "color": "black",
          "opacity": 0.5,
          "size": 6
         },
         "mode": "markers",
         "showlegend": false,
         "type": "scatter",
         "x": [
          "sick_left_C_run",
          "sick_left_C_run",
          "sick_left_C_run",
          "sick_left_C_run",
          "sick_left_C_run",
          "sick_left_C_run",
          "sick_left_C_run",
          "sick_left_C_run",
          "sick_left_C_run",
          "sick_left_C_run"
         ],
         "xaxis": "x5",
         "y": {
          "bdata": "/zuYoCHMEEATIdVKplhBwKxGCIZBgjXAVHQtN54wNMBRwAAD6hJIwJfGcTBF+z7A+6o0TBW1SsCY7Gw7RaY8wFL9qO3SZULAwFchbtigLcA=",
          "dtype": "f8"
         },
         "yaxis": "y5"
        },
        {
         "marker": {
          "color": "black",
          "opacity": 0.5,
          "size": 6
         },
         "mode": "markers",
         "showlegend": false,
         "type": "scatter",
         "x": [
          "sick_left_E_run",
          "sick_left_E_run",
          "sick_left_E_run",
          "sick_left_E_run",
          "sick_left_E_run",
          "sick_left_E_run",
          "sick_left_E_run",
          "sick_left_E_run",
          "sick_left_E_run",
          "sick_left_E_run"
         ],
         "xaxis": "x5",
         "y": {
          "bdata": "a0Z8ZGJqLMBW+LnvHupCwFFcUx9VgAnAtaNvSUW2LMClBa9bokNFwAQg73se1gXABNUMazeXQMCdR5Lyp5NGwADNYRcbLidAy0ndTLr4QMA=",
          "dtype": "f8"
         },
         "yaxis": "y5"
        },
        {
         "marker": {
          "color": "black",
          "opacity": 0.5,
          "size": 6
         },
         "mode": "markers",
         "showlegend": false,
         "type": "scatter",
         "x": [
          "healthy_left_ALL_run",
          "healthy_left_ALL_run",
          "healthy_left_ALL_run",
          "healthy_left_ALL_run",
          "healthy_left_ALL_run",
          "healthy_left_ALL_run",
          "healthy_left_ALL_run",
          "healthy_left_ALL_run",
          "healthy_left_ALL_run",
          "healthy_left_ALL_run",
          "healthy_left_ALL_run",
          "healthy_left_ALL_run",
          "healthy_left_ALL_run",
          "healthy_left_ALL_run",
          "healthy_left_ALL_run",
          "healthy_left_ALL_run",
          "healthy_left_ALL_run",
          "healthy_left_ALL_run",
          "healthy_left_ALL_run",
          "healthy_left_ALL_run"
         ],
         "xaxis": "x5",
         "y": {
          "bdata": "vxUm/GqbPMCF5rYH2FMswNx0XPtWvEPAz2kEcFfsJMA+mRy6yoVZwDduenrPmjvAqVGix2fbRMD+85dXL4AmwNPqvlIHQjLAQ73E9GqzSsAkQ8ujzBAxwP7TDz1IuUHASNcK0JOyHMAvMOu+c2NCwOVeOG4hkVvA1TxlQ8T1RsADNGFkPT5TwOlkaymwO1LAv5wyiAyRUMAhWNemETBHwA==",
          "dtype": "f8"
         },
         "yaxis": "y5"
        },
        {
         "error_y": {
          "array": [
           14.161626670805049,
           15.766472341805814,
           21.11883188777384
          ],
          "type": "data",
          "visible": true
         },
         "marker": {
          "color": [
           "#636EFA",
           "#EF553B",
           "#00CC96"
          ],
          "line": {
           "color": "black",
           "width": 1
          }
         },
         "name": "Mean step jerk Y during swing - ankle (m/s^3)",
         "type": "bar",
         "x": [
          "sick_left_C_run",
          "sick_left_E_run",
          "healthy_left_ALL_run"
         ],
         "xaxis": "x6",
         "y": [
          23.827883093342482,
          10.051824168390745,
          31.12976471499917
         ],
         "yaxis": "y6"
        },
        {
         "marker": {
          "color": "black",
          "opacity": 0.5,
          "size": 6
         },
         "mode": "markers",
         "showlegend": false,
         "type": "scatter",
         "x": [
          "sick_left_C_run",
          "sick_left_C_run",
          "sick_left_C_run",
          "sick_left_C_run",
          "sick_left_C_run",
          "sick_left_C_run",
          "sick_left_C_run",
          "sick_left_C_run",
          "sick_left_C_run",
          "sick_left_C_run"
         ],
         "xaxis": "x6",
         "y": {
          "bdata": "mD54SBquKEBvPjsBW4YdQEmCHgXEzEVANl/vZwqGNUBWUoCTOQlBQNYPqN0XuERAWjioKwQaQEASaZL4kp4rQKirWAjdIjxAgyKODssyDkA=",
          "dtype": "f8"
         },
         "yaxis": "y6"
        },
        {
         "marker": {
          "color": "black",
          "opacity": 0.5,
          "size": 6
         },
         "mode": "markers",
         "showlegend": false,
         "type": "scatter",
         "x": [
          "sick_left_E_run",
          "sick_left_E_run",
          "sick_left_E_run",
          "sick_left_E_run",
          "sick_left_E_run",
          "sick_left_E_run",
          "sick_left_E_run",
          "sick_left_E_run",
          "sick_left_E_run",
          "sick_left_E_run"
         ],
         "xaxis": "x6",
         "y": {
          "bdata": "JSPbdJOTMEAvFl5iE/AwQJyltOIjtzpAkyZJ+850IkD9bbMjnSY9QPgKG/xibzTAvCk5mo5fNUDnU1nMa/0YQHy9wwgEGyTA92RNUl4bE0A=",
          "dtype": "f8"
         },
         "yaxis": "y6"
        },
        {
         "marker": {
          "color": "black",
          "opacity": 0.5,
          "size": 6
         },
         "mode": "markers",
         "showlegend": false,
         "type": "scatter",
         "x": [
          "healthy_left_ALL_run",
          "healthy_left_ALL_run",
          "healthy_left_ALL_run",
          "healthy_left_ALL_run",
          "healthy_left_ALL_run",
          "healthy_left_ALL_run",
          "healthy_left_ALL_run",
          "healthy_left_ALL_run",
          "healthy_left_ALL_run",
          "healthy_left_ALL_run",
          "healthy_left_ALL_run",
          "healthy_left_ALL_run",
          "healthy_left_ALL_run",
          "healthy_left_ALL_run",
          "healthy_left_ALL_run",
          "healthy_left_ALL_run",
          "healthy_left_ALL_run",
          "healthy_left_ALL_run",
          "healthy_left_ALL_run",
          "healthy_left_ALL_run"
         ],
         "xaxis": "x6",
         "y": {
          "bdata": "5RdaddlzEUAGG1MA1U4mQE9OTe/9nElAA9fRTI/7M0BByELBS6Y5QMOLUXVybjlAe1JWeJz2SUBTQKzJjQI+QOR7sHEoziVAi7lpKtBfAMCgIGyKF3sJQEKORhBBM0RAaSNAlCK1KECzIvOTT9NNQMmqlNfhSUFAR7nM3Td3P0AWh32Skx1RQGlESY8C2UJAtW2r3WmvQ0CQp7x0aLVQQA==",
          "dtype": "f8"
         },
         "yaxis": "y6"
        },
        {
         "error_y": {
          "array": [
           15.404902962544403,
           10.931508258538367,
           24.917707270051284
          ],
          "type": "data",
          "visible": true
         },
         "marker": {
          "color": [
           "#636EFA",
           "#EF553B",
           "#00CC96"
          ],
          "line": {
           "color": "black",
           "width": 1
          }
         },
         "name": "Mean step jerk Y during stance - ankle (m/s^3)",
         "type": "bar",
         "x": [
          "sick_left_C_run",
          "sick_left_E_run",
          "healthy_left_ALL_run"
         ],
         "xaxis": "x7",
         "y": [
          -22.31246159518584,
          -13.832930811691702,
          -30.563957692124188
         ],
         "yaxis": "y7"
        },
        {
         "marker": {
          "color": "black",
          "opacity": 0.5,
          "size": 6
         },
         "mode": "markers",
         "showlegend": false,
         "type": "scatter",
         "x": [
          "sick_left_C_run",
          "sick_left_C_run",
          "sick_left_C_run",
          "sick_left_C_run",
          "sick_left_C_run",
          "sick_left_C_run",
          "sick_left_C_run",
          "sick_left_C_run",
          "sick_left_C_run",
          "sick_left_C_run"
         ],
         "xaxis": "x7",
         "y": {
          "bdata": "eI75kDPqOMArrPYpMUDEv9VPOE8yA0XAsyUP20OGN8ByFOfOcJgmwOSwQN+5fEnA7+ki9e2vKsBBtHihMIQxwG2oVXzoYT3Ax5c3U5z5I8A=",
          "dtype": "f8"
         },
         "yaxis": "y7"
        },
        {
         "marker": {
          "color": "black",
          "opacity": 0.5,
          "size": 6
         },
         "mode": "markers",
         "showlegend": false,
         "type": "scatter",
         "x": [
          "sick_left_E_run",
          "sick_left_E_run",
          "sick_left_E_run",
          "sick_left_E_run",
          "sick_left_E_run",
          "sick_left_E_run",
          "sick_left_E_run",
          "sick_left_E_run",
          "sick_left_E_run",
          "sick_left_E_run"
         ],
         "xaxis": "x7",
         "y": {
          "bdata": "7EJjBNfkLMBVdohqYaMtwGS4tWyGSDjAd5K7SCDUGcAFTW4qMaU3wMq8aIg0TPW/UkF2Z+i5QMBDfOPzm9ciwH2N5IQeSABAfeuuzyYEKcA=",
          "dtype": "f8"
         },
         "yaxis": "y7"
        },
        {
         "marker": {
          "color": "black",
          "opacity": 0.5,
          "size": 6
         },
         "mode": "markers",
         "showlegend": false,
         "type": "scatter",
         "x": [
          "healthy_left_ALL_run",
          "healthy_left_ALL_run",
          "healthy_left_ALL_run",
          "healthy_left_ALL_run",
          "healthy_left_ALL_run",
          "healthy_left_ALL_run",
          "healthy_left_ALL_run",
          "healthy_left_ALL_run",
          "healthy_left_ALL_run",
          "healthy_left_ALL_run",
          "healthy_left_ALL_run",
          "healthy_left_ALL_run",
          "healthy_left_ALL_run",
          "healthy_left_ALL_run",
          "healthy_left_ALL_run",
          "healthy_left_ALL_run",
          "healthy_left_ALL_run",
          "healthy_left_ALL_run",
          "healthy_left_ALL_run",
          "healthy_left_ALL_run"
         ],
         "xaxis": "x7",
         "y": {
          "bdata": "i7AWsnAxJsCvSrJUV0UpwK7YlAmPm0HANEBGyk3JMMB6nn9J0oZRwGtqcj0BhxdA5RCCT0UXQcD4LoAnPIY0wCkNE2NbgS/ADSY2SiRjQ8B2J1/llRkowPAfwOHk9UnAUIZIk075IMAf4qEcnGVDwDrsxE5s+DBAtRYQgjF2P8DhrsHz3XdSwBjAvG3hzUXA3XmqkAH0R8Cg1wlpOr1RwA==",
          "dtype": "f8"
         },
         "yaxis": "y7"
        },
        {
         "error_y": {
          "array": [
           14.132931353283338,
           7.887571744179217,
           13.30825096263988
          ],
          "type": "data",
          "visible": true
         },
         "marker": {
          "color": [
           "#636EFA",
           "#EF553B",
           "#00CC96"
          ],
          "line": {
           "color": "black",
           "width": 1
          }
         },
         "name": "Mean phase excursion - rhindlimb - lHindpaw (°)",
         "type": "bar",
         "x": [
          "sick_left_C_run",
          "sick_left_E_run",
          "healthy_left_ALL_run"
         ],
         "xaxis": "x8",
         "y": [
          118.72016602741405,
          109.6304055065599,
          122.36841312424583
         ],
         "yaxis": "y8"
        },
        {
         "marker": {
          "color": "black",
          "opacity": 0.5,
          "size": 6
         },
         "mode": "markers",
         "showlegend": false,
         "type": "scatter",
         "x": [
          "sick_left_C_run",
          "sick_left_C_run",
          "sick_left_C_run",
          "sick_left_C_run",
          "sick_left_C_run",
          "sick_left_C_run",
          "sick_left_C_run",
          "sick_left_C_run",
          "sick_left_C_run",
          "sick_left_C_run"
         ],
         "xaxis": "x8",
         "y": {
          "bdata": "02RIvMHcXECfCe+YkitdQOdMfLcoLFtAiAG0yMhdYUAEj0dBkeBZQG3VtLRQqWBATTneEKMFX0DEkbPI9htcQK1whV6FZ1hAwzDNv0MQYUA=",
          "dtype": "f8"
         },
         "yaxis": "y8"
        },
        {
         "marker": {
          "color": "black",
          "opacity": 0.5,
          "size": 6
         },
         "mode": "markers",
         "showlegend": false,
         "type": "scatter",
         "x": [
          "sick_left_E_run",
          "sick_left_E_run",
          "sick_left_E_run",
          "sick_left_E_run",
          "sick_left_E_run",
          "sick_left_E_run",
          "sick_left_E_run",
          "sick_left_E_run",
          "sick_left_E_run",
          "sick_left_E_run"
         ],
         "xaxis": "x8",
         "y": {
          "bdata": "ExAUdaoFW0D5CTIPewhaQHvYI/OQqFlAsqDMBVtgXED4BdulEXJZQGDew1aieV9ARH3mvIqmXUAbuB2bXf1aQATEQVBtzltAnUpFgVqeWUA=",
          "dtype": "f8"
         },
         "yaxis": "y8"
        },
        {
         "marker": {
          "color": "black",
          "opacity": 0.5,
          "size": 6
         },
         "mode": "markers",
         "showlegend": false,
         "type": "scatter",
         "x": [
          "healthy_left_ALL_run",
          "healthy_left_ALL_run",
          "healthy_left_ALL_run",
          "healthy_left_ALL_run",
          "healthy_left_ALL_run",
          "healthy_left_ALL_run",
          "healthy_left_ALL_run",
          "healthy_left_ALL_run",
          "healthy_left_ALL_run",
          "healthy_left_ALL_run",
          "healthy_left_ALL_run",
          "healthy_left_ALL_run",
          "healthy_left_ALL_run",
          "healthy_left_ALL_run",
          "healthy_left_ALL_run",
          "healthy_left_ALL_run",
          "healthy_left_ALL_run",
          "healthy_left_ALL_run",
          "healthy_left_ALL_run",
          "healthy_left_ALL_run"
         ],
         "xaxis": "x8",
         "y": {
          "bdata": "3lq9XrBPXUCnTNLv2bFcQBtxtexbt11AVwxd6gqFXkCKgRei5FtgQFQc6dUzUF1AbVoXoKhsXEBIXNf0C8NgQM36K6IS5l5AUYmt1ZLNYUB00gcmY39hQGZxWQLvZlpATsyxJwbIWkDfTEc1KLFgQGK5CD6mHlhAJcM6inDLXkBsqSREaVFeQNAQhs9+1ltAS3RqG4rEXkDrW+PWittiQA==",
          "dtype": "f8"
         },
         "yaxis": "y8"
        },
        {
         "error_y": {
          "array": [
           2.18877120170759,
           1.4078689085520508,
           9.90354803986238
          ],
          "type": "data",
          "visible": true
         },
         "marker": {
          "color": [
           "#636EFA",
           "#EF553B",
           "#00CC96"
          ],
          "line": {
           "color": "black",
           "width": 1
          }
         },
         "name": "Mean angle excursion - rhindlimb - lHindpaw (°)",
         "type": "bar",
         "x": [
          "sick_left_C_run",
          "sick_left_E_run",
          "healthy_left_ALL_run"
         ],
         "xaxis": "x9",
         "y": [
          60.39295051481266,
          58.78871492493587,
          65.47376295319086
         ],
         "yaxis": "y9"
        },
        {
         "marker": {
          "color": "black",
          "opacity": 0.5,
          "size": 6
         },
         "mode": "markers",
         "showlegend": false,
         "type": "scatter",
         "x": [
          "sick_left_C_run",
          "sick_left_C_run",
          "sick_left_C_run",
          "sick_left_C_run",
          "sick_left_C_run",
          "sick_left_C_run",
          "sick_left_C_run",
          "sick_left_C_run",
          "sick_left_C_run",
          "sick_left_C_run"
         ],
         "xaxis": "x9",
         "y": {
          "bdata": "4SC+jFmWTkCf5JfyaW1PQPPGMOGdiExA4MGEt4MdT0BJYZaM4bJMQBG9wr5dRE5AJ+94xSxnTUBNhrXflntNQK+NzeWoNk9AnqXxF2k8T0A=",
          "dtype": "f8"
         },
         "yaxis": "y9"
        },
        {
         "marker": {
          "color": "black",
          "opacity": 0.5,
          "size": 6
         },
         "mode": "markers",
         "showlegend": false,
         "type": "scatter",
         "x": [
          "sick_left_E_run",
          "sick_left_E_run",
          "sick_left_E_run",
          "sick_left_E_run",
          "sick_left_E_run",
          "sick_left_E_run",
          "sick_left_E_run",
          "sick_left_E_run",
          "sick_left_E_run",
          "sick_left_E_run"
         ],
         "xaxis": "x9",
         "y": {
          "bdata": "yUiMYMpwTkByuI+U+LZMQEpG4wOVDE1AicZo9y57TUD1bM39pUhMQCArwkdnJk5A2/WtzaPTTEC9IR1Es7NNQMsA6noXHE5AupadWIsvTUA=",
          "dtype": "f8"
         },
         "yaxis": "y9"
        },
        {
         "marker": {
          "color": "black",
          "opacity": 0.5,
          "size": 6
         },
         "mode": "markers",
         "showlegend": false,
         "type": "scatter",
         "x": [
          "healthy_left_ALL_run",
          "healthy_left_ALL_run",
          "healthy_left_ALL_run",
          "healthy_left_ALL_run",
          "healthy_left_ALL_run",
          "healthy_left_ALL_run",
          "healthy_left_ALL_run",
          "healthy_left_ALL_run",
          "healthy_left_ALL_run",
          "healthy_left_ALL_run",
          "healthy_left_ALL_run",
          "healthy_left_ALL_run",
          "healthy_left_ALL_run",
          "healthy_left_ALL_run",
          "healthy_left_ALL_run",
          "healthy_left_ALL_run",
          "healthy_left_ALL_run",
          "healthy_left_ALL_run",
          "healthy_left_ALL_run",
          "healthy_left_ALL_run"
         ],
         "xaxis": "x9",
         "y": {
          "bdata": "GG/q+hS9TkAMGNU6d9NOQB9jg12L6E5AH9NphPLaTkC0pwKjXDxNQDia4C0MLk5ASPW9LdxRUUBOSXKACqFLQKpMaoujvFFAyISWF/9WTUCcOYhh2HJQQE/c7W4HRFBAwODSEAlSTEChGQ70nM1QQMjOWymJIk5AlditmtG2TUDIr2Ib8y9UQKLq/idHk01Av9RB7jToV0Al+PJesvhTQA==",
          "dtype": "f8"
         },
         "yaxis": "y9"
        },
        {
         "error_y": {
          "array": [
           0.003017272842253177,
           0.0035289568904385417,
           0.00488379180987497
          ],
          "type": "data",
          "visible": true
         },
         "marker": {
          "color": [
           "#636EFA",
           "#EF553B",
           "#00CC96"
          ],
          "line": {
           "color": "black",
           "width": 1
          }
         },
         "name": "Mean step velocity Y during swing - lHindpaw (m/s)",
         "type": "bar",
         "x": [
          "sick_left_C_run",
          "sick_left_E_run",
          "healthy_left_ALL_run"
         ],
         "xaxis": "x10",
         "y": [
          -0.019888306069243238,
          -0.01762320234115605,
          -0.02141248566668144
         ],
         "yaxis": "y10"
        },
        {
         "marker": {
          "color": "black",
          "opacity": 0.5,
          "size": 6
         },
         "mode": "markers",
         "showlegend": false,
         "type": "scatter",
         "x": [
          "sick_left_C_run",
          "sick_left_C_run",
          "sick_left_C_run",
          "sick_left_C_run",
          "sick_left_C_run",
          "sick_left_C_run",
          "sick_left_C_run",
          "sick_left_C_run",
          "sick_left_C_run",
          "sick_left_C_run"
         ],
         "xaxis": "x10",
         "y": {
          "bdata": "p2H6tFArk79Xq1REBnGSv/w4VOg2iJS/+r3vdbpHk7/vZ9nL4iGQv4pTocLs45m/ncYBT63vl7+s5uRer/eQv7Ey0irk+pa/K2rVhqdTlL8=",
          "dtype": "f8"
         },
         "yaxis": "y10"
        },
        {
         "marker": {
          "color": "black",
          "opacity": 0.5,
          "size": 6
         },
         "mode": "markers",
         "showlegend": false,
         "type": "scatter",
         "x": [
          "sick_left_E_run",
          "sick_left_E_run",
          "sick_left_E_run",
          "sick_left_E_run",
          "sick_left_E_run",
          "sick_left_E_run",
          "sick_left_E_run",
          "sick_left_E_run",
          "sick_left_E_run",
          "sick_left_E_run"
         ],
         "xaxis": "x10",
         "y": {
          "bdata": "QNMoSNUKk7/vV64hvHWQv2HiaXGcr5K/MwgOE5o7jL/lvWfJnbOSvzTYbEVPRI+/DuoFsWM/m7/EmgWnw0SPv6u+/2bP2ZC/VVHPp9UWkr8=",
          "dtype": "f8"
         },
         "yaxis": "y10"
        },
        {
         "marker": {
          "color": "black",
          "opacity": 0.5,
          "size": 6
         },
         "mode": "markers",
         "showlegend": false,
         "type": "scatter",
         "x": [
          "healthy_left_ALL_run",
          "healthy_left_ALL_run",
          "healthy_left_ALL_run",
          "healthy_left_ALL_run",
          "healthy_left_ALL_run",
          "healthy_left_ALL_run",
          "healthy_left_ALL_run",
          "healthy_left_ALL_run",
          "healthy_left_ALL_run",
          "healthy_left_ALL_run",
          "healthy_left_ALL_run",
          "healthy_left_ALL_run",
          "healthy_left_ALL_run",
          "healthy_left_ALL_run",
          "healthy_left_ALL_run",
          "healthy_left_ALL_run",
          "healthy_left_ALL_run",
          "healthy_left_ALL_run",
          "healthy_left_ALL_run",
          "healthy_left_ALL_run"
         ],
         "xaxis": "x10",
         "y": {
          "bdata": "FpQvWI5hlb8A+1NCAzKJvzBljU+OnJ2/YdX6FVzWm78hpG+O3LaWv/vOs1SdeZa/eRcuN1Mpmb/Im427sa6UvxxZgysXgY6/R3e8pFYCl7+55MXd17iYvyYof7Fdc5W/x+CPGQA4kL+ymjtfVqyTv2HUF6CeSIi/lXtgphSHlr8oa9Z1UEWWv3uzZyVanJa/Iwp+Meszmb/eE7CKtvyevw==",
          "dtype": "f8"
         },
         "yaxis": "y10"
        },
        {
         "error_y": {
          "array": [
           0.03970445426739211,
           0.033457303173087316,
           0.08083877673601277
          ],
          "type": "data",
          "visible": true
         },
         "marker": {
          "color": [
           "#636EFA",
           "#EF553B",
           "#00CC96"
          ],
          "line": {
           "color": "black",
           "width": 1
          }
         },
         "name": "Mean step velocity X during swing - lHindfingers (m/s)",
         "type": "bar",
         "x": [
          "sick_left_C_run",
          "sick_left_E_run",
          "healthy_left_ALL_run"
         ],
         "xaxis": "x11",
         "y": [
          0.5028636291932107,
          0.46323684219237793,
          0.5171499199013418
         ],
         "yaxis": "y11"
        },
        {
         "marker": {
          "color": "black",
          "opacity": 0.5,
          "size": 6
         },
         "mode": "markers",
         "showlegend": false,
         "type": "scatter",
         "x": [
          "sick_left_C_run",
          "sick_left_C_run",
          "sick_left_C_run",
          "sick_left_C_run",
          "sick_left_C_run",
          "sick_left_C_run",
          "sick_left_C_run",
          "sick_left_C_run",
          "sick_left_C_run",
          "sick_left_C_run"
         ],
         "xaxis": "x11",
         "y": {
          "bdata": "ADoFUYb23T8RkYhAMAvdPzLeNiIUYuE/EHS5D/Ki3T+S5/K1uLTdPx9+eB7Y5+A/NrlHXRhH4T9vRgL+9RngP54khDf5EuI/e8cfUuT/3z8=",
          "dtype": "f8"
         },
         "yaxis": "y11"
        },
        {
         "marker": {
          "color": "black",
          "opacity": 0.5,
          "size": 6
         },
         "mode": "markers",
         "showlegend": false,
         "type": "scatter",
         "x": [
          "sick_left_E_run",
          "sick_left_E_run",
          "sick_left_E_run",
          "sick_left_E_run",
          "sick_left_E_run",
          "sick_left_E_run",
          "sick_left_E_run",
          "sick_left_E_run",
          "sick_left_E_run",
          "sick_left_E_run"
         ],
         "xaxis": "x11",
         "y": {
          "bdata": "/jLc504n4D+kncUcoL7eP0MWPu/Kbt0/W52jrJ1i3T8dhAGcjHLbP4OGpFISnds//BfmLa/P4D8z6X0SlW3ePx2drA3fGNw/SmvPc6Fk2z8=",
          "dtype": "f8"
         },
         "yaxis": "y11"
        },
        {
         "marker": {
          "color": "black",
          "opacity": 0.5,
          "size": 6
         },
         "mode": "markers",
         "showlegend": false,
         "type": "scatter",
         "x": [
          "healthy_left_ALL_run",
          "healthy_left_ALL_run",
          "healthy_left_ALL_run",
          "healthy_left_ALL_run",
          "healthy_left_ALL_run",
          "healthy_left_ALL_run",
          "healthy_left_ALL_run",
          "healthy_left_ALL_run",
          "healthy_left_ALL_run",
          "healthy_left_ALL_run",
          "healthy_left_ALL_run",
          "healthy_left_ALL_run",
          "healthy_left_ALL_run",
          "healthy_left_ALL_run",
          "healthy_left_ALL_run",
          "healthy_left_ALL_run",
          "healthy_left_ALL_run",
          "healthy_left_ALL_run",
          "healthy_left_ALL_run",
          "healthy_left_ALL_run"
         ],
         "xaxis": "x11",
         "y": {
          "bdata": "6/N9oImv2z86/MvF3IvaP3xkoTQuduE/vGreQ6He4D+plZKwocTjP52kqdI7NN8/RDT6NT634D9R/HedtOPXP1vvKSk1ON4/eRP7J1KX4D/RdRqtPEffP/4s6lzVQeI/YvCABUeN2T/07A4SiGHgP1MzdKReNOI/6EhJEM1/3T/C5k3Ni8zjP2D3W/nI3eI/SljjbO7G4D9hGYSX6FjmPw==",
          "dtype": "f8"
         },
         "yaxis": "y11"
        },
        {
         "error_y": {
          "array": [
           30.06658020040641,
           16.509989994439266,
           25.924165209115174
          ],
          "type": "data",
          "visible": true
         },
         "marker": {
          "color": [
           "#636EFA",
           "#EF553B",
           "#00CC96"
          ],
          "line": {
           "color": "black",
           "width": 1
          }
         },
         "name": "Mean step jerk Y during stance - lHindpaw (m/s^3)",
         "type": "bar",
         "x": [
          "sick_left_C_run",
          "sick_left_E_run",
          "healthy_left_ALL_run"
         ],
         "xaxis": "x12",
         "y": [
          -34.39116687849413,
          -10.514130485929053,
          -26.898246537178533
         ],
         "yaxis": "y12"
        },
        {
         "marker": {
          "color": "black",
          "opacity": 0.5,
          "size": 6
         },
         "mode": "markers",
         "showlegend": false,
         "type": "scatter",
         "x": [
          "sick_left_C_run",
          "sick_left_C_run",
          "sick_left_C_run",
          "sick_left_C_run",
          "sick_left_C_run",
          "sick_left_C_run",
          "sick_left_C_run",
          "sick_left_C_run",
          "sick_left_C_run",
          "sick_left_C_run"
         ],
         "xaxis": "x12",
         "y": {
          "bdata": "o54UNnu1QcCN+cviV90+wEeSJuj31/8/rVbVB6cbNMArTTffNyg7wKaLBzbnPFvAEbeNFV3rGcB+82P1a4xBwKu5Zj7LmkDAn9nEcelOSMA=",
          "dtype": "f8"
         },
         "yaxis": "y12"
        },
        {
         "marker": {
          "color": "black",
          "opacity": 0.5,
          "size": 6
         },
         "mode": "markers",
         "showlegend": false,
         "type": "scatter",
         "x": [
          "sick_left_E_run",
          "sick_left_E_run",
          "sick_left_E_run",
          "sick_left_E_run",
          "sick_left_E_run",
          "sick_left_E_run",
          "sick_left_E_run",
          "sick_left_E_run",
          "sick_left_E_run",
          "sick_left_E_run"
         ],
         "xaxis": "x12",
         "y": {
          "bdata": "Z6jwyniAJUCJ49TgQXAhQEKcmTsXnUHAxfR8g81OLMBvabZhkuc0wMfdWiWhnDjAcD6yf05oGsDcPhIUZdA3wByQ1Wy8ByhAP2HiTE2gJsA=",
          "dtype": "f8"
         },
         "yaxis": "y12"
        },
        {
         "marker": {
          "color": "black",
          "opacity": 0.5,
          "size": 6
         },
         "mode": "markers",
         "showlegend": false,
         "type": "scatter",
         "x": [
          "healthy_left_ALL_run",
          "healthy_left_ALL_run",
          "healthy_left_ALL_run",
          "healthy_left_ALL_run",
          "healthy_left_ALL_run",
          "healthy_left_ALL_run",
          "healthy_left_ALL_run",
          "healthy_left_ALL_run",
          "healthy_left_ALL_run",
          "healthy_left_ALL_run",
          "healthy_left_ALL_run",
          "healthy_left_ALL_run",
          "healthy_left_ALL_run",
          "healthy_left_ALL_run",
          "healthy_left_ALL_run",
          "healthy_left_ALL_run",
          "healthy_left_ALL_run",
          "healthy_left_ALL_run",
          "healthy_left_ALL_run",
          "healthy_left_ALL_run"
         ],
         "xaxis": "x12",
         "y": {
          "bdata": "yRym+aEuPMBbzvGVk1YsQJ3zi1HEEkXAV7dbDpo7HEAgxKieKpJOwGnDd8ZJYT7A3mm/9Q0+OsAeXa3UELAgwDows1FKETtA3JF6h1BrSsDRXrj799I+wEPqDqh64EjABCsbh8m0M8AgytHTQSJBwNGJndgw/zFAl5gTLxbzQcC7hNQD4g1BwC3QaJa7A0bAfQ0aoAFWTsCc0rJnRdxGwA==",
          "dtype": "f8"
         },
         "yaxis": "y12"
        },
        {
         "error_y": {
          "array": [
           0.19828267950239217,
           0.16328173094517962,
           0.1655538753925966
          ],
          "type": "data",
          "visible": true
         },
         "marker": {
          "color": [
           "#636EFA",
           "#EF553B",
           "#00CC96"
          ],
          "line": {
           "color": "black",
           "width": 1
          }
         },
         "name": "Mean step acceleration Y during stance - hip (m/s^2)",
         "type": "bar",
         "x": [
          "sick_left_C_run",
          "sick_left_E_run",
          "healthy_left_ALL_run"
         ],
         "xaxis": "x13",
         "y": [
          0.08645514048924888,
          -0.046042038126573044,
          0.1475851644234222
         ],
         "yaxis": "y13"
        },
        {
         "marker": {
          "color": "black",
          "opacity": 0.5,
          "size": 6
         },
         "mode": "markers",
         "showlegend": false,
         "type": "scatter",
         "x": [
          "sick_left_C_run",
          "sick_left_C_run",
          "sick_left_C_run",
          "sick_left_C_run",
          "sick_left_C_run",
          "sick_left_C_run",
          "sick_left_C_run",
          "sick_left_C_run",
          "sick_left_C_run",
          "sick_left_C_run"
         ],
         "xaxis": "x13",
         "y": {
          "bdata": "65iiG0HOrL9Y5IfQgpmkP5Ef8mz3aaO/gcycEkE0uL8U6cZP1xDZP9+sZ5LUetw/kiMeJbQ3tb9wLd5CIqnKP0dsDwfw+ae/yLuLspEKuT8=",
          "dtype": "f8"
         },
         "yaxis": "y13"
        },
        {
         "marker": {
          "color": "black",
          "opacity": 0.5,
          "size": 6
         },
         "mode": "markers",
         "showlegend": false,
         "type": "scatter",
         "x": [
          "sick_left_E_run",
          "sick_left_E_run",
          "sick_left_E_run",
          "sick_left_E_run",
          "sick_left_E_run",
          "sick_left_E_run",
          "sick_left_E_run",
          "sick_left_E_run",
          "sick_left_E_run",
          "sick_left_E_run"
         ],
         "xaxis": "x13",
         "y": {
          "bdata": "8W8xAfvk0r838gFDXazEP/WIWGgWZ8e/WuvSlnkMwj/tx6bI7SNxv8d9Zt1wHbY/48Cjz5CZx7/OxEubMzK5P3OX2NdNqLi/krCWmdOnx78=",
          "dtype": "f8"
         },
         "yaxis": "y13"
        },
        {
         "marker": {
          "color": "black",
          "opacity": 0.5,
          "size": 6
         },
         "mode": "markers",
         "showlegend": false,
         "type": "scatter",
         "x": [
          "healthy_left_ALL_run",
          "healthy_left_ALL_run",
          "healthy_left_ALL_run",
          "healthy_left_ALL_run",
          "healthy_left_ALL_run",
          "healthy_left_ALL_run",
          "healthy_left_ALL_run",
          "healthy_left_ALL_run",
          "healthy_left_ALL_run",
          "healthy_left_ALL_run",
          "healthy_left_ALL_run",
          "healthy_left_ALL_run",
          "healthy_left_ALL_run",
          "healthy_left_ALL_run",
          "healthy_left_ALL_run",
          "healthy_left_ALL_run",
          "healthy_left_ALL_run",
          "healthy_left_ALL_run",
          "healthy_left_ALL_run",
          "healthy_left_ALL_run"
         ],
         "xaxis": "x13",
         "y": {
          "bdata": "CTZeoKOZ2D+tmx92q3DCP33hn7SruLI/UFY7CTauuj8mPR4DoTLFvwoetnLxp7W/BNXuNu0iyz+9BXPUrnzMPxZtjEy4XsU/JW74U75e1j9hbI7M31/JP49EJH7Cwco/4fvuCqRymD/e/M///KvPPw1q1HlwMdC/Rx95R4A10j+yYE8Hjw67P1j4xSQHYtI/nkbs3cCdwj/8PyFz0vvSPw==",
          "dtype": "f8"
         },
         "yaxis": "y13"
        },
        {
         "error_y": {
          "array": [
           28.351427916654877,
           19.988415142370933,
           29.45815601718599
          ],
          "type": "data",
          "visible": true
         },
         "marker": {
          "color": [
           "#636EFA",
           "#EF553B",
           "#00CC96"
          ],
          "line": {
           "color": "black",
           "width": 1
          }
         },
         "name": "Mean step jerk Y during swing - lHindpaw (m/s^3)",
         "type": "bar",
         "x": [
          "sick_left_C_run",
          "sick_left_E_run",
          "healthy_left_ALL_run"
         ],
         "xaxis": "x14",
         "y": [
          19.78863693734357,
          -5.805644840593418,
          13.363210987107482
         ],
         "yaxis": "y14"
        },
        {
         "marker": {
          "color": "black",
          "opacity": 0.5,
          "size": 6
         },
         "mode": "markers",
         "showlegend": false,
         "type": "scatter",
         "x": [
          "sick_left_C_run",
          "sick_left_C_run",
          "sick_left_C_run",
          "sick_left_C_run",
          "sick_left_C_run",
          "sick_left_C_run",
          "sick_left_C_run",
          "sick_left_C_run",
          "sick_left_C_run",
          "sick_left_C_run"
         ],
         "xaxis": "x14",
         "y": {
          "bdata": "bf8QZXEUHkBE6AQrS3w2QBDyvq5DgCXA9Jm1UtViCsDyGdOrMKs1QLiMdrn/flVA0NllqbT6IcB12euyXlU9QCFa/ETy4zBA3MJ88WuFQkA=",
          "dtype": "f8"
         },
         "yaxis": "y14"
        },
        {
         "marker": {
          "color": "black",
          "opacity": 0.5,
          "size": 6
         },
         "mode": "markers",
         "showlegend": false,
         "type": "scatter",
         "x": [
          "sick_left_E_run",
          "sick_left_E_run",
          "sick_left_E_run",
          "sick_left_E_run",
          "sick_left_E_run",
          "sick_left_E_run",
          "sick_left_E_run",
          "sick_left_E_run",
          "sick_left_E_run",
          "sick_left_E_run"
         ],
         "xaxis": "x14",
         "y": {
          "bdata": "DKIiyCYLMcD6D70N+0IAwAyRVP7igDFAXoyJ12ouCMDGPtaSEF43QCFqhPH0NyXAZD3nXBu6QMB4HAMT6JIwQNR1et320j3AErdwdtODM8A=",
          "dtype": "f8"
         },
         "yaxis": "y14"
        },
        {
         "marker": {
          "color": "black",
          "opacity": 0.5,
          "size": 6
         },
         "mode": "markers",
         "showlegend": false,
         "type": "scatter",
         "x": [
          "healthy_left_ALL_run",
          "healthy_left_ALL_run",
          "healthy_left_ALL_run",
          "healthy_left_ALL_run",
          "healthy_left_ALL_run",
          "healthy_left_ALL_run",
          "healthy_left_ALL_run",
          "healthy_left_ALL_run",
          "healthy_left_ALL_run",
          "healthy_left_ALL_run",
          "healthy_left_ALL_run",
          "healthy_left_ALL_run",
          "healthy_left_ALL_run",
          "healthy_left_ALL_run",
          "healthy_left_ALL_run",
          "healthy_left_ALL_run",
          "healthy_left_ALL_run",
          "healthy_left_ALL_run",
          "healthy_left_ALL_run",
          "healthy_left_ALL_run"
         ],
         "xaxis": "x14",
         "y": {
          "bdata": "alyl2Qi2N0D0Bg0gmEUjwC5fTk12c01A6KlDWyMXQcBy9rGiGJgjQBrYq/A61U1AvT8XmWDDNkDEobMZ52UuQHFBiFq14EXAOc7frAEhQUApviu4Ka81QMpAf0RHdgdAQL61IJdmOkB6s3Uz46M0QA757rv8UEfAo4DbN64VPUDAqKb/u7H6P7Wmq/jOJShAVaLvND3eR0CwdizDZectQA==",
          "dtype": "f8"
         },
         "yaxis": "y14"
        },
        {
         "error_y": {
          "array": [
           0.03831138269896796,
           0.0317765650863258,
           0.07678967804876534
          ],
          "type": "data",
          "visible": true
         },
         "marker": {
          "color": [
           "#636EFA",
           "#EF553B",
           "#00CC96"
          ],
          "line": {
           "color": "black",
           "width": 1
          }
         },
         "name": "Mean step velocity X during swing - lHindpaw (m/s)",
         "type": "bar",
         "x": [
          "sick_left_C_run",
          "sick_left_E_run",
          "healthy_left_ALL_run"
         ],
         "xaxis": "x15",
         "y": [
          0.4805036914560966,
          0.4447008447574413,
          0.4886250090482549
         ],
         "yaxis": "y15"
        },
        {
         "marker": {
          "color": "black",
          "opacity": 0.5,
          "size": 6
         },
         "mode": "markers",
         "showlegend": false,
         "type": "scatter",
         "x": [
          "sick_left_C_run",
          "sick_left_C_run",
          "sick_left_C_run",
          "sick_left_C_run",
          "sick_left_C_run",
          "sick_left_C_run",
          "sick_left_C_run",
          "sick_left_C_run",
          "sick_left_C_run",
          "sick_left_C_run"
         ],
         "xaxis": "x15",
         "y": {
          "bdata": "CNSFGQLG3D/xUbDPB/TbPx7zFSPhieA/fyqx2wrG2z/fc0SBcZzcPwf2ejuCQuA/Ry0koA5l4D+OoswL3q3eP1Lpzng1Y+E/LcYGTAaS3j8=",
          "dtype": "f8"
         },
         "yaxis": "y15"
        },
        {
         "marker": {
          "color": "black",
          "opacity": 0.5,
          "size": 6
         },
         "mode": "markers",
         "showlegend": false,
         "type": "scatter",
         "x": [
          "sick_left_E_run",
          "sick_left_E_run",
          "sick_left_E_run",
          "sick_left_E_run",
          "sick_left_E_run",
          "sick_left_E_run",
          "sick_left_E_run",
          "sick_left_E_run",
          "sick_left_E_run",
          "sick_left_E_run"
         ],
         "xaxis": "x15",
         "y": {
          "bdata": "HyadrcUG3z/s8FCDv8/dP4ZiWTnTMtw/NZN5QwIs3D8HuXSohEvaP1giitymYdo/r28zLpEA4D+JBVOkKVHdP/Fe4fVJ/do/n158KK1p2j8=",
          "dtype": "f8"
         },
         "yaxis": "y15"
        },
        {
         "marker": {
          "color": "black",
          "opacity": 0.5,
          "size": 6
         },
         "mode": "markers",
         "showlegend": false,
         "type": "scatter",
         "x": [
          "healthy_left_ALL_run",
          "healthy_left_ALL_run",
          "healthy_left_ALL_run",
          "healthy_left_ALL_run",
          "healthy_left_ALL_run",
          "healthy_left_ALL_run",
          "healthy_left_ALL_run",
          "healthy_left_ALL_run",
          "healthy_left_ALL_run",
          "healthy_left_ALL_run",
          "healthy_left_ALL_run",
          "healthy_left_ALL_run",
          "healthy_left_ALL_run",
          "healthy_left_ALL_run",
          "healthy_left_ALL_run",
          "healthy_left_ALL_run",
          "healthy_left_ALL_run",
          "healthy_left_ALL_run",
          "healthy_left_ALL_run",
          "healthy_left_ALL_run"
         ],
         "xaxis": "x15",
         "y": {
          "bdata": "jANZwkp62j/AQC1aKELZP5D5grVuluA/+wrTk2k53z8eF4yf8JriPym5yIzTcN0/d2m6CUuP3z+6rhHCbvrVP90HCtYCv9w/iBqHhX9S3z9WI+ta18ndP4CEmobgQOE/4geG0z092D/gUX5YCabeP62yk4a3N+E/bQoU01YB3D+m81+ONdXiP29v8eZd1+E/oHYVAzXP3z+K+lEU/CHlPw==",
          "dtype": "f8"
         },
         "yaxis": "y15"
        }
       ],
       "layout": {
        "annotations": [
         {
          "font": {
           "size": 16
          },
          "showarrow": false,
          "text": "step velocity X during stance - ankle (m/s)",
          "x": 0.10625,
          "xanchor": "center",
          "xref": "paper",
          "y": 1,
          "yanchor": "bottom",
          "yref": "paper"
         },
         {
          "font": {
           "size": 16
          },
          "showarrow": false,
          "text": "step velocity X during stance - knee (m/s)",
          "x": 0.36875,
          "xanchor": "center",
          "xref": "paper",
          "y": 1,
          "yanchor": "bottom",
          "yref": "paper"
         },
         {
          "font": {
           "size": 16
          },
          "showarrow": false,
          "text": "step acceleration Y during swing - hip (m/s^2)",
          "x": 0.6312500000000001,
          "xanchor": "center",
          "xref": "paper",
          "y": 1,
          "yanchor": "bottom",
          "yref": "paper"
         },
         {
          "font": {
           "size": 16
          },
          "showarrow": false,
          "text": "angle excursion lHindfingers (°)",
          "x": 0.89375,
          "xanchor": "center",
          "xref": "paper",
          "y": 1,
          "yanchor": "bottom",
          "yref": "paper"
         },
         {
          "font": {
           "size": 16
          },
          "showarrow": false,
          "text": "step jerk Y during swing - knee (m/s^3)",
          "x": 0.10625,
          "xanchor": "center",
          "xref": "paper",
          "y": 0.71875,
          "yanchor": "bottom",
          "yref": "paper"
         },
         {
          "font": {
           "size": 16
          },
          "showarrow": false,
          "text": "step jerk Y during swing - ankle (m/s^3)",
          "x": 0.36875,
          "xanchor": "center",
          "xref": "paper",
          "y": 0.71875,
          "yanchor": "bottom",
          "yref": "paper"
         },
         {
          "font": {
           "size": 16
          },
          "showarrow": false,
          "text": "step jerk Y during stance - ankle (m/s^3)",
          "x": 0.6312500000000001,
          "xanchor": "center",
          "xref": "paper",
          "y": 0.71875,
          "yanchor": "bottom",
          "yref": "paper"
         },
         {
          "font": {
           "size": 16
          },
          "showarrow": false,
          "text": "phase excursion lHindpaw (°)",
          "x": 0.89375,
          "xanchor": "center",
          "xref": "paper",
          "y": 0.71875,
          "yanchor": "bottom",
          "yref": "paper"
         },
         {
          "font": {
           "size": 16
          },
          "showarrow": false,
          "text": "angle excursion lHindpaw (°)",
          "x": 0.10625,
          "xanchor": "center",
          "xref": "paper",
          "y": 0.4375,
          "yanchor": "bottom",
          "yref": "paper"
         },
         {
          "font": {
           "size": 16
          },
          "showarrow": false,
          "text": "step velocity Y during swing - lHindpaw (m/s)",
          "x": 0.36875,
          "xanchor": "center",
          "xref": "paper",
          "y": 0.4375,
          "yanchor": "bottom",
          "yref": "paper"
         },
         {
          "font": {
           "size": 16
          },
          "showarrow": false,
          "text": "step velocity X during swing - lHindfingers (m/s)",
          "x": 0.6312500000000001,
          "xanchor": "center",
          "xref": "paper",
          "y": 0.4375,
          "yanchor": "bottom",
          "yref": "paper"
         },
         {
          "font": {
           "size": 16
          },
          "showarrow": false,
          "text": "step jerk Y during stance - lHindpaw (m/s^3)",
          "x": 0.89375,
          "xanchor": "center",
          "xref": "paper",
          "y": 0.4375,
          "yanchor": "bottom",
          "yref": "paper"
         },
         {
          "font": {
           "size": 16
          },
          "showarrow": false,
          "text": "step acceleration Y during stance - hip (m/s^2)",
          "x": 0.10625,
          "xanchor": "center",
          "xref": "paper",
          "y": 0.15625,
          "yanchor": "bottom",
          "yref": "paper"
         },
         {
          "font": {
           "size": 16
          },
          "showarrow": false,
          "text": "step jerk Y during swing - lHindpaw (m/s^3)",
          "x": 0.36875,
          "xanchor": "center",
          "xref": "paper",
          "y": 0.15625,
          "yanchor": "bottom",
          "yref": "paper"
         },
         {
          "font": {
           "size": 16
          },
          "showarrow": false,
          "text": "step velocity X during swing - lHindpaw (m/s)",
          "x": 0.6312500000000001,
          "xanchor": "center",
          "xref": "paper",
          "y": 0.15625,
          "yanchor": "bottom",
          "yref": "paper"
         }
        ],
        "height": 2000,
        "plot_bgcolor": "rgba(0,0,0,0)",
        "showlegend": false,
        "template": {
         "data": {
          "bar": [
           {
            "error_x": {
             "color": "#2a3f5f"
            },
            "error_y": {
             "color": "#2a3f5f"
            },
            "marker": {
             "line": {
              "color": "#E5ECF6",
              "width": 0.5
             },
             "pattern": {
              "fillmode": "overlay",
              "size": 10,
              "solidity": 0.2
             }
            },
            "type": "bar"
           }
          ],
          "barpolar": [
           {
            "marker": {
             "line": {
              "color": "#E5ECF6",
              "width": 0.5
             },
             "pattern": {
              "fillmode": "overlay",
              "size": 10,
              "solidity": 0.2
             }
            },
            "type": "barpolar"
           }
          ],
          "carpet": [
           {
            "aaxis": {
             "endlinecolor": "#2a3f5f",
             "gridcolor": "white",
             "linecolor": "white",
             "minorgridcolor": "white",
             "startlinecolor": "#2a3f5f"
            },
            "baxis": {
             "endlinecolor": "#2a3f5f",
             "gridcolor": "white",
             "linecolor": "white",
             "minorgridcolor": "white",
             "startlinecolor": "#2a3f5f"
            },
            "type": "carpet"
           }
          ],
          "choropleth": [
           {
            "colorbar": {
             "outlinewidth": 0,
             "ticks": ""
            },
            "type": "choropleth"
           }
          ],
          "contour": [
           {
            "colorbar": {
             "outlinewidth": 0,
             "ticks": ""
            },
            "colorscale": [
             [
              0,
              "#0d0887"
             ],
             [
              0.1111111111111111,
              "#46039f"
             ],
             [
              0.2222222222222222,
              "#7201a8"
             ],
             [
              0.3333333333333333,
              "#9c179e"
             ],
             [
              0.4444444444444444,
              "#bd3786"
             ],
             [
              0.5555555555555556,
              "#d8576b"
             ],
             [
              0.6666666666666666,
              "#ed7953"
             ],
             [
              0.7777777777777778,
              "#fb9f3a"
             ],
             [
              0.8888888888888888,
              "#fdca26"
             ],
             [
              1,
              "#f0f921"
             ]
            ],
            "type": "contour"
           }
          ],
          "contourcarpet": [
           {
            "colorbar": {
             "outlinewidth": 0,
             "ticks": ""
            },
            "type": "contourcarpet"
           }
          ],
          "heatmap": [
           {
            "colorbar": {
             "outlinewidth": 0,
             "ticks": ""
            },
            "colorscale": [
             [
              0,
              "#0d0887"
             ],
             [
              0.1111111111111111,
              "#46039f"
             ],
             [
              0.2222222222222222,
              "#7201a8"
             ],
             [
              0.3333333333333333,
              "#9c179e"
             ],
             [
              0.4444444444444444,
              "#bd3786"
             ],
             [
              0.5555555555555556,
              "#d8576b"
             ],
             [
              0.6666666666666666,
              "#ed7953"
             ],
             [
              0.7777777777777778,
              "#fb9f3a"
             ],
             [
              0.8888888888888888,
              "#fdca26"
             ],
             [
              1,
              "#f0f921"
             ]
            ],
            "type": "heatmap"
           }
          ],
          "histogram": [
           {
            "marker": {
             "pattern": {
              "fillmode": "overlay",
              "size": 10,
              "solidity": 0.2
             }
            },
            "type": "histogram"
           }
          ],
          "histogram2d": [
           {
            "colorbar": {
             "outlinewidth": 0,
             "ticks": ""
            },
            "colorscale": [
             [
              0,
              "#0d0887"
             ],
             [
              0.1111111111111111,
              "#46039f"
             ],
             [
              0.2222222222222222,
              "#7201a8"
             ],
             [
              0.3333333333333333,
              "#9c179e"
             ],
             [
              0.4444444444444444,
              "#bd3786"
             ],
             [
              0.5555555555555556,
              "#d8576b"
             ],
             [
              0.6666666666666666,
              "#ed7953"
             ],
             [
              0.7777777777777778,
              "#fb9f3a"
             ],
             [
              0.8888888888888888,
              "#fdca26"
             ],
             [
              1,
              "#f0f921"
             ]
            ],
            "type": "histogram2d"
           }
          ],
          "histogram2dcontour": [
           {
            "colorbar": {
             "outlinewidth": 0,
             "ticks": ""
            },
            "colorscale": [
             [
              0,
              "#0d0887"
             ],
             [
              0.1111111111111111,
              "#46039f"
             ],
             [
              0.2222222222222222,
              "#7201a8"
             ],
             [
              0.3333333333333333,
              "#9c179e"
             ],
             [
              0.4444444444444444,
              "#bd3786"
             ],
             [
              0.5555555555555556,
              "#d8576b"
             ],
             [
              0.6666666666666666,
              "#ed7953"
             ],
             [
              0.7777777777777778,
              "#fb9f3a"
             ],
             [
              0.8888888888888888,
              "#fdca26"
             ],
             [
              1,
              "#f0f921"
             ]
            ],
            "type": "histogram2dcontour"
           }
          ],
          "mesh3d": [
           {
            "colorbar": {
             "outlinewidth": 0,
             "ticks": ""
            },
            "type": "mesh3d"
           }
          ],
          "parcoords": [
           {
            "line": {
             "colorbar": {
              "outlinewidth": 0,
              "ticks": ""
             }
            },
            "type": "parcoords"
           }
          ],
          "pie": [
           {
            "automargin": true,
            "type": "pie"
           }
          ],
          "scatter": [
           {
            "fillpattern": {
             "fillmode": "overlay",
             "size": 10,
             "solidity": 0.2
            },
            "type": "scatter"
           }
          ],
          "scatter3d": [
           {
            "line": {
             "colorbar": {
              "outlinewidth": 0,
              "ticks": ""
             }
            },
            "marker": {
             "colorbar": {
              "outlinewidth": 0,
              "ticks": ""
             }
            },
            "type": "scatter3d"
           }
          ],
          "scattercarpet": [
           {
            "marker": {
             "colorbar": {
              "outlinewidth": 0,
              "ticks": ""
             }
            },
            "type": "scattercarpet"
           }
          ],
          "scattergeo": [
           {
            "marker": {
             "colorbar": {
              "outlinewidth": 0,
              "ticks": ""
             }
            },
            "type": "scattergeo"
           }
          ],
          "scattergl": [
           {
            "marker": {
             "colorbar": {
              "outlinewidth": 0,
              "ticks": ""
             }
            },
            "type": "scattergl"
           }
          ],
          "scattermap": [
           {
            "marker": {
             "colorbar": {
              "outlinewidth": 0,
              "ticks": ""
             }
            },
            "type": "scattermap"
           }
          ],
          "scattermapbox": [
           {
            "marker": {
             "colorbar": {
              "outlinewidth": 0,
              "ticks": ""
             }
            },
            "type": "scattermapbox"
           }
          ],
          "scatterpolar": [
           {
            "marker": {
             "colorbar": {
              "outlinewidth": 0,
              "ticks": ""
             }
            },
            "type": "scatterpolar"
           }
          ],
          "scatterpolargl": [
           {
            "marker": {
             "colorbar": {
              "outlinewidth": 0,
              "ticks": ""
             }
            },
            "type": "scatterpolargl"
           }
          ],
          "scatterternary": [
           {
            "marker": {
             "colorbar": {
              "outlinewidth": 0,
              "ticks": ""
             }
            },
            "type": "scatterternary"
           }
          ],
          "surface": [
           {
            "colorbar": {
             "outlinewidth": 0,
             "ticks": ""
            },
            "colorscale": [
             [
              0,
              "#0d0887"
             ],
             [
              0.1111111111111111,
              "#46039f"
             ],
             [
              0.2222222222222222,
              "#7201a8"
             ],
             [
              0.3333333333333333,
              "#9c179e"
             ],
             [
              0.4444444444444444,
              "#bd3786"
             ],
             [
              0.5555555555555556,
              "#d8576b"
             ],
             [
              0.6666666666666666,
              "#ed7953"
             ],
             [
              0.7777777777777778,
              "#fb9f3a"
             ],
             [
              0.8888888888888888,
              "#fdca26"
             ],
             [
              1,
              "#f0f921"
             ]
            ],
            "type": "surface"
           }
          ],
          "table": [
           {
            "cells": {
             "fill": {
              "color": "#EBF0F8"
             },
             "line": {
              "color": "white"
             }
            },
            "header": {
             "fill": {
              "color": "#C8D4E3"
             },
             "line": {
              "color": "white"
             }
            },
            "type": "table"
           }
          ]
         },
         "layout": {
          "annotationdefaults": {
           "arrowcolor": "#2a3f5f",
           "arrowhead": 0,
           "arrowwidth": 1
          },
          "autotypenumbers": "strict",
          "coloraxis": {
           "colorbar": {
            "outlinewidth": 0,
            "ticks": ""
           }
          },
          "colorscale": {
           "diverging": [
            [
             0,
             "#8e0152"
            ],
            [
             0.1,
             "#c51b7d"
            ],
            [
             0.2,
             "#de77ae"
            ],
            [
             0.3,
             "#f1b6da"
            ],
            [
             0.4,
             "#fde0ef"
            ],
            [
             0.5,
             "#f7f7f7"
            ],
            [
             0.6,
             "#e6f5d0"
            ],
            [
             0.7,
             "#b8e186"
            ],
            [
             0.8,
             "#7fbc41"
            ],
            [
             0.9,
             "#4d9221"
            ],
            [
             1,
             "#276419"
            ]
           ],
           "sequential": [
            [
             0,
             "#0d0887"
            ],
            [
             0.1111111111111111,
             "#46039f"
            ],
            [
             0.2222222222222222,
             "#7201a8"
            ],
            [
             0.3333333333333333,
             "#9c179e"
            ],
            [
             0.4444444444444444,
             "#bd3786"
            ],
            [
             0.5555555555555556,
             "#d8576b"
            ],
            [
             0.6666666666666666,
             "#ed7953"
            ],
            [
             0.7777777777777778,
             "#fb9f3a"
            ],
            [
             0.8888888888888888,
             "#fdca26"
            ],
            [
             1,
             "#f0f921"
            ]
           ],
           "sequentialminus": [
            [
             0,
             "#0d0887"
            ],
            [
             0.1111111111111111,
             "#46039f"
            ],
            [
             0.2222222222222222,
             "#7201a8"
            ],
            [
             0.3333333333333333,
             "#9c179e"
            ],
            [
             0.4444444444444444,
             "#bd3786"
            ],
            [
             0.5555555555555556,
             "#d8576b"
            ],
            [
             0.6666666666666666,
             "#ed7953"
            ],
            [
             0.7777777777777778,
             "#fb9f3a"
            ],
            [
             0.8888888888888888,
             "#fdca26"
            ],
            [
             1,
             "#f0f921"
            ]
           ]
          },
          "colorway": [
           "#636efa",
           "#EF553B",
           "#00cc96",
           "#ab63fa",
           "#FFA15A",
           "#19d3f3",
           "#FF6692",
           "#B6E880",
           "#FF97FF",
           "#FECB52"
          ],
          "font": {
           "color": "#2a3f5f"
          },
          "geo": {
           "bgcolor": "white",
           "lakecolor": "white",
           "landcolor": "#E5ECF6",
           "showlakes": true,
           "showland": true,
           "subunitcolor": "white"
          },
          "hoverlabel": {
           "align": "left"
          },
          "hovermode": "closest",
          "mapbox": {
           "style": "light"
          },
          "paper_bgcolor": "white",
          "plot_bgcolor": "#E5ECF6",
          "polar": {
           "angularaxis": {
            "gridcolor": "white",
            "linecolor": "white",
            "ticks": ""
           },
           "bgcolor": "#E5ECF6",
           "radialaxis": {
            "gridcolor": "white",
            "linecolor": "white",
            "ticks": ""
           }
          },
          "scene": {
           "xaxis": {
            "backgroundcolor": "#E5ECF6",
            "gridcolor": "white",
            "gridwidth": 2,
            "linecolor": "white",
            "showbackground": true,
            "ticks": "",
            "zerolinecolor": "white"
           },
           "yaxis": {
            "backgroundcolor": "#E5ECF6",
            "gridcolor": "white",
            "gridwidth": 2,
            "linecolor": "white",
            "showbackground": true,
            "ticks": "",
            "zerolinecolor": "white"
           },
           "zaxis": {
            "backgroundcolor": "#E5ECF6",
            "gridcolor": "white",
            "gridwidth": 2,
            "linecolor": "white",
            "showbackground": true,
            "ticks": "",
            "zerolinecolor": "white"
           }
          },
          "shapedefaults": {
           "line": {
            "color": "#2a3f5f"
           }
          },
          "ternary": {
           "aaxis": {
            "gridcolor": "white",
            "linecolor": "white",
            "ticks": ""
           },
           "baxis": {
            "gridcolor": "white",
            "linecolor": "white",
            "ticks": ""
           },
           "bgcolor": "#E5ECF6",
           "caxis": {
            "gridcolor": "white",
            "linecolor": "white",
            "ticks": ""
           }
          },
          "title": {
           "x": 0.05
          },
          "xaxis": {
           "automargin": true,
           "gridcolor": "white",
           "linecolor": "white",
           "ticks": "",
           "title": {
            "standoff": 15
           },
           "zerolinecolor": "white",
           "zerolinewidth": 2
          },
          "yaxis": {
           "automargin": true,
           "gridcolor": "white",
           "linecolor": "white",
           "ticks": "",
           "title": {
            "standoff": 15
           },
           "zerolinecolor": "white",
           "zerolinewidth": 2
          }
         }
        },
        "title": {
         "text": "Selected Features Across Groups"
        },
        "width": 1600,
        "xaxis": {
         "anchor": "y",
         "domain": [
          0,
          0.2125
         ]
        },
        "xaxis10": {
         "anchor": "y10",
         "domain": [
          0.2625,
          0.475
         ]
        },
        "xaxis11": {
         "anchor": "y11",
         "domain": [
          0.525,
          0.7375
         ]
        },
        "xaxis12": {
         "anchor": "y12",
         "domain": [
          0.7875,
          1
         ]
        },
        "xaxis13": {
         "anchor": "y13",
         "domain": [
          0,
          0.2125
         ]
        },
        "xaxis14": {
         "anchor": "y14",
         "domain": [
          0.2625,
          0.475
         ]
        },
        "xaxis15": {
         "anchor": "y15",
         "domain": [
          0.525,
          0.7375
         ]
        },
        "xaxis16": {
         "anchor": "y16",
         "domain": [
          0.7875,
          1
         ]
        },
        "xaxis2": {
         "anchor": "y2",
         "domain": [
          0.2625,
          0.475
         ]
        },
        "xaxis3": {
         "anchor": "y3",
         "domain": [
          0.525,
          0.7375
         ]
        },
        "xaxis4": {
         "anchor": "y4",
         "domain": [
          0.7875,
          1
         ]
        },
        "xaxis5": {
         "anchor": "y5",
         "domain": [
          0,
          0.2125
         ]
        },
        "xaxis6": {
         "anchor": "y6",
         "domain": [
          0.2625,
          0.475
         ]
        },
        "xaxis7": {
         "anchor": "y7",
         "domain": [
          0.525,
          0.7375
         ]
        },
        "xaxis8": {
         "anchor": "y8",
         "domain": [
          0.7875,
          1
         ]
        },
        "xaxis9": {
         "anchor": "y9",
         "domain": [
          0,
          0.2125
         ]
        },
        "yaxis": {
         "anchor": "x",
         "domain": [
          0.84375,
          1
         ]
        },
        "yaxis10": {
         "anchor": "x10",
         "domain": [
          0.28125,
          0.4375
         ]
        },
        "yaxis11": {
         "anchor": "x11",
         "domain": [
          0.28125,
          0.4375
         ]
        },
        "yaxis12": {
         "anchor": "x12",
         "domain": [
          0.28125,
          0.4375
         ]
        },
        "yaxis13": {
         "anchor": "x13",
         "domain": [
          0,
          0.15625
         ]
        },
        "yaxis14": {
         "anchor": "x14",
         "domain": [
          0,
          0.15625
         ]
        },
        "yaxis15": {
         "anchor": "x15",
         "domain": [
          0,
          0.15625
         ]
        },
        "yaxis16": {
         "anchor": "x16",
         "domain": [
          0,
          0.15625
         ]
        },
        "yaxis2": {
         "anchor": "x2",
         "domain": [
          0.84375,
          1
         ]
        },
        "yaxis3": {
         "anchor": "x3",
         "domain": [
          0.84375,
          1
         ]
        },
        "yaxis4": {
         "anchor": "x4",
         "domain": [
          0.84375,
          1
         ]
        },
        "yaxis5": {
         "anchor": "x5",
         "domain": [
          0.5625,
          0.71875
         ]
        },
        "yaxis6": {
         "anchor": "x6",
         "domain": [
          0.5625,
          0.71875
         ]
        },
        "yaxis7": {
         "anchor": "x7",
         "domain": [
          0.5625,
          0.71875
         ]
        },
        "yaxis8": {
         "anchor": "x8",
         "domain": [
          0.5625,
          0.71875
         ]
        },
        "yaxis9": {
         "anchor": "x9",
         "domain": [
          0.28125,
          0.4375
         ]
        }
       }
      }
     },
     "metadata": {},
     "output_type": "display_data"
    }
   ],
   "source": [
    "# healthy_left_hindlimb_features_df\n",
    "# sick_left_hindlimb_features_df\n",
    "# treatment_left_hindlimb_features_df\n",
    "\n",
    "## Compare the statistically significant results against the e_sick group\n",
    "print(f\"Number of features: {len(res_df)}\")\n",
    "\n",
    "## remove all the features in all_vs_c_df that have ' at ' in the name\n",
    "all_vs_c_df = all_vs_c_df[~all_vs_c_df['feature'].str.contains(' at ', case=False)]\n",
    "print(f\"Number of significant features that describe the lesion effect: {len(all_vs_c_df)}\")\n",
    "\n",
    "res_df_lesion = res_df[res_df['feature'].isin(all_vs_c_df['feature'])]\n",
    "\n",
    "print(f\"Number selected lesion features affected by the treatment: {len(res_df_lesion)}\")\n",
    "print(f\"Lesion features affected by the treatment:\\n{res_df_lesion.head()}\")\n",
    "print(f\"Number of features going towards healthy: {len(res_df_lesion[res_df_lesion['direction'] == 'towards_healthy'])}\")\n",
    "print(res_df_lesion['feature'][res_df_lesion['direction'] == 'towards_healthy'].to_list())\n",
    "print(f\"Number of features worsening: {len(res_df_lesion[res_df_lesion['direction'] == 'away_from_healthy'])}\")\n",
    "print(res_df_lesion['feature'][res_df_lesion['direction'] == 'away_from_healthy'].to_list())\n",
    "\n",
    "## Compare all healthy vs treatment to see non-pathology-related features\n",
    "healthy_vs_treatment_df = all_vs_e_df[~all_vs_e_df['feature'].str.contains(' at ', case=False)]\n",
    "print(f\"\\nNumber of significant features affected by the treatment: {len(healthy_vs_treatment_df)}\")\n",
    "## Remove the features that are in the lesion effect\n",
    "_healthy_vs_treatment_df = healthy_vs_treatment_df[~healthy_vs_treatment_df['feature'].isin(all_vs_c_df['feature'])]\n",
    "\n",
    "res_df_treatment = res_df[res_df['feature'].isin(_healthy_vs_treatment_df['feature'])]\n",
    "print(f\"Number of selected features that are not pathological: {len(res_df_treatment)}\")\n",
    "\n",
    "print(f\"Non-pathological features: {res_df_treatment.head()}\")\n",
    "print(f\"Number of features going towards healthy: {len(res_df_treatment[res_df_treatment['direction'] == 'towards_healthy'])}\")\n",
    "print(res_df_treatment['feature'][res_df_treatment['direction'] == 'towards_healthy'].to_list())\n",
    "print(f\"Number of features worsening: {len(res_df_treatment[res_df_treatment['direction'] == 'away_from_healthy'])}\")\n",
    "print(res_df_treatment['feature'][res_df_treatment['direction'] == 'away_from_healthy'].to_list())\n",
    "\n",
    "## Get the number of features that are influenced by the treatment and part of pathology\n",
    "\n",
    "\n",
    "res_df_lesion.to_csv(os.path.join('./', 'lesion_features_affected_by_treatment.csv'), index=False)\n",
    "res_df_treatment.to_csv(os.path.join('./', 'non_pathological_features_affected_by_treatment.csv'), index=False)\n",
    "\n",
    "fig_lesion = plot_features_list_across_groups(\n",
    "    feature_list=res_df_lesion['feature'].tolist(),\n",
    "    feature_subsets=feature_subsets,\n",
    "    limb='hindlimb',\n",
    "    sides=['left'],  # or ['left', 'right']\n",
    "    groups=['healthy_left_ALL_', 'sick_left_C_', 'sick_left_E_'] \n",
    ")\n",
    "\n",
    "fig_non_path = plot_features_list_across_groups(\n",
    "    feature_list=res_df_treatment['feature'].tolist(),\n",
    "    feature_subsets=feature_subsets,\n",
    "    limb='hindlimb',\n",
    "    sides=['left'],\n",
    "    groups=['healthy_left_ALL_', 'sick_left_C_', 'sick_left_E_'] \n",
    ")\n",
    "\n",
    "fig_lesion.show()\n",
    "fig_non_path.show()\n",
    "\n",
    "fig_lesion.write_image(\"lesion_features.svg\", scale = 2)\n",
    "fig_non_path.write_image(\"non_pathological_features.svg\", scale = 2)\n",
    "\n",
    "# umap of significant only. remove E from CBE X\n",
    "# targeted questions: features that describe the state (healthy vs sick). How many are influenced by the treatment? X \n",
    "# show in plot form, 2 relevant parameters only, 1 average of all (show effect)\n",
    "# venn diagram / pie chart of number of features X"
   ]
  },
  {
   "cell_type": "code",
   "execution_count": 32,
   "id": "b266178c",
   "metadata": {},
   "outputs": [
    {
     "name": "stdout",
     "output_type": "stream",
     "text": [
      "2685 1341 385 228 114 43\n",
      "Number of analyzed features: 157\n"
     ]
    },
    {
     "data": {
      "application/vnd.plotly.v1+json": {
       "config": {
        "plotlyServerURL": "https://plot.ly"
       },
       "data": [
        {
         "labels": [
          "STD Features",
          "Hindlimb Mean Features",
          "Mean Features"
         ],
         "pull": [
          0,
          0.2,
          0
         ],
         "type": "pie",
         "values": [
          1341,
          385,
          959
         ]
        }
       ],
       "layout": {
        "height": 400,
        "legend": {
         "title": {
          "font": {
           "size": 18
          },
          "text": "Feature Types"
         }
        },
        "template": {
         "data": {
          "bar": [
           {
            "error_x": {
             "color": "#2a3f5f"
            },
            "error_y": {
             "color": "#2a3f5f"
            },
            "marker": {
             "line": {
              "color": "#E5ECF6",
              "width": 0.5
             },
             "pattern": {
              "fillmode": "overlay",
              "size": 10,
              "solidity": 0.2
             }
            },
            "type": "bar"
           }
          ],
          "barpolar": [
           {
            "marker": {
             "line": {
              "color": "#E5ECF6",
              "width": 0.5
             },
             "pattern": {
              "fillmode": "overlay",
              "size": 10,
              "solidity": 0.2
             }
            },
            "type": "barpolar"
           }
          ],
          "carpet": [
           {
            "aaxis": {
             "endlinecolor": "#2a3f5f",
             "gridcolor": "white",
             "linecolor": "white",
             "minorgridcolor": "white",
             "startlinecolor": "#2a3f5f"
            },
            "baxis": {
             "endlinecolor": "#2a3f5f",
             "gridcolor": "white",
             "linecolor": "white",
             "minorgridcolor": "white",
             "startlinecolor": "#2a3f5f"
            },
            "type": "carpet"
           }
          ],
          "choropleth": [
           {
            "colorbar": {
             "outlinewidth": 0,
             "ticks": ""
            },
            "type": "choropleth"
           }
          ],
          "contour": [
           {
            "colorbar": {
             "outlinewidth": 0,
             "ticks": ""
            },
            "colorscale": [
             [
              0,
              "#0d0887"
             ],
             [
              0.1111111111111111,
              "#46039f"
             ],
             [
              0.2222222222222222,
              "#7201a8"
             ],
             [
              0.3333333333333333,
              "#9c179e"
             ],
             [
              0.4444444444444444,
              "#bd3786"
             ],
             [
              0.5555555555555556,
              "#d8576b"
             ],
             [
              0.6666666666666666,
              "#ed7953"
             ],
             [
              0.7777777777777778,
              "#fb9f3a"
             ],
             [
              0.8888888888888888,
              "#fdca26"
             ],
             [
              1,
              "#f0f921"
             ]
            ],
            "type": "contour"
           }
          ],
          "contourcarpet": [
           {
            "colorbar": {
             "outlinewidth": 0,
             "ticks": ""
            },
            "type": "contourcarpet"
           }
          ],
          "heatmap": [
           {
            "colorbar": {
             "outlinewidth": 0,
             "ticks": ""
            },
            "colorscale": [
             [
              0,
              "#0d0887"
             ],
             [
              0.1111111111111111,
              "#46039f"
             ],
             [
              0.2222222222222222,
              "#7201a8"
             ],
             [
              0.3333333333333333,
              "#9c179e"
             ],
             [
              0.4444444444444444,
              "#bd3786"
             ],
             [
              0.5555555555555556,
              "#d8576b"
             ],
             [
              0.6666666666666666,
              "#ed7953"
             ],
             [
              0.7777777777777778,
              "#fb9f3a"
             ],
             [
              0.8888888888888888,
              "#fdca26"
             ],
             [
              1,
              "#f0f921"
             ]
            ],
            "type": "heatmap"
           }
          ],
          "histogram": [
           {
            "marker": {
             "pattern": {
              "fillmode": "overlay",
              "size": 10,
              "solidity": 0.2
             }
            },
            "type": "histogram"
           }
          ],
          "histogram2d": [
           {
            "colorbar": {
             "outlinewidth": 0,
             "ticks": ""
            },
            "colorscale": [
             [
              0,
              "#0d0887"
             ],
             [
              0.1111111111111111,
              "#46039f"
             ],
             [
              0.2222222222222222,
              "#7201a8"
             ],
             [
              0.3333333333333333,
              "#9c179e"
             ],
             [
              0.4444444444444444,
              "#bd3786"
             ],
             [
              0.5555555555555556,
              "#d8576b"
             ],
             [
              0.6666666666666666,
              "#ed7953"
             ],
             [
              0.7777777777777778,
              "#fb9f3a"
             ],
             [
              0.8888888888888888,
              "#fdca26"
             ],
             [
              1,
              "#f0f921"
             ]
            ],
            "type": "histogram2d"
           }
          ],
          "histogram2dcontour": [
           {
            "colorbar": {
             "outlinewidth": 0,
             "ticks": ""
            },
            "colorscale": [
             [
              0,
              "#0d0887"
             ],
             [
              0.1111111111111111,
              "#46039f"
             ],
             [
              0.2222222222222222,
              "#7201a8"
             ],
             [
              0.3333333333333333,
              "#9c179e"
             ],
             [
              0.4444444444444444,
              "#bd3786"
             ],
             [
              0.5555555555555556,
              "#d8576b"
             ],
             [
              0.6666666666666666,
              "#ed7953"
             ],
             [
              0.7777777777777778,
              "#fb9f3a"
             ],
             [
              0.8888888888888888,
              "#fdca26"
             ],
             [
              1,
              "#f0f921"
             ]
            ],
            "type": "histogram2dcontour"
           }
          ],
          "mesh3d": [
           {
            "colorbar": {
             "outlinewidth": 0,
             "ticks": ""
            },
            "type": "mesh3d"
           }
          ],
          "parcoords": [
           {
            "line": {
             "colorbar": {
              "outlinewidth": 0,
              "ticks": ""
             }
            },
            "type": "parcoords"
           }
          ],
          "pie": [
           {
            "automargin": true,
            "type": "pie"
           }
          ],
          "scatter": [
           {
            "fillpattern": {
             "fillmode": "overlay",
             "size": 10,
             "solidity": 0.2
            },
            "type": "scatter"
           }
          ],
          "scatter3d": [
           {
            "line": {
             "colorbar": {
              "outlinewidth": 0,
              "ticks": ""
             }
            },
            "marker": {
             "colorbar": {
              "outlinewidth": 0,
              "ticks": ""
             }
            },
            "type": "scatter3d"
           }
          ],
          "scattercarpet": [
           {
            "marker": {
             "colorbar": {
              "outlinewidth": 0,
              "ticks": ""
             }
            },
            "type": "scattercarpet"
           }
          ],
          "scattergeo": [
           {
            "marker": {
             "colorbar": {
              "outlinewidth": 0,
              "ticks": ""
             }
            },
            "type": "scattergeo"
           }
          ],
          "scattergl": [
           {
            "marker": {
             "colorbar": {
              "outlinewidth": 0,
              "ticks": ""
             }
            },
            "type": "scattergl"
           }
          ],
          "scattermap": [
           {
            "marker": {
             "colorbar": {
              "outlinewidth": 0,
              "ticks": ""
             }
            },
            "type": "scattermap"
           }
          ],
          "scattermapbox": [
           {
            "marker": {
             "colorbar": {
              "outlinewidth": 0,
              "ticks": ""
             }
            },
            "type": "scattermapbox"
           }
          ],
          "scatterpolar": [
           {
            "marker": {
             "colorbar": {
              "outlinewidth": 0,
              "ticks": ""
             }
            },
            "type": "scatterpolar"
           }
          ],
          "scatterpolargl": [
           {
            "marker": {
             "colorbar": {
              "outlinewidth": 0,
              "ticks": ""
             }
            },
            "type": "scatterpolargl"
           }
          ],
          "scatterternary": [
           {
            "marker": {
             "colorbar": {
              "outlinewidth": 0,
              "ticks": ""
             }
            },
            "type": "scatterternary"
           }
          ],
          "surface": [
           {
            "colorbar": {
             "outlinewidth": 0,
             "ticks": ""
            },
            "colorscale": [
             [
              0,
              "#0d0887"
             ],
             [
              0.1111111111111111,
              "#46039f"
             ],
             [
              0.2222222222222222,
              "#7201a8"
             ],
             [
              0.3333333333333333,
              "#9c179e"
             ],
             [
              0.4444444444444444,
              "#bd3786"
             ],
             [
              0.5555555555555556,
              "#d8576b"
             ],
             [
              0.6666666666666666,
              "#ed7953"
             ],
             [
              0.7777777777777778,
              "#fb9f3a"
             ],
             [
              0.8888888888888888,
              "#fdca26"
             ],
             [
              1,
              "#f0f921"
             ]
            ],
            "type": "surface"
           }
          ],
          "table": [
           {
            "cells": {
             "fill": {
              "color": "#EBF0F8"
             },
             "line": {
              "color": "white"
             }
            },
            "header": {
             "fill": {
              "color": "#C8D4E3"
             },
             "line": {
              "color": "white"
             }
            },
            "type": "table"
           }
          ]
         },
         "layout": {
          "annotationdefaults": {
           "arrowcolor": "#2a3f5f",
           "arrowhead": 0,
           "arrowwidth": 1
          },
          "autotypenumbers": "strict",
          "coloraxis": {
           "colorbar": {
            "outlinewidth": 0,
            "ticks": ""
           }
          },
          "colorscale": {
           "diverging": [
            [
             0,
             "#8e0152"
            ],
            [
             0.1,
             "#c51b7d"
            ],
            [
             0.2,
             "#de77ae"
            ],
            [
             0.3,
             "#f1b6da"
            ],
            [
             0.4,
             "#fde0ef"
            ],
            [
             0.5,
             "#f7f7f7"
            ],
            [
             0.6,
             "#e6f5d0"
            ],
            [
             0.7,
             "#b8e186"
            ],
            [
             0.8,
             "#7fbc41"
            ],
            [
             0.9,
             "#4d9221"
            ],
            [
             1,
             "#276419"
            ]
           ],
           "sequential": [
            [
             0,
             "#0d0887"
            ],
            [
             0.1111111111111111,
             "#46039f"
            ],
            [
             0.2222222222222222,
             "#7201a8"
            ],
            [
             0.3333333333333333,
             "#9c179e"
            ],
            [
             0.4444444444444444,
             "#bd3786"
            ],
            [
             0.5555555555555556,
             "#d8576b"
            ],
            [
             0.6666666666666666,
             "#ed7953"
            ],
            [
             0.7777777777777778,
             "#fb9f3a"
            ],
            [
             0.8888888888888888,
             "#fdca26"
            ],
            [
             1,
             "#f0f921"
            ]
           ],
           "sequentialminus": [
            [
             0,
             "#0d0887"
            ],
            [
             0.1111111111111111,
             "#46039f"
            ],
            [
             0.2222222222222222,
             "#7201a8"
            ],
            [
             0.3333333333333333,
             "#9c179e"
            ],
            [
             0.4444444444444444,
             "#bd3786"
            ],
            [
             0.5555555555555556,
             "#d8576b"
            ],
            [
             0.6666666666666666,
             "#ed7953"
            ],
            [
             0.7777777777777778,
             "#fb9f3a"
            ],
            [
             0.8888888888888888,
             "#fdca26"
            ],
            [
             1,
             "#f0f921"
            ]
           ]
          },
          "colorway": [
           "#636efa",
           "#EF553B",
           "#00cc96",
           "#ab63fa",
           "#FFA15A",
           "#19d3f3",
           "#FF6692",
           "#B6E880",
           "#FF97FF",
           "#FECB52"
          ],
          "font": {
           "color": "#2a3f5f"
          },
          "geo": {
           "bgcolor": "white",
           "lakecolor": "white",
           "landcolor": "#E5ECF6",
           "showlakes": true,
           "showland": true,
           "subunitcolor": "white"
          },
          "hoverlabel": {
           "align": "left"
          },
          "hovermode": "closest",
          "mapbox": {
           "style": "light"
          },
          "paper_bgcolor": "white",
          "plot_bgcolor": "#E5ECF6",
          "polar": {
           "angularaxis": {
            "gridcolor": "white",
            "linecolor": "white",
            "ticks": ""
           },
           "bgcolor": "#E5ECF6",
           "radialaxis": {
            "gridcolor": "white",
            "linecolor": "white",
            "ticks": ""
           }
          },
          "scene": {
           "xaxis": {
            "backgroundcolor": "#E5ECF6",
            "gridcolor": "white",
            "gridwidth": 2,
            "linecolor": "white",
            "showbackground": true,
            "ticks": "",
            "zerolinecolor": "white"
           },
           "yaxis": {
            "backgroundcolor": "#E5ECF6",
            "gridcolor": "white",
            "gridwidth": 2,
            "linecolor": "white",
            "showbackground": true,
            "ticks": "",
            "zerolinecolor": "white"
           },
           "zaxis": {
            "backgroundcolor": "#E5ECF6",
            "gridcolor": "white",
            "gridwidth": 2,
            "linecolor": "white",
            "showbackground": true,
            "ticks": "",
            "zerolinecolor": "white"
           }
          },
          "shapedefaults": {
           "line": {
            "color": "#2a3f5f"
           }
          },
          "ternary": {
           "aaxis": {
            "gridcolor": "white",
            "linecolor": "white",
            "ticks": ""
           },
           "baxis": {
            "gridcolor": "white",
            "linecolor": "white",
            "ticks": ""
           },
           "bgcolor": "#E5ECF6",
           "caxis": {
            "gridcolor": "white",
            "linecolor": "white",
            "ticks": ""
           }
          },
          "title": {
           "x": 0.05
          },
          "xaxis": {
           "automargin": true,
           "gridcolor": "white",
           "linecolor": "white",
           "ticks": "",
           "title": {
            "standoff": 15
           },
           "zerolinecolor": "white",
           "zerolinewidth": 2
          },
          "yaxis": {
           "automargin": true,
           "gridcolor": "white",
           "linecolor": "white",
           "ticks": "",
           "title": {
            "standoff": 15
           },
           "zerolinecolor": "white",
           "zerolinewidth": 2
          }
         }
        },
        "title": {
         "font": {
          "size": 24
         },
         "text": "Feature Distribution"
        },
        "width": 600
       }
      }
     },
     "metadata": {},
     "output_type": "display_data"
    },
    {
     "data": {
      "application/vnd.plotly.v1+json": {
       "config": {
        "plotlyServerURL": "https://plot.ly"
       },
       "data": [
        {
         "labels": [
          "Step Features",
          "Features at timepoint",
          "Feature during phase"
         ],
         "pull": [
          0,
          0.2,
          0
         ],
         "type": "pie",
         "values": [
          43,
          228,
          114
         ]
        }
       ],
       "layout": {
        "height": 400,
        "legend": {
         "title": {
          "font": {
           "size": 18
          },
          "text": "Feature Types"
         }
        },
        "template": {
         "data": {
          "bar": [
           {
            "error_x": {
             "color": "#2a3f5f"
            },
            "error_y": {
             "color": "#2a3f5f"
            },
            "marker": {
             "line": {
              "color": "#E5ECF6",
              "width": 0.5
             },
             "pattern": {
              "fillmode": "overlay",
              "size": 10,
              "solidity": 0.2
             }
            },
            "type": "bar"
           }
          ],
          "barpolar": [
           {
            "marker": {
             "line": {
              "color": "#E5ECF6",
              "width": 0.5
             },
             "pattern": {
              "fillmode": "overlay",
              "size": 10,
              "solidity": 0.2
             }
            },
            "type": "barpolar"
           }
          ],
          "carpet": [
           {
            "aaxis": {
             "endlinecolor": "#2a3f5f",
             "gridcolor": "white",
             "linecolor": "white",
             "minorgridcolor": "white",
             "startlinecolor": "#2a3f5f"
            },
            "baxis": {
             "endlinecolor": "#2a3f5f",
             "gridcolor": "white",
             "linecolor": "white",
             "minorgridcolor": "white",
             "startlinecolor": "#2a3f5f"
            },
            "type": "carpet"
           }
          ],
          "choropleth": [
           {
            "colorbar": {
             "outlinewidth": 0,
             "ticks": ""
            },
            "type": "choropleth"
           }
          ],
          "contour": [
           {
            "colorbar": {
             "outlinewidth": 0,
             "ticks": ""
            },
            "colorscale": [
             [
              0,
              "#0d0887"
             ],
             [
              0.1111111111111111,
              "#46039f"
             ],
             [
              0.2222222222222222,
              "#7201a8"
             ],
             [
              0.3333333333333333,
              "#9c179e"
             ],
             [
              0.4444444444444444,
              "#bd3786"
             ],
             [
              0.5555555555555556,
              "#d8576b"
             ],
             [
              0.6666666666666666,
              "#ed7953"
             ],
             [
              0.7777777777777778,
              "#fb9f3a"
             ],
             [
              0.8888888888888888,
              "#fdca26"
             ],
             [
              1,
              "#f0f921"
             ]
            ],
            "type": "contour"
           }
          ],
          "contourcarpet": [
           {
            "colorbar": {
             "outlinewidth": 0,
             "ticks": ""
            },
            "type": "contourcarpet"
           }
          ],
          "heatmap": [
           {
            "colorbar": {
             "outlinewidth": 0,
             "ticks": ""
            },
            "colorscale": [
             [
              0,
              "#0d0887"
             ],
             [
              0.1111111111111111,
              "#46039f"
             ],
             [
              0.2222222222222222,
              "#7201a8"
             ],
             [
              0.3333333333333333,
              "#9c179e"
             ],
             [
              0.4444444444444444,
              "#bd3786"
             ],
             [
              0.5555555555555556,
              "#d8576b"
             ],
             [
              0.6666666666666666,
              "#ed7953"
             ],
             [
              0.7777777777777778,
              "#fb9f3a"
             ],
             [
              0.8888888888888888,
              "#fdca26"
             ],
             [
              1,
              "#f0f921"
             ]
            ],
            "type": "heatmap"
           }
          ],
          "histogram": [
           {
            "marker": {
             "pattern": {
              "fillmode": "overlay",
              "size": 10,
              "solidity": 0.2
             }
            },
            "type": "histogram"
           }
          ],
          "histogram2d": [
           {
            "colorbar": {
             "outlinewidth": 0,
             "ticks": ""
            },
            "colorscale": [
             [
              0,
              "#0d0887"
             ],
             [
              0.1111111111111111,
              "#46039f"
             ],
             [
              0.2222222222222222,
              "#7201a8"
             ],
             [
              0.3333333333333333,
              "#9c179e"
             ],
             [
              0.4444444444444444,
              "#bd3786"
             ],
             [
              0.5555555555555556,
              "#d8576b"
             ],
             [
              0.6666666666666666,
              "#ed7953"
             ],
             [
              0.7777777777777778,
              "#fb9f3a"
             ],
             [
              0.8888888888888888,
              "#fdca26"
             ],
             [
              1,
              "#f0f921"
             ]
            ],
            "type": "histogram2d"
           }
          ],
          "histogram2dcontour": [
           {
            "colorbar": {
             "outlinewidth": 0,
             "ticks": ""
            },
            "colorscale": [
             [
              0,
              "#0d0887"
             ],
             [
              0.1111111111111111,
              "#46039f"
             ],
             [
              0.2222222222222222,
              "#7201a8"
             ],
             [
              0.3333333333333333,
              "#9c179e"
             ],
             [
              0.4444444444444444,
              "#bd3786"
             ],
             [
              0.5555555555555556,
              "#d8576b"
             ],
             [
              0.6666666666666666,
              "#ed7953"
             ],
             [
              0.7777777777777778,
              "#fb9f3a"
             ],
             [
              0.8888888888888888,
              "#fdca26"
             ],
             [
              1,
              "#f0f921"
             ]
            ],
            "type": "histogram2dcontour"
           }
          ],
          "mesh3d": [
           {
            "colorbar": {
             "outlinewidth": 0,
             "ticks": ""
            },
            "type": "mesh3d"
           }
          ],
          "parcoords": [
           {
            "line": {
             "colorbar": {
              "outlinewidth": 0,
              "ticks": ""
             }
            },
            "type": "parcoords"
           }
          ],
          "pie": [
           {
            "automargin": true,
            "type": "pie"
           }
          ],
          "scatter": [
           {
            "fillpattern": {
             "fillmode": "overlay",
             "size": 10,
             "solidity": 0.2
            },
            "type": "scatter"
           }
          ],
          "scatter3d": [
           {
            "line": {
             "colorbar": {
              "outlinewidth": 0,
              "ticks": ""
             }
            },
            "marker": {
             "colorbar": {
              "outlinewidth": 0,
              "ticks": ""
             }
            },
            "type": "scatter3d"
           }
          ],
          "scattercarpet": [
           {
            "marker": {
             "colorbar": {
              "outlinewidth": 0,
              "ticks": ""
             }
            },
            "type": "scattercarpet"
           }
          ],
          "scattergeo": [
           {
            "marker": {
             "colorbar": {
              "outlinewidth": 0,
              "ticks": ""
             }
            },
            "type": "scattergeo"
           }
          ],
          "scattergl": [
           {
            "marker": {
             "colorbar": {
              "outlinewidth": 0,
              "ticks": ""
             }
            },
            "type": "scattergl"
           }
          ],
          "scattermap": [
           {
            "marker": {
             "colorbar": {
              "outlinewidth": 0,
              "ticks": ""
             }
            },
            "type": "scattermap"
           }
          ],
          "scattermapbox": [
           {
            "marker": {
             "colorbar": {
              "outlinewidth": 0,
              "ticks": ""
             }
            },
            "type": "scattermapbox"
           }
          ],
          "scatterpolar": [
           {
            "marker": {
             "colorbar": {
              "outlinewidth": 0,
              "ticks": ""
             }
            },
            "type": "scatterpolar"
           }
          ],
          "scatterpolargl": [
           {
            "marker": {
             "colorbar": {
              "outlinewidth": 0,
              "ticks": ""
             }
            },
            "type": "scatterpolargl"
           }
          ],
          "scatterternary": [
           {
            "marker": {
             "colorbar": {
              "outlinewidth": 0,
              "ticks": ""
             }
            },
            "type": "scatterternary"
           }
          ],
          "surface": [
           {
            "colorbar": {
             "outlinewidth": 0,
             "ticks": ""
            },
            "colorscale": [
             [
              0,
              "#0d0887"
             ],
             [
              0.1111111111111111,
              "#46039f"
             ],
             [
              0.2222222222222222,
              "#7201a8"
             ],
             [
              0.3333333333333333,
              "#9c179e"
             ],
             [
              0.4444444444444444,
              "#bd3786"
             ],
             [
              0.5555555555555556,
              "#d8576b"
             ],
             [
              0.6666666666666666,
              "#ed7953"
             ],
             [
              0.7777777777777778,
              "#fb9f3a"
             ],
             [
              0.8888888888888888,
              "#fdca26"
             ],
             [
              1,
              "#f0f921"
             ]
            ],
            "type": "surface"
           }
          ],
          "table": [
           {
            "cells": {
             "fill": {
              "color": "#EBF0F8"
             },
             "line": {
              "color": "white"
             }
            },
            "header": {
             "fill": {
              "color": "#C8D4E3"
             },
             "line": {
              "color": "white"
             }
            },
            "type": "table"
           }
          ]
         },
         "layout": {
          "annotationdefaults": {
           "arrowcolor": "#2a3f5f",
           "arrowhead": 0,
           "arrowwidth": 1
          },
          "autotypenumbers": "strict",
          "coloraxis": {
           "colorbar": {
            "outlinewidth": 0,
            "ticks": ""
           }
          },
          "colorscale": {
           "diverging": [
            [
             0,
             "#8e0152"
            ],
            [
             0.1,
             "#c51b7d"
            ],
            [
             0.2,
             "#de77ae"
            ],
            [
             0.3,
             "#f1b6da"
            ],
            [
             0.4,
             "#fde0ef"
            ],
            [
             0.5,
             "#f7f7f7"
            ],
            [
             0.6,
             "#e6f5d0"
            ],
            [
             0.7,
             "#b8e186"
            ],
            [
             0.8,
             "#7fbc41"
            ],
            [
             0.9,
             "#4d9221"
            ],
            [
             1,
             "#276419"
            ]
           ],
           "sequential": [
            [
             0,
             "#0d0887"
            ],
            [
             0.1111111111111111,
             "#46039f"
            ],
            [
             0.2222222222222222,
             "#7201a8"
            ],
            [
             0.3333333333333333,
             "#9c179e"
            ],
            [
             0.4444444444444444,
             "#bd3786"
            ],
            [
             0.5555555555555556,
             "#d8576b"
            ],
            [
             0.6666666666666666,
             "#ed7953"
            ],
            [
             0.7777777777777778,
             "#fb9f3a"
            ],
            [
             0.8888888888888888,
             "#fdca26"
            ],
            [
             1,
             "#f0f921"
            ]
           ],
           "sequentialminus": [
            [
             0,
             "#0d0887"
            ],
            [
             0.1111111111111111,
             "#46039f"
            ],
            [
             0.2222222222222222,
             "#7201a8"
            ],
            [
             0.3333333333333333,
             "#9c179e"
            ],
            [
             0.4444444444444444,
             "#bd3786"
            ],
            [
             0.5555555555555556,
             "#d8576b"
            ],
            [
             0.6666666666666666,
             "#ed7953"
            ],
            [
             0.7777777777777778,
             "#fb9f3a"
            ],
            [
             0.8888888888888888,
             "#fdca26"
            ],
            [
             1,
             "#f0f921"
            ]
           ]
          },
          "colorway": [
           "#636efa",
           "#EF553B",
           "#00cc96",
           "#ab63fa",
           "#FFA15A",
           "#19d3f3",
           "#FF6692",
           "#B6E880",
           "#FF97FF",
           "#FECB52"
          ],
          "font": {
           "color": "#2a3f5f"
          },
          "geo": {
           "bgcolor": "white",
           "lakecolor": "white",
           "landcolor": "#E5ECF6",
           "showlakes": true,
           "showland": true,
           "subunitcolor": "white"
          },
          "hoverlabel": {
           "align": "left"
          },
          "hovermode": "closest",
          "mapbox": {
           "style": "light"
          },
          "paper_bgcolor": "white",
          "plot_bgcolor": "#E5ECF6",
          "polar": {
           "angularaxis": {
            "gridcolor": "white",
            "linecolor": "white",
            "ticks": ""
           },
           "bgcolor": "#E5ECF6",
           "radialaxis": {
            "gridcolor": "white",
            "linecolor": "white",
            "ticks": ""
           }
          },
          "scene": {
           "xaxis": {
            "backgroundcolor": "#E5ECF6",
            "gridcolor": "white",
            "gridwidth": 2,
            "linecolor": "white",
            "showbackground": true,
            "ticks": "",
            "zerolinecolor": "white"
           },
           "yaxis": {
            "backgroundcolor": "#E5ECF6",
            "gridcolor": "white",
            "gridwidth": 2,
            "linecolor": "white",
            "showbackground": true,
            "ticks": "",
            "zerolinecolor": "white"
           },
           "zaxis": {
            "backgroundcolor": "#E5ECF6",
            "gridcolor": "white",
            "gridwidth": 2,
            "linecolor": "white",
            "showbackground": true,
            "ticks": "",
            "zerolinecolor": "white"
           }
          },
          "shapedefaults": {
           "line": {
            "color": "#2a3f5f"
           }
          },
          "ternary": {
           "aaxis": {
            "gridcolor": "white",
            "linecolor": "white",
            "ticks": ""
           },
           "baxis": {
            "gridcolor": "white",
            "linecolor": "white",
            "ticks": ""
           },
           "bgcolor": "#E5ECF6",
           "caxis": {
            "gridcolor": "white",
            "linecolor": "white",
            "ticks": ""
           }
          },
          "title": {
           "x": 0.05
          },
          "xaxis": {
           "automargin": true,
           "gridcolor": "white",
           "linecolor": "white",
           "ticks": "",
           "title": {
            "standoff": 15
           },
           "zerolinecolor": "white",
           "zerolinewidth": 2
          },
          "yaxis": {
           "automargin": true,
           "gridcolor": "white",
           "linecolor": "white",
           "ticks": "",
           "title": {
            "standoff": 15
           },
           "zerolinecolor": "white",
           "zerolinewidth": 2
          }
         }
        },
        "title": {
         "font": {
          "size": 24
         },
         "text": "Hindlimb Feature Distribution"
        },
        "width": 600
       }
      }
     },
     "metadata": {},
     "output_type": "display_data"
    },
    {
     "data": {
      "application/vnd.plotly.v1+json": {
       "config": {
        "plotlyServerURL": "https://plot.ly"
       },
       "data": [
        {
         "labels": [
          "Improving Lesion Features",
          "Worsening Lesion Features",
          "Other Lesion Features"
         ],
         "pull": [
          0,
          0,
          0.2
         ],
         "type": "pie",
         "values": [
          9,
          7,
          17
         ]
        }
       ],
       "layout": {
        "height": 400,
        "legend": {
         "title": {
          "font": {
           "size": 18
          },
          "text": "Feature Types"
         }
        },
        "template": {
         "data": {
          "bar": [
           {
            "error_x": {
             "color": "#2a3f5f"
            },
            "error_y": {
             "color": "#2a3f5f"
            },
            "marker": {
             "line": {
              "color": "#E5ECF6",
              "width": 0.5
             },
             "pattern": {
              "fillmode": "overlay",
              "size": 10,
              "solidity": 0.2
             }
            },
            "type": "bar"
           }
          ],
          "barpolar": [
           {
            "marker": {
             "line": {
              "color": "#E5ECF6",
              "width": 0.5
             },
             "pattern": {
              "fillmode": "overlay",
              "size": 10,
              "solidity": 0.2
             }
            },
            "type": "barpolar"
           }
          ],
          "carpet": [
           {
            "aaxis": {
             "endlinecolor": "#2a3f5f",
             "gridcolor": "white",
             "linecolor": "white",
             "minorgridcolor": "white",
             "startlinecolor": "#2a3f5f"
            },
            "baxis": {
             "endlinecolor": "#2a3f5f",
             "gridcolor": "white",
             "linecolor": "white",
             "minorgridcolor": "white",
             "startlinecolor": "#2a3f5f"
            },
            "type": "carpet"
           }
          ],
          "choropleth": [
           {
            "colorbar": {
             "outlinewidth": 0,
             "ticks": ""
            },
            "type": "choropleth"
           }
          ],
          "contour": [
           {
            "colorbar": {
             "outlinewidth": 0,
             "ticks": ""
            },
            "colorscale": [
             [
              0,
              "#0d0887"
             ],
             [
              0.1111111111111111,
              "#46039f"
             ],
             [
              0.2222222222222222,
              "#7201a8"
             ],
             [
              0.3333333333333333,
              "#9c179e"
             ],
             [
              0.4444444444444444,
              "#bd3786"
             ],
             [
              0.5555555555555556,
              "#d8576b"
             ],
             [
              0.6666666666666666,
              "#ed7953"
             ],
             [
              0.7777777777777778,
              "#fb9f3a"
             ],
             [
              0.8888888888888888,
              "#fdca26"
             ],
             [
              1,
              "#f0f921"
             ]
            ],
            "type": "contour"
           }
          ],
          "contourcarpet": [
           {
            "colorbar": {
             "outlinewidth": 0,
             "ticks": ""
            },
            "type": "contourcarpet"
           }
          ],
          "heatmap": [
           {
            "colorbar": {
             "outlinewidth": 0,
             "ticks": ""
            },
            "colorscale": [
             [
              0,
              "#0d0887"
             ],
             [
              0.1111111111111111,
              "#46039f"
             ],
             [
              0.2222222222222222,
              "#7201a8"
             ],
             [
              0.3333333333333333,
              "#9c179e"
             ],
             [
              0.4444444444444444,
              "#bd3786"
             ],
             [
              0.5555555555555556,
              "#d8576b"
             ],
             [
              0.6666666666666666,
              "#ed7953"
             ],
             [
              0.7777777777777778,
              "#fb9f3a"
             ],
             [
              0.8888888888888888,
              "#fdca26"
             ],
             [
              1,
              "#f0f921"
             ]
            ],
            "type": "heatmap"
           }
          ],
          "histogram": [
           {
            "marker": {
             "pattern": {
              "fillmode": "overlay",
              "size": 10,
              "solidity": 0.2
             }
            },
            "type": "histogram"
           }
          ],
          "histogram2d": [
           {
            "colorbar": {
             "outlinewidth": 0,
             "ticks": ""
            },
            "colorscale": [
             [
              0,
              "#0d0887"
             ],
             [
              0.1111111111111111,
              "#46039f"
             ],
             [
              0.2222222222222222,
              "#7201a8"
             ],
             [
              0.3333333333333333,
              "#9c179e"
             ],
             [
              0.4444444444444444,
              "#bd3786"
             ],
             [
              0.5555555555555556,
              "#d8576b"
             ],
             [
              0.6666666666666666,
              "#ed7953"
             ],
             [
              0.7777777777777778,
              "#fb9f3a"
             ],
             [
              0.8888888888888888,
              "#fdca26"
             ],
             [
              1,
              "#f0f921"
             ]
            ],
            "type": "histogram2d"
           }
          ],
          "histogram2dcontour": [
           {
            "colorbar": {
             "outlinewidth": 0,
             "ticks": ""
            },
            "colorscale": [
             [
              0,
              "#0d0887"
             ],
             [
              0.1111111111111111,
              "#46039f"
             ],
             [
              0.2222222222222222,
              "#7201a8"
             ],
             [
              0.3333333333333333,
              "#9c179e"
             ],
             [
              0.4444444444444444,
              "#bd3786"
             ],
             [
              0.5555555555555556,
              "#d8576b"
             ],
             [
              0.6666666666666666,
              "#ed7953"
             ],
             [
              0.7777777777777778,
              "#fb9f3a"
             ],
             [
              0.8888888888888888,
              "#fdca26"
             ],
             [
              1,
              "#f0f921"
             ]
            ],
            "type": "histogram2dcontour"
           }
          ],
          "mesh3d": [
           {
            "colorbar": {
             "outlinewidth": 0,
             "ticks": ""
            },
            "type": "mesh3d"
           }
          ],
          "parcoords": [
           {
            "line": {
             "colorbar": {
              "outlinewidth": 0,
              "ticks": ""
             }
            },
            "type": "parcoords"
           }
          ],
          "pie": [
           {
            "automargin": true,
            "type": "pie"
           }
          ],
          "scatter": [
           {
            "fillpattern": {
             "fillmode": "overlay",
             "size": 10,
             "solidity": 0.2
            },
            "type": "scatter"
           }
          ],
          "scatter3d": [
           {
            "line": {
             "colorbar": {
              "outlinewidth": 0,
              "ticks": ""
             }
            },
            "marker": {
             "colorbar": {
              "outlinewidth": 0,
              "ticks": ""
             }
            },
            "type": "scatter3d"
           }
          ],
          "scattercarpet": [
           {
            "marker": {
             "colorbar": {
              "outlinewidth": 0,
              "ticks": ""
             }
            },
            "type": "scattercarpet"
           }
          ],
          "scattergeo": [
           {
            "marker": {
             "colorbar": {
              "outlinewidth": 0,
              "ticks": ""
             }
            },
            "type": "scattergeo"
           }
          ],
          "scattergl": [
           {
            "marker": {
             "colorbar": {
              "outlinewidth": 0,
              "ticks": ""
             }
            },
            "type": "scattergl"
           }
          ],
          "scattermap": [
           {
            "marker": {
             "colorbar": {
              "outlinewidth": 0,
              "ticks": ""
             }
            },
            "type": "scattermap"
           }
          ],
          "scattermapbox": [
           {
            "marker": {
             "colorbar": {
              "outlinewidth": 0,
              "ticks": ""
             }
            },
            "type": "scattermapbox"
           }
          ],
          "scatterpolar": [
           {
            "marker": {
             "colorbar": {
              "outlinewidth": 0,
              "ticks": ""
             }
            },
            "type": "scatterpolar"
           }
          ],
          "scatterpolargl": [
           {
            "marker": {
             "colorbar": {
              "outlinewidth": 0,
              "ticks": ""
             }
            },
            "type": "scatterpolargl"
           }
          ],
          "scatterternary": [
           {
            "marker": {
             "colorbar": {
              "outlinewidth": 0,
              "ticks": ""
             }
            },
            "type": "scatterternary"
           }
          ],
          "surface": [
           {
            "colorbar": {
             "outlinewidth": 0,
             "ticks": ""
            },
            "colorscale": [
             [
              0,
              "#0d0887"
             ],
             [
              0.1111111111111111,
              "#46039f"
             ],
             [
              0.2222222222222222,
              "#7201a8"
             ],
             [
              0.3333333333333333,
              "#9c179e"
             ],
             [
              0.4444444444444444,
              "#bd3786"
             ],
             [
              0.5555555555555556,
              "#d8576b"
             ],
             [
              0.6666666666666666,
              "#ed7953"
             ],
             [
              0.7777777777777778,
              "#fb9f3a"
             ],
             [
              0.8888888888888888,
              "#fdca26"
             ],
             [
              1,
              "#f0f921"
             ]
            ],
            "type": "surface"
           }
          ],
          "table": [
           {
            "cells": {
             "fill": {
              "color": "#EBF0F8"
             },
             "line": {
              "color": "white"
             }
            },
            "header": {
             "fill": {
              "color": "#C8D4E3"
             },
             "line": {
              "color": "white"
             }
            },
            "type": "table"
           }
          ]
         },
         "layout": {
          "annotationdefaults": {
           "arrowcolor": "#2a3f5f",
           "arrowhead": 0,
           "arrowwidth": 1
          },
          "autotypenumbers": "strict",
          "coloraxis": {
           "colorbar": {
            "outlinewidth": 0,
            "ticks": ""
           }
          },
          "colorscale": {
           "diverging": [
            [
             0,
             "#8e0152"
            ],
            [
             0.1,
             "#c51b7d"
            ],
            [
             0.2,
             "#de77ae"
            ],
            [
             0.3,
             "#f1b6da"
            ],
            [
             0.4,
             "#fde0ef"
            ],
            [
             0.5,
             "#f7f7f7"
            ],
            [
             0.6,
             "#e6f5d0"
            ],
            [
             0.7,
             "#b8e186"
            ],
            [
             0.8,
             "#7fbc41"
            ],
            [
             0.9,
             "#4d9221"
            ],
            [
             1,
             "#276419"
            ]
           ],
           "sequential": [
            [
             0,
             "#0d0887"
            ],
            [
             0.1111111111111111,
             "#46039f"
            ],
            [
             0.2222222222222222,
             "#7201a8"
            ],
            [
             0.3333333333333333,
             "#9c179e"
            ],
            [
             0.4444444444444444,
             "#bd3786"
            ],
            [
             0.5555555555555556,
             "#d8576b"
            ],
            [
             0.6666666666666666,
             "#ed7953"
            ],
            [
             0.7777777777777778,
             "#fb9f3a"
            ],
            [
             0.8888888888888888,
             "#fdca26"
            ],
            [
             1,
             "#f0f921"
            ]
           ],
           "sequentialminus": [
            [
             0,
             "#0d0887"
            ],
            [
             0.1111111111111111,
             "#46039f"
            ],
            [
             0.2222222222222222,
             "#7201a8"
            ],
            [
             0.3333333333333333,
             "#9c179e"
            ],
            [
             0.4444444444444444,
             "#bd3786"
            ],
            [
             0.5555555555555556,
             "#d8576b"
            ],
            [
             0.6666666666666666,
             "#ed7953"
            ],
            [
             0.7777777777777778,
             "#fb9f3a"
            ],
            [
             0.8888888888888888,
             "#fdca26"
            ],
            [
             1,
             "#f0f921"
            ]
           ]
          },
          "colorway": [
           "#636efa",
           "#EF553B",
           "#00cc96",
           "#ab63fa",
           "#FFA15A",
           "#19d3f3",
           "#FF6692",
           "#B6E880",
           "#FF97FF",
           "#FECB52"
          ],
          "font": {
           "color": "#2a3f5f"
          },
          "geo": {
           "bgcolor": "white",
           "lakecolor": "white",
           "landcolor": "#E5ECF6",
           "showlakes": true,
           "showland": true,
           "subunitcolor": "white"
          },
          "hoverlabel": {
           "align": "left"
          },
          "hovermode": "closest",
          "mapbox": {
           "style": "light"
          },
          "paper_bgcolor": "white",
          "plot_bgcolor": "#E5ECF6",
          "polar": {
           "angularaxis": {
            "gridcolor": "white",
            "linecolor": "white",
            "ticks": ""
           },
           "bgcolor": "#E5ECF6",
           "radialaxis": {
            "gridcolor": "white",
            "linecolor": "white",
            "ticks": ""
           }
          },
          "scene": {
           "xaxis": {
            "backgroundcolor": "#E5ECF6",
            "gridcolor": "white",
            "gridwidth": 2,
            "linecolor": "white",
            "showbackground": true,
            "ticks": "",
            "zerolinecolor": "white"
           },
           "yaxis": {
            "backgroundcolor": "#E5ECF6",
            "gridcolor": "white",
            "gridwidth": 2,
            "linecolor": "white",
            "showbackground": true,
            "ticks": "",
            "zerolinecolor": "white"
           },
           "zaxis": {
            "backgroundcolor": "#E5ECF6",
            "gridcolor": "white",
            "gridwidth": 2,
            "linecolor": "white",
            "showbackground": true,
            "ticks": "",
            "zerolinecolor": "white"
           }
          },
          "shapedefaults": {
           "line": {
            "color": "#2a3f5f"
           }
          },
          "ternary": {
           "aaxis": {
            "gridcolor": "white",
            "linecolor": "white",
            "ticks": ""
           },
           "baxis": {
            "gridcolor": "white",
            "linecolor": "white",
            "ticks": ""
           },
           "bgcolor": "#E5ECF6",
           "caxis": {
            "gridcolor": "white",
            "linecolor": "white",
            "ticks": ""
           }
          },
          "title": {
           "x": 0.05
          },
          "xaxis": {
           "automargin": true,
           "gridcolor": "white",
           "linecolor": "white",
           "ticks": "",
           "title": {
            "standoff": 15
           },
           "zerolinecolor": "white",
           "zerolinewidth": 2
          },
          "yaxis": {
           "automargin": true,
           "gridcolor": "white",
           "linecolor": "white",
           "ticks": "",
           "title": {
            "standoff": 15
           },
           "zerolinecolor": "white",
           "zerolinewidth": 2
          }
         }
        },
        "title": {
         "font": {
          "size": 24
         },
         "text": "Lesion Feature Distribution"
        },
        "width": 600
       }
      }
     },
     "metadata": {},
     "output_type": "display_data"
    },
    {
     "data": {
      "application/vnd.plotly.v1+json": {
       "config": {
        "plotlyServerURL": "https://plot.ly"
       },
       "data": [
        {
         "labels": [
          "Improving Non-Pathological Treatment Features",
          "Worsening Non-Pathological Treatment Features",
          "Other Treatment Features"
         ],
         "pull": [
          0,
          0,
          0.2
         ],
         "type": "pie",
         "values": [
          1,
          14,
          43
         ]
        }
       ],
       "layout": {
        "height": 400,
        "legend": {
         "title": {
          "font": {
           "size": 18
          },
          "text": "Feature Types"
         }
        },
        "template": {
         "data": {
          "bar": [
           {
            "error_x": {
             "color": "#2a3f5f"
            },
            "error_y": {
             "color": "#2a3f5f"
            },
            "marker": {
             "line": {
              "color": "#E5ECF6",
              "width": 0.5
             },
             "pattern": {
              "fillmode": "overlay",
              "size": 10,
              "solidity": 0.2
             }
            },
            "type": "bar"
           }
          ],
          "barpolar": [
           {
            "marker": {
             "line": {
              "color": "#E5ECF6",
              "width": 0.5
             },
             "pattern": {
              "fillmode": "overlay",
              "size": 10,
              "solidity": 0.2
             }
            },
            "type": "barpolar"
           }
          ],
          "carpet": [
           {
            "aaxis": {
             "endlinecolor": "#2a3f5f",
             "gridcolor": "white",
             "linecolor": "white",
             "minorgridcolor": "white",
             "startlinecolor": "#2a3f5f"
            },
            "baxis": {
             "endlinecolor": "#2a3f5f",
             "gridcolor": "white",
             "linecolor": "white",
             "minorgridcolor": "white",
             "startlinecolor": "#2a3f5f"
            },
            "type": "carpet"
           }
          ],
          "choropleth": [
           {
            "colorbar": {
             "outlinewidth": 0,
             "ticks": ""
            },
            "type": "choropleth"
           }
          ],
          "contour": [
           {
            "colorbar": {
             "outlinewidth": 0,
             "ticks": ""
            },
            "colorscale": [
             [
              0,
              "#0d0887"
             ],
             [
              0.1111111111111111,
              "#46039f"
             ],
             [
              0.2222222222222222,
              "#7201a8"
             ],
             [
              0.3333333333333333,
              "#9c179e"
             ],
             [
              0.4444444444444444,
              "#bd3786"
             ],
             [
              0.5555555555555556,
              "#d8576b"
             ],
             [
              0.6666666666666666,
              "#ed7953"
             ],
             [
              0.7777777777777778,
              "#fb9f3a"
             ],
             [
              0.8888888888888888,
              "#fdca26"
             ],
             [
              1,
              "#f0f921"
             ]
            ],
            "type": "contour"
           }
          ],
          "contourcarpet": [
           {
            "colorbar": {
             "outlinewidth": 0,
             "ticks": ""
            },
            "type": "contourcarpet"
           }
          ],
          "heatmap": [
           {
            "colorbar": {
             "outlinewidth": 0,
             "ticks": ""
            },
            "colorscale": [
             [
              0,
              "#0d0887"
             ],
             [
              0.1111111111111111,
              "#46039f"
             ],
             [
              0.2222222222222222,
              "#7201a8"
             ],
             [
              0.3333333333333333,
              "#9c179e"
             ],
             [
              0.4444444444444444,
              "#bd3786"
             ],
             [
              0.5555555555555556,
              "#d8576b"
             ],
             [
              0.6666666666666666,
              "#ed7953"
             ],
             [
              0.7777777777777778,
              "#fb9f3a"
             ],
             [
              0.8888888888888888,
              "#fdca26"
             ],
             [
              1,
              "#f0f921"
             ]
            ],
            "type": "heatmap"
           }
          ],
          "histogram": [
           {
            "marker": {
             "pattern": {
              "fillmode": "overlay",
              "size": 10,
              "solidity": 0.2
             }
            },
            "type": "histogram"
           }
          ],
          "histogram2d": [
           {
            "colorbar": {
             "outlinewidth": 0,
             "ticks": ""
            },
            "colorscale": [
             [
              0,
              "#0d0887"
             ],
             [
              0.1111111111111111,
              "#46039f"
             ],
             [
              0.2222222222222222,
              "#7201a8"
             ],
             [
              0.3333333333333333,
              "#9c179e"
             ],
             [
              0.4444444444444444,
              "#bd3786"
             ],
             [
              0.5555555555555556,
              "#d8576b"
             ],
             [
              0.6666666666666666,
              "#ed7953"
             ],
             [
              0.7777777777777778,
              "#fb9f3a"
             ],
             [
              0.8888888888888888,
              "#fdca26"
             ],
             [
              1,
              "#f0f921"
             ]
            ],
            "type": "histogram2d"
           }
          ],
          "histogram2dcontour": [
           {
            "colorbar": {
             "outlinewidth": 0,
             "ticks": ""
            },
            "colorscale": [
             [
              0,
              "#0d0887"
             ],
             [
              0.1111111111111111,
              "#46039f"
             ],
             [
              0.2222222222222222,
              "#7201a8"
             ],
             [
              0.3333333333333333,
              "#9c179e"
             ],
             [
              0.4444444444444444,
              "#bd3786"
             ],
             [
              0.5555555555555556,
              "#d8576b"
             ],
             [
              0.6666666666666666,
              "#ed7953"
             ],
             [
              0.7777777777777778,
              "#fb9f3a"
             ],
             [
              0.8888888888888888,
              "#fdca26"
             ],
             [
              1,
              "#f0f921"
             ]
            ],
            "type": "histogram2dcontour"
           }
          ],
          "mesh3d": [
           {
            "colorbar": {
             "outlinewidth": 0,
             "ticks": ""
            },
            "type": "mesh3d"
           }
          ],
          "parcoords": [
           {
            "line": {
             "colorbar": {
              "outlinewidth": 0,
              "ticks": ""
             }
            },
            "type": "parcoords"
           }
          ],
          "pie": [
           {
            "automargin": true,
            "type": "pie"
           }
          ],
          "scatter": [
           {
            "fillpattern": {
             "fillmode": "overlay",
             "size": 10,
             "solidity": 0.2
            },
            "type": "scatter"
           }
          ],
          "scatter3d": [
           {
            "line": {
             "colorbar": {
              "outlinewidth": 0,
              "ticks": ""
             }
            },
            "marker": {
             "colorbar": {
              "outlinewidth": 0,
              "ticks": ""
             }
            },
            "type": "scatter3d"
           }
          ],
          "scattercarpet": [
           {
            "marker": {
             "colorbar": {
              "outlinewidth": 0,
              "ticks": ""
             }
            },
            "type": "scattercarpet"
           }
          ],
          "scattergeo": [
           {
            "marker": {
             "colorbar": {
              "outlinewidth": 0,
              "ticks": ""
             }
            },
            "type": "scattergeo"
           }
          ],
          "scattergl": [
           {
            "marker": {
             "colorbar": {
              "outlinewidth": 0,
              "ticks": ""
             }
            },
            "type": "scattergl"
           }
          ],
          "scattermap": [
           {
            "marker": {
             "colorbar": {
              "outlinewidth": 0,
              "ticks": ""
             }
            },
            "type": "scattermap"
           }
          ],
          "scattermapbox": [
           {
            "marker": {
             "colorbar": {
              "outlinewidth": 0,
              "ticks": ""
             }
            },
            "type": "scattermapbox"
           }
          ],
          "scatterpolar": [
           {
            "marker": {
             "colorbar": {
              "outlinewidth": 0,
              "ticks": ""
             }
            },
            "type": "scatterpolar"
           }
          ],
          "scatterpolargl": [
           {
            "marker": {
             "colorbar": {
              "outlinewidth": 0,
              "ticks": ""
             }
            },
            "type": "scatterpolargl"
           }
          ],
          "scatterternary": [
           {
            "marker": {
             "colorbar": {
              "outlinewidth": 0,
              "ticks": ""
             }
            },
            "type": "scatterternary"
           }
          ],
          "surface": [
           {
            "colorbar": {
             "outlinewidth": 0,
             "ticks": ""
            },
            "colorscale": [
             [
              0,
              "#0d0887"
             ],
             [
              0.1111111111111111,
              "#46039f"
             ],
             [
              0.2222222222222222,
              "#7201a8"
             ],
             [
              0.3333333333333333,
              "#9c179e"
             ],
             [
              0.4444444444444444,
              "#bd3786"
             ],
             [
              0.5555555555555556,
              "#d8576b"
             ],
             [
              0.6666666666666666,
              "#ed7953"
             ],
             [
              0.7777777777777778,
              "#fb9f3a"
             ],
             [
              0.8888888888888888,
              "#fdca26"
             ],
             [
              1,
              "#f0f921"
             ]
            ],
            "type": "surface"
           }
          ],
          "table": [
           {
            "cells": {
             "fill": {
              "color": "#EBF0F8"
             },
             "line": {
              "color": "white"
             }
            },
            "header": {
             "fill": {
              "color": "#C8D4E3"
             },
             "line": {
              "color": "white"
             }
            },
            "type": "table"
           }
          ]
         },
         "layout": {
          "annotationdefaults": {
           "arrowcolor": "#2a3f5f",
           "arrowhead": 0,
           "arrowwidth": 1
          },
          "autotypenumbers": "strict",
          "coloraxis": {
           "colorbar": {
            "outlinewidth": 0,
            "ticks": ""
           }
          },
          "colorscale": {
           "diverging": [
            [
             0,
             "#8e0152"
            ],
            [
             0.1,
             "#c51b7d"
            ],
            [
             0.2,
             "#de77ae"
            ],
            [
             0.3,
             "#f1b6da"
            ],
            [
             0.4,
             "#fde0ef"
            ],
            [
             0.5,
             "#f7f7f7"
            ],
            [
             0.6,
             "#e6f5d0"
            ],
            [
             0.7,
             "#b8e186"
            ],
            [
             0.8,
             "#7fbc41"
            ],
            [
             0.9,
             "#4d9221"
            ],
            [
             1,
             "#276419"
            ]
           ],
           "sequential": [
            [
             0,
             "#0d0887"
            ],
            [
             0.1111111111111111,
             "#46039f"
            ],
            [
             0.2222222222222222,
             "#7201a8"
            ],
            [
             0.3333333333333333,
             "#9c179e"
            ],
            [
             0.4444444444444444,
             "#bd3786"
            ],
            [
             0.5555555555555556,
             "#d8576b"
            ],
            [
             0.6666666666666666,
             "#ed7953"
            ],
            [
             0.7777777777777778,
             "#fb9f3a"
            ],
            [
             0.8888888888888888,
             "#fdca26"
            ],
            [
             1,
             "#f0f921"
            ]
           ],
           "sequentialminus": [
            [
             0,
             "#0d0887"
            ],
            [
             0.1111111111111111,
             "#46039f"
            ],
            [
             0.2222222222222222,
             "#7201a8"
            ],
            [
             0.3333333333333333,
             "#9c179e"
            ],
            [
             0.4444444444444444,
             "#bd3786"
            ],
            [
             0.5555555555555556,
             "#d8576b"
            ],
            [
             0.6666666666666666,
             "#ed7953"
            ],
            [
             0.7777777777777778,
             "#fb9f3a"
            ],
            [
             0.8888888888888888,
             "#fdca26"
            ],
            [
             1,
             "#f0f921"
            ]
           ]
          },
          "colorway": [
           "#636efa",
           "#EF553B",
           "#00cc96",
           "#ab63fa",
           "#FFA15A",
           "#19d3f3",
           "#FF6692",
           "#B6E880",
           "#FF97FF",
           "#FECB52"
          ],
          "font": {
           "color": "#2a3f5f"
          },
          "geo": {
           "bgcolor": "white",
           "lakecolor": "white",
           "landcolor": "#E5ECF6",
           "showlakes": true,
           "showland": true,
           "subunitcolor": "white"
          },
          "hoverlabel": {
           "align": "left"
          },
          "hovermode": "closest",
          "mapbox": {
           "style": "light"
          },
          "paper_bgcolor": "white",
          "plot_bgcolor": "#E5ECF6",
          "polar": {
           "angularaxis": {
            "gridcolor": "white",
            "linecolor": "white",
            "ticks": ""
           },
           "bgcolor": "#E5ECF6",
           "radialaxis": {
            "gridcolor": "white",
            "linecolor": "white",
            "ticks": ""
           }
          },
          "scene": {
           "xaxis": {
            "backgroundcolor": "#E5ECF6",
            "gridcolor": "white",
            "gridwidth": 2,
            "linecolor": "white",
            "showbackground": true,
            "ticks": "",
            "zerolinecolor": "white"
           },
           "yaxis": {
            "backgroundcolor": "#E5ECF6",
            "gridcolor": "white",
            "gridwidth": 2,
            "linecolor": "white",
            "showbackground": true,
            "ticks": "",
            "zerolinecolor": "white"
           },
           "zaxis": {
            "backgroundcolor": "#E5ECF6",
            "gridcolor": "white",
            "gridwidth": 2,
            "linecolor": "white",
            "showbackground": true,
            "ticks": "",
            "zerolinecolor": "white"
           }
          },
          "shapedefaults": {
           "line": {
            "color": "#2a3f5f"
           }
          },
          "ternary": {
           "aaxis": {
            "gridcolor": "white",
            "linecolor": "white",
            "ticks": ""
           },
           "baxis": {
            "gridcolor": "white",
            "linecolor": "white",
            "ticks": ""
           },
           "bgcolor": "#E5ECF6",
           "caxis": {
            "gridcolor": "white",
            "linecolor": "white",
            "ticks": ""
           }
          },
          "title": {
           "x": 0.05
          },
          "xaxis": {
           "automargin": true,
           "gridcolor": "white",
           "linecolor": "white",
           "ticks": "",
           "title": {
            "standoff": 15
           },
           "zerolinecolor": "white",
           "zerolinewidth": 2
          },
          "yaxis": {
           "automargin": true,
           "gridcolor": "white",
           "linecolor": "white",
           "ticks": "",
           "title": {
            "standoff": 15
           },
           "zerolinecolor": "white",
           "zerolinewidth": 2
          }
         }
        },
        "title": {
         "font": {
          "size": 24
         },
         "text": "Non-Pathological Treatment Feature Distribution"
        },
        "width": 600
       }
      }
     },
     "metadata": {},
     "output_type": "display_data"
    }
   ],
   "source": [
    "## Pie chart displaying the number of features\n",
    "temp_file = pd.read_csv(MEAN_FEATURES_FILE)\n",
    "\n",
    "## Number of features\n",
    "total_feature_nbr = temp_file.shape[1]\n",
    "\n",
    "## Number of std-related features\n",
    "std_features = temp_file.loc[:, temp_file.columns.str.contains('std')].shape[1]\n",
    "\n",
    "## Number of hindlimb-related features\n",
    "cols = temp_file.loc[:, ~temp_file.columns.str.contains('std')].columns\n",
    "hindlimb_mask = cols.str.lower().str.contains('hindlimb', case=False)\n",
    "step_mask = cols.str.lower().str.contains('step', case=False) & ~cols.str.contains('/s', case=False)\n",
    "limb_mask = cols.str.lower().str.contains('hindpaw|hindfinger|knee|ankle|hip', case=False)\n",
    "meta_mask = cols.str.lower().str.contains('dataset|mouse', case=False)\n",
    "final_mask = hindlimb_mask | step_mask | meta_mask | limb_mask\n",
    "nbr_hindlimb_features = len(cols[final_mask])\n",
    "\n",
    "## Number of mean features that are not inside the hindlimb features\n",
    "nbr_mean_features = total_feature_nbr - std_features - nbr_hindlimb_features\n",
    "hindlimb_cols = cols[final_mask]\n",
    "nbr_at_features = hindlimb_cols[hindlimb_cols.str.contains(' at ', case=False)].shape[0]\n",
    "nbr_during_features = hindlimb_cols[hindlimb_cols.str.contains(' during ', case=False)].shape[0]\n",
    "nbr_step_features = nbr_hindlimb_features - nbr_at_features - nbr_during_features\n",
    "print(total_feature_nbr, std_features, nbr_hindlimb_features, nbr_at_features, nbr_during_features, nbr_step_features)\n",
    "print(f\"Number of analyzed features: {nbr_step_features + nbr_during_features}\")\n",
    "\n",
    "labels = ('STD Features', 'Hindlimb Mean Features', 'Mean Features')\n",
    "sizes = (std_features, nbr_hindlimb_features, nbr_mean_features)\n",
    "\n",
    "feature_fig = go.Figure(data=[go.Pie(labels=labels, values=sizes, pull=[0, 0.2, 0])])\n",
    "feature_fig.update_layout(\n",
    "    title_text=\"Feature Distribution\",\n",
    "    title_font_size=24,\n",
    "    legend_title_text=\"Feature Types\",\n",
    "    legend_title_font_size=18,\n",
    "    # fix aspect ratio\n",
    "    height=400,\n",
    "    width=600\n",
    ")\n",
    "\n",
    "labels = ('Step Features', 'Features at timepoint', 'Feature during phase')\n",
    "sizes = (nbr_step_features, nbr_at_features, nbr_during_features)\n",
    "hindlimb_fig = go.Figure(data=[go.Pie(labels=labels, values=sizes, pull=[0, 0.2, 0])])\n",
    "hindlimb_fig.update_layout(\n",
    "    title_text=\"Hindlimb Feature Distribution\",\n",
    "    title_font_size=24,\n",
    "    legend_title_text=\"Feature Types\",\n",
    "    legend_title_font_size=18,\n",
    "    # fix aspect ratio\n",
    "    height=400,\n",
    "    width=600\n",
    ")\n",
    "\n",
    "labels = ('Improving Lesion Features', 'Worsening Lesion Features', 'Other Lesion Features')\n",
    "sizes = (len(res_df_lesion[res_df_lesion['direction'] == 'towards_healthy']), len(res_df_lesion[res_df_lesion['direction'] == 'away_from_healthy']), len(all_vs_c_df) - len(res_df_lesion))\n",
    "lesion_fig = go.Figure(data=[go.Pie(labels=labels, values=sizes, pull=[0, 0, 0.2])])\n",
    "lesion_fig.update_layout(\n",
    "    title_text=\"Lesion Feature Distribution\",\n",
    "    title_font_size=24,\n",
    "    legend_title_text=\"Feature Types\",\n",
    "    legend_title_font_size=18,\n",
    "    # fix aspect ratio\n",
    "    height=400,\n",
    "    width=600\n",
    ")\n",
    "\n",
    "labels = ('Improving Non-Pathological Treatment Features', 'Worsening Non-Pathological Treatment Features', 'Other Treatment Features')\n",
    "sizes = (len(res_df_treatment[res_df_treatment['direction'] == 'towards_healthy']), len(res_df_treatment[res_df_treatment['direction'] == 'away_from_healthy']), len(healthy_vs_treatment_df) - len(res_df_treatment))\n",
    "treatment_fig = go.Figure(data=[go.Pie(labels=labels, values=sizes, pull=[0, 0, 0.2])])\n",
    "treatment_fig.update_layout(\n",
    "    title_text=\"Non-Pathological Treatment Feature Distribution\",\n",
    "    title_font_size=24,\n",
    "    legend_title_text=\"Feature Types\",\n",
    "    legend_title_font_size=18,\n",
    "    # fix aspect ratio\n",
    "    height=400,\n",
    "    width=600\n",
    ")\n",
    "\n",
    "# feature_fig.write_image(\"feature_distribution_pie_chart.svg\", scale=2)\n",
    "feature_fig.show()\n",
    "\n",
    "# hindlimb_fig.write_image(\"hindlimb_feature_distribution_pie_chart.svg\", scale=2)\n",
    "hindlimb_fig.show()\n",
    "\n",
    "# lesion_fig.write_image(\"lesion_feature_distribution_pie_chart.svg\", scale=2)\n",
    "lesion_fig.show()\n",
    "\n",
    "# treatment_fig.write_image(\"treatment_feature_distribution_pie_chart.svg\", scale=2)\n",
    "treatment_fig.show()"
   ]
  },
  {
   "cell_type": "code",
   "execution_count": 33,
   "id": "264f41d2",
   "metadata": {},
   "outputs": [],
   "source": [
    "from scipy.spatial import distance\n",
    "\n",
    "def compute_mahalanobis_recovery_score(\n",
    "        df_healthy: pd.DataFrame,\n",
    "        df_sick: pd.DataFrame,\n",
    "        df_treatment: pd.DataFrame,\n",
    "        feature_list: list,\n",
    "        debug: bool = False\n",
    "    ) -> pd.DataFrame:\n",
    "    \"\"\"\n",
    "    Compute Mahalanobis distance-based recovery scores for samples in df_treatment.\n",
    "\n",
    "    Returns a dataframe with sample index and recovery score.\n",
    "    \"\"\"\n",
    "    # Subset to common features\n",
    "    scaler = StandardScaler()\n",
    "\n",
    "    X_healthy = df_healthy[feature_list].dropna()\n",
    "    X_healthy = scaler.fit_transform(X_healthy)\n",
    "    X_sick = df_sick[feature_list].dropna()\n",
    "    X_sick = scaler.transform(X_sick)\n",
    "    X_treat = df_treatment[feature_list].dropna()\n",
    "    X_treat = scaler.transform(X_treat)\n",
    "\n",
    "    # Compute pooled covariance matrix (more robust)\n",
    "    X_pool = np.concatenate([X_healthy, X_sick])\n",
    "    cov = np.cov(X_pool.T)\n",
    "    VI = np.linalg.pinv(cov)  # Use pseudo-inverse in case of singularity\n",
    "\n",
    "    # Compute centroids\n",
    "    mean_healthy = X_healthy.mean(axis=0)\n",
    "    mean_sick = X_sick.mean(axis=0)\n",
    "\n",
    "    # Compute recovery score for each treatment sample\n",
    "    recovery_scores = []\n",
    "    for x_vec in X_treat:\n",
    "        d_healthy = distance.mahalanobis(x_vec, mean_healthy, VI)\n",
    "        d_sick = distance.mahalanobis(x_vec, mean_sick, VI)\n",
    "        score = 1 - (d_healthy / (d_sick + d_healthy))\n",
    "        recovery_scores.append(score)\n",
    "\n",
    "    if debug:\n",
    "        print(\"Mean (healthy):\", mean_healthy)\n",
    "        print(\"Mean (sick):\", mean_sick)\n",
    "        print(\"L2 distance between centroids:\", np.linalg.norm(mean_healthy - mean_sick))\n",
    "        eigenvalues = np.linalg.eigvals(cov)\n",
    "        print(\"Covariance matrix eigenvalues:\", eigenvalues)\n",
    "\n",
    "    return pd.DataFrame(recovery_scores, columns=[\"mahalanobis_recovery_score\"])\n",
    "\n",
    "\n",
    "def compute_group_mahalanobis_recovery_score(\n",
    "        df_healthy: pd.DataFrame,\n",
    "        df_sick: pd.DataFrame,\n",
    "        df_treatment: pd.DataFrame,\n",
    "        feature_list: list\n",
    "    ) -> float:\n",
    "    \"\"\"\n",
    "    Computes the Mahalanobis distance-based recovery score using group-level centroids.\n",
    "    Returns a scalar score:\n",
    "      0 = as far from healthy as the sick group,\n",
    "      1 = identical to healthy,\n",
    "      < 0 = worse than sick,\n",
    "      > 1 = beyond healthy.\n",
    "    \"\"\"\n",
    "    # Subset features\n",
    "    scaler = StandardScaler()\n",
    "\n",
    "    X_healthy = df_healthy[feature_list].dropna()\n",
    "    X_healthy = scaler.fit_transform(X_healthy)\n",
    "    X_sick = df_sick[feature_list].dropna()\n",
    "    X_sick = scaler.transform(X_sick)\n",
    "    X_treat = df_treatment[feature_list].dropna()\n",
    "    X_treat = scaler.transform(X_treat)\n",
    "\n",
    "    # Pool for covariance estimation\n",
    "    X_pool = np.concatenate([X_healthy, X_sick])\n",
    "    cov = np.cov(X_pool.T)\n",
    "    VI = np.linalg.pinv(cov)  # Use pseudo-inverse for stability\n",
    "\n",
    "    # Centroids\n",
    "    mean_healthy = X_healthy.mean(axis=0)\n",
    "    mean_sick = X_sick.mean(axis=0)\n",
    "    mean_treatment = X_treat.mean(axis=0)\n",
    "\n",
    "    # Distances\n",
    "    d_sick_to_healthy = distance.mahalanobis(mean_sick, mean_healthy, VI)\n",
    "    d_treatment_to_healthy = distance.mahalanobis(mean_treatment, mean_healthy, VI)\n",
    "\n",
    "    # Avoid division by zero\n",
    "    if d_sick_to_healthy == 0:\n",
    "        return np.nan\n",
    "\n",
    "    # Recovery score\n",
    "    score = 1 - (d_treatment_to_healthy / d_sick_to_healthy)\n",
    "    return score"
   ]
  },
  {
   "cell_type": "code",
   "execution_count": 34,
   "id": "76ed7a5b",
   "metadata": {},
   "outputs": [
    {
     "name": "stdout",
     "output_type": "stream",
     "text": [
      "Distance: 0 = sick, 1 = healthy\n",
      "Healthy (C) distance to CBE: 0.32350912950436916\n",
      "Sick (C) distance to CBE: -0.09425465999448335\n",
      "Treated (E) distance to CBE: -0.5718639949527202\n"
     ]
    }
   ],
   "source": [
    "lesion_features = res_df_lesion['feature'].tolist()\n",
    "treatment_features = res_df_treatment['feature'].tolist()\n",
    "\n",
    "sick_left_hindlimb_control_df = _left_hindlimb_features_df[_left_hindlimb_features_df['Dataset'].str.lower().str.contains('post') &\n",
    "                                                           _left_hindlimb_features_df['Dataset'].str.lower().str.contains('c_')]\n",
    "sick_state = compute_group_mahalanobis_recovery_score(\n",
    "    df_healthy=healthy_left_hindlimb_features_df,\n",
    "    df_sick=sick_left_hindlimb_features_df,\n",
    "    df_treatment=sick_left_hindlimb_control_df,\n",
    "    feature_list=lesion_features,\n",
    ")\n",
    "\n",
    "healthy_left_hindlimb_control_df = _left_hindlimb_features_df[_left_hindlimb_features_df['Dataset'].str.lower().str.contains('pre') &\n",
    "                                                               _left_hindlimb_features_df['Dataset'].str.lower().str.contains('c_')]\n",
    "healthy_state = compute_group_mahalanobis_recovery_score(\n",
    "    df_healthy=healthy_left_hindlimb_features_df,\n",
    "    df_sick=sick_left_hindlimb_features_df,\n",
    "    df_treatment=healthy_left_hindlimb_control_df,\n",
    "    feature_list=lesion_features,\n",
    ")\n",
    "\n",
    "treated_state = compute_group_mahalanobis_recovery_score(\n",
    "    df_healthy=healthy_left_hindlimb_features_df,\n",
    "    df_sick=sick_left_hindlimb_features_df,\n",
    "    df_treatment=treatment_left_hindlimb_features_df,\n",
    "    feature_list=lesion_features,\n",
    ")\n",
    "\n",
    "print(\"Distance: 0 = sick, 1 = healthy\")\n",
    "print(f\"Healthy (C) distance to CBE: {healthy_state}\")\n",
    "print(f\"Sick (C) distance to CBE: {sick_state}\")\n",
    "print(f\"Treated (E) distance to CBE: {treated_state}\")"
   ]
  },
  {
   "cell_type": "code",
   "execution_count": null,
   "id": "ab7dc9f0",
   "metadata": {},
   "outputs": [
    {
     "name": "stdout",
     "output_type": "stream",
     "text": [
      "Number of features: (200, 385)\n",
      "Number of significant features that describe the lesion effect: 33\n",
      "Number selected lesion features affected by the treatment: 16\n",
      "Lesion features affected by the treatment:\n",
      "                                              feature  importance  \\\n",
      "0        Mean angle excursion - rhindlimb - ankle (°)    0.057061   \n",
      "4        Mean phase excursion - rhindlimb - ankle (°)    0.029125   \n",
      "7   Mean step acceleration X during stance - ankle...    0.023246   \n",
      "8   Mean step acceleration X during stance - lHind...    0.020498   \n",
      "14  Mean step acceleration Y during swing - ankle ...    0.012958   \n",
      "\n",
      "    change_score  change_effect_size  combined_rank          direction  \n",
      "0      -7.819830           -0.895282       0.051085  away_from_healthy  \n",
      "4      -6.268268           -0.812637       0.023668  away_from_healthy  \n",
      "7       0.270241            0.570418       0.013260    towards_healthy  \n",
      "8       0.231552            0.408394       0.008371    towards_healthy  \n",
      "14      0.174798            0.483098       0.006260    towards_healthy  \n",
      "Number of features going towards healthy: 9\n",
      "['Mean step acceleration X during stance - ankle (m/s^2)', 'Mean step acceleration X during stance - lHindpaw (m/s^2)', 'Mean step acceleration Y during swing - ankle (m/s^2)', 'Mean step acceleration Y during stance - ankle (m/s^2)', 'Mean step height (m)', 'Mean step jerk Y during stance - lHindfingers (m/s^3)', 'Mean step acceleration X during stance - knee (m/s^2)', 'Mean step acceleration X during stance - lHindfingers (m/s^2)', 'Mean step jerk Y during swing - lHindfingers (m/s^3)']\n",
      "Number of features worsening: 7\n",
      "['Mean angle excursion - rhindlimb - ankle (°)', 'Mean phase excursion - rhindlimb - ankle (°)', 'Mean step velocity X during stance - lHindpaw (m/s)', 'Mean step velocity X during stance - lHindfingers (m/s)', 'Mean step jerk Y during swing - hip (m/s^3)', 'Mean step jerk Y during stance - knee (m/s^3)', 'Mean step velocity Y during swing - ankle (m/s)']\n",
      "\n",
      "Number of significant features affected by the treatment: 58\n",
      "Number of selected features that are not pathological: 15\n",
      "Non-pathological features:                                                feature  importance  \\\n",
      "61    Mean step velocity X during stance - ankle (m/s)    0.003772   \n",
      "75     Mean step velocity X during stance - knee (m/s)    0.003253   \n",
      "102  Mean step acceleration Y during swing - hip (m...    0.002328   \n",
      "172  Mean angle excursion - rhindlimb - lHindfinger...    0.001207   \n",
      "137       Mean step jerk Y during swing - knee (m/s^3)    0.001651   \n",
      "\n",
      "     change_score  change_effect_size  combined_rank          direction  \n",
      "61      -0.025349           -0.822963       0.003104  away_from_healthy  \n",
      "75      -0.024852           -0.667444       0.002171  away_from_healthy  \n",
      "102     -0.177235           -0.849358       0.001977  away_from_healthy  \n",
      "172    -11.444365           -0.922243       0.001113  away_from_healthy  \n",
      "137    -17.026877           -0.650505       0.001074  away_from_healthy  \n",
      "Number of features going towards healthy: 1\n",
      "['Mean step jerk Y during stance - lHindpaw (m/s^3)']\n",
      "Number of features worsening: 14\n",
      "['Mean step velocity X during stance - ankle (m/s)', 'Mean step velocity X during stance - knee (m/s)', 'Mean step acceleration Y during swing - hip (m/s^2)', 'Mean angle excursion - rhindlimb - lHindfingers (°)', 'Mean step jerk Y during swing - knee (m/s^3)', 'Mean step jerk Y during swing - ankle (m/s^3)', 'Mean step jerk Y during stance - ankle (m/s^3)', 'Mean phase excursion - rhindlimb - lHindpaw (°)', 'Mean angle excursion - rhindlimb - lHindpaw (°)', 'Mean step velocity Y during swing - lHindpaw (m/s)', 'Mean step velocity X during swing - lHindfingers (m/s)', 'Mean step acceleration Y during stance - hip (m/s^2)', 'Mean step jerk Y during swing - lHindpaw (m/s^3)', 'Mean step velocity X during swing - lHindpaw (m/s)']\n"
     ]
    }
   ],
   "source": [
    "## 1. whole features (B pre vs C post (lesion), C post vs E post (effect on lesion features)) XXX\n",
    "## 2. features that are illustrative XXX\n",
    "## 3. features that are affected by the treatment but not pathological XXX\n",
    "\n",
    "# B is pre\n",
    "# C is sick\n",
    "# E is treatment\n",
    "\n",
    "# show 2-3 that go well and 2-3 that don't\n",
    "\n",
    "# comparison between B post and C post -> difference in lesion XXX\n",
    "# (for all: pie chart with significant colors + bar plots) XXX\n",
    "# show that all the PRE states are different -> differences between animals XXX\n",
    "# fuse all pre together - B and C post in sick - E post treated -> show that there are few features \n",
    "\n",
    "## Compare the statistically significant results against the e_sick group\n",
    "print(f\"Number of features: {hindlimb_features_df.shape}\")\n",
    "\n",
    "## remove all the features in all_vs_c_df that have ' at ' in the name\n",
    "all_vs_c_df = all_vs_c_df[~all_vs_c_df['feature'].str.contains(' at ', case=False)]\n",
    "print(f\"Number of significant features that describe the lesion effect: {len(all_vs_c_df)}\")\n",
    "\n",
    "res_df_lesion = res_df[res_df['feature'].isin(all_vs_c_df['feature'])]\n",
    "\n",
    "print(f\"Number selected lesion features affected by the treatment: {len(res_df_lesion)}\")\n",
    "print(f\"Lesion features affected by the treatment:\\n{res_df_lesion.head()}\")\n",
    "print(f\"Number of features going towards healthy: {len(res_df_lesion[res_df_lesion['direction'] == 'towards_healthy'])}\")\n",
    "print(res_df_lesion['feature'][res_df_lesion['direction'] == 'towards_healthy'].to_list())\n",
    "print(f\"Number of features worsening: {len(res_df_lesion[res_df_lesion['direction'] == 'away_from_healthy'])}\")\n",
    "print(res_df_lesion['feature'][res_df_lesion['direction'] == 'away_from_healthy'].to_list())\n",
    "\n",
    "## Compare all healthy vs treatment to see non-pathology-related features\n",
    "healthy_vs_treatment_df = all_vs_e_df[~all_vs_e_df['feature'].str.contains(' at ', case=False)]\n",
    "print(f\"\\nNumber of significant features affected by the treatment: {len(healthy_vs_treatment_df)}\")\n",
    "## Remove the features that are in the lesion effect\n",
    "_healthy_vs_treatment_df = healthy_vs_treatment_df[~healthy_vs_treatment_df['feature'].isin(all_vs_c_df['feature'])]\n",
    "\n",
    "res_df_treatment = res_df[res_df['feature'].isin(_healthy_vs_treatment_df['feature'])]\n",
    "print(f\"Number of selected features that are not pathological: {len(res_df_treatment)}\")\n",
    "\n",
    "print(f\"Non-pathological features: {res_df_treatment.head()}\")\n",
    "print(f\"Number of features going towards healthy: {len(res_df_treatment[res_df_treatment['direction'] == 'towards_healthy'])}\")\n",
    "print(res_df_treatment['feature'][res_df_treatment['direction'] == 'towards_healthy'].to_list())\n",
    "print(f\"Number of features worsening: {len(res_df_treatment[res_df_treatment['direction'] == 'away_from_healthy'])}\")\n",
    "print(res_df_treatment['feature'][res_df_treatment['direction'] == 'away_from_healthy'].to_list())\n",
    "\n",
    "# ## Get the number of features that are influenced by the treatment and part of pathology\n",
    "\n",
    "\n",
    "# res_df_lesion.to_csv(os.path.join('./', 'lesion_features_affected_by_treatment.csv'), index=False)\n",
    "# res_df_treatment.to_csv(os.path.join('./', 'non_pathological_features_affected_by_treatment.csv'), index=False)\n",
    "\n",
    "# fig_lesion = plot_features_list_across_groups(\n",
    "#     feature_list=res_df_lesion['feature'].tolist(),\n",
    "#     feature_subsets=feature_subsets,\n",
    "#     limb='hindlimb',\n",
    "#     sides=['left'],  # or ['left', 'right']\n",
    "#     groups=['healthy_left_ALL_', 'sick_left_C_', 'sick_left_E_'] \n",
    "# )\n",
    "\n",
    "# fig_non_path = plot_features_list_across_groups(\n",
    "#     feature_list=res_df_treatment['feature'].tolist(),\n",
    "#     feature_subsets=feature_subsets,\n",
    "#     limb='hindlimb',\n",
    "#     sides=['left'],\n",
    "#     groups=['healthy_left_ALL_', 'sick_left_C_', 'sick_left_E_'] \n",
    "# )\n",
    "\n",
    "# fig_lesion.show()\n",
    "# fig_non_path.show()\n",
    "\n",
    "# fig_lesion.write_image(\"lesion_features.svg\", scale = 2)\n",
    "# fig_non_path.write_image(\"non_pathological_features.svg\", scale = 2)"
   ]
  }
 ],
 "metadata": {
  "kernelspec": {
   "display_name": ".venv",
   "language": "python",
   "name": "python3"
  },
  "language_info": {
   "codemirror_mode": {
    "name": "ipython",
    "version": 3
   },
   "file_extension": ".py",
   "mimetype": "text/x-python",
   "name": "python",
   "nbconvert_exporter": "python",
   "pygments_lexer": "ipython3",
   "version": "3.13.5"
  }
 },
 "nbformat": 4,
 "nbformat_minor": 5
}
